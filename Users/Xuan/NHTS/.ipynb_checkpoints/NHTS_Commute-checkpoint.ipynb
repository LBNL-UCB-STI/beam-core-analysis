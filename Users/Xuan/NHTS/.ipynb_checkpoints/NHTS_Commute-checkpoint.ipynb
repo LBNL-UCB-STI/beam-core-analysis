{
 "cells": [
  {
   "cell_type": "code",
   "execution_count": 1,
   "id": "c0d083bb",
   "metadata": {},
   "outputs": [],
   "source": [
    "import pandas as pd\n",
    "import numpy as np\n",
    "import scipy.ndimage\n",
    "pd.set_option('display.max_column', None)"
   ]
  },
  {
   "cell_type": "code",
   "execution_count": 2,
   "id": "71d98283",
   "metadata": {},
   "outputs": [],
   "source": [
    "trips_all = pd.read_csv('https://beam-outputs.s3.amazonaws.com/new_city/nhts/trippub.csv.gz',\n",
    "                    usecols=[0, 1, 2, 3, 4, 5, 6, 7, 17, 26, 28, 58, 59, 60, 61, 64, 69, 70, 71, 72, 73, 74, 84, 89, 93,\n",
    "                             102, 103])\n",
    "persons_all = pd.read_csv('https://beam-outputs.s3.amazonaws.com/new_city/nhts/perpub.csv.gz')\n",
    "actnames = {1:'Home',2:'Home',3:'Work',8:'Work',11:'Shopping',12:'Shopping',13:'Meal',15:'SocRec',16:'SocRec',17:'SocRec',19:'SocRec'}\n",
    "modenames = {1:'Walk',2:'Bike',3:'Car',4:'Car',5:'Car',6:'Car',7:'Car',8:'Car',9:'Car',10:'Bus',11:'Bus',13:'Bus',14:'Bus',15:'Rail',16:'Rail',17:'Ridehail',18:'Rental Car'}"
   ]
  },
  {
   "cell_type": "code",
   "execution_count": 3,
   "id": "2fd0ab90",
   "metadata": {},
   "outputs": [],
   "source": [
    "def label_commuter(row):\n",
    "    if (row['WHYTO'] == 'Home' and row['WHYFROM'] == 'Work') or (row['WHYTO'] == 'Work' and row['WHYFROM'] == 'Home'):\n",
    "        return 'Commuter'\n",
    "    return 'Non-Commuter'"
   ]
  },
  {
   "cell_type": "code",
   "execution_count": 4,
   "id": "29f840d6",
   "metadata": {},
   "outputs": [],
   "source": [
    "\n",
    "trips = trips_all.copy()\n",
    "trips.replace({'WHYTO' : actnames, 'WHYFROM' : actnames}, inplace=True)\n",
    "# TDWKND 2 means not on weekend\n",
    "# TRPTRANS is Transportation mode used on trip (as reported by respondent), 19 = Taxicab\n",
    "valid = (trips.TRPMILES > 0) & (trips.TDWKND == 2) & (trips.TRPTRANS != 19) & (trips.ENDTIME > trips.STRTTIME)\n",
    "\n",
    "trips = trips.loc[valid, :]\n",
    "trips['UniquePID'] = trips.HOUSEID * 100 + trips.PERSONID\n",
    "trips['startHour'] = np.floor(trips.STRTTIME / 100) + np.mod(trips.STRTTIME, 100) / 60\n",
    "trips['endHour'] = np.floor(trips.ENDTIME / 100) + np.mod(trips.ENDTIME, 100) / 60\n",
    "trips['toWork'] = (trips.WHYTO == 3) | (trips.WHYTO == 4)\n",
    "trips['fromWork'] = (trips.WHYFROM == 3) | (trips.WHYFROM == 4)\n",
    "trips['fromHome'] = (trips.WHYFROM == 1)\n",
    "trips['toHome'] = (trips.WHYTO == 1)\n",
    "trips['commuter'] = trips.apply(lambda row: label_commuter(row), axis=1)"
   ]
  },
  {
   "cell_type": "code",
   "execution_count": 5,
   "id": "53b0cd40",
   "metadata": {},
   "outputs": [],
   "source": [
    "def getActivities(trips):\n",
    "    commuter = trips['commuter'].values\n",
    "    startTimes = trips.startHour.values\n",
    "    endTimes = trips.endHour.values\n",
    "    durations = endTimes - startTimes\n",
    "    weights = trips.WTTRDFIN.values\n",
    "    return pd.DataFrame({'commuter': commuter, 'startTime':startTimes,'endTime':endTimes,'duration':durations,'weight':weights})"
   ]
  },
  {
   "cell_type": "code",
   "execution_count": 6,
   "id": "a4463466",
   "metadata": {},
   "outputs": [],
   "source": [
    "out = trips.groupby('UniquePID').apply(getActivities)\n",
    "out = out[out['startTime'] >= 0]"
   ]
  },
  {
   "cell_type": "code",
   "execution_count": 10,
   "id": "81c177d2",
   "metadata": {},
   "outputs": [],
   "source": [
    "out.reset_index(inplace=True)"
   ]
  },
  {
   "cell_type": "code",
   "execution_count": 11,
   "id": "13fde8da",
   "metadata": {},
   "outputs": [],
   "source": [
    "commuters = ['Non-Commuter', 'Commuter']"
   ]
  },
  {
   "cell_type": "code",
   "execution_count": 12,
   "id": "e3215219",
   "metadata": {},
   "outputs": [],
   "source": [
    "intercepts = dict()"
   ]
  },
  {
   "cell_type": "code",
   "execution_count": 13,
   "id": "28ab7bb1",
   "metadata": {},
   "outputs": [],
   "source": [
    "nPeople = trips.drop_duplicates('UniquePID').WTTRDFIN.sum()"
   ]
  },
  {
   "cell_type": "code",
   "execution_count": 16,
   "id": "e551a25a",
   "metadata": {},
   "outputs": [],
   "source": [
    "for commuter in commuters:\n",
    "    counts, bins = np.histogram(out.loc[out.commuter == commuter,'startTime'],range(26), weights = out.loc[out.commuter == commuter,'weight'])\n",
    "    counts = counts / nPeople\n",
    "    counts[counts < 0.015] = 0.0\n",
    "    intercepts[commuter] = counts"
   ]
  },
  {
   "cell_type": "code",
   "execution_count": 18,
   "id": "9c549a51",
   "metadata": {},
   "outputs": [
    {
     "data": {
      "text/plain": [
       "{'Non-Commuter': array([0.        , 0.        , 0.        , 0.        , 0.        ,\n",
       "        0.02386912, 0.07306456, 0.18865399, 0.18093384, 0.17184936,\n",
       "        0.1949453 , 0.22565354, 0.23801518, 0.21471412, 0.23052745,\n",
       "        0.26057108, 0.25397436, 0.25825961, 0.17779957, 0.1240568 ,\n",
       "        0.09346444, 0.05239403, 0.02735857, 0.        , 0.        ]),\n",
       " 'Commuter': array([0.        , 0.        , 0.        , 0.        , 0.        ,\n",
       "        0.03160117, 0.08378839, 0.17007496, 0.08903408, 0.03012353,\n",
       "        0.        , 0.01591917, 0.02457478, 0.02365707, 0.05276411,\n",
       "        0.08854664, 0.0765296 , 0.08210215, 0.03085678, 0.01546948,\n",
       "        0.        , 0.        , 0.        , 0.        , 0.        ])}"
      ]
     },
     "execution_count": 18,
     "metadata": {},
     "output_type": "execute_result"
    }
   ],
   "source": [
    "intercepts"
   ]
  },
  {
   "cell_type": "code",
   "execution_count": 19,
   "id": "d250093f",
   "metadata": {},
   "outputs": [],
   "source": [
    "def getCommuters(activities):\n",
    "    activities.reset_index(inplace=True)\n",
    "    commuters = ['Non-Commuter', 'Commuter']\n",
    "    intercepts = dict()\n",
    "    nPeople = trips.drop_duplicates('UniquePID').WTTRDFIN.sum()\n",
    "    for commuter in commuters:\n",
    "        counts, bins = np.histogram(activities.loc[activities.commuter == commuter,'startTime'],range(26), weights = activities.loc[activities.commuter == commuter,'weight'])\n",
    "        counts = counts / nPeople\n",
    "        counts[counts < 0.015] = 0.0\n",
    "        intercepts[commuter] = counts\n",
    "    df = pd.DataFrame(intercepts, columns=commuters)\n",
    "    df.index.name = 'Hour'\n",
    "    return df"
   ]
  },
  {
   "cell_type": "code",
   "execution_count": 20,
   "id": "96509dc8",
   "metadata": {},
   "outputs": [],
   "source": [
    "intercepts = getCommuters(out)"
   ]
  },
  {
   "cell_type": "code",
   "execution_count": 22,
   "id": "eaaee55f",
   "metadata": {},
   "outputs": [],
   "source": []
  },
  {
   "cell_type": "code",
   "execution_count": 1,
   "id": "0f49a30a",
   "metadata": {},
   "outputs": [
    {
     "ename": "NameError",
     "evalue": "name 'getIntercepts' is not defined",
     "output_type": "error",
     "traceback": [
      "\u001b[0;31m---------------------------------------------------------------------------\u001b[0m",
      "\u001b[0;31mNameError\u001b[0m                                 Traceback (most recent call last)",
      "\u001b[0;32m/var/folders/z4/5gq1j4sn50b62w40lgwsthh80000gn/T/ipykernel_13731/201391649.py\u001b[0m in \u001b[0;36m<module>\u001b[0;34m\u001b[0m\n\u001b[1;32m      1\u001b[0m \u001b[0;32mfor\u001b[0m \u001b[0mcbsa\u001b[0m \u001b[0;32min\u001b[0m \u001b[0;34m[\u001b[0m\u001b[0;34m'12420'\u001b[0m\u001b[0;34m,\u001b[0m\u001b[0;34m'41860'\u001b[0m\u001b[0;34m]\u001b[0m\u001b[0;34m:\u001b[0m\u001b[0;34m\u001b[0m\u001b[0;34m\u001b[0m\u001b[0m\n\u001b[0;32m----> 2\u001b[0;31m     \u001b[0mintercepts\u001b[0m \u001b[0;34m=\u001b[0m \u001b[0mgetIntercepts\u001b[0m\u001b[0;34m(\u001b[0m\u001b[0mout\u001b[0m\u001b[0;34m)\u001b[0m\u001b[0;34m\u001b[0m\u001b[0;34m\u001b[0m\u001b[0m\n\u001b[0m\u001b[1;32m      3\u001b[0m     \u001b[0mintercepts\u001b[0m\u001b[0;34m.\u001b[0m\u001b[0mto_csv\u001b[0m\u001b[0;34m(\u001b[0m\u001b[0;34m'outputs/commuters_intercepts-'\u001b[0m \u001b[0;34m+\u001b[0m \u001b[0mcbsa\u001b[0m \u001b[0;34m+\u001b[0m \u001b[0;34m'.csv'\u001b[0m\u001b[0;34m)\u001b[0m\u001b[0;34m\u001b[0m\u001b[0;34m\u001b[0m\u001b[0m\n",
      "\u001b[0;31mNameError\u001b[0m: name 'getIntercepts' is not defined"
     ]
    }
   ],
   "source": [
    "for cbsa in ['12420','41860']:\n",
    "    intercepts = getIntercepts(out)\n",
    "    intercepts.to_csv('outputs/commuters_intercepts-' + cbsa + '.csv')"
   ]
  },
  {
   "cell_type": "code",
   "execution_count": null,
   "id": "c03c1196",
   "metadata": {},
   "outputs": [],
   "source": []
  }
 ],
 "metadata": {
  "kernelspec": {
   "display_name": "Python 3 (ipykernel)",
   "language": "python",
   "name": "python3"
  },
  "language_info": {
   "codemirror_mode": {
    "name": "ipython",
    "version": 3
   },
   "file_extension": ".py",
   "mimetype": "text/x-python",
   "name": "python",
   "nbconvert_exporter": "python",
   "pygments_lexer": "ipython3",
   "version": "3.9.9"
  }
 },
 "nbformat": 4,
 "nbformat_minor": 5
}
