{
 "cells": [
  {
   "cell_type": "code",
   "execution_count": 1,
   "id": "71891301",
   "metadata": {},
   "outputs": [],
   "source": [
    "import pandas as pd"
   ]
  },
  {
   "cell_type": "code",
   "execution_count": 2,
   "id": "df4f5e2b",
   "metadata": {},
   "outputs": [],
   "source": [
    "households = pd.read_csv('final_households.csv')"
   ]
  },
  {
   "cell_type": "code",
   "execution_count": 6,
   "id": "80c56c9e",
   "metadata": {},
   "outputs": [],
   "source": [
    "households.to_csv('households.csv.gz')"
   ]
  },
  {
   "cell_type": "code",
   "execution_count": 3,
   "id": "52b7adc5",
   "metadata": {},
   "outputs": [],
   "source": [
    "persons = pd.read_csv('final_persons.csv')"
   ]
  },
  {
   "cell_type": "code",
   "execution_count": 7,
   "id": "e2cb3589",
   "metadata": {},
   "outputs": [],
   "source": [
    "persons.to_csv('persons.csv.gz')"
   ]
  },
  {
   "cell_type": "code",
   "execution_count": 4,
   "id": "0c25ca7b",
   "metadata": {},
   "outputs": [],
   "source": [
    "trips = pd.read_csv('final_trips.csv')"
   ]
  },
  {
   "cell_type": "code",
   "execution_count": 8,
   "id": "b2d8b3a0",
   "metadata": {},
   "outputs": [],
   "source": [
    "trips.to_csv('trips.csv.gz')"
   ]
  },
  {
   "cell_type": "code",
   "execution_count": 9,
   "id": "9768239e",
   "metadata": {},
   "outputs": [],
   "source": [
    "plans = pd.read_csv('final_plans.csv')"
   ]
  },
  {
   "cell_type": "code",
   "execution_count": 10,
   "id": "dedb2ca6",
   "metadata": {},
   "outputs": [],
   "source": [
    "plans.to_csv('plans.csv.gz')"
   ]
  },
  {
   "cell_type": "code",
   "execution_count": null,
   "id": "c884eb86",
   "metadata": {},
   "outputs": [],
   "source": []
  }
 ],
 "metadata": {
  "kernelspec": {
   "display_name": "Python 3 (ipykernel)",
   "language": "python",
   "name": "python3"
  },
  "language_info": {
   "codemirror_mode": {
    "name": "ipython",
    "version": 3
   },
   "file_extension": ".py",
   "mimetype": "text/x-python",
   "name": "python",
   "nbconvert_exporter": "python",
   "pygments_lexer": "ipython3",
   "version": "3.9.9"
  }
 },
 "nbformat": 4,
 "nbformat_minor": 5
}
