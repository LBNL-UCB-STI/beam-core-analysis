{
 "cells": [
  {
   "cell_type": "code",
   "execution_count": 11,
   "id": "30d02595",
   "metadata": {},
   "outputs": [],
   "source": [
    "import pandas as pd\n",
    "from pandas import DataFrame"
   ]
  },
  {
   "cell_type": "code",
   "execution_count": 12,
   "id": "990d3823",
   "metadata": {},
   "outputs": [],
   "source": [
    "skimsTransitCrowding = pd.read_csv('1.String _ skimsTransitCrowding.csv.gz')"
   ]
  },
  {
   "cell_type": "code",
   "execution_count": 13,
   "id": "599e5e66",
   "metadata": {},
   "outputs": [],
   "source": [
    "overloadedMOde = skimsTransitCrowding[skimsTransitCrowding['capacity'] <= skimsTransitCrowding['numberOfPassengers']]"
   ]
  },
  {
   "cell_type": "code",
   "execution_count": 14,
   "id": "169c1388",
   "metadata": {},
   "outputs": [],
   "source": [
    "pd.DataFrame(overloadedMOde['vehicleId'].unique().tolist()).to_csv('out/vehicleId.csv')"
   ]
  },
  {
   "cell_type": "code",
   "execution_count": 21,
   "id": "94d137f8",
   "metadata": {},
   "outputs": [
    {
     "data": {
      "text/plain": [
       "13        SF\n",
       "86        VT\n",
       "173       SF\n",
       "182       VT\n",
       "199       SF\n",
       "          ..\n",
       "103003    VT\n",
       "103024    VT\n",
       "103129    SF\n",
       "103141    VT\n",
       "103277    SF\n",
       "Name: vehicleId, Length: 3465, dtype: object"
      ]
     },
     "execution_count": 21,
     "metadata": {},
     "output_type": "execute_result"
    }
   ],
   "source": [
    "overloadedMOde['vehicleId'].str[:2]"
   ]
  },
  {
   "cell_type": "code",
   "execution_count": 24,
   "id": "983537e2",
   "metadata": {},
   "outputs": [
    {
     "data": {
      "text/html": [
       "<div>\n",
       "<style scoped>\n",
       "    .dataframe tbody tr th:only-of-type {\n",
       "        vertical-align: middle;\n",
       "    }\n",
       "\n",
       "    .dataframe tbody tr th {\n",
       "        vertical-align: top;\n",
       "    }\n",
       "\n",
       "    .dataframe thead th {\n",
       "        text-align: right;\n",
       "    }\n",
       "</style>\n",
       "<table border=\"1\" class=\"dataframe\">\n",
       "  <thead>\n",
       "    <tr style=\"text-align: right;\">\n",
       "      <th></th>\n",
       "      <th>vehicleId</th>\n",
       "      <th>fromStopIdx</th>\n",
       "      <th>numberOfPassengers</th>\n",
       "      <th>capacity</th>\n",
       "      <th>observations</th>\n",
       "      <th>iterations</th>\n",
       "      <th>firstTwo</th>\n",
       "    </tr>\n",
       "  </thead>\n",
       "  <tbody>\n",
       "    <tr>\n",
       "      <th>13</th>\n",
       "      <td>SF:7628772</td>\n",
       "      <td>1</td>\n",
       "      <td>22</td>\n",
       "      <td>22</td>\n",
       "      <td>1</td>\n",
       "      <td>1</td>\n",
       "      <td>SF</td>\n",
       "    </tr>\n",
       "    <tr>\n",
       "      <th>86</th>\n",
       "      <td>VT:2223873</td>\n",
       "      <td>11</td>\n",
       "      <td>28</td>\n",
       "      <td>28</td>\n",
       "      <td>1</td>\n",
       "      <td>1</td>\n",
       "      <td>VT</td>\n",
       "    </tr>\n",
       "    <tr>\n",
       "      <th>173</th>\n",
       "      <td>SF:7679401</td>\n",
       "      <td>10</td>\n",
       "      <td>28</td>\n",
       "      <td>28</td>\n",
       "      <td>1</td>\n",
       "      <td>1</td>\n",
       "      <td>SF</td>\n",
       "    </tr>\n",
       "    <tr>\n",
       "      <th>182</th>\n",
       "      <td>VT:2222849</td>\n",
       "      <td>23</td>\n",
       "      <td>28</td>\n",
       "      <td>28</td>\n",
       "      <td>1</td>\n",
       "      <td>1</td>\n",
       "      <td>VT</td>\n",
       "    </tr>\n",
       "    <tr>\n",
       "      <th>199</th>\n",
       "      <td>SF:7634384</td>\n",
       "      <td>18</td>\n",
       "      <td>28</td>\n",
       "      <td>28</td>\n",
       "      <td>1</td>\n",
       "      <td>1</td>\n",
       "      <td>SF</td>\n",
       "    </tr>\n",
       "    <tr>\n",
       "      <th>...</th>\n",
       "      <td>...</td>\n",
       "      <td>...</td>\n",
       "      <td>...</td>\n",
       "      <td>...</td>\n",
       "      <td>...</td>\n",
       "      <td>...</td>\n",
       "      <td>...</td>\n",
       "    </tr>\n",
       "    <tr>\n",
       "      <th>103003</th>\n",
       "      <td>VT:2223883</td>\n",
       "      <td>14</td>\n",
       "      <td>28</td>\n",
       "      <td>28</td>\n",
       "      <td>1</td>\n",
       "      <td>1</td>\n",
       "      <td>VT</td>\n",
       "    </tr>\n",
       "    <tr>\n",
       "      <th>103024</th>\n",
       "      <td>VT:2222891</td>\n",
       "      <td>7</td>\n",
       "      <td>28</td>\n",
       "      <td>28</td>\n",
       "      <td>1</td>\n",
       "      <td>1</td>\n",
       "      <td>VT</td>\n",
       "    </tr>\n",
       "    <tr>\n",
       "      <th>103129</th>\n",
       "      <td>SF:7679460</td>\n",
       "      <td>20</td>\n",
       "      <td>28</td>\n",
       "      <td>28</td>\n",
       "      <td>1</td>\n",
       "      <td>1</td>\n",
       "      <td>SF</td>\n",
       "    </tr>\n",
       "    <tr>\n",
       "      <th>103141</th>\n",
       "      <td>VT:2223793</td>\n",
       "      <td>27</td>\n",
       "      <td>28</td>\n",
       "      <td>28</td>\n",
       "      <td>1</td>\n",
       "      <td>1</td>\n",
       "      <td>VT</td>\n",
       "    </tr>\n",
       "    <tr>\n",
       "      <th>103277</th>\n",
       "      <td>SF:7631637</td>\n",
       "      <td>0</td>\n",
       "      <td>22</td>\n",
       "      <td>22</td>\n",
       "      <td>1</td>\n",
       "      <td>1</td>\n",
       "      <td>SF</td>\n",
       "    </tr>\n",
       "  </tbody>\n",
       "</table>\n",
       "<p>3465 rows × 7 columns</p>\n",
       "</div>"
      ],
      "text/plain": [
       "         vehicleId  fromStopIdx  numberOfPassengers  capacity  observations  \\\n",
       "13      SF:7628772            1                  22        22             1   \n",
       "86      VT:2223873           11                  28        28             1   \n",
       "173     SF:7679401           10                  28        28             1   \n",
       "182     VT:2222849           23                  28        28             1   \n",
       "199     SF:7634384           18                  28        28             1   \n",
       "...            ...          ...                 ...       ...           ...   \n",
       "103003  VT:2223883           14                  28        28             1   \n",
       "103024  VT:2222891            7                  28        28             1   \n",
       "103129  SF:7679460           20                  28        28             1   \n",
       "103141  VT:2223793           27                  28        28             1   \n",
       "103277  SF:7631637            0                  22        22             1   \n",
       "\n",
       "        iterations firstTwo  \n",
       "13               1       SF  \n",
       "86               1       VT  \n",
       "173              1       SF  \n",
       "182              1       VT  \n",
       "199              1       SF  \n",
       "...            ...      ...  \n",
       "103003           1       VT  \n",
       "103024           1       VT  \n",
       "103129           1       SF  \n",
       "103141           1       VT  \n",
       "103277           1       SF  \n",
       "\n",
       "[3465 rows x 7 columns]"
      ]
     },
     "execution_count": 24,
     "metadata": {},
     "output_type": "execute_result"
    }
   ],
   "source": [
    "overloadedMOde"
   ]
  },
  {
   "cell_type": "code",
   "execution_count": 22,
   "id": "6ddd60c7",
   "metadata": {},
   "outputs": [
    {
     "name": "stderr",
     "output_type": "stream",
     "text": [
      "/var/folders/z4/5gq1j4sn50b62w40lgwsthh80000gn/T/ipykernel_1070/4101591319.py:1: SettingWithCopyWarning: \n",
      "A value is trying to be set on a copy of a slice from a DataFrame.\n",
      "Try using .loc[row_indexer,col_indexer] = value instead\n",
      "\n",
      "See the caveats in the documentation: https://pandas.pydata.org/pandas-docs/stable/user_guide/indexing.html#returning-a-view-versus-a-copy\n",
      "  overloadedMOde['firstTwo'] = overloadedMOde['vehicleId'].str[:2]\n"
     ]
    }
   ],
   "source": [
    "overloadedMOde['firstTwo'] = overloadedMOde['vehicleId'].str[:2]"
   ]
  },
  {
   "cell_type": "code",
   "execution_count": 23,
   "id": "163ebfdc",
   "metadata": {},
   "outputs": [
    {
     "data": {
      "text/html": [
       "<div>\n",
       "<style scoped>\n",
       "    .dataframe tbody tr th:only-of-type {\n",
       "        vertical-align: middle;\n",
       "    }\n",
       "\n",
       "    .dataframe tbody tr th {\n",
       "        vertical-align: top;\n",
       "    }\n",
       "\n",
       "    .dataframe thead th {\n",
       "        text-align: right;\n",
       "    }\n",
       "</style>\n",
       "<table border=\"1\" class=\"dataframe\">\n",
       "  <thead>\n",
       "    <tr style=\"text-align: right;\">\n",
       "      <th></th>\n",
       "      <th>vehicleId</th>\n",
       "      <th>fromStopIdx</th>\n",
       "      <th>numberOfPassengers</th>\n",
       "      <th>capacity</th>\n",
       "      <th>observations</th>\n",
       "      <th>iterations</th>\n",
       "    </tr>\n",
       "    <tr>\n",
       "      <th>firstTwo</th>\n",
       "      <th></th>\n",
       "      <th></th>\n",
       "      <th></th>\n",
       "      <th></th>\n",
       "      <th></th>\n",
       "      <th></th>\n",
       "    </tr>\n",
       "  </thead>\n",
       "  <tbody>\n",
       "    <tr>\n",
       "      <th>BA</th>\n",
       "      <td>153</td>\n",
       "      <td>153</td>\n",
       "      <td>153</td>\n",
       "      <td>153</td>\n",
       "      <td>153</td>\n",
       "      <td>153</td>\n",
       "    </tr>\n",
       "    <tr>\n",
       "      <th>SF</th>\n",
       "      <td>815</td>\n",
       "      <td>815</td>\n",
       "      <td>815</td>\n",
       "      <td>815</td>\n",
       "      <td>815</td>\n",
       "      <td>815</td>\n",
       "    </tr>\n",
       "    <tr>\n",
       "      <th>VT</th>\n",
       "      <td>2497</td>\n",
       "      <td>2497</td>\n",
       "      <td>2497</td>\n",
       "      <td>2497</td>\n",
       "      <td>2497</td>\n",
       "      <td>2497</td>\n",
       "    </tr>\n",
       "  </tbody>\n",
       "</table>\n",
       "</div>"
      ],
      "text/plain": [
       "          vehicleId  fromStopIdx  numberOfPassengers  capacity  observations  \\\n",
       "firstTwo                                                                       \n",
       "BA              153          153                 153       153           153   \n",
       "SF              815          815                 815       815           815   \n",
       "VT             2497         2497                2497      2497          2497   \n",
       "\n",
       "          iterations  \n",
       "firstTwo              \n",
       "BA               153  \n",
       "SF               815  \n",
       "VT              2497  "
      ]
     },
     "execution_count": 23,
     "metadata": {},
     "output_type": "execute_result"
    }
   ],
   "source": [
    "overloadedMOde.groupby('firstTwo').count()"
   ]
  },
  {
   "cell_type": "code",
   "execution_count": 25,
   "id": "23337fc7",
   "metadata": {},
   "outputs": [
    {
     "name": "stderr",
     "output_type": "stream",
     "text": [
      "/opt/anaconda3/lib/python3.8/site-packages/IPython/core/interactiveshell.py:3172: DtypeWarning: Columns (0,3,6,7,8,9,10,13,17,20,21,22,23,27,41,43,44,49,51,53) have mixed types.Specify dtype option on import or set low_memory=False.\n",
      "  has_raised = await self.run_ast_nodes(code_ast.body, cell_name,\n"
     ]
    }
   ],
   "source": [
    "events = pd.read_csv('1.events.csv.gz')"
   ]
  },
  {
   "cell_type": "code",
   "execution_count": null,
   "id": "6a3d096f",
   "metadata": {},
   "outputs": [],
   "source": [
    "pathTraversal = events[]"
   ]
  }
 ],
 "metadata": {
  "kernelspec": {
   "display_name": "Python 3 (ipykernel)",
   "language": "python",
   "name": "python3"
  },
  "language_info": {
   "codemirror_mode": {
    "name": "ipython",
    "version": 3
   },
   "file_extension": ".py",
   "mimetype": "text/x-python",
   "name": "python",
   "nbconvert_exporter": "python",
   "pygments_lexer": "ipython3",
   "version": "3.9.9"
  }
 },
 "nbformat": 4,
 "nbformat_minor": 5
}
