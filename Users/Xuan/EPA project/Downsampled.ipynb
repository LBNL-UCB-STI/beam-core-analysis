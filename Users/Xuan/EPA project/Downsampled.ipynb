{
 "cells": [
  {
   "cell_type": "code",
   "execution_count": 1,
   "id": "f84161b3-4f9f-406b-b6dc-8643b850d90d",
   "metadata": {},
   "outputs": [
    {
     "name": "stdout",
     "output_type": "stream",
     "text": [
      "selected_persons.csv.gz\n"
     ]
    },
    {
     "data": {
      "text/html": [
       "<div>\n",
       "<style scoped>\n",
       "    .dataframe tbody tr th:only-of-type {\n",
       "        vertical-align: middle;\n",
       "    }\n",
       "\n",
       "    .dataframe tbody tr th {\n",
       "        vertical-align: top;\n",
       "    }\n",
       "\n",
       "    .dataframe thead th {\n",
       "        text-align: right;\n",
       "    }\n",
       "</style>\n",
       "<table border=\"1\" class=\"dataframe\">\n",
       "  <thead>\n",
       "    <tr style=\"text-align: right;\">\n",
       "      <th></th>\n",
       "      <th>Unnamed: 0.1</th>\n",
       "      <th>person_id</th>\n",
       "      <th>Unnamed: 0</th>\n",
       "      <th>earning</th>\n",
       "      <th>worker</th>\n",
       "      <th>student</th>\n",
       "      <th>hispanic.1</th>\n",
       "      <th>person_sex</th>\n",
       "      <th>PNUM</th>\n",
       "      <th>sex</th>\n",
       "      <th>...</th>\n",
       "      <th>num_joint_tours</th>\n",
       "      <th>non_mandatory_tour_frequency</th>\n",
       "      <th>num_non_mand</th>\n",
       "      <th>num_escort_tours</th>\n",
       "      <th>num_eatout_tours</th>\n",
       "      <th>num_shop_tours</th>\n",
       "      <th>num_maint_tours</th>\n",
       "      <th>num_discr_tours</th>\n",
       "      <th>num_social_tours</th>\n",
       "      <th>num_non_escort_tours</th>\n",
       "    </tr>\n",
       "  </thead>\n",
       "  <tbody>\n",
       "    <tr>\n",
       "      <th>0</th>\n",
       "      <td>0</td>\n",
       "      <td>0</td>\n",
       "      <td>0</td>\n",
       "      <td>116000.0</td>\n",
       "      <td>1</td>\n",
       "      <td>0</td>\n",
       "      <td>0</td>\n",
       "      <td>female</td>\n",
       "      <td>1</td>\n",
       "      <td>2</td>\n",
       "      <td>...</td>\n",
       "      <td>0</td>\n",
       "      <td>16</td>\n",
       "      <td>1</td>\n",
       "      <td>0</td>\n",
       "      <td>0</td>\n",
       "      <td>1</td>\n",
       "      <td>0</td>\n",
       "      <td>0</td>\n",
       "      <td>0</td>\n",
       "      <td>1</td>\n",
       "    </tr>\n",
       "    <tr>\n",
       "      <th>1</th>\n",
       "      <td>1</td>\n",
       "      <td>6</td>\n",
       "      <td>1223</td>\n",
       "      <td>55000.0</td>\n",
       "      <td>1</td>\n",
       "      <td>0</td>\n",
       "      <td>0</td>\n",
       "      <td>male</td>\n",
       "      <td>3</td>\n",
       "      <td>1</td>\n",
       "      <td>...</td>\n",
       "      <td>0</td>\n",
       "      <td>0</td>\n",
       "      <td>0</td>\n",
       "      <td>0</td>\n",
       "      <td>0</td>\n",
       "      <td>0</td>\n",
       "      <td>0</td>\n",
       "      <td>0</td>\n",
       "      <td>0</td>\n",
       "      <td>0</td>\n",
       "    </tr>\n",
       "  </tbody>\n",
       "</table>\n",
       "<p>2 rows × 85 columns</p>\n",
       "</div>"
      ],
      "text/plain": [
       "   Unnamed: 0.1  person_id  Unnamed: 0   earning  worker  student  hispanic.1  \\\n",
       "0             0          0           0  116000.0       1        0           0   \n",
       "1             1          6        1223   55000.0       1        0           0   \n",
       "\n",
       "  person_sex  PNUM  sex  ...  num_joint_tours  non_mandatory_tour_frequency  \\\n",
       "0     female     1    2  ...                0                            16   \n",
       "1       male     3    1  ...                0                             0   \n",
       "\n",
       "   num_non_mand num_escort_tours  num_eatout_tours  num_shop_tours  \\\n",
       "0             1                0                 0               1   \n",
       "1             0                0                 0               0   \n",
       "\n",
       "   num_maint_tours num_discr_tours  num_social_tours  num_non_escort_tours  \n",
       "0                0               0                 0                     1  \n",
       "1                0               0                 0                     0  \n",
       "\n",
       "[2 rows x 85 columns]"
      ]
     },
     "metadata": {},
     "output_type": "display_data"
    },
    {
     "name": "stdout",
     "output_type": "stream",
     "text": [
      "selected_plans.csv.gz\n"
     ]
    },
    {
     "data": {
      "text/html": [
       "<div>\n",
       "<style scoped>\n",
       "    .dataframe tbody tr th:only-of-type {\n",
       "        vertical-align: middle;\n",
       "    }\n",
       "\n",
       "    .dataframe tbody tr th {\n",
       "        vertical-align: top;\n",
       "    }\n",
       "\n",
       "    .dataframe thead th {\n",
       "        text-align: right;\n",
       "    }\n",
       "</style>\n",
       "<table border=\"1\" class=\"dataframe\">\n",
       "  <thead>\n",
       "    <tr style=\"text-align: right;\">\n",
       "      <th></th>\n",
       "      <th>Unnamed: 0</th>\n",
       "      <th>trip_id</th>\n",
       "      <th>person_id</th>\n",
       "      <th>number_of_participants</th>\n",
       "      <th>trip_mode</th>\n",
       "      <th>PlanElementIndex</th>\n",
       "      <th>ActivityElement</th>\n",
       "      <th>ActivityType</th>\n",
       "      <th>x</th>\n",
       "      <th>y</th>\n",
       "      <th>departure_time</th>\n",
       "    </tr>\n",
       "  </thead>\n",
       "  <tbody>\n",
       "    <tr>\n",
       "      <th>0</th>\n",
       "      <td>0</td>\n",
       "      <td>NaN</td>\n",
       "      <td>0.0</td>\n",
       "      <td>NaN</td>\n",
       "      <td>NaN</td>\n",
       "      <td>1</td>\n",
       "      <td>activity</td>\n",
       "      <td>Home</td>\n",
       "      <td>-122.237696</td>\n",
       "      <td>37.861152</td>\n",
       "      <td>7.136</td>\n",
       "    </tr>\n",
       "    <tr>\n",
       "      <th>1</th>\n",
       "      <td>1</td>\n",
       "      <td>313.0</td>\n",
       "      <td>0.0</td>\n",
       "      <td>1.0</td>\n",
       "      <td>DRIVEALONEFREE</td>\n",
       "      <td>2</td>\n",
       "      <td>leg</td>\n",
       "      <td>NaN</td>\n",
       "      <td>NaN</td>\n",
       "      <td>NaN</td>\n",
       "      <td>NaN</td>\n",
       "    </tr>\n",
       "  </tbody>\n",
       "</table>\n",
       "</div>"
      ],
      "text/plain": [
       "   Unnamed: 0  trip_id  person_id  number_of_participants       trip_mode  \\\n",
       "0           0      NaN        0.0                     NaN             NaN   \n",
       "1           1    313.0        0.0                     1.0  DRIVEALONEFREE   \n",
       "\n",
       "   PlanElementIndex ActivityElement ActivityType           x          y  \\\n",
       "0                 1        activity         Home -122.237696  37.861152   \n",
       "1                 2             leg          NaN         NaN        NaN   \n",
       "\n",
       "   departure_time  \n",
       "0           7.136  \n",
       "1             NaN  "
      ]
     },
     "metadata": {},
     "output_type": "display_data"
    },
    {
     "name": "stdout",
     "output_type": "stream",
     "text": [
      "selected_households.csv.gz\n"
     ]
    },
    {
     "data": {
      "text/html": [
       "<div>\n",
       "<style scoped>\n",
       "    .dataframe tbody tr th:only-of-type {\n",
       "        vertical-align: middle;\n",
       "    }\n",
       "\n",
       "    .dataframe tbody tr th {\n",
       "        vertical-align: top;\n",
       "    }\n",
       "\n",
       "    .dataframe thead th {\n",
       "        text-align: right;\n",
       "    }\n",
       "</style>\n",
       "<table border=\"1\" class=\"dataframe\">\n",
       "  <thead>\n",
       "    <tr style=\"text-align: right;\">\n",
       "      <th></th>\n",
       "      <th>Unnamed: 0</th>\n",
       "      <th>household_id</th>\n",
       "      <th>gt55</th>\n",
       "      <th>seniors</th>\n",
       "      <th>VEHICL</th>\n",
       "      <th>lcm_county_id</th>\n",
       "      <th>hh_children</th>\n",
       "      <th>block_id</th>\n",
       "      <th>gt2</th>\n",
       "      <th>hispanic_head</th>\n",
       "      <th>...</th>\n",
       "      <th>hh_work_auto_savings_ratio</th>\n",
       "      <th>num_under16_not_at_school</th>\n",
       "      <th>num_travel_active</th>\n",
       "      <th>num_travel_active_adults</th>\n",
       "      <th>num_travel_active_preschoolers</th>\n",
       "      <th>num_travel_active_children</th>\n",
       "      <th>num_travel_active_non_preschoolers</th>\n",
       "      <th>participates_in_jtf_model</th>\n",
       "      <th>joint_tour_frequency</th>\n",
       "      <th>num_hh_joint_tours</th>\n",
       "    </tr>\n",
       "  </thead>\n",
       "  <tbody>\n",
       "    <tr>\n",
       "      <th>0</th>\n",
       "      <td>0</td>\n",
       "      <td>0</td>\n",
       "      <td>1</td>\n",
       "      <td>0.0</td>\n",
       "      <td>2</td>\n",
       "      <td>6001</td>\n",
       "      <td>no</td>\n",
       "      <td>60014001001024</td>\n",
       "      <td>0</td>\n",
       "      <td>no</td>\n",
       "      <td>...</td>\n",
       "      <td>1.0</td>\n",
       "      <td>0</td>\n",
       "      <td>1</td>\n",
       "      <td>1</td>\n",
       "      <td>0</td>\n",
       "      <td>0</td>\n",
       "      <td>1</td>\n",
       "      <td>False</td>\n",
       "      <td>0_tours</td>\n",
       "      <td>0</td>\n",
       "    </tr>\n",
       "    <tr>\n",
       "      <th>1</th>\n",
       "      <td>7</td>\n",
       "      <td>57872</td>\n",
       "      <td>0</td>\n",
       "      <td>0.0</td>\n",
       "      <td>3</td>\n",
       "      <td>6001</td>\n",
       "      <td>yes</td>\n",
       "      <td>60014097002010</td>\n",
       "      <td>1</td>\n",
       "      <td>no</td>\n",
       "      <td>...</td>\n",
       "      <td>0.0</td>\n",
       "      <td>0</td>\n",
       "      <td>1</td>\n",
       "      <td>0</td>\n",
       "      <td>0</td>\n",
       "      <td>1</td>\n",
       "      <td>1</td>\n",
       "      <td>False</td>\n",
       "      <td>0_tours</td>\n",
       "      <td>0</td>\n",
       "    </tr>\n",
       "  </tbody>\n",
       "</table>\n",
       "<p>2 rows × 61 columns</p>\n",
       "</div>"
      ],
      "text/plain": [
       "   Unnamed: 0  household_id  gt55  seniors  VEHICL  lcm_county_id hh_children  \\\n",
       "0           0             0     1      0.0       2           6001          no   \n",
       "1           7         57872     0      0.0       3           6001         yes   \n",
       "\n",
       "         block_id  gt2 hispanic_head  ...  hh_work_auto_savings_ratio  \\\n",
       "0  60014001001024    0            no  ...                         1.0   \n",
       "1  60014097002010    1            no  ...                         0.0   \n",
       "\n",
       "   num_under16_not_at_school num_travel_active num_travel_active_adults  \\\n",
       "0                          0                 1                        1   \n",
       "1                          0                 1                        0   \n",
       "\n",
       "  num_travel_active_preschoolers  num_travel_active_children  \\\n",
       "0                              0                           0   \n",
       "1                              0                           1   \n",
       "\n",
       "  num_travel_active_non_preschoolers  participates_in_jtf_model  \\\n",
       "0                                  1                      False   \n",
       "1                                  1                      False   \n",
       "\n",
       "  joint_tour_frequency  num_hh_joint_tours  \n",
       "0              0_tours                   0  \n",
       "1              0_tours                   0  \n",
       "\n",
       "[2 rows x 61 columns]"
      ]
     },
     "metadata": {},
     "output_type": "display_data"
    },
    {
     "name": "stdout",
     "output_type": "stream",
     "text": [
      "selected_blocks.csv.gz\n"
     ]
    },
    {
     "data": {
      "text/html": [
       "<div>\n",
       "<style scoped>\n",
       "    .dataframe tbody tr th:only-of-type {\n",
       "        vertical-align: middle;\n",
       "    }\n",
       "\n",
       "    .dataframe tbody tr th {\n",
       "        vertical-align: top;\n",
       "    }\n",
       "\n",
       "    .dataframe thead th {\n",
       "        text-align: right;\n",
       "    }\n",
       "</style>\n",
       "<table border=\"1\" class=\"dataframe\">\n",
       "  <thead>\n",
       "    <tr style=\"text-align: right;\">\n",
       "      <th></th>\n",
       "      <th>Unnamed: 0.1</th>\n",
       "      <th>Unnamed: 0</th>\n",
       "      <th>block_id</th>\n",
       "      <th>y</th>\n",
       "      <th>value_impute</th>\n",
       "      <th>taz_id</th>\n",
       "      <th>square_meters_land</th>\n",
       "      <th>res_rents</th>\n",
       "      <th>rent_impute</th>\n",
       "      <th>residential_unit_capacity</th>\n",
       "      <th>employment_capacity</th>\n",
       "      <th>puma10_id</th>\n",
       "      <th>place_id</th>\n",
       "      <th>x</th>\n",
       "      <th>res_values</th>\n",
       "      <th>TAZ</th>\n",
       "    </tr>\n",
       "  </thead>\n",
       "  <tbody>\n",
       "    <tr>\n",
       "      <th>0</th>\n",
       "      <td>1</td>\n",
       "      <td>1</td>\n",
       "      <td>60014271001001</td>\n",
       "      <td>37.769464</td>\n",
       "      <td>0</td>\n",
       "      <td>6.001001e+11</td>\n",
       "      <td>79696</td>\n",
       "      <td>1253.0</td>\n",
       "      <td>0</td>\n",
       "      <td>105</td>\n",
       "      <td>367</td>\n",
       "      <td>600105</td>\n",
       "      <td>600562.0</td>\n",
       "      <td>-122.233991</td>\n",
       "      <td>567900.0</td>\n",
       "      <td>576</td>\n",
       "    </tr>\n",
       "    <tr>\n",
       "      <th>1</th>\n",
       "      <td>3</td>\n",
       "      <td>3</td>\n",
       "      <td>60014271001003</td>\n",
       "      <td>37.768827</td>\n",
       "      <td>0</td>\n",
       "      <td>6.001001e+11</td>\n",
       "      <td>19546</td>\n",
       "      <td>1253.0</td>\n",
       "      <td>0</td>\n",
       "      <td>48</td>\n",
       "      <td>108</td>\n",
       "      <td>600105</td>\n",
       "      <td>600562.0</td>\n",
       "      <td>-122.235213</td>\n",
       "      <td>567900.0</td>\n",
       "      <td>576</td>\n",
       "    </tr>\n",
       "  </tbody>\n",
       "</table>\n",
       "</div>"
      ],
      "text/plain": [
       "   Unnamed: 0.1  Unnamed: 0        block_id          y  value_impute  \\\n",
       "0             1           1  60014271001001  37.769464             0   \n",
       "1             3           3  60014271001003  37.768827             0   \n",
       "\n",
       "         taz_id  square_meters_land  res_rents  rent_impute  \\\n",
       "0  6.001001e+11               79696     1253.0            0   \n",
       "1  6.001001e+11               19546     1253.0            0   \n",
       "\n",
       "   residential_unit_capacity  employment_capacity  puma10_id  place_id  \\\n",
       "0                        105                  367     600105  600562.0   \n",
       "1                         48                  108     600105  600562.0   \n",
       "\n",
       "            x  res_values  TAZ  \n",
       "0 -122.233991    567900.0  576  \n",
       "1 -122.235213    567900.0  576  "
      ]
     },
     "metadata": {},
     "output_type": "display_data"
    }
   ],
   "source": [
    "import pandas as pd\n",
    "\n",
    "base_url = \"2018\"\n",
    "def print_info(table_name, nrows=2):\n",
    "    table = pd.read_csv(f\"{base_url}/{table_name}\", nrows=nrows)\n",
    "    print(table_name)\n",
    "    display(table.head(nrows))\n",
    "\n",
    "print_info(\"selected_persons.csv.gz\", 2)\n",
    "print_info(\"selected_plans.csv.gz\", 2)\n",
    "print_info(\"selected_households.csv.gz\", 2)\n",
    "print_info(\"selected_blocks.csv.gz\",2)"
   ]
  },
  {
   "cell_type": "code",
   "execution_count": 2,
   "id": "139abe1d-2a56-487b-8ebc-79540898d1d0",
   "metadata": {},
   "outputs": [
    {
     "name": "stderr",
     "output_type": "stream",
     "text": [
      "/tmp/ipykernel_83/4013818271.py:2: DtypeWarning: Columns (0,3,6,7,9,11,14,15,16,17,25,26,27,28,32,33,40,42,43,45,46,47,48,49,55,56,60) have mixed types. Specify dtype option on import or set low_memory=False.\n",
      "  events = pd.read_csv(filePath + 'ITERS/it.0/0.events.csv.gz')\n"
     ]
    },
    {
     "data": {
      "text/plain": [
       "1976438"
      ]
     },
     "metadata": {},
     "output_type": "display_data"
    },
    {
     "data": {
      "text/plain": [
       "131794"
      ]
     },
     "metadata": {},
     "output_type": "display_data"
    }
   ],
   "source": [
    "filePath = \"s3://beam-outputs/output/sfbay/sfbay-pilates-base__2022-12-19_08-53-51_khe/\"\n",
    "events = pd.read_csv(filePath + 'ITERS/it.0/0.events.csv.gz')\n",
    "modechoice = events[events['type'] == 'ModeChoice']\n",
    "walk = modechoice[modechoice['mode'] == 'walk']\n",
    "display(len(events['person'].unique()))\n",
    "longWalker = walk[walk['length'] > 4828.03]\n",
    "display(len(longWalker['person'].unique()))\n",
    "list1 = list(longWalker['person'].unique())"
   ]
  },
  {
   "cell_type": "code",
   "execution_count": 3,
   "id": "c397b73f-0845-4e56-a276-7abcc5e933a1",
   "metadata": {},
   "outputs": [],
   "source": [
    "list2 = list(events['person'].unique())"
   ]
  },
  {
   "cell_type": "code",
   "execution_count": 4,
   "id": "69e01c94-8d48-42c5-8bf6-47ae24fb2e3d",
   "metadata": {},
   "outputs": [],
   "source": [
    "list3 = list(set(list2).difference(set(list1)))"
   ]
  },
  {
   "cell_type": "code",
   "execution_count": 5,
   "id": "20e0baac-81ff-4190-b5af-c44aee6d4c06",
   "metadata": {},
   "outputs": [
    {
     "data": {
      "text/plain": [
       "1844644"
      ]
     },
     "execution_count": 5,
     "metadata": {},
     "output_type": "execute_result"
    }
   ],
   "source": [
    "len(list3)"
   ]
  },
  {
   "cell_type": "code",
   "execution_count": null,
   "id": "8c1be14d-d0ec-41c6-b1f6-57ff0e87293f",
   "metadata": {},
   "outputs": [],
   "source": []
  },
  {
   "cell_type": "code",
   "execution_count": null,
   "id": "1eb0d00f-3bb6-497f-8194-d8f964890392",
   "metadata": {},
   "outputs": [],
   "source": []
  },
  {
   "cell_type": "code",
   "execution_count": 6,
   "id": "b5e1c8db-cee9-46a6-a17a-dea924bfbc27",
   "metadata": {},
   "outputs": [
    {
     "name": "stderr",
     "output_type": "stream",
     "text": [
      "/tmp/ipykernel_62/3418223777.py:2: DtypeWarning: Columns (0,1,6,7,8,9,13,23,25,26,28,29,33,39,41,42,43,45,47,49,50,51,52,55,56,58,59) have mixed types. Specify dtype option on import or set low_memory=False.\n",
      "  events = pd.read_csv(filePath + 'ITERS/it.0/0.events.csv.gz')\n"
     ]
    },
    {
     "data": {
      "text/plain": [
       "2045836"
      ]
     },
     "metadata": {},
     "output_type": "display_data"
    },
    {
     "data": {
      "text/plain": [
       "307222"
      ]
     },
     "metadata": {},
     "output_type": "display_data"
    },
    {
     "data": {
      "text/plain": [
       "147905"
      ]
     },
     "metadata": {},
     "output_type": "display_data"
    }
   ],
   "source": [
    "filePath = \"s3://beam-outputs/output/sfbay/sfbay-pilates-base__2022-12-17_23-07-28_tcx/\"\n",
    "events = pd.read_csv(filePath + 'ITERS/it.0/0.events.csv.gz')\n",
    "modechoice = events[events['type'] == 'ModeChoice']\n",
    "walk = modechoice[modechoice['mode'] == 'walk']\n",
    "display(len(events['person'].unique()))\n",
    "shortWalker = walk[walk['length'] <= 1931.21]\n",
    "display(len(shortWalker['person'].unique()))\n",
    "list4 = list(shortWalker['person'].unique())\n",
    "listwalkt = list(modechoice[modechoice['mode'] == 'walk_transit']['person'].unique())\n",
    "listbiket = list(modechoice[modechoice['mode'] == 'bike_transit']['person'].unique())\n",
    "listrhp = list(modechoice[modechoice['mode'] == 'ride_hail_pooled']['person'].unique())\n",
    "listrh = list(modechoice[modechoice['mode'] == 'ride_hail']['person'].unique())\n",
    "listrht = list(modechoice[modechoice['mode'] == 'ride_hail_transit']['person'].unique())\n",
    "listdt = list(modechoice[modechoice['mode'] == 'drive_transit']['person'].unique())\n",
    "listb = list(modechoice[modechoice['mode'] == 'bike']['person'].unique())\n",
    "list4 = list(set(list4).difference(set(listwalkt)))\n",
    "list4 = list(set(list4).difference(set(listbiket)))\n",
    "list4 = list(set(list4).difference(set(listrhp)))\n",
    "list4 = list(set(list4).difference(set(listrh)))\n",
    "list4 = list(set(list4).difference(set(listrht)))\n",
    "list4 = list(set(list4).difference(set(listdt)))\n",
    "list4 = list(set(list4).difference(set(listb)))\n",
    "display(len(list4))"
   ]
  },
  {
   "cell_type": "code",
   "execution_count": 7,
   "id": "a5006ee3-5527-49b6-9454-92fe7ef36266",
   "metadata": {},
   "outputs": [],
   "source": [
    "list5 = list(set(list3).union(set(list4)))"
   ]
  },
  {
   "cell_type": "code",
   "execution_count": 8,
   "id": "fb8010b8-a952-460e-a3dd-f46438f44d3a",
   "metadata": {},
   "outputs": [
    {
     "name": "stdout",
     "output_type": "stream",
     "text": [
      "1661896\n"
     ]
    }
   ],
   "source": [
    "print(len(list5))"
   ]
  },
  {
   "cell_type": "code",
   "execution_count": 9,
   "id": "b5ef2e46-cc26-40be-8b85-ad2c4dad3bbd",
   "metadata": {},
   "outputs": [
    {
     "name": "stderr",
     "output_type": "stream",
     "text": [
      "/tmp/ipykernel_62/2369404771.py:2: DtypeWarning: Columns (0,1,4,5,6,7,13,23,25,26,28,29,38,40,41,42,43,45,47,49,50,51,52,55,56,58,59) have mixed types. Specify dtype option on import or set low_memory=False.\n",
      "  events = pd.read_csv(filePath + 'ITERS/it.0/0.events.csv.gz')\n"
     ]
    },
    {
     "data": {
      "text/plain": [
       "2048494"
      ]
     },
     "metadata": {},
     "output_type": "display_data"
    },
    {
     "data": {
      "text/plain": [
       "243024"
      ]
     },
     "metadata": {},
     "output_type": "display_data"
    },
    {
     "data": {
      "text/plain": [
       "108906"
      ]
     },
     "metadata": {},
     "output_type": "display_data"
    }
   ],
   "source": [
    "filePath = \"s3://beam-outputs/output/sfbay/sfbay-pilates-base__2022-12-12_17-33-33_pes/\"\n",
    "events = pd.read_csv(filePath + 'ITERS/it.0/0.events.csv.gz')\n",
    "modechoice = events[events['type'] == 'ModeChoice']\n",
    "walk = modechoice[modechoice['mode'] == 'walk']\n",
    "display(len(events['person'].unique()))\n",
    "shortWalker = walk[walk['length'] <= 1931.21]\n",
    "display(len(shortWalker['person'].unique()))\n",
    "list4 = list(shortWalker['person'].unique())\n",
    "listwalkt = list(modechoice[modechoice['mode'] == 'walk_transit']['person'].unique())\n",
    "listbiket = list(modechoice[modechoice['mode'] == 'bike_transit']['person'].unique())\n",
    "listrhp = list(modechoice[modechoice['mode'] == 'ride_hail_pooled']['person'].unique())\n",
    "listrh = list(modechoice[modechoice['mode'] == 'ride_hail']['person'].unique())\n",
    "listrht = list(modechoice[modechoice['mode'] == 'ride_hail_transit']['person'].unique())\n",
    "listdt = list(modechoice[modechoice['mode'] == 'drive_transit']['person'].unique())\n",
    "listb = list(modechoice[modechoice['mode'] == 'bike']['person'].unique())\n",
    "list4 = list(set(list4).difference(set(listwalkt)))\n",
    "list4 = list(set(list4).difference(set(listbiket)))\n",
    "list4 = list(set(list4).difference(set(listrhp)))\n",
    "list4 = list(set(list4).difference(set(listrh)))\n",
    "list4 = list(set(list4).difference(set(listrht)))\n",
    "list4 = list(set(list4).difference(set(listdt)))\n",
    "list4 = list(set(list4).difference(set(listb)))\n",
    "display(len(list4))"
   ]
  },
  {
   "cell_type": "code",
   "execution_count": 10,
   "id": "e4ed5cae-2cf1-4798-acb0-2d0b0d48931d",
   "metadata": {},
   "outputs": [],
   "source": [
    "list5 = list(set(list5).union(set(list4)))"
   ]
  },
  {
   "cell_type": "code",
   "execution_count": 11,
   "id": "7ca51704-32a2-4220-9041-c4a66e2f5c7f",
   "metadata": {},
   "outputs": [
    {
     "name": "stderr",
     "output_type": "stream",
     "text": [
      "/tmp/ipykernel_62/3351551448.py:2: DtypeWarning: Columns (0,1,4,5,6,7,13,23,25,26,28,34,36,37,38,39,43,45,47,49,50,51,52,55,56,58,59) have mixed types. Specify dtype option on import or set low_memory=False.\n",
      "  events = pd.read_csv(filePath + 'ITERS/it.0/0.events.csv.gz')\n"
     ]
    },
    {
     "data": {
      "text/plain": [
       "2054104"
      ]
     },
     "metadata": {},
     "output_type": "display_data"
    },
    {
     "data": {
      "text/plain": [
       "158584"
      ]
     },
     "metadata": {},
     "output_type": "display_data"
    },
    {
     "data": {
      "text/plain": [
       "54935"
      ]
     },
     "metadata": {},
     "output_type": "display_data"
    }
   ],
   "source": [
    "filePath = \"s3://beam-outputs/output/sfbay/sfbay-pilates-base__2022-12-12_17-33-06_cxt/\"\n",
    "events = pd.read_csv(filePath + 'ITERS/it.0/0.events.csv.gz')\n",
    "modechoice = events[events['type'] == 'ModeChoice']\n",
    "walk = modechoice[modechoice['mode'] == 'walk']\n",
    "display(len(events['person'].unique()))\n",
    "shortWalker = walk[walk['length'] <= 1931.21]\n",
    "display(len(shortWalker['person'].unique()))\n",
    "list4 = list(shortWalker['person'].unique())\n",
    "listwalkt = list(modechoice[modechoice['mode'] == 'walk_transit']['person'].unique())\n",
    "listbiket = list(modechoice[modechoice['mode'] == 'bike_transit']['person'].unique())\n",
    "listrhp = list(modechoice[modechoice['mode'] == 'ride_hail_pooled']['person'].unique())\n",
    "listrh = list(modechoice[modechoice['mode'] == 'ride_hail']['person'].unique())\n",
    "listrht = list(modechoice[modechoice['mode'] == 'ride_hail_transit']['person'].unique())\n",
    "listdt = list(modechoice[modechoice['mode'] == 'drive_transit']['person'].unique())\n",
    "listb = list(modechoice[modechoice['mode'] == 'bike']['person'].unique())\n",
    "list4 = list(set(list4).difference(set(listwalkt)))\n",
    "list4 = list(set(list4).difference(set(listbiket)))\n",
    "list4 = list(set(list4).difference(set(listrhp)))\n",
    "list4 = list(set(list4).difference(set(listrh)))\n",
    "list4 = list(set(list4).difference(set(listrht)))\n",
    "list4 = list(set(list4).difference(set(listdt)))\n",
    "list4 = list(set(list4).difference(set(listb)))\n",
    "display(len(list4))"
   ]
  },
  {
   "cell_type": "code",
   "execution_count": 12,
   "id": "5a45d629-fe21-44fa-b407-27d987b90d53",
   "metadata": {},
   "outputs": [
    {
     "name": "stderr",
     "output_type": "stream",
     "text": [
      "/tmp/ipykernel_62/3531796991.py:2: DtypeWarning: Columns (0,3,6,7,8,9,10,17,18,20,27,28,32,34,36,38,41,42,43,44,48,54,56,57,58,62,63) have mixed types. Specify dtype option on import or set low_memory=False.\n",
      "  events = pd.read_csv(filePath + 'ITERS/it.0/0.events.csv.gz')\n"
     ]
    },
    {
     "data": {
      "text/plain": [
       "2053535"
      ]
     },
     "metadata": {},
     "output_type": "display_data"
    },
    {
     "data": {
      "text/plain": [
       "171041"
      ]
     },
     "metadata": {},
     "output_type": "display_data"
    },
    {
     "data": {
      "text/plain": [
       "92987"
      ]
     },
     "metadata": {},
     "output_type": "display_data"
    }
   ],
   "source": [
    "\n",
    "filePath = \"s3://beam-outputs/output/sfbay/sfbay-pilates-base__2022-12-12_17-33-52_iet/\"\n",
    "events = pd.read_csv(filePath + 'ITERS/it.0/0.events.csv.gz')\n",
    "modechoice = events[events['type'] == 'ModeChoice']\n",
    "walk = modechoice[modechoice['mode'] == 'walk']\n",
    "display(len(events['person'].unique()))\n",
    "shortWalker = walk[walk['length'] <= 1931.21]\n",
    "display(len(shortWalker['person'].unique()))\n",
    "list4 = list(shortWalker['person'].unique())\n",
    "listwalkt = list(modechoice[modechoice['mode'] == 'walk_transit']['person'].unique())\n",
    "listbiket = list(modechoice[modechoice['mode'] == 'bike_transit']['person'].unique())\n",
    "listrhp = list(modechoice[modechoice['mode'] == 'ride_hail_pooled']['person'].unique())\n",
    "listrh = list(modechoice[modechoice['mode'] == 'ride_hail']['person'].unique())\n",
    "listrht = list(modechoice[modechoice['mode'] == 'ride_hail_transit']['person'].unique())\n",
    "listdt = list(modechoice[modechoice['mode'] == 'drive_transit']['person'].unique())\n",
    "listb = list(modechoice[modechoice['mode'] == 'bike']['person'].unique())\n",
    "list4 = list(set(list4).difference(set(listwalkt)))\n",
    "list4 = list(set(list4).difference(set(listbiket)))\n",
    "list4 = list(set(list4).difference(set(listrhp)))\n",
    "list4 = list(set(list4).difference(set(listrh)))\n",
    "list4 = list(set(list4).difference(set(listrht)))\n",
    "list4 = list(set(list4).difference(set(listdt)))\n",
    "list4 = list(set(list4).difference(set(listb)))\n",
    "list5 = list(set(list5).union(set(list4)))\n",
    "display(len(list4))"
   ]
  },
  {
   "cell_type": "code",
   "execution_count": 13,
   "id": "afdc9f08-adef-4790-9e07-6dc188041a0f",
   "metadata": {},
   "outputs": [
    {
     "name": "stderr",
     "output_type": "stream",
     "text": [
      "/tmp/ipykernel_62/4009962248.py:2: DtypeWarning: Columns (0,1,6,7,8,9,13,23,25,27,28,34,36,37,38,39,43,45,47,49,50,51,52,55,56,58,59) have mixed types. Specify dtype option on import or set low_memory=False.\n",
      "  events = pd.read_csv(filePath + 'ITERS/it.0/0.events.csv.gz')\n"
     ]
    },
    {
     "data": {
      "text/plain": [
       "2051642"
      ]
     },
     "metadata": {},
     "output_type": "display_data"
    },
    {
     "data": {
      "text/plain": [
       "259964"
      ]
     },
     "metadata": {},
     "output_type": "display_data"
    },
    {
     "data": {
      "text/plain": [
       "109870"
      ]
     },
     "metadata": {},
     "output_type": "display_data"
    }
   ],
   "source": [
    "\n",
    "filePath = \"s3://beam-outputs/output/sfbay/sfbay-pilates-base__2022-12-12_17-33-30_jcw/\"\n",
    "events = pd.read_csv(filePath + 'ITERS/it.0/0.events.csv.gz')\n",
    "modechoice = events[events['type'] == 'ModeChoice']\n",
    "walk = modechoice[modechoice['mode'] == 'walk']\n",
    "display(len(events['person'].unique()))\n",
    "shortWalker = walk[walk['length'] <= 1931.21]\n",
    "display(len(shortWalker['person'].unique()))\n",
    "list4 = list(shortWalker['person'].unique())\n",
    "listwalkt = list(modechoice[modechoice['mode'] == 'walk_transit']['person'].unique())\n",
    "listbiket = list(modechoice[modechoice['mode'] == 'bike_transit']['person'].unique())\n",
    "listrhp = list(modechoice[modechoice['mode'] == 'ride_hail_pooled']['person'].unique())\n",
    "listrh = list(modechoice[modechoice['mode'] == 'ride_hail']['person'].unique())\n",
    "listrht = list(modechoice[modechoice['mode'] == 'ride_hail_transit']['person'].unique())\n",
    "listdt = list(modechoice[modechoice['mode'] == 'drive_transit']['person'].unique())\n",
    "listb = list(modechoice[modechoice['mode'] == 'bike']['person'].unique())\n",
    "list4 = list(set(list4).difference(set(listwalkt)))\n",
    "list4 = list(set(list4).difference(set(listbiket)))\n",
    "list4 = list(set(list4).difference(set(listrhp)))\n",
    "list4 = list(set(list4).difference(set(listrh)))\n",
    "list4 = list(set(list4).difference(set(listrht)))\n",
    "list4 = list(set(list4).difference(set(listdt)))\n",
    "list4 = list(set(list4).difference(set(listb)))\n",
    "list5 = list(set(list5).union(set(list4)))\n",
    "display(len(list4))"
   ]
  },
  {
   "cell_type": "code",
   "execution_count": 14,
   "id": "67f7385b-9ff2-4b75-be28-65f9f9de9798",
   "metadata": {},
   "outputs": [
    {
     "name": "stderr",
     "output_type": "stream",
     "text": [
      "/tmp/ipykernel_62/1077591980.py:2: DtypeWarning: Columns (0,3,4,5,6,12,14,21,23,24,28,30,32,35,36,37,38,41,42,43,46,47,53,55,56,57,58) have mixed types. Specify dtype option on import or set low_memory=False.\n",
      "  events = pd.read_csv(filePath + 'ITERS/it.0/0.events.csv.gz')\n"
     ]
    },
    {
     "data": {
      "text/plain": [
       "2064486"
      ]
     },
     "metadata": {},
     "output_type": "display_data"
    },
    {
     "data": {
      "text/plain": [
       "343058"
      ]
     },
     "metadata": {},
     "output_type": "display_data"
    },
    {
     "data": {
      "text/plain": [
       "151907"
      ]
     },
     "metadata": {},
     "output_type": "display_data"
    }
   ],
   "source": [
    "\n",
    "filePath = \"s3://beam-outputs/output/sfbay/sfbay-pilates-base__2022-12-12_17-33-48_tbj/\"\n",
    "events = pd.read_csv(filePath + 'ITERS/it.0/0.events.csv.gz')\n",
    "modechoice = events[events['type'] == 'ModeChoice']\n",
    "walk = modechoice[modechoice['mode'] == 'walk']\n",
    "display(len(events['person'].unique()))\n",
    "shortWalker = walk[walk['length'] <= 1931.21]\n",
    "display(len(shortWalker['person'].unique()))\n",
    "list4 = list(shortWalker['person'].unique())\n",
    "listwalkt = list(modechoice[modechoice['mode'] == 'walk_transit']['person'].unique())\n",
    "listbiket = list(modechoice[modechoice['mode'] == 'bike_transit']['person'].unique())\n",
    "listrhp = list(modechoice[modechoice['mode'] == 'ride_hail_pooled']['person'].unique())\n",
    "listrh = list(modechoice[modechoice['mode'] == 'ride_hail']['person'].unique())\n",
    "listrht = list(modechoice[modechoice['mode'] == 'ride_hail_transit']['person'].unique())\n",
    "listdt = list(modechoice[modechoice['mode'] == 'drive_transit']['person'].unique())\n",
    "listb = list(modechoice[modechoice['mode'] == 'bike']['person'].unique())\n",
    "list4 = list(set(list4).difference(set(listwalkt)))\n",
    "list4 = list(set(list4).difference(set(listbiket)))\n",
    "list4 = list(set(list4).difference(set(listrhp)))\n",
    "list4 = list(set(list4).difference(set(listrh)))\n",
    "list4 = list(set(list4).difference(set(listrht)))\n",
    "list4 = list(set(list4).difference(set(listdt)))\n",
    "list4 = list(set(list4).difference(set(listb)))\n",
    "list5 = list(set(list5).union(set(list4)))\n",
    "display(len(list4))"
   ]
  },
  {
   "cell_type": "code",
   "execution_count": 15,
   "id": "b722ac28-d334-40e1-8071-f6259c5147ee",
   "metadata": {},
   "outputs": [
    {
     "name": "stderr",
     "output_type": "stream",
     "text": [
      "/tmp/ipykernel_62/3095711764.py:2: DtypeWarning: Columns (0,1,6,7,8,9,13,23,25,26,31,32,33,39,41,42,43,45,47,49,50,51,52,55,56,58,59) have mixed types. Specify dtype option on import or set low_memory=False.\n",
      "  events = pd.read_csv(filePath + 'ITERS/it.0/0.events.csv.gz')\n"
     ]
    },
    {
     "data": {
      "text/plain": [
       "2053253"
      ]
     },
     "metadata": {},
     "output_type": "display_data"
    },
    {
     "data": {
      "text/plain": [
       "287248"
      ]
     },
     "metadata": {},
     "output_type": "display_data"
    },
    {
     "data": {
      "text/plain": [
       "1882996"
      ]
     },
     "metadata": {},
     "output_type": "display_data"
    }
   ],
   "source": [
    "\n",
    "filePath = \"s3://beam-outputs/output/sfbay/sfbay-pilates-base__2022-12-12_17-33-15_iyc/\"\n",
    "events = pd.read_csv(filePath + 'ITERS/it.0/0.events.csv.gz')\n",
    "modechoice = events[events['type'] == 'ModeChoice']\n",
    "walk = modechoice[modechoice['mode'] == 'walk']\n",
    "display(len(events['person'].unique()))\n",
    "shortWalker = walk[walk['length'] <= 1931.21]\n",
    "display(len(shortWalker['person'].unique()))\n",
    "list4 = list(shortWalker['person'].unique())\n",
    "listwalkt = list(modechoice[modechoice['mode'] == 'walk_transit']['person'].unique())\n",
    "listbiket = list(modechoice[modechoice['mode'] == 'bike_transit']['person'].unique())\n",
    "listrhp = list(modechoice[modechoice['mode'] == 'ride_hail_pooled']['person'].unique())\n",
    "listrh = list(modechoice[modechoice['mode'] == 'ride_hail']['person'].unique())\n",
    "listrht = list(modechoice[modechoice['mode'] == 'ride_hail_transit']['person'].unique())\n",
    "listdt = list(modechoice[modechoice['mode'] == 'drive_transit']['person'].unique())\n",
    "listb = list(modechoice[modechoice['mode'] == 'bike']['person'].unique())\n",
    "list4 = list(set(list4).difference(set(listwalkt)))\n",
    "list4 = list(set(list4).difference(set(listbiket)))\n",
    "list4 = list(set(list4).difference(set(listrhp)))\n",
    "list4 = list(set(list4).difference(set(listrh)))\n",
    "list4 = list(set(list4).difference(set(listrht)))\n",
    "list4 = list(set(list4).difference(set(listdt)))\n",
    "list4 = list(set(list4).difference(set(listb)))\n",
    "list5 = list(set(list5).union(set(list4)))\n",
    "display(len(list5))"
   ]
  },
  {
   "cell_type": "code",
   "execution_count": 16,
   "id": "34b280af-d41a-4237-8cae-6550efb034f1",
   "metadata": {},
   "outputs": [
    {
     "name": "stderr",
     "output_type": "stream",
     "text": [
      "/tmp/ipykernel_62/1173337570.py:2: DtypeWarning: Columns (0,1,7,8,9,10,13,19,25,26,28,29,34,36,37,38,43,45,47,49,50,51,52,55,56,58,59) have mixed types. Specify dtype option on import or set low_memory=False.\n",
      "  events = pd.read_csv(filePath + 'ITERS/it.0/0.events.csv.gz')\n"
     ]
    },
    {
     "data": {
      "text/plain": [
       "2058528"
      ]
     },
     "metadata": {},
     "output_type": "display_data"
    },
    {
     "data": {
      "text/plain": [
       "401822"
      ]
     },
     "metadata": {},
     "output_type": "display_data"
    },
    {
     "data": {
      "text/plain": [
       "1940275"
      ]
     },
     "metadata": {},
     "output_type": "display_data"
    }
   ],
   "source": [
    "\n",
    "filePath = \"s3://beam-outputs/output/sfbay/sfbay-pilates-base__2022-12-12_17-33-02_gvk/\"\n",
    "events = pd.read_csv(filePath + 'ITERS/it.0/0.events.csv.gz')\n",
    "modechoice = events[events['type'] == 'ModeChoice']\n",
    "walk = modechoice[modechoice['mode'] == 'walk']\n",
    "display(len(events['person'].unique()))\n",
    "shortWalker = walk[walk['length'] <= 1931.21]\n",
    "display(len(shortWalker['person'].unique()))\n",
    "list4 = list(shortWalker['person'].unique())\n",
    "listwalkt = list(modechoice[modechoice['mode'] == 'walk_transit']['person'].unique())\n",
    "listbiket = list(modechoice[modechoice['mode'] == 'bike_transit']['person'].unique())\n",
    "listrhp = list(modechoice[modechoice['mode'] == 'ride_hail_pooled']['person'].unique())\n",
    "listrh = list(modechoice[modechoice['mode'] == 'ride_hail']['person'].unique())\n",
    "listrht = list(modechoice[modechoice['mode'] == 'ride_hail_transit']['person'].unique())\n",
    "listdt = list(modechoice[modechoice['mode'] == 'drive_transit']['person'].unique())\n",
    "listb = list(modechoice[modechoice['mode'] == 'bike']['person'].unique())\n",
    "list4 = list(set(list4).difference(set(listwalkt)))\n",
    "list4 = list(set(list4).difference(set(listbiket)))\n",
    "list4 = list(set(list4).difference(set(listrhp)))\n",
    "list4 = list(set(list4).difference(set(listrh)))\n",
    "list4 = list(set(list4).difference(set(listrht)))\n",
    "list4 = list(set(list4).difference(set(listdt)))\n",
    "list4 = list(set(list4).difference(set(listb)))\n",
    "list5 = list(set(list5).union(set(list4)))\n",
    "display(len(list5))"
   ]
  },
  {
   "cell_type": "code",
   "execution_count": 17,
   "id": "5fe6fd21-0475-4e08-9937-ca16c974bf83",
   "metadata": {},
   "outputs": [
    {
     "name": "stderr",
     "output_type": "stream",
     "text": [
      "/tmp/ipykernel_62/1970333177.py:2: DtypeWarning: Columns (0,1,6,7,8,9,13,17,25,27,29,30,31,32,36,41,43,45,47,49,50,51,52,55,56,58,62) have mixed types. Specify dtype option on import or set low_memory=False.\n",
      "  events = pd.read_csv(filePath + 'ITERS/it.0/0.events.csv.gz')\n"
     ]
    },
    {
     "data": {
      "text/plain": [
       "2062583"
      ]
     },
     "metadata": {},
     "output_type": "display_data"
    },
    {
     "data": {
      "text/plain": [
       "425763"
      ]
     },
     "metadata": {},
     "output_type": "display_data"
    },
    {
     "data": {
      "text/plain": [
       "1985990"
      ]
     },
     "metadata": {},
     "output_type": "display_data"
    }
   ],
   "source": [
    "\n",
    "\n",
    "filePath = \"s3://beam-outputs/output/sfbay/sfbay-pilates-base__2022-12-12_17-32-54_qoj/\"\n",
    "events = pd.read_csv(filePath + 'ITERS/it.0/0.events.csv.gz')\n",
    "modechoice = events[events['type'] == 'ModeChoice']\n",
    "walk = modechoice[modechoice['mode'] == 'walk']\n",
    "display(len(events['person'].unique()))\n",
    "shortWalker = walk[walk['length'] <= 1931.21]\n",
    "display(len(shortWalker['person'].unique()))\n",
    "list4 = list(shortWalker['person'].unique())\n",
    "listwalkt = list(modechoice[modechoice['mode'] == 'walk_transit']['person'].unique())\n",
    "listbiket = list(modechoice[modechoice['mode'] == 'bike_transit']['person'].unique())\n",
    "listrhp = list(modechoice[modechoice['mode'] == 'ride_hail_pooled']['person'].unique())\n",
    "listrh = list(modechoice[modechoice['mode'] == 'ride_hail']['person'].unique())\n",
    "listrht = list(modechoice[modechoice['mode'] == 'ride_hail_transit']['person'].unique())\n",
    "listdt = list(modechoice[modechoice['mode'] == 'drive_transit']['person'].unique())\n",
    "listb = list(modechoice[modechoice['mode'] == 'bike']['person'].unique())\n",
    "list4 = list(set(list4).difference(set(listwalkt)))\n",
    "list4 = list(set(list4).difference(set(listbiket)))\n",
    "list4 = list(set(list4).difference(set(listrhp)))\n",
    "list4 = list(set(list4).difference(set(listrh)))\n",
    "list4 = list(set(list4).difference(set(listrht)))\n",
    "list4 = list(set(list4).difference(set(listdt)))\n",
    "list4 = list(set(list4).difference(set(listb)))\n",
    "list5 = list(set(list5).union(set(list4)))\n",
    "display(len(list5))"
   ]
  },
  {
   "cell_type": "code",
   "execution_count": 18,
   "id": "814f12be-b14a-4c8f-999c-438c54b88f47",
   "metadata": {},
   "outputs": [
    {
     "name": "stderr",
     "output_type": "stream",
     "text": [
      "/tmp/ipykernel_62/3129377319.py:2: DtypeWarning: Columns (0,1,6,7,8,9,13,23,25,27,29,30,32,33,34,40,43,45,47,49,50,51,52,55,56,58,59) have mixed types. Specify dtype option on import or set low_memory=False.\n",
      "  events = pd.read_csv(filePath + 'ITERS/it.0/0.events.csv.gz')\n"
     ]
    },
    {
     "data": {
      "text/plain": [
       "2056646"
      ]
     },
     "metadata": {},
     "output_type": "display_data"
    },
    {
     "data": {
      "text/plain": [
       "365380"
      ]
     },
     "metadata": {},
     "output_type": "display_data"
    },
    {
     "data": {
      "text/plain": [
       "2002751"
      ]
     },
     "metadata": {},
     "output_type": "display_data"
    }
   ],
   "source": [
    "\n",
    "\n",
    "filePath = \"s3://beam-outputs/output/sfbay/sfbay-pilates-base__2022-12-12_17-32-51_xxz/\"\n",
    "events = pd.read_csv(filePath + 'ITERS/it.0/0.events.csv.gz')\n",
    "modechoice = events[events['type'] == 'ModeChoice']\n",
    "walk = modechoice[modechoice['mode'] == 'walk']\n",
    "display(len(events['person'].unique()))\n",
    "shortWalker = walk[walk['length'] <= 1931.21]\n",
    "display(len(shortWalker['person'].unique()))\n",
    "list4 = list(shortWalker['person'].unique())\n",
    "listwalkt = list(modechoice[modechoice['mode'] == 'walk_transit']['person'].unique())\n",
    "listbiket = list(modechoice[modechoice['mode'] == 'bike_transit']['person'].unique())\n",
    "listrhp = list(modechoice[modechoice['mode'] == 'ride_hail_pooled']['person'].unique())\n",
    "listrh = list(modechoice[modechoice['mode'] == 'ride_hail']['person'].unique())\n",
    "listrht = list(modechoice[modechoice['mode'] == 'ride_hail_transit']['person'].unique())\n",
    "listdt = list(modechoice[modechoice['mode'] == 'drive_transit']['person'].unique())\n",
    "listb = list(modechoice[modechoice['mode'] == 'bike']['person'].unique())\n",
    "list4 = list(set(list4).difference(set(listwalkt)))\n",
    "list4 = list(set(list4).difference(set(listbiket)))\n",
    "list4 = list(set(list4).difference(set(listrhp)))\n",
    "list4 = list(set(list4).difference(set(listrh)))\n",
    "list4 = list(set(list4).difference(set(listrht)))\n",
    "list4 = list(set(list4).difference(set(listdt)))\n",
    "list4 = list(set(list4).difference(set(listb)))\n",
    "list5 = list(set(list5).union(set(list4)))\n",
    "display(len(list5))"
   ]
  },
  {
   "cell_type": "code",
   "execution_count": 19,
   "id": "116ee7cc-3c81-4822-bbca-4f100165c898",
   "metadata": {},
   "outputs": [
    {
     "name": "stderr",
     "output_type": "stream",
     "text": [
      "/tmp/ipykernel_62/3151094081.py:2: DtypeWarning: Columns (0,1,7,8,9,10,13,23,25,26,28,34,36,37,38,40,43,45,47,49,50,51,52,55,56,58,59) have mixed types. Specify dtype option on import or set low_memory=False.\n",
      "  events = pd.read_csv(filePath + 'ITERS/it.0/0.events.csv.gz')\n"
     ]
    },
    {
     "data": {
      "text/plain": [
       "2070673"
      ]
     },
     "metadata": {},
     "output_type": "display_data"
    },
    {
     "data": {
      "text/plain": [
       "441360"
      ]
     },
     "metadata": {},
     "output_type": "display_data"
    },
    {
     "data": {
      "text/plain": [
       "2033906"
      ]
     },
     "metadata": {},
     "output_type": "display_data"
    }
   ],
   "source": [
    "\n",
    "\n",
    "filePath = \"s3://beam-outputs/output/sfbay/sfbay-pilates-base__2022-12-12_17-33-20_kju/\"\n",
    "events = pd.read_csv(filePath + 'ITERS/it.0/0.events.csv.gz')\n",
    "modechoice = events[events['type'] == 'ModeChoice']\n",
    "walk = modechoice[modechoice['mode'] == 'walk']\n",
    "display(len(events['person'].unique()))\n",
    "shortWalker = walk[walk['length'] <= 1931.21]\n",
    "display(len(shortWalker['person'].unique()))\n",
    "list4 = list(shortWalker['person'].unique())\n",
    "listwalkt = list(modechoice[modechoice['mode'] == 'walk_transit']['person'].unique())\n",
    "listbiket = list(modechoice[modechoice['mode'] == 'bike_transit']['person'].unique())\n",
    "listrhp = list(modechoice[modechoice['mode'] == 'ride_hail_pooled']['person'].unique())\n",
    "listrh = list(modechoice[modechoice['mode'] == 'ride_hail']['person'].unique())\n",
    "listrht = list(modechoice[modechoice['mode'] == 'ride_hail_transit']['person'].unique())\n",
    "listdt = list(modechoice[modechoice['mode'] == 'drive_transit']['person'].unique())\n",
    "listb = list(modechoice[modechoice['mode'] == 'bike']['person'].unique())\n",
    "list4 = list(set(list4).difference(set(listwalkt)))\n",
    "list4 = list(set(list4).difference(set(listbiket)))\n",
    "list4 = list(set(list4).difference(set(listrhp)))\n",
    "list4 = list(set(list4).difference(set(listrh)))\n",
    "list4 = list(set(list4).difference(set(listrht)))\n",
    "list4 = list(set(list4).difference(set(listdt)))\n",
    "list4 = list(set(list4).difference(set(listb)))\n",
    "list5 = list(set(list5).union(set(list4)))\n",
    "display(len(list5))"
   ]
  },
  {
   "cell_type": "code",
   "execution_count": 20,
   "id": "9ececf0f-b083-432a-8f62-d618fb66285a",
   "metadata": {},
   "outputs": [
    {
     "name": "stderr",
     "output_type": "stream",
     "text": [
      "/tmp/ipykernel_62/2593333640.py:2: DtypeWarning: Columns (0,1,4,5,6,7,13,23,25,27,28,29,36,38,39,40,43,45,47,49,50,51,52,55,56,58,59) have mixed types. Specify dtype option on import or set low_memory=False.\n",
      "  events = pd.read_csv(filePath + 'ITERS/it.0/0.events.csv.gz')\n"
     ]
    },
    {
     "data": {
      "text/plain": [
       "2073524"
      ]
     },
     "metadata": {},
     "output_type": "display_data"
    },
    {
     "data": {
      "text/plain": [
       "409477"
      ]
     },
     "metadata": {},
     "output_type": "display_data"
    },
    {
     "data": {
      "text/plain": [
       "2044932"
      ]
     },
     "metadata": {},
     "output_type": "display_data"
    }
   ],
   "source": [
    "\n",
    "\n",
    "filePath = \"s3://beam-outputs/output/sfbay/sfbay-pilates-base__2022-12-12_17-33-13_nkv/\"\n",
    "events = pd.read_csv(filePath + 'ITERS/it.0/0.events.csv.gz')\n",
    "modechoice = events[events['type'] == 'ModeChoice']\n",
    "walk = modechoice[modechoice['mode'] == 'walk']\n",
    "display(len(events['person'].unique()))\n",
    "shortWalker = walk[walk['length'] <= 1931.21]\n",
    "display(len(shortWalker['person'].unique()))\n",
    "list4 = list(shortWalker['person'].unique())\n",
    "listwalkt = list(modechoice[modechoice['mode'] == 'walk_transit']['person'].unique())\n",
    "listbiket = list(modechoice[modechoice['mode'] == 'bike_transit']['person'].unique())\n",
    "listrhp = list(modechoice[modechoice['mode'] == 'ride_hail_pooled']['person'].unique())\n",
    "listrh = list(modechoice[modechoice['mode'] == 'ride_hail']['person'].unique())\n",
    "listrht = list(modechoice[modechoice['mode'] == 'ride_hail_transit']['person'].unique())\n",
    "listdt = list(modechoice[modechoice['mode'] == 'drive_transit']['person'].unique())\n",
    "listb = list(modechoice[modechoice['mode'] == 'bike']['person'].unique())\n",
    "list4 = list(set(list4).difference(set(listwalkt)))\n",
    "list4 = list(set(list4).difference(set(listbiket)))\n",
    "list4 = list(set(list4).difference(set(listrhp)))\n",
    "list4 = list(set(list4).difference(set(listrh)))\n",
    "list4 = list(set(list4).difference(set(listrht)))\n",
    "list4 = list(set(list4).difference(set(listdt)))\n",
    "list4 = list(set(list4).difference(set(listb)))\n",
    "list5 = list(set(list5).union(set(list4)))\n",
    "display(len(list5))"
   ]
  },
  {
   "cell_type": "code",
   "execution_count": null,
   "id": "40a1a513-c970-4953-a7d1-9985ebcc4df5",
   "metadata": {},
   "outputs": [],
   "source": []
  },
  {
   "cell_type": "code",
   "execution_count": 21,
   "id": "e4d76edc-30a9-464a-bcef-cb32c205ac2f",
   "metadata": {},
   "outputs": [
    {
     "name": "stdout",
     "output_type": "stream",
     "text": [
      "for persons.csv.gz shape is (1965902, 84)\n"
     ]
    }
   ],
   "source": [
    "file_name = 'persons.csv.gz'\n",
    "file_path = f'{base_url}/{file_name}'\n",
    "selected_persons = pd.concat([df[df['person_id'].isin(list5)] for df in pd.read_csv(file_path, low_memory=False, chunksize=10000)])\n",
    "print(f'for {file_name} shape is {selected_persons.shape}')"
   ]
  },
  {
   "cell_type": "code",
   "execution_count": 22,
   "id": "b3094d91-860a-4c55-92d2-d01fd86b77d0",
   "metadata": {},
   "outputs": [
    {
     "name": "stdout",
     "output_type": "stream",
     "text": [
      "there are 1965902 selected persons\n"
     ]
    }
   ],
   "source": [
    "selected_persons_ids = set(selected_persons['person_id'])\n",
    "print(f\"there are {len(selected_persons_ids)} selected persons\")"
   ]
  },
  {
   "cell_type": "code",
   "execution_count": 23,
   "id": "5d5a59b9-6738-4f8d-adb6-a3a81e7b331d",
   "metadata": {},
   "outputs": [
    {
     "name": "stdout",
     "output_type": "stream",
     "text": [
      "for households.csv.gz shape is (1200444, 60)\n"
     ]
    }
   ],
   "source": [
    "selected_household_ids = set(selected_persons['household_id'])\n",
    "file_name = 'households.csv.gz'\n",
    "file_path = f'{base_url}/{file_name}'\n",
    "selected_households = pd.concat([df[df['household_id'].isin(selected_household_ids)] for df in pd.read_csv(file_path, low_memory=False, chunksize=10000)])\n",
    "print(f'for {file_name} shape is {selected_households.shape}')"
   ]
  },
  {
   "cell_type": "code",
   "execution_count": 24,
   "id": "bb7e71af-ce18-497b-b0c5-40c15d6a7016",
   "metadata": {},
   "outputs": [
    {
     "name": "stdout",
     "output_type": "stream",
     "text": [
      "there are 75490 selected blocks\n",
      "for plans.csv.gz shape is (17222394, 10)\n"
     ]
    }
   ],
   "source": [
    "selected_block_ids = set(selected_households['block_id'])\n",
    "print(f\"there are {len(selected_block_ids)} selected blocks\")\n",
    "\n",
    "file_name = 'plans.csv.gz'\n",
    "file_path = f'{base_url}/{file_name}'\n",
    "selected_plans = pd.concat([df[df['person_id'].isin(selected_persons_ids)] for df in pd.read_csv(file_path, low_memory=False, chunksize=10000)])\n",
    "print(f'for {file_name} shape is {selected_plans.shape}')"
   ]
  },
  {
   "cell_type": "code",
   "execution_count": 25,
   "id": "6a7726de-4045-47e5-bb47-1bc2376beec9",
   "metadata": {},
   "outputs": [
    {
     "name": "stdout",
     "output_type": "stream",
     "text": [
      "for blocks.csv.gz shape is (75490, 15)\n"
     ]
    }
   ],
   "source": [
    "file_name = 'blocks.csv.gz'\n",
    "file_path = f'{base_url}/{file_name}'\n",
    "selected_blocks = pd.concat([df[df['block_id'].isin(selected_block_ids)] for df in pd.read_csv(file_path, low_memory=False, chunksize=10000)])\n",
    "print(f'for {file_name} shape is {selected_blocks.shape}')"
   ]
  },
  {
   "cell_type": "code",
   "execution_count": 26,
   "id": "0eef25f0-596b-4ae0-9181-ce0bd925126e",
   "metadata": {},
   "outputs": [],
   "source": [
    "selected_persons.to_csv('2018/selected_persons_final3.csv.gz')\n",
    "selected_households.to_csv('2018/selected_households_final3.csv.gz')\n",
    "selected_plans.to_csv('2018/selected_plans_final3.csv.gz')\n",
    "selected_blocks.to_csv('2018/selected_blocks_final3.csv.gz')"
   ]
  },
  {
   "cell_type": "code",
   "execution_count": null,
   "id": "ba7dfe8b-0671-43c6-8f38-fdbb8c4e8970",
   "metadata": {},
   "outputs": [],
   "source": []
  },
  {
   "cell_type": "code",
   "execution_count": null,
   "id": "4578be1e-5c1b-4343-a66c-12daa8bfd854",
   "metadata": {},
   "outputs": [],
   "source": []
  }
 ],
 "metadata": {
  "kernelspec": {
   "display_name": "Python 3 (ipykernel)",
   "language": "python",
   "name": "python3"
  },
  "language_info": {
   "codemirror_mode": {
    "name": "ipython",
    "version": 3
   },
   "file_extension": ".py",
   "mimetype": "text/x-python",
   "name": "python",
   "nbconvert_exporter": "python",
   "pygments_lexer": "ipython3",
   "version": "3.9.10"
  }
 },
 "nbformat": 4,
 "nbformat_minor": 5
}
