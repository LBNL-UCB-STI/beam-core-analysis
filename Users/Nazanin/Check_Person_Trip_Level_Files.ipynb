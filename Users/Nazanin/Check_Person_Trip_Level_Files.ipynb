{
 "cells": [
  {
   "cell_type": "code",
   "execution_count": 1,
   "id": "c6fa622b",
   "metadata": {},
   "outputs": [],
   "source": [
    "import pandas as pd\n",
    "import numpy as np"
   ]
  },
  {
   "cell_type": "code",
   "execution_count": null,
   "id": "4f321a2a",
   "metadata": {},
   "outputs": [],
   "source": [
    "%%time\n",
    "SFbaseline2018 = pd.read_csv(\"C:/Shared-Work/Data/CleanData/ASIM_BEAM_Merged/PersonTrip_SF_Baseline_2018/ASim_BEAM_PersonTrip_SF_Baseline_2018_updated.csv\")\n",
    "#SF_RH_Fleet_2018 = pd.read_csv(\"C:/Shared-Work/Data/CleanData/ASIM_BEAM_Merged/PersonTrip_SF_RHFleetsz0125_2018/ASim_BEAM_Merged_SF_RHFleetsz0125_2018.csv\")\n",
    "#SF_RH_Fleet_175_2018 = pd.read_csv(\"C:/Shared-Work/Data/CleanData/ASIM_BEAM_Merged/PersonTrip_SF_RHFleetsz175_2018/ASim_BEAM_Merged_SF_RHFleetsz175_2018.csv\")"
   ]
  },
  {
   "cell_type": "code",
   "execution_count": null,
   "id": "2086e3ee",
   "metadata": {},
   "outputs": [],
   "source": [
    "SFbaseline2018.door_to_door_time[SFbaseline2018.door_to_door_time < 0].count()"
   ]
  },
  {
   "cell_type": "code",
   "execution_count": null,
   "id": "2613c3d5",
   "metadata": {},
   "outputs": [],
   "source": [
    "SF_TransitFreq05_2018 = pd.read_csv(\"C:/Shared-Work/Data/CleanData/ASIM_BEAM_Merged/PersonTrip_SF_TransitFreq05_2018/ASIM_BEAM_Merged_TransitFreq05_2018.csv\")\n",
    "#SF_TransitFreq2_2018 = pd.read_csv(\"C:/Shared-Work/Data/CleanData/ASIM_BEAM_Merged/PersonTrip_SF_TransitFreq2_2018/ASIM_BEAM_Merged_TransitFreq2_2018.csv\")"
   ]
  }
 ],
 "metadata": {
  "kernelspec": {
   "display_name": "Python 3 (ipykernel)",
   "language": "python",
   "name": "python3"
  },
  "language_info": {
   "codemirror_mode": {
    "name": "ipython",
    "version": 3
   },
   "file_extension": ".py",
   "mimetype": "text/x-python",
   "name": "python",
   "nbconvert_exporter": "python",
   "pygments_lexer": "ipython3",
   "version": "3.9.7"
  }
 },
 "nbformat": 4,
 "nbformat_minor": 5
}
