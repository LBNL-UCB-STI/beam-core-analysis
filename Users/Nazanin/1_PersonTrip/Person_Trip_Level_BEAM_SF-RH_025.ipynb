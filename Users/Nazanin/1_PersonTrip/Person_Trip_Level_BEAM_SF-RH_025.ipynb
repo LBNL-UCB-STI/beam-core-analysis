{
 "cells": [
  {
   "cell_type": "code",
   "execution_count": 1,
   "id": "f55cd92c",
   "metadata": {},
   "outputs": [],
   "source": [
    "import pandas as pd\n",
    "import numpy as np\n",
    "import geopandas as gpd\n",
    "import h5py\n",
    "import boto.s3\n",
    "import glob\n",
    "import boto3\n",
    "from zipfile import ZipFile"
   ]
  },
  {
   "cell_type": "markdown",
   "id": "2513d967",
   "metadata": {},
   "source": [
    "#### Juan's Code"
   ]
  },
  {
   "cell_type": "code",
   "execution_count": 2,
   "id": "b859ca53",
   "metadata": {},
   "outputs": [],
   "source": [
    "s3 = boto3.client(\"s3\")"
   ]
  },
  {
   "cell_type": "code",
   "execution_count": null,
   "id": "5e283d54",
   "metadata": {},
   "outputs": [],
   "source": [
    "#Download File from s3 bucket \n",
    "key = \"pilates-outputs/sfbay-base-20220409/activitysim/year-2018-iteration-5/trip_mode_choice.zip\"\n",
    "s3.download_file(\n",
    "    Bucket=\"beam-outputs\", Key=key, Filename=\"trip_mode_choice.zip\")"
   ]
  },
  {
   "cell_type": "code",
   "execution_count": null,
   "id": "45010a3f",
   "metadata": {},
   "outputs": [],
   "source": [
    "#Automatically extracting ZipFile with a python command \n",
    "with ZipFile('trip_mode_choice.zip', 'r') as zipObj:\n",
    "   # Extract all the contents of zip file in current directory\n",
    "   zipObj.extractall()"
   ]
  },
  {
   "cell_type": "markdown",
   "id": "7bb956bf",
   "metadata": {},
   "source": [
    "#### SF 2018"
   ]
  },
  {
   "cell_type": "code",
   "execution_count": 2,
   "id": "423ab3c4",
   "metadata": {},
   "outputs": [],
   "source": [
    "# File location on S3 (The address should be updated depending on the version of the code using)\n",
    "loc_2018_baseline = \"https://beam-outputs.s3.amazonaws.com/pilates-outputs/sfbay-base-20220409/beam/year-2018-iteration-5/ITERS/it.0/\"\n",
    "loc_2018_transitFreq05 = \"https://beam-outputs.s3.amazonaws.com/pilates-outputs/sfbay-transit_frequencies_0.5-20220528/beam/year-2018-iteration-5/ITERS/it.0/\"\n",
    "loc_2018_transitFreq1p5 = \"https://beam-outputs.s3.amazonaws.com/pilates-outputs/sfbay-transit_frequencies_1.5-20220529/beam/year-2018-iteration-5/ITERS/it.0/\"\n",
    "loc_2018_transitFreq2 = \"https://beam-outputs.s3.amazonaws.com/pilates-outputs/sfbay-transit_frequencies_2.0-20220529/beam/year-2018-iteration-5/ITERS/it.0/\"\n",
    "loc_2018_rhFleetsz0125 = \"https://beam-outputs.s3.amazonaws.com/pilates-outputs/sfbay-RH_fleetsz_0.125-20220408/beam/year-2018-iteration-5/ITERS/it.0/\"\n",
    "loc_2018_rhFleetsz025 = \"https://beam-outputs.s3.amazonaws.com/pilates-outputs/sfbay-RH_fleetsz_0.25-20220408/beam/year-2018-iteration-5/ITERS/it.0/\"\n",
    "loc_2018_rhFleetsz05 = \"https://beam-outputs.s3.amazonaws.com/pilates-outputs/sfbay-RH_fleetsz_0.5-20220408/beam/year-2018-iteration-5/ITERS/it.0/\"\n",
    "loc_2018_rhFleetsz150 = \"https://beam-outputs.s3.amazonaws.com/pilates-outputs/sfbay-RH_fleetsz_1.5-20220328/beam/year-2018-iteration-5/ITERS/it.0/\"\n",
    "loc_2018_rhFleetsz175 = \"https://beam-outputs.s3.amazonaws.com/pilates-outputs/sfbay-RH_fleetsz_1.75-20220408/beam/year-2018-iteration-5/ITERS/it.0/\""
   ]
  },
  {
   "cell_type": "markdown",
   "id": "8ce8ada6",
   "metadata": {},
   "source": [
    "#### SF 2019"
   ]
  },
  {
   "cell_type": "code",
   "execution_count": 3,
   "id": "2f3472cf",
   "metadata": {},
   "outputs": [],
   "source": [
    "loc_2019_transCap05 = \"https://beam-outputs.s3.amazonaws.com/pilates-outputs/sfbay-transit_capacity_0.5-20220329/beam/year-2019-iteration-5/ITERS/it.0/\""
   ]
  },
  {
   "cell_type": "code",
   "execution_count": 3,
   "id": "39226076",
   "metadata": {},
   "outputs": [
    {
     "name": "stderr",
     "output_type": "stream",
     "text": [
      "<timed exec>:24: DtypeWarning: Columns (0,1,19,35,44,47,49,53,54) have mixed types. Specify dtype option on import or set low_memory=False.\n"
     ]
    },
    {
     "name": "stdout",
     "output_type": "stream",
     "text": [
      "CPU times: total: 3min 11s\n",
      "Wall time: 3min 46s\n"
     ]
    }
   ],
   "source": [
    "%%time\n",
    "# Reading the events file\n",
    "dtypes = {\n",
    "    \"time\": \"float32\",\n",
    "    \"type\": \"category\",\n",
    "    \"legMode\": \"category\",\n",
    "    \"actType\": \"category\", \n",
    "    \"primaryFuelLevel\": \"float64\",\n",
    "    \"legMode\": \"category\",\n",
    "    \"chargingPointType\":\"category\",\n",
    "    \"pricingModel\":\"category\",\n",
    "    \"parkingType\":\"category\",\n",
    "    \"mode\":\"category\",\n",
    "    \"personalVehicleAvailable\": \"category\",\n",
    "    \"person\": \"object\",\n",
    "    \"driver\": \"object\",\n",
    "    \"riders\": \"object\",\n",
    "    'primaryFuelType': \"category\",\n",
    "    'secondaryFuelType': 'category',\n",
    "    'currentTourMode': 'category',\n",
    "    'currentActivity': 'category',\n",
    "    'nextActivity': 'category'    \n",
    "}\n",
    "# Use list comprehension to remove the unwanted column in **usecol**\n",
    "eventsSF = pd.read_csv(loc_2018_rhFleetsz025 + '0.events.csv.gz', compression = 'gzip', dtype = dtypes)"
   ]
  },
  {
   "cell_type": "code",
   "execution_count": 4,
   "id": "e44a5a90",
   "metadata": {},
   "outputs": [],
   "source": [
    "# Show all columns and rows\n",
    "pd.options.display.max_columns = None\n",
    "pd.options.display.max_rows = None"
   ]
  },
  {
   "cell_type": "code",
   "execution_count": 5,
   "id": "e7f2c0e5",
   "metadata": {},
   "outputs": [],
   "source": [
    "# Showing the entire number in dataframe\n",
    "pd.set_option('float_format', '{:f}'.format)"
   ]
  },
  {
   "cell_type": "code",
   "execution_count": 6,
   "id": "11d38389",
   "metadata": {},
   "outputs": [],
   "source": [
    "#eventsSF.describe()"
   ]
  },
  {
   "cell_type": "code",
   "execution_count": 7,
   "id": "fc594976",
   "metadata": {},
   "outputs": [],
   "source": [
    "#eventsSF[(eventsSF['tripId'] == 35789.0)]"
   ]
  },
  {
   "cell_type": "code",
   "execution_count": 8,
   "id": "4c4d447b",
   "metadata": {},
   "outputs": [],
   "source": [
    "#eventsSF[(eventsSF['tripId'] == 35785.0)|(eventsSF['person'] == 1004)|(eventsSF['driver'] == '1004')|(eventsSF['riders']=='1004')]"
   ]
  },
  {
   "cell_type": "code",
   "execution_count": 9,
   "id": "0229e6a9",
   "metadata": {},
   "outputs": [],
   "source": [
    "#eventsSF[(eventsSF['tollPaid'] == 5)|(eventsSF['tollCost'] == 5)]"
   ]
  },
  {
   "cell_type": "code",
   "execution_count": 5,
   "id": "64e2b50f",
   "metadata": {},
   "outputs": [
    {
     "data": {
      "text/plain": [
       "array([nan,  0.,  5.])"
      ]
     },
     "execution_count": 5,
     "metadata": {},
     "output_type": "execute_result"
    }
   ],
   "source": [
    "eventsSF.tollPaid.unique()"
   ]
  },
  {
   "cell_type": "code",
   "execution_count": 6,
   "id": "1b886fc0",
   "metadata": {},
   "outputs": [
    {
     "data": {
      "text/plain": [
       "array([nan,  0.,  5.])"
      ]
     },
     "execution_count": 6,
     "metadata": {},
     "output_type": "execute_result"
    }
   ],
   "source": [
    "eventsSF.tollCost.unique()"
   ]
  },
  {
   "cell_type": "code",
   "execution_count": 7,
   "id": "52f29994",
   "metadata": {},
   "outputs": [
    {
     "data": {
      "text/plain": [
       "Index(['person', 'vehicle', 'time', 'type', 'mode', 'currentTourMode',\n",
       "       'expectedMaximumUtility', 'availableAlternatives', 'location',\n",
       "       'personalVehicleAvailable', 'length', 'tourIndex', 'legModes',\n",
       "       'legVehicleIds', 'currentActivity', 'nextActivity', 'tripId', 'reason',\n",
       "       'link', 'legMode', 'facility', 'actType', 'shiftStatus', 'parkingTaz',\n",
       "       'chargingPointType', 'pricingModel', 'parkingType', 'locationY',\n",
       "       'locationX', 'parkingZoneId', 'fuel', 'duration', 'vehicleType',\n",
       "       'price', 'endY', 'endX', 'startY', 'startX', 'arrivalTime',\n",
       "       'departureTime', 'primaryFuelLevel', 'secondaryFuelLevel', 'cost',\n",
       "       'driver', 'links', 'numPassengers', 'primaryFuel', 'riders',\n",
       "       'toStopIndex', 'fromStopIndex', 'seatingCapacity', 'tollPaid',\n",
       "       'capacity', 'linkTravelTime', 'secondaryFuel', 'secondaryFuelType',\n",
       "       'primaryFuelType', 'departTime', 'score', 'incentive', 'tollCost',\n",
       "       'netCost'],\n",
       "      dtype='object')"
      ]
     },
     "execution_count": 7,
     "metadata": {},
     "output_type": "execute_result"
    }
   ],
   "source": [
    "eventsSF.columns"
   ]
  },
  {
   "cell_type": "code",
   "execution_count": 10,
   "id": "aba1a1c3",
   "metadata": {},
   "outputs": [],
   "source": [
    "#eventsSF[(eventsSF['tripId'] == 1306)|(eventsSF['person'] == 3)|(eventsSF['driver'] == '3')|(eventsSF['riders'] == 3)]"
   ]
  },
  {
   "cell_type": "code",
   "execution_count": 11,
   "id": "c33f5570",
   "metadata": {},
   "outputs": [],
   "source": [
    "eventsSF['scenario'] = \"rhflsz0p25\"\n",
    "eventsSF['scenario'] = eventsSF['scenario'].astype(\"category\")\n",
    "eventsSF['year'] = 2018"
   ]
  },
  {
   "cell_type": "code",
   "execution_count": 12,
   "id": "2fbd0c93",
   "metadata": {},
   "outputs": [],
   "source": [
    "# Rename the \"mode\" column\n",
    "eventsSF.rename(columns={\"mode\":\"modeBEAM\"}, inplace=True) \n",
    "# Replace \"Work\" with \"work\" in the \"actType\" column\n",
    "eventsSF[\"actType\"].replace({\"Work\": \"work\"}, inplace=True)"
   ]
  },
  {
   "cell_type": "code",
   "execution_count": 13,
   "id": "2075bac6",
   "metadata": {},
   "outputs": [],
   "source": [
    "eventsSFCopy = eventsSF.copy()"
   ]
  },
  {
   "cell_type": "code",
   "execution_count": 10,
   "id": "15504d2b",
   "metadata": {},
   "outputs": [],
   "source": [
    "# deadhead = eventsSF[eventsSF.person.str.contains(\"Agent\", na=False)].reset_index(drop=True)\n",
    "# When there are no riders. Driver and person are not numbers, but include \"Agent\""
   ]
  },
  {
   "cell_type": "code",
   "execution_count": 14,
   "id": "f2d74acd",
   "metadata": {},
   "outputs": [],
   "source": [
    "# Remove person = TransitDriver or RidehailDriver because there are no agent information in these rows\n",
    "eventsSF = eventsSF[~eventsSF.person.str.contains(\"Agent\", na=False)].reset_index(drop=True)"
   ]
  },
  {
   "cell_type": "code",
   "execution_count": 15,
   "id": "d64b6a6f",
   "metadata": {},
   "outputs": [],
   "source": [
    "# shift column 'person' to first position\n",
    "first_column = eventsSF.pop('person')\n",
    "second_column = eventsSF.pop('driver')\n",
    "third_column = eventsSF.pop('riders')\n",
    "# insert column using insert(position,column_name,first_column) function\n",
    "eventsSF.insert(0, 'person', first_column)\n",
    "eventsSF.insert(1, 'driver', second_column)\n",
    "eventsSF.insert(2, 'riders', third_column)"
   ]
  },
  {
   "cell_type": "code",
   "execution_count": 16,
   "id": "77e7695a",
   "metadata": {},
   "outputs": [],
   "source": [
    "# Adding the IDMerged Column\n",
    "eventsSF['UniqueID'] = eventsSF['person'] #make a copy of the person column\n",
    "eventsSF['personID'] = np.where(eventsSF['person'].isin(eventsSF['driver']), eventsSF['person'], np.nan) \n",
    "eventsSF['driverID'] = np.where(eventsSF['driver'].isin(eventsSF['person']), eventsSF['driver'], np.nan)"
   ]
  },
  {
   "cell_type": "code",
   "execution_count": 17,
   "id": "a9f2b0af",
   "metadata": {},
   "outputs": [],
   "source": [
    "# Merging person and driver ids in one column\n",
    "eventsSF['IDMerged'] = eventsSF['personID'].combine_first(eventsSF['driverID'])\n",
    "eventsSF['IDMerged'] = eventsSF['UniqueID'].combine_first(eventsSF['IDMerged'])"
   ]
  },
  {
   "cell_type": "code",
   "execution_count": 18,
   "id": "70ccea79",
   "metadata": {},
   "outputs": [],
   "source": [
    "# Dropping unused columns\n",
    "eventsSF = eventsSF.drop(['personID','driverID','UniqueID'], axis=1) "
   ]
  },
  {
   "cell_type": "code",
   "execution_count": 19,
   "id": "2f6d5d3d",
   "metadata": {},
   "outputs": [],
   "source": [
    "# Shift column 'IDMerged' to first position\n",
    "first_column = eventsSF.pop('IDMerged')\n",
    "# Insert column using insert(position,column_name,first_column) function\n",
    "eventsSF.insert(0, 'IDMerged', first_column)"
   ]
  },
  {
   "cell_type": "code",
   "execution_count": 20,
   "id": "3dffe8cf",
   "metadata": {},
   "outputs": [
    {
     "name": "stdout",
     "output_type": "stream",
     "text": [
      "CPU times: total: 5min 2s\n",
      "Wall time: 6min 12s\n"
     ]
    }
   ],
   "source": [
    "%%time\n",
    "# Split the \"riders' column and replicated rows for every rider\n",
    "eventsSF['riders'] = eventsSF['riders'].str.split(':')\n",
    "eventsSF = eventsSF.explode('riders')"
   ]
  },
  {
   "cell_type": "code",
   "execution_count": 21,
   "id": "cad273bc",
   "metadata": {},
   "outputs": [],
   "source": [
    "# Combine riderID with IDMerged\n",
    "eventsSF['riderID'] = np.where(eventsSF['riders'].isin(eventsSF['person']), eventsSF['riders'], np.nan)\n",
    "eventsSF['IDMerged'] = eventsSF['riderID'].combine_first(eventsSF['IDMerged'])"
   ]
  },
  {
   "cell_type": "code",
   "execution_count": 22,
   "id": "65de33c2",
   "metadata": {},
   "outputs": [],
   "source": [
    "# Dropping unused columns\n",
    "eventsSF = eventsSF.drop(['riderID'], axis=1) "
   ]
  },
  {
   "cell_type": "code",
   "execution_count": 23,
   "id": "d8a62eb1",
   "metadata": {},
   "outputs": [],
   "source": [
    "# Remove driver = TransitDriver or RidehailDriver for IDMerged = NAN because there are no agent information in these rows \n",
    "eventsSF = eventsSF[~((eventsSF.driver.str.contains(\"Agent\", na=False))&(eventsSF.IDMerged.isna()))].reset_index(drop=True)"
   ]
  },
  {
   "cell_type": "code",
   "execution_count": 24,
   "id": "60db4199",
   "metadata": {
    "scrolled": true
   },
   "outputs": [
    {
     "data": {
      "text/plain": [
       "(3406, 65)"
      ]
     },
     "execution_count": 24,
     "metadata": {},
     "output_type": "execute_result"
    }
   ],
   "source": [
    "IDnan = eventsSF[eventsSF['IDMerged'].isna()]\n",
    "IDnan.shape"
   ]
  },
  {
   "cell_type": "code",
   "execution_count": 25,
   "id": "994ab676",
   "metadata": {},
   "outputs": [
    {
     "name": "stdout",
     "output_type": "stream",
     "text": [
      "CPU times: total: 4min 34s\n",
      "Wall time: 4min 37s\n"
     ]
    }
   ],
   "source": [
    "%%time\n",
    "# Filling NANs in ID related to charging events\n",
    "eventsSF[\"chargeID\"] = eventsSF.groupby('vehicle')['IDMerged'].transform(lambda x: x.ffill().bfill())"
   ]
  },
  {
   "cell_type": "code",
   "execution_count": 26,
   "id": "0165322c",
   "metadata": {},
   "outputs": [],
   "source": [
    "# Combining chargeID with IDMerged so no NANs anymore\n",
    "eventsSF['IDMerged'] = eventsSF['chargeID'].combine_first(eventsSF['IDMerged'])"
   ]
  },
  {
   "cell_type": "code",
   "execution_count": 27,
   "id": "525d0231",
   "metadata": {},
   "outputs": [
    {
     "data": {
      "text/plain": [
       "(0, 66)"
      ]
     },
     "execution_count": 27,
     "metadata": {},
     "output_type": "execute_result"
    }
   ],
   "source": [
    "IDnan = eventsSF[eventsSF['IDMerged'].isna()]\n",
    "IDnan.shape"
   ]
  },
  {
   "cell_type": "code",
   "execution_count": 28,
   "id": "dff0f0d9",
   "metadata": {},
   "outputs": [],
   "source": [
    "# Dropping unused columns\n",
    "eventsSF = eventsSF.drop(['chargeID'], axis=1) "
   ]
  },
  {
   "cell_type": "code",
   "execution_count": 29,
   "id": "b819d698",
   "metadata": {},
   "outputs": [
    {
     "name": "stdout",
     "output_type": "stream",
     "text": [
      "['car', nan, 'walk', 'bike', 'hov3_teleportation', 'hov2_teleportation', 'car_hov3', 'car_hov2', 'walk_transit', 'ride_hail', 'ride_hail_transit', 'ride_hail_pooled', 'drive_transit', 'bike_transit']\n"
     ]
    }
   ],
   "source": [
    "print(eventsSF.currentTourMode.unique().tolist())"
   ]
  },
  {
   "cell_type": "code",
   "execution_count": 27,
   "id": "538ab648",
   "metadata": {},
   "outputs": [
    {
     "name": "stdout",
     "output_type": "stream",
     "text": [
      "['hov2_teleportation', nan, 'car', 'walk', 'car_hov2', 'bike', 'hov3_teleportation', 'car_hov3', 'walk_transit', 'ride_hail', 'ride_hail_pooled', 'drive_transit', 'ride_hail_transit', 'bus', 'tram', 'subway', 'rail', 'cable_car', 'bike_transit']\n"
     ]
    }
   ],
   "source": [
    "print(eventsSF.modeBEAM.unique().tolist())"
   ]
  },
  {
   "cell_type": "code",
   "execution_count": 28,
   "id": "3d13d123",
   "metadata": {},
   "outputs": [
    {
     "name": "stdout",
     "output_type": "stream",
     "text": [
      "['ModeChoice', 'actend', 'departure', 'TeleportationEvent', 'arrival', 'actstart', 'PersonEntersVehicle', 'PathTraversal', 'LeavingParkingEvent', 'ParkingEvent', 'PersonCost', 'PersonLeavesVehicle', 'ReserveRideHail', 'Replanning', 'ChargingPlugInEvent', 'RefuelSessionEvent', 'ChargingPlugOutEvent']\n"
     ]
    }
   ],
   "source": [
    "print(eventsSF.type.unique().tolist())"
   ]
  },
  {
   "cell_type": "code",
   "execution_count": 30,
   "id": "ad36c06d",
   "metadata": {},
   "outputs": [
    {
     "name": "stdout",
     "output_type": "stream",
     "text": [
      "CPU times: total: 17.7 s\n",
      "Wall time: 17.7 s\n"
     ]
    }
   ],
   "source": [
    "%%time\n",
    "# Change the IDMerged column type to numeric\n",
    "eventsSF[\"IDMerged\"] = pd.to_numeric(eventsSF.IDMerged)"
   ]
  },
  {
   "cell_type": "code",
   "execution_count": 31,
   "id": "983217d8",
   "metadata": {},
   "outputs": [],
   "source": [
    "# Sort by IDMerged and time columns\n",
    "eventsSF = eventsSF.sort_values(['IDMerged','time']).reset_index(drop=True)"
   ]
  },
  {
   "cell_type": "code",
   "execution_count": 32,
   "id": "2db653ae",
   "metadata": {},
   "outputs": [],
   "source": [
    "# We assume that the number of passengers is 1 for ride_hail_pooled\n",
    "eventsSF['modeBEAM_rh'] = np.where(eventsSF.driver.str.contains(\"rideHailAgent\", na=False), 'ride_hail' , eventsSF['modeBEAM'])"
   ]
  },
  {
   "cell_type": "code",
   "execution_count": 33,
   "id": "bd4c6384",
   "metadata": {},
   "outputs": [],
   "source": [
    "# Adding teleportation mode to the type = TeleportationEvent row \n",
    "eventsSF[\"modeBEAM_rh\"] = np.where(eventsSF['type']=='TeleportationEvent', eventsSF.modeBEAM_rh.fillna(method='ffill'), eventsSF[\"modeBEAM_rh\"])"
   ]
  },
  {
   "cell_type": "code",
   "execution_count": 34,
   "id": "4e1ba837",
   "metadata": {},
   "outputs": [],
   "source": [
    "eventsSF['modeBEAM_rh_pooled'] = np.where((eventsSF['type'] == 'PersonCost') & (eventsSF['modeBEAM'] == 'ride_hail_pooled'), 'ride_hail_pooled', np.nan)"
   ]
  },
  {
   "cell_type": "code",
   "execution_count": 35,
   "id": "3339c5df",
   "metadata": {},
   "outputs": [],
   "source": [
    "eventsSF['modeBEAM_rh_ride_hail_transit'] = np.where((eventsSF['type'] == 'PersonCost') & (eventsSF['modeBEAM'] == 'ride_hail_transit'), 'ride_hail_transit', np.nan)"
   ]
  },
  {
   "cell_type": "code",
   "execution_count": 36,
   "id": "e1eb832e",
   "metadata": {},
   "outputs": [],
   "source": [
    "eventsSF['modeBEAM_rh_pooled'] = eventsSF['modeBEAM_rh_pooled'].shift(+1)"
   ]
  },
  {
   "cell_type": "code",
   "execution_count": 37,
   "id": "92e73beb",
   "metadata": {},
   "outputs": [],
   "source": [
    "eventsSF['modeBEAM_rh_ride_hail_transit'] = eventsSF['modeBEAM_rh_ride_hail_transit'].shift(+1)"
   ]
  },
  {
   "cell_type": "code",
   "execution_count": 38,
   "id": "120a46e0",
   "metadata": {},
   "outputs": [],
   "source": [
    "eventsSF['modeBEAM_rh'] = np.where((eventsSF['type'] == 'PathTraversal') & (eventsSF['modeBEAM'] == 'car') & (eventsSF['driver'].str.contains(\"rideHailAgent\", na=False)) & (eventsSF['modeBEAM_rh_pooled'] != 'nan'), eventsSF['modeBEAM_rh_pooled'], eventsSF['modeBEAM_rh'])"
   ]
  },
  {
   "cell_type": "code",
   "execution_count": 39,
   "id": "99d82b22",
   "metadata": {},
   "outputs": [],
   "source": [
    "# We don't know if ridehail_transit is ride_hail or ride_hail_pooled\n",
    "eventsSF['modeBEAM_rh'] = np.where((eventsSF['type'] == 'PathTraversal') & (eventsSF['modeBEAM'] == 'car') & (eventsSF['driver'].str.contains(\"rideHailAgent\", na=False)) & (eventsSF['modeBEAM_rh_ride_hail_transit'] != 'nan'), eventsSF['modeBEAM_rh_ride_hail_transit'], eventsSF['modeBEAM_rh'])"
   ]
  },
  {
   "cell_type": "code",
   "execution_count": 40,
   "id": "3db04d3f",
   "metadata": {},
   "outputs": [],
   "source": [
    "# Dropping the temporary columns\n",
    "eventsSF = eventsSF.drop(['modeBEAM_rh_pooled'], axis=1)\n",
    "eventsSF = eventsSF.drop(['modeBEAM_rh_ride_hail_transit'], axis=1)"
   ]
  },
  {
   "cell_type": "markdown",
   "id": "cb6f3a97",
   "metadata": {},
   "source": [
    "#### Adding census blocks"
   ]
  },
  {
   "cell_type": "code",
   "execution_count": 41,
   "id": "fdaeafcc",
   "metadata": {},
   "outputs": [],
   "source": [
    "def addGeometryIdToDataFrame(df, gdf, xcol, ycol, idColumn=\"geometry\", df_geom='epsg:4326'):\n",
    "    gdf_data = gpd.GeoDataFrame(df, geometry=gpd.points_from_xy(df[xcol], df[ycol]))\n",
    "    gdf_data.crs = {'init': df_geom}\n",
    "    joined = gpd.sjoin(gdf_data.to_crs('epsg:26910'), gdf.to_crs('epsg:26910'))\n",
    "    gdf_data = gdf_data.merge(joined['blkgrpid'], left_index=True, right_index=True, how=\"left\")\n",
    "    gdf_data.rename(columns={'blkgrpid': idColumn}, inplace=True)\n",
    "    df = pd.DataFrame(gdf_data.drop(columns='geometry'))\n",
    "    df.drop(columns=[xcol, ycol], inplace=True)\n",
    "    return df.loc[~df.index.duplicated(keep='first'), :]"
   ]
  },
  {
   "cell_type": "code",
   "execution_count": 41,
   "id": "411a779f",
   "metadata": {},
   "outputs": [],
   "source": [
    "BGs = gpd.read_file('C:/Shared-Work/Data/Scenario_2010_shp/641aa0d4-ce5b-4a81-9c30-8790c4ab8cfb202047-1-wkkklf.j5ouj.shp')"
   ]
  },
  {
   "cell_type": "code",
   "execution_count": 42,
   "id": "fcc7abc2",
   "metadata": {},
   "outputs": [
    {
     "name": "stderr",
     "output_type": "stream",
     "text": [
      "C:\\Users\\nazanin\\.conda\\envs\\geo_env\\lib\\site-packages\\pyproj\\crs\\crs.py:53: FutureWarning: '+init=<authority>:<code>' syntax is deprecated. '<authority>:<code>' is the preferred initialization method. When making the change, be mindful of axis order changes: https://pyproj4.github.io/pyproj/stable/gotchas.html#axis-order-changes-in-proj-6\n",
      "  return _prepare_from_string(\" \".join(pjargs))\n"
     ]
    },
    {
     "name": "stdout",
     "output_type": "stream",
     "text": [
      "CPU times: total: 59min 17s\n",
      "Wall time: 59min 18s\n"
     ]
    }
   ],
   "source": [
    "%%time\n",
    "eventsSF = addGeometryIdToDataFrame(eventsSF, BGs, 'startX', 'startY', 'BlockGroupStart')"
   ]
  },
  {
   "cell_type": "code",
   "execution_count": 43,
   "id": "9eae57c0",
   "metadata": {},
   "outputs": [
    {
     "name": "stderr",
     "output_type": "stream",
     "text": [
      "C:\\Users\\nazanin\\.conda\\envs\\geo_env\\lib\\site-packages\\pyproj\\crs\\crs.py:53: FutureWarning: '+init=<authority>:<code>' syntax is deprecated. '<authority>:<code>' is the preferred initialization method. When making the change, be mindful of axis order changes: https://pyproj4.github.io/pyproj/stable/gotchas.html#axis-order-changes-in-proj-6\n",
      "  return _prepare_from_string(\" \".join(pjargs))\n"
     ]
    },
    {
     "name": "stdout",
     "output_type": "stream",
     "text": [
      "CPU times: total: 59min 17s\n",
      "Wall time: 59min 17s\n"
     ]
    }
   ],
   "source": [
    "%%time\n",
    "eventsSF = addGeometryIdToDataFrame(eventsSF, BGs, 'endX', 'endY', 'BlockGroupEnd')"
   ]
  },
  {
   "cell_type": "markdown",
   "id": "fe8a8b31",
   "metadata": {},
   "source": [
    "#### Adding new columns"
   ]
  },
  {
   "cell_type": "code",
   "execution_count": 42,
   "id": "ff786a3b",
   "metadata": {},
   "outputs": [],
   "source": [
    "eventsSF['actEndTime'] = np.where(eventsSF['type']=='actend'\n",
    "                     , eventsSF['time'], np.nan)"
   ]
  },
  {
   "cell_type": "code",
   "execution_count": 43,
   "id": "57f2a46c",
   "metadata": {},
   "outputs": [],
   "source": [
    "eventsSF['actStartTime'] = np.where(eventsSF['type']=='actstart'\n",
    "                     , eventsSF['time'], np.nan)    "
   ]
  },
  {
   "cell_type": "code",
   "execution_count": 44,
   "id": "0f47b8ee",
   "metadata": {},
   "outputs": [],
   "source": [
    "eventsSF['duration_travelling'] = np.where((eventsSF['type']=='PathTraversal')|(eventsSF['type']=='TeleportationEvent')\n",
    "                     , eventsSF['arrivalTime'] - eventsSF['departureTime'], np.nan)"
   ]
  },
  {
   "cell_type": "code",
   "execution_count": 45,
   "id": "7e427fd1",
   "metadata": {},
   "outputs": [],
   "source": [
    "eventsSF['distance_travelling'] = np.where((eventsSF['type']=='PathTraversal')|((eventsSF['type']=='ModeChoice')&((eventsSF['modeBEAM']=='hov2_teleportation')|(eventsSF['modeBEAM']=='hov3_teleportation'))), eventsSF['length'], np.nan)"
   ]
  },
  {
   "cell_type": "code",
   "execution_count": 46,
   "id": "63c8c08a",
   "metadata": {},
   "outputs": [],
   "source": [
    "eventsSF['distance_mode_choice'] = np.where(eventsSF['type']=='ModeChoice', eventsSF['length'], np.nan)"
   ]
  },
  {
   "cell_type": "code",
   "execution_count": 47,
   "id": "6403c92a",
   "metadata": {},
   "outputs": [],
   "source": [
    "eventsSF['duration_walking'] = np.where(eventsSF['modeBEAM']=='walk', eventsSF['duration_travelling'], np.nan)"
   ]
  },
  {
   "cell_type": "code",
   "execution_count": 48,
   "id": "9edb77aa",
   "metadata": {},
   "outputs": [],
   "source": [
    "eventsSF['distance_walking'] = np.where(eventsSF['modeBEAM']=='walk', eventsSF['distance_travelling'], np.nan)"
   ]
  },
  {
   "cell_type": "code",
   "execution_count": 49,
   "id": "d4a0af57",
   "metadata": {},
   "outputs": [],
   "source": [
    "eventsSF['duration_on_bike'] = np.where(eventsSF['modeBEAM']=='bike', eventsSF['duration_travelling'], np.nan)"
   ]
  },
  {
   "cell_type": "code",
   "execution_count": 50,
   "id": "148a3dbe",
   "metadata": {},
   "outputs": [],
   "source": [
    "eventsSF['distance_bike'] = np.where(eventsSF['modeBEAM']=='bike', eventsSF['distance_travelling'], np.nan)"
   ]
  },
  {
   "cell_type": "code",
   "execution_count": 51,
   "id": "3624b92a",
   "metadata": {},
   "outputs": [],
   "source": [
    "eventsSF['duration_in_ridehail'] = np.where((eventsSF['modeBEAM_rh']=='ride_hail')|(eventsSF['modeBEAM_rh']=='ride_hail_pooled')|(eventsSF['modeBEAM_rh']=='ride_hail_transit'), \n",
    "                                            eventsSF['duration_travelling'], np.nan)"
   ]
  },
  {
   "cell_type": "code",
   "execution_count": 52,
   "id": "90d4c42d",
   "metadata": {},
   "outputs": [],
   "source": [
    "eventsSF['distance_ridehail'] = np.where((eventsSF['modeBEAM_rh']=='ride_hail')|(eventsSF['modeBEAM_rh']=='ride_hail_pooled')|(eventsSF['modeBEAM_rh']=='ride_hail_transit'), eventsSF['distance_travelling'], np.nan)"
   ]
  },
  {
   "cell_type": "code",
   "execution_count": 53,
   "id": "4bb825fb",
   "metadata": {},
   "outputs": [],
   "source": [
    "eventsSF['duration_in_privateCar'] = np.where((eventsSF['modeBEAM_rh']=='car')|(eventsSF['modeBEAM_rh']=='car_hov3')|(eventsSF['modeBEAM_rh']=='car_hov2')|\n",
    "                                              (eventsSF['modeBEAM_rh']=='hov2_teleportation')|(eventsSF['modeBEAM_rh']=='hov3_teleportation') \n",
    "                                              , eventsSF['duration_travelling'], np.nan)"
   ]
  },
  {
   "cell_type": "code",
   "execution_count": 54,
   "id": "3473c8da",
   "metadata": {},
   "outputs": [],
   "source": [
    "eventsSF['distance_privateCar'] = np.where((eventsSF['modeBEAM_rh']=='car')|(eventsSF['modeBEAM_rh']=='car_hov3')|(eventsSF['modeBEAM_rh']=='car_hov2')|\n",
    "                                              (eventsSF['modeBEAM_rh']=='hov2_teleportation')|(eventsSF['modeBEAM_rh']=='hov3_teleportation'), eventsSF['distance_travelling'], np.nan)"
   ]
  },
  {
   "cell_type": "code",
   "execution_count": 55,
   "id": "0b735038",
   "metadata": {},
   "outputs": [],
   "source": [
    "eventsSF['duration_in_transit'] = np.where((eventsSF['modeBEAM']=='bike_transit')|(eventsSF['modeBEAM']=='drive_transit')|\n",
    "                                           (eventsSF['modeBEAM']=='walk_transit')|(eventsSF['modeBEAM']=='bus')|\n",
    "                                           (eventsSF['modeBEAM']=='tram')|(eventsSF['modeBEAM']=='subway')|\n",
    "                                           (eventsSF['modeBEAM']=='rail')|(eventsSF['modeBEAM']=='cable_car')|\n",
    "                                           (eventsSF['modeBEAM']=='ride_hail_transit'), eventsSF['duration_travelling'], np.nan)"
   ]
  },
  {
   "cell_type": "code",
   "execution_count": 56,
   "id": "92c358e1",
   "metadata": {},
   "outputs": [],
   "source": [
    "eventsSF['distance_transit'] = np.where((eventsSF['modeBEAM']=='bike_transit')|(eventsSF['modeBEAM']=='drive_transit')|\n",
    "                                        (eventsSF['modeBEAM']=='walk_transit')|(eventsSF['modeBEAM']=='bus')|\n",
    "                                        (eventsSF['modeBEAM']=='tram')|(eventsSF['modeBEAM']=='subway')|\n",
    "                                        (eventsSF['modeBEAM']=='rail')|(eventsSF['modeBEAM']=='cable_car')|\n",
    "                                        (eventsSF['modeBEAM']=='ride_hail_transit'), eventsSF['distance_travelling'], np.nan)"
   ]
  },
  {
   "cell_type": "code",
   "execution_count": 57,
   "id": "0b4e8ccd",
   "metadata": {},
   "outputs": [],
   "source": [
    "# Removing the extra tour index happening after replanning events\n",
    "eventsSF['replanningTime'] = np.where(eventsSF['type'] == 'Replanning', eventsSF['time'], np.nan)\n",
    "eventsSF['replanningTime'] = eventsSF['replanningTime'].shift(+1)\n",
    "eventsSF['tourIndex_fixed'] = np.where((eventsSF['type'] == 'ModeChoice')&(eventsSF['replanningTime'].notna()), np.nan, eventsSF['tourIndex'])"
   ]
  },
  {
   "cell_type": "code",
   "execution_count": 58,
   "id": "1335cedb",
   "metadata": {},
   "outputs": [],
   "source": [
    "#eventsSF = eventsSF.set_index('IDMerged')"
   ]
  },
  {
   "cell_type": "code",
   "execution_count": 59,
   "id": "60959843",
   "metadata": {},
   "outputs": [
    {
     "data": {
      "text/plain": [
       "array(['hov3_teleportation', nan, 'car', 'walk', 'walk_transit', 'bus',\n",
       "       'car_hov2', 'subway', 'ride_hail', 'hov2_teleportation', 'rail',\n",
       "       'bike', 'car_hov3', 'tram', 'ride_hail_pooled', 'drive_transit',\n",
       "       'cable_car', 'ride_hail_transit', 'bike_transit'], dtype=object)"
      ]
     },
     "execution_count": 59,
     "metadata": {},
     "output_type": "execute_result"
    }
   ],
   "source": [
    "eventsSF.modeBEAM_rh.unique()"
   ]
  },
  {
   "cell_type": "code",
   "execution_count": 60,
   "id": "2159f9a9",
   "metadata": {},
   "outputs": [
    {
     "data": {
      "text/plain": [
       "[NaN, 'Food', 'Gasoline', 'Diesel', 'Electricity', 'Biodiesel']\n",
       "Categories (5, object): ['Gasoline', 'Biodiesel', 'Diesel', 'Electricity', 'Food']"
      ]
     },
     "execution_count": 60,
     "metadata": {},
     "output_type": "execute_result"
    }
   ],
   "source": [
    "eventsSF.primaryFuelType.unique()"
   ]
  },
  {
   "cell_type": "code",
   "execution_count": 61,
   "id": "5beb42b2",
   "metadata": {},
   "outputs": [],
   "source": [
    "eventsSF['fuelFood'] = np.where((eventsSF['type']=='PathTraversal')&(eventsSF['primaryFuelType']=='Food'), \n",
    "                                eventsSF['primaryFuel'], np.nan)"
   ]
  },
  {
   "cell_type": "code",
   "execution_count": 62,
   "id": "f6880cae",
   "metadata": {},
   "outputs": [],
   "source": [
    "eventsSF['emissionFood'] = eventsSF['fuelFood'] * 8.3141841e-9 * 0"
   ]
  },
  {
   "cell_type": "code",
   "execution_count": 63,
   "id": "4104324f",
   "metadata": {},
   "outputs": [],
   "source": [
    "eventsSF['fuelElectricity'] = np.where((eventsSF['type']=='PathTraversal')&(eventsSF['primaryFuelType']=='Electricity'), \n",
    "                                eventsSF['primaryFuel'], np.nan)"
   ]
  },
  {
   "cell_type": "code",
   "execution_count": 64,
   "id": "ac8a70b7",
   "metadata": {},
   "outputs": [],
   "source": [
    "eventsSF['emissionElectricity'] = eventsSF['fuelElectricity'] * 2.77778e-10 * 947.2 * 0.0005"
   ]
  },
  {
   "cell_type": "code",
   "execution_count": 65,
   "id": "32f9c7d4",
   "metadata": {},
   "outputs": [],
   "source": [
    "eventsSF['fuelDiesel'] = np.where((eventsSF['type']=='PathTraversal')&(eventsSF['primaryFuelType']=='Diesel'), \n",
    "                                eventsSF['primaryFuel'], np.nan)"
   ]
  },
  {
   "cell_type": "code",
   "execution_count": 66,
   "id": "791a7e19",
   "metadata": {},
   "outputs": [],
   "source": [
    "eventsSF['emissionDiesel'] = eventsSF['fuelDiesel'] * 8.3141841e-9 * 10.180e-3"
   ]
  },
  {
   "cell_type": "code",
   "execution_count": 67,
   "id": "e8f68e5c",
   "metadata": {},
   "outputs": [],
   "source": [
    "eventsSF['fuelBiodiesel'] = np.where((eventsSF['type']=='PathTraversal')&(eventsSF['primaryFuelType']=='Biodiesel'), \n",
    "                                eventsSF['primaryFuel'], np.nan)"
   ]
  },
  {
   "cell_type": "code",
   "execution_count": 68,
   "id": "bfcfbcce",
   "metadata": {},
   "outputs": [],
   "source": [
    "eventsSF['emissionBiodiesel'] = eventsSF['fuelBiodiesel'] * 8.3141841e-9 * 10.180e-3"
   ]
  },
  {
   "cell_type": "code",
   "execution_count": 69,
   "id": "5e752231",
   "metadata": {},
   "outputs": [],
   "source": [
    "eventsSF['fuel_not_Food'] = np.where((eventsSF['type']=='PathTraversal')&(eventsSF['primaryFuelType']!='Food')\n",
    "                            , eventsSF['primaryFuel']+eventsSF['secondaryFuel'], np.nan)"
   ]
  },
  {
   "cell_type": "code",
   "execution_count": 70,
   "id": "bfc1273e",
   "metadata": {},
   "outputs": [],
   "source": [
    "eventsSF['fuelGasoline'] = np.where((eventsSF['type']=='PathTraversal')&((eventsSF['primaryFuelType']=='Gasoline')|(eventsSF['secondaryFuelType']=='Gasoline')), \n",
    "                           eventsSF['primaryFuel']+eventsSF['secondaryFuel'], np.nan)"
   ]
  },
  {
   "cell_type": "code",
   "execution_count": 71,
   "id": "fa3174aa",
   "metadata": {},
   "outputs": [],
   "source": [
    "eventsSF['emissionGasoline'] = eventsSF['fuelGasoline'] * 8.3141841e-9 * 8.89e-3"
   ]
  },
  {
   "cell_type": "code",
   "execution_count": 72,
   "id": "a62efea2",
   "metadata": {},
   "outputs": [],
   "source": [
    "# Marginal fuel\n",
    "conditions  = [(eventsSF['modeBEAM_rh'] == 'ride_hail_pooled'), \n",
    "               (eventsSF['modeBEAM_rh'] == 'walk_transit') | (eventsSF['modeBEAM_rh'] == 'drive_transit')|\n",
    "               (eventsSF['modeBEAM_rh'] == 'ride_hail_transit')|(eventsSF['modeBEAM_rh'] == 'bus')|(eventsSF['modeBEAM_rh'] == 'subway')|\n",
    "               (eventsSF['modeBEAM_rh'] == 'rail')|(eventsSF['modeBEAM_rh'] == 'tram')|(eventsSF['modeBEAM_rh'] == 'cable_car')|\n",
    "               (eventsSF['modeBEAM_rh'] == 'bike_transit'),\n",
    "               (eventsSF['modeBEAM_rh'] == 'walk')|(eventsSF['modeBEAM_rh'] == 'bike'),\n",
    "               (eventsSF['modeBEAM_rh'] == 'ride_hail')|(eventsSF['modeBEAM_rh'] == 'car')| \n",
    "               (eventsSF['modeBEAM_rh'] == 'car_hov2')| (eventsSF['modeBEAM_rh'] == 'car_hov3')|\n",
    "               (eventsSF['modeBEAM_rh'] == 'hov2_teleportation')| (eventsSF['modeBEAM_rh'] == 'hov3_teleportation')]\n",
    "choices = [eventsSF['fuel_not_Food']/eventsSF['numPassengers'], 0 , eventsSF['fuelFood'], eventsSF['fuel_not_Food']]"
   ]
  },
  {
   "cell_type": "code",
   "execution_count": 73,
   "id": "cdd142f0",
   "metadata": {},
   "outputs": [],
   "source": [
    "eventsSF['fuel_marginal'] = np.select(conditions, choices, default=np.nan)"
   ]
  },
  {
   "cell_type": "code",
   "execution_count": 74,
   "id": "f234ee59",
   "metadata": {},
   "outputs": [],
   "source": [
    "#eventsSF[(eventsSF['modeBEAM_rh'] == 'ride_hail_pooled') & (eventsSF['fuelElectricity'].notna() != 0)].head()"
   ]
  },
  {
   "cell_type": "code",
   "execution_count": 75,
   "id": "4eca5a86",
   "metadata": {},
   "outputs": [],
   "source": [
    "# Marginal emission\n",
    "conditions1  = [(eventsSF['modeBEAM_rh'] == 'ride_hail_pooled') & (eventsSF['fuelElectricity'].notna() != 0), \n",
    "               (eventsSF['modeBEAM_rh'] == 'ride_hail_pooled') & (eventsSF['fuelGasoline'].notna() != 0),\n",
    "               (eventsSF['modeBEAM_rh'] == 'ride_hail_pooled') & (eventsSF['fuelBiodiesel'].notna() != 0),\n",
    "               (eventsSF['modeBEAM_rh'] == 'ride_hail_pooled') & (eventsSF['fuelDiesel'].notna() != 0),             \n",
    "               (eventsSF['modeBEAM_rh'] == 'walk_transit') | (eventsSF['modeBEAM_rh'] == 'drive_transit')|\n",
    "               (eventsSF['modeBEAM_rh'] == 'ride_hail_transit')|(eventsSF['modeBEAM_rh'] == 'bus')|(eventsSF['modeBEAM_rh'] == 'subway')|\n",
    "               (eventsSF['modeBEAM_rh'] == 'rail')|(eventsSF['modeBEAM_rh'] == 'tram')|(eventsSF['modeBEAM_rh'] == 'cable_car')|\n",
    "               (eventsSF['modeBEAM_rh'] == 'bike_transit'),\n",
    "\n",
    "               (eventsSF['modeBEAM_rh'] == 'walk')|(eventsSF['modeBEAM_rh'] == 'bike'),\n",
    "               \n",
    "               (eventsSF['modeBEAM_rh'] == 'ride_hail')|(eventsSF['modeBEAM_rh'] == 'car')| \n",
    "               (eventsSF['modeBEAM_rh'] == 'car_hov2')| (eventsSF['modeBEAM_rh'] == 'car_hov3')|\n",
    "               (eventsSF['modeBEAM_rh'] == 'hov2_teleportation')| (eventsSF['modeBEAM_rh'] == 'hov3_teleportation')&\n",
    "               (eventsSF['fuelElectricity'].notna() != 0),\n",
    "              \n",
    "               (eventsSF['modeBEAM_rh'] == 'ride_hail')|(eventsSF['modeBEAM_rh'] == 'car')| \n",
    "               (eventsSF['modeBEAM_rh'] == 'car_hov2')| (eventsSF['modeBEAM_rh'] == 'car_hov3')|\n",
    "               (eventsSF['modeBEAM_rh'] == 'hov2_teleportation')| (eventsSF['modeBEAM_rh'] == 'hov3_teleportation')&\n",
    "               (eventsSF['fuelGasoline'].notna() != 0),           \n",
    "              \n",
    "               (eventsSF['modeBEAM_rh'] == 'ride_hail')|(eventsSF['modeBEAM_rh'] == 'car')| \n",
    "               (eventsSF['modeBEAM_rh'] == 'car_hov2')| (eventsSF['modeBEAM_rh'] == 'car_hov3')|\n",
    "               (eventsSF['modeBEAM_rh'] == 'hov2_teleportation')| (eventsSF['modeBEAM_rh'] == 'hov3_teleportation')&\n",
    "               (eventsSF['fuelBiodiesel'].notna() != 0),   \n",
    "               \n",
    "               (eventsSF['modeBEAM_rh'] == 'ride_hail')|(eventsSF['modeBEAM_rh'] == 'car')| \n",
    "               (eventsSF['modeBEAM_rh'] == 'car_hov2')| (eventsSF['modeBEAM_rh'] == 'car_hov3')|\n",
    "               (eventsSF['modeBEAM_rh'] == 'hov2_teleportation')| (eventsSF['modeBEAM_rh'] == 'hov3_teleportation')&\n",
    "               (eventsSF['fuelDiesel'].notna() != 0),\n",
    "\n",
    "               (eventsSF['modeBEAM_rh'] == 'ride_hail')|(eventsSF['modeBEAM_rh'] == 'car')| \n",
    "               (eventsSF['modeBEAM_rh'] == 'car_hov2')| (eventsSF['modeBEAM_rh'] == 'car_hov3')|\n",
    "               (eventsSF['modeBEAM_rh'] == 'hov2_teleportation')| (eventsSF['modeBEAM_rh'] == 'hov3_teleportation')&\n",
    "               (eventsSF['fuelFood'].notna() != 0)]\n",
    "\n",
    "choices1 = [eventsSF['emissionElectricity']/eventsSF['numPassengers'],\n",
    "           eventsSF['emissionGasoline']/eventsSF['numPassengers'],\n",
    "           eventsSF['emissionBiodiesel']/eventsSF['numPassengers'],\n",
    "           eventsSF['emissionDiesel']/eventsSF['numPassengers'],           \n",
    "           0 , \n",
    "           eventsSF['emissionFood'], \n",
    "           eventsSF['emissionElectricity'],\n",
    "           eventsSF['emissionGasoline'],\n",
    "           eventsSF['emissionBiodiesel'],\n",
    "           eventsSF['emissionDiesel'],\n",
    "           eventsSF['emissionFood']]"
   ]
  },
  {
   "cell_type": "code",
   "execution_count": 76,
   "id": "fb19ee46",
   "metadata": {},
   "outputs": [],
   "source": [
    "eventsSF['emission_marginal'] = np.select(conditions1, choices1, default=np.nan)"
   ]
  },
  {
   "cell_type": "code",
   "execution_count": 77,
   "id": "1bb135e2",
   "metadata": {},
   "outputs": [],
   "source": [
    "eventsSF['actEndType'] = np.where(eventsSF['type']=='actend', eventsSF['actType'], \"\")"
   ]
  },
  {
   "cell_type": "code",
   "execution_count": 78,
   "id": "52f9f171",
   "metadata": {},
   "outputs": [],
   "source": [
    "eventsSF['actStartType'] = np.where(eventsSF['type']=='actstart', eventsSF['actType'], \"\")"
   ]
  },
  {
   "cell_type": "markdown",
   "id": "d3b8bb89",
   "metadata": {},
   "source": [
    "#### Trip Index"
   ]
  },
  {
   "cell_type": "code",
   "execution_count": 79,
   "id": "5be797be",
   "metadata": {},
   "outputs": [],
   "source": [
    "#eventsSF[\"tripIndex\"] = eventsSF.groupby(\"IDMerged\")[\"tourIndex_fixed\"].rank(method=\"first\", ascending=True)\n",
    "eventsSF[\"tripIndex\"] = eventsSF.tripId.fillna(method='ffill')"
   ]
  },
  {
   "cell_type": "markdown",
   "id": "1c6d23ef",
   "metadata": {},
   "source": [
    "#### Previous code for mode choice "
   ]
  },
  {
   "cell_type": "code",
   "execution_count": 82,
   "id": "4825f1e2",
   "metadata": {},
   "outputs": [],
   "source": [
    "# Make a new column which determined mode choice numbers for each person and trip\n",
    "#s = eventsSF.groupby(['IDMerged','tripIndex', 'type']).cumcount().add(1).astype(str).str.zfill(2)"
   ]
  },
  {
   "cell_type": "code",
   "execution_count": 83,
   "id": "cc39f0f5",
   "metadata": {},
   "outputs": [],
   "source": [
    "#eventsSF['type_number'] = eventsSF['type'].astype(str) + s.astype(str)"
   ]
  },
  {
   "cell_type": "code",
   "execution_count": 84,
   "id": "77a00909",
   "metadata": {},
   "outputs": [],
   "source": [
    "#eventsSF['mode_choice_planned_BEAM'] = np.where(eventsSF['type_number'] == 'ModeChoice01' , eventsSF['modeBEAM_rh'], np.nan)"
   ]
  },
  {
   "cell_type": "code",
   "execution_count": 85,
   "id": "5f8dccfd",
   "metadata": {},
   "outputs": [],
   "source": [
    "# Just showing the mode choice after replanning\n",
    "#eventsSF['mode_choice_replanned_BEAM'] = np.where(eventsSF['type_number'] == 'ModeChoice02', eventsSF['modeBEAM_rh'], np.nan)"
   ]
  },
  {
   "cell_type": "markdown",
   "id": "07192d10",
   "metadata": {},
   "source": [
    "#### Only works if we have one replanning event"
   ]
  },
  {
   "cell_type": "code",
   "execution_count": null,
   "id": "1dc7444b",
   "metadata": {},
   "outputs": [],
   "source": [
    "# Showing both mode choices before and after the replanning event\n",
    "#eventsSF['mode_choice_act'] = eventsSF['mode_choice_replanned_BEAM'].combine_first(eventsSF['mode_choice_planned_BEAM'])"
   ]
  },
  {
   "cell_type": "code",
   "execution_count": null,
   "id": "9e832fb2",
   "metadata": {},
   "outputs": [],
   "source": [
    "# If replanned, then the status is 1\n",
    "#eventsSF['replanning_status'] = np.where(eventsSF['mode_choice_replanned_BEAM'].notna() , 1, np.nan)"
   ]
  },
  {
   "cell_type": "code",
   "execution_count": null,
   "id": "afb3a3b2",
   "metadata": {},
   "outputs": [],
   "source": [
    "# Group by and fill all the rows related to the replanning event\n",
    "#eventsSF[\"replanning_status\"] = eventsSF.groupby(['IDMerged','tripIndex'], as_index=False)['replanning_status'].transform(lambda x: x.ffill().bfill())"
   ]
  },
  {
   "cell_type": "code",
   "execution_count": null,
   "id": "d7cebe18",
   "metadata": {},
   "outputs": [],
   "source": [
    "# Put all non-replanning events equal to 0\n",
    "#eventsSF[\"replanning_status\"] = np.where(eventsSF['replanning_status'].isna(), 0, eventsSF['replanning_status']).astype(int)"
   ]
  },
  {
   "cell_type": "code",
   "execution_count": null,
   "id": "ca3f3675",
   "metadata": {},
   "outputs": [],
   "source": [
    "#eventsSF['mode_choice_actual_BEAM'] = np.where((eventsSF['replanning_status'] == 1) & (eventsSF['type_number']=='ModeChoice01'), np.nan, eventsSF['mode_choice_act'])"
   ]
  },
  {
   "cell_type": "code",
   "execution_count": null,
   "id": "fd398fd2",
   "metadata": {},
   "outputs": [],
   "source": [
    "#eventsSF = eventsSF.drop(['mode_choice_act'], axis = 1)"
   ]
  },
  {
   "cell_type": "code",
   "execution_count": null,
   "id": "bcbc79ab",
   "metadata": {},
   "outputs": [],
   "source": [
    "#eventsSF[eventsSF['type'] == \"Replanning\"].tail(16)"
   ]
  },
  {
   "cell_type": "code",
   "execution_count": null,
   "id": "1fe9bdfc",
   "metadata": {},
   "outputs": [],
   "source": [
    "#num_pass.to_csv('C:/Shared-Work/Data/CleanData/num_pass.csv', index = False)"
   ]
  },
  {
   "cell_type": "code",
   "execution_count": null,
   "id": "be846e6d",
   "metadata": {},
   "outputs": [],
   "source": [
    "#eventsSF[\"mode_choice_replanned_BEAM\"] = eventsSF.groupby(['IDMerged','tripIndex'])['mode_choice_replanned_BEAM'].transform(lambda x: x.bfill())"
   ]
  },
  {
   "cell_type": "code",
   "execution_count": null,
   "id": "24653ae4",
   "metadata": {},
   "outputs": [],
   "source": [
    "#eventsSF['mode_choice_actual_BEAM'] = eventsSF['mode_choice_actual_BEAM'].combine_first(eventsSF['modeBEAM_rh'])"
   ]
  },
  {
   "cell_type": "code",
   "execution_count": null,
   "id": "76749909",
   "metadata": {},
   "outputs": [],
   "source": [
    "#eventsSF['mode_planned_tour_ActSim'] = np.where(eventsSF['type'] == 'PathTraversal', eventsSF['currentTourMode'], np.nan)"
   ]
  },
  {
   "cell_type": "code",
   "execution_count": null,
   "id": "c4fa0d0a",
   "metadata": {},
   "outputs": [],
   "source": [
    "#eventsSF.head(10000).to_csv('C:/Shared-Work/Data/CleanData/eventsNew_check.csv', index = False)   "
   ]
  },
  {
   "cell_type": "code",
   "execution_count": null,
   "id": "c45955c5",
   "metadata": {},
   "outputs": [],
   "source": [
    "#eventsSF['numPassengers_agg'] = eventsSF.groupby(['IDMerged','tripIndex'], as_index=False).numPassengers.agg(lambda x: ', '.join(set(x.dropna().astype(str))))"
   ]
  },
  {
   "cell_type": "markdown",
   "id": "3bd20fe1",
   "metadata": {},
   "source": [
    "#### Mode Choice planned and actual"
   ]
  },
  {
   "cell_type": "code",
   "execution_count": 80,
   "id": "9ecaf4ba",
   "metadata": {},
   "outputs": [
    {
     "name": "stdout",
     "output_type": "stream",
     "text": [
      "CPU times: total: 1min 28s\n",
      "Wall time: 1min 28s\n"
     ]
    }
   ],
   "source": [
    "%%time\n",
    "eventsSF['mode_choice_actual_BEAM'] = eventsSF.groupby(['IDMerged','tripId', 'type'])['modeBEAM'].transform('last')"
   ]
  },
  {
   "cell_type": "code",
   "execution_count": 81,
   "id": "ed171398",
   "metadata": {},
   "outputs": [
    {
     "name": "stdout",
     "output_type": "stream",
     "text": [
      "CPU times: total: 1min 28s\n",
      "Wall time: 1min 28s\n"
     ]
    }
   ],
   "source": [
    "%%time\n",
    "eventsSF['mode_choice_planned_BEAM'] = eventsSF.groupby(['IDMerged','tripId', 'type'])['modeBEAM'].transform('first')"
   ]
  },
  {
   "cell_type": "code",
   "execution_count": 82,
   "id": "723f03e6",
   "metadata": {},
   "outputs": [],
   "source": [
    "eventsSF['mode_choice_actual_BEAM'] = np.where(eventsSF['type'] != 'ModeChoice' , np.nan, eventsSF['mode_choice_actual_BEAM'])"
   ]
  },
  {
   "cell_type": "code",
   "execution_count": 83,
   "id": "8bac64c3",
   "metadata": {},
   "outputs": [],
   "source": [
    "eventsSF['mode_choice_planned_BEAM'] = np.where(eventsSF['type'] != 'ModeChoice' , np.nan, eventsSF['mode_choice_planned_BEAM'])"
   ]
  },
  {
   "cell_type": "code",
   "execution_count": 84,
   "id": "bd021670",
   "metadata": {},
   "outputs": [],
   "source": [
    "# Rename the \"netCost\" column\n",
    "eventsSF.rename(columns={\"netCost\":\"cost_BEAM\"}, inplace=True) "
   ]
  },
  {
   "cell_type": "code",
   "execution_count": 85,
   "id": "2bfdc471",
   "metadata": {},
   "outputs": [],
   "source": [
    "#eventsSF[eventsSF['type']=='Replanning'].head()"
   ]
  },
  {
   "cell_type": "code",
   "execution_count": 86,
   "id": "6dca051c",
   "metadata": {},
   "outputs": [],
   "source": [
    "# Replanning events = 1, the rest = 0\n",
    "eventsSF['replanning_status'] = np.where(eventsSF['type']=='Replanning', 1, 0)"
   ]
  },
  {
   "cell_type": "code",
   "execution_count": 93,
   "id": "5b68f6e4",
   "metadata": {},
   "outputs": [],
   "source": [
    "#q = eventsSF[eventsSF['IDMerged'] == 6902751]"
   ]
  },
  {
   "cell_type": "code",
   "execution_count": 94,
   "id": "951f38c5",
   "metadata": {},
   "outputs": [],
   "source": [
    "#q.to_csv('C:/Shared-Work/Data/CleanData/PivotTables/fake2.csv')   "
   ]
  },
  {
   "cell_type": "code",
   "execution_count": 87,
   "id": "11d6986e",
   "metadata": {},
   "outputs": [
    {
     "name": "stdout",
     "output_type": "stream",
     "text": [
      "CPU times: total: 1.77 s\n",
      "Wall time: 1.77 s\n"
     ]
    }
   ],
   "source": [
    "%%time\n",
    "eventsSF['reason'].replace('nan', np.NaN)"
   ]
  },
  {
   "cell_type": "code",
   "execution_count": 88,
   "id": "e2809aa0",
   "metadata": {},
   "outputs": [],
   "source": [
    "eventsSF['transit_bus'] = np.where(eventsSF['modeBEAM_rh']=='bus', 1, 0)\n",
    "eventsSF['transit_subway'] = np.where(eventsSF['modeBEAM_rh']=='subway', 1, 0)\n",
    "eventsSF['transit_tram'] = np.where(eventsSF['modeBEAM_rh']=='tram', 1, 0)\n",
    "eventsSF['transit_rail'] = np.where(eventsSF['modeBEAM_rh']=='rail', 1, 0)\n",
    "eventsSF['transit_cable_car'] = np.where(eventsSF['modeBEAM_rh']=='cable_car', 1, 0)"
   ]
  },
  {
   "cell_type": "code",
   "execution_count": 89,
   "id": "07b5229c",
   "metadata": {},
   "outputs": [],
   "source": [
    "eventsSF['ride_hail_pooled'] = np.where(eventsSF['modeBEAM_rh']=='ride_hail_pooled', 1, 0)"
   ]
  },
  {
   "cell_type": "code",
   "execution_count": 98,
   "id": "b38ec0a9",
   "metadata": {},
   "outputs": [],
   "source": [
    "#transit_data = eventsSF[(eventsSF['modeBEAM_rh'] == \"bus\") | (eventsSF['modeBEAM_rh'] == \"subway\") \n",
    "#                        | (eventsSF['modeBEAM_rh'] == 'walk_transit') | (eventsSF['modeBEAM_rh'] == 'ride_hail_transit') \n",
    "#                        | (eventsSF['modeBEAM_rh'] == 'bike_transit') | (eventsSF['modeBEAM_rh'] == 'drive_transit') \n",
    "#                        | (eventsSF['modeBEAM_rh'] == 'cable_car') | (eventsSF['modeBEAM_rh'] == 'rail') \n",
    "#                        | (eventsSF['modeBEAM_rh'] == 'tram')]"
   ]
  },
  {
   "cell_type": "code",
   "execution_count": 99,
   "id": "c1e341f6",
   "metadata": {},
   "outputs": [],
   "source": [
    "#eventsSF.loc['Total',:]= df.sum(axis=0)"
   ]
  },
  {
   "cell_type": "code",
   "execution_count": null,
   "id": "44422855",
   "metadata": {},
   "outputs": [],
   "source": [
    "#eventsSF.type[eventsSF.type == 'Replanning'].count()"
   ]
  },
  {
   "cell_type": "code",
   "execution_count": null,
   "id": "ebaa048d",
   "metadata": {},
   "outputs": [],
   "source": [
    "#Person_Trip_eventsSF.replanning_status[Person_Trip_eventsSF.replanning_status == 0].count()"
   ]
  },
  {
   "cell_type": "code",
   "execution_count": null,
   "id": "d7a8619c",
   "metadata": {},
   "outputs": [],
   "source": [
    "#rh_transit5 = eventsSF[eventsSF['IDMerged']== 3671596]"
   ]
  },
  {
   "cell_type": "code",
   "execution_count": null,
   "id": "bf4b40fc",
   "metadata": {},
   "outputs": [],
   "source": [
    "#rh_transit5.to_csv('C:/Shared-Work/Data/CleanData/rh_transit5.csv', index = False)"
   ]
  },
  {
   "cell_type": "code",
   "execution_count": 100,
   "id": "26dba60e",
   "metadata": {},
   "outputs": [],
   "source": [
    "eventsSFCopy = eventsSF.copy()"
   ]
  },
  {
   "cell_type": "code",
   "execution_count": 101,
   "id": "59ec2a8e",
   "metadata": {},
   "outputs": [],
   "source": [
    "eventsSF.head(200000).to_csv('C:/Shared-Work/Data/CleanData/modeBEAMCHECK.csv', index = False)"
   ]
  },
  {
   "cell_type": "code",
   "execution_count": 90,
   "id": "4a679675",
   "metadata": {},
   "outputs": [
    {
     "name": "stdout",
     "output_type": "stream",
     "text": [
      "CPU times: total: 40min 8s\n",
      "Wall time: 40min 8s\n"
     ]
    }
   ],
   "source": [
    "%%time\n",
    "Person_Trip_eventsSF = pd.pivot_table(\n",
    "   eventsSF,\n",
    "   index=['IDMerged','tripIndex'],\n",
    "   aggfunc={'actStartTime': np.sum, 'actEndTime': np.sum, 'duration_travelling': np.sum, 'cost_BEAM': np.sum, 'actStartType': np.sum, \n",
    "            'actEndType': np.sum, 'duration_walking': np.sum, 'duration_in_privateCar': np.sum, 'duration_on_bike': np.sum, \n",
    "            'duration_in_ridehail': np.sum, 'distance_travelling': np.sum, 'duration_in_transit': np.sum, 'distance_walking': np.sum, \n",
    "            'distance_bike': np.sum, 'distance_ridehail': np.sum, 'distance_privateCar': np.sum, 'distance_transit': np.sum, \n",
    "            'legVehicleIds': np.sum, \n",
    "            'mode_choice_planned_BEAM':lambda x: ', '.join(set(x.dropna().astype(str))),\n",
    "            'mode_choice_actual_BEAM':lambda x: ', '.join(set(x.dropna().astype(str))),\n",
    "            'vehicle': lambda x: ', '.join(set(x.dropna().astype(str))),\n",
    "            'numPassengers': lambda x: ', '.join(list(x.dropna().astype(str))),\n",
    "            'distance_mode_choice': np.sum,\n",
    "            'replanning_status': np.sum,\n",
    "            'reason': lambda x: ', '.join(list(x.dropna().astype(str))),\n",
    "            'parkingType': lambda x: ', '.join(list(x.dropna().astype(str))),\n",
    "            'transit_bus': np.sum, 'transit_subway': np.sum, 'transit_tram': np.sum, 'transit_cable_car': np.sum,\n",
    "            'ride_hail_pooled': np.sum, 'transit_rail': np.sum,\n",
    "            'year': lambda x: ', '.join(set(x.dropna().astype(str))),\n",
    "            'scenario': lambda x: ', '.join(set(x.dropna().astype(str))),\n",
    "            'fuelFood': np.sum, 'fuelElectricity': np.sum, 'fuelBiodiesel': np.sum, \n",
    "            'fuelDiesel': np.sum, 'fuel_not_Food': np.sum, 'fuelGasoline': np.sum, 'fuel_marginal': np.sum,\n",
    "            'emissionFood': np.sum, 'emissionElectricity': np.sum, 'emissionDiesel': np.sum, 'emissionGasoline': np.sum,\n",
    "            'emissionBiodiesel': np.sum, 'emission_marginal': np.sum\n",
    "           }).reset_index() \n",
    "\n",
    "#'numPassengers': lambda x: ', '.join(set(x.dropna().astype(str))) \n",
    "#'mode_choice_actual_BEAM':lambda x: ', '.join(set(x.dropna().astype(str))) #\n",
    "#'modeBEAM_rh': lambda x: ', '.join(list(x.dropna().astype(str))), "
   ]
  },
  {
   "cell_type": "code",
   "execution_count": 91,
   "id": "dc3ac897",
   "metadata": {},
   "outputs": [],
   "source": [
    "Person_Trip_eventsSF['duration_door_to_door'] = Person_Trip_eventsSF['actStartTime'] - Person_Trip_eventsSF['actEndTime'] "
   ]
  },
  {
   "cell_type": "code",
   "execution_count": 92,
   "id": "03bd08b4",
   "metadata": {},
   "outputs": [],
   "source": [
    "Person_Trip_eventsSF['waitTime'] = Person_Trip_eventsSF['duration_door_to_door'] - Person_Trip_eventsSF['duration_travelling'] "
   ]
  },
  {
   "cell_type": "code",
   "execution_count": 93,
   "id": "28560b3b",
   "metadata": {},
   "outputs": [],
   "source": [
    "Person_Trip_eventsSF['actPurpose'] = Person_Trip_eventsSF['actEndType'].astype(str) + \"_to_\" + Person_Trip_eventsSF['actStartType'].astype(str)"
   ]
  },
  {
   "cell_type": "code",
   "execution_count": null,
   "id": "2058e942",
   "metadata": {},
   "outputs": [],
   "source": [
    "#Person_Trip_eventsSF[Person_Trip_eventsSF['IDMerged'] == 2192]"
   ]
  },
  {
   "cell_type": "code",
   "execution_count": null,
   "id": "8634344b",
   "metadata": {},
   "outputs": [],
   "source": [
    "#Person_Trip_eventsSF.rename(columns={\"modeBEAM_rh\":\"mode_BEAM_list\"}, inplace=True) "
   ]
  },
  {
   "cell_type": "code",
   "execution_count": 94,
   "id": "d3a96721",
   "metadata": {},
   "outputs": [],
   "source": [
    "Person_Trip_eventsSF.rename(columns={\"legVehicleIds\":\"vehicleIds_estimate\"}, inplace=True) "
   ]
  },
  {
   "cell_type": "code",
   "execution_count": 95,
   "id": "b8d2f547",
   "metadata": {},
   "outputs": [],
   "source": [
    "Person_Trip_eventsSF.rename(columns={\"vehicle\":\"vehicleIds\"}, inplace=True) "
   ]
  },
  {
   "cell_type": "code",
   "execution_count": 108,
   "id": "ab8aaa10",
   "metadata": {},
   "outputs": [],
   "source": [
    "#Person_Trip_eventsSF.door_to_door_time[Person_Trip_eventsSF.door_to_door_time<0].count()"
   ]
  },
  {
   "cell_type": "code",
   "execution_count": 109,
   "id": "434cd548",
   "metadata": {},
   "outputs": [],
   "source": [
    "#negative_door = Person_Trip_eventsSF[(Person_Trip_eventsSF.door_to_door_time<0)]"
   ]
  },
  {
   "cell_type": "code",
   "execution_count": 96,
   "id": "3c0e1bd0",
   "metadata": {},
   "outputs": [],
   "source": [
    "# Column with five summarized modes\n",
    "conditions  = [(Person_Trip_eventsSF['mode_choice_actual_BEAM'] == 'ride_hail') | (Person_Trip_eventsSF['mode_choice_actual_BEAM'] == 'ride_hail_pooled'), \n",
    "               (Person_Trip_eventsSF['mode_choice_actual_BEAM'] == 'walk_transit') | (Person_Trip_eventsSF['mode_choice_actual_BEAM'] == 'drive_transit')| (Person_Trip_eventsSF['mode_choice_actual_BEAM'] == 'ride_hail_transit')|(Person_Trip_eventsSF['mode_choice_actual_BEAM'] == 'bike_transit'),\n",
    "               (Person_Trip_eventsSF['mode_choice_actual_BEAM'] == 'walk'), (Person_Trip_eventsSF['mode_choice_actual_BEAM'] == 'bike'),\n",
    "               (Person_Trip_eventsSF['mode_choice_actual_BEAM'] == 'car') | (Person_Trip_eventsSF['mode_choice_actual_BEAM'] == 'car_hov2')| (Person_Trip_eventsSF['mode_choice_actual_BEAM'] == 'car_hov3')|(Person_Trip_eventsSF['mode_choice_actual_BEAM'] == 'hov2_teleportation')| (Person_Trip_eventsSF['mode_choice_actual_BEAM'] == 'hov3_teleportation')]\n",
    "choices = [ 'ride_hail', 'transit', 'walk', 'bike', 'car']"
   ]
  },
  {
   "cell_type": "code",
   "execution_count": 97,
   "id": "86cb946d",
   "metadata": {},
   "outputs": [],
   "source": [
    "Person_Trip_eventsSF['mode_choice_actual_5'] = np.select(conditions, choices, default=np.nan)"
   ]
  },
  {
   "cell_type": "code",
   "execution_count": 112,
   "id": "5395ab24",
   "metadata": {},
   "outputs": [],
   "source": [
    "#negative_door.to_csv('C:/Shared-Work/Data/CleanData/PivotTables/negative_door.csv')   "
   ]
  },
  {
   "cell_type": "code",
   "execution_count": 98,
   "id": "649260ae",
   "metadata": {},
   "outputs": [],
   "source": [
    "Person_Trip_eventsSF = Person_Trip_eventsSF.drop(Person_Trip_eventsSF[Person_Trip_eventsSF.duration_door_to_door < 0].index)"
   ]
  },
  {
   "cell_type": "code",
   "execution_count": 114,
   "id": "2d2b37e2",
   "metadata": {},
   "outputs": [],
   "source": [
    "Person_Trip_eventsSF.to_csv('C:/Shared-Work/Data/CleanData/sf_2018_base_core_act.csv', index = False)"
   ]
  },
  {
   "cell_type": "code",
   "execution_count": null,
   "id": "00b62b25",
   "metadata": {},
   "outputs": [],
   "source": [
    "#Person_Trip_eventsSF[Person_Trip_eventsSF['mode_choice_planned_BEAM'] == 'walk_transit'].head()"
   ]
  },
  {
   "cell_type": "markdown",
   "id": "557c5804",
   "metadata": {},
   "source": [
    "#### Merging with activity sim persons and housholds files"
   ]
  },
  {
   "cell_type": "code",
   "execution_count": 99,
   "id": "fc9f6e38",
   "metadata": {},
   "outputs": [],
   "source": [
    "actloc_2018_baseline = \"https://beam-outputs.s3.amazonaws.com/pilates-outputs/sfbay-base-20220409/activitysim/\"\n",
    "actloc_2018_transitFreq05 = \"https://beam-outputs.s3.amazonaws.com/pilates-outputs/sfbay-transit_frequencies_0.5-20220528/activitysim/\"\n",
    "actloc_2018_transitFreq1p5 = \"https://beam-outputs.s3.amazonaws.com/pilates-outputs/sfbay-transit_frequencies_1.5-20220529//activitysim/\"\n",
    "actloc_2018_transitFreq2 = \"https://beam-outputs.s3.amazonaws.com/pilates-outputs/sfbay-transit_frequencies_2.0-20220529//activitysim/\"\n",
    "actloc_2018_rhFleetsz0125 = \"https://beam-outputs.s3.amazonaws.com/pilates-outputs/sfbay-RH_fleetsz_0.125-20220408/activitysim/\"\n",
    "actloc_2018_rhFleetsz175 = \"https://beam-outputs.s3.amazonaws.com/pilates-outputs/sfbay-RH_fleetsz_1.75-20220408/activitysim/\"\n",
    "actloc_2018_rhFleetsz2p5 = \"https://beam-outputs.s3.amazonaws.com/pilates-outputs/sfbay-RH_fleetsz_0.25-20220408/activitysim/\"\n",
    "\n",
    "households = pd.read_csv(actloc_2018_rhFleetsz2p5 + 'final_households.csv')\n",
    "persons = pd.read_csv(actloc_2018_rhFleetsz2p5 + 'final_persons.csv')\n",
    "tours = pd.read_csv(actloc_2018_rhFleetsz2p5 +'final_tours.csv')\n",
    "plans = pd.read_csv(actloc_2018_rhFleetsz2p5 +'final_plans.csv')\n",
    "trips = pd.read_csv(actloc_2018_rhFleetsz2p5 + 'final_trips.csv')"
   ]
  },
  {
   "cell_type": "code",
   "execution_count": 100,
   "id": "2f940ac2",
   "metadata": {},
   "outputs": [
    {
     "name": "stdout",
     "output_type": "stream",
     "text": [
      "Keys: <KeysViewHDF5 ['blocks', 'counties', 'ect', 'edges', 'hct', 'household_targets_acs', 'household_validation_acs', 'households', 'job_county_targets_BEA', 'job_county_validation_BEA', 'job_flows', 'job_targets', 'job_validation', 'jobs', 'nodes', 'persons', 'price_targets', 'price_validation', 'residential_units', 'travel_data', 'unit_county_targets_PEP', 'unit_county_validation_PEP', 'unit_targets', 'unit_validation', 'validation_ect', 'validation_hct', 'values']>\n"
     ]
    }
   ],
   "source": [
    "# PUMS data for Disability information\n",
    "filename = \"C:/Shared-Work/Data/Disability_PUMS/custom_mpo_06197001_model_data.h5\"\n",
    "\n",
    "with h5py.File(filename, \"r\") as f:\n",
    "    # List all groups\n",
    "    print(\"Keys: %s\" % f.keys())\n",
    "    a_group_key = list(f.keys())[0]\n",
    "\n",
    "    # Get the data\n",
    "    data = list(f[a_group_key])"
   ]
  },
  {
   "cell_type": "code",
   "execution_count": 101,
   "id": "287187c2",
   "metadata": {},
   "outputs": [
    {
     "name": "stderr",
     "output_type": "stream",
     "text": [
      "C:\\Users\\nazanin\\AppData\\Local\\Temp\\2\\ipykernel_1332\\1998398585.py:2: DtypeWarning: Columns (107,108,109) have mixed types. Specify dtype option on import or set low_memory=False.\n",
      "  person_5_year_2010 = pd.read_csv('C:/Users/nazanin/Downloads/csv_pca/ss13pca.csv')\n"
     ]
    }
   ],
   "source": [
    "# PUMS data for Disability information\n",
    "person_5_year_2010 = pd.read_csv('C:/Users/nazanin/Downloads/csv_pca/ss13pca.csv')\n",
    "housing_unit_5_year_2010 = pd.read_csv('C:/Users/nazanin/Downloads/csv_hca/ss13hca.csv')"
   ]
  },
  {
   "cell_type": "code",
   "execution_count": 102,
   "id": "fa208ddf",
   "metadata": {},
   "outputs": [],
   "source": [
    "# Merge PUMS households and persons \n",
    "person_5_year_2010 = person_5_year_2010.sort_values(by=['SERIALNO']).reset_index()\n",
    "housing_unit_5_year_2010 = housing_unit_5_year_2010.sort_values(by=['SERIALNO']).reset_index()\n",
    "hhpersons_PUMS2010 = pd.merge(left=person_5_year_2010, right=housing_unit_5_year_2010, how='left', on='SERIALNO')"
   ]
  },
  {
   "cell_type": "code",
   "execution_count": 103,
   "id": "47b6ea7f",
   "metadata": {},
   "outputs": [],
   "source": [
    "# Merge BEAM households and persons \n",
    "persons = persons.sort_values(by=['household_id']).reset_index(drop=True)\n",
    "households = households.sort_values(by=['household_id']).reset_index(drop=True)\n",
    "hhpersons = pd.merge(left=persons, right=households, how='left', on='household_id')\n",
    "#hhpersons = pd.merge(left=persons, right=households, how='left', on='household_id', suffixes=('', '_drop'))\n",
    "#hhpersons.drop([col for col in hhpersons.columns if 'drop' in col], axis=1, inplace=True)"
   ]
  },
  {
   "cell_type": "code",
   "execution_count": 104,
   "id": "f3ff157e",
   "metadata": {},
   "outputs": [],
   "source": [
    "# Merge Disability Columns\n",
    "hhpersons_PUMS2010 = hhpersons_PUMS2010.sort_values(by=['SERIALNO', 'SPORDER']).reset_index(drop=True)\n",
    "hhpersons = hhpersons.sort_values(by=['serialno', 'PNUM']).reset_index(drop=True)\n",
    "hhpersonsDIS = pd.merge(hhpersons, hhpersons_PUMS2010[['SERIALNO', 'SPORDER', 'AGEP', 'SEX', 'DIS', 'HINCP', 'VEH', 'JWMNP', 'JWRIP', 'JWTR', 'RAC1P', 'RAC2P05']], how='left',left_on = ['serialno', 'PNUM'] , right_on=['SERIALNO', 'SPORDER'])"
   ]
  },
  {
   "cell_type": "code",
   "execution_count": 105,
   "id": "cde69b76",
   "metadata": {},
   "outputs": [],
   "source": [
    "#hhpersons[hhpersons['serialno']==2009000000022]"
   ]
  },
  {
   "cell_type": "code",
   "execution_count": 106,
   "id": "5b20c94f",
   "metadata": {},
   "outputs": [],
   "source": [
    "# Merge tours, households and persons\n",
    "tours = tours.sort_values(by=['person_id']).reset_index(drop=True)\n",
    "hhpersonsDIS = hhpersonsDIS.sort_values(by=['person_id']).reset_index(drop=True)\n",
    "hhperTours = pd.merge(left=tours, right=hhpersonsDIS, how='left', on='person_id')\n",
    "#hhperTours = pd.merge(left=tours, right=hhpersons, how='left', on='person_id', suffixes=('', '_drop'))\n",
    "#hhperTours.drop([col for col in hhperTours.columns if 'drop' in col], axis=1, inplace=True)"
   ]
  },
  {
   "cell_type": "code",
   "execution_count": 107,
   "id": "6ef8c6a0",
   "metadata": {},
   "outputs": [],
   "source": [
    "# Merge trips, tours, households and persons\n",
    "trips = trips.sort_values(by=['person_id', 'tour_id']).reset_index(drop=True)\n",
    "hhperTours = hhperTours.sort_values(by=['person_id','tour_id']).reset_index(drop=True)\n",
    "tourTripsMerged = pd.merge(left=trips, right=hhperTours, how='left', on=['person_id','tour_id'])\n",
    "#tourTripsMerged = pd.merge(left=trips, right=hhperTours, how='left', on=['person_id','tour_id'], suffixes=('', '_drop'))\n",
    "#tourTripsMerged.drop([col for col in tourTripsMerged.columns if 'drop' in col], axis=1, inplace=True)"
   ]
  },
  {
   "cell_type": "code",
   "execution_count": 18,
   "id": "869a7b26",
   "metadata": {},
   "outputs": [
    {
     "data": {
      "text/html": [
       "<div>\n",
       "<style scoped>\n",
       "    .dataframe tbody tr th:only-of-type {\n",
       "        vertical-align: middle;\n",
       "    }\n",
       "\n",
       "    .dataframe tbody tr th {\n",
       "        vertical-align: top;\n",
       "    }\n",
       "\n",
       "    .dataframe thead th {\n",
       "        text-align: right;\n",
       "    }\n",
       "</style>\n",
       "<table border=\"1\" class=\"dataframe\">\n",
       "  <thead>\n",
       "    <tr style=\"text-align: right;\">\n",
       "      <th></th>\n",
       "      <th>trip_id</th>\n",
       "      <th>person_id</th>\n",
       "      <th>household_id</th>\n",
       "      <th>tour_id</th>\n",
       "      <th>primary_purpose_x</th>\n",
       "      <th>trip_num</th>\n",
       "      <th>outbound</th>\n",
       "      <th>trip_count</th>\n",
       "      <th>purpose</th>\n",
       "      <th>destination_x</th>\n",
       "      <th>origin_x</th>\n",
       "      <th>destination_logsum_x</th>\n",
       "      <th>depart</th>\n",
       "      <th>trip_mode</th>\n",
       "      <th>mode_choice_logsum_x</th>\n",
       "      <th>tour_type</th>\n",
       "      <th>tour_type_count</th>\n",
       "      <th>tour_type_num</th>\n",
       "      <th>tour_num</th>\n",
       "      <th>tour_count</th>\n",
       "      <th>tour_category</th>\n",
       "      <th>number_of_participants</th>\n",
       "      <th>destination_y</th>\n",
       "      <th>origin_y</th>\n",
       "      <th>household_id_x</th>\n",
       "      <th>tdd</th>\n",
       "      <th>start</th>\n",
       "      <th>end</th>\n",
       "      <th>duration</th>\n",
       "      <th>composition</th>\n",
       "      <th>destination_logsum_y</th>\n",
       "      <th>tour_mode</th>\n",
       "      <th>mode_choice_logsum_y</th>\n",
       "      <th>atwork_subtour_frequency</th>\n",
       "      <th>parent_tour_id</th>\n",
       "      <th>stop_frequency</th>\n",
       "      <th>primary_purpose_y</th>\n",
       "      <th>earning</th>\n",
       "      <th>worker</th>\n",
       "      <th>student</th>\n",
       "      <th>hispanic.1</th>\n",
       "      <th>person_sex</th>\n",
       "      <th>PNUM</th>\n",
       "      <th>sex</th>\n",
       "      <th>household_id_y</th>\n",
       "      <th>hours</th>\n",
       "      <th>MAR</th>\n",
       "      <th>person_age</th>\n",
       "      <th>edu</th>\n",
       "      <th>school_zone_id</th>\n",
       "      <th>race_id</th>\n",
       "      <th>race</th>\n",
       "      <th>work_at_home</th>\n",
       "      <th>age</th>\n",
       "      <th>work_zone_id</th>\n",
       "      <th>p_hispanic</th>\n",
       "      <th>relate</th>\n",
       "      <th>hispanic</th>\n",
       "      <th>TAZ_x</th>\n",
       "      <th>ptype</th>\n",
       "      <th>pemploy</th>\n",
       "      <th>pstudent</th>\n",
       "      <th>home_x</th>\n",
       "      <th>home_y</th>\n",
       "      <th>age_16_to_19</th>\n",
       "      <th>age_16_p</th>\n",
       "      <th>adult</th>\n",
       "      <th>male</th>\n",
       "      <th>female</th>\n",
       "      <th>has_non_worker</th>\n",
       "      <th>has_retiree</th>\n",
       "      <th>has_preschool_kid</th>\n",
       "      <th>has_driving_kid</th>\n",
       "      <th>has_school_kid</th>\n",
       "      <th>has_full_time</th>\n",
       "      <th>has_part_time</th>\n",
       "      <th>has_university</th>\n",
       "      <th>student_is_employed</th>\n",
       "      <th>nonstudent_to_school</th>\n",
       "      <th>is_student</th>\n",
       "      <th>is_gradeschool</th>\n",
       "      <th>is_highschool</th>\n",
       "      <th>is_university</th>\n",
       "      <th>school_segment</th>\n",
       "      <th>is_worker</th>\n",
       "      <th>home_taz</th>\n",
       "      <th>value_of_time</th>\n",
       "      <th>school_taz</th>\n",
       "      <th>distance_to_school</th>\n",
       "      <th>roundtrip_auto_time_to_school</th>\n",
       "      <th>workplace_taz</th>\n",
       "      <th>workplace_location_logsum</th>\n",
       "      <th>distance_to_work</th>\n",
       "      <th>workplace_in_cbd</th>\n",
       "      <th>work_taz_area_type</th>\n",
       "      <th>roundtrip_auto_time_to_work</th>\n",
       "      <th>work_auto_savings</th>\n",
       "      <th>work_auto_savings_ratio</th>\n",
       "      <th>free_parking_at_work</th>\n",
       "      <th>cdap_activity</th>\n",
       "      <th>travel_active</th>\n",
       "      <th>under16_not_at_school</th>\n",
       "      <th>has_preschool_kid_at_home</th>\n",
       "      <th>has_school_kid_at_home</th>\n",
       "      <th>mandatory_tour_frequency</th>\n",
       "      <th>work_and_school_and_worker</th>\n",
       "      <th>work_and_school_and_student</th>\n",
       "      <th>num_mand</th>\n",
       "      <th>num_work_tours</th>\n",
       "      <th>num_joint_tours</th>\n",
       "      <th>non_mandatory_tour_frequency</th>\n",
       "      <th>num_non_mand</th>\n",
       "      <th>num_escort_tours</th>\n",
       "      <th>num_eatout_tours</th>\n",
       "      <th>num_shop_tours</th>\n",
       "      <th>num_maint_tours</th>\n",
       "      <th>num_discr_tours</th>\n",
       "      <th>num_social_tours</th>\n",
       "      <th>num_non_escort_tours</th>\n",
       "      <th>gt55</th>\n",
       "      <th>seniors</th>\n",
       "      <th>VEHICL</th>\n",
       "      <th>lcm_county_id</th>\n",
       "      <th>hh_children</th>\n",
       "      <th>block_id</th>\n",
       "      <th>gt2</th>\n",
       "      <th>hispanic_head</th>\n",
       "      <th>age_of_head</th>\n",
       "      <th>race_of_head</th>\n",
       "      <th>tenure_mover</th>\n",
       "      <th>hh_size</th>\n",
       "      <th>sf_detached</th>\n",
       "      <th>tenure</th>\n",
       "      <th>hh_cars</th>\n",
       "      <th>income</th>\n",
       "      <th>hh_age_of_head</th>\n",
       "      <th>serialno</th>\n",
       "      <th>num_workers</th>\n",
       "      <th>hh_race_of_head</th>\n",
       "      <th>hh_income</th>\n",
       "      <th>recent_mover</th>\n",
       "      <th>hh_workers</th>\n",
       "      <th>hispanic_status_of_head</th>\n",
       "      <th>hh_seniors</th>\n",
       "      <th>hhsize</th>\n",
       "      <th>hh_type</th>\n",
       "      <th>TAZ_y</th>\n",
       "      <th>HHT</th>\n",
       "      <th>sample_rate</th>\n",
       "      <th>chunk_id</th>\n",
       "      <th>income_in_thousands</th>\n",
       "      <th>income_segment</th>\n",
       "      <th>median_value_of_time</th>\n",
       "      <th>hh_value_of_time</th>\n",
       "      <th>num_non_workers</th>\n",
       "      <th>num_drivers</th>\n",
       "      <th>num_adults</th>\n",
       "      <th>num_children</th>\n",
       "      <th>num_young_children</th>\n",
       "      <th>num_children_5_to_15</th>\n",
       "      <th>num_children_16_to_17</th>\n",
       "      <th>num_college_age</th>\n",
       "      <th>num_young_adults</th>\n",
       "      <th>non_family</th>\n",
       "      <th>family</th>\n",
       "      <th>home_is_urban</th>\n",
       "      <th>home_is_rural</th>\n",
       "      <th>auto_ownership</th>\n",
       "      <th>hh_work_auto_savings_ratio</th>\n",
       "      <th>num_under16_not_at_school</th>\n",
       "      <th>num_travel_active</th>\n",
       "      <th>num_travel_active_adults</th>\n",
       "      <th>num_travel_active_preschoolers</th>\n",
       "      <th>num_travel_active_children</th>\n",
       "      <th>num_travel_active_non_preschoolers</th>\n",
       "      <th>participates_in_jtf_model</th>\n",
       "      <th>joint_tour_frequency</th>\n",
       "      <th>num_hh_joint_tours</th>\n",
       "      <th>SERIALNO</th>\n",
       "      <th>SPORDER</th>\n",
       "      <th>AGEP</th>\n",
       "      <th>SEX</th>\n",
       "      <th>DIS</th>\n",
       "      <th>HINCP</th>\n",
       "      <th>VEH</th>\n",
       "      <th>JWMNP</th>\n",
       "      <th>JWRIP</th>\n",
       "      <th>JWTR</th>\n",
       "      <th>RAC1P</th>\n",
       "      <th>RAC2P05</th>\n",
       "    </tr>\n",
       "  </thead>\n",
       "  <tbody>\n",
       "    <tr>\n",
       "      <th>11</th>\n",
       "      <td>1306</td>\n",
       "      <td>3</td>\n",
       "      <td>1735309</td>\n",
       "      <td>163</td>\n",
       "      <td>work</td>\n",
       "      <td>2</td>\n",
       "      <td>True</td>\n",
       "      <td>2</td>\n",
       "      <td>work</td>\n",
       "      <td>583</td>\n",
       "      <td>406</td>\n",
       "      <td>NaN</td>\n",
       "      <td>11.0</td>\n",
       "      <td>SHARED2PAY</td>\n",
       "      <td>-0.258008</td>\n",
       "      <td>work</td>\n",
       "      <td>2</td>\n",
       "      <td>2</td>\n",
       "      <td>2</td>\n",
       "      <td>2</td>\n",
       "      <td>mandatory</td>\n",
       "      <td>1</td>\n",
       "      <td>583.0</td>\n",
       "      <td>641.0</td>\n",
       "      <td>1735309</td>\n",
       "      <td>95.0</td>\n",
       "      <td>10.0</td>\n",
       "      <td>20.0</td>\n",
       "      <td>10.0</td>\n",
       "      <td>NaN</td>\n",
       "      <td>NaN</td>\n",
       "      <td>SHARED2PAY</td>\n",
       "      <td>0.076171</td>\n",
       "      <td>no_subtours</td>\n",
       "      <td>NaN</td>\n",
       "      <td>1out_0in</td>\n",
       "      <td>work</td>\n",
       "      <td>160000.0</td>\n",
       "      <td>1</td>\n",
       "      <td>0</td>\n",
       "      <td>0</td>\n",
       "      <td>male</td>\n",
       "      <td>1</td>\n",
       "      <td>1</td>\n",
       "      <td>1735309</td>\n",
       "      <td>40.0</td>\n",
       "      <td>1</td>\n",
       "      <td>20 to 35</td>\n",
       "      <td>21.0</td>\n",
       "      <td>-1</td>\n",
       "      <td>6</td>\n",
       "      <td>asian</td>\n",
       "      <td>0</td>\n",
       "      <td>35</td>\n",
       "      <td>583</td>\n",
       "      <td>no</td>\n",
       "      <td>0</td>\n",
       "      <td>0</td>\n",
       "      <td>641</td>\n",
       "      <td>1</td>\n",
       "      <td>1</td>\n",
       "      <td>3</td>\n",
       "      <td>-121.80644</td>\n",
       "      <td>37.350304</td>\n",
       "      <td>False</td>\n",
       "      <td>True</td>\n",
       "      <td>True</td>\n",
       "      <td>True</td>\n",
       "      <td>False</td>\n",
       "      <td>False</td>\n",
       "      <td>False</td>\n",
       "      <td>True</td>\n",
       "      <td>False</td>\n",
       "      <td>False</td>\n",
       "      <td>True</td>\n",
       "      <td>False</td>\n",
       "      <td>False</td>\n",
       "      <td>False</td>\n",
       "      <td>False</td>\n",
       "      <td>False</td>\n",
       "      <td>False</td>\n",
       "      <td>False</td>\n",
       "      <td>False</td>\n",
       "      <td>0</td>\n",
       "      <td>True</td>\n",
       "      <td>641</td>\n",
       "      <td>29.682171</td>\n",
       "      <td>-1</td>\n",
       "      <td>NaN</td>\n",
       "      <td>0.0</td>\n",
       "      <td>583</td>\n",
       "      <td>13.785309</td>\n",
       "      <td>1.781849</td>\n",
       "      <td>False</td>\n",
       "      <td>3.0</td>\n",
       "      <td>25.940277</td>\n",
       "      <td>29.419334</td>\n",
       "      <td>0.245161</td>\n",
       "      <td>False</td>\n",
       "      <td>M</td>\n",
       "      <td>True</td>\n",
       "      <td>False</td>\n",
       "      <td>False</td>\n",
       "      <td>False</td>\n",
       "      <td>work2</td>\n",
       "      <td>False</td>\n",
       "      <td>False</td>\n",
       "      <td>2</td>\n",
       "      <td>2</td>\n",
       "      <td>0</td>\n",
       "      <td>0</td>\n",
       "      <td>0</td>\n",
       "      <td>0</td>\n",
       "      <td>0</td>\n",
       "      <td>0</td>\n",
       "      <td>0</td>\n",
       "      <td>0</td>\n",
       "      <td>0</td>\n",
       "      <td>0</td>\n",
       "      <td>0</td>\n",
       "      <td>0.0</td>\n",
       "      <td>2</td>\n",
       "      <td>6085</td>\n",
       "      <td>yes</td>\n",
       "      <td>60855035091006</td>\n",
       "      <td>1</td>\n",
       "      <td>no</td>\n",
       "      <td>35</td>\n",
       "      <td>6</td>\n",
       "      <td>own not recent</td>\n",
       "      <td>four or more</td>\n",
       "      <td>yes</td>\n",
       "      <td>1</td>\n",
       "      <td>two or more</td>\n",
       "      <td>240000.0</td>\n",
       "      <td>gt35-lt65</td>\n",
       "      <td>2010000482865</td>\n",
       "      <td>2.0</td>\n",
       "      <td>asian</td>\n",
       "      <td>gt150</td>\n",
       "      <td>0</td>\n",
       "      <td>two or more</td>\n",
       "      <td>0</td>\n",
       "      <td>no</td>\n",
       "      <td>4</td>\n",
       "      <td>3</td>\n",
       "      <td>641</td>\n",
       "      <td>4</td>\n",
       "      <td>0.097</td>\n",
       "      <td>60138</td>\n",
       "      <td>240.0</td>\n",
       "      <td>4</td>\n",
       "      <td>12.86</td>\n",
       "      <td>29.682171</td>\n",
       "      <td>2.0</td>\n",
       "      <td>2</td>\n",
       "      <td>2</td>\n",
       "      <td>2</td>\n",
       "      <td>2</td>\n",
       "      <td>0</td>\n",
       "      <td>0</td>\n",
       "      <td>0</td>\n",
       "      <td>1</td>\n",
       "      <td>True</td>\n",
       "      <td>False</td>\n",
       "      <td>False</td>\n",
       "      <td>False</td>\n",
       "      <td>2</td>\n",
       "      <td>1.245161</td>\n",
       "      <td>0</td>\n",
       "      <td>4</td>\n",
       "      <td>2</td>\n",
       "      <td>2</td>\n",
       "      <td>2</td>\n",
       "      <td>2</td>\n",
       "      <td>True</td>\n",
       "      <td>0_tours</td>\n",
       "      <td>0</td>\n",
       "      <td>2010000482865</td>\n",
       "      <td>1</td>\n",
       "      <td>35</td>\n",
       "      <td>1</td>\n",
       "      <td>2</td>\n",
       "      <td>240000.0</td>\n",
       "      <td>2.0</td>\n",
       "      <td>20.0</td>\n",
       "      <td>1.0</td>\n",
       "      <td>1.0</td>\n",
       "      <td>6</td>\n",
       "      <td>40</td>\n",
       "    </tr>\n",
       "  </tbody>\n",
       "</table>\n",
       "</div>"
      ],
      "text/plain": [
       "    trip_id  person_id  household_id  tour_id primary_purpose_x  trip_num  \\\n",
       "11     1306          3       1735309      163              work         2   \n",
       "\n",
       "    outbound  trip_count purpose  destination_x  origin_x  \\\n",
       "11      True           2    work            583       406   \n",
       "\n",
       "    destination_logsum_x  depart   trip_mode  mode_choice_logsum_x tour_type  \\\n",
       "11                   NaN    11.0  SHARED2PAY             -0.258008      work   \n",
       "\n",
       "    tour_type_count  tour_type_num  tour_num  tour_count tour_category  \\\n",
       "11                2              2         2           2     mandatory   \n",
       "\n",
       "    number_of_participants  destination_y  origin_y  household_id_x   tdd  \\\n",
       "11                       1          583.0     641.0         1735309  95.0   \n",
       "\n",
       "    start   end  duration composition  destination_logsum_y   tour_mode  \\\n",
       "11   10.0  20.0      10.0         NaN                   NaN  SHARED2PAY   \n",
       "\n",
       "    mode_choice_logsum_y atwork_subtour_frequency  parent_tour_id  \\\n",
       "11              0.076171              no_subtours             NaN   \n",
       "\n",
       "   stop_frequency primary_purpose_y   earning  worker  student  hispanic.1  \\\n",
       "11       1out_0in              work  160000.0       1        0           0   \n",
       "\n",
       "   person_sex  PNUM  sex  household_id_y  hours  MAR person_age   edu  \\\n",
       "11       male     1    1         1735309   40.0    1   20 to 35  21.0   \n",
       "\n",
       "    school_zone_id  race_id   race  work_at_home  age  work_zone_id  \\\n",
       "11              -1        6  asian             0   35           583   \n",
       "\n",
       "   p_hispanic  relate  hispanic  TAZ_x  ptype  pemploy  pstudent     home_x  \\\n",
       "11         no       0         0    641      1        1         3 -121.80644   \n",
       "\n",
       "       home_y  age_16_to_19  age_16_p  adult  male  female  has_non_worker  \\\n",
       "11  37.350304         False      True   True  True   False           False   \n",
       "\n",
       "    has_retiree  has_preschool_kid  has_driving_kid  has_school_kid  \\\n",
       "11        False               True            False           False   \n",
       "\n",
       "    has_full_time  has_part_time  has_university  student_is_employed  \\\n",
       "11           True          False           False                False   \n",
       "\n",
       "    nonstudent_to_school  is_student  is_gradeschool  is_highschool  \\\n",
       "11                 False       False           False          False   \n",
       "\n",
       "    is_university  school_segment  is_worker  home_taz  value_of_time  \\\n",
       "11          False               0       True       641      29.682171   \n",
       "\n",
       "    school_taz  distance_to_school  roundtrip_auto_time_to_school  \\\n",
       "11          -1                 NaN                            0.0   \n",
       "\n",
       "    workplace_taz  workplace_location_logsum  distance_to_work  \\\n",
       "11            583                  13.785309          1.781849   \n",
       "\n",
       "    workplace_in_cbd  work_taz_area_type  roundtrip_auto_time_to_work  \\\n",
       "11             False                 3.0                    25.940277   \n",
       "\n",
       "    work_auto_savings  work_auto_savings_ratio  free_parking_at_work  \\\n",
       "11          29.419334                 0.245161                 False   \n",
       "\n",
       "   cdap_activity  travel_active  under16_not_at_school  \\\n",
       "11             M           True                  False   \n",
       "\n",
       "    has_preschool_kid_at_home  has_school_kid_at_home  \\\n",
       "11                      False                   False   \n",
       "\n",
       "   mandatory_tour_frequency  work_and_school_and_worker  \\\n",
       "11                    work2                       False   \n",
       "\n",
       "    work_and_school_and_student  num_mand  num_work_tours  num_joint_tours  \\\n",
       "11                        False         2               2                0   \n",
       "\n",
       "    non_mandatory_tour_frequency  num_non_mand  num_escort_tours  \\\n",
       "11                             0             0                 0   \n",
       "\n",
       "    num_eatout_tours  num_shop_tours  num_maint_tours  num_discr_tours  \\\n",
       "11                 0               0                0                0   \n",
       "\n",
       "    num_social_tours  num_non_escort_tours  gt55  seniors  VEHICL  \\\n",
       "11                 0                     0     0      0.0       2   \n",
       "\n",
       "    lcm_county_id hh_children        block_id  gt2 hispanic_head  age_of_head  \\\n",
       "11           6085         yes  60855035091006    1            no           35   \n",
       "\n",
       "    race_of_head    tenure_mover       hh_size sf_detached  tenure  \\\n",
       "11             6  own not recent  four or more         yes       1   \n",
       "\n",
       "        hh_cars    income hh_age_of_head       serialno  num_workers  \\\n",
       "11  two or more  240000.0      gt35-lt65  2010000482865          2.0   \n",
       "\n",
       "   hh_race_of_head hh_income  recent_mover   hh_workers  \\\n",
       "11           asian     gt150             0  two or more   \n",
       "\n",
       "    hispanic_status_of_head hh_seniors  hhsize  hh_type  TAZ_y  HHT  \\\n",
       "11                        0         no       4        3    641    4   \n",
       "\n",
       "    sample_rate  chunk_id  income_in_thousands  income_segment  \\\n",
       "11        0.097     60138                240.0               4   \n",
       "\n",
       "    median_value_of_time  hh_value_of_time  num_non_workers  num_drivers  \\\n",
       "11                 12.86         29.682171              2.0            2   \n",
       "\n",
       "    num_adults  num_children  num_young_children  num_children_5_to_15  \\\n",
       "11           2             2                   2                     0   \n",
       "\n",
       "    num_children_16_to_17  num_college_age  num_young_adults  non_family  \\\n",
       "11                      0                0                 1        True   \n",
       "\n",
       "    family  home_is_urban  home_is_rural  auto_ownership  \\\n",
       "11   False          False          False               2   \n",
       "\n",
       "    hh_work_auto_savings_ratio  num_under16_not_at_school  num_travel_active  \\\n",
       "11                    1.245161                          0                  4   \n",
       "\n",
       "    num_travel_active_adults  num_travel_active_preschoolers  \\\n",
       "11                         2                               2   \n",
       "\n",
       "    num_travel_active_children  num_travel_active_non_preschoolers  \\\n",
       "11                           2                                   2   \n",
       "\n",
       "    participates_in_jtf_model joint_tour_frequency  num_hh_joint_tours  \\\n",
       "11                       True              0_tours                   0   \n",
       "\n",
       "         SERIALNO  SPORDER  AGEP  SEX  DIS     HINCP  VEH  JWMNP  JWRIP  JWTR  \\\n",
       "11  2010000482865        1    35    1    2  240000.0  2.0   20.0    1.0   1.0   \n",
       "\n",
       "    RAC1P  RAC2P05  \n",
       "11      6       40  "
      ]
     },
     "execution_count": 18,
     "metadata": {},
     "output_type": "execute_result"
    }
   ],
   "source": [
    "tourTripsMerged[tourTripsMerged['trip_id'] == 1306]"
   ]
  },
  {
   "cell_type": "code",
   "execution_count": 127,
   "id": "60bf4e65",
   "metadata": {},
   "outputs": [],
   "source": [
    "# Merge trips, tours, households, and persons with land-use\n",
    "#landuse = landuse.sort_values(by=['TAZ'])\n",
    "#tourTripsMerged = tourTripsMerged.sort_values(by=['TAZ'])\n",
    "#landuseTripsMerged = pd.merge(tourTripsMerged, landuse, how='left', left_on='TAZ', right_on='TAZ', suffixes=('', '_drop'))\n",
    "#landuseTripsMerged.drop([col for col in landuseTripsMerged.columns if 'drop' in col], axis=1, inplace=True)"
   ]
  },
  {
   "cell_type": "code",
   "execution_count": null,
   "id": "eccb3f47",
   "metadata": {},
   "outputs": [],
   "source": [
    "# Concat mode_choice_raw files\n",
    "path = \"C:/Users/nazanin/Downloads/trip_mode_choice_rh_flsz_p25/trip_mode_choice/\"\n",
    "all_files = glob.glob(path + \"*raw.csv\")\n",
    "li_mapper = map(lambda filename: pd.read_csv(filename, index_col = None, header = 0), all_files)\n",
    "li2 = list(li_mapper)\n",
    "SFmode_choice_raw = pd.concat(li2, axis = 0, ignore_index=True)"
   ]
  },
  {
   "cell_type": "code",
   "execution_count": 108,
   "id": "ffc9c4e2",
   "metadata": {},
   "outputs": [],
   "source": [
    "# Concat mode_choice_utilities files\n",
    "path = \"C:/Users/nazanin/Downloads/trip_mode_choice_rh_flsz_p25/trip_mode_choice/\"\n",
    "all_files = glob.glob(path + \"*utilities.csv\")\n",
    "li_mapper = map(lambda filename: pd.read_csv(filename, index_col = None, header = 0), all_files)\n",
    "li2 = list(li_mapper)\n",
    "SFmode_choice_utilities = pd.concat(li2, axis = 0, ignore_index=True)"
   ]
  },
  {
   "cell_type": "code",
   "execution_count": null,
   "id": "e8248f34",
   "metadata": {},
   "outputs": [],
   "source": [
    "# Merge mode_choice_raw and utilities\n",
    "SFmode_choice_raw = SFmode_choice_raw.sort_values(by=['trip_id'])\n",
    "SFmode_choice_utilities = SFmode_choice_utilities.sort_values(by=['trip_id'])\n",
    "rawUtil = pd.merge(left=SFmode_choice_raw, right=SFmode_choice_utilities, how='left', on='trip_id')"
   ]
  },
  {
   "cell_type": "code",
   "execution_count": 109,
   "id": "5035b857",
   "metadata": {},
   "outputs": [
    {
     "name": "stdout",
     "output_type": "stream",
     "text": [
      "CPU times: total: 10.6 s\n",
      "Wall time: 10.6 s\n"
     ]
    }
   ],
   "source": [
    "%%time\n",
    "#just utilities\n",
    "# Merge trips, tours, households, persons, trip_mode_choice_raw, and utilities\n",
    "tourTripsMerged = tourTripsMerged.sort_values(by=['trip_id'])\n",
    "SFmode_choice_utilities = SFmode_choice_utilities.sort_values(by=['trip_id'])\n",
    "SFActMerged= pd.merge(left=tourTripsMerged, right=SFmode_choice_utilities, how='left', on=['trip_id'])"
   ]
  },
  {
   "cell_type": "code",
   "execution_count": null,
   "id": "fa758d1e",
   "metadata": {},
   "outputs": [],
   "source": [
    "%%time\n",
    "# Both raw and utilities\n",
    "# Merge trips, tours, households, persons, trip_mode_choice_raw, and utilities\n",
    "tourTripsMerged = tourTripsMerged.sort_values(by=['trip_id'])\n",
    "rawUtil = rawUtil.sort_values(by=['trip_id'])\n",
    "SFActMerged= pd.merge(left=tourTripsMerged, right=rawUtil, how='left', on=['trip_id'])"
   ]
  },
  {
   "cell_type": "code",
   "execution_count": 110,
   "id": "96ae8686",
   "metadata": {},
   "outputs": [],
   "source": [
    "# Merge person_trip level BEAM with activity sim merged files\n",
    "SFActMerged = SFActMerged.sort_values(by=['person_id', 'trip_id']).reset_index(drop=True)\n",
    "Person_Trip_eventsSF = Person_Trip_eventsSF.sort_values(by=['IDMerged','tripIndex']).reset_index(drop=True)\n",
    "eventsASim = pd.merge(left=Person_Trip_eventsSF, right=SFActMerged, how='left', left_on=[\"IDMerged\", 'tripIndex'], right_on=['person_id', 'trip_id'])\n",
    "#eventsASim = pd.merge(left=Person_Trip_eventsSF, right=tourTripsMerged, how='left',left_on = [\"IDMerged\", 'tripId'] , right_on=['person_id', 'trip_id'], suffixes=('', '_drop'))\n",
    "#eventsASim.drop([col for col in eventsASim.columns if 'drop' in col], axis=1, inplace=True)"
   ]
  },
  {
   "cell_type": "code",
   "execution_count": 111,
   "id": "72ae2d99",
   "metadata": {},
   "outputs": [],
   "source": [
    "eventsASim.rename(columns={\"mode_choice_logsum_y\":\"logsum_tours_mode_AS_tours\"}, inplace=True)"
   ]
  },
  {
   "cell_type": "code",
   "execution_count": 112,
   "id": "7a0b2fcc",
   "metadata": {},
   "outputs": [],
   "source": [
    "eventsASim.rename(columns={\"tour_mode\":\"tour_mode_AS_tours\"}, inplace=True)"
   ]
  },
  {
   "cell_type": "code",
   "execution_count": 113,
   "id": "0def8b02",
   "metadata": {},
   "outputs": [],
   "source": [
    "eventsASim.rename(columns={\"mode_choice_logsum_x\":\"logsum_trip_mode_AS_trips\"}, inplace=True)"
   ]
  },
  {
   "cell_type": "code",
   "execution_count": 114,
   "id": "28906290",
   "metadata": {},
   "outputs": [],
   "source": [
    "eventsASim.rename(columns={\"trip_mode\":\"trip_mode_AS_trips\"}, inplace=True)"
   ]
  },
  {
   "cell_type": "code",
   "execution_count": 123,
   "id": "5de13a06",
   "metadata": {},
   "outputs": [
    {
     "name": "stdout",
     "output_type": "stream",
     "text": [
      "CPU times: total: 6min 7s\n",
      "Wall time: 7min 56s\n"
     ]
    }
   ],
   "source": [
    "%%time\n",
    "eventsASim.to_csv('s3://beam-core-act/deepDive/CleanData/SanFrancisco/RideHail_FleetSize/sf_2018_rh_flsz_0p25_utilities.csv', index=False)"
   ]
  },
  {
   "cell_type": "code",
   "execution_count": null,
   "id": "c78a2b6f",
   "metadata": {},
   "outputs": [],
   "source": [
    "eventsASim.to_csv('C:/Shared-Work/Data/CleanData/ASIM_BEAM_Merged/sf_2018_base.csv', index = False)"
   ]
  },
  {
   "cell_type": "code",
   "execution_count": null,
   "id": "66353fcc",
   "metadata": {},
   "outputs": [],
   "source": [
    "# eventsASim.duration_in_privateCar.sum()"
   ]
  },
  {
   "cell_type": "code",
   "execution_count": null,
   "id": "ade3c9f5",
   "metadata": {},
   "outputs": [],
   "source": [
    "eventsASim.head(50000).to_csv('C:/Shared-Work/Data/CleanData/ASIM_BEAM_Merged/sf_2018_base_test.csv', index = False)"
   ]
  },
  {
   "cell_type": "code",
   "execution_count": null,
   "id": "3eb05f10",
   "metadata": {},
   "outputs": [],
   "source": [
    "#import matplotlib.pyplot as plt\n",
    "#import seaborn as sns\n",
    "\n",
    "#plt.figure(figsize=(13, 6))\n",
    "#sns.heatmap(households, vmax=1, annot=True, linewidths=.5)\n",
    "#plt.xticks(rotation=30, horizontalalignment='right')\n",
    "#plt.show()"
   ]
  },
  {
   "cell_type": "code",
   "execution_count": null,
   "id": "04e327c6",
   "metadata": {},
   "outputs": [],
   "source": [
    "#import missingno as msno\n",
    "#%matplotlib inline\n",
    "#msno.bar(SFbaseline2018)\n",
    "#msno.heatmap(persons)"
   ]
  },
  {
   "cell_type": "code",
   "execution_count": null,
   "id": "c3c34a2c",
   "metadata": {},
   "outputs": [],
   "source": []
  },
  {
   "cell_type": "code",
   "execution_count": null,
   "id": "b284a298",
   "metadata": {},
   "outputs": [],
   "source": [
    "#from io import StringIO # python3; python2: BytesIO \n",
    "#import boto\n",
    "#import boto3\n",
    "#\n",
    "#conn = boto.s3.connect_to_region('us-east-2')\n",
    "#bucket = conn.get_bucket('beam-core-act')\n",
    "#csv_buffer = StringIO()\n",
    "#eventsASim.to_csv(csv_buffer)\n",
    "#s3_resource = boto3.resource('s3')\n",
    "#s3_resource.Object(bucket, 'eventsASim.csv').put(Body=csv_buffer.getvalue())"
   ]
  }
 ],
 "metadata": {
  "kernelspec": {
   "display_name": "Python 3 (ipykernel)",
   "language": "python",
   "name": "python3"
  },
  "language_info": {
   "codemirror_mode": {
    "name": "ipython",
    "version": 3
   },
   "file_extension": ".py",
   "mimetype": "text/x-python",
   "name": "python",
   "nbconvert_exporter": "python",
   "pygments_lexer": "ipython3",
   "version": "3.9.7"
  }
 },
 "nbformat": 4,
 "nbformat_minor": 5
}
