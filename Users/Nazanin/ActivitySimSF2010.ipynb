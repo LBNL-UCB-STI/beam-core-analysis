{
 "cells": [
  {
   "cell_type": "code",
   "execution_count": 1,
   "id": "d753b223",
   "metadata": {},
   "outputs": [],
   "source": [
    "import os\n",
    "import os.path as op\n",
    "import numpy as np\n",
    "import pandas as pd\n",
    "import sys\n",
    "import boto3\n",
    "from boto3 import session\n",
    "import matplotlib.pyplot as plt\n",
    "%matplotlib inline\n",
    "import seaborn as sns\n",
    "import zipfile\n",
    "import glob"
   ]
  },
  {
   "cell_type": "code",
   "execution_count": 2,
   "id": "cc5fd3ab",
   "metadata": {},
   "outputs": [],
   "source": [
    "#Checking older versions\n",
    "#locOld = \"https://beam-outputs.s3.amazonaws.com/pilates-outputs/austin-2010-2018-central/2018/\" \n",
    "#mode_choice_raw = pd.read_csv(locOld + 'final_trip_mode_choice_raw.csv')\n",
    "#utilities = pd.read_csv(locOld + 'final_trip_mode_choice_utilities.csv')"
   ]
  },
  {
   "cell_type": "markdown",
   "id": "f486437f",
   "metadata": {},
   "source": [
    "#### Reading the files"
   ]
  },
  {
   "cell_type": "code",
   "execution_count": 3,
   "id": "f03e85ff",
   "metadata": {},
   "outputs": [],
   "source": [
    "loc = \"https://beam-outputs.s3.amazonaws.com/pilates-outputs/sfbay-2010-lessrh-20220223/activitysim/\" \n",
    "trips = pd.read_csv(loc + 'final_trips.csv')\n",
    "households = pd.read_csv(loc + 'final_households.csv')\n",
    "persons = pd.read_csv(loc + 'final_persons.csv')\n",
    "tours = pd.read_csv(loc +'final_tours.csv')\n",
    "plans = pd.read_csv(loc +'final_plans.csv')\n",
    "landuse = pd.read_csv(loc +'final_land_use.csv')\n",
    "#checkpoints = pd.read_csv(loc + 'final_checkpoints.csv')\n",
    "#joint_tour_participants = pd.read_csv(loc + 'final_joint_tour_participants.csv')\n",
    "#specs = pd.read_csv(loc +'final_trip_mode_choice_specs.csv')\n",
    "#tripModeChoice = pd.read_csv(loc +'final_trip_mode_choice_raw.csv')\n",
    "#tripModeChoiceUtilities = pd.read_csv(loc +'final_trip_mode_choice_utilities.csv')"
   ]
  },
  {
   "cell_type": "code",
   "execution_count": 4,
   "id": "52376c8f",
   "metadata": {},
   "outputs": [],
   "source": [
    "#Show all columns and rows\n",
    "pd.options.display.max_columns = None\n",
    "pd.options.display.max_rows = None"
   ]
  },
  {
   "cell_type": "markdown",
   "id": "6b7984d8",
   "metadata": {},
   "source": [
    "#### Merging the files"
   ]
  },
  {
   "cell_type": "code",
   "execution_count": 5,
   "id": "3cc845bd",
   "metadata": {},
   "outputs": [],
   "source": [
    "#Merge households and persons \n",
    "persons = persons.sort_values(by=['household_id'])\n",
    "households = households.sort_values(by=['household_id'])\n",
    "hhpersons = pd.merge(left=persons, right=households, how='left', on='household_id', suffixes=('', '_drop'))\n",
    "hhpersons.drop([col for col in hhpersons.columns if 'drop' in col], axis=1, inplace=True)"
   ]
  },
  {
   "cell_type": "code",
   "execution_count": 6,
   "id": "e7370c7d",
   "metadata": {},
   "outputs": [],
   "source": [
    "#Merge tours, households and persons\n",
    "tours = tours.sort_values(by=['person_id'])\n",
    "hhpersons = hhpersons.sort_values(by=['person_id'])\n",
    "hhperTours = pd.merge(left=tours, right=hhpersons, how='left', on='person_id', suffixes=('', '_drop'))\n",
    "hhperTours.drop([col for col in hhperTours.columns if 'drop' in col], axis=1, inplace=True)"
   ]
  },
  {
   "cell_type": "code",
   "execution_count": 7,
   "id": "d7cfef3f",
   "metadata": {},
   "outputs": [
    {
     "name": "stdout",
     "output_type": "stream",
     "text": [
      "Wall time: 40.5 s\n"
     ]
    }
   ],
   "source": [
    "%%time\n",
    "#Merge trips, tours, households and persons\n",
    "trips = trips.sort_values(by=['person_id', 'tour_id'])\n",
    "hhperTours = hhperTours.sort_values(by=['person_id','tour_id'])\n",
    "tourTripsMerged = pd.merge(left=trips, right=hhperTours, how='left', on=['person_id','tour_id'], suffixes=('', '_drop'))\n",
    "tourTripsMerged.drop([col for col in tourTripsMerged.columns if 'drop' in col], axis=1, inplace=True)"
   ]
  },
  {
   "cell_type": "markdown",
   "id": "fb6f71f2",
   "metadata": {},
   "source": [
    "#### Don't forget to merge plans files here"
   ]
  },
  {
   "cell_type": "code",
   "execution_count": null,
   "id": "00e75a79",
   "metadata": {},
   "outputs": [],
   "source": [
    "%%time   #### Check this code\n",
    "#Merge trips, tours, households and persons, and plans\n",
    "plans = plans.sort_values(by=['person_id', 'trip_id'])\n",
    "tourTripsMerged = tourTripsMerged.sort_values(by=['person_id','trip_id'])\n",
    "plansTripsMerged = pd.merge(left=plans, right=tourTripsMerged, how='left', on=['person_id','trip_id'], suffixes=('', '_drop'))\n",
    "plansTripsMerged.drop([col for col in plansTripsMerged.columns if 'drop' in col], axis=1, inplace=True)"
   ]
  },
  {
   "cell_type": "code",
   "execution_count": null,
   "id": "03b78d3c",
   "metadata": {},
   "outputs": [],
   "source": []
  },
  {
   "cell_type": "code",
   "execution_count": null,
   "id": "8f1cd6ae",
   "metadata": {},
   "outputs": [],
   "source": []
  },
  {
   "cell_type": "code",
   "execution_count": 20,
   "id": "bd93e0c7",
   "metadata": {
    "scrolled": false
   },
   "outputs": [
    {
     "data": {
      "text/html": [
       "<div>\n",
       "<style scoped>\n",
       "    .dataframe tbody tr th:only-of-type {\n",
       "        vertical-align: middle;\n",
       "    }\n",
       "\n",
       "    .dataframe tbody tr th {\n",
       "        vertical-align: top;\n",
       "    }\n",
       "\n",
       "    .dataframe thead th {\n",
       "        text-align: right;\n",
       "    }\n",
       "</style>\n",
       "<table border=\"1\" class=\"dataframe\">\n",
       "  <thead>\n",
       "    <tr style=\"text-align: right;\">\n",
       "      <th></th>\n",
       "      <th>tour_id</th>\n",
       "      <th>person_id</th>\n",
       "      <th>tour_type</th>\n",
       "      <th>tour_type_count</th>\n",
       "      <th>tour_type_num</th>\n",
       "      <th>tour_num</th>\n",
       "      <th>tour_count</th>\n",
       "      <th>tour_category</th>\n",
       "      <th>number_of_participants</th>\n",
       "      <th>destination</th>\n",
       "      <th>origin</th>\n",
       "      <th>household_id</th>\n",
       "      <th>tdd</th>\n",
       "      <th>start</th>\n",
       "      <th>end</th>\n",
       "      <th>duration</th>\n",
       "      <th>composition</th>\n",
       "      <th>destination_logsum</th>\n",
       "      <th>tour_mode</th>\n",
       "      <th>mode_choice_logsum</th>\n",
       "      <th>atwork_subtour_frequency</th>\n",
       "      <th>parent_tour_id</th>\n",
       "      <th>stop_frequency</th>\n",
       "      <th>primary_purpose</th>\n",
       "    </tr>\n",
       "  </thead>\n",
       "  <tbody>\n",
       "    <tr>\n",
       "      <th>469973</th>\n",
       "      <td>189</td>\n",
       "      <td>4</td>\n",
       "      <td>othdiscr</td>\n",
       "      <td>1</td>\n",
       "      <td>1</td>\n",
       "      <td>1</td>\n",
       "      <td>1</td>\n",
       "      <td>non_mandatory</td>\n",
       "      <td>1</td>\n",
       "      <td>927.0</td>\n",
       "      <td>1005.0</td>\n",
       "      <td>865</td>\n",
       "      <td>146.0</td>\n",
       "      <td>15.0</td>\n",
       "      <td>16.0</td>\n",
       "      <td>1.0</td>\n",
       "      <td>NaN</td>\n",
       "      <td>13.156275</td>\n",
       "      <td>DRIVEALONEFREE</td>\n",
       "      <td>-2.239582</td>\n",
       "      <td>NaN</td>\n",
       "      <td>NaN</td>\n",
       "      <td>0out_0in</td>\n",
       "      <td>othdiscr</td>\n",
       "    </tr>\n",
       "  </tbody>\n",
       "</table>\n",
       "</div>"
      ],
      "text/plain": [
       "        tour_id  person_id tour_type  tour_type_count  tour_type_num  \\\n",
       "469973      189          4  othdiscr                1              1   \n",
       "\n",
       "        tour_num  tour_count  tour_category  number_of_participants  \\\n",
       "469973         1           1  non_mandatory                       1   \n",
       "\n",
       "        destination  origin  household_id    tdd  start   end  duration  \\\n",
       "469973        927.0  1005.0           865  146.0   15.0  16.0       1.0   \n",
       "\n",
       "       composition  destination_logsum       tour_mode  mode_choice_logsum  \\\n",
       "469973         NaN           13.156275  DRIVEALONEFREE           -2.239582   \n",
       "\n",
       "       atwork_subtour_frequency  parent_tour_id stop_frequency primary_purpose  \n",
       "469973                      NaN             NaN       0out_0in        othdiscr  "
      ]
     },
     "execution_count": 20,
     "metadata": {},
     "output_type": "execute_result"
    }
   ],
   "source": [
    "tours[tours['person_id'] == 4]"
   ]
  },
  {
   "cell_type": "code",
   "execution_count": 17,
   "id": "6cfff5f0",
   "metadata": {},
   "outputs": [],
   "source": [
    "#Merge trips, tours, households, and persons with land-use\n",
    "landuse = landuse.sort_values(by=['TAZ'])\n",
    "tourTripsMerged = tourTripsMerged.sort_values(by=['TAZ'])\n",
    "landuseTripsMerged = pd.merge(tourTripsMerged, landuse, how='left', left_on='TAZ', right_on='TAZ', suffixes=('', '_drop'))\n",
    "landuseTripsMerged.drop([col for col in landuseTripsMerged.columns if 'drop' in col], axis=1, inplace=True)"
   ]
  },
  {
   "cell_type": "code",
   "execution_count": 34,
   "id": "cc999c32",
   "metadata": {},
   "outputs": [],
   "source": [
    "#Concat mode_choice_raw files\n",
    "path = \"C:/Users/nazanin/Downloads/trip_mode_choice/trip_mode_choice/\"\n",
    "all_files = glob.glob(path + \"*raw.csv\")\n",
    "li_mapper = map(lambda filename: pd.read_csv(filename, index_col = None, header = 0), all_files)\n",
    "li2 = list(li_mapper)\n",
    "SFmode_choice_raw = pd.concat(li2, axis = 0, ignore_index=True)"
   ]
  },
  {
   "cell_type": "code",
   "execution_count": 35,
   "id": "fe459f29",
   "metadata": {},
   "outputs": [],
   "source": [
    "#Concat mode_choice_utilities files\n",
    "path = \"C:/Users/nazanin/Downloads/trip_mode_choice/trip_mode_choice/\"\n",
    "all_files = glob.glob(path + \"*utilities.csv\")\n",
    "li_mapper = map(lambda filename: pd.read_csv(filename, index_col = None, header = 0), all_files)\n",
    "li2 = list(li_mapper)\n",
    "SFmode_choice_utilities = pd.concat(li2, axis = 0, ignore_index=True)"
   ]
  },
  {
   "cell_type": "code",
   "execution_count": 42,
   "id": "d6909cb4",
   "metadata": {},
   "outputs": [],
   "source": [
    "#Merge mode_choice_raw and utilities\n",
    "SFmode_choice_raw = SFmode_choice_raw.sort_values(by=['trip_id'])\n",
    "SFmode_choice_utilities = SFmode_choice_utilities.sort_values(by=['trip_id'])\n",
    "rawUtil = pd.merge(left=SFmode_choice_raw, right=SFmode_choice_utilities, how='left', on='trip_id', suffixes=('', '_drop'))\n",
    "rawUtil.drop([col for col in rawUtil.columns if 'drop' in col], axis=1, inplace=True)"
   ]
  },
  {
   "cell_type": "code",
   "execution_count": 44,
   "id": "2b887945",
   "metadata": {},
   "outputs": [
    {
     "name": "stdout",
     "output_type": "stream",
     "text": [
      "Wall time: 1min 40s\n"
     ]
    }
   ],
   "source": [
    "%%time\n",
    "#Merge trips, tours, households, persons, trip_mode_choice_raw, and utilities\n",
    "landuseTripsMerged = landuseTripsMerged.sort_values(by=['trip_id'])\n",
    "rawUtil = rawUtil.sort_values(by=['trip_id'])\n",
    "SFActMerged= pd.merge(left=landuseTripsMerged, right=rawUtil, how='left', on=['trip_id'], suffixes=('', '_drop'))\n",
    "SFActMerged.drop([col for col in SFActMerged.columns if 'drop' in col], axis=1, inplace=True)"
   ]
  },
  {
   "cell_type": "code",
   "execution_count": 48,
   "id": "e41d44b6",
   "metadata": {},
   "outputs": [
    {
     "data": {
      "text/plain": [
       "(1856570, 613)"
      ]
     },
     "execution_count": 48,
     "metadata": {},
     "output_type": "execute_result"
    }
   ],
   "source": [
    "SFActMerged.shape"
   ]
  },
  {
   "cell_type": "code",
   "execution_count": 50,
   "id": "cdff6c8c",
   "metadata": {},
   "outputs": [],
   "source": [
    "SFActMerged_chunk = SFActMerged[0:1000]\n",
    "SFActMerged_chunk.to_csv('C:/Shared-Work/Data/CleanData/SFActMerged_chunk.csv', index = False)"
   ]
  },
  {
   "cell_type": "code",
   "execution_count": null,
   "id": "8a0a4e97",
   "metadata": {},
   "outputs": [],
   "source": []
  },
  {
   "cell_type": "code",
   "execution_count": null,
   "id": "91857e22",
   "metadata": {},
   "outputs": [],
   "source": []
  },
  {
   "cell_type": "code",
   "execution_count": null,
   "id": "e4c4868c",
   "metadata": {},
   "outputs": [],
   "source": []
  },
  {
   "cell_type": "code",
   "execution_count": null,
   "id": "e5d35599",
   "metadata": {},
   "outputs": [],
   "source": [
    "specs.Expression_id = specs.Expression_id .astype(str)\n",
    "specs.rename(columns = {'Expression_id':'trip_mode'}, inplace = True)\n",
    "specs = specs.set_index('trip_mode')"
   ]
  },
  {
   "cell_type": "code",
   "execution_count": null,
   "id": "12614827",
   "metadata": {},
   "outputs": [],
   "source": [
    "specsT = specs.transpose()"
   ]
  },
  {
   "cell_type": "code",
   "execution_count": null,
   "id": "70ff07a4",
   "metadata": {},
   "outputs": [],
   "source": [
    "ActSimSpec = pd.merge(ActSimMerged, specsT, left_on = 'trip_mode', right_index=True, how = 'left')"
   ]
  },
  {
   "cell_type": "code",
   "execution_count": null,
   "id": "3d242914",
   "metadata": {},
   "outputs": [],
   "source": [
    "#ActSimSpec.to_csv('C:/Shared-Work/Data/CleanData/Final_ActSimMerged.csv')"
   ]
  }
 ],
 "metadata": {
  "kernelspec": {
   "display_name": "Python 3 (ipykernel)",
   "language": "python",
   "name": "python3"
  },
  "language_info": {
   "codemirror_mode": {
    "name": "ipython",
    "version": 3
   },
   "file_extension": ".py",
   "mimetype": "text/x-python",
   "name": "python",
   "nbconvert_exporter": "python",
   "pygments_lexer": "ipython3",
   "version": "3.9.7"
  }
 },
 "nbformat": 4,
 "nbformat_minor": 5
}
