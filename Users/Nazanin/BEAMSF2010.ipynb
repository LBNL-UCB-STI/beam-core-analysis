{
 "cells": [
  {
   "cell_type": "code",
   "execution_count": 1,
   "id": "5b9014b8",
   "metadata": {},
   "outputs": [],
   "source": [
    "import pandas as pd\n",
    "import numpy as np\n",
    "from dask import dataframe as dd"
   ]
  },
  {
   "cell_type": "code",
   "execution_count": 2,
   "id": "fcc76ff6",
   "metadata": {},
   "outputs": [],
   "source": [
    "#File location S3\n",
    "#loc = \"https://beam-outputs.s3.amazonaws.com/pilates-outputs/sfbay-2010-base-20200206/beam/sfbay-pilates-base__2022-02-06_07-26-58_kwy/ITERS/it.0/\"\n",
    "locSF_rh = \"https://beam-outputs.s3.amazonaws.com/pilates-outputs/sfbay-2010-lessrh-20220223/beam/year-2010-iteration-2/ITERS/it.0/\"\n",
    "loc_2018 =  \"https://beam-outputs.s3.amazonaws.com/pilates-outputs/sfbay-2018-base-20220306/beam/year-2018-iteration-5/ITERS/it.0/\""
   ]
  },
  {
   "cell_type": "code",
   "execution_count": 3,
   "id": "46ea8f0f",
   "metadata": {},
   "outputs": [
    {
     "name": "stderr",
     "output_type": "stream",
     "text": [
      "<timed exec>:21: DtypeWarning: Columns (1,2,3,21,23,24,30,31,37,52) have mixed types. Specify dtype option on import or set low_memory=False.\n"
     ]
    },
    {
     "name": "stdout",
     "output_type": "stream",
     "text": [
      "Wall time: 2min 34s\n"
     ]
    }
   ],
   "source": [
    "%%time\n",
    "#Reading the events file\n",
    "dtypes = {\n",
    "    \"time\": \"float32\",\n",
    "    \"type\": \"category\",\n",
    "    \"legMode\": \"category\",\n",
    "    \"actType\": \"category\", \n",
    "    \"reason\": \"category\",\n",
    "    \"primaryFuelLevel\": \"float64\",\n",
    "    \"legMode\": \"category\",\n",
    "    \"chargingPointType\":\"category\",\n",
    "    \"pricingModel\":\"category\",\n",
    "    \"parkingType\":\"category\",\n",
    "    \"mode\":\"category\",\n",
    "    \"personalVehicleAvailable\": \"category\",\n",
    "    \"person\": \"object\",\n",
    "    \"driver\": \"object\",\n",
    "    \"riders\": \"object\"\n",
    "}\n",
    "\n",
    "# Use list comprehension to remove the unwanted column in **usecol**\n",
    "eventsSF = pd.read_csv(locSF_rh + '0.events.csv.gz', compression = 'gzip', dtype = dtypes)"
   ]
  },
  {
   "cell_type": "code",
   "execution_count": 4,
   "id": "4a1d53b5",
   "metadata": {},
   "outputs": [],
   "source": [
    "#Show all columns and rows\n",
    "pd.options.display.max_columns = None\n",
    "pd.options.display.max_rows = None"
   ]
  },
  {
   "cell_type": "code",
   "execution_count": 5,
   "id": "57519b69",
   "metadata": {},
   "outputs": [],
   "source": [
    "#Rename mode column\n",
    "eventsSF.rename(columns={\"mode\":\"modeType\"}, inplace=True)  "
   ]
  },
  {
   "cell_type": "code",
   "execution_count": 6,
   "id": "4030a93a",
   "metadata": {},
   "outputs": [],
   "source": [
    "#Replace \"Work\" with \"work\" in actType column\n",
    "eventsSF[\"actType\"].replace({\"Work\": \"work\"}, inplace=True)"
   ]
  },
  {
   "cell_type": "code",
   "execution_count": 8,
   "id": "68dd021a",
   "metadata": {},
   "outputs": [],
   "source": [
    "Walk_transit = eventsSF[(eventsSF['person']==\"4199718\")|(eventsSF['driver']==\"4199718\")|(eventsSF['vehicle'] == \"AC:5571737\")|(eventsSF['vehicle'] == \"AC:5595297\")|(eventsSF['vehicle'] == \"AC:5572611\")\n",
    "         |(eventsSF['vehicle'] =='AC:5572612')|(eventsSF['vehicle'] =='AC:5595644')|(eventsSF['vehicle'] =='AC:5572381')\n",
    "        |(eventsSF['vehicle'] =='AC:5572465')|(eventsSF['vehicle'] =='BA:70SFO11')|(eventsSF['person']==\"TransitDriverAgent-AC:5572612\")]"
   ]
  },
  {
   "cell_type": "code",
   "execution_count": 9,
   "id": "80923237",
   "metadata": {},
   "outputs": [],
   "source": [
    "#Walk_transit.to_csv('C:/Shared-Work/Data/CleanData/Walk_transit_3_9.csv', index = False)"
   ]
  },
  {
   "cell_type": "code",
   "execution_count": null,
   "id": "01c43efd",
   "metadata": {},
   "outputs": [],
   "source": []
  },
  {
   "cell_type": "code",
   "execution_count": null,
   "id": "76205e12",
   "metadata": {},
   "outputs": [],
   "source": []
  },
  {
   "cell_type": "code",
   "execution_count": 10,
   "id": "4730d705",
   "metadata": {},
   "outputs": [],
   "source": [
    "#Adding the IDMerged Column\n",
    "eventsSF['UniqueID'] = eventsSF['person'] #make a copy of the person column\n",
    "eventsSF['personID'] = np.where(eventsSF['person'].isin(eventsSF['driver']), eventsSF['person'], np.nan) \n",
    "eventsSF['driverID'] = np.where(eventsSF['driver'].isin(eventsSF['person']), eventsSF['driver'], np.nan) "
   ]
  },
  {
   "cell_type": "code",
   "execution_count": 11,
   "id": "07aa5e1c",
   "metadata": {},
   "outputs": [],
   "source": [
    "#Merging person and driver ids in one column\n",
    "eventsSF['IDMerged'] = eventsSF['personID'].combine_first(eventsSF['driverID'])\n",
    "eventsSF['IDMerged'] = eventsSF['UniqueID'].combine_first(eventsSF['IDMerged'])"
   ]
  },
  {
   "cell_type": "code",
   "execution_count": 12,
   "id": "5a51f4a4",
   "metadata": {},
   "outputs": [],
   "source": [
    "#Dropping unused columns\n",
    "eventsSF = eventsSF.drop(['personID','driverID','UniqueID'], axis=1) "
   ]
  },
  {
   "cell_type": "code",
   "execution_count": 13,
   "id": "db17039b",
   "metadata": {},
   "outputs": [],
   "source": [
    "eventsSFCopy = eventsSF.copy()"
   ]
  },
  {
   "cell_type": "code",
   "execution_count": 14,
   "id": "e47712e3",
   "metadata": {},
   "outputs": [
    {
     "data": {
      "text/plain": [
       "(6234, 62)"
      ]
     },
     "execution_count": 14,
     "metadata": {},
     "output_type": "execute_result"
    }
   ],
   "source": [
    "IDnan = eventsSF[eventsSF['IDMerged'].isna()]\n",
    "IDnan.shape"
   ]
  },
  {
   "cell_type": "code",
   "execution_count": null,
   "id": "2a2fe5c5",
   "metadata": {
    "scrolled": true
   },
   "outputs": [],
   "source": [
    "eventsSF[eventsSF['vehicle'] == '236306']"
   ]
  },
  {
   "cell_type": "code",
   "execution_count": 16,
   "id": "a9b3e7a4",
   "metadata": {},
   "outputs": [],
   "source": [
    "longwalk2= eventsSF[eventsSF['IDMerged'] == '181']"
   ]
  },
  {
   "cell_type": "code",
   "execution_count": 17,
   "id": "a70631f5",
   "metadata": {},
   "outputs": [],
   "source": [
    "longwalk_576_BEAMevents = eventsSF[eventsSF['IDMerged'] == '576']"
   ]
  },
  {
   "cell_type": "code",
   "execution_count": 18,
   "id": "6452b39f",
   "metadata": {},
   "outputs": [],
   "source": [
    "longwalk_576_BEAMevents.to_csv('C:/Shared-Work/Data/CleanData/longwalk_576_BEAMevents.csv', index = False)"
   ]
  },
  {
   "cell_type": "code",
   "execution_count": null,
   "id": "a2bca29d",
   "metadata": {},
   "outputs": [],
   "source": []
  },
  {
   "cell_type": "code",
   "execution_count": null,
   "id": "5e9f5820",
   "metadata": {},
   "outputs": [],
   "source": []
  },
  {
   "cell_type": "code",
   "execution_count": null,
   "id": "f85de85e",
   "metadata": {},
   "outputs": [],
   "source": [
    "%%time\n",
    "#Split the riders column in order to replace transit and ridehail driver with rider id\n",
    "dfRiders = eventsSF['riders'].str.split(':',expand=True)"
   ]
  },
  {
   "cell_type": "code",
   "execution_count": null,
   "id": "11004592",
   "metadata": {},
   "outputs": [],
   "source": []
  },
  {
   "cell_type": "code",
   "execution_count": 20,
   "id": "24bd7cf5",
   "metadata": {},
   "outputs": [],
   "source": [
    "riderStartIndex = len(eventsSF.columns)"
   ]
  },
  {
   "cell_type": "code",
   "execution_count": 21,
   "id": "890d76ab",
   "metadata": {},
   "outputs": [
    {
     "ename": "NameError",
     "evalue": "name 'dfRiders' is not defined",
     "output_type": "error",
     "traceback": [
      "\u001b[1;31m---------------------------------------------------------------------------\u001b[0m",
      "\u001b[1;31mNameError\u001b[0m                                 Traceback (most recent call last)",
      "\u001b[1;32m~\\AppData\\Local\\Temp\\2/ipykernel_9976/2296641907.py\u001b[0m in \u001b[0;36m<module>\u001b[1;34m\u001b[0m\n\u001b[0;32m      1\u001b[0m \u001b[1;31m#Concat the new riders columns to the main dataframe\u001b[0m\u001b[1;33m\u001b[0m\u001b[1;33m\u001b[0m\u001b[0m\n\u001b[1;32m----> 2\u001b[1;33m \u001b[0meventsSF\u001b[0m \u001b[1;33m=\u001b[0m \u001b[0mpd\u001b[0m\u001b[1;33m.\u001b[0m\u001b[0mconcat\u001b[0m\u001b[1;33m(\u001b[0m\u001b[1;33m[\u001b[0m\u001b[0meventsSF\u001b[0m\u001b[1;33m,\u001b[0m \u001b[0mdfRiders\u001b[0m\u001b[1;33m.\u001b[0m\u001b[0mreindex\u001b[0m\u001b[1;33m(\u001b[0m\u001b[0meventsSF\u001b[0m\u001b[1;33m.\u001b[0m\u001b[0mindex\u001b[0m\u001b[1;33m)\u001b[0m\u001b[1;33m]\u001b[0m\u001b[1;33m,\u001b[0m \u001b[0maxis\u001b[0m\u001b[1;33m=\u001b[0m\u001b[1;36m1\u001b[0m\u001b[1;33m)\u001b[0m\u001b[1;33m\u001b[0m\u001b[1;33m\u001b[0m\u001b[0m\n\u001b[0m",
      "\u001b[1;31mNameError\u001b[0m: name 'dfRiders' is not defined"
     ]
    }
   ],
   "source": [
    "#Concat the new riders columns to the main dataframe\n",
    "eventsSF = pd.concat([eventsSF, dfRiders.reindex(eventsSF.index)], axis=1)"
   ]
  },
  {
   "cell_type": "code",
   "execution_count": null,
   "id": "844aa8b2",
   "metadata": {},
   "outputs": [],
   "source": [
    "%%time\n",
    "# Making a riderID column and merge it with the already merged id column \n",
    "NaN = np.nan\n",
    "eventsSF['ID'] = NaN \n",
    "    \n",
    "for col in eventsSF.columns[riderStartIndex:-2]:    #maybe change col to row to make new rows\n",
    "    eventsSF['riderID'] = np.where(eventsSF[col].isin(eventsSF[\"IDMerged\"]), eventsSF[col], np.nan)\n",
    "    eventsSF['ID'] = eventsSF['ID'].combine_first(eventsSF['riderID'])"
   ]
  },
  {
   "cell_type": "code",
   "execution_count": null,
   "id": "a9c9ab2e",
   "metadata": {},
   "outputs": [],
   "source": [
    "eventsSF['IDMerged'] = eventsSF['IDMerged'].combine_first(eventsSF['ID'])"
   ]
  },
  {
   "cell_type": "code",
   "execution_count": null,
   "id": "0f93c430",
   "metadata": {},
   "outputs": [],
   "source": [
    "#dropping unused riders columns\n",
    "eventsSF = eventsSF.drop(columns=eventsSF.columns[riderStartIndex:])"
   ]
  },
  {
   "cell_type": "code",
   "execution_count": null,
   "id": "52d2929f",
   "metadata": {},
   "outputs": [],
   "source": [
    "# shift column 'Name' to first position\n",
    "first_column = eventsSF.pop('IDMerged')\n",
    "# insert column using insert(position,column_name,first_column) function\n",
    "eventsSF.insert(0, 'IDMerged', first_column)"
   ]
  },
  {
   "cell_type": "code",
   "execution_count": null,
   "id": "23885ede",
   "metadata": {},
   "outputs": [],
   "source": [
    "#SF_chunk = eventsSFnum[0:10000]\n",
    "#SF_chunk.to_csv('C:/Shared-Work/Data/CleanData/SF_chunk.csv', index = False)"
   ]
  },
  {
   "cell_type": "code",
   "execution_count": null,
   "id": "af448889",
   "metadata": {},
   "outputs": [],
   "source": [
    "IDnan = eventsSF[eventsSF['IDMerged'].isna()]\n",
    "IDnan.shape"
   ]
  },
  {
   "cell_type": "code",
   "execution_count": null,
   "id": "2f9ebe60",
   "metadata": {},
   "outputs": [],
   "source": [
    "#Filling NANs in ID related to charging events\n",
    "eventsSF[\"IDMerged\"] = eventsSF.groupby('vehicle')['IDMerged'].transform(lambda x: x.ffill().bfill())"
   ]
  },
  {
   "cell_type": "code",
   "execution_count": null,
   "id": "733da493",
   "metadata": {},
   "outputs": [],
   "source": [
    "eventsSF[eventsSF['vehicle'] == '236306']"
   ]
  },
  {
   "cell_type": "code",
   "execution_count": null,
   "id": "7f95d458",
   "metadata": {},
   "outputs": [],
   "source": [
    "%%time\n",
    "#To select just the numeric MergedID\n",
    "#eventsSF.loc[eventsSF.IDMerged.str.isnumeric()]\n",
    "eventsSFnum = eventsSF[pd.to_numeric(eventsSF.IDMerged, errors='coerce').notnull()].sort_values(['IDMerged','time']).reset_index(drop=True)"
   ]
  },
  {
   "cell_type": "code",
   "execution_count": null,
   "id": "9f556aac",
   "metadata": {},
   "outputs": [],
   "source": [
    "eventsSFnum['actEndTime'] = np.where(eventsSFnum['type']=='actend'\n",
    "                     , eventsSFnum['time'], np.nan)"
   ]
  },
  {
   "cell_type": "code",
   "execution_count": null,
   "id": "9549f102",
   "metadata": {},
   "outputs": [],
   "source": [
    "eventsSFnum['actStartTime'] = np.where(eventsSFnum['type']=='actstart'\n",
    "                     , eventsSFnum['time'], np.nan)    "
   ]
  },
  {
   "cell_type": "code",
   "execution_count": null,
   "id": "b3ac7d56",
   "metadata": {},
   "outputs": [],
   "source": [
    "eventsSFnum['PTduration'] = np.where(eventsSFnum['type']=='PathTraversal'\n",
    "                     , eventsSFnum['arrivalTime'] - eventsSFnum['departureTime'], np.nan)"
   ]
  },
  {
   "cell_type": "code",
   "execution_count": null,
   "id": "1ec952df",
   "metadata": {},
   "outputs": [],
   "source": [
    "eventsSFnum['duration_walking'] = np.where(eventsSFnum['modeType']=='walk'\n",
    "                     , eventsSFnum['PTduration'], np.nan)"
   ]
  },
  {
   "cell_type": "code",
   "execution_count": null,
   "id": "0c602726",
   "metadata": {},
   "outputs": [],
   "source": [
    "eventsSFnum['duration_in_privateCar'] = np.where((eventsSFnum['modeType']=='car')|(eventsSFnum['modeType']=='car_hov3')|(eventsSFnum['modeType']=='car_hov2')|\n",
    "                                              (eventsSFnum['modeType']=='hov2_teleportation')|(eventsSFnum['modeType']=='hov3_teleportation')\n",
    "                                                 , eventsSFnum['PTduration'], np.nan)"
   ]
  },
  {
   "cell_type": "code",
   "execution_count": null,
   "id": "3db2d306",
   "metadata": {},
   "outputs": [],
   "source": [
    "eventsSFnum['duration_on_bike'] = np.where(eventsSFnum['modeType']=='bike', eventsSFnum['PTduration'], np.nan)"
   ]
  },
  {
   "cell_type": "code",
   "execution_count": null,
   "id": "cf693532",
   "metadata": {},
   "outputs": [],
   "source": [
    "eventsSFnum['duration_in_ridehail'] = np.where((eventsSFnum['modeType']=='ride_hail')|(eventsSFnum['modeType']=='ride_hail_pooled'), eventsSFnum['PTduration'], np.nan)"
   ]
  },
  {
   "cell_type": "code",
   "execution_count": null,
   "id": "908ad91b",
   "metadata": {},
   "outputs": [],
   "source": [
    "eventsSFnum['duration_in_public'] = np.where((eventsSFnum['modeType']=='bike_transit')|(eventsSFnum['modeType']=='drive_transit')|(eventsSFnum['modeType']=='walk_transit'), eventsSFnum['PTduration'], np.nan)"
   ]
  },
  {
   "cell_type": "code",
   "execution_count": null,
   "id": "49c442d0",
   "metadata": {},
   "outputs": [],
   "source": [
    "print(eventsSFnum.modeType.unique().tolist())"
   ]
  },
  {
   "cell_type": "code",
   "execution_count": null,
   "id": "fa00ebb1",
   "metadata": {},
   "outputs": [],
   "source": [
    "eventsSFnum[\"tripIndex\"] = eventsSFnum.groupby(\"IDMerged\")[\"tourIndex\"].rank(method=\"first\", ascending=True)\n",
    "eventsSFnum[\"tripIndex\"] = eventsSFnum.tripIndex.fillna(method='ffill')"
   ]
  },
  {
   "cell_type": "code",
   "execution_count": null,
   "id": "a4780e9f",
   "metadata": {},
   "outputs": [],
   "source": [
    "eventsSFnum[\"currentTourModeFillna\"] = eventsSFnum.currentTourMode.fillna(method='ffill')#.astype('object')"
   ]
  },
  {
   "cell_type": "code",
   "execution_count": null,
   "id": "685f3684",
   "metadata": {},
   "outputs": [],
   "source": [
    "#Change column type to numeric to be able to sort_values\n",
    "eventsSFnum[\"IDMerged\"] = pd.to_numeric(eventsSFnum[\"IDMerged\"])"
   ]
  },
  {
   "cell_type": "code",
   "execution_count": null,
   "id": "4b7c6f50",
   "metadata": {},
   "outputs": [],
   "source": [
    "eventsSFnum['actEndType'] = np.where(eventsSFnum['type']=='actend'\n",
    "                     , eventsSFnum['actType'], \"\")"
   ]
  },
  {
   "cell_type": "code",
   "execution_count": null,
   "id": "0c88da33",
   "metadata": {},
   "outputs": [],
   "source": [
    "eventsSFnum['actStartType'] = np.where(eventsSFnum['type']=='actstart'\n",
    "                     , eventsSFnum['actType'], \"\")"
   ]
  },
  {
   "cell_type": "code",
   "execution_count": null,
   "id": "1135494c",
   "metadata": {},
   "outputs": [],
   "source": []
  },
  {
   "cell_type": "code",
   "execution_count": null,
   "id": "2743b39b",
   "metadata": {},
   "outputs": [],
   "source": [
    "#SF_chunk = eventsSFnum[0:500]\n",
    "#SF_chunk.to_csv('C:/Shared-Work/Data/CleanData/SF_chunk.csv', index = False)"
   ]
  },
  {
   "cell_type": "code",
   "execution_count": null,
   "id": "31cf0d6b",
   "metadata": {},
   "outputs": [],
   "source": [
    "eventsSFtrips = pd.pivot_table(\n",
    "   eventsSFnum,\n",
    "   index=['IDMerged','tripIndex','currentTourModeFillna'],\n",
    "   aggfunc={'actStartTime': np.sum, 'actEndTime': np.sum, 'PTduration': np.sum, 'primaryFuel': np.sum, \n",
    "            'netCost': np.sum, 'actStartType': np.sum, 'actEndType': np.sum, 'duration_walking': np.sum,\n",
    "            'duration_in_privateCar': np.sum, 'duration_on_bike': np.sum, 'duration_in_ridehail': np.sum, \n",
    "           'duration_in_public': np.sum}).reset_index()"
   ]
  },
  {
   "cell_type": "code",
   "execution_count": null,
   "id": "be176931",
   "metadata": {},
   "outputs": [],
   "source": [
    "eventsSFtrips['DDtime'] = eventsSFtrips['actStartTime'] - eventsSFtrips['actEndTime'] "
   ]
  },
  {
   "cell_type": "code",
   "execution_count": null,
   "id": "3bbdedc2",
   "metadata": {},
   "outputs": [],
   "source": [
    "eventsSFtrips['waitTime'] = eventsSFtrips['DDtime'] - eventsSFtrips['PTduration'] "
   ]
  },
  {
   "cell_type": "code",
   "execution_count": null,
   "id": "255630d7",
   "metadata": {},
   "outputs": [],
   "source": [
    "######?????\n",
    "eventsSFtrips['duration_wait'] = eventsSFtrips['DDtime'] - eventsSFtrips['PTduration'] \n",
    "######?????"
   ]
  },
  {
   "cell_type": "code",
   "execution_count": null,
   "id": "d56ee48f",
   "metadata": {},
   "outputs": [],
   "source": [
    "eventsSFtrips['actPurpose'] = eventsSFtrips['actEndType'] + \"_to_\" + eventsSFtrips['actStartType']"
   ]
  },
  {
   "cell_type": "code",
   "execution_count": null,
   "id": "d00178a0",
   "metadata": {},
   "outputs": [],
   "source": [
    "eventsSFtrips = eventsSFtrips.rename(columns={'currentTourModeFillna': 'currentTourMode'})"
   ]
  },
  {
   "cell_type": "code",
   "execution_count": null,
   "id": "bbe9e1a3",
   "metadata": {},
   "outputs": [],
   "source": [
    "eventsSFtrips.head(1000)"
   ]
  },
  {
   "cell_type": "code",
   "execution_count": null,
   "id": "f4d01989",
   "metadata": {},
   "outputs": [],
   "source": []
  },
  {
   "cell_type": "code",
   "execution_count": null,
   "id": "37599788",
   "metadata": {},
   "outputs": [],
   "source": []
  },
  {
   "cell_type": "code",
   "execution_count": null,
   "id": "2b2a0ea8",
   "metadata": {},
   "outputs": [],
   "source": [
    "temp = eventsSFtrips[eventsSFtrips['duration_walking'] > 10000]"
   ]
  },
  {
   "cell_type": "code",
   "execution_count": null,
   "id": "d4f7a733",
   "metadata": {},
   "outputs": [],
   "source": [
    "temp.shape"
   ]
  },
  {
   "cell_type": "code",
   "execution_count": null,
   "id": "fa226bd6",
   "metadata": {},
   "outputs": [],
   "source": [
    "eventsSFtrips_chunk = eventsSFtrips[0:1000]\n",
    "eventsSFtrips_chunk.to_csv('C:/Shared-Work/Data/CleanData/eventsSFtrips_chunk.csv', index = False)"
   ]
  },
  {
   "cell_type": "code",
   "execution_count": null,
   "id": "bb225f76",
   "metadata": {},
   "outputs": [],
   "source": []
  },
  {
   "cell_type": "code",
   "execution_count": null,
   "id": "af388693",
   "metadata": {},
   "outputs": [],
   "source": [
    "eventsSFtrips[eventsSFtrips['currentTourMode'] == \"bike_transit\"]"
   ]
  },
  {
   "cell_type": "code",
   "execution_count": null,
   "id": "9b60f3ff",
   "metadata": {},
   "outputs": [],
   "source": [
    "s8 = eventsSFnum[eventsSFnum['IDMerged']==8]"
   ]
  },
  {
   "cell_type": "code",
   "execution_count": null,
   "id": "90f04d46",
   "metadata": {},
   "outputs": [],
   "source": [
    "#sfcomplex.to_csv('C:/Shared-Work/Data/CleanData/sfcomplex.csv', index = False)"
   ]
  },
  {
   "cell_type": "code",
   "execution_count": null,
   "id": "d80ed5a7",
   "metadata": {},
   "outputs": [],
   "source": [
    "sfcomplex = eventsSFnum[eventsSFnum['IDMerged']==1840884]"
   ]
  },
  {
   "cell_type": "code",
   "execution_count": null,
   "id": "2d9be470",
   "metadata": {},
   "outputs": [],
   "source": []
  }
 ],
 "metadata": {
  "kernelspec": {
   "display_name": "Python 3 (ipykernel)",
   "language": "python",
   "name": "python3"
  },
  "language_info": {
   "codemirror_mode": {
    "name": "ipython",
    "version": 3
   },
   "file_extension": ".py",
   "mimetype": "text/x-python",
   "name": "python",
   "nbconvert_exporter": "python",
   "pygments_lexer": "ipython3",
   "version": "3.9.7"
  }
 },
 "nbformat": 4,
 "nbformat_minor": 5
}
