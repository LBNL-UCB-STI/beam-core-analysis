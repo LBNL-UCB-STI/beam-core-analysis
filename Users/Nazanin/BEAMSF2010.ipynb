{
 "cells": [
  {
   "cell_type": "code",
   "execution_count": 1,
   "id": "5b9014b8",
   "metadata": {},
   "outputs": [],
   "source": [
    "import pandas as pd\n",
    "import numpy as np\n",
    "from dask import dataframe as dd"
   ]
  },
  {
   "cell_type": "code",
   "execution_count": 2,
   "id": "fcc76ff6",
   "metadata": {},
   "outputs": [],
   "source": [
    "#File location S3\n",
    "loc = \"https://beam-outputs.s3.amazonaws.com/pilates-outputs/sfbay-2010-base-20200206/beam/sfbay-pilates-base__2022-02-06_07-26-58_kwy/ITERS/it.0/\"\n",
    "locSF_rh = \"https://beam-outputs.s3.amazonaws.com/pilates-outputs/sfbay-2010-lessrh-20220223/beam/year-2010-iteration-2/ITERS/it.0/\""
   ]
  },
  {
   "cell_type": "code",
   "execution_count": 3,
   "id": "46ea8f0f",
   "metadata": {},
   "outputs": [
    {
     "name": "stderr",
     "output_type": "stream",
     "text": [
      "C:\\Users\\nazanin\\.conda\\envs\\geo_env\\lib\\site-packages\\IPython\\core\\magics\\execution.py:1324: DtypeWarning: Columns (1,2,3,21,23,24,30,31,37,52) have mixed types.Specify dtype option on import or set low_memory=False.\n",
      "  exec(code, glob, local_ns)\n"
     ]
    },
    {
     "name": "stdout",
     "output_type": "stream",
     "text": [
      "Wall time: 2min 54s\n"
     ]
    }
   ],
   "source": [
    "%%time\n",
    "#Reading the events file\n",
    "dtypes = {\n",
    "    \"time\": \"float32\",\n",
    "    \"type\": \"category\",\n",
    "    \"legMode\": \"category\",\n",
    "    \"actType\": \"category\", \n",
    "    \"reason\": \"category\",\n",
    "    \"primaryFuelLevel\": \"float64\",\n",
    "    \"legMode\": \"category\",\n",
    "    \"chargingPointType\":\"category\",\n",
    "    \"pricingModel\":\"category\",\n",
    "    \"parkingType\":\"category\",\n",
    "    \"mode\":\"category\",\n",
    "    \"personalVehicleAvailable\": \"category\",\n",
    "    \"person\": \"object\",\n",
    "    \"driver\": \"object\",\n",
    "    \"riders\": \"object\"\n",
    "}\n",
    "\n",
    "# Use list comprehension to remove the unwanted column in **usecol**\n",
    "eventsSF = pd.read_csv(locSF_rh + '0.events.csv.gz', compression = 'gzip', dtype = dtypes)"
   ]
  },
  {
   "cell_type": "code",
   "execution_count": 4,
   "id": "4a1d53b5",
   "metadata": {},
   "outputs": [],
   "source": [
    "#Show all columns and rows\n",
    "pd.options.display.max_columns = None\n",
    "pd.options.display.max_rows = None"
   ]
  },
  {
   "cell_type": "code",
   "execution_count": 5,
   "id": "57519b69",
   "metadata": {},
   "outputs": [],
   "source": [
    "#Rename mode column\n",
    "eventsSF.rename(columns={\"mode\":\"modeType\"}, inplace=True)  "
   ]
  },
  {
   "cell_type": "code",
   "execution_count": 6,
   "id": "4030a93a",
   "metadata": {},
   "outputs": [],
   "source": [
    "#Replace \"Work\" with \"work\" in actType column\n",
    "eventsSF[\"actType\"].replace({\"Work\": \"work\"}, inplace=True)"
   ]
  },
  {
   "cell_type": "code",
   "execution_count": 7,
   "id": "4730d705",
   "metadata": {},
   "outputs": [],
   "source": [
    "#Adding the IDMerged Column\n",
    "eventsSF['UniqueID'] = eventsSF['person']\n",
    "eventsSF['personID'] = np.where(eventsSF['person'].isin(eventsSF['driver'])\n",
    "                     , eventsSF['person'], np.nan)\n",
    "eventsSF['driverID'] = np.where(eventsSF['driver'].isin(eventsSF['person'])\n",
    "                     , eventsSF['driver'], np.nan)"
   ]
  },
  {
   "cell_type": "code",
   "execution_count": 8,
   "id": "07aa5e1c",
   "metadata": {},
   "outputs": [],
   "source": [
    "#Merging person and driver ids in one column\n",
    "eventsSF['IDMerged'] = eventsSF['personID'].combine_first(eventsSF['driverID'])\n",
    "eventsSF['IDMerged'] = eventsSF['UniqueID'].combine_first(eventsSF['IDMerged'])"
   ]
  },
  {
   "cell_type": "code",
   "execution_count": 9,
   "id": "5a51f4a4",
   "metadata": {},
   "outputs": [],
   "source": [
    "#Dropping unused columns\n",
    "eventsSF = eventsSF.drop(['personID','driverID','UniqueID'], axis=1) "
   ]
  },
  {
   "cell_type": "code",
   "execution_count": 10,
   "id": "f85de85e",
   "metadata": {},
   "outputs": [
    {
     "name": "stdout",
     "output_type": "stream",
     "text": [
      "Wall time: 5min 42s\n"
     ]
    }
   ],
   "source": [
    "%%time\n",
    "#Split the riders column\n",
    "dfRiders = eventsSF['riders'].str.split(':',expand=True)"
   ]
  },
  {
   "cell_type": "code",
   "execution_count": 11,
   "id": "24bd7cf5",
   "metadata": {},
   "outputs": [],
   "source": [
    "riderStartIndex = len(eventsSF.columns)"
   ]
  },
  {
   "cell_type": "code",
   "execution_count": 12,
   "id": "890d76ab",
   "metadata": {},
   "outputs": [],
   "source": [
    "#Concat the new riders columns to the main dataframe\n",
    "eventsSF = pd.concat([eventsSF, dfRiders.reindex(eventsSF.index)], axis=1)"
   ]
  },
  {
   "cell_type": "code",
   "execution_count": 13,
   "id": "844aa8b2",
   "metadata": {},
   "outputs": [
    {
     "name": "stdout",
     "output_type": "stream",
     "text": [
      "Wall time: 5min 55s\n"
     ]
    }
   ],
   "source": [
    "%%time\n",
    "# Making a riderID column and merge it with the already merged id column \n",
    "NaN = np.nan\n",
    "eventsSF['ID'] = NaN \n",
    "    \n",
    "for col in eventsSF.columns[riderStartIndex:-2]:\n",
    "    eventsSF['riderID'] = np.where(eventsSF[col].isin(eventsSF[\"IDMerged\"]), eventsSF[col], np.nan)\n",
    "    eventsSF['ID'] = eventsSF['ID'].combine_first(eventsSF['riderID'])"
   ]
  },
  {
   "cell_type": "code",
   "execution_count": 14,
   "id": "a9c9ab2e",
   "metadata": {},
   "outputs": [],
   "source": [
    "eventsSF['IDMerged'] = eventsSF['IDMerged'].combine_first(eventsSF['ID'])"
   ]
  },
  {
   "cell_type": "code",
   "execution_count": 15,
   "id": "0f93c430",
   "metadata": {},
   "outputs": [],
   "source": [
    "#dropping unused riders columns\n",
    "eventsSF = eventsSF.drop(columns=eventsSF.columns[riderStartIndex:])"
   ]
  },
  {
   "cell_type": "code",
   "execution_count": 16,
   "id": "52d2929f",
   "metadata": {},
   "outputs": [],
   "source": [
    "# shift column 'Name' to first position\n",
    "first_column = eventsSF.pop('IDMerged')\n",
    "# insert column using insert(position,column_name,first_column) function\n",
    "eventsSF.insert(0, 'IDMerged', first_column)"
   ]
  },
  {
   "cell_type": "code",
   "execution_count": 17,
   "id": "af448889",
   "metadata": {},
   "outputs": [
    {
     "data": {
      "text/plain": [
       "(4690, 58)"
      ]
     },
     "execution_count": 17,
     "metadata": {},
     "output_type": "execute_result"
    }
   ],
   "source": [
    "IDnan = eventsSF[eventsSF['IDMerged'].isna()]\n",
    "IDnan.shape"
   ]
  },
  {
   "cell_type": "code",
   "execution_count": 115,
   "id": "7f95d458",
   "metadata": {},
   "outputs": [
    {
     "name": "stdout",
     "output_type": "stream",
     "text": [
      "Wall time: 2min 30s\n"
     ]
    }
   ],
   "source": [
    "%%time\n",
    "#To select just the numeric MergedID\n",
    "#eventsSF.loc[eventsSF.IDMerged.str.isnumeric()]\n",
    "eventsSFnum = eventsSF[pd.to_numeric(eventsSF.IDMerged, errors='coerce').notnull()].sort_values(['IDMerged','time']).reset_index(drop=True)"
   ]
  },
  {
   "cell_type": "code",
   "execution_count": 246,
   "id": "9f556aac",
   "metadata": {},
   "outputs": [],
   "source": [
    "eventsSFnum['actEndTime'] = np.where(eventsSFnum['type']=='actend'\n",
    "                     , eventsSFnum['time'], np.nan)"
   ]
  },
  {
   "cell_type": "code",
   "execution_count": 245,
   "id": "9549f102",
   "metadata": {},
   "outputs": [],
   "source": [
    "eventsSFnum['actStartTime'] = np.where(eventsSFnum['type']=='actstart'\n",
    "                     , eventsSFnum['time'], np.nan)    "
   ]
  },
  {
   "cell_type": "code",
   "execution_count": 118,
   "id": "b3ac7d56",
   "metadata": {},
   "outputs": [],
   "source": [
    "eventsSFnum['PTduration'] = np.where(eventsSFnum['type']=='PathTraversal'\n",
    "                     , eventsSFnum['arrivalTime'] - eventsSFnum['departureTime'], np.nan)"
   ]
  },
  {
   "cell_type": "code",
   "execution_count": 228,
   "id": "1ec952df",
   "metadata": {},
   "outputs": [],
   "source": [
    "eventsSFnum['duration_walking'] = np.where(eventsSFnum['modeType']=='walk'\n",
    "                     , eventsSFnum['PTduration'], np.nan)"
   ]
  },
  {
   "cell_type": "code",
   "execution_count": 229,
   "id": "0c602726",
   "metadata": {},
   "outputs": [],
   "source": [
    "eventsSFnum['duration_in_privateCar'] = np.where((eventsSFnum['modeType']=='car')|(eventsSFnum['modeType']=='car_hov3')|(eventsSFnum['modeType']=='car_hov2')|\n",
    "                                              (eventsSFnum['modeType']=='hov2_teleportation')|(eventsSFnum['modeType']=='hov3_teleportation')\n",
    "                                                 , eventsSFnum['PTduration'], np.nan)"
   ]
  },
  {
   "cell_type": "code",
   "execution_count": 230,
   "id": "3db2d306",
   "metadata": {},
   "outputs": [],
   "source": [
    "eventsSFnum['duration_on_bike'] = np.where(eventsSFnum['modeType']=='bike', eventsSFnum['PTduration'], np.nan)"
   ]
  },
  {
   "cell_type": "code",
   "execution_count": 231,
   "id": "cf693532",
   "metadata": {},
   "outputs": [],
   "source": [
    "eventsSFnum['duration_in_ridehail'] = np.where((eventsSFnum['modeType']=='ride_hail')|(eventsSFnum['modeType']=='ride_hail_pooled'), eventsSFnum['PTduration'], np.nan)"
   ]
  },
  {
   "cell_type": "code",
   "execution_count": 232,
   "id": "908ad91b",
   "metadata": {},
   "outputs": [],
   "source": [
    "eventsSFnum['duration_in_public'] = np.where((eventsSFnum['modeType']=='bike_transit')|(eventsSFnum['modeType']=='drive_transit')|(eventsSFnum['modeType']=='walk_transit'), eventsSFnum['PTduration'], np.nan)"
   ]
  },
  {
   "cell_type": "code",
   "execution_count": 233,
   "id": "49c442d0",
   "metadata": {},
   "outputs": [
    {
     "name": "stdout",
     "output_type": "stream",
     "text": [
      "['car', nan, 'walk', 'car_hov2', 'ride_hail', 'hov3_teleportation', 'walk_transit', 'car_hov3', 'hov2_teleportation', 'bike', 'drive_transit', 'bike_transit', 'ride_hail_pooled']\n"
     ]
    }
   ],
   "source": [
    "print(eventsSFnum.modeType.unique().tolist())"
   ]
  },
  {
   "cell_type": "code",
   "execution_count": 192,
   "id": "fa00ebb1",
   "metadata": {},
   "outputs": [],
   "source": [
    "eventsSFnum[\"tripIndex\"] = eventsSFnum.groupby(\"IDMerged\")[\"tourIndex\"].rank(method=\"first\", ascending=True)\n",
    "eventsSFnum[\"tripIndex\"] = eventsSFnum.tripIndex.fillna(method='ffill')"
   ]
  },
  {
   "cell_type": "code",
   "execution_count": 193,
   "id": "a4780e9f",
   "metadata": {},
   "outputs": [],
   "source": [
    "eventsSFnum[\"currentTourModeFillna\"] = eventsSFnum.currentTourMode.fillna(method='ffill')#.astype('object')"
   ]
  },
  {
   "cell_type": "code",
   "execution_count": 194,
   "id": "685f3684",
   "metadata": {},
   "outputs": [],
   "source": [
    "#Change column type to numeric to be able to sort_values\n",
    "eventsSFnum[\"IDMerged\"] = pd.to_numeric(eventsSFnum[\"IDMerged\"])"
   ]
  },
  {
   "cell_type": "code",
   "execution_count": 160,
   "id": "4b7c6f50",
   "metadata": {},
   "outputs": [],
   "source": [
    "eventsSFnum['actEndType'] = np.where(eventsSFnum['type']=='actend'\n",
    "                     , eventsSFnum['actType'], \"\")"
   ]
  },
  {
   "cell_type": "code",
   "execution_count": 161,
   "id": "0c88da33",
   "metadata": {},
   "outputs": [],
   "source": [
    "eventsSFnum['actStartType'] = np.where(eventsSFnum['type']=='actstart'\n",
    "                     , eventsSFnum['actType'], \"\")"
   ]
  },
  {
   "cell_type": "code",
   "execution_count": 162,
   "id": "31f015b9",
   "metadata": {},
   "outputs": [],
   "source": [
    "eventsSFnum[\"currentTourModeFillna\"] = eventsSFnum.currentTourMode.fillna(method='ffill')#.astype('object')"
   ]
  },
  {
   "cell_type": "code",
   "execution_count": null,
   "id": "1135494c",
   "metadata": {},
   "outputs": [],
   "source": []
  },
  {
   "cell_type": "code",
   "execution_count": 110,
   "id": "2743b39b",
   "metadata": {},
   "outputs": [],
   "source": [
    "#SF_chunk = eventsSFnum[0:500]\n",
    "#SF_chunk.to_csv('C:/Shared-Work/Data/CleanData/SF_chunk.csv', index = False)"
   ]
  },
  {
   "cell_type": "code",
   "execution_count": 247,
   "id": "31cf0d6b",
   "metadata": {},
   "outputs": [],
   "source": [
    "eventsSFtrips = pd.pivot_table(\n",
    "   eventsSFnum,\n",
    "   index=['IDMerged','tripIndex','currentTourModeFillna'],\n",
    "   aggfunc={'actStartTime': np.sum, 'actEndTime': np.sum, 'PTduration': np.sum, 'primaryFuel': np.sum, \n",
    "            'netCost': np.sum, 'actStartType': np.sum, 'actEndType': np.sum, 'duration_walking': np.sum,\n",
    "            'duration_in_privateCar': np.sum, 'duration_on_bike': np.sum, 'duration_in_ridehail': np.sum, \n",
    "           'duration_in_public': np.sum}).reset_index()"
   ]
  },
  {
   "cell_type": "code",
   "execution_count": 248,
   "id": "be176931",
   "metadata": {},
   "outputs": [],
   "source": [
    "eventsSFtrips['DDtime'] = eventsSFtrips['actStartTime'] - eventsSFtrips['actEndTime'] "
   ]
  },
  {
   "cell_type": "code",
   "execution_count": null,
   "id": "255630d7",
   "metadata": {},
   "outputs": [],
   "source": [
    "######?????\n",
    "#eventsSFtrips['duration_wait'] = eventsSFtrips['DDtime'] - eventsSFtrips['PTduration'] \n",
    "######?????"
   ]
  },
  {
   "cell_type": "code",
   "execution_count": 249,
   "id": "d56ee48f",
   "metadata": {},
   "outputs": [],
   "source": [
    "eventsSFtrips['actPurpose'] = eventsSFtrips['actEndType'] + \"_to_\" + eventsSFtrips['actStartType']"
   ]
  },
  {
   "cell_type": "code",
   "execution_count": 250,
   "id": "d00178a0",
   "metadata": {},
   "outputs": [],
   "source": [
    "eventsSFtrips = eventsSFtrips.rename(columns={'currentTourModeFillna': 'currentTourMode'})"
   ]
  },
  {
   "cell_type": "code",
   "execution_count": 251,
   "id": "bbe9e1a3",
   "metadata": {},
   "outputs": [
    {
     "data": {
      "text/html": [
       "<div>\n",
       "<style scoped>\n",
       "    .dataframe tbody tr th:only-of-type {\n",
       "        vertical-align: middle;\n",
       "    }\n",
       "\n",
       "    .dataframe tbody tr th {\n",
       "        vertical-align: top;\n",
       "    }\n",
       "\n",
       "    .dataframe thead th {\n",
       "        text-align: right;\n",
       "    }\n",
       "</style>\n",
       "<table border=\"1\" class=\"dataframe\">\n",
       "  <thead>\n",
       "    <tr style=\"text-align: right;\">\n",
       "      <th></th>\n",
       "      <th>IDMerged</th>\n",
       "      <th>tripIndex</th>\n",
       "      <th>currentTourMode</th>\n",
       "      <th>PTduration</th>\n",
       "      <th>actEndTime</th>\n",
       "      <th>actEndType</th>\n",
       "      <th>actStartTime</th>\n",
       "      <th>actStartType</th>\n",
       "      <th>duration_in_privateCar</th>\n",
       "      <th>duration_in_public</th>\n",
       "      <th>duration_in_ridehail</th>\n",
       "      <th>duration_on_bike</th>\n",
       "      <th>duration_walking</th>\n",
       "      <th>netCost</th>\n",
       "      <th>primaryFuel</th>\n",
       "      <th>DDtime</th>\n",
       "      <th>actPurpose</th>\n",
       "    </tr>\n",
       "  </thead>\n",
       "  <tbody>\n",
       "    <tr>\n",
       "      <th>0</th>\n",
       "      <td>4</td>\n",
       "      <td>1.0</td>\n",
       "      <td>car</td>\n",
       "      <td>486.0</td>\n",
       "      <td>54694.0</td>\n",
       "      <td>Home</td>\n",
       "      <td>55180.0</td>\n",
       "      <td>othdiscr</td>\n",
       "      <td>486.0</td>\n",
       "      <td>0.0</td>\n",
       "      <td>0.0</td>\n",
       "      <td>0.0</td>\n",
       "      <td>0.0</td>\n",
       "      <td>1.258902</td>\n",
       "      <td>1.741078e+07</td>\n",
       "      <td>486.0</td>\n",
       "      <td>Home_to_othdiscr</td>\n",
       "    </tr>\n",
       "    <tr>\n",
       "      <th>1</th>\n",
       "      <td>4</td>\n",
       "      <td>2.0</td>\n",
       "      <td>car</td>\n",
       "      <td>640.0</td>\n",
       "      <td>60062.0</td>\n",
       "      <td>othdiscr</td>\n",
       "      <td>60702.0</td>\n",
       "      <td>Home</td>\n",
       "      <td>508.0</td>\n",
       "      <td>0.0</td>\n",
       "      <td>0.0</td>\n",
       "      <td>0.0</td>\n",
       "      <td>132.0</td>\n",
       "      <td>1.292657</td>\n",
       "      <td>1.783741e+07</td>\n",
       "      <td>640.0</td>\n",
       "      <td>othdiscr_to_Home</td>\n",
       "    </tr>\n",
       "    <tr>\n",
       "      <th>2</th>\n",
       "      <td>8</td>\n",
       "      <td>1.0</td>\n",
       "      <td>car</td>\n",
       "      <td>11479.0</td>\n",
       "      <td>60454.0</td>\n",
       "      <td>Home</td>\n",
       "      <td>71933.0</td>\n",
       "      <td>shopping</td>\n",
       "      <td>0.0</td>\n",
       "      <td>0.0</td>\n",
       "      <td>0.0</td>\n",
       "      <td>0.0</td>\n",
       "      <td>11479.0</td>\n",
       "      <td>0.000000</td>\n",
       "      <td>0.000000e+00</td>\n",
       "      <td>11479.0</td>\n",
       "      <td>Home_to_shopping</td>\n",
       "    </tr>\n",
       "    <tr>\n",
       "      <th>3</th>\n",
       "      <td>8</td>\n",
       "      <td>2.0</td>\n",
       "      <td>car</td>\n",
       "      <td>11848.0</td>\n",
       "      <td>71933.0</td>\n",
       "      <td>shopping</td>\n",
       "      <td>83781.0</td>\n",
       "      <td>Home</td>\n",
       "      <td>31.0</td>\n",
       "      <td>0.0</td>\n",
       "      <td>0.0</td>\n",
       "      <td>0.0</td>\n",
       "      <td>11817.0</td>\n",
       "      <td>0.052631</td>\n",
       "      <td>6.498952e+05</td>\n",
       "      <td>11848.0</td>\n",
       "      <td>shopping_to_Home</td>\n",
       "    </tr>\n",
       "    <tr>\n",
       "      <th>4</th>\n",
       "      <td>66</td>\n",
       "      <td>1.0</td>\n",
       "      <td>car</td>\n",
       "      <td>505.0</td>\n",
       "      <td>64965.0</td>\n",
       "      <td>Home</td>\n",
       "      <td>65470.0</td>\n",
       "      <td>shopping</td>\n",
       "      <td>505.0</td>\n",
       "      <td>0.0</td>\n",
       "      <td>0.0</td>\n",
       "      <td>0.0</td>\n",
       "      <td>0.0</td>\n",
       "      <td>1.210568</td>\n",
       "      <td>1.785462e+07</td>\n",
       "      <td>505.0</td>\n",
       "      <td>Home_to_shopping</td>\n",
       "    </tr>\n",
       "    <tr>\n",
       "      <th>5</th>\n",
       "      <td>66</td>\n",
       "      <td>2.0</td>\n",
       "      <td>car</td>\n",
       "      <td>535.0</td>\n",
       "      <td>65901.0</td>\n",
       "      <td>shopping</td>\n",
       "      <td>66436.0</td>\n",
       "      <td>eatout</td>\n",
       "      <td>531.0</td>\n",
       "      <td>0.0</td>\n",
       "      <td>0.0</td>\n",
       "      <td>0.0</td>\n",
       "      <td>4.0</td>\n",
       "      <td>1.213589</td>\n",
       "      <td>1.863277e+07</td>\n",
       "      <td>535.0</td>\n",
       "      <td>shopping_to_eatout</td>\n",
       "    </tr>\n",
       "    <tr>\n",
       "      <th>6</th>\n",
       "      <td>66</td>\n",
       "      <td>3.0</td>\n",
       "      <td>car</td>\n",
       "      <td>709.0</td>\n",
       "      <td>67863.0</td>\n",
       "      <td>eatout</td>\n",
       "      <td>68572.0</td>\n",
       "      <td>shopping</td>\n",
       "      <td>531.0</td>\n",
       "      <td>0.0</td>\n",
       "      <td>0.0</td>\n",
       "      <td>0.0</td>\n",
       "      <td>178.0</td>\n",
       "      <td>1.358076</td>\n",
       "      <td>1.856560e+07</td>\n",
       "      <td>709.0</td>\n",
       "      <td>eatout_to_shopping</td>\n",
       "    </tr>\n",
       "    <tr>\n",
       "      <th>7</th>\n",
       "      <td>66</td>\n",
       "      <td>4.0</td>\n",
       "      <td>car</td>\n",
       "      <td>219.0</td>\n",
       "      <td>68572.0</td>\n",
       "      <td>shopping</td>\n",
       "      <td>68791.0</td>\n",
       "      <td>Home</td>\n",
       "      <td>219.0</td>\n",
       "      <td>0.0</td>\n",
       "      <td>0.0</td>\n",
       "      <td>0.0</td>\n",
       "      <td>0.0</td>\n",
       "      <td>0.282286</td>\n",
       "      <td>4.517600e+06</td>\n",
       "      <td>219.0</td>\n",
       "      <td>shopping_to_Home</td>\n",
       "    </tr>\n",
       "    <tr>\n",
       "      <th>8</th>\n",
       "      <td>113</td>\n",
       "      <td>1.0</td>\n",
       "      <td>walk_transit</td>\n",
       "      <td>85.0</td>\n",
       "      <td>23842.0</td>\n",
       "      <td>Home</td>\n",
       "      <td>27300.0</td>\n",
       "      <td>work</td>\n",
       "      <td>0.0</td>\n",
       "      <td>0.0</td>\n",
       "      <td>0.0</td>\n",
       "      <td>0.0</td>\n",
       "      <td>85.0</td>\n",
       "      <td>0.000000</td>\n",
       "      <td>5.850882e+03</td>\n",
       "      <td>3458.0</td>\n",
       "      <td>Home_to_work</td>\n",
       "    </tr>\n",
       "    <tr>\n",
       "      <th>9</th>\n",
       "      <td>113</td>\n",
       "      <td>2.0</td>\n",
       "      <td>walk_transit</td>\n",
       "      <td>39.0</td>\n",
       "      <td>59050.0</td>\n",
       "      <td>work</td>\n",
       "      <td>60559.0</td>\n",
       "      <td>Home</td>\n",
       "      <td>0.0</td>\n",
       "      <td>0.0</td>\n",
       "      <td>0.0</td>\n",
       "      <td>0.0</td>\n",
       "      <td>39.0</td>\n",
       "      <td>0.000000</td>\n",
       "      <td>2.708247e+03</td>\n",
       "      <td>1509.0</td>\n",
       "      <td>work_to_Home</td>\n",
       "    </tr>\n",
       "  </tbody>\n",
       "</table>\n",
       "</div>"
      ],
      "text/plain": [
       "   IDMerged  tripIndex currentTourMode  PTduration  actEndTime actEndType  \\\n",
       "0         4        1.0             car       486.0     54694.0       Home   \n",
       "1         4        2.0             car       640.0     60062.0   othdiscr   \n",
       "2         8        1.0             car     11479.0     60454.0       Home   \n",
       "3         8        2.0             car     11848.0     71933.0   shopping   \n",
       "4        66        1.0             car       505.0     64965.0       Home   \n",
       "5        66        2.0             car       535.0     65901.0   shopping   \n",
       "6        66        3.0             car       709.0     67863.0     eatout   \n",
       "7        66        4.0             car       219.0     68572.0   shopping   \n",
       "8       113        1.0    walk_transit        85.0     23842.0       Home   \n",
       "9       113        2.0    walk_transit        39.0     59050.0       work   \n",
       "\n",
       "   actStartTime actStartType  duration_in_privateCar  duration_in_public  \\\n",
       "0       55180.0     othdiscr                   486.0                 0.0   \n",
       "1       60702.0         Home                   508.0                 0.0   \n",
       "2       71933.0     shopping                     0.0                 0.0   \n",
       "3       83781.0         Home                    31.0                 0.0   \n",
       "4       65470.0     shopping                   505.0                 0.0   \n",
       "5       66436.0       eatout                   531.0                 0.0   \n",
       "6       68572.0     shopping                   531.0                 0.0   \n",
       "7       68791.0         Home                   219.0                 0.0   \n",
       "8       27300.0         work                     0.0                 0.0   \n",
       "9       60559.0         Home                     0.0                 0.0   \n",
       "\n",
       "   duration_in_ridehail  duration_on_bike  duration_walking   netCost  \\\n",
       "0                   0.0               0.0               0.0  1.258902   \n",
       "1                   0.0               0.0             132.0  1.292657   \n",
       "2                   0.0               0.0           11479.0  0.000000   \n",
       "3                   0.0               0.0           11817.0  0.052631   \n",
       "4                   0.0               0.0               0.0  1.210568   \n",
       "5                   0.0               0.0               4.0  1.213589   \n",
       "6                   0.0               0.0             178.0  1.358076   \n",
       "7                   0.0               0.0               0.0  0.282286   \n",
       "8                   0.0               0.0              85.0  0.000000   \n",
       "9                   0.0               0.0              39.0  0.000000   \n",
       "\n",
       "    primaryFuel   DDtime          actPurpose  \n",
       "0  1.741078e+07    486.0    Home_to_othdiscr  \n",
       "1  1.783741e+07    640.0    othdiscr_to_Home  \n",
       "2  0.000000e+00  11479.0    Home_to_shopping  \n",
       "3  6.498952e+05  11848.0    shopping_to_Home  \n",
       "4  1.785462e+07    505.0    Home_to_shopping  \n",
       "5  1.863277e+07    535.0  shopping_to_eatout  \n",
       "6  1.856560e+07    709.0  eatout_to_shopping  \n",
       "7  4.517600e+06    219.0    shopping_to_Home  \n",
       "8  5.850882e+03   3458.0        Home_to_work  \n",
       "9  2.708247e+03   1509.0        work_to_Home  "
      ]
     },
     "execution_count": 251,
     "metadata": {},
     "output_type": "execute_result"
    }
   ],
   "source": [
    "eventsSFtrips.head(10)"
   ]
  },
  {
   "cell_type": "code",
   "execution_count": 252,
   "id": "fa226bd6",
   "metadata": {},
   "outputs": [],
   "source": [
    "eventsSFtrips_chunk = eventsSFtrips[0:1000]\n",
    "eventsSFtrips_chunk.to_csv('C:/Shared-Work/Data/CleanData/eventsSFtrips_chunk.csv', index = False)"
   ]
  },
  {
   "cell_type": "code",
   "execution_count": null,
   "id": "bb225f76",
   "metadata": {},
   "outputs": [],
   "source": []
  },
  {
   "cell_type": "code",
   "execution_count": null,
   "id": "af388693",
   "metadata": {},
   "outputs": [],
   "source": [
    "eventsSFtrips[eventsSFtrips['currentTourMode'] == \"bike_transit\"]"
   ]
  },
  {
   "cell_type": "code",
   "execution_count": 145,
   "id": "9b60f3ff",
   "metadata": {},
   "outputs": [],
   "source": [
    "s8 = eventsSFnum[eventsSFnum['IDMerged']==8]"
   ]
  },
  {
   "cell_type": "code",
   "execution_count": 227,
   "id": "90f04d46",
   "metadata": {},
   "outputs": [],
   "source": [
    "sfcomplex.to_csv('C:/Shared-Work/Data/CleanData/sfcomplex.csv', index = False)"
   ]
  },
  {
   "cell_type": "code",
   "execution_count": 226,
   "id": "d80ed5a7",
   "metadata": {},
   "outputs": [],
   "source": [
    "sfcomplex = eventsSFnum[eventsSFnum['IDMerged']==1840884]"
   ]
  },
  {
   "cell_type": "code",
   "execution_count": null,
   "id": "2d9be470",
   "metadata": {},
   "outputs": [],
   "source": []
  }
 ],
 "metadata": {
  "kernelspec": {
   "display_name": "Python 3 (ipykernel)",
   "language": "python",
   "name": "python3"
  },
  "language_info": {
   "codemirror_mode": {
    "name": "ipython",
    "version": 3
   },
   "file_extension": ".py",
   "mimetype": "text/x-python",
   "name": "python",
   "nbconvert_exporter": "python",
   "pygments_lexer": "ipython3",
   "version": "3.9.7"
  }
 },
 "nbformat": 4,
 "nbformat_minor": 5
}
