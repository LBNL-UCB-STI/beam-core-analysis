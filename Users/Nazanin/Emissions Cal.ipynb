{
 "cells": [
  {
   "cell_type": "code",
   "execution_count": 1,
   "id": "69ff9ec9",
   "metadata": {},
   "outputs": [
    {
     "name": "stderr",
     "output_type": "stream",
     "text": [
      "/usr/local/Cellar/jupyterlab/3.2.5/libexec/lib/python3.9/site-packages/IPython/core/interactiveshell.py:3457: DtypeWarning: Columns (0,1,2,4,6,11,21,22,23,24,29,30,31,34,36,38,41,49,51,52) have mixed types.Specify dtype option on import or set low_memory=False.\n",
      "  exec(code_obj, self.user_global_ns, self.user_ns)\n",
      "/usr/local/Cellar/jupyterlab/3.2.5/libexec/lib/python3.9/site-packages/IPython/core/interactiveshell.py:3457: DtypeWarning: Columns (0,4,5,6,10,24,26,27,28,31,33,34,35,36,43,45,47,49,53,54) have mixed types.Specify dtype option on import or set low_memory=False.\n",
      "  exec(code_obj, self.user_global_ns, self.user_ns)\n",
      "/usr/local/Cellar/jupyterlab/3.2.5/libexec/lib/python3.9/site-packages/IPython/core/interactiveshell.py:3457: DtypeWarning: Columns (0,4,5,9,10,24,26,27,28,31,33,34,35,36,43,45,47,49,53,54) have mixed types.Specify dtype option on import or set low_memory=False.\n",
      "  exec(code_obj, self.user_global_ns, self.user_ns)\n",
      "/usr/local/Cellar/jupyterlab/3.2.5/libexec/lib/python3.9/site-packages/IPython/core/interactiveshell.py:3457: DtypeWarning: Columns (0,1,5,6,20,22,23,25,28,29,31,33,35,36,37,38,48,49,50,53) have mixed types.Specify dtype option on import or set low_memory=False.\n",
      "  exec(code_obj, self.user_global_ns, self.user_ns)\n",
      "/usr/local/Cellar/jupyterlab/3.2.5/libexec/lib/python3.9/site-packages/IPython/core/interactiveshell.py:3457: DtypeWarning: Columns (0,4,5,19,21,22,23,24,25,31,33,34,35,36,43,45,47,49,55,56) have mixed types.Specify dtype option on import or set low_memory=False.\n",
      "  exec(code_obj, self.user_global_ns, self.user_ns)\n",
      "/usr/local/Cellar/jupyterlab/3.2.5/libexec/lib/python3.9/site-packages/IPython/core/interactiveshell.py:3457: DtypeWarning: Columns (0,4,9,10,14,24,26,27,28,31,33,34,35,36,43,45,47,49,53,54) have mixed types.Specify dtype option on import or set low_memory=False.\n",
      "  exec(code_obj, self.user_global_ns, self.user_ns)\n",
      "/usr/local/Cellar/jupyterlab/3.2.5/libexec/lib/python3.9/site-packages/IPython/core/interactiveshell.py:3457: DtypeWarning: Columns (0,1,2,6,20,22,23,24,28,29,31,33,35,36,37,38,48,49,50,53) have mixed types.Specify dtype option on import or set low_memory=False.\n",
      "  exec(code_obj, self.user_global_ns, self.user_ns)\n",
      "/usr/local/Cellar/jupyterlab/3.2.5/libexec/lib/python3.9/site-packages/IPython/core/interactiveshell.py:3457: DtypeWarning: Columns (0,1,2,6,20,22,23,25,28,29,31,33,36,37,38,39,48,49,50,53) have mixed types.Specify dtype option on import or set low_memory=False.\n",
      "  exec(code_obj, self.user_global_ns, self.user_ns)\n",
      "/usr/local/Cellar/jupyterlab/3.2.5/libexec/lib/python3.9/site-packages/IPython/core/interactiveshell.py:3457: DtypeWarning: Columns (0,6,7,8,9,15,18,25,26,27,30,34,35,37,39,42,45,53,55,56) have mixed types.Specify dtype option on import or set low_memory=False.\n",
      "  exec(code_obj, self.user_global_ns, self.user_ns)\n",
      "/usr/local/Cellar/jupyterlab/3.2.5/libexec/lib/python3.9/site-packages/IPython/core/interactiveshell.py:3457: DtypeWarning: Columns (0,4,5,19,21,22,23,24,25,31,33,34,35,36,43,45,47,49,53,54) have mixed types.Specify dtype option on import or set low_memory=False.\n",
      "  exec(code_obj, self.user_global_ns, self.user_ns)\n",
      "/usr/local/Cellar/jupyterlab/3.2.5/libexec/lib/python3.9/site-packages/IPython/core/interactiveshell.py:3457: DtypeWarning: Columns (0,4,5,19,21,22,23,24,25,31,33,35,38,39,43,45,47,49,53,54) have mixed types.Specify dtype option on import or set low_memory=False.\n",
      "  exec(code_obj, self.user_global_ns, self.user_ns)\n",
      "/usr/local/Cellar/jupyterlab/3.2.5/libexec/lib/python3.9/site-packages/IPython/core/interactiveshell.py:3457: DtypeWarning: Columns (0,1,5,6,20,22,23,24,28,29,31,33,35,36,37,38,48,49,52,53) have mixed types.Specify dtype option on import or set low_memory=False.\n",
      "  exec(code_obj, self.user_global_ns, self.user_ns)\n",
      "/usr/local/Cellar/jupyterlab/3.2.5/libexec/lib/python3.9/site-packages/IPython/core/interactiveshell.py:3457: DtypeWarning: Columns (3,5,6,7,8,19,21,22,28,29,31,33,35,36,37,38,48,49,50,53) have mixed types.Specify dtype option on import or set low_memory=False.\n",
      "  exec(code_obj, self.user_global_ns, self.user_ns)\n"
     ]
    }
   ],
   "source": [
    "import pandas as pd\n",
    "import numpy as np\n",
    "filenames = {'0.5pop-baseline-adjusted.gz' : '0.5pop-baseline-adjusted.gz',\n",
    "            '0.5pop-gemini-base-2035-activitysim-da-fewer-docks.gz' : '0.5pop-gemini-base-2035-activitysim-da-fewer-docks.gz',\n",
    "            '0.5pop-gemini-base-2035-activitysim-da-more-docks.gz' : '0.5pop-gemini-base-2035-activitysim-da-more-docks.gz',\n",
    "            '0.5pop-gemini-base-2035-activitysim-da-fewer-bikes.gz' : '0.5pop-gemini-base-2035-activitysim-da-fewer-bikes.gz',\n",
    "            '0.5pop-more-bikes.gz' : '0.5pop-more-bikes.gz',\n",
    "            '0.5pop-gemini-base-2035-activitysim-da-no-car400m.gz' : '0.5pop-gemini-base-2035-activitysim-da-no-car400m.gz',\n",
    "            '0.5pop-gemini-base-2035-activitysim-da-no-car1600m..gz' : '0.5pop-gemini-base-2035-activitysim-da-no-car1600m..gz',\n",
    "            '0.5pop-gemini-base-2035-activitysim-da-cheaper-bikes.gz' : '0.5pop-gemini-base-2035-activitysim-da-cheaper-bikes.gz',\n",
    "            '0.5pop-gemini-base-2035-activitysim-da-no-shared-bikes.gz' : '0.5pop-gemini-base-2035-activitysim-da-no-shared-bikes.gz',\n",
    "             '0.5pop-gemini-base-2035-activitysim-da-free-bikes.gz' : '0.5pop-gemini-base-2035-activitysim-da-free-bikes.gz',\n",
    "            '0.5pop-gemini-base-2035-activitysim-da-baseline-twice-bikes.gz' : '0.5pop-gemini-base-2035-activitysim-da-baseline-twice-bikes.gz',\n",
    "            '0.5pop-gemini-base-2035-activitysim-da-nocar400-twice-bikes.gz' : '0.5pop-gemini-base-2035-activitysim-da-nocar400-twice-bikes.gz',\n",
    "            '0.5pop-gemini-base-2035-activitysim-da-no-car1600-twice-bikes.gz' : '0.5pop-gemini-base-2035-activitysim-da-no-car1600-twice-bikes.gz',\n",
    "            }\n",
    "carData = {}\n",
    "for name, f in filenames.items():\n",
    "    filename = f\n",
    "    df = pd.read_csv(filename).dropna(how='all', axis=1)\n",
    "    pathTraversal = df.loc[df.type == 'PathTraversal',:].dropna(how='all', axis=1)\n",
    "    pathTraversal['mode_extended'] = pathTraversal['mode']\n",
    "    pathTraversal['isRH'] = ((pathTraversal['driver'].str.contains('rideHail')== True))\n",
    "    pathTraversal.loc[pathTraversal['isRH'], 'mode_extended'] += '_RH'\n",
    "\n",
    "    pathTraversal.loc[pathTraversal.primaryFuelType == 'Gasoline', 'emission'] = pathTraversal['primaryFuel'] * 8.3141841e-9 * 8.89e-3\n",
    "    pathTraversal.loc[pathTraversal.primaryFuelType == 'Diesel', 'emission'] = pathTraversal['primaryFuel'] * 8.3141841e-9 * 10.180e-3\n",
    "    pathTraversal.loc[pathTraversal.primaryFuelType == 'Biodiesel', 'emission'] = pathTraversal['primaryFuel'] * 8.3141841e-9 * 10.180e-3\n",
    "    pathTraversal.loc[pathTraversal.primaryFuelType == 'Electricity', 'emission'] = pathTraversal['primaryFuel'] * 2.77778e-10 * 947.2 * 0.0005\n",
    "    pathTraversal.loc[pathTraversal.primaryFuelType == 'Food', 'emission'] = pathTraversal['primaryFuel'] * 8.3141841e-9 * 0\n",
    "    \n",
    "    pathTraversal.loc[pathTraversal.secondaryFuelType == 'Gasoline', 'emission'] = pathTraversal['emission'] + pathTraversal['secondaryFuel'] * 8.3141841e-9 * 8.89e-3\n",
    "\n",
    "    byType = pathTraversal.groupby(['mode_extended']).agg({'emission':'sum'})\n",
    "    byType = byType\n",
    "    carData[name] = byType\n",
    "    del df\n",
    "pd.concat(carData).emission.unstack().to_csv('out/emission0.5pop-higher-transit.csv')\n"
   ]
  },
  {
   "cell_type": "code",
   "execution_count": 1,
   "id": "fbd5d8fb",
   "metadata": {},
   "outputs": [
    {
     "name": "stderr",
     "output_type": "stream",
     "text": [
      "/usr/local/Cellar/jupyterlab/3.2.5/libexec/lib/python3.9/site-packages/IPython/core/interactiveshell.py:3457: DtypeWarning: Columns (0,4,8,10,11,12,23,24,25,31,33,34,35,36,43,45,47,49,53,54) have mixed types.Specify dtype option on import or set low_memory=False.\n",
      "  exec(code_obj, self.user_global_ns, self.user_ns)\n",
      "/usr/local/Cellar/jupyterlab/3.2.5/libexec/lib/python3.9/site-packages/IPython/core/interactiveshell.py:3457: DtypeWarning: Columns (0,4,5,19,21,22,23,24,25,31,33,34,35,36,43,45,47,49,53,54) have mixed types.Specify dtype option on import or set low_memory=False.\n",
      "  exec(code_obj, self.user_global_ns, self.user_ns)\n",
      "/usr/local/Cellar/jupyterlab/3.2.5/libexec/lib/python3.9/site-packages/IPython/core/interactiveshell.py:3457: DtypeWarning: Columns (0,1,5,6,19,21,22,24,28,29,31,33,35,36,37,38,48,49,50,53) have mixed types.Specify dtype option on import or set low_memory=False.\n",
      "  exec(code_obj, self.user_global_ns, self.user_ns)\n",
      "/usr/local/Cellar/jupyterlab/3.2.5/libexec/lib/python3.9/site-packages/IPython/core/interactiveshell.py:3457: DtypeWarning: Columns (0,4,5,9,10,24,26,27,28,31,33,34,35,36,43,45,47,49,54,55) have mixed types.Specify dtype option on import or set low_memory=False.\n",
      "  exec(code_obj, self.user_global_ns, self.user_ns)\n",
      "/usr/local/Cellar/jupyterlab/3.2.5/libexec/lib/python3.9/site-packages/IPython/core/interactiveshell.py:3457: DtypeWarning: Columns (0,4,18,20,21,22,23,24,28,31,33,34,35,36,43,45,47,49,53,56) have mixed types.Specify dtype option on import or set low_memory=False.\n",
      "  exec(code_obj, self.user_global_ns, self.user_ns)\n",
      "/usr/local/Cellar/jupyterlab/3.2.5/libexec/lib/python3.9/site-packages/IPython/core/interactiveshell.py:3457: DtypeWarning: Columns (0,1,2,7,8,22,24,25,28,29,31,33,35,36,37,38,48,49,50,53) have mixed types.Specify dtype option on import or set low_memory=False.\n",
      "  exec(code_obj, self.user_global_ns, self.user_ns)\n",
      "/usr/local/Cellar/jupyterlab/3.2.5/libexec/lib/python3.9/site-packages/IPython/core/interactiveshell.py:3457: DtypeWarning: Columns (0,10,12,13,14,15,19,20,28,31,33,34,35,36,43,45,47,49,53,54) have mixed types.Specify dtype option on import or set low_memory=False.\n",
      "  exec(code_obj, self.user_global_ns, self.user_ns)\n",
      "/usr/local/Cellar/jupyterlab/3.2.5/libexec/lib/python3.9/site-packages/IPython/core/interactiveshell.py:3457: DtypeWarning: Columns (0,6,7,8,9,16,18,25,26,27,30,34,35,37,39,42,45,53,55,56) have mixed types.Specify dtype option on import or set low_memory=False.\n",
      "  exec(code_obj, self.user_global_ns, self.user_ns)\n",
      "/usr/local/Cellar/jupyterlab/3.2.5/libexec/lib/python3.9/site-packages/IPython/core/interactiveshell.py:3457: DtypeWarning: Columns (0,5,7,8,9,10,11,15,28,31,33,34,35,36,43,45,47,49,53,54) have mixed types.Specify dtype option on import or set low_memory=False.\n",
      "  exec(code_obj, self.user_global_ns, self.user_ns)\n",
      "/usr/local/Cellar/jupyterlab/3.2.5/libexec/lib/python3.9/site-packages/IPython/core/interactiveshell.py:3457: DtypeWarning: Columns (0,4,5,9,10,24,26,27,28,31,33,34,35,36,43,45,47,49,53,54) have mixed types.Specify dtype option on import or set low_memory=False.\n",
      "  exec(code_obj, self.user_global_ns, self.user_ns)\n",
      "/usr/local/Cellar/jupyterlab/3.2.5/libexec/lib/python3.9/site-packages/IPython/core/interactiveshell.py:3457: DtypeWarning: Columns (0,4,5,19,21,22,23,24,28,31,33,34,35,36,43,45,47,49,53,54) have mixed types.Specify dtype option on import or set low_memory=False.\n",
      "  exec(code_obj, self.user_global_ns, self.user_ns)\n",
      "/usr/local/Cellar/jupyterlab/3.2.5/libexec/lib/python3.9/site-packages/IPython/core/interactiveshell.py:3457: DtypeWarning: Columns (0,1,5,19,21,22,23,25,28,29,31,33,35,36,37,38,48,49,50,53) have mixed types.Specify dtype option on import or set low_memory=False.\n",
      "  exec(code_obj, self.user_global_ns, self.user_ns)\n"
     ]
    }
   ],
   "source": [
    "import pandas as pd\n",
    "import numpy as np\n",
    "filenames = {'baseline2.gz' : 'baseline2.gz',\n",
    "         'fewer-docks2.gz' : 'fewer-docks2.gz',\n",
    "          'more-docks2.gz' : 'more-docks2.gz',\n",
    "          '0.3pop-sfbay-fewer-bikes.gz.gz' : '0.3pop-sfbay-fewer-bikes.gz.gz',\n",
    "            '0.3pop-sfbay-more-bikes.gz' : '0.3pop-sfbay-more-bikes.gz',\n",
    "          '0.3pop-sfbay-no-car-400.gz' : '0.3pop-sfbay-no-car-400.gz',\n",
    "          '0.3pop-sfbay-no-car-1600.csv.gz' : '0.3pop-sfbay-no-car-1600.csv.gz',\n",
    "           'cheaper-bikes2.gz' : 'cheaper-bikes2.gz',\n",
    "           '0.3pop-sfbay-no-shared-bikes.gz' : '0.3pop-sfbay-no-shared-bikes.gz',\n",
    "             '0.3pop-sfbay-free-bikes.csv.gz' : '0.3pop-sfbay-free-bikes.csv.gz',\n",
    "            '0.3pop-sfbay-baseline-twice.gz' : '0.3pop-sfbay-baseline-twice.gz',\n",
    "          '0.3pop-sfbay-baseline-twice-no-car400.gz' : '0.3pop-sfbay-baseline-twice-no-car400.gz',\n",
    "             '0.3pop-sfbay-baseline-twice-no-car1600.gz' : '0.3pop-sfbay-baseline-twice-no-car1600.gz'}\n",
    "carData = {}\n",
    "for name, f in filenames.items():\n",
    "    filename = f\n",
    "    df = pd.read_csv(filename).dropna(how='all', axis=1)\n",
    "    pathTraversal = df.loc[df.type == 'PathTraversal',:].dropna(how='all', axis=1)\n",
    "    pathTraversal['mode_extended'] = pathTraversal['mode']\n",
    "    pathTraversal['isRH'] = ((pathTraversal['driver'].str.contains('rideHail')== True))\n",
    "    pathTraversal.loc[pathTraversal['isRH'], 'mode_extended'] += '_RH'\n",
    "\n",
    "    pathTraversal.loc[pathTraversal.primaryFuelType == 'Gasoline', 'emission'] = pathTraversal['primaryFuel'] * 8.3141841e-9 * 8.89e-3\n",
    "    pathTraversal.loc[pathTraversal.primaryFuelType == 'Diesel', 'emission'] = pathTraversal['primaryFuel'] * 8.3141841e-9 * 10.180e-3\n",
    "    pathTraversal.loc[pathTraversal.primaryFuelType == 'Biod mnmsdxciesel', 'emission'] = pathTraversal['primaryFuel'] * 8.3141841e-9 * 10.180e-3\n",
    "    pathTraversal.loc[pathTraversal.primaryFuelType == 'Electricity', 'emission'] = pathTraversal['primaryFuel'] * 2.77778e-10 * 947.2 * 0.0005\n",
    "    pathTraversal.loc[pathTraversal.primaryFuelType == 'Food', 'emission'] = pathTraversal['primaryFuel'] * 8.3141841e-9 * 0\n",
    "    \n",
    "    pathTraversal.loc[pathTraversal.secondaryFuelType == 'Gasoline', 'emission'] = pathTraversal['emission'] + pathTraversal['secondaryFuel'] * 8.3141841e-9 * 8.89e-3\n",
    "\n",
    "    byType = pathTraversal.groupby(['mode_extended']).agg({'emission':'sum'})\n",
    "    byType = byType\n",
    "    carData[name] = byType\n",
    "    del df\n",
    "pd.concat(carData).emission.unstack().to_csv('out/emission0.3pop-higher-transit.csv')\n"
   ]
  },
  {
   "cell_type": "code",
   "execution_count": null,
   "id": "15cc05b6",
   "metadata": {},
   "outputs": [],
   "source": []
  }
 ],
 "metadata": {
  "kernelspec": {
   "display_name": "Python 3 (ipykernel)",
   "language": "python",
   "name": "python3"
  },
  "language_info": {
   "codemirror_mode": {
    "name": "ipython",
    "version": 3
   },
   "file_extension": ".py",
   "mimetype": "text/x-python",
   "name": "python",
   "nbconvert_exporter": "python",
   "pygments_lexer": "ipython3",
   "version": "3.9.7"
  },
  "toc": {
   "base_numbering": 1,
   "nav_menu": {},
   "number_sections": true,
   "sideBar": true,
   "skip_h1_title": false,
   "title_cell": "Table of Contents",
   "title_sidebar": "Contents",
   "toc_cell": false,
   "toc_position": {},
   "toc_section_display": true,
   "toc_window_display": false
  },
  "varInspector": {
   "cols": {
    "lenName": 16,
    "lenType": 16,
    "lenVar": 40
   },
   "kernels_config": {
    "python": {
     "delete_cmd_postfix": "",
     "delete_cmd_prefix": "del ",
     "library": "var_list.py",
     "varRefreshCmd": "print(var_dic_list())"
    },
    "r": {
     "delete_cmd_postfix": ") ",
     "delete_cmd_prefix": "rm(",
     "library": "var_list.r",
     "varRefreshCmd": "cat(var_dic_list()) "
    }
   },
   "types_to_exclude": [
    "module",
    "function",
    "builtin_function_or_method",
    "instance",
    "_Feature"
   ],
   "window_display": false
  }
 },
 "nbformat": 4,
 "nbformat_minor": 5
}
