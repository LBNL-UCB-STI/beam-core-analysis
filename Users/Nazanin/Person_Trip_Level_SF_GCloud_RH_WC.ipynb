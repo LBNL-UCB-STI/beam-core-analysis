{
 "cells": [
  {
   "cell_type": "code",
   "execution_count": 1,
   "id": "f55cd92c",
   "metadata": {},
   "outputs": [],
   "source": [
    "import os\n",
    "import pandas as pd\n",
    "import numpy as np\n",
    "import geopandas as gpd\n",
    "import h5py\n",
    "import boto.s3\n",
    "import glob\n",
    "import boto3\n",
    "from zipfile import ZipFile\n",
    "import shutil\n",
    "import gcsfs"
   ]
  },
  {
   "cell_type": "code",
   "execution_count": 2,
   "id": "4867d1d3",
   "metadata": {},
   "outputs": [
    {
     "name": "stderr",
     "output_type": "stream",
     "text": [
      "<timed exec>:23: DtypeWarning: Columns (13,19,20,34,47,51,52,56,58) have mixed types. Specify dtype option on import or set low_memory=False.\n"
     ]
    },
    {
     "name": "stdout",
     "output_type": "stream",
     "text": [
      "CPU times: total: 3min 27s\n",
      "Wall time: 4min 51s\n"
     ]
    }
   ],
   "source": [
    "%%time\n",
    "dtypes = {\n",
    "    \"time\": \"float32\",\n",
    "    \"type\": \"category\",\n",
    "    \"legMode\": \"category\",\n",
    "    \"actType\": \"category\", \n",
    "    \"primaryFuelLevel\": \"float64\",\n",
    "    \"legMode\": \"category\",\n",
    "    \"chargingPointType\":\"category\",\n",
    "    \"pricingModel\":\"category\",\n",
    "    \"parkingType\":\"category\",\n",
    "    \"mode\":\"category\",\n",
    "    \"personalVehicleAvailable\": \"category\",\n",
    "    \"person\": \"object\",\n",
    "    \"driver\": \"object\",\n",
    "    \"riders\": \"object\",\n",
    "    'primaryFuelType': \"category\",\n",
    "    'secondaryFuelType': 'category',\n",
    "    'currentTourMode': 'category',\n",
    "    'currentActivity': 'category',\n",
    "    'nextActivity': 'category'    \n",
    "}\n",
    "\n",
    "eventsSF = pd.read_csv('gs://beam-core-outputs/sfbay-2010-accessibility-fleetpct-0.05-wheelchair-0.5-20220917/beam/year-2010-iteration-3/ITERS/it.0/0.events.csv.gz', compression = 'gzip', dtype = dtypes)"
   ]
  },
  {
   "cell_type": "code",
   "execution_count": 3,
   "id": "e44a5a90",
   "metadata": {},
   "outputs": [],
   "source": [
    "# Show all columns and rows\n",
    "pd.options.display.max_columns = None\n",
    "pd.options.display.max_rows = None"
   ]
  },
  {
   "cell_type": "code",
   "execution_count": 4,
   "id": "e7f2c0e5",
   "metadata": {},
   "outputs": [],
   "source": [
    "# Showing the entire number in dataframe\n",
    "pd.set_option('float_format', '{:f}'.format)"
   ]
  },
  {
   "cell_type": "code",
   "execution_count": 6,
   "id": "f11f2bb5",
   "metadata": {},
   "outputs": [
    {
     "data": {
      "text/html": [
       "<div>\n",
       "<style scoped>\n",
       "    .dataframe tbody tr th:only-of-type {\n",
       "        vertical-align: middle;\n",
       "    }\n",
       "\n",
       "    .dataframe tbody tr th {\n",
       "        vertical-align: top;\n",
       "    }\n",
       "\n",
       "    .dataframe thead th {\n",
       "        text-align: right;\n",
       "    }\n",
       "</style>\n",
       "<table border=\"1\" class=\"dataframe\">\n",
       "  <thead>\n",
       "    <tr style=\"text-align: right;\">\n",
       "      <th></th>\n",
       "      <th>toStopIndex</th>\n",
       "      <th>fromStopIndex</th>\n",
       "      <th>seatingCapacity</th>\n",
       "      <th>tollPaid</th>\n",
       "      <th>primaryFuelLevel</th>\n",
       "      <th>endY</th>\n",
       "      <th>endX</th>\n",
       "      <th>startY</th>\n",
       "      <th>startX</th>\n",
       "      <th>capacity</th>\n",
       "      <th>arrivalTime</th>\n",
       "      <th>departureTime</th>\n",
       "      <th>secondaryFuel</th>\n",
       "      <th>numPassengers</th>\n",
       "      <th>length</th>\n",
       "      <th>primaryFuel</th>\n",
       "      <th>secondaryFuelLevel</th>\n",
       "      <th>time</th>\n",
       "      <th>link</th>\n",
       "      <th>facility</th>\n",
       "      <th>price</th>\n",
       "      <th>locationY</th>\n",
       "      <th>locationX</th>\n",
       "      <th>incentive</th>\n",
       "      <th>tollCost</th>\n",
       "      <th>netCost</th>\n",
       "      <th>cost</th>\n",
       "      <th>score</th>\n",
       "      <th>expectedMaximumUtility</th>\n",
       "      <th>location</th>\n",
       "      <th>tourIndex</th>\n",
       "      <th>tripId</th>\n",
       "      <th>departTime</th>\n",
       "      <th>shiftStatus</th>\n",
       "      <th>parkingZoneId</th>\n",
       "      <th>fuel</th>\n",
       "      <th>duration</th>\n",
       "    </tr>\n",
       "  </thead>\n",
       "  <tbody>\n",
       "    <tr>\n",
       "      <th>count</th>\n",
       "      <td>1426241.000000</td>\n",
       "      <td>1426241.000000</td>\n",
       "      <td>9024903.000000</td>\n",
       "      <td>9024903.000000</td>\n",
       "      <td>9024903.000000</td>\n",
       "      <td>9497162.000000</td>\n",
       "      <td>9497162.000000</td>\n",
       "      <td>9497162.000000</td>\n",
       "      <td>9497162.000000</td>\n",
       "      <td>9024903.000000</td>\n",
       "      <td>9416857.000000</td>\n",
       "      <td>9416857.000000</td>\n",
       "      <td>9024903.000000</td>\n",
       "      <td>9024903.000000</td>\n",
       "      <td>11506646.000000</td>\n",
       "      <td>9024903.000000</td>\n",
       "      <td>9024903.000000</td>\n",
       "      <td>35597741.000000</td>\n",
       "      <td>9872160.000000</td>\n",
       "      <td>0.000000</td>\n",
       "      <td>0.000000</td>\n",
       "      <td>1641195.000000</td>\n",
       "      <td>1641195.000000</td>\n",
       "      <td>1875082.000000</td>\n",
       "      <td>1875082.000000</td>\n",
       "      <td>1875082.000000</td>\n",
       "      <td>1641195.000000</td>\n",
       "      <td>1867239.000000</td>\n",
       "      <td>0.000000</td>\n",
       "      <td>2481743.000000</td>\n",
       "      <td>2481743.000000</td>\n",
       "      <td>2481743.000000</td>\n",
       "      <td>80305.000000</td>\n",
       "      <td>0.000000</td>\n",
       "      <td>0.000000</td>\n",
       "      <td>0.000000</td>\n",
       "      <td>0.000000</td>\n",
       "    </tr>\n",
       "    <tr>\n",
       "      <th>mean</th>\n",
       "      <td>23.446728</td>\n",
       "      <td>22.446728</td>\n",
       "      <td>2.961267</td>\n",
       "      <td>0.000001</td>\n",
       "      <td>6049989766.278247</td>\n",
       "      <td>37.714680</td>\n",
       "      <td>-122.174510</td>\n",
       "      <td>37.714684</td>\n",
       "      <td>-122.174530</td>\n",
       "      <td>4.080660</td>\n",
       "      <td>51289.874932</td>\n",
       "      <td>50957.965346</td>\n",
       "      <td>0.000000</td>\n",
       "      <td>0.846663</td>\n",
       "      <td>4861.977043</td>\n",
       "      <td>11120219.644535</td>\n",
       "      <td>0.000000</td>\n",
       "      <td>61185.929688</td>\n",
       "      <td>89075.409887</td>\n",
       "      <td>NaN</td>\n",
       "      <td>NaN</td>\n",
       "      <td>37.728805</td>\n",
       "      <td>-122.161568</td>\n",
       "      <td>0.000000</td>\n",
       "      <td>0.000005</td>\n",
       "      <td>1.796303</td>\n",
       "      <td>0.022484</td>\n",
       "      <td>-0.022493</td>\n",
       "      <td>NaN</td>\n",
       "      <td>88847.360838</td>\n",
       "      <td>1.328264</td>\n",
       "      <td>1210159769.940545</td>\n",
       "      <td>52698.177835</td>\n",
       "      <td>NaN</td>\n",
       "      <td>NaN</td>\n",
       "      <td>NaN</td>\n",
       "      <td>NaN</td>\n",
       "    </tr>\n",
       "    <tr>\n",
       "      <th>std</th>\n",
       "      <td>18.679919</td>\n",
       "      <td>18.679919</td>\n",
       "      <td>4.514131</td>\n",
       "      <td>0.002354</td>\n",
       "      <td>36539760335.535606</td>\n",
       "      <td>0.335281</td>\n",
       "      <td>0.262565</td>\n",
       "      <td>0.335244</td>\n",
       "      <td>0.262467</td>\n",
       "      <td>13.086510</td>\n",
       "      <td>17362.114852</td>\n",
       "      <td>17275.975411</td>\n",
       "      <td>0.000000</td>\n",
       "      <td>1.202172</td>\n",
       "      <td>10174.301131</td>\n",
       "      <td>30605077.574084</td>\n",
       "      <td>0.000000</td>\n",
       "      <td>18931.119141</td>\n",
       "      <td>51226.610675</td>\n",
       "      <td>NaN</td>\n",
       "      <td>NaN</td>\n",
       "      <td>0.342107</td>\n",
       "      <td>0.267067</td>\n",
       "      <td>0.000000</td>\n",
       "      <td>0.005164</td>\n",
       "      <td>2.316062</td>\n",
       "      <td>1.060036</td>\n",
       "      <td>1.060259</td>\n",
       "      <td>NaN</td>\n",
       "      <td>51234.786506</td>\n",
       "      <td>0.642279</td>\n",
       "      <td>700740600.903213</td>\n",
       "      <td>15719.784587</td>\n",
       "      <td>NaN</td>\n",
       "      <td>NaN</td>\n",
       "      <td>NaN</td>\n",
       "      <td>NaN</td>\n",
       "    </tr>\n",
       "    <tr>\n",
       "      <th>min</th>\n",
       "      <td>1.000000</td>\n",
       "      <td>0.000000</td>\n",
       "      <td>0.000000</td>\n",
       "      <td>0.000000</td>\n",
       "      <td>-1745826.826000</td>\n",
       "      <td>36.896731</td>\n",
       "      <td>-123.530832</td>\n",
       "      <td>36.896731</td>\n",
       "      <td>-123.530832</td>\n",
       "      <td>0.000000</td>\n",
       "      <td>700.000000</td>\n",
       "      <td>660.000000</td>\n",
       "      <td>0.000000</td>\n",
       "      <td>0.000000</td>\n",
       "      <td>0.000000</td>\n",
       "      <td>0.000000</td>\n",
       "      <td>0.000000</td>\n",
       "      <td>0.000000</td>\n",
       "      <td>2.000000</td>\n",
       "      <td>NaN</td>\n",
       "      <td>NaN</td>\n",
       "      <td>36.896731</td>\n",
       "      <td>-123.527220</td>\n",
       "      <td>0.000000</td>\n",
       "      <td>0.000000</td>\n",
       "      <td>0.000000</td>\n",
       "      <td>0.000000</td>\n",
       "      <td>-50.000000</td>\n",
       "      <td>NaN</td>\n",
       "      <td>2.000000</td>\n",
       "      <td>1.000000</td>\n",
       "      <td>577.000000</td>\n",
       "      <td>18000.000000</td>\n",
       "      <td>NaN</td>\n",
       "      <td>NaN</td>\n",
       "      <td>NaN</td>\n",
       "      <td>NaN</td>\n",
       "    </tr>\n",
       "    <tr>\n",
       "      <th>25%</th>\n",
       "      <td>9.000000</td>\n",
       "      <td>8.000000</td>\n",
       "      <td>0.000000</td>\n",
       "      <td>0.000000</td>\n",
       "      <td>2181042.734500</td>\n",
       "      <td>37.425805</td>\n",
       "      <td>-122.402688</td>\n",
       "      <td>37.425805</td>\n",
       "      <td>-122.402708</td>\n",
       "      <td>0.000000</td>\n",
       "      <td>35880.000000</td>\n",
       "      <td>35579.000000</td>\n",
       "      <td>0.000000</td>\n",
       "      <td>0.000000</td>\n",
       "      <td>102.478000</td>\n",
       "      <td>0.000000</td>\n",
       "      <td>0.000000</td>\n",
       "      <td>35580.000000</td>\n",
       "      <td>46068.000000</td>\n",
       "      <td>NaN</td>\n",
       "      <td>NaN</td>\n",
       "      <td>37.419912</td>\n",
       "      <td>-122.350326</td>\n",
       "      <td>0.000000</td>\n",
       "      <td>0.000000</td>\n",
       "      <td>0.480619</td>\n",
       "      <td>0.000000</td>\n",
       "      <td>-0.000000</td>\n",
       "      <td>NaN</td>\n",
       "      <td>45800.000000</td>\n",
       "      <td>1.000000</td>\n",
       "      <td>601164291.000000</td>\n",
       "      <td>39995.000000</td>\n",
       "      <td>NaN</td>\n",
       "      <td>NaN</td>\n",
       "      <td>NaN</td>\n",
       "      <td>NaN</td>\n",
       "    </tr>\n",
       "    <tr>\n",
       "      <th>50%</th>\n",
       "      <td>19.000000</td>\n",
       "      <td>18.000000</td>\n",
       "      <td>4.000000</td>\n",
       "      <td>0.000000</td>\n",
       "      <td>3314167162.427520</td>\n",
       "      <td>37.736519</td>\n",
       "      <td>-122.150397</td>\n",
       "      <td>37.736520</td>\n",
       "      <td>-122.150378</td>\n",
       "      <td>4.000000</td>\n",
       "      <td>51942.000000</td>\n",
       "      <td>51637.000000</td>\n",
       "      <td>0.000000</td>\n",
       "      <td>1.000000</td>\n",
       "      <td>618.399000</td>\n",
       "      <td>521028.333720</td>\n",
       "      <td>0.000000</td>\n",
       "      <td>51786.000000</td>\n",
       "      <td>84156.000000</td>\n",
       "      <td>NaN</td>\n",
       "      <td>NaN</td>\n",
       "      <td>37.722641</td>\n",
       "      <td>-122.118040</td>\n",
       "      <td>0.000000</td>\n",
       "      <td>0.000000</td>\n",
       "      <td>1.022709</td>\n",
       "      <td>0.000000</td>\n",
       "      <td>0.000000</td>\n",
       "      <td>NaN</td>\n",
       "      <td>84078.000000</td>\n",
       "      <td>1.000000</td>\n",
       "      <td>1208623637.000000</td>\n",
       "      <td>53766.000000</td>\n",
       "      <td>NaN</td>\n",
       "      <td>NaN</td>\n",
       "      <td>NaN</td>\n",
       "      <td>NaN</td>\n",
       "    </tr>\n",
       "    <tr>\n",
       "      <th>75%</th>\n",
       "      <td>33.000000</td>\n",
       "      <td>32.000000</td>\n",
       "      <td>4.000000</td>\n",
       "      <td>0.000000</td>\n",
       "      <td>3613997173.358610</td>\n",
       "      <td>37.908894</td>\n",
       "      <td>-121.966167</td>\n",
       "      <td>37.909283</td>\n",
       "      <td>-121.966131</td>\n",
       "      <td>4.000000</td>\n",
       "      <td>64962.000000</td>\n",
       "      <td>64624.000000</td>\n",
       "      <td>0.000000</td>\n",
       "      <td>1.000000</td>\n",
       "      <td>4892.048500</td>\n",
       "      <td>7246598.389560</td>\n",
       "      <td>0.000000</td>\n",
       "      <td>64713.000000</td>\n",
       "      <td>133144.000000</td>\n",
       "      <td>NaN</td>\n",
       "      <td>NaN</td>\n",
       "      <td>37.944757</td>\n",
       "      <td>-121.955498</td>\n",
       "      <td>0.000000</td>\n",
       "      <td>0.000000</td>\n",
       "      <td>2.500000</td>\n",
       "      <td>0.000000</td>\n",
       "      <td>-0.000000</td>\n",
       "      <td>NaN</td>\n",
       "      <td>133000.000000</td>\n",
       "      <td>2.000000</td>\n",
       "      <td>1815034233.500000</td>\n",
       "      <td>65174.000000</td>\n",
       "      <td>NaN</td>\n",
       "      <td>NaN</td>\n",
       "      <td>NaN</td>\n",
       "      <td>NaN</td>\n",
       "    </tr>\n",
       "    <tr>\n",
       "      <th>max</th>\n",
       "      <td>138.000000</td>\n",
       "      <td>137.000000</td>\n",
       "      <td>161.000000</td>\n",
       "      <td>5.000000</td>\n",
       "      <td>12000000000000.000000</td>\n",
       "      <td>38.863811</td>\n",
       "      <td>-121.223556</td>\n",
       "      <td>38.863811</td>\n",
       "      <td>-121.223556</td>\n",
       "      <td>572.000000</td>\n",
       "      <td>215355.000000</td>\n",
       "      <td>210682.000000</td>\n",
       "      <td>0.000000</td>\n",
       "      <td>91.000000</td>\n",
       "      <td>247132.353932</td>\n",
       "      <td>1317856178.723200</td>\n",
       "      <td>0.000000</td>\n",
       "      <td>215505.000000</td>\n",
       "      <td>183781.000000</td>\n",
       "      <td>NaN</td>\n",
       "      <td>NaN</td>\n",
       "      <td>38.869564</td>\n",
       "      <td>-121.229079</td>\n",
       "      <td>0.000000</td>\n",
       "      <td>5.000000</td>\n",
       "      <td>90.576908</td>\n",
       "      <td>50.000000</td>\n",
       "      <td>-0.000000</td>\n",
       "      <td>NaN</td>\n",
       "      <td>183780.000000</td>\n",
       "      <td>8.000000</td>\n",
       "      <td>2427063453.000000</td>\n",
       "      <td>92289.000000</td>\n",
       "      <td>NaN</td>\n",
       "      <td>NaN</td>\n",
       "      <td>NaN</td>\n",
       "      <td>NaN</td>\n",
       "    </tr>\n",
       "  </tbody>\n",
       "</table>\n",
       "</div>"
      ],
      "text/plain": [
       "         toStopIndex  fromStopIndex  seatingCapacity       tollPaid  \\\n",
       "count 1426241.000000 1426241.000000   9024903.000000 9024903.000000   \n",
       "mean       23.446728      22.446728         2.961267       0.000001   \n",
       "std        18.679919      18.679919         4.514131       0.002354   \n",
       "min         1.000000       0.000000         0.000000       0.000000   \n",
       "25%         9.000000       8.000000         0.000000       0.000000   \n",
       "50%        19.000000      18.000000         4.000000       0.000000   \n",
       "75%        33.000000      32.000000         4.000000       0.000000   \n",
       "max       138.000000     137.000000       161.000000       5.000000   \n",
       "\n",
       "           primaryFuelLevel           endY           endX         startY  \\\n",
       "count        9024903.000000 9497162.000000 9497162.000000 9497162.000000   \n",
       "mean      6049989766.278247      37.714680    -122.174510      37.714684   \n",
       "std      36539760335.535606       0.335281       0.262565       0.335244   \n",
       "min         -1745826.826000      36.896731    -123.530832      36.896731   \n",
       "25%          2181042.734500      37.425805    -122.402688      37.425805   \n",
       "50%       3314167162.427520      37.736519    -122.150397      37.736520   \n",
       "75%       3613997173.358610      37.908894    -121.966167      37.909283   \n",
       "max   12000000000000.000000      38.863811    -121.223556      38.863811   \n",
       "\n",
       "              startX       capacity    arrivalTime  departureTime  \\\n",
       "count 9497162.000000 9024903.000000 9416857.000000 9416857.000000   \n",
       "mean     -122.174530       4.080660   51289.874932   50957.965346   \n",
       "std         0.262467      13.086510   17362.114852   17275.975411   \n",
       "min      -123.530832       0.000000     700.000000     660.000000   \n",
       "25%      -122.402708       0.000000   35880.000000   35579.000000   \n",
       "50%      -122.150378       4.000000   51942.000000   51637.000000   \n",
       "75%      -121.966131       4.000000   64962.000000   64624.000000   \n",
       "max      -121.223556     572.000000  215355.000000  210682.000000   \n",
       "\n",
       "       secondaryFuel  numPassengers          length       primaryFuel  \\\n",
       "count 9024903.000000 9024903.000000 11506646.000000    9024903.000000   \n",
       "mean        0.000000       0.846663     4861.977043   11120219.644535   \n",
       "std         0.000000       1.202172    10174.301131   30605077.574084   \n",
       "min         0.000000       0.000000        0.000000          0.000000   \n",
       "25%         0.000000       0.000000      102.478000          0.000000   \n",
       "50%         0.000000       1.000000      618.399000     521028.333720   \n",
       "75%         0.000000       1.000000     4892.048500    7246598.389560   \n",
       "max         0.000000      91.000000   247132.353932 1317856178.723200   \n",
       "\n",
       "       secondaryFuelLevel            time           link  facility    price  \\\n",
       "count      9024903.000000 35597741.000000 9872160.000000  0.000000 0.000000   \n",
       "mean             0.000000    61185.929688   89075.409887       NaN      NaN   \n",
       "std              0.000000    18931.119141   51226.610675       NaN      NaN   \n",
       "min              0.000000        0.000000       2.000000       NaN      NaN   \n",
       "25%              0.000000    35580.000000   46068.000000       NaN      NaN   \n",
       "50%              0.000000    51786.000000   84156.000000       NaN      NaN   \n",
       "75%              0.000000    64713.000000  133144.000000       NaN      NaN   \n",
       "max              0.000000   215505.000000  183781.000000       NaN      NaN   \n",
       "\n",
       "           locationY      locationX      incentive       tollCost  \\\n",
       "count 1641195.000000 1641195.000000 1875082.000000 1875082.000000   \n",
       "mean       37.728805    -122.161568       0.000000       0.000005   \n",
       "std         0.342107       0.267067       0.000000       0.005164   \n",
       "min        36.896731    -123.527220       0.000000       0.000000   \n",
       "25%        37.419912    -122.350326       0.000000       0.000000   \n",
       "50%        37.722641    -122.118040       0.000000       0.000000   \n",
       "75%        37.944757    -121.955498       0.000000       0.000000   \n",
       "max        38.869564    -121.229079       0.000000       5.000000   \n",
       "\n",
       "             netCost           cost          score  expectedMaximumUtility  \\\n",
       "count 1875082.000000 1641195.000000 1867239.000000                0.000000   \n",
       "mean        1.796303       0.022484      -0.022493                     NaN   \n",
       "std         2.316062       1.060036       1.060259                     NaN   \n",
       "min         0.000000       0.000000     -50.000000                     NaN   \n",
       "25%         0.480619       0.000000      -0.000000                     NaN   \n",
       "50%         1.022709       0.000000       0.000000                     NaN   \n",
       "75%         2.500000       0.000000      -0.000000                     NaN   \n",
       "max        90.576908      50.000000      -0.000000                     NaN   \n",
       "\n",
       "            location      tourIndex            tripId   departTime  \\\n",
       "count 2481743.000000 2481743.000000    2481743.000000 80305.000000   \n",
       "mean    88847.360838       1.328264 1210159769.940545 52698.177835   \n",
       "std     51234.786506       0.642279  700740600.903213 15719.784587   \n",
       "min         2.000000       1.000000        577.000000 18000.000000   \n",
       "25%     45800.000000       1.000000  601164291.000000 39995.000000   \n",
       "50%     84078.000000       1.000000 1208623637.000000 53766.000000   \n",
       "75%    133000.000000       2.000000 1815034233.500000 65174.000000   \n",
       "max    183780.000000       8.000000 2427063453.000000 92289.000000   \n",
       "\n",
       "       shiftStatus  parkingZoneId     fuel  duration  \n",
       "count     0.000000       0.000000 0.000000  0.000000  \n",
       "mean           NaN            NaN      NaN       NaN  \n",
       "std            NaN            NaN      NaN       NaN  \n",
       "min            NaN            NaN      NaN       NaN  \n",
       "25%            NaN            NaN      NaN       NaN  \n",
       "50%            NaN            NaN      NaN       NaN  \n",
       "75%            NaN            NaN      NaN       NaN  \n",
       "max            NaN            NaN      NaN       NaN  "
      ]
     },
     "execution_count": 6,
     "metadata": {},
     "output_type": "execute_result"
    }
   ],
   "source": [
    "eventsSF.describe()"
   ]
  },
  {
   "cell_type": "code",
   "execution_count": null,
   "id": "377d3e66",
   "metadata": {},
   "outputs": [],
   "source": []
  },
  {
   "cell_type": "code",
   "execution_count": null,
   "id": "316e3ee9",
   "metadata": {},
   "outputs": [],
   "source": []
  },
  {
   "cell_type": "code",
   "execution_count": null,
   "id": "d962495c",
   "metadata": {},
   "outputs": [],
   "source": []
  },
  {
   "cell_type": "code",
   "execution_count": null,
   "id": "1a3d5344",
   "metadata": {},
   "outputs": [],
   "source": []
  },
  {
   "cell_type": "code",
   "execution_count": null,
   "id": "634bbec9",
   "metadata": {},
   "outputs": [],
   "source": []
  },
  {
   "cell_type": "code",
   "execution_count": null,
   "id": "39b2b167",
   "metadata": {},
   "outputs": [],
   "source": []
  },
  {
   "cell_type": "code",
   "execution_count": 5,
   "id": "c33f5570",
   "metadata": {},
   "outputs": [],
   "source": [
    "# Adding scenario info\n",
    "eventsSF['scenario'] = \"ridehail\"\n",
    "eventsSF['scenario'] = eventsSF['scenario'].astype(\"category\")\n",
    "eventsSF['lever'] = \"wheelchair_accessible\"\n",
    "eventsSF['lever'] = eventsSF['lever'].astype(\"category\")\n",
    "eventsSF['year'] = 2018\n",
    "eventsSF['lever_position'] = 0"
   ]
  },
  {
   "cell_type": "code",
   "execution_count": 6,
   "id": "2fbd0c93",
   "metadata": {},
   "outputs": [],
   "source": [
    "# Rename the \"mode\" column\n",
    "eventsSF.rename(columns={\"mode\":\"modeBEAM\"}, inplace=True) \n",
    "# Replace \"Work\" with \"work\" in the \"actType\" column\n",
    "eventsSF[\"actType\"].replace({\"Work\": \"work\"}, inplace=True)"
   ]
  },
  {
   "cell_type": "code",
   "execution_count": 7,
   "id": "f2d74acd",
   "metadata": {},
   "outputs": [],
   "source": [
    "# Remove person = TransitDriver or RidehailDriver because there are no agent information in these rows\n",
    "eventsSF = eventsSF[~eventsSF.person.str.contains(\"Agent\", na=False)].reset_index(drop=True)"
   ]
  },
  {
   "cell_type": "code",
   "execution_count": 8,
   "id": "d64b6a6f",
   "metadata": {},
   "outputs": [],
   "source": [
    "# shift column 'person' to first position\n",
    "first_column = eventsSF.pop('person')\n",
    "second_column = eventsSF.pop('driver')\n",
    "third_column = eventsSF.pop('riders')\n",
    "# insert column using insert(position,column_name,first_column) function\n",
    "eventsSF.insert(0, 'person', first_column)\n",
    "eventsSF.insert(1, 'driver', second_column)\n",
    "eventsSF.insert(2, 'riders', third_column)"
   ]
  },
  {
   "cell_type": "code",
   "execution_count": 9,
   "id": "77e7695a",
   "metadata": {},
   "outputs": [],
   "source": [
    "# Adding the IDMerged Column\n",
    "eventsSF['UniqueID'] = eventsSF['person'] #make a copy of the person column\n",
    "eventsSF['personID'] = np.where(eventsSF['person'].isin(eventsSF['driver']), eventsSF['person'], np.nan) \n",
    "eventsSF['driverID'] = np.where(eventsSF['driver'].isin(eventsSF['person']), eventsSF['driver'], np.nan)"
   ]
  },
  {
   "cell_type": "code",
   "execution_count": 10,
   "id": "a9f2b0af",
   "metadata": {},
   "outputs": [],
   "source": [
    "# Merging person and driver ids in one column\n",
    "eventsSF['IDMerged'] = eventsSF['personID'].combine_first(eventsSF['driverID'])\n",
    "eventsSF['IDMerged'] = eventsSF['UniqueID'].combine_first(eventsSF['IDMerged'])"
   ]
  },
  {
   "cell_type": "code",
   "execution_count": 11,
   "id": "70ccea79",
   "metadata": {},
   "outputs": [],
   "source": [
    "# Dropping unused columns\n",
    "eventsSF = eventsSF.drop(['personID','driverID','UniqueID'], axis=1) "
   ]
  },
  {
   "cell_type": "code",
   "execution_count": 12,
   "id": "2f6d5d3d",
   "metadata": {},
   "outputs": [],
   "source": [
    "# Shift column 'IDMerged' to first position\n",
    "first_column = eventsSF.pop('IDMerged')\n",
    "# Insert column using insert(position,column_name,first_column) function\n",
    "eventsSF.insert(0, 'IDMerged', first_column)"
   ]
  },
  {
   "cell_type": "code",
   "execution_count": 13,
   "id": "3dffe8cf",
   "metadata": {},
   "outputs": [
    {
     "name": "stdout",
     "output_type": "stream",
     "text": [
      "CPU times: total: 12.7 s\n",
      "Wall time: 12.7 s\n"
     ]
    }
   ],
   "source": [
    "%%time\n",
    "# Split the \"riders\" column and replicated rows for every rider\n",
    "eventsSF['riders'] = eventsSF['riders'].str.split(':')\n",
    "eventsSF = eventsSF.explode('riders')"
   ]
  },
  {
   "cell_type": "code",
   "execution_count": 14,
   "id": "cad273bc",
   "metadata": {},
   "outputs": [],
   "source": [
    "# Combine riderID with IDMerged\n",
    "eventsSF['riderID'] = np.where(eventsSF['riders'].isin(eventsSF['person']), eventsSF['riders'], np.nan)\n",
    "eventsSF['IDMerged'] = eventsSF['riderID'].combine_first(eventsSF['IDMerged'])"
   ]
  },
  {
   "cell_type": "code",
   "execution_count": 15,
   "id": "65de33c2",
   "metadata": {},
   "outputs": [],
   "source": [
    "# Dropping unused columns\n",
    "eventsSF = eventsSF.drop(['riderID'], axis=1) "
   ]
  },
  {
   "cell_type": "code",
   "execution_count": 16,
   "id": "d8a62eb1",
   "metadata": {},
   "outputs": [],
   "source": [
    "# Remove driver = TransitDriver or RidehailDriver for IDMerged = NAN because there are no agent information in these rows \n",
    "eventsSF = eventsSF[~((eventsSF.driver.str.contains(\"Agent\", na=False))&(eventsSF.IDMerged.isna()))].reset_index(drop=True)"
   ]
  },
  {
   "cell_type": "code",
   "execution_count": 17,
   "id": "60db4199",
   "metadata": {
    "scrolled": true
   },
   "outputs": [],
   "source": [
    "#IDnan = eventsSF[eventsSF['IDMerged'].isna()]\n",
    "#IDnan.shape"
   ]
  },
  {
   "cell_type": "code",
   "execution_count": 18,
   "id": "994ab676",
   "metadata": {},
   "outputs": [
    {
     "name": "stdout",
     "output_type": "stream",
     "text": [
      "CPU times: total: 28.6 s\n",
      "Wall time: 28.7 s\n"
     ]
    }
   ],
   "source": [
    "%%time\n",
    "# Filling NANs in ID related to charging events\n",
    "eventsSF[\"chargeID\"] = eventsSF.groupby('vehicle')['IDMerged'].transform(lambda x: x.ffill().bfill())"
   ]
  },
  {
   "cell_type": "code",
   "execution_count": 19,
   "id": "0165322c",
   "metadata": {},
   "outputs": [],
   "source": [
    "# Combining chargeID with IDMerged so no NANs anymore\n",
    "eventsSF['IDMerged'] = eventsSF['chargeID'].combine_first(eventsSF['IDMerged'])"
   ]
  },
  {
   "cell_type": "code",
   "execution_count": 20,
   "id": "525d0231",
   "metadata": {},
   "outputs": [],
   "source": [
    "#IDnan = eventsSF[eventsSF['IDMerged'].isna()]\n",
    "#IDnan.shape"
   ]
  },
  {
   "cell_type": "code",
   "execution_count": 21,
   "id": "dff0f0d9",
   "metadata": {},
   "outputs": [],
   "source": [
    "# Dropping unused columns\n",
    "eventsSF = eventsSF.drop(['chargeID'], axis=1) "
   ]
  },
  {
   "cell_type": "code",
   "execution_count": 22,
   "id": "ad36c06d",
   "metadata": {},
   "outputs": [
    {
     "name": "stdout",
     "output_type": "stream",
     "text": [
      "CPU times: total: 1.67 s\n",
      "Wall time: 1.67 s\n"
     ]
    }
   ],
   "source": [
    "%%time\n",
    "# Change the IDMerged column type to numeric\n",
    "eventsSF[\"IDMerged\"] = pd.to_numeric(eventsSF.IDMerged)"
   ]
  },
  {
   "cell_type": "code",
   "execution_count": 23,
   "id": "983217d8",
   "metadata": {},
   "outputs": [],
   "source": [
    "# Sort by IDMerged and time columns\n",
    "eventsSF = eventsSF.sort_values(['IDMerged','time']).reset_index(drop=True)"
   ]
  },
  {
   "cell_type": "code",
   "execution_count": 24,
   "id": "2db653ae",
   "metadata": {},
   "outputs": [],
   "source": [
    "# We assume that the number of passengers is 1 for ride_hail_pooled\n",
    "eventsSF['modeBEAM_rh'] = np.where(eventsSF.driver.str.contains(\"rideHailAgent\", na=False), 'ride_hail' , eventsSF['modeBEAM'])"
   ]
  },
  {
   "cell_type": "code",
   "execution_count": 25,
   "id": "bd4c6384",
   "metadata": {},
   "outputs": [],
   "source": [
    "# Adding teleportation mode to the type = TeleportationEvent row \n",
    "eventsSF[\"modeBEAM_rh\"] = np.where(eventsSF['type']=='TeleportationEvent', eventsSF.modeBEAM_rh.fillna(method='ffill'), eventsSF[\"modeBEAM_rh\"])"
   ]
  },
  {
   "cell_type": "code",
   "execution_count": 26,
   "id": "4e1ba837",
   "metadata": {},
   "outputs": [],
   "source": [
    "eventsSF['modeBEAM_rh_pooled'] = np.where((eventsSF['type'] == 'PersonCost') & (eventsSF['modeBEAM'] == 'ride_hail_pooled'), 'ride_hail_pooled', np.nan)"
   ]
  },
  {
   "cell_type": "code",
   "execution_count": 27,
   "id": "3339c5df",
   "metadata": {},
   "outputs": [],
   "source": [
    "eventsSF['modeBEAM_rh_ride_hail_transit'] = np.where((eventsSF['type'] == 'PersonCost') & (eventsSF['modeBEAM'] == 'ride_hail_transit'), 'ride_hail_transit', np.nan)"
   ]
  },
  {
   "cell_type": "code",
   "execution_count": 28,
   "id": "e1eb832e",
   "metadata": {},
   "outputs": [],
   "source": [
    "eventsSF['modeBEAM_rh_pooled'] = eventsSF['modeBEAM_rh_pooled'].shift(+1)"
   ]
  },
  {
   "cell_type": "code",
   "execution_count": 29,
   "id": "92e73beb",
   "metadata": {},
   "outputs": [],
   "source": [
    "eventsSF['modeBEAM_rh_ride_hail_transit'] = eventsSF['modeBEAM_rh_ride_hail_transit'].shift(+1)"
   ]
  },
  {
   "cell_type": "code",
   "execution_count": 30,
   "id": "120a46e0",
   "metadata": {},
   "outputs": [],
   "source": [
    "eventsSF['modeBEAM_rh'] = np.where((eventsSF['type'] == 'PathTraversal') & (eventsSF['modeBEAM'] == 'car') & (eventsSF['driver'].str.contains(\"rideHailAgent\", na=False)) & (eventsSF['modeBEAM_rh_pooled'] != 'nan'), eventsSF['modeBEAM_rh_pooled'], eventsSF['modeBEAM_rh'])"
   ]
  },
  {
   "cell_type": "code",
   "execution_count": 31,
   "id": "99d82b22",
   "metadata": {},
   "outputs": [],
   "source": [
    "# We don't know if ridehail_transit is ride_hail or ride_hail_pooled\n",
    "eventsSF['modeBEAM_rh'] = np.where((eventsSF['type'] == 'PathTraversal') & (eventsSF['modeBEAM'] == 'car') & (eventsSF['driver'].str.contains(\"rideHailAgent\", na=False)) & (eventsSF['modeBEAM_rh_ride_hail_transit'] != 'nan'), eventsSF['modeBEAM_rh_ride_hail_transit'], eventsSF['modeBEAM_rh'])"
   ]
  },
  {
   "cell_type": "code",
   "execution_count": 32,
   "id": "3db04d3f",
   "metadata": {},
   "outputs": [],
   "source": [
    "# Dropping the temporary columns\n",
    "eventsSF = eventsSF.drop(['modeBEAM_rh_pooled'], axis=1)\n",
    "eventsSF = eventsSF.drop(['modeBEAM_rh_ride_hail_transit'], axis=1)"
   ]
  },
  {
   "cell_type": "markdown",
   "id": "cb6f3a97",
   "metadata": {},
   "source": [
    "#### Adding the census blocks"
   ]
  },
  {
   "cell_type": "code",
   "execution_count": 33,
   "id": "fdaeafcc",
   "metadata": {},
   "outputs": [],
   "source": [
    "def addGeometryIdToDataFrame(df, gdf, xcol, ycol, idColumn=\"geometry\", df_geom='epsg:4326'):\n",
    "    gdf_data = gpd.GeoDataFrame(df, geometry=gpd.points_from_xy(df[xcol], df[ycol]))\n",
    "    gdf_data.crs = {'init': df_geom}\n",
    "    joined = gpd.sjoin(gdf_data.to_crs('epsg:26910'), gdf.to_crs('epsg:26910'))\n",
    "    gdf_data = gdf_data.merge(joined['blkgrpid'], left_index=True, right_index=True, how=\"left\")\n",
    "    gdf_data.rename(columns={'blkgrpid': idColumn}, inplace=True)\n",
    "    df = pd.DataFrame(gdf_data.drop(columns='geometry'))\n",
    "    df.drop(columns=[xcol, ycol], inplace=True)\n",
    "    return df.loc[~df.index.duplicated(keep='first'), :]"
   ]
  },
  {
   "cell_type": "code",
   "execution_count": null,
   "id": "411a779f",
   "metadata": {},
   "outputs": [],
   "source": [
    "# census_2010 = \"https://beam-core-act.s3.amazonaws.com/deepDive/RawData/Census_Blocks/Scenario_2010_shp/\"\n",
    "BGs = gpd.read_file('/vsicurl/https://github.com/LBNL-UCB-STI/beam-core-analysis/raw/main/Users/Zach/scenario/sfbay-blockgroups-2010/641aa0d4-ce5b-4a81-9c30-8790c4ab8cfb202047-1-wkkklf.j5ouj.shp')"
   ]
  },
  {
   "cell_type": "code",
   "execution_count": null,
   "id": "fcc7abc2",
   "metadata": {},
   "outputs": [],
   "source": [
    "%%time\n",
    "eventsSF = addGeometryIdToDataFrame(eventsSF, BGs, 'startX', 'startY', 'BlockGroupStart')"
   ]
  },
  {
   "cell_type": "code",
   "execution_count": null,
   "id": "9eae57c0",
   "metadata": {},
   "outputs": [],
   "source": [
    "%%time\n",
    "eventsSF = addGeometryIdToDataFrame(eventsSF, BGs, 'endX', 'endY', 'BlockGroupEnd')"
   ]
  },
  {
   "cell_type": "markdown",
   "id": "fe8a8b31",
   "metadata": {},
   "source": [
    "#### Adding new columns"
   ]
  },
  {
   "cell_type": "code",
   "execution_count": 34,
   "id": "ff786a3b",
   "metadata": {},
   "outputs": [],
   "source": [
    "eventsSF['actEndTime'] = np.where(eventsSF['type']=='actend'\n",
    "                     , eventsSF['time'], np.nan)"
   ]
  },
  {
   "cell_type": "code",
   "execution_count": 35,
   "id": "57f2a46c",
   "metadata": {},
   "outputs": [],
   "source": [
    "eventsSF['actStartTime'] = np.where(eventsSF['type']=='actstart'\n",
    "                     , eventsSF['time'], np.nan)    "
   ]
  },
  {
   "cell_type": "code",
   "execution_count": 36,
   "id": "0f47b8ee",
   "metadata": {},
   "outputs": [],
   "source": [
    "eventsSF['duration_travelling'] = np.where((eventsSF['type']=='PathTraversal')|(eventsSF['type']=='TeleportationEvent')\n",
    "                     , eventsSF['arrivalTime'] - eventsSF['departureTime'], np.nan)"
   ]
  },
  {
   "cell_type": "code",
   "execution_count": 37,
   "id": "7e427fd1",
   "metadata": {},
   "outputs": [],
   "source": [
    "eventsSF['distance_travelling'] = np.where((eventsSF['type']=='PathTraversal')|((eventsSF['type']=='ModeChoice')&((eventsSF['modeBEAM']=='hov2_teleportation')|(eventsSF['modeBEAM']=='hov3_teleportation'))), eventsSF['length'], np.nan)"
   ]
  },
  {
   "cell_type": "code",
   "execution_count": 38,
   "id": "63c8c08a",
   "metadata": {},
   "outputs": [],
   "source": [
    "eventsSF['distance_mode_choice'] = np.where(eventsSF['type']=='ModeChoice', eventsSF['length'], np.nan)"
   ]
  },
  {
   "cell_type": "code",
   "execution_count": 39,
   "id": "6403c92a",
   "metadata": {},
   "outputs": [],
   "source": [
    "eventsSF['duration_walking'] = np.where(eventsSF['modeBEAM']=='walk', eventsSF['duration_travelling'], np.nan)"
   ]
  },
  {
   "cell_type": "code",
   "execution_count": 40,
   "id": "9edb77aa",
   "metadata": {},
   "outputs": [],
   "source": [
    "eventsSF['distance_walking'] = np.where(eventsSF['modeBEAM']=='walk', eventsSF['distance_travelling'], np.nan)"
   ]
  },
  {
   "cell_type": "code",
   "execution_count": 41,
   "id": "d4a0af57",
   "metadata": {},
   "outputs": [],
   "source": [
    "\n",
    "eventsSF['duration_on_bike'] = np.where(eventsSF['modeBEAM']=='bike', eventsSF['duration_travelling'], np.nan)"
   ]
  },
  {
   "cell_type": "code",
   "execution_count": 42,
   "id": "148a3dbe",
   "metadata": {},
   "outputs": [],
   "source": [
    "eventsSF['distance_bike'] = np.where(eventsSF['modeBEAM']=='bike', eventsSF['distance_travelling'], np.nan)"
   ]
  },
  {
   "cell_type": "code",
   "execution_count": 43,
   "id": "3624b92a",
   "metadata": {},
   "outputs": [],
   "source": [
    "eventsSF['duration_in_ridehail'] = np.where((eventsSF['modeBEAM_rh']=='ride_hail')|(eventsSF['modeBEAM_rh']=='ride_hail_pooled')|(eventsSF['modeBEAM_rh']=='ride_hail_transit'), \n",
    "                                            eventsSF['duration_travelling'], np.nan)"
   ]
  },
  {
   "cell_type": "code",
   "execution_count": 44,
   "id": "90d4c42d",
   "metadata": {},
   "outputs": [],
   "source": [
    "eventsSF['distance_ridehail'] = np.where((eventsSF['modeBEAM_rh']=='ride_hail')|(eventsSF['modeBEAM_rh']=='ride_hail_pooled')|(eventsSF['modeBEAM_rh']=='ride_hail_transit'), eventsSF['distance_travelling'], np.nan)"
   ]
  },
  {
   "cell_type": "code",
   "execution_count": 45,
   "id": "4bb825fb",
   "metadata": {},
   "outputs": [],
   "source": [
    "eventsSF['duration_in_privateCar'] = np.where((eventsSF['modeBEAM_rh']=='car')|(eventsSF['modeBEAM_rh']=='car_hov3')|(eventsSF['modeBEAM_rh']=='car_hov2')|\n",
    "                                              (eventsSF['modeBEAM_rh']=='hov2_teleportation')|(eventsSF['modeBEAM_rh']=='hov3_teleportation') \n",
    "                                              , eventsSF['duration_travelling'], np.nan)"
   ]
  },
  {
   "cell_type": "code",
   "execution_count": 46,
   "id": "3473c8da",
   "metadata": {},
   "outputs": [],
   "source": [
    "eventsSF['distance_privateCar'] = np.where((eventsSF['modeBEAM_rh']=='car')|(eventsSF['modeBEAM_rh']=='car_hov3')|(eventsSF['modeBEAM_rh']=='car_hov2')|\n",
    "                                              (eventsSF['modeBEAM_rh']=='hov2_teleportation')|(eventsSF['modeBEAM_rh']=='hov3_teleportation'), eventsSF['distance_travelling'], np.nan)"
   ]
  },
  {
   "cell_type": "code",
   "execution_count": 47,
   "id": "0b735038",
   "metadata": {},
   "outputs": [],
   "source": [
    "eventsSF['duration_in_transit'] = np.where((eventsSF['modeBEAM']=='bike_transit')|(eventsSF['modeBEAM']=='drive_transit')|\n",
    "                                           (eventsSF['modeBEAM']=='walk_transit')|(eventsSF['modeBEAM']=='bus')|\n",
    "                                           (eventsSF['modeBEAM']=='tram')|(eventsSF['modeBEAM']=='subway')|\n",
    "                                           (eventsSF['modeBEAM']=='rail')|(eventsSF['modeBEAM']=='cable_car')|\n",
    "                                           (eventsSF['modeBEAM']=='ride_hail_transit'), eventsSF['duration_travelling'], np.nan)"
   ]
  },
  {
   "cell_type": "code",
   "execution_count": 48,
   "id": "92c358e1",
   "metadata": {},
   "outputs": [],
   "source": [
    "eventsSF['distance_transit'] = np.where((eventsSF['modeBEAM']=='bike_transit')|(eventsSF['modeBEAM']=='drive_transit')|\n",
    "                                        (eventsSF['modeBEAM']=='walk_transit')|(eventsSF['modeBEAM']=='bus')|\n",
    "                                        (eventsSF['modeBEAM']=='tram')|(eventsSF['modeBEAM']=='subway')|\n",
    "                                        (eventsSF['modeBEAM']=='rail')|(eventsSF['modeBEAM']=='cable_car')|\n",
    "                                        (eventsSF['modeBEAM']=='ride_hail_transit'), eventsSF['distance_travelling'], np.nan)"
   ]
  },
  {
   "cell_type": "code",
   "execution_count": 49,
   "id": "0b4e8ccd",
   "metadata": {},
   "outputs": [],
   "source": [
    "# Removing the extra tour index happening after replanning events\n",
    "eventsSF['replanningTime'] = np.where(eventsSF['type'] == 'Replanning', eventsSF['time'], np.nan)\n",
    "eventsSF['replanningTime'] = eventsSF['replanningTime'].shift(+1)\n",
    "eventsSF['tourIndex_fixed'] = np.where((eventsSF['type'] == 'ModeChoice')&(eventsSF['replanningTime'].notna()), np.nan, eventsSF['tourIndex'])"
   ]
  },
  {
   "cell_type": "code",
   "execution_count": 50,
   "id": "1335cedb",
   "metadata": {},
   "outputs": [],
   "source": [
    "#eventsSF = eventsSF.set_index('IDMerged')"
   ]
  },
  {
   "cell_type": "code",
   "execution_count": 51,
   "id": "5beb42b2",
   "metadata": {},
   "outputs": [],
   "source": [
    "eventsSF['fuelFood'] = np.where((eventsSF['type']=='PathTraversal')&(eventsSF['primaryFuelType']=='Food'), \n",
    "                                eventsSF['primaryFuel'], np.nan)"
   ]
  },
  {
   "cell_type": "code",
   "execution_count": 52,
   "id": "f6880cae",
   "metadata": {},
   "outputs": [],
   "source": [
    "eventsSF['emissionFood'] = eventsSF['fuelFood'] * 8.3141841e-9 * 0"
   ]
  },
  {
   "cell_type": "code",
   "execution_count": 53,
   "id": "4104324f",
   "metadata": {},
   "outputs": [],
   "source": [
    "eventsSF['fuelElectricity'] = np.where((eventsSF['type']=='PathTraversal')&(eventsSF['primaryFuelType']=='Electricity'), \n",
    "                                eventsSF['primaryFuel'], np.nan)"
   ]
  },
  {
   "cell_type": "code",
   "execution_count": 54,
   "id": "ac8a70b7",
   "metadata": {},
   "outputs": [],
   "source": [
    "eventsSF['emissionElectricity'] = eventsSF['fuelElectricity'] * 2.77778e-10 * 947.2 * 0.0005"
   ]
  },
  {
   "cell_type": "code",
   "execution_count": 55,
   "id": "32f9c7d4",
   "metadata": {},
   "outputs": [],
   "source": [
    "eventsSF['fuelDiesel'] = np.where((eventsSF['type']=='PathTraversal')&(eventsSF['primaryFuelType']=='Diesel'), \n",
    "                                eventsSF['primaryFuel'], np.nan)"
   ]
  },
  {
   "cell_type": "code",
   "execution_count": 56,
   "id": "791a7e19",
   "metadata": {},
   "outputs": [],
   "source": [
    "eventsSF['emissionDiesel'] = eventsSF['fuelDiesel'] * 8.3141841e-9 * 10.180e-3"
   ]
  },
  {
   "cell_type": "code",
   "execution_count": 57,
   "id": "e8f68e5c",
   "metadata": {},
   "outputs": [],
   "source": [
    "eventsSF['fuelBiodiesel'] = np.where((eventsSF['type']=='PathTraversal')&(eventsSF['primaryFuelType']=='Biodiesel'), \n",
    "                                eventsSF['primaryFuel'], np.nan)"
   ]
  },
  {
   "cell_type": "code",
   "execution_count": 58,
   "id": "bfcfbcce",
   "metadata": {},
   "outputs": [],
   "source": [
    "eventsSF['emissionBiodiesel'] = eventsSF['fuelBiodiesel'] * 8.3141841e-9 * 10.180e-3"
   ]
  },
  {
   "cell_type": "code",
   "execution_count": 59,
   "id": "5e752231",
   "metadata": {},
   "outputs": [],
   "source": [
    "eventsSF['fuel_not_Food'] = np.where((eventsSF['type']=='PathTraversal')&(eventsSF['primaryFuelType']!='Food')\n",
    "                            , eventsSF['primaryFuel']+eventsSF['secondaryFuel'], np.nan)"
   ]
  },
  {
   "cell_type": "code",
   "execution_count": 60,
   "id": "bfc1273e",
   "metadata": {},
   "outputs": [],
   "source": [
    "eventsSF['fuelGasoline'] = np.where((eventsSF['type']=='PathTraversal')&((eventsSF['primaryFuelType']=='Gasoline')|(eventsSF['secondaryFuelType']=='Gasoline')), \n",
    "                           eventsSF['primaryFuel']+eventsSF['secondaryFuel'], np.nan)"
   ]
  },
  {
   "cell_type": "code",
   "execution_count": 61,
   "id": "fa3174aa",
   "metadata": {},
   "outputs": [],
   "source": [
    "eventsSF['emissionGasoline'] = eventsSF['fuelGasoline'] * 8.3141841e-9 * 8.89e-3"
   ]
  },
  {
   "cell_type": "code",
   "execution_count": 62,
   "id": "a62efea2",
   "metadata": {},
   "outputs": [],
   "source": [
    "# Marginal fuel\n",
    "conditions  = [(eventsSF['modeBEAM_rh'] == 'ride_hail_pooled'), \n",
    "               (eventsSF['modeBEAM_rh'] == 'walk_transit') | (eventsSF['modeBEAM_rh'] == 'drive_transit')|\n",
    "               (eventsSF['modeBEAM_rh'] == 'ride_hail_transit')|(eventsSF['modeBEAM_rh'] == 'bus')|(eventsSF['modeBEAM_rh'] == 'subway')|\n",
    "               (eventsSF['modeBEAM_rh'] == 'rail')|(eventsSF['modeBEAM_rh'] == 'tram')|(eventsSF['modeBEAM_rh'] == 'cable_car')|\n",
    "               (eventsSF['modeBEAM_rh'] == 'bike_transit'),\n",
    "               (eventsSF['modeBEAM_rh'] == 'walk')|(eventsSF['modeBEAM_rh'] == 'bike'),\n",
    "               (eventsSF['modeBEAM_rh'] == 'ride_hail')|(eventsSF['modeBEAM_rh'] == 'car')| \n",
    "               (eventsSF['modeBEAM_rh'] == 'car_hov2')| (eventsSF['modeBEAM_rh'] == 'car_hov3')|\n",
    "               (eventsSF['modeBEAM_rh'] == 'hov2_teleportation')| (eventsSF['modeBEAM_rh'] == 'hov3_teleportation')]\n",
    "choices = [eventsSF['fuel_not_Food']/eventsSF['numPassengers'], 0 , eventsSF['fuelFood'], eventsSF['fuel_not_Food']]"
   ]
  },
  {
   "cell_type": "code",
   "execution_count": 63,
   "id": "cdd142f0",
   "metadata": {},
   "outputs": [],
   "source": [
    "eventsSF['fuel_marginal'] = np.select(conditions, choices, default=np.nan)"
   ]
  },
  {
   "cell_type": "code",
   "execution_count": 64,
   "id": "4eca5a86",
   "metadata": {},
   "outputs": [],
   "source": [
    "# Marginal emission\n",
    "conditions1  = [(eventsSF['modeBEAM_rh'] == 'ride_hail_pooled') & (eventsSF['fuelElectricity'].notna() != 0), \n",
    "               (eventsSF['modeBEAM_rh'] == 'ride_hail_pooled') & (eventsSF['fuelGasoline'].notna() != 0),\n",
    "               (eventsSF['modeBEAM_rh'] == 'ride_hail_pooled') & (eventsSF['fuelBiodiesel'].notna() != 0),\n",
    "               (eventsSF['modeBEAM_rh'] == 'ride_hail_pooled') & (eventsSF['fuelDiesel'].notna() != 0),             \n",
    "               (eventsSF['modeBEAM_rh'] == 'walk_transit') | (eventsSF['modeBEAM_rh'] == 'drive_transit')|\n",
    "               (eventsSF['modeBEAM_rh'] == 'ride_hail_transit')|(eventsSF['modeBEAM_rh'] == 'bus')|(eventsSF['modeBEAM_rh'] == 'subway')|\n",
    "               (eventsSF['modeBEAM_rh'] == 'rail')|(eventsSF['modeBEAM_rh'] == 'tram')|(eventsSF['modeBEAM_rh'] == 'cable_car')|\n",
    "               (eventsSF['modeBEAM_rh'] == 'bike_transit'),\n",
    "\n",
    "               (eventsSF['modeBEAM_rh'] == 'walk')|(eventsSF['modeBEAM_rh'] == 'bike'),\n",
    "               \n",
    "               (eventsSF['modeBEAM_rh'] == 'ride_hail')|(eventsSF['modeBEAM_rh'] == 'car')| \n",
    "               (eventsSF['modeBEAM_rh'] == 'car_hov2')| (eventsSF['modeBEAM_rh'] == 'car_hov3')|\n",
    "               (eventsSF['modeBEAM_rh'] == 'hov2_teleportation')| (eventsSF['modeBEAM_rh'] == 'hov3_teleportation')&\n",
    "               (eventsSF['fuelElectricity'].notna() != 0),\n",
    "              \n",
    "               (eventsSF['modeBEAM_rh'] == 'ride_hail')|(eventsSF['modeBEAM_rh'] == 'car')| \n",
    "               (eventsSF['modeBEAM_rh'] == 'car_hov2')| (eventsSF['modeBEAM_rh'] == 'car_hov3')|\n",
    "               (eventsSF['modeBEAM_rh'] == 'hov2_teleportation')| (eventsSF['modeBEAM_rh'] == 'hov3_teleportation')&\n",
    "               (eventsSF['fuelGasoline'].notna() != 0),           \n",
    "              \n",
    "               (eventsSF['modeBEAM_rh'] == 'ride_hail')|(eventsSF['modeBEAM_rh'] == 'car')| \n",
    "               (eventsSF['modeBEAM_rh'] == 'car_hov2')| (eventsSF['modeBEAM_rh'] == 'car_hov3')|\n",
    "               (eventsSF['modeBEAM_rh'] == 'hov2_teleportation')| (eventsSF['modeBEAM_rh'] == 'hov3_teleportation')&\n",
    "               (eventsSF['fuelBiodiesel'].notna() != 0),   \n",
    "               \n",
    "               (eventsSF['modeBEAM_rh'] == 'ride_hail')|(eventsSF['modeBEAM_rh'] == 'car')| \n",
    "               (eventsSF['modeBEAM_rh'] == 'car_hov2')| (eventsSF['modeBEAM_rh'] == 'car_hov3')|\n",
    "               (eventsSF['modeBEAM_rh'] == 'hov2_teleportation')| (eventsSF['modeBEAM_rh'] == 'hov3_teleportation')&\n",
    "               (eventsSF['fuelDiesel'].notna() != 0),\n",
    "\n",
    "               (eventsSF['modeBEAM_rh'] == 'ride_hail')|(eventsSF['modeBEAM_rh'] == 'car')| \n",
    "               (eventsSF['modeBEAM_rh'] == 'car_hov2')| (eventsSF['modeBEAM_rh'] == 'car_hov3')|\n",
    "               (eventsSF['modeBEAM_rh'] == 'hov2_teleportation')| (eventsSF['modeBEAM_rh'] == 'hov3_teleportation')&\n",
    "               (eventsSF['fuelFood'].notna() != 0)]\n",
    "\n",
    "choices1 = [eventsSF['emissionElectricity']/eventsSF['numPassengers'],\n",
    "           eventsSF['emissionGasoline']/eventsSF['numPassengers'],\n",
    "           eventsSF['emissionBiodiesel']/eventsSF['numPassengers'],\n",
    "           eventsSF['emissionDiesel']/eventsSF['numPassengers'],           \n",
    "           0 , \n",
    "           eventsSF['emissionFood'], \n",
    "           eventsSF['emissionElectricity'],\n",
    "           eventsSF['emissionGasoline'],\n",
    "           eventsSF['emissionBiodiesel'],\n",
    "           eventsSF['emissionDiesel'],\n",
    "           eventsSF['emissionFood']]"
   ]
  },
  {
   "cell_type": "code",
   "execution_count": 65,
   "id": "fb19ee46",
   "metadata": {},
   "outputs": [],
   "source": [
    "eventsSF['emission_marginal'] = np.select(conditions1, choices1, default=np.nan)"
   ]
  },
  {
   "cell_type": "code",
   "execution_count": 66,
   "id": "1bb135e2",
   "metadata": {},
   "outputs": [],
   "source": [
    "eventsSF['actEndType'] = np.where(eventsSF['type']=='actend', eventsSF['actType'], \"\")"
   ]
  },
  {
   "cell_type": "code",
   "execution_count": 67,
   "id": "52f9f171",
   "metadata": {},
   "outputs": [],
   "source": [
    "eventsSF['actStartType'] = np.where(eventsSF['type']=='actstart', eventsSF['actType'], \"\")"
   ]
  },
  {
   "cell_type": "markdown",
   "id": "d3b8bb89",
   "metadata": {},
   "source": [
    "#### Trip Index"
   ]
  },
  {
   "cell_type": "code",
   "execution_count": 68,
   "id": "5be797be",
   "metadata": {},
   "outputs": [],
   "source": [
    "#eventsSF[\"tripIndex\"] = eventsSF.groupby(\"IDMerged\")[\"tourIndex_fixed\"].rank(method=\"first\", ascending=True)\n",
    "eventsSF[\"tripIndex\"] = eventsSF.tripId.fillna(method='ffill')"
   ]
  },
  {
   "cell_type": "markdown",
   "id": "3bd20fe1",
   "metadata": {},
   "source": [
    "#### Mode Choice planned and actual"
   ]
  },
  {
   "cell_type": "code",
   "execution_count": 69,
   "id": "9ecaf4ba",
   "metadata": {},
   "outputs": [
    {
     "name": "stdout",
     "output_type": "stream",
     "text": [
      "CPU times: total: 8.22 s\n",
      "Wall time: 8.22 s\n"
     ]
    }
   ],
   "source": [
    "%%time\n",
    "eventsSF['mode_choice_actual_BEAM'] = eventsSF.groupby(['IDMerged','tripId', 'type'])['modeBEAM'].transform('last')"
   ]
  },
  {
   "cell_type": "code",
   "execution_count": null,
   "id": "ed171398",
   "metadata": {},
   "outputs": [],
   "source": [
    "%%time\n",
    "eventsSF['mode_choice_planned_BEAM'] = eventsSF.groupby(['IDMerged','tripId', 'type'])['modeBEAM'].transform('first')"
   ]
  },
  {
   "cell_type": "code",
   "execution_count": null,
   "id": "723f03e6",
   "metadata": {},
   "outputs": [],
   "source": [
    "eventsSF['mode_choice_actual_BEAM'] = np.where(eventsSF['type'] != 'ModeChoice' , np.nan, eventsSF['mode_choice_actual_BEAM'])"
   ]
  },
  {
   "cell_type": "code",
   "execution_count": null,
   "id": "8bac64c3",
   "metadata": {},
   "outputs": [],
   "source": [
    "eventsSF['mode_choice_planned_BEAM'] = np.where(eventsSF['type'] != 'ModeChoice' , np.nan, eventsSF['mode_choice_planned_BEAM'])"
   ]
  },
  {
   "cell_type": "code",
   "execution_count": null,
   "id": "bd021670",
   "metadata": {},
   "outputs": [],
   "source": [
    "# Rename the \"netCost\" column\n",
    "eventsSF.rename(columns={\"netCost\":\"cost_BEAM\"}, inplace=True) "
   ]
  },
  {
   "cell_type": "code",
   "execution_count": null,
   "id": "6dca051c",
   "metadata": {},
   "outputs": [],
   "source": [
    "# Replanning events = 1, the rest = 0\n",
    "eventsSF['replanning_status'] = np.where(eventsSF['type']=='Replanning', 1, 0)"
   ]
  },
  {
   "cell_type": "code",
   "execution_count": null,
   "id": "11d6986e",
   "metadata": {},
   "outputs": [],
   "source": [
    "%%time\n",
    "eventsSF['reason'].replace('nan', np.NaN)"
   ]
  },
  {
   "cell_type": "code",
   "execution_count": null,
   "id": "e2809aa0",
   "metadata": {},
   "outputs": [],
   "source": [
    "eventsSF['transit_bus'] = np.where(eventsSF['modeBEAM_rh']=='bus', 1, 0)\n",
    "eventsSF['transit_subway'] = np.where(eventsSF['modeBEAM_rh']=='subway', 1, 0)\n",
    "eventsSF['transit_tram'] = np.where(eventsSF['modeBEAM_rh']=='tram', 1, 0)\n",
    "eventsSF['transit_rail'] = np.where(eventsSF['modeBEAM_rh']=='rail', 1, 0)\n",
    "eventsSF['transit_cable_car'] = np.where(eventsSF['modeBEAM_rh']=='cable_car', 1, 0)"
   ]
  },
  {
   "cell_type": "code",
   "execution_count": null,
   "id": "07b5229c",
   "metadata": {},
   "outputs": [],
   "source": [
    "eventsSF['ride_hail_pooled'] = np.where(eventsSF['modeBEAM_rh']=='ride_hail_pooled', 1, 0)"
   ]
  },
  {
   "cell_type": "code",
   "execution_count": null,
   "id": "4a679675",
   "metadata": {},
   "outputs": [],
   "source": [
    "%%time\n",
    "Person_Trip_eventsSF = pd.pivot_table(\n",
    "   eventsSF,\n",
    "   index=['IDMerged','tripIndex'],\n",
    "   aggfunc={'actStartTime': np.sum, \n",
    "            'actEndTime': np.sum, \n",
    "            'duration_travelling': np.sum, \n",
    "            'cost_BEAM': np.sum, \n",
    "            'actStartType': np.sum, \n",
    "            'actEndType': np.sum, \n",
    "            'duration_walking': np.sum, \n",
    "            'duration_in_privateCar': np.sum, \n",
    "            'duration_on_bike': np.sum, \n",
    "            'duration_in_ridehail': np.sum, \n",
    "            'distance_travelling': np.sum, \n",
    "            'duration_in_transit': np.sum, \n",
    "            'distance_walking': np.sum, \n",
    "            'distance_bike': np.sum, \n",
    "            'distance_ridehail': np.sum, \n",
    "            'distance_privateCar': np.sum, \n",
    "            'distance_transit': np.sum, \n",
    "            'legVehicleIds': np.sum, \n",
    "            'mode_choice_planned_BEAM':lambda x: ', '.join(set(x.dropna().astype(str))),\n",
    "            'mode_choice_actual_BEAM':lambda x: ', '.join(set(x.dropna().astype(str))),\n",
    "            'vehicle': lambda x: ', '.join(set(x.dropna().astype(str))),\n",
    "            'numPassengers': lambda x: ', '.join(list(x.dropna().astype(str))),\n",
    "            'distance_mode_choice': np.sum,\n",
    "            'replanning_status': np.sum,\n",
    "            'reason': lambda x: ', '.join(list(x.dropna().astype(str))),\n",
    "            'parkingType': lambda x: ', '.join(list(x.dropna().astype(str))),\n",
    "            'transit_bus': np.sum, \n",
    "            'transit_subway': np.sum, \n",
    "            'transit_tram': np.sum, \n",
    "            'transit_cable_car': np.sum,\n",
    "            'ride_hail_pooled': np.sum, \n",
    "            'transit_rail': np.sum,\n",
    "            'year': lambda x: ', '.join(set(x.dropna().astype(str))),\n",
    "            'lever_position': lambda x: ', '.join(set(x.dropna().astype(str))),\n",
    "            'scenario': lambda x: ', '.join(set(x.dropna().astype(str))),\n",
    "            'fuelFood': np.sum, \n",
    "            'fuelElectricity': np.sum, \n",
    "            'fuelBiodiesel': np.sum, \n",
    "            'fuelDiesel': np.sum, \n",
    "            'fuel_not_Food': np.sum, \n",
    "            'fuelGasoline': np.sum, \n",
    "            'fuel_marginal': np.sum,\n",
    "            'emissionFood': np.sum, \n",
    "            'emissionElectricity': np.sum, \n",
    "            'emissionDiesel': np.sum, \n",
    "            'emissionGasoline': np.sum,\n",
    "            'emissionBiodiesel': np.sum, \n",
    "            'emission_marginal': np.sum,\n",
    "            'lever': lambda x: ', '.join(set(x.dropna().astype(str)))\n",
    "           }).reset_index() \n",
    "\n",
    "#'numPassengers': lambda x: ', '.join(set(x.dropna().astype(str))) \n",
    "#'mode_choice_actual_BEAM':lambda x: ', '.join(set(x.dropna().astype(str))) #\n",
    "#'modeBEAM_rh': lambda x: ', '.join(list(x.dropna().astype(str))), "
   ]
  },
  {
   "cell_type": "code",
   "execution_count": null,
   "id": "dc3ac897",
   "metadata": {},
   "outputs": [],
   "source": [
    "Person_Trip_eventsSF['duration_door_to_door'] = Person_Trip_eventsSF['actStartTime'] - Person_Trip_eventsSF['actEndTime'] "
   ]
  },
  {
   "cell_type": "code",
   "execution_count": null,
   "id": "03bd08b4",
   "metadata": {},
   "outputs": [],
   "source": [
    "Person_Trip_eventsSF['waitTime'] = Person_Trip_eventsSF['duration_door_to_door'] - Person_Trip_eventsSF['duration_travelling'] "
   ]
  },
  {
   "cell_type": "code",
   "execution_count": null,
   "id": "28560b3b",
   "metadata": {},
   "outputs": [],
   "source": [
    "Person_Trip_eventsSF['actPurpose'] = Person_Trip_eventsSF['actEndType'].astype(str) + \"_to_\" + Person_Trip_eventsSF['actStartType'].astype(str)"
   ]
  },
  {
   "cell_type": "code",
   "execution_count": null,
   "id": "d3a96721",
   "metadata": {},
   "outputs": [],
   "source": [
    "Person_Trip_eventsSF.rename(columns={\"legVehicleIds\":\"vehicleIds_estimate\"}, inplace=True) "
   ]
  },
  {
   "cell_type": "code",
   "execution_count": null,
   "id": "b8d2f547",
   "metadata": {},
   "outputs": [],
   "source": [
    "Person_Trip_eventsSF.rename(columns={\"vehicle\":\"vehicleIds\"}, inplace=True) "
   ]
  },
  {
   "cell_type": "code",
   "execution_count": null,
   "id": "3c0e1bd0",
   "metadata": {},
   "outputs": [],
   "source": [
    "# Column with five summarized modes\n",
    "conditions  = [(Person_Trip_eventsSF['mode_choice_actual_BEAM'] == 'ride_hail') | (Person_Trip_eventsSF['mode_choice_actual_BEAM'] == 'ride_hail_pooled'), \n",
    "               (Person_Trip_eventsSF['mode_choice_actual_BEAM'] == 'walk_transit') | (Person_Trip_eventsSF['mode_choice_actual_BEAM'] == 'drive_transit')| (Person_Trip_eventsSF['mode_choice_actual_BEAM'] == 'ride_hail_transit')|(Person_Trip_eventsSF['mode_choice_actual_BEAM'] == 'bike_transit'),\n",
    "               (Person_Trip_eventsSF['mode_choice_actual_BEAM'] == 'walk'), (Person_Trip_eventsSF['mode_choice_actual_BEAM'] == 'bike'),\n",
    "               (Person_Trip_eventsSF['mode_choice_actual_BEAM'] == 'car') | (Person_Trip_eventsSF['mode_choice_actual_BEAM'] == 'car_hov2')| (Person_Trip_eventsSF['mode_choice_actual_BEAM'] == 'car_hov3')|(Person_Trip_eventsSF['mode_choice_actual_BEAM'] == 'hov2_teleportation')| (Person_Trip_eventsSF['mode_choice_actual_BEAM'] == 'hov3_teleportation')]\n",
    "choices = [ 'ride_hail', 'transit', 'walk', 'bike', 'car']"
   ]
  },
  {
   "cell_type": "code",
   "execution_count": null,
   "id": "86cb946d",
   "metadata": {},
   "outputs": [],
   "source": [
    "Person_Trip_eventsSF['mode_choice_actual_5'] = np.select(conditions, choices, default=np.nan)"
   ]
  },
  {
   "cell_type": "code",
   "execution_count": null,
   "id": "8b02ea2e",
   "metadata": {},
   "outputs": [],
   "source": [
    "# Column with six summarized modes\n",
    "conditions  = [(Person_Trip_eventsSF['mode_choice_actual_BEAM'] == 'ride_hail') | (Person_Trip_eventsSF['mode_choice_actual_BEAM'] == 'ride_hail_pooled'), \n",
    "               (Person_Trip_eventsSF['mode_choice_actual_BEAM'] == 'walk_transit') | (Person_Trip_eventsSF['mode_choice_actual_BEAM'] == 'drive_transit')|(Person_Trip_eventsSF['mode_choice_actual_BEAM'] == 'bike_transit'),\n",
    "               (Person_Trip_eventsSF['mode_choice_actual_BEAM'] == 'walk'), (Person_Trip_eventsSF['mode_choice_actual_BEAM'] == 'bike'),\n",
    "               (Person_Trip_eventsSF['mode_choice_actual_BEAM'] == 'car') | (Person_Trip_eventsSF['mode_choice_actual_BEAM'] == 'car_hov2')| (Person_Trip_eventsSF['mode_choice_actual_BEAM'] == 'car_hov3')|(Person_Trip_eventsSF['mode_choice_actual_BEAM'] == 'hov2_teleportation')| (Person_Trip_eventsSF['mode_choice_actual_BEAM'] == 'hov3_teleportation'),\n",
    "               (Person_Trip_eventsSF['mode_choice_actual_BEAM'] == 'ride_hail_transit')]\n",
    "choices = [ 'ride_hail', 'transit', 'walk', 'bike', 'car', 'ride_hail_transit']"
   ]
  },
  {
   "cell_type": "code",
   "execution_count": null,
   "id": "b63121f4",
   "metadata": {},
   "outputs": [],
   "source": [
    "Person_Trip_eventsSF['mode_choice_actual_6'] = np.select(conditions, choices, default=np.nan)"
   ]
  },
  {
   "cell_type": "code",
   "execution_count": null,
   "id": "649260ae",
   "metadata": {},
   "outputs": [],
   "source": [
    "Person_Trip_eventsSF = Person_Trip_eventsSF.drop(Person_Trip_eventsSF[Person_Trip_eventsSF.duration_door_to_door < 0].index)"
   ]
  },
  {
   "cell_type": "code",
   "execution_count": null,
   "id": "2d2b37e2",
   "metadata": {},
   "outputs": [],
   "source": [
    "#Person_Trip_eventsSF.to_csv('s3://beam-core-act/deepDive/CleanData/SanFrancisco/Ridehail_Wheelchair_Accessibility/sf_2018_rh_wc_0_BEAM.csv', index = False)"
   ]
  },
  {
   "cell_type": "markdown",
   "id": "557c5804",
   "metadata": {},
   "source": [
    "#### Merging with ActivitySim files"
   ]
  },
  {
   "cell_type": "code",
   "execution_count": null,
   "id": "13594e0f",
   "metadata": {},
   "outputs": [],
   "source": [
    "households = pd.read_csv(\"gs://beam-core-outputs/sfbay-2010-small-20220816/activitysim/year-2010-iteration-5/households.csv.gz\", compression = 'gzip')"
   ]
  },
  {
   "cell_type": "code",
   "execution_count": null,
   "id": "df5a30c8",
   "metadata": {},
   "outputs": [],
   "source": [
    "persons = pd.read_csv(\"gs://beam-core-outputs/sfbay-2010-small-20220816/activitysim/year-2010-iteration-5/persons.csv.gz\", compression = 'gzip')"
   ]
  },
  {
   "cell_type": "code",
   "execution_count": null,
   "id": "60622ab1",
   "metadata": {},
   "outputs": [],
   "source": [
    "tours = pd.read_csv(\"gs://beam-core-outputs/sfbay-2010-small-20220816/activitysim/year-2010-iteration-5/final_tours.csv\")"
   ]
  },
  {
   "cell_type": "code",
   "execution_count": null,
   "id": "974cafe1",
   "metadata": {},
   "outputs": [],
   "source": [
    "trips = pd.read_csv(\"gs://beam-core-outputs/sfbay-2010-small-20220816/activitysim/year-2010-iteration-5/final_trips.csv\")"
   ]
  },
  {
   "cell_type": "code",
   "execution_count": null,
   "id": "fc9f6e38",
   "metadata": {},
   "outputs": [],
   "source": [
    "#actloc_2018_baseline = \"https://beam-outputs.s3.amazonaws.com/pilates-outputs/sfbay-base-20220409/activitysim/\"\n",
    "#actloc_2018_transitFreq05 = \"https://beam-outputs.s3.amazonaws.com/pilates-outputs/sfbay-transit_frequencies_0.5-20220528/activitysim/\"\n",
    "#actloc_2018_transitFreq1p5 = \"https://beam-outputs.s3.amazonaws.com/pilates-outputs/sfbay-transit_frequencies_1.5-20220529/activitysim/\"\n",
    "#actloc_2018_transitFreq2 = \"https://beam-outputs.s3.amazonaws.com/pilates-outputs/sfbay-transit_frequencies_2.0-20220529/activitysim/\"\n",
    "#actloc_2018_rhFleetsz0125 = \"https://beam-outputs.s3.amazonaws.com/pilates-outputs/sfbay-RH_fleetsz_0.125-20220408/activitysim/\"\n",
    "#actloc_2018_rhFleetsz175 = \"https://beam-outputs.s3.amazonaws.com/pilates-outputs/sfbay-RH_fleetsz_1.75-20220408/activitysim/\"\n",
    "\n",
    "#households = pd.read_csv(actloc_2018_baseline + 'final_households.csv')\n",
    "#persons = pd.read_csv(actloc_2018_baseline + 'final_persons.csv')\n",
    "#tours = pd.read_csv(actloc_2018_baseline +'final_tours.csv')\n",
    "#plans = pd.read_csv(actloc_2018_baseline +'final_plans.csv')\n",
    "#trips = pd.read_csv(actloc_2018_baseline + 'final_trips.csv')\n",
    "#landuse = pd.read_csv(actloc_2018_baseline + 'final_land_use.csv')"
   ]
  },
  {
   "cell_type": "code",
   "execution_count": null,
   "id": "2f940ac2",
   "metadata": {},
   "outputs": [],
   "source": [
    "# PUMS data for Disability information\n",
    "#filename = \"C:/Shared-Work/Data/Disability_PUMS/custom_mpo_06197001_model_data.h5\"\n",
    "\n",
    "#with h5py.File(filename, \"r\") as f:\n",
    "    # List all groups\n",
    "    #print(\"Keys: %s\" % f.keys())\n",
    "    #a_group_key = list(f.keys())[0]\n",
    "\n",
    "    # Get the data\n",
    "    #data = list(f[a_group_key])"
   ]
  },
  {
   "cell_type": "code",
   "execution_count": null,
   "id": "287187c2",
   "metadata": {},
   "outputs": [],
   "source": [
    "# PUMS data for Disability information\n",
    "#person_5_year_2010 = pd.read_csv('C:/Users/nazanin/Downloads/csv_pca/ss13pca.csv')\n",
    "#housing_unit_5_year_2010 = pd.read_csv('C:/Users/nazanin/Downloads/csv_hca/ss13hca.csv')"
   ]
  },
  {
   "cell_type": "code",
   "execution_count": null,
   "id": "9b529434",
   "metadata": {},
   "outputs": [],
   "source": [
    "# PUMS data for Disability information\n",
    "#key = \"deepDive/RawData/Disability/ss13pca.csv\"\n",
    "#obj = s3.get_object(Bucket=\"beam-core-act\", Key=key)\n",
    "#person_5_year_2010 = pd.read_csv(obj['Body'])"
   ]
  },
  {
   "cell_type": "code",
   "execution_count": null,
   "id": "bdd227ca",
   "metadata": {},
   "outputs": [],
   "source": [
    "# PUMS data for Disability information\n",
    "#key = \"deepDive/RawData/Disability/ss13hca.csv\"\n",
    "#obj = s3.get_object(Bucket=\"beam-core-act\", Key=key)\n",
    "#housing_unit_5_year_2010 = pd.read_csv(obj['Body'])"
   ]
  },
  {
   "cell_type": "code",
   "execution_count": null,
   "id": "fa208ddf",
   "metadata": {},
   "outputs": [],
   "source": [
    "# Merge PUMS households and persons \n",
    "#person_5_year_2010 = person_5_year_2010.sort_values(by=['SERIALNO']).reset_index()\n",
    "#housing_unit_5_year_2010 = housing_unit_5_year_2010.sort_values(by=['SERIALNO']).reset_index()\n",
    "#hhpersons_PUMS2010 = pd.merge(left=person_5_year_2010, right=housing_unit_5_year_2010, how='left', on='SERIALNO')"
   ]
  },
  {
   "cell_type": "code",
   "execution_count": null,
   "id": "47b6ea7f",
   "metadata": {},
   "outputs": [],
   "source": [
    "# Merge BEAM households and persons \n",
    "persons = persons.sort_values(by=['household_id']).reset_index(drop=True)\n",
    "households = households.sort_values(by=['household_id']).reset_index(drop=True)\n",
    "hhpersons = pd.merge(left=persons, right=households, how='left', on='household_id')\n",
    "#hhpersons = pd.merge(left=persons, right=households, how='left', on='household_id', suffixes=('', '_drop'))\n",
    "#hhpersons.drop([col for col in hhpersons.columns if 'drop' in col], axis=1, inplace=True)"
   ]
  },
  {
   "cell_type": "code",
   "execution_count": null,
   "id": "f3ff157e",
   "metadata": {},
   "outputs": [],
   "source": [
    "# Merge Disability Columns\n",
    "#hhpersons_PUMS2010 = hhpersons_PUMS2010.sort_values(by=['SERIALNO', 'SPORDER']).reset_index(drop=True)\n",
    "#hhpersons = hhpersons.sort_values(by=['serialno', 'PNUM']).reset_index(drop=True)\n",
    "#hhpersonsDIS = pd.merge(hhpersons, hhpersons_PUMS2010[['SERIALNO', 'SPORDER', 'AGEP', 'SEX', 'DIS', 'HINCP', 'VEH', 'JWMNP', 'JWRIP', 'JWTR', 'RAC1P', 'RAC2P05']], how='left',left_on = ['serialno', 'PNUM'] , right_on=['SERIALNO', 'SPORDER'])"
   ]
  },
  {
   "cell_type": "code",
   "execution_count": null,
   "id": "5b20c94f",
   "metadata": {},
   "outputs": [],
   "source": [
    "# Merge tours, households and persons\n",
    "tours = tours.sort_values(by=['person_id']).reset_index(drop=True)\n",
    "hhpersons = hhpersons.sort_values(by=['person_id']).reset_index(drop=True)\n",
    "hhperTours = pd.merge(left=tours, right=hhpersons, how='left', on='person_id')\n",
    "#hhperTours = pd.merge(left=tours, right=hhpersons, how='left', on='person_id', suffixes=('', '_drop'))\n",
    "#hhperTours.drop([col for col in hhperTours.columns if 'drop' in col], axis=1, inplace=True)"
   ]
  },
  {
   "cell_type": "code",
   "execution_count": null,
   "id": "6ef8c6a0",
   "metadata": {},
   "outputs": [],
   "source": [
    "# Merge trips, tours, households and persons\n",
    "trips = trips.sort_values(by=['person_id', 'tour_id']).reset_index(drop=True)\n",
    "hhperTours = hhperTours.sort_values(by=['person_id','tour_id']).reset_index(drop=True)\n",
    "tourTripsMerged = pd.merge(left=trips, right=hhperTours, how='left', on=['person_id','tour_id'])\n",
    "#tourTripsMerged = pd.merge(left=trips, right=hhperTours, how='left', on=['person_id','tour_id'], suffixes=('', '_drop'))\n",
    "#tourTripsMerged.drop([col for col in tourTripsMerged.columns if 'drop' in col], axis=1, inplace=True)"
   ]
  },
  {
   "cell_type": "code",
   "execution_count": null,
   "id": "60bf4e65",
   "metadata": {},
   "outputs": [],
   "source": [
    "# Merge trips, tours, households, and persons with land-use\n",
    "#landuse = landuse.sort_values(by=['TAZ'])\n",
    "#tourTripsMerged = tourTripsMerged.sort_values(by=['TAZ'])\n",
    "#landuseTripsMerged = pd.merge(tourTripsMerged, landuse, how='left', left_on='TAZ', right_on='TAZ', suffixes=('', '_drop'))\n",
    "#landuseTripsMerged.drop([col for col in landuseTripsMerged.columns if 'drop' in col], axis=1, inplace=True)"
   ]
  },
  {
   "cell_type": "code",
   "execution_count": null,
   "id": "eccb3f47",
   "metadata": {},
   "outputs": [],
   "source": [
    "# Concat mode_choice_raw files\n",
    "#path = \"C:/Users/nazanin/Downloads/trip_mode_choice/trip_mode_choice/\"\n",
    "#all_files = glob.glob(path + \"*raw.csv\")\n",
    "#li_mapper = map(lambda filename: pd.read_csv(filename, index_col = None, header = 0), all_files)\n",
    "#li2 = list(li_mapper)\n",
    "#SFmode_choice_raw = pd.concat(li2, axis = 0, ignore_index=True)"
   ]
  },
  {
   "cell_type": "code",
   "execution_count": null,
   "id": "aa064697",
   "metadata": {},
   "outputs": [],
   "source": [
    "# Concat mode_choice_utilities files - Download File from s3 bucket \n",
    "key = \"pilates-outputs/sfbay-rhprice0.0-rhfleet1.0-20220904/activitysim/year-2018-iteration-5/trip_mode_choice.zip\"  #the path should be updated\n",
    "s3.download_file(\n",
    "    Bucket=\"beam-outputs\", Key=key, Filename=\"trip_mode_choice.zip\")"
   ]
  },
  {
   "cell_type": "code",
   "execution_count": null,
   "id": "c00295c3",
   "metadata": {},
   "outputs": [],
   "source": [
    "# Automatically extracting ZipFile with a python command \n",
    "with ZipFile('trip_mode_choice.zip', 'r') as zipObj:\n",
    "   # Extract all the contents of zip file in current directory\n",
    "   zipObj.extractall()"
   ]
  },
  {
   "cell_type": "code",
   "execution_count": null,
   "id": "79e48f20",
   "metadata": {},
   "outputs": [],
   "source": [
    "# Concat mode_choice_utilities files\n",
    "path = \"C:/Users/nazanin/Downloads/sfbay-2010-small-20220816_activitysim_year-2010-iteration-5_trip_mode_choice/trip_mode_choice/\" #the path should be updated\n",
    "all_files = glob.glob(path + \"*utilities.csv\")\n",
    "li_mapper = map(lambda filename: pd.read_csv(filename, index_col = None, header = 0), all_files)\n",
    "li2 = list(li_mapper)\n",
    "SFmode_choice_utilities = pd.concat(li2, axis = 0, ignore_index=True)"
   ]
  },
  {
   "cell_type": "code",
   "execution_count": null,
   "id": "e8248f34",
   "metadata": {},
   "outputs": [],
   "source": [
    "# Merge mode_choice_raw and utilities\n",
    "#SFmode_choice_raw = SFmode_choice_raw.sort_values(by=['trip_id'])\n",
    "#SFmode_choice_utilities = SFmode_choice_utilities.sort_values(by=['trip_id'])\n",
    "#rawUtil = pd.merge(left=SFmode_choice_raw, right=SFmode_choice_utilities, how='left', on='trip_id')"
   ]
  },
  {
   "cell_type": "code",
   "execution_count": null,
   "id": "5035b857",
   "metadata": {},
   "outputs": [],
   "source": [
    "#just utilities\n",
    "# Merge trips, tours, households, persons, trip_mode_choice_raw, and utilities\n",
    "tourTripsMerged = tourTripsMerged.sort_values(by=['trip_id'])\n",
    "SFmode_choice_utilities = SFmode_choice_utilities.sort_values(by=['trip_id'])\n",
    "SFActMerged= pd.merge(left=tourTripsMerged, right=SFmode_choice_utilities, how='left', on=['trip_id'])"
   ]
  },
  {
   "cell_type": "code",
   "execution_count": null,
   "id": "fa758d1e",
   "metadata": {},
   "outputs": [],
   "source": [
    "# Both raw and utilities\n",
    "# Merge trips, tours, households, persons, trip_mode_choice_raw, and utilities\n",
    "#tourTripsMerged = tourTripsMerged.sort_values(by=['trip_id'])\n",
    "#rawUtil = rawUtil.sort_values(by=['trip_id'])\n",
    "#SFActMerged= pd.merge(left=tourTripsMerged, right=rawUtil, how='left', on=['trip_id'])"
   ]
  },
  {
   "cell_type": "code",
   "execution_count": null,
   "id": "96ae8686",
   "metadata": {},
   "outputs": [],
   "source": [
    "# Merge person_trip level BEAM with activity sim merged files\n",
    "SFActMerged = SFActMerged.sort_values(by=['person_id', 'trip_id']).reset_index(drop=True)\n",
    "Person_Trip_eventsSF = Person_Trip_eventsSF.sort_values(by=['IDMerged','tripIndex']).reset_index(drop=True)\n",
    "eventsASim = pd.merge(left=Person_Trip_eventsSF, right=SFActMerged, how='left', left_on=[\"IDMerged\", 'tripIndex'], right_on=['person_id', 'trip_id'])\n",
    "#eventsASim = pd.merge(left=Person_Trip_eventsSF, right=tourTripsMerged, how='left',left_on = [\"IDMerged\", 'tripId'] , right_on=['person_id', 'trip_id'], suffixes=('', '_drop'))\n",
    "#eventsASim.drop([col for col in eventsASim.columns if 'drop' in col], axis=1, inplace=True)"
   ]
  },
  {
   "cell_type": "code",
   "execution_count": null,
   "id": "72ae2d99",
   "metadata": {},
   "outputs": [],
   "source": [
    "eventsASim.rename(columns={\"mode_choice_logsum_y\":\"logsum_tours_mode_AS_tours\"}, inplace=True)"
   ]
  },
  {
   "cell_type": "code",
   "execution_count": null,
   "id": "7a0b2fcc",
   "metadata": {},
   "outputs": [],
   "source": [
    "eventsASim.rename(columns={\"tour_mode\":\"tour_mode_AS_tours\"}, inplace=True)"
   ]
  },
  {
   "cell_type": "code",
   "execution_count": null,
   "id": "0def8b02",
   "metadata": {},
   "outputs": [],
   "source": [
    "eventsASim.rename(columns={\"mode_choice_logsum_x\":\"logsum_trip_mode_AS_trips\"}, inplace=True)"
   ]
  },
  {
   "cell_type": "code",
   "execution_count": null,
   "id": "28906290",
   "metadata": {},
   "outputs": [],
   "source": [
    "eventsASim.rename(columns={\"trip_mode\":\"trip_mode_AS_trips\"}, inplace=True)"
   ]
  },
  {
   "cell_type": "code",
   "execution_count": null,
   "id": "a3fe03ae",
   "metadata": {},
   "outputs": [],
   "source": [
    "# Save the output file to S3\n",
    "eventsASim.to_csv('s3://beam-core-act/deepDive/CleanData/SanFrancisco/Ridehail_Wheelchair_Accessibility/sf_2018_rh_wc_0_small.csv', index=False)  #the path should be updated"
   ]
  },
  {
   "cell_type": "code",
   "execution_count": null,
   "id": "b97fa964",
   "metadata": {},
   "outputs": [],
   "source": [
    "# Delete the utilities files downloaded and saved in the system\n",
    "os.remove('C:/Users/nazanin/Documents/beam-core-analysis/Users/Nazanin/trip_mode_choice.zip')   #the path should be updated\n",
    "shutil.rmtree('C:/Users/nazanin/Documents/beam-core-analysis/Users/Nazanin/trip_mode_choice')   #the path should be updated"
   ]
  }
 ],
 "metadata": {
  "kernelspec": {
   "display_name": "Python 3 (ipykernel)",
   "language": "python",
   "name": "python3"
  },
  "language_info": {
   "codemirror_mode": {
    "name": "ipython",
    "version": 3
   },
   "file_extension": ".py",
   "mimetype": "text/x-python",
   "name": "python",
   "nbconvert_exporter": "python",
   "pygments_lexer": "ipython3",
   "version": "3.9.7"
  }
 },
 "nbformat": 4,
 "nbformat_minor": 5
}
