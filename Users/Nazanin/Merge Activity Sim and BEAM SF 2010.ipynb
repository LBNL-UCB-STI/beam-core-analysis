{
 "cells": [
  {
   "cell_type": "code",
   "execution_count": 32,
   "id": "a4e54365",
   "metadata": {},
   "outputs": [],
   "source": [
    "import pandas as pd\n",
    "import numpy as np\n",
    "import glob"
   ]
  },
  {
   "cell_type": "markdown",
   "id": "c8a71d13",
   "metadata": {},
   "source": [
    "#### BEAM "
   ]
  },
  {
   "cell_type": "code",
   "execution_count": 2,
   "id": "0e4e9d23",
   "metadata": {},
   "outputs": [],
   "source": [
    "#File location S3\n",
    "locSF_rh = \"https://beam-outputs.s3.amazonaws.com/pilates-outputs/sfbay-2010-lessrh-20220223/beam/year-2010-iteration-2/ITERS/it.0/\""
   ]
  },
  {
   "cell_type": "code",
   "execution_count": 3,
   "id": "77a1ae5e",
   "metadata": {},
   "outputs": [
    {
     "name": "stderr",
     "output_type": "stream",
     "text": [
      "C:\\Users\\nazanin\\.conda\\envs\\geo_env\\lib\\site-packages\\IPython\\core\\magics\\execution.py:1324: DtypeWarning: Columns (1,2,3,21,23,24,30,31,37,52) have mixed types.Specify dtype option on import or set low_memory=False.\n",
      "  exec(code, glob, local_ns)\n"
     ]
    },
    {
     "name": "stdout",
     "output_type": "stream",
     "text": [
      "Wall time: 2min 59s\n"
     ]
    }
   ],
   "source": [
    "%%time\n",
    "#Reading the events file\n",
    "dtypes = {\n",
    "    \"time\": \"float32\",\n",
    "    \"type\": \"category\",\n",
    "    \"legMode\": \"category\",\n",
    "    \"actType\": \"category\", \n",
    "    \"reason\": \"category\",\n",
    "    \"primaryFuelLevel\": \"float64\",\n",
    "    \"legMode\": \"category\",\n",
    "    \"chargingPointType\":\"category\",\n",
    "    \"pricingModel\":\"category\",\n",
    "    \"parkingType\":\"category\",\n",
    "    \"mode\":\"category\",\n",
    "    \"personalVehicleAvailable\": \"category\",\n",
    "    \"person\": \"object\",\n",
    "    \"driver\": \"object\",\n",
    "    \"riders\": \"object\"\n",
    "}\n",
    "\n",
    "# Use list comprehension to remove the unwanted column in **usecol**\n",
    "eventsSF = pd.read_csv(locSF_rh + '0.events.csv.gz', compression = 'gzip', dtype = dtypes)"
   ]
  },
  {
   "cell_type": "code",
   "execution_count": 4,
   "id": "c58a223c",
   "metadata": {},
   "outputs": [],
   "source": [
    "#Show all columns and rows\n",
    "pd.options.display.max_columns = None\n",
    "pd.options.display.max_rows = None"
   ]
  },
  {
   "cell_type": "code",
   "execution_count": 5,
   "id": "b81e498a",
   "metadata": {},
   "outputs": [],
   "source": [
    "#Rename mode column\n",
    "eventsSF.rename(columns={\"mode\":\"modeType\"}, inplace=True)  "
   ]
  },
  {
   "cell_type": "code",
   "execution_count": 6,
   "id": "c1b3674f",
   "metadata": {},
   "outputs": [],
   "source": [
    "#Replace \"Work\" with \"work\" in actType column\n",
    "eventsSF[\"actType\"].replace({\"Work\": \"work\"}, inplace=True)"
   ]
  },
  {
   "cell_type": "code",
   "execution_count": 7,
   "id": "fa30027b",
   "metadata": {},
   "outputs": [],
   "source": [
    "#Adding the IDMerged Column\n",
    "eventsSF['UniqueID'] = eventsSF['person']\n",
    "eventsSF['personID'] = np.where(eventsSF['person'].isin(eventsSF['driver'])\n",
    "                     , eventsSF['person'], np.nan)\n",
    "eventsSF['driverID'] = np.where(eventsSF['driver'].isin(eventsSF['person'])\n",
    "                     , eventsSF['driver'], np.nan)"
   ]
  },
  {
   "cell_type": "code",
   "execution_count": 8,
   "id": "e1dbfd16",
   "metadata": {},
   "outputs": [],
   "source": [
    "#Merging person and driver ids in one column\n",
    "eventsSF['IDMerged'] = eventsSF['personID'].combine_first(eventsSF['driverID'])\n",
    "eventsSF['IDMerged'] = eventsSF['UniqueID'].combine_first(eventsSF['IDMerged'])"
   ]
  },
  {
   "cell_type": "code",
   "execution_count": 9,
   "id": "c81ca74d",
   "metadata": {},
   "outputs": [],
   "source": [
    "#Dropping unused columns\n",
    "eventsSF = eventsSF.drop(['personID','driverID','UniqueID'], axis=1) "
   ]
  },
  {
   "cell_type": "code",
   "execution_count": 10,
   "id": "43abc85b",
   "metadata": {},
   "outputs": [
    {
     "name": "stdout",
     "output_type": "stream",
     "text": [
      "Wall time: 5min 51s\n"
     ]
    }
   ],
   "source": [
    "%%time\n",
    "#Split the riders column\n",
    "dfRiders = eventsSF['riders'].str.split(':',expand=True)"
   ]
  },
  {
   "cell_type": "code",
   "execution_count": 11,
   "id": "42066333",
   "metadata": {},
   "outputs": [],
   "source": [
    "riderStartIndex = len(eventsSF.columns)"
   ]
  },
  {
   "cell_type": "code",
   "execution_count": 12,
   "id": "ba485729",
   "metadata": {},
   "outputs": [],
   "source": [
    "#Concat the new riders columns to the main dataframe\n",
    "eventsSF = pd.concat([eventsSF, dfRiders.reindex(eventsSF.index)], axis=1)"
   ]
  },
  {
   "cell_type": "code",
   "execution_count": 13,
   "id": "a93d29c8",
   "metadata": {},
   "outputs": [
    {
     "name": "stdout",
     "output_type": "stream",
     "text": [
      "Wall time: 5min 51s\n"
     ]
    }
   ],
   "source": [
    "%%time\n",
    "# Making a riderID column and merge it with the already merged id column \n",
    "NaN = np.nan\n",
    "eventsSF['ID'] = NaN \n",
    "    \n",
    "for col in eventsSF.columns[riderStartIndex:-2]:\n",
    "    eventsSF['riderID'] = np.where(eventsSF[col].isin(eventsSF[\"IDMerged\"]), eventsSF[col], np.nan)\n",
    "    eventsSF['ID'] = eventsSF['ID'].combine_first(eventsSF['riderID'])"
   ]
  },
  {
   "cell_type": "code",
   "execution_count": 14,
   "id": "071cce01",
   "metadata": {},
   "outputs": [],
   "source": [
    "eventsSF['IDMerged'] = eventsSF['IDMerged'].combine_first(eventsSF['ID'])"
   ]
  },
  {
   "cell_type": "code",
   "execution_count": 15,
   "id": "0eab4dd8",
   "metadata": {},
   "outputs": [],
   "source": [
    "#dropping unused riders columns\n",
    "eventsSF = eventsSF.drop(columns=eventsSF.columns[riderStartIndex:])"
   ]
  },
  {
   "cell_type": "code",
   "execution_count": 96,
   "id": "7a1f33c7",
   "metadata": {},
   "outputs": [],
   "source": [
    "# shift column 'Name' to first position\n",
    "first_column = eventsSF.pop('IDMerged')\n",
    "# insert column using insert(position,column_name,first_column) function\n",
    "eventsSF.insert(0, 'IDMerged', first_column)"
   ]
  },
  {
   "cell_type": "code",
   "execution_count": 98,
   "id": "b94a8594",
   "metadata": {},
   "outputs": [
    {
     "name": "stdout",
     "output_type": "stream",
     "text": [
      "Wall time: 2min 1s\n"
     ]
    }
   ],
   "source": [
    "%%time\n",
    "#To select just the numeric MergedID\n",
    "#eventsSF.loc[eventsSF.IDMerged.str.isnumeric()]\n",
    "eventsSFnum = eventsSF[pd.to_numeric(eventsSF.IDMerged, errors='coerce').notnull()].sort_values(['IDMerged','time']).reset_index(drop=True)"
   ]
  },
  {
   "cell_type": "code",
   "execution_count": 76,
   "id": "aef74dc9",
   "metadata": {},
   "outputs": [],
   "source": [
    "eventsSFnum['actEndTime'] = np.where(eventsSFnum['type']=='actend'\n",
    "                     , eventsSFnum['time'], np.nan)  "
   ]
  },
  {
   "cell_type": "code",
   "execution_count": 77,
   "id": "aef9d0e1",
   "metadata": {},
   "outputs": [],
   "source": [
    "eventsSFnum['actStartTime'] = np.where(eventsSFnum['type']=='actstart'\n",
    "                     , eventsSFnum['time'], np.nan)  "
   ]
  },
  {
   "cell_type": "code",
   "execution_count": 78,
   "id": "adeb919e",
   "metadata": {},
   "outputs": [],
   "source": [
    "eventsSFnum['PTduration'] = np.where(eventsSFnum['type']=='PathTraversal'\n",
    "                     , eventsSFnum['arrivalTime'] - eventsSFnum['departureTime'], np.nan)  "
   ]
  },
  {
   "cell_type": "code",
   "execution_count": 79,
   "id": "e13d07f0",
   "metadata": {},
   "outputs": [],
   "source": [
    "eventsSFnum['duration_walking'] = np.where(eventsSFnum['modeType']=='walk'\n",
    "                     , eventsSFnum['PTduration'], np.nan)"
   ]
  },
  {
   "cell_type": "code",
   "execution_count": 80,
   "id": "d62f1556",
   "metadata": {},
   "outputs": [],
   "source": [
    "eventsSFnum['duration_in_privateCar'] = np.where((eventsSFnum['modeType']=='car')|(eventsSFnum['modeType']=='car_hov3')|(eventsSFnum['modeType']=='car_hov2')|\n",
    "                                              (eventsSFnum['modeType']=='hov2_teleportation')|(eventsSFnum['modeType']=='hov3_teleportation')\n",
    "                                                 , eventsSFnum['PTduration'], np.nan)"
   ]
  },
  {
   "cell_type": "code",
   "execution_count": 81,
   "id": "5e36f9fa",
   "metadata": {},
   "outputs": [],
   "source": [
    "eventsSFnum['duration_on_bike'] = np.where(eventsSFnum['modeType']=='bike', eventsSFnum['PTduration'], np.nan)"
   ]
  },
  {
   "cell_type": "code",
   "execution_count": 82,
   "id": "bd502ee0",
   "metadata": {},
   "outputs": [],
   "source": [
    "eventsSFnum['duration_in_ridehail'] = np.where((eventsSFnum['modeType']=='ride_hail')|(eventsSFnum['modeType']=='ride_hail_pooled'), eventsSFnum['PTduration'], np.nan)"
   ]
  },
  {
   "cell_type": "code",
   "execution_count": 83,
   "id": "5e169f66",
   "metadata": {},
   "outputs": [],
   "source": [
    "eventsSFnum['duration_in_public'] = np.where((eventsSFnum['modeType']=='bike_transit')|(eventsSFnum['modeType']=='drive_transit')|(eventsSFnum['modeType']=='walk_transit'), eventsSFnum['PTduration'], np.nan)"
   ]
  },
  {
   "cell_type": "code",
   "execution_count": 84,
   "id": "df736405",
   "metadata": {},
   "outputs": [],
   "source": [
    "eventsSFnum[\"tripIndex\"] = eventsSFnum.groupby(\"IDMerged\")[\"tourIndex\"].rank(method=\"first\", ascending=True)\n",
    "eventsSFnum[\"tripIndex\"] = eventsSFnum.tripIndex.fillna(method='ffill')"
   ]
  },
  {
   "cell_type": "code",
   "execution_count": 85,
   "id": "7d54a22d",
   "metadata": {},
   "outputs": [],
   "source": [
    "eventsSFnum[\"currentTourModeFillna\"] = eventsSFnum.currentTourMode.fillna(method='ffill')#.astype('object')"
   ]
  },
  {
   "cell_type": "code",
   "execution_count": 86,
   "id": "c1669a89",
   "metadata": {},
   "outputs": [],
   "source": [
    "#Change column type to numeric to be able to sort_values\n",
    "eventsSFnum[\"IDMerged\"] = pd.to_numeric(eventsSFnum[\"IDMerged\"])"
   ]
  },
  {
   "cell_type": "code",
   "execution_count": 87,
   "id": "f623752b",
   "metadata": {},
   "outputs": [],
   "source": [
    "eventsSFnum['actEndType'] = np.where(eventsSFnum['type']=='actend'\n",
    "                     , eventsSFnum['actType'], \"\")"
   ]
  },
  {
   "cell_type": "code",
   "execution_count": 88,
   "id": "6f847db7",
   "metadata": {},
   "outputs": [],
   "source": [
    "eventsSFnum['actStartType'] = np.where(eventsSFnum['type']=='actstart'\n",
    "                     , eventsSFnum['actType'], \"\")"
   ]
  },
  {
   "cell_type": "code",
   "execution_count": 91,
   "id": "c7b41319",
   "metadata": {},
   "outputs": [],
   "source": [
    "eventsSFtrips = pd.pivot_table(\n",
    "   eventsSFnum,\n",
    "   index=['IDMerged','tripIndex','currentTourModeFillna'],\n",
    "   aggfunc={'actStartTime': np.sum, 'actEndTime': np.sum, 'PTduration': np.sum, 'primaryFuel': np.sum, \n",
    "            'netCost': np.sum, 'actStartType': np.sum, 'actEndType': np.sum, 'duration_walking': np.sum,\n",
    "            'duration_in_privateCar': np.sum, 'duration_on_bike': np.sum, 'duration_in_ridehail': np.sum, \n",
    "            'duration_in_public': np.sum}).reset_index()"
   ]
  },
  {
   "cell_type": "code",
   "execution_count": 92,
   "id": "3cb74b89",
   "metadata": {},
   "outputs": [],
   "source": [
    "#Adding door to door time\n",
    "eventsSFtrips['DDtime'] = eventsSFtrips['actStartTime'] - eventsSFtrips['actEndTime'] "
   ]
  },
  {
   "cell_type": "code",
   "execution_count": 93,
   "id": "03d1a137",
   "metadata": {},
   "outputs": [],
   "source": [
    "eventsSFtrips['actPurpose'] = eventsSFtrips['actEndType'] + \"_to_\" + eventsSFtrips['actStartType']"
   ]
  },
  {
   "cell_type": "code",
   "execution_count": 94,
   "id": "84e30551",
   "metadata": {},
   "outputs": [],
   "source": [
    "#Rename the column\n",
    "eventsSFtrips = eventsSFtrips.rename(columns={'currentTourModeFillna': 'currentTourMode'})"
   ]
  },
  {
   "cell_type": "code",
   "execution_count": 95,
   "id": "9e570373",
   "metadata": {},
   "outputs": [
    {
     "data": {
      "text/html": [
       "<div>\n",
       "<style scoped>\n",
       "    .dataframe tbody tr th:only-of-type {\n",
       "        vertical-align: middle;\n",
       "    }\n",
       "\n",
       "    .dataframe tbody tr th {\n",
       "        vertical-align: top;\n",
       "    }\n",
       "\n",
       "    .dataframe thead th {\n",
       "        text-align: right;\n",
       "    }\n",
       "</style>\n",
       "<table border=\"1\" class=\"dataframe\">\n",
       "  <thead>\n",
       "    <tr style=\"text-align: right;\">\n",
       "      <th></th>\n",
       "      <th>IDMerged</th>\n",
       "      <th>tripIndex</th>\n",
       "      <th>currentTourMode</th>\n",
       "      <th>PTduration</th>\n",
       "      <th>actEndTime</th>\n",
       "      <th>actEndType</th>\n",
       "      <th>actStartTime</th>\n",
       "      <th>actStartType</th>\n",
       "      <th>duration_in_privateCar</th>\n",
       "      <th>duration_in_public</th>\n",
       "      <th>duration_in_ridehail</th>\n",
       "      <th>duration_on_bike</th>\n",
       "      <th>duration_walking</th>\n",
       "      <th>netCost</th>\n",
       "      <th>primaryFuel</th>\n",
       "      <th>DDtime</th>\n",
       "      <th>actPurpose</th>\n",
       "    </tr>\n",
       "  </thead>\n",
       "  <tbody>\n",
       "    <tr>\n",
       "      <th>0</th>\n",
       "      <td>4</td>\n",
       "      <td>1.0</td>\n",
       "      <td>car</td>\n",
       "      <td>477.0</td>\n",
       "      <td>54694.0</td>\n",
       "      <td>Home</td>\n",
       "      <td>55180.0</td>\n",
       "      <td>othdiscr</td>\n",
       "      <td>477.0</td>\n",
       "      <td>0.0</td>\n",
       "      <td>0.0</td>\n",
       "      <td>0.0</td>\n",
       "      <td>0.0</td>\n",
       "      <td>1.258902</td>\n",
       "      <td>1.717840e+07</td>\n",
       "      <td>486.0</td>\n",
       "      <td>Home_to_othdiscr</td>\n",
       "    </tr>\n",
       "    <tr>\n",
       "      <th>1</th>\n",
       "      <td>4</td>\n",
       "      <td>2.0</td>\n",
       "      <td>car</td>\n",
       "      <td>0.0</td>\n",
       "      <td>0.0</td>\n",
       "      <td></td>\n",
       "      <td>60702.0</td>\n",
       "      <td>Home</td>\n",
       "      <td>0.0</td>\n",
       "      <td>0.0</td>\n",
       "      <td>0.0</td>\n",
       "      <td>0.0</td>\n",
       "      <td>0.0</td>\n",
       "      <td>0.000000</td>\n",
       "      <td>0.000000e+00</td>\n",
       "      <td>60702.0</td>\n",
       "      <td>_to_Home</td>\n",
       "    </tr>\n",
       "    <tr>\n",
       "      <th>2</th>\n",
       "      <td>8</td>\n",
       "      <td>1.0</td>\n",
       "      <td>car</td>\n",
       "      <td>11817.0</td>\n",
       "      <td>71933.0</td>\n",
       "      <td>shopping</td>\n",
       "      <td>83781.0</td>\n",
       "      <td>Home</td>\n",
       "      <td>0.0</td>\n",
       "      <td>0.0</td>\n",
       "      <td>0.0</td>\n",
       "      <td>0.0</td>\n",
       "      <td>11817.0</td>\n",
       "      <td>0.052631</td>\n",
       "      <td>0.000000e+00</td>\n",
       "      <td>11848.0</td>\n",
       "      <td>shopping_to_Home</td>\n",
       "    </tr>\n",
       "    <tr>\n",
       "      <th>3</th>\n",
       "      <td>8</td>\n",
       "      <td>2.0</td>\n",
       "      <td>car</td>\n",
       "      <td>11510.0</td>\n",
       "      <td>60454.0</td>\n",
       "      <td>Home</td>\n",
       "      <td>71933.0</td>\n",
       "      <td>shopping</td>\n",
       "      <td>31.0</td>\n",
       "      <td>0.0</td>\n",
       "      <td>0.0</td>\n",
       "      <td>0.0</td>\n",
       "      <td>11479.0</td>\n",
       "      <td>0.000000</td>\n",
       "      <td>6.498952e+05</td>\n",
       "      <td>11479.0</td>\n",
       "      <td>Home_to_shopping</td>\n",
       "    </tr>\n",
       "    <tr>\n",
       "      <th>4</th>\n",
       "      <td>66</td>\n",
       "      <td>1.0</td>\n",
       "      <td>car</td>\n",
       "      <td>102.0</td>\n",
       "      <td>0.0</td>\n",
       "      <td></td>\n",
       "      <td>0.0</td>\n",
       "      <td></td>\n",
       "      <td>0.0</td>\n",
       "      <td>0.0</td>\n",
       "      <td>0.0</td>\n",
       "      <td>0.0</td>\n",
       "      <td>102.0</td>\n",
       "      <td>1.210568</td>\n",
       "      <td>6.998915e+03</td>\n",
       "      <td>0.0</td>\n",
       "      <td>_to_</td>\n",
       "    </tr>\n",
       "  </tbody>\n",
       "</table>\n",
       "</div>"
      ],
      "text/plain": [
       "   IDMerged  tripIndex currentTourMode  PTduration  actEndTime actEndType  \\\n",
       "0         4        1.0             car       477.0     54694.0       Home   \n",
       "1         4        2.0             car         0.0         0.0              \n",
       "2         8        1.0             car     11817.0     71933.0   shopping   \n",
       "3         8        2.0             car     11510.0     60454.0       Home   \n",
       "4        66        1.0             car       102.0         0.0              \n",
       "\n",
       "   actStartTime actStartType  duration_in_privateCar  duration_in_public  \\\n",
       "0       55180.0     othdiscr                   477.0                 0.0   \n",
       "1       60702.0         Home                     0.0                 0.0   \n",
       "2       83781.0         Home                     0.0                 0.0   \n",
       "3       71933.0     shopping                    31.0                 0.0   \n",
       "4           0.0                                  0.0                 0.0   \n",
       "\n",
       "   duration_in_ridehail  duration_on_bike  duration_walking   netCost  \\\n",
       "0                   0.0               0.0               0.0  1.258902   \n",
       "1                   0.0               0.0               0.0  0.000000   \n",
       "2                   0.0               0.0           11817.0  0.052631   \n",
       "3                   0.0               0.0           11479.0  0.000000   \n",
       "4                   0.0               0.0             102.0  1.210568   \n",
       "\n",
       "    primaryFuel   DDtime        actPurpose  \n",
       "0  1.717840e+07    486.0  Home_to_othdiscr  \n",
       "1  0.000000e+00  60702.0          _to_Home  \n",
       "2  0.000000e+00  11848.0  shopping_to_Home  \n",
       "3  6.498952e+05  11479.0  Home_to_shopping  \n",
       "4  6.998915e+03      0.0              _to_  "
      ]
     },
     "execution_count": 95,
     "metadata": {},
     "output_type": "execute_result"
    }
   ],
   "source": [
    "eventsSFtrips.head()"
   ]
  },
  {
   "cell_type": "markdown",
   "id": "e54d3658",
   "metadata": {},
   "source": [
    "#### Activity Sim"
   ]
  },
  {
   "cell_type": "code",
   "execution_count": 108,
   "id": "60e763f6",
   "metadata": {},
   "outputs": [],
   "source": [
    "loc = \"https://beam-outputs.s3.amazonaws.com/pilates-outputs/sfbay-2010-lessrh-20220223/activitysim/\" \n",
    "trips = pd.read_csv(loc + 'final_trips.csv')\n",
    "households = pd.read_csv(loc + 'final_households.csv')\n",
    "persons = pd.read_csv(loc + 'final_persons.csv')\n",
    "tours = pd.read_csv(loc +'final_tours.csv')\n",
    "plans = pd.read_csv(loc +'final_plans.csv')\n",
    "landuse = pd.read_csv(loc +'final_land_use.csv')\n",
    "#checkpoints = pd.read_csv(loc + 'final_checkpoints.csv')\n",
    "#joint_tour_participants = pd.read_csv(loc + 'final_joint_tour_participants.csv')\n",
    "#specs = pd.read_csv(loc +'final_trip_mode_choice_specs.csv')\n",
    "#tripModeChoice = pd.read_csv(loc +'final_trip_mode_choice_raw.csv')\n",
    "#tripModeChoiceUtilities = pd.read_csv(loc +'final_trip_mode_choice_utilities.csv')"
   ]
  },
  {
   "cell_type": "code",
   "execution_count": 60,
   "id": "9bea0f4c",
   "metadata": {},
   "outputs": [],
   "source": [
    "#Merge households and persons \n",
    "persons = persons.sort_values(by=['household_id'])\n",
    "households = households.sort_values(by=['household_id'])\n",
    "hhpersons = pd.merge(left=persons, right=households, how='left', on='household_id', suffixes=('', '_drop'))\n",
    "hhpersons.drop([col for col in hhpersons.columns if 'drop' in col], axis=1, inplace=True)"
   ]
  },
  {
   "cell_type": "code",
   "execution_count": 61,
   "id": "80e99dc5",
   "metadata": {},
   "outputs": [],
   "source": [
    "#Merge tours, households and persons\n",
    "tours = tours.sort_values(by=['person_id'])\n",
    "hhpersons = hhpersons.sort_values(by=['person_id'])\n",
    "hhperTours = pd.merge(left=tours, right=hhpersons, how='left', on='person_id', suffixes=('', '_drop'))\n",
    "hhperTours.drop([col for col in hhperTours.columns if 'drop' in col], axis=1, inplace=True)"
   ]
  },
  {
   "cell_type": "code",
   "execution_count": 62,
   "id": "55d1b2ff",
   "metadata": {},
   "outputs": [
    {
     "name": "stdout",
     "output_type": "stream",
     "text": [
      "Wall time: 42 s\n"
     ]
    }
   ],
   "source": [
    "%%time\n",
    "#Merge trips, tours, households and persons\n",
    "trips = trips.sort_values(by=['person_id', 'tour_id'])\n",
    "hhperTours = hhperTours.sort_values(by=['person_id','tour_id'])\n",
    "tourTripsMerged = pd.merge(left=trips, right=hhperTours, how='left', on=['person_id','tour_id'], suffixes=('', '_drop'))\n",
    "tourTripsMerged.drop([col for col in tourTripsMerged.columns if 'drop' in col], axis=1, inplace=True)"
   ]
  },
  {
   "cell_type": "code",
   "execution_count": 122,
   "id": "9ec42624",
   "metadata": {},
   "outputs": [
    {
     "name": "stdout",
     "output_type": "stream",
     "text": [
      "Wall time: 53.1 s\n"
     ]
    }
   ],
   "source": [
    "%%time\n",
    "#Merge trips, tours, households and persons, and plans\n",
    "plans = plans.sort_values(by=['person_id', 'trip_id']).loc[plans['ActivityElement'] == 'leg']\n",
    "tourTripsMerged = tourTripsMerged.sort_values(by=['person_id','trip_id'])\n",
    "plansTripsMerged = pd.merge(left=plans, right=tourTripsMerged, how='left', on=['person_id','trip_id'], suffixes=('', '_drop'))\n",
    "plansTripsMerged.drop([col for col in plansTripsMerged.columns if 'drop' in col], axis=1, inplace=True)"
   ]
  },
  {
   "cell_type": "code",
   "execution_count": 123,
   "id": "ac80e2cd",
   "metadata": {},
   "outputs": [],
   "source": [
    "plansTripsMerged['PlanElementIndex'] = plansTripsMerged['PlanElementIndex']/2"
   ]
  },
  {
   "cell_type": "code",
   "execution_count": 114,
   "id": "8272c083",
   "metadata": {},
   "outputs": [],
   "source": [
    "#Concat mode_choice_raw files\n",
    "path = \"C:/Users/nazanin/Downloads/trip_mode_choice/trip_mode_choice/\"\n",
    "all_files = glob.glob(path + \"*raw.csv\")\n",
    "li_mapper = map(lambda filename: pd.read_csv(filename, index_col = None, header = 0), all_files)\n",
    "li2 = list(li_mapper)\n",
    "SFmode_choice_raw = pd.concat(li2, axis = 0, ignore_index=True)"
   ]
  },
  {
   "cell_type": "code",
   "execution_count": 36,
   "id": "f8dbdf04",
   "metadata": {},
   "outputs": [],
   "source": [
    "#Concat mode_choice_utilities files\n",
    "path = \"C:/Users/nazanin/Downloads/trip_mode_choice/trip_mode_choice/\"\n",
    "all_files = glob.glob(path + \"*utilities.csv\")\n",
    "li_mapper = map(lambda filename: pd.read_csv(filename, index_col = None, header = 0), all_files)\n",
    "li2 = list(li_mapper)\n",
    "SFmode_choice_utilities = pd.concat(li2, axis = 0, ignore_index=True)"
   ]
  },
  {
   "cell_type": "code",
   "execution_count": 37,
   "id": "9a4d6c54",
   "metadata": {},
   "outputs": [],
   "source": [
    "#Merge mode_choice_raw and utilities\n",
    "SFmode_choice_raw = SFmode_choice_raw.sort_values(by=['trip_id'])\n",
    "SFmode_choice_utilities = SFmode_choice_utilities.sort_values(by=['trip_id'])\n",
    "rawUtil = pd.merge(left=SFmode_choice_raw, right=SFmode_choice_utilities, how='left', on='trip_id', suffixes=('', '_drop'))\n",
    "rawUtil.drop([col for col in rawUtil.columns if 'drop' in col], axis=1, inplace=True)"
   ]
  },
  {
   "cell_type": "code",
   "execution_count": 125,
   "id": "152c15d6",
   "metadata": {},
   "outputs": [
    {
     "name": "stdout",
     "output_type": "stream",
     "text": [
      "Wall time: 1min 26s\n"
     ]
    }
   ],
   "source": [
    "%%time\n",
    "#Merge trips, tours, households, persons, trip_mode_choice_raw, and utilities\n",
    "plansTripsMerged = plansTripsMerged.sort_values(by=['trip_id'])\n",
    "rawUtil = rawUtil.sort_values(by=['trip_id'])\n",
    "SFActMerged= pd.merge(left=plansTripsMerged, right=rawUtil, how='left', on=['trip_id'], suffixes=('', '_drop'))\n",
    "SFActMerged.drop([col for col in SFActMerged.columns if 'drop' in col], axis=1, inplace=True)"
   ]
  },
  {
   "cell_type": "code",
   "execution_count": 127,
   "id": "05f3c9a9",
   "metadata": {},
   "outputs": [],
   "source": [
    "SFActMerged_chunk = SFActMerged[0:1000]\n",
    "SFActMerged_chunk.to_csv('C:/Shared-Work/Data/CleanData/SFActMerged_chunk.csv', index = False)"
   ]
  },
  {
   "cell_type": "markdown",
   "id": "d69c901c",
   "metadata": {},
   "source": [
    "#### Merging"
   ]
  },
  {
   "cell_type": "code",
   "execution_count": 126,
   "id": "e5e06eb6",
   "metadata": {},
   "outputs": [],
   "source": [
    "eventsSFtrips_chunk = pd.read_csv(\"C:/Shared-Work/Data/CleanData/Chunks/eventsSFtrips_chunk.csv\")   "
   ]
  },
  {
   "cell_type": "code",
   "execution_count": 134,
   "id": "4ae9232e",
   "metadata": {},
   "outputs": [
    {
     "name": "stdout",
     "output_type": "stream",
     "text": [
      "Wall time: 88.8 ms\n"
     ]
    }
   ],
   "source": [
    "%%time\n",
    "eventsSFtrips_chunk = eventsSFtrips_chunk.sort_values(by=['IDMerged'])\n",
    "SFActMerged_chunk = SFActMerged_chunk.sort_values(by=['person_id'])\n",
    "SFBeamActMerged_chunk = pd.merge(eventsSFtrips_chunk, SFActMerged_chunk, how='left', left_on = [\"IDMerged\", 'tripIndex'] , right_on=['person_id', 'PlanElementIndex'], suffixes=('', '_drop'))\n",
    "SFBeamActMerged_chunk.drop([col for col in SFBeamActMerged_chunk.columns if 'drop' in col], axis=1, inplace=True)"
   ]
  },
  {
   "cell_type": "code",
   "execution_count": 136,
   "id": "e7f6a6ef",
   "metadata": {},
   "outputs": [],
   "source": [
    "SFBeamActMerged_chunk.to_csv('C:/Shared-Work/Data/CleanData/SFBeamActMerged_chunk.csv', index = False)"
   ]
  },
  {
   "cell_type": "code",
   "execution_count": 67,
   "id": "fa1d9155",
   "metadata": {},
   "outputs": [
    {
     "name": "stdout",
     "output_type": "stream",
     "text": [
      "Wall time: 15min 55s\n"
     ]
    }
   ],
   "source": [
    "%%time\n",
    "eventsSFtrips = eventsSFtrips.sort_values(by=['IDMerged'])\n",
    "SFActMerged = SFActMerged.sort_values(by=['person_id'])\n",
    "SFBeamActMerged = pd.merge(eventsSFtrips, SFActMerged, how='left', left_on = \"IDMerged\" , right_on='person_id', suffixes=('', '_drop'))\n",
    "SFBeamActMerged.drop([col for col in SFBeamActMerged.columns if 'drop' in col], axis=1, inplace=True)"
   ]
  }
 ],
 "metadata": {
  "kernelspec": {
   "display_name": "Python 3 (ipykernel)",
   "language": "python",
   "name": "python3"
  },
  "language_info": {
   "codemirror_mode": {
    "name": "ipython",
    "version": 3
   },
   "file_extension": ".py",
   "mimetype": "text/x-python",
   "name": "python",
   "nbconvert_exporter": "python",
   "pygments_lexer": "ipython3",
   "version": "3.9.7"
  }
 },
 "nbformat": 4,
 "nbformat_minor": 5
}
