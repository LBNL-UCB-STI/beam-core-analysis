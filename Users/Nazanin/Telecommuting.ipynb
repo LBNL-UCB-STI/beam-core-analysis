{
 "cells": [
  {
   "cell_type": "code",
   "execution_count": 1,
   "id": "c0f71a2c",
   "metadata": {},
   "outputs": [],
   "source": [
    "import os\n",
    "import os.path as op\n",
    "import numpy as np\n",
    "import pandas as pd\n",
    "import matplotlib.pyplot as plt\n",
    "import matplotlib.colors as mcolors\n",
    "%matplotlib inline\n",
    "import seaborn as sns\n",
    "sns.set_theme(style=\"darkgrid\", color_codes=True)\n",
    "sns.set(font_scale=1.35, style=\"ticks\") #set styling preferences\n",
    "import statsmodels.api as sm\n",
    "from scipy import stats\n",
    "import math\n",
    "from math import pi\n",
    "from pandas.api.types import is_string_dtype\n",
    "from pandas.api.types import is_numeric_dtype\n",
    "from scipy.spatial.distance import cdist\n",
    "from scipy.cluster.vq import kmeans2,vq, whiten\n",
    "import geopandas as gpd\n",
    "import h5py\n",
    "import boto.s3\n",
    "import glob\n",
    "import boto3\n",
    "from zipfile import ZipFile\n",
    "import shutil\n",
    "import dask.dataframe as dd\n",
    "from dask.delayed import delayed"
   ]
  },
  {
   "cell_type": "code",
   "execution_count": 2,
   "id": "1c4d781d",
   "metadata": {},
   "outputs": [],
   "source": [
    "# Show all columns and rows\n",
    "pd.options.display.max_columns = None\n",
    "pd.options.display.max_rows = None"
   ]
  },
  {
   "cell_type": "markdown",
   "id": "cd2c6de5",
   "metadata": {},
   "source": [
    "#### Baseline"
   ]
  },
  {
   "cell_type": "code",
   "execution_count": 3,
   "id": "e7363efa",
   "metadata": {},
   "outputs": [],
   "source": [
    "cols_to_use = ['IDMerged', 'tripIndex', 'actStartTime', 'actEndTime','duration_travelling', 'cost_BEAM', 'actStartType', \n",
    "               'actEndType', 'duration_walking', 'duration_in_privateCar', 'duration_on_bike', 'duration_in_ridehail', \n",
    "              'distance_travelling', 'duration_in_transit', 'distance_walking','distance_bike','distance_ridehail', \n",
    "              'distance_privateCar', 'distance_transit', 'mode_choice_planned_BEAM','mode_choice_actual_BEAM',\n",
    "              'vehicleIds', 'distance_mode_choice', 'replanning_status', 'reason', 'fuel_marginal','BlockGroupStart',\n",
    "              'startX', 'startY', 'bgid_start', 'tractid_start', 'juris_name_start', 'county_name_start', 'mpo_start', \n",
    "               'BlockGroupEnd', 'endX', 'endY', 'bgid_end', 'tractid_end', 'juris_name_end', 'county_name_end', 'mpo_end', \n",
    "               'emission_marginal', 'duration_door_to_door', 'waitTime_no_replanning', 'waitTime_replanning', 'actPurpose', \n",
    "               'mode_choice_actual_6', 'mode_choice_actual_5', 'mode_choice_actual_4', 'trip_mode_AS_trips', 'logsum_trip_Potential_INEXUS',\n",
    "               'age', 'income', 'hh_cars', 'TAZ_x', 'home_taz', 'auto_ownership', 'home_is_urban', 'home_is_rural', 'DRIVEALONEFREE',\n",
    "               'DRIVEALONEPAY', 'SHARED2FREE', 'SHARED2PAY', 'SHARED3FREE', 'SHARED3PAY', 'WALK', 'BIKE', 'WALK_LOC', 'WALK_LRF', \n",
    "               'WALK_EXP', 'WALK_HVY', 'WALK_COM', 'DRIVE_LOC', 'DRIVE_LRF', 'DRIVE_EXP', 'DRIVE_HVY', 'DRIVE_COM', 'TAXI',\n",
    "               'TNC_SINGLE', 'TNC_SHARED', 'income_quartiles', 'income_deciles' ] # Specify the columns to read"
   ]
  },
  {
   "cell_type": "code",
   "execution_count": 4,
   "id": "82484592",
   "metadata": {},
   "outputs": [
    {
     "name": "stderr",
     "output_type": "stream",
     "text": [
      "<timed exec>:4: DtypeWarning: Columns (27,77,133,134,135,136,137,138,139,140,141,142,143,144,145,146,147,148,149,150,151,153,162,167,169,170,171,172,174,175,232,233,234,235,244) have mixed types. Specify dtype option on import or set low_memory=False.\n"
     ]
    },
    {
     "name": "stdout",
     "output_type": "stream",
     "text": [
      "CPU times: total: 1min 39s\n",
      "Wall time: 1min 39s\n"
     ]
    }
   ],
   "source": [
    "%%time\n",
    "s3 = boto3.client(\"s3\")\n",
    "key = \"pilates-outputs/sfbay_baseline_telecommuting_20230221/inexus/sfbay_baseline_default-1.0_2020__20230220.csv.gz\"  #the path should be updated\n",
    "obj = s3.get_object(Bucket=\"beam-outputs\", Key=key)\n",
    "sfbase = pd.read_csv(obj['Body'], compression = 'gzip', index_col='Unnamed: 0')"
   ]
  },
  {
   "cell_type": "code",
   "execution_count": 7,
   "id": "faed5d8b",
   "metadata": {},
   "outputs": [
    {
     "data": {
      "text/plain": [
       "array([      4,       8,      18, ..., 6808781, 6808782, 6808834],\n",
       "      dtype=int64)"
      ]
     },
     "execution_count": 7,
     "metadata": {},
     "output_type": "execute_result"
    }
   ],
   "source": [
    "sfbase.IDMerged.unique()"
   ]
  },
  {
   "cell_type": "code",
   "execution_count": 6,
   "id": "1c5dfb83",
   "metadata": {},
   "outputs": [
    {
     "data": {
      "text/html": [
       "<div>\n",
       "<style scoped>\n",
       "    .dataframe tbody tr th:only-of-type {\n",
       "        vertical-align: middle;\n",
       "    }\n",
       "\n",
       "    .dataframe tbody tr th {\n",
       "        vertical-align: top;\n",
       "    }\n",
       "\n",
       "    .dataframe thead th {\n",
       "        text-align: right;\n",
       "    }\n",
       "</style>\n",
       "<table border=\"1\" class=\"dataframe\">\n",
       "  <thead>\n",
       "    <tr style=\"text-align: right;\">\n",
       "      <th></th>\n",
       "      <th>IDMerged</th>\n",
       "      <th>tripIndex</th>\n",
       "      <th>actStartTime</th>\n",
       "      <th>actEndTime</th>\n",
       "      <th>duration_travelling</th>\n",
       "      <th>cost_BEAM</th>\n",
       "      <th>actStartType</th>\n",
       "      <th>actEndType</th>\n",
       "      <th>duration_walking</th>\n",
       "      <th>duration_in_privateCar</th>\n",
       "      <th>duration_on_bike</th>\n",
       "      <th>duration_in_ridehail</th>\n",
       "      <th>distance_travelling</th>\n",
       "      <th>duration_in_transit</th>\n",
       "      <th>distance_walking</th>\n",
       "      <th>distance_bike</th>\n",
       "      <th>distance_ridehail</th>\n",
       "      <th>distance_privateCar</th>\n",
       "      <th>distance_transit</th>\n",
       "      <th>vehicleIds_estimate</th>\n",
       "      <th>mode_choice_planned_BEAM</th>\n",
       "      <th>mode_choice_actual_BEAM</th>\n",
       "      <th>vehicleIds</th>\n",
       "      <th>numPassengers</th>\n",
       "      <th>distance_mode_choice</th>\n",
       "      <th>replanning_status</th>\n",
       "      <th>reason</th>\n",
       "      <th>parkingType</th>\n",
       "      <th>transit_bus</th>\n",
       "      <th>transit_subway</th>\n",
       "      <th>transit_tram</th>\n",
       "      <th>transit_cable_car</th>\n",
       "      <th>ride_hail_pooled</th>\n",
       "      <th>transit_rail</th>\n",
       "      <th>fuelFood</th>\n",
       "      <th>fuelElectricity</th>\n",
       "      <th>fuelBiodiesel</th>\n",
       "      <th>fuelDiesel</th>\n",
       "      <th>fuel_not_Food</th>\n",
       "      <th>fuelGasoline</th>\n",
       "      <th>fuel_marginal</th>\n",
       "      <th>BlockGroupStart</th>\n",
       "      <th>startX</th>\n",
       "      <th>startY</th>\n",
       "      <th>bgid_start</th>\n",
       "      <th>tractid_start</th>\n",
       "      <th>juris_name_start</th>\n",
       "      <th>county_name_start</th>\n",
       "      <th>mpo_start</th>\n",
       "      <th>BlockGroupEnd</th>\n",
       "      <th>endX</th>\n",
       "      <th>endY</th>\n",
       "      <th>bgid_end</th>\n",
       "      <th>tractid_end</th>\n",
       "      <th>juris_name_end</th>\n",
       "      <th>county_name_end</th>\n",
       "      <th>mpo_end</th>\n",
       "      <th>emissionFood</th>\n",
       "      <th>emissionElectricity</th>\n",
       "      <th>emissionDiesel</th>\n",
       "      <th>emissionGasoline</th>\n",
       "      <th>emissionBiodiesel</th>\n",
       "      <th>emission_marginal</th>\n",
       "      <th>duration_door_to_door</th>\n",
       "      <th>waitTime_no_replanning</th>\n",
       "      <th>waitTime_replanning</th>\n",
       "      <th>actPurpose</th>\n",
       "      <th>mode_choice_actual_5</th>\n",
       "      <th>mode_choice_actual_6</th>\n",
       "      <th>mode_choice_actual_4</th>\n",
       "      <th>trip_id</th>\n",
       "      <th>person_id</th>\n",
       "      <th>household_id</th>\n",
       "      <th>tour_id</th>\n",
       "      <th>primary_purpose_x</th>\n",
       "      <th>trip_num</th>\n",
       "      <th>outbound</th>\n",
       "      <th>trip_count</th>\n",
       "      <th>purpose</th>\n",
       "      <th>destination_x</th>\n",
       "      <th>origin_x</th>\n",
       "      <th>destination_logsum_x</th>\n",
       "      <th>depart</th>\n",
       "      <th>trip_mode_AS_trips</th>\n",
       "      <th>logsum_trip_Potential_INEXUS</th>\n",
       "      <th>tour_type</th>\n",
       "      <th>tour_type_count</th>\n",
       "      <th>tour_type_num</th>\n",
       "      <th>tour_num</th>\n",
       "      <th>tour_count</th>\n",
       "      <th>tour_category</th>\n",
       "      <th>number_of_participants</th>\n",
       "      <th>destination_y</th>\n",
       "      <th>origin_y</th>\n",
       "      <th>household_id_x</th>\n",
       "      <th>tdd</th>\n",
       "      <th>start</th>\n",
       "      <th>end</th>\n",
       "      <th>duration</th>\n",
       "      <th>composition</th>\n",
       "      <th>destination_logsum_y</th>\n",
       "      <th>tour_mode_AS_tours</th>\n",
       "      <th>logsum_tours_mode_AS_tours</th>\n",
       "      <th>atwork_subtour_frequency</th>\n",
       "      <th>parent_tour_id</th>\n",
       "      <th>stop_frequency</th>\n",
       "      <th>primary_purpose_y</th>\n",
       "      <th>age</th>\n",
       "      <th>earning</th>\n",
       "      <th>edu</th>\n",
       "      <th>hispanic</th>\n",
       "      <th>hours</th>\n",
       "      <th>PNUM</th>\n",
       "      <th>race_id</th>\n",
       "      <th>relate</th>\n",
       "      <th>sex</th>\n",
       "      <th>student</th>\n",
       "      <th>work_at_home</th>\n",
       "      <th>worker</th>\n",
       "      <th>household_id_y</th>\n",
       "      <th>person_age</th>\n",
       "      <th>person_sex</th>\n",
       "      <th>race</th>\n",
       "      <th>hispanic.1</th>\n",
       "      <th>p_hispanic</th>\n",
       "      <th>MAR</th>\n",
       "      <th>TAZ_x</th>\n",
       "      <th>ptype</th>\n",
       "      <th>pemploy</th>\n",
       "      <th>pstudent</th>\n",
       "      <th>home_x</th>\n",
       "      <th>home_y</th>\n",
       "      <th>age_16_to_19</th>\n",
       "      <th>age_16_p</th>\n",
       "      <th>adult</th>\n",
       "      <th>male</th>\n",
       "      <th>female</th>\n",
       "      <th>has_non_worker</th>\n",
       "      <th>has_retiree</th>\n",
       "      <th>has_preschool_kid</th>\n",
       "      <th>has_driving_kid</th>\n",
       "      <th>has_school_kid</th>\n",
       "      <th>has_full_time</th>\n",
       "      <th>has_part_time</th>\n",
       "      <th>has_university</th>\n",
       "      <th>student_is_employed</th>\n",
       "      <th>nonstudent_to_school</th>\n",
       "      <th>is_student</th>\n",
       "      <th>is_gradeschool</th>\n",
       "      <th>is_highschool</th>\n",
       "      <th>is_university</th>\n",
       "      <th>school_segment</th>\n",
       "      <th>is_worker</th>\n",
       "      <th>home_taz</th>\n",
       "      <th>value_of_time</th>\n",
       "      <th>school_taz</th>\n",
       "      <th>distance_to_school</th>\n",
       "      <th>roundtrip_auto_time_to_school</th>\n",
       "      <th>workplace_taz</th>\n",
       "      <th>workplace_location_logsum</th>\n",
       "      <th>distance_to_work</th>\n",
       "      <th>workplace_in_cbd</th>\n",
       "      <th>work_taz_area_type</th>\n",
       "      <th>roundtrip_auto_time_to_work</th>\n",
       "      <th>work_auto_savings</th>\n",
       "      <th>work_auto_savings_ratio</th>\n",
       "      <th>free_parking_at_work</th>\n",
       "      <th>cdap_activity</th>\n",
       "      <th>travel_active</th>\n",
       "      <th>under16_not_at_school</th>\n",
       "      <th>has_preschool_kid_at_home</th>\n",
       "      <th>has_school_kid_at_home</th>\n",
       "      <th>mandatory_tour_frequency</th>\n",
       "      <th>work_and_school_and_worker</th>\n",
       "      <th>work_and_school_and_student</th>\n",
       "      <th>num_mand</th>\n",
       "      <th>num_work_tours</th>\n",
       "      <th>num_joint_tours</th>\n",
       "      <th>non_mandatory_tour_frequency</th>\n",
       "      <th>num_non_mand</th>\n",
       "      <th>num_escort_tours</th>\n",
       "      <th>num_eatout_tours</th>\n",
       "      <th>num_shop_tours</th>\n",
       "      <th>num_maint_tours</th>\n",
       "      <th>num_discr_tours</th>\n",
       "      <th>num_social_tours</th>\n",
       "      <th>num_non_escort_tours</th>\n",
       "      <th>serialno</th>\n",
       "      <th>VEHICL</th>\n",
       "      <th>income</th>\n",
       "      <th>race_of_head</th>\n",
       "      <th>age_of_head</th>\n",
       "      <th>num_workers</th>\n",
       "      <th>hispanic_status_of_head</th>\n",
       "      <th>tenure</th>\n",
       "      <th>recent_mover</th>\n",
       "      <th>sf_detached</th>\n",
       "      <th>hh_age_of_head</th>\n",
       "      <th>hh_race_of_head</th>\n",
       "      <th>hispanic_head</th>\n",
       "      <th>hh_size</th>\n",
       "      <th>hh_cars</th>\n",
       "      <th>hh_children</th>\n",
       "      <th>seniors</th>\n",
       "      <th>hh_income</th>\n",
       "      <th>hh_workers</th>\n",
       "      <th>tenure_mover</th>\n",
       "      <th>hh_seniors</th>\n",
       "      <th>block_id</th>\n",
       "      <th>lcm_county_id</th>\n",
       "      <th>hhsize</th>\n",
       "      <th>gt55</th>\n",
       "      <th>gt2</th>\n",
       "      <th>hh_type</th>\n",
       "      <th>TAZ_y</th>\n",
       "      <th>HHT</th>\n",
       "      <th>sample_rate</th>\n",
       "      <th>chunk_id</th>\n",
       "      <th>income_in_thousands</th>\n",
       "      <th>income_segment</th>\n",
       "      <th>median_value_of_time</th>\n",
       "      <th>hh_value_of_time</th>\n",
       "      <th>num_non_workers</th>\n",
       "      <th>num_drivers</th>\n",
       "      <th>num_adults</th>\n",
       "      <th>num_children</th>\n",
       "      <th>num_young_children</th>\n",
       "      <th>num_children_5_to_15</th>\n",
       "      <th>num_children_16_to_17</th>\n",
       "      <th>num_college_age</th>\n",
       "      <th>num_young_adults</th>\n",
       "      <th>non_family</th>\n",
       "      <th>family</th>\n",
       "      <th>home_is_urban</th>\n",
       "      <th>home_is_rural</th>\n",
       "      <th>auto_ownership</th>\n",
       "      <th>hh_work_auto_savings_ratio</th>\n",
       "      <th>num_under16_not_at_school</th>\n",
       "      <th>num_travel_active</th>\n",
       "      <th>num_travel_active_adults</th>\n",
       "      <th>num_travel_active_preschoolers</th>\n",
       "      <th>num_travel_active_children</th>\n",
       "      <th>num_travel_active_non_preschoolers</th>\n",
       "      <th>participates_in_jtf_model</th>\n",
       "      <th>joint_tour_frequency</th>\n",
       "      <th>num_hh_joint_tours</th>\n",
       "      <th>DRIVEALONEFREE</th>\n",
       "      <th>DRIVEALONEPAY</th>\n",
       "      <th>SHARED2FREE</th>\n",
       "      <th>SHARED2PAY</th>\n",
       "      <th>SHARED3FREE</th>\n",
       "      <th>SHARED3PAY</th>\n",
       "      <th>WALK</th>\n",
       "      <th>BIKE</th>\n",
       "      <th>WALK_LOC</th>\n",
       "      <th>WALK_LRF</th>\n",
       "      <th>WALK_EXP</th>\n",
       "      <th>WALK_HVY</th>\n",
       "      <th>WALK_COM</th>\n",
       "      <th>DRIVE_LOC</th>\n",
       "      <th>DRIVE_LRF</th>\n",
       "      <th>DRIVE_EXP</th>\n",
       "      <th>DRIVE_HVY</th>\n",
       "      <th>DRIVE_COM</th>\n",
       "      <th>TAXI</th>\n",
       "      <th>TNC_SINGLE</th>\n",
       "      <th>TNC_SHARED</th>\n",
       "      <th>income_quartiles</th>\n",
       "      <th>income_deciles</th>\n",
       "    </tr>\n",
       "  </thead>\n",
       "  <tbody>\n",
       "    <tr>\n",
       "      <th>0</th>\n",
       "      <td>4</td>\n",
       "      <td>1513</td>\n",
       "      <td>55457.0</td>\n",
       "      <td>54777.0</td>\n",
       "      <td>680.0</td>\n",
       "      <td>1.609457</td>\n",
       "      <td>othdiscr</td>\n",
       "      <td>Home</td>\n",
       "      <td>0.0</td>\n",
       "      <td>680.0</td>\n",
       "      <td>0.0</td>\n",
       "      <td>0.0</td>\n",
       "      <td>14674.192</td>\n",
       "      <td>0.0</td>\n",
       "      <td>0.0</td>\n",
       "      <td>0.0</td>\n",
       "      <td>0.0</td>\n",
       "      <td>14674.192</td>\n",
       "      <td>0.0</td>\n",
       "      <td>body-4,358556,358556,body-4</td>\n",
       "      <td>car</td>\n",
       "      <td>car</td>\n",
       "      <td>body-4, 358556</td>\n",
       "      <td>1.0, 0.0, 0.0, 1.0</td>\n",
       "      <td>14674.192</td>\n",
       "      <td>0</td>\n",
       "      <td>NaN</td>\n",
       "      <td>Residential, Public</td>\n",
       "      <td>0</td>\n",
       "      <td>0</td>\n",
       "      <td>0</td>\n",
       "      <td>0</td>\n",
       "      <td>0</td>\n",
       "      <td>0</td>\n",
       "      <td>0.0</td>\n",
       "      <td>0.0</td>\n",
       "      <td>0.0</td>\n",
       "      <td>0.0</td>\n",
       "      <td>2.405018e+07</td>\n",
       "      <td>2.405018e+07</td>\n",
       "      <td>2.405018e+07</td>\n",
       "      <td>6.001400e+10</td>\n",
       "      <td>-122.227937</td>\n",
       "      <td>37.854097</td>\n",
       "      <td>6.001400e+10</td>\n",
       "      <td>6.001400e+09</td>\n",
       "      <td>Oakland</td>\n",
       "      <td>Alameda County</td>\n",
       "      <td>San Francisco Bay Area (MTC)</td>\n",
       "      <td>6.001410e+10</td>\n",
       "      <td>-122.171960</td>\n",
       "      <td>37.750722</td>\n",
       "      <td>6.001410e+10</td>\n",
       "      <td>6.001410e+09</td>\n",
       "      <td>Oakland</td>\n",
       "      <td>Alameda County</td>\n",
       "      <td>San Francisco Bay Area (MTC)</td>\n",
       "      <td>0.0</td>\n",
       "      <td>0.0</td>\n",
       "      <td>0.0</td>\n",
       "      <td>0.001778</td>\n",
       "      <td>0.0</td>\n",
       "      <td>0.0</td>\n",
       "      <td>680.0</td>\n",
       "      <td>0.0</td>\n",
       "      <td>0.0</td>\n",
       "      <td>Home_to_othdiscr</td>\n",
       "      <td>car</td>\n",
       "      <td>car</td>\n",
       "      <td>car</td>\n",
       "      <td>1513.0</td>\n",
       "      <td>4.0</td>\n",
       "      <td>865.0</td>\n",
       "      <td>189.0</td>\n",
       "      <td>othdiscr</td>\n",
       "      <td>1.0</td>\n",
       "      <td>True</td>\n",
       "      <td>1.0</td>\n",
       "      <td>othdiscr</td>\n",
       "      <td>891.0</td>\n",
       "      <td>1005.0</td>\n",
       "      <td>NaN</td>\n",
       "      <td>15.0</td>\n",
       "      <td>DRIVEALONEFREE</td>\n",
       "      <td>-1.014988</td>\n",
       "      <td>othdiscr</td>\n",
       "      <td>1.0</td>\n",
       "      <td>1.0</td>\n",
       "      <td>1.0</td>\n",
       "      <td>1.0</td>\n",
       "      <td>non_mandatory</td>\n",
       "      <td>1.0</td>\n",
       "      <td>891.0</td>\n",
       "      <td>1005.0</td>\n",
       "      <td>865.0</td>\n",
       "      <td>146.0</td>\n",
       "      <td>15.0</td>\n",
       "      <td>16.0</td>\n",
       "      <td>1.0</td>\n",
       "      <td>NaN</td>\n",
       "      <td>12.843532</td>\n",
       "      <td>DRIVEALONEFREE</td>\n",
       "      <td>-1.458456</td>\n",
       "      <td>NaN</td>\n",
       "      <td>NaN</td>\n",
       "      <td>0out_0in</td>\n",
       "      <td>othdiscr</td>\n",
       "      <td>68.0</td>\n",
       "      <td>0.0</td>\n",
       "      <td>22.0</td>\n",
       "      <td>0.0</td>\n",
       "      <td>0.0</td>\n",
       "      <td>1.0</td>\n",
       "      <td>2.0</td>\n",
       "      <td>0.0</td>\n",
       "      <td>2.0</td>\n",
       "      <td>0.0</td>\n",
       "      <td>0.0</td>\n",
       "      <td>0.0</td>\n",
       "      <td>865.0</td>\n",
       "      <td>above 60</td>\n",
       "      <td>female</td>\n",
       "      <td>black</td>\n",
       "      <td>0.0</td>\n",
       "      <td>no</td>\n",
       "      <td>1.0</td>\n",
       "      <td>1005.0</td>\n",
       "      <td>5.0</td>\n",
       "      <td>3.0</td>\n",
       "      <td>3.0</td>\n",
       "      <td>-122.227937</td>\n",
       "      <td>37.854097</td>\n",
       "      <td>False</td>\n",
       "      <td>True</td>\n",
       "      <td>True</td>\n",
       "      <td>False</td>\n",
       "      <td>True</td>\n",
       "      <td>False</td>\n",
       "      <td>True</td>\n",
       "      <td>False</td>\n",
       "      <td>False</td>\n",
       "      <td>False</td>\n",
       "      <td>False</td>\n",
       "      <td>False</td>\n",
       "      <td>False</td>\n",
       "      <td>False</td>\n",
       "      <td>False</td>\n",
       "      <td>False</td>\n",
       "      <td>False</td>\n",
       "      <td>False</td>\n",
       "      <td>False</td>\n",
       "      <td>0.0</td>\n",
       "      <td>False</td>\n",
       "      <td>1005.0</td>\n",
       "      <td>2.81873</td>\n",
       "      <td>-1.0</td>\n",
       "      <td>NaN</td>\n",
       "      <td>0.0</td>\n",
       "      <td>-1.0</td>\n",
       "      <td>NaN</td>\n",
       "      <td>NaN</td>\n",
       "      <td>False</td>\n",
       "      <td>NaN</td>\n",
       "      <td>0.0</td>\n",
       "      <td>0.0</td>\n",
       "      <td>0.0</td>\n",
       "      <td>False</td>\n",
       "      <td>N</td>\n",
       "      <td>True</td>\n",
       "      <td>False</td>\n",
       "      <td>False</td>\n",
       "      <td>False</td>\n",
       "      <td>NaN</td>\n",
       "      <td>False</td>\n",
       "      <td>False</td>\n",
       "      <td>0.0</td>\n",
       "      <td>0.0</td>\n",
       "      <td>0.0</td>\n",
       "      <td>1.0</td>\n",
       "      <td>1.0</td>\n",
       "      <td>0.0</td>\n",
       "      <td>0.0</td>\n",
       "      <td>0.0</td>\n",
       "      <td>0.0</td>\n",
       "      <td>1.0</td>\n",
       "      <td>0.0</td>\n",
       "      <td>1.0</td>\n",
       "      <td>2.012000e+12</td>\n",
       "      <td>3.0</td>\n",
       "      <td>70550.0</td>\n",
       "      <td>2.0</td>\n",
       "      <td>68.0</td>\n",
       "      <td>0.0</td>\n",
       "      <td>0.0</td>\n",
       "      <td>1.0</td>\n",
       "      <td>0.0</td>\n",
       "      <td>yes</td>\n",
       "      <td>gt65</td>\n",
       "      <td>black</td>\n",
       "      <td>no</td>\n",
       "      <td>two</td>\n",
       "      <td>two or more</td>\n",
       "      <td>no</td>\n",
       "      <td>2.0</td>\n",
       "      <td>gt60-lt100</td>\n",
       "      <td>none</td>\n",
       "      <td>own not recent</td>\n",
       "      <td>yes</td>\n",
       "      <td>6.001400e+13</td>\n",
       "      <td>6001.0</td>\n",
       "      <td>2.0</td>\n",
       "      <td>1.0</td>\n",
       "      <td>1.0</td>\n",
       "      <td>4.0</td>\n",
       "      <td>1005.0</td>\n",
       "      <td>4.0</td>\n",
       "      <td>0.105</td>\n",
       "      <td>73380.0</td>\n",
       "      <td>70.55</td>\n",
       "      <td>3.0</td>\n",
       "      <td>10.44</td>\n",
       "      <td>2.81873</td>\n",
       "      <td>2.0</td>\n",
       "      <td>2.0</td>\n",
       "      <td>2.0</td>\n",
       "      <td>0.0</td>\n",
       "      <td>0.0</td>\n",
       "      <td>0.0</td>\n",
       "      <td>0.0</td>\n",
       "      <td>0.0</td>\n",
       "      <td>0.0</td>\n",
       "      <td>True</td>\n",
       "      <td>False</td>\n",
       "      <td>False</td>\n",
       "      <td>False</td>\n",
       "      <td>1.0</td>\n",
       "      <td>0.0</td>\n",
       "      <td>0.0</td>\n",
       "      <td>2.0</td>\n",
       "      <td>2.0</td>\n",
       "      <td>0.0</td>\n",
       "      <td>0.0</td>\n",
       "      <td>2.0</td>\n",
       "      <td>True</td>\n",
       "      <td>0_tours</td>\n",
       "      <td>0.0</td>\n",
       "      <td>-1.184862</td>\n",
       "      <td>-1.194734</td>\n",
       "      <td>-1000.184862</td>\n",
       "      <td>-1000.190503</td>\n",
       "      <td>-1000.184862</td>\n",
       "      <td>-1000.188811</td>\n",
       "      <td>-57.772093</td>\n",
       "      <td>-1016.087313</td>\n",
       "      <td>-1998.380369</td>\n",
       "      <td>-1998.380369</td>\n",
       "      <td>-1998.380369</td>\n",
       "      <td>-2000.092182</td>\n",
       "      <td>-1998.380369</td>\n",
       "      <td>-1001.227631</td>\n",
       "      <td>-1998.427241</td>\n",
       "      <td>-1998.427241</td>\n",
       "      <td>-2000.036363</td>\n",
       "      <td>-1998.427241</td>\n",
       "      <td>-16.603018</td>\n",
       "      <td>-10.597699</td>\n",
       "      <td>-10.606597</td>\n",
       "      <td>2ndQ</td>\n",
       "      <td>4thD</td>\n",
       "    </tr>\n",
       "    <tr>\n",
       "      <th>1</th>\n",
       "      <td>4</td>\n",
       "      <td>1517</td>\n",
       "      <td>61999.0</td>\n",
       "      <td>61185.0</td>\n",
       "      <td>814.0</td>\n",
       "      <td>1.685569</td>\n",
       "      <td>Home</td>\n",
       "      <td>othdiscr</td>\n",
       "      <td>0.0</td>\n",
       "      <td>814.0</td>\n",
       "      <td>0.0</td>\n",
       "      <td>0.0</td>\n",
       "      <td>15368.148</td>\n",
       "      <td>0.0</td>\n",
       "      <td>0.0</td>\n",
       "      <td>0.0</td>\n",
       "      <td>0.0</td>\n",
       "      <td>15368.148</td>\n",
       "      <td>0.0</td>\n",
       "      <td>body-4,358556,358556,body-4</td>\n",
       "      <td>car</td>\n",
       "      <td>car</td>\n",
       "      <td>body-4, 358556</td>\n",
       "      <td>1.0, 0.0, 0.0, 1.0</td>\n",
       "      <td>15368.148</td>\n",
       "      <td>0</td>\n",
       "      <td>NaN</td>\n",
       "      <td>Public, Residential</td>\n",
       "      <td>0</td>\n",
       "      <td>0</td>\n",
       "      <td>0</td>\n",
       "      <td>0</td>\n",
       "      <td>0</td>\n",
       "      <td>0</td>\n",
       "      <td>0.0</td>\n",
       "      <td>0.0</td>\n",
       "      <td>0.0</td>\n",
       "      <td>0.0</td>\n",
       "      <td>2.581897e+07</td>\n",
       "      <td>2.581897e+07</td>\n",
       "      <td>2.581897e+07</td>\n",
       "      <td>6.001410e+10</td>\n",
       "      <td>-122.171960</td>\n",
       "      <td>37.750722</td>\n",
       "      <td>6.001410e+10</td>\n",
       "      <td>6.001410e+09</td>\n",
       "      <td>Oakland</td>\n",
       "      <td>Alameda County</td>\n",
       "      <td>San Francisco Bay Area (MTC)</td>\n",
       "      <td>6.001404e+10</td>\n",
       "      <td>-122.226711</td>\n",
       "      <td>37.849953</td>\n",
       "      <td>6.001404e+10</td>\n",
       "      <td>6.001404e+09</td>\n",
       "      <td>Oakland</td>\n",
       "      <td>Alameda County</td>\n",
       "      <td>San Francisco Bay Area (MTC)</td>\n",
       "      <td>0.0</td>\n",
       "      <td>0.0</td>\n",
       "      <td>0.0</td>\n",
       "      <td>0.001908</td>\n",
       "      <td>0.0</td>\n",
       "      <td>0.0</td>\n",
       "      <td>814.0</td>\n",
       "      <td>0.0</td>\n",
       "      <td>0.0</td>\n",
       "      <td>othdiscr_to_Home</td>\n",
       "      <td>car</td>\n",
       "      <td>car</td>\n",
       "      <td>car</td>\n",
       "      <td>1517.0</td>\n",
       "      <td>4.0</td>\n",
       "      <td>865.0</td>\n",
       "      <td>189.0</td>\n",
       "      <td>othdiscr</td>\n",
       "      <td>1.0</td>\n",
       "      <td>False</td>\n",
       "      <td>1.0</td>\n",
       "      <td>Home</td>\n",
       "      <td>1005.0</td>\n",
       "      <td>891.0</td>\n",
       "      <td>NaN</td>\n",
       "      <td>16.0</td>\n",
       "      <td>DRIVEALONEPAY</td>\n",
       "      <td>-1.415673</td>\n",
       "      <td>othdiscr</td>\n",
       "      <td>1.0</td>\n",
       "      <td>1.0</td>\n",
       "      <td>1.0</td>\n",
       "      <td>1.0</td>\n",
       "      <td>non_mandatory</td>\n",
       "      <td>1.0</td>\n",
       "      <td>891.0</td>\n",
       "      <td>1005.0</td>\n",
       "      <td>865.0</td>\n",
       "      <td>146.0</td>\n",
       "      <td>15.0</td>\n",
       "      <td>16.0</td>\n",
       "      <td>1.0</td>\n",
       "      <td>NaN</td>\n",
       "      <td>12.843532</td>\n",
       "      <td>DRIVEALONEFREE</td>\n",
       "      <td>-1.458456</td>\n",
       "      <td>NaN</td>\n",
       "      <td>NaN</td>\n",
       "      <td>0out_0in</td>\n",
       "      <td>othdiscr</td>\n",
       "      <td>68.0</td>\n",
       "      <td>0.0</td>\n",
       "      <td>22.0</td>\n",
       "      <td>0.0</td>\n",
       "      <td>0.0</td>\n",
       "      <td>1.0</td>\n",
       "      <td>2.0</td>\n",
       "      <td>0.0</td>\n",
       "      <td>2.0</td>\n",
       "      <td>0.0</td>\n",
       "      <td>0.0</td>\n",
       "      <td>0.0</td>\n",
       "      <td>865.0</td>\n",
       "      <td>above 60</td>\n",
       "      <td>female</td>\n",
       "      <td>black</td>\n",
       "      <td>0.0</td>\n",
       "      <td>no</td>\n",
       "      <td>1.0</td>\n",
       "      <td>1005.0</td>\n",
       "      <td>5.0</td>\n",
       "      <td>3.0</td>\n",
       "      <td>3.0</td>\n",
       "      <td>-122.227937</td>\n",
       "      <td>37.854097</td>\n",
       "      <td>False</td>\n",
       "      <td>True</td>\n",
       "      <td>True</td>\n",
       "      <td>False</td>\n",
       "      <td>True</td>\n",
       "      <td>False</td>\n",
       "      <td>True</td>\n",
       "      <td>False</td>\n",
       "      <td>False</td>\n",
       "      <td>False</td>\n",
       "      <td>False</td>\n",
       "      <td>False</td>\n",
       "      <td>False</td>\n",
       "      <td>False</td>\n",
       "      <td>False</td>\n",
       "      <td>False</td>\n",
       "      <td>False</td>\n",
       "      <td>False</td>\n",
       "      <td>False</td>\n",
       "      <td>0.0</td>\n",
       "      <td>False</td>\n",
       "      <td>1005.0</td>\n",
       "      <td>2.81873</td>\n",
       "      <td>-1.0</td>\n",
       "      <td>NaN</td>\n",
       "      <td>0.0</td>\n",
       "      <td>-1.0</td>\n",
       "      <td>NaN</td>\n",
       "      <td>NaN</td>\n",
       "      <td>False</td>\n",
       "      <td>NaN</td>\n",
       "      <td>0.0</td>\n",
       "      <td>0.0</td>\n",
       "      <td>0.0</td>\n",
       "      <td>False</td>\n",
       "      <td>N</td>\n",
       "      <td>True</td>\n",
       "      <td>False</td>\n",
       "      <td>False</td>\n",
       "      <td>False</td>\n",
       "      <td>NaN</td>\n",
       "      <td>False</td>\n",
       "      <td>False</td>\n",
       "      <td>0.0</td>\n",
       "      <td>0.0</td>\n",
       "      <td>0.0</td>\n",
       "      <td>1.0</td>\n",
       "      <td>1.0</td>\n",
       "      <td>0.0</td>\n",
       "      <td>0.0</td>\n",
       "      <td>0.0</td>\n",
       "      <td>0.0</td>\n",
       "      <td>1.0</td>\n",
       "      <td>0.0</td>\n",
       "      <td>1.0</td>\n",
       "      <td>2.012000e+12</td>\n",
       "      <td>3.0</td>\n",
       "      <td>70550.0</td>\n",
       "      <td>2.0</td>\n",
       "      <td>68.0</td>\n",
       "      <td>0.0</td>\n",
       "      <td>0.0</td>\n",
       "      <td>1.0</td>\n",
       "      <td>0.0</td>\n",
       "      <td>yes</td>\n",
       "      <td>gt65</td>\n",
       "      <td>black</td>\n",
       "      <td>no</td>\n",
       "      <td>two</td>\n",
       "      <td>two or more</td>\n",
       "      <td>no</td>\n",
       "      <td>2.0</td>\n",
       "      <td>gt60-lt100</td>\n",
       "      <td>none</td>\n",
       "      <td>own not recent</td>\n",
       "      <td>yes</td>\n",
       "      <td>6.001400e+13</td>\n",
       "      <td>6001.0</td>\n",
       "      <td>2.0</td>\n",
       "      <td>1.0</td>\n",
       "      <td>1.0</td>\n",
       "      <td>4.0</td>\n",
       "      <td>1005.0</td>\n",
       "      <td>4.0</td>\n",
       "      <td>0.105</td>\n",
       "      <td>73380.0</td>\n",
       "      <td>70.55</td>\n",
       "      <td>3.0</td>\n",
       "      <td>10.44</td>\n",
       "      <td>2.81873</td>\n",
       "      <td>2.0</td>\n",
       "      <td>2.0</td>\n",
       "      <td>2.0</td>\n",
       "      <td>0.0</td>\n",
       "      <td>0.0</td>\n",
       "      <td>0.0</td>\n",
       "      <td>0.0</td>\n",
       "      <td>0.0</td>\n",
       "      <td>0.0</td>\n",
       "      <td>True</td>\n",
       "      <td>False</td>\n",
       "      <td>False</td>\n",
       "      <td>False</td>\n",
       "      <td>1.0</td>\n",
       "      <td>0.0</td>\n",
       "      <td>0.0</td>\n",
       "      <td>2.0</td>\n",
       "      <td>2.0</td>\n",
       "      <td>0.0</td>\n",
       "      <td>0.0</td>\n",
       "      <td>2.0</td>\n",
       "      <td>True</td>\n",
       "      <td>0_tours</td>\n",
       "      <td>0.0</td>\n",
       "      <td>-1.585060</td>\n",
       "      <td>-1.595994</td>\n",
       "      <td>-1000.580569</td>\n",
       "      <td>-1000.586817</td>\n",
       "      <td>-1000.578772</td>\n",
       "      <td>-1000.583146</td>\n",
       "      <td>-65.175868</td>\n",
       "      <td>-1019.789200</td>\n",
       "      <td>-1998.380369</td>\n",
       "      <td>-1998.380369</td>\n",
       "      <td>-1998.380369</td>\n",
       "      <td>-1998.978355</td>\n",
       "      <td>-1998.380369</td>\n",
       "      <td>-1998.427241</td>\n",
       "      <td>-1998.427241</td>\n",
       "      <td>-1998.427241</td>\n",
       "      <td>-1998.427241</td>\n",
       "      <td>-1998.427241</td>\n",
       "      <td>-18.407549</td>\n",
       "      <td>-14.571624</td>\n",
       "      <td>-10.432570</td>\n",
       "      <td>2ndQ</td>\n",
       "      <td>4thD</td>\n",
       "    </tr>\n",
       "  </tbody>\n",
       "</table>\n",
       "</div>"
      ],
      "text/plain": [
       "   IDMerged  tripIndex  actStartTime  actEndTime  duration_travelling  \\\n",
       "0         4       1513       55457.0     54777.0                680.0   \n",
       "1         4       1517       61999.0     61185.0                814.0   \n",
       "\n",
       "   cost_BEAM actStartType actEndType  duration_walking  \\\n",
       "0   1.609457     othdiscr       Home               0.0   \n",
       "1   1.685569         Home   othdiscr               0.0   \n",
       "\n",
       "   duration_in_privateCar  duration_on_bike  duration_in_ridehail  \\\n",
       "0                   680.0               0.0                   0.0   \n",
       "1                   814.0               0.0                   0.0   \n",
       "\n",
       "   distance_travelling  duration_in_transit  distance_walking  distance_bike  \\\n",
       "0            14674.192                  0.0               0.0            0.0   \n",
       "1            15368.148                  0.0               0.0            0.0   \n",
       "\n",
       "   distance_ridehail  distance_privateCar  distance_transit  \\\n",
       "0                0.0            14674.192               0.0   \n",
       "1                0.0            15368.148               0.0   \n",
       "\n",
       "           vehicleIds_estimate mode_choice_planned_BEAM  \\\n",
       "0  body-4,358556,358556,body-4                      car   \n",
       "1  body-4,358556,358556,body-4                      car   \n",
       "\n",
       "  mode_choice_actual_BEAM      vehicleIds       numPassengers  \\\n",
       "0                     car  body-4, 358556  1.0, 0.0, 0.0, 1.0   \n",
       "1                     car  body-4, 358556  1.0, 0.0, 0.0, 1.0   \n",
       "\n",
       "   distance_mode_choice  replanning_status reason          parkingType  \\\n",
       "0             14674.192                  0    NaN  Residential, Public   \n",
       "1             15368.148                  0    NaN  Public, Residential   \n",
       "\n",
       "   transit_bus  transit_subway  transit_tram  transit_cable_car  \\\n",
       "0            0               0             0                  0   \n",
       "1            0               0             0                  0   \n",
       "\n",
       "   ride_hail_pooled  transit_rail  fuelFood  fuelElectricity  fuelBiodiesel  \\\n",
       "0                 0             0       0.0              0.0            0.0   \n",
       "1                 0             0       0.0              0.0            0.0   \n",
       "\n",
       "   fuelDiesel  fuel_not_Food  fuelGasoline  fuel_marginal  BlockGroupStart  \\\n",
       "0         0.0   2.405018e+07  2.405018e+07   2.405018e+07     6.001400e+10   \n",
       "1         0.0   2.581897e+07  2.581897e+07   2.581897e+07     6.001410e+10   \n",
       "\n",
       "       startX     startY    bgid_start  tractid_start juris_name_start  \\\n",
       "0 -122.227937  37.854097  6.001400e+10   6.001400e+09          Oakland   \n",
       "1 -122.171960  37.750722  6.001410e+10   6.001410e+09          Oakland   \n",
       "\n",
       "  county_name_start                     mpo_start  BlockGroupEnd        endX  \\\n",
       "0    Alameda County  San Francisco Bay Area (MTC)   6.001410e+10 -122.171960   \n",
       "1    Alameda County  San Francisco Bay Area (MTC)   6.001404e+10 -122.226711   \n",
       "\n",
       "        endY      bgid_end   tractid_end juris_name_end county_name_end  \\\n",
       "0  37.750722  6.001410e+10  6.001410e+09        Oakland  Alameda County   \n",
       "1  37.849953  6.001404e+10  6.001404e+09        Oakland  Alameda County   \n",
       "\n",
       "                        mpo_end  emissionFood  emissionElectricity  \\\n",
       "0  San Francisco Bay Area (MTC)           0.0                  0.0   \n",
       "1  San Francisco Bay Area (MTC)           0.0                  0.0   \n",
       "\n",
       "   emissionDiesel  emissionGasoline  emissionBiodiesel  emission_marginal  \\\n",
       "0             0.0          0.001778                0.0                0.0   \n",
       "1             0.0          0.001908                0.0                0.0   \n",
       "\n",
       "   duration_door_to_door  waitTime_no_replanning  waitTime_replanning  \\\n",
       "0                  680.0                     0.0                  0.0   \n",
       "1                  814.0                     0.0                  0.0   \n",
       "\n",
       "         actPurpose mode_choice_actual_5 mode_choice_actual_6  \\\n",
       "0  Home_to_othdiscr                  car                  car   \n",
       "1  othdiscr_to_Home                  car                  car   \n",
       "\n",
       "  mode_choice_actual_4  trip_id  person_id  household_id  tour_id  \\\n",
       "0                  car   1513.0        4.0         865.0    189.0   \n",
       "1                  car   1517.0        4.0         865.0    189.0   \n",
       "\n",
       "  primary_purpose_x  trip_num outbound  trip_count   purpose  destination_x  \\\n",
       "0          othdiscr       1.0     True         1.0  othdiscr          891.0   \n",
       "1          othdiscr       1.0    False         1.0      Home         1005.0   \n",
       "\n",
       "   origin_x  destination_logsum_x  depart trip_mode_AS_trips  \\\n",
       "0    1005.0                   NaN    15.0     DRIVEALONEFREE   \n",
       "1     891.0                   NaN    16.0      DRIVEALONEPAY   \n",
       "\n",
       "   logsum_trip_Potential_INEXUS tour_type  tour_type_count  tour_type_num  \\\n",
       "0                     -1.014988  othdiscr              1.0            1.0   \n",
       "1                     -1.415673  othdiscr              1.0            1.0   \n",
       "\n",
       "   tour_num  tour_count  tour_category  number_of_participants  destination_y  \\\n",
       "0       1.0         1.0  non_mandatory                     1.0          891.0   \n",
       "1       1.0         1.0  non_mandatory                     1.0          891.0   \n",
       "\n",
       "   origin_y  household_id_x    tdd  start   end  duration composition  \\\n",
       "0    1005.0           865.0  146.0   15.0  16.0       1.0         NaN   \n",
       "1    1005.0           865.0  146.0   15.0  16.0       1.0         NaN   \n",
       "\n",
       "   destination_logsum_y tour_mode_AS_tours  logsum_tours_mode_AS_tours  \\\n",
       "0             12.843532     DRIVEALONEFREE                   -1.458456   \n",
       "1             12.843532     DRIVEALONEFREE                   -1.458456   \n",
       "\n",
       "  atwork_subtour_frequency  parent_tour_id stop_frequency primary_purpose_y  \\\n",
       "0                      NaN             NaN       0out_0in          othdiscr   \n",
       "1                      NaN             NaN       0out_0in          othdiscr   \n",
       "\n",
       "    age  earning   edu  hispanic  hours  PNUM  race_id  relate  sex  student  \\\n",
       "0  68.0      0.0  22.0       0.0    0.0   1.0      2.0     0.0  2.0      0.0   \n",
       "1  68.0      0.0  22.0       0.0    0.0   1.0      2.0     0.0  2.0      0.0   \n",
       "\n",
       "   work_at_home  worker  household_id_y person_age person_sex   race  \\\n",
       "0           0.0     0.0           865.0   above 60     female  black   \n",
       "1           0.0     0.0           865.0   above 60     female  black   \n",
       "\n",
       "   hispanic.1 p_hispanic  MAR   TAZ_x  ptype  pemploy  pstudent      home_x  \\\n",
       "0         0.0         no  1.0  1005.0    5.0      3.0       3.0 -122.227937   \n",
       "1         0.0         no  1.0  1005.0    5.0      3.0       3.0 -122.227937   \n",
       "\n",
       "      home_y age_16_to_19 age_16_p adult   male female has_non_worker  \\\n",
       "0  37.854097        False     True  True  False   True          False   \n",
       "1  37.854097        False     True  True  False   True          False   \n",
       "\n",
       "  has_retiree has_preschool_kid has_driving_kid has_school_kid has_full_time  \\\n",
       "0        True             False           False          False         False   \n",
       "1        True             False           False          False         False   \n",
       "\n",
       "  has_part_time has_university student_is_employed nonstudent_to_school  \\\n",
       "0         False          False               False                False   \n",
       "1         False          False               False                False   \n",
       "\n",
       "  is_student is_gradeschool is_highschool is_university  school_segment  \\\n",
       "0      False          False         False         False             0.0   \n",
       "1      False          False         False         False             0.0   \n",
       "\n",
       "  is_worker  home_taz  value_of_time  school_taz  distance_to_school  \\\n",
       "0     False    1005.0        2.81873        -1.0                 NaN   \n",
       "1     False    1005.0        2.81873        -1.0                 NaN   \n",
       "\n",
       "   roundtrip_auto_time_to_school  workplace_taz  workplace_location_logsum  \\\n",
       "0                            0.0           -1.0                        NaN   \n",
       "1                            0.0           -1.0                        NaN   \n",
       "\n",
       "   distance_to_work workplace_in_cbd  work_taz_area_type  \\\n",
       "0               NaN            False                 NaN   \n",
       "1               NaN            False                 NaN   \n",
       "\n",
       "   roundtrip_auto_time_to_work  work_auto_savings  work_auto_savings_ratio  \\\n",
       "0                          0.0                0.0                      0.0   \n",
       "1                          0.0                0.0                      0.0   \n",
       "\n",
       "  free_parking_at_work cdap_activity travel_active under16_not_at_school  \\\n",
       "0                False             N          True                 False   \n",
       "1                False             N          True                 False   \n",
       "\n",
       "  has_preschool_kid_at_home has_school_kid_at_home mandatory_tour_frequency  \\\n",
       "0                     False                  False                      NaN   \n",
       "1                     False                  False                      NaN   \n",
       "\n",
       "  work_and_school_and_worker work_and_school_and_student  num_mand  \\\n",
       "0                      False                       False       0.0   \n",
       "1                      False                       False       0.0   \n",
       "\n",
       "   num_work_tours  num_joint_tours  non_mandatory_tour_frequency  \\\n",
       "0             0.0              0.0                           1.0   \n",
       "1             0.0              0.0                           1.0   \n",
       "\n",
       "   num_non_mand  num_escort_tours  num_eatout_tours  num_shop_tours  \\\n",
       "0           1.0               0.0               0.0             0.0   \n",
       "1           1.0               0.0               0.0             0.0   \n",
       "\n",
       "   num_maint_tours  num_discr_tours  num_social_tours  num_non_escort_tours  \\\n",
       "0              0.0              1.0               0.0                   1.0   \n",
       "1              0.0              1.0               0.0                   1.0   \n",
       "\n",
       "       serialno  VEHICL   income  race_of_head  age_of_head  num_workers  \\\n",
       "0  2.012000e+12     3.0  70550.0           2.0         68.0          0.0   \n",
       "1  2.012000e+12     3.0  70550.0           2.0         68.0          0.0   \n",
       "\n",
       "   hispanic_status_of_head  tenure  recent_mover sf_detached hh_age_of_head  \\\n",
       "0                      0.0     1.0           0.0         yes           gt65   \n",
       "1                      0.0     1.0           0.0         yes           gt65   \n",
       "\n",
       "  hh_race_of_head hispanic_head hh_size      hh_cars hh_children  seniors  \\\n",
       "0           black            no     two  two or more          no      2.0   \n",
       "1           black            no     two  two or more          no      2.0   \n",
       "\n",
       "    hh_income hh_workers    tenure_mover hh_seniors      block_id  \\\n",
       "0  gt60-lt100       none  own not recent        yes  6.001400e+13   \n",
       "1  gt60-lt100       none  own not recent        yes  6.001400e+13   \n",
       "\n",
       "   lcm_county_id  hhsize  gt55  gt2  hh_type   TAZ_y  HHT  sample_rate  \\\n",
       "0         6001.0     2.0   1.0  1.0      4.0  1005.0  4.0        0.105   \n",
       "1         6001.0     2.0   1.0  1.0      4.0  1005.0  4.0        0.105   \n",
       "\n",
       "   chunk_id  income_in_thousands  income_segment  median_value_of_time  \\\n",
       "0   73380.0                70.55             3.0                 10.44   \n",
       "1   73380.0                70.55             3.0                 10.44   \n",
       "\n",
       "   hh_value_of_time  num_non_workers  num_drivers  num_adults  num_children  \\\n",
       "0           2.81873              2.0          2.0         2.0           0.0   \n",
       "1           2.81873              2.0          2.0         2.0           0.0   \n",
       "\n",
       "   num_young_children  num_children_5_to_15  num_children_16_to_17  \\\n",
       "0                 0.0                   0.0                    0.0   \n",
       "1                 0.0                   0.0                    0.0   \n",
       "\n",
       "   num_college_age  num_young_adults non_family family home_is_urban  \\\n",
       "0              0.0               0.0       True  False         False   \n",
       "1              0.0               0.0       True  False         False   \n",
       "\n",
       "  home_is_rural  auto_ownership  hh_work_auto_savings_ratio  \\\n",
       "0         False             1.0                         0.0   \n",
       "1         False             1.0                         0.0   \n",
       "\n",
       "   num_under16_not_at_school  num_travel_active  num_travel_active_adults  \\\n",
       "0                        0.0                2.0                       2.0   \n",
       "1                        0.0                2.0                       2.0   \n",
       "\n",
       "   num_travel_active_preschoolers  num_travel_active_children  \\\n",
       "0                             0.0                         0.0   \n",
       "1                             0.0                         0.0   \n",
       "\n",
       "   num_travel_active_non_preschoolers participates_in_jtf_model  \\\n",
       "0                                 2.0                      True   \n",
       "1                                 2.0                      True   \n",
       "\n",
       "  joint_tour_frequency  num_hh_joint_tours  DRIVEALONEFREE  DRIVEALONEPAY  \\\n",
       "0              0_tours                 0.0       -1.184862      -1.194734   \n",
       "1              0_tours                 0.0       -1.585060      -1.595994   \n",
       "\n",
       "   SHARED2FREE   SHARED2PAY  SHARED3FREE   SHARED3PAY       WALK         BIKE  \\\n",
       "0 -1000.184862 -1000.190503 -1000.184862 -1000.188811 -57.772093 -1016.087313   \n",
       "1 -1000.580569 -1000.586817 -1000.578772 -1000.583146 -65.175868 -1019.789200   \n",
       "\n",
       "      WALK_LOC     WALK_LRF     WALK_EXP     WALK_HVY     WALK_COM  \\\n",
       "0 -1998.380369 -1998.380369 -1998.380369 -2000.092182 -1998.380369   \n",
       "1 -1998.380369 -1998.380369 -1998.380369 -1998.978355 -1998.380369   \n",
       "\n",
       "     DRIVE_LOC    DRIVE_LRF    DRIVE_EXP    DRIVE_HVY    DRIVE_COM       TAXI  \\\n",
       "0 -1001.227631 -1998.427241 -1998.427241 -2000.036363 -1998.427241 -16.603018   \n",
       "1 -1998.427241 -1998.427241 -1998.427241 -1998.427241 -1998.427241 -18.407549   \n",
       "\n",
       "   TNC_SINGLE  TNC_SHARED income_quartiles income_deciles  \n",
       "0  -10.597699  -10.606597             2ndQ           4thD  \n",
       "1  -14.571624  -10.432570             2ndQ           4thD  "
      ]
     },
     "execution_count": 6,
     "metadata": {},
     "output_type": "execute_result"
    }
   ],
   "source": [
    "sfbase.head(2)"
   ]
  },
  {
   "cell_type": "code",
   "execution_count": 12,
   "id": "6adeb871",
   "metadata": {},
   "outputs": [
    {
     "data": {
      "text/plain": [
       "7529"
      ]
     },
     "execution_count": 12,
     "metadata": {},
     "output_type": "execute_result"
    }
   ],
   "source": [
    "sfbase.loc[(sfbase['income'] < 50000) & (sfbase['age'] < 25) & ((sfbase['pemploy'] == 1)|(sfbase['pemploy'] == 2)|(sfbase['pemploy'].isna()))]['IDMerged'].nunique()"
   ]
  },
  {
   "cell_type": "code",
   "execution_count": 13,
   "id": "0705b8e1",
   "metadata": {},
   "outputs": [
    {
     "data": {
      "text/plain": [
       "57780"
      ]
     },
     "execution_count": 13,
     "metadata": {},
     "output_type": "execute_result"
    }
   ],
   "source": [
    "sfbase.loc[(sfbase['income'] < 50000) & ((sfbase['age'] >= 25)|(sfbase['age'] < 45)) &((sfbase['pemploy'] == 1)|(sfbase['pemploy'] == 2)|(sfbase['pemploy'].isna()))]['IDMerged'].nunique()"
   ]
  },
  {
   "cell_type": "code",
   "execution_count": 14,
   "id": "b9ca2539",
   "metadata": {},
   "outputs": [
    {
     "data": {
      "text/plain": [
       "25662"
      ]
     },
     "execution_count": 14,
     "metadata": {},
     "output_type": "execute_result"
    }
   ],
   "source": [
    "sfbase.loc[(sfbase['income'] < 50000) & (sfbase['age'] >= 45) & ((sfbase['pemploy'] == 1)|(sfbase['pemploy'] == 2)|(sfbase['pemploy'].isna()))]['IDMerged'].nunique()"
   ]
  },
  {
   "cell_type": "code",
   "execution_count": 15,
   "id": "e1fb0719",
   "metadata": {},
   "outputs": [
    {
     "data": {
      "text/plain": [
       "320733"
      ]
     },
     "execution_count": 15,
     "metadata": {},
     "output_type": "execute_result"
    }
   ],
   "source": [
    "sfbase.loc[((sfbase['income'] >= 50000)|(sfbase['income'] < 150000)) & ((sfbase['age'] >= 25)|(sfbase['age'] < 45)) & \n",
    "          ((sfbase['pemploy'] == 1)|(sfbase['pemploy'] == 2)|(sfbase['pemploy'].isna()))]['IDMerged'].nunique()"
   ]
  },
  {
   "cell_type": "code",
   "execution_count": 16,
   "id": "af5eb7ff",
   "metadata": {},
   "outputs": [
    {
     "data": {
      "text/plain": [
       "28285"
      ]
     },
     "execution_count": 16,
     "metadata": {},
     "output_type": "execute_result"
    }
   ],
   "source": [
    "sfbase.loc[((sfbase['income'] >= 50000)|(sfbase['income'] < 150000)) & (sfbase['age'] < 25) & \n",
    "           ((sfbase['pemploy'] == 1)|(sfbase['pemploy'] == 2)|(sfbase['pemploy'].isna()))]['IDMerged'].nunique()"
   ]
  },
  {
   "cell_type": "code",
   "execution_count": 17,
   "id": "3c80b91e",
   "metadata": {},
   "outputs": [
    {
     "data": {
      "text/plain": [
       "156627"
      ]
     },
     "execution_count": 17,
     "metadata": {},
     "output_type": "execute_result"
    }
   ],
   "source": [
    "sfbase.loc[((sfbase['income'] >= 50000)|(sfbase['income'] < 150000)) & (sfbase['age'] >= 45) & \n",
    "           ((sfbase['pemploy'] == 1)|(sfbase['pemploy'] == 2)|(sfbase['pemploy'].isna()))]['IDMerged'].nunique()"
   ]
  },
  {
   "cell_type": "code",
   "execution_count": 18,
   "id": "0ed858d0",
   "metadata": {},
   "outputs": [
    {
     "data": {
      "text/plain": [
       "52252"
      ]
     },
     "execution_count": 18,
     "metadata": {},
     "output_type": "execute_result"
    }
   ],
   "source": [
    "sfbase.loc[(sfbase['income'] >= 150000) & (sfbase['age'] >= 45) & \n",
    "           ((sfbase['pemploy'] == 1)|(sfbase['pemploy'] == 2)|(sfbase['pemploy'].isna()))]['IDMerged'].nunique()"
   ]
  },
  {
   "cell_type": "code",
   "execution_count": 20,
   "id": "54e48049",
   "metadata": {},
   "outputs": [
    {
     "data": {
      "text/plain": [
       "98264"
      ]
     },
     "execution_count": 20,
     "metadata": {},
     "output_type": "execute_result"
    }
   ],
   "source": [
    "sfbase.loc[(sfbase['income'] >= 150000) & ((sfbase['age'] >= 25)|(sfbase['age'] < 45)) & \n",
    "           ((sfbase['pemploy'] == 1)|(sfbase['pemploy'] == 2)|(sfbase['pemploy'].isna()))]['IDMerged'].nunique()"
   ]
  },
  {
   "cell_type": "code",
   "execution_count": 21,
   "id": "feff3e97",
   "metadata": {},
   "outputs": [
    {
     "data": {
      "text/plain": [
       "5800"
      ]
     },
     "execution_count": 21,
     "metadata": {},
     "output_type": "execute_result"
    }
   ],
   "source": [
    "sfbase.loc[(sfbase['income'] >= 150000) & (sfbase['age'] < 25)& \n",
    "           ((sfbase['pemploy'] == 1)|(sfbase['pemploy'] == 2)|(sfbase['pemploy'].isna()))]['IDMerged'].nunique()"
   ]
  },
  {
   "cell_type": "code",
   "execution_count": null,
   "id": "748fb650",
   "metadata": {},
   "outputs": [],
   "source": []
  },
  {
   "cell_type": "code",
   "execution_count": 17,
   "id": "1a165d83",
   "metadata": {},
   "outputs": [
    {
     "name": "stderr",
     "output_type": "stream",
     "text": [
      "<timed exec>:4: DtypeWarning: Columns (27,77,133,134,135,136,137,138,139,140,141,142,143,144,145,146,147,148,149,150,151,153,162,167,169,170,171,172,174,175,232,233,234,235,244) have mixed types. Specify dtype option on import or set low_memory=False.\n"
     ]
    },
    {
     "name": "stdout",
     "output_type": "stream",
     "text": [
      "CPU times: total: 1min 43s\n",
      "Wall time: 1min 43s\n"
     ]
    }
   ],
   "source": [
    "%%time\n",
    "s3 = boto3.client(\"s3\")\n",
    "key = \"pilates-outputs/sfbay-baseline-2022124/inexus/sfbay_baseline_default-1.0_2020__20221224.csv.gz\"  #the path should be updated\n",
    "obj = s3.get_object(Bucket=\"beam-outputs\", Key=key) \n",
    "sfbase_rh = pd.read_csv(obj['Body'], compression = 'gzip', index_col='Unnamed: 0')"
   ]
  },
  {
   "cell_type": "code",
   "execution_count": 21,
   "id": "fa2a636a",
   "metadata": {},
   "outputs": [],
   "source": [
    "col_tele = sfbase.columns.tolist()"
   ]
  },
  {
   "cell_type": "code",
   "execution_count": 22,
   "id": "b20d6a87",
   "metadata": {},
   "outputs": [],
   "source": [
    "col_norm = sfbase_rh.columns.tolist()"
   ]
  },
  {
   "cell_type": "code",
   "execution_count": 23,
   "id": "57339cea",
   "metadata": {},
   "outputs": [
    {
     "name": "stdout",
     "output_type": "stream",
     "text": [
      "equal\n"
     ]
    }
   ],
   "source": [
    "if col_tele == col_norm:\n",
    "    print (\"equal\")\n",
    "else:\n",
    "    print (\"different\")"
   ]
  },
  {
   "cell_type": "code",
   "execution_count": 14,
   "id": "45e0444d",
   "metadata": {},
   "outputs": [],
   "source": [
    "col_tele = set(sfbase.columns)\n",
    "col_norm = set(sfbase_rh.columns)\n",
    "\n",
    "diff_cols1 = col_tele - col_norm\n",
    "diff_cols2 = col_norm - col_tele"
   ]
  },
  {
   "cell_type": "code",
   "execution_count": 16,
   "id": "fecff907",
   "metadata": {},
   "outputs": [
    {
     "name": "stdout",
     "output_type": "stream",
     "text": [
      "Columns in dataset 1 but not in dataset 2: {'num_social_tours', 'num_non_escort_tours', 'origin_y', 'recent_mover', 'hh_work_auto_savings_ratio', 'tour_type', 'num_hh_joint_tours', 'emissionGasoline', 'has_preschool_kid', 'has_preschool_kid_at_home', 'is_worker', 'income_segment', 'median_value_of_time', 'joint_tour_frequency', 'transit_cable_car', 'trip_num', 'cdap_activity', 'travel_active', 'num_non_workers', 'serialno', 'num_travel_active', 'student_is_employed', 'num_maint_tours', 'tdd', 'has_full_time', 'female', 'transit_rail', 'start', 'chunk_id', 'gt55', 'age_16_to_19', 'household_id', 'end', 'trip_count', 'non_mandatory_tour_frequency', 'workplace_taz', 'workplace_in_cbd', 'purpose', 'tour_id', 'primary_purpose_y', 'hh_seniors', 'transit_bus', 'duration', 'work_and_school_and_worker', 'has_school_kid_at_home', 'emissionBiodiesel', 'PNUM', 'hispanic_head', 'num_escort_tours', 'person_id', 'num_children', 'hours', 'num_children_5_to_15', 'lcm_county_id', 'num_under16_not_at_school', 'workplace_location_logsum', 'male', 'school_segment', 'is_university', 'has_part_time', 'destination_logsum_y', 'fuelFood', 'num_adults', 'work_at_home', 'earning', 'ptype', 'emissionElectricity', 'destination_y', 'tour_type_count', 'vehicleIds_estimate', 'fuelGasoline', 'fuelElectricity', 'composition', 'age_16_p', 'person_age', 'under16_not_at_school', 'transit_subway', 'mandatory_tour_frequency', 'hh_size', 'num_discr_tours', 'is_student', 'num_work_tours', 'participates_in_jtf_model', 'work_auto_savings', 'origin_x', 'sex', 'num_non_mand', 'num_shop_tours', 'nonstudent_to_school', 'distance_to_school', 'hh_age_of_head', 'hispanic', 'student', 'free_parking_at_work', 'hhsize', 'tour_mode_AS_tours', 'has_university', 'age_of_head', 'hispanic.1', 'num_college_age', 'fuelDiesel', 'race_id', 'num_eatout_tours', 'parkingType', 'num_young_children', 'parent_tour_id', 'hh_type', 'primary_purpose_x', 'pstudent', 'distance_to_work', 'num_travel_active_preschoolers', 'transit_tram', 'is_highschool', 'roundtrip_auto_time_to_school', 'work_auto_savings_ratio', 'tour_category', 'numPassengers', 'value_of_time', 'atwork_subtour_frequency', 'num_mand', 'num_travel_active_children', 'tour_type_num', 'person_sex', 'hh_value_of_time', 'family', 'household_id_y', 'relate', 'work_taz_area_type', 'num_workers', 'hh_race_of_head', 'non_family', 'trip_id', 'TAZ_y', 'num_drivers', 'num_travel_active_non_preschoolers', 'tenure', 'tour_count', 'num_travel_active_adults', 'hh_children', 'home_y', 'has_non_worker', 'roundtrip_auto_time_to_work', 'worker', 'tenure_mover', 'gt2', 'ride_hail_pooled', 'destination_x', 'num_joint_tours', 'num_young_adults', 'race', 'has_driving_kid', 'VEHICL', 'school_taz', 'block_id', 'is_gradeschool', 'has_school_kid', 'logsum_tours_mode_AS_tours', 'seniors', 'emissionFood', 'pemploy', 'race_of_head', 'sample_rate', 'fuel_not_Food', 'p_hispanic', 'depart', 'sf_detached', 'edu', 'hh_workers', 'has_retiree', 'destination_logsum_x', 'tour_num', 'home_x', 'hh_income', 'HHT', 'stop_frequency', 'work_and_school_and_student', 'household_id_x', 'MAR', 'outbound', 'fuelBiodiesel', 'emissionDiesel', 'num_children_16_to_17', 'number_of_participants', 'hispanic_status_of_head', 'adult', 'income_in_thousands'}\n"
     ]
    }
   ],
   "source": [
    "if len(diff_cols1) > 0:\n",
    "    print(\"Columns in dataset 1 but not in dataset 2:\", diff_cols1)"
   ]
  },
  {
   "cell_type": "markdown",
   "id": "7db4f0ad",
   "metadata": {
    "heading_collapsed": true
   },
   "source": [
    "####  Ridehail pooled riders match"
   ]
  },
  {
   "cell_type": "code",
   "execution_count": 22,
   "id": "150c49aa",
   "metadata": {
    "hidden": true
   },
   "outputs": [
    {
     "data": {
      "text/plain": [
       "(7435159, 83)"
      ]
     },
     "execution_count": 22,
     "metadata": {},
     "output_type": "execute_result"
    }
   ],
   "source": [
    "sfbase.shape"
   ]
  },
  {
   "cell_type": "code",
   "execution_count": 248,
   "id": "0f1a4006",
   "metadata": {
    "hidden": true
   },
   "outputs": [
    {
     "data": {
      "text/plain": [
       "(4545, 270)"
      ]
     },
     "execution_count": 248,
     "metadata": {},
     "output_type": "execute_result"
    }
   ],
   "source": [
    "pooled.shape"
   ]
  },
  {
   "cell_type": "code",
   "execution_count": 249,
   "id": "522b4ab3",
   "metadata": {
    "hidden": true
   },
   "outputs": [
    {
     "data": {
      "text/plain": [
       "(32412, 269)"
      ]
     },
     "execution_count": 249,
     "metadata": {},
     "output_type": "execute_result"
    }
   ],
   "source": [
    "sfbase[(sfbase['mode_choice_actual_BEAM'] == \"ride_hail_pooled\")|(sfbase['mode_choice_actual_BEAM'] == \"ride_hail\")].shape"
   ]
  },
  {
   "cell_type": "code",
   "execution_count": 275,
   "id": "fc85b649",
   "metadata": {
    "hidden": true
   },
   "outputs": [],
   "source": [
    "pooled = sfbase[sfbase['mode_choice_actual_BEAM'] == \"ride_hail_pooled\"]"
   ]
  },
  {
   "cell_type": "code",
   "execution_count": 276,
   "id": "6422a3bd",
   "metadata": {
    "hidden": true,
    "scrolled": true
   },
   "outputs": [
    {
     "name": "stderr",
     "output_type": "stream",
     "text": [
      "C:\\Users\\nazanin\\AppData\\Local\\Temp\\2\\ipykernel_8736\\2292529406.py:1: SettingWithCopyWarning: \n",
      "A value is trying to be set on a copy of a slice from a DataFrame.\n",
      "Try using .loc[row_indexer,col_indexer] = value instead\n",
      "\n",
      "See the caveats in the documentation: https://pandas.pydata.org/pandas-docs/stable/user_guide/indexing.html#returning-a-view-versus-a-copy\n",
      "  pooled['group'] = pooled['vehicleIds'].str.extract(r'(rideHail.*)')\n"
     ]
    }
   ],
   "source": [
    "pooled['group'] = pooled['vehicleIds'].str.extract(r'(rideHail.*)')"
   ]
  },
  {
   "cell_type": "code",
   "execution_count": 277,
   "id": "7f4bb9db",
   "metadata": {
    "hidden": true
   },
   "outputs": [
    {
     "name": "stderr",
     "output_type": "stream",
     "text": [
      "C:\\Users\\nazanin\\AppData\\Local\\Temp\\2\\ipykernel_8736\\2724310920.py:1: SettingWithCopyWarning: \n",
      "A value is trying to be set on a copy of a slice from a DataFrame.\n",
      "Try using .loc[row_indexer,col_indexer] = value instead\n",
      "\n",
      "See the caveats in the documentation: https://pandas.pydata.org/pandas-docs/stable/user_guide/indexing.html#returning-a-view-versus-a-copy\n",
      "  pooled['group'] = pooled['group'].str.split(',').str[0]\n"
     ]
    }
   ],
   "source": [
    "pooled['group'] = pooled['group'].str.split(',').str[0]"
   ]
  },
  {
   "cell_type": "code",
   "execution_count": 278,
   "id": "41101833",
   "metadata": {
    "hidden": true
   },
   "outputs": [],
   "source": [
    "#pooled['end_time'] = pd.to_datetime(pooled['actStartTime'], unit='s')\n",
    "#pooled['start_time'] = pd.to_datetime(pooled['actEndTime'], unit='s')"
   ]
  },
  {
   "cell_type": "code",
   "execution_count": 279,
   "id": "572f2f50",
   "metadata": {
    "hidden": true
   },
   "outputs": [],
   "source": [
    "#pooled['start_time'] = pooled['start_time'].dt.time"
   ]
  },
  {
   "cell_type": "code",
   "execution_count": 280,
   "id": "164a12e3",
   "metadata": {
    "hidden": true
   },
   "outputs": [],
   "source": [
    "#pooled['end_time'] = pooled['end_time'].dt.time"
   ]
  },
  {
   "cell_type": "code",
   "execution_count": 281,
   "id": "698d6032",
   "metadata": {
    "hidden": true
   },
   "outputs": [],
   "source": [
    "pooled = pooled.sort_values(['actEndTime', 'actStartTime'], ascending=[True, False])"
   ]
  },
  {
   "cell_type": "code",
   "execution_count": 282,
   "id": "c88c1a88",
   "metadata": {
    "hidden": true
   },
   "outputs": [
    {
     "name": "stdout",
     "output_type": "stream",
     "text": [
      "CPU times: total: 1.19 s\n",
      "Wall time: 1.16 s\n"
     ]
    }
   ],
   "source": [
    "%%time\n",
    "mutual_pooled = pd.pivot_table(\n",
    "   pooled,\n",
    "   index=['group'],\n",
    "   aggfunc={'IDMerged': lambda x: ', '.join(list(x.dropna().astype(str))),\n",
    "            'tripIndex': lambda x: ', '.join(list(x.dropna().astype(str))),\n",
    "            'actPurpose': lambda x: ', '.join(list(x.dropna().astype(str))),\n",
    "            'mode_choice_planned_BEAM': lambda x: ', '.join(list(x.dropna().astype(str))),\n",
    "            'mode_choice_actual_BEAM': lambda x: ', '.join(list(x.dropna().astype(str))),\n",
    "            'actStartTime': lambda x: ', '.join(list(x.dropna().astype(str))),\n",
    "            'actEndTime': lambda x: ', '.join(list(x.dropna().astype(str)))}).reset_index() "
   ]
  },
  {
   "cell_type": "code",
   "execution_count": 283,
   "id": "eda98029",
   "metadata": {
    "hidden": true
   },
   "outputs": [
    {
     "data": {
      "text/html": [
       "<div>\n",
       "<style scoped>\n",
       "    .dataframe tbody tr th:only-of-type {\n",
       "        vertical-align: middle;\n",
       "    }\n",
       "\n",
       "    .dataframe tbody tr th {\n",
       "        vertical-align: top;\n",
       "    }\n",
       "\n",
       "    .dataframe thead th {\n",
       "        text-align: right;\n",
       "    }\n",
       "</style>\n",
       "<table border=\"1\" class=\"dataframe\">\n",
       "  <thead>\n",
       "    <tr style=\"text-align: right;\">\n",
       "      <th></th>\n",
       "      <th>group</th>\n",
       "      <th>IDMerged</th>\n",
       "      <th>actEndTime</th>\n",
       "      <th>actPurpose</th>\n",
       "      <th>actStartTime</th>\n",
       "      <th>mode_choice_actual_BEAM</th>\n",
       "      <th>mode_choice_planned_BEAM</th>\n",
       "      <th>tripIndex</th>\n",
       "    </tr>\n",
       "  </thead>\n",
       "  <tbody>\n",
       "    <tr>\n",
       "      <th>0</th>\n",
       "      <td>rideHailVehicle-1007433@Uber</td>\n",
       "      <td>923408, 600180, 486348</td>\n",
       "      <td>60713.0, 60900.0, 63671.0</td>\n",
       "      <td>othmaint_to_Home, shopping_to_Home, othmaint_t...</td>\n",
       "      <td>61754.0, 62845.0, 64111.0</td>\n",
       "      <td>ride_hail_pooled, ride_hail_pooled, ride_hail_...</td>\n",
       "      <td>ride_hail_pooled, ride_hail_pooled, ride_hail_...</td>\n",
       "      <td>302878053, 196859309, 159522381</td>\n",
       "    </tr>\n",
       "    <tr>\n",
       "      <th>1</th>\n",
       "      <td>rideHailVehicle-1013349@Lyft</td>\n",
       "      <td>1599568, 1599568, 1620634</td>\n",
       "      <td>21024.0, 22324.0, 24768.0</td>\n",
       "      <td>Home_to_othdiscr, othdiscr_to_Home, Home_to_work</td>\n",
       "      <td>22174.0, 23633.0, 26318.0</td>\n",
       "      <td>ride_hail_pooled, ride_hail_pooled, ride_hail_...</td>\n",
       "      <td>ride_hail_pooled, ride_hail_pooled, ride_hail_...</td>\n",
       "      <td>524658505, 524658509, 531568265</td>\n",
       "    </tr>\n",
       "    <tr>\n",
       "      <th>2</th>\n",
       "      <td>rideHailVehicle-1017430@Uber</td>\n",
       "      <td>1215476</td>\n",
       "      <td>29379.0</td>\n",
       "      <td>Home_to_shopping</td>\n",
       "      <td>32282.0</td>\n",
       "      <td>ride_hail_pooled</td>\n",
       "      <td>ride_hail_pooled</td>\n",
       "      <td>398678905</td>\n",
       "    </tr>\n",
       "    <tr>\n",
       "      <th>3</th>\n",
       "      <td>rideHailVehicle-1023032@Uber</td>\n",
       "      <td>1014815, 5948265, 4659245, 5932906</td>\n",
       "      <td>18090.0, 25790.0, 33354.0, 34628.0</td>\n",
       "      <td>Home_to_escort, Home_to_work, Home_to_othdiscr...</td>\n",
       "      <td>18541.0, 26526.0, 34509.0, 36342.0</td>\n",
       "      <td>ride_hail_pooled, ride_hail_pooled, ride_hail_...</td>\n",
       "      <td>ride_hail_pooled, ride_hail_pooled, ride_hail_...</td>\n",
       "      <td>332859393, 1951031233, 1528232561, 1945993393</td>\n",
       "    </tr>\n",
       "    <tr>\n",
       "      <th>4</th>\n",
       "      <td>rideHailVehicle-1029101@Lyft</td>\n",
       "      <td>3214829, 3131730</td>\n",
       "      <td>38905.0, 38955.0</td>\n",
       "      <td>Home_to_othmaint, Home_to_othmaint</td>\n",
       "      <td>40190.0, 39706.0</td>\n",
       "      <td>ride_hail_pooled, ride_hail_pooled</td>\n",
       "      <td>ride_hail_pooled, ride_hail_pooled</td>\n",
       "      <td>1054464137, 1027207665</td>\n",
       "    </tr>\n",
       "  </tbody>\n",
       "</table>\n",
       "</div>"
      ],
      "text/plain": [
       "                          group                            IDMerged  \\\n",
       "0  rideHailVehicle-1007433@Uber              923408, 600180, 486348   \n",
       "1  rideHailVehicle-1013349@Lyft           1599568, 1599568, 1620634   \n",
       "2  rideHailVehicle-1017430@Uber                             1215476   \n",
       "3  rideHailVehicle-1023032@Uber  1014815, 5948265, 4659245, 5932906   \n",
       "4  rideHailVehicle-1029101@Lyft                    3214829, 3131730   \n",
       "\n",
       "                           actEndTime  \\\n",
       "0           60713.0, 60900.0, 63671.0   \n",
       "1           21024.0, 22324.0, 24768.0   \n",
       "2                             29379.0   \n",
       "3  18090.0, 25790.0, 33354.0, 34628.0   \n",
       "4                    38905.0, 38955.0   \n",
       "\n",
       "                                          actPurpose  \\\n",
       "0  othmaint_to_Home, shopping_to_Home, othmaint_t...   \n",
       "1   Home_to_othdiscr, othdiscr_to_Home, Home_to_work   \n",
       "2                                   Home_to_shopping   \n",
       "3  Home_to_escort, Home_to_work, Home_to_othdiscr...   \n",
       "4                 Home_to_othmaint, Home_to_othmaint   \n",
       "\n",
       "                         actStartTime  \\\n",
       "0           61754.0, 62845.0, 64111.0   \n",
       "1           22174.0, 23633.0, 26318.0   \n",
       "2                             32282.0   \n",
       "3  18541.0, 26526.0, 34509.0, 36342.0   \n",
       "4                    40190.0, 39706.0   \n",
       "\n",
       "                             mode_choice_actual_BEAM  \\\n",
       "0  ride_hail_pooled, ride_hail_pooled, ride_hail_...   \n",
       "1  ride_hail_pooled, ride_hail_pooled, ride_hail_...   \n",
       "2                                   ride_hail_pooled   \n",
       "3  ride_hail_pooled, ride_hail_pooled, ride_hail_...   \n",
       "4                 ride_hail_pooled, ride_hail_pooled   \n",
       "\n",
       "                            mode_choice_planned_BEAM  \\\n",
       "0  ride_hail_pooled, ride_hail_pooled, ride_hail_...   \n",
       "1  ride_hail_pooled, ride_hail_pooled, ride_hail_...   \n",
       "2                                   ride_hail_pooled   \n",
       "3  ride_hail_pooled, ride_hail_pooled, ride_hail_...   \n",
       "4                 ride_hail_pooled, ride_hail_pooled   \n",
       "\n",
       "                                       tripIndex  \n",
       "0                302878053, 196859309, 159522381  \n",
       "1                524658505, 524658509, 531568265  \n",
       "2                                      398678905  \n",
       "3  332859393, 1951031233, 1528232561, 1945993393  \n",
       "4                         1054464137, 1027207665  "
      ]
     },
     "execution_count": 283,
     "metadata": {},
     "output_type": "execute_result"
    }
   ],
   "source": [
    "mutual_pooled.head()"
   ]
  },
  {
   "cell_type": "code",
   "execution_count": 225,
   "id": "c4a30e66",
   "metadata": {
    "code_folding": [
     0
    ],
    "hidden": true
   },
   "outputs": [],
   "source": [
    "def get_shared_persons(row):\n",
    "    persons = row['IDMerged'].split(', ')\n",
    "    start_times = [float(x) for x in row['actEndTime'].split(', ')]\n",
    "    end_times = [float(x) for x in row['actStartTime'].split(', ')]\n",
    "    shared_persons = []\n",
    "    for i in range(len(persons)):\n",
    "        for j in range(i+1, len(persons)):\n",
    "            if start_times[i] <= end_times[j] and start_times[j] <= end_times[i]:\n",
    "                shared_persons.append((persons[i], persons[j]))\n",
    "    return shared_persons"
   ]
  },
  {
   "cell_type": "code",
   "execution_count": 284,
   "id": "d604f49a",
   "metadata": {
    "hidden": true
   },
   "outputs": [],
   "source": [
    "def get_shared_trips(row):\n",
    "    persons = row['tripIndex'].split(', ')\n",
    "    start_times = [float(x) for x in row['actEndTime'].split(', ')]\n",
    "    end_times = [float(x) for x in row['actStartTime'].split(', ')]\n",
    "    shared_pairs = set()\n",
    "    for i in range(len(persons)):\n",
    "        for j in range(i+1, len(persons)):\n",
    "            if start_times[i] <= end_times[j] and start_times[j] <= end_times[i]:\n",
    "                shared_pairs.add(frozenset([persons[i], persons[j]]))\n",
    "    shared_persons = set()\n",
    "    for pair in shared_pairs:\n",
    "        group = set(pair)\n",
    "        for i in range(len(persons)):\n",
    "            if persons[i] in group:\n",
    "                continue\n",
    "            overlaps = True\n",
    "            for person in group:\n",
    "                if start_times[i] > end_times[persons.index(person)] or end_times[i] < start_times[persons.index(person)]:\n",
    "                    overlaps = False\n",
    "                    break\n",
    "            if overlaps:\n",
    "                group.add(persons[i])\n",
    "        shared_persons.add(tuple(sorted(group)))\n",
    "    return shared_persons"
   ]
  },
  {
   "cell_type": "code",
   "execution_count": 285,
   "id": "020dfe6b",
   "metadata": {
    "hidden": true
   },
   "outputs": [],
   "source": [
    "mutual_pooled['shared_trip_pairs'] = mutual_pooled.apply(get_shared_trips, axis=1)"
   ]
  },
  {
   "cell_type": "code",
   "execution_count": 286,
   "id": "ac054fa0",
   "metadata": {
    "code_folding": [],
    "hidden": true
   },
   "outputs": [],
   "source": [
    "def count_shared_pairs(x, pairs):\n",
    "    return len([p for p in pairs if p in x])"
   ]
  },
  {
   "cell_type": "code",
   "execution_count": 287,
   "id": "9ab4e670",
   "metadata": {
    "hidden": true
   },
   "outputs": [],
   "source": [
    "all_pairs = set(mutual_pooled['shared_trip_pairs'].explode())\n",
    "mutual_pooled['shared_trip_count'] = mutual_pooled['shared_trip_pairs'].apply(lambda x: count_shared_pairs(all_pairs, x))"
   ]
  },
  {
   "cell_type": "code",
   "execution_count": 288,
   "id": "c6f94a4c",
   "metadata": {
    "hidden": true
   },
   "outputs": [
    {
     "data": {
      "text/html": [
       "<div>\n",
       "<style scoped>\n",
       "    .dataframe tbody tr th:only-of-type {\n",
       "        vertical-align: middle;\n",
       "    }\n",
       "\n",
       "    .dataframe tbody tr th {\n",
       "        vertical-align: top;\n",
       "    }\n",
       "\n",
       "    .dataframe thead th {\n",
       "        text-align: right;\n",
       "    }\n",
       "</style>\n",
       "<table border=\"1\" class=\"dataframe\">\n",
       "  <thead>\n",
       "    <tr style=\"text-align: right;\">\n",
       "      <th></th>\n",
       "      <th>group</th>\n",
       "      <th>IDMerged</th>\n",
       "      <th>actEndTime</th>\n",
       "      <th>actPurpose</th>\n",
       "      <th>actStartTime</th>\n",
       "      <th>mode_choice_actual_BEAM</th>\n",
       "      <th>mode_choice_planned_BEAM</th>\n",
       "      <th>tripIndex</th>\n",
       "      <th>shared_trip_pairs</th>\n",
       "      <th>shared_trip_count</th>\n",
       "    </tr>\n",
       "  </thead>\n",
       "  <tbody>\n",
       "    <tr>\n",
       "      <th>1893</th>\n",
       "      <td>rideHailVehicle-972250@Uber</td>\n",
       "      <td>3910620, 5845419, 3604955, 3051058</td>\n",
       "      <td>48254.0, 48326.0, 52381.0, 54468.0</td>\n",
       "      <td>othmaint_to_Home, Home_to_othmaint, shopping_t...</td>\n",
       "      <td>49545.0, 49136.0, 54594.0, 55095.0</td>\n",
       "      <td>ride_hail_pooled, ride_hail_pooled, ride_hail_...</td>\n",
       "      <td>ride_hail_pooled, ride_hail_pooled, ride_hail_...</td>\n",
       "      <td>1282683589, 1917297657, 1182425509, 1000747249</td>\n",
       "      <td>{(1282683589, 1917297657), (1000747249, 118242...</td>\n",
       "      <td>2</td>\n",
       "    </tr>\n",
       "    <tr>\n",
       "      <th>1894</th>\n",
       "      <td>rideHailVehicle-978015@Uber</td>\n",
       "      <td>623979, 549144, 926374, 4883843, 5143692</td>\n",
       "      <td>38209.0, 38991.0, 41880.0, 45460.0, 45460.0</td>\n",
       "      <td>shopping_to_Home, Home_to_eatout, Home_to_othm...</td>\n",
       "      <td>39069.0, 40429.0, 43510.0, 46525.0, 46335.0</td>\n",
       "      <td>ride_hail_pooled, ride_hail_pooled, ride_hail_...</td>\n",
       "      <td>ride_hail_pooled, ride_hail_pooled, ride_hail_...</td>\n",
       "      <td>204665342, 180119497, 303850897, 1601900705, 1...</td>\n",
       "      <td>{(180119497, 204665342), (1601900705, 16871312...</td>\n",
       "      <td>2</td>\n",
       "    </tr>\n",
       "    <tr>\n",
       "      <th>1895</th>\n",
       "      <td>rideHailVehicle-980128@Lyft</td>\n",
       "      <td>541256, 612807, 265892</td>\n",
       "      <td>66571.0, 69897.0, 73011.0</td>\n",
       "      <td>Home_to_eatout, escort_to_Home, Home_to_othdiscr</td>\n",
       "      <td>67308.0, 70414.0, 73938.0</td>\n",
       "      <td>ride_hail_pooled, ride_hail_pooled, ride_hail_...</td>\n",
       "      <td>ride_hail_pooled, ride_hail_pooled, ride_hail_...</td>\n",
       "      <td>177532201, 201000773, 87212865</td>\n",
       "      <td>{}</td>\n",
       "      <td>0</td>\n",
       "    </tr>\n",
       "    <tr>\n",
       "      <th>1896</th>\n",
       "      <td>rideHailVehicle-983163@Uber</td>\n",
       "      <td>1926570, 2159820</td>\n",
       "      <td>67485.0, 75513.0</td>\n",
       "      <td>Home_to_shopping, shopping_to_Home</td>\n",
       "      <td>70908.0, 76962.0</td>\n",
       "      <td>ride_hail_pooled, ride_hail_pooled</td>\n",
       "      <td>ride_hail_pooled, ride_hail_pooled</td>\n",
       "      <td>631915113, 708425053</td>\n",
       "      <td>{}</td>\n",
       "      <td>0</td>\n",
       "    </tr>\n",
       "    <tr>\n",
       "      <th>1897</th>\n",
       "      <td>rideHailVehicle-986278@Uber</td>\n",
       "      <td>1085804, 1100524</td>\n",
       "      <td>64706.0, 65037.0</td>\n",
       "      <td>Home_to_othmaint, Home_to_shopping</td>\n",
       "      <td>65321.0, 65792.0</td>\n",
       "      <td>ride_hail_pooled, ride_hail_pooled</td>\n",
       "      <td>ride_hail_pooled, ride_hail_pooled</td>\n",
       "      <td>356143937, 360972137</td>\n",
       "      <td>{(356143937, 360972137)}</td>\n",
       "      <td>1</td>\n",
       "    </tr>\n",
       "  </tbody>\n",
       "</table>\n",
       "</div>"
      ],
      "text/plain": [
       "                            group                                  IDMerged  \\\n",
       "1893  rideHailVehicle-972250@Uber        3910620, 5845419, 3604955, 3051058   \n",
       "1894  rideHailVehicle-978015@Uber  623979, 549144, 926374, 4883843, 5143692   \n",
       "1895  rideHailVehicle-980128@Lyft                    541256, 612807, 265892   \n",
       "1896  rideHailVehicle-983163@Uber                          1926570, 2159820   \n",
       "1897  rideHailVehicle-986278@Uber                          1085804, 1100524   \n",
       "\n",
       "                                       actEndTime  \\\n",
       "1893           48254.0, 48326.0, 52381.0, 54468.0   \n",
       "1894  38209.0, 38991.0, 41880.0, 45460.0, 45460.0   \n",
       "1895                    66571.0, 69897.0, 73011.0   \n",
       "1896                             67485.0, 75513.0   \n",
       "1897                             64706.0, 65037.0   \n",
       "\n",
       "                                             actPurpose  \\\n",
       "1893  othmaint_to_Home, Home_to_othmaint, shopping_t...   \n",
       "1894  shopping_to_Home, Home_to_eatout, Home_to_othm...   \n",
       "1895   Home_to_eatout, escort_to_Home, Home_to_othdiscr   \n",
       "1896                 Home_to_shopping, shopping_to_Home   \n",
       "1897                 Home_to_othmaint, Home_to_shopping   \n",
       "\n",
       "                                     actStartTime  \\\n",
       "1893           49545.0, 49136.0, 54594.0, 55095.0   \n",
       "1894  39069.0, 40429.0, 43510.0, 46525.0, 46335.0   \n",
       "1895                    67308.0, 70414.0, 73938.0   \n",
       "1896                             70908.0, 76962.0   \n",
       "1897                             65321.0, 65792.0   \n",
       "\n",
       "                                mode_choice_actual_BEAM  \\\n",
       "1893  ride_hail_pooled, ride_hail_pooled, ride_hail_...   \n",
       "1894  ride_hail_pooled, ride_hail_pooled, ride_hail_...   \n",
       "1895  ride_hail_pooled, ride_hail_pooled, ride_hail_...   \n",
       "1896                 ride_hail_pooled, ride_hail_pooled   \n",
       "1897                 ride_hail_pooled, ride_hail_pooled   \n",
       "\n",
       "                               mode_choice_planned_BEAM  \\\n",
       "1893  ride_hail_pooled, ride_hail_pooled, ride_hail_...   \n",
       "1894  ride_hail_pooled, ride_hail_pooled, ride_hail_...   \n",
       "1895  ride_hail_pooled, ride_hail_pooled, ride_hail_...   \n",
       "1896                 ride_hail_pooled, ride_hail_pooled   \n",
       "1897                 ride_hail_pooled, ride_hail_pooled   \n",
       "\n",
       "                                              tripIndex  \\\n",
       "1893     1282683589, 1917297657, 1182425509, 1000747249   \n",
       "1894  204665342, 180119497, 303850897, 1601900705, 1...   \n",
       "1895                     177532201, 201000773, 87212865   \n",
       "1896                               631915113, 708425053   \n",
       "1897                               356143937, 360972137   \n",
       "\n",
       "                                      shared_trip_pairs  shared_trip_count  \n",
       "1893  {(1282683589, 1917297657), (1000747249, 118242...                  2  \n",
       "1894  {(180119497, 204665342), (1601900705, 16871312...                  2  \n",
       "1895                                                 {}                  0  \n",
       "1896                                                 {}                  0  \n",
       "1897                           {(356143937, 360972137)}                  1  "
      ]
     },
     "execution_count": 288,
     "metadata": {},
     "output_type": "execute_result"
    }
   ],
   "source": [
    "mutual_pooled.tail()"
   ]
  },
  {
   "cell_type": "code",
   "execution_count": 289,
   "id": "76a2af24",
   "metadata": {
    "hidden": true
   },
   "outputs": [
    {
     "data": {
      "text/plain": [
       "(739, 10)"
      ]
     },
     "execution_count": 289,
     "metadata": {},
     "output_type": "execute_result"
    }
   ],
   "source": [
    "mutual_pooled[mutual_pooled['shared_trip_count']>0].shape"
   ]
  },
  {
   "cell_type": "code",
   "execution_count": 290,
   "id": "7e5dbf61",
   "metadata": {
    "hidden": true
   },
   "outputs": [
    {
     "data": {
      "text/plain": [
       "961"
      ]
     },
     "execution_count": 290,
     "metadata": {},
     "output_type": "execute_result"
    }
   ],
   "source": [
    "mutual_pooled['shared_trip_count'].sum()"
   ]
  },
  {
   "cell_type": "code",
   "execution_count": 265,
   "id": "21101c36",
   "metadata": {
    "hidden": true
   },
   "outputs": [
    {
     "data": {
      "text/plain": [
       "(1898, 10)"
      ]
     },
     "execution_count": 265,
     "metadata": {},
     "output_type": "execute_result"
    }
   ],
   "source": [
    "mutual_pooled.shape"
   ]
  },
  {
   "cell_type": "code",
   "execution_count": 266,
   "id": "cded867e",
   "metadata": {
    "hidden": true
   },
   "outputs": [
    {
     "data": {
      "text/plain": [
       "(4545, 270)"
      ]
     },
     "execution_count": 266,
     "metadata": {},
     "output_type": "execute_result"
    }
   ],
   "source": [
    "pooled.shape"
   ]
  },
  {
   "cell_type": "code",
   "execution_count": 267,
   "id": "6f8c3bff",
   "metadata": {
    "hidden": true
   },
   "outputs": [
    {
     "data": {
      "text/html": [
       "<div>\n",
       "<style scoped>\n",
       "    .dataframe tbody tr th:only-of-type {\n",
       "        vertical-align: middle;\n",
       "    }\n",
       "\n",
       "    .dataframe tbody tr th {\n",
       "        vertical-align: top;\n",
       "    }\n",
       "\n",
       "    .dataframe thead th {\n",
       "        text-align: right;\n",
       "    }\n",
       "</style>\n",
       "<table border=\"1\" class=\"dataframe\">\n",
       "  <thead>\n",
       "    <tr style=\"text-align: right;\">\n",
       "      <th></th>\n",
       "      <th>group</th>\n",
       "      <th>IDMerged</th>\n",
       "      <th>actEndTime</th>\n",
       "      <th>actPurpose</th>\n",
       "      <th>actStartTime</th>\n",
       "      <th>mode_choice_actual_BEAM</th>\n",
       "      <th>mode_choice_planned_BEAM</th>\n",
       "      <th>tripIndex</th>\n",
       "      <th>shared_person_pairs</th>\n",
       "      <th>shared_person_count</th>\n",
       "    </tr>\n",
       "  </thead>\n",
       "  <tbody>\n",
       "    <tr>\n",
       "      <th>0</th>\n",
       "      <td>rideHailVehicle-1007433@Uber</td>\n",
       "      <td>923408, 600180, 486348</td>\n",
       "      <td>60713.0, 60900.0, 63671.0</td>\n",
       "      <td>othmaint_to_Home, shopping_to_Home, othmaint_t...</td>\n",
       "      <td>61754.0, 62845.0, 64111.0</td>\n",
       "      <td>ride_hail_pooled, ride_hail_pooled, ride_hail_...</td>\n",
       "      <td>ride_hail_pooled, ride_hail_pooled, ride_hail_...</td>\n",
       "      <td>302878053, 196859309, 159522381</td>\n",
       "      <td>{(196859309, 302878053)}</td>\n",
       "      <td>1</td>\n",
       "    </tr>\n",
       "    <tr>\n",
       "      <th>1</th>\n",
       "      <td>rideHailVehicle-1013349@Lyft</td>\n",
       "      <td>1599568, 1599568, 1620634</td>\n",
       "      <td>21024.0, 22324.0, 24768.0</td>\n",
       "      <td>Home_to_othdiscr, othdiscr_to_Home, Home_to_work</td>\n",
       "      <td>22174.0, 23633.0, 26318.0</td>\n",
       "      <td>ride_hail_pooled, ride_hail_pooled, ride_hail_...</td>\n",
       "      <td>ride_hail_pooled, ride_hail_pooled, ride_hail_...</td>\n",
       "      <td>524658505, 524658509, 531568265</td>\n",
       "      <td>{}</td>\n",
       "      <td>0</td>\n",
       "    </tr>\n",
       "    <tr>\n",
       "      <th>2</th>\n",
       "      <td>rideHailVehicle-1017430@Uber</td>\n",
       "      <td>1215476</td>\n",
       "      <td>29379.0</td>\n",
       "      <td>Home_to_shopping</td>\n",
       "      <td>32282.0</td>\n",
       "      <td>ride_hail_pooled</td>\n",
       "      <td>ride_hail_pooled</td>\n",
       "      <td>398678905</td>\n",
       "      <td>{}</td>\n",
       "      <td>0</td>\n",
       "    </tr>\n",
       "    <tr>\n",
       "      <th>3</th>\n",
       "      <td>rideHailVehicle-1023032@Uber</td>\n",
       "      <td>1014815, 5948265, 4659245, 5932906</td>\n",
       "      <td>18090.0, 25790.0, 33354.0, 34628.0</td>\n",
       "      <td>Home_to_escort, Home_to_work, Home_to_othdiscr...</td>\n",
       "      <td>18541.0, 26526.0, 34509.0, 36342.0</td>\n",
       "      <td>ride_hail_pooled, ride_hail_pooled, ride_hail_...</td>\n",
       "      <td>ride_hail_pooled, ride_hail_pooled, ride_hail_...</td>\n",
       "      <td>332859393, 1951031233, 1528232561, 1945993393</td>\n",
       "      <td>{}</td>\n",
       "      <td>0</td>\n",
       "    </tr>\n",
       "    <tr>\n",
       "      <th>4</th>\n",
       "      <td>rideHailVehicle-1029101@Lyft</td>\n",
       "      <td>3214829, 3131730</td>\n",
       "      <td>38905.0, 38955.0</td>\n",
       "      <td>Home_to_othmaint, Home_to_othmaint</td>\n",
       "      <td>40190.0, 39706.0</td>\n",
       "      <td>ride_hail_pooled, ride_hail_pooled</td>\n",
       "      <td>ride_hail_pooled, ride_hail_pooled</td>\n",
       "      <td>1054464137, 1027207665</td>\n",
       "      <td>{(1027207665, 1054464137)}</td>\n",
       "      <td>1</td>\n",
       "    </tr>\n",
       "  </tbody>\n",
       "</table>\n",
       "</div>"
      ],
      "text/plain": [
       "                          group                            IDMerged  \\\n",
       "0  rideHailVehicle-1007433@Uber              923408, 600180, 486348   \n",
       "1  rideHailVehicle-1013349@Lyft           1599568, 1599568, 1620634   \n",
       "2  rideHailVehicle-1017430@Uber                             1215476   \n",
       "3  rideHailVehicle-1023032@Uber  1014815, 5948265, 4659245, 5932906   \n",
       "4  rideHailVehicle-1029101@Lyft                    3214829, 3131730   \n",
       "\n",
       "                           actEndTime  \\\n",
       "0           60713.0, 60900.0, 63671.0   \n",
       "1           21024.0, 22324.0, 24768.0   \n",
       "2                             29379.0   \n",
       "3  18090.0, 25790.0, 33354.0, 34628.0   \n",
       "4                    38905.0, 38955.0   \n",
       "\n",
       "                                          actPurpose  \\\n",
       "0  othmaint_to_Home, shopping_to_Home, othmaint_t...   \n",
       "1   Home_to_othdiscr, othdiscr_to_Home, Home_to_work   \n",
       "2                                   Home_to_shopping   \n",
       "3  Home_to_escort, Home_to_work, Home_to_othdiscr...   \n",
       "4                 Home_to_othmaint, Home_to_othmaint   \n",
       "\n",
       "                         actStartTime  \\\n",
       "0           61754.0, 62845.0, 64111.0   \n",
       "1           22174.0, 23633.0, 26318.0   \n",
       "2                             32282.0   \n",
       "3  18541.0, 26526.0, 34509.0, 36342.0   \n",
       "4                    40190.0, 39706.0   \n",
       "\n",
       "                             mode_choice_actual_BEAM  \\\n",
       "0  ride_hail_pooled, ride_hail_pooled, ride_hail_...   \n",
       "1  ride_hail_pooled, ride_hail_pooled, ride_hail_...   \n",
       "2                                   ride_hail_pooled   \n",
       "3  ride_hail_pooled, ride_hail_pooled, ride_hail_...   \n",
       "4                 ride_hail_pooled, ride_hail_pooled   \n",
       "\n",
       "                            mode_choice_planned_BEAM  \\\n",
       "0  ride_hail_pooled, ride_hail_pooled, ride_hail_...   \n",
       "1  ride_hail_pooled, ride_hail_pooled, ride_hail_...   \n",
       "2                                   ride_hail_pooled   \n",
       "3  ride_hail_pooled, ride_hail_pooled, ride_hail_...   \n",
       "4                 ride_hail_pooled, ride_hail_pooled   \n",
       "\n",
       "                                       tripIndex         shared_person_pairs  \\\n",
       "0                302878053, 196859309, 159522381    {(196859309, 302878053)}   \n",
       "1                524658505, 524658509, 531568265                          {}   \n",
       "2                                      398678905                          {}   \n",
       "3  332859393, 1951031233, 1528232561, 1945993393                          {}   \n",
       "4                         1054464137, 1027207665  {(1027207665, 1054464137)}   \n",
       "\n",
       "   shared_person_count  \n",
       "0                    1  \n",
       "1                    0  \n",
       "2                    0  \n",
       "3                    0  \n",
       "4                    1  "
      ]
     },
     "execution_count": 267,
     "metadata": {},
     "output_type": "execute_result"
    }
   ],
   "source": [
    "mutual_pooled.head()"
   ]
  },
  {
   "cell_type": "code",
   "execution_count": 270,
   "id": "834814c5",
   "metadata": {
    "hidden": true
   },
   "outputs": [
    {
     "data": {
      "text/html": [
       "<div>\n",
       "<style scoped>\n",
       "    .dataframe tbody tr th:only-of-type {\n",
       "        vertical-align: middle;\n",
       "    }\n",
       "\n",
       "    .dataframe tbody tr th {\n",
       "        vertical-align: top;\n",
       "    }\n",
       "\n",
       "    .dataframe thead th {\n",
       "        text-align: right;\n",
       "    }\n",
       "</style>\n",
       "<table border=\"1\" class=\"dataframe\">\n",
       "  <thead>\n",
       "    <tr style=\"text-align: right;\">\n",
       "      <th></th>\n",
       "      <th>group</th>\n",
       "      <th>IDMerged</th>\n",
       "      <th>actEndTime</th>\n",
       "      <th>actPurpose</th>\n",
       "      <th>actStartTime</th>\n",
       "      <th>mode_choice_actual_BEAM</th>\n",
       "      <th>mode_choice_planned_BEAM</th>\n",
       "      <th>tripIndex</th>\n",
       "      <th>shared_person_pairs</th>\n",
       "      <th>shared_person_count</th>\n",
       "    </tr>\n",
       "  </thead>\n",
       "  <tbody>\n",
       "    <tr>\n",
       "      <th>261</th>\n",
       "      <td>rideHailVehicle-1934875@Uber</td>\n",
       "      <td>1255664, 1244065, 141574, 748614, 141574</td>\n",
       "      <td>19447.0, 19479.0, 22190.0, 23112.0, 23264.0</td>\n",
       "      <td>Home_to_social, Home_to_work, Home_to_othdiscr...</td>\n",
       "      <td>20788.0, 22241.0, 23114.0, 23853.0, 23539.0</td>\n",
       "      <td>ride_hail_pooled, ride_hail_pooled, ride_hail_...</td>\n",
       "      <td>ride_hail_pooled, ride_hail_pooled, ride_hail_...</td>\n",
       "      <td>411858081, 408053633, 46436393, 245545705, 464...</td>\n",
       "      <td>{(245545705, 46436394), (408053633, 411858081)...</td>\n",
       "      <td>4</td>\n",
       "    </tr>\n",
       "  </tbody>\n",
       "</table>\n",
       "</div>"
      ],
      "text/plain": [
       "                            group                                  IDMerged  \\\n",
       "261  rideHailVehicle-1934875@Uber  1255664, 1244065, 141574, 748614, 141574   \n",
       "\n",
       "                                      actEndTime  \\\n",
       "261  19447.0, 19479.0, 22190.0, 23112.0, 23264.0   \n",
       "\n",
       "                                            actPurpose  \\\n",
       "261  Home_to_social, Home_to_work, Home_to_othdiscr...   \n",
       "\n",
       "                                    actStartTime  \\\n",
       "261  20788.0, 22241.0, 23114.0, 23853.0, 23539.0   \n",
       "\n",
       "                               mode_choice_actual_BEAM  \\\n",
       "261  ride_hail_pooled, ride_hail_pooled, ride_hail_...   \n",
       "\n",
       "                              mode_choice_planned_BEAM  \\\n",
       "261  ride_hail_pooled, ride_hail_pooled, ride_hail_...   \n",
       "\n",
       "                                             tripIndex  \\\n",
       "261  411858081, 408053633, 46436393, 245545705, 464...   \n",
       "\n",
       "                                   shared_person_pairs  shared_person_count  \n",
       "261  {(245545705, 46436394), (408053633, 411858081)...                    4  "
      ]
     },
     "execution_count": 270,
     "metadata": {},
     "output_type": "execute_result"
    }
   ],
   "source": [
    "mutual_pooled[mutual_pooled['group']=='rideHailVehicle-1934875@Uber']"
   ]
  },
  {
   "cell_type": "code",
   "execution_count": 291,
   "id": "6c44099b",
   "metadata": {
    "hidden": true
   },
   "outputs": [],
   "source": [
    "mutual_pooled.to_csv('C:/Shared-Work/Data/CleanData/rider_count.csv', index = False)"
   ]
  },
  {
   "cell_type": "code",
   "execution_count": 55,
   "id": "fd97ebe3",
   "metadata": {
    "hidden": true
   },
   "outputs": [],
   "source": [
    "#mutual_pooled = mutual_pooled.drop(['comma_count'], axis=1)"
   ]
  },
  {
   "cell_type": "code",
   "execution_count": 56,
   "id": "15810437",
   "metadata": {
    "hidden": true
   },
   "outputs": [],
   "source": [
    "#mutual_pooled['comma_count'] = mutual_pooled['IDMerged'].str.count(',')"
   ]
  },
  {
   "cell_type": "code",
   "execution_count": 57,
   "id": "5fabdb2b",
   "metadata": {
    "hidden": true
   },
   "outputs": [],
   "source": [
    "#df2 = pd.DataFrame(mutual_pooled['IDMerged'].str.split(',').values.tolist())\n",
    "#df2.columns += 1\n",
    "#df2 = df1.add_prefix('person_')"
   ]
  },
  {
   "cell_type": "code",
   "execution_count": 591,
   "id": "19dfffe6",
   "metadata": {
    "hidden": true
   },
   "outputs": [],
   "source": [
    "#mutual_pooled = mutual_pooled.join(mutual_pooled['actEndTime'].str.split(',', expand=True).add_prefix('endT_').fillna(np.nan))"
   ]
  },
  {
   "cell_type": "code",
   "execution_count": 592,
   "id": "d317a384",
   "metadata": {
    "hidden": true
   },
   "outputs": [],
   "source": [
    "#mutual_pooled = mutual_pooled.join(mutual_pooled['actStartTime'].str.split(',', expand=True).add_prefix('startT_').fillna(np.nan))"
   ]
  },
  {
   "cell_type": "code",
   "execution_count": 593,
   "id": "3d6d6353",
   "metadata": {
    "hidden": true
   },
   "outputs": [],
   "source": [
    "#mutual_pooled = mutual_pooled.join(mutual_pooled['IDMerged'].str.split(',', expand=True).add_prefix('person_').fillna(np.nan))"
   ]
  },
  {
   "cell_type": "code",
   "execution_count": 594,
   "id": "bdcb7215",
   "metadata": {
    "hidden": true
   },
   "outputs": [],
   "source": [
    "# convert the startT_1, startT_0, and endT_0 columns to numeric, and handle NaN values\n",
    "#endT_columns = [col for col in mutual_pooled.columns if col.startswith(\"endT_\")]\n",
    "\n",
    "#for col in endT_columns:\n",
    "    #mutual_pooled[col] = pd.to_numeric(mutual_pooled[col], errors='coerce')"
   ]
  },
  {
   "cell_type": "code",
   "execution_count": 595,
   "id": "ed2ad415",
   "metadata": {
    "hidden": true
   },
   "outputs": [],
   "source": [
    "#startT_columns = [col for col in mutual_pooled.columns if col.startswith(\"startT_\")]\n",
    "\n",
    "#for col in startT_columns:\n",
    "    #mutual_pooled[col] = pd.to_numeric(mutual_pooled[col], errors='coerce')"
   ]
  },
  {
   "cell_type": "code",
   "execution_count": 597,
   "id": "5ee01aa8",
   "metadata": {
    "hidden": true
   },
   "outputs": [],
   "source": [
    "# create an empty list to store mutual riders\n",
    "#mutual_riders = []\n",
    "\n",
    "# loop through each row of the dataframe\n",
    "#for i, row in mutual_pooled.iterrows():\n",
    "    # create a list to store the mutual riders for this row\n",
    "    #this_row_riders = [] \n",
    "    # loop through each pair of persons\n",
    "    #for j in range(11):\n",
    "        #for k in range(j+1, 11):\n",
    "            # check if the time intervals overlap\n",
    "            #if (row[f'endT_{k}'] <= row[f'startT_{j}'] and row[f'startT_{j}'] >= row[f'endT_{k}']) or (row[f'endT_{k}'] <= row[f'startT_{j}'] and row[f'startT_{k}'] >= row[f'endT_{j}']):\n",
    "                # if the intervals overlap, add both persons to the mutual_riders list\n",
    "                #this_row_riders.extend([row[f'person_{j}'], row[f'person_{k}']])\n",
    "    \n",
    "    # remove any duplicates from the list of mutual riders and join the remaining rider ids into a single string\n",
    "    #this_row_mutual_riders = ', '.join(set(this_row_riders))\n",
    "    \n",
    "    # add the mutual riders string as a new column to the data frame\n",
    "    #mutual_pooled.loc[i, 'mutual_riders'] = this_row_mutual_riders"
   ]
  },
  {
   "cell_type": "code",
   "execution_count": 598,
   "id": "38cd2ed3",
   "metadata": {
    "hidden": true
   },
   "outputs": [],
   "source": [
    "#mutual_pooled['rider_count'] = mutual_pooled['mutual_riders'].str.count(',')+1"
   ]
  },
  {
   "cell_type": "code",
   "execution_count": 554,
   "id": "15e99300",
   "metadata": {
    "hidden": true
   },
   "outputs": [],
   "source": [
    "# Select columns that start with 'startT_' or 'endT_'\n",
    "#cols_to_drop = mutual_pooled.filter(regex='^startT_|^endT_|^person_').columns\n",
    "\n",
    "# Drop the selected columns from the DataFrame\n",
    "#mutual_pooled = mutual_pooled.drop(columns=cols_to_drop)"
   ]
  },
  {
   "cell_type": "code",
   "execution_count": 555,
   "id": "efe9561c",
   "metadata": {
    "hidden": true
   },
   "outputs": [],
   "source": [
    "mutual_pooled.to_csv('C:/Shared-Work/Data/CleanData/rider_count.csv', index = False)"
   ]
  },
  {
   "cell_type": "markdown",
   "id": "cc333f03",
   "metadata": {
    "heading_collapsed": true
   },
   "source": [
    "#### rest of the stacked code"
   ]
  },
  {
   "cell_type": "code",
   "execution_count": 15,
   "id": "47ab2ad4",
   "metadata": {
    "hidden": true
   },
   "outputs": [],
   "source": [
    "# Adding scenario info\n",
    "sfbase['scenario'] = \"baseline\"\n",
    "sfbase['scenario'] = sfbase['scenario'].astype(\"category\")\n",
    "sfbase['lever'] = \"default\"\n",
    "sfbase['lever'] = sfbase['lever'].astype(\"category\")\n",
    "sfbase['year'] = 2020\n",
    "sfbase['lever_position_fltsz'] = 1\n",
    "sfbase['lever_position_price'] = 1\n",
    "sfbase['lever_n_fleets'] = 2\n",
    "sfbase['fleetsize_uber'] = 0.00287777\n",
    "sfbase['fleetsize_lyft'] = 0.00184043\n",
    "sfbase['fleetsize_cruise'] = 0\n",
    "sfbase['fleetsize_flywheel'] = 0\n",
    "sfbase['fleetsize_waymo'] = 0"
   ]
  },
  {
   "cell_type": "code",
   "execution_count": 10,
   "id": "fe4c1493",
   "metadata": {
    "hidden": true
   },
   "outputs": [
    {
     "data": {
      "text/plain": [
       "(21407, 279)"
      ]
     },
     "execution_count": 10,
     "metadata": {},
     "output_type": "execute_result"
    }
   ],
   "source": [
    "sfbase[sfbase['person_sex'].isna()].shape"
   ]
  },
  {
   "cell_type": "code",
   "execution_count": 11,
   "id": "61204995",
   "metadata": {
    "hidden": true
   },
   "outputs": [],
   "source": [
    "#baseline2018 = \"https://beam-core-act.s3.amazonaws.com/beam-outputs/pilates-outputs/sfbay-baseline-20221220/inexus\"\n",
    "#sfbase = pd.read_csv(baseline2018 + 'sfbay_baseline_default-1.0_2012__20221219.csv.gz')"
   ]
  },
  {
   "cell_type": "code",
   "execution_count": 12,
   "id": "f43e2823",
   "metadata": {
    "hidden": true
   },
   "outputs": [],
   "source": [
    "# Showing the entire number in dataframe\n",
    "pd.set_option('float_format', '{:f}'.format)"
   ]
  },
  {
   "cell_type": "code",
   "execution_count": null,
   "id": "35082bce",
   "metadata": {
    "hidden": true
   },
   "outputs": [],
   "source": [
    "sfbase['incomeInThousands'] = sfbase['income']/1000"
   ]
  },
  {
   "cell_type": "code",
   "execution_count": null,
   "id": "a9f347ca",
   "metadata": {
    "hidden": true
   },
   "outputs": [],
   "source": [
    "person_income = pd.pivot_table(\n",
    "   small_stacked_rh_price,\n",
    "   index=['IDMerged'],\n",
    "   aggfunc={'incomeInThousands': lambda x: ', '.join(set(x.dropna().astype(str)))}).reset_index() "
   ]
  },
  {
   "cell_type": "code",
   "execution_count": 8,
   "id": "5e55a558",
   "metadata": {
    "hidden": true
   },
   "outputs": [],
   "source": [
    "# Add incomeInThousands twenty_one_ranks\n",
    "conditions  = [(person_income['incomeInThousands'] >= twenty_one_ranks[0]) & (person_income['incomeInThousands'] < twenty_one_ranks[1]), \n",
    "               (person_income['incomeInThousands'] >= twenty_one_ranks[1]) & (person_income['incomeInThousands'] < twenty_one_ranks[2]),\n",
    "               (person_income['incomeInThousands'] >=  twenty_one_ranks[2]) & (person_income['incomeInThousands'] < twenty_one_ranks[3]),\n",
    "               (person_income['incomeInThousands'] >= twenty_one_ranks[3]) & (person_income['incomeInThousands'] < twenty_one_ranks[4]), \n",
    "               (person_income['incomeInThousands'] >=  twenty_one_ranks[4]) & (person_income['incomeInThousands'] < twenty_one_ranks[5]),\n",
    "               (person_income['incomeInThousands'] >=  twenty_one_ranks[5]) & (person_income['incomeInThousands'] < twenty_one_ranks[6]),\n",
    "               (person_income['incomeInThousands'] >=  twenty_one_ranks[6]) & (person_income['incomeInThousands'] < twenty_one_ranks[7]),\n",
    "               (person_income['incomeInThousands'] >=  twenty_one_ranks[7]) & (person_income['incomeInThousands'] < twenty_one_ranks[8]),\n",
    "               (person_income['incomeInThousands'] >=  twenty_one_ranks[8]) & (person_income['incomeInThousands'] < twenty_one_ranks[9]),\n",
    "               (person_income['incomeInThousands'] >=  twenty_one_ranks[9]) & (person_income['incomeInThousands'] <= twenty_one_ranks[10]),\n",
    "              (person_income['incomeInThousands'] >=  twenty_one_ranks[10]) & (person_income['incomeInThousands'] <= twenty_one_ranks[11]),\n",
    "              (person_income['incomeInThousands'] >=  twenty_one_ranks[11]) & (person_income['incomeInThousands'] <= twenty_one_ranks[12]),\n",
    "              (person_income['incomeInThousands'] >=  twenty_one_ranks[12]) & (person_income['incomeInThousands'] <= twenty_one_ranks[13]),\n",
    "              (person_income['incomeInThousands'] >=  twenty_one_ranks[13]) & (person_income['incomeInThousands'] <= twenty_one_ranks[14]),\n",
    "              (person_income['incomeInThousands'] >=  twenty_one_ranks[14]) & (person_income['incomeInThousands'] <= twenty_one_ranks[15]),\n",
    "              (person_income['incomeInThousands'] >=  twenty_one_ranks[15]) & (person_income['incomeInThousands'] <= twenty_one_ranks[16]),\n",
    "              (person_income['incomeInThousands'] >=  twenty_one_ranks[16]) & (person_income['incomeInThousands'] <= twenty_one_ranks[17]),\n",
    "              (person_income['incomeInThousands'] >=  twenty_one_ranks[17]) & (person_income['incomeInThousands'] <= twenty_one_ranks[18]),\n",
    "              (person_income['incomeInThousands'] >=  twenty_one_ranks[18]) & (person_income['incomeInThousands'] <= twenty_one_ranks[19]),\n",
    "              (person_income['incomeInThousands'] >=  twenty_one_ranks[19]) & (person_income['incomeInThousands'] <= twenty_one_ranks[20]),\n",
    "              (person_income['incomeInThousands'] >=  twenty_one_ranks[20]) & (person_income['incomeInThousands'] <= twenty_one_ranks[21])]\n",
    "\n",
    "\n",
    "choices = [0, 1,2,3,4,5,6,7,8,9,10,11,12,13,14,15,16,17,18,19,20]"
   ]
  },
  {
   "cell_type": "code",
   "execution_count": 9,
   "id": "2c224a67",
   "metadata": {
    "hidden": true
   },
   "outputs": [],
   "source": [
    "person_income['incRank'] = np.select(conditions, choices, default=None)"
   ]
  },
  {
   "cell_type": "markdown",
   "id": "71810912",
   "metadata": {
    "heading_collapsed": true
   },
   "source": [
    "#### Ridehail Fleet Size Scenarios"
   ]
  },
  {
   "cell_type": "code",
   "execution_count": 13,
   "id": "ee819272",
   "metadata": {
    "hidden": true
   },
   "outputs": [
    {
     "name": "stderr",
     "output_type": "stream",
     "text": [
      "<timed exec>:3: DtypeWarning: Columns (27,77,133,134,135,136,137,138,139,140,141,142,143,144,145,146,147,148,149,150,151,153,162,167,169,170,171,172,174,175,232,233,234,235,244) have mixed types. Specify dtype option on import or set low_memory=False.\n"
     ]
    },
    {
     "name": "stdout",
     "output_type": "stream",
     "text": [
      "CPU times: total: 1min 52s\n",
      "Wall time: 1min 52s\n"
     ]
    }
   ],
   "source": [
    "%%time\n",
    "key = \"pilates-outputs/sfbay_5fleets_100price_100fleet_20230209/inexus/sfbay_5_fleets_scenario_fleet_size-100_2020__20230209.csv.gz\"  #the path should be updated\n",
    "obj = s3.get_object(Bucket=\"beam-outputs\", Key=key)\n",
    "sf_rh_5flt_1 = pd.read_csv(obj['Body'], compression = 'gzip',index_col='Unnamed: 0')"
   ]
  },
  {
   "cell_type": "code",
   "execution_count": 16,
   "id": "6dc4d0db",
   "metadata": {
    "hidden": true
   },
   "outputs": [
    {
     "data": {
      "text/plain": [
       "(21150, 269)"
      ]
     },
     "execution_count": 16,
     "metadata": {},
     "output_type": "execute_result"
    }
   ],
   "source": [
    "sf_rh_5flt_1[sf_rh_5flt_1['trip_mode_AS_trips'].isna()].shape"
   ]
  },
  {
   "cell_type": "code",
   "execution_count": 21,
   "id": "23d634d2",
   "metadata": {
    "hidden": true
   },
   "outputs": [],
   "source": [
    "# Adding scenario info\n",
    "sf_rh_5flt_1['scenario'] = \"ridehail\"\n",
    "sf_rh_5flt_1['scenario'] = sf_rh_5flt_1['scenario'].astype(\"category\")\n",
    "sf_rh_5flt_1['lever'] = \"fleet_size_price_comb\"\n",
    "sf_rh_5flt_1['lever'] = sf_rh_5flt_1['lever'].astype(\"category\")\n",
    "sf_rh_5flt_1['year'] = 2020\n",
    "sf_rh_5flt_1['lever_position_fltsz'] = 1\n",
    "sf_rh_5flt_1['lever_position_price'] = 1\n",
    "sf_rh_5flt_1['lever_n_fleets'] = 5\n",
    "sf_rh_5flt_1['fleetsize_uber'] = 0.00175524\n",
    "sf_rh_5flt_1['fleetsize_lyft'] = 0.00112253\n",
    "sf_rh_5flt_1['fleetsize_cruise'] = 0.00092022\n",
    "sf_rh_5flt_1['fleetsize_flywheel'] = 0.00061348\n",
    "sf_rh_5flt_1['fleetsize_waymo'] = 0.00030674"
   ]
  },
  {
   "cell_type": "code",
   "execution_count": 18,
   "id": "68c491ef",
   "metadata": {
    "hidden": true
   },
   "outputs": [
    {
     "name": "stderr",
     "output_type": "stream",
     "text": [
      "<timed exec>:3: DtypeWarning: Columns (27,77,133,134,135,136,137,138,139,140,141,142,143,144,145,146,147,148,149,150,151,153,162,167,169,170,171,172,174,175,232,233,234,235,244) have mixed types. Specify dtype option on import or set low_memory=False.\n"
     ]
    },
    {
     "name": "stdout",
     "output_type": "stream",
     "text": [
      "CPU times: total: 2min 5s\n",
      "Wall time: 2min 5s\n"
     ]
    }
   ],
   "source": [
    "%%time\n",
    "key = \"pilates-outputs/sfbay_5fleets_100price_164fleet_20230209/inexus/sfbay_5_fleets_scenario_fleet_size-164_2020__20230209.csv.gz\"  #the path should be updated\n",
    "obj = s3.get_object(Bucket=\"beam-outputs\", Key=key)\n",
    "sf_rh_5flt_1p64 = pd.read_csv(obj['Body'], compression = 'gzip',index_col='Unnamed: 0')"
   ]
  },
  {
   "cell_type": "code",
   "execution_count": 22,
   "id": "bfa66f8b",
   "metadata": {
    "hidden": true
   },
   "outputs": [],
   "source": [
    "# Adding scenario info\n",
    "sf_rh_5flt_1p64['scenario'] = \"ridehail\"\n",
    "sf_rh_5flt_1p64['scenario'] = sf_rh_5flt_1p64['scenario'].astype(\"category\")\n",
    "sf_rh_5flt_1p64['lever'] = \"fleet_size_price_comb\"\n",
    "sf_rh_5flt_1p64['lever'] = sf_rh_5flt_1p64['lever'].astype(\"category\")\n",
    "sf_rh_5flt_1p64['year'] = 2020\n",
    "sf_rh_5flt_1p64['lever_position_fltsz'] = 1.64\n",
    "sf_rh_5flt_1p64['lever_position_price'] = 1\n",
    "sf_rh_5flt_1p64['lever_n_fleets'] = 5\n",
    "sf_rh_5flt_1p64['fleetsize_uber'] = 0.00287777\n",
    "sf_rh_5flt_1p64['fleetsize_lyft'] = 0.00184043\n",
    "sf_rh_5flt_1p64['fleetsize_cruise'] = 0.00150873\n",
    "sf_rh_5flt_1p64['fleetsize_flywheel'] = 0.00100582\n",
    "sf_rh_5flt_1p64['fleetsize_waymo'] = 0.00050291"
   ]
  },
  {
   "cell_type": "code",
   "execution_count": 20,
   "id": "267a7cbf",
   "metadata": {
    "hidden": true
   },
   "outputs": [
    {
     "name": "stderr",
     "output_type": "stream",
     "text": [
      "<timed exec>:3: DtypeWarning: Columns (27,77,133,134,135,136,137,138,139,140,141,142,143,144,145,146,147,148,149,150,151,153,162,167,169,170,171,172,174,175,232,233,234,235,244) have mixed types. Specify dtype option on import or set low_memory=False.\n"
     ]
    },
    {
     "name": "stdout",
     "output_type": "stream",
     "text": [
      "CPU times: total: 2min 13s\n",
      "Wall time: 2min 14s\n"
     ]
    }
   ],
   "source": [
    "%%time\n",
    "key = \"pilates-outputs/sfbay_5fleets_100price_200fleet_20230209/inexus/sfbay_5_fleets_scenario_fleet_size-200_2020__20230209.csv.gz\"  #the path should be updated\n",
    "obj = s3.get_object(Bucket=\"beam-outputs\", Key=key)\n",
    "sf_rh_5flt_2 = pd.read_csv(obj['Body'], compression = 'gzip',index_col='Unnamed: 0')"
   ]
  },
  {
   "cell_type": "code",
   "execution_count": 23,
   "id": "886c7d7c",
   "metadata": {
    "hidden": true
   },
   "outputs": [],
   "source": [
    "# Adding scenario info\n",
    "sf_rh_5flt_2['scenario'] = \"ridehail\"\n",
    "sf_rh_5flt_2['scenario'] = sf_rh_5flt_2['scenario'].astype(\"category\")\n",
    "sf_rh_5flt_2['lever'] = \"fleet_size_price_comb\"\n",
    "sf_rh_5flt_2['lever'] = sf_rh_5flt_2['lever'].astype(\"category\")\n",
    "sf_rh_5flt_2['year'] = 2020\n",
    "sf_rh_5flt_2['lever_position_fltsz'] = 2\n",
    "sf_rh_5flt_2['lever_position_price'] = 1\n",
    "sf_rh_5flt_2['lever_n_fleets'] = 5\n",
    "sf_rh_5flt_2['fleetsize_uber'] = 0.00351047\n",
    "sf_rh_5flt_2['fleetsize_lyft'] = 0.00224507\n",
    "sf_rh_5flt_2['fleetsize_cruise'] = 0.00184043\n",
    "sf_rh_5flt_2['fleetsize_flywheel'] = 0.00122696\n",
    "sf_rh_5flt_2['fleetsize_waymo'] = 0.00061348"
   ]
  },
  {
   "cell_type": "code",
   "execution_count": 13,
   "id": "4dd80446",
   "metadata": {
    "hidden": true
   },
   "outputs": [
    {
     "name": "stderr",
     "output_type": "stream",
     "text": [
      "<timed exec>:3: DtypeWarning: Columns (27,77,133,134,135,136,137,138,139,140,141,142,143,144,145,146,147,148,149,150,151,153,162,167,169,170,171,172,174,175,232,233,234,235,244) have mixed types. Specify dtype option on import or set low_memory=False.\n"
     ]
    },
    {
     "name": "stdout",
     "output_type": "stream",
     "text": [
      "CPU times: total: 2min 7s\n",
      "Wall time: 2min 8s\n"
     ]
    }
   ],
   "source": [
    "%%time\n",
    "key = \"pilates-outputs/.............../inexus/...............\"  #the path should be updated\n",
    "obj = s3.get_object(Bucket=\"beam-outputs\", Key=key)\n",
    "sf_rh_5flt_4 = pd.read_csv(obj['Body'], compression = 'gzip',index_col='Unnamed: 0')"
   ]
  },
  {
   "cell_type": "code",
   "execution_count": 16,
   "id": "b25b633b",
   "metadata": {
    "hidden": true
   },
   "outputs": [],
   "source": [
    "# Adding scenario info\n",
    "sf_rh_5flt_4['scenario'] = \"ridehail\"\n",
    "sf_rh_5flt_4['scenario'] = sf_rh_5flt_4['scenario'].astype(\"category\")\n",
    "sf_rh_5flt_4['lever'] = \"fleet_size_price_comb\"\n",
    "sf_rh_5flt_4['lever'] = sf_rh_5flt_4['lever'].astype(\"category\")\n",
    "sf_rh_5flt_4['year'] = 2020\n",
    "sf_rh_5flt_4['lever_position_fltsz'] = 4\n",
    "sf_rh_5flt_4['lever_position_price'] = 1\n",
    "sf_rh_5flt_4['lever_n_fleets'] = 5\n",
    "sf_rh_5flt_4['fleetsize_uber'] = 0.00702094\n",
    "sf_rh_5flt_4['fleetsize_lyft'] = 0.00449014\n",
    "sf_rh_5flt_4['fleetsize_cruise'] = 0.00368087\n",
    "sf_rh_5flt_4['fleetsize_flywheel'] = 0.00245391\n",
    "sf_rh_5flt_4['fleetsize_waymo'] = 0.00122696"
   ]
  },
  {
   "cell_type": "code",
   "execution_count": 24,
   "id": "c3a6cf42",
   "metadata": {
    "hidden": true
   },
   "outputs": [
    {
     "name": "stderr",
     "output_type": "stream",
     "text": [
      "<timed exec>:3: DtypeWarning: Columns (27,77,133,134,135,136,137,138,139,140,141,142,143,144,145,146,147,148,149,150,151,153,162,167,169,170,171,172,174,175,232,233,234,235,244) have mixed types. Specify dtype option on import or set low_memory=False.\n"
     ]
    },
    {
     "name": "stdout",
     "output_type": "stream",
     "text": [
      "CPU times: total: 2min 21s\n",
      "Wall time: 2min 21s\n"
     ]
    }
   ],
   "source": [
    "%%time\n",
    "key = \"pilates-outputs/sfbay_5fleets_100price_1000fleet_20230209/inexus/sfbay_5_fleets_scenario_fleet_size-1000_2020__20230209.csv.gz\"  #the path should be updated\n",
    "obj = s3.get_object(Bucket=\"beam-outputs\", Key=key)\n",
    "sf_rh_5flt_10 = pd.read_csv(obj['Body'], compression = 'gzip',index_col='Unnamed: 0')"
   ]
  },
  {
   "cell_type": "code",
   "execution_count": 25,
   "id": "a9786a9d",
   "metadata": {
    "hidden": true
   },
   "outputs": [],
   "source": [
    "# Adding scenario info\n",
    "sf_rh_5flt_10['scenario'] = \"ridehail\"\n",
    "sf_rh_5flt_10['scenario'] = sf_rh_5flt_10['scenario'].astype(\"category\")\n",
    "sf_rh_5flt_10['lever'] = \"fleet_size_price_comb\"\n",
    "sf_rh_5flt_10['lever'] = sf_rh_5flt_10['lever'].astype(\"category\")\n",
    "sf_rh_5flt_10['year'] = 2020\n",
    "sf_rh_5flt_10['lever_position_fltsz'] = 10\n",
    "sf_rh_5flt_10['lever_position_price'] = 1\n",
    "sf_rh_5flt_10['lever_n_fleets'] = 5\n",
    "sf_rh_5flt_10['fleetsize_uber'] = 0.01755235\n",
    "sf_rh_5flt_10['fleetsize_lyft'] = 0.01122534\n",
    "sf_rh_5flt_10['fleetsize_cruise'] = 0.00920217\n",
    "sf_rh_5flt_10['fleetsize_flywheel'] = 0.00613478\n",
    "sf_rh_5flt_10['fleetsize_waymo'] = 0.00306739"
   ]
  },
  {
   "cell_type": "code",
   "execution_count": 26,
   "id": "8f37acdc",
   "metadata": {
    "hidden": true
   },
   "outputs": [],
   "source": [
    "frames = [sfbase, sf_rh_5flt_1, sf_rh_5flt_1p64, sf_rh_5flt_2,\n",
    "          sf_rh_5flt_10]\n",
    "sf_stacked = pd.concat(frames)"
   ]
  },
  {
   "cell_type": "code",
   "execution_count": 27,
   "id": "999f6040",
   "metadata": {
    "hidden": true
   },
   "outputs": [],
   "source": [
    "sf_stacked = sf_stacked.drop(['has_school_kid','has_preschool_kid','has_retiree','has_non_worker','adult','hispanic','relate',\n",
    "                             'pstudent','pemploy','ptype','p_hispanic','age_16_p','age_16_to_19',\n",
    "                             'person_age','MAR','hours','hispanic.1','student',\n",
    "                             'worker','stop_frequency','composition','tdd','number_of_participants','tour_type_count',\n",
    "                             'tour_type_num','tour_num','tour_count', 'outbound', 'trip_num','num_under16_not_at_school',\n",
    "                             'family','non_family','num_young_adults','num_college_age','num_children_16_to_17',\n",
    "                              'num_children_5_to_15','num_young_children'], axis=1)"
   ]
  },
  {
   "cell_type": "code",
   "execution_count": 28,
   "id": "ba8d8c6c",
   "metadata": {
    "hidden": true
   },
   "outputs": [],
   "source": [
    "sf_stacked = sf_stacked.drop(['vehicleIds_estimate','parent_tour_id','atwork_subtour_frequency','household_id_y',\n",
    "                              'male','female', 'has_driving_kid','has_full_time','has_part_time',\n",
    "                              'has_university','student_is_employed', 'nonstudent_to_school', 'is_student','is_gradeschool',\n",
    "                              'is_gradeschool','is_highschool','is_university','school_segment','is_worker',  \n",
    "                              'distance_to_school','roundtrip_auto_time_to_school',\n",
    "                              'distance_to_work','workplace_in_cbd', 'work_taz_area_type', 'hh_race_of_head',\n",
    "                             'roundtrip_auto_time_to_work','work_auto_savings_ratio','cdap_activity', 'travel_active', \n",
    "                              'under16_not_at_school','has_preschool_kid_at_home', 'gt2','hispanic_head',\n",
    "                             'has_school_kid_at_home','work_and_school_and_worker', 'age_of_head', 'race_of_head',\n",
    "                              'work_and_school_and_student', 'VEHICL','hh_children','hh_age_of_head','num_workers',\n",
    "                              'gt55','seniors', 'recent_mover', 'hh_workers', 'hispanic_status_of_head', 'hh_seniors', \n",
    "                             'hh_type', 'HHT', 'sample_rate', 'chunk_id', 'income_segment', 'num_non_workers', \n",
    "                             'num_drivers', 'num_adults', 'num_children', 'hh_work_auto_savings_ratio', 'num_travel_active', \n",
    "                             'num_travel_active_adults','num_travel_active_preschoolers', 'num_travel_active_children', \n",
    "                              'num_travel_active_non_preschoolers', 'participates_in_jtf_model', 'joint_tour_frequency',\n",
    "                              'num_hh_joint_tours'], axis=1)"
   ]
  },
  {
   "cell_type": "code",
   "execution_count": 29,
   "id": "8d1c6b28",
   "metadata": {
    "hidden": true
   },
   "outputs": [],
   "source": [
    "sf_stacked = sf_stacked.drop(['serialno'], axis=1)"
   ]
  },
  {
   "cell_type": "markdown",
   "id": "d4867114",
   "metadata": {
    "heading_collapsed": true
   },
   "source": [
    "#### Stacked File"
   ]
  },
  {
   "cell_type": "code",
   "execution_count": 30,
   "id": "9c0e0def",
   "metadata": {
    "hidden": true
   },
   "outputs": [],
   "source": [
    "#stacked_tr_fr_path = \"https://beam-core-act.s3.amazonaws.com/deepDive/CleanData/SanFrancisco/Stacked/\"\n",
    "#sf_stacked_tr_fr = pd.read_csv(stacked_tr_fr_path + 'sf_2018_stacked_tr_fr.csv')"
   ]
  },
  {
   "cell_type": "code",
   "execution_count": 31,
   "id": "8b7d1452",
   "metadata": {
    "hidden": true
   },
   "outputs": [],
   "source": [
    "sf_stacked = sf_stacked.sort_values(by=['IDMerged', 'tripIndex', 'lever_position_fltsz']).reset_index(drop=True)"
   ]
  },
  {
   "cell_type": "code",
   "execution_count": 32,
   "id": "508b76a9",
   "metadata": {
    "hidden": true
   },
   "outputs": [],
   "source": [
    "# shift column 'person' to first position\n",
    "#first_column = sf_stacked.pop('scenario')\n",
    "#second_column = sf_stacked.pop('lever')\n",
    "#third_column = sf_stacked.pop('lever_position')\n",
    "#fourth_column = sf_stacked.pop('logsum_trip_mode_AS_trips')\n",
    "# insert column using insert(position,column_name,first_column) function\n",
    "#sf_stacked.insert(2, 'scenario', first_column)\n",
    "#sf_stacked.insert(3, 'lever', second_column)\n",
    "#sf_stacked.insert(4, 'lever_position', third_column)\n",
    "#sf_stacked.insert(5, 'logsum_trip_mode_AS_trips', fourth_column)"
   ]
  },
  {
   "cell_type": "code",
   "execution_count": 36,
   "id": "e0b1b815",
   "metadata": {
    "hidden": true
   },
   "outputs": [],
   "source": [
    "# Adding Price lever position\n",
    "#conditions  = [(sf_stacked['lever_position'] == 0.125),\n",
    "#               (sf_stacked['lever_position'] == 0.25),\n",
    "#               (sf_stacked['lever_position'] == 0.5),\n",
    "#               (sf_stacked['lever_position'] == 1),\n",
    "#               (sf_stacked['lever_position'] == 2),\n",
    "#               (sf_stacked['lever_position'] == 4),\n",
    "#               (sf_stacked['lever_position'] == 10),\n",
    "#               (sf_stacked['lever_position'] == 27.5)]\n",
    "#\n",
    "#choices = [0.125, 0.25, 0.5, 1, 2, 4, 10, 27.5]"
   ]
  },
  {
   "cell_type": "code",
   "execution_count": 37,
   "id": "b23249d2",
   "metadata": {
    "hidden": true
   },
   "outputs": [],
   "source": [
    "#sf_stacked['lever_position_fleetsize'] = np.select(conditions, choices, default=np.nan)"
   ]
  },
  {
   "cell_type": "code",
   "execution_count": 38,
   "id": "f70826d1",
   "metadata": {
    "hidden": true
   },
   "outputs": [],
   "source": [
    "#sf_stacked['lever_position_price'] = 1"
   ]
  },
  {
   "cell_type": "code",
   "execution_count": 39,
   "id": "1afdc247",
   "metadata": {
    "hidden": true
   },
   "outputs": [],
   "source": [
    "#sf_stacked_tr_fr['logsum_relative_to_baseline'] = sf_stacked_tr_fr.groupby(['IDMerged','tripIndex'])['logsum_trip_mode_AS_trips'].apply(lambda x: x.diff())"
   ]
  },
  {
   "cell_type": "code",
   "execution_count": 40,
   "id": "68d6a4de",
   "metadata": {
    "hidden": true
   },
   "outputs": [],
   "source": [
    "#sf_stacked_tr_fr['logsum_relative_to_baseline'] = sf_stacked_tr_fr['logsum_trip_mode_AS_trips'] - sf_stacked_tr_fr.loc[sf_stacked_tr_fr.groupby(['IDMerged','tripIndex'])['lever_position'].transform('idxmin'), 'logsum_trip_mode_AS_trips'].values"
   ]
  },
  {
   "cell_type": "code",
   "execution_count": 37,
   "id": "2b7802f6",
   "metadata": {
    "hidden": true
   },
   "outputs": [
    {
     "name": "stdout",
     "output_type": "stream",
     "text": [
      "CPU times: total: 3.72 s\n",
      "Wall time: 3.5 s\n"
     ]
    }
   ],
   "source": [
    "%%time\n",
    "sf_stacked['logsum_relative_to_baseline'] = sf_stacked['logsum_trip_Potential_INEXUS'] - (sf_stacked['logsum_trip_Potential_INEXUS'].where((sf_stacked['lever_position_fltsz'].eq(1.0)) & (sf_stacked['lever_n_fleets'] == 2))\n",
    "                                                                                          .groupby([sf_stacked['IDMerged'] , sf_stacked['tripIndex']])\n",
    "                                                                                          .transform('first')\n",
    "                                                                                          .convert_dtypes())"
   ]
  },
  {
   "cell_type": "code",
   "execution_count": 38,
   "id": "2c4e35a6",
   "metadata": {
    "hidden": true
   },
   "outputs": [],
   "source": [
    "sf_stacked['door_to_door_time_relative_to_baseline'] = sf_stacked['duration_door_to_door'] - (sf_stacked['duration_door_to_door'].where((sf_stacked['lever_position_fltsz'].eq(1.0)) & (sf_stacked['lever_n_fleets'] == 2))\n",
    "                                                                                          .groupby([sf_stacked['IDMerged'] , sf_stacked['tripIndex']])\n",
    "                                                                                          .transform('first')\n",
    "                                                                                          .convert_dtypes())"
   ]
  },
  {
   "cell_type": "code",
   "execution_count": 39,
   "id": "4a4453b5",
   "metadata": {
    "hidden": true
   },
   "outputs": [],
   "source": [
    "# Drop unused columns\n",
    "sf_stacked = sf_stacked.drop(['sf_detached', 'household_id_x','destination_logsum_y','logsum_tours_mode_AS_tours',\n",
    "                              'primary_purpose_y','PNUM','work_auto_savings','mandatory_tour_frequency'], axis=1)"
   ]
  },
  {
   "cell_type": "code",
   "execution_count": 43,
   "id": "476c23f4",
   "metadata": {
    "ExecuteTime": {
     "end_time": "2022-10-07T01:00:55.847360Z",
     "start_time": "2022-10-07T01:00:55.045071Z"
    },
    "hidden": true
   },
   "outputs": [
    {
     "data": {
      "text/plain": [
       "(119291, 171)"
      ]
     },
     "execution_count": 43,
     "metadata": {},
     "output_type": "execute_result"
    }
   ],
   "source": [
    "sf_stacked[sf_stacked['replanning_status'] > 0].shape"
   ]
  },
  {
   "cell_type": "code",
   "execution_count": 44,
   "id": "0111d8da",
   "metadata": {
    "ExecuteTime": {
     "end_time": "2022-10-07T01:01:09.566750Z",
     "start_time": "2022-10-07T01:01:08.396429Z"
    },
    "hidden": true
   },
   "outputs": [],
   "source": [
    "# Add the mandatory category column\n",
    "mandatory = ['work' , 'univ', 'school']\n",
    "sf_stacked['mandatoryCat'] = np.where((sf_stacked.actEndType.isin(mandatory)) & (sf_stacked.actStartType.isin(mandatory)), 'from_M_to_M' , None)"
   ]
  },
  {
   "cell_type": "code",
   "execution_count": 45,
   "id": "4ef447dd",
   "metadata": {
    "ExecuteTime": {
     "end_time": "2022-10-07T01:01:11.980472Z",
     "start_time": "2022-10-07T01:01:10.667391Z"
    },
    "hidden": true
   },
   "outputs": [],
   "source": [
    "sf_stacked['mandatoryCat'] = np.where((sf_stacked.actEndType == 'Home') & (sf_stacked.actStartType.isin(mandatory)), 'from_H_to_M' , sf_stacked['mandatoryCat'])"
   ]
  },
  {
   "cell_type": "code",
   "execution_count": 46,
   "id": "11c74ce2",
   "metadata": {
    "ExecuteTime": {
     "end_time": "2022-10-07T01:01:15.207664Z",
     "start_time": "2022-10-07T01:01:13.883857Z"
    },
    "hidden": true
   },
   "outputs": [],
   "source": [
    "sf_stacked['mandatoryCat'] = np.where((sf_stacked.actEndType.isin(mandatory)) & (sf_stacked.actStartType == \"Home\"), 'from_M_to_H' , sf_stacked['mandatoryCat'])"
   ]
  },
  {
   "cell_type": "code",
   "execution_count": 47,
   "id": "714163d9",
   "metadata": {
    "ExecuteTime": {
     "start_time": "2022-10-07T01:01:20.650Z"
    },
    "hidden": true
   },
   "outputs": [],
   "source": [
    "non_mandatory = ['othmaint' , 'othdiscr', 'escort', 'eatout', 'social', 'shopping', 'atwork']\n",
    "sf_stacked['mandatoryCat'] = np.where((sf_stacked.actEndType.isin(non_mandatory)) & (sf_stacked.actStartType.isin(non_mandatory)), 'from_N_to_N' , sf_stacked['mandatoryCat'])"
   ]
  },
  {
   "cell_type": "code",
   "execution_count": 48,
   "id": "7e184487",
   "metadata": {
    "hidden": true
   },
   "outputs": [],
   "source": [
    "# Drop unused columns\n",
    "sf_stacked = sf_stacked.drop(['num_work_tours','num_joint_tours', 'non_mandatory_tour_frequency',\n",
    "                                          'num_non_mand','num_escort_tours','num_eatout_tours','num_shop_tours',\n",
    "                                          'num_maint_tours','num_discr_tours','num_social_tours','num_non_escort_tours'], axis=1)"
   ]
  },
  {
   "cell_type": "code",
   "execution_count": 53,
   "id": "a747eb02",
   "metadata": {
    "hidden": true
   },
   "outputs": [],
   "source": [
    "#sf_stacked[sf_stacked['Realized_INEXUS'].isna()].head(10000).to_csv('C:/Shared-Work/Data/CleanData/ASIM_BEAM_Merged/realizedIN_empty.csv', index = False)"
   ]
  },
  {
   "cell_type": "code",
   "execution_count": 54,
   "id": "56093393",
   "metadata": {
    "hidden": true
   },
   "outputs": [],
   "source": [
    "#%%time\n",
    "#sf_stacked_tr_fr.to_csv('s3://beam-core-act/deepDive/CleanData/SanFrancisco/Stacked/sf_2018_stacked_tr_fr_v3.csv', index=False)"
   ]
  },
  {
   "cell_type": "code",
   "execution_count": 53,
   "id": "45ed6cef",
   "metadata": {
    "hidden": true
   },
   "outputs": [
    {
     "data": {
      "text/plain": [
       "(0, 161)"
      ]
     },
     "execution_count": 53,
     "metadata": {},
     "output_type": "execute_result"
    }
   ],
   "source": [
    "sf_stacked[sf_stacked['SHARED3FREE'].isna()].shape"
   ]
  },
  {
   "cell_type": "code",
   "execution_count": 51,
   "id": "698ee745",
   "metadata": {
    "hidden": true
   },
   "outputs": [],
   "source": [
    "sf_stacked = sf_stacked[sf_stacked['person_sex'].notna()]"
   ]
  },
  {
   "cell_type": "code",
   "execution_count": 67,
   "id": "86d28cc0",
   "metadata": {
    "hidden": true
   },
   "outputs": [],
   "source": [
    "# Mapping BEAM and ASIM modes\n",
    "conditions  = [(sf_stacked['mode_choice_actual_BEAM'] == 'walk')&(sf_stacked['trip_mode_AS_trips'] == 'WALK'),\n",
    "               (sf_stacked['mode_choice_actual_BEAM'] == 'bike')&(sf_stacked['trip_mode_AS_trips'] == 'BIKE'),\n",
    "               (sf_stacked['mode_choice_actual_BEAM'] == 'hov3_teleportation')&(sf_stacked['trip_mode_AS_trips'] == 'SHARED3FREE'),\n",
    "               (sf_stacked['mode_choice_actual_BEAM'] == 'hov3_teleportation')&(sf_stacked['trip_mode_AS_trips'] == 'SHARED3PAY'),\n",
    "               (sf_stacked['mode_choice_actual_BEAM'] == 'car_hov3')&(sf_stacked['trip_mode_AS_trips'] == 'SHARED3FREE'),\n",
    "               (sf_stacked['mode_choice_actual_BEAM'] == 'car_hov3')&(sf_stacked['trip_mode_AS_trips'] == 'SHARED3PAY'),\n",
    "               (sf_stacked['mode_choice_actual_BEAM'] == 'hov2_teleportation')&(sf_stacked['trip_mode_AS_trips'] == 'SHARED2FREE'),\n",
    "               (sf_stacked['mode_choice_actual_BEAM'] == 'hov2_teleportation')&(sf_stacked['trip_mode_AS_trips'] == 'SHARED2PAY'),\n",
    "               (sf_stacked['mode_choice_actual_BEAM'] == 'car_hov2')&(sf_stacked['trip_mode_AS_trips'] == 'SHARED2PAY'),\n",
    "               (sf_stacked['mode_choice_actual_BEAM'] == 'car_hov2')&(sf_stacked['trip_mode_AS_trips'] == 'SHARED2FREE'),\n",
    "               (sf_stacked['mode_choice_actual_BEAM'] == 'car')&(sf_stacked['trip_mode_AS_trips'] == 'DRIVEALONEFREE'),\n",
    "               (sf_stacked['mode_choice_actual_BEAM'] == 'car')&(sf_stacked['trip_mode_AS_trips'] == 'DRIVEALONEPAY'),\n",
    "               (sf_stacked['mode_choice_actual_BEAM'] == 'walk_transit')&(sf_stacked['trip_mode_AS_trips'] == 'WALK_LRF'),\n",
    "               (sf_stacked['mode_choice_actual_BEAM'] == 'walk_transit')&(sf_stacked['trip_mode_AS_trips'] == 'WALK_LOC'),\n",
    "               (sf_stacked['mode_choice_actual_BEAM'] == 'walk_transit')&(sf_stacked['trip_mode_AS_trips'] == 'WALK_EXP'),\n",
    "               (sf_stacked['mode_choice_actual_BEAM'] == 'walk_transit')&(sf_stacked['trip_mode_AS_trips'] == 'WALK_HVY'),\n",
    "               (sf_stacked['mode_choice_actual_BEAM'] == 'walk_transit')&(sf_stacked['trip_mode_AS_trips'] == 'WALK_COM'),\n",
    "               (sf_stacked['mode_choice_actual_BEAM'] == 'ride_hail')&(sf_stacked['trip_mode_AS_trips'] == 'TNC_SINGLE'),\n",
    "               (sf_stacked['mode_choice_actual_BEAM'] == 'ride_hail')&(sf_stacked['trip_mode_AS_trips'] == 'TNC_SHARED'),\n",
    "               (sf_stacked['mode_choice_actual_BEAM'] == 'ride_hail')&(sf_stacked['trip_mode_AS_trips'] == 'TAXI'),\n",
    "               (sf_stacked['mode_choice_actual_BEAM'] == 'drive_transit')&(sf_stacked['trip_mode_AS_trips'] == 'DRIVE_COM'),\n",
    "               (sf_stacked['mode_choice_actual_BEAM'] == 'drive_transit')&(sf_stacked['trip_mode_AS_trips'] == 'DRIVE_LRF'),\n",
    "               (sf_stacked['mode_choice_actual_BEAM'] == 'drive_transit')&(sf_stacked['trip_mode_AS_trips'] == 'DRIVE_LOC'),\n",
    "               (sf_stacked['mode_choice_actual_BEAM'] == 'drive_transit')&(sf_stacked['trip_mode_AS_trips'] == 'DRIVE_EXP'),\n",
    "               (sf_stacked['mode_choice_actual_BEAM'] == 'drive_transit')&(sf_stacked['trip_mode_AS_trips'] == 'DRIVE_HVY'),\n",
    "               (sf_stacked['mode_choice_actual_BEAM'] == 'ride_hail_pooled')&(sf_stacked['trip_mode_AS_trips'] == 'TNC_SINGLE'),\n",
    "               (sf_stacked['mode_choice_actual_BEAM'] == 'ride_hail_pooled')&(sf_stacked['trip_mode_AS_trips'] == 'TNC_SHARED'),\n",
    "               (sf_stacked['mode_choice_actual_BEAM'] == 'ride_hail_pooled')&(sf_stacked['trip_mode_AS_trips'] == 'TAXI'),\n",
    "       \n",
    "               (sf_stacked['mode_choice_actual_BEAM'] == 'hov2_teleportation')&((sf_stacked['trip_mode_AS_trips'] == 'SHARED3FREE')|\n",
    "               (sf_stacked['trip_mode_AS_trips'] == 'SHARED3PAY')|(sf_stacked['trip_mode_AS_trips'] == 'DRIVEALONEFREE')|\n",
    "               (sf_stacked['trip_mode_AS_trips'] == 'DRIVEALONEPAY')),\n",
    "               \n",
    "               (sf_stacked['mode_choice_actual_BEAM'] == 'car_hov2')&((sf_stacked['trip_mode_AS_trips'] == 'SHARED3PAY')|\n",
    "               (sf_stacked['trip_mode_AS_trips'] == 'SHARED3FREE')|(sf_stacked['trip_mode_AS_trips'] == 'DRIVEALONEFREE')|\n",
    "               (sf_stacked['trip_mode_AS_trips'] == 'DRIVEALONEPAY')),\n",
    "               \n",
    "               (sf_stacked['mode_choice_actual_BEAM'] == 'car_hov3')&((sf_stacked['trip_mode_AS_trips'] == 'SHARED2PAY')|\n",
    "               (sf_stacked['trip_mode_AS_trips'] == 'SHARED2FREE')|(sf_stacked['trip_mode_AS_trips'] == 'DRIVEALONEFREE')|\n",
    "               (sf_stacked['trip_mode_AS_trips'] == 'DRIVEALONEPAY')),   \n",
    "               \n",
    "               (sf_stacked['mode_choice_actual_BEAM'] == 'hov3_teleportation')&((sf_stacked['trip_mode_AS_trips'] == 'DRIVEALONEPAY')|\n",
    "               (sf_stacked['trip_mode_AS_trips'] == 'DRIVEALONEFREE')|(sf_stacked['trip_mode_AS_trips'] == 'SHARED2PAY')|(sf_stacked['trip_mode_AS_trips'] == 'SHARED2FREE')),\n",
    "               \n",
    "               (sf_stacked['mode_choice_actual_BEAM'] == 'car')&((sf_stacked['trip_mode_AS_trips'] == 'SHARED3FREE')|(sf_stacked['trip_mode_AS_trips'] == 'SHARED2FREE')|\n",
    "               (sf_stacked['trip_mode_AS_trips'] == 'SHARED3PAY')|(sf_stacked['trip_mode_AS_trips'] == 'SHARED2PAY')|(sf_stacked['trip_mode_AS_trips'] == 'DRIVE_LOC')|\n",
    "               (sf_stacked['trip_mode_AS_trips'] == 'DRIVE_LRF')|(sf_stacked['trip_mode_AS_trips'] == 'DRIVE_EXP')|\n",
    "               (sf_stacked['trip_mode_AS_trips'] == 'DRIVE_HVY')|(sf_stacked['trip_mode_AS_trips'] == 'DRIVE_COM')),\n",
    "               \n",
    "               (sf_stacked['mode_choice_actual_BEAM'] == 'walk')&((sf_stacked['trip_mode_AS_trips'] == 'WALK_LRF')|\n",
    "               (sf_stacked['trip_mode_AS_trips'] == 'WALK_LOC')|(sf_stacked['trip_mode_AS_trips'] == 'WALK_EXP')|\n",
    "               (sf_stacked['trip_mode_AS_trips'] == 'WALK_HVY')|(sf_stacked['trip_mode_AS_trips'] == 'WALK_COM')),\n",
    "               \n",
    "               (sf_stacked['mode_choice_actual_BEAM'] == 'walk_transit')&(sf_stacked['trip_mode_AS_trips'] == 'WALK'),\n",
    "               \n",
    "               ((sf_stacked['mode_choice_actual_BEAM'] == 'ride_hail_pooled')|(sf_stacked['mode_choice_actual_BEAM'] == 'ride_hail'))\n",
    "               &(~((sf_stacked['trip_mode_AS_trips'] == 'TAXI')|(sf_stacked['trip_mode_AS_trips'] == 'TNC_SHARED')|\n",
    "                (sf_stacked['trip_mode_AS_trips'] == 'TNC_SINGLE'))),\n",
    "               \n",
    "               (sf_stacked['mode_choice_actual_BEAM'] == 'walk_transit')&(~((sf_stacked['trip_mode_AS_trips'] == 'WALK_LRF')|\n",
    "               (sf_stacked['trip_mode_AS_trips'] == 'WALK_LOC')|(sf_stacked['trip_mode_AS_trips'] == 'WALK_EXP')|\n",
    "               (sf_stacked['trip_mode_AS_trips'] == 'WALK_HVY')|(sf_stacked['trip_mode_AS_trips'] == 'WALK_COM')|\n",
    "               (sf_stacked['trip_mode_AS_trips'] == 'WALK'))),\n",
    "               \n",
    "               (sf_stacked['mode_choice_actual_BEAM'] == 'bike_transit'),\n",
    "               \n",
    "               (sf_stacked['mode_choice_actual_BEAM'] == 'car')&((sf_stacked['trip_mode_AS_trips'] == 'TNC_SHARED')|\n",
    "               (sf_stacked['trip_mode_AS_trips'] == 'TNC_SINGLE')|(sf_stacked['trip_mode_AS_trips'] == 'TAXI'))]\n",
    " \n",
    "                                                                      \n",
    "                                                                                                                 \n",
    "                                                                      \n",
    "choices = [sf_stacked['WALK'], sf_stacked['BIKE'], sf_stacked['SHARED3FREE'], sf_stacked['SHARED3PAY'],\n",
    "           sf_stacked['SHARED3FREE'], sf_stacked['SHARED3PAY'], sf_stacked['SHARED2FREE'], \n",
    "           sf_stacked['SHARED2PAY'], sf_stacked['SHARED2PAY'], sf_stacked['SHARED2FREE'], \n",
    "           sf_stacked['DRIVEALONEFREE'], sf_stacked['DRIVEALONEPAY'], sf_stacked['WALK_LRF'], \n",
    "           sf_stacked['WALK_LOC'], sf_stacked['WALK_EXP'], sf_stacked['WALK_HVY'], sf_stacked['WALK_COM'],\n",
    "           sf_stacked['TNC_SINGLE'], \n",
    "           sf_stacked['TNC_SHARED'], sf_stacked['TAXI'],\n",
    "           sf_stacked['DRIVE_COM'], sf_stacked['DRIVE_LRF'], sf_stacked['DRIVE_LOC'], sf_stacked['DRIVE_EXP'],\n",
    "           sf_stacked['DRIVE_HVY'], sf_stacked['TNC_SINGLE'], sf_stacked['TNC_SHARED'], sf_stacked['TAXI'],\n",
    "          sf_stacked[['DRIVEALONEFREE','DRIVEALONEPAY','SHARED2FREE','SHARED3FREE','SHARED2PAY','SHARED3PAY','DRIVE_LOC','DRIVE_LRF','DRIVE_EXP','DRIVE_HVY','DRIVE_COM']].max(axis=1),\n",
    "          sf_stacked[['DRIVEALONEFREE','DRIVEALONEPAY','SHARED2FREE','SHARED3FREE','SHARED2PAY','SHARED3PAY','DRIVE_LOC','DRIVE_LRF','DRIVE_EXP','DRIVE_HVY','DRIVE_COM']].max(axis=1),\n",
    "          sf_stacked[['DRIVEALONEFREE','DRIVEALONEPAY','SHARED2FREE','SHARED3FREE','SHARED2PAY','SHARED3PAY','DRIVE_LOC','DRIVE_LRF','DRIVE_EXP','DRIVE_HVY','DRIVE_COM']].max(axis=1),\n",
    "          sf_stacked[['DRIVEALONEFREE','DRIVEALONEPAY','SHARED2FREE','SHARED3FREE','SHARED2PAY','SHARED3PAY','DRIVE_LOC','DRIVE_LRF','DRIVE_EXP','DRIVE_HVY','DRIVE_COM']].max(axis=1),\n",
    "          sf_stacked[['DRIVEALONEFREE','DRIVEALONEPAY','SHARED2FREE','SHARED3FREE','SHARED2PAY','SHARED3PAY','DRIVE_LOC','DRIVE_LRF','DRIVE_EXP','DRIVE_HVY','DRIVE_COM']].max(axis=1),\n",
    "          sf_stacked[['WALK','WALK_LOC','WALK_LRF','WALK_EXP','WALK_HVY','WALK_COM']].max(axis=1),\n",
    "          sf_stacked[['WALK','WALK_LOC','WALK_LRF','WALK_EXP','WALK_HVY','WALK_COM']].max(axis=1),\n",
    "          sf_stacked[['TAXI','TNC_SINGLE','TNC_SHARED']].max(axis=1),\n",
    "          sf_stacked[['WALK','WALK_LOC','WALK_LRF','WALK_EXP','WALK_HVY','WALK_COM','DRIVE_LOC','DRIVE_LRF','DRIVE_EXP','DRIVE_HVY','DRIVE_COM']].max(axis=1),\n",
    "          sf_stacked[['BIKE','WALK_LOC','WALK_LRF','WALK_EXP','WALK_HVY','WALK_COM','DRIVE_LOC','DRIVE_LRF','DRIVE_EXP','DRIVE_HVY','DRIVE_COM']].max(axis=1),\n",
    "          sf_stacked[['DRIVEALONEFREE','DRIVEALONEPAY','SHARED2FREE','SHARED3FREE','SHARED2PAY','SHARED3PAY','DRIVE_LOC','DRIVE_LRF','DRIVE_EXP','DRIVE_HVY','DRIVE_COM']].max(axis=1)]"
   ]
  },
  {
   "cell_type": "code",
   "execution_count": 68,
   "id": "efacd110",
   "metadata": {
    "hidden": true,
    "scrolled": true
   },
   "outputs": [],
   "source": [
    "sf_stacked['Realized_INEXUS'] = np.select(conditions, choices, default=np.nan)"
   ]
  },
  {
   "cell_type": "code",
   "execution_count": null,
   "id": "917c8ee2",
   "metadata": {
    "hidden": true
   },
   "outputs": [],
   "source": [
    "#sf_stacked = sf_stacked.drop(['Realized_INEXUS'], axis=1)"
   ]
  },
  {
   "cell_type": "code",
   "execution_count": 69,
   "id": "9bbb966f",
   "metadata": {
    "hidden": true
   },
   "outputs": [],
   "source": [
    "sf_stacked['Realized_INEXUS'] = np.where((sf_stacked['Realized_INEXUS'].isna())&((sf_stacked['mode_choice_actual_BEAM'] == 'car_hov2')|\n",
    "                                          (sf_stacked['mode_choice_actual_BEAM'] == 'car_hov3')|\n",
    "                                          (sf_stacked['mode_choice_actual_BEAM'] == 'hov2_teleportation')|\n",
    "                                          (sf_stacked['mode_choice_actual_BEAM'] == 'hov3_teleportation')|\n",
    "                                          (sf_stacked['mode_choice_actual_BEAM'] == 'car')|\n",
    "                                          (sf_stacked['mode_choice_actual_BEAM'] == 'drive_transit')), \n",
    "                                           sf_stacked[['DRIVEALONEFREE','DRIVEALONEPAY','SHARED2FREE','SHARED3FREE','SHARED2PAY','SHARED3PAY','DRIVE_LOC','DRIVE_LRF','DRIVE_EXP','DRIVE_HVY','DRIVE_COM']].max(axis=1), sf_stacked['Realized_INEXUS'])"
   ]
  },
  {
   "cell_type": "code",
   "execution_count": 70,
   "id": "39f33fc4",
   "metadata": {
    "hidden": true
   },
   "outputs": [],
   "source": [
    "sf_stacked['Realized_INEXUS'] = np.where((sf_stacked['Realized_INEXUS'].isna())&((sf_stacked['mode_choice_actual_BEAM'] == 'walk')|\n",
    "                                         (sf_stacked['mode_choice_actual_BEAM'] == 'walk_transit')), \n",
    "                                          sf_stacked[['WALK','WALK_LOC','WALK_LRF','WALK_EXP','WALK_HVY','WALK_COM','DRIVE_LOC','DRIVE_LRF','DRIVE_EXP','DRIVE_HVY','DRIVE_COM']].max(axis=1),sf_stacked['Realized_INEXUS'])"
   ]
  },
  {
   "cell_type": "code",
   "execution_count": 71,
   "id": "c31f1858",
   "metadata": {
    "hidden": true
   },
   "outputs": [],
   "source": [
    "sf_stacked['Realized_INEXUS'] = np.where(sf_stacked['Realized_INEXUS'].isna()&(sf_stacked['mode_choice_actual_BEAM'] == 'bike'), \n",
    "                                         sf_stacked[['BIKE','WALK','WALK_LOC','WALK_LRF','WALK_EXP','WALK_HVY','WALK_COM']].max(axis=1),sf_stacked['Realized_INEXUS'])"
   ]
  },
  {
   "cell_type": "code",
   "execution_count": 72,
   "id": "c6a246c6",
   "metadata": {
    "hidden": true
   },
   "outputs": [
    {
     "data": {
      "text/plain": [
       "(0, 162)"
      ]
     },
     "execution_count": 72,
     "metadata": {},
     "output_type": "execute_result"
    }
   ],
   "source": [
    "sf_stacked[sf_stacked['Realized_INEXUS'].isna()].shape"
   ]
  },
  {
   "cell_type": "code",
   "execution_count": 74,
   "id": "b858c058",
   "metadata": {
    "hidden": true
   },
   "outputs": [
    {
     "data": {
      "text/plain": [
       "(8658, 162)"
      ]
     },
     "execution_count": 74,
     "metadata": {},
     "output_type": "execute_result"
    }
   ],
   "source": [
    "sf_stacked[sf_stacked['Realized_INEXUS']<-1000].shape"
   ]
  },
  {
   "cell_type": "code",
   "execution_count": null,
   "id": "1ac28b2e",
   "metadata": {
    "hidden": true
   },
   "outputs": [],
   "source": [
    "#sf_stacked_tr_fr['Realized_INEXUS'] = np.where((sf_stacked_tr_fr['Realized_INEXUS'].isna())&\n",
    "                                               #(sf_stacked_tr_fr['mode_choice_actual_BEAM'] == 'walk_transit')&\n",
    "                                               #(sf_stacked_tr_fr['vehicleIds'].str.contains('(caltrain)')), \n",
    "                                               #sf_stacked_tr_fr['WALK_COM'], sf_stacked_tr_fr['Realized_INEXUS'])"
   ]
  },
  {
   "cell_type": "code",
   "execution_count": 75,
   "id": "aef4dfd1",
   "metadata": {
    "hidden": true
   },
   "outputs": [],
   "source": [
    "sf_stacked = sf_stacked[sf_stacked['Realized_INEXUS'].notna()]"
   ]
  },
  {
   "cell_type": "code",
   "execution_count": 76,
   "id": "a60a1ce4",
   "metadata": {
    "hidden": true
   },
   "outputs": [
    {
     "name": "stdout",
     "output_type": "stream",
     "text": [
      "CPU times: total: 1min 29s\n",
      "Wall time: 1min 30s\n"
     ]
    }
   ],
   "source": [
    "%%time\n",
    "sf_stacked['realized_relative_to_baseline'] = sf_stacked['Realized_INEXUS'] - (sf_stacked['Realized_INEXUS'].where((sf_stacked['lever_position_fltsz'].eq(1.0)) & (sf_stacked['lever_n_fleets'] == 2))\n",
    "                                                                                          .groupby([sf_stacked['IDMerged'] , sf_stacked['tripIndex']])\n",
    "                                                                                          .transform('first')\n",
    "                                                                                          .convert_dtypes())"
   ]
  },
  {
   "cell_type": "code",
   "execution_count": null,
   "id": "b41ec71d",
   "metadata": {
    "hidden": true
   },
   "outputs": [],
   "source": [
    "#sf_stacked_tr_fr[sf_stacked_tr_fr['Realized_INEXUS'].isna()].to_csv('C:/Shared-Work/Data/CleanData/ASIM_BEAM_Merged/realizedIN_empty.csv', index = False)"
   ]
  },
  {
   "cell_type": "markdown",
   "id": "f6b51cec",
   "metadata": {
    "heading_collapsed": true
   },
   "source": [
    "#### Social INEXUS"
   ]
  },
  {
   "cell_type": "code",
   "execution_count": null,
   "id": "f34e8e1e",
   "metadata": {
    "hidden": true
   },
   "outputs": [],
   "source": [
    "# add a lower and upper range for the bins in pd.cut\n",
    "#quartiles = [0] + quartiles + [float('inf')]"
   ]
  },
  {
   "cell_type": "code",
   "execution_count": null,
   "id": "5453a2a7",
   "metadata": {
    "hidden": true
   },
   "outputs": [],
   "source": [
    "# add a quartiles column to groups, using pd.cut\n",
    "#sf_stacked['income_quartiles'] = pd.cut(sf_stacked['income'], bins=quartiles, labels=['1stQ', '2ndQ', '3rdQ', '4thQ'])"
   ]
  },
  {
   "cell_type": "code",
   "execution_count": 79,
   "id": "3051d584",
   "metadata": {
    "hidden": true
   },
   "outputs": [],
   "source": [
    "sf_stacked['alpha'] = 1"
   ]
  },
  {
   "cell_type": "code",
   "execution_count": 80,
   "id": "11864852",
   "metadata": {
    "hidden": true
   },
   "outputs": [],
   "source": [
    "sf_stacked['socialCarbonCost'] = sf_stacked['emission_marginal']*185 # 51 or 102"
   ]
  },
  {
   "cell_type": "code",
   "execution_count": 81,
   "id": "1278d22e",
   "metadata": {
    "hidden": true
   },
   "outputs": [],
   "source": [
    "sf_stacked['Social_INEXUS'] = (sf_stacked['Realized_INEXUS']/sf_stacked['alpha']) - sf_stacked['socialCarbonCost']"
   ]
  },
  {
   "cell_type": "code",
   "execution_count": 82,
   "id": "253178e9",
   "metadata": {
    "hidden": true
   },
   "outputs": [],
   "source": [
    "sf_stacked['Potential_INEXUS_in_dollar'] = sf_stacked['logsum_trip_Potential_INEXUS']/sf_stacked['alpha']"
   ]
  },
  {
   "cell_type": "code",
   "execution_count": 83,
   "id": "e1fe632a",
   "metadata": {
    "hidden": true
   },
   "outputs": [],
   "source": [
    "sf_stacked['Realized_INEXUS_in_dollar'] = sf_stacked['Realized_INEXUS']/sf_stacked['alpha']"
   ]
  },
  {
   "cell_type": "markdown",
   "id": "e6e0a1bd",
   "metadata": {
    "heading_collapsed": true
   },
   "source": [
    "#### The following chunks are useful but should be checked in the next runs (they resulted in exact same realized and potential inexus in dollar"
   ]
  },
  {
   "cell_type": "code",
   "execution_count": null,
   "id": "656ac3fd",
   "metadata": {
    "hidden": true
   },
   "outputs": [],
   "source": [
    "# shift columns to first position\n",
    "#first_column = sf_stacked.pop('Social_INEXUS')\n",
    "# insert column using insert(position,column_name,first_column) function\n",
    "#sf_stacked.insert(6, 'Social_INEXUS', first_column)"
   ]
  },
  {
   "cell_type": "code",
   "execution_count": null,
   "id": "26b1ea44",
   "metadata": {
    "hidden": true
   },
   "outputs": [],
   "source": [
    "# shift columns to first position\n",
    "#first_column = sf_stacked.pop('Potential_INEXUS_in_dollar')\n",
    "#second_column = sf_stacked.pop('Realized_INEXUS_in_dollar')\n",
    "# insert column using insert(position,column_name,first_column) function\n",
    "#sf_stacked.insert(7, 'Potential_INEXUS_in_dollar', first_column)\n",
    "#sf_stacked.insert(8, 'Realized_INEXUS_in_dollar', first_column)"
   ]
  },
  {
   "cell_type": "code",
   "execution_count": 103,
   "id": "123e3446",
   "metadata": {
    "hidden": true
   },
   "outputs": [],
   "source": [
    "sf_stacked = sf_stacked.drop(['Realized_INEXUS_in_dollar','Potential_INEXUS_in_dollar','alpha','hh_value_of_time','lcm_county_id',\n",
    "                              'tenure_mover','hh_income','median_value_of_time','hhsize','hh_size',\n",
    "                              'tenure','num_mand','free_parking_at_work',\n",
    "                             'workplace_location_logsum','workplace_taz','school_taz','TAZ_x',\n",
    "                             'work_at_home','sex','race_id','edu','earning','duration',\n",
    "                             'tour_type','depart','destination_x', 'origin_x','purpose',\n",
    "                             'trip_count','primary_purpose_x'], axis=1)"
   ]
  },
  {
   "cell_type": "code",
   "execution_count": 106,
   "id": "3754414f",
   "metadata": {
    "hidden": true
   },
   "outputs": [],
   "source": [
    "sf_stacked = sf_stacked.drop(['DRIVEALONEPAY','DRIVEALONEFREE',\n",
    "                              'SHARED2FREE','SHARED2PAY',\n",
    "                             'SHARED3FREE','SHARED3PAY','WALK','BIKE',\n",
    "                             'WALK_LOC','WALK_LRF','WALK_EXP','WALK_HVY','WALK_COM','DRIVE_LOC',\n",
    "                             'DRIVE_LRF','DRIVE_EXP','DRIVE_HVY', 'DRIVE_COM','TAXI',\n",
    "                             'TNC_SINGLE','TNC_SHARED'], axis=1)"
   ]
  },
  {
   "cell_type": "code",
   "execution_count": 107,
   "id": "133a19de",
   "metadata": {
    "hidden": true
   },
   "outputs": [
    {
     "name": "stdout",
     "output_type": "stream",
     "text": [
      "CPU times: total: 16min 53s\n",
      "Wall time: 21min 49s\n"
     ]
    }
   ],
   "source": [
    "%%time\n",
    "sf_stacked.to_csv('s3://beam-core-act/deepDive/CleanData/SanFrancisco/Stacked/sf_2020_stacked_rh_5fleet_price_2_9_23.csv', index=False)"
   ]
  },
  {
   "cell_type": "code",
   "execution_count": 88,
   "id": "f08b313b",
   "metadata": {
    "hidden": true
   },
   "outputs": [
    {
     "name": "stderr",
     "output_type": "stream",
     "text": [
      "<timed exec>:3: DtypeWarning: Columns (0,2,6,13,14,18,19,21,23,26,27,28,29,30,35,36,39,51,53,54,60,61) have mixed types. Specify dtype option on import or set low_memory=False.\n"
     ]
    },
    {
     "name": "stdout",
     "output_type": "stream",
     "text": [
      "CPU times: total: 10min 26s\n",
      "Wall time: 13min 46s\n"
     ]
    }
   ],
   "source": [
    "%%time\n",
    "key = \"pilates-outputs/sfbay_5fleets_100price_164fleet_20230209/beam/year-2020-iteration-3/ITERS/it.0/0.events.csv.gz\"  #the path should be updated\n",
    "obj = s3.get_object(Bucket=\"beam-outputs\", Key=key)\n",
    "sf_rh_5flt_1p64_events = pd.read_csv(obj['Body'], compression = 'gzip')"
   ]
  },
  {
   "cell_type": "code",
   "execution_count": 99,
   "id": "f27270f5",
   "metadata": {
    "hidden": true
   },
   "outputs": [
    {
     "data": {
      "text/plain": [
       "array([nan, 'bus', 'tram', 'subway', 'rail', 'car', 'hov3_teleportation',\n",
       "       'car_hov2', 'hov2_teleportation', 'walk', 'car_hov3', 'bike',\n",
       "       'walk_transit', 'ride_hail', 'ride_hail_pooled', 'drive_transit',\n",
       "       'cable_car', 'bike_transit', 'ferry'], dtype=object)"
      ]
     },
     "execution_count": 99,
     "metadata": {},
     "output_type": "execute_result"
    }
   ],
   "source": [
    "sf_rh_5flt_1p64_events['mode'].unique()"
   ]
  },
  {
   "cell_type": "code",
   "execution_count": 101,
   "id": "8f1a43a0",
   "metadata": {
    "hidden": true
   },
   "outputs": [
    {
     "data": {
      "text/html": [
       "<div>\n",
       "<style scoped>\n",
       "    .dataframe tbody tr th:only-of-type {\n",
       "        vertical-align: middle;\n",
       "    }\n",
       "\n",
       "    .dataframe tbody tr th {\n",
       "        vertical-align: top;\n",
       "    }\n",
       "\n",
       "    .dataframe thead th {\n",
       "        text-align: right;\n",
       "    }\n",
       "</style>\n",
       "<table border=\"1\" class=\"dataframe\">\n",
       "  <thead>\n",
       "    <tr style=\"text-align: right;\">\n",
       "      <th></th>\n",
       "      <th>person</th>\n",
       "      <th>link</th>\n",
       "      <th>legMode</th>\n",
       "      <th>tripId</th>\n",
       "      <th>time</th>\n",
       "      <th>type</th>\n",
       "      <th>parkingTaz</th>\n",
       "      <th>chargingPointType</th>\n",
       "      <th>pricingModel</th>\n",
       "      <th>parkingType</th>\n",
       "      <th>locationY</th>\n",
       "      <th>locationX</th>\n",
       "      <th>cost</th>\n",
       "      <th>driver</th>\n",
       "      <th>vehicle</th>\n",
       "      <th>primaryFuelLevel</th>\n",
       "      <th>secondaryFuelLevel</th>\n",
       "      <th>price</th>\n",
       "      <th>mode</th>\n",
       "      <th>currentTourMode</th>\n",
       "      <th>expectedMaximumUtility</th>\n",
       "      <th>availableAlternatives</th>\n",
       "      <th>location</th>\n",
       "      <th>personalVehicleAvailable</th>\n",
       "      <th>length</th>\n",
       "      <th>tourIndex</th>\n",
       "      <th>legModes</th>\n",
       "      <th>legVehicleIds</th>\n",
       "      <th>currentActivity</th>\n",
       "      <th>nextActivity</th>\n",
       "      <th>vehicleType</th>\n",
       "      <th>shiftStatus</th>\n",
       "      <th>parkingZoneId</th>\n",
       "      <th>fuel</th>\n",
       "      <th>duration</th>\n",
       "      <th>actType</th>\n",
       "      <th>links</th>\n",
       "      <th>numPassengers</th>\n",
       "      <th>primaryFuel</th>\n",
       "      <th>riders</th>\n",
       "      <th>toStopIndex</th>\n",
       "      <th>fromStopIndex</th>\n",
       "      <th>seatingCapacity</th>\n",
       "      <th>tollPaid</th>\n",
       "      <th>endY</th>\n",
       "      <th>endX</th>\n",
       "      <th>startY</th>\n",
       "      <th>startX</th>\n",
       "      <th>capacity</th>\n",
       "      <th>arrivalTime</th>\n",
       "      <th>departureTime</th>\n",
       "      <th>linkTravelTime</th>\n",
       "      <th>secondaryFuel</th>\n",
       "      <th>secondaryFuelType</th>\n",
       "      <th>primaryFuelType</th>\n",
       "      <th>facility</th>\n",
       "      <th>incentive</th>\n",
       "      <th>tollCost</th>\n",
       "      <th>netCost</th>\n",
       "      <th>departTime</th>\n",
       "      <th>requireWheelchair</th>\n",
       "      <th>reason</th>\n",
       "      <th>score</th>\n",
       "    </tr>\n",
       "  </thead>\n",
       "  <tbody>\n",
       "    <tr>\n",
       "      <th>895282</th>\n",
       "      <td>3510755.000000</td>\n",
       "      <td>NaN</td>\n",
       "      <td>NaN</td>\n",
       "      <td>1151527865.000000</td>\n",
       "      <td>18000.000000</td>\n",
       "      <td>ModeChoice</td>\n",
       "      <td>NaN</td>\n",
       "      <td>NaN</td>\n",
       "      <td>NaN</td>\n",
       "      <td>NaN</td>\n",
       "      <td>NaN</td>\n",
       "      <td>NaN</td>\n",
       "      <td>NaN</td>\n",
       "      <td>NaN</td>\n",
       "      <td>NaN</td>\n",
       "      <td>NaN</td>\n",
       "      <td>NaN</td>\n",
       "      <td>NaN</td>\n",
       "      <td>ride_hail</td>\n",
       "      <td>ride_hail</td>\n",
       "      <td>NaN</td>\n",
       "      <td>RIDE_HAIL</td>\n",
       "      <td>141206.000000</td>\n",
       "      <td>False</td>\n",
       "      <td>5609.112000</td>\n",
       "      <td>1.000000</td>\n",
       "      <td>WALK,CAR,WALK</td>\n",
       "      <td>body-3510755,rideHailVehicle-3247829@Lyft,body...</td>\n",
       "      <td>Home</td>\n",
       "      <td>othmaint</td>\n",
       "      <td>NaN</td>\n",
       "      <td>NaN</td>\n",
       "      <td>NaN</td>\n",
       "      <td>NaN</td>\n",
       "      <td>NaN</td>\n",
       "      <td>NaN</td>\n",
       "      <td>NaN</td>\n",
       "      <td>NaN</td>\n",
       "      <td>NaN</td>\n",
       "      <td>NaN</td>\n",
       "      <td>NaN</td>\n",
       "      <td>NaN</td>\n",
       "      <td>NaN</td>\n",
       "      <td>NaN</td>\n",
       "      <td>NaN</td>\n",
       "      <td>NaN</td>\n",
       "      <td>NaN</td>\n",
       "      <td>NaN</td>\n",
       "      <td>NaN</td>\n",
       "      <td>NaN</td>\n",
       "      <td>NaN</td>\n",
       "      <td>NaN</td>\n",
       "      <td>NaN</td>\n",
       "      <td>NaN</td>\n",
       "      <td>NaN</td>\n",
       "      <td>NaN</td>\n",
       "      <td>NaN</td>\n",
       "      <td>NaN</td>\n",
       "      <td>NaN</td>\n",
       "      <td>NaN</td>\n",
       "      <td>NaN</td>\n",
       "      <td>NaN</td>\n",
       "      <td>NaN</td>\n",
       "    </tr>\n",
       "    <tr>\n",
       "      <th>896435</th>\n",
       "      <td>6028935.000000</td>\n",
       "      <td>NaN</td>\n",
       "      <td>NaN</td>\n",
       "      <td>1977490905.000000</td>\n",
       "      <td>18090.000000</td>\n",
       "      <td>ModeChoice</td>\n",
       "      <td>NaN</td>\n",
       "      <td>NaN</td>\n",
       "      <td>NaN</td>\n",
       "      <td>NaN</td>\n",
       "      <td>NaN</td>\n",
       "      <td>NaN</td>\n",
       "      <td>NaN</td>\n",
       "      <td>NaN</td>\n",
       "      <td>NaN</td>\n",
       "      <td>NaN</td>\n",
       "      <td>NaN</td>\n",
       "      <td>NaN</td>\n",
       "      <td>ride_hail</td>\n",
       "      <td>ride_hail</td>\n",
       "      <td>NaN</td>\n",
       "      <td>RIDE_HAIL</td>\n",
       "      <td>55718.000000</td>\n",
       "      <td>False</td>\n",
       "      <td>3755.244000</td>\n",
       "      <td>1.000000</td>\n",
       "      <td>WALK,CAR,WALK</td>\n",
       "      <td>body-6028935,rideHailVehicle-6037643@Uber,body...</td>\n",
       "      <td>Home</td>\n",
       "      <td>othmaint</td>\n",
       "      <td>NaN</td>\n",
       "      <td>NaN</td>\n",
       "      <td>NaN</td>\n",
       "      <td>NaN</td>\n",
       "      <td>NaN</td>\n",
       "      <td>NaN</td>\n",
       "      <td>NaN</td>\n",
       "      <td>NaN</td>\n",
       "      <td>NaN</td>\n",
       "      <td>NaN</td>\n",
       "      <td>NaN</td>\n",
       "      <td>NaN</td>\n",
       "      <td>NaN</td>\n",
       "      <td>NaN</td>\n",
       "      <td>NaN</td>\n",
       "      <td>NaN</td>\n",
       "      <td>NaN</td>\n",
       "      <td>NaN</td>\n",
       "      <td>NaN</td>\n",
       "      <td>NaN</td>\n",
       "      <td>NaN</td>\n",
       "      <td>NaN</td>\n",
       "      <td>NaN</td>\n",
       "      <td>NaN</td>\n",
       "      <td>NaN</td>\n",
       "      <td>NaN</td>\n",
       "      <td>NaN</td>\n",
       "      <td>NaN</td>\n",
       "      <td>NaN</td>\n",
       "      <td>NaN</td>\n",
       "      <td>NaN</td>\n",
       "      <td>NaN</td>\n",
       "      <td>NaN</td>\n",
       "    </tr>\n",
       "    <tr>\n",
       "      <th>896436</th>\n",
       "      <td>4794778.000000</td>\n",
       "      <td>NaN</td>\n",
       "      <td>NaN</td>\n",
       "      <td>1572687409.000000</td>\n",
       "      <td>18054.000000</td>\n",
       "      <td>ModeChoice</td>\n",
       "      <td>NaN</td>\n",
       "      <td>NaN</td>\n",
       "      <td>NaN</td>\n",
       "      <td>NaN</td>\n",
       "      <td>NaN</td>\n",
       "      <td>NaN</td>\n",
       "      <td>NaN</td>\n",
       "      <td>NaN</td>\n",
       "      <td>NaN</td>\n",
       "      <td>NaN</td>\n",
       "      <td>NaN</td>\n",
       "      <td>NaN</td>\n",
       "      <td>ride_hail</td>\n",
       "      <td>ride_hail</td>\n",
       "      <td>NaN</td>\n",
       "      <td>RIDE_HAIL</td>\n",
       "      <td>121066.000000</td>\n",
       "      <td>False</td>\n",
       "      <td>1567.269000</td>\n",
       "      <td>1.000000</td>\n",
       "      <td>WALK,CAR,WALK</td>\n",
       "      <td>body-4794778,rideHailVehicle-4780935@Lyft,body...</td>\n",
       "      <td>Home</td>\n",
       "      <td>othmaint</td>\n",
       "      <td>NaN</td>\n",
       "      <td>NaN</td>\n",
       "      <td>NaN</td>\n",
       "      <td>NaN</td>\n",
       "      <td>NaN</td>\n",
       "      <td>NaN</td>\n",
       "      <td>NaN</td>\n",
       "      <td>NaN</td>\n",
       "      <td>NaN</td>\n",
       "      <td>NaN</td>\n",
       "      <td>NaN</td>\n",
       "      <td>NaN</td>\n",
       "      <td>NaN</td>\n",
       "      <td>NaN</td>\n",
       "      <td>NaN</td>\n",
       "      <td>NaN</td>\n",
       "      <td>NaN</td>\n",
       "      <td>NaN</td>\n",
       "      <td>NaN</td>\n",
       "      <td>NaN</td>\n",
       "      <td>NaN</td>\n",
       "      <td>NaN</td>\n",
       "      <td>NaN</td>\n",
       "      <td>NaN</td>\n",
       "      <td>NaN</td>\n",
       "      <td>NaN</td>\n",
       "      <td>NaN</td>\n",
       "      <td>NaN</td>\n",
       "      <td>NaN</td>\n",
       "      <td>NaN</td>\n",
       "      <td>NaN</td>\n",
       "      <td>NaN</td>\n",
       "      <td>NaN</td>\n",
       "    </tr>\n",
       "    <tr>\n",
       "      <th>896492</th>\n",
       "      <td>1118143.000000</td>\n",
       "      <td>NaN</td>\n",
       "      <td>NaN</td>\n",
       "      <td>366750977.000000</td>\n",
       "      <td>18072.000000</td>\n",
       "      <td>ModeChoice</td>\n",
       "      <td>NaN</td>\n",
       "      <td>NaN</td>\n",
       "      <td>NaN</td>\n",
       "      <td>NaN</td>\n",
       "      <td>NaN</td>\n",
       "      <td>NaN</td>\n",
       "      <td>NaN</td>\n",
       "      <td>NaN</td>\n",
       "      <td>NaN</td>\n",
       "      <td>NaN</td>\n",
       "      <td>NaN</td>\n",
       "      <td>NaN</td>\n",
       "      <td>ride_hail</td>\n",
       "      <td>ride_hail</td>\n",
       "      <td>NaN</td>\n",
       "      <td>RIDE_HAIL</td>\n",
       "      <td>107216.000000</td>\n",
       "      <td>False</td>\n",
       "      <td>3261.645000</td>\n",
       "      <td>1.000000</td>\n",
       "      <td>WALK,CAR,WALK</td>\n",
       "      <td>body-1118143,rideHailVehicle-1127566@Uber,body...</td>\n",
       "      <td>Home</td>\n",
       "      <td>escort</td>\n",
       "      <td>NaN</td>\n",
       "      <td>NaN</td>\n",
       "      <td>NaN</td>\n",
       "      <td>NaN</td>\n",
       "      <td>NaN</td>\n",
       "      <td>NaN</td>\n",
       "      <td>NaN</td>\n",
       "      <td>NaN</td>\n",
       "      <td>NaN</td>\n",
       "      <td>NaN</td>\n",
       "      <td>NaN</td>\n",
       "      <td>NaN</td>\n",
       "      <td>NaN</td>\n",
       "      <td>NaN</td>\n",
       "      <td>NaN</td>\n",
       "      <td>NaN</td>\n",
       "      <td>NaN</td>\n",
       "      <td>NaN</td>\n",
       "      <td>NaN</td>\n",
       "      <td>NaN</td>\n",
       "      <td>NaN</td>\n",
       "      <td>NaN</td>\n",
       "      <td>NaN</td>\n",
       "      <td>NaN</td>\n",
       "      <td>NaN</td>\n",
       "      <td>NaN</td>\n",
       "      <td>NaN</td>\n",
       "      <td>NaN</td>\n",
       "      <td>NaN</td>\n",
       "      <td>NaN</td>\n",
       "      <td>NaN</td>\n",
       "      <td>NaN</td>\n",
       "      <td>NaN</td>\n",
       "    </tr>\n",
       "    <tr>\n",
       "      <th>896522</th>\n",
       "      <td>4424703.000000</td>\n",
       "      <td>NaN</td>\n",
       "      <td>NaN</td>\n",
       "      <td>1451302633.000000</td>\n",
       "      <td>18093.000000</td>\n",
       "      <td>ModeChoice</td>\n",
       "      <td>NaN</td>\n",
       "      <td>NaN</td>\n",
       "      <td>NaN</td>\n",
       "      <td>NaN</td>\n",
       "      <td>NaN</td>\n",
       "      <td>NaN</td>\n",
       "      <td>NaN</td>\n",
       "      <td>NaN</td>\n",
       "      <td>NaN</td>\n",
       "      <td>NaN</td>\n",
       "      <td>NaN</td>\n",
       "      <td>NaN</td>\n",
       "      <td>ride_hail</td>\n",
       "      <td>ride_hail</td>\n",
       "      <td>NaN</td>\n",
       "      <td>RIDE_HAIL</td>\n",
       "      <td>63520.000000</td>\n",
       "      <td>False</td>\n",
       "      <td>1416.933000</td>\n",
       "      <td>1.000000</td>\n",
       "      <td>WALK,CAR,WALK</td>\n",
       "      <td>body-4424703,rideHailVehicle-4339463@Cruise,bo...</td>\n",
       "      <td>Home</td>\n",
       "      <td>eatout</td>\n",
       "      <td>NaN</td>\n",
       "      <td>NaN</td>\n",
       "      <td>NaN</td>\n",
       "      <td>NaN</td>\n",
       "      <td>NaN</td>\n",
       "      <td>NaN</td>\n",
       "      <td>NaN</td>\n",
       "      <td>NaN</td>\n",
       "      <td>NaN</td>\n",
       "      <td>NaN</td>\n",
       "      <td>NaN</td>\n",
       "      <td>NaN</td>\n",
       "      <td>NaN</td>\n",
       "      <td>NaN</td>\n",
       "      <td>NaN</td>\n",
       "      <td>NaN</td>\n",
       "      <td>NaN</td>\n",
       "      <td>NaN</td>\n",
       "      <td>NaN</td>\n",
       "      <td>NaN</td>\n",
       "      <td>NaN</td>\n",
       "      <td>NaN</td>\n",
       "      <td>NaN</td>\n",
       "      <td>NaN</td>\n",
       "      <td>NaN</td>\n",
       "      <td>NaN</td>\n",
       "      <td>NaN</td>\n",
       "      <td>NaN</td>\n",
       "      <td>NaN</td>\n",
       "      <td>NaN</td>\n",
       "      <td>NaN</td>\n",
       "      <td>NaN</td>\n",
       "      <td>NaN</td>\n",
       "    </tr>\n",
       "  </tbody>\n",
       "</table>\n",
       "</div>"
      ],
      "text/plain": [
       "               person  link legMode            tripId         time  \\\n",
       "895282 3510755.000000   NaN     NaN 1151527865.000000 18000.000000   \n",
       "896435 6028935.000000   NaN     NaN 1977490905.000000 18090.000000   \n",
       "896436 4794778.000000   NaN     NaN 1572687409.000000 18054.000000   \n",
       "896492 1118143.000000   NaN     NaN  366750977.000000 18072.000000   \n",
       "896522 4424703.000000   NaN     NaN 1451302633.000000 18093.000000   \n",
       "\n",
       "              type parkingTaz chargingPointType pricingModel parkingType  \\\n",
       "895282  ModeChoice        NaN               NaN          NaN         NaN   \n",
       "896435  ModeChoice        NaN               NaN          NaN         NaN   \n",
       "896436  ModeChoice        NaN               NaN          NaN         NaN   \n",
       "896492  ModeChoice        NaN               NaN          NaN         NaN   \n",
       "896522  ModeChoice        NaN               NaN          NaN         NaN   \n",
       "\n",
       "        locationY  locationX  cost driver vehicle  primaryFuelLevel  \\\n",
       "895282        NaN        NaN   NaN    NaN     NaN               NaN   \n",
       "896435        NaN        NaN   NaN    NaN     NaN               NaN   \n",
       "896436        NaN        NaN   NaN    NaN     NaN               NaN   \n",
       "896492        NaN        NaN   NaN    NaN     NaN               NaN   \n",
       "896522        NaN        NaN   NaN    NaN     NaN               NaN   \n",
       "\n",
       "        secondaryFuelLevel  price       mode currentTourMode  \\\n",
       "895282                 NaN    NaN  ride_hail       ride_hail   \n",
       "896435                 NaN    NaN  ride_hail       ride_hail   \n",
       "896436                 NaN    NaN  ride_hail       ride_hail   \n",
       "896492                 NaN    NaN  ride_hail       ride_hail   \n",
       "896522                 NaN    NaN  ride_hail       ride_hail   \n",
       "\n",
       "        expectedMaximumUtility availableAlternatives      location  \\\n",
       "895282                     NaN             RIDE_HAIL 141206.000000   \n",
       "896435                     NaN             RIDE_HAIL  55718.000000   \n",
       "896436                     NaN             RIDE_HAIL 121066.000000   \n",
       "896492                     NaN             RIDE_HAIL 107216.000000   \n",
       "896522                     NaN             RIDE_HAIL  63520.000000   \n",
       "\n",
       "       personalVehicleAvailable      length  tourIndex       legModes  \\\n",
       "895282                    False 5609.112000   1.000000  WALK,CAR,WALK   \n",
       "896435                    False 3755.244000   1.000000  WALK,CAR,WALK   \n",
       "896436                    False 1567.269000   1.000000  WALK,CAR,WALK   \n",
       "896492                    False 3261.645000   1.000000  WALK,CAR,WALK   \n",
       "896522                    False 1416.933000   1.000000  WALK,CAR,WALK   \n",
       "\n",
       "                                            legVehicleIds currentActivity  \\\n",
       "895282  body-3510755,rideHailVehicle-3247829@Lyft,body...            Home   \n",
       "896435  body-6028935,rideHailVehicle-6037643@Uber,body...            Home   \n",
       "896436  body-4794778,rideHailVehicle-4780935@Lyft,body...            Home   \n",
       "896492  body-1118143,rideHailVehicle-1127566@Uber,body...            Home   \n",
       "896522  body-4424703,rideHailVehicle-4339463@Cruise,bo...            Home   \n",
       "\n",
       "       nextActivity vehicleType  shiftStatus  parkingZoneId  fuel  duration  \\\n",
       "895282     othmaint         NaN          NaN            NaN   NaN       NaN   \n",
       "896435     othmaint         NaN          NaN            NaN   NaN       NaN   \n",
       "896436     othmaint         NaN          NaN            NaN   NaN       NaN   \n",
       "896492       escort         NaN          NaN            NaN   NaN       NaN   \n",
       "896522       eatout         NaN          NaN            NaN   NaN       NaN   \n",
       "\n",
       "       actType links  numPassengers  primaryFuel riders  toStopIndex  \\\n",
       "895282     NaN   NaN            NaN          NaN    NaN          NaN   \n",
       "896435     NaN   NaN            NaN          NaN    NaN          NaN   \n",
       "896436     NaN   NaN            NaN          NaN    NaN          NaN   \n",
       "896492     NaN   NaN            NaN          NaN    NaN          NaN   \n",
       "896522     NaN   NaN            NaN          NaN    NaN          NaN   \n",
       "\n",
       "        fromStopIndex  seatingCapacity  tollPaid  endY  endX  startY  startX  \\\n",
       "895282            NaN              NaN       NaN   NaN   NaN     NaN     NaN   \n",
       "896435            NaN              NaN       NaN   NaN   NaN     NaN     NaN   \n",
       "896436            NaN              NaN       NaN   NaN   NaN     NaN     NaN   \n",
       "896492            NaN              NaN       NaN   NaN   NaN     NaN     NaN   \n",
       "896522            NaN              NaN       NaN   NaN   NaN     NaN     NaN   \n",
       "\n",
       "        capacity  arrivalTime  departureTime linkTravelTime  secondaryFuel  \\\n",
       "895282       NaN          NaN            NaN            NaN            NaN   \n",
       "896435       NaN          NaN            NaN            NaN            NaN   \n",
       "896436       NaN          NaN            NaN            NaN            NaN   \n",
       "896492       NaN          NaN            NaN            NaN            NaN   \n",
       "896522       NaN          NaN            NaN            NaN            NaN   \n",
       "\n",
       "       secondaryFuelType primaryFuelType  facility  incentive  tollCost  \\\n",
       "895282               NaN             NaN       NaN        NaN       NaN   \n",
       "896435               NaN             NaN       NaN        NaN       NaN   \n",
       "896436               NaN             NaN       NaN        NaN       NaN   \n",
       "896492               NaN             NaN       NaN        NaN       NaN   \n",
       "896522               NaN             NaN       NaN        NaN       NaN   \n",
       "\n",
       "        netCost  departTime requireWheelchair reason  score  \n",
       "895282      NaN         NaN               NaN    NaN    NaN  \n",
       "896435      NaN         NaN               NaN    NaN    NaN  \n",
       "896436      NaN         NaN               NaN    NaN    NaN  \n",
       "896492      NaN         NaN               NaN    NaN    NaN  \n",
       "896522      NaN         NaN               NaN    NaN    NaN  "
      ]
     },
     "execution_count": 101,
     "metadata": {},
     "output_type": "execute_result"
    }
   ],
   "source": [
    "sf_rh_5flt_1p64_events[sf_rh_5flt_1p64_events['mode']=='ride_hail'].head()"
   ]
  },
  {
   "cell_type": "code",
   "execution_count": null,
   "id": "4a62767a",
   "metadata": {
    "hidden": true
   },
   "outputs": [],
   "source": [
    "# Reducing the size of the stacked file\n",
    "dtypes = sf_stacked_rh_price.dtypes\n",
    "for column in sf_stacked_rh_price.columns:\n",
    "    if str(dtypes[column]) == 'int64':\n",
    "        sf_stacked_rh_price[column] = sf_stacked_rh_price[column].astype(np.int32)\n",
    "    elif str(dtypes[column]) == 'float64':\n",
    "        sf_stacked_rh_price[column] = sf_stacked_rh_price[column].astype(np.float32)"
   ]
  }
 ],
 "metadata": {
  "kernelspec": {
   "display_name": "Python 3 (ipykernel)",
   "language": "python",
   "name": "python3"
  },
  "language_info": {
   "codemirror_mode": {
    "name": "ipython",
    "version": 3
   },
   "file_extension": ".py",
   "mimetype": "text/x-python",
   "name": "python",
   "nbconvert_exporter": "python",
   "pygments_lexer": "ipython3",
   "version": "3.9.7"
  },
  "toc": {
   "base_numbering": 1,
   "nav_menu": {},
   "number_sections": true,
   "sideBar": true,
   "skip_h1_title": false,
   "title_cell": "Table of Contents",
   "title_sidebar": "Contents",
   "toc_cell": false,
   "toc_position": {},
   "toc_section_display": true,
   "toc_window_display": false
  }
 },
 "nbformat": 4,
 "nbformat_minor": 5
}
