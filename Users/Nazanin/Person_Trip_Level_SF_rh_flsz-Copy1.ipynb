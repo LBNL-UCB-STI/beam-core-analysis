{
 "cells": [
  {
   "cell_type": "code",
   "execution_count": 1,
   "id": "f55cd92c",
   "metadata": {},
   "outputs": [],
   "source": [
    "import os\n",
    "import pandas as pd\n",
    "import numpy as np\n",
    "import geopandas as gpd\n",
    "import h5py\n",
    "import boto.s3\n",
    "import glob\n",
    "import boto3\n",
    "from zipfile import ZipFile\n",
    "import shutil"
   ]
  },
  {
   "cell_type": "markdown",
   "id": "d5337b34",
   "metadata": {},
   "source": [
    "#### Read the files directly from S3"
   ]
  },
  {
   "cell_type": "code",
   "execution_count": 2,
   "id": "be7945a3",
   "metadata": {},
   "outputs": [
    {
     "name": "stderr",
     "output_type": "stream",
     "text": [
      "<timed exec>:25: DtypeWarning: Columns (7,12,13,17,42,49,53,57) have mixed types. Specify dtype option on import or set low_memory=False.\n"
     ]
    },
    {
     "name": "stdout",
     "output_type": "stream",
     "text": [
      "CPU times: total: 3min 20s\n",
      "Wall time: 3min 20s\n"
     ]
    }
   ],
   "source": [
    "%%time\n",
    "s3 = boto3.client(\"s3\")\n",
    "key = \"pilates-outputs/sfbay-rhfleet-2.25-20220822/beam/year-2018-iteration-5/ITERS/it.0/0.events.csv.gz\"  #the path should be updated\n",
    "obj = s3.get_object(Bucket=\"beam-outputs\", Key=key)\n",
    "dtypes = {\n",
    "    \"time\": \"float32\",\n",
    "    \"type\": \"category\",\n",
    "    \"legMode\": \"category\",\n",
    "    \"actType\": \"category\", \n",
    "    \"primaryFuelLevel\": \"float64\",\n",
    "    \"legMode\": \"category\",\n",
    "    \"chargingPointType\":\"category\",\n",
    "    \"pricingModel\":\"category\",\n",
    "    \"parkingType\":\"category\",\n",
    "    \"mode\":\"category\",\n",
    "    \"personalVehicleAvailable\": \"category\",\n",
    "    \"person\": \"object\",\n",
    "    \"driver\": \"object\",\n",
    "    \"riders\": \"object\",\n",
    "    'primaryFuelType': \"category\",\n",
    "    'secondaryFuelType': 'category',\n",
    "    'currentTourMode': 'category',\n",
    "    'currentActivity': 'category',\n",
    "    'nextActivity': 'category'    \n",
    "}\n",
    "eventsSF = pd.read_csv(obj['Body'], compression = 'gzip', dtype = dtypes)"
   ]
  },
  {
   "cell_type": "code",
   "execution_count": 3,
   "id": "e44a5a90",
   "metadata": {},
   "outputs": [],
   "source": [
    "# Show all columns and rows\n",
    "pd.options.display.max_columns = None\n",
    "pd.options.display.max_rows = None"
   ]
  },
  {
   "cell_type": "code",
   "execution_count": 4,
   "id": "e7f2c0e5",
   "metadata": {},
   "outputs": [],
   "source": [
    "# Showing the entire number in dataframe\n",
    "pd.set_option('float_format', '{:f}'.format)"
   ]
  },
  {
   "cell_type": "code",
   "execution_count": 5,
   "id": "c33f5570",
   "metadata": {},
   "outputs": [],
   "source": [
    "# Adding scenario info\n",
    "eventsSF['scenario'] = \"ridehail\"\n",
    "eventsSF['scenario'] = eventsSF['scenario'].astype(\"category\")\n",
    "eventsSF['lever'] = \"fleetsize\"\n",
    "eventsSF['lever'] = eventsSF['lever'].astype(\"category\")\n",
    "eventsSF['year'] = 2018\n",
    "eventsSF['lever_position'] = 2.25"
   ]
  },
  {
   "cell_type": "code",
   "execution_count": 6,
   "id": "2fbd0c93",
   "metadata": {},
   "outputs": [],
   "source": [
    "# Rename the \"mode\" column\n",
    "eventsSF.rename(columns={\"mode\":\"modeBEAM\"}, inplace=True) \n",
    "# Replace \"Work\" with \"work\" in the \"actType\" column\n",
    "eventsSF[\"actType\"].replace({\"Work\": \"work\"}, inplace=True)"
   ]
  },
  {
   "cell_type": "code",
   "execution_count": 7,
   "id": "f2d74acd",
   "metadata": {},
   "outputs": [],
   "source": [
    "# Remove person = TransitDriver or RidehailDriver because there are no agent information in these rows\n",
    "eventsSF = eventsSF[~eventsSF.person.str.contains(\"Agent\", na=False)].reset_index(drop=True)"
   ]
  },
  {
   "cell_type": "code",
   "execution_count": 8,
   "id": "d64b6a6f",
   "metadata": {},
   "outputs": [],
   "source": [
    "# shift column 'person' to first position\n",
    "first_column = eventsSF.pop('person')\n",
    "second_column = eventsSF.pop('driver')\n",
    "third_column = eventsSF.pop('riders')\n",
    "# insert column using insert(position,column_name,first_column) function\n",
    "eventsSF.insert(0, 'person', first_column)\n",
    "eventsSF.insert(1, 'driver', second_column)\n",
    "eventsSF.insert(2, 'riders', third_column)"
   ]
  },
  {
   "cell_type": "code",
   "execution_count": 9,
   "id": "77e7695a",
   "metadata": {},
   "outputs": [],
   "source": [
    "# Adding the IDMerged Column\n",
    "eventsSF['UniqueID'] = eventsSF['person'] #make a copy of the person column\n",
    "eventsSF['personID'] = np.where(eventsSF['person'].isin(eventsSF['driver']), eventsSF['person'], np.nan) \n",
    "eventsSF['driverID'] = np.where(eventsSF['driver'].isin(eventsSF['person']), eventsSF['driver'], np.nan)"
   ]
  },
  {
   "cell_type": "code",
   "execution_count": 10,
   "id": "a9f2b0af",
   "metadata": {},
   "outputs": [],
   "source": [
    "# Merging person and driver ids in one column\n",
    "eventsSF['IDMerged'] = eventsSF['personID'].combine_first(eventsSF['driverID'])\n",
    "eventsSF['IDMerged'] = eventsSF['UniqueID'].combine_first(eventsSF['IDMerged'])"
   ]
  },
  {
   "cell_type": "code",
   "execution_count": 11,
   "id": "70ccea79",
   "metadata": {},
   "outputs": [],
   "source": [
    "# Dropping unused columns\n",
    "eventsSF = eventsSF.drop(['personID','driverID','UniqueID'], axis=1) "
   ]
  },
  {
   "cell_type": "code",
   "execution_count": 12,
   "id": "2f6d5d3d",
   "metadata": {},
   "outputs": [],
   "source": [
    "# Shift column 'IDMerged' to first position\n",
    "first_column = eventsSF.pop('IDMerged')\n",
    "# Insert column using insert(position,column_name,first_column) function\n",
    "eventsSF.insert(0, 'IDMerged', first_column)"
   ]
  },
  {
   "cell_type": "code",
   "execution_count": 13,
   "id": "3dffe8cf",
   "metadata": {},
   "outputs": [
    {
     "name": "stdout",
     "output_type": "stream",
     "text": [
      "CPU times: total: 1min 40s\n",
      "Wall time: 1min 40s\n"
     ]
    }
   ],
   "source": [
    "%%time\n",
    "# Split the \"riders' column and replicated rows for every rider\n",
    "eventsSF['riders'] = eventsSF['riders'].str.split(':')\n",
    "eventsSF = eventsSF.explode('riders')"
   ]
  },
  {
   "cell_type": "code",
   "execution_count": 14,
   "id": "cad273bc",
   "metadata": {},
   "outputs": [
    {
     "name": "stdout",
     "output_type": "stream",
     "text": [
      "The history saving thread hit an unexpected error (OperationalError('database is locked')).History will not be written to the database.\n"
     ]
    }
   ],
   "source": [
    "# Combine riderID with IDMerged\n",
    "eventsSF['riderID'] = np.where(eventsSF['riders'].isin(eventsSF['person']), eventsSF['riders'], np.nan)\n",
    "eventsSF['IDMerged'] = eventsSF['riderID'].combine_first(eventsSF['IDMerged'])"
   ]
  },
  {
   "cell_type": "code",
   "execution_count": 15,
   "id": "65de33c2",
   "metadata": {},
   "outputs": [],
   "source": [
    "# Dropping unused columns\n",
    "eventsSF = eventsSF.drop(['riderID'], axis=1) "
   ]
  },
  {
   "cell_type": "code",
   "execution_count": 16,
   "id": "d8a62eb1",
   "metadata": {},
   "outputs": [],
   "source": [
    "# Remove driver = TransitDriver or RidehailDriver for IDMerged = NAN because there are no agent information in these rows \n",
    "eventsSF = eventsSF[~((eventsSF.driver.str.contains(\"Agent\", na=False))&(eventsSF.IDMerged.isna()))].reset_index(drop=True)"
   ]
  },
  {
   "cell_type": "code",
   "execution_count": 17,
   "id": "60db4199",
   "metadata": {
    "scrolled": true
   },
   "outputs": [],
   "source": [
    "#IDnan = eventsSF[eventsSF['IDMerged'].isna()]\n",
    "#IDnan.shape"
   ]
  },
  {
   "cell_type": "code",
   "execution_count": 18,
   "id": "994ab676",
   "metadata": {},
   "outputs": [
    {
     "name": "stdout",
     "output_type": "stream",
     "text": [
      "CPU times: total: 4min 38s\n",
      "Wall time: 4min 38s\n"
     ]
    }
   ],
   "source": [
    "%%time\n",
    "# Filling NANs in ID related to charging events\n",
    "eventsSF[\"chargeID\"] = eventsSF.groupby('vehicle')['IDMerged'].transform(lambda x: x.ffill().bfill())"
   ]
  },
  {
   "cell_type": "code",
   "execution_count": 19,
   "id": "0165322c",
   "metadata": {},
   "outputs": [],
   "source": [
    "# Combining chargeID with IDMerged so no NANs anymore\n",
    "eventsSF['IDMerged'] = eventsSF['chargeID'].combine_first(eventsSF['IDMerged'])"
   ]
  },
  {
   "cell_type": "code",
   "execution_count": 20,
   "id": "525d0231",
   "metadata": {},
   "outputs": [],
   "source": [
    "#IDnan = eventsSF[eventsSF['IDMerged'].isna()]\n",
    "#IDnan.shape"
   ]
  },
  {
   "cell_type": "code",
   "execution_count": 21,
   "id": "dff0f0d9",
   "metadata": {},
   "outputs": [],
   "source": [
    "# Dropping unused columns\n",
    "eventsSF = eventsSF.drop(['chargeID'], axis=1) "
   ]
  },
  {
   "cell_type": "code",
   "execution_count": 22,
   "id": "ad36c06d",
   "metadata": {},
   "outputs": [
    {
     "name": "stdout",
     "output_type": "stream",
     "text": [
      "CPU times: total: 17.1 s\n",
      "Wall time: 17.1 s\n"
     ]
    }
   ],
   "source": [
    "%%time\n",
    "# Change the IDMerged column type to numeric\n",
    "eventsSF[\"IDMerged\"] = pd.to_numeric(eventsSF.IDMerged)"
   ]
  },
  {
   "cell_type": "code",
   "execution_count": 23,
   "id": "983217d8",
   "metadata": {},
   "outputs": [],
   "source": [
    "# Sort by IDMerged and time columns\n",
    "eventsSF = eventsSF.sort_values(['IDMerged','time']).reset_index(drop=True)"
   ]
  },
  {
   "cell_type": "code",
   "execution_count": 24,
   "id": "2db653ae",
   "metadata": {},
   "outputs": [],
   "source": [
    "# We assume that the number of passengers is 1 for ride_hail_pooled\n",
    "eventsSF['modeBEAM_rh'] = np.where(eventsSF.driver.str.contains(\"rideHailAgent\", na=False), 'ride_hail' , eventsSF['modeBEAM'])"
   ]
  },
  {
   "cell_type": "code",
   "execution_count": 25,
   "id": "bd4c6384",
   "metadata": {},
   "outputs": [],
   "source": [
    "# Adding teleportation mode to the type = TeleportationEvent row \n",
    "eventsSF[\"modeBEAM_rh\"] = np.where(eventsSF['type']=='TeleportationEvent', eventsSF.modeBEAM_rh.fillna(method='ffill'), eventsSF[\"modeBEAM_rh\"])"
   ]
  },
  {
   "cell_type": "code",
   "execution_count": 26,
   "id": "4e1ba837",
   "metadata": {},
   "outputs": [],
   "source": [
    "eventsSF['modeBEAM_rh_pooled'] = np.where((eventsSF['type'] == 'PersonCost') & (eventsSF['modeBEAM'] == 'ride_hail_pooled'), 'ride_hail_pooled', np.nan)"
   ]
  },
  {
   "cell_type": "code",
   "execution_count": 27,
   "id": "3339c5df",
   "metadata": {},
   "outputs": [],
   "source": [
    "eventsSF['modeBEAM_rh_ride_hail_transit'] = np.where((eventsSF['type'] == 'PersonCost') & (eventsSF['modeBEAM'] == 'ride_hail_transit'), 'ride_hail_transit', np.nan)"
   ]
  },
  {
   "cell_type": "code",
   "execution_count": 28,
   "id": "e1eb832e",
   "metadata": {},
   "outputs": [],
   "source": [
    "eventsSF['modeBEAM_rh_pooled'] = eventsSF['modeBEAM_rh_pooled'].shift(+1)"
   ]
  },
  {
   "cell_type": "code",
   "execution_count": 29,
   "id": "92e73beb",
   "metadata": {},
   "outputs": [],
   "source": [
    "eventsSF['modeBEAM_rh_ride_hail_transit'] = eventsSF['modeBEAM_rh_ride_hail_transit'].shift(+1)"
   ]
  },
  {
   "cell_type": "code",
   "execution_count": 30,
   "id": "120a46e0",
   "metadata": {},
   "outputs": [],
   "source": [
    "eventsSF['modeBEAM_rh'] = np.where((eventsSF['type'] == 'PathTraversal') & (eventsSF['modeBEAM'] == 'car') & (eventsSF['driver'].str.contains(\"rideHailAgent\", na=False)) & (eventsSF['modeBEAM_rh_pooled'] != 'nan'), eventsSF['modeBEAM_rh_pooled'], eventsSF['modeBEAM_rh'])"
   ]
  },
  {
   "cell_type": "code",
   "execution_count": 31,
   "id": "99d82b22",
   "metadata": {},
   "outputs": [],
   "source": [
    "# We don't know if ridehail_transit is ride_hail or ride_hail_pooled\n",
    "eventsSF['modeBEAM_rh'] = np.where((eventsSF['type'] == 'PathTraversal') & (eventsSF['modeBEAM'] == 'car') & (eventsSF['driver'].str.contains(\"rideHailAgent\", na=False)) & (eventsSF['modeBEAM_rh_ride_hail_transit'] != 'nan'), eventsSF['modeBEAM_rh_ride_hail_transit'], eventsSF['modeBEAM_rh'])"
   ]
  },
  {
   "cell_type": "code",
   "execution_count": 32,
   "id": "3db04d3f",
   "metadata": {},
   "outputs": [],
   "source": [
    "# Dropping the temporary columns\n",
    "eventsSF = eventsSF.drop(['modeBEAM_rh_pooled'], axis=1)\n",
    "eventsSF = eventsSF.drop(['modeBEAM_rh_ride_hail_transit'], axis=1)"
   ]
  },
  {
   "cell_type": "markdown",
   "id": "cb6f3a97",
   "metadata": {},
   "source": [
    "#### Adding the census blocks"
   ]
  },
  {
   "cell_type": "code",
   "execution_count": 33,
   "id": "fdaeafcc",
   "metadata": {},
   "outputs": [],
   "source": [
    "def addGeometryIdToDataFrame(df, gdf, xcol, ycol, idColumn=\"geometry\", df_geom='epsg:4326'):\n",
    "    gdf_data = gpd.GeoDataFrame(df, geometry=gpd.points_from_xy(df[xcol], df[ycol]))\n",
    "    gdf_data.crs = {'init': df_geom}\n",
    "    joined = gpd.sjoin(gdf_data.to_crs('epsg:26910'), gdf.to_crs('epsg:26910'))\n",
    "    gdf_data = gdf_data.merge(joined['blkgrpid'], left_index=True, right_index=True, how=\"left\")\n",
    "    gdf_data.rename(columns={'blkgrpid': idColumn}, inplace=True)\n",
    "    df = pd.DataFrame(gdf_data.drop(columns='geometry'))\n",
    "    df.drop(columns=[xcol, ycol], inplace=True)\n",
    "    return df.loc[~df.index.duplicated(keep='first'), :]"
   ]
  },
  {
   "cell_type": "code",
   "execution_count": 34,
   "id": "411a779f",
   "metadata": {},
   "outputs": [],
   "source": [
    "# census_2010 = \"https://beam-core-act.s3.amazonaws.com/deepDive/RawData/Census_Blocks/Scenario_2010_shp/\"\n",
    "BGs = gpd.read_file('/vsicurl/https://github.com/LBNL-UCB-STI/beam-core-analysis/raw/main/Users/Zach/scenario/sfbay-blockgroups-2010/641aa0d4-ce5b-4a81-9c30-8790c4ab8cfb202047-1-wkkklf.j5ouj.shp')"
   ]
  },
  {
   "cell_type": "code",
   "execution_count": 35,
   "id": "fcc7abc2",
   "metadata": {},
   "outputs": [
    {
     "name": "stderr",
     "output_type": "stream",
     "text": [
      "C:\\Users\\nazanin\\.conda\\envs\\geo_env\\lib\\site-packages\\pyproj\\crs\\crs.py:53: FutureWarning: '+init=<authority>:<code>' syntax is deprecated. '<authority>:<code>' is the preferred initialization method. When making the change, be mindful of axis order changes: https://pyproj4.github.io/pyproj/stable/gotchas.html#axis-order-changes-in-proj-6\n",
      "  return _prepare_from_string(\" \".join(pjargs))\n"
     ]
    },
    {
     "name": "stdout",
     "output_type": "stream",
     "text": [
      "CPU times: total: 1h 6s\n",
      "Wall time: 1h 13min 9s\n"
     ]
    }
   ],
   "source": [
    "%%time\n",
    "eventsSF = addGeometryIdToDataFrame(eventsSF, BGs, 'startX', 'startY', 'BlockGroupStart')"
   ]
  },
  {
   "cell_type": "code",
   "execution_count": 36,
   "id": "9eae57c0",
   "metadata": {},
   "outputs": [
    {
     "name": "stderr",
     "output_type": "stream",
     "text": [
      "C:\\Users\\nazanin\\.conda\\envs\\geo_env\\lib\\site-packages\\pyproj\\crs\\crs.py:53: FutureWarning: '+init=<authority>:<code>' syntax is deprecated. '<authority>:<code>' is the preferred initialization method. When making the change, be mindful of axis order changes: https://pyproj4.github.io/pyproj/stable/gotchas.html#axis-order-changes-in-proj-6\n",
      "  return _prepare_from_string(\" \".join(pjargs))\n"
     ]
    },
    {
     "name": "stdout",
     "output_type": "stream",
     "text": [
      "CPU times: total: 1h 1min 7s\n",
      "Wall time: 1h 26min 6s\n"
     ]
    }
   ],
   "source": [
    "%%time\n",
    "eventsSF = addGeometryIdToDataFrame(eventsSF, BGs, 'endX', 'endY', 'BlockGroupEnd')"
   ]
  },
  {
   "cell_type": "markdown",
   "id": "fe8a8b31",
   "metadata": {},
   "source": [
    "#### Adding new columns"
   ]
  },
  {
   "cell_type": "code",
   "execution_count": 37,
   "id": "ff786a3b",
   "metadata": {},
   "outputs": [],
   "source": [
    "eventsSF['actEndTime'] = np.where(eventsSF['type']=='actend'\n",
    "                     , eventsSF['time'], np.nan)"
   ]
  },
  {
   "cell_type": "code",
   "execution_count": 38,
   "id": "57f2a46c",
   "metadata": {},
   "outputs": [],
   "source": [
    "eventsSF['actStartTime'] = np.where(eventsSF['type']=='actstart'\n",
    "                     , eventsSF['time'], np.nan)    "
   ]
  },
  {
   "cell_type": "code",
   "execution_count": 39,
   "id": "0f47b8ee",
   "metadata": {},
   "outputs": [],
   "source": [
    "eventsSF['duration_travelling'] = np.where((eventsSF['type']=='PathTraversal')|(eventsSF['type']=='TeleportationEvent')\n",
    "                     , eventsSF['arrivalTime'] - eventsSF['departureTime'], np.nan)"
   ]
  },
  {
   "cell_type": "code",
   "execution_count": 40,
   "id": "7e427fd1",
   "metadata": {},
   "outputs": [],
   "source": [
    "eventsSF['distance_travelling'] = np.where((eventsSF['type']=='PathTraversal')|((eventsSF['type']=='ModeChoice')&((eventsSF['modeBEAM']=='hov2_teleportation')|(eventsSF['modeBEAM']=='hov3_teleportation'))), eventsSF['length'], np.nan)"
   ]
  },
  {
   "cell_type": "code",
   "execution_count": 41,
   "id": "63c8c08a",
   "metadata": {},
   "outputs": [],
   "source": [
    "eventsSF['distance_mode_choice'] = np.where(eventsSF['type']=='ModeChoice', eventsSF['length'], np.nan)"
   ]
  },
  {
   "cell_type": "code",
   "execution_count": 42,
   "id": "6403c92a",
   "metadata": {},
   "outputs": [],
   "source": [
    "eventsSF['duration_walking'] = np.where(eventsSF['modeBEAM']=='walk', eventsSF['duration_travelling'], np.nan)"
   ]
  },
  {
   "cell_type": "code",
   "execution_count": 43,
   "id": "9edb77aa",
   "metadata": {},
   "outputs": [],
   "source": [
    "eventsSF['distance_walking'] = np.where(eventsSF['modeBEAM']=='walk', eventsSF['distance_travelling'], np.nan)"
   ]
  },
  {
   "cell_type": "code",
   "execution_count": 44,
   "id": "d4a0af57",
   "metadata": {},
   "outputs": [],
   "source": [
    "eventsSF['duration_on_bike'] = np.where(eventsSF['modeBEAM']=='bike', eventsSF['duration_travelling'], np.nan)"
   ]
  },
  {
   "cell_type": "code",
   "execution_count": 45,
   "id": "148a3dbe",
   "metadata": {},
   "outputs": [],
   "source": [
    "eventsSF['distance_bike'] = np.where(eventsSF['modeBEAM']=='bike', eventsSF['distance_travelling'], np.nan)"
   ]
  },
  {
   "cell_type": "code",
   "execution_count": 46,
   "id": "3624b92a",
   "metadata": {},
   "outputs": [],
   "source": [
    "eventsSF['duration_in_ridehail'] = np.where((eventsSF['modeBEAM_rh']=='ride_hail')|(eventsSF['modeBEAM_rh']=='ride_hail_pooled')|(eventsSF['modeBEAM_rh']=='ride_hail_transit'), \n",
    "                                            eventsSF['duration_travelling'], np.nan)"
   ]
  },
  {
   "cell_type": "code",
   "execution_count": 47,
   "id": "90d4c42d",
   "metadata": {},
   "outputs": [],
   "source": [
    "eventsSF['distance_ridehail'] = np.where((eventsSF['modeBEAM_rh']=='ride_hail')|(eventsSF['modeBEAM_rh']=='ride_hail_pooled')|(eventsSF['modeBEAM_rh']=='ride_hail_transit'), eventsSF['distance_travelling'], np.nan)"
   ]
  },
  {
   "cell_type": "code",
   "execution_count": 48,
   "id": "4bb825fb",
   "metadata": {},
   "outputs": [],
   "source": [
    "eventsSF['duration_in_privateCar'] = np.where((eventsSF['modeBEAM_rh']=='car')|(eventsSF['modeBEAM_rh']=='car_hov3')|(eventsSF['modeBEAM_rh']=='car_hov2')|\n",
    "                                              (eventsSF['modeBEAM_rh']=='hov2_teleportation')|(eventsSF['modeBEAM_rh']=='hov3_teleportation') \n",
    "                                              , eventsSF['duration_travelling'], np.nan)"
   ]
  },
  {
   "cell_type": "code",
   "execution_count": 49,
   "id": "3473c8da",
   "metadata": {},
   "outputs": [],
   "source": [
    "eventsSF['distance_privateCar'] = np.where((eventsSF['modeBEAM_rh']=='car')|(eventsSF['modeBEAM_rh']=='car_hov3')|(eventsSF['modeBEAM_rh']=='car_hov2')|\n",
    "                                              (eventsSF['modeBEAM_rh']=='hov2_teleportation')|(eventsSF['modeBEAM_rh']=='hov3_teleportation'), eventsSF['distance_travelling'], np.nan)"
   ]
  },
  {
   "cell_type": "code",
   "execution_count": 50,
   "id": "0b735038",
   "metadata": {},
   "outputs": [],
   "source": [
    "eventsSF['duration_in_transit'] = np.where((eventsSF['modeBEAM']=='bike_transit')|(eventsSF['modeBEAM']=='drive_transit')|\n",
    "                                           (eventsSF['modeBEAM']=='walk_transit')|(eventsSF['modeBEAM']=='bus')|\n",
    "                                           (eventsSF['modeBEAM']=='tram')|(eventsSF['modeBEAM']=='subway')|\n",
    "                                           (eventsSF['modeBEAM']=='rail')|(eventsSF['modeBEAM']=='cable_car')|\n",
    "                                           (eventsSF['modeBEAM']=='ride_hail_transit'), eventsSF['duration_travelling'], np.nan)"
   ]
  },
  {
   "cell_type": "code",
   "execution_count": 51,
   "id": "92c358e1",
   "metadata": {},
   "outputs": [],
   "source": [
    "eventsSF['distance_transit'] = np.where((eventsSF['modeBEAM']=='bike_transit')|(eventsSF['modeBEAM']=='drive_transit')|\n",
    "                                        (eventsSF['modeBEAM']=='walk_transit')|(eventsSF['modeBEAM']=='bus')|\n",
    "                                        (eventsSF['modeBEAM']=='tram')|(eventsSF['modeBEAM']=='subway')|\n",
    "                                        (eventsSF['modeBEAM']=='rail')|(eventsSF['modeBEAM']=='cable_car')|\n",
    "                                        (eventsSF['modeBEAM']=='ride_hail_transit'), eventsSF['distance_travelling'], np.nan)"
   ]
  },
  {
   "cell_type": "code",
   "execution_count": 52,
   "id": "0b4e8ccd",
   "metadata": {},
   "outputs": [],
   "source": [
    "# Removing the extra tour index happening after replanning events\n",
    "eventsSF['replanningTime'] = np.where(eventsSF['type'] == 'Replanning', eventsSF['time'], np.nan)\n",
    "eventsSF['replanningTime'] = eventsSF['replanningTime'].shift(+1)\n",
    "eventsSF['tourIndex_fixed'] = np.where((eventsSF['type'] == 'ModeChoice')&(eventsSF['replanningTime'].notna()), np.nan, eventsSF['tourIndex'])"
   ]
  },
  {
   "cell_type": "code",
   "execution_count": 53,
   "id": "1335cedb",
   "metadata": {},
   "outputs": [],
   "source": [
    "#eventsSF = eventsSF.set_index('IDMerged')"
   ]
  },
  {
   "cell_type": "code",
   "execution_count": 54,
   "id": "5beb42b2",
   "metadata": {},
   "outputs": [],
   "source": [
    "eventsSF['fuelFood'] = np.where((eventsSF['type']=='PathTraversal')&(eventsSF['primaryFuelType']=='Food'), \n",
    "                                eventsSF['primaryFuel'], np.nan)"
   ]
  },
  {
   "cell_type": "code",
   "execution_count": 55,
   "id": "f6880cae",
   "metadata": {},
   "outputs": [],
   "source": [
    "eventsSF['emissionFood'] = eventsSF['fuelFood'] * 8.3141841e-9 * 0"
   ]
  },
  {
   "cell_type": "code",
   "execution_count": 56,
   "id": "4104324f",
   "metadata": {},
   "outputs": [],
   "source": [
    "eventsSF['fuelElectricity'] = np.where((eventsSF['type']=='PathTraversal')&(eventsSF['primaryFuelType']=='Electricity'), \n",
    "                                eventsSF['primaryFuel'], np.nan)"
   ]
  },
  {
   "cell_type": "code",
   "execution_count": 57,
   "id": "ac8a70b7",
   "metadata": {},
   "outputs": [],
   "source": [
    "eventsSF['emissionElectricity'] = eventsSF['fuelElectricity'] * 2.77778e-10 * 947.2 * 0.0005"
   ]
  },
  {
   "cell_type": "code",
   "execution_count": 58,
   "id": "32f9c7d4",
   "metadata": {},
   "outputs": [],
   "source": [
    "eventsSF['fuelDiesel'] = np.where((eventsSF['type']=='PathTraversal')&(eventsSF['primaryFuelType']=='Diesel'), \n",
    "                                eventsSF['primaryFuel'], np.nan)"
   ]
  },
  {
   "cell_type": "code",
   "execution_count": 59,
   "id": "791a7e19",
   "metadata": {},
   "outputs": [],
   "source": [
    "eventsSF['emissionDiesel'] = eventsSF['fuelDiesel'] * 8.3141841e-9 * 10.180e-3"
   ]
  },
  {
   "cell_type": "code",
   "execution_count": 60,
   "id": "e8f68e5c",
   "metadata": {},
   "outputs": [],
   "source": [
    "eventsSF['fuelBiodiesel'] = np.where((eventsSF['type']=='PathTraversal')&(eventsSF['primaryFuelType']=='Biodiesel'), \n",
    "                                eventsSF['primaryFuel'], np.nan)"
   ]
  },
  {
   "cell_type": "code",
   "execution_count": 61,
   "id": "bfcfbcce",
   "metadata": {},
   "outputs": [],
   "source": [
    "eventsSF['emissionBiodiesel'] = eventsSF['fuelBiodiesel'] * 8.3141841e-9 * 10.180e-3"
   ]
  },
  {
   "cell_type": "code",
   "execution_count": 62,
   "id": "5e752231",
   "metadata": {},
   "outputs": [],
   "source": [
    "eventsSF['fuel_not_Food'] = np.where((eventsSF['type']=='PathTraversal')&(eventsSF['primaryFuelType']!='Food')\n",
    "                            , eventsSF['primaryFuel']+eventsSF['secondaryFuel'], np.nan)"
   ]
  },
  {
   "cell_type": "code",
   "execution_count": 63,
   "id": "bfc1273e",
   "metadata": {},
   "outputs": [],
   "source": [
    "eventsSF['fuelGasoline'] = np.where((eventsSF['type']=='PathTraversal')&((eventsSF['primaryFuelType']=='Gasoline')|(eventsSF['secondaryFuelType']=='Gasoline')), \n",
    "                           eventsSF['primaryFuel']+eventsSF['secondaryFuel'], np.nan)"
   ]
  },
  {
   "cell_type": "code",
   "execution_count": 64,
   "id": "fa3174aa",
   "metadata": {},
   "outputs": [],
   "source": [
    "eventsSF['emissionGasoline'] = eventsSF['fuelGasoline'] * 8.3141841e-9 * 8.89e-3"
   ]
  },
  {
   "cell_type": "code",
   "execution_count": 65,
   "id": "a62efea2",
   "metadata": {},
   "outputs": [],
   "source": [
    "# Marginal fuel\n",
    "conditions  = [(eventsSF['modeBEAM_rh'] == 'ride_hail_pooled'), \n",
    "               (eventsSF['modeBEAM_rh'] == 'walk_transit') | (eventsSF['modeBEAM_rh'] == 'drive_transit')|\n",
    "               (eventsSF['modeBEAM_rh'] == 'ride_hail_transit')|(eventsSF['modeBEAM_rh'] == 'bus')|(eventsSF['modeBEAM_rh'] == 'subway')|\n",
    "               (eventsSF['modeBEAM_rh'] == 'rail')|(eventsSF['modeBEAM_rh'] == 'tram')|(eventsSF['modeBEAM_rh'] == 'cable_car')|\n",
    "               (eventsSF['modeBEAM_rh'] == 'bike_transit'),\n",
    "               (eventsSF['modeBEAM_rh'] == 'walk')|(eventsSF['modeBEAM_rh'] == 'bike'),\n",
    "               (eventsSF['modeBEAM_rh'] == 'ride_hail')|(eventsSF['modeBEAM_rh'] == 'car')| \n",
    "               (eventsSF['modeBEAM_rh'] == 'car_hov2')| (eventsSF['modeBEAM_rh'] == 'car_hov3')|\n",
    "               (eventsSF['modeBEAM_rh'] == 'hov2_teleportation')| (eventsSF['modeBEAM_rh'] == 'hov3_teleportation')]\n",
    "choices = [eventsSF['fuel_not_Food']/eventsSF['numPassengers'], 0 , eventsSF['fuelFood'], eventsSF['fuel_not_Food']]"
   ]
  },
  {
   "cell_type": "code",
   "execution_count": 66,
   "id": "cdd142f0",
   "metadata": {},
   "outputs": [],
   "source": [
    "eventsSF['fuel_marginal'] = np.select(conditions, choices, default=np.nan)"
   ]
  },
  {
   "cell_type": "code",
   "execution_count": 67,
   "id": "4eca5a86",
   "metadata": {},
   "outputs": [],
   "source": [
    "# Marginal emission\n",
    "conditions1  = [(eventsSF['modeBEAM_rh'] == 'ride_hail_pooled') & (eventsSF['fuelElectricity'].notna() != 0), \n",
    "               (eventsSF['modeBEAM_rh'] == 'ride_hail_pooled') & (eventsSF['fuelGasoline'].notna() != 0),\n",
    "               (eventsSF['modeBEAM_rh'] == 'ride_hail_pooled') & (eventsSF['fuelBiodiesel'].notna() != 0),\n",
    "               (eventsSF['modeBEAM_rh'] == 'ride_hail_pooled') & (eventsSF['fuelDiesel'].notna() != 0),             \n",
    "               (eventsSF['modeBEAM_rh'] == 'walk_transit') | (eventsSF['modeBEAM_rh'] == 'drive_transit')|\n",
    "               (eventsSF['modeBEAM_rh'] == 'ride_hail_transit')|(eventsSF['modeBEAM_rh'] == 'bus')|(eventsSF['modeBEAM_rh'] == 'subway')|\n",
    "               (eventsSF['modeBEAM_rh'] == 'rail')|(eventsSF['modeBEAM_rh'] == 'tram')|(eventsSF['modeBEAM_rh'] == 'cable_car')|\n",
    "               (eventsSF['modeBEAM_rh'] == 'bike_transit'),\n",
    "\n",
    "               (eventsSF['modeBEAM_rh'] == 'walk')|(eventsSF['modeBEAM_rh'] == 'bike'),\n",
    "               \n",
    "               (eventsSF['modeBEAM_rh'] == 'ride_hail')|(eventsSF['modeBEAM_rh'] == 'car')| \n",
    "               (eventsSF['modeBEAM_rh'] == 'car_hov2')| (eventsSF['modeBEAM_rh'] == 'car_hov3')|\n",
    "               (eventsSF['modeBEAM_rh'] == 'hov2_teleportation')| (eventsSF['modeBEAM_rh'] == 'hov3_teleportation')&\n",
    "               (eventsSF['fuelElectricity'].notna() != 0),\n",
    "              \n",
    "               (eventsSF['modeBEAM_rh'] == 'ride_hail')|(eventsSF['modeBEAM_rh'] == 'car')| \n",
    "               (eventsSF['modeBEAM_rh'] == 'car_hov2')| (eventsSF['modeBEAM_rh'] == 'car_hov3')|\n",
    "               (eventsSF['modeBEAM_rh'] == 'hov2_teleportation')| (eventsSF['modeBEAM_rh'] == 'hov3_teleportation')&\n",
    "               (eventsSF['fuelGasoline'].notna() != 0),           \n",
    "              \n",
    "               (eventsSF['modeBEAM_rh'] == 'ride_hail')|(eventsSF['modeBEAM_rh'] == 'car')| \n",
    "               (eventsSF['modeBEAM_rh'] == 'car_hov2')| (eventsSF['modeBEAM_rh'] == 'car_hov3')|\n",
    "               (eventsSF['modeBEAM_rh'] == 'hov2_teleportation')| (eventsSF['modeBEAM_rh'] == 'hov3_teleportation')&\n",
    "               (eventsSF['fuelBiodiesel'].notna() != 0),   \n",
    "               \n",
    "               (eventsSF['modeBEAM_rh'] == 'ride_hail')|(eventsSF['modeBEAM_rh'] == 'car')| \n",
    "               (eventsSF['modeBEAM_rh'] == 'car_hov2')| (eventsSF['modeBEAM_rh'] == 'car_hov3')|\n",
    "               (eventsSF['modeBEAM_rh'] == 'hov2_teleportation')| (eventsSF['modeBEAM_rh'] == 'hov3_teleportation')&\n",
    "               (eventsSF['fuelDiesel'].notna() != 0),\n",
    "\n",
    "               (eventsSF['modeBEAM_rh'] == 'ride_hail')|(eventsSF['modeBEAM_rh'] == 'car')| \n",
    "               (eventsSF['modeBEAM_rh'] == 'car_hov2')| (eventsSF['modeBEAM_rh'] == 'car_hov3')|\n",
    "               (eventsSF['modeBEAM_rh'] == 'hov2_teleportation')| (eventsSF['modeBEAM_rh'] == 'hov3_teleportation')&\n",
    "               (eventsSF['fuelFood'].notna() != 0)]\n",
    "\n",
    "choices1 = [eventsSF['emissionElectricity']/eventsSF['numPassengers'],\n",
    "           eventsSF['emissionGasoline']/eventsSF['numPassengers'],\n",
    "           eventsSF['emissionBiodiesel']/eventsSF['numPassengers'],\n",
    "           eventsSF['emissionDiesel']/eventsSF['numPassengers'],           \n",
    "           0 , \n",
    "           eventsSF['emissionFood'], \n",
    "           eventsSF['emissionElectricity'],\n",
    "           eventsSF['emissionGasoline'],\n",
    "           eventsSF['emissionBiodiesel'],\n",
    "           eventsSF['emissionDiesel'],\n",
    "           eventsSF['emissionFood']]"
   ]
  },
  {
   "cell_type": "code",
   "execution_count": 68,
   "id": "fb19ee46",
   "metadata": {},
   "outputs": [],
   "source": [
    "eventsSF['emission_marginal'] = np.select(conditions1, choices1, default=np.nan)"
   ]
  },
  {
   "cell_type": "code",
   "execution_count": 69,
   "id": "1bb135e2",
   "metadata": {},
   "outputs": [],
   "source": [
    "eventsSF['actEndType'] = np.where(eventsSF['type']=='actend', eventsSF['actType'], \"\")"
   ]
  },
  {
   "cell_type": "code",
   "execution_count": 70,
   "id": "52f9f171",
   "metadata": {},
   "outputs": [],
   "source": [
    "eventsSF['actStartType'] = np.where(eventsSF['type']=='actstart', eventsSF['actType'], \"\")"
   ]
  },
  {
   "cell_type": "markdown",
   "id": "d3b8bb89",
   "metadata": {},
   "source": [
    "#### Trip Index"
   ]
  },
  {
   "cell_type": "code",
   "execution_count": 71,
   "id": "5be797be",
   "metadata": {},
   "outputs": [],
   "source": [
    "#eventsSF[\"tripIndex\"] = eventsSF.groupby(\"IDMerged\")[\"tourIndex_fixed\"].rank(method=\"first\", ascending=True)\n",
    "eventsSF[\"tripIndex\"] = eventsSF.tripId.fillna(method='ffill')"
   ]
  },
  {
   "cell_type": "markdown",
   "id": "3bd20fe1",
   "metadata": {},
   "source": [
    "#### Mode Choice planned and actual"
   ]
  },
  {
   "cell_type": "code",
   "execution_count": 72,
   "id": "9ecaf4ba",
   "metadata": {},
   "outputs": [
    {
     "name": "stdout",
     "output_type": "stream",
     "text": [
      "CPU times: total: 1min 24s\n",
      "Wall time: 1min 24s\n"
     ]
    }
   ],
   "source": [
    "%%time\n",
    "eventsSF['mode_choice_actual_BEAM'] = eventsSF.groupby(['IDMerged','tripId', 'type'])['modeBEAM'].transform('last')"
   ]
  },
  {
   "cell_type": "code",
   "execution_count": 73,
   "id": "ed171398",
   "metadata": {},
   "outputs": [
    {
     "name": "stdout",
     "output_type": "stream",
     "text": [
      "CPU times: total: 1min 24s\n",
      "Wall time: 1min 24s\n"
     ]
    }
   ],
   "source": [
    "%%time\n",
    "eventsSF['mode_choice_planned_BEAM'] = eventsSF.groupby(['IDMerged','tripId', 'type'])['modeBEAM'].transform('first')"
   ]
  },
  {
   "cell_type": "code",
   "execution_count": 74,
   "id": "723f03e6",
   "metadata": {},
   "outputs": [],
   "source": [
    "eventsSF['mode_choice_actual_BEAM'] = np.where(eventsSF['type'] != 'ModeChoice' , np.nan, eventsSF['mode_choice_actual_BEAM'])"
   ]
  },
  {
   "cell_type": "code",
   "execution_count": 75,
   "id": "8bac64c3",
   "metadata": {},
   "outputs": [],
   "source": [
    "eventsSF['mode_choice_planned_BEAM'] = np.where(eventsSF['type'] != 'ModeChoice' , np.nan, eventsSF['mode_choice_planned_BEAM'])"
   ]
  },
  {
   "cell_type": "code",
   "execution_count": 76,
   "id": "bd021670",
   "metadata": {},
   "outputs": [],
   "source": [
    "# Rename the \"netCost\" column\n",
    "eventsSF.rename(columns={\"netCost\":\"cost_BEAM\"}, inplace=True) "
   ]
  },
  {
   "cell_type": "code",
   "execution_count": 77,
   "id": "6dca051c",
   "metadata": {},
   "outputs": [],
   "source": [
    "# Replanning events = 1, the rest = 0\n",
    "eventsSF['replanning_status'] = np.where(eventsSF['type']=='Replanning', 1, 0)"
   ]
  },
  {
   "cell_type": "code",
   "execution_count": 78,
   "id": "11d6986e",
   "metadata": {},
   "outputs": [
    {
     "name": "stdout",
     "output_type": "stream",
     "text": [
      "CPU times: total: 1.89 s\n",
      "Wall time: 1.9 s\n"
     ]
    }
   ],
   "source": [
    "%%time\n",
    "eventsSF['reason'].replace('nan', np.NaN)"
   ]
  },
  {
   "cell_type": "code",
   "execution_count": 79,
   "id": "e2809aa0",
   "metadata": {},
   "outputs": [],
   "source": [
    "eventsSF['transit_bus'] = np.where(eventsSF['modeBEAM_rh']=='bus', 1, 0)\n",
    "eventsSF['transit_subway'] = np.where(eventsSF['modeBEAM_rh']=='subway', 1, 0)\n",
    "eventsSF['transit_tram'] = np.where(eventsSF['modeBEAM_rh']=='tram', 1, 0)\n",
    "eventsSF['transit_rail'] = np.where(eventsSF['modeBEAM_rh']=='rail', 1, 0)\n",
    "eventsSF['transit_cable_car'] = np.where(eventsSF['modeBEAM_rh']=='cable_car', 1, 0)"
   ]
  },
  {
   "cell_type": "code",
   "execution_count": 80,
   "id": "07b5229c",
   "metadata": {},
   "outputs": [],
   "source": [
    "eventsSF['ride_hail_pooled'] = np.where(eventsSF['modeBEAM_rh']=='ride_hail_pooled', 1, 0)"
   ]
  },
  {
   "cell_type": "code",
   "execution_count": 81,
   "id": "4a679675",
   "metadata": {},
   "outputs": [
    {
     "name": "stdout",
     "output_type": "stream",
     "text": [
      "CPU times: total: 50min 18s\n",
      "Wall time: 50min 18s\n"
     ]
    }
   ],
   "source": [
    "%%time\n",
    "Person_Trip_eventsSF = pd.pivot_table(\n",
    "   eventsSF,\n",
    "   index=['IDMerged','tripIndex'],\n",
    "   aggfunc={'actStartTime': np.sum, \n",
    "            'actEndTime': np.sum, \n",
    "            'duration_travelling': np.sum, \n",
    "            'cost_BEAM': np.sum, \n",
    "            'actStartType': np.sum, \n",
    "            'actEndType': np.sum, \n",
    "            'duration_walking': np.sum, \n",
    "            'duration_in_privateCar': np.sum, \n",
    "            'duration_on_bike': np.sum, \n",
    "            'duration_in_ridehail': np.sum, \n",
    "            'distance_travelling': np.sum, \n",
    "            'duration_in_transit': np.sum, \n",
    "            'distance_walking': np.sum, \n",
    "            'distance_bike': np.sum, \n",
    "            'distance_ridehail': np.sum, \n",
    "            'distance_privateCar': np.sum, \n",
    "            'distance_transit': np.sum, \n",
    "            'legVehicleIds': np.sum, \n",
    "            'mode_choice_planned_BEAM':lambda x: ', '.join(set(x.dropna().astype(str))),\n",
    "            'mode_choice_actual_BEAM':lambda x: ', '.join(set(x.dropna().astype(str))),\n",
    "            'vehicle': lambda x: ', '.join(set(x.dropna().astype(str))),\n",
    "            'numPassengers': lambda x: ', '.join(list(x.dropna().astype(str))),\n",
    "            'distance_mode_choice': np.sum,\n",
    "            'replanning_status': np.sum,\n",
    "            'reason': lambda x: ', '.join(list(x.dropna().astype(str))),\n",
    "            'parkingType': lambda x: ', '.join(list(x.dropna().astype(str))),\n",
    "            'transit_bus': np.sum, \n",
    "            'transit_subway': np.sum, \n",
    "            'transit_tram': np.sum, \n",
    "            'transit_cable_car': np.sum,\n",
    "            'ride_hail_pooled': np.sum, \n",
    "            'transit_rail': np.sum,\n",
    "            'year': lambda x: ', '.join(set(x.dropna().astype(str))),\n",
    "            'lever_position': lambda x: ', '.join(set(x.dropna().astype(str))),\n",
    "            'scenario': lambda x: ', '.join(set(x.dropna().astype(str))),\n",
    "            'fuelFood': np.sum, \n",
    "            'fuelElectricity': np.sum, \n",
    "            'fuelBiodiesel': np.sum, \n",
    "            'fuelDiesel': np.sum, \n",
    "            'fuel_not_Food': np.sum, \n",
    "            'fuelGasoline': np.sum, \n",
    "            'fuel_marginal': np.sum,\n",
    "            'BlockGroupStart': 'first',\n",
    "            'BlockGroupEnd': 'last',\n",
    "            'emissionFood': np.sum, \n",
    "            'emissionElectricity': np.sum, \n",
    "            'emissionDiesel': np.sum, \n",
    "            'emissionGasoline': np.sum,\n",
    "            'emissionBiodiesel': np.sum, \n",
    "            'emission_marginal': np.sum,\n",
    "            'lever': lambda x: ', '.join(set(x.dropna().astype(str)))\n",
    "           }).reset_index() \n",
    "\n",
    "#'numPassengers': lambda x: ', '.join(set(x.dropna().astype(str))) \n",
    "#'mode_choice_actual_BEAM':lambda x: ', '.join(set(x.dropna().astype(str))) #\n",
    "#'modeBEAM_rh': lambda x: ', '.join(list(x.dropna().astype(str))), "
   ]
  },
  {
   "cell_type": "code",
   "execution_count": 82,
   "id": "dc3ac897",
   "metadata": {},
   "outputs": [],
   "source": [
    "Person_Trip_eventsSF['duration_door_to_door'] = Person_Trip_eventsSF['actStartTime'] - Person_Trip_eventsSF['actEndTime'] "
   ]
  },
  {
   "cell_type": "code",
   "execution_count": 83,
   "id": "03bd08b4",
   "metadata": {},
   "outputs": [],
   "source": [
    "Person_Trip_eventsSF['waitTime'] = Person_Trip_eventsSF['duration_door_to_door'] - Person_Trip_eventsSF['duration_travelling'] "
   ]
  },
  {
   "cell_type": "code",
   "execution_count": 84,
   "id": "28560b3b",
   "metadata": {},
   "outputs": [],
   "source": [
    "Person_Trip_eventsSF['actPurpose'] = Person_Trip_eventsSF['actEndType'].astype(str) + \"_to_\" + Person_Trip_eventsSF['actStartType'].astype(str)"
   ]
  },
  {
   "cell_type": "code",
   "execution_count": 85,
   "id": "d3a96721",
   "metadata": {},
   "outputs": [],
   "source": [
    "Person_Trip_eventsSF.rename(columns={\"legVehicleIds\":\"vehicleIds_estimate\"}, inplace=True) "
   ]
  },
  {
   "cell_type": "code",
   "execution_count": 86,
   "id": "b8d2f547",
   "metadata": {},
   "outputs": [],
   "source": [
    "Person_Trip_eventsSF.rename(columns={\"vehicle\":\"vehicleIds\"}, inplace=True) "
   ]
  },
  {
   "cell_type": "code",
   "execution_count": 87,
   "id": "3c0e1bd0",
   "metadata": {},
   "outputs": [],
   "source": [
    "# Column with five summarized modes\n",
    "conditions  = [(Person_Trip_eventsSF['mode_choice_actual_BEAM'] == 'ride_hail') | (Person_Trip_eventsSF['mode_choice_actual_BEAM'] == 'ride_hail_pooled'), \n",
    "               (Person_Trip_eventsSF['mode_choice_actual_BEAM'] == 'walk_transit') | (Person_Trip_eventsSF['mode_choice_actual_BEAM'] == 'drive_transit')| (Person_Trip_eventsSF['mode_choice_actual_BEAM'] == 'ride_hail_transit')|(Person_Trip_eventsSF['mode_choice_actual_BEAM'] == 'bike_transit'),\n",
    "               (Person_Trip_eventsSF['mode_choice_actual_BEAM'] == 'walk'), (Person_Trip_eventsSF['mode_choice_actual_BEAM'] == 'bike'),\n",
    "               (Person_Trip_eventsSF['mode_choice_actual_BEAM'] == 'car') | (Person_Trip_eventsSF['mode_choice_actual_BEAM'] == 'car_hov2')| (Person_Trip_eventsSF['mode_choice_actual_BEAM'] == 'car_hov3')|(Person_Trip_eventsSF['mode_choice_actual_BEAM'] == 'hov2_teleportation')| (Person_Trip_eventsSF['mode_choice_actual_BEAM'] == 'hov3_teleportation')]\n",
    "choices = [ 'ride_hail', 'transit', 'walk', 'bike', 'car']"
   ]
  },
  {
   "cell_type": "code",
   "execution_count": 88,
   "id": "86cb946d",
   "metadata": {},
   "outputs": [],
   "source": [
    "Person_Trip_eventsSF['mode_choice_actual_5'] = np.select(conditions, choices, default=np.nan)"
   ]
  },
  {
   "cell_type": "code",
   "execution_count": 89,
   "id": "8b02ea2e",
   "metadata": {},
   "outputs": [],
   "source": [
    "# Column with six summarized modes\n",
    "conditions  = [(Person_Trip_eventsSF['mode_choice_actual_BEAM'] == 'ride_hail') | (Person_Trip_eventsSF['mode_choice_actual_BEAM'] == 'ride_hail_pooled'), \n",
    "               (Person_Trip_eventsSF['mode_choice_actual_BEAM'] == 'walk_transit') | (Person_Trip_eventsSF['mode_choice_actual_BEAM'] == 'drive_transit')|(Person_Trip_eventsSF['mode_choice_actual_BEAM'] == 'bike_transit'),\n",
    "               (Person_Trip_eventsSF['mode_choice_actual_BEAM'] == 'walk'), (Person_Trip_eventsSF['mode_choice_actual_BEAM'] == 'bike'),\n",
    "               (Person_Trip_eventsSF['mode_choice_actual_BEAM'] == 'car') | (Person_Trip_eventsSF['mode_choice_actual_BEAM'] == 'car_hov2')| (Person_Trip_eventsSF['mode_choice_actual_BEAM'] == 'car_hov3')|(Person_Trip_eventsSF['mode_choice_actual_BEAM'] == 'hov2_teleportation')| (Person_Trip_eventsSF['mode_choice_actual_BEAM'] == 'hov3_teleportation'),\n",
    "               (Person_Trip_eventsSF['mode_choice_actual_BEAM'] == 'ride_hail_transit')]\n",
    "choices = [ 'ride_hail', 'transit', 'walk', 'bike', 'car', 'ride_hail_transit']"
   ]
  },
  {
   "cell_type": "code",
   "execution_count": 90,
   "id": "b63121f4",
   "metadata": {},
   "outputs": [],
   "source": [
    "Person_Trip_eventsSF['mode_choice_actual_6'] = np.select(conditions, choices, default=np.nan)"
   ]
  },
  {
   "cell_type": "code",
   "execution_count": 91,
   "id": "649260ae",
   "metadata": {},
   "outputs": [],
   "source": [
    "Person_Trip_eventsSF = Person_Trip_eventsSF.drop(Person_Trip_eventsSF[Person_Trip_eventsSF.duration_door_to_door < 0].index)"
   ]
  },
  {
   "cell_type": "code",
   "execution_count": 92,
   "id": "2d2b37e2",
   "metadata": {},
   "outputs": [],
   "source": [
    "#Person_Trip_eventsSF.to_csv('C:/Shared-Work/Data/CleanData/sf_2018_base_core_act.csv', index = False)"
   ]
  },
  {
   "cell_type": "markdown",
   "id": "557c5804",
   "metadata": {},
   "source": [
    "#### Merging with ActivitySim files"
   ]
  },
  {
   "cell_type": "code",
   "execution_count": 93,
   "id": "13594e0f",
   "metadata": {},
   "outputs": [],
   "source": [
    "key = \"pilates-outputs/sfbay-rhfleet-2.25-20220822/activitysim/year-2018-iteration-5/households.csv.gz\"  #the path should be updated\n",
    "obj = s3.get_object(Bucket=\"beam-outputs\", Key=key)\n",
    "households = pd.read_csv(obj['Body'], compression = 'gzip')"
   ]
  },
  {
   "cell_type": "code",
   "execution_count": 94,
   "id": "df5a30c8",
   "metadata": {},
   "outputs": [],
   "source": [
    "key = \"pilates-outputs/sfbay-rhfleet-2.25-20220822/activitysim/year-2018-iteration-5/persons.csv.gz\"  #the path should be updated\n",
    "obj = s3.get_object(Bucket=\"beam-outputs\", Key=key)\n",
    "persons = pd.read_csv(obj['Body'], compression = 'gzip')"
   ]
  },
  {
   "cell_type": "code",
   "execution_count": 95,
   "id": "60622ab1",
   "metadata": {},
   "outputs": [],
   "source": [
    "key = \"pilates-outputs/sfbay-rhfleet-2.25-20220822/activitysim/year-2018-iteration-5/final_tours.csv.gz\"  #the path should be updated\n",
    "obj = s3.get_object(Bucket=\"beam-outputs\", Key=key)\n",
    "tours = pd.read_csv(obj['Body'], compression = 'gzip')"
   ]
  },
  {
   "cell_type": "code",
   "execution_count": 96,
   "id": "974cafe1",
   "metadata": {},
   "outputs": [],
   "source": [
    "key = \"pilates-outputs/sfbay-rhfleet-2.25-20220822/activitysim/year-2018-iteration-5/final_trips.csv.gz\"  #the path should be updated\n",
    "obj = s3.get_object(Bucket=\"beam-outputs\", Key=key)\n",
    "trips = pd.read_csv(obj['Body'], compression = 'gzip')"
   ]
  },
  {
   "cell_type": "code",
   "execution_count": null,
   "id": "fc9f6e38",
   "metadata": {},
   "outputs": [],
   "source": [
    "#actloc_2018_baseline = \"https://beam-outputs.s3.amazonaws.com/pilates-outputs/sfbay-base-20220409/activitysim/\"\n",
    "#actloc_2018_transitFreq05 = \"https://beam-outputs.s3.amazonaws.com/pilates-outputs/sfbay-transit_frequencies_0.5-20220528/activitysim/\"\n",
    "#actloc_2018_transitFreq1p5 = \"https://beam-outputs.s3.amazonaws.com/pilates-outputs/sfbay-transit_frequencies_1.5-20220529/activitysim/\"\n",
    "#actloc_2018_transitFreq2 = \"https://beam-outputs.s3.amazonaws.com/pilates-outputs/sfbay-transit_frequencies_2.0-20220529/activitysim/\"\n",
    "#actloc_2018_rhFleetsz0125 = \"https://beam-outputs.s3.amazonaws.com/pilates-outputs/sfbay-RH_fleetsz_0.125-20220408/activitysim/\"\n",
    "#actloc_2018_rhFleetsz175 = \"https://beam-outputs.s3.amazonaws.com/pilates-outputs/sfbay-RH_fleetsz_1.75-20220408/activitysim/\"\n",
    "\n",
    "#households = pd.read_csv(actloc_2018_baseline + 'final_households.csv')\n",
    "#persons = pd.read_csv(actloc_2018_baseline + 'final_persons.csv')\n",
    "#tours = pd.read_csv(actloc_2018_baseline +'final_tours.csv')\n",
    "#plans = pd.read_csv(actloc_2018_baseline +'final_plans.csv')\n",
    "#trips = pd.read_csv(actloc_2018_baseline + 'final_trips.csv')\n",
    "#landuse = pd.read_csv(actloc_2018_baseline + 'final_land_use.csv')"
   ]
  },
  {
   "cell_type": "code",
   "execution_count": null,
   "id": "2f940ac2",
   "metadata": {},
   "outputs": [],
   "source": [
    "# PUMS data for Disability information\n",
    "#filename = \"C:/Shared-Work/Data/Disability_PUMS/custom_mpo_06197001_model_data.h5\"\n",
    "\n",
    "#with h5py.File(filename, \"r\") as f:\n",
    "    # List all groups\n",
    "    #print(\"Keys: %s\" % f.keys())\n",
    "    #a_group_key = list(f.keys())[0]\n",
    "\n",
    "    # Get the data\n",
    "    #data = list(f[a_group_key])"
   ]
  },
  {
   "cell_type": "code",
   "execution_count": null,
   "id": "287187c2",
   "metadata": {},
   "outputs": [],
   "source": [
    "# PUMS data for Disability information\n",
    "#person_5_year_2010 = pd.read_csv('C:/Users/nazanin/Downloads/csv_pca/ss13pca.csv')\n",
    "#housing_unit_5_year_2010 = pd.read_csv('C:/Users/nazanin/Downloads/csv_hca/ss13hca.csv')"
   ]
  },
  {
   "cell_type": "code",
   "execution_count": null,
   "id": "9b529434",
   "metadata": {},
   "outputs": [],
   "source": [
    "# PUMS data for Disability information\n",
    "#key = \"deepDive/RawData/Disability/ss13pca.csv\"\n",
    "#obj = s3.get_object(Bucket=\"beam-core-act\", Key=key)\n",
    "#person_5_year_2010 = pd.read_csv(obj['Body'])"
   ]
  },
  {
   "cell_type": "code",
   "execution_count": null,
   "id": "bdd227ca",
   "metadata": {},
   "outputs": [],
   "source": [
    "# PUMS data for Disability information\n",
    "#key = \"deepDive/RawData/Disability/ss13hca.csv\"\n",
    "#obj = s3.get_object(Bucket=\"beam-core-act\", Key=key)\n",
    "#housing_unit_5_year_2010 = pd.read_csv(obj['Body'])"
   ]
  },
  {
   "cell_type": "code",
   "execution_count": null,
   "id": "fa208ddf",
   "metadata": {},
   "outputs": [],
   "source": [
    "# Merge PUMS households and persons \n",
    "#person_5_year_2010 = person_5_year_2010.sort_values(by=['SERIALNO']).reset_index()\n",
    "#housing_unit_5_year_2010 = housing_unit_5_year_2010.sort_values(by=['SERIALNO']).reset_index()\n",
    "#hhpersons_PUMS2010 = pd.merge(left=person_5_year_2010, right=housing_unit_5_year_2010, how='left', on='SERIALNO')"
   ]
  },
  {
   "cell_type": "code",
   "execution_count": 97,
   "id": "47b6ea7f",
   "metadata": {},
   "outputs": [],
   "source": [
    "# Merge BEAM households and persons \n",
    "persons = persons.sort_values(by=['household_id']).reset_index(drop=True)\n",
    "households = households.sort_values(by=['household_id']).reset_index(drop=True)\n",
    "hhpersons = pd.merge(left=persons, right=households, how='left', on='household_id')\n",
    "#hhpersons = pd.merge(left=persons, right=households, how='left', on='household_id', suffixes=('', '_drop'))\n",
    "#hhpersons.drop([col for col in hhpersons.columns if 'drop' in col], axis=1, inplace=True)"
   ]
  },
  {
   "cell_type": "code",
   "execution_count": 98,
   "id": "f3ff157e",
   "metadata": {},
   "outputs": [],
   "source": [
    "# Merge Disability Columns\n",
    "#hhpersons_PUMS2010 = hhpersons_PUMS2010.sort_values(by=['SERIALNO', 'SPORDER']).reset_index(drop=True)\n",
    "#hhpersons = hhpersons.sort_values(by=['serialno', 'PNUM']).reset_index(drop=True)\n",
    "#hhpersonsDIS = pd.merge(hhpersons, hhpersons_PUMS2010[['SERIALNO', 'SPORDER', 'AGEP', 'SEX', 'DIS', 'HINCP', 'VEH', 'JWMNP', 'JWRIP', 'JWTR', 'RAC1P', 'RAC2P05']], how='left',left_on = ['serialno', 'PNUM'] , right_on=['SERIALNO', 'SPORDER'])"
   ]
  },
  {
   "cell_type": "code",
   "execution_count": 99,
   "id": "5b20c94f",
   "metadata": {},
   "outputs": [],
   "source": [
    "# Merge tours, households and persons\n",
    "tours = tours.sort_values(by=['person_id']).reset_index(drop=True)\n",
    "hhpersons = hhpersons.sort_values(by=['person_id']).reset_index(drop=True)\n",
    "hhperTours = pd.merge(left=tours, right=hhpersons, how='left', on='person_id')\n",
    "#hhperTours = pd.merge(left=tours, right=hhpersons, how='left', on='person_id', suffixes=('', '_drop'))\n",
    "#hhperTours.drop([col for col in hhperTours.columns if 'drop' in col], axis=1, inplace=True)"
   ]
  },
  {
   "cell_type": "code",
   "execution_count": 100,
   "id": "6ef8c6a0",
   "metadata": {},
   "outputs": [],
   "source": [
    "# Merge trips, tours, households and persons\n",
    "trips = trips.sort_values(by=['person_id', 'tour_id']).reset_index(drop=True)\n",
    "hhperTours = hhperTours.sort_values(by=['person_id','tour_id']).reset_index(drop=True)\n",
    "tourTripsMerged = pd.merge(left=trips, right=hhperTours, how='left', on=['person_id','tour_id'])\n",
    "#tourTripsMerged = pd.merge(left=trips, right=hhperTours, how='left', on=['person_id','tour_id'], suffixes=('', '_drop'))\n",
    "#tourTripsMerged.drop([col for col in tourTripsMerged.columns if 'drop' in col], axis=1, inplace=True)"
   ]
  },
  {
   "cell_type": "code",
   "execution_count": 101,
   "id": "60bf4e65",
   "metadata": {},
   "outputs": [],
   "source": [
    "# Merge trips, tours, households, and persons with land-use\n",
    "#landuse = landuse.sort_values(by=['TAZ'])\n",
    "#tourTripsMerged = tourTripsMerged.sort_values(by=['TAZ'])\n",
    "#landuseTripsMerged = pd.merge(tourTripsMerged, landuse, how='left', left_on='TAZ', right_on='TAZ', suffixes=('', '_drop'))\n",
    "#landuseTripsMerged.drop([col for col in landuseTripsMerged.columns if 'drop' in col], axis=1, inplace=True)"
   ]
  },
  {
   "cell_type": "code",
   "execution_count": 102,
   "id": "eccb3f47",
   "metadata": {},
   "outputs": [],
   "source": [
    "# Concat mode_choice_raw files\n",
    "#path = \"C:/Users/nazanin/Downloads/trip_mode_choice/trip_mode_choice/\"\n",
    "#all_files = glob.glob(path + \"*raw.csv\")\n",
    "#li_mapper = map(lambda filename: pd.read_csv(filename, index_col = None, header = 0), all_files)\n",
    "#li2 = list(li_mapper)\n",
    "#SFmode_choice_raw = pd.concat(li2, axis = 0, ignore_index=True)"
   ]
  },
  {
   "cell_type": "code",
   "execution_count": 103,
   "id": "aa064697",
   "metadata": {},
   "outputs": [],
   "source": [
    "# Concat mode_choice_utilities files - Download File from s3 bucket \n",
    "key = \"pilates-outputs/sfbay-rhfleet-1.75-20220822/activitysim/year-2018-iteration-5/trip_mode_choice.zip\"  #the path should be updated\n",
    "s3.download_file(\n",
    "    Bucket=\"beam-outputs\", Key=key, Filename=\"trip_mode_choice.zip\")"
   ]
  },
  {
   "cell_type": "code",
   "execution_count": 104,
   "id": "c00295c3",
   "metadata": {},
   "outputs": [],
   "source": [
    "# Automatically extracting ZipFile with a python command \n",
    "with ZipFile('trip_mode_choice.zip', 'r') as zipObj:\n",
    "   # Extract all the contents of zip file in current directory\n",
    "   zipObj.extractall()"
   ]
  },
  {
   "cell_type": "code",
   "execution_count": 105,
   "id": "79e48f20",
   "metadata": {},
   "outputs": [],
   "source": [
    "# Concat mode_choice_utilities files\n",
    "path = \"C:/Users/nazanin/Documents/beam-core-analysis/Users/Nazanin/trip_mode_choice/\" #the path should be updated\n",
    "all_files = glob.glob(path + \"*utilities.csv\")\n",
    "li_mapper = map(lambda filename: pd.read_csv(filename, index_col = None, header = 0), all_files)\n",
    "li2 = list(li_mapper)\n",
    "SFmode_choice_utilities = pd.concat(li2, axis = 0, ignore_index=True)"
   ]
  },
  {
   "cell_type": "code",
   "execution_count": 106,
   "id": "e8248f34",
   "metadata": {},
   "outputs": [],
   "source": [
    "# Merge mode_choice_raw and utilities\n",
    "#SFmode_choice_raw = SFmode_choice_raw.sort_values(by=['trip_id'])\n",
    "#SFmode_choice_utilities = SFmode_choice_utilities.sort_values(by=['trip_id'])\n",
    "#rawUtil = pd.merge(left=SFmode_choice_raw, right=SFmode_choice_utilities, how='left', on='trip_id')"
   ]
  },
  {
   "cell_type": "code",
   "execution_count": 107,
   "id": "5035b857",
   "metadata": {},
   "outputs": [],
   "source": [
    "#just utilities\n",
    "# Merge trips, tours, households, persons, trip_mode_choice_raw, and utilities\n",
    "tourTripsMerged = tourTripsMerged.sort_values(by=['trip_id'])\n",
    "SFmode_choice_utilities = SFmode_choice_utilities.sort_values(by=['trip_id'])\n",
    "SFActMerged= pd.merge(left=tourTripsMerged, right=SFmode_choice_utilities, how='left', on=['trip_id'])"
   ]
  },
  {
   "cell_type": "code",
   "execution_count": 108,
   "id": "fa758d1e",
   "metadata": {},
   "outputs": [],
   "source": [
    "# Both raw and utilities\n",
    "# Merge trips, tours, households, persons, trip_mode_choice_raw, and utilities\n",
    "#tourTripsMerged = tourTripsMerged.sort_values(by=['trip_id'])\n",
    "#rawUtil = rawUtil.sort_values(by=['trip_id'])\n",
    "#SFActMerged= pd.merge(left=tourTripsMerged, right=rawUtil, how='left', on=['trip_id'])"
   ]
  },
  {
   "cell_type": "code",
   "execution_count": 109,
   "id": "96ae8686",
   "metadata": {},
   "outputs": [],
   "source": [
    "# Merge person_trip level BEAM with activity sim merged files\n",
    "SFActMerged = SFActMerged.sort_values(by=['person_id', 'trip_id']).reset_index(drop=True)\n",
    "Person_Trip_eventsSF = Person_Trip_eventsSF.sort_values(by=['IDMerged','tripIndex']).reset_index(drop=True)\n",
    "eventsASim = pd.merge(left=Person_Trip_eventsSF, right=SFActMerged, how='left', left_on=[\"IDMerged\", 'tripIndex'], right_on=['person_id', 'trip_id'])\n",
    "#eventsASim = pd.merge(left=Person_Trip_eventsSF, right=tourTripsMerged, how='left',left_on = [\"IDMerged\", 'tripId'] , right_on=['person_id', 'trip_id'], suffixes=('', '_drop'))\n",
    "#eventsASim.drop([col for col in eventsASim.columns if 'drop' in col], axis=1, inplace=True)"
   ]
  },
  {
   "cell_type": "code",
   "execution_count": 110,
   "id": "72ae2d99",
   "metadata": {},
   "outputs": [],
   "source": [
    "eventsASim.rename(columns={\"mode_choice_logsum_y\":\"logsum_tours_mode_AS_tours\"}, inplace=True)"
   ]
  },
  {
   "cell_type": "code",
   "execution_count": 111,
   "id": "7a0b2fcc",
   "metadata": {},
   "outputs": [],
   "source": [
    "eventsASim.rename(columns={\"tour_mode\":\"tour_mode_AS_tours\"}, inplace=True)"
   ]
  },
  {
   "cell_type": "code",
   "execution_count": 112,
   "id": "0def8b02",
   "metadata": {},
   "outputs": [],
   "source": [
    "eventsASim.rename(columns={\"mode_choice_logsum_x\":\"logsum_trip_mode_AS_trips\"}, inplace=True)"
   ]
  },
  {
   "cell_type": "code",
   "execution_count": 113,
   "id": "28906290",
   "metadata": {},
   "outputs": [],
   "source": [
    "eventsASim.rename(columns={\"trip_mode\":\"trip_mode_AS_trips\"}, inplace=True)"
   ]
  },
  {
   "cell_type": "code",
   "execution_count": 114,
   "id": "a3fe03ae",
   "metadata": {},
   "outputs": [],
   "source": [
    "# Save the output file to S3\n",
    "eventsASim.to_csv('s3://beam-core-act/deepDive/CleanData/SanFrancisco/RideHail_FleetSize/sf_2018_rh_flsz_2p25.csv', index=False)  #the path should be updated"
   ]
  },
  {
   "cell_type": "code",
   "execution_count": 115,
   "id": "b97fa964",
   "metadata": {},
   "outputs": [],
   "source": [
    "# Delete the utilities files downloaded and saved in the system\n",
    "os.remove('C:/Users/nazanin/Documents/beam-core-analysis/Users/Nazanin/trip_mode_choice.zip')   #the path should be updated\n",
    "shutil.rmtree('C:/Users/nazanin/Documents/beam-core-analysis/Users/Nazanin/trip_mode_choice')   #the path should be updated"
   ]
  },
  {
   "cell_type": "code",
   "execution_count": null,
   "id": "3da8bc13",
   "metadata": {},
   "outputs": [],
   "source": []
  }
 ],
 "metadata": {
  "kernelspec": {
   "display_name": "Python 3 (ipykernel)",
   "language": "python",
   "name": "python3"
  },
  "language_info": {
   "codemirror_mode": {
    "name": "ipython",
    "version": 3
   },
   "file_extension": ".py",
   "mimetype": "text/x-python",
   "name": "python",
   "nbconvert_exporter": "python",
   "pygments_lexer": "ipython3",
   "version": "3.9.7"
  }
 },
 "nbformat": 4,
 "nbformat_minor": 5
}
