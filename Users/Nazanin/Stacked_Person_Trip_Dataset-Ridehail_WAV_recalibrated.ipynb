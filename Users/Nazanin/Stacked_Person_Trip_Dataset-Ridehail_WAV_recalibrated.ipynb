{
 "cells": [
  {
   "cell_type": "code",
   "execution_count": 88,
   "id": "c0f71a2c",
   "metadata": {},
   "outputs": [],
   "source": [
    "import os\n",
    "import os.path as op\n",
    "import numpy as np\n",
    "import pandas as pd\n",
    "import matplotlib.pyplot as plt\n",
    "import matplotlib.colors as mcolors\n",
    "%matplotlib inline\n",
    "import seaborn as sns\n",
    "sns.set_theme(style=\"darkgrid\", color_codes=True)\n",
    "sns.set(font_scale=1.35, style=\"ticks\") #set styling preferences\n",
    "import statsmodels.api as sm\n",
    "from scipy import stats\n",
    "import math\n",
    "from math import pi\n",
    "from pandas.api.types import is_string_dtype\n",
    "from pandas.api.types import is_numeric_dtype\n",
    "from scipy.spatial.distance import cdist\n",
    "from scipy.cluster.vq import kmeans2,vq, whiten\n",
    "import geopandas as gpd\n",
    "import h5py\n",
    "import boto.s3\n",
    "import glob    \n",
    "import boto3\n",
    "from zipfile import ZipFile\n",
    "import shutil"
   ]
  },
  {
   "cell_type": "code",
   "execution_count": 89,
   "id": "1c4d781d",
   "metadata": {},
   "outputs": [],
   "source": [
    "# Show all columns and rows\n",
    "pd.options.display.max_columns = None\n",
    "pd.options.display.max_rows = None"
   ]
  },
  {
   "cell_type": "markdown",
   "id": "cd2c6de5",
   "metadata": {},
   "source": [
    "#### Baseline"
   ]
  },
  {
   "cell_type": "code",
   "execution_count": 3,
   "id": "82484592",
   "metadata": {},
   "outputs": [
    {
     "name": "stderr",
     "output_type": "stream",
     "text": [
      "<timed exec>:1: DtypeWarning: Columns (77,131,138,139,140,141,142,143,144,145,146,147,148,149,150,151,152,153,154,155,156,158,167,172,174,175,176,177,179,180,237,238,239,240,249) have mixed types. Specify dtype option on import or set low_memory=False.\n"
     ]
    },
    {
     "name": "stdout",
     "output_type": "stream",
     "text": [
      "CPU times: total: 11min 48s\n",
      "Wall time: 13min 56s\n"
     ]
    }
   ],
   "source": [
    "%%time  \n",
    "sf_rh_base_0p01 = pd.read_csv('gs://beam-core-outputs/wheelchair/may2023/sfbay-10pop-1fleet/inexus/sfbay_baseline_default-1.0_2019__20230529.csv.gz', compression = 'gzip')"
   ]
  },
  {
   "cell_type": "code",
   "execution_count": 4,
   "id": "4283f992",
   "metadata": {},
   "outputs": [
    {
     "data": {
      "text/plain": [
       "(12433113, 275)"
      ]
     },
     "execution_count": 4,
     "metadata": {},
     "output_type": "execute_result"
    }
   ],
   "source": [
    "sf_rh_base_0p01.shape"
   ]
  },
  {
   "cell_type": "code",
   "execution_count": 5,
   "id": "47ab2ad4",
   "metadata": {},
   "outputs": [],
   "source": [
    "# Adding scenario info\n",
    "sf_rh_base_0p01['scenario'] = \"baseline\"\n",
    "sf_rh_base_0p01['scenario'] = sf_rh_base_0p01['scenario'].astype(\"category\")\n",
    "sf_rh_base_0p01['lever'] = \"WAV\"\n",
    "sf_rh_base_0p01['lever'] = sf_rh_base_0p01['lever'].astype(\"category\")\n",
    "sf_rh_base_0p01['year'] = 2018\n",
    "sf_rh_base_0p01['lever_position_wav'] = 0.01"
   ]
  },
  {
   "cell_type": "code",
   "execution_count": 6,
   "id": "61204995",
   "metadata": {},
   "outputs": [],
   "source": [
    "#baseline2018 = \"https://beam-core-act.s3.amazonaws.com/beam-outputs/pilates-outputs/sfbay-baseline-20221220/inexus\"\n",
    "#sfbase = pd.read_csv(baseline2018 + 'sfbay_baseline_default-1.0_2012__20221219.csv.gz')"
   ]
  },
  {
   "cell_type": "code",
   "execution_count": 7,
   "id": "f43e2823",
   "metadata": {},
   "outputs": [],
   "source": [
    "# Showing the entire number in dataframe\n",
    "pd.set_option('float_format', '{:f}'.format)"
   ]
  },
  {
   "cell_type": "code",
   "execution_count": 8,
   "id": "5e55a558",
   "metadata": {},
   "outputs": [],
   "source": [
    "#describe = sfbase.describe()"
   ]
  },
  {
   "cell_type": "code",
   "execution_count": 9,
   "id": "2c224a67",
   "metadata": {},
   "outputs": [],
   "source": [
    "#describe.to_csv('C:/Shared-Work/Data/CleanData/ASIM_BEAM_Merged/describe.csv')"
   ]
  },
  {
   "cell_type": "markdown",
   "id": "71810912",
   "metadata": {},
   "source": [
    "#### Ridehail Price Scenarios"
   ]
  },
  {
   "cell_type": "code",
   "execution_count": 10,
   "id": "ee819272",
   "metadata": {},
   "outputs": [
    {
     "name": "stderr",
     "output_type": "stream",
     "text": [
      "<timed exec>:1: DtypeWarning: Columns (77,131,138,139,140,141,142,143,144,145,146,147,148,149,150,151,152,153,154,155,156,158,167,172,174,175,176,177,179,180,237,238,239,240,249) have mixed types. Specify dtype option on import or set low_memory=False.\n"
     ]
    },
    {
     "name": "stdout",
     "output_type": "stream",
     "text": [
      "CPU times: total: 40min 9s\n",
      "Wall time: 42min 22s\n"
     ]
    }
   ],
   "source": [
    "%%time  \n",
    "sf_wav_5 = pd.read_csv('gs://beam-core-outputs/wheelchair/may2023/sfbay-10pop-5fleet/inexus/sfbay_baseline_default-1.0_2019__20230513.csv.gz', compression = 'gzip')"
   ]
  },
  {
   "cell_type": "code",
   "execution_count": 11,
   "id": "23d634d2",
   "metadata": {},
   "outputs": [],
   "source": [
    "# Adding scenario info\n",
    "sf_wav_5['scenario'] = \"ridehail\"\n",
    "sf_wav_5['scenario'] = sf_wav_5['scenario'].astype(\"category\")\n",
    "sf_wav_5['lever'] = \"WAV\"\n",
    "sf_wav_5['lever'] = sf_wav_5['lever'].astype(\"category\")\n",
    "sf_wav_5['year'] = 2018\n",
    "sf_wav_5['lever_position_wav'] = 0.05"
   ]
  },
  {
   "cell_type": "code",
   "execution_count": 12,
   "id": "68c491ef",
   "metadata": {},
   "outputs": [
    {
     "name": "stderr",
     "output_type": "stream",
     "text": [
      "<timed exec>:1: DtypeWarning: Columns (77,131,138,139,140,141,142,143,144,145,146,147,148,149,150,151,152,153,154,155,156,158,167,172,174,175,176,177,179,180,237,238,239,240,249) have mixed types. Specify dtype option on import or set low_memory=False.\n"
     ]
    },
    {
     "name": "stdout",
     "output_type": "stream",
     "text": [
      "CPU times: total: 1h 5min 19s\n",
      "Wall time: 1h 7min 33s\n"
     ]
    }
   ],
   "source": [
    "%%time\n",
    "sf_wav_10 = pd.read_csv('gs://beam-core-outputs/wheelchair/may2023/sfbay-10pop-10fleet/inexus/sfbay_baseline_default-1.0_2019__20230521.csv.gz', compression = 'gzip')"
   ]
  },
  {
   "cell_type": "code",
   "execution_count": 13,
   "id": "bfa66f8b",
   "metadata": {},
   "outputs": [],
   "source": [
    "# Adding scenario info\n",
    "sf_wav_10['scenario'] = \"ridehail\"\n",
    "sf_wav_10['scenario'] = sf_wav_10['scenario'].astype(\"category\")\n",
    "sf_wav_10['lever'] = \"WAV\"\n",
    "sf_wav_10['lever'] = sf_wav_10['lever'].astype(\"category\")\n",
    "sf_wav_10['year'] = 2018\n",
    "sf_wav_10['lever_position_wav'] = 0.1"
   ]
  },
  {
   "cell_type": "code",
   "execution_count": 14,
   "id": "cb4cd3ad",
   "metadata": {},
   "outputs": [
    {
     "name": "stderr",
     "output_type": "stream",
     "text": [
      "<timed exec>:1: DtypeWarning: Columns (77,131,138,139,140,141,142,143,144,145,146,147,148,149,150,151,152,153,154,155,156,158,167,172,174,175,176,177,179,180,237,238,239,240,249) have mixed types. Specify dtype option on import or set low_memory=False.\n"
     ]
    },
    {
     "name": "stdout",
     "output_type": "stream",
     "text": [
      "CPU times: total: 1h 19min 19s\n",
      "Wall time: 1h 21min 40s\n"
     ]
    }
   ],
   "source": [
    "%%time \n",
    "sf_wav_20 = pd.read_csv('gs://beam-core-outputs/wheelchair/may2023/sfbay-10pop-20fleet/inexus/sfbay_baseline_default-1.0_2019__20230521.csv.gz', compression = 'gzip')"
   ]
  },
  {
   "cell_type": "code",
   "execution_count": 15,
   "id": "dde5c0cf",
   "metadata": {},
   "outputs": [],
   "source": [
    "# Adding scenario info\n",
    "sf_wav_20['scenario'] = \"ridehail\"\n",
    "sf_wav_20['scenario'] = sf_wav_10['scenario'].astype(\"category\")\n",
    "sf_wav_20['lever'] = \"WAV\"\n",
    "sf_wav_20['lever'] = sf_wav_10['lever'].astype(\"category\")\n",
    "sf_wav_20['year'] = 2018\n",
    "sf_wav_20['lever_position_wav'] = 0.2"
   ]
  },
  {
   "cell_type": "code",
   "execution_count": 16,
   "id": "267a7cbf",
   "metadata": {},
   "outputs": [
    {
     "name": "stdout",
     "output_type": "stream",
     "text": [
      "CPU times: total: 1h 26min 35s\n",
      "Wall time: 1h 28min 56s\n"
     ]
    }
   ],
   "source": [
    "%%time \n",
    "sf_wav_50 = pd.read_csv('gs://beam-core-outputs/wheelchair/may2023/sfbay-10pop-50fleet/inexus/sfbay_baseline_default-1.0_2018__20230527.csv.gz', compression = 'gzip')"
   ]
  },
  {
   "cell_type": "code",
   "execution_count": 17,
   "id": "886c7d7c",
   "metadata": {},
   "outputs": [],
   "source": [
    "# Adding scenario info\n",
    "sf_wav_50['scenario'] = \"ridehail\"\n",
    "sf_wav_50['scenario'] = sf_wav_50['scenario'].astype(\"category\")\n",
    "sf_wav_50['lever'] = \"WAV\"\n",
    "sf_wav_50['lever'] = sf_wav_50['lever'].astype(\"category\")\n",
    "sf_wav_50['year'] = 2018\n",
    "sf_wav_50['lever_position_wav'] = 0.5"
   ]
  },
  {
   "cell_type": "code",
   "execution_count": 18,
   "id": "4dd80446",
   "metadata": {},
   "outputs": [
    {
     "name": "stderr",
     "output_type": "stream",
     "text": [
      "<timed exec>:1: DtypeWarning: Columns (77,131,138,139,140,141,142,143,144,145,146,147,148,149,150,151,152,153,154,155,156,158,167,172,174,175,176,177,179,180,237,238,239,240,249) have mixed types. Specify dtype option on import or set low_memory=False.\n"
     ]
    },
    {
     "name": "stdout",
     "output_type": "stream",
     "text": [
      "CPU times: total: 1h 46min 29s\n",
      "Wall time: 1h 47min 56s\n"
     ]
    }
   ],
   "source": [
    "%%time  \n",
    "sf_wav_100 = pd.read_csv('gs://beam-core-outputs/wheelchair/may2023/sfbay-10pop-100fleet/inexus/sfbay_baseline_default-1.0_2019__20230501.csv.gz', compression = 'gzip')"
   ]
  },
  {
   "cell_type": "code",
   "execution_count": 19,
   "id": "b25b633b",
   "metadata": {},
   "outputs": [],
   "source": [
    "# Adding scenario info\n",
    "sf_wav_100['scenario'] = \"ridehail\"\n",
    "sf_wav_100['scenario'] = sf_wav_100['scenario'].astype(\"category\")\n",
    "sf_wav_100['lever'] = \"WAV\"\n",
    "sf_wav_100['lever'] = sf_wav_100['lever'].astype(\"category\")\n",
    "sf_wav_100['year'] = 2018\n",
    "sf_wav_100['lever_position_wav'] = 1"
   ]
  },
  {
   "cell_type": "code",
   "execution_count": 20,
   "id": "45e25cb2",
   "metadata": {},
   "outputs": [],
   "source": [
    "#sf_rh_flsz_175 = sf_rh_flsz_175.drop(sf_rh_flsz_175.columns[233:235], axis=1)"
   ]
  },
  {
   "cell_type": "code",
   "execution_count": 21,
   "id": "8f37acdc",
   "metadata": {},
   "outputs": [],
   "source": [
    "frames = [sf_rh_base_0p01, sf_wav_5, sf_wav_10, sf_wav_20, sf_wav_50, sf_wav_100]\n",
    "sf_stacked = pd.concat(frames)"
   ]
  },
  {
   "cell_type": "code",
   "execution_count": 22,
   "id": "999f6040",
   "metadata": {},
   "outputs": [],
   "source": [
    "sf_stacked = sf_stacked.drop(['has_school_kid','has_preschool_kid','has_retiree','has_non_worker','adult','hispanic','relate',\n",
    "                             'pstudent','pemploy','ptype','p_hispanic','age_16_p','age_16_to_19',\n",
    "                             'person_age','MAR','hours','hispanic.1','student',\n",
    "                             'worker','stop_frequency','composition','tdd','number_of_participants','tour_type_count',\n",
    "                             'tour_type_num','tour_num','tour_count', 'outbound', 'trip_num','num_under16_not_at_school',\n",
    "                             'family','non_family','num_young_adults','num_college_age','num_children_16_to_17',\n",
    "                              'num_children_5_to_15','num_young_children'], axis=1)"
   ]
  },
  {
   "cell_type": "code",
   "execution_count": 23,
   "id": "ba8d8c6c",
   "metadata": {},
   "outputs": [],
   "source": [
    "sf_stacked = sf_stacked.drop(['vehicleIds_estimate','parent_tour_id','atwork_subtour_frequency','household_id_y',\n",
    "                              'male','female', 'has_driving_kid','has_full_time','has_part_time',\n",
    "                              'has_university','student_is_employed', 'nonstudent_to_school', 'is_student','is_gradeschool',\n",
    "                              'is_gradeschool','is_highschool','is_university','school_segment','is_worker',  \n",
    "                              'distance_to_school','roundtrip_auto_time_to_school',\n",
    "                              'distance_to_work','workplace_in_cbd', 'work_taz_area_type', 'hh_race_of_head',\n",
    "                             'roundtrip_auto_time_to_work','work_auto_savings_ratio','cdap_activity', 'travel_active', \n",
    "                              'under16_not_at_school','has_preschool_kid_at_home', 'gt2','hispanic_head',\n",
    "                             'has_school_kid_at_home','work_and_school_and_worker', 'age_of_head', 'race_of_head',\n",
    "                              'work_and_school_and_student', 'VEHICL','hh_children','hh_age_of_head','num_workers',\n",
    "                              'gt55','seniors', 'recent_mover', 'hh_workers', 'hispanic_status_of_head', 'hh_seniors', \n",
    "                             'hh_type', 'HHT', 'sample_rate', 'chunk_id', 'income_segment', 'num_non_workers', \n",
    "                             'num_drivers', 'num_adults', 'num_children', 'hh_work_auto_savings_ratio', 'num_travel_active', \n",
    "                             'num_travel_active_adults','num_travel_active_preschoolers', 'num_travel_active_children', \n",
    "                              'num_travel_active_non_preschoolers', 'participates_in_jtf_model', 'joint_tour_frequency',\n",
    "                              'num_hh_joint_tours'], axis=1)"
   ]
  },
  {
   "cell_type": "code",
   "execution_count": 24,
   "id": "8d1c6b28",
   "metadata": {},
   "outputs": [],
   "source": [
    "sf_stacked = sf_stacked.drop(['serialno'], axis=1)"
   ]
  },
  {
   "cell_type": "markdown",
   "id": "d4867114",
   "metadata": {},
   "source": [
    "#### Stacked File"
   ]
  },
  {
   "cell_type": "code",
   "execution_count": 25,
   "id": "9c0e0def",
   "metadata": {},
   "outputs": [],
   "source": [
    "#stacked_tr_fr_path = \"https://beam-core-act.s3.amazonaws.com/deepDive/CleanData/SanFrancisco/Stacked/\"\n",
    "#sf_stacked_tr_fr = pd.read_csv(stacked_tr_fr_path + 'sf_2018_stacked_tr_fr.csv')"
   ]
  },
  {
   "cell_type": "code",
   "execution_count": 26,
   "id": "8b7d1452",
   "metadata": {},
   "outputs": [],
   "source": [
    "sf_stacked = sf_stacked.sort_values(by=['IDMerged', 'tripIndex', 'lever_position_wav']).reset_index(drop=True)"
   ]
  },
  {
   "cell_type": "code",
   "execution_count": 27,
   "id": "f70826d1",
   "metadata": {},
   "outputs": [],
   "source": [
    "#sf_stacked['lever_position_price'] = 1"
   ]
  },
  {
   "cell_type": "code",
   "execution_count": 30,
   "id": "2b7802f6",
   "metadata": {},
   "outputs": [
    {
     "name": "stdout",
     "output_type": "stream",
     "text": [
      "CPU times: total: 19.7 s\n",
      "Wall time: 19.2 s\n"
     ]
    }
   ],
   "source": [
    "%%time\n",
    "sf_stacked['logsum_relative_to_baseline'] = sf_stacked['logsum_trip_Potential_INEXUS'] - (sf_stacked['logsum_trip_Potential_INEXUS'].where(sf_stacked['lever_position_wav'].eq(0.01))\n",
    "                                                                                                  .groupby([sf_stacked['IDMerged'],sf_stacked['tripIndex']])\n",
    "                                                                                                   .transform('first')\n",
    "                                                                                                   .convert_dtypes())"
   ]
  },
  {
   "cell_type": "code",
   "execution_count": 32,
   "id": "2c4e35a6",
   "metadata": {},
   "outputs": [],
   "source": [
    "sf_stacked['door_to_door_time_relative_to_baseline'] = sf_stacked['duration_door_to_door'] - (sf_stacked['duration_door_to_door'].where(sf_stacked['lever_position_wav'].eq(0.01))\n",
    "                                                                                                  .groupby([sf_stacked['IDMerged'],sf_stacked['tripIndex']])\n",
    "                                                                                                   .transform('first')\n",
    "                                                                                                   .convert_dtypes())"
   ]
  },
  {
   "cell_type": "code",
   "execution_count": 33,
   "id": "4a4453b5",
   "metadata": {},
   "outputs": [],
   "source": [
    "# Drop unused columns\n",
    "sf_stacked = sf_stacked.drop(['sf_detached', 'household_id_x','destination_logsum_y','logsum_tours_mode_AS_tours',\n",
    "                              'primary_purpose_y','PNUM','work_auto_savings','mandatory_tour_frequency'], axis=1)"
   ]
  },
  {
   "cell_type": "code",
   "execution_count": 35,
   "id": "0d2e57e8",
   "metadata": {},
   "outputs": [
    {
     "data": {
      "text/plain": [
       "array([0.01, 0.05, 0.1 , 0.2 , 0.5 , 1.  ])"
      ]
     },
     "execution_count": 35,
     "metadata": {},
     "output_type": "execute_result"
    }
   ],
   "source": [
    "sf_stacked.lever_position_wav.unique()"
   ]
  },
  {
   "cell_type": "code",
   "execution_count": 36,
   "id": "476c23f4",
   "metadata": {
    "ExecuteTime": {
     "end_time": "2022-10-07T01:00:55.847360Z",
     "start_time": "2022-10-07T01:00:55.045071Z"
    }
   },
   "outputs": [
    {
     "data": {
      "text/plain": [
       "(1719592, 170)"
      ]
     },
     "execution_count": 36,
     "metadata": {},
     "output_type": "execute_result"
    }
   ],
   "source": [
    "sf_stacked[sf_stacked['replanning_status'] > 0].shape"
   ]
  },
  {
   "cell_type": "code",
   "execution_count": 37,
   "id": "0111d8da",
   "metadata": {
    "ExecuteTime": {
     "end_time": "2022-10-07T01:01:09.566750Z",
     "start_time": "2022-10-07T01:01:08.396429Z"
    }
   },
   "outputs": [],
   "source": [
    "# Add the mandatory category column\n",
    "mandatory = ['work' , 'univ', 'school']\n",
    "sf_stacked['mandatoryCat'] = np.where((sf_stacked.actEndType.isin(mandatory)) & (sf_stacked.actStartType.isin(mandatory)), 'from_M_to_M' , None)"
   ]
  },
  {
   "cell_type": "code",
   "execution_count": 38,
   "id": "4ef447dd",
   "metadata": {
    "ExecuteTime": {
     "end_time": "2022-10-07T01:01:11.980472Z",
     "start_time": "2022-10-07T01:01:10.667391Z"
    }
   },
   "outputs": [],
   "source": [
    "sf_stacked['mandatoryCat'] = np.where((sf_stacked.actEndType == 'Home') & (sf_stacked.actStartType.isin(mandatory)), 'from_H_to_M' , sf_stacked['mandatoryCat'])"
   ]
  },
  {
   "cell_type": "code",
   "execution_count": 39,
   "id": "11c74ce2",
   "metadata": {
    "ExecuteTime": {
     "end_time": "2022-10-07T01:01:15.207664Z",
     "start_time": "2022-10-07T01:01:13.883857Z"
    }
   },
   "outputs": [],
   "source": [
    "sf_stacked['mandatoryCat'] = np.where((sf_stacked.actEndType.isin(mandatory)) & (sf_stacked.actStartType == \"Home\"), 'from_M_to_H' , sf_stacked['mandatoryCat'])"
   ]
  },
  {
   "cell_type": "code",
   "execution_count": 40,
   "id": "714163d9",
   "metadata": {
    "ExecuteTime": {
     "start_time": "2022-10-07T01:01:20.650Z"
    }
   },
   "outputs": [],
   "source": [
    "non_mandatory = ['othmaint' , 'othdiscr', 'escort', 'eatout', 'social', 'shopping', 'atwork']\n",
    "sf_stacked['mandatoryCat'] = np.where((sf_stacked.actEndType.isin(non_mandatory)) & (sf_stacked.actStartType.isin(non_mandatory)), 'from_N_to_N' , sf_stacked['mandatoryCat'])"
   ]
  },
  {
   "cell_type": "code",
   "execution_count": 41,
   "id": "7e184487",
   "metadata": {},
   "outputs": [],
   "source": [
    "# Drop unused columns\n",
    "sf_stacked = sf_stacked.drop(['num_work_tours','num_joint_tours', 'non_mandatory_tour_frequency',\n",
    "                                          'num_non_mand','num_escort_tours','num_eatout_tours','num_shop_tours',\n",
    "                                          'num_maint_tours','num_discr_tours','num_social_tours','num_non_escort_tours'], axis=1)"
   ]
  },
  {
   "cell_type": "code",
   "execution_count": 42,
   "id": "a747eb02",
   "metadata": {},
   "outputs": [],
   "source": [
    "#sf_stacked[sf_stacked['Realized_INEXUS'].isna()].head(10000).to_csv('C:/Shared-Work/Data/CleanData/ASIM_BEAM_Merged/realizedIN_empty.csv', index = False)"
   ]
  },
  {
   "cell_type": "code",
   "execution_count": 43,
   "id": "56093393",
   "metadata": {},
   "outputs": [],
   "source": [
    "#%%time\n",
    "#sf_stacked_tr_fr.to_csv('s3://beam-core-act/deepDive/CleanData/SanFrancisco/Stacked/sf_2018_stacked_tr_fr_v3.csv', index=False)"
   ]
  },
  {
   "cell_type": "code",
   "execution_count": 49,
   "id": "a111a47c",
   "metadata": {},
   "outputs": [],
   "source": [
    "sf_stacked = sf_stacked.drop(['Unnamed: 0.1','Unnamed: 0'], axis=1)"
   ]
  },
  {
   "cell_type": "code",
   "execution_count": 47,
   "id": "45ed6cef",
   "metadata": {},
   "outputs": [
    {
     "data": {
      "text/plain": [
       "(640569, 160)"
      ]
     },
     "execution_count": 47,
     "metadata": {},
     "output_type": "execute_result"
    }
   ],
   "source": [
    "sf_stacked[sf_stacked['SHARED3FREE'].isna()].shape"
   ]
  },
  {
   "cell_type": "code",
   "execution_count": null,
   "id": "d6180210",
   "metadata": {},
   "outputs": [],
   "source": [
    "sf_stacked.shape"
   ]
  },
  {
   "cell_type": "code",
   "execution_count": 51,
   "id": "698ee745",
   "metadata": {},
   "outputs": [],
   "source": [
    "sf_stacked = sf_stacked[sf_stacked['income'].notna()]"
   ]
  },
  {
   "cell_type": "code",
   "execution_count": null,
   "id": "f34e8e1e",
   "metadata": {},
   "outputs": [],
   "source": [
    "# add a lower and upper range for the bins in pd.cut\n",
    "#quartiles = [0] + quartiles + [float('inf')]"
   ]
  },
  {
   "cell_type": "code",
   "execution_count": null,
   "id": "5453a2a7",
   "metadata": {},
   "outputs": [],
   "source": [
    "# add a quartiles column to groups, using pd.cut\n",
    "#sf_stacked['income_quartiles'] = pd.cut(sf_stacked['income'], bins=quartiles, labels=['1stQ', '2ndQ', '3rdQ', '4thQ'])"
   ]
  },
  {
   "cell_type": "code",
   "execution_count": 52,
   "id": "11864852",
   "metadata": {},
   "outputs": [],
   "source": [
    "sf_stacked['socialCarbonCost'] = sf_stacked['emission_marginal']*185 # 51 or 102"
   ]
  },
  {
   "cell_type": "code",
   "execution_count": null,
   "id": "51098080",
   "metadata": {},
   "outputs": [],
   "source": [
    "# Drop unused columns\n",
    "sf_stacked = sf_stacked.drop(['home_is_urban', 'home_is_rural','median_value_of_time','tenure',\n",
    "                              'tenure_mover','emissionFood','emissionElectricity','emissionDiesel',\n",
    "                             'emissionGasoline','emissionBiodiesel','fuelFood','fuelElectricity',\n",
    "                             'fuelBiodiesel','fuel_not_Food','fuelDiesel','transit_rail','transit_bus',\n",
    "                             'ride_hail_pooled','transit_cable_car','transit_tram','transit_subway',\n",
    "                             'parkingType','transit_cable_car','transit_tram','transit_subway'], axis=1)"
   ]
  },
  {
   "cell_type": "code",
   "execution_count": null,
   "id": "c46124ee",
   "metadata": {},
   "outputs": [],
   "source": [
    "# Drop unused columns\n",
    "sf_stacked = sf_stacked.drop(['trip_count', 'mode_choice_actual_5','distance_mode_choice', 'person_sex',\n",
    "                              'income_in_thousands', 'TAZ_y', 'hh_income', 'socialCarbonCost',\n",
    "                              'income_quartiles','num_mand','free_parking_at_work','workplace_location_logsum',\n",
    "                             'workplace_taz','school_taz','home_taz','home_y', 'home_x', \n",
    "                             'TAZ_x','work_zone_id','work_at_home','race','race_id', 'school_zone_id',\n",
    "                             'edu','sex','earning','tour_mode_AS_tours', 'destination_x', 'origin_x', \n",
    "                             'primary_purpose_x','tour_id','household_id','person_id', 'trip_id', 'fuelGasoline'], axis=1)"
   ]
  },
  {
   "cell_type": "code",
   "execution_count": 61,
   "id": "42a54513",
   "metadata": {},
   "outputs": [],
   "source": [
    "# Drop unused columns\n",
    "sf_stacked = sf_stacked.drop(['fuelGasoline', 'duration_in_transit', 'distance_walking', 'distance_bike',\n",
    "                             'distance_ridehail', 'distance_bike', 'distance_privateCar', 'distance_transit', \n",
    "                              'duration_in_ridehail', 'duration_on_bike', 'duration_in_privateCar'], axis=1)"
   ]
  },
  {
   "cell_type": "code",
   "execution_count": 64,
   "id": "133a19de",
   "metadata": {},
   "outputs": [
    {
     "name": "stdout",
     "output_type": "stream",
     "text": [
      "CPU times: total: 0 ns\n",
      "Wall time: 0 ns\n"
     ]
    }
   ],
   "source": [
    "%%time\n",
    "#sf_stacked.to_csv('s3://beam-core-act/deepDive/CleanData/SanFrancisco/Stacked/sf_2018_stacked_rh_WAV.csv', index=False)"
   ]
  },
  {
   "cell_type": "code",
   "execution_count": 84,
   "id": "b3250a52",
   "metadata": {},
   "outputs": [],
   "source": [
    "import gcsfs\n",
    "from google.cloud import storage\n",
    "# Authenticate the GCS client\n",
    "client = storage.Client()"
   ]
  },
  {
   "cell_type": "code",
   "execution_count": 85,
   "id": "48c419a3",
   "metadata": {},
   "outputs": [],
   "source": [
    "# Specify the GCS bucket and file path\n",
    "bucket_name = 'beam-core-analysis'\n",
    "file_path = 'sf_2018_stacked_rh_WAV_20230603.csv'"
   ]
  },
  {
   "cell_type": "code",
   "execution_count": 80,
   "id": "ccb6a531",
   "metadata": {},
   "outputs": [],
   "source": [
    "# Convert the DataFrame to a CSV string\n",
    "csv_data = sf_stacked.to_csv(index=False)"
   ]
  },
  {
   "cell_type": "code",
   "execution_count": 87,
   "id": "023d8519",
   "metadata": {},
   "outputs": [
    {
     "ename": "MemoryError",
     "evalue": "",
     "output_type": "error",
     "traceback": [
      "\u001b[1;31m---------------------------------------------------------------------------\u001b[0m",
      "\u001b[1;31mMemoryError\u001b[0m                               Traceback (most recent call last)",
      "Input \u001b[1;32mIn [87]\u001b[0m, in \u001b[0;36m<cell line: 4>\u001b[1;34m()\u001b[0m\n\u001b[0;32m      2\u001b[0m bucket \u001b[38;5;241m=\u001b[39m client\u001b[38;5;241m.\u001b[39mget_bucket(bucket_name)\n\u001b[0;32m      3\u001b[0m blob \u001b[38;5;241m=\u001b[39m bucket\u001b[38;5;241m.\u001b[39mblob(file_path)\n\u001b[1;32m----> 4\u001b[0m \u001b[43mblob\u001b[49m\u001b[38;5;241;43m.\u001b[39;49m\u001b[43mupload_from_string\u001b[49m\u001b[43m(\u001b[49m\u001b[43mcsv_data\u001b[49m\u001b[43m,\u001b[49m\u001b[43m \u001b[49m\u001b[43mcontent_type\u001b[49m\u001b[38;5;241;43m=\u001b[39;49m\u001b[38;5;124;43m'\u001b[39;49m\u001b[38;5;124;43mtext/csv\u001b[39;49m\u001b[38;5;124;43m'\u001b[39;49m\u001b[43m)\u001b[49m\n",
      "File \u001b[1;32m~\\anaconda3\\envs\\BEAM-CORE\\lib\\site-packages\\google\\cloud\\storage\\blob.py:2838\u001b[0m, in \u001b[0;36mBlob.upload_from_string\u001b[1;34m(self, data, content_type, num_retries, client, predefined_acl, if_generation_match, if_generation_not_match, if_metageneration_match, if_metageneration_not_match, timeout, checksum, retry)\u001b[0m\n\u001b[0;32m   2724\u001b[0m \u001b[38;5;28;01mdef\u001b[39;00m \u001b[38;5;21mupload_from_string\u001b[39m(\n\u001b[0;32m   2725\u001b[0m     \u001b[38;5;28mself\u001b[39m,\n\u001b[0;32m   2726\u001b[0m     data,\n\u001b[1;32m   (...)\u001b[0m\n\u001b[0;32m   2737\u001b[0m     retry\u001b[38;5;241m=\u001b[39mDEFAULT_RETRY_IF_GENERATION_SPECIFIED,\n\u001b[0;32m   2738\u001b[0m ):\n\u001b[0;32m   2739\u001b[0m     \u001b[38;5;124;03m\"\"\"Upload contents of this blob from the provided string.\u001b[39;00m\n\u001b[0;32m   2740\u001b[0m \n\u001b[0;32m   2741\u001b[0m \u001b[38;5;124;03m    .. note::\u001b[39;00m\n\u001b[1;32m   (...)\u001b[0m\n\u001b[0;32m   2836\u001b[0m \u001b[38;5;124;03m        are respected.\u001b[39;00m\n\u001b[0;32m   2837\u001b[0m \u001b[38;5;124;03m    \"\"\"\u001b[39;00m\n\u001b[1;32m-> 2838\u001b[0m     data \u001b[38;5;241m=\u001b[39m \u001b[43m_to_bytes\u001b[49m\u001b[43m(\u001b[49m\u001b[43mdata\u001b[49m\u001b[43m,\u001b[49m\u001b[43m \u001b[49m\u001b[43mencoding\u001b[49m\u001b[38;5;241;43m=\u001b[39;49m\u001b[38;5;124;43m\"\u001b[39;49m\u001b[38;5;124;43mutf-8\u001b[39;49m\u001b[38;5;124;43m\"\u001b[39;49m\u001b[43m)\u001b[49m\n\u001b[0;32m   2839\u001b[0m     string_buffer \u001b[38;5;241m=\u001b[39m BytesIO(data)\n\u001b[0;32m   2840\u001b[0m     \u001b[38;5;28mself\u001b[39m\u001b[38;5;241m.\u001b[39mupload_from_file(\n\u001b[0;32m   2841\u001b[0m         file_obj\u001b[38;5;241m=\u001b[39mstring_buffer,\n\u001b[0;32m   2842\u001b[0m         size\u001b[38;5;241m=\u001b[39m\u001b[38;5;28mlen\u001b[39m(data),\n\u001b[1;32m   (...)\u001b[0m\n\u001b[0;32m   2853\u001b[0m         retry\u001b[38;5;241m=\u001b[39mretry,\n\u001b[0;32m   2854\u001b[0m     )\n",
      "File \u001b[1;32m~\\anaconda3\\envs\\BEAM-CORE\\lib\\site-packages\\google\\cloud\\_helpers\\__init__.py:329\u001b[0m, in \u001b[0;36m_to_bytes\u001b[1;34m(value, encoding)\u001b[0m\n\u001b[0;32m    310\u001b[0m \u001b[38;5;28;01mdef\u001b[39;00m \u001b[38;5;21m_to_bytes\u001b[39m(value, encoding\u001b[38;5;241m=\u001b[39m\u001b[38;5;124m\"\u001b[39m\u001b[38;5;124mascii\u001b[39m\u001b[38;5;124m\"\u001b[39m):\n\u001b[0;32m    311\u001b[0m     \u001b[38;5;124;03m\"\"\"Converts a string value to bytes, if necessary.\u001b[39;00m\n\u001b[0;32m    312\u001b[0m \n\u001b[0;32m    313\u001b[0m \u001b[38;5;124;03m    :type value: str / bytes or unicode\u001b[39;00m\n\u001b[1;32m   (...)\u001b[0m\n\u001b[0;32m    327\u001b[0m \u001b[38;5;124;03m    :raises TypeError: if the value could not be converted to bytes.\u001b[39;00m\n\u001b[0;32m    328\u001b[0m \u001b[38;5;124;03m    \"\"\"\u001b[39;00m\n\u001b[1;32m--> 329\u001b[0m     result \u001b[38;5;241m=\u001b[39m \u001b[43mvalue\u001b[49m\u001b[38;5;241;43m.\u001b[39;49m\u001b[43mencode\u001b[49m\u001b[43m(\u001b[49m\u001b[43mencoding\u001b[49m\u001b[43m)\u001b[49m \u001b[38;5;28;01mif\u001b[39;00m \u001b[38;5;28misinstance\u001b[39m(value, \u001b[38;5;28mstr\u001b[39m) \u001b[38;5;28;01melse\u001b[39;00m value\n\u001b[0;32m    330\u001b[0m     \u001b[38;5;28;01mif\u001b[39;00m \u001b[38;5;28misinstance\u001b[39m(result, \u001b[38;5;28mbytes\u001b[39m):\n\u001b[0;32m    331\u001b[0m         \u001b[38;5;28;01mreturn\u001b[39;00m result\n",
      "\u001b[1;31mMemoryError\u001b[0m: "
     ]
    }
   ],
   "source": [
    "# Upload the CSV data to GCS\n",
    "bucket = client.get_bucket(bucket_name)\n",
    "blob = bucket.blob(file_path)\n",
    "blob.upload_from_string(csv_data, content_type='text/csv')"
   ]
  },
  {
   "cell_type": "code",
   "execution_count": null,
   "id": "f08b313b",
   "metadata": {
    "scrolled": false
   },
   "outputs": [],
   "source": [
    "%%time\n",
    "sf_stacked.to_csv('gs://beam-core-analysis/stacked/sf_2018_stacked_rh_WAV_20230603.csv', index=False)"
   ]
  },
  {
   "cell_type": "code",
   "execution_count": null,
   "id": "470bbf23",
   "metadata": {},
   "outputs": [],
   "source": []
  }
 ],
 "metadata": {
  "kernelspec": {
   "display_name": "Python 3 (ipykernel)",
   "language": "python",
   "name": "python3"
  },
  "language_info": {
   "codemirror_mode": {
    "name": "ipython",
    "version": 3
   },
   "file_extension": ".py",
   "mimetype": "text/x-python",
   "name": "python",
   "nbconvert_exporter": "python",
   "pygments_lexer": "ipython3",
   "version": "3.9.7"
  },
  "toc": {
   "base_numbering": 1,
   "nav_menu": {},
   "number_sections": true,
   "sideBar": true,
   "skip_h1_title": false,
   "title_cell": "Table of Contents",
   "title_sidebar": "Contents",
   "toc_cell": false,
   "toc_position": {},
   "toc_section_display": true,
   "toc_window_display": false
  },
  "varInspector": {
   "cols": {
    "lenName": 16,
    "lenType": 16,
    "lenVar": 40
   },
   "kernels_config": {
    "python": {
     "delete_cmd_postfix": "",
     "delete_cmd_prefix": "del ",
     "library": "var_list.py",
     "varRefreshCmd": "print(var_dic_list())"
    },
    "r": {
     "delete_cmd_postfix": ") ",
     "delete_cmd_prefix": "rm(",
     "library": "var_list.r",
     "varRefreshCmd": "cat(var_dic_list()) "
    }
   },
   "types_to_exclude": [
    "module",
    "function",
    "builtin_function_or_method",
    "instance",
    "_Feature"
   ],
   "window_display": false
  }
 },
 "nbformat": 4,
 "nbformat_minor": 5
}
