{
 "cells": [
  {
   "cell_type": "code",
   "execution_count": 1,
   "id": "c0f71a2c",
   "metadata": {},
   "outputs": [],
   "source": [
    "import os\n",
    "import os.path as op\n",
    "import numpy as np\n",
    "import pandas as pd\n",
    "import matplotlib.pyplot as plt\n",
    "import matplotlib.colors as mcolors\n",
    "%matplotlib inline\n",
    "import seaborn as sns\n",
    "sns.set_theme(style=\"darkgrid\", color_codes=True)\n",
    "sns.set(font_scale=1.35, style=\"ticks\") #set styling preferences\n",
    "import statsmodels.api as sm\n",
    "from scipy import stats\n",
    "import math\n",
    "from math import pi\n",
    "from pandas.api.types import is_string_dtype\n",
    "from pandas.api.types import is_numeric_dtype\n",
    "from scipy.spatial.distance import cdist\n",
    "from scipy.cluster.vq import kmeans2,vq, whiten\n",
    "import geopandas as gpd\n",
    "import h5py\n",
    "import boto.s3\n",
    "import glob\n",
    "import boto3\n",
    "from zipfile import ZipFile\n",
    "import shutil"
   ]
  },
  {
   "cell_type": "code",
   "execution_count": 2,
   "id": "1c4d781d",
   "metadata": {},
   "outputs": [],
   "source": [
    "# Show all columns and rows\n",
    "pd.options.display.max_columns = None\n",
    "pd.options.display.max_rows = None"
   ]
  },
  {
   "cell_type": "markdown",
   "id": "cd2c6de5",
   "metadata": {},
   "source": [
    "#### Baseline"
   ]
  },
  {
   "cell_type": "code",
   "execution_count": 3,
   "id": "82484592",
   "metadata": {},
   "outputs": [
    {
     "name": "stderr",
     "output_type": "stream",
     "text": [
      "<timed exec>:1: DtypeWarning: Columns (77,131,138,139,140,141,142,143,144,145,146,147,148,149,150,151,152,153,154,155,156,158,167,172,174,175,176,177,179,180,237,238,239,240,249) have mixed types. Specify dtype option on import or set low_memory=False.\n"
     ]
    },
    {
     "name": "stdout",
     "output_type": "stream",
     "text": [
      "CPU times: total: 1min 51s\n",
      "Wall time: 2min 25s\n"
     ]
    }
   ],
   "source": [
    "%%time\n",
    "eventsSF = pd.read_csv('gs://beam-core-outputs/wheelchair-feb2023/sfbay-10pop-1fleet/inexus/sfbay_baseline_default-1.0_2021__20230319.csv.gz', compression = 'gzip')"
   ]
  },
  {
   "cell_type": "code",
   "execution_count": 4,
   "id": "47ab2ad4",
   "metadata": {},
   "outputs": [],
   "source": [
    "# Adding scenario info\n",
    "eventsSF['scenario'] = \"baseline\"\n",
    "eventsSF['scenario'] = eventsSF['scenario'].astype(\"category\")\n",
    "eventsSF['lever'] = \"default\"\n",
    "eventsSF['lever'] = eventsSF['lever'].astype(\"category\")\n",
    "eventsSF['year'] = 2018\n",
    "eventsSF['lever_position_fltsz'] = 0.01"
   ]
  },
  {
   "cell_type": "code",
   "execution_count": 5,
   "id": "61204995",
   "metadata": {},
   "outputs": [],
   "source": [
    "#baseline2018 = \"https://beam-core-act.s3.amazonaws.com/beam-outputs/pilates-outputs/sfbay-baseline-20221220/inexus\"\n",
    "#sfbase = pd.read_csv(baseline2018 + 'sfbay_baseline_default-1.0_2012__20221219.csv.gz')"
   ]
  },
  {
   "cell_type": "code",
   "execution_count": 6,
   "id": "f43e2823",
   "metadata": {},
   "outputs": [],
   "source": [
    "# Showing the entire number in dataframe\n",
    "pd.set_option('float_format', '{:f}'.format)"
   ]
  },
  {
   "cell_type": "code",
   "execution_count": 8,
   "id": "5e55a558",
   "metadata": {},
   "outputs": [],
   "source": [
    "#describe = sfbase.describe()"
   ]
  },
  {
   "cell_type": "code",
   "execution_count": 9,
   "id": "2c224a67",
   "metadata": {},
   "outputs": [],
   "source": [
    "#describe.to_csv('C:/Shared-Work/Data/CleanData/ASIM_BEAM_Merged/describe.csv')"
   ]
  },
  {
   "cell_type": "markdown",
   "id": "71810912",
   "metadata": {},
   "source": [
    "#### Ridehail Price Scenarios"
   ]
  },
  {
   "cell_type": "code",
   "execution_count": 7,
   "id": "ee819272",
   "metadata": {},
   "outputs": [
    {
     "name": "stderr",
     "output_type": "stream",
     "text": [
      "<timed exec>:1: DtypeWarning: Columns (77,131,138,139,140,141,142,143,144,145,146,147,148,149,150,151,152,153,154,155,156,158,167,172,174,175,176,177,179,180,237,238,239,240,249) have mixed types. Specify dtype option on import or set low_memory=False.\n"
     ]
    },
    {
     "name": "stdout",
     "output_type": "stream",
     "text": [
      "CPU times: total: 2min 39s\n",
      "Wall time: 3min 6s\n"
     ]
    }
   ],
   "source": [
    "%%time\n",
    "sf_wav_5 = pd.read_csv('gs://beam-core-outputs/wheelchair-feb2023/sfbay-10pop-5fleet/inexus/sfbay_baseline_default-1.0_2021__20230211.csv.gz', compression = 'gzip')"
   ]
  },
  {
   "cell_type": "code",
   "execution_count": 8,
   "id": "23d634d2",
   "metadata": {},
   "outputs": [],
   "source": [
    "# Adding scenario info\n",
    "sf_wav_5['scenario'] = \"ridehail\"\n",
    "sf_wav_5['scenario'] = sf_wav_5['scenario'].astype(\"category\")\n",
    "sf_wav_5['lever'] = \"WAV\"\n",
    "sf_wav_5['lever'] = sf_wav_5['lever'].astype(\"category\")\n",
    "sf_wav_5['year'] = 2018\n",
    "sf_wav_5['lever_position_fltsz'] = 0.05"
   ]
  },
  {
   "cell_type": "code",
   "execution_count": 9,
   "id": "68c491ef",
   "metadata": {},
   "outputs": [
    {
     "name": "stderr",
     "output_type": "stream",
     "text": [
      "<timed exec>:1: DtypeWarning: Columns (77,131,138,139,140,141,142,143,144,145,146,147,148,149,150,151,152,153,154,155,156,158,167,172,174,175,176,177,179,180,237,238,239,240,249) have mixed types. Specify dtype option on import or set low_memory=False.\n"
     ]
    },
    {
     "name": "stdout",
     "output_type": "stream",
     "text": [
      "CPU times: total: 3min 35s\n",
      "Wall time: 3min 57s\n"
     ]
    }
   ],
   "source": [
    "%%time\n",
    "sf_wav_10 = pd.read_csv('gs://beam-core-outputs/wheelchair-feb2023/sfbay-10pop-10fleet/inexus/sfbay_baseline_default-1.0_2021__20230208.csv.gz', compression = 'gzip')"
   ]
  },
  {
   "cell_type": "code",
   "execution_count": 10,
   "id": "bfa66f8b",
   "metadata": {},
   "outputs": [],
   "source": [
    "# Adding scenario info\n",
    "sf_wav_10['scenario'] = \"ridehail\"\n",
    "sf_wav_10['scenario'] = sf_wav_10['scenario'].astype(\"category\")\n",
    "sf_wav_10['lever'] = \"WAV\"\n",
    "sf_wav_10['lever'] = sf_wav_10['lever'].astype(\"category\")\n",
    "sf_wav_10['year'] = 2018\n",
    "sf_wav_10['lever_position_fltsz'] = 0.1"
   ]
  },
  {
   "cell_type": "code",
   "execution_count": 11,
   "id": "267a7cbf",
   "metadata": {},
   "outputs": [
    {
     "name": "stderr",
     "output_type": "stream",
     "text": [
      "<timed exec>:1: DtypeWarning: Columns (77,131,138,139,140,141,142,143,144,145,146,147,148,149,150,151,152,153,154,155,156,158,167,172,174,175,176,177,179,180,237,238,239,240,249) have mixed types. Specify dtype option on import or set low_memory=False.\n"
     ]
    },
    {
     "name": "stdout",
     "output_type": "stream",
     "text": [
      "CPU times: total: 4min 8s\n",
      "Wall time: 4min 29s\n"
     ]
    }
   ],
   "source": [
    "%%time\n",
    "sf_wav_50 = pd.read_csv('gs://beam-core-outputs/wheelchair-feb2023/sfbay-10pop-50fleet/inexus/sfbay_baseline_default-1.0_2021__20230211.csv.gz', compression = 'gzip')"
   ]
  },
  {
   "cell_type": "code",
   "execution_count": 12,
   "id": "886c7d7c",
   "metadata": {},
   "outputs": [],
   "source": [
    "# Adding scenario info\n",
    "sf_wav_50['scenario'] = \"ridehail\"\n",
    "sf_wav_50['scenario'] = sf_wav_50['scenario'].astype(\"category\")\n",
    "sf_wav_50['lever'] = \"WAV\"\n",
    "sf_wav_50['lever'] = sf_wav_50['lever'].astype(\"category\")\n",
    "sf_wav_50['year'] = 2018\n",
    "sf_wav_50['lever_position_fltsz'] = 0.5"
   ]
  },
  {
   "cell_type": "code",
   "execution_count": 13,
   "id": "4dd80446",
   "metadata": {},
   "outputs": [
    {
     "name": "stderr",
     "output_type": "stream",
     "text": [
      "<timed exec>:1: DtypeWarning: Columns (77,131,138,139,140,141,142,143,144,145,146,147,148,149,150,151,152,153,154,155,156,158,167,172,174,175,176,177,179,180,237,238,239,240,249) have mixed types. Specify dtype option on import or set low_memory=False.\n"
     ]
    },
    {
     "name": "stdout",
     "output_type": "stream",
     "text": [
      "CPU times: total: 4min 35s\n",
      "Wall time: 5min 2s\n"
     ]
    }
   ],
   "source": [
    "%%time\n",
    "sf_wav_100 = pd.read_csv('gs://beam-core-outputs/wheelchair-feb2023/sfbay-10pop-100fleet/inexus/sfbay_baseline_default-1.0_2021__20230211.csv.gz', compression = 'gzip')"
   ]
  },
  {
   "cell_type": "code",
   "execution_count": 14,
   "id": "b25b633b",
   "metadata": {},
   "outputs": [],
   "source": [
    "# Adding scenario info\n",
    "sf_wav_100['scenario'] = \"ridehail\"\n",
    "sf_wav_100['scenario'] = sf_wav_100['scenario'].astype(\"category\")\n",
    "sf_wav_100['lever'] = \"WAV\"\n",
    "sf_wav_100['lever'] = sf_wav_100['lever'].astype(\"category\")\n",
    "sf_wav_100['year'] = 2018\n",
    "sf_wav_100['lever_position_fltsz'] = 1"
   ]
  },
  {
   "cell_type": "code",
   "execution_count": 15,
   "id": "45e25cb2",
   "metadata": {},
   "outputs": [],
   "source": [
    "#sf_rh_flsz_175 = sf_rh_flsz_175.drop(sf_rh_flsz_175.columns[233:235], axis=1)"
   ]
  },
  {
   "cell_type": "code",
   "execution_count": 16,
   "id": "8f37acdc",
   "metadata": {},
   "outputs": [],
   "source": [
    "frames = [eventsSF, sf_wav_5, sf_wav_10, sf_wav_50, sf_wav_100]\n",
    "sf_stacked = pd.concat(frames)"
   ]
  },
  {
   "cell_type": "code",
   "execution_count": 17,
   "id": "999f6040",
   "metadata": {},
   "outputs": [],
   "source": [
    "sf_stacked = sf_stacked.drop(['has_school_kid','has_preschool_kid','has_retiree','has_non_worker','adult','hispanic','relate',\n",
    "                             'pstudent','pemploy','ptype','p_hispanic','age_16_p','age_16_to_19',\n",
    "                             'person_age','MAR','hours','hispanic.1','student',\n",
    "                             'worker','stop_frequency','composition','tdd','number_of_participants','tour_type_count',\n",
    "                             'tour_type_num','tour_num','tour_count', 'outbound', 'trip_num','num_under16_not_at_school',\n",
    "                             'family','non_family','num_young_adults','num_college_age','num_children_16_to_17',\n",
    "                              'num_children_5_to_15','num_young_children'], axis=1)"
   ]
  },
  {
   "cell_type": "code",
   "execution_count": 18,
   "id": "ba8d8c6c",
   "metadata": {},
   "outputs": [],
   "source": [
    "sf_stacked = sf_stacked.drop(['vehicleIds_estimate','parent_tour_id','atwork_subtour_frequency','household_id_y',\n",
    "                              'male','female', 'has_driving_kid','has_full_time','has_part_time',\n",
    "                              'has_university','student_is_employed', 'nonstudent_to_school', 'is_student','is_gradeschool',\n",
    "                              'is_gradeschool','is_highschool','is_university','school_segment','is_worker',  \n",
    "                              'distance_to_school','roundtrip_auto_time_to_school',\n",
    "                              'distance_to_work','workplace_in_cbd', 'work_taz_area_type', 'hh_race_of_head',\n",
    "                             'roundtrip_auto_time_to_work','work_auto_savings_ratio','cdap_activity', 'travel_active', \n",
    "                              'under16_not_at_school','has_preschool_kid_at_home', 'gt2','hispanic_head',\n",
    "                             'has_school_kid_at_home','work_and_school_and_worker', 'age_of_head', 'race_of_head',\n",
    "                              'work_and_school_and_student', 'VEHICL','hh_children','hh_age_of_head','num_workers',\n",
    "                              'gt55','seniors', 'recent_mover', 'hh_workers', 'hispanic_status_of_head', 'hh_seniors', \n",
    "                             'hh_type', 'HHT', 'sample_rate', 'chunk_id', 'income_segment', 'num_non_workers', \n",
    "                             'num_drivers', 'num_adults', 'num_children', 'hh_work_auto_savings_ratio', 'num_travel_active', \n",
    "                             'num_travel_active_adults','num_travel_active_preschoolers', 'num_travel_active_children', \n",
    "                              'num_travel_active_non_preschoolers', 'participates_in_jtf_model', 'joint_tour_frequency',\n",
    "                              'num_hh_joint_tours'], axis=1)"
   ]
  },
  {
   "cell_type": "code",
   "execution_count": 19,
   "id": "8d1c6b28",
   "metadata": {},
   "outputs": [],
   "source": [
    "sf_stacked = sf_stacked.drop(['serialno'], axis=1)"
   ]
  },
  {
   "cell_type": "markdown",
   "id": "d4867114",
   "metadata": {},
   "source": [
    "#### Stacked File"
   ]
  },
  {
   "cell_type": "code",
   "execution_count": 20,
   "id": "9c0e0def",
   "metadata": {},
   "outputs": [],
   "source": [
    "#stacked_tr_fr_path = \"https://beam-core-act.s3.amazonaws.com/deepDive/CleanData/SanFrancisco/Stacked/\"\n",
    "#sf_stacked_tr_fr = pd.read_csv(stacked_tr_fr_path + 'sf_2018_stacked_tr_fr.csv')"
   ]
  },
  {
   "cell_type": "code",
   "execution_count": 21,
   "id": "8b7d1452",
   "metadata": {},
   "outputs": [],
   "source": [
    "sf_stacked = sf_stacked.sort_values(by=['IDMerged', 'tripIndex', 'lever_position_fltsz']).reset_index(drop=True)"
   ]
  },
  {
   "cell_type": "code",
   "execution_count": 22,
   "id": "f70826d1",
   "metadata": {},
   "outputs": [],
   "source": [
    "sf_stacked['lever_position_price'] = 1"
   ]
  },
  {
   "cell_type": "code",
   "execution_count": 23,
   "id": "2b7802f6",
   "metadata": {},
   "outputs": [
    {
     "name": "stdout",
     "output_type": "stream",
     "text": [
      "CPU times: total: 3.45 s\n",
      "Wall time: 3.45 s\n"
     ]
    }
   ],
   "source": [
    "%%time\n",
    "sf_stacked['logsum_relative_to_baseline'] = sf_stacked['logsum_trip_Potential_INEXUS'] - (sf_stacked['logsum_trip_Potential_INEXUS'].where(sf_stacked['lever_position_fltsz'].eq(0.01))\n",
    "                                                                                                  .groupby([sf_stacked['IDMerged'],sf_stacked['tripIndex']])\n",
    "                                                                                                   .transform('first')\n",
    "                                                                                                   .convert_dtypes())"
   ]
  },
  {
   "cell_type": "code",
   "execution_count": 24,
   "id": "2c4e35a6",
   "metadata": {},
   "outputs": [],
   "source": [
    "sf_stacked['door_to_door_time_relative_to_baseline'] = sf_stacked['duration_door_to_door'] - (sf_stacked['duration_door_to_door'].where(sf_stacked['lever_position_fltsz'].eq(0.01))\n",
    "                                                                                                  .groupby([sf_stacked['IDMerged'],sf_stacked['tripIndex']])\n",
    "                                                                                                   .transform('first')\n",
    "                                                                                                   .convert_dtypes())"
   ]
  },
  {
   "cell_type": "code",
   "execution_count": 25,
   "id": "4a4453b5",
   "metadata": {},
   "outputs": [],
   "source": [
    "# Drop unused columns\n",
    "sf_stacked = sf_stacked.drop(['sf_detached', 'household_id_x','destination_logsum_y','logsum_tours_mode_AS_tours',\n",
    "                              'primary_purpose_y','PNUM','work_auto_savings','mandatory_tour_frequency'], axis=1)"
   ]
  },
  {
   "cell_type": "code",
   "execution_count": 27,
   "id": "0d2e57e8",
   "metadata": {},
   "outputs": [
    {
     "data": {
      "text/plain": [
       "array([0.01, 0.05, 0.1 , 0.5 , 1.  ])"
      ]
     },
     "execution_count": 27,
     "metadata": {},
     "output_type": "execute_result"
    }
   ],
   "source": [
    "sf_stacked.lever_position_fltsz.unique()"
   ]
  },
  {
   "cell_type": "code",
   "execution_count": 28,
   "id": "476c23f4",
   "metadata": {
    "ExecuteTime": {
     "end_time": "2022-10-07T01:00:55.847360Z",
     "start_time": "2022-10-07T01:00:55.045071Z"
    }
   },
   "outputs": [
    {
     "data": {
      "text/plain": [
       "(107995, 171)"
      ]
     },
     "execution_count": 28,
     "metadata": {},
     "output_type": "execute_result"
    }
   ],
   "source": [
    "sf_stacked[sf_stacked['replanning_status'] > 0].shape"
   ]
  },
  {
   "cell_type": "code",
   "execution_count": 29,
   "id": "0111d8da",
   "metadata": {
    "ExecuteTime": {
     "end_time": "2022-10-07T01:01:09.566750Z",
     "start_time": "2022-10-07T01:01:08.396429Z"
    }
   },
   "outputs": [],
   "source": [
    "# Add the mandatory category column\n",
    "mandatory = ['work' , 'univ', 'school']\n",
    "sf_stacked['mandatoryCat'] = np.where((sf_stacked.actEndType.isin(mandatory)) & (sf_stacked.actStartType.isin(mandatory)), 'from_M_to_M' , None)"
   ]
  },
  {
   "cell_type": "code",
   "execution_count": 30,
   "id": "4ef447dd",
   "metadata": {
    "ExecuteTime": {
     "end_time": "2022-10-07T01:01:11.980472Z",
     "start_time": "2022-10-07T01:01:10.667391Z"
    }
   },
   "outputs": [],
   "source": [
    "sf_stacked['mandatoryCat'] = np.where((sf_stacked.actEndType == 'Home') & (sf_stacked.actStartType.isin(mandatory)), 'from_H_to_M' , sf_stacked['mandatoryCat'])"
   ]
  },
  {
   "cell_type": "code",
   "execution_count": 31,
   "id": "11c74ce2",
   "metadata": {
    "ExecuteTime": {
     "end_time": "2022-10-07T01:01:15.207664Z",
     "start_time": "2022-10-07T01:01:13.883857Z"
    }
   },
   "outputs": [],
   "source": [
    "sf_stacked['mandatoryCat'] = np.where((sf_stacked.actEndType.isin(mandatory)) & (sf_stacked.actStartType == \"Home\"), 'from_M_to_H' , sf_stacked['mandatoryCat'])"
   ]
  },
  {
   "cell_type": "code",
   "execution_count": 32,
   "id": "714163d9",
   "metadata": {
    "ExecuteTime": {
     "start_time": "2022-10-07T01:01:20.650Z"
    }
   },
   "outputs": [],
   "source": [
    "non_mandatory = ['othmaint' , 'othdiscr', 'escort', 'eatout', 'social', 'shopping', 'atwork']\n",
    "sf_stacked['mandatoryCat'] = np.where((sf_stacked.actEndType.isin(non_mandatory)) & (sf_stacked.actStartType.isin(non_mandatory)), 'from_N_to_N' , sf_stacked['mandatoryCat'])"
   ]
  },
  {
   "cell_type": "code",
   "execution_count": 33,
   "id": "7e184487",
   "metadata": {},
   "outputs": [],
   "source": [
    "# Drop unused columns\n",
    "sf_stacked = sf_stacked.drop(['num_work_tours','num_joint_tours', 'non_mandatory_tour_frequency',\n",
    "                                          'num_non_mand','num_escort_tours','num_eatout_tours','num_shop_tours',\n",
    "                                          'num_maint_tours','num_discr_tours','num_social_tours','num_non_escort_tours'], axis=1)"
   ]
  },
  {
   "cell_type": "code",
   "execution_count": 34,
   "id": "a747eb02",
   "metadata": {},
   "outputs": [],
   "source": [
    "#sf_stacked[sf_stacked['Realized_INEXUS'].isna()].head(10000).to_csv('C:/Shared-Work/Data/CleanData/ASIM_BEAM_Merged/realizedIN_empty.csv', index = False)"
   ]
  },
  {
   "cell_type": "code",
   "execution_count": 35,
   "id": "56093393",
   "metadata": {},
   "outputs": [],
   "source": [
    "#%%time\n",
    "#sf_stacked_tr_fr.to_csv('s3://beam-core-act/deepDive/CleanData/SanFrancisco/Stacked/sf_2018_stacked_tr_fr_v3.csv', index=False)"
   ]
  },
  {
   "cell_type": "code",
   "execution_count": 56,
   "id": "45ed6cef",
   "metadata": {},
   "outputs": [
    {
     "data": {
      "text/plain": [
       "(178102, 156)"
      ]
     },
     "execution_count": 56,
     "metadata": {},
     "output_type": "execute_result"
    }
   ],
   "source": [
    "sf_stacked[sf_stacked['SHARED3FREE'].isna()].shape"
   ]
  },
  {
   "cell_type": "code",
   "execution_count": 38,
   "id": "698ee745",
   "metadata": {},
   "outputs": [],
   "source": [
    "sf_stacked = sf_stacked[sf_stacked['income'].notna()]"
   ]
  },
  {
   "cell_type": "code",
   "execution_count": 39,
   "id": "86d28cc0",
   "metadata": {},
   "outputs": [
    {
     "ename": "KeyboardInterrupt",
     "evalue": "",
     "output_type": "error",
     "traceback": [
      "\u001b[1;31m---------------------------------------------------------------------------\u001b[0m",
      "\u001b[1;31mKeyboardInterrupt\u001b[0m                         Traceback (most recent call last)",
      "Input \u001b[1;32mIn [39]\u001b[0m, in \u001b[0;36m<cell line: 2>\u001b[1;34m()\u001b[0m\n\u001b[0;32m      1\u001b[0m \u001b[38;5;66;03m# Mapping BEAM and ASIM modes\u001b[39;00m\n\u001b[0;32m      2\u001b[0m conditions  \u001b[38;5;241m=\u001b[39m [(sf_stacked[\u001b[38;5;124m'\u001b[39m\u001b[38;5;124mmode_choice_actual_BEAM\u001b[39m\u001b[38;5;124m'\u001b[39m] \u001b[38;5;241m==\u001b[39m \u001b[38;5;124m'\u001b[39m\u001b[38;5;124mwalk\u001b[39m\u001b[38;5;124m'\u001b[39m)\u001b[38;5;241m&\u001b[39m(sf_stacked[\u001b[38;5;124m'\u001b[39m\u001b[38;5;124mtrip_mode_AS_trips\u001b[39m\u001b[38;5;124m'\u001b[39m] \u001b[38;5;241m==\u001b[39m \u001b[38;5;124m'\u001b[39m\u001b[38;5;124mWALK\u001b[39m\u001b[38;5;124m'\u001b[39m),\n\u001b[0;32m      3\u001b[0m                (sf_stacked[\u001b[38;5;124m'\u001b[39m\u001b[38;5;124mmode_choice_actual_BEAM\u001b[39m\u001b[38;5;124m'\u001b[39m] \u001b[38;5;241m==\u001b[39m \u001b[38;5;124m'\u001b[39m\u001b[38;5;124mbike\u001b[39m\u001b[38;5;124m'\u001b[39m)\u001b[38;5;241m&\u001b[39m(sf_stacked[\u001b[38;5;124m'\u001b[39m\u001b[38;5;124mtrip_mode_AS_trips\u001b[39m\u001b[38;5;124m'\u001b[39m] \u001b[38;5;241m==\u001b[39m \u001b[38;5;124m'\u001b[39m\u001b[38;5;124mBIKE\u001b[39m\u001b[38;5;124m'\u001b[39m),\n\u001b[0;32m      4\u001b[0m                (sf_stacked[\u001b[38;5;124m'\u001b[39m\u001b[38;5;124mmode_choice_actual_BEAM\u001b[39m\u001b[38;5;124m'\u001b[39m] \u001b[38;5;241m==\u001b[39m \u001b[38;5;124m'\u001b[39m\u001b[38;5;124mhov3_teleportation\u001b[39m\u001b[38;5;124m'\u001b[39m)\u001b[38;5;241m&\u001b[39m(sf_stacked[\u001b[38;5;124m'\u001b[39m\u001b[38;5;124mtrip_mode_AS_trips\u001b[39m\u001b[38;5;124m'\u001b[39m] \u001b[38;5;241m==\u001b[39m \u001b[38;5;124m'\u001b[39m\u001b[38;5;124mSHARED3FREE\u001b[39m\u001b[38;5;124m'\u001b[39m),\n\u001b[0;32m      5\u001b[0m                (sf_stacked[\u001b[38;5;124m'\u001b[39m\u001b[38;5;124mmode_choice_actual_BEAM\u001b[39m\u001b[38;5;124m'\u001b[39m] \u001b[38;5;241m==\u001b[39m \u001b[38;5;124m'\u001b[39m\u001b[38;5;124mhov3_teleportation\u001b[39m\u001b[38;5;124m'\u001b[39m)\u001b[38;5;241m&\u001b[39m(sf_stacked[\u001b[38;5;124m'\u001b[39m\u001b[38;5;124mtrip_mode_AS_trips\u001b[39m\u001b[38;5;124m'\u001b[39m] \u001b[38;5;241m==\u001b[39m \u001b[38;5;124m'\u001b[39m\u001b[38;5;124mSHARED3PAY\u001b[39m\u001b[38;5;124m'\u001b[39m),\n\u001b[0;32m      6\u001b[0m                (sf_stacked[\u001b[38;5;124m'\u001b[39m\u001b[38;5;124mmode_choice_actual_BEAM\u001b[39m\u001b[38;5;124m'\u001b[39m] \u001b[38;5;241m==\u001b[39m \u001b[38;5;124m'\u001b[39m\u001b[38;5;124mcar_hov3\u001b[39m\u001b[38;5;124m'\u001b[39m)\u001b[38;5;241m&\u001b[39m(sf_stacked[\u001b[38;5;124m'\u001b[39m\u001b[38;5;124mtrip_mode_AS_trips\u001b[39m\u001b[38;5;124m'\u001b[39m] \u001b[38;5;241m==\u001b[39m \u001b[38;5;124m'\u001b[39m\u001b[38;5;124mSHARED3FREE\u001b[39m\u001b[38;5;124m'\u001b[39m),\n\u001b[0;32m      7\u001b[0m                (sf_stacked[\u001b[38;5;124m'\u001b[39m\u001b[38;5;124mmode_choice_actual_BEAM\u001b[39m\u001b[38;5;124m'\u001b[39m] \u001b[38;5;241m==\u001b[39m \u001b[38;5;124m'\u001b[39m\u001b[38;5;124mcar_hov3\u001b[39m\u001b[38;5;124m'\u001b[39m)\u001b[38;5;241m&\u001b[39m(sf_stacked[\u001b[38;5;124m'\u001b[39m\u001b[38;5;124mtrip_mode_AS_trips\u001b[39m\u001b[38;5;124m'\u001b[39m] \u001b[38;5;241m==\u001b[39m \u001b[38;5;124m'\u001b[39m\u001b[38;5;124mSHARED3PAY\u001b[39m\u001b[38;5;124m'\u001b[39m),\n\u001b[1;32m----> 8\u001b[0m                (sf_stacked[\u001b[38;5;124m'\u001b[39m\u001b[38;5;124mmode_choice_actual_BEAM\u001b[39m\u001b[38;5;124m'\u001b[39m] \u001b[38;5;241m==\u001b[39m \u001b[38;5;124m'\u001b[39m\u001b[38;5;124mhov2_teleportation\u001b[39m\u001b[38;5;124m'\u001b[39m)\u001b[38;5;241m&\u001b[39m(\u001b[43msf_stacked\u001b[49m\u001b[43m[\u001b[49m\u001b[38;5;124;43m'\u001b[39;49m\u001b[38;5;124;43mtrip_mode_AS_trips\u001b[39;49m\u001b[38;5;124;43m'\u001b[39;49m\u001b[43m]\u001b[49m\u001b[43m \u001b[49m\u001b[38;5;241;43m==\u001b[39;49m\u001b[43m \u001b[49m\u001b[38;5;124;43m'\u001b[39;49m\u001b[38;5;124;43mSHARED2FREE\u001b[39;49m\u001b[38;5;124;43m'\u001b[39;49m),\n\u001b[0;32m      9\u001b[0m                (sf_stacked[\u001b[38;5;124m'\u001b[39m\u001b[38;5;124mmode_choice_actual_BEAM\u001b[39m\u001b[38;5;124m'\u001b[39m] \u001b[38;5;241m==\u001b[39m \u001b[38;5;124m'\u001b[39m\u001b[38;5;124mhov2_teleportation\u001b[39m\u001b[38;5;124m'\u001b[39m)\u001b[38;5;241m&\u001b[39m(sf_stacked[\u001b[38;5;124m'\u001b[39m\u001b[38;5;124mtrip_mode_AS_trips\u001b[39m\u001b[38;5;124m'\u001b[39m] \u001b[38;5;241m==\u001b[39m \u001b[38;5;124m'\u001b[39m\u001b[38;5;124mSHARED2PAY\u001b[39m\u001b[38;5;124m'\u001b[39m),\n\u001b[0;32m     10\u001b[0m                (sf_stacked[\u001b[38;5;124m'\u001b[39m\u001b[38;5;124mmode_choice_actual_BEAM\u001b[39m\u001b[38;5;124m'\u001b[39m] \u001b[38;5;241m==\u001b[39m \u001b[38;5;124m'\u001b[39m\u001b[38;5;124mcar_hov2\u001b[39m\u001b[38;5;124m'\u001b[39m)\u001b[38;5;241m&\u001b[39m(sf_stacked[\u001b[38;5;124m'\u001b[39m\u001b[38;5;124mtrip_mode_AS_trips\u001b[39m\u001b[38;5;124m'\u001b[39m] \u001b[38;5;241m==\u001b[39m \u001b[38;5;124m'\u001b[39m\u001b[38;5;124mSHARED2PAY\u001b[39m\u001b[38;5;124m'\u001b[39m),\n\u001b[0;32m     11\u001b[0m                (sf_stacked[\u001b[38;5;124m'\u001b[39m\u001b[38;5;124mmode_choice_actual_BEAM\u001b[39m\u001b[38;5;124m'\u001b[39m] \u001b[38;5;241m==\u001b[39m \u001b[38;5;124m'\u001b[39m\u001b[38;5;124mcar_hov2\u001b[39m\u001b[38;5;124m'\u001b[39m)\u001b[38;5;241m&\u001b[39m(sf_stacked[\u001b[38;5;124m'\u001b[39m\u001b[38;5;124mtrip_mode_AS_trips\u001b[39m\u001b[38;5;124m'\u001b[39m] \u001b[38;5;241m==\u001b[39m \u001b[38;5;124m'\u001b[39m\u001b[38;5;124mSHARED2FREE\u001b[39m\u001b[38;5;124m'\u001b[39m),\n\u001b[0;32m     12\u001b[0m                (sf_stacked[\u001b[38;5;124m'\u001b[39m\u001b[38;5;124mmode_choice_actual_BEAM\u001b[39m\u001b[38;5;124m'\u001b[39m] \u001b[38;5;241m==\u001b[39m \u001b[38;5;124m'\u001b[39m\u001b[38;5;124mcar\u001b[39m\u001b[38;5;124m'\u001b[39m)\u001b[38;5;241m&\u001b[39m(sf_stacked[\u001b[38;5;124m'\u001b[39m\u001b[38;5;124mtrip_mode_AS_trips\u001b[39m\u001b[38;5;124m'\u001b[39m] \u001b[38;5;241m==\u001b[39m \u001b[38;5;124m'\u001b[39m\u001b[38;5;124mDRIVEALONEFREE\u001b[39m\u001b[38;5;124m'\u001b[39m),\n\u001b[0;32m     13\u001b[0m                (sf_stacked[\u001b[38;5;124m'\u001b[39m\u001b[38;5;124mmode_choice_actual_BEAM\u001b[39m\u001b[38;5;124m'\u001b[39m] \u001b[38;5;241m==\u001b[39m \u001b[38;5;124m'\u001b[39m\u001b[38;5;124mcar\u001b[39m\u001b[38;5;124m'\u001b[39m)\u001b[38;5;241m&\u001b[39m(sf_stacked[\u001b[38;5;124m'\u001b[39m\u001b[38;5;124mtrip_mode_AS_trips\u001b[39m\u001b[38;5;124m'\u001b[39m] \u001b[38;5;241m==\u001b[39m \u001b[38;5;124m'\u001b[39m\u001b[38;5;124mDRIVEALONEPAY\u001b[39m\u001b[38;5;124m'\u001b[39m),\n\u001b[0;32m     14\u001b[0m                (sf_stacked[\u001b[38;5;124m'\u001b[39m\u001b[38;5;124mmode_choice_actual_BEAM\u001b[39m\u001b[38;5;124m'\u001b[39m] \u001b[38;5;241m==\u001b[39m \u001b[38;5;124m'\u001b[39m\u001b[38;5;124mwalk_transit\u001b[39m\u001b[38;5;124m'\u001b[39m)\u001b[38;5;241m&\u001b[39m(sf_stacked[\u001b[38;5;124m'\u001b[39m\u001b[38;5;124mtrip_mode_AS_trips\u001b[39m\u001b[38;5;124m'\u001b[39m] \u001b[38;5;241m==\u001b[39m \u001b[38;5;124m'\u001b[39m\u001b[38;5;124mWALK_LRF\u001b[39m\u001b[38;5;124m'\u001b[39m),\n\u001b[0;32m     15\u001b[0m                (sf_stacked[\u001b[38;5;124m'\u001b[39m\u001b[38;5;124mmode_choice_actual_BEAM\u001b[39m\u001b[38;5;124m'\u001b[39m] \u001b[38;5;241m==\u001b[39m \u001b[38;5;124m'\u001b[39m\u001b[38;5;124mwalk_transit\u001b[39m\u001b[38;5;124m'\u001b[39m)\u001b[38;5;241m&\u001b[39m(sf_stacked[\u001b[38;5;124m'\u001b[39m\u001b[38;5;124mtrip_mode_AS_trips\u001b[39m\u001b[38;5;124m'\u001b[39m] \u001b[38;5;241m==\u001b[39m \u001b[38;5;124m'\u001b[39m\u001b[38;5;124mWALK_LOC\u001b[39m\u001b[38;5;124m'\u001b[39m),\n\u001b[0;32m     16\u001b[0m                (sf_stacked[\u001b[38;5;124m'\u001b[39m\u001b[38;5;124mmode_choice_actual_BEAM\u001b[39m\u001b[38;5;124m'\u001b[39m] \u001b[38;5;241m==\u001b[39m \u001b[38;5;124m'\u001b[39m\u001b[38;5;124mwalk_transit\u001b[39m\u001b[38;5;124m'\u001b[39m)\u001b[38;5;241m&\u001b[39m(sf_stacked[\u001b[38;5;124m'\u001b[39m\u001b[38;5;124mtrip_mode_AS_trips\u001b[39m\u001b[38;5;124m'\u001b[39m] \u001b[38;5;241m==\u001b[39m \u001b[38;5;124m'\u001b[39m\u001b[38;5;124mWALK_EXP\u001b[39m\u001b[38;5;124m'\u001b[39m),\n\u001b[0;32m     17\u001b[0m                (sf_stacked[\u001b[38;5;124m'\u001b[39m\u001b[38;5;124mmode_choice_actual_BEAM\u001b[39m\u001b[38;5;124m'\u001b[39m] \u001b[38;5;241m==\u001b[39m \u001b[38;5;124m'\u001b[39m\u001b[38;5;124mwalk_transit\u001b[39m\u001b[38;5;124m'\u001b[39m)\u001b[38;5;241m&\u001b[39m(sf_stacked[\u001b[38;5;124m'\u001b[39m\u001b[38;5;124mtrip_mode_AS_trips\u001b[39m\u001b[38;5;124m'\u001b[39m] \u001b[38;5;241m==\u001b[39m \u001b[38;5;124m'\u001b[39m\u001b[38;5;124mWALK_HVY\u001b[39m\u001b[38;5;124m'\u001b[39m),\n\u001b[0;32m     18\u001b[0m                (sf_stacked[\u001b[38;5;124m'\u001b[39m\u001b[38;5;124mmode_choice_actual_BEAM\u001b[39m\u001b[38;5;124m'\u001b[39m] \u001b[38;5;241m==\u001b[39m \u001b[38;5;124m'\u001b[39m\u001b[38;5;124mwalk_transit\u001b[39m\u001b[38;5;124m'\u001b[39m)\u001b[38;5;241m&\u001b[39m(sf_stacked[\u001b[38;5;124m'\u001b[39m\u001b[38;5;124mtrip_mode_AS_trips\u001b[39m\u001b[38;5;124m'\u001b[39m] \u001b[38;5;241m==\u001b[39m \u001b[38;5;124m'\u001b[39m\u001b[38;5;124mWALK_COM\u001b[39m\u001b[38;5;124m'\u001b[39m),\n\u001b[0;32m     19\u001b[0m                (sf_stacked[\u001b[38;5;124m'\u001b[39m\u001b[38;5;124mmode_choice_actual_BEAM\u001b[39m\u001b[38;5;124m'\u001b[39m] \u001b[38;5;241m==\u001b[39m \u001b[38;5;124m'\u001b[39m\u001b[38;5;124mride_hail\u001b[39m\u001b[38;5;124m'\u001b[39m)\u001b[38;5;241m&\u001b[39m(sf_stacked[\u001b[38;5;124m'\u001b[39m\u001b[38;5;124mtrip_mode_AS_trips\u001b[39m\u001b[38;5;124m'\u001b[39m] \u001b[38;5;241m==\u001b[39m \u001b[38;5;124m'\u001b[39m\u001b[38;5;124mTNC_SINGLE\u001b[39m\u001b[38;5;124m'\u001b[39m),\n\u001b[0;32m     20\u001b[0m                (sf_stacked[\u001b[38;5;124m'\u001b[39m\u001b[38;5;124mmode_choice_actual_BEAM\u001b[39m\u001b[38;5;124m'\u001b[39m] \u001b[38;5;241m==\u001b[39m \u001b[38;5;124m'\u001b[39m\u001b[38;5;124mride_hail\u001b[39m\u001b[38;5;124m'\u001b[39m)\u001b[38;5;241m&\u001b[39m(sf_stacked[\u001b[38;5;124m'\u001b[39m\u001b[38;5;124mtrip_mode_AS_trips\u001b[39m\u001b[38;5;124m'\u001b[39m] \u001b[38;5;241m==\u001b[39m \u001b[38;5;124m'\u001b[39m\u001b[38;5;124mTNC_SHARED\u001b[39m\u001b[38;5;124m'\u001b[39m),\n\u001b[0;32m     21\u001b[0m                (sf_stacked[\u001b[38;5;124m'\u001b[39m\u001b[38;5;124mmode_choice_actual_BEAM\u001b[39m\u001b[38;5;124m'\u001b[39m] \u001b[38;5;241m==\u001b[39m \u001b[38;5;124m'\u001b[39m\u001b[38;5;124mride_hail\u001b[39m\u001b[38;5;124m'\u001b[39m)\u001b[38;5;241m&\u001b[39m(sf_stacked[\u001b[38;5;124m'\u001b[39m\u001b[38;5;124mtrip_mode_AS_trips\u001b[39m\u001b[38;5;124m'\u001b[39m] \u001b[38;5;241m==\u001b[39m \u001b[38;5;124m'\u001b[39m\u001b[38;5;124mTAXI\u001b[39m\u001b[38;5;124m'\u001b[39m),\n\u001b[0;32m     22\u001b[0m                (sf_stacked[\u001b[38;5;124m'\u001b[39m\u001b[38;5;124mmode_choice_actual_BEAM\u001b[39m\u001b[38;5;124m'\u001b[39m] \u001b[38;5;241m==\u001b[39m \u001b[38;5;124m'\u001b[39m\u001b[38;5;124mdrive_transit\u001b[39m\u001b[38;5;124m'\u001b[39m)\u001b[38;5;241m&\u001b[39m(sf_stacked[\u001b[38;5;124m'\u001b[39m\u001b[38;5;124mtrip_mode_AS_trips\u001b[39m\u001b[38;5;124m'\u001b[39m] \u001b[38;5;241m==\u001b[39m \u001b[38;5;124m'\u001b[39m\u001b[38;5;124mDRIVE_COM\u001b[39m\u001b[38;5;124m'\u001b[39m),\n\u001b[0;32m     23\u001b[0m                (sf_stacked[\u001b[38;5;124m'\u001b[39m\u001b[38;5;124mmode_choice_actual_BEAM\u001b[39m\u001b[38;5;124m'\u001b[39m] \u001b[38;5;241m==\u001b[39m \u001b[38;5;124m'\u001b[39m\u001b[38;5;124mdrive_transit\u001b[39m\u001b[38;5;124m'\u001b[39m)\u001b[38;5;241m&\u001b[39m(sf_stacked[\u001b[38;5;124m'\u001b[39m\u001b[38;5;124mtrip_mode_AS_trips\u001b[39m\u001b[38;5;124m'\u001b[39m] \u001b[38;5;241m==\u001b[39m \u001b[38;5;124m'\u001b[39m\u001b[38;5;124mDRIVE_LRF\u001b[39m\u001b[38;5;124m'\u001b[39m),\n\u001b[0;32m     24\u001b[0m                (sf_stacked[\u001b[38;5;124m'\u001b[39m\u001b[38;5;124mmode_choice_actual_BEAM\u001b[39m\u001b[38;5;124m'\u001b[39m] \u001b[38;5;241m==\u001b[39m \u001b[38;5;124m'\u001b[39m\u001b[38;5;124mdrive_transit\u001b[39m\u001b[38;5;124m'\u001b[39m)\u001b[38;5;241m&\u001b[39m(sf_stacked[\u001b[38;5;124m'\u001b[39m\u001b[38;5;124mtrip_mode_AS_trips\u001b[39m\u001b[38;5;124m'\u001b[39m] \u001b[38;5;241m==\u001b[39m \u001b[38;5;124m'\u001b[39m\u001b[38;5;124mDRIVE_LOC\u001b[39m\u001b[38;5;124m'\u001b[39m),\n\u001b[0;32m     25\u001b[0m                (sf_stacked[\u001b[38;5;124m'\u001b[39m\u001b[38;5;124mmode_choice_actual_BEAM\u001b[39m\u001b[38;5;124m'\u001b[39m] \u001b[38;5;241m==\u001b[39m \u001b[38;5;124m'\u001b[39m\u001b[38;5;124mdrive_transit\u001b[39m\u001b[38;5;124m'\u001b[39m)\u001b[38;5;241m&\u001b[39m(sf_stacked[\u001b[38;5;124m'\u001b[39m\u001b[38;5;124mtrip_mode_AS_trips\u001b[39m\u001b[38;5;124m'\u001b[39m] \u001b[38;5;241m==\u001b[39m \u001b[38;5;124m'\u001b[39m\u001b[38;5;124mDRIVE_EXP\u001b[39m\u001b[38;5;124m'\u001b[39m),\n\u001b[0;32m     26\u001b[0m                (sf_stacked[\u001b[38;5;124m'\u001b[39m\u001b[38;5;124mmode_choice_actual_BEAM\u001b[39m\u001b[38;5;124m'\u001b[39m] \u001b[38;5;241m==\u001b[39m \u001b[38;5;124m'\u001b[39m\u001b[38;5;124mdrive_transit\u001b[39m\u001b[38;5;124m'\u001b[39m)\u001b[38;5;241m&\u001b[39m(sf_stacked[\u001b[38;5;124m'\u001b[39m\u001b[38;5;124mtrip_mode_AS_trips\u001b[39m\u001b[38;5;124m'\u001b[39m] \u001b[38;5;241m==\u001b[39m \u001b[38;5;124m'\u001b[39m\u001b[38;5;124mDRIVE_HVY\u001b[39m\u001b[38;5;124m'\u001b[39m),\n\u001b[0;32m     27\u001b[0m                (sf_stacked[\u001b[38;5;124m'\u001b[39m\u001b[38;5;124mmode_choice_actual_BEAM\u001b[39m\u001b[38;5;124m'\u001b[39m] \u001b[38;5;241m==\u001b[39m \u001b[38;5;124m'\u001b[39m\u001b[38;5;124mride_hail_pooled\u001b[39m\u001b[38;5;124m'\u001b[39m)\u001b[38;5;241m&\u001b[39m(sf_stacked[\u001b[38;5;124m'\u001b[39m\u001b[38;5;124mtrip_mode_AS_trips\u001b[39m\u001b[38;5;124m'\u001b[39m] \u001b[38;5;241m==\u001b[39m \u001b[38;5;124m'\u001b[39m\u001b[38;5;124mTNC_SINGLE\u001b[39m\u001b[38;5;124m'\u001b[39m),\n\u001b[0;32m     28\u001b[0m                (sf_stacked[\u001b[38;5;124m'\u001b[39m\u001b[38;5;124mmode_choice_actual_BEAM\u001b[39m\u001b[38;5;124m'\u001b[39m] \u001b[38;5;241m==\u001b[39m \u001b[38;5;124m'\u001b[39m\u001b[38;5;124mride_hail_pooled\u001b[39m\u001b[38;5;124m'\u001b[39m)\u001b[38;5;241m&\u001b[39m(sf_stacked[\u001b[38;5;124m'\u001b[39m\u001b[38;5;124mtrip_mode_AS_trips\u001b[39m\u001b[38;5;124m'\u001b[39m] \u001b[38;5;241m==\u001b[39m \u001b[38;5;124m'\u001b[39m\u001b[38;5;124mTNC_SHARED\u001b[39m\u001b[38;5;124m'\u001b[39m),\n\u001b[0;32m     29\u001b[0m                (sf_stacked[\u001b[38;5;124m'\u001b[39m\u001b[38;5;124mmode_choice_actual_BEAM\u001b[39m\u001b[38;5;124m'\u001b[39m] \u001b[38;5;241m==\u001b[39m \u001b[38;5;124m'\u001b[39m\u001b[38;5;124mride_hail_pooled\u001b[39m\u001b[38;5;124m'\u001b[39m)\u001b[38;5;241m&\u001b[39m(sf_stacked[\u001b[38;5;124m'\u001b[39m\u001b[38;5;124mtrip_mode_AS_trips\u001b[39m\u001b[38;5;124m'\u001b[39m] \u001b[38;5;241m==\u001b[39m \u001b[38;5;124m'\u001b[39m\u001b[38;5;124mTAXI\u001b[39m\u001b[38;5;124m'\u001b[39m),\n\u001b[0;32m     30\u001b[0m        \n\u001b[0;32m     31\u001b[0m                (sf_stacked[\u001b[38;5;124m'\u001b[39m\u001b[38;5;124mmode_choice_actual_BEAM\u001b[39m\u001b[38;5;124m'\u001b[39m] \u001b[38;5;241m==\u001b[39m \u001b[38;5;124m'\u001b[39m\u001b[38;5;124mhov2_teleportation\u001b[39m\u001b[38;5;124m'\u001b[39m)\u001b[38;5;241m&\u001b[39m((sf_stacked[\u001b[38;5;124m'\u001b[39m\u001b[38;5;124mtrip_mode_AS_trips\u001b[39m\u001b[38;5;124m'\u001b[39m] \u001b[38;5;241m==\u001b[39m \u001b[38;5;124m'\u001b[39m\u001b[38;5;124mSHARED3FREE\u001b[39m\u001b[38;5;124m'\u001b[39m)\u001b[38;5;241m|\u001b[39m\n\u001b[0;32m     32\u001b[0m                (sf_stacked[\u001b[38;5;124m'\u001b[39m\u001b[38;5;124mtrip_mode_AS_trips\u001b[39m\u001b[38;5;124m'\u001b[39m] \u001b[38;5;241m==\u001b[39m \u001b[38;5;124m'\u001b[39m\u001b[38;5;124mSHARED3PAY\u001b[39m\u001b[38;5;124m'\u001b[39m)\u001b[38;5;241m|\u001b[39m(sf_stacked[\u001b[38;5;124m'\u001b[39m\u001b[38;5;124mtrip_mode_AS_trips\u001b[39m\u001b[38;5;124m'\u001b[39m] \u001b[38;5;241m==\u001b[39m \u001b[38;5;124m'\u001b[39m\u001b[38;5;124mDRIVEALONEFREE\u001b[39m\u001b[38;5;124m'\u001b[39m)\u001b[38;5;241m|\u001b[39m\n\u001b[0;32m     33\u001b[0m                (sf_stacked[\u001b[38;5;124m'\u001b[39m\u001b[38;5;124mtrip_mode_AS_trips\u001b[39m\u001b[38;5;124m'\u001b[39m] \u001b[38;5;241m==\u001b[39m \u001b[38;5;124m'\u001b[39m\u001b[38;5;124mDRIVEALONEPAY\u001b[39m\u001b[38;5;124m'\u001b[39m)),\n\u001b[0;32m     34\u001b[0m                \n\u001b[0;32m     35\u001b[0m                (sf_stacked[\u001b[38;5;124m'\u001b[39m\u001b[38;5;124mmode_choice_actual_BEAM\u001b[39m\u001b[38;5;124m'\u001b[39m] \u001b[38;5;241m==\u001b[39m \u001b[38;5;124m'\u001b[39m\u001b[38;5;124mcar_hov2\u001b[39m\u001b[38;5;124m'\u001b[39m)\u001b[38;5;241m&\u001b[39m((sf_stacked[\u001b[38;5;124m'\u001b[39m\u001b[38;5;124mtrip_mode_AS_trips\u001b[39m\u001b[38;5;124m'\u001b[39m] \u001b[38;5;241m==\u001b[39m \u001b[38;5;124m'\u001b[39m\u001b[38;5;124mSHARED3PAY\u001b[39m\u001b[38;5;124m'\u001b[39m)\u001b[38;5;241m|\u001b[39m\n\u001b[0;32m     36\u001b[0m                (sf_stacked[\u001b[38;5;124m'\u001b[39m\u001b[38;5;124mtrip_mode_AS_trips\u001b[39m\u001b[38;5;124m'\u001b[39m] \u001b[38;5;241m==\u001b[39m \u001b[38;5;124m'\u001b[39m\u001b[38;5;124mSHARED3FREE\u001b[39m\u001b[38;5;124m'\u001b[39m)\u001b[38;5;241m|\u001b[39m(sf_stacked[\u001b[38;5;124m'\u001b[39m\u001b[38;5;124mtrip_mode_AS_trips\u001b[39m\u001b[38;5;124m'\u001b[39m] \u001b[38;5;241m==\u001b[39m \u001b[38;5;124m'\u001b[39m\u001b[38;5;124mDRIVEALONEFREE\u001b[39m\u001b[38;5;124m'\u001b[39m)\u001b[38;5;241m|\u001b[39m\n\u001b[0;32m     37\u001b[0m                (sf_stacked[\u001b[38;5;124m'\u001b[39m\u001b[38;5;124mtrip_mode_AS_trips\u001b[39m\u001b[38;5;124m'\u001b[39m] \u001b[38;5;241m==\u001b[39m \u001b[38;5;124m'\u001b[39m\u001b[38;5;124mDRIVEALONEPAY\u001b[39m\u001b[38;5;124m'\u001b[39m)),\n\u001b[0;32m     38\u001b[0m                \n\u001b[0;32m     39\u001b[0m                (sf_stacked[\u001b[38;5;124m'\u001b[39m\u001b[38;5;124mmode_choice_actual_BEAM\u001b[39m\u001b[38;5;124m'\u001b[39m] \u001b[38;5;241m==\u001b[39m \u001b[38;5;124m'\u001b[39m\u001b[38;5;124mcar_hov3\u001b[39m\u001b[38;5;124m'\u001b[39m)\u001b[38;5;241m&\u001b[39m((sf_stacked[\u001b[38;5;124m'\u001b[39m\u001b[38;5;124mtrip_mode_AS_trips\u001b[39m\u001b[38;5;124m'\u001b[39m] \u001b[38;5;241m==\u001b[39m \u001b[38;5;124m'\u001b[39m\u001b[38;5;124mSHARED2PAY\u001b[39m\u001b[38;5;124m'\u001b[39m)\u001b[38;5;241m|\u001b[39m\n\u001b[0;32m     40\u001b[0m                (sf_stacked[\u001b[38;5;124m'\u001b[39m\u001b[38;5;124mtrip_mode_AS_trips\u001b[39m\u001b[38;5;124m'\u001b[39m] \u001b[38;5;241m==\u001b[39m \u001b[38;5;124m'\u001b[39m\u001b[38;5;124mSHARED2FREE\u001b[39m\u001b[38;5;124m'\u001b[39m)\u001b[38;5;241m|\u001b[39m(sf_stacked[\u001b[38;5;124m'\u001b[39m\u001b[38;5;124mtrip_mode_AS_trips\u001b[39m\u001b[38;5;124m'\u001b[39m] \u001b[38;5;241m==\u001b[39m \u001b[38;5;124m'\u001b[39m\u001b[38;5;124mDRIVEALONEFREE\u001b[39m\u001b[38;5;124m'\u001b[39m)\u001b[38;5;241m|\u001b[39m\n\u001b[0;32m     41\u001b[0m                (sf_stacked[\u001b[38;5;124m'\u001b[39m\u001b[38;5;124mtrip_mode_AS_trips\u001b[39m\u001b[38;5;124m'\u001b[39m] \u001b[38;5;241m==\u001b[39m \u001b[38;5;124m'\u001b[39m\u001b[38;5;124mDRIVEALONEPAY\u001b[39m\u001b[38;5;124m'\u001b[39m)),   \n\u001b[0;32m     42\u001b[0m                \n\u001b[0;32m     43\u001b[0m                (sf_stacked[\u001b[38;5;124m'\u001b[39m\u001b[38;5;124mmode_choice_actual_BEAM\u001b[39m\u001b[38;5;124m'\u001b[39m] \u001b[38;5;241m==\u001b[39m \u001b[38;5;124m'\u001b[39m\u001b[38;5;124mhov3_teleportation\u001b[39m\u001b[38;5;124m'\u001b[39m)\u001b[38;5;241m&\u001b[39m((sf_stacked[\u001b[38;5;124m'\u001b[39m\u001b[38;5;124mtrip_mode_AS_trips\u001b[39m\u001b[38;5;124m'\u001b[39m] \u001b[38;5;241m==\u001b[39m \u001b[38;5;124m'\u001b[39m\u001b[38;5;124mDRIVEALONEPAY\u001b[39m\u001b[38;5;124m'\u001b[39m)\u001b[38;5;241m|\u001b[39m\n\u001b[0;32m     44\u001b[0m                (sf_stacked[\u001b[38;5;124m'\u001b[39m\u001b[38;5;124mtrip_mode_AS_trips\u001b[39m\u001b[38;5;124m'\u001b[39m] \u001b[38;5;241m==\u001b[39m \u001b[38;5;124m'\u001b[39m\u001b[38;5;124mDRIVEALONEFREE\u001b[39m\u001b[38;5;124m'\u001b[39m)\u001b[38;5;241m|\u001b[39m(sf_stacked[\u001b[38;5;124m'\u001b[39m\u001b[38;5;124mtrip_mode_AS_trips\u001b[39m\u001b[38;5;124m'\u001b[39m] \u001b[38;5;241m==\u001b[39m \u001b[38;5;124m'\u001b[39m\u001b[38;5;124mSHARED2PAY\u001b[39m\u001b[38;5;124m'\u001b[39m)\u001b[38;5;241m|\u001b[39m(sf_stacked[\u001b[38;5;124m'\u001b[39m\u001b[38;5;124mtrip_mode_AS_trips\u001b[39m\u001b[38;5;124m'\u001b[39m] \u001b[38;5;241m==\u001b[39m \u001b[38;5;124m'\u001b[39m\u001b[38;5;124mSHARED2FREE\u001b[39m\u001b[38;5;124m'\u001b[39m)),\n\u001b[0;32m     45\u001b[0m                \n\u001b[0;32m     46\u001b[0m                (sf_stacked[\u001b[38;5;124m'\u001b[39m\u001b[38;5;124mmode_choice_actual_BEAM\u001b[39m\u001b[38;5;124m'\u001b[39m] \u001b[38;5;241m==\u001b[39m \u001b[38;5;124m'\u001b[39m\u001b[38;5;124mcar\u001b[39m\u001b[38;5;124m'\u001b[39m)\u001b[38;5;241m&\u001b[39m((sf_stacked[\u001b[38;5;124m'\u001b[39m\u001b[38;5;124mtrip_mode_AS_trips\u001b[39m\u001b[38;5;124m'\u001b[39m] \u001b[38;5;241m==\u001b[39m \u001b[38;5;124m'\u001b[39m\u001b[38;5;124mSHARED3FREE\u001b[39m\u001b[38;5;124m'\u001b[39m)\u001b[38;5;241m|\u001b[39m(sf_stacked[\u001b[38;5;124m'\u001b[39m\u001b[38;5;124mtrip_mode_AS_trips\u001b[39m\u001b[38;5;124m'\u001b[39m] \u001b[38;5;241m==\u001b[39m \u001b[38;5;124m'\u001b[39m\u001b[38;5;124mSHARED2FREE\u001b[39m\u001b[38;5;124m'\u001b[39m)\u001b[38;5;241m|\u001b[39m\n\u001b[0;32m     47\u001b[0m                (sf_stacked[\u001b[38;5;124m'\u001b[39m\u001b[38;5;124mtrip_mode_AS_trips\u001b[39m\u001b[38;5;124m'\u001b[39m] \u001b[38;5;241m==\u001b[39m \u001b[38;5;124m'\u001b[39m\u001b[38;5;124mSHARED3PAY\u001b[39m\u001b[38;5;124m'\u001b[39m)\u001b[38;5;241m|\u001b[39m(sf_stacked[\u001b[38;5;124m'\u001b[39m\u001b[38;5;124mtrip_mode_AS_trips\u001b[39m\u001b[38;5;124m'\u001b[39m] \u001b[38;5;241m==\u001b[39m \u001b[38;5;124m'\u001b[39m\u001b[38;5;124mSHARED2PAY\u001b[39m\u001b[38;5;124m'\u001b[39m)\u001b[38;5;241m|\u001b[39m(sf_stacked[\u001b[38;5;124m'\u001b[39m\u001b[38;5;124mtrip_mode_AS_trips\u001b[39m\u001b[38;5;124m'\u001b[39m] \u001b[38;5;241m==\u001b[39m \u001b[38;5;124m'\u001b[39m\u001b[38;5;124mDRIVE_LOC\u001b[39m\u001b[38;5;124m'\u001b[39m)\u001b[38;5;241m|\u001b[39m\n\u001b[0;32m     48\u001b[0m                (sf_stacked[\u001b[38;5;124m'\u001b[39m\u001b[38;5;124mtrip_mode_AS_trips\u001b[39m\u001b[38;5;124m'\u001b[39m] \u001b[38;5;241m==\u001b[39m \u001b[38;5;124m'\u001b[39m\u001b[38;5;124mDRIVE_LRF\u001b[39m\u001b[38;5;124m'\u001b[39m)\u001b[38;5;241m|\u001b[39m(sf_stacked[\u001b[38;5;124m'\u001b[39m\u001b[38;5;124mtrip_mode_AS_trips\u001b[39m\u001b[38;5;124m'\u001b[39m] \u001b[38;5;241m==\u001b[39m \u001b[38;5;124m'\u001b[39m\u001b[38;5;124mDRIVE_EXP\u001b[39m\u001b[38;5;124m'\u001b[39m)\u001b[38;5;241m|\u001b[39m\n\u001b[0;32m     49\u001b[0m                (sf_stacked[\u001b[38;5;124m'\u001b[39m\u001b[38;5;124mtrip_mode_AS_trips\u001b[39m\u001b[38;5;124m'\u001b[39m] \u001b[38;5;241m==\u001b[39m \u001b[38;5;124m'\u001b[39m\u001b[38;5;124mDRIVE_HVY\u001b[39m\u001b[38;5;124m'\u001b[39m)\u001b[38;5;241m|\u001b[39m(sf_stacked[\u001b[38;5;124m'\u001b[39m\u001b[38;5;124mtrip_mode_AS_trips\u001b[39m\u001b[38;5;124m'\u001b[39m] \u001b[38;5;241m==\u001b[39m \u001b[38;5;124m'\u001b[39m\u001b[38;5;124mDRIVE_COM\u001b[39m\u001b[38;5;124m'\u001b[39m)),\n\u001b[0;32m     50\u001b[0m                \n\u001b[0;32m     51\u001b[0m                (sf_stacked[\u001b[38;5;124m'\u001b[39m\u001b[38;5;124mmode_choice_actual_BEAM\u001b[39m\u001b[38;5;124m'\u001b[39m] \u001b[38;5;241m==\u001b[39m \u001b[38;5;124m'\u001b[39m\u001b[38;5;124mwalk\u001b[39m\u001b[38;5;124m'\u001b[39m)\u001b[38;5;241m&\u001b[39m((sf_stacked[\u001b[38;5;124m'\u001b[39m\u001b[38;5;124mtrip_mode_AS_trips\u001b[39m\u001b[38;5;124m'\u001b[39m] \u001b[38;5;241m==\u001b[39m \u001b[38;5;124m'\u001b[39m\u001b[38;5;124mWALK_LRF\u001b[39m\u001b[38;5;124m'\u001b[39m)\u001b[38;5;241m|\u001b[39m\n\u001b[0;32m     52\u001b[0m                (sf_stacked[\u001b[38;5;124m'\u001b[39m\u001b[38;5;124mtrip_mode_AS_trips\u001b[39m\u001b[38;5;124m'\u001b[39m] \u001b[38;5;241m==\u001b[39m \u001b[38;5;124m'\u001b[39m\u001b[38;5;124mWALK_LOC\u001b[39m\u001b[38;5;124m'\u001b[39m)\u001b[38;5;241m|\u001b[39m(sf_stacked[\u001b[38;5;124m'\u001b[39m\u001b[38;5;124mtrip_mode_AS_trips\u001b[39m\u001b[38;5;124m'\u001b[39m] \u001b[38;5;241m==\u001b[39m \u001b[38;5;124m'\u001b[39m\u001b[38;5;124mWALK_EXP\u001b[39m\u001b[38;5;124m'\u001b[39m)\u001b[38;5;241m|\u001b[39m\n\u001b[0;32m     53\u001b[0m                (sf_stacked[\u001b[38;5;124m'\u001b[39m\u001b[38;5;124mtrip_mode_AS_trips\u001b[39m\u001b[38;5;124m'\u001b[39m] \u001b[38;5;241m==\u001b[39m \u001b[38;5;124m'\u001b[39m\u001b[38;5;124mWALK_HVY\u001b[39m\u001b[38;5;124m'\u001b[39m)\u001b[38;5;241m|\u001b[39m(sf_stacked[\u001b[38;5;124m'\u001b[39m\u001b[38;5;124mtrip_mode_AS_trips\u001b[39m\u001b[38;5;124m'\u001b[39m] \u001b[38;5;241m==\u001b[39m \u001b[38;5;124m'\u001b[39m\u001b[38;5;124mWALK_COM\u001b[39m\u001b[38;5;124m'\u001b[39m)),\n\u001b[0;32m     54\u001b[0m                \n\u001b[0;32m     55\u001b[0m                (sf_stacked[\u001b[38;5;124m'\u001b[39m\u001b[38;5;124mmode_choice_actual_BEAM\u001b[39m\u001b[38;5;124m'\u001b[39m] \u001b[38;5;241m==\u001b[39m \u001b[38;5;124m'\u001b[39m\u001b[38;5;124mwalk_transit\u001b[39m\u001b[38;5;124m'\u001b[39m)\u001b[38;5;241m&\u001b[39m(sf_stacked[\u001b[38;5;124m'\u001b[39m\u001b[38;5;124mtrip_mode_AS_trips\u001b[39m\u001b[38;5;124m'\u001b[39m] \u001b[38;5;241m==\u001b[39m \u001b[38;5;124m'\u001b[39m\u001b[38;5;124mWALK\u001b[39m\u001b[38;5;124m'\u001b[39m),\n\u001b[0;32m     56\u001b[0m                \n\u001b[0;32m     57\u001b[0m                ((sf_stacked[\u001b[38;5;124m'\u001b[39m\u001b[38;5;124mmode_choice_actual_BEAM\u001b[39m\u001b[38;5;124m'\u001b[39m] \u001b[38;5;241m==\u001b[39m \u001b[38;5;124m'\u001b[39m\u001b[38;5;124mride_hail_pooled\u001b[39m\u001b[38;5;124m'\u001b[39m)\u001b[38;5;241m|\u001b[39m(sf_stacked[\u001b[38;5;124m'\u001b[39m\u001b[38;5;124mmode_choice_actual_BEAM\u001b[39m\u001b[38;5;124m'\u001b[39m] \u001b[38;5;241m==\u001b[39m \u001b[38;5;124m'\u001b[39m\u001b[38;5;124mride_hail\u001b[39m\u001b[38;5;124m'\u001b[39m))\n\u001b[0;32m     58\u001b[0m                \u001b[38;5;241m&\u001b[39m(\u001b[38;5;241m~\u001b[39m((sf_stacked[\u001b[38;5;124m'\u001b[39m\u001b[38;5;124mtrip_mode_AS_trips\u001b[39m\u001b[38;5;124m'\u001b[39m] \u001b[38;5;241m==\u001b[39m \u001b[38;5;124m'\u001b[39m\u001b[38;5;124mTAXI\u001b[39m\u001b[38;5;124m'\u001b[39m)\u001b[38;5;241m|\u001b[39m(sf_stacked[\u001b[38;5;124m'\u001b[39m\u001b[38;5;124mtrip_mode_AS_trips\u001b[39m\u001b[38;5;124m'\u001b[39m] \u001b[38;5;241m==\u001b[39m \u001b[38;5;124m'\u001b[39m\u001b[38;5;124mTNC_SHARED\u001b[39m\u001b[38;5;124m'\u001b[39m)\u001b[38;5;241m|\u001b[39m\n\u001b[0;32m     59\u001b[0m                 (sf_stacked[\u001b[38;5;124m'\u001b[39m\u001b[38;5;124mtrip_mode_AS_trips\u001b[39m\u001b[38;5;124m'\u001b[39m] \u001b[38;5;241m==\u001b[39m \u001b[38;5;124m'\u001b[39m\u001b[38;5;124mTNC_SINGLE\u001b[39m\u001b[38;5;124m'\u001b[39m))),\n\u001b[0;32m     60\u001b[0m                \n\u001b[0;32m     61\u001b[0m                (sf_stacked[\u001b[38;5;124m'\u001b[39m\u001b[38;5;124mmode_choice_actual_BEAM\u001b[39m\u001b[38;5;124m'\u001b[39m] \u001b[38;5;241m==\u001b[39m \u001b[38;5;124m'\u001b[39m\u001b[38;5;124mwalk_transit\u001b[39m\u001b[38;5;124m'\u001b[39m)\u001b[38;5;241m&\u001b[39m(\u001b[38;5;241m~\u001b[39m((sf_stacked[\u001b[38;5;124m'\u001b[39m\u001b[38;5;124mtrip_mode_AS_trips\u001b[39m\u001b[38;5;124m'\u001b[39m] \u001b[38;5;241m==\u001b[39m \u001b[38;5;124m'\u001b[39m\u001b[38;5;124mWALK_LRF\u001b[39m\u001b[38;5;124m'\u001b[39m)\u001b[38;5;241m|\u001b[39m\n\u001b[0;32m     62\u001b[0m                (sf_stacked[\u001b[38;5;124m'\u001b[39m\u001b[38;5;124mtrip_mode_AS_trips\u001b[39m\u001b[38;5;124m'\u001b[39m] \u001b[38;5;241m==\u001b[39m \u001b[38;5;124m'\u001b[39m\u001b[38;5;124mWALK_LOC\u001b[39m\u001b[38;5;124m'\u001b[39m)\u001b[38;5;241m|\u001b[39m(sf_stacked[\u001b[38;5;124m'\u001b[39m\u001b[38;5;124mtrip_mode_AS_trips\u001b[39m\u001b[38;5;124m'\u001b[39m] \u001b[38;5;241m==\u001b[39m \u001b[38;5;124m'\u001b[39m\u001b[38;5;124mWALK_EXP\u001b[39m\u001b[38;5;124m'\u001b[39m)\u001b[38;5;241m|\u001b[39m\n\u001b[0;32m     63\u001b[0m                (sf_stacked[\u001b[38;5;124m'\u001b[39m\u001b[38;5;124mtrip_mode_AS_trips\u001b[39m\u001b[38;5;124m'\u001b[39m] \u001b[38;5;241m==\u001b[39m \u001b[38;5;124m'\u001b[39m\u001b[38;5;124mWALK_HVY\u001b[39m\u001b[38;5;124m'\u001b[39m)\u001b[38;5;241m|\u001b[39m(sf_stacked[\u001b[38;5;124m'\u001b[39m\u001b[38;5;124mtrip_mode_AS_trips\u001b[39m\u001b[38;5;124m'\u001b[39m] \u001b[38;5;241m==\u001b[39m \u001b[38;5;124m'\u001b[39m\u001b[38;5;124mWALK_COM\u001b[39m\u001b[38;5;124m'\u001b[39m)\u001b[38;5;241m|\u001b[39m\n\u001b[0;32m     64\u001b[0m                (sf_stacked[\u001b[38;5;124m'\u001b[39m\u001b[38;5;124mtrip_mode_AS_trips\u001b[39m\u001b[38;5;124m'\u001b[39m] \u001b[38;5;241m==\u001b[39m \u001b[38;5;124m'\u001b[39m\u001b[38;5;124mWALK\u001b[39m\u001b[38;5;124m'\u001b[39m))),\n\u001b[0;32m     65\u001b[0m                \n\u001b[0;32m     66\u001b[0m                (sf_stacked[\u001b[38;5;124m'\u001b[39m\u001b[38;5;124mmode_choice_actual_BEAM\u001b[39m\u001b[38;5;124m'\u001b[39m] \u001b[38;5;241m==\u001b[39m \u001b[38;5;124m'\u001b[39m\u001b[38;5;124mbike_transit\u001b[39m\u001b[38;5;124m'\u001b[39m),\n\u001b[0;32m     67\u001b[0m                \n\u001b[0;32m     68\u001b[0m                (sf_stacked[\u001b[38;5;124m'\u001b[39m\u001b[38;5;124mmode_choice_actual_BEAM\u001b[39m\u001b[38;5;124m'\u001b[39m] \u001b[38;5;241m==\u001b[39m \u001b[38;5;124m'\u001b[39m\u001b[38;5;124mcar\u001b[39m\u001b[38;5;124m'\u001b[39m)\u001b[38;5;241m&\u001b[39m((sf_stacked[\u001b[38;5;124m'\u001b[39m\u001b[38;5;124mtrip_mode_AS_trips\u001b[39m\u001b[38;5;124m'\u001b[39m] \u001b[38;5;241m==\u001b[39m \u001b[38;5;124m'\u001b[39m\u001b[38;5;124mTNC_SHARED\u001b[39m\u001b[38;5;124m'\u001b[39m)\u001b[38;5;241m|\u001b[39m\n\u001b[0;32m     69\u001b[0m                (sf_stacked[\u001b[38;5;124m'\u001b[39m\u001b[38;5;124mtrip_mode_AS_trips\u001b[39m\u001b[38;5;124m'\u001b[39m] \u001b[38;5;241m==\u001b[39m \u001b[38;5;124m'\u001b[39m\u001b[38;5;124mTNC_SINGLE\u001b[39m\u001b[38;5;124m'\u001b[39m)\u001b[38;5;241m|\u001b[39m(sf_stacked[\u001b[38;5;124m'\u001b[39m\u001b[38;5;124mtrip_mode_AS_trips\u001b[39m\u001b[38;5;124m'\u001b[39m] \u001b[38;5;241m==\u001b[39m \u001b[38;5;124m'\u001b[39m\u001b[38;5;124mTAXI\u001b[39m\u001b[38;5;124m'\u001b[39m))]\n\u001b[0;32m     74\u001b[0m choices \u001b[38;5;241m=\u001b[39m [sf_stacked[\u001b[38;5;124m'\u001b[39m\u001b[38;5;124mWALK\u001b[39m\u001b[38;5;124m'\u001b[39m], sf_stacked[\u001b[38;5;124m'\u001b[39m\u001b[38;5;124mBIKE\u001b[39m\u001b[38;5;124m'\u001b[39m], sf_stacked[\u001b[38;5;124m'\u001b[39m\u001b[38;5;124mSHARED3FREE\u001b[39m\u001b[38;5;124m'\u001b[39m], sf_stacked[\u001b[38;5;124m'\u001b[39m\u001b[38;5;124mSHARED3PAY\u001b[39m\u001b[38;5;124m'\u001b[39m],\n\u001b[0;32m     75\u001b[0m            sf_stacked[\u001b[38;5;124m'\u001b[39m\u001b[38;5;124mSHARED3FREE\u001b[39m\u001b[38;5;124m'\u001b[39m], sf_stacked[\u001b[38;5;124m'\u001b[39m\u001b[38;5;124mSHARED3PAY\u001b[39m\u001b[38;5;124m'\u001b[39m], sf_stacked[\u001b[38;5;124m'\u001b[39m\u001b[38;5;124mSHARED2FREE\u001b[39m\u001b[38;5;124m'\u001b[39m], \n\u001b[0;32m     76\u001b[0m            sf_stacked[\u001b[38;5;124m'\u001b[39m\u001b[38;5;124mSHARED2PAY\u001b[39m\u001b[38;5;124m'\u001b[39m], sf_stacked[\u001b[38;5;124m'\u001b[39m\u001b[38;5;124mSHARED2PAY\u001b[39m\u001b[38;5;124m'\u001b[39m], sf_stacked[\u001b[38;5;124m'\u001b[39m\u001b[38;5;124mSHARED2FREE\u001b[39m\u001b[38;5;124m'\u001b[39m], \n\u001b[1;32m   (...)\u001b[0m\n\u001b[0;32m     92\u001b[0m           sf_stacked[[\u001b[38;5;124m'\u001b[39m\u001b[38;5;124mBIKE\u001b[39m\u001b[38;5;124m'\u001b[39m,\u001b[38;5;124m'\u001b[39m\u001b[38;5;124mWALK_LOC\u001b[39m\u001b[38;5;124m'\u001b[39m,\u001b[38;5;124m'\u001b[39m\u001b[38;5;124mWALK_LRF\u001b[39m\u001b[38;5;124m'\u001b[39m,\u001b[38;5;124m'\u001b[39m\u001b[38;5;124mWALK_EXP\u001b[39m\u001b[38;5;124m'\u001b[39m,\u001b[38;5;124m'\u001b[39m\u001b[38;5;124mWALK_HVY\u001b[39m\u001b[38;5;124m'\u001b[39m,\u001b[38;5;124m'\u001b[39m\u001b[38;5;124mWALK_COM\u001b[39m\u001b[38;5;124m'\u001b[39m,\u001b[38;5;124m'\u001b[39m\u001b[38;5;124mDRIVE_LOC\u001b[39m\u001b[38;5;124m'\u001b[39m,\u001b[38;5;124m'\u001b[39m\u001b[38;5;124mDRIVE_LRF\u001b[39m\u001b[38;5;124m'\u001b[39m,\u001b[38;5;124m'\u001b[39m\u001b[38;5;124mDRIVE_EXP\u001b[39m\u001b[38;5;124m'\u001b[39m,\u001b[38;5;124m'\u001b[39m\u001b[38;5;124mDRIVE_HVY\u001b[39m\u001b[38;5;124m'\u001b[39m,\u001b[38;5;124m'\u001b[39m\u001b[38;5;124mDRIVE_COM\u001b[39m\u001b[38;5;124m'\u001b[39m]]\u001b[38;5;241m.\u001b[39mmax(axis\u001b[38;5;241m=\u001b[39m\u001b[38;5;241m1\u001b[39m),\n\u001b[0;32m     93\u001b[0m           sf_stacked[[\u001b[38;5;124m'\u001b[39m\u001b[38;5;124mDRIVEALONEFREE\u001b[39m\u001b[38;5;124m'\u001b[39m,\u001b[38;5;124m'\u001b[39m\u001b[38;5;124mDRIVEALONEPAY\u001b[39m\u001b[38;5;124m'\u001b[39m,\u001b[38;5;124m'\u001b[39m\u001b[38;5;124mSHARED2FREE\u001b[39m\u001b[38;5;124m'\u001b[39m,\u001b[38;5;124m'\u001b[39m\u001b[38;5;124mSHARED3FREE\u001b[39m\u001b[38;5;124m'\u001b[39m,\u001b[38;5;124m'\u001b[39m\u001b[38;5;124mSHARED2PAY\u001b[39m\u001b[38;5;124m'\u001b[39m,\u001b[38;5;124m'\u001b[39m\u001b[38;5;124mSHARED3PAY\u001b[39m\u001b[38;5;124m'\u001b[39m,\u001b[38;5;124m'\u001b[39m\u001b[38;5;124mDRIVE_LOC\u001b[39m\u001b[38;5;124m'\u001b[39m,\u001b[38;5;124m'\u001b[39m\u001b[38;5;124mDRIVE_LRF\u001b[39m\u001b[38;5;124m'\u001b[39m,\u001b[38;5;124m'\u001b[39m\u001b[38;5;124mDRIVE_EXP\u001b[39m\u001b[38;5;124m'\u001b[39m,\u001b[38;5;124m'\u001b[39m\u001b[38;5;124mDRIVE_HVY\u001b[39m\u001b[38;5;124m'\u001b[39m,\u001b[38;5;124m'\u001b[39m\u001b[38;5;124mDRIVE_COM\u001b[39m\u001b[38;5;124m'\u001b[39m]]\u001b[38;5;241m.\u001b[39mmax(axis\u001b[38;5;241m=\u001b[39m\u001b[38;5;241m1\u001b[39m)]\n",
      "File \u001b[1;32m~\\anaconda3\\envs\\BEAMCORE\\lib\\site-packages\\pandas\\core\\ops\\common.py:70\u001b[0m, in \u001b[0;36m_unpack_zerodim_and_defer.<locals>.new_method\u001b[1;34m(self, other)\u001b[0m\n\u001b[0;32m     66\u001b[0m             \u001b[38;5;28;01mreturn\u001b[39;00m \u001b[38;5;28mNotImplemented\u001b[39m\n\u001b[0;32m     68\u001b[0m other \u001b[38;5;241m=\u001b[39m item_from_zerodim(other)\n\u001b[1;32m---> 70\u001b[0m \u001b[38;5;28;01mreturn\u001b[39;00m \u001b[43mmethod\u001b[49m\u001b[43m(\u001b[49m\u001b[38;5;28;43mself\u001b[39;49m\u001b[43m,\u001b[49m\u001b[43m \u001b[49m\u001b[43mother\u001b[49m\u001b[43m)\u001b[49m\n",
      "File \u001b[1;32m~\\anaconda3\\envs\\BEAMCORE\\lib\\site-packages\\pandas\\core\\arraylike.py:40\u001b[0m, in \u001b[0;36mOpsMixin.__eq__\u001b[1;34m(self, other)\u001b[0m\n\u001b[0;32m     38\u001b[0m \u001b[38;5;129m@unpack_zerodim_and_defer\u001b[39m(\u001b[38;5;124m\"\u001b[39m\u001b[38;5;124m__eq__\u001b[39m\u001b[38;5;124m\"\u001b[39m)\n\u001b[0;32m     39\u001b[0m \u001b[38;5;28;01mdef\u001b[39;00m \u001b[38;5;21m__eq__\u001b[39m(\u001b[38;5;28mself\u001b[39m, other):\n\u001b[1;32m---> 40\u001b[0m     \u001b[38;5;28;01mreturn\u001b[39;00m \u001b[38;5;28;43mself\u001b[39;49m\u001b[38;5;241;43m.\u001b[39;49m\u001b[43m_cmp_method\u001b[49m\u001b[43m(\u001b[49m\u001b[43mother\u001b[49m\u001b[43m,\u001b[49m\u001b[43m \u001b[49m\u001b[43moperator\u001b[49m\u001b[38;5;241;43m.\u001b[39;49m\u001b[43meq\u001b[49m\u001b[43m)\u001b[49m\n",
      "File \u001b[1;32m~\\anaconda3\\envs\\BEAMCORE\\lib\\site-packages\\pandas\\core\\series.py:5623\u001b[0m, in \u001b[0;36mSeries._cmp_method\u001b[1;34m(self, other, op)\u001b[0m\n\u001b[0;32m   5620\u001b[0m rvalues \u001b[38;5;241m=\u001b[39m extract_array(other, extract_numpy\u001b[38;5;241m=\u001b[39m\u001b[38;5;28;01mTrue\u001b[39;00m, extract_range\u001b[38;5;241m=\u001b[39m\u001b[38;5;28;01mTrue\u001b[39;00m)\n\u001b[0;32m   5622\u001b[0m \u001b[38;5;28;01mwith\u001b[39;00m np\u001b[38;5;241m.\u001b[39merrstate(\u001b[38;5;28mall\u001b[39m\u001b[38;5;241m=\u001b[39m\u001b[38;5;124m\"\u001b[39m\u001b[38;5;124mignore\u001b[39m\u001b[38;5;124m\"\u001b[39m):\n\u001b[1;32m-> 5623\u001b[0m     res_values \u001b[38;5;241m=\u001b[39m \u001b[43mops\u001b[49m\u001b[38;5;241;43m.\u001b[39;49m\u001b[43mcomparison_op\u001b[49m\u001b[43m(\u001b[49m\u001b[43mlvalues\u001b[49m\u001b[43m,\u001b[49m\u001b[43m \u001b[49m\u001b[43mrvalues\u001b[49m\u001b[43m,\u001b[49m\u001b[43m \u001b[49m\u001b[43mop\u001b[49m\u001b[43m)\u001b[49m\n\u001b[0;32m   5625\u001b[0m \u001b[38;5;28;01mreturn\u001b[39;00m \u001b[38;5;28mself\u001b[39m\u001b[38;5;241m.\u001b[39m_construct_result(res_values, name\u001b[38;5;241m=\u001b[39mres_name)\n",
      "File \u001b[1;32m~\\anaconda3\\envs\\BEAMCORE\\lib\\site-packages\\pandas\\core\\ops\\array_ops.py:283\u001b[0m, in \u001b[0;36mcomparison_op\u001b[1;34m(left, right, op)\u001b[0m\n\u001b[0;32m    280\u001b[0m     \u001b[38;5;28;01mreturn\u001b[39;00m invalid_comparison(lvalues, rvalues, op)\n\u001b[0;32m    282\u001b[0m \u001b[38;5;28;01melif\u001b[39;00m is_object_dtype(lvalues\u001b[38;5;241m.\u001b[39mdtype) \u001b[38;5;129;01mor\u001b[39;00m \u001b[38;5;28misinstance\u001b[39m(rvalues, \u001b[38;5;28mstr\u001b[39m):\n\u001b[1;32m--> 283\u001b[0m     res_values \u001b[38;5;241m=\u001b[39m \u001b[43mcomp_method_OBJECT_ARRAY\u001b[49m\u001b[43m(\u001b[49m\u001b[43mop\u001b[49m\u001b[43m,\u001b[49m\u001b[43m \u001b[49m\u001b[43mlvalues\u001b[49m\u001b[43m,\u001b[49m\u001b[43m \u001b[49m\u001b[43mrvalues\u001b[49m\u001b[43m)\u001b[49m\n\u001b[0;32m    285\u001b[0m \u001b[38;5;28;01melse\u001b[39;00m:\n\u001b[0;32m    286\u001b[0m     res_values \u001b[38;5;241m=\u001b[39m _na_arithmetic_op(lvalues, rvalues, op, is_cmp\u001b[38;5;241m=\u001b[39m\u001b[38;5;28;01mTrue\u001b[39;00m)\n",
      "File \u001b[1;32m~\\anaconda3\\envs\\BEAMCORE\\lib\\site-packages\\pandas\\core\\ops\\array_ops.py:74\u001b[0m, in \u001b[0;36mcomp_method_OBJECT_ARRAY\u001b[1;34m(op, x, y)\u001b[0m\n\u001b[0;32m     72\u001b[0m \u001b[38;5;28;01melse\u001b[39;00m:\n\u001b[0;32m     73\u001b[0m     result \u001b[38;5;241m=\u001b[39m libops\u001b[38;5;241m.\u001b[39mscalar_compare(x\u001b[38;5;241m.\u001b[39mravel(), y, op)\n\u001b[1;32m---> 74\u001b[0m \u001b[38;5;28;01mreturn\u001b[39;00m \u001b[43mresult\u001b[49m\u001b[38;5;241;43m.\u001b[39;49m\u001b[43mreshape\u001b[49m(x\u001b[38;5;241m.\u001b[39mshape)\n",
      "\u001b[1;31mKeyboardInterrupt\u001b[0m: "
     ]
    }
   ],
   "source": [
    "# Mapping BEAM and ASIM modes\n",
    "conditions  = [(sf_stacked['mode_choice_actual_BEAM'] == 'walk')&(sf_stacked['trip_mode_AS_trips'] == 'WALK'),\n",
    "               (sf_stacked['mode_choice_actual_BEAM'] == 'bike')&(sf_stacked['trip_mode_AS_trips'] == 'BIKE'),\n",
    "               (sf_stacked['mode_choice_actual_BEAM'] == 'hov3_teleportation')&(sf_stacked['trip_mode_AS_trips'] == 'SHARED3FREE'),\n",
    "               (sf_stacked['mode_choice_actual_BEAM'] == 'hov3_teleportation')&(sf_stacked['trip_mode_AS_trips'] == 'SHARED3PAY'),\n",
    "               (sf_stacked['mode_choice_actual_BEAM'] == 'car_hov3')&(sf_stacked['trip_mode_AS_trips'] == 'SHARED3FREE'),\n",
    "               (sf_stacked['mode_choice_actual_BEAM'] == 'car_hov3')&(sf_stacked['trip_mode_AS_trips'] == 'SHARED3PAY'),\n",
    "               (sf_stacked['mode_choice_actual_BEAM'] == 'hov2_teleportation')&(sf_stacked['trip_mode_AS_trips'] == 'SHARED2FREE'),\n",
    "               (sf_stacked['mode_choice_actual_BEAM'] == 'hov2_teleportation')&(sf_stacked['trip_mode_AS_trips'] == 'SHARED2PAY'),\n",
    "               (sf_stacked['mode_choice_actual_BEAM'] == 'car_hov2')&(sf_stacked['trip_mode_AS_trips'] == 'SHARED2PAY'),\n",
    "               (sf_stacked['mode_choice_actual_BEAM'] == 'car_hov2')&(sf_stacked['trip_mode_AS_trips'] == 'SHARED2FREE'),\n",
    "               (sf_stacked['mode_choice_actual_BEAM'] == 'car')&(sf_stacked['trip_mode_AS_trips'] == 'DRIVEALONEFREE'),\n",
    "               (sf_stacked['mode_choice_actual_BEAM'] == 'car')&(sf_stacked['trip_mode_AS_trips'] == 'DRIVEALONEPAY'),\n",
    "               (sf_stacked['mode_choice_actual_BEAM'] == 'walk_transit')&(sf_stacked['trip_mode_AS_trips'] == 'WALK_LRF'),\n",
    "               (sf_stacked['mode_choice_actual_BEAM'] == 'walk_transit')&(sf_stacked['trip_mode_AS_trips'] == 'WALK_LOC'),\n",
    "               (sf_stacked['mode_choice_actual_BEAM'] == 'walk_transit')&(sf_stacked['trip_mode_AS_trips'] == 'WALK_EXP'),\n",
    "               (sf_stacked['mode_choice_actual_BEAM'] == 'walk_transit')&(sf_stacked['trip_mode_AS_trips'] == 'WALK_HVY'),\n",
    "               (sf_stacked['mode_choice_actual_BEAM'] == 'walk_transit')&(sf_stacked['trip_mode_AS_trips'] == 'WALK_COM'),\n",
    "               (sf_stacked['mode_choice_actual_BEAM'] == 'ride_hail')&(sf_stacked['trip_mode_AS_trips'] == 'TNC_SINGLE'),\n",
    "               (sf_stacked['mode_choice_actual_BEAM'] == 'ride_hail')&(sf_stacked['trip_mode_AS_trips'] == 'TNC_SHARED'),\n",
    "               (sf_stacked['mode_choice_actual_BEAM'] == 'ride_hail')&(sf_stacked['trip_mode_AS_trips'] == 'TAXI'),\n",
    "               (sf_stacked['mode_choice_actual_BEAM'] == 'drive_transit')&(sf_stacked['trip_mode_AS_trips'] == 'DRIVE_COM'),\n",
    "               (sf_stacked['mode_choice_actual_BEAM'] == 'drive_transit')&(sf_stacked['trip_mode_AS_trips'] == 'DRIVE_LRF'),\n",
    "               (sf_stacked['mode_choice_actual_BEAM'] == 'drive_transit')&(sf_stacked['trip_mode_AS_trips'] == 'DRIVE_LOC'),\n",
    "               (sf_stacked['mode_choice_actual_BEAM'] == 'drive_transit')&(sf_stacked['trip_mode_AS_trips'] == 'DRIVE_EXP'),\n",
    "               (sf_stacked['mode_choice_actual_BEAM'] == 'drive_transit')&(sf_stacked['trip_mode_AS_trips'] == 'DRIVE_HVY'),\n",
    "               (sf_stacked['mode_choice_actual_BEAM'] == 'ride_hail_pooled')&(sf_stacked['trip_mode_AS_trips'] == 'TNC_SINGLE'),\n",
    "               (sf_stacked['mode_choice_actual_BEAM'] == 'ride_hail_pooled')&(sf_stacked['trip_mode_AS_trips'] == 'TNC_SHARED'),\n",
    "               (sf_stacked['mode_choice_actual_BEAM'] == 'ride_hail_pooled')&(sf_stacked['trip_mode_AS_trips'] == 'TAXI'),\n",
    "       \n",
    "               (sf_stacked['mode_choice_actual_BEAM'] == 'hov2_teleportation')&((sf_stacked['trip_mode_AS_trips'] == 'SHARED3FREE')|\n",
    "               (sf_stacked['trip_mode_AS_trips'] == 'SHARED3PAY')|(sf_stacked['trip_mode_AS_trips'] == 'DRIVEALONEFREE')|\n",
    "               (sf_stacked['trip_mode_AS_trips'] == 'DRIVEALONEPAY')),\n",
    "               \n",
    "               (sf_stacked['mode_choice_actual_BEAM'] == 'car_hov2')&((sf_stacked['trip_mode_AS_trips'] == 'SHARED3PAY')|\n",
    "               (sf_stacked['trip_mode_AS_trips'] == 'SHARED3FREE')|(sf_stacked['trip_mode_AS_trips'] == 'DRIVEALONEFREE')|\n",
    "               (sf_stacked['trip_mode_AS_trips'] == 'DRIVEALONEPAY')),\n",
    "               \n",
    "               (sf_stacked['mode_choice_actual_BEAM'] == 'car_hov3')&((sf_stacked['trip_mode_AS_trips'] == 'SHARED2PAY')|\n",
    "               (sf_stacked['trip_mode_AS_trips'] == 'SHARED2FREE')|(sf_stacked['trip_mode_AS_trips'] == 'DRIVEALONEFREE')|\n",
    "               (sf_stacked['trip_mode_AS_trips'] == 'DRIVEALONEPAY')),   \n",
    "               \n",
    "               (sf_stacked['mode_choice_actual_BEAM'] == 'hov3_teleportation')&((sf_stacked['trip_mode_AS_trips'] == 'DRIVEALONEPAY')|\n",
    "               (sf_stacked['trip_mode_AS_trips'] == 'DRIVEALONEFREE')|(sf_stacked['trip_mode_AS_trips'] == 'SHARED2PAY')|(sf_stacked['trip_mode_AS_trips'] == 'SHARED2FREE')),\n",
    "               \n",
    "               (sf_stacked['mode_choice_actual_BEAM'] == 'car')&((sf_stacked['trip_mode_AS_trips'] == 'SHARED3FREE')|(sf_stacked['trip_mode_AS_trips'] == 'SHARED2FREE')|\n",
    "               (sf_stacked['trip_mode_AS_trips'] == 'SHARED3PAY')|(sf_stacked['trip_mode_AS_trips'] == 'SHARED2PAY')|(sf_stacked['trip_mode_AS_trips'] == 'DRIVE_LOC')|\n",
    "               (sf_stacked['trip_mode_AS_trips'] == 'DRIVE_LRF')|(sf_stacked['trip_mode_AS_trips'] == 'DRIVE_EXP')|\n",
    "               (sf_stacked['trip_mode_AS_trips'] == 'DRIVE_HVY')|(sf_stacked['trip_mode_AS_trips'] == 'DRIVE_COM')),\n",
    "               \n",
    "               (sf_stacked['mode_choice_actual_BEAM'] == 'walk')&((sf_stacked['trip_mode_AS_trips'] == 'WALK_LRF')|\n",
    "               (sf_stacked['trip_mode_AS_trips'] == 'WALK_LOC')|(sf_stacked['trip_mode_AS_trips'] == 'WALK_EXP')|\n",
    "               (sf_stacked['trip_mode_AS_trips'] == 'WALK_HVY')|(sf_stacked['trip_mode_AS_trips'] == 'WALK_COM')),\n",
    "               \n",
    "               (sf_stacked['mode_choice_actual_BEAM'] == 'walk_transit')&(sf_stacked['trip_mode_AS_trips'] == 'WALK'),\n",
    "               \n",
    "               ((sf_stacked['mode_choice_actual_BEAM'] == 'ride_hail_pooled')|(sf_stacked['mode_choice_actual_BEAM'] == 'ride_hail'))\n",
    "               &(~((sf_stacked['trip_mode_AS_trips'] == 'TAXI')|(sf_stacked['trip_mode_AS_trips'] == 'TNC_SHARED')|\n",
    "                (sf_stacked['trip_mode_AS_trips'] == 'TNC_SINGLE'))),\n",
    "               \n",
    "               (sf_stacked['mode_choice_actual_BEAM'] == 'walk_transit')&(~((sf_stacked['trip_mode_AS_trips'] == 'WALK_LRF')|\n",
    "               (sf_stacked['trip_mode_AS_trips'] == 'WALK_LOC')|(sf_stacked['trip_mode_AS_trips'] == 'WALK_EXP')|\n",
    "               (sf_stacked['trip_mode_AS_trips'] == 'WALK_HVY')|(sf_stacked['trip_mode_AS_trips'] == 'WALK_COM')|\n",
    "               (sf_stacked['trip_mode_AS_trips'] == 'WALK'))),\n",
    "               \n",
    "               (sf_stacked['mode_choice_actual_BEAM'] == 'bike_transit'),\n",
    "               \n",
    "               (sf_stacked['mode_choice_actual_BEAM'] == 'car')&((sf_stacked['trip_mode_AS_trips'] == 'TNC_SHARED')|\n",
    "               (sf_stacked['trip_mode_AS_trips'] == 'TNC_SINGLE')|(sf_stacked['trip_mode_AS_trips'] == 'TAXI'))]\n",
    " \n",
    "                                                                      \n",
    "                                                                                                                 \n",
    "                                                                      \n",
    "choices = [sf_stacked['WALK'], sf_stacked['BIKE'], sf_stacked['SHARED3FREE'], sf_stacked['SHARED3PAY'],\n",
    "           sf_stacked['SHARED3FREE'], sf_stacked['SHARED3PAY'], sf_stacked['SHARED2FREE'], \n",
    "           sf_stacked['SHARED2PAY'], sf_stacked['SHARED2PAY'], sf_stacked['SHARED2FREE'], \n",
    "           sf_stacked['DRIVEALONEFREE'], sf_stacked['DRIVEALONEPAY'], sf_stacked['WALK_LRF'], \n",
    "           sf_stacked['WALK_LOC'], sf_stacked['WALK_EXP'], sf_stacked['WALK_HVY'], sf_stacked['WALK_COM'],\n",
    "           sf_stacked['TNC_SINGLE'], \n",
    "           sf_stacked['TNC_SHARED'], sf_stacked['TAXI'],\n",
    "           sf_stacked['DRIVE_COM'], sf_stacked['DRIVE_LRF'], sf_stacked['DRIVE_LOC'], sf_stacked['DRIVE_EXP'],\n",
    "           sf_stacked['DRIVE_HVY'], sf_stacked['TNC_SINGLE'], sf_stacked['TNC_SHARED'], sf_stacked['TAXI'],\n",
    "          sf_stacked[['DRIVEALONEFREE','DRIVEALONEPAY','SHARED2FREE','SHARED3FREE','SHARED2PAY','SHARED3PAY','DRIVE_LOC','DRIVE_LRF','DRIVE_EXP','DRIVE_HVY','DRIVE_COM']].max(axis=1),\n",
    "          sf_stacked[['DRIVEALONEFREE','DRIVEALONEPAY','SHARED2FREE','SHARED3FREE','SHARED2PAY','SHARED3PAY','DRIVE_LOC','DRIVE_LRF','DRIVE_EXP','DRIVE_HVY','DRIVE_COM']].max(axis=1),\n",
    "          sf_stacked[['DRIVEALONEFREE','DRIVEALONEPAY','SHARED2FREE','SHARED3FREE','SHARED2PAY','SHARED3PAY','DRIVE_LOC','DRIVE_LRF','DRIVE_EXP','DRIVE_HVY','DRIVE_COM']].max(axis=1),\n",
    "          sf_stacked[['DRIVEALONEFREE','DRIVEALONEPAY','SHARED2FREE','SHARED3FREE','SHARED2PAY','SHARED3PAY','DRIVE_LOC','DRIVE_LRF','DRIVE_EXP','DRIVE_HVY','DRIVE_COM']].max(axis=1),\n",
    "          sf_stacked[['DRIVEALONEFREE','DRIVEALONEPAY','SHARED2FREE','SHARED3FREE','SHARED2PAY','SHARED3PAY','DRIVE_LOC','DRIVE_LRF','DRIVE_EXP','DRIVE_HVY','DRIVE_COM']].max(axis=1),\n",
    "          sf_stacked[['WALK','WALK_LOC','WALK_LRF','WALK_EXP','WALK_HVY','WALK_COM']].max(axis=1),\n",
    "          sf_stacked[['WALK','WALK_LOC','WALK_LRF','WALK_EXP','WALK_HVY','WALK_COM']].max(axis=1),\n",
    "          sf_stacked[['TAXI','TNC_SINGLE','TNC_SHARED']].max(axis=1),\n",
    "          sf_stacked[['WALK','WALK_LOC','WALK_LRF','WALK_EXP','WALK_HVY','WALK_COM','DRIVE_LOC','DRIVE_LRF','DRIVE_EXP','DRIVE_HVY','DRIVE_COM']].max(axis=1),\n",
    "          sf_stacked[['BIKE','WALK_LOC','WALK_LRF','WALK_EXP','WALK_HVY','WALK_COM','DRIVE_LOC','DRIVE_LRF','DRIVE_EXP','DRIVE_HVY','DRIVE_COM']].max(axis=1),\n",
    "          sf_stacked[['DRIVEALONEFREE','DRIVEALONEPAY','SHARED2FREE','SHARED3FREE','SHARED2PAY','SHARED3PAY','DRIVE_LOC','DRIVE_LRF','DRIVE_EXP','DRIVE_HVY','DRIVE_COM']].max(axis=1)]"
   ]
  },
  {
   "cell_type": "code",
   "execution_count": null,
   "id": "efacd110",
   "metadata": {
    "scrolled": true
   },
   "outputs": [],
   "source": [
    "sf_stacked['Realized_INEXUS'] = np.select(conditions, choices, default=np.nan)"
   ]
  },
  {
   "cell_type": "code",
   "execution_count": null,
   "id": "917c8ee2",
   "metadata": {},
   "outputs": [],
   "source": [
    "#sf_stacked = sf_stacked.drop(['Realized_INEXUS'], axis=1)"
   ]
  },
  {
   "cell_type": "code",
   "execution_count": null,
   "id": "9bbb966f",
   "metadata": {},
   "outputs": [],
   "source": [
    "sf_stacked['Realized_INEXUS'] = np.where((sf_stacked['Realized_INEXUS'].isna())&((sf_stacked['mode_choice_actual_BEAM'] == 'car_hov2')|\n",
    "                                          (sf_stacked['mode_choice_actual_BEAM'] == 'car_hov3')|\n",
    "                                          (sf_stacked['mode_choice_actual_BEAM'] == 'hov2_teleportation')|\n",
    "                                          (sf_stacked['mode_choice_actual_BEAM'] == 'hov3_teleportation')|\n",
    "                                          (sf_stacked['mode_choice_actual_BEAM'] == 'car')|\n",
    "                                          (sf_stacked['mode_choice_actual_BEAM'] == 'drive_transit')), \n",
    "                                           sf_stacked[['DRIVEALONEFREE','DRIVEALONEPAY','SHARED2FREE','SHARED3FREE','SHARED2PAY','SHARED3PAY','DRIVE_LOC','DRIVE_LRF','DRIVE_EXP','DRIVE_HVY','DRIVE_COM']].max(axis=1), sf_stacked['Realized_INEXUS'])"
   ]
  },
  {
   "cell_type": "code",
   "execution_count": 93,
   "id": "39f33fc4",
   "metadata": {},
   "outputs": [],
   "source": [
    "sf_stacked['Realized_INEXUS'] = np.where((sf_stacked['Realized_INEXUS'].isna())&((sf_stacked['mode_choice_actual_BEAM'] == 'walk')|\n",
    "                                         (sf_stacked['mode_choice_actual_BEAM'] == 'walk_transit')), \n",
    "                                          sf_stacked[['WALK','WALK_LOC','WALK_LRF','WALK_EXP','WALK_HVY','WALK_COM','DRIVE_LOC','DRIVE_LRF','DRIVE_EXP','DRIVE_HVY','DRIVE_COM']].max(axis=1),sf_stacked['Realized_INEXUS'])"
   ]
  },
  {
   "cell_type": "code",
   "execution_count": 100,
   "id": "c31f1858",
   "metadata": {},
   "outputs": [],
   "source": [
    "sf_stacked['Realized_INEXUS'] = np.where(sf_stacked['Realized_INEXUS'].isna()&(sf_stacked['mode_choice_actual_BEAM'] == 'bike'), \n",
    "                                         sf_stacked[['BIKE','WALK','WALK_LOC','WALK_LRF','WALK_EXP','WALK_HVY','WALK_COM']].max(axis=1),sf_stacked['Realized_INEXUS'])"
   ]
  },
  {
   "cell_type": "code",
   "execution_count": 107,
   "id": "c6a246c6",
   "metadata": {},
   "outputs": [
    {
     "data": {
      "text/plain": [
       "(0, 162)"
      ]
     },
     "execution_count": 107,
     "metadata": {},
     "output_type": "execute_result"
    }
   ],
   "source": [
    "sf_stacked[sf_stacked['Realized_INEXUS'].isna()].shape"
   ]
  },
  {
   "cell_type": "code",
   "execution_count": 108,
   "id": "b858c058",
   "metadata": {},
   "outputs": [
    {
     "data": {
      "text/plain": [
       "(0, 162)"
      ]
     },
     "execution_count": 108,
     "metadata": {},
     "output_type": "execute_result"
    }
   ],
   "source": [
    "sf_stacked[sf_stacked['Realized_INEXUS']<-1000].shape"
   ]
  },
  {
   "cell_type": "code",
   "execution_count": 103,
   "id": "897206fb",
   "metadata": {},
   "outputs": [],
   "source": [
    "sf_stacked['Realized_INEXUS'] = np.where(sf_stacked['Realized_INEXUS']<-1000, sf_stacked['Realized_INEXUS']+990, sf_stacked['Realized_INEXUS'])"
   ]
  },
  {
   "cell_type": "code",
   "execution_count": null,
   "id": "1ac28b2e",
   "metadata": {},
   "outputs": [],
   "source": [
    "#sf_stacked_tr_fr['Realized_INEXUS'] = np.where((sf_stacked_tr_fr['Realized_INEXUS'].isna())&\n",
    "                                               #(sf_stacked_tr_fr['mode_choice_actual_BEAM'] == 'walk_transit')&\n",
    "                                               #(sf_stacked_tr_fr['vehicleIds'].str.contains('(caltrain)')), \n",
    "                                               #sf_stacked_tr_fr['WALK_COM'], sf_stacked_tr_fr['Realized_INEXUS'])"
   ]
  },
  {
   "cell_type": "code",
   "execution_count": 109,
   "id": "aef4dfd1",
   "metadata": {},
   "outputs": [],
   "source": [
    "sf_stacked = sf_stacked[sf_stacked['Realized_INEXUS'].notna()]"
   ]
  },
  {
   "cell_type": "code",
   "execution_count": null,
   "id": "b41ec71d",
   "metadata": {},
   "outputs": [],
   "source": [
    "#sf_stacked_tr_fr[sf_stacked_tr_fr['Realized_INEXUS'].isna()].to_csv('C:/Shared-Work/Data/CleanData/ASIM_BEAM_Merged/realizedIN_empty.csv', index = False)"
   ]
  },
  {
   "cell_type": "markdown",
   "id": "f6b51cec",
   "metadata": {},
   "source": [
    "#### Social INEXUS"
   ]
  },
  {
   "cell_type": "code",
   "execution_count": null,
   "id": "f34e8e1e",
   "metadata": {},
   "outputs": [],
   "source": [
    "# add a lower and upper range for the bins in pd.cut\n",
    "#quartiles = [0] + quartiles + [float('inf')]"
   ]
  },
  {
   "cell_type": "code",
   "execution_count": null,
   "id": "5453a2a7",
   "metadata": {},
   "outputs": [],
   "source": [
    "# add a quartiles column to groups, using pd.cut\n",
    "#sf_stacked['income_quartiles'] = pd.cut(sf_stacked['income'], bins=quartiles, labels=['1stQ', '2ndQ', '3rdQ', '4thQ'])"
   ]
  },
  {
   "cell_type": "code",
   "execution_count": 75,
   "id": "3051d584",
   "metadata": {},
   "outputs": [],
   "source": [
    "sf_stacked['alpha'] = 0.1"
   ]
  },
  {
   "cell_type": "code",
   "execution_count": 33,
   "id": "11864852",
   "metadata": {},
   "outputs": [
    {
     "name": "stderr",
     "output_type": "stream",
     "text": [
      "C:\\Users\\nrezaei\\AppData\\Local\\Temp\\2\\ipykernel_7640\\3567380257.py:1: SettingWithCopyWarning: \n",
      "A value is trying to be set on a copy of a slice from a DataFrame.\n",
      "Try using .loc[row_indexer,col_indexer] = value instead\n",
      "\n",
      "See the caveats in the documentation: https://pandas.pydata.org/pandas-docs/stable/user_guide/indexing.html#returning-a-view-versus-a-copy\n",
      "  sf_stacked['socialCarbonCost'] = sf_stacked['emission_marginal']*185 # 51 or 102\n"
     ]
    }
   ],
   "source": [
    "sf_stacked['socialCarbonCost'] = sf_stacked['emission_marginal']*185 # 51 or 102"
   ]
  },
  {
   "cell_type": "code",
   "execution_count": 117,
   "id": "1278d22e",
   "metadata": {},
   "outputs": [],
   "source": [
    "sf_stacked['Social_INEXUS'] = (sf_stacked['Realized_INEXUS']/sf_stacked['alpha']) - sf_stacked['socialCarbonCost']"
   ]
  },
  {
   "cell_type": "code",
   "execution_count": 118,
   "id": "253178e9",
   "metadata": {},
   "outputs": [],
   "source": [
    "sf_stacked['Potential_INEXUS_in_dollar'] = sf_stacked['logsum_trip_Potential_INEXUS']/sf_stacked['alpha']"
   ]
  },
  {
   "cell_type": "code",
   "execution_count": 119,
   "id": "e1fe632a",
   "metadata": {},
   "outputs": [],
   "source": [
    "sf_stacked['Realized_INEXUS_in_dollar'] = sf_stacked['Realized_INEXUS']/sf_stacked['alpha']"
   ]
  },
  {
   "cell_type": "markdown",
   "id": "e6e0a1bd",
   "metadata": {},
   "source": [
    "#### The following chunks are useful but should be checked in the next runs (they resulted in exact same realized and potential inexus in dollar"
   ]
  },
  {
   "cell_type": "code",
   "execution_count": null,
   "id": "656ac3fd",
   "metadata": {},
   "outputs": [],
   "source": [
    "# shift columns to first position\n",
    "#first_column = sf_stacked.pop('Social_INEXUS')\n",
    "# insert column using insert(position,column_name,first_column) function\n",
    "#sf_stacked.insert(6, 'Social_INEXUS', first_column)"
   ]
  },
  {
   "cell_type": "code",
   "execution_count": null,
   "id": "26b1ea44",
   "metadata": {},
   "outputs": [],
   "source": [
    "# shift columns to first position\n",
    "#first_column = sf_stacked.pop('Potential_INEXUS_in_dollar')\n",
    "#second_column = sf_stacked.pop('Realized_INEXUS_in_dollar')\n",
    "# insert column using insert(position,column_name,first_column) function\n",
    "#sf_stacked.insert(7, 'Potential_INEXUS_in_dollar', first_column)\n",
    "#sf_stacked.insert(8, 'Realized_INEXUS_in_dollar', first_column)"
   ]
  },
  {
   "cell_type": "code",
   "execution_count": 42,
   "id": "133a19de",
   "metadata": {},
   "outputs": [
    {
     "name": "stdout",
     "output_type": "stream",
     "text": [
      "CPU times: total: 23min 16s\n",
      "Wall time: 1h 40min 37s\n"
     ]
    }
   ],
   "source": [
    "%%time\n",
    "sf_stacked.to_csv('s3://beam-core-act/deepDive/CleanData/SanFrancisco/Stacked/sf_2018_stacked_rh_WAV.csv', index=False)"
   ]
  },
  {
   "cell_type": "code",
   "execution_count": null,
   "id": "f08b313b",
   "metadata": {},
   "outputs": [],
   "source": []
  }
 ],
 "metadata": {
  "kernelspec": {
   "display_name": "Python 3 (ipykernel)",
   "language": "python",
   "name": "python3"
  },
  "language_info": {
   "codemirror_mode": {
    "name": "ipython",
    "version": 3
   },
   "file_extension": ".py",
   "mimetype": "text/x-python",
   "name": "python",
   "nbconvert_exporter": "python",
   "pygments_lexer": "ipython3",
   "version": "3.9.7"
  },
  "toc": {
   "base_numbering": 1,
   "nav_menu": {},
   "number_sections": true,
   "sideBar": true,
   "skip_h1_title": false,
   "title_cell": "Table of Contents",
   "title_sidebar": "Contents",
   "toc_cell": false,
   "toc_position": {},
   "toc_section_display": true,
   "toc_window_display": false
  }
 },
 "nbformat": 4,
 "nbformat_minor": 5
}
