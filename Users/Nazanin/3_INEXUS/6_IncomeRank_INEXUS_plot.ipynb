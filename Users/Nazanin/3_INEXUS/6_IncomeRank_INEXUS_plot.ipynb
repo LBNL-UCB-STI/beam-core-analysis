{
 "cells": [
  {
   "cell_type": "code",
   "execution_count": null,
   "id": "dcda02fa",
   "metadata": {},
   "outputs": [],
   "source": [
    "import os\n",
    "import os.path as op\n",
    "import numpy as np\n",
    "import pandas as pd\n",
    "import matplotlib.pyplot as plt\n",
    "import matplotlib.colors as mcolors\n",
    "%matplotlib inline\n",
    "import seaborn as sns\n",
    "sns.set_theme(style=\"darkgrid\", color_codes=True)\n",
    "sns.set(font_scale=1.35, style=\"ticks\") #set styling preferences"
   ]
  },
  {
   "cell_type": "code",
   "execution_count": null,
   "id": "e225b11c",
   "metadata": {},
   "outputs": [],
   "source": [
    "%%time\n",
    "# Stacked File without outliers (removed by isolation forest)\n",
    "stacked_rh_path = \"https://beam-core-act.s3.amazonaws.com/deepDive/CleanData/SanFrancisco/Stacked/\"\n",
    "sf_stacked_rh_price = pd.read_csv(stacked_rh_path + 'sf_2018_stacked_rh_price_clean_ML_5_11_23.csv') #usecols = cols_to_use"
   ]
  },
  {
   "cell_type": "code",
   "execution_count": null,
   "id": "ea2dc091",
   "metadata": {},
   "outputs": [],
   "source": [
    "def process_income_data(dataframe):\n",
    "    small_stacked_rh_price = dataframe[['lever_position_price','income_deciles','IDMerged','tripIndex',\n",
    "                                        'income', 'realized_in_dollar_2023_relative_to_baseline', \n",
    "                                        'Realized_INEXUS_in_dollar_2023', 'potential_in_dollar_2023_relative_to_baseline',\n",
    "                                        'Potential_INEXUS_in_dollar_2023', 'mode_choice_actual_4', 'duration_door_to_door',\n",
    "                                        'waitTime_no_replanning','waitTime_replanning', 'mode_choice_planned_BEAM',\n",
    "                                        'mode_choice_actual_BEAM','mode_actual_baseline']]\n",
    "    \n",
    "    small_stacked_rh_price['incomeInThousands'] = small_stacked_rh_price['income'] / 1000\n",
    "    \n",
    "    person_income = pd.pivot_table(\n",
    "        small_stacked_rh_price,\n",
    "        index=['IDMerged'],\n",
    "        aggfunc={'incomeInThousands': lambda x: ', '.join(set(x.dropna().astype(str)))}).reset_index()\n",
    "    \n",
    "    person_income['incomeInThousands'] = person_income['incomeInThousands'].astype(float)\n",
    "    \n",
    "    twenty_one_ranks = person_income['incomeInThousands'].quantile([\n",
    "        0, 0.048, 0.095, 0.143, 0.191, 0.239, 0.287, 0.335, 0.383, 0.431, 0.479,\n",
    "        0.527, 0.575, 0.623, 0.671, 0.719, 0.767, 0.815, 0.863, 0.911, 0.959, 1\n",
    "    ]).tolist()\n",
    "    \n",
    "    conditions = [\n",
    "        (person_income['incomeInThousands'] >= twenty_one_ranks[i]) & \n",
    "        (person_income['incomeInThousands'] <= twenty_one_ranks[i+1])\n",
    "        for i in range(21)\n",
    "    ]\n",
    "    \n",
    "    choices = list(range(21))\n",
    "    \n",
    "    person_income['incomeRank'] = np.select(conditions, choices, default=None)\n",
    "    \n",
    "    smaller_stacked_rh_price = pd.merge(left = small_stacked_rh_price, right = person_income, how='left', on = ['IDMerged'], suffixes=('', '_drop'))\n",
    "    smaller_stacked_rh_price.drop([col for col in smaller_stacked_rh_price.columns if 'drop' in col], axis=1, inplace=True)\n",
    "    \n",
    "    lorenz_data = pd.pivot_table(\n",
    "        smaller_stacked_rh_price,\n",
    "        index=['lever_position_price', 'incomeRank'],\n",
    "        aggfunc={'incomeInThousands': np.mean,\n",
    "                 'Potential_INEXUS_in_dollar_2023': np.mean,\n",
    "                 'Realized_INEXUS_in_dollar_2023': np.mean,\n",
    "                 'realized_in_dollar_2023_relative_to_baseline': np.mean,\n",
    "                 'potential_in_dollar_2023_relative_to_baseline': np.mean}).reset_index() \n",
    "    return lorenz_data"
   ]
  },
  {
   "cell_type": "code",
   "execution_count": null,
   "id": "c2305c27",
   "metadata": {},
   "outputs": [],
   "source": [
    "lorenz_data = process_income_data(sf_stacked_rh_price)"
   ]
  },
  {
   "cell_type": "code",
   "execution_count": null,
   "id": "d3ba6623",
   "metadata": {},
   "outputs": [],
   "source": [
    "palette = {\n",
    "    8: '#521e4d',\n",
    "    5: '#8e1d5b',\n",
    "    3: '#ad1759',\n",
    "    1.75: '#ca1a50',\n",
    "    1: '#e13243',\n",
    "    0.5: '#ee543f',\n",
    "    0.25: '#f37751',\n",
    "    0.125: '#f5966d',\n",
    "    0: '#f7d0b5'}"
   ]
  },
  {
   "cell_type": "code",
   "execution_count": null,
   "id": "025df9d8",
   "metadata": {},
   "outputs": [],
   "source": [
    "import matplotlib.ticker as ticker\n",
    "sns.set(rc={'figure.figsize':(20,14)})\n",
    "sns.set_theme(style=\"whitegrid\")\n",
    "fig, ax = plt.subplots()\n",
    "ax = sns.lineplot(data = df_lorenz, x = (lorenz_data['incomeRank'])*5, \n",
    "                  y = 'potential_in_dollar_2023_relative_to_baseline', hue = 'lever_position_price', palette = palette, ci=None, linewidth = 6)\n",
    "ax.set_xlabel('Income Rank (Percentiles of Income)', fontsize = 36) #45\n",
    "ax.set_ylabel('Potential INEXUS ($) relative to Baseline', fontsize = 36) #45\n",
    "ax.yaxis.set_tick_params(labelsize = 26) #35\n",
    "ax.xaxis.set_tick_params(labelsize = 26) #35\n",
    "ax.xaxis.set_major_formatter(ticker.FuncFormatter(lambda x, pos: f'{int(x)}%'))\n",
    "plt.legend(labels = ['0% Price', '12.5% Price', '25% Price','50% Price','Baseline','175% Price','300% Price', '500% Price','800% Price'],\n",
    "         fontsize='medium', fancybox=False, bbox_to_anchor=(1, 0.8), ncol=1, frameon=True, loc = 'best', prop={'size': 26}) #35\n",
    "#plt.savefig('lorenz.svg', format='svg', bbox_extra_artists=(ax.legend(['0% Price', '12.5% Price', '25% Price','50% Price','Baseline','175% Price','300% Price', '500% Price','800% Price'], fancybox=False, bbox_to_anchor=(1, 0.8), fontsize=26),), bbox_inches='tight') #30\n",
    "#plt.savefig('lorenz.png', dpi=300)"
   ]
  }
 ],
 "metadata": {
  "kernelspec": {
   "display_name": "Python 3 (ipykernel)",
   "language": "python",
   "name": "python3"
  },
  "language_info": {
   "codemirror_mode": {
    "name": "ipython",
    "version": 3
   },
   "file_extension": ".py",
   "mimetype": "text/x-python",
   "name": "python",
   "nbconvert_exporter": "python",
   "pygments_lexer": "ipython3",
   "version": "3.9.7"
  },
  "toc": {
   "base_numbering": 1,
   "nav_menu": {},
   "number_sections": true,
   "sideBar": true,
   "skip_h1_title": false,
   "title_cell": "Table of Contents",
   "title_sidebar": "Contents",
   "toc_cell": false,
   "toc_position": {},
   "toc_section_display": true,
   "toc_window_display": false
  },
  "varInspector": {
   "cols": {
    "lenName": 16,
    "lenType": 16,
    "lenVar": 40
   },
   "kernels_config": {
    "python": {
     "delete_cmd_postfix": "",
     "delete_cmd_prefix": "del ",
     "library": "var_list.py",
     "varRefreshCmd": "print(var_dic_list())"
    },
    "r": {
     "delete_cmd_postfix": ") ",
     "delete_cmd_prefix": "rm(",
     "library": "var_list.r",
     "varRefreshCmd": "cat(var_dic_list()) "
    }
   },
   "types_to_exclude": [
    "module",
    "function",
    "builtin_function_or_method",
    "instance",
    "_Feature"
   ],
   "window_display": false
  }
 },
 "nbformat": 4,
 "nbformat_minor": 5
}
