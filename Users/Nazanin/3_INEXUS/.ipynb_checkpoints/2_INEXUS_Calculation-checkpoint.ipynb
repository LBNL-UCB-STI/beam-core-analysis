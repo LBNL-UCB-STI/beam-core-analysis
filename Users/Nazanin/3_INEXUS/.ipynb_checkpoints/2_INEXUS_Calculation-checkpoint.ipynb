{
 "cells": [
  {
   "cell_type": "markdown",
   "id": "c5a838a0",
   "metadata": {},
   "source": [
    "#### Calculate the Realized INEXUS "
   ]
  },
  {
   "cell_type": "code",
   "execution_count": null,
   "id": "c4496107",
   "metadata": {},
   "outputs": [],
   "source": [
    "# Mapping BEAM and ActivitySim modes (The ones in this cell are the most promising matches)\n",
    "conditions  = [(sf_stacked['mode_choice_actual_BEAM'] == 'walk')&(sf_stacked['trip_mode_AS_trips'] == 'WALK'),\n",
    "               (sf_stacked['mode_choice_actual_BEAM'] == 'bike')&(sf_stacked['trip_mode_AS_trips'] == 'BIKE'),\n",
    "               (sf_stacked['mode_choice_actual_BEAM'] == 'hov3_teleportation')&(sf_stacked['trip_mode_AS_trips'] == 'SHARED3FREE'),\n",
    "               (sf_stacked['mode_choice_actual_BEAM'] == 'hov3_teleportation')&(sf_stacked['trip_mode_AS_trips'] == 'SHARED3PAY'),\n",
    "               (sf_stacked['mode_choice_actual_BEAM'] == 'car_hov3')&(sf_stacked['trip_mode_AS_trips'] == 'SHARED3FREE'),\n",
    "               (sf_stacked['mode_choice_actual_BEAM'] == 'car_hov3')&(sf_stacked['trip_mode_AS_trips'] == 'SHARED3PAY'),\n",
    "               (sf_stacked['mode_choice_actual_BEAM'] == 'hov2_teleportation')&(sf_stacked['trip_mode_AS_trips'] == 'SHARED2FREE'),\n",
    "               (sf_stacked['mode_choice_actual_BEAM'] == 'hov2_teleportation')&(sf_stacked['trip_mode_AS_trips'] == 'SHARED2PAY'),\n",
    "               (sf_stacked['mode_choice_actual_BEAM'] == 'car_hov2')&(sf_stacked['trip_mode_AS_trips'] == 'SHARED2PAY'),\n",
    "               (sf_stacked['mode_choice_actual_BEAM'] == 'car_hov2')&(sf_stacked['trip_mode_AS_trips'] == 'SHARED2FREE'),\n",
    "               (sf_stacked['mode_choice_actual_BEAM'] == 'car')&(sf_stacked['trip_mode_AS_trips'] == 'DRIVEALONEFREE'),\n",
    "               (sf_stacked['mode_choice_actual_BEAM'] == 'car')&(sf_stacked['trip_mode_AS_trips'] == 'DRIVEALONEPAY'),\n",
    "               (sf_stacked['mode_choice_actual_BEAM'] == 'walk_transit')&(sf_stacked['trip_mode_AS_trips'] == 'WALK_LRF'),\n",
    "               (sf_stacked['mode_choice_actual_BEAM'] == 'walk_transit')&(sf_stacked['trip_mode_AS_trips'] == 'WALK_LOC'),\n",
    "               (sf_stacked['mode_choice_actual_BEAM'] == 'walk_transit')&(sf_stacked['trip_mode_AS_trips'] == 'WALK_EXP'),\n",
    "               (sf_stacked['mode_choice_actual_BEAM'] == 'walk_transit')&(sf_stacked['trip_mode_AS_trips'] == 'WALK_HVY'),\n",
    "               (sf_stacked['mode_choice_actual_BEAM'] == 'walk_transit')&(sf_stacked['trip_mode_AS_trips'] == 'WALK_COM'),\n",
    "               (sf_stacked['mode_choice_actual_BEAM'] == 'ride_hail')&(sf_stacked['trip_mode_AS_trips'] == 'TNC_SINGLE'),\n",
    "               (sf_stacked['mode_choice_actual_BEAM'] == 'ride_hail')&(sf_stacked['trip_mode_AS_trips'] == 'TNC_SHARED'),\n",
    "               (sf_stacked['mode_choice_actual_BEAM'] == 'ride_hail')&(sf_stacked['trip_mode_AS_trips'] == 'TAXI'),\n",
    "               (sf_stacked['mode_choice_actual_BEAM'] == 'drive_transit')&(sf_stacked['trip_mode_AS_trips'] == 'DRIVE_COM'),\n",
    "               (sf_stacked['mode_choice_actual_BEAM'] == 'drive_transit')&(sf_stacked['trip_mode_AS_trips'] == 'DRIVE_LRF'),\n",
    "               (sf_stacked['mode_choice_actual_BEAM'] == 'drive_transit')&(sf_stacked['trip_mode_AS_trips'] == 'DRIVE_LOC'),\n",
    "               (sf_stacked['mode_choice_actual_BEAM'] == 'drive_transit')&(sf_stacked['trip_mode_AS_trips'] == 'DRIVE_EXP'),\n",
    "               (sf_stacked['mode_choice_actual_BEAM'] == 'drive_transit')&(sf_stacked['trip_mode_AS_trips'] == 'DRIVE_HVY'),\n",
    "               (sf_stacked['mode_choice_actual_BEAM'] == 'ride_hail_pooled')&(sf_stacked['trip_mode_AS_trips'] == 'TNC_SINGLE'),\n",
    "               (sf_stacked['mode_choice_actual_BEAM'] == 'ride_hail_pooled')&(sf_stacked['trip_mode_AS_trips'] == 'TNC_SHARED'),\n",
    "               (sf_stacked['mode_choice_actual_BEAM'] == 'ride_hail_pooled')&(sf_stacked['trip_mode_AS_trips'] == 'TAXI'),\n",
    "       \n",
    "               (sf_stacked['mode_choice_actual_BEAM'] == 'hov2_teleportation')&((sf_stacked['trip_mode_AS_trips'] == 'SHARED3FREE')|\n",
    "               (sf_stacked['trip_mode_AS_trips'] == 'SHARED3PAY')|(sf_stacked['trip_mode_AS_trips'] == 'DRIVEALONEFREE')|\n",
    "               (sf_stacked['trip_mode_AS_trips'] == 'DRIVEALONEPAY')),\n",
    "               \n",
    "               (sf_stacked['mode_choice_actual_BEAM'] == 'car_hov2')&((sf_stacked['trip_mode_AS_trips'] == 'SHARED3PAY')|\n",
    "               (sf_stacked['trip_mode_AS_trips'] == 'SHARED3FREE')|(sf_stacked['trip_mode_AS_trips'] == 'DRIVEALONEFREE')|\n",
    "               (sf_stacked['trip_mode_AS_trips'] == 'DRIVEALONEPAY')),\n",
    "               \n",
    "               (sf_stacked['mode_choice_actual_BEAM'] == 'car_hov3')&((sf_stacked['trip_mode_AS_trips'] == 'SHARED2PAY')|\n",
    "               (sf_stacked['trip_mode_AS_trips'] == 'SHARED2FREE')|(sf_stacked['trip_mode_AS_trips'] == 'DRIVEALONEFREE')|\n",
    "               (sf_stacked['trip_mode_AS_trips'] == 'DRIVEALONEPAY')),   \n",
    "               \n",
    "               (sf_stacked['mode_choice_actual_BEAM'] == 'hov3_teleportation')&((sf_stacked['trip_mode_AS_trips'] == 'DRIVEALONEPAY')|\n",
    "               (sf_stacked['trip_mode_AS_trips'] == 'DRIVEALONEFREE')|(sf_stacked['trip_mode_AS_trips'] == 'SHARED2PAY')|(sf_stacked['trip_mode_AS_trips'] == 'SHARED2FREE')),\n",
    "               \n",
    "               (sf_stacked['mode_choice_actual_BEAM'] == 'car')&((sf_stacked['trip_mode_AS_trips'] == 'SHARED3FREE')|(sf_stacked['trip_mode_AS_trips'] == 'SHARED2FREE')|\n",
    "               (sf_stacked['trip_mode_AS_trips'] == 'SHARED3PAY')|(sf_stacked['trip_mode_AS_trips'] == 'SHARED2PAY')|(sf_stacked['trip_mode_AS_trips'] == 'DRIVE_LOC')|\n",
    "               (sf_stacked['trip_mode_AS_trips'] == 'DRIVE_LRF')|(sf_stacked['trip_mode_AS_trips'] == 'DRIVE_EXP')|\n",
    "               (sf_stacked['trip_mode_AS_trips'] == 'DRIVE_HVY')|(sf_stacked['trip_mode_AS_trips'] == 'DRIVE_COM')),\n",
    "               \n",
    "               (sf_stacked['mode_choice_actual_BEAM'] == 'walk')&((sf_stacked['trip_mode_AS_trips'] == 'WALK_LRF')|\n",
    "               (sf_stacked['trip_mode_AS_trips'] == 'WALK_LOC')|(sf_stacked['trip_mode_AS_trips'] == 'WALK_EXP')|\n",
    "               (sf_stacked['trip_mode_AS_trips'] == 'WALK_HVY')|(sf_stacked['trip_mode_AS_trips'] == 'WALK_COM')),\n",
    "               \n",
    "               (sf_stacked['mode_choice_actual_BEAM'] == 'walk_transit')&(sf_stacked['trip_mode_AS_trips'] == 'WALK'),\n",
    "               \n",
    "               ((sf_stacked['mode_choice_actual_BEAM'] == 'ride_hail_pooled')|(sf_stacked['mode_choice_actual_BEAM'] == 'ride_hail'))\n",
    "               &(~((sf_stacked['trip_mode_AS_trips'] == 'TAXI')|(sf_stacked['trip_mode_AS_trips'] == 'TNC_SHARED')|\n",
    "                (sf_stacked['trip_mode_AS_trips'] == 'TNC_SINGLE'))),\n",
    "               \n",
    "               (sf_stacked['mode_choice_actual_BEAM'] == 'walk_transit')&(~((sf_stacked['trip_mode_AS_trips'] == 'WALK_LRF')|\n",
    "               (sf_stacked['trip_mode_AS_trips'] == 'WALK_LOC')|(sf_stacked['trip_mode_AS_trips'] == 'WALK_EXP')|\n",
    "               (sf_stacked['trip_mode_AS_trips'] == 'WALK_HVY')|(sf_stacked['trip_mode_AS_trips'] == 'WALK_COM')|\n",
    "               (sf_stacked['trip_mode_AS_trips'] == 'WALK'))),\n",
    "               \n",
    "               (sf_stacked['mode_choice_actual_BEAM'] == 'bike_transit'),\n",
    "               \n",
    "               (sf_stacked['mode_choice_actual_BEAM'] == 'car')&((sf_stacked['trip_mode_AS_trips'] == 'TNC_SHARED')|\n",
    "               (sf_stacked['trip_mode_AS_trips'] == 'TNC_SINGLE')|(sf_stacked['trip_mode_AS_trips'] == 'TAXI'))]\n",
    " \n",
    "                                                                      \n",
    "                                                                                                                 \n",
    "                                                                      \n",
    "choices = [sf_stacked['WALK'], sf_stacked['BIKE'], sf_stacked['SHARED3FREE'], sf_stacked['SHARED3PAY'],\n",
    "           sf_stacked['SHARED3FREE'], sf_stacked['SHARED3PAY'], sf_stacked['SHARED2FREE'], \n",
    "           sf_stacked['SHARED2PAY'], sf_stacked['SHARED2PAY'], sf_stacked['SHARED2FREE'], \n",
    "           sf_stacked['DRIVEALONEFREE'], sf_stacked['DRIVEALONEPAY'], sf_stacked['WALK_LRF'], \n",
    "           sf_stacked['WALK_LOC'], sf_stacked['WALK_EXP'], sf_stacked['WALK_HVY'], sf_stacked['WALK_COM'],\n",
    "           sf_stacked['TNC_SINGLE'], \n",
    "           sf_stacked['TNC_SHARED'], sf_stacked['TAXI'],\n",
    "           sf_stacked['DRIVE_COM'], sf_stacked['DRIVE_LRF'], sf_stacked['DRIVE_LOC'], sf_stacked['DRIVE_EXP'],\n",
    "           sf_stacked['DRIVE_HVY'], sf_stacked['TNC_SINGLE'], sf_stacked['TNC_SHARED'], sf_stacked['TAXI'],\n",
    "          sf_stacked[['DRIVEALONEFREE','DRIVEALONEPAY','SHARED2FREE','SHARED3FREE','SHARED2PAY','SHARED3PAY','DRIVE_LOC','DRIVE_LRF','DRIVE_EXP','DRIVE_HVY','DRIVE_COM']].max(axis=1),\n",
    "          sf_stacked[['DRIVEALONEFREE','DRIVEALONEPAY','SHARED2FREE','SHARED3FREE','SHARED2PAY','SHARED3PAY','DRIVE_LOC','DRIVE_LRF','DRIVE_EXP','DRIVE_HVY','DRIVE_COM']].max(axis=1),\n",
    "          sf_stacked[['DRIVEALONEFREE','DRIVEALONEPAY','SHARED2FREE','SHARED3FREE','SHARED2PAY','SHARED3PAY','DRIVE_LOC','DRIVE_LRF','DRIVE_EXP','DRIVE_HVY','DRIVE_COM']].max(axis=1),\n",
    "          sf_stacked[['DRIVEALONEFREE','DRIVEALONEPAY','SHARED2FREE','SHARED3FREE','SHARED2PAY','SHARED3PAY','DRIVE_LOC','DRIVE_LRF','DRIVE_EXP','DRIVE_HVY','DRIVE_COM']].max(axis=1),\n",
    "          sf_stacked[['DRIVEALONEFREE','DRIVEALONEPAY','SHARED2FREE','SHARED3FREE','SHARED2PAY','SHARED3PAY','DRIVE_LOC','DRIVE_LRF','DRIVE_EXP','DRIVE_HVY','DRIVE_COM']].max(axis=1),\n",
    "          sf_stacked[['WALK','WALK_LOC','WALK_LRF','WALK_EXP','WALK_HVY','WALK_COM']].max(axis=1),\n",
    "          sf_stacked[['WALK','WALK_LOC','WALK_LRF','WALK_EXP','WALK_HVY','WALK_COM']].max(axis=1),\n",
    "          sf_stacked[['TAXI','TNC_SINGLE','TNC_SHARED']].max(axis=1),\n",
    "          sf_stacked[['WALK','WALK_LOC','WALK_LRF','WALK_EXP','WALK_HVY','WALK_COM','DRIVE_LOC','DRIVE_LRF','DRIVE_EXP','DRIVE_HVY','DRIVE_COM']].max(axis=1),\n",
    "          sf_stacked[['BIKE','WALK_LOC','WALK_LRF','WALK_EXP','WALK_HVY','WALK_COM','DRIVE_LOC','DRIVE_LRF','DRIVE_EXP','DRIVE_HVY','DRIVE_COM']].max(axis=1),\n",
    "          sf_stacked[['DRIVEALONEFREE','DRIVEALONEPAY','SHARED2FREE','SHARED3FREE','SHARED2PAY','SHARED3PAY','DRIVE_LOC','DRIVE_LRF','DRIVE_EXP','DRIVE_HVY','DRIVE_COM']].max(axis=1)]"
   ]
  },
  {
   "cell_type": "code",
   "execution_count": null,
   "id": "db771a20",
   "metadata": {},
   "outputs": [],
   "source": [
    "sf_stacked['Realized_INEXUS'] = np.select(conditions, choices, default=np.nan)"
   ]
  },
  {
   "cell_type": "code",
   "execution_count": null,
   "id": "6e161684",
   "metadata": {},
   "outputs": [],
   "source": [
    "# I separated this part and the following two because they are not as strong matches of the modes as the first group\n",
    "sf_stacked['Realized_INEXUS'] = np.where((sf_stacked['Realized_INEXUS'].isna())&((sf_stacked['mode_choice_actual_BEAM'] == 'car_hov2')|\n",
    "                                          (sf_stacked['mode_choice_actual_BEAM'] == 'car_hov3')|\n",
    "                                          (sf_stacked['mode_choice_actual_BEAM'] == 'hov2_teleportation')|\n",
    "                                          (sf_stacked['mode_choice_actual_BEAM'] == 'hov3_teleportation')|\n",
    "                                          (sf_stacked['mode_choice_actual_BEAM'] == 'car')|\n",
    "                                          (sf_stacked['mode_choice_actual_BEAM'] == 'drive_transit')), \n",
    "                                           sf_stacked[['DRIVEALONEFREE','DRIVEALONEPAY','SHARED2FREE','SHARED3FREE','SHARED2PAY','SHARED3PAY','DRIVE_LOC','DRIVE_LRF','DRIVE_EXP','DRIVE_HVY','DRIVE_COM']].max(axis=1), sf_stacked['Realized_INEXUS'])"
   ]
  },
  {
   "cell_type": "code",
   "execution_count": null,
   "id": "4c1a1964",
   "metadata": {},
   "outputs": [],
   "source": [
    "sf_stacked['Realized_INEXUS'] = np.where((sf_stacked['Realized_INEXUS'].isna())&((sf_stacked['mode_choice_actual_BEAM'] == 'walk')|\n",
    "                                         (sf_stacked['mode_choice_actual_BEAM'] == 'walk_transit')), \n",
    "                                          sf_stacked[['WALK','WALK_LOC','WALK_LRF','WALK_EXP','WALK_HVY','WALK_COM','DRIVE_LOC','DRIVE_LRF','DRIVE_EXP','DRIVE_HVY','DRIVE_COM']].max(axis=1),sf_stacked['Realized_INEXUS'])"
   ]
  },
  {
   "cell_type": "code",
   "execution_count": null,
   "id": "ed720a27",
   "metadata": {},
   "outputs": [],
   "source": [
    "sf_stacked['Realized_INEXUS'] = np.where(sf_stacked['Realized_INEXUS'].isna()&(sf_stacked['mode_choice_actual_BEAM'] == 'bike'), \n",
    "                                         sf_stacked[['BIKE','WALK','WALK_LOC','WALK_LRF','WALK_EXP','WALK_HVY','WALK_COM']].max(axis=1),sf_stacked['Realized_INEXUS'])"
   ]
  },
  {
   "cell_type": "code",
   "execution_count": null,
   "id": "8bd22371",
   "metadata": {},
   "outputs": [],
   "source": [
    "# dropping the rows with NAN utility values\n",
    "sf_stacked.dropna(subset=['Realized_INEXUS'], inplace=True)"
   ]
  },
  {
   "cell_type": "markdown",
   "id": "d2d0c9e9",
   "metadata": {},
   "source": [
    "#### Convert the INEXUS values to dollar "
   ]
  },
  {
   "cell_type": "markdown",
   "id": "4932bb6c",
   "metadata": {},
   "source": [
    "Figure out alpha for each person-trip:\n",
    "\n",
    "a. ALPHA = 0.6(c_ivt /valueOfTime(n)) = c_cost\n",
    "    \n",
    "b. c_ivt = different for each trip purpose:<br>\n",
    "\n",
    "Expression c_ivt<br>\n",
    "work -0.022<br>\n",
    "univ -0.0271<br>\n",
    "school -0.0271<br>\n",
    "escort -0.0279<br>\n",
    "shopping -0.0279<br>\n",
    "eatout -0.0279<br>\n",
    "othmaint -0.0175<br>\n",
    "social -0.0175<br>\n",
    "othdiscr -0.0279<br>\n",
    "atwork -0.0279<br>\n",
    "\n",
    "c. Value of time for each person is in hh in ActivitySim\n",
    "2. For each scenario separately \n",
    "3. Utility of the actual mode taken (Realized inexus)\n",
    "4. Multiply that by 1/alpha\n",
    "5. That will be the monetized_realized for each person-trip which is the same as Willingness to pay (WTP)"
   ]
  },
  {
   "cell_type": "code",
   "execution_count": 1,
   "id": "98e70eca",
   "metadata": {},
   "outputs": [],
   "source": [
    "# Function to calculate c_ivt based on primary_purpose\n",
    "def calculate_in_vehicle_time_coefficient(primary_purpose):\n",
    "    conditions = [\n",
    "        (primary_purpose == 'work'),\n",
    "        (primary_purpose == 'univ'),\n",
    "        (primary_purpose == 'school'),\n",
    "        (primary_purpose == 'escort'),\n",
    "        (primary_purpose == 'shopping'),\n",
    "        (primary_purpose == 'eatout'),\n",
    "        (primary_purpose == 'othmaint'),\n",
    "        (primary_purpose == 'social'),\n",
    "        (primary_purpose == 'othdiscr'),\n",
    "        (primary_purpose == 'atwork')\n",
    "    ]\n",
    "    \n",
    "    choices = [-0.022, -0.0271, -0.0271, -0.0279, -0.0279, -0.0279, -0.0175, -0.0175, -0.0279, -0.0279]\n",
    "    \n",
    "    return np.select(conditions, choices, default=np.nan)"
   ]
  },
  {
   "cell_type": "code",
   "execution_count": null,
   "id": "c98793bb",
   "metadata": {},
   "outputs": [],
   "source": [
    "# Calculate c_ivt and assign it to 'c_ivt' column\n",
    "sf_stacked['c_ivt'] = calculate_in_vehicle_time_coefficient(sf_stacked['primary_purpose_x'])"
   ]
  },
  {
   "cell_type": "code",
   "execution_count": null,
   "id": "d5aae092",
   "metadata": {},
   "outputs": [],
   "source": [
    "# Calculate alpha based on 'c_ivt' and 'value_of_time'\n",
    "sf_stacked['alpha'] = -0.6 * (sf_stacked['c_ivt']) / (sf_stacked['value_of_time'])"
   ]
  },
  {
   "cell_type": "code",
   "execution_count": null,
   "id": "df69d060",
   "metadata": {},
   "outputs": [],
   "source": [
    "# Calculate the Realized INEXUS in_dollar - Multiply by 1.75 to convert it to the 2023 dollar value\n",
    "sf_stacked['Realized_INEXUS_in_dollar_2023'] = ((sf_stacked['Realized_INEXUS'] / sf_stacked['alpha']) / 100) * 1.75"
   ]
  },
  {
   "cell_type": "code",
   "execution_count": null,
   "id": "3de667e9",
   "metadata": {},
   "outputs": [],
   "source": [
    "# Calculate the Potential INEXUS in dollar - Multiply by 1.75 to convert it to the 2023 dollar value \n",
    "sf_stacked['Potential_INEXUS_in_dollar_2023'] = ((sf_stacked['logsum_trip_Potential_INEXUS'] / sf_stacked['alpha']) / 100) * 1.75"
   ]
  },
  {
   "cell_type": "code",
   "execution_count": null,
   "id": "27fea2b8",
   "metadata": {},
   "outputs": [],
   "source": [
    "sf_stacked['realized_in_dollar_2023_relative_to_baseline'] = sf_stacked['Realized_INEXUS_in_dollar_2023'] - (sf_stacked['Realized_INEXUS_in_dollar_2023'].where(sf_stacked['lever_position_price'].eq(1.0))\n",
    "                                                                                                  .groupby([sf_stacked['IDMerged'],sf_stacked['tripIndex']])\n",
    "                                                                                                   .transform('first')\n",
    "                                                                                                   .convert_dtypes()) "
   ]
  },
  {
   "cell_type": "code",
   "execution_count": null,
   "id": "c2c552bc",
   "metadata": {},
   "outputs": [],
   "source": [
    "sf_stacked['potential_in_dollar_2023_relative_to_baseline'] = sf_stacked['Potential_INEXUS_in_dollar_2023'] - (sf_stacked['Potential_INEXUS_in_dollar_2023'].where(sf_stacked['lever_position_price'].eq(1.0))\n",
    "                                                                                                  .groupby([sf_stacked['IDMerged'],sf_stacked['tripIndex']])\n",
    "                                                                                                   .transform('first')\n",
    "                                                                                                   .convert_dtypes()) "
   ]
  },
  {
   "cell_type": "markdown",
   "id": "f7c045b8",
   "metadata": {},
   "source": [
    "#### Social INEXUS"
   ]
  },
  {
   "cell_type": "code",
   "execution_count": null,
   "id": "09987ff4",
   "metadata": {},
   "outputs": [],
   "source": [
    "sf_stacked['socialCarbonCost'] = sf_stacked['emission_marginal'] * 185"
   ]
  },
  {
   "cell_type": "code",
   "execution_count": null,
   "id": "83e043db",
   "metadata": {},
   "outputs": [],
   "source": [
    "sf_stacked['Social_INEXUS'] = (sf_stacked['Realized_INEXUS_in_dollar_2023'] / sf_stacked['alpha']) - sf_stacked['socialCarbonCost']"
   ]
  }
 ],
 "metadata": {
  "kernelspec": {
   "display_name": "Python 3 (ipykernel)",
   "language": "python",
   "name": "python3"
  },
  "language_info": {
   "codemirror_mode": {
    "name": "ipython",
    "version": 3
   },
   "file_extension": ".py",
   "mimetype": "text/x-python",
   "name": "python",
   "nbconvert_exporter": "python",
   "pygments_lexer": "ipython3",
   "version": "3.9.7"
  },
  "toc": {
   "base_numbering": 1,
   "nav_menu": {},
   "number_sections": true,
   "sideBar": true,
   "skip_h1_title": false,
   "title_cell": "Table of Contents",
   "title_sidebar": "Contents",
   "toc_cell": false,
   "toc_position": {},
   "toc_section_display": true,
   "toc_window_display": false
  },
  "varInspector": {
   "cols": {
    "lenName": 16,
    "lenType": 16,
    "lenVar": 40
   },
   "kernels_config": {
    "python": {
     "delete_cmd_postfix": "",
     "delete_cmd_prefix": "del ",
     "library": "var_list.py",
     "varRefreshCmd": "print(var_dic_list())"
    },
    "r": {
     "delete_cmd_postfix": ") ",
     "delete_cmd_prefix": "rm(",
     "library": "var_list.r",
     "varRefreshCmd": "cat(var_dic_list()) "
    }
   },
   "types_to_exclude": [
    "module",
    "function",
    "builtin_function_or_method",
    "instance",
    "_Feature"
   ],
   "window_display": false
  }
 },
 "nbformat": 4,
 "nbformat_minor": 5
}
