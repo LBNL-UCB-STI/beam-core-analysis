{
 "cells": [
  {
   "cell_type": "code",
   "execution_count": null,
   "id": "e64f77e0",
   "metadata": {},
   "outputs": [],
   "source": [
    "import os\n",
    "import os.path as op\n",
    "import numpy as np\n",
    "import pandas as pd\n",
    "import matplotlib.pyplot as plt\n",
    "import matplotlib.colors as mcolors\n",
    "%matplotlib inline\n",
    "import seaborn as sns\n",
    "sns.set_theme(style=\"darkgrid\", color_codes=True)\n",
    "sns.set(font_scale=1.35, style=\"ticks\") #set styling preferences\n",
    "import statsmodels.api as sm\n",
    "from scipy import stats\n",
    "import math\n",
    "from math import pi\n",
    "from pandas.api.types import is_string_dtype\n",
    "from pandas.api.types import is_numeric_dtype\n",
    "from scipy.spatial.distance import cdist\n",
    "from scipy.cluster.vq import kmeans2,vq, whiten\n",
    "import geopandas as gpd\n",
    "import h5py\n",
    "import boto.s3\n",
    "import glob\n",
    "import boto3\n",
    "from zipfile import ZipFile\n",
    "import shutil"
   ]
  },
  {
   "cell_type": "code",
   "execution_count": null,
   "id": "9bfec714",
   "metadata": {},
   "outputs": [],
   "source": [
    "# Show all columns and rows\n",
    "pd.options.display.max_columns = None\n",
    "pd.options.display.max_rows = None"
   ]
  },
  {
   "cell_type": "code",
   "execution_count": null,
   "id": "bde2f781",
   "metadata": {},
   "outputs": [],
   "source": [
    "# Showing the entire number in dataframe\n",
    "pd.set_option('float_format', '{:f}'.format)"
   ]
  },
  {
   "cell_type": "code",
   "execution_count": null,
   "id": "2ed7f410",
   "metadata": {},
   "outputs": [],
   "source": [
    "%%time\n",
    "s3 = boto3.client(\"s3\")\n",
    "key = \"pilates-outputs/sfbay-baseline-2022124/inexus/sfbay_baseline_default-1.0_2020__20221224.csv.gz\"  #the path should be updated\n",
    "obj = s3.get_object(Bucket=\"beam-outputs\", Key=key)\n",
    "sfbase = pd.read_csv(obj['Body'], compression = 'gzip',index_col='Unnamed: 0')"
   ]
  },
  {
   "cell_type": "code",
   "execution_count": null,
   "id": "81a785dc",
   "metadata": {},
   "outputs": [],
   "source": [
    "sfbase = sfbase[(sfbase['duration_travelling'] > 0)].reset_index(drop=True)"
   ]
  },
  {
   "cell_type": "markdown",
   "id": "289e155b",
   "metadata": {},
   "source": [
    "### We used the Isolation Forest method to remove the outliers "
   ]
  },
  {
   "cell_type": "code",
   "execution_count": null,
   "id": "e420c4cd",
   "metadata": {},
   "outputs": [],
   "source": [
    "from sklearn.ensemble import IsolationForest\n",
    "# Select the columns you want to use for outlier detection\n",
    "X = sfbase[['Potential_INEXUS_in_dollar_2023', 'Realized_INEXUS_in_dollar_2023', 'duration_walking']].values\n",
    "\n",
    "# Define the Isolation Forest model\n",
    "isof = IsolationForest(n_estimators=100, contamination=0.1, random_state=42)\n",
    "\n",
    "# Fit the model to the data\n",
    "isof.fit(X)\n",
    "\n",
    "# Use the model to predict the outliers\n",
    "y_pred = isof.predict(X)\n",
    "\n",
    "# Add the outlier predictions to the DataFrame\n",
    "sfbase['is_outlier'] = y_pred\n",
    "\n",
    "# Remove the outliers from the DataFrame\n",
    "sfbase_clean_ml_walk = sfbase[sfbase['is_outlier'] == 1]"
   ]
  },
  {
   "cell_type": "code",
   "execution_count": null,
   "id": "9992d7d5",
   "metadata": {},
   "outputs": [],
   "source": [
    "plt.boxplot(sfbase_clean_ml_walk['Realized_INEXUS_in_dollar_2023'], whis=3)\n",
    "plt.show()"
   ]
  },
  {
   "cell_type": "code",
   "execution_count": null,
   "id": "36861c0d",
   "metadata": {},
   "outputs": [],
   "source": [
    "plt.boxplot(sfbase_clean_ml_walk['duration_walking'], whis=3)\n",
    "plt.show()"
   ]
  },
  {
   "cell_type": "markdown",
   "id": "2559ccdd",
   "metadata": {},
   "source": [
    "### Baseline INEXUS plots (ridehail price scenario)"
   ]
  },
  {
   "cell_type": "markdown",
   "id": "d20b6955",
   "metadata": {},
   "source": [
    "#### Simple Potential INEXUS"
   ]
  },
  {
   "cell_type": "code",
   "execution_count": null,
   "id": "eff42a4c",
   "metadata": {},
   "outputs": [],
   "source": [
    "from matplotlib.ticker import FuncFormatter\n",
    "sns.set(rc={'figure.figsize':(20,14)})\n",
    "sns.set_context('talk')\n",
    "\n",
    "sns.set_style(\"whitegrid\",{'grid.color': 'gainsboro'}) \n",
    "#'whitesmoke': a very light grey color with a hint of blue.\n",
    "#'gainsboro': a very light grey color with a hint of blue-green.\n",
    "#'lightgray': a slightly lighter shade of grey than 'lightgrey'.\n",
    "#'lavender'\n",
    "\n",
    "# Define function to format y-axis labels as percentages\n",
    "def to_percent(y, position):\n",
    "    return \"{:.1f}%\".format(y * 100)\n",
    "\n",
    "ax=sns.kdeplot(data=sfbase_clean_ml_walk, x=\"Potential_INEXUS_in_dollar_2023\", \n",
    "            fill=True, alpha=0.1, color=\"#CC3311\", bw_adjust =15, linewidth =5)\n",
    "\n",
    "# Format y-axis labels as percentages\n",
    "formatter = FuncFormatter(to_percent)\n",
    "ax.yaxis.set_major_formatter(formatter)\n",
    "\n",
    "#sns.move_legend(ax, labels = ['Lowest 10% Income','Highest 10% Income'], loc=\"right\", bbox_to_anchor=(1.25, 0.6), ncol=1, title=None, frameon=True)\n",
    "plt.legend(labels = ['Baseline Scenario'],\n",
    "          fontsize='small', fancybox=False, ncol=1, frameon=True, loc = 'best', prop={'size': 32}) #title=\"Modes\" #bbox_to_anchor=(1.5, 0.7), \n",
    "\n",
    "#plt.xlim(-80, 70)\n",
    "plt.xlabel('Potential INEXUS ($)', fontsize=32)\n",
    "plt.ylabel('Density', fontsize=32)\n",
    "ax.yaxis.set_tick_params(labelsize = 22)\n",
    "ax.xaxis.set_tick_params(labelsize = 22)\n",
    "#plt.savefig('baseline_mand.svg', format='svg')\n",
    "plt.savefig('density_baseline.svg', bbox_extra_artists=(ax.legend(['Baseline Scenario'], loc=\"best\", fontsize=34),), bbox_inches='tight')\n",
    "plt.savefig('density_baseline.png', bbox_extra_artists=(ax.legend(['Baseline Scenario'], loc=\"best\", fontsize=34),), bbox_inches='tight', dpi = 300)"
   ]
  },
  {
   "cell_type": "markdown",
   "id": "fa7813ef",
   "metadata": {},
   "source": [
    "#### Mode split Potential INEXUS"
   ]
  },
  {
   "cell_type": "code",
   "execution_count": null,
   "id": "b5493753",
   "metadata": {},
   "outputs": [],
   "source": [
    "sns.set(rc={'figure.figsize':(20,14)})\n",
    "sns.set_context('talk')\n",
    "\n",
    "sns.set_style(\"whitegrid\", {'gridcolor': 'grainsboro'})\n",
    "color_dict = {'walk/bike': '#CC3311', 'car': '#BBCC33', 'transit': '#009988', 'ride_hail': '#F4A582'} \n",
    "\n",
    "ax=sns.kdeplot(data=sfbase_clean_ml_walk, x=\"Potential_INEXUS_in_dollar_2023\", hue = 'mode_choice_actual_4', \n",
    "            fill=True, common_norm=False, common_grid = False, palette=color_dict.values(), alpha=0.1, bw_adjust =15, linewidth =5)  #color_dict.values()\n",
    "#sns.color_palette('rocket_r', n_colors=4) #palette=color_dict.values()\n",
    "#rainbow_r  tab20\n",
    "#sns.move_legend(ax, labels = ['Lowest 10% Income','Highest 10% Income'], loc=\"right\", bbox_to_anchor=(1.25, 0.6), ncol=1, title=None, frameon=True)\n",
    "\n",
    "# Define function to format y-axis labels as percentages\n",
    "def to_percent(y, position):\n",
    "    return \"{:.1f}%\".format(y * 100)\n",
    "\n",
    "# Format y-axis labels as percentages\n",
    "formatter = FuncFormatter(to_percent)\n",
    "ax.yaxis.set_major_formatter(formatter)\n",
    "\n",
    "#plt.xlim(-130, 130)\n",
    "\n",
    "plt.legend(labels = ['Ridehail', 'Transit', 'Walk/Bike', 'Car'],\n",
    "          fontsize='small', fancybox=False, ncol=1, frameon=True, loc = 'best', prop={'size': 32}) #title=\"Modes\" #bbox_to_anchor=(1.5, 0.7), \n",
    "\n",
    "plt.xlabel('Potential INEXUS ($)', fontsize=32)\n",
    "plt.ylabel('Density', fontsize=32)\n",
    "ax.yaxis.set_tick_params(labelsize = 22)\n",
    "ax.xaxis.set_tick_params(labelsize = 22)\n",
    "#plt.savefig('baseline_mand.svg', format='svg')\n",
    "plt.savefig('density_mode_baseline.svg', bbox_extra_artists=(ax.legend( ['Ridehail', 'Transit', 'Walk/Bike', 'Car'], loc=\"best\", fontsize=34),), bbox_inches='tight')\n",
    "plt.savefig('density_mode_baseline.png', bbox_extra_artists=(ax.legend( ['Ridehail', 'Transit', 'Walk/Bike', 'Car'], loc=\"best\", fontsize=34),), bbox_inches='tight', dpi = 300)"
   ]
  },
  {
   "cell_type": "markdown",
   "id": "ab36db6b",
   "metadata": {},
   "source": [
    "#### Mandatory - Non-mandatory categories"
   ]
  },
  {
   "cell_type": "code",
   "execution_count": null,
   "id": "93238b63",
   "metadata": {},
   "outputs": [],
   "source": [
    "# Add the mandatory category column\n",
    "mandatory = ['work' , 'univ', 'school']\n",
    "sfbase_clean_ml_walk['mandatoryCat'] = np.where((sfbase_clean_ml_walk.actEndType.isin(mandatory)) & (sfbase_clean_ml_walk.actStartType.isin(mandatory)), 'from_M_to_M' , None)"
   ]
  },
  {
   "cell_type": "code",
   "execution_count": null,
   "id": "0808bbfc",
   "metadata": {},
   "outputs": [],
   "source": [
    "sfbase_clean_ml_walk['mandatoryCat'] = np.where((sfbase_clean_ml_walk.actEndType == 'Home') & (sfbase_clean_ml_walk.actStartType.isin(mandatory)), 'from_H_to_M' , sfbase_clean_ml_walk['mandatoryCat'])"
   ]
  },
  {
   "cell_type": "code",
   "execution_count": null,
   "id": "1ddfef2b",
   "metadata": {},
   "outputs": [],
   "source": [
    "sfbase_clean_ml_walk['mandatoryCat'] = np.where((sfbassfbase_clean_ml_walke_clean_ml.actEndType.isin(mandatory)) & (sfbase_clean_ml_walk.actStartType == \"Home\"), 'from_M_to_H' , sfbase_clean_ml_walk['mandatoryCat'])"
   ]
  },
  {
   "cell_type": "code",
   "execution_count": null,
   "id": "993a39d5",
   "metadata": {},
   "outputs": [],
   "source": [
    "non_mandatory = ['othmaint' , 'othdiscr', 'escort', 'eatout', 'social', 'shopping', 'atwork']\n",
    "sfbase_clean_ml_walk['mandatoryCat'] = np.where((sfbase_clean_ml_walk.actEndType.isin(non_mandatory)) & (sfbase_clean_ml_walk.actStartType.isin(non_mandatory)), 'from_N_to_N' , sfbase_clean_ml_walk['mandatoryCat'])"
   ]
  },
  {
   "cell_type": "code",
   "execution_count": null,
   "id": "3082e4e5",
   "metadata": {},
   "outputs": [],
   "source": [
    "sfbase_clean_ml_walk['mand_cat'] = np.where(sfbase_clean_ml_walk['mandatoryCat'].isin(['from_M_to_M', 'from_M_to_H', 'from_H_to_M']), 'mand', 'non-mand')"
   ]
  },
  {
   "cell_type": "code",
   "execution_count": null,
   "id": "b16047aa",
   "metadata": {},
   "outputs": [],
   "source": [
    "sfbase_clean_ml_walk.groupby('mand_cat')['Potential_INEXUS_in_dollar_2023'].describe()"
   ]
  },
  {
   "cell_type": "code",
   "execution_count": null,
   "id": "88ca0f2c",
   "metadata": {},
   "outputs": [],
   "source": [
    "sns.set(rc={'figure.figsize':(20,14)}) #\n",
    "sns.set_context('talk')\n",
    "\n",
    "sns.set_style(\"whitegrid\", {'gridcolor': 'grainsboro'})\n",
    "\n",
    "ax=sns.kdeplot(data=sfbase_clean_ml_walk, x=\"Potential_INEXUS_in_dollar_2023\", hue = 'mand_cat',\n",
    "            fill=True, common_norm=False, alpha=0.1, palette=sns.color_palette('mako', n_colors=2), bw_adjust =15, linewidth =5)\n",
    "sns.move_legend(ax, labels = ['Mandatory trips','Non-mandatory trips'], loc=\"best\", ncol=1, title=None, frameon=True, fontsize = 28)#, bbox_to_anchor=(1.25, 0.6), \n",
    "\n",
    "# Define function to format y-axis labels as percentages\n",
    "def to_percent(y, position):\n",
    "    return \"{:.1f}%\".format(y * 100)\n",
    "\n",
    "# Format y-axis labels as percentages\n",
    "formatter = FuncFormatter(to_percent)\n",
    "ax.yaxis.set_major_formatter(formatter)\n",
    "\n",
    "#plt.xlim(-90, 75)\n",
    "plt.xlabel('Potential INEXUS ($)', fontsize=32)\n",
    "plt.ylabel('Density', fontsize=32)\n",
    "ax.yaxis.set_tick_params(labelsize = 22)\n",
    "ax.xaxis.set_tick_params(labelsize = 22)\n",
    "#plt.savefig('baseline_mand.svg', format='svg')\n",
    "plt.savefig('density_mand_baseline.svg', bbox_extra_artists=(ax.legend(['Mandatory trips','Non-mandatory trips'], loc=\"best\", fontsize=28),), bbox_inches='tight')\n",
    "plt.savefig('density_mand_baseline.png', bbox_extra_artists=(ax.legend(['Mandatory trips','Non-mandatory trips'], loc=\"best\", fontsize=34),), bbox_inches='tight', dpi = 300)"
   ]
  },
  {
   "cell_type": "markdown",
   "id": "e7d2a97e",
   "metadata": {},
   "source": [
    "#### Distance INEXUS plot"
   ]
  },
  {
   "cell_type": "code",
   "execution_count": null,
   "id": "85e9d6f2",
   "metadata": {},
   "outputs": [],
   "source": [
    "# get the quartiles of the distance column\n",
    "quartiles = np.percentile(sfbase_clean_ml['distance_travelling'], [25, 50, 75])\n",
    "\n",
    "# set the cutoffs based on the quartiles\n",
    "cutoffs = [0, quartiles[0], quartiles[1], quartiles[2], float('inf')]\n",
    "\n",
    "# label the distances based on the cutoffs\n",
    "sfbase_clean_ml['distance_group'] = pd.qcut(sfbase_clean_ml['distance_travelling'], q=3, labels=['short', 'medium', 'long'])"
   ]
  },
  {
   "cell_type": "code",
   "execution_count": null,
   "id": "190bbc28",
   "metadata": {},
   "outputs": [],
   "source": [
    "# Add a column of income deciles\n",
    "deciles = sfbase_clean_ml['distance_travelling'].quantile([0,0.1,0.2,0.3,0.4,0.5,0.6,0.7,0.8,0.9,1]).tolist()"
   ]
  },
  {
   "cell_type": "code",
   "execution_count": null,
   "id": "b8ca3ac2",
   "metadata": {},
   "outputs": [],
   "source": [
    "# Add distance_travelling deciles\n",
    "conditions  = [(sfbase_clean_ml['distance_travelling'] >= deciles[0]) & (sfbase_clean_ml['distance_travelling'] < deciles[1]), \n",
    "               (sfbase_clean_ml['distance_travelling'] >= deciles[1]) & (sfbase_clean_ml['distance_travelling'] < deciles[2]),\n",
    "               (sfbase_clean_ml['distance_travelling'] >=  deciles[2]) & (sfbase_clean_ml['distance_travelling'] < deciles[3]),\n",
    "               (sfbase_clean_ml['distance_travelling'] >= deciles[3]) & (sfbase_clean_ml['distance_travelling'] < deciles[4]), \n",
    "               (sfbase_clean_ml['distance_travelling'] >=  deciles[4]) & (sfbase_clean_ml['distance_travelling'] < deciles[5]),\n",
    "               (sfbase_clean_ml['distance_travelling'] >=  deciles[5]) & (sfbase_clean_ml['distance_travelling'] < deciles[6]),\n",
    "               (sfbase_clean_ml['distance_travelling'] >=  deciles[6]) & (sfbase_clean_ml['distance_travelling'] < deciles[7]),\n",
    "               (sfbase_clean_ml['distance_travelling'] >=  deciles[7]) & (sfbase_clean_ml['distance_travelling'] < deciles[8]),\n",
    "               (sfbase_clean_ml['distance_travelling'] >=  deciles[8]) & (sfbase_clean_ml['distance_travelling'] < deciles[9]),\n",
    "               (sfbase_clean_ml['distance_travelling'] >=  deciles[9]) & (sfbase_clean_ml['distance_travelling'] <= deciles[10])]\n",
    "\n",
    "choices = [ '1stD', '2ndD', '3rdD', \n",
    "           '4thD', '5thD', '6thD', '7thD', '8thD', '9thD','10thD']"
   ]
  },
  {
   "cell_type": "code",
   "execution_count": null,
   "id": "81d8529b",
   "metadata": {},
   "outputs": [],
   "source": [
    "sfbase_clean_ml['distance_deciles'] = np.select(conditions, choices, default=None)"
   ]
  },
  {
   "cell_type": "code",
   "execution_count": null,
   "id": "a1fe658a",
   "metadata": {},
   "outputs": [],
   "source": [
    "sns.set(rc={'figure.figsize':(20,14)})\n",
    "sns.set_context('talk')\n",
    "\n",
    "sns.set_style(\"whitegrid\", {'gridcolor': 'grainsboro'})\n",
    "colors = [\"#1a9850\", \"#d73027\", \"#FFA07A\", \"#b3de69\"] \n",
    "\n",
    "#color_dict = {'walk/bike': '#CC3311', 'car': '#BBCC33', 'transit': '#009988', 'ride_hail': '#F4A582'} \n",
    "sns.set_palette(sns.color_palette(colors))\n",
    "\n",
    "ax=sns.kdeplot(data=sfbase_clean_ml[(sfbase_clean_ml['distance_deciles'] == '1stD')|(sfbase_clean_ml['distance_deciles'] == '10thD')]\n",
    "                                    , x=\"Potential_INEXUS_in_dollar_2023\", hue = 'distance_deciles', \n",
    "            fill=True, common_norm=False, common_grid = False,alpha=0.05, bw_adjust =15, linewidth =5)  #color_dict.values()\n",
    "#sns.color_palette('rocket_r', n_colors=4) #palette=color_dict.values()\n",
    "#rainbow_r  tab20\n",
    "#sns.move_legend(ax, labels = ['Lowest 10% Income','Highest 10% Income'], loc=\"right\", bbox_to_anchor=(1.25, 0.6), ncol=1, title=None, frameon=True)\n",
    "\n",
    "# Define function to format y-axis labels as percentages\n",
    "def to_percent(y, position):\n",
    "    return \"{:.1f}%\".format(y * 100)\n",
    "\n",
    "# Format y-axis labels as percentages\n",
    "formatter = FuncFormatter(to_percent)\n",
    "ax.yaxis.set_major_formatter(formatter)\n",
    "\n",
    "#plt.xlim(-120, 100)\n",
    "\n",
    "plt.legend(labels = ['10% longest distance','10% shortest distance'],\n",
    "        fontsize='small', title_fontsize = 30, fancybox=False, ncol=1, frameon=True, loc = 'best', prop={'size': 32}) #title=\"Modes\" #bbox_to_anchor=(1.5, 0.7), \n",
    "\n",
    "plt.xlabel('Potential INEXUS ($)', fontsize=32)\n",
    "plt.ylabel('Density', fontsize=32)\n",
    "ax.yaxis.set_tick_params(labelsize = 22)\n",
    "ax.xaxis.set_tick_params(labelsize = 22)\n",
    "#plt.savefig('baseline_mand.svg', format='svg')\n",
    "plt.savefig('density_baseline_distance.svg', bbox_extra_artists=(ax.legend(['10% longest distance','10% shortest distance'], loc=\"best\", fontsize=34),), bbox_inches='tight')\n",
    "plt.savefig('density_baseline_distance.png', bbox_extra_artists=(ax.legend(['10% longest distance','10% shortest distance'], loc=\"best\", fontsize=34),), bbox_inches='tight', dpi = 300)"
   ]
  },
  {
   "cell_type": "markdown",
   "id": "7447b77e",
   "metadata": {},
   "source": [
    "### IQR (an alternative way to remove the outliers that we didn't use)"
   ]
  },
  {
   "cell_type": "code",
   "execution_count": null,
   "id": "65cb451c",
   "metadata": {},
   "outputs": [],
   "source": [
    "# Calculate the quartiles, IQR, and bounds for column 1\n",
    "q1_1, q3_1 = np.percentile(sfbase['Potential_INEXUS_in_dollar_2023'], [25, 75])\n",
    "iqr_1 = q3_1 - q1_1\n",
    "lower_bound_1 = q1_1 - 1.5 * iqr_1\n",
    "upper_bound_1 = q3_1 + 1.5 * iqr_1\n",
    "\n",
    "# Calculate the quartiles, IQR, and bounds for column 2\n",
    "q1_2, q3_2 = np.percentile(sfbase['Realized_INEXUS_in_dollar_2023'], [25, 75])\n",
    "iqr_2 = q3_2 - q1_2\n",
    "lower_bound_2 = q1_2 - 1.5 * iqr_2\n",
    "upper_bound_2 = q3_2 + 1.5 * iqr_2\n",
    "\n",
    "# Filter out the data points that are outliers in either column\n",
    "sfbase_clean_iqr = sfbase[(sfbase['Potential_INEXUS_in_dollar_2023'] >= lower_bound_1) & (sfbase['Potential_INEXUS_in_dollar_2023'] <= upper_bound_1) &\n",
    "        (sfbase['Realized_INEXUS_in_dollar_2023'] >= lower_bound_2) & (sfbase['Realized_INEXUS_in_dollar_2023'] <= upper_bound_2)]"
   ]
  }
 ],
 "metadata": {
  "kernelspec": {
   "display_name": "Python 3 (ipykernel)",
   "language": "python",
   "name": "python3"
  },
  "language_info": {
   "codemirror_mode": {
    "name": "ipython",
    "version": 3
   },
   "file_extension": ".py",
   "mimetype": "text/x-python",
   "name": "python",
   "nbconvert_exporter": "python",
   "pygments_lexer": "ipython3",
   "version": "3.9.7"
  },
  "toc": {
   "base_numbering": 1,
   "nav_menu": {},
   "number_sections": true,
   "sideBar": true,
   "skip_h1_title": false,
   "title_cell": "Table of Contents",
   "title_sidebar": "Contents",
   "toc_cell": false,
   "toc_position": {},
   "toc_section_display": true,
   "toc_window_display": false
  },
  "varInspector": {
   "cols": {
    "lenName": 16,
    "lenType": 16,
    "lenVar": 40
   },
   "kernels_config": {
    "python": {
     "delete_cmd_postfix": "",
     "delete_cmd_prefix": "del ",
     "library": "var_list.py",
     "varRefreshCmd": "print(var_dic_list())"
    },
    "r": {
     "delete_cmd_postfix": ") ",
     "delete_cmd_prefix": "rm(",
     "library": "var_list.r",
     "varRefreshCmd": "cat(var_dic_list()) "
    }
   },
   "types_to_exclude": [
    "module",
    "function",
    "builtin_function_or_method",
    "instance",
    "_Feature"
   ],
   "window_display": false
  }
 },
 "nbformat": 4,
 "nbformat_minor": 5
}
