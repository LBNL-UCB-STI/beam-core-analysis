{
 "cells": [
  {
   "cell_type": "code",
   "execution_count": 5,
   "id": "c0f71a2c",
   "metadata": {},
   "outputs": [],
   "source": [
    "import os\n",
    "import os.path as op\n",
    "import numpy as np\n",
    "import pandas as pd\n",
    "import matplotlib.pyplot as plt\n",
    "import matplotlib.colors as mcolors\n",
    "%matplotlib inline\n",
    "import seaborn as sns\n",
    "sns.set_theme(style=\"darkgrid\", color_codes=True)\n",
    "sns.set(font_scale=1.35, style=\"ticks\") #set styling preferences\n",
    "import statsmodels.api as sm\n",
    "from scipy import stats\n",
    "import math\n",
    "from math import pi\n",
    "from pandas.api.types import is_string_dtype\n",
    "from pandas.api.types import is_numeric_dtype\n",
    "from scipy.spatial.distance import cdist\n",
    "from scipy.cluster.vq import kmeans2,vq, whiten\n",
    "import geopandas as gpd\n",
    "import h5py\n",
    "import boto.s3\n",
    "import glob\n",
    "import boto3\n",
    "from zipfile import ZipFile\n",
    "import shutil"
   ]
  },
  {
   "cell_type": "code",
   "execution_count": 6,
   "id": "1c4d781d",
   "metadata": {},
   "outputs": [],
   "source": [
    "# Show all columns and rows\n",
    "pd.options.display.max_columns = None\n",
    "pd.options.display.max_rows = None"
   ]
  },
  {
   "cell_type": "code",
   "execution_count": 7,
   "id": "97dd832e",
   "metadata": {},
   "outputs": [],
   "source": [
    "# Showing the entire number in dataframe\n",
    "pd.set_option('float_format', '{:f}'.format)"
   ]
  },
  {
   "cell_type": "markdown",
   "id": "a31a9ff8",
   "metadata": {
    "heading_collapsed": true
   },
   "source": [
    "### Reading Ridehail Price Scenarios from AWS S3"
   ]
  },
  {
   "cell_type": "code",
   "execution_count": 11,
   "id": "e07f4e84",
   "metadata": {
    "hidden": true
   },
   "outputs": [
    {
     "name": "stderr",
     "output_type": "stream",
     "text": [
      "<timed exec>:5: DtypeWarning: Columns (27,77,133,134,135,136,137,138,139,140,141,142,143,144,145,146,147,148,149,150,151,153,162,167,169,170,171,172,174,175,232,233,234,235,244) have mixed types. Specify dtype option on import or set low_memory=False.\n",
      "<timed exec>:5: DtypeWarning: Columns (77,133,134,135,136,137,138,139,140,141,142,143,144,145,146,147,148,149,150,151,153,162,167,169,170,171,172,174,175,232,233,234,235,244) have mixed types. Specify dtype option on import or set low_memory=False.\n",
      "<timed exec>:5: DtypeWarning: Columns (27,77,133,134,135,136,137,138,139,140,141,142,143,144,145,146,147,148,149,150,151,153,162,167,169,170,171,172,174,175,232,233,234,235,244) have mixed types. Specify dtype option on import or set low_memory=False.\n"
     ]
    },
    {
     "name": "stdout",
     "output_type": "stream",
     "text": [
      "CPU times: total: 5min 46s\n",
      "Wall time: 5min 49s\n"
     ]
    }
   ],
   "source": [
    "%%time \n",
    "# Function to load data and add scenario info\n",
    "def load_data_and_add_scenario_info(key, scenario, lever, lever_position):\n",
    "    s3 = boto3.client(\"s3\")\n",
    "    obj = s3.get_object(Bucket=\"beam-outputs\", Key=key)\n",
    "    data = pd.read_csv(obj['Body'], compression='gzip', index_col='Unnamed: 0')\n",
    "    \n",
    "    data['scenario'] = scenario\n",
    "    data['scenario'] = data['scenario'].astype(\"category\")\n",
    "    data['lever'] = lever\n",
    "    data['lever'] = data['lever'].astype(\"category\")\n",
    "    data['year'] = 2018\n",
    "    data['lever_position_price'] = lever_position\n",
    "    data['lever_position_fleetsize'] = 1\n",
    "    \n",
    "    return data\n",
    "\n",
    "# Load data and add scenario info for each lever position\n",
    "sfbase = load_data_and_add_scenario_info(\"pilates-outputs/sfbay-baseline-2022124/inexus/sfbay_baseline_default-1.0_2020__20221224.csv.gz\", \"baseline\", \"default\", 1)\n",
    "\n",
    "sf_rh_price_0 = load_data_and_add_scenario_info(\"pilates-outputs/sfbay-rh-price-0.000-20221224/inexus/sfbay_rh_price_0_000_rh_price-1.0_2020__20221224.csv.gz\", \"ridehail\", \"price\", 0)\n",
    "sf_rh_price_0p125 = load_data_and_add_scenario_info(\"pilates-outputs/sfbay-rh-price-0.125-20221224/inexus/sfbay_rh_price_0_125_rh_price-1.0_2020__20221224.csv.gz\", \"ridehail\", \"price\", 0.125)\n",
    "sf_rh_price_0p25 = load_data_and_add_scenario_info(\"pilates-outputs/sfbay-rh-price-0.250-20221224/inexus/sfbay_rh_price_0_250_rh_price-1.0_2020__20221224.csv.gz\", \"ridehail\", \"price\", 0.25)\n",
    "sf_rh_price_0p5 = load_data_and_add_scenario_info(\"pilates-outputs/sfbay-rh-price-0.500-20221224/inexus/sfbay_rh_price_0_50_rh_price-1.0_2020__20230126.csv.gz\", \"ridehail\", \"price\", 0.5)\n",
    "sf_rh_price_1p75 = load_data_and_add_scenario_info(\"pilates-outputs/sfbay-rh-price-1.750-20221224/inexus/sfbay_rh_price_1_750_rh_price-1.0_2020__20221224.csv.gz\", \"ridehail\", \"price\", 1.75)\n",
    "sf_rh_price_3 = load_data_and_add_scenario_info(\"pilates-outputs/sfbay-rh-price-3.000-20221224/inexus/sfbay_rh_price_3_000_rh_price-1.0_2020__20221224.csv.gz\", \"ridehail\", \"price\", 3)\n",
    "sf_rh_price_5 = load_data_and_add_scenario_info(\"pilates-outputs/sfbay-rh-price-5.000-20221224/inexus/sfbay_rh_price_5_000_rh_price-1.0_2020__20221224.csv.gz\", \"ridehail\", \"price\", 5)\n",
    "sf_rh_price_8 = load_data_and_add_scenario_info(\"pilates-outputs/sfbay-rh-price-8.000-20221224/inexus/sfbay_rh_price_8_000_rh_price-1.0_2020__20221224.csv.gz\", \"ridehail\", \"price\", 8)"
   ]
  },
  {
   "cell_type": "markdown",
   "id": "71810912",
   "metadata": {
    "heading_collapsed": true
   },
   "source": [
    "### Stacking the files"
   ]
  },
  {
   "cell_type": "code",
   "execution_count": 13,
   "id": "aa5d371d",
   "metadata": {
    "hidden": true
   },
   "outputs": [],
   "source": [
    "# Define the list of columns to be dropped\n",
    "columns_to_drop = [\n",
    "    'has_school_kid', 'has_preschool_kid', 'has_retiree', 'has_non_worker', 'adult', 'hispanic', 'relate',\n",
    "    'pstudent', 'pemploy', 'ptype', 'p_hispanic', 'age_16_p', 'age_16_to_19', 'person_age', 'MAR', 'hours',\n",
    "    'hispanic.1', 'student', 'worker', 'stop_frequency', 'composition', 'tdd', 'number_of_participants',\n",
    "    'tour_type_count', 'tour_type_num', 'tour_num', 'tour_count', 'outbound', 'trip_num', 'num_under16_not_at_school',\n",
    "    'family', 'non_family', 'num_young_adults', 'num_college_age', 'num_children_16_to_17', 'num_children_5_to_15',\n",
    "    'num_young_children',\n",
    "    'vehicleIds_estimate', 'parent_tour_id', 'atwork_subtour_frequency', 'household_id_y', 'male', 'female',\n",
    "    'has_driving_kid', 'has_full_time', 'has_part_time', 'has_university', 'student_is_employed', 'nonstudent_to_school',\n",
    "    'is_student', 'is_gradeschool', 'is_highschool', 'is_university', 'school_segment', 'is_worker',\n",
    "    'distance_to_school', 'roundtrip_auto_time_to_school', 'distance_to_work', 'workplace_in_cbd', 'work_taz_area_type',\n",
    "    'hh_race_of_head', 'roundtrip_auto_time_to_work', 'work_auto_savings_ratio', 'cdap_activity', 'travel_active',\n",
    "    'under16_not_at_school', 'has_preschool_kid_at_home', 'gt2', 'hispanic_head', 'has_school_kid_at_home',\n",
    "    'work_and_school_and_worker', 'age_of_head', 'race_of_head', 'work_and_school_and_student', 'VEHICL',\n",
    "    'hh_children', 'hh_age_of_head', 'num_workers', 'gt55', 'seniors', 'recent_mover', 'hh_workers',\n",
    "    'hispanic_status_of_head', 'hh_seniors', 'HHT', 'sample_rate', 'chunk_id', 'income_segment', 'num_non_workers',\n",
    "    'num_adults', 'num_children', 'hh_work_auto_savings_ratio', 'num_travel_active', 'num_travel_active_adults',\n",
    "    'num_travel_active_preschoolers', 'num_travel_active_children', 'num_travel_active_non_preschoolers',\n",
    "    'participates_in_jtf_model', 'joint_tour_frequency', 'num_hh_joint_tours', 'serialno',\n",
    "    'sf_detached', 'household_id_x','destination_logsum_y','logsum_tours_mode_AS_tours',\n",
    "    'primary_purpose_y','PNUM','work_auto_savings','mandatory_tour_frequency',\n",
    "    'num_work_tours','num_joint_tours', 'non_mandatory_tour_frequency',\n",
    "    'num_non_mand','num_escort_tours','num_eatout_tours','num_shop_tours',\n",
    "    'num_maint_tours','num_discr_tours','num_social_tours','num_non_escort_tours'\n",
    "]\n",
    "\n",
    "# Define the list of dataframes to be concatenated\n",
    "frames = [sf_rh_price_0, sf_rh_price_0p125, sf_rh_price_0p25, sf_rh_price_0p5, sfbase, sf_rh_price_1p75, sf_rh_price_3,\n",
    "          sf_rh_price_5, sf_rh_price_8]\n",
    "\n",
    "# Combine all dataframes into one\n",
    "sf_stacked = pd.concat(frames, ignore_index=True)\n",
    "\n",
    "# Drop the specified columns\n",
    "sf_stacked = sf_stacked.drop(columns_to_drop, axis=1, inplace=True)"
   ]
  },
  {
   "cell_type": "code",
   "execution_count": null,
   "id": "609e4ba2",
   "metadata": {
    "hidden": true
   },
   "outputs": [],
   "source": [
    "sf_stacked = sf_stacked.sort_values(by=['IDMerged', 'tripIndex', 'lever_position']).reset_index(drop=True)"
   ]
  },
  {
   "cell_type": "code",
   "execution_count": 43,
   "id": "2c4e35a6",
   "metadata": {
    "hidden": true
   },
   "outputs": [],
   "source": [
    "sf_stacked['door_to_door_time_relative_to_baseline'] = sf_stacked['duration_door_to_door'] - (sf_stacked['duration_door_to_door'].where(sf_stacked['lever_position_price'].eq(1.0))\n",
    "                                                                                                  .groupby([sf_stacked['IDMerged'],sf_stacked['tripIndex']])\n",
    "                                                                                                   .transform('first')\n",
    "                                                                                                   .convert_dtypes())"
   ]
  },
  {
   "cell_type": "code",
   "execution_count": 17,
   "id": "f0a34f90",
   "metadata": {
    "hidden": true
   },
   "outputs": [],
   "source": [
    "def categorize_mandatory(row):\n",
    "    mandatory = ['work', 'univ', 'school']\n",
    "    non_mandatory = ['othmaint', 'othdiscr', 'escort', 'eatout', 'social', 'shopping', 'atwork']\n",
    "    \n",
    "    if row['actEndType'] in mandatory and row['actStartType'] in mandatory:\n",
    "        return 'from_M_to_M'\n",
    "    elif row['actEndType'] == 'Home' and row['actStartType'] in mandatory:\n",
    "        return 'from_H_to_M'\n",
    "    elif row['actEndType'] in mandatory and row['actStartType'] == 'Home':\n",
    "        return 'from_M_to_H'\n",
    "    elif row['actEndType'] in non_mandatory and row['actStartType'] in non_mandatory:\n",
    "        return 'from_N_to_N'\n",
    "    else:\n",
    "        return None\n",
    "\n",
    "# Apply the categorization function to create 'mandatoryCat' column\n",
    "sf_stacked['mandatoryCat'] = sf_stacked.apply(categorize_mandatory, axis=1)"
   ]
  },
  {
   "cell_type": "code",
   "execution_count": 64,
   "id": "698ee745",
   "metadata": {
    "hidden": true
   },
   "outputs": [],
   "source": [
    "# Dropping the rows that don't have any ActivitySim information because of the mismatched trip id \n",
    "sf_stacked = sf_stacked[sf_stacked['income'].notna()]"
   ]
  },
  {
   "cell_type": "code",
   "execution_count": 65,
   "id": "133a19de",
   "metadata": {
    "hidden": true
   },
   "outputs": [
    {
     "name": "stdout",
     "output_type": "stream",
     "text": [
      "CPU times: total: 44min 28s\n",
      "Wall time: 3h 14min 20s\n"
     ]
    }
   ],
   "source": [
    "%%time\n",
    "sf_stacked.to_csv('s3://beam-core-act/deepDive/CleanData/SanFrancisco/Stacked/sf_2018_stacked_rh_price_5_5_23.csv', index=False)"
   ]
  }
 ],
 "metadata": {
  "kernelspec": {
   "display_name": "Python 3 (ipykernel)",
   "language": "python",
   "name": "python3"
  },
  "language_info": {
   "codemirror_mode": {
    "name": "ipython",
    "version": 3
   },
   "file_extension": ".py",
   "mimetype": "text/x-python",
   "name": "python",
   "nbconvert_exporter": "python",
   "pygments_lexer": "ipython3",
   "version": "3.9.7"
  },
  "toc": {
   "base_numbering": 1,
   "nav_menu": {},
   "number_sections": true,
   "sideBar": true,
   "skip_h1_title": false,
   "title_cell": "Table of Contents",
   "title_sidebar": "Contents",
   "toc_cell": false,
   "toc_position": {},
   "toc_section_display": true,
   "toc_window_display": false
  },
  "varInspector": {
   "cols": {
    "lenName": 16,
    "lenType": 16,
    "lenVar": 40
   },
   "kernels_config": {
    "python": {
     "delete_cmd_postfix": "",
     "delete_cmd_prefix": "del ",
     "library": "var_list.py",
     "varRefreshCmd": "print(var_dic_list())"
    },
    "r": {
     "delete_cmd_postfix": ") ",
     "delete_cmd_prefix": "rm(",
     "library": "var_list.r",
     "varRefreshCmd": "cat(var_dic_list()) "
    }
   },
   "types_to_exclude": [
    "module",
    "function",
    "builtin_function_or_method",
    "instance",
    "_Feature"
   ],
   "window_display": false
  }
 },
 "nbformat": 4,
 "nbformat_minor": 5
}
