{
 "cells": [
  {
   "cell_type": "code",
   "execution_count": 1,
   "id": "c0f71a2c",
   "metadata": {},
   "outputs": [],
   "source": [
    "import os\n",
    "import os.path as op\n",
    "import numpy as np\n",
    "import pandas as pd\n",
    "import matplotlib.pyplot as plt\n",
    "import matplotlib.colors as mcolors\n",
    "%matplotlib inline\n",
    "import seaborn as sns\n",
    "sns.set_theme(style=\"darkgrid\", color_codes=True)\n",
    "sns.set(font_scale=1.35, style=\"ticks\") #set styling preferences\n",
    "import statsmodels.api as sm\n",
    "from scipy import stats\n",
    "import math\n",
    "from math import pi\n",
    "from pandas.api.types import is_string_dtype\n",
    "from pandas.api.types import is_numeric_dtype\n",
    "from scipy.spatial.distance import cdist\n",
    "from scipy.cluster.vq import kmeans2,vq, whiten\n",
    "import geopandas as gpd\n",
    "import h5py\n",
    "import boto.s3\n",
    "import glob\n",
    "import boto3\n",
    "from zipfile import ZipFile\n",
    "import shutil"
   ]
  },
  {
   "cell_type": "code",
   "execution_count": 2,
   "id": "1c4d781d",
   "metadata": {},
   "outputs": [],
   "source": [
    "# Show all columns and rows\n",
    "pd.options.display.max_columns = None\n",
    "pd.options.display.max_rows = None"
   ]
  },
  {
   "cell_type": "markdown",
   "id": "cd2c6de5",
   "metadata": {},
   "source": [
    "#### Baseline"
   ]
  },
  {
   "cell_type": "code",
   "execution_count": 3,
   "id": "82484592",
   "metadata": {},
   "outputs": [
    {
     "name": "stderr",
     "output_type": "stream",
     "text": [
      "<timed exec>:4: DtypeWarning: Columns (27,77,133,134,135,136,137,138,139,140,141,142,143,144,145,146,147,148,149,150,151,153,162,167,169,170,171,172,174,175,232,233,234,235,244) have mixed types. Specify dtype option on import or set low_memory=False.\n"
     ]
    },
    {
     "name": "stdout",
     "output_type": "stream",
     "text": [
      "CPU times: total: 1min 28s\n",
      "Wall time: 1min 29s\n"
     ]
    }
   ],
   "source": [
    "%%time\n",
    "s3 = boto3.client(\"s3\")\n",
    "key = \"pilates-outputs/sfbay-baseline-2022124/inexus/sfbay_baseline_default-1.0_2020__20221224.csv.gz\"  #the path should be updated\n",
    "obj = s3.get_object(Bucket=\"beam-outputs\", Key=key)\n",
    "sfbase = pd.read_csv(obj['Body'], compression = 'gzip',index_col='Unnamed: 0')"
   ]
  },
  {
   "cell_type": "code",
   "execution_count": 4,
   "id": "47ab2ad4",
   "metadata": {},
   "outputs": [],
   "source": [
    "# Adding scenario info\n",
    "sfbase['scenario'] = \"baseline\"\n",
    "sfbase['scenario'] = sfbase['scenario'].astype(\"category\")\n",
    "sfbase['lever'] = \"default\"\n",
    "sfbase['lever'] = sfbase['lever'].astype(\"category\")\n",
    "sfbase['year'] = 2020\n",
    "sfbase['lever_position'] = 1"
   ]
  },
  {
   "cell_type": "code",
   "execution_count": 5,
   "id": "fe4c1493",
   "metadata": {},
   "outputs": [
    {
     "data": {
      "text/plain": [
       "(19191, 273)"
      ]
     },
     "execution_count": 5,
     "metadata": {},
     "output_type": "execute_result"
    }
   ],
   "source": [
    "sfbase[sfbase['person_sex'].isna()].shape"
   ]
  },
  {
   "cell_type": "code",
   "execution_count": 6,
   "id": "61204995",
   "metadata": {},
   "outputs": [],
   "source": [
    "#baseline2018 = \"https://beam-core-act.s3.amazonaws.com/beam-outputs/pilates-outputs/sfbay-baseline-20221220/inexus\"\n",
    "#sfbase = pd.read_csv(baseline2018 + 'sfbay_baseline_default-1.0_2012__20221219.csv.gz')"
   ]
  },
  {
   "cell_type": "code",
   "execution_count": 7,
   "id": "f43e2823",
   "metadata": {},
   "outputs": [],
   "source": [
    "# Showing the entire number in dataframe\n",
    "pd.set_option('float_format', '{:f}'.format)"
   ]
  },
  {
   "cell_type": "code",
   "execution_count": 8,
   "id": "5e55a558",
   "metadata": {},
   "outputs": [],
   "source": [
    "#describe = sfbase.describe()"
   ]
  },
  {
   "cell_type": "code",
   "execution_count": 9,
   "id": "2c224a67",
   "metadata": {},
   "outputs": [],
   "source": [
    "#describe.to_csv('C:/Shared-Work/Data/CleanData/ASIM_BEAM_Merged/describe.csv')"
   ]
  },
  {
   "cell_type": "markdown",
   "id": "71810912",
   "metadata": {},
   "source": [
    "#### Ridehail Fleet Size Scenarios"
   ]
  },
  {
   "cell_type": "code",
   "execution_count": 6,
   "id": "ee819272",
   "metadata": {},
   "outputs": [
    {
     "name": "stderr",
     "output_type": "stream",
     "text": [
      "<timed exec>:3: DtypeWarning: Columns (27,77,100,133,134,135,136,137,138,139,140,141,142,143,144,145,146,147,148,149,150,151,153,162,167,169,170,171,172,174,175,232,233,234,235,244) have mixed types. Specify dtype option on import or set low_memory=False.\n"
     ]
    },
    {
     "name": "stdout",
     "output_type": "stream",
     "text": [
      "CPU times: total: 1min 39s\n",
      "Wall time: 1min 39s\n"
     ]
    }
   ],
   "source": [
    "%%time\n",
    "key = \"pilates-outputs/sfbay-baseline-rhfleet0_125/inexus/sfbay_rh_fleet_0_125_rh_fleet-0.125_2020__20230113.csv.gz\"  #the path should be updated\n",
    "obj = s3.get_object(Bucket=\"beam-outputs\", Key=key)\n",
    "sf_rh_fltsz_0p125 = pd.read_csv(obj['Body'], compression = 'gzip',index_col='Unnamed: 0')"
   ]
  },
  {
   "cell_type": "code",
   "execution_count": 7,
   "id": "6dc4d0db",
   "metadata": {},
   "outputs": [
    {
     "data": {
      "text/plain": [
       "(19474, 269)"
      ]
     },
     "execution_count": 7,
     "metadata": {},
     "output_type": "execute_result"
    }
   ],
   "source": [
    "sf_rh_fltsz_0p125[sf_rh_fltsz_0p125['trip_mode_AS_trips'].isna()].shape"
   ]
  },
  {
   "cell_type": "code",
   "execution_count": 8,
   "id": "23d634d2",
   "metadata": {},
   "outputs": [],
   "source": [
    "# Adding scenario info\n",
    "sf_rh_fltsz_0p125['scenario'] = \"ridehail\"\n",
    "sf_rh_fltsz_0p125['scenario'] = sf_rh_fltsz_0p125['scenario'].astype(\"category\")\n",
    "sf_rh_fltsz_0p125['lever'] = \"fleet_size\"\n",
    "sf_rh_fltsz_0p125['lever'] = sf_rh_fltsz_0p125['lever'].astype(\"category\")\n",
    "sf_rh_fltsz_0p125['year'] = 2020\n",
    "sf_rh_fltsz_0p125['lever_position'] = 0.125"
   ]
  },
  {
   "cell_type": "code",
   "execution_count": 9,
   "id": "68c491ef",
   "metadata": {},
   "outputs": [
    {
     "name": "stderr",
     "output_type": "stream",
     "text": [
      "<timed exec>:3: DtypeWarning: Columns (27,77,133,134,135,136,137,138,139,140,141,142,143,144,145,146,147,148,149,150,151,153,162,167,169,170,171,172,174,175,232,233,234,235,244) have mixed types. Specify dtype option on import or set low_memory=False.\n"
     ]
    },
    {
     "name": "stdout",
     "output_type": "stream",
     "text": [
      "CPU times: total: 1min 52s\n",
      "Wall time: 1min 52s\n"
     ]
    }
   ],
   "source": [
    "%%time\n",
    "key = \"pilates-outputs/sfbay-baseline-rhfleet0_25/inexus/sfbay_rh_fleet_0_25_rh_fleet-0.25_2020__20230113.csv.gz\"  #the path should be updated\n",
    "obj = s3.get_object(Bucket=\"beam-outputs\", Key=key)\n",
    "sf_rh_fltsz_0p25 = pd.read_csv(obj['Body'], compression = 'gzip',index_col='Unnamed: 0')"
   ]
  },
  {
   "cell_type": "code",
   "execution_count": 10,
   "id": "bfa66f8b",
   "metadata": {},
   "outputs": [],
   "source": [
    "# Adding scenario info\n",
    "sf_rh_fltsz_0p25['scenario'] = \"ridehail\"\n",
    "sf_rh_fltsz_0p25['scenario'] = sf_rh_fltsz_0p25['scenario'].astype(\"category\")\n",
    "sf_rh_fltsz_0p25['lever'] = \"fleet_size\"\n",
    "sf_rh_fltsz_0p25['lever'] = sf_rh_fltsz_0p25['lever'].astype(\"category\")\n",
    "sf_rh_fltsz_0p25['year'] = 2020\n",
    "sf_rh_fltsz_0p25['lever_position'] = 0.25"
   ]
  },
  {
   "cell_type": "code",
   "execution_count": 11,
   "id": "267a7cbf",
   "metadata": {},
   "outputs": [
    {
     "name": "stderr",
     "output_type": "stream",
     "text": [
      "<timed exec>:3: DtypeWarning: Columns (27,77,133,134,135,136,137,138,139,140,141,142,143,144,145,146,147,148,149,150,151,153,162,167,169,170,171,172,174,175,232,233,234,235,244) have mixed types. Specify dtype option on import or set low_memory=False.\n"
     ]
    },
    {
     "name": "stdout",
     "output_type": "stream",
     "text": [
      "CPU times: total: 2min 1s\n",
      "Wall time: 2min 1s\n"
     ]
    }
   ],
   "source": [
    "%%time\n",
    "key = \"pilates-outputs/sfbay-baseline-rhfleet0_50/inexus/sfbay_rh_fleet_0_50_rh_fleet-0.5_2020__20230115.csv.gz\"  #the path should be updated\n",
    "obj = s3.get_object(Bucket=\"beam-outputs\", Key=key)\n",
    "sf_rh_fltsz_0p5 = pd.read_csv(obj['Body'], compression = 'gzip',index_col='Unnamed: 0')"
   ]
  },
  {
   "cell_type": "code",
   "execution_count": 12,
   "id": "886c7d7c",
   "metadata": {},
   "outputs": [],
   "source": [
    "# Adding scenario info\n",
    "sf_rh_fltsz_0p5['scenario'] = \"ridehail\"\n",
    "sf_rh_fltsz_0p5['scenario'] = sf_rh_fltsz_0p5['scenario'].astype(\"category\")\n",
    "sf_rh_fltsz_0p5['lever'] = \"fleet_size\"\n",
    "sf_rh_fltsz_0p5['lever'] = sf_rh_fltsz_0p5['lever'].astype(\"category\")\n",
    "sf_rh_fltsz_0p5['year'] = 2020\n",
    "sf_rh_fltsz_0p5['lever_position'] = 0.5"
   ]
  },
  {
   "cell_type": "code",
   "execution_count": 13,
   "id": "4dd80446",
   "metadata": {},
   "outputs": [
    {
     "name": "stderr",
     "output_type": "stream",
     "text": [
      "<timed exec>:3: DtypeWarning: Columns (27,77,133,134,135,136,137,138,139,140,141,142,143,144,145,146,147,148,149,150,151,153,162,167,169,170,171,172,174,175,232,233,234,235,244) have mixed types. Specify dtype option on import or set low_memory=False.\n"
     ]
    },
    {
     "name": "stdout",
     "output_type": "stream",
     "text": [
      "CPU times: total: 2min 7s\n",
      "Wall time: 2min 8s\n"
     ]
    }
   ],
   "source": [
    "%%time\n",
    "key = \"pilates-outputs/sfbay-baseline-rhfleet2_00/inexus/sfbay_rh_fleet_2_0_rh_fleet-2.0_2020__20230115.csv.gz\"  #the path should be updated\n",
    "obj = s3.get_object(Bucket=\"beam-outputs\", Key=key)\n",
    "sf_rh_fltsz_2 = pd.read_csv(obj['Body'], compression = 'gzip',index_col='Unnamed: 0')"
   ]
  },
  {
   "cell_type": "code",
   "execution_count": 16,
   "id": "b25b633b",
   "metadata": {},
   "outputs": [],
   "source": [
    "# Adding scenario info\n",
    "sf_rh_fltsz_2['scenario'] = \"ridehail\"\n",
    "sf_rh_fltsz_2['scenario'] = sf_rh_fltsz_2['scenario'].astype(\"category\")\n",
    "sf_rh_fltsz_2['lever'] = \"fleet_size\"\n",
    "sf_rh_fltsz_2['lever'] = sf_rh_fltsz_2['lever'].astype(\"category\")\n",
    "sf_rh_fltsz_2['year'] = 2020\n",
    "sf_rh_fltsz_2['lever_position'] = 2"
   ]
  },
  {
   "cell_type": "code",
   "execution_count": 15,
   "id": "c3a6cf42",
   "metadata": {},
   "outputs": [
    {
     "name": "stderr",
     "output_type": "stream",
     "text": [
      "<timed exec>:3: DtypeWarning: Columns (27,77,100,133,134,135,136,137,138,139,140,141,142,143,144,145,146,147,148,149,150,151,153,162,167,169,170,171,172,174,175,232,233,234,235,244) have mixed types. Specify dtype option on import or set low_memory=False.\n"
     ]
    },
    {
     "name": "stdout",
     "output_type": "stream",
     "text": [
      "CPU times: total: 2min 14s\n",
      "Wall time: 2min 15s\n"
     ]
    }
   ],
   "source": [
    "%%time\n",
    "key = \"pilates-outputs/sfbay-baseline-rhfleet4_00/inexus/sfbay_rh_fleet_4_00_rh_fleet-4.0_2020__20230115.csv.gz\"  #the path should be updated\n",
    "obj = s3.get_object(Bucket=\"beam-outputs\", Key=key)\n",
    "sf_rh_fltsz_4 = pd.read_csv(obj['Body'], compression = 'gzip',index_col='Unnamed: 0')"
   ]
  },
  {
   "cell_type": "code",
   "execution_count": 17,
   "id": "a9786a9d",
   "metadata": {},
   "outputs": [],
   "source": [
    "# Adding scenario info\n",
    "sf_rh_fltsz_4['scenario'] = \"ridehail\"\n",
    "sf_rh_fltsz_4['scenario'] = sf_rh_fltsz_4['scenario'].astype(\"category\")\n",
    "sf_rh_fltsz_4['lever'] = \"fleet_size\"\n",
    "sf_rh_fltsz_4['lever'] = sf_rh_fltsz_4['lever'].astype(\"category\")\n",
    "sf_rh_fltsz_4['year'] = 2020\n",
    "sf_rh_fltsz_4['lever_position'] = 4"
   ]
  },
  {
   "cell_type": "code",
   "execution_count": 18,
   "id": "28ada1c8",
   "metadata": {},
   "outputs": [
    {
     "name": "stderr",
     "output_type": "stream",
     "text": [
      "<timed exec>:3: DtypeWarning: Columns (27,77,133,134,135,136,137,138,139,140,141,142,143,144,145,146,147,148,149,150,151,153,162,167,169,170,171,172,174,175,232,233,234,235,244) have mixed types. Specify dtype option on import or set low_memory=False.\n"
     ]
    },
    {
     "name": "stdout",
     "output_type": "stream",
     "text": [
      "CPU times: total: 2min 27s\n",
      "Wall time: 2min 27s\n"
     ]
    }
   ],
   "source": [
    "%%time\n",
    "key = \"pilates-outputs/sfbay-baseline-rhfleet10_00/inexus/sfbay_rh_fleet_10_00_rh_fleet-10.0_2020__20230115.csv.gz\"  #the path should be updated\n",
    "obj = s3.get_object(Bucket=\"beam-outputs\", Key=key)\n",
    "sf_rh_fltsz_10 = pd.read_csv(obj['Body'], compression = 'gzip',index_col='Unnamed: 0')"
   ]
  },
  {
   "cell_type": "code",
   "execution_count": 19,
   "id": "33b88eff",
   "metadata": {},
   "outputs": [],
   "source": [
    "# Adding scenario info\n",
    "sf_rh_fltsz_10['scenario'] = \"ridehail\"\n",
    "sf_rh_fltsz_10['scenario'] = sf_rh_fltsz_10['scenario'].astype(\"category\")\n",
    "sf_rh_fltsz_10['lever'] = \"fleet_size\"\n",
    "sf_rh_fltsz_10['lever'] = sf_rh_fltsz_10['lever'].astype(\"category\")\n",
    "sf_rh_fltsz_10['year'] = 2020\n",
    "sf_rh_fltsz_10['lever_position'] = 10"
   ]
  },
  {
   "cell_type": "code",
   "execution_count": 20,
   "id": "a44e085f",
   "metadata": {},
   "outputs": [
    {
     "name": "stderr",
     "output_type": "stream",
     "text": [
      "<timed exec>:3: DtypeWarning: Columns (27,77,133,134,135,136,137,138,139,140,141,142,143,144,145,146,147,148,149,150,151,153,162,167,169,170,171,172,174,175,232,233,234,235,244) have mixed types. Specify dtype option on import or set low_memory=False.\n"
     ]
    },
    {
     "name": "stdout",
     "output_type": "stream",
     "text": [
      "CPU times: total: 2min 33s\n",
      "Wall time: 2min 33s\n"
     ]
    }
   ],
   "source": [
    "%%time\n",
    "key = \"pilates-outputs/sfbay-baseline-rhfleet27_50/inexus/sfbay_rh_fleet_27_500_rh_fleet-27.5_2020__20230115.csv.gz\"  #the path should be updated\n",
    "obj = s3.get_object(Bucket=\"beam-outputs\", Key=key)\n",
    "sf_rh_fltsz_27p5 = pd.read_csv(obj['Body'], compression = 'gzip',index_col='Unnamed: 0')"
   ]
  },
  {
   "cell_type": "code",
   "execution_count": 21,
   "id": "dbb2bb28",
   "metadata": {},
   "outputs": [],
   "source": [
    "# Adding scenario info\n",
    "sf_rh_fltsz_27p5['scenario'] = \"ridehail\"\n",
    "sf_rh_fltsz_27p5['scenario'] = sf_rh_fltsz_27p5['scenario'].astype(\"category\")\n",
    "sf_rh_fltsz_27p5['lever'] = \"fleet_size\"\n",
    "sf_rh_fltsz_27p5['lever'] = sf_rh_fltsz_27p5['lever'].astype(\"category\")\n",
    "sf_rh_fltsz_27p5['year'] = 2020\n",
    "sf_rh_fltsz_27p5['lever_position'] = 27.5"
   ]
  },
  {
   "cell_type": "code",
   "execution_count": null,
   "id": "8f37acdc",
   "metadata": {},
   "outputs": [],
   "source": [
    "frames = [sf_rh_fltsz_0p125, sf_rh_fltsz_0p25, sf_rh_fltsz_0p5, sfbase,sf_rh_fltsz_2, sf_rh_fltsz_4, sf_rh_fltsz_10,\n",
    "          sf_rh_fltsz_27p5]\n",
    "sf_stacked = pd.concat(frames)"
   ]
  },
  {
   "cell_type": "code",
   "execution_count": null,
   "id": "999f6040",
   "metadata": {},
   "outputs": [],
   "source": [
    "sf_stacked = sf_stacked.drop(['has_school_kid','has_preschool_kid','has_retiree','has_non_worker','adult','hispanic','relate',\n",
    "                             'pstudent','pemploy','ptype','p_hispanic','age_16_p','age_16_to_19',\n",
    "                             'person_age','MAR','hours','hispanic.1','student',\n",
    "                             'worker','stop_frequency','composition','tdd','number_of_participants','tour_type_count',\n",
    "                             'tour_type_num','tour_num','tour_count', 'outbound', 'trip_num','num_under16_not_at_school',\n",
    "                             'family','non_family','num_young_adults','num_college_age','num_children_16_to_17',\n",
    "                              'num_children_5_to_15','num_young_children'], axis=1)"
   ]
  },
  {
   "cell_type": "code",
   "execution_count": null,
   "id": "ba8d8c6c",
   "metadata": {},
   "outputs": [],
   "source": [
    "sf_stacked = sf_stacked.drop(['vehicleIds_estimate','parent_tour_id','atwork_subtour_frequency','household_id_y',\n",
    "                              'male','female', 'has_driving_kid','has_full_time','has_part_time',\n",
    "                              'has_university','student_is_employed', 'nonstudent_to_school', 'is_student','is_gradeschool',\n",
    "                              'is_gradeschool','is_highschool','is_university','school_segment','is_worker',  \n",
    "                              'distance_to_school','roundtrip_auto_time_to_school',\n",
    "                              'distance_to_work','workplace_in_cbd', 'work_taz_area_type', 'hh_race_of_head',\n",
    "                             'roundtrip_auto_time_to_work','work_auto_savings_ratio','cdap_activity', 'travel_active', \n",
    "                              'under16_not_at_school','has_preschool_kid_at_home', 'gt2','hispanic_head',\n",
    "                             'has_school_kid_at_home','work_and_school_and_worker', 'age_of_head', 'race_of_head',\n",
    "                              'work_and_school_and_student', 'VEHICL','hh_children','hh_age_of_head','num_workers',\n",
    "                              'gt55','seniors', 'recent_mover', 'hh_workers', 'hispanic_status_of_head', 'hh_seniors', \n",
    "                             'hh_type', 'HHT', 'sample_rate', 'chunk_id', 'income_segment', 'num_non_workers', \n",
    "                             'num_drivers', 'num_adults', 'num_children', 'hh_work_auto_savings_ratio', 'num_travel_active', \n",
    "                             'num_travel_active_adults','num_travel_active_preschoolers', 'num_travel_active_children', \n",
    "                              'num_travel_active_non_preschoolers', 'participates_in_jtf_model', 'joint_tour_frequency',\n",
    "                              'num_hh_joint_tours'], axis=1)"
   ]
  },
  {
   "cell_type": "code",
   "execution_count": null,
   "id": "8d1c6b28",
   "metadata": {},
   "outputs": [],
   "source": [
    "sf_stacked = sf_stacked.drop(['serialno'], axis=1)"
   ]
  },
  {
   "cell_type": "markdown",
   "id": "d4867114",
   "metadata": {},
   "source": [
    "#### Stacked File"
   ]
  },
  {
   "cell_type": "code",
   "execution_count": 33,
   "id": "9c0e0def",
   "metadata": {},
   "outputs": [],
   "source": [
    "#stacked_tr_fr_path = \"https://beam-core-act.s3.amazonaws.com/deepDive/CleanData/SanFrancisco/Stacked/\"\n",
    "#sf_stacked_tr_fr = pd.read_csv(stacked_tr_fr_path + 'sf_2018_stacked_tr_fr.csv')"
   ]
  },
  {
   "cell_type": "code",
   "execution_count": 34,
   "id": "8b7d1452",
   "metadata": {},
   "outputs": [],
   "source": [
    "sf_stacked = sf_stacked.sort_values(by=['IDMerged', 'tripIndex', 'lever_position']).reset_index(drop=True)"
   ]
  },
  {
   "cell_type": "code",
   "execution_count": 35,
   "id": "508b76a9",
   "metadata": {},
   "outputs": [],
   "source": [
    "# shift column 'person' to first position\n",
    "#first_column = sf_stacked.pop('scenario')\n",
    "#second_column = sf_stacked.pop('lever')\n",
    "#third_column = sf_stacked.pop('lever_position')\n",
    "#fourth_column = sf_stacked.pop('logsum_trip_mode_AS_trips')\n",
    "# insert column using insert(position,column_name,first_column) function\n",
    "#sf_stacked.insert(2, 'scenario', first_column)\n",
    "#sf_stacked.insert(3, 'lever', second_column)\n",
    "#sf_stacked.insert(4, 'lever_position', third_column)\n",
    "#sf_stacked.insert(5, 'logsum_trip_mode_AS_trips', fourth_column)"
   ]
  },
  {
   "cell_type": "code",
   "execution_count": 36,
   "id": "e0b1b815",
   "metadata": {},
   "outputs": [],
   "source": [
    "# Adding Price lever position\n",
    "conditions  = [(sf_stacked['lever_position'] == 0.125),\n",
    "               (sf_stacked['lever_position'] == 0.25),\n",
    "               (sf_stacked['lever_position'] == 0.5),\n",
    "               (sf_stacked['lever_position'] == 1),\n",
    "               (sf_stacked['lever_position'] == 2),\n",
    "               (sf_stacked['lever_position'] == 4),\n",
    "               (sf_stacked['lever_position'] == 10),\n",
    "               (sf_stacked['lever_position'] == 27.5)]\n",
    "\n",
    "choices = [0.125, 0.25, 0.5, 1, 2, 4, 10, 27.5]"
   ]
  },
  {
   "cell_type": "code",
   "execution_count": 37,
   "id": "b23249d2",
   "metadata": {},
   "outputs": [],
   "source": [
    "sf_stacked['lever_position_fleetsize'] = np.select(conditions, choices, default=np.nan)"
   ]
  },
  {
   "cell_type": "code",
   "execution_count": 38,
   "id": "f70826d1",
   "metadata": {},
   "outputs": [],
   "source": [
    "sf_stacked['lever_position_price'] = 1"
   ]
  },
  {
   "cell_type": "code",
   "execution_count": 39,
   "id": "1afdc247",
   "metadata": {},
   "outputs": [],
   "source": [
    "#sf_stacked_tr_fr['logsum_relative_to_baseline'] = sf_stacked_tr_fr.groupby(['IDMerged','tripIndex'])['logsum_trip_mode_AS_trips'].apply(lambda x: x.diff())"
   ]
  },
  {
   "cell_type": "code",
   "execution_count": 40,
   "id": "68d6a4de",
   "metadata": {},
   "outputs": [],
   "source": [
    "#sf_stacked_tr_fr['logsum_relative_to_baseline'] = sf_stacked_tr_fr['logsum_trip_mode_AS_trips'] - sf_stacked_tr_fr.loc[sf_stacked_tr_fr.groupby(['IDMerged','tripIndex'])['lever_position'].transform('idxmin'), 'logsum_trip_mode_AS_trips'].values"
   ]
  },
  {
   "cell_type": "code",
   "execution_count": 41,
   "id": "2b7802f6",
   "metadata": {},
   "outputs": [
    {
     "name": "stdout",
     "output_type": "stream",
     "text": [
      "CPU times: total: 5.56 s\n",
      "Wall time: 5.4 s\n"
     ]
    }
   ],
   "source": [
    "%%time\n",
    "sf_stacked['logsum_relative_to_baseline'] = sf_stacked['logsum_trip_Potential_INEXUS'] - (sf_stacked['logsum_trip_Potential_INEXUS'].where(sf_stacked['lever_position'].eq(1.0))\n",
    "                                                                                                  .groupby([sf_stacked['IDMerged'],sf_stacked['tripIndex']])\n",
    "                                                                                                   .transform('first')\n",
    "                                                                                                   .convert_dtypes())"
   ]
  },
  {
   "cell_type": "code",
   "execution_count": 42,
   "id": "2c4e35a6",
   "metadata": {},
   "outputs": [],
   "source": [
    "sf_stacked['door_to_door_time_relative_to_baseline'] = sf_stacked['duration_door_to_door'] - (sf_stacked['duration_door_to_door'].where(sf_stacked['lever_position'].eq(1.0))\n",
    "                                                                                                  .groupby([sf_stacked['IDMerged'],sf_stacked['tripIndex']])\n",
    "                                                                                                   .transform('first')\n",
    "                                                                                                   .convert_dtypes())"
   ]
  },
  {
   "cell_type": "code",
   "execution_count": 56,
   "id": "4a4453b5",
   "metadata": {},
   "outputs": [
    {
     "ename": "KeyError",
     "evalue": "\"['sf_detached', 'household_id_x', 'destination_logsum_y', 'logsum_tours_mode_AS_tours', 'primary_purpose_y', 'PNUM', 'work_auto_savings', 'mandatory_tour_frequency'] not found in axis\"",
     "output_type": "error",
     "traceback": [
      "\u001b[1;31m---------------------------------------------------------------------------\u001b[0m",
      "\u001b[1;31mKeyError\u001b[0m                                  Traceback (most recent call last)",
      "Input \u001b[1;32mIn [56]\u001b[0m, in \u001b[0;36m<cell line: 2>\u001b[1;34m()\u001b[0m\n\u001b[0;32m      1\u001b[0m \u001b[38;5;66;03m# Drop unused columns\u001b[39;00m\n\u001b[1;32m----> 2\u001b[0m sf_stacked \u001b[38;5;241m=\u001b[39m \u001b[43msf_stacked\u001b[49m\u001b[38;5;241;43m.\u001b[39;49m\u001b[43mdrop\u001b[49m\u001b[43m(\u001b[49m\u001b[43m[\u001b[49m\u001b[38;5;124;43m'\u001b[39;49m\u001b[38;5;124;43msf_detached\u001b[39;49m\u001b[38;5;124;43m'\u001b[39;49m\u001b[43m,\u001b[49m\u001b[43m \u001b[49m\u001b[38;5;124;43m'\u001b[39;49m\u001b[38;5;124;43mhousehold_id_x\u001b[39;49m\u001b[38;5;124;43m'\u001b[39;49m\u001b[43m,\u001b[49m\u001b[38;5;124;43m'\u001b[39;49m\u001b[38;5;124;43mdestination_logsum_y\u001b[39;49m\u001b[38;5;124;43m'\u001b[39;49m\u001b[43m,\u001b[49m\u001b[38;5;124;43m'\u001b[39;49m\u001b[38;5;124;43mlogsum_tours_mode_AS_tours\u001b[39;49m\u001b[38;5;124;43m'\u001b[39;49m\u001b[43m,\u001b[49m\n\u001b[0;32m      3\u001b[0m \u001b[43m                              \u001b[49m\u001b[38;5;124;43m'\u001b[39;49m\u001b[38;5;124;43mprimary_purpose_y\u001b[39;49m\u001b[38;5;124;43m'\u001b[39;49m\u001b[43m,\u001b[49m\u001b[38;5;124;43m'\u001b[39;49m\u001b[38;5;124;43mPNUM\u001b[39;49m\u001b[38;5;124;43m'\u001b[39;49m\u001b[43m,\u001b[49m\u001b[38;5;124;43m'\u001b[39;49m\u001b[38;5;124;43mwork_auto_savings\u001b[39;49m\u001b[38;5;124;43m'\u001b[39;49m\u001b[43m,\u001b[49m\u001b[38;5;124;43m'\u001b[39;49m\u001b[38;5;124;43mmandatory_tour_frequency\u001b[39;49m\u001b[38;5;124;43m'\u001b[39;49m\u001b[43m]\u001b[49m\u001b[43m,\u001b[49m\u001b[43m \u001b[49m\u001b[43maxis\u001b[49m\u001b[38;5;241;43m=\u001b[39;49m\u001b[38;5;241;43m1\u001b[39;49m\u001b[43m)\u001b[49m\n",
      "File \u001b[1;32m~\\.conda\\envs\\geo_env\\lib\\site-packages\\pandas\\util\\_decorators.py:311\u001b[0m, in \u001b[0;36mdeprecate_nonkeyword_arguments.<locals>.decorate.<locals>.wrapper\u001b[1;34m(*args, **kwargs)\u001b[0m\n\u001b[0;32m    305\u001b[0m \u001b[38;5;28;01mif\u001b[39;00m \u001b[38;5;28mlen\u001b[39m(args) \u001b[38;5;241m>\u001b[39m num_allow_args:\n\u001b[0;32m    306\u001b[0m     warnings\u001b[38;5;241m.\u001b[39mwarn(\n\u001b[0;32m    307\u001b[0m         msg\u001b[38;5;241m.\u001b[39mformat(arguments\u001b[38;5;241m=\u001b[39marguments),\n\u001b[0;32m    308\u001b[0m         \u001b[38;5;167;01mFutureWarning\u001b[39;00m,\n\u001b[0;32m    309\u001b[0m         stacklevel\u001b[38;5;241m=\u001b[39mstacklevel,\n\u001b[0;32m    310\u001b[0m     )\n\u001b[1;32m--> 311\u001b[0m \u001b[38;5;28;01mreturn\u001b[39;00m func(\u001b[38;5;241m*\u001b[39margs, \u001b[38;5;241m*\u001b[39m\u001b[38;5;241m*\u001b[39mkwargs)\n",
      "File \u001b[1;32m~\\.conda\\envs\\geo_env\\lib\\site-packages\\pandas\\core\\frame.py:4954\u001b[0m, in \u001b[0;36mDataFrame.drop\u001b[1;34m(self, labels, axis, index, columns, level, inplace, errors)\u001b[0m\n\u001b[0;32m   4806\u001b[0m \u001b[38;5;129m@deprecate_nonkeyword_arguments\u001b[39m(version\u001b[38;5;241m=\u001b[39m\u001b[38;5;28;01mNone\u001b[39;00m, allowed_args\u001b[38;5;241m=\u001b[39m[\u001b[38;5;124m\"\u001b[39m\u001b[38;5;124mself\u001b[39m\u001b[38;5;124m\"\u001b[39m, \u001b[38;5;124m\"\u001b[39m\u001b[38;5;124mlabels\u001b[39m\u001b[38;5;124m\"\u001b[39m])\n\u001b[0;32m   4807\u001b[0m \u001b[38;5;28;01mdef\u001b[39;00m \u001b[38;5;21mdrop\u001b[39m(\n\u001b[0;32m   4808\u001b[0m     \u001b[38;5;28mself\u001b[39m,\n\u001b[1;32m   (...)\u001b[0m\n\u001b[0;32m   4815\u001b[0m     errors: \u001b[38;5;28mstr\u001b[39m \u001b[38;5;241m=\u001b[39m \u001b[38;5;124m\"\u001b[39m\u001b[38;5;124mraise\u001b[39m\u001b[38;5;124m\"\u001b[39m,\n\u001b[0;32m   4816\u001b[0m ):\n\u001b[0;32m   4817\u001b[0m     \u001b[38;5;124;03m\"\"\"\u001b[39;00m\n\u001b[0;32m   4818\u001b[0m \u001b[38;5;124;03m    Drop specified labels from rows or columns.\u001b[39;00m\n\u001b[0;32m   4819\u001b[0m \n\u001b[1;32m   (...)\u001b[0m\n\u001b[0;32m   4952\u001b[0m \u001b[38;5;124;03m            weight  1.0     0.8\u001b[39;00m\n\u001b[0;32m   4953\u001b[0m \u001b[38;5;124;03m    \"\"\"\u001b[39;00m\n\u001b[1;32m-> 4954\u001b[0m     \u001b[38;5;28;01mreturn\u001b[39;00m \u001b[38;5;28;43msuper\u001b[39;49m\u001b[43m(\u001b[49m\u001b[43m)\u001b[49m\u001b[38;5;241;43m.\u001b[39;49m\u001b[43mdrop\u001b[49m\u001b[43m(\u001b[49m\n\u001b[0;32m   4955\u001b[0m \u001b[43m        \u001b[49m\u001b[43mlabels\u001b[49m\u001b[38;5;241;43m=\u001b[39;49m\u001b[43mlabels\u001b[49m\u001b[43m,\u001b[49m\n\u001b[0;32m   4956\u001b[0m \u001b[43m        \u001b[49m\u001b[43maxis\u001b[49m\u001b[38;5;241;43m=\u001b[39;49m\u001b[43maxis\u001b[49m\u001b[43m,\u001b[49m\n\u001b[0;32m   4957\u001b[0m \u001b[43m        \u001b[49m\u001b[43mindex\u001b[49m\u001b[38;5;241;43m=\u001b[39;49m\u001b[43mindex\u001b[49m\u001b[43m,\u001b[49m\n\u001b[0;32m   4958\u001b[0m \u001b[43m        \u001b[49m\u001b[43mcolumns\u001b[49m\u001b[38;5;241;43m=\u001b[39;49m\u001b[43mcolumns\u001b[49m\u001b[43m,\u001b[49m\n\u001b[0;32m   4959\u001b[0m \u001b[43m        \u001b[49m\u001b[43mlevel\u001b[49m\u001b[38;5;241;43m=\u001b[39;49m\u001b[43mlevel\u001b[49m\u001b[43m,\u001b[49m\n\u001b[0;32m   4960\u001b[0m \u001b[43m        \u001b[49m\u001b[43minplace\u001b[49m\u001b[38;5;241;43m=\u001b[39;49m\u001b[43minplace\u001b[49m\u001b[43m,\u001b[49m\n\u001b[0;32m   4961\u001b[0m \u001b[43m        \u001b[49m\u001b[43merrors\u001b[49m\u001b[38;5;241;43m=\u001b[39;49m\u001b[43merrors\u001b[49m\u001b[43m,\u001b[49m\n\u001b[0;32m   4962\u001b[0m \u001b[43m    \u001b[49m\u001b[43m)\u001b[49m\n",
      "File \u001b[1;32m~\\.conda\\envs\\geo_env\\lib\\site-packages\\pandas\\core\\generic.py:4267\u001b[0m, in \u001b[0;36mNDFrame.drop\u001b[1;34m(self, labels, axis, index, columns, level, inplace, errors)\u001b[0m\n\u001b[0;32m   4265\u001b[0m \u001b[38;5;28;01mfor\u001b[39;00m axis, labels \u001b[38;5;129;01min\u001b[39;00m axes\u001b[38;5;241m.\u001b[39mitems():\n\u001b[0;32m   4266\u001b[0m     \u001b[38;5;28;01mif\u001b[39;00m labels \u001b[38;5;129;01mis\u001b[39;00m \u001b[38;5;129;01mnot\u001b[39;00m \u001b[38;5;28;01mNone\u001b[39;00m:\n\u001b[1;32m-> 4267\u001b[0m         obj \u001b[38;5;241m=\u001b[39m \u001b[43mobj\u001b[49m\u001b[38;5;241;43m.\u001b[39;49m\u001b[43m_drop_axis\u001b[49m\u001b[43m(\u001b[49m\u001b[43mlabels\u001b[49m\u001b[43m,\u001b[49m\u001b[43m \u001b[49m\u001b[43maxis\u001b[49m\u001b[43m,\u001b[49m\u001b[43m \u001b[49m\u001b[43mlevel\u001b[49m\u001b[38;5;241;43m=\u001b[39;49m\u001b[43mlevel\u001b[49m\u001b[43m,\u001b[49m\u001b[43m \u001b[49m\u001b[43merrors\u001b[49m\u001b[38;5;241;43m=\u001b[39;49m\u001b[43merrors\u001b[49m\u001b[43m)\u001b[49m\n\u001b[0;32m   4269\u001b[0m \u001b[38;5;28;01mif\u001b[39;00m inplace:\n\u001b[0;32m   4270\u001b[0m     \u001b[38;5;28mself\u001b[39m\u001b[38;5;241m.\u001b[39m_update_inplace(obj)\n",
      "File \u001b[1;32m~\\.conda\\envs\\geo_env\\lib\\site-packages\\pandas\\core\\generic.py:4311\u001b[0m, in \u001b[0;36mNDFrame._drop_axis\u001b[1;34m(self, labels, axis, level, errors, consolidate, only_slice)\u001b[0m\n\u001b[0;32m   4309\u001b[0m         new_axis \u001b[38;5;241m=\u001b[39m axis\u001b[38;5;241m.\u001b[39mdrop(labels, level\u001b[38;5;241m=\u001b[39mlevel, errors\u001b[38;5;241m=\u001b[39merrors)\n\u001b[0;32m   4310\u001b[0m     \u001b[38;5;28;01melse\u001b[39;00m:\n\u001b[1;32m-> 4311\u001b[0m         new_axis \u001b[38;5;241m=\u001b[39m \u001b[43maxis\u001b[49m\u001b[38;5;241;43m.\u001b[39;49m\u001b[43mdrop\u001b[49m\u001b[43m(\u001b[49m\u001b[43mlabels\u001b[49m\u001b[43m,\u001b[49m\u001b[43m \u001b[49m\u001b[43merrors\u001b[49m\u001b[38;5;241;43m=\u001b[39;49m\u001b[43merrors\u001b[49m\u001b[43m)\u001b[49m\n\u001b[0;32m   4312\u001b[0m     indexer \u001b[38;5;241m=\u001b[39m axis\u001b[38;5;241m.\u001b[39mget_indexer(new_axis)\n\u001b[0;32m   4314\u001b[0m \u001b[38;5;66;03m# Case for non-unique axis\u001b[39;00m\n\u001b[0;32m   4315\u001b[0m \u001b[38;5;28;01melse\u001b[39;00m:\n",
      "File \u001b[1;32m~\\.conda\\envs\\geo_env\\lib\\site-packages\\pandas\\core\\indexes\\base.py:6644\u001b[0m, in \u001b[0;36mIndex.drop\u001b[1;34m(self, labels, errors)\u001b[0m\n\u001b[0;32m   6642\u001b[0m \u001b[38;5;28;01mif\u001b[39;00m mask\u001b[38;5;241m.\u001b[39many():\n\u001b[0;32m   6643\u001b[0m     \u001b[38;5;28;01mif\u001b[39;00m errors \u001b[38;5;241m!=\u001b[39m \u001b[38;5;124m\"\u001b[39m\u001b[38;5;124mignore\u001b[39m\u001b[38;5;124m\"\u001b[39m:\n\u001b[1;32m-> 6644\u001b[0m         \u001b[38;5;28;01mraise\u001b[39;00m \u001b[38;5;167;01mKeyError\u001b[39;00m(\u001b[38;5;124mf\u001b[39m\u001b[38;5;124m\"\u001b[39m\u001b[38;5;132;01m{\u001b[39;00m\u001b[38;5;28mlist\u001b[39m(labels[mask])\u001b[38;5;132;01m}\u001b[39;00m\u001b[38;5;124m not found in axis\u001b[39m\u001b[38;5;124m\"\u001b[39m)\n\u001b[0;32m   6645\u001b[0m     indexer \u001b[38;5;241m=\u001b[39m indexer[\u001b[38;5;241m~\u001b[39mmask]\n\u001b[0;32m   6646\u001b[0m \u001b[38;5;28;01mreturn\u001b[39;00m \u001b[38;5;28mself\u001b[39m\u001b[38;5;241m.\u001b[39mdelete(indexer)\n",
      "\u001b[1;31mKeyError\u001b[0m: \"['sf_detached', 'household_id_x', 'destination_logsum_y', 'logsum_tours_mode_AS_tours', 'primary_purpose_y', 'PNUM', 'work_auto_savings', 'mandatory_tour_frequency'] not found in axis\""
     ]
    }
   ],
   "source": [
    "# Drop unused columns\n",
    "sf_stacked = sf_stacked.drop(['sf_detached', 'household_id_x','destination_logsum_y','logsum_tours_mode_AS_tours',\n",
    "                              'primary_purpose_y','PNUM','work_auto_savings','mandatory_tour_frequency'], axis=1)"
   ]
  },
  {
   "cell_type": "code",
   "execution_count": null,
   "id": "e5d9f561",
   "metadata": {},
   "outputs": [],
   "source": [
    "sf_stacked.head()"
   ]
  },
  {
   "cell_type": "code",
   "execution_count": 46,
   "id": "9c9a5c70",
   "metadata": {
    "ExecuteTime": {
     "end_time": "2022-10-07T01:01:01.040620Z",
     "start_time": "2022-10-07T01:01:00.476149Z"
    }
   },
   "outputs": [
    {
     "data": {
      "text/plain": [
       "(0, 166)"
      ]
     },
     "execution_count": 46,
     "metadata": {},
     "output_type": "execute_result"
    }
   ],
   "source": [
    "sf_stacked[sf_stacked['mode_choice_actual_6'] == 'ride_hail_transit'].shape"
   ]
  },
  {
   "cell_type": "code",
   "execution_count": 57,
   "id": "476c23f4",
   "metadata": {
    "ExecuteTime": {
     "end_time": "2022-10-07T01:00:55.847360Z",
     "start_time": "2022-10-07T01:00:55.045071Z"
    }
   },
   "outputs": [
    {
     "data": {
      "text/plain": [
       "(137553, 156)"
      ]
     },
     "execution_count": 57,
     "metadata": {},
     "output_type": "execute_result"
    }
   ],
   "source": [
    "sf_stacked[sf_stacked['replanning_status'] > 0].shape"
   ]
  },
  {
   "cell_type": "code",
   "execution_count": 58,
   "id": "0111d8da",
   "metadata": {
    "ExecuteTime": {
     "end_time": "2022-10-07T01:01:09.566750Z",
     "start_time": "2022-10-07T01:01:08.396429Z"
    }
   },
   "outputs": [],
   "source": [
    "# Add the mandatory category column\n",
    "mandatory = ['work' , 'univ', 'school']\n",
    "sf_stacked['mandatoryCat'] = np.where((sf_stacked.actEndType.isin(mandatory)) & (sf_stacked.actStartType.isin(mandatory)), 'from_M_to_M' , None)"
   ]
  },
  {
   "cell_type": "code",
   "execution_count": 59,
   "id": "4ef447dd",
   "metadata": {
    "ExecuteTime": {
     "end_time": "2022-10-07T01:01:11.980472Z",
     "start_time": "2022-10-07T01:01:10.667391Z"
    }
   },
   "outputs": [],
   "source": [
    "sf_stacked['mandatoryCat'] = np.where((sf_stacked.actEndType == 'Home') & (sf_stacked.actStartType.isin(mandatory)), 'from_H_to_M' , sf_stacked['mandatoryCat'])"
   ]
  },
  {
   "cell_type": "code",
   "execution_count": 60,
   "id": "11c74ce2",
   "metadata": {
    "ExecuteTime": {
     "end_time": "2022-10-07T01:01:15.207664Z",
     "start_time": "2022-10-07T01:01:13.883857Z"
    }
   },
   "outputs": [],
   "source": [
    "sf_stacked['mandatoryCat'] = np.where((sf_stacked.actEndType.isin(mandatory)) & (sf_stacked.actStartType == \"Home\"), 'from_M_to_H' , sf_stacked['mandatoryCat'])"
   ]
  },
  {
   "cell_type": "code",
   "execution_count": 61,
   "id": "714163d9",
   "metadata": {
    "ExecuteTime": {
     "start_time": "2022-10-07T01:01:20.650Z"
    }
   },
   "outputs": [],
   "source": [
    "non_mandatory = ['othmaint' , 'othdiscr', 'escort', 'eatout', 'social', 'shopping', 'atwork']\n",
    "sf_stacked['mandatoryCat'] = np.where((sf_stacked.actEndType.isin(non_mandatory)) & (sf_stacked.actStartType.isin(non_mandatory)), 'from_N_to_N' , sf_stacked['mandatoryCat'])"
   ]
  },
  {
   "cell_type": "code",
   "execution_count": 62,
   "id": "7e184487",
   "metadata": {},
   "outputs": [
    {
     "ename": "KeyError",
     "evalue": "\"['num_work_tours', 'num_joint_tours', 'non_mandatory_tour_frequency', 'num_non_mand', 'num_escort_tours', 'num_eatout_tours', 'num_shop_tours', 'num_maint_tours', 'num_discr_tours', 'num_social_tours', 'num_non_escort_tours'] not found in axis\"",
     "output_type": "error",
     "traceback": [
      "\u001b[1;31m---------------------------------------------------------------------------\u001b[0m",
      "\u001b[1;31mKeyError\u001b[0m                                  Traceback (most recent call last)",
      "Input \u001b[1;32mIn [62]\u001b[0m, in \u001b[0;36m<cell line: 2>\u001b[1;34m()\u001b[0m\n\u001b[0;32m      1\u001b[0m \u001b[38;5;66;03m# Drop unused columns\u001b[39;00m\n\u001b[1;32m----> 2\u001b[0m sf_stacked \u001b[38;5;241m=\u001b[39m \u001b[43msf_stacked\u001b[49m\u001b[38;5;241;43m.\u001b[39;49m\u001b[43mdrop\u001b[49m\u001b[43m(\u001b[49m\u001b[43m[\u001b[49m\u001b[38;5;124;43m'\u001b[39;49m\u001b[38;5;124;43mnum_work_tours\u001b[39;49m\u001b[38;5;124;43m'\u001b[39;49m\u001b[43m,\u001b[49m\u001b[38;5;124;43m'\u001b[39;49m\u001b[38;5;124;43mnum_joint_tours\u001b[39;49m\u001b[38;5;124;43m'\u001b[39;49m\u001b[43m,\u001b[49m\u001b[43m \u001b[49m\u001b[38;5;124;43m'\u001b[39;49m\u001b[38;5;124;43mnon_mandatory_tour_frequency\u001b[39;49m\u001b[38;5;124;43m'\u001b[39;49m\u001b[43m,\u001b[49m\n\u001b[0;32m      3\u001b[0m \u001b[43m                                          \u001b[49m\u001b[38;5;124;43m'\u001b[39;49m\u001b[38;5;124;43mnum_non_mand\u001b[39;49m\u001b[38;5;124;43m'\u001b[39;49m\u001b[43m,\u001b[49m\u001b[38;5;124;43m'\u001b[39;49m\u001b[38;5;124;43mnum_escort_tours\u001b[39;49m\u001b[38;5;124;43m'\u001b[39;49m\u001b[43m,\u001b[49m\u001b[38;5;124;43m'\u001b[39;49m\u001b[38;5;124;43mnum_eatout_tours\u001b[39;49m\u001b[38;5;124;43m'\u001b[39;49m\u001b[43m,\u001b[49m\u001b[38;5;124;43m'\u001b[39;49m\u001b[38;5;124;43mnum_shop_tours\u001b[39;49m\u001b[38;5;124;43m'\u001b[39;49m\u001b[43m,\u001b[49m\n\u001b[0;32m      4\u001b[0m \u001b[43m                                          \u001b[49m\u001b[38;5;124;43m'\u001b[39;49m\u001b[38;5;124;43mnum_maint_tours\u001b[39;49m\u001b[38;5;124;43m'\u001b[39;49m\u001b[43m,\u001b[49m\u001b[38;5;124;43m'\u001b[39;49m\u001b[38;5;124;43mnum_discr_tours\u001b[39;49m\u001b[38;5;124;43m'\u001b[39;49m\u001b[43m,\u001b[49m\u001b[38;5;124;43m'\u001b[39;49m\u001b[38;5;124;43mnum_social_tours\u001b[39;49m\u001b[38;5;124;43m'\u001b[39;49m\u001b[43m,\u001b[49m\u001b[38;5;124;43m'\u001b[39;49m\u001b[38;5;124;43mnum_non_escort_tours\u001b[39;49m\u001b[38;5;124;43m'\u001b[39;49m\u001b[43m]\u001b[49m\u001b[43m,\u001b[49m\u001b[43m \u001b[49m\u001b[43maxis\u001b[49m\u001b[38;5;241;43m=\u001b[39;49m\u001b[38;5;241;43m1\u001b[39;49m\u001b[43m)\u001b[49m\n",
      "File \u001b[1;32m~\\.conda\\envs\\geo_env\\lib\\site-packages\\pandas\\util\\_decorators.py:311\u001b[0m, in \u001b[0;36mdeprecate_nonkeyword_arguments.<locals>.decorate.<locals>.wrapper\u001b[1;34m(*args, **kwargs)\u001b[0m\n\u001b[0;32m    305\u001b[0m \u001b[38;5;28;01mif\u001b[39;00m \u001b[38;5;28mlen\u001b[39m(args) \u001b[38;5;241m>\u001b[39m num_allow_args:\n\u001b[0;32m    306\u001b[0m     warnings\u001b[38;5;241m.\u001b[39mwarn(\n\u001b[0;32m    307\u001b[0m         msg\u001b[38;5;241m.\u001b[39mformat(arguments\u001b[38;5;241m=\u001b[39marguments),\n\u001b[0;32m    308\u001b[0m         \u001b[38;5;167;01mFutureWarning\u001b[39;00m,\n\u001b[0;32m    309\u001b[0m         stacklevel\u001b[38;5;241m=\u001b[39mstacklevel,\n\u001b[0;32m    310\u001b[0m     )\n\u001b[1;32m--> 311\u001b[0m \u001b[38;5;28;01mreturn\u001b[39;00m func(\u001b[38;5;241m*\u001b[39margs, \u001b[38;5;241m*\u001b[39m\u001b[38;5;241m*\u001b[39mkwargs)\n",
      "File \u001b[1;32m~\\.conda\\envs\\geo_env\\lib\\site-packages\\pandas\\core\\frame.py:4954\u001b[0m, in \u001b[0;36mDataFrame.drop\u001b[1;34m(self, labels, axis, index, columns, level, inplace, errors)\u001b[0m\n\u001b[0;32m   4806\u001b[0m \u001b[38;5;129m@deprecate_nonkeyword_arguments\u001b[39m(version\u001b[38;5;241m=\u001b[39m\u001b[38;5;28;01mNone\u001b[39;00m, allowed_args\u001b[38;5;241m=\u001b[39m[\u001b[38;5;124m\"\u001b[39m\u001b[38;5;124mself\u001b[39m\u001b[38;5;124m\"\u001b[39m, \u001b[38;5;124m\"\u001b[39m\u001b[38;5;124mlabels\u001b[39m\u001b[38;5;124m\"\u001b[39m])\n\u001b[0;32m   4807\u001b[0m \u001b[38;5;28;01mdef\u001b[39;00m \u001b[38;5;21mdrop\u001b[39m(\n\u001b[0;32m   4808\u001b[0m     \u001b[38;5;28mself\u001b[39m,\n\u001b[1;32m   (...)\u001b[0m\n\u001b[0;32m   4815\u001b[0m     errors: \u001b[38;5;28mstr\u001b[39m \u001b[38;5;241m=\u001b[39m \u001b[38;5;124m\"\u001b[39m\u001b[38;5;124mraise\u001b[39m\u001b[38;5;124m\"\u001b[39m,\n\u001b[0;32m   4816\u001b[0m ):\n\u001b[0;32m   4817\u001b[0m     \u001b[38;5;124;03m\"\"\"\u001b[39;00m\n\u001b[0;32m   4818\u001b[0m \u001b[38;5;124;03m    Drop specified labels from rows or columns.\u001b[39;00m\n\u001b[0;32m   4819\u001b[0m \n\u001b[1;32m   (...)\u001b[0m\n\u001b[0;32m   4952\u001b[0m \u001b[38;5;124;03m            weight  1.0     0.8\u001b[39;00m\n\u001b[0;32m   4953\u001b[0m \u001b[38;5;124;03m    \"\"\"\u001b[39;00m\n\u001b[1;32m-> 4954\u001b[0m     \u001b[38;5;28;01mreturn\u001b[39;00m \u001b[38;5;28;43msuper\u001b[39;49m\u001b[43m(\u001b[49m\u001b[43m)\u001b[49m\u001b[38;5;241;43m.\u001b[39;49m\u001b[43mdrop\u001b[49m\u001b[43m(\u001b[49m\n\u001b[0;32m   4955\u001b[0m \u001b[43m        \u001b[49m\u001b[43mlabels\u001b[49m\u001b[38;5;241;43m=\u001b[39;49m\u001b[43mlabels\u001b[49m\u001b[43m,\u001b[49m\n\u001b[0;32m   4956\u001b[0m \u001b[43m        \u001b[49m\u001b[43maxis\u001b[49m\u001b[38;5;241;43m=\u001b[39;49m\u001b[43maxis\u001b[49m\u001b[43m,\u001b[49m\n\u001b[0;32m   4957\u001b[0m \u001b[43m        \u001b[49m\u001b[43mindex\u001b[49m\u001b[38;5;241;43m=\u001b[39;49m\u001b[43mindex\u001b[49m\u001b[43m,\u001b[49m\n\u001b[0;32m   4958\u001b[0m \u001b[43m        \u001b[49m\u001b[43mcolumns\u001b[49m\u001b[38;5;241;43m=\u001b[39;49m\u001b[43mcolumns\u001b[49m\u001b[43m,\u001b[49m\n\u001b[0;32m   4959\u001b[0m \u001b[43m        \u001b[49m\u001b[43mlevel\u001b[49m\u001b[38;5;241;43m=\u001b[39;49m\u001b[43mlevel\u001b[49m\u001b[43m,\u001b[49m\n\u001b[0;32m   4960\u001b[0m \u001b[43m        \u001b[49m\u001b[43minplace\u001b[49m\u001b[38;5;241;43m=\u001b[39;49m\u001b[43minplace\u001b[49m\u001b[43m,\u001b[49m\n\u001b[0;32m   4961\u001b[0m \u001b[43m        \u001b[49m\u001b[43merrors\u001b[49m\u001b[38;5;241;43m=\u001b[39;49m\u001b[43merrors\u001b[49m\u001b[43m,\u001b[49m\n\u001b[0;32m   4962\u001b[0m \u001b[43m    \u001b[49m\u001b[43m)\u001b[49m\n",
      "File \u001b[1;32m~\\.conda\\envs\\geo_env\\lib\\site-packages\\pandas\\core\\generic.py:4267\u001b[0m, in \u001b[0;36mNDFrame.drop\u001b[1;34m(self, labels, axis, index, columns, level, inplace, errors)\u001b[0m\n\u001b[0;32m   4265\u001b[0m \u001b[38;5;28;01mfor\u001b[39;00m axis, labels \u001b[38;5;129;01min\u001b[39;00m axes\u001b[38;5;241m.\u001b[39mitems():\n\u001b[0;32m   4266\u001b[0m     \u001b[38;5;28;01mif\u001b[39;00m labels \u001b[38;5;129;01mis\u001b[39;00m \u001b[38;5;129;01mnot\u001b[39;00m \u001b[38;5;28;01mNone\u001b[39;00m:\n\u001b[1;32m-> 4267\u001b[0m         obj \u001b[38;5;241m=\u001b[39m \u001b[43mobj\u001b[49m\u001b[38;5;241;43m.\u001b[39;49m\u001b[43m_drop_axis\u001b[49m\u001b[43m(\u001b[49m\u001b[43mlabels\u001b[49m\u001b[43m,\u001b[49m\u001b[43m \u001b[49m\u001b[43maxis\u001b[49m\u001b[43m,\u001b[49m\u001b[43m \u001b[49m\u001b[43mlevel\u001b[49m\u001b[38;5;241;43m=\u001b[39;49m\u001b[43mlevel\u001b[49m\u001b[43m,\u001b[49m\u001b[43m \u001b[49m\u001b[43merrors\u001b[49m\u001b[38;5;241;43m=\u001b[39;49m\u001b[43merrors\u001b[49m\u001b[43m)\u001b[49m\n\u001b[0;32m   4269\u001b[0m \u001b[38;5;28;01mif\u001b[39;00m inplace:\n\u001b[0;32m   4270\u001b[0m     \u001b[38;5;28mself\u001b[39m\u001b[38;5;241m.\u001b[39m_update_inplace(obj)\n",
      "File \u001b[1;32m~\\.conda\\envs\\geo_env\\lib\\site-packages\\pandas\\core\\generic.py:4311\u001b[0m, in \u001b[0;36mNDFrame._drop_axis\u001b[1;34m(self, labels, axis, level, errors, consolidate, only_slice)\u001b[0m\n\u001b[0;32m   4309\u001b[0m         new_axis \u001b[38;5;241m=\u001b[39m axis\u001b[38;5;241m.\u001b[39mdrop(labels, level\u001b[38;5;241m=\u001b[39mlevel, errors\u001b[38;5;241m=\u001b[39merrors)\n\u001b[0;32m   4310\u001b[0m     \u001b[38;5;28;01melse\u001b[39;00m:\n\u001b[1;32m-> 4311\u001b[0m         new_axis \u001b[38;5;241m=\u001b[39m \u001b[43maxis\u001b[49m\u001b[38;5;241;43m.\u001b[39;49m\u001b[43mdrop\u001b[49m\u001b[43m(\u001b[49m\u001b[43mlabels\u001b[49m\u001b[43m,\u001b[49m\u001b[43m \u001b[49m\u001b[43merrors\u001b[49m\u001b[38;5;241;43m=\u001b[39;49m\u001b[43merrors\u001b[49m\u001b[43m)\u001b[49m\n\u001b[0;32m   4312\u001b[0m     indexer \u001b[38;5;241m=\u001b[39m axis\u001b[38;5;241m.\u001b[39mget_indexer(new_axis)\n\u001b[0;32m   4314\u001b[0m \u001b[38;5;66;03m# Case for non-unique axis\u001b[39;00m\n\u001b[0;32m   4315\u001b[0m \u001b[38;5;28;01melse\u001b[39;00m:\n",
      "File \u001b[1;32m~\\.conda\\envs\\geo_env\\lib\\site-packages\\pandas\\core\\indexes\\base.py:6644\u001b[0m, in \u001b[0;36mIndex.drop\u001b[1;34m(self, labels, errors)\u001b[0m\n\u001b[0;32m   6642\u001b[0m \u001b[38;5;28;01mif\u001b[39;00m mask\u001b[38;5;241m.\u001b[39many():\n\u001b[0;32m   6643\u001b[0m     \u001b[38;5;28;01mif\u001b[39;00m errors \u001b[38;5;241m!=\u001b[39m \u001b[38;5;124m\"\u001b[39m\u001b[38;5;124mignore\u001b[39m\u001b[38;5;124m\"\u001b[39m:\n\u001b[1;32m-> 6644\u001b[0m         \u001b[38;5;28;01mraise\u001b[39;00m \u001b[38;5;167;01mKeyError\u001b[39;00m(\u001b[38;5;124mf\u001b[39m\u001b[38;5;124m\"\u001b[39m\u001b[38;5;132;01m{\u001b[39;00m\u001b[38;5;28mlist\u001b[39m(labels[mask])\u001b[38;5;132;01m}\u001b[39;00m\u001b[38;5;124m not found in axis\u001b[39m\u001b[38;5;124m\"\u001b[39m)\n\u001b[0;32m   6645\u001b[0m     indexer \u001b[38;5;241m=\u001b[39m indexer[\u001b[38;5;241m~\u001b[39mmask]\n\u001b[0;32m   6646\u001b[0m \u001b[38;5;28;01mreturn\u001b[39;00m \u001b[38;5;28mself\u001b[39m\u001b[38;5;241m.\u001b[39mdelete(indexer)\n",
      "\u001b[1;31mKeyError\u001b[0m: \"['num_work_tours', 'num_joint_tours', 'non_mandatory_tour_frequency', 'num_non_mand', 'num_escort_tours', 'num_eatout_tours', 'num_shop_tours', 'num_maint_tours', 'num_discr_tours', 'num_social_tours', 'num_non_escort_tours'] not found in axis\""
     ]
    }
   ],
   "source": [
    "# Drop unused columns\n",
    "sf_stacked = sf_stacked.drop(['num_work_tours','num_joint_tours', 'non_mandatory_tour_frequency',\n",
    "                                          'num_non_mand','num_escort_tours','num_eatout_tours','num_shop_tours',\n",
    "                                          'num_maint_tours','num_discr_tours','num_social_tours','num_non_escort_tours'], axis=1)"
   ]
  },
  {
   "cell_type": "code",
   "execution_count": 53,
   "id": "a747eb02",
   "metadata": {},
   "outputs": [],
   "source": [
    "#sf_stacked[sf_stacked['Realized_INEXUS'].isna()].head(10000).to_csv('C:/Shared-Work/Data/CleanData/ASIM_BEAM_Merged/realizedIN_empty.csv', index = False)"
   ]
  },
  {
   "cell_type": "code",
   "execution_count": 54,
   "id": "56093393",
   "metadata": {},
   "outputs": [],
   "source": [
    "#%%time\n",
    "#sf_stacked_tr_fr.to_csv('s3://beam-core-act/deepDive/CleanData/SanFrancisco/Stacked/sf_2018_stacked_tr_fr_v3.csv', index=False)"
   ]
  },
  {
   "cell_type": "code",
   "execution_count": 63,
   "id": "45ed6cef",
   "metadata": {},
   "outputs": [
    {
     "data": {
      "text/plain": [
       "(155180, 156)"
      ]
     },
     "execution_count": 63,
     "metadata": {},
     "output_type": "execute_result"
    }
   ],
   "source": [
    "sf_stacked[sf_stacked['SHARED3FREE'].isna()].shape"
   ]
  },
  {
   "cell_type": "code",
   "execution_count": 64,
   "id": "698ee745",
   "metadata": {},
   "outputs": [],
   "source": [
    "sf_stacked = sf_stacked[sf_stacked['WALK'].notna()]"
   ]
  },
  {
   "cell_type": "code",
   "execution_count": 65,
   "id": "86d28cc0",
   "metadata": {},
   "outputs": [],
   "source": [
    "# Mapping BEAM and ASIM modes\n",
    "conditions  = [(sf_stacked['mode_choice_actual_BEAM'] == 'walk')&(sf_stacked['trip_mode_AS_trips'] == 'WALK'),\n",
    "               (sf_stacked['mode_choice_actual_BEAM'] == 'bike')&(sf_stacked['trip_mode_AS_trips'] == 'BIKE'),\n",
    "               (sf_stacked['mode_choice_actual_BEAM'] == 'hov3_teleportation')&(sf_stacked['trip_mode_AS_trips'] == 'SHARED3FREE'),\n",
    "               (sf_stacked['mode_choice_actual_BEAM'] == 'hov3_teleportation')&(sf_stacked['trip_mode_AS_trips'] == 'SHARED3PAY'),\n",
    "               (sf_stacked['mode_choice_actual_BEAM'] == 'car_hov3')&(sf_stacked['trip_mode_AS_trips'] == 'SHARED3FREE'),\n",
    "               (sf_stacked['mode_choice_actual_BEAM'] == 'car_hov3')&(sf_stacked['trip_mode_AS_trips'] == 'SHARED3PAY'),\n",
    "               (sf_stacked['mode_choice_actual_BEAM'] == 'hov2_teleportation')&(sf_stacked['trip_mode_AS_trips'] == 'SHARED2FREE'),\n",
    "               (sf_stacked['mode_choice_actual_BEAM'] == 'hov2_teleportation')&(sf_stacked['trip_mode_AS_trips'] == 'SHARED2PAY'),\n",
    "               (sf_stacked['mode_choice_actual_BEAM'] == 'car_hov2')&(sf_stacked['trip_mode_AS_trips'] == 'SHARED2PAY'),\n",
    "               (sf_stacked['mode_choice_actual_BEAM'] == 'car_hov2')&(sf_stacked['trip_mode_AS_trips'] == 'SHARED2FREE'),\n",
    "               (sf_stacked['mode_choice_actual_BEAM'] == 'car')&(sf_stacked['trip_mode_AS_trips'] == 'DRIVEALONEFREE'),\n",
    "               (sf_stacked['mode_choice_actual_BEAM'] == 'car')&(sf_stacked['trip_mode_AS_trips'] == 'DRIVEALONEPAY'),\n",
    "               (sf_stacked['mode_choice_actual_BEAM'] == 'walk_transit')&(sf_stacked['trip_mode_AS_trips'] == 'WALK_LRF'),\n",
    "               (sf_stacked['mode_choice_actual_BEAM'] == 'walk_transit')&(sf_stacked['trip_mode_AS_trips'] == 'WALK_LOC'),\n",
    "               (sf_stacked['mode_choice_actual_BEAM'] == 'walk_transit')&(sf_stacked['trip_mode_AS_trips'] == 'WALK_EXP'),\n",
    "               (sf_stacked['mode_choice_actual_BEAM'] == 'walk_transit')&(sf_stacked['trip_mode_AS_trips'] == 'WALK_HVY'),\n",
    "               (sf_stacked['mode_choice_actual_BEAM'] == 'walk_transit')&(sf_stacked['trip_mode_AS_trips'] == 'WALK_COM'),\n",
    "               (sf_stacked['mode_choice_actual_BEAM'] == 'ride_hail')&(sf_stacked['trip_mode_AS_trips'] == 'TNC_SINGLE'),\n",
    "               (sf_stacked['mode_choice_actual_BEAM'] == 'ride_hail')&(sf_stacked['trip_mode_AS_trips'] == 'TNC_SHARED'),\n",
    "               (sf_stacked['mode_choice_actual_BEAM'] == 'ride_hail')&(sf_stacked['trip_mode_AS_trips'] == 'TAXI'),\n",
    "               (sf_stacked['mode_choice_actual_BEAM'] == 'drive_transit')&(sf_stacked['trip_mode_AS_trips'] == 'DRIVE_COM'),\n",
    "               (sf_stacked['mode_choice_actual_BEAM'] == 'drive_transit')&(sf_stacked['trip_mode_AS_trips'] == 'DRIVE_LRF'),\n",
    "               (sf_stacked['mode_choice_actual_BEAM'] == 'drive_transit')&(sf_stacked['trip_mode_AS_trips'] == 'DRIVE_LOC'),\n",
    "               (sf_stacked['mode_choice_actual_BEAM'] == 'drive_transit')&(sf_stacked['trip_mode_AS_trips'] == 'DRIVE_EXP'),\n",
    "               (sf_stacked['mode_choice_actual_BEAM'] == 'drive_transit')&(sf_stacked['trip_mode_AS_trips'] == 'DRIVE_HVY'),\n",
    "               (sf_stacked['mode_choice_actual_BEAM'] == 'ride_hail_pooled')&(sf_stacked['trip_mode_AS_trips'] == 'TNC_SINGLE'),\n",
    "               (sf_stacked['mode_choice_actual_BEAM'] == 'ride_hail_pooled')&(sf_stacked['trip_mode_AS_trips'] == 'TNC_SHARED'),\n",
    "               (sf_stacked['mode_choice_actual_BEAM'] == 'ride_hail_pooled')&(sf_stacked['trip_mode_AS_trips'] == 'TAXI'),\n",
    "       \n",
    "               (sf_stacked['mode_choice_actual_BEAM'] == 'hov2_teleportation')&((sf_stacked['trip_mode_AS_trips'] == 'SHARED3FREE')|\n",
    "               (sf_stacked['trip_mode_AS_trips'] == 'SHARED3PAY')|(sf_stacked['trip_mode_AS_trips'] == 'DRIVEALONEFREE')|\n",
    "               (sf_stacked['trip_mode_AS_trips'] == 'DRIVEALONEPAY')),\n",
    "               \n",
    "               (sf_stacked['mode_choice_actual_BEAM'] == 'car_hov2')&((sf_stacked['trip_mode_AS_trips'] == 'SHARED3PAY')|\n",
    "               (sf_stacked['trip_mode_AS_trips'] == 'SHARED3FREE')|(sf_stacked['trip_mode_AS_trips'] == 'DRIVEALONEFREE')|\n",
    "               (sf_stacked['trip_mode_AS_trips'] == 'DRIVEALONEPAY')),\n",
    "               \n",
    "               (sf_stacked['mode_choice_actual_BEAM'] == 'car_hov3')&((sf_stacked['trip_mode_AS_trips'] == 'SHARED2PAY')|\n",
    "               (sf_stacked['trip_mode_AS_trips'] == 'SHARED2FREE')|(sf_stacked['trip_mode_AS_trips'] == 'DRIVEALONEFREE')|\n",
    "               (sf_stacked['trip_mode_AS_trips'] == 'DRIVEALONEPAY')),   \n",
    "               \n",
    "               (sf_stacked['mode_choice_actual_BEAM'] == 'hov3_teleportation')&((sf_stacked['trip_mode_AS_trips'] == 'DRIVEALONEPAY')|\n",
    "               (sf_stacked['trip_mode_AS_trips'] == 'DRIVEALONEFREE')|(sf_stacked['trip_mode_AS_trips'] == 'SHARED2PAY')|(sf_stacked['trip_mode_AS_trips'] == 'SHARED2FREE')),\n",
    "               \n",
    "               (sf_stacked['mode_choice_actual_BEAM'] == 'car')&((sf_stacked['trip_mode_AS_trips'] == 'SHARED3FREE')|(sf_stacked['trip_mode_AS_trips'] == 'SHARED2FREE')|\n",
    "               (sf_stacked['trip_mode_AS_trips'] == 'SHARED3PAY')|(sf_stacked['trip_mode_AS_trips'] == 'SHARED2PAY')|(sf_stacked['trip_mode_AS_trips'] == 'DRIVE_LOC')|\n",
    "               (sf_stacked['trip_mode_AS_trips'] == 'DRIVE_LRF')|(sf_stacked['trip_mode_AS_trips'] == 'DRIVE_EXP')|\n",
    "               (sf_stacked['trip_mode_AS_trips'] == 'DRIVE_HVY')|(sf_stacked['trip_mode_AS_trips'] == 'DRIVE_COM')),\n",
    "               \n",
    "               (sf_stacked['mode_choice_actual_BEAM'] == 'walk')&((sf_stacked['trip_mode_AS_trips'] == 'WALK_LRF')|\n",
    "               (sf_stacked['trip_mode_AS_trips'] == 'WALK_LOC')|(sf_stacked['trip_mode_AS_trips'] == 'WALK_EXP')|\n",
    "               (sf_stacked['trip_mode_AS_trips'] == 'WALK_HVY')|(sf_stacked['trip_mode_AS_trips'] == 'WALK_COM')),\n",
    "               \n",
    "               (sf_stacked['mode_choice_actual_BEAM'] == 'walk_transit')&(sf_stacked['trip_mode_AS_trips'] == 'WALK'),\n",
    "               \n",
    "               ((sf_stacked['mode_choice_actual_BEAM'] == 'ride_hail_pooled')|(sf_stacked['mode_choice_actual_BEAM'] == 'ride_hail'))\n",
    "               &(~((sf_stacked['trip_mode_AS_trips'] == 'TAXI')|(sf_stacked['trip_mode_AS_trips'] == 'TNC_SHARED')|\n",
    "                (sf_stacked['trip_mode_AS_trips'] == 'TNC_SINGLE'))),\n",
    "               \n",
    "               (sf_stacked['mode_choice_actual_BEAM'] == 'walk_transit')&(~((sf_stacked['trip_mode_AS_trips'] == 'WALK_LRF')|\n",
    "               (sf_stacked['trip_mode_AS_trips'] == 'WALK_LOC')|(sf_stacked['trip_mode_AS_trips'] == 'WALK_EXP')|\n",
    "               (sf_stacked['trip_mode_AS_trips'] == 'WALK_HVY')|(sf_stacked['trip_mode_AS_trips'] == 'WALK_COM')|\n",
    "               (sf_stacked['trip_mode_AS_trips'] == 'WALK'))),\n",
    "               \n",
    "               (sf_stacked['mode_choice_actual_BEAM'] == 'bike_transit'),\n",
    "               \n",
    "               (sf_stacked['mode_choice_actual_BEAM'] == 'car')&((sf_stacked['trip_mode_AS_trips'] == 'TNC_SHARED')|\n",
    "               (sf_stacked['trip_mode_AS_trips'] == 'TNC_SINGLE')|(sf_stacked['trip_mode_AS_trips'] == 'TAXI'))]\n",
    " \n",
    "                                                                      \n",
    "                                                                                                                 \n",
    "                                                                      \n",
    "choices = [sf_stacked['WALK'], sf_stacked['BIKE'], sf_stacked['SHARED3FREE'], sf_stacked['SHARED3PAY'],\n",
    "           sf_stacked['SHARED3FREE'], sf_stacked['SHARED3PAY'], sf_stacked['SHARED2FREE'], \n",
    "           sf_stacked['SHARED2PAY'], sf_stacked['SHARED2PAY'], sf_stacked['SHARED2FREE'], \n",
    "           sf_stacked['DRIVEALONEFREE'], sf_stacked['DRIVEALONEPAY'], sf_stacked['WALK_LRF'], \n",
    "           sf_stacked['WALK_LOC'], sf_stacked['WALK_EXP'], sf_stacked['WALK_HVY'], sf_stacked['WALK_COM'],\n",
    "           sf_stacked['TNC_SINGLE'], \n",
    "           sf_stacked['TNC_SHARED'], sf_stacked['TAXI'],\n",
    "           sf_stacked['DRIVE_COM'], sf_stacked['DRIVE_LRF'], sf_stacked['DRIVE_LOC'], sf_stacked['DRIVE_EXP'],\n",
    "           sf_stacked['DRIVE_HVY'], sf_stacked['TNC_SINGLE'], sf_stacked['TNC_SHARED'], sf_stacked['TAXI'],\n",
    "          sf_stacked[['DRIVEALONEFREE','DRIVEALONEPAY','SHARED2FREE','SHARED3FREE','SHARED2PAY','SHARED3PAY','DRIVE_LOC','DRIVE_LRF','DRIVE_EXP','DRIVE_HVY','DRIVE_COM']].max(axis=1),\n",
    "          sf_stacked[['DRIVEALONEFREE','DRIVEALONEPAY','SHARED2FREE','SHARED3FREE','SHARED2PAY','SHARED3PAY','DRIVE_LOC','DRIVE_LRF','DRIVE_EXP','DRIVE_HVY','DRIVE_COM']].max(axis=1),\n",
    "          sf_stacked[['DRIVEALONEFREE','DRIVEALONEPAY','SHARED2FREE','SHARED3FREE','SHARED2PAY','SHARED3PAY','DRIVE_LOC','DRIVE_LRF','DRIVE_EXP','DRIVE_HVY','DRIVE_COM']].max(axis=1),\n",
    "          sf_stacked[['DRIVEALONEFREE','DRIVEALONEPAY','SHARED2FREE','SHARED3FREE','SHARED2PAY','SHARED3PAY','DRIVE_LOC','DRIVE_LRF','DRIVE_EXP','DRIVE_HVY','DRIVE_COM']].max(axis=1),\n",
    "          sf_stacked[['DRIVEALONEFREE','DRIVEALONEPAY','SHARED2FREE','SHARED3FREE','SHARED2PAY','SHARED3PAY','DRIVE_LOC','DRIVE_LRF','DRIVE_EXP','DRIVE_HVY','DRIVE_COM']].max(axis=1),\n",
    "          sf_stacked[['WALK','WALK_LOC','WALK_LRF','WALK_EXP','WALK_HVY','WALK_COM']].max(axis=1),\n",
    "          sf_stacked[['WALK','WALK_LOC','WALK_LRF','WALK_EXP','WALK_HVY','WALK_COM']].max(axis=1),\n",
    "          sf_stacked[['TAXI','TNC_SINGLE','TNC_SHARED']].max(axis=1),\n",
    "          sf_stacked[['WALK','WALK_LOC','WALK_LRF','WALK_EXP','WALK_HVY','WALK_COM','DRIVE_LOC','DRIVE_LRF','DRIVE_EXP','DRIVE_HVY','DRIVE_COM']].max(axis=1),\n",
    "          sf_stacked[['BIKE','WALK_LOC','WALK_LRF','WALK_EXP','WALK_HVY','WALK_COM','DRIVE_LOC','DRIVE_LRF','DRIVE_EXP','DRIVE_HVY','DRIVE_COM']].max(axis=1),\n",
    "          sf_stacked[['DRIVEALONEFREE','DRIVEALONEPAY','SHARED2FREE','SHARED3FREE','SHARED2PAY','SHARED3PAY','DRIVE_LOC','DRIVE_LRF','DRIVE_EXP','DRIVE_HVY','DRIVE_COM']].max(axis=1)]"
   ]
  },
  {
   "cell_type": "code",
   "execution_count": 66,
   "id": "efacd110",
   "metadata": {
    "scrolled": true
   },
   "outputs": [
    {
     "name": "stderr",
     "output_type": "stream",
     "text": [
      "C:\\Users\\nazanin\\AppData\\Local\\Temp\\2\\ipykernel_6860\\145564651.py:1: SettingWithCopyWarning: \n",
      "A value is trying to be set on a copy of a slice from a DataFrame.\n",
      "Try using .loc[row_indexer,col_indexer] = value instead\n",
      "\n",
      "See the caveats in the documentation: https://pandas.pydata.org/pandas-docs/stable/user_guide/indexing.html#returning-a-view-versus-a-copy\n",
      "  sf_stacked['Realized_INEXUS'] = np.select(conditions, choices, default=np.nan)\n"
     ]
    }
   ],
   "source": [
    "sf_stacked['Realized_INEXUS'] = np.select(conditions, choices, default=np.nan)"
   ]
  },
  {
   "cell_type": "code",
   "execution_count": 67,
   "id": "917c8ee2",
   "metadata": {},
   "outputs": [],
   "source": [
    "#sf_stacked = sf_stacked.drop(['Realized_INEXUS'], axis=1)"
   ]
  },
  {
   "cell_type": "code",
   "execution_count": 68,
   "id": "9bbb966f",
   "metadata": {},
   "outputs": [
    {
     "name": "stderr",
     "output_type": "stream",
     "text": [
      "C:\\Users\\nazanin\\AppData\\Local\\Temp\\2\\ipykernel_6860\\3370862910.py:1: SettingWithCopyWarning: \n",
      "A value is trying to be set on a copy of a slice from a DataFrame.\n",
      "Try using .loc[row_indexer,col_indexer] = value instead\n",
      "\n",
      "See the caveats in the documentation: https://pandas.pydata.org/pandas-docs/stable/user_guide/indexing.html#returning-a-view-versus-a-copy\n",
      "  sf_stacked['Realized_INEXUS'] = np.where((sf_stacked['Realized_INEXUS'].isna())&((sf_stacked['mode_choice_actual_BEAM'] == 'car_hov2')|\n"
     ]
    }
   ],
   "source": [
    "sf_stacked['Realized_INEXUS'] = np.where((sf_stacked['Realized_INEXUS'].isna())&((sf_stacked['mode_choice_actual_BEAM'] == 'car_hov2')|\n",
    "                                          (sf_stacked['mode_choice_actual_BEAM'] == 'car_hov3')|\n",
    "                                          (sf_stacked['mode_choice_actual_BEAM'] == 'hov2_teleportation')|\n",
    "                                          (sf_stacked['mode_choice_actual_BEAM'] == 'hov3_teleportation')|\n",
    "                                          (sf_stacked['mode_choice_actual_BEAM'] == 'car')|\n",
    "                                          (sf_stacked['mode_choice_actual_BEAM'] == 'drive_transit')), \n",
    "                                           sf_stacked[['DRIVEALONEFREE','DRIVEALONEPAY','SHARED2FREE','SHARED3FREE','SHARED2PAY','SHARED3PAY','DRIVE_LOC','DRIVE_LRF','DRIVE_EXP','DRIVE_HVY','DRIVE_COM']].max(axis=1), sf_stacked['Realized_INEXUS'])"
   ]
  },
  {
   "cell_type": "code",
   "execution_count": 70,
   "id": "39f33fc4",
   "metadata": {},
   "outputs": [
    {
     "name": "stderr",
     "output_type": "stream",
     "text": [
      "C:\\Users\\nazanin\\AppData\\Local\\Temp\\2\\ipykernel_6860\\2193019203.py:1: SettingWithCopyWarning: \n",
      "A value is trying to be set on a copy of a slice from a DataFrame.\n",
      "Try using .loc[row_indexer,col_indexer] = value instead\n",
      "\n",
      "See the caveats in the documentation: https://pandas.pydata.org/pandas-docs/stable/user_guide/indexing.html#returning-a-view-versus-a-copy\n",
      "  sf_stacked['Realized_INEXUS'] = np.where((sf_stacked['Realized_INEXUS'].isna())&((sf_stacked['mode_choice_actual_BEAM'] == 'walk')|\n"
     ]
    }
   ],
   "source": [
    "sf_stacked['Realized_INEXUS'] = np.where((sf_stacked['Realized_INEXUS'].isna())&((sf_stacked['mode_choice_actual_BEAM'] == 'walk')|\n",
    "                                         (sf_stacked['mode_choice_actual_BEAM'] == 'walk_transit')), \n",
    "                                          sf_stacked[['WALK','WALK_LOC','WALK_LRF','WALK_EXP','WALK_HVY','WALK_COM','DRIVE_LOC','DRIVE_LRF','DRIVE_EXP','DRIVE_HVY','DRIVE_COM']].max(axis=1),sf_stacked['Realized_INEXUS'])"
   ]
  },
  {
   "cell_type": "code",
   "execution_count": 71,
   "id": "c31f1858",
   "metadata": {},
   "outputs": [
    {
     "name": "stderr",
     "output_type": "stream",
     "text": [
      "C:\\Users\\nazanin\\AppData\\Local\\Temp\\2\\ipykernel_6860\\4208012849.py:1: SettingWithCopyWarning: \n",
      "A value is trying to be set on a copy of a slice from a DataFrame.\n",
      "Try using .loc[row_indexer,col_indexer] = value instead\n",
      "\n",
      "See the caveats in the documentation: https://pandas.pydata.org/pandas-docs/stable/user_guide/indexing.html#returning-a-view-versus-a-copy\n",
      "  sf_stacked['Realized_INEXUS'] = np.where(sf_stacked['Realized_INEXUS'].isna()&(sf_stacked['mode_choice_actual_BEAM'] == 'bike'),\n"
     ]
    }
   ],
   "source": [
    "sf_stacked['Realized_INEXUS'] = np.where(sf_stacked['Realized_INEXUS'].isna()&(sf_stacked['mode_choice_actual_BEAM'] == 'bike'), \n",
    "                                         sf_stacked[['BIKE','WALK','WALK_LOC','WALK_LRF','WALK_EXP','WALK_HVY','WALK_COM']].max(axis=1),sf_stacked['Realized_INEXUS'])"
   ]
  },
  {
   "cell_type": "code",
   "execution_count": 107,
   "id": "c6a246c6",
   "metadata": {},
   "outputs": [
    {
     "data": {
      "text/plain": [
       "(0, 162)"
      ]
     },
     "execution_count": 107,
     "metadata": {},
     "output_type": "execute_result"
    }
   ],
   "source": [
    "sf_stacked[sf_stacked['Realized_INEXUS'].isna()].shape"
   ]
  },
  {
   "cell_type": "code",
   "execution_count": 108,
   "id": "b858c058",
   "metadata": {},
   "outputs": [
    {
     "data": {
      "text/plain": [
       "(0, 162)"
      ]
     },
     "execution_count": 108,
     "metadata": {},
     "output_type": "execute_result"
    }
   ],
   "source": [
    "sf_stacked[sf_stacked['Realized_INEXUS']<-1000].shape"
   ]
  },
  {
   "cell_type": "code",
   "execution_count": 103,
   "id": "897206fb",
   "metadata": {},
   "outputs": [],
   "source": [
    "sf_stacked['Realized_INEXUS'] = np.where(sf_stacked['Realized_INEXUS']<-1000, sf_stacked['Realized_INEXUS']+990, sf_stacked['Realized_INEXUS'])"
   ]
  },
  {
   "cell_type": "code",
   "execution_count": null,
   "id": "1ac28b2e",
   "metadata": {},
   "outputs": [],
   "source": [
    "#sf_stacked_tr_fr['Realized_INEXUS'] = np.where((sf_stacked_tr_fr['Realized_INEXUS'].isna())&\n",
    "                                               #(sf_stacked_tr_fr['mode_choice_actual_BEAM'] == 'walk_transit')&\n",
    "                                               #(sf_stacked_tr_fr['vehicleIds'].str.contains('(caltrain)')), \n",
    "                                               #sf_stacked_tr_fr['WALK_COM'], sf_stacked_tr_fr['Realized_INEXUS'])"
   ]
  },
  {
   "cell_type": "code",
   "execution_count": null,
   "id": "aef4dfd1",
   "metadata": {},
   "outputs": [],
   "source": [
    "sf_stacked = sf_stacked[sf_stacked['Realized_INEXUS'].notna()]"
   ]
  },
  {
   "cell_type": "code",
   "execution_count": 110,
   "id": "60260af5",
   "metadata": {},
   "outputs": [
    {
     "data": {
      "text/html": [
       "<div>\n",
       "<style scoped>\n",
       "    .dataframe tbody tr th:only-of-type {\n",
       "        vertical-align: middle;\n",
       "    }\n",
       "\n",
       "    .dataframe tbody tr th {\n",
       "        vertical-align: top;\n",
       "    }\n",
       "\n",
       "    .dataframe thead th {\n",
       "        text-align: right;\n",
       "    }\n",
       "</style>\n",
       "<table border=\"1\" class=\"dataframe\">\n",
       "  <thead>\n",
       "    <tr style=\"text-align: right;\">\n",
       "      <th></th>\n",
       "      <th>IDMerged</th>\n",
       "      <th>tripIndex</th>\n",
       "      <th>actStartTime</th>\n",
       "      <th>actEndTime</th>\n",
       "      <th>duration_travelling</th>\n",
       "      <th>cost_BEAM</th>\n",
       "      <th>actStartType</th>\n",
       "      <th>actEndType</th>\n",
       "      <th>duration_walking</th>\n",
       "      <th>duration_in_privateCar</th>\n",
       "      <th>duration_on_bike</th>\n",
       "      <th>duration_in_ridehail</th>\n",
       "      <th>distance_travelling</th>\n",
       "      <th>duration_in_transit</th>\n",
       "      <th>distance_walking</th>\n",
       "      <th>distance_bike</th>\n",
       "      <th>distance_ridehail</th>\n",
       "      <th>distance_privateCar</th>\n",
       "      <th>distance_transit</th>\n",
       "      <th>mode_choice_planned_BEAM</th>\n",
       "      <th>mode_choice_actual_BEAM</th>\n",
       "      <th>vehicleIds</th>\n",
       "      <th>numPassengers</th>\n",
       "      <th>distance_mode_choice</th>\n",
       "      <th>replanning_status</th>\n",
       "      <th>reason</th>\n",
       "      <th>parkingType</th>\n",
       "      <th>transit_bus</th>\n",
       "      <th>transit_subway</th>\n",
       "      <th>transit_tram</th>\n",
       "      <th>transit_cable_car</th>\n",
       "      <th>ride_hail_pooled</th>\n",
       "      <th>transit_rail</th>\n",
       "      <th>fuelFood</th>\n",
       "      <th>fuelElectricity</th>\n",
       "      <th>fuelBiodiesel</th>\n",
       "      <th>fuelDiesel</th>\n",
       "      <th>fuel_not_Food</th>\n",
       "      <th>fuelGasoline</th>\n",
       "      <th>fuel_marginal</th>\n",
       "      <th>BlockGroupStart</th>\n",
       "      <th>startX</th>\n",
       "      <th>startY</th>\n",
       "      <th>bgid_start</th>\n",
       "      <th>tractid_start</th>\n",
       "      <th>juris_name_start</th>\n",
       "      <th>county_name_start</th>\n",
       "      <th>mpo_start</th>\n",
       "      <th>BlockGroupEnd</th>\n",
       "      <th>endX</th>\n",
       "      <th>endY</th>\n",
       "      <th>bgid_end</th>\n",
       "      <th>tractid_end</th>\n",
       "      <th>juris_name_end</th>\n",
       "      <th>county_name_end</th>\n",
       "      <th>mpo_end</th>\n",
       "      <th>emissionFood</th>\n",
       "      <th>emissionElectricity</th>\n",
       "      <th>emissionDiesel</th>\n",
       "      <th>emissionGasoline</th>\n",
       "      <th>emissionBiodiesel</th>\n",
       "      <th>emission_marginal</th>\n",
       "      <th>duration_door_to_door</th>\n",
       "      <th>waitTime_no_replanning</th>\n",
       "      <th>waitTime_replanning</th>\n",
       "      <th>actPurpose</th>\n",
       "      <th>mode_choice_actual_5</th>\n",
       "      <th>mode_choice_actual_6</th>\n",
       "      <th>mode_choice_actual_4</th>\n",
       "      <th>trip_id</th>\n",
       "      <th>person_id</th>\n",
       "      <th>household_id</th>\n",
       "      <th>tour_id</th>\n",
       "      <th>primary_purpose_x</th>\n",
       "      <th>trip_count</th>\n",
       "      <th>purpose</th>\n",
       "      <th>destination_x</th>\n",
       "      <th>origin_x</th>\n",
       "      <th>destination_logsum_x</th>\n",
       "      <th>depart</th>\n",
       "      <th>trip_mode_AS_trips</th>\n",
       "      <th>logsum_trip_Potential_INEXUS</th>\n",
       "      <th>tour_type</th>\n",
       "      <th>tour_category</th>\n",
       "      <th>destination_y</th>\n",
       "      <th>origin_y</th>\n",
       "      <th>start</th>\n",
       "      <th>end</th>\n",
       "      <th>duration</th>\n",
       "      <th>tour_mode_AS_tours</th>\n",
       "      <th>age</th>\n",
       "      <th>earning</th>\n",
       "      <th>edu</th>\n",
       "      <th>race_id</th>\n",
       "      <th>sex</th>\n",
       "      <th>work_at_home</th>\n",
       "      <th>person_sex</th>\n",
       "      <th>race</th>\n",
       "      <th>TAZ_x</th>\n",
       "      <th>home_x</th>\n",
       "      <th>home_y</th>\n",
       "      <th>home_taz</th>\n",
       "      <th>value_of_time</th>\n",
       "      <th>school_taz</th>\n",
       "      <th>workplace_taz</th>\n",
       "      <th>workplace_location_logsum</th>\n",
       "      <th>free_parking_at_work</th>\n",
       "      <th>num_mand</th>\n",
       "      <th>income</th>\n",
       "      <th>tenure</th>\n",
       "      <th>hh_size</th>\n",
       "      <th>hh_cars</th>\n",
       "      <th>hh_income</th>\n",
       "      <th>tenure_mover</th>\n",
       "      <th>block_id</th>\n",
       "      <th>lcm_county_id</th>\n",
       "      <th>hhsize</th>\n",
       "      <th>TAZ_y</th>\n",
       "      <th>income_in_thousands</th>\n",
       "      <th>median_value_of_time</th>\n",
       "      <th>hh_value_of_time</th>\n",
       "      <th>home_is_urban</th>\n",
       "      <th>home_is_rural</th>\n",
       "      <th>auto_ownership</th>\n",
       "      <th>DRIVEALONEFREE</th>\n",
       "      <th>DRIVEALONEPAY</th>\n",
       "      <th>SHARED2FREE</th>\n",
       "      <th>SHARED2PAY</th>\n",
       "      <th>SHARED3FREE</th>\n",
       "      <th>SHARED3PAY</th>\n",
       "      <th>WALK</th>\n",
       "      <th>BIKE</th>\n",
       "      <th>WALK_LOC</th>\n",
       "      <th>WALK_LRF</th>\n",
       "      <th>WALK_EXP</th>\n",
       "      <th>WALK_HVY</th>\n",
       "      <th>WALK_COM</th>\n",
       "      <th>DRIVE_LOC</th>\n",
       "      <th>DRIVE_LRF</th>\n",
       "      <th>DRIVE_EXP</th>\n",
       "      <th>DRIVE_HVY</th>\n",
       "      <th>DRIVE_COM</th>\n",
       "      <th>TAXI</th>\n",
       "      <th>TNC_SINGLE</th>\n",
       "      <th>TNC_SHARED</th>\n",
       "      <th>income_quartiles</th>\n",
       "      <th>income_deciles</th>\n",
       "      <th>scenario</th>\n",
       "      <th>lever</th>\n",
       "      <th>year</th>\n",
       "      <th>lever_position</th>\n",
       "      <th>lever_position_price</th>\n",
       "      <th>lever_position_fleetsize</th>\n",
       "      <th>logsum_relative_to_baseline</th>\n",
       "      <th>door_to_door_time_relative_to_baseline</th>\n",
       "      <th>mandatoryCat</th>\n",
       "      <th>Realized_INEXUS</th>\n",
       "      <th>alpha</th>\n",
       "      <th>socialCarbonCost</th>\n",
       "      <th>Social_INEXUS</th>\n",
       "      <th>Potential_INEXUS_in_dollar</th>\n",
       "      <th>Realized_INEXUS_in_dollar</th>\n",
       "    </tr>\n",
       "  </thead>\n",
       "  <tbody>\n",
       "    <tr>\n",
       "      <th>0</th>\n",
       "      <td>4</td>\n",
       "      <td>1513</td>\n",
       "      <td>55528.000000</td>\n",
       "      <td>54961.000000</td>\n",
       "      <td>567.000000</td>\n",
       "      <td>1.604735</td>\n",
       "      <td>othdiscr</td>\n",
       "      <td>Home</td>\n",
       "      <td>0.000000</td>\n",
       "      <td>567.000000</td>\n",
       "      <td>0.000000</td>\n",
       "      <td>0.000000</td>\n",
       "      <td>14631.142000</td>\n",
       "      <td>0.000000</td>\n",
       "      <td>0.000000</td>\n",
       "      <td>0.000000</td>\n",
       "      <td>0.000000</td>\n",
       "      <td>14631.142000</td>\n",
       "      <td>0.000000</td>\n",
       "      <td>car</td>\n",
       "      <td>car</td>\n",
       "      <td>358611, body-4</td>\n",
       "      <td>1.0, 0.0, 0.0, 1.0</td>\n",
       "      <td>14631.142000</td>\n",
       "      <td>0</td>\n",
       "      <td>NaN</td>\n",
       "      <td>Residential, Public</td>\n",
       "      <td>0</td>\n",
       "      <td>0</td>\n",
       "      <td>0</td>\n",
       "      <td>0</td>\n",
       "      <td>0</td>\n",
       "      <td>0</td>\n",
       "      <td>0.000000</td>\n",
       "      <td>0.000000</td>\n",
       "      <td>0.000000</td>\n",
       "      <td>0.000000</td>\n",
       "      <td>22701321.975947</td>\n",
       "      <td>22701321.975947</td>\n",
       "      <td>22701321.975947</td>\n",
       "      <td>60014001001.000000</td>\n",
       "      <td>-122.227937</td>\n",
       "      <td>37.854097</td>\n",
       "      <td>60014001001.000000</td>\n",
       "      <td>6001400100.000000</td>\n",
       "      <td>Oakland</td>\n",
       "      <td>Alameda County</td>\n",
       "      <td>San Francisco Bay Area (MTC)</td>\n",
       "      <td>60014096004.000000</td>\n",
       "      <td>-122.171960</td>\n",
       "      <td>37.750722</td>\n",
       "      <td>60014096004.000000</td>\n",
       "      <td>6001409600.000000</td>\n",
       "      <td>Oakland</td>\n",
       "      <td>Alameda County</td>\n",
       "      <td>San Francisco Bay Area (MTC)</td>\n",
       "      <td>0.000000</td>\n",
       "      <td>0.000000</td>\n",
       "      <td>0.000000</td>\n",
       "      <td>0.001678</td>\n",
       "      <td>0.000000</td>\n",
       "      <td>0.000000</td>\n",
       "      <td>567.000000</td>\n",
       "      <td>0.000000</td>\n",
       "      <td>0.000000</td>\n",
       "      <td>Home_to_othdiscr</td>\n",
       "      <td>car</td>\n",
       "      <td>car</td>\n",
       "      <td>car</td>\n",
       "      <td>1513.000000</td>\n",
       "      <td>4.000000</td>\n",
       "      <td>865.000000</td>\n",
       "      <td>189.000000</td>\n",
       "      <td>othdiscr</td>\n",
       "      <td>1.000000</td>\n",
       "      <td>othdiscr</td>\n",
       "      <td>891.000000</td>\n",
       "      <td>1005.000000</td>\n",
       "      <td>NaN</td>\n",
       "      <td>15.000000</td>\n",
       "      <td>DRIVEALONEFREE</td>\n",
       "      <td>-3.359118</td>\n",
       "      <td>othdiscr</td>\n",
       "      <td>non_mandatory</td>\n",
       "      <td>891.000000</td>\n",
       "      <td>1005.000000</td>\n",
       "      <td>15.000000</td>\n",
       "      <td>16.000000</td>\n",
       "      <td>1.000000</td>\n",
       "      <td>DRIVEALONEFREE</td>\n",
       "      <td>68.000000</td>\n",
       "      <td>0.000000</td>\n",
       "      <td>22.000000</td>\n",
       "      <td>2.000000</td>\n",
       "      <td>2.000000</td>\n",
       "      <td>0.000000</td>\n",
       "      <td>female</td>\n",
       "      <td>black</td>\n",
       "      <td>1005.000000</td>\n",
       "      <td>-122.227937</td>\n",
       "      <td>37.854097</td>\n",
       "      <td>1005.000000</td>\n",
       "      <td>2.818730</td>\n",
       "      <td>-1.000000</td>\n",
       "      <td>-1.000000</td>\n",
       "      <td>NaN</td>\n",
       "      <td>False</td>\n",
       "      <td>0.000000</td>\n",
       "      <td>70550.000000</td>\n",
       "      <td>1.000000</td>\n",
       "      <td>two</td>\n",
       "      <td>two or more</td>\n",
       "      <td>gt60-lt100</td>\n",
       "      <td>own not recent</td>\n",
       "      <td>60014001001061.000000</td>\n",
       "      <td>6001.000000</td>\n",
       "      <td>2.000000</td>\n",
       "      <td>1005.000000</td>\n",
       "      <td>70.550000</td>\n",
       "      <td>10.440000</td>\n",
       "      <td>2.818730</td>\n",
       "      <td>False</td>\n",
       "      <td>False</td>\n",
       "      <td>1.000000</td>\n",
       "      <td>-3.981448</td>\n",
       "      <td>-4.052351</td>\n",
       "      <td>-1002.981448</td>\n",
       "      <td>-1003.021964</td>\n",
       "      <td>-1002.981448</td>\n",
       "      <td>-1003.009809</td>\n",
       "      <td>-44.478549</td>\n",
       "      <td>-1009.440540</td>\n",
       "      <td>-1998.380369</td>\n",
       "      <td>-1998.380369</td>\n",
       "      <td>-1998.380369</td>\n",
       "      <td>-2002.056290</td>\n",
       "      <td>-1998.380369</td>\n",
       "      <td>-1001.227631</td>\n",
       "      <td>-1998.427241</td>\n",
       "      <td>-1998.427241</td>\n",
       "      <td>-2000.036363</td>\n",
       "      <td>-1998.427241</td>\n",
       "      <td>-29.154868</td>\n",
       "      <td>-4.326001</td>\n",
       "      <td>-5.991636</td>\n",
       "      <td>2ndQ</td>\n",
       "      <td>4thD</td>\n",
       "      <td>ridehail</td>\n",
       "      <td>price</td>\n",
       "      <td>2020</td>\n",
       "      <td>0.000000</td>\n",
       "      <td>0.000000</td>\n",
       "      <td>1</td>\n",
       "      <td>-2.571284</td>\n",
       "      <td>384.000000</td>\n",
       "      <td>None</td>\n",
       "      <td>-3.981448</td>\n",
       "      <td>0.100000</td>\n",
       "      <td>0.000000</td>\n",
       "      <td>-39.814482</td>\n",
       "      <td>-33.591179</td>\n",
       "      <td>-39.814482</td>\n",
       "    </tr>\n",
       "    <tr>\n",
       "      <th>1</th>\n",
       "      <td>4</td>\n",
       "      <td>1513</td>\n",
       "      <td>57775.000000</td>\n",
       "      <td>57520.000000</td>\n",
       "      <td>255.000000</td>\n",
       "      <td>0.590549</td>\n",
       "      <td>othdiscr</td>\n",
       "      <td>Home</td>\n",
       "      <td>0.000000</td>\n",
       "      <td>255.000000</td>\n",
       "      <td>0.000000</td>\n",
       "      <td>0.000000</td>\n",
       "      <td>5384.318000</td>\n",
       "      <td>0.000000</td>\n",
       "      <td>0.000000</td>\n",
       "      <td>0.000000</td>\n",
       "      <td>0.000000</td>\n",
       "      <td>5384.318000</td>\n",
       "      <td>0.000000</td>\n",
       "      <td>car</td>\n",
       "      <td>car</td>\n",
       "      <td>358622, body-4</td>\n",
       "      <td>1.0, 0.0, 0.0, 1.0</td>\n",
       "      <td>5384.318000</td>\n",
       "      <td>0</td>\n",
       "      <td>NaN</td>\n",
       "      <td>Residential, Public</td>\n",
       "      <td>0</td>\n",
       "      <td>0</td>\n",
       "      <td>0</td>\n",
       "      <td>0</td>\n",
       "      <td>0</td>\n",
       "      <td>0</td>\n",
       "      <td>0.000000</td>\n",
       "      <td>0.000000</td>\n",
       "      <td>0.000000</td>\n",
       "      <td>0.000000</td>\n",
       "      <td>8644696.241503</td>\n",
       "      <td>8644696.241503</td>\n",
       "      <td>8644696.241503</td>\n",
       "      <td>60014001001.000000</td>\n",
       "      <td>-122.227937</td>\n",
       "      <td>37.854097</td>\n",
       "      <td>60014001001.000000</td>\n",
       "      <td>6001400100.000000</td>\n",
       "      <td>Oakland</td>\n",
       "      <td>Alameda County</td>\n",
       "      <td>San Francisco Bay Area (MTC)</td>\n",
       "      <td>60014045024.000000</td>\n",
       "      <td>-122.204810</td>\n",
       "      <td>37.827999</td>\n",
       "      <td>60014045024.000000</td>\n",
       "      <td>6001404502.000000</td>\n",
       "      <td>Oakland</td>\n",
       "      <td>Alameda County</td>\n",
       "      <td>San Francisco Bay Area (MTC)</td>\n",
       "      <td>0.000000</td>\n",
       "      <td>0.000000</td>\n",
       "      <td>0.000000</td>\n",
       "      <td>0.000639</td>\n",
       "      <td>0.000000</td>\n",
       "      <td>0.000000</td>\n",
       "      <td>255.000000</td>\n",
       "      <td>0.000000</td>\n",
       "      <td>0.000000</td>\n",
       "      <td>Home_to_othdiscr</td>\n",
       "      <td>car</td>\n",
       "      <td>car</td>\n",
       "      <td>car</td>\n",
       "      <td>1513.000000</td>\n",
       "      <td>4.000000</td>\n",
       "      <td>865.000000</td>\n",
       "      <td>189.000000</td>\n",
       "      <td>othdiscr</td>\n",
       "      <td>1.000000</td>\n",
       "      <td>othdiscr</td>\n",
       "      <td>913.000000</td>\n",
       "      <td>1005.000000</td>\n",
       "      <td>NaN</td>\n",
       "      <td>15.000000</td>\n",
       "      <td>DRIVEALONEFREE</td>\n",
       "      <td>-2.524608</td>\n",
       "      <td>othdiscr</td>\n",
       "      <td>non_mandatory</td>\n",
       "      <td>913.000000</td>\n",
       "      <td>1005.000000</td>\n",
       "      <td>15.000000</td>\n",
       "      <td>16.000000</td>\n",
       "      <td>1.000000</td>\n",
       "      <td>DRIVEALONEFREE</td>\n",
       "      <td>68.000000</td>\n",
       "      <td>0.000000</td>\n",
       "      <td>22.000000</td>\n",
       "      <td>2.000000</td>\n",
       "      <td>2.000000</td>\n",
       "      <td>0.000000</td>\n",
       "      <td>female</td>\n",
       "      <td>black</td>\n",
       "      <td>1005.000000</td>\n",
       "      <td>-122.227937</td>\n",
       "      <td>37.854097</td>\n",
       "      <td>1005.000000</td>\n",
       "      <td>2.818730</td>\n",
       "      <td>-1.000000</td>\n",
       "      <td>-1.000000</td>\n",
       "      <td>NaN</td>\n",
       "      <td>False</td>\n",
       "      <td>0.000000</td>\n",
       "      <td>70550.000000</td>\n",
       "      <td>1.000000</td>\n",
       "      <td>two</td>\n",
       "      <td>two or more</td>\n",
       "      <td>gt60-lt100</td>\n",
       "      <td>own not recent</td>\n",
       "      <td>60014001001061.000000</td>\n",
       "      <td>6001.000000</td>\n",
       "      <td>2.000000</td>\n",
       "      <td>1005.000000</td>\n",
       "      <td>70.550000</td>\n",
       "      <td>10.440000</td>\n",
       "      <td>2.818730</td>\n",
       "      <td>False</td>\n",
       "      <td>False</td>\n",
       "      <td>1.000000</td>\n",
       "      <td>-2.731231</td>\n",
       "      <td>-2.737002</td>\n",
       "      <td>-1001.731231</td>\n",
       "      <td>-1001.734529</td>\n",
       "      <td>-1001.731231</td>\n",
       "      <td>-1001.733540</td>\n",
       "      <td>-18.867786</td>\n",
       "      <td>-1001.310309</td>\n",
       "      <td>-1001.383874</td>\n",
       "      <td>-1998.378026</td>\n",
       "      <td>-1998.378026</td>\n",
       "      <td>-1998.378026</td>\n",
       "      <td>-1998.378026</td>\n",
       "      <td>-1000.241913</td>\n",
       "      <td>-1998.424898</td>\n",
       "      <td>-1998.424898</td>\n",
       "      <td>-1998.424898</td>\n",
       "      <td>-1998.424898</td>\n",
       "      <td>-20.386394</td>\n",
       "      <td>-6.182327</td>\n",
       "      <td>-6.118676</td>\n",
       "      <td>2ndQ</td>\n",
       "      <td>4thD</td>\n",
       "      <td>ridehail</td>\n",
       "      <td>price</td>\n",
       "      <td>2020</td>\n",
       "      <td>0.125000</td>\n",
       "      <td>0.125000</td>\n",
       "      <td>1</td>\n",
       "      <td>-1.736774</td>\n",
       "      <td>72.000000</td>\n",
       "      <td>None</td>\n",
       "      <td>-2.731231</td>\n",
       "      <td>0.100000</td>\n",
       "      <td>0.000000</td>\n",
       "      <td>-27.312315</td>\n",
       "      <td>-25.246083</td>\n",
       "      <td>-27.312315</td>\n",
       "    </tr>\n",
       "    <tr>\n",
       "      <th>2</th>\n",
       "      <td>4</td>\n",
       "      <td>1513</td>\n",
       "      <td>55962.000000</td>\n",
       "      <td>55350.000000</td>\n",
       "      <td>612.000000</td>\n",
       "      <td>0.677538</td>\n",
       "      <td>othdiscr</td>\n",
       "      <td>Home</td>\n",
       "      <td>248.000000</td>\n",
       "      <td>364.000000</td>\n",
       "      <td>0.000000</td>\n",
       "      <td>0.000000</td>\n",
       "      <td>6891.688000</td>\n",
       "      <td>0.000000</td>\n",
       "      <td>321.777000</td>\n",
       "      <td>0.000000</td>\n",
       "      <td>0.000000</td>\n",
       "      <td>6569.911000</td>\n",
       "      <td>0.000000</td>\n",
       "      <td>car</td>\n",
       "      <td>car</td>\n",
       "      <td>body-4, 358548</td>\n",
       "      <td>1.0, 0.0, 0.0, 1.0</td>\n",
       "      <td>6177.442000</td>\n",
       "      <td>0</td>\n",
       "      <td>NaN</td>\n",
       "      <td>Residential, Residential, Public</td>\n",
       "      <td>0</td>\n",
       "      <td>0</td>\n",
       "      <td>0</td>\n",
       "      <td>0</td>\n",
       "      <td>0</td>\n",
       "      <td>0</td>\n",
       "      <td>17054.181000</td>\n",
       "      <td>0.000000</td>\n",
       "      <td>0.000000</td>\n",
       "      <td>0.000000</td>\n",
       "      <td>10465691.253266</td>\n",
       "      <td>10465691.253266</td>\n",
       "      <td>10482745.434266</td>\n",
       "      <td>60014001001.000000</td>\n",
       "      <td>-122.227937</td>\n",
       "      <td>37.854097</td>\n",
       "      <td>60014001001.000000</td>\n",
       "      <td>6001400100.000000</td>\n",
       "      <td>Oakland</td>\n",
       "      <td>Alameda County</td>\n",
       "      <td>San Francisco Bay Area (MTC)</td>\n",
       "      <td>60014038001.000000</td>\n",
       "      <td>-122.239304</td>\n",
       "      <td>37.815996</td>\n",
       "      <td>60014038001.000000</td>\n",
       "      <td>6001403800.000000</td>\n",
       "      <td>Oakland</td>\n",
       "      <td>Alameda County</td>\n",
       "      <td>San Francisco Bay Area (MTC)</td>\n",
       "      <td>0.000000</td>\n",
       "      <td>0.000000</td>\n",
       "      <td>0.000000</td>\n",
       "      <td>0.000774</td>\n",
       "      <td>0.000000</td>\n",
       "      <td>0.000000</td>\n",
       "      <td>612.000000</td>\n",
       "      <td>0.000000</td>\n",
       "      <td>0.000000</td>\n",
       "      <td>Home_to_othdiscr</td>\n",
       "      <td>car</td>\n",
       "      <td>car</td>\n",
       "      <td>car</td>\n",
       "      <td>1513.000000</td>\n",
       "      <td>4.000000</td>\n",
       "      <td>865.000000</td>\n",
       "      <td>189.000000</td>\n",
       "      <td>othdiscr</td>\n",
       "      <td>1.000000</td>\n",
       "      <td>othdiscr</td>\n",
       "      <td>917.000000</td>\n",
       "      <td>1005.000000</td>\n",
       "      <td>NaN</td>\n",
       "      <td>15.000000</td>\n",
       "      <td>DRIVEALONEFREE</td>\n",
       "      <td>-0.648215</td>\n",
       "      <td>othdiscr</td>\n",
       "      <td>non_mandatory</td>\n",
       "      <td>917.000000</td>\n",
       "      <td>1005.000000</td>\n",
       "      <td>15.000000</td>\n",
       "      <td>16.000000</td>\n",
       "      <td>1.000000</td>\n",
       "      <td>DRIVEALONEFREE</td>\n",
       "      <td>68.000000</td>\n",
       "      <td>0.000000</td>\n",
       "      <td>22.000000</td>\n",
       "      <td>2.000000</td>\n",
       "      <td>2.000000</td>\n",
       "      <td>0.000000</td>\n",
       "      <td>female</td>\n",
       "      <td>black</td>\n",
       "      <td>1005.000000</td>\n",
       "      <td>-122.227937</td>\n",
       "      <td>37.854097</td>\n",
       "      <td>1005.000000</td>\n",
       "      <td>2.818730</td>\n",
       "      <td>-1.000000</td>\n",
       "      <td>-1.000000</td>\n",
       "      <td>NaN</td>\n",
       "      <td>False</td>\n",
       "      <td>0.000000</td>\n",
       "      <td>70550.000000</td>\n",
       "      <td>1.000000</td>\n",
       "      <td>two</td>\n",
       "      <td>two or more</td>\n",
       "      <td>gt60-lt100</td>\n",
       "      <td>own not recent</td>\n",
       "      <td>60014001001061.000000</td>\n",
       "      <td>6001.000000</td>\n",
       "      <td>2.000000</td>\n",
       "      <td>1005.000000</td>\n",
       "      <td>70.550000</td>\n",
       "      <td>10.440000</td>\n",
       "      <td>2.818730</td>\n",
       "      <td>False</td>\n",
       "      <td>False</td>\n",
       "      <td>1.000000</td>\n",
       "      <td>-0.944112</td>\n",
       "      <td>-0.947232</td>\n",
       "      <td>-999.944112</td>\n",
       "      <td>-999.945895</td>\n",
       "      <td>-999.944112</td>\n",
       "      <td>-999.945360</td>\n",
       "      <td>-14.091297</td>\n",
       "      <td>-1000.828669</td>\n",
       "      <td>-1000.521735</td>\n",
       "      <td>-1998.373591</td>\n",
       "      <td>-1998.373591</td>\n",
       "      <td>-1998.373591</td>\n",
       "      <td>-1998.373591</td>\n",
       "      <td>-999.802942</td>\n",
       "      <td>-1998.420463</td>\n",
       "      <td>-1998.420463</td>\n",
       "      <td>-1998.420463</td>\n",
       "      <td>-1998.420463</td>\n",
       "      <td>-8.505649</td>\n",
       "      <td>-2.981777</td>\n",
       "      <td>-3.149330</td>\n",
       "      <td>2ndQ</td>\n",
       "      <td>4thD</td>\n",
       "      <td>ridehail</td>\n",
       "      <td>price</td>\n",
       "      <td>2020</td>\n",
       "      <td>0.250000</td>\n",
       "      <td>0.250000</td>\n",
       "      <td>1</td>\n",
       "      <td>0.139619</td>\n",
       "      <td>429.000000</td>\n",
       "      <td>None</td>\n",
       "      <td>-0.944112</td>\n",
       "      <td>0.100000</td>\n",
       "      <td>0.000000</td>\n",
       "      <td>-9.441121</td>\n",
       "      <td>-6.482153</td>\n",
       "      <td>-9.441121</td>\n",
       "    </tr>\n",
       "    <tr>\n",
       "      <th>3</th>\n",
       "      <td>4</td>\n",
       "      <td>1513</td>\n",
       "      <td>57048.000000</td>\n",
       "      <td>56854.000000</td>\n",
       "      <td>194.000000</td>\n",
       "      <td>0.509574</td>\n",
       "      <td>othdiscr</td>\n",
       "      <td>Home</td>\n",
       "      <td>0.000000</td>\n",
       "      <td>194.000000</td>\n",
       "      <td>0.000000</td>\n",
       "      <td>0.000000</td>\n",
       "      <td>4646.029000</td>\n",
       "      <td>0.000000</td>\n",
       "      <td>0.000000</td>\n",
       "      <td>0.000000</td>\n",
       "      <td>0.000000</td>\n",
       "      <td>4646.029000</td>\n",
       "      <td>0.000000</td>\n",
       "      <td>car</td>\n",
       "      <td>car</td>\n",
       "      <td>body-4, 358654</td>\n",
       "      <td>1.0, 0.0, 0.0, 1.0</td>\n",
       "      <td>4646.029000</td>\n",
       "      <td>0</td>\n",
       "      <td>NaN</td>\n",
       "      <td>Residential, Public</td>\n",
       "      <td>0</td>\n",
       "      <td>0</td>\n",
       "      <td>0</td>\n",
       "      <td>0</td>\n",
       "      <td>0</td>\n",
       "      <td>0</td>\n",
       "      <td>0.000000</td>\n",
       "      <td>0.000000</td>\n",
       "      <td>0.000000</td>\n",
       "      <td>0.000000</td>\n",
       "      <td>6831391.080106</td>\n",
       "      <td>6831391.080106</td>\n",
       "      <td>6831391.080106</td>\n",
       "      <td>60014001001.000000</td>\n",
       "      <td>-122.227937</td>\n",
       "      <td>37.854097</td>\n",
       "      <td>60014001001.000000</td>\n",
       "      <td>6001400100.000000</td>\n",
       "      <td>Oakland</td>\n",
       "      <td>Alameda County</td>\n",
       "      <td>San Francisco Bay Area (MTC)</td>\n",
       "      <td>60014261001.000000</td>\n",
       "      <td>-122.235298</td>\n",
       "      <td>37.830552</td>\n",
       "      <td>60014261001.000000</td>\n",
       "      <td>6001426100.000000</td>\n",
       "      <td>Piedmont</td>\n",
       "      <td>Alameda County</td>\n",
       "      <td>San Francisco Bay Area (MTC)</td>\n",
       "      <td>0.000000</td>\n",
       "      <td>0.000000</td>\n",
       "      <td>0.000000</td>\n",
       "      <td>0.000505</td>\n",
       "      <td>0.000000</td>\n",
       "      <td>0.000000</td>\n",
       "      <td>194.000000</td>\n",
       "      <td>0.000000</td>\n",
       "      <td>0.000000</td>\n",
       "      <td>Home_to_othdiscr</td>\n",
       "      <td>car</td>\n",
       "      <td>car</td>\n",
       "      <td>car</td>\n",
       "      <td>1513.000000</td>\n",
       "      <td>4.000000</td>\n",
       "      <td>865.000000</td>\n",
       "      <td>189.000000</td>\n",
       "      <td>othdiscr</td>\n",
       "      <td>1.000000</td>\n",
       "      <td>othdiscr</td>\n",
       "      <td>916.000000</td>\n",
       "      <td>1005.000000</td>\n",
       "      <td>NaN</td>\n",
       "      <td>15.000000</td>\n",
       "      <td>DRIVEALONEFREE</td>\n",
       "      <td>-1.012956</td>\n",
       "      <td>othdiscr</td>\n",
       "      <td>non_mandatory</td>\n",
       "      <td>916.000000</td>\n",
       "      <td>1005.000000</td>\n",
       "      <td>15.000000</td>\n",
       "      <td>16.000000</td>\n",
       "      <td>1.000000</td>\n",
       "      <td>DRIVEALONEFREE</td>\n",
       "      <td>68.000000</td>\n",
       "      <td>0.000000</td>\n",
       "      <td>22.000000</td>\n",
       "      <td>2.000000</td>\n",
       "      <td>2.000000</td>\n",
       "      <td>0.000000</td>\n",
       "      <td>female</td>\n",
       "      <td>black</td>\n",
       "      <td>1005.000000</td>\n",
       "      <td>-122.227937</td>\n",
       "      <td>37.854097</td>\n",
       "      <td>1005.000000</td>\n",
       "      <td>2.818730</td>\n",
       "      <td>-1.000000</td>\n",
       "      <td>-1.000000</td>\n",
       "      <td>NaN</td>\n",
       "      <td>False</td>\n",
       "      <td>0.000000</td>\n",
       "      <td>70550.000000</td>\n",
       "      <td>1.000000</td>\n",
       "      <td>two</td>\n",
       "      <td>two or more</td>\n",
       "      <td>gt60-lt100</td>\n",
       "      <td>own not recent</td>\n",
       "      <td>60014001001061.000000</td>\n",
       "      <td>6001.000000</td>\n",
       "      <td>2.000000</td>\n",
       "      <td>1005.000000</td>\n",
       "      <td>70.550000</td>\n",
       "      <td>10.440000</td>\n",
       "      <td>2.818730</td>\n",
       "      <td>False</td>\n",
       "      <td>False</td>\n",
       "      <td>1.000000</td>\n",
       "      <td>-1.195758</td>\n",
       "      <td>-1.199882</td>\n",
       "      <td>-1000.195758</td>\n",
       "      <td>-1000.198114</td>\n",
       "      <td>-1000.195758</td>\n",
       "      <td>-1000.197407</td>\n",
       "      <td>-20.921898</td>\n",
       "      <td>-1001.517729</td>\n",
       "      <td>-1001.358499</td>\n",
       "      <td>-1998.380258</td>\n",
       "      <td>-1998.380258</td>\n",
       "      <td>-1998.380258</td>\n",
       "      <td>-1998.380258</td>\n",
       "      <td>-1999.111132</td>\n",
       "      <td>-1998.427130</td>\n",
       "      <td>-1998.427130</td>\n",
       "      <td>-1998.427130</td>\n",
       "      <td>-1998.427130</td>\n",
       "      <td>-12.054587</td>\n",
       "      <td>-7.910639</td>\n",
       "      <td>-5.605723</td>\n",
       "      <td>2ndQ</td>\n",
       "      <td>4thD</td>\n",
       "      <td>ridehail</td>\n",
       "      <td>price</td>\n",
       "      <td>2020</td>\n",
       "      <td>0.500000</td>\n",
       "      <td>0.500000</td>\n",
       "      <td>1</td>\n",
       "      <td>-0.225122</td>\n",
       "      <td>11.000000</td>\n",
       "      <td>None</td>\n",
       "      <td>-1.195758</td>\n",
       "      <td>0.100000</td>\n",
       "      <td>0.000000</td>\n",
       "      <td>-11.957577</td>\n",
       "      <td>-10.129557</td>\n",
       "      <td>-11.957577</td>\n",
       "    </tr>\n",
       "    <tr>\n",
       "      <th>4</th>\n",
       "      <td>4</td>\n",
       "      <td>1513</td>\n",
       "      <td>56512.000000</td>\n",
       "      <td>56329.000000</td>\n",
       "      <td>183.000000</td>\n",
       "      <td>0.409358</td>\n",
       "      <td>othdiscr</td>\n",
       "      <td>Home</td>\n",
       "      <td>0.000000</td>\n",
       "      <td>183.000000</td>\n",
       "      <td>0.000000</td>\n",
       "      <td>0.000000</td>\n",
       "      <td>3732.315000</td>\n",
       "      <td>0.000000</td>\n",
       "      <td>0.000000</td>\n",
       "      <td>0.000000</td>\n",
       "      <td>0.000000</td>\n",
       "      <td>3732.315000</td>\n",
       "      <td>0.000000</td>\n",
       "      <td>car</td>\n",
       "      <td>car</td>\n",
       "      <td>body-4, 358648</td>\n",
       "      <td>1.0, 0.0, 0.0, 1.0</td>\n",
       "      <td>3732.315000</td>\n",
       "      <td>0</td>\n",
       "      <td>NaN</td>\n",
       "      <td>Residential, Public</td>\n",
       "      <td>0</td>\n",
       "      <td>0</td>\n",
       "      <td>0</td>\n",
       "      <td>0</td>\n",
       "      <td>0</td>\n",
       "      <td>0</td>\n",
       "      <td>0.000000</td>\n",
       "      <td>0.000000</td>\n",
       "      <td>0.000000</td>\n",
       "      <td>0.000000</td>\n",
       "      <td>6208647.575095</td>\n",
       "      <td>6208647.575095</td>\n",
       "      <td>6208647.575095</td>\n",
       "      <td>60014001001.000000</td>\n",
       "      <td>-122.227937</td>\n",
       "      <td>37.854097</td>\n",
       "      <td>60014001001.000000</td>\n",
       "      <td>6001400100.000000</td>\n",
       "      <td>Oakland</td>\n",
       "      <td>Alameda County</td>\n",
       "      <td>San Francisco Bay Area (MTC)</td>\n",
       "      <td>60014045024.000000</td>\n",
       "      <td>-122.209569</td>\n",
       "      <td>37.826726</td>\n",
       "      <td>60014045024.000000</td>\n",
       "      <td>6001404502.000000</td>\n",
       "      <td>Oakland</td>\n",
       "      <td>Alameda County</td>\n",
       "      <td>San Francisco Bay Area (MTC)</td>\n",
       "      <td>0.000000</td>\n",
       "      <td>0.000000</td>\n",
       "      <td>0.000000</td>\n",
       "      <td>0.000459</td>\n",
       "      <td>0.000000</td>\n",
       "      <td>0.000000</td>\n",
       "      <td>183.000000</td>\n",
       "      <td>0.000000</td>\n",
       "      <td>0.000000</td>\n",
       "      <td>Home_to_othdiscr</td>\n",
       "      <td>car</td>\n",
       "      <td>car</td>\n",
       "      <td>car</td>\n",
       "      <td>1513.000000</td>\n",
       "      <td>4.000000</td>\n",
       "      <td>865.000000</td>\n",
       "      <td>189.000000</td>\n",
       "      <td>othdiscr</td>\n",
       "      <td>1.000000</td>\n",
       "      <td>othdiscr</td>\n",
       "      <td>913.000000</td>\n",
       "      <td>1005.000000</td>\n",
       "      <td>NaN</td>\n",
       "      <td>15.000000</td>\n",
       "      <td>DRIVEALONEFREE</td>\n",
       "      <td>-0.787834</td>\n",
       "      <td>othdiscr</td>\n",
       "      <td>non_mandatory</td>\n",
       "      <td>913.000000</td>\n",
       "      <td>1005.000000</td>\n",
       "      <td>15.000000</td>\n",
       "      <td>16.000000</td>\n",
       "      <td>1.000000</td>\n",
       "      <td>DRIVEALONEFREE</td>\n",
       "      <td>68.000000</td>\n",
       "      <td>0.000000</td>\n",
       "      <td>22.000000</td>\n",
       "      <td>2.000000</td>\n",
       "      <td>2.000000</td>\n",
       "      <td>0.000000</td>\n",
       "      <td>female</td>\n",
       "      <td>black</td>\n",
       "      <td>1005.000000</td>\n",
       "      <td>-122.227937</td>\n",
       "      <td>37.854097</td>\n",
       "      <td>1005.000000</td>\n",
       "      <td>2.818730</td>\n",
       "      <td>-1.000000</td>\n",
       "      <td>-1.000000</td>\n",
       "      <td>NaN</td>\n",
       "      <td>False</td>\n",
       "      <td>0.000000</td>\n",
       "      <td>70550.000000</td>\n",
       "      <td>1.000000</td>\n",
       "      <td>two</td>\n",
       "      <td>two or more</td>\n",
       "      <td>gt60-lt100</td>\n",
       "      <td>own not recent</td>\n",
       "      <td>60014001001061.000000</td>\n",
       "      <td>6001.000000</td>\n",
       "      <td>2.000000</td>\n",
       "      <td>1005.000000</td>\n",
       "      <td>70.550000</td>\n",
       "      <td>10.440000</td>\n",
       "      <td>2.818730</td>\n",
       "      <td>False</td>\n",
       "      <td>False</td>\n",
       "      <td>1.000000</td>\n",
       "      <td>-0.962008</td>\n",
       "      <td>-0.965891</td>\n",
       "      <td>-999.962008</td>\n",
       "      <td>-999.964227</td>\n",
       "      <td>-999.962008</td>\n",
       "      <td>-999.963561</td>\n",
       "      <td>-30.824786</td>\n",
       "      <td>-1002.612487</td>\n",
       "      <td>-1001.553761</td>\n",
       "      <td>-1998.378026</td>\n",
       "      <td>-1998.378026</td>\n",
       "      <td>-1998.378026</td>\n",
       "      <td>-1998.378026</td>\n",
       "      <td>-1000.421875</td>\n",
       "      <td>-1998.424898</td>\n",
       "      <td>-1998.424898</td>\n",
       "      <td>-1998.424898</td>\n",
       "      <td>-1998.424898</td>\n",
       "      <td>-11.348414</td>\n",
       "      <td>-11.636467</td>\n",
       "      <td>-7.335184</td>\n",
       "      <td>2ndQ</td>\n",
       "      <td>4thD</td>\n",
       "      <td>baseline</td>\n",
       "      <td>default</td>\n",
       "      <td>2020</td>\n",
       "      <td>1.000000</td>\n",
       "      <td>1.000000</td>\n",
       "      <td>1</td>\n",
       "      <td>0.000000</td>\n",
       "      <td>0.000000</td>\n",
       "      <td>None</td>\n",
       "      <td>-0.962008</td>\n",
       "      <td>0.100000</td>\n",
       "      <td>0.000000</td>\n",
       "      <td>-9.620076</td>\n",
       "      <td>-7.878340</td>\n",
       "      <td>-9.620076</td>\n",
       "    </tr>\n",
       "  </tbody>\n",
       "</table>\n",
       "</div>"
      ],
      "text/plain": [
       "   IDMerged  tripIndex  actStartTime   actEndTime  duration_travelling  \\\n",
       "0         4       1513  55528.000000 54961.000000           567.000000   \n",
       "1         4       1513  57775.000000 57520.000000           255.000000   \n",
       "2         4       1513  55962.000000 55350.000000           612.000000   \n",
       "3         4       1513  57048.000000 56854.000000           194.000000   \n",
       "4         4       1513  56512.000000 56329.000000           183.000000   \n",
       "\n",
       "   cost_BEAM actStartType actEndType  duration_walking  \\\n",
       "0   1.604735     othdiscr       Home          0.000000   \n",
       "1   0.590549     othdiscr       Home          0.000000   \n",
       "2   0.677538     othdiscr       Home        248.000000   \n",
       "3   0.509574     othdiscr       Home          0.000000   \n",
       "4   0.409358     othdiscr       Home          0.000000   \n",
       "\n",
       "   duration_in_privateCar  duration_on_bike  duration_in_ridehail  \\\n",
       "0              567.000000          0.000000              0.000000   \n",
       "1              255.000000          0.000000              0.000000   \n",
       "2              364.000000          0.000000              0.000000   \n",
       "3              194.000000          0.000000              0.000000   \n",
       "4              183.000000          0.000000              0.000000   \n",
       "\n",
       "   distance_travelling  duration_in_transit  distance_walking  distance_bike  \\\n",
       "0         14631.142000             0.000000          0.000000       0.000000   \n",
       "1          5384.318000             0.000000          0.000000       0.000000   \n",
       "2          6891.688000             0.000000        321.777000       0.000000   \n",
       "3          4646.029000             0.000000          0.000000       0.000000   \n",
       "4          3732.315000             0.000000          0.000000       0.000000   \n",
       "\n",
       "   distance_ridehail  distance_privateCar  distance_transit  \\\n",
       "0           0.000000         14631.142000          0.000000   \n",
       "1           0.000000          5384.318000          0.000000   \n",
       "2           0.000000          6569.911000          0.000000   \n",
       "3           0.000000          4646.029000          0.000000   \n",
       "4           0.000000          3732.315000          0.000000   \n",
       "\n",
       "  mode_choice_planned_BEAM mode_choice_actual_BEAM      vehicleIds  \\\n",
       "0                      car                     car  358611, body-4   \n",
       "1                      car                     car  358622, body-4   \n",
       "2                      car                     car  body-4, 358548   \n",
       "3                      car                     car  body-4, 358654   \n",
       "4                      car                     car  body-4, 358648   \n",
       "\n",
       "        numPassengers  distance_mode_choice  replanning_status reason  \\\n",
       "0  1.0, 0.0, 0.0, 1.0          14631.142000                  0    NaN   \n",
       "1  1.0, 0.0, 0.0, 1.0           5384.318000                  0    NaN   \n",
       "2  1.0, 0.0, 0.0, 1.0           6177.442000                  0    NaN   \n",
       "3  1.0, 0.0, 0.0, 1.0           4646.029000                  0    NaN   \n",
       "4  1.0, 0.0, 0.0, 1.0           3732.315000                  0    NaN   \n",
       "\n",
       "                        parkingType  transit_bus  transit_subway  \\\n",
       "0               Residential, Public            0               0   \n",
       "1               Residential, Public            0               0   \n",
       "2  Residential, Residential, Public            0               0   \n",
       "3               Residential, Public            0               0   \n",
       "4               Residential, Public            0               0   \n",
       "\n",
       "   transit_tram  transit_cable_car  ride_hail_pooled  transit_rail  \\\n",
       "0             0                  0                 0             0   \n",
       "1             0                  0                 0             0   \n",
       "2             0                  0                 0             0   \n",
       "3             0                  0                 0             0   \n",
       "4             0                  0                 0             0   \n",
       "\n",
       "      fuelFood  fuelElectricity  fuelBiodiesel  fuelDiesel   fuel_not_Food  \\\n",
       "0     0.000000         0.000000       0.000000    0.000000 22701321.975947   \n",
       "1     0.000000         0.000000       0.000000    0.000000  8644696.241503   \n",
       "2 17054.181000         0.000000       0.000000    0.000000 10465691.253266   \n",
       "3     0.000000         0.000000       0.000000    0.000000  6831391.080106   \n",
       "4     0.000000         0.000000       0.000000    0.000000  6208647.575095   \n",
       "\n",
       "     fuelGasoline   fuel_marginal    BlockGroupStart      startX    startY  \\\n",
       "0 22701321.975947 22701321.975947 60014001001.000000 -122.227937 37.854097   \n",
       "1  8644696.241503  8644696.241503 60014001001.000000 -122.227937 37.854097   \n",
       "2 10465691.253266 10482745.434266 60014001001.000000 -122.227937 37.854097   \n",
       "3  6831391.080106  6831391.080106 60014001001.000000 -122.227937 37.854097   \n",
       "4  6208647.575095  6208647.575095 60014001001.000000 -122.227937 37.854097   \n",
       "\n",
       "          bgid_start     tractid_start juris_name_start county_name_start  \\\n",
       "0 60014001001.000000 6001400100.000000          Oakland    Alameda County   \n",
       "1 60014001001.000000 6001400100.000000          Oakland    Alameda County   \n",
       "2 60014001001.000000 6001400100.000000          Oakland    Alameda County   \n",
       "3 60014001001.000000 6001400100.000000          Oakland    Alameda County   \n",
       "4 60014001001.000000 6001400100.000000          Oakland    Alameda County   \n",
       "\n",
       "                      mpo_start      BlockGroupEnd        endX      endY  \\\n",
       "0  San Francisco Bay Area (MTC) 60014096004.000000 -122.171960 37.750722   \n",
       "1  San Francisco Bay Area (MTC) 60014045024.000000 -122.204810 37.827999   \n",
       "2  San Francisco Bay Area (MTC) 60014038001.000000 -122.239304 37.815996   \n",
       "3  San Francisco Bay Area (MTC) 60014261001.000000 -122.235298 37.830552   \n",
       "4  San Francisco Bay Area (MTC) 60014045024.000000 -122.209569 37.826726   \n",
       "\n",
       "            bgid_end       tractid_end juris_name_end county_name_end  \\\n",
       "0 60014096004.000000 6001409600.000000        Oakland  Alameda County   \n",
       "1 60014045024.000000 6001404502.000000        Oakland  Alameda County   \n",
       "2 60014038001.000000 6001403800.000000        Oakland  Alameda County   \n",
       "3 60014261001.000000 6001426100.000000       Piedmont  Alameda County   \n",
       "4 60014045024.000000 6001404502.000000        Oakland  Alameda County   \n",
       "\n",
       "                        mpo_end  emissionFood  emissionElectricity  \\\n",
       "0  San Francisco Bay Area (MTC)      0.000000             0.000000   \n",
       "1  San Francisco Bay Area (MTC)      0.000000             0.000000   \n",
       "2  San Francisco Bay Area (MTC)      0.000000             0.000000   \n",
       "3  San Francisco Bay Area (MTC)      0.000000             0.000000   \n",
       "4  San Francisco Bay Area (MTC)      0.000000             0.000000   \n",
       "\n",
       "   emissionDiesel  emissionGasoline  emissionBiodiesel  emission_marginal  \\\n",
       "0        0.000000          0.001678           0.000000           0.000000   \n",
       "1        0.000000          0.000639           0.000000           0.000000   \n",
       "2        0.000000          0.000774           0.000000           0.000000   \n",
       "3        0.000000          0.000505           0.000000           0.000000   \n",
       "4        0.000000          0.000459           0.000000           0.000000   \n",
       "\n",
       "   duration_door_to_door  waitTime_no_replanning  waitTime_replanning  \\\n",
       "0             567.000000                0.000000             0.000000   \n",
       "1             255.000000                0.000000             0.000000   \n",
       "2             612.000000                0.000000             0.000000   \n",
       "3             194.000000                0.000000             0.000000   \n",
       "4             183.000000                0.000000             0.000000   \n",
       "\n",
       "         actPurpose mode_choice_actual_5 mode_choice_actual_6  \\\n",
       "0  Home_to_othdiscr                  car                  car   \n",
       "1  Home_to_othdiscr                  car                  car   \n",
       "2  Home_to_othdiscr                  car                  car   \n",
       "3  Home_to_othdiscr                  car                  car   \n",
       "4  Home_to_othdiscr                  car                  car   \n",
       "\n",
       "  mode_choice_actual_4     trip_id  person_id  household_id    tour_id  \\\n",
       "0                  car 1513.000000   4.000000    865.000000 189.000000   \n",
       "1                  car 1513.000000   4.000000    865.000000 189.000000   \n",
       "2                  car 1513.000000   4.000000    865.000000 189.000000   \n",
       "3                  car 1513.000000   4.000000    865.000000 189.000000   \n",
       "4                  car 1513.000000   4.000000    865.000000 189.000000   \n",
       "\n",
       "  primary_purpose_x  trip_count   purpose  destination_x    origin_x  \\\n",
       "0          othdiscr    1.000000  othdiscr     891.000000 1005.000000   \n",
       "1          othdiscr    1.000000  othdiscr     913.000000 1005.000000   \n",
       "2          othdiscr    1.000000  othdiscr     917.000000 1005.000000   \n",
       "3          othdiscr    1.000000  othdiscr     916.000000 1005.000000   \n",
       "4          othdiscr    1.000000  othdiscr     913.000000 1005.000000   \n",
       "\n",
       "   destination_logsum_x    depart trip_mode_AS_trips  \\\n",
       "0                   NaN 15.000000     DRIVEALONEFREE   \n",
       "1                   NaN 15.000000     DRIVEALONEFREE   \n",
       "2                   NaN 15.000000     DRIVEALONEFREE   \n",
       "3                   NaN 15.000000     DRIVEALONEFREE   \n",
       "4                   NaN 15.000000     DRIVEALONEFREE   \n",
       "\n",
       "   logsum_trip_Potential_INEXUS tour_type  tour_category  destination_y  \\\n",
       "0                     -3.359118  othdiscr  non_mandatory     891.000000   \n",
       "1                     -2.524608  othdiscr  non_mandatory     913.000000   \n",
       "2                     -0.648215  othdiscr  non_mandatory     917.000000   \n",
       "3                     -1.012956  othdiscr  non_mandatory     916.000000   \n",
       "4                     -0.787834  othdiscr  non_mandatory     913.000000   \n",
       "\n",
       "     origin_y     start       end  duration tour_mode_AS_tours       age  \\\n",
       "0 1005.000000 15.000000 16.000000  1.000000     DRIVEALONEFREE 68.000000   \n",
       "1 1005.000000 15.000000 16.000000  1.000000     DRIVEALONEFREE 68.000000   \n",
       "2 1005.000000 15.000000 16.000000  1.000000     DRIVEALONEFREE 68.000000   \n",
       "3 1005.000000 15.000000 16.000000  1.000000     DRIVEALONEFREE 68.000000   \n",
       "4 1005.000000 15.000000 16.000000  1.000000     DRIVEALONEFREE 68.000000   \n",
       "\n",
       "   earning       edu  race_id      sex  work_at_home person_sex   race  \\\n",
       "0 0.000000 22.000000 2.000000 2.000000      0.000000     female  black   \n",
       "1 0.000000 22.000000 2.000000 2.000000      0.000000     female  black   \n",
       "2 0.000000 22.000000 2.000000 2.000000      0.000000     female  black   \n",
       "3 0.000000 22.000000 2.000000 2.000000      0.000000     female  black   \n",
       "4 0.000000 22.000000 2.000000 2.000000      0.000000     female  black   \n",
       "\n",
       "        TAZ_x      home_x    home_y    home_taz  value_of_time  school_taz  \\\n",
       "0 1005.000000 -122.227937 37.854097 1005.000000       2.818730   -1.000000   \n",
       "1 1005.000000 -122.227937 37.854097 1005.000000       2.818730   -1.000000   \n",
       "2 1005.000000 -122.227937 37.854097 1005.000000       2.818730   -1.000000   \n",
       "3 1005.000000 -122.227937 37.854097 1005.000000       2.818730   -1.000000   \n",
       "4 1005.000000 -122.227937 37.854097 1005.000000       2.818730   -1.000000   \n",
       "\n",
       "   workplace_taz  workplace_location_logsum free_parking_at_work  num_mand  \\\n",
       "0      -1.000000                        NaN                False  0.000000   \n",
       "1      -1.000000                        NaN                False  0.000000   \n",
       "2      -1.000000                        NaN                False  0.000000   \n",
       "3      -1.000000                        NaN                False  0.000000   \n",
       "4      -1.000000                        NaN                False  0.000000   \n",
       "\n",
       "        income   tenure hh_size      hh_cars   hh_income    tenure_mover  \\\n",
       "0 70550.000000 1.000000     two  two or more  gt60-lt100  own not recent   \n",
       "1 70550.000000 1.000000     two  two or more  gt60-lt100  own not recent   \n",
       "2 70550.000000 1.000000     two  two or more  gt60-lt100  own not recent   \n",
       "3 70550.000000 1.000000     two  two or more  gt60-lt100  own not recent   \n",
       "4 70550.000000 1.000000     two  two or more  gt60-lt100  own not recent   \n",
       "\n",
       "               block_id  lcm_county_id   hhsize       TAZ_y  \\\n",
       "0 60014001001061.000000    6001.000000 2.000000 1005.000000   \n",
       "1 60014001001061.000000    6001.000000 2.000000 1005.000000   \n",
       "2 60014001001061.000000    6001.000000 2.000000 1005.000000   \n",
       "3 60014001001061.000000    6001.000000 2.000000 1005.000000   \n",
       "4 60014001001061.000000    6001.000000 2.000000 1005.000000   \n",
       "\n",
       "   income_in_thousands  median_value_of_time  hh_value_of_time home_is_urban  \\\n",
       "0            70.550000             10.440000          2.818730         False   \n",
       "1            70.550000             10.440000          2.818730         False   \n",
       "2            70.550000             10.440000          2.818730         False   \n",
       "3            70.550000             10.440000          2.818730         False   \n",
       "4            70.550000             10.440000          2.818730         False   \n",
       "\n",
       "  home_is_rural  auto_ownership  DRIVEALONEFREE  DRIVEALONEPAY  SHARED2FREE  \\\n",
       "0         False        1.000000       -3.981448      -4.052351 -1002.981448   \n",
       "1         False        1.000000       -2.731231      -2.737002 -1001.731231   \n",
       "2         False        1.000000       -0.944112      -0.947232  -999.944112   \n",
       "3         False        1.000000       -1.195758      -1.199882 -1000.195758   \n",
       "4         False        1.000000       -0.962008      -0.965891  -999.962008   \n",
       "\n",
       "    SHARED2PAY  SHARED3FREE   SHARED3PAY       WALK         BIKE     WALK_LOC  \\\n",
       "0 -1003.021964 -1002.981448 -1003.009809 -44.478549 -1009.440540 -1998.380369   \n",
       "1 -1001.734529 -1001.731231 -1001.733540 -18.867786 -1001.310309 -1001.383874   \n",
       "2  -999.945895  -999.944112  -999.945360 -14.091297 -1000.828669 -1000.521735   \n",
       "3 -1000.198114 -1000.195758 -1000.197407 -20.921898 -1001.517729 -1001.358499   \n",
       "4  -999.964227  -999.962008  -999.963561 -30.824786 -1002.612487 -1001.553761   \n",
       "\n",
       "      WALK_LRF     WALK_EXP     WALK_HVY     WALK_COM    DRIVE_LOC  \\\n",
       "0 -1998.380369 -1998.380369 -2002.056290 -1998.380369 -1001.227631   \n",
       "1 -1998.378026 -1998.378026 -1998.378026 -1998.378026 -1000.241913   \n",
       "2 -1998.373591 -1998.373591 -1998.373591 -1998.373591  -999.802942   \n",
       "3 -1998.380258 -1998.380258 -1998.380258 -1998.380258 -1999.111132   \n",
       "4 -1998.378026 -1998.378026 -1998.378026 -1998.378026 -1000.421875   \n",
       "\n",
       "     DRIVE_LRF    DRIVE_EXP    DRIVE_HVY    DRIVE_COM       TAXI  TNC_SINGLE  \\\n",
       "0 -1998.427241 -1998.427241 -2000.036363 -1998.427241 -29.154868   -4.326001   \n",
       "1 -1998.424898 -1998.424898 -1998.424898 -1998.424898 -20.386394   -6.182327   \n",
       "2 -1998.420463 -1998.420463 -1998.420463 -1998.420463  -8.505649   -2.981777   \n",
       "3 -1998.427130 -1998.427130 -1998.427130 -1998.427130 -12.054587   -7.910639   \n",
       "4 -1998.424898 -1998.424898 -1998.424898 -1998.424898 -11.348414  -11.636467   \n",
       "\n",
       "   TNC_SHARED income_quartiles income_deciles  scenario    lever  year  \\\n",
       "0   -5.991636             2ndQ           4thD  ridehail    price  2020   \n",
       "1   -6.118676             2ndQ           4thD  ridehail    price  2020   \n",
       "2   -3.149330             2ndQ           4thD  ridehail    price  2020   \n",
       "3   -5.605723             2ndQ           4thD  ridehail    price  2020   \n",
       "4   -7.335184             2ndQ           4thD  baseline  default  2020   \n",
       "\n",
       "   lever_position  lever_position_price  lever_position_fleetsize  \\\n",
       "0        0.000000              0.000000                         1   \n",
       "1        0.125000              0.125000                         1   \n",
       "2        0.250000              0.250000                         1   \n",
       "3        0.500000              0.500000                         1   \n",
       "4        1.000000              1.000000                         1   \n",
       "\n",
       "   logsum_relative_to_baseline  door_to_door_time_relative_to_baseline  \\\n",
       "0                    -2.571284                              384.000000   \n",
       "1                    -1.736774                               72.000000   \n",
       "2                     0.139619                              429.000000   \n",
       "3                    -0.225122                               11.000000   \n",
       "4                     0.000000                                0.000000   \n",
       "\n",
       "  mandatoryCat  Realized_INEXUS    alpha  socialCarbonCost  Social_INEXUS  \\\n",
       "0         None        -3.981448 0.100000          0.000000     -39.814482   \n",
       "1         None        -2.731231 0.100000          0.000000     -27.312315   \n",
       "2         None        -0.944112 0.100000          0.000000      -9.441121   \n",
       "3         None        -1.195758 0.100000          0.000000     -11.957577   \n",
       "4         None        -0.962008 0.100000          0.000000      -9.620076   \n",
       "\n",
       "   Potential_INEXUS_in_dollar  Realized_INEXUS_in_dollar  \n",
       "0                  -33.591179                 -39.814482  \n",
       "1                  -25.246083                 -27.312315  \n",
       "2                   -6.482153                  -9.441121  \n",
       "3                  -10.129557                 -11.957577  \n",
       "4                   -7.878340                  -9.620076  "
      ]
     },
     "execution_count": 110,
     "metadata": {},
     "output_type": "execute_result"
    }
   ],
   "source": [
    "sf_stacked.head()"
   ]
  },
  {
   "cell_type": "code",
   "execution_count": null,
   "id": "b41ec71d",
   "metadata": {},
   "outputs": [],
   "source": [
    "#sf_stacked_tr_fr[sf_stacked_tr_fr['Realized_INEXUS'].isna()].to_csv('C:/Shared-Work/Data/CleanData/ASIM_BEAM_Merged/realizedIN_empty.csv', index = False)"
   ]
  },
  {
   "cell_type": "markdown",
   "id": "f6b51cec",
   "metadata": {},
   "source": [
    "#### Social INEXUS"
   ]
  },
  {
   "cell_type": "code",
   "execution_count": null,
   "id": "f34e8e1e",
   "metadata": {},
   "outputs": [],
   "source": [
    "# add a lower and upper range for the bins in pd.cut\n",
    "#quartiles = [0] + quartiles + [float('inf')]"
   ]
  },
  {
   "cell_type": "code",
   "execution_count": null,
   "id": "5453a2a7",
   "metadata": {},
   "outputs": [],
   "source": [
    "# add a quartiles column to groups, using pd.cut\n",
    "#sf_stacked['income_quartiles'] = pd.cut(sf_stacked['income'], bins=quartiles, labels=['1stQ', '2ndQ', '3rdQ', '4thQ'])"
   ]
  },
  {
   "cell_type": "code",
   "execution_count": 72,
   "id": "3051d584",
   "metadata": {},
   "outputs": [
    {
     "name": "stderr",
     "output_type": "stream",
     "text": [
      "C:\\Users\\nazanin\\AppData\\Local\\Temp\\2\\ipykernel_6860\\1714704153.py:1: SettingWithCopyWarning: \n",
      "A value is trying to be set on a copy of a slice from a DataFrame.\n",
      "Try using .loc[row_indexer,col_indexer] = value instead\n",
      "\n",
      "See the caveats in the documentation: https://pandas.pydata.org/pandas-docs/stable/user_guide/indexing.html#returning-a-view-versus-a-copy\n",
      "  sf_stacked['alpha'] = 0.1\n"
     ]
    }
   ],
   "source": [
    "sf_stacked['alpha'] = 0.1"
   ]
  },
  {
   "cell_type": "code",
   "execution_count": 73,
   "id": "11864852",
   "metadata": {},
   "outputs": [
    {
     "name": "stderr",
     "output_type": "stream",
     "text": [
      "C:\\Users\\nazanin\\AppData\\Local\\Temp\\2\\ipykernel_6860\\3567380257.py:1: SettingWithCopyWarning: \n",
      "A value is trying to be set on a copy of a slice from a DataFrame.\n",
      "Try using .loc[row_indexer,col_indexer] = value instead\n",
      "\n",
      "See the caveats in the documentation: https://pandas.pydata.org/pandas-docs/stable/user_guide/indexing.html#returning-a-view-versus-a-copy\n",
      "  sf_stacked['socialCarbonCost'] = sf_stacked['emission_marginal']*185 # 51 or 102\n"
     ]
    }
   ],
   "source": [
    "sf_stacked['socialCarbonCost'] = sf_stacked['emission_marginal']*185 # 51 or 102"
   ]
  },
  {
   "cell_type": "code",
   "execution_count": 74,
   "id": "1278d22e",
   "metadata": {},
   "outputs": [
    {
     "name": "stderr",
     "output_type": "stream",
     "text": [
      "C:\\Users\\nazanin\\AppData\\Local\\Temp\\2\\ipykernel_6860\\317857885.py:1: SettingWithCopyWarning: \n",
      "A value is trying to be set on a copy of a slice from a DataFrame.\n",
      "Try using .loc[row_indexer,col_indexer] = value instead\n",
      "\n",
      "See the caveats in the documentation: https://pandas.pydata.org/pandas-docs/stable/user_guide/indexing.html#returning-a-view-versus-a-copy\n",
      "  sf_stacked['Social_INEXUS'] = (sf_stacked['Realized_INEXUS']/sf_stacked['alpha']) - sf_stacked['socialCarbonCost']\n"
     ]
    }
   ],
   "source": [
    "sf_stacked['Social_INEXUS'] = (sf_stacked['Realized_INEXUS']/sf_stacked['alpha']) - sf_stacked['socialCarbonCost']"
   ]
  },
  {
   "cell_type": "code",
   "execution_count": 75,
   "id": "253178e9",
   "metadata": {},
   "outputs": [
    {
     "name": "stderr",
     "output_type": "stream",
     "text": [
      "C:\\Users\\nazanin\\AppData\\Local\\Temp\\2\\ipykernel_6860\\3319582683.py:1: SettingWithCopyWarning: \n",
      "A value is trying to be set on a copy of a slice from a DataFrame.\n",
      "Try using .loc[row_indexer,col_indexer] = value instead\n",
      "\n",
      "See the caveats in the documentation: https://pandas.pydata.org/pandas-docs/stable/user_guide/indexing.html#returning-a-view-versus-a-copy\n",
      "  sf_stacked['Potential_INEXUS_in_dollar'] = sf_stacked['logsum_trip_Potential_INEXUS']/sf_stacked['alpha']\n"
     ]
    }
   ],
   "source": [
    "sf_stacked['Potential_INEXUS_in_dollar'] = sf_stacked['logsum_trip_Potential_INEXUS']/sf_stacked['alpha']"
   ]
  },
  {
   "cell_type": "code",
   "execution_count": 76,
   "id": "e1fe632a",
   "metadata": {},
   "outputs": [
    {
     "name": "stderr",
     "output_type": "stream",
     "text": [
      "C:\\Users\\nazanin\\AppData\\Local\\Temp\\2\\ipykernel_6860\\1244384894.py:1: SettingWithCopyWarning: \n",
      "A value is trying to be set on a copy of a slice from a DataFrame.\n",
      "Try using .loc[row_indexer,col_indexer] = value instead\n",
      "\n",
      "See the caveats in the documentation: https://pandas.pydata.org/pandas-docs/stable/user_guide/indexing.html#returning-a-view-versus-a-copy\n",
      "  sf_stacked['Realized_INEXUS_in_dollar'] = sf_stacked['Realized_INEXUS']/sf_stacked['alpha']\n"
     ]
    }
   ],
   "source": [
    "sf_stacked['Realized_INEXUS_in_dollar'] = sf_stacked['Realized_INEXUS']/sf_stacked['alpha']"
   ]
  },
  {
   "cell_type": "markdown",
   "id": "e6e0a1bd",
   "metadata": {},
   "source": [
    "#### The following chunks are useful but should be checked in the next runs (they resulted in exact same realized and potential inexus in dollar"
   ]
  },
  {
   "cell_type": "code",
   "execution_count": null,
   "id": "656ac3fd",
   "metadata": {},
   "outputs": [],
   "source": [
    "# shift columns to first position\n",
    "#first_column = sf_stacked.pop('Social_INEXUS')\n",
    "# insert column using insert(position,column_name,first_column) function\n",
    "#sf_stacked.insert(6, 'Social_INEXUS', first_column)"
   ]
  },
  {
   "cell_type": "code",
   "execution_count": null,
   "id": "26b1ea44",
   "metadata": {},
   "outputs": [],
   "source": [
    "# shift columns to first position\n",
    "#first_column = sf_stacked.pop('Potential_INEXUS_in_dollar')\n",
    "#second_column = sf_stacked.pop('Realized_INEXUS_in_dollar')\n",
    "# insert column using insert(position,column_name,first_column) function\n",
    "#sf_stacked.insert(7, 'Potential_INEXUS_in_dollar', first_column)\n",
    "#sf_stacked.insert(8, 'Realized_INEXUS_in_dollar', first_column)"
   ]
  },
  {
   "cell_type": "code",
   "execution_count": 77,
   "id": "133a19de",
   "metadata": {},
   "outputs": [
    {
     "name": "stdout",
     "output_type": "stream",
     "text": [
      "CPU times: total: 35min 56s\n",
      "Wall time: 50min 22s\n"
     ]
    }
   ],
   "source": [
    "%%time\n",
    "sf_stacked.to_csv('s3://beam-core-act/deepDive/CleanData/SanFrancisco/Stacked/sf_2020_stacked_rh_fleetsz_1_20_23.csv', index=False)"
   ]
  },
  {
   "cell_type": "code",
   "execution_count": null,
   "id": "f08b313b",
   "metadata": {},
   "outputs": [],
   "source": []
  }
 ],
 "metadata": {
  "kernelspec": {
   "display_name": "Python 3 (ipykernel)",
   "language": "python",
   "name": "python3"
  },
  "language_info": {
   "codemirror_mode": {
    "name": "ipython",
    "version": 3
   },
   "file_extension": ".py",
   "mimetype": "text/x-python",
   "name": "python",
   "nbconvert_exporter": "python",
   "pygments_lexer": "ipython3",
   "version": "3.9.7"
  },
  "toc": {
   "base_numbering": 1,
   "nav_menu": {},
   "number_sections": true,
   "sideBar": true,
   "skip_h1_title": false,
   "title_cell": "Table of Contents",
   "title_sidebar": "Contents",
   "toc_cell": false,
   "toc_position": {},
   "toc_section_display": true,
   "toc_window_display": false
  }
 },
 "nbformat": 4,
 "nbformat_minor": 5
}
