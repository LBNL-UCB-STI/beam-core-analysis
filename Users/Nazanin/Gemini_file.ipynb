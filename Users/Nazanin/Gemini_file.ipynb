{
 "cells": [
  {
   "cell_type": "code",
   "execution_count": 1,
   "id": "c5527a27",
   "metadata": {},
   "outputs": [],
   "source": [
    "import pandas as pd\n",
    "import numpy as np\n",
    "import geopandas as gpd\n",
    "import h5py\n",
    "import boto.s3\n",
    "import glob"
   ]
  },
  {
   "cell_type": "code",
   "execution_count": 4,
   "id": "6b836fbf",
   "metadata": {},
   "outputs": [],
   "source": [
    "gemini_base_2035_events_loc = \"https://beam-outputs.s3.amazonaws.com/output/sfbay/gemini-base-2035-activitysim__2021-11-22_19-27-51_vvr/ITERS/it.0/\""
   ]
  },
  {
   "cell_type": "code",
   "execution_count": 12,
   "id": "da0c803a",
   "metadata": {},
   "outputs": [
    {
     "name": "stderr",
     "output_type": "stream",
     "text": [
      "<timed exec>:1: DtypeWarning: Columns (0,6,8,9,10,11,21,22,24,26,29,30,33,38,40,42,49,51,52,54) have mixed types. Specify dtype option on import or set low_memory=False.\n"
     ]
    },
    {
     "name": "stdout",
     "output_type": "stream",
     "text": [
      "CPU times: total: 19min 22s\n",
      "Wall time: 20min 26s\n"
     ]
    }
   ],
   "source": [
    "%%time\n",
    "gemini_base_2035_events = pd.read_csv(gemini_base_2035_events_loc + '0.events.csv.gz', compression = 'gzip')"
   ]
  },
  {
   "cell_type": "code",
   "execution_count": 13,
   "id": "6e30cd33",
   "metadata": {},
   "outputs": [],
   "source": [
    "# Show all columns and rows\n",
    "pd.options.display.max_columns = None\n",
    "pd.options.display.max_rows = None"
   ]
  },
  {
   "cell_type": "code",
   "execution_count": 14,
   "id": "d6ac219f",
   "metadata": {},
   "outputs": [
    {
     "data": {
      "text/html": [
       "<div>\n",
       "<style scoped>\n",
       "    .dataframe tbody tr th:only-of-type {\n",
       "        vertical-align: middle;\n",
       "    }\n",
       "\n",
       "    .dataframe tbody tr th {\n",
       "        vertical-align: top;\n",
       "    }\n",
       "\n",
       "    .dataframe thead th {\n",
       "        text-align: right;\n",
       "    }\n",
       "</style>\n",
       "<table border=\"1\" class=\"dataframe\">\n",
       "  <thead>\n",
       "    <tr style=\"text-align: right;\">\n",
       "      <th></th>\n",
       "      <th>person</th>\n",
       "      <th>link</th>\n",
       "      <th>legMode</th>\n",
       "      <th>time</th>\n",
       "      <th>type</th>\n",
       "      <th>vehicle</th>\n",
       "      <th>reason</th>\n",
       "      <th>secondaryFuelLevel</th>\n",
       "      <th>parkingTaz</th>\n",
       "      <th>chargingPointType</th>\n",
       "      <th>pricingModel</th>\n",
       "      <th>parkingType</th>\n",
       "      <th>locationY</th>\n",
       "      <th>locationX</th>\n",
       "      <th>price</th>\n",
       "      <th>primaryFuelLevel</th>\n",
       "      <th>departTime</th>\n",
       "      <th>startX</th>\n",
       "      <th>startY</th>\n",
       "      <th>endX</th>\n",
       "      <th>endY</th>\n",
       "      <th>mode</th>\n",
       "      <th>currentTourMode</th>\n",
       "      <th>expectedMaximumUtility</th>\n",
       "      <th>availableAlternatives</th>\n",
       "      <th>location</th>\n",
       "      <th>personalVehicleAvailable</th>\n",
       "      <th>length</th>\n",
       "      <th>tourIndex</th>\n",
       "      <th>shiftStatus</th>\n",
       "      <th>parkingZoneId</th>\n",
       "      <th>fuel</th>\n",
       "      <th>duration</th>\n",
       "      <th>vehicleType</th>\n",
       "      <th>incentive</th>\n",
       "      <th>tollCost</th>\n",
       "      <th>netCost</th>\n",
       "      <th>score</th>\n",
       "      <th>driver</th>\n",
       "      <th>facility</th>\n",
       "      <th>actType</th>\n",
       "      <th>cost</th>\n",
       "      <th>riders</th>\n",
       "      <th>fromStopIndex</th>\n",
       "      <th>seatingCapacity</th>\n",
       "      <th>tollPaid</th>\n",
       "      <th>capacity</th>\n",
       "      <th>arrivalTime</th>\n",
       "      <th>departureTime</th>\n",
       "      <th>linkTravelTime</th>\n",
       "      <th>secondaryFuel</th>\n",
       "      <th>secondaryFuelType</th>\n",
       "      <th>primaryFuelType</th>\n",
       "      <th>toStopIndex</th>\n",
       "      <th>links</th>\n",
       "      <th>numPassengers</th>\n",
       "      <th>primaryFuel</th>\n",
       "    </tr>\n",
       "  </thead>\n",
       "  <tbody>\n",
       "    <tr>\n",
       "      <th>0</th>\n",
       "      <td>TransitDriverAgent-SF:7606357</td>\n",
       "      <td>NaN</td>\n",
       "      <td>be_a_transit_driver</td>\n",
       "      <td>0.0</td>\n",
       "      <td>departure</td>\n",
       "      <td>NaN</td>\n",
       "      <td>NaN</td>\n",
       "      <td>NaN</td>\n",
       "      <td>NaN</td>\n",
       "      <td>NaN</td>\n",
       "      <td>NaN</td>\n",
       "      <td>NaN</td>\n",
       "      <td>NaN</td>\n",
       "      <td>NaN</td>\n",
       "      <td>NaN</td>\n",
       "      <td>NaN</td>\n",
       "      <td>NaN</td>\n",
       "      <td>NaN</td>\n",
       "      <td>NaN</td>\n",
       "      <td>NaN</td>\n",
       "      <td>NaN</td>\n",
       "      <td>NaN</td>\n",
       "      <td>NaN</td>\n",
       "      <td>NaN</td>\n",
       "      <td>NaN</td>\n",
       "      <td>NaN</td>\n",
       "      <td>NaN</td>\n",
       "      <td>NaN</td>\n",
       "      <td>NaN</td>\n",
       "      <td>NaN</td>\n",
       "      <td>NaN</td>\n",
       "      <td>NaN</td>\n",
       "      <td>NaN</td>\n",
       "      <td>NaN</td>\n",
       "      <td>NaN</td>\n",
       "      <td>NaN</td>\n",
       "      <td>NaN</td>\n",
       "      <td>NaN</td>\n",
       "      <td>NaN</td>\n",
       "      <td>NaN</td>\n",
       "      <td>NaN</td>\n",
       "      <td>NaN</td>\n",
       "      <td>NaN</td>\n",
       "      <td>NaN</td>\n",
       "      <td>NaN</td>\n",
       "      <td>NaN</td>\n",
       "      <td>NaN</td>\n",
       "      <td>NaN</td>\n",
       "      <td>NaN</td>\n",
       "      <td>NaN</td>\n",
       "      <td>NaN</td>\n",
       "      <td>NaN</td>\n",
       "      <td>NaN</td>\n",
       "      <td>NaN</td>\n",
       "      <td>NaN</td>\n",
       "      <td>NaN</td>\n",
       "      <td>NaN</td>\n",
       "    </tr>\n",
       "    <tr>\n",
       "      <th>1</th>\n",
       "      <td>TransitDriverAgent-3D:309</td>\n",
       "      <td>NaN</td>\n",
       "      <td>be_a_transit_driver</td>\n",
       "      <td>0.0</td>\n",
       "      <td>departure</td>\n",
       "      <td>NaN</td>\n",
       "      <td>NaN</td>\n",
       "      <td>NaN</td>\n",
       "      <td>NaN</td>\n",
       "      <td>NaN</td>\n",
       "      <td>NaN</td>\n",
       "      <td>NaN</td>\n",
       "      <td>NaN</td>\n",
       "      <td>NaN</td>\n",
       "      <td>NaN</td>\n",
       "      <td>NaN</td>\n",
       "      <td>NaN</td>\n",
       "      <td>NaN</td>\n",
       "      <td>NaN</td>\n",
       "      <td>NaN</td>\n",
       "      <td>NaN</td>\n",
       "      <td>NaN</td>\n",
       "      <td>NaN</td>\n",
       "      <td>NaN</td>\n",
       "      <td>NaN</td>\n",
       "      <td>NaN</td>\n",
       "      <td>NaN</td>\n",
       "      <td>NaN</td>\n",
       "      <td>NaN</td>\n",
       "      <td>NaN</td>\n",
       "      <td>NaN</td>\n",
       "      <td>NaN</td>\n",
       "      <td>NaN</td>\n",
       "      <td>NaN</td>\n",
       "      <td>NaN</td>\n",
       "      <td>NaN</td>\n",
       "      <td>NaN</td>\n",
       "      <td>NaN</td>\n",
       "      <td>NaN</td>\n",
       "      <td>NaN</td>\n",
       "      <td>NaN</td>\n",
       "      <td>NaN</td>\n",
       "      <td>NaN</td>\n",
       "      <td>NaN</td>\n",
       "      <td>NaN</td>\n",
       "      <td>NaN</td>\n",
       "      <td>NaN</td>\n",
       "      <td>NaN</td>\n",
       "      <td>NaN</td>\n",
       "      <td>NaN</td>\n",
       "      <td>NaN</td>\n",
       "      <td>NaN</td>\n",
       "      <td>NaN</td>\n",
       "      <td>NaN</td>\n",
       "      <td>NaN</td>\n",
       "      <td>NaN</td>\n",
       "      <td>NaN</td>\n",
       "    </tr>\n",
       "    <tr>\n",
       "      <th>2</th>\n",
       "      <td>TransitDriverAgent-SM:53:10813549:T5:10:00:00</td>\n",
       "      <td>NaN</td>\n",
       "      <td>be_a_transit_driver</td>\n",
       "      <td>0.0</td>\n",
       "      <td>departure</td>\n",
       "      <td>NaN</td>\n",
       "      <td>NaN</td>\n",
       "      <td>NaN</td>\n",
       "      <td>NaN</td>\n",
       "      <td>NaN</td>\n",
       "      <td>NaN</td>\n",
       "      <td>NaN</td>\n",
       "      <td>NaN</td>\n",
       "      <td>NaN</td>\n",
       "      <td>NaN</td>\n",
       "      <td>NaN</td>\n",
       "      <td>NaN</td>\n",
       "      <td>NaN</td>\n",
       "      <td>NaN</td>\n",
       "      <td>NaN</td>\n",
       "      <td>NaN</td>\n",
       "      <td>NaN</td>\n",
       "      <td>NaN</td>\n",
       "      <td>NaN</td>\n",
       "      <td>NaN</td>\n",
       "      <td>NaN</td>\n",
       "      <td>NaN</td>\n",
       "      <td>NaN</td>\n",
       "      <td>NaN</td>\n",
       "      <td>NaN</td>\n",
       "      <td>NaN</td>\n",
       "      <td>NaN</td>\n",
       "      <td>NaN</td>\n",
       "      <td>NaN</td>\n",
       "      <td>NaN</td>\n",
       "      <td>NaN</td>\n",
       "      <td>NaN</td>\n",
       "      <td>NaN</td>\n",
       "      <td>NaN</td>\n",
       "      <td>NaN</td>\n",
       "      <td>NaN</td>\n",
       "      <td>NaN</td>\n",
       "      <td>NaN</td>\n",
       "      <td>NaN</td>\n",
       "      <td>NaN</td>\n",
       "      <td>NaN</td>\n",
       "      <td>NaN</td>\n",
       "      <td>NaN</td>\n",
       "      <td>NaN</td>\n",
       "      <td>NaN</td>\n",
       "      <td>NaN</td>\n",
       "      <td>NaN</td>\n",
       "      <td>NaN</td>\n",
       "      <td>NaN</td>\n",
       "      <td>NaN</td>\n",
       "      <td>NaN</td>\n",
       "      <td>NaN</td>\n",
       "    </tr>\n",
       "    <tr>\n",
       "      <th>3</th>\n",
       "      <td>TransitDriverAgent-CC:31002002_merged_421003228</td>\n",
       "      <td>NaN</td>\n",
       "      <td>be_a_transit_driver</td>\n",
       "      <td>0.0</td>\n",
       "      <td>departure</td>\n",
       "      <td>NaN</td>\n",
       "      <td>NaN</td>\n",
       "      <td>NaN</td>\n",
       "      <td>NaN</td>\n",
       "      <td>NaN</td>\n",
       "      <td>NaN</td>\n",
       "      <td>NaN</td>\n",
       "      <td>NaN</td>\n",
       "      <td>NaN</td>\n",
       "      <td>NaN</td>\n",
       "      <td>NaN</td>\n",
       "      <td>NaN</td>\n",
       "      <td>NaN</td>\n",
       "      <td>NaN</td>\n",
       "      <td>NaN</td>\n",
       "      <td>NaN</td>\n",
       "      <td>NaN</td>\n",
       "      <td>NaN</td>\n",
       "      <td>NaN</td>\n",
       "      <td>NaN</td>\n",
       "      <td>NaN</td>\n",
       "      <td>NaN</td>\n",
       "      <td>NaN</td>\n",
       "      <td>NaN</td>\n",
       "      <td>NaN</td>\n",
       "      <td>NaN</td>\n",
       "      <td>NaN</td>\n",
       "      <td>NaN</td>\n",
       "      <td>NaN</td>\n",
       "      <td>NaN</td>\n",
       "      <td>NaN</td>\n",
       "      <td>NaN</td>\n",
       "      <td>NaN</td>\n",
       "      <td>NaN</td>\n",
       "      <td>NaN</td>\n",
       "      <td>NaN</td>\n",
       "      <td>NaN</td>\n",
       "      <td>NaN</td>\n",
       "      <td>NaN</td>\n",
       "      <td>NaN</td>\n",
       "      <td>NaN</td>\n",
       "      <td>NaN</td>\n",
       "      <td>NaN</td>\n",
       "      <td>NaN</td>\n",
       "      <td>NaN</td>\n",
       "      <td>NaN</td>\n",
       "      <td>NaN</td>\n",
       "      <td>NaN</td>\n",
       "      <td>NaN</td>\n",
       "      <td>NaN</td>\n",
       "      <td>NaN</td>\n",
       "      <td>NaN</td>\n",
       "    </tr>\n",
       "    <tr>\n",
       "      <th>4</th>\n",
       "      <td>TransitDriverAgent-CC:31002002_merged_421003228</td>\n",
       "      <td>NaN</td>\n",
       "      <td>NaN</td>\n",
       "      <td>0.0</td>\n",
       "      <td>PersonEntersVehicle</td>\n",
       "      <td>CC:31002002_merged_421003228</td>\n",
       "      <td>NaN</td>\n",
       "      <td>NaN</td>\n",
       "      <td>NaN</td>\n",
       "      <td>NaN</td>\n",
       "      <td>NaN</td>\n",
       "      <td>NaN</td>\n",
       "      <td>NaN</td>\n",
       "      <td>NaN</td>\n",
       "      <td>NaN</td>\n",
       "      <td>NaN</td>\n",
       "      <td>NaN</td>\n",
       "      <td>NaN</td>\n",
       "      <td>NaN</td>\n",
       "      <td>NaN</td>\n",
       "      <td>NaN</td>\n",
       "      <td>NaN</td>\n",
       "      <td>NaN</td>\n",
       "      <td>NaN</td>\n",
       "      <td>NaN</td>\n",
       "      <td>NaN</td>\n",
       "      <td>NaN</td>\n",
       "      <td>NaN</td>\n",
       "      <td>NaN</td>\n",
       "      <td>NaN</td>\n",
       "      <td>NaN</td>\n",
       "      <td>NaN</td>\n",
       "      <td>NaN</td>\n",
       "      <td>NaN</td>\n",
       "      <td>NaN</td>\n",
       "      <td>NaN</td>\n",
       "      <td>NaN</td>\n",
       "      <td>NaN</td>\n",
       "      <td>NaN</td>\n",
       "      <td>NaN</td>\n",
       "      <td>NaN</td>\n",
       "      <td>NaN</td>\n",
       "      <td>NaN</td>\n",
       "      <td>NaN</td>\n",
       "      <td>NaN</td>\n",
       "      <td>NaN</td>\n",
       "      <td>NaN</td>\n",
       "      <td>NaN</td>\n",
       "      <td>NaN</td>\n",
       "      <td>NaN</td>\n",
       "      <td>NaN</td>\n",
       "      <td>NaN</td>\n",
       "      <td>NaN</td>\n",
       "      <td>NaN</td>\n",
       "      <td>NaN</td>\n",
       "      <td>NaN</td>\n",
       "      <td>NaN</td>\n",
       "    </tr>\n",
       "  </tbody>\n",
       "</table>\n",
       "</div>"
      ],
      "text/plain": [
       "                                            person  link              legMode  \\\n",
       "0                    TransitDriverAgent-SF:7606357   NaN  be_a_transit_driver   \n",
       "1                        TransitDriverAgent-3D:309   NaN  be_a_transit_driver   \n",
       "2    TransitDriverAgent-SM:53:10813549:T5:10:00:00   NaN  be_a_transit_driver   \n",
       "3  TransitDriverAgent-CC:31002002_merged_421003228   NaN  be_a_transit_driver   \n",
       "4  TransitDriverAgent-CC:31002002_merged_421003228   NaN                  NaN   \n",
       "\n",
       "   time                 type                       vehicle reason  \\\n",
       "0   0.0            departure                           NaN    NaN   \n",
       "1   0.0            departure                           NaN    NaN   \n",
       "2   0.0            departure                           NaN    NaN   \n",
       "3   0.0            departure                           NaN    NaN   \n",
       "4   0.0  PersonEntersVehicle  CC:31002002_merged_421003228    NaN   \n",
       "\n",
       "   secondaryFuelLevel parkingTaz chargingPointType pricingModel parkingType  \\\n",
       "0                 NaN        NaN               NaN          NaN         NaN   \n",
       "1                 NaN        NaN               NaN          NaN         NaN   \n",
       "2                 NaN        NaN               NaN          NaN         NaN   \n",
       "3                 NaN        NaN               NaN          NaN         NaN   \n",
       "4                 NaN        NaN               NaN          NaN         NaN   \n",
       "\n",
       "   locationY  locationX  price  primaryFuelLevel  departTime  startX  startY  \\\n",
       "0        NaN        NaN    NaN               NaN         NaN     NaN     NaN   \n",
       "1        NaN        NaN    NaN               NaN         NaN     NaN     NaN   \n",
       "2        NaN        NaN    NaN               NaN         NaN     NaN     NaN   \n",
       "3        NaN        NaN    NaN               NaN         NaN     NaN     NaN   \n",
       "4        NaN        NaN    NaN               NaN         NaN     NaN     NaN   \n",
       "\n",
       "   endX  endY mode currentTourMode  expectedMaximumUtility  \\\n",
       "0   NaN   NaN  NaN             NaN                     NaN   \n",
       "1   NaN   NaN  NaN             NaN                     NaN   \n",
       "2   NaN   NaN  NaN             NaN                     NaN   \n",
       "3   NaN   NaN  NaN             NaN                     NaN   \n",
       "4   NaN   NaN  NaN             NaN                     NaN   \n",
       "\n",
       "  availableAlternatives  location personalVehicleAvailable  length  tourIndex  \\\n",
       "0                   NaN       NaN                      NaN     NaN        NaN   \n",
       "1                   NaN       NaN                      NaN     NaN        NaN   \n",
       "2                   NaN       NaN                      NaN     NaN        NaN   \n",
       "3                   NaN       NaN                      NaN     NaN        NaN   \n",
       "4                   NaN       NaN                      NaN     NaN        NaN   \n",
       "\n",
       "  shiftStatus parkingZoneId  fuel  duration vehicleType  incentive  tollCost  \\\n",
       "0         NaN           NaN   NaN       NaN         NaN        NaN       NaN   \n",
       "1         NaN           NaN   NaN       NaN         NaN        NaN       NaN   \n",
       "2         NaN           NaN   NaN       NaN         NaN        NaN       NaN   \n",
       "3         NaN           NaN   NaN       NaN         NaN        NaN       NaN   \n",
       "4         NaN           NaN   NaN       NaN         NaN        NaN       NaN   \n",
       "\n",
       "   netCost  score driver  facility actType  cost riders  fromStopIndex  \\\n",
       "0      NaN    NaN    NaN       NaN     NaN   NaN    NaN            NaN   \n",
       "1      NaN    NaN    NaN       NaN     NaN   NaN    NaN            NaN   \n",
       "2      NaN    NaN    NaN       NaN     NaN   NaN    NaN            NaN   \n",
       "3      NaN    NaN    NaN       NaN     NaN   NaN    NaN            NaN   \n",
       "4      NaN    NaN    NaN       NaN     NaN   NaN    NaN            NaN   \n",
       "\n",
       "   seatingCapacity  tollPaid  capacity  arrivalTime  departureTime  \\\n",
       "0              NaN       NaN       NaN          NaN            NaN   \n",
       "1              NaN       NaN       NaN          NaN            NaN   \n",
       "2              NaN       NaN       NaN          NaN            NaN   \n",
       "3              NaN       NaN       NaN          NaN            NaN   \n",
       "4              NaN       NaN       NaN          NaN            NaN   \n",
       "\n",
       "  linkTravelTime  secondaryFuel secondaryFuelType primaryFuelType  \\\n",
       "0            NaN            NaN               NaN             NaN   \n",
       "1            NaN            NaN               NaN             NaN   \n",
       "2            NaN            NaN               NaN             NaN   \n",
       "3            NaN            NaN               NaN             NaN   \n",
       "4            NaN            NaN               NaN             NaN   \n",
       "\n",
       "   toStopIndex links  numPassengers  primaryFuel  \n",
       "0          NaN   NaN            NaN          NaN  \n",
       "1          NaN   NaN            NaN          NaN  \n",
       "2          NaN   NaN            NaN          NaN  \n",
       "3          NaN   NaN            NaN          NaN  \n",
       "4          NaN   NaN            NaN          NaN  "
      ]
     },
     "execution_count": 14,
     "metadata": {},
     "output_type": "execute_result"
    }
   ],
   "source": [
    "gemini_base_2035_events.head()"
   ]
  },
  {
   "cell_type": "code",
   "execution_count": 15,
   "id": "0c1d242f",
   "metadata": {},
   "outputs": [],
   "source": [
    "# Rename the \"mode\" column\n",
    "gemini_base_2035_events.rename(columns={\"mode\":\"modeBEAM\"}, inplace=True) \n",
    "# Replace \"Work\" with \"work\" in the \"actType\" column\n",
    "gemini_base_2035_events[\"actType\"].replace({\"Work\": \"work\"}, inplace=True)"
   ]
  },
  {
   "cell_type": "code",
   "execution_count": 16,
   "id": "4d5201ce",
   "metadata": {},
   "outputs": [],
   "source": [
    "eventsSF = gemini_base_2035_events.head(2000000)"
   ]
  },
  {
   "cell_type": "code",
   "execution_count": 17,
   "id": "6a13879a",
   "metadata": {},
   "outputs": [],
   "source": [
    "# Remove person = TransitDriver or RidehailDriver because there are no agent information in these rows\n",
    "eventsSF = eventsSF[~eventsSF.person.str.contains(\"Agent\", na=False)].reset_index(drop=True)"
   ]
  },
  {
   "cell_type": "code",
   "execution_count": 18,
   "id": "93b1c3c8",
   "metadata": {},
   "outputs": [],
   "source": [
    "# Adding the IDMerged Column\n",
    "eventsSF['UniqueID'] = eventsSF['person'] #make a copy of the person column\n",
    "eventsSF['personID'] = np.where(eventsSF['person'].isin(eventsSF['driver']), eventsSF['person'], np.nan) \n",
    "eventsSF['driverID'] = np.where(eventsSF['driver'].isin(eventsSF['person']), eventsSF['driver'], np.nan)"
   ]
  },
  {
   "cell_type": "code",
   "execution_count": 19,
   "id": "0cf184b2",
   "metadata": {},
   "outputs": [],
   "source": [
    "# Merging person and driver ids in one column\n",
    "eventsSF['IDMerged'] = eventsSF['personID'].combine_first(eventsSF['driverID'])\n",
    "eventsSF['IDMerged'] = eventsSF['UniqueID'].combine_first(eventsSF['IDMerged'])"
   ]
  },
  {
   "cell_type": "code",
   "execution_count": 20,
   "id": "26bb08b4",
   "metadata": {},
   "outputs": [],
   "source": [
    "# Dropping unused columns\n",
    "eventsSF = eventsSF.drop(['personID','driverID','UniqueID'], axis=1) "
   ]
  },
  {
   "cell_type": "code",
   "execution_count": 21,
   "id": "5ba0d854",
   "metadata": {},
   "outputs": [
    {
     "name": "stdout",
     "output_type": "stream",
     "text": [
      "CPU times: total: 5.52 s\n",
      "Wall time: 5.54 s\n"
     ]
    }
   ],
   "source": [
    "%%time\n",
    "# Split the \"riders' column and replicated rows for every rider\n",
    "eventsSF['riders'] = eventsSF['riders'].str.split(':')\n",
    "eventsSF = eventsSF.explode('riders')"
   ]
  },
  {
   "cell_type": "code",
   "execution_count": 22,
   "id": "8db7b524",
   "metadata": {},
   "outputs": [],
   "source": [
    "# Combine riderID with IDMerged\n",
    "eventsSF['riderID'] = np.where(eventsSF['riders'].isin(eventsSF['person']), eventsSF['riders'], np.nan)\n",
    "eventsSF['IDMerged'] = eventsSF['riderID'].combine_first(eventsSF['IDMerged'])"
   ]
  },
  {
   "cell_type": "code",
   "execution_count": 23,
   "id": "14f097fc",
   "metadata": {},
   "outputs": [],
   "source": [
    "# Dropping unused columns\n",
    "eventsSF = eventsSF.drop(['riderID'], axis=1) "
   ]
  },
  {
   "cell_type": "code",
   "execution_count": 24,
   "id": "03ba4de0",
   "metadata": {},
   "outputs": [],
   "source": [
    "# Remove driver = TransitDriver or RidehailDriver for IDMerged = NAN because there are no agent information in these rows \n",
    "eventsSF = eventsSF[~((eventsSF.driver.str.contains(\"Agent\", na=False))&(eventsSF.IDMerged.isna()))].reset_index(drop=True)"
   ]
  },
  {
   "cell_type": "code",
   "execution_count": 25,
   "id": "61ac90cc",
   "metadata": {},
   "outputs": [
    {
     "name": "stdout",
     "output_type": "stream",
     "text": [
      "CPU times: total: 52.6 s\n",
      "Wall time: 52.6 s\n"
     ]
    }
   ],
   "source": [
    "%%time\n",
    "# Filling NANs in ID related to charging events\n",
    "eventsSF[\"chargeID\"] = eventsSF.groupby('vehicle')['IDMerged'].transform(lambda x: x.ffill().bfill())"
   ]
  },
  {
   "cell_type": "code",
   "execution_count": 26,
   "id": "94e0edf9",
   "metadata": {},
   "outputs": [],
   "source": [
    "# Combining chargeID with IDMerged so no NANs anymore\n",
    "eventsSF['IDMerged'] = eventsSF['chargeID'].combine_first(eventsSF['IDMerged'])"
   ]
  },
  {
   "cell_type": "code",
   "execution_count": 27,
   "id": "8092adf2",
   "metadata": {},
   "outputs": [],
   "source": [
    "# Dropping unused columns\n",
    "eventsSF = eventsSF.drop(['chargeID'], axis=1) "
   ]
  },
  {
   "cell_type": "code",
   "execution_count": 28,
   "id": "e90cb7ba",
   "metadata": {},
   "outputs": [],
   "source": [
    "# Change the IDMerged column type to numeric\n",
    "eventsSF[\"IDMerged\"] = pd.to_numeric(eventsSF.IDMerged)"
   ]
  },
  {
   "cell_type": "code",
   "execution_count": 29,
   "id": "a86db461",
   "metadata": {},
   "outputs": [],
   "source": [
    "# Sort by IDMerged and time columns\n",
    "eventsSF = eventsSF.sort_values(['IDMerged','time']).reset_index(drop=True)"
   ]
  },
  {
   "cell_type": "code",
   "execution_count": 30,
   "id": "4d916139",
   "metadata": {},
   "outputs": [],
   "source": [
    "# We assume that the number of passengers is 1 for ride_hail_pooled\n",
    "eventsSF['modeBEAM_rh'] = np.where(eventsSF.driver.str.contains(\"rideHailAgent\", na=False), 'ride_hail' , eventsSF['modeBEAM'])"
   ]
  },
  {
   "cell_type": "code",
   "execution_count": 31,
   "id": "459b8c46",
   "metadata": {},
   "outputs": [],
   "source": [
    "# Adding teleportation mode to the type = TeleportationEvent row \n",
    "eventsSF[\"modeBEAM_rh\"] = np.where(eventsSF['type']=='TeleportationEvent', eventsSF.modeBEAM_rh.fillna(method='ffill'), eventsSF[\"modeBEAM_rh\"])"
   ]
  },
  {
   "cell_type": "code",
   "execution_count": 32,
   "id": "fb72c5df",
   "metadata": {},
   "outputs": [],
   "source": [
    "eventsSF['modeBEAM_rh_pooled'] = np.where((eventsSF['type'] == 'PersonCost') & (eventsSF['modeBEAM'] == 'ride_hail_pooled'), 'ride_hail_pooled', np.nan)"
   ]
  },
  {
   "cell_type": "code",
   "execution_count": 33,
   "id": "b2ab8d36",
   "metadata": {},
   "outputs": [],
   "source": [
    "eventsSF['modeBEAM_rh_ride_hail_transit'] = np.where((eventsSF['type'] == 'PersonCost') & (eventsSF['modeBEAM'] == 'ride_hail_transit'), 'ride_hail_transit', np.nan)"
   ]
  },
  {
   "cell_type": "code",
   "execution_count": 34,
   "id": "e07c4c52",
   "metadata": {},
   "outputs": [],
   "source": [
    "eventsSF['modeBEAM_rh_pooled'] = eventsSF['modeBEAM_rh_pooled'].shift(+1)"
   ]
  },
  {
   "cell_type": "code",
   "execution_count": 35,
   "id": "70b8658d",
   "metadata": {},
   "outputs": [],
   "source": [
    "eventsSF['modeBEAM_rh_ride_hail_transit'] = eventsSF['modeBEAM_rh_ride_hail_transit'].shift(+1)"
   ]
  },
  {
   "cell_type": "code",
   "execution_count": 36,
   "id": "5ddfb174",
   "metadata": {},
   "outputs": [],
   "source": [
    "eventsSF['modeBEAM_rh'] = np.where((eventsSF['type'] == 'PathTraversal') & (eventsSF['modeBEAM'] == 'car') & (eventsSF['driver'].str.contains(\"rideHailAgent\", na=False)) & (eventsSF['modeBEAM_rh_pooled'] != 'nan'), eventsSF['modeBEAM_rh_pooled'], eventsSF['modeBEAM_rh'])"
   ]
  },
  {
   "cell_type": "code",
   "execution_count": 37,
   "id": "cee4354a",
   "metadata": {},
   "outputs": [],
   "source": [
    "# We don't know if ridehail_transit is ride_hail or ride_hail_pooled\n",
    "eventsSF['modeBEAM_rh'] = np.where((eventsSF['type'] == 'PathTraversal') & (eventsSF['modeBEAM'] == 'car') & (eventsSF['driver'].str.contains(\"rideHailAgent\", na=False)) & (eventsSF['modeBEAM_rh_ride_hail_transit'] != 'nan'), eventsSF['modeBEAM_rh_ride_hail_transit'], eventsSF['modeBEAM_rh'])"
   ]
  },
  {
   "cell_type": "code",
   "execution_count": 38,
   "id": "00913da3",
   "metadata": {},
   "outputs": [],
   "source": [
    "# Dropping the temporary columns\n",
    "eventsSF = eventsSF.drop(['modeBEAM_rh_pooled'], axis=1)\n",
    "eventsSF = eventsSF.drop(['modeBEAM_rh_ride_hail_transit'], axis=1)"
   ]
  },
  {
   "cell_type": "code",
   "execution_count": 39,
   "id": "cc24ffa5",
   "metadata": {},
   "outputs": [],
   "source": [
    "eventsSF['actEndTime'] = np.where(eventsSF['type']=='actend'\n",
    "                     , eventsSF['time'], np.nan)"
   ]
  },
  {
   "cell_type": "code",
   "execution_count": 40,
   "id": "57f2a46c",
   "metadata": {},
   "outputs": [],
   "source": [
    "eventsSF['actStartTime'] = np.where(eventsSF['type']=='actstart'\n",
    "                     , eventsSF['time'], np.nan)    "
   ]
  },
  {
   "cell_type": "code",
   "execution_count": 41,
   "id": "0f47b8ee",
   "metadata": {},
   "outputs": [],
   "source": [
    "eventsSF['duration_travelling'] = np.where((eventsSF['type']=='PathTraversal')|(eventsSF['type']=='TeleportationEvent')\n",
    "                     , eventsSF['arrivalTime'] - eventsSF['departureTime'], np.nan)"
   ]
  },
  {
   "cell_type": "code",
   "execution_count": 42,
   "id": "7e427fd1",
   "metadata": {},
   "outputs": [],
   "source": [
    "eventsSF['distance_travelling'] = np.where((eventsSF['type']=='PathTraversal')|((eventsSF['type']=='ModeChoice')&((eventsSF['modeBEAM']=='hov2_teleportation')|(eventsSF['modeBEAM']=='hov3_teleportation'))), eventsSF['length'], np.nan)"
   ]
  },
  {
   "cell_type": "code",
   "execution_count": 43,
   "id": "63c8c08a",
   "metadata": {},
   "outputs": [],
   "source": [
    "eventsSF['distance_mode_choice'] = np.where(eventsSF['type']=='ModeChoice', eventsSF['length'], np.nan)"
   ]
  },
  {
   "cell_type": "code",
   "execution_count": 44,
   "id": "6403c92a",
   "metadata": {},
   "outputs": [],
   "source": [
    "eventsSF['duration_walking'] = np.where(eventsSF['modeBEAM']=='walk', eventsSF['duration_travelling'], np.nan)"
   ]
  },
  {
   "cell_type": "code",
   "execution_count": 45,
   "id": "9edb77aa",
   "metadata": {},
   "outputs": [],
   "source": [
    "eventsSF['distance_walking'] = np.where(eventsSF['modeBEAM']=='walk', eventsSF['distance_travelling'], np.nan)"
   ]
  },
  {
   "cell_type": "code",
   "execution_count": 46,
   "id": "d4a0af57",
   "metadata": {},
   "outputs": [],
   "source": [
    "eventsSF['duration_on_bike'] = np.where(eventsSF['modeBEAM']=='bike', eventsSF['duration_travelling'], np.nan)"
   ]
  },
  {
   "cell_type": "code",
   "execution_count": 47,
   "id": "148a3dbe",
   "metadata": {},
   "outputs": [],
   "source": [
    "eventsSF['distance_bike'] = np.where(eventsSF['modeBEAM']=='bike', eventsSF['distance_travelling'], np.nan)"
   ]
  },
  {
   "cell_type": "code",
   "execution_count": 48,
   "id": "3624b92a",
   "metadata": {},
   "outputs": [],
   "source": [
    "eventsSF['duration_in_ridehail'] = np.where((eventsSF['modeBEAM_rh']=='ride_hail')|(eventsSF['modeBEAM_rh']=='ride_hail_pooled')|(eventsSF['modeBEAM_rh']=='ride_hail_transit'), \n",
    "                                            eventsSF['duration_travelling'], np.nan)"
   ]
  },
  {
   "cell_type": "code",
   "execution_count": 49,
   "id": "90d4c42d",
   "metadata": {},
   "outputs": [],
   "source": [
    "eventsSF['distance_ridehail'] = np.where((eventsSF['modeBEAM_rh']=='ride_hail')|(eventsSF['modeBEAM_rh']=='ride_hail_pooled')|(eventsSF['modeBEAM_rh']=='ride_hail_transit'), eventsSF['distance_travelling'], np.nan)"
   ]
  },
  {
   "cell_type": "code",
   "execution_count": 50,
   "id": "4bb825fb",
   "metadata": {},
   "outputs": [],
   "source": [
    "eventsSF['duration_in_privateCar'] = np.where((eventsSF['modeBEAM_rh']=='car')|(eventsSF['modeBEAM_rh']=='car_hov3')|(eventsSF['modeBEAM_rh']=='car_hov2')|\n",
    "                                              (eventsSF['modeBEAM_rh']=='hov2_teleportation')|(eventsSF['modeBEAM_rh']=='hov3_teleportation') \n",
    "                                              , eventsSF['duration_travelling'], np.nan)"
   ]
  },
  {
   "cell_type": "code",
   "execution_count": 62,
   "id": "1888b37a",
   "metadata": {},
   "outputs": [],
   "source": [
    "eventsSF['distance_privateCar'] = np.where((eventsSF['modeBEAM_rh']=='car')|(eventsSF['modeBEAM_rh']=='car_hov3')|(eventsSF['modeBEAM_rh']=='car_hov2')|\n",
    "                                              (eventsSF['modeBEAM_rh']=='hov2_teleportation')|(eventsSF['modeBEAM_rh']=='hov3_teleportation'), eventsSF['distance_travelling'], np.nan)"
   ]
  },
  {
   "cell_type": "code",
   "execution_count": 63,
   "id": "176520d6",
   "metadata": {},
   "outputs": [],
   "source": [
    "eventsSF['duration_in_transit'] = np.where((eventsSF['modeBEAM']=='bike_transit')|(eventsSF['modeBEAM']=='drive_transit')|\n",
    "                                           (eventsSF['modeBEAM']=='walk_transit')|(eventsSF['modeBEAM']=='bus')|\n",
    "                                           (eventsSF['modeBEAM']=='tram')|(eventsSF['modeBEAM']=='subway')|\n",
    "                                           (eventsSF['modeBEAM']=='rail')|(eventsSF['modeBEAM']=='cable_car')|\n",
    "                                           (eventsSF['modeBEAM']=='ride_hail_transit'), eventsSF['duration_travelling'], np.nan)"
   ]
  },
  {
   "cell_type": "code",
   "execution_count": 64,
   "id": "35c518c1",
   "metadata": {},
   "outputs": [],
   "source": [
    "eventsSF['distance_transit'] = np.where((eventsSF['modeBEAM']=='bike_transit')|(eventsSF['modeBEAM']=='drive_transit')|\n",
    "                                        (eventsSF['modeBEAM']=='walk_transit')|(eventsSF['modeBEAM']=='bus')|\n",
    "                                        (eventsSF['modeBEAM']=='tram')|(eventsSF['modeBEAM']=='subway')|\n",
    "                                        (eventsSF['modeBEAM']=='rail')|(eventsSF['modeBEAM']=='cable_car')|\n",
    "                                        (eventsSF['modeBEAM']=='ride_hail_transit'), eventsSF['distance_travelling'], np.nan)"
   ]
  },
  {
   "cell_type": "code",
   "execution_count": 65,
   "id": "9d38a449",
   "metadata": {},
   "outputs": [],
   "source": [
    "# Removing the extra tour index happening after replanning events\n",
    "eventsSF['replanningTime'] = np.where(eventsSF['type'] == 'Replanning', eventsSF['time'], np.nan)\n",
    "eventsSF['replanningTime'] = eventsSF['replanningTime'].shift(+1)\n",
    "eventsSF['tourIndex_fixed'] = np.where((eventsSF['type'] == 'ModeChoice')&(eventsSF['replanningTime'].notna()), np.nan, eventsSF['tourIndex'])"
   ]
  },
  {
   "cell_type": "code",
   "execution_count": 66,
   "id": "5beb42b2",
   "metadata": {},
   "outputs": [],
   "source": [
    "eventsSF['fuelFood'] = np.where((eventsSF['type']=='PathTraversal')&(eventsSF['primaryFuelType']=='Food'), \n",
    "                                eventsSF['primaryFuel'], np.nan)"
   ]
  },
  {
   "cell_type": "code",
   "execution_count": 67,
   "id": "f6880cae",
   "metadata": {},
   "outputs": [],
   "source": [
    "eventsSF['emissionFood'] = eventsSF['fuelFood'] * 8.3141841e-9 * 0"
   ]
  },
  {
   "cell_type": "code",
   "execution_count": 68,
   "id": "4104324f",
   "metadata": {},
   "outputs": [],
   "source": [
    "eventsSF['fuelElectricity'] = np.where((eventsSF['type']=='PathTraversal')&(eventsSF['primaryFuelType']=='Electricity'), \n",
    "                                eventsSF['primaryFuel'], np.nan)"
   ]
  },
  {
   "cell_type": "code",
   "execution_count": 69,
   "id": "ac8a70b7",
   "metadata": {},
   "outputs": [],
   "source": [
    "eventsSF['emissionElectricity'] = eventsSF['fuelElectricity'] * 2.77778e-10 * 947.2 * 0.0005"
   ]
  },
  {
   "cell_type": "code",
   "execution_count": 70,
   "id": "32f9c7d4",
   "metadata": {},
   "outputs": [],
   "source": [
    "eventsSF['fuelDiesel'] = np.where((eventsSF['type']=='PathTraversal')&(eventsSF['primaryFuelType']=='Diesel'), \n",
    "                                eventsSF['primaryFuel'], np.nan)"
   ]
  },
  {
   "cell_type": "code",
   "execution_count": 71,
   "id": "791a7e19",
   "metadata": {},
   "outputs": [],
   "source": [
    "eventsSF['emissionDiesel'] = eventsSF['fuelDiesel'] * 8.3141841e-9 * 10.180e-3"
   ]
  },
  {
   "cell_type": "code",
   "execution_count": 75,
   "id": "e8f68e5c",
   "metadata": {},
   "outputs": [],
   "source": [
    "eventsSF['fuelBiodiesel'] = np.where((eventsSF['type']=='PathTraversal')&(eventsSF['primaryFuelType']=='Biodiesel'), \n",
    "                                eventsSF['primaryFuel'], np.nan)"
   ]
  },
  {
   "cell_type": "code",
   "execution_count": 76,
   "id": "06bfbef3",
   "metadata": {},
   "outputs": [],
   "source": [
    "eventsSF['emissionBiodiesel'] = eventsSF['fuelBiodiesel'] * 8.3141841e-9 * 10.180e-3"
   ]
  },
  {
   "cell_type": "code",
   "execution_count": 77,
   "id": "5e752231",
   "metadata": {},
   "outputs": [],
   "source": [
    "eventsSF['fuel_not_Food'] = np.where((eventsSF['type']=='PathTraversal')&(eventsSF['primaryFuelType']!='Food')\n",
    "                            , eventsSF['primaryFuel']+eventsSF['secondaryFuel'], np.nan)"
   ]
  },
  {
   "cell_type": "code",
   "execution_count": 78,
   "id": "bfc1273e",
   "metadata": {},
   "outputs": [],
   "source": [
    "eventsSF['fuelGasoline'] = np.where((eventsSF['type']=='PathTraversal')&((eventsSF['primaryFuelType']=='Gasoline')|(eventsSF['secondaryFuelType']=='Gasoline')), \n",
    "                           eventsSF['primaryFuel']+eventsSF['secondaryFuel'], np.nan)"
   ]
  },
  {
   "cell_type": "code",
   "execution_count": 79,
   "id": "fa3174aa",
   "metadata": {},
   "outputs": [],
   "source": [
    "eventsSF['emissionGasoline'] = eventsSF['fuelGasoline'] * 8.3141841e-9 * 8.89e-3"
   ]
  },
  {
   "cell_type": "code",
   "execution_count": 80,
   "id": "a62efea2",
   "metadata": {},
   "outputs": [],
   "source": [
    "# Marginal fuel\n",
    "conditions  = [(eventsSF['modeBEAM_rh'] == 'ride_hail_pooled'), \n",
    "               (eventsSF['modeBEAM_rh'] == 'walk_transit') | (eventsSF['modeBEAM_rh'] == 'drive_transit')|\n",
    "               (eventsSF['modeBEAM_rh'] == 'ride_hail_transit')|(eventsSF['modeBEAM_rh'] == 'bus')|(eventsSF['modeBEAM_rh'] == 'subway')|\n",
    "               (eventsSF['modeBEAM_rh'] == 'rail')|(eventsSF['modeBEAM_rh'] == 'tram')|(eventsSF['modeBEAM_rh'] == 'cable_car')|\n",
    "               (eventsSF['modeBEAM_rh'] == 'bike_transit'),\n",
    "               (eventsSF['modeBEAM_rh'] == 'walk')|(eventsSF['modeBEAM_rh'] == 'bike'),\n",
    "               (eventsSF['modeBEAM_rh'] == 'ride_hail')|(eventsSF['modeBEAM_rh'] == 'car')| \n",
    "               (eventsSF['modeBEAM_rh'] == 'car_hov2')| (eventsSF['modeBEAM_rh'] == 'car_hov3')|\n",
    "               (eventsSF['modeBEAM_rh'] == 'hov2_teleportation')| (eventsSF['modeBEAM_rh'] == 'hov3_teleportation')]\n",
    "choices = [eventsSF['fuel_not_Food']/eventsSF['numPassengers'], 0 , eventsSF['fuelFood'], eventsSF['fuel_not_Food']]"
   ]
  },
  {
   "cell_type": "code",
   "execution_count": 81,
   "id": "1d5f83ba",
   "metadata": {},
   "outputs": [],
   "source": [
    "eventsSF['fuel_marginal'] = np.select(conditions, choices, default=np.nan)"
   ]
  },
  {
   "cell_type": "code",
   "execution_count": 82,
   "id": "750514cc",
   "metadata": {},
   "outputs": [],
   "source": [
    "# Marginal emission\n",
    "conditions1  = [(eventsSF['modeBEAM_rh'] == 'ride_hail_pooled') & (eventsSF['fuelElectricity'].notna() != 0), \n",
    "               (eventsSF['modeBEAM_rh'] == 'ride_hail_pooled') & (eventsSF['fuelGasoline'].notna() != 0),\n",
    "               (eventsSF['modeBEAM_rh'] == 'ride_hail_pooled') & (eventsSF['fuelBiodiesel'].notna() != 0),\n",
    "               (eventsSF['modeBEAM_rh'] == 'ride_hail_pooled') & (eventsSF['fuelDiesel'].notna() != 0),             \n",
    "               (eventsSF['modeBEAM_rh'] == 'walk_transit') | (eventsSF['modeBEAM_rh'] == 'drive_transit')|\n",
    "               (eventsSF['modeBEAM_rh'] == 'ride_hail_transit')|(eventsSF['modeBEAM_rh'] == 'bus')|(eventsSF['modeBEAM_rh'] == 'subway')|\n",
    "               (eventsSF['modeBEAM_rh'] == 'rail')|(eventsSF['modeBEAM_rh'] == 'tram')|(eventsSF['modeBEAM_rh'] == 'cable_car')|\n",
    "               (eventsSF['modeBEAM_rh'] == 'bike_transit'),\n",
    "\n",
    "               (eventsSF['modeBEAM_rh'] == 'walk')|(eventsSF['modeBEAM_rh'] == 'bike'),\n",
    "               \n",
    "               (eventsSF['modeBEAM_rh'] == 'ride_hail')|(eventsSF['modeBEAM_rh'] == 'car')| \n",
    "               (eventsSF['modeBEAM_rh'] == 'car_hov2')| (eventsSF['modeBEAM_rh'] == 'car_hov3')|\n",
    "               (eventsSF['modeBEAM_rh'] == 'hov2_teleportation')| (eventsSF['modeBEAM_rh'] == 'hov3_teleportation')&\n",
    "               (eventsSF['fuelElectricity'].notna() != 0),\n",
    "              \n",
    "               (eventsSF['modeBEAM_rh'] == 'ride_hail')|(eventsSF['modeBEAM_rh'] == 'car')| \n",
    "               (eventsSF['modeBEAM_rh'] == 'car_hov2')| (eventsSF['modeBEAM_rh'] == 'car_hov3')|\n",
    "               (eventsSF['modeBEAM_rh'] == 'hov2_teleportation')| (eventsSF['modeBEAM_rh'] == 'hov3_teleportation')&\n",
    "               (eventsSF['fuelGasoline'].notna() != 0),           \n",
    "              \n",
    "               (eventsSF['modeBEAM_rh'] == 'ride_hail')|(eventsSF['modeBEAM_rh'] == 'car')| \n",
    "               (eventsSF['modeBEAM_rh'] == 'car_hov2')| (eventsSF['modeBEAM_rh'] == 'car_hov3')|\n",
    "               (eventsSF['modeBEAM_rh'] == 'hov2_teleportation')| (eventsSF['modeBEAM_rh'] == 'hov3_teleportation')&\n",
    "               (eventsSF['fuelBiodiesel'].notna() != 0),   \n",
    "               \n",
    "               (eventsSF['modeBEAM_rh'] == 'ride_hail')|(eventsSF['modeBEAM_rh'] == 'car')| \n",
    "               (eventsSF['modeBEAM_rh'] == 'car_hov2')| (eventsSF['modeBEAM_rh'] == 'car_hov3')|\n",
    "               (eventsSF['modeBEAM_rh'] == 'hov2_teleportation')| (eventsSF['modeBEAM_rh'] == 'hov3_teleportation')&\n",
    "               (eventsSF['fuelDiesel'].notna() != 0),\n",
    "\n",
    "               (eventsSF['modeBEAM_rh'] == 'ride_hail')|(eventsSF['modeBEAM_rh'] == 'car')| \n",
    "               (eventsSF['modeBEAM_rh'] == 'car_hov2')| (eventsSF['modeBEAM_rh'] == 'car_hov3')|\n",
    "               (eventsSF['modeBEAM_rh'] == 'hov2_teleportation')| (eventsSF['modeBEAM_rh'] == 'hov3_teleportation')&\n",
    "               (eventsSF['fuelFood'].notna() != 0)]\n",
    "\n",
    "choices1 = [eventsSF['emissionElectricity']/eventsSF['numPassengers'],\n",
    "           eventsSF['emissionGasoline']/eventsSF['numPassengers'],\n",
    "           eventsSF['emissionBiodiesel']/eventsSF['numPassengers'],\n",
    "           eventsSF['emissionDiesel']/eventsSF['numPassengers'],           \n",
    "           0 , \n",
    "           eventsSF['emissionFood'], \n",
    "           eventsSF['emissionElectricity'],\n",
    "           eventsSF['emissionGasoline'],\n",
    "           eventsSF['emissionBiodiesel'],\n",
    "           eventsSF['emissionDiesel'],\n",
    "           eventsSF['emissionFood']]"
   ]
  },
  {
   "cell_type": "code",
   "execution_count": 83,
   "id": "fb19ee46",
   "metadata": {},
   "outputs": [],
   "source": [
    "eventsSF['emission_marginal'] = np.select(conditions1, choices1, default=np.nan)"
   ]
  },
  {
   "cell_type": "code",
   "execution_count": 84,
   "id": "1bb135e2",
   "metadata": {},
   "outputs": [],
   "source": [
    "eventsSF['actEndType'] = np.where(eventsSF['type']=='actend', eventsSF['actType'], \"\")"
   ]
  },
  {
   "cell_type": "code",
   "execution_count": 85,
   "id": "52f9f171",
   "metadata": {},
   "outputs": [],
   "source": [
    "eventsSF['actStartType'] = np.where(eventsSF['type']=='actstart', eventsSF['actType'], \"\")"
   ]
  },
  {
   "cell_type": "code",
   "execution_count": 87,
   "id": "bbda76b9",
   "metadata": {},
   "outputs": [
    {
     "data": {
      "text/plain": [
       "Index(['person', 'link', 'legMode', 'time', 'type', 'vehicle', 'reason',\n",
       "       'secondaryFuelLevel', 'parkingTaz', 'chargingPointType', 'pricingModel',\n",
       "       'parkingType', 'locationY', 'locationX', 'price', 'primaryFuelLevel',\n",
       "       'departTime', 'startX', 'startY', 'endX', 'endY', 'modeBEAM',\n",
       "       'currentTourMode', 'expectedMaximumUtility', 'availableAlternatives',\n",
       "       'location', 'personalVehicleAvailable', 'length', 'tourIndex',\n",
       "       'shiftStatus', 'parkingZoneId', 'fuel', 'duration', 'vehicleType',\n",
       "       'incentive', 'tollCost', 'netCost', 'score', 'driver', 'facility',\n",
       "       'actType', 'cost', 'riders', 'fromStopIndex', 'seatingCapacity',\n",
       "       'tollPaid', 'capacity', 'arrivalTime', 'departureTime',\n",
       "       'linkTravelTime', 'secondaryFuel', 'secondaryFuelType',\n",
       "       'primaryFuelType', 'toStopIndex', 'links', 'numPassengers',\n",
       "       'primaryFuel', 'IDMerged', 'modeBEAM_rh', 'actEndTime', 'actStartTime',\n",
       "       'duration_travelling', 'distance_travelling', 'distance_mode_choice',\n",
       "       'duration_walking', 'distance_walking', 'duration_on_bike',\n",
       "       'distance_bike', 'duration_in_ridehail', 'distance_ridehail',\n",
       "       'duration_in_privateCar', 'distance_privateCar', 'duration_in_transit',\n",
       "       'distance_transit', 'replanningTime', 'tourIndex_fixed', 'fuelFood',\n",
       "       'emissionFood', 'fuelElectricity', 'emissionElectricity', 'fuelDiesel',\n",
       "       'emissionDiesel', 'fuelBiodiesel', 'emissionBiodiesel', 'fuel_not_Food',\n",
       "       'fuelGasoline', 'emissionGasoline', 'fuel_marginal',\n",
       "       'emission_marginal', 'actEndType', 'actStartType'],\n",
       "      dtype='object')"
      ]
     },
     "execution_count": 87,
     "metadata": {},
     "output_type": "execute_result"
    }
   ],
   "source": [
    "eventsSF.columns"
   ]
  },
  {
   "cell_type": "code",
   "execution_count": 86,
   "id": "4d128775",
   "metadata": {},
   "outputs": [
    {
     "ename": "AttributeError",
     "evalue": "'DataFrame' object has no attribute 'tripId'",
     "output_type": "error",
     "traceback": [
      "\u001b[1;31m---------------------------------------------------------------------------\u001b[0m",
      "\u001b[1;31mAttributeError\u001b[0m                            Traceback (most recent call last)",
      "Input \u001b[1;32mIn [86]\u001b[0m, in \u001b[0;36m<cell line: 1>\u001b[1;34m()\u001b[0m\n\u001b[1;32m----> 1\u001b[0m eventsSF[\u001b[38;5;124m\"\u001b[39m\u001b[38;5;124mtripIndex\u001b[39m\u001b[38;5;124m\"\u001b[39m] \u001b[38;5;241m=\u001b[39m \u001b[43meventsSF\u001b[49m\u001b[38;5;241;43m.\u001b[39;49m\u001b[43mtripId\u001b[49m\u001b[38;5;241m.\u001b[39mfillna(method\u001b[38;5;241m=\u001b[39m\u001b[38;5;124m'\u001b[39m\u001b[38;5;124mffill\u001b[39m\u001b[38;5;124m'\u001b[39m)\n",
      "File \u001b[1;32m~\\.conda\\envs\\geo_env\\lib\\site-packages\\pandas\\core\\generic.py:5575\u001b[0m, in \u001b[0;36mNDFrame.__getattr__\u001b[1;34m(self, name)\u001b[0m\n\u001b[0;32m   5568\u001b[0m \u001b[38;5;28;01mif\u001b[39;00m (\n\u001b[0;32m   5569\u001b[0m     name \u001b[38;5;129;01mnot\u001b[39;00m \u001b[38;5;129;01min\u001b[39;00m \u001b[38;5;28mself\u001b[39m\u001b[38;5;241m.\u001b[39m_internal_names_set\n\u001b[0;32m   5570\u001b[0m     \u001b[38;5;129;01mand\u001b[39;00m name \u001b[38;5;129;01mnot\u001b[39;00m \u001b[38;5;129;01min\u001b[39;00m \u001b[38;5;28mself\u001b[39m\u001b[38;5;241m.\u001b[39m_metadata\n\u001b[0;32m   5571\u001b[0m     \u001b[38;5;129;01mand\u001b[39;00m name \u001b[38;5;129;01mnot\u001b[39;00m \u001b[38;5;129;01min\u001b[39;00m \u001b[38;5;28mself\u001b[39m\u001b[38;5;241m.\u001b[39m_accessors\n\u001b[0;32m   5572\u001b[0m     \u001b[38;5;129;01mand\u001b[39;00m \u001b[38;5;28mself\u001b[39m\u001b[38;5;241m.\u001b[39m_info_axis\u001b[38;5;241m.\u001b[39m_can_hold_identifiers_and_holds_name(name)\n\u001b[0;32m   5573\u001b[0m ):\n\u001b[0;32m   5574\u001b[0m     \u001b[38;5;28;01mreturn\u001b[39;00m \u001b[38;5;28mself\u001b[39m[name]\n\u001b[1;32m-> 5575\u001b[0m \u001b[38;5;28;01mreturn\u001b[39;00m \u001b[38;5;28;43mobject\u001b[39;49m\u001b[38;5;241;43m.\u001b[39;49m\u001b[38;5;21;43m__getattribute__\u001b[39;49m\u001b[43m(\u001b[49m\u001b[38;5;28;43mself\u001b[39;49m\u001b[43m,\u001b[49m\u001b[43m \u001b[49m\u001b[43mname\u001b[49m\u001b[43m)\u001b[49m\n",
      "\u001b[1;31mAttributeError\u001b[0m: 'DataFrame' object has no attribute 'tripId'"
     ]
    }
   ],
   "source": [
    "eventsSF[\"tripIndex\"] = eventsSF.tripId.fillna(method='ffill')"
   ]
  },
  {
   "cell_type": "code",
   "execution_count": null,
   "id": "0db85e02",
   "metadata": {},
   "outputs": [],
   "source": []
  }
 ],
 "metadata": {
  "kernelspec": {
   "display_name": "Python 3 (ipykernel)",
   "language": "python",
   "name": "python3"
  },
  "language_info": {
   "codemirror_mode": {
    "name": "ipython",
    "version": 3
   },
   "file_extension": ".py",
   "mimetype": "text/x-python",
   "name": "python",
   "nbconvert_exporter": "python",
   "pygments_lexer": "ipython3",
   "version": "3.9.7"
  }
 },
 "nbformat": 4,
 "nbformat_minor": 5
}
