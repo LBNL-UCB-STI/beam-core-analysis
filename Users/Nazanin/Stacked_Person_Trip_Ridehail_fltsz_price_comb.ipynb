{
 "cells": [
  {
   "cell_type": "code",
   "execution_count": 1,
   "id": "c0f71a2c",
   "metadata": {},
   "outputs": [],
   "source": [
    "import os\n",
    "import os.path as op\n",
    "import numpy as np\n",
    "import pandas as pd\n",
    "import matplotlib.pyplot as plt\n",
    "import matplotlib.colors as mcolors\n",
    "%matplotlib inline\n",
    "import seaborn as sns\n",
    "sns.set_theme(style=\"darkgrid\", color_codes=True)\n",
    "sns.set(font_scale=1.35, style=\"ticks\") #set styling preferences\n",
    "import statsmodels.api as sm\n",
    "from scipy import stats\n",
    "import math\n",
    "from math import pi\n",
    "from pandas.api.types import is_string_dtype\n",
    "from pandas.api.types import is_numeric_dtype\n",
    "from scipy.spatial.distance import cdist\n",
    "from scipy.cluster.vq import kmeans2,vq, whiten\n",
    "import geopandas as gpd\n",
    "import h5py\n",
    "import boto.s3\n",
    "import glob\n",
    "import boto3\n",
    "from zipfile import ZipFile\n",
    "import shutil"
   ]
  },
  {
   "cell_type": "code",
   "execution_count": 2,
   "id": "1c4d781d",
   "metadata": {},
   "outputs": [],
   "source": [
    "# Show all columns and rows\n",
    "pd.options.display.max_columns = None\n",
    "pd.options.display.max_rows = None"
   ]
  },
  {
   "cell_type": "markdown",
   "id": "cd2c6de5",
   "metadata": {},
   "source": [
    "#### Baseline"
   ]
  },
  {
   "cell_type": "code",
   "execution_count": 8,
   "id": "82484592",
   "metadata": {},
   "outputs": [
    {
     "name": "stderr",
     "output_type": "stream",
     "text": [
      "<timed exec>:4: DtypeWarning: Columns (27,77,133,134,135,136,137,138,139,140,141,142,143,144,145,146,147,148,149,150,151,153,162,167,169,170,171,172,174,175,232,233,234,235,244) have mixed types. Specify dtype option on import or set low_memory=False.\n"
     ]
    },
    {
     "name": "stdout",
     "output_type": "stream",
     "text": [
      "CPU times: total: 1min 39s\n",
      "Wall time: 1min 39s\n"
     ]
    }
   ],
   "source": [
    "%%time\n",
    "s3 = boto3.client(\"s3\")\n",
    "key = \"pilates-outputs/sfbay_baseline_20230209/inexus/sfbay_baselineJan2023_Baseline-0_2020__20230209.csv.gz\"  #the path should be updated\n",
    "obj = s3.get_object(Bucket=\"beam-outputs\", Key=key)\n",
    "sfbase = pd.read_csv(obj['Body'], compression = 'gzip',index_col='Unnamed: 0')"
   ]
  },
  {
   "cell_type": "code",
   "execution_count": 15,
   "id": "47ab2ad4",
   "metadata": {},
   "outputs": [],
   "source": [
    "# Adding scenario info\n",
    "sfbase['scenario'] = \"baseline\"\n",
    "sfbase['scenario'] = sfbase['scenario'].astype(\"category\")\n",
    "sfbase['lever'] = \"default\"\n",
    "sfbase['lever'] = sfbase['lever'].astype(\"category\")\n",
    "sfbase['year'] = 2020\n",
    "sfbase['lever_position_fltsz'] = 1\n",
    "sfbase['lever_position_price'] = 1\n",
    "sfbase['lever_n_fleets'] = 2\n",
    "sfbase['fleetsize_uber'] = 0.00287777\n",
    "sfbase['fleetsize_lyft'] = 0.00184043\n",
    "sfbase['fleetsize_cruise'] = 0\n",
    "sfbase['fleetsize_flywheel'] = 0\n",
    "sfbase['fleetsize_waymo'] = 0"
   ]
  },
  {
   "cell_type": "code",
   "execution_count": 10,
   "id": "fe4c1493",
   "metadata": {},
   "outputs": [
    {
     "data": {
      "text/plain": [
       "(21407, 279)"
      ]
     },
     "execution_count": 10,
     "metadata": {},
     "output_type": "execute_result"
    }
   ],
   "source": [
    "sfbase[sfbase['person_sex'].isna()].shape"
   ]
  },
  {
   "cell_type": "code",
   "execution_count": 11,
   "id": "61204995",
   "metadata": {},
   "outputs": [],
   "source": [
    "#baseline2018 = \"https://beam-core-act.s3.amazonaws.com/beam-outputs/pilates-outputs/sfbay-baseline-20221220/inexus\"\n",
    "#sfbase = pd.read_csv(baseline2018 + 'sfbay_baseline_default-1.0_2012__20221219.csv.gz')"
   ]
  },
  {
   "cell_type": "code",
   "execution_count": 12,
   "id": "f43e2823",
   "metadata": {},
   "outputs": [],
   "source": [
    "# Showing the entire number in dataframe\n",
    "pd.set_option('float_format', '{:f}'.format)"
   ]
  },
  {
   "cell_type": "code",
   "execution_count": 8,
   "id": "5e55a558",
   "metadata": {},
   "outputs": [],
   "source": [
    "#describe = sfbase.describe()"
   ]
  },
  {
   "cell_type": "code",
   "execution_count": 9,
   "id": "2c224a67",
   "metadata": {},
   "outputs": [],
   "source": [
    "#describe.to_csv('C:/Shared-Work/Data/CleanData/ASIM_BEAM_Merged/describe.csv')"
   ]
  },
  {
   "cell_type": "markdown",
   "id": "71810912",
   "metadata": {},
   "source": [
    "#### Ridehail Fleet Size Scenarios"
   ]
  },
  {
   "cell_type": "code",
   "execution_count": 13,
   "id": "ee819272",
   "metadata": {},
   "outputs": [
    {
     "name": "stderr",
     "output_type": "stream",
     "text": [
      "<timed exec>:3: DtypeWarning: Columns (27,77,133,134,135,136,137,138,139,140,141,142,143,144,145,146,147,148,149,150,151,153,162,167,169,170,171,172,174,175,232,233,234,235,244) have mixed types. Specify dtype option on import or set low_memory=False.\n"
     ]
    },
    {
     "name": "stdout",
     "output_type": "stream",
     "text": [
      "CPU times: total: 1min 52s\n",
      "Wall time: 1min 52s\n"
     ]
    }
   ],
   "source": [
    "%%time\n",
    "key = \"pilates-outputs/sfbay_5fleets_100price_100fleet_20230209/inexus/sfbay_5_fleets_scenario_fleet_size-100_2020__20230209.csv.gz\"  #the path should be updated\n",
    "obj = s3.get_object(Bucket=\"beam-outputs\", Key=key)\n",
    "sf_rh_5flt_1 = pd.read_csv(obj['Body'], compression = 'gzip',index_col='Unnamed: 0')"
   ]
  },
  {
   "cell_type": "code",
   "execution_count": 16,
   "id": "6dc4d0db",
   "metadata": {},
   "outputs": [
    {
     "data": {
      "text/plain": [
       "(21150, 269)"
      ]
     },
     "execution_count": 16,
     "metadata": {},
     "output_type": "execute_result"
    }
   ],
   "source": [
    "sf_rh_5flt_1[sf_rh_5flt_1['trip_mode_AS_trips'].isna()].shape"
   ]
  },
  {
   "cell_type": "code",
   "execution_count": 21,
   "id": "23d634d2",
   "metadata": {},
   "outputs": [],
   "source": [
    "# Adding scenario info\n",
    "sf_rh_5flt_1['scenario'] = \"ridehail\"\n",
    "sf_rh_5flt_1['scenario'] = sf_rh_5flt_1['scenario'].astype(\"category\")\n",
    "sf_rh_5flt_1['lever'] = \"fleet_size_price_comb\"\n",
    "sf_rh_5flt_1['lever'] = sf_rh_5flt_1['lever'].astype(\"category\")\n",
    "sf_rh_5flt_1['year'] = 2020\n",
    "sf_rh_5flt_1['lever_position_fltsz'] = 1\n",
    "sf_rh_5flt_1['lever_position_price'] = 1\n",
    "sf_rh_5flt_1['lever_n_fleets'] = 5\n",
    "sf_rh_5flt_1['fleetsize_uber'] = 0.00175524\n",
    "sf_rh_5flt_1['fleetsize_lyft'] = 0.00112253\n",
    "sf_rh_5flt_1['fleetsize_cruise'] = 0.00092022\n",
    "sf_rh_5flt_1['fleetsize_flywheel'] = 0.00061348\n",
    "sf_rh_5flt_1['fleetsize_waymo'] = 0.00030674"
   ]
  },
  {
   "cell_type": "code",
   "execution_count": 18,
   "id": "68c491ef",
   "metadata": {},
   "outputs": [
    {
     "name": "stderr",
     "output_type": "stream",
     "text": [
      "<timed exec>:3: DtypeWarning: Columns (27,77,133,134,135,136,137,138,139,140,141,142,143,144,145,146,147,148,149,150,151,153,162,167,169,170,171,172,174,175,232,233,234,235,244) have mixed types. Specify dtype option on import or set low_memory=False.\n"
     ]
    },
    {
     "name": "stdout",
     "output_type": "stream",
     "text": [
      "CPU times: total: 2min 5s\n",
      "Wall time: 2min 5s\n"
     ]
    }
   ],
   "source": [
    "%%time\n",
    "key = \"pilates-outputs/sfbay_5fleets_100price_164fleet_20230209/inexus/sfbay_5_fleets_scenario_fleet_size-164_2020__20230209.csv.gz\"  #the path should be updated\n",
    "obj = s3.get_object(Bucket=\"beam-outputs\", Key=key)\n",
    "sf_rh_5flt_1p64 = pd.read_csv(obj['Body'], compression = 'gzip',index_col='Unnamed: 0')"
   ]
  },
  {
   "cell_type": "code",
   "execution_count": 22,
   "id": "bfa66f8b",
   "metadata": {},
   "outputs": [],
   "source": [
    "# Adding scenario info\n",
    "sf_rh_5flt_1p64['scenario'] = \"ridehail\"\n",
    "sf_rh_5flt_1p64['scenario'] = sf_rh_5flt_1p64['scenario'].astype(\"category\")\n",
    "sf_rh_5flt_1p64['lever'] = \"fleet_size_price_comb\"\n",
    "sf_rh_5flt_1p64['lever'] = sf_rh_5flt_1p64['lever'].astype(\"category\")\n",
    "sf_rh_5flt_1p64['year'] = 2020\n",
    "sf_rh_5flt_1p64['lever_position_fltsz'] = 1.64\n",
    "sf_rh_5flt_1p64['lever_position_price'] = 1\n",
    "sf_rh_5flt_1p64['lever_n_fleets'] = 5\n",
    "sf_rh_5flt_1p64['fleetsize_uber'] = 0.00287777\n",
    "sf_rh_5flt_1p64['fleetsize_lyft'] = 0.00184043\n",
    "sf_rh_5flt_1p64['fleetsize_cruise'] = 0.00150873\n",
    "sf_rh_5flt_1p64['fleetsize_flywheel'] = 0.00100582\n",
    "sf_rh_5flt_1p64['fleetsize_waymo'] = 0.00050291"
   ]
  },
  {
   "cell_type": "code",
   "execution_count": 20,
   "id": "267a7cbf",
   "metadata": {},
   "outputs": [
    {
     "name": "stderr",
     "output_type": "stream",
     "text": [
      "<timed exec>:3: DtypeWarning: Columns (27,77,133,134,135,136,137,138,139,140,141,142,143,144,145,146,147,148,149,150,151,153,162,167,169,170,171,172,174,175,232,233,234,235,244) have mixed types. Specify dtype option on import or set low_memory=False.\n"
     ]
    },
    {
     "name": "stdout",
     "output_type": "stream",
     "text": [
      "CPU times: total: 2min 13s\n",
      "Wall time: 2min 14s\n"
     ]
    }
   ],
   "source": [
    "%%time\n",
    "key = \"pilates-outputs/sfbay_5fleets_100price_200fleet_20230209/inexus/sfbay_5_fleets_scenario_fleet_size-200_2020__20230209.csv.gz\"  #the path should be updated\n",
    "obj = s3.get_object(Bucket=\"beam-outputs\", Key=key)\n",
    "sf_rh_5flt_2 = pd.read_csv(obj['Body'], compression = 'gzip',index_col='Unnamed: 0')"
   ]
  },
  {
   "cell_type": "code",
   "execution_count": 23,
   "id": "886c7d7c",
   "metadata": {},
   "outputs": [],
   "source": [
    "# Adding scenario info\n",
    "sf_rh_5flt_2['scenario'] = \"ridehail\"\n",
    "sf_rh_5flt_2['scenario'] = sf_rh_5flt_2['scenario'].astype(\"category\")\n",
    "sf_rh_5flt_2['lever'] = \"fleet_size_price_comb\"\n",
    "sf_rh_5flt_2['lever'] = sf_rh_5flt_2['lever'].astype(\"category\")\n",
    "sf_rh_5flt_2['year'] = 2020\n",
    "sf_rh_5flt_2['lever_position_fltsz'] = 2\n",
    "sf_rh_5flt_2['lever_position_price'] = 1\n",
    "sf_rh_5flt_2['lever_n_fleets'] = 5\n",
    "sf_rh_5flt_2['fleetsize_uber'] = 0.00351047\n",
    "sf_rh_5flt_2['fleetsize_lyft'] = 0.00224507\n",
    "sf_rh_5flt_2['fleetsize_cruise'] = 0.00184043\n",
    "sf_rh_5flt_2['fleetsize_flywheel'] = 0.00122696\n",
    "sf_rh_5flt_2['fleetsize_waymo'] = 0.00061348"
   ]
  },
  {
   "cell_type": "code",
   "execution_count": 13,
   "id": "4dd80446",
   "metadata": {},
   "outputs": [
    {
     "name": "stderr",
     "output_type": "stream",
     "text": [
      "<timed exec>:3: DtypeWarning: Columns (27,77,133,134,135,136,137,138,139,140,141,142,143,144,145,146,147,148,149,150,151,153,162,167,169,170,171,172,174,175,232,233,234,235,244) have mixed types. Specify dtype option on import or set low_memory=False.\n"
     ]
    },
    {
     "name": "stdout",
     "output_type": "stream",
     "text": [
      "CPU times: total: 2min 7s\n",
      "Wall time: 2min 8s\n"
     ]
    }
   ],
   "source": [
    "%%time\n",
    "key = \"pilates-outputs/.............../inexus/...............\"  #the path should be updated\n",
    "obj = s3.get_object(Bucket=\"beam-outputs\", Key=key)\n",
    "sf_rh_5flt_4 = pd.read_csv(obj['Body'], compression = 'gzip',index_col='Unnamed: 0')"
   ]
  },
  {
   "cell_type": "code",
   "execution_count": 16,
   "id": "b25b633b",
   "metadata": {},
   "outputs": [],
   "source": [
    "# Adding scenario info\n",
    "sf_rh_5flt_4['scenario'] = \"ridehail\"\n",
    "sf_rh_5flt_4['scenario'] = sf_rh_5flt_4['scenario'].astype(\"category\")\n",
    "sf_rh_5flt_4['lever'] = \"fleet_size_price_comb\"\n",
    "sf_rh_5flt_4['lever'] = sf_rh_5flt_4['lever'].astype(\"category\")\n",
    "sf_rh_5flt_4['year'] = 2020\n",
    "sf_rh_5flt_4['lever_position_fltsz'] = 4\n",
    "sf_rh_5flt_4['lever_position_price'] = 1\n",
    "sf_rh_5flt_4['lever_n_fleets'] = 5\n",
    "sf_rh_5flt_4['fleetsize_uber'] = 0.00702094\n",
    "sf_rh_5flt_4['fleetsize_lyft'] = 0.00449014\n",
    "sf_rh_5flt_4['fleetsize_cruise'] = 0.00368087\n",
    "sf_rh_5flt_4['fleetsize_flywheel'] = 0.00245391\n",
    "sf_rh_5flt_4['fleetsize_waymo'] = 0.00122696"
   ]
  },
  {
   "cell_type": "code",
   "execution_count": 24,
   "id": "c3a6cf42",
   "metadata": {},
   "outputs": [
    {
     "name": "stderr",
     "output_type": "stream",
     "text": [
      "<timed exec>:3: DtypeWarning: Columns (27,77,133,134,135,136,137,138,139,140,141,142,143,144,145,146,147,148,149,150,151,153,162,167,169,170,171,172,174,175,232,233,234,235,244) have mixed types. Specify dtype option on import or set low_memory=False.\n"
     ]
    },
    {
     "name": "stdout",
     "output_type": "stream",
     "text": [
      "CPU times: total: 2min 21s\n",
      "Wall time: 2min 21s\n"
     ]
    }
   ],
   "source": [
    "%%time\n",
    "key = \"pilates-outputs/sfbay_5fleets_100price_1000fleet_20230209/inexus/sfbay_5_fleets_scenario_fleet_size-1000_2020__20230209.csv.gz\"  #the path should be updated\n",
    "obj = s3.get_object(Bucket=\"beam-outputs\", Key=key)\n",
    "sf_rh_5flt_10 = pd.read_csv(obj['Body'], compression = 'gzip',index_col='Unnamed: 0')"
   ]
  },
  {
   "cell_type": "code",
   "execution_count": 25,
   "id": "a9786a9d",
   "metadata": {},
   "outputs": [],
   "source": [
    "# Adding scenario info\n",
    "sf_rh_5flt_10['scenario'] = \"ridehail\"\n",
    "sf_rh_5flt_10['scenario'] = sf_rh_5flt_10['scenario'].astype(\"category\")\n",
    "sf_rh_5flt_10['lever'] = \"fleet_size_price_comb\"\n",
    "sf_rh_5flt_10['lever'] = sf_rh_5flt_10['lever'].astype(\"category\")\n",
    "sf_rh_5flt_10['year'] = 2020\n",
    "sf_rh_5flt_10['lever_position_fltsz'] = 10\n",
    "sf_rh_5flt_10['lever_position_price'] = 1\n",
    "sf_rh_5flt_10['lever_n_fleets'] = 5\n",
    "sf_rh_5flt_10['fleetsize_uber'] = 0.01755235\n",
    "sf_rh_5flt_10['fleetsize_lyft'] = 0.01122534\n",
    "sf_rh_5flt_10['fleetsize_cruise'] = 0.00920217\n",
    "sf_rh_5flt_10['fleetsize_flywheel'] = 0.00613478\n",
    "sf_rh_5flt_10['fleetsize_waymo'] = 0.00306739"
   ]
  },
  {
   "cell_type": "code",
   "execution_count": 26,
   "id": "8f37acdc",
   "metadata": {},
   "outputs": [],
   "source": [
    "frames = [sfbase, sf_rh_5flt_1, sf_rh_5flt_1p64, sf_rh_5flt_2,\n",
    "          sf_rh_5flt_10]\n",
    "sf_stacked = pd.concat(frames)"
   ]
  },
  {
   "cell_type": "code",
   "execution_count": 27,
   "id": "999f6040",
   "metadata": {},
   "outputs": [],
   "source": [
    "sf_stacked = sf_stacked.drop(['has_school_kid','has_preschool_kid','has_retiree','has_non_worker','adult','hispanic','relate',\n",
    "                             'pstudent','pemploy','ptype','p_hispanic','age_16_p','age_16_to_19',\n",
    "                             'person_age','MAR','hours','hispanic.1','student',\n",
    "                             'worker','stop_frequency','composition','tdd','number_of_participants','tour_type_count',\n",
    "                             'tour_type_num','tour_num','tour_count', 'outbound', 'trip_num','num_under16_not_at_school',\n",
    "                             'family','non_family','num_young_adults','num_college_age','num_children_16_to_17',\n",
    "                              'num_children_5_to_15','num_young_children'], axis=1)"
   ]
  },
  {
   "cell_type": "code",
   "execution_count": 28,
   "id": "ba8d8c6c",
   "metadata": {},
   "outputs": [],
   "source": [
    "sf_stacked = sf_stacked.drop(['vehicleIds_estimate','parent_tour_id','atwork_subtour_frequency','household_id_y',\n",
    "                              'male','female', 'has_driving_kid','has_full_time','has_part_time',\n",
    "                              'has_university','student_is_employed', 'nonstudent_to_school', 'is_student','is_gradeschool',\n",
    "                              'is_gradeschool','is_highschool','is_university','school_segment','is_worker',  \n",
    "                              'distance_to_school','roundtrip_auto_time_to_school',\n",
    "                              'distance_to_work','workplace_in_cbd', 'work_taz_area_type', 'hh_race_of_head',\n",
    "                             'roundtrip_auto_time_to_work','work_auto_savings_ratio','cdap_activity', 'travel_active', \n",
    "                              'under16_not_at_school','has_preschool_kid_at_home', 'gt2','hispanic_head',\n",
    "                             'has_school_kid_at_home','work_and_school_and_worker', 'age_of_head', 'race_of_head',\n",
    "                              'work_and_school_and_student', 'VEHICL','hh_children','hh_age_of_head','num_workers',\n",
    "                              'gt55','seniors', 'recent_mover', 'hh_workers', 'hispanic_status_of_head', 'hh_seniors', \n",
    "                             'hh_type', 'HHT', 'sample_rate', 'chunk_id', 'income_segment', 'num_non_workers', \n",
    "                             'num_drivers', 'num_adults', 'num_children', 'hh_work_auto_savings_ratio', 'num_travel_active', \n",
    "                             'num_travel_active_adults','num_travel_active_preschoolers', 'num_travel_active_children', \n",
    "                              'num_travel_active_non_preschoolers', 'participates_in_jtf_model', 'joint_tour_frequency',\n",
    "                              'num_hh_joint_tours'], axis=1)"
   ]
  },
  {
   "cell_type": "code",
   "execution_count": 29,
   "id": "8d1c6b28",
   "metadata": {},
   "outputs": [],
   "source": [
    "sf_stacked = sf_stacked.drop(['serialno'], axis=1)"
   ]
  },
  {
   "cell_type": "markdown",
   "id": "d4867114",
   "metadata": {},
   "source": [
    "#### Stacked File"
   ]
  },
  {
   "cell_type": "code",
   "execution_count": 30,
   "id": "9c0e0def",
   "metadata": {},
   "outputs": [],
   "source": [
    "#stacked_tr_fr_path = \"https://beam-core-act.s3.amazonaws.com/deepDive/CleanData/SanFrancisco/Stacked/\"\n",
    "#sf_stacked_tr_fr = pd.read_csv(stacked_tr_fr_path + 'sf_2018_stacked_tr_fr.csv')"
   ]
  },
  {
   "cell_type": "code",
   "execution_count": 31,
   "id": "8b7d1452",
   "metadata": {},
   "outputs": [],
   "source": [
    "sf_stacked = sf_stacked.sort_values(by=['IDMerged', 'tripIndex', 'lever_position_fltsz']).reset_index(drop=True)"
   ]
  },
  {
   "cell_type": "code",
   "execution_count": 32,
   "id": "508b76a9",
   "metadata": {},
   "outputs": [],
   "source": [
    "# shift column 'person' to first position\n",
    "#first_column = sf_stacked.pop('scenario')\n",
    "#second_column = sf_stacked.pop('lever')\n",
    "#third_column = sf_stacked.pop('lever_position')\n",
    "#fourth_column = sf_stacked.pop('logsum_trip_mode_AS_trips')\n",
    "# insert column using insert(position,column_name,first_column) function\n",
    "#sf_stacked.insert(2, 'scenario', first_column)\n",
    "#sf_stacked.insert(3, 'lever', second_column)\n",
    "#sf_stacked.insert(4, 'lever_position', third_column)\n",
    "#sf_stacked.insert(5, 'logsum_trip_mode_AS_trips', fourth_column)"
   ]
  },
  {
   "cell_type": "code",
   "execution_count": 36,
   "id": "e0b1b815",
   "metadata": {},
   "outputs": [],
   "source": [
    "# Adding Price lever position\n",
    "#conditions  = [(sf_stacked['lever_position'] == 0.125),\n",
    "#               (sf_stacked['lever_position'] == 0.25),\n",
    "#               (sf_stacked['lever_position'] == 0.5),\n",
    "#               (sf_stacked['lever_position'] == 1),\n",
    "#               (sf_stacked['lever_position'] == 2),\n",
    "#               (sf_stacked['lever_position'] == 4),\n",
    "#               (sf_stacked['lever_position'] == 10),\n",
    "#               (sf_stacked['lever_position'] == 27.5)]\n",
    "#\n",
    "#choices = [0.125, 0.25, 0.5, 1, 2, 4, 10, 27.5]"
   ]
  },
  {
   "cell_type": "code",
   "execution_count": 37,
   "id": "b23249d2",
   "metadata": {},
   "outputs": [],
   "source": [
    "#sf_stacked['lever_position_fleetsize'] = np.select(conditions, choices, default=np.nan)"
   ]
  },
  {
   "cell_type": "code",
   "execution_count": 38,
   "id": "f70826d1",
   "metadata": {},
   "outputs": [],
   "source": [
    "#sf_stacked['lever_position_price'] = 1"
   ]
  },
  {
   "cell_type": "code",
   "execution_count": 39,
   "id": "1afdc247",
   "metadata": {},
   "outputs": [],
   "source": [
    "#sf_stacked_tr_fr['logsum_relative_to_baseline'] = sf_stacked_tr_fr.groupby(['IDMerged','tripIndex'])['logsum_trip_mode_AS_trips'].apply(lambda x: x.diff())"
   ]
  },
  {
   "cell_type": "code",
   "execution_count": 40,
   "id": "68d6a4de",
   "metadata": {},
   "outputs": [],
   "source": [
    "#sf_stacked_tr_fr['logsum_relative_to_baseline'] = sf_stacked_tr_fr['logsum_trip_mode_AS_trips'] - sf_stacked_tr_fr.loc[sf_stacked_tr_fr.groupby(['IDMerged','tripIndex'])['lever_position'].transform('idxmin'), 'logsum_trip_mode_AS_trips'].values"
   ]
  },
  {
   "cell_type": "code",
   "execution_count": 37,
   "id": "2b7802f6",
   "metadata": {},
   "outputs": [
    {
     "name": "stdout",
     "output_type": "stream",
     "text": [
      "CPU times: total: 3.72 s\n",
      "Wall time: 3.5 s\n"
     ]
    }
   ],
   "source": [
    "%%time\n",
    "sf_stacked['logsum_relative_to_baseline'] = sf_stacked['logsum_trip_Potential_INEXUS'] - (sf_stacked['logsum_trip_Potential_INEXUS'].where((sf_stacked['lever_position_fltsz'].eq(1.0)) & (sf_stacked['lever_n_fleets'] == 2))\n",
    "                                                                                          .groupby([sf_stacked['IDMerged'] , sf_stacked['tripIndex']])\n",
    "                                                                                          .transform('first')\n",
    "                                                                                          .convert_dtypes())"
   ]
  },
  {
   "cell_type": "code",
   "execution_count": 38,
   "id": "2c4e35a6",
   "metadata": {},
   "outputs": [],
   "source": [
    "sf_stacked['door_to_door_time_relative_to_baseline'] = sf_stacked['duration_door_to_door'] - (sf_stacked['duration_door_to_door'].where((sf_stacked['lever_position_fltsz'].eq(1.0)) & (sf_stacked['lever_n_fleets'] == 2))\n",
    "                                                                                          .groupby([sf_stacked['IDMerged'] , sf_stacked['tripIndex']])\n",
    "                                                                                          .transform('first')\n",
    "                                                                                          .convert_dtypes())"
   ]
  },
  {
   "cell_type": "code",
   "execution_count": 39,
   "id": "4a4453b5",
   "metadata": {},
   "outputs": [],
   "source": [
    "# Drop unused columns\n",
    "sf_stacked = sf_stacked.drop(['sf_detached', 'household_id_x','destination_logsum_y','logsum_tours_mode_AS_tours',\n",
    "                              'primary_purpose_y','PNUM','work_auto_savings','mandatory_tour_frequency'], axis=1)"
   ]
  },
  {
   "cell_type": "code",
   "execution_count": 43,
   "id": "476c23f4",
   "metadata": {
    "ExecuteTime": {
     "end_time": "2022-10-07T01:00:55.847360Z",
     "start_time": "2022-10-07T01:00:55.045071Z"
    }
   },
   "outputs": [
    {
     "data": {
      "text/plain": [
       "(119291, 171)"
      ]
     },
     "execution_count": 43,
     "metadata": {},
     "output_type": "execute_result"
    }
   ],
   "source": [
    "sf_stacked[sf_stacked['replanning_status'] > 0].shape"
   ]
  },
  {
   "cell_type": "code",
   "execution_count": 44,
   "id": "0111d8da",
   "metadata": {
    "ExecuteTime": {
     "end_time": "2022-10-07T01:01:09.566750Z",
     "start_time": "2022-10-07T01:01:08.396429Z"
    }
   },
   "outputs": [],
   "source": [
    "# Add the mandatory category column\n",
    "mandatory = ['work' , 'univ', 'school']\n",
    "sf_stacked['mandatoryCat'] = np.where((sf_stacked.actEndType.isin(mandatory)) & (sf_stacked.actStartType.isin(mandatory)), 'from_M_to_M' , None)"
   ]
  },
  {
   "cell_type": "code",
   "execution_count": 45,
   "id": "4ef447dd",
   "metadata": {
    "ExecuteTime": {
     "end_time": "2022-10-07T01:01:11.980472Z",
     "start_time": "2022-10-07T01:01:10.667391Z"
    }
   },
   "outputs": [],
   "source": [
    "sf_stacked['mandatoryCat'] = np.where((sf_stacked.actEndType == 'Home') & (sf_stacked.actStartType.isin(mandatory)), 'from_H_to_M' , sf_stacked['mandatoryCat'])"
   ]
  },
  {
   "cell_type": "code",
   "execution_count": 46,
   "id": "11c74ce2",
   "metadata": {
    "ExecuteTime": {
     "end_time": "2022-10-07T01:01:15.207664Z",
     "start_time": "2022-10-07T01:01:13.883857Z"
    }
   },
   "outputs": [],
   "source": [
    "sf_stacked['mandatoryCat'] = np.where((sf_stacked.actEndType.isin(mandatory)) & (sf_stacked.actStartType == \"Home\"), 'from_M_to_H' , sf_stacked['mandatoryCat'])"
   ]
  },
  {
   "cell_type": "code",
   "execution_count": 47,
   "id": "714163d9",
   "metadata": {
    "ExecuteTime": {
     "start_time": "2022-10-07T01:01:20.650Z"
    }
   },
   "outputs": [],
   "source": [
    "non_mandatory = ['othmaint' , 'othdiscr', 'escort', 'eatout', 'social', 'shopping', 'atwork']\n",
    "sf_stacked['mandatoryCat'] = np.where((sf_stacked.actEndType.isin(non_mandatory)) & (sf_stacked.actStartType.isin(non_mandatory)), 'from_N_to_N' , sf_stacked['mandatoryCat'])"
   ]
  },
  {
   "cell_type": "code",
   "execution_count": 48,
   "id": "7e184487",
   "metadata": {},
   "outputs": [],
   "source": [
    "# Drop unused columns\n",
    "sf_stacked = sf_stacked.drop(['num_work_tours','num_joint_tours', 'non_mandatory_tour_frequency',\n",
    "                                          'num_non_mand','num_escort_tours','num_eatout_tours','num_shop_tours',\n",
    "                                          'num_maint_tours','num_discr_tours','num_social_tours','num_non_escort_tours'], axis=1)"
   ]
  },
  {
   "cell_type": "code",
   "execution_count": 53,
   "id": "a747eb02",
   "metadata": {},
   "outputs": [],
   "source": [
    "#sf_stacked[sf_stacked['Realized_INEXUS'].isna()].head(10000).to_csv('C:/Shared-Work/Data/CleanData/ASIM_BEAM_Merged/realizedIN_empty.csv', index = False)"
   ]
  },
  {
   "cell_type": "code",
   "execution_count": 54,
   "id": "56093393",
   "metadata": {},
   "outputs": [],
   "source": [
    "#%%time\n",
    "#sf_stacked_tr_fr.to_csv('s3://beam-core-act/deepDive/CleanData/SanFrancisco/Stacked/sf_2018_stacked_tr_fr_v3.csv', index=False)"
   ]
  },
  {
   "cell_type": "code",
   "execution_count": 53,
   "id": "45ed6cef",
   "metadata": {},
   "outputs": [
    {
     "data": {
      "text/plain": [
       "(0, 161)"
      ]
     },
     "execution_count": 53,
     "metadata": {},
     "output_type": "execute_result"
    }
   ],
   "source": [
    "sf_stacked[sf_stacked['SHARED3FREE'].isna()].shape"
   ]
  },
  {
   "cell_type": "code",
   "execution_count": 51,
   "id": "698ee745",
   "metadata": {},
   "outputs": [],
   "source": [
    "sf_stacked = sf_stacked[sf_stacked['person_sex'].notna()]"
   ]
  },
  {
   "cell_type": "code",
   "execution_count": 67,
   "id": "86d28cc0",
   "metadata": {},
   "outputs": [],
   "source": [
    "# Mapping BEAM and ASIM modes\n",
    "conditions  = [(sf_stacked['mode_choice_actual_BEAM'] == 'walk')&(sf_stacked['trip_mode_AS_trips'] == 'WALK'),\n",
    "               (sf_stacked['mode_choice_actual_BEAM'] == 'bike')&(sf_stacked['trip_mode_AS_trips'] == 'BIKE'),\n",
    "               (sf_stacked['mode_choice_actual_BEAM'] == 'hov3_teleportation')&(sf_stacked['trip_mode_AS_trips'] == 'SHARED3FREE'),\n",
    "               (sf_stacked['mode_choice_actual_BEAM'] == 'hov3_teleportation')&(sf_stacked['trip_mode_AS_trips'] == 'SHARED3PAY'),\n",
    "               (sf_stacked['mode_choice_actual_BEAM'] == 'car_hov3')&(sf_stacked['trip_mode_AS_trips'] == 'SHARED3FREE'),\n",
    "               (sf_stacked['mode_choice_actual_BEAM'] == 'car_hov3')&(sf_stacked['trip_mode_AS_trips'] == 'SHARED3PAY'),\n",
    "               (sf_stacked['mode_choice_actual_BEAM'] == 'hov2_teleportation')&(sf_stacked['trip_mode_AS_trips'] == 'SHARED2FREE'),\n",
    "               (sf_stacked['mode_choice_actual_BEAM'] == 'hov2_teleportation')&(sf_stacked['trip_mode_AS_trips'] == 'SHARED2PAY'),\n",
    "               (sf_stacked['mode_choice_actual_BEAM'] == 'car_hov2')&(sf_stacked['trip_mode_AS_trips'] == 'SHARED2PAY'),\n",
    "               (sf_stacked['mode_choice_actual_BEAM'] == 'car_hov2')&(sf_stacked['trip_mode_AS_trips'] == 'SHARED2FREE'),\n",
    "               (sf_stacked['mode_choice_actual_BEAM'] == 'car')&(sf_stacked['trip_mode_AS_trips'] == 'DRIVEALONEFREE'),\n",
    "               (sf_stacked['mode_choice_actual_BEAM'] == 'car')&(sf_stacked['trip_mode_AS_trips'] == 'DRIVEALONEPAY'),\n",
    "               (sf_stacked['mode_choice_actual_BEAM'] == 'walk_transit')&(sf_stacked['trip_mode_AS_trips'] == 'WALK_LRF'),\n",
    "               (sf_stacked['mode_choice_actual_BEAM'] == 'walk_transit')&(sf_stacked['trip_mode_AS_trips'] == 'WALK_LOC'),\n",
    "               (sf_stacked['mode_choice_actual_BEAM'] == 'walk_transit')&(sf_stacked['trip_mode_AS_trips'] == 'WALK_EXP'),\n",
    "               (sf_stacked['mode_choice_actual_BEAM'] == 'walk_transit')&(sf_stacked['trip_mode_AS_trips'] == 'WALK_HVY'),\n",
    "               (sf_stacked['mode_choice_actual_BEAM'] == 'walk_transit')&(sf_stacked['trip_mode_AS_trips'] == 'WALK_COM'),\n",
    "               (sf_stacked['mode_choice_actual_BEAM'] == 'ride_hail')&(sf_stacked['trip_mode_AS_trips'] == 'TNC_SINGLE'),\n",
    "               (sf_stacked['mode_choice_actual_BEAM'] == 'ride_hail')&(sf_stacked['trip_mode_AS_trips'] == 'TNC_SHARED'),\n",
    "               (sf_stacked['mode_choice_actual_BEAM'] == 'ride_hail')&(sf_stacked['trip_mode_AS_trips'] == 'TAXI'),\n",
    "               (sf_stacked['mode_choice_actual_BEAM'] == 'drive_transit')&(sf_stacked['trip_mode_AS_trips'] == 'DRIVE_COM'),\n",
    "               (sf_stacked['mode_choice_actual_BEAM'] == 'drive_transit')&(sf_stacked['trip_mode_AS_trips'] == 'DRIVE_LRF'),\n",
    "               (sf_stacked['mode_choice_actual_BEAM'] == 'drive_transit')&(sf_stacked['trip_mode_AS_trips'] == 'DRIVE_LOC'),\n",
    "               (sf_stacked['mode_choice_actual_BEAM'] == 'drive_transit')&(sf_stacked['trip_mode_AS_trips'] == 'DRIVE_EXP'),\n",
    "               (sf_stacked['mode_choice_actual_BEAM'] == 'drive_transit')&(sf_stacked['trip_mode_AS_trips'] == 'DRIVE_HVY'),\n",
    "               (sf_stacked['mode_choice_actual_BEAM'] == 'ride_hail_pooled')&(sf_stacked['trip_mode_AS_trips'] == 'TNC_SINGLE'),\n",
    "               (sf_stacked['mode_choice_actual_BEAM'] == 'ride_hail_pooled')&(sf_stacked['trip_mode_AS_trips'] == 'TNC_SHARED'),\n",
    "               (sf_stacked['mode_choice_actual_BEAM'] == 'ride_hail_pooled')&(sf_stacked['trip_mode_AS_trips'] == 'TAXI'),\n",
    "       \n",
    "               (sf_stacked['mode_choice_actual_BEAM'] == 'hov2_teleportation')&((sf_stacked['trip_mode_AS_trips'] == 'SHARED3FREE')|\n",
    "               (sf_stacked['trip_mode_AS_trips'] == 'SHARED3PAY')|(sf_stacked['trip_mode_AS_trips'] == 'DRIVEALONEFREE')|\n",
    "               (sf_stacked['trip_mode_AS_trips'] == 'DRIVEALONEPAY')),\n",
    "               \n",
    "               (sf_stacked['mode_choice_actual_BEAM'] == 'car_hov2')&((sf_stacked['trip_mode_AS_trips'] == 'SHARED3PAY')|\n",
    "               (sf_stacked['trip_mode_AS_trips'] == 'SHARED3FREE')|(sf_stacked['trip_mode_AS_trips'] == 'DRIVEALONEFREE')|\n",
    "               (sf_stacked['trip_mode_AS_trips'] == 'DRIVEALONEPAY')),\n",
    "               \n",
    "               (sf_stacked['mode_choice_actual_BEAM'] == 'car_hov3')&((sf_stacked['trip_mode_AS_trips'] == 'SHARED2PAY')|\n",
    "               (sf_stacked['trip_mode_AS_trips'] == 'SHARED2FREE')|(sf_stacked['trip_mode_AS_trips'] == 'DRIVEALONEFREE')|\n",
    "               (sf_stacked['trip_mode_AS_trips'] == 'DRIVEALONEPAY')),   \n",
    "               \n",
    "               (sf_stacked['mode_choice_actual_BEAM'] == 'hov3_teleportation')&((sf_stacked['trip_mode_AS_trips'] == 'DRIVEALONEPAY')|\n",
    "               (sf_stacked['trip_mode_AS_trips'] == 'DRIVEALONEFREE')|(sf_stacked['trip_mode_AS_trips'] == 'SHARED2PAY')|(sf_stacked['trip_mode_AS_trips'] == 'SHARED2FREE')),\n",
    "               \n",
    "               (sf_stacked['mode_choice_actual_BEAM'] == 'car')&((sf_stacked['trip_mode_AS_trips'] == 'SHARED3FREE')|(sf_stacked['trip_mode_AS_trips'] == 'SHARED2FREE')|\n",
    "               (sf_stacked['trip_mode_AS_trips'] == 'SHARED3PAY')|(sf_stacked['trip_mode_AS_trips'] == 'SHARED2PAY')|(sf_stacked['trip_mode_AS_trips'] == 'DRIVE_LOC')|\n",
    "               (sf_stacked['trip_mode_AS_trips'] == 'DRIVE_LRF')|(sf_stacked['trip_mode_AS_trips'] == 'DRIVE_EXP')|\n",
    "               (sf_stacked['trip_mode_AS_trips'] == 'DRIVE_HVY')|(sf_stacked['trip_mode_AS_trips'] == 'DRIVE_COM')),\n",
    "               \n",
    "               (sf_stacked['mode_choice_actual_BEAM'] == 'walk')&((sf_stacked['trip_mode_AS_trips'] == 'WALK_LRF')|\n",
    "               (sf_stacked['trip_mode_AS_trips'] == 'WALK_LOC')|(sf_stacked['trip_mode_AS_trips'] == 'WALK_EXP')|\n",
    "               (sf_stacked['trip_mode_AS_trips'] == 'WALK_HVY')|(sf_stacked['trip_mode_AS_trips'] == 'WALK_COM')),\n",
    "               \n",
    "               (sf_stacked['mode_choice_actual_BEAM'] == 'walk_transit')&(sf_stacked['trip_mode_AS_trips'] == 'WALK'),\n",
    "               \n",
    "               ((sf_stacked['mode_choice_actual_BEAM'] == 'ride_hail_pooled')|(sf_stacked['mode_choice_actual_BEAM'] == 'ride_hail'))\n",
    "               &(~((sf_stacked['trip_mode_AS_trips'] == 'TAXI')|(sf_stacked['trip_mode_AS_trips'] == 'TNC_SHARED')|\n",
    "                (sf_stacked['trip_mode_AS_trips'] == 'TNC_SINGLE'))),\n",
    "               \n",
    "               (sf_stacked['mode_choice_actual_BEAM'] == 'walk_transit')&(~((sf_stacked['trip_mode_AS_trips'] == 'WALK_LRF')|\n",
    "               (sf_stacked['trip_mode_AS_trips'] == 'WALK_LOC')|(sf_stacked['trip_mode_AS_trips'] == 'WALK_EXP')|\n",
    "               (sf_stacked['trip_mode_AS_trips'] == 'WALK_HVY')|(sf_stacked['trip_mode_AS_trips'] == 'WALK_COM')|\n",
    "               (sf_stacked['trip_mode_AS_trips'] == 'WALK'))),\n",
    "               \n",
    "               (sf_stacked['mode_choice_actual_BEAM'] == 'bike_transit'),\n",
    "               \n",
    "               (sf_stacked['mode_choice_actual_BEAM'] == 'car')&((sf_stacked['trip_mode_AS_trips'] == 'TNC_SHARED')|\n",
    "               (sf_stacked['trip_mode_AS_trips'] == 'TNC_SINGLE')|(sf_stacked['trip_mode_AS_trips'] == 'TAXI'))]\n",
    " \n",
    "                                                                      \n",
    "                                                                                                                 \n",
    "                                                                      \n",
    "choices = [sf_stacked['WALK'], sf_stacked['BIKE'], sf_stacked['SHARED3FREE'], sf_stacked['SHARED3PAY'],\n",
    "           sf_stacked['SHARED3FREE'], sf_stacked['SHARED3PAY'], sf_stacked['SHARED2FREE'], \n",
    "           sf_stacked['SHARED2PAY'], sf_stacked['SHARED2PAY'], sf_stacked['SHARED2FREE'], \n",
    "           sf_stacked['DRIVEALONEFREE'], sf_stacked['DRIVEALONEPAY'], sf_stacked['WALK_LRF'], \n",
    "           sf_stacked['WALK_LOC'], sf_stacked['WALK_EXP'], sf_stacked['WALK_HVY'], sf_stacked['WALK_COM'],\n",
    "           sf_stacked['TNC_SINGLE'], \n",
    "           sf_stacked['TNC_SHARED'], sf_stacked['TAXI'],\n",
    "           sf_stacked['DRIVE_COM'], sf_stacked['DRIVE_LRF'], sf_stacked['DRIVE_LOC'], sf_stacked['DRIVE_EXP'],\n",
    "           sf_stacked['DRIVE_HVY'], sf_stacked['TNC_SINGLE'], sf_stacked['TNC_SHARED'], sf_stacked['TAXI'],\n",
    "          sf_stacked[['DRIVEALONEFREE','DRIVEALONEPAY','SHARED2FREE','SHARED3FREE','SHARED2PAY','SHARED3PAY','DRIVE_LOC','DRIVE_LRF','DRIVE_EXP','DRIVE_HVY','DRIVE_COM']].max(axis=1),\n",
    "          sf_stacked[['DRIVEALONEFREE','DRIVEALONEPAY','SHARED2FREE','SHARED3FREE','SHARED2PAY','SHARED3PAY','DRIVE_LOC','DRIVE_LRF','DRIVE_EXP','DRIVE_HVY','DRIVE_COM']].max(axis=1),\n",
    "          sf_stacked[['DRIVEALONEFREE','DRIVEALONEPAY','SHARED2FREE','SHARED3FREE','SHARED2PAY','SHARED3PAY','DRIVE_LOC','DRIVE_LRF','DRIVE_EXP','DRIVE_HVY','DRIVE_COM']].max(axis=1),\n",
    "          sf_stacked[['DRIVEALONEFREE','DRIVEALONEPAY','SHARED2FREE','SHARED3FREE','SHARED2PAY','SHARED3PAY','DRIVE_LOC','DRIVE_LRF','DRIVE_EXP','DRIVE_HVY','DRIVE_COM']].max(axis=1),\n",
    "          sf_stacked[['DRIVEALONEFREE','DRIVEALONEPAY','SHARED2FREE','SHARED3FREE','SHARED2PAY','SHARED3PAY','DRIVE_LOC','DRIVE_LRF','DRIVE_EXP','DRIVE_HVY','DRIVE_COM']].max(axis=1),\n",
    "          sf_stacked[['WALK','WALK_LOC','WALK_LRF','WALK_EXP','WALK_HVY','WALK_COM']].max(axis=1),\n",
    "          sf_stacked[['WALK','WALK_LOC','WALK_LRF','WALK_EXP','WALK_HVY','WALK_COM']].max(axis=1),\n",
    "          sf_stacked[['TAXI','TNC_SINGLE','TNC_SHARED']].max(axis=1),\n",
    "          sf_stacked[['WALK','WALK_LOC','WALK_LRF','WALK_EXP','WALK_HVY','WALK_COM','DRIVE_LOC','DRIVE_LRF','DRIVE_EXP','DRIVE_HVY','DRIVE_COM']].max(axis=1),\n",
    "          sf_stacked[['BIKE','WALK_LOC','WALK_LRF','WALK_EXP','WALK_HVY','WALK_COM','DRIVE_LOC','DRIVE_LRF','DRIVE_EXP','DRIVE_HVY','DRIVE_COM']].max(axis=1),\n",
    "          sf_stacked[['DRIVEALONEFREE','DRIVEALONEPAY','SHARED2FREE','SHARED3FREE','SHARED2PAY','SHARED3PAY','DRIVE_LOC','DRIVE_LRF','DRIVE_EXP','DRIVE_HVY','DRIVE_COM']].max(axis=1)]"
   ]
  },
  {
   "cell_type": "code",
   "execution_count": 68,
   "id": "efacd110",
   "metadata": {
    "scrolled": true
   },
   "outputs": [],
   "source": [
    "sf_stacked['Realized_INEXUS'] = np.select(conditions, choices, default=np.nan)"
   ]
  },
  {
   "cell_type": "code",
   "execution_count": null,
   "id": "917c8ee2",
   "metadata": {},
   "outputs": [],
   "source": [
    "#sf_stacked = sf_stacked.drop(['Realized_INEXUS'], axis=1)"
   ]
  },
  {
   "cell_type": "code",
   "execution_count": 69,
   "id": "9bbb966f",
   "metadata": {},
   "outputs": [],
   "source": [
    "sf_stacked['Realized_INEXUS'] = np.where((sf_stacked['Realized_INEXUS'].isna())&((sf_stacked['mode_choice_actual_BEAM'] == 'car_hov2')|\n",
    "                                          (sf_stacked['mode_choice_actual_BEAM'] == 'car_hov3')|\n",
    "                                          (sf_stacked['mode_choice_actual_BEAM'] == 'hov2_teleportation')|\n",
    "                                          (sf_stacked['mode_choice_actual_BEAM'] == 'hov3_teleportation')|\n",
    "                                          (sf_stacked['mode_choice_actual_BEAM'] == 'car')|\n",
    "                                          (sf_stacked['mode_choice_actual_BEAM'] == 'drive_transit')), \n",
    "                                           sf_stacked[['DRIVEALONEFREE','DRIVEALONEPAY','SHARED2FREE','SHARED3FREE','SHARED2PAY','SHARED3PAY','DRIVE_LOC','DRIVE_LRF','DRIVE_EXP','DRIVE_HVY','DRIVE_COM']].max(axis=1), sf_stacked['Realized_INEXUS'])"
   ]
  },
  {
   "cell_type": "code",
   "execution_count": 70,
   "id": "39f33fc4",
   "metadata": {},
   "outputs": [],
   "source": [
    "sf_stacked['Realized_INEXUS'] = np.where((sf_stacked['Realized_INEXUS'].isna())&((sf_stacked['mode_choice_actual_BEAM'] == 'walk')|\n",
    "                                         (sf_stacked['mode_choice_actual_BEAM'] == 'walk_transit')), \n",
    "                                          sf_stacked[['WALK','WALK_LOC','WALK_LRF','WALK_EXP','WALK_HVY','WALK_COM','DRIVE_LOC','DRIVE_LRF','DRIVE_EXP','DRIVE_HVY','DRIVE_COM']].max(axis=1),sf_stacked['Realized_INEXUS'])"
   ]
  },
  {
   "cell_type": "code",
   "execution_count": 71,
   "id": "c31f1858",
   "metadata": {},
   "outputs": [],
   "source": [
    "sf_stacked['Realized_INEXUS'] = np.where(sf_stacked['Realized_INEXUS'].isna()&(sf_stacked['mode_choice_actual_BEAM'] == 'bike'), \n",
    "                                         sf_stacked[['BIKE','WALK','WALK_LOC','WALK_LRF','WALK_EXP','WALK_HVY','WALK_COM']].max(axis=1),sf_stacked['Realized_INEXUS'])"
   ]
  },
  {
   "cell_type": "code",
   "execution_count": 72,
   "id": "c6a246c6",
   "metadata": {},
   "outputs": [
    {
     "data": {
      "text/plain": [
       "(0, 162)"
      ]
     },
     "execution_count": 72,
     "metadata": {},
     "output_type": "execute_result"
    }
   ],
   "source": [
    "sf_stacked[sf_stacked['Realized_INEXUS'].isna()].shape"
   ]
  },
  {
   "cell_type": "code",
   "execution_count": 74,
   "id": "b858c058",
   "metadata": {},
   "outputs": [
    {
     "data": {
      "text/plain": [
       "(8658, 162)"
      ]
     },
     "execution_count": 74,
     "metadata": {},
     "output_type": "execute_result"
    }
   ],
   "source": [
    "sf_stacked[sf_stacked['Realized_INEXUS']<-1000].shape"
   ]
  },
  {
   "cell_type": "code",
   "execution_count": null,
   "id": "1ac28b2e",
   "metadata": {},
   "outputs": [],
   "source": [
    "#sf_stacked_tr_fr['Realized_INEXUS'] = np.where((sf_stacked_tr_fr['Realized_INEXUS'].isna())&\n",
    "                                               #(sf_stacked_tr_fr['mode_choice_actual_BEAM'] == 'walk_transit')&\n",
    "                                               #(sf_stacked_tr_fr['vehicleIds'].str.contains('(caltrain)')), \n",
    "                                               #sf_stacked_tr_fr['WALK_COM'], sf_stacked_tr_fr['Realized_INEXUS'])"
   ]
  },
  {
   "cell_type": "code",
   "execution_count": 75,
   "id": "aef4dfd1",
   "metadata": {},
   "outputs": [],
   "source": [
    "sf_stacked = sf_stacked[sf_stacked['Realized_INEXUS'].notna()]"
   ]
  },
  {
   "cell_type": "code",
   "execution_count": 76,
   "id": "a60a1ce4",
   "metadata": {},
   "outputs": [
    {
     "name": "stdout",
     "output_type": "stream",
     "text": [
      "CPU times: total: 1min 29s\n",
      "Wall time: 1min 30s\n"
     ]
    }
   ],
   "source": [
    "%%time\n",
    "sf_stacked['realized_relative_to_baseline'] = sf_stacked['Realized_INEXUS'] - (sf_stacked['Realized_INEXUS'].where((sf_stacked['lever_position_fltsz'].eq(1.0)) & (sf_stacked['lever_n_fleets'] == 2))\n",
    "                                                                                          .groupby([sf_stacked['IDMerged'] , sf_stacked['tripIndex']])\n",
    "                                                                                          .transform('first')\n",
    "                                                                                          .convert_dtypes())"
   ]
  },
  {
   "cell_type": "code",
   "execution_count": null,
   "id": "b41ec71d",
   "metadata": {},
   "outputs": [],
   "source": [
    "#sf_stacked_tr_fr[sf_stacked_tr_fr['Realized_INEXUS'].isna()].to_csv('C:/Shared-Work/Data/CleanData/ASIM_BEAM_Merged/realizedIN_empty.csv', index = False)"
   ]
  },
  {
   "cell_type": "markdown",
   "id": "f6b51cec",
   "metadata": {},
   "source": [
    "#### Social INEXUS"
   ]
  },
  {
   "cell_type": "code",
   "execution_count": null,
   "id": "f34e8e1e",
   "metadata": {},
   "outputs": [],
   "source": [
    "# add a lower and upper range for the bins in pd.cut\n",
    "#quartiles = [0] + quartiles + [float('inf')]"
   ]
  },
  {
   "cell_type": "code",
   "execution_count": null,
   "id": "5453a2a7",
   "metadata": {},
   "outputs": [],
   "source": [
    "# add a quartiles column to groups, using pd.cut\n",
    "#sf_stacked['income_quartiles'] = pd.cut(sf_stacked['income'], bins=quartiles, labels=['1stQ', '2ndQ', '3rdQ', '4thQ'])"
   ]
  },
  {
   "cell_type": "code",
   "execution_count": 79,
   "id": "3051d584",
   "metadata": {},
   "outputs": [],
   "source": [
    "sf_stacked['alpha'] = 1"
   ]
  },
  {
   "cell_type": "code",
   "execution_count": 80,
   "id": "11864852",
   "metadata": {},
   "outputs": [],
   "source": [
    "sf_stacked['socialCarbonCost'] = sf_stacked['emission_marginal']*185 # 51 or 102"
   ]
  },
  {
   "cell_type": "code",
   "execution_count": 81,
   "id": "1278d22e",
   "metadata": {},
   "outputs": [],
   "source": [
    "sf_stacked['Social_INEXUS'] = (sf_stacked['Realized_INEXUS']/sf_stacked['alpha']) - sf_stacked['socialCarbonCost']"
   ]
  },
  {
   "cell_type": "code",
   "execution_count": 82,
   "id": "253178e9",
   "metadata": {},
   "outputs": [],
   "source": [
    "sf_stacked['Potential_INEXUS_in_dollar'] = sf_stacked['logsum_trip_Potential_INEXUS']/sf_stacked['alpha']"
   ]
  },
  {
   "cell_type": "code",
   "execution_count": 83,
   "id": "e1fe632a",
   "metadata": {},
   "outputs": [],
   "source": [
    "sf_stacked['Realized_INEXUS_in_dollar'] = sf_stacked['Realized_INEXUS']/sf_stacked['alpha']"
   ]
  },
  {
   "cell_type": "markdown",
   "id": "e6e0a1bd",
   "metadata": {},
   "source": [
    "#### The following chunks are useful but should be checked in the next runs (they resulted in exact same realized and potential inexus in dollar"
   ]
  },
  {
   "cell_type": "code",
   "execution_count": null,
   "id": "656ac3fd",
   "metadata": {},
   "outputs": [],
   "source": [
    "# shift columns to first position\n",
    "#first_column = sf_stacked.pop('Social_INEXUS')\n",
    "# insert column using insert(position,column_name,first_column) function\n",
    "#sf_stacked.insert(6, 'Social_INEXUS', first_column)"
   ]
  },
  {
   "cell_type": "code",
   "execution_count": null,
   "id": "26b1ea44",
   "metadata": {},
   "outputs": [],
   "source": [
    "# shift columns to first position\n",
    "#first_column = sf_stacked.pop('Potential_INEXUS_in_dollar')\n",
    "#second_column = sf_stacked.pop('Realized_INEXUS_in_dollar')\n",
    "# insert column using insert(position,column_name,first_column) function\n",
    "#sf_stacked.insert(7, 'Potential_INEXUS_in_dollar', first_column)\n",
    "#sf_stacked.insert(8, 'Realized_INEXUS_in_dollar', first_column)"
   ]
  },
  {
   "cell_type": "code",
   "execution_count": 103,
   "id": "123e3446",
   "metadata": {},
   "outputs": [],
   "source": [
    "sf_stacked = sf_stacked.drop(['Realized_INEXUS_in_dollar','Potential_INEXUS_in_dollar','alpha','hh_value_of_time','lcm_county_id',\n",
    "                              'tenure_mover','hh_income','median_value_of_time','hhsize','hh_size',\n",
    "                              'tenure','num_mand','free_parking_at_work',\n",
    "                             'workplace_location_logsum','workplace_taz','school_taz','TAZ_x',\n",
    "                             'work_at_home','sex','race_id','edu','earning','duration',\n",
    "                             'tour_type','depart','destination_x', 'origin_x','purpose',\n",
    "                             'trip_count','primary_purpose_x'], axis=1)"
   ]
  },
  {
   "cell_type": "code",
   "execution_count": 106,
   "id": "3754414f",
   "metadata": {},
   "outputs": [],
   "source": [
    "sf_stacked = sf_stacked.drop(['DRIVEALONEPAY','DRIVEALONEFREE',\n",
    "                              'SHARED2FREE','SHARED2PAY',\n",
    "                             'SHARED3FREE','SHARED3PAY','WALK','BIKE',\n",
    "                             'WALK_LOC','WALK_LRF','WALK_EXP','WALK_HVY','WALK_COM','DRIVE_LOC',\n",
    "                             'DRIVE_LRF','DRIVE_EXP','DRIVE_HVY', 'DRIVE_COM','TAXI',\n",
    "                             'TNC_SINGLE','TNC_SHARED'], axis=1)"
   ]
  },
  {
   "cell_type": "code",
   "execution_count": 107,
   "id": "133a19de",
   "metadata": {},
   "outputs": [
    {
     "name": "stdout",
     "output_type": "stream",
     "text": [
      "CPU times: total: 16min 53s\n",
      "Wall time: 21min 49s\n"
     ]
    }
   ],
   "source": [
    "%%time\n",
    "sf_stacked.to_csv('s3://beam-core-act/deepDive/CleanData/SanFrancisco/Stacked/sf_2020_stacked_rh_5fleet_price_2_9_23.csv', index=False)"
   ]
  },
  {
   "cell_type": "code",
   "execution_count": 88,
   "id": "f08b313b",
   "metadata": {},
   "outputs": [
    {
     "name": "stderr",
     "output_type": "stream",
     "text": [
      "<timed exec>:3: DtypeWarning: Columns (0,2,6,13,14,18,19,21,23,26,27,28,29,30,35,36,39,51,53,54,60,61) have mixed types. Specify dtype option on import or set low_memory=False.\n"
     ]
    },
    {
     "name": "stdout",
     "output_type": "stream",
     "text": [
      "CPU times: total: 10min 26s\n",
      "Wall time: 13min 46s\n"
     ]
    }
   ],
   "source": [
    "%%time\n",
    "key = \"pilates-outputs/sfbay_5fleets_100price_164fleet_20230209/beam/year-2020-iteration-3/ITERS/it.0/0.events.csv.gz\"  #the path should be updated\n",
    "obj = s3.get_object(Bucket=\"beam-outputs\", Key=key)\n",
    "sf_rh_5flt_1p64_events = pd.read_csv(obj['Body'], compression = 'gzip')"
   ]
  },
  {
   "cell_type": "code",
   "execution_count": 99,
   "id": "f27270f5",
   "metadata": {},
   "outputs": [
    {
     "data": {
      "text/plain": [
       "array([nan, 'bus', 'tram', 'subway', 'rail', 'car', 'hov3_teleportation',\n",
       "       'car_hov2', 'hov2_teleportation', 'walk', 'car_hov3', 'bike',\n",
       "       'walk_transit', 'ride_hail', 'ride_hail_pooled', 'drive_transit',\n",
       "       'cable_car', 'bike_transit', 'ferry'], dtype=object)"
      ]
     },
     "execution_count": 99,
     "metadata": {},
     "output_type": "execute_result"
    }
   ],
   "source": [
    "sf_rh_5flt_1p64_events['mode'].unique()"
   ]
  },
  {
   "cell_type": "code",
   "execution_count": 101,
   "id": "8f1a43a0",
   "metadata": {},
   "outputs": [
    {
     "data": {
      "text/html": [
       "<div>\n",
       "<style scoped>\n",
       "    .dataframe tbody tr th:only-of-type {\n",
       "        vertical-align: middle;\n",
       "    }\n",
       "\n",
       "    .dataframe tbody tr th {\n",
       "        vertical-align: top;\n",
       "    }\n",
       "\n",
       "    .dataframe thead th {\n",
       "        text-align: right;\n",
       "    }\n",
       "</style>\n",
       "<table border=\"1\" class=\"dataframe\">\n",
       "  <thead>\n",
       "    <tr style=\"text-align: right;\">\n",
       "      <th></th>\n",
       "      <th>person</th>\n",
       "      <th>link</th>\n",
       "      <th>legMode</th>\n",
       "      <th>tripId</th>\n",
       "      <th>time</th>\n",
       "      <th>type</th>\n",
       "      <th>parkingTaz</th>\n",
       "      <th>chargingPointType</th>\n",
       "      <th>pricingModel</th>\n",
       "      <th>parkingType</th>\n",
       "      <th>locationY</th>\n",
       "      <th>locationX</th>\n",
       "      <th>cost</th>\n",
       "      <th>driver</th>\n",
       "      <th>vehicle</th>\n",
       "      <th>primaryFuelLevel</th>\n",
       "      <th>secondaryFuelLevel</th>\n",
       "      <th>price</th>\n",
       "      <th>mode</th>\n",
       "      <th>currentTourMode</th>\n",
       "      <th>expectedMaximumUtility</th>\n",
       "      <th>availableAlternatives</th>\n",
       "      <th>location</th>\n",
       "      <th>personalVehicleAvailable</th>\n",
       "      <th>length</th>\n",
       "      <th>tourIndex</th>\n",
       "      <th>legModes</th>\n",
       "      <th>legVehicleIds</th>\n",
       "      <th>currentActivity</th>\n",
       "      <th>nextActivity</th>\n",
       "      <th>vehicleType</th>\n",
       "      <th>shiftStatus</th>\n",
       "      <th>parkingZoneId</th>\n",
       "      <th>fuel</th>\n",
       "      <th>duration</th>\n",
       "      <th>actType</th>\n",
       "      <th>links</th>\n",
       "      <th>numPassengers</th>\n",
       "      <th>primaryFuel</th>\n",
       "      <th>riders</th>\n",
       "      <th>toStopIndex</th>\n",
       "      <th>fromStopIndex</th>\n",
       "      <th>seatingCapacity</th>\n",
       "      <th>tollPaid</th>\n",
       "      <th>endY</th>\n",
       "      <th>endX</th>\n",
       "      <th>startY</th>\n",
       "      <th>startX</th>\n",
       "      <th>capacity</th>\n",
       "      <th>arrivalTime</th>\n",
       "      <th>departureTime</th>\n",
       "      <th>linkTravelTime</th>\n",
       "      <th>secondaryFuel</th>\n",
       "      <th>secondaryFuelType</th>\n",
       "      <th>primaryFuelType</th>\n",
       "      <th>facility</th>\n",
       "      <th>incentive</th>\n",
       "      <th>tollCost</th>\n",
       "      <th>netCost</th>\n",
       "      <th>departTime</th>\n",
       "      <th>requireWheelchair</th>\n",
       "      <th>reason</th>\n",
       "      <th>score</th>\n",
       "    </tr>\n",
       "  </thead>\n",
       "  <tbody>\n",
       "    <tr>\n",
       "      <th>895282</th>\n",
       "      <td>3510755.000000</td>\n",
       "      <td>NaN</td>\n",
       "      <td>NaN</td>\n",
       "      <td>1151527865.000000</td>\n",
       "      <td>18000.000000</td>\n",
       "      <td>ModeChoice</td>\n",
       "      <td>NaN</td>\n",
       "      <td>NaN</td>\n",
       "      <td>NaN</td>\n",
       "      <td>NaN</td>\n",
       "      <td>NaN</td>\n",
       "      <td>NaN</td>\n",
       "      <td>NaN</td>\n",
       "      <td>NaN</td>\n",
       "      <td>NaN</td>\n",
       "      <td>NaN</td>\n",
       "      <td>NaN</td>\n",
       "      <td>NaN</td>\n",
       "      <td>ride_hail</td>\n",
       "      <td>ride_hail</td>\n",
       "      <td>NaN</td>\n",
       "      <td>RIDE_HAIL</td>\n",
       "      <td>141206.000000</td>\n",
       "      <td>False</td>\n",
       "      <td>5609.112000</td>\n",
       "      <td>1.000000</td>\n",
       "      <td>WALK,CAR,WALK</td>\n",
       "      <td>body-3510755,rideHailVehicle-3247829@Lyft,body...</td>\n",
       "      <td>Home</td>\n",
       "      <td>othmaint</td>\n",
       "      <td>NaN</td>\n",
       "      <td>NaN</td>\n",
       "      <td>NaN</td>\n",
       "      <td>NaN</td>\n",
       "      <td>NaN</td>\n",
       "      <td>NaN</td>\n",
       "      <td>NaN</td>\n",
       "      <td>NaN</td>\n",
       "      <td>NaN</td>\n",
       "      <td>NaN</td>\n",
       "      <td>NaN</td>\n",
       "      <td>NaN</td>\n",
       "      <td>NaN</td>\n",
       "      <td>NaN</td>\n",
       "      <td>NaN</td>\n",
       "      <td>NaN</td>\n",
       "      <td>NaN</td>\n",
       "      <td>NaN</td>\n",
       "      <td>NaN</td>\n",
       "      <td>NaN</td>\n",
       "      <td>NaN</td>\n",
       "      <td>NaN</td>\n",
       "      <td>NaN</td>\n",
       "      <td>NaN</td>\n",
       "      <td>NaN</td>\n",
       "      <td>NaN</td>\n",
       "      <td>NaN</td>\n",
       "      <td>NaN</td>\n",
       "      <td>NaN</td>\n",
       "      <td>NaN</td>\n",
       "      <td>NaN</td>\n",
       "      <td>NaN</td>\n",
       "      <td>NaN</td>\n",
       "    </tr>\n",
       "    <tr>\n",
       "      <th>896435</th>\n",
       "      <td>6028935.000000</td>\n",
       "      <td>NaN</td>\n",
       "      <td>NaN</td>\n",
       "      <td>1977490905.000000</td>\n",
       "      <td>18090.000000</td>\n",
       "      <td>ModeChoice</td>\n",
       "      <td>NaN</td>\n",
       "      <td>NaN</td>\n",
       "      <td>NaN</td>\n",
       "      <td>NaN</td>\n",
       "      <td>NaN</td>\n",
       "      <td>NaN</td>\n",
       "      <td>NaN</td>\n",
       "      <td>NaN</td>\n",
       "      <td>NaN</td>\n",
       "      <td>NaN</td>\n",
       "      <td>NaN</td>\n",
       "      <td>NaN</td>\n",
       "      <td>ride_hail</td>\n",
       "      <td>ride_hail</td>\n",
       "      <td>NaN</td>\n",
       "      <td>RIDE_HAIL</td>\n",
       "      <td>55718.000000</td>\n",
       "      <td>False</td>\n",
       "      <td>3755.244000</td>\n",
       "      <td>1.000000</td>\n",
       "      <td>WALK,CAR,WALK</td>\n",
       "      <td>body-6028935,rideHailVehicle-6037643@Uber,body...</td>\n",
       "      <td>Home</td>\n",
       "      <td>othmaint</td>\n",
       "      <td>NaN</td>\n",
       "      <td>NaN</td>\n",
       "      <td>NaN</td>\n",
       "      <td>NaN</td>\n",
       "      <td>NaN</td>\n",
       "      <td>NaN</td>\n",
       "      <td>NaN</td>\n",
       "      <td>NaN</td>\n",
       "      <td>NaN</td>\n",
       "      <td>NaN</td>\n",
       "      <td>NaN</td>\n",
       "      <td>NaN</td>\n",
       "      <td>NaN</td>\n",
       "      <td>NaN</td>\n",
       "      <td>NaN</td>\n",
       "      <td>NaN</td>\n",
       "      <td>NaN</td>\n",
       "      <td>NaN</td>\n",
       "      <td>NaN</td>\n",
       "      <td>NaN</td>\n",
       "      <td>NaN</td>\n",
       "      <td>NaN</td>\n",
       "      <td>NaN</td>\n",
       "      <td>NaN</td>\n",
       "      <td>NaN</td>\n",
       "      <td>NaN</td>\n",
       "      <td>NaN</td>\n",
       "      <td>NaN</td>\n",
       "      <td>NaN</td>\n",
       "      <td>NaN</td>\n",
       "      <td>NaN</td>\n",
       "      <td>NaN</td>\n",
       "      <td>NaN</td>\n",
       "    </tr>\n",
       "    <tr>\n",
       "      <th>896436</th>\n",
       "      <td>4794778.000000</td>\n",
       "      <td>NaN</td>\n",
       "      <td>NaN</td>\n",
       "      <td>1572687409.000000</td>\n",
       "      <td>18054.000000</td>\n",
       "      <td>ModeChoice</td>\n",
       "      <td>NaN</td>\n",
       "      <td>NaN</td>\n",
       "      <td>NaN</td>\n",
       "      <td>NaN</td>\n",
       "      <td>NaN</td>\n",
       "      <td>NaN</td>\n",
       "      <td>NaN</td>\n",
       "      <td>NaN</td>\n",
       "      <td>NaN</td>\n",
       "      <td>NaN</td>\n",
       "      <td>NaN</td>\n",
       "      <td>NaN</td>\n",
       "      <td>ride_hail</td>\n",
       "      <td>ride_hail</td>\n",
       "      <td>NaN</td>\n",
       "      <td>RIDE_HAIL</td>\n",
       "      <td>121066.000000</td>\n",
       "      <td>False</td>\n",
       "      <td>1567.269000</td>\n",
       "      <td>1.000000</td>\n",
       "      <td>WALK,CAR,WALK</td>\n",
       "      <td>body-4794778,rideHailVehicle-4780935@Lyft,body...</td>\n",
       "      <td>Home</td>\n",
       "      <td>othmaint</td>\n",
       "      <td>NaN</td>\n",
       "      <td>NaN</td>\n",
       "      <td>NaN</td>\n",
       "      <td>NaN</td>\n",
       "      <td>NaN</td>\n",
       "      <td>NaN</td>\n",
       "      <td>NaN</td>\n",
       "      <td>NaN</td>\n",
       "      <td>NaN</td>\n",
       "      <td>NaN</td>\n",
       "      <td>NaN</td>\n",
       "      <td>NaN</td>\n",
       "      <td>NaN</td>\n",
       "      <td>NaN</td>\n",
       "      <td>NaN</td>\n",
       "      <td>NaN</td>\n",
       "      <td>NaN</td>\n",
       "      <td>NaN</td>\n",
       "      <td>NaN</td>\n",
       "      <td>NaN</td>\n",
       "      <td>NaN</td>\n",
       "      <td>NaN</td>\n",
       "      <td>NaN</td>\n",
       "      <td>NaN</td>\n",
       "      <td>NaN</td>\n",
       "      <td>NaN</td>\n",
       "      <td>NaN</td>\n",
       "      <td>NaN</td>\n",
       "      <td>NaN</td>\n",
       "      <td>NaN</td>\n",
       "      <td>NaN</td>\n",
       "      <td>NaN</td>\n",
       "      <td>NaN</td>\n",
       "    </tr>\n",
       "    <tr>\n",
       "      <th>896492</th>\n",
       "      <td>1118143.000000</td>\n",
       "      <td>NaN</td>\n",
       "      <td>NaN</td>\n",
       "      <td>366750977.000000</td>\n",
       "      <td>18072.000000</td>\n",
       "      <td>ModeChoice</td>\n",
       "      <td>NaN</td>\n",
       "      <td>NaN</td>\n",
       "      <td>NaN</td>\n",
       "      <td>NaN</td>\n",
       "      <td>NaN</td>\n",
       "      <td>NaN</td>\n",
       "      <td>NaN</td>\n",
       "      <td>NaN</td>\n",
       "      <td>NaN</td>\n",
       "      <td>NaN</td>\n",
       "      <td>NaN</td>\n",
       "      <td>NaN</td>\n",
       "      <td>ride_hail</td>\n",
       "      <td>ride_hail</td>\n",
       "      <td>NaN</td>\n",
       "      <td>RIDE_HAIL</td>\n",
       "      <td>107216.000000</td>\n",
       "      <td>False</td>\n",
       "      <td>3261.645000</td>\n",
       "      <td>1.000000</td>\n",
       "      <td>WALK,CAR,WALK</td>\n",
       "      <td>body-1118143,rideHailVehicle-1127566@Uber,body...</td>\n",
       "      <td>Home</td>\n",
       "      <td>escort</td>\n",
       "      <td>NaN</td>\n",
       "      <td>NaN</td>\n",
       "      <td>NaN</td>\n",
       "      <td>NaN</td>\n",
       "      <td>NaN</td>\n",
       "      <td>NaN</td>\n",
       "      <td>NaN</td>\n",
       "      <td>NaN</td>\n",
       "      <td>NaN</td>\n",
       "      <td>NaN</td>\n",
       "      <td>NaN</td>\n",
       "      <td>NaN</td>\n",
       "      <td>NaN</td>\n",
       "      <td>NaN</td>\n",
       "      <td>NaN</td>\n",
       "      <td>NaN</td>\n",
       "      <td>NaN</td>\n",
       "      <td>NaN</td>\n",
       "      <td>NaN</td>\n",
       "      <td>NaN</td>\n",
       "      <td>NaN</td>\n",
       "      <td>NaN</td>\n",
       "      <td>NaN</td>\n",
       "      <td>NaN</td>\n",
       "      <td>NaN</td>\n",
       "      <td>NaN</td>\n",
       "      <td>NaN</td>\n",
       "      <td>NaN</td>\n",
       "      <td>NaN</td>\n",
       "      <td>NaN</td>\n",
       "      <td>NaN</td>\n",
       "      <td>NaN</td>\n",
       "      <td>NaN</td>\n",
       "    </tr>\n",
       "    <tr>\n",
       "      <th>896522</th>\n",
       "      <td>4424703.000000</td>\n",
       "      <td>NaN</td>\n",
       "      <td>NaN</td>\n",
       "      <td>1451302633.000000</td>\n",
       "      <td>18093.000000</td>\n",
       "      <td>ModeChoice</td>\n",
       "      <td>NaN</td>\n",
       "      <td>NaN</td>\n",
       "      <td>NaN</td>\n",
       "      <td>NaN</td>\n",
       "      <td>NaN</td>\n",
       "      <td>NaN</td>\n",
       "      <td>NaN</td>\n",
       "      <td>NaN</td>\n",
       "      <td>NaN</td>\n",
       "      <td>NaN</td>\n",
       "      <td>NaN</td>\n",
       "      <td>NaN</td>\n",
       "      <td>ride_hail</td>\n",
       "      <td>ride_hail</td>\n",
       "      <td>NaN</td>\n",
       "      <td>RIDE_HAIL</td>\n",
       "      <td>63520.000000</td>\n",
       "      <td>False</td>\n",
       "      <td>1416.933000</td>\n",
       "      <td>1.000000</td>\n",
       "      <td>WALK,CAR,WALK</td>\n",
       "      <td>body-4424703,rideHailVehicle-4339463@Cruise,bo...</td>\n",
       "      <td>Home</td>\n",
       "      <td>eatout</td>\n",
       "      <td>NaN</td>\n",
       "      <td>NaN</td>\n",
       "      <td>NaN</td>\n",
       "      <td>NaN</td>\n",
       "      <td>NaN</td>\n",
       "      <td>NaN</td>\n",
       "      <td>NaN</td>\n",
       "      <td>NaN</td>\n",
       "      <td>NaN</td>\n",
       "      <td>NaN</td>\n",
       "      <td>NaN</td>\n",
       "      <td>NaN</td>\n",
       "      <td>NaN</td>\n",
       "      <td>NaN</td>\n",
       "      <td>NaN</td>\n",
       "      <td>NaN</td>\n",
       "      <td>NaN</td>\n",
       "      <td>NaN</td>\n",
       "      <td>NaN</td>\n",
       "      <td>NaN</td>\n",
       "      <td>NaN</td>\n",
       "      <td>NaN</td>\n",
       "      <td>NaN</td>\n",
       "      <td>NaN</td>\n",
       "      <td>NaN</td>\n",
       "      <td>NaN</td>\n",
       "      <td>NaN</td>\n",
       "      <td>NaN</td>\n",
       "      <td>NaN</td>\n",
       "      <td>NaN</td>\n",
       "      <td>NaN</td>\n",
       "      <td>NaN</td>\n",
       "      <td>NaN</td>\n",
       "    </tr>\n",
       "  </tbody>\n",
       "</table>\n",
       "</div>"
      ],
      "text/plain": [
       "               person  link legMode            tripId         time  \\\n",
       "895282 3510755.000000   NaN     NaN 1151527865.000000 18000.000000   \n",
       "896435 6028935.000000   NaN     NaN 1977490905.000000 18090.000000   \n",
       "896436 4794778.000000   NaN     NaN 1572687409.000000 18054.000000   \n",
       "896492 1118143.000000   NaN     NaN  366750977.000000 18072.000000   \n",
       "896522 4424703.000000   NaN     NaN 1451302633.000000 18093.000000   \n",
       "\n",
       "              type parkingTaz chargingPointType pricingModel parkingType  \\\n",
       "895282  ModeChoice        NaN               NaN          NaN         NaN   \n",
       "896435  ModeChoice        NaN               NaN          NaN         NaN   \n",
       "896436  ModeChoice        NaN               NaN          NaN         NaN   \n",
       "896492  ModeChoice        NaN               NaN          NaN         NaN   \n",
       "896522  ModeChoice        NaN               NaN          NaN         NaN   \n",
       "\n",
       "        locationY  locationX  cost driver vehicle  primaryFuelLevel  \\\n",
       "895282        NaN        NaN   NaN    NaN     NaN               NaN   \n",
       "896435        NaN        NaN   NaN    NaN     NaN               NaN   \n",
       "896436        NaN        NaN   NaN    NaN     NaN               NaN   \n",
       "896492        NaN        NaN   NaN    NaN     NaN               NaN   \n",
       "896522        NaN        NaN   NaN    NaN     NaN               NaN   \n",
       "\n",
       "        secondaryFuelLevel  price       mode currentTourMode  \\\n",
       "895282                 NaN    NaN  ride_hail       ride_hail   \n",
       "896435                 NaN    NaN  ride_hail       ride_hail   \n",
       "896436                 NaN    NaN  ride_hail       ride_hail   \n",
       "896492                 NaN    NaN  ride_hail       ride_hail   \n",
       "896522                 NaN    NaN  ride_hail       ride_hail   \n",
       "\n",
       "        expectedMaximumUtility availableAlternatives      location  \\\n",
       "895282                     NaN             RIDE_HAIL 141206.000000   \n",
       "896435                     NaN             RIDE_HAIL  55718.000000   \n",
       "896436                     NaN             RIDE_HAIL 121066.000000   \n",
       "896492                     NaN             RIDE_HAIL 107216.000000   \n",
       "896522                     NaN             RIDE_HAIL  63520.000000   \n",
       "\n",
       "       personalVehicleAvailable      length  tourIndex       legModes  \\\n",
       "895282                    False 5609.112000   1.000000  WALK,CAR,WALK   \n",
       "896435                    False 3755.244000   1.000000  WALK,CAR,WALK   \n",
       "896436                    False 1567.269000   1.000000  WALK,CAR,WALK   \n",
       "896492                    False 3261.645000   1.000000  WALK,CAR,WALK   \n",
       "896522                    False 1416.933000   1.000000  WALK,CAR,WALK   \n",
       "\n",
       "                                            legVehicleIds currentActivity  \\\n",
       "895282  body-3510755,rideHailVehicle-3247829@Lyft,body...            Home   \n",
       "896435  body-6028935,rideHailVehicle-6037643@Uber,body...            Home   \n",
       "896436  body-4794778,rideHailVehicle-4780935@Lyft,body...            Home   \n",
       "896492  body-1118143,rideHailVehicle-1127566@Uber,body...            Home   \n",
       "896522  body-4424703,rideHailVehicle-4339463@Cruise,bo...            Home   \n",
       "\n",
       "       nextActivity vehicleType  shiftStatus  parkingZoneId  fuel  duration  \\\n",
       "895282     othmaint         NaN          NaN            NaN   NaN       NaN   \n",
       "896435     othmaint         NaN          NaN            NaN   NaN       NaN   \n",
       "896436     othmaint         NaN          NaN            NaN   NaN       NaN   \n",
       "896492       escort         NaN          NaN            NaN   NaN       NaN   \n",
       "896522       eatout         NaN          NaN            NaN   NaN       NaN   \n",
       "\n",
       "       actType links  numPassengers  primaryFuel riders  toStopIndex  \\\n",
       "895282     NaN   NaN            NaN          NaN    NaN          NaN   \n",
       "896435     NaN   NaN            NaN          NaN    NaN          NaN   \n",
       "896436     NaN   NaN            NaN          NaN    NaN          NaN   \n",
       "896492     NaN   NaN            NaN          NaN    NaN          NaN   \n",
       "896522     NaN   NaN            NaN          NaN    NaN          NaN   \n",
       "\n",
       "        fromStopIndex  seatingCapacity  tollPaid  endY  endX  startY  startX  \\\n",
       "895282            NaN              NaN       NaN   NaN   NaN     NaN     NaN   \n",
       "896435            NaN              NaN       NaN   NaN   NaN     NaN     NaN   \n",
       "896436            NaN              NaN       NaN   NaN   NaN     NaN     NaN   \n",
       "896492            NaN              NaN       NaN   NaN   NaN     NaN     NaN   \n",
       "896522            NaN              NaN       NaN   NaN   NaN     NaN     NaN   \n",
       "\n",
       "        capacity  arrivalTime  departureTime linkTravelTime  secondaryFuel  \\\n",
       "895282       NaN          NaN            NaN            NaN            NaN   \n",
       "896435       NaN          NaN            NaN            NaN            NaN   \n",
       "896436       NaN          NaN            NaN            NaN            NaN   \n",
       "896492       NaN          NaN            NaN            NaN            NaN   \n",
       "896522       NaN          NaN            NaN            NaN            NaN   \n",
       "\n",
       "       secondaryFuelType primaryFuelType  facility  incentive  tollCost  \\\n",
       "895282               NaN             NaN       NaN        NaN       NaN   \n",
       "896435               NaN             NaN       NaN        NaN       NaN   \n",
       "896436               NaN             NaN       NaN        NaN       NaN   \n",
       "896492               NaN             NaN       NaN        NaN       NaN   \n",
       "896522               NaN             NaN       NaN        NaN       NaN   \n",
       "\n",
       "        netCost  departTime requireWheelchair reason  score  \n",
       "895282      NaN         NaN               NaN    NaN    NaN  \n",
       "896435      NaN         NaN               NaN    NaN    NaN  \n",
       "896436      NaN         NaN               NaN    NaN    NaN  \n",
       "896492      NaN         NaN               NaN    NaN    NaN  \n",
       "896522      NaN         NaN               NaN    NaN    NaN  "
      ]
     },
     "execution_count": 101,
     "metadata": {},
     "output_type": "execute_result"
    }
   ],
   "source": [
    "sf_rh_5flt_1p64_events[sf_rh_5flt_1p64_events['mode']=='ride_hail'].head()"
   ]
  },
  {
   "cell_type": "code",
   "execution_count": null,
   "id": "4a62767a",
   "metadata": {},
   "outputs": [],
   "source": []
  }
 ],
 "metadata": {
  "kernelspec": {
   "display_name": "Python 3 (ipykernel)",
   "language": "python",
   "name": "python3"
  },
  "language_info": {
   "codemirror_mode": {
    "name": "ipython",
    "version": 3
   },
   "file_extension": ".py",
   "mimetype": "text/x-python",
   "name": "python",
   "nbconvert_exporter": "python",
   "pygments_lexer": "ipython3",
   "version": "3.9.7"
  },
  "toc": {
   "base_numbering": 1,
   "nav_menu": {},
   "number_sections": true,
   "sideBar": true,
   "skip_h1_title": false,
   "title_cell": "Table of Contents",
   "title_sidebar": "Contents",
   "toc_cell": false,
   "toc_position": {},
   "toc_section_display": true,
   "toc_window_display": false
  }
 },
 "nbformat": 4,
 "nbformat_minor": 5
}
