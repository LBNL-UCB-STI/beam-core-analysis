{
 "cells": [
  {
   "cell_type": "code",
   "execution_count": 1,
   "id": "c0f71a2c",
   "metadata": {},
   "outputs": [],
   "source": [
    "import os\n",
    "import os.path as op\n",
    "import numpy as np\n",
    "import pandas as pd\n",
    "import matplotlib.pyplot as plt\n",
    "import matplotlib.colors as mcolors\n",
    "%matplotlib inline\n",
    "import seaborn as sns\n",
    "sns.set_theme(style=\"darkgrid\", color_codes=True)\n",
    "sns.set(font_scale=1.35, style=\"ticks\") #set styling preferences\n",
    "import statsmodels.api as sm\n",
    "from scipy import stats\n",
    "import math\n",
    "from math import pi\n",
    "from pandas.api.types import is_string_dtype\n",
    "from pandas.api.types import is_numeric_dtype\n",
    "from scipy.spatial.distance import cdist\n",
    "from scipy.cluster.vq import kmeans2,vq, whiten"
   ]
  },
  {
   "cell_type": "code",
   "execution_count": 2,
   "id": "1c4d781d",
   "metadata": {},
   "outputs": [],
   "source": [
    "# Show all columns and rows\n",
    "pd.options.display.max_columns = None\n",
    "pd.options.display.max_rows = None"
   ]
  },
  {
   "cell_type": "markdown",
   "id": "cd2c6de5",
   "metadata": {},
   "source": [
    "#### Baseline"
   ]
  },
  {
   "cell_type": "code",
   "execution_count": 3,
   "id": "61204995",
   "metadata": {},
   "outputs": [
    {
     "name": "stderr",
     "output_type": "stream",
     "text": [
      "<timed exec>:2: DtypeWarning: Columns (42) have mixed types. Specify dtype option on import or set low_memory=False.\n"
     ]
    },
    {
     "name": "stdout",
     "output_type": "stream",
     "text": [
      "CPU times: total: 1min 9s\n",
      "Wall time: 3min 52s\n"
     ]
    }
   ],
   "source": [
    "%%time\n",
    "baseline2018 = \"https://beam-core-act.s3.amazonaws.com/deepDive/CleanData/SanFrancisco/Baseline/\"\n",
    "sfbase = pd.read_csv(baseline2018 + 'sf_2018_base_8_22_22.csv')"
   ]
  },
  {
   "cell_type": "code",
   "execution_count": 4,
   "id": "f43e2823",
   "metadata": {},
   "outputs": [],
   "source": [
    "# Showing the entire number in dataframe\n",
    "pd.set_option('float_format', '{:f}'.format)"
   ]
  },
  {
   "cell_type": "code",
   "execution_count": 5,
   "id": "5e55a558",
   "metadata": {},
   "outputs": [],
   "source": [
    "#describe = sfbase.describe()"
   ]
  },
  {
   "cell_type": "code",
   "execution_count": 6,
   "id": "2c224a67",
   "metadata": {},
   "outputs": [],
   "source": [
    "#describe.to_csv('C:/Shared-Work/Data/CleanData/ASIM_BEAM_Merged/describe.csv')"
   ]
  },
  {
   "cell_type": "markdown",
   "id": "71810912",
   "metadata": {},
   "source": [
    "#### Ridehail Price Scenarios"
   ]
  },
  {
   "cell_type": "code",
   "execution_count": 7,
   "id": "c014f700",
   "metadata": {},
   "outputs": [
    {
     "name": "stderr",
     "output_type": "stream",
     "text": [
      "<timed exec>:5: DtypeWarning: Columns (42) have mixed types. Specify dtype option on import or set low_memory=False.\n",
      "<timed exec>:6: DtypeWarning: Columns (42) have mixed types. Specify dtype option on import or set low_memory=False.\n"
     ]
    },
    {
     "name": "stdout",
     "output_type": "stream",
     "text": [
      "CPU times: total: 6min 25s\n",
      "Wall time: 19min 48s\n"
     ]
    }
   ],
   "source": [
    "%%time\n",
    "rh_price_path = \"https://beam-core-act.s3.amazonaws.com/deepDive/CleanData/SanFrancisco/Ridehail_Price/\"\n",
    "sf_rh_price_0 = pd.read_csv(rh_price_path + 'sf_2018_rh_price_0.csv')\n",
    "sf_rh_price_0p25 = pd.read_csv(rh_price_path + 'sf_2018_rh_price_0p25.csv')\n",
    "sf_rh_price_0p5 = pd.read_csv(rh_price_path + 'sf_2018_rh_price_0p5.csv')\n",
    "sf_rh_price_1p5 = pd.read_csv(rh_price_path + 'sf_2018_rh_price_1p5.csv')\n",
    "sf_rh_price_2 = pd.read_csv(rh_price_path + 'sf_2018_rh_price_2.csv')"
   ]
  },
  {
   "cell_type": "code",
   "execution_count": 13,
   "id": "60499ebf",
   "metadata": {},
   "outputs": [
    {
     "data": {
      "text/plain": [
       "(2468267, 257)"
      ]
     },
     "execution_count": 13,
     "metadata": {},
     "output_type": "execute_result"
    }
   ],
   "source": [
    "sfbase.shape"
   ]
  },
  {
   "cell_type": "code",
   "execution_count": 14,
   "id": "ba71c028",
   "metadata": {},
   "outputs": [
    {
     "data": {
      "text/plain": [
       "(2469287, 257)"
      ]
     },
     "execution_count": 14,
     "metadata": {},
     "output_type": "execute_result"
    }
   ],
   "source": [
    "sf_rh_price_0p25.shape"
   ]
  },
  {
   "cell_type": "code",
   "execution_count": 15,
   "id": "2ccc6183",
   "metadata": {},
   "outputs": [],
   "source": [
    "#sf_rh_flsz_175 = sf_rh_flsz_175.drop(sf_rh_flsz_175.columns[245:625], axis=1)"
   ]
  },
  {
   "cell_type": "code",
   "execution_count": 16,
   "id": "af922cd7",
   "metadata": {},
   "outputs": [],
   "source": [
    "#sf_rh_flsz_175 = sf_rh_flsz_175.drop(sf_rh_flsz_175.columns[235:245], axis=1)"
   ]
  },
  {
   "cell_type": "code",
   "execution_count": 12,
   "id": "45e25cb2",
   "metadata": {},
   "outputs": [],
   "source": [
    "#sf_rh_flsz_175 = sf_rh_flsz_175.drop(sf_rh_flsz_175.columns[233:235], axis=1)"
   ]
  },
  {
   "cell_type": "code",
   "execution_count": 9,
   "id": "8f37acdc",
   "metadata": {},
   "outputs": [],
   "source": [
    "frames = [sf_rh_price_0, sf_rh_price_0p25, sf_rh_price_0p5, sfbase, sf_rh_price_1p5, sf_rh_price_2]\n",
    "sf_stacked = pd.concat(frames)"
   ]
  },
  {
   "cell_type": "code",
   "execution_count": 10,
   "id": "999f6040",
   "metadata": {},
   "outputs": [],
   "source": [
    "sf_stacked = sf_stacked.drop(['BlockGroupEnd','BlockGroupStart','has_school_kid','has_preschool_kid','has_retiree','has_non_worker','adult','hispanic','relate',\n",
    "                             'pstudent','pemploy','ptype','p_hispanic','age_16_p','age_16_to_19','work_zone_id',\n",
    "                             'race_id','school_zone_id','person_age','MAR','hours','hispanic.1','student',\n",
    "                             'worker','stop_frequency','composition','tdd','number_of_participants','tour_type_count',\n",
    "                             'tour_type_num','tour_num','tour_count', 'outbound', 'trip_num','num_under16_not_at_school',\n",
    "                             'family','non_family','num_young_adults','num_college_age','num_children_16_to_17',\n",
    "                              'num_children_5_to_15','num_young_children'], axis=1)"
   ]
  },
  {
   "cell_type": "code",
   "execution_count": 11,
   "id": "ba8d8c6c",
   "metadata": {},
   "outputs": [],
   "source": [
    "sf_stacked = sf_stacked.drop(['vehicleIds_estimate','destination_x','origin_x','depart',\n",
    "                             'origin_y', 'destination_y','parent_tour_id','atwork_subtour_frequency','household_id_y',\n",
    "                              'TAZ_x','home_x','home_y','male','female', 'has_driving_kid','has_full_time','has_part_time',\n",
    "                              'has_university','student_is_employed', 'nonstudent_to_school', 'is_student','is_gradeschool',\n",
    "                              'is_gradeschool','is_highschool','is_university','school_segment','is_worker','home_taz',  \n",
    "                             'school_taz','distance_to_school','roundtrip_auto_time_to_school','workplace_taz',\n",
    "                              'distance_to_work','workplace_in_cbd', 'work_taz_area_type', 'hh_race_of_head',\n",
    "                             'roundtrip_auto_time_to_work','work_auto_savings_ratio','cdap_activity', 'travel_active', \n",
    "                              'under16_not_at_school','has_preschool_kid_at_home', 'block_id','gt2','hispanic_head',\n",
    "                             'has_school_kid_at_home','work_and_school_and_worker', 'age_of_head', 'race_of_head',\n",
    "                              'work_and_school_and_student', 'VEHICL','hh_children','hh_age_of_head','num_workers',\n",
    "                              'gt55','seniors', 'recent_mover', 'hh_workers', 'hispanic_status_of_head', 'hh_seniors', \n",
    "                             'hh_type', 'TAZ_y', 'HHT', 'sample_rate', 'chunk_id', 'income_segment', 'num_non_workers', \n",
    "                             'num_drivers', 'num_adults', 'num_children', 'hh_work_auto_savings_ratio', 'num_travel_active', \n",
    "                             'num_travel_active_adults','num_travel_active_preschoolers', 'num_travel_active_children', \n",
    "                              'num_travel_active_non_preschoolers', 'participates_in_jtf_model', 'joint_tour_frequency',\n",
    "                              'num_hh_joint_tours'], axis=1)"
   ]
  },
  {
   "cell_type": "code",
   "execution_count": 13,
   "id": "8d1c6b28",
   "metadata": {},
   "outputs": [],
   "source": [
    "sf_stacked = sf_stacked.drop(['serialno'], axis=1)"
   ]
  },
  {
   "cell_type": "markdown",
   "id": "d4867114",
   "metadata": {},
   "source": [
    "#### Stacked File"
   ]
  },
  {
   "cell_type": "code",
   "execution_count": null,
   "id": "9c0e0def",
   "metadata": {},
   "outputs": [],
   "source": [
    "#stacked_tr_fr_path = \"https://beam-core-act.s3.amazonaws.com/deepDive/CleanData/SanFrancisco/Stacked/\"\n",
    "#sf_stacked_tr_fr = pd.read_csv(stacked_tr_fr_path + 'sf_2018_stacked_tr_fr.csv')"
   ]
  },
  {
   "cell_type": "code",
   "execution_count": 14,
   "id": "8b7d1452",
   "metadata": {},
   "outputs": [],
   "source": [
    "sf_stacked = sf_stacked.sort_values(by=['IDMerged', 'tripIndex', 'lever_position']).reset_index(drop=True)"
   ]
  },
  {
   "cell_type": "code",
   "execution_count": 15,
   "id": "508b76a9",
   "metadata": {},
   "outputs": [],
   "source": [
    "# shift column 'person' to first position\n",
    "first_column = sf_stacked.pop('scenario')\n",
    "second_column = sf_stacked.pop('lever')\n",
    "third_column = sf_stacked.pop('lever_position')\n",
    "fourth_column = sf_stacked.pop('logsum_trip_mode_AS_trips')\n",
    "# insert column using insert(position,column_name,first_column) function\n",
    "sf_stacked.insert(2, 'scenario', first_column)\n",
    "sf_stacked.insert(3, 'lever', second_column)\n",
    "sf_stacked.insert(4, 'lever_position', third_column)\n",
    "sf_stacked.insert(5, 'logsum_trip_mode_AS_trips', fourth_column)"
   ]
  },
  {
   "cell_type": "code",
   "execution_count": 16,
   "id": "817467cb",
   "metadata": {},
   "outputs": [],
   "source": [
    "sf_stacked['lever_position_fleetsize'] = 1"
   ]
  },
  {
   "cell_type": "code",
   "execution_count": 17,
   "id": "e0b1b815",
   "metadata": {},
   "outputs": [],
   "source": [
    "# Adding Price lever position\n",
    "conditions  = [(sf_stacked['lever_position'] == 0), \n",
    "               (sf_stacked['lever_position'] == 0.25),\n",
    "               (sf_stacked['lever_position'] == 0.5),\n",
    "               (sf_stacked['lever_position'] == 1),\n",
    "               (sf_stacked['lever_position'] == 1.5),\n",
    "               (sf_stacked['lever_position'] == 2)]\n",
    "\n",
    "choices = [0, 0.25, 0.5, 1, 1.5, 2]"
   ]
  },
  {
   "cell_type": "code",
   "execution_count": 18,
   "id": "b23249d2",
   "metadata": {},
   "outputs": [],
   "source": [
    "sf_stacked['lever_position_price'] = np.select(conditions, choices, default=np.nan)"
   ]
  },
  {
   "cell_type": "code",
   "execution_count": null,
   "id": "1afdc247",
   "metadata": {},
   "outputs": [],
   "source": [
    "#sf_stacked_tr_fr['logsum_relative_to_baseline'] = sf_stacked_tr_fr.groupby(['IDMerged','tripIndex'])['logsum_trip_mode_AS_trips'].apply(lambda x: x.diff())"
   ]
  },
  {
   "cell_type": "code",
   "execution_count": null,
   "id": "68d6a4de",
   "metadata": {},
   "outputs": [],
   "source": [
    "#sf_stacked_tr_fr['logsum_relative_to_baseline'] = sf_stacked_tr_fr['logsum_trip_mode_AS_trips'] - sf_stacked_tr_fr.loc[sf_stacked_tr_fr.groupby(['IDMerged','tripIndex'])['lever_position'].transform('idxmin'), 'logsum_trip_mode_AS_trips'].values"
   ]
  },
  {
   "cell_type": "code",
   "execution_count": 19,
   "id": "2b7802f6",
   "metadata": {},
   "outputs": [
    {
     "name": "stdout",
     "output_type": "stream",
     "text": [
      "CPU times: total: 3.91 s\n",
      "Wall time: 3.8 s\n"
     ]
    }
   ],
   "source": [
    "%%time\n",
    "sf_stacked['logsum_relative_to_baseline'] = sf_stacked['logsum_trip_mode_AS_trips'] - (sf_stacked['logsum_trip_mode_AS_trips'].where(sf_stacked['lever_position'].eq(1.0))\n",
    "                                                                                                  .groupby([sf_stacked['IDMerged'],sf_stacked['tripIndex']])\n",
    "                                                                                                   .transform('first')\n",
    "                                                                                                   .convert_dtypes())"
   ]
  },
  {
   "cell_type": "code",
   "execution_count": 20,
   "id": "2c4e35a6",
   "metadata": {},
   "outputs": [],
   "source": [
    "sf_stacked['door_to_door_time_relative_to_baseline'] = sf_stacked['duration_door_to_door'] - (sf_stacked['duration_door_to_door'].where(sf_stacked['lever_position'].eq(1.0))\n",
    "                                                                                                  .groupby([sf_stacked['IDMerged'],sf_stacked['tripIndex']])\n",
    "                                                                                                   .transform('first')\n",
    "                                                                                                   .convert_dtypes())"
   ]
  },
  {
   "cell_type": "code",
   "execution_count": null,
   "id": "05288fdd",
   "metadata": {},
   "outputs": [],
   "source": [
    "# shift columns to first position\n",
    "first_column = sf_stacked.pop('logsum_relative_to_baseline')\n",
    "second_column = sf_stacked.pop('door_to_door_time_relative_to_baseline')\n",
    "third_column = sf_stacked.pop('income')\n",
    "fourth_column = sf_stacked.pop('actPurpose')\n",
    "# insert column using insert(position,column_name,first_column) function\n",
    "sf_stacked.insert(5, 'logsum_relative_to_baseline', first_column)\n",
    "sf_stacked.insert(6, 'door_to_door_time_relative_to_baseline', second_column)\n",
    "sf_stacked.insert(7, 'income', third_column)\n",
    "sf_stacked.insert(8, 'actPurpose', fourth_column)"
   ]
  },
  {
   "cell_type": "code",
   "execution_count": 21,
   "id": "4a4453b5",
   "metadata": {},
   "outputs": [],
   "source": [
    "# Drop unused columns\n",
    "sf_stacked = sf_stacked.drop(['sf_detached','destination_logsum_x',\n",
    "                                          'household_id_x','destination_logsum_y','logsum_tours_mode_AS_tours','primary_purpose_y',\n",
    "                                          'PNUM','workplace_location_logsum','work_auto_savings','mandatory_tour_frequency'], axis=1)"
   ]
  },
  {
   "cell_type": "code",
   "execution_count": 22,
   "id": "881b7068",
   "metadata": {},
   "outputs": [],
   "source": [
    "# Rename to potential INEXUS\n",
    "sf_stacked.rename(columns={\"logsum_trip_mode_AS_trips\":\"logsum_trip_potential_INEXUS\"}, inplace=True) "
   ]
  },
  {
   "cell_type": "code",
   "execution_count": null,
   "id": "3c607220",
   "metadata": {},
   "outputs": [],
   "source": [
    "# shift columns to first position\n",
    "#first_column = sf_stacked_tr_fr.pop('mode_choice_actual_6')\n",
    "second_column = sf_stacked.pop('mode_choice_actual_BEAM')\n",
    "#third_column = sf_stacked_tr_fr.pop('income')\n",
    "#fourth_column = sf_stacked_tr_fr.pop('actPurpose')\n",
    "# insert column using insert(position,column_name,first_column) function\n",
    "#sf_stacked_tr_fr.insert(9, 'mode_choice_actual_6', first_column)\n",
    "sf_stacked.insert(10, 'mode_choice_actual_BEAM', second_column)\n",
    "#sf_stacked_tr_fr.insert(11, 'income', third_column)\n",
    "#sf_stacked_tr_fr.insert(12, 'actPurpose', fourth_column)"
   ]
  },
  {
   "cell_type": "code",
   "execution_count": null,
   "id": "9c9a5c70",
   "metadata": {
    "ExecuteTime": {
     "end_time": "2022-10-07T01:01:01.040620Z",
     "start_time": "2022-10-07T01:01:00.476149Z"
    }
   },
   "outputs": [],
   "source": [
    "sf_stacked[sf_stacked['mode_choice_actual_6'] == 'ride_hail_transit'].shape"
   ]
  },
  {
   "cell_type": "code",
   "execution_count": null,
   "id": "476c23f4",
   "metadata": {
    "ExecuteTime": {
     "end_time": "2022-10-07T01:00:55.847360Z",
     "start_time": "2022-10-07T01:00:55.045071Z"
    }
   },
   "outputs": [],
   "source": [
    "sf_stacked[sf_stacked['replanning_status'] > 0].shape"
   ]
  },
  {
   "cell_type": "code",
   "execution_count": 23,
   "id": "0111d8da",
   "metadata": {
    "ExecuteTime": {
     "end_time": "2022-10-07T01:01:09.566750Z",
     "start_time": "2022-10-07T01:01:08.396429Z"
    }
   },
   "outputs": [],
   "source": [
    "# Add the mandatory category column\n",
    "mandatory = ['work' , 'univ', 'school']\n",
    "sf_stacked['mandatoryCat'] = np.where((sf_stacked.actEndType.isin(mandatory)) & (sf_stacked.actStartType.isin(mandatory)), 'from_M_to_M' , None)"
   ]
  },
  {
   "cell_type": "code",
   "execution_count": 24,
   "id": "4ef447dd",
   "metadata": {
    "ExecuteTime": {
     "end_time": "2022-10-07T01:01:11.980472Z",
     "start_time": "2022-10-07T01:01:10.667391Z"
    }
   },
   "outputs": [],
   "source": [
    "sf_stacked['mandatoryCat'] = np.where((sf_stacked.actEndType == 'Home') & (sf_stacked.actStartType.isin(mandatory)), 'from_H_to_M' , sf_stacked['mandatoryCat'])"
   ]
  },
  {
   "cell_type": "code",
   "execution_count": 25,
   "id": "11c74ce2",
   "metadata": {
    "ExecuteTime": {
     "end_time": "2022-10-07T01:01:15.207664Z",
     "start_time": "2022-10-07T01:01:13.883857Z"
    }
   },
   "outputs": [],
   "source": [
    "sf_stacked['mandatoryCat'] = np.where((sf_stacked.actEndType.isin(mandatory)) & (sf_stacked.actStartType == \"Home\"), 'from_M_to_H' , sf_stacked['mandatoryCat'])"
   ]
  },
  {
   "cell_type": "code",
   "execution_count": 26,
   "id": "714163d9",
   "metadata": {
    "ExecuteTime": {
     "start_time": "2022-10-07T01:01:20.650Z"
    }
   },
   "outputs": [],
   "source": [
    "non_mandatory = ['othmaint' , 'othdiscr', 'escort', 'eatout', 'social', 'shopping', 'atwork']\n",
    "sf_stacked['mandatoryCat'] = np.where((sf_stacked.actEndType.isin(non_mandatory)) & (sf_stacked.actStartType.isin(non_mandatory)), 'from_N_to_N' , sf_stacked['mandatoryCat'])"
   ]
  },
  {
   "cell_type": "code",
   "execution_count": null,
   "id": "e409c4d8",
   "metadata": {
    "scrolled": true
   },
   "outputs": [],
   "source": [
    "# shift columns to first position\n",
    "first_column = sf_stacked.pop('mandatoryCat')\n",
    "# insert column using insert(position,column_name,first_column) function\n",
    "sf_stacked.insert(11, 'mandatoryCat', first_column)"
   ]
  },
  {
   "cell_type": "code",
   "execution_count": 27,
   "id": "7e184487",
   "metadata": {},
   "outputs": [],
   "source": [
    "# Drop unused columns\n",
    "sf_stacked = sf_stacked.drop(['num_work_tours','num_joint_tours', 'non_mandatory_tour_frequency',\n",
    "                                          'num_non_mand','num_escort_tours','num_eatout_tours','num_shop_tours',\n",
    "                                          'num_maint_tours','num_discr_tours','num_social_tours','num_non_escort_tours'], axis=1)"
   ]
  },
  {
   "cell_type": "code",
   "execution_count": null,
   "id": "4423d223",
   "metadata": {},
   "outputs": [],
   "source": [
    "sf_stacked.mode_choice_actual_BEAM.unique()"
   ]
  },
  {
   "cell_type": "code",
   "execution_count": null,
   "id": "9ff5d567",
   "metadata": {},
   "outputs": [],
   "source": [
    "sf_stacked.trip_mode_AS_trips.unique()"
   ]
  },
  {
   "cell_type": "code",
   "execution_count": 28,
   "id": "03c09937",
   "metadata": {},
   "outputs": [],
   "source": [
    "# Rename to Potential INEXUS\n",
    "sf_stacked.rename(columns={\"logsum_trip_potential_INEXUS\":\"logsum_trip_Potential_INEXUS\"}, inplace=True) "
   ]
  },
  {
   "cell_type": "code",
   "execution_count": 50,
   "id": "6304a8f9",
   "metadata": {
    "code_folding": []
   },
   "outputs": [],
   "source": [
    "# # Mapping BEAM and ASIM modes\n",
    "# conditions  = [(sf_stacked['mode_choice_actual_BEAM'] == 'walk'), \n",
    "#                (sf_stacked['mode_choice_actual_BEAM'] == 'bike'),\n",
    "#                (sf_stacked['mode_choice_actual_BEAM'] == 'hov3_teleportation')&(sf_stacked['trip_mode_AS_trips'] == 'SHARED3FREE'),\n",
    "#                (sf_stacked['mode_choice_actual_BEAM'] == 'hov3_teleportation')&(sf_stacked['trip_mode_AS_trips'] == 'SHARED3PAY'),\n",
    "#                (sf_stacked['mode_choice_actual_BEAM'] == 'car_hov3')&(sf_stacked['trip_mode_AS_trips'] == 'SHARED3FREE'),\n",
    "#                (sf_stacked['mode_choice_actual_BEAM'] == 'car_hov3')&(sf_stacked['trip_mode_AS_trips'] == 'SHARED3PAY'),\n",
    "#                (sf_stacked['mode_choice_actual_BEAM'] == 'hov2_teleportation')&(sf_stacked['trip_mode_AS_trips'] == 'SHARED2FREE'),\n",
    "#                (sf_stacked['mode_choice_actual_BEAM'] == 'hov2_teleportation')&(sf_stacked['trip_mode_AS_trips'] == 'SHARED2PAY'),\n",
    "#                (sf_stacked['mode_choice_actual_BEAM'] == 'car_hov2')&(sf_stacked['trip_mode_AS_trips'] == 'SHARED2PAY'),\n",
    "#                (sf_stacked['mode_choice_actual_BEAM'] == 'car_hov2')&(sf_stacked['trip_mode_AS_trips'] == 'SHARED2FREE'),\n",
    "#                (sf_stacked['mode_choice_actual_BEAM'] == 'car')&(sf_stacked['trip_mode_AS_trips'] == 'DRIVEALONEFREE'),\n",
    "#                (sf_stacked['mode_choice_actual_BEAM'] == 'car')&(sf_stacked['trip_mode_AS_trips'] == 'DRIVEALONEPAY'),\n",
    "#                (sf_stacked['mode_choice_actual_BEAM'] == 'walk_transit')&(sf_stacked['trip_mode_AS_trips'] == 'WALK_LRF'),\n",
    "#                (sf_stacked['mode_choice_actual_BEAM'] == 'walk_transit')&(sf_stacked['trip_mode_AS_trips'] == 'WALK_LOC'),\n",
    "#                (sf_stacked['mode_choice_actual_BEAM'] == 'walk_transit')&(sf_stacked['trip_mode_AS_trips'] == 'WALK_EXP'),\n",
    "#                (sf_stacked['mode_choice_actual_BEAM'] == 'walk_transit')&(sf_stacked['trip_mode_AS_trips'] == 'WALK_HVY'),\n",
    "#                (sf_stacked['mode_choice_actual_BEAM'] == 'ride_hail')&(sf_stacked['trip_mode_AS_trips'] == 'TNC_SINGLE'),\n",
    "#                (sf_stacked['mode_choice_actual_BEAM'] == 'ride_hail')&(sf_stacked['trip_mode_AS_trips'] == 'TNC_SHARED'),\n",
    "#                (sf_stacked['mode_choice_actual_BEAM'] == 'ride_hail_pooled')&(sf_stacked['trip_mode_AS_trips'] == 'TNC_SINGLE'),\n",
    "#                (sf_stacked['mode_choice_actual_BEAM'] == 'ride_hail')&(sf_stacked['trip_mode_AS_trips'] == 'TAXI'),\n",
    "#                (sf_stacked['mode_choice_actual_BEAM'] == 'walk_transit')&(sf_stacked['trip_mode_AS_trips'] == 'WALK_COM'),\n",
    "#                (sf_stacked['mode_choice_actual_BEAM'] == 'drive_transit')&(sf_stacked['trip_mode_AS_trips'] == 'DRIVE_COM'),\n",
    "#                (sf_stacked['mode_choice_actual_BEAM'] == 'drive_transit')&(sf_stacked['trip_mode_AS_trips'] == 'DRIVE_LRF'),\n",
    "#                (sf_stacked['mode_choice_actual_BEAM'] == 'drive_transit')&(sf_stacked['trip_mode_AS_trips'] == 'DRIVE_LOC'),\n",
    "#                (sf_stacked['mode_choice_actual_BEAM'] == 'drive_transit')&(sf_stacked['trip_mode_AS_trips'] == 'DRIVE_EXP'),\n",
    "#                (sf_stacked['mode_choice_actual_BEAM'] == 'drive_transit')&(sf_stacked['trip_mode_AS_trips'] == 'DRIVE_HVY')]\n",
    "\n",
    "# choices = [sf_stacked['WALK'], sf_stacked['BIKE'], sf_stacked['SHARED3FREE'], sf_stacked['SHARED3PAY'],\n",
    "#            sf_stacked['SHARED3FREE'], sf_stacked['SHARED3PAY'], sf_stacked['SHARED2FREE'], \n",
    "#            sf_stacked['SHARED2PAY'], sf_stacked['SHARED2PAY'], sf_stacked['SHARED2FREE'], \n",
    "#            sf_stacked['DRIVEALONEFREE'], sf_stacked['DRIVEALONEPAY'], sf_stacked['WALK_LRF'], \n",
    "#            sf_stacked['WALK_LOC'], sf_stacked['WALK_EXP'], sf_stacked['WALK_HVY'], sf_stacked['TNC_SINGLE'], \n",
    "#            sf_stacked['TNC_SHARED'], sf_stacked['TNC_SINGLE'], sf_stacked['TAXI'], sf_stacked['WALK_COM'], \n",
    "#            sf_stacked['DRIVE_COM'], sf_stacked['DRIVE_LRF'], sf_stacked['DRIVE_LOC'], sf_stacked['DRIVE_EXP'],\n",
    "#            sf_stacked['DRIVE_HVY']]"
   ]
  },
  {
   "cell_type": "code",
   "execution_count": 51,
   "id": "450a2df2",
   "metadata": {
    "code_folding": []
   },
   "outputs": [],
   "source": [
    "#sf_stacked['Realized_INEXUS'] = np.select(conditions, choices, default=np.nan)"
   ]
  },
  {
   "cell_type": "code",
   "execution_count": null,
   "id": "7f08c9ed",
   "metadata": {},
   "outputs": [],
   "source": [
    "# shift columns to first position\n",
    "#first_column = sf_stacked.pop('Realized_INEXUS')\n",
    "# insert column using insert(position,column_name,first_column) function\n",
    "#sf_stacked.insert(5, 'Realized_INEXUS', first_column)"
   ]
  },
  {
   "cell_type": "code",
   "execution_count": 57,
   "id": "d3ea8675",
   "metadata": {},
   "outputs": [],
   "source": [
    "#sf_stacked[sf_stacked['Realized_INEXUS'].isna()].shape"
   ]
  },
  {
   "cell_type": "code",
   "execution_count": null,
   "id": "a747eb02",
   "metadata": {},
   "outputs": [],
   "source": [
    "#sf_stacked[sf_stacked['Realized_INEXUS'].isna()].head(10000).to_csv('C:/Shared-Work/Data/CleanData/ASIM_BEAM_Merged/realizedIN_empty.csv', index = False)"
   ]
  },
  {
   "cell_type": "code",
   "execution_count": null,
   "id": "56093393",
   "metadata": {},
   "outputs": [],
   "source": [
    "#%%time\n",
    "#sf_stacked_tr_fr.to_csv('s3://beam-core-act/deepDive/CleanData/SanFrancisco/Stacked/sf_2018_stacked_tr_fr_v3.csv', index=False)"
   ]
  },
  {
   "cell_type": "code",
   "execution_count": 58,
   "id": "698ee745",
   "metadata": {},
   "outputs": [],
   "source": [
    "sf_stacked = sf_stacked[sf_stacked['trip_mode_AS_trips'].notna()]"
   ]
  },
  {
   "cell_type": "code",
   "execution_count": 67,
   "id": "40a3838a",
   "metadata": {},
   "outputs": [],
   "source": [
    "sf_stacked = sf_stacked.drop(['Realized_INEXUS'], axis=1)"
   ]
  },
  {
   "cell_type": "code",
   "execution_count": 68,
   "id": "6a6eeff7",
   "metadata": {
    "code_folding": []
   },
   "outputs": [],
   "source": [
    "# Mapping BEAM and ASIM modes\n",
    "conditions  = [(sf_stacked['mode_choice_actual_BEAM'] == 'walk'), \n",
    "               (sf_stacked['mode_choice_actual_BEAM'] == 'bike'),\n",
    "               (sf_stacked['mode_choice_actual_BEAM'] == 'hov3_teleportation')&(sf_stacked['trip_mode_AS_trips'] == 'SHARED3FREE'),\n",
    "               (sf_stacked['mode_choice_actual_BEAM'] == 'hov3_teleportation')&(sf_stacked['trip_mode_AS_trips'] == 'SHARED3PAY'),\n",
    "               (sf_stacked['mode_choice_actual_BEAM'] == 'car_hov3')&(sf_stacked['trip_mode_AS_trips'] == 'SHARED3FREE'),\n",
    "               (sf_stacked['mode_choice_actual_BEAM'] == 'car_hov3')&(sf_stacked['trip_mode_AS_trips'] == 'SHARED3PAY'),\n",
    "               (sf_stacked['mode_choice_actual_BEAM'] == 'hov2_teleportation')&(sf_stacked['trip_mode_AS_trips'] == 'SHARED2FREE'),\n",
    "               (sf_stacked['mode_choice_actual_BEAM'] == 'hov2_teleportation')&(sf_stacked['trip_mode_AS_trips'] == 'SHARED2PAY'),\n",
    "               (sf_stacked['mode_choice_actual_BEAM'] == 'car_hov2')&(sf_stacked['trip_mode_AS_trips'] == 'SHARED2PAY'),\n",
    "               (sf_stacked['mode_choice_actual_BEAM'] == 'car_hov2')&(sf_stacked['trip_mode_AS_trips'] == 'SHARED2FREE'),\n",
    "               (sf_stacked['mode_choice_actual_BEAM'] == 'car')&(sf_stacked['trip_mode_AS_trips'] == 'DRIVEALONEFREE'),\n",
    "               (sf_stacked['mode_choice_actual_BEAM'] == 'car')&(sf_stacked['trip_mode_AS_trips'] == 'DRIVEALONEPAY'),\n",
    "               (sf_stacked['mode_choice_actual_BEAM'] == 'walk_transit')&(sf_stacked['trip_mode_AS_trips'] == 'WALK_LRF'),\n",
    "               (sf_stacked['mode_choice_actual_BEAM'] == 'walk_transit')&(sf_stacked['trip_mode_AS_trips'] == 'WALK_LOC'),\n",
    "               (sf_stacked['mode_choice_actual_BEAM'] == 'walk_transit')&(sf_stacked['trip_mode_AS_trips'] == 'WALK_EXP'),\n",
    "               (sf_stacked['mode_choice_actual_BEAM'] == 'walk_transit')&(sf_stacked['trip_mode_AS_trips'] == 'WALK_HVY'),\n",
    "               (sf_stacked['mode_choice_actual_BEAM'] == 'ride_hail')&(sf_stacked['trip_mode_AS_trips'] == 'TNC_SINGLE'),\n",
    "               (sf_stacked['mode_choice_actual_BEAM'] == 'ride_hail')&(sf_stacked['trip_mode_AS_trips'] == 'TNC_SHARED'),\n",
    "               (sf_stacked['mode_choice_actual_BEAM'] == 'ride_hail')&(sf_stacked['trip_mode_AS_trips'] == 'TAXI'),\n",
    "               (sf_stacked['mode_choice_actual_BEAM'] == 'walk_transit')&(sf_stacked['trip_mode_AS_trips'] == 'WALK_COM'),\n",
    "               (sf_stacked['mode_choice_actual_BEAM'] == 'drive_transit')&(sf_stacked['trip_mode_AS_trips'] == 'DRIVE_COM'),\n",
    "               (sf_stacked['mode_choice_actual_BEAM'] == 'drive_transit')&(sf_stacked['trip_mode_AS_trips'] == 'DRIVE_LRF'),\n",
    "               (sf_stacked['mode_choice_actual_BEAM'] == 'drive_transit')&(sf_stacked['trip_mode_AS_trips'] == 'DRIVE_LOC'),\n",
    "               (sf_stacked['mode_choice_actual_BEAM'] == 'drive_transit')&(sf_stacked['trip_mode_AS_trips'] == 'DRIVE_EXP'),\n",
    "               (sf_stacked['mode_choice_actual_BEAM'] == 'drive_transit')&(sf_stacked['trip_mode_AS_trips'] == 'DRIVE_HVY'),\n",
    "               (sf_stacked['mode_choice_actual_BEAM'] == 'hov3_teleportation')&(sf_stacked['trip_mode_AS_trips'] == 'SHARED2FREE'),\n",
    "               (sf_stacked['mode_choice_actual_BEAM'] == 'car')&(sf_stacked['trip_mode_AS_trips'] == 'SHARED2PAY'),\n",
    "               (sf_stacked['mode_choice_actual_BEAM'] == 'car')&(sf_stacked['trip_mode_AS_trips'] == 'SHARED3PAY'),\n",
    "               (sf_stacked['mode_choice_actual_BEAM'] == 'car_hov2')&(sf_stacked['trip_mode_AS_trips'] == 'SHARED3FREE'),\n",
    "               (sf_stacked['mode_choice_actual_BEAM'] == 'car_hov2')&(sf_stacked['trip_mode_AS_trips'] == 'SHARED3PAY'),\n",
    "               (sf_stacked['mode_choice_actual_BEAM'] == 'car_hov3')&(sf_stacked['trip_mode_AS_trips'] == 'SHARED2FREE'),\n",
    "               (sf_stacked['mode_choice_actual_BEAM'] == 'car_hov3')&(sf_stacked['trip_mode_AS_trips'] == 'SHARED2PAY'),\n",
    "               (sf_stacked['mode_choice_actual_BEAM'] == 'hov2_teleportation')&(sf_stacked['trip_mode_AS_trips'] == 'SHARED3FREE'),\n",
    "               (sf_stacked['mode_choice_actual_BEAM'] == 'hov2_teleportation')&(sf_stacked['trip_mode_AS_trips'] == 'SHARED3PAY'),\n",
    "               (sf_stacked['mode_choice_actual_BEAM'] == 'car')&(sf_stacked['trip_mode_AS_trips'] == 'SHARED3FREE'),\n",
    "               (sf_stacked['mode_choice_actual_BEAM'] == 'car_hov2')&(sf_stacked['trip_mode_AS_trips'] == 'DRIVEALONEPAY'),\n",
    "               (sf_stacked['mode_choice_actual_BEAM'] == 'car_hov2')&(sf_stacked['trip_mode_AS_trips'] == 'DRIVEALONEFREE'),\n",
    "               (sf_stacked['mode_choice_actual_BEAM'] == 'hov2_teleportation')&(sf_stacked['trip_mode_AS_trips'] == 'DRIVEALONEFREE'),\n",
    "               (sf_stacked['mode_choice_actual_BEAM'] == 'hov2_teleportation')&(sf_stacked['trip_mode_AS_trips'] == 'DRIVEALONEPAY'),\n",
    "               (sf_stacked['mode_choice_actual_BEAM'] == 'car')&(sf_stacked['trip_mode_AS_trips'] == 'SHARED2FREE'),\n",
    "               (sf_stacked['mode_choice_actual_BEAM'] == 'car_hov3')&(sf_stacked['trip_mode_AS_trips'] == 'DRIVEALONEPAY'),\n",
    "               (sf_stacked['mode_choice_actual_BEAM'] == 'car_hov3')&(sf_stacked['trip_mode_AS_trips'] == 'DRIVEALONEFREE'),\n",
    "               (sf_stacked['mode_choice_actual_BEAM'] == 'hov3_teleportation')&(sf_stacked['trip_mode_AS_trips'] == 'DRIVEALONEFREE'),\n",
    "               (sf_stacked['mode_choice_actual_BEAM'] == 'hov3_teleportation')&(sf_stacked['trip_mode_AS_trips'] == 'DRIVEALONEPAY'),\n",
    "               (sf_stacked['mode_choice_actual_BEAM'] == 'hov3_teleportation')&(sf_stacked['trip_mode_AS_trips'] == 'SHARED2PAY'),\n",
    "               (sf_stacked['mode_choice_actual_BEAM'] == 'ride_hail_pooled')&(sf_stacked['ride_hail_pooled'] > 1),\n",
    "               (sf_stacked['mode_choice_actual_BEAM'] == 'hov3_teleportation')&(sf_stacked['trip_mode_AS_trips'] == 'WALK'),\n",
    "               (sf_stacked['mode_choice_actual_BEAM'] == 'hov2_teleportation')&(sf_stacked['trip_mode_AS_trips'] == 'WALK'),\n",
    "               (sf_stacked['mode_choice_actual_BEAM'] == 'car_hov2')&((sf_stacked['trip_mode_AS_trips'] == 'WALK_HVY')|\n",
    "                    (sf_stacked['trip_mode_AS_trips'] == 'WALK_COM')|(sf_stacked['trip_mode_AS_trips'] == 'WALK_EXP')|\n",
    "                    (sf_stacked['trip_mode_AS_trips'] == 'DRIVE_COM')|(sf_stacked['trip_mode_AS_trips'] == 'DRIVE_EXP')|\n",
    "                    (sf_stacked['trip_mode_AS_trips'] == 'DRIVE_HVY')|(sf_stacked['trip_mode_AS_trips'] == 'DRIVE_LOC')|\n",
    "                    (sf_stacked['trip_mode_AS_trips'] == 'DRIVE_LRF')|(sf_stacked['trip_mode_AS_trips'] == 'WALK_LRF')| \n",
    "                    (sf_stacked['trip_mode_AS_trips'] == 'WALK_LOC')|(sf_stacked['trip_mode_AS_trips'] == 'WALK')|\n",
    "                    (sf_stacked['trip_mode_AS_trips'] == 'BIKE')|(sf_stacked['trip_mode_AS_trips'] == 'TNC_SINGLE')|\n",
    "                    (sf_stacked['trip_mode_AS_trips'] == 'TNC_SHARED')|(sf_stacked['trip_mode_AS_trips'] == 'TAXI'))\n",
    "                    & (sf_stacked['cost_BEAM'] > 2.5),\n",
    "               (sf_stacked['mode_choice_actual_BEAM'] == 'car_hov3')&((sf_stacked['trip_mode_AS_trips'] == 'WALK_HVY')|\n",
    "                    (sf_stacked['trip_mode_AS_trips'] == 'WALK_COM')|(sf_stacked['trip_mode_AS_trips'] == 'WALK_EXP')|\n",
    "                    (sf_stacked['trip_mode_AS_trips'] == 'DRIVE_COM')|(sf_stacked['trip_mode_AS_trips'] == 'DRIVE_EXP')|\n",
    "                    (sf_stacked['trip_mode_AS_trips'] == 'DRIVE_HVY')|(sf_stacked['trip_mode_AS_trips'] == 'DRIVE_LOC')|\n",
    "                    (sf_stacked['trip_mode_AS_trips'] == 'DRIVE_LRF')|(sf_stacked['trip_mode_AS_trips'] == 'WALK_LRF')| \n",
    "                    (sf_stacked['trip_mode_AS_trips'] == 'WALK_LOC')|(sf_stacked['trip_mode_AS_trips'] == 'WALK')|\n",
    "                    (sf_stacked['trip_mode_AS_trips'] == 'BIKE')|(sf_stacked['trip_mode_AS_trips'] == 'TNC_SINGLE')|\n",
    "                    (sf_stacked['trip_mode_AS_trips'] == 'TNC_SHARED')|(sf_stacked['trip_mode_AS_trips'] == 'TAXI'))\n",
    "                    & (sf_stacked['cost_BEAM'] > 2.5),\n",
    "              (sf_stacked['mode_choice_actual_BEAM'] == 'car_hov2')&((sf_stacked['trip_mode_AS_trips'] == 'WALK_HVY')|\n",
    "                    (sf_stacked['trip_mode_AS_trips'] == 'WALK_COM')|(sf_stacked['trip_mode_AS_trips'] == 'WALK_EXP')|\n",
    "                    (sf_stacked['trip_mode_AS_trips'] == 'DRIVE_COM')|(sf_stacked['trip_mode_AS_trips'] == 'DRIVE_EXP')|\n",
    "                    (sf_stacked['trip_mode_AS_trips'] == 'DRIVE_HVY')|(sf_stacked['trip_mode_AS_trips'] == 'DRIVE_LOC')|\n",
    "                    (sf_stacked['trip_mode_AS_trips'] == 'DRIVE_LRF')|(sf_stacked['trip_mode_AS_trips'] == 'WALK_LRF')| \n",
    "                    (sf_stacked['trip_mode_AS_trips'] == 'WALK_LOC')|(sf_stacked['trip_mode_AS_trips'] == 'WALK')|\n",
    "                    (sf_stacked['trip_mode_AS_trips'] == 'BIKE')|(sf_stacked['trip_mode_AS_trips'] == 'TNC_SINGLE')|\n",
    "                    (sf_stacked['trip_mode_AS_trips'] == 'TNC_SHARED')|(sf_stacked['trip_mode_AS_trips'] == 'TAXI'))\n",
    "                    & (sf_stacked['cost_BEAM'] <= 2.5),\n",
    "               (sf_stacked['mode_choice_actual_BEAM'] == 'car_hov3')&((sf_stacked['trip_mode_AS_trips'] == 'WALK_HVY')|\n",
    "                    (sf_stacked['trip_mode_AS_trips'] == 'WALK_COM')|(sf_stacked['trip_mode_AS_trips'] == 'WALK_EXP')|\n",
    "                    (sf_stacked['trip_mode_AS_trips'] == 'DRIVE_COM')|(sf_stacked['trip_mode_AS_trips'] == 'DRIVE_EXP')|\n",
    "                    (sf_stacked['trip_mode_AS_trips'] == 'DRIVE_HVY')|(sf_stacked['trip_mode_AS_trips'] == 'DRIVE_LOC')|\n",
    "                    (sf_stacked['trip_mode_AS_trips'] == 'DRIVE_LRF')|(sf_stacked['trip_mode_AS_trips'] == 'WALK_LRF')| \n",
    "                    (sf_stacked['trip_mode_AS_trips'] == 'WALK_LOC')|(sf_stacked['trip_mode_AS_trips'] == 'WALK')|\n",
    "                    (sf_stacked['trip_mode_AS_trips'] == 'BIKE')|(sf_stacked['trip_mode_AS_trips'] == 'TNC_SINGLE')|\n",
    "                    (sf_stacked['trip_mode_AS_trips'] == 'TNC_SHARED')|(sf_stacked['trip_mode_AS_trips'] == 'TAXI'))\n",
    "                    & (sf_stacked['cost_BEAM'] <= 2.5),\n",
    "               (sf_stacked['mode_choice_actual_BEAM'] == 'car')&((sf_stacked['trip_mode_AS_trips'] == 'WALK_HVY')|\n",
    "                    (sf_stacked['trip_mode_AS_trips'] == 'WALK_COM')|(sf_stacked['trip_mode_AS_trips'] == 'WALK_EXP')|\n",
    "                    (sf_stacked['trip_mode_AS_trips'] == 'DRIVE_COM')|(sf_stacked['trip_mode_AS_trips'] == 'DRIVE_EXP')|\n",
    "                    (sf_stacked['trip_mode_AS_trips'] == 'DRIVE_HVY')|(sf_stacked['trip_mode_AS_trips'] == 'DRIVE_LOC')|\n",
    "                    (sf_stacked['trip_mode_AS_trips'] == 'DRIVE_LRF')|(sf_stacked['trip_mode_AS_trips'] == 'WALK_LRF')| \n",
    "                    (sf_stacked['trip_mode_AS_trips'] == 'WALK_LOC')|(sf_stacked['trip_mode_AS_trips'] == 'WALK')|\n",
    "                    (sf_stacked['trip_mode_AS_trips'] == 'BIKE')|(sf_stacked['trip_mode_AS_trips'] == 'TNC_SINGLE')|\n",
    "                    (sf_stacked['trip_mode_AS_trips'] == 'TNC_SHARED')|(sf_stacked['trip_mode_AS_trips'] == 'TAXI'))\n",
    "                    & (sf_stacked['cost_BEAM'] <= 2.5),\n",
    "               (sf_stacked['mode_choice_actual_BEAM'] == 'car')&((sf_stacked['trip_mode_AS_trips'] == 'WALK_HVY')|\n",
    "                    (sf_stacked['trip_mode_AS_trips'] == 'WALK_COM')|(sf_stacked['trip_mode_AS_trips'] == 'WALK_EXP')|\n",
    "                    (sf_stacked['trip_mode_AS_trips'] == 'DRIVE_COM')|(sf_stacked['trip_mode_AS_trips'] == 'DRIVE_EXP')|\n",
    "                    (sf_stacked['trip_mode_AS_trips'] == 'DRIVE_HVY')|(sf_stacked['trip_mode_AS_trips'] == 'DRIVE_LOC')|\n",
    "                    (sf_stacked['trip_mode_AS_trips'] == 'DRIVE_LRF')|(sf_stacked['trip_mode_AS_trips'] == 'WALK_LRF')| \n",
    "                    (sf_stacked['trip_mode_AS_trips'] == 'WALK_LOC')|(sf_stacked['trip_mode_AS_trips'] == 'WALK')|\n",
    "                    (sf_stacked['trip_mode_AS_trips'] == 'BIKE')|(sf_stacked['trip_mode_AS_trips'] == 'TNC_SINGLE')|\n",
    "                    (sf_stacked['trip_mode_AS_trips'] == 'TNC_SHARED')|(sf_stacked['trip_mode_AS_trips'] == 'TAXI'))\n",
    "                    & (sf_stacked['cost_BEAM'] > 2.5),\n",
    "               (sf_stacked['mode_choice_actual_BEAM'] == 'ride_hail_pooled'),\n",
    "               (sf_stacked['mode_choice_actual_BEAM'] == 'ride_hail_transit')&(sf_stacked['trip_mode_AS_trips'] == 'DRIVE_COM'),\n",
    "               (sf_stacked['mode_choice_actual_BEAM'] == 'ride_hail_transit')&(sf_stacked['trip_mode_AS_trips'] == 'DRIVE_LRF'),\n",
    "               (sf_stacked['mode_choice_actual_BEAM'] == 'ride_hail_transit')&(sf_stacked['trip_mode_AS_trips'] == 'DRIVE_LOC'),\n",
    "               (sf_stacked['mode_choice_actual_BEAM'] == 'ride_hail_transit')&(sf_stacked['trip_mode_AS_trips'] == 'DRIVE_EXP'),\n",
    "               (sf_stacked['mode_choice_actual_BEAM'] == 'ride_hail_transit')&(sf_stacked['trip_mode_AS_trips'] == 'DRIVE_HVY'),\n",
    "               (sf_stacked['mode_choice_actual_BEAM'] == 'ride_hail_transit')&(sf_stacked['trip_mode_AS_trips'] == 'WALK_COM'),\n",
    "               (sf_stacked['mode_choice_actual_BEAM'] == 'ride_hail_transit')&(sf_stacked['trip_mode_AS_trips'] == 'WALK_LRF'),\n",
    "               (sf_stacked['mode_choice_actual_BEAM'] == 'ride_hail_transit')&(sf_stacked['trip_mode_AS_trips'] == 'WALK_LOC'),\n",
    "               (sf_stacked['mode_choice_actual_BEAM'] == 'ride_hail_transit')&(sf_stacked['trip_mode_AS_trips'] == 'WALK_EXP'),\n",
    "               (sf_stacked['mode_choice_actual_BEAM'] == 'ride_hail_transit')&(sf_stacked['trip_mode_AS_trips'] == 'WALK_HVY')]\n",
    "        \n",
    "choices = [sf_stacked['WALK'], sf_stacked['BIKE'], sf_stacked['SHARED3FREE'], sf_stacked['SHARED3PAY'],\n",
    "           sf_stacked['SHARED3FREE'], sf_stacked['SHARED3PAY'], sf_stacked['SHARED2FREE'], \n",
    "           sf_stacked['SHARED2PAY'], sf_stacked['SHARED2PAY'], sf_stacked['SHARED2FREE'], \n",
    "           sf_stacked['DRIVEALONEFREE'], sf_stacked['DRIVEALONEPAY'], sf_stacked['WALK_LRF'], \n",
    "           sf_stacked['WALK_LOC'], sf_stacked['WALK_EXP'], sf_stacked['WALK_HVY'], sf_stacked['TNC_SINGLE'], \n",
    "           sf_stacked['TNC_SHARED'], sf_stacked['TAXI'], sf_stacked['WALK_COM'], \n",
    "           sf_stacked['DRIVE_COM'], sf_stacked['DRIVE_LRF'], sf_stacked['DRIVE_LOC'], sf_stacked['DRIVE_EXP'],\n",
    "           sf_stacked['DRIVE_HVY'], sf_stacked['SHARED3FREE'], sf_stacked['DRIVEALONEPAY'], sf_stacked['DRIVEALONEPAY'],\n",
    "           sf_stacked['SHARED2FREE'], sf_stacked['SHARED2PAY'], sf_stacked['SHARED3FREE'],  sf_stacked['SHARED3PAY'],\n",
    "           sf_stacked['SHARED2FREE'], sf_stacked['SHARED2PAY'], sf_stacked['DRIVEALONEFREE'], sf_stacked['SHARED2PAY'], \n",
    "           sf_stacked['SHARED2FREE'], sf_stacked['SHARED2FREE'], sf_stacked['SHARED2PAY'], sf_stacked['DRIVEALONEFREE'], \n",
    "           sf_stacked['SHARED3PAY'], sf_stacked['SHARED3FREE'], sf_stacked['SHARED3FREE'], sf_stacked['SHARED3PAY'],\n",
    "           sf_stacked['SHARED3PAY'], sf_stacked['TNC_SHARED'], sf_stacked['SHARED3FREE'], sf_stacked['SHARED2FREE'],\n",
    "           sf_stacked['SHARED2PAY'], sf_stacked['SHARED3PAY'], sf_stacked['SHARED2FREE'],sf_stacked['SHARED3FREE'],\n",
    "           sf_stacked['DRIVEALONEFREE'], sf_stacked['DRIVEALONEPAY'], sf_stacked['TNC_SHARED'], sf_stacked['DRIVE_COM'],\n",
    "           sf_stacked['DRIVE_LRF'], sf_stacked['DRIVE_LOC'], sf_stacked['DRIVE_EXP'], sf_stacked['DRIVE_HVY'],\n",
    "           sf_stacked['WALK_COM'], sf_stacked['WALK_LRF'], sf_stacked['WALK_LOC'], sf_stacked['WALK_EXP'],\n",
    "           sf_stacked['WALK_HVY']]"
   ]
  },
  {
   "cell_type": "code",
   "execution_count": 69,
   "id": "efacd110",
   "metadata": {
    "scrolled": true
   },
   "outputs": [],
   "source": [
    "sf_stacked['Realized_INEXUS'] = np.select(conditions, choices, default=np.nan)"
   ]
  },
  {
   "cell_type": "code",
   "execution_count": null,
   "id": "034f8494",
   "metadata": {},
   "outputs": [],
   "source": [
    "# shift columns to first position\n",
    "#first_column = sf_stacked.pop('Realized_INEXUS')\n",
    "# insert column using insert(position,column_name,first_column) function\n",
    "#sf_stacked.insert(5, 'Realized_INEXUS', first_column)"
   ]
  },
  {
   "cell_type": "code",
   "execution_count": 70,
   "id": "5c897be9",
   "metadata": {},
   "outputs": [],
   "source": [
    "sf_stacked['Realized_INEXUS'] = np.where((sf_stacked['Realized_INEXUS'].isna())&\n",
    "                                               (sf_stacked['mode_choice_actual_BEAM'] == 'ride_hail')&\n",
    "                                               ((sf_stacked['numPassengers'] == '1.0, 1.0, 1.0')|\n",
    "                                                (sf_stacked['numPassengers'] =='1.0, 1.0, 1.0, 1.0')|\n",
    "                                                (sf_stacked['numPassengers'] =='1.0, 1.0, 1.0, 1.0, 1.0')|\n",
    "                                                (sf_stacked['numPassengers'] =='1.0, 0.0, 0.0, 1.0, 1.0, 1.0, 1.0')|\n",
    "                                                (sf_stacked['numPassengers'] =='1.0, 8.0, 8.0, 7.0, 1.0, 1.0, 1.0, 1.0')|\n",
    "                                                (sf_stacked['numPassengers'] =='1.0, 16.0, 1.0, 1.0, 1.0, 1.0')|\n",
    "                                                (sf_stacked['numPassengers'] =='1.0, 10.0, 11.0, 1.0, 1.0, 1.0, 1.0')), \n",
    "                                                sf_stacked['TNC_SINGLE'], sf_stacked['Realized_INEXUS']) "
   ]
  },
  {
   "cell_type": "code",
   "execution_count": 71,
   "id": "9d97d74c",
   "metadata": {},
   "outputs": [],
   "source": [
    "sf_stacked['Realized_INEXUS'] = np.where((sf_stacked['Realized_INEXUS'].isna())&\n",
    "                                               (sf_stacked['mode_choice_actual_BEAM'] == 'hov2_teleportation'), \n",
    "                                                sf_stacked.loc[:, [\"SHARED2FREE\", \"SHARED2PAY\"]].max(1), sf_stacked['Realized_INEXUS']) "
   ]
  },
  {
   "cell_type": "code",
   "execution_count": 72,
   "id": "fcbc06a7",
   "metadata": {},
   "outputs": [],
   "source": [
    "sf_stacked['Realized_INEXUS'] = np.where((sf_stacked['Realized_INEXUS'].isna())&\n",
    "                                               (sf_stacked['mode_choice_actual_BEAM'] == 'hov3_teleportation'), \n",
    "                                                sf_stacked.loc[:, [\"SHARED3FREE\", \"SHARED3PAY\"]].max(1), sf_stacked['Realized_INEXUS']) "
   ]
  },
  {
   "cell_type": "code",
   "execution_count": 73,
   "id": "52ed95e4",
   "metadata": {},
   "outputs": [],
   "source": [
    "sf_stacked['Realized_INEXUS'] = np.where((sf_stacked['Realized_INEXUS'].isna())&\n",
    "                                               (sf_stacked['mode_choice_actual_BEAM'] == 'walk_transit'), \n",
    "                                                sf_stacked.loc[:, [\"WALK_COM\", \"WALK_LRF\", \"WALK_LOC\", \"WALK_EXP\",\n",
    "                                                      \"WALK_HVY\"]].max(1), sf_stacked['Realized_INEXUS']) "
   ]
  },
  {
   "cell_type": "code",
   "execution_count": 74,
   "id": "63c2ff30",
   "metadata": {},
   "outputs": [],
   "source": [
    "sf_stacked['Realized_INEXUS'] = np.where((sf_stacked['Realized_INEXUS'].isna())&\n",
    "                                               (sf_stacked['mode_choice_actual_BEAM'] == 'drive_transit'), \n",
    "                                                sf_stacked.loc[:, [\"DRIVE_COM\", \"DRIVE_LRF\", \"DRIVE_LOC\", \"DRIVE_EXP\",\n",
    "                                                      \"DRIVE_HVY\"]].max(1), sf_stacked['Realized_INEXUS']) "
   ]
  },
  {
   "cell_type": "code",
   "execution_count": 75,
   "id": "af7cd98d",
   "metadata": {},
   "outputs": [],
   "source": [
    "sf_stacked['Realized_INEXUS'] = np.where((sf_stacked['Realized_INEXUS'].isna())&\n",
    "                                               (sf_stacked['mode_choice_actual_BEAM'] == 'bike_transit')&\n",
    "                                               (sf_stacked['trip_mode_AS_trips'] == 'BIKE'), \n",
    "                                                sf_stacked['BIKE'], sf_stacked['Realized_INEXUS']) "
   ]
  },
  {
   "cell_type": "code",
   "execution_count": 76,
   "id": "d0d2e3c5",
   "metadata": {},
   "outputs": [],
   "source": [
    "sf_stacked['Realized_INEXUS'] = np.where((sf_stacked['Realized_INEXUS'].isna())&\n",
    "                                               (sf_stacked['mode_choice_actual_BEAM'] == 'bike_transit')&\n",
    "                                               (sf_stacked['trip_mode_AS_trips'] == 'BIKE'), \n",
    "                                                sf_stacked['BIKE'], sf_stacked['Realized_INEXUS']) "
   ]
  },
  {
   "cell_type": "code",
   "execution_count": 77,
   "id": "ca147e23",
   "metadata": {},
   "outputs": [],
   "source": [
    "sf_stacked['Realized_INEXUS'] = np.where((sf_stacked['Realized_INEXUS'].isna())&\n",
    "                                               (sf_stacked['mode_choice_actual_BEAM'] == 'ride_hail'), \n",
    "                                                sf_stacked['TNC_SINGLE'], sf_stacked['Realized_INEXUS'])"
   ]
  },
  {
   "cell_type": "code",
   "execution_count": 78,
   "id": "640300e7",
   "metadata": {},
   "outputs": [
    {
     "data": {
      "text/plain": [
       "(3303, 121)"
      ]
     },
     "execution_count": 78,
     "metadata": {},
     "output_type": "execute_result"
    }
   ],
   "source": [
    "sf_stacked[sf_stacked['Realized_INEXUS'].isna()].shape"
   ]
  },
  {
   "cell_type": "code",
   "execution_count": null,
   "id": "1ac28b2e",
   "metadata": {},
   "outputs": [],
   "source": [
    "#sf_stacked_tr_fr['Realized_INEXUS'] = np.where((sf_stacked_tr_fr['Realized_INEXUS'].isna())&\n",
    "                                               #(sf_stacked_tr_fr['mode_choice_actual_BEAM'] == 'walk_transit')&\n",
    "                                               #(sf_stacked_tr_fr['vehicleIds'].str.contains('(caltrain)')), \n",
    "                                               #sf_stacked_tr_fr['WALK_COM'], sf_stacked_tr_fr['Realized_INEXUS'])"
   ]
  },
  {
   "cell_type": "code",
   "execution_count": 79,
   "id": "aef4dfd1",
   "metadata": {},
   "outputs": [],
   "source": [
    "sf_stacked = sf_stacked[sf_stacked['Realized_INEXUS'].notna()]"
   ]
  },
  {
   "cell_type": "code",
   "execution_count": null,
   "id": "b41ec71d",
   "metadata": {},
   "outputs": [],
   "source": [
    "#sf_stacked_tr_fr[sf_stacked_tr_fr['Realized_INEXUS'].isna()].to_csv('C:/Shared-Work/Data/CleanData/ASIM_BEAM_Merged/realizedIN_empty.csv', index = False)"
   ]
  },
  {
   "cell_type": "markdown",
   "id": "f6b51cec",
   "metadata": {},
   "source": [
    "#### Social INEXUS"
   ]
  },
  {
   "cell_type": "code",
   "execution_count": 80,
   "id": "f71361fc",
   "metadata": {},
   "outputs": [
    {
     "data": {
      "text/plain": [
       "0.000000    -14600.000000\n",
       "0.250000     50000.000000\n",
       "0.500000     94000.000000\n",
       "0.750000    155000.000000\n",
       "1.000000   1354000.000000\n",
       "Name: income, dtype: float64"
      ]
     },
     "execution_count": 80,
     "metadata": {},
     "output_type": "execute_result"
    }
   ],
   "source": [
    "sf_stacked.income.quantile([0, 0.25,0.5,0.75, 1.00])"
   ]
  },
  {
   "cell_type": "code",
   "execution_count": 81,
   "id": "92d2e82c",
   "metadata": {},
   "outputs": [],
   "source": [
    "# determine the quartile values to use with pd.cut\n",
    "quantiles = sf_stacked['income'].quantile([0,.25, .5, .75,1]).tolist()"
   ]
  },
  {
   "cell_type": "code",
   "execution_count": 82,
   "id": "a42c8558",
   "metadata": {},
   "outputs": [
    {
     "data": {
      "text/plain": [
       "[-14600.0, 50000.0, 94000.0, 155000.0, 1354000.0]"
      ]
     },
     "execution_count": 82,
     "metadata": {},
     "output_type": "execute_result"
    }
   ],
   "source": [
    "quantiles"
   ]
  },
  {
   "cell_type": "code",
   "execution_count": null,
   "id": "f34e8e1e",
   "metadata": {},
   "outputs": [],
   "source": [
    "# add a lower and upper range for the bins in pd.cut\n",
    "#quartiles = [0] + quartiles + [float('inf')]"
   ]
  },
  {
   "cell_type": "code",
   "execution_count": null,
   "id": "5453a2a7",
   "metadata": {},
   "outputs": [],
   "source": [
    "# add a quartiles column to groups, using pd.cut\n",
    "#sf_stacked['income_quartiles'] = pd.cut(sf_stacked['income'], bins=quartiles, labels=['1stQ', '2ndQ', '3rdQ', '4thQ'])"
   ]
  },
  {
   "cell_type": "code",
   "execution_count": 83,
   "id": "369a941b",
   "metadata": {},
   "outputs": [],
   "source": [
    "sf_stacked['income_quartiles'] = np.where((sf_stacked['income']>= -14600)&(sf_stacked['income']< 50000), '1stQ', '4thQ')"
   ]
  },
  {
   "cell_type": "code",
   "execution_count": 84,
   "id": "d46fcb41",
   "metadata": {},
   "outputs": [],
   "source": [
    "sf_stacked['income_quartiles'] = np.where((sf_stacked['income']>= 50000)&(sf_stacked['income']< 94000), '2ndQ', sf_stacked['income_quartiles'])"
   ]
  },
  {
   "cell_type": "code",
   "execution_count": 85,
   "id": "4baf76c8",
   "metadata": {},
   "outputs": [],
   "source": [
    "sf_stacked['income_quartiles'] = np.where((sf_stacked['income']>= 94000)&(sf_stacked['income']< 155000), '3rdQ', sf_stacked['income_quartiles'])"
   ]
  },
  {
   "cell_type": "code",
   "execution_count": 86,
   "id": "c42af67a",
   "metadata": {},
   "outputs": [],
   "source": [
    "m = sf_stacked.groupby(['income_quartiles'])['income'].median()"
   ]
  },
  {
   "cell_type": "code",
   "execution_count": 87,
   "id": "6e3be287",
   "metadata": {},
   "outputs": [
    {
     "data": {
      "text/plain": [
       "income_quartiles\n",
       "1stQ    28900.000000\n",
       "2ndQ    70000.000000\n",
       "3rdQ   120000.000000\n",
       "4thQ   217200.000000\n",
       "Name: income, dtype: float64"
      ]
     },
     "execution_count": 87,
     "metadata": {},
     "output_type": "execute_result"
    }
   ],
   "source": [
    "m"
   ]
  },
  {
   "cell_type": "code",
   "execution_count": 88,
   "id": "062d1f52",
   "metadata": {},
   "outputs": [],
   "source": [
    "# Mapping BEAM and ASIM modes\n",
    "conditions  = [(sf_stacked['income_quartiles'] == '1stQ'), \n",
    "               (sf_stacked['income_quartiles'] == '2ndQ'),\n",
    "               (sf_stacked['income_quartiles'] == '3rdQ'),\n",
    "               (sf_stacked['income_quartiles'] == '4thQ')]\n",
    "\n",
    "choices = [29300, 70000, 120000, 219000]"
   ]
  },
  {
   "cell_type": "code",
   "execution_count": 89,
   "id": "e5787b98",
   "metadata": {},
   "outputs": [],
   "source": [
    "sf_stacked['MedianQuartiles'] = np.select(conditions, choices, default=np.nan)"
   ]
  },
  {
   "cell_type": "code",
   "execution_count": 90,
   "id": "3051d584",
   "metadata": {},
   "outputs": [],
   "source": [
    "sf_stacked['alpha'] = 0.1"
   ]
  },
  {
   "cell_type": "code",
   "execution_count": 91,
   "id": "11864852",
   "metadata": {},
   "outputs": [],
   "source": [
    "sf_stacked['socialCarbonCost'] = sf_stacked['emission_marginal']*185 # 51 or 102"
   ]
  },
  {
   "cell_type": "code",
   "execution_count": 92,
   "id": "1278d22e",
   "metadata": {},
   "outputs": [],
   "source": [
    "sf_stacked['Social_INEXUS'] = (sf_stacked['Realized_INEXUS']/sf_stacked['alpha']) - sf_stacked['socialCarbonCost']"
   ]
  },
  {
   "cell_type": "code",
   "execution_count": 93,
   "id": "253178e9",
   "metadata": {},
   "outputs": [],
   "source": [
    "sf_stacked['Potential_INEXUS_in_dollar'] = sf_stacked['logsum_trip_Potential_INEXUS']/sf_stacked['alpha']"
   ]
  },
  {
   "cell_type": "code",
   "execution_count": 94,
   "id": "e1fe632a",
   "metadata": {},
   "outputs": [],
   "source": [
    "sf_stacked['Realized_INEXUS_in_dollar'] = sf_stacked['Realized_INEXUS']/sf_stacked['alpha']"
   ]
  },
  {
   "cell_type": "markdown",
   "id": "e6e0a1bd",
   "metadata": {},
   "source": [
    "#### The following chunks are useful but should be checked in the next runs (they resulted in exact same realized and potential inexus in dollar"
   ]
  },
  {
   "cell_type": "code",
   "execution_count": null,
   "id": "656ac3fd",
   "metadata": {},
   "outputs": [],
   "source": [
    "# shift columns to first position\n",
    "#first_column = sf_stacked.pop('Social_INEXUS')\n",
    "# insert column using insert(position,column_name,first_column) function\n",
    "#sf_stacked.insert(6, 'Social_INEXUS', first_column)"
   ]
  },
  {
   "cell_type": "code",
   "execution_count": null,
   "id": "26b1ea44",
   "metadata": {},
   "outputs": [],
   "source": [
    "# shift columns to first position\n",
    "#first_column = sf_stacked.pop('Potential_INEXUS_in_dollar')\n",
    "#second_column = sf_stacked.pop('Realized_INEXUS_in_dollar')\n",
    "# insert column using insert(position,column_name,first_column) function\n",
    "#sf_stacked.insert(7, 'Potential_INEXUS_in_dollar', first_column)\n",
    "#sf_stacked.insert(8, 'Realized_INEXUS_in_dollar', first_column)"
   ]
  },
  {
   "cell_type": "code",
   "execution_count": 95,
   "id": "133a19de",
   "metadata": {},
   "outputs": [
    {
     "name": "stdout",
     "output_type": "stream",
     "text": [
      "CPU times: total: 20min 31s\n",
      "Wall time: 27min 39s\n"
     ]
    }
   ],
   "source": [
    "%%time\n",
    "sf_stacked.to_csv('s3://beam-core-act/deepDive/CleanData/SanFrancisco/Stacked/sf_2018_stacked_rh_price_10_8_22.csv', index=False)"
   ]
  },
  {
   "cell_type": "code",
   "execution_count": null,
   "id": "f08b313b",
   "metadata": {},
   "outputs": [],
   "source": []
  }
 ],
 "metadata": {
  "kernelspec": {
   "display_name": "Python 3 (ipykernel)",
   "language": "python",
   "name": "python3"
  },
  "language_info": {
   "codemirror_mode": {
    "name": "ipython",
    "version": 3
   },
   "file_extension": ".py",
   "mimetype": "text/x-python",
   "name": "python",
   "nbconvert_exporter": "python",
   "pygments_lexer": "ipython3",
   "version": "3.9.7"
  },
  "toc": {
   "base_numbering": 1,
   "nav_menu": {},
   "number_sections": true,
   "sideBar": true,
   "skip_h1_title": false,
   "title_cell": "Table of Contents",
   "title_sidebar": "Contents",
   "toc_cell": false,
   "toc_position": {},
   "toc_section_display": true,
   "toc_window_display": false
  }
 },
 "nbformat": 4,
 "nbformat_minor": 5
}
