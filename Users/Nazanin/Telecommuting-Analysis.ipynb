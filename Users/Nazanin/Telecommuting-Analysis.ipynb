{
 "cells": [
  {
   "cell_type": "code",
   "execution_count": 1,
   "id": "c0f71a2c",
   "metadata": {},
   "outputs": [],
   "source": [
    "import os\n",
    "import os.path as op\n",
    "import numpy as np\n",
    "import pandas as pd\n",
    "import matplotlib.pyplot as plt\n",
    "import matplotlib.colors as mcolors\n",
    "%matplotlib inline\n",
    "import seaborn as sns\n",
    "sns.set_theme(style=\"darkgrid\", color_codes=True)\n",
    "sns.set(font_scale=1.35, style=\"ticks\") #set styling preferences\n",
    "import statsmodels.api as sm\n",
    "from scipy import stats\n",
    "import math\n",
    "from math import pi\n",
    "from pandas.api.types import is_string_dtype\n",
    "from pandas.api.types import is_numeric_dtype\n",
    "from scipy.spatial.distance import cdist\n",
    "from scipy.cluster.vq import kmeans2,vq, whiten\n",
    "import geopandas as gpd\n",
    "import h5py\n",
    "import boto.s3\n",
    "import glob    \n",
    "import boto3\n",
    "from zipfile import ZipFile\n",
    "import shutil\n",
    "from pyspark.sql import SparkSession\n",
    "import statsmodels.api as sm"
   ]
  },
  {
   "cell_type": "code",
   "execution_count": 2,
   "id": "1c4d781d",
   "metadata": {},
   "outputs": [],
   "source": [
    "# Show all columns and rows\n",
    "pd.options.display.max_columns = None\n",
    "pd.options.display.max_rows = None"
   ]
  },
  {
   "cell_type": "code",
   "execution_count": 3,
   "id": "e3fd25fc",
   "metadata": {},
   "outputs": [],
   "source": [
    "# Showing the entire number in dataframe\n",
    "pd.set_option('float_format', '{:f}'.format)"
   ]
  },
  {
   "cell_type": "code",
   "execution_count": 4,
   "id": "04dad582",
   "metadata": {},
   "outputs": [],
   "source": [
    "cols_to_use = ['IDMerged', 'tripIndex', 'actStartTime', 'actEndTime','duration_travelling', 'cost_BEAM', 'duration_walking', 'duration_in_privateCar', 'duration_on_bike', 'duration_in_ridehail', \n",
    "              'distance_travelling', 'duration_in_transit', 'distance_walking','distance_bike','distance_ridehail', \n",
    "              'distance_privateCar', 'distance_transit', 'mode_choice_planned_BEAM','mode_choice_actual_BEAM', 'vehicleIds',\n",
    "              'numPassengers', 'replanning_status', 'reason', 'parkingType', 'actPurpose',\n",
    "               'BlockGroupStart','startX', 'startY', 'bgid_start', 'tractid_start', 'juris_name_start', 'county_name_start', 'mpo_start', \n",
    "               'BlockGroupEnd', 'endX', 'endY', 'bgid_end', 'tractid_end', 'juris_name_end', 'county_name_end', 'mpo_end',  \n",
    "               'duration_door_to_door', 'waitTime_no_replanning', 'waitTime_replanning',  \n",
    "               'mode_choice_actual_6', 'mode_choice_actual_5', 'mode_choice_actual_4', 'telework', 'telework_option',\n",
    "               'fuel_marginal', 'fuelGasoline', 'emissionGasoline', 'emission_marginal', 'job_sector', \n",
    "               'Potential_INEXUS_in_dollar_2023', 'Realized_INEXUS_in_dollar_2023', 'Realized_INEXUS', \n",
    "               'socialCarbonCost', 'mandatoryCat', 'income_quartiles', 'income_deciles','lever_position_tel',\n",
    "               'income_in_thousands', 'hhsize', 'hh_workers', 'free_parking_at_work', 'distance_to_work',\n",
    "               'roundtrip_auto_time_to_work', 'workplace_in_cbd', 'workplace_taz', \n",
    "               'trip_id','person_id','household_id','tour_id','primary_purpose_x','destination_logsum_x', 'trip_mode_AS_trips', \n",
    "               'logsum_trip_Potential_INEXUS', 'tour_mode_AS_tours','duration','earning','sex', 'race',\n",
    "               'TAZ_x','home_x','home_y','home_taz','value_of_time', 'school_taz','workplace_taz', 'free_parking_at_work',\n",
    "               'hh_size','hh_income','income_in_thousands','median_value_of_time', 'hh_value_of_time', 'home_is_urban',\n",
    "               'home_is_rural', 'auto_ownership','age', 'income', 'hh_cars', 'origin_x', 'is_worker',\n",
    "               'destination_x', 'TAZ_y', 'scenario', 'year','door_to_door_time_relative_to_baseline', 'tour_category',\n",
    "               'potential_in_dollar_2023_relative_to_baseline', 'realized_in_dollar_2023_relative_to_baseline'] \n",
    "# Specify the columns to read"
   ]
  },
  {
   "cell_type": "code",
   "execution_count": 9,
   "id": "aa549eee",
   "metadata": {},
   "outputs": [
    {
     "name": "stderr",
     "output_type": "stream",
     "text": [
      "<timed exec>:1: DtypeWarning: Columns (26) have mixed types. Specify dtype option on import or set low_memory=False.\n"
     ]
    },
    {
     "name": "stdout",
     "output_type": "stream",
     "text": [
      "CPU times: total: 16min 34s\n",
      "Wall time: 17min 31s\n"
     ]
    }
   ],
   "source": [
    "%%time\n",
    "sf_stacked = pd.read_csv('gs://beam-core-analysis/sf_2018_telecommuting_cleaned.csv.gz', compression = 'gzip', usecols = cols_to_use)\n",
    "#sf_2018_stacked_telecommuting_20230625"
   ]
  },
  {
   "cell_type": "code",
   "execution_count": 5,
   "id": "d5af210c",
   "metadata": {},
   "outputs": [],
   "source": [
    "#sf_stacked[sf_stacked['reason']=='RouteNotAvailableForChosenMode WALK_TRANSIT'].groupby('lever_position_tel')['tripIndex'].count()"
   ]
  },
  {
   "cell_type": "code",
   "execution_count": null,
   "id": "c9409e03",
   "metadata": {},
   "outputs": [],
   "source": [
    "#sf_stacked[sf_stacked['income'].isna()].groupby('lever_position_tel')['tripIndex'].count()"
   ]
  },
  {
   "cell_type": "code",
   "execution_count": null,
   "id": "37ba5261",
   "metadata": {},
   "outputs": [],
   "source": [
    "#test4.groupby('lever_position_tel')['income'].isna().shape\n",
    "#sf_stacked[sf_stacked['income'].isna()].groupby('lever_position_tel').size()"
   ]
  },
  {
   "cell_type": "markdown",
   "id": "26322973",
   "metadata": {
    "heading_collapsed": true
   },
   "source": [
    "#### Calculate the INEXUS"
   ]
  },
  {
   "cell_type": "code",
   "execution_count": null,
   "id": "b896350d",
   "metadata": {
    "hidden": true
   },
   "outputs": [],
   "source": [
    "# Mapping BEAM and ASIM modes\n",
    "conditions  = [(sf_stacked['mode_choice_actual_BEAM'] == 'walk')&(sf_stacked['trip_mode_AS_trips'] == 'WALK'),\n",
    "               (sf_stacked['mode_choice_actual_BEAM'] == 'bike')&(sf_stacked['trip_mode_AS_trips'] == 'BIKE'),\n",
    "               (sf_stacked['mode_choice_actual_BEAM'] == 'hov3_teleportation')&(sf_stacked['trip_mode_AS_trips'] == 'SHARED3FREE'),\n",
    "               (sf_stacked['mode_choice_actual_BEAM'] == 'hov3_teleportation')&(sf_stacked['trip_mode_AS_trips'] == 'SHARED3PAY'),\n",
    "               (sf_stacked['mode_choice_actual_BEAM'] == 'car_hov3')&(sf_stacked['trip_mode_AS_trips'] == 'SHARED3FREE'),\n",
    "               (sf_stacked['mode_choice_actual_BEAM'] == 'car_hov3')&(sf_stacked['trip_mode_AS_trips'] == 'SHARED3PAY'),\n",
    "               (sf_stacked['mode_choice_actual_BEAM'] == 'hov2_teleportation')&(sf_stacked['trip_mode_AS_trips'] == 'SHARED2FREE'),\n",
    "               (sf_stacked['mode_choice_actual_BEAM'] == 'hov2_teleportation')&(sf_stacked['trip_mode_AS_trips'] == 'SHARED2PAY'),\n",
    "               (sf_stacked['mode_choice_actual_BEAM'] == 'car_hov2')&(sf_stacked['trip_mode_AS_trips'] == 'SHARED2PAY'),\n",
    "               (sf_stacked['mode_choice_actual_BEAM'] == 'car_hov2')&(sf_stacked['trip_mode_AS_trips'] == 'SHARED2FREE'),\n",
    "               (sf_stacked['mode_choice_actual_BEAM'] == 'car')&(sf_stacked['trip_mode_AS_trips'] == 'DRIVEALONEFREE'),\n",
    "               (sf_stacked['mode_choice_actual_BEAM'] == 'car')&(sf_stacked['trip_mode_AS_trips'] == 'DRIVEALONEPAY'),\n",
    "               (sf_stacked['mode_choice_actual_BEAM'] == 'walk_transit')&(sf_stacked['trip_mode_AS_trips'] == 'WALK_LRF'),\n",
    "               (sf_stacked['mode_choice_actual_BEAM'] == 'walk_transit')&(sf_stacked['trip_mode_AS_trips'] == 'WALK_LOC'),\n",
    "               (sf_stacked['mode_choice_actual_BEAM'] == 'walk_transit')&(sf_stacked['trip_mode_AS_trips'] == 'WALK_EXP'),\n",
    "               (sf_stacked['mode_choice_actual_BEAM'] == 'walk_transit')&(sf_stacked['trip_mode_AS_trips'] == 'WALK_HVY'),\n",
    "               (sf_stacked['mode_choice_actual_BEAM'] == 'walk_transit')&(sf_stacked['trip_mode_AS_trips'] == 'WALK_COM'),\n",
    "               (sf_stacked['mode_choice_actual_BEAM'] == 'ride_hail')&(sf_stacked['trip_mode_AS_trips'] == 'TNC_SINGLE'),\n",
    "               (sf_stacked['mode_choice_actual_BEAM'] == 'ride_hail')&(sf_stacked['trip_mode_AS_trips'] == 'TNC_SHARED'),\n",
    "               (sf_stacked['mode_choice_actual_BEAM'] == 'ride_hail')&(sf_stacked['trip_mode_AS_trips'] == 'TAXI'),\n",
    "               (sf_stacked['mode_choice_actual_BEAM'] == 'drive_transit')&(sf_stacked['trip_mode_AS_trips'] == 'DRIVE_COM'),\n",
    "               (sf_stacked['mode_choice_actual_BEAM'] == 'drive_transit')&(sf_stacked['trip_mode_AS_trips'] == 'DRIVE_LRF'),\n",
    "               (sf_stacked['mode_choice_actual_BEAM'] == 'drive_transit')&(sf_stacked['trip_mode_AS_trips'] == 'DRIVE_LOC'),\n",
    "               (sf_stacked['mode_choice_actual_BEAM'] == 'drive_transit')&(sf_stacked['trip_mode_AS_trips'] == 'DRIVE_EXP'),\n",
    "               (sf_stacked['mode_choice_actual_BEAM'] == 'drive_transit')&(sf_stacked['trip_mode_AS_trips'] == 'DRIVE_HVY'),\n",
    "               (sf_stacked['mode_choice_actual_BEAM'] == 'ride_hail_pooled')&(sf_stacked['trip_mode_AS_trips'] == 'TNC_SINGLE'),\n",
    "               (sf_stacked['mode_choice_actual_BEAM'] == 'ride_hail_pooled')&(sf_stacked['trip_mode_AS_trips'] == 'TNC_SHARED'),\n",
    "               (sf_stacked['mode_choice_actual_BEAM'] == 'ride_hail_pooled')&(sf_stacked['trip_mode_AS_trips'] == 'TAXI'),\n",
    "       \n",
    "               (sf_stacked['mode_choice_actual_BEAM'] == 'hov2_teleportation')&((sf_stacked['trip_mode_AS_trips'] == 'SHARED3FREE')|\n",
    "               (sf_stacked['trip_mode_AS_trips'] == 'SHARED3PAY')|(sf_stacked['trip_mode_AS_trips'] == 'DRIVEALONEFREE')|\n",
    "               (sf_stacked['trip_mode_AS_trips'] == 'DRIVEALONEPAY')),\n",
    "               \n",
    "               (sf_stacked['mode_choice_actual_BEAM'] == 'car_hov2')&((sf_stacked['trip_mode_AS_trips'] == 'SHARED3PAY')|\n",
    "               (sf_stacked['trip_mode_AS_trips'] == 'SHARED3FREE')|(sf_stacked['trip_mode_AS_trips'] == 'DRIVEALONEFREE')|\n",
    "               (sf_stacked['trip_mode_AS_trips'] == 'DRIVEALONEPAY')),\n",
    "               \n",
    "               (sf_stacked['mode_choice_actual_BEAM'] == 'car_hov3')&((sf_stacked['trip_mode_AS_trips'] == 'SHARED2PAY')|\n",
    "               (sf_stacked['trip_mode_AS_trips'] == 'SHARED2FREE')|(sf_stacked['trip_mode_AS_trips'] == 'DRIVEALONEFREE')|\n",
    "               (sf_stacked['trip_mode_AS_trips'] == 'DRIVEALONEPAY')),   \n",
    "               \n",
    "               (sf_stacked['mode_choice_actual_BEAM'] == 'hov3_teleportation')&((sf_stacked['trip_mode_AS_trips'] == 'DRIVEALONEPAY')|\n",
    "               (sf_stacked['trip_mode_AS_trips'] == 'DRIVEALONEFREE')|(sf_stacked['trip_mode_AS_trips'] == 'SHARED2PAY')|(sf_stacked['trip_mode_AS_trips'] == 'SHARED2FREE')),\n",
    "               \n",
    "               (sf_stacked['mode_choice_actual_BEAM'] == 'car')&((sf_stacked['trip_mode_AS_trips'] == 'SHARED3FREE')|(sf_stacked['trip_mode_AS_trips'] == 'SHARED2FREE')|\n",
    "               (sf_stacked['trip_mode_AS_trips'] == 'SHARED3PAY')|(sf_stacked['trip_mode_AS_trips'] == 'SHARED2PAY')|(sf_stacked['trip_mode_AS_trips'] == 'DRIVE_LOC')|\n",
    "               (sf_stacked['trip_mode_AS_trips'] == 'DRIVE_LRF')|(sf_stacked['trip_mode_AS_trips'] == 'DRIVE_EXP')|\n",
    "               (sf_stacked['trip_mode_AS_trips'] == 'DRIVE_HVY')|(sf_stacked['trip_mode_AS_trips'] == 'DRIVE_COM')),\n",
    "               \n",
    "               (sf_stacked['mode_choice_actual_BEAM'] == 'walk')&((sf_stacked['trip_mode_AS_trips'] == 'WALK_LRF')|\n",
    "               (sf_stacked['trip_mode_AS_trips'] == 'WALK_LOC')|(sf_stacked['trip_mode_AS_trips'] == 'WALK_EXP')|\n",
    "               (sf_stacked['trip_mode_AS_trips'] == 'WALK_HVY')|(sf_stacked['trip_mode_AS_trips'] == 'WALK_COM')),\n",
    "               \n",
    "               (sf_stacked['mode_choice_actual_BEAM'] == 'walk_transit')&(sf_stacked['trip_mode_AS_trips'] == 'WALK'),\n",
    "               \n",
    "               ((sf_stacked['mode_choice_actual_BEAM'] == 'ride_hail_pooled')|(sf_stacked['mode_choice_actual_BEAM'] == 'ride_hail'))\n",
    "               &(~((sf_stacked['trip_mode_AS_trips'] == 'TAXI')|(sf_stacked['trip_mode_AS_trips'] == 'TNC_SHARED')|\n",
    "                (sf_stacked['trip_mode_AS_trips'] == 'TNC_SINGLE'))),\n",
    "               \n",
    "               (sf_stacked['mode_choice_actual_BEAM'] == 'walk_transit')&(~((sf_stacked['trip_mode_AS_trips'] == 'WALK_LRF')|\n",
    "               (sf_stacked['trip_mode_AS_trips'] == 'WALK_LOC')|(sf_stacked['trip_mode_AS_trips'] == 'WALK_EXP')|\n",
    "               (sf_stacked['trip_mode_AS_trips'] == 'WALK_HVY')|(sf_stacked['trip_mode_AS_trips'] == 'WALK_COM')|\n",
    "               (sf_stacked['trip_mode_AS_trips'] == 'WALK'))),\n",
    "               \n",
    "               (sf_stacked['mode_choice_actual_BEAM'] == 'bike_transit'),\n",
    "               \n",
    "               (sf_stacked['mode_choice_actual_BEAM'] == 'car')&((sf_stacked['trip_mode_AS_trips'] == 'TNC_SHARED')|\n",
    "               (sf_stacked['trip_mode_AS_trips'] == 'TNC_SINGLE')|(sf_stacked['trip_mode_AS_trips'] == 'TAXI'))]\n",
    " \n",
    "                                                                      \n",
    "                                                                                                                 \n",
    "                                                                      \n",
    "choices = [sf_stacked['WALK'], sf_stacked['BIKE'], sf_stacked['SHARED3FREE'], sf_stacked['SHARED3PAY'],\n",
    "           sf_stacked['SHARED3FREE'], sf_stacked['SHARED3PAY'], sf_stacked['SHARED2FREE'], \n",
    "           sf_stacked['SHARED2PAY'], sf_stacked['SHARED2PAY'], sf_stacked['SHARED2FREE'], \n",
    "           sf_stacked['DRIVEALONEFREE'], sf_stacked['DRIVEALONEPAY'], sf_stacked['WALK_LRF'], \n",
    "           sf_stacked['WALK_LOC'], sf_stacked['WALK_EXP'], sf_stacked['WALK_HVY'], sf_stacked['WALK_COM'],\n",
    "           sf_stacked['TNC_SINGLE'], \n",
    "           sf_stacked['TNC_SHARED'], sf_stacked['TAXI'],\n",
    "           sf_stacked['DRIVE_COM'], sf_stacked['DRIVE_LRF'], sf_stacked['DRIVE_LOC'], sf_stacked['DRIVE_EXP'],\n",
    "           sf_stacked['DRIVE_HVY'], sf_stacked['TNC_SINGLE'], sf_stacked['TNC_SHARED'], sf_stacked['TAXI'],\n",
    "          sf_stacked[['DRIVEALONEFREE','DRIVEALONEPAY','SHARED2FREE','SHARED3FREE','SHARED2PAY','SHARED3PAY','DRIVE_LOC','DRIVE_LRF','DRIVE_EXP','DRIVE_HVY','DRIVE_COM']].max(axis=1),\n",
    "          sf_stacked[['DRIVEALONEFREE','DRIVEALONEPAY','SHARED2FREE','SHARED3FREE','SHARED2PAY','SHARED3PAY','DRIVE_LOC','DRIVE_LRF','DRIVE_EXP','DRIVE_HVY','DRIVE_COM']].max(axis=1),\n",
    "          sf_stacked[['DRIVEALONEFREE','DRIVEALONEPAY','SHARED2FREE','SHARED3FREE','SHARED2PAY','SHARED3PAY','DRIVE_LOC','DRIVE_LRF','DRIVE_EXP','DRIVE_HVY','DRIVE_COM']].max(axis=1),\n",
    "          sf_stacked[['DRIVEALONEFREE','DRIVEALONEPAY','SHARED2FREE','SHARED3FREE','SHARED2PAY','SHARED3PAY','DRIVE_LOC','DRIVE_LRF','DRIVE_EXP','DRIVE_HVY','DRIVE_COM']].max(axis=1),\n",
    "          sf_stacked[['DRIVEALONEFREE','DRIVEALONEPAY','SHARED2FREE','SHARED3FREE','SHARED2PAY','SHARED3PAY','DRIVE_LOC','DRIVE_LRF','DRIVE_EXP','DRIVE_HVY','DRIVE_COM']].max(axis=1),\n",
    "          sf_stacked[['WALK','WALK_LOC','WALK_LRF','WALK_EXP','WALK_HVY','WALK_COM']].max(axis=1),\n",
    "          sf_stacked[['WALK','WALK_LOC','WALK_LRF','WALK_EXP','WALK_HVY','WALK_COM']].max(axis=1),\n",
    "          sf_stacked[['TAXI','TNC_SINGLE','TNC_SHARED']].max(axis=1),\n",
    "          sf_stacked[['WALK','WALK_LOC','WALK_LRF','WALK_EXP','WALK_HVY','WALK_COM','DRIVE_LOC','DRIVE_LRF','DRIVE_EXP','DRIVE_HVY','DRIVE_COM']].max(axis=1),\n",
    "          sf_stacked[['BIKE','WALK_LOC','WALK_LRF','WALK_EXP','WALK_HVY','WALK_COM','DRIVE_LOC','DRIVE_LRF','DRIVE_EXP','DRIVE_HVY','DRIVE_COM']].max(axis=1),\n",
    "          sf_stacked[['DRIVEALONEFREE','DRIVEALONEPAY','SHARED2FREE','SHARED3FREE','SHARED2PAY','SHARED3PAY','DRIVE_LOC','DRIVE_LRF','DRIVE_EXP','DRIVE_HVY','DRIVE_COM']].max(axis=1)]"
   ]
  },
  {
   "cell_type": "code",
   "execution_count": null,
   "id": "f43927b9",
   "metadata": {
    "hidden": true
   },
   "outputs": [],
   "source": [
    "sf_stacked['Realized_INEXUS'] = np.select(conditions, choices, default=np.nan)"
   ]
  },
  {
   "cell_type": "code",
   "execution_count": null,
   "id": "8e08c164",
   "metadata": {
    "hidden": true
   },
   "outputs": [],
   "source": [
    "sf_stacked['Realized_INEXUS'] = np.where((sf_stacked['Realized_INEXUS'].isna())&((sf_stacked['mode_choice_actual_BEAM'] == 'car_hov2')|\n",
    "                                          (sf_stacked['mode_choice_actual_BEAM'] == 'car_hov3')|\n",
    "                                          (sf_stacked['mode_choice_actual_BEAM'] == 'hov2_teleportation')|\n",
    "                                          (sf_stacked['mode_choice_actual_BEAM'] == 'hov3_teleportation')|\n",
    "                                          (sf_stacked['mode_choice_actual_BEAM'] == 'car')|\n",
    "                                          (sf_stacked['mode_choice_actual_BEAM'] == 'drive_transit')), \n",
    "                                           sf_stacked[['DRIVEALONEFREE','DRIVEALONEPAY','SHARED2FREE','SHARED3FREE','SHARED2PAY','SHARED3PAY','DRIVE_LOC','DRIVE_LRF','DRIVE_EXP','DRIVE_HVY','DRIVE_COM']].max(axis=1), sf_stacked['Realized_INEXUS'])"
   ]
  },
  {
   "cell_type": "code",
   "execution_count": null,
   "id": "4a8c425d",
   "metadata": {
    "hidden": true
   },
   "outputs": [],
   "source": [
    "sf_stacked['Realized_INEXUS'] = np.where((sf_stacked['Realized_INEXUS'].isna())&((sf_stacked['mode_choice_actual_BEAM'] == 'walk')|\n",
    "                                         (sf_stacked['mode_choice_actual_BEAM'] == 'walk_transit')), \n",
    "                                          sf_stacked[['WALK','WALK_LOC','WALK_LRF','WALK_EXP','WALK_HVY','WALK_COM','DRIVE_LOC','DRIVE_LRF','DRIVE_EXP','DRIVE_HVY','DRIVE_COM']].max(axis=1),sf_stacked['Realized_INEXUS'])"
   ]
  },
  {
   "cell_type": "code",
   "execution_count": null,
   "id": "f3add6ad",
   "metadata": {
    "hidden": true
   },
   "outputs": [],
   "source": [
    "sf_stacked['Realized_INEXUS'] = np.where(sf_stacked['Realized_INEXUS'].isna()&(sf_stacked['mode_choice_actual_BEAM'] == 'bike'), \n",
    "                                         sf_stacked[['BIKE','WALK','WALK_LOC','WALK_LRF','WALK_EXP','WALK_HVY','WALK_COM']].max(axis=1),sf_stacked['Realized_INEXUS'])"
   ]
  },
  {
   "cell_type": "code",
   "execution_count": null,
   "id": "8e80c1ad",
   "metadata": {
    "hidden": true
   },
   "outputs": [],
   "source": [
    "#sf_stacked2 = sf_stacked[~((sf_stacked['Realized_INEXUS'].isna()) & ((sf_stacked['reason'] == 'RouteNotAvailableForChosenMode RIDE_HAIL')|\n",
    "                                                                    #(sf_stacked['reason'] == 'RouteNotAvailableForChosenMode WALK_TRANSIT')|\n",
    "                                                                    #(sf_stacked['reason'] == 'RouteNotAvailableForChosenMode RIDE_HAIL_POOLED')|\n",
    "                                                                    #(sf_stacked['reason'] == 'RouteNotAvailableForChosenMode BIKE')|\n",
    "                                                                    #(sf_stacked['reason'] == 'RouteNotAvailableForChosenMode CAR')|\n",
    "                                                                    #(sf_stacked['reason'] == 'RouteNotAvailableForChosenMode DRIVE_TRANSIT')))]"
   ]
  },
  {
   "cell_type": "code",
   "execution_count": null,
   "id": "65419dcb",
   "metadata": {
    "hidden": true
   },
   "outputs": [],
   "source": [
    "# dropping the rows with NAN utility values\n",
    "sf_stacked.dropna(subset=['Realized_INEXUS'], inplace=True)"
   ]
  },
  {
   "cell_type": "code",
   "execution_count": null,
   "id": "89eb47a7",
   "metadata": {
    "hidden": true
   },
   "outputs": [],
   "source": [
    "conditions  = [(sf_stacked['primary_purpose_x'] == 'work'),(sf_stacked['primary_purpose_x'] == 'univ'),\n",
    "               (sf_stacked['primary_purpose_x'] == 'school'),(sf_stacked['primary_purpose_x'] == 'escort'),\n",
    "              (sf_stacked['primary_purpose_x'] == 'shopping'),(sf_stacked['primary_purpose_x'] == 'eatout'),\n",
    "              (sf_stacked['primary_purpose_x'] == 'othmaint'),(sf_stacked['primary_purpose_x'] == 'social'),\n",
    "              (sf_stacked['primary_purpose_x'] == 'othdiscr'),(sf_stacked['primary_purpose_x'] == 'atwork')]\n",
    " \n",
    "                                                                   \n",
    "choices = [-0.022, -0.0271, -0.0271, -0.0279, -0.0279, -0.0279, -0.0175, -0.0175, -0.0279, -0.0279]"
   ]
  },
  {
   "cell_type": "code",
   "execution_count": null,
   "id": "5ec988ee",
   "metadata": {
    "hidden": true
   },
   "outputs": [],
   "source": [
    "sf_stacked['c_ivt'] = np.select(conditions, choices, default=np.nan)"
   ]
  },
  {
   "cell_type": "code",
   "execution_count": null,
   "id": "b98a0ad5",
   "metadata": {
    "hidden": true
   },
   "outputs": [],
   "source": [
    "%%time \n",
    "#this alpha will convert the INEXUS values to cents per minute\n",
    "sf_stacked['alpha'] = -0.6 *(sf_stacked['c_ivt'])/(sf_stacked['value_of_time'])"
   ]
  },
  {
   "cell_type": "code",
   "execution_count": null,
   "id": "4bd98d0c",
   "metadata": {
    "hidden": true
   },
   "outputs": [],
   "source": [
    "sf_stacked['Realized_INEXUS_in_dollar_2023'] = ((sf_stacked['Realized_INEXUS']/sf_stacked['alpha'])/100)*1.75"
   ]
  },
  {
   "cell_type": "code",
   "execution_count": null,
   "id": "828cd3dd",
   "metadata": {
    "hidden": true
   },
   "outputs": [],
   "source": [
    "sf_stacked['Potential_INEXUS_in_dollar_2023'] = ((sf_stacked['logsum_trip_Potential_INEXUS']/sf_stacked['alpha'])/100)*1.75"
   ]
  },
  {
   "cell_type": "code",
   "execution_count": null,
   "id": "e9e11984",
   "metadata": {
    "hidden": true
   },
   "outputs": [],
   "source": [
    "%%time\n",
    "sf_stacked['realized_in_dollar_2023_relative_to_baseline'] = sf_stacked['Realized_INEXUS_in_dollar_2023'] - (sf_stacked['Realized_INEXUS_in_dollar_2023'].where(sf_stacked['lever_position_tel'].eq(1.0))\n",
    "                                                                                                             .groupby([sf_stacked['IDMerged'],sf_stacked['tripIndex']])\n",
    "                                                                                                             .transform('first')\n",
    "                                                                                                             .convert_dtypes()) "
   ]
  },
  {
   "cell_type": "code",
   "execution_count": null,
   "id": "474e32c0",
   "metadata": {
    "hidden": true
   },
   "outputs": [],
   "source": [
    "%%time\n",
    "sf_stacked['potential_in_dollar_2023_relative_to_baseline'] = sf_stacked['Potential_INEXUS_in_dollar_2023'] - (sf_stacked['Potential_INEXUS_in_dollar_2023'].where(sf_stacked['lever_position_tel'].eq(1.0))\n",
    "                                                                                                  .groupby([sf_stacked['IDMerged'],sf_stacked['tripIndex']])\n",
    "                                                                                                   .transform('first')\n",
    "                                                                                                   .convert_dtypes()) "
   ]
  },
  {
   "cell_type": "markdown",
   "id": "af33da22",
   "metadata": {
    "heading_collapsed": true
   },
   "source": [
    "#### Clean the data"
   ]
  },
  {
   "cell_type": "code",
   "execution_count": null,
   "id": "fb074ed8",
   "metadata": {
    "hidden": true
   },
   "outputs": [],
   "source": [
    "# 800k of the rows are dropped\n",
    "sf_stacked_cl = sf_stacked[(sf_stacked['duration_walking'] < 3600)&(sf_stacked['distance_walking'] < 5000)]"
   ]
  },
  {
   "cell_type": "code",
   "execution_count": null,
   "id": "5687b0ef",
   "metadata": {
    "hidden": true
   },
   "outputs": [],
   "source": [
    "# drop unused columns\n",
    "sf_stacked_cl = sf_stacked_cl.drop(['relate','WALK_EXP','WALK_HVY','WALK_COM','DRIVE_LOC','DRIVE_LRF','DRIVE_EXP','DRIVE_HVY','DRIVE_COM','TAXI','TNC_SINGLE','TNC_SHARED','DRIVEALONEFREE','DRIVEALONEPAY','SHARED2FREE','SHARED2PAY','SHARED3FREE','SHARED3PAY','WALK','BIKE','WALK_LOC','WALK_LRF'], axis = 1)"
   ]
  },
  {
   "cell_type": "code",
   "execution_count": null,
   "id": "d8fdd6bb",
   "metadata": {
    "hidden": true
   },
   "outputs": [],
   "source": [
    "sf_stacked_cl.shape"
   ]
  },
  {
   "cell_type": "code",
   "execution_count": null,
   "id": "ce8a1901",
   "metadata": {
    "hidden": true
   },
   "outputs": [],
   "source": [
    "# Filter out rows with errors  \n",
    "sf_stacked_cle = sf_stacked_cl[(sf_stacked_cl['actPurpose'] != 'school_to_')&\n",
    "                             (sf_stacked_cl['actPurpose'] != 'Home_to_')&\n",
    "                             (sf_stacked_cl['actPurpose'] != 'work_to_')&\n",
    "                             (sf_stacked_cl['actPurpose'] != 'shopping_to_')&\n",
    "                             (sf_stacked_cl['actPurpose'] != 'social_to_')&\n",
    "                             (sf_stacked_cl['actPurpose'] != 'othdiscr_to_')&\n",
    "                             (sf_stacked_cl['actPurpose'] != 'othmaint_to_')&\n",
    "                             (sf_stacked_cl['actPurpose'] != 'eatout_to_')&\n",
    "                             (sf_stacked_cl['actPurpose'] != 'univ_to_')&\n",
    "                             (sf_stacked_cl['actPurpose'] != 'escort_to_')&\n",
    "                             (sf_stacked_cl['actPurpose'] != 'atwork_to_')]"
   ]
  },
  {
   "cell_type": "code",
   "execution_count": null,
   "id": "304f3ba8",
   "metadata": {
    "hidden": true
   },
   "outputs": [],
   "source": [
    "%%time\n",
    "import gzip\n",
    "from io import BytesIO\n",
    "from google.cloud import storage\n",
    "import pandas as pd\n",
    "\n",
    "# Export DataFrame to a gzip-compressed CSV file\n",
    "compressed_bytes = BytesIO()\n",
    "with gzip.GzipFile(fileobj=compressed_bytes, mode='w') as gz:\n",
    "    sf_stacked_cl.to_csv(gz, index=False)\n",
    "compressed_bytes.seek(0)\n",
    "\n",
    "# Upload the gzip-compressed file to Google Cloud Storage\n",
    "storage_client = storage.Client.from_service_account_json('C:/Users/nrezaei/Documents/beam-core-a9ea929e82b1.json')\n",
    "bucket_name = 'beam-core-analysis'  # Replace with your Google Cloud Storage bucket name\n",
    "destination_blob_name = 'sf_2018_telecommuting_cleaned.csv.gz'  # Replace with the desired destination file name in the bucket\n",
    "\n",
    "bucket = storage_client.bucket(bucket_name)\n",
    "blob = bucket.blob(destination_blob_name)\n",
    "blob.upload_from_file(compressed_bytes, content_type='application/gzip')\n",
    "\n",
    "# Set the Content-Encoding metadata property\n",
    "blob.metadata = {'Content-Encoding': 'gzip'}\n",
    "blob.patch()"
   ]
  },
  {
   "cell_type": "markdown",
   "id": "5d8151ce",
   "metadata": {
    "heading_collapsed": true
   },
   "source": [
    "#### More Cleaning"
   ]
  },
  {
   "cell_type": "code",
   "execution_count": 11,
   "id": "d51d41f4",
   "metadata": {
    "hidden": true
   },
   "outputs": [],
   "source": [
    "# shift column 'lever_position_tel' to first position\n",
    "first_column = sf_stacked.pop('lever_position_tel')\n",
    "# insert column using insert(position,column_name, first_column) function\n",
    "sf_stacked.insert(7, 'lever_position_tel', first_column)"
   ]
  },
  {
   "cell_type": "code",
   "execution_count": 13,
   "id": "c81ae7d4",
   "metadata": {
    "hidden": true
   },
   "outputs": [],
   "source": [
    "# shift column 'telework' to first position\n",
    "second_column = sf_stacked.pop('telework')\n",
    "# insert column using insert(position,column_name, second_column) function\n",
    "sf_stacked.insert(8, 'telework', second_column)"
   ]
  },
  {
   "cell_type": "code",
   "execution_count": 15,
   "id": "83daf4da",
   "metadata": {
    "hidden": true
   },
   "outputs": [],
   "source": [
    "sf_stacked['actStartTime_24h'] = sf_stacked['actStartTime']/3600"
   ]
  },
  {
   "cell_type": "code",
   "execution_count": 16,
   "id": "b1f7a02f",
   "metadata": {
    "hidden": true
   },
   "outputs": [],
   "source": [
    "sf_stacked['actEndTime_24h'] = sf_stacked['actEndTime']/3600"
   ]
  },
  {
   "cell_type": "code",
   "execution_count": 17,
   "id": "7f7ba409",
   "metadata": {
    "hidden": true
   },
   "outputs": [],
   "source": [
    "sf_stacked['duration_travelling_min'] = sf_stacked['duration_travelling'] / 60"
   ]
  },
  {
   "cell_type": "code",
   "execution_count": 18,
   "id": "5c1fcebf",
   "metadata": {
    "hidden": true
   },
   "outputs": [],
   "source": [
    "sf_stacked['distance_travelling_km'] = sf_stacked['distance_travelling'] / 1000"
   ]
  },
  {
   "cell_type": "code",
   "execution_count": 19,
   "id": "803626dd",
   "metadata": {
    "hidden": true
   },
   "outputs": [],
   "source": [
    "sf_stacked['distance_travelling_mile'] = sf_stacked['distance_travelling'] / 1609"
   ]
  },
  {
   "cell_type": "code",
   "execution_count": 20,
   "id": "156ebb9a",
   "metadata": {
    "hidden": true
   },
   "outputs": [],
   "source": [
    "# shift column 'actEndTime_24h' to first position\n",
    "third_column = sf_stacked.pop('actEndTime_24h')\n",
    "# insert column using insert(position,column_name, second_column) function\n",
    "sf_stacked.insert(2, 'actEndTime_24h', third_column)"
   ]
  },
  {
   "cell_type": "code",
   "execution_count": 21,
   "id": "30b0fa3f",
   "metadata": {
    "hidden": true
   },
   "outputs": [],
   "source": [
    "# shift column 'actStartTime_24h' to first position\n",
    "fourth_column = sf_stacked.pop('actStartTime_24h')\n",
    "# insert column using insert(position,column_name, second_column) function\n",
    "sf_stacked.insert(3, 'actStartTime_24h', fourth_column)"
   ]
  },
  {
   "cell_type": "code",
   "execution_count": 22,
   "id": "0eb0ed1d",
   "metadata": {
    "hidden": true
   },
   "outputs": [],
   "source": [
    "# shift column 'duration_travelling_min' to first position\n",
    "fifth_column = sf_stacked.pop('duration_travelling_min')\n",
    "# insert column using insert(position,column_name, second_column) function\n",
    "sf_stacked.insert(4, 'duration_travelling_min', fifth_column)"
   ]
  },
  {
   "cell_type": "code",
   "execution_count": 34,
   "id": "8106ca53",
   "metadata": {
    "hidden": true
   },
   "outputs": [],
   "source": [
    "# shift column 'duration_travelling' to first position\n",
    "sixth_column = sf_stacked.pop('duration_travelling')\n",
    "# insert column using insert(position,column_name, second_column) function\n",
    "sf_stacked.insert(109, 'duration_travelling', sixth_column)"
   ]
  },
  {
   "cell_type": "code",
   "execution_count": 24,
   "id": "52fab862",
   "metadata": {
    "hidden": true
   },
   "outputs": [],
   "source": [
    "# shift column 'actEndTime' to first position\n",
    "seventh_column = sf_stacked.pop('actEndTime')\n",
    "# insert column using insert(position,column_name, second_column) function\n",
    "sf_stacked.insert(112, 'actEndTime', seventh_column)"
   ]
  },
  {
   "cell_type": "code",
   "execution_count": 25,
   "id": "805cd5ae",
   "metadata": {
    "hidden": true
   },
   "outputs": [],
   "source": [
    "# shift column 'actEndTime' to first position\n",
    "eighth_column = sf_stacked.pop('actStartTime')\n",
    "# insert column using insert(position,column_name, second_column) function\n",
    "sf_stacked.insert(113, 'actStartTime', eighth_column)"
   ]
  },
  {
   "cell_type": "code",
   "execution_count": 26,
   "id": "f33f93f7",
   "metadata": {
    "hidden": true
   },
   "outputs": [],
   "source": [
    "# shift column 'actPurpose' to first position\n",
    "nine_column = sf_stacked.pop('actPurpose')\n",
    "# insert column using insert(position,column_name, second_column) function\n",
    "sf_stacked.insert(6, 'actPurpose', nine_column)"
   ]
  },
  {
   "cell_type": "code",
   "execution_count": 30,
   "id": "1107b122",
   "metadata": {
    "hidden": true
   },
   "outputs": [],
   "source": [
    "# shift column 'distance_travelling_mile' to first position\n",
    "tenth_column = sf_stacked.pop('distance_travelling_mile')\n",
    "# insert column using insert(position,column_name, second_column) function\n",
    "sf_stacked.insert(11, 'distance_travelling_mile', tenth_column)"
   ]
  },
  {
   "cell_type": "code",
   "execution_count": 32,
   "id": "82b8fea3",
   "metadata": {
    "hidden": true
   },
   "outputs": [],
   "source": [
    "# shift column 'duration_walking' to first position\n",
    "eleventh_column = sf_stacked.pop('duration_walking')\n",
    "# insert column using insert(position,column_name, second_column) function\n",
    "sf_stacked.insert(14, 'duration_walking', eleventh_column)"
   ]
  },
  {
   "cell_type": "code",
   "execution_count": 20,
   "id": "5933a714",
   "metadata": {
    "hidden": true
   },
   "outputs": [],
   "source": [
    "# If we want to check which person ids have at least one trip in the baseline\n",
    "# Filter the dataframe to include only rows where 'lever_position_tel' is equal to 1\n",
    "#baseline = sf_stacked[sf_stacked['lever_position_tel'] == 1]\n",
    "# Select the unique person IDs from the filtered dataframe\n",
    "#unique_person_ids = baseline['IDMerged'].unique()\n",
    "# Filter the dataframe to include only rows with person IDs matching unique_person_ids  #303490 trips are dropped because they don't have any baseline\n",
    "#sf_stacked_filtered = sf_stacked[sf_stacked['IDMerged'].isin(unique_person_ids)]"
   ]
  },
  {
   "cell_type": "code",
   "execution_count": 21,
   "id": "0894e62b",
   "metadata": {
    "hidden": true
   },
   "outputs": [],
   "source": [
    "# Selecting the ones who don't have any trips in the baseline scenario\n",
    "#sf_stacked_filtered2 = sf_stacked[~sf_stacked['IDMerged'].isin(unique_person_ids)]"
   ]
  },
  {
   "cell_type": "code",
   "execution_count": 68,
   "id": "bef5fa95",
   "metadata": {
    "hidden": true
   },
   "outputs": [],
   "source": [
    "# Filter the dataframe to include only rows with the specified actPurpose values\n",
    "#filtered_rows = sf_stacked[sf_stacked['actPurpose'].isin(['work_to_Home', 'Home_to_work'])].reset_index(drop=True)"
   ]
  },
  {
   "cell_type": "code",
   "execution_count": 76,
   "id": "a2550431",
   "metadata": {
    "hidden": true
   },
   "outputs": [],
   "source": [
    "# Get the unique person IDs with the target actPurpose values\n",
    "#unique_person_ids = filtered_rows['IDMerged'].unique()"
   ]
  },
  {
   "cell_type": "code",
   "execution_count": 78,
   "id": "b385e9e0",
   "metadata": {
    "hidden": true
   },
   "outputs": [],
   "source": [
    "# Filter the original dataframe using the person IDs with the target actPurpose values  #6482606 rows\n",
    "#sf_stacked_filtered = sf_stacked[sf_stacked['IDMerged'].isin(unique_person_ids)]"
   ]
  },
  {
   "cell_type": "code",
   "execution_count": 87,
   "id": "68db72aa",
   "metadata": {
    "hidden": true
   },
   "outputs": [],
   "source": [
    "#sf_stacked_any_work = sf_stacked_filtered.sort_values(['IDMerged', 'lever_position_tel','actEndTime_24h']).reset_index(drop=True)"
   ]
  },
  {
   "cell_type": "markdown",
   "id": "2f85ea84",
   "metadata": {
    "heading_collapsed": true
   },
   "source": [
    "#### Adding two new rows to each person who teleworks"
   ]
  },
  {
   "cell_type": "code",
   "execution_count": 38,
   "id": "b92830ec",
   "metadata": {
    "hidden": true
   },
   "outputs": [],
   "source": [
    "# Create an empty list to store the appended rows\n",
    "appended_rows = []\n",
    "\n",
    "# Group by person_id and check if 'telework' is True\n",
    "for _, group_df in sf_stacked.groupby(['IDMerged', 'lever_position_tel']):\n",
    "    if group_df['telework'].any():  # Check if 'telework' is True\n",
    "        new_row = {'IDMerged': group_df['IDMerged'].iloc[0], 'mode_choice_actual_BEAM': 'telecommuting', 'duration_travelling': 0,\n",
    "                  'duration_travelling_min': 0, 'actPurpose': 'Home_to_work', 'cost_BEAM': 0, 'lever_position_tel': group_df['lever_position_tel'].iloc[0], \n",
    "                  'telework':True, 'distance_travelling_mile': 0, 'fuelGasoline':0, 'mode_choice_actual_4': 'telecommuting',\n",
    "                  'Potential_INEXUS_in_dollar_2023': 0, 'Realized_INEXUS_in_dollar_2023': 0, 'actEndTime_24h':0, 'actStartTime_24h':0,\n",
    "                  'emissionGasoline':0, 'emission_marginal': 0, 'duration_door_to_door':0, 'waitTime_no_replanning':0, 'telework_option': True,\n",
    "                   'waitTime_replanning':0, 'mode_choice_actual_5':'telecommuting', 'mode_choice_actual_6':'telecommuting','socialCarbonCost':0,\n",
    "                   'duration_in_privateCar':0, 'duration_in_ridehail':0, 'duration_in_transit':0, 'duration_walking':0,\n",
    "                   'replanning_status': 0,'income_deciles': group_df['income_deciles'].iloc[0], 'income_quartiles': group_df['income_quartiles'].iloc[0]}\n",
    "        new_row2 = {'IDMerged': group_df['IDMerged'].iloc[0], 'mode_choice_actual_BEAM': 'telecommuting', 'duration_travelling': 0,\n",
    "                  'duration_travelling_min': 0, 'actPurpose': 'work_to_Home', 'cost_BEAM': 0, 'lever_position_tel': group_df['lever_position_tel'].iloc[0], \n",
    "                  'telework':True, 'distance_travelling_mile': 0, 'fuelGasoline':0, 'mode_choice_actual_4': 'telecommuting',\n",
    "                  'Potential_INEXUS_in_dollar_2023': 0, 'Realized_INEXUS_in_dollar_2023': 0, 'actEndTime_24h':0, 'actStartTime_24h':0,\n",
    "                    'emissionGasoline':0, 'emission_marginal': 0, 'duration_door_to_door':0, 'waitTime_no_replanning':0, 'socialCarbonCost':0, \n",
    "                   'waitTime_replanning':0, 'mode_choice_actual_5':'telecommuting', 'mode_choice_actual_6':'telecommuting', 'telework_option': True,\n",
    "                  'duration_in_privateCar':0, 'duration_in_ridehail':0, 'duration_in_transit':0, 'duration_walking':0,\n",
    "                  'replanning_status': 0, 'income_deciles': group_df['income_deciles'].iloc[0], 'income_quartiles': group_df['income_quartiles'].iloc[0]}\n",
    "        appended_rows.extend([new_row, new_row2])\n",
    "\n",
    "  \n",
    "# Create a dataframe from the appended rows\n",
    "appended_df = pd.DataFrame(appended_rows)\n",
    "\n",
    "# Append the newly created rows to the original dataframe\n",
    "sf_stacked_new_rows = pd.concat([sf_stacked, appended_df], ignore_index=True).reset_index(drop=True)"
   ]
  },
  {
   "cell_type": "code",
   "execution_count": 39,
   "id": "a6a8ed61",
   "metadata": {
    "hidden": true
   },
   "outputs": [],
   "source": [
    "sf_stacked_with_new_rows = sf_stacked_new_rows.sort_values(['IDMerged', 'lever_position_tel','actEndTime_24h']).reset_index(drop=True)"
   ]
  },
  {
   "cell_type": "code",
   "execution_count": 43,
   "id": "065cb8f7",
   "metadata": {
    "hidden": true
   },
   "outputs": [],
   "source": [
    "# Filter the dataframe to include only rows with the specified actPurpose values #3330626 rows\n",
    "sf_tel_home_work = sf_stacked_with_new_rows[sf_stacked_with_new_rows['actPurpose'].isin(['work_to_Home', 'Home_to_work'])].reset_index(drop=True)"
   ]
  },
  {
   "cell_type": "code",
   "execution_count": 55,
   "id": "c6fd92ec",
   "metadata": {
    "hidden": true
   },
   "outputs": [],
   "source": [
    "sf_tel_home_work_small = sf_tel_home_work[['IDMerged','tripIndex','actEndTime_24h','actStartTime_24h','duration_travelling_min','actPurpose','cost_BEAM',\n",
    "                                           'lever_position_tel','telework','distance_travelling_mile','duration_in_privateCar','duration_in_ridehail',\n",
    "                                           'duration_walking','mode_choice_actual_BEAM', 'replanning_status','mode_choice_actual_4',\n",
    "                                           'Potential_INEXUS_in_dollar_2023', 'Realized_INEXUS_in_dollar_2023','income_quartiles', 'income_deciles',\n",
    "                                          'income_in_thousands', 'income']]"
   ]
  },
  {
   "cell_type": "code",
   "execution_count": 56,
   "id": "364f45b5",
   "metadata": {
    "hidden": true
   },
   "outputs": [],
   "source": [
    "sf_tel_home_work_small.to_csv('C:/Users/nrezaei/Documents/Data/sf_tel_reg.csv', index = False)"
   ]
  },
  {
   "cell_type": "code",
   "execution_count": 51,
   "id": "92f78667",
   "metadata": {
    "hidden": true
   },
   "outputs": [
    {
     "name": "stdout",
     "output_type": "stream",
     "text": [
      "CPU times: total: 34min 20s\n",
      "Wall time: 34min 33s\n"
     ]
    }
   ],
   "source": [
    "%%time\n",
    "import gzip\n",
    "from io import BytesIO\n",
    "from google.cloud import storage\n",
    "import pandas as pd\n",
    "\n",
    "# Export DataFrame to a gzip-compressed CSV file\n",
    "compressed_bytes = BytesIO()\n",
    "with gzip.GzipFile(fileobj=compressed_bytes, mode='w') as gz:\n",
    "    sf_stacked_with_new_rows.to_csv(gz, index=False)\n",
    "compressed_bytes.seek(0)\n",
    "\n",
    "# Upload the gzip-compressed file to Google Cloud Storage\n",
    "storage_client = storage.Client.from_service_account_json('C:/Users/nrezaei/Documents/beam-core-a9ea929e82b1.json')\n",
    "bucket_name = 'beam-core-analysis'  # Replace with your Google Cloud Storage bucket name\n",
    "destination_blob_name = 'sf_2018_telecommuting_cleaned_with_telecommuting_rows.csv.gz'  # Replace with the desired destination file name in the bucket\n",
    "\n",
    "bucket = storage_client.bucket(bucket_name)\n",
    "blob = bucket.blob(destination_blob_name)\n",
    "blob.upload_from_file(compressed_bytes, content_type='application/gzip')\n",
    "\n",
    "# Set the Content-Encoding metadata property\n",
    "blob.metadata = {'Content-Encoding': 'gzip'}\n",
    "blob.patch()"
   ]
  },
  {
   "cell_type": "code",
   "execution_count": 52,
   "id": "f79e6bc4",
   "metadata": {
    "hidden": true
   },
   "outputs": [
    {
     "name": "stdout",
     "output_type": "stream",
     "text": [
      "CPU times: total: 4min 59s\n",
      "Wall time: 5min\n"
     ]
    }
   ],
   "source": [
    "%%time\n",
    "import gzip\n",
    "from io import BytesIO\n",
    "from google.cloud import storage\n",
    "import pandas as pd\n",
    "\n",
    "# Export DataFrame to a gzip-compressed CSV file\n",
    "compressed_bytes = BytesIO()\n",
    "with gzip.GzipFile(fileobj=compressed_bytes, mode='w') as gz:\n",
    "    sf_tel_home_work.to_csv(gz, index=False)\n",
    "compressed_bytes.seek(0)\n",
    "\n",
    "# Upload the gzip-compressed file to Google Cloud Storage\n",
    "storage_client = storage.Client.from_service_account_json('C:/Users/nrezaei/Documents/beam-core-a9ea929e82b1.json')\n",
    "bucket_name = 'beam-core-analysis'  # Replace with your Google Cloud Storage bucket name\n",
    "destination_blob_name = 'sf_2018_telecommuting_home_work.csv.gz'  # Replace with the desired destination file name in the bucket\n",
    "\n",
    "bucket = storage_client.bucket(bucket_name)\n",
    "blob = bucket.blob(destination_blob_name)\n",
    "blob.upload_from_file(compressed_bytes, content_type='application/gzip')\n",
    "\n",
    "# Set the Content-Encoding metadata property\n",
    "blob.metadata = {'Content-Encoding': 'gzip'}\n",
    "blob.patch()"
   ]
  },
  {
   "cell_type": "code",
   "execution_count": 57,
   "id": "8b9820c2",
   "metadata": {
    "hidden": true
   },
   "outputs": [
    {
     "name": "stdout",
     "output_type": "stream",
     "text": [
      "CPU times: total: 32min 11s\n",
      "Wall time: 32min 22s\n"
     ]
    }
   ],
   "source": [
    "%%time\n",
    "import gzip\n",
    "from io import BytesIO\n",
    "from google.cloud import storage\n",
    "import pandas as pd\n",
    "\n",
    "# Export DataFrame to a gzip-compressed CSV file\n",
    "compressed_bytes = BytesIO()\n",
    "with gzip.GzipFile(fileobj=compressed_bytes, mode='w') as gz:\n",
    "    sf_stacked_with_new_rows.to_csv(gz, index=False)\n",
    "compressed_bytes.seek(0)\n",
    "\n",
    "# Upload the gzip-compressed file to Google Cloud Storage\n",
    "storage_client = storage.Client.from_service_account_json('C:/Users/nrezaei/Documents/beam-core-a9ea929e82b1.json')\n",
    "bucket_name = 'beam-core-analysis'  # Replace with your Google Cloud Storage bucket name\n",
    "destination_blob_name = 'sf_2018_telecommuting_cleaned_with_telecommuting_rows.csv.gz'  # Replace with the desired destination file name in the bucket\n",
    "\n",
    "bucket = storage_client.bucket(bucket_name)\n",
    "blob = bucket.blob(destination_blob_name)\n",
    "blob.upload_from_file(compressed_bytes, content_type='application/gzip')\n",
    "\n",
    "# Set the Content-Encoding metadata property\n",
    "blob.metadata = {'Content-Encoding': 'gzip'}\n",
    "blob.patch()"
   ]
  },
  {
   "cell_type": "markdown",
   "id": "75c19517",
   "metadata": {},
   "source": [
    "#### Regression"
   ]
  },
  {
   "cell_type": "code",
   "execution_count": 59,
   "id": "ee7b7423",
   "metadata": {},
   "outputs": [
    {
     "data": {
      "text/html": [
       "<div>\n",
       "<style scoped>\n",
       "    .dataframe tbody tr th:only-of-type {\n",
       "        vertical-align: middle;\n",
       "    }\n",
       "\n",
       "    .dataframe tbody tr th {\n",
       "        vertical-align: top;\n",
       "    }\n",
       "\n",
       "    .dataframe thead th {\n",
       "        text-align: right;\n",
       "    }\n",
       "</style>\n",
       "<table border=\"1\" class=\"dataframe\">\n",
       "  <thead>\n",
       "    <tr style=\"text-align: right;\">\n",
       "      <th></th>\n",
       "      <th>IDMerged</th>\n",
       "      <th>tripIndex</th>\n",
       "      <th>actEndTime_24h</th>\n",
       "      <th>actStartTime_24h</th>\n",
       "      <th>duration_travelling_min</th>\n",
       "      <th>actPurpose</th>\n",
       "      <th>cost_BEAM</th>\n",
       "      <th>lever_position_tel</th>\n",
       "      <th>telework</th>\n",
       "      <th>distance_travelling_mile</th>\n",
       "      <th>duration_in_privateCar</th>\n",
       "      <th>duration_in_ridehail</th>\n",
       "      <th>duration_walking</th>\n",
       "      <th>mode_choice_actual_BEAM</th>\n",
       "      <th>replanning_status</th>\n",
       "      <th>mode_choice_actual_4</th>\n",
       "      <th>Potential_INEXUS_in_dollar_2023</th>\n",
       "      <th>Realized_INEXUS_in_dollar_2023</th>\n",
       "      <th>income_quartiles</th>\n",
       "      <th>income_deciles</th>\n",
       "      <th>income_in_thousands</th>\n",
       "      <th>income</th>\n",
       "    </tr>\n",
       "  </thead>\n",
       "  <tbody>\n",
       "    <tr>\n",
       "      <th>0</th>\n",
       "      <td>113</td>\n",
       "      <td>37377.000000</td>\n",
       "      <td>7.840000</td>\n",
       "      <td>7.892500</td>\n",
       "      <td>3.150000</td>\n",
       "      <td>Home_to_work</td>\n",
       "      <td>0.158466</td>\n",
       "      <td>1.000000</td>\n",
       "      <td>False</td>\n",
       "      <td>2.525313</td>\n",
       "      <td>189.000000</td>\n",
       "      <td>0.000000</td>\n",
       "      <td>0.000000</td>\n",
       "      <td>car</td>\n",
       "      <td>0</td>\n",
       "      <td>car</td>\n",
       "      <td>-25.662671</td>\n",
       "      <td>-33.519751</td>\n",
       "      <td>4thD</td>\n",
       "      <td>8thD</td>\n",
       "      <td>160.000000</td>\n",
       "      <td>160000.000000</td>\n",
       "    </tr>\n",
       "    <tr>\n",
       "      <th>1</th>\n",
       "      <td>113</td>\n",
       "      <td>37381.000000</td>\n",
       "      <td>22.688889</td>\n",
       "      <td>22.788889</td>\n",
       "      <td>6.000000</td>\n",
       "      <td>work_to_Home</td>\n",
       "      <td>0.370385</td>\n",
       "      <td>1.000000</td>\n",
       "      <td>False</td>\n",
       "      <td>5.902449</td>\n",
       "      <td>360.000000</td>\n",
       "      <td>0.000000</td>\n",
       "      <td>0.000000</td>\n",
       "      <td>car</td>\n",
       "      <td>0</td>\n",
       "      <td>car</td>\n",
       "      <td>-8.014667</td>\n",
       "      <td>-15.737538</td>\n",
       "      <td>4thD</td>\n",
       "      <td>8thD</td>\n",
       "      <td>160.000000</td>\n",
       "      <td>160000.000000</td>\n",
       "    </tr>\n",
       "    <tr>\n",
       "      <th>2</th>\n",
       "      <td>113</td>\n",
       "      <td>NaN</td>\n",
       "      <td>0.000000</td>\n",
       "      <td>0.000000</td>\n",
       "      <td>0.000000</td>\n",
       "      <td>Home_to_work</td>\n",
       "      <td>0.000000</td>\n",
       "      <td>1.360000</td>\n",
       "      <td>True</td>\n",
       "      <td>0.000000</td>\n",
       "      <td>0.000000</td>\n",
       "      <td>0.000000</td>\n",
       "      <td>0.000000</td>\n",
       "      <td>telecommuting</td>\n",
       "      <td>0</td>\n",
       "      <td>telecommuting</td>\n",
       "      <td>0.000000</td>\n",
       "      <td>0.000000</td>\n",
       "      <td>4thD</td>\n",
       "      <td>8thD</td>\n",
       "      <td>NaN</td>\n",
       "      <td>NaN</td>\n",
       "    </tr>\n",
       "    <tr>\n",
       "      <th>3</th>\n",
       "      <td>113</td>\n",
       "      <td>NaN</td>\n",
       "      <td>0.000000</td>\n",
       "      <td>0.000000</td>\n",
       "      <td>0.000000</td>\n",
       "      <td>work_to_Home</td>\n",
       "      <td>0.000000</td>\n",
       "      <td>1.360000</td>\n",
       "      <td>True</td>\n",
       "      <td>0.000000</td>\n",
       "      <td>0.000000</td>\n",
       "      <td>0.000000</td>\n",
       "      <td>0.000000</td>\n",
       "      <td>telecommuting</td>\n",
       "      <td>0</td>\n",
       "      <td>telecommuting</td>\n",
       "      <td>0.000000</td>\n",
       "      <td>0.000000</td>\n",
       "      <td>4thD</td>\n",
       "      <td>8thD</td>\n",
       "      <td>NaN</td>\n",
       "      <td>NaN</td>\n",
       "    </tr>\n",
       "    <tr>\n",
       "      <th>4</th>\n",
       "      <td>113</td>\n",
       "      <td>NaN</td>\n",
       "      <td>0.000000</td>\n",
       "      <td>0.000000</td>\n",
       "      <td>0.000000</td>\n",
       "      <td>Home_to_work</td>\n",
       "      <td>0.000000</td>\n",
       "      <td>1.760000</td>\n",
       "      <td>True</td>\n",
       "      <td>0.000000</td>\n",
       "      <td>0.000000</td>\n",
       "      <td>0.000000</td>\n",
       "      <td>0.000000</td>\n",
       "      <td>telecommuting</td>\n",
       "      <td>0</td>\n",
       "      <td>telecommuting</td>\n",
       "      <td>0.000000</td>\n",
       "      <td>0.000000</td>\n",
       "      <td>4thD</td>\n",
       "      <td>8thD</td>\n",
       "      <td>NaN</td>\n",
       "      <td>NaN</td>\n",
       "    </tr>\n",
       "  </tbody>\n",
       "</table>\n",
       "</div>"
      ],
      "text/plain": [
       "   IDMerged    tripIndex  actEndTime_24h  actStartTime_24h  \\\n",
       "0       113 37377.000000        7.840000          7.892500   \n",
       "1       113 37381.000000       22.688889         22.788889   \n",
       "2       113          NaN        0.000000          0.000000   \n",
       "3       113          NaN        0.000000          0.000000   \n",
       "4       113          NaN        0.000000          0.000000   \n",
       "\n",
       "   duration_travelling_min    actPurpose  cost_BEAM  lever_position_tel  \\\n",
       "0                 3.150000  Home_to_work   0.158466            1.000000   \n",
       "1                 6.000000  work_to_Home   0.370385            1.000000   \n",
       "2                 0.000000  Home_to_work   0.000000            1.360000   \n",
       "3                 0.000000  work_to_Home   0.000000            1.360000   \n",
       "4                 0.000000  Home_to_work   0.000000            1.760000   \n",
       "\n",
       "   telework  distance_travelling_mile  duration_in_privateCar  \\\n",
       "0     False                  2.525313              189.000000   \n",
       "1     False                  5.902449              360.000000   \n",
       "2      True                  0.000000                0.000000   \n",
       "3      True                  0.000000                0.000000   \n",
       "4      True                  0.000000                0.000000   \n",
       "\n",
       "   duration_in_ridehail  duration_walking mode_choice_actual_BEAM  \\\n",
       "0              0.000000          0.000000                     car   \n",
       "1              0.000000          0.000000                     car   \n",
       "2              0.000000          0.000000           telecommuting   \n",
       "3              0.000000          0.000000           telecommuting   \n",
       "4              0.000000          0.000000           telecommuting   \n",
       "\n",
       "   replanning_status mode_choice_actual_4  Potential_INEXUS_in_dollar_2023  \\\n",
       "0                  0                  car                       -25.662671   \n",
       "1                  0                  car                        -8.014667   \n",
       "2                  0        telecommuting                         0.000000   \n",
       "3                  0        telecommuting                         0.000000   \n",
       "4                  0        telecommuting                         0.000000   \n",
       "\n",
       "   Realized_INEXUS_in_dollar_2023 income_quartiles income_deciles  \\\n",
       "0                      -33.519751             4thD           8thD   \n",
       "1                      -15.737538             4thD           8thD   \n",
       "2                        0.000000             4thD           8thD   \n",
       "3                        0.000000             4thD           8thD   \n",
       "4                        0.000000             4thD           8thD   \n",
       "\n",
       "   income_in_thousands        income  \n",
       "0           160.000000 160000.000000  \n",
       "1           160.000000 160000.000000  \n",
       "2                  NaN           NaN  \n",
       "3                  NaN           NaN  \n",
       "4                  NaN           NaN  "
      ]
     },
     "execution_count": 59,
     "metadata": {},
     "output_type": "execute_result"
    }
   ],
   "source": [
    "sf_tel_home_work_small.head()"
   ]
  },
  {
   "cell_type": "code",
   "execution_count": 60,
   "id": "cfedac3d",
   "metadata": {},
   "outputs": [],
   "source": [
    "# Get dummy variables for the four columns\n",
    "dummy_cols = ['lever_position_tel', 'mode_choice_actual_4', 'income_deciles', 'income_quartiles']\n",
    "sf_tel_home_work_dummies = pd.get_dummies(sf_tel_home_work_small, columns=dummy_cols)"
   ]
  },
  {
   "cell_type": "code",
   "execution_count": 64,
   "id": "0688b372",
   "metadata": {},
   "outputs": [],
   "source": [
    "# Group by 'IDMerged' and fill missing values in 'income'\n",
    "sf_tel_filled = sf_tel_home_work_dummies.groupby('IDMerged').apply(lambda x: x.fillna({'income': x['income'].fillna(x['income'].values[0])}))\n",
    "\n",
    "# Remove grouping\n",
    "sf_tel_filled = sf_tel_filled.reset_index(drop=True)"
   ]
  },
  {
   "cell_type": "code",
   "execution_count": 66,
   "id": "bce78e25",
   "metadata": {},
   "outputs": [],
   "source": [
    "# Group by 'IDMerged' and fill missing values in 'income_in_thousands'\n",
    "sf_tel_filled2 = sf_tel_filled.groupby('IDMerged').apply(lambda x: x.fillna({'income_in_thousands': x['income_in_thousands'].fillna(x['income_in_thousands'].values[0])}))\n",
    "\n",
    "# Remove grouping\n",
    "sf_tel_filled2 = sf_tel_filled2.reset_index(drop=True)"
   ]
  },
  {
   "cell_type": "code",
   "execution_count": 90,
   "id": "26d0504e",
   "metadata": {},
   "outputs": [
    {
     "data": {
      "text/html": [
       "<div>\n",
       "<style scoped>\n",
       "    .dataframe tbody tr th:only-of-type {\n",
       "        vertical-align: middle;\n",
       "    }\n",
       "\n",
       "    .dataframe tbody tr th {\n",
       "        vertical-align: top;\n",
       "    }\n",
       "\n",
       "    .dataframe thead th {\n",
       "        text-align: right;\n",
       "    }\n",
       "</style>\n",
       "<table border=\"1\" class=\"dataframe\">\n",
       "  <thead>\n",
       "    <tr style=\"text-align: right;\">\n",
       "      <th></th>\n",
       "      <th>IDMerged</th>\n",
       "      <th>tripIndex</th>\n",
       "      <th>actEndTime_24h</th>\n",
       "      <th>actStartTime_24h</th>\n",
       "      <th>duration_travelling_min</th>\n",
       "      <th>actPurpose</th>\n",
       "      <th>cost_BEAM</th>\n",
       "      <th>telework</th>\n",
       "      <th>distance_travelling_mile</th>\n",
       "      <th>duration_in_privateCar</th>\n",
       "      <th>duration_in_ridehail</th>\n",
       "      <th>duration_walking</th>\n",
       "      <th>mode_choice_actual_BEAM</th>\n",
       "      <th>replanning_status</th>\n",
       "      <th>Potential_INEXUS_in_dollar_2023</th>\n",
       "      <th>Realized_INEXUS_in_dollar_2023</th>\n",
       "      <th>income_in_thousands</th>\n",
       "      <th>income</th>\n",
       "      <th>lever_position_tel_1.0</th>\n",
       "      <th>lever_position_tel_1.36</th>\n",
       "      <th>lever_position_tel_1.76</th>\n",
       "      <th>lever_position_tel_2.56</th>\n",
       "      <th>lever_position_tel_4.32</th>\n",
       "      <th>lever_position_tel_6.24</th>\n",
       "      <th>lever_position_tel_9.6</th>\n",
       "      <th>mode_choice_actual_4_car</th>\n",
       "      <th>mode_choice_actual_4_ride_hail</th>\n",
       "      <th>mode_choice_actual_4_telecommuting</th>\n",
       "      <th>mode_choice_actual_4_transit</th>\n",
       "      <th>mode_choice_actual_4_walk/bike</th>\n",
       "      <th>income_deciles_10thD</th>\n",
       "      <th>income_deciles_1stD</th>\n",
       "      <th>income_deciles_2ndD</th>\n",
       "      <th>income_deciles_3rdD</th>\n",
       "      <th>income_deciles_4thD</th>\n",
       "      <th>income_deciles_5thD</th>\n",
       "      <th>income_deciles_6thD</th>\n",
       "      <th>income_deciles_7thD</th>\n",
       "      <th>income_deciles_8thD</th>\n",
       "      <th>income_deciles_9thD</th>\n",
       "      <th>income_quartiles_1stQ</th>\n",
       "      <th>income_quartiles_2ndQ</th>\n",
       "      <th>income_quartiles_3rdQ</th>\n",
       "      <th>income_quartiles_4thD</th>\n",
       "      <th>IDMerged_index</th>\n",
       "    </tr>\n",
       "  </thead>\n",
       "  <tbody>\n",
       "    <tr>\n",
       "      <th>0</th>\n",
       "      <td>113</td>\n",
       "      <td>37377.000000</td>\n",
       "      <td>7.840000</td>\n",
       "      <td>7.892500</td>\n",
       "      <td>3.150000</td>\n",
       "      <td>Home_to_work</td>\n",
       "      <td>0.158466</td>\n",
       "      <td>False</td>\n",
       "      <td>2.525313</td>\n",
       "      <td>189.000000</td>\n",
       "      <td>0.000000</td>\n",
       "      <td>0.000000</td>\n",
       "      <td>car</td>\n",
       "      <td>0</td>\n",
       "      <td>-25.662671</td>\n",
       "      <td>-33.519751</td>\n",
       "      <td>160.000000</td>\n",
       "      <td>160000.000000</td>\n",
       "      <td>1</td>\n",
       "      <td>0</td>\n",
       "      <td>0</td>\n",
       "      <td>0</td>\n",
       "      <td>0</td>\n",
       "      <td>0</td>\n",
       "      <td>0</td>\n",
       "      <td>1</td>\n",
       "      <td>0</td>\n",
       "      <td>0</td>\n",
       "      <td>0</td>\n",
       "      <td>0</td>\n",
       "      <td>0</td>\n",
       "      <td>0</td>\n",
       "      <td>0</td>\n",
       "      <td>0</td>\n",
       "      <td>0</td>\n",
       "      <td>0</td>\n",
       "      <td>0</td>\n",
       "      <td>0</td>\n",
       "      <td>1</td>\n",
       "      <td>0</td>\n",
       "      <td>0</td>\n",
       "      <td>0</td>\n",
       "      <td>0</td>\n",
       "      <td>1</td>\n",
       "      <td>0</td>\n",
       "    </tr>\n",
       "    <tr>\n",
       "      <th>1</th>\n",
       "      <td>113</td>\n",
       "      <td>37381.000000</td>\n",
       "      <td>22.688889</td>\n",
       "      <td>22.788889</td>\n",
       "      <td>6.000000</td>\n",
       "      <td>work_to_Home</td>\n",
       "      <td>0.370385</td>\n",
       "      <td>False</td>\n",
       "      <td>5.902449</td>\n",
       "      <td>360.000000</td>\n",
       "      <td>0.000000</td>\n",
       "      <td>0.000000</td>\n",
       "      <td>car</td>\n",
       "      <td>0</td>\n",
       "      <td>-8.014667</td>\n",
       "      <td>-15.737538</td>\n",
       "      <td>160.000000</td>\n",
       "      <td>160000.000000</td>\n",
       "      <td>1</td>\n",
       "      <td>0</td>\n",
       "      <td>0</td>\n",
       "      <td>0</td>\n",
       "      <td>0</td>\n",
       "      <td>0</td>\n",
       "      <td>0</td>\n",
       "      <td>1</td>\n",
       "      <td>0</td>\n",
       "      <td>0</td>\n",
       "      <td>0</td>\n",
       "      <td>0</td>\n",
       "      <td>0</td>\n",
       "      <td>0</td>\n",
       "      <td>0</td>\n",
       "      <td>0</td>\n",
       "      <td>0</td>\n",
       "      <td>0</td>\n",
       "      <td>0</td>\n",
       "      <td>0</td>\n",
       "      <td>1</td>\n",
       "      <td>0</td>\n",
       "      <td>0</td>\n",
       "      <td>0</td>\n",
       "      <td>0</td>\n",
       "      <td>1</td>\n",
       "      <td>0</td>\n",
       "    </tr>\n",
       "    <tr>\n",
       "      <th>2</th>\n",
       "      <td>113</td>\n",
       "      <td>NaN</td>\n",
       "      <td>0.000000</td>\n",
       "      <td>0.000000</td>\n",
       "      <td>0.000000</td>\n",
       "      <td>Home_to_work</td>\n",
       "      <td>0.000000</td>\n",
       "      <td>True</td>\n",
       "      <td>0.000000</td>\n",
       "      <td>0.000000</td>\n",
       "      <td>0.000000</td>\n",
       "      <td>0.000000</td>\n",
       "      <td>telecommuting</td>\n",
       "      <td>0</td>\n",
       "      <td>0.000000</td>\n",
       "      <td>0.000000</td>\n",
       "      <td>160.000000</td>\n",
       "      <td>160000.000000</td>\n",
       "      <td>0</td>\n",
       "      <td>1</td>\n",
       "      <td>0</td>\n",
       "      <td>0</td>\n",
       "      <td>0</td>\n",
       "      <td>0</td>\n",
       "      <td>0</td>\n",
       "      <td>0</td>\n",
       "      <td>0</td>\n",
       "      <td>1</td>\n",
       "      <td>0</td>\n",
       "      <td>0</td>\n",
       "      <td>0</td>\n",
       "      <td>0</td>\n",
       "      <td>0</td>\n",
       "      <td>0</td>\n",
       "      <td>0</td>\n",
       "      <td>0</td>\n",
       "      <td>0</td>\n",
       "      <td>0</td>\n",
       "      <td>1</td>\n",
       "      <td>0</td>\n",
       "      <td>0</td>\n",
       "      <td>0</td>\n",
       "      <td>0</td>\n",
       "      <td>1</td>\n",
       "      <td>0</td>\n",
       "    </tr>\n",
       "    <tr>\n",
       "      <th>3</th>\n",
       "      <td>113</td>\n",
       "      <td>NaN</td>\n",
       "      <td>0.000000</td>\n",
       "      <td>0.000000</td>\n",
       "      <td>0.000000</td>\n",
       "      <td>work_to_Home</td>\n",
       "      <td>0.000000</td>\n",
       "      <td>True</td>\n",
       "      <td>0.000000</td>\n",
       "      <td>0.000000</td>\n",
       "      <td>0.000000</td>\n",
       "      <td>0.000000</td>\n",
       "      <td>telecommuting</td>\n",
       "      <td>0</td>\n",
       "      <td>0.000000</td>\n",
       "      <td>0.000000</td>\n",
       "      <td>160.000000</td>\n",
       "      <td>160000.000000</td>\n",
       "      <td>0</td>\n",
       "      <td>1</td>\n",
       "      <td>0</td>\n",
       "      <td>0</td>\n",
       "      <td>0</td>\n",
       "      <td>0</td>\n",
       "      <td>0</td>\n",
       "      <td>0</td>\n",
       "      <td>0</td>\n",
       "      <td>1</td>\n",
       "      <td>0</td>\n",
       "      <td>0</td>\n",
       "      <td>0</td>\n",
       "      <td>0</td>\n",
       "      <td>0</td>\n",
       "      <td>0</td>\n",
       "      <td>0</td>\n",
       "      <td>0</td>\n",
       "      <td>0</td>\n",
       "      <td>0</td>\n",
       "      <td>1</td>\n",
       "      <td>0</td>\n",
       "      <td>0</td>\n",
       "      <td>0</td>\n",
       "      <td>0</td>\n",
       "      <td>1</td>\n",
       "      <td>0</td>\n",
       "    </tr>\n",
       "    <tr>\n",
       "      <th>4</th>\n",
       "      <td>113</td>\n",
       "      <td>NaN</td>\n",
       "      <td>0.000000</td>\n",
       "      <td>0.000000</td>\n",
       "      <td>0.000000</td>\n",
       "      <td>Home_to_work</td>\n",
       "      <td>0.000000</td>\n",
       "      <td>True</td>\n",
       "      <td>0.000000</td>\n",
       "      <td>0.000000</td>\n",
       "      <td>0.000000</td>\n",
       "      <td>0.000000</td>\n",
       "      <td>telecommuting</td>\n",
       "      <td>0</td>\n",
       "      <td>0.000000</td>\n",
       "      <td>0.000000</td>\n",
       "      <td>160.000000</td>\n",
       "      <td>160000.000000</td>\n",
       "      <td>0</td>\n",
       "      <td>0</td>\n",
       "      <td>1</td>\n",
       "      <td>0</td>\n",
       "      <td>0</td>\n",
       "      <td>0</td>\n",
       "      <td>0</td>\n",
       "      <td>0</td>\n",
       "      <td>0</td>\n",
       "      <td>1</td>\n",
       "      <td>0</td>\n",
       "      <td>0</td>\n",
       "      <td>0</td>\n",
       "      <td>0</td>\n",
       "      <td>0</td>\n",
       "      <td>0</td>\n",
       "      <td>0</td>\n",
       "      <td>0</td>\n",
       "      <td>0</td>\n",
       "      <td>0</td>\n",
       "      <td>1</td>\n",
       "      <td>0</td>\n",
       "      <td>0</td>\n",
       "      <td>0</td>\n",
       "      <td>0</td>\n",
       "      <td>1</td>\n",
       "      <td>0</td>\n",
       "    </tr>\n",
       "  </tbody>\n",
       "</table>\n",
       "</div>"
      ],
      "text/plain": [
       "   IDMerged    tripIndex  actEndTime_24h  actStartTime_24h  \\\n",
       "0       113 37377.000000        7.840000          7.892500   \n",
       "1       113 37381.000000       22.688889         22.788889   \n",
       "2       113          NaN        0.000000          0.000000   \n",
       "3       113          NaN        0.000000          0.000000   \n",
       "4       113          NaN        0.000000          0.000000   \n",
       "\n",
       "   duration_travelling_min    actPurpose  cost_BEAM  telework  \\\n",
       "0                 3.150000  Home_to_work   0.158466     False   \n",
       "1                 6.000000  work_to_Home   0.370385     False   \n",
       "2                 0.000000  Home_to_work   0.000000      True   \n",
       "3                 0.000000  work_to_Home   0.000000      True   \n",
       "4                 0.000000  Home_to_work   0.000000      True   \n",
       "\n",
       "   distance_travelling_mile  duration_in_privateCar  duration_in_ridehail  \\\n",
       "0                  2.525313              189.000000              0.000000   \n",
       "1                  5.902449              360.000000              0.000000   \n",
       "2                  0.000000                0.000000              0.000000   \n",
       "3                  0.000000                0.000000              0.000000   \n",
       "4                  0.000000                0.000000              0.000000   \n",
       "\n",
       "   duration_walking mode_choice_actual_BEAM  replanning_status  \\\n",
       "0          0.000000                     car                  0   \n",
       "1          0.000000                     car                  0   \n",
       "2          0.000000           telecommuting                  0   \n",
       "3          0.000000           telecommuting                  0   \n",
       "4          0.000000           telecommuting                  0   \n",
       "\n",
       "   Potential_INEXUS_in_dollar_2023  Realized_INEXUS_in_dollar_2023  \\\n",
       "0                       -25.662671                      -33.519751   \n",
       "1                        -8.014667                      -15.737538   \n",
       "2                         0.000000                        0.000000   \n",
       "3                         0.000000                        0.000000   \n",
       "4                         0.000000                        0.000000   \n",
       "\n",
       "   income_in_thousands        income  lever_position_tel_1.0  \\\n",
       "0           160.000000 160000.000000                       1   \n",
       "1           160.000000 160000.000000                       1   \n",
       "2           160.000000 160000.000000                       0   \n",
       "3           160.000000 160000.000000                       0   \n",
       "4           160.000000 160000.000000                       0   \n",
       "\n",
       "   lever_position_tel_1.36  lever_position_tel_1.76  lever_position_tel_2.56  \\\n",
       "0                        0                        0                        0   \n",
       "1                        0                        0                        0   \n",
       "2                        1                        0                        0   \n",
       "3                        1                        0                        0   \n",
       "4                        0                        1                        0   \n",
       "\n",
       "   lever_position_tel_4.32  lever_position_tel_6.24  lever_position_tel_9.6  \\\n",
       "0                        0                        0                       0   \n",
       "1                        0                        0                       0   \n",
       "2                        0                        0                       0   \n",
       "3                        0                        0                       0   \n",
       "4                        0                        0                       0   \n",
       "\n",
       "   mode_choice_actual_4_car  mode_choice_actual_4_ride_hail  \\\n",
       "0                         1                               0   \n",
       "1                         1                               0   \n",
       "2                         0                               0   \n",
       "3                         0                               0   \n",
       "4                         0                               0   \n",
       "\n",
       "   mode_choice_actual_4_telecommuting  mode_choice_actual_4_transit  \\\n",
       "0                                   0                             0   \n",
       "1                                   0                             0   \n",
       "2                                   1                             0   \n",
       "3                                   1                             0   \n",
       "4                                   1                             0   \n",
       "\n",
       "   mode_choice_actual_4_walk/bike  income_deciles_10thD  income_deciles_1stD  \\\n",
       "0                               0                     0                    0   \n",
       "1                               0                     0                    0   \n",
       "2                               0                     0                    0   \n",
       "3                               0                     0                    0   \n",
       "4                               0                     0                    0   \n",
       "\n",
       "   income_deciles_2ndD  income_deciles_3rdD  income_deciles_4thD  \\\n",
       "0                    0                    0                    0   \n",
       "1                    0                    0                    0   \n",
       "2                    0                    0                    0   \n",
       "3                    0                    0                    0   \n",
       "4                    0                    0                    0   \n",
       "\n",
       "   income_deciles_5thD  income_deciles_6thD  income_deciles_7thD  \\\n",
       "0                    0                    0                    0   \n",
       "1                    0                    0                    0   \n",
       "2                    0                    0                    0   \n",
       "3                    0                    0                    0   \n",
       "4                    0                    0                    0   \n",
       "\n",
       "   income_deciles_8thD  income_deciles_9thD  income_quartiles_1stQ  \\\n",
       "0                    1                    0                      0   \n",
       "1                    1                    0                      0   \n",
       "2                    1                    0                      0   \n",
       "3                    1                    0                      0   \n",
       "4                    1                    0                      0   \n",
       "\n",
       "   income_quartiles_2ndQ  income_quartiles_3rdQ  income_quartiles_4thD  \\\n",
       "0                      0                      0                      1   \n",
       "1                      0                      0                      1   \n",
       "2                      0                      0                      1   \n",
       "3                      0                      0                      1   \n",
       "4                      0                      0                      1   \n",
       "\n",
       "   IDMerged_index  \n",
       "0               0  \n",
       "1               0  \n",
       "2               0  \n",
       "3               0  \n",
       "4               0  "
      ]
     },
     "execution_count": 90,
     "metadata": {},
     "output_type": "execute_result"
    }
   ],
   "source": [
    "sf_tel_filled2.head()"
   ]
  },
  {
   "cell_type": "code",
   "execution_count": 98,
   "id": "73aa2c3a",
   "metadata": {},
   "outputs": [],
   "source": [
    "sf_tel_car = sf_tel_filled2.groupby('IDMerged').filter(lambda x: (x['mode_choice_actual_4_car'] == 1).any())"
   ]
  },
  {
   "cell_type": "code",
   "execution_count": 105,
   "id": "888f1d58",
   "metadata": {},
   "outputs": [
    {
     "data": {
      "text/html": [
       "<div>\n",
       "<style scoped>\n",
       "    .dataframe tbody tr th:only-of-type {\n",
       "        vertical-align: middle;\n",
       "    }\n",
       "\n",
       "    .dataframe tbody tr th {\n",
       "        vertical-align: top;\n",
       "    }\n",
       "\n",
       "    .dataframe thead th {\n",
       "        text-align: right;\n",
       "    }\n",
       "</style>\n",
       "<table border=\"1\" class=\"dataframe\">\n",
       "  <thead>\n",
       "    <tr style=\"text-align: right;\">\n",
       "      <th></th>\n",
       "      <th>IDMerged</th>\n",
       "      <th>tripIndex</th>\n",
       "      <th>actEndTime_24h</th>\n",
       "      <th>actStartTime_24h</th>\n",
       "      <th>duration_travelling_min</th>\n",
       "      <th>actPurpose</th>\n",
       "      <th>cost_BEAM</th>\n",
       "      <th>telework</th>\n",
       "      <th>distance_travelling_mile</th>\n",
       "      <th>duration_in_privateCar</th>\n",
       "      <th>duration_in_ridehail</th>\n",
       "      <th>duration_walking</th>\n",
       "      <th>mode_choice_actual_BEAM</th>\n",
       "      <th>replanning_status</th>\n",
       "      <th>Potential_INEXUS_in_dollar_2023</th>\n",
       "      <th>Realized_INEXUS_in_dollar_2023</th>\n",
       "      <th>income_in_thousands</th>\n",
       "      <th>income</th>\n",
       "      <th>lever_position_tel_1.0</th>\n",
       "      <th>lever_position_tel_1.36</th>\n",
       "      <th>lever_position_tel_1.76</th>\n",
       "      <th>lever_position_tel_2.56</th>\n",
       "      <th>lever_position_tel_4.32</th>\n",
       "      <th>lever_position_tel_6.24</th>\n",
       "      <th>lever_position_tel_9.6</th>\n",
       "      <th>mode_choice_actual_4_car</th>\n",
       "      <th>mode_choice_actual_4_ride_hail</th>\n",
       "      <th>mode_choice_actual_4_telecommuting</th>\n",
       "      <th>mode_choice_actual_4_transit</th>\n",
       "      <th>mode_choice_actual_4_walk/bike</th>\n",
       "      <th>income_deciles_10thD</th>\n",
       "      <th>income_deciles_1stD</th>\n",
       "      <th>income_deciles_2ndD</th>\n",
       "      <th>income_deciles_3rdD</th>\n",
       "      <th>income_deciles_4thD</th>\n",
       "      <th>income_deciles_5thD</th>\n",
       "      <th>income_deciles_6thD</th>\n",
       "      <th>income_deciles_7thD</th>\n",
       "      <th>income_deciles_8thD</th>\n",
       "      <th>income_deciles_9thD</th>\n",
       "      <th>income_quartiles_1stQ</th>\n",
       "      <th>income_quartiles_2ndQ</th>\n",
       "      <th>income_quartiles_3rdQ</th>\n",
       "      <th>income_quartiles_4thD</th>\n",
       "      <th>IDMerged_index</th>\n",
       "    </tr>\n",
       "  </thead>\n",
       "  <tbody>\n",
       "    <tr>\n",
       "      <th>0</th>\n",
       "      <td>113</td>\n",
       "      <td>37377.000000</td>\n",
       "      <td>7.840000</td>\n",
       "      <td>7.892500</td>\n",
       "      <td>3.150000</td>\n",
       "      <td>Home_to_work</td>\n",
       "      <td>0.158466</td>\n",
       "      <td>False</td>\n",
       "      <td>2.525313</td>\n",
       "      <td>189.000000</td>\n",
       "      <td>0.000000</td>\n",
       "      <td>0.000000</td>\n",
       "      <td>car</td>\n",
       "      <td>0</td>\n",
       "      <td>-25.662671</td>\n",
       "      <td>-33.519751</td>\n",
       "      <td>160.000000</td>\n",
       "      <td>160000.000000</td>\n",
       "      <td>1</td>\n",
       "      <td>0</td>\n",
       "      <td>0</td>\n",
       "      <td>0</td>\n",
       "      <td>0</td>\n",
       "      <td>0</td>\n",
       "      <td>0</td>\n",
       "      <td>1</td>\n",
       "      <td>0</td>\n",
       "      <td>0</td>\n",
       "      <td>0</td>\n",
       "      <td>0</td>\n",
       "      <td>0</td>\n",
       "      <td>0</td>\n",
       "      <td>0</td>\n",
       "      <td>0</td>\n",
       "      <td>0</td>\n",
       "      <td>0</td>\n",
       "      <td>0</td>\n",
       "      <td>0</td>\n",
       "      <td>1</td>\n",
       "      <td>0</td>\n",
       "      <td>0</td>\n",
       "      <td>0</td>\n",
       "      <td>0</td>\n",
       "      <td>1</td>\n",
       "      <td>0</td>\n",
       "    </tr>\n",
       "    <tr>\n",
       "      <th>1</th>\n",
       "      <td>113</td>\n",
       "      <td>37381.000000</td>\n",
       "      <td>22.688889</td>\n",
       "      <td>22.788889</td>\n",
       "      <td>6.000000</td>\n",
       "      <td>work_to_Home</td>\n",
       "      <td>0.370385</td>\n",
       "      <td>False</td>\n",
       "      <td>5.902449</td>\n",
       "      <td>360.000000</td>\n",
       "      <td>0.000000</td>\n",
       "      <td>0.000000</td>\n",
       "      <td>car</td>\n",
       "      <td>0</td>\n",
       "      <td>-8.014667</td>\n",
       "      <td>-15.737538</td>\n",
       "      <td>160.000000</td>\n",
       "      <td>160000.000000</td>\n",
       "      <td>1</td>\n",
       "      <td>0</td>\n",
       "      <td>0</td>\n",
       "      <td>0</td>\n",
       "      <td>0</td>\n",
       "      <td>0</td>\n",
       "      <td>0</td>\n",
       "      <td>1</td>\n",
       "      <td>0</td>\n",
       "      <td>0</td>\n",
       "      <td>0</td>\n",
       "      <td>0</td>\n",
       "      <td>0</td>\n",
       "      <td>0</td>\n",
       "      <td>0</td>\n",
       "      <td>0</td>\n",
       "      <td>0</td>\n",
       "      <td>0</td>\n",
       "      <td>0</td>\n",
       "      <td>0</td>\n",
       "      <td>1</td>\n",
       "      <td>0</td>\n",
       "      <td>0</td>\n",
       "      <td>0</td>\n",
       "      <td>0</td>\n",
       "      <td>1</td>\n",
       "      <td>0</td>\n",
       "    </tr>\n",
       "    <tr>\n",
       "      <th>2</th>\n",
       "      <td>113</td>\n",
       "      <td>NaN</td>\n",
       "      <td>0.000000</td>\n",
       "      <td>0.000000</td>\n",
       "      <td>0.000000</td>\n",
       "      <td>Home_to_work</td>\n",
       "      <td>0.000000</td>\n",
       "      <td>True</td>\n",
       "      <td>0.000000</td>\n",
       "      <td>0.000000</td>\n",
       "      <td>0.000000</td>\n",
       "      <td>0.000000</td>\n",
       "      <td>telecommuting</td>\n",
       "      <td>0</td>\n",
       "      <td>0.000000</td>\n",
       "      <td>0.000000</td>\n",
       "      <td>160.000000</td>\n",
       "      <td>160000.000000</td>\n",
       "      <td>0</td>\n",
       "      <td>1</td>\n",
       "      <td>0</td>\n",
       "      <td>0</td>\n",
       "      <td>0</td>\n",
       "      <td>0</td>\n",
       "      <td>0</td>\n",
       "      <td>0</td>\n",
       "      <td>0</td>\n",
       "      <td>1</td>\n",
       "      <td>0</td>\n",
       "      <td>0</td>\n",
       "      <td>0</td>\n",
       "      <td>0</td>\n",
       "      <td>0</td>\n",
       "      <td>0</td>\n",
       "      <td>0</td>\n",
       "      <td>0</td>\n",
       "      <td>0</td>\n",
       "      <td>0</td>\n",
       "      <td>1</td>\n",
       "      <td>0</td>\n",
       "      <td>0</td>\n",
       "      <td>0</td>\n",
       "      <td>0</td>\n",
       "      <td>1</td>\n",
       "      <td>0</td>\n",
       "    </tr>\n",
       "    <tr>\n",
       "      <th>3</th>\n",
       "      <td>113</td>\n",
       "      <td>NaN</td>\n",
       "      <td>0.000000</td>\n",
       "      <td>0.000000</td>\n",
       "      <td>0.000000</td>\n",
       "      <td>work_to_Home</td>\n",
       "      <td>0.000000</td>\n",
       "      <td>True</td>\n",
       "      <td>0.000000</td>\n",
       "      <td>0.000000</td>\n",
       "      <td>0.000000</td>\n",
       "      <td>0.000000</td>\n",
       "      <td>telecommuting</td>\n",
       "      <td>0</td>\n",
       "      <td>0.000000</td>\n",
       "      <td>0.000000</td>\n",
       "      <td>160.000000</td>\n",
       "      <td>160000.000000</td>\n",
       "      <td>0</td>\n",
       "      <td>1</td>\n",
       "      <td>0</td>\n",
       "      <td>0</td>\n",
       "      <td>0</td>\n",
       "      <td>0</td>\n",
       "      <td>0</td>\n",
       "      <td>0</td>\n",
       "      <td>0</td>\n",
       "      <td>1</td>\n",
       "      <td>0</td>\n",
       "      <td>0</td>\n",
       "      <td>0</td>\n",
       "      <td>0</td>\n",
       "      <td>0</td>\n",
       "      <td>0</td>\n",
       "      <td>0</td>\n",
       "      <td>0</td>\n",
       "      <td>0</td>\n",
       "      <td>0</td>\n",
       "      <td>1</td>\n",
       "      <td>0</td>\n",
       "      <td>0</td>\n",
       "      <td>0</td>\n",
       "      <td>0</td>\n",
       "      <td>1</td>\n",
       "      <td>0</td>\n",
       "    </tr>\n",
       "    <tr>\n",
       "      <th>4</th>\n",
       "      <td>113</td>\n",
       "      <td>NaN</td>\n",
       "      <td>0.000000</td>\n",
       "      <td>0.000000</td>\n",
       "      <td>0.000000</td>\n",
       "      <td>Home_to_work</td>\n",
       "      <td>0.000000</td>\n",
       "      <td>True</td>\n",
       "      <td>0.000000</td>\n",
       "      <td>0.000000</td>\n",
       "      <td>0.000000</td>\n",
       "      <td>0.000000</td>\n",
       "      <td>telecommuting</td>\n",
       "      <td>0</td>\n",
       "      <td>0.000000</td>\n",
       "      <td>0.000000</td>\n",
       "      <td>160.000000</td>\n",
       "      <td>160000.000000</td>\n",
       "      <td>0</td>\n",
       "      <td>0</td>\n",
       "      <td>1</td>\n",
       "      <td>0</td>\n",
       "      <td>0</td>\n",
       "      <td>0</td>\n",
       "      <td>0</td>\n",
       "      <td>0</td>\n",
       "      <td>0</td>\n",
       "      <td>1</td>\n",
       "      <td>0</td>\n",
       "      <td>0</td>\n",
       "      <td>0</td>\n",
       "      <td>0</td>\n",
       "      <td>0</td>\n",
       "      <td>0</td>\n",
       "      <td>0</td>\n",
       "      <td>0</td>\n",
       "      <td>0</td>\n",
       "      <td>0</td>\n",
       "      <td>1</td>\n",
       "      <td>0</td>\n",
       "      <td>0</td>\n",
       "      <td>0</td>\n",
       "      <td>0</td>\n",
       "      <td>1</td>\n",
       "      <td>0</td>\n",
       "    </tr>\n",
       "  </tbody>\n",
       "</table>\n",
       "</div>"
      ],
      "text/plain": [
       "   IDMerged    tripIndex  actEndTime_24h  actStartTime_24h  \\\n",
       "0       113 37377.000000        7.840000          7.892500   \n",
       "1       113 37381.000000       22.688889         22.788889   \n",
       "2       113          NaN        0.000000          0.000000   \n",
       "3       113          NaN        0.000000          0.000000   \n",
       "4       113          NaN        0.000000          0.000000   \n",
       "\n",
       "   duration_travelling_min    actPurpose  cost_BEAM  telework  \\\n",
       "0                 3.150000  Home_to_work   0.158466     False   \n",
       "1                 6.000000  work_to_Home   0.370385     False   \n",
       "2                 0.000000  Home_to_work   0.000000      True   \n",
       "3                 0.000000  work_to_Home   0.000000      True   \n",
       "4                 0.000000  Home_to_work   0.000000      True   \n",
       "\n",
       "   distance_travelling_mile  duration_in_privateCar  duration_in_ridehail  \\\n",
       "0                  2.525313              189.000000              0.000000   \n",
       "1                  5.902449              360.000000              0.000000   \n",
       "2                  0.000000                0.000000              0.000000   \n",
       "3                  0.000000                0.000000              0.000000   \n",
       "4                  0.000000                0.000000              0.000000   \n",
       "\n",
       "   duration_walking mode_choice_actual_BEAM  replanning_status  \\\n",
       "0          0.000000                     car                  0   \n",
       "1          0.000000                     car                  0   \n",
       "2          0.000000           telecommuting                  0   \n",
       "3          0.000000           telecommuting                  0   \n",
       "4          0.000000           telecommuting                  0   \n",
       "\n",
       "   Potential_INEXUS_in_dollar_2023  Realized_INEXUS_in_dollar_2023  \\\n",
       "0                       -25.662671                      -33.519751   \n",
       "1                        -8.014667                      -15.737538   \n",
       "2                         0.000000                        0.000000   \n",
       "3                         0.000000                        0.000000   \n",
       "4                         0.000000                        0.000000   \n",
       "\n",
       "   income_in_thousands        income  lever_position_tel_1.0  \\\n",
       "0           160.000000 160000.000000                       1   \n",
       "1           160.000000 160000.000000                       1   \n",
       "2           160.000000 160000.000000                       0   \n",
       "3           160.000000 160000.000000                       0   \n",
       "4           160.000000 160000.000000                       0   \n",
       "\n",
       "   lever_position_tel_1.36  lever_position_tel_1.76  lever_position_tel_2.56  \\\n",
       "0                        0                        0                        0   \n",
       "1                        0                        0                        0   \n",
       "2                        1                        0                        0   \n",
       "3                        1                        0                        0   \n",
       "4                        0                        1                        0   \n",
       "\n",
       "   lever_position_tel_4.32  lever_position_tel_6.24  lever_position_tel_9.6  \\\n",
       "0                        0                        0                       0   \n",
       "1                        0                        0                       0   \n",
       "2                        0                        0                       0   \n",
       "3                        0                        0                       0   \n",
       "4                        0                        0                       0   \n",
       "\n",
       "   mode_choice_actual_4_car  mode_choice_actual_4_ride_hail  \\\n",
       "0                         1                               0   \n",
       "1                         1                               0   \n",
       "2                         0                               0   \n",
       "3                         0                               0   \n",
       "4                         0                               0   \n",
       "\n",
       "   mode_choice_actual_4_telecommuting  mode_choice_actual_4_transit  \\\n",
       "0                                   0                             0   \n",
       "1                                   0                             0   \n",
       "2                                   1                             0   \n",
       "3                                   1                             0   \n",
       "4                                   1                             0   \n",
       "\n",
       "   mode_choice_actual_4_walk/bike  income_deciles_10thD  income_deciles_1stD  \\\n",
       "0                               0                     0                    0   \n",
       "1                               0                     0                    0   \n",
       "2                               0                     0                    0   \n",
       "3                               0                     0                    0   \n",
       "4                               0                     0                    0   \n",
       "\n",
       "   income_deciles_2ndD  income_deciles_3rdD  income_deciles_4thD  \\\n",
       "0                    0                    0                    0   \n",
       "1                    0                    0                    0   \n",
       "2                    0                    0                    0   \n",
       "3                    0                    0                    0   \n",
       "4                    0                    0                    0   \n",
       "\n",
       "   income_deciles_5thD  income_deciles_6thD  income_deciles_7thD  \\\n",
       "0                    0                    0                    0   \n",
       "1                    0                    0                    0   \n",
       "2                    0                    0                    0   \n",
       "3                    0                    0                    0   \n",
       "4                    0                    0                    0   \n",
       "\n",
       "   income_deciles_8thD  income_deciles_9thD  income_quartiles_1stQ  \\\n",
       "0                    1                    0                      0   \n",
       "1                    1                    0                      0   \n",
       "2                    1                    0                      0   \n",
       "3                    1                    0                      0   \n",
       "4                    1                    0                      0   \n",
       "\n",
       "   income_quartiles_2ndQ  income_quartiles_3rdQ  income_quartiles_4thD  \\\n",
       "0                      0                      0                      1   \n",
       "1                      0                      0                      1   \n",
       "2                      0                      0                      1   \n",
       "3                      0                      0                      1   \n",
       "4                      0                      0                      1   \n",
       "\n",
       "   IDMerged_index  \n",
       "0               0  \n",
       "1               0  \n",
       "2               0  \n",
       "3               0  \n",
       "4               0  "
      ]
     },
     "execution_count": 105,
     "metadata": {},
     "output_type": "execute_result"
    }
   ],
   "source": [
    "sf_tel_car.head()"
   ]
  },
  {
   "cell_type": "code",
   "execution_count": 104,
   "id": "0f611d78",
   "metadata": {},
   "outputs": [],
   "source": [
    "import econtools.metrics as mt"
   ]
  },
  {
   "cell_type": "code",
   "execution_count": 125,
   "id": "887d56fd",
   "metadata": {},
   "outputs": [],
   "source": [
    "sf_tel_car['income_deciles_1stD_and_lever_position_tel_1'] = sf_tel_car['income_deciles_1stD'] * sf_tel_car['lever_position_tel_1.0']"
   ]
  },
  {
   "cell_type": "code",
   "execution_count": 129,
   "id": "69c7c2d9",
   "metadata": {},
   "outputs": [],
   "source": [
    "sf_tel_car['income_deciles_10thD_and_lever_position_tel_1'] = sf_tel_car['income_deciles_10thD'] * sf_tel_car['lever_position_tel_1.0']"
   ]
  },
  {
   "cell_type": "code",
   "execution_count": 130,
   "id": "7fadb529",
   "metadata": {},
   "outputs": [],
   "source": [
    "sf_tel_car['income_deciles_10thD_and_lever_position_tel_6.24'] = sf_tel_car['income_deciles_10thD'] * sf_tel_car['lever_position_tel_6.24']"
   ]
  },
  {
   "cell_type": "code",
   "execution_count": 131,
   "id": "6b31b829",
   "metadata": {},
   "outputs": [],
   "source": [
    "sf_tel_car['income_deciles_1stD_and_lever_position_tel_6.24'] = sf_tel_car['income_deciles_1stD'] * sf_tel_car['lever_position_tel_6.24']"
   ]
  },
  {
   "cell_type": "code",
   "execution_count": 132,
   "id": "9ab51a99",
   "metadata": {},
   "outputs": [
    {
     "name": "stderr",
     "output_type": "stream",
     "text": [
      "C:\\Users\\nrezaei\\anaconda3\\envs\\BEAM-CORE\\lib\\site-packages\\econtools\\util\\gentools.py:20: FutureWarning: Explicitly passing `name=None` currently preserves the Series' name or uses a default name of 0. This behaviour is deprecated, and in the future `None` will be used as the name of the resulting DataFrame column.\n",
      "  return s.to_frame(name)\n",
      "C:\\Users\\nrezaei\\anaconda3\\envs\\BEAM-CORE\\lib\\site-packages\\econtools\\util\\gentools.py:20: FutureWarning: Explicitly passing `name=None` currently preserves the Series' name or uses a default name of 0. This behaviour is deprecated, and in the future `None` will be used as the name of the resulting DataFrame column.\n",
      "  return s.to_frame(name)\n"
     ]
    },
    {
     "name": "stdout",
     "output_type": "stream",
     "text": [
      "=======================================================\n",
      "Dependent variable:\tPotential_INEXUS_in_dollar_2023\n",
      "N:\t\t\t2336321\n",
      "R-squared:\t\t0.6216\n",
      "Estimation method:\tOLS\n",
      "VCE method:\t\tCluster\n",
      "  Cluster variable:\t  IDMerged\n",
      "  No. of clusters:\t  206511\n",
      "Fixed effects by:\tIDMerged\n",
      "  No. of FE:\t\t  206511\n",
      "=======================================================\n",
      "                                                  coeff    se        t   p>t CI_low CI_high\n",
      "duration_travelling_min                          -0.192 0.001 -139.782 0.000 -0.195  -0.189\n",
      "lever_position_tel_1.0                           -0.869 0.021  -40.795 0.000 -0.910  -0.827\n",
      "lever_position_tel_1.36                          -0.491 0.017  -28.926 0.000 -0.524  -0.457\n",
      "lever_position_tel_6.24                           0.965 0.018   53.182 0.000  0.929   1.000\n",
      "lever_position_tel_9.6                            1.697 0.019   87.414 0.000  1.659   1.735\n",
      "income_deciles_1stD                               0.984 0.240    4.105 0.000  0.514   1.453\n",
      "income_deciles_10thD                              0.841 0.290    2.905 0.004  0.274   1.408\n",
      "income_deciles_1stD_and_lever_position_tel_1      0.950 0.054   17.724 0.000  0.845   1.055\n",
      "income_deciles_10thD_and_lever_position_tel_1    -0.987 0.074  -13.281 0.000 -1.133  -0.841\n",
      "income_deciles_10thD_and_lever_position_tel_6.24  0.492 0.056    8.719 0.000  0.382   0.603\n",
      "income_deciles_1stD_and_lever_position_tel_6.24  -0.578 0.050  -11.676 0.000 -0.675  -0.481\n",
      "=======================================================\n",
      "\n"
     ]
    }
   ],
   "source": [
    "y = 'Potential_INEXUS_in_dollar_2023'\n",
    "X = ['duration_travelling_min', 'lever_position_tel_1.0','lever_position_tel_1.36','lever_position_tel_6.24', 'lever_position_tel_9.6', 'income_deciles_1stD', 'income_deciles_10thD',\n",
    "    'income_deciles_1stD_and_lever_position_tel_1', 'income_deciles_10thD_and_lever_position_tel_1', \n",
    "    'income_deciles_10thD_and_lever_position_tel_6.24', 'income_deciles_1stD_and_lever_position_tel_6.24']\n",
    "fe_var = 'IDMerged'\n",
    "cluster_var = 'IDMerged'\n",
    "\n",
    "results = mt.reg(\n",
    "    sf_tel_car,             # DataFrame\n",
    "    y,                      # Dependent var (string)\n",
    "    X,                      # Independent var(s) (string or list of strings)\n",
    "    fe_name=fe_var,         # Fixed-effects/absorb var (string)\n",
    "    cluster=cluster_var     # Cluster var (string)\n",
    ")\n",
    "print(results)"
   ]
  },
  {
   "cell_type": "code",
   "execution_count": 134,
   "id": "76de1f4d",
   "metadata": {},
   "outputs": [
    {
     "name": "stderr",
     "output_type": "stream",
     "text": [
      "C:\\Users\\nrezaei\\anaconda3\\envs\\BEAM-CORE\\lib\\site-packages\\econtools\\util\\gentools.py:20: FutureWarning: Explicitly passing `name=None` currently preserves the Series' name or uses a default name of 0. This behaviour is deprecated, and in the future `None` will be used as the name of the resulting DataFrame column.\n",
      "  return s.to_frame(name)\n",
      "C:\\Users\\nrezaei\\anaconda3\\envs\\BEAM-CORE\\lib\\site-packages\\econtools\\util\\gentools.py:20: FutureWarning: Explicitly passing `name=None` currently preserves the Series' name or uses a default name of 0. This behaviour is deprecated, and in the future `None` will be used as the name of the resulting DataFrame column.\n",
      "  return s.to_frame(name)\n"
     ]
    },
    {
     "name": "stdout",
     "output_type": "stream",
     "text": [
      "=======================================================\n",
      "Dependent variable:\tduration_travelling_min\n",
      "N:\t\t\t2336321\n",
      "R-squared:\t\t0.5467\n",
      "Estimation method:\tOLS\n",
      "VCE method:\t\tCluster\n",
      "  Cluster variable:\t  IDMerged\n",
      "  No. of clusters:\t  206511\n",
      "Fixed effects by:\tIDMerged\n",
      "  No. of FE:\t\t  206511\n",
      "=======================================================\n",
      "                                                  coeff    se        t   p>t CI_low CI_high\n",
      "lever_position_tel_1.0                            4.139 0.033  126.590 0.000  4.075   4.203\n",
      "lever_position_tel_1.36                           2.441 0.026   92.991 0.000  2.389   2.492\n",
      "lever_position_tel_6.24                          -4.258 0.030 -144.212 0.000 -4.316  -4.200\n",
      "lever_position_tel_9.6                           -7.206 0.031 -230.141 0.000 -7.268  -7.145\n",
      "income_deciles_1stD                              -2.043 0.763   -2.678 0.007 -3.539  -0.548\n",
      "income_deciles_10thD                             -2.211 0.413   -5.353 0.000 -3.020  -1.401\n",
      "income_deciles_1stD_and_lever_position_tel_1     -2.791 0.117  -23.861 0.000 -3.021  -2.562\n",
      "income_deciles_10thD_and_lever_position_tel_1     3.187 0.098   32.601 0.000  2.995   3.379\n",
      "income_deciles_10thD_and_lever_position_tel_6.24 -1.480 0.080  -18.401 0.000 -1.637  -1.322\n",
      "income_deciles_1stD_and_lever_position_tel_6.24   1.839 0.110   16.764 0.000  1.624   2.053\n",
      "=======================================================\n",
      "\n"
     ]
    }
   ],
   "source": [
    "y = 'duration_travelling_min'\n",
    "X = ['lever_position_tel_1.0','lever_position_tel_1.36','lever_position_tel_6.24', 'lever_position_tel_9.6', 'income_deciles_1stD', 'income_deciles_10thD',\n",
    "    'income_deciles_1stD_and_lever_position_tel_1', 'income_deciles_10thD_and_lever_position_tel_1', \n",
    "    'income_deciles_10thD_and_lever_position_tel_6.24', 'income_deciles_1stD_and_lever_position_tel_6.24']\n",
    "fe_var = 'IDMerged'\n",
    "cluster_var = 'IDMerged'\n",
    "\n",
    "results = mt.reg(\n",
    "    sf_tel_car,             # DataFrame\n",
    "    y,                      # Dependent var (string)\n",
    "    X,                      # Independent var(s) (string or list of strings)\n",
    "    fe_name=fe_var,         # Fixed-effects/absorb var (string)\n",
    "    cluster=cluster_var     # Cluster var (string)\n",
    ")\n",
    "print(results)"
   ]
  },
  {
   "cell_type": "code",
   "execution_count": 145,
   "id": "21d02ba3",
   "metadata": {},
   "outputs": [
    {
     "name": "stderr",
     "output_type": "stream",
     "text": [
      "C:\\Users\\nrezaei\\anaconda3\\envs\\BEAM-CORE\\lib\\site-packages\\econtools\\util\\gentools.py:20: FutureWarning: Explicitly passing `name=None` currently preserves the Series' name or uses a default name of 0. This behaviour is deprecated, and in the future `None` will be used as the name of the resulting DataFrame column.\n",
      "  return s.to_frame(name)\n",
      "C:\\Users\\nrezaei\\anaconda3\\envs\\BEAM-CORE\\lib\\site-packages\\econtools\\util\\gentools.py:20: FutureWarning: Explicitly passing `name=None` currently preserves the Series' name or uses a default name of 0. This behaviour is deprecated, and in the future `None` will be used as the name of the resulting DataFrame column.\n",
      "  return s.to_frame(name)\n"
     ]
    },
    {
     "name": "stdout",
     "output_type": "stream",
     "text": [
      "=======================================================\n",
      "Dependent variable:\tdistance_travelling_mile\n",
      "N:\t\t\t2336321\n",
      "R-squared:\t\t0.6944\n",
      "Estimation method:\tOLS\n",
      "VCE method:\t\tCluster\n",
      "  Cluster variable:\t  IDMerged\n",
      "  No. of clusters:\t  206511\n",
      "Fixed effects by:\tIDMerged\n",
      "  No. of FE:\t\t  206511\n",
      "=======================================================\n",
      "                                                  coeff    se        t   p>t CI_low CI_high\n",
      "lever_position_tel_1.0                            2.262 0.017  134.230 0.000  2.229   2.295\n",
      "lever_position_tel_1.36                           1.304 0.012  108.179 0.000  1.281   1.328\n",
      "lever_position_tel_6.24                          -2.404 0.016 -146.171 0.000 -2.436  -2.371\n",
      "lever_position_tel_9.6                           -4.168 0.019 -214.678 0.000 -4.206  -4.130\n",
      "income_deciles_1stD                              -1.706 0.355   -4.812 0.000 -2.402  -1.011\n",
      "income_deciles_6thD                              -0.043 0.155   -0.276 0.782 -0.346   0.261\n",
      "income_deciles_10thD                             -1.379 0.282   -4.896 0.000 -1.932  -0.827\n",
      "income_deciles_1stD_and_lever_position_tel_1     -1.664 0.046  -36.254 0.000 -1.754  -1.574\n",
      "income_deciles_10thD_and_lever_position_tel_1     1.908 0.055   34.684 0.000  1.800   2.016\n",
      "income_deciles_10thD_and_lever_position_tel_6.24 -0.895 0.049  -18.354 0.000 -0.990  -0.799\n",
      "income_deciles_1stD_and_lever_position_tel_6.24   1.108 0.044   25.095 0.000  1.022   1.195\n",
      "=======================================================\n",
      "\n"
     ]
    }
   ],
   "source": [
    "y = 'distance_travelling_mile'\n",
    "X = ['lever_position_tel_1.0','lever_position_tel_1.36','lever_position_tel_6.24', 'lever_position_tel_9.6', \n",
    "     'income_deciles_1stD', 'income_deciles_6thD','income_deciles_10thD',\n",
    "    'income_deciles_1stD_and_lever_position_tel_1', 'income_deciles_10thD_and_lever_position_tel_1', \n",
    "    'income_deciles_10thD_and_lever_position_tel_6.24', 'income_deciles_1stD_and_lever_position_tel_6.24']\n",
    "fe_var = 'IDMerged'\n",
    "cluster_var = 'IDMerged'\n",
    "\n",
    "results = mt.reg(\n",
    "    sf_tel_car,             # DataFrame\n",
    "    y,                      # Dependent var (string)\n",
    "    X,                      # Independent var(s) (string or list of strings)\n",
    "    fe_name=fe_var,         # Fixed-effects/absorb var (string)\n",
    "    cluster=cluster_var     # Cluster var (string)\n",
    ")\n",
    "print(results)"
   ]
  },
  {
   "cell_type": "code",
   "execution_count": null,
   "id": "2e2b55cf",
   "metadata": {},
   "outputs": [],
   "source": []
  },
  {
   "cell_type": "code",
   "execution_count": null,
   "id": "798436b7",
   "metadata": {},
   "outputs": [],
   "source": []
  },
  {
   "cell_type": "code",
   "execution_count": null,
   "id": "cc0c0904",
   "metadata": {},
   "outputs": [],
   "source": []
  },
  {
   "cell_type": "code",
   "execution_count": null,
   "id": "d97b0877",
   "metadata": {},
   "outputs": [],
   "source": []
  },
  {
   "cell_type": "code",
   "execution_count": null,
   "id": "060732bc",
   "metadata": {},
   "outputs": [],
   "source": []
  },
  {
   "cell_type": "code",
   "execution_count": null,
   "id": "1308391e",
   "metadata": {},
   "outputs": [],
   "source": []
  },
  {
   "cell_type": "code",
   "execution_count": null,
   "id": "2a9cdeac",
   "metadata": {},
   "outputs": [],
   "source": []
  },
  {
   "cell_type": "code",
   "execution_count": null,
   "id": "c0a6d885",
   "metadata": {},
   "outputs": [],
   "source": []
  },
  {
   "cell_type": "code",
   "execution_count": null,
   "id": "05a5b9ab",
   "metadata": {},
   "outputs": [],
   "source": [
    "# selecting only the rows where their baseline purpose is work to home, home to work, or work to work\n",
    "desired_purposes = [\"work_to_Home\", \"Home_to_work\", \"work_to_work\"]\n",
    "\n",
    "baseline = sf_stacked_cle[sf_stacked_cle['lever_position_tel'] == 1]\n",
    "baseline_work_home = baseline[baseline['actPurpose'].isin(desired_purposes)]\n",
    "\n",
    "persons = sf_stacked_cle.loc[\n",
    "    sf_stacked_cle[['IDMerged']].isin(baseline_work_home[['IDMerged']]).all(axis=1),\n",
    "    ['IDMerged']\n",
    "]\n",
    "\n",
    "sf_stacked_base_work_home = sf_stacked_cle.merge(persons_trips, on=['IDMerged'], how='inner')"
   ]
  },
  {
   "cell_type": "code",
   "execution_count": null,
   "id": "699ce89b",
   "metadata": {},
   "outputs": [],
   "source": [
    "sf_stacked_work_home = sf_stacked_base_work_home[sf_stacked_base_work_home['actPurpose'].isin(desired_purposes)]"
   ]
  },
  {
   "cell_type": "code",
   "execution_count": null,
   "id": "b5568bb1",
   "metadata": {},
   "outputs": [],
   "source": [
    "# Create dummy variables for the 'lever' column\n",
    "dummy_vars = pd.get_dummies(sf_stacked_work_home['lever_position_tel'], prefix='lever')"
   ]
  },
  {
   "cell_type": "code",
   "execution_count": null,
   "id": "c7fd0b57",
   "metadata": {},
   "outputs": [],
   "source": [
    "# Concatenate the dummy variables with the original DataFrame\n",
    "sf_stacked_work_home_reg = pd.concat([sf_stacked_work_home, dummy_vars], axis=1)"
   ]
  },
  {
   "cell_type": "code",
   "execution_count": null,
   "id": "a71237c2",
   "metadata": {},
   "outputs": [],
   "source": [
    "# Perform one-hot encoding on 'income_deciles'\n",
    "income_quartiles_encoded = pd.get_dummies(sf_stacked_work_home_reg['income_quartiles'], prefix='income_quartile')\n",
    "\n",
    "# Concatenate the encoded variables with the original DataFrame\n",
    "sf_stacked_work_home_reg = pd.concat([sf_stacked_work_home_reg, income_quartiles_encoded], axis=1)"
   ]
  },
  {
   "cell_type": "code",
   "execution_count": null,
   "id": "aea97bd3",
   "metadata": {},
   "outputs": [],
   "source": [
    "sf_stacked_work_home_reg.columns = sf_stacked_work_home_reg.columns.str.replace('.', '_')"
   ]
  },
  {
   "cell_type": "code",
   "execution_count": null,
   "id": "90d65e86",
   "metadata": {},
   "outputs": [],
   "source": [
    "#formula = 'Potential_INEXUS_in_dollar_2023 ~ lever_1_0 + lever_1_36 + lever_1_76 + lever_2_56 + lever_4_32 + lever_6_24 + lever_9_6 + lever_1_0:income_quartile_4thD + lever_1_36:income_quartile_4thD + lever_1_76:income_quartile_4thD + lever_2_56:income_quartile_4thD + lever_4_32:income_quartile_4thD + lever_6_24:income_quartile_4thD + lever_9_6:income_quartile_4thD + lever_1_0:income_quartile_1stQ + lever_1_36:income_quartile_1stQ + lever_1_76:income_quartile_1stQ + lever_2_56:income_quartile_1stQ + lever_4_32:income_quartile_1stQ + lever_6_24:income_quartile_1stQ + lever_9_6:income_quartile_1stQ + duration_travelling + C(IDMerged)'"
   ]
  },
  {
   "cell_type": "code",
   "execution_count": null,
   "id": "6cbaca61",
   "metadata": {},
   "outputs": [],
   "source": [
    "# Define the formula for regression analysis\n",
    "formula = 'Potential_INEXUS_in_dollar_2023 ~  lever_1_0 + lever_2_56 + lever_9_6 + income_quartile_1stQ + income_quartile_4thD + lever_1_0:income_quartile_1stQ+ lever_1_0:income_quartile_4thD + lever_2_56:income_quartile_1stQ + lever_2_56:income_quartile_4thD + lever_9_6:income_quartile_1stQ + lever_9_6:income_quartile_4thD + duration_travelling + C(IDMerged)'\n",
    "# Fit the regression model with fixed effects and clustered standard errors\n",
    "model = sm.formula.ols(formula=formula, data=sf_stacked_work_home_reg).fit(cov_type='cluster', cov_kwds={'groups': sf_stacked_work_home_reg['IDMerged']})\n",
    "\n",
    "# Print the summary of the regression model\n",
    "print(model.summary())"
   ]
  },
  {
   "cell_type": "code",
   "execution_count": null,
   "id": "70855e04",
   "metadata": {},
   "outputs": [],
   "source": [
    "# Define the formula for regression analysis\n",
    "formula = 'Potential_INEXUS_in_dollar_2023 + duration_travelling + distance_travelling ~ lever_position_tel + income_decile_10thD + income_decile_1stD + income_decile_2ndD+income_decile_3rdD+income_decile_4thD+income_decile_5thD+income_decile_6thD+income_decile_7thD+income_decile_8thD+income_decile_9thD + lever_position_tel:income_decile_9thD + IDMerged'\n",
    "\n",
    "# Fit the regression model with fixed effects and clustered standard errors\n",
    "model = sm.formula.ols(formula=formula, data=sf_stacked_work_home_reg).fit(cov_type='cluster', cov_kwds={'groups': sf_stacked_work_home_reg['IDMerged']})\n",
    "\n",
    "# Print the summary of the regression model\n",
    "print(model.summary())"
   ]
  },
  {
   "cell_type": "code",
   "execution_count": null,
   "id": "43c0b4ac",
   "metadata": {},
   "outputs": [],
   "source": [
    "sf_stacked.groupby('lever_position_tel')['tripIndex'].count()"
   ]
  },
  {
   "cell_type": "code",
   "execution_count": null,
   "id": "745da2ce",
   "metadata": {},
   "outputs": [],
   "source": [
    "sf_stacked.groupby(['lever_position_tel', 'mode_choice_actual_BEAM'])['duration_travelling'].mean()"
   ]
  },
  {
   "cell_type": "code",
   "execution_count": null,
   "id": "3013a1c9",
   "metadata": {},
   "outputs": [],
   "source": [
    "import matplotlib.cm as cm\n",
    "\n",
    "# Define the number of 'telework' categories\n",
    "num_categories = len(sf_stacked['mode_choice_actual_BEAM'].unique())\n",
    "\n",
    "# Create the Turbo color palette\n",
    "colors = cm.get_cmap('tab20', num_categories)\n",
    "\n",
    "# Grouping the data and calculating the average duration of traveling\n",
    "grouped_data = sf_stacked.groupby(['lever_position_tel', 'telework'])['duration_travelling'].mean().unstack()\n",
    "\n",
    "# Creating the stacked bar plot\n",
    "fig, ax = plt.subplots(figsize=(10, 6))  # Adjust the figsize as per your preference\n",
    "grouped_data.plot(kind='bar', stacked=False, ax=ax,colormap=colors)\n",
    "\n",
    "# Adding labels and title\n",
    "plt.xlabel('Lever Position')\n",
    "plt.ylabel('Average Duration of Traveling')\n",
    "\n",
    "legend = plt.legend(title='Telework', bbox_to_anchor=(1.05, 1), loc='upper left')\n",
    "#plt.tight_layout()  # Adjust the layout to prevent overlapping\n",
    "\n",
    "plt.show()"
   ]
  },
  {
   "cell_type": "code",
   "execution_count": null,
   "id": "a901480a",
   "metadata": {},
   "outputs": [],
   "source": [
    "import matplotlib.cm as cm\n",
    "\n",
    "# Define the number of 'telework' categories\n",
    "num_categories = len(sf_stacked['mode_choice_actual_BEAM'].unique())\n",
    "\n",
    "# Create the Turbo color palette\n",
    "colors = cm.get_cmap('tab20', num_categories)\n",
    "\n",
    "# Grouping the data and calculating the average duration of traveling\n",
    "grouped_data = sf_stacked.loc[(sf_stacked['mode_choice_actual_BEAM'] == 'car')].groupby(['lever_position_tel', 'telework'])['distance_travelling'].mean().unstack()\n",
    "\n",
    "# Creating the stacked bar plot\n",
    "fig, ax = plt.subplots(figsize=(10, 6))  # Adjust the figsize as per your preference\n",
    "grouped_data.plot(kind='bar', stacked=False, ax=ax,colormap=colors)\n",
    "\n",
    "# Adding labels and title\n",
    "plt.xlabel('Lever Position')\n",
    "plt.ylabel('Average Distance of Traveling')\n",
    "\n",
    "legend = plt.legend(title='Telework', bbox_to_anchor=(1.05, 1), loc='upper left')\n",
    "#plt.tight_layout()  # Adjust the layout to prevent overlapping\n",
    "\n",
    "plt.show()"
   ]
  },
  {
   "cell_type": "code",
   "execution_count": null,
   "id": "895fc87e",
   "metadata": {},
   "outputs": [],
   "source": [
    "unique_values = set()  # Set to store unique values\n",
    "\n",
    "for cell in sf_stacked['vehicleIds']:\n",
    "    if isinstance(cell, str):  # Check if the cell is a string\n",
    "        values = [x.strip() for x in cell.split(\",\")]  # Split cell into individual values\n",
    "        for value in values:\n",
    "            if \"body\" not in value:\n",
    "                unique_values.add(value)  # Add unique values excluding those starting with \"body\"\n",
    "unique_count = len(unique_values)  # Count the unique values\n",
    "\n",
    "print(\"Number of unique values: \", unique_count)"
   ]
  },
  {
   "cell_type": "code",
   "execution_count": null,
   "id": "f70609c4",
   "metadata": {},
   "outputs": [],
   "source": [
    "# Convert float values in 'vehicleIds' column to strings\n",
    "sf_stacked['vehicleIds'] = sf_stacked['vehicleIds'].astype(str)\n",
    "\n",
    "# Group the data by the \"lever_position_tel\" column and count unique vehicles within each category\n",
    "grouped = sf_stacked.groupby('lever_position_tel')['vehicleIds'].apply(lambda x: ','.join(x)).reset_index()\n",
    "grouped['unique_vehicles'] = grouped['vehicleIds'].apply(lambda x: set([value for value in x.split(',') if \"body\" not in value]))\n",
    "\n",
    "# Print the unique vehicles for each category\n",
    "for index, row in grouped.iterrows():\n",
    "    #print(\"Category:\", row['lever_position_tel'])\n",
    "    #print(\"Unique vehicles:\", row['unique_vehicles'])\n",
    "    print(\"Number of unique vehicles:\", len(row['unique_vehicles']))\n",
    "    print()"
   ]
  },
  {
   "cell_type": "code",
   "execution_count": null,
   "id": "d9ef03ae",
   "metadata": {},
   "outputs": [],
   "source": [
    "# Convert float values in 'vehicleIds' column to strings\n",
    "sf_stacked['vehicleIds'] = sf_stacked['vehicleIds'].astype(str)\n",
    "\n",
    "# Group the data by the \"lever_position_tel\" column and count unique vehicles within each category\n",
    "grouped = sf_stacked.groupby('lever_position_tel')['vehicleIds'].apply(lambda x: len(set([value for sublist in x.str.split(',') for value in sublist if \"body\" not in value]))).reset_index()\n",
    "\n",
    "# Print the lever position and the number of unique vehicles\n",
    "for index, row in grouped.iterrows():\n",
    "    lever_position = row['lever_position_tel']\n",
    "    unique_vehicle_count = row['vehicleIds']\n",
    "    print(\"Lever Position:\", lever_position)\n",
    "    print(\"Number of unique vehicles:\", unique_vehicle_count)\n",
    "    print()"
   ]
  },
  {
   "cell_type": "code",
   "execution_count": null,
   "id": "939a5715",
   "metadata": {},
   "outputs": [],
   "source": [
    "only_car_rh = sf_stacked[(sf_stacked['mode_choice_actual_4']=='car')|(sf_stacked['mode_choice_actual_4']=='ride_hail')]"
   ]
  },
  {
   "cell_type": "code",
   "execution_count": null,
   "id": "cbfda32f",
   "metadata": {},
   "outputs": [],
   "source": [
    "# Convert float values in 'vehicleIds' column to strings\n",
    "only_car_rh['vehicleIds'] = only_car_rh['vehicleIds'].astype(str)\n",
    "\n",
    "# Group the data by the \"lever_position_tel\" column and count unique vehicles within each category\n",
    "grouped = only_car_rh.groupby('lever_position_tel')['vehicleIds'].apply(lambda x: len(set([value for sublist in x.str.split(',') for value in sublist if \"body\" not in value]))).reset_index()\n",
    "\n",
    "# Print the lever position and the number of unique vehicles\n",
    "for index, row in grouped.iterrows():\n",
    "    lever_position = row['lever_position_tel']\n",
    "    unique_vehicle_count = row['vehicleIds']\n",
    "    print(\"Lever Position:\", lever_position)\n",
    "    print(\"Number of unique vehicles:\", unique_vehicle_count)\n",
    "    print()"
   ]
  },
  {
   "cell_type": "code",
   "execution_count": null,
   "id": "b87eb1d1",
   "metadata": {},
   "outputs": [],
   "source": [
    "only_car_rh.groupby('lever_position_tel')['distance_travelling'].mean()"
   ]
  },
  {
   "cell_type": "code",
   "execution_count": null,
   "id": "7565a21e",
   "metadata": {},
   "outputs": [],
   "source": [
    "only_car_rh.groupby('lever_position_tel')['IDMerged'].nunique()"
   ]
  },
  {
   "cell_type": "code",
   "execution_count": null,
   "id": "c8d1e07c",
   "metadata": {},
   "outputs": [],
   "source": [
    "data_vmt_pmt = {'lever_position_tel': [1, 1.36, 1.76, 2.56, 4.32, 6.24, 9.6],\n",
    "         'vehicle_num': [426833, 421270, 418733, 415964, 411993, 403767, 394689],\n",
    "         'mean_distance': [12990.781365,12712.256761, 12584.385886,12481.229332,12269.650379,11883.148158,11473.185084],\n",
    "         'person_num': [522305,518478,516539,514432,511521,506283,498975]}"
   ]
  },
  {
   "cell_type": "code",
   "execution_count": null,
   "id": "17282fef",
   "metadata": {},
   "outputs": [],
   "source": [
    "data_vmt_pmt = pd.DataFrame(data_vmt_pmt)"
   ]
  },
  {
   "cell_type": "code",
   "execution_count": null,
   "id": "38804182",
   "metadata": {},
   "outputs": [],
   "source": [
    "data_vmt_pmt['vmt'] = data_vmt_pmt['vehicle_num'] * (data_vmt_pmt['mean_distance']*0.000621371)"
   ]
  },
  {
   "cell_type": "code",
   "execution_count": null,
   "id": "172bdb84",
   "metadata": {},
   "outputs": [],
   "source": [
    "data_vmt_pmt['pmt'] = data_vmt_pmt['person_num'] * (data_vmt_pmt['mean_distance']*0.000621371)"
   ]
  },
  {
   "cell_type": "code",
   "execution_count": null,
   "id": "2e0dea2f",
   "metadata": {},
   "outputs": [],
   "source": [
    "data_vmt_pmt"
   ]
  },
  {
   "cell_type": "code",
   "execution_count": null,
   "id": "7353a4a9",
   "metadata": {},
   "outputs": [],
   "source": [
    "sns.set(rc={'figure.figsize':(16,8)})\n",
    "sns.set_theme(style=\"whitegrid\")\n",
    "colors = ['#458AFC', '#F88947'] #'#CC3311','#009988', '#F4A582', '#BBCC33'\n",
    "ax = sns.lineplot(data = data_vmt_pmt, x = 'lever_position_tel', \n",
    "                  y = 'vmt', marker='o',\n",
    "                  markersize=20, ci=None, linewidth = 6, palette=colors)\n",
    "ax.set_xlabel('Telecommuting Scenario Multiplier', fontsize = 30)\n",
    "ax.set_ylabel('VMT', fontsize = 30)\n",
    "ax.yaxis.set_tick_params(labelsize = 20)\n",
    "ax.xaxis.set_tick_params(labelsize = 20)\n",
    "\n",
    "#plt.legend(labels = ['Not disabled', 'Disabled'],\n",
    "         #fontsize='small', fancybox=False, bbox_to_anchor=(1, 0.5), ncol=1, frameon=True, loc = 'best', prop={'size': 40})"
   ]
  },
  {
   "cell_type": "code",
   "execution_count": null,
   "id": "0088deb4",
   "metadata": {},
   "outputs": [],
   "source": [
    "sns.set(rc={'figure.figsize':(16,8)})\n",
    "sns.set_theme(style=\"whitegrid\")\n",
    "colors = ['#CC3311'] #'#CC3311','#009988', '#F4A582', '#BBCC33'\n",
    "ax = sns.lineplot(data = data_vmt_pmt, x = 'lever_position_tel', \n",
    "                  y = 'pmt', marker='o',\n",
    "                  markersize=20, ci=None, linewidth = 6, color=colors[0])\n",
    "ax.set_xlabel('Telecommuting Scenario Multiplier', fontsize = 30)\n",
    "ax.set_ylabel('PMT', fontsize = 30)\n",
    "ax.yaxis.set_tick_params(labelsize = 20)\n",
    "ax.xaxis.set_tick_params(labelsize = 20)\n",
    "\n",
    "#plt.legend(labels = ['Not disabled', 'Disabled'],\n",
    "         #fontsize='small', fancybox=False, bbox_to_anchor=(1, 0.5), ncol=1, frameon=True, loc = 'best', prop={'size': 40})"
   ]
  },
  {
   "cell_type": "code",
   "execution_count": null,
   "id": "3b0d8b3e",
   "metadata": {},
   "outputs": [],
   "source": []
  },
  {
   "cell_type": "code",
   "execution_count": null,
   "id": "3b256b86",
   "metadata": {},
   "outputs": [],
   "source": [
    "import matplotlib.cm as cm\n",
    "\n",
    "# Define the number of 'telework' categories\n",
    "num_categories = len(sf_stacked['mode_choice_actual_BEAM'].unique())\n",
    "\n",
    "# Create the Turbo color palette\n",
    "colors = cm.get_cmap('tab20', num_categories)\n",
    "\n",
    "# Grouping the data and calculating the average duration of traveling\n",
    "grouped_data = sf_stacked.loc[(sf_stacked['mode_choice_actual_BEAM'] == 'ride_hail')|\n",
    "                             (sf_stacked['mode_choice_actual_BEAM'] == 'ride_hail_pooled')].groupby(['lever_position_tel', 'telework'])['duration_travelling'].mean().unstack()\n",
    "\n",
    "# Creating the stacked bar plot\n",
    "fig, ax = plt.subplots(figsize=(10, 6))  # Adjust the figsize as per your preference\n",
    "grouped_data.plot(kind='bar', stacked=False, ax=ax,colormap=colors)\n",
    "\n",
    "# Adding labels and title\n",
    "plt.xlabel('Lever Position')\n",
    "plt.ylabel('Average Duration of Traveling')\n",
    "\n",
    "legend = plt.legend(title='Telework', bbox_to_anchor=(1.05, 1), loc='upper left')\n",
    "#plt.tight_layout()  # Adjust the layout to prevent overlapping\n",
    "\n",
    "plt.show()"
   ]
  },
  {
   "cell_type": "code",
   "execution_count": null,
   "id": "7fb37237",
   "metadata": {},
   "outputs": [],
   "source": [
    "import matplotlib.cm as cm\n",
    "\n",
    "# Define the number of 'telework' categories\n",
    "num_categories = len(sf_stacked['mode_choice_actual_BEAM'].unique())\n",
    "\n",
    "# Create the Turbo color palette\n",
    "colors = cm.get_cmap('tab20', num_categories)\n",
    "\n",
    "# Grouping the data and calculating the average duration of traveling\n",
    "grouped_data = sf_stacked.groupby('lever_position_tel')['duration_travelling'].mean()\n",
    "\n",
    "# Creating the stacked bar plot\n",
    "fig, ax = plt.subplots(figsize=(10, 6))  # Adjust the figsize as per your preference\n",
    "grouped_data.plot(kind='bar', stacked=False, ax=ax,colormap=colors)\n",
    "\n",
    "# Adding labels and title\n",
    "plt.xlabel('Lever Position')\n",
    "plt.ylabel('Average Duration of Traveling')\n",
    "\n",
    "#legend = plt.legend(title='Telework', bbox_to_anchor=(1.05, 1), loc='upper left')\n",
    "#plt.tight_layout()  # Adjust the layout to prevent overlapping\n",
    "\n",
    "plt.show()"
   ]
  },
  {
   "cell_type": "code",
   "execution_count": null,
   "id": "4dfa663a",
   "metadata": {},
   "outputs": [],
   "source": [
    "import matplotlib.cm as cm\n",
    "\n",
    "# Define the number of 'telework' categories\n",
    "num_categories = len(test4['lever_position_tel'].unique())\n",
    "\n",
    "# Create the Turbo color palette\n",
    "colors = cm.get_cmap('tab20', num_categories)\n",
    "\n",
    "# Grouping the data and calculating the average duration of traveling\n",
    "grouped_data = test4.groupby(['lever_position_tel', 'telework'])['duration_travelling'].sum().unstack()\n",
    "\n",
    "# Creating the stacked bar plot\n",
    "fig, ax = plt.subplots(figsize=(10, 6))  # Adjust the figsize as per your preference\n",
    "grouped_data.plot(kind='bar', stacked=True, ax=ax,colormap=colors)\n",
    "\n",
    "# Adding labels and title\n",
    "plt.xlabel('Lever Positions')\n",
    "plt.ylabel('Total Duration of Traveling')\n",
    "\n",
    "legend = plt.legend(title='Telework', bbox_to_anchor=(1.05, 1), loc='upper left')\n",
    "#plt.tight_layout()  # Adjust the layout to prevent overlapping\n",
    "\n",
    "plt.show()"
   ]
  },
  {
   "cell_type": "code",
   "execution_count": null,
   "id": "ec4637d0",
   "metadata": {},
   "outputs": [],
   "source": [
    "import matplotlib.cm as cm\n",
    "\n",
    "# Define the number of 'telework' categories\n",
    "num_categories = len(test4['lever_position_tel'].unique())\n",
    "\n",
    "# Create the Turbo color palette\n",
    "colors = cm.get_cmap('tab20b', num_categories)\n",
    "\n",
    "# Grouping the data and calculating the average duration of traveling\n",
    "grouped_data = test4.groupby(['lever_position_tel', 'telework'])['distance_travelling'].sum().unstack()\n",
    "\n",
    "# Creating the stacked bar plot\n",
    "fig, ax = plt.subplots(figsize=(10, 6))  # Adjust the figsize as per your preference\n",
    "grouped_data.plot(kind='bar', stacked=True, ax=ax,colormap=colors)\n",
    "\n",
    "# Adding labels and title\n",
    "plt.xlabel('Lever Positions')\n",
    "plt.ylabel('Total Distance of Traveling')\n",
    "\n",
    "legend = plt.legend(title='Telework', bbox_to_anchor=(1.05, 1), loc='upper left')\n",
    "#plt.tight_layout()  # Adjust the layout to prevent overlapping\n",
    "\n",
    "plt.show()"
   ]
  },
  {
   "cell_type": "code",
   "execution_count": null,
   "id": "c4c423e0",
   "metadata": {},
   "outputs": [],
   "source": [
    "import matplotlib.cm as cm\n",
    "\n",
    "# Define the number of 'telework' categories\n",
    "num_categories = len(test4['lever_position_tel'].unique())\n",
    "\n",
    "# Create the Turbo color palette\n",
    "colors = cm.get_cmap('tab20c', num_categories)\n",
    "\n",
    "# Grouping the data and calculating the average duration of traveling\n",
    "grouped_data = test4.groupby(['lever_position_tel', 'telework'])['fuel_marginal'].sum().unstack()\n",
    "\n",
    "# Creating the stacked bar plot\n",
    "fig, ax = plt.subplots(figsize=(10, 6))  # Adjust the figsize as per your preference\n",
    "grouped_data.plot(kind='bar', stacked=True, ax=ax,colormap=colors)\n",
    "\n",
    "# Adding labels and title\n",
    "plt.xlabel('Lever Positions')\n",
    "plt.ylabel('Total Marginal Fuel Consumption')\n",
    "\n",
    "legend = plt.legend(title='Telework', bbox_to_anchor=(1.05, 1), loc='upper left')\n",
    "#plt.tight_layout()  # Adjust the layout to prevent overlapping\n",
    "\n",
    "plt.show()"
   ]
  },
  {
   "cell_type": "code",
   "execution_count": null,
   "id": "8769a3dd",
   "metadata": {},
   "outputs": [],
   "source": [
    "import matplotlib.cm as cm\n",
    "\n",
    "# Define the number of 'telework' categories\n",
    "num_categories = len(test4['mode_choice_actual_BEAM'].unique())\n",
    "\n",
    "# Create the Turbo color palette\n",
    "colors = cm.get_cmap('turbo', num_categories)\n",
    "\n",
    "# Grouping the data and calculating the average duration of traveling\n",
    "grouped_data = test4.groupby(['lever_position_tel', 'mode_choice_actual_BEAM'])['duration_travelling'].sum().unstack()\n",
    "\n",
    "# Creating the stacked bar plot\n",
    "fig, ax = plt.subplots(figsize=(10, 6))  # Adjust the figsize as per your preference\n",
    "grouped_data.plot(kind='bar', stacked=True, ax=ax,colormap=colors)\n",
    "\n",
    "# Adding labels and title\n",
    "plt.xlabel('Lever Positions')\n",
    "plt.ylabel('Total Travel Time')\n",
    "\n",
    "legend = plt.legend(title='Mode Choice', bbox_to_anchor=(1.05, 1), loc='upper left')\n",
    "#plt.tight_layout()  # Adjust the layout to prevent overlapping\n",
    "\n",
    "plt.show()"
   ]
  },
  {
   "cell_type": "code",
   "execution_count": null,
   "id": "a8787df6",
   "metadata": {},
   "outputs": [],
   "source": [
    "inc_h_l = test4[(test4['income_deciles'] == '10thD')|(test4['income_deciles'] == '1stD')]"
   ]
  },
  {
   "cell_type": "code",
   "execution_count": null,
   "id": "aacd9191",
   "metadata": {},
   "outputs": [],
   "source": [
    "import matplotlib.cm as cm\n",
    "\n",
    "# Define the number of 'telework' categories\n",
    "num_categories = len(inc_h_l['income_deciles'].unique())\n",
    "\n",
    "# Create the Turbo color palette\n",
    "colors = cm.get_cmap('turbo', num_categories)\n",
    "\n",
    "# Grouping the data and calculating the average duration of traveling\n",
    "grouped_data = inc_h_l.groupby(['lever_position_tel', 'income_deciles'])['duration_travelling'].sum().unstack()\n",
    "\n",
    "# Creating the stacked bar plot\n",
    "fig, ax = plt.subplots(figsize=(10, 6))  # Adjust the figsize as per your preference\n",
    "grouped_data.plot(kind='bar', stacked=True, ax=ax,colormap=colors)\n",
    "\n",
    "# Adding labels and title\n",
    "plt.xlabel('Lever Positions')\n",
    "plt.ylabel('Total Travel Time')\n",
    "\n",
    "legend = plt.legend(title='Income', bbox_to_anchor=(1.05, 1), loc='upper left')\n",
    "#plt.tight_layout()  # Adjust the layout to prevent overlapping\n",
    "\n",
    "plt.show()"
   ]
  },
  {
   "cell_type": "code",
   "execution_count": null,
   "id": "e9947163",
   "metadata": {},
   "outputs": [],
   "source": [
    "sf_stacked['mand_non_mand'] = np.where((sf_stacked['mandatoryCat'] == \"from_H_to_M\")|\n",
    "                                       (sf_stacked['mandatoryCat'] == \"from_M_to_H\")|\n",
    "                                       (sf_stacked['mandatoryCat'] == \"from_M_to_M\"), 'mand', 'non_mand')"
   ]
  },
  {
   "cell_type": "code",
   "execution_count": null,
   "id": "1bcdd7cd",
   "metadata": {},
   "outputs": [],
   "source": [
    "import matplotlib.cm as cm\n",
    "\n",
    "# Define the number of 'telework' categories\n",
    "num_categories = len(sf_stacked['mand_non_mand'].unique())\n",
    "\n",
    "# Create the Turbo color palette\n",
    "colors = cm.get_cmap('turbo', num_categories)\n",
    "\n",
    "# Grouping the data and calculating the average duration of traveling\n",
    "grouped_data = sf_stacked.loc[sf_stacked['mode_choice_actual_4']=='car'].groupby(['lever_position_tel', 'mand_non_mand'])['duration_travelling'].mean().unstack()\n",
    "\n",
    "# Creating the stacked bar plot\n",
    "fig, ax = plt.subplots(figsize=(10, 6))  # Adjust the figsize as per your preference\n",
    "grouped_data.plot(kind='bar', stacked=False, ax=ax,colormap=colors)\n",
    "\n",
    "# Adding labels and title\n",
    "plt.xlabel('Lever Positions')\n",
    "plt.ylabel('Sum Travel Time')\n",
    "\n",
    "legend = plt.legend(title='Trip Type', bbox_to_anchor=(1.05, 1), loc='upper left')\n",
    "#plt.tight_layout()  # Adjust the layout to prevent overlapping\n",
    "\n",
    "plt.show()"
   ]
  },
  {
   "cell_type": "code",
   "execution_count": null,
   "id": "3cc1ac03",
   "metadata": {},
   "outputs": [],
   "source": [
    "import matplotlib.cm as cm\n",
    "\n",
    "# Define the number of 'telework' categories\n",
    "num_categories = len(test4['income_deciles'].unique())\n",
    "\n",
    "# Create the Turbo color palette\n",
    "colors = cm.get_cmap('turbo', num_categories)\n",
    "\n",
    "# Grouping the data and calculating the average duration of traveling\n",
    "grouped_data = test4.groupby(['lever_position_tel', 'income_deciles'])['duration_travelling'].sum().unstack()\n",
    "\n",
    "# Creating the stacked bar plot\n",
    "fig, ax = plt.subplots(figsize=(10, 6))  # Adjust the figsize as per your preference\n",
    "grouped_data.plot(kind='bar', stacked=True, ax=ax,colormap=colors)\n",
    "\n",
    "# Adding labels and title\n",
    "plt.xlabel('Lever Positions')\n",
    "plt.ylabel('Total Travel Time')\n",
    "\n",
    "legend = plt.legend(title='Income', bbox_to_anchor=(1.05, 1), loc='upper left')\n",
    "#plt.tight_layout()  # Adjust the layout to prevent overlapping\n",
    "\n",
    "plt.show()"
   ]
  },
  {
   "cell_type": "code",
   "execution_count": null,
   "id": "4847424a",
   "metadata": {},
   "outputs": [],
   "source": [
    "import matplotlib.cm as cm\n",
    "\n",
    "# Define the number of 'telework' categories\n",
    "num_categories = len(test4['actPurpose'].unique())\n",
    "\n",
    "# Create the Turbo color palette\n",
    "colors = cm.get_cmap('turbo', num_categories)\n",
    "\n",
    "# Grouping the data and calculating the average duration of traveling\n",
    "grouped_data = test4.groupby(['lever_position_tel', 'actPurpose'])['duration_travelling'].sum().unstack()\n",
    "\n",
    "# Creating the stacked bar plot\n",
    "fig, ax = plt.subplots(figsize=(10, 6))  # Adjust the figsize as per your preference\n",
    "grouped_data.plot(kind='bar', stacked=True, ax=ax,colormap=colors)\n",
    "\n",
    "# Adding labels and title\n",
    "plt.xlabel('Lever Positions')\n",
    "plt.ylabel('Total Travel Time')\n",
    "\n",
    "legend = plt.legend(title='Trip Purpose', bbox_to_anchor=(1.05, 1), loc='upper left')\n",
    "#plt.tight_layout()  # Adjust the layout to prevent overlapping\n",
    "\n",
    "plt.show()"
   ]
  },
  {
   "cell_type": "code",
   "execution_count": null,
   "id": "1931d494",
   "metadata": {},
   "outputs": [],
   "source": [
    "grouped_data = test4.groupby(['telework','lever_position_tel', 'actPurpose']).size().unstack()"
   ]
  },
  {
   "cell_type": "code",
   "execution_count": null,
   "id": "9db76bba",
   "metadata": {},
   "outputs": [],
   "source": [
    "grouped_data_mode = test4.groupby(['telework','lever_position_tel', 'actPurpose','mode_choice_actual_BEAM']).size().unstack()"
   ]
  },
  {
   "cell_type": "code",
   "execution_count": null,
   "id": "d7fb0907",
   "metadata": {},
   "outputs": [],
   "source": [
    "test4.groupby('lever_position_tel')['tripIndex'].count()"
   ]
  },
  {
   "cell_type": "code",
   "execution_count": null,
   "id": "0dbc8b93",
   "metadata": {},
   "outputs": [],
   "source": [
    "test4.groupby(['lever_position_tel','telework'])['tripIndex'].count()"
   ]
  },
  {
   "cell_type": "code",
   "execution_count": null,
   "id": "9a9f0455",
   "metadata": {},
   "outputs": [],
   "source": [
    "test4.groupby(['lever_position_tel', 'mode_choice_actual_BEAM'])['tripIndex'].count()"
   ]
  },
  {
   "cell_type": "code",
   "execution_count": null,
   "id": "a0e5e62b",
   "metadata": {},
   "outputs": [],
   "source": [
    "grouped_data"
   ]
  },
  {
   "cell_type": "code",
   "execution_count": null,
   "id": "9bad4af4",
   "metadata": {},
   "outputs": [],
   "source": [
    "grouped_data_mode"
   ]
  },
  {
   "cell_type": "code",
   "execution_count": null,
   "id": "830fd480",
   "metadata": {},
   "outputs": [],
   "source": [
    "# Grouping the data and calculating the count of occurrences\n",
    "grouped_data = test4.groupby(['lever_position_tel', 'mode_choice_actual_BEAM', 'telework']).size().unstack()\n",
    "\n",
    "# Creating the grouped bar plot\n",
    "fig, ax = plt.subplots(figsize=(10, 6))  # Adjust the figsize as per your preference\n",
    "\n",
    "# Determine the number of lever positions and mode choices\n",
    "num_levers = len(test4['lever_position_tel'].unique())\n",
    "num_modes = len(test4['mode_choice_actual_BEAM'].unique())\n",
    "\n",
    "# Calculate the width for each bar\n",
    "total_width = 0.8\n",
    "width = total_width / 2\n",
    "bar_positions = np.arange(num_levers * num_modes)\n",
    "\n",
    "# Plotting the grouped bars\n",
    "bars_telework = ax.bar(bar_positions, grouped_data[True], width, label='Telework', color='tab:blue')\n",
    "bars_not_telework = ax.bar(bar_positions + width, grouped_data[False], width, label='Not Telework', color='tab:orange')\n",
    "\n",
    "# Adding labels and title\n",
    "plt.xlabel('Lever Positions and Mode Choices')\n",
    "plt.ylabel('Count')\n",
    "plt.title('Counts of Telework Scenario Rates, Mode Choices, and Teleworking Status')\n",
    "\n",
    "# Adjusting the x-axis ticks and labels\n",
    "ax.set_xticks(bar_positions + (total_width / 2))\n",
    "ax.set_xticklabels(grouped_data.index, rotation=90)\n",
    "\n",
    "# Adding a legend\n",
    "plt.legend(title='Telework Status')\n",
    "\n",
    "plt.tight_layout()\n",
    "plt.show()"
   ]
  },
  {
   "cell_type": "markdown",
   "id": "cad9cbde",
   "metadata": {
    "heading_collapsed": true
   },
   "source": [
    "#### INEXUS"
   ]
  },
  {
   "cell_type": "code",
   "execution_count": null,
   "id": "3f141927",
   "metadata": {
    "hidden": true
   },
   "outputs": [],
   "source": [
    "plot_inc = sf_stacked[(sf_stacked['duration_walking'] < 3600)&(sf_stacked['distance_walking'] < 5000)]"
   ]
  },
  {
   "cell_type": "code",
   "execution_count": null,
   "id": "5a118151",
   "metadata": {
    "hidden": true
   },
   "outputs": [],
   "source": [
    "from matplotlib.ticker import FuncFormatter\n",
    "sns.set(rc={'figure.figsize':(20,14)}) # same mode cleaned data\n",
    "sns.set_context('talk')\n",
    "sns.set_style(\"whitegrid\", {'gridcolor': 'grainsboro'})\n",
    "grid = sns.FacetGrid(plot_inc.loc[(plot_inc['income_deciles'] == '1stD')|\n",
    "                                    (plot_inc['income_deciles'] == '10thD')], \n",
    "                     row = 'income_deciles', col_order=['10thD', '1stD'],\n",
    "                     hue='lever_position_tel', height=5, aspect=1.5, palette = \"rocket_r\", legend_out=True )\n",
    "grid.map(sns.kdeplot, 'Potential_INEXUS_in_dollar_2023', bw_adjust =7, linewidth = 1.5)\n",
    "#grid.set(xlim=(14, sf_stacked_rh_price['Realized_INEXUS_in_dollar'].max()), ylim=(0,0.06))\n",
    "#grid.add_legend()\n",
    "\n",
    "# Define function to format y-axis labels as percentages\n",
    "def to_percent(y, position):\n",
    "    return \"{:.1f}%\".format(y * 100)\n",
    "\n",
    "for ax, title in zip(grid.axes.flat, ['Lowest 10% Income','Highest 10% Income']):\n",
    "    ax.set_title(title)\n",
    "\n",
    "grid.set(xlim=(-30,30))\n",
    "\n",
    "# Format y-axis labels as percentages\n",
    "formatter = FuncFormatter(to_percent)\n",
    "ax.yaxis.set_major_formatter(formatter)\n",
    "\n",
    "plt.legend(title=\"Ridehail Scenarios\", labels = ['Baseline', '136% Telework Trips', '176% Telework Trips','256% Telework Trips','432% Telework Trips',\n",
    "                     '624% Telework Trips','960% Telework Trips'],\n",
    "         fontsize='small', fancybox=False, bbox_to_anchor=(1.8, 0.8), ncol=1, frameon=True, loc = 'right', prop={'size': 18})\n",
    "grid.set_ylabels('Density', size=18)\n",
    "grid.set_xlabels('Potential INEXUS ($)', size=18)\n",
    "ax.yaxis.set_tick_params(labelsize = 18)\n",
    "ax.xaxis.set_tick_params(labelsize = 18)\n",
    "# Squash down a little and add title to facetgrid    \n",
    "plt.subplots_adjust(top=1.1)\n",
    "#grid.fig.suptitle('Realized INEXUS in dollar across income levels in different lever positions')\n",
    "#plt.savefig('potential_income_2023.svg', dpi = 300, bbox_extra_artists=(ax.legend(['0% Price', '12.5% Price', '25% Price','50% Price','Baseline','175% Price','300% Price', '500% Price','800% Price'], bbox_to_anchor=(1.4, 0.7), ncol=1, frameon=True, loc = 'right', fontsize=18),), bbox_inches='tight')\n",
    "#plt.savefig('potential_income_2023.png', dpi = 300, bbox_extra_artists=(ax.legend(['0% Price', '12.5% Price', '25% Price','50% Price','Baseline','175% Price','300% Price', '500% Price','800% Price'], bbox_to_anchor=(1.4, 0.7), ncol=1, frameon=True, loc = 'right', fontsize=18),), bbox_inches='tight')"
   ]
  },
  {
   "cell_type": "code",
   "execution_count": null,
   "id": "9731bb30",
   "metadata": {
    "hidden": true
   },
   "outputs": [],
   "source": [
    "sf_stacked['socialCarbonCost'] = sf_stacked['emission_marginal']*185 # 51 or 102"
   ]
  },
  {
   "cell_type": "code",
   "execution_count": null,
   "id": "bfb96094",
   "metadata": {
    "hidden": true
   },
   "outputs": [],
   "source": [
    "sf_stacked[\"mode_actual_baseline\"] = np.where(sf_stacked['lever_position_tel']==1, sf_stacked[\"mode_choice_actual_BEAM\"], None)"
   ]
  },
  {
   "cell_type": "code",
   "execution_count": null,
   "id": "2eb6a108",
   "metadata": {
    "hidden": true
   },
   "outputs": [],
   "source": [
    "sf_stacked[\"mode_actual_baseline\"] = sf_stacked.groupby(['IDMerged','tripIndex'])['mode_actual_baseline'].transform(lambda x: x.ffill().bfill())"
   ]
  },
  {
   "cell_type": "code",
   "execution_count": null,
   "id": "0ec8c4cc",
   "metadata": {
    "hidden": true
   },
   "outputs": [],
   "source": [
    "same_mode_actual = sf_stacked[sf_stacked['mode_actual_baseline'] == sf_stacked['mode_choice_actual_BEAM']]"
   ]
  },
  {
   "cell_type": "code",
   "execution_count": null,
   "id": "5eb0b0a6",
   "metadata": {
    "hidden": true
   },
   "outputs": [],
   "source": [
    "only_non_tel = same_mode_actual[same_mode_actual['telework'] == False]"
   ]
  },
  {
   "cell_type": "code",
   "execution_count": null,
   "id": "29849be7",
   "metadata": {
    "hidden": true
   },
   "outputs": [],
   "source": [
    "only_tel = same_mode_actual[same_mode_actual['telework'] == True]"
   ]
  },
  {
   "cell_type": "code",
   "execution_count": null,
   "id": "ec69462e",
   "metadata": {
    "hidden": true
   },
   "outputs": [],
   "source": [
    "%%time\n",
    "sns.set(rc={'figure.figsize':(20,14)})\n",
    "sns.set_style(\"whitegrid\", {'gridcolor': 'grainsboro'})\n",
    "ax = sns.boxplot(x=\"potential_in_dollar_2023_relative_to_baseline\", y=\"mode_choice_actual_4\", order=[\"ride_hail\",\"car\",\"transit\",\"walk/bike\"], \n",
    "                 hue=\"lever_position_tel\", hue_order = [9.6, 6.24, 4.32, 2.56, 1.76, 1.36, 1],\n",
    "                 data=same_mode_actual, palette=\"rocket\", showfliers=False)\n",
    "ax.set_xlabel('Potential INEXUS in dollar relative to baseline', fontsize = 40)\n",
    "ax.set_ylabel('Mode', fontsize = 40)\n",
    "ax.xaxis.set_tick_params(labelsize = 28)\n",
    "ax.set_yticklabels(['Ridehail', 'Car','Transit','Walk/Bike'], size = 36)\n",
    "handles, _ = ax.get_legend_handles_labels()\n",
    "# Specify the order of the levels in the hue variable\n",
    "hue_order = ['960% Telework Trips',  '624% Telework Trips', '432% Telework Trips', '256% Telework Trips','176% Telework Trips', '136% Telework Trips', 'Baseline',]\n",
    "# Create a dictionary that maps the levels of the hue variable to the corresponding colors in the palette\n",
    "palette_dict = dict(zip(hue_order, sns.color_palette(\"rocket\", n_colors=len(hue_order))))\n",
    "# Create a new list of handles that corresponds to the order of the labels in the legend\n",
    "handles = [handles[hue_order.index(label)] for label in hue_order]\n",
    "# Use the new list of handles and the dictionary of colors to create the legend\n",
    "ax.legend(handles, hue_order, loc=\"upper left\", prop={'size': 36}, markerscale=3, fontsize=24, title_fontsize=30, bbox_to_anchor=(1, 1))\n",
    "#plt.savefig('box_sameMode_potential.svg', bbox_inches='tight', dpi=300)\n",
    "#plt.savefig('box_sameMode_potential.png', bbox_inches='tight', dpi = 300)"
   ]
  },
  {
   "cell_type": "code",
   "execution_count": null,
   "id": "8aba33e3",
   "metadata": {
    "hidden": true
   },
   "outputs": [],
   "source": [
    "%%time\n",
    "sns.set(rc={'figure.figsize':(20,14)})\n",
    "sns.set_style(\"whitegrid\", {'gridcolor': 'grainsboro'})\n",
    "ax = sns.boxplot(x=\"realized_in_dollar_2023_relative_to_baseline\", y=\"mode_choice_actual_4\", order=[\"ride_hail\",\"car\",\"transit\",\"walk/bike\"], \n",
    "                 hue=\"lever_position_tel\", hue_order = [9.6, 6.24, 4.32, 2.56, 1.76, 1.36, 1],\n",
    "                 data=same_mode_actual, palette=\"YlGn_r\", showfliers=False)\n",
    "ax.set_xlabel('Realized INEXUS in dollar relative to baseline', fontsize = 40)\n",
    "ax.set_ylabel('Mode', fontsize = 40)\n",
    "ax.xaxis.set_tick_params(labelsize = 28)\n",
    "ax.set_yticklabels(['Ridehail', 'Car','Transit','Walk/Bike'], size = 36)\n",
    "handles, _ = ax.get_legend_handles_labels()\n",
    "# Specify the order of the levels in the hue variable\n",
    "hue_order = ['960% Telework Trips',  '624% Telework Trips', '432% Telework Trips', '256% Telework Trips','176% Telework Trips', '136% Telework Trips', 'Baseline',]\n",
    "# Create a dictionary that maps the levels of the hue variable to the corresponding colors in the palette\n",
    "palette_dict = dict(zip(hue_order, sns.color_palette(\"rocket\", n_colors=len(hue_order))))\n",
    "# Create a new list of handles that corresponds to the order of the labels in the legend\n",
    "handles = [handles[hue_order.index(label)] for label in hue_order]\n",
    "# Use the new list of handles and the dictionary of colors to create the legend\n",
    "ax.legend(handles, hue_order, loc=\"upper left\", prop={'size': 36}, markerscale=3, fontsize=24, title_fontsize=30, bbox_to_anchor=(1, 1))\n",
    "#plt.savefig('box_sameMode_potential.svg', bbox_inches='tight', dpi=300)\n",
    "#plt.savefig('box_sameMode_potential.png', bbox_inches='tight', dpi = 300)"
   ]
  },
  {
   "cell_type": "code",
   "execution_count": null,
   "id": "e91a9515",
   "metadata": {
    "hidden": true
   },
   "outputs": [],
   "source": [
    "%%time\n",
    "sns.set(rc={'figure.figsize':(20,14)})\n",
    "sns.set_style(\"whitegrid\", {'gridcolor': 'grainsboro'})\n",
    "ax = sns.boxplot(x=\"realized_in_dollar_2023_relative_to_baseline\", y=\"mode_choice_actual_4\", order=[\"ride_hail\",\"car\",\"transit\",\"walk/bike\"], \n",
    "                 hue=\"lever_position_tel\", hue_order = [9.6, 6.24, 4.32, 2.56, 1.76, 1.36, 1],\n",
    "                 data=sf_stacked, palette=\"YlGn_r\", showfliers=False)\n",
    "ax.set_xlabel('Realized INEXUS in dollar relative to baseline', fontsize = 40)\n",
    "ax.set_ylabel('Mode', fontsize = 40)\n",
    "ax.xaxis.set_tick_params(labelsize = 28)\n",
    "ax.set_yticklabels(['Ridehail', 'Car','Transit','Walk/Bike'], size = 36)\n",
    "handles, _ = ax.get_legend_handles_labels()\n",
    "# Specify the order of the levels in the hue variable\n",
    "hue_order = ['960% Telework Trips',  '624% Telework Trips', '432% Telework Trips', '256% Telework Trips','176% Telework Trips', '136% Telework Trips', 'Baseline',]\n",
    "# Create a dictionary that maps the levels of the hue variable to the corresponding colors in the palette\n",
    "palette_dict = dict(zip(hue_order, sns.color_palette(\"rocket\", n_colors=len(hue_order))))\n",
    "# Create a new list of handles that corresponds to the order of the labels in the legend\n",
    "handles = [handles[hue_order.index(label)] for label in hue_order]\n",
    "# Use the new list of handles and the dictionary of colors to create the legend\n",
    "ax.legend(handles, hue_order, loc=\"upper left\", prop={'size': 36}, markerscale=3, fontsize=24, title_fontsize=30, bbox_to_anchor=(1, 1))\n",
    "#plt.savefig('box_sameMode_potential.svg', bbox_inches='tight', dpi=300)\n",
    "#plt.savefig('box_sameMode_potential.png', bbox_inches='tight', dpi = 300)"
   ]
  },
  {
   "cell_type": "code",
   "execution_count": null,
   "id": "d82d00b4",
   "metadata": {
    "hidden": true
   },
   "outputs": [],
   "source": [
    "%%time\n",
    "sns.set(rc={'figure.figsize':(20,14)})\n",
    "sns.set_style(\"whitegrid\", {'gridcolor': 'grainsboro'})\n",
    "ax = sns.boxplot(x=\"realized_in_dollar_2023_relative_to_baseline\", y=\"mode_choice_actual_4\", order=[\"ride_hail\",\"car\",\"transit\",\"walk/bike\"], \n",
    "                 hue=\"telework\",\n",
    "                 data=same_mode_actual, palette=\"YlGn_r\", showfliers=False)\n",
    "ax.set_xlabel('Realized INEXUS in dollar relative to baseline', fontsize = 40)\n",
    "ax.set_ylabel('Mode', fontsize = 40)\n",
    "ax.xaxis.set_tick_params(labelsize = 28)\n",
    "ax.set_yticklabels(['Ridehail', 'Car','Transit','Walk/Bike'], size = 36)\n",
    "handles, _ = ax.get_legend_handles_labels()\n",
    "# Specify the order of the levels in the hue variable\n",
    "#hue_order = ['960% Telework Trips',  '624% Telework Trips', '432% Telework Trips', '256% Telework Trips','176% Telework Trips', '136% Telework Trips', 'Baseline',]\n",
    "# Create a dictionary that maps the levels of the hue variable to the corresponding colors in the palette\n",
    "palette_dict = dict(zip(hue_order, sns.color_palette(\"rocket\", n_colors=len(hue_order))))\n",
    "# Create a new list of handles that corresponds to the order of the labels in the legend\n",
    "handles = [handles[hue_order.index(label)] for label in hue_order]\n",
    "# Use the new list of handles and the dictionary of colors to create the legend\n",
    "ax.legend(handles, hue_order, loc=\"upper left\", prop={'size': 36}, markerscale=3, fontsize=24, title_fontsize=30, bbox_to_anchor=(1, 1))\n",
    "#plt.savefig('box_sameMode_potential.svg', bbox_inches='tight', dpi=300)\n",
    "#plt.savefig('box_sameMode_potential.png', bbox_inches='tight', dpi = 300)"
   ]
  },
  {
   "cell_type": "markdown",
   "id": "c09c7ba3",
   "metadata": {
    "heading_collapsed": true
   },
   "source": [
    "#### Annika's plot"
   ]
  },
  {
   "cell_type": "code",
   "execution_count": null,
   "id": "ca8449bb",
   "metadata": {
    "hidden": true
   },
   "outputs": [],
   "source": [
    "small_stacked_rh = sf_stacked[['lever_position_tel','income_deciles','IDMerged','tripIndex',\n",
    "                                       'income', 'realized_in_dollar_2023_relative_to_baseline', \n",
    "                                       'Realized_INEXUS_in_dollar_2023', 'potential_in_dollar_2023_relative_to_baseline',\n",
    "                                       'Potential_INEXUS_in_dollar_2023', 'mode_choice_actual_4', 'duration_door_to_door',\n",
    "                                       'waitTime_no_replanning','waitTime_replanning', 'mode_choice_planned_BEAM',\n",
    "                                       'mode_choice_actual_BEAM','mode_actual_baseline']]"
   ]
  },
  {
   "cell_type": "code",
   "execution_count": null,
   "id": "740dc02a",
   "metadata": {
    "hidden": true
   },
   "outputs": [],
   "source": [
    "small_stacked_rh['incomeInThousands'] = small_stacked_rh['income']/1000"
   ]
  },
  {
   "cell_type": "code",
   "execution_count": null,
   "id": "b8108406",
   "metadata": {
    "hidden": true
   },
   "outputs": [],
   "source": [
    "person_income = pd.pivot_table(\n",
    "   small_stacked_rh,\n",
    "   index=['IDMerged'],\n",
    "   aggfunc={'incomeInThousands': lambda x: ', '.join(set(x.dropna().astype(str)))}).reset_index() "
   ]
  },
  {
   "cell_type": "code",
   "execution_count": null,
   "id": "cbe02ed8",
   "metadata": {
    "hidden": true
   },
   "outputs": [],
   "source": [
    "person_income['incomeInThousands'] = person_income['incomeInThousands'].astype(float)"
   ]
  },
  {
   "cell_type": "code",
   "execution_count": null,
   "id": "0009b52b",
   "metadata": {
    "hidden": true
   },
   "outputs": [],
   "source": [
    "# Add a column of income ranks\n",
    "twenty_one_ranks = person_income['incomeInThousands'].quantile([0, 0.048, 0.095, 0.143, 0.191, 0.239, 0.287, 0.335, 0.383, 0.431, 0.479,\n",
    "                                                                0.527, 0.575, 0.623, 0.671, 0.719, 0.767, 0.815, 0.863, 0.911, 0.959,\n",
    "                                                                1]).tolist()"
   ]
  },
  {
   "cell_type": "code",
   "execution_count": null,
   "id": "78ed3a7b",
   "metadata": {
    "hidden": true
   },
   "outputs": [],
   "source": [
    "# Add incomeInThousands twenty_one_ranks\n",
    "conditions  = [(person_income['incomeInThousands'] >= twenty_one_ranks[0]) & (person_income['incomeInThousands'] < twenty_one_ranks[1]), \n",
    "               (person_income['incomeInThousands'] >= twenty_one_ranks[1]) & (person_income['incomeInThousands'] < twenty_one_ranks[2]),\n",
    "               (person_income['incomeInThousands'] >=  twenty_one_ranks[2]) & (person_income['incomeInThousands'] < twenty_one_ranks[3]),\n",
    "               (person_income['incomeInThousands'] >= twenty_one_ranks[3]) & (person_income['incomeInThousands'] < twenty_one_ranks[4]), \n",
    "               (person_income['incomeInThousands'] >=  twenty_one_ranks[4]) & (person_income['incomeInThousands'] < twenty_one_ranks[5]),\n",
    "               (person_income['incomeInThousands'] >=  twenty_one_ranks[5]) & (person_income['incomeInThousands'] < twenty_one_ranks[6]),\n",
    "               (person_income['incomeInThousands'] >=  twenty_one_ranks[6]) & (person_income['incomeInThousands'] < twenty_one_ranks[7]),\n",
    "               (person_income['incomeInThousands'] >=  twenty_one_ranks[7]) & (person_income['incomeInThousands'] < twenty_one_ranks[8]),\n",
    "               (person_income['incomeInThousands'] >=  twenty_one_ranks[8]) & (person_income['incomeInThousands'] < twenty_one_ranks[9]),\n",
    "               (person_income['incomeInThousands'] >=  twenty_one_ranks[9]) & (person_income['incomeInThousands'] <= twenty_one_ranks[10]),\n",
    "              (person_income['incomeInThousands'] >=  twenty_one_ranks[10]) & (person_income['incomeInThousands'] <= twenty_one_ranks[11]),\n",
    "              (person_income['incomeInThousands'] >=  twenty_one_ranks[11]) & (person_income['incomeInThousands'] <= twenty_one_ranks[12]),\n",
    "              (person_income['incomeInThousands'] >=  twenty_one_ranks[12]) & (person_income['incomeInThousands'] <= twenty_one_ranks[13]),\n",
    "              (person_income['incomeInThousands'] >=  twenty_one_ranks[13]) & (person_income['incomeInThousands'] <= twenty_one_ranks[14]),\n",
    "              (person_income['incomeInThousands'] >=  twenty_one_ranks[14]) & (person_income['incomeInThousands'] <= twenty_one_ranks[15]),\n",
    "              (person_income['incomeInThousands'] >=  twenty_one_ranks[15]) & (person_income['incomeInThousands'] <= twenty_one_ranks[16]),\n",
    "              (person_income['incomeInThousands'] >=  twenty_one_ranks[16]) & (person_income['incomeInThousands'] <= twenty_one_ranks[17]),\n",
    "              (person_income['incomeInThousands'] >=  twenty_one_ranks[17]) & (person_income['incomeInThousands'] <= twenty_one_ranks[18]),\n",
    "              (person_income['incomeInThousands'] >=  twenty_one_ranks[18]) & (person_income['incomeInThousands'] <= twenty_one_ranks[19]),\n",
    "              (person_income['incomeInThousands'] >=  twenty_one_ranks[19]) & (person_income['incomeInThousands'] <= twenty_one_ranks[20]),\n",
    "              (person_income['incomeInThousands'] >=  twenty_one_ranks[20]) & (person_income['incomeInThousands'] <= twenty_one_ranks[21])]\n",
    "\n",
    "\n",
    "choices = [0, 1,2,3,4,5,6,7,8,9,10,11,12,13,14,15,16,17,18,19,20]"
   ]
  },
  {
   "cell_type": "code",
   "execution_count": null,
   "id": "78484653",
   "metadata": {
    "hidden": true
   },
   "outputs": [],
   "source": [
    "person_income['incRank'] = np.select(conditions, choices, default=None)"
   ]
  },
  {
   "cell_type": "code",
   "execution_count": null,
   "id": "b79f8e6d",
   "metadata": {
    "hidden": true
   },
   "outputs": [],
   "source": [
    "%%time\n",
    "small_stacked_rh = pd.merge(left = small_stacked_rh, right = person_income, how='left', on = ['IDMerged'], suffixes=('', '_drop'))\n",
    "small_stacked_rh.drop([col for col in small_stacked_rh.columns if 'drop' in col], axis=1, inplace=True)"
   ]
  },
  {
   "cell_type": "code",
   "execution_count": null,
   "id": "52c08a9a",
   "metadata": {
    "hidden": true
   },
   "outputs": [],
   "source": [
    "lorenz_data_median = pd.pivot_table(\n",
    "   small_stacked_rh,\n",
    "   index=['lever_position_tel', 'incRank'],\n",
    "   aggfunc={'incomeInThousands': np.mean,\n",
    "           'Potential_INEXUS_in_dollar_2023': np.median,\n",
    "           'Realized_INEXUS_in_dollar_2023': np.median,\n",
    "           'realized_in_dollar_2023_relative_to_baseline': np.median,\n",
    "           'potential_in_dollar_2023_relative_to_baseline': np.median}).reset_index() "
   ]
  },
  {
   "cell_type": "code",
   "execution_count": null,
   "id": "6e3b5cdf",
   "metadata": {
    "hidden": true
   },
   "outputs": [],
   "source": [
    "lorenz_data = pd.pivot_table(\n",
    "   small_stacked_rh,\n",
    "   index=['lever_position_tel', 'incRank'],\n",
    "   aggfunc={'incomeInThousands': np.mean,\n",
    "           'Potential_INEXUS_in_dollar_2023': np.mean,\n",
    "           'Realized_INEXUS_in_dollar_2023': np.mean,\n",
    "           'realized_in_dollar_2023_relative_to_baseline': np.mean,\n",
    "           'potential_in_dollar_2023_relative_to_baseline': np.mean}).reset_index() "
   ]
  },
  {
   "cell_type": "code",
   "execution_count": null,
   "id": "56ea3162",
   "metadata": {
    "hidden": true
   },
   "outputs": [],
   "source": [
    "lorenz_data.to_csv('C:/Users/nrezaei/Documents/Data/lorenz.csv')"
   ]
  },
  {
   "cell_type": "code",
   "execution_count": null,
   "id": "64528994",
   "metadata": {
    "hidden": true
   },
   "outputs": [],
   "source": [
    "df_lorenz = pd.read_csv('C:/Users/nrezaei/Documents/Data/lorenz.csv')"
   ]
  },
  {
   "cell_type": "code",
   "execution_count": null,
   "id": "adbd83bd",
   "metadata": {
    "hidden": true
   },
   "outputs": [],
   "source": [
    "palette = {\n",
    "    9.6:  '#521e4d',\n",
    "    6.24: '#8e1d5b',\n",
    "    4.32: '#ca1a50',\n",
    "    2.56: '#ee543f',\n",
    "    1.76: '#f37751',\n",
    "    1.36: '#f5966d',\n",
    "    1: '#f7d0b5'}"
   ]
  },
  {
   "cell_type": "code",
   "execution_count": null,
   "id": "305410c8",
   "metadata": {
    "hidden": true
   },
   "outputs": [],
   "source": [
    "lorenz_data['incRank_percent'] = (lorenz_data['incRank'])*5"
   ]
  },
  {
   "cell_type": "code",
   "execution_count": null,
   "id": "258132b1",
   "metadata": {
    "hidden": true
   },
   "outputs": [],
   "source": [
    "import matplotlib.ticker as ticker\n",
    "sns.set(rc={'figure.figsize':(20,14)})\n",
    "sns.set_theme(style=\"whitegrid\")\n",
    "fig, ax = plt.subplots()\n",
    "ax = sns.lineplot(data = lorenz_data, x = 'incRank_percent', \n",
    "                  y = 'potential_in_dollar_2023_relative_to_baseline', hue = 'lever_position_tel', palette = palette, ci=None, linewidth = 6)\n",
    "ax.set_xlabel('Income Rank (Percentiles of Income)', fontsize = 36) #45\n",
    "ax.set_ylabel('Potential INEXUS ($) relative to Baseline', fontsize = 36) #45\n",
    "ax.yaxis.set_tick_params(labelsize = 26) #35\n",
    "ax.xaxis.set_tick_params(labelsize = 26) #35\n",
    "ax.xaxis.set_major_formatter(ticker.FuncFormatter(lambda x, pos: f'{int(x)}%'))\n",
    "plt.legend(labels = ['Baseline', '136% Telework Trips', '176% Telework Trips','256% Telework Trips','432% Telework Trips',\n",
    "                     '624% Telework Trips','960% Telework Trips'],\n",
    "         fontsize='medium', fancybox=False, bbox_to_anchor=(1, 0.8), ncol=1, frameon=True, loc = 'best', prop={'size': 26}) #35\n",
    "#plt.savefig('lorenz.svg', format='svg', bbox_extra_artists=(ax.legend(['0% Price', '12.5% Price', '25% Price','50% Price','Baseline','175% Price','300% Price', '500% Price','800% Price'], fancybox=False, bbox_to_anchor=(1, 0.8), fontsize=26),), bbox_inches='tight') #30\n",
    "#plt.savefig('lorenz.png', dpi=300)"
   ]
  },
  {
   "cell_type": "code",
   "execution_count": null,
   "id": "e143fc26",
   "metadata": {
    "hidden": true
   },
   "outputs": [],
   "source": []
  }
 ],
 "metadata": {
  "kernelspec": {
   "display_name": "Python 3 (ipykernel)",
   "language": "python",
   "name": "python3"
  },
  "language_info": {
   "codemirror_mode": {
    "name": "ipython",
    "version": 3
   },
   "file_extension": ".py",
   "mimetype": "text/x-python",
   "name": "python",
   "nbconvert_exporter": "python",
   "pygments_lexer": "ipython3",
   "version": "3.9.7"
  },
  "toc": {
   "base_numbering": 1,
   "nav_menu": {},
   "number_sections": true,
   "sideBar": true,
   "skip_h1_title": false,
   "title_cell": "Table of Contents",
   "title_sidebar": "Contents",
   "toc_cell": false,
   "toc_position": {
    "height": "calc(100% - 180px)",
    "left": "10px",
    "top": "150px",
    "width": "320px"
   },
   "toc_section_display": true,
   "toc_window_display": false
  },
  "varInspector": {
   "cols": {
    "lenName": 16,
    "lenType": 16,
    "lenVar": 40
   },
   "kernels_config": {
    "python": {
     "delete_cmd_postfix": "",
     "delete_cmd_prefix": "del ",
     "library": "var_list.py",
     "varRefreshCmd": "print(var_dic_list())"
    },
    "r": {
     "delete_cmd_postfix": ") ",
     "delete_cmd_prefix": "rm(",
     "library": "var_list.r",
     "varRefreshCmd": "cat(var_dic_list()) "
    }
   },
   "types_to_exclude": [
    "module",
    "function",
    "builtin_function_or_method",
    "instance",
    "_Feature"
   ],
   "window_display": false
  }
 },
 "nbformat": 4,
 "nbformat_minor": 5
}
