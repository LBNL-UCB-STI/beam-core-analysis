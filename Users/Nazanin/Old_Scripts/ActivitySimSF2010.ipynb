{
 "cells": [
  {
   "cell_type": "code",
   "execution_count": 1,
   "id": "d753b223",
   "metadata": {},
   "outputs": [],
   "source": [
    "import os\n",
    "import os.path as op\n",
    "import numpy as np\n",
    "import pandas as pd\n",
    "import sys\n",
    "import boto3\n",
    "from boto3 import session\n",
    "import matplotlib.pyplot as plt\n",
    "%matplotlib inline\n",
    "import seaborn as sns\n",
    "import zipfile\n",
    "import glob"
   ]
  },
  {
   "cell_type": "code",
   "execution_count": 2,
   "id": "a8c94e61",
   "metadata": {},
   "outputs": [],
   "source": [
    "ut_2018 =  \"https://beam-outputs.s3.amazonaws.com/pilates-outputs/sfbay-base-20220409/activitysim/year-2018-iteration-5/\""
   ]
  },
  {
   "cell_type": "markdown",
   "id": "f486437f",
   "metadata": {
    "heading_collapsed": true
   },
   "source": [
    "#### Reading the files"
   ]
  },
  {
   "cell_type": "code",
   "execution_count": null,
   "id": "ac1ff7d4",
   "metadata": {
    "hidden": true
   },
   "outputs": [],
   "source": [
    "#ut1 = pd.read_csv('s3://pilates-outputs/sfbay-base-20220409/activitysim/year-2018-iteration-5/trip_mode_choice.zip/trip_mode_choice/577_raw.csv', encoding = \"ISO-8859-1\")"
   ]
  },
  {
   "cell_type": "code",
   "execution_count": null,
   "id": "f03e85ff",
   "metadata": {
    "hidden": true
   },
   "outputs": [],
   "source": [
    "#loc = \"https://beam-outputs.s3.amazonaws.com/pilates-outputs/sfbay-2010-lessrh-20220223/activitysim/\"\n",
    "loc_2018 =  \"https://beam-outputs.s3.amazonaws.com/pilates-outputs/sfbay-2018-base-20220306/activitysim/trip_mode_choice.zip\"\n",
    "trips = pd.read_csv(loc_2018 + 'final_trips.csv')\n",
    "households = pd.read_csv(loc_2018 + 'final_households.csv')\n",
    "persons = pd.read_csv(loc_2018 + 'final_persons.csv')\n",
    "tours = pd.read_csv(loc_2018 +'final_tours.csv')\n",
    "plans = pd.read_csv(loc_2018 +'final_plans.csv')\n",
    "landuse = pd.read_csv(loc_2018 +'final_land_use.csv')\n",
    "#checkpoints = pd.read_csv(loc + 'final_checkpoints.csv')\n",
    "#joint_tour_participants = pd.read_csv(loc + 'final_joint_tour_participants.csv')\n",
    "#specs = pd.read_csv(loc +'final_trip_mode_choice_specs.csv')\n",
    "#tripModeChoice = pd.read_csv(loc +'final_trip_mode_choice_raw.csv')\n",
    "#tripModeChoiceUtilities = pd.read_csv(loc +'final_trip_mode_choice_utilities.csv')"
   ]
  },
  {
   "cell_type": "markdown",
   "id": "6b7984d8",
   "metadata": {
    "heading_collapsed": true
   },
   "source": [
    "#### Merging the files"
   ]
  },
  {
   "cell_type": "code",
   "execution_count": 5,
   "id": "3cc845bd",
   "metadata": {
    "hidden": true
   },
   "outputs": [],
   "source": [
    "#Merge households and persons \n",
    "persons = persons.sort_values(by=['household_id'])\n",
    "households = households.sort_values(by=['household_id'])\n",
    "hhpersons = pd.merge(left=persons, right=households, how='left', on='household_id', suffixes=('', '_drop'))\n",
    "hhpersons.drop([col for col in hhpersons.columns if 'drop' in col], axis=1, inplace=True)"
   ]
  },
  {
   "cell_type": "code",
   "execution_count": 4,
   "id": "52376c8f",
   "metadata": {
    "hidden": true
   },
   "outputs": [],
   "source": [
    "#Show all columns and rows\n",
    "pd.options.display.max_columns = None\n",
    "pd.options.display.max_rows = None"
   ]
  },
  {
   "cell_type": "code",
   "execution_count": 6,
   "id": "e7370c7d",
   "metadata": {
    "hidden": true
   },
   "outputs": [],
   "source": [
    "#Merge tours, households and persons\n",
    "tours = tours.sort_values(by=['person_id'])\n",
    "hhpersons = hhpersons.sort_values(by=['person_id'])\n",
    "hhperTours = pd.merge(left=tours, right=hhpersons, how='left', on='person_id', suffixes=('', '_drop'))\n",
    "hhperTours.drop([col for col in hhperTours.columns if 'drop' in col], axis=1, inplace=True)"
   ]
  },
  {
   "cell_type": "code",
   "execution_count": 7,
   "id": "d7cfef3f",
   "metadata": {
    "hidden": true
   },
   "outputs": [
    {
     "name": "stdout",
     "output_type": "stream",
     "text": [
      "Wall time: 40.7 s\n"
     ]
    }
   ],
   "source": [
    "%%time\n",
    "#Merge trips, tours, households and persons\n",
    "trips = trips.sort_values(by=['person_id', 'tour_id'])\n",
    "hhperTours = hhperTours.sort_values(by=['person_id','tour_id'])\n",
    "tourTripsMerged = pd.merge(left=trips, right=hhperTours, how='left', on=['person_id','tour_id'], suffixes=('', '_drop'))\n",
    "tourTripsMerged.drop([col for col in tourTripsMerged.columns if 'drop' in col], axis=1, inplace=True)"
   ]
  },
  {
   "cell_type": "markdown",
   "id": "fb6f71f2",
   "metadata": {
    "heading_collapsed": true
   },
   "source": [
    "#### Don't forget to merge plans files here"
   ]
  },
  {
   "cell_type": "code",
   "execution_count": null,
   "id": "00e75a79",
   "metadata": {
    "hidden": true
   },
   "outputs": [],
   "source": [
    "%%time   #### Check this code\n",
    "#Merge trips, tours, households and persons, and plans\n",
    "plans = plans.sort_values(by=['person_id', 'trip_id'])\n",
    "tourTripsMerged = tourTripsMerged.sort_values(by=['person_id','trip_id'])\n",
    "plansTripsMerged = pd.merge(left=plans, right=tourTripsMerged, how='left', on=['person_id','trip_id'], suffixes=('', '_drop'))\n",
    "plansTripsMerged.drop([col for col in plansTripsMerged.columns if 'drop' in col], axis=1, inplace=True)"
   ]
  },
  {
   "cell_type": "code",
   "execution_count": 17,
   "id": "6cfff5f0",
   "metadata": {
    "hidden": true
   },
   "outputs": [],
   "source": [
    "# Merge trips, tours, households, and persons with land-use\n",
    "landuse = landuse.sort_values(by=['TAZ'])\n",
    "tourTripsMerged = tourTripsMerged.sort_values(by=['TAZ'])\n",
    "landuseTripsMerged = pd.merge(tourTripsMerged, landuse, how='left', left_on='TAZ', right_on='TAZ', suffixes=('', '_drop'))\n",
    "landuseTripsMerged.drop([col for col in landuseTripsMerged.columns if 'drop' in col], axis=1, inplace=True)"
   ]
  },
  {
   "cell_type": "code",
   "execution_count": 34,
   "id": "cc999c32",
   "metadata": {
    "hidden": true
   },
   "outputs": [],
   "source": [
    "# Concat mode_choice_raw files\n",
    "path = \"C:/Users/nazanin/Downloads/trip_mode_choice/trip_mode_choice/\"\n",
    "all_files = glob.glob(path + \"*raw.csv\")\n",
    "li_mapper = map(lambda filename: pd.read_csv(filename, index_col = None, header = 0), all_files)\n",
    "li2 = list(li_mapper)\n",
    "SFmode_choice_raw = pd.concat(li2, axis = 0, ignore_index=True)"
   ]
  },
  {
   "cell_type": "code",
   "execution_count": 35,
   "id": "fe459f29",
   "metadata": {
    "hidden": true
   },
   "outputs": [],
   "source": [
    "# Concat mode_choice_utilities files\n",
    "path = \"C:/Users/nazanin/Downloads/trip_mode_choice/trip_mode_choice/\"\n",
    "all_files = glob.glob(path + \"*utilities.csv\")\n",
    "li_mapper = map(lambda filename: pd.read_csv(filename, index_col = None, header = 0), all_files)\n",
    "li2 = list(li_mapper)\n",
    "SFmode_choice_utilities = pd.concat(li2, axis = 0, ignore_index=True)"
   ]
  },
  {
   "cell_type": "code",
   "execution_count": 42,
   "id": "d6909cb4",
   "metadata": {
    "hidden": true
   },
   "outputs": [],
   "source": [
    "# Merge mode_choice_raw and utilities\n",
    "SFmode_choice_raw = SFmode_choice_raw.sort_values(by=['trip_id'])\n",
    "SFmode_choice_utilities = SFmode_choice_utilities.sort_values(by=['trip_id'])\n",
    "rawUtil = pd.merge(left=SFmode_choice_raw, right=SFmode_choice_utilities, how='left', on='trip_id', suffixes=('', '_drop'))\n",
    "rawUtil.drop([col for col in rawUtil.columns if 'drop' in col], axis=1, inplace=True)"
   ]
  },
  {
   "cell_type": "code",
   "execution_count": 44,
   "id": "2b887945",
   "metadata": {
    "hidden": true
   },
   "outputs": [
    {
     "name": "stdout",
     "output_type": "stream",
     "text": [
      "Wall time: 1min 40s\n"
     ]
    }
   ],
   "source": [
    "%%time\n",
    "# Merge trips, tours, households, persons, trip_mode_choice_raw, and utilities\n",
    "landuseTripsMerged = landuseTripsMerged.sort_values(by=['trip_id'])\n",
    "rawUtil = rawUtil.sort_values(by=['trip_id'])\n",
    "SFActMerged= pd.merge(left=landuseTripsMerged, right=rawUtil, how='left', on=['trip_id'], suffixes=('', '_drop'))\n",
    "SFActMerged.drop([col for col in SFActMerged.columns if 'drop' in col], axis=1, inplace=True)"
   ]
  },
  {
   "cell_type": "code",
   "execution_count": null,
   "id": "e5d35599",
   "metadata": {
    "hidden": true
   },
   "outputs": [],
   "source": [
    "specs.Expression_id = specs.Expression_id .astype(str)\n",
    "specs.rename(columns = {'Expression_id':'trip_mode'}, inplace = True)\n",
    "specs = specs.set_index('trip_mode')"
   ]
  },
  {
   "cell_type": "code",
   "execution_count": null,
   "id": "70ff07a4",
   "metadata": {
    "hidden": true
   },
   "outputs": [],
   "source": [
    "ActSimSpec = pd.merge(ActSimMerged, specsT, left_on = 'trip_mode', right_index=True, how = 'left')"
   ]
  },
  {
   "cell_type": "code",
   "execution_count": null,
   "id": "12614827",
   "metadata": {
    "hidden": true
   },
   "outputs": [],
   "source": [
    "specsT = specs.transpose()"
   ]
  }
 ],
 "metadata": {
  "kernelspec": {
   "display_name": "Python 3 (ipykernel)",
   "language": "python",
   "name": "python3"
  },
  "language_info": {
   "codemirror_mode": {
    "name": "ipython",
    "version": 3
   },
   "file_extension": ".py",
   "mimetype": "text/x-python",
   "name": "python",
   "nbconvert_exporter": "python",
   "pygments_lexer": "ipython3",
   "version": "3.9.7"
  },
  "toc": {
   "base_numbering": 1,
   "nav_menu": {},
   "number_sections": true,
   "sideBar": true,
   "skip_h1_title": false,
   "title_cell": "Table of Contents",
   "title_sidebar": "Contents",
   "toc_cell": false,
   "toc_position": {},
   "toc_section_display": true,
   "toc_window_display": false
  },
  "varInspector": {
   "cols": {
    "lenName": 16,
    "lenType": 16,
    "lenVar": 40
   },
   "kernels_config": {
    "python": {
     "delete_cmd_postfix": "",
     "delete_cmd_prefix": "del ",
     "library": "var_list.py",
     "varRefreshCmd": "print(var_dic_list())"
    },
    "r": {
     "delete_cmd_postfix": ") ",
     "delete_cmd_prefix": "rm(",
     "library": "var_list.r",
     "varRefreshCmd": "cat(var_dic_list()) "
    }
   },
   "types_to_exclude": [
    "module",
    "function",
    "builtin_function_or_method",
    "instance",
    "_Feature"
   ],
   "window_display": false
  },
  "vscode": {
   "interpreter": {
    "hash": "ac22d9ef0c3c75a55929af6633a813791271c1694050e8ef3d72f91749e50c29"
   }
  }
 },
 "nbformat": 4,
 "nbformat_minor": 5
}
