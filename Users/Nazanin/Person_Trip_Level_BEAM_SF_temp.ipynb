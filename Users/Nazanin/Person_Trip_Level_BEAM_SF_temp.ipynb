{
 "cells": [
  {
   "cell_type": "code",
   "execution_count": 1,
   "id": "f55cd92c",
   "metadata": {},
   "outputs": [],
   "source": [
    "import pandas as pd\n",
    "import numpy as np\n",
    "import geopandas as gpd"
   ]
  },
  {
   "cell_type": "markdown",
   "id": "7bb956bf",
   "metadata": {},
   "source": [
    "#### SF 2018"
   ]
  },
  {
   "cell_type": "code",
   "execution_count": 2,
   "id": "423ab3c4",
   "metadata": {},
   "outputs": [],
   "source": [
    "# File location on S3 (The address should be updated depending on the version of the code using)\n",
    "loc_2018_baseline = \"https://beam-outputs.s3.amazonaws.com/pilates-outputs/sfbay-base-20220409/beam/year-2018-iteration-5/ITERS/it.0/\"\n",
    "loc_2018_transitFreq05 = \"https://beam-outputs.s3.amazonaws.com/pilates-outputs/sfbay-transit_frequencies_0.5-20220228/beam/year-2018-iteration-5/ITERS/it.0/\"\n",
    "loc_2018_transitFreq1p5 = \"https://beam-outputs.s3.amazonaws.com/pilates-outputs/sfbay-transit_frequencies_1.5-20220228/beam/year-2018-iteration-5/ITERS/it.0/\"\n",
    "loc_2018_transitFreq2 = \"https://beam-outputs.s3.amazonaws.com/pilates-outputs/sfbay-transit_frequencies_2.0-20220229/beam/year-2018-iteration-5/ITERS/it.0/\"\n",
    "loc_2018_rhFleetsz0125 = \"https://beam-outputs.s3.amazonaws.com/pilates-outputs/sfbay-RH_fleetsz_0.125-20220408/beam/year-2018-iteration-5/ITERS/it.0/\"\n",
    "loc_2018_rhFleetsz025 = \"https://beam-outputs.s3.amazonaws.com/pilates-outputs/sfbay-RH_fleetsz_0.25-20220408/beam/year-2018-iteration-5/ITERS/it.0/\"\n",
    "loc_2018_rhFleetsz05 = \"https://beam-outputs.s3.amazonaws.com/pilates-outputs/sfbay-RH_fleetsz_0.5-20220408/beam/year-2018-iteration-5/ITERS/it.0/\"\n",
    "loc_2018_rhFleetsz150 = \"https://beam-outputs.s3.amazonaws.com/pilates-outputs/sfbay-RH_fleetsz_1.5-20220328/beam/year-2018-iteration-5/ITERS/it.0/\"\n",
    "loc_2018_rhFleetsz175 = \"https://beam-outputs.s3.amazonaws.com/pilates-outputs/sfbay-RH_fleetsz_1.75-20220408/beam/year-2018-iteration-5/ITERS/it.0/\""
   ]
  },
  {
   "cell_type": "markdown",
   "id": "8ce8ada6",
   "metadata": {},
   "source": [
    "#### SF 2019"
   ]
  },
  {
   "cell_type": "code",
   "execution_count": 3,
   "id": "2f3472cf",
   "metadata": {},
   "outputs": [],
   "source": [
    "loc_2019_transCap05 = \"https://beam-outputs.s3.amazonaws.com/pilates-outputs/sfbay-transit_capacity_0.5-20220329/beam/year-2019-iteration-5/ITERS/it.0/\""
   ]
  },
  {
   "cell_type": "code",
   "execution_count": 4,
   "id": "39226076",
   "metadata": {},
   "outputs": [
    {
     "ename": "KeyboardInterrupt",
     "evalue": "",
     "output_type": "error",
     "traceback": [
      "\u001b[1;31m---------------------------------------------------------------------------\u001b[0m",
      "\u001b[1;31mKeyboardInterrupt\u001b[0m                         Traceback (most recent call last)",
      "File \u001b[1;32m<timed exec>:20\u001b[0m, in \u001b[0;36m<module>\u001b[1;34m\u001b[0m\n",
      "File \u001b[1;32m~\\.conda\\envs\\geo_env\\lib\\site-packages\\pandas\\util\\_decorators.py:311\u001b[0m, in \u001b[0;36mdeprecate_nonkeyword_arguments.<locals>.decorate.<locals>.wrapper\u001b[1;34m(*args, **kwargs)\u001b[0m\n\u001b[0;32m    305\u001b[0m \u001b[38;5;28;01mif\u001b[39;00m \u001b[38;5;28mlen\u001b[39m(args) \u001b[38;5;241m>\u001b[39m num_allow_args:\n\u001b[0;32m    306\u001b[0m     warnings\u001b[38;5;241m.\u001b[39mwarn(\n\u001b[0;32m    307\u001b[0m         msg\u001b[38;5;241m.\u001b[39mformat(arguments\u001b[38;5;241m=\u001b[39marguments),\n\u001b[0;32m    308\u001b[0m         \u001b[38;5;167;01mFutureWarning\u001b[39;00m,\n\u001b[0;32m    309\u001b[0m         stacklevel\u001b[38;5;241m=\u001b[39mstacklevel,\n\u001b[0;32m    310\u001b[0m     )\n\u001b[1;32m--> 311\u001b[0m \u001b[38;5;28;01mreturn\u001b[39;00m func(\u001b[38;5;241m*\u001b[39margs, \u001b[38;5;241m*\u001b[39m\u001b[38;5;241m*\u001b[39mkwargs)\n",
      "File \u001b[1;32m~\\.conda\\envs\\geo_env\\lib\\site-packages\\pandas\\io\\parsers\\readers.py:680\u001b[0m, in \u001b[0;36mread_csv\u001b[1;34m(filepath_or_buffer, sep, delimiter, header, names, index_col, usecols, squeeze, prefix, mangle_dupe_cols, dtype, engine, converters, true_values, false_values, skipinitialspace, skiprows, skipfooter, nrows, na_values, keep_default_na, na_filter, verbose, skip_blank_lines, parse_dates, infer_datetime_format, keep_date_col, date_parser, dayfirst, cache_dates, iterator, chunksize, compression, thousands, decimal, lineterminator, quotechar, quoting, doublequote, escapechar, comment, encoding, encoding_errors, dialect, error_bad_lines, warn_bad_lines, on_bad_lines, delim_whitespace, low_memory, memory_map, float_precision, storage_options)\u001b[0m\n\u001b[0;32m    665\u001b[0m kwds_defaults \u001b[38;5;241m=\u001b[39m _refine_defaults_read(\n\u001b[0;32m    666\u001b[0m     dialect,\n\u001b[0;32m    667\u001b[0m     delimiter,\n\u001b[1;32m   (...)\u001b[0m\n\u001b[0;32m    676\u001b[0m     defaults\u001b[38;5;241m=\u001b[39m{\u001b[38;5;124m\"\u001b[39m\u001b[38;5;124mdelimiter\u001b[39m\u001b[38;5;124m\"\u001b[39m: \u001b[38;5;124m\"\u001b[39m\u001b[38;5;124m,\u001b[39m\u001b[38;5;124m\"\u001b[39m},\n\u001b[0;32m    677\u001b[0m )\n\u001b[0;32m    678\u001b[0m kwds\u001b[38;5;241m.\u001b[39mupdate(kwds_defaults)\n\u001b[1;32m--> 680\u001b[0m \u001b[38;5;28;01mreturn\u001b[39;00m \u001b[43m_read\u001b[49m\u001b[43m(\u001b[49m\u001b[43mfilepath_or_buffer\u001b[49m\u001b[43m,\u001b[49m\u001b[43m \u001b[49m\u001b[43mkwds\u001b[49m\u001b[43m)\u001b[49m\n",
      "File \u001b[1;32m~\\.conda\\envs\\geo_env\\lib\\site-packages\\pandas\\io\\parsers\\readers.py:575\u001b[0m, in \u001b[0;36m_read\u001b[1;34m(filepath_or_buffer, kwds)\u001b[0m\n\u001b[0;32m    572\u001b[0m _validate_names(kwds\u001b[38;5;241m.\u001b[39mget(\u001b[38;5;124m\"\u001b[39m\u001b[38;5;124mnames\u001b[39m\u001b[38;5;124m\"\u001b[39m, \u001b[38;5;28;01mNone\u001b[39;00m))\n\u001b[0;32m    574\u001b[0m \u001b[38;5;66;03m# Create the parser.\u001b[39;00m\n\u001b[1;32m--> 575\u001b[0m parser \u001b[38;5;241m=\u001b[39m TextFileReader(filepath_or_buffer, \u001b[38;5;241m*\u001b[39m\u001b[38;5;241m*\u001b[39mkwds)\n\u001b[0;32m    577\u001b[0m \u001b[38;5;28;01mif\u001b[39;00m chunksize \u001b[38;5;129;01mor\u001b[39;00m iterator:\n\u001b[0;32m    578\u001b[0m     \u001b[38;5;28;01mreturn\u001b[39;00m parser\n",
      "File \u001b[1;32m~\\.conda\\envs\\geo_env\\lib\\site-packages\\pandas\\io\\parsers\\readers.py:933\u001b[0m, in \u001b[0;36mTextFileReader.__init__\u001b[1;34m(self, f, engine, **kwds)\u001b[0m\n\u001b[0;32m    930\u001b[0m     \u001b[38;5;28mself\u001b[39m\u001b[38;5;241m.\u001b[39moptions[\u001b[38;5;124m\"\u001b[39m\u001b[38;5;124mhas_index_names\u001b[39m\u001b[38;5;124m\"\u001b[39m] \u001b[38;5;241m=\u001b[39m kwds[\u001b[38;5;124m\"\u001b[39m\u001b[38;5;124mhas_index_names\u001b[39m\u001b[38;5;124m\"\u001b[39m]\n\u001b[0;32m    932\u001b[0m \u001b[38;5;28mself\u001b[39m\u001b[38;5;241m.\u001b[39mhandles: IOHandles \u001b[38;5;241m|\u001b[39m \u001b[38;5;28;01mNone\u001b[39;00m \u001b[38;5;241m=\u001b[39m \u001b[38;5;28;01mNone\u001b[39;00m\n\u001b[1;32m--> 933\u001b[0m \u001b[38;5;28mself\u001b[39m\u001b[38;5;241m.\u001b[39m_engine \u001b[38;5;241m=\u001b[39m \u001b[38;5;28;43mself\u001b[39;49m\u001b[38;5;241;43m.\u001b[39;49m\u001b[43m_make_engine\u001b[49m\u001b[43m(\u001b[49m\u001b[43mf\u001b[49m\u001b[43m,\u001b[49m\u001b[43m \u001b[49m\u001b[38;5;28;43mself\u001b[39;49m\u001b[38;5;241;43m.\u001b[39;49m\u001b[43mengine\u001b[49m\u001b[43m)\u001b[49m\n",
      "File \u001b[1;32m~\\.conda\\envs\\geo_env\\lib\\site-packages\\pandas\\io\\parsers\\readers.py:1217\u001b[0m, in \u001b[0;36mTextFileReader._make_engine\u001b[1;34m(self, f, engine)\u001b[0m\n\u001b[0;32m   1213\u001b[0m     mode \u001b[38;5;241m=\u001b[39m \u001b[38;5;124m\"\u001b[39m\u001b[38;5;124mrb\u001b[39m\u001b[38;5;124m\"\u001b[39m\n\u001b[0;32m   1214\u001b[0m \u001b[38;5;66;03m# error: No overload variant of \"get_handle\" matches argument types\u001b[39;00m\n\u001b[0;32m   1215\u001b[0m \u001b[38;5;66;03m# \"Union[str, PathLike[str], ReadCsvBuffer[bytes], ReadCsvBuffer[str]]\"\u001b[39;00m\n\u001b[0;32m   1216\u001b[0m \u001b[38;5;66;03m# , \"str\", \"bool\", \"Any\", \"Any\", \"Any\", \"Any\", \"Any\"\u001b[39;00m\n\u001b[1;32m-> 1217\u001b[0m \u001b[38;5;28mself\u001b[39m\u001b[38;5;241m.\u001b[39mhandles \u001b[38;5;241m=\u001b[39m \u001b[43mget_handle\u001b[49m\u001b[43m(\u001b[49m\u001b[43m  \u001b[49m\u001b[38;5;66;43;03m# type: ignore[call-overload]\u001b[39;49;00m\n\u001b[0;32m   1218\u001b[0m \u001b[43m    \u001b[49m\u001b[43mf\u001b[49m\u001b[43m,\u001b[49m\n\u001b[0;32m   1219\u001b[0m \u001b[43m    \u001b[49m\u001b[43mmode\u001b[49m\u001b[43m,\u001b[49m\n\u001b[0;32m   1220\u001b[0m \u001b[43m    \u001b[49m\u001b[43mencoding\u001b[49m\u001b[38;5;241;43m=\u001b[39;49m\u001b[38;5;28;43mself\u001b[39;49m\u001b[38;5;241;43m.\u001b[39;49m\u001b[43moptions\u001b[49m\u001b[38;5;241;43m.\u001b[39;49m\u001b[43mget\u001b[49m\u001b[43m(\u001b[49m\u001b[38;5;124;43m\"\u001b[39;49m\u001b[38;5;124;43mencoding\u001b[39;49m\u001b[38;5;124;43m\"\u001b[39;49m\u001b[43m,\u001b[49m\u001b[43m \u001b[49m\u001b[38;5;28;43;01mNone\u001b[39;49;00m\u001b[43m)\u001b[49m\u001b[43m,\u001b[49m\n\u001b[0;32m   1221\u001b[0m \u001b[43m    \u001b[49m\u001b[43mcompression\u001b[49m\u001b[38;5;241;43m=\u001b[39;49m\u001b[38;5;28;43mself\u001b[39;49m\u001b[38;5;241;43m.\u001b[39;49m\u001b[43moptions\u001b[49m\u001b[38;5;241;43m.\u001b[39;49m\u001b[43mget\u001b[49m\u001b[43m(\u001b[49m\u001b[38;5;124;43m\"\u001b[39;49m\u001b[38;5;124;43mcompression\u001b[39;49m\u001b[38;5;124;43m\"\u001b[39;49m\u001b[43m,\u001b[49m\u001b[43m \u001b[49m\u001b[38;5;28;43;01mNone\u001b[39;49;00m\u001b[43m)\u001b[49m\u001b[43m,\u001b[49m\n\u001b[0;32m   1222\u001b[0m \u001b[43m    \u001b[49m\u001b[43mmemory_map\u001b[49m\u001b[38;5;241;43m=\u001b[39;49m\u001b[38;5;28;43mself\u001b[39;49m\u001b[38;5;241;43m.\u001b[39;49m\u001b[43moptions\u001b[49m\u001b[38;5;241;43m.\u001b[39;49m\u001b[43mget\u001b[49m\u001b[43m(\u001b[49m\u001b[38;5;124;43m\"\u001b[39;49m\u001b[38;5;124;43mmemory_map\u001b[39;49m\u001b[38;5;124;43m\"\u001b[39;49m\u001b[43m,\u001b[49m\u001b[43m \u001b[49m\u001b[38;5;28;43;01mFalse\u001b[39;49;00m\u001b[43m)\u001b[49m\u001b[43m,\u001b[49m\n\u001b[0;32m   1223\u001b[0m \u001b[43m    \u001b[49m\u001b[43mis_text\u001b[49m\u001b[38;5;241;43m=\u001b[39;49m\u001b[43mis_text\u001b[49m\u001b[43m,\u001b[49m\n\u001b[0;32m   1224\u001b[0m \u001b[43m    \u001b[49m\u001b[43merrors\u001b[49m\u001b[38;5;241;43m=\u001b[39;49m\u001b[38;5;28;43mself\u001b[39;49m\u001b[38;5;241;43m.\u001b[39;49m\u001b[43moptions\u001b[49m\u001b[38;5;241;43m.\u001b[39;49m\u001b[43mget\u001b[49m\u001b[43m(\u001b[49m\u001b[38;5;124;43m\"\u001b[39;49m\u001b[38;5;124;43mencoding_errors\u001b[39;49m\u001b[38;5;124;43m\"\u001b[39;49m\u001b[43m,\u001b[49m\u001b[43m \u001b[49m\u001b[38;5;124;43m\"\u001b[39;49m\u001b[38;5;124;43mstrict\u001b[39;49m\u001b[38;5;124;43m\"\u001b[39;49m\u001b[43m)\u001b[49m\u001b[43m,\u001b[49m\n\u001b[0;32m   1225\u001b[0m \u001b[43m    \u001b[49m\u001b[43mstorage_options\u001b[49m\u001b[38;5;241;43m=\u001b[39;49m\u001b[38;5;28;43mself\u001b[39;49m\u001b[38;5;241;43m.\u001b[39;49m\u001b[43moptions\u001b[49m\u001b[38;5;241;43m.\u001b[39;49m\u001b[43mget\u001b[49m\u001b[43m(\u001b[49m\u001b[38;5;124;43m\"\u001b[39;49m\u001b[38;5;124;43mstorage_options\u001b[39;49m\u001b[38;5;124;43m\"\u001b[39;49m\u001b[43m,\u001b[49m\u001b[43m \u001b[49m\u001b[38;5;28;43;01mNone\u001b[39;49;00m\u001b[43m)\u001b[49m\u001b[43m,\u001b[49m\n\u001b[0;32m   1226\u001b[0m \u001b[43m\u001b[49m\u001b[43m)\u001b[49m\n\u001b[0;32m   1227\u001b[0m \u001b[38;5;28;01massert\u001b[39;00m \u001b[38;5;28mself\u001b[39m\u001b[38;5;241m.\u001b[39mhandles \u001b[38;5;129;01mis\u001b[39;00m \u001b[38;5;129;01mnot\u001b[39;00m \u001b[38;5;28;01mNone\u001b[39;00m\n\u001b[0;32m   1228\u001b[0m f \u001b[38;5;241m=\u001b[39m \u001b[38;5;28mself\u001b[39m\u001b[38;5;241m.\u001b[39mhandles\u001b[38;5;241m.\u001b[39mhandle\n",
      "File \u001b[1;32m~\\.conda\\envs\\geo_env\\lib\\site-packages\\pandas\\io\\common.py:670\u001b[0m, in \u001b[0;36mget_handle\u001b[1;34m(path_or_buf, mode, encoding, compression, memory_map, is_text, errors, storage_options)\u001b[0m\n\u001b[0;32m    667\u001b[0m     codecs\u001b[38;5;241m.\u001b[39mlookup_error(errors)\n\u001b[0;32m    669\u001b[0m \u001b[38;5;66;03m# open URLs\u001b[39;00m\n\u001b[1;32m--> 670\u001b[0m ioargs \u001b[38;5;241m=\u001b[39m \u001b[43m_get_filepath_or_buffer\u001b[49m\u001b[43m(\u001b[49m\n\u001b[0;32m    671\u001b[0m \u001b[43m    \u001b[49m\u001b[43mpath_or_buf\u001b[49m\u001b[43m,\u001b[49m\n\u001b[0;32m    672\u001b[0m \u001b[43m    \u001b[49m\u001b[43mencoding\u001b[49m\u001b[38;5;241;43m=\u001b[39;49m\u001b[43mencoding\u001b[49m\u001b[43m,\u001b[49m\n\u001b[0;32m    673\u001b[0m \u001b[43m    \u001b[49m\u001b[43mcompression\u001b[49m\u001b[38;5;241;43m=\u001b[39;49m\u001b[43mcompression\u001b[49m\u001b[43m,\u001b[49m\n\u001b[0;32m    674\u001b[0m \u001b[43m    \u001b[49m\u001b[43mmode\u001b[49m\u001b[38;5;241;43m=\u001b[39;49m\u001b[43mmode\u001b[49m\u001b[43m,\u001b[49m\n\u001b[0;32m    675\u001b[0m \u001b[43m    \u001b[49m\u001b[43mstorage_options\u001b[49m\u001b[38;5;241;43m=\u001b[39;49m\u001b[43mstorage_options\u001b[49m\u001b[43m,\u001b[49m\n\u001b[0;32m    676\u001b[0m \u001b[43m\u001b[49m\u001b[43m)\u001b[49m\n\u001b[0;32m    678\u001b[0m handle \u001b[38;5;241m=\u001b[39m ioargs\u001b[38;5;241m.\u001b[39mfilepath_or_buffer\n\u001b[0;32m    679\u001b[0m handles: \u001b[38;5;28mlist\u001b[39m[BaseBuffer]\n",
      "File \u001b[1;32m~\\.conda\\envs\\geo_env\\lib\\site-packages\\pandas\\io\\common.py:344\u001b[0m, in \u001b[0;36m_get_filepath_or_buffer\u001b[1;34m(filepath_or_buffer, encoding, compression, mode, storage_options)\u001b[0m\n\u001b[0;32m    341\u001b[0m         \u001b[38;5;28;01mif\u001b[39;00m content_encoding \u001b[38;5;241m==\u001b[39m \u001b[38;5;124m\"\u001b[39m\u001b[38;5;124mgzip\u001b[39m\u001b[38;5;124m\"\u001b[39m:\n\u001b[0;32m    342\u001b[0m             \u001b[38;5;66;03m# Override compression based on Content-Encoding header\u001b[39;00m\n\u001b[0;32m    343\u001b[0m             compression \u001b[38;5;241m=\u001b[39m {\u001b[38;5;124m\"\u001b[39m\u001b[38;5;124mmethod\u001b[39m\u001b[38;5;124m\"\u001b[39m: \u001b[38;5;124m\"\u001b[39m\u001b[38;5;124mgzip\u001b[39m\u001b[38;5;124m\"\u001b[39m}\n\u001b[1;32m--> 344\u001b[0m         reader \u001b[38;5;241m=\u001b[39m BytesIO(\u001b[43mreq\u001b[49m\u001b[38;5;241;43m.\u001b[39;49m\u001b[43mread\u001b[49m\u001b[43m(\u001b[49m\u001b[43m)\u001b[49m)\n\u001b[0;32m    345\u001b[0m     \u001b[38;5;28;01mreturn\u001b[39;00m IOArgs(\n\u001b[0;32m    346\u001b[0m         filepath_or_buffer\u001b[38;5;241m=\u001b[39mreader,\n\u001b[0;32m    347\u001b[0m         encoding\u001b[38;5;241m=\u001b[39mencoding,\n\u001b[1;32m   (...)\u001b[0m\n\u001b[0;32m    350\u001b[0m         mode\u001b[38;5;241m=\u001b[39mfsspec_mode,\n\u001b[0;32m    351\u001b[0m     )\n\u001b[0;32m    353\u001b[0m \u001b[38;5;28;01mif\u001b[39;00m is_fsspec_url(filepath_or_buffer):\n",
      "File \u001b[1;32m~\\.conda\\envs\\geo_env\\lib\\http\\client.py:475\u001b[0m, in \u001b[0;36mHTTPResponse.read\u001b[1;34m(self, amt)\u001b[0m\n\u001b[0;32m    473\u001b[0m \u001b[38;5;28;01melse\u001b[39;00m:\n\u001b[0;32m    474\u001b[0m     \u001b[38;5;28;01mtry\u001b[39;00m:\n\u001b[1;32m--> 475\u001b[0m         s \u001b[38;5;241m=\u001b[39m \u001b[38;5;28;43mself\u001b[39;49m\u001b[38;5;241;43m.\u001b[39;49m\u001b[43m_safe_read\u001b[49m\u001b[43m(\u001b[49m\u001b[38;5;28;43mself\u001b[39;49m\u001b[38;5;241;43m.\u001b[39;49m\u001b[43mlength\u001b[49m\u001b[43m)\u001b[49m\n\u001b[0;32m    476\u001b[0m     \u001b[38;5;28;01mexcept\u001b[39;00m IncompleteRead:\n\u001b[0;32m    477\u001b[0m         \u001b[38;5;28mself\u001b[39m\u001b[38;5;241m.\u001b[39m_close_conn()\n",
      "File \u001b[1;32m~\\.conda\\envs\\geo_env\\lib\\http\\client.py:625\u001b[0m, in \u001b[0;36mHTTPResponse._safe_read\u001b[1;34m(self, amt)\u001b[0m\n\u001b[0;32m    623\u001b[0m s \u001b[38;5;241m=\u001b[39m []\n\u001b[0;32m    624\u001b[0m \u001b[38;5;28;01mwhile\u001b[39;00m amt \u001b[38;5;241m>\u001b[39m \u001b[38;5;241m0\u001b[39m:\n\u001b[1;32m--> 625\u001b[0m     chunk \u001b[38;5;241m=\u001b[39m \u001b[38;5;28;43mself\u001b[39;49m\u001b[38;5;241;43m.\u001b[39;49m\u001b[43mfp\u001b[49m\u001b[38;5;241;43m.\u001b[39;49m\u001b[43mread\u001b[49m\u001b[43m(\u001b[49m\u001b[38;5;28;43mmin\u001b[39;49m\u001b[43m(\u001b[49m\u001b[43mamt\u001b[49m\u001b[43m,\u001b[49m\u001b[43m \u001b[49m\u001b[43mMAXAMOUNT\u001b[49m\u001b[43m)\u001b[49m\u001b[43m)\u001b[49m\n\u001b[0;32m    626\u001b[0m     \u001b[38;5;28;01mif\u001b[39;00m \u001b[38;5;129;01mnot\u001b[39;00m chunk:\n\u001b[0;32m    627\u001b[0m         \u001b[38;5;28;01mraise\u001b[39;00m IncompleteRead(\u001b[38;5;124mb\u001b[39m\u001b[38;5;124m'\u001b[39m\u001b[38;5;124m'\u001b[39m\u001b[38;5;241m.\u001b[39mjoin(s), amt)\n",
      "File \u001b[1;32m~\\.conda\\envs\\geo_env\\lib\\socket.py:704\u001b[0m, in \u001b[0;36mSocketIO.readinto\u001b[1;34m(self, b)\u001b[0m\n\u001b[0;32m    702\u001b[0m \u001b[38;5;28;01mwhile\u001b[39;00m \u001b[38;5;28;01mTrue\u001b[39;00m:\n\u001b[0;32m    703\u001b[0m     \u001b[38;5;28;01mtry\u001b[39;00m:\n\u001b[1;32m--> 704\u001b[0m         \u001b[38;5;28;01mreturn\u001b[39;00m \u001b[38;5;28;43mself\u001b[39;49m\u001b[38;5;241;43m.\u001b[39;49m\u001b[43m_sock\u001b[49m\u001b[38;5;241;43m.\u001b[39;49m\u001b[43mrecv_into\u001b[49m\u001b[43m(\u001b[49m\u001b[43mb\u001b[49m\u001b[43m)\u001b[49m\n\u001b[0;32m    705\u001b[0m     \u001b[38;5;28;01mexcept\u001b[39;00m timeout:\n\u001b[0;32m    706\u001b[0m         \u001b[38;5;28mself\u001b[39m\u001b[38;5;241m.\u001b[39m_timeout_occurred \u001b[38;5;241m=\u001b[39m \u001b[38;5;28;01mTrue\u001b[39;00m\n",
      "File \u001b[1;32m~\\.conda\\envs\\geo_env\\lib\\ssl.py:1241\u001b[0m, in \u001b[0;36mSSLSocket.recv_into\u001b[1;34m(self, buffer, nbytes, flags)\u001b[0m\n\u001b[0;32m   1237\u001b[0m     \u001b[38;5;28;01mif\u001b[39;00m flags \u001b[38;5;241m!=\u001b[39m \u001b[38;5;241m0\u001b[39m:\n\u001b[0;32m   1238\u001b[0m         \u001b[38;5;28;01mraise\u001b[39;00m \u001b[38;5;167;01mValueError\u001b[39;00m(\n\u001b[0;32m   1239\u001b[0m           \u001b[38;5;124m\"\u001b[39m\u001b[38;5;124mnon-zero flags not allowed in calls to recv_into() on \u001b[39m\u001b[38;5;132;01m%s\u001b[39;00m\u001b[38;5;124m\"\u001b[39m \u001b[38;5;241m%\u001b[39m\n\u001b[0;32m   1240\u001b[0m           \u001b[38;5;28mself\u001b[39m\u001b[38;5;241m.\u001b[39m\u001b[38;5;18m__class__\u001b[39m)\n\u001b[1;32m-> 1241\u001b[0m     \u001b[38;5;28;01mreturn\u001b[39;00m \u001b[38;5;28;43mself\u001b[39;49m\u001b[38;5;241;43m.\u001b[39;49m\u001b[43mread\u001b[49m\u001b[43m(\u001b[49m\u001b[43mnbytes\u001b[49m\u001b[43m,\u001b[49m\u001b[43m \u001b[49m\u001b[43mbuffer\u001b[49m\u001b[43m)\u001b[49m\n\u001b[0;32m   1242\u001b[0m \u001b[38;5;28;01melse\u001b[39;00m:\n\u001b[0;32m   1243\u001b[0m     \u001b[38;5;28;01mreturn\u001b[39;00m \u001b[38;5;28msuper\u001b[39m()\u001b[38;5;241m.\u001b[39mrecv_into(buffer, nbytes, flags)\n",
      "File \u001b[1;32m~\\.conda\\envs\\geo_env\\lib\\ssl.py:1099\u001b[0m, in \u001b[0;36mSSLSocket.read\u001b[1;34m(self, len, buffer)\u001b[0m\n\u001b[0;32m   1097\u001b[0m \u001b[38;5;28;01mtry\u001b[39;00m:\n\u001b[0;32m   1098\u001b[0m     \u001b[38;5;28;01mif\u001b[39;00m buffer \u001b[38;5;129;01mis\u001b[39;00m \u001b[38;5;129;01mnot\u001b[39;00m \u001b[38;5;28;01mNone\u001b[39;00m:\n\u001b[1;32m-> 1099\u001b[0m         \u001b[38;5;28;01mreturn\u001b[39;00m \u001b[38;5;28;43mself\u001b[39;49m\u001b[38;5;241;43m.\u001b[39;49m\u001b[43m_sslobj\u001b[49m\u001b[38;5;241;43m.\u001b[39;49m\u001b[43mread\u001b[49m\u001b[43m(\u001b[49m\u001b[38;5;28;43mlen\u001b[39;49m\u001b[43m,\u001b[49m\u001b[43m \u001b[49m\u001b[43mbuffer\u001b[49m\u001b[43m)\u001b[49m\n\u001b[0;32m   1100\u001b[0m     \u001b[38;5;28;01melse\u001b[39;00m:\n\u001b[0;32m   1101\u001b[0m         \u001b[38;5;28;01mreturn\u001b[39;00m \u001b[38;5;28mself\u001b[39m\u001b[38;5;241m.\u001b[39m_sslobj\u001b[38;5;241m.\u001b[39mread(\u001b[38;5;28mlen\u001b[39m)\n",
      "\u001b[1;31mKeyboardInterrupt\u001b[0m: "
     ]
    }
   ],
   "source": [
    "%%time\n",
    "# Reading the events file\n",
    "dtypes = {\n",
    "    \"time\": \"float32\",\n",
    "    \"type\": \"category\",\n",
    "    \"legMode\": \"category\",\n",
    "    \"actType\": \"category\", \n",
    "    \"primaryFuelLevel\": \"float64\",\n",
    "    \"legMode\": \"category\",\n",
    "    \"chargingPointType\":\"category\",\n",
    "    \"pricingModel\":\"category\",\n",
    "    \"parkingType\":\"category\",\n",
    "    \"mode\":\"category\",\n",
    "    \"personalVehicleAvailable\": \"category\",\n",
    "    \"person\": \"object\",\n",
    "    \"driver\": \"object\",\n",
    "    \"riders\": \"object\"\n",
    "}\n",
    "\n",
    "# Use list comprehension to remove the unwanted column in **usecol**\n",
    "eventsSF = pd.read_csv(loc_2018_rhFleetsz175 + '0.events.csv.gz', compression = 'gzip', dtype = dtypes)"
   ]
  },
  {
   "cell_type": "code",
   "execution_count": 5,
   "id": "e44a5a90",
   "metadata": {},
   "outputs": [],
   "source": [
    "# Show all columns and rows\n",
    "pd.options.display.max_columns = None\n",
    "pd.options.display.max_rows = None"
   ]
  },
  {
   "cell_type": "code",
   "execution_count": 6,
   "id": "c33f5570",
   "metadata": {},
   "outputs": [
    {
     "ename": "NameError",
     "evalue": "name 'eventsSF' is not defined",
     "output_type": "error",
     "traceback": [
      "\u001b[1;31m---------------------------------------------------------------------------\u001b[0m",
      "\u001b[1;31mNameError\u001b[0m                                 Traceback (most recent call last)",
      "Input \u001b[1;32mIn [6]\u001b[0m, in \u001b[0;36m<cell line: 1>\u001b[1;34m()\u001b[0m\n\u001b[1;32m----> 1\u001b[0m \u001b[43meventsSF\u001b[49m[\u001b[38;5;124m'\u001b[39m\u001b[38;5;124mscenario\u001b[39m\u001b[38;5;124m'\u001b[39m] \u001b[38;5;241m=\u001b[39m \u001b[38;5;124m\"\u001b[39m\u001b[38;5;124mridehail_fleetsz_1p75\u001b[39m\u001b[38;5;124m\"\u001b[39m\n\u001b[0;32m      2\u001b[0m eventsSF[\u001b[38;5;124m'\u001b[39m\u001b[38;5;124myear\u001b[39m\u001b[38;5;124m'\u001b[39m] \u001b[38;5;241m=\u001b[39m \u001b[38;5;124m'\u001b[39m\u001b[38;5;124m2018\u001b[39m\u001b[38;5;124m'\u001b[39m\n",
      "\u001b[1;31mNameError\u001b[0m: name 'eventsSF' is not defined"
     ]
    }
   ],
   "source": [
    "eventsSF['scenario'] = \"ridehail_fleetsz_1p75\"\n",
    "eventsSF['year'] = '2018'"
   ]
  },
  {
   "cell_type": "code",
   "execution_count": null,
   "id": "2fbd0c93",
   "metadata": {},
   "outputs": [],
   "source": [
    "# Rename the \"mode\" column\n",
    "eventsSF.rename(columns={\"mode\":\"modeBEAM\"}, inplace=True) \n",
    "# Replace \"Work\" with \"work\" in the \"actType\" column\n",
    "eventsSF[\"actType\"].replace({\"Work\": \"work\"}, inplace=True)"
   ]
  },
  {
   "cell_type": "code",
   "execution_count": null,
   "id": "2075bac6",
   "metadata": {},
   "outputs": [],
   "source": [
    "eventsSFCopy = eventsSF.copy()"
   ]
  },
  {
   "cell_type": "code",
   "execution_count": null,
   "id": "15504d2b",
   "metadata": {},
   "outputs": [],
   "source": [
    "# deadhead = eventsSF[eventsSF.person.str.contains(\"Agent\", na=False)].reset_index(drop=True)\n",
    "# When there are no riders. Driver and person are not numbers, but include \"Agent\""
   ]
  },
  {
   "cell_type": "code",
   "execution_count": null,
   "id": "f2d74acd",
   "metadata": {},
   "outputs": [],
   "source": [
    "# Remove person = TransitDriver or RidehailDriver because there are no agent information in these rows\n",
    "eventsSF = eventsSF[~eventsSF.person.str.contains(\"Agent\", na=False)].reset_index(drop=True)"
   ]
  },
  {
   "cell_type": "code",
   "execution_count": null,
   "id": "d64b6a6f",
   "metadata": {},
   "outputs": [],
   "source": [
    "# shift column 'person' to first position\n",
    "first_column = eventsSF.pop('person')\n",
    "second_column = eventsSF.pop('driver')\n",
    "third_column = eventsSF.pop('riders')\n",
    "# insert column using insert(position,column_name,first_column) function\n",
    "eventsSF.insert(0, 'person', first_column)\n",
    "eventsSF.insert(1, 'driver', second_column)\n",
    "eventsSF.insert(2, 'riders', third_column)"
   ]
  },
  {
   "cell_type": "code",
   "execution_count": null,
   "id": "77e7695a",
   "metadata": {},
   "outputs": [],
   "source": [
    "# Adding the IDMerged Column\n",
    "eventsSF['UniqueID'] = eventsSF['person'] #make a copy of the person column\n",
    "eventsSF['personID'] = np.where(eventsSF['person'].isin(eventsSF['driver']), eventsSF['person'], np.nan) \n",
    "eventsSF['driverID'] = np.where(eventsSF['driver'].isin(eventsSF['person']), eventsSF['driver'], np.nan)"
   ]
  },
  {
   "cell_type": "code",
   "execution_count": null,
   "id": "a9f2b0af",
   "metadata": {},
   "outputs": [],
   "source": [
    "# Merging person and driver ids in one column\n",
    "eventsSF['IDMerged'] = eventsSF['personID'].combine_first(eventsSF['driverID'])\n",
    "eventsSF['IDMerged'] = eventsSF['UniqueID'].combine_first(eventsSF['IDMerged'])"
   ]
  },
  {
   "cell_type": "code",
   "execution_count": null,
   "id": "70ccea79",
   "metadata": {},
   "outputs": [],
   "source": [
    "# Dropping unused columns\n",
    "eventsSF = eventsSF.drop(['personID','driverID','UniqueID'], axis=1) "
   ]
  },
  {
   "cell_type": "code",
   "execution_count": null,
   "id": "2f6d5d3d",
   "metadata": {},
   "outputs": [],
   "source": [
    "# Shift column 'IDMerged' to first position\n",
    "first_column = eventsSF.pop('IDMerged')\n",
    "# Insert column using insert(position,column_name,first_column) function\n",
    "eventsSF.insert(0, 'IDMerged', first_column)"
   ]
  },
  {
   "cell_type": "code",
   "execution_count": null,
   "id": "3dffe8cf",
   "metadata": {},
   "outputs": [],
   "source": [
    "%%time\n",
    "# Split the \"riders' column and replicated rows for every rider\n",
    "eventsSF['riders'] = eventsSF['riders'].str.split(':')\n",
    "eventsSF = eventsSF.explode('riders')"
   ]
  },
  {
   "cell_type": "code",
   "execution_count": null,
   "id": "cad273bc",
   "metadata": {},
   "outputs": [],
   "source": [
    "# Combine riderID with IDMerged\n",
    "eventsSF['riderID'] = np.where(eventsSF['riders'].isin(eventsSF['person']), eventsSF['riders'], np.nan)\n",
    "eventsSF['IDMerged'] = eventsSF['riderID'].combine_first(eventsSF['IDMerged'])"
   ]
  },
  {
   "cell_type": "code",
   "execution_count": null,
   "id": "65de33c2",
   "metadata": {},
   "outputs": [],
   "source": [
    "# Dropping unused columns\n",
    "eventsSF = eventsSF.drop(['riderID'], axis=1) "
   ]
  },
  {
   "cell_type": "code",
   "execution_count": null,
   "id": "d8a62eb1",
   "metadata": {},
   "outputs": [],
   "source": [
    "# Remove driver = TransitDriver or RidehailDriver for IDMerged = NAN because there are no agent information in these rows \n",
    "eventsSF = eventsSF[~((eventsSF.driver.str.contains(\"Agent\", na=False))&(eventsSF.IDMerged.isna()))].reset_index(drop=True)"
   ]
  },
  {
   "cell_type": "code",
   "execution_count": null,
   "id": "60db4199",
   "metadata": {
    "scrolled": true
   },
   "outputs": [],
   "source": [
    "IDnan = eventsSF[eventsSF['IDMerged'].isna()]\n",
    "IDnan.shape"
   ]
  },
  {
   "cell_type": "code",
   "execution_count": null,
   "id": "994ab676",
   "metadata": {},
   "outputs": [],
   "source": [
    "%%time\n",
    "# Filling NANs in ID related to charging events\n",
    "eventsSF[\"chargeID\"] = eventsSF.groupby('vehicle')['IDMerged'].transform(lambda x: x.ffill().bfill())"
   ]
  },
  {
   "cell_type": "code",
   "execution_count": null,
   "id": "0165322c",
   "metadata": {},
   "outputs": [],
   "source": [
    "# Combining chargeID with IDMerged so no NANs anymore\n",
    "eventsSF['IDMerged'] = eventsSF['chargeID'].combine_first(eventsSF['IDMerged'])"
   ]
  },
  {
   "cell_type": "code",
   "execution_count": null,
   "id": "525d0231",
   "metadata": {},
   "outputs": [],
   "source": [
    "IDnan = eventsSF[eventsSF['IDMerged'].isna()]\n",
    "IDnan.shape"
   ]
  },
  {
   "cell_type": "code",
   "execution_count": null,
   "id": "dff0f0d9",
   "metadata": {},
   "outputs": [],
   "source": [
    "# Dropping unused columns\n",
    "eventsSF = eventsSF.drop(['chargeID'], axis=1) "
   ]
  },
  {
   "cell_type": "code",
   "execution_count": null,
   "id": "b819d698",
   "metadata": {},
   "outputs": [],
   "source": [
    "print(eventsSF.currentTourMode.unique().tolist())"
   ]
  },
  {
   "cell_type": "code",
   "execution_count": null,
   "id": "538ab648",
   "metadata": {},
   "outputs": [],
   "source": [
    "print(eventsSF.modeBEAM.unique().tolist())"
   ]
  },
  {
   "cell_type": "code",
   "execution_count": null,
   "id": "3d13d123",
   "metadata": {},
   "outputs": [],
   "source": [
    "print(eventsSF.type.unique().tolist())"
   ]
  },
  {
   "cell_type": "code",
   "execution_count": null,
   "id": "ad36c06d",
   "metadata": {},
   "outputs": [],
   "source": [
    "%%time\n",
    "# Change the IDMerged column type to numeric\n",
    "eventsSF[\"IDMerged\"] = pd.to_numeric(eventsSF.IDMerged)"
   ]
  },
  {
   "cell_type": "code",
   "execution_count": null,
   "id": "983217d8",
   "metadata": {},
   "outputs": [],
   "source": [
    "# Sort by IDMerged and time columns\n",
    "eventsSF = eventsSF.sort_values(['IDMerged','time']).reset_index(drop=True)"
   ]
  },
  {
   "cell_type": "code",
   "execution_count": null,
   "id": "2db653ae",
   "metadata": {},
   "outputs": [],
   "source": [
    "# We assume that the number of passengers is 1 for ride_hail_pooled\n",
    "eventsSF['modeBEAM_rh'] = np.where(eventsSF.driver.str.contains(\"rideHailAgent\", na=False), 'ride_hail' , eventsSF['modeBEAM'])"
   ]
  },
  {
   "cell_type": "code",
   "execution_count": null,
   "id": "bd4c6384",
   "metadata": {},
   "outputs": [],
   "source": [
    "# Adding teleportation mode to the type = TeleportationEvent row \n",
    "eventsSF[\"modeBEAM_rh\"] = np.where(eventsSF['type']=='TeleportationEvent', eventsSF.modeBEAM_rh.fillna(method='ffill'), eventsSF[\"modeBEAM_rh\"])"
   ]
  },
  {
   "cell_type": "code",
   "execution_count": null,
   "id": "4e1ba837",
   "metadata": {},
   "outputs": [],
   "source": [
    "eventsSF['modeBEAM_rh_pooled'] = np.where((eventsSF['type'] == 'PersonCost') & (eventsSF['modeBEAM'] == 'ride_hail_pooled'), 'ride_hail_pooled', np.nan)"
   ]
  },
  {
   "cell_type": "code",
   "execution_count": null,
   "id": "3339c5df",
   "metadata": {},
   "outputs": [],
   "source": [
    "eventsSF['modeBEAM_rh_ride_hail_transit'] = np.where((eventsSF['type'] == 'PersonCost') & (eventsSF['modeBEAM'] == 'ride_hail_transit'), 'ride_hail_transit', np.nan)"
   ]
  },
  {
   "cell_type": "code",
   "execution_count": null,
   "id": "e1eb832e",
   "metadata": {},
   "outputs": [],
   "source": [
    "eventsSF['modeBEAM_rh_pooled'] = eventsSF['modeBEAM_rh_pooled'].shift(+1)"
   ]
  },
  {
   "cell_type": "code",
   "execution_count": null,
   "id": "92e73beb",
   "metadata": {},
   "outputs": [],
   "source": [
    "eventsSF['modeBEAM_rh_ride_hail_transit'] = eventsSF['modeBEAM_rh_ride_hail_transit'].shift(+1)"
   ]
  },
  {
   "cell_type": "code",
   "execution_count": null,
   "id": "120a46e0",
   "metadata": {},
   "outputs": [],
   "source": [
    "eventsSF['modeBEAM_rh'] = np.where((eventsSF['type'] == 'PathTraversal') & (eventsSF['modeBEAM'] == 'car') & (eventsSF['driver'].str.contains(\"rideHailAgent\", na=False)) & (eventsSF['modeBEAM_rh_pooled'] != 'nan'), eventsSF['modeBEAM_rh_pooled'], eventsSF['modeBEAM_rh'])"
   ]
  },
  {
   "cell_type": "code",
   "execution_count": null,
   "id": "99d82b22",
   "metadata": {},
   "outputs": [],
   "source": [
    "# We don't know if ridehail_transit is ride_hail or ride_hail_pooled\n",
    "eventsSF['modeBEAM_rh'] = np.where((eventsSF['type'] == 'PathTraversal') & (eventsSF['modeBEAM'] == 'car') & (eventsSF['driver'].str.contains(\"rideHailAgent\", na=False)) & (eventsSF['modeBEAM_rh_ride_hail_transit'] != 'nan'), eventsSF['modeBEAM_rh_ride_hail_transit'], eventsSF['modeBEAM_rh'])"
   ]
  },
  {
   "cell_type": "code",
   "execution_count": null,
   "id": "3db04d3f",
   "metadata": {},
   "outputs": [],
   "source": [
    "# Dropping the temporary columns\n",
    "eventsSF = eventsSF.drop(['modeBEAM_rh_pooled'], axis=1)\n",
    "eventsSF = eventsSF.drop(['modeBEAM_rh_ride_hail_transit'], axis=1)"
   ]
  },
  {
   "cell_type": "markdown",
   "id": "cb6f3a97",
   "metadata": {},
   "source": [
    "#### Adding census blocks"
   ]
  },
  {
   "cell_type": "code",
   "execution_count": null,
   "id": "fdaeafcc",
   "metadata": {},
   "outputs": [],
   "source": [
    "def addGeometryIdToDataFrame(df, gdf, xcol, ycol, idColumn=\"geometry\", df_geom='epsg:4326'):\n",
    "    gdf_data = gpd.GeoDataFrame(df, geometry=gpd.points_from_xy(df[xcol], df[ycol]))\n",
    "    gdf_data.crs = {'init': df_geom}\n",
    "    joined = gpd.sjoin(gdf_data.to_crs('epsg:26910'), gdf.to_crs('epsg:26910'))\n",
    "    gdf_data = gdf_data.merge(joined['blkgrpid'], left_index=True, right_index=True, how=\"left\")\n",
    "    gdf_data.rename(columns={'blkgrpid': idColumn}, inplace=True)\n",
    "    df = pd.DataFrame(gdf_data.drop(columns='geometry'))\n",
    "    df.drop(columns=[xcol, ycol], inplace=True)\n",
    "    return df.loc[~df.index.duplicated(keep='first'), :]"
   ]
  },
  {
   "cell_type": "code",
   "execution_count": null,
   "id": "411a779f",
   "metadata": {},
   "outputs": [],
   "source": [
    "BGs = gpd.read_file('C:/Shared-Work/Data/Scenario_2010_shp/641aa0d4-ce5b-4a81-9c30-8790c4ab8cfb202047-1-wkkklf.j5ouj.shp')"
   ]
  },
  {
   "cell_type": "code",
   "execution_count": null,
   "id": "fcc7abc2",
   "metadata": {},
   "outputs": [],
   "source": [
    "%%time\n",
    "eventsSF = addGeometryIdToDataFrame(eventsSF, BGs, 'startX', 'startY', 'BlockGroupStart')"
   ]
  },
  {
   "cell_type": "code",
   "execution_count": null,
   "id": "9eae57c0",
   "metadata": {},
   "outputs": [],
   "source": [
    "%%time\n",
    "eventsSF = addGeometryIdToDataFrame(eventsSF, BGs, 'endX', 'endY', 'BlockGroupEnd')"
   ]
  },
  {
   "cell_type": "markdown",
   "id": "fe8a8b31",
   "metadata": {},
   "source": [
    "#### Adding new columns"
   ]
  },
  {
   "cell_type": "code",
   "execution_count": null,
   "id": "ff786a3b",
   "metadata": {},
   "outputs": [],
   "source": [
    "eventsSF['actEndTime'] = np.where(eventsSF['type']=='actend'\n",
    "                     , eventsSF['time'], np.nan)"
   ]
  },
  {
   "cell_type": "code",
   "execution_count": null,
   "id": "57f2a46c",
   "metadata": {},
   "outputs": [],
   "source": [
    "eventsSF['actStartTime'] = np.where(eventsSF['type']=='actstart'\n",
    "                     , eventsSF['time'], np.nan)   "
   ]
  },
  {
   "cell_type": "code",
   "execution_count": null,
   "id": "0f47b8ee",
   "metadata": {},
   "outputs": [],
   "source": [
    "eventsSF['duration_total'] = np.where((eventsSF['type']=='PathTraversal')|(eventsSF['type']=='TeleportationEvent')\n",
    "                     , eventsSF['arrivalTime'] - eventsSF['departureTime'], np.nan)"
   ]
  },
  {
   "cell_type": "code",
   "execution_count": null,
   "id": "7e427fd1",
   "metadata": {},
   "outputs": [],
   "source": [
    "eventsSF['distance_total'] = np.where((eventsSF['type']=='PathTraversal')|((eventsSF['type']=='ModeChoice')&((eventsSF['modeBEAM']=='hov2_teleportation')|(eventsSF['modeBEAM']=='hov3_teleportation'))), eventsSF['length'], np.nan)"
   ]
  },
  {
   "cell_type": "code",
   "execution_count": null,
   "id": "63c8c08a",
   "metadata": {},
   "outputs": [],
   "source": [
    "eventsSF['distance_mode_choice'] = np.where(eventsSF['type']=='ModeChoice', eventsSF['length'], np.nan)"
   ]
  },
  {
   "cell_type": "code",
   "execution_count": null,
   "id": "6403c92a",
   "metadata": {},
   "outputs": [],
   "source": [
    "eventsSF['duration_walking'] = np.where(eventsSF['modeBEAM']=='walk', eventsSF['duration_total'], np.nan)"
   ]
  },
  {
   "cell_type": "code",
   "execution_count": null,
   "id": "9edb77aa",
   "metadata": {},
   "outputs": [],
   "source": [
    "eventsSF['distance_walking'] = np.where(eventsSF['modeBEAM']=='walk', eventsSF['distance_total'], np.nan)"
   ]
  },
  {
   "cell_type": "code",
   "execution_count": null,
   "id": "d4a0af57",
   "metadata": {},
   "outputs": [],
   "source": [
    "eventsSF['duration_on_bike'] = np.where(eventsSF['modeBEAM']=='bike', eventsSF['duration_total'], np.nan)"
   ]
  },
  {
   "cell_type": "code",
   "execution_count": null,
   "id": "148a3dbe",
   "metadata": {},
   "outputs": [],
   "source": [
    "eventsSF['distance_bike'] = np.where(eventsSF['modeBEAM']=='bike', eventsSF['distance_total'], np.nan)"
   ]
  },
  {
   "cell_type": "code",
   "execution_count": null,
   "id": "3624b92a",
   "metadata": {},
   "outputs": [],
   "source": [
    "eventsSF['duration_in_ridehail'] = np.where((eventsSF['modeBEAM_rh']=='ride_hail')|(eventsSF['modeBEAM_rh']=='ride_hail_pooled')|(eventsSF['modeBEAM_rh']=='ride_hail_transit'), \n",
    "                                            eventsSF['duration_total'], np.nan)"
   ]
  },
  {
   "cell_type": "code",
   "execution_count": null,
   "id": "90d4c42d",
   "metadata": {},
   "outputs": [],
   "source": [
    "eventsSF['distance_ridehail'] = np.where((eventsSF['modeBEAM_rh']=='ride_hail')|(eventsSF['modeBEAM_rh']=='ride_hail_pooled')|(eventsSF['modeBEAM_rh']=='ride_hail_transit'), eventsSF['distance_total'], np.nan)"
   ]
  },
  {
   "cell_type": "code",
   "execution_count": null,
   "id": "4bb825fb",
   "metadata": {},
   "outputs": [],
   "source": [
    "eventsSF['duration_in_privateCar'] = np.where((eventsSF['modeBEAM_rh']=='car')|(eventsSF['modeBEAM_rh']=='car_hov3')|(eventsSF['modeBEAM_rh']=='car_hov2')|\n",
    "                                              (eventsSF['modeBEAM_rh']=='hov2_teleportation')|(eventsSF['modeBEAM_rh']=='hov3_teleportation') \n",
    "                                              , eventsSF['duration_total'], np.nan)"
   ]
  },
  {
   "cell_type": "code",
   "execution_count": null,
   "id": "3473c8da",
   "metadata": {},
   "outputs": [],
   "source": [
    "eventsSF['distance_privateCar'] = np.where((eventsSF['modeBEAM_rh']=='car')|(eventsSF['modeBEAM_rh']=='car_hov3')|(eventsSF['modeBEAM_rh']=='car_hov2')|\n",
    "                                              (eventsSF['modeBEAM_rh']=='hov2_teleportation')|(eventsSF['modeBEAM_rh']=='hov3_teleportation'), eventsSF['distance_total'], np.nan)"
   ]
  },
  {
   "cell_type": "code",
   "execution_count": null,
   "id": "0b735038",
   "metadata": {},
   "outputs": [],
   "source": [
    "eventsSF['duration_in_transit'] = np.where((eventsSF['modeBEAM']=='bike_transit')|(eventsSF['modeBEAM']=='drive_transit')|\n",
    "                                           (eventsSF['modeBEAM']=='walk_transit')|(eventsSF['modeBEAM']=='bus')|\n",
    "                                           (eventsSF['modeBEAM']=='tram')|(eventsSF['modeBEAM']=='subway')|\n",
    "                                           (eventsSF['modeBEAM']=='rail')|(eventsSF['modeBEAM']=='cable_car')|\n",
    "                                           (eventsSF['modeBEAM']=='ride_hail_transit'), eventsSF['duration_total'], np.nan)"
   ]
  },
  {
   "cell_type": "code",
   "execution_count": null,
   "id": "92c358e1",
   "metadata": {},
   "outputs": [],
   "source": [
    "eventsSF['distance_transit'] = np.where((eventsSF['modeBEAM']=='bike_transit')|(eventsSF['modeBEAM']=='drive_transit')|\n",
    "                                        (eventsSF['modeBEAM']=='walk_transit')|(eventsSF['modeBEAM']=='bus')|\n",
    "                                        (eventsSF['modeBEAM']=='tram')|(eventsSF['modeBEAM']=='subway')|\n",
    "                                        (eventsSF['modeBEAM']=='rail')|(eventsSF['modeBEAM']=='cable_car')|\n",
    "                                        (eventsSF['modeBEAM']=='ride_hail_transit'), eventsSF['distance_total'], np.nan)"
   ]
  },
  {
   "cell_type": "code",
   "execution_count": null,
   "id": "0b4e8ccd",
   "metadata": {},
   "outputs": [],
   "source": [
    "# Removing the extra tour index happening after replanning events\n",
    "eventsSF['replanningTime'] = np.where(eventsSF['type'] == 'Replanning', eventsSF['time'], np.nan)\n",
    "eventsSF['replanningTime'] = eventsSF['replanningTime'].shift(+1)\n",
    "eventsSF['tourIndex_fixed'] = np.where((eventsSF['type'] == 'ModeChoice')&(eventsSF['replanningTime'].notna()), np.nan, eventsSF['tourIndex'])"
   ]
  },
  {
   "cell_type": "code",
   "execution_count": null,
   "id": "1335cedb",
   "metadata": {},
   "outputs": [],
   "source": [
    "#eventsSF = eventsSF.set_index('IDMerged')"
   ]
  },
  {
   "cell_type": "code",
   "execution_count": null,
   "id": "60959843",
   "metadata": {},
   "outputs": [],
   "source": [
    "eventsSF.modeBEAM_rh.unique()"
   ]
  },
  {
   "cell_type": "code",
   "execution_count": null,
   "id": "2159f9a9",
   "metadata": {},
   "outputs": [],
   "source": [
    "eventsSF.primaryFuelType.unique()"
   ]
  },
  {
   "cell_type": "code",
   "execution_count": null,
   "id": "5beb42b2",
   "metadata": {},
   "outputs": [],
   "source": [
    "eventsSF['fuelFood'] = np.where((eventsSF['type']=='PathTraversal')&(eventsSF['primaryFuelType']=='Food'), \n",
    "                                eventsSF['primaryFuel'], np.nan)"
   ]
  },
  {
   "cell_type": "code",
   "execution_count": null,
   "id": "b2da6248",
   "metadata": {},
   "outputs": [],
   "source": [
    "#eventsSF['fuel_marginal_car_primary'] = np.where((eventsSF['type']=='PathTraversal')&((eventsSF['modeBEAM_rh']=='car')|\n",
    "                                         #(eventsSF['modeBEAM_rh']=='hov3_teleportation')|(eventsSF['modeBEAM_rh']=='hov2_teleportation')|\n",
    "                                         #(eventsSF['modeBEAM_rh']=='car_hov3')|(eventsSF['modeBEAM_rh']=='car_hov2')), \n",
    "                                #eventsSF['primaryFuel'], np.nan)"
   ]
  },
  {
   "cell_type": "code",
   "execution_count": null,
   "id": "4a66b044",
   "metadata": {},
   "outputs": [],
   "source": [
    "#eventsSF['fuel_marginal'] = np.where((eventsSF['modeBEAM_rh']=='PathTraversal')&(eventsSF['primaryFuelType']=='Electricity'), \n",
    "                                #eventsSF['primaryFuel'], np.nan)"
   ]
  },
  {
   "cell_type": "code",
   "execution_count": null,
   "id": "4104324f",
   "metadata": {},
   "outputs": [],
   "source": [
    "eventsSF['fuelElectricity'] = np.where((eventsSF['type']=='PathTraversal')&(eventsSF['primaryFuelType']=='Electricity'), \n",
    "                                eventsSF['primaryFuel'], np.nan)"
   ]
  },
  {
   "cell_type": "code",
   "execution_count": 66,
   "id": "32f9c7d4",
   "metadata": {},
   "outputs": [],
   "source": [
    "eventsSF['fuelDiesel'] = np.where((eventsSF['type']=='PathTraversal')&(eventsSF['primaryFuelType']=='Diesel'), \n",
    "                                eventsSF['primaryFuel'], np.nan)"
   ]
  },
  {
   "cell_type": "code",
   "execution_count": 67,
   "id": "e8f68e5c",
   "metadata": {},
   "outputs": [],
   "source": [
    "eventsSF['fuelBiodiesel'] = np.where((eventsSF['type']=='PathTraversal')&(eventsSF['primaryFuelType']=='Biodiesel'), \n",
    "                                eventsSF['primaryFuel'], np.nan)"
   ]
  },
  {
   "cell_type": "code",
   "execution_count": 68,
   "id": "5e752231",
   "metadata": {},
   "outputs": [],
   "source": [
    "eventsSF['fuel_not_Food'] = np.where((eventsSF['type']=='PathTraversal')&(eventsSF['primaryFuelType']!='Food')\n",
    "                            , eventsSF['primaryFuel']+eventsSF['secondaryFuel'], np.nan)"
   ]
  },
  {
   "cell_type": "code",
   "execution_count": 69,
   "id": "bfc1273e",
   "metadata": {},
   "outputs": [],
   "source": [
    "eventsSF['fuelGasoline'] = np.where((eventsSF['type']=='PathTraversal')&((eventsSF['primaryFuelType']=='Gasoline')|(eventsSF['secondaryFuelType']=='Gasoline')), \n",
    "                           eventsSF['primaryFuel']+eventsSF['secondaryFuel'], np.nan)"
   ]
  },
  {
   "cell_type": "code",
   "execution_count": 70,
   "id": "a62efea2",
   "metadata": {},
   "outputs": [],
   "source": [
    "# Marginal fuel\n",
    "conditions  = [(eventsSF['modeBEAM_rh'] == 'ride_hail_pooled'), \n",
    "               (eventsSF['modeBEAM_rh'] == 'walk_transit') | (eventsSF['modeBEAM_rh'] == 'drive_transit')|\n",
    "               (eventsSF['modeBEAM_rh'] == 'ride_hail_transit')|(eventsSF['modeBEAM_rh'] == 'bus')|(eventsSF['modeBEAM_rh'] == 'subway')|\n",
    "               (eventsSF['modeBEAM_rh'] == 'rail')|(eventsSF['modeBEAM_rh'] == 'tram')|(eventsSF['modeBEAM_rh'] == 'cable_car')|\n",
    "               (eventsSF['modeBEAM_rh'] == 'bike_transit'),\n",
    "               (eventsSF['modeBEAM_rh'] == 'walk')|(eventsSF['modeBEAM_rh'] == 'bike'),\n",
    "               (eventsSF['modeBEAM_rh'] == 'ride_hail')|(eventsSF['modeBEAM_rh'] == 'car')| \n",
    "               (eventsSF['modeBEAM_rh'] == 'car_hov2')| (eventsSF['modeBEAM_rh'] == 'car_hov3')|\n",
    "               (eventsSF['modeBEAM_rh'] == 'hov2_teleportation')| (eventsSF['modeBEAM_rh'] == 'hov3_teleportation')]\n",
    "choices = [eventsSF['fuel_not_Food']/eventsSF['numPassengers'], 0 , eventsSF['fuelFood'], eventsSF['fuel_not_Food']]"
   ]
  },
  {
   "cell_type": "code",
   "execution_count": 71,
   "id": "cdd142f0",
   "metadata": {},
   "outputs": [],
   "source": [
    "eventsSF['fuel_marginal'] = np.select(conditions, choices, default=np.nan)"
   ]
  },
  {
   "cell_type": "code",
   "execution_count": 72,
   "id": "1bb135e2",
   "metadata": {},
   "outputs": [],
   "source": [
    "eventsSF['actEndType'] = np.where(eventsSF['type']=='actend', eventsSF['actType'], \"\")"
   ]
  },
  {
   "cell_type": "code",
   "execution_count": 73,
   "id": "52f9f171",
   "metadata": {},
   "outputs": [],
   "source": [
    "eventsSF['actStartType'] = np.where(eventsSF['type']=='actstart', eventsSF['actType'], \"\")"
   ]
  },
  {
   "cell_type": "markdown",
   "id": "d3b8bb89",
   "metadata": {},
   "source": [
    "#### Trip Index"
   ]
  },
  {
   "cell_type": "code",
   "execution_count": 74,
   "id": "5be797be",
   "metadata": {},
   "outputs": [],
   "source": [
    "#eventsSF[\"tripIndex\"] = eventsSF.groupby(\"IDMerged\")[\"tourIndex_fixed\"].rank(method=\"first\", ascending=True)\n",
    "eventsSF[\"tripIndex\"] = eventsSF.tripId.fillna(method='ffill')"
   ]
  },
  {
   "cell_type": "markdown",
   "id": "1c6d23ef",
   "metadata": {},
   "source": [
    "#### Previous code for mode choice "
   ]
  },
  {
   "cell_type": "code",
   "execution_count": 75,
   "id": "4825f1e2",
   "metadata": {},
   "outputs": [],
   "source": [
    "# Make a new column which determined mode choice numbers for each person and trip\n",
    "#s = eventsSF.groupby(['IDMerged','tripIndex', 'type']).cumcount().add(1).astype(str).str.zfill(2)"
   ]
  },
  {
   "cell_type": "code",
   "execution_count": 76,
   "id": "cc39f0f5",
   "metadata": {},
   "outputs": [],
   "source": [
    "#eventsSF['type_number'] = eventsSF['type'].astype(str) + s.astype(str)"
   ]
  },
  {
   "cell_type": "code",
   "execution_count": 77,
   "id": "77a00909",
   "metadata": {},
   "outputs": [],
   "source": [
    "#eventsSF['mode_choice_planned_BEAM'] = np.where(eventsSF['type_number'] == 'ModeChoice01' , eventsSF['modeBEAM_rh'], np.nan)"
   ]
  },
  {
   "cell_type": "code",
   "execution_count": 78,
   "id": "5f8dccfd",
   "metadata": {},
   "outputs": [],
   "source": [
    "# Just showing the mode choice after replanning\n",
    "#eventsSF['mode_choice_replanned_BEAM'] = np.where(eventsSF['type_number'] == 'ModeChoice02', eventsSF['modeBEAM_rh'], np.nan)"
   ]
  },
  {
   "cell_type": "markdown",
   "id": "07192d10",
   "metadata": {},
   "source": [
    "#### Only works if we have one replanning event"
   ]
  },
  {
   "cell_type": "code",
   "execution_count": 79,
   "id": "1dc7444b",
   "metadata": {},
   "outputs": [],
   "source": [
    "# Showing both mode choices before and after the replanning event\n",
    "#eventsSF['mode_choice_act'] = eventsSF['mode_choice_replanned_BEAM'].combine_first(eventsSF['mode_choice_planned_BEAM'])"
   ]
  },
  {
   "cell_type": "code",
   "execution_count": 80,
   "id": "9e832fb2",
   "metadata": {},
   "outputs": [],
   "source": [
    "# If replanned, then the status is 1\n",
    "#eventsSF['replanning_status'] = np.where(eventsSF['mode_choice_replanned_BEAM'].notna() , 1, np.nan)"
   ]
  },
  {
   "cell_type": "code",
   "execution_count": 81,
   "id": "afb3a3b2",
   "metadata": {},
   "outputs": [],
   "source": [
    "# Group by and fill all the rows related to the replanning event\n",
    "#eventsSF[\"replanning_status\"] = eventsSF.groupby(['IDMerged','tripIndex'], as_index=False)['replanning_status'].transform(lambda x: x.ffill().bfill())"
   ]
  },
  {
   "cell_type": "code",
   "execution_count": 82,
   "id": "d7cebe18",
   "metadata": {},
   "outputs": [],
   "source": [
    "# Put all non-replanning events equal to 0\n",
    "#eventsSF[\"replanning_status\"] = np.where(eventsSF['replanning_status'].isna(), 0, eventsSF['replanning_status']).astype(int)"
   ]
  },
  {
   "cell_type": "code",
   "execution_count": 83,
   "id": "ca3f3675",
   "metadata": {},
   "outputs": [],
   "source": [
    "#eventsSF['mode_choice_actual_BEAM'] = np.where((eventsSF['replanning_status'] == 1) & (eventsSF['type_number']=='ModeChoice01'), np.nan, eventsSF['mode_choice_act'])"
   ]
  },
  {
   "cell_type": "code",
   "execution_count": 84,
   "id": "fd398fd2",
   "metadata": {},
   "outputs": [],
   "source": [
    "#eventsSF = eventsSF.drop(['mode_choice_act'], axis = 1)"
   ]
  },
  {
   "cell_type": "code",
   "execution_count": 85,
   "id": "bcbc79ab",
   "metadata": {},
   "outputs": [],
   "source": [
    "#eventsSF[eventsSF['type'] == \"Replanning\"].tail(16)"
   ]
  },
  {
   "cell_type": "code",
   "execution_count": 86,
   "id": "1fe9bdfc",
   "metadata": {},
   "outputs": [],
   "source": [
    "#num_pass.to_csv('C:/Shared-Work/Data/CleanData/num_pass.csv', index = False)"
   ]
  },
  {
   "cell_type": "code",
   "execution_count": 87,
   "id": "be846e6d",
   "metadata": {},
   "outputs": [],
   "source": [
    "#eventsSF[\"mode_choice_replanned_BEAM\"] = eventsSF.groupby(['IDMerged','tripIndex'])['mode_choice_replanned_BEAM'].transform(lambda x: x.bfill())"
   ]
  },
  {
   "cell_type": "code",
   "execution_count": 88,
   "id": "24653ae4",
   "metadata": {},
   "outputs": [],
   "source": [
    "#eventsSF['mode_choice_actual_BEAM'] = eventsSF['mode_choice_actual_BEAM'].combine_first(eventsSF['modeBEAM_rh'])"
   ]
  },
  {
   "cell_type": "code",
   "execution_count": 89,
   "id": "76749909",
   "metadata": {},
   "outputs": [],
   "source": [
    "#eventsSF['mode_planned_tour_ActSim'] = np.where(eventsSF['type'] == 'PathTraversal', eventsSF['currentTourMode'], np.nan)"
   ]
  },
  {
   "cell_type": "code",
   "execution_count": 80,
   "id": "c4fa0d0a",
   "metadata": {},
   "outputs": [],
   "source": [
    "#eventsSF.head(10000).to_csv('C:/Shared-Work/Data/CleanData/eventsNew_check.csv', index = False)   "
   ]
  },
  {
   "cell_type": "code",
   "execution_count": 81,
   "id": "c45955c5",
   "metadata": {},
   "outputs": [],
   "source": [
    "#eventsSF['numPassengers_agg'] = eventsSF.groupby(['IDMerged','tripIndex'], as_index=False).numPassengers.agg(lambda x: ', '.join(set(x.dropna().astype(str))))"
   ]
  },
  {
   "cell_type": "markdown",
   "id": "3bd20fe1",
   "metadata": {},
   "source": [
    "#### Mode Choice planned and actual"
   ]
  },
  {
   "cell_type": "code",
   "execution_count": 75,
   "id": "9ecaf4ba",
   "metadata": {},
   "outputs": [
    {
     "name": "stdout",
     "output_type": "stream",
     "text": [
      "Wall time: 1min 27s\n"
     ]
    }
   ],
   "source": [
    "%%time\n",
    "eventsSF['mode_choice_actual_BEAM'] = eventsSF.groupby(['IDMerged','tripId', 'type'])['modeBEAM'].transform('last')"
   ]
  },
  {
   "cell_type": "code",
   "execution_count": 76,
   "id": "ed171398",
   "metadata": {},
   "outputs": [
    {
     "name": "stdout",
     "output_type": "stream",
     "text": [
      "Wall time: 1min 27s\n"
     ]
    }
   ],
   "source": [
    "%%time\n",
    "eventsSF['mode_choice_planned_BEAM'] = eventsSF.groupby(['IDMerged','tripId', 'type'])['modeBEAM'].transform('first')"
   ]
  },
  {
   "cell_type": "code",
   "execution_count": 77,
   "id": "723f03e6",
   "metadata": {},
   "outputs": [],
   "source": [
    "eventsSF['mode_choice_actual_BEAM'] = np.where(eventsSF['type'] != 'ModeChoice' , np.nan, eventsSF['mode_choice_actual_BEAM'])"
   ]
  },
  {
   "cell_type": "code",
   "execution_count": 78,
   "id": "8bac64c3",
   "metadata": {},
   "outputs": [],
   "source": [
    "eventsSF['mode_choice_planned_BEAM'] = np.where(eventsSF['type'] != 'ModeChoice' , np.nan, eventsSF['mode_choice_planned_BEAM'])"
   ]
  },
  {
   "cell_type": "code",
   "execution_count": 79,
   "id": "bd021670",
   "metadata": {},
   "outputs": [],
   "source": [
    "# Rename the \"netCost\" column\n",
    "eventsSF.rename(columns={\"netCost\":\"cost_BEAM\"}, inplace=True) "
   ]
  },
  {
   "cell_type": "code",
   "execution_count": 80,
   "id": "2bfdc471",
   "metadata": {},
   "outputs": [],
   "source": [
    "#eventsSF[eventsSF['type']=='Replanning'].head()"
   ]
  },
  {
   "cell_type": "code",
   "execution_count": 81,
   "id": "6dca051c",
   "metadata": {},
   "outputs": [],
   "source": [
    "# Replanning events = 1, the rest = 0\n",
    "eventsSF['replanning_status'] = np.where(eventsSF['type']=='Replanning', 1, 0)"
   ]
  },
  {
   "cell_type": "code",
   "execution_count": 97,
   "id": "5b68f6e4",
   "metadata": {},
   "outputs": [],
   "source": [
    "#q = eventsSF[eventsSF['IDMerged'] == 6902751]"
   ]
  },
  {
   "cell_type": "code",
   "execution_count": 98,
   "id": "951f38c5",
   "metadata": {},
   "outputs": [],
   "source": [
    "#q.to_csv('C:/Shared-Work/Data/CleanData/PivotTables/fake2.csv')   "
   ]
  },
  {
   "cell_type": "code",
   "execution_count": null,
   "id": "11d6986e",
   "metadata": {},
   "outputs": [],
   "source": [
    "%%time\n",
    "eventsSF['reason'].replace('nan', np.NaN)"
   ]
  },
  {
   "cell_type": "code",
   "execution_count": null,
   "id": "e2809aa0",
   "metadata": {},
   "outputs": [],
   "source": [
    "eventsSF['transit_bus'] = np.where(eventsSF['modeBEAM_rh']=='bus', 1, 0)\n",
    "eventsSF['transit_subway'] = np.where(eventsSF['modeBEAM_rh']=='subway', 1, 0)\n",
    "eventsSF['transit_tram'] = np.where(eventsSF['modeBEAM_rh']=='tram', 1, 0)\n",
    "eventsSF['transit_rail'] = np.where(eventsSF['modeBEAM_rh']=='rail', 1, 0)\n",
    "eventsSF['transit_cable_car'] = np.where(eventsSF['modeBEAM_rh']=='cable_car', 1, 0)"
   ]
  },
  {
   "cell_type": "code",
   "execution_count": null,
   "id": "07b5229c",
   "metadata": {},
   "outputs": [],
   "source": [
    "eventsSF['ride_hail_pooled'] = np.where(eventsSF['modeBEAM_rh']=='ride_hail_pooled', 1, 0)"
   ]
  },
  {
   "cell_type": "code",
   "execution_count": 102,
   "id": "b38ec0a9",
   "metadata": {},
   "outputs": [],
   "source": [
    "#transit_data = eventsSF[(eventsSF['modeBEAM_rh'] == \"bus\") | (eventsSF['modeBEAM_rh'] == \"subway\") \n",
    "#                        | (eventsSF['modeBEAM_rh'] == 'walk_transit') | (eventsSF['modeBEAM_rh'] == 'ride_hail_transit') \n",
    "#                        | (eventsSF['modeBEAM_rh'] == 'bike_transit') | (eventsSF['modeBEAM_rh'] == 'drive_transit') \n",
    "#                        | (eventsSF['modeBEAM_rh'] == 'cable_car') | (eventsSF['modeBEAM_rh'] == 'rail') \n",
    "#                        | (eventsSF['modeBEAM_rh'] == 'tram')]"
   ]
  },
  {
   "cell_type": "code",
   "execution_count": 103,
   "id": "c1e341f6",
   "metadata": {},
   "outputs": [],
   "source": [
    "#eventsSF.loc['Total',:]= df.sum(axis=0)"
   ]
  },
  {
   "cell_type": "code",
   "execution_count": null,
   "id": "44422855",
   "metadata": {},
   "outputs": [],
   "source": [
    "#eventsSF.type[eventsSF.type == 'Replanning'].count()"
   ]
  },
  {
   "cell_type": "code",
   "execution_count": null,
   "id": "ebaa048d",
   "metadata": {},
   "outputs": [],
   "source": [
    "#Person_Trip_eventsSF.replanning_status[Person_Trip_eventsSF.replanning_status == 0].count()"
   ]
  },
  {
   "cell_type": "code",
   "execution_count": null,
   "id": "d7a8619c",
   "metadata": {},
   "outputs": [],
   "source": [
    "#rh_transit5 = eventsSF[eventsSF['IDMerged']== 3671596]"
   ]
  },
  {
   "cell_type": "code",
   "execution_count": null,
   "id": "bf4b40fc",
   "metadata": {},
   "outputs": [],
   "source": [
    "#rh_transit5.to_csv('C:/Shared-Work/Data/CleanData/rh_transit5.csv', index = False)"
   ]
  },
  {
   "cell_type": "code",
   "execution_count": 69,
   "id": "26dba60e",
   "metadata": {},
   "outputs": [],
   "source": [
    "eventsSFCopy = eventsSF.copy()"
   ]
  },
  {
   "cell_type": "code",
   "execution_count": 133,
   "id": "59ec2a8e",
   "metadata": {},
   "outputs": [],
   "source": [
    "eventsSF.head(500000).to_csv('C:/Shared-Work/Data/CleanData/modeBEAMCHECK.csv', index = False)"
   ]
  },
  {
   "cell_type": "code",
   "execution_count": null,
   "id": "4a679675",
   "metadata": {},
   "outputs": [],
   "source": [
    "%%time\n",
    "Person_Trip_eventsSF = pd.pivot_table(\n",
    "   eventsSF,\n",
    "   index=['IDMerged','tripIndex'],\n",
    "   aggfunc={'actStartTime': np.sum, 'actEndTime': np.sum, 'duration_total': np.sum, 'cost_BEAM': np.sum, 'actStartType': np.sum, \n",
    "            'actEndType': np.sum, 'duration_walking': np.sum, 'duration_in_privateCar': np.sum, 'duration_on_bike': np.sum, \n",
    "            'duration_in_ridehail': np.sum, 'distance_total': np.sum, 'duration_in_transit': np.sum, 'distance_walking': np.sum, \n",
    "            'distance_bike': np.sum, 'distance_ridehail': np.sum, 'distance_privateCar': np.sum, 'distance_transit': np.sum, \n",
    "            'legVehicleIds': np.sum, \n",
    "            'mode_choice_planned_BEAM':lambda x: ', '.join(set(x.dropna().astype(str))),\n",
    "            'mode_choice_actual_BEAM':lambda x: ', '.join(set(x.dropna().astype(str))),\n",
    "            'vehicle': lambda x: ', '.join(set(x.dropna().astype(str))),\n",
    "            'numPassengers': lambda x: ', '.join(list(x.dropna().astype(str))),\n",
    "            'distance_mode_choice': np.sum,\n",
    "            'replanning_status': np.sum,\n",
    "            'reason': lambda x: ', '.join(list(x.dropna().astype(str))),\n",
    "            'parkingType': lambda x: ', '.join(list(x.dropna().astype(str))),\n",
    "            'transit_bus': np.sum, 'transit_subway': np.sum, 'transit_tram': np.sum, 'transit_cable_car': np.sum,\n",
    "            'ride_hail_pooled': np.sum, 'transit_rail': np.sum,\n",
    "            'year': lambda x: ', '.join(set(x.dropna().astype(str))),\n",
    "            'scenario': lambda x: ', '.join(set(x.dropna().astype(str))),\n",
    "            'fuelFood': np.sum, 'fuelElectricity': np.sum, 'fuelBiodiesel': np.sum, \n",
    "            'fuelDiesel': np.sum, 'fuel_not_Food': np.sum, 'fuelGasoline': np.sum, 'fuel_marginal': np.sum,\n",
    "            'BlockGroupStart': 'first',\n",
    "            'BlockGroupEnd': 'last'}).reset_index() \n",
    "\n",
    "#'numPassengers': lambda x: ', '.join(set(x.dropna().astype(str))) \n",
    "#'mode_choice_actual_BEAM':lambda x: ', '.join(set(x.dropna().astype(str))) #\n",
    "#'modeBEAM_rh': lambda x: ', '.join(list(x.dropna().astype(str))), "
   ]
  },
  {
   "cell_type": "code",
   "execution_count": null,
   "id": "dc3ac897",
   "metadata": {},
   "outputs": [],
   "source": [
    "Person_Trip_eventsSF['duration_door_to_door'] = Person_Trip_eventsSF['actStartTime'] - Person_Trip_eventsSF['actEndTime'] "
   ]
  },
  {
   "cell_type": "code",
   "execution_count": null,
   "id": "03bd08b4",
   "metadata": {},
   "outputs": [],
   "source": [
    "Person_Trip_eventsSF['waitTime'] = Person_Trip_eventsSF['duration_door_to_door'] - Person_Trip_eventsSF['duration_total'] "
   ]
  },
  {
   "cell_type": "code",
   "execution_count": null,
   "id": "28560b3b",
   "metadata": {},
   "outputs": [],
   "source": [
    "Person_Trip_eventsSF['actPurpose'] = Person_Trip_eventsSF['actEndType'].astype(str) + \"_to_\" + Person_Trip_eventsSF['actStartType'].astype(str)"
   ]
  },
  {
   "cell_type": "code",
   "execution_count": null,
   "id": "2058e942",
   "metadata": {},
   "outputs": [],
   "source": [
    "#Person_Trip_eventsSF[Person_Trip_eventsSF['IDMerged'] == 2192]"
   ]
  },
  {
   "cell_type": "code",
   "execution_count": null,
   "id": "8634344b",
   "metadata": {},
   "outputs": [],
   "source": [
    "#Person_Trip_eventsSF.rename(columns={\"modeBEAM_rh\":\"mode_BEAM_list\"}, inplace=True) "
   ]
  },
  {
   "cell_type": "code",
   "execution_count": null,
   "id": "d3a96721",
   "metadata": {},
   "outputs": [],
   "source": [
    "Person_Trip_eventsSF.rename(columns={\"legVehicleIds\":\"vehicleIds_estimate\"}, inplace=True) "
   ]
  },
  {
   "cell_type": "code",
   "execution_count": null,
   "id": "b8d2f547",
   "metadata": {},
   "outputs": [],
   "source": [
    "Person_Trip_eventsSF.rename(columns={\"vehicle\":\"vehicleIds\"}, inplace=True) "
   ]
  },
  {
   "cell_type": "code",
   "execution_count": null,
   "id": "ab8aaa10",
   "metadata": {},
   "outputs": [],
   "source": [
    "#Person_Trip_eventsSF.door_to_door_time[Person_Trip_eventsSF.door_to_door_time<0].count()"
   ]
  },
  {
   "cell_type": "code",
   "execution_count": null,
   "id": "434cd548",
   "metadata": {},
   "outputs": [],
   "source": [
    "#negative_door = Person_Trip_eventsSF[(Person_Trip_eventsSF.door_to_door_time<0)]"
   ]
  },
  {
   "cell_type": "code",
   "execution_count": null,
   "id": "3c0e1bd0",
   "metadata": {},
   "outputs": [],
   "source": [
    "# Column with five summarized modes\n",
    "conditions  = [(Person_Trip_eventsSF['mode_choice_actual_BEAM'] == 'ride_hail') | (Person_Trip_eventsSF['mode_choice_actual_BEAM'] == 'ride_hail_pooled'), \n",
    "               (Person_Trip_eventsSF['mode_choice_actual_BEAM'] == 'walk_transit') | (Person_Trip_eventsSF['mode_choice_actual_BEAM'] == 'drive_transit')| (Person_Trip_eventsSF['mode_choice_actual_BEAM'] == 'ride_hail_transit')|(Person_Trip_eventsSF['mode_choice_actual_BEAM'] == 'bike_transit'),\n",
    "               (Person_Trip_eventsSF['mode_choice_actual_BEAM'] == 'walk'), (Person_Trip_eventsSF['mode_choice_actual_BEAM'] == 'bike'),\n",
    "               (Person_Trip_eventsSF['mode_choice_actual_BEAM'] == 'car') | (Person_Trip_eventsSF['mode_choice_actual_BEAM'] == 'car_hov2')| (Person_Trip_eventsSF['mode_choice_actual_BEAM'] == 'car_hov3')|(Person_Trip_eventsSF['mode_choice_actual_BEAM'] == 'hov2_teleportation')| (Person_Trip_eventsSF['mode_choice_actual_BEAM'] == 'hov3_teleportation')]\n",
    "choices = [ 'ride_hail', 'transit', 'walk', 'bike', 'car']"
   ]
  },
  {
   "cell_type": "code",
   "execution_count": null,
   "id": "86cb946d",
   "metadata": {},
   "outputs": [],
   "source": [
    "Person_Trip_eventsSF['mode_choice_actual_5'] = np.select(conditions, choices, default=np.nan)"
   ]
  },
  {
   "cell_type": "code",
   "execution_count": null,
   "id": "5395ab24",
   "metadata": {},
   "outputs": [],
   "source": [
    "#negative_door.to_csv('C:/Shared-Work/Data/CleanData/PivotTables/negative_door.csv')   "
   ]
  },
  {
   "cell_type": "code",
   "execution_count": null,
   "id": "649260ae",
   "metadata": {},
   "outputs": [],
   "source": [
    "Person_Trip_eventsSF = Person_Trip_eventsSF.drop(Person_Trip_eventsSF[Person_Trip_eventsSF.duration_door_to_door < 0].index)"
   ]
  },
  {
   "cell_type": "code",
   "execution_count": null,
   "id": "2d2b37e2",
   "metadata": {},
   "outputs": [],
   "source": [
    "Person_Trip_eventsSF.to_csv('C:/Shared-Work/Data/CleanData/sf_2018_rh_flsz_1p75.csv', index = False)"
   ]
  },
  {
   "cell_type": "code",
   "execution_count": null,
   "id": "00b62b25",
   "metadata": {},
   "outputs": [],
   "source": [
    "#Person_Trip_eventsSF[Person_Trip_eventsSF['mode_choice_planned_BEAM'] == 'walk_transit'].head()"
   ]
  },
  {
   "cell_type": "code",
   "execution_count": null,
   "id": "0a7b4874",
   "metadata": {},
   "outputs": [],
   "source": []
  },
  {
   "cell_type": "markdown",
   "id": "557c5804",
   "metadata": {},
   "source": [
    "#### Merging with activity sim persons and housholds files"
   ]
  },
  {
   "cell_type": "code",
   "execution_count": null,
   "id": "fc9f6e38",
   "metadata": {},
   "outputs": [],
   "source": [
    "actloc_2018_baseline = \"https://beam-outputs.s3.amazonaws.com/pilates-outputs/sfbay-base-20220409/activitysim/\"\n",
    "actloc_2018_transitFreq05 = \"https://beam-outputs.s3.amazonaws.com/pilates-outputs/sfbay-transit_frequencies_0.5-20220228/activitysim/\"\n",
    "actloc_2018_transitFreq1p5 = \"https://beam-outputs.s3.amazonaws.com/pilates-outputs/sfbay-transit_frequencies_1.5-20220228/activitysim/\"\n",
    "actloc_2018_transitFreq2 = \"https://beam-outputs.s3.amazonaws.com/pilates-outputs/sfbay-transit_frequencies_2.0-20220229/activitysim/\"\n",
    "actloc_2018_rhFleetsz0125 = \"https://beam-outputs.s3.amazonaws.com/pilates-outputs/sfbay-RH_fleetsz_0.125-20220408/activitysim/\"\n",
    "actloc_2018_rhFleetsz175 = \"https://beam-outputs.s3.amazonaws.com/pilates-outputs/sfbay-RH_fleetsz_1.75-20220408/activitysim/\"\n",
    "\n",
    "households = pd.read_csv(actloc_2018_rhFleetsz175 + 'final_households.csv')\n",
    "persons = pd.read_csv(actloc_2018_rhFleetsz175 + 'final_persons.csv')\n",
    "tours = pd.read_csv(actloc_2018_rhFleetsz175 +'final_tours.csv')\n",
    "plans = pd.read_csv(actloc_2018_rhFleetsz175 +'final_plans.csv')\n",
    "trips = pd.read_csv(actloc_2018_rhFleetsz175 + 'final_trips.csv')"
   ]
  },
  {
   "cell_type": "code",
   "execution_count": null,
   "id": "2f940ac2",
   "metadata": {},
   "outputs": [],
   "source": [
    "#persons.earning[persons.earning<0].count()"
   ]
  },
  {
   "cell_type": "code",
   "execution_count": null,
   "id": "47b6ea7f",
   "metadata": {},
   "outputs": [],
   "source": [
    "# Merge households and persons \n",
    "persons = persons.sort_values(by=['household_id'])\n",
    "households = households.sort_values(by=['household_id'])\n",
    "hhpersons = pd.merge(left=persons, right=households, how='left', on='household_id')\n",
    "#hhpersons = pd.merge(left=persons, right=households, how='left', on='household_id', suffixes=('', '_drop'))\n",
    "#hhpersons.drop([col for col in hhpersons.columns if 'drop' in col], axis=1, inplace=True)"
   ]
  },
  {
   "cell_type": "code",
   "execution_count": 118,
   "id": "7dc697ce",
   "metadata": {},
   "outputs": [
    {
     "data": {
      "text/html": [
       "<div>\n",
       "<style scoped>\n",
       "    .dataframe tbody tr th:only-of-type {\n",
       "        vertical-align: middle;\n",
       "    }\n",
       "\n",
       "    .dataframe tbody tr th {\n",
       "        vertical-align: top;\n",
       "    }\n",
       "\n",
       "    .dataframe thead th {\n",
       "        text-align: right;\n",
       "    }\n",
       "</style>\n",
       "<table border=\"1\" class=\"dataframe\">\n",
       "  <thead>\n",
       "    <tr style=\"text-align: right;\">\n",
       "      <th></th>\n",
       "      <th>person_id</th>\n",
       "      <th>earning</th>\n",
       "      <th>worker</th>\n",
       "      <th>student</th>\n",
       "      <th>hispanic.1</th>\n",
       "      <th>person_sex</th>\n",
       "      <th>PNUM</th>\n",
       "      <th>sex</th>\n",
       "      <th>household_id</th>\n",
       "      <th>hours</th>\n",
       "      <th>MAR</th>\n",
       "      <th>person_age</th>\n",
       "      <th>edu</th>\n",
       "      <th>school_zone_id</th>\n",
       "      <th>race_id</th>\n",
       "      <th>race</th>\n",
       "      <th>work_at_home</th>\n",
       "      <th>age</th>\n",
       "      <th>work_zone_id</th>\n",
       "      <th>p_hispanic</th>\n",
       "      <th>relate</th>\n",
       "      <th>hispanic</th>\n",
       "      <th>TAZ_x</th>\n",
       "      <th>ptype</th>\n",
       "      <th>pemploy</th>\n",
       "      <th>pstudent</th>\n",
       "      <th>home_x</th>\n",
       "      <th>home_y</th>\n",
       "      <th>age_16_to_19</th>\n",
       "      <th>age_16_p</th>\n",
       "      <th>adult</th>\n",
       "      <th>male</th>\n",
       "      <th>female</th>\n",
       "      <th>has_non_worker</th>\n",
       "      <th>has_retiree</th>\n",
       "      <th>has_preschool_kid</th>\n",
       "      <th>has_driving_kid</th>\n",
       "      <th>has_school_kid</th>\n",
       "      <th>has_full_time</th>\n",
       "      <th>has_part_time</th>\n",
       "      <th>has_university</th>\n",
       "      <th>student_is_employed</th>\n",
       "      <th>nonstudent_to_school</th>\n",
       "      <th>is_student</th>\n",
       "      <th>is_gradeschool</th>\n",
       "      <th>is_highschool</th>\n",
       "      <th>is_university</th>\n",
       "      <th>school_segment</th>\n",
       "      <th>is_worker</th>\n",
       "      <th>home_taz</th>\n",
       "      <th>value_of_time</th>\n",
       "      <th>school_taz</th>\n",
       "      <th>distance_to_school</th>\n",
       "      <th>roundtrip_auto_time_to_school</th>\n",
       "      <th>workplace_taz</th>\n",
       "      <th>workplace_location_logsum</th>\n",
       "      <th>distance_to_work</th>\n",
       "      <th>workplace_in_cbd</th>\n",
       "      <th>work_taz_area_type</th>\n",
       "      <th>roundtrip_auto_time_to_work</th>\n",
       "      <th>work_auto_savings</th>\n",
       "      <th>work_auto_savings_ratio</th>\n",
       "      <th>free_parking_at_work</th>\n",
       "      <th>cdap_activity</th>\n",
       "      <th>travel_active</th>\n",
       "      <th>under16_not_at_school</th>\n",
       "      <th>has_preschool_kid_at_home</th>\n",
       "      <th>has_school_kid_at_home</th>\n",
       "      <th>mandatory_tour_frequency</th>\n",
       "      <th>work_and_school_and_worker</th>\n",
       "      <th>work_and_school_and_student</th>\n",
       "      <th>num_mand</th>\n",
       "      <th>num_work_tours</th>\n",
       "      <th>num_joint_tours</th>\n",
       "      <th>non_mandatory_tour_frequency</th>\n",
       "      <th>num_non_mand</th>\n",
       "      <th>num_escort_tours</th>\n",
       "      <th>num_eatout_tours</th>\n",
       "      <th>num_shop_tours</th>\n",
       "      <th>num_maint_tours</th>\n",
       "      <th>num_discr_tours</th>\n",
       "      <th>num_social_tours</th>\n",
       "      <th>num_non_escort_tours</th>\n",
       "      <th>gt55</th>\n",
       "      <th>seniors</th>\n",
       "      <th>VEHICL</th>\n",
       "      <th>lcm_county_id</th>\n",
       "      <th>hh_children</th>\n",
       "      <th>block_id</th>\n",
       "      <th>gt2</th>\n",
       "      <th>hispanic_head</th>\n",
       "      <th>age_of_head</th>\n",
       "      <th>race_of_head</th>\n",
       "      <th>tenure_mover</th>\n",
       "      <th>hh_size</th>\n",
       "      <th>sf_detached</th>\n",
       "      <th>tenure</th>\n",
       "      <th>hh_cars</th>\n",
       "      <th>income</th>\n",
       "      <th>hh_age_of_head</th>\n",
       "      <th>serialno</th>\n",
       "      <th>num_workers</th>\n",
       "      <th>hh_race_of_head</th>\n",
       "      <th>hh_income</th>\n",
       "      <th>recent_mover</th>\n",
       "      <th>hh_workers</th>\n",
       "      <th>hispanic_status_of_head</th>\n",
       "      <th>hh_seniors</th>\n",
       "      <th>hhsize</th>\n",
       "      <th>hh_type</th>\n",
       "      <th>TAZ_y</th>\n",
       "      <th>HHT</th>\n",
       "      <th>sample_rate</th>\n",
       "      <th>chunk_id</th>\n",
       "      <th>income_in_thousands</th>\n",
       "      <th>income_segment</th>\n",
       "      <th>median_value_of_time</th>\n",
       "      <th>hh_value_of_time</th>\n",
       "      <th>num_non_workers</th>\n",
       "      <th>num_drivers</th>\n",
       "      <th>num_adults</th>\n",
       "      <th>num_children</th>\n",
       "      <th>num_young_children</th>\n",
       "      <th>num_children_5_to_15</th>\n",
       "      <th>num_children_16_to_17</th>\n",
       "      <th>num_college_age</th>\n",
       "      <th>num_young_adults</th>\n",
       "      <th>non_family</th>\n",
       "      <th>family</th>\n",
       "      <th>home_is_urban</th>\n",
       "      <th>home_is_rural</th>\n",
       "      <th>auto_ownership</th>\n",
       "      <th>hh_work_auto_savings_ratio</th>\n",
       "      <th>num_under16_not_at_school</th>\n",
       "      <th>num_travel_active</th>\n",
       "      <th>num_travel_active_adults</th>\n",
       "      <th>num_travel_active_preschoolers</th>\n",
       "      <th>num_travel_active_children</th>\n",
       "      <th>num_travel_active_non_preschoolers</th>\n",
       "      <th>participates_in_jtf_model</th>\n",
       "      <th>joint_tour_frequency</th>\n",
       "      <th>num_hh_joint_tours</th>\n",
       "    </tr>\n",
       "  </thead>\n",
       "  <tbody>\n",
       "    <tr>\n",
       "      <th>420225</th>\n",
       "      <td>1</td>\n",
       "      <td>0.0</td>\n",
       "      <td>0</td>\n",
       "      <td>1</td>\n",
       "      <td>0</td>\n",
       "      <td>male</td>\n",
       "      <td>3</td>\n",
       "      <td>1</td>\n",
       "      <td>1735309</td>\n",
       "      <td>0.0</td>\n",
       "      <td>5</td>\n",
       "      <td>19 and under</td>\n",
       "      <td>1.0</td>\n",
       "      <td>633</td>\n",
       "      <td>6</td>\n",
       "      <td>asian</td>\n",
       "      <td>0</td>\n",
       "      <td>3</td>\n",
       "      <td>-1</td>\n",
       "      <td>no</td>\n",
       "      <td>2</td>\n",
       "      <td>0</td>\n",
       "      <td>641</td>\n",
       "      <td>8</td>\n",
       "      <td>4</td>\n",
       "      <td>1</td>\n",
       "      <td>-121.806440</td>\n",
       "      <td>37.350304</td>\n",
       "      <td>False</td>\n",
       "      <td>False</td>\n",
       "      <td>False</td>\n",
       "      <td>True</td>\n",
       "      <td>False</td>\n",
       "      <td>False</td>\n",
       "      <td>False</td>\n",
       "      <td>True</td>\n",
       "      <td>False</td>\n",
       "      <td>False</td>\n",
       "      <td>True</td>\n",
       "      <td>False</td>\n",
       "      <td>False</td>\n",
       "      <td>False</td>\n",
       "      <td>False</td>\n",
       "      <td>True</td>\n",
       "      <td>True</td>\n",
       "      <td>False</td>\n",
       "      <td>False</td>\n",
       "      <td>1</td>\n",
       "      <td>False</td>\n",
       "      <td>641</td>\n",
       "      <td>19.798008</td>\n",
       "      <td>635</td>\n",
       "      <td>2.957781</td>\n",
       "      <td>57.350</td>\n",
       "      <td>-1</td>\n",
       "      <td>NaN</td>\n",
       "      <td>NaN</td>\n",
       "      <td>False</td>\n",
       "      <td>NaN</td>\n",
       "      <td>0.000000</td>\n",
       "      <td>0.000000</td>\n",
       "      <td>0.000000</td>\n",
       "      <td>False</td>\n",
       "      <td>M</td>\n",
       "      <td>True</td>\n",
       "      <td>False</td>\n",
       "      <td>False</td>\n",
       "      <td>False</td>\n",
       "      <td>school1</td>\n",
       "      <td>False</td>\n",
       "      <td>False</td>\n",
       "      <td>1</td>\n",
       "      <td>0</td>\n",
       "      <td>0</td>\n",
       "      <td>0</td>\n",
       "      <td>0</td>\n",
       "      <td>0</td>\n",
       "      <td>0</td>\n",
       "      <td>0</td>\n",
       "      <td>0</td>\n",
       "      <td>0</td>\n",
       "      <td>0</td>\n",
       "      <td>0</td>\n",
       "      <td>0</td>\n",
       "      <td>0.0</td>\n",
       "      <td>2</td>\n",
       "      <td>6085</td>\n",
       "      <td>yes</td>\n",
       "      <td>60855035091006</td>\n",
       "      <td>1</td>\n",
       "      <td>no</td>\n",
       "      <td>35</td>\n",
       "      <td>6</td>\n",
       "      <td>own not recent</td>\n",
       "      <td>four or more</td>\n",
       "      <td>yes</td>\n",
       "      <td>1</td>\n",
       "      <td>two or more</td>\n",
       "      <td>240000.0</td>\n",
       "      <td>gt35-lt65</td>\n",
       "      <td>2010000482865</td>\n",
       "      <td>2.0</td>\n",
       "      <td>asian</td>\n",
       "      <td>gt150</td>\n",
       "      <td>0</td>\n",
       "      <td>two or more</td>\n",
       "      <td>0</td>\n",
       "      <td>no</td>\n",
       "      <td>4</td>\n",
       "      <td>3</td>\n",
       "      <td>641</td>\n",
       "      <td>4</td>\n",
       "      <td>0.097</td>\n",
       "      <td>60138</td>\n",
       "      <td>240.0</td>\n",
       "      <td>4</td>\n",
       "      <td>12.86</td>\n",
       "      <td>29.682171</td>\n",
       "      <td>2.0</td>\n",
       "      <td>2</td>\n",
       "      <td>2</td>\n",
       "      <td>2</td>\n",
       "      <td>2</td>\n",
       "      <td>0</td>\n",
       "      <td>0</td>\n",
       "      <td>0</td>\n",
       "      <td>1</td>\n",
       "      <td>True</td>\n",
       "      <td>False</td>\n",
       "      <td>False</td>\n",
       "      <td>False</td>\n",
       "      <td>2</td>\n",
       "      <td>-0.029278</td>\n",
       "      <td>0</td>\n",
       "      <td>4</td>\n",
       "      <td>2</td>\n",
       "      <td>2</td>\n",
       "      <td>2</td>\n",
       "      <td>2</td>\n",
       "      <td>True</td>\n",
       "      <td>0_tours</td>\n",
       "      <td>0</td>\n",
       "    </tr>\n",
       "    <tr>\n",
       "      <th>420224</th>\n",
       "      <td>2</td>\n",
       "      <td>77000.0</td>\n",
       "      <td>1</td>\n",
       "      <td>0</td>\n",
       "      <td>0</td>\n",
       "      <td>female</td>\n",
       "      <td>2</td>\n",
       "      <td>2</td>\n",
       "      <td>1735309</td>\n",
       "      <td>40.0</td>\n",
       "      <td>1</td>\n",
       "      <td>20 to 35</td>\n",
       "      <td>21.0</td>\n",
       "      <td>-1</td>\n",
       "      <td>6</td>\n",
       "      <td>asian</td>\n",
       "      <td>0</td>\n",
       "      <td>30</td>\n",
       "      <td>700</td>\n",
       "      <td>no</td>\n",
       "      <td>1</td>\n",
       "      <td>0</td>\n",
       "      <td>641</td>\n",
       "      <td>1</td>\n",
       "      <td>1</td>\n",
       "      <td>3</td>\n",
       "      <td>-121.806440</td>\n",
       "      <td>37.350304</td>\n",
       "      <td>False</td>\n",
       "      <td>True</td>\n",
       "      <td>True</td>\n",
       "      <td>False</td>\n",
       "      <td>True</td>\n",
       "      <td>False</td>\n",
       "      <td>False</td>\n",
       "      <td>True</td>\n",
       "      <td>False</td>\n",
       "      <td>False</td>\n",
       "      <td>True</td>\n",
       "      <td>False</td>\n",
       "      <td>False</td>\n",
       "      <td>False</td>\n",
       "      <td>False</td>\n",
       "      <td>False</td>\n",
       "      <td>False</td>\n",
       "      <td>False</td>\n",
       "      <td>False</td>\n",
       "      <td>0</td>\n",
       "      <td>True</td>\n",
       "      <td>641</td>\n",
       "      <td>29.682171</td>\n",
       "      <td>-1</td>\n",
       "      <td>NaN</td>\n",
       "      <td>0.000</td>\n",
       "      <td>637</td>\n",
       "      <td>13.756984</td>\n",
       "      <td>0.711794</td>\n",
       "      <td>False</td>\n",
       "      <td>4.0</td>\n",
       "      <td>61.458336</td>\n",
       "      <td>-39.352196</td>\n",
       "      <td>-0.327935</td>\n",
       "      <td>False</td>\n",
       "      <td>M</td>\n",
       "      <td>True</td>\n",
       "      <td>False</td>\n",
       "      <td>False</td>\n",
       "      <td>False</td>\n",
       "      <td>work1</td>\n",
       "      <td>False</td>\n",
       "      <td>False</td>\n",
       "      <td>1</td>\n",
       "      <td>1</td>\n",
       "      <td>0</td>\n",
       "      <td>0</td>\n",
       "      <td>0</td>\n",
       "      <td>0</td>\n",
       "      <td>0</td>\n",
       "      <td>0</td>\n",
       "      <td>0</td>\n",
       "      <td>0</td>\n",
       "      <td>0</td>\n",
       "      <td>0</td>\n",
       "      <td>0</td>\n",
       "      <td>0.0</td>\n",
       "      <td>2</td>\n",
       "      <td>6085</td>\n",
       "      <td>yes</td>\n",
       "      <td>60855035091006</td>\n",
       "      <td>1</td>\n",
       "      <td>no</td>\n",
       "      <td>35</td>\n",
       "      <td>6</td>\n",
       "      <td>own not recent</td>\n",
       "      <td>four or more</td>\n",
       "      <td>yes</td>\n",
       "      <td>1</td>\n",
       "      <td>two or more</td>\n",
       "      <td>240000.0</td>\n",
       "      <td>gt35-lt65</td>\n",
       "      <td>2010000482865</td>\n",
       "      <td>2.0</td>\n",
       "      <td>asian</td>\n",
       "      <td>gt150</td>\n",
       "      <td>0</td>\n",
       "      <td>two or more</td>\n",
       "      <td>0</td>\n",
       "      <td>no</td>\n",
       "      <td>4</td>\n",
       "      <td>3</td>\n",
       "      <td>641</td>\n",
       "      <td>4</td>\n",
       "      <td>0.097</td>\n",
       "      <td>60138</td>\n",
       "      <td>240.0</td>\n",
       "      <td>4</td>\n",
       "      <td>12.86</td>\n",
       "      <td>29.682171</td>\n",
       "      <td>2.0</td>\n",
       "      <td>2</td>\n",
       "      <td>2</td>\n",
       "      <td>2</td>\n",
       "      <td>2</td>\n",
       "      <td>0</td>\n",
       "      <td>0</td>\n",
       "      <td>0</td>\n",
       "      <td>1</td>\n",
       "      <td>True</td>\n",
       "      <td>False</td>\n",
       "      <td>False</td>\n",
       "      <td>False</td>\n",
       "      <td>2</td>\n",
       "      <td>-0.029278</td>\n",
       "      <td>0</td>\n",
       "      <td>4</td>\n",
       "      <td>2</td>\n",
       "      <td>2</td>\n",
       "      <td>2</td>\n",
       "      <td>2</td>\n",
       "      <td>True</td>\n",
       "      <td>0_tours</td>\n",
       "      <td>0</td>\n",
       "    </tr>\n",
       "    <tr>\n",
       "      <th>420223</th>\n",
       "      <td>3</td>\n",
       "      <td>160000.0</td>\n",
       "      <td>1</td>\n",
       "      <td>0</td>\n",
       "      <td>0</td>\n",
       "      <td>male</td>\n",
       "      <td>1</td>\n",
       "      <td>1</td>\n",
       "      <td>1735309</td>\n",
       "      <td>40.0</td>\n",
       "      <td>1</td>\n",
       "      <td>20 to 35</td>\n",
       "      <td>21.0</td>\n",
       "      <td>-1</td>\n",
       "      <td>6</td>\n",
       "      <td>asian</td>\n",
       "      <td>0</td>\n",
       "      <td>35</td>\n",
       "      <td>583</td>\n",
       "      <td>no</td>\n",
       "      <td>0</td>\n",
       "      <td>0</td>\n",
       "      <td>641</td>\n",
       "      <td>1</td>\n",
       "      <td>1</td>\n",
       "      <td>3</td>\n",
       "      <td>-121.806440</td>\n",
       "      <td>37.350304</td>\n",
       "      <td>False</td>\n",
       "      <td>True</td>\n",
       "      <td>True</td>\n",
       "      <td>True</td>\n",
       "      <td>False</td>\n",
       "      <td>False</td>\n",
       "      <td>False</td>\n",
       "      <td>True</td>\n",
       "      <td>False</td>\n",
       "      <td>False</td>\n",
       "      <td>True</td>\n",
       "      <td>False</td>\n",
       "      <td>False</td>\n",
       "      <td>False</td>\n",
       "      <td>False</td>\n",
       "      <td>False</td>\n",
       "      <td>False</td>\n",
       "      <td>False</td>\n",
       "      <td>False</td>\n",
       "      <td>0</td>\n",
       "      <td>True</td>\n",
       "      <td>641</td>\n",
       "      <td>29.682171</td>\n",
       "      <td>-1</td>\n",
       "      <td>NaN</td>\n",
       "      <td>0.000</td>\n",
       "      <td>583</td>\n",
       "      <td>13.770217</td>\n",
       "      <td>1.781849</td>\n",
       "      <td>False</td>\n",
       "      <td>3.0</td>\n",
       "      <td>19.520832</td>\n",
       "      <td>35.838780</td>\n",
       "      <td>0.298656</td>\n",
       "      <td>False</td>\n",
       "      <td>M</td>\n",
       "      <td>True</td>\n",
       "      <td>False</td>\n",
       "      <td>False</td>\n",
       "      <td>False</td>\n",
       "      <td>work2</td>\n",
       "      <td>False</td>\n",
       "      <td>False</td>\n",
       "      <td>2</td>\n",
       "      <td>2</td>\n",
       "      <td>0</td>\n",
       "      <td>0</td>\n",
       "      <td>0</td>\n",
       "      <td>0</td>\n",
       "      <td>0</td>\n",
       "      <td>0</td>\n",
       "      <td>0</td>\n",
       "      <td>0</td>\n",
       "      <td>0</td>\n",
       "      <td>0</td>\n",
       "      <td>0</td>\n",
       "      <td>0.0</td>\n",
       "      <td>2</td>\n",
       "      <td>6085</td>\n",
       "      <td>yes</td>\n",
       "      <td>60855035091006</td>\n",
       "      <td>1</td>\n",
       "      <td>no</td>\n",
       "      <td>35</td>\n",
       "      <td>6</td>\n",
       "      <td>own not recent</td>\n",
       "      <td>four or more</td>\n",
       "      <td>yes</td>\n",
       "      <td>1</td>\n",
       "      <td>two or more</td>\n",
       "      <td>240000.0</td>\n",
       "      <td>gt35-lt65</td>\n",
       "      <td>2010000482865</td>\n",
       "      <td>2.0</td>\n",
       "      <td>asian</td>\n",
       "      <td>gt150</td>\n",
       "      <td>0</td>\n",
       "      <td>two or more</td>\n",
       "      <td>0</td>\n",
       "      <td>no</td>\n",
       "      <td>4</td>\n",
       "      <td>3</td>\n",
       "      <td>641</td>\n",
       "      <td>4</td>\n",
       "      <td>0.097</td>\n",
       "      <td>60138</td>\n",
       "      <td>240.0</td>\n",
       "      <td>4</td>\n",
       "      <td>12.86</td>\n",
       "      <td>29.682171</td>\n",
       "      <td>2.0</td>\n",
       "      <td>2</td>\n",
       "      <td>2</td>\n",
       "      <td>2</td>\n",
       "      <td>2</td>\n",
       "      <td>0</td>\n",
       "      <td>0</td>\n",
       "      <td>0</td>\n",
       "      <td>1</td>\n",
       "      <td>True</td>\n",
       "      <td>False</td>\n",
       "      <td>False</td>\n",
       "      <td>False</td>\n",
       "      <td>2</td>\n",
       "      <td>-0.029278</td>\n",
       "      <td>0</td>\n",
       "      <td>4</td>\n",
       "      <td>2</td>\n",
       "      <td>2</td>\n",
       "      <td>2</td>\n",
       "      <td>2</td>\n",
       "      <td>True</td>\n",
       "      <td>0_tours</td>\n",
       "      <td>0</td>\n",
       "    </tr>\n",
       "    <tr>\n",
       "      <th>420226</th>\n",
       "      <td>4</td>\n",
       "      <td>0.0</td>\n",
       "      <td>0</td>\n",
       "      <td>0</td>\n",
       "      <td>0</td>\n",
       "      <td>female</td>\n",
       "      <td>4</td>\n",
       "      <td>2</td>\n",
       "      <td>1735309</td>\n",
       "      <td>0.0</td>\n",
       "      <td>5</td>\n",
       "      <td>19 and under</td>\n",
       "      <td>0.0</td>\n",
       "      <td>650</td>\n",
       "      <td>6</td>\n",
       "      <td>asian</td>\n",
       "      <td>0</td>\n",
       "      <td>0</td>\n",
       "      <td>-1</td>\n",
       "      <td>no</td>\n",
       "      <td>2</td>\n",
       "      <td>0</td>\n",
       "      <td>641</td>\n",
       "      <td>8</td>\n",
       "      <td>4</td>\n",
       "      <td>1</td>\n",
       "      <td>-121.806440</td>\n",
       "      <td>37.350304</td>\n",
       "      <td>False</td>\n",
       "      <td>False</td>\n",
       "      <td>False</td>\n",
       "      <td>False</td>\n",
       "      <td>True</td>\n",
       "      <td>False</td>\n",
       "      <td>False</td>\n",
       "      <td>True</td>\n",
       "      <td>False</td>\n",
       "      <td>False</td>\n",
       "      <td>True</td>\n",
       "      <td>False</td>\n",
       "      <td>False</td>\n",
       "      <td>False</td>\n",
       "      <td>False</td>\n",
       "      <td>True</td>\n",
       "      <td>True</td>\n",
       "      <td>False</td>\n",
       "      <td>False</td>\n",
       "      <td>1</td>\n",
       "      <td>False</td>\n",
       "      <td>641</td>\n",
       "      <td>19.798008</td>\n",
       "      <td>650</td>\n",
       "      <td>1.427405</td>\n",
       "      <td>26.805</td>\n",
       "      <td>-1</td>\n",
       "      <td>NaN</td>\n",
       "      <td>NaN</td>\n",
       "      <td>False</td>\n",
       "      <td>NaN</td>\n",
       "      <td>0.000000</td>\n",
       "      <td>0.000000</td>\n",
       "      <td>0.000000</td>\n",
       "      <td>False</td>\n",
       "      <td>M</td>\n",
       "      <td>True</td>\n",
       "      <td>False</td>\n",
       "      <td>False</td>\n",
       "      <td>False</td>\n",
       "      <td>school1</td>\n",
       "      <td>False</td>\n",
       "      <td>False</td>\n",
       "      <td>1</td>\n",
       "      <td>0</td>\n",
       "      <td>0</td>\n",
       "      <td>0</td>\n",
       "      <td>0</td>\n",
       "      <td>0</td>\n",
       "      <td>0</td>\n",
       "      <td>0</td>\n",
       "      <td>0</td>\n",
       "      <td>0</td>\n",
       "      <td>0</td>\n",
       "      <td>0</td>\n",
       "      <td>0</td>\n",
       "      <td>0.0</td>\n",
       "      <td>2</td>\n",
       "      <td>6085</td>\n",
       "      <td>yes</td>\n",
       "      <td>60855035091006</td>\n",
       "      <td>1</td>\n",
       "      <td>no</td>\n",
       "      <td>35</td>\n",
       "      <td>6</td>\n",
       "      <td>own not recent</td>\n",
       "      <td>four or more</td>\n",
       "      <td>yes</td>\n",
       "      <td>1</td>\n",
       "      <td>two or more</td>\n",
       "      <td>240000.0</td>\n",
       "      <td>gt35-lt65</td>\n",
       "      <td>2010000482865</td>\n",
       "      <td>2.0</td>\n",
       "      <td>asian</td>\n",
       "      <td>gt150</td>\n",
       "      <td>0</td>\n",
       "      <td>two or more</td>\n",
       "      <td>0</td>\n",
       "      <td>no</td>\n",
       "      <td>4</td>\n",
       "      <td>3</td>\n",
       "      <td>641</td>\n",
       "      <td>4</td>\n",
       "      <td>0.097</td>\n",
       "      <td>60138</td>\n",
       "      <td>240.0</td>\n",
       "      <td>4</td>\n",
       "      <td>12.86</td>\n",
       "      <td>29.682171</td>\n",
       "      <td>2.0</td>\n",
       "      <td>2</td>\n",
       "      <td>2</td>\n",
       "      <td>2</td>\n",
       "      <td>2</td>\n",
       "      <td>0</td>\n",
       "      <td>0</td>\n",
       "      <td>0</td>\n",
       "      <td>1</td>\n",
       "      <td>True</td>\n",
       "      <td>False</td>\n",
       "      <td>False</td>\n",
       "      <td>False</td>\n",
       "      <td>2</td>\n",
       "      <td>-0.029278</td>\n",
       "      <td>0</td>\n",
       "      <td>4</td>\n",
       "      <td>2</td>\n",
       "      <td>2</td>\n",
       "      <td>2</td>\n",
       "      <td>2</td>\n",
       "      <td>True</td>\n",
       "      <td>0_tours</td>\n",
       "      <td>0</td>\n",
       "    </tr>\n",
       "    <tr>\n",
       "      <th>387161</th>\n",
       "      <td>86</td>\n",
       "      <td>58000.0</td>\n",
       "      <td>1</td>\n",
       "      <td>0</td>\n",
       "      <td>0</td>\n",
       "      <td>female</td>\n",
       "      <td>1</td>\n",
       "      <td>2</td>\n",
       "      <td>1610054</td>\n",
       "      <td>40.0</td>\n",
       "      <td>5</td>\n",
       "      <td>20 to 35</td>\n",
       "      <td>21.0</td>\n",
       "      <td>-1</td>\n",
       "      <td>1</td>\n",
       "      <td>white</td>\n",
       "      <td>0</td>\n",
       "      <td>34</td>\n",
       "      <td>14</td>\n",
       "      <td>no</td>\n",
       "      <td>0</td>\n",
       "      <td>0</td>\n",
       "      <td>290</td>\n",
       "      <td>1</td>\n",
       "      <td>1</td>\n",
       "      <td>3</td>\n",
       "      <td>-122.329852</td>\n",
       "      <td>37.527513</td>\n",
       "      <td>False</td>\n",
       "      <td>True</td>\n",
       "      <td>True</td>\n",
       "      <td>False</td>\n",
       "      <td>True</td>\n",
       "      <td>False</td>\n",
       "      <td>False</td>\n",
       "      <td>False</td>\n",
       "      <td>False</td>\n",
       "      <td>False</td>\n",
       "      <td>False</td>\n",
       "      <td>False</td>\n",
       "      <td>False</td>\n",
       "      <td>False</td>\n",
       "      <td>False</td>\n",
       "      <td>False</td>\n",
       "      <td>False</td>\n",
       "      <td>False</td>\n",
       "      <td>False</td>\n",
       "      <td>0</td>\n",
       "      <td>True</td>\n",
       "      <td>290</td>\n",
       "      <td>2.102069</td>\n",
       "      <td>-1</td>\n",
       "      <td>NaN</td>\n",
       "      <td>0.000</td>\n",
       "      <td>5</td>\n",
       "      <td>11.943773</td>\n",
       "      <td>23.127682</td>\n",
       "      <td>True</td>\n",
       "      <td>0.0</td>\n",
       "      <td>50.816666</td>\n",
       "      <td>83.568220</td>\n",
       "      <td>0.696402</td>\n",
       "      <td>False</td>\n",
       "      <td>N</td>\n",
       "      <td>True</td>\n",
       "      <td>False</td>\n",
       "      <td>False</td>\n",
       "      <td>False</td>\n",
       "      <td>NaN</td>\n",
       "      <td>False</td>\n",
       "      <td>False</td>\n",
       "      <td>0</td>\n",
       "      <td>0</td>\n",
       "      <td>0</td>\n",
       "      <td>17</td>\n",
       "      <td>2</td>\n",
       "      <td>0</td>\n",
       "      <td>0</td>\n",
       "      <td>1</td>\n",
       "      <td>0</td>\n",
       "      <td>1</td>\n",
       "      <td>0</td>\n",
       "      <td>2</td>\n",
       "      <td>0</td>\n",
       "      <td>0.0</td>\n",
       "      <td>2</td>\n",
       "      <td>6081</td>\n",
       "      <td>no</td>\n",
       "      <td>60816070002003</td>\n",
       "      <td>0</td>\n",
       "      <td>no</td>\n",
       "      <td>34</td>\n",
       "      <td>1</td>\n",
       "      <td>rent not recent</td>\n",
       "      <td>one</td>\n",
       "      <td>no</td>\n",
       "      <td>2</td>\n",
       "      <td>one</td>\n",
       "      <td>58000.0</td>\n",
       "      <td>lt35</td>\n",
       "      <td>2009001130847</td>\n",
       "      <td>1.0</td>\n",
       "      <td>white</td>\n",
       "      <td>gt30-lt60</td>\n",
       "      <td>0</td>\n",
       "      <td>one</td>\n",
       "      <td>0</td>\n",
       "      <td>no</td>\n",
       "      <td>1</td>\n",
       "      <td>5</td>\n",
       "      <td>290</td>\n",
       "      <td>1</td>\n",
       "      <td>0.097</td>\n",
       "      <td>130057</td>\n",
       "      <td>58.0</td>\n",
       "      <td>2</td>\n",
       "      <td>8.81</td>\n",
       "      <td>2.102069</td>\n",
       "      <td>0.0</td>\n",
       "      <td>1</td>\n",
       "      <td>1</td>\n",
       "      <td>0</td>\n",
       "      <td>0</td>\n",
       "      <td>0</td>\n",
       "      <td>0</td>\n",
       "      <td>0</td>\n",
       "      <td>1</td>\n",
       "      <td>False</td>\n",
       "      <td>True</td>\n",
       "      <td>False</td>\n",
       "      <td>False</td>\n",
       "      <td>2</td>\n",
       "      <td>0.696402</td>\n",
       "      <td>0</td>\n",
       "      <td>1</td>\n",
       "      <td>1</td>\n",
       "      <td>0</td>\n",
       "      <td>0</td>\n",
       "      <td>1</td>\n",
       "      <td>False</td>\n",
       "      <td>0_tours</td>\n",
       "      <td>0</td>\n",
       "    </tr>\n",
       "  </tbody>\n",
       "</table>\n",
       "</div>"
      ],
      "text/plain": [
       "        person_id   earning  worker  student  hispanic.1 person_sex  PNUM  \\\n",
       "420225          1       0.0       0        1           0       male     3   \n",
       "420224          2   77000.0       1        0           0     female     2   \n",
       "420223          3  160000.0       1        0           0       male     1   \n",
       "420226          4       0.0       0        0           0     female     4   \n",
       "387161         86   58000.0       1        0           0     female     1   \n",
       "\n",
       "        sex  household_id  hours  MAR    person_age   edu  school_zone_id  \\\n",
       "420225    1       1735309    0.0    5  19 and under   1.0             633   \n",
       "420224    2       1735309   40.0    1      20 to 35  21.0              -1   \n",
       "420223    1       1735309   40.0    1      20 to 35  21.0              -1   \n",
       "420226    2       1735309    0.0    5  19 and under   0.0             650   \n",
       "387161    2       1610054   40.0    5      20 to 35  21.0              -1   \n",
       "\n",
       "        race_id   race  work_at_home  age  work_zone_id p_hispanic  relate  \\\n",
       "420225        6  asian             0    3            -1         no       2   \n",
       "420224        6  asian             0   30           700         no       1   \n",
       "420223        6  asian             0   35           583         no       0   \n",
       "420226        6  asian             0    0            -1         no       2   \n",
       "387161        1  white             0   34            14         no       0   \n",
       "\n",
       "        hispanic  TAZ_x  ptype  pemploy  pstudent      home_x     home_y  \\\n",
       "420225         0    641      8        4         1 -121.806440  37.350304   \n",
       "420224         0    641      1        1         3 -121.806440  37.350304   \n",
       "420223         0    641      1        1         3 -121.806440  37.350304   \n",
       "420226         0    641      8        4         1 -121.806440  37.350304   \n",
       "387161         0    290      1        1         3 -122.329852  37.527513   \n",
       "\n",
       "        age_16_to_19  age_16_p  adult   male  female  has_non_worker  \\\n",
       "420225         False     False  False   True   False           False   \n",
       "420224         False      True   True  False    True           False   \n",
       "420223         False      True   True   True   False           False   \n",
       "420226         False     False  False  False    True           False   \n",
       "387161         False      True   True  False    True           False   \n",
       "\n",
       "        has_retiree  has_preschool_kid  has_driving_kid  has_school_kid  \\\n",
       "420225        False               True            False           False   \n",
       "420224        False               True            False           False   \n",
       "420223        False               True            False           False   \n",
       "420226        False               True            False           False   \n",
       "387161        False              False            False           False   \n",
       "\n",
       "        has_full_time  has_part_time  has_university  student_is_employed  \\\n",
       "420225           True          False           False                False   \n",
       "420224           True          False           False                False   \n",
       "420223           True          False           False                False   \n",
       "420226           True          False           False                False   \n",
       "387161          False          False           False                False   \n",
       "\n",
       "        nonstudent_to_school  is_student  is_gradeschool  is_highschool  \\\n",
       "420225                 False        True            True          False   \n",
       "420224                 False       False           False          False   \n",
       "420223                 False       False           False          False   \n",
       "420226                 False        True            True          False   \n",
       "387161                 False       False           False          False   \n",
       "\n",
       "        is_university  school_segment  is_worker  home_taz  value_of_time  \\\n",
       "420225          False               1      False       641      19.798008   \n",
       "420224          False               0       True       641      29.682171   \n",
       "420223          False               0       True       641      29.682171   \n",
       "420226          False               1      False       641      19.798008   \n",
       "387161          False               0       True       290       2.102069   \n",
       "\n",
       "        school_taz  distance_to_school  roundtrip_auto_time_to_school  \\\n",
       "420225         635            2.957781                         57.350   \n",
       "420224          -1                 NaN                          0.000   \n",
       "420223          -1                 NaN                          0.000   \n",
       "420226         650            1.427405                         26.805   \n",
       "387161          -1                 NaN                          0.000   \n",
       "\n",
       "        workplace_taz  workplace_location_logsum  distance_to_work  \\\n",
       "420225             -1                        NaN               NaN   \n",
       "420224            637                  13.756984          0.711794   \n",
       "420223            583                  13.770217          1.781849   \n",
       "420226             -1                        NaN               NaN   \n",
       "387161              5                  11.943773         23.127682   \n",
       "\n",
       "        workplace_in_cbd  work_taz_area_type  roundtrip_auto_time_to_work  \\\n",
       "420225             False                 NaN                     0.000000   \n",
       "420224             False                 4.0                    61.458336   \n",
       "420223             False                 3.0                    19.520832   \n",
       "420226             False                 NaN                     0.000000   \n",
       "387161              True                 0.0                    50.816666   \n",
       "\n",
       "        work_auto_savings  work_auto_savings_ratio  free_parking_at_work  \\\n",
       "420225           0.000000                 0.000000                 False   \n",
       "420224         -39.352196                -0.327935                 False   \n",
       "420223          35.838780                 0.298656                 False   \n",
       "420226           0.000000                 0.000000                 False   \n",
       "387161          83.568220                 0.696402                 False   \n",
       "\n",
       "       cdap_activity  travel_active  under16_not_at_school  \\\n",
       "420225             M           True                  False   \n",
       "420224             M           True                  False   \n",
       "420223             M           True                  False   \n",
       "420226             M           True                  False   \n",
       "387161             N           True                  False   \n",
       "\n",
       "        has_preschool_kid_at_home  has_school_kid_at_home  \\\n",
       "420225                      False                   False   \n",
       "420224                      False                   False   \n",
       "420223                      False                   False   \n",
       "420226                      False                   False   \n",
       "387161                      False                   False   \n",
       "\n",
       "       mandatory_tour_frequency  work_and_school_and_worker  \\\n",
       "420225                  school1                       False   \n",
       "420224                    work1                       False   \n",
       "420223                    work2                       False   \n",
       "420226                  school1                       False   \n",
       "387161                      NaN                       False   \n",
       "\n",
       "        work_and_school_and_student  num_mand  num_work_tours  \\\n",
       "420225                        False         1               0   \n",
       "420224                        False         1               1   \n",
       "420223                        False         2               2   \n",
       "420226                        False         1               0   \n",
       "387161                        False         0               0   \n",
       "\n",
       "        num_joint_tours  non_mandatory_tour_frequency  num_non_mand  \\\n",
       "420225                0                             0             0   \n",
       "420224                0                             0             0   \n",
       "420223                0                             0             0   \n",
       "420226                0                             0             0   \n",
       "387161                0                            17             2   \n",
       "\n",
       "        num_escort_tours  num_eatout_tours  num_shop_tours  num_maint_tours  \\\n",
       "420225                 0                 0               0                0   \n",
       "420224                 0                 0               0                0   \n",
       "420223                 0                 0               0                0   \n",
       "420226                 0                 0               0                0   \n",
       "387161                 0                 0               1                0   \n",
       "\n",
       "        num_discr_tours  num_social_tours  num_non_escort_tours  gt55  \\\n",
       "420225                0                 0                     0     0   \n",
       "420224                0                 0                     0     0   \n",
       "420223                0                 0                     0     0   \n",
       "420226                0                 0                     0     0   \n",
       "387161                1                 0                     2     0   \n",
       "\n",
       "        seniors  VEHICL  lcm_county_id hh_children        block_id  gt2  \\\n",
       "420225      0.0       2           6085         yes  60855035091006    1   \n",
       "420224      0.0       2           6085         yes  60855035091006    1   \n",
       "420223      0.0       2           6085         yes  60855035091006    1   \n",
       "420226      0.0       2           6085         yes  60855035091006    1   \n",
       "387161      0.0       2           6081          no  60816070002003    0   \n",
       "\n",
       "       hispanic_head  age_of_head  race_of_head     tenure_mover  \\\n",
       "420225            no           35             6   own not recent   \n",
       "420224            no           35             6   own not recent   \n",
       "420223            no           35             6   own not recent   \n",
       "420226            no           35             6   own not recent   \n",
       "387161            no           34             1  rent not recent   \n",
       "\n",
       "             hh_size sf_detached  tenure      hh_cars    income  \\\n",
       "420225  four or more         yes       1  two or more  240000.0   \n",
       "420224  four or more         yes       1  two or more  240000.0   \n",
       "420223  four or more         yes       1  two or more  240000.0   \n",
       "420226  four or more         yes       1  two or more  240000.0   \n",
       "387161           one          no       2          one   58000.0   \n",
       "\n",
       "       hh_age_of_head       serialno  num_workers hh_race_of_head  hh_income  \\\n",
       "420225      gt35-lt65  2010000482865          2.0           asian      gt150   \n",
       "420224      gt35-lt65  2010000482865          2.0           asian      gt150   \n",
       "420223      gt35-lt65  2010000482865          2.0           asian      gt150   \n",
       "420226      gt35-lt65  2010000482865          2.0           asian      gt150   \n",
       "387161           lt35  2009001130847          1.0           white  gt30-lt60   \n",
       "\n",
       "        recent_mover   hh_workers  hispanic_status_of_head hh_seniors  hhsize  \\\n",
       "420225             0  two or more                        0         no       4   \n",
       "420224             0  two or more                        0         no       4   \n",
       "420223             0  two or more                        0         no       4   \n",
       "420226             0  two or more                        0         no       4   \n",
       "387161             0          one                        0         no       1   \n",
       "\n",
       "        hh_type  TAZ_y  HHT  sample_rate  chunk_id  income_in_thousands  \\\n",
       "420225        3    641    4        0.097     60138                240.0   \n",
       "420224        3    641    4        0.097     60138                240.0   \n",
       "420223        3    641    4        0.097     60138                240.0   \n",
       "420226        3    641    4        0.097     60138                240.0   \n",
       "387161        5    290    1        0.097    130057                 58.0   \n",
       "\n",
       "        income_segment  median_value_of_time  hh_value_of_time  \\\n",
       "420225               4                 12.86         29.682171   \n",
       "420224               4                 12.86         29.682171   \n",
       "420223               4                 12.86         29.682171   \n",
       "420226               4                 12.86         29.682171   \n",
       "387161               2                  8.81          2.102069   \n",
       "\n",
       "        num_non_workers  num_drivers  num_adults  num_children  \\\n",
       "420225              2.0            2           2             2   \n",
       "420224              2.0            2           2             2   \n",
       "420223              2.0            2           2             2   \n",
       "420226              2.0            2           2             2   \n",
       "387161              0.0            1           1             0   \n",
       "\n",
       "        num_young_children  num_children_5_to_15  num_children_16_to_17  \\\n",
       "420225                   2                     0                      0   \n",
       "420224                   2                     0                      0   \n",
       "420223                   2                     0                      0   \n",
       "420226                   2                     0                      0   \n",
       "387161                   0                     0                      0   \n",
       "\n",
       "        num_college_age  num_young_adults  non_family  family  home_is_urban  \\\n",
       "420225                0                 1        True   False          False   \n",
       "420224                0                 1        True   False          False   \n",
       "420223                0                 1        True   False          False   \n",
       "420226                0                 1        True   False          False   \n",
       "387161                0                 1       False    True          False   \n",
       "\n",
       "        home_is_rural  auto_ownership  hh_work_auto_savings_ratio  \\\n",
       "420225          False               2                   -0.029278   \n",
       "420224          False               2                   -0.029278   \n",
       "420223          False               2                   -0.029278   \n",
       "420226          False               2                   -0.029278   \n",
       "387161          False               2                    0.696402   \n",
       "\n",
       "        num_under16_not_at_school  num_travel_active  \\\n",
       "420225                          0                  4   \n",
       "420224                          0                  4   \n",
       "420223                          0                  4   \n",
       "420226                          0                  4   \n",
       "387161                          0                  1   \n",
       "\n",
       "        num_travel_active_adults  num_travel_active_preschoolers  \\\n",
       "420225                         2                               2   \n",
       "420224                         2                               2   \n",
       "420223                         2                               2   \n",
       "420226                         2                               2   \n",
       "387161                         1                               0   \n",
       "\n",
       "        num_travel_active_children  num_travel_active_non_preschoolers  \\\n",
       "420225                           2                                   2   \n",
       "420224                           2                                   2   \n",
       "420223                           2                                   2   \n",
       "420226                           2                                   2   \n",
       "387161                           0                                   1   \n",
       "\n",
       "        participates_in_jtf_model joint_tour_frequency  num_hh_joint_tours  \n",
       "420225                       True              0_tours                   0  \n",
       "420224                       True              0_tours                   0  \n",
       "420223                       True              0_tours                   0  \n",
       "420226                       True              0_tours                   0  \n",
       "387161                      False              0_tours                   0  "
      ]
     },
     "execution_count": 118,
     "metadata": {},
     "output_type": "execute_result"
    }
   ],
   "source": [
    "hhpersons.sort_values('person_id').head()"
   ]
  },
  {
   "cell_type": "code",
   "execution_count": 119,
   "id": "559ffc33",
   "metadata": {},
   "outputs": [
    {
     "data": {
      "text/html": [
       "<div>\n",
       "<style scoped>\n",
       "    .dataframe tbody tr th:only-of-type {\n",
       "        vertical-align: middle;\n",
       "    }\n",
       "\n",
       "    .dataframe tbody tr th {\n",
       "        vertical-align: top;\n",
       "    }\n",
       "\n",
       "    .dataframe thead th {\n",
       "        text-align: right;\n",
       "    }\n",
       "</style>\n",
       "<table border=\"1\" class=\"dataframe\">\n",
       "  <thead>\n",
       "    <tr style=\"text-align: right;\">\n",
       "      <th></th>\n",
       "      <th>person_id</th>\n",
       "      <th>earning</th>\n",
       "      <th>worker</th>\n",
       "      <th>student</th>\n",
       "      <th>hispanic.1</th>\n",
       "      <th>person_sex</th>\n",
       "      <th>PNUM</th>\n",
       "      <th>sex</th>\n",
       "      <th>household_id</th>\n",
       "      <th>hours</th>\n",
       "      <th>MAR</th>\n",
       "      <th>person_age</th>\n",
       "      <th>edu</th>\n",
       "      <th>school_zone_id</th>\n",
       "      <th>race_id</th>\n",
       "      <th>race</th>\n",
       "      <th>work_at_home</th>\n",
       "      <th>age</th>\n",
       "      <th>work_zone_id</th>\n",
       "      <th>p_hispanic</th>\n",
       "      <th>relate</th>\n",
       "      <th>hispanic</th>\n",
       "      <th>TAZ_x</th>\n",
       "      <th>ptype</th>\n",
       "      <th>pemploy</th>\n",
       "      <th>pstudent</th>\n",
       "      <th>home_x</th>\n",
       "      <th>home_y</th>\n",
       "      <th>age_16_to_19</th>\n",
       "      <th>age_16_p</th>\n",
       "      <th>adult</th>\n",
       "      <th>male</th>\n",
       "      <th>female</th>\n",
       "      <th>has_non_worker</th>\n",
       "      <th>has_retiree</th>\n",
       "      <th>has_preschool_kid</th>\n",
       "      <th>has_driving_kid</th>\n",
       "      <th>has_school_kid</th>\n",
       "      <th>has_full_time</th>\n",
       "      <th>has_part_time</th>\n",
       "      <th>has_university</th>\n",
       "      <th>student_is_employed</th>\n",
       "      <th>nonstudent_to_school</th>\n",
       "      <th>is_student</th>\n",
       "      <th>is_gradeschool</th>\n",
       "      <th>is_highschool</th>\n",
       "      <th>is_university</th>\n",
       "      <th>school_segment</th>\n",
       "      <th>is_worker</th>\n",
       "      <th>home_taz</th>\n",
       "      <th>value_of_time</th>\n",
       "      <th>school_taz</th>\n",
       "      <th>distance_to_school</th>\n",
       "      <th>roundtrip_auto_time_to_school</th>\n",
       "      <th>workplace_taz</th>\n",
       "      <th>workplace_location_logsum</th>\n",
       "      <th>distance_to_work</th>\n",
       "      <th>workplace_in_cbd</th>\n",
       "      <th>work_taz_area_type</th>\n",
       "      <th>roundtrip_auto_time_to_work</th>\n",
       "      <th>work_auto_savings</th>\n",
       "      <th>work_auto_savings_ratio</th>\n",
       "      <th>free_parking_at_work</th>\n",
       "      <th>cdap_activity</th>\n",
       "      <th>travel_active</th>\n",
       "      <th>under16_not_at_school</th>\n",
       "      <th>has_preschool_kid_at_home</th>\n",
       "      <th>has_school_kid_at_home</th>\n",
       "      <th>mandatory_tour_frequency</th>\n",
       "      <th>work_and_school_and_worker</th>\n",
       "      <th>work_and_school_and_student</th>\n",
       "      <th>num_mand</th>\n",
       "      <th>num_work_tours</th>\n",
       "      <th>num_joint_tours</th>\n",
       "      <th>non_mandatory_tour_frequency</th>\n",
       "      <th>num_non_mand</th>\n",
       "      <th>num_escort_tours</th>\n",
       "      <th>num_eatout_tours</th>\n",
       "      <th>num_shop_tours</th>\n",
       "      <th>num_maint_tours</th>\n",
       "      <th>num_discr_tours</th>\n",
       "      <th>num_social_tours</th>\n",
       "      <th>num_non_escort_tours</th>\n",
       "      <th>gt55</th>\n",
       "      <th>seniors</th>\n",
       "      <th>VEHICL</th>\n",
       "      <th>lcm_county_id</th>\n",
       "      <th>hh_children</th>\n",
       "      <th>block_id</th>\n",
       "      <th>gt2</th>\n",
       "      <th>hispanic_head</th>\n",
       "      <th>age_of_head</th>\n",
       "      <th>race_of_head</th>\n",
       "      <th>tenure_mover</th>\n",
       "      <th>hh_size</th>\n",
       "      <th>sf_detached</th>\n",
       "      <th>tenure</th>\n",
       "      <th>hh_cars</th>\n",
       "      <th>income</th>\n",
       "      <th>hh_age_of_head</th>\n",
       "      <th>serialno</th>\n",
       "      <th>num_workers</th>\n",
       "      <th>hh_race_of_head</th>\n",
       "      <th>hh_income</th>\n",
       "      <th>recent_mover</th>\n",
       "      <th>hh_workers</th>\n",
       "      <th>hispanic_status_of_head</th>\n",
       "      <th>hh_seniors</th>\n",
       "      <th>hhsize</th>\n",
       "      <th>hh_type</th>\n",
       "      <th>TAZ_y</th>\n",
       "      <th>HHT</th>\n",
       "      <th>sample_rate</th>\n",
       "      <th>chunk_id</th>\n",
       "      <th>income_in_thousands</th>\n",
       "      <th>income_segment</th>\n",
       "      <th>median_value_of_time</th>\n",
       "      <th>hh_value_of_time</th>\n",
       "      <th>num_non_workers</th>\n",
       "      <th>num_drivers</th>\n",
       "      <th>num_adults</th>\n",
       "      <th>num_children</th>\n",
       "      <th>num_young_children</th>\n",
       "      <th>num_children_5_to_15</th>\n",
       "      <th>num_children_16_to_17</th>\n",
       "      <th>num_college_age</th>\n",
       "      <th>num_young_adults</th>\n",
       "      <th>non_family</th>\n",
       "      <th>family</th>\n",
       "      <th>home_is_urban</th>\n",
       "      <th>home_is_rural</th>\n",
       "      <th>auto_ownership</th>\n",
       "      <th>hh_work_auto_savings_ratio</th>\n",
       "      <th>num_under16_not_at_school</th>\n",
       "      <th>num_travel_active</th>\n",
       "      <th>num_travel_active_adults</th>\n",
       "      <th>num_travel_active_preschoolers</th>\n",
       "      <th>num_travel_active_children</th>\n",
       "      <th>num_travel_active_non_preschoolers</th>\n",
       "      <th>participates_in_jtf_model</th>\n",
       "      <th>joint_tour_frequency</th>\n",
       "      <th>num_hh_joint_tours</th>\n",
       "    </tr>\n",
       "  </thead>\n",
       "  <tbody>\n",
       "  </tbody>\n",
       "</table>\n",
       "</div>"
      ],
      "text/plain": [
       "Empty DataFrame\n",
       "Columns: [person_id, earning, worker, student, hispanic.1, person_sex, PNUM, sex, household_id, hours, MAR, person_age, edu, school_zone_id, race_id, race, work_at_home, age, work_zone_id, p_hispanic, relate, hispanic, TAZ_x, ptype, pemploy, pstudent, home_x, home_y, age_16_to_19, age_16_p, adult, male, female, has_non_worker, has_retiree, has_preschool_kid, has_driving_kid, has_school_kid, has_full_time, has_part_time, has_university, student_is_employed, nonstudent_to_school, is_student, is_gradeschool, is_highschool, is_university, school_segment, is_worker, home_taz, value_of_time, school_taz, distance_to_school, roundtrip_auto_time_to_school, workplace_taz, workplace_location_logsum, distance_to_work, workplace_in_cbd, work_taz_area_type, roundtrip_auto_time_to_work, work_auto_savings, work_auto_savings_ratio, free_parking_at_work, cdap_activity, travel_active, under16_not_at_school, has_preschool_kid_at_home, has_school_kid_at_home, mandatory_tour_frequency, work_and_school_and_worker, work_and_school_and_student, num_mand, num_work_tours, num_joint_tours, non_mandatory_tour_frequency, num_non_mand, num_escort_tours, num_eatout_tours, num_shop_tours, num_maint_tours, num_discr_tours, num_social_tours, num_non_escort_tours, gt55, seniors, VEHICL, lcm_county_id, hh_children, block_id, gt2, hispanic_head, age_of_head, race_of_head, tenure_mover, hh_size, sf_detached, tenure, hh_cars, income, hh_age_of_head, ...]\n",
       "Index: []"
      ]
     },
     "execution_count": 119,
     "metadata": {},
     "output_type": "execute_result"
    }
   ],
   "source": [
    "hhpersons[hhpersons['household_id']==1337946]"
   ]
  },
  {
   "cell_type": "code",
   "execution_count": null,
   "id": "5b20c94f",
   "metadata": {},
   "outputs": [],
   "source": [
    "# Merge tours, households and persons\n",
    "tours = tours.sort_values(by=['person_id'])\n",
    "hhpersons = hhpersons.sort_values(by=['person_id'])\n",
    "hhperTours = pd.merge(left=tours, right=hhpersons, how='left', on='person_id')\n",
    "#hhperTours = pd.merge(left=tours, right=hhpersons, how='left', on='person_id', suffixes=('', '_drop'))\n",
    "#hhperTours.drop([col for col in hhperTours.columns if 'drop' in col], axis=1, inplace=True)"
   ]
  },
  {
   "cell_type": "code",
   "execution_count": null,
   "id": "6ef8c6a0",
   "metadata": {},
   "outputs": [],
   "source": [
    "# Merge trips, tours, households and persons\n",
    "trips = trips.sort_values(by=['person_id', 'tour_id'])\n",
    "hhperTours = hhperTours.sort_values(by=['person_id','tour_id'])\n",
    "tourTripsMerged = pd.merge(left=trips, right=hhperTours, how='left', on=['person_id','tour_id'])\n",
    "#tourTripsMerged = pd.merge(left=trips, right=hhperTours, how='left', on=['person_id','tour_id'], suffixes=('', '_drop'))\n",
    "#tourTripsMerged.drop([col for col in tourTripsMerged.columns if 'drop' in col], axis=1, inplace=True)"
   ]
  },
  {
   "cell_type": "code",
   "execution_count": null,
   "id": "fb3c4f10",
   "metadata": {},
   "outputs": [],
   "source": [
    "trips.head()"
   ]
  },
  {
   "cell_type": "code",
   "execution_count": null,
   "id": "96ae8686",
   "metadata": {},
   "outputs": [],
   "source": [
    "# Merge person_trip level BEAM with activity sim merged files\n",
    "tourTripsMerged = tourTripsMerged.sort_values(by=['person_id', 'trip_id'])\n",
    "Person_Trip_eventsSF = Person_Trip_eventsSF.sort_values(by=['IDMerged','tripIndex'])\n",
    "eventsASim = pd.merge(left=Person_Trip_eventsSF, right=tourTripsMerged, how='left', left_on=[\"IDMerged\", 'tripIndex'], right_on=['person_id', 'trip_id'])\n",
    "#eventsASim = pd.merge(left=Person_Trip_eventsSF, right=tourTripsMerged, how='left',left_on = [\"IDMerged\", 'tripId'] , right_on=['person_id', 'trip_id'], suffixes=('', '_drop'))\n",
    "#eventsASim.drop([col for col in eventsASim.columns if 'drop' in col], axis=1, inplace=True)"
   ]
  },
  {
   "cell_type": "code",
   "execution_count": null,
   "id": "72ae2d99",
   "metadata": {},
   "outputs": [],
   "source": [
    "eventsASim.rename(columns={\"mode_choice_logsum_y\":\"logsum_tours_mode_AS_tours\"}, inplace=True)"
   ]
  },
  {
   "cell_type": "code",
   "execution_count": null,
   "id": "7a0b2fcc",
   "metadata": {},
   "outputs": [],
   "source": [
    "eventsASim.rename(columns={\"tour_mode\":\"tour_mode_AS_tours\"}, inplace=True)"
   ]
  },
  {
   "cell_type": "code",
   "execution_count": null,
   "id": "0def8b02",
   "metadata": {},
   "outputs": [],
   "source": [
    "eventsASim.rename(columns={\"mode_choice_logsum_x\":\"logsum_trip_mode_AS_trips\"}, inplace=True)"
   ]
  },
  {
   "cell_type": "code",
   "execution_count": null,
   "id": "28906290",
   "metadata": {},
   "outputs": [],
   "source": [
    "eventsASim.rename(columns={\"trip_mode\":\"trip_mode_AS_trips\"}, inplace=True)"
   ]
  },
  {
   "cell_type": "code",
   "execution_count": null,
   "id": "a3fe03ae",
   "metadata": {},
   "outputs": [],
   "source": []
  },
  {
   "cell_type": "code",
   "execution_count": null,
   "id": "5de13a06",
   "metadata": {},
   "outputs": [],
   "source": [
    "# eventsASim.head(10000).to_csv('C:/Shared-Work/Data/CleanData/Merged_SF_Baseline_2018.csv', index = False)"
   ]
  },
  {
   "cell_type": "code",
   "execution_count": null,
   "id": "c78a2b6f",
   "metadata": {},
   "outputs": [],
   "source": [
    "eventsASim.to_csv('C:/Shared-Work/Data/CleanData/ASIM_BEAM_Merged/5_18_22/sf_2018_rh_flsz_1p75.csv', index = False)"
   ]
  },
  {
   "cell_type": "code",
   "execution_count": null,
   "id": "66353fcc",
   "metadata": {},
   "outputs": [],
   "source": [
    "# eventsASim.duration_in_privateCar.sum()"
   ]
  },
  {
   "cell_type": "code",
   "execution_count": 136,
   "id": "ade3c9f5",
   "metadata": {},
   "outputs": [],
   "source": [
    "eventsASim.head(30000).to_csv('C:/Shared-Work/Data/CleanData/ASIM_BEAM_Merged/5_18_22/sf_2018_base_test.csv', index = False)"
   ]
  },
  {
   "cell_type": "code",
   "execution_count": null,
   "id": "ee65fe84",
   "metadata": {},
   "outputs": [],
   "source": []
  },
  {
   "cell_type": "code",
   "execution_count": null,
   "id": "3eb05f10",
   "metadata": {},
   "outputs": [],
   "source": [
    "#import matplotlib.pyplot as plt\n",
    "#import seaborn as sns\n",
    "\n",
    "#plt.figure(figsize=(13, 6))\n",
    "#sns.heatmap(households, vmax=1, annot=True, linewidths=.5)\n",
    "#plt.xticks(rotation=30, horizontalalignment='right')\n",
    "#plt.show()"
   ]
  },
  {
   "cell_type": "code",
   "execution_count": null,
   "id": "04e327c6",
   "metadata": {},
   "outputs": [],
   "source": [
    "#import missingno as msno\n",
    "#%matplotlib inline\n",
    "#msno.bar(SFbaseline2018)\n",
    "#msno.heatmap(persons)"
   ]
  },
  {
   "cell_type": "code",
   "execution_count": null,
   "id": "c3c34a2c",
   "metadata": {},
   "outputs": [],
   "source": []
  },
  {
   "cell_type": "code",
   "execution_count": null,
   "id": "b284a298",
   "metadata": {},
   "outputs": [],
   "source": [
    "#from io import StringIO # python3; python2: BytesIO \n",
    "#import boto\n",
    "#import boto3\n",
    "#\n",
    "#conn = boto.s3.connect_to_region('us-east-2')\n",
    "#bucket = conn.get_bucket('beam-core-act')\n",
    "#csv_buffer = StringIO()\n",
    "#eventsASim.to_csv(csv_buffer)\n",
    "#s3_resource = boto3.resource('s3')\n",
    "#s3_resource.Object(bucket, 'eventsASim.csv').put(Body=csv_buffer.getvalue())"
   ]
  },
  {
   "cell_type": "code",
   "execution_count": null,
   "id": "2f23fe9d",
   "metadata": {},
   "outputs": [],
   "source": []
  }
 ],
 "metadata": {
  "kernelspec": {
   "display_name": "Python 3 (ipykernel)",
   "language": "python",
   "name": "python3"
  },
  "language_info": {
   "codemirror_mode": {
    "name": "ipython",
    "version": 3
   },
   "file_extension": ".py",
   "mimetype": "text/x-python",
   "name": "python",
   "nbconvert_exporter": "python",
   "pygments_lexer": "ipython3",
   "version": "3.9.7"
  }
 },
 "nbformat": 4,
 "nbformat_minor": 5
}
