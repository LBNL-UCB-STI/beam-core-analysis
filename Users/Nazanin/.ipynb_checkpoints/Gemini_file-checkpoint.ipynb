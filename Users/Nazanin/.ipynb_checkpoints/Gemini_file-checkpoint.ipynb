{
 "cells": [
  {
   "cell_type": "code",
   "execution_count": 1,
   "id": "c5527a27",
   "metadata": {},
   "outputs": [],
   "source": [
    "import pandas as pd\n",
    "import numpy as np\n",
    "import geopandas as gpd\n",
    "import h5py\n",
    "import boto.s3\n",
    "import glob"
   ]
  },
  {
   "cell_type": "code",
   "execution_count": null,
   "id": "6b836fbf",
   "metadata": {},
   "outputs": [],
   "source": [
    "gemini_base_2023_events_loc = \"https://beam-outputs.s3.amazonaws.com/output/sfbay/gemini-base-2035-activitysim__2022-05-27_18-37-20_sjx/ITERS/it.1/\""
   ]
  },
  {
   "cell_type": "code",
   "execution_count": null,
   "id": "da0c803a",
   "metadata": {},
   "outputs": [],
   "source": [
    "%%time\n",
    "gemini_base_2023_events = pd.read_csv(gemini_base_2023_events_loc + '1.events.csv.gz', compression = 'gzip')"
   ]
  },
  {
   "cell_type": "code",
   "execution_count": null,
   "id": "d6ac219f",
   "metadata": {},
   "outputs": [],
   "source": []
  }
 ],
 "metadata": {
  "kernelspec": {
   "display_name": "Python 3 (ipykernel)",
   "language": "python",
   "name": "python3"
  },
  "language_info": {
   "codemirror_mode": {
    "name": "ipython",
    "version": 3
   },
   "file_extension": ".py",
   "mimetype": "text/x-python",
   "name": "python",
   "nbconvert_exporter": "python",
   "pygments_lexer": "ipython3",
   "version": "3.9.7"
  }
 },
 "nbformat": 4,
 "nbformat_minor": 5
}
