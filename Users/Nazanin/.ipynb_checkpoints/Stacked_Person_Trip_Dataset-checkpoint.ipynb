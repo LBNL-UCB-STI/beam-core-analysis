{
 "cells": [
  {
   "cell_type": "code",
   "execution_count": 1,
   "id": "c0f71a2c",
   "metadata": {},
   "outputs": [],
   "source": [
    "import os\n",
    "import os.path as op\n",
    "import numpy as np\n",
    "import pandas as pd\n",
    "import matplotlib.pyplot as plt\n",
    "import matplotlib.colors as mcolors\n",
    "%matplotlib inline\n",
    "import seaborn as sns\n",
    "sns.set_theme(style=\"darkgrid\", color_codes=True)\n",
    "sns.set(font_scale=1.35, style=\"ticks\") #set styling preferences\n",
    "import statsmodels.api as sm\n",
    "from scipy import stats\n",
    "import math\n",
    "from math import pi\n",
    "from pandas.api.types import is_string_dtype\n",
    "from pandas.api.types import is_numeric_dtype\n",
    "from scipy.spatial.distance import cdist\n",
    "from scipy.cluster.vq import kmeans2,vq, whiten"
   ]
  },
  {
   "cell_type": "code",
   "execution_count": 2,
   "id": "1c4d781d",
   "metadata": {},
   "outputs": [],
   "source": [
    "# Show all columns and rows\n",
    "pd.options.display.max_columns = None\n",
    "pd.options.display.max_rows = None"
   ]
  },
  {
   "cell_type": "markdown",
   "id": "cd2c6de5",
   "metadata": {},
   "source": [
    "#### Baseline"
   ]
  },
  {
   "cell_type": "code",
   "execution_count": 3,
   "id": "61204995",
   "metadata": {},
   "outputs": [
    {
     "name": "stderr",
     "output_type": "stream",
     "text": [
      "<timed exec>:2: DtypeWarning: Columns (40) have mixed types. Specify dtype option on import or set low_memory=False.\n"
     ]
    },
    {
     "name": "stdout",
     "output_type": "stream",
     "text": [
      "CPU times: total: 1min 9s\n",
      "Wall time: 6min 16s\n"
     ]
    }
   ],
   "source": [
    "%%time\n",
    "baseline2018 = \"https://beam-core-act.s3.amazonaws.com/deepDive/CleanData/SanFrancisco/Baseline/\"\n",
    "sfbase = pd.read_csv(baseline2018 + 'sf_2018_base_utilities.csv')"
   ]
  },
  {
   "cell_type": "markdown",
   "id": "77ccdf9e",
   "metadata": {},
   "source": [
    "#### Transit and Stacking Process"
   ]
  },
  {
   "cell_type": "code",
   "execution_count": null,
   "id": "6a39611a",
   "metadata": {},
   "outputs": [],
   "source": [
    "%%time\n",
    "transit_fr_05_path = \"https://beam-core-act.s3.amazonaws.com/deepDive/CleanData/SanFrancisco/TransitHead_Frequencies/\"\n",
    "sf_transit_fr_05 = pd.read_csv(transit_fr_05_path + 'sf_2018_tr_fr_0p5.csv')"
   ]
  },
  {
   "cell_type": "code",
   "execution_count": null,
   "id": "1f296f93",
   "metadata": {},
   "outputs": [],
   "source": [
    "%%time\n",
    "transit_fr_1p5_path = \"https://beam-core-act.s3.amazonaws.com/deepDive/CleanData/SanFrancisco/TransitHead_Frequencies/\"\n",
    "sf_transit_fr_1p5 = pd.read_csv(transit_fr_1p5_path + 'sf_2018_tr_fr_1p5.csv')"
   ]
  },
  {
   "cell_type": "code",
   "execution_count": 26,
   "id": "3c1d24c7",
   "metadata": {},
   "outputs": [
    {
     "name": "stderr",
     "output_type": "stream",
     "text": [
      "<timed exec>:2: DtypeWarning: Columns (40,84) have mixed types. Specify dtype option on import or set low_memory=False.\n"
     ]
    },
    {
     "name": "stdout",
     "output_type": "stream",
     "text": [
      "CPU times: total: 4min 34s\n",
      "Wall time: 11min 7s\n"
     ]
    }
   ],
   "source": [
    "%%time\n",
    "transit_fr_2_path = \"https://beam-core-act.s3.amazonaws.com/deepDive/CleanData/SanFrancisco/TransitHead_Frequencies/\"\n",
    "sf_transit_fr_2 = pd.read_csv(transit_fr_2_path + 'sf_2018_tr_fr_2.csv')"
   ]
  },
  {
   "cell_type": "code",
   "execution_count": 13,
   "id": "60499ebf",
   "metadata": {},
   "outputs": [
    {
     "data": {
      "text/plain": [
       "(2568424, 266)"
      ]
     },
     "execution_count": 13,
     "metadata": {},
     "output_type": "execute_result"
    }
   ],
   "source": [
    "sfbase.shape"
   ]
  },
  {
   "cell_type": "code",
   "execution_count": 14,
   "id": "14700c30",
   "metadata": {},
   "outputs": [
    {
     "data": {
      "text/plain": [
       "(2529285, 646)"
      ]
     },
     "execution_count": 14,
     "metadata": {},
     "output_type": "execute_result"
    }
   ],
   "source": [
    "sf_transit_fr_05.shape"
   ]
  },
  {
   "cell_type": "code",
   "execution_count": 47,
   "id": "2167692b",
   "metadata": {},
   "outputs": [
    {
     "data": {
      "text/plain": [
       "(2529440, 266)"
      ]
     },
     "execution_count": 47,
     "metadata": {},
     "output_type": "execute_result"
    }
   ],
   "source": [
    "sf_transit_fr_1p5.shape"
   ]
  },
  {
   "cell_type": "code",
   "execution_count": 48,
   "id": "e2e1f42a",
   "metadata": {},
   "outputs": [
    {
     "data": {
      "text/plain": [
       "(2529265, 266)"
      ]
     },
     "execution_count": 48,
     "metadata": {},
     "output_type": "execute_result"
    }
   ],
   "source": [
    "sf_transit_fr_2.shape"
   ]
  },
  {
   "cell_type": "code",
   "execution_count": 44,
   "id": "5041b283",
   "metadata": {},
   "outputs": [],
   "source": [
    "#sf_transit_fr_2 = sf_transit_fr_2.drop(['23','24'], axis=1)"
   ]
  },
  {
   "cell_type": "code",
   "execution_count": 28,
   "id": "2ccc6183",
   "metadata": {},
   "outputs": [],
   "source": [
    "sf_transit_fr_2 = sf_transit_fr_2.drop(sf_transit_fr_2.columns[245:625], axis=1)"
   ]
  },
  {
   "cell_type": "code",
   "execution_count": 49,
   "id": "6370dffd",
   "metadata": {},
   "outputs": [],
   "source": [
    "sf_transit_fr_05 = sf_transit_fr_05.drop(sf_transit_fr_05.columns[245:625], axis=1)"
   ]
  },
  {
   "cell_type": "code",
   "execution_count": 53,
   "id": "3929f1f3",
   "metadata": {},
   "outputs": [],
   "source": [
    "#sf_transit_fr_05 = sf_transit_fr_05.drop(['5','6','7','8','9','10','11'], axis=1)"
   ]
  },
  {
   "cell_type": "code",
   "execution_count": 55,
   "id": "ce578a69",
   "metadata": {},
   "outputs": [
    {
     "data": {
      "text/plain": [
       "(2529285, 266)"
      ]
     },
     "execution_count": 55,
     "metadata": {},
     "output_type": "execute_result"
    }
   ],
   "source": [
    "sf_transit_fr_05.shape"
   ]
  },
  {
   "cell_type": "code",
   "execution_count": 121,
   "id": "8f37acdc",
   "metadata": {},
   "outputs": [],
   "source": [
    "frames = [sfbase, sf_transit_fr_05, sf_transit_fr_1p5, sf_transit_fr_2]\n",
    "sf_stacked = pd.concat(frames)"
   ]
  },
  {
   "cell_type": "code",
   "execution_count": 122,
   "id": "999f6040",
   "metadata": {},
   "outputs": [],
   "source": [
    "sf_stacked = sf_stacked.drop(['has_school_kid','has_preschool_kid','has_retiree','has_non_worker','adult','hispanic','relate',\n",
    "                             'pstudent','pemploy','ptype','p_hispanic','age_16_p','age_16_to_19','work_zone_id',\n",
    "                             'race_id','school_zone_id','person_age','MAR','hours','hispanic.1','student',\n",
    "                             'worker','stop_frequency','composition','tdd','number_of_participants','tour_type_count',\n",
    "                             'tour_type_num','tour_num','tour_count', 'outbound', 'trip_num','num_under16_not_at_school',\n",
    "                             'family','non_family','num_young_adults','num_college_age','num_children_16_to_17',\n",
    "                              'num_children_5_to_15','num_young_children'], axis=1)"
   ]
  },
  {
   "cell_type": "code",
   "execution_count": 123,
   "id": "ba8d8c6c",
   "metadata": {},
   "outputs": [],
   "source": [
    "sf_stacked = sf_stacked.drop(['BlockGroupEnd','BlockGroupStart','vehicleIds_estimate','destination_x','origin_x','depart',\n",
    "                             'origin_y', 'destination_y','parent_tour_id','atwork_subtour_frequency','household_id_y',\n",
    "                              'TAZ_x','home_x','home_y','male','female', 'has_driving_kid','has_full_time','has_part_time',\n",
    "                              'has_university','student_is_employed', 'nonstudent_to_school', 'is_student','is_gradeschool',\n",
    "                              'is_gradeschool','is_highschool','is_university','school_segment','is_worker','home_taz',  \n",
    "                             'school_taz','distance_to_school','roundtrip_auto_time_to_school','workplace_taz',\n",
    "                              'distance_to_work','workplace_in_cbd', 'work_taz_area_type', 'hh_race_of_head',\n",
    "                             'roundtrip_auto_time_to_work','work_auto_savings_ratio','cdap_activity', 'travel_active', \n",
    "                              'under16_not_at_school','has_preschool_kid_at_home', 'block_id','gt2','hispanic_head',\n",
    "                             'has_school_kid_at_home','work_and_school_and_worker', 'age_of_head', 'race_of_head',\n",
    "                              'work_and_school_and_student', 'VEHICL','hh_children','hh_age_of_head','num_workers',\n",
    "                              'gt55','seniors', 'recent_mover', 'hh_workers', 'hispanic_status_of_head', 'hh_seniors', \n",
    "                             'hh_type', 'TAZ_y', 'HHT', 'sample_rate', 'chunk_id', 'income_segment', 'num_non_workers', \n",
    "                             'num_drivers', 'num_adults', 'num_children', 'hh_work_auto_savings_ratio', 'num_travel_active', \n",
    "                             'num_travel_active_adults','num_travel_active_preschoolers', 'num_travel_active_children', \n",
    "                              'num_travel_active_non_preschoolers', 'participates_in_jtf_model', 'joint_tour_frequency',\n",
    "                              'num_hh_joint_tours', 'SERIALNO', 'HINCP', 'JWMNP', 'JWRIP', 'JWTR', 'RAC1P', 'RAC2P05'], axis=1)"
   ]
  },
  {
   "cell_type": "code",
   "execution_count": 124,
   "id": "8d1c6b28",
   "metadata": {},
   "outputs": [],
   "source": [
    "sf_stacked = sf_stacked.drop(['serialno'], axis=1)"
   ]
  },
  {
   "cell_type": "code",
   "execution_count": 125,
   "id": "1f8e1de8",
   "metadata": {},
   "outputs": [
    {
     "data": {
      "text/plain": [
       "(10156414, 138)"
      ]
     },
     "execution_count": 125,
     "metadata": {},
     "output_type": "execute_result"
    }
   ],
   "source": [
    "sf_stacked.shape"
   ]
  },
  {
   "cell_type": "code",
   "execution_count": 126,
   "id": "982194b9",
   "metadata": {},
   "outputs": [],
   "source": [
    "sf_stacked['lever'] = \"default\""
   ]
  },
  {
   "cell_type": "code",
   "execution_count": 127,
   "id": "7cb3f47d",
   "metadata": {},
   "outputs": [],
   "source": [
    "sf_stacked['lever'] = sf_stacked['lever'].astype(\"category\")"
   ]
  },
  {
   "cell_type": "code",
   "execution_count": 128,
   "id": "90632e07",
   "metadata": {},
   "outputs": [],
   "source": [
    "sf_stacked['lever'] = np.where((sf_stacked['scenario'] == 'TransitFreq0p5')|(sf_stacked['scenario'] == 'TransitFreq1p5')|\n",
    "                               (sf_stacked['scenario'] == 'TransitFreq2'), 'Frequency' , sf_stacked['lever'])"
   ]
  },
  {
   "cell_type": "code",
   "execution_count": 129,
   "id": "b564dbdc",
   "metadata": {},
   "outputs": [],
   "source": [
    "sf_stacked['lever_position'] = 1"
   ]
  },
  {
   "cell_type": "code",
   "execution_count": 130,
   "id": "d184615e",
   "metadata": {},
   "outputs": [],
   "source": [
    "sf_stacked['lever_position'] = np.where(sf_stacked['scenario'] == 'TransitFreq0p5', 0.5 , sf_stacked['lever_position'])"
   ]
  },
  {
   "cell_type": "code",
   "execution_count": 131,
   "id": "a71f7417",
   "metadata": {},
   "outputs": [],
   "source": [
    "sf_stacked['lever_position'] = np.where(sf_stacked['scenario'] == 'TransitFreq1p5', 1.5 , sf_stacked['lever_position'])"
   ]
  },
  {
   "cell_type": "code",
   "execution_count": 132,
   "id": "3c6c8d4f",
   "metadata": {},
   "outputs": [],
   "source": [
    "sf_stacked['lever_position'] = np.where(sf_stacked['scenario'] == 'TransitFreq2', 2 , sf_stacked['lever_position'])"
   ]
  },
  {
   "cell_type": "code",
   "execution_count": 133,
   "id": "f1166d07",
   "metadata": {},
   "outputs": [],
   "source": [
    "sf_stacked['scenario'] = np.where(sf_stacked['scenario'] == 'TransitFreq0p5', \"transit\" , sf_stacked['scenario'])"
   ]
  },
  {
   "cell_type": "code",
   "execution_count": 134,
   "id": "e1796bc4",
   "metadata": {},
   "outputs": [],
   "source": [
    "sf_stacked['scenario'] = np.where(sf_stacked['scenario'] == 'TransitFreq1p5', \"transit\" , sf_stacked['scenario'])"
   ]
  },
  {
   "cell_type": "code",
   "execution_count": 135,
   "id": "0583c279",
   "metadata": {},
   "outputs": [],
   "source": [
    "sf_stacked['scenario'] = np.where(sf_stacked['scenario'] == 'TransitFreq2', \"transit\" , sf_stacked['scenario'])"
   ]
  },
  {
   "cell_type": "code",
   "execution_count": 137,
   "id": "6cefd5b8",
   "metadata": {},
   "outputs": [
    {
     "data": {
      "text/plain": [
       "(10156414, 140)"
      ]
     },
     "execution_count": 137,
     "metadata": {},
     "output_type": "execute_result"
    }
   ],
   "source": [
    "sf_stacked.shape"
   ]
  },
  {
   "cell_type": "code",
   "execution_count": null,
   "id": "d1a4e255",
   "metadata": {},
   "outputs": [],
   "source": [
    "#%%time\n",
    "#sf_stacked.to_csv('s3://beam-core-act/deepDive/CleanData/SanFrancisco/Stacked/sf_2018_stacked_tr_fr.csv', index=False)"
   ]
  },
  {
   "cell_type": "markdown",
   "id": "d4867114",
   "metadata": {},
   "source": [
    "#### Stacked File"
   ]
  },
  {
   "cell_type": "code",
   "execution_count": 3,
   "id": "9c0e0def",
   "metadata": {},
   "outputs": [
    {
     "name": "stderr",
     "output_type": "stream",
     "text": [
      "<timed exec>:2: DtypeWarning: Columns (37) have mixed types. Specify dtype option on import or set low_memory=False.\n"
     ]
    },
    {
     "name": "stdout",
     "output_type": "stream",
     "text": [
      "CPU times: total: 3min 46s\n",
      "Wall time: 8min 2s\n"
     ]
    }
   ],
   "source": [
    "%%time\n",
    "stacked_tr_fr_path = \"https://beam-core-act.s3.amazonaws.com/deepDive/CleanData/SanFrancisco/Stacked/\"\n",
    "sf_stacked_tr_fr = pd.read_csv(stacked_tr_fr_path + 'sf_2018_stacked_tr_fr.csv')"
   ]
  },
  {
   "cell_type": "code",
   "execution_count": 4,
   "id": "8b7d1452",
   "metadata": {},
   "outputs": [],
   "source": [
    "sf_stacked_tr_fr = sf_stacked_tr_fr.sort_values(by=['IDMerged', 'tripIndex', 'lever_position']).reset_index(drop=True)"
   ]
  },
  {
   "cell_type": "code",
   "execution_count": 5,
   "id": "508b76a9",
   "metadata": {},
   "outputs": [],
   "source": [
    "# shift column 'person' to first position\n",
    "first_column = sf_stacked_tr_fr.pop('lever')\n",
    "second_column = sf_stacked_tr_fr.pop('lever_position')\n",
    "third_column = sf_stacked_tr_fr.pop('logsum_trip_mode_AS_trips')\n",
    "# insert column using insert(position,column_name,first_column) function\n",
    "sf_stacked_tr_fr.insert(2, 'lever', first_column)\n",
    "sf_stacked_tr_fr.insert(3, 'lever_position', second_column)\n",
    "sf_stacked_tr_fr.insert(4, 'logsum_trip_mode_AS_trips', third_column)"
   ]
  },
  {
   "cell_type": "code",
   "execution_count": 8,
   "id": "1afdc247",
   "metadata": {},
   "outputs": [],
   "source": [
    "#sf_stacked_tr_fr['logsum_relative_to_baseline'] = sf_stacked_tr_fr.groupby(['IDMerged','tripIndex'])['logsum_trip_mode_AS_trips'].apply(lambda x: x.diff())"
   ]
  },
  {
   "cell_type": "code",
   "execution_count": 9,
   "id": "68d6a4de",
   "metadata": {},
   "outputs": [],
   "source": [
    "#sf_stacked_tr_fr['logsum_relative_to_baseline'] = sf_stacked_tr_fr['logsum_trip_mode_AS_trips'] - sf_stacked_tr_fr.loc[sf_stacked_tr_fr.groupby(['IDMerged','tripIndex'])['lever_position'].transform('idxmin'), 'logsum_trip_mode_AS_trips'].values"
   ]
  },
  {
   "cell_type": "code",
   "execution_count": 6,
   "id": "2b7802f6",
   "metadata": {},
   "outputs": [
    {
     "name": "stdout",
     "output_type": "stream",
     "text": [
      "CPU times: total: 2.95 s\n",
      "Wall time: 2.85 s\n"
     ]
    }
   ],
   "source": [
    "%%time\n",
    "sf_stacked_tr_fr['logsum_relative_to_baseline'] = sf_stacked_tr_fr['logsum_trip_mode_AS_trips'] - (sf_stacked_tr_fr['logsum_trip_mode_AS_trips'].where(sf_stacked_tr_fr['lever_position'].eq(1.0))\n",
    "                                                                                                  .groupby([sf_stacked_tr_fr['IDMerged'],sf_stacked_tr_fr['tripIndex']])\n",
    "                                                                                                   .transform('first')\n",
    "                                                                                                   .convert_dtypes())"
   ]
  },
  {
   "cell_type": "code",
   "execution_count": 7,
   "id": "2c4e35a6",
   "metadata": {},
   "outputs": [],
   "source": [
    "sf_stacked_tr_fr['door_to_door_time_relative_to_baseline'] = sf_stacked_tr_fr['duration_door_to_door'] - (sf_stacked_tr_fr['duration_door_to_door'].where(sf_stacked_tr_fr['lever_position'].eq(1.0))\n",
    "                                                                                                  .groupby([sf_stacked_tr_fr['IDMerged'],sf_stacked_tr_fr['tripIndex']])\n",
    "                                                                                                   .transform('first')\n",
    "                                                                                                   .convert_dtypes())"
   ]
  },
  {
   "cell_type": "code",
   "execution_count": 10,
   "id": "05288fdd",
   "metadata": {},
   "outputs": [],
   "source": [
    "# shift columns to first position\n",
    "first_column = sf_stacked_tr_fr.pop('logsum_relative_to_baseline')\n",
    "second_column = sf_stacked_tr_fr.pop('door_to_door_time_relative_to_baseline')\n",
    "third_column = sf_stacked_tr_fr.pop('income')\n",
    "fourth_column = sf_stacked_tr_fr.pop('actPurpose')\n",
    "# insert column using insert(position,column_name,first_column) function\n",
    "sf_stacked_tr_fr.insert(5, 'logsum_relative_to_baseline', first_column)\n",
    "sf_stacked_tr_fr.insert(6, 'door_to_door_time_relative_to_baseline', second_column)\n",
    "sf_stacked_tr_fr.insert(7, 'income', third_column)\n",
    "sf_stacked_tr_fr.insert(8, 'actPurpose', fourth_column)"
   ]
  },
  {
   "cell_type": "code",
   "execution_count": 12,
   "id": "4a4453b5",
   "metadata": {},
   "outputs": [],
   "source": [
    "# Drop unused columns\n",
    "sf_stacked_tr_fr = sf_stacked_tr_fr.drop(['sf_detached','destination_logsum_x',\n",
    "                                          'household_id_x','destination_logsum_y','logsum_tours_mode_AS_tours','primary_purpose_y',\n",
    "                                          'PNUM','workplace_location_logsum','work_auto_savings','mandatory_tour_frequency',\n",
    "                                          'SPORDER'], axis=1)"
   ]
  },
  {
   "cell_type": "code",
   "execution_count": 13,
   "id": "881b7068",
   "metadata": {},
   "outputs": [],
   "source": [
    "# Rename to potential INEXUS\n",
    "sf_stacked_tr_fr.rename(columns={\"logsum_trip_mode_AS_trips\":\"logsum_trip_potential_INEXUS\"}, inplace=True) "
   ]
  },
  {
   "cell_type": "code",
   "execution_count": 16,
   "id": "4cf9e883",
   "metadata": {},
   "outputs": [],
   "source": [
    "# Column with six summarized modes\n",
    "conditions  = [(sf_stacked_tr_fr['mode_choice_actual_BEAM'] == 'ride_hail') | (sf_stacked_tr_fr['mode_choice_actual_BEAM'] == 'ride_hail_pooled'), \n",
    "               (sf_stacked_tr_fr['mode_choice_actual_BEAM'] == 'walk_transit') | (sf_stacked_tr_fr['mode_choice_actual_BEAM'] == 'drive_transit')|(sf_stacked_tr_fr['mode_choice_actual_BEAM'] == 'bike_transit'),\n",
    "               (sf_stacked_tr_fr['mode_choice_actual_BEAM'] == 'walk'), (sf_stacked_tr_fr['mode_choice_actual_BEAM'] == 'bike'),\n",
    "               (sf_stacked_tr_fr['mode_choice_actual_BEAM'] == 'car') | (sf_stacked_tr_fr['mode_choice_actual_BEAM'] == 'car_hov2')| (sf_stacked_tr_fr['mode_choice_actual_BEAM'] == 'car_hov3')|(sf_stacked_tr_fr['mode_choice_actual_BEAM'] == 'hov2_teleportation')| (sf_stacked_tr_fr['mode_choice_actual_BEAM'] == 'hov3_teleportation'),\n",
    "               (sf_stacked_tr_fr['mode_choice_actual_BEAM'] == 'ride_hail_transit')]\n",
    "choices = [ 'ride_hail', 'transit', 'walk', 'bike', 'car', 'ride_hail_transit']"
   ]
  },
  {
   "cell_type": "code",
   "execution_count": 17,
   "id": "29c854cb",
   "metadata": {},
   "outputs": [],
   "source": [
    "sf_stacked_tr_fr['mode_choice_actual_6'] = np.select(conditions, choices, default=np.nan)"
   ]
  },
  {
   "cell_type": "code",
   "execution_count": 30,
   "id": "3c607220",
   "metadata": {},
   "outputs": [],
   "source": [
    "# shift columns to first position\n",
    "#first_column = sf_stacked_tr_fr.pop('mode_choice_actual_6')\n",
    "second_column = sf_stacked_tr_fr.pop('mode_choice_actual_BEAM')\n",
    "#third_column = sf_stacked_tr_fr.pop('income')\n",
    "#fourth_column = sf_stacked_tr_fr.pop('actPurpose')\n",
    "# insert column using insert(position,column_name,first_column) function\n",
    "#sf_stacked_tr_fr.insert(9, 'mode_choice_actual_6', first_column)\n",
    "sf_stacked_tr_fr.insert(10, 'mode_choice_actual_BEAM', second_column)\n",
    "#sf_stacked_tr_fr.insert(11, 'income', third_column)\n",
    "#sf_stacked_tr_fr.insert(12, 'actPurpose', fourth_column)"
   ]
  },
  {
   "cell_type": "code",
   "execution_count": 28,
   "id": "9c9a5c70",
   "metadata": {},
   "outputs": [
    {
     "data": {
      "text/plain": [
       "(2607, 132)"
      ]
     },
     "execution_count": 28,
     "metadata": {},
     "output_type": "execute_result"
    }
   ],
   "source": [
    "sf_stacked_tr_fr[sf_stacked_tr_fr['mode_choice_actual_6'] == 'ride_hail_transit'].shape"
   ]
  },
  {
   "cell_type": "code",
   "execution_count": 26,
   "id": "476c23f4",
   "metadata": {},
   "outputs": [
    {
     "data": {
      "text/plain": [
       "(24516, 132)"
      ]
     },
     "execution_count": 26,
     "metadata": {},
     "output_type": "execute_result"
    }
   ],
   "source": [
    "sf_stacked_tr_fr[sf_stacked_tr_fr['replanning_status'] > 0].shape"
   ]
  },
  {
   "cell_type": "code",
   "execution_count": 34,
   "id": "c3e03fc9",
   "metadata": {},
   "outputs": [
    {
     "data": {
      "text/html": [
       "<div>\n",
       "<style scoped>\n",
       "    .dataframe tbody tr th:only-of-type {\n",
       "        vertical-align: middle;\n",
       "    }\n",
       "\n",
       "    .dataframe tbody tr th {\n",
       "        vertical-align: top;\n",
       "    }\n",
       "\n",
       "    .dataframe thead th {\n",
       "        text-align: right;\n",
       "    }\n",
       "</style>\n",
       "<table border=\"1\" class=\"dataframe\">\n",
       "  <thead>\n",
       "    <tr style=\"text-align: right;\">\n",
       "      <th></th>\n",
       "      <th>IDMerged</th>\n",
       "      <th>tripIndex</th>\n",
       "      <th>lever</th>\n",
       "      <th>lever_position</th>\n",
       "      <th>logsum_trip_potential_INEXUS</th>\n",
       "      <th>logsum_relative_to_baseline</th>\n",
       "      <th>door_to_door_time_relative_to_baseline</th>\n",
       "      <th>income</th>\n",
       "      <th>actPurpose</th>\n",
       "      <th>mode_choice_actual_6</th>\n",
       "      <th>mode_choice_actual_BEAM</th>\n",
       "      <th>actEndTime</th>\n",
       "      <th>actEndType</th>\n",
       "      <th>actStartTime</th>\n",
       "      <th>actStartType</th>\n",
       "      <th>cost_BEAM</th>\n",
       "      <th>distance_bike</th>\n",
       "      <th>distance_mode_choice</th>\n",
       "      <th>distance_privateCar</th>\n",
       "      <th>distance_ridehail</th>\n",
       "      <th>distance_transit</th>\n",
       "      <th>distance_travelling</th>\n",
       "      <th>distance_walking</th>\n",
       "      <th>duration_in_privateCar</th>\n",
       "      <th>duration_in_ridehail</th>\n",
       "      <th>duration_in_transit</th>\n",
       "      <th>duration_on_bike</th>\n",
       "      <th>duration_travelling</th>\n",
       "      <th>duration_walking</th>\n",
       "      <th>emissionBiodiesel</th>\n",
       "      <th>emissionDiesel</th>\n",
       "      <th>emissionElectricity</th>\n",
       "      <th>emissionFood</th>\n",
       "      <th>emissionGasoline</th>\n",
       "      <th>emission_marginal</th>\n",
       "      <th>fuelBiodiesel</th>\n",
       "      <th>fuelDiesel</th>\n",
       "      <th>fuelElectricity</th>\n",
       "      <th>fuelFood</th>\n",
       "      <th>fuelGasoline</th>\n",
       "      <th>fuel_marginal</th>\n",
       "      <th>fuel_not_Food</th>\n",
       "      <th>mode_choice_planned_BEAM</th>\n",
       "      <th>numPassengers</th>\n",
       "      <th>parkingType</th>\n",
       "      <th>reason</th>\n",
       "      <th>replanning_status</th>\n",
       "      <th>ride_hail_pooled</th>\n",
       "      <th>scenario</th>\n",
       "      <th>transit_bus</th>\n",
       "      <th>transit_cable_car</th>\n",
       "      <th>transit_rail</th>\n",
       "      <th>transit_subway</th>\n",
       "      <th>transit_tram</th>\n",
       "      <th>vehicleIds</th>\n",
       "      <th>year</th>\n",
       "      <th>duration_door_to_door</th>\n",
       "      <th>waitTime</th>\n",
       "      <th>mode_choice_actual_5</th>\n",
       "      <th>trip_id</th>\n",
       "      <th>person_id</th>\n",
       "      <th>household_id</th>\n",
       "      <th>tour_id</th>\n",
       "      <th>primary_purpose_x</th>\n",
       "      <th>trip_count</th>\n",
       "      <th>purpose</th>\n",
       "      <th>trip_mode_AS_trips</th>\n",
       "      <th>tour_type</th>\n",
       "      <th>tour_category</th>\n",
       "      <th>start</th>\n",
       "      <th>end</th>\n",
       "      <th>duration</th>\n",
       "      <th>tour_mode_AS_tours</th>\n",
       "      <th>earning</th>\n",
       "      <th>person_sex</th>\n",
       "      <th>sex</th>\n",
       "      <th>edu</th>\n",
       "      <th>race</th>\n",
       "      <th>work_at_home</th>\n",
       "      <th>age</th>\n",
       "      <th>value_of_time</th>\n",
       "      <th>free_parking_at_work</th>\n",
       "      <th>num_mand</th>\n",
       "      <th>num_work_tours</th>\n",
       "      <th>num_joint_tours</th>\n",
       "      <th>non_mandatory_tour_frequency</th>\n",
       "      <th>num_non_mand</th>\n",
       "      <th>num_escort_tours</th>\n",
       "      <th>num_eatout_tours</th>\n",
       "      <th>num_shop_tours</th>\n",
       "      <th>num_maint_tours</th>\n",
       "      <th>num_discr_tours</th>\n",
       "      <th>num_social_tours</th>\n",
       "      <th>num_non_escort_tours</th>\n",
       "      <th>lcm_county_id</th>\n",
       "      <th>tenure_mover</th>\n",
       "      <th>hh_size</th>\n",
       "      <th>tenure</th>\n",
       "      <th>hh_cars</th>\n",
       "      <th>hh_income</th>\n",
       "      <th>hhsize</th>\n",
       "      <th>income_in_thousands</th>\n",
       "      <th>median_value_of_time</th>\n",
       "      <th>hh_value_of_time</th>\n",
       "      <th>home_is_urban</th>\n",
       "      <th>home_is_rural</th>\n",
       "      <th>auto_ownership</th>\n",
       "      <th>AGEP</th>\n",
       "      <th>SEX</th>\n",
       "      <th>DIS</th>\n",
       "      <th>VEH</th>\n",
       "      <th>DRIVEALONEFREE</th>\n",
       "      <th>DRIVEALONEPAY</th>\n",
       "      <th>SHARED2FREE</th>\n",
       "      <th>SHARED2PAY</th>\n",
       "      <th>SHARED3FREE</th>\n",
       "      <th>SHARED3PAY</th>\n",
       "      <th>WALK</th>\n",
       "      <th>BIKE</th>\n",
       "      <th>WALK_LOC</th>\n",
       "      <th>WALK_LRF</th>\n",
       "      <th>WALK_EXP</th>\n",
       "      <th>WALK_HVY</th>\n",
       "      <th>WALK_COM</th>\n",
       "      <th>DRIVE_LOC</th>\n",
       "      <th>DRIVE_LRF</th>\n",
       "      <th>DRIVE_EXP</th>\n",
       "      <th>DRIVE_HVY</th>\n",
       "      <th>DRIVE_COM</th>\n",
       "      <th>TAXI</th>\n",
       "      <th>TNC_SINGLE</th>\n",
       "      <th>TNC_SHARED</th>\n",
       "    </tr>\n",
       "  </thead>\n",
       "  <tbody>\n",
       "    <tr>\n",
       "      <th>10156409</th>\n",
       "      <td>7399583</td>\n",
       "      <td>2.427063e+09</td>\n",
       "      <td>Frequency</td>\n",
       "      <td>2.0</td>\n",
       "      <td>-0.233137</td>\n",
       "      <td>-0.009141</td>\n",
       "      <td>-172.0</td>\n",
       "      <td>50300.0</td>\n",
       "      <td>othmaint_to_othmaint</td>\n",
       "      <td>car</td>\n",
       "      <td>car</td>\n",
       "      <td>40502.0</td>\n",
       "      <td>othmaint</td>\n",
       "      <td>41042.0</td>\n",
       "      <td>othmaint</td>\n",
       "      <td>1.222932</td>\n",
       "      <td>0.0</td>\n",
       "      <td>11150.061</td>\n",
       "      <td>11150.061</td>\n",
       "      <td>0.0</td>\n",
       "      <td>0.0</td>\n",
       "      <td>11150.061</td>\n",
       "      <td>0.000</td>\n",
       "      <td>540.0</td>\n",
       "      <td>0.0</td>\n",
       "      <td>0.0</td>\n",
       "      <td>0.0</td>\n",
       "      <td>540.0</td>\n",
       "      <td>0.0</td>\n",
       "      <td>0.0</td>\n",
       "      <td>0.0</td>\n",
       "      <td>0.0</td>\n",
       "      <td>0.0</td>\n",
       "      <td>0.001361</td>\n",
       "      <td>0.0</td>\n",
       "      <td>0.0</td>\n",
       "      <td>0.0</td>\n",
       "      <td>0.0</td>\n",
       "      <td>0.000</td>\n",
       "      <td>1.841971e+07</td>\n",
       "      <td>1.841971e+07</td>\n",
       "      <td>1.841971e+07</td>\n",
       "      <td>car</td>\n",
       "      <td>1.0, 0.0, 0.0, 1.0</td>\n",
       "      <td>Public, Public</td>\n",
       "      <td>NaN</td>\n",
       "      <td>0</td>\n",
       "      <td>0</td>\n",
       "      <td>transit</td>\n",
       "      <td>0</td>\n",
       "      <td>0</td>\n",
       "      <td>0</td>\n",
       "      <td>0</td>\n",
       "      <td>0</td>\n",
       "      <td>body-7399583, 397535</td>\n",
       "      <td>2018</td>\n",
       "      <td>540.0</td>\n",
       "      <td>0.0</td>\n",
       "      <td>car</td>\n",
       "      <td>2.427063e+09</td>\n",
       "      <td>7399583.0</td>\n",
       "      <td>2895003.0</td>\n",
       "      <td>303382931.0</td>\n",
       "      <td>othmaint</td>\n",
       "      <td>2.0</td>\n",
       "      <td>othmaint</td>\n",
       "      <td>DRIVEALONEFREE</td>\n",
       "      <td>othmaint</td>\n",
       "      <td>non_mandatory</td>\n",
       "      <td>8.0</td>\n",
       "      <td>20.0</td>\n",
       "      <td>12.0</td>\n",
       "      <td>SHARED2FREE</td>\n",
       "      <td>0.0</td>\n",
       "      <td>female</td>\n",
       "      <td>2.0</td>\n",
       "      <td>19.0</td>\n",
       "      <td>white</td>\n",
       "      <td>0.0</td>\n",
       "      <td>63.0</td>\n",
       "      <td>5.413348</td>\n",
       "      <td>False</td>\n",
       "      <td>0.0</td>\n",
       "      <td>0.0</td>\n",
       "      <td>0.0</td>\n",
       "      <td>8.0</td>\n",
       "      <td>1.0</td>\n",
       "      <td>0.0</td>\n",
       "      <td>0.0</td>\n",
       "      <td>0.0</td>\n",
       "      <td>1.0</td>\n",
       "      <td>0.0</td>\n",
       "      <td>0.0</td>\n",
       "      <td>1.0</td>\n",
       "      <td>6081.0</td>\n",
       "      <td>own not recent</td>\n",
       "      <td>one</td>\n",
       "      <td>1.0</td>\n",
       "      <td>one</td>\n",
       "      <td>gt30-lt60</td>\n",
       "      <td>1.0</td>\n",
       "      <td>50.3</td>\n",
       "      <td>8.81</td>\n",
       "      <td>5.413348</td>\n",
       "      <td>False</td>\n",
       "      <td>False</td>\n",
       "      <td>1.0</td>\n",
       "      <td>63.0</td>\n",
       "      <td>2.0</td>\n",
       "      <td>2.0</td>\n",
       "      <td>1.0</td>\n",
       "      <td>-0.809381</td>\n",
       "      <td>-0.818719</td>\n",
       "      <td>-1000.531417</td>\n",
       "      <td>-1000.536753</td>\n",
       "      <td>-1000.526392</td>\n",
       "      <td>-1000.530127</td>\n",
       "      <td>-19.998541</td>\n",
       "      <td>-1001.430446</td>\n",
       "      <td>-1001.079926</td>\n",
       "      <td>-1999.280771</td>\n",
       "      <td>-2000.079926</td>\n",
       "      <td>-2000.040215</td>\n",
       "      <td>-1998.228851</td>\n",
       "      <td>-1998.258251</td>\n",
       "      <td>-1998.258251</td>\n",
       "      <td>-1998.258251</td>\n",
       "      <td>-1998.258251</td>\n",
       "      <td>-1998.258251</td>\n",
       "      <td>-5.312021</td>\n",
       "      <td>-4.156547</td>\n",
       "      <td>-2.842031</td>\n",
       "    </tr>\n",
       "    <tr>\n",
       "      <th>10156410</th>\n",
       "      <td>7399583</td>\n",
       "      <td>2.427063e+09</td>\n",
       "      <td>Frequency</td>\n",
       "      <td>0.5</td>\n",
       "      <td>-0.474279</td>\n",
       "      <td>-0.863033</td>\n",
       "      <td>-161.0</td>\n",
       "      <td>50300.0</td>\n",
       "      <td>othmaint_to_Home</td>\n",
       "      <td>car</td>\n",
       "      <td>car</td>\n",
       "      <td>42854.0</td>\n",
       "      <td>othmaint</td>\n",
       "      <td>43866.0</td>\n",
       "      <td>Home</td>\n",
       "      <td>2.405412</td>\n",
       "      <td>0.0</td>\n",
       "      <td>21931.300</td>\n",
       "      <td>21931.300</td>\n",
       "      <td>0.0</td>\n",
       "      <td>0.0</td>\n",
       "      <td>21931.300</td>\n",
       "      <td>0.000</td>\n",
       "      <td>1012.0</td>\n",
       "      <td>0.0</td>\n",
       "      <td>0.0</td>\n",
       "      <td>0.0</td>\n",
       "      <td>1012.0</td>\n",
       "      <td>0.0</td>\n",
       "      <td>0.0</td>\n",
       "      <td>0.0</td>\n",
       "      <td>0.0</td>\n",
       "      <td>0.0</td>\n",
       "      <td>0.002369</td>\n",
       "      <td>0.0</td>\n",
       "      <td>0.0</td>\n",
       "      <td>0.0</td>\n",
       "      <td>0.0</td>\n",
       "      <td>0.000</td>\n",
       "      <td>3.204840e+07</td>\n",
       "      <td>3.204840e+07</td>\n",
       "      <td>3.204840e+07</td>\n",
       "      <td>car</td>\n",
       "      <td>1.0, 0.0, 0.0, 1.0</td>\n",
       "      <td>Public, Residential</td>\n",
       "      <td>NaN</td>\n",
       "      <td>0</td>\n",
       "      <td>0</td>\n",
       "      <td>transit</td>\n",
       "      <td>0</td>\n",
       "      <td>0</td>\n",
       "      <td>0</td>\n",
       "      <td>0</td>\n",
       "      <td>0</td>\n",
       "      <td>397535, body-7399583</td>\n",
       "      <td>2018</td>\n",
       "      <td>1012.0</td>\n",
       "      <td>0.0</td>\n",
       "      <td>car</td>\n",
       "      <td>2.427063e+09</td>\n",
       "      <td>7399583.0</td>\n",
       "      <td>2895003.0</td>\n",
       "      <td>303382931.0</td>\n",
       "      <td>othmaint</td>\n",
       "      <td>2.0</td>\n",
       "      <td>Home</td>\n",
       "      <td>DRIVEALONEPAY</td>\n",
       "      <td>othmaint</td>\n",
       "      <td>non_mandatory</td>\n",
       "      <td>8.0</td>\n",
       "      <td>20.0</td>\n",
       "      <td>12.0</td>\n",
       "      <td>SHARED2FREE</td>\n",
       "      <td>0.0</td>\n",
       "      <td>female</td>\n",
       "      <td>2.0</td>\n",
       "      <td>19.0</td>\n",
       "      <td>white</td>\n",
       "      <td>0.0</td>\n",
       "      <td>63.0</td>\n",
       "      <td>5.413348</td>\n",
       "      <td>False</td>\n",
       "      <td>0.0</td>\n",
       "      <td>0.0</td>\n",
       "      <td>0.0</td>\n",
       "      <td>8.0</td>\n",
       "      <td>1.0</td>\n",
       "      <td>0.0</td>\n",
       "      <td>0.0</td>\n",
       "      <td>0.0</td>\n",
       "      <td>1.0</td>\n",
       "      <td>0.0</td>\n",
       "      <td>0.0</td>\n",
       "      <td>1.0</td>\n",
       "      <td>6081.0</td>\n",
       "      <td>own not recent</td>\n",
       "      <td>one</td>\n",
       "      <td>1.0</td>\n",
       "      <td>one</td>\n",
       "      <td>gt30-lt60</td>\n",
       "      <td>1.0</td>\n",
       "      <td>50.3</td>\n",
       "      <td>8.81</td>\n",
       "      <td>5.413348</td>\n",
       "      <td>False</td>\n",
       "      <td>False</td>\n",
       "      <td>1.0</td>\n",
       "      <td>63.0</td>\n",
       "      <td>2.0</td>\n",
       "      <td>2.0</td>\n",
       "      <td>1.0</td>\n",
       "      <td>-0.703996</td>\n",
       "      <td>-0.711579</td>\n",
       "      <td>-1000.430404</td>\n",
       "      <td>-1000.434738</td>\n",
       "      <td>-1000.427128</td>\n",
       "      <td>-1000.430161</td>\n",
       "      <td>-46.067103</td>\n",
       "      <td>-1014.463761</td>\n",
       "      <td>-1000.282505</td>\n",
       "      <td>-1998.226915</td>\n",
       "      <td>-1999.457505</td>\n",
       "      <td>-1998.226915</td>\n",
       "      <td>-1998.226915</td>\n",
       "      <td>-1998.256315</td>\n",
       "      <td>-1998.256315</td>\n",
       "      <td>-1998.256315</td>\n",
       "      <td>-1998.256315</td>\n",
       "      <td>-1998.256315</td>\n",
       "      <td>-7.636213</td>\n",
       "      <td>-5.524961</td>\n",
       "      <td>-2.618138</td>\n",
       "    </tr>\n",
       "    <tr>\n",
       "      <th>10156411</th>\n",
       "      <td>7399583</td>\n",
       "      <td>2.427063e+09</td>\n",
       "      <td>default</td>\n",
       "      <td>1.0</td>\n",
       "      <td>0.388754</td>\n",
       "      <td>0.0</td>\n",
       "      <td>0.0</td>\n",
       "      <td>50300.0</td>\n",
       "      <td>othmaint_to_Home</td>\n",
       "      <td>car</td>\n",
       "      <td>car</td>\n",
       "      <td>41436.0</td>\n",
       "      <td>othmaint</td>\n",
       "      <td>42609.0</td>\n",
       "      <td>Home</td>\n",
       "      <td>2.257056</td>\n",
       "      <td>0.0</td>\n",
       "      <td>20882.013</td>\n",
       "      <td>20578.669</td>\n",
       "      <td>0.0</td>\n",
       "      <td>0.0</td>\n",
       "      <td>20882.013</td>\n",
       "      <td>303.344</td>\n",
       "      <td>940.0</td>\n",
       "      <td>0.0</td>\n",
       "      <td>0.0</td>\n",
       "      <td>0.0</td>\n",
       "      <td>1173.0</td>\n",
       "      <td>233.0</td>\n",
       "      <td>0.0</td>\n",
       "      <td>0.0</td>\n",
       "      <td>0.0</td>\n",
       "      <td>0.0</td>\n",
       "      <td>0.002218</td>\n",
       "      <td>0.0</td>\n",
       "      <td>0.0</td>\n",
       "      <td>0.0</td>\n",
       "      <td>0.0</td>\n",
       "      <td>16077.232</td>\n",
       "      <td>3.000630e+07</td>\n",
       "      <td>3.002238e+07</td>\n",
       "      <td>3.000630e+07</td>\n",
       "      <td>car</td>\n",
       "      <td>1.0, 0.0, 0.0, 1.0</td>\n",
       "      <td>Public, Residential</td>\n",
       "      <td>NaN</td>\n",
       "      <td>0</td>\n",
       "      <td>0</td>\n",
       "      <td>baseline</td>\n",
       "      <td>0</td>\n",
       "      <td>0</td>\n",
       "      <td>0</td>\n",
       "      <td>0</td>\n",
       "      <td>0</td>\n",
       "      <td>397535, body-7399583</td>\n",
       "      <td>2018</td>\n",
       "      <td>1173.0</td>\n",
       "      <td>0.0</td>\n",
       "      <td>car</td>\n",
       "      <td>2.427063e+09</td>\n",
       "      <td>7399583.0</td>\n",
       "      <td>2895003.0</td>\n",
       "      <td>303382931.0</td>\n",
       "      <td>othmaint</td>\n",
       "      <td>2.0</td>\n",
       "      <td>Home</td>\n",
       "      <td>DRIVEALONEPAY</td>\n",
       "      <td>othmaint</td>\n",
       "      <td>non_mandatory</td>\n",
       "      <td>8.0</td>\n",
       "      <td>20.0</td>\n",
       "      <td>12.0</td>\n",
       "      <td>SHARED2FREE</td>\n",
       "      <td>0.0</td>\n",
       "      <td>female</td>\n",
       "      <td>2.0</td>\n",
       "      <td>19.0</td>\n",
       "      <td>white</td>\n",
       "      <td>0.0</td>\n",
       "      <td>63.0</td>\n",
       "      <td>5.413348</td>\n",
       "      <td>False</td>\n",
       "      <td>0.0</td>\n",
       "      <td>0.0</td>\n",
       "      <td>0.0</td>\n",
       "      <td>8.0</td>\n",
       "      <td>1.0</td>\n",
       "      <td>0.0</td>\n",
       "      <td>0.0</td>\n",
       "      <td>0.0</td>\n",
       "      <td>1.0</td>\n",
       "      <td>0.0</td>\n",
       "      <td>0.0</td>\n",
       "      <td>1.0</td>\n",
       "      <td>6081.0</td>\n",
       "      <td>own not recent</td>\n",
       "      <td>one</td>\n",
       "      <td>1.0</td>\n",
       "      <td>one</td>\n",
       "      <td>gt30-lt60</td>\n",
       "      <td>1.0</td>\n",
       "      <td>50.3</td>\n",
       "      <td>8.81</td>\n",
       "      <td>5.413348</td>\n",
       "      <td>False</td>\n",
       "      <td>False</td>\n",
       "      <td>1.0</td>\n",
       "      <td>63.0</td>\n",
       "      <td>2.0</td>\n",
       "      <td>2.0</td>\n",
       "      <td>1.0</td>\n",
       "      <td>-0.703996</td>\n",
       "      <td>-0.711579</td>\n",
       "      <td>-1000.430404</td>\n",
       "      <td>-1000.434738</td>\n",
       "      <td>-1000.427128</td>\n",
       "      <td>-1000.430161</td>\n",
       "      <td>-46.067103</td>\n",
       "      <td>-1014.463761</td>\n",
       "      <td>-1000.282505</td>\n",
       "      <td>-1998.226915</td>\n",
       "      <td>-1999.457505</td>\n",
       "      <td>-1998.226915</td>\n",
       "      <td>-1998.226915</td>\n",
       "      <td>-1998.256315</td>\n",
       "      <td>-1998.256315</td>\n",
       "      <td>-1998.256315</td>\n",
       "      <td>-1998.256315</td>\n",
       "      <td>-1998.256315</td>\n",
       "      <td>-7.636213</td>\n",
       "      <td>-5.524961</td>\n",
       "      <td>-2.617893</td>\n",
       "    </tr>\n",
       "    <tr>\n",
       "      <th>10156412</th>\n",
       "      <td>7399583</td>\n",
       "      <td>2.427063e+09</td>\n",
       "      <td>Frequency</td>\n",
       "      <td>1.5</td>\n",
       "      <td>0.055413</td>\n",
       "      <td>-0.333342</td>\n",
       "      <td>-2.0</td>\n",
       "      <td>50300.0</td>\n",
       "      <td>othmaint_to_Home</td>\n",
       "      <td>car</td>\n",
       "      <td>car</td>\n",
       "      <td>42253.0</td>\n",
       "      <td>othmaint</td>\n",
       "      <td>43424.0</td>\n",
       "      <td>Home</td>\n",
       "      <td>2.433778</td>\n",
       "      <td>0.0</td>\n",
       "      <td>22364.823</td>\n",
       "      <td>22189.927</td>\n",
       "      <td>0.0</td>\n",
       "      <td>0.0</td>\n",
       "      <td>22364.823</td>\n",
       "      <td>174.896</td>\n",
       "      <td>1036.0</td>\n",
       "      <td>0.0</td>\n",
       "      <td>0.0</td>\n",
       "      <td>0.0</td>\n",
       "      <td>1171.0</td>\n",
       "      <td>135.0</td>\n",
       "      <td>0.0</td>\n",
       "      <td>0.0</td>\n",
       "      <td>0.0</td>\n",
       "      <td>0.0</td>\n",
       "      <td>0.002592</td>\n",
       "      <td>0.0</td>\n",
       "      <td>0.0</td>\n",
       "      <td>0.0</td>\n",
       "      <td>0.0</td>\n",
       "      <td>9269.488</td>\n",
       "      <td>3.506473e+07</td>\n",
       "      <td>3.507400e+07</td>\n",
       "      <td>3.506473e+07</td>\n",
       "      <td>car</td>\n",
       "      <td>1.0, 0.0, 0.0, 1.0</td>\n",
       "      <td>Public, Residential</td>\n",
       "      <td>NaN</td>\n",
       "      <td>0</td>\n",
       "      <td>0</td>\n",
       "      <td>transit</td>\n",
       "      <td>0</td>\n",
       "      <td>0</td>\n",
       "      <td>0</td>\n",
       "      <td>0</td>\n",
       "      <td>0</td>\n",
       "      <td>397535, body-7399583</td>\n",
       "      <td>2018</td>\n",
       "      <td>1171.0</td>\n",
       "      <td>0.0</td>\n",
       "      <td>car</td>\n",
       "      <td>2.427063e+09</td>\n",
       "      <td>7399583.0</td>\n",
       "      <td>2895003.0</td>\n",
       "      <td>303382931.0</td>\n",
       "      <td>othmaint</td>\n",
       "      <td>2.0</td>\n",
       "      <td>Home</td>\n",
       "      <td>DRIVEALONEPAY</td>\n",
       "      <td>othmaint</td>\n",
       "      <td>non_mandatory</td>\n",
       "      <td>8.0</td>\n",
       "      <td>20.0</td>\n",
       "      <td>12.0</td>\n",
       "      <td>SHARED2FREE</td>\n",
       "      <td>0.0</td>\n",
       "      <td>female</td>\n",
       "      <td>2.0</td>\n",
       "      <td>19.0</td>\n",
       "      <td>white</td>\n",
       "      <td>0.0</td>\n",
       "      <td>63.0</td>\n",
       "      <td>5.413348</td>\n",
       "      <td>False</td>\n",
       "      <td>0.0</td>\n",
       "      <td>0.0</td>\n",
       "      <td>0.0</td>\n",
       "      <td>8.0</td>\n",
       "      <td>1.0</td>\n",
       "      <td>0.0</td>\n",
       "      <td>0.0</td>\n",
       "      <td>0.0</td>\n",
       "      <td>1.0</td>\n",
       "      <td>0.0</td>\n",
       "      <td>0.0</td>\n",
       "      <td>1.0</td>\n",
       "      <td>6081.0</td>\n",
       "      <td>own not recent</td>\n",
       "      <td>one</td>\n",
       "      <td>1.0</td>\n",
       "      <td>one</td>\n",
       "      <td>gt30-lt60</td>\n",
       "      <td>1.0</td>\n",
       "      <td>50.3</td>\n",
       "      <td>8.81</td>\n",
       "      <td>5.413348</td>\n",
       "      <td>False</td>\n",
       "      <td>False</td>\n",
       "      <td>1.0</td>\n",
       "      <td>63.0</td>\n",
       "      <td>2.0</td>\n",
       "      <td>2.0</td>\n",
       "      <td>1.0</td>\n",
       "      <td>-1.092900</td>\n",
       "      <td>-1.105661</td>\n",
       "      <td>-1000.819308</td>\n",
       "      <td>-1000.826601</td>\n",
       "      <td>-1000.816032</td>\n",
       "      <td>-1000.821136</td>\n",
       "      <td>-46.067103</td>\n",
       "      <td>-1014.463761</td>\n",
       "      <td>-1000.282505</td>\n",
       "      <td>-1998.226915</td>\n",
       "      <td>-1999.457505</td>\n",
       "      <td>-1998.226915</td>\n",
       "      <td>-1998.226915</td>\n",
       "      <td>-1998.256315</td>\n",
       "      <td>-1998.256315</td>\n",
       "      <td>-1998.256315</td>\n",
       "      <td>-1998.256315</td>\n",
       "      <td>-1998.256315</td>\n",
       "      <td>-8.544944</td>\n",
       "      <td>-6.982410</td>\n",
       "      <td>-3.641737</td>\n",
       "    </tr>\n",
       "    <tr>\n",
       "      <th>10156413</th>\n",
       "      <td>7399583</td>\n",
       "      <td>2.427063e+09</td>\n",
       "      <td>Frequency</td>\n",
       "      <td>2.0</td>\n",
       "      <td>-0.050872</td>\n",
       "      <td>-0.439626</td>\n",
       "      <td>-167.0</td>\n",
       "      <td>50300.0</td>\n",
       "      <td>othmaint_to_Home</td>\n",
       "      <td>car</td>\n",
       "      <td>car</td>\n",
       "      <td>42393.0</td>\n",
       "      <td>othmaint</td>\n",
       "      <td>43399.0</td>\n",
       "      <td>Home</td>\n",
       "      <td>2.267462</td>\n",
       "      <td>0.0</td>\n",
       "      <td>20682.763</td>\n",
       "      <td>20673.541</td>\n",
       "      <td>0.0</td>\n",
       "      <td>0.0</td>\n",
       "      <td>20682.763</td>\n",
       "      <td>9.222</td>\n",
       "      <td>999.0</td>\n",
       "      <td>0.0</td>\n",
       "      <td>0.0</td>\n",
       "      <td>0.0</td>\n",
       "      <td>1006.0</td>\n",
       "      <td>7.0</td>\n",
       "      <td>0.0</td>\n",
       "      <td>0.0</td>\n",
       "      <td>0.0</td>\n",
       "      <td>0.0</td>\n",
       "      <td>0.002406</td>\n",
       "      <td>0.0</td>\n",
       "      <td>0.0</td>\n",
       "      <td>0.0</td>\n",
       "      <td>0.0</td>\n",
       "      <td>488.766</td>\n",
       "      <td>3.254682e+07</td>\n",
       "      <td>3.254731e+07</td>\n",
       "      <td>3.254682e+07</td>\n",
       "      <td>car</td>\n",
       "      <td>1.0, 0.0, 0.0, 1.0</td>\n",
       "      <td>Public, Residential</td>\n",
       "      <td>NaN</td>\n",
       "      <td>0</td>\n",
       "      <td>0</td>\n",
       "      <td>transit</td>\n",
       "      <td>0</td>\n",
       "      <td>0</td>\n",
       "      <td>0</td>\n",
       "      <td>0</td>\n",
       "      <td>0</td>\n",
       "      <td>body-7399583, 397535</td>\n",
       "      <td>2018</td>\n",
       "      <td>1006.0</td>\n",
       "      <td>0.0</td>\n",
       "      <td>car</td>\n",
       "      <td>2.427063e+09</td>\n",
       "      <td>7399583.0</td>\n",
       "      <td>2895003.0</td>\n",
       "      <td>303382931.0</td>\n",
       "      <td>othmaint</td>\n",
       "      <td>2.0</td>\n",
       "      <td>Home</td>\n",
       "      <td>DRIVEALONEPAY</td>\n",
       "      <td>othmaint</td>\n",
       "      <td>non_mandatory</td>\n",
       "      <td>8.0</td>\n",
       "      <td>20.0</td>\n",
       "      <td>12.0</td>\n",
       "      <td>SHARED2FREE</td>\n",
       "      <td>0.0</td>\n",
       "      <td>female</td>\n",
       "      <td>2.0</td>\n",
       "      <td>19.0</td>\n",
       "      <td>white</td>\n",
       "      <td>0.0</td>\n",
       "      <td>63.0</td>\n",
       "      <td>5.413348</td>\n",
       "      <td>False</td>\n",
       "      <td>0.0</td>\n",
       "      <td>0.0</td>\n",
       "      <td>0.0</td>\n",
       "      <td>8.0</td>\n",
       "      <td>1.0</td>\n",
       "      <td>0.0</td>\n",
       "      <td>0.0</td>\n",
       "      <td>0.0</td>\n",
       "      <td>1.0</td>\n",
       "      <td>0.0</td>\n",
       "      <td>0.0</td>\n",
       "      <td>1.0</td>\n",
       "      <td>6081.0</td>\n",
       "      <td>own not recent</td>\n",
       "      <td>one</td>\n",
       "      <td>1.0</td>\n",
       "      <td>one</td>\n",
       "      <td>gt30-lt60</td>\n",
       "      <td>1.0</td>\n",
       "      <td>50.3</td>\n",
       "      <td>8.81</td>\n",
       "      <td>5.413348</td>\n",
       "      <td>False</td>\n",
       "      <td>False</td>\n",
       "      <td>1.0</td>\n",
       "      <td>63.0</td>\n",
       "      <td>2.0</td>\n",
       "      <td>2.0</td>\n",
       "      <td>1.0</td>\n",
       "      <td>-0.703996</td>\n",
       "      <td>-0.711579</td>\n",
       "      <td>-1000.430404</td>\n",
       "      <td>-1000.434738</td>\n",
       "      <td>-1000.427128</td>\n",
       "      <td>-1000.430161</td>\n",
       "      <td>-46.067103</td>\n",
       "      <td>-1014.463761</td>\n",
       "      <td>-1000.282505</td>\n",
       "      <td>-1998.226915</td>\n",
       "      <td>-1999.457505</td>\n",
       "      <td>-1998.226915</td>\n",
       "      <td>-1998.226915</td>\n",
       "      <td>-1998.256315</td>\n",
       "      <td>-1998.256315</td>\n",
       "      <td>-1998.256315</td>\n",
       "      <td>-1998.256315</td>\n",
       "      <td>-1998.256315</td>\n",
       "      <td>-7.636213</td>\n",
       "      <td>-5.524961</td>\n",
       "      <td>-2.618079</td>\n",
       "    </tr>\n",
       "  </tbody>\n",
       "</table>\n",
       "</div>"
      ],
      "text/plain": [
       "          IDMerged     tripIndex      lever  lever_position  \\\n",
       "10156409   7399583  2.427063e+09  Frequency             2.0   \n",
       "10156410   7399583  2.427063e+09  Frequency             0.5   \n",
       "10156411   7399583  2.427063e+09    default             1.0   \n",
       "10156412   7399583  2.427063e+09  Frequency             1.5   \n",
       "10156413   7399583  2.427063e+09  Frequency             2.0   \n",
       "\n",
       "          logsum_trip_potential_INEXUS  logsum_relative_to_baseline  \\\n",
       "10156409                     -0.233137                    -0.009141   \n",
       "10156410                     -0.474279                    -0.863033   \n",
       "10156411                      0.388754                          0.0   \n",
       "10156412                      0.055413                    -0.333342   \n",
       "10156413                     -0.050872                    -0.439626   \n",
       "\n",
       "          door_to_door_time_relative_to_baseline   income  \\\n",
       "10156409                                  -172.0  50300.0   \n",
       "10156410                                  -161.0  50300.0   \n",
       "10156411                                     0.0  50300.0   \n",
       "10156412                                    -2.0  50300.0   \n",
       "10156413                                  -167.0  50300.0   \n",
       "\n",
       "                    actPurpose mode_choice_actual_6 mode_choice_actual_BEAM  \\\n",
       "10156409  othmaint_to_othmaint                  car                     car   \n",
       "10156410      othmaint_to_Home                  car                     car   \n",
       "10156411      othmaint_to_Home                  car                     car   \n",
       "10156412      othmaint_to_Home                  car                     car   \n",
       "10156413      othmaint_to_Home                  car                     car   \n",
       "\n",
       "          actEndTime actEndType  actStartTime actStartType  cost_BEAM  \\\n",
       "10156409     40502.0   othmaint       41042.0     othmaint   1.222932   \n",
       "10156410     42854.0   othmaint       43866.0         Home   2.405412   \n",
       "10156411     41436.0   othmaint       42609.0         Home   2.257056   \n",
       "10156412     42253.0   othmaint       43424.0         Home   2.433778   \n",
       "10156413     42393.0   othmaint       43399.0         Home   2.267462   \n",
       "\n",
       "          distance_bike  distance_mode_choice  distance_privateCar  \\\n",
       "10156409            0.0             11150.061            11150.061   \n",
       "10156410            0.0             21931.300            21931.300   \n",
       "10156411            0.0             20882.013            20578.669   \n",
       "10156412            0.0             22364.823            22189.927   \n",
       "10156413            0.0             20682.763            20673.541   \n",
       "\n",
       "          distance_ridehail  distance_transit  distance_travelling  \\\n",
       "10156409                0.0               0.0            11150.061   \n",
       "10156410                0.0               0.0            21931.300   \n",
       "10156411                0.0               0.0            20882.013   \n",
       "10156412                0.0               0.0            22364.823   \n",
       "10156413                0.0               0.0            20682.763   \n",
       "\n",
       "          distance_walking  duration_in_privateCar  duration_in_ridehail  \\\n",
       "10156409             0.000                   540.0                   0.0   \n",
       "10156410             0.000                  1012.0                   0.0   \n",
       "10156411           303.344                   940.0                   0.0   \n",
       "10156412           174.896                  1036.0                   0.0   \n",
       "10156413             9.222                   999.0                   0.0   \n",
       "\n",
       "          duration_in_transit  duration_on_bike  duration_travelling  \\\n",
       "10156409                  0.0               0.0                540.0   \n",
       "10156410                  0.0               0.0               1012.0   \n",
       "10156411                  0.0               0.0               1173.0   \n",
       "10156412                  0.0               0.0               1171.0   \n",
       "10156413                  0.0               0.0               1006.0   \n",
       "\n",
       "          duration_walking  emissionBiodiesel  emissionDiesel  \\\n",
       "10156409               0.0                0.0             0.0   \n",
       "10156410               0.0                0.0             0.0   \n",
       "10156411             233.0                0.0             0.0   \n",
       "10156412             135.0                0.0             0.0   \n",
       "10156413               7.0                0.0             0.0   \n",
       "\n",
       "          emissionElectricity  emissionFood  emissionGasoline  \\\n",
       "10156409                  0.0           0.0          0.001361   \n",
       "10156410                  0.0           0.0          0.002369   \n",
       "10156411                  0.0           0.0          0.002218   \n",
       "10156412                  0.0           0.0          0.002592   \n",
       "10156413                  0.0           0.0          0.002406   \n",
       "\n",
       "          emission_marginal  fuelBiodiesel  fuelDiesel  fuelElectricity  \\\n",
       "10156409                0.0            0.0         0.0              0.0   \n",
       "10156410                0.0            0.0         0.0              0.0   \n",
       "10156411                0.0            0.0         0.0              0.0   \n",
       "10156412                0.0            0.0         0.0              0.0   \n",
       "10156413                0.0            0.0         0.0              0.0   \n",
       "\n",
       "           fuelFood  fuelGasoline  fuel_marginal  fuel_not_Food  \\\n",
       "10156409      0.000  1.841971e+07   1.841971e+07   1.841971e+07   \n",
       "10156410      0.000  3.204840e+07   3.204840e+07   3.204840e+07   \n",
       "10156411  16077.232  3.000630e+07   3.002238e+07   3.000630e+07   \n",
       "10156412   9269.488  3.506473e+07   3.507400e+07   3.506473e+07   \n",
       "10156413    488.766  3.254682e+07   3.254731e+07   3.254682e+07   \n",
       "\n",
       "         mode_choice_planned_BEAM       numPassengers          parkingType  \\\n",
       "10156409                      car  1.0, 0.0, 0.0, 1.0       Public, Public   \n",
       "10156410                      car  1.0, 0.0, 0.0, 1.0  Public, Residential   \n",
       "10156411                      car  1.0, 0.0, 0.0, 1.0  Public, Residential   \n",
       "10156412                      car  1.0, 0.0, 0.0, 1.0  Public, Residential   \n",
       "10156413                      car  1.0, 0.0, 0.0, 1.0  Public, Residential   \n",
       "\n",
       "         reason  replanning_status  ride_hail_pooled  scenario  transit_bus  \\\n",
       "10156409    NaN                  0                 0   transit            0   \n",
       "10156410    NaN                  0                 0   transit            0   \n",
       "10156411    NaN                  0                 0  baseline            0   \n",
       "10156412    NaN                  0                 0   transit            0   \n",
       "10156413    NaN                  0                 0   transit            0   \n",
       "\n",
       "          transit_cable_car  transit_rail  transit_subway  transit_tram  \\\n",
       "10156409                  0             0               0             0   \n",
       "10156410                  0             0               0             0   \n",
       "10156411                  0             0               0             0   \n",
       "10156412                  0             0               0             0   \n",
       "10156413                  0             0               0             0   \n",
       "\n",
       "                    vehicleIds  year  duration_door_to_door  waitTime  \\\n",
       "10156409  body-7399583, 397535  2018                  540.0       0.0   \n",
       "10156410  397535, body-7399583  2018                 1012.0       0.0   \n",
       "10156411  397535, body-7399583  2018                 1173.0       0.0   \n",
       "10156412  397535, body-7399583  2018                 1171.0       0.0   \n",
       "10156413  body-7399583, 397535  2018                 1006.0       0.0   \n",
       "\n",
       "         mode_choice_actual_5       trip_id  person_id  household_id  \\\n",
       "10156409                  car  2.427063e+09  7399583.0     2895003.0   \n",
       "10156410                  car  2.427063e+09  7399583.0     2895003.0   \n",
       "10156411                  car  2.427063e+09  7399583.0     2895003.0   \n",
       "10156412                  car  2.427063e+09  7399583.0     2895003.0   \n",
       "10156413                  car  2.427063e+09  7399583.0     2895003.0   \n",
       "\n",
       "              tour_id primary_purpose_x  trip_count   purpose  \\\n",
       "10156409  303382931.0          othmaint         2.0  othmaint   \n",
       "10156410  303382931.0          othmaint         2.0      Home   \n",
       "10156411  303382931.0          othmaint         2.0      Home   \n",
       "10156412  303382931.0          othmaint         2.0      Home   \n",
       "10156413  303382931.0          othmaint         2.0      Home   \n",
       "\n",
       "         trip_mode_AS_trips tour_type  tour_category  start   end  duration  \\\n",
       "10156409     DRIVEALONEFREE  othmaint  non_mandatory    8.0  20.0      12.0   \n",
       "10156410      DRIVEALONEPAY  othmaint  non_mandatory    8.0  20.0      12.0   \n",
       "10156411      DRIVEALONEPAY  othmaint  non_mandatory    8.0  20.0      12.0   \n",
       "10156412      DRIVEALONEPAY  othmaint  non_mandatory    8.0  20.0      12.0   \n",
       "10156413      DRIVEALONEPAY  othmaint  non_mandatory    8.0  20.0      12.0   \n",
       "\n",
       "         tour_mode_AS_tours  earning person_sex  sex   edu   race  \\\n",
       "10156409        SHARED2FREE      0.0     female  2.0  19.0  white   \n",
       "10156410        SHARED2FREE      0.0     female  2.0  19.0  white   \n",
       "10156411        SHARED2FREE      0.0     female  2.0  19.0  white   \n",
       "10156412        SHARED2FREE      0.0     female  2.0  19.0  white   \n",
       "10156413        SHARED2FREE      0.0     female  2.0  19.0  white   \n",
       "\n",
       "          work_at_home   age  value_of_time free_parking_at_work  num_mand  \\\n",
       "10156409           0.0  63.0       5.413348                False       0.0   \n",
       "10156410           0.0  63.0       5.413348                False       0.0   \n",
       "10156411           0.0  63.0       5.413348                False       0.0   \n",
       "10156412           0.0  63.0       5.413348                False       0.0   \n",
       "10156413           0.0  63.0       5.413348                False       0.0   \n",
       "\n",
       "          num_work_tours  num_joint_tours  non_mandatory_tour_frequency  \\\n",
       "10156409             0.0              0.0                           8.0   \n",
       "10156410             0.0              0.0                           8.0   \n",
       "10156411             0.0              0.0                           8.0   \n",
       "10156412             0.0              0.0                           8.0   \n",
       "10156413             0.0              0.0                           8.0   \n",
       "\n",
       "          num_non_mand  num_escort_tours  num_eatout_tours  num_shop_tours  \\\n",
       "10156409           1.0               0.0               0.0             0.0   \n",
       "10156410           1.0               0.0               0.0             0.0   \n",
       "10156411           1.0               0.0               0.0             0.0   \n",
       "10156412           1.0               0.0               0.0             0.0   \n",
       "10156413           1.0               0.0               0.0             0.0   \n",
       "\n",
       "          num_maint_tours  num_discr_tours  num_social_tours  \\\n",
       "10156409              1.0              0.0               0.0   \n",
       "10156410              1.0              0.0               0.0   \n",
       "10156411              1.0              0.0               0.0   \n",
       "10156412              1.0              0.0               0.0   \n",
       "10156413              1.0              0.0               0.0   \n",
       "\n",
       "          num_non_escort_tours  lcm_county_id    tenure_mover hh_size  tenure  \\\n",
       "10156409                   1.0         6081.0  own not recent     one     1.0   \n",
       "10156410                   1.0         6081.0  own not recent     one     1.0   \n",
       "10156411                   1.0         6081.0  own not recent     one     1.0   \n",
       "10156412                   1.0         6081.0  own not recent     one     1.0   \n",
       "10156413                   1.0         6081.0  own not recent     one     1.0   \n",
       "\n",
       "         hh_cars  hh_income  hhsize  income_in_thousands  \\\n",
       "10156409     one  gt30-lt60     1.0                 50.3   \n",
       "10156410     one  gt30-lt60     1.0                 50.3   \n",
       "10156411     one  gt30-lt60     1.0                 50.3   \n",
       "10156412     one  gt30-lt60     1.0                 50.3   \n",
       "10156413     one  gt30-lt60     1.0                 50.3   \n",
       "\n",
       "          median_value_of_time  hh_value_of_time home_is_urban home_is_rural  \\\n",
       "10156409                  8.81          5.413348         False         False   \n",
       "10156410                  8.81          5.413348         False         False   \n",
       "10156411                  8.81          5.413348         False         False   \n",
       "10156412                  8.81          5.413348         False         False   \n",
       "10156413                  8.81          5.413348         False         False   \n",
       "\n",
       "          auto_ownership  AGEP  SEX  DIS  VEH  DRIVEALONEFREE  DRIVEALONEPAY  \\\n",
       "10156409             1.0  63.0  2.0  2.0  1.0       -0.809381      -0.818719   \n",
       "10156410             1.0  63.0  2.0  2.0  1.0       -0.703996      -0.711579   \n",
       "10156411             1.0  63.0  2.0  2.0  1.0       -0.703996      -0.711579   \n",
       "10156412             1.0  63.0  2.0  2.0  1.0       -1.092900      -1.105661   \n",
       "10156413             1.0  63.0  2.0  2.0  1.0       -0.703996      -0.711579   \n",
       "\n",
       "          SHARED2FREE   SHARED2PAY  SHARED3FREE   SHARED3PAY       WALK  \\\n",
       "10156409 -1000.531417 -1000.536753 -1000.526392 -1000.530127 -19.998541   \n",
       "10156410 -1000.430404 -1000.434738 -1000.427128 -1000.430161 -46.067103   \n",
       "10156411 -1000.430404 -1000.434738 -1000.427128 -1000.430161 -46.067103   \n",
       "10156412 -1000.819308 -1000.826601 -1000.816032 -1000.821136 -46.067103   \n",
       "10156413 -1000.430404 -1000.434738 -1000.427128 -1000.430161 -46.067103   \n",
       "\n",
       "                 BIKE     WALK_LOC     WALK_LRF     WALK_EXP     WALK_HVY  \\\n",
       "10156409 -1001.430446 -1001.079926 -1999.280771 -2000.079926 -2000.040215   \n",
       "10156410 -1014.463761 -1000.282505 -1998.226915 -1999.457505 -1998.226915   \n",
       "10156411 -1014.463761 -1000.282505 -1998.226915 -1999.457505 -1998.226915   \n",
       "10156412 -1014.463761 -1000.282505 -1998.226915 -1999.457505 -1998.226915   \n",
       "10156413 -1014.463761 -1000.282505 -1998.226915 -1999.457505 -1998.226915   \n",
       "\n",
       "             WALK_COM    DRIVE_LOC    DRIVE_LRF    DRIVE_EXP    DRIVE_HVY  \\\n",
       "10156409 -1998.228851 -1998.258251 -1998.258251 -1998.258251 -1998.258251   \n",
       "10156410 -1998.226915 -1998.256315 -1998.256315 -1998.256315 -1998.256315   \n",
       "10156411 -1998.226915 -1998.256315 -1998.256315 -1998.256315 -1998.256315   \n",
       "10156412 -1998.226915 -1998.256315 -1998.256315 -1998.256315 -1998.256315   \n",
       "10156413 -1998.226915 -1998.256315 -1998.256315 -1998.256315 -1998.256315   \n",
       "\n",
       "            DRIVE_COM      TAXI  TNC_SINGLE  TNC_SHARED  \n",
       "10156409 -1998.258251 -5.312021   -4.156547   -2.842031  \n",
       "10156410 -1998.256315 -7.636213   -5.524961   -2.618138  \n",
       "10156411 -1998.256315 -7.636213   -5.524961   -2.617893  \n",
       "10156412 -1998.256315 -8.544944   -6.982410   -3.641737  \n",
       "10156413 -1998.256315 -7.636213   -5.524961   -2.618079  "
      ]
     },
     "execution_count": 34,
     "metadata": {},
     "output_type": "execute_result"
    }
   ],
   "source": [
    "sf_stacked_tr_fr.tail()"
   ]
  },
  {
   "cell_type": "code",
   "execution_count": 51,
   "id": "8fba60b2",
   "metadata": {},
   "outputs": [
    {
     "name": "stdout",
     "output_type": "stream",
     "text": [
      "CPU times: total: 12min 32s\n",
      "Wall time: 16min 43s\n"
     ]
    }
   ],
   "source": [
    "%%time\n",
    "sf_stacked_tr_fr.to_csv('s3://beam-core-act/deepDive/CleanData/SanFrancisco/Stacked/sf_2018_stacked_tr_fr_v2.csv', index=False)"
   ]
  },
  {
   "cell_type": "markdown",
   "id": "573fc946",
   "metadata": {},
   "source": [
    "#### Stacked v2"
   ]
  },
  {
   "cell_type": "code",
   "execution_count": null,
   "id": "c4e484b8",
   "metadata": {},
   "outputs": [],
   "source": [
    "%%time\n",
    "stacked_tr_fr_path = \"https://beam-core-act.s3.amazonaws.com/deepDive/CleanData/SanFrancisco/Stacked/\"\n",
    "sf_stacked_tr_fr = pd.read_csv(stacked_tr_fr_path + 'sf_2018_stacked_tr_fr_v2.csv')"
   ]
  },
  {
   "cell_type": "code",
   "execution_count": 32,
   "id": "0111d8da",
   "metadata": {},
   "outputs": [],
   "source": [
    "# Add the mandatory category column\n",
    "mandatory = ['work' , 'univ', 'school']\n",
    "sf_stacked_tr_fr['mandatoryCat'] = np.where((sf_stacked_tr_fr.actEndType.isin(mandatory)) & (sf_stacked_tr_fr.actStartType.isin(mandatory)), 'from_M_to_M' , None)"
   ]
  },
  {
   "cell_type": "code",
   "execution_count": 33,
   "id": "4ef447dd",
   "metadata": {},
   "outputs": [],
   "source": [
    "sf_stacked_tr_fr['mandatoryCat'] = np.where((sf_stacked_tr_fr.actEndType == 'Home') & (sf_stacked_tr_fr.actStartType.isin(mandatory)), 'from_H_to_M' , sf_stacked_tr_fr['mandatoryCat'])"
   ]
  },
  {
   "cell_type": "code",
   "execution_count": 34,
   "id": "11c74ce2",
   "metadata": {},
   "outputs": [],
   "source": [
    "sf_stacked_tr_fr['mandatoryCat'] = np.where((sf_stacked_tr_fr.actEndType.isin(mandatory)) & (sf_stacked_tr_fr.actStartType == \"Home\"), 'from_M_to_H' , sf_stacked_tr_fr['mandatoryCat'])"
   ]
  },
  {
   "cell_type": "code",
   "execution_count": 35,
   "id": "714163d9",
   "metadata": {},
   "outputs": [],
   "source": [
    "non_mandatory = ['othmaint' , 'othdiscr', 'escort', 'eatout', 'social', 'shopping', 'atwork']\n",
    "sf_stacked_tr_fr['mandatoryCat'] = np.where((sf_stacked_tr_fr.actEndType.isin(non_mandatory)) & (sf_stacked_tr_fr.actStartType.isin(non_mandatory)), 'from_N_to_N' , sf_stacked_tr_fr['mandatoryCat'])"
   ]
  },
  {
   "cell_type": "code",
   "execution_count": 36,
   "id": "407f3acd",
   "metadata": {},
   "outputs": [
    {
     "data": {
      "text/plain": [
       "array([None, 'from_M_to_H', 'from_H_to_M', 'from_M_to_M', 'from_N_to_N'],\n",
       "      dtype=object)"
      ]
     },
     "execution_count": 36,
     "metadata": {},
     "output_type": "execute_result"
    }
   ],
   "source": [
    "sf_stacked_tr_fr.mandatoryCat.unique()"
   ]
  },
  {
   "cell_type": "code",
   "execution_count": 42,
   "id": "e409c4d8",
   "metadata": {
    "scrolled": true
   },
   "outputs": [],
   "source": [
    "# shift columns to first position\n",
    "first_column = sf_stacked_tr_fr.pop('mandatoryCat')\n",
    "# insert column using insert(position,column_name,first_column) function\n",
    "sf_stacked_tr_fr.insert(11, 'mandatoryCat', first_column)"
   ]
  },
  {
   "cell_type": "code",
   "execution_count": 48,
   "id": "7e184487",
   "metadata": {},
   "outputs": [],
   "source": [
    "# Drop unused columns\n",
    "sf_stacked_tr_fr = sf_stacked_tr_fr.drop(['num_work_tours','num_joint_tours', 'non_mandatory_tour_frequency',\n",
    "                                          'num_non_mand','num_escort_tours','num_eatout_tours','num_shop_tours',\n",
    "                                          'num_maint_tours','num_discr_tours','num_social_tours','num_non_escort_tours'], axis=1)"
   ]
  },
  {
   "cell_type": "code",
   "execution_count": 50,
   "id": "0f371de0",
   "metadata": {},
   "outputs": [
    {
     "data": {
      "text/plain": [
       "(10156414, 122)"
      ]
     },
     "execution_count": 50,
     "metadata": {},
     "output_type": "execute_result"
    }
   ],
   "source": [
    "sf_stacked_tr_fr.head()"
   ]
  },
  {
   "cell_type": "code",
   "execution_count": null,
   "id": "26ab4f66",
   "metadata": {},
   "outputs": [],
   "source": [
    "sf_stacked_tr_fr['realizedINEXUS'] = np.where((sf_stacked_tr_fr.actEndType.isin(mandatory)) & (sf_stacked_tr_fr.actStartType == \"Home\"), 'from_M_to_H' , sf_stacked_tr_fr['mandatoryCat'])"
   ]
  },
  {
   "cell_type": "code",
   "execution_count": null,
   "id": "8d43bdad",
   "metadata": {},
   "outputs": [],
   "source": []
  },
  {
   "cell_type": "code",
   "execution_count": null,
   "id": "53f39848",
   "metadata": {},
   "outputs": [],
   "source": []
  },
  {
   "cell_type": "code",
   "execution_count": 44,
   "id": "56093393",
   "metadata": {},
   "outputs": [
    {
     "name": "stdout",
     "output_type": "stream",
     "text": [
      "CPU times: total: 13min 29s\n",
      "Wall time: 18min 9s\n"
     ]
    }
   ],
   "source": [
    "%%time\n",
    "sf_stacked_tr_fr.to_csv('s3://beam-core-act/deepDive/CleanData/SanFrancisco/Stacked/sf_2018_stacked_tr_fr_v3.csv', index=False)"
   ]
  },
  {
   "cell_type": "code",
   "execution_count": null,
   "id": "8d62894b",
   "metadata": {},
   "outputs": [],
   "source": []
  }
 ],
 "metadata": {
  "kernelspec": {
   "display_name": "Python 3 (ipykernel)",
   "language": "python",
   "name": "python3"
  },
  "language_info": {
   "codemirror_mode": {
    "name": "ipython",
    "version": 3
   },
   "file_extension": ".py",
   "mimetype": "text/x-python",
   "name": "python",
   "nbconvert_exporter": "python",
   "pygments_lexer": "ipython3",
   "version": "3.9.7"
  }
 },
 "nbformat": 4,
 "nbformat_minor": 5
}
