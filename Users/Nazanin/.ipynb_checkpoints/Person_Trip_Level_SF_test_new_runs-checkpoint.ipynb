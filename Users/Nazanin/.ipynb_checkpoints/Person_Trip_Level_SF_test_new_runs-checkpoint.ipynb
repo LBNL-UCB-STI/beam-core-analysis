{
 "cells": [
  {
   "cell_type": "code",
   "execution_count": 1,
   "id": "f55cd92c",
   "metadata": {},
   "outputs": [],
   "source": [
    "import os\n",
    "import pandas as pd\n",
    "import numpy as np\n",
    "import geopandas as gpd\n",
    "import h5py\n",
    "import boto.s3\n",
    "import glob\n",
    "import boto3\n",
    "from zipfile import ZipFile\n",
    "import shutil\n",
    "import gcsfs"
   ]
  },
  {
   "cell_type": "markdown",
   "id": "d5337b34",
   "metadata": {},
   "source": [
    "#### Read the files directly from S3"
   ]
  },
  {
   "cell_type": "code",
   "execution_count": 2,
   "id": "be7945a3",
   "metadata": {},
   "outputs": [
    {
     "name": "stderr",
     "output_type": "stream",
     "text": [
      "<timed exec>:22: DtypeWarning: Columns (1,4,6,10,28,31,36,37,46,57) have mixed types. Specify dtype option on import or set low_memory=False.\n"
     ]
    },
    {
     "name": "stdout",
     "output_type": "stream",
     "text": [
      "CPU times: total: 3min 44s\n",
      "Wall time: 5min 25s\n"
     ]
    }
   ],
   "source": [
    "%%time\n",
    "dtypes = {\n",
    "    \"time\": \"float32\",\n",
    "    \"type\": \"category\",\n",
    "    \"legMode\": \"category\",\n",
    "    \"actType\": \"category\", \n",
    "    \"primaryFuelLevel\": \"float64\",\n",
    "    \"legMode\": \"category\",\n",
    "    \"chargingPointType\":\"category\",\n",
    "    \"pricingModel\":\"category\",\n",
    "    \"parkingType\":\"category\",\n",
    "    \"mode\":\"category\",\n",
    "    \"personalVehicleAvailable\": \"category\",\n",
    "    \"person\": \"object\",\n",
    "    \"driver\": \"object\",\n",
    "    \"riders\": \"object\",\n",
    "    'primaryFuelType': \"category\",\n",
    "    'secondaryFuelType': 'category',\n",
    "    'currentTourMode': 'category',\n",
    "    'currentActivity': 'category',\n",
    "    'nextActivity': 'category'    \n",
    "}\n",
    "eventsSF = pd.read_csv('gs://beam-core-outputs/sfbay-2010-base-20221122/beam/year-2015-iteration-3/ITERS/it.0/0.events.csv.gz', compression = 'gzip', dtype = dtypes)"
   ]
  },
  {
   "cell_type": "code",
   "execution_count": 205,
   "id": "c4607926",
   "metadata": {},
   "outputs": [
    {
     "data": {
      "text/html": [
       "<div>\n",
       "<style scoped>\n",
       "    .dataframe tbody tr th:only-of-type {\n",
       "        vertical-align: middle;\n",
       "    }\n",
       "\n",
       "    .dataframe tbody tr th {\n",
       "        vertical-align: top;\n",
       "    }\n",
       "\n",
       "    .dataframe thead th {\n",
       "        text-align: right;\n",
       "    }\n",
       "</style>\n",
       "<table border=\"1\" class=\"dataframe\">\n",
       "  <thead>\n",
       "    <tr style=\"text-align: right;\">\n",
       "      <th></th>\n",
       "      <th>IDMerged</th>\n",
       "      <th>person</th>\n",
       "      <th>driver</th>\n",
       "      <th>riders</th>\n",
       "      <th>reason</th>\n",
       "      <th>time</th>\n",
       "      <th>type</th>\n",
       "      <th>vehicle</th>\n",
       "      <th>actType</th>\n",
       "      <th>vehicleType</th>\n",
       "      <th>price</th>\n",
       "      <th>fuel</th>\n",
       "      <th>shiftStatus</th>\n",
       "      <th>parkingTaz</th>\n",
       "      <th>chargingPointType</th>\n",
       "      <th>pricingModel</th>\n",
       "      <th>parkingType</th>\n",
       "      <th>locationY</th>\n",
       "      <th>locationX</th>\n",
       "      <th>parkingZoneId</th>\n",
       "      <th>duration</th>\n",
       "      <th>currentTourMode</th>\n",
       "      <th>endY</th>\n",
       "      <th>endX</th>\n",
       "      <th>startY</th>\n",
       "      <th>startX</th>\n",
       "      <th>arrivalTime</th>\n",
       "      <th>departureTime</th>\n",
       "      <th>link</th>\n",
       "      <th>facility</th>\n",
       "      <th>departTime</th>\n",
       "      <th>requireWheelchair</th>\n",
       "      <th>modeBEAM</th>\n",
       "      <th>expectedMaximumUtility</th>\n",
       "      <th>availableAlternatives</th>\n",
       "      <th>location</th>\n",
       "      <th>personalVehicleAvailable</th>\n",
       "      <th>length</th>\n",
       "      <th>tourIndex</th>\n",
       "      <th>legModes</th>\n",
       "      <th>legVehicleIds</th>\n",
       "      <th>currentActivity</th>\n",
       "      <th>nextActivity</th>\n",
       "      <th>tripId</th>\n",
       "      <th>score</th>\n",
       "      <th>primaryFuelLevel</th>\n",
       "      <th>secondaryFuelLevel</th>\n",
       "      <th>cost</th>\n",
       "      <th>links</th>\n",
       "      <th>numPassengers</th>\n",
       "      <th>primaryFuel</th>\n",
       "      <th>secondaryFuelType</th>\n",
       "      <th>primaryFuelType</th>\n",
       "      <th>toStopIndex</th>\n",
       "      <th>fromStopIndex</th>\n",
       "      <th>seatingCapacity</th>\n",
       "      <th>tollPaid</th>\n",
       "      <th>capacity</th>\n",
       "      <th>linkTravelTime</th>\n",
       "      <th>secondaryFuel</th>\n",
       "      <th>incentive</th>\n",
       "      <th>tollCost</th>\n",
       "      <th>cost_BEAM</th>\n",
       "      <th>legMode</th>\n",
       "      <th>scenario</th>\n",
       "      <th>lever</th>\n",
       "      <th>year</th>\n",
       "      <th>lever_position</th>\n",
       "      <th>modeBEAM_rh</th>\n",
       "      <th>actEndTime</th>\n",
       "      <th>actStartTime</th>\n",
       "      <th>duration_travelling</th>\n",
       "      <th>distance_travelling</th>\n",
       "      <th>distance_mode_choice</th>\n",
       "      <th>duration_walking</th>\n",
       "      <th>distance_walking</th>\n",
       "      <th>duration_on_bike</th>\n",
       "      <th>distance_bike</th>\n",
       "      <th>duration_in_ridehail</th>\n",
       "      <th>distance_ridehail</th>\n",
       "      <th>duration_in_privateCar</th>\n",
       "      <th>distance_privateCar</th>\n",
       "      <th>duration_in_transit</th>\n",
       "      <th>distance_transit</th>\n",
       "      <th>replanningTime</th>\n",
       "      <th>tourIndex_fixed</th>\n",
       "      <th>fuelFood</th>\n",
       "      <th>emissionFood</th>\n",
       "      <th>fuelElectricity</th>\n",
       "      <th>emissionElectricity</th>\n",
       "      <th>fuelDiesel</th>\n",
       "      <th>emissionDiesel</th>\n",
       "      <th>fuelBiodiesel</th>\n",
       "      <th>emissionBiodiesel</th>\n",
       "      <th>fuel_not_Food</th>\n",
       "      <th>fuelGasoline</th>\n",
       "      <th>emissionGasoline</th>\n",
       "      <th>fuel_marginal</th>\n",
       "      <th>emission_marginal</th>\n",
       "      <th>actEndType</th>\n",
       "      <th>actStartType</th>\n",
       "      <th>tripIndex</th>\n",
       "      <th>mode_choice_actual_BEAM</th>\n",
       "      <th>mode_choice_planned_BEAM</th>\n",
       "      <th>replanning_status</th>\n",
       "      <th>transit_bus</th>\n",
       "      <th>transit_subway</th>\n",
       "      <th>transit_tram</th>\n",
       "      <th>transit_rail</th>\n",
       "      <th>transit_cable_car</th>\n",
       "      <th>ride_hail_pooled</th>\n",
       "    </tr>\n",
       "  </thead>\n",
       "  <tbody>\n",
       "    <tr>\n",
       "      <th>0</th>\n",
       "      <td>4</td>\n",
       "      <td>4</td>\n",
       "      <td>NaN</td>\n",
       "      <td>NaN</td>\n",
       "      <td>NaN</td>\n",
       "      <td>57128.000000</td>\n",
       "      <td>ModeChoice</td>\n",
       "      <td>NaN</td>\n",
       "      <td>NaN</td>\n",
       "      <td>NaN</td>\n",
       "      <td>NaN</td>\n",
       "      <td>NaN</td>\n",
       "      <td>NaN</td>\n",
       "      <td>NaN</td>\n",
       "      <td>NaN</td>\n",
       "      <td>NaN</td>\n",
       "      <td>NaN</td>\n",
       "      <td>NaN</td>\n",
       "      <td>NaN</td>\n",
       "      <td>NaN</td>\n",
       "      <td>NaN</td>\n",
       "      <td>car</td>\n",
       "      <td>NaN</td>\n",
       "      <td>NaN</td>\n",
       "      <td>NaN</td>\n",
       "      <td>NaN</td>\n",
       "      <td>NaN</td>\n",
       "      <td>NaN</td>\n",
       "      <td>NaN</td>\n",
       "      <td>NaN</td>\n",
       "      <td>NaN</td>\n",
       "      <td>NaN</td>\n",
       "      <td>car</td>\n",
       "      <td>NaN</td>\n",
       "      <td>CAR</td>\n",
       "      <td>62008.000000</td>\n",
       "      <td>true</td>\n",
       "      <td>59024.560000</td>\n",
       "      <td>1.000000</td>\n",
       "      <td>WALK,CAR,CAR,WALK</td>\n",
       "      <td>body-4,358660,358660,body-4</td>\n",
       "      <td>Home</td>\n",
       "      <td>othdiscr</td>\n",
       "      <td>1513.000000</td>\n",
       "      <td>NaN</td>\n",
       "      <td>NaN</td>\n",
       "      <td>NaN</td>\n",
       "      <td>NaN</td>\n",
       "      <td>NaN</td>\n",
       "      <td>NaN</td>\n",
       "      <td>NaN</td>\n",
       "      <td>NaN</td>\n",
       "      <td>NaN</td>\n",
       "      <td>NaN</td>\n",
       "      <td>NaN</td>\n",
       "      <td>NaN</td>\n",
       "      <td>NaN</td>\n",
       "      <td>NaN</td>\n",
       "      <td>NaN</td>\n",
       "      <td>NaN</td>\n",
       "      <td>NaN</td>\n",
       "      <td>NaN</td>\n",
       "      <td>NaN</td>\n",
       "      <td>NaN</td>\n",
       "      <td>baseline</td>\n",
       "      <td>default</td>\n",
       "      <td>2015</td>\n",
       "      <td>1</td>\n",
       "      <td>car</td>\n",
       "      <td>NaN</td>\n",
       "      <td>NaN</td>\n",
       "      <td>NaN</td>\n",
       "      <td>NaN</td>\n",
       "      <td>59024.560000</td>\n",
       "      <td>NaN</td>\n",
       "      <td>NaN</td>\n",
       "      <td>NaN</td>\n",
       "      <td>NaN</td>\n",
       "      <td>NaN</td>\n",
       "      <td>NaN</td>\n",
       "      <td>NaN</td>\n",
       "      <td>NaN</td>\n",
       "      <td>NaN</td>\n",
       "      <td>NaN</td>\n",
       "      <td>NaN</td>\n",
       "      <td>1.000000</td>\n",
       "      <td>NaN</td>\n",
       "      <td>NaN</td>\n",
       "      <td>NaN</td>\n",
       "      <td>NaN</td>\n",
       "      <td>NaN</td>\n",
       "      <td>NaN</td>\n",
       "      <td>NaN</td>\n",
       "      <td>NaN</td>\n",
       "      <td>NaN</td>\n",
       "      <td>NaN</td>\n",
       "      <td>NaN</td>\n",
       "      <td>NaN</td>\n",
       "      <td>NaN</td>\n",
       "      <td></td>\n",
       "      <td></td>\n",
       "      <td>1513.000000</td>\n",
       "      <td>car</td>\n",
       "      <td>car</td>\n",
       "      <td>0</td>\n",
       "      <td>0</td>\n",
       "      <td>0</td>\n",
       "      <td>0</td>\n",
       "      <td>0</td>\n",
       "      <td>0</td>\n",
       "      <td>0</td>\n",
       "    </tr>\n",
       "    <tr>\n",
       "      <th>1</th>\n",
       "      <td>4</td>\n",
       "      <td>4</td>\n",
       "      <td>NaN</td>\n",
       "      <td>NaN</td>\n",
       "      <td>NaN</td>\n",
       "      <td>57128.000000</td>\n",
       "      <td>actend</td>\n",
       "      <td>NaN</td>\n",
       "      <td>Home</td>\n",
       "      <td>NaN</td>\n",
       "      <td>NaN</td>\n",
       "      <td>NaN</td>\n",
       "      <td>NaN</td>\n",
       "      <td>NaN</td>\n",
       "      <td>NaN</td>\n",
       "      <td>NaN</td>\n",
       "      <td>NaN</td>\n",
       "      <td>NaN</td>\n",
       "      <td>NaN</td>\n",
       "      <td>NaN</td>\n",
       "      <td>NaN</td>\n",
       "      <td>NaN</td>\n",
       "      <td>NaN</td>\n",
       "      <td>NaN</td>\n",
       "      <td>NaN</td>\n",
       "      <td>NaN</td>\n",
       "      <td>NaN</td>\n",
       "      <td>NaN</td>\n",
       "      <td>62008.000000</td>\n",
       "      <td>NaN</td>\n",
       "      <td>NaN</td>\n",
       "      <td>NaN</td>\n",
       "      <td>NaN</td>\n",
       "      <td>NaN</td>\n",
       "      <td>NaN</td>\n",
       "      <td>NaN</td>\n",
       "      <td>NaN</td>\n",
       "      <td>NaN</td>\n",
       "      <td>NaN</td>\n",
       "      <td>NaN</td>\n",
       "      <td>NaN</td>\n",
       "      <td>NaN</td>\n",
       "      <td>NaN</td>\n",
       "      <td>NaN</td>\n",
       "      <td>NaN</td>\n",
       "      <td>NaN</td>\n",
       "      <td>NaN</td>\n",
       "      <td>NaN</td>\n",
       "      <td>NaN</td>\n",
       "      <td>NaN</td>\n",
       "      <td>NaN</td>\n",
       "      <td>NaN</td>\n",
       "      <td>NaN</td>\n",
       "      <td>NaN</td>\n",
       "      <td>NaN</td>\n",
       "      <td>NaN</td>\n",
       "      <td>NaN</td>\n",
       "      <td>NaN</td>\n",
       "      <td>NaN</td>\n",
       "      <td>NaN</td>\n",
       "      <td>NaN</td>\n",
       "      <td>NaN</td>\n",
       "      <td>NaN</td>\n",
       "      <td>NaN</td>\n",
       "      <td>baseline</td>\n",
       "      <td>default</td>\n",
       "      <td>2015</td>\n",
       "      <td>1</td>\n",
       "      <td>NaN</td>\n",
       "      <td>57128.000000</td>\n",
       "      <td>NaN</td>\n",
       "      <td>NaN</td>\n",
       "      <td>NaN</td>\n",
       "      <td>NaN</td>\n",
       "      <td>NaN</td>\n",
       "      <td>NaN</td>\n",
       "      <td>NaN</td>\n",
       "      <td>NaN</td>\n",
       "      <td>NaN</td>\n",
       "      <td>NaN</td>\n",
       "      <td>NaN</td>\n",
       "      <td>NaN</td>\n",
       "      <td>NaN</td>\n",
       "      <td>NaN</td>\n",
       "      <td>NaN</td>\n",
       "      <td>NaN</td>\n",
       "      <td>NaN</td>\n",
       "      <td>NaN</td>\n",
       "      <td>NaN</td>\n",
       "      <td>NaN</td>\n",
       "      <td>NaN</td>\n",
       "      <td>NaN</td>\n",
       "      <td>NaN</td>\n",
       "      <td>NaN</td>\n",
       "      <td>NaN</td>\n",
       "      <td>NaN</td>\n",
       "      <td>NaN</td>\n",
       "      <td>NaN</td>\n",
       "      <td>NaN</td>\n",
       "      <td>Home</td>\n",
       "      <td></td>\n",
       "      <td>1513.000000</td>\n",
       "      <td>NaN</td>\n",
       "      <td>NaN</td>\n",
       "      <td>0</td>\n",
       "      <td>0</td>\n",
       "      <td>0</td>\n",
       "      <td>0</td>\n",
       "      <td>0</td>\n",
       "      <td>0</td>\n",
       "      <td>0</td>\n",
       "    </tr>\n",
       "    <tr>\n",
       "      <th>2</th>\n",
       "      <td>4</td>\n",
       "      <td>4</td>\n",
       "      <td>NaN</td>\n",
       "      <td>NaN</td>\n",
       "      <td>NaN</td>\n",
       "      <td>57128.000000</td>\n",
       "      <td>departure</td>\n",
       "      <td>NaN</td>\n",
       "      <td>NaN</td>\n",
       "      <td>NaN</td>\n",
       "      <td>NaN</td>\n",
       "      <td>NaN</td>\n",
       "      <td>NaN</td>\n",
       "      <td>NaN</td>\n",
       "      <td>NaN</td>\n",
       "      <td>NaN</td>\n",
       "      <td>NaN</td>\n",
       "      <td>NaN</td>\n",
       "      <td>NaN</td>\n",
       "      <td>NaN</td>\n",
       "      <td>NaN</td>\n",
       "      <td>NaN</td>\n",
       "      <td>NaN</td>\n",
       "      <td>NaN</td>\n",
       "      <td>NaN</td>\n",
       "      <td>NaN</td>\n",
       "      <td>NaN</td>\n",
       "      <td>NaN</td>\n",
       "      <td>62008.000000</td>\n",
       "      <td>NaN</td>\n",
       "      <td>NaN</td>\n",
       "      <td>NaN</td>\n",
       "      <td>NaN</td>\n",
       "      <td>NaN</td>\n",
       "      <td>NaN</td>\n",
       "      <td>NaN</td>\n",
       "      <td>NaN</td>\n",
       "      <td>NaN</td>\n",
       "      <td>NaN</td>\n",
       "      <td>NaN</td>\n",
       "      <td>NaN</td>\n",
       "      <td>NaN</td>\n",
       "      <td>NaN</td>\n",
       "      <td>NaN</td>\n",
       "      <td>NaN</td>\n",
       "      <td>NaN</td>\n",
       "      <td>NaN</td>\n",
       "      <td>NaN</td>\n",
       "      <td>NaN</td>\n",
       "      <td>NaN</td>\n",
       "      <td>NaN</td>\n",
       "      <td>NaN</td>\n",
       "      <td>NaN</td>\n",
       "      <td>NaN</td>\n",
       "      <td>NaN</td>\n",
       "      <td>NaN</td>\n",
       "      <td>NaN</td>\n",
       "      <td>NaN</td>\n",
       "      <td>NaN</td>\n",
       "      <td>NaN</td>\n",
       "      <td>NaN</td>\n",
       "      <td>NaN</td>\n",
       "      <td>NaN</td>\n",
       "      <td>car</td>\n",
       "      <td>baseline</td>\n",
       "      <td>default</td>\n",
       "      <td>2015</td>\n",
       "      <td>1</td>\n",
       "      <td>NaN</td>\n",
       "      <td>NaN</td>\n",
       "      <td>NaN</td>\n",
       "      <td>NaN</td>\n",
       "      <td>NaN</td>\n",
       "      <td>NaN</td>\n",
       "      <td>NaN</td>\n",
       "      <td>NaN</td>\n",
       "      <td>NaN</td>\n",
       "      <td>NaN</td>\n",
       "      <td>NaN</td>\n",
       "      <td>NaN</td>\n",
       "      <td>NaN</td>\n",
       "      <td>NaN</td>\n",
       "      <td>NaN</td>\n",
       "      <td>NaN</td>\n",
       "      <td>NaN</td>\n",
       "      <td>NaN</td>\n",
       "      <td>NaN</td>\n",
       "      <td>NaN</td>\n",
       "      <td>NaN</td>\n",
       "      <td>NaN</td>\n",
       "      <td>NaN</td>\n",
       "      <td>NaN</td>\n",
       "      <td>NaN</td>\n",
       "      <td>NaN</td>\n",
       "      <td>NaN</td>\n",
       "      <td>NaN</td>\n",
       "      <td>NaN</td>\n",
       "      <td>NaN</td>\n",
       "      <td>NaN</td>\n",
       "      <td></td>\n",
       "      <td></td>\n",
       "      <td>1513.000000</td>\n",
       "      <td>NaN</td>\n",
       "      <td>NaN</td>\n",
       "      <td>0</td>\n",
       "      <td>0</td>\n",
       "      <td>0</td>\n",
       "      <td>0</td>\n",
       "      <td>0</td>\n",
       "      <td>0</td>\n",
       "      <td>0</td>\n",
       "    </tr>\n",
       "    <tr>\n",
       "      <th>3</th>\n",
       "      <td>4</td>\n",
       "      <td>4</td>\n",
       "      <td>NaN</td>\n",
       "      <td>NaN</td>\n",
       "      <td>NaN</td>\n",
       "      <td>57128.000000</td>\n",
       "      <td>PersonEntersVehicle</td>\n",
       "      <td>body-4</td>\n",
       "      <td>NaN</td>\n",
       "      <td>NaN</td>\n",
       "      <td>NaN</td>\n",
       "      <td>NaN</td>\n",
       "      <td>NaN</td>\n",
       "      <td>NaN</td>\n",
       "      <td>NaN</td>\n",
       "      <td>NaN</td>\n",
       "      <td>NaN</td>\n",
       "      <td>NaN</td>\n",
       "      <td>NaN</td>\n",
       "      <td>NaN</td>\n",
       "      <td>NaN</td>\n",
       "      <td>NaN</td>\n",
       "      <td>NaN</td>\n",
       "      <td>NaN</td>\n",
       "      <td>NaN</td>\n",
       "      <td>NaN</td>\n",
       "      <td>NaN</td>\n",
       "      <td>NaN</td>\n",
       "      <td>NaN</td>\n",
       "      <td>NaN</td>\n",
       "      <td>NaN</td>\n",
       "      <td>NaN</td>\n",
       "      <td>NaN</td>\n",
       "      <td>NaN</td>\n",
       "      <td>NaN</td>\n",
       "      <td>NaN</td>\n",
       "      <td>NaN</td>\n",
       "      <td>NaN</td>\n",
       "      <td>NaN</td>\n",
       "      <td>NaN</td>\n",
       "      <td>NaN</td>\n",
       "      <td>NaN</td>\n",
       "      <td>NaN</td>\n",
       "      <td>NaN</td>\n",
       "      <td>NaN</td>\n",
       "      <td>NaN</td>\n",
       "      <td>NaN</td>\n",
       "      <td>NaN</td>\n",
       "      <td>NaN</td>\n",
       "      <td>NaN</td>\n",
       "      <td>NaN</td>\n",
       "      <td>NaN</td>\n",
       "      <td>NaN</td>\n",
       "      <td>NaN</td>\n",
       "      <td>NaN</td>\n",
       "      <td>NaN</td>\n",
       "      <td>NaN</td>\n",
       "      <td>NaN</td>\n",
       "      <td>NaN</td>\n",
       "      <td>NaN</td>\n",
       "      <td>NaN</td>\n",
       "      <td>NaN</td>\n",
       "      <td>NaN</td>\n",
       "      <td>NaN</td>\n",
       "      <td>baseline</td>\n",
       "      <td>default</td>\n",
       "      <td>2015</td>\n",
       "      <td>1</td>\n",
       "      <td>NaN</td>\n",
       "      <td>NaN</td>\n",
       "      <td>NaN</td>\n",
       "      <td>NaN</td>\n",
       "      <td>NaN</td>\n",
       "      <td>NaN</td>\n",
       "      <td>NaN</td>\n",
       "      <td>NaN</td>\n",
       "      <td>NaN</td>\n",
       "      <td>NaN</td>\n",
       "      <td>NaN</td>\n",
       "      <td>NaN</td>\n",
       "      <td>NaN</td>\n",
       "      <td>NaN</td>\n",
       "      <td>NaN</td>\n",
       "      <td>NaN</td>\n",
       "      <td>NaN</td>\n",
       "      <td>NaN</td>\n",
       "      <td>NaN</td>\n",
       "      <td>NaN</td>\n",
       "      <td>NaN</td>\n",
       "      <td>NaN</td>\n",
       "      <td>NaN</td>\n",
       "      <td>NaN</td>\n",
       "      <td>NaN</td>\n",
       "      <td>NaN</td>\n",
       "      <td>NaN</td>\n",
       "      <td>NaN</td>\n",
       "      <td>NaN</td>\n",
       "      <td>NaN</td>\n",
       "      <td>NaN</td>\n",
       "      <td></td>\n",
       "      <td></td>\n",
       "      <td>1513.000000</td>\n",
       "      <td>NaN</td>\n",
       "      <td>NaN</td>\n",
       "      <td>0</td>\n",
       "      <td>0</td>\n",
       "      <td>0</td>\n",
       "      <td>0</td>\n",
       "      <td>0</td>\n",
       "      <td>0</td>\n",
       "      <td>0</td>\n",
       "    </tr>\n",
       "    <tr>\n",
       "      <th>4</th>\n",
       "      <td>4</td>\n",
       "      <td>NaN</td>\n",
       "      <td>4</td>\n",
       "      <td>4</td>\n",
       "      <td>NaN</td>\n",
       "      <td>57128.000000</td>\n",
       "      <td>PathTraversal</td>\n",
       "      <td>body-4</td>\n",
       "      <td>NaN</td>\n",
       "      <td>BODY-TYPE-DEFAULT</td>\n",
       "      <td>NaN</td>\n",
       "      <td>NaN</td>\n",
       "      <td>NaN</td>\n",
       "      <td>NaN</td>\n",
       "      <td>NaN</td>\n",
       "      <td>NaN</td>\n",
       "      <td>NaN</td>\n",
       "      <td>NaN</td>\n",
       "      <td>NaN</td>\n",
       "      <td>NaN</td>\n",
       "      <td>NaN</td>\n",
       "      <td>car</td>\n",
       "      <td>37.854097</td>\n",
       "      <td>-122.227937</td>\n",
       "      <td>37.854097</td>\n",
       "      <td>-122.227937</td>\n",
       "      <td>57128.000000</td>\n",
       "      <td>57128.000000</td>\n",
       "      <td>NaN</td>\n",
       "      <td>NaN</td>\n",
       "      <td>NaN</td>\n",
       "      <td>NaN</td>\n",
       "      <td>walk</td>\n",
       "      <td>NaN</td>\n",
       "      <td>NaN</td>\n",
       "      <td>NaN</td>\n",
       "      <td>NaN</td>\n",
       "      <td>0.000000</td>\n",
       "      <td>NaN</td>\n",
       "      <td>NaN</td>\n",
       "      <td>NaN</td>\n",
       "      <td>NaN</td>\n",
       "      <td>NaN</td>\n",
       "      <td>NaN</td>\n",
       "      <td>NaN</td>\n",
       "      <td>2210000.000000</td>\n",
       "      <td>0.000000</td>\n",
       "      <td>NaN</td>\n",
       "      <td>NaN</td>\n",
       "      <td>1.000000</td>\n",
       "      <td>0.000000</td>\n",
       "      <td>None</td>\n",
       "      <td>Food</td>\n",
       "      <td>NaN</td>\n",
       "      <td>NaN</td>\n",
       "      <td>0.000000</td>\n",
       "      <td>0.000000</td>\n",
       "      <td>0.000000</td>\n",
       "      <td>NaN</td>\n",
       "      <td>0.000000</td>\n",
       "      <td>NaN</td>\n",
       "      <td>NaN</td>\n",
       "      <td>NaN</td>\n",
       "      <td>NaN</td>\n",
       "      <td>baseline</td>\n",
       "      <td>default</td>\n",
       "      <td>2015</td>\n",
       "      <td>1</td>\n",
       "      <td>walk</td>\n",
       "      <td>NaN</td>\n",
       "      <td>NaN</td>\n",
       "      <td>0.000000</td>\n",
       "      <td>0.000000</td>\n",
       "      <td>NaN</td>\n",
       "      <td>0.000000</td>\n",
       "      <td>0.000000</td>\n",
       "      <td>NaN</td>\n",
       "      <td>NaN</td>\n",
       "      <td>NaN</td>\n",
       "      <td>NaN</td>\n",
       "      <td>NaN</td>\n",
       "      <td>NaN</td>\n",
       "      <td>NaN</td>\n",
       "      <td>NaN</td>\n",
       "      <td>NaN</td>\n",
       "      <td>NaN</td>\n",
       "      <td>0.000000</td>\n",
       "      <td>0.000000</td>\n",
       "      <td>NaN</td>\n",
       "      <td>NaN</td>\n",
       "      <td>NaN</td>\n",
       "      <td>NaN</td>\n",
       "      <td>NaN</td>\n",
       "      <td>NaN</td>\n",
       "      <td>NaN</td>\n",
       "      <td>NaN</td>\n",
       "      <td>NaN</td>\n",
       "      <td>0.000000</td>\n",
       "      <td>0.000000</td>\n",
       "      <td></td>\n",
       "      <td></td>\n",
       "      <td>1513.000000</td>\n",
       "      <td>NaN</td>\n",
       "      <td>NaN</td>\n",
       "      <td>0</td>\n",
       "      <td>0</td>\n",
       "      <td>0</td>\n",
       "      <td>0</td>\n",
       "      <td>0</td>\n",
       "      <td>0</td>\n",
       "      <td>0</td>\n",
       "    </tr>\n",
       "  </tbody>\n",
       "</table>\n",
       "</div>"
      ],
      "text/plain": [
       "   IDMerged person driver riders reason         time                 type  \\\n",
       "0         4      4    NaN    NaN    NaN 57128.000000           ModeChoice   \n",
       "1         4      4    NaN    NaN    NaN 57128.000000               actend   \n",
       "2         4      4    NaN    NaN    NaN 57128.000000            departure   \n",
       "3         4      4    NaN    NaN    NaN 57128.000000  PersonEntersVehicle   \n",
       "4         4    NaN      4      4    NaN 57128.000000        PathTraversal   \n",
       "\n",
       "  vehicle actType        vehicleType  price  fuel  shiftStatus parkingTaz  \\\n",
       "0     NaN     NaN                NaN    NaN   NaN          NaN        NaN   \n",
       "1     NaN    Home                NaN    NaN   NaN          NaN        NaN   \n",
       "2     NaN     NaN                NaN    NaN   NaN          NaN        NaN   \n",
       "3  body-4     NaN                NaN    NaN   NaN          NaN        NaN   \n",
       "4  body-4     NaN  BODY-TYPE-DEFAULT    NaN   NaN          NaN        NaN   \n",
       "\n",
       "  chargingPointType pricingModel parkingType  locationY  locationX  \\\n",
       "0               NaN          NaN         NaN        NaN        NaN   \n",
       "1               NaN          NaN         NaN        NaN        NaN   \n",
       "2               NaN          NaN         NaN        NaN        NaN   \n",
       "3               NaN          NaN         NaN        NaN        NaN   \n",
       "4               NaN          NaN         NaN        NaN        NaN   \n",
       "\n",
       "   parkingZoneId  duration currentTourMode      endY        endX    startY  \\\n",
       "0            NaN       NaN             car       NaN         NaN       NaN   \n",
       "1            NaN       NaN             NaN       NaN         NaN       NaN   \n",
       "2            NaN       NaN             NaN       NaN         NaN       NaN   \n",
       "3            NaN       NaN             NaN       NaN         NaN       NaN   \n",
       "4            NaN       NaN             car 37.854097 -122.227937 37.854097   \n",
       "\n",
       "       startX  arrivalTime  departureTime         link  facility  departTime  \\\n",
       "0         NaN          NaN            NaN          NaN       NaN         NaN   \n",
       "1         NaN          NaN            NaN 62008.000000       NaN         NaN   \n",
       "2         NaN          NaN            NaN 62008.000000       NaN         NaN   \n",
       "3         NaN          NaN            NaN          NaN       NaN         NaN   \n",
       "4 -122.227937 57128.000000   57128.000000          NaN       NaN         NaN   \n",
       "\n",
       "  requireWheelchair modeBEAM  expectedMaximumUtility availableAlternatives  \\\n",
       "0               NaN      car                     NaN                   CAR   \n",
       "1               NaN      NaN                     NaN                   NaN   \n",
       "2               NaN      NaN                     NaN                   NaN   \n",
       "3               NaN      NaN                     NaN                   NaN   \n",
       "4               NaN     walk                     NaN                   NaN   \n",
       "\n",
       "      location personalVehicleAvailable       length  tourIndex  \\\n",
       "0 62008.000000                     true 59024.560000   1.000000   \n",
       "1          NaN                      NaN          NaN        NaN   \n",
       "2          NaN                      NaN          NaN        NaN   \n",
       "3          NaN                      NaN          NaN        NaN   \n",
       "4          NaN                      NaN     0.000000        NaN   \n",
       "\n",
       "            legModes                legVehicleIds currentActivity  \\\n",
       "0  WALK,CAR,CAR,WALK  body-4,358660,358660,body-4            Home   \n",
       "1                NaN                          NaN             NaN   \n",
       "2                NaN                          NaN             NaN   \n",
       "3                NaN                          NaN             NaN   \n",
       "4                NaN                          NaN             NaN   \n",
       "\n",
       "  nextActivity      tripId  score  primaryFuelLevel  secondaryFuelLevel  cost  \\\n",
       "0     othdiscr 1513.000000    NaN               NaN                 NaN   NaN   \n",
       "1          NaN         NaN    NaN               NaN                 NaN   NaN   \n",
       "2          NaN         NaN    NaN               NaN                 NaN   NaN   \n",
       "3          NaN         NaN    NaN               NaN                 NaN   NaN   \n",
       "4          NaN         NaN    NaN    2210000.000000            0.000000   NaN   \n",
       "\n",
       "  links  numPassengers  primaryFuel secondaryFuelType primaryFuelType  \\\n",
       "0   NaN            NaN          NaN               NaN             NaN   \n",
       "1   NaN            NaN          NaN               NaN             NaN   \n",
       "2   NaN            NaN          NaN               NaN             NaN   \n",
       "3   NaN            NaN          NaN               NaN             NaN   \n",
       "4   NaN       1.000000     0.000000              None            Food   \n",
       "\n",
       "   toStopIndex  fromStopIndex  seatingCapacity  tollPaid  capacity  \\\n",
       "0          NaN            NaN              NaN       NaN       NaN   \n",
       "1          NaN            NaN              NaN       NaN       NaN   \n",
       "2          NaN            NaN              NaN       NaN       NaN   \n",
       "3          NaN            NaN              NaN       NaN       NaN   \n",
       "4          NaN            NaN         0.000000  0.000000  0.000000   \n",
       "\n",
       "  linkTravelTime  secondaryFuel  incentive  tollCost  cost_BEAM legMode  \\\n",
       "0            NaN            NaN        NaN       NaN        NaN     NaN   \n",
       "1            NaN            NaN        NaN       NaN        NaN     NaN   \n",
       "2            NaN            NaN        NaN       NaN        NaN     car   \n",
       "3            NaN            NaN        NaN       NaN        NaN     NaN   \n",
       "4            NaN       0.000000        NaN       NaN        NaN     NaN   \n",
       "\n",
       "   scenario    lever  year  lever_position modeBEAM_rh   actEndTime  \\\n",
       "0  baseline  default  2015               1         car          NaN   \n",
       "1  baseline  default  2015               1         NaN 57128.000000   \n",
       "2  baseline  default  2015               1         NaN          NaN   \n",
       "3  baseline  default  2015               1         NaN          NaN   \n",
       "4  baseline  default  2015               1        walk          NaN   \n",
       "\n",
       "   actStartTime  duration_travelling  distance_travelling  \\\n",
       "0           NaN                  NaN                  NaN   \n",
       "1           NaN                  NaN                  NaN   \n",
       "2           NaN                  NaN                  NaN   \n",
       "3           NaN                  NaN                  NaN   \n",
       "4           NaN             0.000000             0.000000   \n",
       "\n",
       "   distance_mode_choice  duration_walking  distance_walking  duration_on_bike  \\\n",
       "0          59024.560000               NaN               NaN               NaN   \n",
       "1                   NaN               NaN               NaN               NaN   \n",
       "2                   NaN               NaN               NaN               NaN   \n",
       "3                   NaN               NaN               NaN               NaN   \n",
       "4                   NaN          0.000000          0.000000               NaN   \n",
       "\n",
       "   distance_bike  duration_in_ridehail  distance_ridehail  \\\n",
       "0            NaN                   NaN                NaN   \n",
       "1            NaN                   NaN                NaN   \n",
       "2            NaN                   NaN                NaN   \n",
       "3            NaN                   NaN                NaN   \n",
       "4            NaN                   NaN                NaN   \n",
       "\n",
       "   duration_in_privateCar  distance_privateCar  duration_in_transit  \\\n",
       "0                     NaN                  NaN                  NaN   \n",
       "1                     NaN                  NaN                  NaN   \n",
       "2                     NaN                  NaN                  NaN   \n",
       "3                     NaN                  NaN                  NaN   \n",
       "4                     NaN                  NaN                  NaN   \n",
       "\n",
       "   distance_transit  replanningTime  tourIndex_fixed  fuelFood  emissionFood  \\\n",
       "0               NaN             NaN         1.000000       NaN           NaN   \n",
       "1               NaN             NaN              NaN       NaN           NaN   \n",
       "2               NaN             NaN              NaN       NaN           NaN   \n",
       "3               NaN             NaN              NaN       NaN           NaN   \n",
       "4               NaN             NaN              NaN  0.000000      0.000000   \n",
       "\n",
       "   fuelElectricity  emissionElectricity  fuelDiesel  emissionDiesel  \\\n",
       "0              NaN                  NaN         NaN             NaN   \n",
       "1              NaN                  NaN         NaN             NaN   \n",
       "2              NaN                  NaN         NaN             NaN   \n",
       "3              NaN                  NaN         NaN             NaN   \n",
       "4              NaN                  NaN         NaN             NaN   \n",
       "\n",
       "   fuelBiodiesel  emissionBiodiesel  fuel_not_Food  fuelGasoline  \\\n",
       "0            NaN                NaN            NaN           NaN   \n",
       "1            NaN                NaN            NaN           NaN   \n",
       "2            NaN                NaN            NaN           NaN   \n",
       "3            NaN                NaN            NaN           NaN   \n",
       "4            NaN                NaN            NaN           NaN   \n",
       "\n",
       "   emissionGasoline  fuel_marginal  emission_marginal actEndType actStartType  \\\n",
       "0               NaN            NaN                NaN                           \n",
       "1               NaN            NaN                NaN       Home                \n",
       "2               NaN            NaN                NaN                           \n",
       "3               NaN            NaN                NaN                           \n",
       "4               NaN       0.000000           0.000000                           \n",
       "\n",
       "    tripIndex mode_choice_actual_BEAM mode_choice_planned_BEAM  \\\n",
       "0 1513.000000                     car                      car   \n",
       "1 1513.000000                     NaN                      NaN   \n",
       "2 1513.000000                     NaN                      NaN   \n",
       "3 1513.000000                     NaN                      NaN   \n",
       "4 1513.000000                     NaN                      NaN   \n",
       "\n",
       "   replanning_status  transit_bus  transit_subway  transit_tram  transit_rail  \\\n",
       "0                  0            0               0             0             0   \n",
       "1                  0            0               0             0             0   \n",
       "2                  0            0               0             0             0   \n",
       "3                  0            0               0             0             0   \n",
       "4                  0            0               0             0             0   \n",
       "\n",
       "   transit_cable_car  ride_hail_pooled  \n",
       "0                  0                 0  \n",
       "1                  0                 0  \n",
       "2                  0                 0  \n",
       "3                  0                 0  \n",
       "4                  0                 0  "
      ]
     },
     "execution_count": 205,
     "metadata": {},
     "output_type": "execute_result"
    }
   ],
   "source": [
    "eventsSF.head()"
   ]
  },
  {
   "cell_type": "code",
   "execution_count": 3,
   "id": "e44a5a90",
   "metadata": {},
   "outputs": [],
   "source": [
    "# Show all columns and rows\n",
    "pd.options.display.max_columns = None\n",
    "pd.options.display.max_rows = None"
   ]
  },
  {
   "cell_type": "code",
   "execution_count": 4,
   "id": "e7f2c0e5",
   "metadata": {},
   "outputs": [],
   "source": [
    "# Showing the entire number in dataframe\n",
    "pd.set_option('float_format', '{:f}'.format)"
   ]
  },
  {
   "cell_type": "code",
   "execution_count": 5,
   "id": "c33f5570",
   "metadata": {},
   "outputs": [],
   "source": [
    "# Adding scenario info\n",
    "eventsSF['scenario'] = \"baseline\"\n",
    "eventsSF['scenario'] = eventsSF['scenario'].astype(\"category\")\n",
    "eventsSF['lever'] = \"default\"\n",
    "eventsSF['lever'] = eventsSF['lever'].astype(\"category\")\n",
    "eventsSF['year'] = 2015\n",
    "eventsSF['lever_position'] = 1"
   ]
  },
  {
   "cell_type": "code",
   "execution_count": 6,
   "id": "2fbd0c93",
   "metadata": {},
   "outputs": [],
   "source": [
    "# Rename the \"mode\" column\n",
    "eventsSF.rename(columns={\"mode\":\"modeBEAM\"}, inplace=True) \n",
    "# Replace \"Work\" with \"work\" in the \"actType\" column\n",
    "eventsSF[\"actType\"].replace({\"Work\": \"work\"}, inplace=True)"
   ]
  },
  {
   "cell_type": "code",
   "execution_count": 7,
   "id": "97ffc027",
   "metadata": {},
   "outputs": [],
   "source": [
    "eventsSF = eventsSF.copy()"
   ]
  },
  {
   "cell_type": "code",
   "execution_count": 8,
   "id": "f2d74acd",
   "metadata": {},
   "outputs": [],
   "source": [
    "# Remove person = TransitDriver or RidehailDriver because there are no agent information in these rows\n",
    "eventsSF = eventsSF[~eventsSF.person.str.contains(\"Agent\", na=False)].reset_index(drop=True)"
   ]
  },
  {
   "cell_type": "markdown",
   "id": "3db92794",
   "metadata": {},
   "source": [
    "#### New"
   ]
  },
  {
   "cell_type": "code",
   "execution_count": 9,
   "id": "3cf4a300",
   "metadata": {},
   "outputs": [],
   "source": [
    "eventsSF = eventsSF[~((eventsSF.type.str.contains(\"ParkingEvent\", na=False))&(eventsSF['time']==0))].reset_index(drop=True)"
   ]
  },
  {
   "cell_type": "code",
   "execution_count": 10,
   "id": "d64b6a6f",
   "metadata": {},
   "outputs": [],
   "source": [
    "# shift column 'person' to first position\n",
    "first_column = eventsSF.pop('person')\n",
    "second_column = eventsSF.pop('driver')\n",
    "third_column = eventsSF.pop('riders')\n",
    "# insert column using insert(position,column_name,first_column) function\n",
    "eventsSF.insert(0, 'person', first_column)\n",
    "eventsSF.insert(1, 'driver', second_column)\n",
    "eventsSF.insert(2, 'riders', third_column)"
   ]
  },
  {
   "cell_type": "code",
   "execution_count": 11,
   "id": "77e7695a",
   "metadata": {},
   "outputs": [],
   "source": [
    "# Adding the IDMerged Column\n",
    "eventsSF['UniqueID'] = eventsSF['person'] #make a copy of the person column\n",
    "eventsSF['personID'] = np.where(eventsSF['person'].isin(eventsSF['driver']), eventsSF['person'], np.nan) \n",
    "eventsSF['driverID'] = np.where(eventsSF['driver'].isin(eventsSF['person']), eventsSF['driver'], np.nan)"
   ]
  },
  {
   "cell_type": "code",
   "execution_count": 12,
   "id": "a9f2b0af",
   "metadata": {},
   "outputs": [],
   "source": [
    "# Merging person and driver ids in one column\n",
    "eventsSF['IDMerged'] = eventsSF['personID'].combine_first(eventsSF['driverID'])\n",
    "eventsSF['IDMerged'] = eventsSF['UniqueID'].combine_first(eventsSF['IDMerged'])"
   ]
  },
  {
   "cell_type": "code",
   "execution_count": 13,
   "id": "70ccea79",
   "metadata": {},
   "outputs": [],
   "source": [
    "# Dropping unused columns\n",
    "eventsSF = eventsSF.drop(['personID','driverID','UniqueID'], axis=1) "
   ]
  },
  {
   "cell_type": "code",
   "execution_count": 14,
   "id": "2f6d5d3d",
   "metadata": {},
   "outputs": [],
   "source": [
    "# Shift column 'IDMerged' to first position\n",
    "first_column = eventsSF.pop('IDMerged')\n",
    "# Insert column using insert(position,column_name,first_column) function\n",
    "eventsSF.insert(0, 'IDMerged', first_column)"
   ]
  },
  {
   "cell_type": "code",
   "execution_count": 15,
   "id": "3dffe8cf",
   "metadata": {},
   "outputs": [
    {
     "name": "stdout",
     "output_type": "stream",
     "text": [
      "CPU times: total: 1min 47s\n",
      "Wall time: 1min 47s\n"
     ]
    }
   ],
   "source": [
    "%%time\n",
    "# Split the \"riders' column and replicated rows for every rider\n",
    "eventsSF['riders'] = eventsSF['riders'].str.split(':')\n",
    "eventsSF = eventsSF.explode('riders')"
   ]
  },
  {
   "cell_type": "code",
   "execution_count": 16,
   "id": "cad273bc",
   "metadata": {},
   "outputs": [],
   "source": [
    "# Combine riderID with IDMerged\n",
    "eventsSF['riderID'] = np.where(eventsSF['riders'].isin(eventsSF['person']), eventsSF['riders'], np.nan)\n",
    "eventsSF['IDMerged'] = eventsSF['riderID'].combine_first(eventsSF['IDMerged'])"
   ]
  },
  {
   "cell_type": "code",
   "execution_count": 17,
   "id": "65de33c2",
   "metadata": {},
   "outputs": [],
   "source": [
    "# Dropping unused columns\n",
    "eventsSF = eventsSF.drop(['riderID'], axis=1) "
   ]
  },
  {
   "cell_type": "code",
   "execution_count": 18,
   "id": "d8a62eb1",
   "metadata": {},
   "outputs": [],
   "source": [
    "# Remove driver = TransitDriver or RidehailDriver for IDMerged = NAN because there are no agent information in these rows \n",
    "eventsSF = eventsSF[~((eventsSF.driver.str.contains(\"Agent\", na=False))&(eventsSF.IDMerged.isna()))].reset_index(drop=True)"
   ]
  },
  {
   "cell_type": "code",
   "execution_count": 19,
   "id": "60db4199",
   "metadata": {
    "scrolled": true
   },
   "outputs": [],
   "source": [
    "#IDnan = eventsSF[eventsSF['IDMerged'].isna()]\n",
    "#IDnan.shape"
   ]
  },
  {
   "cell_type": "code",
   "execution_count": 20,
   "id": "994ab676",
   "metadata": {},
   "outputs": [
    {
     "name": "stdout",
     "output_type": "stream",
     "text": [
      "CPU times: total: 4min 28s\n",
      "Wall time: 4min 28s\n"
     ]
    }
   ],
   "source": [
    "%%time\n",
    "# Filling NANs in ID related to charging events\n",
    "eventsSF[\"chargeID\"] = eventsSF.groupby('vehicle')['IDMerged'].transform(lambda x: x.ffill().bfill())"
   ]
  },
  {
   "cell_type": "code",
   "execution_count": 21,
   "id": "0165322c",
   "metadata": {},
   "outputs": [],
   "source": [
    "# Combining chargeID with IDMerged so no NANs anymore\n",
    "eventsSF['IDMerged'] = eventsSF['chargeID'].combine_first(eventsSF['IDMerged'])"
   ]
  },
  {
   "cell_type": "code",
   "execution_count": 22,
   "id": "525d0231",
   "metadata": {
    "code_folding": []
   },
   "outputs": [],
   "source": [
    "#IDnan = eventsSF[eventsSF['IDMerged'].isna()]\n",
    "#IDnan.shape"
   ]
  },
  {
   "cell_type": "code",
   "execution_count": 23,
   "id": "dff0f0d9",
   "metadata": {},
   "outputs": [],
   "source": [
    "# Dropping unused columns\n",
    "eventsSF = eventsSF.drop(['chargeID'], axis=1) "
   ]
  },
  {
   "cell_type": "code",
   "execution_count": 24,
   "id": "ad36c06d",
   "metadata": {},
   "outputs": [
    {
     "name": "stdout",
     "output_type": "stream",
     "text": [
      "CPU times: total: 17.7 s\n",
      "Wall time: 17.7 s\n"
     ]
    }
   ],
   "source": [
    "%%time\n",
    "# Change the IDMerged column type to numeric\n",
    "eventsSF[\"IDMerged\"] = pd.to_numeric(eventsSF.IDMerged)"
   ]
  },
  {
   "cell_type": "code",
   "execution_count": 25,
   "id": "983217d8",
   "metadata": {},
   "outputs": [],
   "source": [
    "# Sort by IDMerged and time columns\n",
    "eventsSF = eventsSF.sort_values(['IDMerged','time']).reset_index(drop=True)"
   ]
  },
  {
   "cell_type": "code",
   "execution_count": 26,
   "id": "2db653ae",
   "metadata": {},
   "outputs": [],
   "source": [
    "# We assume that the number of passengers is 1 for ride_hail_pooled\n",
    "eventsSF['modeBEAM_rh'] = np.where(eventsSF.driver.str.contains(\"rideHailAgent\", na=False), 'ride_hail' , eventsSF['modeBEAM'])"
   ]
  },
  {
   "cell_type": "code",
   "execution_count": 27,
   "id": "bd4c6384",
   "metadata": {},
   "outputs": [],
   "source": [
    "# Adding teleportation mode to the type = TeleportationEvent row \n",
    "eventsSF[\"modeBEAM_rh\"] = np.where(eventsSF['type']=='TeleportationEvent', eventsSF.modeBEAM_rh.fillna(method='ffill'), eventsSF[\"modeBEAM_rh\"])"
   ]
  },
  {
   "cell_type": "code",
   "execution_count": 28,
   "id": "4e1ba837",
   "metadata": {},
   "outputs": [],
   "source": [
    "eventsSF['modeBEAM_rh_pooled'] = np.where((eventsSF['type'] == 'PersonCost') & (eventsSF['modeBEAM'] == 'ride_hail_pooled'), 'ride_hail_pooled', np.nan)"
   ]
  },
  {
   "cell_type": "code",
   "execution_count": 29,
   "id": "3339c5df",
   "metadata": {},
   "outputs": [],
   "source": [
    "eventsSF['modeBEAM_rh_ride_hail_transit'] = np.where((eventsSF['type'] == 'PersonCost') & (eventsSF['modeBEAM'] == 'ride_hail_transit'), 'ride_hail_transit', np.nan)"
   ]
  },
  {
   "cell_type": "code",
   "execution_count": 30,
   "id": "e1eb832e",
   "metadata": {},
   "outputs": [],
   "source": [
    "eventsSF['modeBEAM_rh_pooled'] = eventsSF['modeBEAM_rh_pooled'].shift(+1)"
   ]
  },
  {
   "cell_type": "code",
   "execution_count": 31,
   "id": "92e73beb",
   "metadata": {},
   "outputs": [],
   "source": [
    "eventsSF['modeBEAM_rh_ride_hail_transit'] = eventsSF['modeBEAM_rh_ride_hail_transit'].shift(+1)"
   ]
  },
  {
   "cell_type": "code",
   "execution_count": 32,
   "id": "120a46e0",
   "metadata": {},
   "outputs": [],
   "source": [
    "eventsSF['modeBEAM_rh'] = np.where((eventsSF['type'] == 'PathTraversal') & (eventsSF['modeBEAM'] == 'car') & (eventsSF['driver'].str.contains(\"rideHailAgent\", na=False)) & (eventsSF['modeBEAM_rh_pooled'] != 'nan'), eventsSF['modeBEAM_rh_pooled'], eventsSF['modeBEAM_rh'])"
   ]
  },
  {
   "cell_type": "code",
   "execution_count": 33,
   "id": "99d82b22",
   "metadata": {},
   "outputs": [],
   "source": [
    "# We don't know if ridehail_transit is ride_hail or ride_hail_pooled\n",
    "eventsSF['modeBEAM_rh'] = np.where((eventsSF['type'] == 'PathTraversal') & (eventsSF['modeBEAM'] == 'car') & (eventsSF['driver'].str.contains(\"rideHailAgent\", na=False)) & (eventsSF['modeBEAM_rh_ride_hail_transit'] != 'nan'), eventsSF['modeBEAM_rh_ride_hail_transit'], eventsSF['modeBEAM_rh'])"
   ]
  },
  {
   "cell_type": "code",
   "execution_count": 34,
   "id": "3db04d3f",
   "metadata": {},
   "outputs": [],
   "source": [
    "# Dropping the temporary columns\n",
    "eventsSF = eventsSF.drop(['modeBEAM_rh_pooled'], axis=1)\n",
    "eventsSF = eventsSF.drop(['modeBEAM_rh_ride_hail_transit'], axis=1)"
   ]
  },
  {
   "cell_type": "markdown",
   "id": "cb6f3a97",
   "metadata": {},
   "source": [
    "#### Adding the census blocks"
   ]
  },
  {
   "cell_type": "code",
   "execution_count": 35,
   "id": "fdaeafcc",
   "metadata": {},
   "outputs": [],
   "source": [
    "def addGeometryIdToDataFrame(df, gdf, xcol, ycol, idColumn=\"geometry\", df_geom='epsg:4326'):\n",
    "    gdf_data = gpd.GeoDataFrame(df, geometry=gpd.points_from_xy(df[xcol], df[ycol]))\n",
    "    gdf_data.crs = {'init': df_geom}\n",
    "    joined = gpd.sjoin(gdf_data.to_crs('epsg:26910'), gdf.to_crs('epsg:26910'))\n",
    "    gdf_data = gdf_data.merge(joined['blkgrpid'], left_index=True, right_index=True, how=\"left\")\n",
    "    gdf_data.rename(columns={'blkgrpid': idColumn}, inplace=True)\n",
    "    df = pd.DataFrame(gdf_data.drop(columns='geometry'))\n",
    "    df.drop(columns=[xcol, ycol], inplace=True)\n",
    "    return df.loc[~df.index.duplicated(keep='first'), :]"
   ]
  },
  {
   "cell_type": "code",
   "execution_count": 36,
   "id": "411a779f",
   "metadata": {},
   "outputs": [],
   "source": [
    "# census_2010 = \"https://beam-core-act.s3.amazonaws.com/deepDive/RawData/Census_Blocks/Scenario_2010_shp/\"\n",
    "BGs = gpd.read_file('/vsicurl/https://github.com/LBNL-UCB-STI/beam-core-analysis/raw/main/Users/Zach/scenario/sfbay-blockgroups-2010/641aa0d4-ce5b-4a81-9c30-8790c4ab8cfb202047-1-wkkklf.j5ouj.shp')"
   ]
  },
  {
   "cell_type": "code",
   "execution_count": 37,
   "id": "fcc7abc2",
   "metadata": {},
   "outputs": [
    {
     "name": "stderr",
     "output_type": "stream",
     "text": [
      "Exception ignored in: <function BaseGeometry.__del__ at 0x0000011FE360F280>\n",
      "Traceback (most recent call last):\n",
      "  File \"C:\\Users\\nazanin\\.conda\\envs\\geo_env\\lib\\site-packages\\shapely\\geometry\\base.py\", line 242, in __del__\n",
      "    self.empty(val=None)\n",
      "  File \"C:\\Users\\nazanin\\.conda\\envs\\geo_env\\lib\\site-packages\\shapely\\geometry\\base.py\", line 227, in empty\n",
      "    self._lgeos.GEOSGeom_destroy(self.__geom__)\n",
      "KeyboardInterrupt: \n"
     ]
    },
    {
     "ename": "KeyboardInterrupt",
     "evalue": "",
     "output_type": "error",
     "traceback": [
      "\u001b[1;31m---------------------------------------------------------------------------\u001b[0m",
      "\u001b[1;31mKeyboardInterrupt\u001b[0m                         Traceback (most recent call last)",
      "File \u001b[1;32m<timed exec>:1\u001b[0m, in \u001b[0;36m<module>\u001b[1;34m\u001b[0m\n",
      "Input \u001b[1;32mIn [35]\u001b[0m, in \u001b[0;36maddGeometryIdToDataFrame\u001b[1;34m(df, gdf, xcol, ycol, idColumn, df_geom)\u001b[0m\n\u001b[0;32m      1\u001b[0m \u001b[38;5;28;01mdef\u001b[39;00m \u001b[38;5;21maddGeometryIdToDataFrame\u001b[39m(df, gdf, xcol, ycol, idColumn\u001b[38;5;241m=\u001b[39m\u001b[38;5;124m\"\u001b[39m\u001b[38;5;124mgeometry\u001b[39m\u001b[38;5;124m\"\u001b[39m, df_geom\u001b[38;5;241m=\u001b[39m\u001b[38;5;124m'\u001b[39m\u001b[38;5;124mepsg:4326\u001b[39m\u001b[38;5;124m'\u001b[39m):\n\u001b[1;32m----> 2\u001b[0m     gdf_data \u001b[38;5;241m=\u001b[39m gpd\u001b[38;5;241m.\u001b[39mGeoDataFrame(df, geometry\u001b[38;5;241m=\u001b[39m\u001b[43mgpd\u001b[49m\u001b[38;5;241;43m.\u001b[39;49m\u001b[43mpoints_from_xy\u001b[49m\u001b[43m(\u001b[49m\u001b[43mdf\u001b[49m\u001b[43m[\u001b[49m\u001b[43mxcol\u001b[49m\u001b[43m]\u001b[49m\u001b[43m,\u001b[49m\u001b[43m \u001b[49m\u001b[43mdf\u001b[49m\u001b[43m[\u001b[49m\u001b[43mycol\u001b[49m\u001b[43m]\u001b[49m\u001b[43m)\u001b[49m)\n\u001b[0;32m      3\u001b[0m     gdf_data\u001b[38;5;241m.\u001b[39mcrs \u001b[38;5;241m=\u001b[39m {\u001b[38;5;124m'\u001b[39m\u001b[38;5;124minit\u001b[39m\u001b[38;5;124m'\u001b[39m: df_geom}\n\u001b[0;32m      4\u001b[0m     joined \u001b[38;5;241m=\u001b[39m gpd\u001b[38;5;241m.\u001b[39msjoin(gdf_data\u001b[38;5;241m.\u001b[39mto_crs(\u001b[38;5;124m'\u001b[39m\u001b[38;5;124mepsg:26910\u001b[39m\u001b[38;5;124m'\u001b[39m), gdf\u001b[38;5;241m.\u001b[39mto_crs(\u001b[38;5;124m'\u001b[39m\u001b[38;5;124mepsg:26910\u001b[39m\u001b[38;5;124m'\u001b[39m))\n",
      "File \u001b[1;32m~\\.conda\\envs\\geo_env\\lib\\site-packages\\geopandas\\array.py:275\u001b[0m, in \u001b[0;36mpoints_from_xy\u001b[1;34m(x, y, z, crs)\u001b[0m\n\u001b[0;32m    232\u001b[0m \u001b[38;5;28;01mdef\u001b[39;00m \u001b[38;5;21mpoints_from_xy\u001b[39m(x, y, z\u001b[38;5;241m=\u001b[39m\u001b[38;5;28;01mNone\u001b[39;00m, crs\u001b[38;5;241m=\u001b[39m\u001b[38;5;28;01mNone\u001b[39;00m):\n\u001b[0;32m    233\u001b[0m     \u001b[38;5;124;03m\"\"\"\u001b[39;00m\n\u001b[0;32m    234\u001b[0m \u001b[38;5;124;03m    Generate GeometryArray of shapely Point geometries from x, y(, z) coordinates.\u001b[39;00m\n\u001b[0;32m    235\u001b[0m \n\u001b[1;32m   (...)\u001b[0m\n\u001b[0;32m    273\u001b[0m \u001b[38;5;124;03m    output : GeometryArray\u001b[39;00m\n\u001b[0;32m    274\u001b[0m \u001b[38;5;124;03m    \"\"\"\u001b[39;00m\n\u001b[1;32m--> 275\u001b[0m     \u001b[38;5;28;01mreturn\u001b[39;00m GeometryArray(\u001b[43mvectorized\u001b[49m\u001b[38;5;241;43m.\u001b[39;49m\u001b[43mpoints_from_xy\u001b[49m\u001b[43m(\u001b[49m\u001b[43mx\u001b[49m\u001b[43m,\u001b[49m\u001b[43m \u001b[49m\u001b[43my\u001b[49m\u001b[43m,\u001b[49m\u001b[43m \u001b[49m\u001b[43mz\u001b[49m\u001b[43m)\u001b[49m, crs\u001b[38;5;241m=\u001b[39mcrs)\n",
      "File \u001b[1;32m~\\.conda\\envs\\geo_env\\lib\\site-packages\\geopandas\\_vectorized.py:248\u001b[0m, in \u001b[0;36mpoints_from_xy\u001b[1;34m(x, y, z)\u001b[0m\n\u001b[0;32m    246\u001b[0m     \u001b[38;5;28;01mreturn\u001b[39;00m pygeos\u001b[38;5;241m.\u001b[39mpoints(x, y, z)\n\u001b[0;32m    247\u001b[0m \u001b[38;5;28;01melse\u001b[39;00m:\n\u001b[1;32m--> 248\u001b[0m     out \u001b[38;5;241m=\u001b[39m \u001b[43m_points_from_xy\u001b[49m\u001b[43m(\u001b[49m\u001b[43mx\u001b[49m\u001b[43m,\u001b[49m\u001b[43m \u001b[49m\u001b[43my\u001b[49m\u001b[43m,\u001b[49m\u001b[43m \u001b[49m\u001b[43mz\u001b[49m\u001b[43m)\u001b[49m\n\u001b[0;32m    249\u001b[0m     aout \u001b[38;5;241m=\u001b[39m np\u001b[38;5;241m.\u001b[39mempty(\u001b[38;5;28mlen\u001b[39m(x), dtype\u001b[38;5;241m=\u001b[39m\u001b[38;5;28mobject\u001b[39m)\n\u001b[0;32m    250\u001b[0m     aout[:] \u001b[38;5;241m=\u001b[39m out\n",
      "File \u001b[1;32m~\\.conda\\envs\\geo_env\\lib\\site-packages\\geopandas\\_vectorized.py:234\u001b[0m, in \u001b[0;36m_points_from_xy\u001b[1;34m(x, y, z)\u001b[0m\n\u001b[0;32m    232\u001b[0m     geom \u001b[38;5;241m=\u001b[39m [shapely\u001b[38;5;241m.\u001b[39mgeometry\u001b[38;5;241m.\u001b[39mPoint(i, j, k) \u001b[38;5;28;01mfor\u001b[39;00m i, j, k \u001b[38;5;129;01min\u001b[39;00m \u001b[38;5;28mzip\u001b[39m(x, y, z)]\n\u001b[0;32m    233\u001b[0m \u001b[38;5;28;01melse\u001b[39;00m:\n\u001b[1;32m--> 234\u001b[0m     geom \u001b[38;5;241m=\u001b[39m [shapely\u001b[38;5;241m.\u001b[39mgeometry\u001b[38;5;241m.\u001b[39mPoint(i, j) \u001b[38;5;28;01mfor\u001b[39;00m i, j \u001b[38;5;129;01min\u001b[39;00m \u001b[38;5;28mzip\u001b[39m(x, y)]\n\u001b[0;32m    235\u001b[0m \u001b[38;5;28;01mreturn\u001b[39;00m geom\n",
      "File \u001b[1;32m~\\.conda\\envs\\geo_env\\lib\\site-packages\\geopandas\\_vectorized.py:234\u001b[0m, in \u001b[0;36m<listcomp>\u001b[1;34m(.0)\u001b[0m\n\u001b[0;32m    232\u001b[0m     geom \u001b[38;5;241m=\u001b[39m [shapely\u001b[38;5;241m.\u001b[39mgeometry\u001b[38;5;241m.\u001b[39mPoint(i, j, k) \u001b[38;5;28;01mfor\u001b[39;00m i, j, k \u001b[38;5;129;01min\u001b[39;00m \u001b[38;5;28mzip\u001b[39m(x, y, z)]\n\u001b[0;32m    233\u001b[0m \u001b[38;5;28;01melse\u001b[39;00m:\n\u001b[1;32m--> 234\u001b[0m     geom \u001b[38;5;241m=\u001b[39m [\u001b[43mshapely\u001b[49m\u001b[38;5;241;43m.\u001b[39;49m\u001b[43mgeometry\u001b[49m\u001b[38;5;241;43m.\u001b[39;49m\u001b[43mPoint\u001b[49m\u001b[43m(\u001b[49m\u001b[43mi\u001b[49m\u001b[43m,\u001b[49m\u001b[43m \u001b[49m\u001b[43mj\u001b[49m\u001b[43m)\u001b[49m \u001b[38;5;28;01mfor\u001b[39;00m i, j \u001b[38;5;129;01min\u001b[39;00m \u001b[38;5;28mzip\u001b[39m(x, y)]\n\u001b[0;32m    235\u001b[0m \u001b[38;5;28;01mreturn\u001b[39;00m geom\n",
      "File \u001b[1;32m~\\.conda\\envs\\geo_env\\lib\\site-packages\\shapely\\geometry\\point.py:48\u001b[0m, in \u001b[0;36mPoint.__init__\u001b[1;34m(self, *args)\u001b[0m\n\u001b[0;32m     46\u001b[0m BaseGeometry\u001b[38;5;241m.\u001b[39m\u001b[38;5;21m__init__\u001b[39m(\u001b[38;5;28mself\u001b[39m)\n\u001b[0;32m     47\u001b[0m \u001b[38;5;28;01mif\u001b[39;00m \u001b[38;5;28mlen\u001b[39m(args) \u001b[38;5;241m>\u001b[39m \u001b[38;5;241m0\u001b[39m:\n\u001b[1;32m---> 48\u001b[0m     \u001b[38;5;28;43mself\u001b[39;49m\u001b[38;5;241;43m.\u001b[39;49m\u001b[43m_set_coords\u001b[49m\u001b[43m(\u001b[49m\u001b[38;5;241;43m*\u001b[39;49m\u001b[43margs\u001b[49m\u001b[43m)\u001b[49m\n",
      "File \u001b[1;32m~\\.conda\\envs\\geo_env\\lib\\site-packages\\shapely\\geometry\\point.py:137\u001b[0m, in \u001b[0;36mPoint._set_coords\u001b[1;34m(self, *args)\u001b[0m\n\u001b[0;32m    135\u001b[0m     \u001b[38;5;28;01mraise\u001b[39;00m \u001b[38;5;167;01mTypeError\u001b[39;00m(\u001b[38;5;124m\"\u001b[39m\u001b[38;5;124mPoint() takes at most 3 arguments (\u001b[39m\u001b[38;5;132;01m{}\u001b[39;00m\u001b[38;5;124m given)\u001b[39m\u001b[38;5;124m\"\u001b[39m\u001b[38;5;241m.\u001b[39mformat(\u001b[38;5;28mlen\u001b[39m(args)))\n\u001b[0;32m    136\u001b[0m \u001b[38;5;28;01melse\u001b[39;00m:\n\u001b[1;32m--> 137\u001b[0m     \u001b[38;5;28mself\u001b[39m\u001b[38;5;241m.\u001b[39m_geom, \u001b[38;5;28mself\u001b[39m\u001b[38;5;241m.\u001b[39m_ndim \u001b[38;5;241m=\u001b[39m \u001b[43mgeos_point_from_py\u001b[49m\u001b[43m(\u001b[49m\u001b[38;5;28;43mtuple\u001b[39;49m\u001b[43m(\u001b[49m\u001b[43margs\u001b[49m\u001b[43m)\u001b[49m\u001b[43m)\u001b[49m\n",
      "File \u001b[1;32m~\\.conda\\envs\\geo_env\\lib\\site-packages\\shapely\\geometry\\point.py:227\u001b[0m, in \u001b[0;36mgeos_point_from_py\u001b[1;34m(ob, update_geom, update_ndim)\u001b[0m\n\u001b[0;32m    223\u001b[0m         \u001b[38;5;28;01mraise\u001b[39;00m \u001b[38;5;167;01mValueError\u001b[39;00m(\n\u001b[0;32m    224\u001b[0m             \u001b[38;5;124m\"\u001b[39m\u001b[38;5;124mWrong coordinate dimensions; this geometry has dimensions: \u001b[39m\u001b[38;5;124m\"\u001b[39m\n\u001b[0;32m    225\u001b[0m             \u001b[38;5;124m\"\u001b[39m\u001b[38;5;132;01m%d\u001b[39;00m\u001b[38;5;124m\"\u001b[39m \u001b[38;5;241m%\u001b[39m update_ndim)\n\u001b[0;32m    226\u001b[0m \u001b[38;5;28;01melse\u001b[39;00m:\n\u001b[1;32m--> 227\u001b[0m     cs \u001b[38;5;241m=\u001b[39m \u001b[43mlgeos\u001b[49m\u001b[38;5;241;43m.\u001b[39;49m\u001b[43mGEOSCoordSeq_create\u001b[49m\u001b[43m(\u001b[49m\u001b[38;5;241;43m1\u001b[39;49m\u001b[43m,\u001b[49m\u001b[43m \u001b[49m\u001b[43mn\u001b[49m\u001b[43m)\u001b[49m\n\u001b[0;32m    229\u001b[0m \u001b[38;5;66;03m# Because of a bug in the GEOS C API, always set X before Y\u001b[39;00m\n\u001b[0;32m    230\u001b[0m lgeos\u001b[38;5;241m.\u001b[39mGEOSCoordSeq_setX(cs, \u001b[38;5;241m0\u001b[39m, dx)\n",
      "\u001b[1;31mKeyboardInterrupt\u001b[0m: "
     ]
    }
   ],
   "source": [
    "%%time\n",
    "eventsSF = addGeometryIdToDataFrame(eventsSF, BGs, 'startX', 'startY', 'BlockGroupStart')"
   ]
  },
  {
   "cell_type": "code",
   "execution_count": 38,
   "id": "9eae57c0",
   "metadata": {},
   "outputs": [
    {
     "name": "stderr",
     "output_type": "stream",
     "text": [
      "Exception ignored in: <function BaseGeometry.__del__ at 0x0000011FE360F280>\n",
      "Traceback (most recent call last):\n",
      "  File \"C:\\Users\\nazanin\\.conda\\envs\\geo_env\\lib\\site-packages\\shapely\\geometry\\base.py\", line 242, in __del__\n",
      "    self.empty(val=None)\n",
      "  File \"C:\\Users\\nazanin\\.conda\\envs\\geo_env\\lib\\site-packages\\shapely\\geometry\\base.py\", line 227, in empty\n",
      "    self._lgeos.GEOSGeom_destroy(self.__geom__)\n",
      "KeyboardInterrupt: \n",
      "Exception ignored in: <function BaseGeometry.__del__ at 0x0000011FE360F280>\n",
      "Traceback (most recent call last):\n",
      "  File \"C:\\Users\\nazanin\\.conda\\envs\\geo_env\\lib\\site-packages\\shapely\\geometry\\base.py\", line 242, in __del__\n",
      "    self.empty(val=None)\n",
      "  File \"C:\\Users\\nazanin\\.conda\\envs\\geo_env\\lib\\site-packages\\shapely\\geometry\\base.py\", line 227, in empty\n",
      "    self._lgeos.GEOSGeom_destroy(self.__geom__)\n",
      "KeyboardInterrupt: \n",
      "Exception ignored in: <function BaseGeometry.__del__ at 0x0000011FE360F280>\n",
      "Traceback (most recent call last):\n",
      "  File \"C:\\Users\\nazanin\\.conda\\envs\\geo_env\\lib\\site-packages\\shapely\\geometry\\base.py\", line 242, in __del__\n",
      "    self.empty(val=None)\n",
      "  File \"C:\\Users\\nazanin\\.conda\\envs\\geo_env\\lib\\site-packages\\shapely\\geometry\\base.py\", line 227, in empty\n",
      "    self._lgeos.GEOSGeom_destroy(self.__geom__)\n",
      "KeyboardInterrupt: \n",
      "Exception ignored in: <function BaseGeometry.__del__ at 0x0000011FE360F280>\n",
      "Traceback (most recent call last):\n",
      "  File \"C:\\Users\\nazanin\\.conda\\envs\\geo_env\\lib\\site-packages\\shapely\\geometry\\base.py\", line 242, in __del__\n",
      "    self.empty(val=None)\n",
      "  File \"C:\\Users\\nazanin\\.conda\\envs\\geo_env\\lib\\site-packages\\shapely\\geometry\\base.py\", line 227, in empty\n",
      "    self._lgeos.GEOSGeom_destroy(self.__geom__)\n",
      "KeyboardInterrupt: \n"
     ]
    },
    {
     "ename": "KeyboardInterrupt",
     "evalue": "",
     "output_type": "error",
     "traceback": [
      "\u001b[1;31m---------------------------------------------------------------------------\u001b[0m",
      "\u001b[1;31mKeyboardInterrupt\u001b[0m                         Traceback (most recent call last)",
      "File \u001b[1;32m<timed exec>:1\u001b[0m, in \u001b[0;36m<module>\u001b[1;34m\u001b[0m\n",
      "Input \u001b[1;32mIn [35]\u001b[0m, in \u001b[0;36maddGeometryIdToDataFrame\u001b[1;34m(df, gdf, xcol, ycol, idColumn, df_geom)\u001b[0m\n\u001b[0;32m      1\u001b[0m \u001b[38;5;28;01mdef\u001b[39;00m \u001b[38;5;21maddGeometryIdToDataFrame\u001b[39m(df, gdf, xcol, ycol, idColumn\u001b[38;5;241m=\u001b[39m\u001b[38;5;124m\"\u001b[39m\u001b[38;5;124mgeometry\u001b[39m\u001b[38;5;124m\"\u001b[39m, df_geom\u001b[38;5;241m=\u001b[39m\u001b[38;5;124m'\u001b[39m\u001b[38;5;124mepsg:4326\u001b[39m\u001b[38;5;124m'\u001b[39m):\n\u001b[1;32m----> 2\u001b[0m     gdf_data \u001b[38;5;241m=\u001b[39m gpd\u001b[38;5;241m.\u001b[39mGeoDataFrame(df, geometry\u001b[38;5;241m=\u001b[39m\u001b[43mgpd\u001b[49m\u001b[38;5;241;43m.\u001b[39;49m\u001b[43mpoints_from_xy\u001b[49m\u001b[43m(\u001b[49m\u001b[43mdf\u001b[49m\u001b[43m[\u001b[49m\u001b[43mxcol\u001b[49m\u001b[43m]\u001b[49m\u001b[43m,\u001b[49m\u001b[43m \u001b[49m\u001b[43mdf\u001b[49m\u001b[43m[\u001b[49m\u001b[43mycol\u001b[49m\u001b[43m]\u001b[49m\u001b[43m)\u001b[49m)\n\u001b[0;32m      3\u001b[0m     gdf_data\u001b[38;5;241m.\u001b[39mcrs \u001b[38;5;241m=\u001b[39m {\u001b[38;5;124m'\u001b[39m\u001b[38;5;124minit\u001b[39m\u001b[38;5;124m'\u001b[39m: df_geom}\n\u001b[0;32m      4\u001b[0m     joined \u001b[38;5;241m=\u001b[39m gpd\u001b[38;5;241m.\u001b[39msjoin(gdf_data\u001b[38;5;241m.\u001b[39mto_crs(\u001b[38;5;124m'\u001b[39m\u001b[38;5;124mepsg:26910\u001b[39m\u001b[38;5;124m'\u001b[39m), gdf\u001b[38;5;241m.\u001b[39mto_crs(\u001b[38;5;124m'\u001b[39m\u001b[38;5;124mepsg:26910\u001b[39m\u001b[38;5;124m'\u001b[39m))\n",
      "File \u001b[1;32m~\\.conda\\envs\\geo_env\\lib\\site-packages\\geopandas\\array.py:275\u001b[0m, in \u001b[0;36mpoints_from_xy\u001b[1;34m(x, y, z, crs)\u001b[0m\n\u001b[0;32m    232\u001b[0m \u001b[38;5;28;01mdef\u001b[39;00m \u001b[38;5;21mpoints_from_xy\u001b[39m(x, y, z\u001b[38;5;241m=\u001b[39m\u001b[38;5;28;01mNone\u001b[39;00m, crs\u001b[38;5;241m=\u001b[39m\u001b[38;5;28;01mNone\u001b[39;00m):\n\u001b[0;32m    233\u001b[0m     \u001b[38;5;124;03m\"\"\"\u001b[39;00m\n\u001b[0;32m    234\u001b[0m \u001b[38;5;124;03m    Generate GeometryArray of shapely Point geometries from x, y(, z) coordinates.\u001b[39;00m\n\u001b[0;32m    235\u001b[0m \n\u001b[1;32m   (...)\u001b[0m\n\u001b[0;32m    273\u001b[0m \u001b[38;5;124;03m    output : GeometryArray\u001b[39;00m\n\u001b[0;32m    274\u001b[0m \u001b[38;5;124;03m    \"\"\"\u001b[39;00m\n\u001b[1;32m--> 275\u001b[0m     \u001b[38;5;28;01mreturn\u001b[39;00m GeometryArray(\u001b[43mvectorized\u001b[49m\u001b[38;5;241;43m.\u001b[39;49m\u001b[43mpoints_from_xy\u001b[49m\u001b[43m(\u001b[49m\u001b[43mx\u001b[49m\u001b[43m,\u001b[49m\u001b[43m \u001b[49m\u001b[43my\u001b[49m\u001b[43m,\u001b[49m\u001b[43m \u001b[49m\u001b[43mz\u001b[49m\u001b[43m)\u001b[49m, crs\u001b[38;5;241m=\u001b[39mcrs)\n",
      "File \u001b[1;32m~\\.conda\\envs\\geo_env\\lib\\site-packages\\geopandas\\_vectorized.py:248\u001b[0m, in \u001b[0;36mpoints_from_xy\u001b[1;34m(x, y, z)\u001b[0m\n\u001b[0;32m    246\u001b[0m     \u001b[38;5;28;01mreturn\u001b[39;00m pygeos\u001b[38;5;241m.\u001b[39mpoints(x, y, z)\n\u001b[0;32m    247\u001b[0m \u001b[38;5;28;01melse\u001b[39;00m:\n\u001b[1;32m--> 248\u001b[0m     out \u001b[38;5;241m=\u001b[39m \u001b[43m_points_from_xy\u001b[49m\u001b[43m(\u001b[49m\u001b[43mx\u001b[49m\u001b[43m,\u001b[49m\u001b[43m \u001b[49m\u001b[43my\u001b[49m\u001b[43m,\u001b[49m\u001b[43m \u001b[49m\u001b[43mz\u001b[49m\u001b[43m)\u001b[49m\n\u001b[0;32m    249\u001b[0m     aout \u001b[38;5;241m=\u001b[39m np\u001b[38;5;241m.\u001b[39mempty(\u001b[38;5;28mlen\u001b[39m(x), dtype\u001b[38;5;241m=\u001b[39m\u001b[38;5;28mobject\u001b[39m)\n\u001b[0;32m    250\u001b[0m     aout[:] \u001b[38;5;241m=\u001b[39m out\n",
      "File \u001b[1;32m~\\.conda\\envs\\geo_env\\lib\\site-packages\\geopandas\\_vectorized.py:234\u001b[0m, in \u001b[0;36m_points_from_xy\u001b[1;34m(x, y, z)\u001b[0m\n\u001b[0;32m    232\u001b[0m     geom \u001b[38;5;241m=\u001b[39m [shapely\u001b[38;5;241m.\u001b[39mgeometry\u001b[38;5;241m.\u001b[39mPoint(i, j, k) \u001b[38;5;28;01mfor\u001b[39;00m i, j, k \u001b[38;5;129;01min\u001b[39;00m \u001b[38;5;28mzip\u001b[39m(x, y, z)]\n\u001b[0;32m    233\u001b[0m \u001b[38;5;28;01melse\u001b[39;00m:\n\u001b[1;32m--> 234\u001b[0m     geom \u001b[38;5;241m=\u001b[39m [shapely\u001b[38;5;241m.\u001b[39mgeometry\u001b[38;5;241m.\u001b[39mPoint(i, j) \u001b[38;5;28;01mfor\u001b[39;00m i, j \u001b[38;5;129;01min\u001b[39;00m \u001b[38;5;28mzip\u001b[39m(x, y)]\n\u001b[0;32m    235\u001b[0m \u001b[38;5;28;01mreturn\u001b[39;00m geom\n",
      "File \u001b[1;32m~\\.conda\\envs\\geo_env\\lib\\site-packages\\geopandas\\_vectorized.py:234\u001b[0m, in \u001b[0;36m<listcomp>\u001b[1;34m(.0)\u001b[0m\n\u001b[0;32m    232\u001b[0m     geom \u001b[38;5;241m=\u001b[39m [shapely\u001b[38;5;241m.\u001b[39mgeometry\u001b[38;5;241m.\u001b[39mPoint(i, j, k) \u001b[38;5;28;01mfor\u001b[39;00m i, j, k \u001b[38;5;129;01min\u001b[39;00m \u001b[38;5;28mzip\u001b[39m(x, y, z)]\n\u001b[0;32m    233\u001b[0m \u001b[38;5;28;01melse\u001b[39;00m:\n\u001b[1;32m--> 234\u001b[0m     geom \u001b[38;5;241m=\u001b[39m [\u001b[43mshapely\u001b[49m\u001b[38;5;241;43m.\u001b[39;49m\u001b[43mgeometry\u001b[49m\u001b[38;5;241;43m.\u001b[39;49m\u001b[43mPoint\u001b[49m\u001b[43m(\u001b[49m\u001b[43mi\u001b[49m\u001b[43m,\u001b[49m\u001b[43m \u001b[49m\u001b[43mj\u001b[49m\u001b[43m)\u001b[49m \u001b[38;5;28;01mfor\u001b[39;00m i, j \u001b[38;5;129;01min\u001b[39;00m \u001b[38;5;28mzip\u001b[39m(x, y)]\n\u001b[0;32m    235\u001b[0m \u001b[38;5;28;01mreturn\u001b[39;00m geom\n",
      "File \u001b[1;32m~\\.conda\\envs\\geo_env\\lib\\site-packages\\shapely\\geometry\\point.py:48\u001b[0m, in \u001b[0;36mPoint.__init__\u001b[1;34m(self, *args)\u001b[0m\n\u001b[0;32m     46\u001b[0m BaseGeometry\u001b[38;5;241m.\u001b[39m\u001b[38;5;21m__init__\u001b[39m(\u001b[38;5;28mself\u001b[39m)\n\u001b[0;32m     47\u001b[0m \u001b[38;5;28;01mif\u001b[39;00m \u001b[38;5;28mlen\u001b[39m(args) \u001b[38;5;241m>\u001b[39m \u001b[38;5;241m0\u001b[39m:\n\u001b[1;32m---> 48\u001b[0m     \u001b[38;5;28;43mself\u001b[39;49m\u001b[38;5;241;43m.\u001b[39;49m\u001b[43m_set_coords\u001b[49m\u001b[43m(\u001b[49m\u001b[38;5;241;43m*\u001b[39;49m\u001b[43margs\u001b[49m\u001b[43m)\u001b[49m\n",
      "File \u001b[1;32m~\\.conda\\envs\\geo_env\\lib\\site-packages\\shapely\\geometry\\point.py:137\u001b[0m, in \u001b[0;36mPoint._set_coords\u001b[1;34m(self, *args)\u001b[0m\n\u001b[0;32m    135\u001b[0m     \u001b[38;5;28;01mraise\u001b[39;00m \u001b[38;5;167;01mTypeError\u001b[39;00m(\u001b[38;5;124m\"\u001b[39m\u001b[38;5;124mPoint() takes at most 3 arguments (\u001b[39m\u001b[38;5;132;01m{}\u001b[39;00m\u001b[38;5;124m given)\u001b[39m\u001b[38;5;124m\"\u001b[39m\u001b[38;5;241m.\u001b[39mformat(\u001b[38;5;28mlen\u001b[39m(args)))\n\u001b[0;32m    136\u001b[0m \u001b[38;5;28;01melse\u001b[39;00m:\n\u001b[1;32m--> 137\u001b[0m     \u001b[38;5;28mself\u001b[39m\u001b[38;5;241m.\u001b[39m_geom, \u001b[38;5;28mself\u001b[39m\u001b[38;5;241m.\u001b[39m_ndim \u001b[38;5;241m=\u001b[39m \u001b[43mgeos_point_from_py\u001b[49m\u001b[43m(\u001b[49m\u001b[38;5;28;43mtuple\u001b[39;49m\u001b[43m(\u001b[49m\u001b[43margs\u001b[49m\u001b[43m)\u001b[49m\u001b[43m)\u001b[49m\n",
      "File \u001b[1;32m~\\.conda\\envs\\geo_env\\lib\\site-packages\\shapely\\geometry\\point.py:230\u001b[0m, in \u001b[0;36mgeos_point_from_py\u001b[1;34m(ob, update_geom, update_ndim)\u001b[0m\n\u001b[0;32m    227\u001b[0m     cs \u001b[38;5;241m=\u001b[39m lgeos\u001b[38;5;241m.\u001b[39mGEOSCoordSeq_create(\u001b[38;5;241m1\u001b[39m, n)\n\u001b[0;32m    229\u001b[0m \u001b[38;5;66;03m# Because of a bug in the GEOS C API, always set X before Y\u001b[39;00m\n\u001b[1;32m--> 230\u001b[0m \u001b[43mlgeos\u001b[49m\u001b[38;5;241;43m.\u001b[39;49m\u001b[43mGEOSCoordSeq_setX\u001b[49m\u001b[43m(\u001b[49m\u001b[43mcs\u001b[49m\u001b[43m,\u001b[49m\u001b[43m \u001b[49m\u001b[38;5;241;43m0\u001b[39;49m\u001b[43m,\u001b[49m\u001b[43m \u001b[49m\u001b[43mdx\u001b[49m\u001b[43m)\u001b[49m\n\u001b[0;32m    231\u001b[0m lgeos\u001b[38;5;241m.\u001b[39mGEOSCoordSeq_setY(cs, \u001b[38;5;241m0\u001b[39m, dy)\n\u001b[0;32m    232\u001b[0m \u001b[38;5;28;01mif\u001b[39;00m n \u001b[38;5;241m==\u001b[39m \u001b[38;5;241m3\u001b[39m:\n",
      "\u001b[1;31mKeyboardInterrupt\u001b[0m: "
     ]
    }
   ],
   "source": [
    "%%time\n",
    "eventsSF = addGeometryIdToDataFrame(eventsSF, BGs, 'endX', 'endY', 'BlockGroupEnd')"
   ]
  },
  {
   "cell_type": "markdown",
   "id": "fe8a8b31",
   "metadata": {},
   "source": [
    "#### Adding new columns"
   ]
  },
  {
   "cell_type": "code",
   "execution_count": 85,
   "id": "ff786a3b",
   "metadata": {},
   "outputs": [],
   "source": [
    "eventsSF['actEndTime'] = np.where(eventsSF['type']=='actend'\n",
    "                     , eventsSF['time'], np.nan)"
   ]
  },
  {
   "cell_type": "code",
   "execution_count": 86,
   "id": "57f2a46c",
   "metadata": {},
   "outputs": [],
   "source": [
    "eventsSF['actStartTime'] = np.where(eventsSF['type']=='actstart'\n",
    "                     , eventsSF['time'], np.nan)    "
   ]
  },
  {
   "cell_type": "code",
   "execution_count": 87,
   "id": "0f47b8ee",
   "metadata": {},
   "outputs": [],
   "source": [
    "eventsSF['duration_travelling'] = np.where((eventsSF['type']=='PathTraversal')|(eventsSF['type']=='TeleportationEvent')\n",
    "                     , eventsSF['arrivalTime'] - eventsSF['departureTime'], np.nan)"
   ]
  },
  {
   "cell_type": "code",
   "execution_count": 88,
   "id": "7e427fd1",
   "metadata": {},
   "outputs": [],
   "source": [
    "eventsSF['distance_travelling'] = np.where((eventsSF['type']=='PathTraversal')|((eventsSF['type']=='ModeChoice')&((eventsSF['modeBEAM']=='hov2_teleportation')|(eventsSF['modeBEAM']=='hov3_teleportation'))), eventsSF['length'], np.nan)"
   ]
  },
  {
   "cell_type": "code",
   "execution_count": 89,
   "id": "63c8c08a",
   "metadata": {},
   "outputs": [],
   "source": [
    "eventsSF['distance_mode_choice'] = np.where(eventsSF['type']=='ModeChoice', eventsSF['length'], np.nan)"
   ]
  },
  {
   "cell_type": "code",
   "execution_count": 90,
   "id": "6403c92a",
   "metadata": {},
   "outputs": [],
   "source": [
    "eventsSF['duration_walking'] = np.where(eventsSF['modeBEAM']=='walk', eventsSF['duration_travelling'], np.nan)"
   ]
  },
  {
   "cell_type": "code",
   "execution_count": 91,
   "id": "9edb77aa",
   "metadata": {},
   "outputs": [],
   "source": [
    "eventsSF['distance_walking'] = np.where(eventsSF['modeBEAM']=='walk', eventsSF['distance_travelling'], np.nan)"
   ]
  },
  {
   "cell_type": "code",
   "execution_count": 92,
   "id": "d4a0af57",
   "metadata": {},
   "outputs": [],
   "source": [
    "eventsSF['duration_on_bike'] = np.where(eventsSF['modeBEAM']=='bike', eventsSF['duration_travelling'], np.nan)"
   ]
  },
  {
   "cell_type": "code",
   "execution_count": 93,
   "id": "148a3dbe",
   "metadata": {},
   "outputs": [],
   "source": [
    "eventsSF['distance_bike'] = np.where(eventsSF['modeBEAM']=='bike', eventsSF['distance_travelling'], np.nan)"
   ]
  },
  {
   "cell_type": "code",
   "execution_count": 94,
   "id": "3624b92a",
   "metadata": {},
   "outputs": [],
   "source": [
    "eventsSF['duration_in_ridehail'] = np.where((eventsSF['modeBEAM_rh']=='ride_hail')|(eventsSF['modeBEAM_rh']=='ride_hail_pooled')|(eventsSF['modeBEAM_rh']=='ride_hail_transit'), \n",
    "                                            eventsSF['duration_travelling'], np.nan)"
   ]
  },
  {
   "cell_type": "code",
   "execution_count": 95,
   "id": "90d4c42d",
   "metadata": {},
   "outputs": [],
   "source": [
    "eventsSF['distance_ridehail'] = np.where((eventsSF['modeBEAM_rh']=='ride_hail')|(eventsSF['modeBEAM_rh']=='ride_hail_pooled')|(eventsSF['modeBEAM_rh']=='ride_hail_transit'), eventsSF['distance_travelling'], np.nan)"
   ]
  },
  {
   "cell_type": "code",
   "execution_count": 96,
   "id": "4bb825fb",
   "metadata": {},
   "outputs": [],
   "source": [
    "eventsSF['duration_in_privateCar'] = np.where((eventsSF['modeBEAM_rh']=='car')|(eventsSF['modeBEAM_rh']=='car_hov3')|(eventsSF['modeBEAM_rh']=='car_hov2')|\n",
    "                                              (eventsSF['modeBEAM_rh']=='hov2_teleportation')|(eventsSF['modeBEAM_rh']=='hov3_teleportation') \n",
    "                                              , eventsSF['duration_travelling'], np.nan)"
   ]
  },
  {
   "cell_type": "code",
   "execution_count": 97,
   "id": "3473c8da",
   "metadata": {},
   "outputs": [],
   "source": [
    "eventsSF['distance_privateCar'] = np.where((eventsSF['modeBEAM_rh']=='car')|(eventsSF['modeBEAM_rh']=='car_hov3')|(eventsSF['modeBEAM_rh']=='car_hov2')|\n",
    "                                              (eventsSF['modeBEAM_rh']=='hov2_teleportation')|(eventsSF['modeBEAM_rh']=='hov3_teleportation'), eventsSF['distance_travelling'], np.nan)"
   ]
  },
  {
   "cell_type": "code",
   "execution_count": 98,
   "id": "0b735038",
   "metadata": {},
   "outputs": [],
   "source": [
    "eventsSF['duration_in_transit'] = np.where((eventsSF['modeBEAM']=='bike_transit')|(eventsSF['modeBEAM']=='drive_transit')|\n",
    "                                           (eventsSF['modeBEAM']=='walk_transit')|(eventsSF['modeBEAM']=='bus')|\n",
    "                                           (eventsSF['modeBEAM']=='tram')|(eventsSF['modeBEAM']=='subway')|\n",
    "                                           (eventsSF['modeBEAM']=='rail')|(eventsSF['modeBEAM']=='cable_car')|\n",
    "                                           (eventsSF['modeBEAM']=='ride_hail_transit'), eventsSF['duration_travelling'], np.nan)"
   ]
  },
  {
   "cell_type": "code",
   "execution_count": 99,
   "id": "92c358e1",
   "metadata": {},
   "outputs": [],
   "source": [
    "eventsSF['distance_transit'] = np.where((eventsSF['modeBEAM']=='bike_transit')|(eventsSF['modeBEAM']=='drive_transit')|\n",
    "                                        (eventsSF['modeBEAM']=='walk_transit')|(eventsSF['modeBEAM']=='bus')|\n",
    "                                        (eventsSF['modeBEAM']=='tram')|(eventsSF['modeBEAM']=='subway')|\n",
    "                                        (eventsSF['modeBEAM']=='rail')|(eventsSF['modeBEAM']=='cable_car')|\n",
    "                                        (eventsSF['modeBEAM']=='ride_hail_transit'), eventsSF['distance_travelling'], np.nan)"
   ]
  },
  {
   "cell_type": "code",
   "execution_count": 100,
   "id": "0b4e8ccd",
   "metadata": {},
   "outputs": [],
   "source": [
    "# Removing the extra tour index happening after replanning events\n",
    "eventsSF['replanningTime'] = np.where(eventsSF['type'] == 'Replanning', eventsSF['time'], np.nan)\n",
    "eventsSF['replanningTime'] = eventsSF['replanningTime'].shift(+1)\n",
    "eventsSF['tourIndex_fixed'] = np.where((eventsSF['type'] == 'ModeChoice')&(eventsSF['replanningTime'].notna()), np.nan, eventsSF['tourIndex'])"
   ]
  },
  {
   "cell_type": "code",
   "execution_count": 101,
   "id": "1335cedb",
   "metadata": {},
   "outputs": [],
   "source": [
    "#eventsSF = eventsSF.set_index('IDMerged')"
   ]
  },
  {
   "cell_type": "code",
   "execution_count": 102,
   "id": "5beb42b2",
   "metadata": {},
   "outputs": [],
   "source": [
    "eventsSF['fuelFood'] = np.where((eventsSF['type']=='PathTraversal')&(eventsSF['primaryFuelType']=='Food'), \n",
    "                                eventsSF['primaryFuel'], np.nan)"
   ]
  },
  {
   "cell_type": "code",
   "execution_count": 103,
   "id": "f6880cae",
   "metadata": {},
   "outputs": [],
   "source": [
    "eventsSF['emissionFood'] = eventsSF['fuelFood'] * 8.3141841e-9 * 0"
   ]
  },
  {
   "cell_type": "code",
   "execution_count": 104,
   "id": "4104324f",
   "metadata": {},
   "outputs": [],
   "source": [
    "eventsSF['fuelElectricity'] = np.where((eventsSF['type']=='PathTraversal')&(eventsSF['primaryFuelType']=='Electricity'), \n",
    "                                eventsSF['primaryFuel'], np.nan)"
   ]
  },
  {
   "cell_type": "code",
   "execution_count": 105,
   "id": "ac8a70b7",
   "metadata": {},
   "outputs": [],
   "source": [
    "eventsSF['emissionElectricity'] = eventsSF['fuelElectricity'] * 2.77778e-10 * 947.2 * 0.0005"
   ]
  },
  {
   "cell_type": "code",
   "execution_count": 106,
   "id": "32f9c7d4",
   "metadata": {},
   "outputs": [],
   "source": [
    "eventsSF['fuelDiesel'] = np.where((eventsSF['type']=='PathTraversal')&(eventsSF['primaryFuelType']=='Diesel'), \n",
    "                                eventsSF['primaryFuel'], np.nan)"
   ]
  },
  {
   "cell_type": "code",
   "execution_count": 107,
   "id": "791a7e19",
   "metadata": {},
   "outputs": [],
   "source": [
    "eventsSF['emissionDiesel'] = eventsSF['fuelDiesel'] * 8.3141841e-9 * 10.180e-3"
   ]
  },
  {
   "cell_type": "code",
   "execution_count": 108,
   "id": "e8f68e5c",
   "metadata": {},
   "outputs": [],
   "source": [
    "eventsSF['fuelBiodiesel'] = np.where((eventsSF['type']=='PathTraversal')&(eventsSF['primaryFuelType']=='Biodiesel'), \n",
    "                                eventsSF['primaryFuel'], np.nan)"
   ]
  },
  {
   "cell_type": "code",
   "execution_count": 109,
   "id": "bfcfbcce",
   "metadata": {},
   "outputs": [],
   "source": [
    "eventsSF['emissionBiodiesel'] = eventsSF['fuelBiodiesel'] * 8.3141841e-9 * 10.180e-3"
   ]
  },
  {
   "cell_type": "code",
   "execution_count": 110,
   "id": "5e752231",
   "metadata": {},
   "outputs": [],
   "source": [
    "eventsSF['fuel_not_Food'] = np.where((eventsSF['type']=='PathTraversal')&(eventsSF['primaryFuelType']!='Food')\n",
    "                            , eventsSF['primaryFuel']+eventsSF['secondaryFuel'], np.nan)"
   ]
  },
  {
   "cell_type": "code",
   "execution_count": 111,
   "id": "bfc1273e",
   "metadata": {},
   "outputs": [],
   "source": [
    "eventsSF['fuelGasoline'] = np.where((eventsSF['type']=='PathTraversal')&((eventsSF['primaryFuelType']=='Gasoline')|(eventsSF['secondaryFuelType']=='Gasoline')), \n",
    "                           eventsSF['primaryFuel']+eventsSF['secondaryFuel'], np.nan)"
   ]
  },
  {
   "cell_type": "code",
   "execution_count": 112,
   "id": "fa3174aa",
   "metadata": {},
   "outputs": [],
   "source": [
    "eventsSF['emissionGasoline'] = eventsSF['fuelGasoline'] * 8.3141841e-9 * 8.89e-3"
   ]
  },
  {
   "cell_type": "code",
   "execution_count": 113,
   "id": "a62efea2",
   "metadata": {},
   "outputs": [],
   "source": [
    "# Marginal fuel\n",
    "conditions  = [(eventsSF['modeBEAM_rh'] == 'ride_hail_pooled'), \n",
    "               (eventsSF['modeBEAM_rh'] == 'walk_transit') | (eventsSF['modeBEAM_rh'] == 'drive_transit')|\n",
    "               (eventsSF['modeBEAM_rh'] == 'ride_hail_transit')|(eventsSF['modeBEAM_rh'] == 'bus')|(eventsSF['modeBEAM_rh'] == 'subway')|\n",
    "               (eventsSF['modeBEAM_rh'] == 'rail')|(eventsSF['modeBEAM_rh'] == 'tram')|(eventsSF['modeBEAM_rh'] == 'cable_car')|\n",
    "               (eventsSF['modeBEAM_rh'] == 'bike_transit'),\n",
    "               (eventsSF['modeBEAM_rh'] == 'walk')|(eventsSF['modeBEAM_rh'] == 'bike'),\n",
    "               (eventsSF['modeBEAM_rh'] == 'ride_hail')|(eventsSF['modeBEAM_rh'] == 'car')| \n",
    "               (eventsSF['modeBEAM_rh'] == 'car_hov2')| (eventsSF['modeBEAM_rh'] == 'car_hov3')|\n",
    "               (eventsSF['modeBEAM_rh'] == 'hov2_teleportation')| (eventsSF['modeBEAM_rh'] == 'hov3_teleportation')]\n",
    "choices = [eventsSF['fuel_not_Food']/eventsSF['numPassengers'], 0 , eventsSF['fuelFood'], eventsSF['fuel_not_Food']]"
   ]
  },
  {
   "cell_type": "code",
   "execution_count": 114,
   "id": "cdd142f0",
   "metadata": {},
   "outputs": [],
   "source": [
    "eventsSF['fuel_marginal'] = np.select(conditions, choices, default=np.nan)"
   ]
  },
  {
   "cell_type": "code",
   "execution_count": 115,
   "id": "4eca5a86",
   "metadata": {},
   "outputs": [],
   "source": [
    "# Marginal emission\n",
    "conditions1  = [(eventsSF['modeBEAM_rh'] == 'ride_hail_pooled') & (eventsSF['fuelElectricity'].notna() != 0), \n",
    "               (eventsSF['modeBEAM_rh'] == 'ride_hail_pooled') & (eventsSF['fuelGasoline'].notna() != 0),\n",
    "               (eventsSF['modeBEAM_rh'] == 'ride_hail_pooled') & (eventsSF['fuelBiodiesel'].notna() != 0),\n",
    "               (eventsSF['modeBEAM_rh'] == 'ride_hail_pooled') & (eventsSF['fuelDiesel'].notna() != 0),             \n",
    "               (eventsSF['modeBEAM_rh'] == 'walk_transit') | (eventsSF['modeBEAM_rh'] == 'drive_transit')|\n",
    "               (eventsSF['modeBEAM_rh'] == 'ride_hail_transit')|(eventsSF['modeBEAM_rh'] == 'bus')|(eventsSF['modeBEAM_rh'] == 'subway')|\n",
    "               (eventsSF['modeBEAM_rh'] == 'rail')|(eventsSF['modeBEAM_rh'] == 'tram')|(eventsSF['modeBEAM_rh'] == 'cable_car')|\n",
    "               (eventsSF['modeBEAM_rh'] == 'bike_transit'),\n",
    "\n",
    "               (eventsSF['modeBEAM_rh'] == 'walk')|(eventsSF['modeBEAM_rh'] == 'bike'),\n",
    "               \n",
    "               (eventsSF['modeBEAM_rh'] == 'ride_hail')|(eventsSF['modeBEAM_rh'] == 'car')| \n",
    "               (eventsSF['modeBEAM_rh'] == 'car_hov2')| (eventsSF['modeBEAM_rh'] == 'car_hov3')|\n",
    "               (eventsSF['modeBEAM_rh'] == 'hov2_teleportation')| (eventsSF['modeBEAM_rh'] == 'hov3_teleportation')&\n",
    "               (eventsSF['fuelElectricity'].notna() != 0),\n",
    "              \n",
    "               (eventsSF['modeBEAM_rh'] == 'ride_hail')|(eventsSF['modeBEAM_rh'] == 'car')| \n",
    "               (eventsSF['modeBEAM_rh'] == 'car_hov2')| (eventsSF['modeBEAM_rh'] == 'car_hov3')|\n",
    "               (eventsSF['modeBEAM_rh'] == 'hov2_teleportation')| (eventsSF['modeBEAM_rh'] == 'hov3_teleportation')&\n",
    "               (eventsSF['fuelGasoline'].notna() != 0),           \n",
    "              \n",
    "               (eventsSF['modeBEAM_rh'] == 'ride_hail')|(eventsSF['modeBEAM_rh'] == 'car')| \n",
    "               (eventsSF['modeBEAM_rh'] == 'car_hov2')| (eventsSF['modeBEAM_rh'] == 'car_hov3')|\n",
    "               (eventsSF['modeBEAM_rh'] == 'hov2_teleportation')| (eventsSF['modeBEAM_rh'] == 'hov3_teleportation')&\n",
    "               (eventsSF['fuelBiodiesel'].notna() != 0),   \n",
    "               \n",
    "               (eventsSF['modeBEAM_rh'] == 'ride_hail')|(eventsSF['modeBEAM_rh'] == 'car')| \n",
    "               (eventsSF['modeBEAM_rh'] == 'car_hov2')| (eventsSF['modeBEAM_rh'] == 'car_hov3')|\n",
    "               (eventsSF['modeBEAM_rh'] == 'hov2_teleportation')| (eventsSF['modeBEAM_rh'] == 'hov3_teleportation')&\n",
    "               (eventsSF['fuelDiesel'].notna() != 0),\n",
    "\n",
    "               (eventsSF['modeBEAM_rh'] == 'ride_hail')|(eventsSF['modeBEAM_rh'] == 'car')| \n",
    "               (eventsSF['modeBEAM_rh'] == 'car_hov2')| (eventsSF['modeBEAM_rh'] == 'car_hov3')|\n",
    "               (eventsSF['modeBEAM_rh'] == 'hov2_teleportation')| (eventsSF['modeBEAM_rh'] == 'hov3_teleportation')&\n",
    "               (eventsSF['fuelFood'].notna() != 0)]\n",
    "\n",
    "choices1 = [eventsSF['emissionElectricity']/eventsSF['numPassengers'],\n",
    "           eventsSF['emissionGasoline']/eventsSF['numPassengers'],\n",
    "           eventsSF['emissionBiodiesel']/eventsSF['numPassengers'],\n",
    "           eventsSF['emissionDiesel']/eventsSF['numPassengers'],           \n",
    "           0 , \n",
    "           eventsSF['emissionFood'], \n",
    "           eventsSF['emissionElectricity'],\n",
    "           eventsSF['emissionGasoline'],\n",
    "           eventsSF['emissionBiodiesel'],\n",
    "           eventsSF['emissionDiesel'],\n",
    "           eventsSF['emissionFood']]"
   ]
  },
  {
   "cell_type": "code",
   "execution_count": 116,
   "id": "fb19ee46",
   "metadata": {},
   "outputs": [],
   "source": [
    "eventsSF['emission_marginal'] = np.select(conditions1, choices1, default=np.nan)"
   ]
  },
  {
   "cell_type": "code",
   "execution_count": 117,
   "id": "1bb135e2",
   "metadata": {},
   "outputs": [],
   "source": [
    "eventsSF['actEndType'] = np.where(eventsSF['type']=='actend', eventsSF['actType'], \"\")"
   ]
  },
  {
   "cell_type": "code",
   "execution_count": 118,
   "id": "52f9f171",
   "metadata": {},
   "outputs": [],
   "source": [
    "eventsSF['actStartType'] = np.where(eventsSF['type']=='actstart', eventsSF['actType'], \"\")"
   ]
  },
  {
   "cell_type": "markdown",
   "id": "d3b8bb89",
   "metadata": {},
   "source": [
    "#### Trip Index"
   ]
  },
  {
   "cell_type": "code",
   "execution_count": 119,
   "id": "5be797be",
   "metadata": {},
   "outputs": [],
   "source": [
    "#eventsSF[\"tripIndex\"] = eventsSF.groupby(\"IDMerged\")[\"tourIndex_fixed\"].rank(method=\"first\", ascending=True)\n",
    "eventsSF[\"tripIndex\"] = eventsSF.tripId.fillna(method='ffill')"
   ]
  },
  {
   "cell_type": "markdown",
   "id": "3bd20fe1",
   "metadata": {},
   "source": [
    "#### Mode Choice planned and actual"
   ]
  },
  {
   "cell_type": "code",
   "execution_count": 120,
   "id": "9ecaf4ba",
   "metadata": {},
   "outputs": [
    {
     "name": "stdout",
     "output_type": "stream",
     "text": [
      "CPU times: total: 1min 24s\n",
      "Wall time: 1min 24s\n"
     ]
    }
   ],
   "source": [
    "%%time\n",
    "eventsSF['mode_choice_actual_BEAM'] = eventsSF.groupby(['IDMerged','tripId', 'type'])['modeBEAM'].transform('last')"
   ]
  },
  {
   "cell_type": "code",
   "execution_count": 121,
   "id": "ed171398",
   "metadata": {},
   "outputs": [
    {
     "name": "stdout",
     "output_type": "stream",
     "text": [
      "CPU times: total: 1min 23s\n",
      "Wall time: 1min 23s\n"
     ]
    }
   ],
   "source": [
    "%%time\n",
    "eventsSF['mode_choice_planned_BEAM'] = eventsSF.groupby(['IDMerged','tripId', 'type'])['modeBEAM'].transform('first')"
   ]
  },
  {
   "cell_type": "code",
   "execution_count": 122,
   "id": "723f03e6",
   "metadata": {},
   "outputs": [],
   "source": [
    "eventsSF['mode_choice_actual_BEAM'] = np.where(eventsSF['type'] != 'ModeChoice' , np.nan, eventsSF['mode_choice_actual_BEAM'])"
   ]
  },
  {
   "cell_type": "code",
   "execution_count": 123,
   "id": "8bac64c3",
   "metadata": {},
   "outputs": [],
   "source": [
    "eventsSF['mode_choice_planned_BEAM'] = np.where(eventsSF['type'] != 'ModeChoice' , np.nan, eventsSF['mode_choice_planned_BEAM'])"
   ]
  },
  {
   "cell_type": "code",
   "execution_count": 124,
   "id": "bd021670",
   "metadata": {},
   "outputs": [],
   "source": [
    "# Rename the \"netCost\" column\n",
    "eventsSF.rename(columns={\"netCost\":\"cost_BEAM\"}, inplace=True) "
   ]
  },
  {
   "cell_type": "code",
   "execution_count": 125,
   "id": "6dca051c",
   "metadata": {},
   "outputs": [],
   "source": [
    "# Replanning events = 1, the rest = 0\n",
    "eventsSF['replanning_status'] = np.where(eventsSF['type']=='Replanning', 1, 0)"
   ]
  },
  {
   "cell_type": "code",
   "execution_count": 126,
   "id": "11d6986e",
   "metadata": {},
   "outputs": [
    {
     "name": "stdout",
     "output_type": "stream",
     "text": [
      "CPU times: total: 1.81 s\n",
      "Wall time: 1.81 s\n"
     ]
    }
   ],
   "source": [
    "%%time\n",
    "eventsSF['reason'].replace('nan', np.NaN)"
   ]
  },
  {
   "cell_type": "code",
   "execution_count": 127,
   "id": "e2809aa0",
   "metadata": {},
   "outputs": [],
   "source": [
    "eventsSF['transit_bus'] = np.where(eventsSF['modeBEAM_rh']=='bus', 1, 0)\n",
    "eventsSF['transit_subway'] = np.where(eventsSF['modeBEAM_rh']=='subway', 1, 0)\n",
    "eventsSF['transit_tram'] = np.where(eventsSF['modeBEAM_rh']=='tram', 1, 0)\n",
    "eventsSF['transit_rail'] = np.where(eventsSF['modeBEAM_rh']=='rail', 1, 0)\n",
    "eventsSF['transit_cable_car'] = np.where(eventsSF['modeBEAM_rh']=='cable_car', 1, 0)"
   ]
  },
  {
   "cell_type": "code",
   "execution_count": 128,
   "id": "07b5229c",
   "metadata": {},
   "outputs": [],
   "source": [
    "eventsSF['ride_hail_pooled'] = np.where(eventsSF['modeBEAM_rh']=='ride_hail_pooled', 1, 0)"
   ]
  },
  {
   "cell_type": "code",
   "execution_count": 129,
   "id": "4a679675",
   "metadata": {},
   "outputs": [
    {
     "name": "stdout",
     "output_type": "stream",
     "text": [
      "CPU times: total: 48min 37s\n",
      "Wall time: 48min 37s\n"
     ]
    }
   ],
   "source": [
    "%%time\n",
    "Person_Trip_eventsSF = pd.pivot_table(\n",
    "   eventsSF,\n",
    "   index=['IDMerged','tripIndex'],\n",
    "   aggfunc={'actStartTime': np.sum, \n",
    "            'actEndTime': np.sum, \n",
    "            'duration_travelling': np.sum, \n",
    "            'cost_BEAM': np.sum, \n",
    "            'actStartType': np.sum, \n",
    "            'actEndType': np.sum, \n",
    "            'duration_walking': np.sum, \n",
    "            'duration_in_privateCar': np.sum, \n",
    "            'duration_on_bike': np.sum, \n",
    "            'duration_in_ridehail': np.sum, \n",
    "            'distance_travelling': np.sum, \n",
    "            'duration_in_transit': np.sum, \n",
    "            'distance_walking': np.sum, \n",
    "            'distance_bike': np.sum, \n",
    "            'distance_ridehail': np.sum, \n",
    "            'distance_privateCar': np.sum, \n",
    "            'distance_transit': np.sum, \n",
    "            'legVehicleIds': np.sum, \n",
    "            'mode_choice_planned_BEAM':lambda x: ', '.join(set(x.dropna().astype(str))),\n",
    "            'mode_choice_actual_BEAM':lambda x: ', '.join(set(x.dropna().astype(str))),\n",
    "            'vehicle': lambda x: ', '.join(set(x.dropna().astype(str))),\n",
    "            'numPassengers': lambda x: ', '.join(list(x.dropna().astype(str))),\n",
    "            'distance_mode_choice': np.sum,\n",
    "            'replanning_status': np.sum,\n",
    "            'reason': lambda x: ', '.join(list(x.dropna().astype(str))),\n",
    "            'parkingType': lambda x: ', '.join(list(x.dropna().astype(str))),\n",
    "            'transit_bus': np.sum, \n",
    "            'transit_subway': np.sum, \n",
    "            'transit_tram': np.sum, \n",
    "            'transit_cable_car': np.sum,\n",
    "            'ride_hail_pooled': np.sum, \n",
    "            'transit_rail': np.sum,\n",
    "            'year': lambda x: ', '.join(set(x.dropna().astype(str))),\n",
    "            'lever_position': lambda x: ', '.join(set(x.dropna().astype(str))),\n",
    "            'scenario': lambda x: ', '.join(set(x.dropna().astype(str))),\n",
    "            'fuelFood': np.sum, \n",
    "            'fuelElectricity': np.sum, \n",
    "            'fuelBiodiesel': np.sum, \n",
    "            'fuelDiesel': np.sum, \n",
    "            'fuel_not_Food': np.sum, \n",
    "            'fuelGasoline': np.sum, \n",
    "            'fuel_marginal': np.sum,\n",
    "            'emissionFood': np.sum, \n",
    "            'emissionElectricity': np.sum, \n",
    "            'emissionDiesel': np.sum, \n",
    "            'emissionGasoline': np.sum,\n",
    "            'emissionBiodiesel': np.sum, \n",
    "            'emission_marginal': np.sum,\n",
    "            'lever': lambda x: ', '.join(set(x.dropna().astype(str)))\n",
    "           }).reset_index() \n",
    "\n",
    "#'numPassengers': lambda x: ', '.join(set(x.dropna().astype(str))) \n",
    "#'mode_choice_actual_BEAM':lambda x: ', '.join(set(x.dropna().astype(str))) #\n",
    "#'modeBEAM_rh': lambda x: ', '.join(list(x.dropna().astype(str))), "
   ]
  },
  {
   "cell_type": "code",
   "execution_count": 130,
   "id": "dc3ac897",
   "metadata": {},
   "outputs": [],
   "source": [
    "Person_Trip_eventsSF['duration_door_to_door'] = Person_Trip_eventsSF['actStartTime'] - Person_Trip_eventsSF['actEndTime'] "
   ]
  },
  {
   "cell_type": "code",
   "execution_count": 131,
   "id": "03bd08b4",
   "metadata": {},
   "outputs": [],
   "source": [
    "Person_Trip_eventsSF['waitTime'] = Person_Trip_eventsSF['duration_door_to_door'] - Person_Trip_eventsSF['duration_travelling'] "
   ]
  },
  {
   "cell_type": "code",
   "execution_count": 132,
   "id": "28560b3b",
   "metadata": {},
   "outputs": [],
   "source": [
    "Person_Trip_eventsSF['actPurpose'] = Person_Trip_eventsSF['actEndType'].astype(str) + \"_to_\" + Person_Trip_eventsSF['actStartType'].astype(str)"
   ]
  },
  {
   "cell_type": "code",
   "execution_count": 133,
   "id": "d3a96721",
   "metadata": {},
   "outputs": [],
   "source": [
    "Person_Trip_eventsSF.rename(columns={\"legVehicleIds\":\"vehicleIds_estimate\"}, inplace=True) "
   ]
  },
  {
   "cell_type": "code",
   "execution_count": 134,
   "id": "b8d2f547",
   "metadata": {},
   "outputs": [],
   "source": [
    "Person_Trip_eventsSF.rename(columns={\"vehicle\":\"vehicleIds\"}, inplace=True) "
   ]
  },
  {
   "cell_type": "markdown",
   "id": "1a54b308",
   "metadata": {},
   "source": [
    "#### New"
   ]
  },
  {
   "cell_type": "code",
   "execution_count": 135,
   "id": "3c0e1bd0",
   "metadata": {},
   "outputs": [],
   "source": [
    "# Column with five summarized modes\n",
    "conditions  = [(Person_Trip_eventsSF['mode_choice_actual_BEAM'] == 'ride_hail') | (Person_Trip_eventsSF['mode_choice_actual_BEAM'] == 'ride_hail_pooled'), \n",
    "               (Person_Trip_eventsSF['mode_choice_actual_BEAM'] == 'walk_transit') | (Person_Trip_eventsSF['mode_choice_actual_BEAM'] == 'drive_transit')| (Person_Trip_eventsSF['mode_choice_actual_BEAM'] == 'ride_hail_transit')|(Person_Trip_eventsSF['mode_choice_actual_BEAM'] == 'bike_transit'),\n",
    "               (Person_Trip_eventsSF['mode_choice_actual_BEAM'] == 'walk'), (Person_Trip_eventsSF['mode_choice_actual_BEAM'] == 'bike'),\n",
    "               (Person_Trip_eventsSF['mode_choice_actual_BEAM'] == 'car') | (Person_Trip_eventsSF['mode_choice_actual_BEAM'] == 'car_hov2')| (Person_Trip_eventsSF['mode_choice_actual_BEAM'] == 'car_hov3')|(Person_Trip_eventsSF['mode_choice_actual_BEAM'] == 'hov2_teleportation')| (Person_Trip_eventsSF['mode_choice_actual_BEAM'] == 'hov3_teleportation')]\n",
    "choices = [ 'ride_hail', 'transit', 'walk', 'bike', 'car']"
   ]
  },
  {
   "cell_type": "code",
   "execution_count": 136,
   "id": "86cb946d",
   "metadata": {},
   "outputs": [],
   "source": [
    "Person_Trip_eventsSF['mode_choice_actual_5'] = np.select(conditions, choices, default= np.nan)"
   ]
  },
  {
   "cell_type": "code",
   "execution_count": 137,
   "id": "8b02ea2e",
   "metadata": {},
   "outputs": [],
   "source": [
    "# Column with six summarized modes\n",
    "conditions  = [(Person_Trip_eventsSF['mode_choice_actual_BEAM'] == 'ride_hail') | (Person_Trip_eventsSF['mode_choice_actual_BEAM'] == 'ride_hail_pooled'), \n",
    "               (Person_Trip_eventsSF['mode_choice_actual_BEAM'] == 'walk_transit') | (Person_Trip_eventsSF['mode_choice_actual_BEAM'] == 'drive_transit')|(Person_Trip_eventsSF['mode_choice_actual_BEAM'] == 'bike_transit'),\n",
    "               (Person_Trip_eventsSF['mode_choice_actual_BEAM'] == 'walk'), (Person_Trip_eventsSF['mode_choice_actual_BEAM'] == 'bike'),\n",
    "               (Person_Trip_eventsSF['mode_choice_actual_BEAM'] == 'car') | (Person_Trip_eventsSF['mode_choice_actual_BEAM'] == 'car_hov2')| (Person_Trip_eventsSF['mode_choice_actual_BEAM'] == 'car_hov3')|(Person_Trip_eventsSF['mode_choice_actual_BEAM'] == 'hov2_teleportation')| (Person_Trip_eventsSF['mode_choice_actual_BEAM'] == 'hov3_teleportation'),\n",
    "               (Person_Trip_eventsSF['mode_choice_actual_BEAM'] == 'ride_hail_transit')]\n",
    "choices = [ 'ride_hail', 'transit', 'walk', 'bike', 'car', 'ride_hail_transit']"
   ]
  },
  {
   "cell_type": "code",
   "execution_count": 138,
   "id": "b63121f4",
   "metadata": {},
   "outputs": [],
   "source": [
    "Person_Trip_eventsSF['mode_choice_actual_6'] = pd.Series(np.select(conditions, choices, default= np.nan)).replace({'nan':np.nan})"
   ]
  },
  {
   "cell_type": "code",
   "execution_count": 139,
   "id": "8ea04962",
   "metadata": {},
   "outputs": [],
   "source": [
    "# Column with four summarized modes\n",
    "Person_Trip_eventsSF['mode_choice_actual_4']  = np.where((Person_Trip_eventsSF['mode_choice_actual_5'] == 'walk')|(Person_Trip_eventsSF['mode_choice_actual_5'] == 'bike'),\n",
    "                                                        'walk/bike', Person_Trip_eventsSF['mode_choice_actual_5'])"
   ]
  },
  {
   "cell_type": "code",
   "execution_count": 140,
   "id": "649260ae",
   "metadata": {},
   "outputs": [],
   "source": [
    "Person_Trip_eventsSF = Person_Trip_eventsSF.drop(Person_Trip_eventsSF[Person_Trip_eventsSF.duration_door_to_door < 0].index)"
   ]
  },
  {
   "cell_type": "code",
   "execution_count": 141,
   "id": "2d2b37e2",
   "metadata": {},
   "outputs": [],
   "source": [
    "#Person_Trip_eventsSF.to_csv('C:/Shared-Work/Data/CleanData/sf_2018_base_core_act.csv', index = False)"
   ]
  },
  {
   "cell_type": "markdown",
   "id": "557c5804",
   "metadata": {},
   "source": [
    "#### Merging with ActivitySim files"
   ]
  },
  {
   "cell_type": "code",
   "execution_count": 142,
   "id": "13594e0f",
   "metadata": {},
   "outputs": [],
   "source": [
    "households = pd.read_csv('gs://beam-core-outputs/sfbay-2010-base-20221122/activitysim/year-2015-iteration-3/households.csv.gz', compression = 'gzip', dtype = dtypes)"
   ]
  },
  {
   "cell_type": "code",
   "execution_count": 143,
   "id": "df5a30c8",
   "metadata": {},
   "outputs": [],
   "source": [
    "persons = pd.read_csv('gs://beam-core-outputs/sfbay-2010-base-20221122/activitysim/year-2015-iteration-3/persons.csv.gz', compression = 'gzip', dtype = dtypes)"
   ]
  },
  {
   "cell_type": "code",
   "execution_count": 144,
   "id": "60622ab1",
   "metadata": {},
   "outputs": [],
   "source": [
    "tours = pd.read_csv('gs://beam-core-outputs/sfbay-2010-base-20221122/activitysim/year-2015-iteration-3/final_tours.csv.gz', compression = 'gzip', dtype = dtypes)"
   ]
  },
  {
   "cell_type": "code",
   "execution_count": 145,
   "id": "974cafe1",
   "metadata": {},
   "outputs": [],
   "source": [
    "trips = pd.read_csv('gs://beam-core-outputs/sfbay-2010-base-20221122/activitysim/year-2015-iteration-3/final_trips.csv.gz', compression = 'gzip', dtype = dtypes)"
   ]
  },
  {
   "cell_type": "code",
   "execution_count": 146,
   "id": "47b6ea7f",
   "metadata": {},
   "outputs": [],
   "source": [
    "# Merge BEAM households and persons \n",
    "persons = persons.sort_values(by=['household_id']).reset_index(drop=True)\n",
    "households = households.sort_values(by=['household_id']).reset_index(drop=True)\n",
    "hhpersons = pd.merge(left=persons, right=households, how='left', on='household_id')\n",
    "#hhpersons = pd.merge(left=persons, right=households, how='left', on='household_id', suffixes=('', '_drop'))\n",
    "#hhpersons.drop([col for col in hhpersons.columns if 'drop' in col], axis=1, inplace=True)"
   ]
  },
  {
   "cell_type": "code",
   "execution_count": 147,
   "id": "5b20c94f",
   "metadata": {},
   "outputs": [],
   "source": [
    "# Merge tours, households and persons\n",
    "tours = tours.sort_values(by=['person_id']).reset_index(drop=True)\n",
    "hhpersons = hhpersons.sort_values(by=['person_id']).reset_index(drop=True)\n",
    "hhperTours = pd.merge(left=tours, right=hhpersons, how='left', on='person_id')\n",
    "#hhperTours = pd.merge(left=tours, right=hhpersons, how='left', on='person_id', suffixes=('', '_drop'))\n",
    "#hhperTours.drop([col for col in hhperTours.columns if 'drop' in col], axis=1, inplace=True)"
   ]
  },
  {
   "cell_type": "code",
   "execution_count": 148,
   "id": "6ef8c6a0",
   "metadata": {},
   "outputs": [],
   "source": [
    "# Merge trips, tours, households and persons\n",
    "trips = trips.sort_values(by=['person_id', 'tour_id']).reset_index(drop=True)\n",
    "hhperTours = hhperTours.sort_values(by=['person_id','tour_id']).reset_index(drop=True)\n",
    "tourTripsMerged = pd.merge(left=trips, right=hhperTours, how='left', on=['person_id','tour_id'])\n",
    "#tourTripsMerged = pd.merge(left=trips, right=hhperTours, how='left', on=['person_id','tour_id'], suffixes=('', '_drop'))\n",
    "#tourTripsMerged.drop([col for col in tourTripsMerged.columns if 'drop' in col], axis=1, inplace=True)"
   ]
  },
  {
   "cell_type": "code",
   "execution_count": 149,
   "id": "79e48f20",
   "metadata": {},
   "outputs": [],
   "source": [
    "# Concat mode_choice_utilities files\n",
    "path = \"C:/Users/nazanin/Downloads/trip_mode_choice/trip_mode_choice/\" #the path should be updated\n",
    "all_files = glob.glob(path + \"*utilities.csv\")\n",
    "li_mapper = map(lambda filename: pd.read_csv(filename, index_col = None, header = 0), all_files)\n",
    "li2 = list(li_mapper)\n",
    "SFmode_choice_utilities = pd.concat(li2, axis = 0, ignore_index=True)"
   ]
  },
  {
   "cell_type": "code",
   "execution_count": 150,
   "id": "5035b857",
   "metadata": {},
   "outputs": [],
   "source": [
    "#just utilities\n",
    "# Merge trips, tours, households, persons, trip_mode_choice_raw, and utilities\n",
    "tourTripsMerged = tourTripsMerged.sort_values(by=['trip_id'])\n",
    "SFmode_choice_utilities = SFmode_choice_utilities.sort_values(by=['trip_id'])\n",
    "SFActMerged= pd.merge(left=tourTripsMerged, right=SFmode_choice_utilities, how='left', on=['trip_id'])"
   ]
  },
  {
   "cell_type": "code",
   "execution_count": 151,
   "id": "fa758d1e",
   "metadata": {},
   "outputs": [],
   "source": [
    "# Both raw and utilities\n",
    "# Merge trips, tours, households, persons, trip_mode_choice_raw, and utilities\n",
    "#tourTripsMerged = tourTripsMerged.sort_values(by=['trip_id'])\n",
    "#rawUtil = rawUtil.sort_values(by=['trip_id'])\n",
    "#SFActMerged= pd.merge(left=tourTripsMerged, right=rawUtil, how='left', on=['trip_id'])"
   ]
  },
  {
   "cell_type": "code",
   "execution_count": 152,
   "id": "96ae8686",
   "metadata": {},
   "outputs": [],
   "source": [
    "# Merge person_trip level BEAM with activity sim merged files\n",
    "SFActMerged = SFActMerged.sort_values(by=['person_id', 'trip_id']).reset_index(drop=True)\n",
    "Person_Trip_eventsSF = Person_Trip_eventsSF.sort_values(by=['IDMerged','tripIndex']).reset_index(drop=True)\n",
    "eventsASim = pd.merge(left=Person_Trip_eventsSF, right=SFActMerged, how='left', left_on=[\"IDMerged\", 'tripIndex'], right_on=['person_id', 'trip_id'])\n",
    "#eventsASim = pd.merge(left=Person_Trip_eventsSF, right=tourTripsMerged, how='left',left_on = [\"IDMerged\", 'tripId'] , right_on=['person_id', 'trip_id'], suffixes=('', '_drop'))\n",
    "#eventsASim.drop([col for col in eventsASim.columns if 'drop' in col], axis=1, inplace=True)"
   ]
  },
  {
   "cell_type": "markdown",
   "id": "c0679f40",
   "metadata": {},
   "source": [
    "#### Updated the cells below - Might consider adding the INEXUS metrics as well"
   ]
  },
  {
   "cell_type": "code",
   "execution_count": 153,
   "id": "72ae2d99",
   "metadata": {},
   "outputs": [],
   "source": [
    "eventsASim.rename(columns={\"mode_choice_logsum_y\":\"logsum_tours_mode_AS_tours\"}, inplace=True)"
   ]
  },
  {
   "cell_type": "code",
   "execution_count": 154,
   "id": "7a0b2fcc",
   "metadata": {},
   "outputs": [],
   "source": [
    "eventsASim.rename(columns={\"tour_mode\":\"tour_mode_AS_tours\"}, inplace=True)"
   ]
  },
  {
   "cell_type": "code",
   "execution_count": 155,
   "id": "0def8b02",
   "metadata": {},
   "outputs": [],
   "source": [
    "eventsASim.rename(columns={\"mode_choice_logsum_x\":\"logsum_trip_Potential_INEXUS\"}, inplace=True)"
   ]
  },
  {
   "cell_type": "code",
   "execution_count": 156,
   "id": "28906290",
   "metadata": {},
   "outputs": [],
   "source": [
    "eventsASim.rename(columns={\"trip_mode\":\"trip_mode_AS_trips\"}, inplace=True)"
   ]
  },
  {
   "cell_type": "code",
   "execution_count": 157,
   "id": "abe82170",
   "metadata": {},
   "outputs": [],
   "source": [
    "# Add a column of income quartiles\n",
    "quartiles = eventsASim['income'].quantile([0,.25, .5, .75,1]).tolist()"
   ]
  },
  {
   "cell_type": "code",
   "execution_count": 158,
   "id": "b6be6801",
   "metadata": {},
   "outputs": [],
   "source": [
    "# Add income deciles\n",
    "conditions  = [(eventsASim['income'] >= quartiles[0]) & (eventsASim['income'] < quartiles[1]), \n",
    "               (eventsASim['income'] >= quartiles[1]) & (eventsASim['income'] < quartiles[2]),\n",
    "               (eventsASim['income'] >=  quartiles[2]) & (eventsASim['income'] < quartiles[3]),\n",
    "               (eventsASim['income'] >= quartiles[3]) & (eventsASim['income'] <= quartiles[4])]\n",
    "\n",
    "choices = [ '1stQ', '2ndQ', '3rdQ', '4thD']"
   ]
  },
  {
   "cell_type": "code",
   "execution_count": 159,
   "id": "8aee64e0",
   "metadata": {},
   "outputs": [],
   "source": [
    "eventsASim['income_quartiles'] = np.select(conditions, choices, default=None)"
   ]
  },
  {
   "cell_type": "code",
   "execution_count": 160,
   "id": "31dc9d29",
   "metadata": {},
   "outputs": [],
   "source": [
    "# Add a column of income deciles\n",
    "deciles = eventsASim['income'].quantile([0,0.1,0.2,0.3,0.4,0.5,0.6,0.7,0.8,0.9,1]).tolist()"
   ]
  },
  {
   "cell_type": "code",
   "execution_count": 161,
   "id": "f7a26173",
   "metadata": {},
   "outputs": [],
   "source": [
    "# Add income deciles\n",
    "conditions  = [(eventsASim['income'] >= deciles[0]) & (eventsASim['income'] < deciles[1]), \n",
    "               (eventsASim['income'] >= deciles[1]) & (eventsASim['income'] < deciles[2]),\n",
    "               (eventsASim['income'] >=  deciles[2]) & (eventsASim['income'] < deciles[3]),\n",
    "               (eventsASim['income'] >= deciles[3]) & (eventsASim['income'] < deciles[4]), \n",
    "               (eventsASim['income'] >=  deciles[4]) & (eventsASim['income'] < deciles[5]),\n",
    "               (eventsASim['income'] >=  deciles[5]) & (eventsASim['income'] < deciles[6]),\n",
    "               (eventsASim['income'] >=  deciles[6]) & (eventsASim['income'] < deciles[7]),\n",
    "               (eventsASim['income'] >=  deciles[7]) & (eventsASim['income'] < deciles[8]),\n",
    "               (eventsASim['income'] >=  deciles[8]) & (eventsASim['income'] < deciles[9]),\n",
    "               (eventsASim['income'] >=  deciles[9]) & (eventsASim['income'] <= deciles[10])]\n",
    "\n",
    "choices = [ '1stD', '2ndD', '3rdD', \n",
    "           '4thD', '5thD', '6thD', '7thD', '8thD', '9thD','10thD']"
   ]
  },
  {
   "cell_type": "code",
   "execution_count": 162,
   "id": "78665928",
   "metadata": {},
   "outputs": [],
   "source": [
    "eventsASim['income_deciles'] = np.select(conditions, choices, default=None)"
   ]
  },
  {
   "cell_type": "code",
   "execution_count": 163,
   "id": "f6acd2df",
   "metadata": {},
   "outputs": [
    {
     "data": {
      "text/plain": [
       "(315372, 256)"
      ]
     },
     "execution_count": 163,
     "metadata": {},
     "output_type": "execute_result"
    }
   ],
   "source": [
    "eventsASim[eventsASim['logsum_tours_mode_AS_tours'].isna()].shape"
   ]
  },
  {
   "cell_type": "code",
   "execution_count": 152,
   "id": "a3fe03ae",
   "metadata": {},
   "outputs": [],
   "source": [
    "# Save the output file to S3\n",
    "eventsASim.to_csv('s3://beam-core-act/deepDive/CleanData/SanFrancisco/Baseline/sf_2015_baseline_test.csv', index=False)  #the path should be updated"
   ]
  },
  {
   "cell_type": "markdown",
   "id": "7b218d2e",
   "metadata": {},
   "source": [
    "#### INEXUS"
   ]
  },
  {
   "cell_type": "code",
   "execution_count": 164,
   "id": "f021c839",
   "metadata": {},
   "outputs": [],
   "source": [
    "# Mapping BEAM and ASIM modes\n",
    "conditions  = [(eventsASim['mode_choice_actual_BEAM'] == 'walk')&(eventsASim['trip_mode_AS_trips'] == 'WALK'),\n",
    "               (eventsASim['mode_choice_actual_BEAM'] == 'bike')&(eventsASim['trip_mode_AS_trips'] == 'BIKE'),\n",
    "               (eventsASim['mode_choice_actual_BEAM'] == 'hov3_teleportation')&(eventsASim['trip_mode_AS_trips'] == 'SHARED3FREE'),\n",
    "               (eventsASim['mode_choice_actual_BEAM'] == 'hov3_teleportation')&(eventsASim['trip_mode_AS_trips'] == 'SHARED3PAY'),\n",
    "               (eventsASim['mode_choice_actual_BEAM'] == 'car_hov3')&(eventsASim['trip_mode_AS_trips'] == 'SHARED3FREE'),\n",
    "               (eventsASim['mode_choice_actual_BEAM'] == 'car_hov3')&(eventsASim['trip_mode_AS_trips'] == 'SHARED3PAY'),\n",
    "               (eventsASim['mode_choice_actual_BEAM'] == 'hov2_teleportation')&(eventsASim['trip_mode_AS_trips'] == 'SHARED2FREE'),\n",
    "               (eventsASim['mode_choice_actual_BEAM'] == 'hov2_teleportation')&(eventsASim['trip_mode_AS_trips'] == 'SHARED2PAY'),\n",
    "               (eventsASim['mode_choice_actual_BEAM'] == 'car_hov2')&(eventsASim['trip_mode_AS_trips'] == 'SHARED2PAY'),\n",
    "               (eventsASim['mode_choice_actual_BEAM'] == 'car_hov2')&(eventsASim['trip_mode_AS_trips'] == 'SHARED2FREE'),\n",
    "               (eventsASim['mode_choice_actual_BEAM'] == 'car')&(eventsASim['trip_mode_AS_trips'] == 'DRIVEALONEFREE'),\n",
    "               (eventsASim['mode_choice_actual_BEAM'] == 'car')&(eventsASim['trip_mode_AS_trips'] == 'DRIVEALONEPAY'),\n",
    "               (eventsASim['mode_choice_actual_BEAM'] == 'walk_transit')&(eventsASim['trip_mode_AS_trips'] == 'WALK_LRF'),\n",
    "               (eventsASim['mode_choice_actual_BEAM'] == 'walk_transit')&(eventsASim['trip_mode_AS_trips'] == 'WALK_LOC'),\n",
    "               (eventsASim['mode_choice_actual_BEAM'] == 'walk_transit')&(eventsASim['trip_mode_AS_trips'] == 'WALK_EXP'),\n",
    "               (eventsASim['mode_choice_actual_BEAM'] == 'walk_transit')&(eventsASim['trip_mode_AS_trips'] == 'WALK_HVY'),\n",
    "               (eventsASim['mode_choice_actual_BEAM'] == 'ride_hail')&(eventsASim['trip_mode_AS_trips'] == 'TNC_SINGLE'),\n",
    "               (eventsASim['mode_choice_actual_BEAM'] == 'ride_hail')&(eventsASim['trip_mode_AS_trips'] == 'TNC_SHARED'),\n",
    "               (eventsASim['mode_choice_actual_BEAM'] == 'ride_hail')&(eventsASim['trip_mode_AS_trips'] == 'TAXI'),\n",
    "               (eventsASim['mode_choice_actual_BEAM'] == 'walk_transit')&(eventsASim['trip_mode_AS_trips'] == 'WALK_COM'),\n",
    "               (eventsASim['mode_choice_actual_BEAM'] == 'drive_transit')&(eventsASim['trip_mode_AS_trips'] == 'DRIVE_COM'),\n",
    "               (eventsASim['mode_choice_actual_BEAM'] == 'drive_transit')&(eventsASim['trip_mode_AS_trips'] == 'DRIVE_LRF'),\n",
    "               (eventsASim['mode_choice_actual_BEAM'] == 'drive_transit')&(eventsASim['trip_mode_AS_trips'] == 'DRIVE_LOC'),\n",
    "               (eventsASim['mode_choice_actual_BEAM'] == 'drive_transit')&(eventsASim['trip_mode_AS_trips'] == 'DRIVE_EXP'),\n",
    "               (eventsASim['mode_choice_actual_BEAM'] == 'drive_transit')&(eventsASim['trip_mode_AS_trips'] == 'DRIVE_HVY')]\n",
    "\n",
    "\n",
    "choices = [eventsASim['WALK'], eventsASim['BIKE'], eventsASim['SHARED3FREE'], eventsASim['SHARED3PAY'],\n",
    "           eventsASim['SHARED3FREE'], eventsASim['SHARED3PAY'], eventsASim['SHARED2FREE'], \n",
    "           eventsASim['SHARED2PAY'], eventsASim['SHARED2PAY'], eventsASim['SHARED2FREE'], \n",
    "           eventsASim['DRIVEALONEFREE'], eventsASim['DRIVEALONEPAY'], eventsASim['WALK_LRF'], \n",
    "           eventsASim['WALK_LOC'], eventsASim['WALK_EXP'], eventsASim['WALK_HVY'], eventsASim['TNC_SINGLE'], \n",
    "           eventsASim['TNC_SHARED'], eventsASim['TAXI'], eventsASim['WALK_COM'], \n",
    "           eventsASim['DRIVE_COM'], eventsASim['DRIVE_LRF'], eventsASim['DRIVE_LOC'], eventsASim['DRIVE_EXP'],\n",
    "           eventsASim['DRIVE_HVY']]"
   ]
  },
  {
   "cell_type": "code",
   "execution_count": 166,
   "id": "03ac4f27",
   "metadata": {},
   "outputs": [],
   "source": [
    "eventsASim['Realized_INEXUS'] = np.select(conditions, choices, default=np.nan)"
   ]
  },
  {
   "cell_type": "code",
   "execution_count": 263,
   "id": "430cac5d",
   "metadata": {},
   "outputs": [],
   "source": [
    "eventsASim_drop = eventsASim.drop(eventsASim[eventsASim['TAXI'].isna()].index)"
   ]
  },
  {
   "cell_type": "code",
   "execution_count": 298,
   "id": "df02c2ae",
   "metadata": {},
   "outputs": [],
   "source": [
    "eventsASim_temp = eventsASim_drop[['IDMerged', 'tripIndex','actEndTime','actEndType','actStartTime','actStartType',\n",
    "                                   'mode_choice_planned_BEAM','mode_choice_actual_BEAM','trip_mode_AS_trips',\n",
    "                                  'DRIVEALONEFREE','DRIVEALONEPAY','SHARED2FREE','SHARED2PAY','SHARED3FREE','SHARED3PAY','WALK',\n",
    "                                   'BIKE','WALK_LOC','WALK_LRF','WALK_EXP','WALK_HVY','WALK_COM','DRIVE_LOC','DRIVE_LRF',\n",
    "                                   'DRIVE_EXP','DRIVE_HVY','DRIVE_COM','TAXI','TNC_SINGLE','TNC_SHARED']]"
   ]
  },
  {
   "cell_type": "code",
   "execution_count": 299,
   "id": "7508c19e",
   "metadata": {
    "code_folding": []
   },
   "outputs": [],
   "source": [
    "# Mapping BEAM and ASIM modes\n",
    "conditions  = [(eventsASim_temp['mode_choice_actual_BEAM'] == 'walk')&(eventsASim_temp['trip_mode_AS_trips'] == 'WALK'),\n",
    "               (eventsASim_temp['mode_choice_actual_BEAM'] == 'bike')&(eventsASim_temp['trip_mode_AS_trips'] == 'BIKE'),\n",
    "               (eventsASim_temp['mode_choice_actual_BEAM'] == 'hov3_teleportation')&(eventsASim_temp['trip_mode_AS_trips'] == 'SHARED3FREE'),\n",
    "               (eventsASim_temp['mode_choice_actual_BEAM'] == 'hov3_teleportation')&(eventsASim_temp['trip_mode_AS_trips'] == 'SHARED3PAY'),\n",
    "               (eventsASim_temp['mode_choice_actual_BEAM'] == 'car_hov3')&(eventsASim_temp['trip_mode_AS_trips'] == 'SHARED3FREE'),\n",
    "               (eventsASim_temp['mode_choice_actual_BEAM'] == 'car_hov3')&(eventsASim_temp['trip_mode_AS_trips'] == 'SHARED3PAY'),\n",
    "               (eventsASim_temp['mode_choice_actual_BEAM'] == 'hov2_teleportation')&(eventsASim_temp['trip_mode_AS_trips'] == 'SHARED2FREE'),\n",
    "               (eventsASim_temp['mode_choice_actual_BEAM'] == 'hov2_teleportation')&(eventsASim_temp['trip_mode_AS_trips'] == 'SHARED2PAY'),\n",
    "               (eventsASim_temp['mode_choice_actual_BEAM'] == 'car_hov2')&(eventsASim_temp['trip_mode_AS_trips'] == 'SHARED2PAY'),\n",
    "               (eventsASim_temp['mode_choice_actual_BEAM'] == 'car_hov2')&(eventsASim_temp['trip_mode_AS_trips'] == 'SHARED2FREE'),\n",
    "               (eventsASim_temp['mode_choice_actual_BEAM'] == 'car')&(eventsASim_temp['trip_mode_AS_trips'] == 'DRIVEALONEFREE'),\n",
    "               (eventsASim_temp['mode_choice_actual_BEAM'] == 'car')&(eventsASim_temp['trip_mode_AS_trips'] == 'DRIVEALONEPAY'),\n",
    "               (eventsASim_temp['mode_choice_actual_BEAM'] == 'walk_transit')&(eventsASim_temp['trip_mode_AS_trips'] == 'WALK_LRF'),\n",
    "               (eventsASim_temp['mode_choice_actual_BEAM'] == 'walk_transit')&(eventsASim_temp['trip_mode_AS_trips'] == 'WALK_LOC'),\n",
    "               (eventsASim_temp['mode_choice_actual_BEAM'] == 'walk_transit')&(eventsASim_temp['trip_mode_AS_trips'] == 'WALK_EXP'),\n",
    "               (eventsASim_temp['mode_choice_actual_BEAM'] == 'walk_transit')&(eventsASim_temp['trip_mode_AS_trips'] == 'WALK_HVY'),\n",
    "               (eventsASim_temp['mode_choice_actual_BEAM'] == 'ride_hail')&(eventsASim_temp['trip_mode_AS_trips'] == 'TNC_SINGLE'),\n",
    "               (eventsASim_temp['mode_choice_actual_BEAM'] == 'ride_hail')&(eventsASim_temp['trip_mode_AS_trips'] == 'TNC_SHARED'),\n",
    "               (eventsASim_temp['mode_choice_actual_BEAM'] == 'ride_hail')&(eventsASim_temp['trip_mode_AS_trips'] == 'TAXI'),\n",
    "               (eventsASim_temp['mode_choice_actual_BEAM'] == 'walk_transit')&(eventsASim_temp['trip_mode_AS_trips'] == 'WALK_COM'),\n",
    "               (eventsASim_temp['mode_choice_actual_BEAM'] == 'drive_transit')&(eventsASim_temp['trip_mode_AS_trips'] == 'DRIVE_COM'),\n",
    "               (eventsASim_temp['mode_choice_actual_BEAM'] == 'drive_transit')&(eventsASim_temp['trip_mode_AS_trips'] == 'DRIVE_LRF'),\n",
    "               (eventsASim_temp['mode_choice_actual_BEAM'] == 'drive_transit')&(eventsASim_temp['trip_mode_AS_trips'] == 'DRIVE_LOC'),\n",
    "               (eventsASim_temp['mode_choice_actual_BEAM'] == 'drive_transit')&(eventsASim_temp['trip_mode_AS_trips'] == 'DRIVE_EXP'),\n",
    "               (eventsASim_temp['mode_choice_actual_BEAM'] == 'drive_transit')&(eventsASim_temp['trip_mode_AS_trips'] == 'DRIVE_HVY'),\n",
    "               (eventsASim_temp['mode_choice_actual_BEAM'] == 'ride_hail_pooled')&(eventsASim_temp['trip_mode_AS_trips'] == 'TNC_SINGLE'),\n",
    "               (eventsASim_temp['mode_choice_actual_BEAM'] == 'ride_hail_pooled')&(eventsASim_temp['trip_mode_AS_trips'] == 'TNC_SHARED'),\n",
    "               (eventsASim_temp['mode_choice_actual_BEAM'] == 'ride_hail_pooled')&(eventsASim_temp['trip_mode_AS_trips'] == 'TAXI'),\n",
    "               \n",
    "               (eventsASim_temp['mode_choice_actual_BEAM'] == 'hov2_teleportation')&((eventsASim_temp['trip_mode_AS_trips'] == 'SHARED3FREE')|\n",
    "               (eventsASim_temp['trip_mode_AS_trips'] == 'SHARED3PAY')|(eventsASim_temp['trip_mode_AS_trips'] == 'DRIVEALONEFREE')|\n",
    "               (eventsASim_temp['trip_mode_AS_trips'] == 'DRIVEALONEPAY')),\n",
    "               (eventsASim_temp['mode_choice_actual_BEAM'] == 'car_hov2')&(eventsASim_temp['trip_mode_AS_trips'] == 'SHARED3PAY'),\n",
    "               (eventsASim_temp['mode_choice_actual_BEAM'] == 'car_hov2')&(eventsASim_temp['trip_mode_AS_trips'] == 'SHARED3FREE'),\n",
    "               (eventsASim_temp['mode_choice_actual_BEAM'] == 'car_hov3')&(eventsASim_temp['trip_mode_AS_trips'] == 'SHARED2PAY'),\n",
    "               (eventsASim_temp['mode_choice_actual_BEAM'] == 'car_hov3')&(eventsASim_temp['trip_mode_AS_trips'] == 'SHARED2FREE'),\n",
    "               (eventsASim_temp['mode_choice_actual_BEAM'] == 'car_hov2')&(eventsASim_temp['trip_mode_AS_trips'] == 'DRIVEALONEFREE'),\n",
    "               (eventsASim_temp['mode_choice_actual_BEAM'] == 'car_hov2')&(eventsASim_temp['trip_mode_AS_trips'] == 'DRIVEALONEPAY'),\n",
    "               (eventsASim_temp['mode_choice_actual_BEAM'] == 'car_hov3')&(eventsASim_temp['trip_mode_AS_trips'] == 'DRIVEALONEFREE'),\n",
    "               (eventsASim_temp['mode_choice_actual_BEAM'] == 'car_hov3')&(eventsASim_temp['trip_mode_AS_trips'] == 'DRIVEALONEPAY'),\n",
    "               (eventsASim_temp['mode_choice_actual_BEAM'] == 'hov3_teleportation')&((eventsASim_temp['trip_mode_AS_trips'] == 'DRIVEALONEPAY')|\n",
    "               (eventsASim_temp['trip_mode_AS_trips'] == 'DRIVEALONEFREE')|(eventsASim_temp['trip_mode_AS_trips'] == 'SHARED2PAY')|(eventsASim_temp['trip_mode_AS_trips'] == 'SHARED2FREE')),\n",
    "               (eventsASim_temp['mode_choice_actual_BEAM'] == 'car')&((eventsASim_temp['trip_mode_AS_trips'] == 'SHARED3FREE')|(eventsASim_temp['trip_mode_AS_trips'] == 'SHARED2FREE')|\n",
    "               (eventsASim_temp['trip_mode_AS_trips'] == 'SHARED3PAY')|(eventsASim_temp['trip_mode_AS_trips'] == 'SHARED2PAY'))]\n",
    "                                                                      \n",
    "                                                                                                                 \n",
    "                                                                      \n",
    "choices = [eventsASim_temp['WALK'], eventsASim_temp['BIKE'], eventsASim_temp['SHARED3FREE'], eventsASim_temp['SHARED3PAY'],\n",
    "           eventsASim_temp['SHARED3FREE'], eventsASim_temp['SHARED3PAY'], eventsASim_temp['SHARED2FREE'], \n",
    "           eventsASim_temp['SHARED2PAY'], eventsASim_temp['SHARED2PAY'], eventsASim_temp['SHARED2FREE'], \n",
    "           eventsASim_temp['DRIVEALONEFREE'], eventsASim_temp['DRIVEALONEPAY'], eventsASim_temp['WALK_LRF'], \n",
    "           eventsASim_temp['WALK_LOC'], eventsASim_temp['WALK_EXP'], eventsASim_temp['WALK_HVY'], eventsASim_temp['TNC_SINGLE'], \n",
    "           eventsASim_temp['TNC_SHARED'], eventsASim_temp['TAXI'], eventsASim_temp['WALK_COM'], \n",
    "           eventsASim_temp['DRIVE_COM'], eventsASim_temp['DRIVE_LRF'], eventsASim_temp['DRIVE_LOC'], eventsASim_temp['DRIVE_EXP'],\n",
    "           eventsASim_temp['DRIVE_HVY'], eventsASim_temp['TNC_SINGLE'], eventsASim_temp['TNC_SHARED'], eventsASim_temp['TAXI'],\n",
    "          eventsASim_temp[['DRIVEALONEFREE','DRIVEALONEPAY','SHARED2FREE','SHARED3FREE','SHARED2PAY','SHARED3PAY','DRIVE_LOC','DRIVE_LRF','DRIVE_EXP','DRIVE_HVY','DRIVE_COM']].max(axis=1),\n",
    "          eventsASim_temp[['DRIVEALONEFREE','DRIVEALONEPAY','SHARED2FREE','SHARED3FREE','SHARED2PAY','SHARED3PAY','DRIVE_LOC','DRIVE_LRF','DRIVE_EXP','DRIVE_HVY','DRIVE_COM']].max(axis=1),\n",
    "          eventsASim_temp[['DRIVEALONEFREE','DRIVEALONEPAY','SHARED2FREE','SHARED3FREE','SHARED2PAY','SHARED3PAY','DRIVE_LOC','DRIVE_LRF','DRIVE_EXP','DRIVE_HVY','DRIVE_COM']].max(axis=1),\n",
    "          eventsASim_temp[['DRIVEALONEFREE','DRIVEALONEPAY','SHARED2FREE','SHARED3FREE','SHARED2PAY','SHARED3PAY','DRIVE_LOC','DRIVE_LRF','DRIVE_EXP','DRIVE_HVY','DRIVE_COM']].max(axis=1),\n",
    "          eventsASim_temp[['DRIVEALONEFREE','DRIVEALONEPAY','SHARED2FREE','SHARED3FREE','SHARED2PAY','SHARED3PAY','DRIVE_LOC','DRIVE_LRF','DRIVE_EXP','DRIVE_HVY','DRIVE_COM']].max(axis=1),\n",
    "          eventsASim_temp[['DRIVEALONEFREE','DRIVEALONEPAY','SHARED2FREE','SHARED3FREE','SHARED2PAY','SHARED3PAY','DRIVE_LOC','DRIVE_LRF','DRIVE_EXP','DRIVE_HVY','DRIVE_COM']].max(axis=1),\n",
    "          eventsASim_temp[['DRIVEALONEFREE','DRIVEALONEPAY','SHARED2FREE','SHARED3FREE','SHARED2PAY','SHARED3PAY','DRIVE_LOC','DRIVE_LRF','DRIVE_EXP','DRIVE_HVY','DRIVE_COM']].max(axis=1),\n",
    "          eventsASim_temp[['DRIVEALONEFREE','DRIVEALONEPAY','SHARED2FREE','SHARED3FREE','SHARED2PAY','SHARED3PAY','DRIVE_LOC','DRIVE_LRF','DRIVE_EXP','DRIVE_HVY','DRIVE_COM']].max(axis=1),\n",
    "          eventsASim_temp[['DRIVEALONEFREE','DRIVEALONEPAY','SHARED2FREE','SHARED3FREE','SHARED2PAY','SHARED3PAY','DRIVE_LOC','DRIVE_LRF','DRIVE_EXP','DRIVE_HVY','DRIVE_COM']].max(axis=1),\n",
    "          eventsASim_temp[['DRIVEALONEFREE','DRIVEALONEPAY','SHARED2FREE','SHARED3FREE','SHARED2PAY','SHARED3PAY','DRIVE_LOC','DRIVE_LRF','DRIVE_EXP','DRIVE_HVY','DRIVE_COM']].max(axis=1),\n",
    "          eventsASim_temp[['DRIVEALONEFREE','DRIVEALONEPAY','SHARED2FREE','SHARED3FREE','SHARED2PAY','SHARED3PAY','DRIVE_LOC','DRIVE_LRF','DRIVE_EXP','DRIVE_HVY','DRIVE_COM']].max(axis=1),\n",
    "          eventsASim_temp[['DRIVEALONEFREE','DRIVEALONEPAY','SHARED2FREE','SHARED3FREE','SHARED2PAY','SHARED3PAY','DRIVE_LOC','DRIVE_LRF','DRIVE_EXP','DRIVE_HVY','DRIVE_COM']].max(axis=1),\n",
    "          eventsASim_temp[['DRIVEALONEFREE','DRIVEALONEPAY','SHARED2FREE','SHARED3FREE','SHARED2PAY','SHARED3PAY','DRIVE_LOC','DRIVE_LRF','DRIVE_EXP','DRIVE_HVY','DRIVE_COM']].max(axis=1),\n",
    "          eventsASim_temp[['DRIVEALONEFREE','DRIVEALONEPAY','SHARED2FREE','SHARED3FREE','SHARED2PAY','SHARED3PAY','DRIVE_LOC','DRIVE_LRF','DRIVE_EXP','DRIVE_HVY','DRIVE_COM']].max(axis=1),\n",
    "           eventsASim_temp[['DRIVEALONEFREE','DRIVEALONEPAY','SHARED2FREE','SHARED3FREE','SHARED2PAY','SHARED3PAY','DRIVE_LOC','DRIVE_LRF','DRIVE_EXP','DRIVE_HVY','DRIVE_COM']].max(axis=1),\n",
    "          eventsASim_temp[['DRIVEALONEFREE','DRIVEALONEPAY','SHARED2FREE','SHARED3FREE','SHARED2PAY','SHARED3PAY','DRIVE_LOC','DRIVE_LRF','DRIVE_EXP','DRIVE_HVY','DRIVE_COM']].max(axis=1),\n",
    "          eventsASim_temp[['DRIVEALONEFREE','DRIVEALONEPAY','SHARED2FREE','SHARED3FREE','SHARED2PAY','SHARED3PAY','DRIVE_LOC','DRIVE_LRF','DRIVE_EXP','DRIVE_HVY','DRIVE_COM']].max(axis=1)]"
   ]
  },
  {
   "cell_type": "code",
   "execution_count": 300,
   "id": "ec31e418",
   "metadata": {},
   "outputs": [],
   "source": [
    "           #(eventsASim_temp['mode_choice_actual_BEAM'] == 'car_hov2')&(eventsASim_temp['trip_mode_AS_trips'] == 'DRIVEALONEFREE'),\n",
    "           #(eventsASim_temp['mode_choice_actual_BEAM'] == 'car_hov2')&(eventsASim_temp['trip_mode_AS_trips'] == 'DRIVEALONEPAY'),\n",
    "           #(eventsASim_temp['mode_choice_actual_BEAM'] == 'car')&(eventsASim_temp['trip_mode_AS_trips'] == 'SHARED2FREE'),\n",
    "               #(eventsASim_temp['mode_choice_actual_BEAM'] == 'car')&(eventsASim_temp['trip_mode_AS_trips'] == 'SHARED2PAY'),\n",
    "               #(eventsASim_temp['mode_choice_actual_BEAM'] == 'hov2_teleportation')&(eventsASim_temp['trip_mode_AS_trips'] == 'SHARED3PAY'),\n",
    "               #(eventsASim_temp['mode_choice_actual_BEAM'] == 'hov2_teleportation')&(eventsASim_temp['trip_mode_AS_trips'] == 'SHARED3FREE'),\n",
    "               #(eventsASim_temp['mode_choice_actual_BEAM'] == 'car')&(eventsASim_temp['trip_mode_AS_trips'] == 'SHARED3FREE'),\n",
    "               #(eventsASim_temp['mode_choice_actual_BEAM'] == 'car')&(eventsASim_temp['trip_mode_AS_trips'] == 'SHARED3PAY'),\n",
    "               #(eventsASim_temp['mode_choice_actual_BEAM'] == 'hov3_teleportation')&(eventsASim_temp['trip_mode_AS_trips'] == 'SHARED2PAY'),\n",
    "               #(eventsASim_temp['mode_choice_actual_BEAM'] == 'hov3_teleportation')&(eventsASim_temp['trip_mode_AS_trips'] == 'SHARED2FREE'),\n",
    "               #(eventsASim_temp['mode_choice_actual_BEAM'] == 'car_hov3')&(eventsASim_temp['trip_mode_AS_trips'] == 'SHARED2FREE'),\n",
    "               #(eventsASim_temp['mode_choice_actual_BEAM'] == 'car_hov3')&(eventsASim_temp['trip_mode_AS_trips'] == 'SHARED2PAY')]\n",
    "\n",
    "          #eventsASim_temp['SHARED2FREE'], eventsASim_temp['SHARED2PAY'], \n",
    "          # eventsASim_temp['DRIVEALONEFREE'], eventsASim_temp['DRIVEALONEPAY'], \n",
    "          # eventsASim_temp['SHARED2PAY'], eventsASim_temp['SHARED2FREE'], eventsASim_temp['DRIVEALONEFREE'], \n",
    "          # eventsASim_temp['DRIVEALONEPAY'], eventsASim_temp['SHARED3PAY'], eventsASim_temp['SHARED3FREE'], \n",
    "          # eventsASim_temp['SHARED3FREE'], eventsASim_temp['SHARED3PAY']]"
   ]
  },
  {
   "cell_type": "code",
   "execution_count": 301,
   "id": "6b018357",
   "metadata": {},
   "outputs": [
    {
     "name": "stderr",
     "output_type": "stream",
     "text": [
      "C:\\Users\\nazanin\\AppData\\Local\\Temp\\2\\ipykernel_3592\\3927896634.py:1: SettingWithCopyWarning: \n",
      "A value is trying to be set on a copy of a slice from a DataFrame.\n",
      "Try using .loc[row_indexer,col_indexer] = value instead\n",
      "\n",
      "See the caveats in the documentation: https://pandas.pydata.org/pandas-docs/stable/user_guide/indexing.html#returning-a-view-versus-a-copy\n",
      "  eventsASim_temp['Realized_INEXUS'] = np.select(conditions, choices, default=np.nan)\n"
     ]
    }
   ],
   "source": [
    "eventsASim_temp['Realized_INEXUS'] = np.select(conditions, choices, default=np.nan)"
   ]
  },
  {
   "cell_type": "code",
   "execution_count": 254,
   "id": "87460f73",
   "metadata": {},
   "outputs": [
    {
     "name": "stderr",
     "output_type": "stream",
     "text": [
      "C:\\Users\\nazanin\\AppData\\Local\\Temp\\2\\ipykernel_3592\\151599744.py:1: SettingWithCopyWarning: \n",
      "A value is trying to be set on a copy of a slice from a DataFrame.\n",
      "Try using .loc[row_indexer,col_indexer] = value instead\n",
      "\n",
      "See the caveats in the documentation: https://pandas.pydata.org/pandas-docs/stable/user_guide/indexing.html#returning-a-view-versus-a-copy\n",
      "  eventsASim_temp['Realized_INEXUS'] = np.where((eventsASim_temp['mode_choice_actual_BEAM'] == 'car') & (eventsASim_temp['Realized_INEXUS'].isna()), eventsASim_temp[['DRIVEALONEFREE','DRIVEALONEPAY','SHARED2FREE','SHARED3FREE','SHARED2PAY','SHARED3PAY','DRIVE_LOC','DRIVE_LRF','DRIVE_EXP','DRIVE_HVY','DRIVE_COM']].max(axis=1), eventsASim_temp['Realized_INEXUS'])\n"
     ]
    }
   ],
   "source": [
    "eventsASim_temp['Realized_INEXUS'] = np.where((eventsASim_temp['mode_choice_actual_BEAM'] == 'car') & (eventsASim_temp['Realized_INEXUS'].isna()), eventsASim_temp[['DRIVEALONEFREE','DRIVEALONEPAY','SHARED2FREE','SHARED3FREE','SHARED2PAY','SHARED3PAY','DRIVE_LOC','DRIVE_LRF','DRIVE_EXP','DRIVE_HVY','DRIVE_COM']].max(axis=1), eventsASim_temp['Realized_INEXUS'])"
   ]
  },
  {
   "cell_type": "code",
   "execution_count": 303,
   "id": "44dd9af1",
   "metadata": {},
   "outputs": [
    {
     "data": {
      "text/plain": [
       "(0, 31)"
      ]
     },
     "execution_count": 303,
     "metadata": {},
     "output_type": "execute_result"
    }
   ],
   "source": [
    "eventsASim_temp[(eventsASim_temp['Realized_INEXUS'] < -900)].shape"
   ]
  },
  {
   "cell_type": "code",
   "execution_count": 302,
   "id": "45be6d85",
   "metadata": {},
   "outputs": [
    {
     "data": {
      "text/plain": [
       "(389268, 31)"
      ]
     },
     "execution_count": 302,
     "metadata": {},
     "output_type": "execute_result"
    }
   ],
   "source": [
    "eventsASim_temp[(eventsASim_temp['Realized_INEXUS'].isna())].shape"
   ]
  },
  {
   "cell_type": "code",
   "execution_count": 257,
   "id": "4b596d74",
   "metadata": {},
   "outputs": [
    {
     "name": "stderr",
     "output_type": "stream",
     "text": [
      "C:\\Users\\nazanin\\AppData\\Local\\Temp\\2\\ipykernel_3592\\2051761808.py:1: SettingWithCopyWarning: \n",
      "A value is trying to be set on a copy of a slice from a DataFrame.\n",
      "Try using .loc[row_indexer,col_indexer] = value instead\n",
      "\n",
      "See the caveats in the documentation: https://pandas.pydata.org/pandas-docs/stable/user_guide/indexing.html#returning-a-view-versus-a-copy\n",
      "  eventsASim_temp['Realized_INEXUS'] = np.where((eventsASim_temp['mode_choice_actual_BEAM'] == 'ride_hail') & (eventsASim_temp['Realized_INEXUS'].isna()), eventsASim_temp[['TAXI','TNC_SINGLE','TNC_SHARED']].max(axis=1), eventsASim_temp['Realized_INEXUS'])\n"
     ]
    }
   ],
   "source": [
    "eventsASim_temp['Realized_INEXUS'] = np.where((eventsASim_temp['mode_choice_actual_BEAM'] == 'ride_hail') & (eventsASim_temp['Realized_INEXUS'].isna()), eventsASim_temp[['TAXI','TNC_SINGLE','TNC_SHARED']].max(axis=1), eventsASim_temp['Realized_INEXUS'])"
   ]
  },
  {
   "cell_type": "code",
   "execution_count": 259,
   "id": "12257418",
   "metadata": {},
   "outputs": [
    {
     "name": "stderr",
     "output_type": "stream",
     "text": [
      "C:\\Users\\nazanin\\AppData\\Local\\Temp\\2\\ipykernel_3592\\2261404199.py:1: SettingWithCopyWarning: \n",
      "A value is trying to be set on a copy of a slice from a DataFrame.\n",
      "Try using .loc[row_indexer,col_indexer] = value instead\n",
      "\n",
      "See the caveats in the documentation: https://pandas.pydata.org/pandas-docs/stable/user_guide/indexing.html#returning-a-view-versus-a-copy\n",
      "  eventsASim_temp['Realized_INEXUS'] = np.where((eventsASim_temp['mode_choice_actual_BEAM'] == 'ride_hail_pooled') & (eventsASim_temp['Realized_INEXUS'].isna()), eventsASim_temp[['TAXI','TNC_SINGLE','TNC_SHARED']].max(axis=1), eventsASim_temp['Realized_INEXUS'])\n"
     ]
    }
   ],
   "source": [
    "eventsASim_temp['Realized_INEXUS'] = np.where((eventsASim_temp['mode_choice_actual_BEAM'] == 'ride_hail_pooled') & (eventsASim_temp['Realized_INEXUS'].isna()), eventsASim_temp[['TAXI','TNC_SINGLE','TNC_SHARED']].max(axis=1), eventsASim_temp['Realized_INEXUS'])"
   ]
  },
  {
   "cell_type": "code",
   "execution_count": 204,
   "id": "74388018",
   "metadata": {},
   "outputs": [
    {
     "name": "stderr",
     "output_type": "stream",
     "text": [
      "C:\\Users\\nazanin\\AppData\\Local\\Temp\\2\\ipykernel_3592\\1887196685.py:1: SettingWithCopyWarning: \n",
      "A value is trying to be set on a copy of a slice from a DataFrame.\n",
      "Try using .loc[row_indexer,col_indexer] = value instead\n",
      "\n",
      "See the caveats in the documentation: https://pandas.pydata.org/pandas-docs/stable/user_guide/indexing.html#returning-a-view-versus-a-copy\n",
      "  eventsASim_temp['Realized_INEXUS'] = np.where((eventsASim_temp['mode_choice_actual_BEAM'] == 'hov3_teleportation') & (eventsASim_temp['Realized_INEXUS'].isna()), eventsASim_temp[['DRIVEALONEFREE','DRIVEALONEPAY','SHARED2FREE','SHARED2PAY','SHARED3FREE','SHARED3PAY']].max(axis=1), eventsASim_temp['Realized_INEXUS'])\n"
     ]
    }
   ],
   "source": [
    "eventsASim_temp['Realized_INEXUS'] = np.where((eventsASim_temp['mode_choice_actual_BEAM'] == 'hov3_teleportation') & (eventsASim_temp['Realized_INEXUS'].isna()), eventsASim_temp[['DRIVEALONEFREE','DRIVEALONEPAY','SHARED2FREE','SHARED2PAY','SHARED3FREE','SHARED3PAY']].max(axis=1), eventsASim_temp['Realized_INEXUS'])"
   ]
  },
  {
   "cell_type": "code",
   "execution_count": 205,
   "id": "72d3036e",
   "metadata": {},
   "outputs": [
    {
     "name": "stderr",
     "output_type": "stream",
     "text": [
      "C:\\Users\\nazanin\\AppData\\Local\\Temp\\2\\ipykernel_3592\\1592014741.py:1: SettingWithCopyWarning: \n",
      "A value is trying to be set on a copy of a slice from a DataFrame.\n",
      "Try using .loc[row_indexer,col_indexer] = value instead\n",
      "\n",
      "See the caveats in the documentation: https://pandas.pydata.org/pandas-docs/stable/user_guide/indexing.html#returning-a-view-versus-a-copy\n",
      "  eventsASim_temp['Realized_INEXUS'] = np.where((eventsASim_temp['mode_choice_actual_BEAM'] == 'hov2_teleportation') & (eventsASim_temp['Realized_INEXUS'].isna()), eventsASim_temp[['DRIVEALONEFREE','DRIVEALONEPAY','SHARED2FREE','SHARED2PAY','SHARED3FREE','SHARED3PAY']].max(axis=1), eventsASim_temp['Realized_INEXUS'])\n"
     ]
    }
   ],
   "source": [
    "eventsASim_temp['Realized_INEXUS'] = np.where((eventsASim_temp['mode_choice_actual_BEAM'] == 'hov2_teleportation') & (eventsASim_temp['Realized_INEXUS'].isna()), eventsASim_temp[['DRIVEALONEFREE','DRIVEALONEPAY','SHARED2FREE','SHARED2PAY','SHARED3FREE','SHARED3PAY']].max(axis=1), eventsASim_temp['Realized_INEXUS'])"
   ]
  },
  {
   "cell_type": "code",
   "execution_count": 368,
   "id": "825f1dbd",
   "metadata": {},
   "outputs": [
    {
     "name": "stderr",
     "output_type": "stream",
     "text": [
      "C:\\Users\\nazanin\\AppData\\Local\\Temp\\2\\ipykernel_10184\\3506122474.py:1: SettingWithCopyWarning: \n",
      "A value is trying to be set on a copy of a slice from a DataFrame.\n",
      "Try using .loc[row_indexer,col_indexer] = value instead\n",
      "\n",
      "See the caveats in the documentation: https://pandas.pydata.org/pandas-docs/stable/user_guide/indexing.html#returning-a-view-versus-a-copy\n",
      "  eventsASim_temp['Realized_INEXUS'] = np.where((eventsASim_temp['mode_choice_actual_BEAM'] == 'car_hov2') & (eventsASim_temp['Realized_INEXUS'].isna()), eventsASim_temp[['DRIVEALONEFREE','DRIVEALONEPAY','SHARED2FREE','SHARED2PAY','SHARED3FREE','SHARED3PAY']].max(axis=1), eventsASim_temp['Realized_INEXUS'])\n"
     ]
    }
   ],
   "source": [
    "eventsASim_temp['Realized_INEXUS'] = np.where((eventsASim_temp['mode_choice_actual_BEAM'] == 'car_hov2') & (eventsASim_temp['Realized_INEXUS'].isna()), eventsASim_temp[['DRIVEALONEFREE','DRIVEALONEPAY','SHARED2FREE','SHARED2PAY','SHARED3FREE','SHARED3PAY']].max(axis=1), eventsASim_temp['Realized_INEXUS'])"
   ]
  },
  {
   "cell_type": "code",
   "execution_count": 369,
   "id": "c3537e6a",
   "metadata": {},
   "outputs": [
    {
     "name": "stderr",
     "output_type": "stream",
     "text": [
      "C:\\Users\\nazanin\\AppData\\Local\\Temp\\2\\ipykernel_10184\\2017193566.py:1: SettingWithCopyWarning: \n",
      "A value is trying to be set on a copy of a slice from a DataFrame.\n",
      "Try using .loc[row_indexer,col_indexer] = value instead\n",
      "\n",
      "See the caveats in the documentation: https://pandas.pydata.org/pandas-docs/stable/user_guide/indexing.html#returning-a-view-versus-a-copy\n",
      "  eventsASim_temp['Realized_INEXUS'] = np.where((eventsASim_temp['mode_choice_actual_BEAM'] == 'car_hov3') & (eventsASim_temp['Realized_INEXUS'].isna()), eventsASim_temp[['DRIVEALONEFREE','DRIVEALONEPAY','SHARED2FREE','SHARED2PAY','SHARED3FREE','SHARED3PAY']].max(axis=1), eventsASim_temp['Realized_INEXUS'])\n"
     ]
    }
   ],
   "source": [
    "eventsASim_temp['Realized_INEXUS'] = np.where((eventsASim_temp['mode_choice_actual_BEAM'] == 'car_hov3') & (eventsASim_temp['Realized_INEXUS'].isna()), eventsASim_temp[['DRIVEALONEFREE','DRIVEALONEPAY','SHARED2FREE','SHARED2PAY','SHARED3FREE','SHARED3PAY']].max(axis=1), eventsASim_temp['Realized_INEXUS'])"
   ]
  },
  {
   "cell_type": "code",
   "execution_count": 373,
   "id": "62d696a7",
   "metadata": {},
   "outputs": [
    {
     "name": "stderr",
     "output_type": "stream",
     "text": [
      "C:\\Users\\nazanin\\AppData\\Local\\Temp\\2\\ipykernel_10184\\3419899379.py:1: SettingWithCopyWarning: \n",
      "A value is trying to be set on a copy of a slice from a DataFrame.\n",
      "Try using .loc[row_indexer,col_indexer] = value instead\n",
      "\n",
      "See the caveats in the documentation: https://pandas.pydata.org/pandas-docs/stable/user_guide/indexing.html#returning-a-view-versus-a-copy\n",
      "  eventsASim_temp['Realized_INEXUS'] = np.where((eventsASim_temp['mode_choice_actual_BEAM'] == 'walk_transit') & (eventsASim_temp['Realized_INEXUS'].isna()), eventsASim_temp[['WALK_LOC','WALK','WALK_LRF','WALK_EXP','WALK_HVY','WALK_COM']].max(axis=1), eventsASim_temp['Realized_INEXUS'])\n"
     ]
    }
   ],
   "source": [
    "#eventsASim_temp['Realized_INEXUS'] = np.where((eventsASim_temp['mode_choice_actual_BEAM'] == 'walk_transit') & (eventsASim_temp['Realized_INEXUS'].isna()), eventsASim_temp[['WALK_LOC','WALK','WALK_LRF','WALK_EXP','WALK_HVY','WALK_COM']].max(axis=1), eventsASim_temp['Realized_INEXUS'])"
   ]
  },
  {
   "cell_type": "code",
   "execution_count": 230,
   "id": "2b791e09",
   "metadata": {},
   "outputs": [
    {
     "name": "stderr",
     "output_type": "stream",
     "text": [
      "C:\\Users\\nazanin\\AppData\\Local\\Temp\\2\\ipykernel_3592\\3104847880.py:1: SettingWithCopyWarning: \n",
      "A value is trying to be set on a copy of a slice from a DataFrame.\n",
      "Try using .loc[row_indexer,col_indexer] = value instead\n",
      "\n",
      "See the caveats in the documentation: https://pandas.pydata.org/pandas-docs/stable/user_guide/indexing.html#returning-a-view-versus-a-copy\n",
      "  eventsASim_temp['Realized_INEXUS'] = np.where((eventsASim_temp['mode_choice_actual_BEAM'] == 'walk') & (eventsASim_temp['Realized_INEXUS'].isna()), eventsASim_temp[['WALK_LOC','WALK','WALK_LRF','WALK_EXP','WALK_HVY','WALK_COM']].max(axis=1), eventsASim_temp['Realized_INEXUS'])\n"
     ]
    }
   ],
   "source": [
    "eventsASim_temp['Realized_INEXUS'] = np.where((eventsASim_temp['mode_choice_actual_BEAM'] == 'walk') & (eventsASim_temp['Realized_INEXUS'].isna()), eventsASim_temp[['WALK_LOC','WALK','WALK_LRF','WALK_EXP','WALK_HVY','WALK_COM']].max(axis=1), eventsASim_temp['Realized_INEXUS'])"
   ]
  },
  {
   "cell_type": "code",
   "execution_count": 231,
   "id": "808b3cec",
   "metadata": {},
   "outputs": [
    {
     "name": "stderr",
     "output_type": "stream",
     "text": [
      "C:\\Users\\nazanin\\AppData\\Local\\Temp\\2\\ipykernel_3592\\1046763774.py:1: SettingWithCopyWarning: \n",
      "A value is trying to be set on a copy of a slice from a DataFrame.\n",
      "Try using .loc[row_indexer,col_indexer] = value instead\n",
      "\n",
      "See the caveats in the documentation: https://pandas.pydata.org/pandas-docs/stable/user_guide/indexing.html#returning-a-view-versus-a-copy\n",
      "  eventsASim_temp['Realized_INEXUS'] = np.where((eventsASim_temp['mode_choice_actual_BEAM'] == 'bike') & (eventsASim_temp['Realized_INEXUS'].isna()), eventsASim_temp[['BIKE','WALK_LOC','WALK','WALK_LRF','WALK_EXP','WALK_HVY','WALK_COM']].max(axis=1), eventsASim_temp['Realized_INEXUS'])\n"
     ]
    }
   ],
   "source": [
    "eventsASim_temp['Realized_INEXUS'] = np.where((eventsASim_temp['mode_choice_actual_BEAM'] == 'bike') & (eventsASim_temp['Realized_INEXUS'].isna()), eventsASim_temp[['BIKE','WALK_LOC','WALK','WALK_LRF','WALK_EXP','WALK_HVY','WALK_COM']].max(axis=1), eventsASim_temp['Realized_INEXUS'])"
   ]
  },
  {
   "cell_type": "code",
   "execution_count": 233,
   "id": "da7b8216",
   "metadata": {},
   "outputs": [
    {
     "name": "stderr",
     "output_type": "stream",
     "text": [
      "C:\\Users\\nazanin\\AppData\\Local\\Temp\\2\\ipykernel_3592\\2932866889.py:1: SettingWithCopyWarning: \n",
      "A value is trying to be set on a copy of a slice from a DataFrame.\n",
      "Try using .loc[row_indexer,col_indexer] = value instead\n",
      "\n",
      "See the caveats in the documentation: https://pandas.pydata.org/pandas-docs/stable/user_guide/indexing.html#returning-a-view-versus-a-copy\n",
      "  eventsASim_temp['Realized_INEXUS'] = np.where((eventsASim_temp['mode_choice_actual_BEAM'] == 'bike_transit') & (eventsASim_temp['Realized_INEXUS'].isna()), eventsASim_temp[['BIKE','WALK_LOC','WALK','WALK_LRF','WALK_EXP','WALK_HVY','WALK_COM']].max(axis=1), eventsASim_temp['Realized_INEXUS'])\n"
     ]
    }
   ],
   "source": [
    "eventsASim_temp['Realized_INEXUS'] = np.where((eventsASim_temp['mode_choice_actual_BEAM'] == 'bike_transit') & (eventsASim_temp['Realized_INEXUS'].isna()), eventsASim_temp[['BIKE','WALK_LOC','WALK','WALK_LRF','WALK_EXP','WALK_HVY','WALK_COM']].max(axis=1), eventsASim_temp['Realized_INEXUS'])"
   ]
  },
  {
   "cell_type": "code",
   "execution_count": 234,
   "id": "bd5b8cad",
   "metadata": {},
   "outputs": [
    {
     "name": "stderr",
     "output_type": "stream",
     "text": [
      "C:\\Users\\nazanin\\AppData\\Local\\Temp\\2\\ipykernel_3592\\886316294.py:1: SettingWithCopyWarning: \n",
      "A value is trying to be set on a copy of a slice from a DataFrame.\n",
      "Try using .loc[row_indexer,col_indexer] = value instead\n",
      "\n",
      "See the caveats in the documentation: https://pandas.pydata.org/pandas-docs/stable/user_guide/indexing.html#returning-a-view-versus-a-copy\n",
      "  eventsASim_temp['Realized_INEXUS'] = np.where((eventsASim_temp['mode_choice_actual_BEAM'] == 'drive_transit') & (eventsASim_temp['Realized_INEXUS'].isna()), eventsASim_temp[['DRIVEALONEFREE','DRIVEALONEPAY','SHARED2FREE','SHARED2PAY','SHARED3FREE','SHARED3PAY']].max(axis=1), eventsASim_temp['Realized_INEXUS'])\n"
     ]
    }
   ],
   "source": [
    "eventsASim_temp['Realized_INEXUS'] = np.where((eventsASim_temp['mode_choice_actual_BEAM'] == 'drive_transit') & (eventsASim_temp['Realized_INEXUS'].isna()), eventsASim_temp[['DRIVEALONEFREE','DRIVEALONEPAY','SHARED2FREE','SHARED2PAY','SHARED3FREE','SHARED3PAY']].max(axis=1), eventsASim_temp['Realized_INEXUS'])"
   ]
  },
  {
   "cell_type": "code",
   "execution_count": 213,
   "id": "1c6cb3b1",
   "metadata": {},
   "outputs": [
    {
     "data": {
      "text/html": [
       "<div>\n",
       "<style scoped>\n",
       "    .dataframe tbody tr th:only-of-type {\n",
       "        vertical-align: middle;\n",
       "    }\n",
       "\n",
       "    .dataframe tbody tr th {\n",
       "        vertical-align: top;\n",
       "    }\n",
       "\n",
       "    .dataframe thead th {\n",
       "        text-align: right;\n",
       "    }\n",
       "</style>\n",
       "<table border=\"1\" class=\"dataframe\">\n",
       "  <thead>\n",
       "    <tr style=\"text-align: right;\">\n",
       "      <th></th>\n",
       "      <th>IDMerged</th>\n",
       "      <th>tripIndex</th>\n",
       "      <th>actEndTime</th>\n",
       "      <th>actEndType</th>\n",
       "      <th>actStartTime</th>\n",
       "      <th>actStartType</th>\n",
       "      <th>mode_choice_planned_BEAM</th>\n",
       "      <th>mode_choice_actual_BEAM</th>\n",
       "      <th>trip_mode_AS_trips</th>\n",
       "      <th>DRIVEALONEFREE</th>\n",
       "      <th>DRIVEALONEPAY</th>\n",
       "      <th>SHARED2FREE</th>\n",
       "      <th>SHARED2PAY</th>\n",
       "      <th>SHARED3FREE</th>\n",
       "      <th>SHARED3PAY</th>\n",
       "      <th>WALK</th>\n",
       "      <th>BIKE</th>\n",
       "      <th>WALK_LOC</th>\n",
       "      <th>WALK_LRF</th>\n",
       "      <th>WALK_EXP</th>\n",
       "      <th>WALK_HVY</th>\n",
       "      <th>WALK_COM</th>\n",
       "      <th>DRIVE_LOC</th>\n",
       "      <th>DRIVE_LRF</th>\n",
       "      <th>DRIVE_EXP</th>\n",
       "      <th>DRIVE_HVY</th>\n",
       "      <th>DRIVE_COM</th>\n",
       "      <th>TAXI</th>\n",
       "      <th>TNC_SINGLE</th>\n",
       "      <th>TNC_SHARED</th>\n",
       "      <th>Realized_INEXUS</th>\n",
       "    </tr>\n",
       "  </thead>\n",
       "  <tbody>\n",
       "    <tr>\n",
       "      <th>0</th>\n",
       "      <td>4</td>\n",
       "      <td>1513.000000</td>\n",
       "      <td>57128.000000</td>\n",
       "      <td>Home</td>\n",
       "      <td>59289.000000</td>\n",
       "      <td>othdiscr</td>\n",
       "      <td>car</td>\n",
       "      <td>car</td>\n",
       "      <td>DRIVEALONEFREE</td>\n",
       "      <td>-1.753259</td>\n",
       "      <td>-1.765936</td>\n",
       "      <td>-1000.753259</td>\n",
       "      <td>-1000.760503</td>\n",
       "      <td>-1000.753259</td>\n",
       "      <td>-1000.758330</td>\n",
       "      <td>-65.051352</td>\n",
       "      <td>-1019.726757</td>\n",
       "      <td>-1001.604770</td>\n",
       "      <td>-1998.379995</td>\n",
       "      <td>-1998.379995</td>\n",
       "      <td>-2000.403421</td>\n",
       "      <td>-1998.379995</td>\n",
       "      <td>-1000.161266</td>\n",
       "      <td>-1998.426867</td>\n",
       "      <td>-1998.426867</td>\n",
       "      <td>-2000.846282</td>\n",
       "      <td>-1998.426867</td>\n",
       "      <td>-19.500145</td>\n",
       "      <td>-13.346279</td>\n",
       "      <td>-7.273501</td>\n",
       "      <td>-1.753259</td>\n",
       "    </tr>\n",
       "    <tr>\n",
       "      <th>1</th>\n",
       "      <td>4</td>\n",
       "      <td>1517.000000</td>\n",
       "      <td>61163.000000</td>\n",
       "      <td>othdiscr</td>\n",
       "      <td>63873.000000</td>\n",
       "      <td>social</td>\n",
       "      <td>car</td>\n",
       "      <td>car</td>\n",
       "      <td>DRIVEALONEPAY</td>\n",
       "      <td>-1.670445</td>\n",
       "      <td>-1.682576</td>\n",
       "      <td>-1000.657486</td>\n",
       "      <td>-1000.664418</td>\n",
       "      <td>-1000.652302</td>\n",
       "      <td>-1000.657155</td>\n",
       "      <td>-56.402102</td>\n",
       "      <td>-1015.402128</td>\n",
       "      <td>-1998.970552</td>\n",
       "      <td>-1998.379995</td>\n",
       "      <td>-1998.379995</td>\n",
       "      <td>-1998.979183</td>\n",
       "      <td>-1998.379995</td>\n",
       "      <td>-1998.426867</td>\n",
       "      <td>-1998.426867</td>\n",
       "      <td>-1998.426867</td>\n",
       "      <td>-1998.426867</td>\n",
       "      <td>-1998.426867</td>\n",
       "      <td>-18.474693</td>\n",
       "      <td>-12.531355</td>\n",
       "      <td>-6.861858</td>\n",
       "      <td>-1.682576</td>\n",
       "    </tr>\n",
       "    <tr>\n",
       "      <th>3</th>\n",
       "      <td>8</td>\n",
       "      <td>2889.000000</td>\n",
       "      <td>59007.000000</td>\n",
       "      <td>Home</td>\n",
       "      <td>59690.000000</td>\n",
       "      <td>shopping</td>\n",
       "      <td>car</td>\n",
       "      <td>car</td>\n",
       "      <td>DRIVEALONEFREE</td>\n",
       "      <td>-0.817971</td>\n",
       "      <td>-0.832210</td>\n",
       "      <td>0.558529</td>\n",
       "      <td>0.550393</td>\n",
       "      <td>-999.817971</td>\n",
       "      <td>-999.823666</td>\n",
       "      <td>-13.503713</td>\n",
       "      <td>-1000.857441</td>\n",
       "      <td>-1001.839628</td>\n",
       "      <td>-1998.310958</td>\n",
       "      <td>-1998.310958</td>\n",
       "      <td>-1999.995114</td>\n",
       "      <td>-1998.310958</td>\n",
       "      <td>-1000.318479</td>\n",
       "      <td>-1998.357830</td>\n",
       "      <td>-1998.357830</td>\n",
       "      <td>-1998.357830</td>\n",
       "      <td>-1998.357830</td>\n",
       "      <td>-14.501440</td>\n",
       "      <td>-13.517265</td>\n",
       "      <td>-11.583302</td>\n",
       "      <td>-0.817971</td>\n",
       "    </tr>\n",
       "    <tr>\n",
       "      <th>4</th>\n",
       "      <td>8</td>\n",
       "      <td>2893.000000</td>\n",
       "      <td>59840.000000</td>\n",
       "      <td>shopping</td>\n",
       "      <td>60679.000000</td>\n",
       "      <td>Home</td>\n",
       "      <td>car</td>\n",
       "      <td>car</td>\n",
       "      <td>SHARED2FREE</td>\n",
       "      <td>-2.913043</td>\n",
       "      <td>-2.920490</td>\n",
       "      <td>-0.650436</td>\n",
       "      <td>-0.654692</td>\n",
       "      <td>-1000.672493</td>\n",
       "      <td>-1000.675472</td>\n",
       "      <td>-16.840786</td>\n",
       "      <td>-1001.191148</td>\n",
       "      <td>-1000.703633</td>\n",
       "      <td>-1998.310958</td>\n",
       "      <td>-1998.310958</td>\n",
       "      <td>-1998.310958</td>\n",
       "      <td>-1998.310958</td>\n",
       "      <td>-1998.357830</td>\n",
       "      <td>-1998.357830</td>\n",
       "      <td>-1998.357830</td>\n",
       "      <td>-1998.357830</td>\n",
       "      <td>-1998.357830</td>\n",
       "      <td>-16.014501</td>\n",
       "      <td>-14.187358</td>\n",
       "      <td>-11.485441</td>\n",
       "      <td>-0.650436</td>\n",
       "    </tr>\n",
       "    <tr>\n",
       "      <th>5</th>\n",
       "      <td>18</td>\n",
       "      <td>6169.000000</td>\n",
       "      <td>38566.000000</td>\n",
       "      <td>Home</td>\n",
       "      <td>40957.000000</td>\n",
       "      <td>shopping</td>\n",
       "      <td>walk_transit</td>\n",
       "      <td>walk_transit</td>\n",
       "      <td>WALK_LOC</td>\n",
       "      <td>-999.568777</td>\n",
       "      <td>-999.571043</td>\n",
       "      <td>-5.314877</td>\n",
       "      <td>-5.316172</td>\n",
       "      <td>-5.688577</td>\n",
       "      <td>-5.689483</td>\n",
       "      <td>-8.532381</td>\n",
       "      <td>-1000.416482</td>\n",
       "      <td>-0.452994</td>\n",
       "      <td>-998.843351</td>\n",
       "      <td>-998.717751</td>\n",
       "      <td>-998.842251</td>\n",
       "      <td>-998.869651</td>\n",
       "      <td>-999.803487</td>\n",
       "      <td>-1998.429423</td>\n",
       "      <td>-1998.429423</td>\n",
       "      <td>-1998.429423</td>\n",
       "      <td>-1998.429423</td>\n",
       "      <td>-9.130620</td>\n",
       "      <td>-8.235243</td>\n",
       "      <td>-6.894363</td>\n",
       "      <td>-0.452994</td>\n",
       "    </tr>\n",
       "  </tbody>\n",
       "</table>\n",
       "</div>"
      ],
      "text/plain": [
       "   IDMerged   tripIndex   actEndTime actEndType  actStartTime actStartType  \\\n",
       "0         4 1513.000000 57128.000000       Home  59289.000000     othdiscr   \n",
       "1         4 1517.000000 61163.000000   othdiscr  63873.000000       social   \n",
       "3         8 2889.000000 59007.000000       Home  59690.000000     shopping   \n",
       "4         8 2893.000000 59840.000000   shopping  60679.000000         Home   \n",
       "5        18 6169.000000 38566.000000       Home  40957.000000     shopping   \n",
       "\n",
       "  mode_choice_planned_BEAM mode_choice_actual_BEAM trip_mode_AS_trips  \\\n",
       "0                      car                     car     DRIVEALONEFREE   \n",
       "1                      car                     car      DRIVEALONEPAY   \n",
       "3                      car                     car     DRIVEALONEFREE   \n",
       "4                      car                     car        SHARED2FREE   \n",
       "5             walk_transit            walk_transit           WALK_LOC   \n",
       "\n",
       "   DRIVEALONEFREE  DRIVEALONEPAY  SHARED2FREE   SHARED2PAY  SHARED3FREE  \\\n",
       "0       -1.753259      -1.765936 -1000.753259 -1000.760503 -1000.753259   \n",
       "1       -1.670445      -1.682576 -1000.657486 -1000.664418 -1000.652302   \n",
       "3       -0.817971      -0.832210     0.558529     0.550393  -999.817971   \n",
       "4       -2.913043      -2.920490    -0.650436    -0.654692 -1000.672493   \n",
       "5     -999.568777    -999.571043    -5.314877    -5.316172    -5.688577   \n",
       "\n",
       "    SHARED3PAY       WALK         BIKE     WALK_LOC     WALK_LRF     WALK_EXP  \\\n",
       "0 -1000.758330 -65.051352 -1019.726757 -1001.604770 -1998.379995 -1998.379995   \n",
       "1 -1000.657155 -56.402102 -1015.402128 -1998.970552 -1998.379995 -1998.379995   \n",
       "3  -999.823666 -13.503713 -1000.857441 -1001.839628 -1998.310958 -1998.310958   \n",
       "4 -1000.675472 -16.840786 -1001.191148 -1000.703633 -1998.310958 -1998.310958   \n",
       "5    -5.689483  -8.532381 -1000.416482    -0.452994  -998.843351  -998.717751   \n",
       "\n",
       "      WALK_HVY     WALK_COM    DRIVE_LOC    DRIVE_LRF    DRIVE_EXP  \\\n",
       "0 -2000.403421 -1998.379995 -1000.161266 -1998.426867 -1998.426867   \n",
       "1 -1998.979183 -1998.379995 -1998.426867 -1998.426867 -1998.426867   \n",
       "3 -1999.995114 -1998.310958 -1000.318479 -1998.357830 -1998.357830   \n",
       "4 -1998.310958 -1998.310958 -1998.357830 -1998.357830 -1998.357830   \n",
       "5  -998.842251  -998.869651  -999.803487 -1998.429423 -1998.429423   \n",
       "\n",
       "     DRIVE_HVY    DRIVE_COM       TAXI  TNC_SINGLE  TNC_SHARED  \\\n",
       "0 -2000.846282 -1998.426867 -19.500145  -13.346279   -7.273501   \n",
       "1 -1998.426867 -1998.426867 -18.474693  -12.531355   -6.861858   \n",
       "3 -1998.357830 -1998.357830 -14.501440  -13.517265  -11.583302   \n",
       "4 -1998.357830 -1998.357830 -16.014501  -14.187358  -11.485441   \n",
       "5 -1998.429423 -1998.429423  -9.130620   -8.235243   -6.894363   \n",
       "\n",
       "   Realized_INEXUS  \n",
       "0        -1.753259  \n",
       "1        -1.682576  \n",
       "3        -0.817971  \n",
       "4        -0.650436  \n",
       "5        -0.452994  "
      ]
     },
     "execution_count": 213,
     "metadata": {},
     "output_type": "execute_result"
    }
   ],
   "source": [
    "eventsASim_temp.head()"
   ]
  },
  {
   "cell_type": "code",
   "execution_count": 214,
   "id": "9df29d56",
   "metadata": {},
   "outputs": [
    {
     "data": {
      "text/plain": [
       "(198139, 31)"
      ]
     },
     "execution_count": 214,
     "metadata": {},
     "output_type": "execute_result"
    }
   ],
   "source": [
    "eventsASim_temp[(eventsASim_temp['Realized_INEXUS'].isna())].shape"
   ]
  },
  {
   "cell_type": "code",
   "execution_count": 215,
   "id": "9c0d818c",
   "metadata": {},
   "outputs": [
    {
     "data": {
      "text/plain": [
       "(41987, 31)"
      ]
     },
     "execution_count": 215,
     "metadata": {},
     "output_type": "execute_result"
    }
   ],
   "source": [
    "eventsASim_temp[(eventsASim_temp['Realized_INEXUS'] < -900)].shape"
   ]
  },
  {
   "cell_type": "code",
   "execution_count": 398,
   "id": "d12217cf",
   "metadata": {},
   "outputs": [
    {
     "data": {
      "text/html": [
       "<div>\n",
       "<style scoped>\n",
       "    .dataframe tbody tr th:only-of-type {\n",
       "        vertical-align: middle;\n",
       "    }\n",
       "\n",
       "    .dataframe tbody tr th {\n",
       "        vertical-align: top;\n",
       "    }\n",
       "\n",
       "    .dataframe thead th {\n",
       "        text-align: right;\n",
       "    }\n",
       "</style>\n",
       "<table border=\"1\" class=\"dataframe\">\n",
       "  <thead>\n",
       "    <tr style=\"text-align: right;\">\n",
       "      <th></th>\n",
       "      <th>IDMerged</th>\n",
       "      <th>tripIndex</th>\n",
       "      <th>actEndTime</th>\n",
       "      <th>actEndType</th>\n",
       "      <th>actStartTime</th>\n",
       "      <th>actStartType</th>\n",
       "      <th>mode_choice_planned_BEAM</th>\n",
       "      <th>mode_choice_actual_BEAM</th>\n",
       "      <th>trip_mode_AS_trips</th>\n",
       "      <th>DRIVEALONEFREE</th>\n",
       "      <th>DRIVEALONEPAY</th>\n",
       "      <th>SHARED2FREE</th>\n",
       "      <th>SHARED2PAY</th>\n",
       "      <th>SHARED3FREE</th>\n",
       "      <th>SHARED3PAY</th>\n",
       "      <th>WALK</th>\n",
       "      <th>BIKE</th>\n",
       "      <th>WALK_LOC</th>\n",
       "      <th>WALK_LRF</th>\n",
       "      <th>WALK_EXP</th>\n",
       "      <th>WALK_HVY</th>\n",
       "      <th>WALK_COM</th>\n",
       "      <th>DRIVE_LOC</th>\n",
       "      <th>DRIVE_LRF</th>\n",
       "      <th>DRIVE_EXP</th>\n",
       "      <th>DRIVE_HVY</th>\n",
       "      <th>DRIVE_COM</th>\n",
       "      <th>TAXI</th>\n",
       "      <th>TNC_SINGLE</th>\n",
       "      <th>TNC_SHARED</th>\n",
       "      <th>Realized_INEXUS</th>\n",
       "    </tr>\n",
       "  </thead>\n",
       "  <tbody>\n",
       "    <tr>\n",
       "      <th>119</th>\n",
       "      <td>257</td>\n",
       "      <td>84329.000000</td>\n",
       "      <td>36194.000000</td>\n",
       "      <td>work</td>\n",
       "      <td>37316.000000</td>\n",
       "      <td>atwork</td>\n",
       "      <td>car</td>\n",
       "      <td>car</td>\n",
       "      <td>WALK</td>\n",
       "      <td>-1998.231232</td>\n",
       "      <td>-1998.231379</td>\n",
       "      <td>-999.231232</td>\n",
       "      <td>-999.231316</td>\n",
       "      <td>-999.231232</td>\n",
       "      <td>-999.231291</td>\n",
       "      <td>-0.393102</td>\n",
       "      <td>-1998.313522</td>\n",
       "      <td>-999.388514</td>\n",
       "      <td>-1998.098654</td>\n",
       "      <td>-1998.098654</td>\n",
       "      <td>-1998.098654</td>\n",
       "      <td>-1998.098654</td>\n",
       "      <td>-1998.266738</td>\n",
       "      <td>-1998.266738</td>\n",
       "      <td>-1998.266738</td>\n",
       "      <td>-1998.266738</td>\n",
       "      <td>-1998.266738</td>\n",
       "      <td>-8.131405</td>\n",
       "      <td>-8.237605</td>\n",
       "      <td>-8.361245</td>\n",
       "      <td>-999.231232</td>\n",
       "    </tr>\n",
       "    <tr>\n",
       "      <th>120</th>\n",
       "      <td>257</td>\n",
       "      <td>84333.000000</td>\n",
       "      <td>37466.000000</td>\n",
       "      <td>atwork</td>\n",
       "      <td>37641.000000</td>\n",
       "      <td>work</td>\n",
       "      <td>car</td>\n",
       "      <td>car</td>\n",
       "      <td>WALK</td>\n",
       "      <td>-1998.231232</td>\n",
       "      <td>-1998.231379</td>\n",
       "      <td>-999.231232</td>\n",
       "      <td>-999.231316</td>\n",
       "      <td>-999.231232</td>\n",
       "      <td>-999.231291</td>\n",
       "      <td>-0.393102</td>\n",
       "      <td>-1998.313522</td>\n",
       "      <td>-999.388514</td>\n",
       "      <td>-1998.098654</td>\n",
       "      <td>-1998.098654</td>\n",
       "      <td>-1998.098654</td>\n",
       "      <td>-1998.098654</td>\n",
       "      <td>-1998.266738</td>\n",
       "      <td>-1998.266738</td>\n",
       "      <td>-1998.266738</td>\n",
       "      <td>-1998.266738</td>\n",
       "      <td>-1998.266738</td>\n",
       "      <td>-8.131405</td>\n",
       "      <td>-8.237605</td>\n",
       "      <td>-8.361245</td>\n",
       "      <td>-999.231232</td>\n",
       "    </tr>\n",
       "    <tr>\n",
       "      <th>323</th>\n",
       "      <td>700</td>\n",
       "      <td>229633.000000</td>\n",
       "      <td>37346.000000</td>\n",
       "      <td>work</td>\n",
       "      <td>39662.000000</td>\n",
       "      <td>atwork</td>\n",
       "      <td>car</td>\n",
       "      <td>car</td>\n",
       "      <td>WALK</td>\n",
       "      <td>-999.088188</td>\n",
       "      <td>-999.088283</td>\n",
       "      <td>-999.088188</td>\n",
       "      <td>-999.088242</td>\n",
       "      <td>-999.088188</td>\n",
       "      <td>-999.088226</td>\n",
       "      <td>-0.341314</td>\n",
       "      <td>-1998.210950</td>\n",
       "      <td>-999.766602</td>\n",
       "      <td>-1997.945298</td>\n",
       "      <td>-1997.945298</td>\n",
       "      <td>-1997.945298</td>\n",
       "      <td>-1997.945298</td>\n",
       "      <td>-1998.222061</td>\n",
       "      <td>-1998.222061</td>\n",
       "      <td>-1998.222061</td>\n",
       "      <td>-1998.222061</td>\n",
       "      <td>-1998.222061</td>\n",
       "      <td>-7.795621</td>\n",
       "      <td>-7.513685</td>\n",
       "      <td>-7.804696</td>\n",
       "      <td>-999.088188</td>\n",
       "    </tr>\n",
       "    <tr>\n",
       "      <th>324</th>\n",
       "      <td>700</td>\n",
       "      <td>229637.000000</td>\n",
       "      <td>47563.000000</td>\n",
       "      <td>atwork</td>\n",
       "      <td>48377.000000</td>\n",
       "      <td>work</td>\n",
       "      <td>car</td>\n",
       "      <td>car</td>\n",
       "      <td>WALK</td>\n",
       "      <td>-999.896211</td>\n",
       "      <td>-999.896406</td>\n",
       "      <td>-999.617344</td>\n",
       "      <td>-999.617456</td>\n",
       "      <td>-999.505798</td>\n",
       "      <td>-999.505876</td>\n",
       "      <td>-0.403872</td>\n",
       "      <td>-1998.242229</td>\n",
       "      <td>-1000.241696</td>\n",
       "      <td>-1997.945298</td>\n",
       "      <td>-1997.945298</td>\n",
       "      <td>-1997.945298</td>\n",
       "      <td>-1997.945298</td>\n",
       "      <td>-1998.222061</td>\n",
       "      <td>-1998.222061</td>\n",
       "      <td>-1998.222061</td>\n",
       "      <td>-1998.222061</td>\n",
       "      <td>-1998.222061</td>\n",
       "      <td>-8.708262</td>\n",
       "      <td>-8.297894</td>\n",
       "      <td>-8.131228</td>\n",
       "      <td>-999.505798</td>\n",
       "    </tr>\n",
       "    <tr>\n",
       "      <th>394</th>\n",
       "      <td>856</td>\n",
       "      <td>280969.000000</td>\n",
       "      <td>131800.000000</td>\n",
       "      <td>Home</td>\n",
       "      <td>132517.000000</td>\n",
       "      <td>othdiscr</td>\n",
       "      <td>hov3_teleportation</td>\n",
       "      <td>hov3_teleportation</td>\n",
       "      <td>BIKE</td>\n",
       "      <td>-1000.422650</td>\n",
       "      <td>-1000.514278</td>\n",
       "      <td>-1000.422650</td>\n",
       "      <td>-1000.475009</td>\n",
       "      <td>-1000.422650</td>\n",
       "      <td>-1000.459302</td>\n",
       "      <td>-27.429583</td>\n",
       "      <td>-3.145419</td>\n",
       "      <td>-1002.437409</td>\n",
       "      <td>-1998.333171</td>\n",
       "      <td>-1998.333171</td>\n",
       "      <td>-1999.616409</td>\n",
       "      <td>-1998.333171</td>\n",
       "      <td>-999.806252</td>\n",
       "      <td>-1998.380043</td>\n",
       "      <td>-1998.380043</td>\n",
       "      <td>-1998.380043</td>\n",
       "      <td>-1998.380043</td>\n",
       "      <td>-22.579017</td>\n",
       "      <td>-18.741263</td>\n",
       "      <td>-13.346698</td>\n",
       "      <td>-1000.422650</td>\n",
       "    </tr>\n",
       "    <tr>\n",
       "      <th>395</th>\n",
       "      <td>856</td>\n",
       "      <td>280973.000000</td>\n",
       "      <td>132667.000000</td>\n",
       "      <td>othdiscr</td>\n",
       "      <td>133487.000000</td>\n",
       "      <td>Home</td>\n",
       "      <td>hov3_teleportation</td>\n",
       "      <td>hov3_teleportation</td>\n",
       "      <td>BIKE</td>\n",
       "      <td>-1001.423043</td>\n",
       "      <td>-1001.470952</td>\n",
       "      <td>-1000.791505</td>\n",
       "      <td>-1000.818881</td>\n",
       "      <td>-1000.538889</td>\n",
       "      <td>-1000.558053</td>\n",
       "      <td>-25.284398</td>\n",
       "      <td>-2.930901</td>\n",
       "      <td>-1998.911885</td>\n",
       "      <td>-1998.333171</td>\n",
       "      <td>-1998.333171</td>\n",
       "      <td>-1998.333171</td>\n",
       "      <td>-1998.333171</td>\n",
       "      <td>-1998.380043</td>\n",
       "      <td>-1998.380043</td>\n",
       "      <td>-1998.380043</td>\n",
       "      <td>-1998.380043</td>\n",
       "      <td>-1998.380043</td>\n",
       "      <td>-17.699244</td>\n",
       "      <td>-15.262166</td>\n",
       "      <td>-12.138130</td>\n",
       "      <td>-1000.538889</td>\n",
       "    </tr>\n",
       "    <tr>\n",
       "      <th>505</th>\n",
       "      <td>1259</td>\n",
       "      <td>412985.000000</td>\n",
       "      <td>36835.000000</td>\n",
       "      <td>work</td>\n",
       "      <td>37968.000000</td>\n",
       "      <td>othmaint</td>\n",
       "      <td>car</td>\n",
       "      <td>car</td>\n",
       "      <td>WALK</td>\n",
       "      <td>-999.735985</td>\n",
       "      <td>-999.736369</td>\n",
       "      <td>-999.448407</td>\n",
       "      <td>-999.448627</td>\n",
       "      <td>-999.333376</td>\n",
       "      <td>-999.333530</td>\n",
       "      <td>-0.583679</td>\n",
       "      <td>-1998.357858</td>\n",
       "      <td>-999.339269</td>\n",
       "      <td>-1997.996749</td>\n",
       "      <td>-1997.996749</td>\n",
       "      <td>-1997.996749</td>\n",
       "      <td>-1997.996749</td>\n",
       "      <td>-1998.164833</td>\n",
       "      <td>-1998.164833</td>\n",
       "      <td>-1998.164833</td>\n",
       "      <td>-1998.164833</td>\n",
       "      <td>-1998.164833</td>\n",
       "      <td>-8.366296</td>\n",
       "      <td>-9.080646</td>\n",
       "      <td>-8.478810</td>\n",
       "      <td>-999.333376</td>\n",
       "    </tr>\n",
       "    <tr>\n",
       "      <th>506</th>\n",
       "      <td>1259</td>\n",
       "      <td>412986.000000</td>\n",
       "      <td>38118.000000</td>\n",
       "      <td>othmaint</td>\n",
       "      <td>38193.000000</td>\n",
       "      <td>escort</td>\n",
       "      <td>car</td>\n",
       "      <td>car</td>\n",
       "      <td>WALK</td>\n",
       "      <td>-1000.417593</td>\n",
       "      <td>-1000.417739</td>\n",
       "      <td>-999.845128</td>\n",
       "      <td>-999.845211</td>\n",
       "      <td>-999.616142</td>\n",
       "      <td>-999.616200</td>\n",
       "      <td>0.067953</td>\n",
       "      <td>-1997.983600</td>\n",
       "      <td>-999.621220</td>\n",
       "      <td>-1997.899864</td>\n",
       "      <td>-1998.178864</td>\n",
       "      <td>-1997.899864</td>\n",
       "      <td>-1997.899864</td>\n",
       "      <td>-1998.090338</td>\n",
       "      <td>-1998.090338</td>\n",
       "      <td>-1998.090338</td>\n",
       "      <td>-1998.090338</td>\n",
       "      <td>-1998.090338</td>\n",
       "      <td>-8.224274</td>\n",
       "      <td>-9.147165</td>\n",
       "      <td>-8.510017</td>\n",
       "      <td>-999.616142</td>\n",
       "    </tr>\n",
       "    <tr>\n",
       "      <th>507</th>\n",
       "      <td>1259</td>\n",
       "      <td>412987.000000</td>\n",
       "      <td>38973.000000</td>\n",
       "      <td>escort</td>\n",
       "      <td>39008.000000</td>\n",
       "      <td>atwork</td>\n",
       "      <td>car</td>\n",
       "      <td>car</td>\n",
       "      <td>WALK</td>\n",
       "      <td>-999.683543</td>\n",
       "      <td>-999.683635</td>\n",
       "      <td>-999.398655</td>\n",
       "      <td>-999.398708</td>\n",
       "      <td>-999.284700</td>\n",
       "      <td>-999.284737</td>\n",
       "      <td>0.290658</td>\n",
       "      <td>-1997.790129</td>\n",
       "      <td>-999.567445</td>\n",
       "      <td>-1998.437122</td>\n",
       "      <td>-1998.014627</td>\n",
       "      <td>-1997.735627</td>\n",
       "      <td>-1997.735627</td>\n",
       "      <td>-1998.149586</td>\n",
       "      <td>-1998.149586</td>\n",
       "      <td>-1998.149586</td>\n",
       "      <td>-1998.149586</td>\n",
       "      <td>-1998.149586</td>\n",
       "      <td>-7.917034</td>\n",
       "      <td>-8.786085</td>\n",
       "      <td>-8.201712</td>\n",
       "      <td>-999.284700</td>\n",
       "    </tr>\n",
       "    <tr>\n",
       "      <th>508</th>\n",
       "      <td>1259</td>\n",
       "      <td>412989.000000</td>\n",
       "      <td>54241.000000</td>\n",
       "      <td>atwork</td>\n",
       "      <td>54546.000000</td>\n",
       "      <td>work</td>\n",
       "      <td>car</td>\n",
       "      <td>car</td>\n",
       "      <td>WALK</td>\n",
       "      <td>-1006.626007</td>\n",
       "      <td>-1006.629844</td>\n",
       "      <td>-1003.876212</td>\n",
       "      <td>-1003.878404</td>\n",
       "      <td>-1002.776294</td>\n",
       "      <td>-1002.777829</td>\n",
       "      <td>-2.152651</td>\n",
       "      <td>-1998.509576</td>\n",
       "      <td>-999.434695</td>\n",
       "      <td>-1998.521803</td>\n",
       "      <td>-1997.981502</td>\n",
       "      <td>-1997.981502</td>\n",
       "      <td>-1997.981502</td>\n",
       "      <td>-1998.149586</td>\n",
       "      <td>-1998.149586</td>\n",
       "      <td>-1998.149586</td>\n",
       "      <td>-1998.149586</td>\n",
       "      <td>-1998.149586</td>\n",
       "      <td>-14.337606</td>\n",
       "      <td>-14.245464</td>\n",
       "      <td>-11.630568</td>\n",
       "      <td>-1002.776294</td>\n",
       "    </tr>\n",
       "  </tbody>\n",
       "</table>\n",
       "</div>"
      ],
      "text/plain": [
       "     IDMerged     tripIndex    actEndTime actEndType  actStartTime  \\\n",
       "119       257  84329.000000  36194.000000       work  37316.000000   \n",
       "120       257  84333.000000  37466.000000     atwork  37641.000000   \n",
       "323       700 229633.000000  37346.000000       work  39662.000000   \n",
       "324       700 229637.000000  47563.000000     atwork  48377.000000   \n",
       "394       856 280969.000000 131800.000000       Home 132517.000000   \n",
       "395       856 280973.000000 132667.000000   othdiscr 133487.000000   \n",
       "505      1259 412985.000000  36835.000000       work  37968.000000   \n",
       "506      1259 412986.000000  38118.000000   othmaint  38193.000000   \n",
       "507      1259 412987.000000  38973.000000     escort  39008.000000   \n",
       "508      1259 412989.000000  54241.000000     atwork  54546.000000   \n",
       "\n",
       "    actStartType mode_choice_planned_BEAM mode_choice_actual_BEAM  \\\n",
       "119       atwork                      car                     car   \n",
       "120         work                      car                     car   \n",
       "323       atwork                      car                     car   \n",
       "324         work                      car                     car   \n",
       "394     othdiscr       hov3_teleportation      hov3_teleportation   \n",
       "395         Home       hov3_teleportation      hov3_teleportation   \n",
       "505     othmaint                      car                     car   \n",
       "506       escort                      car                     car   \n",
       "507       atwork                      car                     car   \n",
       "508         work                      car                     car   \n",
       "\n",
       "    trip_mode_AS_trips  DRIVEALONEFREE  DRIVEALONEPAY  SHARED2FREE  \\\n",
       "119               WALK    -1998.231232   -1998.231379  -999.231232   \n",
       "120               WALK    -1998.231232   -1998.231379  -999.231232   \n",
       "323               WALK     -999.088188    -999.088283  -999.088188   \n",
       "324               WALK     -999.896211    -999.896406  -999.617344   \n",
       "394               BIKE    -1000.422650   -1000.514278 -1000.422650   \n",
       "395               BIKE    -1001.423043   -1001.470952 -1000.791505   \n",
       "505               WALK     -999.735985    -999.736369  -999.448407   \n",
       "506               WALK    -1000.417593   -1000.417739  -999.845128   \n",
       "507               WALK     -999.683543    -999.683635  -999.398655   \n",
       "508               WALK    -1006.626007   -1006.629844 -1003.876212   \n",
       "\n",
       "      SHARED2PAY  SHARED3FREE   SHARED3PAY       WALK         BIKE  \\\n",
       "119  -999.231316  -999.231232  -999.231291  -0.393102 -1998.313522   \n",
       "120  -999.231316  -999.231232  -999.231291  -0.393102 -1998.313522   \n",
       "323  -999.088242  -999.088188  -999.088226  -0.341314 -1998.210950   \n",
       "324  -999.617456  -999.505798  -999.505876  -0.403872 -1998.242229   \n",
       "394 -1000.475009 -1000.422650 -1000.459302 -27.429583    -3.145419   \n",
       "395 -1000.818881 -1000.538889 -1000.558053 -25.284398    -2.930901   \n",
       "505  -999.448627  -999.333376  -999.333530  -0.583679 -1998.357858   \n",
       "506  -999.845211  -999.616142  -999.616200   0.067953 -1997.983600   \n",
       "507  -999.398708  -999.284700  -999.284737   0.290658 -1997.790129   \n",
       "508 -1003.878404 -1002.776294 -1002.777829  -2.152651 -1998.509576   \n",
       "\n",
       "        WALK_LOC     WALK_LRF     WALK_EXP     WALK_HVY     WALK_COM  \\\n",
       "119  -999.388514 -1998.098654 -1998.098654 -1998.098654 -1998.098654   \n",
       "120  -999.388514 -1998.098654 -1998.098654 -1998.098654 -1998.098654   \n",
       "323  -999.766602 -1997.945298 -1997.945298 -1997.945298 -1997.945298   \n",
       "324 -1000.241696 -1997.945298 -1997.945298 -1997.945298 -1997.945298   \n",
       "394 -1002.437409 -1998.333171 -1998.333171 -1999.616409 -1998.333171   \n",
       "395 -1998.911885 -1998.333171 -1998.333171 -1998.333171 -1998.333171   \n",
       "505  -999.339269 -1997.996749 -1997.996749 -1997.996749 -1997.996749   \n",
       "506  -999.621220 -1997.899864 -1998.178864 -1997.899864 -1997.899864   \n",
       "507  -999.567445 -1998.437122 -1998.014627 -1997.735627 -1997.735627   \n",
       "508  -999.434695 -1998.521803 -1997.981502 -1997.981502 -1997.981502   \n",
       "\n",
       "       DRIVE_LOC    DRIVE_LRF    DRIVE_EXP    DRIVE_HVY    DRIVE_COM  \\\n",
       "119 -1998.266738 -1998.266738 -1998.266738 -1998.266738 -1998.266738   \n",
       "120 -1998.266738 -1998.266738 -1998.266738 -1998.266738 -1998.266738   \n",
       "323 -1998.222061 -1998.222061 -1998.222061 -1998.222061 -1998.222061   \n",
       "324 -1998.222061 -1998.222061 -1998.222061 -1998.222061 -1998.222061   \n",
       "394  -999.806252 -1998.380043 -1998.380043 -1998.380043 -1998.380043   \n",
       "395 -1998.380043 -1998.380043 -1998.380043 -1998.380043 -1998.380043   \n",
       "505 -1998.164833 -1998.164833 -1998.164833 -1998.164833 -1998.164833   \n",
       "506 -1998.090338 -1998.090338 -1998.090338 -1998.090338 -1998.090338   \n",
       "507 -1998.149586 -1998.149586 -1998.149586 -1998.149586 -1998.149586   \n",
       "508 -1998.149586 -1998.149586 -1998.149586 -1998.149586 -1998.149586   \n",
       "\n",
       "          TAXI  TNC_SINGLE  TNC_SHARED  Realized_INEXUS  \n",
       "119  -8.131405   -8.237605   -8.361245      -999.231232  \n",
       "120  -8.131405   -8.237605   -8.361245      -999.231232  \n",
       "323  -7.795621   -7.513685   -7.804696      -999.088188  \n",
       "324  -8.708262   -8.297894   -8.131228      -999.505798  \n",
       "394 -22.579017  -18.741263  -13.346698     -1000.422650  \n",
       "395 -17.699244  -15.262166  -12.138130     -1000.538889  \n",
       "505  -8.366296   -9.080646   -8.478810      -999.333376  \n",
       "506  -8.224274   -9.147165   -8.510017      -999.616142  \n",
       "507  -7.917034   -8.786085   -8.201712      -999.284700  \n",
       "508 -14.337606  -14.245464  -11.630568     -1002.776294  "
      ]
     },
     "execution_count": 398,
     "metadata": {},
     "output_type": "execute_result"
    }
   ],
   "source": [
    "eventsASim_temp[(eventsASim_temp['Realized_INEXUS'] < -900)].head(10)"
   ]
  },
  {
   "cell_type": "code",
   "execution_count": 226,
   "id": "7a52b2ca",
   "metadata": {},
   "outputs": [],
   "source": [
    "eventsASim_temp[eventsASim_temp['Realized_INEXUS'].isna()].head(1000).to_csv(\"C:/Shared-Work/Data/CleanData/sample_test.csv\", index =False)"
   ]
  },
  {
   "cell_type": "code",
   "execution_count": 256,
   "id": "00d73856",
   "metadata": {},
   "outputs": [],
   "source": [
    "eventsASim_temp.head(10000).to_csv(\"C:/Shared-Work/Data/CleanData/sample_test_2.csv\", index =False)"
   ]
  },
  {
   "cell_type": "code",
   "execution_count": 122,
   "id": "b97fa964",
   "metadata": {},
   "outputs": [],
   "source": [
    "# Delete the utilities files downloaded and saved in the system\n",
    "os.remove('C:/Users/nazanin/Documents/beam-core-analysis/Users/Nazanin/trip_mode_choice.zip')   #the path should be updated\n",
    "shutil.rmtree('C:/Users/nazanin/Documents/beam-core-analysis/Users/Nazanin/trip_mode_choice')   #the path should be updated"
   ]
  }
 ],
 "metadata": {
  "kernelspec": {
   "display_name": "Python 3 (ipykernel)",
   "language": "python",
   "name": "python3"
  },
  "language_info": {
   "codemirror_mode": {
    "name": "ipython",
    "version": 3
   },
   "file_extension": ".py",
   "mimetype": "text/x-python",
   "name": "python",
   "nbconvert_exporter": "python",
   "pygments_lexer": "ipython3",
   "version": "3.9.7"
  },
  "toc": {
   "base_numbering": 1,
   "nav_menu": {},
   "number_sections": true,
   "sideBar": true,
   "skip_h1_title": false,
   "title_cell": "Table of Contents",
   "title_sidebar": "Contents",
   "toc_cell": false,
   "toc_position": {},
   "toc_section_display": true,
   "toc_window_display": false
  }
 },
 "nbformat": 4,
 "nbformat_minor": 5
}
