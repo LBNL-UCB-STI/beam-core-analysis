{
 "cells": [
  {
   "cell_type": "code",
   "execution_count": 1,
   "id": "24b9b2ec",
   "metadata": {},
   "outputs": [],
   "source": [
    "import os\n",
    "import os.path as op\n",
    "import numpy as np\n",
    "import pandas as pd\n",
    "import sys\n",
    "import boto3\n",
    "from boto3 import session\n",
    "import matplotlib.pyplot as plt\n",
    "%matplotlib inline\n",
    "import seaborn as sns\n",
    "import zipfile\n",
    "import glob"
   ]
  },
  {
   "cell_type": "code",
   "execution_count": 2,
   "id": "8b2c2b38",
   "metadata": {},
   "outputs": [],
   "source": [
    "#loczip = \"https://beam-outputs.s3.amazonaws.com/pilates-outputs/sfbay-2010-lessrh-20220223/activitysim/year-2010-iteration-2/\" \n",
    "#zf = zipfile.ZipFile(loczip + 'trip_mode_choice.zip')\n",
    "#zf.namelist()\n",
    "#df = pd.read_csv(zf.open('1513_raw.csv'))\n",
    "\n",
    "#with zipfile.ZipFile(b, mode='r') as zipf:\n",
    "        #for subfile in zipf.namelist():\n",
    "            #do_stuff_with_subfile()"
   ]
  },
  {
   "cell_type": "code",
   "execution_count": 3,
   "id": "ab1920b3",
   "metadata": {},
   "outputs": [],
   "source": [
    "#Reading the files\n",
    "loc = \"https://beam-outputs.s3.amazonaws.com/pilates-outputs/sfbay-2010-lessrh-20220223/activitysim/\" \n",
    "trips = pd.read_csv(loc + 'final_trips.csv')\n",
    "households = pd.read_csv(loc + 'final_households.csv')\n",
    "persons = pd.read_csv(loc + 'final_persons.csv')\n",
    "tours = pd.read_csv(loc +'final_tours.csv')\n",
    "plans = pd.read_csv(loc +'final_plans.csv')\n",
    "#landuse = pd.read_csv(loc +'final_land_use.csv')\n",
    "#checkpoints = pd.read_csv(loc + 'final_checkpoints.csv')\n",
    "#joint_tour_participants = pd.read_csv(loc + 'final_joint_tour_participants.csv')\n",
    "#specs = pd.read_csv(loc +'final_trip_mode_choice_specs.csv')\n",
    "#tripModeChoice = pd.read_csv(loc +'final_trip_mode_choice_raw.csv')\n",
    "#tripModeChoiceUtilities = pd.read_csv(loc +'final_trip_mode_choice_utilities.csv')"
   ]
  },
  {
   "cell_type": "code",
   "execution_count": null,
   "id": "aadb2d25",
   "metadata": {},
   "outputs": [],
   "source": [
    "#folderpath = r\"C:\\Users\\nazanin\\Downloads\\trip_mode_choice\\trip_mode_choice\" # make sure to put the 'r' in front\n",
    "#filepaths  = [os.path.join(folderpath, name) for name in os.listdir(folderpath)]\n",
    "#all_files = []\n",
    "\n",
    "#for path in filepaths:\n",
    "    #with open(path, 'r') as f:\n",
    "        #file = f.readlines()\n",
    "        #all_files.append(file)"
   ]
  },
  {
   "cell_type": "code",
   "execution_count": 4,
   "id": "ddfa5079",
   "metadata": {},
   "outputs": [],
   "source": [
    "%%time\n",
    "path = \"C:/Users/nazanin/Downloads/trip_mode_choice/trip_mode_choice/\"\n",
    "loc = \"https://beam-outputs.s3.amazonaws.com/pilates-outputs/sfbay-2010-lessrh-20220223/activitysim/year-2010-iteration-2\" \n",
    "all_files = glob.glob(path + \"*raw.csv\")\n",
    "li_mapper = map(lambda filename: pd.read_csv(filename, index_col = None, header = 0), all_files)\n",
    "li2 = list(li_mapper)\n",
    "SFmode_choice_raw = pd.concat(li2, axis = 0, ignore_index=True)"
   ]
  },
  {
   "cell_type": "code",
   "execution_count": 5,
   "id": "c14ae633",
   "metadata": {},
   "outputs": [],
   "source": [
    "%%time\n",
    "path = \"C:/Users/nazanin/Downloads/trip_mode_choice/trip_mode_choice/\"\n",
    "all_files = glob.glob(path + \"*utilities.csv\")\n",
    "li_mapper = map(lambda filename: pd.read_csv(filename, index_col = None, header = 0), all_files)\n",
    "li2 = list(li_mapper)\n",
    "SFmode_choice_utilities = pd.concat(li2, axis = 0, ignore_index=True)"
   ]
  },
  {
   "cell_type": "code",
   "execution_count": 7,
   "id": "5ae3a16a",
   "metadata": {},
   "outputs": [
    {
     "data": {
      "text/plain": [
       "(1856570, 381)"
      ]
     },
     "execution_count": 7,
     "metadata": {},
     "output_type": "execute_result"
    }
   ],
   "source": [
    "SFmode_choice_raw.shape"
   ]
  },
  {
   "cell_type": "code",
   "execution_count": 9,
   "id": "796daf10",
   "metadata": {},
   "outputs": [
    {
     "data": {
      "text/html": [
       "<div>\n",
       "<style scoped>\n",
       "    .dataframe tbody tr th:only-of-type {\n",
       "        vertical-align: middle;\n",
       "    }\n",
       "\n",
       "    .dataframe tbody tr th {\n",
       "        vertical-align: top;\n",
       "    }\n",
       "\n",
       "    .dataframe thead th {\n",
       "        text-align: right;\n",
       "    }\n",
       "</style>\n",
       "<table border=\"1\" class=\"dataframe\">\n",
       "  <thead>\n",
       "    <tr style=\"text-align: right;\">\n",
       "      <th></th>\n",
       "      <th>trip_id</th>\n",
       "      <th>DRIVEALONEFREE</th>\n",
       "      <th>DRIVEALONEPAY</th>\n",
       "      <th>SHARED2FREE</th>\n",
       "      <th>SHARED2PAY</th>\n",
       "      <th>SHARED3FREE</th>\n",
       "      <th>SHARED3PAY</th>\n",
       "      <th>WALK</th>\n",
       "      <th>BIKE</th>\n",
       "      <th>WALK_LOC</th>\n",
       "      <th>...</th>\n",
       "      <th>WALK_HVY</th>\n",
       "      <th>WALK_COM</th>\n",
       "      <th>DRIVE_LOC</th>\n",
       "      <th>DRIVE_LRF</th>\n",
       "      <th>DRIVE_EXP</th>\n",
       "      <th>DRIVE_HVY</th>\n",
       "      <th>DRIVE_COM</th>\n",
       "      <th>TAXI</th>\n",
       "      <th>TNC_SINGLE</th>\n",
       "      <th>TNC_SHARED</th>\n",
       "    </tr>\n",
       "  </thead>\n",
       "  <tbody>\n",
       "    <tr>\n",
       "      <th>299638</th>\n",
       "      <td>1513</td>\n",
       "      <td>-2.054912</td>\n",
       "      <td>-2.084967</td>\n",
       "      <td>-1001.054912</td>\n",
       "      <td>-1001.072086</td>\n",
       "      <td>-1001.054912</td>\n",
       "      <td>-1001.066934</td>\n",
       "      <td>-63.161943</td>\n",
       "      <td>-1018.769214</td>\n",
       "      <td>-1001.125415</td>\n",
       "      <td>...</td>\n",
       "      <td>-1999.511294</td>\n",
       "      <td>-1998.354322</td>\n",
       "      <td>-1000.146692</td>\n",
       "      <td>-1998.401194</td>\n",
       "      <td>-1999.426120</td>\n",
       "      <td>-2000.022017</td>\n",
       "      <td>-1998.401194</td>\n",
       "      <td>-21.419003</td>\n",
       "      <td>-15.372083</td>\n",
       "      <td>-8.268735</td>\n",
       "    </tr>\n",
       "    <tr>\n",
       "      <th>299639</th>\n",
       "      <td>1517</td>\n",
       "      <td>-2.395863</td>\n",
       "      <td>-2.431265</td>\n",
       "      <td>-1001.370169</td>\n",
       "      <td>-1001.390399</td>\n",
       "      <td>-1001.359892</td>\n",
       "      <td>-1001.374053</td>\n",
       "      <td>-66.039530</td>\n",
       "      <td>-1020.208007</td>\n",
       "      <td>-1998.898083</td>\n",
       "      <td>...</td>\n",
       "      <td>-1999.446977</td>\n",
       "      <td>-1998.354322</td>\n",
       "      <td>-1998.401194</td>\n",
       "      <td>-1998.401194</td>\n",
       "      <td>-1998.401194</td>\n",
       "      <td>-1998.401194</td>\n",
       "      <td>-1998.401194</td>\n",
       "      <td>-23.499165</td>\n",
       "      <td>-17.241175</td>\n",
       "      <td>-9.122735</td>\n",
       "    </tr>\n",
       "    <tr>\n",
       "      <th>797744</th>\n",
       "      <td>2889</td>\n",
       "      <td>-1.527632</td>\n",
       "      <td>-1.547731</td>\n",
       "      <td>-1000.527632</td>\n",
       "      <td>-1000.539118</td>\n",
       "      <td>-1000.527632</td>\n",
       "      <td>-1000.535672</td>\n",
       "      <td>-62.748478</td>\n",
       "      <td>-1018.605220</td>\n",
       "      <td>-1000.917267</td>\n",
       "      <td>...</td>\n",
       "      <td>-1999.838886</td>\n",
       "      <td>-1998.365695</td>\n",
       "      <td>-1000.888539</td>\n",
       "      <td>-1998.412567</td>\n",
       "      <td>-2000.140137</td>\n",
       "      <td>-1999.754644</td>\n",
       "      <td>-2001.030107</td>\n",
       "      <td>-17.639342</td>\n",
       "      <td>-11.880123</td>\n",
       "      <td>-6.509505</td>\n",
       "    </tr>\n",
       "    <tr>\n",
       "      <th>797745</th>\n",
       "      <td>2893</td>\n",
       "      <td>-1.899003</td>\n",
       "      <td>-1.928469</td>\n",
       "      <td>-1000.899003</td>\n",
       "      <td>-1000.915841</td>\n",
       "      <td>-1000.899003</td>\n",
       "      <td>-1000.910789</td>\n",
       "      <td>-56.684414</td>\n",
       "      <td>-1015.573185</td>\n",
       "      <td>-1999.017925</td>\n",
       "      <td>...</td>\n",
       "      <td>-1999.098605</td>\n",
       "      <td>-1998.365695</td>\n",
       "      <td>-1998.412567</td>\n",
       "      <td>-1998.412567</td>\n",
       "      <td>-1998.412567</td>\n",
       "      <td>-1998.412567</td>\n",
       "      <td>-1998.412567</td>\n",
       "      <td>-19.453875</td>\n",
       "      <td>-14.237276</td>\n",
       "      <td>-7.745241</td>\n",
       "    </tr>\n",
       "    <tr>\n",
       "      <th>549254</th>\n",
       "      <td>21913</td>\n",
       "      <td>-2.293826</td>\n",
       "      <td>-2.317046</td>\n",
       "      <td>-1002.028426</td>\n",
       "      <td>-1002.041695</td>\n",
       "      <td>-1002.028426</td>\n",
       "      <td>-1002.037714</td>\n",
       "      <td>-41.745345</td>\n",
       "      <td>-1008.105555</td>\n",
       "      <td>-1998.841814</td>\n",
       "      <td>...</td>\n",
       "      <td>-1998.369501</td>\n",
       "      <td>-1998.369501</td>\n",
       "      <td>-1000.200211</td>\n",
       "      <td>-1998.416373</td>\n",
       "      <td>-1999.475132</td>\n",
       "      <td>-2000.339752</td>\n",
       "      <td>-1998.416373</td>\n",
       "      <td>-32.534600</td>\n",
       "      <td>-19.995638</td>\n",
       "      <td>-10.627700</td>\n",
       "    </tr>\n",
       "  </tbody>\n",
       "</table>\n",
       "<p>5 rows × 22 columns</p>\n",
       "</div>"
      ],
      "text/plain": [
       "        trip_id  DRIVEALONEFREE  DRIVEALONEPAY  SHARED2FREE   SHARED2PAY  \\\n",
       "299638     1513       -2.054912      -2.084967 -1001.054912 -1001.072086   \n",
       "299639     1517       -2.395863      -2.431265 -1001.370169 -1001.390399   \n",
       "797744     2889       -1.527632      -1.547731 -1000.527632 -1000.539118   \n",
       "797745     2893       -1.899003      -1.928469 -1000.899003 -1000.915841   \n",
       "549254    21913       -2.293826      -2.317046 -1002.028426 -1002.041695   \n",
       "\n",
       "        SHARED3FREE   SHARED3PAY       WALK         BIKE     WALK_LOC  ...  \\\n",
       "299638 -1001.054912 -1001.066934 -63.161943 -1018.769214 -1001.125415  ...   \n",
       "299639 -1001.359892 -1001.374053 -66.039530 -1020.208007 -1998.898083  ...   \n",
       "797744 -1000.527632 -1000.535672 -62.748478 -1018.605220 -1000.917267  ...   \n",
       "797745 -1000.899003 -1000.910789 -56.684414 -1015.573185 -1999.017925  ...   \n",
       "549254 -1002.028426 -1002.037714 -41.745345 -1008.105555 -1998.841814  ...   \n",
       "\n",
       "           WALK_HVY     WALK_COM    DRIVE_LOC    DRIVE_LRF    DRIVE_EXP  \\\n",
       "299638 -1999.511294 -1998.354322 -1000.146692 -1998.401194 -1999.426120   \n",
       "299639 -1999.446977 -1998.354322 -1998.401194 -1998.401194 -1998.401194   \n",
       "797744 -1999.838886 -1998.365695 -1000.888539 -1998.412567 -2000.140137   \n",
       "797745 -1999.098605 -1998.365695 -1998.412567 -1998.412567 -1998.412567   \n",
       "549254 -1998.369501 -1998.369501 -1000.200211 -1998.416373 -1999.475132   \n",
       "\n",
       "          DRIVE_HVY    DRIVE_COM       TAXI  TNC_SINGLE  TNC_SHARED  \n",
       "299638 -2000.022017 -1998.401194 -21.419003  -15.372083   -8.268735  \n",
       "299639 -1998.401194 -1998.401194 -23.499165  -17.241175   -9.122735  \n",
       "797744 -1999.754644 -2001.030107 -17.639342  -11.880123   -6.509505  \n",
       "797745 -1998.412567 -1998.412567 -19.453875  -14.237276   -7.745241  \n",
       "549254 -2000.339752 -1998.416373 -32.534600  -19.995638  -10.627700  \n",
       "\n",
       "[5 rows x 22 columns]"
      ]
     },
     "execution_count": 9,
     "metadata": {},
     "output_type": "execute_result"
    }
   ],
   "source": [
    "SFmode_choice_utilities.sort_values(by = ['trip_id']).head()"
   ]
  },
  {
   "cell_type": "code",
   "execution_count": 10,
   "id": "df890cde",
   "metadata": {},
   "outputs": [
    {
     "data": {
      "text/html": [
       "<div>\n",
       "<style scoped>\n",
       "    .dataframe tbody tr th:only-of-type {\n",
       "        vertical-align: middle;\n",
       "    }\n",
       "\n",
       "    .dataframe tbody tr th {\n",
       "        vertical-align: top;\n",
       "    }\n",
       "\n",
       "    .dataframe thead th {\n",
       "        text-align: right;\n",
       "    }\n",
       "</style>\n",
       "<table border=\"1\" class=\"dataframe\">\n",
       "  <thead>\n",
       "    <tr style=\"text-align: right;\">\n",
       "      <th></th>\n",
       "      <th>household_id</th>\n",
       "      <th>serialno</th>\n",
       "      <th>VEHICL</th>\n",
       "      <th>income</th>\n",
       "      <th>race_of_head</th>\n",
       "      <th>age_of_head</th>\n",
       "      <th>num_workers</th>\n",
       "      <th>hispanic_status_of_head</th>\n",
       "      <th>tenure</th>\n",
       "      <th>recent_mover</th>\n",
       "      <th>...</th>\n",
       "      <th>hh_work_auto_savings_ratio</th>\n",
       "      <th>num_under16_not_at_school</th>\n",
       "      <th>num_travel_active</th>\n",
       "      <th>num_travel_active_adults</th>\n",
       "      <th>num_travel_active_preschoolers</th>\n",
       "      <th>num_travel_active_children</th>\n",
       "      <th>num_travel_active_non_preschoolers</th>\n",
       "      <th>participates_in_jtf_model</th>\n",
       "      <th>joint_tour_frequency</th>\n",
       "      <th>num_hh_joint_tours</th>\n",
       "    </tr>\n",
       "  </thead>\n",
       "  <tbody>\n",
       "    <tr>\n",
       "      <th>83486</th>\n",
       "      <td>2</td>\n",
       "      <td>2011000751406</td>\n",
       "      <td>1.0</td>\n",
       "      <td>131000.0</td>\n",
       "      <td>1</td>\n",
       "      <td>64</td>\n",
       "      <td>0.0</td>\n",
       "      <td>0</td>\n",
       "      <td>1</td>\n",
       "      <td>0</td>\n",
       "      <td>...</td>\n",
       "      <td>0.0</td>\n",
       "      <td>0</td>\n",
       "      <td>1</td>\n",
       "      <td>1</td>\n",
       "      <td>0</td>\n",
       "      <td>0</td>\n",
       "      <td>1</td>\n",
       "      <td>False</td>\n",
       "      <td>0_tours</td>\n",
       "      <td>0</td>\n",
       "    </tr>\n",
       "    <tr>\n",
       "      <th>163677</th>\n",
       "      <td>11</td>\n",
       "      <td>2010000147268</td>\n",
       "      <td>1.0</td>\n",
       "      <td>120000.0</td>\n",
       "      <td>1</td>\n",
       "      <td>39</td>\n",
       "      <td>1.0</td>\n",
       "      <td>0</td>\n",
       "      <td>2</td>\n",
       "      <td>0</td>\n",
       "      <td>...</td>\n",
       "      <td>1.0</td>\n",
       "      <td>0</td>\n",
       "      <td>1</td>\n",
       "      <td>1</td>\n",
       "      <td>0</td>\n",
       "      <td>0</td>\n",
       "      <td>1</td>\n",
       "      <td>False</td>\n",
       "      <td>0_tours</td>\n",
       "      <td>0</td>\n",
       "    </tr>\n",
       "    <tr>\n",
       "      <th>80190</th>\n",
       "      <td>13</td>\n",
       "      <td>2012001241266</td>\n",
       "      <td>1.0</td>\n",
       "      <td>100000.0</td>\n",
       "      <td>1</td>\n",
       "      <td>62</td>\n",
       "      <td>1.0</td>\n",
       "      <td>0</td>\n",
       "      <td>1</td>\n",
       "      <td>0</td>\n",
       "      <td>...</td>\n",
       "      <td>1.0</td>\n",
       "      <td>0</td>\n",
       "      <td>1</td>\n",
       "      <td>1</td>\n",
       "      <td>0</td>\n",
       "      <td>0</td>\n",
       "      <td>1</td>\n",
       "      <td>False</td>\n",
       "      <td>0_tours</td>\n",
       "      <td>0</td>\n",
       "    </tr>\n",
       "    <tr>\n",
       "      <th>34488</th>\n",
       "      <td>40</td>\n",
       "      <td>2012000687439</td>\n",
       "      <td>1.0</td>\n",
       "      <td>403000.0</td>\n",
       "      <td>1</td>\n",
       "      <td>47</td>\n",
       "      <td>1.0</td>\n",
       "      <td>0</td>\n",
       "      <td>1</td>\n",
       "      <td>0</td>\n",
       "      <td>...</td>\n",
       "      <td>1.0</td>\n",
       "      <td>0</td>\n",
       "      <td>1</td>\n",
       "      <td>1</td>\n",
       "      <td>0</td>\n",
       "      <td>0</td>\n",
       "      <td>1</td>\n",
       "      <td>False</td>\n",
       "      <td>0_tours</td>\n",
       "      <td>0</td>\n",
       "    </tr>\n",
       "    <tr>\n",
       "      <th>56523</th>\n",
       "      <td>63</td>\n",
       "      <td>2009000197014</td>\n",
       "      <td>1.0</td>\n",
       "      <td>58000.0</td>\n",
       "      <td>6</td>\n",
       "      <td>49</td>\n",
       "      <td>1.0</td>\n",
       "      <td>0</td>\n",
       "      <td>2</td>\n",
       "      <td>0</td>\n",
       "      <td>...</td>\n",
       "      <td>1.0</td>\n",
       "      <td>0</td>\n",
       "      <td>1</td>\n",
       "      <td>1</td>\n",
       "      <td>0</td>\n",
       "      <td>0</td>\n",
       "      <td>1</td>\n",
       "      <td>False</td>\n",
       "      <td>0_tours</td>\n",
       "      <td>0</td>\n",
       "    </tr>\n",
       "  </tbody>\n",
       "</table>\n",
       "<p>5 rows × 60 columns</p>\n",
       "</div>"
      ],
      "text/plain": [
       "        household_id       serialno  VEHICL    income  race_of_head  \\\n",
       "83486              2  2011000751406     1.0  131000.0             1   \n",
       "163677            11  2010000147268     1.0  120000.0             1   \n",
       "80190             13  2012001241266     1.0  100000.0             1   \n",
       "34488             40  2012000687439     1.0  403000.0             1   \n",
       "56523             63  2009000197014     1.0   58000.0             6   \n",
       "\n",
       "        age_of_head  num_workers  hispanic_status_of_head  tenure  \\\n",
       "83486            64          0.0                        0       1   \n",
       "163677           39          1.0                        0       2   \n",
       "80190            62          1.0                        0       1   \n",
       "34488            47          1.0                        0       1   \n",
       "56523            49          1.0                        0       2   \n",
       "\n",
       "        recent_mover  ... hh_work_auto_savings_ratio  \\\n",
       "83486              0  ...                        0.0   \n",
       "163677             0  ...                        1.0   \n",
       "80190              0  ...                        1.0   \n",
       "34488              0  ...                        1.0   \n",
       "56523              0  ...                        1.0   \n",
       "\n",
       "       num_under16_not_at_school num_travel_active num_travel_active_adults  \\\n",
       "83486                          0                 1                        1   \n",
       "163677                         0                 1                        1   \n",
       "80190                          0                 1                        1   \n",
       "34488                          0                 1                        1   \n",
       "56523                          0                 1                        1   \n",
       "\n",
       "       num_travel_active_preschoolers num_travel_active_children  \\\n",
       "83486                               0                          0   \n",
       "163677                              0                          0   \n",
       "80190                               0                          0   \n",
       "34488                               0                          0   \n",
       "56523                               0                          0   \n",
       "\n",
       "       num_travel_active_non_preschoolers  participates_in_jtf_model  \\\n",
       "83486                                   1                      False   \n",
       "163677                                  1                      False   \n",
       "80190                                   1                      False   \n",
       "34488                                   1                      False   \n",
       "56523                                   1                      False   \n",
       "\n",
       "       joint_tour_frequency num_hh_joint_tours  \n",
       "83486               0_tours                  0  \n",
       "163677              0_tours                  0  \n",
       "80190               0_tours                  0  \n",
       "34488               0_tours                  0  \n",
       "56523               0_tours                  0  \n",
       "\n",
       "[5 rows x 60 columns]"
      ]
     },
     "execution_count": 10,
     "metadata": {},
     "output_type": "execute_result"
    }
   ],
   "source": [
    "households.sort_values(by=['household_id']).head()"
   ]
  },
  {
   "cell_type": "code",
   "execution_count": null,
   "id": "3343b755",
   "metadata": {},
   "outputs": [],
   "source": [
    "%%time\n",
    "locBeam = \"https://beam-outputs.s3.amazonaws.com/pilates-outputs/sfbay-2010-lessrh-20220223/beam/year-2010-iteration-2/ITERS/it.0/\"\n",
    "eventsSF = pd.read_csv(locBeam + '0.events.csv.gz', compression = 'gzip')"
   ]
  },
  {
   "cell_type": "code",
   "execution_count": null,
   "id": "9f489176",
   "metadata": {},
   "outputs": [],
   "source": [
    "plansSF = pd.read_csv(locBeam + '0.plans.csv.gz', compression = 'gzip')"
   ]
  },
  {
   "cell_type": "code",
   "execution_count": null,
   "id": "521f611a",
   "metadata": {},
   "outputs": [],
   "source": [
    "#Show all columns and rows\n",
    "pd.options.display.max_columns = None\n",
    "pd.options.display.max_rows = None"
   ]
  },
  {
   "cell_type": "code",
   "execution_count": null,
   "id": "99e5b60c",
   "metadata": {},
   "outputs": [],
   "source": [
    "#Rename mode column\n",
    "eventsSF.rename(columns={\"mode\":\"modeType\"}, inplace=True)  "
   ]
  },
  {
   "cell_type": "code",
   "execution_count": null,
   "id": "d1bfa1ea",
   "metadata": {},
   "outputs": [],
   "source": [
    "#Replace \"Work\" with \"work\" in actType column\n",
    "eventsSF[\"actType\"].replace({\"Work\": \"work\"}, inplace=True)"
   ]
  },
  {
   "cell_type": "code",
   "execution_count": null,
   "id": "dae79d61",
   "metadata": {},
   "outputs": [],
   "source": []
  },
  {
   "cell_type": "code",
   "execution_count": null,
   "id": "0e821eee",
   "metadata": {},
   "outputs": [],
   "source": []
  },
  {
   "cell_type": "code",
   "execution_count": null,
   "id": "c0d1adf4",
   "metadata": {},
   "outputs": [],
   "source": [
    "#Adding the IDMerged Column\n",
    "eventsSF['UniqueID'] = eventsSF['person']\n",
    "eventsSF['personID'] = np.where(eventsSF['person'].isin(eventsSF['driver'])\n",
    "                     , eventsSF['person'], np.nan)\n",
    "eventsSF['driverID'] = np.where(eventsSF['driver'].isin(eventsSF['person'])\n",
    "                     , eventsSF['driver'], np.nan)"
   ]
  },
  {
   "cell_type": "code",
   "execution_count": null,
   "id": "7dbd8c3a",
   "metadata": {},
   "outputs": [],
   "source": [
    "eventsSF['IDMerged'] = eventsSF['personID'].combine_first(eventsSF['driverID'])\n",
    "eventsSF['IDMerged'] = eventsSF['UniqueID'].combine_first(eventsSF['IDMerged'])"
   ]
  },
  {
   "cell_type": "code",
   "execution_count": null,
   "id": "c32ded58",
   "metadata": {},
   "outputs": [],
   "source": [
    "eventsSF = eventsSF.drop(['personID','driverID','UniqueID'], axis=1) "
   ]
  },
  {
   "cell_type": "code",
   "execution_count": null,
   "id": "17d6b7e1",
   "metadata": {},
   "outputs": [],
   "source": [
    "%%time\n",
    "dfRiders = eventsSF['riders'].str.split(':',expand=True)"
   ]
  },
  {
   "cell_type": "code",
   "execution_count": null,
   "id": "83e7a2dd",
   "metadata": {},
   "outputs": [],
   "source": [
    "riderStartIndex = len(eventsSF.columns)"
   ]
  },
  {
   "cell_type": "code",
   "execution_count": null,
   "id": "dfb42f37",
   "metadata": {},
   "outputs": [],
   "source": [
    "eventsSF = pd.concat([eventsSF, dfRiders.reindex(eventsSF.index)], axis=1)"
   ]
  },
  {
   "cell_type": "code",
   "execution_count": null,
   "id": "6bda04b2",
   "metadata": {},
   "outputs": [],
   "source": [
    "%%time\n",
    "NaN = np.nan\n",
    "eventsSF['ID'] = NaN \n",
    "    \n",
    "for col in eventsSF.columns[riderStartIndex:-2]:\n",
    "    eventsSF['riderID'] = np.where(eventsSF[col].isin(eventsSF[\"IDMerged\"]), eventsSF[col], np.nan)\n",
    "    eventsSF['ID'] = eventsSF['ID'].combine_first(eventsSF['riderID'])"
   ]
  },
  {
   "cell_type": "code",
   "execution_count": null,
   "id": "fe0e41ea",
   "metadata": {},
   "outputs": [],
   "source": [
    "eventsSF['IDMerged'] = eventsSF['IDMerged'].combine_first(eventsSF['ID'])"
   ]
  },
  {
   "cell_type": "code",
   "execution_count": null,
   "id": "dcc93c57",
   "metadata": {},
   "outputs": [],
   "source": [
    "eventsSF = eventsSF.drop(columns=eventsSF.columns[riderStartIndex:])"
   ]
  },
  {
   "cell_type": "code",
   "execution_count": null,
   "id": "1bd5ba2d",
   "metadata": {},
   "outputs": [],
   "source": [
    "IDnan = eventsSF[eventsSF['IDMerged'].isna()]\n",
    "IDnan.head()"
   ]
  },
  {
   "cell_type": "code",
   "execution_count": null,
   "id": "4b94eaab",
   "metadata": {},
   "outputs": [],
   "source": [
    "#To select just the numeric MergedID\n",
    "#eventsSF.loc[eventsSF.IDMerged.str.isnumeric()]\n",
    "eventsSFnum = eventsSF[pd.to_numeric(eventsSF.IDMerged, errors='coerce').notnull()].sort_values(['IDMerged','time']).reset_index(drop=True)"
   ]
  },
  {
   "cell_type": "code",
   "execution_count": null,
   "id": "d5768bef",
   "metadata": {},
   "outputs": [],
   "source": [
    "eventsSFnum['actEndT'] = np.where(eventsSFnum['type']=='actend'\n",
    "                     , eventsSFnum['time'], np.nan)"
   ]
  },
  {
   "cell_type": "code",
   "execution_count": null,
   "id": "3a21e269",
   "metadata": {},
   "outputs": [],
   "source": [
    "eventsSFnum['actStartT'] = np.where(eventsSFnum['type']=='actstart'\n",
    "                     , eventsSFnum['time'], np.nan)    "
   ]
  },
  {
   "cell_type": "code",
   "execution_count": null,
   "id": "eca9d888",
   "metadata": {},
   "outputs": [],
   "source": [
    "eventsSFnum['PTduration'] = np.where(eventsSFnum['type']=='PathTraversal'\n",
    "                     , eventsSFnum['arrivalTime'] - eventsSFnum['departureTime'], np.nan)"
   ]
  },
  {
   "cell_type": "code",
   "execution_count": null,
   "id": "31bb0f94",
   "metadata": {},
   "outputs": [],
   "source": [
    "eventsSFnum[\"tripIndex\"] = eventsSFnum.groupby(\"IDMerged\")[\"tourIndex\"].rank(method=\"first\", ascending=True)\n",
    "eventsSFnum[\"tripIndex\"] = eventsSFnum.tripIndex.fillna(method='ffill')"
   ]
  },
  {
   "cell_type": "code",
   "execution_count": null,
   "id": "84962bab",
   "metadata": {},
   "outputs": [],
   "source": [
    "eventsSFnum[\"currentTourModeFillna\"] = eventsSFnum.currentTourMode.fillna(method='ffill')#.astype('object')"
   ]
  },
  {
   "cell_type": "code",
   "execution_count": null,
   "id": "468448ae",
   "metadata": {},
   "outputs": [],
   "source": [
    "#eventsSFnum[\"IDMerged\"] = pd.to_numeric(eventsSFnum[\"IDMerged\"])"
   ]
  },
  {
   "cell_type": "code",
   "execution_count": null,
   "id": "6cdd969d",
   "metadata": {},
   "outputs": [],
   "source": [
    "eventsSFtrips = pd.pivot_table(\n",
    "   eventsSFnum,\n",
    "   index=['IDMerged','tripIndex','currentTourModeFillna'],\n",
    "   aggfunc={'actStartT': np.sum, 'actEndT': np.sum, 'PTduration': np.sum, 'primaryFuel': np.sum, 'netCost':np.sum}).reset_index()"
   ]
  },
  {
   "cell_type": "code",
   "execution_count": null,
   "id": "297b03f2",
   "metadata": {},
   "outputs": [],
   "source": [
    "eventsSFtrips.head(47)"
   ]
  },
  {
   "cell_type": "code",
   "execution_count": null,
   "id": "e6b7d9a6",
   "metadata": {},
   "outputs": [],
   "source": [
    "eventsSFnum.tail(100)"
   ]
  },
  {
   "cell_type": "code",
   "execution_count": null,
   "id": "bf1e2bba",
   "metadata": {},
   "outputs": [],
   "source": [
    "eventsSFnum[eventsSFnum['IDMerged']== 6808767].sort_values(by=['tripIndex'])"
   ]
  },
  {
   "cell_type": "code",
   "execution_count": null,
   "id": "f0aba945",
   "metadata": {},
   "outputs": [],
   "source": [
    "trips[trips['person_id']==4]"
   ]
  },
  {
   "cell_type": "code",
   "execution_count": null,
   "id": "a07573cd",
   "metadata": {},
   "outputs": [],
   "source": [
    "trips[trips['person_id']==8]"
   ]
  },
  {
   "cell_type": "code",
   "execution_count": null,
   "id": "165c52f7",
   "metadata": {},
   "outputs": [],
   "source": [
    "trips[trips['person_id']==6808767]"
   ]
  },
  {
   "cell_type": "code",
   "execution_count": null,
   "id": "b1cf6e04",
   "metadata": {},
   "outputs": [],
   "source": [
    "trips[trips['person_id']==165].sort_values(by = ['depart'])"
   ]
  },
  {
   "cell_type": "code",
   "execution_count": null,
   "id": "66616495",
   "metadata": {},
   "outputs": [],
   "source": []
  }
 ],
 "metadata": {
  "kernelspec": {
   "display_name": "Python 3 (ipykernel)",
   "language": "python",
   "name": "python3"
  },
  "language_info": {
   "codemirror_mode": {
    "name": "ipython",
    "version": 3
   },
   "file_extension": ".py",
   "mimetype": "text/x-python",
   "name": "python",
   "nbconvert_exporter": "python",
   "pygments_lexer": "ipython3",
   "version": "3.9.7"
  }
 },
 "nbformat": 4,
 "nbformat_minor": 5
}
