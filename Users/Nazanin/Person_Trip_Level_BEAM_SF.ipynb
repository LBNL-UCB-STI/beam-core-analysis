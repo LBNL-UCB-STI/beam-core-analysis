{
 "cells": [
  {
   "cell_type": "code",
   "execution_count": 1,
   "id": "f55cd92c",
   "metadata": {},
   "outputs": [],
   "source": [
    "import pandas as pd\n",
    "import numpy as np\n",
    "import geopandas as gpd"
   ]
  },
  {
   "cell_type": "markdown",
   "id": "7bb956bf",
   "metadata": {},
   "source": [
    "#### SF 2018"
   ]
  },
  {
   "cell_type": "code",
   "execution_count": 2,
   "id": "423ab3c4",
   "metadata": {},
   "outputs": [],
   "source": [
    "# File location on S3 (The address should be updated depending on the version of the code using)\n",
    "loc_2018_baseline = \"https://beam-outputs.s3.amazonaws.com/pilates-outputs/sfbay-base-20220409/beam/year-2018-iteration-5/ITERS/it.0/\"\n",
    "loc_2018_transitFreq05 = \"https://beam-outputs.s3.amazonaws.com/pilates-outputs/sfbay-transit_frequencies_0.5-20220228/beam/year-2018-iteration-5/ITERS/it.0/\"\n",
    "loc_2018_transitFreq1p5 = \"https://beam-outputs.s3.amazonaws.com/pilates-outputs/sfbay-transit_frequencies_1.5-20220228/beam/year-2018-iteration-5/ITERS/it.0/\"\n",
    "loc_2018_transitFreq2 = \"https://beam-outputs.s3.amazonaws.com/pilates-outputs/sfbay-transit_frequencies_2.0-20220229/beam/year-2018-iteration-5/ITERS/it.0/\"\n",
    "loc_2018_rhFleetsz0125 = \"https://beam-outputs.s3.amazonaws.com/pilates-outputs/sfbay-RH_fleetsz_0.125-20220408/beam/year-2018-iteration-5/ITERS/it.0/\"\n",
    "loc_2018_rhFleetsz025 = \"https://beam-outputs.s3.amazonaws.com/pilates-outputs/sfbay-RH_fleetsz_0.25-20220408/beam/year-2018-iteration-5/ITERS/it.0/\"\n",
    "loc_2018_rhFleetsz05 = \"https://beam-outputs.s3.amazonaws.com/pilates-outputs/sfbay-RH_fleetsz_0.5-20220408/beam/year-2018-iteration-5/ITERS/it.0/\"\n",
    "loc_2018_rhFleetsz150 = \"https://beam-outputs.s3.amazonaws.com/pilates-outputs/sfbay-RH_fleetsz_1.5-20220328/beam/year-2018-iteration-5/ITERS/it.0/\"\n",
    "loc_2018_rhFleetsz175 = \"https://beam-outputs.s3.amazonaws.com/pilates-outputs/sfbay-RH_fleetsz_1.75-20220408/beam/year-2018-iteration-5/ITERS/it.0/\""
   ]
  },
  {
   "cell_type": "markdown",
   "id": "8ce8ada6",
   "metadata": {},
   "source": [
    "#### SF 2019"
   ]
  },
  {
   "cell_type": "code",
   "execution_count": 3,
   "id": "2f3472cf",
   "metadata": {},
   "outputs": [],
   "source": [
    "loc_2019_transCap05 = \"https://beam-outputs.s3.amazonaws.com/pilates-outputs/sfbay-transit_capacity_0.5-20220329/beam/year-2019-iteration-5/ITERS/it.0/\""
   ]
  },
  {
   "cell_type": "code",
   "execution_count": 4,
   "id": "39226076",
   "metadata": {},
   "outputs": [
    {
     "name": "stderr",
     "output_type": "stream",
     "text": [
      "<timed exec>:20: DtypeWarning: Columns (5,7,12,13,14,15,17,23,29,32,44,53,55,56) have mixed types. Specify dtype option on import or set low_memory=False.\n"
     ]
    },
    {
     "name": "stdout",
     "output_type": "stream",
     "text": [
      "Wall time: 3min 46s\n"
     ]
    }
   ],
   "source": [
    "%%time\n",
    "# Reading the events file\n",
    "dtypes = {\n",
    "    \"time\": \"float32\",\n",
    "    \"type\": \"category\",\n",
    "    \"legMode\": \"category\",\n",
    "    \"actType\": \"category\", \n",
    "    \"primaryFuelLevel\": \"float64\",\n",
    "    \"legMode\": \"category\",\n",
    "    \"chargingPointType\":\"category\",\n",
    "    \"pricingModel\":\"category\",\n",
    "    \"parkingType\":\"category\",\n",
    "    \"mode\":\"category\",\n",
    "    \"personalVehicleAvailable\": \"category\",\n",
    "    \"person\": \"object\",\n",
    "    \"driver\": \"object\",\n",
    "    \"riders\": \"object\"\n",
    "}\n",
    "\n",
    "# Use list comprehension to remove the unwanted column in **usecol**\n",
    "eventsSF = pd.read_csv(loc_2018_baseline + '0.events.csv.gz', compression = 'gzip', dtype = dtypes)"
   ]
  },
  {
   "cell_type": "code",
   "execution_count": 5,
   "id": "e44a5a90",
   "metadata": {},
   "outputs": [],
   "source": [
    "# Show all columns and rows\n",
    "pd.options.display.max_columns = None\n",
    "pd.options.display.max_rows = None"
   ]
  },
  {
   "cell_type": "code",
   "execution_count": 6,
   "id": "c33f5570",
   "metadata": {},
   "outputs": [],
   "source": [
    "eventsSF['scenario'] = \"baseline\"\n",
    "eventsSF['year'] = '2018'"
   ]
  },
  {
   "cell_type": "code",
   "execution_count": 7,
   "id": "2fbd0c93",
   "metadata": {},
   "outputs": [],
   "source": [
    "# Rename the \"mode\" column\n",
    "eventsSF.rename(columns={\"mode\":\"modeBEAM\"}, inplace=True) \n",
    "# Replace \"Work\" with \"work\" in the \"actType\" column\n",
    "eventsSF[\"actType\"].replace({\"Work\": \"work\"}, inplace=True)"
   ]
  },
  {
   "cell_type": "code",
   "execution_count": 8,
   "id": "2075bac6",
   "metadata": {},
   "outputs": [],
   "source": [
    "eventsSFCopy = eventsSF.copy()"
   ]
  },
  {
   "cell_type": "code",
   "execution_count": 9,
   "id": "15504d2b",
   "metadata": {},
   "outputs": [],
   "source": [
    "# deadhead = eventsSF[eventsSF.person.str.contains(\"Agent\", na=False)].reset_index(drop=True)\n",
    "# When there are no riders. Driver and person are not numbers, but include \"Agent\""
   ]
  },
  {
   "cell_type": "code",
   "execution_count": 9,
   "id": "f2d74acd",
   "metadata": {},
   "outputs": [],
   "source": [
    "# Remove person = TransitDriver or RidehailDriver because there are no agent information in these rows\n",
    "eventsSF = eventsSF[~eventsSF.person.str.contains(\"Agent\", na=False)].reset_index(drop=True)"
   ]
  },
  {
   "cell_type": "code",
   "execution_count": 10,
   "id": "d64b6a6f",
   "metadata": {},
   "outputs": [],
   "source": [
    "# shift column 'person' to first position\n",
    "first_column = eventsSF.pop('person')\n",
    "second_column = eventsSF.pop('driver')\n",
    "third_column = eventsSF.pop('riders')\n",
    "# insert column using insert(position,column_name,first_column) function\n",
    "eventsSF.insert(0, 'person', first_column)\n",
    "eventsSF.insert(1, 'driver', second_column)\n",
    "eventsSF.insert(2, 'riders', third_column)"
   ]
  },
  {
   "cell_type": "code",
   "execution_count": 11,
   "id": "77e7695a",
   "metadata": {},
   "outputs": [],
   "source": [
    "# Adding the IDMerged Column\n",
    "eventsSF['UniqueID'] = eventsSF['person'] #make a copy of the person column\n",
    "eventsSF['personID'] = np.where(eventsSF['person'].isin(eventsSF['driver']), eventsSF['person'], np.nan) \n",
    "eventsSF['driverID'] = np.where(eventsSF['driver'].isin(eventsSF['person']), eventsSF['driver'], np.nan)"
   ]
  },
  {
   "cell_type": "code",
   "execution_count": 12,
   "id": "a9f2b0af",
   "metadata": {},
   "outputs": [],
   "source": [
    "# Merging person and driver ids in one column\n",
    "eventsSF['IDMerged'] = eventsSF['personID'].combine_first(eventsSF['driverID'])\n",
    "eventsSF['IDMerged'] = eventsSF['UniqueID'].combine_first(eventsSF['IDMerged'])"
   ]
  },
  {
   "cell_type": "code",
   "execution_count": 13,
   "id": "70ccea79",
   "metadata": {},
   "outputs": [],
   "source": [
    "# Dropping unused columns\n",
    "eventsSF = eventsSF.drop(['personID','driverID','UniqueID'], axis=1) "
   ]
  },
  {
   "cell_type": "code",
   "execution_count": 14,
   "id": "2f6d5d3d",
   "metadata": {},
   "outputs": [],
   "source": [
    "# Shift column 'IDMerged' to first position\n",
    "first_column = eventsSF.pop('IDMerged')\n",
    "# Insert column using insert(position,column_name,first_column) function\n",
    "eventsSF.insert(0, 'IDMerged', first_column)"
   ]
  },
  {
   "cell_type": "code",
   "execution_count": 15,
   "id": "3dffe8cf",
   "metadata": {},
   "outputs": [
    {
     "name": "stdout",
     "output_type": "stream",
     "text": [
      "Wall time: 1min 48s\n"
     ]
    }
   ],
   "source": [
    "%%time\n",
    "# Split the \"riders' column and replicated rows for every rider\n",
    "eventsSF['riders'] = eventsSF['riders'].str.split(':')\n",
    "eventsSF = eventsSF.explode('riders')"
   ]
  },
  {
   "cell_type": "code",
   "execution_count": 16,
   "id": "cad273bc",
   "metadata": {},
   "outputs": [],
   "source": [
    "# Combine riderID with IDMerged\n",
    "eventsSF['riderID'] = np.where(eventsSF['riders'].isin(eventsSF['person']), eventsSF['riders'], np.nan)\n",
    "eventsSF['IDMerged'] = eventsSF['riderID'].combine_first(eventsSF['IDMerged'])"
   ]
  },
  {
   "cell_type": "code",
   "execution_count": 17,
   "id": "65de33c2",
   "metadata": {},
   "outputs": [],
   "source": [
    "# Dropping unused columns\n",
    "eventsSF = eventsSF.drop(['riderID'], axis=1) "
   ]
  },
  {
   "cell_type": "code",
   "execution_count": 18,
   "id": "d8a62eb1",
   "metadata": {},
   "outputs": [],
   "source": [
    "# Remove driver = TransitDriver or RidehailDriver for IDMerged = NAN because there are no agent information in these rows \n",
    "eventsSF = eventsSF[~((eventsSF.driver.str.contains(\"Agent\", na=False))&(eventsSF.IDMerged.isna()))].reset_index(drop=True)"
   ]
  },
  {
   "cell_type": "code",
   "execution_count": 19,
   "id": "60db4199",
   "metadata": {
    "scrolled": true
   },
   "outputs": [
    {
     "data": {
      "text/plain": [
       "(3380, 65)"
      ]
     },
     "execution_count": 19,
     "metadata": {},
     "output_type": "execute_result"
    }
   ],
   "source": [
    "IDnan = eventsSF[eventsSF['IDMerged'].isna()]\n",
    "IDnan.shape"
   ]
  },
  {
   "cell_type": "code",
   "execution_count": 20,
   "id": "994ab676",
   "metadata": {},
   "outputs": [
    {
     "name": "stdout",
     "output_type": "stream",
     "text": [
      "Wall time: 4min 29s\n"
     ]
    }
   ],
   "source": [
    "%%time\n",
    "# Filling NANs in ID related to charging events\n",
    "eventsSF[\"chargeID\"] = eventsSF.groupby('vehicle')['IDMerged'].transform(lambda x: x.ffill().bfill())"
   ]
  },
  {
   "cell_type": "code",
   "execution_count": 21,
   "id": "0165322c",
   "metadata": {},
   "outputs": [],
   "source": [
    "# Combining chargeID with IDMerged so no NANs anymore\n",
    "eventsSF['IDMerged'] = eventsSF['chargeID'].combine_first(eventsSF['IDMerged'])"
   ]
  },
  {
   "cell_type": "code",
   "execution_count": 22,
   "id": "525d0231",
   "metadata": {},
   "outputs": [
    {
     "data": {
      "text/plain": [
       "(0, 66)"
      ]
     },
     "execution_count": 22,
     "metadata": {},
     "output_type": "execute_result"
    }
   ],
   "source": [
    "IDnan = eventsSF[eventsSF['IDMerged'].isna()]\n",
    "IDnan.shape"
   ]
  },
  {
   "cell_type": "code",
   "execution_count": 23,
   "id": "dff0f0d9",
   "metadata": {},
   "outputs": [],
   "source": [
    "# Dropping unused columns\n",
    "eventsSF = eventsSF.drop(['chargeID'], axis=1) "
   ]
  },
  {
   "cell_type": "code",
   "execution_count": 24,
   "id": "b819d698",
   "metadata": {},
   "outputs": [
    {
     "name": "stdout",
     "output_type": "stream",
     "text": [
      "['hov2_teleportation', nan, 'car', 'car_hov2', 'walk', 'bike', 'hov3_teleportation', 'car_hov3', 'walk_transit', 'ride_hail', 'ride_hail_pooled', 'drive_transit', 'ride_hail_transit', 'bike_transit']\n"
     ]
    }
   ],
   "source": [
    "print(eventsSF.currentTourMode.unique().tolist())"
   ]
  },
  {
   "cell_type": "code",
   "execution_count": 25,
   "id": "538ab648",
   "metadata": {},
   "outputs": [
    {
     "name": "stdout",
     "output_type": "stream",
     "text": [
      "['hov2_teleportation', nan, 'car', 'walk', 'car_hov2', 'bike', 'hov3_teleportation', 'car_hov3', 'walk_transit', 'ride_hail', 'ride_hail_pooled', 'drive_transit', 'ride_hail_transit', 'bus', 'tram', 'subway', 'rail', 'cable_car', 'bike_transit']\n"
     ]
    }
   ],
   "source": [
    "print(eventsSF.modeBEAM.unique().tolist())"
   ]
  },
  {
   "cell_type": "code",
   "execution_count": 26,
   "id": "3d13d123",
   "metadata": {},
   "outputs": [
    {
     "name": "stdout",
     "output_type": "stream",
     "text": [
      "['ModeChoice', 'actend', 'departure', 'TeleportationEvent', 'arrival', 'actstart', 'PersonEntersVehicle', 'PathTraversal', 'LeavingParkingEvent', 'ParkingEvent', 'PersonCost', 'PersonLeavesVehicle', 'ReserveRideHail', 'Replanning', 'ChargingPlugInEvent', 'RefuelSessionEvent', 'ChargingPlugOutEvent']\n"
     ]
    }
   ],
   "source": [
    "print(eventsSF.type.unique().tolist())"
   ]
  },
  {
   "cell_type": "code",
   "execution_count": 27,
   "id": "ad36c06d",
   "metadata": {},
   "outputs": [
    {
     "name": "stdout",
     "output_type": "stream",
     "text": [
      "Wall time: 18.5 s\n"
     ]
    }
   ],
   "source": [
    "%%time\n",
    "# Change the IDMerged column type to numeric\n",
    "eventsSF[\"IDMerged\"] = pd.to_numeric(eventsSF.IDMerged)"
   ]
  },
  {
   "cell_type": "code",
   "execution_count": 28,
   "id": "983217d8",
   "metadata": {},
   "outputs": [],
   "source": [
    "# Sort by IDMerged and time columns\n",
    "eventsSF = eventsSF.sort_values(['IDMerged','time']).reset_index(drop=True)"
   ]
  },
  {
   "cell_type": "code",
   "execution_count": 29,
   "id": "2db653ae",
   "metadata": {},
   "outputs": [],
   "source": [
    "# We assume that the number of passengers is 1 for ride_hail_pooled\n",
    "eventsSF['modeBEAM_rh'] = np.where(eventsSF.driver.str.contains(\"rideHailAgent\", na=False), 'ride_hail' , eventsSF['modeBEAM'])"
   ]
  },
  {
   "cell_type": "code",
   "execution_count": 30,
   "id": "bd4c6384",
   "metadata": {},
   "outputs": [],
   "source": [
    "# Adding teleportation mode to the type = TeleportationEvent row \n",
    "eventsSF[\"modeBEAM_rh\"] = np.where(eventsSF['type']=='TeleportationEvent', eventsSF.modeBEAM_rh.fillna(method='ffill'), eventsSF[\"modeBEAM_rh\"])"
   ]
  },
  {
   "cell_type": "code",
   "execution_count": 31,
   "id": "4e1ba837",
   "metadata": {},
   "outputs": [],
   "source": [
    "eventsSF['modeBEAM_rh_pooled'] = np.where((eventsSF['type'] == 'PersonCost') & (eventsSF['modeBEAM'] == 'ride_hail_pooled'), 'ride_hail_pooled', np.nan)"
   ]
  },
  {
   "cell_type": "code",
   "execution_count": 32,
   "id": "3339c5df",
   "metadata": {},
   "outputs": [],
   "source": [
    "eventsSF['modeBEAM_rh_ride_hail_transit'] = np.where((eventsSF['type'] == 'PersonCost') & (eventsSF['modeBEAM'] == 'ride_hail_transit'), 'ride_hail_transit', np.nan)"
   ]
  },
  {
   "cell_type": "code",
   "execution_count": 33,
   "id": "e1eb832e",
   "metadata": {},
   "outputs": [],
   "source": [
    "eventsSF['modeBEAM_rh_pooled'] = eventsSF['modeBEAM_rh_pooled'].shift(+1)"
   ]
  },
  {
   "cell_type": "code",
   "execution_count": 34,
   "id": "92e73beb",
   "metadata": {},
   "outputs": [],
   "source": [
    "eventsSF['modeBEAM_rh_ride_hail_transit'] = eventsSF['modeBEAM_rh_ride_hail_transit'].shift(+1)"
   ]
  },
  {
   "cell_type": "code",
   "execution_count": 35,
   "id": "120a46e0",
   "metadata": {},
   "outputs": [],
   "source": [
    "eventsSF['modeBEAM_rh'] = np.where((eventsSF['type'] == 'PathTraversal') & (eventsSF['modeBEAM'] == 'car') & (eventsSF['driver'].str.contains(\"rideHailAgent\", na=False)) & (eventsSF['modeBEAM_rh_pooled'] != 'nan'), eventsSF['modeBEAM_rh_pooled'], eventsSF['modeBEAM_rh'])"
   ]
  },
  {
   "cell_type": "code",
   "execution_count": 36,
   "id": "99d82b22",
   "metadata": {},
   "outputs": [],
   "source": [
    "# We don't know if ridehail_transit is ride_hail or ride_hail_pooled\n",
    "eventsSF['modeBEAM_rh'] = np.where((eventsSF['type'] == 'PathTraversal') & (eventsSF['modeBEAM'] == 'car') & (eventsSF['driver'].str.contains(\"rideHailAgent\", na=False)) & (eventsSF['modeBEAM_rh_ride_hail_transit'] != 'nan'), eventsSF['modeBEAM_rh_ride_hail_transit'], eventsSF['modeBEAM_rh'])"
   ]
  },
  {
   "cell_type": "code",
   "execution_count": 37,
   "id": "3db04d3f",
   "metadata": {},
   "outputs": [],
   "source": [
    "# Dropping the temporary columns\n",
    "eventsSF = eventsSF.drop(['modeBEAM_rh_pooled'], axis=1)\n",
    "eventsSF = eventsSF.drop(['modeBEAM_rh_ride_hail_transit'], axis=1)"
   ]
  },
  {
   "cell_type": "markdown",
   "id": "cb6f3a97",
   "metadata": {},
   "source": [
    "#### Adding census blocks"
   ]
  },
  {
   "cell_type": "code",
   "execution_count": 73,
   "id": "fdaeafcc",
   "metadata": {},
   "outputs": [],
   "source": [
    "def addGeometryIdToDataFrame(df, gdf, xcol, ycol, idColumn=\"geometry\", df_geom='epsg:4326'):\n",
    "    gdf_data = gpd.GeoDataFrame(df, geometry=gpd.points_from_xy(df[xcol], df[ycol]))\n",
    "    gdf_data.crs = {'init': df_geom}\n",
    "    joined = gpd.sjoin(gdf_data.to_crs('epsg:26910'), gdf.to_crs('epsg:26910'))\n",
    "    gdf_data = gdf_data.merge(joined['blkgrpid'], left_index=True, right_index=True, how=\"left\")\n",
    "    gdf_data.rename(columns={'blkgrpid': idColumn}, inplace=True)\n",
    "    df = pd.DataFrame(gdf_data.drop(columns='geometry'))\n",
    "    df.drop(columns=[xcol, ycol], inplace=True)\n",
    "    return df.loc[~df.index.duplicated(keep='first'), :]"
   ]
  },
  {
   "cell_type": "code",
   "execution_count": 74,
   "id": "411a779f",
   "metadata": {},
   "outputs": [],
   "source": [
    "BGs = gpd.read_file('C:/Shared-Work/Data/Scenario_2010_shp/641aa0d4-ce5b-4a81-9c30-8790c4ab8cfb202047-1-wkkklf.j5ouj.shp')"
   ]
  },
  {
   "cell_type": "code",
   "execution_count": 75,
   "id": "fcc7abc2",
   "metadata": {},
   "outputs": [
    {
     "name": "stderr",
     "output_type": "stream",
     "text": [
      "C:\\Users\\nazanin\\.conda\\envs\\geo_env\\lib\\site-packages\\pyproj\\crs\\crs.py:53: FutureWarning: '+init=<authority>:<code>' syntax is deprecated. '<authority>:<code>' is the preferred initialization method. When making the change, be mindful of axis order changes: https://pyproj4.github.io/pyproj/stable/gotchas.html#axis-order-changes-in-proj-6\n",
      "  return _prepare_from_string(\" \".join(pjargs))\n"
     ]
    },
    {
     "name": "stdout",
     "output_type": "stream",
     "text": [
      "Wall time: 1h 2min 23s\n"
     ]
    }
   ],
   "source": [
    "%%time\n",
    "eventsSF = addGeometryIdToDataFrame(eventsSF, BGs, 'startX', 'startY', 'startBlockGroup')"
   ]
  },
  {
   "cell_type": "code",
   "execution_count": 76,
   "id": "67ef4693",
   "metadata": {},
   "outputs": [
    {
     "data": {
      "text/html": [
       "<div>\n",
       "<style scoped>\n",
       "    .dataframe tbody tr th:only-of-type {\n",
       "        vertical-align: middle;\n",
       "    }\n",
       "\n",
       "    .dataframe tbody tr th {\n",
       "        vertical-align: top;\n",
       "    }\n",
       "\n",
       "    .dataframe thead th {\n",
       "        text-align: right;\n",
       "    }\n",
       "</style>\n",
       "<table border=\"1\" class=\"dataframe\">\n",
       "  <thead>\n",
       "    <tr style=\"text-align: right;\">\n",
       "      <th></th>\n",
       "      <th>IDMerged</th>\n",
       "      <th>person</th>\n",
       "      <th>driver</th>\n",
       "      <th>riders</th>\n",
       "      <th>vehicle</th>\n",
       "      <th>time</th>\n",
       "      <th>type</th>\n",
       "      <th>modeBEAM</th>\n",
       "      <th>currentTourMode</th>\n",
       "      <th>expectedMaximumUtility</th>\n",
       "      <th>availableAlternatives</th>\n",
       "      <th>location</th>\n",
       "      <th>personalVehicleAvailable</th>\n",
       "      <th>length</th>\n",
       "      <th>tourIndex</th>\n",
       "      <th>legModes</th>\n",
       "      <th>legVehicleIds</th>\n",
       "      <th>currentActivity</th>\n",
       "      <th>nextActivity</th>\n",
       "      <th>tripId</th>\n",
       "      <th>reason</th>\n",
       "      <th>link</th>\n",
       "      <th>legMode</th>\n",
       "      <th>facility</th>\n",
       "      <th>actType</th>\n",
       "      <th>shiftStatus</th>\n",
       "      <th>parkingTaz</th>\n",
       "      <th>chargingPointType</th>\n",
       "      <th>pricingModel</th>\n",
       "      <th>parkingType</th>\n",
       "      <th>locationY</th>\n",
       "      <th>locationX</th>\n",
       "      <th>parkingZoneId</th>\n",
       "      <th>fuel</th>\n",
       "      <th>duration</th>\n",
       "      <th>vehicleType</th>\n",
       "      <th>price</th>\n",
       "      <th>endY</th>\n",
       "      <th>endX</th>\n",
       "      <th>arrivalTime</th>\n",
       "      <th>departureTime</th>\n",
       "      <th>primaryFuelLevel</th>\n",
       "      <th>secondaryFuelLevel</th>\n",
       "      <th>cost</th>\n",
       "      <th>links</th>\n",
       "      <th>numPassengers</th>\n",
       "      <th>primaryFuel</th>\n",
       "      <th>toStopIndex</th>\n",
       "      <th>fromStopIndex</th>\n",
       "      <th>seatingCapacity</th>\n",
       "      <th>tollPaid</th>\n",
       "      <th>capacity</th>\n",
       "      <th>linkTravelTime</th>\n",
       "      <th>secondaryFuel</th>\n",
       "      <th>secondaryFuelType</th>\n",
       "      <th>primaryFuelType</th>\n",
       "      <th>departTime</th>\n",
       "      <th>score</th>\n",
       "      <th>incentive</th>\n",
       "      <th>tollCost</th>\n",
       "      <th>cost_BEAM</th>\n",
       "      <th>scenario</th>\n",
       "      <th>year</th>\n",
       "      <th>modeBEAM_rh</th>\n",
       "      <th>actEndTime</th>\n",
       "      <th>actStartTime</th>\n",
       "      <th>travelTime</th>\n",
       "      <th>travelDistance</th>\n",
       "      <th>length_mode_choice</th>\n",
       "      <th>duration_walking</th>\n",
       "      <th>distance_walking</th>\n",
       "      <th>duration_on_bike</th>\n",
       "      <th>distance_bike</th>\n",
       "      <th>duration_in_ridehail</th>\n",
       "      <th>distance_ridehail</th>\n",
       "      <th>duration_in_privateCar</th>\n",
       "      <th>distance_privateCar</th>\n",
       "      <th>duration_in_transit</th>\n",
       "      <th>distance_transit</th>\n",
       "      <th>replanningTime</th>\n",
       "      <th>tourIndex_fixed</th>\n",
       "      <th>actEndType</th>\n",
       "      <th>actStartType</th>\n",
       "      <th>tripIndex</th>\n",
       "      <th>mode_choice_actual_BEAM</th>\n",
       "      <th>mode_choice_planned_BEAM</th>\n",
       "      <th>replanning_status</th>\n",
       "      <th>transit_bus</th>\n",
       "      <th>transit_subway</th>\n",
       "      <th>transit_tram</th>\n",
       "      <th>transit_rail</th>\n",
       "      <th>transit_cable_car</th>\n",
       "      <th>ride_hail_pooled</th>\n",
       "      <th>startBlockGroup</th>\n",
       "    </tr>\n",
       "  </thead>\n",
       "  <tbody>\n",
       "    <tr>\n",
       "      <th>0</th>\n",
       "      <td>1</td>\n",
       "      <td>1</td>\n",
       "      <td>NaN</td>\n",
       "      <td>NaN</td>\n",
       "      <td>NaN</td>\n",
       "      <td>29037.0</td>\n",
       "      <td>ModeChoice</td>\n",
       "      <td>hov3_teleportation</td>\n",
       "      <td>hov3_teleportation</td>\n",
       "      <td>NaN</td>\n",
       "      <td>HOV3_TELEPORTATION</td>\n",
       "      <td>56792.0</td>\n",
       "      <td>true</td>\n",
       "      <td>6498.758</td>\n",
       "      <td>1.0</td>\n",
       "      <td>WALK,CAR_HOV3,WALK</td>\n",
       "      <td>body-1,teleportationSharedVehicle-1-1,body-1</td>\n",
       "      <td>Home</td>\n",
       "      <td>othmaint</td>\n",
       "      <td>577.0</td>\n",
       "      <td>NaN</td>\n",
       "      <td>NaN</td>\n",
       "      <td>NaN</td>\n",
       "      <td>NaN</td>\n",
       "      <td>NaN</td>\n",
       "      <td>NaN</td>\n",
       "      <td>NaN</td>\n",
       "      <td>NaN</td>\n",
       "      <td>NaN</td>\n",
       "      <td>NaN</td>\n",
       "      <td>NaN</td>\n",
       "      <td>NaN</td>\n",
       "      <td>NaN</td>\n",
       "      <td>NaN</td>\n",
       "      <td>NaN</td>\n",
       "      <td>NaN</td>\n",
       "      <td>NaN</td>\n",
       "      <td>NaN</td>\n",
       "      <td>NaN</td>\n",
       "      <td>NaN</td>\n",
       "      <td>NaN</td>\n",
       "      <td>NaN</td>\n",
       "      <td>NaN</td>\n",
       "      <td>NaN</td>\n",
       "      <td>NaN</td>\n",
       "      <td>NaN</td>\n",
       "      <td>NaN</td>\n",
       "      <td>NaN</td>\n",
       "      <td>NaN</td>\n",
       "      <td>NaN</td>\n",
       "      <td>NaN</td>\n",
       "      <td>NaN</td>\n",
       "      <td>NaN</td>\n",
       "      <td>NaN</td>\n",
       "      <td>NaN</td>\n",
       "      <td>NaN</td>\n",
       "      <td>NaN</td>\n",
       "      <td>NaN</td>\n",
       "      <td>NaN</td>\n",
       "      <td>NaN</td>\n",
       "      <td>NaN</td>\n",
       "      <td>baseline</td>\n",
       "      <td>2018</td>\n",
       "      <td>hov3_teleportation</td>\n",
       "      <td>NaN</td>\n",
       "      <td>NaN</td>\n",
       "      <td>NaN</td>\n",
       "      <td>6498.758</td>\n",
       "      <td>6498.758</td>\n",
       "      <td>NaN</td>\n",
       "      <td>NaN</td>\n",
       "      <td>NaN</td>\n",
       "      <td>NaN</td>\n",
       "      <td>NaN</td>\n",
       "      <td>NaN</td>\n",
       "      <td>NaN</td>\n",
       "      <td>6498.758</td>\n",
       "      <td>NaN</td>\n",
       "      <td>NaN</td>\n",
       "      <td>NaN</td>\n",
       "      <td>1.0</td>\n",
       "      <td></td>\n",
       "      <td></td>\n",
       "      <td>577.0</td>\n",
       "      <td>hov3_teleportation</td>\n",
       "      <td>hov3_teleportation</td>\n",
       "      <td>0</td>\n",
       "      <td>0</td>\n",
       "      <td>0</td>\n",
       "      <td>0</td>\n",
       "      <td>0</td>\n",
       "      <td>0</td>\n",
       "      <td>0</td>\n",
       "      <td>NaN</td>\n",
       "    </tr>\n",
       "    <tr>\n",
       "      <th>1</th>\n",
       "      <td>1</td>\n",
       "      <td>1</td>\n",
       "      <td>NaN</td>\n",
       "      <td>NaN</td>\n",
       "      <td>NaN</td>\n",
       "      <td>29037.0</td>\n",
       "      <td>actend</td>\n",
       "      <td>NaN</td>\n",
       "      <td>NaN</td>\n",
       "      <td>NaN</td>\n",
       "      <td>NaN</td>\n",
       "      <td>NaN</td>\n",
       "      <td>NaN</td>\n",
       "      <td>NaN</td>\n",
       "      <td>NaN</td>\n",
       "      <td>NaN</td>\n",
       "      <td>NaN</td>\n",
       "      <td>NaN</td>\n",
       "      <td>NaN</td>\n",
       "      <td>NaN</td>\n",
       "      <td>NaN</td>\n",
       "      <td>56792.0</td>\n",
       "      <td>NaN</td>\n",
       "      <td>NaN</td>\n",
       "      <td>Home</td>\n",
       "      <td>NaN</td>\n",
       "      <td>NaN</td>\n",
       "      <td>NaN</td>\n",
       "      <td>NaN</td>\n",
       "      <td>NaN</td>\n",
       "      <td>NaN</td>\n",
       "      <td>NaN</td>\n",
       "      <td>NaN</td>\n",
       "      <td>NaN</td>\n",
       "      <td>NaN</td>\n",
       "      <td>NaN</td>\n",
       "      <td>NaN</td>\n",
       "      <td>NaN</td>\n",
       "      <td>NaN</td>\n",
       "      <td>NaN</td>\n",
       "      <td>NaN</td>\n",
       "      <td>NaN</td>\n",
       "      <td>NaN</td>\n",
       "      <td>NaN</td>\n",
       "      <td>NaN</td>\n",
       "      <td>NaN</td>\n",
       "      <td>NaN</td>\n",
       "      <td>NaN</td>\n",
       "      <td>NaN</td>\n",
       "      <td>NaN</td>\n",
       "      <td>NaN</td>\n",
       "      <td>NaN</td>\n",
       "      <td>NaN</td>\n",
       "      <td>NaN</td>\n",
       "      <td>NaN</td>\n",
       "      <td>NaN</td>\n",
       "      <td>NaN</td>\n",
       "      <td>NaN</td>\n",
       "      <td>NaN</td>\n",
       "      <td>NaN</td>\n",
       "      <td>NaN</td>\n",
       "      <td>baseline</td>\n",
       "      <td>2018</td>\n",
       "      <td>NaN</td>\n",
       "      <td>29037.0</td>\n",
       "      <td>NaN</td>\n",
       "      <td>NaN</td>\n",
       "      <td>NaN</td>\n",
       "      <td>NaN</td>\n",
       "      <td>NaN</td>\n",
       "      <td>NaN</td>\n",
       "      <td>NaN</td>\n",
       "      <td>NaN</td>\n",
       "      <td>NaN</td>\n",
       "      <td>NaN</td>\n",
       "      <td>NaN</td>\n",
       "      <td>NaN</td>\n",
       "      <td>NaN</td>\n",
       "      <td>NaN</td>\n",
       "      <td>NaN</td>\n",
       "      <td>NaN</td>\n",
       "      <td>Home</td>\n",
       "      <td></td>\n",
       "      <td>577.0</td>\n",
       "      <td>NaN</td>\n",
       "      <td>NaN</td>\n",
       "      <td>0</td>\n",
       "      <td>0</td>\n",
       "      <td>0</td>\n",
       "      <td>0</td>\n",
       "      <td>0</td>\n",
       "      <td>0</td>\n",
       "      <td>0</td>\n",
       "      <td>NaN</td>\n",
       "    </tr>\n",
       "    <tr>\n",
       "      <th>2</th>\n",
       "      <td>1</td>\n",
       "      <td>1</td>\n",
       "      <td>NaN</td>\n",
       "      <td>NaN</td>\n",
       "      <td>NaN</td>\n",
       "      <td>29037.0</td>\n",
       "      <td>departure</td>\n",
       "      <td>NaN</td>\n",
       "      <td>NaN</td>\n",
       "      <td>NaN</td>\n",
       "      <td>NaN</td>\n",
       "      <td>NaN</td>\n",
       "      <td>NaN</td>\n",
       "      <td>NaN</td>\n",
       "      <td>NaN</td>\n",
       "      <td>NaN</td>\n",
       "      <td>NaN</td>\n",
       "      <td>NaN</td>\n",
       "      <td>NaN</td>\n",
       "      <td>NaN</td>\n",
       "      <td>NaN</td>\n",
       "      <td>56792.0</td>\n",
       "      <td>hov3_teleportation</td>\n",
       "      <td>NaN</td>\n",
       "      <td>NaN</td>\n",
       "      <td>NaN</td>\n",
       "      <td>NaN</td>\n",
       "      <td>NaN</td>\n",
       "      <td>NaN</td>\n",
       "      <td>NaN</td>\n",
       "      <td>NaN</td>\n",
       "      <td>NaN</td>\n",
       "      <td>NaN</td>\n",
       "      <td>NaN</td>\n",
       "      <td>NaN</td>\n",
       "      <td>NaN</td>\n",
       "      <td>NaN</td>\n",
       "      <td>NaN</td>\n",
       "      <td>NaN</td>\n",
       "      <td>NaN</td>\n",
       "      <td>NaN</td>\n",
       "      <td>NaN</td>\n",
       "      <td>NaN</td>\n",
       "      <td>NaN</td>\n",
       "      <td>NaN</td>\n",
       "      <td>NaN</td>\n",
       "      <td>NaN</td>\n",
       "      <td>NaN</td>\n",
       "      <td>NaN</td>\n",
       "      <td>NaN</td>\n",
       "      <td>NaN</td>\n",
       "      <td>NaN</td>\n",
       "      <td>NaN</td>\n",
       "      <td>NaN</td>\n",
       "      <td>NaN</td>\n",
       "      <td>NaN</td>\n",
       "      <td>NaN</td>\n",
       "      <td>NaN</td>\n",
       "      <td>NaN</td>\n",
       "      <td>NaN</td>\n",
       "      <td>NaN</td>\n",
       "      <td>baseline</td>\n",
       "      <td>2018</td>\n",
       "      <td>NaN</td>\n",
       "      <td>NaN</td>\n",
       "      <td>NaN</td>\n",
       "      <td>NaN</td>\n",
       "      <td>NaN</td>\n",
       "      <td>NaN</td>\n",
       "      <td>NaN</td>\n",
       "      <td>NaN</td>\n",
       "      <td>NaN</td>\n",
       "      <td>NaN</td>\n",
       "      <td>NaN</td>\n",
       "      <td>NaN</td>\n",
       "      <td>NaN</td>\n",
       "      <td>NaN</td>\n",
       "      <td>NaN</td>\n",
       "      <td>NaN</td>\n",
       "      <td>NaN</td>\n",
       "      <td>NaN</td>\n",
       "      <td></td>\n",
       "      <td></td>\n",
       "      <td>577.0</td>\n",
       "      <td>NaN</td>\n",
       "      <td>NaN</td>\n",
       "      <td>0</td>\n",
       "      <td>0</td>\n",
       "      <td>0</td>\n",
       "      <td>0</td>\n",
       "      <td>0</td>\n",
       "      <td>0</td>\n",
       "      <td>0</td>\n",
       "      <td>NaN</td>\n",
       "    </tr>\n",
       "    <tr>\n",
       "      <th>3</th>\n",
       "      <td>1</td>\n",
       "      <td>1</td>\n",
       "      <td>NaN</td>\n",
       "      <td>NaN</td>\n",
       "      <td>NaN</td>\n",
       "      <td>29601.0</td>\n",
       "      <td>TeleportationEvent</td>\n",
       "      <td>NaN</td>\n",
       "      <td>hov3_teleportation</td>\n",
       "      <td>NaN</td>\n",
       "      <td>NaN</td>\n",
       "      <td>NaN</td>\n",
       "      <td>NaN</td>\n",
       "      <td>NaN</td>\n",
       "      <td>NaN</td>\n",
       "      <td>NaN</td>\n",
       "      <td>NaN</td>\n",
       "      <td>NaN</td>\n",
       "      <td>NaN</td>\n",
       "      <td>NaN</td>\n",
       "      <td>NaN</td>\n",
       "      <td>NaN</td>\n",
       "      <td>NaN</td>\n",
       "      <td>NaN</td>\n",
       "      <td>NaN</td>\n",
       "      <td>NaN</td>\n",
       "      <td>NaN</td>\n",
       "      <td>NaN</td>\n",
       "      <td>NaN</td>\n",
       "      <td>NaN</td>\n",
       "      <td>NaN</td>\n",
       "      <td>NaN</td>\n",
       "      <td>NaN</td>\n",
       "      <td>NaN</td>\n",
       "      <td>NaN</td>\n",
       "      <td>NaN</td>\n",
       "      <td>NaN</td>\n",
       "      <td>37.377254</td>\n",
       "      <td>-121.802441</td>\n",
       "      <td>29601.0</td>\n",
       "      <td>29037.0</td>\n",
       "      <td>NaN</td>\n",
       "      <td>NaN</td>\n",
       "      <td>NaN</td>\n",
       "      <td>NaN</td>\n",
       "      <td>NaN</td>\n",
       "      <td>NaN</td>\n",
       "      <td>NaN</td>\n",
       "      <td>NaN</td>\n",
       "      <td>NaN</td>\n",
       "      <td>NaN</td>\n",
       "      <td>NaN</td>\n",
       "      <td>NaN</td>\n",
       "      <td>NaN</td>\n",
       "      <td>NaN</td>\n",
       "      <td>NaN</td>\n",
       "      <td>NaN</td>\n",
       "      <td>NaN</td>\n",
       "      <td>NaN</td>\n",
       "      <td>NaN</td>\n",
       "      <td>NaN</td>\n",
       "      <td>baseline</td>\n",
       "      <td>2018</td>\n",
       "      <td>hov3_teleportation</td>\n",
       "      <td>NaN</td>\n",
       "      <td>NaN</td>\n",
       "      <td>564.0</td>\n",
       "      <td>NaN</td>\n",
       "      <td>NaN</td>\n",
       "      <td>NaN</td>\n",
       "      <td>NaN</td>\n",
       "      <td>NaN</td>\n",
       "      <td>NaN</td>\n",
       "      <td>NaN</td>\n",
       "      <td>NaN</td>\n",
       "      <td>564.0</td>\n",
       "      <td>NaN</td>\n",
       "      <td>NaN</td>\n",
       "      <td>NaN</td>\n",
       "      <td>NaN</td>\n",
       "      <td>NaN</td>\n",
       "      <td></td>\n",
       "      <td></td>\n",
       "      <td>577.0</td>\n",
       "      <td>NaN</td>\n",
       "      <td>NaN</td>\n",
       "      <td>0</td>\n",
       "      <td>0</td>\n",
       "      <td>0</td>\n",
       "      <td>0</td>\n",
       "      <td>0</td>\n",
       "      <td>0</td>\n",
       "      <td>0</td>\n",
       "      <td>060855035091</td>\n",
       "    </tr>\n",
       "    <tr>\n",
       "      <th>4</th>\n",
       "      <td>1</td>\n",
       "      <td>1</td>\n",
       "      <td>NaN</td>\n",
       "      <td>NaN</td>\n",
       "      <td>NaN</td>\n",
       "      <td>29601.0</td>\n",
       "      <td>arrival</td>\n",
       "      <td>NaN</td>\n",
       "      <td>NaN</td>\n",
       "      <td>NaN</td>\n",
       "      <td>NaN</td>\n",
       "      <td>NaN</td>\n",
       "      <td>NaN</td>\n",
       "      <td>NaN</td>\n",
       "      <td>NaN</td>\n",
       "      <td>NaN</td>\n",
       "      <td>NaN</td>\n",
       "      <td>NaN</td>\n",
       "      <td>NaN</td>\n",
       "      <td>NaN</td>\n",
       "      <td>NaN</td>\n",
       "      <td>65790.0</td>\n",
       "      <td>car</td>\n",
       "      <td>NaN</td>\n",
       "      <td>NaN</td>\n",
       "      <td>NaN</td>\n",
       "      <td>NaN</td>\n",
       "      <td>NaN</td>\n",
       "      <td>NaN</td>\n",
       "      <td>NaN</td>\n",
       "      <td>NaN</td>\n",
       "      <td>NaN</td>\n",
       "      <td>NaN</td>\n",
       "      <td>NaN</td>\n",
       "      <td>NaN</td>\n",
       "      <td>NaN</td>\n",
       "      <td>NaN</td>\n",
       "      <td>NaN</td>\n",
       "      <td>NaN</td>\n",
       "      <td>NaN</td>\n",
       "      <td>NaN</td>\n",
       "      <td>NaN</td>\n",
       "      <td>NaN</td>\n",
       "      <td>NaN</td>\n",
       "      <td>NaN</td>\n",
       "      <td>NaN</td>\n",
       "      <td>NaN</td>\n",
       "      <td>NaN</td>\n",
       "      <td>NaN</td>\n",
       "      <td>NaN</td>\n",
       "      <td>NaN</td>\n",
       "      <td>NaN</td>\n",
       "      <td>NaN</td>\n",
       "      <td>NaN</td>\n",
       "      <td>NaN</td>\n",
       "      <td>NaN</td>\n",
       "      <td>NaN</td>\n",
       "      <td>NaN</td>\n",
       "      <td>NaN</td>\n",
       "      <td>NaN</td>\n",
       "      <td>NaN</td>\n",
       "      <td>baseline</td>\n",
       "      <td>2018</td>\n",
       "      <td>NaN</td>\n",
       "      <td>NaN</td>\n",
       "      <td>NaN</td>\n",
       "      <td>NaN</td>\n",
       "      <td>NaN</td>\n",
       "      <td>NaN</td>\n",
       "      <td>NaN</td>\n",
       "      <td>NaN</td>\n",
       "      <td>NaN</td>\n",
       "      <td>NaN</td>\n",
       "      <td>NaN</td>\n",
       "      <td>NaN</td>\n",
       "      <td>NaN</td>\n",
       "      <td>NaN</td>\n",
       "      <td>NaN</td>\n",
       "      <td>NaN</td>\n",
       "      <td>NaN</td>\n",
       "      <td>NaN</td>\n",
       "      <td></td>\n",
       "      <td></td>\n",
       "      <td>577.0</td>\n",
       "      <td>NaN</td>\n",
       "      <td>NaN</td>\n",
       "      <td>0</td>\n",
       "      <td>0</td>\n",
       "      <td>0</td>\n",
       "      <td>0</td>\n",
       "      <td>0</td>\n",
       "      <td>0</td>\n",
       "      <td>0</td>\n",
       "      <td>NaN</td>\n",
       "    </tr>\n",
       "  </tbody>\n",
       "</table>\n",
       "</div>"
      ],
      "text/plain": [
       "   IDMerged person driver riders vehicle     time                type  \\\n",
       "0         1      1    NaN    NaN     NaN  29037.0          ModeChoice   \n",
       "1         1      1    NaN    NaN     NaN  29037.0              actend   \n",
       "2         1      1    NaN    NaN     NaN  29037.0           departure   \n",
       "3         1      1    NaN    NaN     NaN  29601.0  TeleportationEvent   \n",
       "4         1      1    NaN    NaN     NaN  29601.0             arrival   \n",
       "\n",
       "             modeBEAM     currentTourMode  expectedMaximumUtility  \\\n",
       "0  hov3_teleportation  hov3_teleportation                     NaN   \n",
       "1                 NaN                 NaN                     NaN   \n",
       "2                 NaN                 NaN                     NaN   \n",
       "3                 NaN  hov3_teleportation                     NaN   \n",
       "4                 NaN                 NaN                     NaN   \n",
       "\n",
       "  availableAlternatives  location personalVehicleAvailable    length  \\\n",
       "0    HOV3_TELEPORTATION   56792.0                     true  6498.758   \n",
       "1                   NaN       NaN                      NaN       NaN   \n",
       "2                   NaN       NaN                      NaN       NaN   \n",
       "3                   NaN       NaN                      NaN       NaN   \n",
       "4                   NaN       NaN                      NaN       NaN   \n",
       "\n",
       "   tourIndex            legModes  \\\n",
       "0        1.0  WALK,CAR_HOV3,WALK   \n",
       "1        NaN                 NaN   \n",
       "2        NaN                 NaN   \n",
       "3        NaN                 NaN   \n",
       "4        NaN                 NaN   \n",
       "\n",
       "                                  legVehicleIds currentActivity nextActivity  \\\n",
       "0  body-1,teleportationSharedVehicle-1-1,body-1            Home     othmaint   \n",
       "1                                           NaN             NaN          NaN   \n",
       "2                                           NaN             NaN          NaN   \n",
       "3                                           NaN             NaN          NaN   \n",
       "4                                           NaN             NaN          NaN   \n",
       "\n",
       "   tripId reason     link             legMode  facility actType  shiftStatus  \\\n",
       "0   577.0    NaN      NaN                 NaN       NaN     NaN          NaN   \n",
       "1     NaN    NaN  56792.0                 NaN       NaN    Home          NaN   \n",
       "2     NaN    NaN  56792.0  hov3_teleportation       NaN     NaN          NaN   \n",
       "3     NaN    NaN      NaN                 NaN       NaN     NaN          NaN   \n",
       "4     NaN    NaN  65790.0                 car       NaN     NaN          NaN   \n",
       "\n",
       "  parkingTaz chargingPointType pricingModel parkingType  locationY  locationX  \\\n",
       "0        NaN               NaN          NaN         NaN        NaN        NaN   \n",
       "1        NaN               NaN          NaN         NaN        NaN        NaN   \n",
       "2        NaN               NaN          NaN         NaN        NaN        NaN   \n",
       "3        NaN               NaN          NaN         NaN        NaN        NaN   \n",
       "4        NaN               NaN          NaN         NaN        NaN        NaN   \n",
       "\n",
       "  parkingZoneId  fuel  duration vehicleType  price       endY        endX  \\\n",
       "0           NaN   NaN       NaN         NaN    NaN        NaN         NaN   \n",
       "1           NaN   NaN       NaN         NaN    NaN        NaN         NaN   \n",
       "2           NaN   NaN       NaN         NaN    NaN        NaN         NaN   \n",
       "3           NaN   NaN       NaN         NaN    NaN  37.377254 -121.802441   \n",
       "4           NaN   NaN       NaN         NaN    NaN        NaN         NaN   \n",
       "\n",
       "   arrivalTime  departureTime  primaryFuelLevel  secondaryFuelLevel  cost  \\\n",
       "0          NaN            NaN               NaN                 NaN   NaN   \n",
       "1          NaN            NaN               NaN                 NaN   NaN   \n",
       "2          NaN            NaN               NaN                 NaN   NaN   \n",
       "3      29601.0        29037.0               NaN                 NaN   NaN   \n",
       "4          NaN            NaN               NaN                 NaN   NaN   \n",
       "\n",
       "  links  numPassengers  primaryFuel  toStopIndex  fromStopIndex  \\\n",
       "0   NaN            NaN          NaN          NaN            NaN   \n",
       "1   NaN            NaN          NaN          NaN            NaN   \n",
       "2   NaN            NaN          NaN          NaN            NaN   \n",
       "3   NaN            NaN          NaN          NaN            NaN   \n",
       "4   NaN            NaN          NaN          NaN            NaN   \n",
       "\n",
       "   seatingCapacity  tollPaid  capacity linkTravelTime  secondaryFuel  \\\n",
       "0              NaN       NaN       NaN            NaN            NaN   \n",
       "1              NaN       NaN       NaN            NaN            NaN   \n",
       "2              NaN       NaN       NaN            NaN            NaN   \n",
       "3              NaN       NaN       NaN            NaN            NaN   \n",
       "4              NaN       NaN       NaN            NaN            NaN   \n",
       "\n",
       "  secondaryFuelType primaryFuelType  departTime  score  incentive  tollCost  \\\n",
       "0               NaN             NaN         NaN    NaN        NaN       NaN   \n",
       "1               NaN             NaN         NaN    NaN        NaN       NaN   \n",
       "2               NaN             NaN         NaN    NaN        NaN       NaN   \n",
       "3               NaN             NaN         NaN    NaN        NaN       NaN   \n",
       "4               NaN             NaN         NaN    NaN        NaN       NaN   \n",
       "\n",
       "   cost_BEAM  scenario  year         modeBEAM_rh  actEndTime  actStartTime  \\\n",
       "0        NaN  baseline  2018  hov3_teleportation         NaN           NaN   \n",
       "1        NaN  baseline  2018                 NaN     29037.0           NaN   \n",
       "2        NaN  baseline  2018                 NaN         NaN           NaN   \n",
       "3        NaN  baseline  2018  hov3_teleportation         NaN           NaN   \n",
       "4        NaN  baseline  2018                 NaN         NaN           NaN   \n",
       "\n",
       "   travelTime  travelDistance  length_mode_choice  duration_walking  \\\n",
       "0         NaN        6498.758            6498.758               NaN   \n",
       "1         NaN             NaN                 NaN               NaN   \n",
       "2         NaN             NaN                 NaN               NaN   \n",
       "3       564.0             NaN                 NaN               NaN   \n",
       "4         NaN             NaN                 NaN               NaN   \n",
       "\n",
       "   distance_walking  duration_on_bike  distance_bike  duration_in_ridehail  \\\n",
       "0               NaN               NaN            NaN                   NaN   \n",
       "1               NaN               NaN            NaN                   NaN   \n",
       "2               NaN               NaN            NaN                   NaN   \n",
       "3               NaN               NaN            NaN                   NaN   \n",
       "4               NaN               NaN            NaN                   NaN   \n",
       "\n",
       "   distance_ridehail  duration_in_privateCar  distance_privateCar  \\\n",
       "0                NaN                     NaN             6498.758   \n",
       "1                NaN                     NaN                  NaN   \n",
       "2                NaN                     NaN                  NaN   \n",
       "3                NaN                   564.0                  NaN   \n",
       "4                NaN                     NaN                  NaN   \n",
       "\n",
       "   duration_in_transit  distance_transit  replanningTime  tourIndex_fixed  \\\n",
       "0                  NaN               NaN             NaN              1.0   \n",
       "1                  NaN               NaN             NaN              NaN   \n",
       "2                  NaN               NaN             NaN              NaN   \n",
       "3                  NaN               NaN             NaN              NaN   \n",
       "4                  NaN               NaN             NaN              NaN   \n",
       "\n",
       "  actEndType actStartType  tripIndex mode_choice_actual_BEAM  \\\n",
       "0                              577.0      hov3_teleportation   \n",
       "1       Home                   577.0                     NaN   \n",
       "2                              577.0                     NaN   \n",
       "3                              577.0                     NaN   \n",
       "4                              577.0                     NaN   \n",
       "\n",
       "  mode_choice_planned_BEAM  replanning_status  transit_bus  transit_subway  \\\n",
       "0       hov3_teleportation                  0            0               0   \n",
       "1                      NaN                  0            0               0   \n",
       "2                      NaN                  0            0               0   \n",
       "3                      NaN                  0            0               0   \n",
       "4                      NaN                  0            0               0   \n",
       "\n",
       "   transit_tram  transit_rail  transit_cable_car  ride_hail_pooled  \\\n",
       "0             0             0                  0                 0   \n",
       "1             0             0                  0                 0   \n",
       "2             0             0                  0                 0   \n",
       "3             0             0                  0                 0   \n",
       "4             0             0                  0                 0   \n",
       "\n",
       "  startBlockGroup  \n",
       "0             NaN  \n",
       "1             NaN  \n",
       "2             NaN  \n",
       "3    060855035091  \n",
       "4             NaN  "
      ]
     },
     "execution_count": 76,
     "metadata": {},
     "output_type": "execute_result"
    }
   ],
   "source": [
    "eventsSF.head()"
   ]
  },
  {
   "cell_type": "code",
   "execution_count": null,
   "id": "9eae57c0",
   "metadata": {},
   "outputs": [],
   "source": [
    "%%time\n",
    "eventsSF = addGeometryIdToDataFrame(eventsSF, BGs, 'endX', 'endY', 'endBlockGroup')"
   ]
  },
  {
   "cell_type": "markdown",
   "id": "fe8a8b31",
   "metadata": {},
   "source": [
    "#### Adding new columns"
   ]
  },
  {
   "cell_type": "code",
   "execution_count": 38,
   "id": "ff786a3b",
   "metadata": {},
   "outputs": [],
   "source": [
    "eventsSF['actEndTime'] = np.where(eventsSF['type']=='actend'\n",
    "                     , eventsSF['time'], np.nan)"
   ]
  },
  {
   "cell_type": "code",
   "execution_count": 39,
   "id": "57f2a46c",
   "metadata": {},
   "outputs": [],
   "source": [
    "eventsSF['actStartTime'] = np.where(eventsSF['type']=='actstart'\n",
    "                     , eventsSF['time'], np.nan)    "
   ]
  },
  {
   "cell_type": "code",
   "execution_count": 40,
   "id": "0f47b8ee",
   "metadata": {},
   "outputs": [],
   "source": [
    "eventsSF['travelTime'] = np.where((eventsSF['type']=='PathTraversal')|(eventsSF['type']=='TeleportationEvent')\n",
    "                     , eventsSF['arrivalTime'] - eventsSF['departureTime'], np.nan)"
   ]
  },
  {
   "cell_type": "code",
   "execution_count": 41,
   "id": "7e427fd1",
   "metadata": {},
   "outputs": [],
   "source": [
    "eventsSF['travelDistance'] = np.where((eventsSF['type']=='PathTraversal')|((eventsSF['type']=='ModeChoice')&((eventsSF['modeBEAM']=='hov2_teleportation')|(eventsSF['modeBEAM']=='hov3_teleportation'))), eventsSF['length'], np.nan)"
   ]
  },
  {
   "cell_type": "code",
   "execution_count": 42,
   "id": "63c8c08a",
   "metadata": {},
   "outputs": [],
   "source": [
    "eventsSF['length_mode_choice'] = np.where(eventsSF['type']=='ModeChoice', eventsSF['length'], np.nan)"
   ]
  },
  {
   "cell_type": "code",
   "execution_count": 43,
   "id": "6403c92a",
   "metadata": {},
   "outputs": [],
   "source": [
    "eventsSF['duration_walking'] = np.where(eventsSF['modeBEAM']=='walk', eventsSF['travelTime'], np.nan)"
   ]
  },
  {
   "cell_type": "code",
   "execution_count": 44,
   "id": "9edb77aa",
   "metadata": {},
   "outputs": [],
   "source": [
    "eventsSF['distance_walking'] = np.where(eventsSF['modeBEAM']=='walk', eventsSF['travelDistance'], np.nan)"
   ]
  },
  {
   "cell_type": "code",
   "execution_count": 45,
   "id": "d4a0af57",
   "metadata": {},
   "outputs": [],
   "source": [
    "eventsSF['duration_on_bike'] = np.where(eventsSF['modeBEAM']=='bike', eventsSF['travelTime'], np.nan)"
   ]
  },
  {
   "cell_type": "code",
   "execution_count": 46,
   "id": "148a3dbe",
   "metadata": {},
   "outputs": [],
   "source": [
    "eventsSF['distance_bike'] = np.where(eventsSF['modeBEAM']=='bike', eventsSF['travelDistance'], np.nan)"
   ]
  },
  {
   "cell_type": "code",
   "execution_count": 47,
   "id": "3624b92a",
   "metadata": {},
   "outputs": [],
   "source": [
    "eventsSF['duration_in_ridehail'] = np.where((eventsSF['modeBEAM_rh']=='ride_hail')|(eventsSF['modeBEAM_rh']=='ride_hail_pooled')|(eventsSF['modeBEAM_rh']=='ride_hail_transit'), \n",
    "                                            eventsSF['travelTime'], np.nan)"
   ]
  },
  {
   "cell_type": "code",
   "execution_count": 48,
   "id": "90d4c42d",
   "metadata": {},
   "outputs": [],
   "source": [
    "eventsSF['distance_ridehail'] = np.where((eventsSF['modeBEAM_rh']=='ride_hail')|(eventsSF['modeBEAM_rh']=='ride_hail_pooled')|(eventsSF['modeBEAM_rh']=='ride_hail_transit'), eventsSF['travelDistance'], np.nan)"
   ]
  },
  {
   "cell_type": "code",
   "execution_count": 49,
   "id": "4bb825fb",
   "metadata": {},
   "outputs": [],
   "source": [
    "eventsSF['duration_in_privateCar'] = np.where((eventsSF['modeBEAM_rh']=='car')|(eventsSF['modeBEAM_rh']=='car_hov3')|(eventsSF['modeBEAM_rh']=='car_hov2')|\n",
    "                                              (eventsSF['modeBEAM_rh']=='hov2_teleportation')|(eventsSF['modeBEAM_rh']=='hov3_teleportation') \n",
    "                                              , eventsSF['travelTime'], np.nan)"
   ]
  },
  {
   "cell_type": "code",
   "execution_count": 50,
   "id": "3473c8da",
   "metadata": {},
   "outputs": [],
   "source": [
    "eventsSF['distance_privateCar'] = np.where((eventsSF['modeBEAM_rh']=='car')|(eventsSF['modeBEAM_rh']=='car_hov3')|(eventsSF['modeBEAM_rh']=='car_hov2')|\n",
    "                                              (eventsSF['modeBEAM_rh']=='hov2_teleportation')|(eventsSF['modeBEAM_rh']=='hov3_teleportation'), eventsSF['travelDistance'], np.nan)"
   ]
  },
  {
   "cell_type": "code",
   "execution_count": 51,
   "id": "0b735038",
   "metadata": {},
   "outputs": [],
   "source": [
    "eventsSF['duration_in_transit'] = np.where((eventsSF['modeBEAM']=='bike_transit')|(eventsSF['modeBEAM']=='drive_transit')|\n",
    "                                           (eventsSF['modeBEAM']=='walk_transit')|(eventsSF['modeBEAM']=='bus')|\n",
    "                                           (eventsSF['modeBEAM']=='tram')|(eventsSF['modeBEAM']=='subway')|\n",
    "                                           (eventsSF['modeBEAM']=='rail')|(eventsSF['modeBEAM']=='cable_car')|\n",
    "                                           (eventsSF['modeBEAM']=='ride_hail_transit'), eventsSF['travelTime'], np.nan)"
   ]
  },
  {
   "cell_type": "code",
   "execution_count": 52,
   "id": "92c358e1",
   "metadata": {},
   "outputs": [],
   "source": [
    "eventsSF['distance_transit'] = np.where((eventsSF['modeBEAM']=='bike_transit')|(eventsSF['modeBEAM']=='drive_transit')|\n",
    "                                        (eventsSF['modeBEAM']=='walk_transit')|(eventsSF['modeBEAM']=='bus')|\n",
    "                                        (eventsSF['modeBEAM']=='tram')|(eventsSF['modeBEAM']=='subway')|\n",
    "                                        (eventsSF['modeBEAM']=='rail')|(eventsSF['modeBEAM']=='cable_car')|\n",
    "                                        (eventsSF['modeBEAM']=='ride_hail_transit'), eventsSF['travelDistance'], np.nan)"
   ]
  },
  {
   "cell_type": "code",
   "execution_count": 53,
   "id": "0b4e8ccd",
   "metadata": {},
   "outputs": [],
   "source": [
    "# Removing the extra tour index happening after replanning events\n",
    "eventsSF['replanningTime'] = np.where(eventsSF['type'] == 'Replanning', eventsSF['time'], np.nan)\n",
    "eventsSF['replanningTime'] = eventsSF['replanningTime'].shift(+1)\n",
    "eventsSF['tourIndex_fixed'] = np.where((eventsSF['type'] == 'ModeChoice')&(eventsSF['replanningTime'].notna()), np.nan, eventsSF['tourIndex'])"
   ]
  },
  {
   "cell_type": "code",
   "execution_count": 84,
   "id": "5beb42b2",
   "metadata": {},
   "outputs": [],
   "source": [
    "#eventsSF['fuelFood'] = np.where((eventsSF['type']=='PathTraversal')&(eventsSF['primaryFuelType']=='Food'), \n",
    "                                #eventsSF['primaryFuel'], np.nan)"
   ]
  },
  {
   "cell_type": "code",
   "execution_count": 85,
   "id": "4104324f",
   "metadata": {},
   "outputs": [],
   "source": [
    "#eventsSF['fuelElectricity'] = np.where((eventsSF['type']=='PathTraversal')&(eventsSF['primaryFuelType']=='Electricity'), \n",
    "                                #eventsSF['primaryFuel'], np.nan)"
   ]
  },
  {
   "cell_type": "code",
   "execution_count": 57,
   "id": "32f9c7d4",
   "metadata": {},
   "outputs": [],
   "source": [
    "#eventsSF['fuelDiesel'] = np.where((eventsSF['type']=='PathTraversal')&(eventsSF['primaryFuelType']=='Diesel'), \n",
    "                                #eventsSF['primaryFuel'], np.nan)"
   ]
  },
  {
   "cell_type": "code",
   "execution_count": 58,
   "id": "e8f68e5c",
   "metadata": {},
   "outputs": [],
   "source": [
    "#eventsSF['fuelBiodiesel'] = np.where((eventsSF['type']=='PathTraversal')&(eventsSF['primaryFuelType']=='Biodiesel'), \n",
    "                                #eventsSF['primaryFuel'], np.nan)"
   ]
  },
  {
   "cell_type": "code",
   "execution_count": 59,
   "id": "5e752231",
   "metadata": {},
   "outputs": [],
   "source": [
    "#eventsSF['fuel_not_Food'] = np.where((eventsSF['type']=='PathTraversal')&(eventsSF['primaryFuelType']!='Food')\n",
    "                            #, eventsSF['primaryFuel']+eventsSF['secondaryFuel'], np.nan)"
   ]
  },
  {
   "cell_type": "code",
   "execution_count": 60,
   "id": "bfc1273e",
   "metadata": {},
   "outputs": [],
   "source": [
    "#eventsSF['fuelGasoline'] = np.where((eventsSF['type']=='PathTraversal')&((eventsSF['primaryFuelType']=='Gasoline')|(eventsSF['secondaryFuelType']=='Gasoline')), \n",
    "                           #eventsSF['primaryFuel']+eventsSF['secondaryFuel'], np.nan)"
   ]
  },
  {
   "cell_type": "code",
   "execution_count": 54,
   "id": "1bb135e2",
   "metadata": {},
   "outputs": [],
   "source": [
    "eventsSF['actEndType'] = np.where(eventsSF['type']=='actend', eventsSF['actType'], \"\")"
   ]
  },
  {
   "cell_type": "code",
   "execution_count": 55,
   "id": "52f9f171",
   "metadata": {},
   "outputs": [],
   "source": [
    "eventsSF['actStartType'] = np.where(eventsSF['type']=='actstart', eventsSF['actType'], \"\")"
   ]
  },
  {
   "cell_type": "markdown",
   "id": "d3b8bb89",
   "metadata": {},
   "source": [
    "#### Trip Index"
   ]
  },
  {
   "cell_type": "code",
   "execution_count": 56,
   "id": "5be797be",
   "metadata": {},
   "outputs": [],
   "source": [
    "#eventsSF[\"tripIndex\"] = eventsSF.groupby(\"IDMerged\")[\"tourIndex_fixed\"].rank(method=\"first\", ascending=True)\n",
    "eventsSF[\"tripIndex\"] = eventsSF.tripId.fillna(method='ffill')"
   ]
  },
  {
   "cell_type": "markdown",
   "id": "1c6d23ef",
   "metadata": {},
   "source": [
    "#### Previous code for mode choice "
   ]
  },
  {
   "cell_type": "code",
   "execution_count": 64,
   "id": "4825f1e2",
   "metadata": {},
   "outputs": [],
   "source": [
    "# Make a new column which determined mode choice numbers for each person and trip\n",
    "#s = eventsSF.groupby(['IDMerged','tripIndex', 'type']).cumcount().add(1).astype(str).str.zfill(2)"
   ]
  },
  {
   "cell_type": "code",
   "execution_count": 65,
   "id": "cc39f0f5",
   "metadata": {},
   "outputs": [],
   "source": [
    "#eventsSF['type_number'] = eventsSF['type'].astype(str) + s.astype(str)"
   ]
  },
  {
   "cell_type": "code",
   "execution_count": 66,
   "id": "77a00909",
   "metadata": {},
   "outputs": [],
   "source": [
    "#eventsSF['mode_choice_planned_BEAM'] = np.where(eventsSF['type_number'] == 'ModeChoice01' , eventsSF['modeBEAM_rh'], np.nan)"
   ]
  },
  {
   "cell_type": "code",
   "execution_count": 67,
   "id": "5f8dccfd",
   "metadata": {},
   "outputs": [],
   "source": [
    "# Just showing the mode choice after replanning\n",
    "#eventsSF['mode_choice_replanned_BEAM'] = np.where(eventsSF['type_number'] == 'ModeChoice02', eventsSF['modeBEAM_rh'], np.nan)"
   ]
  },
  {
   "cell_type": "markdown",
   "id": "07192d10",
   "metadata": {},
   "source": [
    "#### Only works if we have one replanning event"
   ]
  },
  {
   "cell_type": "code",
   "execution_count": 68,
   "id": "1dc7444b",
   "metadata": {},
   "outputs": [],
   "source": [
    "# Showing both mode choices before and after the replanning event\n",
    "#eventsSF['mode_choice_act'] = eventsSF['mode_choice_replanned_BEAM'].combine_first(eventsSF['mode_choice_planned_BEAM'])"
   ]
  },
  {
   "cell_type": "code",
   "execution_count": 69,
   "id": "9e832fb2",
   "metadata": {},
   "outputs": [],
   "source": [
    "# If replanned, then the status is 1\n",
    "#eventsSF['replanning_status'] = np.where(eventsSF['mode_choice_replanned_BEAM'].notna() , 1, np.nan)"
   ]
  },
  {
   "cell_type": "code",
   "execution_count": 70,
   "id": "afb3a3b2",
   "metadata": {},
   "outputs": [],
   "source": [
    "# Group by and fill all the rows related to the replanning event\n",
    "#eventsSF[\"replanning_status\"] = eventsSF.groupby(['IDMerged','tripIndex'], as_index=False)['replanning_status'].transform(lambda x: x.ffill().bfill())"
   ]
  },
  {
   "cell_type": "code",
   "execution_count": 71,
   "id": "d7cebe18",
   "metadata": {},
   "outputs": [],
   "source": [
    "# Put all non-replanning events equal to 0\n",
    "#eventsSF[\"replanning_status\"] = np.where(eventsSF['replanning_status'].isna(), 0, eventsSF['replanning_status']).astype(int)"
   ]
  },
  {
   "cell_type": "code",
   "execution_count": 72,
   "id": "ca3f3675",
   "metadata": {},
   "outputs": [],
   "source": [
    "#eventsSF['mode_choice_actual_BEAM'] = np.where((eventsSF['replanning_status'] == 1) & (eventsSF['type_number']=='ModeChoice01'), np.nan, eventsSF['mode_choice_act'])"
   ]
  },
  {
   "cell_type": "code",
   "execution_count": 73,
   "id": "fd398fd2",
   "metadata": {},
   "outputs": [],
   "source": [
    "#eventsSF = eventsSF.drop(['mode_choice_act'], axis = 1)"
   ]
  },
  {
   "cell_type": "code",
   "execution_count": 74,
   "id": "bcbc79ab",
   "metadata": {},
   "outputs": [],
   "source": [
    "#eventsSF[eventsSF['type'] == \"Replanning\"].tail(16)"
   ]
  },
  {
   "cell_type": "code",
   "execution_count": 76,
   "id": "1fe9bdfc",
   "metadata": {},
   "outputs": [],
   "source": [
    "#num_pass.to_csv('C:/Shared-Work/Data/CleanData/num_pass.csv', index = False)"
   ]
  },
  {
   "cell_type": "code",
   "execution_count": 77,
   "id": "be846e6d",
   "metadata": {},
   "outputs": [],
   "source": [
    "#eventsSF[\"mode_choice_replanned_BEAM\"] = eventsSF.groupby(['IDMerged','tripIndex'])['mode_choice_replanned_BEAM'].transform(lambda x: x.bfill())"
   ]
  },
  {
   "cell_type": "code",
   "execution_count": 78,
   "id": "24653ae4",
   "metadata": {},
   "outputs": [],
   "source": [
    "#eventsSF['mode_choice_actual_BEAM'] = eventsSF['mode_choice_actual_BEAM'].combine_first(eventsSF['modeBEAM_rh'])"
   ]
  },
  {
   "cell_type": "code",
   "execution_count": 79,
   "id": "76749909",
   "metadata": {},
   "outputs": [],
   "source": [
    "#eventsSF['mode_planned_tour_ActSim'] = np.where(eventsSF['type'] == 'PathTraversal', eventsSF['currentTourMode'], np.nan)"
   ]
  },
  {
   "cell_type": "code",
   "execution_count": 80,
   "id": "c4fa0d0a",
   "metadata": {},
   "outputs": [],
   "source": [
    "#eventsSF.head(10000).to_csv('C:/Shared-Work/Data/CleanData/eventsNew_check.csv', index = False)   "
   ]
  },
  {
   "cell_type": "code",
   "execution_count": 81,
   "id": "c45955c5",
   "metadata": {},
   "outputs": [],
   "source": [
    "#eventsSF['numPassengers_agg'] = eventsSF.groupby(['IDMerged','tripIndex'], as_index=False).numPassengers.agg(lambda x: ', '.join(set(x.dropna().astype(str))))"
   ]
  },
  {
   "cell_type": "markdown",
   "id": "3bd20fe1",
   "metadata": {},
   "source": [
    "#### Mode Choice planned and actual"
   ]
  },
  {
   "cell_type": "code",
   "execution_count": 57,
   "id": "9ecaf4ba",
   "metadata": {},
   "outputs": [
    {
     "name": "stdout",
     "output_type": "stream",
     "text": [
      "Wall time: 1min 26s\n"
     ]
    }
   ],
   "source": [
    "%%time\n",
    "eventsSF['mode_choice_actual_BEAM'] = eventsSF.groupby(['IDMerged','tripId', 'type'])['modeBEAM'].transform('last')"
   ]
  },
  {
   "cell_type": "code",
   "execution_count": 58,
   "id": "ed171398",
   "metadata": {},
   "outputs": [
    {
     "name": "stdout",
     "output_type": "stream",
     "text": [
      "Wall time: 1min 24s\n"
     ]
    }
   ],
   "source": [
    "%%time\n",
    "eventsSF['mode_choice_planned_BEAM'] = eventsSF.groupby(['IDMerged','tripId', 'type'])['modeBEAM'].transform('first')"
   ]
  },
  {
   "cell_type": "code",
   "execution_count": 59,
   "id": "723f03e6",
   "metadata": {},
   "outputs": [],
   "source": [
    "eventsSF['mode_choice_actual_BEAM'] = np.where(eventsSF['type'] != 'ModeChoice' , np.nan, eventsSF['mode_choice_actual_BEAM'])"
   ]
  },
  {
   "cell_type": "code",
   "execution_count": 60,
   "id": "8bac64c3",
   "metadata": {},
   "outputs": [],
   "source": [
    "eventsSF['mode_choice_planned_BEAM'] = np.where(eventsSF['type'] != 'ModeChoice' , np.nan, eventsSF['mode_choice_planned_BEAM'])"
   ]
  },
  {
   "cell_type": "code",
   "execution_count": 61,
   "id": "bd021670",
   "metadata": {},
   "outputs": [],
   "source": [
    "# Rename the \"netCost\" column\n",
    "eventsSF.rename(columns={\"netCost\":\"cost_BEAM\"}, inplace=True) "
   ]
  },
  {
   "cell_type": "code",
   "execution_count": 62,
   "id": "2bfdc471",
   "metadata": {},
   "outputs": [],
   "source": [
    "#eventsSF[eventsSF['type']=='Replanning'].head()"
   ]
  },
  {
   "cell_type": "code",
   "execution_count": 63,
   "id": "6dca051c",
   "metadata": {},
   "outputs": [],
   "source": [
    "# Replanning events = 1, the rest = 0\n",
    "eventsSF['replanning_status'] = np.where(eventsSF['type']=='Replanning', 1, 0)"
   ]
  },
  {
   "cell_type": "code",
   "execution_count": 64,
   "id": "5b68f6e4",
   "metadata": {},
   "outputs": [],
   "source": [
    "#q = eventsSF[eventsSF['IDMerged'] == 6902751]"
   ]
  },
  {
   "cell_type": "code",
   "execution_count": 65,
   "id": "951f38c5",
   "metadata": {},
   "outputs": [],
   "source": [
    "#q.to_csv('C:/Shared-Work/Data/CleanData/PivotTables/fake2.csv')   "
   ]
  },
  {
   "cell_type": "code",
   "execution_count": 66,
   "id": "11d6986e",
   "metadata": {},
   "outputs": [
    {
     "name": "stdout",
     "output_type": "stream",
     "text": [
      "Wall time: 1.7 s\n"
     ]
    }
   ],
   "source": [
    "%%time\n",
    "eventsSF['reason'].replace('nan', np.NaN)"
   ]
  },
  {
   "cell_type": "code",
   "execution_count": 67,
   "id": "e2809aa0",
   "metadata": {},
   "outputs": [],
   "source": [
    "eventsSF['transit_bus'] = np.where(eventsSF['modeBEAM_rh']=='bus', 1, 0)\n",
    "eventsSF['transit_subway'] = np.where(eventsSF['modeBEAM_rh']=='subway', 1, 0)\n",
    "eventsSF['transit_tram'] = np.where(eventsSF['modeBEAM_rh']=='tram', 1, 0)\n",
    "eventsSF['transit_rail'] = np.where(eventsSF['modeBEAM_rh']=='rail', 1, 0)\n",
    "eventsSF['transit_cable_car'] = np.where(eventsSF['modeBEAM_rh']=='cable_car', 1, 0)"
   ]
  },
  {
   "cell_type": "code",
   "execution_count": 68,
   "id": "07b5229c",
   "metadata": {},
   "outputs": [],
   "source": [
    "eventsSF['ride_hail_pooled'] = np.where(eventsSF['modeBEAM_rh']=='ride_hail_pooled', 1, 0)"
   ]
  },
  {
   "cell_type": "code",
   "execution_count": 103,
   "id": "b38ec0a9",
   "metadata": {},
   "outputs": [],
   "source": [
    "#transit_data = eventsSF[(eventsSF['modeBEAM_rh'] == \"bus\") | (eventsSF['modeBEAM_rh'] == \"subway\") \n",
    "#                        | (eventsSF['modeBEAM_rh'] == 'walk_transit') | (eventsSF['modeBEAM_rh'] == 'ride_hail_transit') \n",
    "#                        | (eventsSF['modeBEAM_rh'] == 'bike_transit') | (eventsSF['modeBEAM_rh'] == 'drive_transit') \n",
    "#                        | (eventsSF['modeBEAM_rh'] == 'cable_car') | (eventsSF['modeBEAM_rh'] == 'rail') \n",
    "#                        | (eventsSF['modeBEAM_rh'] == 'tram')]"
   ]
  },
  {
   "cell_type": "code",
   "execution_count": null,
   "id": "c1e341f6",
   "metadata": {},
   "outputs": [],
   "source": [
    "#eventsSF.loc['Total',:]= df.sum(axis=0)"
   ]
  },
  {
   "cell_type": "code",
   "execution_count": null,
   "id": "44422855",
   "metadata": {},
   "outputs": [],
   "source": [
    "#eventsSF.type[eventsSF.type == 'Replanning'].count()"
   ]
  },
  {
   "cell_type": "code",
   "execution_count": null,
   "id": "ebaa048d",
   "metadata": {},
   "outputs": [],
   "source": [
    "#Person_Trip_eventsSF.replanning_status[Person_Trip_eventsSF.replanning_status == 0].count()"
   ]
  },
  {
   "cell_type": "code",
   "execution_count": null,
   "id": "d7a8619c",
   "metadata": {},
   "outputs": [],
   "source": [
    "#rh_transit5 = eventsSF[eventsSF['IDMerged']== 3671596]"
   ]
  },
  {
   "cell_type": "code",
   "execution_count": null,
   "id": "bf4b40fc",
   "metadata": {},
   "outputs": [],
   "source": [
    "#rh_transit5.to_csv('C:/Shared-Work/Data/CleanData/rh_transit5.csv', index = False)"
   ]
  },
  {
   "cell_type": "code",
   "execution_count": 69,
   "id": "26dba60e",
   "metadata": {},
   "outputs": [],
   "source": [
    "eventsSFCopy = eventsSF.copy()"
   ]
  },
  {
   "cell_type": "code",
   "execution_count": 78,
   "id": "59ec2a8e",
   "metadata": {},
   "outputs": [],
   "source": [
    "eventsSF.head(100000).to_csv('C:/Shared-Work/Data/CleanData/modeBEAMCHECK.csv', index = False)"
   ]
  },
  {
   "cell_type": "code",
   "execution_count": 163,
   "id": "4a679675",
   "metadata": {},
   "outputs": [
    {
     "name": "stdout",
     "output_type": "stream",
     "text": [
      "Wall time: 28min 7s\n"
     ]
    }
   ],
   "source": [
    "%%time\n",
    "Person_Trip_eventsSF = pd.pivot_table(\n",
    "   eventsSF,\n",
    "   index=['IDMerged','tripIndex'],\n",
    "   aggfunc={'actStartTime': np.sum, 'actEndTime': np.sum, 'travelTime': np.sum, 'cost_BEAM': np.sum, 'actStartType': np.sum, \n",
    "            'actEndType': np.sum, 'duration_walking': np.sum, 'duration_in_privateCar': np.sum, 'duration_on_bike': np.sum, \n",
    "            'duration_in_ridehail': np.sum, 'travelDistance': np.sum, 'duration_in_transit': np.sum, 'distance_walking': np.sum, \n",
    "            'distance_bike': np.sum, 'distance_ridehail': np.sum, 'distance_privateCar': np.sum, 'distance_transit': np.sum, \n",
    "            'legVehicleIds': np.sum, \n",
    "            'mode_choice_planned_BEAM':lambda x: ', '.join(set(x.dropna().astype(str))),\n",
    "            'mode_choice_actual_BEAM':lambda x: ', '.join(set(x.dropna().astype(str))),\n",
    "            'vehicle': lambda x: ', '.join(set(x.dropna().astype(str))),\n",
    "            'numPassengers': lambda x: ', '.join(list(x.dropna().astype(str))),\n",
    "            'length_mode_choice': np.sum, \n",
    "            'replanning_status': np.sum,\n",
    "            'reason': lambda x: ', '.join(list(x.dropna().astype(str))),\n",
    "            'transit_bus': np.sum, 'transit_subway': np.sum, 'transit_tram': np.sum, 'transit_cable_car': np.sum,\n",
    "            'ride_hail_pooled': np.sum, 'transit_rail': np.sum,\n",
    "            'year': lambda x: ', '.join(set(x.dropna().astype(str))),\n",
    "            'scenario': lambda x: ', '.join(set(x.dropna().astype(str)))}).reset_index() \n",
    "\n",
    "#'numPassengers': lambda x: ', '.join(set(x.dropna().astype(str))) \n",
    "#'mode_choice_actual_BEAM':lambda x: ', '.join(set(x.dropna().astype(str))) #\n",
    "#'fuelFood': np.sum, 'fuelElectricity': np.sum, 'fuelBiodiesel': np.sum, 'fuelDiesel': np.sum, 'fuel_not_Food': np.sum, 'fuelGasoline': np.sum,\n",
    "#'modeBEAM_rh': lambda x: ', '.join(list(x.dropna().astype(str))), "
   ]
  },
  {
   "cell_type": "code",
   "execution_count": 164,
   "id": "dc3ac897",
   "metadata": {},
   "outputs": [],
   "source": [
    "Person_Trip_eventsSF['door_to_door_time'] = Person_Trip_eventsSF['actStartTime'] - Person_Trip_eventsSF['actEndTime'] "
   ]
  },
  {
   "cell_type": "code",
   "execution_count": 165,
   "id": "03bd08b4",
   "metadata": {},
   "outputs": [],
   "source": [
    "Person_Trip_eventsSF['waitTime'] = Person_Trip_eventsSF['door_to_door_time'] - Person_Trip_eventsSF['travelTime'] "
   ]
  },
  {
   "cell_type": "code",
   "execution_count": 166,
   "id": "28560b3b",
   "metadata": {},
   "outputs": [],
   "source": [
    "Person_Trip_eventsSF['actPurpose'] = Person_Trip_eventsSF['actEndType'].astype(str) + \"_to_\" + Person_Trip_eventsSF['actStartType'].astype(str)"
   ]
  },
  {
   "cell_type": "code",
   "execution_count": 113,
   "id": "2058e942",
   "metadata": {},
   "outputs": [],
   "source": [
    "#Person_Trip_eventsSF[Person_Trip_eventsSF['IDMerged'] == 2192]"
   ]
  },
  {
   "cell_type": "code",
   "execution_count": null,
   "id": "8634344b",
   "metadata": {},
   "outputs": [],
   "source": [
    "#Person_Trip_eventsSF.rename(columns={\"modeBEAM_rh\":\"mode_BEAM_list\"}, inplace=True) "
   ]
  },
  {
   "cell_type": "code",
   "execution_count": 167,
   "id": "d3a96721",
   "metadata": {},
   "outputs": [],
   "source": [
    "Person_Trip_eventsSF.rename(columns={\"legVehicleIds\":\"legVehicleIds_estimate\"}, inplace=True) "
   ]
  },
  {
   "cell_type": "code",
   "execution_count": 168,
   "id": "b8d2f547",
   "metadata": {},
   "outputs": [],
   "source": [
    "Person_Trip_eventsSF.rename(columns={\"vehicle\":\"vehicleIds\"}, inplace=True) "
   ]
  },
  {
   "cell_type": "code",
   "execution_count": 116,
   "id": "d83a2f41",
   "metadata": {},
   "outputs": [],
   "source": [
    "#negative_door.to_csv('C:/Shared-Work/Data/CleanData/PivotTables/negative_door.csv', index = False)   "
   ]
  },
  {
   "cell_type": "code",
   "execution_count": null,
   "id": "ab8aaa10",
   "metadata": {},
   "outputs": [],
   "source": [
    "#Person_Trip_eventsSF.door_to_door_time[Person_Trip_eventsSF.door_to_door_time<0].count()"
   ]
  },
  {
   "cell_type": "code",
   "execution_count": null,
   "id": "434cd548",
   "metadata": {},
   "outputs": [],
   "source": [
    "#negative_door = Person_Trip_eventsSF[(Person_Trip_eventsSF.door_to_door_time<0)]"
   ]
  },
  {
   "cell_type": "code",
   "execution_count": null,
   "id": "3c0e1bd0",
   "metadata": {},
   "outputs": [],
   "source": [
    "#a  = Person_Trip_eventsSF.describe()"
   ]
  },
  {
   "cell_type": "code",
   "execution_count": null,
   "id": "5395ab24",
   "metadata": {},
   "outputs": [],
   "source": [
    "#negative_door.to_csv('C:/Shared-Work/Data/CleanData/PivotTables/negative_door.csv')   "
   ]
  },
  {
   "cell_type": "code",
   "execution_count": null,
   "id": "649260ae",
   "metadata": {},
   "outputs": [],
   "source": [
    "#sample_bike2 = eventsSF[(eventsSF['primaryFuelType'] == \"Gasoline\") & (eventsSF['modeBEAM'] == \"bike\") ]"
   ]
  },
  {
   "cell_type": "code",
   "execution_count": 169,
   "id": "2d2b37e2",
   "metadata": {},
   "outputs": [],
   "source": [
    "Person_Trip_eventsSF.to_csv('C:/Shared-Work/Data/CleanData/sf_2018_base.csv', index = False)"
   ]
  },
  {
   "cell_type": "code",
   "execution_count": null,
   "id": "00b62b25",
   "metadata": {},
   "outputs": [],
   "source": [
    "#Person_Trip_eventsSF[Person_Trip_eventsSF['mode_choice_planned_BEAM'] == 'walk_transit'].head()"
   ]
  },
  {
   "cell_type": "code",
   "execution_count": 170,
   "id": "845ae4a1",
   "metadata": {},
   "outputs": [
    {
     "data": {
      "text/html": [
       "<div>\n",
       "<style scoped>\n",
       "    .dataframe tbody tr th:only-of-type {\n",
       "        vertical-align: middle;\n",
       "    }\n",
       "\n",
       "    .dataframe tbody tr th {\n",
       "        vertical-align: top;\n",
       "    }\n",
       "\n",
       "    .dataframe thead th {\n",
       "        text-align: right;\n",
       "    }\n",
       "</style>\n",
       "<table border=\"1\" class=\"dataframe\">\n",
       "  <thead>\n",
       "    <tr style=\"text-align: right;\">\n",
       "      <th></th>\n",
       "      <th>IDMerged</th>\n",
       "      <th>tripIndex</th>\n",
       "      <th>actEndTime</th>\n",
       "      <th>actEndType</th>\n",
       "      <th>actStartTime</th>\n",
       "      <th>actStartType</th>\n",
       "      <th>cost_BEAM</th>\n",
       "      <th>distance_bike</th>\n",
       "      <th>distance_privateCar</th>\n",
       "      <th>distance_ridehail</th>\n",
       "      <th>distance_transit</th>\n",
       "      <th>distance_walking</th>\n",
       "      <th>duration_in_privateCar</th>\n",
       "      <th>duration_in_ridehail</th>\n",
       "      <th>duration_in_transit</th>\n",
       "      <th>duration_on_bike</th>\n",
       "      <th>duration_walking</th>\n",
       "      <th>legVehicleIds_estimate</th>\n",
       "      <th>length_mode_choice</th>\n",
       "      <th>mode_choice_actual_BEAM</th>\n",
       "      <th>mode_choice_planned_BEAM</th>\n",
       "      <th>numPassengers</th>\n",
       "      <th>reason</th>\n",
       "      <th>replanning_status</th>\n",
       "      <th>ride_hail_pooled</th>\n",
       "      <th>scenario</th>\n",
       "      <th>transit_bus</th>\n",
       "      <th>transit_cable_car</th>\n",
       "      <th>transit_rail</th>\n",
       "      <th>transit_subway</th>\n",
       "      <th>transit_tram</th>\n",
       "      <th>travelDistance</th>\n",
       "      <th>travelTime</th>\n",
       "      <th>vehicleIds</th>\n",
       "      <th>year</th>\n",
       "      <th>door_to_door_time</th>\n",
       "      <th>waitTime</th>\n",
       "      <th>actPurpose</th>\n",
       "    </tr>\n",
       "  </thead>\n",
       "  <tbody>\n",
       "    <tr>\n",
       "      <th>0</th>\n",
       "      <td>1</td>\n",
       "      <td>577.0</td>\n",
       "      <td>29037.0</td>\n",
       "      <td>Home</td>\n",
       "      <td>29601.0</td>\n",
       "      <td>othmaint</td>\n",
       "      <td>0.000000</td>\n",
       "      <td>0.0</td>\n",
       "      <td>6498.758</td>\n",
       "      <td>0.0</td>\n",
       "      <td>0.0</td>\n",
       "      <td>0.000</td>\n",
       "      <td>564.0</td>\n",
       "      <td>0.0</td>\n",
       "      <td>0.0</td>\n",
       "      <td>0.0</td>\n",
       "      <td>0.0</td>\n",
       "      <td>body-1,teleportationSharedVehicle-1-1,body-1</td>\n",
       "      <td>6498.758</td>\n",
       "      <td>hov3_teleportation</td>\n",
       "      <td>hov3_teleportation</td>\n",
       "      <td></td>\n",
       "      <td></td>\n",
       "      <td>0</td>\n",
       "      <td>0</td>\n",
       "      <td>baseline</td>\n",
       "      <td>0</td>\n",
       "      <td>0</td>\n",
       "      <td>0</td>\n",
       "      <td>0</td>\n",
       "      <td>0</td>\n",
       "      <td>6498.758</td>\n",
       "      <td>564.0</td>\n",
       "      <td></td>\n",
       "      <td>2018</td>\n",
       "      <td>564.0</td>\n",
       "      <td>0.0</td>\n",
       "      <td>Home_to_othmaint</td>\n",
       "    </tr>\n",
       "    <tr>\n",
       "      <th>1</th>\n",
       "      <td>1</td>\n",
       "      <td>578.0</td>\n",
       "      <td>29751.0</td>\n",
       "      <td>othmaint</td>\n",
       "      <td>29890.0</td>\n",
       "      <td>school</td>\n",
       "      <td>0.000000</td>\n",
       "      <td>0.0</td>\n",
       "      <td>1641.981</td>\n",
       "      <td>0.0</td>\n",
       "      <td>0.0</td>\n",
       "      <td>0.000</td>\n",
       "      <td>139.0</td>\n",
       "      <td>0.0</td>\n",
       "      <td>0.0</td>\n",
       "      <td>0.0</td>\n",
       "      <td>0.0</td>\n",
       "      <td>body-1,teleportationSharedVehicle-2-1,body-1</td>\n",
       "      <td>1641.981</td>\n",
       "      <td>hov3_teleportation</td>\n",
       "      <td>hov3_teleportation</td>\n",
       "      <td></td>\n",
       "      <td></td>\n",
       "      <td>0</td>\n",
       "      <td>0</td>\n",
       "      <td>baseline</td>\n",
       "      <td>0</td>\n",
       "      <td>0</td>\n",
       "      <td>0</td>\n",
       "      <td>0</td>\n",
       "      <td>0</td>\n",
       "      <td>1641.981</td>\n",
       "      <td>139.0</td>\n",
       "      <td></td>\n",
       "      <td>2018</td>\n",
       "      <td>139.0</td>\n",
       "      <td>0.0</td>\n",
       "      <td>othmaint_to_school</td>\n",
       "    </tr>\n",
       "    <tr>\n",
       "      <th>2</th>\n",
       "      <td>1</td>\n",
       "      <td>581.0</td>\n",
       "      <td>52812.0</td>\n",
       "      <td>school</td>\n",
       "      <td>53394.0</td>\n",
       "      <td>Home</td>\n",
       "      <td>0.000000</td>\n",
       "      <td>0.0</td>\n",
       "      <td>6326.206</td>\n",
       "      <td>0.0</td>\n",
       "      <td>0.0</td>\n",
       "      <td>0.000</td>\n",
       "      <td>582.0</td>\n",
       "      <td>0.0</td>\n",
       "      <td>0.0</td>\n",
       "      <td>0.0</td>\n",
       "      <td>0.0</td>\n",
       "      <td>body-1,teleportationSharedVehicle-3-1,body-1</td>\n",
       "      <td>6326.206</td>\n",
       "      <td>hov3_teleportation</td>\n",
       "      <td>hov3_teleportation</td>\n",
       "      <td></td>\n",
       "      <td></td>\n",
       "      <td>0</td>\n",
       "      <td>0</td>\n",
       "      <td>baseline</td>\n",
       "      <td>0</td>\n",
       "      <td>0</td>\n",
       "      <td>0</td>\n",
       "      <td>0</td>\n",
       "      <td>0</td>\n",
       "      <td>6326.206</td>\n",
       "      <td>582.0</td>\n",
       "      <td></td>\n",
       "      <td>2018</td>\n",
       "      <td>582.0</td>\n",
       "      <td>0.0</td>\n",
       "      <td>school_to_Home</td>\n",
       "    </tr>\n",
       "    <tr>\n",
       "      <th>3</th>\n",
       "      <td>2</td>\n",
       "      <td>689.0</td>\n",
       "      <td>46533.0</td>\n",
       "      <td>work</td>\n",
       "      <td>48475.0</td>\n",
       "      <td>atwork</td>\n",
       "      <td>3.656274</td>\n",
       "      <td>0.0</td>\n",
       "      <td>33336.011</td>\n",
       "      <td>0.0</td>\n",
       "      <td>0.0</td>\n",
       "      <td>786.423</td>\n",
       "      <td>1337.0</td>\n",
       "      <td>0.0</td>\n",
       "      <td>0.0</td>\n",
       "      <td>0.0</td>\n",
       "      <td>605.0</td>\n",
       "      <td>body-2,539168,539168,body-2</td>\n",
       "      <td>34122.434</td>\n",
       "      <td>car</td>\n",
       "      <td>car</td>\n",
       "      <td>1.0, 0.0, 0.0, 1.0</td>\n",
       "      <td></td>\n",
       "      <td>0</td>\n",
       "      <td>0</td>\n",
       "      <td>baseline</td>\n",
       "      <td>0</td>\n",
       "      <td>0</td>\n",
       "      <td>0</td>\n",
       "      <td>0</td>\n",
       "      <td>0</td>\n",
       "      <td>34122.434</td>\n",
       "      <td>1942.0</td>\n",
       "      <td>539168, body-2</td>\n",
       "      <td>2018</td>\n",
       "      <td>1942.0</td>\n",
       "      <td>0.0</td>\n",
       "      <td>work_to_atwork</td>\n",
       "    </tr>\n",
       "    <tr>\n",
       "      <th>4</th>\n",
       "      <td>2</td>\n",
       "      <td>693.0</td>\n",
       "      <td>49010.0</td>\n",
       "      <td>atwork</td>\n",
       "      <td>49126.0</td>\n",
       "      <td>work</td>\n",
       "      <td>0.182227</td>\n",
       "      <td>0.0</td>\n",
       "      <td>1661.452</td>\n",
       "      <td>0.0</td>\n",
       "      <td>0.0</td>\n",
       "      <td>30.277</td>\n",
       "      <td>93.0</td>\n",
       "      <td>0.0</td>\n",
       "      <td>0.0</td>\n",
       "      <td>0.0</td>\n",
       "      <td>23.0</td>\n",
       "      <td>body-2,539168,539168,body-2</td>\n",
       "      <td>1691.729</td>\n",
       "      <td>car</td>\n",
       "      <td>car</td>\n",
       "      <td>1.0, 0.0, 0.0, 1.0</td>\n",
       "      <td></td>\n",
       "      <td>0</td>\n",
       "      <td>0</td>\n",
       "      <td>baseline</td>\n",
       "      <td>0</td>\n",
       "      <td>0</td>\n",
       "      <td>0</td>\n",
       "      <td>0</td>\n",
       "      <td>0</td>\n",
       "      <td>1691.729</td>\n",
       "      <td>116.0</td>\n",
       "      <td>539168, body-2</td>\n",
       "      <td>2018</td>\n",
       "      <td>116.0</td>\n",
       "      <td>0.0</td>\n",
       "      <td>atwork_to_work</td>\n",
       "    </tr>\n",
       "  </tbody>\n",
       "</table>\n",
       "</div>"
      ],
      "text/plain": [
       "   IDMerged  tripIndex  actEndTime actEndType  actStartTime actStartType  \\\n",
       "0         1      577.0     29037.0       Home       29601.0     othmaint   \n",
       "1         1      578.0     29751.0   othmaint       29890.0       school   \n",
       "2         1      581.0     52812.0     school       53394.0         Home   \n",
       "3         2      689.0     46533.0       work       48475.0       atwork   \n",
       "4         2      693.0     49010.0     atwork       49126.0         work   \n",
       "\n",
       "   cost_BEAM  distance_bike  distance_privateCar  distance_ridehail  \\\n",
       "0   0.000000            0.0             6498.758                0.0   \n",
       "1   0.000000            0.0             1641.981                0.0   \n",
       "2   0.000000            0.0             6326.206                0.0   \n",
       "3   3.656274            0.0            33336.011                0.0   \n",
       "4   0.182227            0.0             1661.452                0.0   \n",
       "\n",
       "   distance_transit  distance_walking  duration_in_privateCar  \\\n",
       "0               0.0             0.000                   564.0   \n",
       "1               0.0             0.000                   139.0   \n",
       "2               0.0             0.000                   582.0   \n",
       "3               0.0           786.423                  1337.0   \n",
       "4               0.0            30.277                    93.0   \n",
       "\n",
       "   duration_in_ridehail  duration_in_transit  duration_on_bike  \\\n",
       "0                   0.0                  0.0               0.0   \n",
       "1                   0.0                  0.0               0.0   \n",
       "2                   0.0                  0.0               0.0   \n",
       "3                   0.0                  0.0               0.0   \n",
       "4                   0.0                  0.0               0.0   \n",
       "\n",
       "   duration_walking                        legVehicleIds_estimate  \\\n",
       "0               0.0  body-1,teleportationSharedVehicle-1-1,body-1   \n",
       "1               0.0  body-1,teleportationSharedVehicle-2-1,body-1   \n",
       "2               0.0  body-1,teleportationSharedVehicle-3-1,body-1   \n",
       "3             605.0                   body-2,539168,539168,body-2   \n",
       "4              23.0                   body-2,539168,539168,body-2   \n",
       "\n",
       "   length_mode_choice mode_choice_actual_BEAM mode_choice_planned_BEAM  \\\n",
       "0            6498.758      hov3_teleportation       hov3_teleportation   \n",
       "1            1641.981      hov3_teleportation       hov3_teleportation   \n",
       "2            6326.206      hov3_teleportation       hov3_teleportation   \n",
       "3           34122.434                     car                      car   \n",
       "4            1691.729                     car                      car   \n",
       "\n",
       "        numPassengers reason  replanning_status  ride_hail_pooled  scenario  \\\n",
       "0                                             0                 0  baseline   \n",
       "1                                             0                 0  baseline   \n",
       "2                                             0                 0  baseline   \n",
       "3  1.0, 0.0, 0.0, 1.0                         0                 0  baseline   \n",
       "4  1.0, 0.0, 0.0, 1.0                         0                 0  baseline   \n",
       "\n",
       "   transit_bus  transit_cable_car  transit_rail  transit_subway  transit_tram  \\\n",
       "0            0                  0             0               0             0   \n",
       "1            0                  0             0               0             0   \n",
       "2            0                  0             0               0             0   \n",
       "3            0                  0             0               0             0   \n",
       "4            0                  0             0               0             0   \n",
       "\n",
       "   travelDistance  travelTime      vehicleIds  year  door_to_door_time  \\\n",
       "0        6498.758       564.0                  2018              564.0   \n",
       "1        1641.981       139.0                  2018              139.0   \n",
       "2        6326.206       582.0                  2018              582.0   \n",
       "3       34122.434      1942.0  539168, body-2  2018             1942.0   \n",
       "4        1691.729       116.0  539168, body-2  2018              116.0   \n",
       "\n",
       "   waitTime          actPurpose  \n",
       "0       0.0    Home_to_othmaint  \n",
       "1       0.0  othmaint_to_school  \n",
       "2       0.0      school_to_Home  \n",
       "3       0.0      work_to_atwork  \n",
       "4       0.0      atwork_to_work  "
      ]
     },
     "execution_count": 170,
     "metadata": {},
     "output_type": "execute_result"
    }
   ],
   "source": [
    "Person_Trip_eventsSF.head()"
   ]
  },
  {
   "cell_type": "code",
   "execution_count": null,
   "id": "0a7b4874",
   "metadata": {},
   "outputs": [],
   "source": []
  },
  {
   "cell_type": "markdown",
   "id": "557c5804",
   "metadata": {},
   "source": [
    "#### Merging with activity sim persons and housholds files"
   ]
  },
  {
   "cell_type": "code",
   "execution_count": 172,
   "id": "fc9f6e38",
   "metadata": {},
   "outputs": [],
   "source": [
    "actloc_2018_baseline = \"https://beam-outputs.s3.amazonaws.com/pilates-outputs/sfbay-base-20220409/activitysim/\"\n",
    "actloc_2018_transitFreq05 = \"https://beam-outputs.s3.amazonaws.com/pilates-outputs/sfbay-transit_frequencies_0.5-20220228/activitysim/\"\n",
    "actloc_2018_transitFreq1p5 = \"https://beam-outputs.s3.amazonaws.com/pilates-outputs/sfbay-transit_frequencies_1.5-20220228/activitysim/\"\n",
    "actloc_2018_transitFreq2 = \"https://beam-outputs.s3.amazonaws.com/pilates-outputs/sfbay-transit_frequencies_2.0-20220229/activitysim/\"\n",
    "actloc_2018_rhFleetsz0125 = \"https://beam-outputs.s3.amazonaws.com/pilates-outputs/sfbay-RH_fleetsz_0.125-20220408/activitysim/\"\n",
    "actloc_2018_rhFleetsz175 = \"https://beam-outputs.s3.amazonaws.com/pilates-outputs/sfbay-RH_fleetsz_1.75-20220408/activitysim/\"\n",
    "\n",
    "households = pd.read_csv(actloc_2018_baseline + 'final_households.csv')\n",
    "persons = pd.read_csv(actloc_2018_baseline + 'final_persons.csv')\n",
    "tours = pd.read_csv(actloc_2018_baseline +'final_tours.csv')\n",
    "plans = pd.read_csv(actloc_2018_baseline +'final_plans.csv')\n",
    "trips = pd.read_csv(actloc_2018_baseline + 'final_trips.csv')"
   ]
  },
  {
   "cell_type": "code",
   "execution_count": 173,
   "id": "2f940ac2",
   "metadata": {},
   "outputs": [],
   "source": [
    "#persons.earning[persons.earning<0].count()"
   ]
  },
  {
   "cell_type": "code",
   "execution_count": 174,
   "id": "47b6ea7f",
   "metadata": {},
   "outputs": [],
   "source": [
    "# Merge households and persons \n",
    "persons = persons.sort_values(by=['household_id'])\n",
    "households = households.sort_values(by=['household_id'])\n",
    "hhpersons = pd.merge(left=persons, right=households, how='left', on='household_id')\n",
    "#hhpersons = pd.merge(left=persons, right=households, how='left', on='household_id', suffixes=('', '_drop'))\n",
    "#hhpersons.drop([col for col in hhpersons.columns if 'drop' in col], axis=1, inplace=True)"
   ]
  },
  {
   "cell_type": "code",
   "execution_count": 175,
   "id": "5b20c94f",
   "metadata": {},
   "outputs": [],
   "source": [
    "# Merge tours, households and persons\n",
    "tours = tours.sort_values(by=['person_id'])\n",
    "hhpersons = hhpersons.sort_values(by=['person_id'])\n",
    "hhperTours = pd.merge(left=tours, right=hhpersons, how='left', on='person_id')\n",
    "#hhperTours = pd.merge(left=tours, right=hhpersons, how='left', on='person_id', suffixes=('', '_drop'))\n",
    "#hhperTours.drop([col for col in hhperTours.columns if 'drop' in col], axis=1, inplace=True)"
   ]
  },
  {
   "cell_type": "code",
   "execution_count": 176,
   "id": "6ef8c6a0",
   "metadata": {},
   "outputs": [],
   "source": [
    "# Merge trips, tours, households and persons\n",
    "trips = trips.sort_values(by=['person_id', 'tour_id'])\n",
    "hhperTours = hhperTours.sort_values(by=['person_id','tour_id'])\n",
    "tourTripsMerged = pd.merge(left=trips, right=hhperTours, how='left', on=['person_id','tour_id'])\n",
    "#tourTripsMerged = pd.merge(left=trips, right=hhperTours, how='left', on=['person_id','tour_id'], suffixes=('', '_drop'))\n",
    "#tourTripsMerged.drop([col for col in tourTripsMerged.columns if 'drop' in col], axis=1, inplace=True)"
   ]
  },
  {
   "cell_type": "code",
   "execution_count": 177,
   "id": "fb3c4f10",
   "metadata": {},
   "outputs": [
    {
     "data": {
      "text/html": [
       "<div>\n",
       "<style scoped>\n",
       "    .dataframe tbody tr th:only-of-type {\n",
       "        vertical-align: middle;\n",
       "    }\n",
       "\n",
       "    .dataframe tbody tr th {\n",
       "        vertical-align: top;\n",
       "    }\n",
       "\n",
       "    .dataframe thead th {\n",
       "        text-align: right;\n",
       "    }\n",
       "</style>\n",
       "<table border=\"1\" class=\"dataframe\">\n",
       "  <thead>\n",
       "    <tr style=\"text-align: right;\">\n",
       "      <th></th>\n",
       "      <th>trip_id</th>\n",
       "      <th>person_id</th>\n",
       "      <th>household_id</th>\n",
       "      <th>tour_id</th>\n",
       "      <th>primary_purpose</th>\n",
       "      <th>trip_num</th>\n",
       "      <th>outbound</th>\n",
       "      <th>trip_count</th>\n",
       "      <th>purpose</th>\n",
       "      <th>destination</th>\n",
       "      <th>origin</th>\n",
       "      <th>destination_logsum</th>\n",
       "      <th>depart</th>\n",
       "      <th>trip_mode</th>\n",
       "      <th>mode_choice_logsum</th>\n",
       "    </tr>\n",
       "  </thead>\n",
       "  <tbody>\n",
       "    <tr>\n",
       "      <th>507811</th>\n",
       "      <td>577</td>\n",
       "      <td>1</td>\n",
       "      <td>1735309</td>\n",
       "      <td>72</td>\n",
       "      <td>school</td>\n",
       "      <td>1</td>\n",
       "      <td>True</td>\n",
       "      <td>2</td>\n",
       "      <td>othmaint</td>\n",
       "      <td>595</td>\n",
       "      <td>641</td>\n",
       "      <td>5.730384</td>\n",
       "      <td>8.0</td>\n",
       "      <td>SHARED2FREE</td>\n",
       "      <td>-2.150332</td>\n",
       "    </tr>\n",
       "    <tr>\n",
       "      <th>507812</th>\n",
       "      <td>578</td>\n",
       "      <td>1</td>\n",
       "      <td>1735309</td>\n",
       "      <td>72</td>\n",
       "      <td>school</td>\n",
       "      <td>2</td>\n",
       "      <td>True</td>\n",
       "      <td>2</td>\n",
       "      <td>school</td>\n",
       "      <td>633</td>\n",
       "      <td>595</td>\n",
       "      <td>NaN</td>\n",
       "      <td>8.0</td>\n",
       "      <td>SHARED2FREE</td>\n",
       "      <td>-2.020166</td>\n",
       "    </tr>\n",
       "    <tr>\n",
       "      <th>507813</th>\n",
       "      <td>581</td>\n",
       "      <td>1</td>\n",
       "      <td>1735309</td>\n",
       "      <td>72</td>\n",
       "      <td>school</td>\n",
       "      <td>1</td>\n",
       "      <td>False</td>\n",
       "      <td>1</td>\n",
       "      <td>Home</td>\n",
       "      <td>641</td>\n",
       "      <td>633</td>\n",
       "      <td>NaN</td>\n",
       "      <td>14.0</td>\n",
       "      <td>SHARED2FREE</td>\n",
       "      <td>-1.999284</td>\n",
       "    </tr>\n",
       "    <tr>\n",
       "      <th>507814</th>\n",
       "      <td>689</td>\n",
       "      <td>2</td>\n",
       "      <td>1735309</td>\n",
       "      <td>86</td>\n",
       "      <td>atwork</td>\n",
       "      <td>1</td>\n",
       "      <td>True</td>\n",
       "      <td>1</td>\n",
       "      <td>atwork</td>\n",
       "      <td>700</td>\n",
       "      <td>700</td>\n",
       "      <td>NaN</td>\n",
       "      <td>12.0</td>\n",
       "      <td>DRIVEALONEFREE</td>\n",
       "      <td>-0.505729</td>\n",
       "    </tr>\n",
       "    <tr>\n",
       "      <th>507815</th>\n",
       "      <td>693</td>\n",
       "      <td>2</td>\n",
       "      <td>1735309</td>\n",
       "      <td>86</td>\n",
       "      <td>atwork</td>\n",
       "      <td>1</td>\n",
       "      <td>False</td>\n",
       "      <td>1</td>\n",
       "      <td>Work</td>\n",
       "      <td>700</td>\n",
       "      <td>700</td>\n",
       "      <td>NaN</td>\n",
       "      <td>14.0</td>\n",
       "      <td>DRIVEALONEPAY</td>\n",
       "      <td>-0.507800</td>\n",
       "    </tr>\n",
       "  </tbody>\n",
       "</table>\n",
       "</div>"
      ],
      "text/plain": [
       "        trip_id  person_id  household_id  tour_id primary_purpose  trip_num  \\\n",
       "507811      577          1       1735309       72          school         1   \n",
       "507812      578          1       1735309       72          school         2   \n",
       "507813      581          1       1735309       72          school         1   \n",
       "507814      689          2       1735309       86          atwork         1   \n",
       "507815      693          2       1735309       86          atwork         1   \n",
       "\n",
       "        outbound  trip_count   purpose  destination  origin  \\\n",
       "507811      True           2  othmaint          595     641   \n",
       "507812      True           2    school          633     595   \n",
       "507813     False           1      Home          641     633   \n",
       "507814      True           1    atwork          700     700   \n",
       "507815     False           1      Work          700     700   \n",
       "\n",
       "        destination_logsum  depart       trip_mode  mode_choice_logsum  \n",
       "507811            5.730384     8.0     SHARED2FREE           -2.150332  \n",
       "507812                 NaN     8.0     SHARED2FREE           -2.020166  \n",
       "507813                 NaN    14.0     SHARED2FREE           -1.999284  \n",
       "507814                 NaN    12.0  DRIVEALONEFREE           -0.505729  \n",
       "507815                 NaN    14.0   DRIVEALONEPAY           -0.507800  "
      ]
     },
     "execution_count": 177,
     "metadata": {},
     "output_type": "execute_result"
    }
   ],
   "source": [
    "trips.head()"
   ]
  },
  {
   "cell_type": "code",
   "execution_count": 180,
   "id": "96ae8686",
   "metadata": {},
   "outputs": [],
   "source": [
    "# Merge person_trip level BEAM with activity sim merged files\n",
    "tourTripsMerged = tourTripsMerged.sort_values(by=['person_id', 'trip_id'])\n",
    "Person_Trip_eventsSF = Person_Trip_eventsSF.sort_values(by=['IDMerged','tripIndex'])\n",
    "eventsASim = pd.merge(left=Person_Trip_eventsSF, right=tourTripsMerged, how='left', left_on=[\"IDMerged\", 'tripIndex'], right_on=['person_id', 'trip_id'])\n",
    "#eventsASim = pd.merge(left=Person_Trip_eventsSF, right=tourTripsMerged, how='left',left_on = [\"IDMerged\", 'tripId'] , right_on=['person_id', 'trip_id'], suffixes=('', '_drop'))\n",
    "#eventsASim.drop([col for col in eventsASim.columns if 'drop' in col], axis=1, inplace=True)"
   ]
  },
  {
   "cell_type": "code",
   "execution_count": 181,
   "id": "72ae2d99",
   "metadata": {},
   "outputs": [],
   "source": [
    "eventsASim.rename(columns={\"mode_choice_logsum_y\":\"logsum_tours_mode_AS_tours\"}, inplace=True)"
   ]
  },
  {
   "cell_type": "code",
   "execution_count": 182,
   "id": "7a0b2fcc",
   "metadata": {},
   "outputs": [],
   "source": [
    "eventsASim.rename(columns={\"tour_mode\":\"tour_mode_AS_tours\"}, inplace=True)"
   ]
  },
  {
   "cell_type": "code",
   "execution_count": 183,
   "id": "0def8b02",
   "metadata": {},
   "outputs": [],
   "source": [
    "eventsASim.rename(columns={\"mode_choice_logsum_x\":\"logsum_trip_mode_AS_trips\"}, inplace=True)"
   ]
  },
  {
   "cell_type": "code",
   "execution_count": 184,
   "id": "28906290",
   "metadata": {},
   "outputs": [],
   "source": [
    "eventsASim.rename(columns={\"trip_mode\":\"trip_mode_AS_trips\"}, inplace=True)"
   ]
  },
  {
   "cell_type": "code",
   "execution_count": null,
   "id": "a3fe03ae",
   "metadata": {},
   "outputs": [],
   "source": []
  },
  {
   "cell_type": "code",
   "execution_count": 94,
   "id": "5de13a06",
   "metadata": {},
   "outputs": [],
   "source": [
    "# eventsASim.head(10000).to_csv('C:/Shared-Work/Data/CleanData/Merged_SF_Baseline_2018.csv', index = False)"
   ]
  },
  {
   "cell_type": "code",
   "execution_count": 185,
   "id": "c78a2b6f",
   "metadata": {},
   "outputs": [],
   "source": [
    "eventsASim.to_csv('C:/Shared-Work/Data/CleanData/ASIM_BEAM_Merged/sf_2018_base.csv', index = False)"
   ]
  },
  {
   "cell_type": "code",
   "execution_count": null,
   "id": "66353fcc",
   "metadata": {},
   "outputs": [],
   "source": [
    "# eventsASim.duration_in_privateCar.sum()"
   ]
  },
  {
   "cell_type": "code",
   "execution_count": null,
   "id": "ade3c9f5",
   "metadata": {},
   "outputs": [],
   "source": []
  },
  {
   "cell_type": "code",
   "execution_count": null,
   "id": "ee65fe84",
   "metadata": {},
   "outputs": [],
   "source": []
  },
  {
   "cell_type": "code",
   "execution_count": null,
   "id": "3eb05f10",
   "metadata": {},
   "outputs": [],
   "source": [
    "#import matplotlib.pyplot as plt\n",
    "#import seaborn as sns\n",
    "\n",
    "#plt.figure(figsize=(13, 6))\n",
    "#sns.heatmap(households, vmax=1, annot=True, linewidths=.5)\n",
    "#plt.xticks(rotation=30, horizontalalignment='right')\n",
    "#plt.show()"
   ]
  },
  {
   "cell_type": "code",
   "execution_count": null,
   "id": "04e327c6",
   "metadata": {},
   "outputs": [],
   "source": [
    "#import missingno as msno\n",
    "#%matplotlib inline\n",
    "#msno.bar(SFbaseline2018)\n",
    "#msno.heatmap(persons)"
   ]
  },
  {
   "cell_type": "code",
   "execution_count": null,
   "id": "c3c34a2c",
   "metadata": {},
   "outputs": [],
   "source": []
  },
  {
   "cell_type": "code",
   "execution_count": null,
   "id": "b284a298",
   "metadata": {},
   "outputs": [],
   "source": [
    "#from io import StringIO # python3; python2: BytesIO \n",
    "#import boto\n",
    "#import boto3\n",
    "#\n",
    "#conn = boto.s3.connect_to_region('us-east-2')\n",
    "#bucket = conn.get_bucket('beam-core-act')\n",
    "#csv_buffer = StringIO()\n",
    "#eventsASim.to_csv(csv_buffer)\n",
    "#s3_resource = boto3.resource('s3')\n",
    "#s3_resource.Object(bucket, 'eventsASim.csv').put(Body=csv_buffer.getvalue())"
   ]
  },
  {
   "cell_type": "code",
   "execution_count": null,
   "id": "2f23fe9d",
   "metadata": {},
   "outputs": [],
   "source": []
  }
 ],
 "metadata": {
  "kernelspec": {
   "display_name": "Python 3 (ipykernel)",
   "language": "python",
   "name": "python3"
  },
  "language_info": {
   "codemirror_mode": {
    "name": "ipython",
    "version": 3
   },
   "file_extension": ".py",
   "mimetype": "text/x-python",
   "name": "python",
   "nbconvert_exporter": "python",
   "pygments_lexer": "ipython3",
   "version": "3.9.7"
  }
 },
 "nbformat": 4,
 "nbformat_minor": 5
}
