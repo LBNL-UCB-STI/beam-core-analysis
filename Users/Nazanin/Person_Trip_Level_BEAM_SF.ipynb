{
 "cells": [
  {
   "cell_type": "code",
   "execution_count": 1,
   "id": "f55cd92c",
   "metadata": {},
   "outputs": [],
   "source": [
    "import pandas as pd\n",
    "import numpy as np\n",
    "import geopandas as gpd\n",
    "import h5py\n",
    "import boto.s3\n",
    "import glob\n",
    "import boto3\n",
    "from zipfile import ZipFile"
   ]
  },
  {
   "cell_type": "markdown",
   "id": "2513d967",
   "metadata": {},
   "source": [
    "#### Juan's Code"
   ]
  },
  {
   "cell_type": "code",
   "execution_count": null,
   "id": "b859ca53",
   "metadata": {},
   "outputs": [],
   "source": [
    "s3 = boto3.client(\"s3\")"
   ]
  },
  {
   "cell_type": "code",
   "execution_count": null,
   "id": "5e283d54",
   "metadata": {},
   "outputs": [],
   "source": [
    "#Download File from s3 bucket \n",
    "key = \"pilates-outputs/sfbay-base-20220409/activitysim/year-2018-iteration-5/trip_mode_choice.zip\"\n",
    "s3.download_file(\n",
    "    Bucket=\"beam-outputs\", Key=key, Filename=\"trip_mode_choice.zip\")"
   ]
  },
  {
   "cell_type": "code",
   "execution_count": null,
   "id": "45010a3f",
   "metadata": {},
   "outputs": [],
   "source": [
    "#Automatically extracting ZipFile with a python command \n",
    "with ZipFile('trip_mode_choice.zip', 'r') as zipObj:\n",
    "   # Extract all the contents of zip file in current directory\n",
    "   zipObj.extractall()"
   ]
  },
  {
   "cell_type": "markdown",
   "id": "dea81021",
   "metadata": {},
   "source": [
    "#### Read the files directly from S3"
   ]
  },
  {
   "cell_type": "code",
   "execution_count": 2,
   "id": "17eec708",
   "metadata": {},
   "outputs": [
    {
     "name": "stderr",
     "output_type": "stream",
     "text": [
      "<timed exec>:25: DtypeWarning: Columns (7,12,13,17,23,29,32,44,53) have mixed types. Specify dtype option on import or set low_memory=False.\n"
     ]
    },
    {
     "name": "stdout",
     "output_type": "stream",
     "text": [
      "CPU times: total: 3min 37s\n",
      "Wall time: 3min 37s\n"
     ]
    }
   ],
   "source": [
    "%%time\n",
    "s3 = boto3.client(\"s3\")\n",
    "key = \"pilates-outputs/sfbay-base-20220409/beam/year-2018-iteration-5/ITERS/it.0/0.events.csv.gz\"\n",
    "obj = s3.get_object(Bucket=\"beam-outputs\", Key=key)\n",
    "dtypes = {\n",
    "    \"time\": \"float32\",\n",
    "    \"type\": \"category\",\n",
    "    \"legMode\": \"category\",\n",
    "    \"actType\": \"category\", \n",
    "    \"primaryFuelLevel\": \"float64\",\n",
    "    \"legMode\": \"category\",\n",
    "    \"chargingPointType\":\"category\",\n",
    "    \"pricingModel\":\"category\",\n",
    "    \"parkingType\":\"category\",\n",
    "    \"mode\":\"category\",\n",
    "    \"personalVehicleAvailable\": \"category\",\n",
    "    \"person\": \"object\",\n",
    "    \"driver\": \"object\",\n",
    "    \"riders\": \"object\",\n",
    "    'primaryFuelType': \"category\",\n",
    "    'secondaryFuelType': 'category',\n",
    "    'currentTourMode': 'category',\n",
    "    'currentActivity': 'category',\n",
    "    'nextActivity': 'category'    \n",
    "}\n",
    "eventsSF = pd.read_csv(obj['Body'], compression = 'gzip', dtype = dtypes)"
   ]
  },
  {
   "cell_type": "markdown",
   "id": "7bb956bf",
   "metadata": {},
   "source": [
    "#### SF 2018"
   ]
  },
  {
   "cell_type": "code",
   "execution_count": null,
   "id": "423ab3c4",
   "metadata": {},
   "outputs": [],
   "source": [
    "# File location on S3 (The address should be updated depending on the version of the code using)\n",
    "loc_2018_baseline = \"https://beam-outputs.s3.amazonaws.com/pilates-outputs/sfbay-base-20220409/beam/year-2018-iteration-5/ITERS/it.0/\"\n",
    "loc_2018_transitFreq05 = \"https://beam-outputs.s3.amazonaws.com/pilates-outputs/sfbay-transit_frequencies_0.5-20220528/beam/year-2018-iteration-5/ITERS/it.0/\"\n",
    "loc_2018_transitFreq1p5 = \"https://beam-outputs.s3.amazonaws.com/pilates-outputs/sfbay-transit_frequencies_1.5-20220529/beam/year-2018-iteration-5/ITERS/it.0/\"\n",
    "loc_2018_transitFreq2 = \"https://beam-outputs.s3.amazonaws.com/pilates-outputs/sfbay-transit_frequencies_2.0-20220529/beam/year-2018-iteration-5/ITERS/it.0/\"\n",
    "loc_2018_rhFleetsz0125 = \"https://beam-outputs.s3.amazonaws.com/pilates-outputs/sfbay-RH_fleetsz_0.125-20220408/beam/year-2018-iteration-5/ITERS/it.0/\"\n",
    "loc_2018_rhFleetsz025 = \"https://beam-outputs.s3.amazonaws.com/pilates-outputs/sfbay-RH_fleetsz_0.25-20220408/beam/year-2018-iteration-5/ITERS/it.0/\"\n",
    "loc_2018_rhFleetsz05 = \"https://beam-outputs.s3.amazonaws.com/pilates-outputs/sfbay-RH_fleetsz_0.5-20220408/beam/year-2018-iteration-5/ITERS/it.0/\"\n",
    "loc_2018_rhFleetsz150 = \"https://beam-outputs.s3.amazonaws.com/pilates-outputs/sfbay-RH_fleetsz_1.5-20220328/beam/year-2018-iteration-5/ITERS/it.0/\"\n",
    "loc_2018_rhFleetsz175 = \"https://beam-outputs.s3.amazonaws.com/pilates-outputs/sfbay-RH_fleetsz_1.75-20220408/beam/year-2018-iteration-5/ITERS/it.0/\""
   ]
  },
  {
   "cell_type": "markdown",
   "id": "8ce8ada6",
   "metadata": {},
   "source": [
    "#### SF 2019"
   ]
  },
  {
   "cell_type": "code",
   "execution_count": null,
   "id": "2f3472cf",
   "metadata": {},
   "outputs": [],
   "source": [
    "loc_2019_transCap05 = \"https://beam-outputs.s3.amazonaws.com/pilates-outputs/sfbay-transit_capacity_0.5-20220329/beam/year-2019-iteration-5/ITERS/it.0/\""
   ]
  },
  {
   "cell_type": "code",
   "execution_count": null,
   "id": "39226076",
   "metadata": {},
   "outputs": [],
   "source": [
    "%%time\n",
    "# Reading the events file\n",
    "dtypes = {\n",
    "    \"time\": \"float32\",\n",
    "    \"type\": \"category\",\n",
    "    \"legMode\": \"category\",\n",
    "    \"actType\": \"category\", \n",
    "    \"primaryFuelLevel\": \"float64\",\n",
    "    \"legMode\": \"category\",\n",
    "    \"chargingPointType\":\"category\",\n",
    "    \"pricingModel\":\"category\",\n",
    "    \"parkingType\":\"category\",\n",
    "    \"mode\":\"category\",\n",
    "    \"personalVehicleAvailable\": \"category\",\n",
    "    \"person\": \"object\",\n",
    "    \"driver\": \"object\",\n",
    "    \"riders\": \"object\",\n",
    "    'primaryFuelType': \"category\",\n",
    "    'secondaryFuelType': 'category',\n",
    "    'currentTourMode': 'category',\n",
    "    'currentActivity': 'category',\n",
    "    'nextActivity': 'category'    \n",
    "}\n",
    "# Use list comprehension to remove the unwanted column in **usecol**\n",
    "eventsSF = pd.read_csv(loc_2018_baseline + '0.events.csv.gz', compression = 'gzip', dtype = dtypes)"
   ]
  },
  {
   "cell_type": "markdown",
   "id": "ed39029b",
   "metadata": {},
   "source": [
    "#### The rest of the code"
   ]
  },
  {
   "cell_type": "code",
   "execution_count": 3,
   "id": "e44a5a90",
   "metadata": {},
   "outputs": [],
   "source": [
    "# Show all columns and rows\n",
    "pd.options.display.max_columns = None\n",
    "pd.options.display.max_rows = None"
   ]
  },
  {
   "cell_type": "code",
   "execution_count": 4,
   "id": "e7f2c0e5",
   "metadata": {},
   "outputs": [],
   "source": [
    "# Showing the entire number in dataframe\n",
    "pd.set_option('float_format', '{:f}'.format)"
   ]
  },
  {
   "cell_type": "code",
   "execution_count": 5,
   "id": "c33f5570",
   "metadata": {},
   "outputs": [],
   "source": [
    "# Adding scenario info\n",
    "eventsSF['scenario'] = \"baseline\"\n",
    "eventsSF['scenario'] = eventsSF['scenario'].astype(\"category\")\n",
    "eventsSF['lever'] = \"default\"\n",
    "eventsSF['lever'] = eventsSF['lever'].astype(\"category\")\n",
    "eventsSF['year'] = 2018\n",
    "eventsSF['lever_position'] = 1"
   ]
  },
  {
   "cell_type": "code",
   "execution_count": 6,
   "id": "2fbd0c93",
   "metadata": {},
   "outputs": [],
   "source": [
    "# Rename the \"mode\" column\n",
    "eventsSF.rename(columns={\"mode\":\"modeBEAM\"}, inplace=True) \n",
    "# Replace \"Work\" with \"work\" in the \"actType\" column\n",
    "eventsSF[\"actType\"].replace({\"Work\": \"work\"}, inplace=True)"
   ]
  },
  {
   "cell_type": "code",
   "execution_count": 7,
   "id": "2075bac6",
   "metadata": {},
   "outputs": [],
   "source": [
    "#eventsSFCopy = eventsSF.copy()"
   ]
  },
  {
   "cell_type": "code",
   "execution_count": null,
   "id": "15504d2b",
   "metadata": {},
   "outputs": [],
   "source": [
    "# deadhead = eventsSF[eventsSF.person.str.contains(\"Agent\", na=False)].reset_index(drop=True)\n",
    "# When there are no riders. Driver and person are not numbers, but include \"Agent\""
   ]
  },
  {
   "cell_type": "code",
   "execution_count": 8,
   "id": "f2d74acd",
   "metadata": {},
   "outputs": [],
   "source": [
    "# Remove person = TransitDriver or RidehailDriver because there are no agent information in these rows\n",
    "eventsSF = eventsSF[~eventsSF.person.str.contains(\"Agent\", na=False)].reset_index(drop=True)"
   ]
  },
  {
   "cell_type": "code",
   "execution_count": 9,
   "id": "d64b6a6f",
   "metadata": {},
   "outputs": [],
   "source": [
    "# shift column 'person' to first position\n",
    "first_column = eventsSF.pop('person')\n",
    "second_column = eventsSF.pop('driver')\n",
    "third_column = eventsSF.pop('riders')\n",
    "# insert column using insert(position,column_name,first_column) function\n",
    "eventsSF.insert(0, 'person', first_column)\n",
    "eventsSF.insert(1, 'driver', second_column)\n",
    "eventsSF.insert(2, 'riders', third_column)"
   ]
  },
  {
   "cell_type": "code",
   "execution_count": 10,
   "id": "77e7695a",
   "metadata": {},
   "outputs": [],
   "source": [
    "# Adding the IDMerged Column\n",
    "eventsSF['UniqueID'] = eventsSF['person'] #make a copy of the person column\n",
    "eventsSF['personID'] = np.where(eventsSF['person'].isin(eventsSF['driver']), eventsSF['person'], np.nan) \n",
    "eventsSF['driverID'] = np.where(eventsSF['driver'].isin(eventsSF['person']), eventsSF['driver'], np.nan)"
   ]
  },
  {
   "cell_type": "code",
   "execution_count": 11,
   "id": "a9f2b0af",
   "metadata": {},
   "outputs": [],
   "source": [
    "# Merging person and driver ids in one column\n",
    "eventsSF['IDMerged'] = eventsSF['personID'].combine_first(eventsSF['driverID'])\n",
    "eventsSF['IDMerged'] = eventsSF['UniqueID'].combine_first(eventsSF['IDMerged'])"
   ]
  },
  {
   "cell_type": "code",
   "execution_count": 12,
   "id": "70ccea79",
   "metadata": {},
   "outputs": [],
   "source": [
    "# Dropping unused columns\n",
    "eventsSF = eventsSF.drop(['personID','driverID','UniqueID'], axis=1) "
   ]
  },
  {
   "cell_type": "code",
   "execution_count": 13,
   "id": "2f6d5d3d",
   "metadata": {},
   "outputs": [],
   "source": [
    "# Shift column 'IDMerged' to first position\n",
    "first_column = eventsSF.pop('IDMerged')\n",
    "# Insert column using insert(position,column_name,first_column) function\n",
    "eventsSF.insert(0, 'IDMerged', first_column)"
   ]
  },
  {
   "cell_type": "code",
   "execution_count": 14,
   "id": "3dffe8cf",
   "metadata": {},
   "outputs": [
    {
     "name": "stdout",
     "output_type": "stream",
     "text": [
      "CPU times: total: 1min 47s\n",
      "Wall time: 1min 47s\n"
     ]
    }
   ],
   "source": [
    "%%time\n",
    "# Split the \"riders' column and replicated rows for every rider\n",
    "eventsSF['riders'] = eventsSF['riders'].str.split(':')\n",
    "eventsSF = eventsSF.explode('riders')"
   ]
  },
  {
   "cell_type": "code",
   "execution_count": 15,
   "id": "cad273bc",
   "metadata": {},
   "outputs": [],
   "source": [
    "# Combine riderID with IDMerged\n",
    "eventsSF['riderID'] = np.where(eventsSF['riders'].isin(eventsSF['person']), eventsSF['riders'], np.nan)\n",
    "eventsSF['IDMerged'] = eventsSF['riderID'].combine_first(eventsSF['IDMerged'])"
   ]
  },
  {
   "cell_type": "code",
   "execution_count": 16,
   "id": "65de33c2",
   "metadata": {},
   "outputs": [],
   "source": [
    "# Dropping unused columns\n",
    "eventsSF = eventsSF.drop(['riderID'], axis=1) "
   ]
  },
  {
   "cell_type": "code",
   "execution_count": 17,
   "id": "d8a62eb1",
   "metadata": {},
   "outputs": [],
   "source": [
    "# Remove driver = TransitDriver or RidehailDriver for IDMerged = NAN because there are no agent information in these rows \n",
    "eventsSF = eventsSF[~((eventsSF.driver.str.contains(\"Agent\", na=False))&(eventsSF.IDMerged.isna()))].reset_index(drop=True)"
   ]
  },
  {
   "cell_type": "code",
   "execution_count": null,
   "id": "60db4199",
   "metadata": {
    "scrolled": true
   },
   "outputs": [],
   "source": [
    "#IDnan = eventsSF[eventsSF['IDMerged'].isna()]\n",
    "#IDnan.shape"
   ]
  },
  {
   "cell_type": "code",
   "execution_count": 18,
   "id": "994ab676",
   "metadata": {},
   "outputs": [
    {
     "name": "stdout",
     "output_type": "stream",
     "text": [
      "CPU times: total: 4min 49s\n",
      "Wall time: 4min 49s\n"
     ]
    }
   ],
   "source": [
    "%%time\n",
    "# Filling NANs in ID related to charging events\n",
    "eventsSF[\"chargeID\"] = eventsSF.groupby('vehicle')['IDMerged'].transform(lambda x: x.ffill().bfill())"
   ]
  },
  {
   "cell_type": "code",
   "execution_count": 19,
   "id": "0165322c",
   "metadata": {},
   "outputs": [],
   "source": [
    "# Combining chargeID with IDMerged so no NANs anymore\n",
    "eventsSF['IDMerged'] = eventsSF['chargeID'].combine_first(eventsSF['IDMerged'])"
   ]
  },
  {
   "cell_type": "code",
   "execution_count": 20,
   "id": "525d0231",
   "metadata": {},
   "outputs": [
    {
     "data": {
      "text/plain": [
       "(0, 68)"
      ]
     },
     "execution_count": 20,
     "metadata": {},
     "output_type": "execute_result"
    }
   ],
   "source": [
    "IDnan = eventsSF[eventsSF['IDMerged'].isna()]\n",
    "IDnan.shape"
   ]
  },
  {
   "cell_type": "code",
   "execution_count": 21,
   "id": "dff0f0d9",
   "metadata": {},
   "outputs": [],
   "source": [
    "# Dropping unused columns\n",
    "eventsSF = eventsSF.drop(['chargeID'], axis=1) "
   ]
  },
  {
   "cell_type": "code",
   "execution_count": null,
   "id": "b819d698",
   "metadata": {},
   "outputs": [],
   "source": [
    "#print(eventsSF.currentTourMode.unique().tolist())"
   ]
  },
  {
   "cell_type": "code",
   "execution_count": null,
   "id": "538ab648",
   "metadata": {},
   "outputs": [],
   "source": [
    "#print(eventsSF.modeBEAM.unique().tolist())"
   ]
  },
  {
   "cell_type": "code",
   "execution_count": null,
   "id": "3d13d123",
   "metadata": {},
   "outputs": [],
   "source": [
    "#print(eventsSF.type.unique().tolist())"
   ]
  },
  {
   "cell_type": "code",
   "execution_count": 22,
   "id": "ad36c06d",
   "metadata": {},
   "outputs": [
    {
     "name": "stdout",
     "output_type": "stream",
     "text": [
      "CPU times: total: 17.8 s\n",
      "Wall time: 17.8 s\n"
     ]
    }
   ],
   "source": [
    "%%time\n",
    "# Change the IDMerged column type to numeric\n",
    "eventsSF[\"IDMerged\"] = pd.to_numeric(eventsSF.IDMerged)"
   ]
  },
  {
   "cell_type": "code",
   "execution_count": null,
   "id": "983217d8",
   "metadata": {},
   "outputs": [],
   "source": [
    "# Sort by IDMerged and time columns\n",
    "eventsSF = eventsSF.sort_values(['IDMerged','time']).reset_index(drop=True)"
   ]
  },
  {
   "cell_type": "code",
   "execution_count": null,
   "id": "2db653ae",
   "metadata": {},
   "outputs": [],
   "source": [
    "# We assume that the number of passengers is 1 for ride_hail_pooled\n",
    "eventsSF['modeBEAM_rh'] = np.where(eventsSF.driver.str.contains(\"rideHailAgent\", na=False), 'ride_hail' , eventsSF['modeBEAM'])"
   ]
  },
  {
   "cell_type": "code",
   "execution_count": null,
   "id": "bd4c6384",
   "metadata": {},
   "outputs": [],
   "source": [
    "# Adding teleportation mode to the type = TeleportationEvent row \n",
    "eventsSF[\"modeBEAM_rh\"] = np.where(eventsSF['type']=='TeleportationEvent', eventsSF.modeBEAM_rh.fillna(method='ffill'), eventsSF[\"modeBEAM_rh\"])"
   ]
  },
  {
   "cell_type": "code",
   "execution_count": null,
   "id": "4e1ba837",
   "metadata": {},
   "outputs": [],
   "source": [
    "eventsSF['modeBEAM_rh_pooled'] = np.where((eventsSF['type'] == 'PersonCost') & (eventsSF['modeBEAM'] == 'ride_hail_pooled'), 'ride_hail_pooled', np.nan)"
   ]
  },
  {
   "cell_type": "code",
   "execution_count": null,
   "id": "3339c5df",
   "metadata": {},
   "outputs": [],
   "source": [
    "eventsSF['modeBEAM_rh_ride_hail_transit'] = np.where((eventsSF['type'] == 'PersonCost') & (eventsSF['modeBEAM'] == 'ride_hail_transit'), 'ride_hail_transit', np.nan)"
   ]
  },
  {
   "cell_type": "code",
   "execution_count": null,
   "id": "e1eb832e",
   "metadata": {},
   "outputs": [],
   "source": [
    "eventsSF['modeBEAM_rh_pooled'] = eventsSF['modeBEAM_rh_pooled'].shift(+1)"
   ]
  },
  {
   "cell_type": "code",
   "execution_count": null,
   "id": "92e73beb",
   "metadata": {},
   "outputs": [],
   "source": [
    "eventsSF['modeBEAM_rh_ride_hail_transit'] = eventsSF['modeBEAM_rh_ride_hail_transit'].shift(+1)"
   ]
  },
  {
   "cell_type": "code",
   "execution_count": null,
   "id": "120a46e0",
   "metadata": {},
   "outputs": [],
   "source": [
    "eventsSF['modeBEAM_rh'] = np.where((eventsSF['type'] == 'PathTraversal') & (eventsSF['modeBEAM'] == 'car') & (eventsSF['driver'].str.contains(\"rideHailAgent\", na=False)) & (eventsSF['modeBEAM_rh_pooled'] != 'nan'), eventsSF['modeBEAM_rh_pooled'], eventsSF['modeBEAM_rh'])"
   ]
  },
  {
   "cell_type": "code",
   "execution_count": null,
   "id": "99d82b22",
   "metadata": {},
   "outputs": [],
   "source": [
    "# We don't know if ridehail_transit is ride_hail or ride_hail_pooled\n",
    "eventsSF['modeBEAM_rh'] = np.where((eventsSF['type'] == 'PathTraversal') & (eventsSF['modeBEAM'] == 'car') & (eventsSF['driver'].str.contains(\"rideHailAgent\", na=False)) & (eventsSF['modeBEAM_rh_ride_hail_transit'] != 'nan'), eventsSF['modeBEAM_rh_ride_hail_transit'], eventsSF['modeBEAM_rh'])"
   ]
  },
  {
   "cell_type": "code",
   "execution_count": null,
   "id": "3db04d3f",
   "metadata": {},
   "outputs": [],
   "source": [
    "# Dropping the temporary columns\n",
    "eventsSF = eventsSF.drop(['modeBEAM_rh_pooled'], axis=1)\n",
    "eventsSF = eventsSF.drop(['modeBEAM_rh_ride_hail_transit'], axis=1)"
   ]
  },
  {
   "cell_type": "markdown",
   "id": "cb6f3a97",
   "metadata": {},
   "source": [
    "#### Adding census blocks"
   ]
  },
  {
   "cell_type": "code",
   "execution_count": null,
   "id": "fdaeafcc",
   "metadata": {},
   "outputs": [],
   "source": [
    "def addGeometryIdToDataFrame(df, gdf, xcol, ycol, idColumn=\"geometry\", df_geom='epsg:4326'):\n",
    "    gdf_data = gpd.GeoDataFrame(df, geometry=gpd.points_from_xy(df[xcol], df[ycol]))\n",
    "    gdf_data.crs = {'init': df_geom}\n",
    "    joined = gpd.sjoin(gdf_data.to_crs('epsg:26910'), gdf.to_crs('epsg:26910'))\n",
    "    gdf_data = gdf_data.merge(joined['blkgrpid'], left_index=True, right_index=True, how=\"left\")\n",
    "    gdf_data.rename(columns={'blkgrpid': idColumn}, inplace=True)\n",
    "    df = pd.DataFrame(gdf_data.drop(columns='geometry'))\n",
    "    df.drop(columns=[xcol, ycol], inplace=True)\n",
    "    return df.loc[~df.index.duplicated(keep='first'), :]"
   ]
  },
  {
   "cell_type": "code",
   "execution_count": null,
   "id": "411a779f",
   "metadata": {},
   "outputs": [],
   "source": [
    "BGs = gpd.read_file('C:/Shared-Work/Data/Scenario_2010_shp/641aa0d4-ce5b-4a81-9c30-8790c4ab8cfb202047-1-wkkklf.j5ouj.shp')"
   ]
  },
  {
   "cell_type": "code",
   "execution_count": null,
   "id": "fcc7abc2",
   "metadata": {},
   "outputs": [],
   "source": [
    "%%time\n",
    "eventsSF = addGeometryIdToDataFrame(eventsSF, BGs, 'startX', 'startY', 'BlockGroupStart')"
   ]
  },
  {
   "cell_type": "code",
   "execution_count": null,
   "id": "9eae57c0",
   "metadata": {},
   "outputs": [],
   "source": [
    "%%time\n",
    "eventsSF = addGeometryIdToDataFrame(eventsSF, BGs, 'endX', 'endY', 'BlockGroupEnd')"
   ]
  },
  {
   "cell_type": "markdown",
   "id": "fe8a8b31",
   "metadata": {},
   "source": [
    "#### Adding new columns"
   ]
  },
  {
   "cell_type": "code",
   "execution_count": null,
   "id": "ff786a3b",
   "metadata": {},
   "outputs": [],
   "source": [
    "eventsSF['actEndTime'] = np.where(eventsSF['type']=='actend'\n",
    "                     , eventsSF['time'], np.nan)"
   ]
  },
  {
   "cell_type": "code",
   "execution_count": null,
   "id": "57f2a46c",
   "metadata": {},
   "outputs": [],
   "source": [
    "eventsSF['actStartTime'] = np.where(eventsSF['type']=='actstart'\n",
    "                     , eventsSF['time'], np.nan)    "
   ]
  },
  {
   "cell_type": "code",
   "execution_count": null,
   "id": "0f47b8ee",
   "metadata": {},
   "outputs": [],
   "source": [
    "eventsSF['duration_travelling'] = np.where((eventsSF['type']=='PathTraversal')|(eventsSF['type']=='TeleportationEvent')\n",
    "                     , eventsSF['arrivalTime'] - eventsSF['departureTime'], np.nan)"
   ]
  },
  {
   "cell_type": "code",
   "execution_count": null,
   "id": "7e427fd1",
   "metadata": {},
   "outputs": [],
   "source": [
    "eventsSF['distance_travelling'] = np.where((eventsSF['type']=='PathTraversal')|((eventsSF['type']=='ModeChoice')&((eventsSF['modeBEAM']=='hov2_teleportation')|(eventsSF['modeBEAM']=='hov3_teleportation'))), eventsSF['length'], np.nan)"
   ]
  },
  {
   "cell_type": "code",
   "execution_count": null,
   "id": "63c8c08a",
   "metadata": {},
   "outputs": [],
   "source": [
    "eventsSF['distance_mode_choice'] = np.where(eventsSF['type']=='ModeChoice', eventsSF['length'], np.nan)"
   ]
  },
  {
   "cell_type": "code",
   "execution_count": null,
   "id": "6403c92a",
   "metadata": {},
   "outputs": [],
   "source": [
    "eventsSF['duration_walking'] = np.where(eventsSF['modeBEAM']=='walk', eventsSF['duration_travelling'], np.nan)"
   ]
  },
  {
   "cell_type": "code",
   "execution_count": null,
   "id": "9edb77aa",
   "metadata": {},
   "outputs": [],
   "source": [
    "eventsSF['distance_walking'] = np.where(eventsSF['modeBEAM']=='walk', eventsSF['distance_travelling'], np.nan)"
   ]
  },
  {
   "cell_type": "code",
   "execution_count": null,
   "id": "d4a0af57",
   "metadata": {},
   "outputs": [],
   "source": [
    "eventsSF['duration_on_bike'] = np.where(eventsSF['modeBEAM']=='bike', eventsSF['duration_travelling'], np.nan)"
   ]
  },
  {
   "cell_type": "code",
   "execution_count": null,
   "id": "148a3dbe",
   "metadata": {},
   "outputs": [],
   "source": [
    "eventsSF['distance_bike'] = np.where(eventsSF['modeBEAM']=='bike', eventsSF['distance_travelling'], np.nan)"
   ]
  },
  {
   "cell_type": "code",
   "execution_count": null,
   "id": "3624b92a",
   "metadata": {},
   "outputs": [],
   "source": [
    "eventsSF['duration_in_ridehail'] = np.where((eventsSF['modeBEAM_rh']=='ride_hail')|(eventsSF['modeBEAM_rh']=='ride_hail_pooled')|(eventsSF['modeBEAM_rh']=='ride_hail_transit'), \n",
    "                                            eventsSF['duration_travelling'], np.nan)"
   ]
  },
  {
   "cell_type": "code",
   "execution_count": null,
   "id": "90d4c42d",
   "metadata": {},
   "outputs": [],
   "source": [
    "eventsSF['distance_ridehail'] = np.where((eventsSF['modeBEAM_rh']=='ride_hail')|(eventsSF['modeBEAM_rh']=='ride_hail_pooled')|(eventsSF['modeBEAM_rh']=='ride_hail_transit'), eventsSF['distance_travelling'], np.nan)"
   ]
  },
  {
   "cell_type": "code",
   "execution_count": null,
   "id": "4bb825fb",
   "metadata": {},
   "outputs": [],
   "source": [
    "eventsSF['duration_in_privateCar'] = np.where((eventsSF['modeBEAM_rh']=='car')|(eventsSF['modeBEAM_rh']=='car_hov3')|(eventsSF['modeBEAM_rh']=='car_hov2')|\n",
    "                                              (eventsSF['modeBEAM_rh']=='hov2_teleportation')|(eventsSF['modeBEAM_rh']=='hov3_teleportation') \n",
    "                                              , eventsSF['duration_travelling'], np.nan)"
   ]
  },
  {
   "cell_type": "code",
   "execution_count": null,
   "id": "3473c8da",
   "metadata": {},
   "outputs": [],
   "source": [
    "eventsSF['distance_privateCar'] = np.where((eventsSF['modeBEAM_rh']=='car')|(eventsSF['modeBEAM_rh']=='car_hov3')|(eventsSF['modeBEAM_rh']=='car_hov2')|\n",
    "                                              (eventsSF['modeBEAM_rh']=='hov2_teleportation')|(eventsSF['modeBEAM_rh']=='hov3_teleportation'), eventsSF['distance_travelling'], np.nan)"
   ]
  },
  {
   "cell_type": "code",
   "execution_count": null,
   "id": "0b735038",
   "metadata": {},
   "outputs": [],
   "source": [
    "eventsSF['duration_in_transit'] = np.where((eventsSF['modeBEAM']=='bike_transit')|(eventsSF['modeBEAM']=='drive_transit')|\n",
    "                                           (eventsSF['modeBEAM']=='walk_transit')|(eventsSF['modeBEAM']=='bus')|\n",
    "                                           (eventsSF['modeBEAM']=='tram')|(eventsSF['modeBEAM']=='subway')|\n",
    "                                           (eventsSF['modeBEAM']=='rail')|(eventsSF['modeBEAM']=='cable_car')|\n",
    "                                           (eventsSF['modeBEAM']=='ride_hail_transit'), eventsSF['duration_travelling'], np.nan)"
   ]
  },
  {
   "cell_type": "code",
   "execution_count": null,
   "id": "92c358e1",
   "metadata": {},
   "outputs": [],
   "source": [
    "eventsSF['distance_transit'] = np.where((eventsSF['modeBEAM']=='bike_transit')|(eventsSF['modeBEAM']=='drive_transit')|\n",
    "                                        (eventsSF['modeBEAM']=='walk_transit')|(eventsSF['modeBEAM']=='bus')|\n",
    "                                        (eventsSF['modeBEAM']=='tram')|(eventsSF['modeBEAM']=='subway')|\n",
    "                                        (eventsSF['modeBEAM']=='rail')|(eventsSF['modeBEAM']=='cable_car')|\n",
    "                                        (eventsSF['modeBEAM']=='ride_hail_transit'), eventsSF['distance_travelling'], np.nan)"
   ]
  },
  {
   "cell_type": "code",
   "execution_count": null,
   "id": "0b4e8ccd",
   "metadata": {},
   "outputs": [],
   "source": [
    "# Removing the extra tour index happening after replanning events\n",
    "eventsSF['replanningTime'] = np.where(eventsSF['type'] == 'Replanning', eventsSF['time'], np.nan)\n",
    "eventsSF['replanningTime'] = eventsSF['replanningTime'].shift(+1)\n",
    "eventsSF['tourIndex_fixed'] = np.where((eventsSF['type'] == 'ModeChoice')&(eventsSF['replanningTime'].notna()), np.nan, eventsSF['tourIndex'])"
   ]
  },
  {
   "cell_type": "code",
   "execution_count": null,
   "id": "1335cedb",
   "metadata": {},
   "outputs": [],
   "source": [
    "#eventsSF = eventsSF.set_index('IDMerged')"
   ]
  },
  {
   "cell_type": "code",
   "execution_count": null,
   "id": "60959843",
   "metadata": {},
   "outputs": [],
   "source": [
    "eventsSF.modeBEAM_rh.unique()"
   ]
  },
  {
   "cell_type": "code",
   "execution_count": null,
   "id": "2159f9a9",
   "metadata": {},
   "outputs": [],
   "source": [
    "eventsSF.primaryFuelType.unique()"
   ]
  },
  {
   "cell_type": "code",
   "execution_count": null,
   "id": "5beb42b2",
   "metadata": {},
   "outputs": [],
   "source": [
    "eventsSF['fuelFood'] = np.where((eventsSF['type']=='PathTraversal')&(eventsSF['primaryFuelType']=='Food'), \n",
    "                                eventsSF['primaryFuel'], np.nan)"
   ]
  },
  {
   "cell_type": "code",
   "execution_count": null,
   "id": "f6880cae",
   "metadata": {},
   "outputs": [],
   "source": [
    "eventsSF['emissionFood'] = eventsSF['fuelFood'] * 8.3141841e-9 * 0"
   ]
  },
  {
   "cell_type": "code",
   "execution_count": null,
   "id": "4104324f",
   "metadata": {},
   "outputs": [],
   "source": [
    "eventsSF['fuelElectricity'] = np.where((eventsSF['type']=='PathTraversal')&(eventsSF['primaryFuelType']=='Electricity'), \n",
    "                                eventsSF['primaryFuel'], np.nan)"
   ]
  },
  {
   "cell_type": "code",
   "execution_count": null,
   "id": "ac8a70b7",
   "metadata": {},
   "outputs": [],
   "source": [
    "eventsSF['emissionElectricity'] = eventsSF['fuelElectricity'] * 2.77778e-10 * 947.2 * 0.0005"
   ]
  },
  {
   "cell_type": "code",
   "execution_count": null,
   "id": "32f9c7d4",
   "metadata": {},
   "outputs": [],
   "source": [
    "eventsSF['fuelDiesel'] = np.where((eventsSF['type']=='PathTraversal')&(eventsSF['primaryFuelType']=='Diesel'), \n",
    "                                eventsSF['primaryFuel'], np.nan)"
   ]
  },
  {
   "cell_type": "code",
   "execution_count": null,
   "id": "791a7e19",
   "metadata": {},
   "outputs": [],
   "source": [
    "eventsSF['emissionDiesel'] = eventsSF['fuelDiesel'] * 8.3141841e-9 * 10.180e-3"
   ]
  },
  {
   "cell_type": "code",
   "execution_count": null,
   "id": "e8f68e5c",
   "metadata": {},
   "outputs": [],
   "source": [
    "eventsSF['fuelBiodiesel'] = np.where((eventsSF['type']=='PathTraversal')&(eventsSF['primaryFuelType']=='Biodiesel'), \n",
    "                                eventsSF['primaryFuel'], np.nan)"
   ]
  },
  {
   "cell_type": "code",
   "execution_count": null,
   "id": "bfcfbcce",
   "metadata": {},
   "outputs": [],
   "source": [
    "eventsSF['emissionBiodiesel'] = eventsSF['fuelBiodiesel'] * 8.3141841e-9 * 10.180e-3"
   ]
  },
  {
   "cell_type": "code",
   "execution_count": null,
   "id": "5e752231",
   "metadata": {},
   "outputs": [],
   "source": [
    "eventsSF['fuel_not_Food'] = np.where((eventsSF['type']=='PathTraversal')&(eventsSF['primaryFuelType']!='Food')\n",
    "                            , eventsSF['primaryFuel']+eventsSF['secondaryFuel'], np.nan)"
   ]
  },
  {
   "cell_type": "code",
   "execution_count": null,
   "id": "bfc1273e",
   "metadata": {},
   "outputs": [],
   "source": [
    "eventsSF['fuelGasoline'] = np.where((eventsSF['type']=='PathTraversal')&((eventsSF['primaryFuelType']=='Gasoline')|(eventsSF['secondaryFuelType']=='Gasoline')), \n",
    "                           eventsSF['primaryFuel']+eventsSF['secondaryFuel'], np.nan)"
   ]
  },
  {
   "cell_type": "code",
   "execution_count": null,
   "id": "fa3174aa",
   "metadata": {},
   "outputs": [],
   "source": [
    "eventsSF['emissionGasoline'] = eventsSF['fuelGasoline'] * 8.3141841e-9 * 8.89e-3"
   ]
  },
  {
   "cell_type": "code",
   "execution_count": null,
   "id": "a62efea2",
   "metadata": {},
   "outputs": [],
   "source": [
    "# Marginal fuel\n",
    "conditions  = [(eventsSF['modeBEAM_rh'] == 'ride_hail_pooled'), \n",
    "               (eventsSF['modeBEAM_rh'] == 'walk_transit') | (eventsSF['modeBEAM_rh'] == 'drive_transit')|\n",
    "               (eventsSF['modeBEAM_rh'] == 'ride_hail_transit')|(eventsSF['modeBEAM_rh'] == 'bus')|(eventsSF['modeBEAM_rh'] == 'subway')|\n",
    "               (eventsSF['modeBEAM_rh'] == 'rail')|(eventsSF['modeBEAM_rh'] == 'tram')|(eventsSF['modeBEAM_rh'] == 'cable_car')|\n",
    "               (eventsSF['modeBEAM_rh'] == 'bike_transit'),\n",
    "               (eventsSF['modeBEAM_rh'] == 'walk')|(eventsSF['modeBEAM_rh'] == 'bike'),\n",
    "               (eventsSF['modeBEAM_rh'] == 'ride_hail')|(eventsSF['modeBEAM_rh'] == 'car')| \n",
    "               (eventsSF['modeBEAM_rh'] == 'car_hov2')| (eventsSF['modeBEAM_rh'] == 'car_hov3')|\n",
    "               (eventsSF['modeBEAM_rh'] == 'hov2_teleportation')| (eventsSF['modeBEAM_rh'] == 'hov3_teleportation')]\n",
    "choices = [eventsSF['fuel_not_Food']/eventsSF['numPassengers'], 0 , eventsSF['fuelFood'], eventsSF['fuel_not_Food']]"
   ]
  },
  {
   "cell_type": "code",
   "execution_count": null,
   "id": "cdd142f0",
   "metadata": {},
   "outputs": [],
   "source": [
    "eventsSF['fuel_marginal'] = np.select(conditions, choices, default=np.nan)"
   ]
  },
  {
   "cell_type": "code",
   "execution_count": null,
   "id": "f234ee59",
   "metadata": {},
   "outputs": [],
   "source": [
    "#eventsSF[(eventsSF['modeBEAM_rh'] == 'ride_hail_pooled') & (eventsSF['fuelElectricity'].notna() != 0)].head()"
   ]
  },
  {
   "cell_type": "code",
   "execution_count": null,
   "id": "4eca5a86",
   "metadata": {},
   "outputs": [],
   "source": [
    "# Marginal emission\n",
    "conditions1  = [(eventsSF['modeBEAM_rh'] == 'ride_hail_pooled') & (eventsSF['fuelElectricity'].notna() != 0), \n",
    "               (eventsSF['modeBEAM_rh'] == 'ride_hail_pooled') & (eventsSF['fuelGasoline'].notna() != 0),\n",
    "               (eventsSF['modeBEAM_rh'] == 'ride_hail_pooled') & (eventsSF['fuelBiodiesel'].notna() != 0),\n",
    "               (eventsSF['modeBEAM_rh'] == 'ride_hail_pooled') & (eventsSF['fuelDiesel'].notna() != 0),             \n",
    "               (eventsSF['modeBEAM_rh'] == 'walk_transit') | (eventsSF['modeBEAM_rh'] == 'drive_transit')|\n",
    "               (eventsSF['modeBEAM_rh'] == 'ride_hail_transit')|(eventsSF['modeBEAM_rh'] == 'bus')|(eventsSF['modeBEAM_rh'] == 'subway')|\n",
    "               (eventsSF['modeBEAM_rh'] == 'rail')|(eventsSF['modeBEAM_rh'] == 'tram')|(eventsSF['modeBEAM_rh'] == 'cable_car')|\n",
    "               (eventsSF['modeBEAM_rh'] == 'bike_transit'),\n",
    "\n",
    "               (eventsSF['modeBEAM_rh'] == 'walk')|(eventsSF['modeBEAM_rh'] == 'bike'),\n",
    "               \n",
    "               (eventsSF['modeBEAM_rh'] == 'ride_hail')|(eventsSF['modeBEAM_rh'] == 'car')| \n",
    "               (eventsSF['modeBEAM_rh'] == 'car_hov2')| (eventsSF['modeBEAM_rh'] == 'car_hov3')|\n",
    "               (eventsSF['modeBEAM_rh'] == 'hov2_teleportation')| (eventsSF['modeBEAM_rh'] == 'hov3_teleportation')&\n",
    "               (eventsSF['fuelElectricity'].notna() != 0),\n",
    "              \n",
    "               (eventsSF['modeBEAM_rh'] == 'ride_hail')|(eventsSF['modeBEAM_rh'] == 'car')| \n",
    "               (eventsSF['modeBEAM_rh'] == 'car_hov2')| (eventsSF['modeBEAM_rh'] == 'car_hov3')|\n",
    "               (eventsSF['modeBEAM_rh'] == 'hov2_teleportation')| (eventsSF['modeBEAM_rh'] == 'hov3_teleportation')&\n",
    "               (eventsSF['fuelGasoline'].notna() != 0),           \n",
    "              \n",
    "               (eventsSF['modeBEAM_rh'] == 'ride_hail')|(eventsSF['modeBEAM_rh'] == 'car')| \n",
    "               (eventsSF['modeBEAM_rh'] == 'car_hov2')| (eventsSF['modeBEAM_rh'] == 'car_hov3')|\n",
    "               (eventsSF['modeBEAM_rh'] == 'hov2_teleportation')| (eventsSF['modeBEAM_rh'] == 'hov3_teleportation')&\n",
    "               (eventsSF['fuelBiodiesel'].notna() != 0),   \n",
    "               \n",
    "               (eventsSF['modeBEAM_rh'] == 'ride_hail')|(eventsSF['modeBEAM_rh'] == 'car')| \n",
    "               (eventsSF['modeBEAM_rh'] == 'car_hov2')| (eventsSF['modeBEAM_rh'] == 'car_hov3')|\n",
    "               (eventsSF['modeBEAM_rh'] == 'hov2_teleportation')| (eventsSF['modeBEAM_rh'] == 'hov3_teleportation')&\n",
    "               (eventsSF['fuelDiesel'].notna() != 0),\n",
    "\n",
    "               (eventsSF['modeBEAM_rh'] == 'ride_hail')|(eventsSF['modeBEAM_rh'] == 'car')| \n",
    "               (eventsSF['modeBEAM_rh'] == 'car_hov2')| (eventsSF['modeBEAM_rh'] == 'car_hov3')|\n",
    "               (eventsSF['modeBEAM_rh'] == 'hov2_teleportation')| (eventsSF['modeBEAM_rh'] == 'hov3_teleportation')&\n",
    "               (eventsSF['fuelFood'].notna() != 0)]\n",
    "\n",
    "choices1 = [eventsSF['emissionElectricity']/eventsSF['numPassengers'],\n",
    "           eventsSF['emissionGasoline']/eventsSF['numPassengers'],\n",
    "           eventsSF['emissionBiodiesel']/eventsSF['numPassengers'],\n",
    "           eventsSF['emissionDiesel']/eventsSF['numPassengers'],           \n",
    "           0 , \n",
    "           eventsSF['emissionFood'], \n",
    "           eventsSF['emissionElectricity'],\n",
    "           eventsSF['emissionGasoline'],\n",
    "           eventsSF['emissionBiodiesel'],\n",
    "           eventsSF['emissionDiesel'],\n",
    "           eventsSF['emissionFood']]"
   ]
  },
  {
   "cell_type": "code",
   "execution_count": null,
   "id": "fb19ee46",
   "metadata": {},
   "outputs": [],
   "source": [
    "eventsSF['emission_marginal'] = np.select(conditions1, choices1, default=np.nan)"
   ]
  },
  {
   "cell_type": "code",
   "execution_count": null,
   "id": "1bb135e2",
   "metadata": {},
   "outputs": [],
   "source": [
    "eventsSF['actEndType'] = np.where(eventsSF['type']=='actend', eventsSF['actType'], \"\")"
   ]
  },
  {
   "cell_type": "code",
   "execution_count": null,
   "id": "52f9f171",
   "metadata": {},
   "outputs": [],
   "source": [
    "eventsSF['actStartType'] = np.where(eventsSF['type']=='actstart', eventsSF['actType'], \"\")"
   ]
  },
  {
   "cell_type": "markdown",
   "id": "d3b8bb89",
   "metadata": {},
   "source": [
    "#### Trip Index"
   ]
  },
  {
   "cell_type": "code",
   "execution_count": null,
   "id": "5be797be",
   "metadata": {},
   "outputs": [],
   "source": [
    "#eventsSF[\"tripIndex\"] = eventsSF.groupby(\"IDMerged\")[\"tourIndex_fixed\"].rank(method=\"first\", ascending=True)\n",
    "eventsSF[\"tripIndex\"] = eventsSF.tripId.fillna(method='ffill')"
   ]
  },
  {
   "cell_type": "markdown",
   "id": "1c6d23ef",
   "metadata": {},
   "source": [
    "#### Previous code for mode choice "
   ]
  },
  {
   "cell_type": "code",
   "execution_count": null,
   "id": "4825f1e2",
   "metadata": {},
   "outputs": [],
   "source": [
    "# Make a new column which determined mode choice numbers for each person and trip\n",
    "#s = eventsSF.groupby(['IDMerged','tripIndex', 'type']).cumcount().add(1).astype(str).str.zfill(2)"
   ]
  },
  {
   "cell_type": "code",
   "execution_count": null,
   "id": "cc39f0f5",
   "metadata": {},
   "outputs": [],
   "source": [
    "#eventsSF['type_number'] = eventsSF['type'].astype(str) + s.astype(str)"
   ]
  },
  {
   "cell_type": "code",
   "execution_count": null,
   "id": "77a00909",
   "metadata": {},
   "outputs": [],
   "source": [
    "#eventsSF['mode_choice_planned_BEAM'] = np.where(eventsSF['type_number'] == 'ModeChoice01' , eventsSF['modeBEAM_rh'], np.nan)"
   ]
  },
  {
   "cell_type": "code",
   "execution_count": null,
   "id": "5f8dccfd",
   "metadata": {},
   "outputs": [],
   "source": [
    "# Just showing the mode choice after replanning\n",
    "#eventsSF['mode_choice_replanned_BEAM'] = np.where(eventsSF['type_number'] == 'ModeChoice02', eventsSF['modeBEAM_rh'], np.nan)"
   ]
  },
  {
   "cell_type": "markdown",
   "id": "07192d10",
   "metadata": {},
   "source": [
    "#### Only works if we have one replanning event"
   ]
  },
  {
   "cell_type": "code",
   "execution_count": null,
   "id": "1dc7444b",
   "metadata": {},
   "outputs": [],
   "source": [
    "# Showing both mode choices before and after the replanning event\n",
    "#eventsSF['mode_choice_act'] = eventsSF['mode_choice_replanned_BEAM'].combine_first(eventsSF['mode_choice_planned_BEAM'])"
   ]
  },
  {
   "cell_type": "code",
   "execution_count": null,
   "id": "9e832fb2",
   "metadata": {},
   "outputs": [],
   "source": [
    "# If replanned, then the status is 1\n",
    "#eventsSF['replanning_status'] = np.where(eventsSF['mode_choice_replanned_BEAM'].notna() , 1, np.nan)"
   ]
  },
  {
   "cell_type": "code",
   "execution_count": null,
   "id": "afb3a3b2",
   "metadata": {},
   "outputs": [],
   "source": [
    "# Group by and fill all the rows related to the replanning event\n",
    "#eventsSF[\"replanning_status\"] = eventsSF.groupby(['IDMerged','tripIndex'], as_index=False)['replanning_status'].transform(lambda x: x.ffill().bfill())"
   ]
  },
  {
   "cell_type": "code",
   "execution_count": null,
   "id": "d7cebe18",
   "metadata": {},
   "outputs": [],
   "source": [
    "# Put all non-replanning events equal to 0\n",
    "#eventsSF[\"replanning_status\"] = np.where(eventsSF['replanning_status'].isna(), 0, eventsSF['replanning_status']).astype(int)"
   ]
  },
  {
   "cell_type": "code",
   "execution_count": null,
   "id": "ca3f3675",
   "metadata": {},
   "outputs": [],
   "source": [
    "#eventsSF['mode_choice_actual_BEAM'] = np.where((eventsSF['replanning_status'] == 1) & (eventsSF['type_number']=='ModeChoice01'), np.nan, eventsSF['mode_choice_act'])"
   ]
  },
  {
   "cell_type": "code",
   "execution_count": null,
   "id": "fd398fd2",
   "metadata": {},
   "outputs": [],
   "source": [
    "#eventsSF = eventsSF.drop(['mode_choice_act'], axis = 1)"
   ]
  },
  {
   "cell_type": "code",
   "execution_count": null,
   "id": "bcbc79ab",
   "metadata": {},
   "outputs": [],
   "source": [
    "#eventsSF[eventsSF['type'] == \"Replanning\"].tail(16)"
   ]
  },
  {
   "cell_type": "code",
   "execution_count": null,
   "id": "1fe9bdfc",
   "metadata": {},
   "outputs": [],
   "source": [
    "#num_pass.to_csv('C:/Shared-Work/Data/CleanData/num_pass.csv', index = False)"
   ]
  },
  {
   "cell_type": "code",
   "execution_count": null,
   "id": "be846e6d",
   "metadata": {},
   "outputs": [],
   "source": [
    "#eventsSF[\"mode_choice_replanned_BEAM\"] = eventsSF.groupby(['IDMerged','tripIndex'])['mode_choice_replanned_BEAM'].transform(lambda x: x.bfill())"
   ]
  },
  {
   "cell_type": "code",
   "execution_count": null,
   "id": "24653ae4",
   "metadata": {},
   "outputs": [],
   "source": [
    "#eventsSF['mode_choice_actual_BEAM'] = eventsSF['mode_choice_actual_BEAM'].combine_first(eventsSF['modeBEAM_rh'])"
   ]
  },
  {
   "cell_type": "code",
   "execution_count": null,
   "id": "76749909",
   "metadata": {},
   "outputs": [],
   "source": [
    "#eventsSF['mode_planned_tour_ActSim'] = np.where(eventsSF['type'] == 'PathTraversal', eventsSF['currentTourMode'], np.nan)"
   ]
  },
  {
   "cell_type": "code",
   "execution_count": null,
   "id": "c4fa0d0a",
   "metadata": {},
   "outputs": [],
   "source": [
    "#eventsSF.head(10000).to_csv('C:/Shared-Work/Data/CleanData/eventsNew_check.csv', index = False)   "
   ]
  },
  {
   "cell_type": "code",
   "execution_count": null,
   "id": "c45955c5",
   "metadata": {},
   "outputs": [],
   "source": [
    "#eventsSF['numPassengers_agg'] = eventsSF.groupby(['IDMerged','tripIndex'], as_index=False).numPassengers.agg(lambda x: ', '.join(set(x.dropna().astype(str))))"
   ]
  },
  {
   "cell_type": "markdown",
   "id": "3bd20fe1",
   "metadata": {},
   "source": [
    "#### Mode Choice planned and actual"
   ]
  },
  {
   "cell_type": "code",
   "execution_count": null,
   "id": "9ecaf4ba",
   "metadata": {},
   "outputs": [],
   "source": [
    "%%time\n",
    "eventsSF['mode_choice_actual_BEAM'] = eventsSF.groupby(['IDMerged','tripId', 'type'])['modeBEAM'].transform('last')"
   ]
  },
  {
   "cell_type": "code",
   "execution_count": null,
   "id": "ed171398",
   "metadata": {},
   "outputs": [],
   "source": [
    "%%time\n",
    "eventsSF['mode_choice_planned_BEAM'] = eventsSF.groupby(['IDMerged','tripId', 'type'])['modeBEAM'].transform('first')"
   ]
  },
  {
   "cell_type": "code",
   "execution_count": null,
   "id": "723f03e6",
   "metadata": {},
   "outputs": [],
   "source": [
    "eventsSF['mode_choice_actual_BEAM'] = np.where(eventsSF['type'] != 'ModeChoice' , np.nan, eventsSF['mode_choice_actual_BEAM'])"
   ]
  },
  {
   "cell_type": "code",
   "execution_count": null,
   "id": "8bac64c3",
   "metadata": {},
   "outputs": [],
   "source": [
    "eventsSF['mode_choice_planned_BEAM'] = np.where(eventsSF['type'] != 'ModeChoice' , np.nan, eventsSF['mode_choice_planned_BEAM'])"
   ]
  },
  {
   "cell_type": "code",
   "execution_count": null,
   "id": "bd021670",
   "metadata": {},
   "outputs": [],
   "source": [
    "# Rename the \"netCost\" column\n",
    "eventsSF.rename(columns={\"netCost\":\"cost_BEAM\"}, inplace=True) "
   ]
  },
  {
   "cell_type": "code",
   "execution_count": null,
   "id": "2bfdc471",
   "metadata": {},
   "outputs": [],
   "source": [
    "#eventsSF[eventsSF['type']=='Replanning'].head()"
   ]
  },
  {
   "cell_type": "code",
   "execution_count": null,
   "id": "6dca051c",
   "metadata": {},
   "outputs": [],
   "source": [
    "# Replanning events = 1, the rest = 0\n",
    "eventsSF['replanning_status'] = np.where(eventsSF['type']=='Replanning', 1, 0)"
   ]
  },
  {
   "cell_type": "code",
   "execution_count": null,
   "id": "5b68f6e4",
   "metadata": {},
   "outputs": [],
   "source": [
    "#q = eventsSF[eventsSF['IDMerged'] == 6902751]"
   ]
  },
  {
   "cell_type": "code",
   "execution_count": null,
   "id": "951f38c5",
   "metadata": {},
   "outputs": [],
   "source": [
    "#q.to_csv('C:/Shared-Work/Data/CleanData/PivotTables/fake2.csv')   "
   ]
  },
  {
   "cell_type": "code",
   "execution_count": null,
   "id": "11d6986e",
   "metadata": {},
   "outputs": [],
   "source": [
    "%%time\n",
    "eventsSF['reason'].replace('nan', np.NaN)"
   ]
  },
  {
   "cell_type": "code",
   "execution_count": null,
   "id": "e2809aa0",
   "metadata": {},
   "outputs": [],
   "source": [
    "eventsSF['transit_bus'] = np.where(eventsSF['modeBEAM_rh']=='bus', 1, 0)\n",
    "eventsSF['transit_subway'] = np.where(eventsSF['modeBEAM_rh']=='subway', 1, 0)\n",
    "eventsSF['transit_tram'] = np.where(eventsSF['modeBEAM_rh']=='tram', 1, 0)\n",
    "eventsSF['transit_rail'] = np.where(eventsSF['modeBEAM_rh']=='rail', 1, 0)\n",
    "eventsSF['transit_cable_car'] = np.where(eventsSF['modeBEAM_rh']=='cable_car', 1, 0)"
   ]
  },
  {
   "cell_type": "code",
   "execution_count": null,
   "id": "07b5229c",
   "metadata": {},
   "outputs": [],
   "source": [
    "eventsSF['ride_hail_pooled'] = np.where(eventsSF['modeBEAM_rh']=='ride_hail_pooled', 1, 0)"
   ]
  },
  {
   "cell_type": "code",
   "execution_count": null,
   "id": "b38ec0a9",
   "metadata": {},
   "outputs": [],
   "source": [
    "#transit_data = eventsSF[(eventsSF['modeBEAM_rh'] == \"bus\") | (eventsSF['modeBEAM_rh'] == \"subway\") \n",
    "#                        | (eventsSF['modeBEAM_rh'] == 'walk_transit') | (eventsSF['modeBEAM_rh'] == 'ride_hail_transit') \n",
    "#                        | (eventsSF['modeBEAM_rh'] == 'bike_transit') | (eventsSF['modeBEAM_rh'] == 'drive_transit') \n",
    "#                        | (eventsSF['modeBEAM_rh'] == 'cable_car') | (eventsSF['modeBEAM_rh'] == 'rail') \n",
    "#                        | (eventsSF['modeBEAM_rh'] == 'tram')]"
   ]
  },
  {
   "cell_type": "code",
   "execution_count": null,
   "id": "c1e341f6",
   "metadata": {},
   "outputs": [],
   "source": [
    "#eventsSF.loc['Total',:]= df.sum(axis=0)"
   ]
  },
  {
   "cell_type": "code",
   "execution_count": null,
   "id": "44422855",
   "metadata": {},
   "outputs": [],
   "source": [
    "#eventsSF.type[eventsSF.type == 'Replanning'].count()"
   ]
  },
  {
   "cell_type": "code",
   "execution_count": null,
   "id": "ebaa048d",
   "metadata": {},
   "outputs": [],
   "source": [
    "#Person_Trip_eventsSF.replanning_status[Person_Trip_eventsSF.replanning_status == 0].count()"
   ]
  },
  {
   "cell_type": "code",
   "execution_count": null,
   "id": "d7a8619c",
   "metadata": {},
   "outputs": [],
   "source": [
    "#rh_transit5 = eventsSF[eventsSF['IDMerged']== 3671596]"
   ]
  },
  {
   "cell_type": "code",
   "execution_count": null,
   "id": "bf4b40fc",
   "metadata": {},
   "outputs": [],
   "source": [
    "#rh_transit5.to_csv('C:/Shared-Work/Data/CleanData/rh_transit5.csv', index = False)"
   ]
  },
  {
   "cell_type": "code",
   "execution_count": null,
   "id": "26dba60e",
   "metadata": {},
   "outputs": [],
   "source": [
    "eventsSFCopy = eventsSF.copy()"
   ]
  },
  {
   "cell_type": "code",
   "execution_count": null,
   "id": "59ec2a8e",
   "metadata": {},
   "outputs": [],
   "source": [
    "eventsSF.head(200000).to_csv('C:/Shared-Work/Data/CleanData/modeBEAMCHECK.csv', index = False)"
   ]
  },
  {
   "cell_type": "code",
   "execution_count": null,
   "id": "4a679675",
   "metadata": {},
   "outputs": [],
   "source": [
    "%%time\n",
    "Person_Trip_eventsSF = pd.pivot_table(\n",
    "   eventsSF,\n",
    "   index=['IDMerged','tripIndex'],\n",
    "   aggfunc={'actStartTime': np.sum, 'actEndTime': np.sum, 'duration_travelling': np.sum, 'cost_BEAM': np.sum, 'actStartType': np.sum, \n",
    "            'actEndType': np.sum, 'duration_walking': np.sum, 'duration_in_privateCar': np.sum, 'duration_on_bike': np.sum, \n",
    "            'duration_in_ridehail': np.sum, 'distance_travelling': np.sum, 'duration_in_transit': np.sum, 'distance_walking': np.sum, \n",
    "            'distance_bike': np.sum, 'distance_ridehail': np.sum, 'distance_privateCar': np.sum, 'distance_transit': np.sum, \n",
    "            'legVehicleIds': np.sum, \n",
    "            'mode_choice_planned_BEAM':lambda x: ', '.join(set(x.dropna().astype(str))),\n",
    "            'mode_choice_actual_BEAM':lambda x: ', '.join(set(x.dropna().astype(str))),\n",
    "            'vehicle': lambda x: ', '.join(set(x.dropna().astype(str))),\n",
    "            'numPassengers': lambda x: ', '.join(list(x.dropna().astype(str))),\n",
    "            'distance_mode_choice': np.sum,\n",
    "            'replanning_status': np.sum,\n",
    "            'reason': lambda x: ', '.join(list(x.dropna().astype(str))),\n",
    "            'parkingType': lambda x: ', '.join(list(x.dropna().astype(str))),\n",
    "            'transit_bus': np.sum, 'transit_subway': np.sum, 'transit_tram': np.sum, 'transit_cable_car': np.sum,\n",
    "            'ride_hail_pooled': np.sum, 'transit_rail': np.sum,\n",
    "            'year': lambda x: ', '.join(set(x.dropna().astype(str))),\n",
    "            'scenario': lambda x: ', '.join(set(x.dropna().astype(str))),\n",
    "            'fuelFood': np.sum, 'fuelElectricity': np.sum, 'fuelBiodiesel': np.sum, \n",
    "            'fuelDiesel': np.sum, 'fuel_not_Food': np.sum, 'fuelGasoline': np.sum, 'fuel_marginal': np.sum,\n",
    "            'BlockGroupStart': 'first',\n",
    "            'BlockGroupEnd': 'last',\n",
    "            'emissionFood': np.sum, 'emissionElectricity': np.sum, 'emissionDiesel': np.sum, 'emissionGasoline': np.sum,\n",
    "            'emissionBiodiesel': np.sum, 'emission_marginal': np.sum\n",
    "           }).reset_index() \n",
    "\n",
    "#'numPassengers': lambda x: ', '.join(set(x.dropna().astype(str))) \n",
    "#'mode_choice_actual_BEAM':lambda x: ', '.join(set(x.dropna().astype(str))) #\n",
    "#'modeBEAM_rh': lambda x: ', '.join(list(x.dropna().astype(str))), "
   ]
  },
  {
   "cell_type": "code",
   "execution_count": null,
   "id": "dc3ac897",
   "metadata": {},
   "outputs": [],
   "source": [
    "Person_Trip_eventsSF['duration_door_to_door'] = Person_Trip_eventsSF['actStartTime'] - Person_Trip_eventsSF['actEndTime'] "
   ]
  },
  {
   "cell_type": "code",
   "execution_count": null,
   "id": "03bd08b4",
   "metadata": {},
   "outputs": [],
   "source": [
    "Person_Trip_eventsSF['waitTime'] = Person_Trip_eventsSF['duration_door_to_door'] - Person_Trip_eventsSF['duration_travelling'] "
   ]
  },
  {
   "cell_type": "code",
   "execution_count": null,
   "id": "28560b3b",
   "metadata": {},
   "outputs": [],
   "source": [
    "Person_Trip_eventsSF['actPurpose'] = Person_Trip_eventsSF['actEndType'].astype(str) + \"_to_\" + Person_Trip_eventsSF['actStartType'].astype(str)"
   ]
  },
  {
   "cell_type": "code",
   "execution_count": null,
   "id": "2058e942",
   "metadata": {},
   "outputs": [],
   "source": [
    "#Person_Trip_eventsSF[Person_Trip_eventsSF['IDMerged'] == 2192]"
   ]
  },
  {
   "cell_type": "code",
   "execution_count": null,
   "id": "8634344b",
   "metadata": {},
   "outputs": [],
   "source": [
    "#Person_Trip_eventsSF.rename(columns={\"modeBEAM_rh\":\"mode_BEAM_list\"}, inplace=True) "
   ]
  },
  {
   "cell_type": "code",
   "execution_count": null,
   "id": "d3a96721",
   "metadata": {},
   "outputs": [],
   "source": [
    "Person_Trip_eventsSF.rename(columns={\"legVehicleIds\":\"vehicleIds_estimate\"}, inplace=True) "
   ]
  },
  {
   "cell_type": "code",
   "execution_count": null,
   "id": "b8d2f547",
   "metadata": {},
   "outputs": [],
   "source": [
    "Person_Trip_eventsSF.rename(columns={\"vehicle\":\"vehicleIds\"}, inplace=True) "
   ]
  },
  {
   "cell_type": "code",
   "execution_count": null,
   "id": "ab8aaa10",
   "metadata": {},
   "outputs": [],
   "source": [
    "#Person_Trip_eventsSF.door_to_door_time[Person_Trip_eventsSF.door_to_door_time<0].count()"
   ]
  },
  {
   "cell_type": "code",
   "execution_count": null,
   "id": "434cd548",
   "metadata": {},
   "outputs": [],
   "source": [
    "#negative_door = Person_Trip_eventsSF[(Person_Trip_eventsSF.door_to_door_time<0)]"
   ]
  },
  {
   "cell_type": "code",
   "execution_count": null,
   "id": "3c0e1bd0",
   "metadata": {},
   "outputs": [],
   "source": [
    "# Column with five summarized modes\n",
    "conditions  = [(Person_Trip_eventsSF['mode_choice_actual_BEAM'] == 'ride_hail') | (Person_Trip_eventsSF['mode_choice_actual_BEAM'] == 'ride_hail_pooled'), \n",
    "               (Person_Trip_eventsSF['mode_choice_actual_BEAM'] == 'walk_transit') | (Person_Trip_eventsSF['mode_choice_actual_BEAM'] == 'drive_transit')| (Person_Trip_eventsSF['mode_choice_actual_BEAM'] == 'ride_hail_transit')|(Person_Trip_eventsSF['mode_choice_actual_BEAM'] == 'bike_transit'),\n",
    "               (Person_Trip_eventsSF['mode_choice_actual_BEAM'] == 'walk'), (Person_Trip_eventsSF['mode_choice_actual_BEAM'] == 'bike'),\n",
    "               (Person_Trip_eventsSF['mode_choice_actual_BEAM'] == 'car') | (Person_Trip_eventsSF['mode_choice_actual_BEAM'] == 'car_hov2')| (Person_Trip_eventsSF['mode_choice_actual_BEAM'] == 'car_hov3')|(Person_Trip_eventsSF['mode_choice_actual_BEAM'] == 'hov2_teleportation')| (Person_Trip_eventsSF['mode_choice_actual_BEAM'] == 'hov3_teleportation')]\n",
    "choices = [ 'ride_hail', 'transit', 'walk', 'bike', 'car']"
   ]
  },
  {
   "cell_type": "code",
   "execution_count": null,
   "id": "86cb946d",
   "metadata": {},
   "outputs": [],
   "source": [
    "Person_Trip_eventsSF['mode_choice_actual_5'] = np.select(conditions, choices, default=np.nan)"
   ]
  },
  {
   "cell_type": "code",
   "execution_count": null,
   "id": "5395ab24",
   "metadata": {},
   "outputs": [],
   "source": [
    "#negative_door.to_csv('C:/Shared-Work/Data/CleanData/PivotTables/negative_door.csv')   "
   ]
  },
  {
   "cell_type": "code",
   "execution_count": null,
   "id": "649260ae",
   "metadata": {},
   "outputs": [],
   "source": [
    "Person_Trip_eventsSF = Person_Trip_eventsSF.drop(Person_Trip_eventsSF[Person_Trip_eventsSF.duration_door_to_door < 0].index)"
   ]
  },
  {
   "cell_type": "code",
   "execution_count": null,
   "id": "2d2b37e2",
   "metadata": {},
   "outputs": [],
   "source": [
    "Person_Trip_eventsSF.to_csv('C:/Shared-Work/Data/CleanData/sf_2018_base_core_act.csv', index = False)"
   ]
  },
  {
   "cell_type": "code",
   "execution_count": null,
   "id": "00b62b25",
   "metadata": {},
   "outputs": [],
   "source": [
    "#Person_Trip_eventsSF[Person_Trip_eventsSF['mode_choice_planned_BEAM'] == 'walk_transit'].head()"
   ]
  },
  {
   "cell_type": "code",
   "execution_count": null,
   "id": "0a7b4874",
   "metadata": {},
   "outputs": [],
   "source": []
  },
  {
   "cell_type": "markdown",
   "id": "557c5804",
   "metadata": {},
   "source": [
    "#### Merging with activity sim persons and housholds files"
   ]
  },
  {
   "cell_type": "code",
   "execution_count": null,
   "id": "fc9f6e38",
   "metadata": {},
   "outputs": [],
   "source": [
    "actloc_2018_baseline = \"https://beam-outputs.s3.amazonaws.com/pilates-outputs/sfbay-base-20220409/activitysim/\"\n",
    "actloc_2018_transitFreq05 = \"https://beam-outputs.s3.amazonaws.com/pilates-outputs/sfbay-transit_frequencies_0.5-20220528/activitysim/\"\n",
    "actloc_2018_transitFreq1p5 = \"https://beam-outputs.s3.amazonaws.com/pilates-outputs/sfbay-transit_frequencies_1.5-20220529/activitysim/\"\n",
    "actloc_2018_transitFreq2 = \"https://beam-outputs.s3.amazonaws.com/pilates-outputs/sfbay-transit_frequencies_2.0-20220529/activitysim/\"\n",
    "actloc_2018_rhFleetsz0125 = \"https://beam-outputs.s3.amazonaws.com/pilates-outputs/sfbay-RH_fleetsz_0.125-20220408/activitysim/\"\n",
    "actloc_2018_rhFleetsz175 = \"https://beam-outputs.s3.amazonaws.com/pilates-outputs/sfbay-RH_fleetsz_1.75-20220408/activitysim/\"\n",
    "\n",
    "households = pd.read_csv(actloc_2018_baseline + 'final_households.csv')\n",
    "persons = pd.read_csv(actloc_2018_baseline + 'final_persons.csv')\n",
    "tours = pd.read_csv(actloc_2018_baseline +'final_tours.csv')\n",
    "plans = pd.read_csv(actloc_2018_baseline +'final_plans.csv')\n",
    "trips = pd.read_csv(actloc_2018_baseline + 'final_trips.csv')\n",
    "landuse = pd.read_csv(actloc_2018_baseline + 'final_land_use.csv')"
   ]
  },
  {
   "cell_type": "code",
   "execution_count": null,
   "id": "2f940ac2",
   "metadata": {},
   "outputs": [],
   "source": [
    "# PUMS data for Disability information\n",
    "filename = \"C:/Shared-Work/Data/Disability_PUMS/custom_mpo_06197001_model_data.h5\"\n",
    "\n",
    "with h5py.File(filename, \"r\") as f:\n",
    "    # List all groups\n",
    "    print(\"Keys: %s\" % f.keys())\n",
    "    a_group_key = list(f.keys())[0]\n",
    "\n",
    "    # Get the data\n",
    "    data = list(f[a_group_key])"
   ]
  },
  {
   "cell_type": "code",
   "execution_count": null,
   "id": "287187c2",
   "metadata": {},
   "outputs": [],
   "source": [
    "# PUMS data for Disability information\n",
    "person_5_year_2010 = pd.read_csv('C:/Users/nazanin/Downloads/csv_pca/ss13pca.csv')\n",
    "housing_unit_5_year_2010 = pd.read_csv('C:/Users/nazanin/Downloads/csv_hca/ss13hca.csv')"
   ]
  },
  {
   "cell_type": "code",
   "execution_count": null,
   "id": "fa208ddf",
   "metadata": {},
   "outputs": [],
   "source": [
    "# Merge PUMS households and persons \n",
    "person_5_year_2010 = person_5_year_2010.sort_values(by=['SERIALNO']).reset_index()\n",
    "housing_unit_5_year_2010 = housing_unit_5_year_2010.sort_values(by=['SERIALNO']).reset_index()\n",
    "hhpersons_PUMS2010 = pd.merge(left=person_5_year_2010, right=housing_unit_5_year_2010, how='left', on='SERIALNO')"
   ]
  },
  {
   "cell_type": "code",
   "execution_count": null,
   "id": "47b6ea7f",
   "metadata": {},
   "outputs": [],
   "source": [
    "# Merge BEAM households and persons \n",
    "persons = persons.sort_values(by=['household_id']).reset_index(drop=True)\n",
    "households = households.sort_values(by=['household_id']).reset_index(drop=True)\n",
    "hhpersons = pd.merge(left=persons, right=households, how='left', on='household_id')\n",
    "#hhpersons = pd.merge(left=persons, right=households, how='left', on='household_id', suffixes=('', '_drop'))\n",
    "#hhpersons.drop([col for col in hhpersons.columns if 'drop' in col], axis=1, inplace=True)"
   ]
  },
  {
   "cell_type": "code",
   "execution_count": null,
   "id": "f3ff157e",
   "metadata": {},
   "outputs": [],
   "source": [
    "# Merge Disability Columns\n",
    "hhpersons_PUMS2010 = hhpersons_PUMS2010.sort_values(by=['SERIALNO', 'SPORDER']).reset_index(drop=True)\n",
    "hhpersons = hhpersons.sort_values(by=['serialno', 'PNUM']).reset_index(drop=True)\n",
    "hhpersonsDIS = pd.merge(hhpersons, hhpersons_PUMS2010[['SERIALNO', 'SPORDER', 'AGEP', 'SEX', 'DIS', 'HINCP', 'VEH', 'JWMNP', 'JWRIP', 'JWTR', 'RAC1P', 'RAC2P05']], how='left',left_on = ['serialno', 'PNUM'] , right_on=['SERIALNO', 'SPORDER'])"
   ]
  },
  {
   "cell_type": "code",
   "execution_count": null,
   "id": "cde69b76",
   "metadata": {},
   "outputs": [],
   "source": [
    "#hhpersons[hhpersons['serialno']==2009000000022]"
   ]
  },
  {
   "cell_type": "code",
   "execution_count": null,
   "id": "5b20c94f",
   "metadata": {},
   "outputs": [],
   "source": [
    "# Merge tours, households and persons\n",
    "tours = tours.sort_values(by=['person_id']).reset_index(drop=True)\n",
    "hhpersonsDIS = hhpersonsDIS.sort_values(by=['person_id']).reset_index(drop=True)\n",
    "hhperTours = pd.merge(left=tours, right=hhpersonsDIS, how='left', on='person_id')\n",
    "#hhperTours = pd.merge(left=tours, right=hhpersons, how='left', on='person_id', suffixes=('', '_drop'))\n",
    "#hhperTours.drop([col for col in hhperTours.columns if 'drop' in col], axis=1, inplace=True)"
   ]
  },
  {
   "cell_type": "code",
   "execution_count": null,
   "id": "6ef8c6a0",
   "metadata": {},
   "outputs": [],
   "source": [
    "# Merge trips, tours, households and persons\n",
    "trips = trips.sort_values(by=['person_id', 'tour_id']).reset_index(drop=True)\n",
    "hhperTours = hhperTours.sort_values(by=['person_id','tour_id']).reset_index(drop=True)\n",
    "tourTripsMerged = pd.merge(left=trips, right=hhperTours, how='left', on=['person_id','tour_id'])\n",
    "#tourTripsMerged = pd.merge(left=trips, right=hhperTours, how='left', on=['person_id','tour_id'], suffixes=('', '_drop'))\n",
    "#tourTripsMerged.drop([col for col in tourTripsMerged.columns if 'drop' in col], axis=1, inplace=True)"
   ]
  },
  {
   "cell_type": "code",
   "execution_count": null,
   "id": "8f170d19",
   "metadata": {},
   "outputs": [],
   "source": [
    "tourTripsMerged.head()"
   ]
  },
  {
   "cell_type": "code",
   "execution_count": null,
   "id": "869a7b26",
   "metadata": {},
   "outputs": [],
   "source": [
    "tourTripsMerged[tourTripsMerged['trip_id'] == 1306]"
   ]
  },
  {
   "cell_type": "code",
   "execution_count": null,
   "id": "60bf4e65",
   "metadata": {},
   "outputs": [],
   "source": [
    "# Merge trips, tours, households, and persons with land-use\n",
    "#landuse = landuse.sort_values(by=['TAZ'])\n",
    "#tourTripsMerged = tourTripsMerged.sort_values(by=['TAZ'])\n",
    "#landuseTripsMerged = pd.merge(tourTripsMerged, landuse, how='left', left_on='TAZ', right_on='TAZ', suffixes=('', '_drop'))\n",
    "#landuseTripsMerged.drop([col for col in landuseTripsMerged.columns if 'drop' in col], axis=1, inplace=True)"
   ]
  },
  {
   "cell_type": "code",
   "execution_count": null,
   "id": "eccb3f47",
   "metadata": {},
   "outputs": [],
   "source": [
    "# Concat mode_choice_raw files\n",
    "path = \"C:/Users/nazanin/Downloads/trip_mode_choice/trip_mode_choice/\"\n",
    "all_files = glob.glob(path + \"*raw.csv\")\n",
    "li_mapper = map(lambda filename: pd.read_csv(filename, index_col = None, header = 0), all_files)\n",
    "li2 = list(li_mapper)\n",
    "SFmode_choice_raw = pd.concat(li2, axis = 0, ignore_index=True)"
   ]
  },
  {
   "cell_type": "code",
   "execution_count": null,
   "id": "ffc9c4e2",
   "metadata": {},
   "outputs": [],
   "source": [
    "# Concat mode_choice_utilities files\n",
    "path = \"C:/Users/nazanin/Downloads/trip_mode_choice/trip_mode_choice/\"\n",
    "all_files = glob.glob(path + \"*utilities.csv\")\n",
    "li_mapper = map(lambda filename: pd.read_csv(filename, index_col = None, header = 0), all_files)\n",
    "li2 = list(li_mapper)\n",
    "SFmode_choice_utilities = pd.concat(li2, axis = 0, ignore_index=True)"
   ]
  },
  {
   "cell_type": "code",
   "execution_count": null,
   "id": "e8248f34",
   "metadata": {},
   "outputs": [],
   "source": [
    "# Merge mode_choice_raw and utilities\n",
    "SFmode_choice_raw = SFmode_choice_raw.sort_values(by=['trip_id'])\n",
    "SFmode_choice_utilities = SFmode_choice_utilities.sort_values(by=['trip_id'])\n",
    "rawUtil = pd.merge(left=SFmode_choice_raw, right=SFmode_choice_utilities, how='left', on='trip_id')"
   ]
  },
  {
   "cell_type": "code",
   "execution_count": null,
   "id": "5035b857",
   "metadata": {},
   "outputs": [],
   "source": [
    "%%time\n",
    "#just utilities\n",
    "# Merge trips, tours, households, persons, trip_mode_choice_raw, and utilities\n",
    "tourTripsMerged = tourTripsMerged.sort_values(by=['trip_id'])\n",
    "SFmode_choice_utilities = SFmode_choice_utilities.sort_values(by=['trip_id'])\n",
    "SFActMerged= pd.merge(left=tourTripsMerged, right=SFmode_choice_utilities, how='left', on=['trip_id'])"
   ]
  },
  {
   "cell_type": "code",
   "execution_count": null,
   "id": "fa758d1e",
   "metadata": {},
   "outputs": [],
   "source": [
    "%%time\n",
    "# Both raw and utilities\n",
    "# Merge trips, tours, households, persons, trip_mode_choice_raw, and utilities\n",
    "tourTripsMerged = tourTripsMerged.sort_values(by=['trip_id'])\n",
    "rawUtil = rawUtil.sort_values(by=['trip_id'])\n",
    "SFActMerged= pd.merge(left=tourTripsMerged, right=rawUtil, how='left', on=['trip_id'])"
   ]
  },
  {
   "cell_type": "code",
   "execution_count": null,
   "id": "96ae8686",
   "metadata": {},
   "outputs": [],
   "source": [
    "# Merge person_trip level BEAM with activity sim merged files\n",
    "SFActMerged = SFActMerged.sort_values(by=['person_id', 'trip_id']).reset_index(drop=True)\n",
    "Person_Trip_eventsSF = Person_Trip_eventsSF.sort_values(by=['IDMerged','tripIndex']).reset_index(drop=True)\n",
    "eventsASim = pd.merge(left=Person_Trip_eventsSF, right=SFActMerged, how='left', left_on=[\"IDMerged\", 'tripIndex'], right_on=['person_id', 'trip_id'])\n",
    "#eventsASim = pd.merge(left=Person_Trip_eventsSF, right=tourTripsMerged, how='left',left_on = [\"IDMerged\", 'tripId'] , right_on=['person_id', 'trip_id'], suffixes=('', '_drop'))\n",
    "#eventsASim.drop([col for col in eventsASim.columns if 'drop' in col], axis=1, inplace=True)"
   ]
  },
  {
   "cell_type": "code",
   "execution_count": null,
   "id": "72ae2d99",
   "metadata": {},
   "outputs": [],
   "source": [
    "eventsASim.rename(columns={\"mode_choice_logsum_y\":\"logsum_tours_mode_AS_tours\"}, inplace=True)"
   ]
  },
  {
   "cell_type": "code",
   "execution_count": null,
   "id": "7a0b2fcc",
   "metadata": {},
   "outputs": [],
   "source": [
    "eventsASim.rename(columns={\"tour_mode\":\"tour_mode_AS_tours\"}, inplace=True)"
   ]
  },
  {
   "cell_type": "code",
   "execution_count": null,
   "id": "0def8b02",
   "metadata": {},
   "outputs": [],
   "source": [
    "eventsASim.rename(columns={\"mode_choice_logsum_x\":\"logsum_trip_mode_AS_trips\"}, inplace=True)"
   ]
  },
  {
   "cell_type": "code",
   "execution_count": null,
   "id": "28906290",
   "metadata": {},
   "outputs": [],
   "source": [
    "eventsASim.rename(columns={\"trip_mode\":\"trip_mode_AS_trips\"}, inplace=True)"
   ]
  },
  {
   "cell_type": "code",
   "execution_count": null,
   "id": "a3fe03ae",
   "metadata": {},
   "outputs": [],
   "source": []
  },
  {
   "cell_type": "code",
   "execution_count": null,
   "id": "5de13a06",
   "metadata": {},
   "outputs": [],
   "source": [
    "%%time\n",
    "eventsASim.to_csv('s3://beam-core-act/deepDive/CleanData/SanFrancisco/Baseline/sf_2018_base_utilities.csv', index=False)"
   ]
  },
  {
   "cell_type": "code",
   "execution_count": null,
   "id": "c78a2b6f",
   "metadata": {},
   "outputs": [],
   "source": [
    "eventsASim.to_csv('C:/Shared-Work/Data/CleanData/ASIM_BEAM_Merged/sf_2018_base.csv', index = False)"
   ]
  },
  {
   "cell_type": "code",
   "execution_count": null,
   "id": "66353fcc",
   "metadata": {},
   "outputs": [],
   "source": [
    "# eventsASim.duration_in_privateCar.sum()"
   ]
  },
  {
   "cell_type": "code",
   "execution_count": null,
   "id": "ade3c9f5",
   "metadata": {},
   "outputs": [],
   "source": [
    "eventsASim.head(50000).to_csv('C:/Shared-Work/Data/CleanData/ASIM_BEAM_Merged/sf_2018_base_test.csv', index = False)"
   ]
  },
  {
   "cell_type": "code",
   "execution_count": null,
   "id": "3eb05f10",
   "metadata": {},
   "outputs": [],
   "source": [
    "#import matplotlib.pyplot as plt\n",
    "#import seaborn as sns\n",
    "\n",
    "#plt.figure(figsize=(13, 6))\n",
    "#sns.heatmap(households, vmax=1, annot=True, linewidths=.5)\n",
    "#plt.xticks(rotation=30, horizontalalignment='right')\n",
    "#plt.show()"
   ]
  },
  {
   "cell_type": "code",
   "execution_count": null,
   "id": "04e327c6",
   "metadata": {},
   "outputs": [],
   "source": [
    "#import missingno as msno\n",
    "#%matplotlib inline\n",
    "#msno.bar(SFbaseline2018)\n",
    "#msno.heatmap(persons)"
   ]
  },
  {
   "cell_type": "code",
   "execution_count": null,
   "id": "c3c34a2c",
   "metadata": {},
   "outputs": [],
   "source": []
  },
  {
   "cell_type": "code",
   "execution_count": null,
   "id": "b284a298",
   "metadata": {},
   "outputs": [],
   "source": [
    "#from io import StringIO # python3; python2: BytesIO \n",
    "#import boto\n",
    "#import boto3\n",
    "#\n",
    "#conn = boto.s3.connect_to_region('us-east-2')\n",
    "#bucket = conn.get_bucket('beam-core-act')\n",
    "#csv_buffer = StringIO()\n",
    "#eventsASim.to_csv(csv_buffer)\n",
    "#s3_resource = boto3.resource('s3')\n",
    "#s3_resource.Object(bucket, 'eventsASim.csv').put(Body=csv_buffer.getvalue())"
   ]
  }
 ],
 "metadata": {
  "kernelspec": {
   "display_name": "Python 3 (ipykernel)",
   "language": "python",
   "name": "python3"
  },
  "language_info": {
   "codemirror_mode": {
    "name": "ipython",
    "version": 3
   },
   "file_extension": ".py",
   "mimetype": "text/x-python",
   "name": "python",
   "nbconvert_exporter": "python",
   "pygments_lexer": "ipython3",
   "version": "3.9.7"
  }
 },
 "nbformat": 4,
 "nbformat_minor": 5
}
