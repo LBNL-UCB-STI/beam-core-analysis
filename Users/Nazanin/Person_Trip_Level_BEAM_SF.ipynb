{
 "cells": [
  {
   "cell_type": "code",
   "execution_count": 1,
   "id": "f55cd92c",
   "metadata": {},
   "outputs": [],
   "source": [
    "import pandas as pd\n",
    "import numpy as np"
   ]
  },
  {
   "cell_type": "code",
   "execution_count": 2,
   "id": "423ab3c4",
   "metadata": {},
   "outputs": [],
   "source": [
    "# File location on S3 (The address should be updated depending on the version of the code using)\n",
    "loc_2018 = \"https://beam-outputs.s3.amazonaws.com/pilates-outputs/sfbay-2018-base-20220306/beam/year-2018-iteration-5/ITERS/it.0/\"\n",
    "loc_2018_tripid = \"https://beam-outputs.s3.amazonaws.com/pilates-outputs/sfbay-2018-base-20220316/beam/year-2018-iteration-2/ITERS/it.0/\""
   ]
  },
  {
   "cell_type": "code",
   "execution_count": 3,
   "id": "500650e7",
   "metadata": {},
   "outputs": [
    {
     "name": "stderr",
     "output_type": "stream",
     "text": [
      "<timed exec>:21: DtypeWarning: Columns (4,17,19,24,25,26,27,40,41,42,45,55,57,58) have mixed types. Specify dtype option on import or set low_memory=False.\n"
     ]
    },
    {
     "name": "stdout",
     "output_type": "stream",
     "text": [
      "Wall time: 3min 25s\n"
     ]
    }
   ],
   "source": [
    "%%time\n",
    "# Reading the events file\n",
    "dtypes = {\n",
    "    \"time\": \"float32\",\n",
    "    \"type\": \"category\",\n",
    "    \"legMode\": \"category\",\n",
    "    \"actType\": \"category\", \n",
    "    \"reason\": \"category\",\n",
    "    \"primaryFuelLevel\": \"float64\",\n",
    "    \"legMode\": \"category\",\n",
    "    \"chargingPointType\":\"category\",\n",
    "    \"pricingModel\":\"category\",\n",
    "    \"parkingType\":\"category\",\n",
    "    \"mode\":\"category\",\n",
    "    \"personalVehicleAvailable\": \"category\",\n",
    "    \"person\": \"object\",\n",
    "    \"driver\": \"object\",\n",
    "    \"riders\": \"object\"\n",
    "}\n",
    "\n",
    "# Use list comprehension to remove the unwanted column in **usecol**\n",
    "eventsSF = pd.read_csv(loc_2018_tripid + '0.events.csv.gz', compression = 'gzip', dtype = dtypes)"
   ]
  },
  {
   "cell_type": "code",
   "execution_count": 4,
   "id": "6de32754",
   "metadata": {},
   "outputs": [],
   "source": [
    "plansSF = pd.read_csv(loc_2018_tripid + '0.plans.csv.gz', compression = 'gzip', dtype = dtypes)"
   ]
  },
  {
   "cell_type": "code",
   "execution_count": 5,
   "id": "2e95e358",
   "metadata": {},
   "outputs": [
    {
     "data": {
      "text/html": [
       "<div>\n",
       "<style scoped>\n",
       "    .dataframe tbody tr th:only-of-type {\n",
       "        vertical-align: middle;\n",
       "    }\n",
       "\n",
       "    .dataframe tbody tr th {\n",
       "        vertical-align: top;\n",
       "    }\n",
       "\n",
       "    .dataframe thead th {\n",
       "        text-align: right;\n",
       "    }\n",
       "</style>\n",
       "<table border=\"1\" class=\"dataframe\">\n",
       "  <thead>\n",
       "    <tr style=\"text-align: right;\">\n",
       "      <th></th>\n",
       "      <th>tripId</th>\n",
       "      <th>personId</th>\n",
       "      <th>planIndex</th>\n",
       "      <th>planScore</th>\n",
       "      <th>planSelected</th>\n",
       "      <th>planElementType</th>\n",
       "      <th>planElementIndex</th>\n",
       "      <th>activityType</th>\n",
       "      <th>activityLocationX</th>\n",
       "      <th>activityLocationY</th>\n",
       "      <th>activityEndTime</th>\n",
       "      <th>legMode</th>\n",
       "      <th>legDepartureTime</th>\n",
       "      <th>legTravelTime</th>\n",
       "      <th>legRouteType</th>\n",
       "      <th>legRouteStartLink</th>\n",
       "      <th>legRouteEndLink</th>\n",
       "      <th>legRouteTravelTime</th>\n",
       "      <th>legRouteDistance</th>\n",
       "      <th>legRouteLinks</th>\n",
       "    </tr>\n",
       "  </thead>\n",
       "  <tbody>\n",
       "    <tr>\n",
       "      <th>1175340</th>\n",
       "      <td>NaN</td>\n",
       "      <td>1</td>\n",
       "      <td>0</td>\n",
       "      <td>277.215965</td>\n",
       "      <td>True</td>\n",
       "      <td>activity</td>\n",
       "      <td>0</td>\n",
       "      <td>Home</td>\n",
       "      <td>605711.160337</td>\n",
       "      <td>4.134402e+06</td>\n",
       "      <td>26748.0</td>\n",
       "      <td>NaN</td>\n",
       "      <td>NaN</td>\n",
       "      <td>NaN</td>\n",
       "      <td>NaN</td>\n",
       "      <td>NaN</td>\n",
       "      <td>NaN</td>\n",
       "      <td>NaN</td>\n",
       "      <td>NaN</td>\n",
       "      <td>NaN</td>\n",
       "    </tr>\n",
       "    <tr>\n",
       "      <th>1175341</th>\n",
       "      <td>577.0</td>\n",
       "      <td>1</td>\n",
       "      <td>0</td>\n",
       "      <td>277.215965</td>\n",
       "      <td>True</td>\n",
       "      <td>leg</td>\n",
       "      <td>1</td>\n",
       "      <td>NaN</td>\n",
       "      <td>NaN</td>\n",
       "      <td>NaN</td>\n",
       "      <td>NaN</td>\n",
       "      <td>hov3_teleportation</td>\n",
       "      <td>-inf</td>\n",
       "      <td>-inf</td>\n",
       "      <td>NaN</td>\n",
       "      <td>NaN</td>\n",
       "      <td>NaN</td>\n",
       "      <td>NaN</td>\n",
       "      <td>NaN</td>\n",
       "      <td>NaN</td>\n",
       "    </tr>\n",
       "    <tr>\n",
       "      <th>1175342</th>\n",
       "      <td>NaN</td>\n",
       "      <td>1</td>\n",
       "      <td>0</td>\n",
       "      <td>277.215965</td>\n",
       "      <td>True</td>\n",
       "      <td>activity</td>\n",
       "      <td>2</td>\n",
       "      <td>othmaint</td>\n",
       "      <td>604273.529654</td>\n",
       "      <td>4.131071e+06</td>\n",
       "      <td>26866.8</td>\n",
       "      <td>NaN</td>\n",
       "      <td>NaN</td>\n",
       "      <td>NaN</td>\n",
       "      <td>NaN</td>\n",
       "      <td>NaN</td>\n",
       "      <td>NaN</td>\n",
       "      <td>NaN</td>\n",
       "      <td>NaN</td>\n",
       "      <td>NaN</td>\n",
       "    </tr>\n",
       "    <tr>\n",
       "      <th>1175343</th>\n",
       "      <td>578.0</td>\n",
       "      <td>1</td>\n",
       "      <td>0</td>\n",
       "      <td>277.215965</td>\n",
       "      <td>True</td>\n",
       "      <td>leg</td>\n",
       "      <td>3</td>\n",
       "      <td>NaN</td>\n",
       "      <td>NaN</td>\n",
       "      <td>NaN</td>\n",
       "      <td>NaN</td>\n",
       "      <td>hov2_teleportation</td>\n",
       "      <td>-inf</td>\n",
       "      <td>-inf</td>\n",
       "      <td>NaN</td>\n",
       "      <td>NaN</td>\n",
       "      <td>NaN</td>\n",
       "      <td>NaN</td>\n",
       "      <td>NaN</td>\n",
       "      <td>NaN</td>\n",
       "    </tr>\n",
       "    <tr>\n",
       "      <th>1175344</th>\n",
       "      <td>NaN</td>\n",
       "      <td>1</td>\n",
       "      <td>0</td>\n",
       "      <td>277.215965</td>\n",
       "      <td>True</td>\n",
       "      <td>activity</td>\n",
       "      <td>4</td>\n",
       "      <td>school</td>\n",
       "      <td>604436.586319</td>\n",
       "      <td>4.135123e+06</td>\n",
       "      <td>54720.0</td>\n",
       "      <td>NaN</td>\n",
       "      <td>NaN</td>\n",
       "      <td>NaN</td>\n",
       "      <td>NaN</td>\n",
       "      <td>NaN</td>\n",
       "      <td>NaN</td>\n",
       "      <td>NaN</td>\n",
       "      <td>NaN</td>\n",
       "      <td>NaN</td>\n",
       "    </tr>\n",
       "  </tbody>\n",
       "</table>\n",
       "</div>"
      ],
      "text/plain": [
       "         tripId  personId  planIndex   planScore  planSelected  \\\n",
       "1175340     NaN         1          0  277.215965          True   \n",
       "1175341   577.0         1          0  277.215965          True   \n",
       "1175342     NaN         1          0  277.215965          True   \n",
       "1175343   578.0         1          0  277.215965          True   \n",
       "1175344     NaN         1          0  277.215965          True   \n",
       "\n",
       "        planElementType  planElementIndex activityType  activityLocationX  \\\n",
       "1175340        activity                 0         Home      605711.160337   \n",
       "1175341             leg                 1          NaN                NaN   \n",
       "1175342        activity                 2     othmaint      604273.529654   \n",
       "1175343             leg                 3          NaN                NaN   \n",
       "1175344        activity                 4       school      604436.586319   \n",
       "\n",
       "         activityLocationY  activityEndTime             legMode  \\\n",
       "1175340       4.134402e+06          26748.0                 NaN   \n",
       "1175341                NaN              NaN  hov3_teleportation   \n",
       "1175342       4.131071e+06          26866.8                 NaN   \n",
       "1175343                NaN              NaN  hov2_teleportation   \n",
       "1175344       4.135123e+06          54720.0                 NaN   \n",
       "\n",
       "         legDepartureTime  legTravelTime  legRouteType  legRouteStartLink  \\\n",
       "1175340               NaN            NaN           NaN                NaN   \n",
       "1175341              -inf           -inf           NaN                NaN   \n",
       "1175342               NaN            NaN           NaN                NaN   \n",
       "1175343              -inf           -inf           NaN                NaN   \n",
       "1175344               NaN            NaN           NaN                NaN   \n",
       "\n",
       "         legRouteEndLink  legRouteTravelTime  legRouteDistance  legRouteLinks  \n",
       "1175340              NaN                 NaN               NaN            NaN  \n",
       "1175341              NaN                 NaN               NaN            NaN  \n",
       "1175342              NaN                 NaN               NaN            NaN  \n",
       "1175343              NaN                 NaN               NaN            NaN  \n",
       "1175344              NaN                 NaN               NaN            NaN  "
      ]
     },
     "execution_count": 5,
     "metadata": {},
     "output_type": "execute_result"
    }
   ],
   "source": [
    "plansSF.sort_values(by = \"personId\").head()"
   ]
  },
  {
   "cell_type": "code",
   "execution_count": 6,
   "id": "e44a5a90",
   "metadata": {},
   "outputs": [],
   "source": [
    "# Show all columns and rows\n",
    "pd.options.display.max_columns = None\n",
    "pd.options.display.max_rows = None"
   ]
  },
  {
   "cell_type": "code",
   "execution_count": 7,
   "id": "2fbd0c93",
   "metadata": {},
   "outputs": [],
   "source": [
    "# Rename the \"mode\" column\n",
    "eventsSF.rename(columns={\"mode\":\"modeBEAM\"}, inplace=True) \n",
    "# Replace \"Work\" with \"work\" in the \"actType\" column\n",
    "eventsSF[\"actType\"].replace({\"Work\": \"work\"}, inplace=True)"
   ]
  },
  {
   "cell_type": "code",
   "execution_count": 8,
   "id": "f2d74acd",
   "metadata": {},
   "outputs": [],
   "source": [
    "# Remove person = TransitDriver or RidehailDriver because there are no agent information in these rows\n",
    "eventsSF = eventsSF[~eventsSF.person.str.contains(\"Agent\", na=False)].reset_index(drop=True)"
   ]
  },
  {
   "cell_type": "code",
   "execution_count": 9,
   "id": "f1390762",
   "metadata": {},
   "outputs": [],
   "source": [
    "eventsSFCopy = eventsSF.copy()"
   ]
  },
  {
   "cell_type": "code",
   "execution_count": 10,
   "id": "d64b6a6f",
   "metadata": {},
   "outputs": [],
   "source": [
    "# shift column 'Name' to first position\n",
    "first_column = eventsSF.pop('person')\n",
    "second_column = eventsSF.pop('driver')\n",
    "third_column = eventsSF.pop('riders')\n",
    "# insert column using insert(position,column_name,first_column) function\n",
    "eventsSF.insert(0, 'person', first_column)\n",
    "eventsSF.insert(1, 'driver', second_column)\n",
    "eventsSF.insert(2, 'riders', third_column)"
   ]
  },
  {
   "cell_type": "code",
   "execution_count": 11,
   "id": "77e7695a",
   "metadata": {},
   "outputs": [],
   "source": [
    "# Adding the IDMerged Column\n",
    "eventsSF['UniqueID'] = eventsSF['person'] #make a copy of the person column\n",
    "eventsSF['personID'] = np.where(eventsSF['person'].isin(eventsSF['driver']), eventsSF['person'], np.nan) \n",
    "eventsSF['driverID'] = np.where(eventsSF['driver'].isin(eventsSF['person']), eventsSF['driver'], np.nan)"
   ]
  },
  {
   "cell_type": "code",
   "execution_count": 12,
   "id": "a9f2b0af",
   "metadata": {},
   "outputs": [],
   "source": [
    "# Merging person and driver ids in one column\n",
    "eventsSF['IDMerged'] = eventsSF['personID'].combine_first(eventsSF['driverID'])\n",
    "eventsSF['IDMerged'] = eventsSF['UniqueID'].combine_first(eventsSF['IDMerged'])"
   ]
  },
  {
   "cell_type": "code",
   "execution_count": 13,
   "id": "70ccea79",
   "metadata": {},
   "outputs": [],
   "source": [
    "# Dropping unused columns\n",
    "eventsSF = eventsSF.drop(['personID','driverID','UniqueID'], axis=1) "
   ]
  },
  {
   "cell_type": "code",
   "execution_count": 14,
   "id": "2f6d5d3d",
   "metadata": {},
   "outputs": [],
   "source": [
    "# Shift column 'Name' to first position\n",
    "first_column = eventsSF.pop('IDMerged')\n",
    "# Insert column using insert(position,column_name,first_column) function\n",
    "eventsSF.insert(0, 'IDMerged', first_column)"
   ]
  },
  {
   "cell_type": "code",
   "execution_count": 15,
   "id": "3dffe8cf",
   "metadata": {},
   "outputs": [
    {
     "name": "stdout",
     "output_type": "stream",
     "text": [
      "Wall time: 1min 35s\n"
     ]
    }
   ],
   "source": [
    "%%time\n",
    "# Split the \"riders' column and replicated rows for every rider\n",
    "eventsSF['riders'] = eventsSF['riders'].str.split(':')\n",
    "eventsSF = eventsSF.explode('riders')"
   ]
  },
  {
   "cell_type": "code",
   "execution_count": 16,
   "id": "cad273bc",
   "metadata": {},
   "outputs": [],
   "source": [
    "# Combine riderID with IDMerged\n",
    "eventsSF['riderID'] = np.where(eventsSF['riders'].isin(eventsSF['person']), eventsSF['riders'], np.nan)\n",
    "eventsSF['IDMerged'] = eventsSF['riderID'].combine_first(eventsSF['IDMerged'])"
   ]
  },
  {
   "cell_type": "code",
   "execution_count": 17,
   "id": "65de33c2",
   "metadata": {},
   "outputs": [],
   "source": [
    "# Dropping unused columns\n",
    "eventsSF = eventsSF.drop(['riderID'], axis=1) "
   ]
  },
  {
   "cell_type": "code",
   "execution_count": 18,
   "id": "698947be",
   "metadata": {},
   "outputs": [],
   "source": [
    "# Either charging events or just ridehail or transit drivers\n",
    "IDnan = eventsSF[eventsSF['IDMerged'].isna()]"
   ]
  },
  {
   "cell_type": "code",
   "execution_count": 19,
   "id": "d8a62eb1",
   "metadata": {},
   "outputs": [],
   "source": [
    "# Remove driver = TransitDriver or RidehailDriver for IDMerged = NAN because there are no agent information in these rows \n",
    "eventsSF = eventsSF[~((eventsSF.driver.str.contains(\"Agent\", na=False))&(eventsSF.IDMerged.isna()))].reset_index(drop=True)"
   ]
  },
  {
   "cell_type": "code",
   "execution_count": 20,
   "id": "60db4199",
   "metadata": {
    "scrolled": true
   },
   "outputs": [
    {
     "data": {
      "text/plain": [
       "(6329, 63)"
      ]
     },
     "execution_count": 20,
     "metadata": {},
     "output_type": "execute_result"
    }
   ],
   "source": [
    "IDnan = eventsSF[eventsSF['IDMerged'].isna()]\n",
    "IDnan.shape"
   ]
  },
  {
   "cell_type": "code",
   "execution_count": 21,
   "id": "994ab676",
   "metadata": {},
   "outputs": [
    {
     "name": "stdout",
     "output_type": "stream",
     "text": [
      "Wall time: 4min 21s\n"
     ]
    }
   ],
   "source": [
    "%%time\n",
    "# Filling NANs in ID related to charging events\n",
    "eventsSF[\"chargeID\"] = eventsSF.groupby('vehicle')['IDMerged'].transform(lambda x: x.ffill().bfill())"
   ]
  },
  {
   "cell_type": "code",
   "execution_count": 22,
   "id": "0165322c",
   "metadata": {},
   "outputs": [],
   "source": [
    "# Combining chargeID with IDMerged so no NANs anymore\n",
    "eventsSF['IDMerged'] = eventsSF['chargeID'].combine_first(eventsSF['IDMerged'])"
   ]
  },
  {
   "cell_type": "code",
   "execution_count": 23,
   "id": "dff0f0d9",
   "metadata": {},
   "outputs": [],
   "source": [
    "# Dropping unused columns\n",
    "eventsSF = eventsSF.drop(['chargeID'], axis=1) "
   ]
  },
  {
   "cell_type": "code",
   "execution_count": 24,
   "id": "b819d698",
   "metadata": {},
   "outputs": [
    {
     "name": "stdout",
     "output_type": "stream",
     "text": [
      "['hov2_teleportation', 'hov3_teleportation', 'car', nan, 'bike', 'walk', 'car_hov2', 'car_hov3', 'walk_transit', 'drive_transit', 'ride_hail', 'ride_hail_pooled', 'ride_hail_transit', 'bike_transit']\n"
     ]
    }
   ],
   "source": [
    "print(eventsSF.currentTourMode.unique().tolist())"
   ]
  },
  {
   "cell_type": "code",
   "execution_count": 25,
   "id": "538ab648",
   "metadata": {},
   "outputs": [
    {
     "name": "stdout",
     "output_type": "stream",
     "text": [
      "['hov2_teleportation', 'hov3_teleportation', 'car', nan, 'bike', 'walk', 'car_hov2', 'car_hov3', 'walk_transit', 'drive_transit', 'ride_hail', 'ride_hail_pooled', 'ride_hail_transit', 'bus', 'tram', 'subway', 'cable_car', 'rail', 'bike_transit']\n"
     ]
    }
   ],
   "source": [
    "print(eventsSF.modeBEAM.unique().tolist())"
   ]
  },
  {
   "cell_type": "code",
   "execution_count": 26,
   "id": "3d13d123",
   "metadata": {},
   "outputs": [
    {
     "name": "stdout",
     "output_type": "stream",
     "text": [
      "['ModeChoice', 'actend', 'departure', 'PersonEntersVehicle', 'TeleportationEvent', 'arrival', 'actstart', 'PathTraversal', 'LeavingParkingEvent', 'PersonLeavesVehicle', 'ParkingEvent', 'PersonCost', 'ReserveRideHail', 'Replanning', 'ChargingPlugInEvent', 'RefuelSessionEvent', 'ChargingPlugOutEvent']\n"
     ]
    }
   ],
   "source": [
    "print(eventsSF.type.unique().tolist())"
   ]
  },
  {
   "cell_type": "code",
   "execution_count": 27,
   "id": "ad36c06d",
   "metadata": {},
   "outputs": [],
   "source": [
    "# Change the IDMerged column type to numeric\n",
    "eventsSF[\"IDMerged\"] = pd.to_numeric(eventsSF.IDMerged)"
   ]
  },
  {
   "cell_type": "code",
   "execution_count": 28,
   "id": "983217d8",
   "metadata": {},
   "outputs": [],
   "source": [
    "# Sort by IDMerged and time columns\n",
    "eventsSF = eventsSF.sort_values(['IDMerged','time']).reset_index(drop=True)"
   ]
  },
  {
   "cell_type": "code",
   "execution_count": 29,
   "id": "2db653ae",
   "metadata": {},
   "outputs": [],
   "source": [
    "# We assume that the number of passengers is 1 for ride_hail_pooled\n",
    "eventsSF['modeBEAM_rh'] = np.where(eventsSF.driver.str.contains(\"rideHailAgent\", na=False), 'ride_hail', eventsSF['modeBEAM'])"
   ]
  },
  {
   "cell_type": "code",
   "execution_count": 30,
   "id": "bd4c6384",
   "metadata": {},
   "outputs": [],
   "source": [
    "# Adding teleportation mode to the type = TeleportationEvent row \n",
    "eventsSF[\"modeBEAM_rh\"] = np.where(eventsSF['type']=='TeleportationEvent', eventsSF.modeBEAM_rh.fillna(method='ffill'), eventsSF[\"modeBEAM_rh\"])"
   ]
  },
  {
   "cell_type": "code",
   "execution_count": null,
   "id": "2f102f67",
   "metadata": {},
   "outputs": [],
   "source": []
  },
  {
   "cell_type": "code",
   "execution_count": null,
   "id": "330e34e7",
   "metadata": {},
   "outputs": [],
   "source": []
  },
  {
   "cell_type": "code",
   "execution_count": null,
   "id": "271194ee",
   "metadata": {},
   "outputs": [],
   "source": []
  },
  {
   "cell_type": "code",
   "execution_count": null,
   "id": "63d01154",
   "metadata": {},
   "outputs": [],
   "source": []
  },
  {
   "cell_type": "code",
   "execution_count": 150,
   "id": "a8e86f03",
   "metadata": {},
   "outputs": [],
   "source": [
    "#eventsSF[eventsSF['modeBEAM'] == \"ride_hail_pooled\"].head()"
   ]
  },
  {
   "cell_type": "code",
   "execution_count": 68,
   "id": "e28f1e67",
   "metadata": {},
   "outputs": [],
   "source": [
    "sample_car = eventsSF[eventsSF['IDMerged'] == 3]"
   ]
  },
  {
   "cell_type": "code",
   "execution_count": 69,
   "id": "dce834ec",
   "metadata": {},
   "outputs": [],
   "source": [
    "sample_car.to_csv('C:/Shared-Work/Data/CleanData/sample_car.csv', index = False)"
   ]
  },
  {
   "cell_type": "code",
   "execution_count": null,
   "id": "e45ff5b5",
   "metadata": {},
   "outputs": [],
   "source": [
    "# eventsSF groupby(\"IDMerged_num\") check if \"length\"  in row eventsSF['type']=='ModeChoice' == sum(length of eventsSF['type']=="
   ]
  },
  {
   "cell_type": "markdown",
   "id": "fe8a8b31",
   "metadata": {},
   "source": [
    "#### Adding new columns"
   ]
  },
  {
   "cell_type": "code",
   "execution_count": 31,
   "id": "ff786a3b",
   "metadata": {},
   "outputs": [],
   "source": [
    "eventsSF['actEndTime'] = np.where(eventsSF['type']=='actend'\n",
    "                     , eventsSF['time'], np.nan)"
   ]
  },
  {
   "cell_type": "code",
   "execution_count": 32,
   "id": "57f2a46c",
   "metadata": {},
   "outputs": [],
   "source": [
    "eventsSF['actStartTime'] = np.where(eventsSF['type']=='actstart'\n",
    "                     , eventsSF['time'], np.nan)    "
   ]
  },
  {
   "cell_type": "code",
   "execution_count": 33,
   "id": "0f47b8ee",
   "metadata": {},
   "outputs": [],
   "source": [
    "eventsSF['travelTime'] = np.where((eventsSF['type']=='PathTraversal')|(eventsSF['type']=='TeleportationEvent')\n",
    "                     , eventsSF['arrivalTime'] - eventsSF['departureTime'], np.nan)"
   ]
  },
  {
   "cell_type": "code",
   "execution_count": 34,
   "id": "7e427fd1",
   "metadata": {},
   "outputs": [],
   "source": [
    "eventsSF['travelDistance'] = np.where((eventsSF['type']=='PathTraversal')|((eventsSF['type']=='ModeChoice')&((eventsSF['modeBEAM']=='hov2_teleportation')|(eventsSF['modeBEAM']=='hov3_teleportation'))), eventsSF['length'], np.nan)"
   ]
  },
  {
   "cell_type": "code",
   "execution_count": 35,
   "id": "6403c92a",
   "metadata": {},
   "outputs": [],
   "source": [
    "eventsSF['duration_walking'] = np.where(eventsSF['modeBEAM']=='walk', eventsSF['travelTime'], np.nan)"
   ]
  },
  {
   "cell_type": "code",
   "execution_count": 48,
   "id": "9edb77aa",
   "metadata": {},
   "outputs": [],
   "source": [
    "eventsSF['distance_walking'] = np.where(eventsSF['modeBEAM']=='walk', eventsSF['travelDistance'], np.nan)"
   ]
  },
  {
   "cell_type": "code",
   "execution_count": 36,
   "id": "d4a0af57",
   "metadata": {},
   "outputs": [],
   "source": [
    "eventsSF['duration_on_bike'] = np.where(eventsSF['modeBEAM']=='bike', eventsSF['travelTime'], np.nan)"
   ]
  },
  {
   "cell_type": "code",
   "execution_count": 53,
   "id": "148a3dbe",
   "metadata": {},
   "outputs": [],
   "source": [
    "eventsSF['distance_bike'] = np.where(eventsSF['modeBEAM']=='bike', eventsSF['travelDistance'], np.nan)"
   ]
  },
  {
   "cell_type": "code",
   "execution_count": 37,
   "id": "3624b92a",
   "metadata": {},
   "outputs": [],
   "source": [
    "eventsSF['duration_in_ridehail'] = np.where(eventsSF['modeBEAM_rh']=='ride_hail', eventsSF['travelTime'], np.nan)"
   ]
  },
  {
   "cell_type": "code",
   "execution_count": 50,
   "id": "90d4c42d",
   "metadata": {},
   "outputs": [],
   "source": [
    "eventsSF['distance_ridehail'] = np.where(eventsSF['modeBEAM_rh']=='ride_hail', eventsSF['travelDistance'], np.nan)"
   ]
  },
  {
   "cell_type": "code",
   "execution_count": 38,
   "id": "4bb825fb",
   "metadata": {},
   "outputs": [],
   "source": [
    "eventsSF['duration_in_privateCar'] = np.where((eventsSF['modeBEAM_rh']=='car')|(eventsSF['modeBEAM_rh']=='car_hov3')|(eventsSF['modeBEAM_rh']=='car_hov2')|\n",
    "                                              (eventsSF['modeBEAM_rh']=='hov2_teleportation')|(eventsSF['modeBEAM_rh']=='hov3_teleportation') \n",
    "                                              , eventsSF['travelTime'], np.nan)"
   ]
  },
  {
   "cell_type": "code",
   "execution_count": 51,
   "id": "3473c8da",
   "metadata": {},
   "outputs": [],
   "source": [
    "eventsSF['distance_privateCar'] = np.where((eventsSF['modeBEAM_rh']=='car')|(eventsSF['modeBEAM_rh']=='car_hov3')|(eventsSF['modeBEAM_rh']=='car_hov2')|\n",
    "                                              (eventsSF['modeBEAM_rh']=='hov2_teleportation')|(eventsSF['modeBEAM_rh']=='hov3_teleportation'), eventsSF['travelDistance'], np.nan)"
   ]
  },
  {
   "cell_type": "code",
   "execution_count": 39,
   "id": "0b735038",
   "metadata": {},
   "outputs": [],
   "source": [
    "eventsSF['duration_in_transit'] = np.where((eventsSF['modeBEAM']=='bike_transit')|(eventsSF['modeBEAM']=='drive_transit')|\n",
    "                                           (eventsSF['modeBEAM']=='walk_transit')|(eventsSF['modeBEAM']=='bus')|\n",
    "                                           (eventsSF['modeBEAM']=='tram')|(eventsSF['modeBEAM']=='subway')|\n",
    "                                           (eventsSF['modeBEAM']=='rail')|(eventsSF['modeBEAM']=='cable_car')|\n",
    "                                           (eventsSF['modeBEAM']=='ride_hail_transit'), eventsSF['travelTime'], np.nan)"
   ]
  },
  {
   "cell_type": "code",
   "execution_count": 52,
   "id": "92c358e1",
   "metadata": {},
   "outputs": [],
   "source": [
    "eventsSF['distance_transit'] = np.where((eventsSF['modeBEAM']=='bike_transit')|(eventsSF['modeBEAM']=='drive_transit')|\n",
    "                                        (eventsSF['modeBEAM']=='walk_transit')|(eventsSF['modeBEAM']=='bus')|\n",
    "                                        (eventsSF['modeBEAM']=='tram')|(eventsSF['modeBEAM']=='subway')|\n",
    "                                        (eventsSF['modeBEAM']=='rail')|(eventsSF['modeBEAM']=='cable_car')|\n",
    "                                        (eventsSF['modeBEAM']=='ride_hail_transit'), eventsSF['travelDistance'], np.nan)"
   ]
  },
  {
   "cell_type": "code",
   "execution_count": 40,
   "id": "0b4e8ccd",
   "metadata": {},
   "outputs": [],
   "source": [
    "# Removing the extra tour index happening after replanning events\n",
    "eventsSF['replanningTime'] = np.where(eventsSF['type'] == 'Replanning', eventsSF['time'], np.nan)\n",
    "eventsSF['replanningTime'] = eventsSF['replanningTime'].shift(+1)\n",
    "eventsSF['tourIndex_fixed'] = np.where((eventsSF['type'] == 'ModeChoice')&(eventsSF['replanningTime'].notna()), np.nan, eventsSF['tourIndex'])"
   ]
  },
  {
   "cell_type": "code",
   "execution_count": 70,
   "id": "5beb42b2",
   "metadata": {},
   "outputs": [],
   "source": [
    "eventsSF['fuelFood'] = np.where((eventsSF['type']=='PathTraversal')&(eventsSF['primaryFuelType']=='Food'), \n",
    "                                eventsSF['primaryFuel'], np.nan)"
   ]
  },
  {
   "cell_type": "code",
   "execution_count": 76,
   "id": "4104324f",
   "metadata": {},
   "outputs": [],
   "source": [
    "eventsSF['fuelElectricity'] = np.where((eventsSF['type']=='PathTraversal')&(eventsSF['primaryFuelType']=='Electricity'), \n",
    "                                eventsSF['primaryFuel'], np.nan)"
   ]
  },
  {
   "cell_type": "markdown",
   "id": "e39e6e0e",
   "metadata": {},
   "source": [
    "######"
   ]
  },
  {
   "cell_type": "code",
   "execution_count": null,
   "id": "5e752231",
   "metadata": {},
   "outputs": [],
   "source": [
    "eventsSF['fuel_not_Food'] = np.where((eventsSF['type']=='PathTraversal')&(eventsSF['primaryFuelType']=='Food'), \n",
    "                                eventsSF['primaryFuel'], np.nan)"
   ]
  },
  {
   "cell_type": "code",
   "execution_count": null,
   "id": "bfc1273e",
   "metadata": {},
   "outputs": [],
   "source": [
    "eventsSF['fuelGasoline'] = np.where((eventsSF['type']=='PathTraversal')&(eventsSF['primaryFuelType']=='Gasoline'), \n",
    "                          eventsSF['primaryFuel'], np.nan)"
   ]
  },
  {
   "cell_type": "code",
   "execution_count": null,
   "id": "1bb135e2",
   "metadata": {},
   "outputs": [],
   "source": [
    "eventsSF['fuelDiesel'] = np.where((eventsSF['type']=='PathTraversal')&(eventsSF['primaryFuelType']=='Food'), \n",
    "                                eventsSF['primaryFuel'], np.nan)"
   ]
  },
  {
   "cell_type": "code",
   "execution_count": null,
   "id": "52f9f171",
   "metadata": {},
   "outputs": [],
   "source": [
    "eventsSF['fuelBiodiesel'] = np.where((eventsSF['type']=='PathTraversal')&(eventsSF['primaryFuelType']=='Food'), \n",
    "                                eventsSF['primaryFuel'], np.nan)"
   ]
  },
  {
   "cell_type": "markdown",
   "id": "4090bfbb",
   "metadata": {},
   "source": [
    "#### Trip Index"
   ]
  },
  {
   "cell_type": "code",
   "execution_count": 41,
   "id": "70b5cff0",
   "metadata": {},
   "outputs": [],
   "source": [
    "eventsSF[\"tripIndex\"] = eventsSF.groupby(\"IDMerged\")[\"tourIndex_fixed\"].rank(method=\"first\", ascending=True)\n",
    "eventsSF[\"tripIndex\"] = eventsSF.tripIndex.fillna(method='ffill')"
   ]
  },
  {
   "cell_type": "code",
   "execution_count": 42,
   "id": "ee0426c1",
   "metadata": {},
   "outputs": [],
   "source": [
    "eventsSF['actEndType'] = np.where(eventsSF['type']=='actend', eventsSF['actType'], \"\")"
   ]
  },
  {
   "cell_type": "code",
   "execution_count": 43,
   "id": "f804b557",
   "metadata": {},
   "outputs": [],
   "source": [
    "eventsSF['actStartType'] = np.where(eventsSF['type']=='actstart', eventsSF['actType'], \"\")"
   ]
  },
  {
   "cell_type": "code",
   "execution_count": 45,
   "id": "01742413",
   "metadata": {},
   "outputs": [],
   "source": []
  },
  {
   "cell_type": "code",
   "execution_count": null,
   "id": "12ac9531",
   "metadata": {},
   "outputs": [],
   "source": [
    "eventsSF[eventsSF['IDMerged']==181]"
   ]
  },
  {
   "cell_type": "code",
   "execution_count": null,
   "id": "bd021670",
   "metadata": {},
   "outputs": [],
   "source": []
  },
  {
   "cell_type": "code",
   "execution_count": 77,
   "id": "4a679675",
   "metadata": {},
   "outputs": [],
   "source": [
    "Person_Trip_eventsSF = pd.pivot_table(\n",
    "   eventsSF,\n",
    "   index=['IDMerged','tripIndex'],\n",
    "   aggfunc={'actStartTime': np.sum, 'actEndTime': np.sum, 'travelTime': np.sum, 'netCost': np.sum, 'actStartType': np.sum, 'actEndType': np.sum, 'duration_walking': np.sum,\n",
    "            'duration_in_privateCar': np.sum, 'duration_on_bike': np.sum, 'duration_in_ridehail': np.sum, 'travelDistance': np.sum,\n",
    "            'duration_in_transit': np.sum, 'distance_walking': np.sum, 'distance_bike': np.sum, 'distance_ridehail': np.sum, \n",
    "            'distance_privateCar': np.sum, 'distance_transit': np.sum, 'legVehicleIds': np.sum, 'fuelFood': np.sum,\n",
    "            'fuelElectricity': np.sum}).reset_index()"
   ]
  },
  {
   "cell_type": "code",
   "execution_count": 78,
   "id": "dc3ac897",
   "metadata": {},
   "outputs": [],
   "source": [
    "Person_Trip_eventsSF['door_to_door_time'] = Person_Trip_eventsSF['actStartTime'] - Person_Trip_eventsSF['actEndTime'] "
   ]
  },
  {
   "cell_type": "code",
   "execution_count": 79,
   "id": "03bd08b4",
   "metadata": {},
   "outputs": [],
   "source": [
    "Person_Trip_eventsSF['waitTime'] = Person_Trip_eventsSF['door_to_door_time'] - Person_Trip_eventsSF['travelTime'] "
   ]
  },
  {
   "cell_type": "code",
   "execution_count": 80,
   "id": "28560b3b",
   "metadata": {},
   "outputs": [],
   "source": [
    "Person_Trip_eventsSF['actPurpose'] = Person_Trip_eventsSF['actEndType'].astype(str) + \"_to_\" + Person_Trip_eventsSF['actStartType'].astype(str)"
   ]
  },
  {
   "cell_type": "code",
   "execution_count": 81,
   "id": "d83a2f41",
   "metadata": {},
   "outputs": [],
   "source": [
    "Person_Trip_eventsSF.head(500).to_csv('C:/Shared-Work/Data/CleanData/pivot_check.csv', index = False)   "
   ]
  },
  {
   "cell_type": "code",
   "execution_count": null,
   "id": "be82b809",
   "metadata": {},
   "outputs": [],
   "source": []
  },
  {
   "cell_type": "code",
   "execution_count": 108,
   "id": "ab8aaa10",
   "metadata": {},
   "outputs": [],
   "source": [
    "sample_bike2 = eventsSF[eventsSF['IDMerged'] == \"3550481\"]"
   ]
  },
  {
   "cell_type": "code",
   "execution_count": 116,
   "id": "649260ae",
   "metadata": {},
   "outputs": [],
   "source": [
    "sample_bike2 = eventsSF[(eventsSF['primaryFuelType'] == \"Gasoline\") & (eventsSF['modeBEAM'] == \"bike\") ]"
   ]
  },
  {
   "cell_type": "code",
   "execution_count": 120,
   "id": "30b7b627",
   "metadata": {},
   "outputs": [
    {
     "data": {
      "text/html": [
       "<div>\n",
       "<style scoped>\n",
       "    .dataframe tbody tr th:only-of-type {\n",
       "        vertical-align: middle;\n",
       "    }\n",
       "\n",
       "    .dataframe tbody tr th {\n",
       "        vertical-align: top;\n",
       "    }\n",
       "\n",
       "    .dataframe thead th {\n",
       "        text-align: right;\n",
       "    }\n",
       "</style>\n",
       "<table border=\"1\" class=\"dataframe\">\n",
       "  <thead>\n",
       "    <tr style=\"text-align: right;\">\n",
       "      <th></th>\n",
       "      <th>IDMerged</th>\n",
       "      <th>person</th>\n",
       "      <th>driver</th>\n",
       "      <th>riders</th>\n",
       "      <th>vehicleType</th>\n",
       "      <th>price</th>\n",
       "      <th>shiftStatus</th>\n",
       "      <th>parkingTaz</th>\n",
       "      <th>chargingPointType</th>\n",
       "      <th>pricingModel</th>\n",
       "      <th>parkingType</th>\n",
       "      <th>locationY</th>\n",
       "      <th>locationX</th>\n",
       "      <th>parkingZoneId</th>\n",
       "      <th>fuel</th>\n",
       "      <th>duration</th>\n",
       "      <th>vehicle</th>\n",
       "      <th>actType</th>\n",
       "      <th>time</th>\n",
       "      <th>type</th>\n",
       "      <th>link</th>\n",
       "      <th>legMode</th>\n",
       "      <th>primaryFuelLevel</th>\n",
       "      <th>secondaryFuelLevel</th>\n",
       "      <th>facility</th>\n",
       "      <th>score</th>\n",
       "      <th>modeBEAM</th>\n",
       "      <th>currentTourMode</th>\n",
       "      <th>expectedMaximumUtility</th>\n",
       "      <th>availableAlternatives</th>\n",
       "      <th>location</th>\n",
       "      <th>personalVehicleAvailable</th>\n",
       "      <th>length</th>\n",
       "      <th>tourIndex</th>\n",
       "      <th>legModes</th>\n",
       "      <th>legVehicleIds</th>\n",
       "      <th>currentActivity</th>\n",
       "      <th>nextActivity</th>\n",
       "      <th>reason</th>\n",
       "      <th>links</th>\n",
       "      <th>numPassengers</th>\n",
       "      <th>primaryFuel</th>\n",
       "      <th>toStopIndex</th>\n",
       "      <th>fromStopIndex</th>\n",
       "      <th>seatingCapacity</th>\n",
       "      <th>tollPaid</th>\n",
       "      <th>endY</th>\n",
       "      <th>endX</th>\n",
       "      <th>startY</th>\n",
       "      <th>startX</th>\n",
       "      <th>capacity</th>\n",
       "      <th>arrivalTime</th>\n",
       "      <th>departureTime</th>\n",
       "      <th>linkTravelTime</th>\n",
       "      <th>secondaryFuel</th>\n",
       "      <th>secondaryFuelType</th>\n",
       "      <th>primaryFuelType</th>\n",
       "      <th>incentive</th>\n",
       "      <th>tollCost</th>\n",
       "      <th>netCost</th>\n",
       "      <th>departTime</th>\n",
       "      <th>cost</th>\n",
       "    </tr>\n",
       "  </thead>\n",
       "  <tbody>\n",
       "    <tr>\n",
       "      <th>248</th>\n",
       "      <td>468282</td>\n",
       "      <td>NaN</td>\n",
       "      <td>468282</td>\n",
       "      <td>NaN</td>\n",
       "      <td>BIKE-DEFAULT</td>\n",
       "      <td>NaN</td>\n",
       "      <td>NaN</td>\n",
       "      <td>NaN</td>\n",
       "      <td>NaN</td>\n",
       "      <td>NaN</td>\n",
       "      <td>NaN</td>\n",
       "      <td>NaN</td>\n",
       "      <td>NaN</td>\n",
       "      <td>NaN</td>\n",
       "      <td>NaN</td>\n",
       "      <td>NaN</td>\n",
       "      <td>49567</td>\n",
       "      <td>NaN</td>\n",
       "      <td>18146.0</td>\n",
       "      <td>PathTraversal</td>\n",
       "      <td>NaN</td>\n",
       "      <td>NaN</td>\n",
       "      <td>2.203726e+06</td>\n",
       "      <td>0.0</td>\n",
       "      <td>NaN</td>\n",
       "      <td>NaN</td>\n",
       "      <td>bike</td>\n",
       "      <td>bike</td>\n",
       "      <td>NaN</td>\n",
       "      <td>NaN</td>\n",
       "      <td>NaN</td>\n",
       "      <td>NaN</td>\n",
       "      <td>591.851</td>\n",
       "      <td>NaN</td>\n",
       "      <td>NaN</td>\n",
       "      <td>NaN</td>\n",
       "      <td>NaN</td>\n",
       "      <td>NaN</td>\n",
       "      <td>NaN</td>\n",
       "      <td>71796,71799,29023,13743,13742</td>\n",
       "      <td>0.0</td>\n",
       "      <td>6273.6206</td>\n",
       "      <td>NaN</td>\n",
       "      <td>NaN</td>\n",
       "      <td>2.0</td>\n",
       "      <td>0.0</td>\n",
       "      <td>37.337513</td>\n",
       "      <td>-122.057953</td>\n",
       "      <td>37.337514</td>\n",
       "      <td>-122.060283</td>\n",
       "      <td>2.0</td>\n",
       "      <td>18146.0</td>\n",
       "      <td>18028.0</td>\n",
       "      <td>27.254,13.274,0.638,52.229,52.229</td>\n",
       "      <td>0.0</td>\n",
       "      <td>None</td>\n",
       "      <td>Gasoline</td>\n",
       "      <td>NaN</td>\n",
       "      <td>NaN</td>\n",
       "      <td>NaN</td>\n",
       "      <td>NaN</td>\n",
       "      <td>NaN</td>\n",
       "    </tr>\n",
       "    <tr>\n",
       "      <th>316</th>\n",
       "      <td>2925369</td>\n",
       "      <td>NaN</td>\n",
       "      <td>2925369</td>\n",
       "      <td>NaN</td>\n",
       "      <td>BIKE-DEFAULT</td>\n",
       "      <td>NaN</td>\n",
       "      <td>NaN</td>\n",
       "      <td>NaN</td>\n",
       "      <td>NaN</td>\n",
       "      <td>NaN</td>\n",
       "      <td>NaN</td>\n",
       "      <td>NaN</td>\n",
       "      <td>NaN</td>\n",
       "      <td>NaN</td>\n",
       "      <td>NaN</td>\n",
       "      <td>NaN</td>\n",
       "      <td>734823</td>\n",
       "      <td>NaN</td>\n",
       "      <td>18095.0</td>\n",
       "      <td>PathTraversal</td>\n",
       "      <td>NaN</td>\n",
       "      <td>NaN</td>\n",
       "      <td>2.205912e+06</td>\n",
       "      <td>0.0</td>\n",
       "      <td>NaN</td>\n",
       "      <td>NaN</td>\n",
       "      <td>bike</td>\n",
       "      <td>bike</td>\n",
       "      <td>NaN</td>\n",
       "      <td>NaN</td>\n",
       "      <td>NaN</td>\n",
       "      <td>NaN</td>\n",
       "      <td>385.622</td>\n",
       "      <td>NaN</td>\n",
       "      <td>NaN</td>\n",
       "      <td>NaN</td>\n",
       "      <td>NaN</td>\n",
       "      <td>NaN</td>\n",
       "      <td>NaN</td>\n",
       "      <td>10188,10189</td>\n",
       "      <td>0.0</td>\n",
       "      <td>4087.5932</td>\n",
       "      <td>NaN</td>\n",
       "      <td>NaN</td>\n",
       "      <td>2.0</td>\n",
       "      <td>0.0</td>\n",
       "      <td>37.967986</td>\n",
       "      <td>-121.785963</td>\n",
       "      <td>37.967986</td>\n",
       "      <td>-121.785963</td>\n",
       "      <td>2.0</td>\n",
       "      <td>18095.0</td>\n",
       "      <td>18018.0</td>\n",
       "      <td>77.124,77.124</td>\n",
       "      <td>0.0</td>\n",
       "      <td>None</td>\n",
       "      <td>Gasoline</td>\n",
       "      <td>NaN</td>\n",
       "      <td>NaN</td>\n",
       "      <td>NaN</td>\n",
       "      <td>NaN</td>\n",
       "      <td>NaN</td>\n",
       "    </tr>\n",
       "    <tr>\n",
       "      <th>16062</th>\n",
       "      <td>2643355</td>\n",
       "      <td>NaN</td>\n",
       "      <td>2643355</td>\n",
       "      <td>NaN</td>\n",
       "      <td>BIKE-DEFAULT</td>\n",
       "      <td>NaN</td>\n",
       "      <td>NaN</td>\n",
       "      <td>NaN</td>\n",
       "      <td>NaN</td>\n",
       "      <td>NaN</td>\n",
       "      <td>NaN</td>\n",
       "      <td>NaN</td>\n",
       "      <td>NaN</td>\n",
       "      <td>NaN</td>\n",
       "      <td>NaN</td>\n",
       "      <td>NaN</td>\n",
       "      <td>202653</td>\n",
       "      <td>NaN</td>\n",
       "      <td>18250.0</td>\n",
       "      <td>PathTraversal</td>\n",
       "      <td>NaN</td>\n",
       "      <td>NaN</td>\n",
       "      <td>2.197108e+06</td>\n",
       "      <td>0.0</td>\n",
       "      <td>NaN</td>\n",
       "      <td>NaN</td>\n",
       "      <td>bike</td>\n",
       "      <td>bike</td>\n",
       "      <td>NaN</td>\n",
       "      <td>NaN</td>\n",
       "      <td>NaN</td>\n",
       "      <td>NaN</td>\n",
       "      <td>1216.258</td>\n",
       "      <td>NaN</td>\n",
       "      <td>NaN</td>\n",
       "      <td>NaN</td>\n",
       "      <td>NaN</td>\n",
       "      <td>NaN</td>\n",
       "      <td>NaN</td>\n",
       "      <td>68460,82455,69029,69022</td>\n",
       "      <td>0.0</td>\n",
       "      <td>12892.3348</td>\n",
       "      <td>NaN</td>\n",
       "      <td>NaN</td>\n",
       "      <td>2.0</td>\n",
       "      <td>0.0</td>\n",
       "      <td>37.839078</td>\n",
       "      <td>-122.275288</td>\n",
       "      <td>37.828203</td>\n",
       "      <td>-122.275229</td>\n",
       "      <td>2.0</td>\n",
       "      <td>18250.0</td>\n",
       "      <td>18007.0</td>\n",
       "      <td>67.23,7.505,56.199,179.548</td>\n",
       "      <td>0.0</td>\n",
       "      <td>None</td>\n",
       "      <td>Gasoline</td>\n",
       "      <td>NaN</td>\n",
       "      <td>NaN</td>\n",
       "      <td>NaN</td>\n",
       "      <td>NaN</td>\n",
       "      <td>NaN</td>\n",
       "    </tr>\n",
       "    <tr>\n",
       "      <th>18520</th>\n",
       "      <td>2008662</td>\n",
       "      <td>NaN</td>\n",
       "      <td>2008662</td>\n",
       "      <td>NaN</td>\n",
       "      <td>BIKE-DEFAULT</td>\n",
       "      <td>NaN</td>\n",
       "      <td>NaN</td>\n",
       "      <td>NaN</td>\n",
       "      <td>NaN</td>\n",
       "      <td>NaN</td>\n",
       "      <td>NaN</td>\n",
       "      <td>NaN</td>\n",
       "      <td>NaN</td>\n",
       "      <td>NaN</td>\n",
       "      <td>NaN</td>\n",
       "      <td>NaN</td>\n",
       "      <td>737344</td>\n",
       "      <td>NaN</td>\n",
       "      <td>18291.0</td>\n",
       "      <td>PathTraversal</td>\n",
       "      <td>NaN</td>\n",
       "      <td>NaN</td>\n",
       "      <td>2.209720e+06</td>\n",
       "      <td>0.0</td>\n",
       "      <td>NaN</td>\n",
       "      <td>NaN</td>\n",
       "      <td>bike</td>\n",
       "      <td>bike</td>\n",
       "      <td>NaN</td>\n",
       "      <td>NaN</td>\n",
       "      <td>NaN</td>\n",
       "      <td>NaN</td>\n",
       "      <td>26.422</td>\n",
       "      <td>NaN</td>\n",
       "      <td>NaN</td>\n",
       "      <td>NaN</td>\n",
       "      <td>NaN</td>\n",
       "      <td>NaN</td>\n",
       "      <td>NaN</td>\n",
       "      <td>162585,162584</td>\n",
       "      <td>0.0</td>\n",
       "      <td>280.0732</td>\n",
       "      <td>NaN</td>\n",
       "      <td>NaN</td>\n",
       "      <td>2.0</td>\n",
       "      <td>0.0</td>\n",
       "      <td>37.473750</td>\n",
       "      <td>-122.232240</td>\n",
       "      <td>37.473750</td>\n",
       "      <td>-122.232240</td>\n",
       "      <td>2.0</td>\n",
       "      <td>18291.0</td>\n",
       "      <td>18286.0</td>\n",
       "      <td>5.284,5.284</td>\n",
       "      <td>0.0</td>\n",
       "      <td>None</td>\n",
       "      <td>Gasoline</td>\n",
       "      <td>NaN</td>\n",
       "      <td>NaN</td>\n",
       "      <td>NaN</td>\n",
       "      <td>NaN</td>\n",
       "      <td>NaN</td>\n",
       "    </tr>\n",
       "    <tr>\n",
       "      <th>26940</th>\n",
       "      <td>3707112</td>\n",
       "      <td>NaN</td>\n",
       "      <td>3707112</td>\n",
       "      <td>NaN</td>\n",
       "      <td>BIKE-DEFAULT</td>\n",
       "      <td>NaN</td>\n",
       "      <td>NaN</td>\n",
       "      <td>NaN</td>\n",
       "      <td>NaN</td>\n",
       "      <td>NaN</td>\n",
       "      <td>NaN</td>\n",
       "      <td>NaN</td>\n",
       "      <td>NaN</td>\n",
       "      <td>NaN</td>\n",
       "      <td>NaN</td>\n",
       "      <td>NaN</td>\n",
       "      <td>52636</td>\n",
       "      <td>NaN</td>\n",
       "      <td>18416.0</td>\n",
       "      <td>PathTraversal</td>\n",
       "      <td>NaN</td>\n",
       "      <td>NaN</td>\n",
       "      <td>2.206459e+06</td>\n",
       "      <td>0.0</td>\n",
       "      <td>NaN</td>\n",
       "      <td>NaN</td>\n",
       "      <td>bike</td>\n",
       "      <td>bike</td>\n",
       "      <td>NaN</td>\n",
       "      <td>NaN</td>\n",
       "      <td>NaN</td>\n",
       "      <td>NaN</td>\n",
       "      <td>334.028</td>\n",
       "      <td>NaN</td>\n",
       "      <td>NaN</td>\n",
       "      <td>NaN</td>\n",
       "      <td>NaN</td>\n",
       "      <td>NaN</td>\n",
       "      <td>NaN</td>\n",
       "      <td>35377,35376</td>\n",
       "      <td>0.0</td>\n",
       "      <td>3540.6968</td>\n",
       "      <td>NaN</td>\n",
       "      <td>NaN</td>\n",
       "      <td>2.0</td>\n",
       "      <td>0.0</td>\n",
       "      <td>37.502374</td>\n",
       "      <td>-122.270943</td>\n",
       "      <td>37.502374</td>\n",
       "      <td>-122.270943</td>\n",
       "      <td>2.0</td>\n",
       "      <td>18416.0</td>\n",
       "      <td>18349.0</td>\n",
       "      <td>66.806,66.806</td>\n",
       "      <td>0.0</td>\n",
       "      <td>None</td>\n",
       "      <td>Gasoline</td>\n",
       "      <td>NaN</td>\n",
       "      <td>NaN</td>\n",
       "      <td>NaN</td>\n",
       "      <td>NaN</td>\n",
       "      <td>NaN</td>\n",
       "    </tr>\n",
       "  </tbody>\n",
       "</table>\n",
       "</div>"
      ],
      "text/plain": [
       "      IDMerged person   driver riders   vehicleType  price shiftStatus  \\\n",
       "248     468282    NaN   468282    NaN  BIKE-DEFAULT    NaN         NaN   \n",
       "316    2925369    NaN  2925369    NaN  BIKE-DEFAULT    NaN         NaN   \n",
       "16062  2643355    NaN  2643355    NaN  BIKE-DEFAULT    NaN         NaN   \n",
       "18520  2008662    NaN  2008662    NaN  BIKE-DEFAULT    NaN         NaN   \n",
       "26940  3707112    NaN  3707112    NaN  BIKE-DEFAULT    NaN         NaN   \n",
       "\n",
       "      parkingTaz chargingPointType pricingModel parkingType  locationY  \\\n",
       "248          NaN               NaN          NaN         NaN        NaN   \n",
       "316          NaN               NaN          NaN         NaN        NaN   \n",
       "16062        NaN               NaN          NaN         NaN        NaN   \n",
       "18520        NaN               NaN          NaN         NaN        NaN   \n",
       "26940        NaN               NaN          NaN         NaN        NaN   \n",
       "\n",
       "       locationX parkingZoneId  fuel  duration vehicle actType     time  \\\n",
       "248          NaN           NaN   NaN       NaN   49567     NaN  18146.0   \n",
       "316          NaN           NaN   NaN       NaN  734823     NaN  18095.0   \n",
       "16062        NaN           NaN   NaN       NaN  202653     NaN  18250.0   \n",
       "18520        NaN           NaN   NaN       NaN  737344     NaN  18291.0   \n",
       "26940        NaN           NaN   NaN       NaN   52636     NaN  18416.0   \n",
       "\n",
       "                type  link legMode  primaryFuelLevel  secondaryFuelLevel  \\\n",
       "248    PathTraversal   NaN     NaN      2.203726e+06                 0.0   \n",
       "316    PathTraversal   NaN     NaN      2.205912e+06                 0.0   \n",
       "16062  PathTraversal   NaN     NaN      2.197108e+06                 0.0   \n",
       "18520  PathTraversal   NaN     NaN      2.209720e+06                 0.0   \n",
       "26940  PathTraversal   NaN     NaN      2.206459e+06                 0.0   \n",
       "\n",
       "       facility  score modeBEAM currentTourMode  expectedMaximumUtility  \\\n",
       "248         NaN    NaN     bike            bike                     NaN   \n",
       "316         NaN    NaN     bike            bike                     NaN   \n",
       "16062       NaN    NaN     bike            bike                     NaN   \n",
       "18520       NaN    NaN     bike            bike                     NaN   \n",
       "26940       NaN    NaN     bike            bike                     NaN   \n",
       "\n",
       "      availableAlternatives  location personalVehicleAvailable    length  \\\n",
       "248                     NaN       NaN                      NaN   591.851   \n",
       "316                     NaN       NaN                      NaN   385.622   \n",
       "16062                   NaN       NaN                      NaN  1216.258   \n",
       "18520                   NaN       NaN                      NaN    26.422   \n",
       "26940                   NaN       NaN                      NaN   334.028   \n",
       "\n",
       "       tourIndex legModes legVehicleIds currentActivity nextActivity reason  \\\n",
       "248          NaN      NaN           NaN             NaN          NaN    NaN   \n",
       "316          NaN      NaN           NaN             NaN          NaN    NaN   \n",
       "16062        NaN      NaN           NaN             NaN          NaN    NaN   \n",
       "18520        NaN      NaN           NaN             NaN          NaN    NaN   \n",
       "26940        NaN      NaN           NaN             NaN          NaN    NaN   \n",
       "\n",
       "                               links  numPassengers  primaryFuel  toStopIndex  \\\n",
       "248    71796,71799,29023,13743,13742            0.0    6273.6206          NaN   \n",
       "316                      10188,10189            0.0    4087.5932          NaN   \n",
       "16062        68460,82455,69029,69022            0.0   12892.3348          NaN   \n",
       "18520                  162585,162584            0.0     280.0732          NaN   \n",
       "26940                    35377,35376            0.0    3540.6968          NaN   \n",
       "\n",
       "       fromStopIndex  seatingCapacity  tollPaid       endY        endX  \\\n",
       "248              NaN              2.0       0.0  37.337513 -122.057953   \n",
       "316              NaN              2.0       0.0  37.967986 -121.785963   \n",
       "16062            NaN              2.0       0.0  37.839078 -122.275288   \n",
       "18520            NaN              2.0       0.0  37.473750 -122.232240   \n",
       "26940            NaN              2.0       0.0  37.502374 -122.270943   \n",
       "\n",
       "          startY      startX  capacity  arrivalTime  departureTime  \\\n",
       "248    37.337514 -122.060283       2.0      18146.0        18028.0   \n",
       "316    37.967986 -121.785963       2.0      18095.0        18018.0   \n",
       "16062  37.828203 -122.275229       2.0      18250.0        18007.0   \n",
       "18520  37.473750 -122.232240       2.0      18291.0        18286.0   \n",
       "26940  37.502374 -122.270943       2.0      18416.0        18349.0   \n",
       "\n",
       "                          linkTravelTime  secondaryFuel secondaryFuelType  \\\n",
       "248    27.254,13.274,0.638,52.229,52.229            0.0              None   \n",
       "316                        77.124,77.124            0.0              None   \n",
       "16062         67.23,7.505,56.199,179.548            0.0              None   \n",
       "18520                        5.284,5.284            0.0              None   \n",
       "26940                      66.806,66.806            0.0              None   \n",
       "\n",
       "      primaryFuelType  incentive  tollCost  netCost  departTime  cost  \n",
       "248          Gasoline        NaN       NaN      NaN         NaN   NaN  \n",
       "316          Gasoline        NaN       NaN      NaN         NaN   NaN  \n",
       "16062        Gasoline        NaN       NaN      NaN         NaN   NaN  \n",
       "18520        Gasoline        NaN       NaN      NaN         NaN   NaN  \n",
       "26940        Gasoline        NaN       NaN      NaN         NaN   NaN  "
      ]
     },
     "execution_count": 120,
     "metadata": {},
     "output_type": "execute_result"
    }
   ],
   "source": [
    "sample_bike2.head()"
   ]
  },
  {
   "cell_type": "code",
   "execution_count": 109,
   "id": "2d2b37e2",
   "metadata": {},
   "outputs": [],
   "source": [
    "sample_bike2.to_csv('C:/Shared-Work/Data/CleanData/sample_bike2.csv', index = False)"
   ]
  },
  {
   "cell_type": "markdown",
   "id": "557c5804",
   "metadata": {},
   "source": [
    "#### Merging with activity sim persons and housholds files"
   ]
  },
  {
   "cell_type": "code",
   "execution_count": null,
   "id": "fc9f6e38",
   "metadata": {},
   "outputs": [],
   "source": [
    "actloc_2018 =  \"https://beam-outputs.s3.amazonaws.com/pilates-outputs/sfbay-2018-base-20220306/activitysim/\"\n",
    "\n",
    "households = pd.read_csv(actloc_2018 + 'final_households.csv')\n",
    "persons = pd.read_csv(actloc_2018 + 'final_persons.csv')"
   ]
  }
 ],
 "metadata": {
  "kernelspec": {
   "display_name": "Python 3 (ipykernel)",
   "language": "python",
   "name": "python3"
  },
  "language_info": {
   "codemirror_mode": {
    "name": "ipython",
    "version": 3
   },
   "file_extension": ".py",
   "mimetype": "text/x-python",
   "name": "python",
   "nbconvert_exporter": "python",
   "pygments_lexer": "ipython3",
   "version": "3.9.7"
  }
 },
 "nbformat": 4,
 "nbformat_minor": 5
}
