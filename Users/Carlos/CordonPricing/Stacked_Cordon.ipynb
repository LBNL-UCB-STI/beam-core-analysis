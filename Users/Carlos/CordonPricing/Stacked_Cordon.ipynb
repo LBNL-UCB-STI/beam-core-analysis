{
 "cells": [
  {
   "cell_type": "code",
   "execution_count": 5,
   "id": "c0f71a2c",
   "metadata": {},
   "outputs": [
    {
     "name": "stdout",
     "output_type": "stream",
     "text": [
      "Collecting pyspark\n",
      "  Downloading pyspark-3.4.1.tar.gz (310.8 MB)\n",
      "                                              0.0/310.8 MB ? eta -:--:--\n",
      "                                              0.0/310.8 MB ? eta -:--:--\n",
      "                                            0.0/310.8 MB 393.8 kB/s eta 0:13:09\n",
      "                                              0.2/310.8 MB 1.7 MB/s eta 0:03:01\n",
      "                                              0.6/310.8 MB 3.5 MB/s eta 0:01:29\n",
      "                                              1.1/310.8 MB 4.9 MB/s eta 0:01:04\n",
      "                                              1.7/310.8 MB 6.3 MB/s eta 0:00:50\n",
      "                                              2.4/310.8 MB 7.6 MB/s eta 0:00:41\n",
      "                                              3.3/310.8 MB 8.7 MB/s eta 0:00:36\n",
      "                                             4.3/310.8 MB 10.7 MB/s eta 0:00:29\n",
      "                                             5.7/310.8 MB 12.5 MB/s eta 0:00:25\n",
      "                                             7.3/310.8 MB 14.6 MB/s eta 0:00:21\n",
      "     -                                       9.4/310.8 MB 16.6 MB/s eta 0:00:19\n",
      "     -                                      11.9/310.8 MB 31.2 MB/s eta 0:00:10\n",
      "     -                                      14.9/310.8 MB 43.7 MB/s eta 0:00:07\n",
      "     --                                     18.8/310.8 MB 65.2 MB/s eta 0:00:05\n",
      "     --                                     23.7/310.8 MB 81.8 MB/s eta 0:00:04\n",
      "     ---                                   29.2/310.8 MB 108.8 MB/s eta 0:00:03\n",
      "     ----                                  35.0/310.8 MB 108.8 MB/s eta 0:00:03\n",
      "     ----                                  40.6/310.8 MB 108.8 MB/s eta 0:00:03\n",
      "     -----                                 46.1/310.8 MB 108.8 MB/s eta 0:00:03\n",
      "     ------                                51.4/310.8 MB 110.0 MB/s eta 0:00:03\n",
      "     ------                                 56.3/310.8 MB 93.9 MB/s eta 0:00:03\n",
      "     -------                                61.2/310.8 MB 93.9 MB/s eta 0:00:03\n",
      "     --------                               66.5/310.8 MB 93.9 MB/s eta 0:00:03\n",
      "     --------                              71.6/310.8 MB 108.8 MB/s eta 0:00:03\n",
      "     ---------                             75.9/310.8 MB 108.8 MB/s eta 0:00:03\n",
      "     ---------                              81.3/310.8 MB 93.0 MB/s eta 0:00:03\n",
      "     ----------                            86.6/310.8 MB 108.8 MB/s eta 0:00:03\n",
      "     ----------                            91.6/310.8 MB 110.0 MB/s eta 0:00:02\n",
      "     -----------                            96.7/310.8 MB 93.9 MB/s eta 0:00:03\n",
      "     -----------                          102.2/310.8 MB 108.8 MB/s eta 0:00:02\n",
      "     ------------                         107.6/310.8 MB 108.8 MB/s eta 0:00:02\n",
      "     -------------                        112.9/310.8 MB 108.8 MB/s eta 0:00:02\n",
      "     -------------                        118.3/310.8 MB 108.8 MB/s eta 0:00:02\n",
      "     --------------                       123.9/310.8 MB 108.8 MB/s eta 0:00:02\n",
      "     --------------                       129.0/310.8 MB 108.8 MB/s eta 0:00:02\n",
      "     ---------------                       134.1/310.8 MB 93.9 MB/s eta 0:00:02\n",
      "     ----------------                     139.4/310.8 MB 110.0 MB/s eta 0:00:02\n",
      "     ----------------                     144.7/310.8 MB 108.8 MB/s eta 0:00:02\n",
      "     -----------------                     149.2/310.8 MB 93.9 MB/s eta 0:00:02\n",
      "     ------------------                    154.4/310.8 MB 93.9 MB/s eta 0:00:02\n",
      "     ------------------                   159.4/310.8 MB 108.8 MB/s eta 0:00:02\n",
      "     -------------------                   164.6/310.8 MB 93.0 MB/s eta 0:00:02\n",
      "     -------------------                  170.1/310.8 MB 108.8 MB/s eta 0:00:02\n",
      "     --------------------                 175.5/310.8 MB 110.0 MB/s eta 0:00:02\n",
      "     --------------------                 180.9/310.8 MB 110.0 MB/s eta 0:00:02\n",
      "     ---------------------                186.6/310.8 MB 108.8 MB/s eta 0:00:02\n",
      "     ----------------------               191.6/310.8 MB 131.2 MB/s eta 0:00:01\n",
      "     -----------------------               196.3/310.8 MB 93.9 MB/s eta 0:00:02\n",
      "     ------------------------              201.7/310.8 MB 93.0 MB/s eta 0:00:02\n",
      "     -----------------------              207.1/310.8 MB 108.8 MB/s eta 0:00:01\n",
      "     ------------------------             212.4/310.8 MB 108.8 MB/s eta 0:00:01\n",
      "     -------------------------             216.7/310.8 MB 93.9 MB/s eta 0:00:02\n",
      "     -------------------------            221.3/310.8 MB 108.8 MB/s eta 0:00:01\n",
      "     --------------------------           226.7/310.8 MB 108.8 MB/s eta 0:00:01\n",
      "     --------------------------           230.8/310.8 MB 110.0 MB/s eta 0:00:01\n",
      "     ----------------------------          235.4/310.8 MB 93.9 MB/s eta 0:00:01\n",
      "     ---------------------------          240.2/310.8 MB 108.8 MB/s eta 0:00:01\n",
      "     ----------------------------         246.0/310.8 MB 108.8 MB/s eta 0:00:01\n",
      "     -----------------------------        251.2/310.8 MB 108.8 MB/s eta 0:00:01\n",
      "     -----------------------------        256.5/310.8 MB 108.8 MB/s eta 0:00:01\n",
      "     ------------------------------       261.9/310.8 MB 108.8 MB/s eta 0:00:01\n",
      "     ------------------------------       267.4/310.8 MB 108.8 MB/s eta 0:00:01\n",
      "     -------------------------------      272.9/310.8 MB 110.0 MB/s eta 0:00:01\n",
      "     --------------------------------     278.0/310.8 MB 110.0 MB/s eta 0:00:01\n",
      "     --------------------------------     283.4/310.8 MB 108.8 MB/s eta 0:00:01\n",
      "     ---------------------------------    288.7/310.8 MB 108.8 MB/s eta 0:00:01\n",
      "     ----------------------------------   293.9/310.8 MB 108.8 MB/s eta 0:00:01\n",
      "     ----------------------------------   299.2/310.8 MB 108.8 MB/s eta 0:00:01\n",
      "     -----------------------------------  303.7/310.8 MB 108.8 MB/s eta 0:00:01\n",
      "     ------------------------------------  308.9/310.8 MB 93.0 MB/s eta 0:00:01\n",
      "     -----------------------------------  310.8/310.8 MB 108.8 MB/s eta 0:00:01\n",
      "     -----------------------------------  310.8/310.8 MB 108.8 MB/s eta 0:00:01\n",
      "     -----------------------------------  310.8/310.8 MB 108.8 MB/s eta 0:00:01\n",
      "     -----------------------------------  310.8/310.8 MB 108.8 MB/s eta 0:00:01\n",
      "     -----------------------------------  310.8/310.8 MB 108.8 MB/s eta 0:00:01\n",
      "     -----------------------------------  310.8/310.8 MB 108.8 MB/s eta 0:00:01\n",
      "     -----------------------------------  310.8/310.8 MB 108.8 MB/s eta 0:00:01\n",
      "     -----------------------------------  310.8/310.8 MB 108.8 MB/s eta 0:00:01\n",
      "     -----------------------------------  310.8/310.8 MB 108.8 MB/s eta 0:00:01\n",
      "     -----------------------------------  310.8/310.8 MB 108.8 MB/s eta 0:00:01\n",
      "     -----------------------------------  310.8/310.8 MB 108.8 MB/s eta 0:00:01\n",
      "     -----------------------------------  310.8/310.8 MB 108.8 MB/s eta 0:00:01\n",
      "     -----------------------------------  310.8/310.8 MB 108.8 MB/s eta 0:00:01\n",
      "     -----------------------------------  310.8/310.8 MB 108.8 MB/s eta 0:00:01\n",
      "     -----------------------------------  310.8/310.8 MB 108.8 MB/s eta 0:00:01\n",
      "     -----------------------------------  310.8/310.8 MB 108.8 MB/s eta 0:00:01\n",
      "     -----------------------------------  310.8/310.8 MB 108.8 MB/s eta 0:00:01\n",
      "     -----------------------------------  310.8/310.8 MB 108.8 MB/s eta 0:00:01\n",
      "     -----------------------------------  310.8/310.8 MB 108.8 MB/s eta 0:00:01\n",
      "     -----------------------------------  310.8/310.8 MB 108.8 MB/s eta 0:00:01\n",
      "     -----------------------------------  310.8/310.8 MB 108.8 MB/s eta 0:00:01\n",
      "     -----------------------------------  310.8/310.8 MB 108.8 MB/s eta 0:00:01\n",
      "     -----------------------------------  310.8/310.8 MB 108.8 MB/s eta 0:00:01\n",
      "     -----------------------------------  310.8/310.8 MB 108.8 MB/s eta 0:00:01\n",
      "     -----------------------------------  310.8/310.8 MB 108.8 MB/s eta 0:00:01\n",
      "     -----------------------------------  310.8/310.8 MB 108.8 MB/s eta 0:00:01\n",
      "     -----------------------------------  310.8/310.8 MB 108.8 MB/s eta 0:00:01\n",
      "     -----------------------------------  310.8/310.8 MB 108.8 MB/s eta 0:00:01\n",
      "     -----------------------------------  310.8/310.8 MB 108.8 MB/s eta 0:00:01\n",
      "     -----------------------------------  310.8/310.8 MB 108.8 MB/s eta 0:00:01\n",
      "     -----------------------------------  310.8/310.8 MB 108.8 MB/s eta 0:00:01\n",
      "     -----------------------------------  310.8/310.8 MB 108.8 MB/s eta 0:00:01\n",
      "     -----------------------------------  310.8/310.8 MB 108.8 MB/s eta 0:00:01\n",
      "     -----------------------------------  310.8/310.8 MB 108.8 MB/s eta 0:00:01\n",
      "     -----------------------------------  310.8/310.8 MB 108.8 MB/s eta 0:00:01\n",
      "     -----------------------------------  310.8/310.8 MB 108.8 MB/s eta 0:00:01\n",
      "     -----------------------------------  310.8/310.8 MB 108.8 MB/s eta 0:00:01\n",
      "     -----------------------------------  310.8/310.8 MB 108.8 MB/s eta 0:00:01\n",
      "     -----------------------------------  310.8/310.8 MB 108.8 MB/s eta 0:00:01\n",
      "     -----------------------------------  310.8/310.8 MB 108.8 MB/s eta 0:00:01\n",
      "     -----------------------------------  310.8/310.8 MB 108.8 MB/s eta 0:00:01\n",
      "     -----------------------------------  310.8/310.8 MB 108.8 MB/s eta 0:00:01\n",
      "     -----------------------------------  310.8/310.8 MB 108.8 MB/s eta 0:00:01\n",
      "     -----------------------------------  310.8/310.8 MB 108.8 MB/s eta 0:00:01\n",
      "     -----------------------------------  310.8/310.8 MB 108.8 MB/s eta 0:00:01\n",
      "     -----------------------------------  310.8/310.8 MB 108.8 MB/s eta 0:00:01\n",
      "     -----------------------------------  310.8/310.8 MB 108.8 MB/s eta 0:00:01\n",
      "     -----------------------------------  310.8/310.8 MB 108.8 MB/s eta 0:00:01\n",
      "     -----------------------------------  310.8/310.8 MB 108.8 MB/s eta 0:00:01\n",
      "     -----------------------------------  310.8/310.8 MB 108.8 MB/s eta 0:00:01\n",
      "     -----------------------------------  310.8/310.8 MB 108.8 MB/s eta 0:00:01\n",
      "     -----------------------------------  310.8/310.8 MB 108.8 MB/s eta 0:00:01\n",
      "     -----------------------------------  310.8/310.8 MB 108.8 MB/s eta 0:00:01\n",
      "     -----------------------------------  310.8/310.8 MB 108.8 MB/s eta 0:00:01\n",
      "     -----------------------------------  310.8/310.8 MB 108.8 MB/s eta 0:00:01\n",
      "     -----------------------------------  310.8/310.8 MB 108.8 MB/s eta 0:00:01\n",
      "     -----------------------------------  310.8/310.8 MB 108.8 MB/s eta 0:00:01\n",
      "     -----------------------------------  310.8/310.8 MB 108.8 MB/s eta 0:00:01\n",
      "     -----------------------------------  310.8/310.8 MB 108.8 MB/s eta 0:00:01\n",
      "     -----------------------------------  310.8/310.8 MB 108.8 MB/s eta 0:00:01\n",
      "     -----------------------------------  310.8/310.8 MB 108.8 MB/s eta 0:00:01\n",
      "     -----------------------------------  310.8/310.8 MB 108.8 MB/s eta 0:00:01\n",
      "     -------------------------------------- 310.8/310.8 MB 2.9 MB/s eta 0:00:00\n",
      "  Preparing metadata (setup.py): started\n",
      "  Preparing metadata (setup.py): finished with status 'done'\n",
      "Collecting py4j==0.10.9.7 (from pyspark)\n",
      "  Downloading py4j-0.10.9.7-py2.py3-none-any.whl (200 kB)\n",
      "                                              0.0/200.5 kB ? eta -:--:--\n",
      "     ------------------------------------- 200.5/200.5 kB 12.7 MB/s eta 0:00:00\n",
      "Building wheels for collected packages: pyspark\n",
      "  Building wheel for pyspark (setup.py): started\n",
      "  Building wheel for pyspark (setup.py): finished with status 'done'\n",
      "  Created wheel for pyspark: filename=pyspark-3.4.1-py2.py3-none-any.whl size=311285434 sha256=e87ec2788d27e233a094081c5431b0ab2d2a4eef4190b8e1bb3c6d200c30becd\n",
      "  Stored in directory: c:\\users\\cguirado\\appdata\\local\\pip\\cache\\wheels\\0d\\77\\a3\\ff2f74cc9ab41f8f594dabf0579c2a7c6de920d584206e0834\n",
      "Successfully built pyspark\n",
      "Installing collected packages: py4j, pyspark\n",
      "Successfully installed py4j-0.10.9.7 pyspark-3.4.1\n"
     ]
    }
   ],
   "source": [
    "import os\n",
    "import os.path as op\n",
    "import numpy as np\n",
    "import pandas as pd\n",
    "import matplotlib.pyplot as plt\n",
    "import matplotlib.colors as mcolors\n",
    "%matplotlib inline\n",
    "import seaborn as sns\n",
    "sns.set_theme(style=\"darkgrid\", color_codes=True)\n",
    "sns.set(font_scale=1.35, style=\"ticks\") #set styling preferences\n",
    "import statsmodels.api as sm\n",
    "from scipy import stats\n",
    "import math\n",
    "from math import pi\n",
    "from pandas.api.types import is_string_dtype\n",
    "from pandas.api.types import is_numeric_dtype\n",
    "from scipy.spatial.distance import cdist\n",
    "from scipy.cluster.vq import kmeans2,vq, whiten\n",
    "import geopandas as gpd\n",
    "import h5py\n",
    "import boto.s3\n",
    "import glob\n",
    "import boto3\n",
    "from zipfile import ZipFile\n",
    "import shutil\n",
    "!pip install pyspark\n",
    "from pyspark.sql import SparkSession"
   ]
  },
  {
   "cell_type": "code",
   "execution_count": 2,
   "id": "1c4d781d",
   "metadata": {},
   "outputs": [],
   "source": [
    "# Show all columns and rows\n",
    "pd.options.display.max_columns = None\n",
    "pd.options.display.max_rows = None"
   ]
  },
  {
   "cell_type": "code",
   "execution_count": 3,
   "id": "e3fd25fc",
   "metadata": {},
   "outputs": [],
   "source": [
    "# Showing the entire number in dataframe\n",
    "pd.set_option('float_format', '{:f}'.format)"
   ]
  },
  {
   "cell_type": "markdown",
   "id": "89d84386",
   "metadata": {
    "heading_collapsed": true
   },
   "source": [
    "#### Reading all the csv files"
   ]
  },
  {
   "cell_type": "code",
   "execution_count": 6,
   "id": "569ac443",
   "metadata": {
    "hidden": true
   },
   "outputs": [],
   "source": [
    "def read_csv_files():  \n",
    "    sf_tel_base = pd.read_csv('gs://beam-core-outputs/sfbay-telecommuting/sfbay-telecommuting-baseline-20230616/inexus/sfbay_baseline_default-1.0_2020__20230616.csv.gz', compression = 'gzip')    # Adding scenario info\n",
    "    sf_tel_base['scenario'] = \"TELECOM\"\n",
    "    sf_tel_base['scenario'] = sf_tel_base['scenario'].astype(\"category\")\n",
    "    sf_tel_base['year'] = 2018\n",
    "    sf_tel_base['lever_position_tel'] = 1      \n",
    "\n",
    "    sf_tel_1p36 = pd.read_csv('gs://beam-core-outputs/sfbay-telecommuting/sfbay-telecommuting-0p36-20230620/inexus/sfbay_baseline_default-1.0_2020__20230620.csv.gz', compression = 'gzip')\n",
    "    # Adding scenario info\n",
    "    sf_tel_1p36['scenario'] = \"TELECOM\"\n",
    "    sf_tel_1p36['scenario'] = sf_tel_1p36['scenario'].astype(\"category\")\n",
    "    sf_tel_1p36['year'] = 2018\n",
    "    sf_tel_1p36['lever_position_tel'] = 1.36      \n",
    "    \n",
    "    sf_tel_1p76 = pd.read_csv('gs://beam-core-outputs/sfbay-telecommuting/sfbay-telecommuting-0p76-20230621/inexus/sfbay_baseline_default-1.0_2020__20230622.csv.gz', compression = 'gzip')\n",
    "    # Adding scenario info\n",
    "    sf_tel_1p76['scenario'] = \"TELECOM\"\n",
    "    sf_tel_1p76['scenario'] = sf_tel_1p76['scenario'].astype(\"category\")\n",
    "    sf_tel_1p76['year'] = 2018\n",
    "    sf_tel_1p76['lever_position_tel'] = 1.76        \n",
    "\n",
    "    sf_tel_2p56 = pd.read_csv('gs://beam-core-outputs/sfbay-telecommuting/sfbay-telecommuting-1p56-20230617/inexus/sfbay_baseline_default-1.0_2020__20230618.csv.gz', compression = 'gzip')\n",
    "    # Adding scenario info\n",
    "    sf_tel_2p56['scenario'] = \"TELECOM\"\n",
    "    sf_tel_2p56['scenario'] = sf_tel_2p56['scenario'].astype(\"category\")\n",
    "    sf_tel_2p56['year'] = 2018\n",
    "    sf_tel_2p56['lever_position_tel'] = 2.56\n",
    "    \n",
    "    sf_tel_4p32 = pd.read_csv('gs://beam-core-outputs/sfbay-telecommuting/sfbay-telecommuting-3p32-20230621/inexus/sfbay_baseline_default-1.0_2020__20230621.csv.gz', compression = 'gzip')\n",
    "    # Adding scenario info\n",
    "    sf_tel_4p32['scenario'] = \"TELECOM\"\n",
    "    sf_tel_4p32['scenario'] = sf_tel_4p32['scenario'].astype(\"category\")\n",
    "    sf_tel_4p32['year'] = 2018\n",
    "    sf_tel_4p32['lever_position_tel'] = 4.32\n",
    "   \n",
    "    sf_tel_6p24 = pd.read_csv('gs://beam-core-outputs/sfbay-telecommuting/sfbay-telecommuting-5p24-20230617/inexus/sfbay_baseline_default-1.0_2020__20230618.csv.gz', compression = 'gzip')\n",
    "    # Adding scenario info\n",
    "    sf_tel_6p24['scenario'] = \"TELECOM\"\n",
    "    sf_tel_6p24['scenario'] = sf_tel_6p24['scenario'].astype(\"category\")\n",
    "    sf_tel_6p24['year'] = 2018\n",
    "    sf_tel_6p24['lever_position_tel'] = 6.24\n",
    "    \n",
    "    sf_tel_9p6 = pd.read_csv('gs://beam-core-outputs/sfbay-telecommuting/sfbay-telecommuting-8p60-20230620/inexus/sfbay_baseline_default-1.0_2020__20230620.csv.gz', compression = 'gzip')\n",
    "    # Adding scenario info\n",
    "    sf_tel_9p6['scenario'] = \"TELECOM\"\n",
    "    sf_tel_9p6['scenario'] = sf_tel_9p6['scenario'].astype(\"category\")\n",
    "    sf_tel_9p6['year'] = 2018\n",
    "    sf_tel_9p6['lever_position_tel'] = 9.6\n",
    "    \n",
    "    return (sf_tel_base, sf_tel_1p36, sf_tel_1p76, sf_tel_2p56, sf_tel_4p32, sf_tel_6p24, sf_tel_9p6)"
   ]
  },
  {
   "cell_type": "code",
   "execution_count": 7,
   "id": "19da3569",
   "metadata": {
    "hidden": true
   },
   "outputs": [
    {
     "name": "stderr",
     "output_type": "stream",
     "text": [
      "C:\\Users\\nrezaei\\AppData\\Local\\Temp\\2\\ipykernel_13188\\1954552891.py:2: DtypeWarning: Columns (100) have mixed types. Specify dtype option on import or set low_memory=False.\n",
      "  sf_tel_base = pd.read_csv('gs://beam-core-outputs/sfbay-telecommuting/sfbay-telecommuting-baseline-20230616/inexus/sfbay_baseline_default-1.0_2020__20230616.csv.gz', compression = 'gzip')    # Adding scenario info\n",
      "C:\\Users\\nrezaei\\AppData\\Local\\Temp\\2\\ipykernel_13188\\1954552891.py:15: DtypeWarning: Columns (100) have mixed types. Specify dtype option on import or set low_memory=False.\n",
      "  sf_tel_1p76 = pd.read_csv('gs://beam-core-outputs/sfbay-telecommuting/sfbay-telecommuting-0p76-20230621/inexus/sfbay_baseline_default-1.0_2020__20230622.csv.gz', compression = 'gzip')\n",
      "C:\\Users\\nrezaei\\AppData\\Local\\Temp\\2\\ipykernel_13188\\1954552891.py:22: DtypeWarning: Columns (77,133,134,135,136,137,138,139,140,141,142,143,144,145,146,147,148,149,150,151,153,162,167,168,169,170,172,173,174,175,177,178,235,236,237,238,247) have mixed types. Specify dtype option on import or set low_memory=False.\n",
      "  sf_tel_2p56 = pd.read_csv('gs://beam-core-outputs/sfbay-telecommuting/sfbay-telecommuting-1p56-20230617/inexus/sfbay_baseline_default-1.0_2020__20230618.csv.gz', compression = 'gzip')\n"
     ]
    },
    {
     "name": "stdout",
     "output_type": "stream",
     "text": [
      "CPU times: total: 19min 28s\n",
      "Wall time: 21min 54s\n"
     ]
    }
   ],
   "source": [
    "%%time \n",
    "sf_tel_base, sf_tel_1p36, sf_tel_1p76, sf_tel_2p56, sf_tel_4p32, sf_tel_6p24, sf_tel_9p6 = read_csv_files()"
   ]
  },
  {
   "cell_type": "markdown",
   "id": "aaa5a899",
   "metadata": {
    "heading_collapsed": true
   },
   "source": [
    "#### Stacked file"
   ]
  },
  {
   "cell_type": "code",
   "execution_count": 9,
   "id": "8f37acdc",
   "metadata": {
    "hidden": true
   },
   "outputs": [],
   "source": [
    "frames = [sf_tel_base, sf_tel_1p36, sf_tel_1p76, sf_tel_2p56, sf_tel_4p32, sf_tel_6p24, sf_tel_9p6]\n",
    "sf_stacked = pd.concat(frames)"
   ]
  },
  {
   "cell_type": "code",
   "execution_count": 12,
   "id": "999f6040",
   "metadata": {
    "hidden": true
   },
   "outputs": [],
   "source": [
    "# Drop unnecessary columns (if any)\n",
    "sf_stacked = sf_stacked.drop(['number_of_participants','tour_type_count',\n",
    "                              'outbound','Unnamed: 0'], axis=1)"
   ]
  },
  {
   "cell_type": "code",
   "execution_count": 14,
   "id": "8b7d1452",
   "metadata": {
    "hidden": true
   },
   "outputs": [],
   "source": [
    "# Sort the stacked file\n",
    "sf_stacked = sf_stacked.sort_values(by=['IDMerged', 'tripIndex', 'lever_position_tel']).reset_index(drop=True)"
   ]
  },
  {
   "cell_type": "code",
   "execution_count": 16,
   "id": "2c4e35a6",
   "metadata": {
    "hidden": true
   },
   "outputs": [],
   "source": [
    "sf_stacked['door_to_door_time_relative_to_baseline'] = sf_stacked['duration_door_to_door'] - (sf_stacked['duration_door_to_door'].where(sf_stacked['lever_position_tel'].eq(1))\n",
    "                                                                                                  .groupby([sf_stacked['IDMerged'],sf_stacked['tripIndex']])\n",
    "                                                                                                   .transform('first')\n",
    "                                                                                                   .convert_dtypes())"
   ]
  },
  {
   "cell_type": "code",
   "execution_count": 17,
   "id": "0111d8da",
   "metadata": {
    "ExecuteTime": {
     "end_time": "2022-10-07T01:01:09.566750Z",
     "start_time": "2022-10-07T01:01:08.396429Z"
    },
    "hidden": true
   },
   "outputs": [],
   "source": [
    "# Add the mandatory category column\n",
    "mandatory = ['work' , 'univ', 'school']\n",
    "sf_stacked['mandatoryCat'] = np.where((sf_stacked.actEndType.isin(mandatory)) & (sf_stacked.actStartType.isin(mandatory)), 'from_M_to_M' , None)"
   ]
  },
  {
   "cell_type": "code",
   "execution_count": 18,
   "id": "4ef447dd",
   "metadata": {
    "ExecuteTime": {
     "end_time": "2022-10-07T01:01:11.980472Z",
     "start_time": "2022-10-07T01:01:10.667391Z"
    },
    "hidden": true
   },
   "outputs": [],
   "source": [
    "sf_stacked['mandatoryCat'] = np.where((sf_stacked.actEndType == 'Home') & (sf_stacked.actStartType.isin(mandatory)), 'from_H_to_M' , sf_stacked['mandatoryCat'])"
   ]
  },
  {
   "cell_type": "code",
   "execution_count": 19,
   "id": "11c74ce2",
   "metadata": {
    "ExecuteTime": {
     "end_time": "2022-10-07T01:01:15.207664Z",
     "start_time": "2022-10-07T01:01:13.883857Z"
    },
    "hidden": true
   },
   "outputs": [],
   "source": [
    "sf_stacked['mandatoryCat'] = np.where((sf_stacked.actEndType.isin(mandatory)) & (sf_stacked.actStartType == \"Home\"), 'from_M_to_H' , sf_stacked['mandatoryCat'])"
   ]
  },
  {
   "cell_type": "code",
   "execution_count": 20,
   "id": "714163d9",
   "metadata": {
    "ExecuteTime": {
     "start_time": "2022-10-07T01:01:20.650Z"
    },
    "hidden": true
   },
   "outputs": [],
   "source": [
    "non_mandatory = ['othmaint' , 'othdiscr', 'escort', 'eatout', 'social', 'shopping', 'atwork']\n",
    "sf_stacked['mandatoryCat'] = np.where((sf_stacked.actEndType.isin(non_mandatory)) & (sf_stacked.actStartType.isin(non_mandatory)), 'from_N_to_N' , sf_stacked['mandatoryCat'])"
   ]
  },
  {
   "cell_type": "code",
   "execution_count": 36,
   "id": "11864852",
   "metadata": {
    "hidden": true
   },
   "outputs": [],
   "source": [
    "sf_stacked['socialCarbonCost'] = sf_stacked['emission_marginal']*185 # 51 or 102"
   ]
  },
  {
   "cell_type": "markdown",
   "id": "9a5096df",
   "metadata": {
    "heading_collapsed": true
   },
   "source": [
    "#### Writing the stacked file to Google Cloud"
   ]
  },
  {
   "cell_type": "code",
   "execution_count": 48,
   "id": "cea30341",
   "metadata": {
    "hidden": true
   },
   "outputs": [
    {
     "name": "stdout",
     "output_type": "stream",
     "text": [
      "CPU times: total: 1h 5min 35s\n",
      "Wall time: 1h 5min 51s\n"
     ]
    }
   ],
   "source": [
    "%%time\n",
    "import gzip\n",
    "from io import BytesIO\n",
    "from google.cloud import storage\n",
    "import pandas as pd\n",
    "\n",
    "# Export DataFrame to a gzip-compressed CSV file\n",
    "compressed_bytes = BytesIO()\n",
    "with gzip.GzipFile(fileobj=compressed_bytes, mode='w') as gz:\n",
    "    sf_stacked.to_csv(gz, index=False)\n",
    "compressed_bytes.seek(0)\n",
    "\n",
    "# Upload the gzip-compressed file to Google Cloud Storage\n",
    "storage_client = storage.Client.from_service_account_json('C:/Users/nrezaei/Documents/beam-core-a9ea929e82b1.json')\n",
    "bucket_name = 'beam-core-analysis'  # Replace with your Google Cloud Storage bucket name\n",
    "destination_blob_name = 'sf_2018_stacked_telecommuting_20230625.csv.gz'  # Replace with the desired destination file name in the bucket\n",
    "\n",
    "bucket = storage_client.bucket(bucket_name)\n",
    "blob = bucket.blob(destination_blob_name)\n",
    "blob.upload_from_file(compressed_bytes, content_type='application/gzip')\n",
    "\n",
    "# Set the Content-Encoding metadata property\n",
    "blob.metadata = {'Content-Encoding': 'gzip'}\n",
    "blob.patch()"
   ]
  }
 ],
 "metadata": {
  "kernelspec": {
   "display_name": "Python 3 (ipykernel)",
   "language": "python",
   "name": "python3"
  },
  "language_info": {
   "codemirror_mode": {
    "name": "ipython",
    "version": 3
   },
   "file_extension": ".py",
   "mimetype": "text/x-python",
   "name": "python",
   "nbconvert_exporter": "python",
   "pygments_lexer": "ipython3",
   "version": "3.10.12"
  },
  "toc": {
   "base_numbering": 1,
   "nav_menu": {},
   "number_sections": true,
   "sideBar": true,
   "skip_h1_title": false,
   "title_cell": "Table of Contents",
   "title_sidebar": "Contents",
   "toc_cell": false,
   "toc_position": {},
   "toc_section_display": true,
   "toc_window_display": false
  },
  "varInspector": {
   "cols": {
    "lenName": 16,
    "lenType": 16,
    "lenVar": 40
   },
   "kernels_config": {
    "python": {
     "delete_cmd_postfix": "",
     "delete_cmd_prefix": "del ",
     "library": "var_list.py",
     "varRefreshCmd": "print(var_dic_list())"
    },
    "r": {
     "delete_cmd_postfix": ") ",
     "delete_cmd_prefix": "rm(",
     "library": "var_list.r",
     "varRefreshCmd": "cat(var_dic_list()) "
    }
   },
   "types_to_exclude": [
    "module",
    "function",
    "builtin_function_or_method",
    "instance",
    "_Feature"
   ],
   "window_display": false
  }
 },
 "nbformat": 4,
 "nbformat_minor": 5
}
