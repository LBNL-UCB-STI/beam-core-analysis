{
 "cells": [
  {
   "cell_type": "markdown",
   "id": "324a5817",
   "metadata": {},
   "source": [
    "### Skims (Wait Times) - Preprocessing, Step 1\n",
    "**Author:** Carlos Guirado\n",
    "**Date:** Feb\n",
    "**Objective:** Downloading skims in bulk and pre-processing to obtain merged RH solo and RH pooled wait time skim files by time period."
   ]
  },
  {
   "cell_type": "code",
   "execution_count": 44,
   "id": "51915635",
   "metadata": {},
   "outputs": [],
   "source": [
    "# Import libraries\n",
    "import os\n",
    "import pandas as pd\n",
    "import numpy as np\n",
    "import geopandas as gpd\n",
    "import h5py\n",
    "import boto.s3\n",
    "import glob\n",
    "import boto3\n",
    "from zipfile import ZipFile\n",
    "import shutil\n",
    "import io"
   ]
  },
  {
   "cell_type": "code",
   "execution_count": 45,
   "id": "94c8121e",
   "metadata": {},
   "outputs": [],
   "source": [
    "import pyreadr\n",
    "import openmatrix as omx"
   ]
  },
  {
   "cell_type": "code",
   "execution_count": 46,
   "id": "40b38cbf",
   "metadata": {},
   "outputs": [],
   "source": [
    "# Note: see https://docs.google.com/spreadsheets/d/1tiAiqI2Wvvmu-7C5RAOsYyOXYbHEpoAa2RGs10IQRM8/edit#gid=121792557\n",
    "# For naming convention\n",
    "# This numeric system follows the rows in the spreadsheet"
   ]
  },
  {
   "cell_type": "code",
   "execution_count": 47,
   "id": "b9c2fa56",
   "metadata": {},
   "outputs": [],
   "source": [
    "links =['s3://beam-outputs/pilates-outputs/sfbay_1fleet_100price_100fleet_30pct_20230222/',\n",
    "'s3://beam-outputs/pilates-outputs/sfbay_baseline_30pct_20230218/',\n",
    "'s3://beam-outputs/pilates-outputs/sfbay_5fleets_100price_100fleet_30pct_20230218/',\n",
    "'s3://beam-outputs/pilates-outputs/sfbay_5fleets_100price_164fleet_30pct_20230218/',\n",
    "'s3://beam-outputs/pilates-outputs/sfbay_5fleets_100price_200fleet_30pct_20230218/',\n",
    "'s3://beam-outputs/pilates-outputs/sfbay_5fleets_100price_400fleet_30pct_20230218/',\n",
    "'s3://beam-outputs/pilates-outputs/sfbay_5fleets_100price_1000fleet_30pct_20230218/',\n",
    "'s3://beam-outputs/pilates-outputs/sfbay_2fleets_100price_164fleet_30pct_20230218/',\n",
    "'s3://beam-outputs/pilates-outputs/sfbay_2fleets_100price_200fleet_30pct_20230218/',\n",
    "'s3://beam-outputs/pilates-outputs/sfbay_2fleets_100price_400fleet_30pct_20230218/',\n",
    "'s3://beam-outputs/pilates-outputs/sfbay_2fleets_100price_1000fleet_30pct_20230218/',\n",
    "'s3://beam-outputs/pilates-outputs/sfbay_2fleets_47price_100fleet_30pct_20230226/',\n",
    "'s3://beam-outputs/pilates-outputs/sfbay_5fleets_47price_100fleet_30pct_20230226/',\n",
    "'s3://beam-outputs/pilates-outputs/sfbay_5fleets_47price_164fleet_30pct_20230226/',\n",
    "'s3://beam-outputs/pilates-outputs/sfbay_5fleets_47price_200fleet_30pct_20230226/',\n",
    "'s3://beam-outputs/pilates-outputs/sfbay_5fleets_47price_400fleet_30pct_20230226/',\n",
    "'s3://beam-outputs/pilates-outputs/sfbay_5fleets_47price_1000fleet_30pct_20230226/',\n",
    "'s3://beam-outputs/pilates-outputs/sfbay_2fleets_27price_100fleet_30pct_20230221/',\n",
    "'s3://beam-outputs/pilates-outputs/sfbay_5fleets_27price_100fleet_30pct_20230218/',\n",
    "'s3://beam-outputs/pilates-outputs/sfbay_5fleets_27price_164fleet_30pct_20230218/',\n",
    "'s3://beam-outputs/pilates-outputs/sfbay_5fleets_27price_200fleet_30pct_20230218/',\n",
    "'s3://beam-outputs/pilates-outputs/sfbay_5fleets_27price_400fleet_30pct_20230218/',\n",
    "'s3://beam-outputs/pilates-outputs/sfbay_5fleets_27price_1000fleet_30pct_20230218/',\n",
    "'s3://beam-outputs/pilates-outputs/sfbay_2fleets_12_5price_100fleet_30pct_20230226/',\n",
    "'s3://beam-outputs/pilates-outputs/sfbay_5fleets_12_5price_100fleet_30pct_20230226/',\n",
    "'s3://beam-outputs/pilates-outputs/sfbay_5fleets_12_5price_164fleet_30pct_20230226/',\n",
    "'s3://beam-outputs/pilates-outputs/sfbay_5fleets_12_5price_200fleet_30pct_20230226/',\n",
    "'s3://beam-outputs/pilates-outputs/sfbay_5fleets_12_5price_400fleet_30pct_20230226/',\n",
    "'s3://beam-outputs/pilates-outputs/sfbay_5fleets_12_5price_1000fleet_30pct_20230226/',\n",
    "'s3://beam-outputs/pilates-outputs/sfbay_2fleets_6_25_price_100fleet_30pct_20230223/',\n",
    "'s3://beam-outputs/pilates-outputs/sfbay_5fleets_6_25price_100fleet_30pct_20230218/',\n",
    "'s3://beam-outputs/pilates-outputs/sfbay_5fleets_6_25price_164fleet_30pct_20230218/',\n",
    "'s3://beam-outputs/pilates-outputs/sfbay_5fleets_6_25price_200fleet_30pct_20230223/',\n",
    "'s3://beam-outputs/pilates-outputs/sfbay_5fleets_6_25_price_400fleet_30pct_20230223/',\n",
    "'s3://beam-outputs/pilates-outputs/sfbay_5fleets_6_25_price_1000fleet_30pct_20230223/',\n",
    "'s3://beam-outputs/pilates-outputs/sfbay_1fleet_mix_price_100fleet_30pct_20230223/',\n",
    "'s3://beam-outputs/pilates-outputs/sfbay_2fleets_mix_price_100fleet_30pct_20230226/',\n",
    "'s3://beam-outputs/pilates-outputs/sfbay_5fleets_mixprice_100fleet_30pct_20230223/',\n",
    "'s3://beam-outputs/pilates-outputs/sfbay_5fleets_mix_price_164fleet_30pct_20230226/',\n",
    "'s3://beam-outputs/pilates-outputs/sfbay_5fleets_mixprice_200fleet_30pct_20230223/',\n",
    "'s3://beam-outputs/pilates-outputs/sfbay_5fleets_mixprice_400fleet_30pct_20230223/',\n",
    "'s3://beam-outputs/pilates-outputs/sfbay_5fleets_mixprice_1000fleet_30pct_20230223/']"
   ]
  },
  {
   "cell_type": "code",
   "execution_count": 48,
   "id": "2c41d429",
   "metadata": {},
   "outputs": [],
   "source": [
    "links2 =['pilates-outputs/sfbay_1fleet_100price_100fleet_30pct_20230222/',\n",
    "'pilates-outputs/sfbay_baseline_30pct_20230218/',\n",
    "'pilates-outputs/sfbay_5fleets_100price_100fleet_30pct_20230218/',\n",
    "'pilates-outputs/sfbay_5fleets_100price_164fleet_30pct_20230218/',\n",
    "'pilates-outputs/sfbay_5fleets_100price_200fleet_30pct_20230218/',\n",
    "'pilates-outputs/sfbay_5fleets_100price_400fleet_30pct_20230218/',\n",
    "'pilates-outputs/sfbay_5fleets_100price_1000fleet_30pct_20230218/',\n",
    "'pilates-outputs/sfbay_2fleets_100price_164fleet_30pct_20230218/',\n",
    "'pilates-outputs/sfbay_2fleets_100price_200fleet_30pct_20230218/',\n",
    "'pilates-outputs/sfbay_2fleets_100price_400fleet_30pct_20230218/',\n",
    "'pilates-outputs/sfbay_2fleets_100price_1000fleet_30pct_20230218/',\n",
    "'pilates-outputs/sfbay_2fleets_47price_100fleet_30pct_20230226/',\n",
    "'pilates-outputs/sfbay_5fleets_47price_100fleet_30pct_20230226/',\n",
    "'pilates-outputs/sfbay_5fleets_47price_164fleet_30pct_20230226/',\n",
    "'pilates-outputs/sfbay_5fleets_47price_200fleet_30pct_20230226/',\n",
    "'pilates-outputs/sfbay_5fleets_47price_400fleet_30pct_20230226/',\n",
    "'pilates-outputs/sfbay_5fleets_47price_1000fleet_30pct_20230226/',\n",
    "'pilates-outputs/sfbay_2fleets_27price_100fleet_30pct_20230221/',\n",
    "'pilates-outputs/sfbay_5fleets_27price_100fleet_30pct_20230218/',\n",
    "'pilates-outputs/sfbay_5fleets_27price_164fleet_30pct_20230218/',\n",
    "'pilates-outputs/sfbay_5fleets_27price_200fleet_30pct_20230218/',\n",
    "'pilates-outputs/sfbay_5fleets_27price_400fleet_30pct_20230218/',\n",
    "'pilates-outputs/sfbay_5fleets_27price_1000fleet_30pct_20230218/',\n",
    "'pilates-outputs/sfbay_2fleets_12_5price_100fleet_30pct_20230226/',\n",
    "'pilates-outputs/sfbay_5fleets_12_5price_100fleet_30pct_20230226/',\n",
    "'pilates-outputs/sfbay_5fleets_12_5price_164fleet_30pct_20230226/',\n",
    "'pilates-outputs/sfbay_5fleets_12_5price_200fleet_30pct_20230226/',\n",
    "'pilates-outputs/sfbay_5fleets_12_5price_400fleet_30pct_20230226/',\n",
    "'pilates-outputs/sfbay_5fleets_12_5price_1000fleet_30pct_20230226/',\n",
    "'pilates-outputs/sfbay_2fleets_6_25_price_100fleet_30pct_20230223/',\n",
    "'pilates-outputs/sfbay_5fleets_6_25price_100fleet_30pct_20230218/',\n",
    "'pilates-outputs/sfbay_5fleets_6_25price_164fleet_30pct_20230218/',\n",
    "'pilates-outputs/sfbay_5fleets_6_25price_200fleet_30pct_20230223/',\n",
    "'pilates-outputs/sfbay_5fleets_6_25_price_400fleet_30pct_20230223/',\n",
    "'pilates-outputs/sfbay_5fleets_6_25_price_1000fleet_30pct_20230223/',\n",
    "'pilates-outputs/sfbay_1fleet_mix_price_100fleet_30pct_20230223/',\n",
    "'pilates-outputs/sfbay_2fleets_mix_price_100fleet_30pct_20230226/',\n",
    "'pilates-outputs/sfbay_5fleets_mixprice_100fleet_30pct_20230223/',\n",
    "'pilates-outputs/sfbay_5fleets_mix_price_164fleet_30pct_20230226/',\n",
    "'pilates-outputs/sfbay_5fleets_mixprice_200fleet_30pct_20230223/',\n",
    "'pilates-outputs/sfbay_5fleets_mixprice_400fleet_30pct_20230223/',\n",
    "'pilates-outputs/sfbay_5fleets_mixprice_1000fleet_30pct_20230223/']"
   ]
  },
  {
   "cell_type": "markdown",
   "id": "99450c51",
   "metadata": {},
   "source": [
    "Step 1: Download ALL skims (works better to have them locally) - only run this bit of code once!"
   ]
  },
  {
   "cell_type": "code",
   "execution_count": 49,
   "id": "36a86ed1",
   "metadata": {},
   "outputs": [
    {
     "name": "stdout",
     "output_type": "stream",
     "text": [
      "pilates-outputs/sfbay_1fleet_100price_100fleet_30pct_20230222/\n"
     ]
    }
   ],
   "source": [
    "#print(links2[0])"
   ]
  },
  {
   "cell_type": "code",
   "execution_count": 50,
   "id": "ceded878",
   "metadata": {},
   "outputs": [],
   "source": [
    "#links_to_skims = [x + 'activitysim/data/skims.omx' for x in links]"
   ]
  },
  {
   "cell_type": "code",
   "execution_count": 51,
   "id": "198b4215",
   "metadata": {},
   "outputs": [],
   "source": [
    "#links2_to_skims = [x + 'activitysim/data/skims.omx' for x in links2]"
   ]
  },
  {
   "cell_type": "code",
   "execution_count": 52,
   "id": "1a64a7b0",
   "metadata": {},
   "outputs": [
    {
     "name": "stdout",
     "output_type": "stream",
     "text": [
      "pilates-outputs/sfbay_1fleet_100price_100fleet_30pct_20230222/activitysim/data/skims.omx\n"
     ]
    }
   ],
   "source": [
    "#print(links2_to_skims[0])"
   ]
  },
  {
   "cell_type": "code",
   "execution_count": 53,
   "id": "92f5ac8f",
   "metadata": {},
   "outputs": [],
   "source": [
    "#s3 = boto3.client(\"s3\")\n",
    "#for i in range(0,len(links2_to_skims)):\n",
    "#    j = i +3 # row 0 in list corresponds to row 3 in master spreadsheet\n",
    "#    key = links2_to_skims[i]\n",
    "#    s3.download_file(Filename=f\"C:\\\\Users\\\\Administrator\\\\Downloads\\\\Feb2023Runs\\\\skims_{j}.omx\",Bucket=\"beam-outputs\", Key=key)"
   ]
  },
  {
   "cell_type": "code",
   "execution_count": 54,
   "id": "25925b52",
   "metadata": {},
   "outputs": [],
   "source": [
    "#s3.download_file(Filename=\"C:\\\\Users\\\\Administrator\\\\Downloads\\\\Feb2023Runs\\\\skims1.omx\",Bucket=\"beam-outputs\", Key=key)"
   ]
  },
  {
   "cell_type": "markdown",
   "id": "413f555e",
   "metadata": {},
   "source": [
    "Step 2: Extract RH solo and pooled wait times by time period"
   ]
  },
  {
   "cell_type": "markdown",
   "id": "93757635",
   "metadata": {},
   "source": [
    "Assumes skims have been downloaded locally"
   ]
  },
  {
   "cell_type": "code",
   "execution_count": 58,
   "id": "196266d0",
   "metadata": {},
   "outputs": [],
   "source": [
    "#key = r\"C:\\Users\\Administrator\\Downloads\\base-skims.omx\"\n",
    "def grep(l,s):\n",
    "    return [i for i in l if s in i]\n",
    "import matplotlib.pyplot as plt"
   ]
  },
  {
   "cell_type": "code",
   "execution_count": 64,
   "id": "d60f40d2",
   "metadata": {},
   "outputs": [],
   "source": [
    "time_periods = ['AM', 'PM', 'MD', 'EA', 'EV']"
   ]
  },
  {
   "cell_type": "code",
   "execution_count": 61,
   "id": "d71b36e1",
   "metadata": {},
   "outputs": [
    {
     "data": {
      "text/plain": [
       "<Figure size 640x480 with 0 Axes>"
      ]
     },
     "metadata": {},
     "output_type": "display_data"
    }
   ],
   "source": [
    "#3: baseline, 44 last row on master spreadsheet: https://docs.google.com/spreadsheets/d/1tiAiqI2Wvvmu-7C5RAOsYyOXYbHEpoAa2RGs10IQRM8/edit#gid=121792557\n",
    "# See Anna's proposal tab\n",
    "for period in time_periods:\n",
    "    for i in range(3,45):\n",
    "        row=i # convention in spreadsheet\n",
    "        myfile = omx.open_file(f'C:/Users/Administrator/Downloads/Feb2023Runs/skims_{row}.omx')\n",
    "        df = pd.read_csv(r\"C:\\Users\\Administrator\\Documents\\Carlos\\skim_vars.txt\", sep=',')\n",
    "        list_vars = list(df.columns.values.tolist())\n",
    "        m2 = myfile[f'RH_POOLED_WAIT__{period}']\n",
    "        df2 = pd.DataFrame(m2)\n",
    "        waits_pooled_rh=df2.iloc[:,1]\n",
    "        waits_pooled_rh=waits_pooled_rh[waits_pooled_rh != 6]\n",
    "        waits_pooled_rh.describe().to_csv(f'pooled-waits-{row}_{period}.csv')\n",
    "        plt.hist(waits_pooled_rh, bins=100)\n",
    "        plt.axvline(waits_pooled_rh.mean(), color='r', linestyle='dashed', linewidth=1)\n",
    "        plt.axvline(waits_pooled_rh.median(), color='y', linestyle='dashed', linewidth=1)\n",
    "        plt.savefig(f'waits_pooled_{row}')\n",
    "        plt.clf()\n",
    "        m3 = myfile[f'RH_SOLO_WAIT__{period}']\n",
    "        df3 = pd.DataFrame(m3)\n",
    "        waits_solo_rh=df3.iloc[:,1]\n",
    "        waits_solo_rh=waits_solo_rh[waits_solo_rh != 6]\n",
    "        plt.hist(waits_solo_rh, bins=100)\n",
    "        plt.axvline(waits_solo_rh.mean(), color='r', linestyle='dashed', linewidth=1)\n",
    "        plt.axvline(waits_solo_rh.median(), color='y', linestyle='dashed', linewidth=1)\n",
    "        plt.savefig(f'waits_solo_{row}.png')\n",
    "        waits_solo_rh.describe().to_csv(f'solo-waits{row}_{period}.csv')\n",
    "        plt.clf()"
   ]
  },
  {
   "cell_type": "code",
   "execution_count": 71,
   "id": "cf0fa5ea",
   "metadata": {},
   "outputs": [
    {
     "name": "stdout",
     "output_type": "stream",
     "text": [
      "['AM', 'PM', 'MD', 'EA', 'EV']\n"
     ]
    }
   ],
   "source": [
    "print(time_periods)"
   ]
  },
  {
   "cell_type": "code",
   "execution_count": 99,
   "id": "eace625e",
   "metadata": {},
   "outputs": [],
   "source": [
    "all_filenames_pooled_am = []\n",
    "all_filenames_pooled_pm = []\n",
    "all_filenames_pooled_md = []\n",
    "all_filenames_pooled_ea = []\n",
    "all_filenames_pooled_ev = []\n",
    "\n",
    "all_filenames_solo_am = []\n",
    "all_filenames_solo_pm = []\n",
    "all_filenames_solo_md = []\n",
    "all_filenames_solo_ea = []\n",
    "all_filenames_solo_ev = []\n",
    "\n",
    "for i in range(3,45):\n",
    "    pooled_am=f'pooled-waits-{i}_AM.csv'\n",
    "    solo_am=f'solo-waits{i}_AM.csv'\n",
    "    pooled_pm=f'pooled-waits-{i}_PM.csv'\n",
    "    solo_pm=f'solo-waits{i}_PM.csv'\n",
    "    pooled_ea=f'pooled-waits-{i}_EA.csv'\n",
    "    solo_ea=f'solo-waits{i}_EA.csv'\n",
    "    pooled_ev=f'pooled-waits-{i}_EV.csv'\n",
    "    solo_ev=f'solo-waits{i}_EV.csv'\n",
    "    pooled_md=f'pooled-waits-{i}_MD.csv'\n",
    "    solo_md=f'solo-waits{i}_MD.csv'\n",
    "    all_filenames_pooled_am.append(pooled_am)\n",
    "    all_filenames_solo_am.append(solo_am)\n",
    "    all_filenames_pooled_pm.append(pooled_pm)\n",
    "    all_filenames_solo_pm.append(solo_pm)\n",
    "    all_filenames_pooled_md.append(pooled_md)\n",
    "    all_filenames_solo_md.append(solo_md)\n",
    "    all_filenames_pooled_ea.append(pooled_ea)\n",
    "    all_filenames_solo_ea.append(solo_ea)\n",
    "    all_filenames_pooled_ev.append(pooled_ev)\n",
    "    all_filenames_solo_ev.append(solo_ev)"
   ]
  },
  {
   "cell_type": "code",
   "execution_count": 100,
   "id": "ee726603",
   "metadata": {},
   "outputs": [],
   "source": [
    "combined_csv_pooled_am = pd.concat([pd.read_csv(f) for f in all_filenames_pooled_am])\n",
    "combined_csv_solo_am = pd.concat([pd.read_csv(f) for f in all_filenames_solo_am])\n",
    "\n",
    "combined_csv_pooled_pm = pd.concat([pd.read_csv(f) for f in all_filenames_pooled_pm])\n",
    "combined_csv_solo_pm = pd.concat([pd.read_csv(f) for f in all_filenames_solo_pm])\n",
    "\n",
    "combined_csv_pooled_ea = pd.concat([pd.read_csv(f) for f in all_filenames_pooled_am])\n",
    "combined_csv_solo_ea = pd.concat([pd.read_csv(f) for f in all_filenames_solo_am])\n",
    "\n",
    "combined_csv_pooled_ev = pd.concat([pd.read_csv(f) for f in all_filenames_pooled_ev])\n",
    "combined_csv_solo_ev = pd.concat([pd.read_csv(f) for f in all_filenames_solo_ev])\n",
    "\n",
    "combined_csv_pooled_md = pd.concat([pd.read_csv(f) for f in all_filenames_pooled_md])\n",
    "combined_csv_solo_md = pd.concat([pd.read_csv(f) for f in all_filenames_solo_md])"
   ]
  },
  {
   "cell_type": "code",
   "execution_count": 101,
   "id": "4548f5d8",
   "metadata": {},
   "outputs": [],
   "source": [
    "combined_csv_pooled_am.to_csv('all_waits_pooled_am.csv')\n",
    "combined_csv_pooled_pm.to_csv('all_waits_pooled_pm.csv')\n",
    "combined_csv_pooled_ea.to_csv('all_waits_pooled_ea.csv')\n",
    "combined_csv_pooled_ev.to_csv('all_waits_pooled_ev.csv')\n",
    "combined_csv_pooled_md.to_csv('all_waits_pooled_md.csv')"
   ]
  },
  {
   "cell_type": "code",
   "execution_count": 102,
   "id": "3ca7a77a",
   "metadata": {},
   "outputs": [],
   "source": [
    "combined_csv_solo_am.to_csv('all_waits_solo_am.csv')\n",
    "combined_csv_solo_pm.to_csv('all_waits_solo_pm.csv')\n",
    "combined_csv_solo_ea.to_csv('all_waits_solo_ea.csv')\n",
    "combined_csv_solo_ev.to_csv('all_waits_solo_ev.csv')\n",
    "combined_csv_solo_md.to_csv('all_waits_solo_md.csv')"
   ]
  },
  {
   "cell_type": "markdown",
   "id": "c8be7850",
   "metadata": {},
   "source": [
    "Output: at this point, there are 5 RH solo and 5 RH pooled files (one by time period) condensing all the model runs."
   ]
  }
 ],
 "metadata": {
  "kernelspec": {
   "display_name": "Python 3 (ipykernel)",
   "language": "python",
   "name": "python3"
  },
  "language_info": {
   "codemirror_mode": {
    "name": "ipython",
    "version": 3
   },
   "file_extension": ".py",
   "mimetype": "text/x-python",
   "name": "python",
   "nbconvert_exporter": "python",
   "pygments_lexer": "ipython3",
   "version": "3.9.13"
  }
 },
 "nbformat": 4,
 "nbformat_minor": 5
}
