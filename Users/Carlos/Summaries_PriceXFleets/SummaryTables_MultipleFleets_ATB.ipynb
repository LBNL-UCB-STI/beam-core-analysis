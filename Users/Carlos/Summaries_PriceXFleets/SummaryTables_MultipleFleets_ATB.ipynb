{
 "cells": [
  {
   "cell_type": "markdown",
   "id": "eaae0c3d",
   "metadata": {},
   "source": [
    "# BEAM - Ride Hail Fleet Size & Price Analysis\n",
    "### Feb 28 2023"
   ]
  },
  {
   "cell_type": "markdown",
   "id": "34afe42c",
   "metadata": {},
   "source": [
    "Plots using summary tables from latest model runs"
   ]
  },
  {
   "cell_type": "code",
   "execution_count": 1,
   "id": "3b8e807f",
   "metadata": {},
   "outputs": [],
   "source": [
    "import pandas as pd\n",
    "import numpy as np\n",
    "import matplotlib.pyplot as plt\n",
    "import seaborn as sns\n",
    "#import mplcursors\n",
    "%matplotlib inline"
   ]
  },
  {
   "cell_type": "code",
   "execution_count": 2,
   "id": "424cdcab",
   "metadata": {},
   "outputs": [],
   "source": [
    "# Data prep\n",
    "# Summary table location: https://drive.google.com/file/d/1ErkO9GKQ95acI7iFSx9Il56Ink5ZQwCd/view?usp=share_link\n",
    "# I have downloaded the CSV and manually added size and price multipliers for ease of identifying the scenarios"
   ]
  },
  {
   "cell_type": "markdown",
   "id": "66b05d28",
   "metadata": {},
   "source": [
    "Importing the data"
   ]
  },
  {
   "cell_type": "code",
   "execution_count": 3,
   "id": "58190f34",
   "metadata": {},
   "outputs": [],
   "source": [
    "df_consol=pd.read_csv(\"summaries_condensed_28Feb.csv\")"
   ]
  },
  {
   "cell_type": "code",
   "execution_count": 12,
   "id": "61d01153",
   "metadata": {},
   "outputs": [],
   "source": [
    "# can we try to make a persisant link?  I think google docs has a persistant link\n",
    "# I believe this link is persistant\n",
    "#df_consol=pd.read_csv(\"H:/.shortcut-targets-by-id/1xuAay2JQWDmg2wb0MD2Ft4mCSjufwjq3/BEAM CORE - LBNL NREL Collaboration/Task4 Deep Dive Analyses/3. Fleet Size -- and Multiple Fleets paper/data/mult_fleets/summaries_condensed_28Feb.csv\")\n",
    "\n",
    "AT Change\n",
    "\n",
    "AT change 2\n",
    "\n"
   ]
  },
  {
   "cell_type": "code",
   "execution_count": 13,
   "id": "fc0c25db",
   "metadata": {},
   "outputs": [],
   "source": [
    "df_consol_t=df_consol.T"
   ]
  },
  {
   "cell_type": "code",
   "execution_count": 14,
   "id": "5afedcaf",
   "metadata": {},
   "outputs": [],
   "source": [
    "df=df_consol_t"
   ]
  },
  {
   "cell_type": "code",
   "execution_count": 15,
   "id": "68f1d0cb",
   "metadata": {},
   "outputs": [],
   "source": [
    "new_header = df.iloc[0] #grab the first row for the header\n",
    "df = df[1:] #take the data less the header row\n",
    "df.columns = new_header #set the header row as the df header"
   ]
  },
  {
   "cell_type": "code",
   "execution_count": 16,
   "id": "4388ff91",
   "metadata": {},
   "outputs": [
    {
     "data": {
      "text/html": [
       "<div>\n",
       "<style scoped>\n",
       "    .dataframe tbody tr th:only-of-type {\n",
       "        vertical-align: middle;\n",
       "    }\n",
       "\n",
       "    .dataframe tbody tr th {\n",
       "        vertical-align: top;\n",
       "    }\n",
       "\n",
       "    .dataframe thead th {\n",
       "        text-align: right;\n",
       "    }\n",
       "</style>\n",
       "<table border=\"1\" class=\"dataframe\">\n",
       "  <thead>\n",
       "    <tr style=\"text-align: right;\">\n",
       "      <th>Unnamed: 0</th>\n",
       "      <th>Simulated Agents</th>\n",
       "      <th>Trips per Agent AV</th>\n",
       "      <th>Trip Vehicle Total</th>\n",
       "      <th>Trip Est Total</th>\n",
       "      <th>Trip Mode Total</th>\n",
       "      <th>Trip Replanning Total</th>\n",
       "      <th>Trip Exectuted Total</th>\n",
       "      <th>Trip Vehicle Walk</th>\n",
       "      <th>Trip Vehicle Bike</th>\n",
       "      <th>Trip Vehicle Car</th>\n",
       "      <th>...</th>\n",
       "      <th>Activities AV per person atwork</th>\n",
       "      <th>Activities AV per person eatout</th>\n",
       "      <th>Activities AV per person escort</th>\n",
       "      <th>Activities AV per person othdiscr</th>\n",
       "      <th>Activities AV per person othmaint</th>\n",
       "      <th>Activities AV per person school</th>\n",
       "      <th>Activities AV per person shopping</th>\n",
       "      <th>Activities AV per person social</th>\n",
       "      <th>Activities AV per person univ</th>\n",
       "      <th>Activities AV per person work</th>\n",
       "    </tr>\n",
       "  </thead>\n",
       "  <tbody>\n",
       "    <tr>\n",
       "      <th>Baseline</th>\n",
       "      <td>645541.0</td>\n",
       "      <td>3.844873</td>\n",
       "      <td>6906307.0</td>\n",
       "      <td>2482023.0</td>\n",
       "      <td>2513957.0</td>\n",
       "      <td>31952.0</td>\n",
       "      <td>2482005.0</td>\n",
       "      <td>2013575.0</td>\n",
       "      <td>34407.0</td>\n",
       "      <td>2483128.0</td>\n",
       "      <td>...</td>\n",
       "      <td>0.13893</td>\n",
       "      <td>0.181477</td>\n",
       "      <td>0.33188</td>\n",
       "      <td>0.208241</td>\n",
       "      <td>0.234413</td>\n",
       "      <td>0.195667</td>\n",
       "      <td>0.379895</td>\n",
       "      <td>0.093903</td>\n",
       "      <td>0.044206</td>\n",
       "      <td>0.528142</td>\n",
       "    </tr>\n",
       "    <tr>\n",
       "      <th>RH Price 0%</th>\n",
       "      <td>645539.0</td>\n",
       "      <td>3.847044</td>\n",
       "      <td>6899650.0</td>\n",
       "      <td>2483417.0</td>\n",
       "      <td>2586311.0</td>\n",
       "      <td>102970.0</td>\n",
       "      <td>2483341.0</td>\n",
       "      <td>2131740.0</td>\n",
       "      <td>39873.0</td>\n",
       "      <td>2438863.0</td>\n",
       "      <td>...</td>\n",
       "      <td>0.138052</td>\n",
       "      <td>0.182271</td>\n",
       "      <td>0.332535</td>\n",
       "      <td>0.209619</td>\n",
       "      <td>0.23457</td>\n",
       "      <td>0.195748</td>\n",
       "      <td>0.380656</td>\n",
       "      <td>0.094431</td>\n",
       "      <td>0.0441</td>\n",
       "      <td>0.528089</td>\n",
       "    </tr>\n",
       "    <tr>\n",
       "      <th>RH Price 12.5%</th>\n",
       "      <td>645478.0</td>\n",
       "      <td>3.844989</td>\n",
       "      <td>6892795.0</td>\n",
       "      <td>2481856.0</td>\n",
       "      <td>2553450.0</td>\n",
       "      <td>71618.0</td>\n",
       "      <td>2481832.0</td>\n",
       "      <td>2074810.0</td>\n",
       "      <td>37588.0</td>\n",
       "      <td>2449516.0</td>\n",
       "      <td>...</td>\n",
       "      <td>0.138776</td>\n",
       "      <td>0.181789</td>\n",
       "      <td>0.332151</td>\n",
       "      <td>0.208507</td>\n",
       "      <td>0.234391</td>\n",
       "      <td>0.195754</td>\n",
       "      <td>0.379474</td>\n",
       "      <td>0.094026</td>\n",
       "      <td>0.044173</td>\n",
       "      <td>0.527913</td>\n",
       "    </tr>\n",
       "    <tr>\n",
       "      <th>RH Price 25%</th>\n",
       "      <td>645515.0</td>\n",
       "      <td>3.844434</td>\n",
       "      <td>6897622.0</td>\n",
       "      <td>2481640.0</td>\n",
       "      <td>2539333.0</td>\n",
       "      <td>57699.0</td>\n",
       "      <td>2481634.0</td>\n",
       "      <td>2050623.0</td>\n",
       "      <td>36707.0</td>\n",
       "      <td>2459477.0</td>\n",
       "      <td>...</td>\n",
       "      <td>0.138855</td>\n",
       "      <td>0.18209</td>\n",
       "      <td>0.331862</td>\n",
       "      <td>0.208748</td>\n",
       "      <td>0.234459</td>\n",
       "      <td>0.195622</td>\n",
       "      <td>0.379139</td>\n",
       "      <td>0.093838</td>\n",
       "      <td>0.044118</td>\n",
       "      <td>0.527868</td>\n",
       "    </tr>\n",
       "    <tr>\n",
       "      <th>RH Price 50%</th>\n",
       "      <td>645474.0</td>\n",
       "      <td>3.846451</td>\n",
       "      <td>6904873.0</td>\n",
       "      <td>2482784.0</td>\n",
       "      <td>2526000.0</td>\n",
       "      <td>43226.0</td>\n",
       "      <td>2482774.0</td>\n",
       "      <td>2032205.0</td>\n",
       "      <td>35675.0</td>\n",
       "      <td>2474932.0</td>\n",
       "      <td>...</td>\n",
       "      <td>0.138992</td>\n",
       "      <td>0.182235</td>\n",
       "      <td>0.331869</td>\n",
       "      <td>0.208524</td>\n",
       "      <td>0.234583</td>\n",
       "      <td>0.195757</td>\n",
       "      <td>0.380035</td>\n",
       "      <td>0.093908</td>\n",
       "      <td>0.044053</td>\n",
       "      <td>0.527922</td>\n",
       "    </tr>\n",
       "  </tbody>\n",
       "</table>\n",
       "<p>5 rows × 4727 columns</p>\n",
       "</div>"
      ],
      "text/plain": [
       "Unnamed: 0     Simulated Agents  Trips per Agent AV  Trip Vehicle Total   \\\n",
       "Baseline                645541.0            3.844873           6906307.0   \n",
       "RH Price 0%             645539.0            3.847044           6899650.0   \n",
       "RH Price 12.5%          645478.0            3.844989           6892795.0   \n",
       "RH Price 25%            645515.0            3.844434           6897622.0   \n",
       "RH Price 50%            645474.0            3.846451           6904873.0   \n",
       "\n",
       "Unnamed: 0     Trip Est Total  Trip Mode Total  Trip Replanning Total   \\\n",
       "Baseline             2482023.0        2513957.0                31952.0   \n",
       "RH Price 0%          2483417.0        2586311.0               102970.0   \n",
       "RH Price 12.5%       2481856.0        2553450.0                71618.0   \n",
       "RH Price 25%         2481640.0        2539333.0                57699.0   \n",
       "RH Price 50%         2482784.0        2526000.0                43226.0   \n",
       "\n",
       "Unnamed: 0     Trip Exectuted Total  Trip Vehicle Walk Trip Vehicle Bike  \\\n",
       "Baseline                   2482005.0         2013575.0           34407.0   \n",
       "RH Price 0%                2483341.0         2131740.0           39873.0   \n",
       "RH Price 12.5%             2481832.0         2074810.0           37588.0   \n",
       "RH Price 25%               2481634.0         2050623.0           36707.0   \n",
       "RH Price 50%               2482774.0         2032205.0           35675.0   \n",
       "\n",
       "Unnamed: 0     Trip Vehicle Car  ... Activities AV per person atwork  \\\n",
       "Baseline              2483128.0  ...                         0.13893   \n",
       "RH Price 0%           2438863.0  ...                        0.138052   \n",
       "RH Price 12.5%        2449516.0  ...                        0.138776   \n",
       "RH Price 25%          2459477.0  ...                        0.138855   \n",
       "RH Price 50%          2474932.0  ...                        0.138992   \n",
       "\n",
       "Unnamed: 0     Activities AV per person eatout  \\\n",
       "Baseline                              0.181477   \n",
       "RH Price 0%                           0.182271   \n",
       "RH Price 12.5%                        0.181789   \n",
       "RH Price 25%                           0.18209   \n",
       "RH Price 50%                          0.182235   \n",
       "\n",
       "Unnamed: 0     Activities AV per person escort  \\\n",
       "Baseline                               0.33188   \n",
       "RH Price 0%                           0.332535   \n",
       "RH Price 12.5%                        0.332151   \n",
       "RH Price 25%                          0.331862   \n",
       "RH Price 50%                          0.331869   \n",
       "\n",
       "Unnamed: 0     Activities AV per person othdiscr  \\\n",
       "Baseline                                0.208241   \n",
       "RH Price 0%                             0.209619   \n",
       "RH Price 12.5%                          0.208507   \n",
       "RH Price 25%                            0.208748   \n",
       "RH Price 50%                            0.208524   \n",
       "\n",
       "Unnamed: 0     Activities AV per person othmaint  \\\n",
       "Baseline                                0.234413   \n",
       "RH Price 0%                              0.23457   \n",
       "RH Price 12.5%                          0.234391   \n",
       "RH Price 25%                            0.234459   \n",
       "RH Price 50%                            0.234583   \n",
       "\n",
       "Unnamed: 0     Activities AV per person school  \\\n",
       "Baseline                              0.195667   \n",
       "RH Price 0%                           0.195748   \n",
       "RH Price 12.5%                        0.195754   \n",
       "RH Price 25%                          0.195622   \n",
       "RH Price 50%                          0.195757   \n",
       "\n",
       "Unnamed: 0     Activities AV per person shopping  \\\n",
       "Baseline                                0.379895   \n",
       "RH Price 0%                             0.380656   \n",
       "RH Price 12.5%                          0.379474   \n",
       "RH Price 25%                            0.379139   \n",
       "RH Price 50%                            0.380035   \n",
       "\n",
       "Unnamed: 0     Activities AV per person social Activities AV per person univ  \\\n",
       "Baseline                              0.093903                      0.044206   \n",
       "RH Price 0%                           0.094431                        0.0441   \n",
       "RH Price 12.5%                        0.094026                      0.044173   \n",
       "RH Price 25%                          0.093838                      0.044118   \n",
       "RH Price 50%                          0.093908                      0.044053   \n",
       "\n",
       "Unnamed: 0     Activities AV per person work  \n",
       "Baseline                            0.528142  \n",
       "RH Price 0%                         0.528089  \n",
       "RH Price 12.5%                      0.527913  \n",
       "RH Price 25%                        0.527868  \n",
       "RH Price 50%                        0.527922  \n",
       "\n",
       "[5 rows x 4727 columns]"
      ]
     },
     "execution_count": 16,
     "metadata": {},
     "output_type": "execute_result"
    }
   ],
   "source": [
    "df.head()"
   ]
  },
  {
   "cell_type": "markdown",
   "id": "1c160700",
   "metadata": {},
   "source": [
    "Metrics we want: \n",
    "- Mode splits\n",
    "- VMT (including deadhead)\n",
    "- Speeds by mode\n",
    "\n",
    "How do these change with respect to:\n",
    "- Price\n",
    "- Fleet size"
   ]
  },
  {
   "cell_type": "code",
   "execution_count": 17,
   "id": "6a24ffcb",
   "metadata": {},
   "outputs": [
    {
     "ename": "KeyError",
     "evalue": "'Total fleet size'",
     "output_type": "error",
     "traceback": [
      "\u001b[1;31m---------------------------------------------------------------------------\u001b[0m",
      "\u001b[1;31mKeyError\u001b[0m                                  Traceback (most recent call last)",
      "\u001b[1;32m~\\anaconda3\\lib\\site-packages\\pandas\\core\\indexes\\base.py\u001b[0m in \u001b[0;36mget_loc\u001b[1;34m(self, key, method, tolerance)\u001b[0m\n\u001b[0;32m   3628\u001b[0m             \u001b[1;32mtry\u001b[0m\u001b[1;33m:\u001b[0m\u001b[1;33m\u001b[0m\u001b[1;33m\u001b[0m\u001b[0m\n\u001b[1;32m-> 3629\u001b[1;33m                 \u001b[1;32mreturn\u001b[0m \u001b[0mself\u001b[0m\u001b[1;33m.\u001b[0m\u001b[0m_engine\u001b[0m\u001b[1;33m.\u001b[0m\u001b[0mget_loc\u001b[0m\u001b[1;33m(\u001b[0m\u001b[0mcasted_key\u001b[0m\u001b[1;33m)\u001b[0m\u001b[1;33m\u001b[0m\u001b[1;33m\u001b[0m\u001b[0m\n\u001b[0m\u001b[0;32m   3630\u001b[0m             \u001b[1;32mexcept\u001b[0m \u001b[0mKeyError\u001b[0m \u001b[1;32mas\u001b[0m \u001b[0merr\u001b[0m\u001b[1;33m:\u001b[0m\u001b[1;33m\u001b[0m\u001b[1;33m\u001b[0m\u001b[0m\n",
      "\u001b[1;32m~\\anaconda3\\lib\\site-packages\\pandas\\_libs\\index.pyx\u001b[0m in \u001b[0;36mpandas._libs.index.IndexEngine.get_loc\u001b[1;34m()\u001b[0m\n",
      "\u001b[1;32m~\\anaconda3\\lib\\site-packages\\pandas\\_libs\\index.pyx\u001b[0m in \u001b[0;36mpandas._libs.index.IndexEngine.get_loc\u001b[1;34m()\u001b[0m\n",
      "\u001b[1;32mpandas\\_libs\\hashtable_class_helper.pxi\u001b[0m in \u001b[0;36mpandas._libs.hashtable.PyObjectHashTable.get_item\u001b[1;34m()\u001b[0m\n",
      "\u001b[1;32mpandas\\_libs\\hashtable_class_helper.pxi\u001b[0m in \u001b[0;36mpandas._libs.hashtable.PyObjectHashTable.get_item\u001b[1;34m()\u001b[0m\n",
      "\u001b[1;31mKeyError\u001b[0m: 'Total fleet size'",
      "\nThe above exception was the direct cause of the following exception:\n",
      "\u001b[1;31mKeyError\u001b[0m                                  Traceback (most recent call last)",
      "\u001b[1;32m~\\AppData\\Local\\Temp\\ipykernel_7740\\1238175916.py\u001b[0m in \u001b[0;36m<module>\u001b[1;34m\u001b[0m\n\u001b[1;32m----> 1\u001b[1;33m \u001b[0mdf\u001b[0m\u001b[1;33m[\u001b[0m\u001b[1;34m'Total fleet size'\u001b[0m\u001b[1;33m]\u001b[0m \u001b[1;33m=\u001b[0m \u001b[0mdf\u001b[0m\u001b[1;33m[\u001b[0m\u001b[1;34m'Total fleet size'\u001b[0m\u001b[1;33m]\u001b[0m\u001b[1;33m.\u001b[0m\u001b[0mstr\u001b[0m\u001b[1;33m.\u001b[0m\u001b[0mrstrip\u001b[0m\u001b[1;33m(\u001b[0m\u001b[1;34m\"%\"\u001b[0m\u001b[1;33m)\u001b[0m\u001b[1;33m.\u001b[0m\u001b[0mastype\u001b[0m\u001b[1;33m(\u001b[0m\u001b[0mfloat\u001b[0m\u001b[1;33m)\u001b[0m\u001b[1;33m/\u001b[0m\u001b[1;36m100\u001b[0m\u001b[1;33m\u001b[0m\u001b[1;33m\u001b[0m\u001b[0m\n\u001b[0m",
      "\u001b[1;32m~\\anaconda3\\lib\\site-packages\\pandas\\core\\frame.py\u001b[0m in \u001b[0;36m__getitem__\u001b[1;34m(self, key)\u001b[0m\n\u001b[0;32m   3503\u001b[0m             \u001b[1;32mif\u001b[0m \u001b[0mself\u001b[0m\u001b[1;33m.\u001b[0m\u001b[0mcolumns\u001b[0m\u001b[1;33m.\u001b[0m\u001b[0mnlevels\u001b[0m \u001b[1;33m>\u001b[0m \u001b[1;36m1\u001b[0m\u001b[1;33m:\u001b[0m\u001b[1;33m\u001b[0m\u001b[1;33m\u001b[0m\u001b[0m\n\u001b[0;32m   3504\u001b[0m                 \u001b[1;32mreturn\u001b[0m \u001b[0mself\u001b[0m\u001b[1;33m.\u001b[0m\u001b[0m_getitem_multilevel\u001b[0m\u001b[1;33m(\u001b[0m\u001b[0mkey\u001b[0m\u001b[1;33m)\u001b[0m\u001b[1;33m\u001b[0m\u001b[1;33m\u001b[0m\u001b[0m\n\u001b[1;32m-> 3505\u001b[1;33m             \u001b[0mindexer\u001b[0m \u001b[1;33m=\u001b[0m \u001b[0mself\u001b[0m\u001b[1;33m.\u001b[0m\u001b[0mcolumns\u001b[0m\u001b[1;33m.\u001b[0m\u001b[0mget_loc\u001b[0m\u001b[1;33m(\u001b[0m\u001b[0mkey\u001b[0m\u001b[1;33m)\u001b[0m\u001b[1;33m\u001b[0m\u001b[1;33m\u001b[0m\u001b[0m\n\u001b[0m\u001b[0;32m   3506\u001b[0m             \u001b[1;32mif\u001b[0m \u001b[0mis_integer\u001b[0m\u001b[1;33m(\u001b[0m\u001b[0mindexer\u001b[0m\u001b[1;33m)\u001b[0m\u001b[1;33m:\u001b[0m\u001b[1;33m\u001b[0m\u001b[1;33m\u001b[0m\u001b[0m\n\u001b[0;32m   3507\u001b[0m                 \u001b[0mindexer\u001b[0m \u001b[1;33m=\u001b[0m \u001b[1;33m[\u001b[0m\u001b[0mindexer\u001b[0m\u001b[1;33m]\u001b[0m\u001b[1;33m\u001b[0m\u001b[1;33m\u001b[0m\u001b[0m\n",
      "\u001b[1;32m~\\anaconda3\\lib\\site-packages\\pandas\\core\\indexes\\base.py\u001b[0m in \u001b[0;36mget_loc\u001b[1;34m(self, key, method, tolerance)\u001b[0m\n\u001b[0;32m   3629\u001b[0m                 \u001b[1;32mreturn\u001b[0m \u001b[0mself\u001b[0m\u001b[1;33m.\u001b[0m\u001b[0m_engine\u001b[0m\u001b[1;33m.\u001b[0m\u001b[0mget_loc\u001b[0m\u001b[1;33m(\u001b[0m\u001b[0mcasted_key\u001b[0m\u001b[1;33m)\u001b[0m\u001b[1;33m\u001b[0m\u001b[1;33m\u001b[0m\u001b[0m\n\u001b[0;32m   3630\u001b[0m             \u001b[1;32mexcept\u001b[0m \u001b[0mKeyError\u001b[0m \u001b[1;32mas\u001b[0m \u001b[0merr\u001b[0m\u001b[1;33m:\u001b[0m\u001b[1;33m\u001b[0m\u001b[1;33m\u001b[0m\u001b[0m\n\u001b[1;32m-> 3631\u001b[1;33m                 \u001b[1;32mraise\u001b[0m \u001b[0mKeyError\u001b[0m\u001b[1;33m(\u001b[0m\u001b[0mkey\u001b[0m\u001b[1;33m)\u001b[0m \u001b[1;32mfrom\u001b[0m \u001b[0merr\u001b[0m\u001b[1;33m\u001b[0m\u001b[1;33m\u001b[0m\u001b[0m\n\u001b[0m\u001b[0;32m   3632\u001b[0m             \u001b[1;32mexcept\u001b[0m \u001b[0mTypeError\u001b[0m\u001b[1;33m:\u001b[0m\u001b[1;33m\u001b[0m\u001b[1;33m\u001b[0m\u001b[0m\n\u001b[0;32m   3633\u001b[0m                 \u001b[1;31m# If we have a listlike key, _check_indexing_error will raise\u001b[0m\u001b[1;33m\u001b[0m\u001b[1;33m\u001b[0m\u001b[0m\n",
      "\u001b[1;31mKeyError\u001b[0m: 'Total fleet size'"
     ]
    }
   ],
   "source": [
    "df['Total fleet size'] = df['Total fleet size'].str.rstrip(\"%\").astype(float)/100"
   ]
  },
  {
   "cell_type": "code",
   "execution_count": null,
   "id": "74427123",
   "metadata": {},
   "outputs": [],
   "source": [
    "df['RH Pooled Price'] = df['RH Pooled Price'].str.rstrip(\"%\").astype(float)/100"
   ]
  },
  {
   "cell_type": "code",
   "execution_count": null,
   "id": "e2d7e5fc",
   "metadata": {},
   "outputs": [],
   "source": [
    "df['Price Multiplier'] = df['RH Pooled Price']"
   ]
  },
  {
   "cell_type": "code",
   "execution_count": null,
   "id": "912aece7",
   "metadata": {},
   "outputs": [],
   "source": [
    "df['RH Solo Price'] = df['RH Solo Price'].str.rstrip(\"%\").astype(float)/100"
   ]
  },
  {
   "cell_type": "code",
   "execution_count": null,
   "id": "c2a29e34",
   "metadata": {},
   "outputs": [],
   "source": [
    "df['Size Multiplier'] = df['Total fleet size']"
   ]
  },
  {
   "cell_type": "code",
   "execution_count": null,
   "id": "bd82f2ce",
   "metadata": {},
   "outputs": [],
   "source": [
    "df = df.apply(pd.to_numeric, errors='coerce')"
   ]
  },
  {
   "cell_type": "code",
   "execution_count": null,
   "id": "e3336f76",
   "metadata": {},
   "outputs": [],
   "source": [
    "df.dtypes"
   ]
  },
  {
   "cell_type": "code",
   "execution_count": null,
   "id": "0e6848aa",
   "metadata": {},
   "outputs": [],
   "source": [
    "df['Trip Mode Share Transit'] = df['Trip Mode Share Walk-Transit'] +df['Trip Mode Share Drive-Transit'] + df['Trip Mode Share Bike-Transit']\n",
    "#df['Trip Mode Share Rail']\n",
    "#df['Trip Mode Share Car']\n",
    "#df['Trip Mode Share HOV3 Passenger']\n",
    "#df['Trip Mode Share Bike']\n",
    "#df['Trip Mode Share HOV2 Passenger']\n",
    "#df['Trip Mode Share Walk']\n",
    "#df['Trip Mode Share HOV2 Driver']\n",
    "#df['Trip Mode Share HOV3 Driver']\n",
    "#df['Trip Mode Share Walk-Transit']\n",
    "#df['Trip Mode Share Ride Hail']\n",
    "#df['Trip Mode Share Ride Hail-Transit']\n",
    "#df['Trip Mode Share Ride Hail Pooled']\n",
    "#df['Trip Mode Share Drive-Transit']\n",
    "#df['Trip Mode Share Cable Car']\n",
    "#df['Trip Mode Share Bike-Transit']"
   ]
  },
  {
   "cell_type": "code",
   "execution_count": null,
   "id": "99ba1195",
   "metadata": {},
   "outputs": [],
   "source": [
    "df['Trip Mode Share Drive Modes'] = df['Trip Mode Share Car'] + df['Trip Mode Share HOV2 Driver'] + df['Trip Mode Share HOV3 Driver']"
   ]
  },
  {
   "cell_type": "code",
   "execution_count": null,
   "id": "69d164e5",
   "metadata": {},
   "outputs": [],
   "source": [
    "df['Trip Mode Share Ride Hail Total'] = df['Trip Mode Share Ride Hail Pooled'] + df['Trip Mode Share Ride Hail']"
   ]
  },
  {
   "cell_type": "code",
   "execution_count": null,
   "id": "4405ef23",
   "metadata": {},
   "outputs": [],
   "source": [
    "df['Trip Exec Share Ride Hail Total'] = df['Trip Exec Share Ride Hail'] + df['Trip Exec Share Ride Hail Pooled']"
   ]
  },
  {
   "cell_type": "code",
   "execution_count": null,
   "id": "4c03ab71",
   "metadata": {},
   "outputs": [],
   "source": [
    "df"
   ]
  },
  {
   "cell_type": "code",
   "execution_count": null,
   "id": "26c25ca7",
   "metadata": {},
   "outputs": [],
   "source": [
    "df['Car_Exec_Total']=df['Trip Exec Share Car'] + df['Trip Exec Share HOV3 Passenger'] + df['Trip Exec Share HOV2 Passenger'] + df['Trip Exec Share HOV2 Driver'] + df['Trip Exec Share HOV3 Driver']\n",
    "\n",
    "df['Transit_Exec_Total']=df['Trip Exec Share Walk-Transit'] + df['Trip Exec Share Drive-Transit']+ df['Trip Exec Share Bike-Transit'] + df['Trip Mode Share Bike-Transit']"
   ]
  },
  {
   "cell_type": "code",
   "execution_count": null,
   "id": "ccb63490",
   "metadata": {},
   "outputs": [],
   "source": [
    "df['Bus_Diff']=df['Trip Exec Share Bus']-df['Trip Mode Share Bus']\n",
    "\n",
    "df['Subway_Diff']=df['Trip Exec Share Subway']-df['Trip Mode Share Subway']\n",
    "\n",
    "df['Tram_Diff']=df['Trip Exec Share Tram']-df['Trip Mode Share Tram']\n",
    "\n",
    "df['Rail_Diff']=df['Trip Exec Share Rail']-df['Trip Mode Share Rail']\n",
    "\n",
    "df['Car_Diff']=df['Trip Exec Share Car']-df['Trip Mode Share Car']\n",
    "\n",
    "df['HOV3 Passenger_Diff']=df['Trip Exec Share HOV3 Passenger']-df['Trip Mode Share HOV3 Passenger']\n",
    "\n",
    "df['Bike_Diff']=df['Trip Exec Share Bike']-df['Trip Mode Share Bike']\n",
    "\n",
    "df['HOV2 Passenger_Diff']=df['Trip Exec Share HOV2 Passenger']-df['Trip Mode Share HOV2 Passenger']\n",
    "\n",
    "df['Walk_Diff']=df['Trip Exec Share Walk']-df['Trip Mode Share Walk']\n",
    "\n",
    "df['HOV2 Driver_Diff']=df['Trip Exec Share HOV2 Driver']-df['Trip Mode Share HOV2 Driver']\n",
    "\n",
    "df['HOV3 Driver_Diff']=df['Trip Exec Share HOV3 Driver']-df['Trip Mode Share HOV3 Driver']\n",
    "\n",
    "df['Walk-Transit_Diff']=df['Trip Exec Share Walk-Transit']-df['Trip Mode Share Walk-Transit']\n",
    "\n",
    "df['Ride Hail_Diff']=df['Trip Exec Share Ride Hail']-df['Trip Mode Share Ride Hail']\n",
    "\n",
    "df['Ride Hail-Transit_Diff']=df['Trip Exec Share Ride Hail-Transit']-df['Trip Mode Share Ride Hail-Transit']\n",
    "\n",
    "df['Ride Hail Pooled_Diff']=df['Trip Exec Share Ride Hail Pooled']-df['Trip Mode Share Ride Hail Pooled']\n",
    "\n",
    "df['Drive-Transit_Diff']=df['Trip Exec Share Drive-Transit']-df['Trip Mode Share Drive-Transit']\n",
    "\n",
    "df['Cable Car_Diff']=df['Trip Exec Share Cable Car']-df['Trip Mode Share Cable Car']\n",
    "\n",
    "df['Bike-Transit_Diff']=df['Trip Exec Share Bike-Transit']-df['Trip Mode Share Bike-Transit']"
   ]
  },
  {
   "cell_type": "markdown",
   "id": "8cc21b25",
   "metadata": {},
   "source": [
    "## Plots for presentation"
   ]
  },
  {
   "cell_type": "code",
   "execution_count": null,
   "id": "07da1590",
   "metadata": {},
   "outputs": [],
   "source": [
    "df['Car_Diff']"
   ]
  },
  {
   "cell_type": "code",
   "execution_count": null,
   "id": "878d8e64",
   "metadata": {},
   "outputs": [],
   "source": [
    "df['Car Modes_Diff'] =  df['Car_Diff'] + df['HOV3 Passenger_Diff'] + df['HOV2 Passenger_Diff'] + df['HOV2 Driver_Diff'] + df['HOV3 Driver_Diff']"
   ]
  },
  {
   "cell_type": "code",
   "execution_count": null,
   "id": "8be4b4cd",
   "metadata": {},
   "outputs": [],
   "source": [
    "df['Car Modes_Diff']"
   ]
  },
  {
   "cell_type": "code",
   "execution_count": null,
   "id": "085880c4",
   "metadata": {},
   "outputs": [],
   "source": [
    "df.drop(columns=['HOV3 Passenger_Diff','HOV3 Driver_Diff', 'HOV2 Passenger_Diff', 'HOV2 Driver_Diff', 'Car_Diff'], axis=1, inplace=True)"
   ]
  },
  {
   "cell_type": "code",
   "execution_count": null,
   "id": "968c9e10",
   "metadata": {},
   "outputs": [],
   "source": [
    "df.drop(columns=['Cable Car_Diff','Bus_Diff', 'Subway_Diff', 'Tram_Diff', 'Rail_Diff'], axis=1, inplace=True)"
   ]
  },
  {
   "cell_type": "code",
   "execution_count": null,
   "id": "1bbceeba",
   "metadata": {},
   "outputs": [],
   "source": [
    "## Annika add colums whose names match Nazanin's summaries in order to merge"
   ]
  },
  {
   "cell_type": "code",
   "execution_count": null,
   "id": "ab12775b",
   "metadata": {},
   "outputs": [],
   "source": [
    "df.['lever_n_fleets'] = df['Number of fleets']\n",
    "df.['lever_position_fltsz'] = df['Total fleet size']\n",
    "df.['lever_position_price'] = df['RH Pooled Price']\n",
    "# Need something here that changes this from 0 to mixed to be able to join\n"
   ]
  },
  {
   "cell_type": "markdown",
   "id": "87689cd0",
   "metadata": {},
   "source": [
    "## Summary for DataLens spreadsheet"
   ]
  },
  {
   "cell_type": "code",
   "execution_count": null,
   "id": "11fe1e63",
   "metadata": {},
   "outputs": [],
   "source": [
    "df.columns"
   ]
  },
  {
   "cell_type": "code",
   "execution_count": null,
   "id": "7ac2048c",
   "metadata": {},
   "outputs": [],
   "source": [
    "df['Pooling Success Rate'] = df['Trip Exec Share Ride Hail Pooled']/df['Trip Mode Share Ride Hail Pooled']"
   ]
  },
  {
   "cell_type": "code",
   "execution_count": null,
   "id": "a148bd95",
   "metadata": {},
   "outputs": [],
   "source": [
    "df_table=df.loc[:,['Length VehicleSUM [km]',\n",
    "'Pooling Success Rate',\n",
    "'Car_Exec_Total',\n",
    "'Transit_Exec_Total',\n",
    "'Trip Exec Share Bike',\n",
    "'Trip Exec Share Walk',\n",
    "'Trip Exec Share Ride Hail',\n",
    "'Trip Exec Share Ride Hail Pooled',\n",
    "'Energy VehicleSUM [GJ]',\n",
    "'Energy Vehicle SUM Walk [GJ]',\n",
    "'Energy Vehicle SUM Bike [GJ]',\n",
    "'Energy Vehicle SUM Car [GJ]',\n",
    "'Energy Vehicle SUM Car Emergency [GJ]',\n",
    "'Energy Vehicle SUM Car HOV2 Emergency [GJ]',\n",
    "'Energy Vehicle SUM Car HOV3 Emergency [GJ]',\n",
    "'Energy Vehicle SUM Ride Hail [GJ]',\n",
    "'Energy Vehicle SUM Empty Ride Hail [GJ]',\n",
    "'Energy Vehicle SUM Car HOV2 [GJ]',\n",
    "'Energy Vehicle SUM Car HOV3 [GJ]',\n",
    "'Energy Vehicle SUM Bus [GJ]',\n",
    "'Energy Vehicle SUM Empty Bus [GJ]',\n",
    "'Length Vehicle SUM Empty Ride Hail [km]']]"
   ]
  },
  {
   "cell_type": "code",
   "execution_count": null,
   "id": "9028eb55",
   "metadata": {},
   "outputs": [],
   "source": [
    "df_table.to_csv('data_table.csv')"
   ]
  },
  {
   "cell_type": "code",
   "execution_count": null,
   "id": "8d25f892",
   "metadata": {},
   "outputs": [],
   "source": [
    "# Baseline_price and baseline_size dataframes"
   ]
  },
  {
   "cell_type": "code",
   "execution_count": null,
   "id": "084bdec3",
   "metadata": {},
   "outputs": [],
   "source": [
    "constant_price = df[df['Price Multiplier'] == 1]"
   ]
  },
  {
   "cell_type": "code",
   "execution_count": null,
   "id": "86c9fec0",
   "metadata": {},
   "outputs": [],
   "source": [
    "constant_size = df[df['Size Multiplier'] == 1]"
   ]
  },
  {
   "cell_type": "code",
   "execution_count": null,
   "id": "feb95b09",
   "metadata": {},
   "outputs": [],
   "source": [
    "constant_size = constant_size.sort_values(by=['Price Multiplier'])"
   ]
  },
  {
   "cell_type": "code",
   "execution_count": null,
   "id": "de303a10",
   "metadata": {},
   "outputs": [],
   "source": [
    "constant_price = constant_price.sort_values(by=['Size Multiplier'])"
   ]
  },
  {
   "cell_type": "code",
   "execution_count": null,
   "id": "15aeee3f",
   "metadata": {},
   "outputs": [],
   "source": [
    "constant_size"
   ]
  },
  {
   "cell_type": "code",
   "execution_count": null,
   "id": "45133bcc",
   "metadata": {},
   "outputs": [],
   "source": [
    "constant_size['Trip Mode Share Ride Hail Total']"
   ]
  },
  {
   "cell_type": "code",
   "execution_count": null,
   "id": "2e43833a",
   "metadata": {},
   "outputs": [],
   "source": [
    "from matplotlib.ticker import StrMethodFormatter\n",
    "import matplotlib.ticker as ticker\n",
    "sns.set_style(\"whitegrid\",{ \"grid.linestyle\": \":\"})\n",
    "sns.set(rc={'figure.figsize':(11.7,8.27)})\n",
    "plt.rc('legend', fontsize= 22)\n",
    "plt.rc('xtick', labelsize= 22)    # fontsize of the tick labels\n",
    "plt.rc('ytick', labelsize= 22)    # fontsize of the tick labels\n",
    "plt.gca().yaxis.set_major_formatter(StrMethodFormatter('{x:,.1f}')) # 2 significant figures\n",
    "plt.gca().xaxis.set_major_formatter(StrMethodFormatter('{x:,.1f}')) "
   ]
  },
  {
   "cell_type": "code",
   "execution_count": null,
   "id": "0fadaab3",
   "metadata": {},
   "outputs": [],
   "source": [
    "s1 = 22\n",
    "m1 = 16"
   ]
  },
  {
   "cell_type": "code",
   "execution_count": null,
   "id": "9dfb27df",
   "metadata": {
    "scrolled": true
   },
   "outputs": [],
   "source": [
    "x=constant_size['Price Multiplier']\n",
    "y=constant_size['Trip Exec Share Ride Hail Total']\n",
    "z=constant_size['Trip Mode Share Ride Hail Total']\n",
    "\n",
    "sns.set_style(\"whitegrid\",{ \"grid.linestyle\": \":\"})\n",
    "plt.rc('legend', fontsize= 22)\n",
    "plt.rc('xtick', labelsize= 22)    # fontsize of the tick labels\n",
    "plt.rc('ytick', labelsize= 22)    # fontsize of the tick labels\n",
    "#plt.gca().yaxis.set_major_formatter(StrMethodFormatter('{x:,.2f}')) # 2 decimal places\n",
    "plt.gca().xaxis.set_major_formatter(StrMethodFormatter('{x:,.2f}')) # 2 decimal places\n",
    "\n",
    "# multiple lines with legend\n",
    "plt.plot(x,y, marker='.', markersize = m1, label= 'After replanning')\n",
    "plt.plot(x,z, marker='.', markersize = m1, label = 'Before replanning')\n",
    "plt.ylabel(\"Total Ridehail (Solo + Pooled) Mode Share\", size = s1)\n",
    "plt.xlabel(\"Price multiplier\", size = s1)\n",
    "#plt.xticks([0, 1, 2, 3, 4, 5, 6, 7, 8])\n",
    "plt.savefig('mode_shares/rh_replan.eps')\n",
    "plt.legend();"
   ]
  },
  {
   "cell_type": "code",
   "execution_count": null,
   "id": "93f5c428",
   "metadata": {},
   "outputs": [],
   "source": [
    "constant_size['Price Multiplier'].value_counts()"
   ]
  },
  {
   "cell_type": "code",
   "execution_count": null,
   "id": "6a2a46ee",
   "metadata": {},
   "outputs": [],
   "source": [
    "constant_size.plot.bar(x = 'Price Multiplier', y = ['Trip Exec Share Ride Hail Total', 'Trip Mode Share Ride Hail Total'], rot = 40)\n",
    "sns.set_style(\"whitegrid\",{ \"grid.linestyle\": \":\"})\n",
    "plt.rc('legend', fontsize= 22)\n",
    "plt.rc('xtick', labelsize= 22)    # fontsize of the tick labels\n",
    "plt.rc('ytick', labelsize= 22)    # fontsize of the tick labels\n",
    "#plt.gca().yaxis.set_major_formatter(StrMethodFormatter('{x:,.2f}')) # 2 decimal places\n",
    "plt.gca().xaxis.set_major_formatter(StrMethodFormatter('{x:,.2f}')) # 2 decimal places\n",
    "\n",
    "plt.ylabel(\"Total Ridehail (Solo + Pooled) Mode Share\", size = s1)\n",
    "plt.xlabel(\"Price multiplier\", size = s1)\n",
    "L=plt.legend()\n",
    "L.get_texts()[0].set_text('After replanning')\n",
    "L.get_texts()[1].set_text('Before replanning')\n",
    "plt.savefig('mode_shares/rh_replan_price_barplot.eps')"
   ]
  },
  {
   "cell_type": "code",
   "execution_count": null,
   "id": "178fc4b3",
   "metadata": {},
   "outputs": [],
   "source": [
    "constant_price.plot.bar(x = 'Size Multiplier', y = ['Trip Exec Share Ride Hail Total', 'Trip Mode Share Ride Hail Total'], rot = 40)\n",
    "#plt.rc('legend', fontsize= s1)\n",
    "#plt.rc('xtick', labelsize= s1)    # fontsize of the tick labels\n",
    "#plt.rc('ytick', labelsize= s1)    # fontsize of the tick labels\n",
    "#plt.gca().yaxis.set_major_formatter(StrMethodFormatter('{x:,.3f}')) # 2 decimal places\n",
    "#plt.gca().xaxis.set_major_formatter(StrMethodFormatter('{x:,.2f}')) # 2 decimal places\n",
    "plt.ylabel(\"Total Ridehail (Solo + Pooled) Mode Share\", size = s1)\n",
    "plt.xlabel(\"Fleet size multiplier\", size = s1)\n",
    "L=plt.legend()\n",
    "L.get_texts()[0].set_text('After replanning')\n",
    "L.get_texts()[1].set_text('Before replanning')\n",
    "plt.savefig('mode_shares/rh_replan_size_barplot.eps')"
   ]
  },
  {
   "cell_type": "code",
   "execution_count": null,
   "id": "4185ca8a",
   "metadata": {},
   "outputs": [],
   "source": [
    "x=constant_size['Price Multiplier']\n",
    "y=constant_size['Trip Exec Share Ride Hail Total']\n",
    "z=constant_size['Trip Mode Share Ride Hail Total']\n",
    "\n",
    "plt.rc('legend', fontsize= s1)\n",
    "plt.rc('xtick', labelsize= s1)    # fontsize of the tick labels\n",
    "plt.rc('ytick', labelsize= s1)    # fontsize of the tick labels\n",
    "plt.gca().yaxis.set_major_formatter(StrMethodFormatter('{x:,.3f}')) # 2 decimal places\n",
    "plt.gca().xaxis.set_major_formatter(StrMethodFormatter('{x:,.2f}')) # 2 decimal places\n",
    "\n",
    "\n",
    "# multiple lines with legend\n",
    "plt.plot(x,y,marker='.', color='r', markersize = m1, label= 'After replanning')\n",
    "plt.plot(x,z, marker = '+', color = 'g', markersize = m1, label = 'Before replanning')\n",
    "plt.ylabel(\"Total Ridehail (Solo + Pooled) Mode Share\", size = s1)\n",
    "plt.xlabel(\"Price multiplier\", size = s1)\n",
    "plt.xticks([0, 1, 2, 3, 4, 5, 6, 7, 8])\n",
    "plt.savefig('mode_shares/rh_replan_price.eps')\n",
    "plt.legend();"
   ]
  },
  {
   "cell_type": "code",
   "execution_count": null,
   "id": "fb963b63",
   "metadata": {},
   "outputs": [],
   "source": [
    "x=constant_price['Size Multiplier']\n",
    "y=constant_price['Trip Exec Share Ride Hail Total']\n",
    "z=constant_price['Trip Mode Share Ride Hail Total']\n",
    "\n",
    "plt.rc('legend', fontsize= s1)\n",
    "plt.rc('xtick', labelsize= s1)    # fontsize of the tick labels\n",
    "plt.rc('ytick', labelsize= s1)    # fontsize of the tick labels\n",
    "plt.gca().yaxis.set_major_formatter(StrMethodFormatter('{x:,.3f}')) # 2 decimal places\n",
    "plt.gca().xaxis.set_major_formatter(StrMethodFormatter('{x:,.2f}')) # 2 decimal places\n",
    "\n",
    "# multiple lines with legend\n",
    "plt.plot(x,y,marker='.', color='r', label= 'After replanning')\n",
    "plt.plot(x,z, marker = '+', color = 'g',label = 'Before replanning')\n",
    "plt.ylabel(\"Total Ridehail (Solo + Pooled) Mode Share\", size = s1)\n",
    "plt.xlabel(\"Fleet size multiplier\", size = s1)\n",
    "plt.xticks([0, 2.5, 5, 10, 15, 20, 25, 27.5, 30])\n",
    "plt.savefig('mode_shares/rh_replan_size.eps')\n",
    "plt.legend();"
   ]
  },
  {
   "cell_type": "code",
   "execution_count": null,
   "id": "cb8ce36b",
   "metadata": {},
   "outputs": [],
   "source": [
    "df.head()"
   ]
  },
  {
   "cell_type": "code",
   "execution_count": null,
   "id": "ea698a38",
   "metadata": {},
   "outputs": [],
   "source": [
    "# Plotting where the change in demand goes\n",
    "X = ['Bike',\n",
    "'Walk',\n",
    "'Walk-Transit',\n",
    "'Ride Hail',\n",
    "'Ride Hail-Transit',\n",
    "'Ride Hail Pooled',\n",
    "'Drive-Transit',\n",
    "'Bike-Transit',\n",
    "'Car Modes']\n",
    "\n",
    "# Manually change location of \n",
    "# RH Price 0% : row number 0\n",
    "differences = constant_size.iloc[0,-len(X):]"
   ]
  },
  {
   "cell_type": "code",
   "execution_count": null,
   "id": "5fc23ee6",
   "metadata": {},
   "outputs": [],
   "source": [
    "differences"
   ]
  },
  {
   "cell_type": "code",
   "execution_count": null,
   "id": "0b260f09",
   "metadata": {},
   "outputs": [],
   "source": [
    "X_axis = np.arange(len(X))\n",
    "  \n",
    "plt.bar(X_axis - 0.2, differences, 0.4)\n",
    "\n",
    "plt.rc('legend', fontsize= s1)\n",
    "plt.rc('xtick', labelsize= s1)    # fontsize of the tick labels\n",
    "plt.rc('ytick', labelsize= s1)    # fontsize of the tick labels \n",
    "\n",
    "plt.xticks(X_axis, X)\n",
    "plt.xlabel(\"Mode\", size = s1)\n",
    "plt.xticks(rotation = 60)\n",
    "plt.ylabel(\"Change in Mode Share after replanning (Scenario: 0% RH Price)\", size = s1)\n",
    "plt.savefig('mode_shares/replanning_modes_change.eps')"
   ]
  },
  {
   "cell_type": "code",
   "execution_count": null,
   "id": "4cc5da89",
   "metadata": {},
   "outputs": [],
   "source": [
    "# Scaling VMTs\n",
    "constant_size['Length Vehicle SUM Empty Ride Hail [km]'] = constant_size['Length Vehicle SUM Empty Ride Hail [km]'] * 10\n",
    "constant_price['Length Vehicle SUM Empty Ride Hail [km]'] = constant_price['Length Vehicle SUM Empty Ride Hail [km]'] * 10\n",
    "\n",
    "constant_size['Length VehicleSUM [km]'] = constant_size['Length VehicleSUM [km]'] * 10\n",
    "constant_price['Length VehicleSUM [km]'] = constant_price['Length VehicleSUM [km]'] * 10"
   ]
  },
  {
   "cell_type": "code",
   "execution_count": null,
   "id": "b35e9b2b",
   "metadata": {},
   "outputs": [],
   "source": [
    "sns.set_style(\"whitegrid\")\n",
    "plt.rc('legend', fontsize= s1)\n",
    "plt.rc('xtick', labelsize= s1)    # fontsize of the tick labels\n",
    "plt.rc('ytick', labelsize= s1)    # fontsize of the tick labels\n",
    "#plt.gca().yaxis.set_major_formatter(StrMethodFormatter('{x:,.2f}')) # 2 decimal places\n",
    "plt.gca().xaxis.set_major_formatter(StrMethodFormatter('{x:,.2f}')) # 2 decimal places\n",
    "\n",
    "ax =sns.lineplot(\n",
    "    data=constant_size,\n",
    "    x=\"Price Multiplier\", \n",
    "    y=\"Length Vehicle SUM Empty Ride Hail [km]\",\n",
    "    marker='.', markersize = m1)\n",
    "plt.ylabel(\"Total Deadhead VMT [km]\", size = s1)\n",
    "plt.xlabel(\"Price multiplier\", size =s1)\n",
    "plt.savefig('vmt/total_dead_vmt_price.eps')\n",
    "#plt.legend();"
   ]
  },
  {
   "cell_type": "code",
   "execution_count": null,
   "id": "366d08c4",
   "metadata": {},
   "outputs": [],
   "source": [
    "sns.set_style(\"whitegrid\")\n",
    "plt.rc('legend', fontsize= s1)\n",
    "plt.rc('xtick', labelsize= s1)    # fontsize of the tick labels\n",
    "plt.rc('ytick', labelsize= s1)    # fontsize of the tick labels\n",
    "#plt.gca().yaxis.set_major_formatter(StrMethodFormatter('{x:,.2f}')) # 2 decimal places\n",
    "plt.gca().xaxis.set_major_formatter(StrMethodFormatter('{x:,.2f}')) # 2 decimal places\n",
    "\n",
    "ax =sns.lineplot(\n",
    "    data=constant_price,\n",
    "    x=\"Size Multiplier\", \n",
    "    y=\"Length Vehicle SUM Empty Ride Hail [km]\",\n",
    "    marker='.', markersize = m1)\n",
    "plt.ylabel(\"Total Deadhead VMT [km]\", size = s1)\n",
    "plt.xlabel(\"Fleet size multiplier\", size = s1)\n",
    "plt.savefig('vmt/total_dead_vmt_size.eps')\n",
    "#plt.legend();"
   ]
  },
  {
   "cell_type": "code",
   "execution_count": null,
   "id": "f8b31d63",
   "metadata": {},
   "outputs": [],
   "source": [
    "constant_size['vmt_pc_diff']=((constant_size['Length VehicleSUM [km]'] - constant_size['Length VehicleSUM [km]'].iloc[4])/constant_size['Length VehicleSUM [km]'].iloc[4]) # minus baseline\n"
   ]
  },
  {
   "cell_type": "code",
   "execution_count": null,
   "id": "705c91ca",
   "metadata": {},
   "outputs": [],
   "source": [
    "constant_size['dead_vmt_pc_diff']=((constant_size['Length Vehicle SUM Empty Ride Hail [km]']-constant_size['Length Vehicle SUM Empty Ride Hail [km]'].iloc[4])/constant_size['Length Vehicle SUM Empty Ride Hail [km]'].iloc[4]) # minus baseline"
   ]
  },
  {
   "cell_type": "code",
   "execution_count": null,
   "id": "2f44e9de",
   "metadata": {},
   "outputs": [],
   "source": [
    "constant_size.plot.bar(x = 'Price Multiplier', y = ['vmt_pc_diff', 'dead_vmt_pc_diff'], rot = 40)\n",
    "plt.rc('legend', fontsize= s1)\n",
    "plt.rc('xtick', labelsize= s1)    # fontsize of the tick labels\n",
    "plt.rc('ytick', labelsize= s1)    # fontsize of the tick labels\n",
    "#plt.gca().yaxis.set_major_formatter(StrMethodFormatter('{x:,.3f}')) # 2 decimal places\n",
    "#plt.gca().xaxis.set_major_formatter(StrMethodFormatter('{x:,.2f}')) # 2 decimal places\n",
    "plt.ylabel(\"Difference in VMT with respect to the baseline [%]\", size = s1)\n",
    "plt.xlabel(\"Price multiplier\", size = s1)\n",
    "L=plt.legend()\n",
    "L.get_texts()[0].set_text('Total VMT')\n",
    "L.get_texts()[1].set_text('Deadhead VMT')\n",
    "plt.savefig('vmt/vmt_diff_barplot_price.eps')"
   ]
  },
  {
   "cell_type": "code",
   "execution_count": null,
   "id": "791a2675",
   "metadata": {},
   "outputs": [],
   "source": [
    "constant_price['dead_vmt_pc_diff']=((constant_price['Length Vehicle SUM Empty Ride Hail [km]']-constant_price['Length Vehicle SUM Empty Ride Hail [km]'].iloc[4])/constant_price['Length Vehicle SUM Empty Ride Hail [km]'].iloc[4]) # minus baseline"
   ]
  },
  {
   "cell_type": "code",
   "execution_count": null,
   "id": "4acf5b00",
   "metadata": {},
   "outputs": [],
   "source": [
    "constant_price['vmt_pc_diff']=((constant_price['Length VehicleSUM [km]'] - constant_price['Length VehicleSUM [km]'].iloc[4])/constant_price['Length VehicleSUM [km]'].iloc[4]) # minus baseline"
   ]
  },
  {
   "cell_type": "code",
   "execution_count": null,
   "id": "a2c97527",
   "metadata": {},
   "outputs": [],
   "source": [
    "constant_price.plot.bar(x = 'Size Multiplier', y = ['vmt_pc_diff', 'dead_vmt_pc_diff'], rot = 40)\n",
    "plt.rc('legend', fontsize= s1)\n",
    "plt.rc('xtick', labelsize= s1)    # fontsize of the tick labels\n",
    "plt.rc('ytick', labelsize= s1)    # fontsize of the tick labels\n",
    "#plt.gca().yaxis.set_major_formatter(StrMethodFormatter('{x:,.3f}')) # 2 decimal places\n",
    "#plt.gca().xaxis.set_major_formatter(StrMethodFormatter('{x:,.2f}')) # 2 decimal places\n",
    "plt.ylabel(\"Difference in VMT with respect to the baseline [%]\", size = s1)\n",
    "plt.xlabel(\"Fleet size multiplier\", size = s1)\n",
    "L=plt.legend()\n",
    "L.get_texts()[0].set_text('Total VMT')\n",
    "L.get_texts()[1].set_text('Deadhead VMT')\n",
    "plt.savefig('vmt/vmit_diff_barplot_size.eps')"
   ]
  },
  {
   "cell_type": "code",
   "execution_count": null,
   "id": "d8de092c",
   "metadata": {},
   "outputs": [],
   "source": [
    "sns.set_style(\"whitegrid\")\n",
    "plt.rc('legend', fontsize= s1)\n",
    "plt.rc('xtick', labelsize= s1)    # fontsize of the tick labels\n",
    "plt.rc('ytick', labelsize= s1)    # fontsize of the tick labels\n",
    "#plt.gca().yaxis.set_major_formatter(StrMethodFormatter('{x:,.2f}')) # 2 decimal places\n",
    "plt.gca().xaxis.set_major_formatter(StrMethodFormatter('{x:,.2f}')) # 2 decimal places\n",
    "\n",
    "ax =sns.lineplot(\n",
    "    data=constant_size,\n",
    "    x=\"Price Multiplier\", \n",
    "    y=\"Length VehicleSUM [km]\",\n",
    "    marker='.', markersize = m1)\n",
    "plt.ylabel(\"Total VMT [km]\", size = s1)\n",
    "plt.xlabel(\"Price multiplier\", size = s1)\n",
    "plt.savefig('vmt/total_vmt_price.eps')\n",
    "#plt.legend();"
   ]
  },
  {
   "cell_type": "code",
   "execution_count": null,
   "id": "2b6cfab0",
   "metadata": {},
   "outputs": [],
   "source": [
    "sns.set_style(\"whitegrid\")\n",
    "plt.rc('legend', fontsize= s1)\n",
    "plt.rc('xtick', labelsize= s1)    # fontsize of the tick labels\n",
    "plt.rc('ytick', labelsize= s1)    # fontsize of the tick labels\n",
    "#plt.gca().yaxis.set_major_formatter(StrMethodFormatter('{x:,.2f}')) # 2 decimal places\n",
    "plt.gca().xaxis.set_major_formatter(StrMethodFormatter('{x:,.2f}')) # 2 decimal places\n",
    "\n",
    "\n",
    "sns.set_theme()\n",
    "ax =sns.lineplot(\n",
    "    data=constant_price,\n",
    "    x=\"Size Multiplier\", \n",
    "    y=\"Length VehicleSUM [km]\")\n",
    "plt.ylabel(\"Total VMT [km]\", size = s1)\n",
    "plt.xlabel(\"Fleet size multiplier\", size = s1)\n",
    "plt.savefig('vmt/total_vmt_size.eps')\n",
    "#plt.legend();"
   ]
  },
  {
   "cell_type": "code",
   "execution_count": null,
   "id": "cf73308c",
   "metadata": {},
   "outputs": [],
   "source": [
    "sns.set_style(\"whitegrid\",{ \"grid.linestyle\": \":\"})\n",
    "plt.rc('legend', fontsize= 22)\n",
    "plt.rc('xtick', labelsize= 22)    # fontsize of the tick labels\n",
    "plt.rc('ytick', labelsize= 22)    # fontsize of the tick labels\n",
    "#plt.gca().yaxis.set_major_formatter(StrMethodFormatter('{x:,.2f}')) # 2 decimal places\n",
    "plt.gca().xaxis.set_major_formatter(StrMethodFormatter('{x:,.2f}')) # 2 decimal places\n",
    "\n",
    "x=constant_size['Price Multiplier']\n",
    "y=constant_size['Car_Exec_Total']\n",
    "z=constant_size['Transit_Exec_Total']\n",
    "# multiple lines with legend\n",
    "plt.plot(x,y,marker='.', color='b', linewidth = 3.0, markersize = m1)\n",
    "#plt.plot(x,z, marker = '+', color = 'g',label = 'Transit')\n",
    "plt.ylabel(\"Car Mode Share (After Replans)\", size = 22)\n",
    "plt.xlabel(\"Price multiplier\", size = 22)\n",
    "plt.savefig('mode_shares/rh_car_share_price.eps')\n",
    "plt.legend();"
   ]
  },
  {
   "cell_type": "code",
   "execution_count": null,
   "id": "22eace42",
   "metadata": {},
   "outputs": [],
   "source": [
    "from scipy.interpolate import make_interp_spline"
   ]
  },
  {
   "cell_type": "code",
   "execution_count": null,
   "id": "440c7f95",
   "metadata": {},
   "outputs": [],
   "source": [
    "sns.set_style(\"whitegrid\")\n",
    "plt.rc('legend', fontsize= s1)\n",
    "plt.rc('xtick', labelsize= s1)    # fontsize of the tick labels\n",
    "plt.rc('ytick', labelsize= s1)    # fontsize of the tick labels\n",
    "#plt.gca().yaxis.set_major_formatter(StrMethodFormatter('{x:,.2f}')) # 2 decimal places\n",
    "plt.gca().xaxis.set_major_formatter(StrMethodFormatter('{x:,.2f}')) # 2 decimal places\n",
    "\n",
    "\n",
    "x=constant_size['Price Multiplier']\n",
    "y=constant_size['Car_Exec_Total']\n",
    "z=constant_size['Transit_Exec_Total']\n",
    "# multiple lines with legend\n",
    "plt.plot(x,z,marker='.', color='orange')\n",
    "#plt.plot(x,z, marker = '+', color = 'g',label = 'Transit')\n",
    "plt.ylabel(\"Transit Mode Share (After Replans) - Excludes RH-Transit\", size = s1)\n",
    "plt.xlabel(\"Price multiplier\", size = s1)\n",
    "plt.savefig('mode_shares/transit_share_price.eps')\n",
    "plt.legend();"
   ]
  },
  {
   "cell_type": "code",
   "execution_count": null,
   "id": "71989f1d",
   "metadata": {},
   "outputs": [],
   "source": []
  },
  {
   "cell_type": "code",
   "execution_count": null,
   "id": "62b03a9d",
   "metadata": {},
   "outputs": [],
   "source": [
    "sns.set_style(\"whitegrid\")\n",
    "plt.rc('legend', fontsize= s1)\n",
    "plt.rc('xtick', labelsize= s1)    # fontsize of the tick labels\n",
    "plt.rc('ytick', labelsize= s1)    # fontsize of the tick labels\n",
    "#plt.gca().yaxis.set_major_formatter(StrMethodFormatter('{x:,.2f}')) # 2 decimal places\n",
    "plt.gca().xaxis.set_major_formatter(StrMethodFormatter('{x:,.2f}')) # 2 decimal places\n",
    "\n",
    "\n",
    "x=constant_price['Size Multiplier']\n",
    "y=constant_price['Car_Exec_Total']\n",
    "z=constant_price['Transit_Exec_Total']\n",
    "# multiple lines with legend\n",
    "plt.plot(x,y,marker='.', color='r', label= 'Car')\n",
    "#plt.plot(x,z, marker = '+', color = 'g',label = 'Transit')\n",
    "plt.ylabel(\"Mode Shares (After Replans)\", size = s1)\n",
    "plt.xlabel(\"Fleet size multiplier\", size = s1)\n",
    "plt.savefig('mode_shares/rh_car_share_size.eps')\n",
    "plt.legend();"
   ]
  },
  {
   "cell_type": "code",
   "execution_count": null,
   "id": "8a262951",
   "metadata": {},
   "outputs": [],
   "source": [
    "sns.set_style(\"whitegrid\")\n",
    "plt.rc('legend', fontsize= s1)\n",
    "plt.rc('xtick', labelsize= s1)    # fontsize of the tick labels\n",
    "plt.rc('ytick', labelsize= s1)    # fontsize of the tick labels\n",
    "#plt.gca().yaxis.set_major_formatter(StrMethodFormatter('{x:,.2f}')) # 2 decimal places\n",
    "plt.gca().xaxis.set_major_formatter(StrMethodFormatter('{x:,.2f}')) # 2 decimal places\n",
    "\n",
    "\n",
    "x=constant_price['Size Multiplier']\n",
    "y=constant_price['Car_Exec_Total']\n",
    "z=constant_price['Transit_Exec_Total']\n",
    "# multiple lines with legend\n",
    "plt.plot(x,z,marker='.', color='orange')\n",
    "#plt.plot(x,z, marker = '+', color = 'g',label = 'Transit')\n",
    "plt.ylabel(\"Transit Mode Shares (After Replans) - Excludes RH-Transit\", size =16)\n",
    "plt.xlabel(\"Fleet size multiplier\", size = s1)\n",
    "plt.savefig('mode_shares/transit_share_size.eps')\n",
    "plt.legend();"
   ]
  },
  {
   "cell_type": "markdown",
   "id": "1116aa80",
   "metadata": {},
   "source": [
    "New plots"
   ]
  },
  {
   "cell_type": "code",
   "execution_count": null,
   "id": "9fb44d20",
   "metadata": {},
   "outputs": [],
   "source": [
    "x=constant_size['Price Multiplier']\n",
    "y=constant_size['Trip Exec Share Ride Hail Pooled']\n",
    "z=constant_size['Trip Mode Share Ride Hail Pooled']\n",
    "\n",
    "plt.rc('legend', fontsize= s1)\n",
    "plt.rc('xtick', labelsize= s1)    # fontsize of the tick labels\n",
    "plt.rc('ytick', labelsize= s1)    # fontsize of the tick labels\n",
    "plt.gca().yaxis.set_major_formatter(StrMethodFormatter('{x:,.3f}')) # 2 decimal places\n",
    "plt.gca().xaxis.set_major_formatter(StrMethodFormatter('{x:,.2f}')) # 2 decimal places\n",
    "\n",
    "\n",
    "# multiple lines with legend\n",
    "plt.plot(x,y,marker='.', color='r', markersize = m1, label= 'After replanning')\n",
    "plt.plot(x,z, marker = '+', color = 'g', markersize = m1, label = 'Before replanning')\n",
    "plt.ylabel(\"Total Ridehail Pooled Mode Share\", size = s1)\n",
    "plt.xlabel(\"Price multiplier\", size = s1)\n",
    "plt.xticks([0, 0.5, 1, 2, 3, 4, 5, 6, 7, 8])\n",
    "plt.savefig('mode_shares/rh_replan_price_pooled_line.eps')\n",
    "plt.legend();"
   ]
  },
  {
   "cell_type": "code",
   "execution_count": null,
   "id": "a1c71a79",
   "metadata": {},
   "outputs": [],
   "source": [
    "constant_size.plot.bar(x = 'Price Multiplier', y = ['Trip Exec Share Ride Hail Pooled', 'Trip Mode Share Ride Hail Pooled'], rot = 40)\n",
    "plt.rc('legend', fontsize= s1)\n",
    "plt.rc('xtick', labelsize= s1)    # fontsize of the tick labels\n",
    "plt.rc('ytick', labelsize= s1)    # fontsize of the tick labels\n",
    "#plt.gca().yaxis.set_major_formatter(StrMethodFormatter('{x:,.3f}')) # 2 decimal places\n",
    "#plt.gca().xaxis.set_major_formatter(StrMethodFormatter('{x:,.2f}')) # 2 decimal places\n",
    "plt.ylabel(\"Total Ridehail Pooled Mode Share\", size = s1)\n",
    "plt.xlabel(\"Price multiplier\", size = s1)\n",
    "L=plt.legend()\n",
    "L.get_texts()[0].set_text('After replanning')\n",
    "L.get_texts()[1].set_text('Before replanning')\n",
    "plt.savefig('mode_shares/rh_replan_price_pooled_barplot.eps')"
   ]
  },
  {
   "cell_type": "code",
   "execution_count": null,
   "id": "d389958e",
   "metadata": {},
   "outputs": [],
   "source": [
    "x=constant_price['Size Multiplier']\n",
    "y=constant_price['Trip Exec Share Ride Hail Pooled']\n",
    "z=constant_price['Trip Mode Share Ride Hail Pooled']\n",
    "\n",
    "plt.rc('legend', fontsize= s1)\n",
    "plt.rc('xtick', labelsize= s1)    # fontsize of the tick labels\n",
    "plt.rc('ytick', labelsize= s1)    # fontsize of the tick labels\n",
    "plt.gca().yaxis.set_major_formatter(StrMethodFormatter('{x:,.3f}')) # 2 decimal places\n",
    "plt.gca().xaxis.set_major_formatter(StrMethodFormatter('{x:,.2f}')) # 2 decimal places\n",
    "\n",
    "# multiple lines with legend\n",
    "plt.plot(x,y,marker='.', color='r', label= 'After replanning')\n",
    "plt.plot(x,z, marker = '+', color = 'g',label = 'Before replanning')\n",
    "plt.ylabel(\"Total Ridehail Pooled Mode Share\", size = s1)\n",
    "plt.xlabel(\"Fleet size multiplier\", size = s1)\n",
    "plt.xticks([0, 2.5, 5, 10, 15, 20, 25, 27.5, 30])\n",
    "plt.savefig('mode_shares/rh_replan_size_pooled_line.eps')\n",
    "plt.legend();"
   ]
  },
  {
   "cell_type": "code",
   "execution_count": null,
   "id": "f5c60635",
   "metadata": {},
   "outputs": [],
   "source": [
    "sns.set_style(\"whitegrid\")\n",
    "plt.rc('legend', fontsize= s1)\n",
    "plt.rc('xtick', labelsize= s1)    # fontsize of the tick labels\n",
    "plt.rc('ytick', labelsize= s1)    # fontsize of the tick labels\n",
    "#plt.gca().yaxis.set_major_formatter(StrMethodFormatter('{x:,.2f}')) # 2 decimal places\n",
    "plt.gca().xaxis.set_major_formatter(StrMethodFormatter('{x:,.2f}')) # 2 decimal places\n",
    "\n",
    "ax =sns.lineplot(\n",
    "    data=constant_size,\n",
    "    x=\"Price Multiplier\", \n",
    "    y=\"Energy VehicleSUM [GJ]\")\n",
    "plt.ylabel(\"Total Energy [GJ]\", size = s1)\n",
    "plt.xlabel(\"Price multiplier\", size = s1)\n",
    "plt.savefig('other/total_energy_price.eps')\n",
    "#plt.legend();"
   ]
  },
  {
   "cell_type": "code",
   "execution_count": null,
   "id": "d446dc0f",
   "metadata": {},
   "outputs": [],
   "source": [
    "sns.set_style(\"whitegrid\")\n",
    "plt.rc('legend', fontsize= s1)\n",
    "plt.rc('xtick', labelsize= s1)    # fontsize of the tick labels\n",
    "plt.rc('ytick', labelsize= s1)    # fontsize of the tick labels\n",
    "#plt.gca().yaxis.set_major_formatter(StrMethodFormatter('{x:,.2f}')) # 2 decimal places\n",
    "plt.gca().xaxis.set_major_formatter(StrMethodFormatter('{x:,.2f}')) # 2 decimal places\n",
    "\n",
    "\n",
    "sns.set_theme()\n",
    "ax =sns.lineplot(\n",
    "    data=constant_price,\n",
    "    x=\"Size Multiplier\", \n",
    "    y=\"Energy VehicleSUM [GJ]\")\n",
    "plt.ylabel(\"Total Energy [GJ]\", size = s1)\n",
    "plt.xlabel(\"Fleet size multiplier\", size = s1)\n",
    "plt.savefig('other/total_energy_size.eps')\n",
    "#plt.legend();"
   ]
  },
  {
   "cell_type": "code",
   "execution_count": null,
   "id": "d7b8196f",
   "metadata": {},
   "outputs": [],
   "source": [
    "constant_price"
   ]
  },
  {
   "cell_type": "code",
   "execution_count": null,
   "id": "b73525f5",
   "metadata": {},
   "outputs": [],
   "source": [
    "waits_pool_am = pd.read_csv('pooled_rh_waits_AM.csv')"
   ]
  },
  {
   "cell_type": "code",
   "execution_count": null,
   "id": "d7a49fad",
   "metadata": {},
   "outputs": [],
   "source": [
    "waits_solo_am = pd.read_csv('solo_rh_waits_AM.csv')"
   ]
  },
  {
   "cell_type": "code",
   "execution_count": null,
   "id": "12018fba",
   "metadata": {},
   "outputs": [],
   "source": [
    "waits_pool_am.head()"
   ]
  },
  {
   "cell_type": "code",
   "execution_count": null,
   "id": "1b42b252",
   "metadata": {},
   "outputs": [],
   "source": [
    "waits_solo_am = waits_solo_am.rename(columns={'price': 'Price Multiplier', 'size': 'Size Multiplier', '50%': 'median_solo'})\n",
    "waits_pool_am = waits_pool_am.rename(columns={'price': 'Price Multiplier', 'size': 'Size Multiplier', '50%': 'median_pool'})"
   ]
  },
  {
   "cell_type": "code",
   "execution_count": null,
   "id": "56ae8c5a",
   "metadata": {},
   "outputs": [],
   "source": [
    "waits_pool_am.head()"
   ]
  },
  {
   "cell_type": "code",
   "execution_count": null,
   "id": "05b08e51",
   "metadata": {},
   "outputs": [],
   "source": [
    "constant_price = pd.merge(constant_price, waits_solo_am, on=['Price Multiplier', 'Size Multiplier'], how='inner')\n",
    "constant_price = pd.merge(constant_price, waits_pool_am, on=['Price Multiplier', 'Size Multiplier'], how='inner')"
   ]
  },
  {
   "cell_type": "code",
   "execution_count": null,
   "id": "b42a2fb6",
   "metadata": {},
   "outputs": [],
   "source": [
    "constant_size = pd.merge(constant_size, waits_solo_am, on=['Price Multiplier', 'Size Multiplier'], how='inner')\n",
    "constant_size = pd.merge(constant_size, waits_pool_am, on=['Price Multiplier', 'Size Multiplier'], how='inner')"
   ]
  },
  {
   "cell_type": "code",
   "execution_count": null,
   "id": "1a549f9a",
   "metadata": {},
   "outputs": [],
   "source": [
    "constant_price"
   ]
  },
  {
   "cell_type": "code",
   "execution_count": null,
   "id": "fe3ea6ee",
   "metadata": {},
   "outputs": [],
   "source": [
    "for col in constant_price.columns:\n",
    "    print(col)"
   ]
  },
  {
   "cell_type": "markdown",
   "id": "5817bce6",
   "metadata": {},
   "source": [
    "Demand and wait time"
   ]
  },
  {
   "cell_type": "code",
   "execution_count": null,
   "id": "60b9c2b5",
   "metadata": {},
   "outputs": [],
   "source": [
    "concat_data = pd.concat([constant_price, constant_size])"
   ]
  },
  {
   "cell_type": "code",
   "execution_count": null,
   "id": "13b75880",
   "metadata": {},
   "outputs": [],
   "source": [
    "concat_data.describe()"
   ]
  },
  {
   "cell_type": "code",
   "execution_count": null,
   "id": "d5f78d46",
   "metadata": {},
   "outputs": [],
   "source": [
    "sns.set_style(\"whitegrid\")\n",
    "plt.rc('legend', fontsize= s1)\n",
    "plt.rc('xtick', labelsize= s1)    # fontsize of the tick labels\n",
    "plt.rc('ytick', labelsize= s1)    # fontsize of the tick labels\n",
    "#plt.gca().yaxis.set_major_formatter(StrMethodFormatter('{x:,.2f}')) # 2 decimal places\n",
    "plt.gca().xaxis.set_major_formatter(StrMethodFormatter('{x:,.2f}')) # 2 decimal places\n",
    "\n",
    "\n",
    "x=concat_data['median_pool']\n",
    "y=concat_data['Trip Mode Ride Hail Pooled']\n",
    "z=concat_data['Trip Exec Ride Hail Pooled']\n",
    "# multiple lines with legend\n",
    "plt.scatter(x,y,marker='.', color='b', label= 'Before replanning')\n",
    "plt.scatter(x,z, marker = '+', color = 'g',label = 'After replanning')\n",
    "plt.ylabel(\"Number of Trips - RH Pooled\", size =16)\n",
    "plt.xlabel(\"Median wait time (AM) [min]\", size = s1)\n",
    "plt.savefig('waits/rh_pool_wait_demand.eps')\n",
    "plt.legend();"
   ]
  },
  {
   "cell_type": "code",
   "execution_count": null,
   "id": "15253a80",
   "metadata": {},
   "outputs": [],
   "source": [
    "sns.set_style(\"whitegrid\")\n",
    "plt.rc('legend', fontsize= 18)\n",
    "plt.rc('xtick', labelsize= 18)    # fontsize of the tick labels\n",
    "plt.rc('ytick', labelsize= 18)    # fontsize of the tick labels\n",
    "#plt.gca().yaxis.set_major_formatter(StrMethodFormatter('{x:,.2f}')) # 2 decimal places\n",
    "plt.gca().xaxis.set_major_formatter(StrMethodFormatter('{x:,.2f}')) # 2 decimal places\n",
    "\n",
    "plt.scatter(df['Size Multiplier'],df['Price Multiplier'])\n",
    "plt.ylabel(\"Price multiplier\", size =18)\n",
    "plt.xlabel(\"Fleet size multiplier\", size = 18)\n",
    "plt.savefig('other/rh_tests.eps')\n",
    "plt.legend();"
   ]
  },
  {
   "cell_type": "code",
   "execution_count": null,
   "id": "bfe03d24",
   "metadata": {},
   "outputs": [],
   "source": [
    "sns.set_style(\"whitegrid\")\n",
    "plt.rc('legend', fontsize= s1)\n",
    "plt.rc('xtick', labelsize= s1)    # fontsize of the tick labels\n",
    "plt.rc('ytick', labelsize= s1)    # fontsize of the tick labels\n",
    "#plt.gca().yaxis.set_major_formatter(StrMethodFormatter('{x:,.2f}')) # 2 decimal places\n",
    "plt.gca().xaxis.set_major_formatter(StrMethodFormatter('{x:,.2f}')) # 2 decimal places\n",
    "\n",
    "\n",
    "x=concat_data['median_pool']\n",
    "y=concat_data['Trip Mode Ride Hail']\n",
    "z=concat_data['Trip Exec Ride Hail']\n",
    "# multiple lines with legend\n",
    "plt.scatter(x,y,marker='.', color='b', label= 'Before replanning')\n",
    "plt.scatter(x,z, marker = '+', color = 'g',label = 'After replanning')\n",
    "plt.ylabel(\"Number of Trips - RH Solo\", size =16)\n",
    "plt.xlabel(\"Median wait time (AM) [min]\", size = s1)\n",
    "plt.savefig('waits/rh_solo_wait_demand.eps')\n",
    "plt.legend();"
   ]
  },
  {
   "cell_type": "code",
   "execution_count": null,
   "id": "80974957",
   "metadata": {},
   "outputs": [],
   "source": [
    "sns.set_style(\"whitegrid\")\n",
    "plt.rc('legend', fontsize= s1)\n",
    "plt.rc('xtick', labelsize= s1)    # fontsize of the tick labels\n",
    "plt.rc('ytick', labelsize= s1)    # fontsize of the tick labels\n",
    "#plt.gca().yaxis.set_major_formatter(StrMethodFormatter('{x:,.2f}')) # 2 decimal places\n",
    "plt.gca().xaxis.set_major_formatter(StrMethodFormatter('{x:,.2f}')) # 2 decimal places\n",
    "\n",
    "\n",
    "x=constant_price['median_pool']\n",
    "y=constant_price['Trip Mode Ride Hail']\n",
    "z=constant_price['Trip Exec Ride Hail']\n",
    "# multiple lines with legend\n",
    "plt.scatter(x,y,marker='.', color='b', label= 'Before replanning')\n",
    "plt.scatter(x,z, marker = '+', color = 'g',label = 'After replanning')\n",
    "plt.ylabel(\"Number of Trips - RH Solo\", size =16)\n",
    "plt.xlabel(\"Median wait time (AM) [min]\", size = s1)\n",
    "plt.savefig('rh_solo_wait_demand.eps')\n",
    "plt.legend();"
   ]
  },
  {
   "cell_type": "code",
   "execution_count": null,
   "id": "07de4aa4",
   "metadata": {},
   "outputs": [],
   "source": [
    "constant_size"
   ]
  },
  {
   "cell_type": "code",
   "execution_count": null,
   "id": "7ce2b01f",
   "metadata": {},
   "outputs": [],
   "source": [
    "sns.set_style(\"whitegrid\")\n",
    "plt.rc('legend', fontsize= s1)\n",
    "plt.rc('xtick', labelsize= s1)    # fontsize of the tick labels\n",
    "plt.rc('ytick', labelsize= s1)    # fontsize of the tick labels\n",
    "#plt.gca().yaxis.set_major_formatter(StrMethodFormatter('{x:,.2f}')) # 2 decimal places\n",
    "plt.gca().xaxis.set_major_formatter(StrMethodFormatter('{x:,.2f}')) # 2 decimal places\n",
    "\n",
    "\n",
    "x=constant_size['median_pool']\n",
    "y=constant_size['Trip Mode Ride Hail']\n",
    "z=constant_size['Trip Exec Ride Hail']\n",
    "# multiple lines with legend\n",
    "plt.scatter(x,y,marker='.', color='b', label= 'Before replanning')\n",
    "plt.scatter(x,z, marker = '+', color = 'g',label = 'After replanning')\n",
    "plt.ylabel(\"Number of Trips - RH Solo\", size =16)\n",
    "plt.xlabel(\"Median wait time (AM) [min]\", size = s1)\n",
    "plt.savefig('waits/rh_solo_wait_demand.eps')\n",
    "plt.legend();"
   ]
  },
  {
   "cell_type": "code",
   "execution_count": null,
   "id": "cb7fd137",
   "metadata": {},
   "outputs": [],
   "source": [
    "#Trip Mode Total and Trip Executed Total"
   ]
  },
  {
   "cell_type": "code",
   "execution_count": null,
   "id": "1d45184d",
   "metadata": {},
   "outputs": [],
   "source": [
    "x=constant_size['Price Multiplier']\n",
    "y=constant_size['Trip Exectuted Total ']\n",
    "z=constant_size['Trip Mode Total ']\n",
    "\n",
    "plt.rc('legend', fontsize= s1)\n",
    "plt.rc('xtick', labelsize= s1)    # fontsize of the tick labels\n",
    "plt.rc('ytick', labelsize= s1)    # fontsize of the tick labels\n",
    "plt.gca().yaxis.set_major_formatter(StrMethodFormatter('{x:,.1f}')) # 2 decimal places\n",
    "plt.gca().xaxis.set_major_formatter(StrMethodFormatter('{x:,.1f}')) # 2 decimal places\n",
    "\n",
    "\n",
    "# multiple lines with legend\n",
    "plt.plot(x,y,marker='.', markersize=m1, color='b', label= 'After replanning')\n",
    "plt.plot(x,z, marker = '.', markersize=m1, color = 'g', label = 'Before replanning')\n",
    "plt.ylabel(\"Total trips (all modes)\", size = s1)\n",
    "plt.xlabel(\"Price multiplier\", size = s1)\n",
    "#plt.xticks([0, 0.5, 1, 2, 3, 4, 5, 6, 7, 8])\n",
    "plt.savefig('other/total_trips_size.eps')\n",
    "plt.legend();"
   ]
  },
  {
   "cell_type": "code",
   "execution_count": null,
   "id": "b3c076fd",
   "metadata": {},
   "outputs": [],
   "source": [
    "x=constant_price['Size Multiplier']\n",
    "y=constant_price['Trip Exectuted Total ']\n",
    "z=constant_price['Trip Mode Total ']\n",
    "\n",
    "plt.rc('legend', fontsize= s1)\n",
    "plt.rc('xtick', labelsize= s1)    # fontsize of the tick labels\n",
    "plt.rc('ytick', labelsize= s1)    # fontsize of the tick labels\n",
    "plt.gca().yaxis.set_major_formatter(StrMethodFormatter('{x:,.3f}')) # 2 decimal places\n",
    "plt.gca().xaxis.set_major_formatter(StrMethodFormatter('{x:,.2f}')) # 2 decimal places\n",
    "\n",
    "\n",
    "# multiple lines with legend\n",
    "plt.plot(x,y,marker='.', color='r', label= 'After replanning')\n",
    "plt.plot(x,z, marker = '+', color = 'g', label = 'Before replanning')\n",
    "plt.ylabel(\"Total trips (all modes)\", size = s1)\n",
    "plt.xlabel(\"Fleet size multiplier\", size = s1)\n",
    "plt.xticks([0, 2.5, 5, 10, 15, 20, 25, 27.5, 30])\n",
    "plt.savefig('other/total_trips_price.eps')\n",
    "plt.legend();"
   ]
  },
  {
   "cell_type": "code",
   "execution_count": null,
   "id": "cfbc4066",
   "metadata": {},
   "outputs": [],
   "source": []
  }
 ],
 "metadata": {
  "kernelspec": {
   "display_name": "Python 3 (ipykernel)",
   "language": "python",
   "name": "python3"
  },
  "language_info": {
   "codemirror_mode": {
    "name": "ipython",
    "version": 3
   },
   "file_extension": ".py",
   "mimetype": "text/x-python",
   "name": "python",
   "nbconvert_exporter": "python",
   "pygments_lexer": "ipython3",
   "version": "3.9.13"
  }
 },
 "nbformat": 4,
 "nbformat_minor": 5
}
