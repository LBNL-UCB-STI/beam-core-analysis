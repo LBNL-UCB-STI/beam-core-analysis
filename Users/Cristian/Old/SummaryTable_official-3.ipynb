{
 "cells": [
  {
   "cell_type": "markdown",
   "id": "fdb19b19-51f5-4ef6-9c5e-72d9ba8388a9",
   "metadata": {},
   "source": [
    "*********Check ridership by transit agency and mode*********"
   ]
  },
  {
   "cell_type": "code",
   "execution_count": 1,
   "id": "53f4d318-29e8-4b98-8b77-935b6eb7c70e",
   "metadata": {},
   "outputs": [],
   "source": [
    "# import pandas as pd\n",
    "# events= pd.read_csv('gs://beam-core-outputs/sfbay-baseline2018-30pct-20230710/beam/year-2018-iteration-10/ITERS/it.0/0.events.csv.gz',\n",
    "#                    usecols = ['mode', 'type', 'vehicle'])\n",
    "# # Filter the DataFrame based on the modes you're interested in\n",
    "# filtered_events = events[events['mode'].isin(['bus', 'subway', 'tram', 'cable_car', 'rail', 'ferry'])]\n",
    "\n",
    "# # Create a dictionary that maps each vehicle to its mode\n",
    "# vehicle_mode_dict = filtered_events.groupby('vehicle')['mode'].first().to_dict()\n",
    "\n",
    "# pers_enter = events[events.type == 'PersonEntersVehicle']\n",
    "# pers_enter['assigned_mode'] = pers_enter['vehicle'].map(vehicle_mode_dict)\n",
    "# pers_enter = pers_enter[pers_enter['assigned_mode'].isin(['bus', 'subway', 'tram', 'cable_car', 'rail', 'ferry'])]\n",
    "# pers_enter['agency'] = pers_enter['vehicle'].str[:3]\n",
    "# grouped_counts = pers_enter.groupby(['agency', 'assigned_mode']).size().reset_index(name='count')\n",
    "\n",
    "# print(grouped_counts)"
   ]
  },
  {
   "cell_type": "code",
   "execution_count": 2,
   "id": "08bf3b89-30c3-48f5-80b6-512eedd0db2c",
   "metadata": {},
   "outputs": [],
   "source": [
    "\n",
    "# network = pd.read_csv('gs://beam-core-outputs/sfbay-baseline-austin-20230923/MEP/2020/network.csv.gz',\n",
    "#                    )"
   ]
  },
  {
   "cell_type": "code",
   "execution_count": 3,
   "id": "95e7be8a-a16c-4d5e-a848-a0af826c2eca",
   "metadata": {},
   "outputs": [],
   "source": [
    "# network[:1000].to_csv('network.csv')"
   ]
  },
  {
   "cell_type": "code",
   "execution_count": null,
   "id": "d2f130c9-b1cb-478d-a202-a852539312f3",
   "metadata": {},
   "outputs": [],
   "source": []
  },
  {
   "cell_type": "code",
   "execution_count": null,
   "id": "2705fd90-0f18-4a15-8eab-f36227bdd280",
   "metadata": {},
   "outputs": [],
   "source": []
  },
  {
   "cell_type": "code",
   "execution_count": null,
   "id": "ba304bfa-97c4-4ebf-b245-0a45294bea48",
   "metadata": {},
   "outputs": [],
   "source": []
  },
  {
   "cell_type": "code",
   "execution_count": 4,
   "id": "db285d87-fbe8-4e70-8b6d-bea93f197ab2",
   "metadata": {},
   "outputs": [],
   "source": [
    "def collectAllData(outDirectory, year_it,\n",
    "                  trips, activities, PTs, PtoPTs, LT, PLT, VLT, ST, name):\n",
    "\n",
    "\n",
    "    storage_client = storage.Client.from_service_account_json('outputs/beam-core-b829a9287f0e.json')\n",
    "    bucket_name = 'beam-core-outputs'\n",
    "    bucket = storage_client.get_bucket(bucket_name)\n",
    "\n",
    "    if is_GEO:\n",
    "        \n",
    "        BGs = gpd.read_file('/vsicurl/https://github.com/LBNL-UCB-STI/beam-core-analysis/raw/main/Users/Zach/scenario/sfbay-blockgroups-2010/641aa0d4-ce5b-4a81-9c30-8790c4ab8cfb202047-1-wkkklf.j5ouj.shp')\n",
    "        \n",
    "        trips = addGeometryIdToDataFrame(trips, BGs, 'originX', 'originY', 'startBlockGroup')\n",
    "        trips = addGeometryIdToDataFrame(trips, BGs, 'destinationX', 'destinationY', 'endBlockGroup')\n",
    "        activities = addGeometryIdToDataFrame(activities, BGs, 'activityLocationX', 'activityLocationY', 'activityBlockGroup')\n",
    "        \n",
    "        print('Add block ID infos')\n",
    "        # block_info = pd.read_csv('local_files/bg_w_geog_labels.csv')\n",
    "        block_info = pd.read_csv('https://github.com/LBNL-UCB-STI/beam-core-analysis/raw/main/Users/Nazanin/bg_w_geog_labels.csv')\n",
    "        trips['startBlockGroup'] = trips['startBlockGroup'].fillna(0).astype(int)\n",
    "        trips['endBlockGroup'] = trips['endBlockGroup'].fillna(0).astype(int)\n",
    "        activities['activityBlockGroup'] = activities['activityBlockGroup'].fillna(0).astype(int)\n",
    "        PTs['startBlockGroup'] = PTs['startBlockGroup'].fillna(0).astype(int)\n",
    "        PTs['endBlockGroup'] = PTs['endBlockGroup'].fillna(0).astype(int)\n",
    "        PtoPTs['startBlockGroup'] = PtoPTs['startBlockGroup'].fillna(0).astype(int)\n",
    "        PtoPTs['endBlockGroup'] = PtoPTs['endBlockGroup'].fillna(0).astype(int)\n",
    "        if is_LT:\n",
    "            LT['BlockGroup'] = LT['BlockGroup'].fillna(0).astype(int)\n",
    "            PLT['BlockGroup'] = PLT['BlockGroup'].fillna(0).astype(int)\n",
    "            VLT['BlockGroup'] = VLT['BlockGroup'].fillna(0).astype(int)\n",
    "        \n",
    "        trips = pd.merge(trips, block_info,  how='left',  left_on = 'startBlockGroup',right_on = 'bgid')\n",
    "        trips = pd.merge(trips, block_info,  how='left',  left_on = 'endBlockGroup',right_on = 'bgid',suffixes = ['_start','_end'])\n",
    "        activities = pd.merge(activities, block_info,  how='left',  left_on = 'activityBlockGroup',right_on = 'bgid',)\n",
    "        PTs = pd.merge(PTs, block_info,  how='left',  left_on = 'startBlockGroup',right_on = 'bgid',)\n",
    "        PTs = pd.merge(PTs, block_info,  how='left',  left_on = 'endBlockGroup',right_on = 'bgid',suffixes = ['_start','_end'])\n",
    "        PtoPTs = pd.merge(PtoPTs, block_info,  how='left',  left_on = 'startBlockGroup',right_on = 'bgid',)\n",
    "        PtoPTs = pd.merge(PtoPTs, block_info,  how='left',  left_on = 'endBlockGroup',right_on = 'bgid',suffixes = ['_start','_end'])\n",
    "        if is_LT:\n",
    "            LT = pd.merge(LT, block_info,  how='left',  left_on = 'BlockGroup',right_on = 'bgid',)\n",
    "            PLT = pd.merge(PLT, block_info,  how='left',  left_on = 'BlockGroup',right_on = 'bgid',)\n",
    "            VLT = pd.merge(VLT, block_info,  how='left',  left_on = 'BlockGroup',right_on = 'bgid',)\n",
    "\n",
    "    # PTs = addGeometryIdToDataFrame(PTs, BGs, 'startX', 'startY', 'startBlockGroup')\n",
    "    # PTs = addGeometryIdToDataFrame(PTs, BGs, 'endX', 'endY', 'endBlockGroup')\n",
    "    PTs.index.set_names('PathTraversalID', inplace=True)\n",
    "    \n",
    "    \n",
    "    print('writing results on', outDirectory+ 'postprocessOutputs/'+year_it)\n",
    "    \n",
    "    #ROUTEE correction\n",
    "    for prim, sec in zip(PTs['primaryFuelType'], PTs['secondaryFuelType']):\n",
    "        if prim in 'Electricity' and sec in ['Biodiesel','Diesel','Gasoline']:\n",
    "            corrections_routee.append(route_e_correction_hev)\n",
    "        elif prim in ['Biodiesel','Diesel','Gasoline']:\n",
    "            corrections_routee.append(route_e_correction_cv)\n",
    "        elif prim in ['Electricity']:\n",
    "            corrections_routee.append(route_e_correction_ev)\n",
    "        else:\n",
    "            corrections_routee.append(1)\n",
    "    PTs['routee correction'] = corrections_routee     \n",
    "    print(PTs['routee correction'].value_counts())\n",
    "    PTs['energyCorrectedRoutee'] = (PTs['primaryFuel']+PTs['secondaryFuel'])*PTs['routee correction']\n",
    "    \n",
    "    \n",
    "    bucket.blob(outDirectory[23:]+ 'postprocessOutputs/'+year_it+'/trips.csv.gz').upload_from_string(trips.to_csv(index=True), content_type='text/csv')\n",
    "    bucket.blob(outDirectory[23:]+ 'postprocessOutputs/'+year_it+'/vehicles.csv.gz').upload_from_string(PTs.to_csv(index=True), content_type='text/csv')\n",
    "    bucket.blob(outDirectory[23:]+ 'postprocessOutputs/'+year_it+'/activities.csv.gz').upload_from_string(activities.to_csv(index=True), content_type='text/csv')\n",
    "    bucket.blob(outDirectory[23:]+ 'postprocessOutputs/'+year_it+'/personToVehicles.csv.gz').upload_from_string(PtoPTs.to_csv(index=True), content_type='text/csv')\n",
    "    if is_LT:\n",
    "        bucket.blob(outDirectory[23:]+ 'postprocessOutputs/'+year_it+'/linkTable.csv.gz').upload_from_string(LT.to_csv(index=True), content_type='text/csv')\n",
    "        bucket.blob(outDirectory[23:]+ 'postprocessOutputs/'+year_it+'/personLinkTable.csv.gz').upload_from_string(PLT.to_csv(index=True), content_type='text/csv')\n",
    "        bucket.blob(outDirectory[23:]+ 'postprocessOutputs/'+year_it+'/vehicleLinkTable.csv.gz').upload_from_string(VLT.to_csv(index=True), content_type='text/csv')\n",
    "    \n",
    "    bucket.blob(outDirectory[23:]+ 'postprocessOutputs/'+year_it+'/summaryTable.csv.gz').upload_from_string(ST.to_csv(index=True), content_type='text/csv')\n",
    "    \n",
    "\n",
    "#     trips.to_csv(outDirectory[23:]+ 'postprocessOutputs/'+year_it+'/trips.csv.gz', index=True)\n",
    "#     PTs.to_csv(outDirectory[23:]+ 'postprocessOutputs/'+year_it+'/vehicles.csv.gz', index=True)\n",
    "#     activities.to_csv(outDirectory[23:]+ 'postprocessOutputs/'+year_it+'/activities.csv.gz', index=True)\n",
    "#     PtoPTs.to_csv(outDirectory[23:]+ 'postprocessOutputs/'+year_it+'/personToVehicles.csv.gz', index=True)\n",
    "#     if is_LT:\n",
    "#         LT.to_csv(outDirectory[23:]+ 'postprocessOutputs/'+year_it+'/linkTable.csv.gz', index=True)\n",
    "#         PLT.to_csv(outDirectory[23:]+ 'postprocessOutputs/'+year_it+'/personLinkTable.csv.gz', index=True)\n",
    "#         VLT.to_csv(outDirectory[23:]+ 'postprocessOutputs/'+year_it+'/vehicleLinkTable.csv.gz', index=True) \n",
    "#     ST.to_csv(outDirectory[23:]+ 'postprocessOutputs/'+year_it+'/summaryTable.csv.gz', index=True)\n",
    "    \n",
    "#     if is_plot:\n",
    "#         plot_and_save_figures(outDirectory+ 'postprocessOutputs/'+year_it+'/figures/', ST, name)\n",
    "    \n",
    "    print('File uploaded successfully.')\n"
   ]
  },
  {
   "cell_type": "code",
   "execution_count": 5,
   "id": "60917bae-9d99-42f8-b03e-f296010ceac5",
   "metadata": {
    "tags": []
   },
   "outputs": [
    {
     "name": "stdout",
     "output_type": "stream",
     "text": [
      "Requirement already satisfied: geopandas in /opt/conda/lib/python3.10/site-packages (0.12.2)\n",
      "Requirement already satisfied: fiona>=1.8 in /opt/conda/lib/python3.10/site-packages (from geopandas) (1.8.22)\n",
      "Requirement already satisfied: packaging in /opt/conda/lib/python3.10/site-packages (from geopandas) (23.0)\n",
      "Requirement already satisfied: shapely>=1.7 in /opt/conda/lib/python3.10/site-packages (from geopandas) (2.0.0)\n",
      "Requirement already satisfied: pyproj>=2.6.1.post1 in /opt/conda/lib/python3.10/site-packages (from geopandas) (3.4.1)\n",
      "Requirement already satisfied: pandas>=1.0.0 in /opt/conda/lib/python3.10/site-packages (from geopandas) (1.5.3)\n",
      "Requirement already satisfied: certifi in /opt/conda/lib/python3.10/site-packages (from fiona>=1.8->geopandas) (2022.12.7)\n",
      "Requirement already satisfied: six>=1.7 in /opt/conda/lib/python3.10/site-packages (from fiona>=1.8->geopandas) (1.16.0)\n",
      "Requirement already satisfied: setuptools in /opt/conda/lib/python3.10/site-packages (from fiona>=1.8->geopandas) (66.1.1)\n",
      "Requirement already satisfied: attrs>=17 in /opt/conda/lib/python3.10/site-packages (from fiona>=1.8->geopandas) (22.2.0)\n",
      "Requirement already satisfied: click>=4.0 in /opt/conda/lib/python3.10/site-packages (from fiona>=1.8->geopandas) (8.1.3)\n",
      "Requirement already satisfied: click-plugins>=1.0 in /opt/conda/lib/python3.10/site-packages (from fiona>=1.8->geopandas) (1.1.1)\n",
      "Requirement already satisfied: munch in /opt/conda/lib/python3.10/site-packages (from fiona>=1.8->geopandas) (2.5.0)\n",
      "Requirement already satisfied: cligj>=0.5 in /opt/conda/lib/python3.10/site-packages (from fiona>=1.8->geopandas) (0.7.2)\n",
      "Requirement already satisfied: python-dateutil>=2.8.1 in /opt/conda/lib/python3.10/site-packages (from pandas>=1.0.0->geopandas) (2.8.2)\n",
      "Requirement already satisfied: pytz>=2020.1 in /opt/conda/lib/python3.10/site-packages (from pandas>=1.0.0->geopandas) (2022.7.1)\n",
      "Requirement already satisfied: numpy>=1.21.0 in /opt/conda/lib/python3.10/site-packages (from pandas>=1.0.0->geopandas) (1.23.5)\n",
      "Requirement already satisfied: pandas in /opt/conda/lib/python3.10/site-packages (1.5.3)\n",
      "Requirement already satisfied: python-dateutil>=2.8.1 in /opt/conda/lib/python3.10/site-packages (from pandas) (2.8.2)\n",
      "Requirement already satisfied: pytz>=2020.1 in /opt/conda/lib/python3.10/site-packages (from pandas) (2022.7.1)\n",
      "Requirement already satisfied: numpy>=1.21.0 in /opt/conda/lib/python3.10/site-packages (from pandas) (1.23.5)\n",
      "Requirement already satisfied: six>=1.5 in /opt/conda/lib/python3.10/site-packages (from python-dateutil>=2.8.1->pandas) (1.16.0)\n",
      "Requirement already satisfied: pygeos in /opt/conda/lib/python3.10/site-packages (0.14)\n",
      "Requirement already satisfied: numpy>=1.13 in /opt/conda/lib/python3.10/site-packages (from pygeos) (1.23.5)\n",
      "Requirement already satisfied: boto in /opt/conda/lib/python3.10/site-packages (2.49.0)\n",
      "Requirement already satisfied: s3fs in /opt/conda/lib/python3.10/site-packages (2023.1.0)\n",
      "Requirement already satisfied: aiohttp!=4.0.0a0,!=4.0.0a1 in /opt/conda/lib/python3.10/site-packages (from s3fs) (3.8.3)\n",
      "Requirement already satisfied: aiobotocore~=2.4.2 in /opt/conda/lib/python3.10/site-packages (from s3fs) (2.4.2)\n",
      "Requirement already satisfied: fsspec==2023.1.0 in /opt/conda/lib/python3.10/site-packages (from s3fs) (2023.1.0)\n",
      "Requirement already satisfied: wrapt>=1.10.10 in /opt/conda/lib/python3.10/site-packages (from aiobotocore~=2.4.2->s3fs) (1.14.1)\n",
      "Requirement already satisfied: aioitertools>=0.5.1 in /opt/conda/lib/python3.10/site-packages (from aiobotocore~=2.4.2->s3fs) (0.11.0)\n",
      "Requirement already satisfied: botocore<1.27.60,>=1.27.59 in /opt/conda/lib/python3.10/site-packages (from aiobotocore~=2.4.2->s3fs) (1.27.59)\n",
      "Requirement already satisfied: aiosignal>=1.1.2 in /opt/conda/lib/python3.10/site-packages (from aiohttp!=4.0.0a0,!=4.0.0a1->s3fs) (1.3.1)\n",
      "Requirement already satisfied: multidict<7.0,>=4.5 in /opt/conda/lib/python3.10/site-packages (from aiohttp!=4.0.0a0,!=4.0.0a1->s3fs) (6.0.4)\n",
      "Requirement already satisfied: frozenlist>=1.1.1 in /opt/conda/lib/python3.10/site-packages (from aiohttp!=4.0.0a0,!=4.0.0a1->s3fs) (1.3.3)\n",
      "Requirement already satisfied: charset-normalizer<3.0,>=2.0 in /opt/conda/lib/python3.10/site-packages (from aiohttp!=4.0.0a0,!=4.0.0a1->s3fs) (2.1.1)\n",
      "Requirement already satisfied: async-timeout<5.0,>=4.0.0a3 in /opt/conda/lib/python3.10/site-packages (from aiohttp!=4.0.0a0,!=4.0.0a1->s3fs) (4.0.2)\n",
      "Requirement already satisfied: yarl<2.0,>=1.0 in /opt/conda/lib/python3.10/site-packages (from aiohttp!=4.0.0a0,!=4.0.0a1->s3fs) (1.8.2)\n",
      "Requirement already satisfied: attrs>=17.3.0 in /opt/conda/lib/python3.10/site-packages (from aiohttp!=4.0.0a0,!=4.0.0a1->s3fs) (22.2.0)\n",
      "Requirement already satisfied: urllib3<1.27,>=1.25.4 in /opt/conda/lib/python3.10/site-packages (from botocore<1.27.60,>=1.27.59->aiobotocore~=2.4.2->s3fs) (1.26.14)\n",
      "Requirement already satisfied: jmespath<2.0.0,>=0.7.1 in /opt/conda/lib/python3.10/site-packages (from botocore<1.27.60,>=1.27.59->aiobotocore~=2.4.2->s3fs) (1.0.1)\n",
      "Requirement already satisfied: python-dateutil<3.0.0,>=2.1 in /opt/conda/lib/python3.10/site-packages (from botocore<1.27.60,>=1.27.59->aiobotocore~=2.4.2->s3fs) (2.8.2)\n",
      "Requirement already satisfied: idna>=2.0 in /opt/conda/lib/python3.10/site-packages (from yarl<2.0,>=1.0->aiohttp!=4.0.0a0,!=4.0.0a1->s3fs) (3.4)\n",
      "Requirement already satisfied: six>=1.5 in /opt/conda/lib/python3.10/site-packages (from python-dateutil<3.0.0,>=2.1->botocore<1.27.60,>=1.27.59->aiobotocore~=2.4.2->s3fs) (1.16.0)\n",
      "Requirement already satisfied: shapely in /opt/conda/lib/python3.10/site-packages (2.0.0)\n",
      "Requirement already satisfied: numpy>=1.14 in /opt/conda/lib/python3.10/site-packages (from shapely) (1.23.5)\n",
      "Requirement already satisfied: gcsfs in /opt/conda/lib/python3.10/site-packages (2023.1.0)\n",
      "Requirement already satisfied: decorator>4.1.2 in /opt/conda/lib/python3.10/site-packages (from gcsfs) (5.1.1)\n",
      "Requirement already satisfied: google-auth>=1.2 in /opt/conda/lib/python3.10/site-packages (from gcsfs) (2.16.0)\n",
      "Requirement already satisfied: fsspec==2023.1.0 in /opt/conda/lib/python3.10/site-packages (from gcsfs) (2023.1.0)\n",
      "Requirement already satisfied: requests in /opt/conda/lib/python3.10/site-packages (from gcsfs) (2.28.2)\n",
      "Requirement already satisfied: aiohttp!=4.0.0a0,!=4.0.0a1 in /opt/conda/lib/python3.10/site-packages (from gcsfs) (3.8.3)\n",
      "Requirement already satisfied: google-auth-oauthlib in /opt/conda/lib/python3.10/site-packages (from gcsfs) (0.8.0)\n",
      "Requirement already satisfied: google-cloud-storage in /opt/conda/lib/python3.10/site-packages (from gcsfs) (2.7.0)\n",
      "Requirement already satisfied: async-timeout<5.0,>=4.0.0a3 in /opt/conda/lib/python3.10/site-packages (from aiohttp!=4.0.0a0,!=4.0.0a1->gcsfs) (4.0.2)\n",
      "Requirement already satisfied: yarl<2.0,>=1.0 in /opt/conda/lib/python3.10/site-packages (from aiohttp!=4.0.0a0,!=4.0.0a1->gcsfs) (1.8.2)\n",
      "Requirement already satisfied: attrs>=17.3.0 in /opt/conda/lib/python3.10/site-packages (from aiohttp!=4.0.0a0,!=4.0.0a1->gcsfs) (22.2.0)\n",
      "Requirement already satisfied: charset-normalizer<3.0,>=2.0 in /opt/conda/lib/python3.10/site-packages (from aiohttp!=4.0.0a0,!=4.0.0a1->gcsfs) (2.1.1)\n",
      "Requirement already satisfied: multidict<7.0,>=4.5 in /opt/conda/lib/python3.10/site-packages (from aiohttp!=4.0.0a0,!=4.0.0a1->gcsfs) (6.0.4)\n",
      "Requirement already satisfied: frozenlist>=1.1.1 in /opt/conda/lib/python3.10/site-packages (from aiohttp!=4.0.0a0,!=4.0.0a1->gcsfs) (1.3.3)\n",
      "Requirement already satisfied: aiosignal>=1.1.2 in /opt/conda/lib/python3.10/site-packages (from aiohttp!=4.0.0a0,!=4.0.0a1->gcsfs) (1.3.1)\n",
      "Requirement already satisfied: six>=1.9.0 in /opt/conda/lib/python3.10/site-packages (from google-auth>=1.2->gcsfs) (1.16.0)\n",
      "Requirement already satisfied: cachetools<6.0,>=2.0.0 in /opt/conda/lib/python3.10/site-packages (from google-auth>=1.2->gcsfs) (5.3.0)\n",
      "Requirement already satisfied: rsa<5,>=3.1.4 in /opt/conda/lib/python3.10/site-packages (from google-auth>=1.2->gcsfs) (4.9)\n",
      "Requirement already satisfied: pyasn1-modules>=0.2.1 in /opt/conda/lib/python3.10/site-packages (from google-auth>=1.2->gcsfs) (0.2.8)\n",
      "Requirement already satisfied: requests-oauthlib>=0.7.0 in /opt/conda/lib/python3.10/site-packages (from google-auth-oauthlib->gcsfs) (1.3.1)\n",
      "Requirement already satisfied: google-resumable-media>=2.3.2 in /opt/conda/lib/python3.10/site-packages (from google-cloud-storage->gcsfs) (2.4.1)\n",
      "Requirement already satisfied: google-cloud-core<3.0dev,>=2.3.0 in /opt/conda/lib/python3.10/site-packages (from google-cloud-storage->gcsfs) (2.3.2)\n",
      "Requirement already satisfied: google-api-core!=2.0.*,!=2.1.*,!=2.2.*,!=2.3.0,<3.0.0dev,>=1.31.5 in /opt/conda/lib/python3.10/site-packages (from google-cloud-storage->gcsfs) (2.11.0)\n",
      "Requirement already satisfied: idna<4,>=2.5 in /opt/conda/lib/python3.10/site-packages (from requests->gcsfs) (3.4)\n",
      "Requirement already satisfied: certifi>=2017.4.17 in /opt/conda/lib/python3.10/site-packages (from requests->gcsfs) (2022.12.7)\n",
      "Requirement already satisfied: urllib3<1.27,>=1.21.1 in /opt/conda/lib/python3.10/site-packages (from requests->gcsfs) (1.26.14)\n",
      "Requirement already satisfied: protobuf!=3.20.0,!=3.20.1,!=4.21.0,!=4.21.1,!=4.21.2,!=4.21.3,!=4.21.4,!=4.21.5,<5.0.0dev,>=3.19.5 in /opt/conda/lib/python3.10/site-packages (from google-api-core!=2.0.*,!=2.1.*,!=2.2.*,!=2.3.0,<3.0.0dev,>=1.31.5->google-cloud-storage->gcsfs) (4.21.12)\n",
      "Requirement already satisfied: googleapis-common-protos<2.0dev,>=1.56.2 in /opt/conda/lib/python3.10/site-packages (from google-api-core!=2.0.*,!=2.1.*,!=2.2.*,!=2.3.0,<3.0.0dev,>=1.31.5->google-cloud-storage->gcsfs) (1.58.0)\n",
      "Requirement already satisfied: google-crc32c<2.0dev,>=1.0 in /opt/conda/lib/python3.10/site-packages (from google-resumable-media>=2.3.2->google-cloud-storage->gcsfs) (1.5.0)\n",
      "Requirement already satisfied: pyasn1<0.5.0,>=0.4.6 in /opt/conda/lib/python3.10/site-packages (from pyasn1-modules>=0.2.1->google-auth>=1.2->gcsfs) (0.4.8)\n",
      "Requirement already satisfied: oauthlib>=3.0.0 in /opt/conda/lib/python3.10/site-packages (from requests-oauthlib>=0.7.0->google-auth-oauthlib->gcsfs) (3.2.2)\n"
     ]
    },
    {
     "name": "stderr",
     "output_type": "stream",
     "text": [
      "/opt/conda/lib/python3.10/site-packages/geopandas/_compat.py:123: UserWarning: The Shapely GEOS version (3.11.1-CAPI-1.17.1) is incompatible with the GEOS version PyGEOS was compiled with (3.10.4-CAPI-1.16.2). Conversions between both will be slow.\n",
      "  warnings.warn(\n",
      "/tmp/ipykernel_3853420/2848130802.py:14: UserWarning: Shapely 2.0 is installed, but because PyGEOS is also installed, GeoPandas will still use PyGEOS by default for now. To force to use and test Shapely 2.0, you have to set the environment variable USE_PYGEOS=0. You can do this before starting the Python process, or in your code before importing geopandas:\n",
      "\n",
      "import os\n",
      "os.environ['USE_PYGEOS'] = '0'\n",
      "import geopandas\n",
      "\n",
      "In a future release, GeoPandas will switch to using Shapely by default. If you are using PyGEOS directly (calling PyGEOS functions on geometries from GeoPandas), this will then stop working and you are encouraged to migrate from PyGEOS to Shapely 2.0 (https://shapely.readthedocs.io/en/latest/migration_pygeos.html).\n",
      "  import geopandas as gpd\n"
     ]
    }
   ],
   "source": [
    "! pip install geopandas\n",
    "! pip install pandas\n",
    "! pip install pygeos\n",
    "! pip install boto\n",
    "! pip install s3fs\n",
    "! pip install shapely\n",
    "! pip install gcsfs\n",
    "import numpy as np\n",
    "import pandas as pd\n",
    "import matplotlib.pyplot as plt\n",
    "import gzip\n",
    "import time\n",
    "from itertools import groupby\n",
    "import geopandas as gpd\n",
    "from google.cloud import storage\n",
    "# import seaborn as sns\n",
    "# %matplotlib inline\n",
    "# from io import BytesIO\n",
    "# from google.cloud import storage\n",
    "\n",
    "# import os\n",
    "# client = language.LanguageServiceClient.from_service_account_json(\"/path/to/file.json\")\n",
    "# storage_client = storage.Client()\n",
    "# bucket = storage_client.get_bucket('beam-core-outputs')\n",
    "# path = \"gs://beam-core-outputs/\"\n",
    "# df = pd.read_csv(path)"
   ]
  },
  {
   "cell_type": "code",
   "execution_count": 6,
   "id": "051204be-4b46-4489-9adb-d960a14df99b",
   "metadata": {
    "tags": []
   },
   "outputs": [],
   "source": [
    "###### Inputs filepath, data_names, names\n",
    "\n",
    "nrows = None #None for all rows\n",
    "is_leg_mode = True\n",
    "is_SMART = True\n",
    "is_NYC = None\n",
    "\n",
    "\n",
    "# #######################################################################################################################\n",
    "# #############NYC##############\n",
    "if is_NYC:\n",
    "    fp = \"s3://beam-outputs/output/newyork/\"\n",
    "    output_nm = 'SummaryTable_NYC_baseline17.csv'\n",
    "    len_id_transit = 10\n",
    "    fp_res = 'outputs/'\n",
    "    is_NYC = True\n",
    "    is_WC = False\n",
    "    is_LT = False\n",
    "    is_GEO = False\n",
    "    is_collect_data = False\n",
    "    is_plot = False\n",
    "    data = {\n",
    "        #           'new-york-split_scenario-part-1__2022-06-03_17-21-39_iqs/ITERS/it.0/0.events.csv.gz':'Baseline Part1', \n",
    "        #           'new-york-split_scenario-part-2__2022-06-15_14-26-18_cuu/ITERS/it.0/0.events.csv.gz':'Baseline Part2', \n",
    "        #           'new-york-split_scenario-part-3__2022-06-15_14-26-18_dmi/ITERS/it.0/0.events.csv.gz':'Baseline Part3',\n",
    "        #           'new-york-300k-calibration-7__2022-06-25_17-40-03_aui/ITERS/it.10/10.events.csv.gz':'Run7',\n",
    "        #           'new-york-300k-calibration-11__2022-06-28_21-55-14_hbf/ITERS/it.10/10.events.csv.gz':'Run11',\n",
    "        #           'new-york-300k-calibration-12__2022-06-28_21-54-34_tav/ITERS/it.10/10.events.csv.gz':'Run12',\n",
    "        #           'new-york-300k-calibration-13__2022-06-29_17-21-34_psu/ITERS/it.10/10.events.csv.gz':'Run13',\n",
    "        #           'new-york-300k-calibration-15__2022-06-30_15-57-54_zqu/ITERS/it.10/10.events.csv.gz':'Run15',\n",
    "        #           'new-york-300k-calibration-16__2022-07-04_14-46-10_wvt/ITERS/it.10/10.events.csv.gz':'Run16',\n",
    "        #           'new-york-300k-calibration-17__2022-07-05_20-44-02_ccs/ITERS/it.10/10.events.csv.gz':'Run17',\n",
    "        #           'new-york-450k-calibration-18__2022-07-08_15-39-57_pxy/ITERS/it.10/10.events.csv.gz':'Run18',\n",
    "        #           'new-york-450k-calibration-19__2022-07-12_17-14-44_esm/ITERS/it.10/10.events.csv.gz':'Run19',\n",
    "        #           'new-york-450k-calibration-20__2022-07-12_22-31-28_czx/ITERS/it.10/10.events.csv.gz':'Run20',\n",
    "        #           'new-york-baseline-0-of-10__2022-07-17_01-19-13_fgz/ITERS/it.5/5.events.csv.gz':'Run21-0/10-fullpop',\n",
    "        #           'new-york-baseline-3-of-10__2022-07-17_01-19-21_soy/ITERS/it.5/5.events.csv.gz':'Run21-3/10-fullpop',\n",
    "        #           'new-york-baseline-4-of-10__2022-07-17_01-19-20_qig/ITERS/it.5/5.events.csv.gz':'Run21-4/10-fullpop',\n",
    "        #           'new-york-baseline-5-of-10__2022-07-17_01-19-12_yyt/ITERS/it.5/5.events.csv.gz':'Run21-5/10-fullpop',\n",
    "        #           'new-york-baseline-6-of-10__2022-07-17_01-19-12_dgi/ITERS/it.5/5.events.csv.gz':'Run21-6/10-fullpop',\n",
    "        #           'new-york-baseline-7-of-10__2022-07-17_01-19-14_qip/ITERS/it.5/5.events.csv.gz':'Run21-7/10-fullpop',\n",
    "        #           'new-york-baseline-8-of-10__2022-07-17_01-19-11_oko/ITERS/it.5/5.events.csv.gz':'Run21-8/10-fullpop',\n",
    "        #           'new-york-baseline-2-of-10__2022-07-19_01-38-47_ryr/ITERS/it.0/0.events.csv.gz':'Run21-2/10-fullpop',\n",
    "        #           'new-york-baseline-9-of-10__2022-07-19_01-38-46_hfm/ITERS/it.0/0.events.csv.gz':'Run21-9/10-fullpop',\n",
    "        #           'new-york-baseline-1-of-10__2022-07-19_15-06-02_ewc/ITERS/it.0/0.events.csv.gz':'Run21-1/10-fullpop',\n",
    "        #           'new-york-300k-may2020-calibration-1__2022-07-23_00-00-16_plu/ITERS/it.10/10.events.csv.gz':'Future-Run1',\n",
    "        #           'new-york-300k-may2020-calibration-1__2022-07-23_00-02-02_esg/ITERS/it.10/10.events.csv.gz':'Future-Run2',\n",
    "        #           'new-york-300k-may2020-calibration-1__2022-07-23_00-02-03_gzm/ITERS/it.10/10.events.csv.gz':'Future-Run4',\n",
    "        #           'new-york-300k-may2020-calibration-5__2022-07-25_19-38-26_fjs/ITERS/it.10/10.events.csv.gz':'Future-Run5',\n",
    "        #           'new-york-300k-may2020-calibration-6__2022-07-25_19-38-18_wqn/ITERS/it.10/10.events.csv.gz':'Future-Run6',\n",
    "        #           'new-york-300k-may2020-calibration-7__2022-07-25_19-38-21_gri/ITERS/it.10/10.events.csv.gz':'Future-Run7',\n",
    "        #           'new-york-300k-may2020-calibration-8__2022-07-25_19-40-44_xde/ITERS/it.10/10.events.csv.gz':'Future-Run8',\n",
    "        #           'new-york-300k-may2020-calibration-6__2022-08-06_00-15-58_tzw/ITERS/it.10/10.events.csv.gz':'Future-Run6_2',\n",
    "        #           'new-york-300k-may2020-calibration-9__2022-08-06_00-16-00_fmo/ITERS/it.10/10.events.csv.gz':'Future-Run9',\n",
    "        #           'new-york-300k-may2020-calibration-10__2022-08-06_00-15-54_zlo/ITERS/it.10/10.events.csv.gz':'Future-Run10',\n",
    "        #           'new-york-300k-may2020-calibration-12__2022-08-13_10-30-40_cvt/ITERS/it.10/10.events.csv.gz':'may2020-12',\n",
    "        #           'new-york-300k-may2020-calibration-13__2022-08-13_10-30-40_rkc/ITERS/it.10/10.events.csv.gz':'may2020-13',\n",
    "        #           'new-york-300k-august2020-calibration-1__2022-08-13_10-57-13_nig/ITERS/it.10/10.events.csv.gz':'aug2020-1',\n",
    "        #           'new-york-300k-august2020-calibration-2__2022-08-13_10-57-12_cap/ITERS/it.10/10.events.csv.gz':'aug2020-2',\n",
    "        #           'new-york-300k-jan2022-calibration-1__2022-08-13_10-57-17_xey/ITERS/it.10/10.events.csv.gz':'jan2022-1',\n",
    "        #           'new-york-300k-jan2022-calibration-2__2022-08-13_10-57-14_zuc/ITERS/it.10/10.events.csv.gz':'jan2022-2',\n",
    "        #           'new-york-300k-june2022-calibration-1__2022-08-13_10-57-14_osw/ITERS/it.10/10.events.csv.gz':'jun2022-1',\n",
    "        #           'new-york-300k-june2022-calibration-2__2022-08-13_10-57-14_lqo/ITERS/it.10/10.events.csv.gz':'jun2022-2',\n",
    "        #           'new-york-300k-august2021-calibration-1__2022-08-13_10-57-15_wpa/ITERS/it.10/10.events.csv.gz':'aug2021-1',\n",
    "        #           'new-york-300k-august2021-calibration-2__2022-08-13_10-57-12_pds/ITERS/it.10/10.events.csv.gz':'aug2021-2',\n",
    "        # 'new-york-600k-may2020-calibration-14__2022-08-18_20-20-25_ynh/ITERS/it.10/10.events.csv.gz':'may2020-3',\n",
    "        # 'new-york-600k-august2020-calibration-3__2022-08-18_20-20-33_qid/ITERS/it.10/10.events.csv.gz':'aug2020-3',\n",
    "        # 'new-york-600k-august2021-calibration-3__2022-08-18_20-20-22_ylh/ITERS/it.10/10.events.csv.gz':'aug2021-3',\n",
    "        # 'new-york-600k-jan2022-calibration-3__2022-08-18_20-20-23_eun/ITERS/it.10/10.events.csv.gz':'jan2022-3',\n",
    "        # 'new-york-600k-june2022-calibration-3__2022-08-18_20-20-33_uov/ITERS/it.10/10.events.csv.gz':'june2022-3'\n",
    "        #     'new-york-june2022-0-of-10__2022-09-07_04-43-41_eoc/ITERS/it.5/5.events.csv.gz':'june2022-4',\n",
    "        #     'new-york-august2021-0-of-10__2022-09-07_04-41-33_wmw/ITERS/it.5/5.events.csv.gz':'aug2021-4',\n",
    "        #     'new-york-august2020-0-of-10__2022-09-07_04-41-27_hgn/ITERS/it.5/5.events.csv.gz':'aug2020-4',\n",
    "        #     'new-york-may2020-0-of-10__2022-09-07_04-41-31_dku/ITERS/it.5/5.events.csv.gz':'may2020-4',\n",
    "        # 'new-york-may2020-0-of-10__2022-09-21_17-07-17_aon/ITERS/it.10/10.events.csv.gz':'may2020-5',\n",
    "        # 'new-york-august2020-0-of-10__2022-09-21_17-07-13_pug/ITERS/it.10/10.events.csv.gz':'august2020-5',\n",
    "        # 'new-york-august2021-0-of-10__2022-09-21_17-07-09_yan/ITERS/it.10/10.events.csv.gz':'august2021-5',\n",
    "        # 'new-york-june2022-0-of-10__2022-09-21_17-07-28_ojg/ITERS/it.10/10.events.csv.gz':'june2022-5',\n",
    "        # 'new-york-jan2022-0-of-10__2022-09-21_17-07-49_qdx/ITERS/it.10/10.events.csv.gz':'jan2022-5',\n",
    "        # 'new-york-baseline-0-of-10__2022-12-06_04-19-22_kra/ITERS/it.5/5.events.csv.gz':'baseline-GTFS-Capacities-it5',\n",
    "        # 'new-york-may2020-0-of-10__2022-12-05_20-53-27_plq/ITERS/it.10/10.events.csv.gz':'may2020-GTFS-Capacities-it10',\n",
    "        # 'new-york-august2020-0-of-10__2022-12-06_00-48-35_czx/ITERS/it.10/10.events.csv.gz':'august2020-GTFS-Capacities-it10',\n",
    "        # 'new-york-august2021-0-of-10__2022-12-05_06-08-36_lne/ITERS/it.5/5.events.csv.gz':'august2021-GTFS-Capacities-it5',\n",
    "        # 'new-york-jan2022-0-of-10__2022-12-06_04-19-20_pub/ITERS/it.10/10.events.csv.gz':'jan2022-GTFS-Capacities-it10',\n",
    "        # 'new-york-june2022-0-of-10__2022-12-08_06-41-28_yhp/ITERS/it.0/0.events.csv.gz':'june2022-GTFS-Capacities-it0'\n",
    "    # 'new-york-baseline-0-of-10__2022-12-13_06-39-57_mua/ITERS/it.5/5.events.csv.gz':'baseline-GTFS-Capacities4-it5',\n",
    "    #             # 'new-york-baseline-0-of-10__2022-12-13_06-42-03_uyo/ITERS/it.5/5.events.csv.gz':'baseline-GTFS-Capacities-it5',\n",
    "    #             # 'new-york-baseline-0-of-10__2022-12-13_06-41-05_kcb/ITERS/it.5/5.events.csv.gz':'baseline-GTFS-Capacities2-it5',\n",
    "    # 'new-york-baseline-0-of-10__2022-12-13_06-40-14_tqf/ITERS/it.5/5.events.csv.gz':'baseline-GTFS-Capacities3-it5',\n",
    "    # 'new-york-may2020-0-of-10__2022-12-12_18-04-01_zgo/ITERS/it.10/10.events.csv.gz':'may2020-GTFS-Capacities-it10',\n",
    "    # # 'new-york-may2020-0-of-10__2022-12-12_18-04-01_zgo/ITERS/it.5/5.events.csv.gz':'may2020-GTFS-Capacities-it5',\n",
    "    # 'new-york-may2020-0-of-10__2022-12-13_06-41-05_sat/ITERS/it.10/10.events.csv.gz':'may2020-GTFS-Capacities2-it10',\n",
    "    # # 'new-york-may2020-0-of-10__2022-12-13_06-41-05_sat/ITERS/it.5/5.events.csv.gz':'may2020-GTFS-Capacities2-it5',\n",
    "    # 'new-york-may2020-0-of-10__2022-12-13_06-40-55_fwv/ITERS/it.10/10.events.csv.gz':'may2020-GTFS-Capacities3-it10',\n",
    "    # # 'new-york-may2020-0-of-10__2022-12-13_06-40-55_fwv/ITERS/it.5/5.events.csv.gz':'may2020-GTFS-Capacities3-it5',\n",
    "    # 'new-york-may2020-0-of-10__2022-12-13_06-39-44_ije/ITERS/it.10/10.events.csv.gz':'may2020-GTFS-Capacities4-it10',\n",
    "    # # 'new-york-may2020-0-of-10__2022-12-13_06-39-44_ije/ITERS/it.5/5.events.csv.gz':'may2020-GTFS-Capacities4-it5',\n",
    "    # 'new-york-august2020-0-of-10__2022-12-12_18-03-58_xrx/ITERS/it.10/10.events.csv.gz':'august2020-GTFS-Capacities-it10',\n",
    "    # # 'new-york-august2020-0-of-10__2022-12-12_18-03-58_xrx/ITERS/it.5/5.events.csv.gz':'august2020-GTFS-Capacities-it15',\n",
    "    # 'new-york-august2020-0-of-10__2022-12-13_06-36-10_qre/ITERS/it.10/10.events.csv.gz':'august2020-GTFS-Capacities2-it10',\n",
    "    # # 'new-york-august2020-0-of-10__2022-12-13_06-36-10_qre/ITERS/it.5/5.events.csv.gz':'august2020-GTFS-Capacities2-it5',\n",
    "    # 'new-york-august2020-0-of-10__2022-12-13_06-36-08_mpe/ITERS/it.10/10.events.csv.gz':'august2020-GTFS-Capacities3-it10',\n",
    "    # # 'new-york-august2020-0-of-10__2022-12-13_06-36-08_mpe/ITERS/it.5/5.events.csv.gz':'august2020-GTFS-Capacities3-it15',\n",
    "    # 'new-york-august2021-0-of-10__2022-12-12_18-03-59_mbq/ITERS/it.10/10.events.csv.gz':'august2021-GTFS-Capacities-it10',\n",
    "    # # 'new-york-august2021-0-of-10__2022-12-12_18-03-59_mbq/ITERS/it.5/5.events.csv.gz':'august2021-GTFS-Capacities-it5',\n",
    "    # 'new-york-august2021-0-of-10__2022-12-13_06-36-08_ldo/ITERS/it.10/10.events.csv.gz':'august2021-GTFS-Capacities2-it10',\n",
    "    # # 'new-york-august2021-0-of-10__2022-12-13_06-36-08_ldo/ITERS/it.5/5.events.csv.gz':'august2021-GTFS-Capacities2-it5',\n",
    "    # 'new-york-august2021-0-of-10__2022-12-13_06-36-53_dwe/ITERS/it.10/10.events.csv.gz':'august2021-GTFS-Capacities4-it10',\n",
    "    # # 'new-york-august2021-0-of-10__2022-12-13_06-36-53_dwe/ITERS/it.5/5.events.csv.gz':'august2021-GTFS-Capacities4-it5',\n",
    "    # 'new-york-jan2022-0-of-10__2022-12-12_18-04-01_bua/ITERS/it.10/10.events.csv.gz':'jan2022-GTFS-Capacities-it10',\n",
    "    # # 'new-york-jan2022-0-of-10__2022-12-12_18-04-01_bua/ITERS/it.5/5.events.csv.gz':'jan2022-GTFS-Capacities-it5',\n",
    "    # 'new-york-jan2022-0-of-10__2022-12-13_06-36-09_kzo/ITERS/it.10/10.events.csv.gz':'jan2022-GTFS-Capacities2-it10',\n",
    "    # # 'new-york-jan2022-0-of-10__2022-12-13_06-36-09_kzo/ITERS/it.5/5.events.csv.gz':'jan2022-GTFS-Capacities2-it5',\n",
    "    # 'new-york-jan2022-0-of-10__2022-12-13_06-36-18_udd/ITERS/it.10/10.events.csv.gz':'jan2022-GTFS-Capacities3-it10',\n",
    "    # # 'new-york-jan2022-0-of-10__2022-12-13_06-36-18_udd/ITERS/it.5/5.events.csv.gz':'jan2022-GTFS-Capacities3-it5',\n",
    "    # 'new-york-jan2022-0-of-10__2022-12-13_06-36-47_jux/ITERS/it.10/10.events.csv.gz':'jan2022-GTFS-Capacities4-it10',\n",
    "    # # 'new-york-jan2022-0-of-10__2022-12-13_06-36-47_jux/ITERS/it.5/5.events.csv.gz':'jan2022-GTFS-Capacities4-it15',\n",
    "        \n",
    "    # '/ITERS/it.5/5.events.csv.gz':'baseline_5',\n",
    "    # '/ITERS/it.5/5.events.csv.gz':'baseline_6',\n",
    "    # 'new-york-may2020-0-of-10__2022-12-18_08-02-54_wwu/ITERS/it.5/5.events.csv.gz':'may2020_5',\n",
    "    # 'new-york-may2020-0-of-10__2022-12-18_08-02-58_sdt/ITERS/it.5/5.events.csv.gz':'may2020_6',\n",
    "    # 'new-york-august2020-0-of-10__2022-12-18_07-59-31_hac/ITERS/it.5/5.events.csv.gz':'aug2020_5',\n",
    "    # 'new-york-august2020-0-of-10__2022-12-18_07-59-36_vkr/ITERS/it.5/5.events.csv.gz':'aug2020_6',\n",
    "    # 'new-york-august2021-0-of-10__2022-12-18_08-03-04_dwz/ITERS/it.5/5.events.csv.gz':'aug2021_5',\n",
    "    # 'new-york-august2021-0-of-10__2022-12-18_08-03-07_mib/ITERS/it.5/5.events.csv.gz':'aug2021_6',\n",
    "    # 'new-york-jan2022-0-of-10__2022-12-18_07-59-32_fzx/ITERS/it.5/5.events.csv.gz':'jan2022_5',\n",
    "    # 'new-york-jan2022-0-of-10__2022-12-18_07-59-36_dmm/ITERS/it.5/5.events.csv.gz':'jan2022_6',\n",
    "    # 'new-york-june2022-0-of-10__2022-12-18_07-59-38_qdi/ITERS/it.5/5.events.csv.gz':'jun2022_1',\n",
    "    # 'new-york-june2022-0-of-10__2022-12-18_07-59-34_zfe/ITERS/it.5/5.events.csv.gz':'jun2022_2',\n",
    "    # 'new-york-june2022-0-of-10__2022-12-18_07-59-33_qqx/ITERS/it.5/5.events.csv.gz':'jun2022_3',\n",
    "    # 'new-york-june2022-0-of-10__2022-12-18_07-59-31_muj/ITERS/it.5/5.events.csv.gz':'jun2022_4',\n",
    "    # 'new-york-may2020-0-of-10__2022-12-18_17-38-08_gfm/ITERS/it.5/5.events.csv.gz':'may2020_5',\n",
    "    # 'new-york-may2020-0-of-10__2022-12-18_17-38-04_hfs/ITERS/it.5/5.events.csv.gz':'may2020_6',\n",
    "    # # '/ITERS/it.5/5.events.csv.gz':'aug2020_5',\n",
    "    # 'new-york-august2020-0-of-10__2022-12-18_17-38-04_phk/ITERS/it.5/5.events.csv.gz':'aug2020_6',\n",
    "    # 'new-york-august2021-0-of-10__2022-12-18_17-38-01_fuq/ITERS/it.5/5.events.csv.gz':'aug2021_5',\n",
    "    # 'new-york-august2021-0-of-10__2022-12-18_17-38-11_adj/ITERS/it.5/5.events.csv.gz':'aug2021_6',\n",
    "    # # '/ITERS/it.5/5.events.csv.gz':'jan2022_5',\n",
    "    # 'new-york-jan2022-0-of-10__2022-12-18_17-38-05_bel/ITERS/it.5/5.events.csv.gz':'jan2022_6',\n",
    "    # # '/ITERS/it.5/5.events.csv.gz':'jun2022_1',\n",
    "    # # '/ITERS/it.5/5.events.csv.gz':'jun2022_2',\n",
    "    # 'new-york-june2022-0-of-10__2022-12-18_17-38-08_yzn/ITERS/it.5/5.events.csv.gz':'jun2022_3',\n",
    "    # 'new-york-june2022-0-of-10__2022-12-18_17-38-04_dcx/ITERS/it.5/5.events.csv.gz':'jun2022_4',\n",
    "    # 'new-york-baseline-0-of-10__2022-12-19_23-42-50_zlc/ITERS/it.5/5.events.csv.gz':'baseline7',\n",
    "    # 'new-york-baseline-0-of-10__2022-12-19_23-42-51_nvw/ITERS/it.5/5.events.csv.gz':'baseline8',\n",
    "    # 'new-york-baseline-0-of-10__2022-12-19_23-42-53_uyr/ITERS/it.5/5.events.csv.gz':'baseline9',\n",
    "    # 'new-york-may2020-0-of-10__2022-12-19_23-42-52_frv/ITERS/it.5/5.events.csv.gz':'may2020_7',\n",
    "    # 'new-york-may2020-0-of-10__2022-12-19_23-42-55_dbm/ITERS/it.5/5.events.csv.gz':'may2020_8',\n",
    "    # 'new-york-may2020-0-of-10__2022-12-19_23-42-54_nmv/ITERS/it.5/5.events.csv.gz':'may2020_9',\n",
    "    # 'new-york-august2020-0-of-10__2022-12-19_23-42-59_wkn/ITERS/it.5/5.events.csv.gz':'aug2020_7',\n",
    "    # 'new-york-august2020-0-of-10__2022-12-19_23-42-53_bkp/ITERS/it.5/5.events.csv.gz':'aug2020_8',\n",
    "    # 'new-york-august2020-0-of-10__2022-12-19_23-42-49_zpt/ITERS/it.5/5.events.csv.gz':'aug2020_9',\n",
    "    # 'new-york-august2021-0-of-10__2022-12-19_23-42-50_xif/ITERS/it.5/5.events.csv.gz':'aug2021_7',\n",
    "    # 'new-york-august2021-0-of-10__2022-12-19_23-42-52_dsq/ITERS/it.5/5.events.csv.gz':'aug2021_8',\n",
    "    # 'new-york-august2021-0-of-10__2022-12-19_23-42-52_keu/ITERS/it.5/5.events.csv.gz':'aug2021_9',\n",
    "    # 'new-york-jan2022-0-of-10__2022-12-19_23-42-51_hxu/ITERS/it.5/5.events.csv.gz':'jan2022_7',\n",
    "    # 'new-york-jan2022-0-of-10__2022-12-19_23-42-49_pkq/ITERS/it.5/5.events.csv.gz':'jan2022_8',\n",
    "    # 'new-york-jan2022-0-of-10__2022-12-19_23-42-51_hrx/ITERS/it.5/5.events.csv.gz':'jan2022_9',\n",
    "    # 'new-york-june2022-0-of-10__2022-12-19_23-42-50_mtd/ITERS/it.5/5.events.csv.gz':'jun2022_7',\n",
    "    # 'new-york-june2022-0-of-10__2022-12-19_23-42-53_qol/ITERS/it.5/5.events.csv.gz':'jun2022_8',\n",
    "    # 'new-york-june2022-0-of-10__2022-12-19_23-42-48_caq/ITERS/it.5/5.events.csv.gz':'jun2022_9',\n",
    "    # 'new-york-august2020-0-of-10__2022-12-21_09-42-56_idw/ITERS/it.5/5.events.csv.gz':'aug2020_10',\n",
    "    # 'new-york-august2020-0-of-10__2022-12-21_09-42-57_fgn/ITERS/it.5/5.events.csv.gz':'aug2020_11',\n",
    "    # 'new-york-august2020-0-of-10__2022-12-21_01-14-46_xiy/ITERS/it.5/5.events.csv.gz':'aug2020_12',\n",
    "    # 'new-york-august2020-0-of-10__2022-12-21_01-42-00_tli/ITERS/it.5/5.events.csv.gz':'aug2020_13',\n",
    "    # 'new-york-august2020-0-of-10__2022-12-21_09-42-54_txi/ITERS/it.5/5.events.csv.gz':'aug2020_14',\n",
    "    # 'new-york-august2021-0-of-10__2022-12-21_01-14-45_rsd/ITERS/it.5/5.events.csv.gz':'aug2021_10',\n",
    "    # 'new-york-august2021-0-of-10__2022-12-21_01-14-44_pct/ITERS/it.5/5.events.csv.gz':'aug2021_11',\n",
    "    # 'new-york-august2021-0-of-10__2022-12-21_01-14-46_ilu/ITERS/it.5/5.events.csv.gz':'aug2021_12',\n",
    "    # 'new-york-august2021-0-of-10__2022-12-21_01-42-02_ifx/ITERS/it.5/5.events.csv.gz':'aug2021_13',\n",
    "    # 'new-york-august2021-0-of-10__2022-12-21_01-40-11_sdu/ITERS/it.5/5.events.csv.gz':'aug2021_14',\n",
    "    # 'new-york-baseline-0-of-10__2022-12-21_01-14-46_pfw/ITERS/it.5/5.events.csv.gz':'Baseline_10',\n",
    "    # 'new-york-baseline-0-of-10__2022-12-21_01-14-48_arn/ITERS/it.5/5.events.csv.gz':'Baseline_11',\n",
    "    # 'new-york-baseline-0-of-10__2022-12-21_01-14-55_zfx/ITERS/it.5/5.events.csv.gz':'Baseline_12',\n",
    "    # 'new-york-baseline-0-of-10__2022-12-21_01-41-59_aat/ITERS/it.5/5.events.csv.gz':'Baseline_13',\n",
    "    # 'new-york-baseline-0-of-10__2022-12-21_01-40-07_esl/ITERS/it.5/5.events.csv.gz':'Baseline_14',\n",
    "    # 'new-york-baseline-0-of-10__2022-12-21_01-40-10_lrg/ITERS/it.5/5.events.csv.gz':'Baseline_15',\n",
    "    # 'new-york-jan2022-0-of-10__2022-12-21_01-40-16_irv/ITERS/it.5/5.events.csv.gz':'jan2022_11',\n",
    "    # 'new-york-jan2022-0-of-10__2022-12-21_01-42-02_fvl/ITERS/it.5/5.events.csv.gz':'jan2022_12',\n",
    "    # 'new-york-jan2022-0-of-10__2022-12-21_01-42-08_gvz/ITERS/it.5/5.events.csv.gz':'jan2022_13',\n",
    "    # 'new-york-may2020-0-of-10__2022-12-21_01-14-46_cjo/ITERS/it.5/5.events.csv.gz':'may2020_10',\n",
    "    # 'new-york-may2020-0-of-10__2022-12-21_01-14-44_axx/ITERS/it.5/5.events.csv.gz':'may2020_11',\n",
    "    # 'new-york-may2020-0-of-10__2022-12-21_01-14-46_ize/ITERS/it.5/5.events.csv.gz':'may2020_12',\n",
    "    # 'new-york-may2020-0-of-10__2022-12-21_01-14-45_pqr/ITERS/it.5/5.events.csv.gz':'may2020_13',\n",
    "    # 'new-york-may2020-0-of-10__2022-12-21_01-14-51_nuc/ITERS/it.5/5.events.csv.gz':'may2020_14',\n",
    "    # 'new-york-jan2022-0-of-10__2022-12-21_01-14-50_gyp/ITERS/it.5/5.events.csv.gz':'jan2022_10',\n",
    "    # 'new-york-june2022-0-of-10__2022-12-21_01-14-49_tkf/ITERS/it.5/5.events.csv.gz':'jun2022_10',\n",
    "    # 'new-york-baseline-0-of-10__2022-12-27_22-27-09_unl/ITERS/it.5/5.events.csv.gz':'baseline_16',\n",
    "    # 'new-york-baseline-0-of-10__2022-12-27_22-28-53_lrk/ITERS/it.5/5.events.csv.gz':'baseline_17',\n",
    "    # 'new-york-baseline-0-of-10__2022-12-27_22-27-09_mfg/ITERS/it.5/5.events.csv.gz':'baseline_18',\n",
    "    # 'new-york-may2020-0-of-10__2022-12-27_22-27-12_jkl/ITERS/it.5/5.events.csv.gz':'may2020_15',\n",
    "    # 'new-york-may2020-0-of-10__2022-12-27_22-27-19_onq/ITERS/it.0/0.events.csv.gz':'may2020_16-it0',\n",
    "    # 'new-york-may2020-0-of-10__2022-12-27_22-27-12_gxt/ITERS/it.5/5.events.csv.gz':'may2020_17',\n",
    "    # 'new-york-august2020-0-of-10__2022-12-27_22-27-09_bvj/ITERS/it.0/0.events.csv.gz':'aug2020_15-it0',\n",
    "    # 'new-york-august2020-0-of-10__2022-12-27_22-27-08_qyq/ITERS/it.5/5.events.csv.gz':'aug2020_16',\n",
    "    # 'new-york-august2020-0-of-10__2022-12-27_22-27-11_gql/ITERS/it.5/5.events.csv.gz':'aug2020_17',\n",
    "    # 'new-york-august2021-0-of-10__2022-12-27_22-27-07_cqe/ITERS/it.5/5.events.csv.gz':'aug2021_15',\n",
    "    # 'new-york-august2021-0-of-10__2022-12-27_22-27-08_drl/ITERS/it.0/0.events.csv.gz':'aug2021_16-it0',\n",
    "    # 'new-york-august2021-0-of-10__2022-12-27_22-28-50_otm/ITERS/it.5/5.events.csv.gz':'aug2021_17',\n",
    "    # 'new-york-jan2022-0-of-10__2022-12-27_22-28-53_rxs/ITERS/it.5/5.events.csv.gz':'jan2022_14',\n",
    "    # 'new-york-jan2022-0-of-10__2022-12-27_22-28-52_cfs/ITERS/it.5/5.events.csv.gz':'jan2022_15',\n",
    "    # 'new-york-jan2022-0-of-10__2022-12-27_22-27-10_mht/ITERS/it.5/5.events.csv.gz':'jan2022_16',\n",
    "    # 'new-york-june2022-0-of-10__2022-12-28_03-33-09_hek/ITERS/it.5/5.events.csv.gz':'may2022_11',\n",
    "    # 'new-york-june2022-0-of-10__2022-12-28_03-33-06_yvi/ITERS/it.5/5.events.csv.gz':'may2022_12',\n",
    "    # 'new-york-june2022-0-of-10__2022-12-28_03-33-06_psr/ITERS/it.5/5.events.csv.gz':'may2022_13',\n",
    "    # 'new-york-baseline-0-of-10__2023-01-03_19-59-12_nwn/ITERS/it.5/5.events.csv.gz':'baseline-0',\n",
    "    # # '/ITERS/it.5/5.events.csv.gz':'baseline-1',\n",
    "    # 'new-york-baseline-2-of-10__2023-01-03_19-59-06_brm/ITERS/it.5/5.events.csv.gz':'baseline-2',\n",
    "    # 'new-york-baseline-3-of-10__2023-01-03_19-59-07_kqr/ITERS/it.5/5.events.csv.gz':'baseline-3',\n",
    "    # 'new-york-baseline-4-of-10__2023-01-03_19-59-09_fbb/ITERS/it.5/5.events.csv.gz':'baseline-4',\n",
    "    # 'new-york-baseline-5-of-10__2023-01-03_19-59-11_tjh/ITERS/it.5/5.events.csv.gz':'baseline-5',\n",
    "    # 'new-york-baseline-6-of-10__2023-01-03_19-59-12_zwm/ITERS/it.5/5.events.csv.gz':'baseline-6',\n",
    "    # 'new-york-baseline-7-of-10__2023-01-03_19-59-19_bcr/ITERS/it.5/5.events.csv.gz':'baseline-7',\n",
    "    # 'new-york-baseline-8-of-10__2023-01-03_19-59-14_olx/ITERS/it.5/5.events.csv.gz':'baseline-8',\n",
    "    # 'new-york-baseline-9-of-10__2023-01-03_19-59-07_xcc/ITERS/it.5/5.events.csv.gz':'baseline-9',\n",
    "    # 'new-york-jan2022-0-of-10__2023-01-04_00-19-31_leg/ITERS/it.5/5.events.csv.gz':'jan2022-0',\n",
    "    # 'new-york-jan2022-1-of-10__2023-01-04_00-19-31_bus/ITERS/it.5/5.events.csv.gz':'jan2022-1',\n",
    "    # 'new-york-jan2022-2-of-10__2023-01-04_00-19-30_bqw/ITERS/it.5/5.events.csv.gz':'jan2022-2',\n",
    "    # 'new-york-jan2022-3-of-10__2023-01-04_00-19-36_noe/ITERS/it.5/5.events.csv.gz':'jan2022-3',\n",
    "    # 'new-york-jan2022-4-of-10__2023-01-04_00-19-33_nop/ITERS/it.5/5.events.csv.gz':'jan2022-4',\n",
    "    # 'new-york-jan2022-5-of-10__2023-01-04_00-19-37_pnp/ITERS/it.5/5.events.csv.gz':'jan2022-5',\n",
    "    # 'new-york-jan2022-6-of-10__2023-01-04_00-19-29_kny/ITERS/it.5/5.events.csv.gz':'jan2022-6',\n",
    "    # 'new-york-jan2022-7-of-10__2023-01-04_00-19-39_qwt/ITERS/it.5/5.events.csv.gz':'jan2022-7',\n",
    "    # 'new-york-jan2022-8-of-10__2023-01-04_00-19-35_fzq/ITERS/it.5/5.events.csv.gz':'jan2022-8',\n",
    "    # 'new-york-jan2022-9-of-10__2023-01-04_00-19-31_dgg/ITERS/it.5/5.events.csv.gz':'jan2022-9',\n",
    "    # 'new-york-august2020-0-of-10__2023-01-04_02-12-28_pqo/ITERS/it.5/5.events.csv.gz':'aug2020-18',\n",
    "    # 'new-york-august2020-0-of-10__2023-01-04_02-12-35_ftf/ITERS/it.5/5.events.csv.gz':'aug2020-19',\n",
    "    # 'new-york-august2020-0-of-10__2023-01-04_02-12-31_sfq/ITERS/it.0/0.events.csv.gz':'aug2020-20-it0',\n",
    "    # 'new-york-august2021-0-of-10__2023-01-04_02-12-37_qvi/ITERS/it.5/5.events.csv.gz':'aug2021-18',\n",
    "    # 'new-york-august2021-0-of-10__2023-01-04_02-12-35_ial/ITERS/it.5/5.events.csv.gz':'aug2021-19',\n",
    "    # 'new-york-august2021-0-of-10__2023-01-04_02-12-38_bet/ITERS/it.5/5.events.csv.gz':'aug2021-20',\n",
    "    # 'new-york-may2020-0-of-10__2023-01-04_00-45-47_ipb/ITERS/it.5/5.events.csv.gz':'may2020-18',\n",
    "    # 'new-york-may2020-0-of-10__2023-01-04_00-45-48_hfx/ITERS/it.5/5.events.csv.gz':'may2020-19',\n",
    "    # 'new-york-june2022-0-of-10__2023-01-03_23-31-41_eiq/ITERS/it.5/5.events.csv.gz':'may2022-14',\n",
    "    # 'new-york-june2022-0-of-10__2023-01-03_23-31-41_ciy/ITERS/it.5/5.events.csv.gz':'may2022-15',\n",
    "    # 'new-york-june2022-0-of-10__2023-01-03_23-31-42_zmm/ITERS/it.5/5.events.csv.gz':'may2022-16',\n",
    "    # 'new-york-may2020-0-of-10__2023-01-10_16-54-32_cmn/ITERS/it.5/5.events.csv.gz':'may2020-20',\n",
    "    # 'new-york-may2020-0-of-10__2023-01-10_16-54-35_qsu/ITERS/it.5/5.events.csv.gz':'may2020-21',\n",
    "    # 'new-york-may2020-0-of-10__2023-01-10_16-54-50_ckx/ITERS/it.5/5.events.csv.gz':'may2020-22',\n",
    "    # 'new-york-may2020-0-of-10__2023-01-10_16-54-50_qmq/ITERS/it.5/5.events.csv.gz':'may2020-23',\n",
    "    # 'new-york-may2020-0-of-10__2023-01-10_16-55-09_oal/ITERS/it.5/5.events.csv.gz':'may2020-24',\n",
    "    # 'new-york-may2020-0-of-10__2023-01-10_16-55-11_foj/ITERS/it.5/5.events.csv.gz':'may2020-25',\n",
    "    # 'new-york-may2020-0-of-10__2023-01-10_16-55-36_lvz/ITERS/it.5/5.events.csv.gz':'may2020-26',\n",
    "    'new-york-baseline-0-of-10__2023-01-03_19-59-12_nwn/ITERS/it.5/5.events.csv.gz':'baseline-0',\n",
    "    'new-york-baseline-1-of-10__2023-01-03_19-59-13_jgp/ITERS/it.5/5.events.csv.gz':'baseline-1',\n",
    "    'new-york-baseline-2-of-10__2023-01-03_19-59-06_brm/ITERS/it.5/5.events.csv.gz':'baseline-2',\n",
    "    'new-york-baseline-3-of-10__2023-01-03_19-59-07_kqr/ITERS/it.5/5.events.csv.gz':'baseline-3',\n",
    "    'new-york-baseline-4-of-10__2023-01-03_19-59-09_fbb/ITERS/it.5/5.events.csv.gz':'baseline-4',\n",
    "    'new-york-baseline-5-of-10__2023-01-03_19-59-11_tjh/ITERS/it.5/5.events.csv.gz':'baseline-5',\n",
    "    'new-york-baseline-6-of-10__2023-01-03_19-59-12_zwm/ITERS/it.5/5.events.csv.gz':'baseline-6',\n",
    "    'new-york-baseline-7-of-10__2023-01-03_19-59-19_bcr/ITERS/it.5/5.events.csv.gz':'baseline-7',\n",
    "    'new-york-baseline-8-of-10__2023-01-03_19-59-14_olx/ITERS/it.5/5.events.csv.gz':'baseline-8',\n",
    "    'new-york-baseline-9-of-10__2023-01-03_19-59-07_xcc/ITERS/it.5/5.events.csv.gz':'baseline-9',\n",
    "    'new-york-may2020-0-of-10__2023-01-12_18-51-34_sju/ITERS/it.5/5.events.csv.gz':'may2020-0',\n",
    "    'new-york-may2020-1-of-10__2023-01-12_18-51-33_nyd/ITERS/it.5/5.events.csv.gz':'may2020-1',\n",
    "    'new-york-may2020-2-of-10__2023-01-12_18-51-29_yow/ITERS/it.5/5.events.csv.gz':'may2020-2',\n",
    "    'new-york-may2020-3-of-10__2023-01-12_18-51-36_inx/ITERS/it.5/5.events.csv.gz':'may2020-3',\n",
    "    'new-york-may2020-4-of-10__2023-01-12_18-51-31_iwm/ITERS/it.5/5.events.csv.gz':'may2020-4',\n",
    "    'new-york-may2020-5-of-10__2023-01-12_18-51-34_jui/ITERS/it.5/5.events.csv.gz':'may2020-5',\n",
    "    'new-york-may2020-6-of-10__2023-01-12_18-51-34_gqr/ITERS/it.5/5.events.csv.gz':'may2020-6',\n",
    "    'new-york-may2020-7-of-10__2023-01-12_18-51-28_juu/ITERS/it.5/5.events.csv.gz':'may2020-7',\n",
    "    'new-york-may2020-8-of-10__2023-01-12_18-51-36_ehv/ITERS/it.5/5.events.csv.gz':'may2020-8',\n",
    "    'new-york-may2020-9-of-10__2023-01-12_18-51-54_bas/ITERS/it.5/5.events.csv.gz':'may2020-9',\n",
    "    'new-york-august2020-0-of-10__2023-01-10_16-52-48_lgr/ITERS/it.5/5.events.csv.gz':'aug2020-0',\n",
    "    'new-york-august2020-1-of-10__2023-01-10_16-52-46_gib/ITERS/it.5/5.events.csv.gz':'aug2020-1',\n",
    "    'new-york-august2020-2-of-10__2023-01-14_21-19-35_flk/ITERS/it.5/5.events.csv.gz':'aug2020-2',\n",
    "    'new-york-august2020-3-of-10__2023-01-15_01-54-44_txq/ITERS/it.5/5.events.csv.gz':'aug2020-3',\n",
    "    'new-york-august2020-4-of-10__2023-01-10_16-52-43_rio/ITERS/it.5/5.events.csv.gz':'aug2020-4',\n",
    "    'new-york-august2020-5-of-10__2023-01-10_16-53-00_vjr/ITERS/it.5/5.events.csv.gz':'aug2020-5',\n",
    "    'new-york-august2020-6-of-10__2023-01-10_16-52-53_bhh/ITERS/it.5/5.events.csv.gz':'aug2020-6',\n",
    "    'new-york-august2020-7-of-10__2023-01-10_16-53-01_drt/ITERS/it.5/5.events.csv.gz':'aug2020-7',\n",
    "    'new-york-august2020-8-of-10__2023-01-10_16-53-15_qgy/ITERS/it.5/5.events.csv.gz':'aug2020-8',\n",
    "    'new-york-august2020-9-of-10__2023-01-10_16-53-14_pdt/ITERS/it.5/5.events.csv.gz':'aug2020-9',\n",
    "    'new-york-august2021-0-of-10__2023-01-12_18-51-43_rxk/ITERS/it.5/5.events.csv.gz':'aug2021-0',\n",
    "    'new-york-august2021-1-of-10__2023-01-12_18-51-29_aza/ITERS/it.5/5.events.csv.gz':'aug2021-1',\n",
    "    'new-york-august2021-2-of-10__2023-01-12_18-51-33_xqs/ITERS/it.5/5.events.csv.gz':'aug2021-2',\n",
    "    'new-york-august2021-3-of-10__2023-01-12_18-51-29_abg/ITERS/it.5/5.events.csv.gz':'aug2021-3',\n",
    "    'new-york-august2021-4-of-10__2023-01-12_18-51-34_lwg/ITERS/it.5/5.events.csv.gz':'aug2021-4',\n",
    "    'new-york-august2021-5-of-10__2023-01-12_18-51-34_air/ITERS/it.5/5.events.csv.gz':'aug2021-5',\n",
    "    'new-york-august2021-6-of-10__2023-01-12_18-51-28_vbj/ITERS/it.5/5.events.csv.gz':'aug2021-6',\n",
    "    'new-york-august2021-7-of-10__2023-01-12_18-51-29_dnu/ITERS/it.5/5.events.csv.gz':'aug2021-7',\n",
    "    'new-york-august2021-8-of-10__2023-01-12_18-51-29_uzv/ITERS/it.5/5.events.csv.gz':'aug2021-8',\n",
    "    'new-york-august2021-9-of-10__2023-01-19_00-58-43_fwc/ITERS/it.5/5.events.csv.gz':'aug2021-9',\n",
    "    'new-york-jan2022-0-of-10__2023-01-04_00-19-31_leg/ITERS/it.5/5.events.csv.gz':'jan2022-0',\n",
    "    'new-york-jan2022-1-of-10__2023-01-14_04-04-57_ztd/ITERS/it.5/5.events.csv.gz':'jan2022-1',\n",
    "    'new-york-jan2022-2-of-10__2023-01-04_00-19-30_bqw/ITERS/it.5/5.events.csv.gz':'jan2022-2',\n",
    "    'new-york-jan2022-3-of-10__2023-01-04_00-19-36_noe/ITERS/it.5/5.events.csv.gz':'jan2022-3',\n",
    "    'new-york-jan2022-4-of-10__2023-01-04_00-19-33_nop/ITERS/it.5/5.events.csv.gz':'jan2022-4',\n",
    "    'new-york-jan2022-5-of-10__2023-01-04_00-19-37_pnp/ITERS/it.5/5.events.csv.gz':'jan2022-5',\n",
    "    'new-york-jan2022-6-of-10__2023-01-04_00-19-29_kny/ITERS/it.5/5.events.csv.gz':'jan2022-6',\n",
    "    'new-york-jan2022-7-of-10__2023-01-04_00-19-39_qwt/ITERS/it.5/5.events.csv.gz':'jan2022-7',\n",
    "    'new-york-jan2022-8-of-10__2023-01-04_00-19-35_fzq/ITERS/it.5/5.events.csv.gz':'jan2022-8',\n",
    "    'new-york-jan2022-9-of-10__2023-01-04_00-19-31_dgg/ITERS/it.5/5.events.csv.gz':'jan2022-9',\n",
    "    'new-york-june2022-0-of-10__2023-01-10_16-53-18_iir/ITERS/it.5/5.events.csv.gz':'may2022-0',\n",
    "    'new-york-june2022-1-of-10__2023-01-10_16-53-23_mrs/ITERS/it.0/0.events.csv.gz':'may2022-1',\n",
    "    'new-york-june2022-2-of-10__2023-01-10_16-53-36_log/ITERS/it.5/5.events.csv.gz':'may2022-2',\n",
    "    'new-york-june2022-3-of-10__2023-01-10_16-53-36_lvd/ITERS/it.0/0.events.csv.gz':'may2022-3',\n",
    "    'new-york-june2022-4-of-10__2023-01-10_16-53-44_afe/ITERS/it.0/0.events.csv.gz':'may2022-4',\n",
    "    'new-york-june2022-5-of-10__2023-01-10_16-53-58_gry/ITERS/it.5/5.events.csv.gz':'may2022-5',\n",
    "    'new-york-june2022-6-of-10__2023-01-10_16-53-59_qdi/ITERS/it.5/5.events.csv.gz':'may2022-6',\n",
    "    'new-york-june2022-7-of-10__2023-01-10_16-54-13_fwj/ITERS/it.0/0.events.csv.gz':'may2022-7',\n",
    "    'new-york-june2022-8-of-10__2023-01-10_16-54-18_okl/ITERS/it.5/5.events.csv.gz':'may2022-8',\n",
    "    'new-york-june2022-9-of-10__2023-01-10_16-54-38_jvb/ITERS/it.5/5.events.csv.gz':'may2022-9',\n",
    "\n",
    "                }\n",
    "    shares_pop = [\n",
    "                0.1,0.1,0.1,0.1,0.1,0.1,0.1,0.1,0.1,0.1,0.1,0.1,0.1,0.1,0.1,0.1,0.1,0.1,0.1,0.1,0.1,0.1,0.1,0.1,0.1,0.1,0.1,0.1,0.1,0.1,0.1,0.1,0.1,0.1,0.1,0.1,0.1,0.1,0.1,0.1,0.1,0.1,0.1,0.1,0.1,0.1,0.1,0.1,0.1,0.1,0.1,0.1,0.1,0.1,0.1,0.1,0.1,0.1,0.1,0.1,0.1,0.1,0.1,0.1,0.1,0.1,0.1,0.1,0.1,0.1,0.1,0.1,0.1,0.1,0.1,0.1,0.1,0.1,0.1,0.1,0.1,0.1,0.1,0.1,0.1,0.1,0.1,0.1,0.1,0.1,0.1,0.1,0.1,0.1,0.1,0.1,0.1,0.1,0.1,0.1,0.1,0.1,0.1,0.1,0.1,0.1,0.1,0.1,0.1,0.1,0.1,0.1,0.1,0.1,0.1,0.1,0.1\n",
    "        # 0.033333,0.033333,0.033333,0.033333,0.033333,0.033333,0.033333,0.033333,0.033333,0.033333,0.033333,0.033333,0.033333,0.033333,0.033333,0.033333,0.033333,0.033333,0.033333,0.033333,0.033333,0.033333,0.033333            \n",
    "        # 0.1,0.1,0.1,0.1,0.1,\n",
    "                 #0.059,0.059,0.059,0.059,0.059\n",
    "                # 0.0295,0.0295,0.0295,0.0295,\n",
    "                    ]\n",
    "    data_names = data.keys()\n",
    "    plan_names = []\n",
    "    for data_name in data_names:\n",
    "        plan_names.append(data_name[:-13]+'plans.csv.gz')\n",
    "\n",
    "    names = data.values()\n",
    "############################################RH###########################################################################\n",
    "# fp = \"\"\n",
    "# output_nm = 'SummaryTable_Pilates_RHM5.csv'\n",
    "# len_id_transit = 3\n",
    "# fp_res = 'outputs/'\n",
    "# is_NYC = False\n",
    "# is_WC = False\n",
    "# is_LT = False\n",
    "# is_GEO = False\n",
    "# is_collect_data = True\n",
    "# is_plot = False\n",
    "# data = {\n",
    "# Dima            \n",
    "# # 's3://beam-outputs/output/newyork/nyc-ridehail-200k__2022-09-29_11-25-35_sor/ITERS/it.0/0.events.csv.gz':'Develop',\n",
    "# # 's3://beam-outputs/output/newyork/nyc-ridehail-200k__2022-09-29_11-36-23_zux/ITERS/it.0/0.events.csv.gz':'RHM1',\n",
    "# # 's3://beam-outputs/output/newyork/nyc-2-ridehail-200k__2022-09-29_11-44-14_esl/ITERS/it.0/0.events.csv.gz':'RHM2',\n",
    "# # 's3://beam-outputs/output/newyork/nyc-2-ridehail-200k__2022-10-20_09-07-49_fii/ITERS/it.0/0.events.csv.gz':'RHM2-2',\n",
    "# # Cri\n",
    "# # 's3://beam-outputs/output/sfbay/sfbay-smart2-2rh-calibr__2022-10-24_02-03-37_ism/ITERS/it.0/0.events.csv.gz':'2RH',\n",
    "# # 's3://beam-outputs/output/sfbay/sfbay-smart2-rh-calibr__2022-10-23_21-30-34_jxx/ITERS/it.0/0.events.csv.gz':'1RH',\n",
    "# # 's3://beam-outputs/output/sfbay/sfbay-smart2-default__2022-10-23_21-30-32_gzm/ITERS/it.0/0.events.csv.gz':'Default',\n",
    "#                 's3://beam-outputs/output/sfbay/sfbay-smart2-default__2022-10-25_19-09-11_vgb/ITERS/it.0/0.events.csv.gz':'Default',\n",
    "#                 's3://beam-outputs/output/sfbay/sfbay-smart2-rh-calibr__2022-10-25_19-09-17_bcy/ITERS/it.0/0.events.csv.gz':'1RH',\n",
    "#                 's3://beam-outputs/output/sfbay/sfbay-smart2-2rh-calibr__2022-10-25_19-09-17_rup/ITERS/it.0/0.events.csv.gz':'2RH',\n",
    "# # 's3://beam-outputs/output/sfbay/sfbay-smart2-rh-calibr1__2022-10-26_06-11-56_wjs/ITERS/it.0/0.events.csv.gz':'Calibration1',\n",
    "# # 's3://beam-outputs/output/sfbay/sfbay-smart2-rh-calibr2__2022-10-26_06-11-55_etk/ITERS/it.0/0.events.csv.gz':'Calibration2',\n",
    "# # 's3://beam-outputs/output/sfbay/sfbay-smart2-rh-calibr3__2022-10-26_06-11-59_hee/ITERS/it.0/0.events.csv.gz':'Calibration3',\n",
    "# # 's3://beam-outputs/output/sfbay/sfbay-smart2-rh-calibr4__2022-10-26_06-11-56_suk/ITERS/it.0/0.events.csv.gz':'Calibration4',\n",
    "# # 's3://beam-outputs/output/sfbay/sfbay-smart2-rh-calibr5__2022-10-26_06-12-04_vfy/ITERS/it.0/0.events.csv.gz':'Calibration5',\n",
    "# # 's3://beam-outputs/output/sfbay/sfbay-smart2-rh-calibr6__2022-10-26_06-12-15_cum/ITERS/it.0/0.events.csv.gz':'Calibration6',\n",
    "# # 's3://beam-outputs/output/sfbay/sfbay-smart2-rh-calibr7__2022-10-26_06-12-44_xox/ITERS/it.0/0.events.csv.gz':'Calibration7',\n",
    "#                 's3://beam-outputs/output/sfbay/sfbay-smart2-rh-calibr1__2022-10-27_03-00-05_whk/ITERS/it.0/0.events.csv.gz':'Calibration1',\n",
    "#                 's3://beam-outputs/output/sfbay/sfbay-smart2-rh-calibr2__2022-10-27_03-00-05_czg/ITERS/it.0/0.events.csv.gz':'Calibration2',\n",
    "# # 's3://beam-outputs/output/sfbay/sfbay-smart2-rh-calibr3__2022-10-27_03-00-01_zto/ITERS/it.0/0.events.csv.gz':'Calibration3',\n",
    "#                 's3://beam-outputs/output/sfbay/sfbay-smart2-rh-calibr4__2022-10-27_02-59-56_dzh/ITERS/it.0/0.events.csv.gz':'Calibration4',\n",
    "#                 's3://beam-outputs/output/sfbay/sfbay-smart2-rh-calibr5__2022-10-27_02-59-56_eyc/ITERS/it.0/0.events.csv.gz':'Calibration5',\n",
    "#                 's3://beam-outputs/output/sfbay/sfbay-smart2-rh-calibr6__2022-10-27_03-00-03_xin/ITERS/it.0/0.events.csv.gz':'Calibration6',\n",
    "#                 's3://beam-outputs/output/sfbay/sfbay-smart2-rh-calibr7__2022-10-27_02-59-55_bgo/ITERS/it.0/0.events.csv.gz':'Calibration7',\n",
    "\n",
    "                # 's3://beam-outputs/output/sfbay/sfbay-smart2-rh-calibr8__2022-11-03_16-41-48_mni/ITERS/it.0/0.events.csv.gz':'Calibration8',\n",
    "                # 's3://beam-outputs/output/sfbay/sfbay-smart2-rh-calibr9__2022-11-03_16-41-50_fxk/ITERS/it.0/0.events.csv.gz':'Calibration9',\n",
    "                # 's3://beam-outputs/output/sfbay/sfbay-smart2-rh-calibr10__2022-11-03_16-41-53_jgw/ITERS/it.0/0.events.csv.gz':'Calibration10',\n",
    "                # 's3://beam-outputs/output/sfbay/sfbay-smart2-rh-calibr11__2022-11-02_23-39-15_veq/ITERS/it.0/0.events.csv.gz':'Calibration11',\n",
    "                # 's3://beam-outputs/output/sfbay/sfbay-smart2-rh-calibr12__2022-11-03_16-41-51_kgv/ITERS/it.0/0.events.csv.gz':'Calibration12',\n",
    "                # 's3://beam-outputs/output/sfbay/sfbay-smart2-rh-calibr13__2022-11-03_16-41-59_ovy/ITERS/it.0/0.events.csv.gz':'Calibration13',\n",
    "                # 's3://beam-outputs/output/sfbay/sfbay-smart2-rh-calibr14__2022-11-03_16-42-01_hpf/ITERS/it.0/0.events.csv.gz':'Calibration14',\n",
    "\n",
    "                # 's3://beam-outputs/output/sfbay/sfbay-smart2-rh-calibr11__2022-11-04_20-55-14_twf/ITERS/it.0/0.events.csv.gz':'Calibration15',\n",
    "                # 's3://beam-outputs/output/sfbay/sfbay-smart2-rh-calibr11__2022-11-04_20-55-16_xdb/ITERS/it.0/0.events.csv.gz':'Calibration16',\n",
    "                # 's3://beam-outputs/output/sfbay/sfbay-smart2-rh-calibr11__2022-11-04_20-54-51_nwf/ITERS/it.0/0.events.csv.gz':'Calibration17',\n",
    "                # 's3://beam-outputs/output/sfbay/sfbay-smart2-rh-calibr11__2022-11-04_20-55-11_wtq/ITERS/it.0/0.events.csv.gz':'Calibration18',\n",
    "# # 's3://beam-outputs/output/sfbay/sfbay-smart2-rh-calibr14__2022-11-03_16-42-01_hpf/ITERS/it.0/0.events.csv.gz':'Calibration19',\n",
    "# # 's3://beam-outputs/output/sfbay/sfbay-smart2-rh-calibr14__2022-11-03_16-42-01_hpf/ITERS/it.0/0.events.csv.gz':'Calibration20',\n",
    "                # 's3://beam-outputs/output/sfbay/sfbay-smart2-rh-calibr11__2022-11-04_20-55-00_hdd/ITERS/it.0/0.events.csv.gz':'Calibration21',\n",
    "                # 's3://beam-outputs/output/sfbay/sfbay-smart2-rh-calibr11__2022-11-04_20-54-54_hzv/ITERS/it.0/0.events.csv.gz':'Calibration22',\n",
    "                # 's3://beam-outputs/output/sfbay/sfbay-smart2-rh-calibr11__2022-11-04_20-55-02_vaf/ITERS/it.0/0.events.csv.gz':'Calibration23',\n",
    "# # 's3://beam-outputs/output/sfbay/sfbay-smart2-rh-calibr14__2022-11-03_16-42-01_hpf/ITERS/it.0/0.events.csv.gz':'Calibration24',\n",
    "# # 's3://beam-outputs/output/sfbay/sfbay-smart2-rh-calibr14__2022-11-03_16-42-01_hpf/ITERS/it.0/0.events.csv.gz':'Calibration25',\n",
    "                # 's3://beam-outputs/output/sfbay/sfbay-smart2-rh-calibr11__2022-11-04_20-55-08_hhb/ITERS/it.0/0.events.csv.gz':'Calibration26',\n",
    "                # 's3://beam-outputs/output/sfbay/sfbay-smart2-rh-calibr11__2022-11-04_20-55-34_bom/ITERS/it.0/0.events.csv.gz':'Calibration27',\n",
    "                # 's3://beam-outputs/output/sfbay/sfbay-smart2-rh-calibr28__2022-11-08_19-27-44_ycf/ITERS/it.0/0.events.csv.gz':'Calibration28',\n",
    "                # 's3://beam-outputs/output/sfbay/sfbay-smart2-rh-calibr29__2022-11-08_03-21-25_dax/ITERS/it.0/0.events.csv.gz':'Calibration29',\n",
    "                # 's3://beam-outputs/output/sfbay/sfbay-smart2-rh-calibr30__2022-11-08_03-21-06_pcm/ITERS/it.0/0.events.csv.gz':'Calibration30',\n",
    "                # 's3://beam-outputs/output/sfbay/sfbay-smart2-rh-calibr31__2022-11-08_03-21-16_uqn/ITERS/it.0/0.events.csv.gz':'Calibration31',\n",
    "                # 's3://beam-outputs/output/sfbay/sfbay-smart2-rh-calibr32__2022-11-08_03-21-05_nhu/ITERS/it.0/0.events.csv.gz':'Calibration32',\n",
    "                # 's3://beam-outputs/output/sfbay/sfbay-smart2-rh-calibr33__2022-11-08_03-21-02_kmt/ITERS/it.0/0.events.csv.gz':'Calibration33',\n",
    "                # 's3://beam-outputs/output/sfbay/sfbay-smart2-rh-calibr34__2022-11-08_03-20-56_glv/ITERS/it.0/0.events.csv.gz':'Calibration34',\n",
    "                # 's3://beam-outputs/output/sfbay/sfbay-smart2-rh-calibr35__2022-11-08_03-20-57_acx/ITERS/it.0/0.events.csv.gz':'Calibration35',\n",
    "                # 's3://beam-outputs/output/sfbay/sfbay-smart2-rh-calibr36__2022-11-08_03-20-57_kld/ITERS/it.0/0.events.csv.gz':'Calibration36',\n",
    "                # 's3://beam-outputs/output/sfbay/sfbay-smart2-rh-calibr37__2022-11-08_03-21-04_qyn/ITERS/it.0/0.events.csv.gz':'Calibration37',\n",
    "                # 's3://beam-outputs/output/sfbay/sfbay-smart2-rh-calibr38__2022-11-08_03-20-57_jyd/ITERS/it.0/0.events.csv.gz':'Calibration38',\n",
    "                # 's3://beam-outputs/output/sfbay/sfbay-smart2-rh-calibr39__2022-11-08_03-21-00_ktd/ITERS/it.0/0.events.csv.gz':'Calibration39',\n",
    "                # 's3://beam-outputs/output/sfbay/sfbay-smart2-rh-calibr40__2022-11-08_03-21-28_kvn/ITERS/it.0/0.events.csv.gz':'Calibration40',\n",
    "                # 's3://beam-outputs/output/sfbay/sfbay-smart2-rh-calibr41__2022-11-08_03-21-26_pkc/ITERS/it.0/0.events.csv.gz':'Calibration41',\n",
    "                # 's3://beam-outputs/output/sfbay/sfbay-smart2-rh-calibr41__2022-11-08_19-27-34_kyc/ITERS/it.0/0.events.csv.gz':'Calibration42',\n",
    "                # 's3://beam-outputs/output/sfbay/sfbay-smart2-rh-calibr41__2022-11-08_19-27-27_iwq/ITERS/it.0/0.events.csv.gz':'Calibration43',\n",
    "                # 's3://beam-outputs/output/sfbay/sfbay-smart2-rh-calibr11__2022-11-04_20-55-34_bom/ITERS/it.0/0.events.csv.gz':'Calibration44',\n",
    "                # 's3://beam-outputs/output/sfbay/sfbay-smart2-rh-calibr11__2022-11-04_20-55-34_bom/ITERS/it.0/0.events.csv.gz':'Calibration45',\n",
    "                # 's3://beam-outputs/output/sfbay/sfbay-smart2-rh-calibr11__2022-11-04_20-55-34_bom/ITERS/it.0/0.events.csv.gz':'Calibration46',\n",
    "                # 's3://beam-outputs/output/sfbay/sfbay-smart2-rh-calibr11__2022-11-04_20-55-34_bom/ITERS/it.0/0.events.csv.gz':'Calibration47',\n",
    "                # 's3://beam-outputs/output/sfbay/sfbay-smart2-rh-calibr11__2022-11-04_20-55-34_bom/ITERS/it.0/0.events.csv.gz':'Calibration48',\n",
    "    # 's3://beam-outputs/output/sfbay/sfbay-smart2-rh-calibr49__2022-11-10_01-36-45_ufm/ITERS/it.0/0.events.csv.gz':'Calibration49',\n",
    "    # 's3://beam-outputs/output/sfbay/sfbay-smart2-rh-calibr50__2022-11-10_01-36-41_rgz/ITERS/it.0/0.events.csv.gz':'Calibration50',\n",
    "    # 's3://beam-outputs/output/sfbay/sfbay-smart2-rh-calibr51__2022-11-10_01-36-37_uvi/ITERS/it.0/0.events.csv.gz':'Calibration51',\n",
    "    # 's3://beam-outputs/output/sfbay/sfbay-smart2-rh-calibr52__2022-11-10_01-36-38_zpx/ITERS/it.0/0.events.csv.gz':'Calibration52',\n",
    "    # 's3://beam-outputs/output/sfbay/sfbay-smart2-rh-calibr53__2022-11-10_01-37-05_wpe/ITERS/it.0/0.events.csv.gz':'Calibration53',\n",
    "    # 's3://beam-outputs/output/sfbay/sfbay-smart2-rh-calibr54__2022-11-10_01-37-07_mze/ITERS/it.0/0.events.csv.gz':'Calibration54',\n",
    "    # # 's3://beam-outputs/output/sfbay//ITERS/it.0/0.events.csv.gz':'Calibration55',\n",
    "    # 's3://beam-outputs/output/sfbay/sfbay-smart2-rh-calibr56__2022-11-10_01-38-04_avo/ITERS/it.0/0.events.csv.gz':'Calibration56',\n",
    "    # 's3://beam-outputs/output/sfbay/sfbay-smart2-rh-calibr57__2022-11-10_01-37-54_qmz/ITERS/it.0/0.events.csv.gz':'Calibration57',\n",
    "    # 's3://beam-outputs/output/sfbay/sfbay-smart2-rh-calibr58__2022-11-10_01-38-00_zbn/ITERS/it.0/0.events.csv.gz':'Calibration58',\n",
    "    # 's3://beam-outputs/output/sfbay/sfbay-smart2-rh-calibr59__2022-11-10_01-38-18_oiv/ITERS/it.0/0.events.csv.gz':'Calibration59',\n",
    "    # 's3://beam-outputs/output/sfbay/sfbay-smart2-rh-calibr60__2022-11-10_01-39-04_bzm/ITERS/it.0/0.events.csv.gz':'Calibration60',\n",
    "#     's3://beam-outputs/output/sfbay/sfbay-smart2-rh-calibr41__2022-11-15_02-54-11_rex/ITERS/it.0/0.events.csv.gz':'Calibration44',\n",
    "#     's3://beam-outputs/output/sfbay/sfbay-smart2-rh-calibr61__2022-11-15_03-52-29_qjw/ITERS/it.0/0.events.csv.gz':'Calibration61',\n",
    "#     's3://beam-outputs/output/sfbay/sfbay-smart2-rh-calibr62__2022-11-15_03-52-30_ckn/ITERS/it.0/0.events.csv.gz':'Calibration62',\n",
    "#     's3://beam-outputs/output/sfbay/sfbay-smart2-rh-calibr63__2022-11-15_03-52-30_ylj/ITERS/it.0/0.events.csv.gz':'Calibration63',\n",
    "#     's3://beam-outputs/output/sfbay/sfbay-smart2-rh-calibr64__2022-11-15_03-52-28_hub/ITERS/it.0/0.events.csv.gz':'Calibration64',\n",
    "#     's3://beam-outputs/output/sfbay/sfbay-smart2-rh-calibr65__2022-11-15_03-52-28_ikv/ITERS/it.0/0.events.csv.gz':'Calibration65',\n",
    "#     's3://beam-outputs/output/sfbay/sfbay-smart2-rh-calibr60__2022-11-15_03-52-29_bkb/ITERS/it.0/0.events.csv.gz':'Calibration66',\n",
    "# }\n",
    "# data_names = data.keys()\n",
    "# plan_names = []\n",
    "# for data_name in data_names:\n",
    "#     plan_names.append(data_name[:-13]+'plans.csv.gz')\n",
    "\n",
    "# names = data.values()\n",
    "############################################SMART###########################################################################\n",
    "if is_SMART:\n",
    "    fp = \"\"\n",
    "    output_nm = 'ST-smart2_39.csv'\n",
    "    len_id_transit = 3\n",
    "    fp_res = 'outputs/'\n",
    "    is_NYC = False\n",
    "    is_WC = False\n",
    "    is_LT = False\n",
    "    is_GEO = True\n",
    "    is_collect_data = True\n",
    "    is_plot = False\n",
    "    is_filter_by_region = False\n",
    "    region_filter = 'SF'\n",
    "    data = {\n",
    "                    # 's3://beam-outputs/pilates-outputs/sfbay-base-20220409/beam/year-2018-iteration-5/ITERS/it.0/0.events.csv.gz':'Baseline/year-2018-iteration-5',\n",
    "                    # 's3://beam-outputs/pilates-outputs/sfbay-RH_fleetsz_0.125-20220408/beam/year-2018-iteration-5/ITERS/it.0/0.events.csv.gz':'sfbay-RH_fleetsz_0.125',\n",
    "                    # 's3://beam-outputs/pilates-outputs/sfbay-RH_fleetsz_0.25-20220408/beam/year-2018-iteration-5/ITERS/it.0/0.events.csv.gz':'sfbay-RH_fleetsz_0.25',\n",
    "                    # 's3://beam-outputs/pilates-outputs/sfbay-RH_fleetsz_0.5-20220408/beam/year-2018-iteration-5/ITERS/it.0/0.events.csv.gz':'sfbay-RH_fleetsz_0.50',\n",
    "                    # 's3://beam-outputs/pilates-outputs/sfbay-RH_fleetsz_1.75-20220408/beam/year-2018-iteration-5/ITERS/it.0/0.events.csv.gz':'sfbay-RH_fleetsz_1.75',\n",
    "                    # 's3://beam-outputs/pilates-outputs/sfbay-transit_frequencies_0.5-20220528/beam/year-2018-iteration-5/ITERS/it.0/0.events.csv.gz':'sfbay-transit_frequencies_0.5',\n",
    "                    # 's3://beam-outputs/s3://beam-outputs/pilates-outputs/sfbay-transit_frequencies_1.5-20220529/beam/year-2018-iteration-5/ITERS/it.0/0.events.csv.gz':'sfbay-transit_frequencies_1.5',\n",
    "                    # 'pilates-outputs/sfbay-transit_frequencies_2.0-20220529/beam/year-2018-iteration-5/ITERS/it.0/0.events.csv.gz':'sfbay-transit_frequencies_2.0',\n",
    "                    # 's3://beam-outputs/pilates-outputs/sfbay-rh_repo_0.0-20220613/beam/year-2018-iteration-5/ITERS/it.0/0.events.csv.gz':'sfbay-rh_repo_0.0',\n",
    "                    # 's3://beam-outputs/pilates-outputs/sfbay-rh_repo_0.5-20220613/beam/year-2018-iteration-5/ITERS/it.0/0.events.csv.gz':'sfbay-rh_repo_0.5',\n",
    "                    # 's3://beam-outputs/pilates-outputs/sfbay-rh_repo_1.5-20220613/beam/year-2018-iteration-5/ITERS/it.0/0.events.csv.gz':'sfbay-rh_repo_1.5',\n",
    "                    # 's3://beam-outputs/pilates-outputs/sfbay-rh_repo_3.0-20220613/beam/year-2018-iteration-5/ITERS/it.0/0.events.csv.gz':'sfbay-rh_repo_3.0',\n",
    "                    # 's3://beam-outputs/pilates-outputs/sfbay-rh_radius_0.2-20220610/beam/year-2018-iteration-5/ITERS/it.0/0.events.csv.gz':'sfbay-rh_radius_0.2',\n",
    "                    # 's3://beam-outputs/pilates-outputs/sfbay-rh_radius_0.5-20220610/beam/year-2018-iteration-5/ITERS/it.0/0.events.csv.gz':'sfbay-rh_radius_0.5',\n",
    "                    # 's3://beam-outputs/pilates-outputs/sfbay-rh_radius_1.5-20220614/beam/year-2018-iteration-5/ITERS/it.0/0.events.csv.gz':'sfbay-rh_radius_1.5',\n",
    "                    # 's3://beam-outputs/pilates-outputs/sfbay-rh_radius_5.0-20220616/beam/year-2018-iteration-5/ITERS/it.0/0.events.csv.gz':'sfbay-rh_radius_5.0',\n",
    "                    # 's3://beam-outputs/pilates-outputs/sfbay-rh_wt_0.2-20220617/beam/year-2018-iteration-5/ITERS/it.0/0.events.csv.gz':'sfbay-rh_wt_0.2',\n",
    "                    # 's3://beam-outputs/pilates-outputs/sfbay-rh_wt_0.5-20220617/beam/year-2018-iteration-5/ITERS/it.0/0.events.csv.gz':'sfbay-rh_wt_0.5',\n",
    "                    # 's3://beam-outputs/pilates-outputs/sfbay-rh_wt_0.8-20220617/beam/year-2018-iteration-5/ITERS/it.0/0.events.csv.gz':'sfbay-rh_wt_0.8',\n",
    "                    # 's3://beam-outputs/pilates-outputs/sfbay-rh_wt_1.6-20220617/beam/year-2018-iteration-5/ITERS/it.0/0.events.csv.gz':'sfbay-rh_wt_1.6',\n",
    "                    # 's3://beam-outputs/pilates-outputs/sfbay-rh_detour_0.0-20220618/beam/year-2018-iteration-5/ITERS/it.0/0.events.csv.gz':'sfbay-rh_detour_0.0',\n",
    "                    # 's3://beam-outputs/pilates-outputs/sfbay-rh_detour_0.5-20220618/beam/year-2018-iteration-5/ITERS/it.0/0.events.csv.gz':'sfbay-rh_detour_0.5',\n",
    "                    # 's3://beam-outputs/pilates-outputs/sfbay-rh_detour_0.75-20220618/beam/year-2018-iteration-5/ITERS/it.0/0.events.csv.gz':'sfbay-rh_detour_0.75',\n",
    "                    # 's3://beam-outputs/pilates-outputs/sfbay-rh_detour_1.5-20220618/beam/year-2018-iteration-5/ITERS/it.0/0.events.csv.gz':'sfbay-rh_detour_1.5',\n",
    "                    # 's3://beam-outputs/pilates-outputs/sfbay-pilates_june_test-20220616/beam/year-2010-iteration-5/ITERS/it.0/0.events.csv.gz':'sfbay-cp_pilatesJune2022',\n",
    "                    # 's3://beam-outputs/pilates-outputs/sfbay-rh_price_0.5-20220616/beam/year-2010-iteration-5/ITERS/it.0/0.events.csv.gz':'sfbay-rh_price_0.5',\n",
    "                    # 's3://beam-outputs/pilates-outputs/sfbay-rh_invrepo_dem_0.0_dist_0.0-20220627/beam/year-2018-iteration-5/ITERS/it.0/0.events.csv.gz':'sfbay-rh_invrepo_dem_0.0_dist_0.0',\n",
    "                    # 's3://beam-outputs/pilates-outputs/sfbay-rh_invrepo_dem_0.2_dist_0.9-20220627/beam/year-2018-iteration-5/ITERS/it.0/0.events.csv.gz':'sfbay-rh_invrepo_dem_0.2_dist_0.9',\n",
    "                    # 's3://beam-outputs/pilates-outputs/sfbay-rh_invrepo_dem_0.4_dist_0.3-20220628/beam/year-2018-iteration-5/ITERS/it.0/0.events.csv.gz':'sfbay-rh_invrepo_dem_0.4_dist_0.3',\n",
    "                    # 's3://beam-outputs/pilates-outputs/sfbay-rh_invrepo_dem_0.4_dist_0.6-20220628/beam/year-2018-iteration-5/ITERS/it.0/0.events.csv.gz':'sfbay-rh_invrepo_dem_0.4_dist_0.6',\n",
    "                    # 's3://beam-outputs/pilates-outputs/sfbay-rh_invrepo_dem_0.4_dist_1.0-20220628/beam/year-2018-iteration-5/ITERS/it.0/0.events.csv.gz':'sfbay-rh_invrepo_dem_0.4_dist_1.0',\n",
    "                    # 's3://beam-outputs/pilates-outputs/sfbay-rh_invrepo_dem_0.6_dist_0.9-20220627/beam/year-2018-iteration-5/ITERS/it.0/0.events.csv.gz':'sfbay-rh_invrepo_dem_0.6_dist_0.9',\n",
    "                    # 's3://beam-outputs/pilates-outputs/sfbay-rh_invrepo_dem_1.0_dist_0.9-20220627/beam/year-2018-iteration-5/ITERS/it.0/0.events.csv.gz':'sfbay-rh_invrepo_dem_1.0_dist_0.9',\n",
    "                    # 's3://beam-outputs/pilates-outputs/sfbay-rh_invrepo_dem_1.0_dist_1.0-20220628/beam/year-2018-iteration-5/ITERS/it.0/0.events.csv.gz':'sfbay-rh_invrepo_dem_1.0_dist_1.0',\n",
    "                    # 's3://beam-outputs/output/sfbay/sfbay-pilates-50pop-5veh__2022-07-20_21-48-51_yti/ITERS/it.2/2.events.csv.gz':'Disabilities 5% RH WC 50% RH fleet',\n",
    "                    # 's3://beam-outputs/output/sfbay/sfbay-pilates-50pop-10veh__2022-07-20_21-48-52_ucj/ITERS/it.2/2.events.csv.gz':'Disabilities 10% RH WC 50% RH fleet',\n",
    "                    # 's3://beam-outputs/output/sfbay/sfbay-pilates-50pop-20veh__2022-07-20_21-48-54_xwf/ITERS/it.2/2.events.csv.gz':'Disabilities 20% RH WC 50% RH fleet',\n",
    "                    # 's3://beam-outputs/output/sfbay/sfbay-pilates-50pop-50veh__2022-07-20_21-49-07_oyq/ITERS/it.2/2.events.csv.gz':'Disabilities 50% RH WC 50% RH fleet',\n",
    "                    # 's3://beam-outputs/output/sfbay/sfbay-pilates-50pop-100veh__2022-07-20_21-49-00_lgi/ITERS/it.2/2.events.csv.gz':'Disabilities 100% RH WC 50% RH fleet',\n",
    "                    # 's3://beam-outputs/output/sfbay/sfbay-pilates-50pop-5veh__2022-07-15_04-13-50_ntn/ITERS/it.2/2.events.csv.gz':'Disabilities 5% RH WC 100% RH fleet',\n",
    "                    # 's3://beam-outputs/output/sfbay/sfbay-pilates-50pop-10veh__2022-07-15_04-13-44_okn/ITERS/it.2/2.events.csv.gz':'Disabilities 10% RH WC 100% RH fleet',\n",
    "                    # 's3://beam-outputs/output/sfbay/sfbay-pilates-50pop-20veh__2022-07-15_04-13-46_szz/ITERS/it.2/2.events.csv.gz':'Disabilities 20% RH WC 100% RH fleet',\n",
    "                    # 's3://beam-outputs/output/sfbay/sfbay-pilates-50pop-50veh__2022-07-15_04-13-48_qbr/ITERS/it.2/2.events.csv.gz':'Disabilities 50% RH WC 100% RH fleet',\n",
    "                    # 's3://beam-outputs/output/sfbay/sfbay-pilates-50pop-100veh__2022-07-15_04-13-44_apr/ITERS/it.2/2.events.csv.gz':'Disabilities 100% RH WC 100% RH fleet',\n",
    "                    # 's3://beam-outputs/pilates-outputs/sfbay-base-20220409/beam/year-2018-iteration-5/ITERS/it.0/0.events.csv.gz':'Baseline-july2022',\n",
    "                    # 's3://beam-outputs/pilates-outputs/sfbay-rhprice-0.0-20220814/beam/year-2018-iteration-5/ITERS/it.0/0.events.csv.gz':'sfbay-RH_price_0.0',\n",
    "                    # 's3://beam-outputs/pilates-outputs/sfbay-rhprice-0.5-20220814/beam/year-2018-iteration-5/ITERS/it.0/0.events.csv.gz':'sfbay-RH_price_0.5',\n",
    "                    # 's3://beam-outputs/pilates-outputs/sfbay-rhprice-1.5-20220815/beam/year-2018-iteration-5/ITERS/it.0/0.events.csv.gz':'sfbay-RH_price_1.5',\n",
    "                    # 's3://beam-outputs/pilates-outputs/sfbay-rhprice-2.0-20220815/beam/year-2018-iteration-5/ITERS/it.0/0.events.csv.gz':'sfbay-RH_price_2.0',\n",
    "                    # 's3://beam-outputs/pilates-outputs/sfbay-baseline-20220822/beam/year-2018-iteration-5/ITERS/it.0/0.events.csv.gz':'Baseline-august2022',\n",
    "                    # 's3://beam-outputs/pilates-outputs/sfbay-rhfleet-0.125-20220822/beam/year-2018-iteration-5/ITERS/it.0/0.events.csv.gz':'sfbay-RH_fleetsz_0.125',\n",
    "                    # 's3://beam-outputs/pilates-outputs/sfbay-rhfleet-0.25-20220822/beam/year-2018-iteration-5/ITERS/it.0/0.events.csv.gz':'sfbay-RH_fleetsz_0.25',\n",
    "                    # 's3://beam-outputs/pilates-outputs/sfbay-rhfleet-0.50-20220822/beam/year-2018-iteration-5/ITERS/it.0/0.events.csv.gz':'sfbay-RH_fleetsz_0.50',\n",
    "                    # 's3://beam-outputs/pilates-outputs/sfbay-rhfleet-1.75-20220822/beam/year-2018-iteration-5/ITERS/it.0/0.events.csv.gz':'sfbay-RH_fleetsz_1.75',\n",
    "                    # 's3://beam-outputs/pilates-outputs/sfbay-rhfleet-2.25-20220822/beam/year-2018-iteration-5/ITERS/it.0/0.events.csv.gz':'sfbay-RH_fleetsz_2.25',\n",
    "                    # 's3://beam-outputs/pilates-outputs/sfbay-rhfleet-3.0-20220822/beam/year-2018-iteration-5/ITERS/it.0/0.events.csv.gz':'sfbay-RH_fleetsz_3.0',\n",
    "                    # 's3://beam-outputs/pilates-outputs/sfbay-rhprice0.0-rhfleet1.0-20220904/beam/year-2018-iteration-5/ITERS/it.0/0.events.csv.gz':'sfbay-RH_price_0.0_fleetsz_1.0',\n",
    "                    # 's3://beam-outputs/pilates-outputs/sfbay-rhprice0.05-rhfleet2.25-20220905/beam/year-2018-iteration-5/ITERS/it.0/0.events.csv.gz':'sfbay-RH_price_0.05_fleetsz_2.25',\n",
    "                    # 's3://beam-outputs/pilates-outputs/sfbay-rhprice0.25-rhfleet1.0-20220903/beam/year-2018-iteration-5/ITERS/it.0/0.events.csv.gz':'sfbay-RH_price_0.25_fleetsz_1.0',\n",
    "                    # 's3://beam-outputs/pilates-outputs/sfbay-rhprice0.25-rhfleet2.25-20220904/beam/year-2018-iteration-5/ITERS/it.0/0.events.csv.gz':'sfbay-RH_price_0.25_fleetsz_2.25',\n",
    "                    # 's3://beam-outputs/pilates-outputs/sfbay-rhprice0.5-rhfleet0.5-20220903/beam/year-2018-iteration-5/ITERS/it.0/0.events.csv.gz':'sfbay-RH_price_0.5_fleetsz_0.5',\n",
    "                    # 's3://beam-outputs/pilates-outputs/sfbay-rhprice0.5-rhfleet1.0-20220903/beam/year-2018-iteration-5/ITERS/it.0/0.events.csv.gz':'sfbay-RH_price_0.5_fleetsz_1.0',\n",
    "                    # 's3://beam-outputs/pilates-outputs/sfbay-rhprice0.5-rhfleet2.25-20220903/beam/year-2018-iteration-5/ITERS/it.0/0.events.csv.gz':'sfbay-RH_price_0.5_fleetsz_2.25',\n",
    "                    # 's3://beam-outputs/pilates-outputs/sfbay-rhprice1.5-rhfleet0.125-20220903/beam/year-2018-iteration-5/ITERS/it.0/0.events.csv.gz':'sfbay-RH_price_1.5_fleetsz_0.125',\n",
    "                    # 's3://beam-outputs/pilates-outputs/sfbay-rhprice1.5-rhfleet0.25-20220904/beam/year-2018-iteration-5/ITERS/it.0/0.events.csv.gz':'sfbay-RH_price_1.5_fleetsz_0.25',\n",
    "                    # 's3://beam-outputs/pilates-outputs/sfbay-rhprice1.5-rhfleet0.5-20220904/beam/year-2018-iteration-5/ITERS/it.0/0.events.csv.gz':'sfbay-RH_price_1.5_fleetsz_0.5',\n",
    "                    # 's3://beam-outputs/pilates-outputs/sfbay-rhprice1.5-rhfleet1.0-20220904/beam/year-2018-iteration-5/ITERS/it.0/0.events.csv.gz':'sfbay-RH_price_1.5_fleetsz_1.5',\n",
    "                    # 's3://beam-outputs/pilates-outputs/sfbay-rhprice1.5-rhfleet2.25-20220905/beam/year-2018-iteration-5/ITERS/it.0/0.events.csv.gz':'sfbay-RH_price_1.5_fleetsz_2.25',\n",
    "                    # 's3://beam-outputs/pilates-outputs/sfbay-rhprice2.0-rhfleet0.5-20220905/beam/year-2018-iteration-5/ITERS/it.0/0.events.csv.gz':'sfbay-RH_price_2.0_fleetsz_0.5',\n",
    "                    # 's3://beam-outputs/pilates-outputs/sfbay-rhprice2.0-rhfleet1.0-20220905/beam/year-2018-iteration-5/ITERS/it.0/0.events.csv.gz':'sfbay-RH_price_2.0_fleetsz_1.0',\n",
    "                    # 's3://beam-outputs/pilates-outputs/sfbay-rhprice2.5-rhfleet0.125-20220905/beam/year-2018-iteration-5/ITERS/it.0/0.events.csv.gz':'sfbay-RH_price_2.5_fleetsz_0.125',\n",
    "                    # 's3://beam-outputs/pilates-outputs/sfbay-rhprice2.5-rhfleet0.25-20220905/beam/year-2018-iteration-5/ITERS/it.0/0.events.csv.gz':'sfbay-RH_price_2.5_fleetsz_0.25',\n",
    "                    # 'gs://beam-core-outputs/sfbay-2010-accessibility-fleetpct-0.05-wheelchair-0.5-20220917/beam/year-2012-iteration-3/ITERS/it.0/0.events.csv.gz':'5% RH WC 50% RH fleet',\n",
    "                    # 'gs://beam-core-outputs/sfbay-2010-accessibility-fleetpct—0.1wheelchair-0.5-20220917/beam/year-2012-iteration-3/ITERS/it.0/0.events.csv.gz':'10% RH WC 50% RH fleet',\n",
    "                    # 'gs://beam-core-outputs/sfbay-2010-accessibility-fleetpct-0.2-wheelchair-0.5-20220917/beam/year-2012-iteration-3/ITERS/it.0/0.events.csv.gz':'20% RH WC 50% RH fleet',\n",
    "                    # 'gs://beam-core-outputs/beam-core-outputs/sfbay-2010-accessibility-fleetpct-0.5-wheelchair-0.5-20220917/beam/year-2012-iteration-3/ITERS/it.0/0.events.csv.gz':'50% RH WC 50% RH fleet',\n",
    "                    # 'gs://beam-core-outputs/sfbay-2010-accessibility-fleetpct-1.0-wheelchair-0.5-20220917/beam/year-2012-iteration-3/ITERS/it.0/0.events.csv.gz':'100% RH WC 50% RH fleet',\n",
    "                    # Ambarish\n",
    "                    # 's3://beam-outputs/pilates-outputs/15thSep2019/baseline/beam/sfbay-smart-base-pilates__2019-09-13_17-22-29/ITERS/it.15/15.events.csv.gz':'2010 Baseline',\n",
    "                    # Telecommute\n",
    "                    # 's3://beam-outputs/pilates-outputs/sfbay-telecommute-baseline-2022-10-8/beam/year-2018-iteration-5/ITERS/it.0/0.events.csv.gz':'Telecommuting_Baseline-year2018-it5',\n",
    "                    # 's3://beam-outputs/pilates-outputs/sfbay-telecommute-baseline-2022-10-8/beam/year-2021-iteration-5/ITERS/it.0/0.events.csv.gz':'Telecommuting_Baseline-year2021-it5',\n",
    "                    # TR\n",
    "                    # 's3://beam-outputs/pilates-outputs/sfbay-baseline-20220816/beam/year-2021-iteration-5/ITERS/it.0/0.events.csv.gz':'Baseline TR 2021',\n",
    "                    # 's3://beam-outputs/pilates-outputs/sfbay-TR-20220812/beam/year-2021-iteration-5/ITERS/it.0/0.events.csv.gz':'Future TR 2021',\n",
    "                    # 's3://beam-outputs/pilates-outputs/sfbay-baseline-asis-20221209/beam/year-2010-iteration-4/ITERS/it.0/0.events.csv.gz':'Baseline-asis0',\n",
    "                    # 's3://beam-outputs/pilates-outputs/sfbay-baseline-beam_rh_calibration-20221209/beam/year-2010-iteration-4/ITERS/it.0/0.events.csv.gz':'Baseline-rh_beam0',\n",
    "                    # 's3://beam-outputs/pilates-outputs/sfbay-pilates-baseline-asis-20221213/beam/year-2010-iteration-4/ITERS/it.0/0.events.csv.gz':'Baseline-asis1',\n",
    "                    # 's3://beam-outputs/pilates-outputs/sfbay-pilates-baseline-rh_beam-20221213/beam/year-2010-iteration-4/ITERS/it.0/0.events.csv.gz':'Baseline-rh_beam1',\n",
    "                    # 's3://beam-outputs/pilates-outputs/sfbay-pilates-baseline-rh_beam_asim1-20221213/beam/year-2010-iteration-4/ITERS/it.0/0.events.csv.gz':'Baseline-rh_beam_asim1',\n",
    "                    # 's3://beam-outputs/pilates-outputs/sfbay-pilates-baseline-rh_beam_asim2-20221213/beam/year-2010-iteration-4/ITERS/it.0/0.events.csv.gz':'Baseline-rh_beam_asim2',\n",
    "                    # 's3://beam-outputs/pilates-outputs/sfbay-pilates-baseline-rh_beam_asim3-20221213/beam/year-2010-iteration-4/ITERS/it.0/0.events.csv.gz':'Baseline-rh_beam_asim3',\n",
    "\n",
    "\n",
    "        # 's3://beam-outputs/pilates-outputs/sfbay_1fleet_100price_100fleet_30pct_20230222/beam/year-2019-iteration-2/ITERS/it.0/0.events.csv.gz':'1Fl 1Pr 1Flz',\n",
    "        # 's3://beam-outputs/pilates-outputs/sfbay_baseline_30pct_20230218/beam/year-2019-iteration-2/ITERS/it.0/0.events.csv.gz':'2Fl 1Pr 1Flz',\n",
    "        # 's3://beam-outputs/pilates-outputs/sfbay_5fleets_100price_100fleet_30pct_20230218/beam/year-2019-iteration-2/ITERS/it.0/0.events.csv.gz':'5Fl 1Pr 1Flz',\n",
    "        # 's3://beam-outputs/pilates-outputs/sfbay_5fleets_100price_164fleet_30pct_20230218/beam/year-2019-iteration-2/ITERS/it.0/0.events.csv.gz':'5Fl 1Pr 1.64Flz',\n",
    "        # 's3://beam-outputs/pilates-outputs/sfbay_5fleets_100price_200fleet_30pct_20230218/beam/year-2019-iteration-2/ITERS/it.0/0.events.csv.gz':'5Fl 1Pr 2Flz',\n",
    "        # 's3://beam-outputs/pilates-outputs/sfbay_5fleets_100price_400fleet_30pct_20230218/beam/year-2019-iteration-2/ITERS/it.0/0.events.csv.gz':'5Fl 1Pr 4Flz',\n",
    "        # 's3://beam-outputs/pilates-outputs/sfbay_5fleets_100price_1000fleet_30pct_20230218/beam/year-2019-iteration-2/ITERS/it.0/0.events.csv.gz':'5Fl 1Pr 10Flz',\n",
    "        # 's3://beam-outputs/pilates-outputs/sfbay_2fleets_100price_164fleet_30pct_20230218/beam/year-2019-iteration-2/ITERS/it.0/0.events.csv.gz':'2Fl 1Pr 1.64Flz',\n",
    "        # 's3://beam-outputs/pilates-outputs/sfbay_2fleets_100price_200fleet_30pct_20230218/beam/year-2019-iteration-2/ITERS/it.0/0.events.csv.gz':'2Fl 1Pr 2Flz',\n",
    "        # 's3://beam-outputs/pilates-outputs/sfbay_2fleets_100price_400fleet_30pct_20230218/beam/year-2019-iteration-2/ITERS/it.0/0.events.csv.gz':'2Fl 1Pr 4Flz',\n",
    "        # 's3://beam-outputs/pilates-outputs/sfbay_2fleets_100price_1000fleet_30pct_20230218/beam/year-2019-iteration-2/ITERS/it.0/0.events.csv.gz':'2Fl 1Pr 10Flz',\n",
    "    # 's3://beam-outputs/pilates-outputs/sfbay_2fleets_47price_100fleet_30pct_20230226/beam/year-2019-iteration-2/ITERS/it.0/0.events.csv.gz':'2Fl 0.47Pr 1Flz',\n",
    "    # 's3://beam-outputs/pilates-outputs/sfbay_5fleets_47price_100fleet_30pct_20230226/beam/year-2019-iteration-2/ITERS/it.0/0.events.csv.gz':'5Fl 0.47Pr 1Flz',\n",
    "        # 's3://beam-outputs/pilates-outputs/sfbay_5fleets_47price_164fleet_30pct_20230226/beam/year-2019-iteration-2/ITERS/it.0/0.events.csv.gz':'5Fl 0.47Pr 1.64Flz',\n",
    "        # 's3://beam-outputs/pilates-outputs/sfbay_5fleets_47price_200fleet_30pct_20230226/beam/year-2019-iteration-2/ITERS/it.0/0.events.csv.gz':'5Fl 0.47Pr 2Flz',\n",
    "        # 's3://beam-outputs/pilates-outputs/sfbay_5fleets_47price_400fleet_30pct_20230226/beam/year-2019-iteration-2/ITERS/it.0/0.events.csv.gz':'5Fl 0.47Pr 4Flz',\n",
    "        # 's3://beam-outputs/pilates-outputs/sfbay_5fleets_47price_1000fleet_30pct_20230226/beam/year-2019-iteration-2/ITERS/it.0/0.events.csv.gz':'5Fl 0.47Pr 10Flz',\n",
    "        # 's3://beam-outputs/pilates-outputs/sfbay_2fleets_27price_100fleet_30pct_20230221/beam/year-2019-iteration-2/ITERS/it.0/0.events.csv.gz':'2Fl 0.27Pr 1Flz',\n",
    "        # 's3://beam-outputs/pilates-outputs/sfbay_5fleets_27price_100fleet_30pct_20230218/beam/year-2019-iteration-2/ITERS/it.0/0.events.csv.gz':'5Fl 0.27Pr 1Flz',\n",
    "        # 's3://beam-outputs/pilates-outputs/sfbay_5fleets_27price_164fleet_30pct_20230218/beam/year-2019-iteration-2/ITERS/it.0/0.events.csv.gz':'5Fl 0.27Pr 1.64Flz',\n",
    "        # 's3://beam-outputs/pilates-outputs/sfbay_5fleets_27price_200fleet_30pct_20230218/beam/year-2019-iteration-2/ITERS/it.0/0.events.csv.gz':'5Fl 0.27Pr 2Flz',\n",
    "        # 's3://beam-outputs/pilates-outputs/sfbay_5fleets_27price_400fleet_30pct_20230218/beam/year-2019-iteration-2/ITERS/it.0/0.events.csv.gz':'5Fl 0.27Pr 4Flz',\n",
    "        # 's3://beam-outputs/pilates-outputs/sfbay_5fleets_27price_1000fleet_30pct_20230218/beam/year-2019-iteration-2/ITERS/it.0/0.events.csv.gz':'5Fl 0.27Pr 10Flz',\n",
    "    # 's3://beam-outputs/pilates-outputs/sfbay_2fleets_12_5price_100fleet_30pct_20230226/beam/year-2019-iteration-2/ITERS/it.0/0.events.csv.gz':'2Fl 0.125Pr 1Flz',\n",
    "        # 's3://beam-outputs/pilates-outputs/sfbay_5fleets_12_5price_100fleet_30pct_20230226/beam/year-2019-iteration-2/ITERS/it.0/0.events.csv.gz':'5Fl 0.125Pr 1Flz',\n",
    "        # 's3://beam-outputs/pilates-outputs/sfbay_5fleets_12_5price_164fleet_30pct_20230226/beam/year-2019-iteration-2/ITERS/it.0/0.events.csv.gz':'5Fl 0.125Pr 1.64Flz',\n",
    "        # 's3://beam-outputs/pilates-outputs/sfbay_5fleets_12_5price_200fleet_30pct_20230226/beam/year-2019-iteration-2/ITERS/it.0/0.events.csv.gz':'5Fl 0.125Pr 2Flz',\n",
    "        # 's3://beam-outputs/pilates-outputs/sfbay_5fleets_12_5price_400fleet_30pct_20230226/beam/year-2019-iteration-2/ITERS/it.0/0.events.csv.gz':'5Fl 0.125Pr 4Flz',\n",
    "    # 's3://beam-outputs/pilates-outputs/sfbay_5fleets_12_5price_1000fleet_30pct_20230226/beam/year-2019-iteration-2/ITERS/it.0/0.events.csv.gz':'5Fl 0.125Pr 10Flz',\n",
    "        # 's3://beam-outputs/pilates-outputs/sfbay_2fleets_6_25_price_100fleet_30pct_20230223/beam/year-2019-iteration-2/ITERS/it.0/0.events.csv.gz':'2Fl 0.0625Pr 1Flz',\n",
    "        # 's3://beam-outputs/pilates-outputs/sfbay_5fleets_6_25price_100fleet_30pct_20230218/beam/year-2019-iteration-2/ITERS/it.0/0.events.csv.gz':'5Fl 0.0625Pr 1Flz',\n",
    "        # 's3://beam-outputs/pilates-outputs/sfbay_5fleets_6_25price_164fleet_30pct_20230218/beam/year-2019-iteration-2/ITERS/it.0/0.events.csv.gz':'5Fl 0.0625Pr 1.64Flz',\n",
    "        # 's3://beam-outputs/pilates-outputs/sfbay_5fleets_6_25price_200fleet_30pct_20230223/beam/year-2019-iteration-2/ITERS/it.0/0.events.csv.gz':'5Fl 0.0625Pr 2Flz',\n",
    "        # 's3://beam-outputs/pilates-outputs/sfbay_5fleets_6_25_price_400fleet_30pct_20230223/beam/year-2019-iteration-2/ITERS/it.0/0.events.csv.gz':'5Fl 0.0625Pr 4Flz',\n",
    "        # 's3://beam-outputs/pilates-outputs/sfbay_5fleets_6_25_price_1000fleet_30pct_20230223/beam/year-2019-iteration-2/ITERS/it.0/0.events.csv.gz':'5Fl 0.0625Pr 10Flz',\n",
    "        # 's3://beam-outputs/pilates-outputs/sfbay_1fleet_mix_price_100fleet_30pct_20230223/beam/year-2019-iteration-2/ITERS/it.0/0.events.csv.gz':'1Fl MixPr 1Flz',\n",
    "        # 's3://beam-outputs/pilates-outputs/sfbay_2fleets_mix_price_100fleet_30pct_20230226/beam/year-2019-iteration-2/ITERS/it.0/0.events.csv.gz':'2Fl MixPr 1Flz',\n",
    "        # 's3://beam-outputs/pilates-outputs/sfbay_5fleets_mixprice_100fleet_30pct_20230223/beam/year-2019-iteration-2/ITERS/it.0/0.events.csv.gz':'5Fl MixPr 1Flz',\n",
    "        # 's3://beam-outputs/pilates-outputs/sfbay_5fleets_mix_price_164fleet_30pct_20230226/beam/year-2019-iteration-2/ITERS/it.0/0.events.csv.gz':'5Fl MixPr 1.64Flz',\n",
    "        # 's3://beam-outputs/pilates-outputs/sfbay_5fleets_mixprice_200fleet_30pct_20230223/beam/year-2019-iteration-2/ITERS/it.0/0.events.csv.gz':'5Fl MixPr 2Flz',\n",
    "        # 's3://beam-outputs/pilates-outputs/sfbay_5fleets_mixprice_400fleet_30pct_20230223/beam/year-2019-iteration-2/ITERS/it.0/0.events.csv.gz':'5Fl MixPr 4Flz',\n",
    "        # 's3://beam-outputs/pilates-outputs/sfbay_5fleets_mixprice_1000fleet_30pct_20230223/beam/year-2019-iteration-2/ITERS/it.0/0.events.csv.gz':'5Fl MixPr 10Flz',\n",
    "                # 's3://beam-outputs/pilates-outputs/sfbay_baseline_20230331/beam/year-2018-iteration-2/ITERS/it.0/0.events.csv.gz':'Base-20230331', # BART ridership\n",
    "                            # 'gs://beam-core-outputs/sfbay-baseline-20230410-omx/beam/year-2020-iteration-2/ITERS/it.0/0.events.csv.gz':'OMX-Baseline-20.2', # Test OMX\n",
    "                    # 'gs://beam-core-outputs/sfbay-baseline-20230416-omx/beam/year-2020-iteration-2/ITERS/it.0/0.events.csv.gz':'OMX-Baseline2-20.2', # Test OMX\n",
    "                            # 'gs://beam-core-outputs/sfbay-baseline-20230418-omx-tr/beam/year-2020-iteration-2/ITERS/it.0/0.events.csv.gz':'OMX-Baseline2-tr-20.2', # Test OMX\n",
    "                    # 'gs://beam-core-outputs/sfbay-baseline-20230425-omx/beam/year-2018-iteration-2/ITERS/it.0/0.events.csv.gz':'OMX-Baseline3-tr-18.2', # Test OMX\n",
    "                    # 'gs://beam-core-outputs/sfbay-baseline-20230425-omx/beam/year-2019-iteration-2/ITERS/it.0/0.events.csv.gz':'OMX-Baseline3-tr-19.2', # Test OMX\n",
    "                    # 'gs://beam-core-outputs/sfbay-baseline-20230425-omx/beam/year-2020-iteration--1/ITERS/it.0/0.events.csv.gz':'OMX-Baseline3-tr-20.0', # Test OMX\n",
    "                    # 'gs://beam-core-outputs/sfbay-baseline-20230425-omx/beam/year-2020-iteration-1/ITERS/it.0/0.events.csv.gz':'OMX-Baseline3-tr-20.1', # Test OMX\n",
    "                    # 'gs://beam-core-outputs/sfbay-baseline-20230425-omx/beam/year-2020-iteration-2/ITERS/it.0/0.events.csv.gz':'OMX-Baseline3-tr-20.2', # Test OMX\n",
    "                # 'gs://beam-core-outputs/sfbay-baseline-TR-testBA-20230427/beam/year-2018-iteration-2/ITERS/it.0/0.events.csv.gz':'TR-testBA', # Test OMX\n",
    "            # 'gs://beam-core-outputs/sfbay-baseline-20230427/beam/year-2018-iteration--1/ITERS/it.0/0.events.csv.gz':'Base-18.0', # Test OMX\n",
    "            # 'gs://beam-core-outputs/sfbay-baseline-20230427/beam/year-2018-iteration-1/ITERS/it.0/0.events.csv.gz':'Base-18.1', # Test OMX\n",
    "            # 'gs://beam-core-outputs/sfbay-baseline-20230427/beam/year-2018-iteration-2/ITERS/it.0/0.events.csv.gz':'Base-18.2', # Test OMX\n",
    "            # 'gs://beam-core-outputs/sfbay-baseline-20230427/beam/year-2018-iteration-3/ITERS/it.0/0.events.csv.gz':'Base-18.3', # Test OMX\n",
    "            # 'gs://beam-core-outputs/sfbay-baseline-20230427/beam/year-2018-iteration-4/ITERS/it.0/0.events.csv.gz':'Base-18.4', # Test OMX\n",
    "            # 'gs://beam-core-outputs/sfbay-baseline-20230427/beam/year-2019-iteration--1/ITERS/it.0/0.events.csv.gz':'Base-19.0', # Test OMX\n",
    "            # 'gs://beam-core-outputs/sfbay-baseline-20230427/beam/year-2019-iteration-1/ITERS/it.0/0.events.csv.gz':'Base-19.1', # Test OMX\n",
    "            # 'gs://beam-core-outputs/sfbay-baseline-20230427/beam/year-2019-iteration-2/ITERS/it.0/0.events.csv.gz':'Base-19.2', # Test OMX\n",
    "            # 'gs://beam-core-outputs/sfbay-baseline-20230427/beam/year-2019-iteration-3/ITERS/it.0/0.events.csv.gz':'Base-19.3', # Test OMX\n",
    "            # 'gs://beam-core-outputs/sfbay-baseline-20230427/beam/year-2019-iteration-4/ITERS/it.0/0.events.csv.gz':'Base-19.4', # Test OMX\n",
    "            # 'gs://beam-core-outputs/sfbay-baseline-20230427/beam/year-2020-iteration--1/ITERS/it.0/0.events.csv.gz':'Base-20.0', # Test OMX\n",
    "            # 'gs://beam-core-outputs/sfbay-baseline-20230427/beam/year-2020-iteration-1/ITERS/it.0/0.events.csv.gz':'Base-20.1', # Test OMX\n",
    "            # 'gs://beam-core-outputs/sfbay-baseline-20230427/beam/year-2020-iteration-2/ITERS/it.0/0.events.csv.gz':'Base-20.2', # Test OMX\n",
    "            # 'gs://beam-core-outputs/sfbay-baseline-20230427/beam/year-2020-iteration-3/ITERS/it.0/0.events.csv.gz':'Base-20.3', # Test OMX\n",
    "            # 'gs://beam-core-outputs/sfbay-baseline-20230427/beam/year-2020-iteration-4/ITERS/it.0/0.events.csv.gz':'Base-20.4', # Test OMX\n",
    "            # 'gs://beam-core-outputs/sfbay-tr-20230427/beam/year-2018-iteration--1/ITERS/it.0/0.events.csv.gz':'TR-18.0', # Test OMX\n",
    "            # 'gs://beam-core-outputs/sfbay-tr-20230427/beam/year-2018-iteration-1/ITERS/it.0/0.events.csv.gz':'TR-18.1', # Test OMX\n",
    "            # 'gs://beam-core-outputs/sfbay-tr-20230427/beam/year-2018-iteration-2/ITERS/it.0/0.events.csv.gz':'TR-18.2', # Test OMX\n",
    "            # 'gs://beam-core-outputs/sfbay-tr-20230427/beam/year-2018-iteration-3/ITERS/it.0/0.events.csv.gz':'TR-18.3', # Test OMX\n",
    "            # 'gs://beam-core-outputs/sfbay-tr-20230427/beam/year-2018-iteration-4/ITERS/it.0/0.events.csv.gz':'TR-18.4', # Test OMX\n",
    "            # 'gs://beam-core-outputs/sfbay-tr-20230427/beam/year-2019-iteration--1/ITERS/it.0/0.events.csv.gz':'TR-19.0', # Test OMX\n",
    "            # 'gs://beam-core-outputs/sfbay-tr-20230427/beam/year-2019-iteration-1/ITERS/it.0/0.events.csv.gz':'TR-19.1', # Test OMX\n",
    "            # 'gs://beam-core-outputs/sfbay-tr-20230427/beam/year-2019-iteration-2/ITERS/it.0/0.events.csv.gz':'TR-19.2', # Test OMX\n",
    "            # 'gs://beam-core-outputs/sfbay-tr-20230427/beam/year-2019-iteration-3/ITERS/it.0/0.events.csv.gz':'TR-19.3', # Test OMX\n",
    "            # 'gs://beam-core-outputs/sfbay-tr-20230427/beam/year-2019-iteration-4/ITERS/it.0/0.events.csv.gz':'TR-19.4', # Test OMX\n",
    "            # 'gs://beam-core-outputs/sfbay-tr-20230427/beam/year-2020-iteration--1/ITERS/it.0/0.events.csv.gz':'TR-20.0', # Test OMX\n",
    "            # 'gs://beam-core-outputs/sfbay-tr-20230427/beam/year-2020-iteration-1/ITERS/it.0/0.events.csv.gz':'TR-20.1', # Test OMX\n",
    "            # 'gs://beam-core-outputs/sfbay-tr-20230427/beam/year-2020-iteration-2/ITERS/it.0/0.events.csv.gz':'TR-20.2', # Test OMX\n",
    "            # 'gs://beam-core-outputs/sfbay-tr-20230427/beam/year-2020-iteration-3/ITERS/it.0/0.events.csv.gz':'TR-20.3', # Test OMX\n",
    "            # 'gs://beam-core-outputs/sfbay-tr-20230427/beam/year-2020-iteration-4/ITERS/it.0/0.events.csv.gz':'TR-20.4', # Test OMX\n",
    "            # 'gs://beam-core-outputs/sfbay-baseline-20230503-omx/beam/year-2018-iteration--1/ITERS/it.0/0.events.csv.gz':'Base2-18.0', # Test OMX\n",
    "            # 'gs://beam-core-outputs/sfbay-baseline-20230503-omx/beam/year-2018-iteration-1/ITERS/it.0/0.events.csv.gz':'Base2-18.1', # Test OMX\n",
    "            # 'gs://beam-core-outputs/sfbay-baseline-20230503-omx/beam/year-2018-iteration-2/ITERS/it.0/0.events.csv.gz':'Base2-18.2', # Test OMX\n",
    "            # 'gs://beam-core-outputs/sfbay-baseline-20230503-omx/beam/year-2018-iteration-3/ITERS/it.0/0.events.csv.gz':'Base2-18.3', # Test OMX\n",
    "            # 'gs://beam-core-outputs/sfbay-baseline-20230503-omx/beam/year-2018-iteration-4/ITERS/it.0/0.events.csv.gz':'Base2-18.4', # Test OMX\n",
    "            # 'gs://beam-core-outputs/sfbay-baseline-20230503-omx/beam/year-2019-iteration--1/ITERS/it.0/0.events.csv.gz':'Base2-19.0', # Test OMX\n",
    "            # 'gs://beam-core-outputs/sfbay-baseline-20230503-omx/beam/year-2019-iteration-1/ITERS/it.0/0.events.csv.gz':'Base2-19.1', # Test OMX\n",
    "            # 'gs://beam-core-outputs/sfbay-baseline-20230503-omx/beam/year-2019-iteration-2/ITERS/it.0/0.events.csv.gz':'Base2-19.2', # Test OMX\n",
    "            # 'gs://beam-core-outputs/sfbay-baseline-20230503-omx/beam/year-2019-iteration-3/ITERS/it.0/0.events.csv.gz':'Base2-19.3', # Test OMX\n",
    "            # 'gs://beam-core-outputs/sfbay-baseline-20230503-omx/beam/year-2019-iteration-4/ITERS/it.0/0.events.csv.gz':'Base2-19.4', # Test OMX\n",
    "            # 'gs://beam-core-outputs/sfbay-baseline-20230503-omx/beam/year-2020-iteration--1/ITERS/it.0/0.events.csv.gz':'Base2-20.0', # Test OMX\n",
    "            # 'gs://beam-core-outputs/sfbay-baseline-20230503-omx/beam/year-2020-iteration-1/ITERS/it.0/0.events.csv.gz':'Base2-20.1', # Test OMX\n",
    "            # 'gs://beam-core-outputs/sfbay-baseline-20230503-omx/beam/year-2020-iteration-2/ITERS/it.0/0.events.csv.gz':'Base2-20.2', # Test OMX\n",
    "            # 'gs://beam-core-outputs/sfbay-baseline-20230503-omx/beam/year-2020-iteration-3/ITERS/it.0/0.events.csv.gz':'Base2-20.3', # Test OMX\n",
    "            # 'gs://beam-core-outputs/sfbay-baseline-20230503-omx/beam/year-2020-iteration-4/ITERS/it.0/0.events.csv.gz':'Base2-20.4', # Test OMX\n",
    "            # 'gs://beam-core-outputs/sfbay-TR-20230505/beam/year-2018-iteration--1/ITERS/it.0/0.events.csv.gz':'TR-18.0', # Test OMX\n",
    "            # 'gs://beam-core-outputs/sfbay-TR-20230505/beam/year-2018-iteration-1/ITERS/it.0/0.events.csv.gz':'TR-18.1', # Test OMX\n",
    "            # 'gs://beam-core-outputs/sfbay-TR-20230505/beam/year-2018-iteration-2/ITERS/it.0/0.events.csv.gz':'TR-18.2', # Test OMX\n",
    "            # 'gs://beam-core-outputs/sfbay-TR-20230505/beam/year-2018-iteration-3/ITERS/it.0/0.events.csv.gz':'TR-18.3', # Test OMX\n",
    "            # 'gs://beam-core-outputs/sfbay-TR-20230505/beam/year-2018-iteration-4/ITERS/it.0/0.events.csv.gz':'TR-18.4', # Test OMX\n",
    "            # 'gs://beam-core-outputs/sfbay-TR-20230505/beam/year-2019-iteration--1/ITERS/it.0/0.events.csv.gz':'TR-19.0', # Test OMX\n",
    "            # 'gs://beam-core-outputs/sfbay-TR-20230505/beam/year-2019-iteration-1/ITERS/it.0/0.events.csv.gz':'TR-19.1', # Test OMX\n",
    "            # 'gs://beam-core-outputs/sfbay-TR-20230505/beam/year-2019-iteration-2/ITERS/it.0/0.events.csv.gz':'TR-19.2', # Test OMX\n",
    "            # 'gs://beam-core-outputs/sfbay-TR-20230505/beam/year-2019-iteration-3/ITERS/it.0/0.events.csv.gz':'TR-19.3', # Test OMX\n",
    "            # 'gs://beam-core-outputs/sfbay-TR-20230505/beam/year-2019-iteration-4/ITERS/it.0/0.events.csv.gz':'TR-19.4', # Test OMX\n",
    "            # 'gs://beam-core-outputs/sfbay-TR-20230505/beam/year-2020-iteration--1/ITERS/it.0/0.events.csv.gz':'TR-20.0', # Test OMX\n",
    "            # 'gs://beam-core-outputs/sfbay-TR-20230505/beam/year-2020-iteration-1/ITERS/it.0/0.events.csv.gz':'TR-20.1', # Test OMX\n",
    "            # 'gs://beam-core-outputs/sfbay-TR-20230505/beam/year-2020-iteration-2/ITERS/it.0/0.events.csv.gz':'TR-20.2', # Test OMX\n",
    "            # 'gs://beam-core-outputs/sfbay-TR-20230505/beam/year-2020-iteration-3/ITERS/it.0/0.events.csv.gz':'TR-20.3', # Test OMX\n",
    "            # 'gs://beam-core-outputs/sfbay-TR-20230505/beam/year-2020-iteration-4/ITERS/it.0/0.events.csv.gz':'TR-20.4', # Test OMX\n",
    "            # 'gs://beam-core-outputs/sfbay-baseline-20230510/beam/year-2020-iteration-4/ITERS/it.0/0.events.csv.gz':'Base4-20.4', # Test OMX -Solo correct\n",
    "            # 'gs://beam-core-outputs/sfbay-TR-20230511/beam/year-2020-iteration-4/ITERS/it.0/0.events.csv.gz':'Poolfree4-20.4', # Test OMX- Pool free solo correct\n",
    "            # 'gs://beam-core-outputs/sfbay-baseline-atlas/beam/year-2020-iteration-4/ITERS/it.0/0.events.csv.gz':'Base5-20.4', # Test ATLAS\n",
    "            # 'gs://beam-core-outputs/sfbay-baseline-20230517/beam/year-2020-iteration-4/ITERS/it.0/0.events.csv.gz':'Base6-20.4', # Test TRN correction\n",
    "            # 'gs://beam-core-outputs/sfbay-TR-20230519/beam/year-2020-iteration-4/ITERS/it.0/0.events.csv.gz':'TR6-20.4', # TR compared to Base 6\n",
    "            # 'gs://beam-core-outputs/sfbay-baseline-20230523/beam/year-2020-iteration-4/ITERS/it.0/0.events.csv.gz':'Base7-20.4', # other corrections to TRN Zach did\n",
    "\n",
    "            # 'gs://beam-core-outputs/sfbay-baseline2018-30pct-20230710/beam/year-2018-iteration--1/ITERS/it.0/0.events.csv.gz':'Base18.0',\n",
    "            # 'gs://beam-core-outputs/sfbay-tr-30pct-20230716/beam/year-2018-iteration--1/ITERS/it.0/0.events.csv.gz':'TR18.0',\n",
    "            # 'gs://beam-core-outputs/sfbay-baseline2018-30pct-20230710/beam/year-2018-iteration-1/ITERS/it.0/0.events.csv.gz':'Base18.1',\n",
    "            # 'gs://beam-core-outputs/sfbay-tr-30pct-20230716/beam/year-2018-iteration-1/ITERS/it.0/0.events.csv.gz':'TR18.1',\n",
    "            # 'gs://beam-core-outputs/sfbay-baseline2018-30pct-20230710/beam/year-2018-iteration-2/ITERS/it.0/0.events.csv.gz':'Base18.2',\n",
    "            # 'gs://beam-core-outputs/sfbay-tr-30pct-20230716/beam/year-2018-iteration-2/ITERS/it.0/0.events.csv.gz':'TR18.2',\n",
    "            # 'gs://beam-core-outputs/sfbay-baseline2018-30pct-20230710/beam/year-2018-iteration-5/ITERS/it.0/0.events.csv.gz':'Base18.5',\n",
    "            # 'gs://beam-core-outputs/sfbay-tr-30pct-20230716/beam/year-2018-iteration-5/ITERS/it.0/0.events.csv.gz':'TR18.5',\n",
    "            # 'gs://beam-core-outputs/sfbay-baseline2018-30pct-20230710/beam/year-2018-iteration-7/ITERS/it.0/0.events.csv.gz':'Base18.7',\n",
    "            # 'gs://beam-core-outputs/sfbay-tr-30pct-20230716/beam/year-2018-iteration-7/ITERS/it.0/0.events.csv.gz':'TR18.7',\n",
    "            # 'gs://beam-core-outputs/sfbay-baseline2018-30pct-20230710/beam/year-2018-iteration-9/ITERS/it.0/0.events.csv.gz':'Base18.9',\n",
    "            # 'gs://beam-core-outputs/sfbay-tr-30pct-20230716/beam/year-2018-iteration-9/ITERS/it.0/0.events.csv.gz':'TR18.9',\n",
    "            # 'gs://beam-core-outputs/sfbay-baseline2018-30pct-20230710/beam/year-2018-iteration-10/ITERS/it.0/0.events.csv.gz':'Base18.10',\n",
    "            # 'gs://beam-core-outputs/sfbay-tr-30pct-20230716/beam/year-2018-iteration-10/ITERS/it.0/0.events.csv.gz':'TR18.10',\n",
    "#             'gs://beam-core-outputs/sfbay-baseline-30pct-20230603/beam/year-2019-iteration--1/ITERS/it.0/0.events.csv.gz':'Base19.0',\n",
    "#             'gs://beam-core-outputs/sfbay-tr-30pct-20230603/beam/year-2019-iteration--1/ITERS/it.0/0.events.csv.gz':'TR19.0',\n",
    "#             'gs://beam-core-outputs/sfbay-baseline-30pct-20230603/beam/year-2019-iteration-1/ITERS/it.0/0.events.csv.gz':'Base19.1',\n",
    "#             'gs://beam-core-outputs/sfbay-tr-30pct-20230603/beam/year-2019-iteration-1/ITERS/it.0/0.events.csv.gz':'TR19.1',\n",
    "#             'gs://beam-core-outputs/sfbay-baseline-30pct-20230603/beam/year-2019-iteration-2/ITERS/it.0/0.events.csv.gz':'Base19.2',\n",
    "#             'gs://beam-core-outputs/sfbay-tr-30pct-20230603/beam/year-2019-iteration-2/ITERS/it.0/0.events.csv.gz':'TR19.2',\n",
    "#             'gs://beam-core-outputs/sfbay-baseline-30pct-20230603/beam/year-2019-iteration-3/ITERS/it.0/0.events.csv.gz':'Base19.3',\n",
    "#             'gs://beam-core-outputs/sfbay-tr-30pct-20230603/beam/year-2019-iteration-3/ITERS/it.0/0.events.csv.gz':'TR19.3',\n",
    "#             'gs://beam-core-outputs/sfbay-baseline-30pct-20230603/beam/year-2019-iteration-4/ITERS/it.0/0.events.csv.gz':'Base19.4',\n",
    "#             'gs://beam-core-outputs/sfbay-tr-30pct-20230603/beam/year-2019-iteration-4/ITERS/it.0/0.events.csv.gz':'TR19.4',\n",
    "        \n",
    "#             'gs://beam-core-outputs/sfbay-baseline-30pct-20230603/beam/year-2020-iteration--1/ITERS/it.0/0.events.csv.gz':'Base20.0',\n",
    "#             'gs://beam-core-outputs/sfbay-tr-30pct-20230603/beam/year-2020-iteration--1/ITERS/it.0/0.events.csv.gz':'TR20.0',\n",
    "#             'gs://beam-core-outputs/sfbay-baseline-30pct-20230603/beam/year-2020-iteration-1/ITERS/it.0/0.events.csv.gz':'Base20.1',\n",
    "#             'gs://beam-core-outputs/sfbay-tr-30pct-20230603/beam/year-2020-iteration-1/ITERS/it.0/0.events.csv.gz':'TR20.1',\n",
    "#             'gs://beam-core-outputs/sfbay-baseline-30pct-20230603/beam/year-2020-iteration-2/ITERS/it.0/0.events.csv.gz':'Base20.2',\n",
    "#             'gs://beam-core-outputs/sfbay-tr-30pct-20230603/beam/year-2020-iteration-2/ITERS/it.0/0.events.csv.gz':'TR20.2',\n",
    "#             'gs://beam-core-outputs/sfbay-baseline-30pct-20230603/beam/year-2020-iteration-3/ITERS/it.0/0.events.csv.gz':'Base20.3',\n",
    "#             'gs://beam-core-outputs/sfbay-tr-30pct-20230603/beam/year-2020-iteration-3/ITERS/it.0/0.events.csv.gz':'TR20.3',\n",
    "            # 'gs://beam-core-outputs/sfbay-baseline-30pct-20230603/beam/year-2020-iteration-4/ITERS/it.0/0.events.csv.gz':'Base20.4',\n",
    "            # 'gs://beam-core-outputs/sfbay-tr-30pct-20230603/beam/year-2020-iteration-4/ITERS/it.0/0.events.csv.gz':'TR20.4',\n",
    "                    \n",
    "        # 'gs://beam-core-outputs/sfbay-baseline-20230526/beam/year-2020-iteration-4/ITERS/it.0/0.events.csv.gz':'Baseline', # other corrections...BEAM 0.9.5\n",
    "        # 'gs://beam-core-outputs/sfbay-incentives-20230609/beam/year-2020-iteration-4/ITERS/it.0/0.events.csv.gz':'incentives', \n",
    "        # 'gs://beam-core-outputs/sfbay-incentives-20230618/beam/year-2020-iteration-4/ITERS/it.0/0.events.csv.gz':'incentives', # include walk transit and bike transit\n",
    "        # 'gs://beam-core-outputs/sfbay-cordon-20230609/beam/year-2020-iteration-4/ITERS/it.0/0.events.csv.gz':'Cordon', \n",
    "        # 'gs://beam-core-outputs/sfbay-incentives-20230612/beam/year-2020-iteration-4/ITERS/it.0/0.events.csv.gz':'incentives', \n",
    "        # 'gs://beam-core-outputs/sfbay-cordon-20230612/beam/year-2020-iteration-4/ITERS/it.0/0.events.csv.gz':'Cordon',\n",
    "        # 'gs://beam-core-outputs/sfbay-detour0125-20230623/beam/year-2020-iteration-4/ITERS/it.0/0.events.csv.gz':'Detour-0.125', \n",
    "        # 'gs://beam-core-outputs/sfbay-detour05-20230623/beam/year-2020-iteration-4/ITERS/it.0/0.events.csv.gz':'Detour-0.5', \n",
    "        # 'gs://beam-core-outputs/sfbay-detour3-20230623/beam/year-2020-iteration-4/ITERS/it.0/0.events.csv.gz':'Detour-3', \n",
    "        # 'gs://beam-core-outputs/sfbay-detour10-20230623/beam/year-2020-iteration-4/ITERS/it.0/0.events.csv.gz':'Detour-10', \n",
    "        # 'gs://beam-core-outputs/sfbay-repo_0_125-20230603/beam/year-2020-iteration-4/ITERS/it.0/0.events.csv.gz':'Repo-0.125',\n",
    "        # 'gs://beam-core-outputs/sfbay-repo_0_5-20230603/beam/year-2020-iteration-4/ITERS/it.0/0.events.csv.gz':'Repo-0.5',\n",
    "        # 'gs://beam-core-outputs/sfbay-repo_3-20230603/beam/year-2020-iteration-4/ITERS/it.0/0.events.csv.gz':'Repo-3',\n",
    "        # 'gs://beam-core-outputs/sfbay-repo_10-20230603/beam/year-2020-iteration-4/ITERS/it.0/0.events.csv.gz':'Repo-10',\n",
    "        # 'gs://beam-core-outputs/sfbay-tr_capacity_0_25-20230608/beam/year-2020-iteration-4/ITERS/it.0/0.events.csv.gz':'capacity-0.25',\n",
    "        # 'gs://beam-core-outputs/sfbay-tr_capacity_0_5-20230608/beam/year-2020-iteration-4/ITERS/it.0/0.events.csv.gz':'capacity-0.5',\n",
    "        # 'gs://beam-core-outputs/sfbay-tr_capacity_1_5-20230608/beam/year-2020-iteration-4/ITERS/it.0/0.events.csv.gz':'capacity-1.5',\n",
    "        # 'gs://beam-core-outputs/sfbay-tr_capacity_2-20230607/beam/year-2020-iteration-4/ITERS/it.0/0.events.csv.gz':'capacity-2',\n",
    "        # 'gs://beam-core-outputs/sfbay-tr-frequency_0_25-20230614/beam/year-2020-iteration-4/ITERS/it.0/0.events.csv.gz':'freq-0.25',\n",
    "        # 'gs://beam-core-outputs/sfbay-tr-frequency_0_50-20230614/beam/year-2020-iteration-4/ITERS/it.0/0.events.csv.gz':'freq-0.5',\n",
    "        # 'gs://beam-core-outputs/sfbay-tr-frequency_1_5-20230614/beam/year-2020-iteration-4/ITERS/it.0/0.events.csv.gz':'freq-1.5',\n",
    "        # 'gs://beam-core-outputs/sfbay-tr-frequency_2-20230616/beam/year-2020-iteration-4/ITERS/it.0/0.events.csv.gz':'freq-2',\n",
    "        # 'gs://beam-core-outputs/sfbay-rh-price_0_125-20230614/beam/year-2020-iteration-4/ITERS/it.0/0.events.csv.gz':'RHprice-0.125',\n",
    "        # 'gs://beam-core-outputs/sfbay-rh-price_0_5-20230614/beam/year-2020-iteration-4/ITERS/it.0/0.events.csv.gz':'RHprice-0.5',\n",
    "        # 'gs://beam-core-outputs/sfbay-rh-price_2-20230614/beam/year-2020-iteration-4/ITERS/it.0/0.events.csv.gz':'RHprice-2',\n",
    "        # 'gs://beam-core-outputs/sfbay-rh-price_5-20230614/beam/year-2020-iteration-4/ITERS/it.0/0.events.csv.gz':'RHprice-5',\n",
    "        # 'gs://beam-core-outputs/sfbay-tr-speed0_25-20230626/beam/year-2020-iteration-4/ITERS/it.0/0.events.csv.gz':'TRspeed-0_25',\n",
    "        # 'gs://beam-core-outputs/sfbay-tr-speed0_5-20230626/beam/year-2020-iteration-4/ITERS/it.0/0.events.csv.gz':'TRspeed-0_5',\n",
    "        # 'gs://beam-core-outputs/sfbay-tr-speed1_5-20230623/beam/year-2020-iteration-4/ITERS/it.0/0.events.csv.gz':'TRspeed-1_5',\n",
    "        # 'gs://beam-core-outputs/sfbay-tr-speed2_0-20230623/beam/year-2020-iteration-4/ITERS/it.0/0.events.csv.gz':'TRspeed-2_0',\n",
    "        # 'gs://beam-core-outputs/sfbay-tr-discount-100-20230703/beam/year-2020-iteration-4/ITERS/it.0/0.events.csv.gz':'TRdisc-100',\n",
    "        # 'gs://beam-core-outputs/sfbay-tr-discount-75-20230703/beam/year-2020-iteration-4/ITERS/it.0/0.events.csv.gz':'TRdisc-75',\n",
    "        # 'gs://beam-core-outputs/sfbay-tr-discount-50-20230703/beam/year-2020-iteration-4/ITERS/it.0/0.events.csv.gz':'TRdisc-50',\n",
    "        # 'gs://beam-core-outputs/sfbay-tr-discount-25-20230703/beam/year-2020-iteration-4/ITERS/it.0/0.events.csv.gz':'TRdisc-25',\n",
    "        # 'gs://beam-core-outputs/sfbay-fleetsz_0_125-20230609/beam/year-2020-iteration-4/ITERS/it.0/0.events.csv.gz':'RHfltsz-0_125',\n",
    "        # 'gs://beam-core-outputs/sfbay-fleetsz_0_5-20230607/beam/year-2020-iteration-4/ITERS/it.0/0.events.csv.gz':'RHfltsz-0_5',\n",
    "        # 'gs://beam-core-outputs/sfbay-fleetsz_3-20230607/beam/year-2020-iteration-4/ITERS/it.0/0.events.csv.gz':'RHfltsz-3',\n",
    "        # 'gs://beam-core-outputs/sfbay-fleetsz_10-20230607/beam/year-2020-iteration-4/ITERS/it.0/0.events.csv.gz':'RHfltsz-10',\n",
    "        # 'gs://beam-core-outputs/sfbay-rh-detour0125-20230623/beam/year-2020-iteration-4/ITERS/it.0/0.events.csv.gz':'RHdetour-0_125',\n",
    "        # 'gs://beam-core-outputs/sfbay-rh-detour05-20230623/beam/year-2020-iteration-4/ITERS/it.0/0.events.csv.gz':'RHdetour-0_5',\n",
    "        # 'gs://beam-core-outputs/sfbay-rh-detour3-20230623/beam/year-2020-iteration-4/ITERS/it.0/0.events.csv.gz':'RHdetour-3',\n",
    "        # 'gs://beam-core-outputs/sfbay-rh-detour10-20230623/beam/year-2020-iteration-4/ITERS/it.0/0.events.csv.gz':'RHdetour-10',\n",
    "        # 'gs://beam-core-outputs/sfbay-wb-incentives-25-20230705/beam/year-2020-iteration-4/ITERS/it.0/0.events.csv.gz':'WBincent-25',\n",
    "        # 'gs://beam-core-outputs/sfbay-wb-incentives-50-20230703/beam/year-2020-iteration-4/ITERS/it.0/0.events.csv.gz':'WBincent-50',\n",
    "        # 'gs://beam-core-outputs/sfbay-wb-incentives-100-20230630/beam/year-2020-iteration-4/ITERS/it.0/0.events.csv.gz':'WBincent-100',\n",
    "        # 'gs://beam-core-outputs/sfbay-wb-incentives-200-20230630/beam/year-2020-iteration-4/ITERS/it.0/0.events.csv.gz':'WBincent-200',\n",
    "        # 'gs://beam-core-outputs/sfbay-telecommuting-baseline-20230616/beam/year-2020-iteration-4/ITERS/it.0/0.events.csv.gz':'Baseline',\n",
    "        # 'gs://beam-core-outputs/sfbay-telecommuting-0p36-20230620/beam/year-2020-iteration-4/ITERS/it.0/0.events.csv.gz':'Tele-036',\n",
    "        # 'gs://beam-core-outputs/sfbay-telecommuting-0p76-20230621/beam/year-2020-iteration-4/ITERS/it.0/0.events.csv.gz':'Tele-076',\n",
    "        # 'gs://beam-core-outputs/sfbay-telecommuting-1p56-20230617/beam/year-2020-iteration-4/ITERS/it.0/0.events.csv.gz':'Tele-156',\n",
    "        # 'gs://beam-core-outputs/sfbay-telecommuting-3p32-20230621/beam/year-2020-iteration-4/ITERS/it.0/0.events.csv.gz':'Tele-332',\n",
    "        # 'gs://beam-core-outputs/sfbay-telecommuting-5p24-20230617/beam/year-2020-iteration-4/ITERS/it.0/0.events.csv.gz':'Tele-524',\n",
    "        # 'gs://beam-core-outputs/sfbay-telecommuting-8p60-20230620/beam/year-2020-iteration-4/ITERS/it.0/0.events.csv.gz':'Tele-860'\n",
    "        # 'gs://beam-core-outputs/sfbay-cordon-MTA-20230703/beam/year-2020-iteration-4/ITERS/it.0/0.events.csv.gz':'MTA-Cordon',\n",
    "        # 'gs://beam-core-outputs/sfbay-cordon-MTA-nobeamtoll-20230703/beam/year-2020-iteration-4/ITERS/it.0/0.events.csv.gz':'MTA-Cordon-noBEAM'\n",
    "        \n",
    "#         'gs://beam-core-outputs/sfbay-pooling-DT015-FS1-WTinf-20230916/beam/year-2018-iteration-4/ITERS/it.0/0.events.csv.gz':'DT015-FS1-WTinf',\n",
    "#         'gs://beam-core-outputs/sfbay-pooling-DT030-FS1-WTinf-20230916/beam/year-2018-iteration-4/ITERS/it.0/0.events.csv.gz':'DT030-FS1-WTinf',\n",
    "#         'gs://beam-core-outputs/sfbay-pooling-DT050-FS1-WTinf-20230916/beam/year-2018-iteration-4/ITERS/it.0/0.events.csv.gz':'DT050-FS1-WTinf',\n",
    "#         'gs://beam-core-outputs/sfbay-pooling-DT100-FS1-WTinf-20230916/beam/year-2018-iteration-4/ITERS/it.0/0.events.csv.gz':'DT100-FS1-WTinf',\n",
    "#         'gs://beam-core-outputs/sfbay-pooling-DT200-FS1-WTinf-20230916/beam/year-2018-iteration-4/ITERS/it.0/0.events.csv.gz':'DT200-FS1-WTinf',\n",
    "\n",
    "#         'gs://beam-core-outputs/sfbay-pooling-DT015-FS1-WTinf-2fs-20230917/beam/year-2018-iteration-4/ITERS/it.0/0.events.csv.gz':'DT015-FS1-WTinf-2fs',\n",
    "#         'gs://beam-core-outputs/sfbay-pooling-DT030-FS1-WTinf-2fs-20230917/beam/year-2018-iteration-4/ITERS/it.0/0.events.csv.gz':'DT030-FS1-WTinf-2fs',\n",
    "#         'gs://beam-core-outputs/sfbay-pooling-DT050-FS1-WTinf-2fs-20230917/beam/year-2018-iteration-4/ITERS/it.0/0.events.csv.gz':'DT050-FS1-WTinf-2fs',\n",
    "#         'gs://beam-core-outputs/sfbay-pooling-DT100-FS1-WTinf-2fs-20230917/beam/year-2018-iteration-4/ITERS/it.0/0.events.csv.gz':'DT100-FS1-WTinf-2fs',\n",
    "#         'gs://beam-core-outputs/sfbay-pooling-DT200-FS1-WTinf-2fs-20230917/beam/year-2018-iteration-4/ITERS/it.0/0.events.csv.gz':'DT200-FS1-WTinf-2fs',\n",
    "\n",
    "#         'gs://beam-core-outputs/sfbay-pooling-WT0060-FS1-DTinf-20230916/beam/year-2018-iteration-4/ITERS/it.0/0.events.csv.gz':'WT0060-FS1-DTinf',\n",
    "#         'gs://beam-core-outputs/sfbay-pooling-WT0300-FS1-DTinf-20230916/beam/year-2018-iteration-4/ITERS/it.0/0.events.csv.gz':'WT0300-FS1-DTinf',\n",
    "#         'gs://beam-core-outputs/sfbay-pooling-WT0900-FS1-DTinf-20230916/beam/year-2018-iteration-4/ITERS/it.0/0.events.csv.gz':'WT0900-FS1-DTinf',\n",
    "#         'gs://beam-core-outputs/sfbay-pooling-WT1800-FS1-DTinf-20230916/beam/year-2018-iteration-4/ITERS/it.0/0.events.csv.gz':'WT1800-FS1-DTinf',\n",
    "#         'gs://beam-core-outputs/sfbay-pooling-WT3600-FS1-DTinf-20230916/beam/year-2018-iteration-4/ITERS/it.0/0.events.csv.gz':'WT3600-FS1-DTinf',\n",
    "\n",
    "#         'gs://beam-core-outputs/sfbay-pooling-WT0060-FS1-DTinf-2fs-20230917/beam/year-2018-iteration-4/ITERS/it.0/0.events.csv.gz':'WT0060-FS1-DTinf-2fs',\n",
    "#         'gs://beam-core-outputs/sfbay-pooling-WT0300-FS1-DTinf-2fs-20230917/beam/year-2018-iteration-4/ITERS/it.0/0.events.csv.gz':'WT0300-FS1-DTinf-2fs',\n",
    "#         'gs://beam-core-outputs/sfbay-pooling-WT0900-FS1-DTinf-2fs-20230917/beam/year-2018-iteration-4/ITERS/it.0/0.events.csv.gz':'WT0900-FS1-DTinf-2fs',\n",
    "#         'gs://beam-core-outputs/sfbay-pooling-WT1800-FS1-DTinf-2fs-20230917/beam/year-2018-iteration-4/ITERS/it.0/0.events.csv.gz':'WT1800-FS1-DTinf-2fs',\n",
    "#         'gs://beam-core-outputs/sfbay-pooling-WT3600-FS1-DTinf-2fs-20230917/beam/year-2018-iteration-4/ITERS/it.0/0.events.csv.gz':'WT3600-FS1-DTinf-2fs',\n",
    "\n",
    "    # 'gs://beam-core-outputs/output/sfbay/sfbay-pilates-base__2023-06-11_01-22-35_vjo/ITERS/it.0/0.events.csv.gz': '0.3pop-baseline',\n",
    "    # 'gs://beam-core-outputs/output/sfbay/sfbay-pilates-base__2023-06-11_01-22-34_ufh/ITERS/it.0/0.events.csv.gz': '0.3pop-fewerdocks',\n",
    "    # 'gs://beam-core-outputs/output/sfbay/sfbay-pilates-base__2023-06-11_01-22-57_uyl/ITERS/it.0/0.events.csv.gz': '0.3pop-moredocks',\n",
    "    # 'gs://beam-core-outputs/output/sfbay/sfbay-pilates-base__2023-06-11_01-22-47_grg/ITERS/it.0/0.events.csv.gz': '0.3pop-fewerbikes',\n",
    "#     'gs://beam-core-outputs/output/sfbay/sfbay-pilates-base__2023-06-11_01-23-11_avr/ITERS/it.0/0.events.csv.gz': '0.3pop-morebikes',\n",
    "#     'gs://beam-core-outputs/output/sfbay/sfbay-pilates-base__2023-06-11_07-19-25_ioy/ITERS/it.0/0.events.csv.gz': '0.3pop-nocar400',\n",
    "#     'gs://beam-core-outputs/output/sfbay/sfbay-pilates-base__2023-06-11_07-19-25_xiw/ITERS/it.0/0.events.csv.gz': '0.3pop-nocar1600',\n",
    "#     'gs://beam-core-outputs/output/sfbay/sfbay-pilates-base__2023-06-11_07-44-20_wkt/ITERS/it.0/0.events.csv.gz': '0.3pop-cheaperbikes',\n",
    "#     'gs://beam-core-outputs/output/sfbay/sfbay-pilates-base__2023-06-11_07-58-25_dst/ITERS/it.0/0.events.csv.gz': '0.3pop-nosharedbikes',\n",
    "#     'gs://beam-core-outputs/output/sfbay/sfbay-pilates-base__2023-06-11_07-50-06_dta/ITERS/it.0/0.events.csv.gz': '0.3pop-freebikes',\n",
    "#     'gs://beam-core-outputs/output/sfbay/sfbay-pilates-base__2023-06-11_01-36-53_pkp/ITERS/it.0/0.events.csv.gz': '0.3pop-twicebikes',\n",
    "#     'gs://beam-core-outputs/output/sfbay/sfbay-pilates-base__2023-06-11_02-42-45_unm/ITERS/it.0/0.events.csv.gz': '0.3pop-twicebikes-nocar400',\n",
    "#     'gs://beam-core-outputs/output/sfbay/sfbay-pilates-base__2023-06-11_08-08-48_htd/ITERS/it.0/0.events.csv.gz': '0.3pop-twicebikes-nocar1600',\n",
    "        \n",
    "\n",
    "    # 'gs://beam-core-outputs/output/sfbay/sfbay-pilates-base__2023-07-12_05-21-47_yib/ITERS/it.0/0.events.csv.gz': '0.1pop-neweline',\n",
    "\n",
    "\n",
    "#     'gs://beam-core-outputs/output/sfbay/sfbay-pilates-base__2023-06-11_17-14-51_fdd/ITERS/it.0/0.events.csv.gz': '0.1pop-baseline',\n",
    "#     'gs://beam-core-outputs/output/sfbay/sfbay-pilates-base__2023-06-11_17-14-40_xaa/ITERS/it.0/0.events.csv.gz': '0.1pop-fewerdocks',\n",
    "#     'gs://beam-core-outputs/output/sfbay/sfbay-pilates-base__2023-06-11_17-14-39_wfo/ITERS/it.0/0.events.csv.gz': '0.1pop-moredocks',\n",
    "#     'gs://beam-core-outputs/output/sfbay/sfbay-pilates-base__2023-06-11_17-14-52_kok/ITERS/it.0/0.events.csv.gz': '0.1pop-fewerbikes',\n",
    "#     'gs://beam-core-outputs/output/sfbay/sfbay-pilates-base__2023-06-11_17-14-52_gvj/ITERS/it.0/0.events.csv.gz': '0.1pop-morebikes',\n",
    "#     'gs://beam-core-outputs/output/sfbay/sfbay-pilates-base__2023-06-05_04-21-06_quo/ITERS/it.0/0.events.csv.gz': '0.1pop-nocar400',\n",
    "#     'gs://beam-core-outputs/output/sfbay/sfbay-pilates-base__2023-06-05_04-21-45_iev/ITERS/it.0/0.events.csv.gz': '0.1pop-nocar1600',\n",
    "#     'gs://beam-core-outputs/output/sfbay/sfbay-pilates-base__2023-06-05_06-15-59_hov/ITERS/it.0/0.events.csv.gz': '0.1pop-cheaperbikes',\n",
    "#     'gs://beam-core-outputs/output/sfbay/sfbay-pilates-base__2023-06-11_23-12-58_mii/ITERS/it.0/0.events.csv.gz': '0.1pop-noshared',\n",
    "#     'gs://beam-core-outputs/output/sfbay/sfbay-pilates-base__2023-06-05_06-39-27_kjk/ITERS/it.0/0.events.csv.gz': '0.1pop-freebikes',\n",
    "#     'gs://beam-core-outputs/output/sfbay/sfbay-pilates-base__2023-06-11_17-14-54_mkb/ITERS/it.0/0.events.csv.gz': '0.1pop-twicebikes',\n",
    "#     'gs://beam-core-outputs/output/sfbay/sfbay-pilates-base__2023-06-05_06-39-50_iqq/ITERS/it.0/0.events.csv.gz': '0.1pop-twicebikes-nocar400',\n",
    "#     'gs://beam-core-outputs/output/sfbay/sfbay-pilates-base__2023-06-05_06-39-27_urc/ITERS/it.0/0.events.csv.gz': '0.1pop-twicebikes-nocar1600',\n",
    "    \n",
    "        # 'gs://beam-core-outputs/output/sfbay/sfbay-pilates-base__2023-06-30_14-55-00_qsk/ITERS/it.0/0.events.csv.gz': '0.1pop-baseline-highBaseCost',\n",
    "\n",
    "    # 'gs://beam-core-outputs/output/sfbay/sfbay-pilates-base__2023-07-16_02-25-59_jqi/ITERS/it.0/0.events.csv.gz': '0.3pop-baseline',\n",
    "    # 'gs://beam-core-outputs/output/sfbay/sfbay-pilates-base__2023-07-16_02-27-49_znc/ITERS/it.0/0.events.csv.gz': '0.3pop-fewerdocks',\n",
    "    # 'gs://beam-core-outputs/output/sfbay/sfbay-pilates-base__2023-07-16_02-29-11_ybc/ITERS/it.0/0.events.csv.gz': '0.3pop-moredocks',\n",
    "    # 'gs://beam-core-outputs/output/sfbay/sfbay-pilates-base__2023-07-16_21-01-43_vnv/ITERS/it.0/0.events.csv.gz': '0.3pop-fewerbikes',\n",
    "    # 'gs://beam-core-outputs/output/sfbay/sfbay-pilates-base__2023-07-16_08-13-08_rmx/ITERS/it.0/0.events.csv.gz': '0.3pop-morebikes',\n",
    "    # 'gs://beam-core-outputs/output/sfbay/sfbay-pilates-base__2023-07-16_08-57-44_qlv/ITERS/it.0/0.events.csv.gz': '0.3pop-nocar400',\n",
    "    # 'gs://beam-core-outputs/output/sfbay/sfbay-pilates-base__2023-07-16_02-29-41_jwh/ITERS/it.0/0.events.csv.gz': '0.3pop-nocar1600',\n",
    "    # 'gs://beam-core-outputs/output/sfbay/sfbay-pilates-base__2023-07-16_14-44-12_hwy/ITERS/it.0/0.events.csv.gz': '0.3pop-cheaperbikes',\n",
    "    # 'gs://beam-core-outputs/output/sfbay/sfbay-pilates-base__2023-07-16_07-45-36_aep/ITERS/it.0/0.events.csv.gz': '0.3pop-noshared',\n",
    "    # 'gs://beam-core-outputs/output/sfbay/sfbay-pilates-base__2023-07-16_21-09-07_xhl/ITERS/it.0/0.events.csv.gz': '0.3pop-freebikes',\n",
    "    # 'gs://beam-core-outputs/output/sfbay/sfbay-pilates-base__2023-07-16_08-46-59_nmr/ITERS/it.0/0.events.csv.gz': '0.3pop-twicebikes',\n",
    "    # 'gs://beam-core-outputs/output/sfbay/sfbay-pilates-base__2023-07-16_15-23-32_bmh/ITERS/it.0/0.events.csv.gz': '0.3pop-twicebikes-nocar400',\n",
    "    # 'gs://beam-core-outputs/output/sfbay/sfbay-pilates-base__2023-07-16_15-23-42_omr/ITERS/it.0/0.events.csv.gz': '0.3pop-twicebikes-nocar1600',\n",
    "\n",
    "        # 'gs://beam-core-outputs/pilates-outputs/sfbay-rh_detour_0.0-20220618/beam/year-2018-iteration-5/ITERS/it.0/sfbay-rh_detour_0.0-20220618/beam/year-2018-iteration-5/ITERS/it.0/0.events.csv.gz': 'DT0_0',\n",
    "        # 'gs://beam-core-outputs/pilates-outputs/sfbay-rh_detour_0.5-20220618/beam/year-2018-iteration-5/ITERS/it.0/sfbay-rh_detour_0.5-20220618/beam/year-2018-iteration-5/ITERS/it.0/0.events.csv.gz': 'DT0_5',\n",
    "        # 'gs://beam-core-outputs/pilates-outputs/sfbay-rh_detour_0.75-20220618/beam/year-2018-iteration-5/ITERS/it.0/sfbay-rh_detour_0.75-20220618/beam/year-2018-iteration-5/ITERS/it.0/0.events.csv.gz': 'DT0_75',\n",
    "        # 'gs://beam-core-outputs/pilates-outputs/sfbay-rh_detour_1.5-20220618/beam/year-2018-iteration-5/ITERS/it.0/sfbay-rh_detour_1.5-20220618/beam/year-2018-iteration-5/ITERS/it.0/0.events.csv.gz': 'DT1_5',\n",
    "        # 'gs://beam-core-outputs/pilates-outputs/sfbay-rh_repo_0.0-20220613/sfbay-rh_repo_0.0-20220613/beam/year-2018-iteration-5/ITERS/it.0/0.events.csv.gz': 'RP0_0',\n",
    "        # 'gs://beam-core-outputs/pilates-outputs/sfbay-rh_repo_0.5-20220613/sfbay-rh_repo_0.5-20220613/beam/year-2018-iteration-5/ITERS/it.0/0.events.csv.gz': 'RP0_5',\n",
    "        # 'gs://beam-core-outputs/pilates-outputs/sfbay-rh_repo_1.5-20220613/beam/year-2018-iteration-5/ITERS/it.0/sfbay-rh_repo_1.5-20220613/beam/year-2018-iteration-5/ITERS/it.0/0.events.csv.gz': 'RP1_5',\n",
    "        # 'gs://beam-core-outputs/pilates-outputs/sfbay-rh_repo_3.0-20220613/beam/year-2018-iteration-5/ITERS/it.0/sfbay-rh_repo_3.0-20220613/beam/year-2018-iteration-5/ITERS/it.0/0.events.csv.gz': 'RP3_0',\n",
    "        # 'gs://beam-core-outputs/pilates-outputs/sfbay-rh_wt_0.2-20220617/beam/year-2018-iteration-5/ITERS/it.0/sfbay-rh_wt_0.2-20220617/beam/year-2018-iteration-5/ITERS/it.0/0.events.csv.gz': 'WT0_2',\n",
    "        # 'gs://beam-core-outputs/pilates-outputs/sfbay-rh_wt_0.5-20220617/beam/year-2018-iteration-5/ITERS/it.0/sfbay-rh_wt_0.5-20220617/beam/year-2018-iteration-5/ITERS/it.0/0.events.csv.gz': 'WT0_5',\n",
    "        # 'gs://beam-core-outputs/pilates-outputs/sfbay-rh_wt_0.8-20220617/beam/year-2018-iteration-5/ITERS/it.0/sfbay-rh_wt_0.8-20220617/beam/year-2018-iteration-5/ITERS/it.0/0.events.csv.gz': 'WT0_8',\n",
    "        # 'gs://beam-core-outputs/pilates-outputs/sfbay-rh_wt_1.6-20220617/beam/year-2018-iteration-5/ITERS/it.0/sfbay-rh_wt_1.6-20220617/beam/year-2018-iteration-5/ITERS/it.0/0.events.csv.gz': 'WT1_6',\n",
    "       \n",
    "        'gs://beam-core-outputs/sfbay-baseline2018-30pct-20230825/beam/year-2018-iteration-10/ITERS/it.0/0.events.csv.gz': 'Baseline',\n",
    "        'gs://beam-core-outputs/sfbay-tr-30pct-20231014/beam/year-2018-iteration-10/ITERS/it.0/0.events.csv.gz': 'TR',\n",
    "        'gs://beam-core-outputs/sfbay-tr-BARTBSV-30pct-20230825/beam/year-2018-iteration-10/ITERS/it.0/0.events.csv.gz': 'TR-BART',\n",
    "        'gs://beam-core-outputs/sfbay-tr-BARTBSVI-30pct-20230828/beam/year-2018-iteration-10/ITERS/it.0/0.events.csv.gz': 'TR-BSVI',\n",
    "        'gs://beam-core-outputs/sfbay-tr-BARTBSVII-30pct-20230828/beam/year-2018-iteration-10/ITERS/it.0/0.events.csv.gz': 'TR-BSVII',\n",
    "        'gs://beam-core-outputs/sfbay-tr-BARTCORE-30pct-20230828/beam/year-2018-iteration-10/ITERS/it.0/0.events.csv.gz': 'TR-CORE',\n",
    "        'gs://beam-core-outputs/sfbay-tr-TempoBRT-30pct-20230825/beam/year-2018-iteration-10/ITERS/it.0/0.events.csv.gz': 'TR-1T',\n",
    "        'gs://beam-core-outputs/sfbay-tr-CAElectrification-30pct-20230828/beam/year-2018-iteration-10/ITERS/it.0/0.events.csv.gz': 'TR-EL',\n",
    "        'gs://beam-core-outputs/sfbay-tr-SF_CS-30pct-20231014/beam/year-2018-iteration-10/ITERS/it.0/0.events.csv.gz': 'TR-CS',\n",
    "        'gs://beam-core-outputs/sfbay-tr-SF_VN-30pct-20231014/beam/year-2018-iteration-10/ITERS/it.0/0.events.csv.gz': 'TR-VN',\n",
    "\n",
    "\n",
    "    }\n",
    "    data_names = data.keys()\n",
    "    plan_names = []\n",
    "    for data_name in data_names:\n",
    "        plan_names.append(data_name[:-13]+'plans.csv.gz')\n",
    "\n",
    "    names = data.values()\n",
    "\n",
    "##########################################GOOGLE CLOUD#############################################################################\n",
    "# fp = \"\"\n",
    "# output_nm = 'SummaryTable_Pilates_GoogleCloud2.csv'\n",
    "# len_id_transit = 3\n",
    "# fp_res = 'outputs/'\n",
    "# is_NYC = False\n",
    "# is_LT = False\n",
    "# is_WC = True\n",
    "# is_GEO = False\n",
    "# is_collect_data = False\n",
    "# is_plot = False\n",
    "\n",
    "# data = {               's3://beam-outputs/pilates-outputs/sfbay-base-20220409/beam/year-2018-iteration-5/ITERS/it.0/0.events.csv.gz':'Baseline/year-2018-iteration-5',\n",
    "#                 'gs://beam-core-outputs/sfbay-2010-base-20220810/beam/year-2011-iteration-3/ITERS/it.0/0.events.csv.gz':'Baseline - google cloud - year 2011 iter 3',\n",
    "#                 'gs://beam-core-outputs/fbay-2010-TR-20220810/beam/year-2011-iteration-3/ITERS/it.0/0.events.csv.gz':'TR - google cloud - year 2010 iter 3',\n",
    "\n",
    "#                 }\n",
    "# data_names = data.keys()\n",
    "# plan_names = []\n",
    "# for data_name in data_names:\n",
    "#     plan_names.append(data_name[:-13]+'plans.csv.gz')\n",
    "\n",
    "# names = data.values()\n",
    "\n",
    "#######################################################################################################################\n",
    "# Transi Rich Scenarios\n",
    "#######################################################################################################################\n",
    "# fp = \"\"\n",
    "# output_nm = 'SummaryTable_Pilates_TR.csv'\n",
    "# len_id_transit = 3\n",
    "# fp_res = 'outputs/'\n",
    "# is_NYC = False\n",
    "# is_WC = False\n",
    "# is_LT = False\n",
    "# is_GEO = False\n",
    "# is_collect_data = True\n",
    "# is_plot = False\n",
    "\n",
    "# data = {\n",
    "                # 's3://beam-outputs/pilates-outputs/sfbay-baseline-20220816/beam/year-2018-iteration-5/ITERS/it.0/0.events.csv.gz':'Baseline 2018',\n",
    "                # 's3://beam-outputs/pilates-outputs/sfbay-TR-20220812/beam/year-2018-iteration-5/ITERS/it.0/0.events.csv.gz':'Future 2018',\n",
    "                #     's3://beam-outputs/pilates-outputs/sfbay-baseline-20220816/beam/year-2019-iteration-5/ITERS/it.0/0.events.csv.gz':'Baseline 2019',\n",
    "                # 's3://beam-outputs/pilates-outputs/sfbay-TR-20220812/beam/year-2019-iteration-5/ITERS/it.0/0.events.csv.gz':'Future 2019',\n",
    "                #     's3://beam-outputs/pilates-outputs/sfbay-baseline-20220816/beam/year-2020-iteration-5/ITERS/it.0/0.events.csv.gz':'Baseline 2020',\n",
    "                # 's3://beam-outputs/pilates-outputs/sfbay-TR-20220812/beam/year-2020-iteration-5/ITERS/it.0/0.events.csv.gz':'Future 2020',\n",
    "#                     's3://beam-outputs/pilates-outputs/sfbay-baseline-20220816/beam/year-2021-iteration-5/ITERS/it.0/0.events.csv.gz':'Baseline 2021',\n",
    "#                 's3://beam-outputs/pilates-outputs/sfbay-TR-20220812/beam/year-2021-iteration-5/ITERS/it.0/0.events.csv.gz':'Future 2021',\n",
    "#             \n",
    "    # 's3://beam-outputs/pilates-outputs/sfbay_baseline_20230224/beam/year-2018-iteration-1/ITERS/it.0/0.events.csv.gz':'BS 2018-1',\n",
    "    # 's3://beam-outputs/pilates-outputs/sfbay_baseline_TR_20230224/beam/year-2018-iteration-1/ITERS/it.0/0.events.csv.gz':'TR 2018-1',\n",
    "    # 's3://beam-outputs/pilates-outputs/sfbay_baseline_20230224/beam/year-2018-iteration-2/ITERS/it.0/0.events.csv.gz':'BS 2018-2',\n",
    "    # 's3://beam-outputs/pilates-outputs/sfbay_baseline_TR_20230224/beam/year-2018-iteration-2/ITERS/it.0/0.events.csv.gz':'TR 2018-2',\n",
    "    # 's3://beam-outputs/pilates-outputs/sfbay_baseline_20230224/beam/year-2018-iteration-3/ITERS/it.0/0.events.csv.gz':'BS 2018-3',\n",
    "    # 's3://beam-outputs/pilates-outputs/sfbay_baseline_TR_20230224/beam/year-2018-iteration-3/ITERS/it.0/0.events.csv.gz':'TR 2018-3',\n",
    "    # 's3://beam-outputs/pilates-outputs/sfbay_baseline_20230224/beam/year-2018-iteration-4/ITERS/it.0/0.events.csv.gz':'BS 2018-4',\n",
    "    # 's3://beam-outputs/pilates-outputs/sfbay_baseline_TR_20230224/beam/year-2018-iteration-4/ITERS/it.0/0.events.csv.gz':'TR 2018-4',\n",
    "    # 's3://beam-outputs/pilates-outputs/sfbay_baseline_20230224/beam/year-2018-iteration-5/ITERS/it.0/0.events.csv.gz':'BS 2018-5',\n",
    "    # 's3://beam-outputs/pilates-outputs/sfbay_baseline_TR_20230224/beam/year-2018-iteration-5/ITERS/it.0/0.events.csv.gz':'TR 2018-5',\n",
    "    # 's3://beam-outputs/pilates-outputs/sfbay_baseline_20230224/beam/year-2018-iteration-6/ITERS/it.0/0.events.csv.gz':'BS 2018-6',\n",
    "    # 's3://beam-outputs/pilates-outputs/sfbay_baseline_TR_20230224/beam/year-2018-iteration-6/ITERS/it.0/0.events.csv.gz':'TR 2018-6',\n",
    "        \n",
    "    # 's3://beam-outputs/pilates-outputs/sfbay_baseline_20230224/beam/year-2019-iteration-1/ITERS/it.0/0.events.csv.gz':'BS 2019-1',\n",
    "    # 's3://beam-outputs/pilates-outputs/sfbay_baseline_TR_20230224/beam/year-2019-iteration-1/ITERS/it.0/0.events.csv.gz':'TR 2019-1',\n",
    "    # 's3://beam-outputs/pilates-outputs/sfbay_baseline_20230224/beam/year-2019-iteration-2/ITERS/it.0/0.events.csv.gz':'BS 2019-2',\n",
    "    # 's3://beam-outputs/pilates-outputs/sfbay_baseline_TR_20230224/beam/year-2019-iteration-2/ITERS/it.0/0.events.csv.gz':'TR 2019-2',\n",
    "    # 's3://beam-outputs/pilates-outputs/sfbay_baseline_20230224/beam/year-2019-iteration-3/ITERS/it.0/0.events.csv.gz':'BS 2019-3',\n",
    "    # 's3://beam-outputs/pilates-outputs/sfbay_baseline_TR_20230224/beam/year-2019-iteration-3/ITERS/it.0/0.events.csv.gz':'TR 2019-3',\n",
    "    # 's3://beam-outputs/pilates-outputs/sfbay_baseline_20230224/beam/year-2019-iteration-4/ITERS/it.0/0.events.csv.gz':'BS 2019-4',\n",
    "    # 's3://beam-outputs/pilates-outputs/sfbay_baseline_TR_20230224/beam/year-2019-iteration-4/ITERS/it.0/0.events.csv.gz':'TR 2019-4',\n",
    "    # 's3://beam-outputs/pilates-outputs/sfbay_baseline_20230224/beam/year-2019-iteration-5/ITERS/it.0/0.events.csv.gz':'BS 2019-5',\n",
    "    # 's3://beam-outputs/pilates-outputs/sfbay_baseline_TR_20230224/beam/year-2019-iteration-5/ITERS/it.0/0.events.csv.gz':'TR 2019-5',\n",
    "#     's3://beam-outputs/pilates-outputs/sfbay_baseline_20230224/beam/year-2019-iteration-6/ITERS/it.0/0.events.csv.gz':'BS 2019-6',\n",
    "#     's3://beam-outputs/pilates-outputs/sfbay_baseline_TR_20230224/beam/year-2019-iteration-6/ITERS/it.0/0.events.csv.gz':'TR 2019-6',\n",
    "        \n",
    "# }\n",
    "                    \n",
    "# data_names = data.keys()\n",
    "# plan_names = []\n",
    "# for data_name in data_names:\n",
    "#     plan_names.append(data_name[:-13]+'plans.csv.gz')\n",
    "\n",
    "# names = data.values()\n",
    "#######################################################################################################################\n",
    "\n",
    "if is_GEO:\n",
    "    BGs = gpd.read_file('inputs/641aa0d4-ce5b-4a81-9c30-8790c4ab8cfb202047-1-wkkklf.j5ouj.shp')\n",
    "\n",
    "\n",
    "# Nomenclature\n",
    "\n",
    "# mode share per distance\n",
    "binnames = {1: \"0-1\", 2: \"1-2\", 3: \"2-5\", 4: \"5-15\", 5: \"15+\"}\n",
    "distanceBinsMiles = np.array([0, 1, 2, 5, 15, 500])\n",
    "    \n",
    "PTsColumns = [\n",
    "    'vehicle','time','type','mode','length','vehicleType','arrivalTime','departureTime',\n",
    "        'capacity','secondaryFuel','primaryFuelType','secondaryFuelType','numPassengers','primaryFuel', 'startX', 'startY', 'endX', 'endY'\n",
    "        ]\n",
    "if is_LT:\n",
    "    PTsColumns.append('links')\n",
    "    \n",
    "MCsColumns = ['person','time','type','mode','length', 'legModes']\n",
    "MCsColumns_no_leg_modes = ['person','time','type','mode','length']\n",
    "\n",
    "\n",
    "summaryTable = pd.DataFrame()\n",
    "\n",
    "PTsModes = np.array(['walk','bike','bike_Sharing','bike_Sharing_empty','car','car_emer','car_hov2_emer','car_hov3_emer','car_RideHail','car_RideHail_empty','car_RideHail_WC','car_RideHail_WC_empty',\n",
    "                               'car_CAV','car_hov2','car_hov3','bus','tram','rail','subway',\n",
    "                               'cable_car','ferry','bus_empty','tram_empty','rail_empty',\n",
    "                               'subway_empty','cable_car_empty','ferry_empty'])\n",
    "\n",
    "PTsModesNames = ['Walk','Bike','Bike Sharing','Empty Bike Sharing','Car','Car Emergency','Car HOV2 Emergency','Car HOV3 Emergency','Ride Hail','Empty Ride Hail','Ride Hail WC','Empty Ride Hail WC',\n",
    "                           'CAV','Car HOV2','Car HOV3','Bus','Tram','Rail','Subway',\n",
    "                           'Cable Car','Ferry','Empty Bus','Empty Tram','Empty Rail',\n",
    "                           'Empty Subway','Empty Cable Car','Empty Ferry',]\n",
    "\n",
    "transit_modes = ['bus', 'subway', 'tram', 'rail','cable_car', 'ferry']\n",
    "\n",
    "transit_MCmodes = ['bus', 'subway', 'tram', 'rail', 'walk_transit', 'ride_hail_transit',\n",
    "                            'drive_transit', 'cable_car','bike_transit']\n",
    "\n",
    "MCsModes = np.array([ 'bus', 'subway', 'tram', 'rail', 'car', 'hov3_teleportation', \n",
    "                            'bike', 'hov2_teleportation', 'walk', 'car_hov2', 'car_hov3', \n",
    "                            'walk_transit', 'ride_hail', 'ride_hail_transit', 'ride_hail_pooled', \n",
    "                            'drive_transit', 'cable_car','bike_transit'])\n",
    "\n",
    "MCsModesNames = [ 'Bus', 'Subway', 'Tram', 'Rail', 'Car', 'HOV3 Passenger', 'Bike', \n",
    "                   'HOV2 Passenger', 'Walk', 'HOV2 Driver', 'HOV3 Driver', \n",
    "                   'Walk-Transit', 'Ride Hail', 'Ride Hail-Transit', 'Ride Hail Pooled', \n",
    "                   'Drive-Transit', 'Cable Car', 'Bike-Transit']\n",
    "\n",
    "primaryFuelTypes =['Biodiesel','Diesel','Gasoline','Electricity','Food']\n",
    "\n",
    "CtV = {0:'SUM',\n",
    "      1:'AV',\n",
    "      2:'VAR',\n",
    "      3:'STD',\n",
    "      4:'MIN',\n",
    "      5:'Q1ST',\n",
    "      6:'Q2ND',\n",
    "      7:'Q3RD',\n",
    "      8:'MAX',\n",
    "      }\n",
    "\n",
    "route_e_correction_cv = 1.1660\n",
    "route_e_correction_hev = 1.1252\n",
    "route_e_correction_ev = 1.3958\n",
    "\n",
    "\n",
    "# Regions: {'SF': [,,,,],\n",
    "#           'Cordon':[,,,,]}"
   ]
  },
  {
   "cell_type": "code",
   "execution_count": 7,
   "id": "44dfae1d",
   "metadata": {},
   "outputs": [
    {
     "name": "stdout",
     "output_type": "stream",
     "text": [
      "Start time 1697325266.884139 s\n"
     ]
    }
   ],
   "source": [
    "start = time.time()\n",
    "print('Start time',start, 's')"
   ]
  },
  {
   "cell_type": "code",
   "execution_count": 8,
   "id": "fafde5b8-dd2c-4ad1-9d7a-091918524d6d",
   "metadata": {},
   "outputs": [],
   "source": [
    "# def filter_by_region(region_filter, MCs, PTs, PEVs, PLVs, RPs, trips, PtoPTss):\n",
    "    \n",
    "    \n",
    "    \n",
    "    "
   ]
  },
  {
   "cell_type": "code",
   "execution_count": 9,
   "id": "102925ce",
   "metadata": {
    "tags": []
   },
   "outputs": [],
   "source": [
    "def DA(data, code):\n",
    "    \n",
    "    #data is a list of values\n",
    "    #code - operation\n",
    "    #0 - Sum\n",
    "    #1 - Mean\n",
    "    #2 - Var\n",
    "    #3 - Std error\n",
    "    #4 - Min\n",
    "    #5 - Q1\n",
    "    #6 - Q2\n",
    "    #7 - Q3\n",
    "    #8 - Max\n",
    "    if len(data)>0:\n",
    "        if code == 0:\n",
    "            value = np.sum(data)\n",
    "        elif code == 1:\n",
    "            value = np.mean(data)\n",
    "        elif code == 2:\n",
    "            value = np.var(data)\n",
    "        elif code == 3:\n",
    "            value = np.std(data)\n",
    "        elif code == 4:\n",
    "            value = np.min(data)\n",
    "        elif code == 5:\n",
    "            value = np.percentile(data, 25)\n",
    "        elif code == 6:\n",
    "            value = np.percentile(data, 50)\n",
    "        elif code == 7:\n",
    "            value = np.percentile(data, 75)\n",
    "        elif code == 8:\n",
    "            value = np.max(data)\n",
    "    else:\n",
    "        value = np.nan\n",
    "\n",
    "        \n",
    "    return value"
   ]
  },
  {
   "cell_type": "code",
   "execution_count": 10,
   "id": "fc1c7479-d2cf-4513-8b93-c586581ed12b",
   "metadata": {
    "tags": []
   },
   "outputs": [],
   "source": [
    "def personToPathTraversal(PTs, PEVs, PLVs, personToTripDeparture):\n",
    "    print('personToPathTraversal...')\n",
    "    no_legs_after_time_check = []\n",
    "    no_legs = []\n",
    "    start = time.time()\n",
    "    for pt_mode in PTs['mode'].value_counts().keys():\n",
    "        if pt_mode == 'car_hov2':\n",
    "            print('expected PtoPTs from occupancy ',pt_mode,  int(np.sum(PTs[PTs['mode']==pt_mode]['occupancy']))/2)\n",
    "        elif pt_mode == 'car_hov3':\n",
    "            print('expected PtoPTs from occupancy ',pt_mode,  int(np.sum(PTs[PTs['mode']==pt_mode]['occupancy']))/3)\n",
    "        else:\n",
    "            print('expected PtoPTs from occupancy ',pt_mode,  int(np.sum(PTs[PTs['mode']==pt_mode]['occupancy'])))\n",
    "\n",
    "    print('expected PtoPTs from occupancy TOT = ', (np.sum(PTs['occupancy'])-\n",
    "          np.sum(PTs[PTs['mode']=='car_hov2']['occupancy'])/2-\n",
    "          np.sum(PTs[PTs['mode']=='car_hov3']['occupancy'])/3*2)\n",
    "         )\n",
    "    print('len of PEV = ', len(PEVs))\n",
    "    print('len of PLV = ', len(PLVs))\n",
    "\n",
    "    vehicleToPT = PTs.groupby('vehicle').apply(lambda x: list(x.index)).apply(\n",
    "        lambda x: {y: [] for y in x}).to_dict()\n",
    "    PEVlookup = PEVs[['person', 'vehicle', 'time']].value_counts().to_dict()\n",
    "    PLVlookup = PLVs.groupby(['person', 'vehicle']).apply(lambda x: list(x.time)).to_dict()\n",
    "\n",
    "    for key, counts in PEVlookup.items():\n",
    "        person = key[0]\n",
    "        vehicle = key[1]\n",
    "        departureTime = key[2]\n",
    "        n_new_leg = 0\n",
    "        if vehicle in vehicleToPT:\n",
    "            legs = vehicleToPT[vehicle]\n",
    "            if (person, vehicle) in PLVlookup:\n",
    "                if person in personToTripDeparture:\n",
    "                    planTrips = personToTripDeparture[person]\n",
    "                    tripsLeavingBeforeDeparture = [-1] + [t['planID'] for t in planTrips if\n",
    "                                                          t['departureTime'] <= (departureTime+1)]\n",
    "                                                                                     #+ 1800)]\n",
    "                else:\n",
    "                    tripsLeavingBeforeDeparture = [-1]\n",
    "                    print('no person',person, 'on personToTripDeparture...','vehicle',vehicle,'departureTime',departureTime,'personToTripDeparture',personToTripDeparture[person])\n",
    "\n",
    "                lastTripBeforeDeparture = tripsLeavingBeforeDeparture[-1]\n",
    "                if lastTripBeforeDeparture == -1:\n",
    "                    print('hmm...if person on personToTripDeparture, no plans starting before departure')\n",
    "                \n",
    "                endTimes = PLVlookup[(person, vehicle)]\n",
    "                plvsAfterDeparture = [t for t in endTimes if t > departureTime]\n",
    "                if len(plvsAfterDeparture) > 0:\n",
    "                    firstPLVafterDeparture = plvsAfterDeparture[0]\n",
    "                    n_new_leg = 0\n",
    "                    for leg in legs.keys():\n",
    "                        ptDepartureTime = PTs.at[leg, 'departureTime']\n",
    "                        if (ptDepartureTime >= departureTime) & (ptDepartureTime < firstPLVafterDeparture):\n",
    "                            n_new_leg +=1\n",
    "                            legs[leg].append((person, lastTripBeforeDeparture))\n",
    "                            \n",
    "                else:\n",
    "                    for leg in legs.keys():\n",
    "                        n_new_leg = 0\n",
    "                        ptDepartureTime = PTs.at[leg, 'departureTime']\n",
    "                        if ptDepartureTime >= departureTime:\n",
    "                            n_new_leg +=1\n",
    "                            legs[leg].append((person, lastTripBeforeDeparture))\n",
    "            else:\n",
    "\n",
    "                if person in personToTripDeparture:\n",
    "                    planTrips = personToTripDeparture[person]\n",
    "                    tripsLeavingBeforeDeparture = [-1] + [t['planID'] for t in planTrips if\n",
    "                                                          t['departureTime'] <= (departureTime+1)]\n",
    "                                                                                     #+ 1800)]\n",
    "                else:\n",
    "                    tripsLeavingBeforeDeparture = [-1]\n",
    "                    print('no person',person, 'on personToTripDeparture...','vehicle',vehicle,'departureTime',departureTime,'personToTripDeparture',personToTripDeparture[person])\n",
    "\n",
    "                lastTripBeforeDeparture = tripsLeavingBeforeDeparture[-1]\n",
    "                if lastTripBeforeDeparture == -1:\n",
    "                    print('hmm...if person on personToTripDeparture, no plans starting before departure')\n",
    "                n_new_leg = 0\n",
    "                for leg in legs.keys():\n",
    "                    ptDepartureTime = PTs.at[leg, 'departureTime']\n",
    "                    if ptDepartureTime >= departureTime:\n",
    "                        n_new_leg +=1\n",
    "                        legs[leg].append((person, lastTripBeforeDeparture))\n",
    "            if n_new_leg == 0:\n",
    "                no_legs_after_time_check.append(vehicle)\n",
    "#                 print(\"Warning: no vehicle legs (after time check) for person, vehicle, depTime\", person, vehicle, departureTime)\n",
    "        else:\n",
    "                no_legs.append(vehicle)\n",
    "#             print(\"Warning: no vehicle legs for person, vehicle, depTime\", person, vehicle, departureTime)\n",
    "\n",
    "    PtoPTssList = [(veh, pathTraversalID, passenger, planIndex) for veh, vehicleLegs in\n",
    "                                vehicleToPT.items() for pathTraversalID, passengers in vehicleLegs.items() for\n",
    "                                (passenger, planIndex) in passengers if len(passengers) > 0]\n",
    "    PtoPTss = pd.MultiIndex.from_tuples(PtoPTssList,\n",
    "                                                     name=['vehicleID', 'pathTraversalID', 'personID',\n",
    "                                                           'planIndex']).to_frame()\n",
    "    modes_PtoPTss = []\n",
    "    lengths_PtoPTss = []\n",
    "    durations_PtoPTss = []\n",
    "    prim_fuel_type_PtoPTss = []\n",
    "    prim_fuel_PtoPTss = []\n",
    "    sec_fuel_PtoPTss = []\n",
    "    \n",
    "    if is_GEO:\n",
    "        blocks_start = []\n",
    "        blocks_end = []\n",
    "    if is_LT:\n",
    "        links_PtoPTss = []\n",
    "        depTime_PtoPTss = []\n",
    "        arrTime_PtoPTss = []\n",
    "        # print('len PtoPTss before remove nan in links', len(PtoPTss))\n",
    "        # PtoPTss.dropna(subset=['links'])\n",
    "        # print('len PtoPTss after remove nan in links', len(PtoPTss))\n",
    "    for pt_id in PtoPTss['pathTraversalID']:\n",
    "        modes_PtoPTss.append(PTs.at[pt_id,'mode'])\n",
    "        lengths_PtoPTss.append(PTs.at[pt_id,'length'])\n",
    "        durations_PtoPTss.append(PTs.at[pt_id,'duration'])\n",
    "        prim_fuel_type_PtoPTss.append(PTs.at[pt_id,'primaryFuelType'])\n",
    "        prim_fuel_PtoPTss.append(PTs.at[pt_id,'primaryFuel'])\n",
    "        sec_fuel_PtoPTss.append(PTs.at[pt_id,'secondaryFuel'])\n",
    "        if is_GEO:\n",
    "            blocks_start.append(PTs.at[pt_id,'startBlockGroup'])\n",
    "            blocks_end.append(PTs.at[pt_id,'endBlockGroup'])\n",
    "        if is_LT:\n",
    "            depTime_PtoPTss.append(PTs.at[pt_id,'departureTime'])\n",
    "            arrTime_PtoPTss.append(PTs.at[pt_id,'arrivalTime'])\n",
    "            links_PtoPTss.append(PTs.at[pt_id,'links'])\n",
    "\n",
    "    PtoPTss['mode'] = modes_PtoPTss\n",
    "    PtoPTss['length'] = lengths_PtoPTss\n",
    "    PtoPTss['duration'] = durations_PtoPTss\n",
    "    PtoPTss['primaryFuelType'] = prim_fuel_type_PtoPTss\n",
    "    PtoPTss['primaryFuel'] = prim_fuel_PtoPTss\n",
    "    PtoPTss['secondaryFuel'] = sec_fuel_PtoPTss\n",
    "    \n",
    "    if is_GEO:\n",
    "        PtoPTss['startBlockGroup'] = blocks_start\n",
    "        PtoPTss['endBlockGroup'] = blocks_end\n",
    "\n",
    "    if is_LT:\n",
    "        PtoPTss['links'] = links_PtoPTss\n",
    "        PtoPTss['arrivalTime'] = depTime_PtoPTss\n",
    "        PtoPTss['departureTime'] = arrTime_PtoPTss\n",
    "\n",
    "    vehicles_2 = []\n",
    "    for pt_id in PtoPTss['pathTraversalID']:\n",
    "        vehicles_2.append(PTs.at[pt_id,'vehicle'][:len_id_transit])\n",
    "    vehicles_2 = np.array(vehicles_2)\n",
    "    PtoPTss['vehicle2'] = vehicles_2\n",
    "    \n",
    "    modes,counts = np.unique(modes_PtoPTss, return_counts = True)\n",
    "    for mode, count in zip(modes, counts):\n",
    "        print('len PtoPTs after matching agents and vehicles',mode,count)\n",
    "        \n",
    "        \n",
    "    print('no legs found:', len(no_legs))\n",
    "    print('no legs found after time check:', len(no_legs_after_time_check))\n",
    "    print('no vehicle body found, probably because with zero duration (discarded by PT):', \n",
    "          len(list(filter(lambda k: 'body' in k, no_legs))))\n",
    "    print('no vehicle body found after time check, probably because with zero duration (discarded by PT):', \n",
    "          len(list(filter(lambda k: 'body' in k, no_legs_after_time_check))))\n",
    "\n",
    "    print('Tot created PtoPTs = ', len(PtoPTss))\n",
    "    PtoPTss.index = range(len(PtoPTss))\n",
    "    print('Total time:', time.time()-start)\n",
    "    return PtoPTss"
   ]
  },
  {
   "cell_type": "code",
   "execution_count": 11,
   "id": "2b5fb350-422f-4711-98b6-dc70d7122849",
   "metadata": {
    "tags": []
   },
   "outputs": [],
   "source": [
    "def updateTransitMode(MC):\n",
    "    transit = MC['mode'] == 'walk_transit'\n",
    "    try:\n",
    "        railTrips = transit & MC['legModes'].str.contains(\"RAIL\")\n",
    "        ferryTrips = transit & ~railTrips & MC['legModes'].str.contains(\"FERRY\")\n",
    "        subwayTrips = transit & ~railTrips & ~ferryTrips & MC['legModes'].str.contains(\"SUBWAY\")\n",
    "        busTrips = transit & ~railTrips & ~ferryTrips & ~subwayTrips\n",
    "        MC.loc[subwayTrips, 'mode'] = \"subway\"\n",
    "        MC.loc[railTrips, 'mode'] = \"rail\"\n",
    "        MC.loc[ferryTrips, 'mode'] = \"ferry\"\n",
    "        MC.loc[busTrips, 'mode'] = \"bus\"\n",
    "    except:\n",
    "        print('Warning: probably no legModes')\n",
    "\n",
    "    MC['miles'] = MC['length'] / 1609.34\n",
    "    MC['distBin'] = [binnames.get(val, 'Other') for val in np.digitize(MC['miles'], distanceBinsMiles)]\n",
    "    return MC"
   ]
  },
  {
   "cell_type": "code",
   "execution_count": 12,
   "id": "20e70e50-9441-4f8a-bb95-b2b326794086",
   "metadata": {
    "tags": []
   },
   "outputs": [],
   "source": [
    "def processPlans(directory):\n",
    "    #fullPath = directory + 'plans.csv.gz'\n",
    "    print('processPlans...')\n",
    "    start = time.time()\n",
    "    trips = []\n",
    "    activities = []\n",
    "    personToTripDeparture = {}\n",
    "    print(directory)\n",
    "    df = pd.read_csv(directory, nrows = None)\n",
    "    # print(df.keys())\n",
    "    df = df[df['planSelected']==True]\n",
    "    # print(df[df['personId']==194])\n",
    "    df = addTimesToPlans(df)\n",
    "    legs = df.loc[(df['planElementType'].str.lower().str.contains('leg'))].dropna(how='all', axis=1)\n",
    "    legs = (legs[legs['legDepartureTime']>=0])\n",
    "    # print(legs.keys())\n",
    "    # print(legs)\n",
    "    try:\n",
    "        legsSub = legs[['personId', 'legDepartureTime',  'planElementIndex', 'legMode', 'originX', 'originY', 'destinationX', 'destinationY']]\n",
    "        is_leg_mode = True\n",
    "    except:\n",
    "        legsSub = legs[['personId', 'legDepartureTime',  'planElementIndex', 'originX', 'originY', 'destinationX', 'destinationY']]\n",
    "        is_leg_mode = False\n",
    "\n",
    "    for rowID, val in legsSub.iterrows():\n",
    "        personToTripDeparture.setdefault(val.personId, []).append(\n",
    "            {\"planID\": val.planElementIndex, \"departureTime\": val.legDepartureTime})\n",
    "    #TRIPS\n",
    "    trips.append(legsSub)\n",
    "    #ACTS\n",
    "    acts = df.loc[(df['planElementType'].str.lower().str.contains('activity'))].dropna(how='all', axis=1)\n",
    "    actsSub = acts[['personId', 'activityType', 'activityLocationX', 'activityLocationY', 'activityEndTime']]\n",
    "    activities.append(actsSub)\n",
    "    print('Total time:', time.time()-start)\n",
    "    return pd.concat(trips), pd.concat(activities), personToTripDeparture, is_leg_mode"
   ]
  },
  {
   "cell_type": "code",
   "execution_count": 13,
   "id": "724571a8-9308-495f-bf2d-7ddffdfd600d",
   "metadata": {
    "tags": []
   },
   "outputs": [],
   "source": [
    "def addTimesToPlans(plans):\n",
    "    print('addTimesToPlans...')\n",
    "    start = time.time()\n",
    "    legInds = np.where(plans['planElementType'].str.lower() == \"leg\")[0]\n",
    "    plans.loc[:, 'legDepartureTime'] = np.nan\n",
    "    plans.iloc[legInds, plans.columns.get_loc('legDepartureTime')] = plans['activityEndTime'].iloc[legInds - 1].copy()\n",
    "    plans.loc[:, 'originX'] = np.nan\n",
    "    plans.iloc[legInds, plans.columns.get_loc('originX')] = plans['activityLocationX'].iloc[legInds - 1].copy()\n",
    "    plans.loc[:, 'originY'] = np.nan\n",
    "    plans.iloc[legInds, plans.columns.get_loc('originY')] = plans['activityLocationY'].iloc[legInds - 1].copy()\n",
    "    plans.loc[:, 'destinationX'] = np.nan\n",
    "    plans.iloc[legInds, plans.columns.get_loc('destinationX')] = plans['activityLocationX'].iloc[legInds + 1].copy()\n",
    "    plans.loc[:, 'destinationY'] = np.nan\n",
    "    plans.iloc[legInds, plans.columns.get_loc('destinationY')] = plans['activityLocationY'].iloc[legInds + 1].copy()\n",
    "    print('Total time:', time.time()-start)\n",
    "    return plans"
   ]
  },
  {
   "cell_type": "code",
   "execution_count": 14,
   "id": "869d0012",
   "metadata": {
    "tags": []
   },
   "outputs": [],
   "source": [
    "def readEvents(directory):\n",
    "    #fullPath = directory + 'ITERS/it.0/0.events.csv.gz'\n",
    "    PTs = []\n",
    "    PEVs = []\n",
    "    PLVs = []\n",
    "    MCs = []\n",
    "    RPs = []\n",
    "    ASs = []\n",
    "\n",
    "    print('Reading ', directory)\n",
    "    for chunk in pd.read_csv(directory, chunksize=2500000, nrows = nrows):\n",
    "        if sum((chunk['type'] == 'PathTraversal')) > 0:\n",
    "            chunk['vehicle'] = chunk['vehicle'].astype(str)\n",
    "            \n",
    "            #PT\n",
    "            print(len(chunk.loc[(chunk['type'] == 'PathTraversal')]),': len chunk PT')\n",
    "            PT = chunk.loc[(chunk['type'] == 'PathTraversal') & (chunk['length'] > 0)].dropna(how='all', axis=1)\n",
    "            PT['links'] =  PT['links'].fillna('0')\n",
    "            PT['departureTime'] = PT['departureTime'].astype(int)\n",
    "            PT['arrivalTime'] = PT['arrivalTime'].astype(int)\n",
    "            PTs.append(PT[PTsColumns])\n",
    "            print(len(PT),': after filtering zero-length PT')\n",
    "            #PEV\n",
    "            print(len(chunk.loc[(chunk['type'] == 'PersonEntersVehicle')]),': len chunk PEV')\n",
    "#             PEV = chunk.loc[(chunk.type == \"PersonEntersVehicle\") & \n",
    "#                             ~(chunk['person'].apply(str).str.contains('Agent').fillna(False)) & \n",
    "#                             ~(chunk['vehicle'].str.contains('body').fillna(False)), :].dropna(how='all', axis=1)\n",
    "            PEV = chunk.loc[(chunk.type == \"PersonEntersVehicle\") &\n",
    "                            ~(chunk['person'].apply(str).str.contains('Agent').fillna(False))\n",
    "                            , :].dropna(how='all', axis=1)\n",
    "            print(len(PEV),': after filtering drivers')\n",
    "                                                                                                                    \n",
    "            if len(PEV)>0:\n",
    "                PEV['person'] = PEV['person'].astype(int)\n",
    "                PEV['time'] = PEV['time'].astype(int)\n",
    "                PEVs.append(PEV)\n",
    "\n",
    "            #PLV\n",
    "#             PLV = chunk.loc[(chunk.type == \"PersonLeavesVehicle\") & \n",
    "#                             ~(chunk['person'].apply(str).str.contains('Agent').fillna(False)) & \n",
    "#                             ~(chunk['vehicle'].str.contains('body').fillna(False)), :].dropna(how='all', axis=1)\n",
    "            print(len(chunk.loc[(chunk['type'] == 'PersonLeavesVehicle')]),': len chunk PLV')\n",
    "            PLV = chunk.loc[(chunk.type == \"PersonLeavesVehicle\") &\n",
    "                            ~(chunk['person'].apply(str).str.contains('Agent').fillna(False))\n",
    "                            , :].dropna(how='all', axis=1) \n",
    "            print(len(PLV),': after filtering drivers')\n",
    "            if len(PLV)>0:\n",
    "                PLV['person'] = PLV['person'].astype(int)\n",
    "                PLV['time'] = PLV['time'].astype(int)\n",
    "                PLVs.append(PLV)\n",
    "        if sum((chunk['type'] == 'ModeChoice')) > 0:\n",
    "            #MC\n",
    "            MC = chunk.loc[(chunk['type'] == 'ModeChoice') & (chunk['length'] > 0)].dropna(how='all', axis=1)\n",
    "            try:\n",
    "                MCs.append(MC[MCsColumns])\n",
    "            except:\n",
    "                MCs.append(MC[MCsColumns_no_leg_modes])\n",
    "                print('WARNING: probably no legModes')\n",
    "            \n",
    "        if sum((chunk['type'] == 'Replanning')) > 0:\n",
    "            #RP\n",
    "            RP = chunk.loc[(chunk['type'] == 'Replanning')].dropna(how='all', axis=1)\n",
    "            RPs.append(RP)\n",
    "            \n",
    "        if sum((chunk['type'] == 'actstart')) > 0:\n",
    "            #RP\n",
    "            AS = chunk.loc[(chunk['type'] == 'actstart')].dropna(how='all', axis=1)\n",
    "            ASs.append(AS)\n",
    "        \n",
    "        # print(chunk['type'].value_counts())\n",
    "    print(len(pd.concat(PEVs)),':len PEVs')\n",
    "    print(len(pd.concat(PLVs)),':len PLVs')\n",
    "    \n",
    "    \n",
    "    PEVs = pd.concat(PEVs)\n",
    "    PLVs = pd.concat(PLVs)\n",
    "    PTs = pd.concat(PTs)\n",
    "    MCs = pd.concat(MCs)\n",
    "    RPs = pd.concat(RPs)\n",
    "    ASs = pd.concat(ASs)\n",
    "\n",
    "    \n",
    "    print(len(PTs),':len PTs')\n",
    "    print(len(MCs),':len MCs')\n",
    "    print(len(RPs),':len RPs')\n",
    "    print(len(ASs),':len ASs')\n",
    "\n",
    "    \n",
    "    return MCs, PTs, PEVs, PLVs, RPs, ASs\n",
    "\n"
   ]
  },
  {
   "cell_type": "code",
   "execution_count": 15,
   "id": "5be67b26",
   "metadata": {
    "tags": []
   },
   "outputs": [],
   "source": [
    "def fixData(Mcs, PTs, PEVs, PLVs,len_id_transit):\n",
    "\n",
    "\n",
    "    PTs['duration'] = PTs['arrivalTime'] - PTs['departureTime']\n",
    "    PTs['gallonsGasoline'] = 0\n",
    "    PTs.loc[PTs['primaryFuelType'] == 'Gasoline',\n",
    "            'gallonsGasoline'] += PTs.loc[PTs['primaryFuelType'] == 'Gasoline', 'primaryFuel'] * 8.3141841e-9\n",
    "    PTs.loc[PTs['secondaryFuelType'] == 'Gasoline',\n",
    "            'gallonsGasoline'] += PTs.loc[PTs['secondaryFuelType'] == 'Gasoline', 'secondaryFuel'] * 8.3141841e-9\n",
    "    PTs['occupancy'] = PTs['numPassengers']\n",
    "    \n",
    "    PTs['isCAV'] = PTs['vehicleType'].str.contains('L5')\n",
    "    PTs['isRH'] = PTs['vehicle'].str.contains('rideHail')\n",
    "    PTs['isBS'] = PTs['vehicle'].str.contains('bay_wheels')\n",
    "    PTs['isRH_WC'] = PTs['vehicleType'].str.contains('RH_Car-wheelchair')\n",
    "    PTs['is_empty'] = PTs['numPassengers'] == 0\n",
    "    PTs['is_RHempty'] = PTs['isRH']*PTs['is_empty']\n",
    "    PTs['is_car_emer'] = PTs['vehicle'].str.contains('emergency')\n",
    "    \n",
    "    PTs.loc[PTs['mode'] == 'car', 'capacity'] += 1\n",
    "    PTs.loc[PTs['mode'] == 'car_hov2', 'capacity'] += 1\n",
    "    PTs.loc[PTs['mode'] == 'car_hov3', 'capacity'] += 1\n",
    "    PTs.loc[PTs['mode'] == 'walk', 'capacity'] = 1\n",
    "    PTs.loc[PTs['mode'] == 'bike', 'capacity'] = 1\n",
    "    \n",
    "    PTs.loc[PTs['isRH'], 'mode'] += '_RideHail'\n",
    "    PTs.loc[PTs['isBS'], 'mode'] += '_Sharing'\n",
    "    PTs.loc[PTs['isRH_WC'], 'mode'] += '_WC'\n",
    "    PTs.loc[PTs['isCAV'], 'mode'] += '_CAV'\n",
    "    PTs.loc[PTs['is_RHempty'], 'mode'] += '_empty'\n",
    "    PTs.loc[PTs['is_car_emer'], 'mode'] += '_emer'\n",
    "    \n",
    "    PTs.loc[PTs['mode'] == 'car', 'occupancy'] = 1\n",
    "    PTs.loc[PTs['mode'] == 'car_emer', 'occupancy'] = 1\n",
    "    PTs.loc[PTs['mode'] == 'car_hov2', 'occupancy'] += 1\n",
    "    PTs.loc[PTs['mode'] == 'car_hov3', 'occupancy'] += 1\n",
    "    PTs.loc[PTs['mode'] == 'car_hov3_emer', 'occupancy'] = 1\n",
    "    PTs.loc[PTs['mode'] == 'walk', 'occupancy'] = 1\n",
    "    PTs.loc[PTs['mode'] == 'bike', 'occupancy'] = 1\n",
    "\n",
    "    PTs['vehicleMiles'] = PTs['length'] / 1609.34\n",
    "    PTs['passengerMiles'] = (PTs['length'] * PTs['occupancy']) / 1609.34\n",
    "    PTs['totalEnergyInJoules'] = PTs['primaryFuel'] + PTs['secondaryFuel']\n",
    "    \n",
    "    for tm in transit_modes:\n",
    "        PTs['is'+tm] = PTs['mode'].str.contains(tm)\n",
    "    for tm in transit_modes:\n",
    "        PTs['is_'+tm+'_empty'] = PTs['is'+tm]*PTs['is_empty']\n",
    "    PTs['is_transit'] = 0\n",
    "    for tm in transit_modes:\n",
    "        PTs['is_transit']+=PTs['is'+tm]\n",
    "    for tm in transit_modes:\n",
    "        PTs.loc[PTs['is_'+tm+'_empty'], 'mode'] += '_empty'\n",
    "        PTs.drop(columns=['is'+tm])\n",
    "        PTs.drop(columns=['is_'+tm+'_empty'])\n",
    "        \n",
    "    PTs.drop(columns=['isCAV','is_empty','is_RHempty','isRH_WC','is_car_emer'])\n",
    "    \n",
    "    vehicles_2 = []\n",
    "    vehicles = PTs['vehicle']\n",
    "    for vehicle in vehicles:\n",
    "        vehicles_2.append(vehicle[:len_id_transit])\n",
    "    vehicles_2 = np.array(vehicles_2)\n",
    "    PTs['vehicle2'] = vehicles_2\n",
    "    \n",
    "    vehicles_2 = []\n",
    "    vehicles = PEVs['vehicle']\n",
    "    for vehicle in vehicles:\n",
    "        vehicles_2.append(vehicle[:len_id_transit])\n",
    "    PEVs['vehicle2'] = vehicles_2\n",
    "    \n",
    "    vehicles_2 = []\n",
    "    vehicles = PLVs['vehicle']\n",
    "    for vehicle in vehicles:\n",
    "        vehicles_2.append(vehicle[:len_id_transit])\n",
    "    PLVs['vehicle2'] = vehicles_2\n",
    "    \n",
    "    \n",
    "    if is_LT:\n",
    "        links_PTs = []\n",
    "        for links in PTs['links']:\n",
    "            if ',' in str(links):\n",
    "                links_PTs.append(links.split(','))\n",
    "            else:\n",
    "                links_PTs.append(['0'])\n",
    "        PTs['links'] = links_PTs\n",
    "    \n",
    "    if is_GEO:\n",
    "        PTs = addGeometryIdToDataFrame(PTs, BGs, 'startX', 'startY', 'startBlockGroup', df_geom='epsg:4326')\n",
    "        PTs = addGeometryIdToDataFrame(PTs, BGs, 'endX', 'endY', 'endBlockGroup', df_geom='epsg:4326')\n",
    "    \n",
    "    return Mcs, PTs, PEVs, PLVs\n"
   ]
  },
  {
   "cell_type": "code",
   "execution_count": 16,
   "id": "bba70cdc-5473-4716-a7c2-7aa88f3d3267",
   "metadata": {},
   "outputs": [],
   "source": [
    "def PLT_build(data_name,PtoPTss, network, link_taz):\n",
    "    print('PLT..')\n",
    "    link_map = {}\n",
    "    PLT = pd.DataFrame()\n",
    "    for link, length, fromx, tox, fromy, toy  in zip(network['linkId'],network['linkLength'],network['fromLocationX'],network['toLocationX'],\n",
    "                                network['fromLocationY'],network['toLocationY']):\n",
    "        link_map[link] = list([ int(length), fromx, tox, fromy, toy ])\n",
    "\n",
    "    #link ID, person ID, vehicle ID, Time (av depart and arrive), link length, block ID, \n",
    "    #other link attributes, energy consumption (weighted based on link and trip lengths)\n",
    "    # vehicleID\tpathTraversalID\tpersonID\tplanIndex\tmode\tlength\tduration\tprimaryFuelType\tlinks\tvehicle2\n",
    "    print('len PTtoPTs = ', len(PtoPTss))\n",
    "    len_links = 0\n",
    "    for links  in PtoPTss['links']:\n",
    "        if links != '0':\n",
    "            len_links+=len(links)\n",
    "    print('len linkstoP = ', len_links)\n",
    "    linkss = list(np.zeros((len_links)))\n",
    "    persons = list(np.zeros((len_links)))\n",
    "    modes = list(np.zeros((len_links)))\n",
    "    vehicles = list(np.zeros((len_links)))\n",
    "    estTimes = list(np.zeros((len_links)))\n",
    "    lengths = list(np.zeros((len_links)))\n",
    "    xs_center = list(np.zeros((len_links)))\n",
    "    ys_center = list(np.zeros((len_links)))\n",
    "    estEnergies = list(np.zeros((len_links)))\n",
    "    if is_GEO:\n",
    "        tazs = list(np.zeros((len_links)))\n",
    "    empty_links = 0\n",
    "    i = -1\n",
    "    for links, person, mode, arrTime, depTime, vehicle, primaryFuel, secondaryFuel, length  in zip(PtoPTss['links'],\n",
    "                               PtoPTss['personID'],PtoPTss['mode'],PtoPTss['arrivalTime'],PtoPTss['departureTime'],\n",
    "                               PtoPTss['vehicleID'],PtoPTss['primaryFuel'],PtoPTss['secondaryFuel'],PtoPTss['length']):\n",
    "        \n",
    "        \n",
    "        if links != '0':\n",
    "            for link in links:\n",
    "                i+=1\n",
    "                if i%1000000 == 0:\n",
    "                    print(i,'/',len_links)\n",
    "                try:\n",
    "                    row = link_map[int(link)]\n",
    "                    if is_GEO:\n",
    "                        tazs[i] = link_taz[int(link)]\n",
    "                    estEnergies[i] = row[0]/length*(primaryFuel+secondaryFuel)\n",
    "                    lengths[i] = row[0]\n",
    "                    xs_center[i] = np.mean([row[1],\n",
    "                                                    row[2]])\n",
    "                    ys_center[i] = np.mean([row[3],\n",
    "                                                row[4]])\n",
    "                except:\n",
    "                    print('Warning:',link)\n",
    "                    ys_center[i] = np.nan\n",
    "                    xs_center[i] = np.nan\n",
    "                    estEnergies[i] = np.nan\n",
    "                    if is_GEO:\n",
    "                        tazs[i] = np.nan\n",
    "                linkss[i] = link\n",
    "                persons[i] = person\n",
    "                modes[i] = mode\n",
    "                vehicles[i] = vehicle\n",
    "                estTimes[i] = np.mean([arrTime,depTime])\n",
    "\n",
    "        else:\n",
    "            empty_links += 1\n",
    "                \n",
    "    PLT['linkId']=linkss\n",
    "    PLT['personId']=persons\n",
    "    PLT['mode']=modes\n",
    "    PLT['vehicleID']=vehicles\n",
    "    PLT['estTime']=estTimes\n",
    "    PLT['estEnergies']=estEnergies\n",
    "    PLT['length']=lengths\n",
    "    PLT['X_center']=xs_center\n",
    "    PLT['Y_center']=ys_center\n",
    "    if is_GEO:\n",
    "        PLT['BlockGroup']=tazs\n",
    "\n",
    "    print( 'PtoPTs without link IDs:',   empty_links,'/', len(PtoPTss))\n",
    "\n",
    "    print('len PLT = ', len(PLT))\n",
    "\n",
    "    #link ID, vehicle ID,..\n",
    "    # 'vehicle', 'time', 'type', 'mode', 'length', 'vehicleType',\n",
    "    #    'arrivalTime', 'departureTime', 'capacity', 'secondaryFuel',\n",
    "    #    'primaryFuelType', 'secondaryFuelType', 'numPassengers', 'primaryFuel',\n",
    "    #    'links', 'duration', 'gallonsGasoline', 'occupancy', 'isCAV', 'isRH',\n",
    "    #    'isRH_WC', 'is_empty', 'is_RHempty', 'is_car_emer', 'isbus', 'issubway',\n",
    "    #    'istram', 'israil', 'iscable_car', 'isferry', 'is_bus_empty',\n",
    "    #    'is_subway_empty', 'is_tram_empty', 'is_rail_empty',\n",
    "    #    'is_cable_car_empty', 'is_ferry_empty', 'is_transit', 'vehicle2'\n",
    "    # for links in zip(PTs['links'],PTs['vehicle'],PTs['links'],PTs['links'],PTs['links'],PTs['links'],):\n",
    "    #     if links != '0':\n",
    "    #         for link in links:\n",
    "    #             pass\n",
    "    #Aggregate: for each link guess VMT, PMT, Energy, Mode split and vehicle type split, speed\n",
    "\n",
    "    # Aggregate per TAZ\n",
    "\n",
    "\n",
    "    print(\"done\")\n",
    "\n",
    "\n",
    "    return PLT"
   ]
  },
  {
   "cell_type": "code",
   "execution_count": 17,
   "id": "485668ff-a59c-4b76-ab98-9f5862d8e3d0",
   "metadata": {},
   "outputs": [],
   "source": [
    "def addGeometryIdToDataFrame(df, gdf, xcol, ycol, idColumn=\"geometry\", df_geom='epsg:32610'): \n",
    "    gdf.crs = {'init': 'epsg:4326'}\n",
    "    gdf_data = gpd.GeoDataFrame(df, geometry=gpd.points_from_xy(df[xcol], df[ycol]))\n",
    "    gdf_data.crs = {'init': df_geom}\n",
    "    joined = gpd.sjoin(gdf_data.to_crs('epsg:26910'), gdf.to_crs('epsg:26910'))\n",
    "    gdf_data = gdf_data.merge(joined['blkgrpid'], left_index=True, right_index=True, how=\"left\")\n",
    "    gdf_data.rename(columns={'blkgrpid': idColumn}, inplace=True)\n",
    "    df = pd.DataFrame(gdf_data.drop(columns='geometry'))\n",
    "    # df.drop(columns=[xcol, ycol], inplace=True)\n",
    "    print(len(df))\n",
    "    print(len(df.loc[~df.index.duplicated(keep='first'), :]))\n",
    "\n",
    "    return df.loc[~df.index.duplicated(keep='first'), :]"
   ]
  },
  {
   "cell_type": "code",
   "execution_count": 18,
   "id": "5bb8e6c8-7eb4-42e5-9396-9ea21c071eb9",
   "metadata": {},
   "outputs": [],
   "source": [
    "def link_TAZ_fun(network, link_stat):\n",
    "    link_tazs = []\n",
    "    for link in link_stat['link']:    \n",
    "        link_tazs.append(list(network[network['linkId']==link]['BlockGroup'])[0])\n",
    "    link_stat['BlockGroup']   =  link_tazs                                           \n",
    "    return link_stat"
   ]
  },
  {
   "cell_type": "code",
   "execution_count": 19,
   "id": "35e926a1-2934-4935-801b-a53841deb9e5",
   "metadata": {},
   "outputs": [],
   "source": [
    "def network_TAZ(network):\n",
    "    network_x = []\n",
    "    network_y = []\n",
    "    link_taz = {}\n",
    "    for link, linkfromx, linktox, linkfromy,linktoy in zip(network['linkId'],network['fromLocationX'],network['toLocationX'],\n",
    "                                network['fromLocationY'],network['toLocationY']):    \n",
    "        network_x.append(np.mean([linkfromx, linktox,]))\n",
    "        network_y.append(np.mean([linkfromy, linktoy,]))\n",
    "    network['X_center'] = network_x\n",
    "    network['Y_center'] = network_y\n",
    "    network = addGeometryIdToDataFrame(network, BGs, 'X_center', 'Y_center', 'BlockGroup')\n",
    "    for link, block in zip(network['linkId'],network['BlockGroup']):\n",
    "        link_taz[link] = block\n",
    "\n",
    "                                                           \n",
    "    return network, link_taz"
   ]
  },
  {
   "cell_type": "code",
   "execution_count": 20,
   "id": "d6a3235e-5811-4a5a-b779-63ff6e7b3ba8",
   "metadata": {},
   "outputs": [],
   "source": [
    "def VLT_build(data_name,PTs, network, link_taz):\n",
    "    print('VLT..')\n",
    "    link_map = {}\n",
    "    VLT = pd.DataFrame()\n",
    "    \n",
    "    for link, length, fromx, tox, fromy, toy  in zip(network['linkId'],network['linkLength'],network['fromLocationX'],network['toLocationX'],\n",
    "                                network['fromLocationY'],network['toLocationY']):\n",
    "        link_map[link] = list([int(length), fromx, tox, fromy, toy ])\n",
    "\n",
    "    print('len PTs = ', len(PTs))\n",
    "    len_links = 0\n",
    "    for links  in PTs['links']:\n",
    "        if links != '0':\n",
    "            len_links+=len(links)\n",
    "    print('len linkstoP = ', len_links)\n",
    "    linkss = list(np.zeros((len_links)))\n",
    "    modes = list(np.zeros((len_links)))\n",
    "    vehicles = list(np.zeros((len_links)))\n",
    "    estTimes = list(np.zeros((len_links)))\n",
    "    lengths = list(np.zeros((len_links)))\n",
    "    xs_center = list(np.zeros((len_links)))\n",
    "    ys_center = list(np.zeros((len_links)))\n",
    "    estEnergies = list(np.zeros((len_links)))\n",
    "    if is_GEO:\n",
    "        tazs = list(np.zeros((len_links)))\n",
    "    empty_links = 0\n",
    "    i = -1\n",
    "    for links, mode, arrTime, depTime, vehicle, primaryFuel, secondaryFuel, length in zip(PTs['links'],\n",
    "                                            PTs['mode'],\n",
    "                                  PTs['arrivalTime'],PTs['departureTime'],PTs['vehicle']\n",
    "                                                             ,PTs['primaryFuel'],PTs['secondaryFuel'],PTs['length'] ):\n",
    "        if links != '0':\n",
    "            for link in links:\n",
    "                i+=1\n",
    "                if i%1000000 == 0:\n",
    "                    print(i,'/',len_links)\n",
    "                try:\n",
    "                    row = link_map[int(link)]\n",
    "                    if is_GEO:\n",
    "                        tazs[i] = link_taz[int(link)]\n",
    "                    estEnergies[i] = row[0]/length*(primaryFuel+secondaryFuel)\n",
    "                    lengths[i] = row[0]\n",
    "                    xs_center[i] = np.mean([row[1],\n",
    "                                                    row[2]])\n",
    "                    ys_center[i] = np.mean([row[3],\n",
    "                                                row[4]])\n",
    "                except:\n",
    "                    print('Warning:',link)\n",
    "                    ys_center[i] = np.nan\n",
    "                    xs_center[i] = np.nan\n",
    "                    estEnergies[i] = np.nan\n",
    "                    if is_GEO:\n",
    "                        tazs[i] = np.nan\n",
    "                linkss[i] = link\n",
    "                modes[i] = mode\n",
    "                vehicles[i] = vehicle\n",
    "                estTimes[i] = np.mean([arrTime,depTime])\n",
    "\n",
    "\n",
    "        else:\n",
    "            empty_links += 1\n",
    "    VLT['linkId']=linkss\n",
    "    VLT['mode']=modes\n",
    "    VLT['vehicleID']=vehicles\n",
    "    VLT['estTime']=estTimes\n",
    "    VLT['estEnergies']=estEnergies\n",
    "    VLT['length']=lengths\n",
    "    VLT['X_center']=xs_center\n",
    "    VLT['Y_center']=ys_center\n",
    "    if is_GEO:\n",
    "        VLT['BlockGroup']=tazs\n",
    "\n",
    "    print( 'PTs without link IDs:',   empty_links,'/', len(PTs))\n",
    "    print('len VLT = ', len(VLT))\n",
    "\n",
    "    print(\"done\")\n",
    "\n",
    "    return VLT"
   ]
  },
  {
   "cell_type": "code",
   "execution_count": 21,
   "id": "f6e3958d",
   "metadata": {
    "tags": []
   },
   "outputs": [],
   "source": [
    "def SummaryTable(ST, data_name, name, plan_name, MCs, PTs, PEVs, PLVs, RPs, trips, PtoPTss, codes, transitCompanies,is_leg_mode):\n",
    "    \n",
    "#----------Indexes\n",
    "    PTsModeIndexes = {}\n",
    "    PTsTransitIndexes = {}\n",
    "    PTsFuelIndexes = {}\n",
    "    MCsModeIndexes = {}\n",
    "    MCsReplanIndexes = {}\n",
    "    MCsPlanIndexes = {}\n",
    "    PtoPTssModeIndexes = {}\n",
    "    PtoPTssTransitIndexes = {}\n",
    "    PtoPTssFuelIndexes = {}\n",
    "    #Replanning\n",
    "    reasons = []\n",
    "    for reason in RPs['reason']:\n",
    "        reasons.append(reason.split()[1].lower())\n",
    "    RPs['mode'] = reasons\n",
    "    totalTrips_replan = len(RPs['mode'])\n",
    "    \n",
    "    for MCsMode, MCsModesName in zip(MCsModes, MCsModesNames):\n",
    "        MCsReplanIndexes[MCsMode] = RPs[(RPs['mode'] == MCsMode)].index\n",
    "    for PTsMode, PTsModesName in zip(PTsModes, PTsModesNames):\n",
    "        PTsModeIndexes[PTsMode] = PTs[(PTs['mode'] == PTsMode)].index\n",
    "        PtoPTssModeIndexes[PTsMode] = PtoPTss[(PtoPTss['mode'] == PTsMode)].index\n",
    "    for company in transitCompanies:\n",
    "        PTsTransitIndexes[company] = PTs[(PTs['vehicle2'] == company)].index\n",
    "        PtoPTssTransitIndexes[company] = PtoPTss[(PtoPTss['vehicle2'] == company)].index\n",
    "    for primaryFuelType in primaryFuelTypes:\n",
    "        PTsFuelIndexes[primaryFuelType] = PTs[(PTs['primaryFuelType'] == primaryFuelType)].index\n",
    "        PtoPTssFuelIndexes[primaryFuelType] = PtoPTss[(PtoPTss['primaryFuelType'] == primaryFuelType)].index\n",
    "    for MCsMode, MCsModesName in zip(MCsModes, MCsModesNames):\n",
    "        MCsModeIndexes[MCsMode] = MCs[(MCs['mode'] == MCsMode)].index\n",
    "    if is_leg_mode:\n",
    "        for MCsMode, MCsModesName in zip(MCsModes, MCsModesNames):\n",
    "            MCsPlanIndexes[MCsMode] = trips[(trips['legMode'] == MCsMode)].index\n",
    "\n",
    "    ST.at['Simulated Agents ', name] = len(pd.unique(trips['personId'])) \n",
    "    ST.at['Trips per Agent AV ', name] = len(trips)/len(pd.unique(trips['personId']))\n",
    "    \n",
    "#----------Number Trips\n",
    "#check plans for estimated mode share, trip per person\n",
    "    totalTrips_vehicle = len(PTs['mode'])\n",
    "    totalTrips_est = len(trips)\n",
    "    totalTrips_mode = len(MCs['mode'])\n",
    "    totalTrips_replan = len(RPs)\n",
    "    totalTrips_exec = totalTrips_mode-len(RPs)\n",
    "    \n",
    "    print('Number Trips...',name)\n",
    "    ST.at['Trip Vehicle Total ', name] = totalTrips_vehicle\n",
    "    ST.at['Trip Est Total ', name] = totalTrips_est\n",
    "    ST.at['Trip Mode Total ', name] = totalTrips_mode\n",
    "    ST.at['Trip Replanning Total ', name] = totalTrips_replan\n",
    "    ST.at['Trip Executed Total ', name] = totalTrips_exec\n",
    "\n",
    "    \n",
    "    \n",
    "    for PTsMode, PTsModesName in zip(PTsModes, PTsModesNames):\n",
    "        ST.at['Trip Vehicle '+PTsModesName, name] = len(PTsModeIndexes[PTsMode])\n",
    "    if is_leg_mode:\n",
    "        for MCsMode, MCsName in zip(MCsModes, MCsModesNames):\n",
    "            ST.at['Trip Est '+MCsName, name] = len(MCsPlanIndexes[MCsMode])\n",
    "    for MCsMode, MCsName in zip(MCsModes, MCsModesNames):\n",
    "        ST.at['Trip Mode '+MCsName, name] = len(MCsModeIndexes[MCsMode])\n",
    "    for MCsMode, MCsName in zip(MCsModes, MCsModesNames):\n",
    "        ST.at['Trip Replan '+MCsName, name] = len(MCsReplanIndexes[MCsMode])\n",
    "    transit_exec = 0\n",
    "    for MCsMode, MCsName in zip(MCsModes, MCsModesNames):\n",
    "        ST.at['Trip Exec '+MCsName, name] = len(MCsModeIndexes[MCsMode])-len(MCsReplanIndexes[MCsMode])\n",
    "        if MCsMode in transit_MCmodes:\n",
    "            transit_exec += len(MCsModeIndexes[MCsMode])-len(MCsReplanIndexes[MCsMode])\n",
    "    for primaryFuelType in primaryFuelTypes:\n",
    "        ST.at['Trip Vehicle '+primaryFuelType, name] = len(PTsFuelIndexes[primaryFuelType])\n",
    "    for company in transitCompanies:\n",
    "        ST.at['Trip Vehicle '+company, name] = len(PTsTransitIndexes[company])\n",
    "        \n",
    "#----------Share Trips\n",
    "    print('Share Trips...',name)\n",
    "    for PTsMode, PTsModesName in zip(PTsModes, PTsModesNames):\n",
    "        ST.at['Trip Vehicle Share '+PTsModesName, name] = len(PTsModeIndexes[PTsMode])/totalTrips_vehicle\n",
    "    for company in transitCompanies:\n",
    "        ST.at['Trip Vehicle Share '+company, name] = len(PTsTransitIndexes[company])/totalTrips_vehicle\n",
    "    if is_leg_mode:\n",
    "        for MCsMode, MCsName in zip(MCsModes, MCsModesNames):\n",
    "            ST.at['Trip Est Share '+MCsName, name] = len(MCsPlanIndexes[MCsMode])/totalTrips_est\n",
    "    for MCsMode, MCsName in zip(MCsModes, MCsModesNames):\n",
    "        ST.at['Trip Mode Share '+MCsName, name] = len(MCsModeIndexes[MCsMode])/totalTrips_mode\n",
    "    for MCsMode, MCsName in zip(MCsModes, MCsModesNames):\n",
    "        ST.at['Trip Replan Share '+MCsName, name] = len(MCsReplanIndexes[MCsMode])/totalTrips_replan\n",
    "    for MCsMode, MCsName in zip(MCsModes, MCsModesNames):\n",
    "        ST.at['Trip Exec Share '+MCsName, name] = (len(MCsModeIndexes[MCsMode])-len(MCsReplanIndexes[MCsMode]))/totalTrips_exec\n",
    "    for primaryFuelType in primaryFuelTypes:\n",
    "        ST.at['Trip Vehicle Share '+primaryFuelType, name] = len(PTsFuelIndexes[primaryFuelType])/totalTrips_vehicle\n",
    "\n",
    "\n",
    "\n",
    "#----------Trip Lengths\n",
    "    #----------------------Vehicles\n",
    "    print('Lengths Vehicles...',name)\n",
    "    lengths = PTs['length']/1000.\n",
    "    for code in codes:\n",
    "        ST.at['Length Vehicle '+CtV[code]+' [km]', name] = DA(lengths, code)\n",
    "        for PTsMode, PTsModesName in zip(PTsModes, PTsModesNames):\n",
    "            lengths_mode = lengths[PTsModeIndexes[PTsMode]]\n",
    "            ST.at['Length Vehicle '+CtV[code]+' '+PTsModesName+' [km]', name] = DA(lengths_mode, code)\n",
    "        for company in transitCompanies:\n",
    "            lengths_company = lengths[PTsTransitIndexes[company]]\n",
    "            ST.at['Length Vehicle '+CtV[code]+' '+company+' [km]', name] = DA(lengths_company, code)\n",
    "        for primaryFuelType in primaryFuelTypes:\n",
    "            lengths_fueltype = lengths[PTsFuelIndexes[primaryFuelType]]\n",
    "            ST.at['Length Vehicle '+CtV[code]+' '+primaryFuelType+' [km]', name] = DA(lengths_fueltype, code)  \n",
    "    \n",
    "    #----------------------Persons\n",
    "    print('Lengths Persons...',name)\n",
    "    lengths = PtoPTss['length']/1000.\n",
    "    for code in codes:\n",
    "        ST.at['Length Person '+CtV[code]+' [km]', name] = DA(lengths, code)\n",
    "        for PTsMode, PTsModesName in zip(PTsModes, PTsModesNames):\n",
    "            lengths_mode = lengths[PtoPTssModeIndexes[PTsMode]]\n",
    "            ST.at['Length Person '+CtV[code]+' '+PTsModesName+' [km]', name] = DA(lengths_mode, code)\n",
    "        for company in transitCompanies:\n",
    "            lengths_company = lengths[PtoPTssTransitIndexes[company]]\n",
    "            ST.at['Length Person '+CtV[code]+' '+company+' [km]', name] = DA(lengths_company, code)\n",
    "        for primaryFuelType in primaryFuelTypes:\n",
    "            lengths_fueltype = lengths[PtoPTssFuelIndexes[primaryFuelType]]\n",
    "            ST.at['Length Person '+CtV[code]+' '+primaryFuelType+' [km]', name] = DA(lengths_fueltype, code)  \n",
    "    \n",
    "    \n",
    "    #----------------------Modes\n",
    "    print('Lengths Modes...',name)\n",
    "    lengths = MCs['length']/1000.\n",
    "    for code in codes:\n",
    "        ST.at['Length Mode '+CtV[code]+'[km]', name] = DA(lengths, code)\n",
    "        for MCsMode, MCsModesName in zip(MCsModes, MCsModesNames):\n",
    "            lengths_mode = lengths[MCsModeIndexes[MCsMode]]\n",
    "            ST.at['Length Mode '+CtV[code]+' '+MCsModesName+' [km]', name] = DA(lengths_mode, code)\n",
    "   \n",
    "    lengths = PTs['length']/1000.\n",
    "    \n",
    " #----------Trip Durations\n",
    "    print('Durations Vehicle...',name)\n",
    "    durations = PTs['duration']/3600.\n",
    "    for code in codes:\n",
    "        ST.at['Duration Vehicle'+CtV[code]+' [h]', name] = DA(durations, code)\n",
    "        for PTsMode, PTsModesName in zip(PTsModes, PTsModesNames):\n",
    "            durations_mode = durations[PTsModeIndexes[PTsMode]]\n",
    "            ST.at['Duration Vehicle '+CtV[code]+' '+PTsModesName+' [h]', name] = DA(durations_mode, code)\n",
    "        for company in transitCompanies:\n",
    "            durations_company = durations[PTsTransitIndexes[company]]\n",
    "            ST.at['Duration Vehicle '+CtV[code]+' '+company+' [h]', name] = DA(durations_company, code)\n",
    "        for primaryFuelType in primaryFuelTypes:\n",
    "            durations_fueltype = durations[PTsFuelIndexes[primaryFuelType] ]\n",
    "            ST.at['Duration Vehicle '+CtV[code]+' '+primaryFuelType+' [h]', name] = DA(durations_fueltype, code)   \n",
    "     \n",
    "    #----------Persons\n",
    "    print('Durations Person...',name)\n",
    "    durations = PtoPTss['duration']/3600.\n",
    "    for code in codes:\n",
    "        ST.at['Duration Person'+CtV[code]+' [h]', name] = DA(durations, code)\n",
    "        for PTsMode, PTsModesName in zip(PTsModes, PTsModesNames):\n",
    "            durations_mode = durations[PtoPTssModeIndexes[PTsMode]]\n",
    "            ST.at['Duration Person '+CtV[code]+' '+PTsModesName+' [h]', name] = DA(durations_mode, code)\n",
    "        for company in transitCompanies:\n",
    "            durations_company = durations[PtoPTssTransitIndexes[company]]\n",
    "            ST.at['Duration Person '+CtV[code]+' '+company+' [h]', name] = DA(durations_company, code)\n",
    "        for primaryFuelType in primaryFuelTypes:\n",
    "            durations_fueltype = durations[PtoPTssFuelIndexes[primaryFuelType] ]\n",
    "            ST.at['Duration Person '+CtV[code]+' '+primaryFuelType+' [h]', name] = DA(durations_fueltype, code)   \n",
    "    \n",
    "    \n",
    "#----------Trip Speeds\n",
    "    print('Speeds Vehicle...',name)\n",
    "    speeds = lengths/durations[(durations>0)]\n",
    "    for code in codes:\n",
    "        ST.at['Speed Vehicle'+CtV[code]+' [km/h]', name] = DA(speeds, code)\n",
    "        for PTsMode, PTsModesName in zip(PTsModes, PTsModesNames):\n",
    "            speeds_mode = speeds[PTsModeIndexes[PTsMode]]\n",
    "            ST.at['Speed Vehicle '+CtV[code]+' '+PTsModesName+' [km/h]', name] = DA(speeds_mode, code)\n",
    "        for company in transitCompanies:\n",
    "            speeds_company = speeds[PTsTransitIndexes[company]]\n",
    "            ST.at['Speed Vehicle '+CtV[code]+' '+company+' [km/h]', name] = DA(speeds_company, code)\n",
    "        for primaryFuelType in primaryFuelTypes:\n",
    "            speeds_fueltype = speeds[PTsFuelIndexes[primaryFuelType] ]\n",
    "            ST.at['Speed Vehicle '+CtV[code]+' '+primaryFuelType+' [km/h]', name] = DA(speeds_fueltype, code)   \n",
    "    \n",
    "#----------Energy Consumption\n",
    "    #----------Route-e correction\n",
    "    corrections_routee = []\n",
    "    for prim, sec in zip(PTs['primaryFuelType'], PTs['secondaryFuelType']):\n",
    "        if prim in 'Electricity' and sec in ['Biodiesel','Diesel','Gasoline']:\n",
    "            corrections_routee.append(route_e_correction_hev)\n",
    "        elif prim in ['Biodiesel','Diesel','Gasoline']:\n",
    "            corrections_routee.append(route_e_correction_cv)\n",
    "        elif prim in ['Electricity']:\n",
    "            corrections_routee.append(route_e_correction_ev)\n",
    "        else:\n",
    "            corrections_routee.append(1)\n",
    "    PTs['routee correction'] = corrections_routee     \n",
    "    print(PTs['routee correction'].value_counts())\n",
    "\n",
    "    print('Energy Usage Vehicle...',name)\n",
    "    energies = (PTs['primaryFuel']/1000000000.+PTs['secondaryFuel']/1000000000.)*PTs['routee correction']\n",
    "    for code in codes:\n",
    "        ST.at['Energy Vehicle'+CtV[code]+' [GJ]', name] = DA(energies, code)\n",
    "        for PTsMode, PTsModesName in zip(PTsModes, PTsModesNames):\n",
    "            energies_mode = energies[PTsModeIndexes[PTsMode]]\n",
    "            ST.at['Energy Vehicle '+CtV[code]+' '+PTsModesName+' [GJ]', name] = DA(energies_mode, code)\n",
    "        for company in transitCompanies:\n",
    "            energies_company = energies[PTsTransitIndexes[company]]\n",
    "            ST.at['Energy Vehicle '+CtV[code]+' '+company+' [GJ]', name] = DA(energies_company, code)\n",
    "        for primaryFuelType in primaryFuelTypes:\n",
    "            energies_fueltype = energies[PTsFuelIndexes[primaryFuelType] ]\n",
    "            ST.at['Energy Vehicle '+CtV[code]+' '+primaryFuelType+' [GJ]', name] = DA(energies_fueltype, code)   \n",
    "\n",
    "#----------Trip Gallons\n",
    "    print('Trip Gallons Vehicle...',name)\n",
    "    gallons = PTs['gallonsGasoline']*PTs['routee correction']\n",
    "    for code in codes:\n",
    "        ST.at['Gallons Gas Vehicle'+CtV[code]+' [gallon]', name] = DA(gallons, code)\n",
    "        for PTsMode, PTsModesName in zip(PTsModes, PTsModesNames):\n",
    "            gallons_mode = gallons[PTsModeIndexes[PTsMode]]\n",
    "            ST.at['Gallons Gas Vehicle '+CtV[code]+' '+PTsModesName+' [gallon]', name] = DA(gallons_mode*route_e_correction_cv, code)\n",
    "        for company in transitCompanies:\n",
    "            gallons_company = gallons[PTsTransitIndexes[company]]\n",
    "            ST.at['Gallons Gas Vehicle '+CtV[code]+' '+company+' [gallon]', name] = DA(gallons_company*route_e_correction_cv, code)\n",
    "        for primaryFuelType in primaryFuelTypes:\n",
    "            gallons_fueltype = gallons[PTsFuelIndexes[primaryFuelType] ]\n",
    "            ST.at['Gallons Gas Vehicle '+CtV[code]+' '+primaryFuelType+' [gallon]', name] = DA(gallons_fueltype, code)   \n",
    "\n",
    "            \n",
    "#----------Occupancy\n",
    "    print('Occupancy Vehicle...',name)\n",
    "    passengers = PTs['occupancy']\n",
    "    capacities = PTs['capacity']\n",
    "\n",
    "    for company in transitCompanies:\n",
    "        passenger_company = passengers[PTsTransitIndexes[company]]\n",
    "        ST.at['Vehicle Passengers stops '+company, name] = np.sum(passenger_company)\n",
    "\n",
    "    for company in transitCompanies:\n",
    "        passenger_company = passengers[PTsTransitIndexes[company]]\n",
    "        lengths_company = lengths[PTsTransitIndexes[company]]\n",
    "        ST.at['Vehicle Passengers km '+company, name] = np.sum(passenger_company*lengths_company)\n",
    "\n",
    "    for company in transitCompanies:\n",
    "        lengths_company = lengths[PTsTransitIndexes[company]]\n",
    "        capacities_company = capacities[PTsTransitIndexes[company]]\n",
    "        ST.at['Vehicle Capacity km '+company, name] = np.sum(capacities_company*lengths_company)\n",
    "\n",
    "    for company in transitCompanies:\n",
    "        passenger_company = passengers[PTsTransitIndexes[company]]\n",
    "        lengths_company = lengths[PTsTransitIndexes[company]]\n",
    "        capacities_company = capacities[PTsTransitIndexes[company]]\n",
    "        if np.sum(capacities_company*lengths_company)>0:\n",
    "            ST.at['Vehicle Load Factor '+company, name] = np.sum(passenger_company*lengths_company)/np.sum(capacities_company*lengths_company)\n",
    "\n",
    "    ST.at['Vehicle Person km Total ', name] = np.sum(lengths*passengers)\n",
    "\n",
    "    for PTsMode, PTsModesName in zip(PTsModes, PTsModesNames):\n",
    "        if PTsMode != 'bike' and PTsMode != 'walk':\n",
    "            lengths_mode = lengths[PTsModeIndexes[PTsMode]]\n",
    "            passengers_mode = passengers[PTsModeIndexes[PTsMode]] \n",
    "            ST.at['Vehicle Person km '+PTsModesName, name] = np.sum(lengths_mode*passengers_mode)\n",
    "\n",
    "    for PTsMode, PTsModesName in zip(PTsModes, PTsModesNames):\n",
    "        if PTsMode != 'bike' and PTsMode != 'walk':\n",
    "            lengths_mode = lengths[PTsModeIndexes[PTsMode]]\n",
    "            capacities_mode = capacities[PTsModeIndexes[PTsMode]] \n",
    "            ST.at['Vehicle Capacity km '+PTsModesName, name] = np.sum(lengths_mode*capacities_mode)\n",
    "\n",
    "    for PTsMode, PTsModesName in zip(PTsModes, PTsModesNames):\n",
    "        if PTsMode != 'bike' and PTsMode != 'walk':\n",
    "            lengths_mode = lengths[PTsModeIndexes[PTsMode]]\n",
    "            passengers_mode = passengers[PTsModeIndexes[PTsMode]] \n",
    "            capacities_mode = capacities[PTsModeIndexes[PTsMode]] \n",
    "            if np.sum(lengths_mode*capacities_mode)>0:\n",
    "                ST.at['Vehicle Load Factor '+PTsModesName, name] = np.sum(lengths_mode*passengers_mode)/np.sum(lengths_mode*capacities_mode)\n",
    "\n",
    "#----------Ridership\n",
    "    print('Ridership Transit...',name)\n",
    "    total_rs = 0\n",
    "    for company in transitCompanies:\n",
    "        ridership_company = len(PEVs['vehicle'][(PEVs['vehicle2'] == company)])\n",
    "        ST.at['Ridership '+company, name] = ridership_company\n",
    "        total_rs += ridership_company\n",
    "    for company in transitCompanies:\n",
    "        ridership_company = len(PEVs['vehicle'][(PEVs['vehicle2'] == company)])\n",
    "        ST.at['Ridership '+company+' Share', name] = ridership_company/total_rs\n",
    "\n",
    "################################################################################################\n",
    "# ################################################EXTRA FOR NYC################################################\n",
    "    if is_NYC:\n",
    "        PEVs_NJ = PEVs[(PEVs['vehicle2'] == 'NJ_Transit')]\n",
    "        NJ_ridership_bus = 0\n",
    "        NJ_ridership_rail = 0\n",
    "        NJ_ridership_lrail = 0\n",
    "        GTFS_NJ_RAIL_trips = pd.read_csv('GTFS/trips.txt')\n",
    "        for NJ_vehicle in PEVs_NJ['vehicle']:\n",
    "            if NJ_vehicle[:12] == 'NJ_Transit_B':\n",
    "                NJ_ridership_bus += 1\n",
    "            elif NJ_vehicle[:12] == 'NJ_Transit_R':\n",
    "                trip_id = NJ_vehicle.split(':')[1]\n",
    "                route_id = list(GTFS_NJ_RAIL_trips['route_id'][GTFS_NJ_RAIL_trips['trip_id'].astype(str)==trip_id])[0]\n",
    "                if route_id in [4,12,16]:\n",
    "                    NJ_ridership_lrail += 1\n",
    "                else:\n",
    "                    NJ_ridership_rail +=1\n",
    "\n",
    "        ST.at['Ridership NJ Transit Bus', name] = NJ_ridership_bus\n",
    "        ST.at['Ridership NJ Transit Rail', name] = NJ_ridership_rail\n",
    "        ST.at['Ridership NJ Transit Light Rail', name] = NJ_ridership_lrail\n",
    "        ST.at['Ridership NJ Transit Bus Share', name] = NJ_ridership_bus/total_rs\n",
    "        ST.at['Ridership NJ Transit Rail Share', name] = NJ_ridership_rail/total_rs\n",
    "        ST.at['Ridership NJ Transit Light Rail Share', name] = NJ_ridership_lrail/total_rs\n",
    "        \n",
    "    #Check ridership Subway\n",
    "\n",
    "        agencies = []\n",
    "        for vehicle in PtoPTss['vehicleID']:\n",
    "            agencies.append(vehicle[:20])\n",
    "        PtoPTss['agency'] = agencies\n",
    "\n",
    "        grouping = PtoPTss.groupby(['personID','planIndex']).apply(lambda x: [y[0] for y in groupby(x.agency)]).to_dict()\n",
    "\n",
    "        combinations = []\n",
    "        i = 0\n",
    "        for key in grouping.keys():\n",
    "            i+=1\n",
    "            combinations.append(grouping[key])\n",
    "\n",
    "        ridership_Subway = 0\n",
    "        ridership_LIRR = 0\n",
    "        ridership_MN = 0\n",
    "        for comb in combinations:\n",
    "            for c in comb:\n",
    "                if c[:10] =='NYC_Subway':\n",
    "                    ridership_Subway += 1\n",
    "                if c[:10] =='Long_Islan':\n",
    "                    ridership_LIRR += 1\n",
    "                if c[:10] =='Metro-Nort':\n",
    "                    ridership_MN += 1\n",
    "    \n",
    "        ST.at['Ridership NYC Subway Without Transfers', name] = ridership_Subway\n",
    "        ST.at['Ridership LIRR Without Transfers', name] = ridership_LIRR\n",
    "        ST.at['Ridership Metro North Without Transfers', name] = ridership_MN\n",
    "\n",
    "################################################################################################\n",
    "################################################################################################\n",
    "\n",
    "    ST.at['Ridership Total', name] = total_rs\n",
    "    ST.at['Transit Transfer per trip AV', name] = total_rs/transit_exec-1.\n",
    "#----------RH\n",
    "\n",
    "\n",
    "    start_RH = time.time()\n",
    "    print('Ride hail...',name)\n",
    "    \n",
    "    try:\n",
    "        rh_waittime = pd.read_csv(fp+data_name[:-13]+'rideHailIndividualWaitingTimes.csv')\n",
    "        ST.at['Number RH vehicles', name] = len(np.unique(list(rh_waittime['rideHailVehicleId'])))\n",
    "        ST.at['AV Waiting Time RH', name] = np.mean(list(rh_waittime['waitingTimeInSeconds']))\n",
    "        ST.at['AV Waiting Time RH Pooled', name] = np.mean(list(rh_waittime[rh_waittime['modeChoice']=='ride_hail_pooled']['waitingTimeInSeconds']))\n",
    "        ST.at['AV Waiting Time RH Single', name]  = np.mean(list(rh_waittime[rh_waittime['modeChoice']=='ride_hail']['waitingTimeInSeconds']))    \n",
    "    except:\n",
    "        print('WARNING: probably not modeChoice column on pd.read_csv(fp+data_name[:-13]+\\'rideHailIndividualWaitingTimes.csv\\'')\n",
    "    \n",
    "    PTsRH = PTs[PTs['isRH']]\n",
    "    ST.at['Empty Trips RH', name] = len(PTsRH['vehicle'][PTsRH['numPassengers']==0])\n",
    "    ST.at['Not Empty Trips RH', name] = len(PTsRH['vehicle'][PTsRH['numPassengers']>0])\n",
    "    if len(PTsRH['vehicle']) >0:\n",
    "        ST.at['Empty Trips RH Share', name] = len(PTsRH['vehicle'][PTsRH['numPassengers']==0])/len(PTsRH['vehicle'])\n",
    "        ST.at['Not Empty Trips RH Share', name] = len(PTsRH['vehicle'][PTsRH['numPassengers']>0])/len(PTsRH['vehicle'])\n",
    "    \n",
    "    for code in codes:\n",
    "        ST.at[CtV[code]+' Trips per RH Vehicle', name] = DA(PTsRH['vehicle'].value_counts(), code)\n",
    "        \n",
    "    rh_vehicles = pd.unique(PTsRH['vehicle'])\n",
    "    n_empty = []\n",
    "    n_notempty = []\n",
    "    first_trip = []\n",
    "    last_trip = []\n",
    "    for rh_vehicle in rh_vehicles:\n",
    "        PTs_rh_vehicle = PTsRH[PTsRH['vehicle']==rh_vehicle]\n",
    "        n_empty.append(len(PTs_rh_vehicle['vehicle'][PTs_rh_vehicle['numPassengers']==0]))\n",
    "        n_notempty.append(len(PTs_rh_vehicle['vehicle'][PTs_rh_vehicle['numPassengers']>0]))\n",
    "        PTs_rh_vehicle = PTs_rh_vehicle.sort_values(by='time', ascending=True)\n",
    "        first_trip.append(list(PTs_rh_vehicle['numPassengers'])[0])\n",
    "        last_trip.append(list(PTs_rh_vehicle['numPassengers'])[-1])\n",
    "        \n",
    "    share_empty = np.array(n_empty)-np.array(n_notempty)\n",
    "    for code in codes:\n",
    "        ST.at[CtV[code]+' RH Vehicle (Empty - not Empty) Trips', name] = DA(share_empty, code)\n",
    "    \n",
    "    if len(first_trip) >0:\n",
    "        ST.at['RH Empty Share Firts Trip', name] = np.count_nonzero(np.array(first_trip) == 0)/len(first_trip)\n",
    "        ST.at['RH Empty Share Last Trip', name] = np.count_nonzero(np.array(last_trip) == 0)/len(first_trip)\n",
    "        ST.at['RH not Empty Share Firts Trip', name] = np.count_nonzero(np.array(first_trip) == 1)/len(first_trip)\n",
    "        ST.at['RH not Empty Share Last Trip', name] = np.count_nonzero(np.array(last_trip) == 1)/len(first_trip)\n",
    "\n",
    "#----------RH - WC\n",
    "    if is_WC == True:\n",
    "        \n",
    "        start_RH = time.time()\n",
    "        print('Ride hail WC...',name)\n",
    "        \n",
    "        try:\n",
    "            rh_waittime_wc =rh_waittime[rh_waittime['rideHailVehicleId'].isin(list(wc_vehicles))]\n",
    "            ST.at['Number RH WC vehicles', name] = len(np.unique(list(rh_waittime_wc['rideHailVehicleId'])))\n",
    "            ST.at['AV Waiting Time RH WC', name] = np.mean(list(rh_waittime_wc['waitingTimeInSeconds']))\n",
    "            ST.at['AV Waiting Time RH WC Pooled', name] = np.mean(list(rh_waittime_wc[rh_waittime_wc['modeChoice']=='ride_hail_pooled']['waitingTimeInSeconds']))\n",
    "            ST.at['AV Waiting Time RH WC Single', name]  = np.mean(list(rh_waittime_wc[rh_waittime_wc['modeChoice']=='ride_hail']['waitingTimeInSeconds'])) \n",
    "        except:\n",
    "            print('WARNING: probably not modeChoice column on pd.read_csv(fp+data_name[:-13]+\\'rideHailIndividualWaitingTimes.csv\\'')\n",
    "\n",
    "        PTsRH = PTs[PTs['isRH_WC']]\n",
    "        ST.at['Empty Trips RH WC', name] = len(PTsRH['vehicle'][PTsRH['numPassengers']==0])\n",
    "        ST.at['Not Empty Trips RH WC', name] = len(PTsRH['vehicle'][PTsRH['numPassengers']>0])\n",
    "        if len(PTsRH['vehicle']) >0:\n",
    "            ST.at['Empty Trips RH WC Share', name] = len(PTsRH['vehicle'][PTsRH['numPassengers']==0])/len(PTsRH['vehicle'])\n",
    "            ST.at['Not Empty Trips RH WC Share', name] = len(PTsRH['vehicle'][PTsRH['numPassengers']>0])/len(PTsRH['vehicle'])\n",
    "\n",
    "        for code in codes:\n",
    "            ST.at[CtV[code]+' Trips per RH WC Vehicle', name] = DA(PTsRH['vehicle'].value_counts(), code)\n",
    "\n",
    "        rh_vehicles = pd.unique(PTsRH['vehicle'])\n",
    "        n_empty = []\n",
    "        n_notempty = []\n",
    "        first_trip = []\n",
    "        last_trip = []\n",
    "        wc_vehicles = []\n",
    "        for rh_vehicle in rh_vehicles:\n",
    "            PTs_rh_vehicle = PTsRH[PTsRH['vehicle']==rh_vehicle]\n",
    "            n_empty.append(len(PTs_rh_vehicle['vehicle'][PTs_rh_vehicle['numPassengers']==0]))\n",
    "            n_notempty.append(len(PTs_rh_vehicle['vehicle'][PTs_rh_vehicle['numPassengers']>0]))\n",
    "            PTs_rh_vehicle = PTs_rh_vehicle.sort_values(by='time', ascending=True)\n",
    "            first_trip.append(list(PTs_rh_vehicle['numPassengers'])[0])\n",
    "            last_trip.append(list(PTs_rh_vehicle['numPassengers'])[-1])\n",
    "            wc_vehicles.append(rh_vehicle)\n",
    "            \n",
    "        wc_vehicles = np.unique(wc_vehicles)\n",
    "\n",
    "        share_empty = np.array(n_empty)-np.array(n_notempty)\n",
    "        for code in codes:\n",
    "            ST.at[CtV[code]+' RH WC Vehicle (Empty - not Empty) Trips', name] = DA(share_empty, code)\n",
    "\n",
    "        if len(first_trip) >0:\n",
    "            ST.at['RH WC Empty Share Firts Trip', name] = np.count_nonzero(np.array(first_trip) == 0)/len(first_trip)\n",
    "            ST.at['RH WC Empty Share Last Trip', name] = np.count_nonzero(np.array(last_trip) == 0)/len(first_trip)\n",
    "            ST.at['RH WC not Empty Share Firts Trip', name] = np.count_nonzero(np.array(first_trip) == 1)/len(first_trip)\n",
    "            ST.at['RH WC not Empty Share Last Trip', name] = np.count_nonzero(np.array(last_trip) == 1)/len(first_trip)\n",
    "\n",
    "# #----------RH - Multi Agency\n",
    "    \n",
    "#     PTsRH['vehicle']\n",
    "#     RH_agencies = np.unique(PTsRH)\n",
    "\n",
    "            \n",
    "            \n",
    "    #Mode share per distance ranges\n",
    "    MCs = updateTransitMode(MCs)\n",
    "    gb = MCs[['mode','person', 'distBin']].groupby(['mode', 'distBin']).agg('size').unstack().fillna(0.0)\n",
    "    tot = gb.sum(axis=0)\n",
    "    gb = gb / gb.sum(axis=0)\n",
    "    gb.loc['total',:] = tot/tot.sum()\n",
    "    for mode in gb.index:\n",
    "        for key in gb.keys():\n",
    "            ST.at['Share Mode '+mode+' Miles '+key, name] = gb.at[mode,key]\n",
    "    \n",
    "    tripsPerPerson = (ASs[['person','actType']].groupby('actType').agg('size') / len(ASs['person'].value_counts())).to_dict()\n",
    "\n",
    "    for act in tripsPerPerson.keys():\n",
    "        ST.at['Activities AV per person '+act, name] = tripsPerPerson[act]\n",
    "\n",
    "    print(\"done\")\n",
    "\n",
    "    return ST"
   ]
  },
  {
   "cell_type": "code",
   "execution_count": 22,
   "id": "1a7aaaef",
   "metadata": {
    "tags": []
   },
   "outputs": [
    {
     "name": "stdout",
     "output_type": "stream",
     "text": [
      "Reading  gs://beam-core-outputs/sfbay-baseline2018-30pct-20230825/beam/year-2018-iteration-10/ITERS/it.0/0.events.csv.gz\n"
     ]
    },
    {
     "name": "stderr",
     "output_type": "stream",
     "text": [
      "/tmp/ipykernel_3853420/730053802.py:11: DtypeWarning: Columns (6,7,10,11,12,19,20,22,23,26,35,37,38,39,43,45,47,49,51,52,53,54,57) have mixed types. Specify dtype option on import or set low_memory=False.\n",
      "  for chunk in pd.read_csv(directory, chunksize=2500000, nrows = nrows):\n"
     ]
    },
    {
     "name": "stdout",
     "output_type": "stream",
     "text": [
      "9993 : len chunk PT\n",
      "7930 : after filtering zero-length PT\n",
      "54409 : len chunk PEV\n",
      "4634 : after filtering drivers\n",
      "136 : len chunk PLV\n",
      "136 : after filtering drivers\n"
     ]
    },
    {
     "name": "stderr",
     "output_type": "stream",
     "text": [
      "/tmp/ipykernel_3853420/730053802.py:11: DtypeWarning: Columns (20,30,41,43,57) have mixed types. Specify dtype option on import or set low_memory=False.\n",
      "  for chunk in pd.read_csv(directory, chunksize=2500000, nrows = nrows):\n"
     ]
    },
    {
     "name": "stdout",
     "output_type": "stream",
     "text": [
      "581110 : len chunk PT\n",
      "356313 : after filtering zero-length PT\n",
      "334158 : len chunk PEV\n",
      "334158 : after filtering drivers\n",
      "259582 : len chunk PLV\n",
      "259582 : after filtering drivers\n"
     ]
    },
    {
     "name": "stderr",
     "output_type": "stream",
     "text": [
      "/tmp/ipykernel_3853420/730053802.py:11: DtypeWarning: Columns (20,30,41,43,47,49,51,52,53,54,57) have mixed types. Specify dtype option on import or set low_memory=False.\n",
      "  for chunk in pd.read_csv(directory, chunksize=2500000, nrows = nrows):\n"
     ]
    },
    {
     "name": "stdout",
     "output_type": "stream",
     "text": [
      "575351 : len chunk PT\n",
      "367971 : after filtering zero-length PT\n",
      "325069 : len chunk PEV\n",
      "325069 : after filtering drivers\n",
      "269612 : len chunk PLV\n",
      "269612 : after filtering drivers\n"
     ]
    },
    {
     "name": "stderr",
     "output_type": "stream",
     "text": [
      "/tmp/ipykernel_3853420/730053802.py:11: DtypeWarning: Columns (20,30,41,43,47,49,51,52,53,54,57) have mixed types. Specify dtype option on import or set low_memory=False.\n",
      "  for chunk in pd.read_csv(directory, chunksize=2500000, nrows = nrows):\n"
     ]
    },
    {
     "name": "stdout",
     "output_type": "stream",
     "text": [
      "546408 : len chunk PT\n",
      "341051 : after filtering zero-length PT\n",
      "318856 : len chunk PEV\n",
      "318856 : after filtering drivers\n",
      "257774 : len chunk PLV\n",
      "257774 : after filtering drivers\n"
     ]
    },
    {
     "name": "stderr",
     "output_type": "stream",
     "text": [
      "/tmp/ipykernel_3853420/730053802.py:11: DtypeWarning: Columns (20,30,41,43,47,49,51,52,53,54,57) have mixed types. Specify dtype option on import or set low_memory=False.\n",
      "  for chunk in pd.read_csv(directory, chunksize=2500000, nrows = nrows):\n"
     ]
    },
    {
     "name": "stdout",
     "output_type": "stream",
     "text": [
      "555626 : len chunk PT\n",
      "360114 : after filtering zero-length PT\n",
      "304680 : len chunk PEV\n",
      "304680 : after filtering drivers\n",
      "277021 : len chunk PLV\n",
      "277021 : after filtering drivers\n"
     ]
    },
    {
     "name": "stderr",
     "output_type": "stream",
     "text": [
      "/tmp/ipykernel_3853420/730053802.py:11: DtypeWarning: Columns (20,30,41,43,47,49,51,52,53,54,57) have mixed types. Specify dtype option on import or set low_memory=False.\n",
      "  for chunk in pd.read_csv(directory, chunksize=2500000, nrows = nrows):\n"
     ]
    },
    {
     "name": "stdout",
     "output_type": "stream",
     "text": [
      "562693 : len chunk PT\n",
      "372592 : after filtering zero-length PT\n",
      "299132 : len chunk PEV\n",
      "299132 : after filtering drivers\n",
      "286175 : len chunk PLV\n",
      "286175 : after filtering drivers\n"
     ]
    },
    {
     "name": "stderr",
     "output_type": "stream",
     "text": [
      "/tmp/ipykernel_3853420/730053802.py:11: DtypeWarning: Columns (20,30,41,43,47,49,51,52,53,54,57) have mixed types. Specify dtype option on import or set low_memory=False.\n",
      "  for chunk in pd.read_csv(directory, chunksize=2500000, nrows = nrows):\n"
     ]
    },
    {
     "name": "stdout",
     "output_type": "stream",
     "text": [
      "539473 : len chunk PT\n",
      "353205 : after filtering zero-length PT\n",
      "305504 : len chunk PEV\n",
      "305504 : after filtering drivers\n",
      "273584 : len chunk PLV\n",
      "273584 : after filtering drivers\n"
     ]
    },
    {
     "name": "stderr",
     "output_type": "stream",
     "text": [
      "/tmp/ipykernel_3853420/730053802.py:11: DtypeWarning: Columns (20,30,41,43,47,49,51,52,53,54,57) have mixed types. Specify dtype option on import or set low_memory=False.\n",
      "  for chunk in pd.read_csv(directory, chunksize=2500000, nrows = nrows):\n"
     ]
    },
    {
     "name": "stdout",
     "output_type": "stream",
     "text": [
      "554763 : len chunk PT\n",
      "383894 : after filtering zero-length PT\n",
      "287932 : len chunk PEV\n",
      "287932 : after filtering drivers\n",
      "289727 : len chunk PLV\n",
      "289727 : after filtering drivers\n"
     ]
    },
    {
     "name": "stderr",
     "output_type": "stream",
     "text": [
      "/tmp/ipykernel_3853420/730053802.py:11: DtypeWarning: Columns (20,30,41,43,47,49,51,52,53,54,57) have mixed types. Specify dtype option on import or set low_memory=False.\n",
      "  for chunk in pd.read_csv(directory, chunksize=2500000, nrows = nrows):\n"
     ]
    },
    {
     "name": "stdout",
     "output_type": "stream",
     "text": [
      "547679 : len chunk PT\n",
      "375295 : after filtering zero-length PT\n",
      "298651 : len chunk PEV\n",
      "298651 : after filtering drivers\n",
      "283937 : len chunk PLV\n",
      "283937 : after filtering drivers\n"
     ]
    },
    {
     "name": "stderr",
     "output_type": "stream",
     "text": [
      "/tmp/ipykernel_3853420/730053802.py:11: DtypeWarning: Columns (20,30,41,43,47,49,51,52,53,54,57) have mixed types. Specify dtype option on import or set low_memory=False.\n",
      "  for chunk in pd.read_csv(directory, chunksize=2500000, nrows = nrows):\n"
     ]
    },
    {
     "name": "stdout",
     "output_type": "stream",
     "text": [
      "606064 : len chunk PT\n",
      "442694 : after filtering zero-length PT\n",
      "259118 : len chunk PEV\n",
      "259118 : after filtering drivers\n",
      "335548 : len chunk PLV\n",
      "335548 : after filtering drivers\n"
     ]
    },
    {
     "name": "stderr",
     "output_type": "stream",
     "text": [
      "/tmp/ipykernel_3853420/730053802.py:11: DtypeWarning: Columns (20,30,41,43,47,49,51,52,53,54,57) have mixed types. Specify dtype option on import or set low_memory=False.\n",
      "  for chunk in pd.read_csv(directory, chunksize=2500000, nrows = nrows):\n"
     ]
    },
    {
     "name": "stdout",
     "output_type": "stream",
     "text": [
      "597702 : len chunk PT\n",
      "438570 : after filtering zero-length PT\n",
      "280357 : len chunk PEV\n",
      "280357 : after filtering drivers\n",
      "318079 : len chunk PLV\n",
      "318079 : after filtering drivers\n"
     ]
    },
    {
     "name": "stderr",
     "output_type": "stream",
     "text": [
      "/tmp/ipykernel_3853420/730053802.py:11: DtypeWarning: Columns (20,30,41,43,47,49,51,52,53,54,57) have mixed types. Specify dtype option on import or set low_memory=False.\n",
      "  for chunk in pd.read_csv(directory, chunksize=2500000, nrows = nrows):\n"
     ]
    },
    {
     "name": "stdout",
     "output_type": "stream",
     "text": [
      "580495 : len chunk PT\n",
      "422568 : after filtering zero-length PT\n",
      "297150 : len chunk PEV\n",
      "297150 : after filtering drivers\n",
      "298309 : len chunk PLV\n",
      "298309 : after filtering drivers\n"
     ]
    },
    {
     "name": "stderr",
     "output_type": "stream",
     "text": [
      "/tmp/ipykernel_3853420/730053802.py:11: DtypeWarning: Columns (20,30,41,43,47,49,51,52,53,54,57) have mixed types. Specify dtype option on import or set low_memory=False.\n",
      "  for chunk in pd.read_csv(directory, chunksize=2500000, nrows = nrows):\n"
     ]
    },
    {
     "name": "stdout",
     "output_type": "stream",
     "text": [
      "582642 : len chunk PT\n",
      "434723 : after filtering zero-length PT\n",
      "297542 : len chunk PEV\n",
      "297542 : after filtering drivers\n",
      "292556 : len chunk PLV\n",
      "292556 : after filtering drivers\n"
     ]
    },
    {
     "name": "stderr",
     "output_type": "stream",
     "text": [
      "/tmp/ipykernel_3853420/730053802.py:11: DtypeWarning: Columns (20,30,41,43,47,49,51,52,53,54,57) have mixed types. Specify dtype option on import or set low_memory=False.\n",
      "  for chunk in pd.read_csv(directory, chunksize=2500000, nrows = nrows):\n"
     ]
    },
    {
     "name": "stdout",
     "output_type": "stream",
     "text": [
      "592734 : len chunk PT\n",
      "445742 : after filtering zero-length PT\n",
      "295564 : len chunk PEV\n",
      "295564 : after filtering drivers\n",
      "292960 : len chunk PLV\n",
      "292960 : after filtering drivers\n"
     ]
    },
    {
     "name": "stderr",
     "output_type": "stream",
     "text": [
      "/tmp/ipykernel_3853420/730053802.py:11: DtypeWarning: Columns (20,30,41,43,47,49,51,52,53,54,57) have mixed types. Specify dtype option on import or set low_memory=False.\n",
      "  for chunk in pd.read_csv(directory, chunksize=2500000, nrows = nrows):\n"
     ]
    },
    {
     "name": "stdout",
     "output_type": "stream",
     "text": [
      "580783 : len chunk PT\n",
      "429819 : after filtering zero-length PT\n",
      "290070 : len chunk PEV\n",
      "290070 : after filtering drivers\n",
      "297456 : len chunk PLV\n",
      "297456 : after filtering drivers\n"
     ]
    },
    {
     "name": "stderr",
     "output_type": "stream",
     "text": [
      "/tmp/ipykernel_3853420/730053802.py:11: DtypeWarning: Columns (20,30,41,43,47,49,51,52,53,54,57) have mixed types. Specify dtype option on import or set low_memory=False.\n",
      "  for chunk in pd.read_csv(directory, chunksize=2500000, nrows = nrows):\n"
     ]
    },
    {
     "name": "stdout",
     "output_type": "stream",
     "text": [
      "582756 : len chunk PT\n",
      "437093 : after filtering zero-length PT\n",
      "297607 : len chunk PEV\n",
      "297607 : after filtering drivers\n",
      "290852 : len chunk PLV\n",
      "290852 : after filtering drivers\n"
     ]
    },
    {
     "name": "stderr",
     "output_type": "stream",
     "text": [
      "/tmp/ipykernel_3853420/730053802.py:11: DtypeWarning: Columns (20,30,41,43,47,49,51,52,53,54,57) have mixed types. Specify dtype option on import or set low_memory=False.\n",
      "  for chunk in pd.read_csv(directory, chunksize=2500000, nrows = nrows):\n"
     ]
    },
    {
     "name": "stdout",
     "output_type": "stream",
     "text": [
      "584067 : len chunk PT\n",
      "438547 : after filtering zero-length PT\n",
      "292430 : len chunk PEV\n",
      "292430 : after filtering drivers\n",
      "293896 : len chunk PLV\n",
      "293896 : after filtering drivers\n"
     ]
    },
    {
     "name": "stderr",
     "output_type": "stream",
     "text": [
      "/tmp/ipykernel_3853420/730053802.py:11: DtypeWarning: Columns (20,30,41,43,47,49,51,52,53,54,57) have mixed types. Specify dtype option on import or set low_memory=False.\n",
      "  for chunk in pd.read_csv(directory, chunksize=2500000, nrows = nrows):\n"
     ]
    },
    {
     "name": "stdout",
     "output_type": "stream",
     "text": [
      "579197 : len chunk PT\n",
      "438358 : after filtering zero-length PT\n",
      "295811 : len chunk PEV\n",
      "295811 : after filtering drivers\n",
      "291538 : len chunk PLV\n",
      "291538 : after filtering drivers\n"
     ]
    },
    {
     "name": "stderr",
     "output_type": "stream",
     "text": [
      "/tmp/ipykernel_3853420/730053802.py:11: DtypeWarning: Columns (20,30,41,43,47,49,51,52,53,54,57) have mixed types. Specify dtype option on import or set low_memory=False.\n",
      "  for chunk in pd.read_csv(directory, chunksize=2500000, nrows = nrows):\n"
     ]
    },
    {
     "name": "stdout",
     "output_type": "stream",
     "text": [
      "572277 : len chunk PT\n",
      "433006 : after filtering zero-length PT\n",
      "304049 : len chunk PEV\n",
      "304049 : after filtering drivers\n",
      "281844 : len chunk PLV\n",
      "281844 : after filtering drivers\n"
     ]
    },
    {
     "name": "stderr",
     "output_type": "stream",
     "text": [
      "/tmp/ipykernel_3853420/730053802.py:11: DtypeWarning: Columns (20,30,41,43,47,49,51,52,53,54,57) have mixed types. Specify dtype option on import or set low_memory=False.\n",
      "  for chunk in pd.read_csv(directory, chunksize=2500000, nrows = nrows):\n"
     ]
    },
    {
     "name": "stdout",
     "output_type": "stream",
     "text": [
      "583980 : len chunk PT\n",
      "446937 : after filtering zero-length PT\n",
      "292857 : len chunk PEV\n",
      "292857 : after filtering drivers\n",
      "294033 : len chunk PLV\n",
      "294033 : after filtering drivers\n"
     ]
    },
    {
     "name": "stderr",
     "output_type": "stream",
     "text": [
      "/tmp/ipykernel_3853420/730053802.py:11: DtypeWarning: Columns (20,30,41,43,47,49,51,52,53,54,57) have mixed types. Specify dtype option on import or set low_memory=False.\n",
      "  for chunk in pd.read_csv(directory, chunksize=2500000, nrows = nrows):\n"
     ]
    },
    {
     "name": "stdout",
     "output_type": "stream",
     "text": [
      "570475 : len chunk PT\n",
      "428858 : after filtering zero-length PT\n",
      "294765 : len chunk PEV\n",
      "294765 : after filtering drivers\n",
      "293941 : len chunk PLV\n",
      "293941 : after filtering drivers\n"
     ]
    },
    {
     "name": "stderr",
     "output_type": "stream",
     "text": [
      "/tmp/ipykernel_3853420/730053802.py:11: DtypeWarning: Columns (20,30,41,43,47,49,51,52,53,54,57) have mixed types. Specify dtype option on import or set low_memory=False.\n",
      "  for chunk in pd.read_csv(directory, chunksize=2500000, nrows = nrows):\n"
     ]
    },
    {
     "name": "stdout",
     "output_type": "stream",
     "text": [
      "579681 : len chunk PT\n",
      "443581 : after filtering zero-length PT\n",
      "284897 : len chunk PEV\n",
      "284897 : after filtering drivers\n",
      "296206 : len chunk PLV\n",
      "296206 : after filtering drivers\n"
     ]
    },
    {
     "name": "stderr",
     "output_type": "stream",
     "text": [
      "/tmp/ipykernel_3853420/730053802.py:11: DtypeWarning: Columns (20,30,41,43,47,49,51,52,53,54,57) have mixed types. Specify dtype option on import or set low_memory=False.\n",
      "  for chunk in pd.read_csv(directory, chunksize=2500000, nrows = nrows):\n"
     ]
    },
    {
     "name": "stdout",
     "output_type": "stream",
     "text": [
      "568793 : len chunk PT\n",
      "435622 : after filtering zero-length PT\n",
      "289132 : len chunk PEV\n",
      "289132 : after filtering drivers\n",
      "289127 : len chunk PLV\n",
      "289127 : after filtering drivers\n"
     ]
    },
    {
     "name": "stderr",
     "output_type": "stream",
     "text": [
      "/tmp/ipykernel_3853420/730053802.py:11: DtypeWarning: Columns (20,30,41,43,47,49,51,52,53,54,57) have mixed types. Specify dtype option on import or set low_memory=False.\n",
      "  for chunk in pd.read_csv(directory, chunksize=2500000, nrows = nrows):\n"
     ]
    },
    {
     "name": "stdout",
     "output_type": "stream",
     "text": [
      "559959 : len chunk PT\n",
      "429358 : after filtering zero-length PT\n",
      "299226 : len chunk PEV\n",
      "299226 : after filtering drivers\n",
      "278295 : len chunk PLV\n",
      "278295 : after filtering drivers\n"
     ]
    },
    {
     "name": "stderr",
     "output_type": "stream",
     "text": [
      "/tmp/ipykernel_3853420/730053802.py:11: DtypeWarning: Columns (20,30,41,43,47,49,51,52,53,54,57) have mixed types. Specify dtype option on import or set low_memory=False.\n",
      "  for chunk in pd.read_csv(directory, chunksize=2500000, nrows = nrows):\n"
     ]
    },
    {
     "name": "stdout",
     "output_type": "stream",
     "text": [
      "553934 : len chunk PT\n",
      "424775 : after filtering zero-length PT\n",
      "290209 : len chunk PEV\n",
      "290209 : after filtering drivers\n",
      "281110 : len chunk PLV\n",
      "281110 : after filtering drivers\n"
     ]
    },
    {
     "name": "stderr",
     "output_type": "stream",
     "text": [
      "/tmp/ipykernel_3853420/730053802.py:11: DtypeWarning: Columns (20,30,41,43,47,49,51,52,53,54,57) have mixed types. Specify dtype option on import or set low_memory=False.\n",
      "  for chunk in pd.read_csv(directory, chunksize=2500000, nrows = nrows):\n"
     ]
    },
    {
     "name": "stdout",
     "output_type": "stream",
     "text": [
      "560174 : len chunk PT\n",
      "431511 : after filtering zero-length PT\n",
      "284632 : len chunk PEV\n",
      "284632 : after filtering drivers\n",
      "287920 : len chunk PLV\n",
      "287920 : after filtering drivers\n"
     ]
    },
    {
     "name": "stderr",
     "output_type": "stream",
     "text": [
      "/tmp/ipykernel_3853420/730053802.py:11: DtypeWarning: Columns (20,30,41,43,47,49,51,52,53,54,57) have mixed types. Specify dtype option on import or set low_memory=False.\n",
      "  for chunk in pd.read_csv(directory, chunksize=2500000, nrows = nrows):\n"
     ]
    },
    {
     "name": "stdout",
     "output_type": "stream",
     "text": [
      "561454 : len chunk PT\n",
      "432038 : after filtering zero-length PT\n",
      "302789 : len chunk PEV\n",
      "302789 : after filtering drivers\n",
      "284000 : len chunk PLV\n",
      "284000 : after filtering drivers\n"
     ]
    },
    {
     "name": "stderr",
     "output_type": "stream",
     "text": [
      "/tmp/ipykernel_3853420/730053802.py:11: DtypeWarning: Columns (20,30,41,43,47,49,51,52,53,54,57) have mixed types. Specify dtype option on import or set low_memory=False.\n",
      "  for chunk in pd.read_csv(directory, chunksize=2500000, nrows = nrows):\n"
     ]
    },
    {
     "name": "stdout",
     "output_type": "stream",
     "text": [
      "570452 : len chunk PT\n",
      "440043 : after filtering zero-length PT\n",
      "295817 : len chunk PEV\n",
      "295817 : after filtering drivers\n",
      "291102 : len chunk PLV\n",
      "291102 : after filtering drivers\n"
     ]
    },
    {
     "name": "stderr",
     "output_type": "stream",
     "text": [
      "/tmp/ipykernel_3853420/730053802.py:11: DtypeWarning: Columns (20,30,41,43,47,49,51,52,53,54,57) have mixed types. Specify dtype option on import or set low_memory=False.\n",
      "  for chunk in pd.read_csv(directory, chunksize=2500000, nrows = nrows):\n"
     ]
    },
    {
     "name": "stdout",
     "output_type": "stream",
     "text": [
      "578025 : len chunk PT\n",
      "448587 : after filtering zero-length PT\n",
      "293797 : len chunk PEV\n",
      "293797 : after filtering drivers\n",
      "293584 : len chunk PLV\n",
      "293584 : after filtering drivers\n"
     ]
    },
    {
     "name": "stderr",
     "output_type": "stream",
     "text": [
      "/tmp/ipykernel_3853420/730053802.py:11: DtypeWarning: Columns (20,30,41,43,47,49,51,52,53,54,57) have mixed types. Specify dtype option on import or set low_memory=False.\n",
      "  for chunk in pd.read_csv(directory, chunksize=2500000, nrows = nrows):\n"
     ]
    },
    {
     "name": "stdout",
     "output_type": "stream",
     "text": [
      "556838 : len chunk PT\n",
      "429448 : after filtering zero-length PT\n",
      "318324 : len chunk PEV\n",
      "318324 : after filtering drivers\n",
      "273166 : len chunk PLV\n",
      "273166 : after filtering drivers\n"
     ]
    },
    {
     "name": "stderr",
     "output_type": "stream",
     "text": [
      "/tmp/ipykernel_3853420/730053802.py:11: DtypeWarning: Columns (20,30,41,43,47,49,51,52,53,54,57) have mixed types. Specify dtype option on import or set low_memory=False.\n",
      "  for chunk in pd.read_csv(directory, chunksize=2500000, nrows = nrows):\n"
     ]
    },
    {
     "name": "stdout",
     "output_type": "stream",
     "text": [
      "567962 : len chunk PT\n",
      "436394 : after filtering zero-length PT\n",
      "303921 : len chunk PEV\n",
      "303921 : after filtering drivers\n",
      "289695 : len chunk PLV\n",
      "289695 : after filtering drivers\n"
     ]
    },
    {
     "name": "stderr",
     "output_type": "stream",
     "text": [
      "/tmp/ipykernel_3853420/730053802.py:11: DtypeWarning: Columns (20,30,41,43,47,49,51,52,53,54,57) have mixed types. Specify dtype option on import or set low_memory=False.\n",
      "  for chunk in pd.read_csv(directory, chunksize=2500000, nrows = nrows):\n"
     ]
    },
    {
     "name": "stdout",
     "output_type": "stream",
     "text": [
      "580573 : len chunk PT\n",
      "452712 : after filtering zero-length PT\n",
      "296507 : len chunk PEV\n",
      "296507 : after filtering drivers\n",
      "297117 : len chunk PLV\n",
      "297117 : after filtering drivers\n"
     ]
    },
    {
     "name": "stderr",
     "output_type": "stream",
     "text": [
      "/tmp/ipykernel_3853420/730053802.py:11: DtypeWarning: Columns (20,30,41,43,47,49,51,52,53,54,57) have mixed types. Specify dtype option on import or set low_memory=False.\n",
      "  for chunk in pd.read_csv(directory, chunksize=2500000, nrows = nrows):\n"
     ]
    },
    {
     "name": "stdout",
     "output_type": "stream",
     "text": [
      "569909 : len chunk PT\n",
      "436677 : after filtering zero-length PT\n",
      "304353 : len chunk PEV\n",
      "304353 : after filtering drivers\n",
      "291497 : len chunk PLV\n",
      "291497 : after filtering drivers\n"
     ]
    },
    {
     "name": "stderr",
     "output_type": "stream",
     "text": [
      "/tmp/ipykernel_3853420/730053802.py:11: DtypeWarning: Columns (20,30,41,43,47,49,51,52,53,54,57) have mixed types. Specify dtype option on import or set low_memory=False.\n",
      "  for chunk in pd.read_csv(directory, chunksize=2500000, nrows = nrows):\n"
     ]
    },
    {
     "name": "stdout",
     "output_type": "stream",
     "text": [
      "575819 : len chunk PT\n",
      "446064 : after filtering zero-length PT\n",
      "302814 : len chunk PEV\n",
      "302814 : after filtering drivers\n",
      "294725 : len chunk PLV\n",
      "294725 : after filtering drivers\n"
     ]
    },
    {
     "name": "stderr",
     "output_type": "stream",
     "text": [
      "/tmp/ipykernel_3853420/730053802.py:11: DtypeWarning: Columns (20,30,41,43,47,49,51,52,53,54,57) have mixed types. Specify dtype option on import or set low_memory=False.\n",
      "  for chunk in pd.read_csv(directory, chunksize=2500000, nrows = nrows):\n"
     ]
    },
    {
     "name": "stdout",
     "output_type": "stream",
     "text": [
      "579097 : len chunk PT\n",
      "449286 : after filtering zero-length PT\n",
      "295035 : len chunk PEV\n",
      "295035 : after filtering drivers\n",
      "299467 : len chunk PLV\n",
      "299467 : after filtering drivers\n"
     ]
    },
    {
     "name": "stderr",
     "output_type": "stream",
     "text": [
      "/tmp/ipykernel_3853420/730053802.py:11: DtypeWarning: Columns (20,30,41,43,47,49,51,52,53,54,57) have mixed types. Specify dtype option on import or set low_memory=False.\n",
      "  for chunk in pd.read_csv(directory, chunksize=2500000, nrows = nrows):\n"
     ]
    },
    {
     "name": "stdout",
     "output_type": "stream",
     "text": [
      "594386 : len chunk PT\n",
      "453871 : after filtering zero-length PT\n",
      "277168 : len chunk PEV\n",
      "277168 : after filtering drivers\n",
      "320238 : len chunk PLV\n",
      "320238 : after filtering drivers\n"
     ]
    },
    {
     "name": "stderr",
     "output_type": "stream",
     "text": [
      "/tmp/ipykernel_3853420/730053802.py:11: DtypeWarning: Columns (20,30,41,43,47,49,51,52,53,54,57) have mixed types. Specify dtype option on import or set low_memory=False.\n",
      "  for chunk in pd.read_csv(directory, chunksize=2500000, nrows = nrows):\n"
     ]
    },
    {
     "name": "stdout",
     "output_type": "stream",
     "text": [
      "613038 : len chunk PT\n",
      "473174 : after filtering zero-length PT\n",
      "267099 : len chunk PEV\n",
      "267099 : after filtering drivers\n",
      "336123 : len chunk PLV\n",
      "336123 : after filtering drivers\n"
     ]
    },
    {
     "name": "stderr",
     "output_type": "stream",
     "text": [
      "/tmp/ipykernel_3853420/730053802.py:11: DtypeWarning: Columns (20,30,41,43,47,49,51,52,53,54,57) have mixed types. Specify dtype option on import or set low_memory=False.\n",
      "  for chunk in pd.read_csv(directory, chunksize=2500000, nrows = nrows):\n"
     ]
    },
    {
     "name": "stdout",
     "output_type": "stream",
     "text": [
      "592954 : len chunk PT\n",
      "458871 : after filtering zero-length PT\n",
      "285947 : len chunk PEV\n",
      "285947 : after filtering drivers\n",
      "311978 : len chunk PLV\n",
      "311978 : after filtering drivers\n"
     ]
    },
    {
     "name": "stderr",
     "output_type": "stream",
     "text": [
      "/tmp/ipykernel_3853420/730053802.py:11: DtypeWarning: Columns (20,30,41,43,47,49,51,52,53,54,57) have mixed types. Specify dtype option on import or set low_memory=False.\n",
      "  for chunk in pd.read_csv(directory, chunksize=2500000, nrows = nrows):\n"
     ]
    },
    {
     "name": "stdout",
     "output_type": "stream",
     "text": [
      "584769 : len chunk PT\n",
      "451984 : after filtering zero-length PT\n",
      "289031 : len chunk PEV\n",
      "289031 : after filtering drivers\n",
      "304236 : len chunk PLV\n",
      "304236 : after filtering drivers\n"
     ]
    },
    {
     "name": "stderr",
     "output_type": "stream",
     "text": [
      "/tmp/ipykernel_3853420/730053802.py:11: DtypeWarning: Columns (20,30,41,43,47,49,51,52,53,54,57) have mixed types. Specify dtype option on import or set low_memory=False.\n",
      "  for chunk in pd.read_csv(directory, chunksize=2500000, nrows = nrows):\n"
     ]
    },
    {
     "name": "stdout",
     "output_type": "stream",
     "text": [
      "582602 : len chunk PT\n",
      "450364 : after filtering zero-length PT\n",
      "290239 : len chunk PEV\n",
      "290239 : after filtering drivers\n",
      "299904 : len chunk PLV\n",
      "299904 : after filtering drivers\n"
     ]
    },
    {
     "name": "stderr",
     "output_type": "stream",
     "text": [
      "/tmp/ipykernel_3853420/730053802.py:11: DtypeWarning: Columns (20,30,41,43,47,49,51,52,53,54) have mixed types. Specify dtype option on import or set low_memory=False.\n",
      "  for chunk in pd.read_csv(directory, chunksize=2500000, nrows = nrows):\n"
     ]
    },
    {
     "name": "stdout",
     "output_type": "stream",
     "text": [
      "591546 : len chunk PT\n",
      "453351 : after filtering zero-length PT\n",
      "275386 : len chunk PEV\n",
      "275386 : after filtering drivers\n",
      "314923 : len chunk PLV\n",
      "314923 : after filtering drivers\n"
     ]
    },
    {
     "name": "stderr",
     "output_type": "stream",
     "text": [
      "/tmp/ipykernel_3853420/730053802.py:11: DtypeWarning: Columns (20,43,57) have mixed types. Specify dtype option on import or set low_memory=False.\n",
      "  for chunk in pd.read_csv(directory, chunksize=2500000, nrows = nrows):\n"
     ]
    },
    {
     "name": "stdout",
     "output_type": "stream",
     "text": [
      "616932 : len chunk PT\n",
      "478926 : after filtering zero-length PT\n",
      "270895 : len chunk PEV\n",
      "270895 : after filtering drivers\n",
      "324757 : len chunk PLV\n",
      "324757 : after filtering drivers\n"
     ]
    },
    {
     "name": "stderr",
     "output_type": "stream",
     "text": [
      "/tmp/ipykernel_3853420/730053802.py:11: DtypeWarning: Columns (30,41,43) have mixed types. Specify dtype option on import or set low_memory=False.\n",
      "  for chunk in pd.read_csv(directory, chunksize=2500000, nrows = nrows):\n"
     ]
    },
    {
     "name": "stdout",
     "output_type": "stream",
     "text": [
      "209636 : len chunk PT\n",
      "166321 : after filtering zero-length PT\n",
      "59202 : len chunk PEV\n",
      "59202 : after filtering drivers\n",
      "114562 : len chunk PLV\n",
      "114562 : after filtering drivers\n",
      "12152356 :len PEVs\n",
      "12152292 :len PLVs\n",
      "17678238 :len PTs\n",
      "7547683 :len MCs\n",
      "150210 :len RPs\n",
      "7455103 :len ASs\n"
     ]
    },
    {
     "name": "stderr",
     "output_type": "stream",
     "text": [
      "/tmp/ipykernel_3853420/3791711208.py:17: UserWarning: evaluating in Python space because the '*' operator is not supported by numexpr for the bool dtype, use '&' instead.\n",
      "  PTs['is_RHempty'] = PTs['isRH']*PTs['is_empty']\n",
      "/tmp/ipykernel_3853420/3791711208.py:48: UserWarning: evaluating in Python space because the '*' operator is not supported by numexpr for the bool dtype, use '&' instead.\n",
      "  PTs['is_'+tm+'_empty'] = PTs['is'+tm]*PTs['is_empty']\n",
      "/tmp/ipykernel_3853420/3791711208.py:48: UserWarning: evaluating in Python space because the '*' operator is not supported by numexpr for the bool dtype, use '&' instead.\n",
      "  PTs['is_'+tm+'_empty'] = PTs['is'+tm]*PTs['is_empty']\n",
      "/tmp/ipykernel_3853420/3791711208.py:48: UserWarning: evaluating in Python space because the '*' operator is not supported by numexpr for the bool dtype, use '&' instead.\n",
      "  PTs['is_'+tm+'_empty'] = PTs['is'+tm]*PTs['is_empty']\n",
      "/tmp/ipykernel_3853420/3791711208.py:48: UserWarning: evaluating in Python space because the '*' operator is not supported by numexpr for the bool dtype, use '&' instead.\n",
      "  PTs['is_'+tm+'_empty'] = PTs['is'+tm]*PTs['is_empty']\n",
      "/tmp/ipykernel_3853420/3791711208.py:48: UserWarning: evaluating in Python space because the '*' operator is not supported by numexpr for the bool dtype, use '&' instead.\n",
      "  PTs['is_'+tm+'_empty'] = PTs['is'+tm]*PTs['is_empty']\n",
      "/tmp/ipykernel_3853420/3791711208.py:48: UserWarning: evaluating in Python space because the '*' operator is not supported by numexpr for the bool dtype, use '&' instead.\n",
      "  PTs['is_'+tm+'_empty'] = PTs['is'+tm]*PTs['is_empty']\n"
     ]
    },
    {
     "name": "stdout",
     "output_type": "stream",
     "text": [
      "processPlans...\n",
      "gs://beam-core-outputs/sfbay-baseline2018-30pct-20230825/beam/year-2018-iteration-10/ITERS/it.0/0.plans.csv.gz\n",
      "addTimesToPlans...\n",
      "Total time: 9.48042345046997\n",
      "Total time: 785.8943254947662\n",
      "personToPathTraversal...\n",
      "expected PtoPTs from occupancy  car 7330012\n",
      "expected PtoPTs from occupancy  walk 6208785\n",
      "expected PtoPTs from occupancy  car_hov2 1053324.0\n",
      "expected PtoPTs from occupancy  bus 4258608\n",
      "expected PtoPTs from occupancy  car_hov3 754932.0\n",
      "expected PtoPTs from occupancy  bus_empty 0\n",
      "expected PtoPTs from occupancy  car_emer 414137\n",
      "expected PtoPTs from occupancy  car_hov2_emer 128676\n",
      "expected PtoPTs from occupancy  car_RideHail_empty 0\n",
      "expected PtoPTs from occupancy  car_RideHail 110789\n",
      "expected PtoPTs from occupancy  bike 105769\n",
      "expected PtoPTs from occupancy  car_hov3_emer 89636\n",
      "expected PtoPTs from occupancy  tram 365671\n",
      "expected PtoPTs from occupancy  cable_car 41051\n",
      "expected PtoPTs from occupancy  subway 625754\n",
      "expected PtoPTs from occupancy  tram_empty 0\n",
      "expected PtoPTs from occupancy  cable_car_empty 0\n",
      "expected PtoPTs from occupancy  rail 21705\n",
      "expected PtoPTs from occupancy  subway_empty 0\n",
      "expected PtoPTs from occupancy  rail_empty 0\n",
      "expected PtoPTs from occupancy  ferry_empty 0\n",
      "expected PtoPTs from occupancy  ferry 39\n",
      "expected PtoPTs from occupancy TOT =  21508888.0\n",
      "len of PEV =  12152356\n",
      "len of PLV =  12152292\n",
      "len PtoPTs after matching agents and vehicles bike 105773\n",
      "len PtoPTs after matching agents and vehicles bus 4258767\n",
      "len PtoPTs after matching agents and vehicles bus_empty 17\n",
      "len PtoPTs after matching agents and vehicles cable_car 41051\n",
      "len PtoPTs after matching agents and vehicles car 7330285\n",
      "len PtoPTs after matching agents and vehicles car_RideHail 111586\n",
      "len PtoPTs after matching agents and vehicles car_RideHail_empty 1036\n",
      "len PtoPTs after matching agents and vehicles car_emer 414094\n",
      "len PtoPTs after matching agents and vehicles car_hov2 1053447\n",
      "len PtoPTs after matching agents and vehicles car_hov2_emer 128687\n",
      "len PtoPTs after matching agents and vehicles car_hov3 754981\n",
      "len PtoPTs after matching agents and vehicles car_hov3_emer 89647\n",
      "len PtoPTs after matching agents and vehicles ferry 39\n",
      "len PtoPTs after matching agents and vehicles rail 21705\n",
      "len PtoPTs after matching agents and vehicles subway 625754\n",
      "len PtoPTs after matching agents and vehicles tram 365671\n",
      "len PtoPTs after matching agents and vehicles walk 6209170\n",
      "no legs found: 116328\n",
      "no legs found after time check: 1144051\n",
      "no vehicle body found, probably because with zero duration (discarded by PT): 116328\n",
      "no vehicle body found after time check, probably because with zero duration (discarded by PT): 1144051\n",
      "Tot created PtoPTs =  21511710\n",
      "Total time: 2491.2646651268005\n",
      "Number Trips... Baseline\n",
      "Share Trips... Baseline\n",
      "Lengths Vehicles... Baseline\n",
      "Lengths Persons... Baseline\n",
      "Lengths Modes... Baseline\n",
      "Durations Vehicle... Baseline\n",
      "Durations Person... Baseline\n",
      "Speeds Vehicle... Baseline\n",
      "1.1660    11349712\n",
      "1.0000     6208785\n",
      "1.3958      100166\n",
      "1.1252       19575\n",
      "Name: routee correction, dtype: int64\n",
      "Energy Usage Vehicle... Baseline\n",
      "Trip Gallons Vehicle... Baseline\n",
      "Occupancy Vehicle... Baseline\n",
      "Ridership Transit... Baseline\n",
      "Ride hail... Baseline\n",
      "done\n",
      "Total Time 5589.571802377701\n",
      "                                   Baseline\n",
      "Activities AV per person othmaint  0.234309\n",
      "Activities AV per person school    0.194917\n",
      "Activities AV per person shopping  0.383451\n",
      "Activities AV per person social    0.093801\n",
      "Activities AV per person univ      0.044876\n",
      "Activities AV per person work      0.530352 Number of attributes 4861\n",
      "writing results on gs://beam-core-outputs/sfbay-baseline2018-30pct-20230825/postprocessOutputs/year-2018-iteration-10\n",
      "File uploaded successfully.\n",
      "Reading  gs://beam-core-outputs/sfbay-tr-30pct-20231014/beam/year-2018-iteration-10/ITERS/it.0/0.events.csv.gz\n"
     ]
    },
    {
     "name": "stderr",
     "output_type": "stream",
     "text": [
      "/tmp/ipykernel_3853420/730053802.py:11: DtypeWarning: Columns (1,2,3,4,8,11,17,23,24,28,29,30,32,34,37,38,39,40,42,46,47,54,56) have mixed types. Specify dtype option on import or set low_memory=False.\n",
      "  for chunk in pd.read_csv(directory, chunksize=2500000, nrows = nrows):\n"
     ]
    },
    {
     "name": "stdout",
     "output_type": "stream",
     "text": [
      "10242 : len chunk PT\n",
      "8273 : after filtering zero-length PT\n",
      "54535 : len chunk PEV\n",
      "4534 : after filtering drivers\n",
      "37 : len chunk PLV\n",
      "37 : after filtering drivers\n"
     ]
    },
    {
     "name": "stderr",
     "output_type": "stream",
     "text": [
      "/tmp/ipykernel_3853420/730053802.py:11: DtypeWarning: Columns (1,7,17,42,48) have mixed types. Specify dtype option on import or set low_memory=False.\n",
      "  for chunk in pd.read_csv(directory, chunksize=2500000, nrows = nrows):\n"
     ]
    },
    {
     "name": "stdout",
     "output_type": "stream",
     "text": [
      "581516 : len chunk PT\n",
      "356884 : after filtering zero-length PT\n",
      "334148 : len chunk PEV\n",
      "334148 : after filtering drivers\n",
      "260390 : len chunk PLV\n",
      "260390 : after filtering drivers\n"
     ]
    },
    {
     "name": "stderr",
     "output_type": "stream",
     "text": [
      "/tmp/ipykernel_3853420/730053802.py:11: DtypeWarning: Columns (1,7,17,32,34,37,38,39,40,42,48) have mixed types. Specify dtype option on import or set low_memory=False.\n",
      "  for chunk in pd.read_csv(directory, chunksize=2500000, nrows = nrows):\n"
     ]
    },
    {
     "name": "stdout",
     "output_type": "stream",
     "text": [
      "575422 : len chunk PT\n",
      "367224 : after filtering zero-length PT\n",
      "327286 : len chunk PEV\n",
      "327286 : after filtering drivers\n",
      "268062 : len chunk PLV\n",
      "268062 : after filtering drivers\n"
     ]
    },
    {
     "name": "stderr",
     "output_type": "stream",
     "text": [
      "/tmp/ipykernel_3853420/730053802.py:11: DtypeWarning: Columns (1,7,17,32,34,37,38,39,40,48) have mixed types. Specify dtype option on import or set low_memory=False.\n",
      "  for chunk in pd.read_csv(directory, chunksize=2500000, nrows = nrows):\n"
     ]
    },
    {
     "name": "stdout",
     "output_type": "stream",
     "text": [
      "543532 : len chunk PT\n",
      "340448 : after filtering zero-length PT\n",
      "320434 : len chunk PEV\n",
      "320434 : after filtering drivers\n",
      "255131 : len chunk PLV\n",
      "255131 : after filtering drivers\n"
     ]
    },
    {
     "name": "stderr",
     "output_type": "stream",
     "text": [
      "/tmp/ipykernel_3853420/730053802.py:11: DtypeWarning: Columns (1,7,17,32,34,37,38,39,40,48) have mixed types. Specify dtype option on import or set low_memory=False.\n",
      "  for chunk in pd.read_csv(directory, chunksize=2500000, nrows = nrows):\n"
     ]
    },
    {
     "name": "stdout",
     "output_type": "stream",
     "text": [
      "561249 : len chunk PT\n",
      "366302 : after filtering zero-length PT\n",
      "300555 : len chunk PEV\n",
      "300555 : after filtering drivers\n",
      "280819 : len chunk PLV\n",
      "280819 : after filtering drivers\n"
     ]
    },
    {
     "name": "stderr",
     "output_type": "stream",
     "text": [
      "/tmp/ipykernel_3853420/730053802.py:11: DtypeWarning: Columns (1,7,17,32,34,37,38,39,40,42,48) have mixed types. Specify dtype option on import or set low_memory=False.\n",
      "  for chunk in pd.read_csv(directory, chunksize=2500000, nrows = nrows):\n"
     ]
    },
    {
     "name": "stdout",
     "output_type": "stream",
     "text": [
      "558620 : len chunk PT\n",
      "367595 : after filtering zero-length PT\n",
      "306074 : len chunk PEV\n",
      "306074 : after filtering drivers\n",
      "282610 : len chunk PLV\n",
      "282610 : after filtering drivers\n"
     ]
    },
    {
     "name": "stderr",
     "output_type": "stream",
     "text": [
      "/tmp/ipykernel_3853420/730053802.py:11: DtypeWarning: Columns (1,7,17,32,34,37,38,39,40,42,48) have mixed types. Specify dtype option on import or set low_memory=False.\n",
      "  for chunk in pd.read_csv(directory, chunksize=2500000, nrows = nrows):\n"
     ]
    },
    {
     "name": "stdout",
     "output_type": "stream",
     "text": [
      "547676 : len chunk PT\n",
      "363774 : after filtering zero-length PT\n",
      "300946 : len chunk PEV\n",
      "300946 : after filtering drivers\n",
      "280105 : len chunk PLV\n",
      "280105 : after filtering drivers\n"
     ]
    },
    {
     "name": "stderr",
     "output_type": "stream",
     "text": [
      "/tmp/ipykernel_3853420/730053802.py:11: DtypeWarning: Columns (1,7,17,32,34,37,38,39,40,48) have mixed types. Specify dtype option on import or set low_memory=False.\n",
      "  for chunk in pd.read_csv(directory, chunksize=2500000, nrows = nrows):\n"
     ]
    },
    {
     "name": "stdout",
     "output_type": "stream",
     "text": [
      "552572 : len chunk PT\n",
      "375534 : after filtering zero-length PT\n",
      "291881 : len chunk PEV\n",
      "291881 : after filtering drivers\n",
      "289876 : len chunk PLV\n",
      "289876 : after filtering drivers\n"
     ]
    },
    {
     "name": "stderr",
     "output_type": "stream",
     "text": [
      "/tmp/ipykernel_3853420/730053802.py:11: DtypeWarning: Columns (1,7,17,32,34,37,38,39,40,42,48) have mixed types. Specify dtype option on import or set low_memory=False.\n",
      "  for chunk in pd.read_csv(directory, chunksize=2500000, nrows = nrows):\n"
     ]
    },
    {
     "name": "stdout",
     "output_type": "stream",
     "text": [
      "554634 : len chunk PT\n",
      "387013 : after filtering zero-length PT\n",
      "288989 : len chunk PEV\n",
      "288989 : after filtering drivers\n",
      "292095 : len chunk PLV\n",
      "292095 : after filtering drivers\n"
     ]
    },
    {
     "name": "stderr",
     "output_type": "stream",
     "text": [
      "/tmp/ipykernel_3853420/730053802.py:11: DtypeWarning: Columns (1,7,17,32,34,37,38,39,40,42,48) have mixed types. Specify dtype option on import or set low_memory=False.\n",
      "  for chunk in pd.read_csv(directory, chunksize=2500000, nrows = nrows):\n"
     ]
    },
    {
     "name": "stdout",
     "output_type": "stream",
     "text": [
      "606935 : len chunk PT\n",
      "442715 : after filtering zero-length PT\n",
      "267596 : len chunk PEV\n",
      "267596 : after filtering drivers\n",
      "331185 : len chunk PLV\n",
      "331185 : after filtering drivers\n"
     ]
    },
    {
     "name": "stderr",
     "output_type": "stream",
     "text": [
      "/tmp/ipykernel_3853420/730053802.py:11: DtypeWarning: Columns (1,7,17,32,34,37,38,39,40,42,48) have mixed types. Specify dtype option on import or set low_memory=False.\n",
      "  for chunk in pd.read_csv(directory, chunksize=2500000, nrows = nrows):\n"
     ]
    },
    {
     "name": "stdout",
     "output_type": "stream",
     "text": [
      "588700 : len chunk PT\n",
      "424863 : after filtering zero-length PT\n",
      "283135 : len chunk PEV\n",
      "283135 : after filtering drivers\n",
      "318396 : len chunk PLV\n",
      "318396 : after filtering drivers\n"
     ]
    },
    {
     "name": "stderr",
     "output_type": "stream",
     "text": [
      "/tmp/ipykernel_3853420/730053802.py:11: DtypeWarning: Columns (1,7,17,32,34,37,38,39,40,42,48) have mixed types. Specify dtype option on import or set low_memory=False.\n",
      "  for chunk in pd.read_csv(directory, chunksize=2500000, nrows = nrows):\n"
     ]
    },
    {
     "name": "stdout",
     "output_type": "stream",
     "text": [
      "584372 : len chunk PT\n",
      "430787 : after filtering zero-length PT\n",
      "299509 : len chunk PEV\n",
      "299509 : after filtering drivers\n",
      "295649 : len chunk PLV\n",
      "295649 : after filtering drivers\n"
     ]
    },
    {
     "name": "stderr",
     "output_type": "stream",
     "text": [
      "/tmp/ipykernel_3853420/730053802.py:11: DtypeWarning: Columns (1,7,17,32,34,37,38,39,40,42,48) have mixed types. Specify dtype option on import or set low_memory=False.\n",
      "  for chunk in pd.read_csv(directory, chunksize=2500000, nrows = nrows):\n"
     ]
    },
    {
     "name": "stdout",
     "output_type": "stream",
     "text": [
      "596282 : len chunk PT\n",
      "447468 : after filtering zero-length PT\n",
      "289692 : len chunk PEV\n",
      "289692 : after filtering drivers\n",
      "301137 : len chunk PLV\n",
      "301137 : after filtering drivers\n"
     ]
    },
    {
     "name": "stderr",
     "output_type": "stream",
     "text": [
      "/tmp/ipykernel_3853420/730053802.py:11: DtypeWarning: Columns (1,7,17,32,34,37,38,39,40,42,48) have mixed types. Specify dtype option on import or set low_memory=False.\n",
      "  for chunk in pd.read_csv(directory, chunksize=2500000, nrows = nrows):\n"
     ]
    },
    {
     "name": "stdout",
     "output_type": "stream",
     "text": [
      "577491 : len chunk PT\n",
      "426908 : after filtering zero-length PT\n",
      "302176 : len chunk PEV\n",
      "302176 : after filtering drivers\n",
      "288699 : len chunk PLV\n",
      "288699 : after filtering drivers\n"
     ]
    },
    {
     "name": "stderr",
     "output_type": "stream",
     "text": [
      "/tmp/ipykernel_3853420/730053802.py:11: DtypeWarning: Columns (1,7,17,32,34,37,38,39,40,42,48) have mixed types. Specify dtype option on import or set low_memory=False.\n",
      "  for chunk in pd.read_csv(directory, chunksize=2500000, nrows = nrows):\n"
     ]
    },
    {
     "name": "stdout",
     "output_type": "stream",
     "text": [
      "592432 : len chunk PT\n",
      "445741 : after filtering zero-length PT\n",
      "289717 : len chunk PEV\n",
      "289717 : after filtering drivers\n",
      "297507 : len chunk PLV\n",
      "297507 : after filtering drivers\n"
     ]
    },
    {
     "name": "stderr",
     "output_type": "stream",
     "text": [
      "/tmp/ipykernel_3853420/730053802.py:11: DtypeWarning: Columns (1,7,17,32,34,37,38,39,40,42,48) have mixed types. Specify dtype option on import or set low_memory=False.\n",
      "  for chunk in pd.read_csv(directory, chunksize=2500000, nrows = nrows):\n"
     ]
    },
    {
     "name": "stdout",
     "output_type": "stream",
     "text": [
      "580272 : len chunk PT\n",
      "434896 : after filtering zero-length PT\n",
      "298179 : len chunk PEV\n",
      "298179 : after filtering drivers\n",
      "289467 : len chunk PLV\n",
      "289467 : after filtering drivers\n"
     ]
    },
    {
     "name": "stderr",
     "output_type": "stream",
     "text": [
      "/tmp/ipykernel_3853420/730053802.py:11: DtypeWarning: Columns (1,7,17,32,34,37,38,39,40,42,48) have mixed types. Specify dtype option on import or set low_memory=False.\n",
      "  for chunk in pd.read_csv(directory, chunksize=2500000, nrows = nrows):\n"
     ]
    },
    {
     "name": "stdout",
     "output_type": "stream",
     "text": [
      "584446 : len chunk PT\n",
      "436962 : after filtering zero-length PT\n",
      "295462 : len chunk PEV\n",
      "295462 : after filtering drivers\n",
      "294672 : len chunk PLV\n",
      "294672 : after filtering drivers\n"
     ]
    },
    {
     "name": "stderr",
     "output_type": "stream",
     "text": [
      "/tmp/ipykernel_3853420/730053802.py:11: DtypeWarning: Columns (1,7,17,32,34,37,38,39,40,42,48) have mixed types. Specify dtype option on import or set low_memory=False.\n",
      "  for chunk in pd.read_csv(directory, chunksize=2500000, nrows = nrows):\n"
     ]
    },
    {
     "name": "stdout",
     "output_type": "stream",
     "text": [
      "582603 : len chunk PT\n",
      "442392 : after filtering zero-length PT\n",
      "295665 : len chunk PEV\n",
      "295665 : after filtering drivers\n",
      "292375 : len chunk PLV\n",
      "292375 : after filtering drivers\n"
     ]
    },
    {
     "name": "stderr",
     "output_type": "stream",
     "text": [
      "/tmp/ipykernel_3853420/730053802.py:11: DtypeWarning: Columns (1,7,17,32,34,37,38,39,40,42,48) have mixed types. Specify dtype option on import or set low_memory=False.\n",
      "  for chunk in pd.read_csv(directory, chunksize=2500000, nrows = nrows):\n"
     ]
    },
    {
     "name": "stdout",
     "output_type": "stream",
     "text": [
      "575241 : len chunk PT\n",
      "439075 : after filtering zero-length PT\n",
      "304335 : len chunk PEV\n",
      "304335 : after filtering drivers\n",
      "281219 : len chunk PLV\n",
      "281219 : after filtering drivers\n"
     ]
    },
    {
     "name": "stderr",
     "output_type": "stream",
     "text": [
      "/tmp/ipykernel_3853420/730053802.py:11: DtypeWarning: Columns (1,7,17,32,34,37,38,39,40,42,48) have mixed types. Specify dtype option on import or set low_memory=False.\n",
      "  for chunk in pd.read_csv(directory, chunksize=2500000, nrows = nrows):\n"
     ]
    },
    {
     "name": "stdout",
     "output_type": "stream",
     "text": [
      "575241 : len chunk PT\n",
      "433523 : after filtering zero-length PT\n",
      "290220 : len chunk PEV\n",
      "290220 : after filtering drivers\n",
      "297347 : len chunk PLV\n",
      "297347 : after filtering drivers\n"
     ]
    },
    {
     "name": "stderr",
     "output_type": "stream",
     "text": [
      "/tmp/ipykernel_3853420/730053802.py:11: DtypeWarning: Columns (1,7,17,32,34,37,38,39,40,42,48) have mixed types. Specify dtype option on import or set low_memory=False.\n",
      "  for chunk in pd.read_csv(directory, chunksize=2500000, nrows = nrows):\n"
     ]
    },
    {
     "name": "stdout",
     "output_type": "stream",
     "text": [
      "583466 : len chunk PT\n",
      "446086 : after filtering zero-length PT\n",
      "293678 : len chunk PEV\n",
      "293678 : after filtering drivers\n",
      "295100 : len chunk PLV\n",
      "295100 : after filtering drivers\n"
     ]
    },
    {
     "name": "stderr",
     "output_type": "stream",
     "text": [
      "/tmp/ipykernel_3853420/730053802.py:11: DtypeWarning: Columns (1,7,17,32,34,37,38,39,40,42,48) have mixed types. Specify dtype option on import or set low_memory=False.\n",
      "  for chunk in pd.read_csv(directory, chunksize=2500000, nrows = nrows):\n"
     ]
    },
    {
     "name": "stdout",
     "output_type": "stream",
     "text": [
      "573398 : len chunk PT\n",
      "434553 : after filtering zero-length PT\n",
      "287783 : len chunk PEV\n",
      "287783 : after filtering drivers\n",
      "294038 : len chunk PLV\n",
      "294038 : after filtering drivers\n"
     ]
    },
    {
     "name": "stderr",
     "output_type": "stream",
     "text": [
      "/tmp/ipykernel_3853420/730053802.py:11: DtypeWarning: Columns (1,7,17,32,34,37,38,39,40,42,48) have mixed types. Specify dtype option on import or set low_memory=False.\n",
      "  for chunk in pd.read_csv(directory, chunksize=2500000, nrows = nrows):\n"
     ]
    },
    {
     "name": "stdout",
     "output_type": "stream",
     "text": [
      "569286 : len chunk PT\n",
      "438284 : after filtering zero-length PT\n",
      "291520 : len chunk PEV\n",
      "291520 : after filtering drivers\n",
      "288256 : len chunk PLV\n",
      "288256 : after filtering drivers\n"
     ]
    },
    {
     "name": "stderr",
     "output_type": "stream",
     "text": [
      "/tmp/ipykernel_3853420/730053802.py:11: DtypeWarning: Columns (1,7,17,32,34,37,38,39,40,42,48) have mixed types. Specify dtype option on import or set low_memory=False.\n",
      "  for chunk in pd.read_csv(directory, chunksize=2500000, nrows = nrows):\n"
     ]
    },
    {
     "name": "stdout",
     "output_type": "stream",
     "text": [
      "558027 : len chunk PT\n",
      "425000 : after filtering zero-length PT\n",
      "295740 : len chunk PEV\n",
      "295740 : after filtering drivers\n",
      "281117 : len chunk PLV\n",
      "281117 : after filtering drivers\n"
     ]
    },
    {
     "name": "stderr",
     "output_type": "stream",
     "text": [
      "/tmp/ipykernel_3853420/730053802.py:11: DtypeWarning: Columns (1,7,17,32,34,37,38,39,40,42,48) have mixed types. Specify dtype option on import or set low_memory=False.\n",
      "  for chunk in pd.read_csv(directory, chunksize=2500000, nrows = nrows):\n"
     ]
    },
    {
     "name": "stdout",
     "output_type": "stream",
     "text": [
      "562077 : len chunk PT\n",
      "436407 : after filtering zero-length PT\n",
      "292291 : len chunk PEV\n",
      "292291 : after filtering drivers\n",
      "280018 : len chunk PLV\n",
      "280018 : after filtering drivers\n"
     ]
    },
    {
     "name": "stderr",
     "output_type": "stream",
     "text": [
      "/tmp/ipykernel_3853420/730053802.py:11: DtypeWarning: Columns (1,7,17,32,34,37,38,39,40,42,48) have mixed types. Specify dtype option on import or set low_memory=False.\n",
      "  for chunk in pd.read_csv(directory, chunksize=2500000, nrows = nrows):\n"
     ]
    },
    {
     "name": "stdout",
     "output_type": "stream",
     "text": [
      "551887 : len chunk PT\n",
      "421931 : after filtering zero-length PT\n",
      "288117 : len chunk PEV\n",
      "288117 : after filtering drivers\n",
      "286731 : len chunk PLV\n",
      "286731 : after filtering drivers\n"
     ]
    },
    {
     "name": "stderr",
     "output_type": "stream",
     "text": [
      "/tmp/ipykernel_3853420/730053802.py:11: DtypeWarning: Columns (1,7,17,32,34,37,38,39,40,42,48) have mixed types. Specify dtype option on import or set low_memory=False.\n",
      "  for chunk in pd.read_csv(directory, chunksize=2500000, nrows = nrows):\n"
     ]
    },
    {
     "name": "stdout",
     "output_type": "stream",
     "text": [
      "570012 : len chunk PT\n",
      "443842 : after filtering zero-length PT\n",
      "301446 : len chunk PEV\n",
      "301446 : after filtering drivers\n",
      "284432 : len chunk PLV\n",
      "284432 : after filtering drivers\n"
     ]
    },
    {
     "name": "stderr",
     "output_type": "stream",
     "text": [
      "/tmp/ipykernel_3853420/730053802.py:11: DtypeWarning: Columns (1,7,17,32,34,37,38,39,40,42,48) have mixed types. Specify dtype option on import or set low_memory=False.\n",
      "  for chunk in pd.read_csv(directory, chunksize=2500000, nrows = nrows):\n"
     ]
    },
    {
     "name": "stdout",
     "output_type": "stream",
     "text": [
      "572424 : len chunk PT\n",
      "441081 : after filtering zero-length PT\n",
      "296184 : len chunk PEV\n",
      "296184 : after filtering drivers\n",
      "292704 : len chunk PLV\n",
      "292704 : after filtering drivers\n"
     ]
    },
    {
     "name": "stderr",
     "output_type": "stream",
     "text": [
      "/tmp/ipykernel_3853420/730053802.py:11: DtypeWarning: Columns (1,7,17,32,34,37,38,39,40,42,48) have mixed types. Specify dtype option on import or set low_memory=False.\n",
      "  for chunk in pd.read_csv(directory, chunksize=2500000, nrows = nrows):\n"
     ]
    },
    {
     "name": "stdout",
     "output_type": "stream",
     "text": [
      "562474 : len chunk PT\n",
      "431281 : after filtering zero-length PT\n",
      "302271 : len chunk PEV\n",
      "302271 : after filtering drivers\n",
      "287695 : len chunk PLV\n",
      "287695 : after filtering drivers\n"
     ]
    },
    {
     "name": "stderr",
     "output_type": "stream",
     "text": [
      "/tmp/ipykernel_3853420/730053802.py:11: DtypeWarning: Columns (1,7,17,32,34,37,38,39,40,42,48) have mixed types. Specify dtype option on import or set low_memory=False.\n",
      "  for chunk in pd.read_csv(directory, chunksize=2500000, nrows = nrows):\n"
     ]
    },
    {
     "name": "stdout",
     "output_type": "stream",
     "text": [
      "572869 : len chunk PT\n",
      "445042 : after filtering zero-length PT\n",
      "311499 : len chunk PEV\n",
      "311499 : after filtering drivers\n",
      "283121 : len chunk PLV\n",
      "283121 : after filtering drivers\n"
     ]
    },
    {
     "name": "stderr",
     "output_type": "stream",
     "text": [
      "/tmp/ipykernel_3853420/730053802.py:11: DtypeWarning: Columns (1,7,17,32,34,37,38,39,40,42,48) have mixed types. Specify dtype option on import or set low_memory=False.\n",
      "  for chunk in pd.read_csv(directory, chunksize=2500000, nrows = nrows):\n"
     ]
    },
    {
     "name": "stdout",
     "output_type": "stream",
     "text": [
      "571061 : len chunk PT\n",
      "440941 : after filtering zero-length PT\n",
      "302794 : len chunk PEV\n",
      "302794 : after filtering drivers\n",
      "290522 : len chunk PLV\n",
      "290522 : after filtering drivers\n"
     ]
    },
    {
     "name": "stderr",
     "output_type": "stream",
     "text": [
      "/tmp/ipykernel_3853420/730053802.py:11: DtypeWarning: Columns (1,7,17,32,34,37,38,39,40,42,48) have mixed types. Specify dtype option on import or set low_memory=False.\n",
      "  for chunk in pd.read_csv(directory, chunksize=2500000, nrows = nrows):\n"
     ]
    },
    {
     "name": "stdout",
     "output_type": "stream",
     "text": [
      "575245 : len chunk PT\n",
      "444194 : after filtering zero-length PT\n",
      "297319 : len chunk PEV\n",
      "297319 : after filtering drivers\n",
      "296423 : len chunk PLV\n",
      "296423 : after filtering drivers\n"
     ]
    },
    {
     "name": "stderr",
     "output_type": "stream",
     "text": [
      "/tmp/ipykernel_3853420/730053802.py:11: DtypeWarning: Columns (1,7,17,32,34,37,38,39,40,42,48) have mixed types. Specify dtype option on import or set low_memory=False.\n",
      "  for chunk in pd.read_csv(directory, chunksize=2500000, nrows = nrows):\n"
     ]
    },
    {
     "name": "stdout",
     "output_type": "stream",
     "text": [
      "567103 : len chunk PT\n",
      "437950 : after filtering zero-length PT\n",
      "312218 : len chunk PEV\n",
      "312218 : after filtering drivers\n",
      "286264 : len chunk PLV\n",
      "286264 : after filtering drivers\n"
     ]
    },
    {
     "name": "stderr",
     "output_type": "stream",
     "text": [
      "/tmp/ipykernel_3853420/730053802.py:11: DtypeWarning: Columns (1,7,17,32,34,37,38,39,40,42,48) have mixed types. Specify dtype option on import or set low_memory=False.\n",
      "  for chunk in pd.read_csv(directory, chunksize=2500000, nrows = nrows):\n"
     ]
    },
    {
     "name": "stdout",
     "output_type": "stream",
     "text": [
      "584235 : len chunk PT\n",
      "450414 : after filtering zero-length PT\n",
      "292779 : len chunk PEV\n",
      "292779 : after filtering drivers\n",
      "303362 : len chunk PLV\n",
      "303362 : after filtering drivers\n"
     ]
    },
    {
     "name": "stderr",
     "output_type": "stream",
     "text": [
      "/tmp/ipykernel_3853420/730053802.py:11: DtypeWarning: Columns (1,7,17,32,34,37,38,39,40,42,48) have mixed types. Specify dtype option on import or set low_memory=False.\n",
      "  for chunk in pd.read_csv(directory, chunksize=2500000, nrows = nrows):\n"
     ]
    },
    {
     "name": "stdout",
     "output_type": "stream",
     "text": [
      "578584 : len chunk PT\n",
      "446507 : after filtering zero-length PT\n",
      "297713 : len chunk PEV\n",
      "297713 : after filtering drivers\n",
      "299993 : len chunk PLV\n",
      "299993 : after filtering drivers\n"
     ]
    },
    {
     "name": "stderr",
     "output_type": "stream",
     "text": [
      "/tmp/ipykernel_3853420/730053802.py:11: DtypeWarning: Columns (1,7,17,32,34,37,38,39,40,42,48) have mixed types. Specify dtype option on import or set low_memory=False.\n",
      "  for chunk in pd.read_csv(directory, chunksize=2500000, nrows = nrows):\n"
     ]
    },
    {
     "name": "stdout",
     "output_type": "stream",
     "text": [
      "599979 : len chunk PT\n",
      "463279 : after filtering zero-length PT\n",
      "277513 : len chunk PEV\n",
      "277513 : after filtering drivers\n",
      "320939 : len chunk PLV\n",
      "320939 : after filtering drivers\n"
     ]
    },
    {
     "name": "stderr",
     "output_type": "stream",
     "text": [
      "/tmp/ipykernel_3853420/730053802.py:11: DtypeWarning: Columns (1,7,17,32,34,37,38,39,40,42,48) have mixed types. Specify dtype option on import or set low_memory=False.\n",
      "  for chunk in pd.read_csv(directory, chunksize=2500000, nrows = nrows):\n"
     ]
    },
    {
     "name": "stdout",
     "output_type": "stream",
     "text": [
      "606112 : len chunk PT\n",
      "469396 : after filtering zero-length PT\n",
      "273315 : len chunk PEV\n",
      "273315 : after filtering drivers\n",
      "330750 : len chunk PLV\n",
      "330750 : after filtering drivers\n"
     ]
    },
    {
     "name": "stderr",
     "output_type": "stream",
     "text": [
      "/tmp/ipykernel_3853420/730053802.py:11: DtypeWarning: Columns (1,7,17,32,34,37,38,39,40,42,48) have mixed types. Specify dtype option on import or set low_memory=False.\n",
      "  for chunk in pd.read_csv(directory, chunksize=2500000, nrows = nrows):\n"
     ]
    },
    {
     "name": "stdout",
     "output_type": "stream",
     "text": [
      "604320 : len chunk PT\n",
      "467287 : after filtering zero-length PT\n",
      "280114 : len chunk PEV\n",
      "280114 : after filtering drivers\n",
      "319497 : len chunk PLV\n",
      "319497 : after filtering drivers\n"
     ]
    },
    {
     "name": "stderr",
     "output_type": "stream",
     "text": [
      "/tmp/ipykernel_3853420/730053802.py:11: DtypeWarning: Columns (1,7,17,32,34,37,38,39,40,42,48) have mixed types. Specify dtype option on import or set low_memory=False.\n",
      "  for chunk in pd.read_csv(directory, chunksize=2500000, nrows = nrows):\n"
     ]
    },
    {
     "name": "stdout",
     "output_type": "stream",
     "text": [
      "585478 : len chunk PT\n",
      "455084 : after filtering zero-length PT\n",
      "292239 : len chunk PEV\n",
      "292239 : after filtering drivers\n",
      "301884 : len chunk PLV\n",
      "301884 : after filtering drivers\n"
     ]
    },
    {
     "name": "stderr",
     "output_type": "stream",
     "text": [
      "/tmp/ipykernel_3853420/730053802.py:11: DtypeWarning: Columns (1,7,17,32,34,37,38,39,40,42,48) have mixed types. Specify dtype option on import or set low_memory=False.\n",
      "  for chunk in pd.read_csv(directory, chunksize=2500000, nrows = nrows):\n"
     ]
    },
    {
     "name": "stdout",
     "output_type": "stream",
     "text": [
      "575729 : len chunk PT\n",
      "442947 : after filtering zero-length PT\n",
      "293875 : len chunk PEV\n",
      "293875 : after filtering drivers\n",
      "298285 : len chunk PLV\n",
      "298285 : after filtering drivers\n"
     ]
    },
    {
     "name": "stderr",
     "output_type": "stream",
     "text": [
      "/tmp/ipykernel_3853420/730053802.py:11: DtypeWarning: Columns (1,7,17,32,34,37,38,39,40,48) have mixed types. Specify dtype option on import or set low_memory=False.\n",
      "  for chunk in pd.read_csv(directory, chunksize=2500000, nrows = nrows):\n"
     ]
    },
    {
     "name": "stdout",
     "output_type": "stream",
     "text": [
      "601594 : len chunk PT\n",
      "462807 : after filtering zero-length PT\n",
      "272988 : len chunk PEV\n",
      "272988 : after filtering drivers\n",
      "320797 : len chunk PLV\n",
      "320797 : after filtering drivers\n"
     ]
    },
    {
     "name": "stderr",
     "output_type": "stream",
     "text": [
      "/tmp/ipykernel_3853420/730053802.py:11: DtypeWarning: Columns (1,17,42) have mixed types. Specify dtype option on import or set low_memory=False.\n",
      "  for chunk in pd.read_csv(directory, chunksize=2500000, nrows = nrows):\n"
     ]
    },
    {
     "name": "stdout",
     "output_type": "stream",
     "text": [
      "623182 : len chunk PT\n",
      "482203 : after filtering zero-length PT\n",
      "265990 : len chunk PEV\n",
      "265990 : after filtering drivers\n",
      "331269 : len chunk PLV\n",
      "331269 : after filtering drivers\n"
     ]
    },
    {
     "name": "stderr",
     "output_type": "stream",
     "text": [
      "/tmp/ipykernel_3853420/730053802.py:11: DtypeWarning: Columns (7,17,48) have mixed types. Specify dtype option on import or set low_memory=False.\n",
      "  for chunk in pd.read_csv(directory, chunksize=2500000, nrows = nrows):\n"
     ]
    },
    {
     "name": "stdout",
     "output_type": "stream",
     "text": [
      "165812 : len chunk PT\n",
      "132928 : after filtering zero-length PT\n",
      "48890 : len chunk PEV\n",
      "48890 : after filtering drivers\n",
      "88770 : len chunk PLV\n",
      "88770 : after filtering drivers\n",
      "12158809 :len PEVs\n",
      "12158745 :len PLVs\n",
      "17697821 :len PTs\n",
      "7545416 :len MCs\n",
      "147994 :len RPs\n",
      "7455104 :len ASs\n"
     ]
    },
    {
     "name": "stderr",
     "output_type": "stream",
     "text": [
      "/tmp/ipykernel_3853420/3791711208.py:17: UserWarning: evaluating in Python space because the '*' operator is not supported by numexpr for the bool dtype, use '&' instead.\n",
      "  PTs['is_RHempty'] = PTs['isRH']*PTs['is_empty']\n",
      "/tmp/ipykernel_3853420/3791711208.py:48: UserWarning: evaluating in Python space because the '*' operator is not supported by numexpr for the bool dtype, use '&' instead.\n",
      "  PTs['is_'+tm+'_empty'] = PTs['is'+tm]*PTs['is_empty']\n",
      "/tmp/ipykernel_3853420/3791711208.py:48: UserWarning: evaluating in Python space because the '*' operator is not supported by numexpr for the bool dtype, use '&' instead.\n",
      "  PTs['is_'+tm+'_empty'] = PTs['is'+tm]*PTs['is_empty']\n",
      "/tmp/ipykernel_3853420/3791711208.py:48: UserWarning: evaluating in Python space because the '*' operator is not supported by numexpr for the bool dtype, use '&' instead.\n",
      "  PTs['is_'+tm+'_empty'] = PTs['is'+tm]*PTs['is_empty']\n",
      "/tmp/ipykernel_3853420/3791711208.py:48: UserWarning: evaluating in Python space because the '*' operator is not supported by numexpr for the bool dtype, use '&' instead.\n",
      "  PTs['is_'+tm+'_empty'] = PTs['is'+tm]*PTs['is_empty']\n",
      "/tmp/ipykernel_3853420/3791711208.py:48: UserWarning: evaluating in Python space because the '*' operator is not supported by numexpr for the bool dtype, use '&' instead.\n",
      "  PTs['is_'+tm+'_empty'] = PTs['is'+tm]*PTs['is_empty']\n",
      "/tmp/ipykernel_3853420/3791711208.py:48: UserWarning: evaluating in Python space because the '*' operator is not supported by numexpr for the bool dtype, use '&' instead.\n",
      "  PTs['is_'+tm+'_empty'] = PTs['is'+tm]*PTs['is_empty']\n"
     ]
    },
    {
     "name": "stdout",
     "output_type": "stream",
     "text": [
      "processPlans...\n",
      "gs://beam-core-outputs/sfbay-tr-30pct-20231014/beam/year-2018-iteration-10/ITERS/it.0/0.plans.csv.gz\n",
      "addTimesToPlans...\n",
      "Total time: 4.491976022720337\n",
      "Total time: 754.06383061409\n",
      "personToPathTraversal...\n",
      "expected PtoPTs from occupancy  car 7329441\n",
      "expected PtoPTs from occupancy  walk 6222075\n",
      "expected PtoPTs from occupancy  car_hov2 1053579.0\n",
      "expected PtoPTs from occupancy  bus 4191611\n",
      "expected PtoPTs from occupancy  car_hov3 754571.0\n",
      "expected PtoPTs from occupancy  bus_empty 0\n",
      "expected PtoPTs from occupancy  car_emer 414140\n",
      "expected PtoPTs from occupancy  car_hov2_emer 128209\n",
      "expected PtoPTs from occupancy  car_RideHail_empty 0\n",
      "expected PtoPTs from occupancy  car_RideHail 110032\n",
      "expected PtoPTs from occupancy  bike 105607\n",
      "expected PtoPTs from occupancy  car_hov3_emer 88633\n",
      "expected PtoPTs from occupancy  tram 349218\n",
      "expected PtoPTs from occupancy  subway 663276\n",
      "expected PtoPTs from occupancy  cable_car 38167\n",
      "expected PtoPTs from occupancy  tram_empty 0\n",
      "expected PtoPTs from occupancy  cable_car_empty 0\n",
      "expected PtoPTs from occupancy  rail 22300\n",
      "expected PtoPTs from occupancy  subway_empty 0\n",
      "expected PtoPTs from occupancy  rail_empty 0\n",
      "expected PtoPTs from occupancy  ferry_empty 0\n",
      "expected PtoPTs from occupancy  ferry 25\n",
      "expected PtoPTs from occupancy TOT =  21470884.0\n",
      "len of PEV =  12158809\n",
      "len of PLV =  12158745\n",
      "len PtoPTs after matching agents and vehicles bike 105611\n",
      "len PtoPTs after matching agents and vehicles bus 4191721\n",
      "len PtoPTs after matching agents and vehicles bus_empty 31\n",
      "len PtoPTs after matching agents and vehicles cable_car 38167\n",
      "len PtoPTs after matching agents and vehicles car 7329795\n",
      "len PtoPTs after matching agents and vehicles car_RideHail 110741\n",
      "len PtoPTs after matching agents and vehicles car_RideHail_empty 961\n",
      "len PtoPTs after matching agents and vehicles car_emer 414080\n",
      "len PtoPTs after matching agents and vehicles car_hov2 1053678\n",
      "len PtoPTs after matching agents and vehicles car_hov2_emer 128215\n",
      "len PtoPTs after matching agents and vehicles car_hov3 754641\n",
      "len PtoPTs after matching agents and vehicles car_hov3_emer 88640\n",
      "len PtoPTs after matching agents and vehicles ferry 25\n",
      "len PtoPTs after matching agents and vehicles rail 22300\n",
      "len PtoPTs after matching agents and vehicles subway 663276\n",
      "len PtoPTs after matching agents and vehicles tram 349218\n",
      "len PtoPTs after matching agents and vehicles walk 6222458\n",
      "no legs found: 115598\n",
      "no legs found after time check: 1140627\n",
      "no vehicle body found, probably because with zero duration (discarded by PT): 115598\n",
      "no vehicle body found after time check, probably because with zero duration (discarded by PT): 1140614\n",
      "Tot created PtoPTs =  21473558\n",
      "Total time: 2463.973727464676\n",
      "Number Trips... TR\n",
      "Share Trips... TR\n",
      "Lengths Vehicles... TR\n",
      "Lengths Persons... TR\n",
      "Lengths Modes... TR\n",
      "Durations Vehicle... TR\n",
      "Durations Person... TR\n",
      "Speeds Vehicle... TR\n",
      "1.1660    11350465\n",
      "1.0000     6222075\n",
      "1.3958      105790\n",
      "1.1252       19491\n",
      "Name: routee correction, dtype: int64\n",
      "Energy Usage Vehicle... TR\n",
      "Trip Gallons Vehicle... TR\n",
      "Occupancy Vehicle... TR\n",
      "Ridership Transit... TR\n",
      "Ride hail... TR\n",
      "done\n",
      "Total Time 6192.866982936859\n",
      "                              Baseline            TR\n",
      "Vehicle Passengers stops Cal       NaN  2.147100e+04\n",
      "Vehicle Passengers km Cal          NaN  1.056607e+05\n",
      "Vehicle Capacity km Cal            NaN  8.416326e+06\n",
      "Vehicle Load Factor Cal            NaN  1.255425e-02\n",
      "Ridership Cal                      NaN  6.384000e+03\n",
      "Ridership Cal Share                NaN  8.875900e-03 Number of attributes 4932\n",
      "writing results on gs://beam-core-outputs/sfbay-tr-30pct-20231014/postprocessOutputs/year-2018-iteration-10\n",
      "File uploaded successfully.\n",
      "Reading  gs://beam-core-outputs/sfbay-tr-BARTBSV-30pct-20230825/beam/year-2018-iteration-10/ITERS/it.0/0.events.csv.gz\n"
     ]
    },
    {
     "name": "stderr",
     "output_type": "stream",
     "text": [
      "/tmp/ipykernel_3853420/730053802.py:11: DtypeWarning: Columns (3,4,5,6,9,12,13,14,16,18,21,22,23,24,31,34,40,46,48,49,51,52,55,60) have mixed types. Specify dtype option on import or set low_memory=False.\n",
      "  for chunk in pd.read_csv(directory, chunksize=2500000, nrows = nrows):\n"
     ]
    },
    {
     "name": "stdout",
     "output_type": "stream",
     "text": [
      "10058 : len chunk PT\n",
      "7919 : after filtering zero-length PT\n",
      "54411 : len chunk PEV\n",
      "4829 : after filtering drivers\n",
      "64 : len chunk PLV\n",
      "64 : after filtering drivers\n"
     ]
    },
    {
     "name": "stderr",
     "output_type": "stream",
     "text": [
      "/tmp/ipykernel_3853420/730053802.py:11: DtypeWarning: Columns (3,16,18,21,22,23,24,31,34,50,55) have mixed types. Specify dtype option on import or set low_memory=False.\n",
      "  for chunk in pd.read_csv(directory, chunksize=2500000, nrows = nrows):\n"
     ]
    },
    {
     "name": "stdout",
     "output_type": "stream",
     "text": [
      "581937 : len chunk PT\n",
      "357127 : after filtering zero-length PT\n",
      "333930 : len chunk PEV\n",
      "333930 : after filtering drivers\n",
      "260329 : len chunk PLV\n",
      "260329 : after filtering drivers\n"
     ]
    },
    {
     "name": "stderr",
     "output_type": "stream",
     "text": [
      "/tmp/ipykernel_3853420/730053802.py:11: DtypeWarning: Columns (3,16,18,21,22,23,24,31,34,50,55) have mixed types. Specify dtype option on import or set low_memory=False.\n",
      "  for chunk in pd.read_csv(directory, chunksize=2500000, nrows = nrows):\n"
     ]
    },
    {
     "name": "stdout",
     "output_type": "stream",
     "text": [
      "582703 : len chunk PT\n",
      "374971 : after filtering zero-length PT\n",
      "323605 : len chunk PEV\n",
      "323605 : after filtering drivers\n",
      "272059 : len chunk PLV\n",
      "272059 : after filtering drivers\n"
     ]
    },
    {
     "name": "stderr",
     "output_type": "stream",
     "text": [
      "/tmp/ipykernel_3853420/730053802.py:11: DtypeWarning: Columns (3,16,18,21,22,23,24,31,34,50,55) have mixed types. Specify dtype option on import or set low_memory=False.\n",
      "  for chunk in pd.read_csv(directory, chunksize=2500000, nrows = nrows):\n"
     ]
    },
    {
     "name": "stdout",
     "output_type": "stream",
     "text": [
      "543810 : len chunk PT\n",
      "338782 : after filtering zero-length PT\n",
      "318508 : len chunk PEV\n",
      "318508 : after filtering drivers\n",
      "258333 : len chunk PLV\n",
      "258333 : after filtering drivers\n"
     ]
    },
    {
     "name": "stderr",
     "output_type": "stream",
     "text": [
      "/tmp/ipykernel_3853420/730053802.py:11: DtypeWarning: Columns (3,16,18,21,22,23,24,31,34,50,55) have mixed types. Specify dtype option on import or set low_memory=False.\n",
      "  for chunk in pd.read_csv(directory, chunksize=2500000, nrows = nrows):\n"
     ]
    },
    {
     "name": "stdout",
     "output_type": "stream",
     "text": [
      "556116 : len chunk PT\n",
      "361318 : after filtering zero-length PT\n",
      "306761 : len chunk PEV\n",
      "306761 : after filtering drivers\n",
      "276217 : len chunk PLV\n",
      "276217 : after filtering drivers\n"
     ]
    },
    {
     "name": "stderr",
     "output_type": "stream",
     "text": [
      "/tmp/ipykernel_3853420/730053802.py:11: DtypeWarning: Columns (3,16,18,21,22,23,24,31,34,50,55) have mixed types. Specify dtype option on import or set low_memory=False.\n",
      "  for chunk in pd.read_csv(directory, chunksize=2500000, nrows = nrows):\n"
     ]
    },
    {
     "name": "stdout",
     "output_type": "stream",
     "text": [
      "552943 : len chunk PT\n",
      "363855 : after filtering zero-length PT\n",
      "306754 : len chunk PEV\n",
      "306754 : after filtering drivers\n",
      "279738 : len chunk PLV\n",
      "279738 : after filtering drivers\n"
     ]
    },
    {
     "name": "stderr",
     "output_type": "stream",
     "text": [
      "/tmp/ipykernel_3853420/730053802.py:11: DtypeWarning: Columns (3,16,18,21,22,23,24,31,34,50,55) have mixed types. Specify dtype option on import or set low_memory=False.\n",
      "  for chunk in pd.read_csv(directory, chunksize=2500000, nrows = nrows):\n"
     ]
    },
    {
     "name": "stdout",
     "output_type": "stream",
     "text": [
      "558752 : len chunk PT\n",
      "370606 : after filtering zero-length PT\n",
      "292680 : len chunk PEV\n",
      "292680 : after filtering drivers\n",
      "288465 : len chunk PLV\n",
      "288465 : after filtering drivers\n"
     ]
    },
    {
     "name": "stderr",
     "output_type": "stream",
     "text": [
      "/tmp/ipykernel_3853420/730053802.py:11: DtypeWarning: Columns (3,16,18,21,22,23,24,31,34,50,55) have mixed types. Specify dtype option on import or set low_memory=False.\n",
      "  for chunk in pd.read_csv(directory, chunksize=2500000, nrows = nrows):\n"
     ]
    },
    {
     "name": "stdout",
     "output_type": "stream",
     "text": [
      "552947 : len chunk PT\n",
      "381445 : after filtering zero-length PT\n",
      "295237 : len chunk PEV\n",
      "295237 : after filtering drivers\n",
      "286258 : len chunk PLV\n",
      "286258 : after filtering drivers\n"
     ]
    },
    {
     "name": "stderr",
     "output_type": "stream",
     "text": [
      "/tmp/ipykernel_3853420/730053802.py:11: DtypeWarning: Columns (3,16,18,21,22,23,24,31,34,50,55) have mixed types. Specify dtype option on import or set low_memory=False.\n",
      "  for chunk in pd.read_csv(directory, chunksize=2500000, nrows = nrows):\n"
     ]
    },
    {
     "name": "stdout",
     "output_type": "stream",
     "text": [
      "551140 : len chunk PT\n",
      "380686 : after filtering zero-length PT\n",
      "292504 : len chunk PEV\n",
      "292504 : after filtering drivers\n",
      "289166 : len chunk PLV\n",
      "289166 : after filtering drivers\n"
     ]
    },
    {
     "name": "stderr",
     "output_type": "stream",
     "text": [
      "/tmp/ipykernel_3853420/730053802.py:11: DtypeWarning: Columns (3,16,18,21,22,23,24,31,34,50,55) have mixed types. Specify dtype option on import or set low_memory=False.\n",
      "  for chunk in pd.read_csv(directory, chunksize=2500000, nrows = nrows):\n"
     ]
    },
    {
     "name": "stdout",
     "output_type": "stream",
     "text": [
      "598338 : len chunk PT\n",
      "433194 : after filtering zero-length PT\n",
      "267257 : len chunk PEV\n",
      "267257 : after filtering drivers\n",
      "329568 : len chunk PLV\n",
      "329568 : after filtering drivers\n"
     ]
    },
    {
     "name": "stderr",
     "output_type": "stream",
     "text": [
      "/tmp/ipykernel_3853420/730053802.py:11: DtypeWarning: Columns (3,16,18,21,22,23,24,31,34,50,55) have mixed types. Specify dtype option on import or set low_memory=False.\n",
      "  for chunk in pd.read_csv(directory, chunksize=2500000, nrows = nrows):\n"
     ]
    },
    {
     "name": "stdout",
     "output_type": "stream",
     "text": [
      "601477 : len chunk PT\n",
      "439354 : after filtering zero-length PT\n",
      "277307 : len chunk PEV\n",
      "277307 : after filtering drivers\n",
      "324475 : len chunk PLV\n",
      "324475 : after filtering drivers\n"
     ]
    },
    {
     "name": "stderr",
     "output_type": "stream",
     "text": [
      "/tmp/ipykernel_3853420/730053802.py:11: DtypeWarning: Columns (3,16,18,21,22,23,24,31,34,50,55) have mixed types. Specify dtype option on import or set low_memory=False.\n",
      "  for chunk in pd.read_csv(directory, chunksize=2500000, nrows = nrows):\n"
     ]
    },
    {
     "name": "stdout",
     "output_type": "stream",
     "text": [
      "576129 : len chunk PT\n",
      "421002 : after filtering zero-length PT\n",
      "305185 : len chunk PEV\n",
      "305185 : after filtering drivers\n",
      "290457 : len chunk PLV\n",
      "290457 : after filtering drivers\n"
     ]
    },
    {
     "name": "stderr",
     "output_type": "stream",
     "text": [
      "/tmp/ipykernel_3853420/730053802.py:11: DtypeWarning: Columns (3,16,18,21,22,23,24,31,34,50,55) have mixed types. Specify dtype option on import or set low_memory=False.\n",
      "  for chunk in pd.read_csv(directory, chunksize=2500000, nrows = nrows):\n"
     ]
    },
    {
     "name": "stdout",
     "output_type": "stream",
     "text": [
      "587225 : len chunk PT\n",
      "439190 : after filtering zero-length PT\n",
      "293946 : len chunk PEV\n",
      "293946 : after filtering drivers\n",
      "296874 : len chunk PLV\n",
      "296874 : after filtering drivers\n"
     ]
    },
    {
     "name": "stderr",
     "output_type": "stream",
     "text": [
      "/tmp/ipykernel_3853420/730053802.py:11: DtypeWarning: Columns (3,16,18,21,22,23,24,31,34,50,55) have mixed types. Specify dtype option on import or set low_memory=False.\n",
      "  for chunk in pd.read_csv(directory, chunksize=2500000, nrows = nrows):\n"
     ]
    },
    {
     "name": "stdout",
     "output_type": "stream",
     "text": [
      "585207 : len chunk PT\n",
      "434218 : after filtering zero-length PT\n",
      "298133 : len chunk PEV\n",
      "298133 : after filtering drivers\n",
      "292795 : len chunk PLV\n",
      "292795 : after filtering drivers\n"
     ]
    },
    {
     "name": "stderr",
     "output_type": "stream",
     "text": [
      "/tmp/ipykernel_3853420/730053802.py:11: DtypeWarning: Columns (3,16,18,21,22,23,24,31,34,50,55) have mixed types. Specify dtype option on import or set low_memory=False.\n",
      "  for chunk in pd.read_csv(directory, chunksize=2500000, nrows = nrows):\n"
     ]
    },
    {
     "name": "stdout",
     "output_type": "stream",
     "text": [
      "589015 : len chunk PT\n",
      "441471 : after filtering zero-length PT\n",
      "289764 : len chunk PEV\n",
      "289764 : after filtering drivers\n",
      "297004 : len chunk PLV\n",
      "297004 : after filtering drivers\n"
     ]
    },
    {
     "name": "stderr",
     "output_type": "stream",
     "text": [
      "/tmp/ipykernel_3853420/730053802.py:11: DtypeWarning: Columns (3,16,18,21,22,23,24,31,34,50,55) have mixed types. Specify dtype option on import or set low_memory=False.\n",
      "  for chunk in pd.read_csv(directory, chunksize=2500000, nrows = nrows):\n"
     ]
    },
    {
     "name": "stdout",
     "output_type": "stream",
     "text": [
      "589474 : len chunk PT\n",
      "443523 : after filtering zero-length PT\n",
      "293775 : len chunk PEV\n",
      "293775 : after filtering drivers\n",
      "294954 : len chunk PLV\n",
      "294954 : after filtering drivers\n"
     ]
    },
    {
     "name": "stderr",
     "output_type": "stream",
     "text": [
      "/tmp/ipykernel_3853420/730053802.py:11: DtypeWarning: Columns (3,16,18,21,22,23,24,31,34,50,55) have mixed types. Specify dtype option on import or set low_memory=False.\n",
      "  for chunk in pd.read_csv(directory, chunksize=2500000, nrows = nrows):\n"
     ]
    },
    {
     "name": "stdout",
     "output_type": "stream",
     "text": [
      "577451 : len chunk PT\n",
      "434103 : after filtering zero-length PT\n",
      "301641 : len chunk PEV\n",
      "301641 : after filtering drivers\n",
      "286262 : len chunk PLV\n",
      "286262 : after filtering drivers\n"
     ]
    },
    {
     "name": "stderr",
     "output_type": "stream",
     "text": [
      "/tmp/ipykernel_3853420/730053802.py:11: DtypeWarning: Columns (3,16,18,21,22,23,24,31,34,50,55) have mixed types. Specify dtype option on import or set low_memory=False.\n",
      "  for chunk in pd.read_csv(directory, chunksize=2500000, nrows = nrows):\n"
     ]
    },
    {
     "name": "stdout",
     "output_type": "stream",
     "text": [
      "583560 : len chunk PT\n",
      "440000 : after filtering zero-length PT\n",
      "293205 : len chunk PEV\n",
      "293205 : after filtering drivers\n",
      "295577 : len chunk PLV\n",
      "295577 : after filtering drivers\n"
     ]
    },
    {
     "name": "stderr",
     "output_type": "stream",
     "text": [
      "/tmp/ipykernel_3853420/730053802.py:11: DtypeWarning: Columns (3,16,18,21,22,23,24,31,34,50,55) have mixed types. Specify dtype option on import or set low_memory=False.\n",
      "  for chunk in pd.read_csv(directory, chunksize=2500000, nrows = nrows):\n"
     ]
    },
    {
     "name": "stdout",
     "output_type": "stream",
     "text": [
      "572089 : len chunk PT\n",
      "434520 : after filtering zero-length PT\n",
      "303970 : len chunk PEV\n",
      "303970 : after filtering drivers\n",
      "283080 : len chunk PLV\n",
      "283080 : after filtering drivers\n"
     ]
    },
    {
     "name": "stderr",
     "output_type": "stream",
     "text": [
      "/tmp/ipykernel_3853420/730053802.py:11: DtypeWarning: Columns (3,16,18,21,22,23,24,31,34,50,55) have mixed types. Specify dtype option on import or set low_memory=False.\n",
      "  for chunk in pd.read_csv(directory, chunksize=2500000, nrows = nrows):\n"
     ]
    },
    {
     "name": "stdout",
     "output_type": "stream",
     "text": [
      "579516 : len chunk PT\n",
      "438374 : after filtering zero-length PT\n",
      "290179 : len chunk PEV\n",
      "290179 : after filtering drivers\n",
      "297111 : len chunk PLV\n",
      "297111 : after filtering drivers\n"
     ]
    },
    {
     "name": "stderr",
     "output_type": "stream",
     "text": [
      "/tmp/ipykernel_3853420/730053802.py:11: DtypeWarning: Columns (3,16,18,21,22,23,24,31,34,50,55) have mixed types. Specify dtype option on import or set low_memory=False.\n",
      "  for chunk in pd.read_csv(directory, chunksize=2500000, nrows = nrows):\n"
     ]
    },
    {
     "name": "stdout",
     "output_type": "stream",
     "text": [
      "582909 : len chunk PT\n",
      "442517 : after filtering zero-length PT\n",
      "291601 : len chunk PEV\n",
      "291601 : after filtering drivers\n",
      "297112 : len chunk PLV\n",
      "297112 : after filtering drivers\n"
     ]
    },
    {
     "name": "stderr",
     "output_type": "stream",
     "text": [
      "/tmp/ipykernel_3853420/730053802.py:11: DtypeWarning: Columns (3,16,18,21,22,23,24,31,34,50,55) have mixed types. Specify dtype option on import or set low_memory=False.\n",
      "  for chunk in pd.read_csv(directory, chunksize=2500000, nrows = nrows):\n"
     ]
    },
    {
     "name": "stdout",
     "output_type": "stream",
     "text": [
      "569722 : len chunk PT\n",
      "434325 : after filtering zero-length PT\n",
      "291552 : len chunk PEV\n",
      "291552 : after filtering drivers\n",
      "289791 : len chunk PLV\n",
      "289791 : after filtering drivers\n"
     ]
    },
    {
     "name": "stderr",
     "output_type": "stream",
     "text": [
      "/tmp/ipykernel_3853420/730053802.py:11: DtypeWarning: Columns (3,16,18,21,22,23,24,31,34,50,55) have mixed types. Specify dtype option on import or set low_memory=False.\n",
      "  for chunk in pd.read_csv(directory, chunksize=2500000, nrows = nrows):\n"
     ]
    },
    {
     "name": "stdout",
     "output_type": "stream",
     "text": [
      "570468 : len chunk PT\n",
      "438168 : after filtering zero-length PT\n",
      "290923 : len chunk PEV\n",
      "290923 : after filtering drivers\n",
      "289733 : len chunk PLV\n",
      "289733 : after filtering drivers\n"
     ]
    },
    {
     "name": "stderr",
     "output_type": "stream",
     "text": [
      "/tmp/ipykernel_3853420/730053802.py:11: DtypeWarning: Columns (3,16,18,21,22,23,24,31,34,50,55) have mixed types. Specify dtype option on import or set low_memory=False.\n",
      "  for chunk in pd.read_csv(directory, chunksize=2500000, nrows = nrows):\n"
     ]
    },
    {
     "name": "stdout",
     "output_type": "stream",
     "text": [
      "560622 : len chunk PT\n",
      "427695 : after filtering zero-length PT\n",
      "293750 : len chunk PEV\n",
      "293750 : after filtering drivers\n",
      "282073 : len chunk PLV\n",
      "282073 : after filtering drivers\n"
     ]
    },
    {
     "name": "stderr",
     "output_type": "stream",
     "text": [
      "/tmp/ipykernel_3853420/730053802.py:11: DtypeWarning: Columns (3,16,18,21,22,23,24,31,34,50,55) have mixed types. Specify dtype option on import or set low_memory=False.\n",
      "  for chunk in pd.read_csv(directory, chunksize=2500000, nrows = nrows):\n"
     ]
    },
    {
     "name": "stdout",
     "output_type": "stream",
     "text": [
      "563323 : len chunk PT\n",
      "439443 : after filtering zero-length PT\n",
      "291096 : len chunk PEV\n",
      "291096 : after filtering drivers\n",
      "279981 : len chunk PLV\n",
      "279981 : after filtering drivers\n"
     ]
    },
    {
     "name": "stderr",
     "output_type": "stream",
     "text": [
      "/tmp/ipykernel_3853420/730053802.py:11: DtypeWarning: Columns (3,16,18,21,22,23,24,31,34,50,55) have mixed types. Specify dtype option on import or set low_memory=False.\n",
      "  for chunk in pd.read_csv(directory, chunksize=2500000, nrows = nrows):\n"
     ]
    },
    {
     "name": "stdout",
     "output_type": "stream",
     "text": [
      "553426 : len chunk PT\n",
      "421362 : after filtering zero-length PT\n",
      "287373 : len chunk PEV\n",
      "287373 : after filtering drivers\n",
      "288228 : len chunk PLV\n",
      "288228 : after filtering drivers\n"
     ]
    },
    {
     "name": "stderr",
     "output_type": "stream",
     "text": [
      "/tmp/ipykernel_3853420/730053802.py:11: DtypeWarning: Columns (3,16,18,21,22,23,24,31,34,50,55) have mixed types. Specify dtype option on import or set low_memory=False.\n",
      "  for chunk in pd.read_csv(directory, chunksize=2500000, nrows = nrows):\n"
     ]
    },
    {
     "name": "stdout",
     "output_type": "stream",
     "text": [
      "568601 : len chunk PT\n",
      "440694 : after filtering zero-length PT\n",
      "302236 : len chunk PEV\n",
      "302236 : after filtering drivers\n",
      "284988 : len chunk PLV\n",
      "284988 : after filtering drivers\n"
     ]
    },
    {
     "name": "stderr",
     "output_type": "stream",
     "text": [
      "/tmp/ipykernel_3853420/730053802.py:11: DtypeWarning: Columns (3,16,18,21,22,23,24,31,34,50,55) have mixed types. Specify dtype option on import or set low_memory=False.\n",
      "  for chunk in pd.read_csv(directory, chunksize=2500000, nrows = nrows):\n"
     ]
    },
    {
     "name": "stdout",
     "output_type": "stream",
     "text": [
      "577310 : len chunk PT\n",
      "446613 : after filtering zero-length PT\n",
      "292660 : len chunk PEV\n",
      "292660 : after filtering drivers\n",
      "296244 : len chunk PLV\n",
      "296244 : after filtering drivers\n"
     ]
    },
    {
     "name": "stderr",
     "output_type": "stream",
     "text": [
      "/tmp/ipykernel_3853420/730053802.py:11: DtypeWarning: Columns (3,16,18,21,22,23,24,31,34,50,55) have mixed types. Specify dtype option on import or set low_memory=False.\n",
      "  for chunk in pd.read_csv(directory, chunksize=2500000, nrows = nrows):\n"
     ]
    },
    {
     "name": "stdout",
     "output_type": "stream",
     "text": [
      "559934 : len chunk PT\n",
      "432203 : after filtering zero-length PT\n",
      "303283 : len chunk PEV\n",
      "303283 : after filtering drivers\n",
      "283688 : len chunk PLV\n",
      "283688 : after filtering drivers\n"
     ]
    },
    {
     "name": "stderr",
     "output_type": "stream",
     "text": [
      "/tmp/ipykernel_3853420/730053802.py:11: DtypeWarning: Columns (3,16,18,21,22,23,24,31,34,50,55) have mixed types. Specify dtype option on import or set low_memory=False.\n",
      "  for chunk in pd.read_csv(directory, chunksize=2500000, nrows = nrows):\n"
     ]
    },
    {
     "name": "stdout",
     "output_type": "stream",
     "text": [
      "563968 : len chunk PT\n",
      "433929 : after filtering zero-length PT\n",
      "317684 : len chunk PEV\n",
      "317684 : after filtering drivers\n",
      "278263 : len chunk PLV\n",
      "278263 : after filtering drivers\n"
     ]
    },
    {
     "name": "stderr",
     "output_type": "stream",
     "text": [
      "/tmp/ipykernel_3853420/730053802.py:11: DtypeWarning: Columns (3,16,18,21,22,23,24,31,34,50,55) have mixed types. Specify dtype option on import or set low_memory=False.\n",
      "  for chunk in pd.read_csv(directory, chunksize=2500000, nrows = nrows):\n"
     ]
    },
    {
     "name": "stdout",
     "output_type": "stream",
     "text": [
      "578862 : len chunk PT\n",
      "448365 : after filtering zero-length PT\n",
      "299323 : len chunk PEV\n",
      "299323 : after filtering drivers\n",
      "294634 : len chunk PLV\n",
      "294634 : after filtering drivers\n"
     ]
    },
    {
     "name": "stderr",
     "output_type": "stream",
     "text": [
      "/tmp/ipykernel_3853420/730053802.py:11: DtypeWarning: Columns (3,16,18,21,22,23,24,31,34,50,55) have mixed types. Specify dtype option on import or set low_memory=False.\n",
      "  for chunk in pd.read_csv(directory, chunksize=2500000, nrows = nrows):\n"
     ]
    },
    {
     "name": "stdout",
     "output_type": "stream",
     "text": [
      "579481 : len chunk PT\n",
      "452790 : after filtering zero-length PT\n",
      "299560 : len chunk PEV\n",
      "299560 : after filtering drivers\n",
      "291987 : len chunk PLV\n",
      "291987 : after filtering drivers\n"
     ]
    },
    {
     "name": "stderr",
     "output_type": "stream",
     "text": [
      "/tmp/ipykernel_3853420/730053802.py:11: DtypeWarning: Columns (3,16,18,21,22,23,24,31,34,50,55) have mixed types. Specify dtype option on import or set low_memory=False.\n",
      "  for chunk in pd.read_csv(directory, chunksize=2500000, nrows = nrows):\n"
     ]
    },
    {
     "name": "stdout",
     "output_type": "stream",
     "text": [
      "562144 : len chunk PT\n",
      "428202 : after filtering zero-length PT\n",
      "306713 : len chunk PEV\n",
      "306713 : after filtering drivers\n",
      "291949 : len chunk PLV\n",
      "291949 : after filtering drivers\n"
     ]
    },
    {
     "name": "stderr",
     "output_type": "stream",
     "text": [
      "/tmp/ipykernel_3853420/730053802.py:11: DtypeWarning: Columns (3,16,18,21,22,23,24,31,34,50,55) have mixed types. Specify dtype option on import or set low_memory=False.\n",
      "  for chunk in pd.read_csv(directory, chunksize=2500000, nrows = nrows):\n"
     ]
    },
    {
     "name": "stdout",
     "output_type": "stream",
     "text": [
      "575433 : len chunk PT\n",
      "444824 : after filtering zero-length PT\n",
      "303632 : len chunk PEV\n",
      "303632 : after filtering drivers\n",
      "295976 : len chunk PLV\n",
      "295976 : after filtering drivers\n"
     ]
    },
    {
     "name": "stderr",
     "output_type": "stream",
     "text": [
      "/tmp/ipykernel_3853420/730053802.py:11: DtypeWarning: Columns (3,16,18,21,22,23,24,31,34,50,55) have mixed types. Specify dtype option on import or set low_memory=False.\n",
      "  for chunk in pd.read_csv(directory, chunksize=2500000, nrows = nrows):\n"
     ]
    },
    {
     "name": "stdout",
     "output_type": "stream",
     "text": [
      "583059 : len chunk PT\n",
      "448364 : after filtering zero-length PT\n",
      "294066 : len chunk PEV\n",
      "294066 : after filtering drivers\n",
      "304110 : len chunk PLV\n",
      "304110 : after filtering drivers\n"
     ]
    },
    {
     "name": "stderr",
     "output_type": "stream",
     "text": [
      "/tmp/ipykernel_3853420/730053802.py:11: DtypeWarning: Columns (3,16,18,21,22,23,24,31,34,50,55) have mixed types. Specify dtype option on import or set low_memory=False.\n",
      "  for chunk in pd.read_csv(directory, chunksize=2500000, nrows = nrows):\n"
     ]
    },
    {
     "name": "stdout",
     "output_type": "stream",
     "text": [
      "606068 : len chunk PT\n",
      "468588 : after filtering zero-length PT\n",
      "272937 : len chunk PEV\n",
      "272937 : after filtering drivers\n",
      "325241 : len chunk PLV\n",
      "325241 : after filtering drivers\n"
     ]
    },
    {
     "name": "stderr",
     "output_type": "stream",
     "text": [
      "/tmp/ipykernel_3853420/730053802.py:11: DtypeWarning: Columns (3,31,34,50,55) have mixed types. Specify dtype option on import or set low_memory=False.\n",
      "  for chunk in pd.read_csv(directory, chunksize=2500000, nrows = nrows):\n"
     ]
    },
    {
     "name": "stdout",
     "output_type": "stream",
     "text": [
      "606801 : len chunk PT\n",
      "473170 : after filtering zero-length PT\n",
      "276432 : len chunk PEV\n",
      "276432 : after filtering drivers\n",
      "326665 : len chunk PLV\n",
      "326665 : after filtering drivers\n"
     ]
    },
    {
     "name": "stderr",
     "output_type": "stream",
     "text": [
      "/tmp/ipykernel_3853420/730053802.py:11: DtypeWarning: Columns (3,16,18,21,22,23,24,31,34,50,55) have mixed types. Specify dtype option on import or set low_memory=False.\n",
      "  for chunk in pd.read_csv(directory, chunksize=2500000, nrows = nrows):\n"
     ]
    },
    {
     "name": "stdout",
     "output_type": "stream",
     "text": [
      "590603 : len chunk PT\n",
      "453031 : after filtering zero-length PT\n",
      "285015 : len chunk PEV\n",
      "285015 : after filtering drivers\n",
      "314718 : len chunk PLV\n",
      "314718 : after filtering drivers\n"
     ]
    },
    {
     "name": "stderr",
     "output_type": "stream",
     "text": [
      "/tmp/ipykernel_3853420/730053802.py:11: DtypeWarning: Columns (3,16,18,21,22,23,24,31,34,50,55) have mixed types. Specify dtype option on import or set low_memory=False.\n",
      "  for chunk in pd.read_csv(directory, chunksize=2500000, nrows = nrows):\n"
     ]
    },
    {
     "name": "stdout",
     "output_type": "stream",
     "text": [
      "591163 : len chunk PT\n",
      "458447 : after filtering zero-length PT\n",
      "287734 : len chunk PEV\n",
      "287734 : after filtering drivers\n",
      "306133 : len chunk PLV\n",
      "306133 : after filtering drivers\n"
     ]
    },
    {
     "name": "stderr",
     "output_type": "stream",
     "text": [
      "/tmp/ipykernel_3853420/730053802.py:11: DtypeWarning: Columns (3,16,18,21,22,23,24,31,34,50,55) have mixed types. Specify dtype option on import or set low_memory=False.\n",
      "  for chunk in pd.read_csv(directory, chunksize=2500000, nrows = nrows):\n"
     ]
    },
    {
     "name": "stdout",
     "output_type": "stream",
     "text": [
      "578078 : len chunk PT\n",
      "444510 : after filtering zero-length PT\n",
      "292629 : len chunk PEV\n",
      "292629 : after filtering drivers\n",
      "298826 : len chunk PLV\n",
      "298826 : after filtering drivers\n"
     ]
    },
    {
     "name": "stderr",
     "output_type": "stream",
     "text": [
      "/tmp/ipykernel_3853420/730053802.py:11: DtypeWarning: Columns (3,16,18,21,22,23,24,31,34,50,55) have mixed types. Specify dtype option on import or set low_memory=False.\n",
      "  for chunk in pd.read_csv(directory, chunksize=2500000, nrows = nrows):\n"
     ]
    },
    {
     "name": "stdout",
     "output_type": "stream",
     "text": [
      "598845 : len chunk PT\n",
      "460027 : after filtering zero-length PT\n",
      "273700 : len chunk PEV\n",
      "273700 : after filtering drivers\n",
      "320151 : len chunk PLV\n",
      "320151 : after filtering drivers\n"
     ]
    },
    {
     "name": "stderr",
     "output_type": "stream",
     "text": [
      "/tmp/ipykernel_3853420/730053802.py:11: DtypeWarning: Columns (3,31,34) have mixed types. Specify dtype option on import or set low_memory=False.\n",
      "  for chunk in pd.read_csv(directory, chunksize=2500000, nrows = nrows):\n"
     ]
    },
    {
     "name": "stdout",
     "output_type": "stream",
     "text": [
      "623661 : len chunk PT\n",
      "483081 : after filtering zero-length PT\n",
      "266008 : len chunk PEV\n",
      "266008 : after filtering drivers\n",
      "331123 : len chunk PLV\n",
      "331123 : after filtering drivers\n"
     ]
    },
    {
     "name": "stderr",
     "output_type": "stream",
     "text": [
      "/tmp/ipykernel_3853420/730053802.py:11: DtypeWarning: Columns (31,50,55) have mixed types. Specify dtype option on import or set low_memory=False.\n",
      "  for chunk in pd.read_csv(directory, chunksize=2500000, nrows = nrows):\n"
     ]
    },
    {
     "name": "stdout",
     "output_type": "stream",
     "text": [
      "162640 : len chunk PT\n",
      "130373 : after filtering zero-length PT\n",
      "47927 : len chunk PEV\n",
      "47927 : after filtering drivers\n",
      "86538 : len chunk PLV\n",
      "86538 : after filtering drivers\n",
      "12157004 :len PEVs\n",
      "12156938 :len PLVs\n",
      "17686379 :len PTs\n",
      "7545386 :len MCs\n",
      "147396 :len RPs\n",
      "7455109 :len ASs\n"
     ]
    },
    {
     "name": "stderr",
     "output_type": "stream",
     "text": [
      "/tmp/ipykernel_3853420/3791711208.py:17: UserWarning: evaluating in Python space because the '*' operator is not supported by numexpr for the bool dtype, use '&' instead.\n",
      "  PTs['is_RHempty'] = PTs['isRH']*PTs['is_empty']\n",
      "/tmp/ipykernel_3853420/3791711208.py:48: UserWarning: evaluating in Python space because the '*' operator is not supported by numexpr for the bool dtype, use '&' instead.\n",
      "  PTs['is_'+tm+'_empty'] = PTs['is'+tm]*PTs['is_empty']\n",
      "/tmp/ipykernel_3853420/3791711208.py:48: UserWarning: evaluating in Python space because the '*' operator is not supported by numexpr for the bool dtype, use '&' instead.\n",
      "  PTs['is_'+tm+'_empty'] = PTs['is'+tm]*PTs['is_empty']\n",
      "/tmp/ipykernel_3853420/3791711208.py:48: UserWarning: evaluating in Python space because the '*' operator is not supported by numexpr for the bool dtype, use '&' instead.\n",
      "  PTs['is_'+tm+'_empty'] = PTs['is'+tm]*PTs['is_empty']\n",
      "/tmp/ipykernel_3853420/3791711208.py:48: UserWarning: evaluating in Python space because the '*' operator is not supported by numexpr for the bool dtype, use '&' instead.\n",
      "  PTs['is_'+tm+'_empty'] = PTs['is'+tm]*PTs['is_empty']\n",
      "/tmp/ipykernel_3853420/3791711208.py:48: UserWarning: evaluating in Python space because the '*' operator is not supported by numexpr for the bool dtype, use '&' instead.\n",
      "  PTs['is_'+tm+'_empty'] = PTs['is'+tm]*PTs['is_empty']\n",
      "/tmp/ipykernel_3853420/3791711208.py:48: UserWarning: evaluating in Python space because the '*' operator is not supported by numexpr for the bool dtype, use '&' instead.\n",
      "  PTs['is_'+tm+'_empty'] = PTs['is'+tm]*PTs['is_empty']\n"
     ]
    },
    {
     "name": "stdout",
     "output_type": "stream",
     "text": [
      "processPlans...\n",
      "gs://beam-core-outputs/sfbay-tr-BARTBSV-30pct-20230825/beam/year-2018-iteration-10/ITERS/it.0/0.plans.csv.gz\n",
      "addTimesToPlans...\n",
      "Total time: 4.70136570930481\n",
      "Total time: 762.1144349575043\n",
      "personToPathTraversal...\n",
      "expected PtoPTs from occupancy  car 7325809\n",
      "expected PtoPTs from occupancy  walk 6216048\n",
      "expected PtoPTs from occupancy  car_hov2 1053053.0\n",
      "expected PtoPTs from occupancy  bus 4213924\n",
      "expected PtoPTs from occupancy  car_hov3 754344.0\n",
      "expected PtoPTs from occupancy  bus_empty 0\n",
      "expected PtoPTs from occupancy  car_emer 414142\n",
      "expected PtoPTs from occupancy  car_hov2_emer 128075\n",
      "expected PtoPTs from occupancy  car_RideHail_empty 0\n",
      "expected PtoPTs from occupancy  car_RideHail 111200\n",
      "expected PtoPTs from occupancy  bike 105569\n",
      "expected PtoPTs from occupancy  car_hov3_emer 89522\n",
      "expected PtoPTs from occupancy  tram 360520\n",
      "expected PtoPTs from occupancy  subway 663338\n",
      "expected PtoPTs from occupancy  cable_car 42864\n",
      "expected PtoPTs from occupancy  tram_empty 0\n",
      "expected PtoPTs from occupancy  cable_car_empty 0\n",
      "expected PtoPTs from occupancy  rail 19500\n",
      "expected PtoPTs from occupancy  subway_empty 0\n",
      "expected PtoPTs from occupancy  rail_empty 0\n",
      "expected PtoPTs from occupancy  ferry_empty 0\n",
      "expected PtoPTs from occupancy  ferry 29\n",
      "expected PtoPTs from occupancy TOT =  21497937.0\n",
      "len of PEV =  12157004\n",
      "len of PLV =  12156938\n",
      "len PtoPTs after matching agents and vehicles bike 105574\n",
      "len PtoPTs after matching agents and vehicles bus 4214041\n",
      "len PtoPTs after matching agents and vehicles bus_empty 27\n",
      "len PtoPTs after matching agents and vehicles cable_car 42864\n",
      "len PtoPTs after matching agents and vehicles car 7325930\n",
      "len PtoPTs after matching agents and vehicles car_RideHail 112016\n",
      "len PtoPTs after matching agents and vehicles car_RideHail_empty 1048\n",
      "len PtoPTs after matching agents and vehicles car_emer 414101\n",
      "len PtoPTs after matching agents and vehicles car_hov2 1053134\n",
      "len PtoPTs after matching agents and vehicles car_hov2_emer 128082\n",
      "len PtoPTs after matching agents and vehicles car_hov3 754407\n",
      "len PtoPTs after matching agents and vehicles car_hov3_emer 89532\n",
      "len PtoPTs after matching agents and vehicles ferry 29\n",
      "len PtoPTs after matching agents and vehicles rail 19500\n",
      "len PtoPTs after matching agents and vehicles subway 663338\n",
      "len PtoPTs after matching agents and vehicles tram 360520\n",
      "len PtoPTs after matching agents and vehicles walk 6216459\n",
      "no legs found: 116010\n",
      "no legs found after time check: 1142529\n",
      "no vehicle body found, probably because with zero duration (discarded by PT): 116010\n",
      "no vehicle body found after time check, probably because with zero duration (discarded by PT): 1142519\n",
      "Tot created PtoPTs =  21500602\n",
      "Total time: 2475.084097623825\n",
      "Number Trips... TR-BART\n",
      "Share Trips... TR-BART\n",
      "Lengths Vehicles... TR-BART\n",
      "Lengths Persons... TR-BART\n",
      "Lengths Modes... TR-BART\n",
      "Durations Vehicle... TR-BART\n",
      "Durations Person... TR-BART\n",
      "Speeds Vehicle... TR-BART\n",
      "1.1660    11343809\n",
      "1.0000     6216048\n",
      "1.3958      106770\n",
      "1.1252       19752\n",
      "Name: routee correction, dtype: int64\n",
      "Energy Usage Vehicle... TR-BART\n",
      "Trip Gallons Vehicle... TR-BART\n",
      "Occupancy Vehicle... TR-BART\n",
      "Ridership Transit... TR-BART\n",
      "Ride hail... TR-BART\n",
      "done\n",
      "Total Time 6534.331816196442\n",
      "                              Baseline            TR  TR-BART\n",
      "Vehicle Passengers stops Cal       NaN  2.147100e+04      NaN\n",
      "Vehicle Passengers km Cal          NaN  1.056607e+05      NaN\n",
      "Vehicle Capacity km Cal            NaN  8.416326e+06      NaN\n",
      "Vehicle Load Factor Cal            NaN  1.255425e-02      NaN\n",
      "Ridership Cal                      NaN  6.384000e+03      NaN\n",
      "Ridership Cal Share                NaN  8.875900e-03      NaN Number of attributes 4932\n",
      "writing results on gs://beam-core-outputs/sfbay-tr-BARTBSV-30pct-20230825/postprocessOutputs/year-2018-iteration-10\n",
      "File uploaded successfully.\n",
      "Reading  gs://beam-core-outputs/sfbay-tr-BARTBSVI-30pct-20230828/beam/year-2018-iteration-10/ITERS/it.0/0.events.csv.gz\n"
     ]
    },
    {
     "name": "stderr",
     "output_type": "stream",
     "text": [
      "/tmp/ipykernel_3853420/730053802.py:11: DtypeWarning: Columns (0,3,6,7,8,9,13,14,22,23,24,25,27,29,32,33,34,35,42,43,56,58,59,60) have mixed types. Specify dtype option on import or set low_memory=False.\n",
      "  for chunk in pd.read_csv(directory, chunksize=2500000, nrows = nrows):\n"
     ]
    },
    {
     "name": "stdout",
     "output_type": "stream",
     "text": [
      "9968 : len chunk PT\n",
      "7880 : after filtering zero-length PT\n",
      "54532 : len chunk PEV\n",
      "4757 : after filtering drivers\n",
      "98 : len chunk PLV\n",
      "98 : after filtering drivers\n"
     ]
    },
    {
     "name": "stderr",
     "output_type": "stream",
     "text": [
      "/tmp/ipykernel_3853420/730053802.py:11: DtypeWarning: Columns (6,13,42,43,48) have mixed types. Specify dtype option on import or set low_memory=False.\n",
      "  for chunk in pd.read_csv(directory, chunksize=2500000, nrows = nrows):\n"
     ]
    },
    {
     "name": "stdout",
     "output_type": "stream",
     "text": [
      "578219 : len chunk PT\n",
      "353214 : after filtering zero-length PT\n",
      "335874 : len chunk PEV\n",
      "335874 : after filtering drivers\n",
      "258139 : len chunk PLV\n",
      "258139 : after filtering drivers\n"
     ]
    },
    {
     "name": "stderr",
     "output_type": "stream",
     "text": [
      "/tmp/ipykernel_3853420/730053802.py:11: DtypeWarning: Columns (6,13,27,29,32,33,34,35,42,43,48) have mixed types. Specify dtype option on import or set low_memory=False.\n",
      "  for chunk in pd.read_csv(directory, chunksize=2500000, nrows = nrows):\n"
     ]
    },
    {
     "name": "stdout",
     "output_type": "stream",
     "text": [
      "579299 : len chunk PT\n",
      "374460 : after filtering zero-length PT\n",
      "319122 : len chunk PEV\n",
      "319122 : after filtering drivers\n",
      "273303 : len chunk PLV\n",
      "273303 : after filtering drivers\n"
     ]
    },
    {
     "name": "stderr",
     "output_type": "stream",
     "text": [
      "/tmp/ipykernel_3853420/730053802.py:11: DtypeWarning: Columns (6,13,27,29,32,33,34,35,42,48) have mixed types. Specify dtype option on import or set low_memory=False.\n",
      "  for chunk in pd.read_csv(directory, chunksize=2500000, nrows = nrows):\n"
     ]
    },
    {
     "name": "stdout",
     "output_type": "stream",
     "text": [
      "545925 : len chunk PT\n",
      "338288 : after filtering zero-length PT\n",
      "323181 : len chunk PEV\n",
      "323181 : after filtering drivers\n",
      "255344 : len chunk PLV\n",
      "255344 : after filtering drivers\n"
     ]
    },
    {
     "name": "stderr",
     "output_type": "stream",
     "text": [
      "/tmp/ipykernel_3853420/730053802.py:11: DtypeWarning: Columns (6,13,27,29,32,33,34,35,42,43,48) have mixed types. Specify dtype option on import or set low_memory=False.\n",
      "  for chunk in pd.read_csv(directory, chunksize=2500000, nrows = nrows):\n"
     ]
    },
    {
     "name": "stdout",
     "output_type": "stream",
     "text": [
      "557686 : len chunk PT\n",
      "362731 : after filtering zero-length PT\n",
      "302653 : len chunk PEV\n",
      "302653 : after filtering drivers\n",
      "279056 : len chunk PLV\n",
      "279056 : after filtering drivers\n"
     ]
    },
    {
     "name": "stderr",
     "output_type": "stream",
     "text": [
      "/tmp/ipykernel_3853420/730053802.py:11: DtypeWarning: Columns (6,13,27,29,32,33,34,35,42,43,48) have mixed types. Specify dtype option on import or set low_memory=False.\n",
      "  for chunk in pd.read_csv(directory, chunksize=2500000, nrows = nrows):\n"
     ]
    },
    {
     "name": "stdout",
     "output_type": "stream",
     "text": [
      "550401 : len chunk PT\n",
      "359287 : after filtering zero-length PT\n",
      "309376 : len chunk PEV\n",
      "309376 : after filtering drivers\n",
      "275648 : len chunk PLV\n",
      "275648 : after filtering drivers\n"
     ]
    },
    {
     "name": "stderr",
     "output_type": "stream",
     "text": [
      "/tmp/ipykernel_3853420/730053802.py:11: DtypeWarning: Columns (6,13,27,29,32,33,34,35,42,43,48) have mixed types. Specify dtype option on import or set low_memory=False.\n",
      "  for chunk in pd.read_csv(directory, chunksize=2500000, nrows = nrows):\n"
     ]
    },
    {
     "name": "stdout",
     "output_type": "stream",
     "text": [
      "553571 : len chunk PT\n",
      "368028 : after filtering zero-length PT\n",
      "293596 : len chunk PEV\n",
      "293596 : after filtering drivers\n",
      "286402 : len chunk PLV\n",
      "286402 : after filtering drivers\n"
     ]
    },
    {
     "name": "stderr",
     "output_type": "stream",
     "text": [
      "/tmp/ipykernel_3853420/730053802.py:11: DtypeWarning: Columns (6,13,27,29,32,33,34,35,42,43,48) have mixed types. Specify dtype option on import or set low_memory=False.\n",
      "  for chunk in pd.read_csv(directory, chunksize=2500000, nrows = nrows):\n"
     ]
    },
    {
     "name": "stdout",
     "output_type": "stream",
     "text": [
      "548221 : len chunk PT\n",
      "373135 : after filtering zero-length PT\n",
      "295760 : len chunk PEV\n",
      "295760 : after filtering drivers\n",
      "284595 : len chunk PLV\n",
      "284595 : after filtering drivers\n"
     ]
    },
    {
     "name": "stderr",
     "output_type": "stream",
     "text": [
      "/tmp/ipykernel_3853420/730053802.py:11: DtypeWarning: Columns (6,13,27,29,32,33,34,35,42,48) have mixed types. Specify dtype option on import or set low_memory=False.\n",
      "  for chunk in pd.read_csv(directory, chunksize=2500000, nrows = nrows):\n"
     ]
    },
    {
     "name": "stdout",
     "output_type": "stream",
     "text": [
      "550361 : len chunk PT\n",
      "381212 : after filtering zero-length PT\n",
      "294828 : len chunk PEV\n",
      "294828 : after filtering drivers\n",
      "285692 : len chunk PLV\n",
      "285692 : after filtering drivers\n"
     ]
    },
    {
     "name": "stderr",
     "output_type": "stream",
     "text": [
      "/tmp/ipykernel_3853420/730053802.py:11: DtypeWarning: Columns (6,13,27,29,32,33,34,35,42,43,48) have mixed types. Specify dtype option on import or set low_memory=False.\n",
      "  for chunk in pd.read_csv(directory, chunksize=2500000, nrows = nrows):\n"
     ]
    },
    {
     "name": "stdout",
     "output_type": "stream",
     "text": [
      "604794 : len chunk PT\n",
      "439944 : after filtering zero-length PT\n",
      "260156 : len chunk PEV\n",
      "260156 : after filtering drivers\n",
      "335707 : len chunk PLV\n",
      "335707 : after filtering drivers\n"
     ]
    },
    {
     "name": "stderr",
     "output_type": "stream",
     "text": [
      "/tmp/ipykernel_3853420/730053802.py:11: DtypeWarning: Columns (6,13,27,29,32,33,34,35,42,43,48) have mixed types. Specify dtype option on import or set low_memory=False.\n",
      "  for chunk in pd.read_csv(directory, chunksize=2500000, nrows = nrows):\n"
     ]
    },
    {
     "name": "stdout",
     "output_type": "stream",
     "text": [
      "595942 : len chunk PT\n",
      "434774 : after filtering zero-length PT\n",
      "277821 : len chunk PEV\n",
      "277821 : after filtering drivers\n",
      "321375 : len chunk PLV\n",
      "321375 : after filtering drivers\n"
     ]
    },
    {
     "name": "stderr",
     "output_type": "stream",
     "text": [
      "/tmp/ipykernel_3853420/730053802.py:11: DtypeWarning: Columns (6,13,27,29,32,33,34,35,42,43,48) have mixed types. Specify dtype option on import or set low_memory=False.\n",
      "  for chunk in pd.read_csv(directory, chunksize=2500000, nrows = nrows):\n"
     ]
    },
    {
     "name": "stdout",
     "output_type": "stream",
     "text": [
      "579220 : len chunk PT\n",
      "425802 : after filtering zero-length PT\n",
      "300940 : len chunk PEV\n",
      "300940 : after filtering drivers\n",
      "292030 : len chunk PLV\n",
      "292030 : after filtering drivers\n"
     ]
    },
    {
     "name": "stderr",
     "output_type": "stream",
     "text": [
      "/tmp/ipykernel_3853420/730053802.py:11: DtypeWarning: Columns (6,13,27,29,32,33,34,35,42,43,48) have mixed types. Specify dtype option on import or set low_memory=False.\n",
      "  for chunk in pd.read_csv(directory, chunksize=2500000, nrows = nrows):\n"
     ]
    },
    {
     "name": "stdout",
     "output_type": "stream",
     "text": [
      "590906 : len chunk PT\n",
      "443450 : after filtering zero-length PT\n",
      "294203 : len chunk PEV\n",
      "294203 : after filtering drivers\n",
      "296410 : len chunk PLV\n",
      "296410 : after filtering drivers\n"
     ]
    },
    {
     "name": "stderr",
     "output_type": "stream",
     "text": [
      "/tmp/ipykernel_3853420/730053802.py:11: DtypeWarning: Columns (6,13,27,29,32,33,34,35,42,43,48) have mixed types. Specify dtype option on import or set low_memory=False.\n",
      "  for chunk in pd.read_csv(directory, chunksize=2500000, nrows = nrows):\n"
     ]
    },
    {
     "name": "stdout",
     "output_type": "stream",
     "text": [
      "584236 : len chunk PT\n",
      "431088 : after filtering zero-length PT\n",
      "294980 : len chunk PEV\n",
      "294980 : after filtering drivers\n",
      "295115 : len chunk PLV\n",
      "295115 : after filtering drivers\n"
     ]
    },
    {
     "name": "stderr",
     "output_type": "stream",
     "text": [
      "/tmp/ipykernel_3853420/730053802.py:11: DtypeWarning: Columns (6,13,27,29,32,33,34,35,42,43,48) have mixed types. Specify dtype option on import or set low_memory=False.\n",
      "  for chunk in pd.read_csv(directory, chunksize=2500000, nrows = nrows):\n"
     ]
    },
    {
     "name": "stdout",
     "output_type": "stream",
     "text": [
      "590250 : len chunk PT\n",
      "441536 : after filtering zero-length PT\n",
      "290675 : len chunk PEV\n",
      "290675 : after filtering drivers\n",
      "297729 : len chunk PLV\n",
      "297729 : after filtering drivers\n"
     ]
    },
    {
     "name": "stderr",
     "output_type": "stream",
     "text": [
      "/tmp/ipykernel_3853420/730053802.py:11: DtypeWarning: Columns (6,13,27,29,32,33,34,35,42,43,48) have mixed types. Specify dtype option on import or set low_memory=False.\n",
      "  for chunk in pd.read_csv(directory, chunksize=2500000, nrows = nrows):\n"
     ]
    },
    {
     "name": "stdout",
     "output_type": "stream",
     "text": [
      "575010 : len chunk PT\n",
      "429680 : after filtering zero-length PT\n",
      "300938 : len chunk PEV\n",
      "300938 : after filtering drivers\n",
      "286859 : len chunk PLV\n",
      "286859 : after filtering drivers\n"
     ]
    },
    {
     "name": "stderr",
     "output_type": "stream",
     "text": [
      "/tmp/ipykernel_3853420/730053802.py:11: DtypeWarning: Columns (6,13,27,29,32,33,34,35,42,43,48) have mixed types. Specify dtype option on import or set low_memory=False.\n",
      "  for chunk in pd.read_csv(directory, chunksize=2500000, nrows = nrows):\n"
     ]
    },
    {
     "name": "stdout",
     "output_type": "stream",
     "text": [
      "582770 : len chunk PT\n",
      "437752 : after filtering zero-length PT\n",
      "295053 : len chunk PEV\n",
      "295053 : after filtering drivers\n",
      "292045 : len chunk PLV\n",
      "292045 : after filtering drivers\n"
     ]
    },
    {
     "name": "stderr",
     "output_type": "stream",
     "text": [
      "/tmp/ipykernel_3853420/730053802.py:11: DtypeWarning: Columns (6,13,27,29,32,33,34,35,42,43,48) have mixed types. Specify dtype option on import or set low_memory=False.\n",
      "  for chunk in pd.read_csv(directory, chunksize=2500000, nrows = nrows):\n"
     ]
    },
    {
     "name": "stdout",
     "output_type": "stream",
     "text": [
      "589213 : len chunk PT\n",
      "447535 : after filtering zero-length PT\n",
      "289884 : len chunk PEV\n",
      "289884 : after filtering drivers\n",
      "296976 : len chunk PLV\n",
      "296976 : after filtering drivers\n"
     ]
    },
    {
     "name": "stderr",
     "output_type": "stream",
     "text": [
      "/tmp/ipykernel_3853420/730053802.py:11: DtypeWarning: Columns (6,13,27,29,32,33,34,35,42,43,48) have mixed types. Specify dtype option on import or set low_memory=False.\n",
      "  for chunk in pd.read_csv(directory, chunksize=2500000, nrows = nrows):\n"
     ]
    },
    {
     "name": "stdout",
     "output_type": "stream",
     "text": [
      "566436 : len chunk PT\n",
      "427633 : after filtering zero-length PT\n",
      "303721 : len chunk PEV\n",
      "303721 : after filtering drivers\n",
      "281839 : len chunk PLV\n",
      "281839 : after filtering drivers\n"
     ]
    },
    {
     "name": "stderr",
     "output_type": "stream",
     "text": [
      "/tmp/ipykernel_3853420/730053802.py:11: DtypeWarning: Columns (6,13,27,29,32,33,34,35,42,43,48) have mixed types. Specify dtype option on import or set low_memory=False.\n",
      "  for chunk in pd.read_csv(directory, chunksize=2500000, nrows = nrows):\n"
     ]
    },
    {
     "name": "stdout",
     "output_type": "stream",
     "text": [
      "586341 : len chunk PT\n",
      "445528 : after filtering zero-length PT\n",
      "289195 : len chunk PEV\n",
      "289195 : after filtering drivers\n",
      "299122 : len chunk PLV\n",
      "299122 : after filtering drivers\n"
     ]
    },
    {
     "name": "stderr",
     "output_type": "stream",
     "text": [
      "/tmp/ipykernel_3853420/730053802.py:11: DtypeWarning: Columns (6,13,27,29,32,33,34,35,42,43,48) have mixed types. Specify dtype option on import or set low_memory=False.\n",
      "  for chunk in pd.read_csv(directory, chunksize=2500000, nrows = nrows):\n"
     ]
    },
    {
     "name": "stdout",
     "output_type": "stream",
     "text": [
      "571190 : len chunk PT\n",
      "432894 : after filtering zero-length PT\n",
      "297088 : len chunk PEV\n",
      "297088 : after filtering drivers\n",
      "289098 : len chunk PLV\n",
      "289098 : after filtering drivers\n"
     ]
    },
    {
     "name": "stderr",
     "output_type": "stream",
     "text": [
      "/tmp/ipykernel_3853420/730053802.py:11: DtypeWarning: Columns (6,13,27,29,32,33,34,35,42,43,48) have mixed types. Specify dtype option on import or set low_memory=False.\n",
      "  for chunk in pd.read_csv(directory, chunksize=2500000, nrows = nrows):\n"
     ]
    },
    {
     "name": "stdout",
     "output_type": "stream",
     "text": [
      "571425 : len chunk PT\n",
      "437535 : after filtering zero-length PT\n",
      "293078 : len chunk PEV\n",
      "293078 : after filtering drivers\n",
      "288720 : len chunk PLV\n",
      "288720 : after filtering drivers\n"
     ]
    },
    {
     "name": "stderr",
     "output_type": "stream",
     "text": [
      "/tmp/ipykernel_3853420/730053802.py:11: DtypeWarning: Columns (6,13,27,29,32,33,34,35,42,43,48) have mixed types. Specify dtype option on import or set low_memory=False.\n",
      "  for chunk in pd.read_csv(directory, chunksize=2500000, nrows = nrows):\n"
     ]
    },
    {
     "name": "stdout",
     "output_type": "stream",
     "text": [
      "574176 : len chunk PT\n",
      "439643 : after filtering zero-length PT\n",
      "287101 : len chunk PEV\n",
      "287101 : after filtering drivers\n",
      "293741 : len chunk PLV\n",
      "293741 : after filtering drivers\n"
     ]
    },
    {
     "name": "stderr",
     "output_type": "stream",
     "text": [
      "/tmp/ipykernel_3853420/730053802.py:11: DtypeWarning: Columns (6,13,27,29,32,33,34,35,42,43,48) have mixed types. Specify dtype option on import or set low_memory=False.\n",
      "  for chunk in pd.read_csv(directory, chunksize=2500000, nrows = nrows):\n"
     ]
    },
    {
     "name": "stdout",
     "output_type": "stream",
     "text": [
      "561912 : len chunk PT\n",
      "428557 : after filtering zero-length PT\n",
      "293310 : len chunk PEV\n",
      "293310 : after filtering drivers\n",
      "283045 : len chunk PLV\n",
      "283045 : after filtering drivers\n"
     ]
    },
    {
     "name": "stderr",
     "output_type": "stream",
     "text": [
      "/tmp/ipykernel_3853420/730053802.py:11: DtypeWarning: Columns (6,13,27,29,32,33,34,35,42,43,48) have mixed types. Specify dtype option on import or set low_memory=False.\n",
      "  for chunk in pd.read_csv(directory, chunksize=2500000, nrows = nrows):\n"
     ]
    },
    {
     "name": "stdout",
     "output_type": "stream",
     "text": [
      "550817 : len chunk PT\n",
      "423164 : after filtering zero-length PT\n",
      "292201 : len chunk PEV\n",
      "292201 : after filtering drivers\n",
      "278388 : len chunk PLV\n",
      "278388 : after filtering drivers\n"
     ]
    },
    {
     "name": "stderr",
     "output_type": "stream",
     "text": [
      "/tmp/ipykernel_3853420/730053802.py:11: DtypeWarning: Columns (6,13,27,29,32,33,34,35,42,43,48) have mixed types. Specify dtype option on import or set low_memory=False.\n",
      "  for chunk in pd.read_csv(directory, chunksize=2500000, nrows = nrows):\n"
     ]
    },
    {
     "name": "stdout",
     "output_type": "stream",
     "text": [
      "565241 : len chunk PT\n",
      "439453 : after filtering zero-length PT\n",
      "285719 : len chunk PEV\n",
      "285719 : after filtering drivers\n",
      "285993 : len chunk PLV\n",
      "285993 : after filtering drivers\n"
     ]
    },
    {
     "name": "stderr",
     "output_type": "stream",
     "text": [
      "/tmp/ipykernel_3853420/730053802.py:11: DtypeWarning: Columns (6,13,27,29,32,33,34,35,42,43,48) have mixed types. Specify dtype option on import or set low_memory=False.\n",
      "  for chunk in pd.read_csv(directory, chunksize=2500000, nrows = nrows):\n"
     ]
    },
    {
     "name": "stdout",
     "output_type": "stream",
     "text": [
      "565820 : len chunk PT\n",
      "432576 : after filtering zero-length PT\n",
      "298364 : len chunk PEV\n",
      "298364 : after filtering drivers\n",
      "289695 : len chunk PLV\n",
      "289695 : after filtering drivers\n"
     ]
    },
    {
     "name": "stderr",
     "output_type": "stream",
     "text": [
      "/tmp/ipykernel_3853420/730053802.py:11: DtypeWarning: Columns (6,13,27,29,32,33,34,35,42,43,48) have mixed types. Specify dtype option on import or set low_memory=False.\n",
      "  for chunk in pd.read_csv(directory, chunksize=2500000, nrows = nrows):\n"
     ]
    },
    {
     "name": "stdout",
     "output_type": "stream",
     "text": [
      "574734 : len chunk PT\n",
      "443957 : after filtering zero-length PT\n",
      "293642 : len chunk PEV\n",
      "293642 : after filtering drivers\n",
      "293686 : len chunk PLV\n",
      "293686 : after filtering drivers\n"
     ]
    },
    {
     "name": "stderr",
     "output_type": "stream",
     "text": [
      "/tmp/ipykernel_3853420/730053802.py:11: DtypeWarning: Columns (6,13,27,29,32,33,34,35,42,43,48) have mixed types. Specify dtype option on import or set low_memory=False.\n",
      "  for chunk in pd.read_csv(directory, chunksize=2500000, nrows = nrows):\n"
     ]
    },
    {
     "name": "stdout",
     "output_type": "stream",
     "text": [
      "566819 : len chunk PT\n",
      "442548 : after filtering zero-length PT\n",
      "302531 : len chunk PEV\n",
      "302531 : after filtering drivers\n",
      "283923 : len chunk PLV\n",
      "283923 : after filtering drivers\n"
     ]
    },
    {
     "name": "stderr",
     "output_type": "stream",
     "text": [
      "/tmp/ipykernel_3853420/730053802.py:11: DtypeWarning: Columns (6,13,27,29,32,33,34,35,42,43,48) have mixed types. Specify dtype option on import or set low_memory=False.\n",
      "  for chunk in pd.read_csv(directory, chunksize=2500000, nrows = nrows):\n"
     ]
    },
    {
     "name": "stdout",
     "output_type": "stream",
     "text": [
      "553479 : len chunk PT\n",
      "422367 : after filtering zero-length PT\n",
      "318356 : len chunk PEV\n",
      "318356 : after filtering drivers\n",
      "275121 : len chunk PLV\n",
      "275121 : after filtering drivers\n"
     ]
    },
    {
     "name": "stderr",
     "output_type": "stream",
     "text": [
      "/tmp/ipykernel_3853420/730053802.py:11: DtypeWarning: Columns (6,13,27,29,32,33,34,35,42,43,48) have mixed types. Specify dtype option on import or set low_memory=False.\n",
      "  for chunk in pd.read_csv(directory, chunksize=2500000, nrows = nrows):\n"
     ]
    },
    {
     "name": "stdout",
     "output_type": "stream",
     "text": [
      "569591 : len chunk PT\n",
      "441531 : after filtering zero-length PT\n",
      "303594 : len chunk PEV\n",
      "303594 : after filtering drivers\n",
      "288447 : len chunk PLV\n",
      "288447 : after filtering drivers\n"
     ]
    },
    {
     "name": "stderr",
     "output_type": "stream",
     "text": [
      "/tmp/ipykernel_3853420/730053802.py:11: DtypeWarning: Columns (6,13,27,29,32,33,34,35,42,43,48) have mixed types. Specify dtype option on import or set low_memory=False.\n",
      "  for chunk in pd.read_csv(directory, chunksize=2500000, nrows = nrows):\n"
     ]
    },
    {
     "name": "stdout",
     "output_type": "stream",
     "text": [
      "576173 : len chunk PT\n",
      "443554 : after filtering zero-length PT\n",
      "295642 : len chunk PEV\n",
      "295642 : after filtering drivers\n",
      "297792 : len chunk PLV\n",
      "297792 : after filtering drivers\n"
     ]
    },
    {
     "name": "stderr",
     "output_type": "stream",
     "text": [
      "/tmp/ipykernel_3853420/730053802.py:11: DtypeWarning: Columns (6,13,27,29,32,33,34,35,42,43,48) have mixed types. Specify dtype option on import or set low_memory=False.\n",
      "  for chunk in pd.read_csv(directory, chunksize=2500000, nrows = nrows):\n"
     ]
    },
    {
     "name": "stdout",
     "output_type": "stream",
     "text": [
      "568685 : len chunk PT\n",
      "438542 : after filtering zero-length PT\n",
      "307429 : len chunk PEV\n",
      "307429 : after filtering drivers\n",
      "288452 : len chunk PLV\n",
      "288452 : after filtering drivers\n"
     ]
    },
    {
     "name": "stderr",
     "output_type": "stream",
     "text": [
      "/tmp/ipykernel_3853420/730053802.py:11: DtypeWarning: Columns (6,13,27,29,32,33,34,35,42,43,48) have mixed types. Specify dtype option on import or set low_memory=False.\n",
      "  for chunk in pd.read_csv(directory, chunksize=2500000, nrows = nrows):\n"
     ]
    },
    {
     "name": "stdout",
     "output_type": "stream",
     "text": [
      "589144 : len chunk PT\n",
      "462332 : after filtering zero-length PT\n",
      "298683 : len chunk PEV\n",
      "298683 : after filtering drivers\n",
      "295839 : len chunk PLV\n",
      "295839 : after filtering drivers\n"
     ]
    },
    {
     "name": "stderr",
     "output_type": "stream",
     "text": [
      "/tmp/ipykernel_3853420/730053802.py:11: DtypeWarning: Columns (6,13,27,29,32,33,34,35,42,43,48) have mixed types. Specify dtype option on import or set low_memory=False.\n",
      "  for chunk in pd.read_csv(directory, chunksize=2500000, nrows = nrows):\n"
     ]
    },
    {
     "name": "stdout",
     "output_type": "stream",
     "text": [
      "571879 : len chunk PT\n",
      "439382 : after filtering zero-length PT\n",
      "295894 : len chunk PEV\n",
      "295894 : after filtering drivers\n",
      "299373 : len chunk PLV\n",
      "299373 : after filtering drivers\n"
     ]
    },
    {
     "name": "stderr",
     "output_type": "stream",
     "text": [
      "/tmp/ipykernel_3853420/730053802.py:11: DtypeWarning: Columns (6,13,27,29,32,33,34,35,42,43,48) have mixed types. Specify dtype option on import or set low_memory=False.\n",
      "  for chunk in pd.read_csv(directory, chunksize=2500000, nrows = nrows):\n"
     ]
    },
    {
     "name": "stdout",
     "output_type": "stream",
     "text": [
      "595250 : len chunk PT\n",
      "452528 : after filtering zero-length PT\n",
      "273777 : len chunk PEV\n",
      "273777 : after filtering drivers\n",
      "325101 : len chunk PLV\n",
      "325101 : after filtering drivers\n"
     ]
    },
    {
     "name": "stderr",
     "output_type": "stream",
     "text": [
      "/tmp/ipykernel_3853420/730053802.py:11: DtypeWarning: Columns (6,13,27,29,32,33,34,35,42,43,48) have mixed types. Specify dtype option on import or set low_memory=False.\n",
      "  for chunk in pd.read_csv(directory, chunksize=2500000, nrows = nrows):\n"
     ]
    },
    {
     "name": "stdout",
     "output_type": "stream",
     "text": [
      "615168 : len chunk PT\n",
      "478166 : after filtering zero-length PT\n",
      "268560 : len chunk PEV\n",
      "268560 : after filtering drivers\n",
      "335203 : len chunk PLV\n",
      "335203 : after filtering drivers\n"
     ]
    },
    {
     "name": "stderr",
     "output_type": "stream",
     "text": [
      "/tmp/ipykernel_3853420/730053802.py:11: DtypeWarning: Columns (6,13,27,29,32,33,34,35,42,43,48) have mixed types. Specify dtype option on import or set low_memory=False.\n",
      "  for chunk in pd.read_csv(directory, chunksize=2500000, nrows = nrows):\n"
     ]
    },
    {
     "name": "stdout",
     "output_type": "stream",
     "text": [
      "587234 : len chunk PT\n",
      "453301 : after filtering zero-length PT\n",
      "288338 : len chunk PEV\n",
      "288338 : after filtering drivers\n",
      "308733 : len chunk PLV\n",
      "308733 : after filtering drivers\n"
     ]
    },
    {
     "name": "stderr",
     "output_type": "stream",
     "text": [
      "/tmp/ipykernel_3853420/730053802.py:11: DtypeWarning: Columns (6,13,27,29,32,33,34,35,42,43,48) have mixed types. Specify dtype option on import or set low_memory=False.\n",
      "  for chunk in pd.read_csv(directory, chunksize=2500000, nrows = nrows):\n"
     ]
    },
    {
     "name": "stdout",
     "output_type": "stream",
     "text": [
      "593093 : len chunk PT\n",
      "458609 : after filtering zero-length PT\n",
      "284309 : len chunk PEV\n",
      "284309 : after filtering drivers\n",
      "310205 : len chunk PLV\n",
      "310205 : after filtering drivers\n"
     ]
    },
    {
     "name": "stderr",
     "output_type": "stream",
     "text": [
      "/tmp/ipykernel_3853420/730053802.py:11: DtypeWarning: Columns (6,13,27,29,32,33,34,35,42,43,48) have mixed types. Specify dtype option on import or set low_memory=False.\n",
      "  for chunk in pd.read_csv(directory, chunksize=2500000, nrows = nrows):\n"
     ]
    },
    {
     "name": "stdout",
     "output_type": "stream",
     "text": [
      "570931 : len chunk PT\n",
      "439938 : after filtering zero-length PT\n",
      "296552 : len chunk PEV\n",
      "296552 : after filtering drivers\n",
      "293175 : len chunk PLV\n",
      "293175 : after filtering drivers\n"
     ]
    },
    {
     "name": "stderr",
     "output_type": "stream",
     "text": [
      "/tmp/ipykernel_3853420/730053802.py:11: DtypeWarning: Columns (6,13,27,29,32,33,34,35,42,48) have mixed types. Specify dtype option on import or set low_memory=False.\n",
      "  for chunk in pd.read_csv(directory, chunksize=2500000, nrows = nrows):\n"
     ]
    },
    {
     "name": "stdout",
     "output_type": "stream",
     "text": [
      "598915 : len chunk PT\n",
      "460346 : after filtering zero-length PT\n",
      "272045 : len chunk PEV\n",
      "272045 : after filtering drivers\n",
      "318976 : len chunk PLV\n",
      "318976 : after filtering drivers\n"
     ]
    },
    {
     "name": "stderr",
     "output_type": "stream",
     "text": [
      "/tmp/ipykernel_3853420/730053802.py:11: DtypeWarning: Columns (6,42,43) have mixed types. Specify dtype option on import or set low_memory=False.\n",
      "  for chunk in pd.read_csv(directory, chunksize=2500000, nrows = nrows):\n"
     ]
    },
    {
     "name": "stdout",
     "output_type": "stream",
     "text": [
      "614868 : len chunk PT\n",
      "476769 : after filtering zero-length PT\n",
      "271641 : len chunk PEV\n",
      "271641 : after filtering drivers\n",
      "324114 : len chunk PLV\n",
      "324114 : after filtering drivers\n"
     ]
    },
    {
     "name": "stderr",
     "output_type": "stream",
     "text": [
      "/tmp/ipykernel_3853420/730053802.py:11: DtypeWarning: Columns (13,42,48) have mixed types. Specify dtype option on import or set low_memory=False.\n",
      "  for chunk in pd.read_csv(directory, chunksize=2500000, nrows = nrows):\n"
     ]
    },
    {
     "name": "stdout",
     "output_type": "stream",
     "text": [
      "207204 : len chunk PT\n",
      "165059 : after filtering zero-length PT\n",
      "58371 : len chunk PEV\n",
      "58371 : after filtering drivers\n",
      "112570 : len chunk PLV\n",
      "112570 : after filtering drivers\n",
      "12152938 :len PEVs\n",
      "12152874 :len PLVs\n",
      "17675708 :len PTs\n",
      "7546484 :len MCs\n",
      "149019 :len RPs\n",
      "7455110 :len ASs\n"
     ]
    },
    {
     "name": "stderr",
     "output_type": "stream",
     "text": [
      "/tmp/ipykernel_3853420/3791711208.py:17: UserWarning: evaluating in Python space because the '*' operator is not supported by numexpr for the bool dtype, use '&' instead.\n",
      "  PTs['is_RHempty'] = PTs['isRH']*PTs['is_empty']\n",
      "/tmp/ipykernel_3853420/3791711208.py:48: UserWarning: evaluating in Python space because the '*' operator is not supported by numexpr for the bool dtype, use '&' instead.\n",
      "  PTs['is_'+tm+'_empty'] = PTs['is'+tm]*PTs['is_empty']\n",
      "/tmp/ipykernel_3853420/3791711208.py:48: UserWarning: evaluating in Python space because the '*' operator is not supported by numexpr for the bool dtype, use '&' instead.\n",
      "  PTs['is_'+tm+'_empty'] = PTs['is'+tm]*PTs['is_empty']\n",
      "/tmp/ipykernel_3853420/3791711208.py:48: UserWarning: evaluating in Python space because the '*' operator is not supported by numexpr for the bool dtype, use '&' instead.\n",
      "  PTs['is_'+tm+'_empty'] = PTs['is'+tm]*PTs['is_empty']\n",
      "/tmp/ipykernel_3853420/3791711208.py:48: UserWarning: evaluating in Python space because the '*' operator is not supported by numexpr for the bool dtype, use '&' instead.\n",
      "  PTs['is_'+tm+'_empty'] = PTs['is'+tm]*PTs['is_empty']\n",
      "/tmp/ipykernel_3853420/3791711208.py:48: UserWarning: evaluating in Python space because the '*' operator is not supported by numexpr for the bool dtype, use '&' instead.\n",
      "  PTs['is_'+tm+'_empty'] = PTs['is'+tm]*PTs['is_empty']\n",
      "/tmp/ipykernel_3853420/3791711208.py:48: UserWarning: evaluating in Python space because the '*' operator is not supported by numexpr for the bool dtype, use '&' instead.\n",
      "  PTs['is_'+tm+'_empty'] = PTs['is'+tm]*PTs['is_empty']\n"
     ]
    },
    {
     "name": "stdout",
     "output_type": "stream",
     "text": [
      "processPlans...\n",
      "gs://beam-core-outputs/sfbay-tr-BARTBSVI-30pct-20230828/beam/year-2018-iteration-10/ITERS/it.0/0.plans.csv.gz\n",
      "addTimesToPlans...\n",
      "Total time: 4.622275114059448\n",
      "Total time: 786.313458442688\n",
      "personToPathTraversal...\n",
      "expected PtoPTs from occupancy  car 7328166\n",
      "expected PtoPTs from occupancy  walk 6206624\n",
      "expected PtoPTs from occupancy  car_hov2 1053924.0\n",
      "expected PtoPTs from occupancy  bus 4244055\n",
      "expected PtoPTs from occupancy  car_hov3 754577.0\n",
      "expected PtoPTs from occupancy  bus_empty 0\n",
      "expected PtoPTs from occupancy  car_emer 413341\n",
      "expected PtoPTs from occupancy  car_hov2_emer 129341\n",
      "expected PtoPTs from occupancy  car_RideHail_empty 0\n",
      "expected PtoPTs from occupancy  car_RideHail 111477\n",
      "expected PtoPTs from occupancy  bike 105677\n",
      "expected PtoPTs from occupancy  car_hov3_emer 89850\n",
      "expected PtoPTs from occupancy  tram 369238\n",
      "expected PtoPTs from occupancy  subway 631686\n",
      "expected PtoPTs from occupancy  cable_car 41779\n",
      "expected PtoPTs from occupancy  tram_empty 0\n",
      "expected PtoPTs from occupancy  cable_car_empty 0\n",
      "expected PtoPTs from occupancy  rail 20350\n",
      "expected PtoPTs from occupancy  subway_empty 0\n",
      "expected PtoPTs from occupancy  rail_empty 0\n",
      "expected PtoPTs from occupancy  ferry_empty 0\n",
      "expected PtoPTs from occupancy  ferry 29\n",
      "expected PtoPTs from occupancy TOT =  21500114.0\n",
      "len of PEV =  12152938\n",
      "len of PLV =  12152874\n",
      "len PtoPTs after matching agents and vehicles bike 105680\n",
      "len PtoPTs after matching agents and vehicles bus 4244175\n",
      "len PtoPTs after matching agents and vehicles bus_empty 24\n",
      "len PtoPTs after matching agents and vehicles cable_car 41779\n",
      "len PtoPTs after matching agents and vehicles car 7328234\n",
      "len PtoPTs after matching agents and vehicles car_RideHail 111943\n",
      "len PtoPTs after matching agents and vehicles car_RideHail_empty 737\n",
      "len PtoPTs after matching agents and vehicles car_emer 413275\n",
      "len PtoPTs after matching agents and vehicles car_hov2 1054016\n",
      "len PtoPTs after matching agents and vehicles car_hov2_emer 129346\n",
      "len PtoPTs after matching agents and vehicles car_hov3 754624\n",
      "len PtoPTs after matching agents and vehicles car_hov3_emer 89860\n",
      "len PtoPTs after matching agents and vehicles ferry 29\n",
      "len PtoPTs after matching agents and vehicles rail 20350\n",
      "len PtoPTs after matching agents and vehicles subway 631686\n",
      "len PtoPTs after matching agents and vehicles tram 369238\n",
      "len PtoPTs after matching agents and vehicles walk 6207008\n",
      "no legs found: 117334\n",
      "no legs found after time check: 1144568\n",
      "no vehicle body found, probably because with zero duration (discarded by PT): 117334\n",
      "no vehicle body found after time check, probably because with zero duration (discarded by PT): 1144568\n",
      "Tot created PtoPTs =  21502004\n",
      "Total time: 2453.5166342258453\n",
      "Number Trips... TR-BSVI\n",
      "Share Trips... TR-BSVI\n",
      "Lengths Vehicles... TR-BSVI\n",
      "Lengths Persons... TR-BSVI\n",
      "Lengths Modes... TR-BSVI\n",
      "Durations Vehicle... TR-BSVI\n",
      "Durations Person... TR-BSVI\n",
      "Speeds Vehicle... TR-BSVI\n",
      "1.1660    11348780\n",
      "1.0000     6206624\n",
      "1.3958      100618\n",
      "1.1252       19686\n",
      "Name: routee correction, dtype: int64\n",
      "Energy Usage Vehicle... TR-BSVI\n",
      "Trip Gallons Vehicle... TR-BSVI\n",
      "Occupancy Vehicle... TR-BSVI\n",
      "Ridership Transit... TR-BSVI\n",
      "Ride hail... TR-BSVI\n",
      "done\n",
      "Total Time 6343.199426651001\n",
      "                              Baseline            TR  TR-BART  TR-BSVI\n",
      "Vehicle Passengers stops Cal       NaN  2.147100e+04      NaN      NaN\n",
      "Vehicle Passengers km Cal          NaN  1.056607e+05      NaN      NaN\n",
      "Vehicle Capacity km Cal            NaN  8.416326e+06      NaN      NaN\n",
      "Vehicle Load Factor Cal            NaN  1.255425e-02      NaN      NaN\n",
      "Ridership Cal                      NaN  6.384000e+03      NaN      NaN\n",
      "Ridership Cal Share                NaN  8.875900e-03      NaN      NaN Number of attributes 4932\n",
      "writing results on gs://beam-core-outputs/sfbay-tr-BARTBSVI-30pct-20230828/postprocessOutputs/year-2018-iteration-10\n",
      "File uploaded successfully.\n",
      "Reading  gs://beam-core-outputs/sfbay-tr-BARTBSVII-30pct-20230828/beam/year-2018-iteration-10/ITERS/it.0/0.events.csv.gz\n"
     ]
    },
    {
     "name": "stderr",
     "output_type": "stream",
     "text": [
      "/tmp/ipykernel_3853420/730053802.py:11: DtypeWarning: Columns (0,1,7,8,9,10,15,17,22,28,30,39,41,42,43,44,54,56,58,59,60,61,62) have mixed types. Specify dtype option on import or set low_memory=False.\n",
      "  for chunk in pd.read_csv(directory, chunksize=2500000, nrows = nrows):\n"
     ]
    },
    {
     "name": "stdout",
     "output_type": "stream",
     "text": [
      "10031 : len chunk PT\n",
      "7923 : after filtering zero-length PT\n",
      "54528 : len chunk PEV\n",
      "4753 : after filtering drivers\n",
      "68 : len chunk PLV\n",
      "68 : after filtering drivers\n"
     ]
    },
    {
     "name": "stderr",
     "output_type": "stream",
     "text": [
      "/tmp/ipykernel_3853420/730053802.py:11: DtypeWarning: Columns (7,14,28,31,54,56,58,59,60,61,62) have mixed types. Specify dtype option on import or set low_memory=False.\n",
      "  for chunk in pd.read_csv(directory, chunksize=2500000, nrows = nrows):\n"
     ]
    },
    {
     "name": "stdout",
     "output_type": "stream",
     "text": [
      "579508 : len chunk PT\n",
      "356546 : after filtering zero-length PT\n",
      "336185 : len chunk PEV\n",
      "336185 : after filtering drivers\n",
      "257786 : len chunk PLV\n",
      "257786 : after filtering drivers\n"
     ]
    },
    {
     "name": "stderr",
     "output_type": "stream",
     "text": [
      "/tmp/ipykernel_3853420/730053802.py:11: DtypeWarning: Columns (7,14,28,31,54,56,58,59,60,61,62) have mixed types. Specify dtype option on import or set low_memory=False.\n",
      "  for chunk in pd.read_csv(directory, chunksize=2500000, nrows = nrows):\n"
     ]
    },
    {
     "name": "stdout",
     "output_type": "stream",
     "text": [
      "576038 : len chunk PT\n",
      "365879 : after filtering zero-length PT\n",
      "325560 : len chunk PEV\n",
      "325560 : after filtering drivers\n",
      "269880 : len chunk PLV\n",
      "269880 : after filtering drivers\n"
     ]
    },
    {
     "name": "stderr",
     "output_type": "stream",
     "text": [
      "/tmp/ipykernel_3853420/730053802.py:11: DtypeWarning: Columns (7,14,28,31,54,56,58,59,60,61,62) have mixed types. Specify dtype option on import or set low_memory=False.\n",
      "  for chunk in pd.read_csv(directory, chunksize=2500000, nrows = nrows):\n"
     ]
    },
    {
     "name": "stdout",
     "output_type": "stream",
     "text": [
      "548121 : len chunk PT\n",
      "344355 : after filtering zero-length PT\n",
      "315706 : len chunk PEV\n",
      "315706 : after filtering drivers\n",
      "259666 : len chunk PLV\n",
      "259666 : after filtering drivers\n"
     ]
    },
    {
     "name": "stderr",
     "output_type": "stream",
     "text": [
      "/tmp/ipykernel_3853420/730053802.py:11: DtypeWarning: Columns (7,14,28,31,54,56,58,59,60,61,62) have mixed types. Specify dtype option on import or set low_memory=False.\n",
      "  for chunk in pd.read_csv(directory, chunksize=2500000, nrows = nrows):\n"
     ]
    },
    {
     "name": "stdout",
     "output_type": "stream",
     "text": [
      "560574 : len chunk PT\n",
      "365134 : after filtering zero-length PT\n",
      "301125 : len chunk PEV\n",
      "301125 : after filtering drivers\n",
      "281385 : len chunk PLV\n",
      "281385 : after filtering drivers\n"
     ]
    },
    {
     "name": "stderr",
     "output_type": "stream",
     "text": [
      "/tmp/ipykernel_3853420/730053802.py:11: DtypeWarning: Columns (7,14,28,31,54,56,58,59,60,61) have mixed types. Specify dtype option on import or set low_memory=False.\n",
      "  for chunk in pd.read_csv(directory, chunksize=2500000, nrows = nrows):\n"
     ]
    },
    {
     "name": "stdout",
     "output_type": "stream",
     "text": [
      "548173 : len chunk PT\n",
      "359196 : after filtering zero-length PT\n",
      "309399 : len chunk PEV\n",
      "309399 : after filtering drivers\n",
      "275116 : len chunk PLV\n",
      "275116 : after filtering drivers\n"
     ]
    },
    {
     "name": "stderr",
     "output_type": "stream",
     "text": [
      "/tmp/ipykernel_3853420/730053802.py:11: DtypeWarning: Columns (7,14,28,31,54,56,58,59,60,61,62) have mixed types. Specify dtype option on import or set low_memory=False.\n",
      "  for chunk in pd.read_csv(directory, chunksize=2500000, nrows = nrows):\n"
     ]
    },
    {
     "name": "stdout",
     "output_type": "stream",
     "text": [
      "552754 : len chunk PT\n",
      "364828 : after filtering zero-length PT\n",
      "296673 : len chunk PEV\n",
      "296673 : after filtering drivers\n",
      "284223 : len chunk PLV\n",
      "284223 : after filtering drivers\n"
     ]
    },
    {
     "name": "stderr",
     "output_type": "stream",
     "text": [
      "/tmp/ipykernel_3853420/730053802.py:11: DtypeWarning: Columns (7,14,28,31,54,56,58,59,60,61,62) have mixed types. Specify dtype option on import or set low_memory=False.\n",
      "  for chunk in pd.read_csv(directory, chunksize=2500000, nrows = nrows):\n"
     ]
    },
    {
     "name": "stdout",
     "output_type": "stream",
     "text": [
      "558457 : len chunk PT\n",
      "384659 : after filtering zero-length PT\n",
      "288030 : len chunk PEV\n",
      "288030 : after filtering drivers\n",
      "292365 : len chunk PLV\n",
      "292365 : after filtering drivers\n"
     ]
    },
    {
     "name": "stderr",
     "output_type": "stream",
     "text": [
      "/tmp/ipykernel_3853420/730053802.py:11: DtypeWarning: Columns (7,14,28,31,54,56,58,59,60,61) have mixed types. Specify dtype option on import or set low_memory=False.\n",
      "  for chunk in pd.read_csv(directory, chunksize=2500000, nrows = nrows):\n"
     ]
    },
    {
     "name": "stdout",
     "output_type": "stream",
     "text": [
      "546456 : len chunk PT\n",
      "378891 : after filtering zero-length PT\n",
      "297367 : len chunk PEV\n",
      "297367 : after filtering drivers\n",
      "283318 : len chunk PLV\n",
      "283318 : after filtering drivers\n"
     ]
    },
    {
     "name": "stderr",
     "output_type": "stream",
     "text": [
      "/tmp/ipykernel_3853420/730053802.py:11: DtypeWarning: Columns (7,14,28,31,54,56,58,59,60,61,62) have mixed types. Specify dtype option on import or set low_memory=False.\n",
      "  for chunk in pd.read_csv(directory, chunksize=2500000, nrows = nrows):\n"
     ]
    },
    {
     "name": "stdout",
     "output_type": "stream",
     "text": [
      "595140 : len chunk PT\n",
      "429619 : after filtering zero-length PT\n",
      "264865 : len chunk PEV\n",
      "264865 : after filtering drivers\n",
      "329954 : len chunk PLV\n",
      "329954 : after filtering drivers\n"
     ]
    },
    {
     "name": "stderr",
     "output_type": "stream",
     "text": [
      "/tmp/ipykernel_3853420/730053802.py:11: DtypeWarning: Columns (7,14,28,31,54,56,58,59,60,61,62) have mixed types. Specify dtype option on import or set low_memory=False.\n",
      "  for chunk in pd.read_csv(directory, chunksize=2500000, nrows = nrows):\n"
     ]
    },
    {
     "name": "stdout",
     "output_type": "stream",
     "text": [
      "597381 : len chunk PT\n",
      "435166 : after filtering zero-length PT\n",
      "277697 : len chunk PEV\n",
      "277697 : after filtering drivers\n",
      "321571 : len chunk PLV\n",
      "321571 : after filtering drivers\n"
     ]
    },
    {
     "name": "stderr",
     "output_type": "stream",
     "text": [
      "/tmp/ipykernel_3853420/730053802.py:11: DtypeWarning: Columns (7,14,28,31,54,56,58,59,60,61,62) have mixed types. Specify dtype option on import or set low_memory=False.\n",
      "  for chunk in pd.read_csv(directory, chunksize=2500000, nrows = nrows):\n"
     ]
    },
    {
     "name": "stdout",
     "output_type": "stream",
     "text": [
      "580736 : len chunk PT\n",
      "426268 : after filtering zero-length PT\n",
      "302405 : len chunk PEV\n",
      "302405 : after filtering drivers\n",
      "292536 : len chunk PLV\n",
      "292536 : after filtering drivers\n"
     ]
    },
    {
     "name": "stderr",
     "output_type": "stream",
     "text": [
      "/tmp/ipykernel_3853420/730053802.py:11: DtypeWarning: Columns (7,14,28,31,54,56,58,59,60,61,62) have mixed types. Specify dtype option on import or set low_memory=False.\n",
      "  for chunk in pd.read_csv(directory, chunksize=2500000, nrows = nrows):\n"
     ]
    },
    {
     "name": "stdout",
     "output_type": "stream",
     "text": [
      "586875 : len chunk PT\n",
      "437965 : after filtering zero-length PT\n",
      "294660 : len chunk PEV\n",
      "294660 : after filtering drivers\n",
      "295912 : len chunk PLV\n",
      "295912 : after filtering drivers\n"
     ]
    },
    {
     "name": "stderr",
     "output_type": "stream",
     "text": [
      "/tmp/ipykernel_3853420/730053802.py:11: DtypeWarning: Columns (7,14,28,31,54,56,58,59,60,61,62) have mixed types. Specify dtype option on import or set low_memory=False.\n",
      "  for chunk in pd.read_csv(directory, chunksize=2500000, nrows = nrows):\n"
     ]
    },
    {
     "name": "stdout",
     "output_type": "stream",
     "text": [
      "585517 : len chunk PT\n",
      "435029 : after filtering zero-length PT\n",
      "295130 : len chunk PEV\n",
      "295130 : after filtering drivers\n",
      "293993 : len chunk PLV\n",
      "293993 : after filtering drivers\n"
     ]
    },
    {
     "name": "stderr",
     "output_type": "stream",
     "text": [
      "/tmp/ipykernel_3853420/730053802.py:11: DtypeWarning: Columns (7,14,28,31,54,56,58,59,60,61,62) have mixed types. Specify dtype option on import or set low_memory=False.\n",
      "  for chunk in pd.read_csv(directory, chunksize=2500000, nrows = nrows):\n"
     ]
    },
    {
     "name": "stdout",
     "output_type": "stream",
     "text": [
      "589659 : len chunk PT\n",
      "443438 : after filtering zero-length PT\n",
      "291803 : len chunk PEV\n",
      "291803 : after filtering drivers\n",
      "295121 : len chunk PLV\n",
      "295121 : after filtering drivers\n"
     ]
    },
    {
     "name": "stderr",
     "output_type": "stream",
     "text": [
      "/tmp/ipykernel_3853420/730053802.py:11: DtypeWarning: Columns (7,14,28,31,54,56,58,59,60,61,62) have mixed types. Specify dtype option on import or set low_memory=False.\n",
      "  for chunk in pd.read_csv(directory, chunksize=2500000, nrows = nrows):\n"
     ]
    },
    {
     "name": "stdout",
     "output_type": "stream",
     "text": [
      "585207 : len chunk PT\n",
      "437219 : after filtering zero-length PT\n",
      "292119 : len chunk PEV\n",
      "292119 : after filtering drivers\n",
      "295941 : len chunk PLV\n",
      "295941 : after filtering drivers\n"
     ]
    },
    {
     "name": "stderr",
     "output_type": "stream",
     "text": [
      "/tmp/ipykernel_3853420/730053802.py:11: DtypeWarning: Columns (7,14,28,31,54,56,58,59,60,61,62) have mixed types. Specify dtype option on import or set low_memory=False.\n",
      "  for chunk in pd.read_csv(directory, chunksize=2500000, nrows = nrows):\n"
     ]
    },
    {
     "name": "stdout",
     "output_type": "stream",
     "text": [
      "576496 : len chunk PT\n",
      "432126 : after filtering zero-length PT\n",
      "300060 : len chunk PEV\n",
      "300060 : after filtering drivers\n",
      "287597 : len chunk PLV\n",
      "287597 : after filtering drivers\n"
     ]
    },
    {
     "name": "stderr",
     "output_type": "stream",
     "text": [
      "/tmp/ipykernel_3853420/730053802.py:11: DtypeWarning: Columns (7,14,28,31,54,56,58,59,60,61,62) have mixed types. Specify dtype option on import or set low_memory=False.\n",
      "  for chunk in pd.read_csv(directory, chunksize=2500000, nrows = nrows):\n"
     ]
    },
    {
     "name": "stdout",
     "output_type": "stream",
     "text": [
      "587041 : len chunk PT\n",
      "443938 : after filtering zero-length PT\n",
      "289678 : len chunk PEV\n",
      "289678 : after filtering drivers\n",
      "297002 : len chunk PLV\n",
      "297002 : after filtering drivers\n"
     ]
    },
    {
     "name": "stderr",
     "output_type": "stream",
     "text": [
      "/tmp/ipykernel_3853420/730053802.py:11: DtypeWarning: Columns (7,14,28,31,54,56,58,59,60,61,62) have mixed types. Specify dtype option on import or set low_memory=False.\n",
      "  for chunk in pd.read_csv(directory, chunksize=2500000, nrows = nrows):\n"
     ]
    },
    {
     "name": "stdout",
     "output_type": "stream",
     "text": [
      "564806 : len chunk PT\n",
      "426980 : after filtering zero-length PT\n",
      "307472 : len chunk PEV\n",
      "307472 : after filtering drivers\n",
      "278889 : len chunk PLV\n",
      "278889 : after filtering drivers\n"
     ]
    },
    {
     "name": "stderr",
     "output_type": "stream",
     "text": [
      "/tmp/ipykernel_3853420/730053802.py:11: DtypeWarning: Columns (7,14,28,31,54,56,58,59,60,61,62) have mixed types. Specify dtype option on import or set low_memory=False.\n",
      "  for chunk in pd.read_csv(directory, chunksize=2500000, nrows = nrows):\n"
     ]
    },
    {
     "name": "stdout",
     "output_type": "stream",
     "text": [
      "585394 : len chunk PT\n",
      "448381 : after filtering zero-length PT\n",
      "289154 : len chunk PEV\n",
      "289154 : after filtering drivers\n",
      "296135 : len chunk PLV\n",
      "296135 : after filtering drivers\n"
     ]
    },
    {
     "name": "stderr",
     "output_type": "stream",
     "text": [
      "/tmp/ipykernel_3853420/730053802.py:11: DtypeWarning: Columns (7,14,28,31,54,56,58,59,60,61,62) have mixed types. Specify dtype option on import or set low_memory=False.\n",
      "  for chunk in pd.read_csv(directory, chunksize=2500000, nrows = nrows):\n"
     ]
    },
    {
     "name": "stdout",
     "output_type": "stream",
     "text": [
      "572649 : len chunk PT\n",
      "433141 : after filtering zero-length PT\n",
      "295657 : len chunk PEV\n",
      "295657 : after filtering drivers\n",
      "292783 : len chunk PLV\n",
      "292783 : after filtering drivers\n"
     ]
    },
    {
     "name": "stderr",
     "output_type": "stream",
     "text": [
      "/tmp/ipykernel_3853420/730053802.py:11: DtypeWarning: Columns (7,14,28,31,54,56,58,59,60,61,62) have mixed types. Specify dtype option on import or set low_memory=False.\n",
      "  for chunk in pd.read_csv(directory, chunksize=2500000, nrows = nrows):\n"
     ]
    },
    {
     "name": "stdout",
     "output_type": "stream",
     "text": [
      "576834 : len chunk PT\n",
      "439311 : after filtering zero-length PT\n",
      "285637 : len chunk PEV\n",
      "285637 : after filtering drivers\n",
      "294799 : len chunk PLV\n",
      "294799 : after filtering drivers\n"
     ]
    },
    {
     "name": "stderr",
     "output_type": "stream",
     "text": [
      "/tmp/ipykernel_3853420/730053802.py:11: DtypeWarning: Columns (7,14,28,31,54,56,58,59,60,61,62) have mixed types. Specify dtype option on import or set low_memory=False.\n",
      "  for chunk in pd.read_csv(directory, chunksize=2500000, nrows = nrows):\n"
     ]
    },
    {
     "name": "stdout",
     "output_type": "stream",
     "text": [
      "570055 : len chunk PT\n",
      "437959 : after filtering zero-length PT\n",
      "291658 : len chunk PEV\n",
      "291658 : after filtering drivers\n",
      "288707 : len chunk PLV\n",
      "288707 : after filtering drivers\n"
     ]
    },
    {
     "name": "stderr",
     "output_type": "stream",
     "text": [
      "/tmp/ipykernel_3853420/730053802.py:11: DtypeWarning: Columns (7,14,28,31,54,56,58,59,60,61,62) have mixed types. Specify dtype option on import or set low_memory=False.\n",
      "  for chunk in pd.read_csv(directory, chunksize=2500000, nrows = nrows):\n"
     ]
    },
    {
     "name": "stdout",
     "output_type": "stream",
     "text": [
      "561051 : len chunk PT\n",
      "433449 : after filtering zero-length PT\n",
      "297413 : len chunk PEV\n",
      "297413 : after filtering drivers\n",
      "275866 : len chunk PLV\n",
      "275866 : after filtering drivers\n"
     ]
    },
    {
     "name": "stderr",
     "output_type": "stream",
     "text": [
      "/tmp/ipykernel_3853420/730053802.py:11: DtypeWarning: Columns (7,14,28,31,54,56,58,59,60,61,62) have mixed types. Specify dtype option on import or set low_memory=False.\n",
      "  for chunk in pd.read_csv(directory, chunksize=2500000, nrows = nrows):\n"
     ]
    },
    {
     "name": "stdout",
     "output_type": "stream",
     "text": [
      "552441 : len chunk PT\n",
      "420198 : after filtering zero-length PT\n",
      "288650 : len chunk PEV\n",
      "288650 : after filtering drivers\n",
      "285567 : len chunk PLV\n",
      "285567 : after filtering drivers\n"
     ]
    },
    {
     "name": "stderr",
     "output_type": "stream",
     "text": [
      "/tmp/ipykernel_3853420/730053802.py:11: DtypeWarning: Columns (7,14,28,31,54,56,58,59,60,61,62) have mixed types. Specify dtype option on import or set low_memory=False.\n",
      "  for chunk in pd.read_csv(directory, chunksize=2500000, nrows = nrows):\n"
     ]
    },
    {
     "name": "stdout",
     "output_type": "stream",
     "text": [
      "560092 : len chunk PT\n",
      "432066 : after filtering zero-length PT\n",
      "286565 : len chunk PEV\n",
      "286565 : after filtering drivers\n",
      "286304 : len chunk PLV\n",
      "286304 : after filtering drivers\n"
     ]
    },
    {
     "name": "stderr",
     "output_type": "stream",
     "text": [
      "/tmp/ipykernel_3853420/730053802.py:11: DtypeWarning: Columns (7,14,28,31,54,56,58,59,60,61,62) have mixed types. Specify dtype option on import or set low_memory=False.\n",
      "  for chunk in pd.read_csv(directory, chunksize=2500000, nrows = nrows):\n"
     ]
    },
    {
     "name": "stdout",
     "output_type": "stream",
     "text": [
      "566818 : len chunk PT\n",
      "436154 : after filtering zero-length PT\n",
      "299225 : len chunk PEV\n",
      "299225 : after filtering drivers\n",
      "287095 : len chunk PLV\n",
      "287095 : after filtering drivers\n"
     ]
    },
    {
     "name": "stderr",
     "output_type": "stream",
     "text": [
      "/tmp/ipykernel_3853420/730053802.py:11: DtypeWarning: Columns (7,14,28,31,54,56,58,59,60,61,62) have mixed types. Specify dtype option on import or set low_memory=False.\n",
      "  for chunk in pd.read_csv(directory, chunksize=2500000, nrows = nrows):\n"
     ]
    },
    {
     "name": "stdout",
     "output_type": "stream",
     "text": [
      "565663 : len chunk PT\n",
      "437124 : after filtering zero-length PT\n",
      "299781 : len chunk PEV\n",
      "299781 : after filtering drivers\n",
      "287388 : len chunk PLV\n",
      "287388 : after filtering drivers\n"
     ]
    },
    {
     "name": "stderr",
     "output_type": "stream",
     "text": [
      "/tmp/ipykernel_3853420/730053802.py:11: DtypeWarning: Columns (7,14,28,31,54,56,58,59,60,61,62) have mixed types. Specify dtype option on import or set low_memory=False.\n",
      "  for chunk in pd.read_csv(directory, chunksize=2500000, nrows = nrows):\n"
     ]
    },
    {
     "name": "stdout",
     "output_type": "stream",
     "text": [
      "576556 : len chunk PT\n",
      "445287 : after filtering zero-length PT\n",
      "294953 : len chunk PEV\n",
      "294953 : after filtering drivers\n",
      "293765 : len chunk PLV\n",
      "293765 : after filtering drivers\n"
     ]
    },
    {
     "name": "stderr",
     "output_type": "stream",
     "text": [
      "/tmp/ipykernel_3853420/730053802.py:11: DtypeWarning: Columns (7,14,28,31,54,56,58,59,60,61,62) have mixed types. Specify dtype option on import or set low_memory=False.\n",
      "  for chunk in pd.read_csv(directory, chunksize=2500000, nrows = nrows):\n"
     ]
    },
    {
     "name": "stdout",
     "output_type": "stream",
     "text": [
      "560875 : len chunk PT\n",
      "435452 : after filtering zero-length PT\n",
      "316684 : len chunk PEV\n",
      "316684 : after filtering drivers\n",
      "274984 : len chunk PLV\n",
      "274984 : after filtering drivers\n"
     ]
    },
    {
     "name": "stderr",
     "output_type": "stream",
     "text": [
      "/tmp/ipykernel_3853420/730053802.py:11: DtypeWarning: Columns (7,14,28,31,54,56,58,59,60,61,62) have mixed types. Specify dtype option on import or set low_memory=False.\n",
      "  for chunk in pd.read_csv(directory, chunksize=2500000, nrows = nrows):\n"
     ]
    },
    {
     "name": "stdout",
     "output_type": "stream",
     "text": [
      "567201 : len chunk PT\n",
      "439057 : after filtering zero-length PT\n",
      "304946 : len chunk PEV\n",
      "304946 : after filtering drivers\n",
      "287160 : len chunk PLV\n",
      "287160 : after filtering drivers\n"
     ]
    },
    {
     "name": "stderr",
     "output_type": "stream",
     "text": [
      "/tmp/ipykernel_3853420/730053802.py:11: DtypeWarning: Columns (7,14,28,31,54,56,58,59,60,61,62) have mixed types. Specify dtype option on import or set low_memory=False.\n",
      "  for chunk in pd.read_csv(directory, chunksize=2500000, nrows = nrows):\n"
     ]
    },
    {
     "name": "stdout",
     "output_type": "stream",
     "text": [
      "578728 : len chunk PT\n",
      "445205 : after filtering zero-length PT\n",
      "295154 : len chunk PEV\n",
      "295154 : after filtering drivers\n",
      "299485 : len chunk PLV\n",
      "299485 : after filtering drivers\n"
     ]
    },
    {
     "name": "stderr",
     "output_type": "stream",
     "text": [
      "/tmp/ipykernel_3853420/730053802.py:11: DtypeWarning: Columns (7,14,28,31,54,56,58,59,60,61,62) have mixed types. Specify dtype option on import or set low_memory=False.\n",
      "  for chunk in pd.read_csv(directory, chunksize=2500000, nrows = nrows):\n"
     ]
    },
    {
     "name": "stdout",
     "output_type": "stream",
     "text": [
      "572664 : len chunk PT\n",
      "441871 : after filtering zero-length PT\n",
      "303519 : len chunk PEV\n",
      "303519 : after filtering drivers\n",
      "290965 : len chunk PLV\n",
      "290965 : after filtering drivers\n"
     ]
    },
    {
     "name": "stderr",
     "output_type": "stream",
     "text": [
      "/tmp/ipykernel_3853420/730053802.py:11: DtypeWarning: Columns (7,14,28,31,54,56,58,59,60,61,62) have mixed types. Specify dtype option on import or set low_memory=False.\n",
      "  for chunk in pd.read_csv(directory, chunksize=2500000, nrows = nrows):\n"
     ]
    },
    {
     "name": "stdout",
     "output_type": "stream",
     "text": [
      "574863 : len chunk PT\n",
      "442566 : after filtering zero-length PT\n",
      "301348 : len chunk PEV\n",
      "301348 : after filtering drivers\n",
      "297387 : len chunk PLV\n",
      "297387 : after filtering drivers\n"
     ]
    },
    {
     "name": "stderr",
     "output_type": "stream",
     "text": [
      "/tmp/ipykernel_3853420/730053802.py:11: DtypeWarning: Columns (7,14,28,31,54,56,58,59,60,61,62) have mixed types. Specify dtype option on import or set low_memory=False.\n",
      "  for chunk in pd.read_csv(directory, chunksize=2500000, nrows = nrows):\n"
     ]
    },
    {
     "name": "stdout",
     "output_type": "stream",
     "text": [
      "570091 : len chunk PT\n",
      "439934 : after filtering zero-length PT\n",
      "299929 : len chunk PEV\n",
      "299929 : after filtering drivers\n",
      "295060 : len chunk PLV\n",
      "295060 : after filtering drivers\n"
     ]
    },
    {
     "name": "stderr",
     "output_type": "stream",
     "text": [
      "/tmp/ipykernel_3853420/730053802.py:11: DtypeWarning: Columns (7,14,28,31,54,56,58,59,60,61,62) have mixed types. Specify dtype option on import or set low_memory=False.\n",
      "  for chunk in pd.read_csv(directory, chunksize=2500000, nrows = nrows):\n"
     ]
    },
    {
     "name": "stdout",
     "output_type": "stream",
     "text": [
      "605711 : len chunk PT\n",
      "469461 : after filtering zero-length PT\n",
      "273593 : len chunk PEV\n",
      "273593 : after filtering drivers\n",
      "322061 : len chunk PLV\n",
      "322061 : after filtering drivers\n"
     ]
    },
    {
     "name": "stderr",
     "output_type": "stream",
     "text": [
      "/tmp/ipykernel_3853420/730053802.py:11: DtypeWarning: Columns (7,14,28,31,54,56,58,59,60,61,62) have mixed types. Specify dtype option on import or set low_memory=False.\n",
      "  for chunk in pd.read_csv(directory, chunksize=2500000, nrows = nrows):\n"
     ]
    },
    {
     "name": "stdout",
     "output_type": "stream",
     "text": [
      "605963 : len chunk PT\n",
      "468104 : after filtering zero-length PT\n",
      "271704 : len chunk PEV\n",
      "271704 : after filtering drivers\n",
      "331403 : len chunk PLV\n",
      "331403 : after filtering drivers\n"
     ]
    },
    {
     "name": "stderr",
     "output_type": "stream",
     "text": [
      "/tmp/ipykernel_3853420/730053802.py:11: DtypeWarning: Columns (7,14,28,31,54,56,58,59,60,61,62) have mixed types. Specify dtype option on import or set low_memory=False.\n",
      "  for chunk in pd.read_csv(directory, chunksize=2500000, nrows = nrows):\n"
     ]
    },
    {
     "name": "stdout",
     "output_type": "stream",
     "text": [
      "595156 : len chunk PT\n",
      "459588 : after filtering zero-length PT\n",
      "283296 : len chunk PEV\n",
      "283296 : after filtering drivers\n",
      "314602 : len chunk PLV\n",
      "314602 : after filtering drivers\n"
     ]
    },
    {
     "name": "stderr",
     "output_type": "stream",
     "text": [
      "/tmp/ipykernel_3853420/730053802.py:11: DtypeWarning: Columns (7,14,28,31,54,56,58,59,60,61,62) have mixed types. Specify dtype option on import or set low_memory=False.\n",
      "  for chunk in pd.read_csv(directory, chunksize=2500000, nrows = nrows):\n"
     ]
    },
    {
     "name": "stdout",
     "output_type": "stream",
     "text": [
      "590083 : len chunk PT\n",
      "457059 : after filtering zero-length PT\n",
      "287395 : len chunk PEV\n",
      "287395 : after filtering drivers\n",
      "306106 : len chunk PLV\n",
      "306106 : after filtering drivers\n"
     ]
    },
    {
     "name": "stderr",
     "output_type": "stream",
     "text": [
      "/tmp/ipykernel_3853420/730053802.py:11: DtypeWarning: Columns (7,14,28,31,54,56,58,59,60,61,62) have mixed types. Specify dtype option on import or set low_memory=False.\n",
      "  for chunk in pd.read_csv(directory, chunksize=2500000, nrows = nrows):\n"
     ]
    },
    {
     "name": "stdout",
     "output_type": "stream",
     "text": [
      "581202 : len chunk PT\n",
      "447985 : after filtering zero-length PT\n",
      "289823 : len chunk PEV\n",
      "289823 : after filtering drivers\n",
      "300782 : len chunk PLV\n",
      "300782 : after filtering drivers\n"
     ]
    },
    {
     "name": "stderr",
     "output_type": "stream",
     "text": [
      "/tmp/ipykernel_3853420/730053802.py:11: DtypeWarning: Columns (7,14,28,31,54,56,58,59,60,61,62) have mixed types. Specify dtype option on import or set low_memory=False.\n",
      "  for chunk in pd.read_csv(directory, chunksize=2500000, nrows = nrows):\n"
     ]
    },
    {
     "name": "stdout",
     "output_type": "stream",
     "text": [
      "589972 : len chunk PT\n",
      "451384 : after filtering zero-length PT\n",
      "276509 : len chunk PEV\n",
      "276509 : after filtering drivers\n",
      "314446 : len chunk PLV\n",
      "314446 : after filtering drivers\n"
     ]
    },
    {
     "name": "stderr",
     "output_type": "stream",
     "text": [
      "/tmp/ipykernel_3853420/730053802.py:11: DtypeWarning: Columns (7,28) have mixed types. Specify dtype option on import or set low_memory=False.\n",
      "  for chunk in pd.read_csv(directory, chunksize=2500000, nrows = nrows):\n"
     ]
    },
    {
     "name": "stdout",
     "output_type": "stream",
     "text": [
      "617921 : len chunk PT\n",
      "479728 : after filtering zero-length PT\n",
      "269753 : len chunk PEV\n",
      "269753 : after filtering drivers\n",
      "326059 : len chunk PLV\n",
      "326059 : after filtering drivers\n"
     ]
    },
    {
     "name": "stderr",
     "output_type": "stream",
     "text": [
      "/tmp/ipykernel_3853420/730053802.py:11: DtypeWarning: Columns (14,28,31) have mixed types. Specify dtype option on import or set low_memory=False.\n",
      "  for chunk in pd.read_csv(directory, chunksize=2500000, nrows = nrows):\n"
     ]
    },
    {
     "name": "stdout",
     "output_type": "stream",
     "text": [
      "200787 : len chunk PT\n",
      "159799 : after filtering zero-length PT\n",
      "57311 : len chunk PEV\n",
      "57311 : after filtering drivers\n",
      "109044 : len chunk PLV\n",
      "109044 : after filtering drivers\n",
      "12150344 :len PEVs\n",
      "12150276 :len PLVs\n",
      "17675422 :len PTs\n",
      "7545470 :len MCs\n",
      "147544 :len RPs\n",
      "7455098 :len ASs\n"
     ]
    },
    {
     "name": "stderr",
     "output_type": "stream",
     "text": [
      "/tmp/ipykernel_3853420/3791711208.py:17: UserWarning: evaluating in Python space because the '*' operator is not supported by numexpr for the bool dtype, use '&' instead.\n",
      "  PTs['is_RHempty'] = PTs['isRH']*PTs['is_empty']\n",
      "/tmp/ipykernel_3853420/3791711208.py:48: UserWarning: evaluating in Python space because the '*' operator is not supported by numexpr for the bool dtype, use '&' instead.\n",
      "  PTs['is_'+tm+'_empty'] = PTs['is'+tm]*PTs['is_empty']\n",
      "/tmp/ipykernel_3853420/3791711208.py:48: UserWarning: evaluating in Python space because the '*' operator is not supported by numexpr for the bool dtype, use '&' instead.\n",
      "  PTs['is_'+tm+'_empty'] = PTs['is'+tm]*PTs['is_empty']\n",
      "/tmp/ipykernel_3853420/3791711208.py:48: UserWarning: evaluating in Python space because the '*' operator is not supported by numexpr for the bool dtype, use '&' instead.\n",
      "  PTs['is_'+tm+'_empty'] = PTs['is'+tm]*PTs['is_empty']\n",
      "/tmp/ipykernel_3853420/3791711208.py:48: UserWarning: evaluating in Python space because the '*' operator is not supported by numexpr for the bool dtype, use '&' instead.\n",
      "  PTs['is_'+tm+'_empty'] = PTs['is'+tm]*PTs['is_empty']\n",
      "/tmp/ipykernel_3853420/3791711208.py:48: UserWarning: evaluating in Python space because the '*' operator is not supported by numexpr for the bool dtype, use '&' instead.\n",
      "  PTs['is_'+tm+'_empty'] = PTs['is'+tm]*PTs['is_empty']\n",
      "/tmp/ipykernel_3853420/3791711208.py:48: UserWarning: evaluating in Python space because the '*' operator is not supported by numexpr for the bool dtype, use '&' instead.\n",
      "  PTs['is_'+tm+'_empty'] = PTs['is'+tm]*PTs['is_empty']\n"
     ]
    },
    {
     "name": "stdout",
     "output_type": "stream",
     "text": [
      "processPlans...\n",
      "gs://beam-core-outputs/sfbay-tr-BARTBSVII-30pct-20230828/beam/year-2018-iteration-10/ITERS/it.0/0.plans.csv.gz\n",
      "addTimesToPlans...\n",
      "Total time: 4.9021594524383545\n",
      "Total time: 807.0563628673553\n",
      "personToPathTraversal...\n",
      "expected PtoPTs from occupancy  car 7326745\n",
      "expected PtoPTs from occupancy  walk 6208230\n",
      "expected PtoPTs from occupancy  car_hov2 1052842.0\n",
      "expected PtoPTs from occupancy  bus 4200447\n",
      "expected PtoPTs from occupancy  car_hov3 756432.0\n",
      "expected PtoPTs from occupancy  bus_empty 0\n",
      "expected PtoPTs from occupancy  car_emer 414562\n",
      "expected PtoPTs from occupancy  car_hov2_emer 128154\n",
      "expected PtoPTs from occupancy  car_RideHail_empty 0\n",
      "expected PtoPTs from occupancy  car_RideHail 110558\n",
      "expected PtoPTs from occupancy  bike 105787\n",
      "expected PtoPTs from occupancy  car_hov3_emer 89126\n",
      "expected PtoPTs from occupancy  tram 362507\n",
      "expected PtoPTs from occupancy  subway 650924\n",
      "expected PtoPTs from occupancy  cable_car 42618\n",
      "expected PtoPTs from occupancy  tram_empty 0\n",
      "expected PtoPTs from occupancy  cable_car_empty 0\n",
      "expected PtoPTs from occupancy  rail 20056\n",
      "expected PtoPTs from occupancy  subway_empty 0\n",
      "expected PtoPTs from occupancy  rail_empty 0\n",
      "expected PtoPTs from occupancy  ferry_empty 0\n",
      "expected PtoPTs from occupancy  ferry 34\n",
      "expected PtoPTs from occupancy TOT =  21469022.0\n",
      "len of PEV =  12150344\n",
      "len of PLV =  12150276\n",
      "len PtoPTs after matching agents and vehicles bike 105792\n",
      "len PtoPTs after matching agents and vehicles bus 4200614\n",
      "len PtoPTs after matching agents and vehicles bus_empty 18\n",
      "len PtoPTs after matching agents and vehicles cable_car 42618\n",
      "len PtoPTs after matching agents and vehicles car 7326987\n",
      "len PtoPTs after matching agents and vehicles car_RideHail 111316\n",
      "len PtoPTs after matching agents and vehicles car_RideHail_empty 1017\n",
      "len PtoPTs after matching agents and vehicles car_emer 414519\n",
      "len PtoPTs after matching agents and vehicles car_hov2 1052942\n",
      "len PtoPTs after matching agents and vehicles car_hov2_emer 128163\n",
      "len PtoPTs after matching agents and vehicles car_hov3 756490\n",
      "len PtoPTs after matching agents and vehicles car_hov3_emer 89139\n",
      "len PtoPTs after matching agents and vehicles ferry 34\n",
      "len PtoPTs after matching agents and vehicles rail 20056\n",
      "len PtoPTs after matching agents and vehicles subway 650924\n",
      "len PtoPTs after matching agents and vehicles tram 362507\n",
      "len PtoPTs after matching agents and vehicles walk 6208648\n",
      "no legs found: 116811\n",
      "no legs found after time check: 1143646\n",
      "no vehicle body found, probably because with zero duration (discarded by PT): 116811\n",
      "no vehicle body found after time check, probably because with zero duration (discarded by PT): 1143645\n",
      "Tot created PtoPTs =  21471784\n",
      "Total time: 2508.251502752304\n",
      "Number Trips... TR-BSVII\n",
      "Share Trips... TR-BSVII\n",
      "Lengths Vehicles... TR-BSVII\n",
      "Lengths Persons... TR-BSVII\n",
      "Lengths Modes... TR-BSVII\n",
      "Durations Vehicle... TR-BSVII\n",
      "Durations Person... TR-BSVII\n",
      "Speeds Vehicle... TR-BSVII\n",
      "1.1660    11346057\n",
      "1.0000     6208230\n",
      "1.3958      101623\n",
      "1.1252       19512\n",
      "Name: routee correction, dtype: int64\n",
      "Energy Usage Vehicle... TR-BSVII\n",
      "Trip Gallons Vehicle... TR-BSVII\n",
      "Occupancy Vehicle... TR-BSVII\n",
      "Ridership Transit... TR-BSVII\n",
      "Ride hail... TR-BSVII\n",
      "done\n",
      "Total Time 6745.806915283203\n",
      "                              Baseline            TR  TR-BART  TR-BSVI  \\\n",
      "Vehicle Passengers stops Cal       NaN  2.147100e+04      NaN      NaN   \n",
      "Vehicle Passengers km Cal          NaN  1.056607e+05      NaN      NaN   \n",
      "Vehicle Capacity km Cal            NaN  8.416326e+06      NaN      NaN   \n",
      "Vehicle Load Factor Cal            NaN  1.255425e-02      NaN      NaN   \n",
      "Ridership Cal                      NaN  6.384000e+03      NaN      NaN   \n",
      "Ridership Cal Share                NaN  8.875900e-03      NaN      NaN   \n",
      "\n",
      "                              TR-BSVII  \n",
      "Vehicle Passengers stops Cal       NaN  \n",
      "Vehicle Passengers km Cal          NaN  \n",
      "Vehicle Capacity km Cal            NaN  \n",
      "Vehicle Load Factor Cal            NaN  \n",
      "Ridership Cal                      NaN  \n",
      "Ridership Cal Share                NaN   Number of attributes 4932\n",
      "writing results on gs://beam-core-outputs/sfbay-tr-BARTBSVII-30pct-20230828/postprocessOutputs/year-2018-iteration-10\n",
      "File uploaded successfully.\n",
      "Reading  gs://beam-core-outputs/sfbay-tr-BARTCORE-30pct-20230828/beam/year-2018-iteration-10/ITERS/it.0/0.events.csv.gz\n"
     ]
    },
    {
     "name": "stderr",
     "output_type": "stream",
     "text": [
      "/tmp/ipykernel_3853420/730053802.py:11: DtypeWarning: Columns (0,1,10,11,12,14,16,19,20,21,22,24,25,26,27,29,30,31,44,46,47,48,52,54) have mixed types. Specify dtype option on import or set low_memory=False.\n",
      "  for chunk in pd.read_csv(directory, chunksize=2500000, nrows = nrows):\n"
     ]
    },
    {
     "name": "stdout",
     "output_type": "stream",
     "text": [
      "10047 : len chunk PT\n",
      "7922 : after filtering zero-length PT\n",
      "54390 : len chunk PEV\n",
      "4808 : after filtering drivers\n",
      "93 : len chunk PLV\n",
      "93 : after filtering drivers\n"
     ]
    },
    {
     "name": "stderr",
     "output_type": "stream",
     "text": [
      "/tmp/ipykernel_3853420/730053802.py:11: DtypeWarning: Columns (1,14,16,19,20,21,22,24,29,35,54) have mixed types. Specify dtype option on import or set low_memory=False.\n",
      "  for chunk in pd.read_csv(directory, chunksize=2500000, nrows = nrows):\n"
     ]
    },
    {
     "name": "stdout",
     "output_type": "stream",
     "text": [
      "576793 : len chunk PT\n",
      "352253 : after filtering zero-length PT\n",
      "338528 : len chunk PEV\n",
      "338528 : after filtering drivers\n",
      "256132 : len chunk PLV\n",
      "256132 : after filtering drivers\n"
     ]
    },
    {
     "name": "stderr",
     "output_type": "stream",
     "text": [
      "/tmp/ipykernel_3853420/730053802.py:11: DtypeWarning: Columns (14,16,19,20,21,22,24,29,35,54) have mixed types. Specify dtype option on import or set low_memory=False.\n",
      "  for chunk in pd.read_csv(directory, chunksize=2500000, nrows = nrows):\n"
     ]
    },
    {
     "name": "stdout",
     "output_type": "stream",
     "text": [
      "580214 : len chunk PT\n",
      "371607 : after filtering zero-length PT\n",
      "323572 : len chunk PEV\n",
      "323572 : after filtering drivers\n",
      "272227 : len chunk PLV\n",
      "272227 : after filtering drivers\n"
     ]
    },
    {
     "name": "stderr",
     "output_type": "stream",
     "text": [
      "/tmp/ipykernel_3853420/730053802.py:11: DtypeWarning: Columns (1,14,16,19,20,21,22,24,29,35,54) have mixed types. Specify dtype option on import or set low_memory=False.\n",
      "  for chunk in pd.read_csv(directory, chunksize=2500000, nrows = nrows):\n"
     ]
    },
    {
     "name": "stdout",
     "output_type": "stream",
     "text": [
      "545718 : len chunk PT\n",
      "342183 : after filtering zero-length PT\n",
      "318823 : len chunk PEV\n",
      "318823 : after filtering drivers\n",
      "256802 : len chunk PLV\n",
      "256802 : after filtering drivers\n"
     ]
    },
    {
     "name": "stderr",
     "output_type": "stream",
     "text": [
      "/tmp/ipykernel_3853420/730053802.py:11: DtypeWarning: Columns (14,16,19,20,21,22,24,29,35,54) have mixed types. Specify dtype option on import or set low_memory=False.\n",
      "  for chunk in pd.read_csv(directory, chunksize=2500000, nrows = nrows):\n"
     ]
    },
    {
     "name": "stdout",
     "output_type": "stream",
     "text": [
      "557039 : len chunk PT\n",
      "362008 : after filtering zero-length PT\n",
      "304151 : len chunk PEV\n",
      "304151 : after filtering drivers\n",
      "279225 : len chunk PLV\n",
      "279225 : after filtering drivers\n"
     ]
    },
    {
     "name": "stderr",
     "output_type": "stream",
     "text": [
      "/tmp/ipykernel_3853420/730053802.py:11: DtypeWarning: Columns (1,14,16,19,20,21,22,24,29,35,54) have mixed types. Specify dtype option on import or set low_memory=False.\n",
      "  for chunk in pd.read_csv(directory, chunksize=2500000, nrows = nrows):\n"
     ]
    },
    {
     "name": "stdout",
     "output_type": "stream",
     "text": [
      "563761 : len chunk PT\n",
      "370496 : after filtering zero-length PT\n",
      "300092 : len chunk PEV\n",
      "300092 : after filtering drivers\n",
      "287407 : len chunk PLV\n",
      "287407 : after filtering drivers\n"
     ]
    },
    {
     "name": "stderr",
     "output_type": "stream",
     "text": [
      "/tmp/ipykernel_3853420/730053802.py:11: DtypeWarning: Columns (1,14,16,19,20,21,22,24,29,35,54) have mixed types. Specify dtype option on import or set low_memory=False.\n",
      "  for chunk in pd.read_csv(directory, chunksize=2500000, nrows = nrows):\n"
     ]
    },
    {
     "name": "stdout",
     "output_type": "stream",
     "text": [
      "547405 : len chunk PT\n",
      "364651 : after filtering zero-length PT\n",
      "300552 : len chunk PEV\n",
      "300552 : after filtering drivers\n",
      "279128 : len chunk PLV\n",
      "279128 : after filtering drivers\n"
     ]
    },
    {
     "name": "stderr",
     "output_type": "stream",
     "text": [
      "/tmp/ipykernel_3853420/730053802.py:11: DtypeWarning: Columns (14,16,19,20,21,22,24,29,35,54) have mixed types. Specify dtype option on import or set low_memory=False.\n",
      "  for chunk in pd.read_csv(directory, chunksize=2500000, nrows = nrows):\n"
     ]
    },
    {
     "name": "stdout",
     "output_type": "stream",
     "text": [
      "551064 : len chunk PT\n",
      "375049 : after filtering zero-length PT\n",
      "297367 : len chunk PEV\n",
      "297367 : after filtering drivers\n",
      "284525 : len chunk PLV\n",
      "284525 : after filtering drivers\n"
     ]
    },
    {
     "name": "stderr",
     "output_type": "stream",
     "text": [
      "/tmp/ipykernel_3853420/730053802.py:11: DtypeWarning: Columns (1,14,16,19,20,21,22,24,29,35,54) have mixed types. Specify dtype option on import or set low_memory=False.\n",
      "  for chunk in pd.read_csv(directory, chunksize=2500000, nrows = nrows):\n"
     ]
    },
    {
     "name": "stdout",
     "output_type": "stream",
     "text": [
      "551550 : len chunk PT\n",
      "383032 : after filtering zero-length PT\n",
      "293825 : len chunk PEV\n",
      "293825 : after filtering drivers\n",
      "288206 : len chunk PLV\n",
      "288206 : after filtering drivers\n"
     ]
    },
    {
     "name": "stderr",
     "output_type": "stream",
     "text": [
      "/tmp/ipykernel_3853420/730053802.py:11: DtypeWarning: Columns (1,14,16,19,20,21,22,24,29,35,54) have mixed types. Specify dtype option on import or set low_memory=False.\n",
      "  for chunk in pd.read_csv(directory, chunksize=2500000, nrows = nrows):\n"
     ]
    },
    {
     "name": "stdout",
     "output_type": "stream",
     "text": [
      "608296 : len chunk PT\n",
      "443922 : after filtering zero-length PT\n",
      "260033 : len chunk PEV\n",
      "260033 : after filtering drivers\n",
      "337708 : len chunk PLV\n",
      "337708 : after filtering drivers\n"
     ]
    },
    {
     "name": "stderr",
     "output_type": "stream",
     "text": [
      "/tmp/ipykernel_3853420/730053802.py:11: DtypeWarning: Columns (1,14,16,19,20,21,22,24,29,35,54) have mixed types. Specify dtype option on import or set low_memory=False.\n",
      "  for chunk in pd.read_csv(directory, chunksize=2500000, nrows = nrows):\n"
     ]
    },
    {
     "name": "stdout",
     "output_type": "stream",
     "text": [
      "593643 : len chunk PT\n",
      "430719 : after filtering zero-length PT\n",
      "280055 : len chunk PEV\n",
      "280055 : after filtering drivers\n",
      "319880 : len chunk PLV\n",
      "319880 : after filtering drivers\n"
     ]
    },
    {
     "name": "stderr",
     "output_type": "stream",
     "text": [
      "/tmp/ipykernel_3853420/730053802.py:11: DtypeWarning: Columns (1,14,16,19,20,21,22,24,29,35,54) have mixed types. Specify dtype option on import or set low_memory=False.\n",
      "  for chunk in pd.read_csv(directory, chunksize=2500000, nrows = nrows):\n"
     ]
    },
    {
     "name": "stdout",
     "output_type": "stream",
     "text": [
      "578110 : len chunk PT\n",
      "424165 : after filtering zero-length PT\n",
      "304380 : len chunk PEV\n",
      "304380 : after filtering drivers\n",
      "290490 : len chunk PLV\n",
      "290490 : after filtering drivers\n"
     ]
    },
    {
     "name": "stderr",
     "output_type": "stream",
     "text": [
      "/tmp/ipykernel_3853420/730053802.py:11: DtypeWarning: Columns (1,14,16,19,20,21,22,24,29,35,54) have mixed types. Specify dtype option on import or set low_memory=False.\n",
      "  for chunk in pd.read_csv(directory, chunksize=2500000, nrows = nrows):\n"
     ]
    },
    {
     "name": "stdout",
     "output_type": "stream",
     "text": [
      "593653 : len chunk PT\n",
      "443845 : after filtering zero-length PT\n",
      "291110 : len chunk PEV\n",
      "291110 : after filtering drivers\n",
      "300234 : len chunk PLV\n",
      "300234 : after filtering drivers\n"
     ]
    },
    {
     "name": "stderr",
     "output_type": "stream",
     "text": [
      "/tmp/ipykernel_3853420/730053802.py:11: DtypeWarning: Columns (1,14,16,19,20,21,22,24,29,35,54) have mixed types. Specify dtype option on import or set low_memory=False.\n",
      "  for chunk in pd.read_csv(directory, chunksize=2500000, nrows = nrows):\n"
     ]
    },
    {
     "name": "stdout",
     "output_type": "stream",
     "text": [
      "582962 : len chunk PT\n",
      "432348 : after filtering zero-length PT\n",
      "298102 : len chunk PEV\n",
      "298102 : after filtering drivers\n",
      "292172 : len chunk PLV\n",
      "292172 : after filtering drivers\n"
     ]
    },
    {
     "name": "stderr",
     "output_type": "stream",
     "text": [
      "/tmp/ipykernel_3853420/730053802.py:11: DtypeWarning: Columns (1,14,16,19,20,21,22,24,29,35,54) have mixed types. Specify dtype option on import or set low_memory=False.\n",
      "  for chunk in pd.read_csv(directory, chunksize=2500000, nrows = nrows):\n"
     ]
    },
    {
     "name": "stdout",
     "output_type": "stream",
     "text": [
      "591717 : len chunk PT\n",
      "446308 : after filtering zero-length PT\n",
      "293430 : len chunk PEV\n",
      "293430 : after filtering drivers\n",
      "294198 : len chunk PLV\n",
      "294198 : after filtering drivers\n"
     ]
    },
    {
     "name": "stderr",
     "output_type": "stream",
     "text": [
      "/tmp/ipykernel_3853420/730053802.py:11: DtypeWarning: Columns (1,14,16,19,20,21,22,24,29,35,54) have mixed types. Specify dtype option on import or set low_memory=False.\n",
      "  for chunk in pd.read_csv(directory, chunksize=2500000, nrows = nrows):\n"
     ]
    },
    {
     "name": "stdout",
     "output_type": "stream",
     "text": [
      "578891 : len chunk PT\n",
      "431994 : after filtering zero-length PT\n",
      "294810 : len chunk PEV\n",
      "294810 : after filtering drivers\n",
      "293751 : len chunk PLV\n",
      "293751 : after filtering drivers\n"
     ]
    },
    {
     "name": "stderr",
     "output_type": "stream",
     "text": [
      "/tmp/ipykernel_3853420/730053802.py:11: DtypeWarning: Columns (1,14,16,19,20,21,22,24,29,35,54) have mixed types. Specify dtype option on import or set low_memory=False.\n",
      "  for chunk in pd.read_csv(directory, chunksize=2500000, nrows = nrows):\n"
     ]
    },
    {
     "name": "stdout",
     "output_type": "stream",
     "text": [
      "583288 : len chunk PT\n",
      "438788 : after filtering zero-length PT\n",
      "298322 : len chunk PEV\n",
      "298322 : after filtering drivers\n",
      "288860 : len chunk PLV\n",
      "288860 : after filtering drivers\n"
     ]
    },
    {
     "name": "stderr",
     "output_type": "stream",
     "text": [
      "/tmp/ipykernel_3853420/730053802.py:11: DtypeWarning: Columns (1,14,16,19,20,21,22,24,29,35,54) have mixed types. Specify dtype option on import or set low_memory=False.\n",
      "  for chunk in pd.read_csv(directory, chunksize=2500000, nrows = nrows):\n"
     ]
    },
    {
     "name": "stdout",
     "output_type": "stream",
     "text": [
      "587211 : len chunk PT\n",
      "442382 : after filtering zero-length PT\n",
      "289285 : len chunk PEV\n",
      "289285 : after filtering drivers\n",
      "300117 : len chunk PLV\n",
      "300117 : after filtering drivers\n"
     ]
    },
    {
     "name": "stderr",
     "output_type": "stream",
     "text": [
      "/tmp/ipykernel_3853420/730053802.py:11: DtypeWarning: Columns (1,14,16,19,20,21,22,24,29,35,54) have mixed types. Specify dtype option on import or set low_memory=False.\n",
      "  for chunk in pd.read_csv(directory, chunksize=2500000, nrows = nrows):\n"
     ]
    },
    {
     "name": "stdout",
     "output_type": "stream",
     "text": [
      "567670 : len chunk PT\n",
      "430932 : after filtering zero-length PT\n",
      "307770 : len chunk PEV\n",
      "307770 : after filtering drivers\n",
      "279736 : len chunk PLV\n",
      "279736 : after filtering drivers\n"
     ]
    },
    {
     "name": "stderr",
     "output_type": "stream",
     "text": [
      "/tmp/ipykernel_3853420/730053802.py:11: DtypeWarning: Columns (1,14,16,19,20,21,22,24,29,35,54) have mixed types. Specify dtype option on import or set low_memory=False.\n",
      "  for chunk in pd.read_csv(directory, chunksize=2500000, nrows = nrows):\n"
     ]
    },
    {
     "name": "stdout",
     "output_type": "stream",
     "text": [
      "578263 : len chunk PT\n",
      "438548 : after filtering zero-length PT\n",
      "293247 : len chunk PEV\n",
      "293247 : after filtering drivers\n",
      "294333 : len chunk PLV\n",
      "294333 : after filtering drivers\n"
     ]
    },
    {
     "name": "stderr",
     "output_type": "stream",
     "text": [
      "/tmp/ipykernel_3853420/730053802.py:11: DtypeWarning: Columns (1,14,16,19,20,21,22,24,29,35,54) have mixed types. Specify dtype option on import or set low_memory=False.\n",
      "  for chunk in pd.read_csv(directory, chunksize=2500000, nrows = nrows):\n"
     ]
    },
    {
     "name": "stdout",
     "output_type": "stream",
     "text": [
      "575646 : len chunk PT\n",
      "437442 : after filtering zero-length PT\n",
      "294228 : len chunk PEV\n",
      "294228 : after filtering drivers\n",
      "292706 : len chunk PLV\n",
      "292706 : after filtering drivers\n"
     ]
    },
    {
     "name": "stderr",
     "output_type": "stream",
     "text": [
      "/tmp/ipykernel_3853420/730053802.py:11: DtypeWarning: Columns (1,14,16,19,20,21,22,24,29,35,54) have mixed types. Specify dtype option on import or set low_memory=False.\n",
      "  for chunk in pd.read_csv(directory, chunksize=2500000, nrows = nrows):\n"
     ]
    },
    {
     "name": "stdout",
     "output_type": "stream",
     "text": [
      "584081 : len chunk PT\n",
      "445043 : after filtering zero-length PT\n",
      "283801 : len chunk PEV\n",
      "283801 : after filtering drivers\n",
      "299152 : len chunk PLV\n",
      "299152 : after filtering drivers\n"
     ]
    },
    {
     "name": "stderr",
     "output_type": "stream",
     "text": [
      "/tmp/ipykernel_3853420/730053802.py:11: DtypeWarning: Columns (1,14,16,19,20,21,22,24,29,35,54) have mixed types. Specify dtype option on import or set low_memory=False.\n",
      "  for chunk in pd.read_csv(directory, chunksize=2500000, nrows = nrows):\n"
     ]
    },
    {
     "name": "stdout",
     "output_type": "stream",
     "text": [
      "569485 : len chunk PT\n",
      "439434 : after filtering zero-length PT\n",
      "291226 : len chunk PEV\n",
      "291226 : after filtering drivers\n",
      "287071 : len chunk PLV\n",
      "287071 : after filtering drivers\n"
     ]
    },
    {
     "name": "stderr",
     "output_type": "stream",
     "text": [
      "/tmp/ipykernel_3853420/730053802.py:11: DtypeWarning: Columns (1,14,16,19,20,21,22,24,29,35,54) have mixed types. Specify dtype option on import or set low_memory=False.\n",
      "  for chunk in pd.read_csv(directory, chunksize=2500000, nrows = nrows):\n"
     ]
    },
    {
     "name": "stdout",
     "output_type": "stream",
     "text": [
      "553590 : len chunk PT\n",
      "419770 : after filtering zero-length PT\n",
      "298616 : len chunk PEV\n",
      "298616 : after filtering drivers\n",
      "279493 : len chunk PLV\n",
      "279493 : after filtering drivers\n"
     ]
    },
    {
     "name": "stderr",
     "output_type": "stream",
     "text": [
      "/tmp/ipykernel_3853420/730053802.py:11: DtypeWarning: Columns (1,14,16,19,20,21,22,24,29,35,54) have mixed types. Specify dtype option on import or set low_memory=False.\n",
      "  for chunk in pd.read_csv(directory, chunksize=2500000, nrows = nrows):\n"
     ]
    },
    {
     "name": "stdout",
     "output_type": "stream",
     "text": [
      "557514 : len chunk PT\n",
      "429850 : after filtering zero-length PT\n",
      "290527 : len chunk PEV\n",
      "290527 : after filtering drivers\n",
      "280850 : len chunk PLV\n",
      "280850 : after filtering drivers\n"
     ]
    },
    {
     "name": "stderr",
     "output_type": "stream",
     "text": [
      "/tmp/ipykernel_3853420/730053802.py:11: DtypeWarning: Columns (1,14,16,19,20,21,22,24,29,35,54) have mixed types. Specify dtype option on import or set low_memory=False.\n",
      "  for chunk in pd.read_csv(directory, chunksize=2500000, nrows = nrows):\n"
     ]
    },
    {
     "name": "stdout",
     "output_type": "stream",
     "text": [
      "569113 : len chunk PT\n",
      "443612 : after filtering zero-length PT\n",
      "285182 : len chunk PEV\n",
      "285182 : after filtering drivers\n",
      "286217 : len chunk PLV\n",
      "286217 : after filtering drivers\n"
     ]
    },
    {
     "name": "stderr",
     "output_type": "stream",
     "text": [
      "/tmp/ipykernel_3853420/730053802.py:11: DtypeWarning: Columns (1,14,16,19,20,21,22,24,29,35,54) have mixed types. Specify dtype option on import or set low_memory=False.\n",
      "  for chunk in pd.read_csv(directory, chunksize=2500000, nrows = nrows):\n"
     ]
    },
    {
     "name": "stdout",
     "output_type": "stream",
     "text": [
      "555756 : len chunk PT\n",
      "422494 : after filtering zero-length PT\n",
      "304563 : len chunk PEV\n",
      "304563 : after filtering drivers\n",
      "286307 : len chunk PLV\n",
      "286307 : after filtering drivers\n"
     ]
    },
    {
     "name": "stderr",
     "output_type": "stream",
     "text": [
      "/tmp/ipykernel_3853420/730053802.py:11: DtypeWarning: Columns (1,14,16,19,20,21,22,24,29,35,54) have mixed types. Specify dtype option on import or set low_memory=False.\n",
      "  for chunk in pd.read_csv(directory, chunksize=2500000, nrows = nrows):\n"
     ]
    },
    {
     "name": "stdout",
     "output_type": "stream",
     "text": [
      "572675 : len chunk PT\n",
      "443425 : after filtering zero-length PT\n",
      "295481 : len chunk PEV\n",
      "295481 : after filtering drivers\n",
      "291901 : len chunk PLV\n",
      "291901 : after filtering drivers\n"
     ]
    },
    {
     "name": "stderr",
     "output_type": "stream",
     "text": [
      "/tmp/ipykernel_3853420/730053802.py:11: DtypeWarning: Columns (1,14,16,19,20,21,22,24,29,35,54) have mixed types. Specify dtype option on import or set low_memory=False.\n",
      "  for chunk in pd.read_csv(directory, chunksize=2500000, nrows = nrows):\n"
     ]
    },
    {
     "name": "stdout",
     "output_type": "stream",
     "text": [
      "576842 : len chunk PT\n",
      "447025 : after filtering zero-length PT\n",
      "296952 : len chunk PEV\n",
      "296952 : after filtering drivers\n",
      "292625 : len chunk PLV\n",
      "292625 : after filtering drivers\n"
     ]
    },
    {
     "name": "stderr",
     "output_type": "stream",
     "text": [
      "/tmp/ipykernel_3853420/730053802.py:11: DtypeWarning: Columns (1,14,16,19,20,21,22,24,29,35,54) have mixed types. Specify dtype option on import or set low_memory=False.\n",
      "  for chunk in pd.read_csv(directory, chunksize=2500000, nrows = nrows):\n"
     ]
    },
    {
     "name": "stdout",
     "output_type": "stream",
     "text": [
      "554785 : len chunk PT\n",
      "426216 : after filtering zero-length PT\n",
      "319508 : len chunk PEV\n",
      "319508 : after filtering drivers\n",
      "274125 : len chunk PLV\n",
      "274125 : after filtering drivers\n"
     ]
    },
    {
     "name": "stderr",
     "output_type": "stream",
     "text": [
      "/tmp/ipykernel_3853420/730053802.py:11: DtypeWarning: Columns (1,14,16,19,20,21,22,24,29,35,54) have mixed types. Specify dtype option on import or set low_memory=False.\n",
      "  for chunk in pd.read_csv(directory, chunksize=2500000, nrows = nrows):\n"
     ]
    },
    {
     "name": "stdout",
     "output_type": "stream",
     "text": [
      "575176 : len chunk PT\n",
      "444896 : after filtering zero-length PT\n",
      "298782 : len chunk PEV\n",
      "298782 : after filtering drivers\n",
      "293422 : len chunk PLV\n",
      "293422 : after filtering drivers\n"
     ]
    },
    {
     "name": "stderr",
     "output_type": "stream",
     "text": [
      "/tmp/ipykernel_3853420/730053802.py:11: DtypeWarning: Columns (1,14,16,19,20,21,22,24,29,35,54) have mixed types. Specify dtype option on import or set low_memory=False.\n",
      "  for chunk in pd.read_csv(directory, chunksize=2500000, nrows = nrows):\n"
     ]
    },
    {
     "name": "stdout",
     "output_type": "stream",
     "text": [
      "580884 : len chunk PT\n",
      "450811 : after filtering zero-length PT\n",
      "297696 : len chunk PEV\n",
      "297696 : after filtering drivers\n",
      "296476 : len chunk PLV\n",
      "296476 : after filtering drivers\n"
     ]
    },
    {
     "name": "stderr",
     "output_type": "stream",
     "text": [
      "/tmp/ipykernel_3853420/730053802.py:11: DtypeWarning: Columns (1,14,16,19,20,21,22,24,29,35,54) have mixed types. Specify dtype option on import or set low_memory=False.\n",
      "  for chunk in pd.read_csv(directory, chunksize=2500000, nrows = nrows):\n"
     ]
    },
    {
     "name": "stdout",
     "output_type": "stream",
     "text": [
      "573915 : len chunk PT\n",
      "445765 : after filtering zero-length PT\n",
      "310534 : len chunk PEV\n",
      "310534 : after filtering drivers\n",
      "288183 : len chunk PLV\n",
      "288183 : after filtering drivers\n"
     ]
    },
    {
     "name": "stderr",
     "output_type": "stream",
     "text": [
      "/tmp/ipykernel_3853420/730053802.py:11: DtypeWarning: Columns (1,14,16,19,20,21,22,24,29,35,54) have mixed types. Specify dtype option on import or set low_memory=False.\n",
      "  for chunk in pd.read_csv(directory, chunksize=2500000, nrows = nrows):\n"
     ]
    },
    {
     "name": "stdout",
     "output_type": "stream",
     "text": [
      "583351 : len chunk PT\n",
      "446678 : after filtering zero-length PT\n",
      "291383 : len chunk PEV\n",
      "291383 : after filtering drivers\n",
      "307389 : len chunk PLV\n",
      "307389 : after filtering drivers\n"
     ]
    },
    {
     "name": "stderr",
     "output_type": "stream",
     "text": [
      "/tmp/ipykernel_3853420/730053802.py:11: DtypeWarning: Columns (1,14,16,19,20,21,22,24,29,35,54) have mixed types. Specify dtype option on import or set low_memory=False.\n",
      "  for chunk in pd.read_csv(directory, chunksize=2500000, nrows = nrows):\n"
     ]
    },
    {
     "name": "stdout",
     "output_type": "stream",
     "text": [
      "569260 : len chunk PT\n",
      "437601 : after filtering zero-length PT\n",
      "300627 : len chunk PEV\n",
      "300627 : after filtering drivers\n",
      "295130 : len chunk PLV\n",
      "295130 : after filtering drivers\n"
     ]
    },
    {
     "name": "stderr",
     "output_type": "stream",
     "text": [
      "/tmp/ipykernel_3853420/730053802.py:11: DtypeWarning: Columns (1,14,16,19,20,21,22,24,29,35,54) have mixed types. Specify dtype option on import or set low_memory=False.\n",
      "  for chunk in pd.read_csv(directory, chunksize=2500000, nrows = nrows):\n"
     ]
    },
    {
     "name": "stdout",
     "output_type": "stream",
     "text": [
      "600052 : len chunk PT\n",
      "463973 : after filtering zero-length PT\n",
      "277773 : len chunk PEV\n",
      "277773 : after filtering drivers\n",
      "320159 : len chunk PLV\n",
      "320159 : after filtering drivers\n"
     ]
    },
    {
     "name": "stderr",
     "output_type": "stream",
     "text": [
      "/tmp/ipykernel_3853420/730053802.py:11: DtypeWarning: Columns (1,14,16,19,20,21,22,24,29,35,54) have mixed types. Specify dtype option on import or set low_memory=False.\n",
      "  for chunk in pd.read_csv(directory, chunksize=2500000, nrows = nrows):\n"
     ]
    },
    {
     "name": "stdout",
     "output_type": "stream",
     "text": [
      "605070 : len chunk PT\n",
      "466621 : after filtering zero-length PT\n",
      "274419 : len chunk PEV\n",
      "274419 : after filtering drivers\n",
      "330474 : len chunk PLV\n",
      "330474 : after filtering drivers\n"
     ]
    },
    {
     "name": "stderr",
     "output_type": "stream",
     "text": [
      "/tmp/ipykernel_3853420/730053802.py:11: DtypeWarning: Columns (1,14,16,19,20,21,22,24,29,35,54) have mixed types. Specify dtype option on import or set low_memory=False.\n",
      "  for chunk in pd.read_csv(directory, chunksize=2500000, nrows = nrows):\n"
     ]
    },
    {
     "name": "stdout",
     "output_type": "stream",
     "text": [
      "600116 : len chunk PT\n",
      "463614 : after filtering zero-length PT\n",
      "281424 : len chunk PEV\n",
      "281424 : after filtering drivers\n",
      "316882 : len chunk PLV\n",
      "316882 : after filtering drivers\n"
     ]
    },
    {
     "name": "stderr",
     "output_type": "stream",
     "text": [
      "/tmp/ipykernel_3853420/730053802.py:11: DtypeWarning: Columns (1,14,16,19,20,21,22,24,29,35,54) have mixed types. Specify dtype option on import or set low_memory=False.\n",
      "  for chunk in pd.read_csv(directory, chunksize=2500000, nrows = nrows):\n"
     ]
    },
    {
     "name": "stdout",
     "output_type": "stream",
     "text": [
      "586035 : len chunk PT\n",
      "453415 : after filtering zero-length PT\n",
      "289059 : len chunk PEV\n",
      "289059 : after filtering drivers\n",
      "304343 : len chunk PLV\n",
      "304343 : after filtering drivers\n"
     ]
    },
    {
     "name": "stderr",
     "output_type": "stream",
     "text": [
      "/tmp/ipykernel_3853420/730053802.py:11: DtypeWarning: Columns (1,14,16,19,20,21,22,24,29,35,54) have mixed types. Specify dtype option on import or set low_memory=False.\n",
      "  for chunk in pd.read_csv(directory, chunksize=2500000, nrows = nrows):\n"
     ]
    },
    {
     "name": "stdout",
     "output_type": "stream",
     "text": [
      "578969 : len chunk PT\n",
      "446373 : after filtering zero-length PT\n",
      "293768 : len chunk PEV\n",
      "293768 : after filtering drivers\n",
      "298523 : len chunk PLV\n",
      "298523 : after filtering drivers\n"
     ]
    },
    {
     "name": "stderr",
     "output_type": "stream",
     "text": [
      "/tmp/ipykernel_3853420/730053802.py:11: DtypeWarning: Columns (1,14,16,19,20,21,22,24,29,35,54) have mixed types. Specify dtype option on import or set low_memory=False.\n",
      "  for chunk in pd.read_csv(directory, chunksize=2500000, nrows = nrows):\n"
     ]
    },
    {
     "name": "stdout",
     "output_type": "stream",
     "text": [
      "598755 : len chunk PT\n",
      "459581 : after filtering zero-length PT\n",
      "272673 : len chunk PEV\n",
      "272673 : after filtering drivers\n",
      "320072 : len chunk PLV\n",
      "320072 : after filtering drivers\n"
     ]
    },
    {
     "name": "stderr",
     "output_type": "stream",
     "text": [
      "/tmp/ipykernel_3853420/730053802.py:11: DtypeWarning: Columns (1,24,54) have mixed types. Specify dtype option on import or set low_memory=False.\n",
      "  for chunk in pd.read_csv(directory, chunksize=2500000, nrows = nrows):\n"
     ]
    },
    {
     "name": "stdout",
     "output_type": "stream",
     "text": [
      "624068 : len chunk PT\n",
      "484222 : after filtering zero-length PT\n",
      "266916 : len chunk PEV\n",
      "266916 : after filtering drivers\n",
      "330514 : len chunk PLV\n",
      "330514 : after filtering drivers\n"
     ]
    },
    {
     "name": "stderr",
     "output_type": "stream",
     "text": [
      "/tmp/ipykernel_3853420/730053802.py:11: DtypeWarning: Columns (29,35,54) have mixed types. Specify dtype option on import or set low_memory=False.\n",
      "  for chunk in pd.read_csv(directory, chunksize=2500000, nrows = nrows):\n"
     ]
    },
    {
     "name": "stdout",
     "output_type": "stream",
     "text": [
      "167801 : len chunk PT\n",
      "134414 : after filtering zero-length PT\n",
      "49533 : len chunk PEV\n",
      "49533 : after filtering drivers\n",
      "89632 : len chunk PLV\n",
      "89632 : after filtering drivers\n",
      "12156933 :len PEVs\n",
      "12156870 :len PLVs\n",
      "17685427 :len PTs\n",
      "7547347 :len MCs\n",
      "150094 :len RPs\n",
      "7455109 :len ASs\n"
     ]
    },
    {
     "name": "stderr",
     "output_type": "stream",
     "text": [
      "/tmp/ipykernel_3853420/3791711208.py:17: UserWarning: evaluating in Python space because the '*' operator is not supported by numexpr for the bool dtype, use '&' instead.\n",
      "  PTs['is_RHempty'] = PTs['isRH']*PTs['is_empty']\n",
      "/tmp/ipykernel_3853420/3791711208.py:48: UserWarning: evaluating in Python space because the '*' operator is not supported by numexpr for the bool dtype, use '&' instead.\n",
      "  PTs['is_'+tm+'_empty'] = PTs['is'+tm]*PTs['is_empty']\n",
      "/tmp/ipykernel_3853420/3791711208.py:48: UserWarning: evaluating in Python space because the '*' operator is not supported by numexpr for the bool dtype, use '&' instead.\n",
      "  PTs['is_'+tm+'_empty'] = PTs['is'+tm]*PTs['is_empty']\n",
      "/tmp/ipykernel_3853420/3791711208.py:48: UserWarning: evaluating in Python space because the '*' operator is not supported by numexpr for the bool dtype, use '&' instead.\n",
      "  PTs['is_'+tm+'_empty'] = PTs['is'+tm]*PTs['is_empty']\n",
      "/tmp/ipykernel_3853420/3791711208.py:48: UserWarning: evaluating in Python space because the '*' operator is not supported by numexpr for the bool dtype, use '&' instead.\n",
      "  PTs['is_'+tm+'_empty'] = PTs['is'+tm]*PTs['is_empty']\n",
      "/tmp/ipykernel_3853420/3791711208.py:48: UserWarning: evaluating in Python space because the '*' operator is not supported by numexpr for the bool dtype, use '&' instead.\n",
      "  PTs['is_'+tm+'_empty'] = PTs['is'+tm]*PTs['is_empty']\n",
      "/tmp/ipykernel_3853420/3791711208.py:48: UserWarning: evaluating in Python space because the '*' operator is not supported by numexpr for the bool dtype, use '&' instead.\n",
      "  PTs['is_'+tm+'_empty'] = PTs['is'+tm]*PTs['is_empty']\n"
     ]
    },
    {
     "name": "stdout",
     "output_type": "stream",
     "text": [
      "processPlans...\n",
      "gs://beam-core-outputs/sfbay-tr-BARTCORE-30pct-20230828/beam/year-2018-iteration-10/ITERS/it.0/0.plans.csv.gz\n",
      "addTimesToPlans...\n",
      "Total time: 4.76013445854187\n",
      "Total time: 713.2980003356934\n",
      "personToPathTraversal...\n",
      "expected PtoPTs from occupancy  car 7329561\n",
      "expected PtoPTs from occupancy  walk 6213218\n",
      "expected PtoPTs from occupancy  car_hov2 1055000.0\n",
      "expected PtoPTs from occupancy  bus 4268921\n",
      "expected PtoPTs from occupancy  car_hov3 755431.0\n",
      "expected PtoPTs from occupancy  bus_empty 0\n",
      "expected PtoPTs from occupancy  car_emer 414582\n",
      "expected PtoPTs from occupancy  car_hov2_emer 128328\n",
      "expected PtoPTs from occupancy  car_RideHail_empty 0\n",
      "expected PtoPTs from occupancy  car_RideHail 109741\n",
      "expected PtoPTs from occupancy  bike 105778\n",
      "expected PtoPTs from occupancy  car_hov3_emer 88514\n",
      "expected PtoPTs from occupancy  tram 368526\n",
      "expected PtoPTs from occupancy  subway 631634\n",
      "expected PtoPTs from occupancy  cable_car 42128\n",
      "expected PtoPTs from occupancy  tram_empty 0\n",
      "expected PtoPTs from occupancy  cable_car_empty 0\n",
      "expected PtoPTs from occupancy  rail 21133\n",
      "expected PtoPTs from occupancy  subway_empty 0\n",
      "expected PtoPTs from occupancy  rail_empty 0\n",
      "expected PtoPTs from occupancy  ferry_empty 0\n",
      "expected PtoPTs from occupancy  ferry 24\n",
      "expected PtoPTs from occupancy TOT =  21532519.0\n",
      "len of PEV =  12156933\n",
      "len of PLV =  12156870\n",
      "len PtoPTs after matching agents and vehicles bike 105781\n",
      "len PtoPTs after matching agents and vehicles bus 4269069\n",
      "len PtoPTs after matching agents and vehicles bus_empty 32\n",
      "len PtoPTs after matching agents and vehicles cable_car 42128\n",
      "len PtoPTs after matching agents and vehicles car 7329753\n",
      "len PtoPTs after matching agents and vehicles car_RideHail 110449\n",
      "len PtoPTs after matching agents and vehicles car_RideHail_empty 987\n",
      "len PtoPTs after matching agents and vehicles car_emer 414529\n",
      "len PtoPTs after matching agents and vehicles car_hov2 1055106\n",
      "len PtoPTs after matching agents and vehicles car_hov2_emer 128332\n",
      "len PtoPTs after matching agents and vehicles car_hov3 755495\n",
      "len PtoPTs after matching agents and vehicles car_hov3_emer 88517\n",
      "len PtoPTs after matching agents and vehicles ferry 24\n",
      "len PtoPTs after matching agents and vehicles rail 21133\n",
      "len PtoPTs after matching agents and vehicles subway 631634\n",
      "len PtoPTs after matching agents and vehicles tram 368526\n",
      "len PtoPTs after matching agents and vehicles walk 6213598\n",
      "no legs found: 116705\n",
      "no legs found after time check: 1143729\n",
      "no vehicle body found, probably because with zero duration (discarded by PT): 116705\n",
      "no vehicle body found after time check, probably because with zero duration (discarded by PT): 1143718\n",
      "Tot created PtoPTs =  21535093\n",
      "Total time: 2567.7522072792053\n",
      "Number Trips... TR-CORE\n",
      "Share Trips... TR-CORE\n",
      "Lengths Vehicles... TR-CORE\n",
      "Lengths Persons... TR-CORE\n",
      "Lengths Modes... TR-CORE\n",
      "Durations Vehicle... TR-CORE\n",
      "Durations Person... TR-CORE\n",
      "Speeds Vehicle... TR-CORE\n",
      "1.1660    11348102\n",
      "1.0000     6213217\n",
      "1.3958      104291\n",
      "1.1252       19817\n",
      "Name: routee correction, dtype: int64\n",
      "Energy Usage Vehicle... TR-CORE\n",
      "Trip Gallons Vehicle... TR-CORE\n",
      "Occupancy Vehicle... TR-CORE\n",
      "Ridership Transit... TR-CORE\n",
      "Ride hail... TR-CORE\n",
      "done\n",
      "Total Time 6436.823806285858\n",
      "                              Baseline            TR  TR-BART  TR-BSVI  \\\n",
      "Vehicle Passengers stops Cal       NaN  2.147100e+04      NaN      NaN   \n",
      "Vehicle Passengers km Cal          NaN  1.056607e+05      NaN      NaN   \n",
      "Vehicle Capacity km Cal            NaN  8.416326e+06      NaN      NaN   \n",
      "Vehicle Load Factor Cal            NaN  1.255425e-02      NaN      NaN   \n",
      "Ridership Cal                      NaN  6.384000e+03      NaN      NaN   \n",
      "Ridership Cal Share                NaN  8.875900e-03      NaN      NaN   \n",
      "\n",
      "                              TR-BSVII  TR-CORE  \n",
      "Vehicle Passengers stops Cal       NaN      NaN  \n",
      "Vehicle Passengers km Cal          NaN      NaN  \n",
      "Vehicle Capacity km Cal            NaN      NaN  \n",
      "Vehicle Load Factor Cal            NaN      NaN  \n",
      "Ridership Cal                      NaN      NaN  \n",
      "Ridership Cal Share                NaN      NaN   Number of attributes 4932\n",
      "writing results on gs://beam-core-outputs/sfbay-tr-BARTCORE-30pct-20230828/postprocessOutputs/year-2018-iteration-10\n",
      "File uploaded successfully.\n",
      "Reading  gs://beam-core-outputs/sfbay-tr-TempoBRT-30pct-20230825/beam/year-2018-iteration-10/ITERS/it.0/0.events.csv.gz\n"
     ]
    },
    {
     "name": "stderr",
     "output_type": "stream",
     "text": [
      "/tmp/ipykernel_3853420/730053802.py:11: DtypeWarning: Columns (0,3,7,11,12,13,14,18,23,24,25,27,29,32,33,34,35,42,43,48,58,60,61) have mixed types. Specify dtype option on import or set low_memory=False.\n",
      "  for chunk in pd.read_csv(directory, chunksize=2500000, nrows = nrows):\n"
     ]
    },
    {
     "name": "stdout",
     "output_type": "stream",
     "text": [
      "10409 : len chunk PT\n",
      "8449 : after filtering zero-length PT\n",
      "54428 : len chunk PEV\n",
      "4478 : after filtering drivers\n",
      "102 : len chunk PLV\n",
      "102 : after filtering drivers\n"
     ]
    },
    {
     "name": "stderr",
     "output_type": "stream",
     "text": [
      "/tmp/ipykernel_3853420/730053802.py:11: DtypeWarning: Columns (6,14,27,29,32,33,34,35,42,43,51) have mixed types. Specify dtype option on import or set low_memory=False.\n",
      "  for chunk in pd.read_csv(directory, chunksize=2500000, nrows = nrows):\n"
     ]
    },
    {
     "name": "stdout",
     "output_type": "stream",
     "text": [
      "578125 : len chunk PT\n",
      "352894 : after filtering zero-length PT\n",
      "336133 : len chunk PEV\n",
      "336133 : after filtering drivers\n",
      "258141 : len chunk PLV\n",
      "258141 : after filtering drivers\n"
     ]
    },
    {
     "name": "stderr",
     "output_type": "stream",
     "text": [
      "/tmp/ipykernel_3853420/730053802.py:11: DtypeWarning: Columns (6,14,27,29,32,33,34,35,42,43,51) have mixed types. Specify dtype option on import or set low_memory=False.\n",
      "  for chunk in pd.read_csv(directory, chunksize=2500000, nrows = nrows):\n"
     ]
    },
    {
     "name": "stdout",
     "output_type": "stream",
     "text": [
      "582218 : len chunk PT\n",
      "375346 : after filtering zero-length PT\n",
      "322548 : len chunk PEV\n",
      "322548 : after filtering drivers\n",
      "271928 : len chunk PLV\n",
      "271928 : after filtering drivers\n"
     ]
    },
    {
     "name": "stderr",
     "output_type": "stream",
     "text": [
      "/tmp/ipykernel_3853420/730053802.py:11: DtypeWarning: Columns (6,14,27,29,32,33,34,35,42,51) have mixed types. Specify dtype option on import or set low_memory=False.\n",
      "  for chunk in pd.read_csv(directory, chunksize=2500000, nrows = nrows):\n"
     ]
    },
    {
     "name": "stdout",
     "output_type": "stream",
     "text": [
      "539410 : len chunk PT\n",
      "334316 : after filtering zero-length PT\n",
      "321221 : len chunk PEV\n",
      "321221 : after filtering drivers\n",
      "254729 : len chunk PLV\n",
      "254729 : after filtering drivers\n"
     ]
    },
    {
     "name": "stderr",
     "output_type": "stream",
     "text": [
      "/tmp/ipykernel_3853420/730053802.py:11: DtypeWarning: Columns (6,14,27,29,32,33,34,35,42,43,51) have mixed types. Specify dtype option on import or set low_memory=False.\n",
      "  for chunk in pd.read_csv(directory, chunksize=2500000, nrows = nrows):\n"
     ]
    },
    {
     "name": "stdout",
     "output_type": "stream",
     "text": [
      "555348 : len chunk PT\n",
      "359024 : after filtering zero-length PT\n",
      "305752 : len chunk PEV\n",
      "305752 : after filtering drivers\n",
      "276188 : len chunk PLV\n",
      "276188 : after filtering drivers\n"
     ]
    },
    {
     "name": "stderr",
     "output_type": "stream",
     "text": [
      "/tmp/ipykernel_3853420/730053802.py:11: DtypeWarning: Columns (6,14,27,29,32,33,34,35,42,43,51) have mixed types. Specify dtype option on import or set low_memory=False.\n",
      "  for chunk in pd.read_csv(directory, chunksize=2500000, nrows = nrows):\n"
     ]
    },
    {
     "name": "stdout",
     "output_type": "stream",
     "text": [
      "557517 : len chunk PT\n",
      "368501 : after filtering zero-length PT\n",
      "303427 : len chunk PEV\n",
      "303427 : after filtering drivers\n",
      "279838 : len chunk PLV\n",
      "279838 : after filtering drivers\n"
     ]
    },
    {
     "name": "stderr",
     "output_type": "stream",
     "text": [
      "/tmp/ipykernel_3853420/730053802.py:11: DtypeWarning: Columns (6,14,27,29,32,33,34,35,42,43,51) have mixed types. Specify dtype option on import or set low_memory=False.\n",
      "  for chunk in pd.read_csv(directory, chunksize=2500000, nrows = nrows):\n"
     ]
    },
    {
     "name": "stdout",
     "output_type": "stream",
     "text": [
      "556939 : len chunk PT\n",
      "370018 : after filtering zero-length PT\n",
      "289922 : len chunk PEV\n",
      "289922 : after filtering drivers\n",
      "291128 : len chunk PLV\n",
      "291128 : after filtering drivers\n"
     ]
    },
    {
     "name": "stderr",
     "output_type": "stream",
     "text": [
      "/tmp/ipykernel_3853420/730053802.py:11: DtypeWarning: Columns (6,14,27,29,32,33,34,35,42,51) have mixed types. Specify dtype option on import or set low_memory=False.\n",
      "  for chunk in pd.read_csv(directory, chunksize=2500000, nrows = nrows):\n"
     ]
    },
    {
     "name": "stdout",
     "output_type": "stream",
     "text": [
      "542976 : len chunk PT\n",
      "370459 : after filtering zero-length PT\n",
      "297984 : len chunk PEV\n",
      "297984 : after filtering drivers\n",
      "279998 : len chunk PLV\n",
      "279998 : after filtering drivers\n"
     ]
    },
    {
     "name": "stderr",
     "output_type": "stream",
     "text": [
      "/tmp/ipykernel_3853420/730053802.py:11: DtypeWarning: Columns (6,14,27,29,32,33,34,35,42,43,51) have mixed types. Specify dtype option on import or set low_memory=False.\n",
      "  for chunk in pd.read_csv(directory, chunksize=2500000, nrows = nrows):\n"
     ]
    },
    {
     "name": "stdout",
     "output_type": "stream",
     "text": [
      "564452 : len chunk PT\n",
      "398990 : after filtering zero-length PT\n",
      "288002 : len chunk PEV\n",
      "288002 : after filtering drivers\n",
      "292745 : len chunk PLV\n",
      "292745 : after filtering drivers\n"
     ]
    },
    {
     "name": "stderr",
     "output_type": "stream",
     "text": [
      "/tmp/ipykernel_3853420/730053802.py:11: DtypeWarning: Columns (6,14,27,29,32,33,34,35,42,43,51) have mixed types. Specify dtype option on import or set low_memory=False.\n",
      "  for chunk in pd.read_csv(directory, chunksize=2500000, nrows = nrows):\n"
     ]
    },
    {
     "name": "stdout",
     "output_type": "stream",
     "text": [
      "591529 : len chunk PT\n",
      "421586 : after filtering zero-length PT\n",
      "268094 : len chunk PEV\n",
      "268094 : after filtering drivers\n",
      "330042 : len chunk PLV\n",
      "330042 : after filtering drivers\n"
     ]
    },
    {
     "name": "stderr",
     "output_type": "stream",
     "text": [
      "/tmp/ipykernel_3853420/730053802.py:11: DtypeWarning: Columns (6,14,27,29,32,33,34,35,42,43,51) have mixed types. Specify dtype option on import or set low_memory=False.\n",
      "  for chunk in pd.read_csv(directory, chunksize=2500000, nrows = nrows):\n"
     ]
    },
    {
     "name": "stdout",
     "output_type": "stream",
     "text": [
      "596411 : len chunk PT\n",
      "438499 : after filtering zero-length PT\n",
      "280850 : len chunk PEV\n",
      "280850 : after filtering drivers\n",
      "316368 : len chunk PLV\n",
      "316368 : after filtering drivers\n"
     ]
    },
    {
     "name": "stderr",
     "output_type": "stream",
     "text": [
      "/tmp/ipykernel_3853420/730053802.py:11: DtypeWarning: Columns (6,14,27,29,32,33,34,35,42,43,51) have mixed types. Specify dtype option on import or set low_memory=False.\n",
      "  for chunk in pd.read_csv(directory, chunksize=2500000, nrows = nrows):\n"
     ]
    },
    {
     "name": "stdout",
     "output_type": "stream",
     "text": [
      "577032 : len chunk PT\n",
      "419930 : after filtering zero-length PT\n",
      "299750 : len chunk PEV\n",
      "299750 : after filtering drivers\n",
      "295279 : len chunk PLV\n",
      "295279 : after filtering drivers\n"
     ]
    },
    {
     "name": "stderr",
     "output_type": "stream",
     "text": [
      "/tmp/ipykernel_3853420/730053802.py:11: DtypeWarning: Columns (6,14,27,29,32,33,34,35,42,43,51) have mixed types. Specify dtype option on import or set low_memory=False.\n",
      "  for chunk in pd.read_csv(directory, chunksize=2500000, nrows = nrows):\n"
     ]
    },
    {
     "name": "stdout",
     "output_type": "stream",
     "text": [
      "589125 : len chunk PT\n",
      "440182 : after filtering zero-length PT\n",
      "292149 : len chunk PEV\n",
      "292149 : after filtering drivers\n",
      "297388 : len chunk PLV\n",
      "297388 : after filtering drivers\n"
     ]
    },
    {
     "name": "stderr",
     "output_type": "stream",
     "text": [
      "/tmp/ipykernel_3853420/730053802.py:11: DtypeWarning: Columns (6,14,27,29,32,33,34,35,42,43,51) have mixed types. Specify dtype option on import or set low_memory=False.\n",
      "  for chunk in pd.read_csv(directory, chunksize=2500000, nrows = nrows):\n"
     ]
    },
    {
     "name": "stdout",
     "output_type": "stream",
     "text": [
      "588344 : len chunk PT\n",
      "437799 : after filtering zero-length PT\n",
      "296789 : len chunk PEV\n",
      "296789 : after filtering drivers\n",
      "294474 : len chunk PLV\n",
      "294474 : after filtering drivers\n"
     ]
    },
    {
     "name": "stderr",
     "output_type": "stream",
     "text": [
      "/tmp/ipykernel_3853420/730053802.py:11: DtypeWarning: Columns (6,14,27,29,32,33,34,35,42,43,51) have mixed types. Specify dtype option on import or set low_memory=False.\n",
      "  for chunk in pd.read_csv(directory, chunksize=2500000, nrows = nrows):\n"
     ]
    },
    {
     "name": "stdout",
     "output_type": "stream",
     "text": [
      "588396 : len chunk PT\n",
      "443935 : after filtering zero-length PT\n",
      "291908 : len chunk PEV\n",
      "291908 : after filtering drivers\n",
      "293439 : len chunk PLV\n",
      "293439 : after filtering drivers\n"
     ]
    },
    {
     "name": "stderr",
     "output_type": "stream",
     "text": [
      "/tmp/ipykernel_3853420/730053802.py:11: DtypeWarning: Columns (6,14,27,29,32,33,34,35,42,43,51) have mixed types. Specify dtype option on import or set low_memory=False.\n",
      "  for chunk in pd.read_csv(directory, chunksize=2500000, nrows = nrows):\n"
     ]
    },
    {
     "name": "stdout",
     "output_type": "stream",
     "text": [
      "584655 : len chunk PT\n",
      "433839 : after filtering zero-length PT\n",
      "291051 : len chunk PEV\n",
      "291051 : after filtering drivers\n",
      "297812 : len chunk PLV\n",
      "297812 : after filtering drivers\n"
     ]
    },
    {
     "name": "stderr",
     "output_type": "stream",
     "text": [
      "/tmp/ipykernel_3853420/730053802.py:11: DtypeWarning: Columns (6,14,27,29,32,33,34,35,42,43,51) have mixed types. Specify dtype option on import or set low_memory=False.\n",
      "  for chunk in pd.read_csv(directory, chunksize=2500000, nrows = nrows):\n"
     ]
    },
    {
     "name": "stdout",
     "output_type": "stream",
     "text": [
      "574221 : len chunk PT\n",
      "430555 : after filtering zero-length PT\n",
      "299556 : len chunk PEV\n",
      "299556 : after filtering drivers\n",
      "286632 : len chunk PLV\n",
      "286632 : after filtering drivers\n"
     ]
    },
    {
     "name": "stderr",
     "output_type": "stream",
     "text": [
      "/tmp/ipykernel_3853420/730053802.py:11: DtypeWarning: Columns (6,14,27,29,32,33,34,35,42,43,51) have mixed types. Specify dtype option on import or set low_memory=False.\n",
      "  for chunk in pd.read_csv(directory, chunksize=2500000, nrows = nrows):\n"
     ]
    },
    {
     "name": "stdout",
     "output_type": "stream",
     "text": [
      "583872 : len chunk PT\n",
      "441769 : after filtering zero-length PT\n",
      "292685 : len chunk PEV\n",
      "292685 : after filtering drivers\n",
      "294168 : len chunk PLV\n",
      "294168 : after filtering drivers\n"
     ]
    },
    {
     "name": "stderr",
     "output_type": "stream",
     "text": [
      "/tmp/ipykernel_3853420/730053802.py:11: DtypeWarning: Columns (6,14,27,29,32,33,34,35,42,43,51) have mixed types. Specify dtype option on import or set low_memory=False.\n",
      "  for chunk in pd.read_csv(directory, chunksize=2500000, nrows = nrows):\n"
     ]
    },
    {
     "name": "stdout",
     "output_type": "stream",
     "text": [
      "576775 : len chunk PT\n",
      "436281 : after filtering zero-length PT\n",
      "300587 : len chunk PEV\n",
      "300587 : after filtering drivers\n",
      "286849 : len chunk PLV\n",
      "286849 : after filtering drivers\n"
     ]
    },
    {
     "name": "stderr",
     "output_type": "stream",
     "text": [
      "/tmp/ipykernel_3853420/730053802.py:11: DtypeWarning: Columns (6,14,27,29,32,33,34,35,42,43,51) have mixed types. Specify dtype option on import or set low_memory=False.\n",
      "  for chunk in pd.read_csv(directory, chunksize=2500000, nrows = nrows):\n"
     ]
    },
    {
     "name": "stdout",
     "output_type": "stream",
     "text": [
      "570410 : len chunk PT\n",
      "433014 : after filtering zero-length PT\n",
      "298365 : len chunk PEV\n",
      "298365 : after filtering drivers\n",
      "288472 : len chunk PLV\n",
      "288472 : after filtering drivers\n"
     ]
    },
    {
     "name": "stderr",
     "output_type": "stream",
     "text": [
      "/tmp/ipykernel_3853420/730053802.py:11: DtypeWarning: Columns (6,14,27,29,32,33,34,35,42,43,51) have mixed types. Specify dtype option on import or set low_memory=False.\n",
      "  for chunk in pd.read_csv(directory, chunksize=2500000, nrows = nrows):\n"
     ]
    },
    {
     "name": "stdout",
     "output_type": "stream",
     "text": [
      "578134 : len chunk PT\n",
      "439156 : after filtering zero-length PT\n",
      "293188 : len chunk PEV\n",
      "293188 : after filtering drivers\n",
      "293590 : len chunk PLV\n",
      "293590 : after filtering drivers\n"
     ]
    },
    {
     "name": "stderr",
     "output_type": "stream",
     "text": [
      "/tmp/ipykernel_3853420/730053802.py:11: DtypeWarning: Columns (6,14,27,29,32,33,34,35,42,43,51) have mixed types. Specify dtype option on import or set low_memory=False.\n",
      "  for chunk in pd.read_csv(directory, chunksize=2500000, nrows = nrows):\n"
     ]
    },
    {
     "name": "stdout",
     "output_type": "stream",
     "text": [
      "576383 : len chunk PT\n",
      "441868 : after filtering zero-length PT\n",
      "287319 : len chunk PEV\n",
      "287319 : after filtering drivers\n",
      "292822 : len chunk PLV\n",
      "292822 : after filtering drivers\n"
     ]
    },
    {
     "name": "stderr",
     "output_type": "stream",
     "text": [
      "/tmp/ipykernel_3853420/730053802.py:11: DtypeWarning: Columns (6,14,27,29,32,33,34,35,42,43,51) have mixed types. Specify dtype option on import or set low_memory=False.\n",
      "  for chunk in pd.read_csv(directory, chunksize=2500000, nrows = nrows):\n"
     ]
    },
    {
     "name": "stdout",
     "output_type": "stream",
     "text": [
      "572159 : len chunk PT\n",
      "436835 : after filtering zero-length PT\n",
      "288907 : len chunk PEV\n",
      "288907 : after filtering drivers\n",
      "292789 : len chunk PLV\n",
      "292789 : after filtering drivers\n"
     ]
    },
    {
     "name": "stderr",
     "output_type": "stream",
     "text": [
      "/tmp/ipykernel_3853420/730053802.py:11: DtypeWarning: Columns (6,14,27,29,32,33,34,35,42,43,51) have mixed types. Specify dtype option on import or set low_memory=False.\n",
      "  for chunk in pd.read_csv(directory, chunksize=2500000, nrows = nrows):\n"
     ]
    },
    {
     "name": "stdout",
     "output_type": "stream",
     "text": [
      "555227 : len chunk PT\n",
      "423741 : after filtering zero-length PT\n",
      "297469 : len chunk PEV\n",
      "297469 : after filtering drivers\n",
      "277727 : len chunk PLV\n",
      "277727 : after filtering drivers\n"
     ]
    },
    {
     "name": "stderr",
     "output_type": "stream",
     "text": [
      "/tmp/ipykernel_3853420/730053802.py:11: DtypeWarning: Columns (6,14,27,29,32,33,34,35,42,43,51) have mixed types. Specify dtype option on import or set low_memory=False.\n",
      "  for chunk in pd.read_csv(directory, chunksize=2500000, nrows = nrows):\n"
     ]
    },
    {
     "name": "stdout",
     "output_type": "stream",
     "text": [
      "558866 : len chunk PT\n",
      "430422 : after filtering zero-length PT\n",
      "287690 : len chunk PEV\n",
      "287690 : after filtering drivers\n",
      "283425 : len chunk PLV\n",
      "283425 : after filtering drivers\n"
     ]
    },
    {
     "name": "stderr",
     "output_type": "stream",
     "text": [
      "/tmp/ipykernel_3853420/730053802.py:11: DtypeWarning: Columns (6,14,27,29,32,33,34,35,42,43,51) have mixed types. Specify dtype option on import or set low_memory=False.\n",
      "  for chunk in pd.read_csv(directory, chunksize=2500000, nrows = nrows):\n"
     ]
    },
    {
     "name": "stdout",
     "output_type": "stream",
     "text": [
      "560349 : len chunk PT\n",
      "432402 : after filtering zero-length PT\n",
      "284475 : len chunk PEV\n",
      "284475 : after filtering drivers\n",
      "287376 : len chunk PLV\n",
      "287376 : after filtering drivers\n"
     ]
    },
    {
     "name": "stderr",
     "output_type": "stream",
     "text": [
      "/tmp/ipykernel_3853420/730053802.py:11: DtypeWarning: Columns (6,14,27,29,32,33,34,35,42,43,51) have mixed types. Specify dtype option on import or set low_memory=False.\n",
      "  for chunk in pd.read_csv(directory, chunksize=2500000, nrows = nrows):\n"
     ]
    },
    {
     "name": "stdout",
     "output_type": "stream",
     "text": [
      "559720 : len chunk PT\n",
      "431409 : after filtering zero-length PT\n",
      "305830 : len chunk PEV\n",
      "305830 : after filtering drivers\n",
      "281234 : len chunk PLV\n",
      "281234 : after filtering drivers\n"
     ]
    },
    {
     "name": "stderr",
     "output_type": "stream",
     "text": [
      "/tmp/ipykernel_3853420/730053802.py:11: DtypeWarning: Columns (6,14,27,29,32,33,34,35,42,43,51) have mixed types. Specify dtype option on import or set low_memory=False.\n",
      "  for chunk in pd.read_csv(directory, chunksize=2500000, nrows = nrows):\n"
     ]
    },
    {
     "name": "stdout",
     "output_type": "stream",
     "text": [
      "572903 : len chunk PT\n",
      "443484 : after filtering zero-length PT\n",
      "296526 : len chunk PEV\n",
      "296526 : after filtering drivers\n",
      "291419 : len chunk PLV\n",
      "291419 : after filtering drivers\n"
     ]
    },
    {
     "name": "stderr",
     "output_type": "stream",
     "text": [
      "/tmp/ipykernel_3853420/730053802.py:11: DtypeWarning: Columns (6,14,27,29,32,33,34,35,42,43,51) have mixed types. Specify dtype option on import or set low_memory=False.\n",
      "  for chunk in pd.read_csv(directory, chunksize=2500000, nrows = nrows):\n"
     ]
    },
    {
     "name": "stdout",
     "output_type": "stream",
     "text": [
      "577876 : len chunk PT\n",
      "448876 : after filtering zero-length PT\n",
      "294236 : len chunk PEV\n",
      "294236 : after filtering drivers\n",
      "293547 : len chunk PLV\n",
      "293547 : after filtering drivers\n"
     ]
    },
    {
     "name": "stderr",
     "output_type": "stream",
     "text": [
      "/tmp/ipykernel_3853420/730053802.py:11: DtypeWarning: Columns (6,14,27,29,32,33,34,35,42,43,51) have mixed types. Specify dtype option on import or set low_memory=False.\n",
      "  for chunk in pd.read_csv(directory, chunksize=2500000, nrows = nrows):\n"
     ]
    },
    {
     "name": "stdout",
     "output_type": "stream",
     "text": [
      "552786 : len chunk PT\n",
      "425364 : after filtering zero-length PT\n",
      "318704 : len chunk PEV\n",
      "318704 : after filtering drivers\n",
      "272091 : len chunk PLV\n",
      "272091 : after filtering drivers\n"
     ]
    },
    {
     "name": "stderr",
     "output_type": "stream",
     "text": [
      "/tmp/ipykernel_3853420/730053802.py:11: DtypeWarning: Columns (6,14,27,29,32,33,34,35,42,43,48,51,58) have mixed types. Specify dtype option on import or set low_memory=False.\n",
      "  for chunk in pd.read_csv(directory, chunksize=2500000, nrows = nrows):\n"
     ]
    },
    {
     "name": "stdout",
     "output_type": "stream",
     "text": [
      "568735 : len chunk PT\n",
      "437948 : after filtering zero-length PT\n",
      "306262 : len chunk PEV\n",
      "306262 : after filtering drivers\n",
      "289214 : len chunk PLV\n",
      "289214 : after filtering drivers\n"
     ]
    },
    {
     "name": "stderr",
     "output_type": "stream",
     "text": [
      "/tmp/ipykernel_3853420/730053802.py:11: DtypeWarning: Columns (6,14,27,29,32,33,34,35,42,43,51) have mixed types. Specify dtype option on import or set low_memory=False.\n",
      "  for chunk in pd.read_csv(directory, chunksize=2500000, nrows = nrows):\n"
     ]
    },
    {
     "name": "stdout",
     "output_type": "stream",
     "text": [
      "588097 : len chunk PT\n",
      "457029 : after filtering zero-length PT\n",
      "289712 : len chunk PEV\n",
      "289712 : after filtering drivers\n",
      "302884 : len chunk PLV\n",
      "302884 : after filtering drivers\n"
     ]
    },
    {
     "name": "stderr",
     "output_type": "stream",
     "text": [
      "/tmp/ipykernel_3853420/730053802.py:11: DtypeWarning: Columns (6,14,27,29,32,33,34,35,42,43,51) have mixed types. Specify dtype option on import or set low_memory=False.\n",
      "  for chunk in pd.read_csv(directory, chunksize=2500000, nrows = nrows):\n"
     ]
    },
    {
     "name": "stdout",
     "output_type": "stream",
     "text": [
      "556916 : len chunk PT\n",
      "425965 : after filtering zero-length PT\n",
      "313743 : len chunk PEV\n",
      "313743 : after filtering drivers\n",
      "282812 : len chunk PLV\n",
      "282812 : after filtering drivers\n"
     ]
    },
    {
     "name": "stderr",
     "output_type": "stream",
     "text": [
      "/tmp/ipykernel_3853420/730053802.py:11: DtypeWarning: Columns (6,14,27,29,32,33,34,35,42,43,51) have mixed types. Specify dtype option on import or set low_memory=False.\n",
      "  for chunk in pd.read_csv(directory, chunksize=2500000, nrows = nrows):\n"
     ]
    },
    {
     "name": "stdout",
     "output_type": "stream",
     "text": [
      "579390 : len chunk PT\n",
      "449160 : after filtering zero-length PT\n",
      "298605 : len chunk PEV\n",
      "298605 : after filtering drivers\n",
      "298386 : len chunk PLV\n",
      "298386 : after filtering drivers\n"
     ]
    },
    {
     "name": "stderr",
     "output_type": "stream",
     "text": [
      "/tmp/ipykernel_3853420/730053802.py:11: DtypeWarning: Columns (6,14,27,29,32,33,34,35,42,43,51) have mixed types. Specify dtype option on import or set low_memory=False.\n",
      "  for chunk in pd.read_csv(directory, chunksize=2500000, nrows = nrows):\n"
     ]
    },
    {
     "name": "stdout",
     "output_type": "stream",
     "text": [
      "573059 : len chunk PT\n",
      "440355 : after filtering zero-length PT\n",
      "296712 : len chunk PEV\n",
      "296712 : after filtering drivers\n",
      "297936 : len chunk PLV\n",
      "297936 : after filtering drivers\n"
     ]
    },
    {
     "name": "stderr",
     "output_type": "stream",
     "text": [
      "/tmp/ipykernel_3853420/730053802.py:11: DtypeWarning: Columns (6,14,27,29,32,33,34,35,42,43,51) have mixed types. Specify dtype option on import or set low_memory=False.\n",
      "  for chunk in pd.read_csv(directory, chunksize=2500000, nrows = nrows):\n"
     ]
    },
    {
     "name": "stdout",
     "output_type": "stream",
     "text": [
      "609016 : len chunk PT\n",
      "469330 : after filtering zero-length PT\n",
      "268303 : len chunk PEV\n",
      "268303 : after filtering drivers\n",
      "328164 : len chunk PLV\n",
      "328164 : after filtering drivers\n"
     ]
    },
    {
     "name": "stderr",
     "output_type": "stream",
     "text": [
      "/tmp/ipykernel_3853420/730053802.py:11: DtypeWarning: Columns (6,14,27,29,32,33,34,35,42,43,51) have mixed types. Specify dtype option on import or set low_memory=False.\n",
      "  for chunk in pd.read_csv(directory, chunksize=2500000, nrows = nrows):\n"
     ]
    },
    {
     "name": "stdout",
     "output_type": "stream",
     "text": [
      "601173 : len chunk PT\n",
      "465737 : after filtering zero-length PT\n",
      "275658 : len chunk PEV\n",
      "275658 : after filtering drivers\n",
      "326695 : len chunk PLV\n",
      "326695 : after filtering drivers\n"
     ]
    },
    {
     "name": "stderr",
     "output_type": "stream",
     "text": [
      "/tmp/ipykernel_3853420/730053802.py:11: DtypeWarning: Columns (6,14,27,29,32,33,34,35,42,43,51) have mixed types. Specify dtype option on import or set low_memory=False.\n",
      "  for chunk in pd.read_csv(directory, chunksize=2500000, nrows = nrows):\n"
     ]
    },
    {
     "name": "stdout",
     "output_type": "stream",
     "text": [
      "599466 : len chunk PT\n",
      "464427 : after filtering zero-length PT\n",
      "281738 : len chunk PEV\n",
      "281738 : after filtering drivers\n",
      "316345 : len chunk PLV\n",
      "316345 : after filtering drivers\n"
     ]
    },
    {
     "name": "stderr",
     "output_type": "stream",
     "text": [
      "/tmp/ipykernel_3853420/730053802.py:11: DtypeWarning: Columns (6,14,27,29,32,33,34,35,42,43,51) have mixed types. Specify dtype option on import or set low_memory=False.\n",
      "  for chunk in pd.read_csv(directory, chunksize=2500000, nrows = nrows):\n"
     ]
    },
    {
     "name": "stdout",
     "output_type": "stream",
     "text": [
      "587060 : len chunk PT\n",
      "453816 : after filtering zero-length PT\n",
      "287712 : len chunk PEV\n",
      "287712 : after filtering drivers\n",
      "305532 : len chunk PLV\n",
      "305532 : after filtering drivers\n"
     ]
    },
    {
     "name": "stderr",
     "output_type": "stream",
     "text": [
      "/tmp/ipykernel_3853420/730053802.py:11: DtypeWarning: Columns (6,14,27,29,32,33,34,35,42,51) have mixed types. Specify dtype option on import or set low_memory=False.\n",
      "  for chunk in pd.read_csv(directory, chunksize=2500000, nrows = nrows):\n"
     ]
    },
    {
     "name": "stdout",
     "output_type": "stream",
     "text": [
      "576124 : len chunk PT\n",
      "443875 : after filtering zero-length PT\n",
      "293251 : len chunk PEV\n",
      "293251 : after filtering drivers\n",
      "296455 : len chunk PLV\n",
      "296455 : after filtering drivers\n"
     ]
    },
    {
     "name": "stderr",
     "output_type": "stream",
     "text": [
      "/tmp/ipykernel_3853420/730053802.py:11: DtypeWarning: Columns (6,14,27,29,32,33,34,35,42,51) have mixed types. Specify dtype option on import or set low_memory=False.\n",
      "  for chunk in pd.read_csv(directory, chunksize=2500000, nrows = nrows):\n"
     ]
    },
    {
     "name": "stdout",
     "output_type": "stream",
     "text": [
      "595523 : len chunk PT\n",
      "457516 : after filtering zero-length PT\n",
      "273936 : len chunk PEV\n",
      "273936 : after filtering drivers\n",
      "316774 : len chunk PLV\n",
      "316774 : after filtering drivers\n"
     ]
    },
    {
     "name": "stderr",
     "output_type": "stream",
     "text": [
      "/tmp/ipykernel_3853420/730053802.py:11: DtypeWarning: Columns (14,42,43,51) have mixed types. Specify dtype option on import or set low_memory=False.\n",
      "  for chunk in pd.read_csv(directory, chunksize=2500000, nrows = nrows):\n"
     ]
    },
    {
     "name": "stdout",
     "output_type": "stream",
     "text": [
      "616928 : len chunk PT\n",
      "479124 : after filtering zero-length PT\n",
      "270100 : len chunk PEV\n",
      "270100 : after filtering drivers\n",
      "325321 : len chunk PLV\n",
      "325321 : after filtering drivers\n"
     ]
    },
    {
     "name": "stderr",
     "output_type": "stream",
     "text": [
      "/tmp/ipykernel_3853420/730053802.py:11: DtypeWarning: Columns (6,42,51) have mixed types. Specify dtype option on import or set low_memory=False.\n",
      "  for chunk in pd.read_csv(directory, chunksize=2500000, nrows = nrows):\n"
     ]
    },
    {
     "name": "stdout",
     "output_type": "stream",
     "text": [
      "204139 : len chunk PT\n",
      "162632 : after filtering zero-length PT\n",
      "57843 : len chunk PEV\n",
      "57843 : after filtering drivers\n",
      "110848 : len chunk PLV\n",
      "110848 : after filtering drivers\n",
      "12149170 :len PEVs\n",
      "12149106 :len PLVs\n",
      "17675857 :len PTs\n",
      "7546977 :len MCs\n",
      "149524 :len RPs\n",
      "7455110 :len ASs\n"
     ]
    },
    {
     "name": "stderr",
     "output_type": "stream",
     "text": [
      "/tmp/ipykernel_3853420/3791711208.py:17: UserWarning: evaluating in Python space because the '*' operator is not supported by numexpr for the bool dtype, use '&' instead.\n",
      "  PTs['is_RHempty'] = PTs['isRH']*PTs['is_empty']\n",
      "/tmp/ipykernel_3853420/3791711208.py:48: UserWarning: evaluating in Python space because the '*' operator is not supported by numexpr for the bool dtype, use '&' instead.\n",
      "  PTs['is_'+tm+'_empty'] = PTs['is'+tm]*PTs['is_empty']\n",
      "/tmp/ipykernel_3853420/3791711208.py:48: UserWarning: evaluating in Python space because the '*' operator is not supported by numexpr for the bool dtype, use '&' instead.\n",
      "  PTs['is_'+tm+'_empty'] = PTs['is'+tm]*PTs['is_empty']\n",
      "/tmp/ipykernel_3853420/3791711208.py:48: UserWarning: evaluating in Python space because the '*' operator is not supported by numexpr for the bool dtype, use '&' instead.\n",
      "  PTs['is_'+tm+'_empty'] = PTs['is'+tm]*PTs['is_empty']\n",
      "/tmp/ipykernel_3853420/3791711208.py:48: UserWarning: evaluating in Python space because the '*' operator is not supported by numexpr for the bool dtype, use '&' instead.\n",
      "  PTs['is_'+tm+'_empty'] = PTs['is'+tm]*PTs['is_empty']\n",
      "/tmp/ipykernel_3853420/3791711208.py:48: UserWarning: evaluating in Python space because the '*' operator is not supported by numexpr for the bool dtype, use '&' instead.\n",
      "  PTs['is_'+tm+'_empty'] = PTs['is'+tm]*PTs['is_empty']\n",
      "/tmp/ipykernel_3853420/3791711208.py:48: UserWarning: evaluating in Python space because the '*' operator is not supported by numexpr for the bool dtype, use '&' instead.\n",
      "  PTs['is_'+tm+'_empty'] = PTs['is'+tm]*PTs['is_empty']\n"
     ]
    },
    {
     "name": "stdout",
     "output_type": "stream",
     "text": [
      "processPlans...\n",
      "gs://beam-core-outputs/sfbay-tr-TempoBRT-30pct-20230825/beam/year-2018-iteration-10/ITERS/it.0/0.plans.csv.gz\n",
      "addTimesToPlans...\n",
      "Total time: 4.633304119110107\n",
      "Total time: 779.0849220752716\n",
      "personToPathTraversal...\n",
      "expected PtoPTs from occupancy  car 7329800\n",
      "expected PtoPTs from occupancy  walk 6208489\n",
      "expected PtoPTs from occupancy  car_hov2 1053324.0\n",
      "expected PtoPTs from occupancy  bus 4252196\n",
      "expected PtoPTs from occupancy  car_hov3 754256.0\n",
      "expected PtoPTs from occupancy  bus_empty 0\n",
      "expected PtoPTs from occupancy  car_emer 414162\n",
      "expected PtoPTs from occupancy  car_hov2_emer 127873\n",
      "expected PtoPTs from occupancy  car_RideHail_empty 0\n",
      "expected PtoPTs from occupancy  car_RideHail 110131\n",
      "expected PtoPTs from occupancy  bike 105707\n",
      "expected PtoPTs from occupancy  car_hov3_emer 89345\n",
      "expected PtoPTs from occupancy  tram 370035\n",
      "expected PtoPTs from occupancy  cable_car 41108\n",
      "expected PtoPTs from occupancy  subway 623610\n",
      "expected PtoPTs from occupancy  tram_empty 0\n",
      "expected PtoPTs from occupancy  cable_car_empty 0\n",
      "expected PtoPTs from occupancy  rail 21479\n",
      "expected PtoPTs from occupancy  subway_empty 0\n",
      "expected PtoPTs from occupancy  rail_empty 0\n",
      "expected PtoPTs from occupancy  ferry_empty 0\n",
      "expected PtoPTs from occupancy  ferry 38\n",
      "expected PtoPTs from occupancy TOT =  21501553.0\n",
      "len of PEV =  12149170\n",
      "len of PLV =  12149106\n",
      "len PtoPTs after matching agents and vehicles bike 105711\n",
      "len PtoPTs after matching agents and vehicles bus 4252368\n",
      "len PtoPTs after matching agents and vehicles bus_empty 17\n",
      "len PtoPTs after matching agents and vehicles cable_car 41108\n",
      "len PtoPTs after matching agents and vehicles car 7330088\n",
      "len PtoPTs after matching agents and vehicles car_RideHail 110848\n",
      "len PtoPTs after matching agents and vehicles car_RideHail_empty 953\n",
      "len PtoPTs after matching agents and vehicles car_emer 414109\n",
      "len PtoPTs after matching agents and vehicles car_hov2 1053454\n",
      "len PtoPTs after matching agents and vehicles car_hov2_emer 127886\n",
      "len PtoPTs after matching agents and vehicles car_hov3 754310\n",
      "len PtoPTs after matching agents and vehicles car_hov3_emer 89357\n",
      "len PtoPTs after matching agents and vehicles ferry 38\n",
      "len PtoPTs after matching agents and vehicles rail 21479\n",
      "len PtoPTs after matching agents and vehicles subway 623610\n",
      "len PtoPTs after matching agents and vehicles tram 370035\n",
      "len PtoPTs after matching agents and vehicles walk 6208885\n",
      "no legs found: 116052\n",
      "no legs found after time check: 1144919\n",
      "no vehicle body found, probably because with zero duration (discarded by PT): 116052\n",
      "no vehicle body found after time check, probably because with zero duration (discarded by PT): 1144918\n",
      "Tot created PtoPTs =  21504256\n",
      "Total time: 2441.0011184215546\n",
      "Number Trips... TR-1T\n",
      "Share Trips... TR-1T\n",
      "Lengths Vehicles... TR-1T\n",
      "Lengths Persons... TR-1T\n",
      "Lengths Modes... TR-1T\n",
      "Durations Vehicle... TR-1T\n",
      "Durations Person... TR-1T\n",
      "Speeds Vehicle... TR-1T\n",
      "1.1660    11347615\n",
      "1.0000     6208489\n",
      "1.3958      100203\n",
      "1.1252       19550\n",
      "Name: routee correction, dtype: int64\n",
      "Energy Usage Vehicle... TR-1T\n",
      "Trip Gallons Vehicle... TR-1T\n",
      "Occupancy Vehicle... TR-1T\n",
      "Ridership Transit... TR-1T\n",
      "Ride hail... TR-1T\n",
      "done\n",
      "Total Time 6312.40354847908\n",
      "                              Baseline            TR  TR-BART  TR-BSVI  \\\n",
      "Vehicle Passengers stops Cal       NaN  2.147100e+04      NaN      NaN   \n",
      "Vehicle Passengers km Cal          NaN  1.056607e+05      NaN      NaN   \n",
      "Vehicle Capacity km Cal            NaN  8.416326e+06      NaN      NaN   \n",
      "Vehicle Load Factor Cal            NaN  1.255425e-02      NaN      NaN   \n",
      "Ridership Cal                      NaN  6.384000e+03      NaN      NaN   \n",
      "Ridership Cal Share                NaN  8.875900e-03      NaN      NaN   \n",
      "\n",
      "                              TR-BSVII  TR-CORE  TR-1T  \n",
      "Vehicle Passengers stops Cal       NaN      NaN    NaN  \n",
      "Vehicle Passengers km Cal          NaN      NaN    NaN  \n",
      "Vehicle Capacity km Cal            NaN      NaN    NaN  \n",
      "Vehicle Load Factor Cal            NaN      NaN    NaN  \n",
      "Ridership Cal                      NaN      NaN    NaN  \n",
      "Ridership Cal Share                NaN      NaN    NaN   Number of attributes 4932\n",
      "writing results on gs://beam-core-outputs/sfbay-tr-TempoBRT-30pct-20230825/postprocessOutputs/year-2018-iteration-10\n",
      "File uploaded successfully.\n",
      "Reading  gs://beam-core-outputs/sfbay-tr-CAElectrification-30pct-20230828/beam/year-2018-iteration-10/ITERS/it.0/0.events.csv.gz\n"
     ]
    },
    {
     "name": "stderr",
     "output_type": "stream",
     "text": [
      "/tmp/ipykernel_3853420/730053802.py:11: DtypeWarning: Columns (0,1,4,10,12,13,14,15,16,24,25,32,36,38,41,43,46,47,48,49,56,58,59,60) have mixed types. Specify dtype option on import or set low_memory=False.\n",
      "  for chunk in pd.read_csv(directory, chunksize=2500000, nrows = nrows):\n"
     ]
    },
    {
     "name": "stdout",
     "output_type": "stream",
     "text": [
      "10006 : len chunk PT\n",
      "7916 : after filtering zero-length PT\n",
      "54506 : len chunk PEV\n",
      "4713 : after filtering drivers\n",
      "106 : len chunk PLV\n",
      "106 : after filtering drivers\n"
     ]
    },
    {
     "name": "stderr",
     "output_type": "stream",
     "text": [
      "/tmp/ipykernel_3853420/730053802.py:11: DtypeWarning: Columns (12,16,32,38,50) have mixed types. Specify dtype option on import or set low_memory=False.\n",
      "  for chunk in pd.read_csv(directory, chunksize=2500000, nrows = nrows):\n"
     ]
    },
    {
     "name": "stdout",
     "output_type": "stream",
     "text": [
      "581618 : len chunk PT\n",
      "357039 : after filtering zero-length PT\n",
      "334012 : len chunk PEV\n",
      "334012 : after filtering drivers\n",
      "259980 : len chunk PLV\n",
      "259980 : after filtering drivers\n"
     ]
    },
    {
     "name": "stderr",
     "output_type": "stream",
     "text": [
      "/tmp/ipykernel_3853420/730053802.py:11: DtypeWarning: Columns (12,16,32,38,41,43,46,47,48,49,50) have mixed types. Specify dtype option on import or set low_memory=False.\n",
      "  for chunk in pd.read_csv(directory, chunksize=2500000, nrows = nrows):\n"
     ]
    },
    {
     "name": "stdout",
     "output_type": "stream",
     "text": [
      "576929 : len chunk PT\n",
      "369284 : after filtering zero-length PT\n",
      "326219 : len chunk PEV\n",
      "326219 : after filtering drivers\n",
      "268439 : len chunk PLV\n",
      "268439 : after filtering drivers\n"
     ]
    },
    {
     "name": "stderr",
     "output_type": "stream",
     "text": [
      "/tmp/ipykernel_3853420/730053802.py:11: DtypeWarning: Columns (12,16,32,38,41,43,46,47,48,49,50) have mixed types. Specify dtype option on import or set low_memory=False.\n",
      "  for chunk in pd.read_csv(directory, chunksize=2500000, nrows = nrows):\n"
     ]
    },
    {
     "name": "stdout",
     "output_type": "stream",
     "text": [
      "542366 : len chunk PT\n",
      "337532 : after filtering zero-length PT\n",
      "319129 : len chunk PEV\n",
      "319129 : after filtering drivers\n",
      "256737 : len chunk PLV\n",
      "256737 : after filtering drivers\n"
     ]
    },
    {
     "name": "stderr",
     "output_type": "stream",
     "text": [
      "/tmp/ipykernel_3853420/730053802.py:11: DtypeWarning: Columns (12,16,32,38,41,43,46,47,48,49,50) have mixed types. Specify dtype option on import or set low_memory=False.\n",
      "  for chunk in pd.read_csv(directory, chunksize=2500000, nrows = nrows):\n"
     ]
    },
    {
     "name": "stdout",
     "output_type": "stream",
     "text": [
      "563470 : len chunk PT\n",
      "368721 : after filtering zero-length PT\n",
      "299408 : len chunk PEV\n",
      "299408 : after filtering drivers\n",
      "282835 : len chunk PLV\n",
      "282835 : after filtering drivers\n"
     ]
    },
    {
     "name": "stderr",
     "output_type": "stream",
     "text": [
      "/tmp/ipykernel_3853420/730053802.py:11: DtypeWarning: Columns (12,16,32,38,41,43,46,47,48,49,50) have mixed types. Specify dtype option on import or set low_memory=False.\n",
      "  for chunk in pd.read_csv(directory, chunksize=2500000, nrows = nrows):\n"
     ]
    },
    {
     "name": "stdout",
     "output_type": "stream",
     "text": [
      "549821 : len chunk PT\n",
      "358919 : after filtering zero-length PT\n",
      "309741 : len chunk PEV\n",
      "309741 : after filtering drivers\n",
      "275246 : len chunk PLV\n",
      "275246 : after filtering drivers\n"
     ]
    },
    {
     "name": "stderr",
     "output_type": "stream",
     "text": [
      "/tmp/ipykernel_3853420/730053802.py:11: DtypeWarning: Columns (12,16,32,38,41,43,46,47,48,49,50) have mixed types. Specify dtype option on import or set low_memory=False.\n",
      "  for chunk in pd.read_csv(directory, chunksize=2500000, nrows = nrows):\n"
     ]
    },
    {
     "name": "stdout",
     "output_type": "stream",
     "text": [
      "550735 : len chunk PT\n",
      "363546 : after filtering zero-length PT\n",
      "295226 : len chunk PEV\n",
      "295226 : after filtering drivers\n",
      "284232 : len chunk PLV\n",
      "284232 : after filtering drivers\n"
     ]
    },
    {
     "name": "stderr",
     "output_type": "stream",
     "text": [
      "/tmp/ipykernel_3853420/730053802.py:11: DtypeWarning: Columns (12,16,32,38,41,43,46,47,48,49,50) have mixed types. Specify dtype option on import or set low_memory=False.\n",
      "  for chunk in pd.read_csv(directory, chunksize=2500000, nrows = nrows):\n"
     ]
    },
    {
     "name": "stdout",
     "output_type": "stream",
     "text": [
      "556753 : len chunk PT\n",
      "382047 : after filtering zero-length PT\n",
      "288178 : len chunk PEV\n",
      "288178 : after filtering drivers\n",
      "291647 : len chunk PLV\n",
      "291647 : after filtering drivers\n"
     ]
    },
    {
     "name": "stderr",
     "output_type": "stream",
     "text": [
      "/tmp/ipykernel_3853420/730053802.py:11: DtypeWarning: Columns (12,16,32,38,41,43,46,47,48,49,50) have mixed types. Specify dtype option on import or set low_memory=False.\n",
      "  for chunk in pd.read_csv(directory, chunksize=2500000, nrows = nrows):\n"
     ]
    },
    {
     "name": "stdout",
     "output_type": "stream",
     "text": [
      "544206 : len chunk PT\n",
      "378144 : after filtering zero-length PT\n",
      "298303 : len chunk PEV\n",
      "298303 : after filtering drivers\n",
      "282020 : len chunk PLV\n",
      "282020 : after filtering drivers\n"
     ]
    },
    {
     "name": "stderr",
     "output_type": "stream",
     "text": [
      "/tmp/ipykernel_3853420/730053802.py:11: DtypeWarning: Columns (12,16,32,38,41,43,46,47,48,49,50) have mixed types. Specify dtype option on import or set low_memory=False.\n",
      "  for chunk in pd.read_csv(directory, chunksize=2500000, nrows = nrows):\n"
     ]
    },
    {
     "name": "stdout",
     "output_type": "stream",
     "text": [
      "603694 : len chunk PT\n",
      "436544 : after filtering zero-length PT\n",
      "263850 : len chunk PEV\n",
      "263850 : after filtering drivers\n",
      "332387 : len chunk PLV\n",
      "332387 : after filtering drivers\n"
     ]
    },
    {
     "name": "stderr",
     "output_type": "stream",
     "text": [
      "/tmp/ipykernel_3853420/730053802.py:11: DtypeWarning: Columns (12,16,32,38,41,43,46,47,48,49,50) have mixed types. Specify dtype option on import or set low_memory=False.\n",
      "  for chunk in pd.read_csv(directory, chunksize=2500000, nrows = nrows):\n"
     ]
    },
    {
     "name": "stdout",
     "output_type": "stream",
     "text": [
      "594623 : len chunk PT\n",
      "433370 : after filtering zero-length PT\n",
      "276624 : len chunk PEV\n",
      "276624 : after filtering drivers\n",
      "321870 : len chunk PLV\n",
      "321870 : after filtering drivers\n"
     ]
    },
    {
     "name": "stderr",
     "output_type": "stream",
     "text": [
      "/tmp/ipykernel_3853420/730053802.py:11: DtypeWarning: Columns (12,16,32,38,41,43,46,47,48,49,50) have mixed types. Specify dtype option on import or set low_memory=False.\n",
      "  for chunk in pd.read_csv(directory, chunksize=2500000, nrows = nrows):\n"
     ]
    },
    {
     "name": "stdout",
     "output_type": "stream",
     "text": [
      "584611 : len chunk PT\n",
      "430486 : after filtering zero-length PT\n",
      "300624 : len chunk PEV\n",
      "300624 : after filtering drivers\n",
      "294464 : len chunk PLV\n",
      "294464 : after filtering drivers\n"
     ]
    },
    {
     "name": "stderr",
     "output_type": "stream",
     "text": [
      "/tmp/ipykernel_3853420/730053802.py:11: DtypeWarning: Columns (12,16,32,38,41,43,46,47,48,49,50) have mixed types. Specify dtype option on import or set low_memory=False.\n",
      "  for chunk in pd.read_csv(directory, chunksize=2500000, nrows = nrows):\n"
     ]
    },
    {
     "name": "stdout",
     "output_type": "stream",
     "text": [
      "586552 : len chunk PT\n",
      "436606 : after filtering zero-length PT\n",
      "293859 : len chunk PEV\n",
      "293859 : after filtering drivers\n",
      "296917 : len chunk PLV\n",
      "296917 : after filtering drivers\n"
     ]
    },
    {
     "name": "stderr",
     "output_type": "stream",
     "text": [
      "/tmp/ipykernel_3853420/730053802.py:11: DtypeWarning: Columns (12,16,32,38,41,43,46,47,48,49,50) have mixed types. Specify dtype option on import or set low_memory=False.\n",
      "  for chunk in pd.read_csv(directory, chunksize=2500000, nrows = nrows):\n"
     ]
    },
    {
     "name": "stdout",
     "output_type": "stream",
     "text": [
      "581760 : len chunk PT\n",
      "432986 : after filtering zero-length PT\n",
      "298310 : len chunk PEV\n",
      "298310 : after filtering drivers\n",
      "290338 : len chunk PLV\n",
      "290338 : after filtering drivers\n"
     ]
    },
    {
     "name": "stderr",
     "output_type": "stream",
     "text": [
      "/tmp/ipykernel_3853420/730053802.py:11: DtypeWarning: Columns (12,16,32,38,41,43,46,47,48,49,50) have mixed types. Specify dtype option on import or set low_memory=False.\n",
      "  for chunk in pd.read_csv(directory, chunksize=2500000, nrows = nrows):\n"
     ]
    },
    {
     "name": "stdout",
     "output_type": "stream",
     "text": [
      "584807 : len chunk PT\n",
      "436208 : after filtering zero-length PT\n",
      "293257 : len chunk PEV\n",
      "293257 : after filtering drivers\n",
      "294360 : len chunk PLV\n",
      "294360 : after filtering drivers\n"
     ]
    },
    {
     "name": "stderr",
     "output_type": "stream",
     "text": [
      "/tmp/ipykernel_3853420/730053802.py:11: DtypeWarning: Columns (12,16,32,38,41,43,46,47,48,49,50) have mixed types. Specify dtype option on import or set low_memory=False.\n",
      "  for chunk in pd.read_csv(directory, chunksize=2500000, nrows = nrows):\n"
     ]
    },
    {
     "name": "stdout",
     "output_type": "stream",
     "text": [
      "584185 : len chunk PT\n",
      "439031 : after filtering zero-length PT\n",
      "296553 : len chunk PEV\n",
      "296553 : after filtering drivers\n",
      "291938 : len chunk PLV\n",
      "291938 : after filtering drivers\n"
     ]
    },
    {
     "name": "stderr",
     "output_type": "stream",
     "text": [
      "/tmp/ipykernel_3853420/730053802.py:11: DtypeWarning: Columns (12,16,32,38,41,43,46,47,48,49,50) have mixed types. Specify dtype option on import or set low_memory=False.\n",
      "  for chunk in pd.read_csv(directory, chunksize=2500000, nrows = nrows):\n"
     ]
    },
    {
     "name": "stdout",
     "output_type": "stream",
     "text": [
      "584083 : len chunk PT\n",
      "437527 : after filtering zero-length PT\n",
      "292909 : len chunk PEV\n",
      "292909 : after filtering drivers\n",
      "294011 : len chunk PLV\n",
      "294011 : after filtering drivers\n"
     ]
    },
    {
     "name": "stderr",
     "output_type": "stream",
     "text": [
      "/tmp/ipykernel_3853420/730053802.py:11: DtypeWarning: Columns (12,16,32,38,41,43,46,47,48,49,50) have mixed types. Specify dtype option on import or set low_memory=False.\n",
      "  for chunk in pd.read_csv(directory, chunksize=2500000, nrows = nrows):\n"
     ]
    },
    {
     "name": "stdout",
     "output_type": "stream",
     "text": [
      "582615 : len chunk PT\n",
      "440320 : after filtering zero-length PT\n",
      "292097 : len chunk PEV\n",
      "292097 : after filtering drivers\n",
      "294317 : len chunk PLV\n",
      "294317 : after filtering drivers\n"
     ]
    },
    {
     "name": "stderr",
     "output_type": "stream",
     "text": [
      "/tmp/ipykernel_3853420/730053802.py:11: DtypeWarning: Columns (12,16,32,38,41,43,46,47,48,49,50) have mixed types. Specify dtype option on import or set low_memory=False.\n",
      "  for chunk in pd.read_csv(directory, chunksize=2500000, nrows = nrows):\n"
     ]
    },
    {
     "name": "stdout",
     "output_type": "stream",
     "text": [
      "568544 : len chunk PT\n",
      "430084 : after filtering zero-length PT\n",
      "306523 : len chunk PEV\n",
      "306523 : after filtering drivers\n",
      "280901 : len chunk PLV\n",
      "280901 : after filtering drivers\n"
     ]
    },
    {
     "name": "stderr",
     "output_type": "stream",
     "text": [
      "/tmp/ipykernel_3853420/730053802.py:11: DtypeWarning: Columns (12,16,32,38,41,43,46,47,48,49,50) have mixed types. Specify dtype option on import or set low_memory=False.\n",
      "  for chunk in pd.read_csv(directory, chunksize=2500000, nrows = nrows):\n"
     ]
    },
    {
     "name": "stdout",
     "output_type": "stream",
     "text": [
      "583934 : len chunk PT\n",
      "447882 : after filtering zero-length PT\n",
      "292349 : len chunk PEV\n",
      "292349 : after filtering drivers\n",
      "294516 : len chunk PLV\n",
      "294516 : after filtering drivers\n"
     ]
    },
    {
     "name": "stderr",
     "output_type": "stream",
     "text": [
      "/tmp/ipykernel_3853420/730053802.py:11: DtypeWarning: Columns (12,16,32,38,41,43,46,47,48,49,50) have mixed types. Specify dtype option on import or set low_memory=False.\n",
      "  for chunk in pd.read_csv(directory, chunksize=2500000, nrows = nrows):\n"
     ]
    },
    {
     "name": "stdout",
     "output_type": "stream",
     "text": [
      "571981 : len chunk PT\n",
      "430915 : after filtering zero-length PT\n",
      "294008 : len chunk PEV\n",
      "294008 : after filtering drivers\n",
      "292573 : len chunk PLV\n",
      "292573 : after filtering drivers\n"
     ]
    },
    {
     "name": "stderr",
     "output_type": "stream",
     "text": [
      "/tmp/ipykernel_3853420/730053802.py:11: DtypeWarning: Columns (12,16,32,38,41,43,46,47,48,49,50) have mixed types. Specify dtype option on import or set low_memory=False.\n",
      "  for chunk in pd.read_csv(directory, chunksize=2500000, nrows = nrows):\n"
     ]
    },
    {
     "name": "stdout",
     "output_type": "stream",
     "text": [
      "582121 : len chunk PT\n",
      "447251 : after filtering zero-length PT\n",
      "286451 : len chunk PEV\n",
      "286451 : after filtering drivers\n",
      "294593 : len chunk PLV\n",
      "294593 : after filtering drivers\n"
     ]
    },
    {
     "name": "stderr",
     "output_type": "stream",
     "text": [
      "/tmp/ipykernel_3853420/730053802.py:11: DtypeWarning: Columns (12,16,32,38,41,43,46,47,48,49,50) have mixed types. Specify dtype option on import or set low_memory=False.\n",
      "  for chunk in pd.read_csv(directory, chunksize=2500000, nrows = nrows):\n"
     ]
    },
    {
     "name": "stdout",
     "output_type": "stream",
     "text": [
      "564770 : len chunk PT\n",
      "430126 : after filtering zero-length PT\n",
      "289756 : len chunk PEV\n",
      "289756 : after filtering drivers\n",
      "290438 : len chunk PLV\n",
      "290438 : after filtering drivers\n"
     ]
    },
    {
     "name": "stderr",
     "output_type": "stream",
     "text": [
      "/tmp/ipykernel_3853420/730053802.py:11: DtypeWarning: Columns (12,16,32,38,41,43,46,47,48,49,50) have mixed types. Specify dtype option on import or set low_memory=False.\n",
      "  for chunk in pd.read_csv(directory, chunksize=2500000, nrows = nrows):\n"
     ]
    },
    {
     "name": "stdout",
     "output_type": "stream",
     "text": [
      "563962 : len chunk PT\n",
      "432663 : after filtering zero-length PT\n",
      "293768 : len chunk PEV\n",
      "293768 : after filtering drivers\n",
      "282479 : len chunk PLV\n",
      "282479 : after filtering drivers\n"
     ]
    },
    {
     "name": "stderr",
     "output_type": "stream",
     "text": [
      "/tmp/ipykernel_3853420/730053802.py:11: DtypeWarning: Columns (12,16,32,38,41,43,46,47,48,49,50) have mixed types. Specify dtype option on import or set low_memory=False.\n",
      "  for chunk in pd.read_csv(directory, chunksize=2500000, nrows = nrows):\n"
     ]
    },
    {
     "name": "stdout",
     "output_type": "stream",
     "text": [
      "550795 : len chunk PT\n",
      "424868 : after filtering zero-length PT\n",
      "293092 : len chunk PEV\n",
      "293092 : after filtering drivers\n",
      "276982 : len chunk PLV\n",
      "276982 : after filtering drivers\n"
     ]
    },
    {
     "name": "stderr",
     "output_type": "stream",
     "text": [
      "/tmp/ipykernel_3853420/730053802.py:11: DtypeWarning: Columns (12,16,32,38,41,43,46,47,48,49,50) have mixed types. Specify dtype option on import or set low_memory=False.\n",
      "  for chunk in pd.read_csv(directory, chunksize=2500000, nrows = nrows):\n"
     ]
    },
    {
     "name": "stdout",
     "output_type": "stream",
     "text": [
      "554421 : len chunk PT\n",
      "425661 : after filtering zero-length PT\n",
      "286504 : len chunk PEV\n",
      "286504 : after filtering drivers\n",
      "285522 : len chunk PLV\n",
      "285522 : after filtering drivers\n"
     ]
    },
    {
     "name": "stderr",
     "output_type": "stream",
     "text": [
      "/tmp/ipykernel_3853420/730053802.py:11: DtypeWarning: Columns (12,16,32,38,41,43,46,47,48,49,50) have mixed types. Specify dtype option on import or set low_memory=False.\n",
      "  for chunk in pd.read_csv(directory, chunksize=2500000, nrows = nrows):\n"
     ]
    },
    {
     "name": "stdout",
     "output_type": "stream",
     "text": [
      "570239 : len chunk PT\n",
      "440513 : after filtering zero-length PT\n",
      "301214 : len chunk PEV\n",
      "301214 : after filtering drivers\n",
      "286294 : len chunk PLV\n",
      "286294 : after filtering drivers\n"
     ]
    },
    {
     "name": "stderr",
     "output_type": "stream",
     "text": [
      "/tmp/ipykernel_3853420/730053802.py:11: DtypeWarning: Columns (12,16,32,38,41,43,46,47,48,49,50) have mixed types. Specify dtype option on import or set low_memory=False.\n",
      "  for chunk in pd.read_csv(directory, chunksize=2500000, nrows = nrows):\n"
     ]
    },
    {
     "name": "stdout",
     "output_type": "stream",
     "text": [
      "569500 : len chunk PT\n",
      "439222 : after filtering zero-length PT\n",
      "294184 : len chunk PEV\n",
      "294184 : after filtering drivers\n",
      "291204 : len chunk PLV\n",
      "291204 : after filtering drivers\n"
     ]
    },
    {
     "name": "stderr",
     "output_type": "stream",
     "text": [
      "/tmp/ipykernel_3853420/730053802.py:11: DtypeWarning: Columns (12,16,32,38,41,43,46,47,48,49,50) have mixed types. Specify dtype option on import or set low_memory=False.\n",
      "  for chunk in pd.read_csv(directory, chunksize=2500000, nrows = nrows):\n"
     ]
    },
    {
     "name": "stdout",
     "output_type": "stream",
     "text": [
      "581620 : len chunk PT\n",
      "448279 : after filtering zero-length PT\n",
      "292223 : len chunk PEV\n",
      "292223 : after filtering drivers\n",
      "298467 : len chunk PLV\n",
      "298467 : after filtering drivers\n"
     ]
    },
    {
     "name": "stderr",
     "output_type": "stream",
     "text": [
      "/tmp/ipykernel_3853420/730053802.py:11: DtypeWarning: Columns (12,16,32,38,41,43,46,47,48,49,50) have mixed types. Specify dtype option on import or set low_memory=False.\n",
      "  for chunk in pd.read_csv(directory, chunksize=2500000, nrows = nrows):\n"
     ]
    },
    {
     "name": "stdout",
     "output_type": "stream",
     "text": [
      "551041 : len chunk PT\n",
      "425153 : after filtering zero-length PT\n",
      "322087 : len chunk PEV\n",
      "322087 : after filtering drivers\n",
      "269984 : len chunk PLV\n",
      "269984 : after filtering drivers\n"
     ]
    },
    {
     "name": "stderr",
     "output_type": "stream",
     "text": [
      "/tmp/ipykernel_3853420/730053802.py:11: DtypeWarning: Columns (12,16,32,38,41,43,46,47,48,49,50) have mixed types. Specify dtype option on import or set low_memory=False.\n",
      "  for chunk in pd.read_csv(directory, chunksize=2500000, nrows = nrows):\n"
     ]
    },
    {
     "name": "stdout",
     "output_type": "stream",
     "text": [
      "572446 : len chunk PT\n",
      "444833 : after filtering zero-length PT\n",
      "300433 : len chunk PEV\n",
      "300433 : after filtering drivers\n",
      "290036 : len chunk PLV\n",
      "290036 : after filtering drivers\n"
     ]
    },
    {
     "name": "stderr",
     "output_type": "stream",
     "text": [
      "/tmp/ipykernel_3853420/730053802.py:11: DtypeWarning: Columns (12,16,32,38,41,43,46,47,48,49,50) have mixed types. Specify dtype option on import or set low_memory=False.\n",
      "  for chunk in pd.read_csv(directory, chunksize=2500000, nrows = nrows):\n"
     ]
    },
    {
     "name": "stdout",
     "output_type": "stream",
     "text": [
      "569918 : len chunk PT\n",
      "437860 : after filtering zero-length PT\n",
      "301722 : len chunk PEV\n",
      "301722 : after filtering drivers\n",
      "293038 : len chunk PLV\n",
      "293038 : after filtering drivers\n"
     ]
    },
    {
     "name": "stderr",
     "output_type": "stream",
     "text": [
      "/tmp/ipykernel_3853420/730053802.py:11: DtypeWarning: Columns (12,16,32,38,41,43,46,47,48,49,50) have mixed types. Specify dtype option on import or set low_memory=False.\n",
      "  for chunk in pd.read_csv(directory, chunksize=2500000, nrows = nrows):\n"
     ]
    },
    {
     "name": "stdout",
     "output_type": "stream",
     "text": [
      "572427 : len chunk PT\n",
      "441123 : after filtering zero-length PT\n",
      "303308 : len chunk PEV\n",
      "303308 : after filtering drivers\n",
      "291595 : len chunk PLV\n",
      "291595 : after filtering drivers\n"
     ]
    },
    {
     "name": "stderr",
     "output_type": "stream",
     "text": [
      "/tmp/ipykernel_3853420/730053802.py:11: DtypeWarning: Columns (12,16,32,38,41,43,46,47,48,49,50) have mixed types. Specify dtype option on import or set low_memory=False.\n",
      "  for chunk in pd.read_csv(directory, chunksize=2500000, nrows = nrows):\n"
     ]
    },
    {
     "name": "stdout",
     "output_type": "stream",
     "text": [
      "580254 : len chunk PT\n",
      "447963 : after filtering zero-length PT\n",
      "299847 : len chunk PEV\n",
      "299847 : after filtering drivers\n",
      "298813 : len chunk PLV\n",
      "298813 : after filtering drivers\n"
     ]
    },
    {
     "name": "stderr",
     "output_type": "stream",
     "text": [
      "/tmp/ipykernel_3853420/730053802.py:11: DtypeWarning: Columns (12,16,32,38,41,43,46,47,48,49,50) have mixed types. Specify dtype option on import or set low_memory=False.\n",
      "  for chunk in pd.read_csv(directory, chunksize=2500000, nrows = nrows):\n"
     ]
    },
    {
     "name": "stdout",
     "output_type": "stream",
     "text": [
      "577216 : len chunk PT\n",
      "446708 : after filtering zero-length PT\n",
      "295485 : len chunk PEV\n",
      "295485 : after filtering drivers\n",
      "299569 : len chunk PLV\n",
      "299569 : after filtering drivers\n"
     ]
    },
    {
     "name": "stderr",
     "output_type": "stream",
     "text": [
      "/tmp/ipykernel_3853420/730053802.py:11: DtypeWarning: Columns (12,16,32,38,41,43,46,47,48,49,50) have mixed types. Specify dtype option on import or set low_memory=False.\n",
      "  for chunk in pd.read_csv(directory, chunksize=2500000, nrows = nrows):\n"
     ]
    },
    {
     "name": "stdout",
     "output_type": "stream",
     "text": [
      "596891 : len chunk PT\n",
      "458500 : after filtering zero-length PT\n",
      "277131 : len chunk PEV\n",
      "277131 : after filtering drivers\n",
      "319856 : len chunk PLV\n",
      "319856 : after filtering drivers\n"
     ]
    },
    {
     "name": "stderr",
     "output_type": "stream",
     "text": [
      "/tmp/ipykernel_3853420/730053802.py:11: DtypeWarning: Columns (12,16,32,38,41,43,46,47,48,49,50) have mixed types. Specify dtype option on import or set low_memory=False.\n",
      "  for chunk in pd.read_csv(directory, chunksize=2500000, nrows = nrows):\n"
     ]
    },
    {
     "name": "stdout",
     "output_type": "stream",
     "text": [
      "604382 : len chunk PT\n",
      "468593 : after filtering zero-length PT\n",
      "273661 : len chunk PEV\n",
      "273661 : after filtering drivers\n",
      "328930 : len chunk PLV\n",
      "328930 : after filtering drivers\n"
     ]
    },
    {
     "name": "stderr",
     "output_type": "stream",
     "text": [
      "/tmp/ipykernel_3853420/730053802.py:11: DtypeWarning: Columns (12,16,32,38,41,43,46,47,48,49,50) have mixed types. Specify dtype option on import or set low_memory=False.\n",
      "  for chunk in pd.read_csv(directory, chunksize=2500000, nrows = nrows):\n"
     ]
    },
    {
     "name": "stdout",
     "output_type": "stream",
     "text": [
      "597554 : len chunk PT\n",
      "463228 : after filtering zero-length PT\n",
      "284045 : len chunk PEV\n",
      "284045 : after filtering drivers\n",
      "314403 : len chunk PLV\n",
      "314403 : after filtering drivers\n"
     ]
    },
    {
     "name": "stderr",
     "output_type": "stream",
     "text": [
      "/tmp/ipykernel_3853420/730053802.py:11: DtypeWarning: Columns (12,16,32,38,41,43,46,47,48,49,50) have mixed types. Specify dtype option on import or set low_memory=False.\n",
      "  for chunk in pd.read_csv(directory, chunksize=2500000, nrows = nrows):\n"
     ]
    },
    {
     "name": "stdout",
     "output_type": "stream",
     "text": [
      "590034 : len chunk PT\n",
      "455572 : after filtering zero-length PT\n",
      "285641 : len chunk PEV\n",
      "285641 : after filtering drivers\n",
      "307967 : len chunk PLV\n",
      "307967 : after filtering drivers\n"
     ]
    },
    {
     "name": "stderr",
     "output_type": "stream",
     "text": [
      "/tmp/ipykernel_3853420/730053802.py:11: DtypeWarning: Columns (12,16,32,38,41,43,46,47,48,49,50) have mixed types. Specify dtype option on import or set low_memory=False.\n",
      "  for chunk in pd.read_csv(directory, chunksize=2500000, nrows = nrows):\n"
     ]
    },
    {
     "name": "stdout",
     "output_type": "stream",
     "text": [
      "579364 : len chunk PT\n",
      "448522 : after filtering zero-length PT\n",
      "291964 : len chunk PEV\n",
      "291964 : after filtering drivers\n",
      "297646 : len chunk PLV\n",
      "297646 : after filtering drivers\n"
     ]
    },
    {
     "name": "stderr",
     "output_type": "stream",
     "text": [
      "/tmp/ipykernel_3853420/730053802.py:11: DtypeWarning: Columns (12,38,41,43,46,47,48,49,50) have mixed types. Specify dtype option on import or set low_memory=False.\n",
      "  for chunk in pd.read_csv(directory, chunksize=2500000, nrows = nrows):\n"
     ]
    },
    {
     "name": "stdout",
     "output_type": "stream",
     "text": [
      "594043 : len chunk PT\n",
      "454328 : after filtering zero-length PT\n",
      "274248 : len chunk PEV\n",
      "274248 : after filtering drivers\n",
      "316087 : len chunk PLV\n",
      "316087 : after filtering drivers\n"
     ]
    },
    {
     "name": "stderr",
     "output_type": "stream",
     "text": [
      "/tmp/ipykernel_3853420/730053802.py:11: DtypeWarning: Columns (12,32,38) have mixed types. Specify dtype option on import or set low_memory=False.\n",
      "  for chunk in pd.read_csv(directory, chunksize=2500000, nrows = nrows):\n"
     ]
    },
    {
     "name": "stdout",
     "output_type": "stream",
     "text": [
      "615119 : len chunk PT\n",
      "477688 : after filtering zero-length PT\n",
      "271513 : len chunk PEV\n",
      "271513 : after filtering drivers\n",
      "324265 : len chunk PLV\n",
      "324265 : after filtering drivers\n"
     ]
    },
    {
     "name": "stderr",
     "output_type": "stream",
     "text": [
      "/tmp/ipykernel_3853420/730053802.py:11: DtypeWarning: Columns (16,38,50) have mixed types. Specify dtype option on import or set low_memory=False.\n",
      "  for chunk in pd.read_csv(directory, chunksize=2500000, nrows = nrows):\n"
     ]
    },
    {
     "name": "stdout",
     "output_type": "stream",
     "text": [
      "208930 : len chunk PT\n",
      "165396 : after filtering zero-length PT\n",
      "58472 : len chunk PEV\n",
      "58472 : after filtering drivers\n",
      "114573 : len chunk PLV\n",
      "114573 : after filtering drivers\n",
      "12152641 :len PEVs\n",
      "12152575 :len PLVs\n",
      "17679157 :len PTs\n",
      "7547054 :len MCs\n",
      "149717 :len RPs\n",
      "7455104 :len ASs\n"
     ]
    },
    {
     "name": "stderr",
     "output_type": "stream",
     "text": [
      "/tmp/ipykernel_3853420/3791711208.py:17: UserWarning: evaluating in Python space because the '*' operator is not supported by numexpr for the bool dtype, use '&' instead.\n",
      "  PTs['is_RHempty'] = PTs['isRH']*PTs['is_empty']\n",
      "/tmp/ipykernel_3853420/3791711208.py:48: UserWarning: evaluating in Python space because the '*' operator is not supported by numexpr for the bool dtype, use '&' instead.\n",
      "  PTs['is_'+tm+'_empty'] = PTs['is'+tm]*PTs['is_empty']\n",
      "/tmp/ipykernel_3853420/3791711208.py:48: UserWarning: evaluating in Python space because the '*' operator is not supported by numexpr for the bool dtype, use '&' instead.\n",
      "  PTs['is_'+tm+'_empty'] = PTs['is'+tm]*PTs['is_empty']\n",
      "/tmp/ipykernel_3853420/3791711208.py:48: UserWarning: evaluating in Python space because the '*' operator is not supported by numexpr for the bool dtype, use '&' instead.\n",
      "  PTs['is_'+tm+'_empty'] = PTs['is'+tm]*PTs['is_empty']\n",
      "/tmp/ipykernel_3853420/3791711208.py:48: UserWarning: evaluating in Python space because the '*' operator is not supported by numexpr for the bool dtype, use '&' instead.\n",
      "  PTs['is_'+tm+'_empty'] = PTs['is'+tm]*PTs['is_empty']\n",
      "/tmp/ipykernel_3853420/3791711208.py:48: UserWarning: evaluating in Python space because the '*' operator is not supported by numexpr for the bool dtype, use '&' instead.\n",
      "  PTs['is_'+tm+'_empty'] = PTs['is'+tm]*PTs['is_empty']\n",
      "/tmp/ipykernel_3853420/3791711208.py:48: UserWarning: evaluating in Python space because the '*' operator is not supported by numexpr for the bool dtype, use '&' instead.\n",
      "  PTs['is_'+tm+'_empty'] = PTs['is'+tm]*PTs['is_empty']\n"
     ]
    },
    {
     "name": "stdout",
     "output_type": "stream",
     "text": [
      "processPlans...\n",
      "gs://beam-core-outputs/sfbay-tr-CAElectrification-30pct-20230828/beam/year-2018-iteration-10/ITERS/it.0/0.plans.csv.gz\n",
      "addTimesToPlans...\n",
      "Total time: 4.650278091430664\n",
      "Total time: 733.2672276496887\n",
      "personToPathTraversal...\n",
      "expected PtoPTs from occupancy  car 7330754\n",
      "expected PtoPTs from occupancy  walk 6209506\n",
      "expected PtoPTs from occupancy  car_hov2 1052787.0\n",
      "expected PtoPTs from occupancy  bus 4250187\n",
      "expected PtoPTs from occupancy  car_hov3 756081.0\n",
      "expected PtoPTs from occupancy  bus_empty 0\n",
      "expected PtoPTs from occupancy  car_emer 414761\n",
      "expected PtoPTs from occupancy  car_hov2_emer 128756\n",
      "expected PtoPTs from occupancy  car_RideHail_empty 0\n",
      "expected PtoPTs from occupancy  car_RideHail 110168\n",
      "expected PtoPTs from occupancy  bike 105901\n",
      "expected PtoPTs from occupancy  car_hov3_emer 88949\n",
      "expected PtoPTs from occupancy  tram 368064\n",
      "expected PtoPTs from occupancy  cable_car 42529\n",
      "expected PtoPTs from occupancy  subway 619326\n",
      "expected PtoPTs from occupancy  tram_empty 0\n",
      "expected PtoPTs from occupancy  cable_car_empty 0\n",
      "expected PtoPTs from occupancy  rail 25082\n",
      "expected PtoPTs from occupancy  subway_empty 0\n",
      "expected PtoPTs from occupancy  rail_empty 0\n",
      "expected PtoPTs from occupancy  ferry_empty 0\n",
      "expected PtoPTs from occupancy  ferry 27\n",
      "expected PtoPTs from occupancy TOT =  21502878.0\n",
      "len of PEV =  12152641\n",
      "len of PLV =  12152575\n",
      "len PtoPTs after matching agents and vehicles bike 105907\n",
      "len PtoPTs after matching agents and vehicles bus 4250405\n",
      "len PtoPTs after matching agents and vehicles bus_empty 27\n",
      "len PtoPTs after matching agents and vehicles cable_car 42529\n",
      "len PtoPTs after matching agents and vehicles car 7330816\n",
      "len PtoPTs after matching agents and vehicles car_RideHail 110689\n",
      "len PtoPTs after matching agents and vehicles car_RideHail_empty 789\n",
      "len PtoPTs after matching agents and vehicles car_emer 414689\n",
      "len PtoPTs after matching agents and vehicles car_hov2 1052882\n",
      "len PtoPTs after matching agents and vehicles car_hov2_emer 128767\n",
      "len PtoPTs after matching agents and vehicles car_hov3 756140\n",
      "len PtoPTs after matching agents and vehicles car_hov3_emer 88953\n",
      "len PtoPTs after matching agents and vehicles ferry 27\n",
      "len PtoPTs after matching agents and vehicles rail 25082\n",
      "len PtoPTs after matching agents and vehicles subway 619326\n",
      "len PtoPTs after matching agents and vehicles tram 368064\n",
      "len PtoPTs after matching agents and vehicles walk 6209902\n",
      "no legs found: 116806\n",
      "no legs found after time check: 1141926\n",
      "no vehicle body found, probably because with zero duration (discarded by PT): 116806\n",
      "no vehicle body found after time check, probably because with zero duration (discarded by PT): 1141926\n",
      "Tot created PtoPTs =  21504994\n",
      "Total time: 2436.30814576149\n",
      "Number Trips... TR-EL\n",
      "Share Trips... TR-EL\n",
      "Lengths Vehicles... TR-EL\n",
      "Lengths Persons... TR-EL\n",
      "Lengths Modes... TR-EL\n",
      "Durations Vehicle... TR-EL\n",
      "Durations Person... TR-EL\n",
      "Speeds Vehicle... TR-EL\n",
      "1.1660    11349548\n",
      "1.0000     6209506\n",
      "1.3958      100190\n",
      "1.1252       19913\n",
      "Name: routee correction, dtype: int64\n",
      "Energy Usage Vehicle... TR-EL\n",
      "Trip Gallons Vehicle... TR-EL\n",
      "Occupancy Vehicle... TR-EL\n",
      "Ridership Transit... TR-EL\n",
      "Ride hail... TR-EL\n",
      "done\n",
      "Total Time 6107.93466091156\n",
      "                              Baseline            TR  TR-BART  TR-BSVI  \\\n",
      "Vehicle Passengers stops Cal       NaN  2.147100e+04      NaN      NaN   \n",
      "Vehicle Passengers km Cal          NaN  1.056607e+05      NaN      NaN   \n",
      "Vehicle Capacity km Cal            NaN  8.416326e+06      NaN      NaN   \n",
      "Vehicle Load Factor Cal            NaN  1.255425e-02      NaN      NaN   \n",
      "Ridership Cal                      NaN  6.384000e+03      NaN      NaN   \n",
      "Ridership Cal Share                NaN  8.875900e-03      NaN      NaN   \n",
      "\n",
      "                              TR-BSVII  TR-CORE  TR-1T         TR-EL  \n",
      "Vehicle Passengers stops Cal       NaN      NaN    NaN  2.322700e+04  \n",
      "Vehicle Passengers km Cal          NaN      NaN    NaN  1.149501e+05  \n",
      "Vehicle Capacity km Cal            NaN      NaN    NaN  8.416326e+06  \n",
      "Vehicle Load Factor Cal            NaN      NaN    NaN  1.365799e-02  \n",
      "Ridership Cal                      NaN      NaN    NaN  6.550000e+03  \n",
      "Ridership Cal Share                NaN      NaN    NaN  9.198560e-03   Number of attributes 4932\n",
      "writing results on gs://beam-core-outputs/sfbay-tr-CAElectrification-30pct-20230828/postprocessOutputs/year-2018-iteration-10\n",
      "File uploaded successfully.\n",
      "Reading  gs://beam-core-outputs/sfbay-tr-SF_CS-30pct-20231014/beam/year-2018-iteration-10/ITERS/it.0/0.events.csv.gz\n"
     ]
    },
    {
     "name": "stderr",
     "output_type": "stream",
     "text": [
      "/tmp/ipykernel_3853420/730053802.py:11: DtypeWarning: Columns (0,3,6,7,8,9,14,22,23,24,25,27,29,32,33,34,35,42,43,56,58,59,60) have mixed types. Specify dtype option on import or set low_memory=False.\n",
      "  for chunk in pd.read_csv(directory, chunksize=2500000, nrows = nrows):\n"
     ]
    },
    {
     "name": "stdout",
     "output_type": "stream",
     "text": [
      "9836 : len chunk PT\n",
      "7706 : after filtering zero-length PT\n",
      "54469 : len chunk PEV\n",
      "4799 : after filtering drivers\n",
      "102 : len chunk PLV\n",
      "102 : after filtering drivers\n"
     ]
    },
    {
     "name": "stderr",
     "output_type": "stream",
     "text": [
      "/tmp/ipykernel_3853420/730053802.py:11: DtypeWarning: Columns (6,13,27,29,32,33,34,35,42,43,48) have mixed types. Specify dtype option on import or set low_memory=False.\n",
      "  for chunk in pd.read_csv(directory, chunksize=2500000, nrows = nrows):\n"
     ]
    },
    {
     "name": "stdout",
     "output_type": "stream",
     "text": [
      "574580 : len chunk PT\n",
      "349516 : after filtering zero-length PT\n",
      "338818 : len chunk PEV\n",
      "338818 : after filtering drivers\n",
      "255677 : len chunk PLV\n",
      "255677 : after filtering drivers\n"
     ]
    },
    {
     "name": "stderr",
     "output_type": "stream",
     "text": [
      "/tmp/ipykernel_3853420/730053802.py:11: DtypeWarning: Columns (6,13,27,29,32,33,34,35,42,43,48) have mixed types. Specify dtype option on import or set low_memory=False.\n",
      "  for chunk in pd.read_csv(directory, chunksize=2500000, nrows = nrows):\n"
     ]
    },
    {
     "name": "stdout",
     "output_type": "stream",
     "text": [
      "583979 : len chunk PT\n",
      "376303 : after filtering zero-length PT\n",
      "318883 : len chunk PEV\n",
      "318883 : after filtering drivers\n",
      "275349 : len chunk PLV\n",
      "275349 : after filtering drivers\n"
     ]
    },
    {
     "name": "stderr",
     "output_type": "stream",
     "text": [
      "/tmp/ipykernel_3853420/730053802.py:11: DtypeWarning: Columns (6,13,27,29,32,33,34,35,42,43,48) have mixed types. Specify dtype option on import or set low_memory=False.\n",
      "  for chunk in pd.read_csv(directory, chunksize=2500000, nrows = nrows):\n"
     ]
    },
    {
     "name": "stdout",
     "output_type": "stream",
     "text": [
      "549595 : len chunk PT\n",
      "345254 : after filtering zero-length PT\n",
      "315042 : len chunk PEV\n",
      "315042 : after filtering drivers\n",
      "260867 : len chunk PLV\n",
      "260867 : after filtering drivers\n"
     ]
    },
    {
     "name": "stderr",
     "output_type": "stream",
     "text": [
      "/tmp/ipykernel_3853420/730053802.py:11: DtypeWarning: Columns (6,13,27,29,32,33,34,35,42,43,48) have mixed types. Specify dtype option on import or set low_memory=False.\n",
      "  for chunk in pd.read_csv(directory, chunksize=2500000, nrows = nrows):\n"
     ]
    },
    {
     "name": "stdout",
     "output_type": "stream",
     "text": [
      "556932 : len chunk PT\n",
      "361886 : after filtering zero-length PT\n",
      "303416 : len chunk PEV\n",
      "303416 : after filtering drivers\n",
      "278613 : len chunk PLV\n",
      "278613 : after filtering drivers\n"
     ]
    },
    {
     "name": "stderr",
     "output_type": "stream",
     "text": [
      "/tmp/ipykernel_3853420/730053802.py:11: DtypeWarning: Columns (6,13,27,29,32,33,34,35,42,43,48) have mixed types. Specify dtype option on import or set low_memory=False.\n",
      "  for chunk in pd.read_csv(directory, chunksize=2500000, nrows = nrows):\n"
     ]
    },
    {
     "name": "stdout",
     "output_type": "stream",
     "text": [
      "557243 : len chunk PT\n",
      "365911 : after filtering zero-length PT\n",
      "304706 : len chunk PEV\n",
      "304706 : after filtering drivers\n",
      "281836 : len chunk PLV\n",
      "281836 : after filtering drivers\n"
     ]
    },
    {
     "name": "stderr",
     "output_type": "stream",
     "text": [
      "/tmp/ipykernel_3853420/730053802.py:11: DtypeWarning: Columns (6,13,27,29,32,33,34,35,42,48) have mixed types. Specify dtype option on import or set low_memory=False.\n",
      "  for chunk in pd.read_csv(directory, chunksize=2500000, nrows = nrows):\n"
     ]
    },
    {
     "name": "stdout",
     "output_type": "stream",
     "text": [
      "542542 : len chunk PT\n",
      "356822 : after filtering zero-length PT\n",
      "302674 : len chunk PEV\n",
      "302674 : after filtering drivers\n",
      "276003 : len chunk PLV\n",
      "276003 : after filtering drivers\n"
     ]
    },
    {
     "name": "stderr",
     "output_type": "stream",
     "text": [
      "/tmp/ipykernel_3853420/730053802.py:11: DtypeWarning: Columns (6,13,27,29,32,33,34,35,42,43,48) have mixed types. Specify dtype option on import or set low_memory=False.\n",
      "  for chunk in pd.read_csv(directory, chunksize=2500000, nrows = nrows):\n"
     ]
    },
    {
     "name": "stdout",
     "output_type": "stream",
     "text": [
      "559616 : len chunk PT\n",
      "386532 : after filtering zero-length PT\n",
      "287257 : len chunk PEV\n",
      "287257 : after filtering drivers\n",
      "291857 : len chunk PLV\n",
      "291857 : after filtering drivers\n"
     ]
    },
    {
     "name": "stderr",
     "output_type": "stream",
     "text": [
      "/tmp/ipykernel_3853420/730053802.py:11: DtypeWarning: Columns (6,13,27,29,32,33,34,35,42,43,48) have mixed types. Specify dtype option on import or set low_memory=False.\n",
      "  for chunk in pd.read_csv(directory, chunksize=2500000, nrows = nrows):\n"
     ]
    },
    {
     "name": "stdout",
     "output_type": "stream",
     "text": [
      "544022 : len chunk PT\n",
      "375102 : after filtering zero-length PT\n",
      "298214 : len chunk PEV\n",
      "298214 : after filtering drivers\n",
      "281830 : len chunk PLV\n",
      "281830 : after filtering drivers\n"
     ]
    },
    {
     "name": "stderr",
     "output_type": "stream",
     "text": [
      "/tmp/ipykernel_3853420/730053802.py:11: DtypeWarning: Columns (6,13,27,29,32,33,34,35,42,43,48) have mixed types. Specify dtype option on import or set low_memory=False.\n",
      "  for chunk in pd.read_csv(directory, chunksize=2500000, nrows = nrows):\n"
     ]
    },
    {
     "name": "stdout",
     "output_type": "stream",
     "text": [
      "595596 : len chunk PT\n",
      "428728 : after filtering zero-length PT\n",
      "265521 : len chunk PEV\n",
      "265521 : after filtering drivers\n",
      "330628 : len chunk PLV\n",
      "330628 : after filtering drivers\n"
     ]
    },
    {
     "name": "stderr",
     "output_type": "stream",
     "text": [
      "/tmp/ipykernel_3853420/730053802.py:11: DtypeWarning: Columns (6,13,27,29,32,33,34,35,42,43,48) have mixed types. Specify dtype option on import or set low_memory=False.\n",
      "  for chunk in pd.read_csv(directory, chunksize=2500000, nrows = nrows):\n"
     ]
    },
    {
     "name": "stdout",
     "output_type": "stream",
     "text": [
      "598529 : len chunk PT\n",
      "437941 : after filtering zero-length PT\n",
      "276685 : len chunk PEV\n",
      "276685 : after filtering drivers\n",
      "322846 : len chunk PLV\n",
      "322846 : after filtering drivers\n"
     ]
    },
    {
     "name": "stderr",
     "output_type": "stream",
     "text": [
      "/tmp/ipykernel_3853420/730053802.py:11: DtypeWarning: Columns (6,13,27,29,32,33,34,35,42,43,48) have mixed types. Specify dtype option on import or set low_memory=False.\n",
      "  for chunk in pd.read_csv(directory, chunksize=2500000, nrows = nrows):\n"
     ]
    },
    {
     "name": "stdout",
     "output_type": "stream",
     "text": [
      "578682 : len chunk PT\n",
      "424618 : after filtering zero-length PT\n",
      "300904 : len chunk PEV\n",
      "300904 : after filtering drivers\n",
      "292133 : len chunk PLV\n",
      "292133 : after filtering drivers\n"
     ]
    },
    {
     "name": "stderr",
     "output_type": "stream",
     "text": [
      "/tmp/ipykernel_3853420/730053802.py:11: DtypeWarning: Columns (6,13,27,29,32,33,34,35,42,43,48) have mixed types. Specify dtype option on import or set low_memory=False.\n",
      "  for chunk in pd.read_csv(directory, chunksize=2500000, nrows = nrows):\n"
     ]
    },
    {
     "name": "stdout",
     "output_type": "stream",
     "text": [
      "585299 : len chunk PT\n",
      "436287 : after filtering zero-length PT\n",
      "295270 : len chunk PEV\n",
      "295270 : after filtering drivers\n",
      "295619 : len chunk PLV\n",
      "295619 : after filtering drivers\n"
     ]
    },
    {
     "name": "stderr",
     "output_type": "stream",
     "text": [
      "/tmp/ipykernel_3853420/730053802.py:11: DtypeWarning: Columns (6,13,27,29,32,33,34,35,42,43,48) have mixed types. Specify dtype option on import or set low_memory=False.\n",
      "  for chunk in pd.read_csv(directory, chunksize=2500000, nrows = nrows):\n"
     ]
    },
    {
     "name": "stdout",
     "output_type": "stream",
     "text": [
      "587670 : len chunk PT\n",
      "437801 : after filtering zero-length PT\n",
      "295711 : len chunk PEV\n",
      "295711 : after filtering drivers\n",
      "293465 : len chunk PLV\n",
      "293465 : after filtering drivers\n"
     ]
    },
    {
     "name": "stderr",
     "output_type": "stream",
     "text": [
      "/tmp/ipykernel_3853420/730053802.py:11: DtypeWarning: Columns (6,13,27,29,32,33,34,35,42,43,48) have mixed types. Specify dtype option on import or set low_memory=False.\n",
      "  for chunk in pd.read_csv(directory, chunksize=2500000, nrows = nrows):\n"
     ]
    },
    {
     "name": "stdout",
     "output_type": "stream",
     "text": [
      "593031 : len chunk PT\n",
      "443070 : after filtering zero-length PT\n",
      "287767 : len chunk PEV\n",
      "287767 : after filtering drivers\n",
      "300839 : len chunk PLV\n",
      "300839 : after filtering drivers\n"
     ]
    },
    {
     "name": "stderr",
     "output_type": "stream",
     "text": [
      "/tmp/ipykernel_3853420/730053802.py:11: DtypeWarning: Columns (6,13,27,29,32,33,34,35,42,43,48) have mixed types. Specify dtype option on import or set low_memory=False.\n",
      "  for chunk in pd.read_csv(directory, chunksize=2500000, nrows = nrows):\n"
     ]
    },
    {
     "name": "stdout",
     "output_type": "stream",
     "text": [
      "576800 : len chunk PT\n",
      "433755 : after filtering zero-length PT\n",
      "299595 : len chunk PEV\n",
      "299595 : after filtering drivers\n",
      "286383 : len chunk PLV\n",
      "286383 : after filtering drivers\n"
     ]
    },
    {
     "name": "stderr",
     "output_type": "stream",
     "text": [
      "/tmp/ipykernel_3853420/730053802.py:11: DtypeWarning: Columns (6,13,27,29,32,33,34,35,42,43,48) have mixed types. Specify dtype option on import or set low_memory=False.\n",
      "  for chunk in pd.read_csv(directory, chunksize=2500000, nrows = nrows):\n"
     ]
    },
    {
     "name": "stdout",
     "output_type": "stream",
     "text": [
      "581502 : len chunk PT\n",
      "434260 : after filtering zero-length PT\n",
      "296616 : len chunk PEV\n",
      "296616 : after filtering drivers\n",
      "292331 : len chunk PLV\n",
      "292331 : after filtering drivers\n"
     ]
    },
    {
     "name": "stderr",
     "output_type": "stream",
     "text": [
      "/tmp/ipykernel_3853420/730053802.py:11: DtypeWarning: Columns (6,13,27,29,32,33,34,35,42,43,48) have mixed types. Specify dtype option on import or set low_memory=False.\n",
      "  for chunk in pd.read_csv(directory, chunksize=2500000, nrows = nrows):\n"
     ]
    },
    {
     "name": "stdout",
     "output_type": "stream",
     "text": [
      "584327 : len chunk PT\n",
      "443927 : after filtering zero-length PT\n",
      "294305 : len chunk PEV\n",
      "294305 : after filtering drivers\n",
      "292533 : len chunk PLV\n",
      "292533 : after filtering drivers\n"
     ]
    },
    {
     "name": "stderr",
     "output_type": "stream",
     "text": [
      "/tmp/ipykernel_3853420/730053802.py:11: DtypeWarning: Columns (6,13,27,29,32,33,34,35,42,43,48) have mixed types. Specify dtype option on import or set low_memory=False.\n",
      "  for chunk in pd.read_csv(directory, chunksize=2500000, nrows = nrows):\n"
     ]
    },
    {
     "name": "stdout",
     "output_type": "stream",
     "text": [
      "567356 : len chunk PT\n",
      "426998 : after filtering zero-length PT\n",
      "301871 : len chunk PEV\n",
      "301871 : after filtering drivers\n",
      "284000 : len chunk PLV\n",
      "284000 : after filtering drivers\n"
     ]
    },
    {
     "name": "stderr",
     "output_type": "stream",
     "text": [
      "/tmp/ipykernel_3853420/730053802.py:11: DtypeWarning: Columns (6,13,27,29,32,33,34,35,42,43,48) have mixed types. Specify dtype option on import or set low_memory=False.\n",
      "  for chunk in pd.read_csv(directory, chunksize=2500000, nrows = nrows):\n"
     ]
    },
    {
     "name": "stdout",
     "output_type": "stream",
     "text": [
      "580309 : len chunk PT\n",
      "441547 : after filtering zero-length PT\n",
      "292045 : len chunk PEV\n",
      "292045 : after filtering drivers\n",
      "294921 : len chunk PLV\n",
      "294921 : after filtering drivers\n"
     ]
    },
    {
     "name": "stderr",
     "output_type": "stream",
     "text": [
      "/tmp/ipykernel_3853420/730053802.py:11: DtypeWarning: Columns (6,13,27,29,32,33,34,35,42,43,48) have mixed types. Specify dtype option on import or set low_memory=False.\n",
      "  for chunk in pd.read_csv(directory, chunksize=2500000, nrows = nrows):\n"
     ]
    },
    {
     "name": "stdout",
     "output_type": "stream",
     "text": [
      "582808 : len chunk PT\n",
      "442785 : after filtering zero-length PT\n",
      "292856 : len chunk PEV\n",
      "292856 : after filtering drivers\n",
      "295406 : len chunk PLV\n",
      "295406 : after filtering drivers\n"
     ]
    },
    {
     "name": "stderr",
     "output_type": "stream",
     "text": [
      "/tmp/ipykernel_3853420/730053802.py:11: DtypeWarning: Columns (6,13,27,29,32,33,34,35,42,43,48) have mixed types. Specify dtype option on import or set low_memory=False.\n",
      "  for chunk in pd.read_csv(directory, chunksize=2500000, nrows = nrows):\n"
     ]
    },
    {
     "name": "stdout",
     "output_type": "stream",
     "text": [
      "565512 : len chunk PT\n",
      "429363 : after filtering zero-length PT\n",
      "292870 : len chunk PEV\n",
      "292870 : after filtering drivers\n",
      "288666 : len chunk PLV\n",
      "288666 : after filtering drivers\n"
     ]
    },
    {
     "name": "stderr",
     "output_type": "stream",
     "text": [
      "/tmp/ipykernel_3853420/730053802.py:11: DtypeWarning: Columns (6,13,27,29,32,33,34,35,42,43,48) have mixed types. Specify dtype option on import or set low_memory=False.\n",
      "  for chunk in pd.read_csv(directory, chunksize=2500000, nrows = nrows):\n"
     ]
    },
    {
     "name": "stdout",
     "output_type": "stream",
     "text": [
      "581805 : len chunk PT\n",
      "452150 : after filtering zero-length PT\n",
      "285531 : len chunk PEV\n",
      "285531 : after filtering drivers\n",
      "292985 : len chunk PLV\n",
      "292985 : after filtering drivers\n"
     ]
    },
    {
     "name": "stderr",
     "output_type": "stream",
     "text": [
      "/tmp/ipykernel_3853420/730053802.py:11: DtypeWarning: Columns (6,13,27,29,32,33,34,35,42,43,48) have mixed types. Specify dtype option on import or set low_memory=False.\n",
      "  for chunk in pd.read_csv(directory, chunksize=2500000, nrows = nrows):\n"
     ]
    },
    {
     "name": "stdout",
     "output_type": "stream",
     "text": [
      "554023 : len chunk PT\n",
      "420772 : after filtering zero-length PT\n",
      "296973 : len chunk PEV\n",
      "296973 : after filtering drivers\n",
      "279659 : len chunk PLV\n",
      "279659 : after filtering drivers\n"
     ]
    },
    {
     "name": "stderr",
     "output_type": "stream",
     "text": [
      "/tmp/ipykernel_3853420/730053802.py:11: DtypeWarning: Columns (6,13,27,29,32,33,34,35,42,43,48) have mixed types. Specify dtype option on import or set low_memory=False.\n",
      "  for chunk in pd.read_csv(directory, chunksize=2500000, nrows = nrows):\n"
     ]
    },
    {
     "name": "stdout",
     "output_type": "stream",
     "text": [
      "552760 : len chunk PT\n",
      "424472 : after filtering zero-length PT\n",
      "292752 : len chunk PEV\n",
      "292752 : after filtering drivers\n",
      "278313 : len chunk PLV\n",
      "278313 : after filtering drivers\n"
     ]
    },
    {
     "name": "stderr",
     "output_type": "stream",
     "text": [
      "/tmp/ipykernel_3853420/730053802.py:11: DtypeWarning: Columns (6,13,27,29,32,33,34,35,42,43,48) have mixed types. Specify dtype option on import or set low_memory=False.\n",
      "  for chunk in pd.read_csv(directory, chunksize=2500000, nrows = nrows):\n"
     ]
    },
    {
     "name": "stdout",
     "output_type": "stream",
     "text": [
      "566363 : len chunk PT\n",
      "434863 : after filtering zero-length PT\n",
      "279566 : len chunk PEV\n",
      "279566 : after filtering drivers\n",
      "295082 : len chunk PLV\n",
      "295082 : after filtering drivers\n"
     ]
    },
    {
     "name": "stderr",
     "output_type": "stream",
     "text": [
      "/tmp/ipykernel_3853420/730053802.py:11: DtypeWarning: Columns (6,13,27,29,32,33,34,35,42,43,48) have mixed types. Specify dtype option on import or set low_memory=False.\n",
      "  for chunk in pd.read_csv(directory, chunksize=2500000, nrows = nrows):\n"
     ]
    },
    {
     "name": "stdout",
     "output_type": "stream",
     "text": [
      "554486 : len chunk PT\n",
      "428551 : after filtering zero-length PT\n",
      "309702 : len chunk PEV\n",
      "309702 : after filtering drivers\n",
      "275023 : len chunk PLV\n",
      "275023 : after filtering drivers\n"
     ]
    },
    {
     "name": "stderr",
     "output_type": "stream",
     "text": [
      "/tmp/ipykernel_3853420/730053802.py:11: DtypeWarning: Columns (6,13,27,29,32,33,34,35,42,43,48) have mixed types. Specify dtype option on import or set low_memory=False.\n",
      "  for chunk in pd.read_csv(directory, chunksize=2500000, nrows = nrows):\n"
     ]
    },
    {
     "name": "stdout",
     "output_type": "stream",
     "text": [
      "572639 : len chunk PT\n",
      "440653 : after filtering zero-length PT\n",
      "292127 : len chunk PEV\n",
      "292127 : after filtering drivers\n",
      "295634 : len chunk PLV\n",
      "295634 : after filtering drivers\n"
     ]
    },
    {
     "name": "stderr",
     "output_type": "stream",
     "text": [
      "/tmp/ipykernel_3853420/730053802.py:11: DtypeWarning: Columns (6,13,27,29,32,33,34,35,42,43,48) have mixed types. Specify dtype option on import or set low_memory=False.\n",
      "  for chunk in pd.read_csv(directory, chunksize=2500000, nrows = nrows):\n"
     ]
    },
    {
     "name": "stdout",
     "output_type": "stream",
     "text": [
      "575888 : len chunk PT\n",
      "444334 : after filtering zero-length PT\n",
      "294871 : len chunk PEV\n",
      "294871 : after filtering drivers\n",
      "293628 : len chunk PLV\n",
      "293628 : after filtering drivers\n"
     ]
    },
    {
     "name": "stderr",
     "output_type": "stream",
     "text": [
      "/tmp/ipykernel_3853420/730053802.py:11: DtypeWarning: Columns (6,13,27,29,32,33,34,35,42,43,48) have mixed types. Specify dtype option on import or set low_memory=False.\n",
      "  for chunk in pd.read_csv(directory, chunksize=2500000, nrows = nrows):\n"
     ]
    },
    {
     "name": "stdout",
     "output_type": "stream",
     "text": [
      "563360 : len chunk PT\n",
      "435188 : after filtering zero-length PT\n",
      "314772 : len chunk PEV\n",
      "314772 : after filtering drivers\n",
      "278207 : len chunk PLV\n",
      "278207 : after filtering drivers\n"
     ]
    },
    {
     "name": "stderr",
     "output_type": "stream",
     "text": [
      "/tmp/ipykernel_3853420/730053802.py:11: DtypeWarning: Columns (6,13,27,29,32,33,34,35,42,43,48) have mixed types. Specify dtype option on import or set low_memory=False.\n",
      "  for chunk in pd.read_csv(directory, chunksize=2500000, nrows = nrows):\n"
     ]
    },
    {
     "name": "stdout",
     "output_type": "stream",
     "text": [
      "569735 : len chunk PT\n",
      "442643 : after filtering zero-length PT\n",
      "304625 : len chunk PEV\n",
      "304625 : after filtering drivers\n",
      "287587 : len chunk PLV\n",
      "287587 : after filtering drivers\n"
     ]
    },
    {
     "name": "stderr",
     "output_type": "stream",
     "text": [
      "/tmp/ipykernel_3853420/730053802.py:11: DtypeWarning: Columns (6,13,27,29,32,33,34,35,42,43,48) have mixed types. Specify dtype option on import or set low_memory=False.\n",
      "  for chunk in pd.read_csv(directory, chunksize=2500000, nrows = nrows):\n"
     ]
    },
    {
     "name": "stdout",
     "output_type": "stream",
     "text": [
      "566773 : len chunk PT\n",
      "436986 : after filtering zero-length PT\n",
      "301397 : len chunk PEV\n",
      "301397 : after filtering drivers\n",
      "290861 : len chunk PLV\n",
      "290861 : after filtering drivers\n"
     ]
    },
    {
     "name": "stderr",
     "output_type": "stream",
     "text": [
      "/tmp/ipykernel_3853420/730053802.py:11: DtypeWarning: Columns (6,13,27,29,32,33,34,35,42,43,48) have mixed types. Specify dtype option on import or set low_memory=False.\n",
      "  for chunk in pd.read_csv(directory, chunksize=2500000, nrows = nrows):\n"
     ]
    },
    {
     "name": "stdout",
     "output_type": "stream",
     "text": [
      "571149 : len chunk PT\n",
      "440796 : after filtering zero-length PT\n",
      "307433 : len chunk PEV\n",
      "307433 : after filtering drivers\n",
      "288626 : len chunk PLV\n",
      "288626 : after filtering drivers\n"
     ]
    },
    {
     "name": "stderr",
     "output_type": "stream",
     "text": [
      "/tmp/ipykernel_3853420/730053802.py:11: DtypeWarning: Columns (6,13,27,29,32,33,34,35,42,43,48) have mixed types. Specify dtype option on import or set low_memory=False.\n",
      "  for chunk in pd.read_csv(directory, chunksize=2500000, nrows = nrows):\n"
     ]
    },
    {
     "name": "stdout",
     "output_type": "stream",
     "text": [
      "575080 : len chunk PT\n",
      "443076 : after filtering zero-length PT\n",
      "295672 : len chunk PEV\n",
      "295672 : after filtering drivers\n",
      "298363 : len chunk PLV\n",
      "298363 : after filtering drivers\n"
     ]
    },
    {
     "name": "stderr",
     "output_type": "stream",
     "text": [
      "/tmp/ipykernel_3853420/730053802.py:11: DtypeWarning: Columns (6,13,27,29,32,33,34,35,42,43,48) have mixed types. Specify dtype option on import or set low_memory=False.\n",
      "  for chunk in pd.read_csv(directory, chunksize=2500000, nrows = nrows):\n"
     ]
    },
    {
     "name": "stdout",
     "output_type": "stream",
     "text": [
      "581480 : len chunk PT\n",
      "453201 : after filtering zero-length PT\n",
      "300770 : len chunk PEV\n",
      "300770 : after filtering drivers\n",
      "296361 : len chunk PLV\n",
      "296361 : after filtering drivers\n"
     ]
    },
    {
     "name": "stderr",
     "output_type": "stream",
     "text": [
      "/tmp/ipykernel_3853420/730053802.py:11: DtypeWarning: Columns (6,13,27,29,32,33,34,35,42,43,48) have mixed types. Specify dtype option on import or set low_memory=False.\n",
      "  for chunk in pd.read_csv(directory, chunksize=2500000, nrows = nrows):\n"
     ]
    },
    {
     "name": "stdout",
     "output_type": "stream",
     "text": [
      "598135 : len chunk PT\n",
      "457285 : after filtering zero-length PT\n",
      "271360 : len chunk PEV\n",
      "271360 : after filtering drivers\n",
      "324809 : len chunk PLV\n",
      "324809 : after filtering drivers\n"
     ]
    },
    {
     "name": "stderr",
     "output_type": "stream",
     "text": [
      "/tmp/ipykernel_3853420/730053802.py:11: DtypeWarning: Columns (6,13,27,29,32,33,34,35,42,43,48) have mixed types. Specify dtype option on import or set low_memory=False.\n",
      "  for chunk in pd.read_csv(directory, chunksize=2500000, nrows = nrows):\n"
     ]
    },
    {
     "name": "stdout",
     "output_type": "stream",
     "text": [
      "602659 : len chunk PT\n",
      "463684 : after filtering zero-length PT\n",
      "272985 : len chunk PEV\n",
      "272985 : after filtering drivers\n",
      "330621 : len chunk PLV\n",
      "330621 : after filtering drivers\n"
     ]
    },
    {
     "name": "stderr",
     "output_type": "stream",
     "text": [
      "/tmp/ipykernel_3853420/730053802.py:11: DtypeWarning: Columns (6,13,27,29,32,33,34,35,42,43,48) have mixed types. Specify dtype option on import or set low_memory=False.\n",
      "  for chunk in pd.read_csv(directory, chunksize=2500000, nrows = nrows):\n"
     ]
    },
    {
     "name": "stdout",
     "output_type": "stream",
     "text": [
      "598616 : len chunk PT\n",
      "463178 : after filtering zero-length PT\n",
      "282367 : len chunk PEV\n",
      "282367 : after filtering drivers\n",
      "316328 : len chunk PLV\n",
      "316328 : after filtering drivers\n"
     ]
    },
    {
     "name": "stderr",
     "output_type": "stream",
     "text": [
      "/tmp/ipykernel_3853420/730053802.py:11: DtypeWarning: Columns (6,13,27,29,32,33,34,35,42,43,48) have mixed types. Specify dtype option on import or set low_memory=False.\n",
      "  for chunk in pd.read_csv(directory, chunksize=2500000, nrows = nrows):\n"
     ]
    },
    {
     "name": "stdout",
     "output_type": "stream",
     "text": [
      "588819 : len chunk PT\n",
      "455677 : after filtering zero-length PT\n",
      "286313 : len chunk PEV\n",
      "286313 : after filtering drivers\n",
      "306401 : len chunk PLV\n",
      "306401 : after filtering drivers\n"
     ]
    },
    {
     "name": "stderr",
     "output_type": "stream",
     "text": [
      "/tmp/ipykernel_3853420/730053802.py:11: DtypeWarning: Columns (6,13,27,29,32,33,34,35,42,43,48) have mixed types. Specify dtype option on import or set low_memory=False.\n",
      "  for chunk in pd.read_csv(directory, chunksize=2500000, nrows = nrows):\n"
     ]
    },
    {
     "name": "stdout",
     "output_type": "stream",
     "text": [
      "576298 : len chunk PT\n",
      "444359 : after filtering zero-length PT\n",
      "293791 : len chunk PEV\n",
      "293791 : after filtering drivers\n",
      "296914 : len chunk PLV\n",
      "296914 : after filtering drivers\n"
     ]
    },
    {
     "name": "stderr",
     "output_type": "stream",
     "text": [
      "/tmp/ipykernel_3853420/730053802.py:11: DtypeWarning: Columns (6,27,29,32,33,34,35,42) have mixed types. Specify dtype option on import or set low_memory=False.\n",
      "  for chunk in pd.read_csv(directory, chunksize=2500000, nrows = nrows):\n"
     ]
    },
    {
     "name": "stdout",
     "output_type": "stream",
     "text": [
      "596734 : len chunk PT\n",
      "459215 : after filtering zero-length PT\n",
      "274582 : len chunk PEV\n",
      "274582 : after filtering drivers\n",
      "316609 : len chunk PLV\n",
      "316609 : after filtering drivers\n"
     ]
    },
    {
     "name": "stderr",
     "output_type": "stream",
     "text": [
      "/tmp/ipykernel_3853420/730053802.py:11: DtypeWarning: Columns (6,27,29,32,33,34,35,42,43,48) have mixed types. Specify dtype option on import or set low_memory=False.\n",
      "  for chunk in pd.read_csv(directory, chunksize=2500000, nrows = nrows):\n"
     ]
    },
    {
     "name": "stdout",
     "output_type": "stream",
     "text": [
      "615145 : len chunk PT\n",
      "476039 : after filtering zero-length PT\n",
      "270499 : len chunk PEV\n",
      "270499 : after filtering drivers\n",
      "325433 : len chunk PLV\n",
      "325433 : after filtering drivers\n"
     ]
    },
    {
     "name": "stderr",
     "output_type": "stream",
     "text": [
      "/tmp/ipykernel_3853420/730053802.py:11: DtypeWarning: Columns (13,42,48) have mixed types. Specify dtype option on import or set low_memory=False.\n",
      "  for chunk in pd.read_csv(directory, chunksize=2500000, nrows = nrows):\n"
     ]
    },
    {
     "name": "stdout",
     "output_type": "stream",
     "text": [
      "209830 : len chunk PT\n",
      "166987 : after filtering zero-length PT\n",
      "59467 : len chunk PEV\n",
      "59467 : after filtering drivers\n",
      "113967 : len chunk PLV\n",
      "113967 : after filtering drivers\n",
      "12153380 :len PEVs\n",
      "12153315 :len PLVs\n",
      "17670221 :len PTs\n",
      "7548935 :len MCs\n",
      "151848 :len RPs\n",
      "7455102 :len ASs\n"
     ]
    },
    {
     "name": "stderr",
     "output_type": "stream",
     "text": [
      "/tmp/ipykernel_3853420/3791711208.py:17: UserWarning: evaluating in Python space because the '*' operator is not supported by numexpr for the bool dtype, use '&' instead.\n",
      "  PTs['is_RHempty'] = PTs['isRH']*PTs['is_empty']\n",
      "/tmp/ipykernel_3853420/3791711208.py:48: UserWarning: evaluating in Python space because the '*' operator is not supported by numexpr for the bool dtype, use '&' instead.\n",
      "  PTs['is_'+tm+'_empty'] = PTs['is'+tm]*PTs['is_empty']\n",
      "/tmp/ipykernel_3853420/3791711208.py:48: UserWarning: evaluating in Python space because the '*' operator is not supported by numexpr for the bool dtype, use '&' instead.\n",
      "  PTs['is_'+tm+'_empty'] = PTs['is'+tm]*PTs['is_empty']\n",
      "/tmp/ipykernel_3853420/3791711208.py:48: UserWarning: evaluating in Python space because the '*' operator is not supported by numexpr for the bool dtype, use '&' instead.\n",
      "  PTs['is_'+tm+'_empty'] = PTs['is'+tm]*PTs['is_empty']\n",
      "/tmp/ipykernel_3853420/3791711208.py:48: UserWarning: evaluating in Python space because the '*' operator is not supported by numexpr for the bool dtype, use '&' instead.\n",
      "  PTs['is_'+tm+'_empty'] = PTs['is'+tm]*PTs['is_empty']\n",
      "/tmp/ipykernel_3853420/3791711208.py:48: UserWarning: evaluating in Python space because the '*' operator is not supported by numexpr for the bool dtype, use '&' instead.\n",
      "  PTs['is_'+tm+'_empty'] = PTs['is'+tm]*PTs['is_empty']\n",
      "/tmp/ipykernel_3853420/3791711208.py:48: UserWarning: evaluating in Python space because the '*' operator is not supported by numexpr for the bool dtype, use '&' instead.\n",
      "  PTs['is_'+tm+'_empty'] = PTs['is'+tm]*PTs['is_empty']\n"
     ]
    },
    {
     "name": "stdout",
     "output_type": "stream",
     "text": [
      "processPlans...\n",
      "gs://beam-core-outputs/sfbay-tr-SF_CS-30pct-20231014/beam/year-2018-iteration-10/ITERS/it.0/0.plans.csv.gz\n",
      "addTimesToPlans...\n",
      "Total time: 4.529710054397583\n",
      "Total time: 728.4341447353363\n",
      "personToPathTraversal...\n",
      "expected PtoPTs from occupancy  car 7330909\n",
      "expected PtoPTs from occupancy  walk 6209414\n",
      "expected PtoPTs from occupancy  car_hov2 1054668.0\n",
      "expected PtoPTs from occupancy  bus 4262498\n",
      "expected PtoPTs from occupancy  car_hov3 755376.0\n",
      "expected PtoPTs from occupancy  bus_empty 0\n",
      "expected PtoPTs from occupancy  car_emer 414043\n",
      "expected PtoPTs from occupancy  car_hov2_emer 127539\n",
      "expected PtoPTs from occupancy  car_RideHail_empty 0\n",
      "expected PtoPTs from occupancy  car_RideHail 111359\n",
      "expected PtoPTs from occupancy  bike 105686\n",
      "expected PtoPTs from occupancy  car_hov3_emer 89191\n",
      "expected PtoPTs from occupancy  tram 359843\n",
      "expected PtoPTs from occupancy  cable_car 41940\n",
      "expected PtoPTs from occupancy  subway 626080\n",
      "expected PtoPTs from occupancy  tram_empty 0\n",
      "expected PtoPTs from occupancy  cable_car_empty 0\n",
      "expected PtoPTs from occupancy  rail 22050\n",
      "expected PtoPTs from occupancy  subway_empty 0\n",
      "expected PtoPTs from occupancy  rail_empty 0\n",
      "expected PtoPTs from occupancy  ferry_empty 0\n",
      "expected PtoPTs from occupancy  ferry 35\n",
      "expected PtoPTs from occupancy TOT =  21510631.0\n",
      "len of PEV =  12153380\n",
      "len of PLV =  12153315\n",
      "len PtoPTs after matching agents and vehicles bike 105690\n",
      "len PtoPTs after matching agents and vehicles bus 4262627\n",
      "len PtoPTs after matching agents and vehicles bus_empty 32\n",
      "len PtoPTs after matching agents and vehicles cable_car 41940\n",
      "len PtoPTs after matching agents and vehicles car 7330989\n",
      "len PtoPTs after matching agents and vehicles car_RideHail 112016\n",
      "len PtoPTs after matching agents and vehicles car_RideHail_empty 896\n",
      "len PtoPTs after matching agents and vehicles car_emer 413974\n",
      "len PtoPTs after matching agents and vehicles car_hov2 1054758\n",
      "len PtoPTs after matching agents and vehicles car_hov2_emer 127543\n",
      "len PtoPTs after matching agents and vehicles car_hov3 755437\n",
      "len PtoPTs after matching agents and vehicles car_hov3_emer 89195\n",
      "len PtoPTs after matching agents and vehicles ferry 35\n",
      "len PtoPTs after matching agents and vehicles rail 22050\n",
      "len PtoPTs after matching agents and vehicles subway 626080\n",
      "len PtoPTs after matching agents and vehicles tram 359844\n",
      "len PtoPTs after matching agents and vehicles walk 6209768\n",
      "no legs found: 117609\n",
      "no legs found after time check: 1145466\n",
      "no vehicle body found, probably because with zero duration (discarded by PT): 117609\n",
      "no vehicle body found after time check, probably because with zero duration (discarded by PT): 1145466\n",
      "Tot created PtoPTs =  21512874\n",
      "Total time: 2424.9713168144226\n",
      "Number Trips... TR-CS\n",
      "Share Trips... TR-CS\n",
      "Lengths Vehicles... TR-CS\n",
      "Lengths Persons... TR-CS\n",
      "Lengths Modes... TR-CS\n",
      "Durations Vehicle... TR-CS\n",
      "Durations Person... TR-CS\n",
      "Speeds Vehicle... TR-CS\n",
      "1.1660    11342119\n",
      "1.0000     6209414\n",
      "1.3958       99014\n",
      "1.1252       19674\n",
      "Name: routee correction, dtype: int64\n",
      "Energy Usage Vehicle... TR-CS\n",
      "Trip Gallons Vehicle... TR-CS\n",
      "Occupancy Vehicle... TR-CS\n",
      "Ridership Transit... TR-CS\n",
      "Ride hail... TR-CS\n",
      "done\n",
      "Total Time 6041.267062902451\n",
      "                              Baseline            TR  TR-BART  TR-BSVI  \\\n",
      "Vehicle Passengers stops Cal       NaN  2.147100e+04      NaN      NaN   \n",
      "Vehicle Passengers km Cal          NaN  1.056607e+05      NaN      NaN   \n",
      "Vehicle Capacity km Cal            NaN  8.416326e+06      NaN      NaN   \n",
      "Vehicle Load Factor Cal            NaN  1.255425e-02      NaN      NaN   \n",
      "Ridership Cal                      NaN  6.384000e+03      NaN      NaN   \n",
      "Ridership Cal Share                NaN  8.875900e-03      NaN      NaN   \n",
      "\n",
      "                              TR-BSVII  TR-CORE  TR-1T         TR-EL  TR-CS  \n",
      "Vehicle Passengers stops Cal       NaN      NaN    NaN  2.322700e+04    NaN  \n",
      "Vehicle Passengers km Cal          NaN      NaN    NaN  1.149501e+05    NaN  \n",
      "Vehicle Capacity km Cal            NaN      NaN    NaN  8.416326e+06    NaN  \n",
      "Vehicle Load Factor Cal            NaN      NaN    NaN  1.365799e-02    NaN  \n",
      "Ridership Cal                      NaN      NaN    NaN  6.550000e+03    NaN  \n",
      "Ridership Cal Share                NaN      NaN    NaN  9.198560e-03    NaN   Number of attributes 4932\n",
      "writing results on gs://beam-core-outputs/sfbay-tr-SF_CS-30pct-20231014/postprocessOutputs/year-2018-iteration-10\n",
      "File uploaded successfully.\n",
      "Reading  gs://beam-core-outputs/sfbay-tr-SF_VN-30pct-20231014/beam/year-2018-iteration-10/ITERS/it.0/0.events.csv.gz\n"
     ]
    },
    {
     "name": "stderr",
     "output_type": "stream",
     "text": [
      "/tmp/ipykernel_3853420/730053802.py:11: DtypeWarning: Columns (0,3,8,9,10,11,15,20,21,26,27,28,37,39,40,41,45,47,52,54,56,57,58,59) have mixed types. Specify dtype option on import or set low_memory=False.\n",
      "  for chunk in pd.read_csv(directory, chunksize=2500000, nrows = nrows):\n"
     ]
    },
    {
     "name": "stdout",
     "output_type": "stream",
     "text": [
      "9923 : len chunk PT\n",
      "7856 : after filtering zero-length PT\n",
      "54570 : len chunk PEV\n",
      "4700 : after filtering drivers\n",
      "89 : len chunk PLV\n",
      "89 : after filtering drivers\n"
     ]
    },
    {
     "name": "stderr",
     "output_type": "stream",
     "text": [
      "/tmp/ipykernel_3853420/730053802.py:11: DtypeWarning: Columns (8,21,29,45,47,52,54,56,57,58,59) have mixed types. Specify dtype option on import or set low_memory=False.\n",
      "  for chunk in pd.read_csv(directory, chunksize=2500000, nrows = nrows):\n"
     ]
    },
    {
     "name": "stdout",
     "output_type": "stream",
     "text": [
      "578792 : len chunk PT\n",
      "354537 : after filtering zero-length PT\n",
      "335996 : len chunk PEV\n",
      "335996 : after filtering drivers\n",
      "258102 : len chunk PLV\n",
      "258102 : after filtering drivers\n"
     ]
    },
    {
     "name": "stderr",
     "output_type": "stream",
     "text": [
      "/tmp/ipykernel_3853420/730053802.py:11: DtypeWarning: Columns (8,21,29,45,47,52,54,56,57,58,59) have mixed types. Specify dtype option on import or set low_memory=False.\n",
      "  for chunk in pd.read_csv(directory, chunksize=2500000, nrows = nrows):\n"
     ]
    },
    {
     "name": "stdout",
     "output_type": "stream",
     "text": [
      "582776 : len chunk PT\n",
      "375525 : after filtering zero-length PT\n",
      "320995 : len chunk PEV\n",
      "320995 : after filtering drivers\n",
      "273202 : len chunk PLV\n",
      "273202 : after filtering drivers\n"
     ]
    },
    {
     "name": "stderr",
     "output_type": "stream",
     "text": [
      "/tmp/ipykernel_3853420/730053802.py:11: DtypeWarning: Columns (8,21,29,45,47,52,54,56,57,58,59) have mixed types. Specify dtype option on import or set low_memory=False.\n",
      "  for chunk in pd.read_csv(directory, chunksize=2500000, nrows = nrows):\n"
     ]
    },
    {
     "name": "stdout",
     "output_type": "stream",
     "text": [
      "538411 : len chunk PT\n",
      "334144 : after filtering zero-length PT\n",
      "321607 : len chunk PEV\n",
      "321607 : after filtering drivers\n",
      "254257 : len chunk PLV\n",
      "254257 : after filtering drivers\n"
     ]
    },
    {
     "name": "stderr",
     "output_type": "stream",
     "text": [
      "/tmp/ipykernel_3853420/730053802.py:11: DtypeWarning: Columns (8,21,29,45,47,52,54,56,57,58,59) have mixed types. Specify dtype option on import or set low_memory=False.\n",
      "  for chunk in pd.read_csv(directory, chunksize=2500000, nrows = nrows):\n"
     ]
    },
    {
     "name": "stdout",
     "output_type": "stream",
     "text": [
      "556158 : len chunk PT\n",
      "360624 : after filtering zero-length PT\n",
      "303276 : len chunk PEV\n",
      "303276 : after filtering drivers\n",
      "277047 : len chunk PLV\n",
      "277047 : after filtering drivers\n"
     ]
    },
    {
     "name": "stderr",
     "output_type": "stream",
     "text": [
      "/tmp/ipykernel_3853420/730053802.py:11: DtypeWarning: Columns (8,21,29,45,47,52,54,56,57,58,59) have mixed types. Specify dtype option on import or set low_memory=False.\n",
      "  for chunk in pd.read_csv(directory, chunksize=2500000, nrows = nrows):\n"
     ]
    },
    {
     "name": "stdout",
     "output_type": "stream",
     "text": [
      "560112 : len chunk PT\n",
      "368164 : after filtering zero-length PT\n",
      "303593 : len chunk PEV\n",
      "303593 : after filtering drivers\n",
      "284320 : len chunk PLV\n",
      "284320 : after filtering drivers\n"
     ]
    },
    {
     "name": "stderr",
     "output_type": "stream",
     "text": [
      "/tmp/ipykernel_3853420/730053802.py:11: DtypeWarning: Columns (8,21,29,45,47,52,54,56,57,58,59) have mixed types. Specify dtype option on import or set low_memory=False.\n",
      "  for chunk in pd.read_csv(directory, chunksize=2500000, nrows = nrows):\n"
     ]
    },
    {
     "name": "stdout",
     "output_type": "stream",
     "text": [
      "548494 : len chunk PT\n",
      "363330 : after filtering zero-length PT\n",
      "297866 : len chunk PEV\n",
      "297866 : after filtering drivers\n",
      "281070 : len chunk PLV\n",
      "281070 : after filtering drivers\n"
     ]
    },
    {
     "name": "stderr",
     "output_type": "stream",
     "text": [
      "/tmp/ipykernel_3853420/730053802.py:11: DtypeWarning: Columns (8,21,29,45,47,52,54,56,57,58,59) have mixed types. Specify dtype option on import or set low_memory=False.\n",
      "  for chunk in pd.read_csv(directory, chunksize=2500000, nrows = nrows):\n"
     ]
    },
    {
     "name": "stdout",
     "output_type": "stream",
     "text": [
      "552328 : len chunk PT\n",
      "378759 : after filtering zero-length PT\n",
      "293125 : len chunk PEV\n",
      "293125 : after filtering drivers\n",
      "286635 : len chunk PLV\n",
      "286635 : after filtering drivers\n"
     ]
    },
    {
     "name": "stderr",
     "output_type": "stream",
     "text": [
      "/tmp/ipykernel_3853420/730053802.py:11: DtypeWarning: Columns (8,29,45,47,52,54,56,57,58,59) have mixed types. Specify dtype option on import or set low_memory=False.\n",
      "  for chunk in pd.read_csv(directory, chunksize=2500000, nrows = nrows):\n"
     ]
    },
    {
     "name": "stdout",
     "output_type": "stream",
     "text": [
      "547164 : len chunk PT\n",
      "377674 : after filtering zero-length PT\n",
      "296006 : len chunk PEV\n",
      "296006 : after filtering drivers\n",
      "284190 : len chunk PLV\n",
      "284190 : after filtering drivers\n"
     ]
    },
    {
     "name": "stderr",
     "output_type": "stream",
     "text": [
      "/tmp/ipykernel_3853420/730053802.py:11: DtypeWarning: Columns (8,21,29,45,47,52,54,56,57,58,59) have mixed types. Specify dtype option on import or set low_memory=False.\n",
      "  for chunk in pd.read_csv(directory, chunksize=2500000, nrows = nrows):\n"
     ]
    },
    {
     "name": "stdout",
     "output_type": "stream",
     "text": [
      "603546 : len chunk PT\n",
      "437508 : after filtering zero-length PT\n",
      "259900 : len chunk PEV\n",
      "259900 : after filtering drivers\n",
      "335522 : len chunk PLV\n",
      "335522 : after filtering drivers\n"
     ]
    },
    {
     "name": "stderr",
     "output_type": "stream",
     "text": [
      "/tmp/ipykernel_3853420/730053802.py:11: DtypeWarning: Columns (8,21,29,45,47,52,54,56,57,58,59) have mixed types. Specify dtype option on import or set low_memory=False.\n",
      "  for chunk in pd.read_csv(directory, chunksize=2500000, nrows = nrows):\n"
     ]
    },
    {
     "name": "stdout",
     "output_type": "stream",
     "text": [
      "594742 : len chunk PT\n",
      "433617 : after filtering zero-length PT\n",
      "280555 : len chunk PEV\n",
      "280555 : after filtering drivers\n",
      "319359 : len chunk PLV\n",
      "319359 : after filtering drivers\n"
     ]
    },
    {
     "name": "stderr",
     "output_type": "stream",
     "text": [
      "/tmp/ipykernel_3853420/730053802.py:11: DtypeWarning: Columns (8,21,29,45,47,52,54,56,57,58,59) have mixed types. Specify dtype option on import or set low_memory=False.\n",
      "  for chunk in pd.read_csv(directory, chunksize=2500000, nrows = nrows):\n"
     ]
    },
    {
     "name": "stdout",
     "output_type": "stream",
     "text": [
      "582583 : len chunk PT\n",
      "428340 : after filtering zero-length PT\n",
      "298635 : len chunk PEV\n",
      "298635 : after filtering drivers\n",
      "295071 : len chunk PLV\n",
      "295071 : after filtering drivers\n"
     ]
    },
    {
     "name": "stderr",
     "output_type": "stream",
     "text": [
      "/tmp/ipykernel_3853420/730053802.py:11: DtypeWarning: Columns (8,21,29,45,47,52,54,56,57,58,59) have mixed types. Specify dtype option on import or set low_memory=False.\n",
      "  for chunk in pd.read_csv(directory, chunksize=2500000, nrows = nrows):\n"
     ]
    },
    {
     "name": "stdout",
     "output_type": "stream",
     "text": [
      "588590 : len chunk PT\n",
      "440043 : after filtering zero-length PT\n",
      "292353 : len chunk PEV\n",
      "292353 : after filtering drivers\n",
      "296784 : len chunk PLV\n",
      "296784 : after filtering drivers\n"
     ]
    },
    {
     "name": "stderr",
     "output_type": "stream",
     "text": [
      "/tmp/ipykernel_3853420/730053802.py:11: DtypeWarning: Columns (8,21,29,45,47,52,54,56,57,58,59) have mixed types. Specify dtype option on import or set low_memory=False.\n",
      "  for chunk in pd.read_csv(directory, chunksize=2500000, nrows = nrows):\n"
     ]
    },
    {
     "name": "stdout",
     "output_type": "stream",
     "text": [
      "585089 : len chunk PT\n",
      "434995 : after filtering zero-length PT\n",
      "300144 : len chunk PEV\n",
      "300144 : after filtering drivers\n",
      "291327 : len chunk PLV\n",
      "291327 : after filtering drivers\n"
     ]
    },
    {
     "name": "stderr",
     "output_type": "stream",
     "text": [
      "/tmp/ipykernel_3853420/730053802.py:11: DtypeWarning: Columns (8,21,29,45,47,52,54,56,57,58,59) have mixed types. Specify dtype option on import or set low_memory=False.\n",
      "  for chunk in pd.read_csv(directory, chunksize=2500000, nrows = nrows):\n"
     ]
    },
    {
     "name": "stdout",
     "output_type": "stream",
     "text": [
      "591880 : len chunk PT\n",
      "442616 : after filtering zero-length PT\n",
      "287092 : len chunk PEV\n",
      "287092 : after filtering drivers\n",
      "300316 : len chunk PLV\n",
      "300316 : after filtering drivers\n"
     ]
    },
    {
     "name": "stderr",
     "output_type": "stream",
     "text": [
      "/tmp/ipykernel_3853420/730053802.py:11: DtypeWarning: Columns (8,21,29,45,47,52,54,56,57,58,59) have mixed types. Specify dtype option on import or set low_memory=False.\n",
      "  for chunk in pd.read_csv(directory, chunksize=2500000, nrows = nrows):\n"
     ]
    },
    {
     "name": "stdout",
     "output_type": "stream",
     "text": [
      "581653 : len chunk PT\n",
      "438773 : after filtering zero-length PT\n",
      "300398 : len chunk PEV\n",
      "300398 : after filtering drivers\n",
      "285895 : len chunk PLV\n",
      "285895 : after filtering drivers\n"
     ]
    },
    {
     "name": "stderr",
     "output_type": "stream",
     "text": [
      "/tmp/ipykernel_3853420/730053802.py:11: DtypeWarning: Columns (8,21,29,45,47,52,54,56,57,58,59) have mixed types. Specify dtype option on import or set low_memory=False.\n",
      "  for chunk in pd.read_csv(directory, chunksize=2500000, nrows = nrows):\n"
     ]
    },
    {
     "name": "stdout",
     "output_type": "stream",
     "text": [
      "579364 : len chunk PT\n",
      "430592 : after filtering zero-length PT\n",
      "293016 : len chunk PEV\n",
      "293016 : after filtering drivers\n",
      "294926 : len chunk PLV\n",
      "294926 : after filtering drivers\n"
     ]
    },
    {
     "name": "stderr",
     "output_type": "stream",
     "text": [
      "/tmp/ipykernel_3853420/730053802.py:11: DtypeWarning: Columns (8,21,29,45,47,52,54,56,57,58,59) have mixed types. Specify dtype option on import or set low_memory=False.\n",
      "  for chunk in pd.read_csv(directory, chunksize=2500000, nrows = nrows):\n"
     ]
    },
    {
     "name": "stdout",
     "output_type": "stream",
     "text": [
      "586027 : len chunk PT\n",
      "444352 : after filtering zero-length PT\n",
      "291291 : len chunk PEV\n",
      "291291 : after filtering drivers\n",
      "295887 : len chunk PLV\n",
      "295887 : after filtering drivers\n"
     ]
    },
    {
     "name": "stderr",
     "output_type": "stream",
     "text": [
      "/tmp/ipykernel_3853420/730053802.py:11: DtypeWarning: Columns (8,21,29,45,47,52,54,56,57,58,59) have mixed types. Specify dtype option on import or set low_memory=False.\n",
      "  for chunk in pd.read_csv(directory, chunksize=2500000, nrows = nrows):\n"
     ]
    },
    {
     "name": "stdout",
     "output_type": "stream",
     "text": [
      "566605 : len chunk PT\n",
      "429615 : after filtering zero-length PT\n",
      "306469 : len chunk PEV\n",
      "306469 : after filtering drivers\n",
      "279358 : len chunk PLV\n",
      "279358 : after filtering drivers\n"
     ]
    },
    {
     "name": "stderr",
     "output_type": "stream",
     "text": [
      "/tmp/ipykernel_3853420/730053802.py:11: DtypeWarning: Columns (8,21,29,45,47,52,54,56,57,58,59) have mixed types. Specify dtype option on import or set low_memory=False.\n",
      "  for chunk in pd.read_csv(directory, chunksize=2500000, nrows = nrows):\n"
     ]
    },
    {
     "name": "stdout",
     "output_type": "stream",
     "text": [
      "581644 : len chunk PT\n",
      "443782 : after filtering zero-length PT\n",
      "291452 : len chunk PEV\n",
      "291452 : after filtering drivers\n",
      "293367 : len chunk PLV\n",
      "293367 : after filtering drivers\n"
     ]
    },
    {
     "name": "stderr",
     "output_type": "stream",
     "text": [
      "/tmp/ipykernel_3853420/730053802.py:11: DtypeWarning: Columns (8,21,29,45,47,52,54,56,57,58,59) have mixed types. Specify dtype option on import or set low_memory=False.\n",
      "  for chunk in pd.read_csv(directory, chunksize=2500000, nrows = nrows):\n"
     ]
    },
    {
     "name": "stdout",
     "output_type": "stream",
     "text": [
      "579528 : len chunk PT\n",
      "440379 : after filtering zero-length PT\n",
      "293421 : len chunk PEV\n",
      "293421 : after filtering drivers\n",
      "295956 : len chunk PLV\n",
      "295956 : after filtering drivers\n"
     ]
    },
    {
     "name": "stderr",
     "output_type": "stream",
     "text": [
      "/tmp/ipykernel_3853420/730053802.py:11: DtypeWarning: Columns (8,21,29,45,47,52,54,56,57,58,59) have mixed types. Specify dtype option on import or set low_memory=False.\n",
      "  for chunk in pd.read_csv(directory, chunksize=2500000, nrows = nrows):\n"
     ]
    },
    {
     "name": "stdout",
     "output_type": "stream",
     "text": [
      "570130 : len chunk PT\n",
      "430703 : after filtering zero-length PT\n",
      "289811 : len chunk PEV\n",
      "289811 : after filtering drivers\n",
      "292305 : len chunk PLV\n",
      "292305 : after filtering drivers\n"
     ]
    },
    {
     "name": "stderr",
     "output_type": "stream",
     "text": [
      "/tmp/ipykernel_3853420/730053802.py:11: DtypeWarning: Columns (8,21,29,45,47,52,54,56,57,58,59) have mixed types. Specify dtype option on import or set low_memory=False.\n",
      "  for chunk in pd.read_csv(directory, chunksize=2500000, nrows = nrows):\n"
     ]
    },
    {
     "name": "stdout",
     "output_type": "stream",
     "text": [
      "569786 : len chunk PT\n",
      "436912 : after filtering zero-length PT\n",
      "289219 : len chunk PEV\n",
      "289219 : after filtering drivers\n",
      "290476 : len chunk PLV\n",
      "290476 : after filtering drivers\n"
     ]
    },
    {
     "name": "stderr",
     "output_type": "stream",
     "text": [
      "/tmp/ipykernel_3853420/730053802.py:11: DtypeWarning: Columns (8,21,29,45,47,52,54,56,57,58,59) have mixed types. Specify dtype option on import or set low_memory=False.\n",
      "  for chunk in pd.read_csv(directory, chunksize=2500000, nrows = nrows):\n"
     ]
    },
    {
     "name": "stdout",
     "output_type": "stream",
     "text": [
      "558629 : len chunk PT\n",
      "428132 : after filtering zero-length PT\n",
      "294361 : len chunk PEV\n",
      "294361 : after filtering drivers\n",
      "280042 : len chunk PLV\n",
      "280042 : after filtering drivers\n"
     ]
    },
    {
     "name": "stderr",
     "output_type": "stream",
     "text": [
      "/tmp/ipykernel_3853420/730053802.py:11: DtypeWarning: Columns (8,21,29,45,47,52,54,56,57,58,59) have mixed types. Specify dtype option on import or set low_memory=False.\n",
      "  for chunk in pd.read_csv(directory, chunksize=2500000, nrows = nrows):\n"
     ]
    },
    {
     "name": "stdout",
     "output_type": "stream",
     "text": [
      "560248 : len chunk PT\n",
      "430292 : after filtering zero-length PT\n",
      "288928 : len chunk PEV\n",
      "288928 : after filtering drivers\n",
      "283383 : len chunk PLV\n",
      "283383 : after filtering drivers\n"
     ]
    },
    {
     "name": "stderr",
     "output_type": "stream",
     "text": [
      "/tmp/ipykernel_3853420/730053802.py:11: DtypeWarning: Columns (8,21,29,45,47,52,54,56,57,58,59) have mixed types. Specify dtype option on import or set low_memory=False.\n",
      "  for chunk in pd.read_csv(directory, chunksize=2500000, nrows = nrows):\n"
     ]
    },
    {
     "name": "stdout",
     "output_type": "stream",
     "text": [
      "556544 : len chunk PT\n",
      "428647 : after filtering zero-length PT\n",
      "286433 : len chunk PEV\n",
      "286433 : after filtering drivers\n",
      "285297 : len chunk PLV\n",
      "285297 : after filtering drivers\n"
     ]
    },
    {
     "name": "stderr",
     "output_type": "stream",
     "text": [
      "/tmp/ipykernel_3853420/730053802.py:11: DtypeWarning: Columns (8,21,29,45,47,52,54,56,57,58,59) have mixed types. Specify dtype option on import or set low_memory=False.\n",
      "  for chunk in pd.read_csv(directory, chunksize=2500000, nrows = nrows):\n"
     ]
    },
    {
     "name": "stdout",
     "output_type": "stream",
     "text": [
      "566212 : len chunk PT\n",
      "435953 : after filtering zero-length PT\n",
      "301337 : len chunk PEV\n",
      "301337 : after filtering drivers\n",
      "285513 : len chunk PLV\n",
      "285513 : after filtering drivers\n"
     ]
    },
    {
     "name": "stderr",
     "output_type": "stream",
     "text": [
      "/tmp/ipykernel_3853420/730053802.py:11: DtypeWarning: Columns (8,21,29,45,47,52,54,56,57,58,59) have mixed types. Specify dtype option on import or set low_memory=False.\n",
      "  for chunk in pd.read_csv(directory, chunksize=2500000, nrows = nrows):\n"
     ]
    },
    {
     "name": "stdout",
     "output_type": "stream",
     "text": [
      "572201 : len chunk PT\n",
      "446763 : after filtering zero-length PT\n",
      "297977 : len chunk PEV\n",
      "297977 : after filtering drivers\n",
      "287909 : len chunk PLV\n",
      "287909 : after filtering drivers\n"
     ]
    },
    {
     "name": "stderr",
     "output_type": "stream",
     "text": [
      "/tmp/ipykernel_3853420/730053802.py:11: DtypeWarning: Columns (8,21,29,45,47,52,54,56,57,58,59) have mixed types. Specify dtype option on import or set low_memory=False.\n",
      "  for chunk in pd.read_csv(directory, chunksize=2500000, nrows = nrows):\n"
     ]
    },
    {
     "name": "stdout",
     "output_type": "stream",
     "text": [
      "564353 : len chunk PT\n",
      "432487 : after filtering zero-length PT\n",
      "299712 : len chunk PEV\n",
      "299712 : after filtering drivers\n",
      "287578 : len chunk PLV\n",
      "287578 : after filtering drivers\n"
     ]
    },
    {
     "name": "stderr",
     "output_type": "stream",
     "text": [
      "/tmp/ipykernel_3853420/730053802.py:11: DtypeWarning: Columns (8,21,29,45,47,52,54,56,57,58,59) have mixed types. Specify dtype option on import or set low_memory=False.\n",
      "  for chunk in pd.read_csv(directory, chunksize=2500000, nrows = nrows):\n"
     ]
    },
    {
     "name": "stdout",
     "output_type": "stream",
     "text": [
      "563470 : len chunk PT\n",
      "436438 : after filtering zero-length PT\n",
      "316013 : len chunk PEV\n",
      "316013 : after filtering drivers\n",
      "278614 : len chunk PLV\n",
      "278614 : after filtering drivers\n"
     ]
    },
    {
     "name": "stderr",
     "output_type": "stream",
     "text": [
      "/tmp/ipykernel_3853420/730053802.py:11: DtypeWarning: Columns (8,21,29,45,47,52,54,56,57,58,59) have mixed types. Specify dtype option on import or set low_memory=False.\n",
      "  for chunk in pd.read_csv(directory, chunksize=2500000, nrows = nrows):\n"
     ]
    },
    {
     "name": "stdout",
     "output_type": "stream",
     "text": [
      "563861 : len chunk PT\n",
      "433151 : after filtering zero-length PT\n",
      "304984 : len chunk PEV\n",
      "304984 : after filtering drivers\n",
      "287427 : len chunk PLV\n",
      "287427 : after filtering drivers\n"
     ]
    },
    {
     "name": "stderr",
     "output_type": "stream",
     "text": [
      "/tmp/ipykernel_3853420/730053802.py:11: DtypeWarning: Columns (8,21,29,45,47,52,54,56,57,58,59) have mixed types. Specify dtype option on import or set low_memory=False.\n",
      "  for chunk in pd.read_csv(directory, chunksize=2500000, nrows = nrows):\n"
     ]
    },
    {
     "name": "stdout",
     "output_type": "stream",
     "text": [
      "580423 : len chunk PT\n",
      "451067 : after filtering zero-length PT\n",
      "295236 : len chunk PEV\n",
      "295236 : after filtering drivers\n",
      "296530 : len chunk PLV\n",
      "296530 : after filtering drivers\n"
     ]
    },
    {
     "name": "stderr",
     "output_type": "stream",
     "text": [
      "/tmp/ipykernel_3853420/730053802.py:11: DtypeWarning: Columns (8,21,29,45,47,52,54,56,57,58,59) have mixed types. Specify dtype option on import or set low_memory=False.\n",
      "  for chunk in pd.read_csv(directory, chunksize=2500000, nrows = nrows):\n"
     ]
    },
    {
     "name": "stdout",
     "output_type": "stream",
     "text": [
      "570278 : len chunk PT\n",
      "438385 : after filtering zero-length PT\n",
      "306553 : len chunk PEV\n",
      "306553 : after filtering drivers\n",
      "290317 : len chunk PLV\n",
      "290317 : after filtering drivers\n"
     ]
    },
    {
     "name": "stderr",
     "output_type": "stream",
     "text": [
      "/tmp/ipykernel_3853420/730053802.py:11: DtypeWarning: Columns (8,21,29,45,47,52,54,56,57,58,59) have mixed types. Specify dtype option on import or set low_memory=False.\n",
      "  for chunk in pd.read_csv(directory, chunksize=2500000, nrows = nrows):\n"
     ]
    },
    {
     "name": "stdout",
     "output_type": "stream",
     "text": [
      "579293 : len chunk PT\n",
      "447034 : after filtering zero-length PT\n",
      "299552 : len chunk PEV\n",
      "299552 : after filtering drivers\n",
      "298684 : len chunk PLV\n",
      "298684 : after filtering drivers\n"
     ]
    },
    {
     "name": "stderr",
     "output_type": "stream",
     "text": [
      "/tmp/ipykernel_3853420/730053802.py:11: DtypeWarning: Columns (8,21,29,45,47,52,54,56,57,58,59) have mixed types. Specify dtype option on import or set low_memory=False.\n",
      "  for chunk in pd.read_csv(directory, chunksize=2500000, nrows = nrows):\n"
     ]
    },
    {
     "name": "stdout",
     "output_type": "stream",
     "text": [
      "574611 : len chunk PT\n",
      "442320 : after filtering zero-length PT\n",
      "295898 : len chunk PEV\n",
      "295898 : after filtering drivers\n",
      "299220 : len chunk PLV\n",
      "299220 : after filtering drivers\n"
     ]
    },
    {
     "name": "stderr",
     "output_type": "stream",
     "text": [
      "/tmp/ipykernel_3853420/730053802.py:11: DtypeWarning: Columns (8,21,29,45,47,52,54,56,57,58,59) have mixed types. Specify dtype option on import or set low_memory=False.\n",
      "  for chunk in pd.read_csv(directory, chunksize=2500000, nrows = nrows):\n"
     ]
    },
    {
     "name": "stdout",
     "output_type": "stream",
     "text": [
      "594745 : len chunk PT\n",
      "457277 : after filtering zero-length PT\n",
      "276998 : len chunk PEV\n",
      "276998 : after filtering drivers\n",
      "318647 : len chunk PLV\n",
      "318647 : after filtering drivers\n"
     ]
    },
    {
     "name": "stderr",
     "output_type": "stream",
     "text": [
      "/tmp/ipykernel_3853420/730053802.py:11: DtypeWarning: Columns (8,21,29,45,47,52,54,56,57,58,59) have mixed types. Specify dtype option on import or set low_memory=False.\n",
      "  for chunk in pd.read_csv(directory, chunksize=2500000, nrows = nrows):\n"
     ]
    },
    {
     "name": "stdout",
     "output_type": "stream",
     "text": [
      "610024 : len chunk PT\n",
      "472910 : after filtering zero-length PT\n",
      "269827 : len chunk PEV\n",
      "269827 : after filtering drivers\n",
      "332752 : len chunk PLV\n",
      "332752 : after filtering drivers\n"
     ]
    },
    {
     "name": "stderr",
     "output_type": "stream",
     "text": [
      "/tmp/ipykernel_3853420/730053802.py:11: DtypeWarning: Columns (8,21,29,45,47,52,54,56,57,58,59) have mixed types. Specify dtype option on import or set low_memory=False.\n",
      "  for chunk in pd.read_csv(directory, chunksize=2500000, nrows = nrows):\n"
     ]
    },
    {
     "name": "stdout",
     "output_type": "stream",
     "text": [
      "599757 : len chunk PT\n",
      "463086 : after filtering zero-length PT\n",
      "281167 : len chunk PEV\n",
      "281167 : after filtering drivers\n",
      "316511 : len chunk PLV\n",
      "316511 : after filtering drivers\n"
     ]
    },
    {
     "name": "stderr",
     "output_type": "stream",
     "text": [
      "/tmp/ipykernel_3853420/730053802.py:11: DtypeWarning: Columns (8,21,29,45,47,52,54,56,57,58,59) have mixed types. Specify dtype option on import or set low_memory=False.\n",
      "  for chunk in pd.read_csv(directory, chunksize=2500000, nrows = nrows):\n"
     ]
    },
    {
     "name": "stdout",
     "output_type": "stream",
     "text": [
      "586086 : len chunk PT\n",
      "454318 : after filtering zero-length PT\n",
      "288440 : len chunk PEV\n",
      "288440 : after filtering drivers\n",
      "304412 : len chunk PLV\n",
      "304412 : after filtering drivers\n"
     ]
    },
    {
     "name": "stderr",
     "output_type": "stream",
     "text": [
      "/tmp/ipykernel_3853420/730053802.py:11: DtypeWarning: Columns (8,21,29,45,47,52,54,56,57,58,59) have mixed types. Specify dtype option on import or set low_memory=False.\n",
      "  for chunk in pd.read_csv(directory, chunksize=2500000, nrows = nrows):\n"
     ]
    },
    {
     "name": "stdout",
     "output_type": "stream",
     "text": [
      "577284 : len chunk PT\n",
      "444659 : after filtering zero-length PT\n",
      "291793 : len chunk PEV\n",
      "291793 : after filtering drivers\n",
      "297851 : len chunk PLV\n",
      "297851 : after filtering drivers\n"
     ]
    },
    {
     "name": "stderr",
     "output_type": "stream",
     "text": [
      "/tmp/ipykernel_3853420/730053802.py:11: DtypeWarning: Columns (8,21,29,45,47,52,54,56,57,58,59) have mixed types. Specify dtype option on import or set low_memory=False.\n",
      "  for chunk in pd.read_csv(directory, chunksize=2500000, nrows = nrows):\n"
     ]
    },
    {
     "name": "stdout",
     "output_type": "stream",
     "text": [
      "596411 : len chunk PT\n",
      "457414 : after filtering zero-length PT\n",
      "274867 : len chunk PEV\n",
      "274867 : after filtering drivers\n",
      "317094 : len chunk PLV\n",
      "317094 : after filtering drivers\n"
     ]
    },
    {
     "name": "stderr",
     "output_type": "stream",
     "text": [
      "/tmp/ipykernel_3853420/730053802.py:11: DtypeWarning: Columns (8,47) have mixed types. Specify dtype option on import or set low_memory=False.\n",
      "  for chunk in pd.read_csv(directory, chunksize=2500000, nrows = nrows):\n"
     ]
    },
    {
     "name": "stdout",
     "output_type": "stream",
     "text": [
      "618019 : len chunk PT\n",
      "479562 : after filtering zero-length PT\n",
      "270468 : len chunk PEV\n",
      "270468 : after filtering drivers\n",
      "325527 : len chunk PLV\n",
      "325527 : after filtering drivers\n"
     ]
    },
    {
     "name": "stderr",
     "output_type": "stream",
     "text": [
      "/tmp/ipykernel_3853420/730053802.py:11: DtypeWarning: Columns (29,45,47) have mixed types. Specify dtype option on import or set low_memory=False.\n",
      "  for chunk in pd.read_csv(directory, chunksize=2500000, nrows = nrows):\n"
     ]
    },
    {
     "name": "stdout",
     "output_type": "stream",
     "text": [
      "203697 : len chunk PT\n",
      "161935 : after filtering zero-length PT\n",
      "58073 : len chunk PEV\n",
      "58073 : after filtering drivers\n",
      "110702 : len chunk PLV\n",
      "110702 : after filtering drivers\n",
      "12149537 :len PEVs\n",
      "12149471 :len PLVs\n",
      "17674670 :len PTs\n",
      "7546663 :len MCs\n",
      "149595 :len RPs\n",
      "7455105 :len ASs\n"
     ]
    },
    {
     "name": "stderr",
     "output_type": "stream",
     "text": [
      "/tmp/ipykernel_3853420/3791711208.py:17: UserWarning: evaluating in Python space because the '*' operator is not supported by numexpr for the bool dtype, use '&' instead.\n",
      "  PTs['is_RHempty'] = PTs['isRH']*PTs['is_empty']\n",
      "/tmp/ipykernel_3853420/3791711208.py:48: UserWarning: evaluating in Python space because the '*' operator is not supported by numexpr for the bool dtype, use '&' instead.\n",
      "  PTs['is_'+tm+'_empty'] = PTs['is'+tm]*PTs['is_empty']\n",
      "/tmp/ipykernel_3853420/3791711208.py:48: UserWarning: evaluating in Python space because the '*' operator is not supported by numexpr for the bool dtype, use '&' instead.\n",
      "  PTs['is_'+tm+'_empty'] = PTs['is'+tm]*PTs['is_empty']\n",
      "/tmp/ipykernel_3853420/3791711208.py:48: UserWarning: evaluating in Python space because the '*' operator is not supported by numexpr for the bool dtype, use '&' instead.\n",
      "  PTs['is_'+tm+'_empty'] = PTs['is'+tm]*PTs['is_empty']\n",
      "/tmp/ipykernel_3853420/3791711208.py:48: UserWarning: evaluating in Python space because the '*' operator is not supported by numexpr for the bool dtype, use '&' instead.\n",
      "  PTs['is_'+tm+'_empty'] = PTs['is'+tm]*PTs['is_empty']\n",
      "/tmp/ipykernel_3853420/3791711208.py:48: UserWarning: evaluating in Python space because the '*' operator is not supported by numexpr for the bool dtype, use '&' instead.\n",
      "  PTs['is_'+tm+'_empty'] = PTs['is'+tm]*PTs['is_empty']\n",
      "/tmp/ipykernel_3853420/3791711208.py:48: UserWarning: evaluating in Python space because the '*' operator is not supported by numexpr for the bool dtype, use '&' instead.\n",
      "  PTs['is_'+tm+'_empty'] = PTs['is'+tm]*PTs['is_empty']\n"
     ]
    },
    {
     "name": "stdout",
     "output_type": "stream",
     "text": [
      "processPlans...\n",
      "gs://beam-core-outputs/sfbay-tr-SF_VN-30pct-20231014/beam/year-2018-iteration-10/ITERS/it.0/0.plans.csv.gz\n",
      "addTimesToPlans...\n",
      "Total time: 4.508104085922241\n",
      "Total time: 729.3800005912781\n",
      "personToPathTraversal...\n",
      "expected PtoPTs from occupancy  car 7326650\n",
      "expected PtoPTs from occupancy  walk 6203749\n",
      "expected PtoPTs from occupancy  car_hov2 1054804.0\n",
      "expected PtoPTs from occupancy  bus 4247119\n",
      "expected PtoPTs from occupancy  car_hov3 756429.0\n",
      "expected PtoPTs from occupancy  bus_empty 0\n",
      "expected PtoPTs from occupancy  car_emer 415010\n",
      "expected PtoPTs from occupancy  car_hov2_emer 128990\n",
      "expected PtoPTs from occupancy  car_RideHail_empty 0\n",
      "expected PtoPTs from occupancy  car_RideHail 110489\n",
      "expected PtoPTs from occupancy  bike 105762\n",
      "expected PtoPTs from occupancy  car_hov3_emer 88912\n",
      "expected PtoPTs from occupancy  tram 366920\n",
      "expected PtoPTs from occupancy  cable_car 41004\n",
      "expected PtoPTs from occupancy  subway 626564\n",
      "expected PtoPTs from occupancy  tram_empty 0\n",
      "expected PtoPTs from occupancy  cable_car_empty 0\n",
      "expected PtoPTs from occupancy  rail 21775\n",
      "expected PtoPTs from occupancy  subway_empty 0\n",
      "expected PtoPTs from occupancy  rail_empty 0\n",
      "expected PtoPTs from occupancy  ferry_empty 0\n",
      "expected PtoPTs from occupancy  ferry 32\n",
      "expected PtoPTs from occupancy TOT =  21494209.0\n",
      "len of PEV =  12149537\n",
      "len of PLV =  12149471\n",
      "len PtoPTs after matching agents and vehicles bike 105766\n",
      "len PtoPTs after matching agents and vehicles bus 4247212\n",
      "len PtoPTs after matching agents and vehicles bus_empty 35\n",
      "len PtoPTs after matching agents and vehicles cable_car 41004\n",
      "len PtoPTs after matching agents and vehicles car 7326886\n",
      "len PtoPTs after matching agents and vehicles car_RideHail 111116\n",
      "len PtoPTs after matching agents and vehicles car_RideHail_empty 847\n",
      "len PtoPTs after matching agents and vehicles car_emer 414940\n",
      "len PtoPTs after matching agents and vehicles car_hov2 1054889\n",
      "len PtoPTs after matching agents and vehicles car_hov2_emer 129016\n",
      "len PtoPTs after matching agents and vehicles car_hov3 756479\n",
      "len PtoPTs after matching agents and vehicles car_hov3_emer 88921\n",
      "len PtoPTs after matching agents and vehicles ferry 32\n",
      "len PtoPTs after matching agents and vehicles rail 21775\n",
      "len PtoPTs after matching agents and vehicles subway 626564\n",
      "len PtoPTs after matching agents and vehicles tram 366920\n",
      "len PtoPTs after matching agents and vehicles walk 6204158\n",
      "no legs found: 116523\n",
      "no legs found after time check: 1142267\n",
      "no vehicle body found, probably because with zero duration (discarded by PT): 116523\n",
      "no vehicle body found after time check, probably because with zero duration (discarded by PT): 1142267\n",
      "Tot created PtoPTs =  21496560\n",
      "Total time: 2413.4784541130066\n",
      "Number Trips... TR-VN\n",
      "Share Trips... TR-VN\n",
      "Lengths Vehicles... TR-VN\n",
      "Lengths Persons... TR-VN\n",
      "Lengths Modes... TR-VN\n",
      "Durations Vehicle... TR-VN\n",
      "Durations Person... TR-VN\n",
      "Speeds Vehicle... TR-VN\n",
      "1.1660    11351261\n",
      "1.0000     6203749\n",
      "1.3958       99958\n",
      "1.1252       19702\n",
      "Name: routee correction, dtype: int64\n",
      "Energy Usage Vehicle... TR-VN\n",
      "Trip Gallons Vehicle... TR-VN\n",
      "Occupancy Vehicle... TR-VN\n",
      "Ridership Transit... TR-VN\n",
      "Ride hail... TR-VN\n",
      "done\n",
      "Total Time 6043.226627588272\n",
      "                              Baseline            TR  TR-BART  TR-BSVI  \\\n",
      "Vehicle Passengers stops Cal       NaN  2.147100e+04      NaN      NaN   \n",
      "Vehicle Passengers km Cal          NaN  1.056607e+05      NaN      NaN   \n",
      "Vehicle Capacity km Cal            NaN  8.416326e+06      NaN      NaN   \n",
      "Vehicle Load Factor Cal            NaN  1.255425e-02      NaN      NaN   \n",
      "Ridership Cal                      NaN  6.384000e+03      NaN      NaN   \n",
      "Ridership Cal Share                NaN  8.875900e-03      NaN      NaN   \n",
      "\n",
      "                              TR-BSVII  TR-CORE  TR-1T         TR-EL  TR-CS  \\\n",
      "Vehicle Passengers stops Cal       NaN      NaN    NaN  2.322700e+04    NaN   \n",
      "Vehicle Passengers km Cal          NaN      NaN    NaN  1.149501e+05    NaN   \n",
      "Vehicle Capacity km Cal            NaN      NaN    NaN  8.416326e+06    NaN   \n",
      "Vehicle Load Factor Cal            NaN      NaN    NaN  1.365799e-02    NaN   \n",
      "Ridership Cal                      NaN      NaN    NaN  6.550000e+03    NaN   \n",
      "Ridership Cal Share                NaN      NaN    NaN  9.198560e-03    NaN   \n",
      "\n",
      "                              TR-VN  \n",
      "Vehicle Passengers stops Cal    NaN  \n",
      "Vehicle Passengers km Cal       NaN  \n",
      "Vehicle Capacity km Cal         NaN  \n",
      "Vehicle Load Factor Cal         NaN  \n",
      "Ridership Cal                   NaN  \n",
      "Ridership Cal Share             NaN   Number of attributes 4932\n",
      "writing results on gs://beam-core-outputs/sfbay-tr-SF_VN-30pct-20231014/postprocessOutputs/year-2018-iteration-10\n",
      "File uploaded successfully.\n",
      "                              Baseline            TR  TR-BART  TR-BSVI  \\\n",
      "Vehicle Passengers stops Cal       NaN  2.147100e+04      NaN      NaN   \n",
      "Vehicle Passengers km Cal          NaN  1.056607e+05      NaN      NaN   \n",
      "Vehicle Capacity km Cal            NaN  8.416326e+06      NaN      NaN   \n",
      "Vehicle Load Factor Cal            NaN  1.255425e-02      NaN      NaN   \n",
      "Ridership Cal                      NaN  6.384000e+03      NaN      NaN   \n",
      "Ridership Cal Share                NaN  8.875900e-03      NaN      NaN   \n",
      "\n",
      "                              TR-BSVII  TR-CORE  TR-1T         TR-EL  TR-CS  \\\n",
      "Vehicle Passengers stops Cal       NaN      NaN    NaN  2.322700e+04    NaN   \n",
      "Vehicle Passengers km Cal          NaN      NaN    NaN  1.149501e+05    NaN   \n",
      "Vehicle Capacity km Cal            NaN      NaN    NaN  8.416326e+06    NaN   \n",
      "Vehicle Load Factor Cal            NaN      NaN    NaN  1.365799e-02    NaN   \n",
      "Ridership Cal                      NaN      NaN    NaN  6.550000e+03    NaN   \n",
      "Ridership Cal Share                NaN      NaN    NaN  9.198560e-03    NaN   \n",
      "\n",
      "                              TR-VN  code  \n",
      "Vehicle Passengers stops Cal    NaN  4926  \n",
      "Vehicle Passengers km Cal       NaN  4927  \n",
      "Vehicle Capacity km Cal         NaN  4928  \n",
      "Vehicle Load Factor Cal         NaN  4929  \n",
      "Ridership Cal                   NaN  4930  \n",
      "Ridership Cal Share             NaN  4931   Number of attributes 4932\n",
      "Total time 632.8504645824432 s\n"
     ]
    }
   ],
   "source": [
    "ST = pd.DataFrame()\n",
    "\n",
    "\n",
    "for data_name, name, plan_name, i in zip(data_names, names, plan_names, range(len(data_names))):\n",
    "    \n",
    "    MCs = []\n",
    "    PTs = []\n",
    "    PEVs = []\n",
    "    PLVs = []\n",
    "    PtoPTss = []\n",
    "    LT = False\n",
    "    PLT = False\n",
    "    VLT = False\n",
    "    MCs, PTs, PEVs, PLVs, RPs, ASs = readEvents(fp+data_name)\n",
    "    MCs, PTs, PEVs, PLVs = fixData(MCs, PTs, PEVs, PLVs, len_id_transit)\n",
    "    trips, activities, personToTripDepartures, is_leg_mode = processPlans(fp+plan_name)\n",
    "    PtoPTss = personToPathTraversal(PTs,PEVs,PLVs,personToTripDepartures)\n",
    "    \n",
    "    if is_filter_by_region:\n",
    "        MCs, PTs, PEVs, PLVs, RPs, trips, PtoPTss = filter_by_region(region_filter, MCs, PTs, PEVs, PLVs, RPs, trips, PtoPTss,)\n",
    "    \n",
    "    # if is_save_PTs_PtoPTs:\n",
    "    #     PTs.to_csv(fp_res+'PTs_'+name+'.csv')\n",
    "    #     PtoPTss.to_csv(fp_res+'PtoPTss_'+name+'.csv')\n",
    "    \n",
    "    codes = [0,1,2,3,4,5,6,7,8] \n",
    "    transitCompanies = PTs['vehicle2'][PTs['is_transit']>0].value_counts().keys()\n",
    "    \n",
    "    ST = SummaryTable(ST, data_name, name, plan_name, MCs, PTs, PEVs, PLVs, RPs, trips, PtoPTss, codes, transitCompanies, is_leg_mode)\n",
    "    \n",
    "    if is_LT:\n",
    "        # link_fp = fp+data_name[:-13]+'linkstats.csv.gz'\n",
    "        # VLT, PLT = LinkTable(VLT, PLT, name, link_fp, PTs, PtoPTss)\n",
    "        network = pd.read_csv(fp+data_name[:-(len(data_name.split('/')[-1])+len(data_name.split('/')[-2])+len(data_name.split('/')[-3])+2)]+'network.csv.gz')\n",
    "        if is_GEO:\n",
    "            network, link_taz = network_TAZ(network)\n",
    "        else:\n",
    "            link_taz = ''\n",
    "        LT = pd.read_csv(fp+data_name[:-13]+'linkstats.csv.gz')\n",
    "        if is_GEO:\n",
    "            LT = link_TAZ_fun(network, LT)\n",
    "        PLT = PLT_build(data_name,PtoPTss, network, link_taz)\n",
    "        VLT = VLT_build(data_name,PTs, network, link_taz)\n",
    "        # VLT.to_csv(fp_res+'VLT_'+name+'.csv')\n",
    "        # PLT.to_csv(fp_res+'PLT_'+name+'.csv')\n",
    "        # LT.to_csv(fp_res+'LT_'+name+'.csv')\n",
    "\n",
    "    print('Total Time', time.time()-start)\n",
    "    start = time.time()\n",
    "    print(ST[-6:],'Number of attributes',len(ST))\n",
    "    ST.to_csv(fp_res+output_nm)\n",
    "\n",
    "    if is_collect_data:\n",
    "        collectAllData(fp+data_name[:-(len(data_name.split('/')[-1])+len(data_name.split('/')[-2])+len(data_name.split('/')[-3])+len(data_name.split('/')[-4])+len(data_name.split('/')[-5])+4)],\n",
    "                  data_name.split('/')[-4],trips, activities, PTs, PtoPTss, LT, PLT, VLT, ST, name)\n",
    "        \n",
    "ST['code'] = range(len(ST[ST.keys()[0]]))\n",
    "print(ST[-6:],'Number of attributes',len(ST))\n",
    "ST.to_csv(fp_res+output_nm)\n",
    "\n",
    "end = time.time()\n",
    "print('Total time',end- start, 's')"
   ]
  },
  {
   "cell_type": "code",
   "execution_count": 23,
   "id": "f80bb2e4-93c4-4aaf-9517-c290020515cc",
   "metadata": {
    "tags": []
   },
   "outputs": [
    {
     "ename": "NameError",
     "evalue": "name 'shares_pop' is not defined",
     "output_type": "error",
     "traceback": [
      "\u001b[0;31m---------------------------------------------------------------------------\u001b[0m",
      "\u001b[0;31mNameError\u001b[0m                                 Traceback (most recent call last)",
      "Cell \u001b[0;32mIn[23], line 28\u001b[0m\n\u001b[1;32m      4\u001b[0m ST \u001b[38;5;241m=\u001b[39m pd\u001b[38;5;241m.\u001b[39mread_csv(\u001b[38;5;124m'\u001b[39m\u001b[38;5;124moutputs/SummaryTable_NYC_baseline16.csv\u001b[39m\u001b[38;5;124m'\u001b[39m, index_col\u001b[38;5;241m=\u001b[39m\u001b[38;5;124m'\u001b[39m\u001b[38;5;124mUnnamed: 0\u001b[39m\u001b[38;5;124m'\u001b[39m)\n\u001b[1;32m      6\u001b[0m \u001b[38;5;66;03m# subway_notransfs = [ \u001b[39;00m\n\u001b[1;32m      7\u001b[0m             \u001b[38;5;66;03m# 2922226,#1/3 part 1\u001b[39;00m\n\u001b[1;32m      8\u001b[0m             \u001b[38;5;66;03m# 345063,#7\u001b[39;00m\n\u001b[0;32m   (...)\u001b[0m\n\u001b[1;32m     25\u001b[0m             \u001b[38;5;66;03m# 517393,517393,517393\u001b[39;00m\n\u001b[1;32m     26\u001b[0m                     \u001b[38;5;66;03m# ]\u001b[39;00m\n\u001b[0;32m---> 28\u001b[0m \u001b[38;5;28;01mfor\u001b[39;00m name, share_pop \u001b[38;5;129;01min\u001b[39;00m \u001b[38;5;28mzip\u001b[39m(names,\u001b[43mshares_pop\u001b[49m):\n\u001b[1;32m     30\u001b[0m     ST2\u001b[38;5;241m.\u001b[39mat[\u001b[38;5;124m'\u001b[39m\u001b[38;5;124mOriginal Population share\u001b[39m\u001b[38;5;124m'\u001b[39m, name] \u001b[38;5;241m=\u001b[39m share_pop\n\u001b[1;32m     32\u001b[0m     ST2\u001b[38;5;241m.\u001b[39mat[\u001b[38;5;124m'\u001b[39m\u001b[38;5;124mScaled Total Simulated Agents\u001b[39m\u001b[38;5;124m'\u001b[39m, name] \u001b[38;5;241m=\u001b[39m ST\u001b[38;5;241m.\u001b[39mat[\u001b[38;5;124m'\u001b[39m\u001b[38;5;124mSimulated Agents \u001b[39m\u001b[38;5;124m'\u001b[39m, name]\u001b[38;5;241m/\u001b[39mshare_pop\n",
      "\u001b[0;31mNameError\u001b[0m: name 'shares_pop' is not defined"
     ]
    }
   ],
   "source": [
    "#Validation NYC\n",
    "\n",
    "ST2 = pd.DataFrame()\n",
    "ST = pd.read_csv('outputs/SummaryTable_NYC_baseline16.csv', index_col='Unnamed: 0')\n",
    "\n",
    "# subway_notransfs = [ \n",
    "            # 2922226,#1/3 part 1\n",
    "            # 345063,#7\n",
    "            # 241275,#11\n",
    "            # 251684,#12\n",
    "            # 270082,#13\n",
    "            # 223795,#15\n",
    "            # 196499,#16\n",
    "            # 167302,#17\n",
    "            # 255169,#18\n",
    "            # 239665,#19\n",
    "            # 231035,#20\n",
    "            # 516343,#0/10\n",
    "            # 514203,#3/10\n",
    "            # 518130,#4/10\n",
    "            # 515515,#5/10\n",
    "            # 518068,#6/10\n",
    "            # 511123,#7/10\n",
    "            # 517393,#8/10\n",
    "            # 517393,517393,517393\n",
    "                    # ]\n",
    "\n",
    "for name, share_pop in zip(names,shares_pop):\n",
    "    \n",
    "    ST2.at['Original Population share', name] = share_pop\n",
    "    \n",
    "    ST2.at['Scaled Total Simulated Agents', name] = ST.at['Simulated Agents ', name]/share_pop\n",
    "    \n",
    "\n",
    "    ST2.at['Total Trips Estimated per Agent in a Day', name] = ST.at['Trips per Agent AV ', name]\n",
    "\n",
    "\n",
    "    ST2.at['Scaled Total Trips Estimated in a Day', name] = ST.at['Trips per Agent AV ', name]*ST.at['Simulated Agents ', name]/share_pop\n",
    "\n",
    "    if is_leg_mode:\n",
    "\n",
    "        ST2.at['Scaled Total Estimated Walk-Transit Trips in a Day', name] = ST.at['Trip Est Walk-Transit', name]/share_pop\n",
    "\n",
    "\n",
    "    ST2.at['Scaled Total Replanned Walk-Transit Trips in a Day', name] = ST.at['Trip Replan Walk-Transit', name]/share_pop\n",
    "\n",
    "\n",
    "    ST2.at['Scaled Total Executed Walk-Transit Trips in a Day', name] = ST.at['Trip Exec Walk-Transit', name]/share_pop\n",
    "\n",
    "\n",
    "    ST2.at['Scaled Total Modechoice Walk-Transit Trips in a Day', name] = ST.at['Trip Mode Walk-Transit', name]/share_pop\n",
    "\n",
    "    if is_leg_mode:\n",
    "\n",
    "        ST2.at['Share Estimated Walk-Transit Trips in a Day', name] = ST.at['Trip Est Share Walk-Transit', name]\n",
    "\n",
    "\n",
    "    ST2.at['Share Replanned Walk-Transit Trips in a Day', name] = ST.at['Trip Replan Share Walk-Transit', name]\n",
    "\n",
    "\n",
    "    ST2.at['Share Executed Walk-Transit Trips in a Day', name] = ST.at['Trip Exec Share Walk-Transit', name]\n",
    "    ST2.at['Share Executed Bike-Transit Trips in a Day', name] = ST.at['Trip Exec Share Bike-Transit', name]\n",
    "    ST2.at['Share Executed Ride Hail-Transit Trips in a Day', name] = ST.at['Trip Exec Share Ride Hail-Transit', name]\n",
    "    ST2.at['Share Executed Drive-Transit Trips in a Day', name] = ST.at['Trip Exec Share Drive-Transit', name]\n",
    "    ST2.at['Share Executed Transit Related Trips in a Day', name] = (ST.at['Trip Exec Share Walk-Transit', name] +\n",
    "                                                                    ST.at['Trip Exec Share Bike-Transit', name] +\n",
    "                                                                    ST.at['Trip Exec Share Ride Hail-Transit', name] +\n",
    "                                                                    ST.at['Trip Exec Share Drive-Transit', name])\n",
    "    ST2.at['Share Executed Bike Trips in a Day', name] = ST.at['Trip Exec Share Bike', name]\n",
    "    ST2.at['Share Executed Car Trips in a Day', name] = ST.at['Trip Exec Share Car', name]\n",
    "    ST2.at['Share Executed Ride Hail Trips in a Day', name] = (ST.at['Trip Exec Share Ride Hail', name] +\n",
    "                                                            ST.at['Trip Exec Share Ride Hail Pooled', name])\n",
    "    ST2.at['Share Executed Walk Trips in a Day', name] = ST.at['Trip Exec Share Walk', name]\n",
    "    ST2.at['Share Executed Other Trips in a Day', name] = 1-(ST.at['Trip Exec Share Walk-Transit', name] +\n",
    "                                                                    ST.at['Trip Exec Share Bike-Transit', name] +\n",
    "                                                                    ST.at['Trip Exec Share Ride Hail-Transit', name] +\n",
    "                                                                    ST.at['Trip Exec Share Drive-Transit', name] +\n",
    "                                                                    ST.at['Trip Exec Share Bike', name] +\n",
    "                                                                    ST.at['Trip Exec Share Car', name] +\n",
    "                                                                    ST.at['Trip Exec Share Ride Hail', name] +\n",
    "                                                                    ST.at['Trip Exec Share Ride Hail Pooled', name] +\n",
    "                                                                    ST.at['Trip Exec Share Walk', name])\n",
    "\n",
    "\n",
    "    ST2.at['Share Executed Walk-Transit Trips in a Day', name] = ST.at['Trip Exec Share Walk-Transit', name]\n",
    "\n",
    "\n",
    "    ST2.at['AV Transit Transfers per trip', name] = ST.at['Transit Transfer per trip AV', name]\n",
    "\n",
    "\n",
    "    ST2.at['Scaled MTA BUS Ridership (with transfers)', name] = (ST.at['Ridership MTA_Brookl', name]+\n",
    "                                                             ST.at['Ridership MTA_Bronx_', name]+\n",
    "                                                             ST.at['Ridership MTA_Queens', name]+\n",
    "                                                             ST.at['Ridership MTA_Staten', name]+\n",
    "                                                             ST.at['Ridership MTA_Manhat', name]+\n",
    "                                                             ST.at['Ridership NYC_Bus_Co', name])/share_pop\n",
    "\n",
    "\n",
    "    ST2.at['Scaled MTA SUB Ridership (with transfers)', name] = ST.at['Ridership NYC_Subway', name]/share_pop\n",
    "    \n",
    "    ST2.at['Scaled MTA SUB Ridership (without transfers)', name] = ST.at['Ridership NYC Subway Without Transfers', name]/share_pop\n",
    "    \n",
    "    ST2.at['Subway vs Bus', name] = ST2.at['Scaled MTA SUB Ridership (without transfers)', name]/ST2.at['Scaled MTA BUS Ridership (with transfers)', name]\n",
    "\n",
    "\n",
    "    ST2.at['Scaled Metro North Ridership (with transfers)', name] = ST.at['Ridership Metro-Nort', name]/share_pop\n",
    "    ST2.at['Scaled Metro North Ridership (without transfers)', name] = ST.at['Ridership Metro North Without Transfers', name]/share_pop\n",
    "\n",
    "\n",
    "    ST2.at['Scaled LIRR Ridership (with transfers)', name] = ST.at['Ridership Long_Islan', name]/share_pop\n",
    "    ST2.at['Scaled LIRR Ridership (without transfers)', name] = ST.at['Ridership LIRR Without Transfers', name]/share_pop\n",
    "    \n",
    "    try:\n",
    "        if ST.at['Ridership 151_631:t_', name] > 0:\n",
    "            ST2.at['Scaled PATH Ridership (with transfers)', name] = ST.at['Ridership 151_631:t_', name]/share_pop\n",
    "    except:      \n",
    "        ST2.at['Scaled PATH Ridership (with transfers)', name] = ST.at['Ridership path-nj-us', name]/share_pop\n",
    "\n",
    "    ST2.at['Scaled NJ BUS Ridership (with transfers)', name] = ST.at['Ridership NJ Transit Bus', name]/share_pop\n",
    "    ST2.at['Scaled NJ RAIL Ridership (with transfers)', name] = ST.at['Ridership NJ Transit Rail', name]/share_pop\n",
    "    ST2.at['Scaled NJ LIGHT RAIL Ridership (with transfers)', name] = ST.at['Ridership NJ Transit Light Rail', name]/share_pop\n",
    "    \n",
    "    for bin in range(len(binnames)):\n",
    "        bin = binnames[bin+1]\n",
    "        ST2.at['Share Mode Bike Miles '+bin, name] =  ST.at['Share Mode bike Miles '+bin, name]#+ST.at['Share Mode bike_transit Miles '+bin, name]\n",
    "        ST2.at['Share Mode Car Miles '+bin, name] =  ST.at['Share Mode car Miles '+bin, name]#+ST.at['Share Mode drive_transit Miles '+bin, name]\n",
    "        multimodal_shares = (ST.at['Share Mode bike_transit Miles '+bin, name]+\n",
    "                             ST.at['Share Mode drive_transit Miles '+bin, name]+\n",
    "                            ST.at['Share Mode ride_hail_transit Miles '+bin, name])\n",
    "        tot_transit = (ST.at['Share Mode bus Miles '+bin, name]+\n",
    "            ST.at['Share Mode ferry Miles '+bin, name]+\n",
    "            ST.at['Share Mode rail Miles '+bin, name]+\n",
    "            ST.at['Share Mode subway Miles '+bin, name]\n",
    "                    )\n",
    "        share_bus=ST.at['Share Mode bus Miles '+bin, name]/tot_transit\n",
    "        share_fer=ST.at['Share Mode ferry Miles '+bin, name]/tot_transit\n",
    "        share_rai=ST.at['Share Mode rail Miles '+bin, name]/tot_transit\n",
    "        share_sub=ST.at['Share Mode subway Miles '+bin, name]/tot_transit\n",
    "        ST2.at['Share Mode Bus Miles '+bin, name] =  ST.at['Share Mode bus Miles '+bin, name]+multimodal_shares*share_bus\n",
    "        ST2.at['Share Mode Ferry Miles '+bin, name] =  ST.at['Share Mode ferry Miles '+bin, name]+multimodal_shares*share_fer\n",
    "        ST2.at['Share Mode Rail Miles '+bin, name] =  ST.at['Share Mode rail Miles '+bin, name]+multimodal_shares*share_rai\n",
    "        ST2.at['Share Mode Subway Miles '+bin, name] =  ST.at['Share Mode subway Miles '+bin, name]+multimodal_shares*share_sub\n",
    "\n",
    "        try:\n",
    "            # st_rh = ST.at['Share Mode ride_hail Miles '+bin, name]\n",
    "            ST2.at['Share Mode Ridehail Miles '+bin, name] =  ST.at['Share Mode ride_hail Miles '+bin, name]#+ST.at['Share Mode ride_hail_transit Miles '+bin, name]\n",
    "            try:\n",
    "                ST2.at['Share Mode Ridehail Miles '+bin, name] =  ST.at['Share Mode ride_hail Miles '+bin, name]+ST.at['Share Mode ride_hail_pooled Miles '+bin, name]\n",
    "            except:\n",
    "                print('Ridehail is present, but not ridehail pooled')\n",
    "        except:\n",
    "            ST2.at['Share Mode Ridehail Miles '+bin, name] = 0\n",
    "            print('Warning, ride hail not in the simulation')\n",
    "        ST2.at['Share Mode Walk Miles '+bin, name] =  ST.at['Share Mode walk Miles '+bin, name]\n",
    "        ST2.at['Share Mode Other Miles '+bin, name] =  1-(ST2.at['Share Mode Bike Miles '+bin, name]+\n",
    "                                                            ST2.at['Share Mode Bus Miles '+bin, name]+\n",
    "                                                            ST2.at['Share Mode Car Miles '+bin, name]+\n",
    "                                                            ST2.at['Share Mode Ferry Miles '+bin, name]+\n",
    "                                                            ST2.at['Share Mode Rail Miles '+bin, name]+\n",
    "                                                            ST2.at['Share Mode Ridehail Miles '+bin, name]+\n",
    "                                                            ST2.at['Share Mode Subway Miles '+bin, name] +\n",
    "                                                            ST2.at['Share Mode Walk Miles '+bin, name])\n",
    "    \n",
    "    ST2.at['Activities AV per person Home', name] = ST.at['Activities AV per person Home', name]\n",
    "    ST2.at['Activities AV per person Meal', name] = ST.at['Activities AV per person Meal', name]  \n",
    "    ST2.at['Activities AV per person Shopping', name] = ST.at['Activities AV per person Shopping', name]  \n",
    "    ST2.at['Activities AV per person SocRec', name] = ST.at['Activities AV per person SocRec', name]  \n",
    "    ST2.at['Activities AV per person Work', name] = ST.at['Activities AV per person Work', name] \n",
    "    ST2.at['Activities AV per person Other', name] = ST.at['Activities AV per person Other', name] \n",
    "    \n",
    "ST2.at['Share Executed Transit Related Trips in a Day', 'Target Baseline'] = 'NHTS is 16.6%'\n",
    "ST2.at['Share Executed Bike Trips in a Day', 'Target Baseline'] = 'NHTS is 1.0%'\n",
    "ST2.at['Share Executed Car Trips in a Day', 'Target Baseline'] = 'NHTS is 53.9%'\n",
    "ST2.at['Share Executed Walk Trips in a Day', 'Target Baseline'] = 'NHTS is 26.1%'\n",
    "ST2.at['Share Executed Ride Hail Trips in a Day', 'Target Baseline'] = 'NHTS is 1.8%'\n",
    "ST2.at['Share Executed Other Trips in a Day', 'Target Baseline'] = 'NHTS is 0.6%'\n",
    "\n",
    "    \n",
    "ST2.at['Scaled PATH Ridership (with transfers)', 'Target Baseline'] = '297k'\n",
    "ST2.at['Scaled NJ BUS Ridership (with transfers)', 'Target Baseline'] =  '451k'\n",
    "ST2.at['Scaled NJ RAIL Ridership (with transfers)', 'Target Baseline'] =  '127k'\n",
    "ST2.at['Scaled NJ LIGHT RAIL Ridership (with transfers)', 'Target Baseline'] =  '14k'\n",
    "\n",
    "ST2.at['Scaled MTA BUS Ridership (with transfers)', 'Target Baseline'] = '≈2.19M'\n",
    "ST2.at['Scaled MTA BUS Ridership (with transfers)', 'Target 1 - 04-2020'] = '≈506k'\n",
    "ST2.at['Scaled MTA BUS Ridership (with transfers)', 'Target 2 - 08-2020'] = '≈1.21M'\n",
    "ST2.at['Scaled MTA BUS Ridership (with transfers)', 'Target 4 - 08-2021'] = '≈1.24M'\n",
    "ST2.at['Scaled MTA BUS Ridership (with transfers)', 'Target 3 - 01-2022'] = '≈1.04M'\n",
    "ST2.at['Scaled MTA BUS Ridership (with transfers)', 'Target 5 - 05-2022'] = '≈1.46M'\n",
    "ST2.at['Scaled MTA SUB Ridership (without transfers)', 'Target Baseline'] = '≈5.42M'\n",
    "ST2.at['Scaled MTA SUB Ridership (without transfers)', 'Target 1 - 04-2020'] = '≈508k'\n",
    "ST2.at['Scaled MTA SUB Ridership (without transfers)', 'Target 2 - 08-2020'] = '≈1.26M'\n",
    "ST2.at['Scaled MTA SUB Ridership (without transfers)', 'Target 3 - 01-2022'] = '≈2.25M'\n",
    "ST2.at['Scaled MTA SUB Ridership (without transfers)', 'Target 4 - 08-2021'] = '≈2.48M'\n",
    "ST2.at['Scaled MTA SUB Ridership (without transfers)', 'Target 5 - 05-2022'] = '≈3.34M'\n",
    "ST2.at['Subway vs Bus', 'Target Baseline', ] = '2.48'\n",
    "ST2.at['Subway vs Bus', 'Target 1 - 04-2020'] = '1.00'\n",
    "ST2.at['Subway vs Bus', 'Target 2 - 08-2020'] = '1.04'\n",
    "ST2.at['Subway vs Bus', 'Target 3 - 01-2022'] = '2.17'\n",
    "ST2.at['Subway vs Bus', 'Target 4 - 08-2021'] = '2.00'\n",
    "ST2.at['Subway vs Bus', 'Target 5 - 05-2022'] = '2.28'\n",
    "ST2.at['Scaled LIRR Ridership (without transfers)', 'Target Baseline'] = '≈250k'\n",
    "ST2.at['Scaled LIRR Ridership (without transfers)', 'Target 1 - 04-2020'] = '≈10k'\n",
    "ST2.at['Scaled LIRR Ridership (without transfers)', 'Target 2 - 08-2020'] = '≈60k'\n",
    "ST2.at['Scaled LIRR Ridership (without transfers)', 'Target 3 - 01-2022'] = '≈100k'\n",
    "ST2.at['Scaled LIRR Ridership (without transfers)', 'Target 4 - 08-2021'] = '≈123k'\n",
    "ST2.at['Scaled LIRR Ridership (without transfers)', 'Target 5 - 05-2022'] = '≈170k'\n",
    "ST2.at['Scaled Metro North Ridership (without transfers)','Target Baseline'] = '≈200k'\n",
    "ST2.at['Scaled Metro North Ridership (without transfers)', 'Target 1 - 04-2020'] = '≈14k'\n",
    "ST2.at['Scaled Metro North Ridership (without transfers)', 'Target 2 - 08-2020'] = '≈39k'\n",
    "ST2.at['Scaled Metro North Ridership (without transfers)', 'Target 3 - 01-2022'] = '≈80k'\n",
    "ST2.at['Scaled Metro North Ridership (without transfers)', 'Target 4 - 08-2021'] = '≈101k'\n",
    "ST2.at['Scaled Metro North Ridership (without transfers)', 'Target 5 - 05-2022'] = '≈149k'\n",
    "\n",
    "#########\n",
    "           \n",
    "ST2.at['Scaled PATH Ridership (with transfers)', 'Target 1 - 04-2020'] = '≈15k'\n",
    "ST2.at['Scaled PATH Ridership (with transfers)', 'Target 2 - 08-2020'] = '≈54k'\n",
    "ST2.at['Scaled PATH Ridership (with transfers)', 'Target 3 - 01-2022'] = '≈98k'\n",
    "ST2.at['Scaled PATH Ridership (with transfers)', 'Target 4 - 08-2021'] = '≈85k'\n",
    "# ST2.at['Ridership Metro North Subway Without Transfers', 'Target 5 - 07-2022'] = '≈5.4M'\n",
    "#########\n",
    "ST2.at['Scaled NJ BUS Ridership (with transfers)', 'Target 1 - 04-2020'] = '≈93k'\n",
    "ST2.at['Scaled NJ BUS Ridership (with transfers)', 'Target 2 - 08-2020'] = '≈219k'\n",
    "ST2.at['Scaled NJ BUS Ridership (with transfers)', 'Target 3 - 01-2022'] = '≈280k'\n",
    "ST2.at['Scaled NJ BUS Ridership (with transfers)', 'Target 4 - 08-2021'] = '≈232k'\n",
    "# ST2.at['Ridership Metro North Subway Without Transfers', 'Target 5 - 07-2022'] = '≈5.4M'\n",
    "#########\n",
    "ST2.at['Scaled NJ RAIL Ridership (with transfers)', 'Target 1 - 04-2020'] = '≈4k'\n",
    "ST2.at['Scaled NJ RAIL Ridership (with transfers)', 'Target 2 - 08-2020'] = '≈31k'\n",
    "ST2.at['Scaled NJ RAIL Ridership (with transfers)', 'Target 3 - 01-2022'] = '≈73k'\n",
    "ST2.at['Scaled NJ RAIL Ridership (with transfers)', 'Target 4 - 08-2021'] = '≈52k'\n",
    "# ST2.at['Ridership Metro North Subway Without Transfers', 'Target 5 - 07-2022'] = '≈5.4M'\n",
    "#########\n",
    "ST2.at['Scaled NJ LIGHT RAIL Ridership (with transfers)', 'Target 1 - 04-2020'] = '≈2k'\n",
    "ST2.at['Scaled NJ LIGHT RAIL Ridership (with transfers)', 'Target 2 - 08-2020'] = '≈6k'\n",
    "ST2.at['Scaled NJ LIGHT RAIL Ridership (with transfers)', 'Target 3 - 01-2022'] = '≈8k'\n",
    "ST2.at['Scaled NJ LIGHT RAIL Ridership (with transfers)', 'Target 4 - 08-2021'] = '≈7k'\n",
    "# ST2.at['Ridership Metro North Subway Without Transfers', 'Target 5 - 07-2022'] = '≈5.4M'\n",
    "\n",
    "   \n",
    "ST2.at['Share Mode Bike Miles 0-1', 'Target Baseline'] =  '0.86%'\n",
    "ST2.at['Share Mode Bus Miles 0-1', 'Target Baseline'] =  '1.92%'\n",
    "ST2.at['Share Mode Car Miles 0-1', 'Target Baseline'] =  '27.02%'\n",
    "ST2.at['Share Mode Ferry Miles 0-1', 'Target Baseline'] =  '0.00%'\n",
    "ST2.at['Share Mode Rail Miles 0-1', 'Target Baseline'] =  '0.03%'\n",
    "ST2.at['Share Mode Ridehail Miles 0-1', 'Target Baseline'] =  '0.51%'\n",
    "ST2.at['Share Mode Subway Miles 0-1', 'Target Baseline'] =  '0.73%'\n",
    "ST2.at['Share Mode Walk Miles 0-1', 'Target Baseline'] =  '68.61%'\n",
    "ST2.at['Share Mode Other Miles 0-1', 'Target Baseline'] =  '0.32%'\n",
    "\n",
    "ST2.at['Share Mode Bike Miles 1-2', 'Target Baseline'] =  '1.88%'\n",
    "ST2.at['Share Mode Bus Miles 1-2', 'Target Baseline'] =  '10.51%'\n",
    "ST2.at['Share Mode Car Miles 1-2', 'Target Baseline'] =  '62.69%'\n",
    "ST2.at['Share Mode Ferry Miles 1-2', 'Target Baseline'] =  '0.01%'\n",
    "ST2.at['Share Mode Rail Miles 1-2', 'Target Baseline'] =  '0.05%'\n",
    "ST2.at['Share Mode Ridehail Miles 1-2', 'Target Baseline'] =  '4.89%'\n",
    "ST2.at['Share Mode Subway Miles 1-2', 'Target Baseline'] =  '4.07%'\n",
    "ST2.at['Share Mode Walk Miles 1-2', 'Target Baseline'] =  '14.90%'\n",
    "ST2.at['Share Mode Other Miles 1-2', 'Target Baseline'] =  '1.00%'\n",
    "\n",
    "ST2.at['Share Mode Bike Miles 2-5', 'Target Baseline'] =  '1.57%'\n",
    "ST2.at['Share Mode Bus Miles 2-5', 'Target Baseline'] =  '9.69%'\n",
    "ST2.at['Share Mode Car Miles 2-5', 'Target Baseline'] =  '68.28%'\n",
    "ST2.at['Share Mode Ferry Miles 2-5', 'Target Baseline'] =  '0.00%'\n",
    "ST2.at['Share Mode Rail Miles 2-5', 'Target Baseline'] =  '0.00%'\n",
    "ST2.at['Share Mode Ridehail Miles 2-5', 'Target Baseline'] =  '3.03%'\n",
    "ST2.at['Share Mode Subway Miles 2-5', 'Target Baseline'] =  '13.26%'\n",
    "ST2.at['Share Mode Walk Miles 2-5', 'Target Baseline'] =  '3.18%'\n",
    "ST2.at['Share Mode Other Miles 2-5', 'Target Baseline'] =  '0.99%'\n",
    "\n",
    "ST2.at['Share Mode Bike Miles 5-15', 'Target Baseline'] =  '0.38%'\n",
    "ST2.at['Share Mode Bus Miles 5-15', 'Target Baseline'] =  '7.45%'\n",
    "ST2.at['Share Mode Car Miles 5-15', 'Target Baseline'] =  '67.58%'\n",
    "ST2.at['Share Mode Ferry Miles 5-15', 'Target Baseline'] =  '0.34%'\n",
    "ST2.at['Share Mode Rail Miles 5-15', 'Target Baseline'] =  '1.22%'\n",
    "ST2.at['Share Mode Ridehail Miles 5-15', 'Target Baseline'] =  '0.83%'\n",
    "ST2.at['Share Mode Subway Miles 5-15', 'Target Baseline'] =  '20.64%'\n",
    "ST2.at['Share Mode Walk Miles 5-15', 'Target Baseline'] =  '1.19%'\n",
    "ST2.at['Share Mode Other Miles 5-15', 'Target Baseline'] =  '0.38%'\n",
    "\n",
    "ST2.at['Share Mode Bike Miles 15+', 'Target Baseline'] =  '0.10%'\n",
    "ST2.at['Share Mode Bus Miles 15+', 'Target Baseline'] =  '6.05%'\n",
    "ST2.at['Share Mode Car Miles 15+', 'Target Baseline'] =  '72.21%'\n",
    "ST2.at['Share Mode Ferry Miles 15+', 'Target Baseline'] =  '0.33%'\n",
    "ST2.at['Share Mode Rail Miles 15+', 'Target Baseline'] =  '8.42%'\n",
    "ST2.at['Share Mode Ridehail Miles 15+', 'Target Baseline'] =  '1.43%'\n",
    "ST2.at['Share Mode Subway Miles 15+', 'Target Baseline'] =  '10.15%'\n",
    "ST2.at['Share Mode Walk Miles 15+', 'Target Baseline'] =  '0.61%'\n",
    "ST2.at['Share Mode Other Miles 15+', 'Target Baseline'] =  '0.70%'\n",
    "\n",
    "ST2.at['Activities AV per person Home', 'Target Baseline'] =  '1.307'\n",
    "ST2.at['Activities AV per person Meal', 'Target Baseline'] =  '0.260'\n",
    "ST2.at['Activities AV per person Shopping', 'Target Baseline'] =  '0.515'\n",
    "ST2.at['Activities AV per person SocRec', 'Target Baseline'] =  '0.431'\n",
    "ST2.at['Activities AV per person Work', 'Target Baseline'] =  '0.742'\n",
    "ST2.at['Activities AV per person Other', 'Target Baseline'] =  '0.566'\n",
    "\n",
    "\n",
    "\n",
    "ST2.to_csv('outputs/validationNYC16.csv')\n"
   ]
  },
  {
   "cell_type": "code",
   "execution_count": null,
   "id": "89f3dd13-44f5-4c2f-80c7-b19270080853",
   "metadata": {
    "tags": []
   },
   "outputs": [],
   "source": [
    "bridge_link_ids=[542014,88230,853928,779898,853900,30814,154,731748,1367888,487778,13722,\n",
    "                 1071576,62416,729848,765880,1090614,788122,788140,788118,1341064,53416,\n",
    "                 732358,865062,999610,\n",
    "                 308, 540388, #lincloln tunnel I 2\n",
    "                 87186, #lincloln tunnel O 2\n",
    "                 87176, 767820, #washington I\n",
    "                 88110, 735454, #washington O\n",
    "                 540918, #Holland Tunnel I\n",
    "                 87188, #Holland Tunnel O\n",
    "                 852460, #Outerbridge Crossing I\n",
    "                 852458, #Outerbridge Crossing O \n",
    "                 1226968, #Goethals Bridge I \n",
    "                 1292432, #Goethals Bridge O\n",
    "                 759498, #Bayonne Bridge I\n",
    "                 759500, #Bayonne Bridge O\n",
    "                ]\n",
    "\n",
    "for data_name, name, plan_name, share_pop in zip(data_names, names, plan_names, shares_pop):\n",
    "    # print(data_name)\n",
    "    #Contains flows\n",
    "    print(name,'...')\n",
    "    try:\n",
    "        pte = pd.read_csv(fp+data_name[:-13]+'linkstats.csv.gz')\n",
    "        #Contains coord\n",
    "        network = pd.read_csv(fp+data_name[:-(len(data_name.split('/')[-1])+len(data_name.split('/')[-2])+len(data_name.split('/')[-3])+2)]+'network.csv.gz')\n",
    "        pte = pte[pte['link'].isin(bridge_link_ids)]\n",
    "        network = network[network['linkId'].isin(bridge_link_ids)]\n",
    "\n",
    "        #Transfer volume info to the netork database\n",
    "        # share_pop = 0.1\n",
    "        volumes = []\n",
    "        pte.index = pte['link']\n",
    "        for link in network['linkId']:\n",
    "            volumes.append(np.sum(pte.at[link,'volume'])/share_pop)\n",
    "        network['volume'] = volumes\n",
    "\n",
    "        # Bridge_flows = pd.DataFrame()\n",
    "        ST2.at['henry_hudson_bridge I',name] = network.at[542014, 'volume']\n",
    "        ST2.at['henry_hudson_bridge O', name] =  network.at[88230, 'volume']\n",
    "        ST2.at['robert_f_kennedy_bridge Queen I',name] =  network.at[853928, 'volume']\n",
    "        ST2.at['robert_f_kennedy_bridge Queen O', name] =  network.at[779898, 'volume']\n",
    "        ST2.at['robert_f_kennedy_bridge Bronx I',name] =  network.at[853900, 'volume']\n",
    "        ST2.at['robert_f_kennedy_bridge Bronx O', name] =  network.at[30814, 'volume']\n",
    "        ST2.at['robert_f_kennedy_bridge Manh I',name] =  network.at[154, 'volume']\n",
    "        ST2.at['robert_f_kennedy_bridge Manh O', name] =  network.at[731748, 'volume']\n",
    "        ST2.at['queens_midtown_tunnel I',name] =  network.at[1367888, 'volume']\n",
    "        ST2.at['queens_midtown_tunnel O', name] =  network.at[487778, 'volume']\n",
    "        ST2.at['hugh_l_carey_tunnel I',name] =  network.at[13722, 'volume']\n",
    "        ST2.at['hugh_l_carey_tunnel O', name] =  network.at[1071576, 'volume']\n",
    "        ST2.at['bronx_whitestone_bridge I',name] =  network.at[62416, 'volume']\n",
    "        ST2.at['bronx_whitestone_bridge O', name] =  network.at[729848, 'volume']\n",
    "        ST2.at['throgs_neck_bridge I',name] =  network.at[765880, 'volume']\n",
    "        ST2.at['throgs_neck_bridge O',name] =  network.at[1090614, 'volume']\n",
    "        ST2.at['varrazzano_narrows_bridge I',name] =  network.at[788122, 'volume']+network.at[788140, 'volume']\n",
    "        ST2.at['varrazzano_narrows_bridge O',name] =  network.at[788118, 'volume']+ network.at[1341064, 'volume']\n",
    "        ST2.at['marine_parkwaygil_hodges_memorial_bridge I',name] =  network.at[53416, 'volume']\n",
    "        ST2.at['marine_parkwaygil_hodges_memorial_bridge O', name] =  network.at[732358, 'volume']\n",
    "        ST2.at['cross_bay_veterans_memorial_bridge I',name] =  network.at[865062, 'volume']\n",
    "        ST2.at['cross_bay_veterans_memorial_bridge O', name] =  network.at[999610, 'volume']\n",
    "\n",
    "        ST2.at['Lincoln Tunnel Total', name] =  network.at[540388, 'volume']+network.at[87186, 'volume'] #network.at[308, 'volume']\n",
    "        ST2.at['George Washington Bridge Total', name] =  network.at[87176, 'volume']+network.at[767820, 'volume']+network.at[88110, 'volume']+network.at[735454, 'volume']\n",
    "        ST2.at['Holland Tunnel Total', name] =  network.at[540918, 'volume']+network.at[87188, 'volume']\n",
    "        ST2.at['Outerbridge Crossing Total', name] =  network.at[852458, 'volume']+network.at[852460, 'volume']\n",
    "        ST2.at['Goethals Bridge Total',name] =  network.at[1226968, 'volume']+network.at[1292432, 'volume']\n",
    "        ST2.at['Bayonne Bridge Total', name] =  network.at[759498, 'volume']+network.at[759500, 'volume']\n",
    "\n",
    "        ST2.at['Lincoln Tunnel I', name] =  network.at[540388, 'volume'] #network.at[308, 'volume']\n",
    "        ST2.at['George Washington Bridge I', name] =  network.at[87176, 'volume']+network.at[767820, 'volume']\n",
    "        ST2.at['Holland Tunnel I', name] =  network.at[540918, 'volume']\n",
    "        ST2.at['Outerbridge Crossing I', name] =  network.at[852460, 'volume']\n",
    "        ST2.at['Goethals Bridge I', name] =  network.at[1226968, 'volume']\n",
    "        ST2.at['Bayonne Bridge I', name] =  network.at[759498, 'volume']\n",
    "\n",
    "        ST2.at['Lincoln Tunnel O', name] =  network.at[87186, 'volume']\n",
    "        ST2.at['George Washington Bridge O', name] = network.at[88110, 'volume']+network.at[735454, 'volume']\n",
    "        ST2.at['Holland Tunnel O', name] =  network.at[87188, 'volume']\n",
    "        ST2.at['Outerbridge Crossing O', name] =  network.at[852458, 'volume']\n",
    "        ST2.at['Goethals Bridge O', name] = network.at[1292432, 'volume']\n",
    "        ST2.at['Bayonne Bridge O', name] =  network.at[759500, 'volume']\n",
    "\n",
    "        ST2.at['PATH Bridge and Tunnel Counts Total', name] = (ST2.at['Lincoln Tunnel Total', name]+\n",
    "                                                             ST2.at['George Washington Bridge Total', name]+\n",
    "                                                             ST2.at['Holland Tunnel Total', name]+\n",
    "                                                             ST2.at['Outerbridge Crossing Total', name]+\n",
    "                                                             ST2.at['Goethals Bridge Total',name]+\n",
    "                                                             ST2.at['Bayonne Bridge Total', name])\n",
    "        ST2.at['PATH Bridge and Tunnel Counts Total O', name] = (ST2.at['Lincoln Tunnel O', name]+\n",
    "                                                             ST2.at['George Washington Bridge O', name]+\n",
    "                                                             ST2.at['Holland Tunnel O', name]+\n",
    "                                                             ST2.at['Outerbridge Crossing O', name]+\n",
    "                                                             ST2.at['Goethals Bridge O',name]+\n",
    "                                                             ST2.at['Bayonne Bridge O', name])\n",
    "        ST2.at['PATH Bridge and Tunnel Counts Total I', name] = (ST2.at['Lincoln Tunnel I', name]+\n",
    "                                                             ST2.at['George Washington Bridge I', name]+\n",
    "                                                             ST2.at['Holland Tunnel I', name]+\n",
    "                                                             ST2.at['Outerbridge Crossing I', name]+\n",
    "                                                             ST2.at['Goethals Bridge I',name]+\n",
    "                                                             ST2.at['Bayonne Bridge I', name])\n",
    "        ST2.at['MTA Bridge and Tunnel Counts Total', name] =     (ST2.at['henry_hudson_bridge I',name] +\n",
    "                                                            ST2.at['henry_hudson_bridge O', name] +\n",
    "                                                            ST2.at['robert_f_kennedy_bridge Queen I',name] +\n",
    "                                                            ST2.at['robert_f_kennedy_bridge Queen O', name] +\n",
    "                                                            ST2.at['robert_f_kennedy_bridge Bronx I',name] +\n",
    "                                                            ST2.at['robert_f_kennedy_bridge Bronx O', name] +\n",
    "                                                            ST2.at['robert_f_kennedy_bridge Manh I',name] +\n",
    "                                                            ST2.at['robert_f_kennedy_bridge Manh O', name] +\n",
    "                                                            ST2.at['queens_midtown_tunnel I',name] +\n",
    "                                                            ST2.at['queens_midtown_tunnel O', name] +\n",
    "                                                            ST2.at['hugh_l_carey_tunnel I',name] +\n",
    "                                                            ST2.at['hugh_l_carey_tunnel O', name] +\n",
    "                                                            ST2.at['bronx_whitestone_bridge I',name] +\n",
    "                                                            ST2.at['bronx_whitestone_bridge O', name] +\n",
    "                                                            ST2.at['throgs_neck_bridge I',name] +\n",
    "                                                            ST2.at['throgs_neck_bridge O',name] +\n",
    "                                                            ST2.at['varrazzano_narrows_bridge I',name] +\n",
    "                                                            ST2.at['varrazzano_narrows_bridge O',name] +\n",
    "                                                            ST2.at['marine_parkwaygil_hodges_memorial_bridge I',name] +\n",
    "                                                            ST2.at['marine_parkwaygil_hodges_memorial_bridge O', name] +\n",
    "                                                            ST2.at['cross_bay_veterans_memorial_bridge I',name] +\n",
    "                                                            ST2.at['cross_bay_veterans_memorial_bridge O', name])\n",
    "        ST2.at['MTA Bridge and Tunnel Counts Total I', name] =     (ST2.at['henry_hudson_bridge I',name] +\n",
    "                                                            ST2.at['robert_f_kennedy_bridge Queen I',name] +\n",
    "                                                            ST2.at['robert_f_kennedy_bridge Bronx I',name] +\n",
    "                                                            ST2.at['robert_f_kennedy_bridge Manh I',name] +\n",
    "                                                            ST2.at['queens_midtown_tunnel I',name] +\n",
    "                                                            ST2.at['hugh_l_carey_tunnel I',name] +\n",
    "                                                            ST2.at['bronx_whitestone_bridge I',name] +\n",
    "                                                            ST2.at['throgs_neck_bridge I',name] +\n",
    "                                                            ST2.at['varrazzano_narrows_bridge I',name] +\n",
    "                                                            ST2.at['marine_parkwaygil_hodges_memorial_bridge I',name] +\n",
    "                                                            ST2.at['cross_bay_veterans_memorial_bridge I',name] )\n",
    "        ST2.at['MTA Bridge and Tunnel Counts Total O', name] =     (\n",
    "                                                            ST2.at['henry_hudson_bridge O', name] +\n",
    "                                                            ST2.at['robert_f_kennedy_bridge Queen O', name] +\n",
    "                                                            ST2.at['robert_f_kennedy_bridge Bronx O', name] +\n",
    "                                                            ST2.at['robert_f_kennedy_bridge Manh O', name] +\n",
    "                                                            ST2.at['queens_midtown_tunnel O', name] +\n",
    "                                                            ST2.at['hugh_l_carey_tunnel O', name] +\n",
    "                                                            ST2.at['bronx_whitestone_bridge O', name] +\n",
    "                                                            ST2.at['throgs_neck_bridge O',name] +\n",
    "                                                            ST2.at['varrazzano_narrows_bridge O',name] +\n",
    "                                                            ST2.at['marine_parkwaygil_hodges_memorial_bridge O', name] +\n",
    "                                                            ST2.at['cross_bay_veterans_memorial_bridge O', name])\n",
    "        ST2.at['MTA Bridge and Tunnel Counts Total - only observed bridges/tunnels', name] =     (ST2.at['henry_hudson_bridge I',name] +\n",
    "                                                            ST2.at['henry_hudson_bridge O', name] +\n",
    "                                                            # ST2.at['robert_f_kennedy_bridge Queen I',name] +\n",
    "                                                            # ST2.at['robert_f_kennedy_bridge Manh O', name] +\n",
    "                                                            ST2.at['queens_midtown_tunnel I',name] +\n",
    "                                                            ST2.at['queens_midtown_tunnel O', name] +\n",
    "                                                            ST2.at['hugh_l_carey_tunnel I',name] +\n",
    "                                                            ST2.at['hugh_l_carey_tunnel O', name] +\n",
    "                                                            ST2.at['bronx_whitestone_bridge I',name] +\n",
    "                                                            ST2.at['bronx_whitestone_bridge O', name] +\n",
    "                                                            ST2.at['throgs_neck_bridge I',name] +\n",
    "                                                            ST2.at['throgs_neck_bridge O',name] +\n",
    "                                                            # ST2.at['varrazzano_narrows_bridge O',name] +\n",
    "                                                            ST2.at['marine_parkwaygil_hodges_memorial_bridge I',name] +\n",
    "                                                            ST2.at['marine_parkwaygil_hodges_memorial_bridge O', name] +\n",
    "                                                            ST2.at['cross_bay_veterans_memorial_bridge I',name] +\n",
    "                                                            ST2.at['cross_bay_veterans_memorial_bridge O', name])\n",
    "        ST2.at['MTA Bridge and Tunnel Counts Total I- only observed bridges/tunnels', name] =     (ST2.at['henry_hudson_bridge I',name] +\n",
    "                                                            # ST2.at['robert_f_kennedy_bridge Queen I',name] +\n",
    "                                                            ST2.at['queens_midtown_tunnel I',name] +\n",
    "                                                            ST2.at['hugh_l_carey_tunnel I',name] +\n",
    "                                                            ST2.at['bronx_whitestone_bridge I',name] +\n",
    "                                                            ST2.at['throgs_neck_bridge I',name] +\n",
    "                                                            ST2.at['marine_parkwaygil_hodges_memorial_bridge I',name] +\n",
    "                                                            ST2.at['cross_bay_veterans_memorial_bridge I',name])\n",
    "        ST2.at['MTA Bridge and Tunnel Counts Total O- only observed bridges/tunnels', name] =     (\n",
    "                                                            ST2.at['henry_hudson_bridge O', name] +\n",
    "                                                            # ST2.at['robert_f_kennedy_bridge Manh O', name] +\n",
    "                                                            ST2.at['queens_midtown_tunnel O', name] +\n",
    "                                                            ST2.at['hugh_l_carey_tunnel O', name] +\n",
    "                                                            ST2.at['bronx_whitestone_bridge O', name] +\n",
    "                                                            ST2.at['throgs_neck_bridge O',name] +\n",
    "                                                            # ST2.at['varrazzano_narrows_bridge O',name] +\n",
    "                                                            ST2.at['marine_parkwaygil_hodges_memorial_bridge O', name] +\n",
    "                                                            ST2.at['cross_bay_veterans_memorial_bridge O', name])\n",
    "    except:\n",
    "        print('Warning: no linkstat')\n",
    "ST2.at['MTA Bridge and Tunnel Counts Total', 'Target Baseline'] = '≈907k'\n",
    "ST2.at['MTA Bridge and Tunnel Counts Total', 'Target 1 - 04-2020'] = '≈341k'\n",
    "ST2.at['MTA Bridge and Tunnel Counts Total', 'Target 2 - 08-2020'] = '≈787k'\n",
    "ST2.at['MTA Bridge and Tunnel Counts Total', 'Target 3 - 01-2022'] = '≈695k'\n",
    "ST2.at['MTA Bridge and Tunnel Counts Total', 'Target 4 - 08-2021'] = '≈933k'\n",
    "ST2.at['MTA Bridge and Tunnel Counts Total', 'Target 5 - 05-2022'] = '≈955k'\n",
    "\n",
    "######################BASELINE############################################\n",
    "\n",
    "ST2.at['Lincoln Tunnel I', 'Target Baseline'] =  40652\n",
    "ST2.at['George Washington Bridge I', 'Target Baseline'] =  128820\n",
    "ST2.at['Holland Tunnel I', 'Target Baseline'] = 41931\n",
    "ST2.at['Outerbridge Crossing I', 'Target Baseline'] =  38062\n",
    "ST2.at['Goethals Bridge I','Target Baseline'] =  42795\n",
    "ST2.at['Bayonne Bridge I', 'Target Baseline'] =  9603\n",
    "ST2.at['PATH Bridge and Tunnel Counts Total I', 'Target Baseline'] =  (ST2.at['Lincoln Tunnel I', 'Target Baseline']+\n",
    "                                                               ST2.at['George Washington Bridge I', 'Target Baseline']+\n",
    "                                                               ST2.at['Holland Tunnel I', 'Target Baseline']+\n",
    "                                                               ST2.at['Outerbridge Crossing I', 'Target Baseline']+\n",
    "                                                               ST2.at['Goethals Bridge I','Target Baseline']+\n",
    "                                                               ST2.at['Bayonne Bridge I', 'Target Baseline'])\n",
    "\n",
    "\n",
    "ST2.at['Lincoln Tunnel I', 'Target 1 - 04-2020'] =  383971/(8*1.182+22)\n",
    "ST2.at['George Washington Bridge I', 'Target 1 - 04-2020'] =  1529569/(8*1.133+22)\n",
    "ST2.at['Holland Tunnel I', 'Target 1 - 04-2020'] = 426493/(8*1.088+22)\n",
    "ST2.at['Outerbridge Crossing I', 'Target 1 - 04-2020'] =  491532/(8*1.156+22)\n",
    "ST2.at['Goethals Bridge I','Target 1 - 04-2020'] =  486631/(8*1.1566+22)\n",
    "ST2.at['Bayonne Bridge I', 'Target 1 - 04-2020'] =  127847/(8*1.041+22)\n",
    "ST2.at['PATH Bridge and Tunnel Counts Total I', 'Target 1 - 04-2020'] =  (ST2.at['Lincoln Tunnel I', 'Target 1 - 04-2020']+\n",
    "                                                               ST2.at['George Washington Bridge I', 'Target 1 - 04-2020']+\n",
    "                                                               ST2.at['Holland Tunnel I', 'Target 1 - 04-2020']+\n",
    "                                                               ST2.at['Outerbridge Crossing I', 'Target 1 - 04-2020']+\n",
    "                                                               ST2.at['Goethals Bridge I','Target 1 - 04-2020']+\n",
    "                                                               ST2.at['Bayonne Bridge I', 'Target 1 - 04-2020'])\n",
    "                                                                                                   \n",
    "\n",
    "ST2.at['Lincoln Tunnel I', 'Target 2 - 08-2020'] =  1130222/(10*1.182+21)\n",
    "ST2.at['George Washington Bridge I', 'Target 2 - 08-2020'] =  3818395/(10*1.133+21)\n",
    "ST2.at['Holland Tunnel I', 'Target 2 - 08-2020'] = 1012757/(10*1.088+21)\n",
    "ST2.at['Outerbridge Crossing I', 'Target 2 - 08-2020'] =  1188595/(10*1.156+21)\n",
    "ST2.at['Goethals Bridge I','Target 2 - 08-2020'] =  1303366/(10*1.1566+21)\n",
    "ST2.at['Bayonne Bridge I', 'Target 2 - 08-2020'] =  257493/(10*1.041+21)\n",
    "ST2.at['PATH Bridge and Tunnel Counts Total I', 'Target 2 - 08-2020'] =  (ST2.at['Lincoln Tunnel I', 'Target 2 - 08-2020']+\n",
    "                                                               ST2.at['George Washington Bridge I', 'Target 2 - 08-2020']+\n",
    "                                                               ST2.at['Holland Tunnel I', 'Target 2 - 08-2020']+\n",
    "                                                               ST2.at['Outerbridge Crossing I', 'Target 2 - 08-2020']+\n",
    "                                                               ST2.at['Goethals Bridge I','Target 2 - 08-2020']+\n",
    "                                                               ST2.at['Bayonne Bridge I', 'Target 2 - 08-2020'])\n",
    "                                                                \n",
    "\n",
    "ST2.at['Lincoln Tunnel I', 'Target 3 - 01-2022'] =  1135056/(12*1.182+19)\n",
    "ST2.at['George Washington Bridge I', 'Target 3 - 01-2022'] =  3190102/(12*1.133+19)\n",
    "ST2.at['Holland Tunnel I', 'Target 3 - 01-2022'] = 1013607/(12*1.088+19)\n",
    "ST2.at['Outerbridge Crossing I', 'Target 3 - 01-2022'] =  933625/(12*1.156+19)\n",
    "ST2.at['Goethals Bridge I','Target 3 - 01-2022'] =  1096469/(12*1.1566+19)\n",
    "ST2.at['Bayonne Bridge I', 'Target 3 - 01-2022'] =  235078/(12*1.041+19)\n",
    "ST2.at['PATH Bridge and Tunnel Counts Total I', 'Target 3 - 01-2022'] =  (ST2.at['Lincoln Tunnel I', 'Target 3 - 01-2022']+\n",
    "                                                               ST2.at['George Washington Bridge I', 'Target 3 - 01-2022']+\n",
    "                                                               ST2.at['Holland Tunnel I', 'Target 3 - 01-2022']+\n",
    "                                                               ST2.at['Outerbridge Crossing I', 'Target 3 - 01-2022']+\n",
    "                                                               ST2.at['Goethals Bridge I','Target 3 - 01-2022']+\n",
    "                                                               ST2.at['Bayonne Bridge I', 'Target 3 - 01-2022'])\n",
    "ST2.at['Lincoln Tunnel I', 'Target 4 - 08-2021'] =  1406138/(9*1.182+22)\n",
    "ST2.at['George Washington Bridge I', 'Target 4 - 08-2021'] =  4216928/(9*1.133+22)\n",
    "ST2.at['Holland Tunnel I', 'Target 4 - 08-2021'] = 1211681/(9*1.088+22)\n",
    "ST2.at['Outerbridge Crossing I', 'Target 4 - 08-2021'] =  1235441/(9*1.156+22)\n",
    "ST2.at['Goethals Bridge I','Target 4 - 08-2021'] =  1428752/(9*1.1566+22)\n",
    "ST2.at['Bayonne Bridge I', 'Target 4 - 08-2021'] =  321481/(9*1.041+22)\n",
    "ST2.at['PATH Bridge and Tunnel Counts Total I', 'Target 4 - 08-2021'] =  (ST2.at['Lincoln Tunnel I', 'Target 4 - 08-2021']+\n",
    "                                                               ST2.at['George Washington Bridge I', 'Target 4 - 08-2021']+\n",
    "                                                               ST2.at['Holland Tunnel I', 'Target 4 - 08-2021']+\n",
    "                                                               ST2.at['Outerbridge Crossing I', 'Target 4 - 08-2021']+\n",
    "                                                               ST2.at['Goethals Bridge I','Target 4 - 08-2021']+\n",
    "                                                               ST2.at['Bayonne Bridge I', 'Target 4 - 08-2021'])\n",
    "obs_data = pd.read_csv('inputs/Daily_Traffic_on_MTA_Bridges___Tunnels.csv')\n",
    "\n",
    "obs_data=obs_data[(obs_data['Date']=='03/02/2020')|\n",
    "                 (obs_data['Date']=='03/03/2020')|\n",
    "                 (obs_data['Date']=='03/04/2020')|\n",
    "                 (obs_data['Date']=='03/05/2020')|\n",
    "                 (obs_data['Date']=='03/06/2020')]\n",
    "\n",
    "obs_data['Total Flow'] = obs_data['# Vehicles - E-ZPass']+obs_data['# Vehicles - VToll']\n",
    "ST2.at['henry_hudson_bridge I','Target Baseline'] =  np.mean(obs_data['Total Flow']\n",
    "                                                               [(obs_data['Plaza ID']==24)&(obs_data['Direction']=='I')])\n",
    "ST2.at['henry_hudson_bridge O', 'Target Baseline'] =     np.mean(obs_data['Total Flow']\n",
    "                                                               [(obs_data['Plaza ID']==24)&(obs_data['Direction']=='O')])\n",
    "# ST2.at['robert_f_kennedy_bridge Queen I','Target Baseline'] =  np.mean(obs_data['Total Flow']\n",
    "#                                                                [(obs_data['Plaza ID']==21)&(obs_data['Direction']=='I')])\n",
    "# ST2.at['robert_f_kennedy_bridge Queen O', 'Target Baseline'] =  np.mean(obs_data['Total Flow']\n",
    "#                                                                [(obs_data['Plaza ID']==21)&(obs_data['Direction']=='O')])\n",
    "# Bridge_flows.at['robert_f_kennedy_bridge Bronx I','observed'] =  np.mean(obs_data['Total Flow']\n",
    "#                                                                [(obs_data['Plaza ID']==)&(obs_data['Direction']=='I')])\n",
    "# Bridge_flows.at['robert_f_kennedy_bridge Bronx O', 'observed'] =  np.mean(obs_data['Total Flow']\n",
    "#                                                                [(obs_data['Plaza ID']==)&(obs_data['Direction']=='O')])\n",
    "# ST2.at['robert_f_kennedy_bridge Manh I','Target Baseline'] =  np.mean(obs_data['Total Flow']\n",
    "#                                                                [(obs_data['Plaza ID']==22)&(obs_data['Direction']=='I')])\n",
    "# ST2.at['robert_f_kennedy_bridge Manh O', 'Target Baseline'] =  np.mean(obs_data['Total Flow']\n",
    "#                                                                [(obs_data['Plaza ID']==22)&(obs_data['Direction']=='O')])\n",
    "ST2.at['queens_midtown_tunnel I','Target Baseline'] =    np.mean(obs_data['Total Flow']\n",
    "                                                               [(obs_data['Plaza ID']==27)&(obs_data['Direction']=='I')])\n",
    "ST2.at['queens_midtown_tunnel O', 'Target Baseline'] =     np.mean(obs_data['Total Flow']\n",
    "                                                               [(obs_data['Plaza ID']==27)&(obs_data['Direction']=='O')])\n",
    "ST2.at['hugh_l_carey_tunnel I','Target Baseline'] =    np.mean(obs_data['Total Flow']\n",
    "                                                               [(obs_data['Plaza ID']==28)&(obs_data['Direction']=='I')])\n",
    "ST2.at['hugh_l_carey_tunnel O', 'Target Baseline'] =     np.mean(obs_data['Total Flow']\n",
    "                                                               [(obs_data['Plaza ID']==28)&(obs_data['Direction']=='O')])\n",
    "ST2.at['bronx_whitestone_bridge I','Target Baseline'] =    np.mean(obs_data['Total Flow']\n",
    "                                                               [(obs_data['Plaza ID']==23)&(obs_data['Direction']=='I')])\n",
    "ST2.at['bronx_whitestone_bridge O', 'Target Baseline'] =    np.mean(obs_data['Total Flow']\n",
    "                                                               [(obs_data['Plaza ID']==23)&(obs_data['Direction']=='O')])\n",
    "ST2.at['throgs_neck_bridge I','Target Baseline'] =    np.mean(obs_data['Total Flow']\n",
    "                                                               [(obs_data['Plaza ID']==29)&(obs_data['Direction']=='I')])\n",
    "ST2.at['throgs_neck_bridge O', 'Target Baseline'] =    np.mean(obs_data['Total Flow']\n",
    "                                                               [(obs_data['Plaza ID']==29)&(obs_data['Direction']=='O')])\n",
    "# ST2.at['varrazzano_narrows_bridge I','Target Baseline'] =  np.mean(obs_data['Total Flow']\n",
    "#                                                                [(obs_data['Plaza ID']==30)&(obs_data['Direction']=='I')])\n",
    "# ST2.at['varrazzano_narrows_bridge O', 'Target Baseline'] =     np.mean(obs_data['Total Flow']\n",
    "#                                                                [(obs_data['Plaza ID']==30)&(obs_data['Direction']=='O')])\n",
    "ST2.at['marine_parkwaygil_hodges_memorial_bridge I','Target Baseline'] =   np.mean(obs_data['Total Flow']\n",
    "                                                               [(obs_data['Plaza ID']==25)&(obs_data['Direction']=='I')])\n",
    "ST2.at['marine_parkwaygil_hodges_memorial_bridge O', 'Target Baseline'] =   np.mean(obs_data['Total Flow']\n",
    "                                                               [(obs_data['Plaza ID']==25)&(obs_data['Direction']=='O')])\n",
    "ST2.at['cross_bay_veterans_memorial_bridge I','Target Baseline'] =    np.mean(obs_data['Total Flow']\n",
    "                                                               [(obs_data['Plaza ID']==26)&(obs_data['Direction']=='I')])\n",
    "ST2.at['cross_bay_veterans_memorial_bridge O', 'Target Baseline'] =   np.mean(obs_data['Total Flow']\n",
    "                                                               [(obs_data['Plaza ID']==26)&(obs_data['Direction']=='O')])\n",
    "ST2.at['MTA Bridge and Tunnel Counts Total - only observed bridges/tunnels', 'Target Baseline'] = (ST2.at['henry_hudson_bridge I','Target Baseline'] +\n",
    "                                                            ST2.at['henry_hudson_bridge O', 'Target Baseline'] +\n",
    "                                                            # ST2.at['robert_f_kennedy_bridge Queen I','Target Baseline'] +\n",
    "                                                            # ST2.at['robert_f_kennedy_bridge Queen O', 'Target Baseline'] +\n",
    "                                                            # Bridge_flows.at['robert_f_kennedy_bridge Bronx I','observed'] =  np.mean(obs_data['Total Flow']\n",
    "                                                            #                                                                [(obs_data['Plaza ID']==)&(obs_data['Direction']=='I')])\n",
    "                                                            # Bridge_flows.at['robert_f_kennedy_bridge Bronx O', 'observed'] =  np.mean(obs_data['Total Flow']\n",
    "                                                            #                                                                [(obs_data['Plaza ID']==)&(obs_data['Direction']=='O')])\n",
    "                                                            # ST2.at['robert_f_kennedy_bridge Manh I','Target Baseline'] +\n",
    "                                                            # ST2.at['robert_f_kennedy_bridge Manh O', 'Target Baseline'] +\n",
    "                                                            ST2.at['queens_midtown_tunnel I','Target Baseline'] +\n",
    "                                                            ST2.at['queens_midtown_tunnel O', 'Target Baseline'] +\n",
    "                                                            ST2.at['hugh_l_carey_tunnel I','Target Baseline'] +\n",
    "                                                            ST2.at['hugh_l_carey_tunnel O', 'Target Baseline'] +\n",
    "                                                            ST2.at['bronx_whitestone_bridge I','Target Baseline'] +\n",
    "                                                            ST2.at['bronx_whitestone_bridge O', 'Target Baseline'] +\n",
    "                                                            ST2.at['throgs_neck_bridge I','Target Baseline'] +\n",
    "                                                            ST2.at['throgs_neck_bridge O', 'Target Baseline'] +\n",
    "                                                            # ST2.at['varrazzano_narrows_bridge I','Target Baseline'] +\n",
    "                                                            # ST2.at['varrazzano_narrows_bridge O', 'Target Baseline'] +\n",
    "                                                            ST2.at['marine_parkwaygil_hodges_memorial_bridge I','Target Baseline'] +\n",
    "                                                            ST2.at['marine_parkwaygil_hodges_memorial_bridge O', 'Target Baseline'] +\n",
    "                                                            ST2.at['cross_bay_veterans_memorial_bridge I','Target Baseline'] +\n",
    "                                                            ST2.at['cross_bay_veterans_memorial_bridge O', 'Target Baseline']) \n",
    "ST2.at['MTA Bridge and Tunnel Counts Total I- only observed bridges/tunnels', 'Target Baseline'] = (ST2.at['henry_hudson_bridge I','Target Baseline'] +\n",
    "                                                            # ST2.at['robert_f_kennedy_bridge Queen I','Target Baseline'] +\n",
    "                                                            # ST2.at['robert_f_kennedy_bridge Queen O', 'Target Baseline'] +\n",
    "                                                            # Bridge_flows.at['robert_f_kennedy_bridge Bronx I','observed'] =  np.mean(obs_data['Total Flow']\n",
    "                                                            #                                                                [(obs_data['Plaza ID']==)&(obs_data['Direction']=='I')])\n",
    "                                                            # Bridge_flows.at['robert_f_kennedy_bridge Bronx O', 'observed'] =  np.mean(obs_data['Total Flow']\n",
    "                                                            #                                                                [(obs_data['Plaza ID']==)&(obs_data['Direction']=='O')])\n",
    "                                                            # ST2.at['robert_f_kennedy_bridge Manh I','Target Baseline'] +\n",
    "                                                            ST2.at['queens_midtown_tunnel I','Target Baseline'] +\n",
    "                                                            ST2.at['hugh_l_carey_tunnel I','Target Baseline'] +\n",
    "                                                            ST2.at['bronx_whitestone_bridge I','Target Baseline'] +\n",
    "                                                            ST2.at['throgs_neck_bridge I','Target Baseline'] +\n",
    "                                                            # ST2.at['varrazzano_narrows_bridge I','Target Baseline'] +\n",
    "                                                            ST2.at['marine_parkwaygil_hodges_memorial_bridge I','Target Baseline'] +\n",
    "                                                            ST2.at['cross_bay_veterans_memorial_bridge I','Target Baseline'] )\n",
    "ST2.at['MTA Bridge and Tunnel Counts Total O- only observed bridges/tunnels', 'Target Baseline'] = (\n",
    "                                                            ST2.at['henry_hudson_bridge O', 'Target Baseline'] +\n",
    "                                                            # ST2.at['robert_f_kennedy_bridge Queen O', 'Target Baseline'] +\n",
    "                                                            # Bridge_flows.at['robert_f_kennedy_bridge Bronx I','observed'] =  np.mean(obs_data['Total Flow']\n",
    "                                                            #                                                                [(obs_data['Plaza ID']==)&(obs_data['Direction']=='I')])\n",
    "                                                            # Bridge_flows.at['robert_f_kennedy_bridge Bronx O', 'observed'] =  np.mean(obs_data['Total Flow']\n",
    "                                                            #                                                                [(obs_data['Plaza ID']==)&(obs_data['Direction']=='O')])\n",
    "                                                            # ST2.at['robert_f_kennedy_bridge Manh I','Target Baseline'] +\n",
    "                                                            # ST2.at['robert_f_kennedy_bridge Manh O', 'Target Baseline'] +\n",
    "                                                            ST2.at['queens_midtown_tunnel O', 'Target Baseline'] +\n",
    "                                                            ST2.at['hugh_l_carey_tunnel O', 'Target Baseline'] +\n",
    "                                                            ST2.at['bronx_whitestone_bridge O', 'Target Baseline'] +\n",
    "                                                            ST2.at['throgs_neck_bridge O', 'Target Baseline'] +\n",
    "                                                            # ST2.at['varrazzano_narrows_bridge I','Target Baseline'] +\n",
    "                                                            # ST2.at['varrazzano_narrows_bridge O', 'Target Baseline'] +\n",
    "                                                            ST2.at['marine_parkwaygil_hodges_memorial_bridge O', 'Target Baseline'] +\n",
    "                                                            ST2.at['cross_bay_veterans_memorial_bridge O', 'Target Baseline']) \n",
    "######################Scenario1############################################\n",
    "obs_data = pd.read_csv('inputs/Daily_Traffic_on_MTA_Bridges___Tunnels.csv')\n",
    "\n",
    "obs_data=obs_data[(obs_data['Date']=='04/03/2020')|\n",
    "                 (obs_data['Date']=='04/02/2020')|\n",
    "                 (obs_data['Date']=='04/01/2020')|\n",
    "                 (obs_data['Date']=='03/31/2020')|\n",
    "                 (obs_data['Date']=='03/30/2020')]\n",
    "\n",
    "obs_data['Total Flow'] = obs_data['# Vehicles - E-ZPass']+obs_data['# Vehicles - VToll']\n",
    "ST2.at['henry_hudson_bridge I','Target 1 - 04-2020'] =  np.mean(obs_data['Total Flow']\n",
    "                                                               [(obs_data['Plaza ID']==24)&(obs_data['Direction']=='I')])\n",
    "ST2.at['henry_hudson_bridge O', 'Target 1 - 04-2020'] =     np.mean(obs_data['Total Flow']\n",
    "                                                               [(obs_data['Plaza ID']==24)&(obs_data['Direction']=='O')])\n",
    "# ST2.at['robert_f_kennedy_bridge Queen I','Target 1 - 04-2020'] =  np.mean(obs_data['Total Flow']\n",
    "#                                                                [(obs_data['Plaza ID']==21)&(obs_data['Direction']=='I')])\n",
    "# ST2.at['robert_f_kennedy_bridge Queen O', 'Target 1 - 04-2020'] =  np.mean(obs_data['Total Flow']\n",
    "                                                               # [(obs_data['Plaza ID']==21)&(obs_data['Direction']=='O')])\n",
    "# Bridge_flows.at['robert_f_kennedy_bridge Bronx I','observed'] =  np.mean(obs_data['Total Flow']\n",
    "#                                                                [(obs_data['Plaza ID']==)&(obs_data['Direction']=='I')])\n",
    "# Bridge_flows.at['robert_f_kennedy_bridge Bronx O', 'observed'] =  np.mean(obs_data['Total Flow']\n",
    "#                                                                [(obs_data['Plaza ID']==)&(obs_data['Direction']=='O')])\n",
    "# ST2.at['robert_f_kennedy_bridge Manh I','Target 1 - 04-2020'] =  np.mean(obs_data['Total Flow']\n",
    "#                                                                [(obs_data['Plaza ID']==22)&(obs_data['Direction']=='I')])\n",
    "# ST2.at['robert_f_kennedy_bridge Manh O', 'Target 1 - 04-2020'] =  np.mean(obs_data['Total Flow']\n",
    "                                                               # [(obs_data['Plaza ID']==22)&(obs_data['Direction']=='O')])\n",
    "ST2.at['queens_midtown_tunnel I','Target 1 - 04-2020'] =    np.mean(obs_data['Total Flow']\n",
    "                                                               [(obs_data['Plaza ID']==27)&(obs_data['Direction']=='I')])\n",
    "ST2.at['queens_midtown_tunnel O', 'Target 1 - 04-2020'] =     np.mean(obs_data['Total Flow']\n",
    "                                                               [(obs_data['Plaza ID']==27)&(obs_data['Direction']=='O')])\n",
    "ST2.at['hugh_l_carey_tunnel I','Target 1 - 04-2020'] =    np.mean(obs_data['Total Flow']\n",
    "                                                               [(obs_data['Plaza ID']==28)&(obs_data['Direction']=='I')])\n",
    "ST2.at['hugh_l_carey_tunnel O', 'Target 1 - 04-2020'] =     np.mean(obs_data['Total Flow']\n",
    "                                                               [(obs_data['Plaza ID']==28)&(obs_data['Direction']=='O')])\n",
    "ST2.at['bronx_whitestone_bridge I','Target 1 - 04-2020'] =    np.mean(obs_data['Total Flow']\n",
    "                                                               [(obs_data['Plaza ID']==23)&(obs_data['Direction']=='I')])\n",
    "ST2.at['bronx_whitestone_bridge O', 'Target 1 - 04-2020'] =    np.mean(obs_data['Total Flow']\n",
    "                                                               [(obs_data['Plaza ID']==23)&(obs_data['Direction']=='O')])\n",
    "ST2.at['throgs_neck_bridge I','Target 1 - 04-2020'] =    np.mean(obs_data['Total Flow']\n",
    "                                                               [(obs_data['Plaza ID']==29)&(obs_data['Direction']=='I')])\n",
    "ST2.at['throgs_neck_bridge O', 'Target 1 - 04-2020'] =    np.mean(obs_data['Total Flow']\n",
    "                                                               [(obs_data['Plaza ID']==29)&(obs_data['Direction']=='O')])\n",
    "# ST2.at['varrazzano_narrows_bridge I','Target 1 - 04-2020'] =  np.mean(obs_data['Total Flow']\n",
    "#                                                                [(obs_data['Plaza ID']==30)&(obs_data['Direction']=='I')])\n",
    "# ST2.at['varrazzano_narrows_bridge O', 'Target 1 - 04-2020'] =     np.mean(obs_data['Total Flow']\n",
    "#                                                                [(obs_data['Plaza ID']==30)&(obs_data['Direction']=='O')])\n",
    "ST2.at['marine_parkwaygil_hodges_memorial_bridge I','Target 1 - 04-2020'] =   np.mean(obs_data['Total Flow']\n",
    "                                                               [(obs_data['Plaza ID']==25)&(obs_data['Direction']=='I')])\n",
    "ST2.at['marine_parkwaygil_hodges_memorial_bridge O', 'Target 1 - 04-2020'] =   np.mean(obs_data['Total Flow']\n",
    "                                                               [(obs_data['Plaza ID']==25)&(obs_data['Direction']=='O')])\n",
    "ST2.at['cross_bay_veterans_memorial_bridge I','Target 1 - 04-2020'] =    np.mean(obs_data['Total Flow']\n",
    "                                                               [(obs_data['Plaza ID']==26)&(obs_data['Direction']=='I')])\n",
    "ST2.at['cross_bay_veterans_memorial_bridge O', 'Target 1 - 04-2020'] =   np.mean(obs_data['Total Flow']\n",
    "                                                               [(obs_data['Plaza ID']==26)&(obs_data['Direction']=='O')])\n",
    "\n",
    "ST2.at['MTA Bridge and Tunnel Counts Total - only observed bridges/tunnels', 'Target 1 - 04-2020'] = (ST2.at['henry_hudson_bridge I','Target 1 - 04-2020'] +\n",
    "                                                            ST2.at['henry_hudson_bridge O', 'Target 1 - 04-2020'] +\n",
    "                                                            # ST2.at['robert_f_kennedy_bridge Queen I','Target 1 - 04-2020'] +\n",
    "                                                            # ST2.at['robert_f_kennedy_bridge Queen O', 'Target 1 - 04-2020'] +\n",
    "                                                            # Bridge_flows.at['robert_f_kennedy_bridge Bronx I','observed'] =  np.mean(obs_data['Total Flow']\n",
    "                                                            #                                                                [(obs_data['Plaza ID']==)&(obs_data['Direction']=='I')])\n",
    "                                                            # Bridge_flows.at['robert_f_kennedy_bridge Bronx O', 'observed'] =  np.mean(obs_data['Total Flow']\n",
    "                                                            #                                                                [(obs_data['Plaza ID']==)&(obs_data['Direction']=='O')])\n",
    "                                                            # ST2.at['robert_f_kennedy_bridge Manh I','Target 1 - 04-2020'] +\n",
    "                                                            # ST2.at['robert_f_kennedy_bridge Manh O', 'Target 1 - 04-2020'] +\n",
    "                                                            ST2.at['queens_midtown_tunnel I','Target 1 - 04-2020'] +\n",
    "                                                            ST2.at['queens_midtown_tunnel O', 'Target 1 - 04-2020'] +\n",
    "                                                            ST2.at['hugh_l_carey_tunnel I','Target 1 - 04-2020'] +\n",
    "                                                            ST2.at['hugh_l_carey_tunnel O', 'Target 1 - 04-2020'] +\n",
    "                                                            ST2.at['bronx_whitestone_bridge I','Target 1 - 04-2020'] +\n",
    "                                                            ST2.at['bronx_whitestone_bridge O', 'Target 1 - 04-2020'] +\n",
    "                                                            ST2.at['throgs_neck_bridge I','Target 1 - 04-2020'] +\n",
    "                                                            ST2.at['throgs_neck_bridge O', 'Target 1 - 04-2020'] +\n",
    "                                                            # ST2.at['varrazzano_narrows_bridge I','Target 1 - 04-2020'] +\n",
    "                                                            # ST2.at['varrazzano_narrows_bridge O', 'Target 1 - 04-2020'] +\n",
    "                                                            ST2.at['marine_parkwaygil_hodges_memorial_bridge I','Target 1 - 04-2020'] +\n",
    "                                                            ST2.at['marine_parkwaygil_hodges_memorial_bridge O', 'Target 1 - 04-2020'] +\n",
    "                                                            ST2.at['cross_bay_veterans_memorial_bridge I','Target 1 - 04-2020'] +\n",
    "                                                            ST2.at['cross_bay_veterans_memorial_bridge O', 'Target 1 - 04-2020'])\n",
    "ST2.at['MTA Bridge and Tunnel Counts Total I- only observed bridges/tunnels', 'Target 1 - 04-2020'] = (ST2.at['henry_hudson_bridge I','Target 1 - 04-2020'] +\n",
    "                                                            # ST2.at['robert_f_kennedy_bridge Queen I','Target 1 - 04-2020'] +\n",
    "                                                            # ST2.at['robert_f_kennedy_bridge Queen O', 'Target 1 - 04-2020'] +\n",
    "                                                            # Bridge_flows.at['robert_f_kennedy_bridge Bronx I','observed'] =  np.mean(obs_data['Total Flow']\n",
    "                                                            #                                                                [(obs_data['Plaza ID']==)&(obs_data['Direction']=='I')])\n",
    "                                                            # Bridge_flows.at['robert_f_kennedy_bridge Bronx O', 'observed'] =  np.mean(obs_data['Total Flow']\n",
    "                                                            #                                                                [(obs_data['Plaza ID']==)&(obs_data['Direction']=='O')])\n",
    "                                                            # ST2.at['robert_f_kennedy_bridge Manh I','Target 1 - 04-2020'] +\n",
    "                                                            ST2.at['queens_midtown_tunnel I','Target 1 - 04-2020'] +\n",
    "                                                            ST2.at['hugh_l_carey_tunnel I','Target 1 - 04-2020'] +\n",
    "                                                            ST2.at['bronx_whitestone_bridge I','Target 1 - 04-2020'] +\n",
    "                                                            ST2.at['throgs_neck_bridge I','Target 1 - 04-2020'] +\n",
    "                                                            # ST2.at['varrazzano_narrows_bridge I','Target 1 - 04-2020'] +\n",
    "                                                            ST2.at['marine_parkwaygil_hodges_memorial_bridge I','Target 1 - 04-2020'] +\n",
    "                                                            ST2.at['cross_bay_veterans_memorial_bridge I','Target 1 - 04-2020'])\n",
    "ST2.at['MTA Bridge and Tunnel Counts Total O- only observed bridges/tunnels', 'Target 1 - 04-2020'] = (\n",
    "                                                            ST2.at['henry_hudson_bridge O', 'Target 1 - 04-2020'] +\n",
    "                                                            # ST2.at['robert_f_kennedy_bridge Queen O', 'Target 1 - 04-2020'] +\n",
    "                                                            # Bridge_flows.at['robert_f_kennedy_bridge Bronx I','observed'] =  np.mean(obs_data['Total Flow']\n",
    "                                                            #                                                                [(obs_data['Plaza ID']==)&(obs_data['Direction']=='I')])\n",
    "                                                            # Bridge_flows.at['robert_f_kennedy_bridge Bronx O', 'observed'] =  np.mean(obs_data['Total Flow']\n",
    "                                                            #                                                                [(obs_data['Plaza ID']==)&(obs_data['Direction']=='O')])\n",
    "                                                            # ST2.at['robert_f_kennedy_bridge Manh I','Target 1 - 04-2020'] +\n",
    "                                                            # ST2.at['robert_f_kennedy_bridge Manh O', 'Target 1 - 04-2020'] +\n",
    "                                                            ST2.at['queens_midtown_tunnel O', 'Target 1 - 04-2020'] +\n",
    "                                                            ST2.at['hugh_l_carey_tunnel O', 'Target 1 - 04-2020'] +\n",
    "                                                            ST2.at['bronx_whitestone_bridge O', 'Target 1 - 04-2020'] +\n",
    "                                                            ST2.at['throgs_neck_bridge O', 'Target 1 - 04-2020'] +\n",
    "                                                            # ST2.at['varrazzano_narrows_bridge I','Target 1 - 04-2020'] +\n",
    "                                                            # ST2.at['varrazzano_narrows_bridge O', 'Target 1 - 04-2020'] +\n",
    "                                                            ST2.at['marine_parkwaygil_hodges_memorial_bridge O', 'Target 1 - 04-2020'] +\n",
    "                                                            ST2.at['cross_bay_veterans_memorial_bridge O', 'Target 1 - 04-2020'])\n",
    "######################Scenario2############################################\n",
    "obs_data = pd.read_csv('inputs/Daily_Traffic_on_MTA_Bridges___Tunnels.csv')\n",
    "\n",
    "obs_data=obs_data[(obs_data['Date']=='08/07/2020')|\n",
    "                 (obs_data['Date']=='08/03/2020')|\n",
    "                 (obs_data['Date']=='08/04/2020')|\n",
    "                 (obs_data['Date']=='08/05/2020')|\n",
    "                 (obs_data['Date']=='08/06/2020')]\n",
    "\n",
    "obs_data['Total Flow'] = obs_data['# Vehicles - E-ZPass']+obs_data['# Vehicles - VToll']\n",
    "ST2.at['henry_hudson_bridge I','Target 2 - 08-2020'] =  np.mean(obs_data['Total Flow']\n",
    "                                                               [(obs_data['Plaza ID']==24)&(obs_data['Direction']=='I')])\n",
    "ST2.at['henry_hudson_bridge O', 'Target 2 - 08-2020'] =     np.mean(obs_data['Total Flow']\n",
    "                                                               [(obs_data['Plaza ID']==24)&(obs_data['Direction']=='O')])\n",
    "# ST2.at['robert_f_kennedy_bridge Queen I','Target 2 - 08-2020'] =  np.mean(obs_data['Total Flow']\n",
    "#                                                                [(obs_data['Plaza ID']==21)&(obs_data['Direction']=='I')])\n",
    "# ST2.at['robert_f_kennedy_bridge Queen O', 'Target 2 - 08-2020'] =  np.mean(obs_data['Total Flow']\n",
    "#                                                                [(obs_data['Plaza ID']==21)&(obs_data['Direction']=='O')])\n",
    "# Bridge_flows.at['robert_f_kennedy_bridge Bronx I','observed'] =  np.mean(obs_data['Total Flow']\n",
    "#                                                                [(obs_data['Plaza ID']==)&(obs_data['Direction']=='I')])\n",
    "# Bridge_flows.at['robert_f_kennedy_bridge Bronx O', 'observed'] =  np.mean(obs_data['Total Flow']\n",
    "#                                                                [(obs_data['Plaza ID']==)&(obs_data['Direction']=='O')])\n",
    "# ST2.at['robert_f_kennedy_bridge Manh I','Target 2 - 08-2020'] =  np.mean(obs_data['Total Flow']\n",
    "#                                                                [(obs_data['Plaza ID']==22)&(obs_data['Direction']=='I')])\n",
    "# ST2.at['robert_f_kennedy_bridge Manh O', 'Target 2 - 08-2020'] =  np.mean(obs_data['Total Flow']\n",
    "#                                                                [(obs_data['Plaza ID']==22)&(obs_data['Direction']=='O')])\n",
    "ST2.at['queens_midtown_tunnel I','Target 2 - 08-2020'] =    np.mean(obs_data['Total Flow']\n",
    "                                                               [(obs_data['Plaza ID']==27)&(obs_data['Direction']=='I')])\n",
    "ST2.at['queens_midtown_tunnel O', 'Target 2 - 08-2020'] =     np.mean(obs_data['Total Flow']\n",
    "                                                               [(obs_data['Plaza ID']==27)&(obs_data['Direction']=='O')])\n",
    "ST2.at['hugh_l_carey_tunnel I','Target 2 - 08-2020'] =    np.mean(obs_data['Total Flow']\n",
    "                                                               [(obs_data['Plaza ID']==28)&(obs_data['Direction']=='I')])\n",
    "ST2.at['hugh_l_carey_tunnel O', 'Target 2 - 08-2020'] =     np.mean(obs_data['Total Flow']\n",
    "                                                               [(obs_data['Plaza ID']==28)&(obs_data['Direction']=='O')])\n",
    "ST2.at['bronx_whitestone_bridge I','Target 2 - 08-2020'] =    np.mean(obs_data['Total Flow']\n",
    "                                                               [(obs_data['Plaza ID']==23)&(obs_data['Direction']=='I')])\n",
    "ST2.at['bronx_whitestone_bridge O', 'Target 2 - 08-2020'] =    np.mean(obs_data['Total Flow']\n",
    "                                                               [(obs_data['Plaza ID']==23)&(obs_data['Direction']=='O')])\n",
    "ST2.at['throgs_neck_bridge I','Target 2 - 08-2020'] =    np.mean(obs_data['Total Flow']\n",
    "                                                               [(obs_data['Plaza ID']==29)&(obs_data['Direction']=='I')])\n",
    "ST2.at['throgs_neck_bridge O', 'Target 2 - 08-2020'] =    np.mean(obs_data['Total Flow']\n",
    "                                                               [(obs_data['Plaza ID']==29)&(obs_data['Direction']=='O')])\n",
    "# ST2.at['varrazzano_narrows_bridge I','Target 2 - 08-2020'] =  np.mean(obs_data['Total Flow']\n",
    "#                                                                [(obs_data['Plaza ID']==30)&(obs_data['Direction']=='I')])\n",
    "# ST2.at['varrazzano_narrows_bridge O', 'Target 2 - 08-2020'] =     np.mean(obs_data['Total Flow']\n",
    "#                                                                [(obs_data['Plaza ID']==30)&(obs_data['Direction']=='O')])\n",
    "ST2.at['marine_parkwaygil_hodges_memorial_bridge I','Target 2 - 08-2020'] =   np.mean(obs_data['Total Flow']\n",
    "                                                               [(obs_data['Plaza ID']==25)&(obs_data['Direction']=='I')])\n",
    "ST2.at['marine_parkwaygil_hodges_memorial_bridge O', 'Target 2 - 08-2020'] =   np.mean(obs_data['Total Flow']\n",
    "                                                               [(obs_data['Plaza ID']==25)&(obs_data['Direction']=='O')])\n",
    "ST2.at['cross_bay_veterans_memorial_bridge I','Target 2 - 08-2020'] =    np.mean(obs_data['Total Flow']\n",
    "                                                               [(obs_data['Plaza ID']==26)&(obs_data['Direction']=='I')])\n",
    "ST2.at['cross_bay_veterans_memorial_bridge O', 'Target 2 - 08-2020'] =   np.mean(obs_data['Total Flow']\n",
    "                                                               [(obs_data['Plaza ID']==26)&(obs_data['Direction']=='O')])\n",
    "ST2.at['MTA Bridge and Tunnel Counts Total - only observed bridges/tunnels', 'Target 2 - 08-2020'] = (ST2.at['henry_hudson_bridge I','Target 2 - 08-2020'] +\n",
    "                                                            ST2.at['henry_hudson_bridge O', 'Target 2 - 08-2020'] +\n",
    "                                                            # ST2.at['robert_f_kennedy_bridge Queen I','Target 2 - 08-2020'] +\n",
    "                                                            # ST2.at['robert_f_kennedy_bridge Queen O', 'Target 2 - 08-2020'] +\n",
    "                                                            # Bridge_flows.at['robert_f_kennedy_bridge Bronx I','observed'] =  np.mean(obs_data['Total Flow']\n",
    "                                                            #                                                                [(obs_data['Plaza ID']==)&(obs_data['Direction']=='I')])\n",
    "                                                            # Bridge_flows.at['robert_f_kennedy_bridge Bronx O', 'observed'] =  np.mean(obs_data['Total Flow']\n",
    "                                                            #                                                                [(obs_data['Plaza ID']==)&(obs_data['Direction']=='O')])\n",
    "                                                            # ST2.at['robert_f_kennedy_bridge Manh I','Target 2 - 08-2020'] +\n",
    "                                                            # ST2.at['robert_f_kennedy_bridge Manh O', 'Target 2 - 08-2020'] +\n",
    "                                                            ST2.at['queens_midtown_tunnel I','Target 2 - 08-2020'] +\n",
    "                                                            ST2.at['queens_midtown_tunnel O', 'Target 2 - 08-2020'] +\n",
    "                                                            ST2.at['hugh_l_carey_tunnel I','Target 2 - 08-2020'] +\n",
    "                                                            ST2.at['hugh_l_carey_tunnel O', 'Target 2 - 08-2020'] +\n",
    "                                                            ST2.at['bronx_whitestone_bridge I','Target 2 - 08-2020'] +\n",
    "                                                            ST2.at['bronx_whitestone_bridge O', 'Target 2 - 08-2020'] +\n",
    "                                                            ST2.at['throgs_neck_bridge I','Target 2 - 08-2020'] +\n",
    "                                                            ST2.at['throgs_neck_bridge O', 'Target 2 - 08-2020'] +\n",
    "                                                            # ST2.at['varrazzano_narrows_bridge I','Target 2 - 08-2020'] +\n",
    "                                                            # ST2.at['varrazzano_narrows_bridge O', 'Target 2 - 08-2020'] +\n",
    "                                                            ST2.at['marine_parkwaygil_hodges_memorial_bridge I','Target 2 - 08-2020'] +\n",
    "                                                            ST2.at['marine_parkwaygil_hodges_memorial_bridge O', 'Target 2 - 08-2020'] +\n",
    "                                                            ST2.at['cross_bay_veterans_memorial_bridge I','Target 2 - 08-2020'] +\n",
    "                                                            ST2.at['cross_bay_veterans_memorial_bridge O', 'Target 2 - 08-2020'])\n",
    "ST2.at['MTA Bridge and Tunnel Counts Total I- only observed bridges/tunnels', 'Target 2 - 08-2020'] = (ST2.at['henry_hudson_bridge I','Target 2 - 08-2020'] +\n",
    "                                                            # ST2.at['robert_f_kennedy_bridge Queen I','Target 2 - 08-2020'] +\n",
    "                                                            # ST2.at['robert_f_kennedy_bridge Queen O', 'Target 2 - 08-2020'] +\n",
    "                                                            # Bridge_flows.at['robert_f_kennedy_bridge Bronx I','observed'] =  np.mean(obs_data['Total Flow']\n",
    "                                                            #                                                                [(obs_data['Plaza ID']==)&(obs_data['Direction']=='I')])\n",
    "                                                            # Bridge_flows.at['robert_f_kennedy_bridge Bronx O', 'observed'] =  np.mean(obs_data['Total Flow']\n",
    "                                                            #                                                                [(obs_data['Plaza ID']==)&(obs_data['Direction']=='O')])\n",
    "                                                            # ST2.at['robert_f_kennedy_bridge Manh I','Target 2 - 08-2020'] +\n",
    "                                                            ST2.at['queens_midtown_tunnel I','Target 2 - 08-2020'] +\n",
    "                                                            ST2.at['hugh_l_carey_tunnel I','Target 2 - 08-2020'] +\n",
    "                                                            ST2.at['bronx_whitestone_bridge I','Target 2 - 08-2020'] +\n",
    "                                                            ST2.at['throgs_neck_bridge I','Target 2 - 08-2020'] +\n",
    "                                                            # ST2.at['varrazzano_narrows_bridge I','Target 2 - 08-2020'] +\n",
    "                                                            ST2.at['marine_parkwaygil_hodges_memorial_bridge I','Target 2 - 08-2020'] +\n",
    "                                                            ST2.at['cross_bay_veterans_memorial_bridge I','Target 2 - 08-2020'])\n",
    "ST2.at['MTA Bridge and Tunnel Counts Total O- only observed bridges/tunnels', 'Target 2 - 08-2020'] = (\n",
    "                                                            ST2.at['henry_hudson_bridge O', 'Target 2 - 08-2020'] +\n",
    "                                                            # ST2.at['robert_f_kennedy_bridge Queen O', 'Target 2 - 08-2020'] +\n",
    "                                                            # Bridge_flows.at['robert_f_kennedy_bridge Bronx I','observed'] =  np.mean(obs_data['Total Flow']\n",
    "                                                            #                                                                [(obs_data['Plaza ID']==)&(obs_data['Direction']=='I')])\n",
    "                                                            # Bridge_flows.at['robert_f_kennedy_bridge Bronx O', 'observed'] =  np.mean(obs_data['Total Flow']\n",
    "                                                            #                                                                [(obs_data['Plaza ID']==)&(obs_data['Direction']=='O')])\n",
    "                                                            # ST2.at['robert_f_kennedy_bridge Manh I','Target 2 - 08-2020'] +\n",
    "                                                            # ST2.at['robert_f_kennedy_bridge Manh O', 'Target 2 - 08-2020'] +\n",
    "                                                            ST2.at['queens_midtown_tunnel O', 'Target 2 - 08-2020'] +\n",
    "                                                            ST2.at['hugh_l_carey_tunnel O', 'Target 2 - 08-2020'] +\n",
    "                                                            ST2.at['bronx_whitestone_bridge O', 'Target 2 - 08-2020'] +\n",
    "                                                            ST2.at['throgs_neck_bridge O', 'Target 2 - 08-2020'] +\n",
    "                                                            # ST2.at['varrazzano_narrows_bridge I','Target 2 - 08-2020'] +\n",
    "                                                            # ST2.at['varrazzano_narrows_bridge O', 'Target 2 - 08-2020'] +\n",
    "                                                            ST2.at['marine_parkwaygil_hodges_memorial_bridge O', 'Target 2 - 08-2020'] +\n",
    "                                                            ST2.at['cross_bay_veterans_memorial_bridge O', 'Target 2 - 08-2020'])\n",
    "######################Scenario3############################################\n",
    "obs_data = pd.read_csv('inputs/Daily_Traffic_on_MTA_Bridges___Tunnels.csv')\n",
    "\n",
    "obs_data=obs_data[(obs_data['Date']=='01/07/2022')|\n",
    "                 (obs_data['Date']=='01/03/2022')|\n",
    "                 (obs_data['Date']=='01/04/2022')|\n",
    "                 (obs_data['Date']=='01/05/2022')|\n",
    "                 (obs_data['Date']=='01/06/2022')]\n",
    "\n",
    "obs_data['Total Flow'] = obs_data['# Vehicles - E-ZPass']+obs_data['# Vehicles - VToll']\n",
    "ST2.at['henry_hudson_bridge I','Target 3 - 01-2022'] =  np.mean(obs_data['Total Flow']\n",
    "                                                               [(obs_data['Plaza ID']==24)&(obs_data['Direction']=='I')])\n",
    "ST2.at['henry_hudson_bridge O', 'Target 3 - 01-2022'] =     np.mean(obs_data['Total Flow']\n",
    "                                                               [(obs_data['Plaza ID']==24)&(obs_data['Direction']=='O')])\n",
    "# ST2.at['robert_f_kennedy_bridge Queen I','Target 3 - 01-2022'] =  np.mean(obs_data['Total Flow']\n",
    "#                                                                [(obs_data['Plaza ID']==21)&(obs_data['Direction']=='I')])\n",
    "# ST2.at['robert_f_kennedy_bridge Queen O', 'Target 3 - 01-2022'] =  np.mean(obs_data['Total Flow']\n",
    "#                                                                [(obs_data['Plaza ID']==21)&(obs_data['Direction']=='O')])\n",
    "# Bridge_flows.at['robert_f_kennedy_bridge Bronx I','observed'] =  np.mean(obs_data['Total Flow']\n",
    "#                                                                [(obs_data['Plaza ID']==)&(obs_data['Direction']=='I')])\n",
    "# Bridge_flows.at['robert_f_kennedy_bridge Bronx O', 'observed'] =  np.mean(obs_data['Total Flow']\n",
    "#                                                                [(obs_data['Plaza ID']==)&(obs_data['Direction']=='O')])\n",
    "# ST2.at['robert_f_kennedy_bridge Manh I','Target 3 - 01-2022'] =  np.mean(obs_data['Total Flow']\n",
    "#                                                                [(obs_data['Plaza ID']==22)&(obs_data['Direction']=='I')])\n",
    "# ST2.at['robert_f_kennedy_bridge Manh O', 'Target 3 - 01-2022'] =  np.mean(obs_data['Total Flow']\n",
    "#                                                                [(obs_data['Plaza ID']==22)&(obs_data['Direction']=='O')])\n",
    "ST2.at['queens_midtown_tunnel I','Target 3 - 01-2022'] =    np.mean(obs_data['Total Flow']\n",
    "                                                               [(obs_data['Plaza ID']==27)&(obs_data['Direction']=='I')])\n",
    "ST2.at['queens_midtown_tunnel O', 'Target 3 - 01-2022'] =     np.mean(obs_data['Total Flow']\n",
    "                                                               [(obs_data['Plaza ID']==27)&(obs_data['Direction']=='O')])\n",
    "ST2.at['hugh_l_carey_tunnel I','Target 3 - 01-2022'] =    np.mean(obs_data['Total Flow']\n",
    "                                                               [(obs_data['Plaza ID']==28)&(obs_data['Direction']=='I')])\n",
    "ST2.at['hugh_l_carey_tunnel O', 'Target 3 - 01-2022'] =     np.mean(obs_data['Total Flow']\n",
    "                                                               [(obs_data['Plaza ID']==28)&(obs_data['Direction']=='O')])\n",
    "ST2.at['bronx_whitestone_bridge I','Target 3 - 01-2022'] =    np.mean(obs_data['Total Flow']\n",
    "                                                               [(obs_data['Plaza ID']==23)&(obs_data['Direction']=='I')])\n",
    "ST2.at['bronx_whitestone_bridge O', 'Target 3 - 01-2022'] =    np.mean(obs_data['Total Flow']\n",
    "                                                               [(obs_data['Plaza ID']==23)&(obs_data['Direction']=='O')])\n",
    "ST2.at['throgs_neck_bridge I','Target 3 - 01-2022'] =    np.mean(obs_data['Total Flow']\n",
    "                                                               [(obs_data['Plaza ID']==29)&(obs_data['Direction']=='I')])\n",
    "ST2.at['throgs_neck_bridge O', 'Target 3 - 01-2022'] =    np.mean(obs_data['Total Flow']\n",
    "                                                               [(obs_data['Plaza ID']==29)&(obs_data['Direction']=='O')])\n",
    "# ST2.at['varrazzano_narrows_bridge I','Target 3 - 01-2022'] =  np.mean(obs_data['Total Flow']\n",
    "#                                                                [(obs_data['Plaza ID']==30)&(obs_data['Direction']=='I')])\n",
    "# ST2.at['varrazzano_narrows_bridge O', 'Target 3 - 01-2022'] =     np.mean(obs_data['Total Flow']\n",
    "#                                                                [(obs_data['Plaza ID']==30)&(obs_data['Direction']=='O')])\n",
    "ST2.at['marine_parkwaygil_hodges_memorial_bridge I','Target 3 - 01-2022'] =   np.mean(obs_data['Total Flow']\n",
    "                                                               [(obs_data['Plaza ID']==25)&(obs_data['Direction']=='I')])\n",
    "ST2.at['marine_parkwaygil_hodges_memorial_bridge O', 'Target 3 - 01-2022'] =   np.mean(obs_data['Total Flow']\n",
    "                                                               [(obs_data['Plaza ID']==25)&(obs_data['Direction']=='O')])\n",
    "ST2.at['cross_bay_veterans_memorial_bridge I','Target 3 - 01-2022'] =    np.mean(obs_data['Total Flow']\n",
    "                                                               [(obs_data['Plaza ID']==26)&(obs_data['Direction']=='I')])\n",
    "ST2.at['cross_bay_veterans_memorial_bridge O', 'Target 3 - 01-2022'] =   np.mean(obs_data['Total Flow']\n",
    "                                                               [(obs_data['Plaza ID']==26)&(obs_data['Direction']=='O')])\n",
    "ST2.at['MTA Bridge and Tunnel Counts Total - only observed bridges/tunnels', 'Target 3 - 01-2022'] = (ST2.at['henry_hudson_bridge I','Target 3 - 01-2022'] +\n",
    "                                                            ST2.at['henry_hudson_bridge O', 'Target 3 - 01-2022'] +\n",
    "                                                            # ST2.at['robert_f_kennedy_bridge Queen I','Target 3 - 01-2022'] +\n",
    "                                                            # ST2.at['robert_f_kennedy_bridge Queen O', 'Target Baseline'] +\n",
    "                                                            # Bridge_flows.at['robert_f_kennedy_bridge Bronx I','observed'] =  np.mean(obs_data['Total Flow']\n",
    "                                                            #                                                                [(obs_data['Plaza ID']==)&(obs_data['Direction']=='I')])\n",
    "                                                            # Bridge_flows.at['robert_f_kennedy_bridge Bronx O', 'observed'] =  np.mean(obs_data['Total Flow']\n",
    "                                                            #                                                                [(obs_data['Plaza ID']==)&(obs_data['Direction']=='O')])\n",
    "                                                            # ST2.at['robert_f_kennedy_bridge Manh I','Target Baseline'] +\n",
    "                                                            # ST2.at['robert_f_kennedy_bridge Manh O', 'Target 3 - 01-2022'] +\n",
    "                                                            ST2.at['queens_midtown_tunnel I','Target 3 - 01-2022'] +\n",
    "                                                            ST2.at['queens_midtown_tunnel O', 'Target 3 - 01-2022'] +\n",
    "                                                            ST2.at['hugh_l_carey_tunnel I','Target 3 - 01-2022'] +\n",
    "                                                            ST2.at['hugh_l_carey_tunnel O', 'Target 3 - 01-2022'] +\n",
    "                                                            ST2.at['bronx_whitestone_bridge I','Target 3 - 01-2022'] +\n",
    "                                                            ST2.at['bronx_whitestone_bridge O', 'Target 3 - 01-2022'] +\n",
    "                                                            ST2.at['throgs_neck_bridge I','Target 3 - 01-2022'] +\n",
    "                                                            ST2.at['throgs_neck_bridge O', 'Target 3 - 01-2022'] +\n",
    "                                                            # ST2.at['varrazzano_narrows_bridge I','Target Baseline'] +\n",
    "                                                            # ST2.at['varrazzano_narrows_bridge O', 'Target 3 - 01-2022'] +\n",
    "                                                            ST2.at['marine_parkwaygil_hodges_memorial_bridge I','Target 3 - 01-2022'] +\n",
    "                                                            ST2.at['marine_parkwaygil_hodges_memorial_bridge O', 'Target 3 - 01-2022'] +\n",
    "                                                            ST2.at['cross_bay_veterans_memorial_bridge I','Target 3 - 01-2022'] +\n",
    "                                                            ST2.at['cross_bay_veterans_memorial_bridge O', 'Target 3 - 01-2022'])\n",
    "ST2.at['MTA Bridge and Tunnel Counts Total I- only observed bridges/tunnels', 'Target 3 - 01-2022'] = (ST2.at['henry_hudson_bridge I','Target 3 - 01-2022'] +\n",
    "                                                            # ST2.at['robert_f_kennedy_bridge Queen I','Target 3 - 01-2022'] +\n",
    "                                                            # ST2.at['robert_f_kennedy_bridge Queen O', 'Target Baseline'] +\n",
    "                                                            # Bridge_flows.at['robert_f_kennedy_bridge Bronx I','observed'] =  np.mean(obs_data['Total Flow']\n",
    "                                                            #                                                                [(obs_data['Plaza ID']==)&(obs_data['Direction']=='I')])\n",
    "                                                            # Bridge_flows.at['robert_f_kennedy_bridge Bronx O', 'observed'] =  np.mean(obs_data['Total Flow']\n",
    "                                                            #                                                                [(obs_data['Plaza ID']==)&(obs_data['Direction']=='O')])\n",
    "                                                            # ST2.at['robert_f_kennedy_bridge Manh I','Target Baseline'] +\n",
    "                                                            ST2.at['queens_midtown_tunnel I','Target 3 - 01-2022'] +\n",
    "                                                            ST2.at['hugh_l_carey_tunnel I','Target 3 - 01-2022'] +\n",
    "                                                            ST2.at['bronx_whitestone_bridge I','Target 3 - 01-2022'] +\n",
    "                                                            ST2.at['throgs_neck_bridge I','Target 3 - 01-2022'] +\n",
    "                                                            # ST2.at['varrazzano_narrows_bridge I','Target Baseline'] +\n",
    "                                                            ST2.at['marine_parkwaygil_hodges_memorial_bridge I','Target 3 - 01-2022'] +\n",
    "                                                            ST2.at['cross_bay_veterans_memorial_bridge I','Target 3 - 01-2022'] )\n",
    "ST2.at['MTA Bridge and Tunnel Counts Total O- only observed bridges/tunnels', 'Target 3 - 01-2022'] = (\n",
    "                                                            ST2.at['henry_hudson_bridge O', 'Target 3 - 01-2022'] +\n",
    "                                                            # ST2.at['robert_f_kennedy_bridge Queen O', 'Target Baseline'] +\n",
    "                                                            # Bridge_flows.at['robert_f_kennedy_bridge Bronx I','observed'] =  np.mean(obs_data['Total Flow']\n",
    "                                                            #                                                                [(obs_data['Plaza ID']==)&(obs_data['Direction']=='I')])\n",
    "                                                            # Bridge_flows.at['robert_f_kennedy_bridge Bronx O', 'observed'] =  np.mean(obs_data['Total Flow']\n",
    "                                                            #                                                                [(obs_data['Plaza ID']==)&(obs_data['Direction']=='O')])\n",
    "                                                            # ST2.at['robert_f_kennedy_bridge Manh I','Target Baseline'] +\n",
    "                                                            # ST2.at['robert_f_kennedy_bridge Manh O', 'Target 3 - 01-2022'] +\n",
    "                                                            ST2.at['queens_midtown_tunnel O', 'Target 3 - 01-2022'] +\n",
    "                                                            ST2.at['hugh_l_carey_tunnel O', 'Target 3 - 01-2022'] +\n",
    "                                                            ST2.at['bronx_whitestone_bridge O', 'Target 3 - 01-2022'] +\n",
    "                                                            ST2.at['throgs_neck_bridge O', 'Target 3 - 01-2022'] +\n",
    "                                                            # ST2.at['varrazzano_narrows_bridge I','Target Baseline'] +\n",
    "                                                            # ST2.at['varrazzano_narrows_bridge O', 'Target 3 - 01-2022'] +\n",
    "                                                            ST2.at['marine_parkwaygil_hodges_memorial_bridge O', 'Target 3 - 01-2022'] +\n",
    "                                                            ST2.at['cross_bay_veterans_memorial_bridge O', 'Target 3 - 01-2022'])\n",
    "######################Scenario4############################################\n",
    "obs_data = pd.read_csv('inputs/Daily_Traffic_on_MTA_Bridges___Tunnels.csv')\n",
    "\n",
    "obs_data=obs_data[(obs_data['Date']=='08/02/2021')|\n",
    "                 (obs_data['Date']=='08/03/2021')|\n",
    "                 (obs_data['Date']=='08/04/2021')|\n",
    "                 (obs_data['Date']=='08/05/2021')|\n",
    "                 (obs_data['Date']=='08/06/2021')]\n",
    "\n",
    "obs_data['Total Flow'] = obs_data['# Vehicles - E-ZPass']+obs_data['# Vehicles - VToll']\n",
    "ST2.at['henry_hudson_bridge I','Target 4 - 08-2021'] =  np.mean(obs_data['Total Flow']\n",
    "                                                               [(obs_data['Plaza ID']==24)&(obs_data['Direction']=='I')])\n",
    "ST2.at['henry_hudson_bridge O', 'Target 4 - 08-2021'] =     np.mean(obs_data['Total Flow']\n",
    "                                                               [(obs_data['Plaza ID']==24)&(obs_data['Direction']=='O')])\n",
    "# ST2.at['robert_f_kennedy_bridge Queen I','Target 4 - 08-2021'] =  np.mean(obs_data['Total Flow']\n",
    "#                                                                [(obs_data['Plaza ID']==21)&(obs_data['Direction']=='I')])\n",
    "# ST2.at['robert_f_kennedy_bridge Queen O', 'Target 4 - 08-2021'] =  np.mean(obs_data['Total Flow']\n",
    "                                                               # [(obs_data['Plaza ID']==21)&(obs_data['Direction']=='O')])\n",
    "# Bridge_flows.at['robert_f_kennedy_bridge Bronx I','observed'] =  np.mean(obs_data['Total Flow']\n",
    "#                                                                [(obs_data['Plaza ID']==)&(obs_data['Direction']=='I')])\n",
    "# Bridge_flows.at['robert_f_kennedy_bridge Bronx O', 'observed'] =  np.mean(obs_data['Total Flow']\n",
    "#                                                                [(obs_data['Plaza ID']==)&(obs_data['Direction']=='O')])\n",
    "# ST2.at['robert_f_kennedy_bridge Manh I','Target 4 - 08-2021'] =  np.mean(obs_data['Total Flow']\n",
    "#                                                                [(obs_data['Plaza ID']==22)&(obs_data['Direction']=='I')])\n",
    "# ST2.at['robert_f_kennedy_bridge Manh O', 'Target 4 - 08-2021'] =  np.mean(obs_data['Total Flow']\n",
    "                                                               # [(obs_data['Plaza ID']==22)&(obs_data['Direction']=='O')])\n",
    "ST2.at['queens_midtown_tunnel I','Target 4 - 08-2021'] =    np.mean(obs_data['Total Flow']\n",
    "                                                               [(obs_data['Plaza ID']==27)&(obs_data['Direction']=='I')])\n",
    "ST2.at['queens_midtown_tunnel O', 'Target 4 - 08-2021'] =     np.mean(obs_data['Total Flow']\n",
    "                                                               [(obs_data['Plaza ID']==27)&(obs_data['Direction']=='O')])\n",
    "ST2.at['hugh_l_carey_tunnel I','Target 4 - 08-2021'] =    np.mean(obs_data['Total Flow']\n",
    "                                                               [(obs_data['Plaza ID']==28)&(obs_data['Direction']=='I')])\n",
    "ST2.at['hugh_l_carey_tunnel O', 'Target 4 - 08-2021'] =     np.mean(obs_data['Total Flow']\n",
    "                                                               [(obs_data['Plaza ID']==28)&(obs_data['Direction']=='O')])\n",
    "ST2.at['bronx_whitestone_bridge I','Target 4 - 08-2021'] =    np.mean(obs_data['Total Flow']\n",
    "                                                               [(obs_data['Plaza ID']==23)&(obs_data['Direction']=='I')])\n",
    "ST2.at['bronx_whitestone_bridge O', 'Target 4 - 08-2021'] =    np.mean(obs_data['Total Flow']\n",
    "                                                               [(obs_data['Plaza ID']==23)&(obs_data['Direction']=='O')])\n",
    "ST2.at['throgs_neck_bridge I','Target 4 - 08-2021'] =    np.mean(obs_data['Total Flow']\n",
    "                                                               [(obs_data['Plaza ID']==29)&(obs_data['Direction']=='I')])\n",
    "ST2.at['throgs_neck_bridge O', 'Target 4 - 08-2021'] =    np.mean(obs_data['Total Flow']\n",
    "                                                               [(obs_data['Plaza ID']==29)&(obs_data['Direction']=='O')])\n",
    "# ST2.at['varrazzano_narrows_bridge I','Target 4 - 08-2021'] =  np.mean(obs_data['Total Flow']\n",
    "#                                                                [(obs_data['Plaza ID']==30)&(obs_data['Direction']=='I')])\n",
    "# ST2.at['varrazzano_narrows_bridge O', 'Target 4 - 08-2021'] =     np.mean(obs_data['Total Flow']\n",
    "                                                               # [(obs_data['Plaza ID']==30)&(obs_data['Direction']=='O')])\n",
    "ST2.at['marine_parkwaygil_hodges_memorial_bridge I','Target 4 - 08-2021'] =   np.mean(obs_data['Total Flow']\n",
    "                                                               [(obs_data['Plaza ID']==25)&(obs_data['Direction']=='I')])\n",
    "ST2.at['marine_parkwaygil_hodges_memorial_bridge O', 'Target 4 - 08-2021'] =   np.mean(obs_data['Total Flow']\n",
    "                                                               [(obs_data['Plaza ID']==25)&(obs_data['Direction']=='O')])\n",
    "ST2.at['cross_bay_veterans_memorial_bridge I','Target 4 - 08-2021'] =    np.mean(obs_data['Total Flow']\n",
    "                                                               [(obs_data['Plaza ID']==26)&(obs_data['Direction']=='I')])\n",
    "ST2.at['cross_bay_veterans_memorial_bridge O', 'Target 4 - 08-2021'] =   np.mean(obs_data['Total Flow']\n",
    "                                                               [(obs_data['Plaza ID']==26)&(obs_data['Direction']=='O')])\n",
    "ST2.at['MTA Bridge and Tunnel Counts Total - only observed bridges/tunnels', 'Target 4 - 08-2021'] = (ST2.at['henry_hudson_bridge I','Target 4 - 08-2021'] +\n",
    "                                                            ST2.at['henry_hudson_bridge O', 'Target 4 - 08-2021'] +\n",
    "                                                            # ST2.at['robert_f_kennedy_bridge Queen I','Target 4 - 08-2021'] +\n",
    "                                                            # ST2.at['robert_f_kennedy_bridge Queen O', 'Target Baseline'] +\n",
    "                                                            # Bridge_flows.at['robert_f_kennedy_bridge Bronx I','observed'] =  np.mean(obs_data['Total Flow']\n",
    "                                                            #                                                                [(obs_data['Plaza ID']==)&(obs_data['Direction']=='I')])\n",
    "                                                            # Bridge_flows.at['robert_f_kennedy_bridge Bronx O', 'observed'] =  np.mean(obs_data['Total Flow']\n",
    "                                                            #                                                                [(obs_data['Plaza ID']==)&(obs_data['Direction']=='O')])\n",
    "                                                            # ST2.at['robert_f_kennedy_bridge Manh I','Target Baseline'] +\n",
    "                                                            # ST2.at['robert_f_kennedy_bridge Manh O', 'Target 4 - 08-2021'] +\n",
    "                                                            ST2.at['queens_midtown_tunnel I','Target 4 - 08-2021'] +\n",
    "                                                            ST2.at['queens_midtown_tunnel O', 'Target 4 - 08-2021'] +\n",
    "                                                            ST2.at['hugh_l_carey_tunnel I','Target 4 - 08-2021'] +\n",
    "                                                            ST2.at['hugh_l_carey_tunnel O', 'Target 4 - 08-2021'] +\n",
    "                                                            ST2.at['bronx_whitestone_bridge I','Target 4 - 08-2021'] +\n",
    "                                                            ST2.at['bronx_whitestone_bridge O', 'Target 4 - 08-2021'] +\n",
    "                                                            ST2.at['throgs_neck_bridge I','Target 4 - 08-2021'] +\n",
    "                                                            ST2.at['throgs_neck_bridge O', 'Target 4 - 08-2021'] +\n",
    "                                                            # ST2.at['varrazzano_narrows_bridge I','Target Baseline'] +\n",
    "                                                            # ST2.at['varrazzano_narrows_bridge O', 'Target 4 - 08-2021'] +\n",
    "                                                            ST2.at['marine_parkwaygil_hodges_memorial_bridge I','Target 4 - 08-2021'] +\n",
    "                                                            ST2.at['marine_parkwaygil_hodges_memorial_bridge O', 'Target 4 - 08-2021'] +\n",
    "                                                            ST2.at['cross_bay_veterans_memorial_bridge I','Target 4 - 08-2021'] +\n",
    "                                                            ST2.at['cross_bay_veterans_memorial_bridge O', 'Target 4 - 08-2021'])\n",
    "ST2.at['MTA Bridge and Tunnel Counts Total I- only observed bridges/tunnels', 'Target 4 - 08-2021'] = (ST2.at['henry_hudson_bridge I','Target 4 - 08-2021'] +\n",
    "                                                            # ST2.at['robert_f_kennedy_bridge Queen I','Target 4 - 08-2021'] +\n",
    "                                                            # ST2.at['robert_f_kennedy_bridge Queen O', 'Target Baseline'] +\n",
    "                                                            # Bridge_flows.at['robert_f_kennedy_bridge Bronx I','observed'] =  np.mean(obs_data['Total Flow']\n",
    "                                                            #                                                                [(obs_data['Plaza ID']==)&(obs_data['Direction']=='I')])\n",
    "                                                            # Bridge_flows.at['robert_f_kennedy_bridge Bronx O', 'observed'] =  np.mean(obs_data['Total Flow']\n",
    "                                                            #                                                                [(obs_data['Plaza ID']==)&(obs_data['Direction']=='O')])\n",
    "                                                            # ST2.at['robert_f_kennedy_bridge Manh I','Target Baseline'] +\n",
    "                                                            ST2.at['queens_midtown_tunnel I','Target 4 - 08-2021'] +\n",
    "                                                            ST2.at['hugh_l_carey_tunnel I','Target 4 - 08-2021'] +\n",
    "                                                            ST2.at['bronx_whitestone_bridge I','Target 4 - 08-2021'] +\n",
    "                                                            ST2.at['throgs_neck_bridge I','Target 4 - 08-2021'] +\n",
    "                                                            # ST2.at['varrazzano_narrows_bridge I','Target Baseline'] +\n",
    "                                                            ST2.at['marine_parkwaygil_hodges_memorial_bridge I','Target 4 - 08-2021'] +\n",
    "                                                            ST2.at['cross_bay_veterans_memorial_bridge I','Target 4 - 08-2021'])\n",
    "ST2.at['MTA Bridge and Tunnel Counts Total O- only observed bridges/tunnels', 'Target 4 - 08-2021'] = (ST2.at['henry_hudson_bridge O', 'Target 4 - 08-2021'] +\n",
    "                                                            # ST2.at['robert_f_kennedy_bridge Queen O', 'Target Baseline'] +\n",
    "                                                            # Bridge_flows.at['robert_f_kennedy_bridge Bronx I','observed'] =  np.mean(obs_data['Total Flow']\n",
    "                                                            #                                                                [(obs_data['Plaza ID']==)&(obs_data['Direction']=='I')])\n",
    "                                                            # Bridge_flows.at['robert_f_kennedy_bridge Bronx O', 'observed'] =  np.mean(obs_data['Total Flow']\n",
    "                                                            #                                                                [(obs_data['Plaza ID']==)&(obs_data['Direction']=='O')])\n",
    "                                                            # ST2.at['robert_f_kennedy_bridge Manh I','Target Baseline'] +\n",
    "                                                            # ST2.at['robert_f_kennedy_bridge Manh O', 'Target 4 - 08-2021'] +\n",
    "                                                            ST2.at['queens_midtown_tunnel O', 'Target 4 - 08-2021'] +\n",
    "                                                            ST2.at['hugh_l_carey_tunnel O', 'Target 4 - 08-2021'] +\n",
    "                                                            ST2.at['bronx_whitestone_bridge O', 'Target 4 - 08-2021'] +\n",
    "                                                            ST2.at['throgs_neck_bridge O', 'Target 4 - 08-2021'] +\n",
    "                                                            # ST2.at['varrazzano_narrows_bridge I','Target Baseline'] +\n",
    "                                                            # ST2.at['varrazzano_narrows_bridge O', 'Target 4 - 08-2021'] +\n",
    "                                                            ST2.at['marine_parkwaygil_hodges_memorial_bridge O', 'Target 4 - 08-2021'] +\n",
    "                                                            ST2.at['cross_bay_veterans_memorial_bridge O', 'Target 4 - 08-2021'])\n",
    "\n",
    "######################Scenario5############################################\n",
    "obs_data = pd.read_csv('inputs/Daily_Traffic_on_MTA_Bridges___Tunnels.csv')\n",
    "\n",
    "obs_data=obs_data[(obs_data['Date']=='05/09/2021')|\n",
    "                 (obs_data['Date']=='05/10/2021')|\n",
    "                 (obs_data['Date']=='05/11/2021')|\n",
    "                 (obs_data['Date']=='05/12/2021')|\n",
    "                 (obs_data['Date']=='05/13/2021')]\n",
    "\n",
    "obs_data['Total Flow'] = obs_data['# Vehicles - E-ZPass']+obs_data['# Vehicles - VToll']\n",
    "ST2.at['henry_hudson_bridge I','Target 5 - 05-2022'] =  np.mean(obs_data['Total Flow']\n",
    "                                                               [(obs_data['Plaza ID']==24)&(obs_data['Direction']=='I')])\n",
    "ST2.at['henry_hudson_bridge O', 'Target 5 - 05-2022'] =     np.mean(obs_data['Total Flow']\n",
    "                                                               [(obs_data['Plaza ID']==24)&(obs_data['Direction']=='O')])\n",
    "# ST2.at['robert_f_kennedy_bridge Queen I','Target 4 - 08-2021'] =  np.mean(obs_data['Total Flow']\n",
    "#                                                                [(obs_data['Plaza ID']==21)&(obs_data['Direction']=='I')])\n",
    "# ST2.at['robert_f_kennedy_bridge Queen O', 'Target 4 - 08-2021'] =  np.mean(obs_data['Total Flow']\n",
    "                                                               # [(obs_data['Plaza ID']==21)&(obs_data['Direction']=='O')])\n",
    "# Bridge_flows.at['robert_f_kennedy_bridge Bronx I','observed'] =  np.mean(obs_data['Total Flow']\n",
    "#                                                                [(obs_data['Plaza ID']==)&(obs_data['Direction']=='I')])\n",
    "# Bridge_flows.at['robert_f_kennedy_bridge Bronx O', 'observed'] =  np.mean(obs_data['Total Flow']\n",
    "#                                                                [(obs_data['Plaza ID']==)&(obs_data['Direction']=='O')])\n",
    "# ST2.at['robert_f_kennedy_bridge Manh I','Target 4 - 08-2021'] =  np.mean(obs_data['Total Flow']\n",
    "#                                                                [(obs_data['Plaza ID']==22)&(obs_data['Direction']=='I')])\n",
    "# ST2.at['robert_f_kennedy_bridge Manh O', 'Target 4 - 08-2021'] =  np.mean(obs_data['Total Flow']\n",
    "                                                               # [(obs_data['Plaza ID']==22)&(obs_data['Direction']=='O')])\n",
    "ST2.at['queens_midtown_tunnel I','Target 5 - 05-2022'] =    np.mean(obs_data['Total Flow']\n",
    "                                                               [(obs_data['Plaza ID']==27)&(obs_data['Direction']=='I')])\n",
    "ST2.at['queens_midtown_tunnel O', 'Target 5 - 05-2022'] =     np.mean(obs_data['Total Flow']\n",
    "                                                               [(obs_data['Plaza ID']==27)&(obs_data['Direction']=='O')])\n",
    "ST2.at['hugh_l_carey_tunnel I','Target 5 - 05-2022'] =    np.mean(obs_data['Total Flow']\n",
    "                                                               [(obs_data['Plaza ID']==28)&(obs_data['Direction']=='I')])\n",
    "ST2.at['hugh_l_carey_tunnel O', 'Target 5 - 05-2022'] =     np.mean(obs_data['Total Flow']\n",
    "                                                               [(obs_data['Plaza ID']==28)&(obs_data['Direction']=='O')])\n",
    "ST2.at['bronx_whitestone_bridge I','Target 5 - 05-2022'] =    np.mean(obs_data['Total Flow']\n",
    "                                                               [(obs_data['Plaza ID']==23)&(obs_data['Direction']=='I')])\n",
    "ST2.at['bronx_whitestone_bridge O', 'Target 5 - 05-2022'] =    np.mean(obs_data['Total Flow']\n",
    "                                                               [(obs_data['Plaza ID']==23)&(obs_data['Direction']=='O')])\n",
    "ST2.at['throgs_neck_bridge I','Target 5 - 05-2022'] =    np.mean(obs_data['Total Flow']\n",
    "                                                               [(obs_data['Plaza ID']==29)&(obs_data['Direction']=='I')])\n",
    "ST2.at['throgs_neck_bridge O', 'Target 5 - 05-2022'] =    np.mean(obs_data['Total Flow']\n",
    "                                                               [(obs_data['Plaza ID']==29)&(obs_data['Direction']=='O')])\n",
    "# ST2.at['varrazzano_narrows_bridge I','Target 4 - 08-2021'] =  np.mean(obs_data['Total Flow']\n",
    "#                                                                [(obs_data['Plaza ID']==30)&(obs_data['Direction']=='I')])\n",
    "# ST2.at['varrazzano_narrows_bridge O', 'Target 4 - 08-2021'] =     np.mean(obs_data['Total Flow']\n",
    "                                                               # [(obs_data['Plaza ID']==30)&(obs_data['Direction']=='O')])\n",
    "ST2.at['marine_parkwaygil_hodges_memorial_bridge I','Target 5 - 05-2022'] =   np.mean(obs_data['Total Flow']\n",
    "                                                               [(obs_data['Plaza ID']==25)&(obs_data['Direction']=='I')])\n",
    "ST2.at['marine_parkwaygil_hodges_memorial_bridge O', 'Target 5 - 05-2022'] =   np.mean(obs_data['Total Flow']\n",
    "                                                               [(obs_data['Plaza ID']==25)&(obs_data['Direction']=='O')])\n",
    "ST2.at['cross_bay_veterans_memorial_bridge I','Target 5 - 05-2022'] =    np.mean(obs_data['Total Flow']\n",
    "                                                               [(obs_data['Plaza ID']==26)&(obs_data['Direction']=='I')])\n",
    "ST2.at['cross_bay_veterans_memorial_bridge O', 'Target 5 - 05-2022'] =   np.mean(obs_data['Total Flow']\n",
    "                                                               [(obs_data['Plaza ID']==26)&(obs_data['Direction']=='O')])\n",
    "ST2.at['MTA Bridge and Tunnel Counts Total - only observed bridges/tunnels', 'Target 5 - 05-2022'] = (ST2.at['henry_hudson_bridge I','Target 5 - 05-2022'] +\n",
    "                                                            ST2.at['henry_hudson_bridge O', 'Target 5 - 05-2022'] +\n",
    "                                                            # ST2.at['robert_f_kennedy_bridge Queen I','Target 4 - 08-2021'] +\n",
    "                                                            # ST2.at['robert_f_kennedy_bridge Queen O', 'Target Baseline'] +\n",
    "                                                            # Bridge_flows.at['robert_f_kennedy_bridge Bronx I','observed'] =  np.mean(obs_data['Total Flow']\n",
    "                                                            #                                                                [(obs_data['Plaza ID']==)&(obs_data['Direction']=='I')])\n",
    "                                                            # Bridge_flows.at['robert_f_kennedy_bridge Bronx O', 'observed'] =  np.mean(obs_data['Total Flow']\n",
    "                                                            #                                                                [(obs_data['Plaza ID']==)&(obs_data['Direction']=='O')])\n",
    "                                                            # ST2.at['robert_f_kennedy_bridge Manh I','Target Baseline'] +\n",
    "                                                            # ST2.at['robert_f_kennedy_bridge Manh O', 'Target 4 - 08-2021'] +\n",
    "                                                            ST2.at['queens_midtown_tunnel I','Target 5 - 05-2022'] +\n",
    "                                                            ST2.at['queens_midtown_tunnel O', 'Target 5 - 05-2022'] +\n",
    "                                                            ST2.at['hugh_l_carey_tunnel I','Target 5 - 05-2022'] +\n",
    "                                                            ST2.at['hugh_l_carey_tunnel O', 'Target 5 - 05-2022'] +\n",
    "                                                            ST2.at['bronx_whitestone_bridge I','Target 5 - 05-2022'] +\n",
    "                                                            ST2.at['bronx_whitestone_bridge O', 'Target 5 - 05-2022'] +\n",
    "                                                            ST2.at['throgs_neck_bridge I','Target 5 - 05-2022'] +\n",
    "                                                            ST2.at['throgs_neck_bridge O', 'Target 5 - 05-2022'] +\n",
    "                                                            # ST2.at['varrazzano_narrows_bridge I','Target Baseline'] +\n",
    "                                                            # ST2.at['varrazzano_narrows_bridge O', 'Target 4 - 08-2021'] +\n",
    "                                                            ST2.at['marine_parkwaygil_hodges_memorial_bridge I','Target 5 - 05-2022'] +\n",
    "                                                            ST2.at['marine_parkwaygil_hodges_memorial_bridge O', 'Target 5 - 05-2022'] +\n",
    "                                                            ST2.at['cross_bay_veterans_memorial_bridge I','Target 5 - 05-2022'] +\n",
    "                                                            ST2.at['cross_bay_veterans_memorial_bridge O', 'Target 5 - 05-2022'])\n",
    "ST2.at['MTA Bridge and Tunnel Counts Total I- only observed bridges/tunnels', 'Target 5 - 05-2022'] = (ST2.at['henry_hudson_bridge I','Target 5 - 05-2022'] +\n",
    "                                                            # ST2.at['robert_f_kennedy_bridge Queen I','Target 4 - 08-2021'] +\n",
    "                                                            # ST2.at['robert_f_kennedy_bridge Queen O', 'Target Baseline'] +\n",
    "                                                            # Bridge_flows.at['robert_f_kennedy_bridge Bronx I','observed'] =  np.mean(obs_data['Total Flow']\n",
    "                                                            #                                                                [(obs_data['Plaza ID']==)&(obs_data['Direction']=='I')])\n",
    "                                                            # Bridge_flows.at['robert_f_kennedy_bridge Bronx O', 'observed'] =  np.mean(obs_data['Total Flow']\n",
    "                                                            #                                                                [(obs_data['Plaza ID']==)&(obs_data['Direction']=='O')])\n",
    "                                                            # ST2.at['robert_f_kennedy_bridge Manh I','Target Baseline'] +\n",
    "                                                            ST2.at['queens_midtown_tunnel I','Target 5 - 05-2022'] +\n",
    "                                                            ST2.at['hugh_l_carey_tunnel I','Target 5 - 05-2022'] +\n",
    "                                                            ST2.at['bronx_whitestone_bridge I','Target 5 - 05-2022'] +\n",
    "                                                            ST2.at['throgs_neck_bridge I','Target 5 - 05-2022'] +\n",
    "                                                            # ST2.at['varrazzano_narrows_bridge I','Target Baseline'] +\n",
    "                                                            ST2.at['marine_parkwaygil_hodges_memorial_bridge I','Target 5 - 05-2022'] +\n",
    "                                                            ST2.at['cross_bay_veterans_memorial_bridge I','Target 5 - 05-2022'])\n",
    "ST2.at['MTA Bridge and Tunnel Counts Total O- only observed bridges/tunnels', 'Target 5 - 05-2022'] = (ST2.at['henry_hudson_bridge O', 'Target 5 - 05-2022'] +\n",
    "                                                            # ST2.at['robert_f_kennedy_bridge Queen O', 'Target Baseline'] +\n",
    "                                                            # Bridge_flows.at['robert_f_kennedy_bridge Bronx I','observed'] =  np.mean(obs_data['Total Flow']\n",
    "                                                            #                                                                [(obs_data['Plaza ID']==)&(obs_data['Direction']=='I')])\n",
    "                                                            # Bridge_flows.at['robert_f_kennedy_bridge Bronx O', 'observed'] =  np.mean(obs_data['Total Flow']\n",
    "                                                            #                                                                [(obs_data['Plaza ID']==)&(obs_data['Direction']=='O')])\n",
    "                                                            # ST2.at['robert_f_kennedy_bridge Manh I','Target Baseline'] +\n",
    "                                                            # ST2.at['robert_f_kennedy_bridge Manh O', 'Target 4 - 08-2021'] +\n",
    "                                                            ST2.at['queens_midtown_tunnel O', 'Target 5 - 05-2022'] +\n",
    "                                                            ST2.at['hugh_l_carey_tunnel O', 'Target 5 - 05-2022'] +\n",
    "                                                            ST2.at['bronx_whitestone_bridge O', 'Target 5 - 05-2022'] +\n",
    "                                                            ST2.at['throgs_neck_bridge O', 'Target 5 - 05-2022'] +\n",
    "                                                            # ST2.at['varrazzano_narrows_bridge I','Target Baseline'] +\n",
    "                                                            # ST2.at['varrazzano_narrows_bridge O', 'Target 4 - 08-2021'] +\n",
    "                                                            ST2.at['marine_parkwaygil_hodges_memorial_bridge O', 'Target 5 - 05-2022'] +\n",
    "                                                            ST2.at['cross_bay_veterans_memorial_bridge O', 'Target 5 - 05-2022'])\n",
    "\n",
    "ST2.to_csv('outputs/validationNYC16.csv')\n"
   ]
  },
  {
   "cell_type": "code",
   "execution_count": null,
   "id": "344542df-9f03-41d1-8d57-d3a27be9dba6",
   "metadata": {},
   "outputs": [],
   "source": [
    "ST = pd.read_csv('outputs/SummaryTable_Pilates_RHM5.csv', index_col = 'Unnamed: 0')\n",
    "\n",
    "#Validation RHM\n",
    "STRH = pd.DataFrame()\n",
    "\n",
    "for name in names:\n",
    "    \n",
    "    STRH.at['Trip Est Ride Hail', name] = ST.at['Trip Est Ride Hail', name]\n",
    "    STRH.at['Trip Est Ride Hail-Transit', name] = ST.at['Trip Est Ride Hail-Transit', name]\n",
    "    STRH.at['Trip Est Ride Hail Pooled', name] = ST.at['Trip Est Ride Hail Pooled', name]\n",
    "    STRH.at['Trip Mode Ride Hail', name] = ST.at['Trip Mode Ride Hail', name]\n",
    "    STRH.at['Trip Mode Ride Hail-Transit', name] = ST.at['Trip Mode Ride Hail-Transit', name]\n",
    "    STRH.at['Trip Mode Ride Hail Pooled', name] = ST.at['Trip Mode Ride Hail Pooled', name]\n",
    "    STRH.at['Trip Replan Ride Hail Share', name] = (ST.at['Trip Replan Ride Hail', name]+\n",
    "                                                    ST.at['Trip Replan Ride Hail-Transit', name]+\n",
    "                                                    ST.at['Trip Replan Ride Hail Pooled', name])/(ST.at['Trip Mode Ride Hail', name]+\n",
    "                                                                                                  ST.at['Trip Mode Ride Hail-Transit', name]+\n",
    "                                                                                                  ST.at['Trip Mode Ride Hail Pooled', name])\n",
    "                                                        \n",
    "    STRH.at['Trip Replan Ride Hail', name] = ST.at['Trip Replan Ride Hail', name]\n",
    "    STRH.at['Trip Replan Ride Hail-Transit', name] = ST.at['Trip Replan Ride Hail-Transit', name]\n",
    "    STRH.at['Trip Replan Ride Hail Pooled', name] = ST.at['Trip Replan Ride Hail Pooled', name]\n",
    "    STRH.at['Trip Exec Ride Hail', name] = ST.at['Trip Exec Ride Hail', name]\n",
    "    STRH.at['Trip Exec Ride Hail-Transit', name] = ST.at['Trip Exec Ride Hail-Transit', name]\n",
    "    STRH.at['Trip Exec Ride Hail Pooled', name] = ST.at['Trip Exec Ride Hail Pooled', name]\n",
    "    STRH.at['Percentage RH Pooled Trips', name] = (ST.at['Trip Exec Ride Hail Pooled', name])/(ST.at['Trip Exec Ride Hail', name]+ST.at['Trip Exec Ride Hail Pooled', name])\n",
    "    STRH.at['Daily Trips per RH Driver', name] = (ST.at['Trip Exec Ride Hail', name]+\n",
    "                                                 ST.at['Trip Exec Ride Hail-Transit', name]+\n",
    "                                                 ST.at['Trip Exec Ride Hail Pooled', name])/ST.at['Number RH vehicles', name]\n",
    "    STRH.at['Daily RH Trips', name] = (ST.at['Trip Exec Ride Hail', name]+\n",
    "                                                 ST.at['Trip Exec Ride Hail-Transit', name]+\n",
    "                                                 ST.at['Trip Exec Ride Hail Pooled', name])\n",
    "    STRH.at['VMT Ride Hail [km]', name] = ST.at['Length Vehicle SUM Ride Hail [km]', name]+ST.at['Length Vehicle SUM Empty Ride Hail [km]', name]\n",
    "    STRH.at['Length Vehicle AV Ride Hail [km]', name] = ST.at['Length Vehicle AV Ride Hail [km]', name]\n",
    "    STRH.at['Length Vehicle AV Empty Ride Hail [km]', name] = ST.at['Length Vehicle AV Empty Ride Hail [km]', name]\n",
    "    STRH.at['Share deadhead VMT', name] = STRH.at['Length Vehicle AV Empty Ride Hail [km]', name]/(STRH.at['Length Vehicle AV Ride Hail [km]', name]+STRH.at['Length Vehicle AV Empty Ride Hail [km]', name])\n",
    "    STRH.at['Duration Vehicle AV Ride Hail [h]', name] = ST.at['Duration Vehicle AV Ride Hail [h]', name]\n",
    "    STRH.at['Duration Vehicle AV Empty Ride Hail [h]', name] = ST.at['Duration Vehicle AV Empty Ride Hail [h]', name]\n",
    "    STRH.at['Duration Person AV Ride Hail [h]', name] = ST.at['Duration Person AV Ride Hail [h]', name]\n",
    "    STRH.at['Duration Person AV Empty Ride Hail [h]', name] = ST.at['Duration Person AV Empty Ride Hail [h]', name]\n",
    "    STRH.at['Speed Vehicle AV Ride Hail [km/h]', name] = (ST.at['Length Vehicle SUM Ride Hail [km]', name])/(\n",
    "                                                        ST.at['Duration Vehicle SUM Ride Hail [h]', name])\n",
    "    STRH.at['Number RH vehicles', name] = ST.at['Number RH vehicles', name]\n",
    "    STRH.at['AV Waiting Time RH [s]', name] = ST.at['AV Waiting Time RH', name]\n",
    "    STRH.at['AV Waiting Time RH Pooled [s]', name] = ST.at['AV Waiting Time RH Pooled', name]\n",
    "    STRH.at['AV Waiting Time RH Single [s]', name] = ST.at['AV Waiting Time RH Single', name]\n",
    "\n",
    "STRH.at['Number RH vehicles', 'CPUC'] = 16920\n",
    "STRH.at['Length Vehicle AV Ride Hail [km]', 'CPUC'] = 6.88*1.60934\n",
    "STRH.at['Length Vehicle AV Empty Ride Hail [km]', 'CPUC'] = 2.54*1.60934\n",
    "STRH.at['Daily Trips per RH Driver', 'CPUC'] = 26.8\n",
    "STRH.at['Daily RH Trips', 'CPUC'] = 353000\n",
    "STRH.at['Duration Vehicle AV Ride Hail [h]', 'CPUC'] = 0.286\n",
    "STRH.at['AV Waiting Time RH [s]', 'CPUC'] = 344\n",
    "STRH.at['Percentage RH Pooled Trips', 'CPUC'] = 0.14\n",
    "STRH.at['Speed Vehicle AV Ride Hail [km/h]', 'CPUC'] = 24.4*1.60934\n",
    "STRH.at['Trip Replan Ride Hail Share', 'CPUC'] = 0.018\n",
    "STRH.at['VMT Ride Hail [km]', 'CPUC'] = 3300000*1.60934\n",
    "\n",
    "STRH.at['Number RH vehicles', 'CPUC 10% Sample'] = 16920/10\n",
    "STRH.at['Length Vehicle AV Ride Hail [km]', 'CPUC 10% Sample'] = 6.88*1.60934\n",
    "STRH.at['Length Vehicle AV Empty Ride Hail [km]', 'CPUC 10% Sample'] = 2.54*1.60934\n",
    "STRH.at['Daily Trips per RH Driver', 'CPUC 10% Sample'] = 26.8\n",
    "STRH.at['Daily RH Trips', 'CPUC 10% Sample'] = 353000/10\n",
    "STRH.at['Duration Vehicle AV Ride Hail [h]', 'CPUC 10% Sample'] = 0.286\n",
    "STRH.at['AV Waiting Time RH [s]', 'CPUC 10% Sample'] = 344\n",
    "STRH.at['Percentage RH Pooled Trips', 'CPUC 10% Sample'] = 0.14\n",
    "STRH.at['Speed Vehicle AV Ride Hail [km/h]', 'CPUC 10% Sample'] = 24.4*1.60934\n",
    "STRH.at['Trip Replan Ride Hail Share', 'CPUC 10% Sample'] = 0.018\n",
    "STRH.at['VMT Ride Hail [km]', 'CPUC 10% Sample'] = 3300000*1.60934/10\n",
    "\n",
    "STRH.at['Share deadhead VMT', name] = STRH.at['Length Vehicle AV Empty Ride Hail [km]', 'CPUC 10% Sample']/(STRH.at['Length Vehicle AV Empty Ride Hail [km]', 'CPUC 10% Sample']+STRH.at['Length Vehicle AV Ride Hail [km]', 'CPUC 10% Sample'])\n",
    "\n",
    "\n",
    "STRH.to_csv('outputs/validationRH5.csv')"
   ]
  },
  {
   "cell_type": "code",
   "execution_count": null,
   "id": "3951898e-febb-420e-be17-773b3390a39e",
   "metadata": {
    "tags": []
   },
   "outputs": [],
   "source": [
    "def mergePathTraversals(names, PTss, PtoPTss):\n",
    "    print('---------------------------------------------------------------')\n",
    "    print('mergePathTraversals...')\n",
    "    start = time.time()\n",
    "    count = 0\n",
    "    for name in names:\n",
    "        PTs = PTss[name]\n",
    "        PtoPTs = PtoPTss[name]\n",
    "        PtoPTs_toappend = []\n",
    "        if count == 0:\n",
    "            MergedPTs = PTs\n",
    "            MergedPtoPTs = PtoPTs\n",
    "            len_initial_PtoPTs = len(MergedPtoPTs)\n",
    "            len_initial_PTs = len(MergedPTs)\n",
    "            print('len(MergedPTs)',len_initial_PTs)\n",
    "            print('len(MergedPtoPTs)',len_initial_PtoPTs)\n",
    "\n",
    "        else:\n",
    "            \n",
    "            new_PtoPTs_rows_tr_exp = 0\n",
    "\n",
    "            print('modes recorded:',PTs['mode'].value_counts().keys())\n",
    "            print('you are considering walk, bike, car, bus, subway, rail, tram, ferry')\n",
    "            \n",
    "\n",
    "            #Public modes\n",
    "            PTs_Toup = PTs[(PTs['mode']=='bus')|(PTs['mode']=='subway')|(PTs['mode']=='rail')|(PTs['mode']=='tram')|(PTs['mode']=='ferry')]\n",
    "            PTs_indexes = list(PTs_Toup.index)\n",
    "            #Filtert public PtoPTs\n",
    "            PtoPTs_toadd = PtoPTs[PtoPTs['pathTraversalID'].isin(PTs_indexes)]\n",
    "            print('Pts to update for public transport mode',len(PTs_Toup))\n",
    "            #Group PTS per 'departureTime', 'vehicle','startX'\n",
    "            PTs_Toup_lookup = PTs_Toup.groupby(['departureTime', 'vehicle','startX','endY','duration']).apply(lambda x: [x.index,\n",
    "                                                    x.occupancy,x.passengerMiles,x.capacity]).to_dict()\n",
    "            #Group mergedPTS per 'departureTime', 'vehicle','startX'\n",
    "            MergedPTs_lookup = MergedPTs.groupby(['departureTime', 'vehicle','startX','endY','duration']).apply(lambda x: list(x.index)).to_dict()\n",
    "            \n",
    "            i=0\n",
    "            \n",
    "            a = time.time()\n",
    "            b = time.time()\n",
    "            for key, val in PTs_Toup_lookup.items():\n",
    "                #tracking remaining time\n",
    "                i+=1\n",
    "                if i%10000 == 0:\n",
    "                    print(i)\n",
    "                    print(time.time()-a,'remaining time:',(time.time()-a)*(len(PTs_Toup)-1)/10000-(a-b),'s')\n",
    "                    a = time.time()\n",
    "                try:\n",
    "                    #look for the relative pathtraversal index on first simulation\n",
    "                    index = MergedPTs_lookup[(key[0],key[1],key[2],key[3],key[4])]\n",
    "                    #check number of pathtraversal found...if more than one probably is due to zero durations\n",
    "                    if len(index)!=1:\n",
    "                        print('mmh...')\n",
    "                        print('too many correspondances in the Merged PTs',len(index))\n",
    "                        print(index)\n",
    "                        print('PTs to update: depTime, vehicle, startX,endY,duration,capacity,passengerMiles,occupancy-------->',\n",
    "                              key[0],key[1],key[2],key[3],key[4],[list(val[3])[0],list(val[2])[0],list(val[1])[0]])\n",
    "                        print('Merget Pts -------->',MergedPTs.loc[index[:], ['vehicle','departureTime','capacity','passengerMiles','occupancy','startX']])\n",
    "                    else:\n",
    "                        PtoPTs_toadd = PtoPTs.iloc[np.where(PtoPTs.pathTraversalID.values==list(val[0])[0])]\n",
    "                        new_PtoPTs_rows_tr_exp += list(val[1])[0]\n",
    "                        #check if we found the right number of PtoPTs to add\n",
    "                        if len(PtoPTs_toadd)!=list(val[1])[0]:\n",
    "                            print('hmm... not all VVP trips were found')\n",
    "                            print(list(val[1])[0], 'expected, ',len(PtoPTs_toadd), 'found' )\n",
    "                            print('PTs to update: depTime, vehicle, startX,endY,duration, capacity,passengerMiles,occupancy -------->',\n",
    "                                  key[0],key[1],key[2],key[3],key[4],[list(val[3])[0],list(val[2])[0],list(val[1])[0]])\n",
    "                            print('Merget Pts -------->',MergedPTs.loc[index[0], ['vehicle','departureTime','capacity','passengerMiles','occupancy','startX']])\n",
    "                            print('PtoPTs_toadd', PtoPTs_toadd)\n",
    "                        #PtoPTs update pathTraversalID and add to the merged file\n",
    "                        # agents = ''\n",
    "                        if len(PtoPTs_toadd)>0:\n",
    "                            PtoPTs_toadd['pathTraversalID'] = PtoPTs_toadd['pathTraversalID'].apply(lambda x: index[0])\n",
    "                            PtoPTs_toappend.append(PtoPTs_toadd)\n",
    "\n",
    "                            \n",
    "                            # is_first_agent = True\n",
    "                            # for person in list(PtoPTs_toadd['personID']):\n",
    "                            #     if is_first_agent:\n",
    "                            #         agents = ':%s'%(str(person))\n",
    "                            #         is_first_agent = False\n",
    "                            #     else:\n",
    "                            #         agents += ':%s'%(str(person))\n",
    "                        MergedPTs.loc[index[0], ['capacity','passengerMiles','occupancy']] += [list(val[3])[0],list(val[2])[0],list(val[1])[0]]\n",
    "                        # MergedPTs.loc[index[0], ['riders']] += agents\n",
    "\n",
    "\n",
    "                except:\n",
    "                    print('mmh...')\n",
    "                    print([(key[0],key[1],key[2],key[3],key[4])],'not in the merged PTs')\n",
    "\n",
    "                \n",
    "            MergedPtoPTs = pd.concat([MergedPtoPTs,pd.concat(PtoPTs_toappend)])\n",
    "            new_PtoPTs_rows_tr = len(pd.concat(PtoPTs_toappend))\n",
    "\n",
    "\n",
    "            print('---------------------------------------------------------------')\n",
    "            #Private modes\n",
    "            #filter PTs\n",
    "            PTs_toadd = PTs[(PTs['mode']=='walk')|(PTs['mode']=='car')|(PTs['mode']=='bike')]\n",
    "            #Update vehicle name\n",
    "            PTs_toadd.loc[:,'vehicle'] = PTs_toadd['vehicle'].astype(str) + '_' + str(count)\n",
    "            #Update indexes\n",
    "            PTs_indexes = list(PTs_toadd.index)\n",
    "            PTs_toadd.index = PTs_toadd.index+count*1000000000\n",
    "            #Merge PTs\n",
    "            MergedPTs = pd.concat([MergedPTs,PTs_toadd])\n",
    "            #Filter PtoPTs\n",
    "            PtoPTs_toadd = PtoPTs[PtoPTs['pathTraversalID'].isin(PTs_indexes)]\n",
    "            #Update vehicle name\n",
    "            PtoPTs_toadd.loc[:,'vehicleID'] = PtoPTs_toadd['vehicleID'].astype(str) + '_' + str(count)\n",
    "            #Update indexes\n",
    "            PtoPTs_toadd.loc[:,'pathTraversalID'] = PtoPTs_toadd['pathTraversalID']+count*1000000000\n",
    "            #Merge PTs\n",
    "            MergedPtoPTs = pd.concat([MergedPtoPTs,PtoPTs_toadd])\n",
    "            \n",
    "            new_PTs_rows = len(PTs_toadd)\n",
    "            new_PtoPTs_rows = len(PtoPTs_toadd)\n",
    "            new_PtoPTs_rows_exp = np.sum(PTs_toadd[PTs_toadd['mode']!='walk']['occupancy'])\n",
    "        print('---------------------------------------------------------------')\n",
    "        if count > 0:\n",
    "            print('len(MergedPTs)',len(MergedPTs))\n",
    "            print('len(MergedPtoPTs)',len(MergedPtoPTs))\n",
    "            print('new PtoPTs rows =',len(MergedPtoPTs)-len_initial_PtoPTs)\n",
    "            print('new PTs rows =',len(MergedPTs)-len_initial_PTs)\n",
    "            print('expected new PtoPTs rows no transit:',new_PtoPTs_rows_exp)\n",
    "            print('expected new PtoPTs rows transit:',new_PtoPTs_rows_tr_exp)\n",
    "            print('new PtoPTs rows no transit:',new_PtoPTs_rows)\n",
    "            print('new PtoPTs rows transit:',new_PtoPTs_rows_tr)\n",
    "            print('new PTs rows no transit:',new_PTs_rows)\n",
    "        count+=1\n",
    "        print('---------------------------------------------------------------')\n",
    "    print('Total time:', time.time()-start)\n",
    "    return MergedPTs, MergedPtoPTs"
   ]
  },
  {
   "cell_type": "code",
   "execution_count": null,
   "id": "37d00d86",
   "metadata": {
    "tags": []
   },
   "outputs": [],
   "source": [
    "PTss = {}\n",
    "PEVss = {}\n",
    "PLVss = {}\n",
    "tripss = {}\n",
    "Rpss = {}\n",
    "activitiess = {}\n",
    "personToTripDepartures = {}\n",
    "PtoPTss = {}\n",
    "MCss = {}\n",
    "EFPs = data.keys()\n",
    "PFPs = plan_names\n",
    "FP = fp\n",
    "for EFP, PFP, name in zip(EFPs, PFPs, names):\n",
    "    MCs, PTss[name], PEVss[name], PLVss[name], RPs, ASs = readEvents(FP+EFP)\n",
    "    MCs, PTss[name], PEVss[name], PLVss[name] = fixData(MCs, PTss[name], PEVss[name], PLVss[name], len_id_transit)\n",
    "    tripss[name], activitiess[name], personToTripDepartures[name], is_leg_mode = processPlans(FP+PFP)\n",
    "    PtoPTss[name] = personToPathTraversal(PTss[name],\n",
    "                    PEVss[name], PLVss[name], personToTripDepartures[name])\n",
    "    \n",
    "\n",
    "    \n",
    "    \n",
    "print('total time', time.time()-start)"
   ]
  },
  {
   "cell_type": "code",
   "execution_count": null,
   "id": "4bc864b8-e327-4874-9438-f14a84dacd55",
   "metadata": {
    "tags": []
   },
   "outputs": [],
   "source": [
    "# Filter only Bus companies of interest\n",
    "# 151_631:t_ 143005 trips\n",
    "# Long_Islan 178710 trips\n",
    "# Metro-Nort 105896 trips\n",
    "# MTA_Bronx_ 420082 trips\n",
    "# MTA_Brookl 783452 trips\n",
    "# MTA_Manhat 444432 trips\n",
    "# MTA_Queens 290973 trips\n",
    "# MTA_Staten 188297 trips\n",
    "# NJ_Transit 778050 trips\n",
    "# NYC_Bus_Co 486766 trips\n",
    "# NYC_Ferry_ 9810 trips\n",
    "# NYC_Subway 4430783 trips  NO!\n",
    "# Staten_Isl 5419 trips\n",
    "# Suffolk_Co 1043 trips\n",
    "# WCDOT_2019 138950 trips\n",
    "PTss_copy = PTss\n",
    "PtoPTss_copy = PtoPTss\n",
    "for name in names:\n",
    "    print('len PTss[name] pre',len(PTss[name]))\n",
    "    PTss[name] = PTss[name][(PTss[name]['vehicle'].str.contains('151_631:t_'))|\n",
    "                            (PTss[name]['vehicle'].str.contains('Long_Islan'))|\n",
    "                            (PTss[name]['vehicle'].str.contains('Metro-Nort'))|\n",
    "                            (PTss[name]['vehicle'].str.contains('MTA_Bronx_'))|\n",
    "                            (PTss[name]['vehicle'].str.contains('MTA_Brookl'))|\n",
    "                            (PTss[name]['vehicle'].str.contains('MTA_Manhat'))|\n",
    "                            (PTss[name]['vehicle'].str.contains('MTA_Queens'))|\n",
    "                            (PTss[name]['vehicle'].str.contains('MTA_Staten'))|\n",
    "                            (PTss[name]['vehicle'].str.contains('NJ_Transit'))|\n",
    "                            (PTss[name]['vehicle'].str.contains('NYC_Bus_Co'))|\n",
    "                            (PTss[name]['vehicle'].str.contains('NYC_Ferry_'))|\n",
    "                            (PTss[name]['vehicle'].str.contains('NYC_Subway'))|\n",
    "                            (PTss[name]['vehicle'].str.contains('Staten_Isl'))|\n",
    "                            (PTss[name]['vehicle'].str.contains('WCDOT_2019'))|\n",
    "                            # (PTss[name]['vehicle'].str.contains('Suffolk_Co'))|\n",
    "                            # (PTss[name]['vehicle'].str.contains('NICE_117_2'))|\n",
    "                            # (PTss[name]['vehicle'].str.contains('PATH_20200'))|\n",
    "                            # (PTss[name]['vehicle'].str.contains('JFK_Airtra'))\n",
    "                            ]\n",
    "    print('len PTss[name] post',len(PTss[name]))\n",
    "    print('len PtoPTss[name] pre',len(PtoPTss[name]))\n",
    "    PtoPTss[name] = PtoPTss[name][(PtoPTss[name]['vehicleID'].str.contains('151_631:t_'))|\n",
    "                            (PtoPTss[name]['vehicleID'].str.contains('Long_Islan'))|\n",
    "                            (PtoPTss[name]['vehicleID'].str.contains('Metro-Nort'))|\n",
    "                            (PtoPTss[name]['vehicleID'].str.contains('MTA_Bronx_'))|\n",
    "                            (PtoPTss[name]['vehicleID'].str.contains('MTA_Brookl'))|\n",
    "                            (PtoPTss[name]['vehicleID'].str.contains('MTA_Manhat'))|\n",
    "                            (PtoPTss[name]['vehicleID'].str.contains('MTA_Queens'))|\n",
    "                            (PtoPTss[name]['vehicleID'].str.contains('MTA_Staten'))|\n",
    "                            (PtoPTss[name]['vehicleID'].str.contains('NJ_Transit'))|\n",
    "                            (PtoPTss[name]['vehicleID'].str.contains('NYC_Bus_Co'))|\n",
    "                            (PtoPTss[name]['vehicleID'].str.contains('NYC_Ferry_'))|\n",
    "                            (PtoPTss[name]['vehicleID'].str.contains('NYC_Subway'))|\n",
    "                            (PtoPTss[name]['vehicleID'].str.contains('Staten_Isl'))|\n",
    "                            (PtoPTss[name]['vehicleID'].str.contains('WCDOT_2019'))|\n",
    "                            # (PtoPTss[name]['vehicleID'].str.contains('Suffolk_Co'))|\n",
    "                            # (PtoPTss[name]['vehicleID'].str.contains('NICE_117_2'))|\n",
    "                            # (PtoPTss[name]['vehicleID'].str.contains('PATH_20200'))|\n",
    "                            # (PtoPTss[name]['vehicleID'].str.contains('JFK_Airtra'))\n",
    "                            ]\n",
    "    \n",
    "    print('len PtoPTss[name] post',len(PtoPTss[name]))\n"
   ]
  },
  {
   "cell_type": "code",
   "execution_count": null,
   "id": "ef9e88f0",
   "metadata": {
    "tags": []
   },
   "outputs": [],
   "source": [
    "start = time.time()\n",
    "transit_agencies = ['NJ_Transit_Rail', \n",
    "                    'NJ_Transit_Bus', \n",
    "                    '151_631:t_',\n",
    "                    'Long_Islan',\n",
    "                    'Metro-Nort',\n",
    "                    'MTA_Bronx_', \n",
    "                    'MTA_Brookl', \n",
    "                    'MTA_Manhat', \n",
    "                    'MTA_Queens', \n",
    "                    'MTA_Staten',\n",
    "                    'NYC_Bus_Co', \n",
    "                    'NYC_Ferry_', \n",
    "                    'NYC_Subway', \n",
    "                    'Staten_Island_Ferry',\n",
    "                    #'Suffolk_Co', \n",
    "                    'WCDOT_2019']\n",
    "MergedPTs = []\n",
    "MergedPtoPTs = []\n",
    "for transit_agency in transit_agencies: \n",
    "    PTss_agency = {}\n",
    "    PtoPTss_agency= {}\n",
    "    print('---------------------------------------------------------------')\n",
    "    print('Analyzing the agency', transit_agency)\n",
    "    print('---------------------------------------------------------------')\n",
    "    for name in names:\n",
    "        PTss_agency[name] = PTss[name][PTss[name]['vehicle'].str.contains(transit_agency)]\n",
    "        PtoPTss_agency[name] = PtoPTss[name][PtoPTss[name]['vehicleID'].str.contains(transit_agency)]\n",
    "    MergedPTs_agency, MergedPtoPTs_agency = mergePathTraversals(names, PTss_agency,PtoPTss_agency)\n",
    "    MergedPTs.append(MergedPTs_agency)\n",
    "    MergedPtoPTs.append(MergedPtoPTs_agency)\n",
    "\n",
    "MergedPTs_final = pd.concat(MergedPTs)\n",
    "MergedPtoPTs_final = pd.concat(MergedPtoPTs)\n",
    "\n",
    "#add riders\n",
    "riders = {}\n",
    "for person, i, pathID  in zip(MergedPtoPTs_final['personID'],range(len(MergedPtoPTs_final.index)),MergedPtoPTs_final['pathTraversalID']):\n",
    "    if i%1000000 == 0:\n",
    "        print(i, pathID)\n",
    "    if pathID in riders:\n",
    "        riders[pathID].append(person) \n",
    "    else:\n",
    "        riders[pathID] = [person] \n",
    "\n",
    "persons = []\n",
    "for pathID, i in zip(MergedPTs_final.index, range(len(MergedPTs_final.index))):\n",
    "    if i%1000000 == 0:\n",
    "        print(i, pathID)\n",
    "    if pathID in riders:\n",
    "        persons.append(riders[pathID])\n",
    "    else:\n",
    "        persons.append([])\n",
    "MergedPTs_final['riders']=persons\n",
    "\n",
    "right = 0\n",
    "not_right = 0\n",
    "for rider, occupancy, i in zip(MergedPTs_final['riders'],MergedPTs_final['occupancy'], range(len(MergedPTs_final.index))):\n",
    "    if i%100000 == 0:\n",
    "        print(i, pathID)\n",
    "    # if rider != []:\n",
    "        # print(len(rider), occupancy)\n",
    "    if len(rider) == occupancy:\n",
    "        right +=1\n",
    "    else:\n",
    "        not_right+=1\n",
    "print('right', right,'not_right', not_right)\n",
    "\n",
    "\n",
    "\n",
    "\n",
    "MergedPtoPTs_final['agency'] = MergedPtoPTs_final['agency'].apply(lambda x: x[:10])\n",
    "#Update Nj transit agency\n",
    "agencies = []\n",
    "for vehicle, agency in zip(MergedPtoPTs_final['vehicleID'],MergedPtoPTs_final['agency']):\n",
    "    if 'NJ_Transit_Bus' in vehicle:\n",
    "        agencies.append('NJ_Transit_Bus')\n",
    "    elif 'NJ_Transit_Rail' in vehicle:\n",
    "        agencies.append('NJ_Transit_Rail')\n",
    "    else:\n",
    "        agencies.append(agency)\n",
    "MergedPtoPTs_final['agency'] = agencies\n",
    "print('total time', time.time()-start)"
   ]
  },
  {
   "cell_type": "code",
   "execution_count": null,
   "id": "62c771ad-12ec-42bb-9ed0-bcacb4dd35b0",
   "metadata": {
    "tags": []
   },
   "outputs": [],
   "source": [
    "#check\n",
    "for agency in transit_agencies:\n",
    "    print(agency)\n",
    "    print(int(np.sum(PT_final2[PT_final2['vehicle'].str.contains(agency)]['occupancy'])))\n",
    "    MergedPtoPTs_final['agency'].value_counts()"
   ]
  },
  {
   "cell_type": "code",
   "execution_count": null,
   "id": "deca4b08-5370-46b3-8064-adec6d3bd51a",
   "metadata": {
    "tags": []
   },
   "outputs": [],
   "source": [
    "#check\n",
    "for agency in transit_agencies:\n",
    "    print(agency)\n",
    "    print(int(np.sum(PT_final2[PT_final2['vehicle'].str.contains(agency)]['occupancy'])))\n",
    "    MergedPtoPTs_final['agency'].value_counts()"
   ]
  },
  {
   "cell_type": "code",
   "execution_count": null,
   "id": "98ffd1ca-0c4d-484a-9fb6-723a77e4bc21",
   "metadata": {
    "tags": []
   },
   "outputs": [],
   "source": [
    "name = 'Baseline'\n",
    "MergedPTs_final.to_csv('outputs/MergedPTs_NYC_'+name+'.csv.gz')\n",
    "MergedPtoPTs_final.to_csv('outputs/MergedPtoPTs_NYC_'+name+'.csv.gz')"
   ]
  },
  {
   "cell_type": "code",
   "execution_count": null,
   "id": "3c808c8a-6232-411f-8d4c-1d205394bc16",
   "metadata": {
    "tags": []
   },
   "outputs": [],
   "source": [
    "#check\n",
    "for agency in transit_agencies:\n",
    "    print(agency)\n",
    "    print(int(np.sum(PT_final2[PT_final2['vehicle'].str.contains(agency)]['occupancy'])))\n",
    "    MergedPtoPTs_final['agency'].value_counts()"
   ]
  },
  {
   "cell_type": "code",
   "execution_count": null,
   "id": "17da581a-12ec-4c69-943d-70972147b6cb",
   "metadata": {},
   "outputs": [],
   "source": [
    "np.sum(PtoPTss['links']=='')"
   ]
  },
  {
   "cell_type": "code",
   "execution_count": null,
   "id": "1ce0142b-ce23-462d-af89-63848414c939",
   "metadata": {},
   "outputs": [],
   "source": [
    "wrong = 0\n",
    "modes = []\n",
    "for links, mode in zip(PtoPTss['links'],PtoPTss['mode']):\n",
    "    if len(links)==1:\n",
    "        wrong+=1\n",
    "        modes.append(mode)\n",
    "print(wrong)"
   ]
  },
  {
   "cell_type": "code",
   "execution_count": null,
   "id": "7ce67c76-8b44-4243-983b-ff204dc037dc",
   "metadata": {},
   "outputs": [],
   "source": [
    "len(PtoPTss)"
   ]
  },
  {
   "cell_type": "code",
   "execution_count": null,
   "id": "22ea4dfa-0ec5-47e1-b289-448fafbd7d64",
   "metadata": {},
   "outputs": [],
   "source": [
    "a=PTs[PTs['links']=='']"
   ]
  },
  {
   "cell_type": "code",
   "execution_count": null,
   "id": "5e72f63d-1336-4487-af9a-b12e8b36b1c4",
   "metadata": {},
   "outputs": [],
   "source": [
    "a"
   ]
  },
  {
   "cell_type": "code",
   "execution_count": null,
   "id": "8aa43b16-e0eb-44b5-bfda-44659938bcb7",
   "metadata": {},
   "outputs": [],
   "source": [
    "np.unique(modes,return_counts=True)"
   ]
  },
  {
   "cell_type": "code",
   "execution_count": null,
   "id": "ed716be1-2da9-42fe-a176-5b88f19dfc80",
   "metadata": {},
   "outputs": [],
   "source": []
  },
  {
   "cell_type": "code",
   "execution_count": null,
   "id": "bceb0075-387a-442c-a19a-969a2db9f955",
   "metadata": {},
   "outputs": [],
   "source": [
    "        network = pd.read_csv(fp+data_name[:-(len(data_name.split('/')[-1])+len(data_name.split('/')[-2])+len(data_name.split('/')[-3])+2)]+'network.csv.gz')\n"
   ]
  },
  {
   "cell_type": "code",
   "execution_count": null,
   "id": "d6671669-2f50-4cec-8c0d-4c05667a5e22",
   "metadata": {},
   "outputs": [],
   "source": [
    "network"
   ]
  },
  {
   "cell_type": "code",
   "execution_count": null,
   "id": "e1ad35b2-4db8-444d-8784-ea4e2fc9827a",
   "metadata": {},
   "outputs": [],
   "source": [
    "events = pd.read_csv('s3://beam-outputs/pilates-outputs/sfbay-rhprice0.5-rhfleet0.5-20220903/beam/year-2018-iteration-5/ITERS/it.0/0.events.csv.gz'\n",
    "                     ,nrows = 900000)\n"
   ]
  },
  {
   "cell_type": "code",
   "execution_count": null,
   "id": "180a1d1e-58cf-4790-87be-e7ba5119be7f",
   "metadata": {},
   "outputs": [],
   "source": [
    "events[(events['type']=='ModeChoice')]['tripId']"
   ]
  },
  {
   "cell_type": "code",
   "execution_count": null,
   "id": "f54f3001-1e31-4737-a2ec-531b2baa084f",
   "metadata": {},
   "outputs": [],
   "source": [
    "pd.read_csv('gs://beam-core-outputs/beam-core-outputs/sfbay-2010-accessibility-fleetpct-0.5-wheelchair-0.5-20220917/beam/year-2012-iteration-3/ITERS/it.0/0.events.csv.gz')\n",
    "            \n",
    "            \n",
    "            \n",
    "            "
   ]
  },
  {
   "cell_type": "raw",
   "id": "0203a41f-e2e3-479b-a6e8-509b995a8f7f",
   "metadata": {},
   "source": []
  },
  {
   "cell_type": "code",
   "execution_count": null,
   "id": "ccf9420c-7782-4984-9eb4-f79e2095ec38",
   "metadata": {},
   "outputs": [],
   "source": [
    "url = (\n",
    "                'https://opendata.arcgis.com/datasets/'\n",
    "                'San_Francisco_Bay_Region_2010_Census_Block_Groups.geojson')\n",
    "gdf = gpd.read_file(url, crs=\"EPSG:4326\")"
   ]
  },
  {
   "cell_type": "code",
   "execution_count": null,
   "id": "75785a2f-e1f0-4cbe-af64-76b407a6c87d",
   "metadata": {},
   "outputs": [],
   "source": []
  },
  {
   "cell_type": "code",
   "execution_count": null,
   "id": "0c251472-458f-4376-aaf8-35be87d5ab40",
   "metadata": {},
   "outputs": [],
   "source": []
  }
 ],
 "metadata": {
  "kernelspec": {
   "display_name": "Python 3 (ipykernel)",
   "language": "python",
   "name": "python3"
  },
  "language_info": {
   "codemirror_mode": {
    "name": "ipython",
    "version": 3
   },
   "file_extension": ".py",
   "mimetype": "text/x-python",
   "name": "python",
   "nbconvert_exporter": "python",
   "pygments_lexer": "ipython3",
   "version": "3.10.8"
  },
  "toc-autonumbering": true
 },
 "nbformat": 4,
 "nbformat_minor": 5
}
