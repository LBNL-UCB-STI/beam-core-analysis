{
 "cells": [
  {
   "cell_type": "code",
   "execution_count": null,
   "id": "8c76e856",
   "metadata": {},
   "outputs": [],
   "source": []
  },
  {
   "cell_type": "code",
   "execution_count": 1,
   "id": "370d9823",
   "metadata": {},
   "outputs": [
    {
     "name": "stderr",
     "output_type": "stream",
     "text": [
      "/Users/cpoliziani/opt/miniconda3/lib/python3.9/site-packages/geopandas/_compat.py:111: UserWarning: The Shapely GEOS version (3.10.2-CAPI-1.16.0) is incompatible with the GEOS version PyGEOS was compiled with (3.10.1-CAPI-1.16.0). Conversions between both will be slow.\n",
      "  warnings.warn(\n"
     ]
    }
   ],
   "source": [
    "import geopandas as gpd\n",
    "import numpy as np\n",
    "import pandas as pd\n",
    "import boto.s3"
   ]
  },
  {
   "cell_type": "code",
   "execution_count": 2,
   "id": "87f75d58",
   "metadata": {},
   "outputs": [],
   "source": [
    "def collectAllData(inDirectory, outDirectory, popDirectory):\n",
    "    trips, activities, personToTripDeparture = processPlans(popDirectory)\n",
    "\n",
    "    PTs, PEVs, PLVs = processEvents(inDirectory)\n",
    "\n",
    "    BGs = gpd.read_file('/Users/cpoliziani/Downloads/sfbay-blockgroups-2010/641aa0d4-ce5b-4a81-9c30-8790c4ab8cfb202047-1-wkkklf.j5ouj.shp')\n",
    "\n",
    "    trips = addGeometryIdToDataFrame(trips, BGs, 'originX', 'originY', 'startBlockGroup')\n",
    "    trips = addGeometryIdToDataFrame(trips, BGs, 'destinationX', 'destinationY', 'endBlockGroup')\n",
    "\n",
    "    activities = addGeometryIdToDataFrame(activities, BGs, 'x', 'y', 'activityBlockGroup')\n",
    "\n",
    "    PTs = addGeometryIdToDataFrame(PTs, BGs, 'startX', 'startY', 'startBlockGroup')\n",
    "    PTs = addGeometryIdToDataFrame(PTs, BGs, 'endX', 'endY', 'endBlockGroup')\n",
    "    PTs.index.set_names('PathTraversalID', inplace=True)\n",
    "\n",
    "    trips.to_csv(outDirectory + '/trips.csv.gz', index=True)\n",
    "    PTs.to_csv(outDirectory + '/pathTraversals.csv.gz', index=True)\n",
    "    activities.to_csv(outDirectory + '/activities.csv.gz', index=True)\n",
    "    \n",
    "    \n"
   ]
  },
  {
   "cell_type": "code",
   "execution_count": 3,
   "id": "08799d9f",
   "metadata": {},
   "outputs": [],
   "source": [
    "def processEvents(directory):\n",
    "    fullPath = directory + 'ITERS/it.0/0.events.csv.gz'\n",
    "    PTs = []\n",
    "    PEVs = []\n",
    "    PLVs = []\n",
    "    print('Reading ', fullPath)\n",
    "    for chunk in pd.read_csv(\"s3://beam-outputs/\" + fullPath, chunksize=1500000):\n",
    "        if sum((chunk['type'] == 'PathTraversal')) > 0:\n",
    "            chunk['vehicle'] = chunk['vehicle'].astype(str)\n",
    "            PT = chunk.loc[(chunk['type'] == 'PathTraversal') & (chunk['length'] > 0)].dropna(how='all', axis=1)\n",
    "            PT['departureTime'] = PT['departureTime'].astype(int)\n",
    "            PT['arrivalTime'] = PT['arrivalTime'].astype(int)\n",
    "            if 'riders' in PT.columns:\n",
    "                PT['riders'] = PT.riders.apply(ridersToList)\n",
    "            else:\n",
    "                PT['riders'] = [[]] * len(PT)\n",
    "            PTs.append(PT[['driver', 'vehicle', 'mode', 'length', 'startX', 'startY', 'endX', 'endY', 'vehicleType',\n",
    "                           'arrivalTime', 'departureTime', 'primaryFuel', 'primaryFuelType', 'secondaryFuel',\n",
    "                           'secondaryFuelType', 'numPassengers', 'riders']])\n",
    "            PEV = chunk.loc[(chunk.type == \"PersonEntersVehicle\") &\n",
    "                            ~(chunk['person'].apply(str).str.contains('Agent').fillna(False)) &\n",
    "                            ~(chunk['vehicle'].str.contains('body').fillna(False)), :].dropna(how='all', axis=1)\n",
    "            if ~PEV.empty:\n",
    "                PEV['person'] = PEV['person'].astype(int)\n",
    "                PEV['time'] = PEV['time'].astype(int)\n",
    "                PEVs.append(PEV)\n",
    "\n",
    "            PLV = chunk.loc[(chunk.type == \"PersonLeavesVehicle\") &\n",
    "                            ~(chunk['person'].apply(str).str.contains('Agent').fillna(False)) &\n",
    "                            ~(chunk['vehicle'].str.contains('body').fillna(False)), :].dropna(how='all', axis=1)\n",
    "            if ~PLV.empty:\n",
    "                PLV['person'] = PLV['person'].astype(int)\n",
    "                PLV['time'] = PLV['time'].astype(int)\n",
    "                PLVs.append(PLV)\n",
    "    PTs = fixPathTraversals(pd.concat(PTs))\n",
    "    return PTs, pd.concat(PEVs), pd.concat(PLVs)"
   ]
  },
  {
   "cell_type": "code",
   "execution_count": 4,
   "id": "360ce42b",
   "metadata": {},
   "outputs": [],
   "source": [
    "def processPlans(directory):\n",
    "    fullPath = directory + 'plans.csv.gz'\n",
    "    trips = []\n",
    "    activities = []\n",
    "    personToTripDeparture = {}\n",
    "    print(fullPath)\n",
    "    df = pd.read_csv(\"s3://beam-outputs/\" + fullPath)\n",
    "    df = addTimesToPlans(df)\n",
    "    legs = df.loc[(df['ActivityElement'].str.lower().str.contains('leg'))].dropna(how='all', axis=1)\n",
    "    legsSub = legs[['person_id', 'legDepartureTime',  'PlanElementIndex', 'originX', 'originY', 'destinationX', 'destinationY']]\n",
    "    for rowID, val in legsSub.iterrows():\n",
    "        personToTripDeparture.setdefault(val.person_id, []).append(\n",
    "            {\"planID\": val.PlanElementIndex, \"departureTime\": val.legDepartureTime * 3600.0})\n",
    "    trips.append(legsSub)\n",
    "    acts = df.loc[(df['ActivityElement'].str.lower().str.contains('activity'))].dropna(how='all', axis=1)\n",
    "\n",
    "    actsSub = acts[['person_id', 'ActivityType', 'x', 'y', 'departure_time']]\n",
    "    activities.append(actsSub)\n",
    "    return pd.concat(trips), pd.concat(activities), personToTripDeparture\n",
    "\n",
    "\n"
   ]
  },
  {
   "cell_type": "code",
   "execution_count": 5,
   "id": "b677ec9c",
   "metadata": {},
   "outputs": [],
   "source": [
    "def addGeometryIdToDataFrame(df, gdf, xcol, ycol, idColumn=\"geometry\", df_geom='epsg:4326'):\n",
    "    gdf_data = gpd.GeoDataFrame(df, geometry=gpd.points_from_xy(df[xcol], df[ycol]))\n",
    "    #gdf_data.set_crs(df_geom)\n",
    "    gdf_data.crs = {'init': df_geom}\n",
    "    joined = gpd.sjoin(gdf_data.to_crs('epsg:26910'), gdf.to_crs('epsg:26910'))\n",
    "    gdf_data = gdf_data.merge(joined['blkgrpid'], left_index=True, right_index=True, how=\"left\")\n",
    "    gdf_data.rename(columns={'blkgrpid': idColumn}, inplace=True)\n",
    "    df = pd.DataFrame(gdf_data.drop(columns='geometry'))\n",
    "    df.drop(columns=[xcol, ycol], inplace=True)\n",
    "    return df.loc[~df.index.duplicated(keep='first'), :]"
   ]
  },
  {
   "cell_type": "code",
   "execution_count": 6,
   "id": "1520d7f4",
   "metadata": {},
   "outputs": [],
   "source": [
    "def addTimesToPlans(plans):\n",
    "    legInds = np.where(plans['ActivityElement'].str.lower() == \"leg\")[0]\n",
    "    plans.loc[:, 'legDepartureTime'] = np.nan\n",
    "    plans.iloc[legInds, plans.columns.get_loc('legDepartureTime')] = plans['departure_time'].iloc[legInds - 1].copy()\n",
    "    plans.loc[:, 'originX'] = np.nan\n",
    "    plans.iloc[legInds, plans.columns.get_loc('originX')] = plans['x'].iloc[legInds - 1].copy()\n",
    "    plans.loc[:, 'originY'] = np.nan\n",
    "    plans.iloc[legInds, plans.columns.get_loc('originY')] = plans['y'].iloc[legInds - 1].copy()\n",
    "    plans.loc[:, 'destinationX'] = np.nan\n",
    "    plans.iloc[legInds, plans.columns.get_loc('destinationX')] = plans['x'].iloc[legInds + 1].copy()\n",
    "    plans.loc[:, 'destinationY'] = np.nan\n",
    "    plans.iloc[legInds, plans.columns.get_loc('destinationY')] = plans['y'].iloc[legInds + 1].copy()\n",
    "    return plans"
   ]
  },
  {
   "cell_type": "code",
   "execution_count": 7,
   "id": "12a9cc56",
   "metadata": {},
   "outputs": [],
   "source": [
    "def ridersToList(val):\n",
    "    if str(val) == 'nan':\n",
    "        return []\n",
    "    else:\n",
    "        return str(val).split(':')\n"
   ]
  },
  {
   "cell_type": "code",
   "execution_count": 8,
   "id": "98a8f86c",
   "metadata": {},
   "outputs": [],
   "source": [
    "def fixPathTraversals(PTs):\n",
    "    PTs['duration'] = PTs['arrivalTime'] - PTs['departureTime']\n",
    "    PTs['mode_extended'] = PTs['mode']\n",
    "    PTs['isRH'] = PTs['vehicle'].str.contains('rideHail')\n",
    "    PTs['isCAV'] = PTs['vehicleType'].str.contains('L5')\n",
    "    PTs.loc[PTs['isRH'], 'mode_extended'] += '_RideHail'\n",
    "    PTs.loc[PTs['isCAV'], 'mode_extended'] += '_CAV'\n",
    "    PTs['occupancy'] = PTs['numPassengers']\n",
    "    PTs.loc[PTs['mode_extended'] == 'car', 'occupancy'] += 1\n",
    "    PTs.loc[PTs['mode_extended'] == 'walk', 'occupancy'] = 1\n",
    "    PTs.loc[PTs['mode_extended'] == 'bike', 'occupancy'] = 1\n",
    "    PTs['vehicleMiles'] = PTs['length'] / 1609.34\n",
    "    PTs['passengerMiles'] = (PTs['length'] * PTs['occupancy']) / 1609.34\n",
    "    PTs['totalEnergyInJoules'] = PTs['primaryFuel'] + PTs['secondaryFuel']\n",
    "    PTs['gallonsGasoline'] = 0\n",
    "    PTs.loc[PTs['primaryFuelType'] == 'gasoline',\n",
    "            'gallonsGasoline'] += PTs.loc[PTs['primaryFuelType'] == 'gasoline', 'primaryFuel'] * 8.3141841e-9\n",
    "    PTs.loc[PTs['secondaryFuelType'] == 'gasoline',\n",
    "            'gallonsGasoline'] += PTs.loc[PTs['secondaryFuelType'] == 'gasoline', 'secondaryFuel'] * 8.3141841e-9\n",
    "    PTs.drop(columns=['numPassengers', 'length'], inplace=True)\n",
    "    return PTs\n"
   ]
  },
  {
   "cell_type": "code",
   "execution_count": 9,
   "id": "577f0271",
   "metadata": {},
   "outputs": [
    {
     "name": "stdout",
     "output_type": "stream",
     "text": [
      "allBeamOutputs                                                  name\n",
      "10  pilates-outputs/sfbay-cp_pilates_test/beam/yea...\n",
      "16  pilates-outputs/sfbay-cp_pilates_test/beam/yea...\n",
      "22  pilates-outputs/sfbay-cp_pilates_test/beam/yea...\n",
      "analyzing pilates-outputs/sfbay-cp_pilates_test/beam/year-2018-iteration-5/\n",
      "pilates-outputs/sfbay-cp_pilates_test/activitysim/year-2018-iteration-5/plans.csv.gz\n",
      "Reading  pilates-outputs/sfbay-cp_pilates_test/beam/year-2018-iteration-5/ITERS/it.0/0.events.csv.gz\n"
     ]
    },
    {
     "name": "stderr",
     "output_type": "stream",
     "text": [
      "/var/folders/h9/g8d27p9s5js3dx9z7b5y8k5c0000gr/T/ipykernel_50823/3275916981.py:7: DtypeWarning: Columns (0,4,5,7,9,12,13,14,15,17,21,24,25,26,27,30,33,43,44,50,52,53,54) have mixed types. Specify dtype option on import or set low_memory=False.\n",
      "  for chunk in pd.read_csv(\"s3://beam-outputs/\" + fullPath, chunksize=1500000):\n",
      "/var/folders/h9/g8d27p9s5js3dx9z7b5y8k5c0000gr/T/ipykernel_50823/3275916981.py:7: DtypeWarning: Columns (7,9,12,13,14,15,17,24,30,43,44) have mixed types. Specify dtype option on import or set low_memory=False.\n",
      "  for chunk in pd.read_csv(\"s3://beam-outputs/\" + fullPath, chunksize=1500000):\n",
      "/var/folders/h9/g8d27p9s5js3dx9z7b5y8k5c0000gr/T/ipykernel_50823/3275916981.py:7: DtypeWarning: Columns (7,9,12,13,14,15,17,24,30,43,44) have mixed types. Specify dtype option on import or set low_memory=False.\n",
      "  for chunk in pd.read_csv(\"s3://beam-outputs/\" + fullPath, chunksize=1500000):\n",
      "/var/folders/h9/g8d27p9s5js3dx9z7b5y8k5c0000gr/T/ipykernel_50823/3275916981.py:7: DtypeWarning: Columns (7,9,12,13,14,15,17,24,30,43,44) have mixed types. Specify dtype option on import or set low_memory=False.\n",
      "  for chunk in pd.read_csv(\"s3://beam-outputs/\" + fullPath, chunksize=1500000):\n",
      "/var/folders/h9/g8d27p9s5js3dx9z7b5y8k5c0000gr/T/ipykernel_50823/3275916981.py:7: DtypeWarning: Columns (7,9,12,13,14,15,17,24,30,43,44) have mixed types. Specify dtype option on import or set low_memory=False.\n",
      "  for chunk in pd.read_csv(\"s3://beam-outputs/\" + fullPath, chunksize=1500000):\n",
      "/var/folders/h9/g8d27p9s5js3dx9z7b5y8k5c0000gr/T/ipykernel_50823/3275916981.py:7: DtypeWarning: Columns (7,9,12,13,14,15,17,24,30,43,44) have mixed types. Specify dtype option on import or set low_memory=False.\n",
      "  for chunk in pd.read_csv(\"s3://beam-outputs/\" + fullPath, chunksize=1500000):\n",
      "/var/folders/h9/g8d27p9s5js3dx9z7b5y8k5c0000gr/T/ipykernel_50823/3275916981.py:7: DtypeWarning: Columns (17,24,30,43,44) have mixed types. Specify dtype option on import or set low_memory=False.\n",
      "  for chunk in pd.read_csv(\"s3://beam-outputs/\" + fullPath, chunksize=1500000):\n",
      "/var/folders/h9/g8d27p9s5js3dx9z7b5y8k5c0000gr/T/ipykernel_50823/3275916981.py:7: DtypeWarning: Columns (17,24,30,43,44) have mixed types. Specify dtype option on import or set low_memory=False.\n",
      "  for chunk in pd.read_csv(\"s3://beam-outputs/\" + fullPath, chunksize=1500000):\n",
      "/var/folders/h9/g8d27p9s5js3dx9z7b5y8k5c0000gr/T/ipykernel_50823/3275916981.py:7: DtypeWarning: Columns (17,24,30,43,44) have mixed types. Specify dtype option on import or set low_memory=False.\n",
      "  for chunk in pd.read_csv(\"s3://beam-outputs/\" + fullPath, chunksize=1500000):\n"
     ]
    },
    {
     "ename": "FSTimeoutError",
     "evalue": "",
     "output_type": "error",
     "traceback": [
      "\u001b[0;31m---------------------------------------------------------------------------\u001b[0m",
      "\u001b[0;31mServerTimeoutError\u001b[0m                        Traceback (most recent call last)",
      "File \u001b[0;32m~/opt/miniconda3/lib/python3.9/site-packages/aiobotocore/response.py:53\u001b[0m, in \u001b[0;36mStreamingBody.read\u001b[0;34m(self, amt)\u001b[0m\n\u001b[1;32m     52\u001b[0m \u001b[38;5;28;01mtry\u001b[39;00m:\n\u001b[0;32m---> 53\u001b[0m     chunk \u001b[38;5;241m=\u001b[39m \u001b[38;5;28;01mawait\u001b[39;00m \u001b[38;5;28mself\u001b[39m\u001b[38;5;241m.\u001b[39m__wrapped__\u001b[38;5;241m.\u001b[39mcontent\u001b[38;5;241m.\u001b[39mread(amt \u001b[38;5;28;01mif\u001b[39;00m amt \u001b[38;5;129;01mis\u001b[39;00m \u001b[38;5;129;01mnot\u001b[39;00m \u001b[38;5;28;01mNone\u001b[39;00m \u001b[38;5;28;01melse\u001b[39;00m \u001b[38;5;241m-\u001b[39m\u001b[38;5;241m1\u001b[39m)\n\u001b[1;32m     54\u001b[0m \u001b[38;5;28;01mexcept\u001b[39;00m asyncio\u001b[38;5;241m.\u001b[39mTimeoutError \u001b[38;5;28;01mas\u001b[39;00m e:\n",
      "File \u001b[0;32m~/opt/miniconda3/lib/python3.9/site-packages/aiohttp/streams.py:375\u001b[0m, in \u001b[0;36mStreamReader.read\u001b[0;34m(self, n)\u001b[0m\n\u001b[1;32m    374\u001b[0m \u001b[38;5;28;01mwhile\u001b[39;00m \u001b[38;5;28;01mTrue\u001b[39;00m:\n\u001b[0;32m--> 375\u001b[0m     block \u001b[38;5;241m=\u001b[39m \u001b[38;5;28;01mawait\u001b[39;00m \u001b[38;5;28mself\u001b[39m\u001b[38;5;241m.\u001b[39mreadany()\n\u001b[1;32m    376\u001b[0m     \u001b[38;5;28;01mif\u001b[39;00m \u001b[38;5;129;01mnot\u001b[39;00m block:\n",
      "File \u001b[0;32m~/opt/miniconda3/lib/python3.9/site-packages/aiohttp/streams.py:397\u001b[0m, in \u001b[0;36mStreamReader.readany\u001b[0;34m(self)\u001b[0m\n\u001b[1;32m    396\u001b[0m \u001b[38;5;28;01mwhile\u001b[39;00m \u001b[38;5;129;01mnot\u001b[39;00m \u001b[38;5;28mself\u001b[39m\u001b[38;5;241m.\u001b[39m_buffer \u001b[38;5;129;01mand\u001b[39;00m \u001b[38;5;129;01mnot\u001b[39;00m \u001b[38;5;28mself\u001b[39m\u001b[38;5;241m.\u001b[39m_eof:\n\u001b[0;32m--> 397\u001b[0m     \u001b[38;5;28;01mawait\u001b[39;00m \u001b[38;5;28mself\u001b[39m\u001b[38;5;241m.\u001b[39m_wait(\u001b[38;5;124m\"\u001b[39m\u001b[38;5;124mreadany\u001b[39m\u001b[38;5;124m\"\u001b[39m)\n\u001b[1;32m    399\u001b[0m \u001b[38;5;28;01mreturn\u001b[39;00m \u001b[38;5;28mself\u001b[39m\u001b[38;5;241m.\u001b[39m_read_nowait(\u001b[38;5;241m-\u001b[39m\u001b[38;5;241m1\u001b[39m)\n",
      "File \u001b[0;32m~/opt/miniconda3/lib/python3.9/site-packages/aiohttp/streams.py:304\u001b[0m, in \u001b[0;36mStreamReader._wait\u001b[0;34m(self, func_name)\u001b[0m\n\u001b[1;32m    303\u001b[0m     \u001b[38;5;28;01mwith\u001b[39;00m \u001b[38;5;28mself\u001b[39m\u001b[38;5;241m.\u001b[39m_timer:\n\u001b[0;32m--> 304\u001b[0m         \u001b[38;5;28;01mawait\u001b[39;00m waiter\n\u001b[1;32m    305\u001b[0m \u001b[38;5;28;01melse\u001b[39;00m:\n",
      "\u001b[0;31mServerTimeoutError\u001b[0m: Timeout on reading data from socket",
      "\nDuring handling of the above exception, another exception occurred:\n",
      "\u001b[0;31mAioReadTimeoutError\u001b[0m                       Traceback (most recent call last)",
      "File \u001b[0;32m~/opt/miniconda3/lib/python3.9/site-packages/fsspec/asyn.py:26\u001b[0m, in \u001b[0;36m_runner\u001b[0;34m(event, coro, result, timeout)\u001b[0m\n\u001b[1;32m     25\u001b[0m \u001b[38;5;28;01mtry\u001b[39;00m:\n\u001b[0;32m---> 26\u001b[0m     result[\u001b[38;5;241m0\u001b[39m] \u001b[38;5;241m=\u001b[39m \u001b[38;5;28;01mawait\u001b[39;00m coro\n\u001b[1;32m     27\u001b[0m \u001b[38;5;28;01mexcept\u001b[39;00m \u001b[38;5;167;01mException\u001b[39;00m \u001b[38;5;28;01mas\u001b[39;00m ex:\n",
      "File \u001b[0;32m~/opt/miniconda3/lib/python3.9/site-packages/aiobotocore/response.py:55\u001b[0m, in \u001b[0;36mStreamingBody.read\u001b[0;34m(self, amt)\u001b[0m\n\u001b[1;32m     54\u001b[0m \u001b[38;5;28;01mexcept\u001b[39;00m asyncio\u001b[38;5;241m.\u001b[39mTimeoutError \u001b[38;5;28;01mas\u001b[39;00m e:\n\u001b[0;32m---> 55\u001b[0m     \u001b[38;5;28;01mraise\u001b[39;00m AioReadTimeoutError(endpoint_url\u001b[38;5;241m=\u001b[39m\u001b[38;5;28mself\u001b[39m\u001b[38;5;241m.\u001b[39m__wrapped__\u001b[38;5;241m.\u001b[39murl,\n\u001b[1;32m     56\u001b[0m                               error\u001b[38;5;241m=\u001b[39me)\n\u001b[1;32m     57\u001b[0m \u001b[38;5;28;01mexcept\u001b[39;00m aiohttp\u001b[38;5;241m.\u001b[39mclient_exceptions\u001b[38;5;241m.\u001b[39mClientConnectionError \u001b[38;5;28;01mas\u001b[39;00m e:\n",
      "\u001b[0;31mAioReadTimeoutError\u001b[0m: Read timeout on endpoint URL: \"https://beam-outputs.s3.us-east-2.amazonaws.com/pilates-outputs/sfbay-cp_pilates_test/beam/year-2018-iteration-5/ITERS/it.0/0.events.csv.gz\"",
      "\nThe above exception was the direct cause of the following exception:\n",
      "\u001b[0;31mFSTimeoutError\u001b[0m                            Traceback (most recent call last)",
      "Input \u001b[0;32mIn [9]\u001b[0m, in \u001b[0;36m<cell line: 1>\u001b[0;34m()\u001b[0m\n\u001b[1;32m     17\u001b[0m     outDirectory \u001b[38;5;241m=\u001b[39m bucket\u001b[38;5;241m.\u001b[39mlist(\u001b[38;5;124m\"\u001b[39m\u001b[38;5;124ms3://beam-outputs/pilates-outputs/\u001b[39m\u001b[38;5;124m\"\u001b[39m \u001b[38;5;241m+\u001b[39m runName \u001b[38;5;241m+\u001b[39m \u001b[38;5;124m\"\u001b[39m\u001b[38;5;124m/beam/\u001b[39m\u001b[38;5;124m\"\u001b[39m \u001b[38;5;241m+\u001b[39m outputname)\n\u001b[1;32m     18\u001b[0m \u001b[38;5;66;03m#     inDirectory = 'https://beam-outputs.s3.amazonaws.com/pilates-outputs/sfbay-cp_pilates_test/beam/year-2018-iteration-5/'\u001b[39;00m\n\u001b[1;32m     19\u001b[0m \u001b[38;5;66;03m#     popDirectory = inDirectory.replace(\"/beam/\", \"/activitysim/\") \u001b[39;00m\n\u001b[1;32m     20\u001b[0m \u001b[38;5;66;03m#     #outDirectory = '/Users/cpoliziani/Downloads'\u001b[39;00m\n\u001b[1;32m     21\u001b[0m \u001b[38;5;66;03m#     outDirectory = 'https://beam-outputs.s3.amazonaws.com/pilates-outputs/sfbay-cp_pilates_test/beam/year-2018-final/'\u001b[39;00m\n\u001b[0;32m---> 23\u001b[0m     \u001b[43mcollectAllData\u001b[49m\u001b[43m(\u001b[49m\u001b[43minDirectory\u001b[49m\u001b[43m,\u001b[49m\u001b[43m \u001b[49m\u001b[43moutDirectory\u001b[49m\u001b[43m,\u001b[49m\u001b[43m \u001b[49m\u001b[43mpopDirectory\u001b[49m\u001b[43m)\u001b[49m\n\u001b[1;32m     25\u001b[0m     \u001b[38;5;28mprint\u001b[39m(\u001b[38;5;124m'\u001b[39m\u001b[38;5;124mdone\u001b[39m\u001b[38;5;124m'\u001b[39m)\n",
      "Input \u001b[0;32mIn [2]\u001b[0m, in \u001b[0;36mcollectAllData\u001b[0;34m(inDirectory, outDirectory, popDirectory)\u001b[0m\n\u001b[1;32m      1\u001b[0m \u001b[38;5;28;01mdef\u001b[39;00m \u001b[38;5;21mcollectAllData\u001b[39m(inDirectory, outDirectory, popDirectory):\n\u001b[1;32m      2\u001b[0m     trips, activities, personToTripDeparture \u001b[38;5;241m=\u001b[39m processPlans(popDirectory)\n\u001b[0;32m----> 4\u001b[0m     PTs, PEVs, PLVs \u001b[38;5;241m=\u001b[39m \u001b[43mprocessEvents\u001b[49m\u001b[43m(\u001b[49m\u001b[43minDirectory\u001b[49m\u001b[43m)\u001b[49m\n\u001b[1;32m      6\u001b[0m     BGs \u001b[38;5;241m=\u001b[39m gpd\u001b[38;5;241m.\u001b[39mread_file(\u001b[38;5;124m'\u001b[39m\u001b[38;5;124m/Users/cpoliziani/Downloads/sfbay-blockgroups-2010/641aa0d4-ce5b-4a81-9c30-8790c4ab8cfb202047-1-wkkklf.j5ouj.shp\u001b[39m\u001b[38;5;124m'\u001b[39m)\n\u001b[1;32m      8\u001b[0m     trips \u001b[38;5;241m=\u001b[39m addGeometryIdToDataFrame(trips, BGs, \u001b[38;5;124m'\u001b[39m\u001b[38;5;124moriginX\u001b[39m\u001b[38;5;124m'\u001b[39m, \u001b[38;5;124m'\u001b[39m\u001b[38;5;124moriginY\u001b[39m\u001b[38;5;124m'\u001b[39m, \u001b[38;5;124m'\u001b[39m\u001b[38;5;124mstartBlockGroup\u001b[39m\u001b[38;5;124m'\u001b[39m)\n",
      "Input \u001b[0;32mIn [3]\u001b[0m, in \u001b[0;36mprocessEvents\u001b[0;34m(directory)\u001b[0m\n\u001b[1;32m      5\u001b[0m PLVs \u001b[38;5;241m=\u001b[39m []\n\u001b[1;32m      6\u001b[0m \u001b[38;5;28mprint\u001b[39m(\u001b[38;5;124m'\u001b[39m\u001b[38;5;124mReading \u001b[39m\u001b[38;5;124m'\u001b[39m, fullPath)\n\u001b[0;32m----> 7\u001b[0m \u001b[38;5;28;01mfor\u001b[39;00m chunk \u001b[38;5;129;01min\u001b[39;00m pd\u001b[38;5;241m.\u001b[39mread_csv(\u001b[38;5;124m\"\u001b[39m\u001b[38;5;124ms3://beam-outputs/\u001b[39m\u001b[38;5;124m\"\u001b[39m \u001b[38;5;241m+\u001b[39m fullPath, chunksize\u001b[38;5;241m=\u001b[39m\u001b[38;5;241m1500000\u001b[39m):\n\u001b[1;32m      8\u001b[0m     \u001b[38;5;28;01mif\u001b[39;00m \u001b[38;5;28msum\u001b[39m((chunk[\u001b[38;5;124m'\u001b[39m\u001b[38;5;124mtype\u001b[39m\u001b[38;5;124m'\u001b[39m] \u001b[38;5;241m==\u001b[39m \u001b[38;5;124m'\u001b[39m\u001b[38;5;124mPathTraversal\u001b[39m\u001b[38;5;124m'\u001b[39m)) \u001b[38;5;241m>\u001b[39m \u001b[38;5;241m0\u001b[39m:\n\u001b[1;32m      9\u001b[0m         chunk[\u001b[38;5;124m'\u001b[39m\u001b[38;5;124mvehicle\u001b[39m\u001b[38;5;124m'\u001b[39m] \u001b[38;5;241m=\u001b[39m chunk[\u001b[38;5;124m'\u001b[39m\u001b[38;5;124mvehicle\u001b[39m\u001b[38;5;124m'\u001b[39m]\u001b[38;5;241m.\u001b[39mastype(\u001b[38;5;28mstr\u001b[39m)\n",
      "File \u001b[0;32m~/opt/miniconda3/lib/python3.9/site-packages/pandas/io/parsers/readers.py:1187\u001b[0m, in \u001b[0;36mTextFileReader.__next__\u001b[0;34m(self)\u001b[0m\n\u001b[1;32m   1185\u001b[0m \u001b[38;5;28;01mdef\u001b[39;00m \u001b[38;5;21m__next__\u001b[39m(\u001b[38;5;28mself\u001b[39m):\n\u001b[1;32m   1186\u001b[0m     \u001b[38;5;28;01mtry\u001b[39;00m:\n\u001b[0;32m-> 1187\u001b[0m         \u001b[38;5;28;01mreturn\u001b[39;00m \u001b[38;5;28;43mself\u001b[39;49m\u001b[38;5;241;43m.\u001b[39;49m\u001b[43mget_chunk\u001b[49m\u001b[43m(\u001b[49m\u001b[43m)\u001b[49m\n\u001b[1;32m   1188\u001b[0m     \u001b[38;5;28;01mexcept\u001b[39;00m \u001b[38;5;167;01mStopIteration\u001b[39;00m:\n\u001b[1;32m   1189\u001b[0m         \u001b[38;5;28mself\u001b[39m\u001b[38;5;241m.\u001b[39mclose()\n",
      "File \u001b[0;32m~/opt/miniconda3/lib/python3.9/site-packages/pandas/io/parsers/readers.py:1284\u001b[0m, in \u001b[0;36mTextFileReader.get_chunk\u001b[0;34m(self, size)\u001b[0m\n\u001b[1;32m   1282\u001b[0m         \u001b[38;5;28;01mraise\u001b[39;00m \u001b[38;5;167;01mStopIteration\u001b[39;00m\n\u001b[1;32m   1283\u001b[0m     size \u001b[38;5;241m=\u001b[39m \u001b[38;5;28mmin\u001b[39m(size, \u001b[38;5;28mself\u001b[39m\u001b[38;5;241m.\u001b[39mnrows \u001b[38;5;241m-\u001b[39m \u001b[38;5;28mself\u001b[39m\u001b[38;5;241m.\u001b[39m_currow)\n\u001b[0;32m-> 1284\u001b[0m \u001b[38;5;28;01mreturn\u001b[39;00m \u001b[38;5;28;43mself\u001b[39;49m\u001b[38;5;241;43m.\u001b[39;49m\u001b[43mread\u001b[49m\u001b[43m(\u001b[49m\u001b[43mnrows\u001b[49m\u001b[38;5;241;43m=\u001b[39;49m\u001b[43msize\u001b[49m\u001b[43m)\u001b[49m\n",
      "File \u001b[0;32m~/opt/miniconda3/lib/python3.9/site-packages/pandas/io/parsers/readers.py:1254\u001b[0m, in \u001b[0;36mTextFileReader.read\u001b[0;34m(self, nrows)\u001b[0m\n\u001b[1;32m   1252\u001b[0m nrows \u001b[38;5;241m=\u001b[39m validate_integer(\u001b[38;5;124m\"\u001b[39m\u001b[38;5;124mnrows\u001b[39m\u001b[38;5;124m\"\u001b[39m, nrows)\n\u001b[1;32m   1253\u001b[0m \u001b[38;5;28;01mtry\u001b[39;00m:\n\u001b[0;32m-> 1254\u001b[0m     index, columns, col_dict \u001b[38;5;241m=\u001b[39m \u001b[38;5;28;43mself\u001b[39;49m\u001b[38;5;241;43m.\u001b[39;49m\u001b[43m_engine\u001b[49m\u001b[38;5;241;43m.\u001b[39;49m\u001b[43mread\u001b[49m\u001b[43m(\u001b[49m\u001b[43mnrows\u001b[49m\u001b[43m)\u001b[49m\n\u001b[1;32m   1255\u001b[0m \u001b[38;5;28;01mexcept\u001b[39;00m \u001b[38;5;167;01mException\u001b[39;00m:\n\u001b[1;32m   1256\u001b[0m     \u001b[38;5;28mself\u001b[39m\u001b[38;5;241m.\u001b[39mclose()\n",
      "File \u001b[0;32m~/opt/miniconda3/lib/python3.9/site-packages/pandas/io/parsers/c_parser_wrapper.py:225\u001b[0m, in \u001b[0;36mCParserWrapper.read\u001b[0;34m(self, nrows)\u001b[0m\n\u001b[1;32m    223\u001b[0m \u001b[38;5;28;01mtry\u001b[39;00m:\n\u001b[1;32m    224\u001b[0m     \u001b[38;5;28;01mif\u001b[39;00m \u001b[38;5;28mself\u001b[39m\u001b[38;5;241m.\u001b[39mlow_memory:\n\u001b[0;32m--> 225\u001b[0m         chunks \u001b[38;5;241m=\u001b[39m \u001b[38;5;28;43mself\u001b[39;49m\u001b[38;5;241;43m.\u001b[39;49m\u001b[43m_reader\u001b[49m\u001b[38;5;241;43m.\u001b[39;49m\u001b[43mread_low_memory\u001b[49m\u001b[43m(\u001b[49m\u001b[43mnrows\u001b[49m\u001b[43m)\u001b[49m\n\u001b[1;32m    226\u001b[0m         \u001b[38;5;66;03m# destructive to chunks\u001b[39;00m\n\u001b[1;32m    227\u001b[0m         data \u001b[38;5;241m=\u001b[39m _concatenate_chunks(chunks)\n",
      "File \u001b[0;32mpandas/_libs/parsers.pyx:817\u001b[0m, in \u001b[0;36mpandas._libs.parsers.TextReader.read_low_memory\u001b[0;34m()\u001b[0m\n",
      "File \u001b[0;32mpandas/_libs/parsers.pyx:861\u001b[0m, in \u001b[0;36mpandas._libs.parsers.TextReader._read_rows\u001b[0;34m()\u001b[0m\n",
      "File \u001b[0;32mpandas/_libs/parsers.pyx:847\u001b[0m, in \u001b[0;36mpandas._libs.parsers.TextReader._tokenize_rows\u001b[0;34m()\u001b[0m\n",
      "File \u001b[0;32mpandas/_libs/parsers.pyx:1952\u001b[0m, in \u001b[0;36mpandas._libs.parsers.raise_parser_error\u001b[0;34m()\u001b[0m\n",
      "File \u001b[0;32m~/opt/miniconda3/lib/python3.9/_compression.py:68\u001b[0m, in \u001b[0;36mDecompressReader.readinto\u001b[0;34m(self, b)\u001b[0m\n\u001b[1;32m     66\u001b[0m \u001b[38;5;28;01mdef\u001b[39;00m \u001b[38;5;21mreadinto\u001b[39m(\u001b[38;5;28mself\u001b[39m, b):\n\u001b[1;32m     67\u001b[0m     \u001b[38;5;28;01mwith\u001b[39;00m \u001b[38;5;28mmemoryview\u001b[39m(b) \u001b[38;5;28;01mas\u001b[39;00m view, view\u001b[38;5;241m.\u001b[39mcast(\u001b[38;5;124m\"\u001b[39m\u001b[38;5;124mB\u001b[39m\u001b[38;5;124m\"\u001b[39m) \u001b[38;5;28;01mas\u001b[39;00m byte_view:\n\u001b[0;32m---> 68\u001b[0m         data \u001b[38;5;241m=\u001b[39m \u001b[38;5;28;43mself\u001b[39;49m\u001b[38;5;241;43m.\u001b[39;49m\u001b[43mread\u001b[49m\u001b[43m(\u001b[49m\u001b[38;5;28;43mlen\u001b[39;49m\u001b[43m(\u001b[49m\u001b[43mbyte_view\u001b[49m\u001b[43m)\u001b[49m\u001b[43m)\u001b[49m\n\u001b[1;32m     69\u001b[0m         byte_view[:\u001b[38;5;28mlen\u001b[39m(data)] \u001b[38;5;241m=\u001b[39m data\n\u001b[1;32m     70\u001b[0m     \u001b[38;5;28;01mreturn\u001b[39;00m \u001b[38;5;28mlen\u001b[39m(data)\n",
      "File \u001b[0;32m~/opt/miniconda3/lib/python3.9/gzip.py:493\u001b[0m, in \u001b[0;36m_GzipReader.read\u001b[0;34m(self, size)\u001b[0m\n\u001b[1;32m    490\u001b[0m     \u001b[38;5;28mself\u001b[39m\u001b[38;5;241m.\u001b[39m_new_member \u001b[38;5;241m=\u001b[39m \u001b[38;5;28;01mFalse\u001b[39;00m\n\u001b[1;32m    492\u001b[0m \u001b[38;5;66;03m# Read a chunk of data from the file\u001b[39;00m\n\u001b[0;32m--> 493\u001b[0m buf \u001b[38;5;241m=\u001b[39m \u001b[38;5;28;43mself\u001b[39;49m\u001b[38;5;241;43m.\u001b[39;49m\u001b[43m_fp\u001b[49m\u001b[38;5;241;43m.\u001b[39;49m\u001b[43mread\u001b[49m\u001b[43m(\u001b[49m\u001b[43mio\u001b[49m\u001b[38;5;241;43m.\u001b[39;49m\u001b[43mDEFAULT_BUFFER_SIZE\u001b[49m\u001b[43m)\u001b[49m\n\u001b[1;32m    495\u001b[0m uncompress \u001b[38;5;241m=\u001b[39m \u001b[38;5;28mself\u001b[39m\u001b[38;5;241m.\u001b[39m_decompressor\u001b[38;5;241m.\u001b[39mdecompress(buf, size)\n\u001b[1;32m    496\u001b[0m \u001b[38;5;28;01mif\u001b[39;00m \u001b[38;5;28mself\u001b[39m\u001b[38;5;241m.\u001b[39m_decompressor\u001b[38;5;241m.\u001b[39munconsumed_tail \u001b[38;5;241m!=\u001b[39m \u001b[38;5;124mb\u001b[39m\u001b[38;5;124m\"\u001b[39m\u001b[38;5;124m\"\u001b[39m:\n",
      "File \u001b[0;32m~/opt/miniconda3/lib/python3.9/gzip.py:87\u001b[0m, in \u001b[0;36m_PaddedFile.read\u001b[0;34m(self, size)\u001b[0m\n\u001b[1;32m     85\u001b[0m \u001b[38;5;28;01mdef\u001b[39;00m \u001b[38;5;21mread\u001b[39m(\u001b[38;5;28mself\u001b[39m, size):\n\u001b[1;32m     86\u001b[0m     \u001b[38;5;28;01mif\u001b[39;00m \u001b[38;5;28mself\u001b[39m\u001b[38;5;241m.\u001b[39m_read \u001b[38;5;129;01mis\u001b[39;00m \u001b[38;5;28;01mNone\u001b[39;00m:\n\u001b[0;32m---> 87\u001b[0m         \u001b[38;5;28;01mreturn\u001b[39;00m \u001b[38;5;28;43mself\u001b[39;49m\u001b[38;5;241;43m.\u001b[39;49m\u001b[43mfile\u001b[49m\u001b[38;5;241;43m.\u001b[39;49m\u001b[43mread\u001b[49m\u001b[43m(\u001b[49m\u001b[43msize\u001b[49m\u001b[43m)\u001b[49m\n\u001b[1;32m     88\u001b[0m     \u001b[38;5;28;01mif\u001b[39;00m \u001b[38;5;28mself\u001b[39m\u001b[38;5;241m.\u001b[39m_read \u001b[38;5;241m+\u001b[39m size \u001b[38;5;241m<\u001b[39m\u001b[38;5;241m=\u001b[39m \u001b[38;5;28mself\u001b[39m\u001b[38;5;241m.\u001b[39m_length:\n\u001b[1;32m     89\u001b[0m         read \u001b[38;5;241m=\u001b[39m \u001b[38;5;28mself\u001b[39m\u001b[38;5;241m.\u001b[39m_read\n",
      "File \u001b[0;32m~/opt/miniconda3/lib/python3.9/site-packages/fsspec/spec.py:1578\u001b[0m, in \u001b[0;36mAbstractBufferedFile.read\u001b[0;34m(self, length)\u001b[0m\n\u001b[1;32m   1575\u001b[0m \u001b[38;5;28;01mif\u001b[39;00m length \u001b[38;5;241m==\u001b[39m \u001b[38;5;241m0\u001b[39m:\n\u001b[1;32m   1576\u001b[0m     \u001b[38;5;66;03m# don't even bother calling fetch\u001b[39;00m\n\u001b[1;32m   1577\u001b[0m     \u001b[38;5;28;01mreturn\u001b[39;00m \u001b[38;5;124mb\u001b[39m\u001b[38;5;124m\"\u001b[39m\u001b[38;5;124m\"\u001b[39m\n\u001b[0;32m-> 1578\u001b[0m out \u001b[38;5;241m=\u001b[39m \u001b[38;5;28;43mself\u001b[39;49m\u001b[38;5;241;43m.\u001b[39;49m\u001b[43mcache\u001b[49m\u001b[38;5;241;43m.\u001b[39;49m\u001b[43m_fetch\u001b[49m\u001b[43m(\u001b[49m\u001b[38;5;28;43mself\u001b[39;49m\u001b[38;5;241;43m.\u001b[39;49m\u001b[43mloc\u001b[49m\u001b[43m,\u001b[49m\u001b[43m \u001b[49m\u001b[38;5;28;43mself\u001b[39;49m\u001b[38;5;241;43m.\u001b[39;49m\u001b[43mloc\u001b[49m\u001b[43m \u001b[49m\u001b[38;5;241;43m+\u001b[39;49m\u001b[43m \u001b[49m\u001b[43mlength\u001b[49m\u001b[43m)\u001b[49m\n\u001b[1;32m   1579\u001b[0m \u001b[38;5;28mself\u001b[39m\u001b[38;5;241m.\u001b[39mloc \u001b[38;5;241m+\u001b[39m\u001b[38;5;241m=\u001b[39m \u001b[38;5;28mlen\u001b[39m(out)\n\u001b[1;32m   1580\u001b[0m \u001b[38;5;28;01mreturn\u001b[39;00m out\n",
      "File \u001b[0;32m~/opt/miniconda3/lib/python3.9/site-packages/fsspec/caching.py:394\u001b[0m, in \u001b[0;36mBytesCache._fetch\u001b[0;34m(self, start, end)\u001b[0m\n\u001b[1;32m    392\u001b[0m         \u001b[38;5;28mself\u001b[39m\u001b[38;5;241m.\u001b[39mstart \u001b[38;5;241m=\u001b[39m start\n\u001b[1;32m    393\u001b[0m     \u001b[38;5;28;01melse\u001b[39;00m:\n\u001b[0;32m--> 394\u001b[0m         new \u001b[38;5;241m=\u001b[39m \u001b[38;5;28;43mself\u001b[39;49m\u001b[38;5;241;43m.\u001b[39;49m\u001b[43mfetcher\u001b[49m\u001b[43m(\u001b[49m\u001b[38;5;28;43mself\u001b[39;49m\u001b[38;5;241;43m.\u001b[39;49m\u001b[43mend\u001b[49m\u001b[43m,\u001b[49m\u001b[43m \u001b[49m\u001b[43mbend\u001b[49m\u001b[43m)\u001b[49m\n\u001b[1;32m    395\u001b[0m         \u001b[38;5;28mself\u001b[39m\u001b[38;5;241m.\u001b[39mcache \u001b[38;5;241m=\u001b[39m \u001b[38;5;28mself\u001b[39m\u001b[38;5;241m.\u001b[39mcache \u001b[38;5;241m+\u001b[39m new\n\u001b[1;32m    397\u001b[0m \u001b[38;5;28mself\u001b[39m\u001b[38;5;241m.\u001b[39mend \u001b[38;5;241m=\u001b[39m \u001b[38;5;28mself\u001b[39m\u001b[38;5;241m.\u001b[39mstart \u001b[38;5;241m+\u001b[39m \u001b[38;5;28mlen\u001b[39m(\u001b[38;5;28mself\u001b[39m\u001b[38;5;241m.\u001b[39mcache)\n",
      "File \u001b[0;32m~/opt/miniconda3/lib/python3.9/site-packages/s3fs/core.py:2030\u001b[0m, in \u001b[0;36mS3File._fetch_range\u001b[0;34m(self, start, end)\u001b[0m\n\u001b[1;32m   2028\u001b[0m \u001b[38;5;28;01mdef\u001b[39;00m \u001b[38;5;21m_fetch_range\u001b[39m(\u001b[38;5;28mself\u001b[39m, start, end):\n\u001b[1;32m   2029\u001b[0m     \u001b[38;5;28;01mtry\u001b[39;00m:\n\u001b[0;32m-> 2030\u001b[0m         \u001b[38;5;28;01mreturn\u001b[39;00m \u001b[43m_fetch_range\u001b[49m\u001b[43m(\u001b[49m\n\u001b[1;32m   2031\u001b[0m \u001b[43m            \u001b[49m\u001b[38;5;28;43mself\u001b[39;49m\u001b[38;5;241;43m.\u001b[39;49m\u001b[43mfs\u001b[49m\u001b[43m,\u001b[49m\n\u001b[1;32m   2032\u001b[0m \u001b[43m            \u001b[49m\u001b[38;5;28;43mself\u001b[39;49m\u001b[38;5;241;43m.\u001b[39;49m\u001b[43mbucket\u001b[49m\u001b[43m,\u001b[49m\n\u001b[1;32m   2033\u001b[0m \u001b[43m            \u001b[49m\u001b[38;5;28;43mself\u001b[39;49m\u001b[38;5;241;43m.\u001b[39;49m\u001b[43mkey\u001b[49m\u001b[43m,\u001b[49m\n\u001b[1;32m   2034\u001b[0m \u001b[43m            \u001b[49m\u001b[38;5;28;43mself\u001b[39;49m\u001b[38;5;241;43m.\u001b[39;49m\u001b[43mversion_id\u001b[49m\u001b[43m,\u001b[49m\n\u001b[1;32m   2035\u001b[0m \u001b[43m            \u001b[49m\u001b[43mstart\u001b[49m\u001b[43m,\u001b[49m\n\u001b[1;32m   2036\u001b[0m \u001b[43m            \u001b[49m\u001b[43mend\u001b[49m\u001b[43m,\u001b[49m\n\u001b[1;32m   2037\u001b[0m \u001b[43m            \u001b[49m\u001b[43mreq_kw\u001b[49m\u001b[38;5;241;43m=\u001b[39;49m\u001b[38;5;28;43mself\u001b[39;49m\u001b[38;5;241;43m.\u001b[39;49m\u001b[43mreq_kw\u001b[49m\u001b[43m,\u001b[49m\n\u001b[1;32m   2038\u001b[0m \u001b[43m        \u001b[49m\u001b[43m)\u001b[49m\n\u001b[1;32m   2040\u001b[0m     \u001b[38;5;28;01mexcept\u001b[39;00m \u001b[38;5;167;01mOSError\u001b[39;00m \u001b[38;5;28;01mas\u001b[39;00m ex:\n\u001b[1;32m   2041\u001b[0m         \u001b[38;5;28;01mif\u001b[39;00m ex\u001b[38;5;241m.\u001b[39margs[\u001b[38;5;241m0\u001b[39m] \u001b[38;5;241m==\u001b[39m errno\u001b[38;5;241m.\u001b[39mEINVAL \u001b[38;5;129;01mand\u001b[39;00m \u001b[38;5;124m\"\u001b[39m\u001b[38;5;124mpre-conditions\u001b[39m\u001b[38;5;124m\"\u001b[39m \u001b[38;5;129;01min\u001b[39;00m ex\u001b[38;5;241m.\u001b[39margs[\u001b[38;5;241m1\u001b[39m]:\n",
      "File \u001b[0;32m~/opt/miniconda3/lib/python3.9/site-packages/s3fs/core.py:2181\u001b[0m, in \u001b[0;36m_fetch_range\u001b[0;34m(fs, bucket, key, version_id, start, end, req_kw)\u001b[0m\n\u001b[1;32m   2172\u001b[0m logger\u001b[38;5;241m.\u001b[39mdebug(\u001b[38;5;124m\"\u001b[39m\u001b[38;5;124mFetch: \u001b[39m\u001b[38;5;132;01m%s\u001b[39;00m\u001b[38;5;124m/\u001b[39m\u001b[38;5;132;01m%s\u001b[39;00m\u001b[38;5;124m, \u001b[39m\u001b[38;5;132;01m%s\u001b[39;00m\u001b[38;5;124m-\u001b[39m\u001b[38;5;132;01m%s\u001b[39;00m\u001b[38;5;124m\"\u001b[39m, bucket, key, start, end)\n\u001b[1;32m   2173\u001b[0m resp \u001b[38;5;241m=\u001b[39m fs\u001b[38;5;241m.\u001b[39mcall_s3(\n\u001b[1;32m   2174\u001b[0m     \u001b[38;5;124m\"\u001b[39m\u001b[38;5;124mget_object\u001b[39m\u001b[38;5;124m\"\u001b[39m,\n\u001b[1;32m   2175\u001b[0m     Bucket\u001b[38;5;241m=\u001b[39mbucket,\n\u001b[0;32m   (...)\u001b[0m\n\u001b[1;32m   2179\u001b[0m     \u001b[38;5;241m*\u001b[39m\u001b[38;5;241m*\u001b[39mreq_kw,\n\u001b[1;32m   2180\u001b[0m )\n\u001b[0;32m-> 2181\u001b[0m \u001b[38;5;28;01mreturn\u001b[39;00m \u001b[43msync\u001b[49m\u001b[43m(\u001b[49m\u001b[43mfs\u001b[49m\u001b[38;5;241;43m.\u001b[39;49m\u001b[43mloop\u001b[49m\u001b[43m,\u001b[49m\u001b[43m \u001b[49m\u001b[43mresp\u001b[49m\u001b[43m[\u001b[49m\u001b[38;5;124;43m\"\u001b[39;49m\u001b[38;5;124;43mBody\u001b[39;49m\u001b[38;5;124;43m\"\u001b[39;49m\u001b[43m]\u001b[49m\u001b[38;5;241;43m.\u001b[39;49m\u001b[43mread\u001b[49m\u001b[43m)\u001b[49m\n",
      "File \u001b[0;32m~/opt/miniconda3/lib/python3.9/site-packages/fsspec/asyn.py:64\u001b[0m, in \u001b[0;36msync\u001b[0;34m(loop, func, timeout, *args, **kwargs)\u001b[0m\n\u001b[1;32m     61\u001b[0m return_result \u001b[38;5;241m=\u001b[39m result[\u001b[38;5;241m0\u001b[39m]\n\u001b[1;32m     62\u001b[0m \u001b[38;5;28;01mif\u001b[39;00m \u001b[38;5;28misinstance\u001b[39m(return_result, asyncio\u001b[38;5;241m.\u001b[39mTimeoutError):\n\u001b[1;32m     63\u001b[0m     \u001b[38;5;66;03m# suppress asyncio.TimeoutError, raise FSTimeoutError\u001b[39;00m\n\u001b[0;32m---> 64\u001b[0m     \u001b[38;5;28;01mraise\u001b[39;00m FSTimeoutError \u001b[38;5;28;01mfrom\u001b[39;00m \u001b[38;5;21;01mreturn_result\u001b[39;00m\n\u001b[1;32m     65\u001b[0m \u001b[38;5;28;01melif\u001b[39;00m \u001b[38;5;28misinstance\u001b[39m(return_result, \u001b[38;5;167;01mBaseException\u001b[39;00m):\n\u001b[1;32m     66\u001b[0m     \u001b[38;5;28;01mraise\u001b[39;00m return_result\n",
      "\u001b[0;31mFSTimeoutError\u001b[0m: "
     ]
    }
   ],
   "source": [
    "if __name__ == '__main__':\n",
    "    # directory = 'https://beam-outputs.s3.amazonaws.com/pilates-outputs/15thSep2019/c_ht/beam/sfbay-smart-c-ht' \\\n",
    "    #             '-pilates__2019-09-13_18-00-40/ITERS/it.15/15.'\n",
    "    #Create final putputs for folders that contains the iteration number 5\n",
    "    runName = 'sfbay-cp_pilates_test'\n",
    "    outputnames = ['year-2018-final','year-2019-final','year-2020-final']\n",
    "    \n",
    "    conn = boto.s3.connect_to_region('us-east-2')\n",
    "    bucket = conn.get_bucket('beam-outputs')\n",
    "    folders = bucket.list(\"pilates-outputs/\" + runName + \"/beam/\", \"/\")\n",
    "    allBeamOutputs = pd.DataFrame([folder.name for folder in folders], columns = ['name'])\n",
    "    allBeamOutputs=allBeamOutputs[allBeamOutputs['name'].str.contains('iteration-5')]\n",
    "    print('allBeamOutputs',allBeamOutputs)\n",
    "    for beamoutput, outputname in zip(allBeamOutputs['name'],outputnames):\n",
    "        print('analyzing',beamoutput)\n",
    "        inDirectory = beamoutput\n",
    "        popDirectory = inDirectory.replace(\"/beam/\", \"/activitysim/\")\n",
    "        outDirectory = bucket.list(\"s3://beam-outputs/pilates-outputs/\" + runName + \"/beam/\" + outputname)\n",
    "    #     inDirectory = 'https://beam-outputs.s3.amazonaws.com/pilates-outputs/sfbay-cp_pilates_test/beam/year-2018-iteration-5/'\n",
    "    #     popDirectory = inDirectory.replace(\"/beam/\", \"/activitysim/\") \n",
    "    #     #outDirectory = '/Users/cpoliziani/Downloads'\n",
    "    #     outDirectory = 'https://beam-outputs.s3.amazonaws.com/pilates-outputs/sfbay-cp_pilates_test/beam/year-2018-final/'\n",
    "\n",
    "        collectAllData(inDirectory, outDirectory, popDirectory)\n",
    "\n",
    "        print('done')"
   ]
  }
 ],
 "metadata": {
  "kernelspec": {
   "display_name": "Python 3 (ipykernel)",
   "language": "python",
   "name": "python3"
  },
  "language_info": {
   "codemirror_mode": {
    "name": "ipython",
    "version": 3
   },
   "file_extension": ".py",
   "mimetype": "text/x-python",
   "name": "python",
   "nbconvert_exporter": "python",
   "pygments_lexer": "ipython3",
   "version": "3.9.7"
  }
 },
 "nbformat": 4,
 "nbformat_minor": 5
}
