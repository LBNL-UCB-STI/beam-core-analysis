{
 "cells": [
  {
   "cell_type": "code",
   "execution_count": 11,
   "id": "7bb1ac6b",
   "metadata": {},
   "outputs": [],
   "source": [
    "#Imports\n",
    "import numpy as np\n",
    "import pandas as pd\n",
    "import difflib\n",
    "import matplotlib.pyplot as plt"
   ]
  },
  {
   "cell_type": "code",
   "execution_count": 12,
   "id": "ff67eea0",
   "metadata": {},
   "outputs": [],
   "source": [
    "#add the new route\n",
    "GTFS_filepath = '/Users/cpoliziani/Downloads/Transit Rich/NEW-RESULTS/KT/SF/'\n",
    "agency = pd.read_csv(GTFS_filepath+'agency.txt')\n",
    "calendar_dates = pd.read_csv(GTFS_filepath+'calendar_dates.txt')\n",
    "calendar = pd.read_csv(GTFS_filepath+'calendar.txt')\n",
    "routes = pd.read_csv(GTFS_filepath+'routes.txt')\n",
    "# shapes = pd.read_csv(GTFS_filepath+'shapes.txt')\n",
    "stop_times = pd.read_csv(GTFS_filepath+'stop_times.txt')\n",
    "stops = pd.read_csv(GTFS_filepath+'stops.txt')\n",
    "trips = pd.read_csv(GTFS_filepath+'trips.txt')\n",
    "fare_attributes = pd.read_csv(GTFS_filepath+'fare_attributes.txt')\n",
    "fare_rules = pd.read_csv(GTFS_filepath+'fare_rules.txt')"
   ]
  },
  {
   "cell_type": "code",
   "execution_count": 3,
   "id": "8ec049e6",
   "metadata": {},
   "outputs": [
    {
     "name": "stdout",
     "output_type": "stream",
     "text": [
      "add route...\n",
      "len -pre: 83\n",
      "len -post: 81\n"
     ]
    }
   ],
   "source": [
    "#routes\n",
    "print('add route...')\n",
    "print('len -pre:', len(routes))\n",
    "\n",
    "routes = routes[(routes.route_id != 12476)&(routes.route_id != 1000)&(routes.route_id != 1102)&(routes.route_id != 1106)]\n",
    "\n",
    "routes.loc[len(routes)+5] = ['1001', \n",
    "                           'SFMTA', \n",
    "                           'T',\n",
    "                           'T THIRD',\n",
    "                           routes.loc[0,'route_desc'],\n",
    "                           0,\n",
    "                           routes.loc[0,'route_url'],\n",
    "                           routes.loc[0,'route_color'],\n",
    "                           routes.loc[0,'route_text_color']] \n",
    "\n",
    "routes.loc[len(routes)+6] = ['1002', \n",
    "                           'SFMTA', \n",
    "                           'K',\n",
    "                           'K INGLESIDE',\n",
    "                           routes.loc[0,'route_desc'],\n",
    "                           0,\n",
    "                           routes.loc[0,'route_url'],\n",
    "                           routes.loc[0,'route_color'],\n",
    "                           routes.loc[0,'route_text_color']]\n",
    "\n",
    "print('len -post:', len(routes))"
   ]
  },
  {
   "cell_type": "code",
   "execution_count": 4,
   "id": "e023be63",
   "metadata": {},
   "outputs": [
    {
     "name": "stdout",
     "output_type": "stream",
     "text": [
      "add stops...\n",
      "len -pre: 3581\n",
      "len -post: 3585\n"
     ]
    }
   ],
   "source": [
    "#stops\n",
    "print('add stops...')\n",
    "print('len -pre:', len(stops))\n",
    "\n",
    "\n",
    "# stops.loc[3556] = [\n",
    "#                 7879, \n",
    "#                 17901, \n",
    "#                 '4th & King', \n",
    "#                 ' ', \n",
    "#                 37.776186, \n",
    "#                 -122.393859, \n",
    "#                 ' ', \n",
    "#                 ' '\n",
    "#                ]\n",
    "stops.loc[3600] = [\n",
    "                7879, \n",
    "                17902, \n",
    "                '4th & Brannan', \n",
    "                ' ', \n",
    "                37.778312, \n",
    "                -122.396534, \n",
    "                ' ', \n",
    "                ' '\n",
    "               ]\n",
    "stops.loc[3601] = [\n",
    "                7878, \n",
    "                17903, \n",
    "                'Yerba Buena / Moscone', \n",
    "                ' ', \n",
    "                37.782639, \n",
    "                -122.401919, \n",
    "                ' ', \n",
    "                ' '\n",
    "               ]\n",
    "stops.loc[3602] = [\n",
    "                7877, \n",
    "                17904, \n",
    "                'Union Square / Market', \n",
    "                ' ', \n",
    "                37.785936, \n",
    "                -122.406252, \n",
    "                ' ', \n",
    "                ' '\n",
    "               ]\n",
    "stops.loc[3603] = [\n",
    "                7876, \n",
    "                17905, \n",
    "                'Chinatown', \n",
    "                ' ', \n",
    "                37.794937, \n",
    "                -122.408068, \n",
    "                ' ', \n",
    "                ' '\n",
    "               ]\n",
    "# stops.loc[3561] = [\n",
    "#                 7906, \n",
    "#                 17906, \n",
    "#                 'North Beach', \n",
    "#                 ' ', \n",
    "#                 37.800300, \n",
    "#                 -122.410181, \n",
    "#                 ' ', \n",
    "#                 ' '\n",
    "#                ]\n",
    "# stops_nb = [7901, 7902, 7903, 7904, 7905]\n",
    "# stops_sb = [7905, 7904, 7903, 7902, 7901]\n",
    "print('len -post:', len(stops))"
   ]
  },
  {
   "cell_type": "code",
   "execution_count": 13,
   "id": "0499d0d6",
   "metadata": {},
   "outputs": [
    {
     "name": "stdout",
     "output_type": "stream",
     "text": [
      "add trips...\n",
      "len -pre: 28836\n",
      "len -post: 29268\n"
     ]
    }
   ],
   "source": [
    "#trips\n",
    "print('add trips...')\n",
    "print('len -pre:', len(trips))\n",
    "\n",
    "incr_trips = trips[(trips.route_id == 12476)|(trips.route_id == 1000)|(trips.route_id == 1102)|(trips.route_id == 1106)|(trips.route_id == 12327)]\n",
    "trips = trips[(trips.route_id != 12476)&(trips.route_id != 1000)&(trips.route_id != 1102)&(trips.route_id != 1106)|(trips.route_id == 12327)]\n",
    "\n",
    "hour_begin = 6\n",
    "hour_end = 24\n",
    "frequency = 6\n",
    "n_trips = (hour_end-hour_begin)*frequency\n",
    "first_index_id = 200000\n",
    "first_trip_id = 9000000\n",
    "first_block_id = 10000000\n",
    "trips_ksb = []\n",
    "trips_knb = []\n",
    "trips_tsb = []\n",
    "trips_tnb = []\n",
    "for i in range(n_trips):\n",
    "    trips.loc[first_index_id+4*i] = [1002, 1, first_trip_id+4*i, 'K SB', 0, first_block_id+4*i, 1495352]\n",
    "    trips_ksb.append(first_trip_id+4*i)\n",
    "    trips.loc[first_index_id+4*i+1] = [1002, 1, first_trip_id+4*i+1, 'K NB', 1, first_block_id+4*i+1, 1495542]\n",
    "    trips_knb.append(first_trip_id+4*i+1)\n",
    "    trips.loc[first_index_id+4*i+2] = [1001, 1, first_trip_id+4*i+2, 'T SB', 1, first_block_id+4*i+2, 1495541]\n",
    "    trips_tsb.append(first_trip_id+4*i+2)\n",
    "    trips.loc[first_index_id+4*i+3] = [1001, 1, first_trip_id+4*i+3, 'T NB', 1, first_block_id+4*i+3, 1495351]\n",
    "    trips_tnb.append(first_trip_id+4*i+3)\n",
    "print('len -post:', len(trips))"
   ]
  },
  {
   "cell_type": "code",
   "execution_count": 6,
   "id": "b7ad3dec",
   "metadata": {},
   "outputs": [
    {
     "name": "stdout",
     "output_type": "stream",
     "text": [
      "47.0\n",
      "25.0\n",
      "47.0\n",
      "25.0\n"
     ]
    }
   ],
   "source": [
    "stops_tsb = [7876, 7877, 7878, 7879, 7397, 7359, 7360, 7361, 7362, 7363, 7364, 7365,\n",
    "                7390, 7391, 7392, 7393, 7346, 7344, 7342, 7394, 7395, 7396]\n",
    "tt_stops_tsb = [0, 120, 120, 240, 360, 135, 135, 135, 135, 150, 150, 105, \n",
    "                105, 105, 105, 90, 90,90, 90, 120, 120 ,120 ]\n",
    "\n",
    "stops_ksb = [7217, 6994, 6995, 6997, 6996, 6998, 6991, 6993, 6739, 7058, 7125, 6503,\n",
    "                7114, 5807, 5780, 5786, 5808, 5793, 5798, 5795, 5785, 5418]\n",
    "tt_stops_ksb = [0, 75, 75, 75, 75, 90, 90, 210, 210, 150, 150, 30, 30, 30, 30, 30, 30, 30, 30, 30, 30]\n",
    "\n",
    "stops_tnb  = [7398, 7399, 7400, 7347, 7343, 7345, 7401, 7402, 7403, 7404, \n",
    "                 7352, 7353, 7354, 7355, 7356, 7357, 7358, 7166, 7879, 7878, 7877, 7876]\n",
    "tt_stops_tnb = [0, 120, 120, 120, 90, 90, 90, 90, 105, 105, \n",
    "                105, 105, 150, 150, 135, 135, 135, 135, 360, 240, 120, 120 ]\n",
    "\n",
    "stops_knb = [7778, 5784, 5794, 5797, 5787, 5788, 5809, 5779, 5806, 7113, 7109, 6898, \n",
    "                6740, 5730, 5728, 5726, 5419, 5727, 5417, 5731, 6992]\n",
    "tt_stops_knb = [0, 30, 30, 30, 30, 30, 30, 30, 30, 30, 30 , 150 ,150, 210, 210, 90, 90, 75, 75 ,75 ,75]\n",
    "print(sum(tt_stops_tsb)/60)\n",
    "print(sum(tt_stops_ksb)/60)\n",
    "print(sum(tt_stops_tnb)/60)\n",
    "print(sum(tt_stops_knb)/60)"
   ]
  },
  {
   "cell_type": "code",
   "execution_count": 7,
   "id": "2775a9d9",
   "metadata": {},
   "outputs": [
    {
     "name": "stdout",
     "output_type": "stream",
     "text": [
      "before 1094341\n",
      "deleted 28758\n"
     ]
    }
   ],
   "source": [
    "len_stops = len(stop_times)\n",
    "print('before',len(stop_times))\n",
    "\n",
    "is_incr = []\n",
    "incr_trips = np.unique(incr_trips['trip_id'])\n",
    "for trip_id in stop_times['trip_id']:\n",
    "    if trip_id in incr_trips:\n",
    "        is_incr.append(False)\n",
    "    else:\n",
    "        is_incr.append(True)\n",
    "stop_times = stop_times[is_incr]\n",
    "\n",
    "print('deleted',len_stops- len(stop_times))"
   ]
  },
  {
   "cell_type": "code",
   "execution_count": 8,
   "id": "68fe46c7",
   "metadata": {},
   "outputs": [
    {
     "name": "stdout",
     "output_type": "stream",
     "text": [
      "add stop times...\n",
      "len -pre: 1065583\n",
      "len -post: 1074871\n"
     ]
    }
   ],
   "source": [
    "#stop times\n",
    "print('add stop times...')\n",
    "print('len -pre:', len(stop_times))\n",
    "dep_s = hour_begin*3600\n",
    "cad = 1/frequency*3600\n",
    "first_id_stop = 2000000\n",
    "for trip_sb in trips_ksb:\n",
    "    dep_stop = dep_s\n",
    "    for stop_sb,i, tt_stop_sb in zip(stops_ksb,range(len(stops_ksb)),tt_stops_ksb):\n",
    "        first_id_stop +=1\n",
    "        dep_stop += tt_stop_sb\n",
    "        deph = str(int(dep_stop/3600))\n",
    "        depm = str(int((dep_stop-int(dep_stop/3600)*3600)/60))\n",
    "        deps = str(int(dep_stop-int(dep_stop/3600)*3600-int((dep_stop-int(dep_stop/3600)*3600)/60)*60))\n",
    "        if len(deph) == 1:\n",
    "            deph = '0'+deph\n",
    "        if len(depm) == 1:\n",
    "            depm = '0'+depm\n",
    "        if len(deps) == 1:\n",
    "            deps = '0'+deps\n",
    "        stop_times.loc[first_id_stop] = [trip_sb, deph+':'+depm+':'+deps, deph+':'+depm+':'+deps, stop_sb, i+1, ' ',' ',' ',' ']\n",
    "    dep_s += cad\n",
    "dep_s = hour_begin*3600\n",
    "for trip_nb in trips_knb:\n",
    "    dep_stop = dep_s\n",
    "    for stop_nb,i, tt_stop_nb in zip(stops_knb,range(len(stops_knb)),tt_stops_knb):\n",
    "        first_id_stop +=1\n",
    "        dep_stop += tt_stop_nb\n",
    "        deph = str(int(dep_stop/3600))\n",
    "        depm = str(int((dep_stop-int(dep_stop/3600)*3600)/60))\n",
    "        deps = str(int(dep_stop-int(dep_stop/3600)*3600-int((dep_stop-int(dep_stop/3600)*3600)/60)*60))\n",
    "        if len(deph) == 1:\n",
    "            deph = '0'+deph\n",
    "        if len(depm) == 1:\n",
    "            depm = '0'+depm\n",
    "        if len(deps) == 1:\n",
    "            deps = '0'+deps\n",
    "        stop_times.loc[first_id_stop] = [trip_nb,  deph+':'+depm+':'+deps, deph+':'+depm+':'+deps, stop_nb, i+1, ' ',' ',' ',' ']\n",
    "    dep_s += cad\n",
    "dep_s = hour_begin*3600\n",
    "for trip_sb in trips_tsb:\n",
    "    dep_stop = dep_s\n",
    "    for stop_sb,i, tt_stop_sb in zip(stops_tsb,range(len(stops_tsb)),tt_stops_tsb):\n",
    "        first_id_stop +=1\n",
    "        dep_stop += tt_stop_sb\n",
    "        deph = str(int(dep_stop/3600))\n",
    "        depm = str(int((dep_stop-int(dep_stop/3600)*3600)/60))\n",
    "        deps = str(int(dep_stop-int(dep_stop/3600)*3600-int((dep_stop-int(dep_stop/3600)*3600)/60)*60))\n",
    "        if len(deph) == 1:\n",
    "            deph = '0'+deph\n",
    "        if len(depm) == 1:\n",
    "            depm = '0'+depm\n",
    "        if len(deps) == 1:\n",
    "            deps = '0'+deps\n",
    "        stop_times.loc[first_id_stop] = [trip_sb, deph+':'+depm+':'+deps, deph+':'+depm+':'+deps, stop_sb, i+1, ' ',' ',' ',' ']\n",
    "    dep_s += cad\n",
    "dep_s = hour_begin*3600\n",
    "for trip_nb in trips_tnb:\n",
    "    dep_stop = dep_s\n",
    "    for stop_nb,i, tt_stop_nb in zip(stops_tnb,range(len(stops_tnb)),tt_stops_tnb):\n",
    "        first_id_stop +=1\n",
    "        dep_stop += tt_stop_nb\n",
    "        deph = str(int(dep_stop/3600))\n",
    "        depm = str(int((dep_stop-int(dep_stop/3600)*3600)/60))\n",
    "        deps = str(int(dep_stop-int(dep_stop/3600)*3600-int((dep_stop-int(dep_stop/3600)*3600)/60)*60))\n",
    "        if len(deph) == 1:\n",
    "            deph = '0'+deph\n",
    "        if len(depm) == 1:\n",
    "            depm = '0'+depm\n",
    "        if len(deps) == 1:\n",
    "            deps = '0'+deps\n",
    "        stop_times.loc[first_id_stop] = [trip_nb,  deph+':'+depm+':'+deps, deph+':'+depm+':'+deps, stop_nb, i+1, ' ',' ',' ',' ']\n",
    "    dep_s += cad\n",
    "print('len -post:', len(stop_times))"
   ]
  },
  {
   "cell_type": "code",
   "execution_count": 9,
   "id": "f88d5f62",
   "metadata": {},
   "outputs": [],
   "source": [
    "#fare_rules\n",
    "fare_rules = fare_rules[(fare_rules.route_id != 12476)&(fare_rules.route_id != 1000)&(fare_rules.route_id != 1102)&(fare_rules.route_id != 1106)&(fare_rules.route_id != 12327)]\n",
    "\n",
    "fare_rules.loc[84] = ['1','1001',fare_rules.at[0,'origin_id'],fare_rules.at[0,'destination_id'],fare_rules.at[0,'contains_id']]\n",
    "fare_rules.loc[85] = ['1','1002',fare_rules.at[0,'origin_id'],fare_rules.at[0,'destination_id'],fare_rules.at[0,'contains_id']]\n",
    "\n",
    "\n",
    "\n"
   ]
  },
  {
   "cell_type": "code",
   "execution_count": 14,
   "id": "b34e6ccb",
   "metadata": {},
   "outputs": [],
   "source": [
    "GTFS_filepath = '/Users/cpoliziani/Downloads/Transit Rich/NEW-RESULTS/KT/SF/'\n",
    "routes.to_csv(GTFS_filepath+'routes.txt',index=False)\n",
    "# shapes.to_csv(GTFS_filepath+'shapes.txt',index=False)\n",
    "stop_times.to_csv(GTFS_filepath+'stop_times.txt',index=False)\n",
    "stops.to_csv(GTFS_filepath+'stops.txt',index=False)\n",
    "trips.to_csv(GTFS_filepath+'trips.txt',index=False)\n",
    "fare_rules.to_csv(GTFS_filepath+'fare_rules.txt',index=False)"
   ]
  },
  {
   "cell_type": "code",
   "execution_count": null,
   "id": "c194660c",
   "metadata": {},
   "outputs": [],
   "source": []
  },
  {
   "cell_type": "code",
   "execution_count": null,
   "id": "1ee0dede",
   "metadata": {},
   "outputs": [],
   "source": []
  }
 ],
 "metadata": {
  "kernelspec": {
   "display_name": "Python 3 (ipykernel)",
   "language": "python",
   "name": "python3"
  },
  "language_info": {
   "codemirror_mode": {
    "name": "ipython",
    "version": 3
   },
   "file_extension": ".py",
   "mimetype": "text/x-python",
   "name": "python",
   "nbconvert_exporter": "python",
   "pygments_lexer": "ipython3",
   "version": "3.9.7"
  }
 },
 "nbformat": 4,
 "nbformat_minor": 5
}
