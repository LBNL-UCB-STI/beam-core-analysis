{
 "cells": [
  {
   "cell_type": "markdown",
   "metadata": {},
   "source": [
    "# Turning the big encrypted, compressed csv's into readable files"
   ]
  },
  {
   "cell_type": "code",
   "execution_count": 2,
   "metadata": {},
   "outputs": [],
   "source": [
    "import pandas as pd"
   ]
  },
  {
   "cell_type": "code",
   "execution_count": 3,
   "metadata": {},
   "outputs": [
    {
     "name": "stderr",
     "output_type": "stream",
     "text": [
      "C:\\Users\\jmckinney\\AppData\\Local\\Temp\\ipykernel_13680\\2700211759.py:5: DtypeWarning: Columns (11,24,25) have mixed types. Specify dtype option on import or set low_memory=False.\n",
      "  vehicleData = pd.read_csv(\"https://storage.googleapis.com/beam-core-outputs/sfbay-tr_capacity_1_5-20230608/beam/year-2020-iteration-4/ITERS/it.0/0.events.csv.gz\", usecols = ['vehicle','vehicleType','mode'])\n"
     ]
    }
   ],
   "source": [
    "#Read the csv from some public URL, this gets you a data frame\n",
    "#OLDER VERSION OF MY CSV READER\n",
    "'''\n",
    "timeandlengthData = pd.read_csv(\"https://storage.googleapis.com/beam-core-outputs/sfbay-tr_capacity_1_5-20230608/beam/year-2020-iteration-4/ITERS/it.0/0.events.csv.gz\", usecols = [\"time\",\"type\",\"length\",\"arrivalTime\",\"departureTime\"])\n",
    "linkEvents = pd.read_csv(\"https://storage.googleapis.com/beam-core-outputs/sfbay-tr_capacity_1_5-20230608/beam/year-2020-iteration-4/ITERS/it.0/0.events.csv.gz\", usecols = [\"type\",\"links\",\"linkTravelTime\"])\n",
    "fuelData = pd.read_csv(\"https://storage.googleapis.com/beam-core-outputs/sfbay-tr_capacity_1_5-20230608/beam/year-2020-iteration-4/ITERS/it.0/0.events.csv.gz\", usecols = ['primaryFuelLevel','secondaryFuelLevel','primaryFuelType','secondaryFuelType'])\n",
    "vehicleData = pd.read_csv(\"https://storage.googleapis.com/beam-core-outputs/sfbay-tr_capacity_1_5-20230608/beam/year-2020-iteration-4/ITERS/it.0/0.events.csv.gz\", usecols = ['vehicle','vehicleType','mode'])\n",
    "'''"
   ]
  },
  {
   "cell_type": "code",
   "execution_count": 4,
   "metadata": {},
   "outputs": [],
   "source": [
    "#Now you turn that data fram into a local csv file\n",
    "#name the file something unique with \".csv\" at the end\n",
    "#Do not repeat names\n",
    "#OLDER VERSION OF MY CSV READER\n",
    "'''\n",
    "timeandlengthData.to_csv('timeandlengthData.csv')\n",
    "linkEvents.to_csv('linkEvents.csv')\n",
    "fuelData.to_csv('fuelData.csv')\n",
    "vehicleData.to_csv('vehicleData.csv')\n",
    "'''"
   ]
  },
  {
   "cell_type": "code",
   "execution_count": 3,
   "metadata": {},
   "outputs": [
    {
     "name": "stderr",
     "output_type": "stream",
     "text": [
      "C:\\Users\\jmckinney\\AppData\\Local\\Temp\\ipykernel_13816\\3216479293.py:4: DtypeWarning: Columns (47,56) have mixed types. Specify dtype option on import or set low_memory=False.\n",
      "  link_data = pd.read_csv('https://storage.googleapis.com/beam-core-outputs/sfbay-tr_capacity_1_5-20230608/beam/year-2020-iteration-4/ITERS/it.0/0.events.csv.gz', usecols = ['link','links','linkTravelTime'])\n",
      "C:\\Users\\jmckinney\\AppData\\Local\\Temp\\ipykernel_13816\\3216479293.py:5: DtypeWarning: Columns (11,24,25) have mixed types. Specify dtype option on import or set low_memory=False.\n",
      "  vehicle_data = pd.read_csv('https://storage.googleapis.com/beam-core-outputs/sfbay-tr_capacity_1_5-20230608/beam/year-2020-iteration-4/ITERS/it.0/0.events.csv.gz', usecols = ['vehicleType','vehicle','mode','type'])\n",
      "C:\\Users\\jmckinney\\AppData\\Local\\Temp\\ipykernel_13816\\3216479293.py:7: DtypeWarning: Columns (59) have mixed types. Specify dtype option on import or set low_memory=False.\n",
      "  fuel_data = pd.read_csv('https://storage.googleapis.com/beam-core-outputs/sfbay-tr_capacity_1_5-20230608/beam/year-2020-iteration-4/ITERS/it.0/0.events.csv.gz', usecols = ['primaryFuelLevel','primaryFuelType'])\n"
     ]
    }
   ],
   "source": [
    "#Here is the code block specifically for the path tracer csv files\n",
    "network_data = pd.read_csv('https://storage.googleapis.com/beam-core-outputs/sfbay-tr_capacity_1_5-20230608/beam/year-2020-iteration-4/network.csv.gz')\n",
    "XandY_data = pd.read_csv('https://storage.googleapis.com/beam-core-outputs/sfbay-tr_capacity_1_5-20230608/beam/year-2020-iteration-4/ITERS/it.0/0.events.csv.gz', usecols = ['startX','startY','endX','endY'])\n",
    "link_data = pd.read_csv('https://storage.googleapis.com/beam-core-outputs/sfbay-tr_capacity_1_5-20230608/beam/year-2020-iteration-4/ITERS/it.0/0.events.csv.gz', usecols = ['link','links','linkTravelTime'])\n",
    "vehicle_data = pd.read_csv('https://storage.googleapis.com/beam-core-outputs/sfbay-tr_capacity_1_5-20230608/beam/year-2020-iteration-4/ITERS/it.0/0.events.csv.gz', usecols = ['vehicleType','vehicle','mode','type'])\n",
    "timelength_data = pd.read_csv('https://storage.googleapis.com/beam-core-outputs/sfbay-tr_capacity_1_5-20230608/beam/year-2020-iteration-4/ITERS/it.0/0.events.csv.gz', usecols = ['time','length'])\n",
    "fuel_data = pd.read_csv('https://storage.googleapis.com/beam-core-outputs/sfbay-tr_capacity_1_5-20230608/beam/year-2020-iteration-4/ITERS/it.0/0.events.csv.gz', usecols = ['primaryFuelLevel','primaryFuelType'])"
   ]
  },
  {
   "cell_type": "code",
   "execution_count": 4,
   "metadata": {},
   "outputs": [],
   "source": [
    "network_data.to_csv('network_data.csv')\n",
    "XandY_data.to_csv('XandY_data.csv')\n",
    "link_data.to_csv('link_data.csv')\n",
    "vehicle_data.to_csv('vehicle_data.csv')\n",
    "timelength_data.to_csv('timelength_data.csv')\n",
    "fuel_data.to_csv('fuel_data.csv')"
   ]
  }
 ],
 "metadata": {
  "kernelspec": {
   "display_name": "Python 3 (ipykernel)",
   "language": "python",
   "name": "python3"
  },
  "language_info": {
   "codemirror_mode": {
    "name": "ipython",
    "version": 3
   },
   "file_extension": ".py",
   "mimetype": "text/x-python",
   "name": "python",
   "nbconvert_exporter": "python",
   "pygments_lexer": "ipython3",
   "version": "3.9.18"
  }
 },
 "nbformat": 4,
 "nbformat_minor": 2
}
