{
 "cells": [
  {
   "cell_type": "code",
   "execution_count": null,
   "id": "b1810787-f244-42fa-a402-d9529952abeb",
   "metadata": {
    "tags": []
   },
   "outputs": [],
   "source": [
    "! pip install geopandas\n",
    "! pip install pandas\n",
    "! pip install pygeos\n",
    "! pip install boto\n",
    "! pip install s3fs\n",
    "! pip install shapely\n",
    "! pip install gcsfs\n",
    "import numpy as np\n",
    "import pandas as pd\n",
    "import matplotlib.pyplot as plt\n",
    "import gzip\n",
    "import time\n",
    "from itertools import groupby\n",
    "import geopandas as gpd"
   ]
  },
  {
   "cell_type": "code",
   "execution_count": null,
   "id": "929aacf3-1595-44cc-a3bf-a9e4dc73b0ec",
   "metadata": {},
   "outputs": [],
   "source": [
    "\n"
   ]
  },
  {
   "cell_type": "code",
   "execution_count": null,
   "id": "84bed082-5300-481f-a8fd-efdcfdf70906",
   "metadata": {},
   "outputs": [],
   "source": [
    "# READ AND CORRECT LINK TABLE RESULTS\n",
    "link_table_5fleets = pd.read_csv('s3://beam-outputs/pilates-outputs/sfbay_5fleets_100price_1000fleet_20230209/postprocessOutputs/year-2020-iteration-3/linkTable.csv.gz', nrows = None)\n",
    "\n",
    "link_table_bs      = pd.read_csv('s3://beam-outputs/pilates-outputs/sfbay_baseline_20230209/postprocessOutputs/year-2020-iteration-3/linkTable.csv.gz', nrows = None)\n",
    "\n",
    "link_table_bs = link_table_bs.fillna(0)\n",
    "bgids = []\n",
    "wrong = 0\n",
    "for bg in link_table_bs['bgid']:\n",
    "    bgids.append('0'+str(int(bg)))\n",
    "    if bg ==0:\n",
    "        wrong +=1\n",
    "print('wrong',wrong)\n",
    "link_table_bs['bgid'] = bgids\n",
    "\n",
    "link_table_5fleets = link_table_5fleets.fillna(0)\n",
    "bgids = []\n",
    "wrong = 0\n",
    "for bg in link_table_5fleets['bgid']:\n",
    "    bgids.append('0'+str(int(bg)))\n",
    "    if bg ==0:\n",
    "        wrong +=1\n",
    "print('wrong',wrong)\n",
    "link_table_5fleets['bgid'] = bgids\n",
    "\n",
    "#Filter volume higher than 5\n",
    "link_table_bs_volume = link_table_bs[link_table_bs['volume']>5]\n",
    "link_table_5fleets_volume = link_table_5fleets[link_table_5fleets['volume']>5]"
   ]
  },
  {
   "cell_type": "code",
   "execution_count": null,
   "id": "4647af55-603b-47b1-9e54-29f20bc19465",
   "metadata": {},
   "outputs": [],
   "source": [
    "# AGGREGATE SPEEDS BY BLOCK ID\n",
    "link_table_bs_grouped = link_table_bs_volume.groupby(['bgid']).apply(lambda x: np.mean(list(x.length/x.traveltime)))\n",
    "link_table_5fleets_grouped = link_table_5fleets_volume.groupby(['bgid']).apply(lambda x: np.mean(list(x.length/x.traveltime)))\n",
    "delta_speeds = {}\n",
    "for bgid in link_table_bs_grouped.keys():\n",
    "    try:\n",
    "        delta_speeds[bgid] = link_table_5fleets_grouped[bgid] - link_table_bs_grouped[bgid] \n",
    "    except:\n",
    "        print(bgid)\n",
    "speeds_diff = pd.DataFrame()\n",
    "speeds_diff['speeds_diff'] = delta_speeds.values()\n",
    "speeds_diff['bgid'] = delta_speeds.keys()\n",
    "speeds_diff.to_csv('outputs/diff_speeds_bgid.csv')"
   ]
  },
  {
   "cell_type": "code",
   "execution_count": null,
   "id": "e4d92853-c517-4742-acb6-327b9e3a5e43",
   "metadata": {},
   "outputs": [],
   "source": [
    "# AGGREGATE SPEEDS BY ZIP CODE\n",
    "link_table_bs_grouped = link_table_bs_volume.groupby(['bgid']).apply(lambda x: np.mean(list(x.length/x.traveltime)))\n",
    "link_table_5fleets_grouped = link_table_5fleets_volume.groupby(['bgid']).apply(lambda x: np.mean(list(x.length/x.traveltime)))\n",
    "delta_speeds = {}\n",
    "for bgid in link_table_bs_grouped.keys():\n",
    "    try:\n",
    "        delta_speeds[bgid] = link_table_5fleets_grouped[bgid] - link_table_bs_grouped[bgid] \n",
    "    except:\n",
    "        print(bgid)\n",
    "speeds_diff = pd.DataFrame()\n",
    "speeds_diff['speeds_diff'] = delta_speeds.values()\n",
    "speeds_diff['bgid'] = delta_speeds.keys()\n",
    "speeds_diff.to_csv('outputs/diff_speeds_bgid.csv')"
   ]
  },
  {
   "cell_type": "code",
   "execution_count": null,
   "id": "0bdbe256-8af2-46c4-802f-a352834e6460",
   "metadata": {},
   "outputs": [],
   "source": []
  },
  {
   "cell_type": "code",
   "execution_count": null,
   "id": "247d2806-47a6-442a-8a08-fe0f405514b6",
   "metadata": {},
   "outputs": [],
   "source": [
    "link_table_bs"
   ]
  },
  {
   "cell_type": "code",
   "execution_count": null,
   "id": "8e015a7a-ae2a-4525-86d6-7ce2218ebd16",
   "metadata": {},
   "outputs": [],
   "source": []
  },
  {
   "cell_type": "code",
   "execution_count": null,
   "id": "e99fdc7c-4fb2-48d3-b2c1-a2bf6bf5ad8f",
   "metadata": {},
   "outputs": [],
   "source": []
  },
  {
   "cell_type": "code",
   "execution_count": null,
   "id": "5d42d93f-fb90-4a11-8ae0-1d901a07bc18",
   "metadata": {},
   "outputs": [],
   "source": []
  },
  {
   "cell_type": "code",
   "execution_count": null,
   "id": "2bf9935c-2576-43ba-aed2-77a935caac2d",
   "metadata": {},
   "outputs": [],
   "source": []
  },
  {
   "cell_type": "code",
   "execution_count": null,
   "id": "417c4a0d-db86-4c08-8b2e-572921791f52",
   "metadata": {},
   "outputs": [],
   "source": [
    "network     = pd.read_csv('s3://beam-outputs/pilates-outputs/sfbay_baseline_20230209/beam/year-2020-iteration-3/network.csv.gz', nrows = None)\n",
    "network.to_csv('outputs/network.csv')"
   ]
  },
  {
   "cell_type": "code",
   "execution_count": null,
   "id": "37fb2725-6915-4e6a-abd5-bfe93479e79a",
   "metadata": {},
   "outputs": [],
   "source": [
    "network"
   ]
  },
  {
   "cell_type": "code",
   "execution_count": null,
   "id": "ed8d7f94-0306-4fcc-ad16-7c2c04acddf5",
   "metadata": {},
   "outputs": [],
   "source": [
    "link_table_bs"
   ]
  },
  {
   "cell_type": "code",
   "execution_count": null,
   "id": "464af877-7d7e-41bd-bb04-8db830327f9d",
   "metadata": {
    "tags": []
   },
   "outputs": [],
   "source": [
    "[list(delta_speeds.values()),list(delta_speeds.keys())]"
   ]
  },
  {
   "cell_type": "code",
   "execution_count": null,
   "id": "57e1ad6a-60c1-460b-b844-66c6297a5e13",
   "metadata": {},
   "outputs": [],
   "source": []
  }
 ],
 "metadata": {
  "kernelspec": {
   "display_name": "Python 3 (ipykernel)",
   "language": "python",
   "name": "python3"
  },
  "language_info": {
   "codemirror_mode": {
    "name": "ipython",
    "version": 3
   },
   "file_extension": ".py",
   "mimetype": "text/x-python",
   "name": "python",
   "nbconvert_exporter": "python",
   "pygments_lexer": "ipython3",
   "version": "3.9.10"
  }
 },
 "nbformat": 4,
 "nbformat_minor": 5
}
