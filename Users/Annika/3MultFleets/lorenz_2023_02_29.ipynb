{
 "cells": [
  {
   "cell_type": "code",
   "execution_count": 3,
   "id": "c9934178",
   "metadata": {},
   "outputs": [],
   "source": [
    "# Multiple fleets, Graphs\n",
    "\n",
    "#### On Feb 28 2023 "
   ]
  },
  {
   "cell_type": "code",
   "execution_count": 4,
   "id": "195e93b1",
   "metadata": {},
   "outputs": [],
   "source": [
    "import numpy as np\n",
    "import pandas as pd\n",
    "import matplotlib as mpl\n",
    "import matplotlib.pyplot as plt"
   ]
  },
  {
   "cell_type": "code",
   "execution_count": 5,
   "id": "9a597380",
   "metadata": {},
   "outputs": [
    {
     "name": "stdout",
     "output_type": "stream",
     "text": [
      "Collecting pyprojroot\n",
      "  Downloading pyprojroot-0.2.0-py3-none-any.whl (5.2 kB)\n",
      "Installing collected packages: pyprojroot\n",
      "Successfully installed pyprojroot-0.2.0\n"
     ]
    }
   ],
   "source": [
    "!pip install pyprojroot"
   ]
  },
  {
   "cell_type": "code",
   "execution_count": 6,
   "id": "975da390",
   "metadata": {},
   "outputs": [],
   "source": [
    "from pyprojroot import here"
   ]
  }
 ],
 "metadata": {
  "kernelspec": {
   "display_name": "Python 3 (ipykernel)",
   "language": "python",
   "name": "python3"
  },
  "language_info": {
   "codemirror_mode": {
    "name": "ipython",
    "version": 3
   },
   "file_extension": ".py",
   "mimetype": "text/x-python",
   "name": "python",
   "nbconvert_exporter": "python",
   "pygments_lexer": "ipython3",
   "version": "3.9.13"
  }
 },
 "nbformat": 4,
 "nbformat_minor": 5
}
