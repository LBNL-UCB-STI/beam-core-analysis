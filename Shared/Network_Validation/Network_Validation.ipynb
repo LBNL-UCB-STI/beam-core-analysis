{
 "cells": [
  {
   "cell_type": "markdown",
   "id": "1df1c080",
   "metadata": {},
   "source": [
    "# NetWork Validation"
   ]
  },
  {
   "cell_type": "markdown",
   "id": "b7b9792b",
   "metadata": {},
   "source": [
    "### An example using pyrosm to analyse sfbay network"
   ]
  },
  {
   "cell_type": "code",
   "execution_count": null,
   "id": "2f1bd6b3",
   "metadata": {},
   "outputs": [],
   "source": [
    "# Import the library\n",
    "import pyrosm\n",
    "import warnings\n",
    "warnings.filterwarnings(\"ignore\")"
   ]
  },
  {
   "cell_type": "code",
   "execution_count": 2,
   "id": "c84e724b",
   "metadata": {},
   "outputs": [
    {
     "name": "stdout",
     "output_type": "stream",
     "text": [
      "Help on function __init__ in module pyrosm.pyrosm:\n",
      "\n",
      "__init__(self, filepath, bounding_box=None)\n",
      "    Initialize self.  See help(type(self)) for accurate signature.\n",
      "\n",
      "Type of 'osm' instance:  <class 'pyrosm.pyrosm.OSM'>\n"
     ]
    }
   ],
   "source": [
    "# Print information about the basic usage of the `OSM` reader object\n",
    "help(pyrosm.OSM.__init__)\n",
    "# Initialize the OSM object\n",
    "fp = 'data/sf-bay.osm.pbf'\n",
    "osm = pyrosm.OSM(fp)\n",
    "# See the type\n",
    "print(\"Type of 'osm' instance: \", type(osm))"
   ]
  },
  {
   "cell_type": "code",
   "execution_count": null,
   "id": "c5d2f29d",
   "metadata": {},
   "outputs": [],
   "source": [
    "# Read all drivable roads\n",
    "# =======================\n",
    "drive_net = osm.get_network(network_type=\"driving\")\n",
    "drive_net.plot()"
   ]
  },
  {
   "cell_type": "markdown",
   "id": "475b6421",
   "metadata": {},
   "source": [
    "The network contains various information that is parsed from the OSM data, and includes length column that contains information about the length of the road in meters.\n",
    "Each way in the network is represented as a MultiLineString geometry constructed from multiple road segments. This is how the data is represented by default in OSM. However, this differs if reading nodes and edges: in that case each road segment is represented as a separate row in data (to improve connectivity)"
   ]
  },
  {
   "cell_type": "code",
   "execution_count": null,
   "id": "e8080071",
   "metadata": {},
   "outputs": [],
   "source": [
    "display(drive_net.head(2))\n",
    "display(drive_net.columns)"
   ]
  },
  {
   "cell_type": "markdown",
   "id": "b7f68275",
   "metadata": {},
   "source": [
    "I'm thinking about we may could have some way of checking the connections between different roads, several important things here:\n",
    "\n",
    "1. Road classification\n",
    "2. Road connectivity"
   ]
  },
  {
   "cell_type": "markdown",
   "id": "e46ae9b9",
   "metadata": {},
   "source": [
    "some usefule links:\n",
    "\n",
    "A very comprehensive description of the validation of the network from OSM: https://wiki.openstreetmap.org/wiki/Tasking_Manager/Validating_data\n",
    "\n",
    "A demo of network validation:\n",
    "https://www.youtube.com/watch?v=2h12CKnvK38&t=38s"
   ]
  }
 ],
 "metadata": {
  "kernelspec": {
   "display_name": "Python 3 (ipykernel)",
   "language": "python",
   "name": "python3"
  },
  "language_info": {
   "codemirror_mode": {
    "name": "ipython",
    "version": 3
   },
   "file_extension": ".py",
   "mimetype": "text/x-python",
   "name": "python",
   "nbconvert_exporter": "python",
   "pygments_lexer": "ipython3",
   "version": "3.8.8"
  }
 },
 "nbformat": 4,
 "nbformat_minor": 5
}
