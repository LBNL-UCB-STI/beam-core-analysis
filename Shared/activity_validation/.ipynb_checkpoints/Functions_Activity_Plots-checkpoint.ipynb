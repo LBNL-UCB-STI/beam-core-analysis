{
 "cells": [
  {
   "cell_type": "code",
   "execution_count": 1,
   "id": "7dbc0df2",
   "metadata": {},
   "outputs": [],
   "source": [
    "import pandas as pd\n",
    "import censusdata\n",
    "import os\n",
    "from pandas import read_csv\n",
    "import matplotlib.pyplot as plt\n",
    "import seaborn as sns\n",
    "import warnings\n",
    "import numpy as np\n",
    "import datetime \n",
    "\n",
    "#from google.colab import drive \n",
    "#drive.mount('/content/drive')\n",
    "\n",
    "warnings.filterwarnings(\"ignore\")\n",
    "\n",
    "plt.style.use('ggplot')\n",
    "sns.set(font_scale=1.2)  # larger font"
   ]
  },
  {
   "cell_type": "code",
   "execution_count": 2,
   "id": "3000c721",
   "metadata": {},
   "outputs": [],
   "source": [
    "os.chdir('/Users/sayaz/Documents/BEAM/BEAM CORE Validation/SF_Bay')"
   ]
  },
  {
   "cell_type": "code",
   "execution_count": null,
   "id": "02148a66",
   "metadata": {},
   "outputs": [],
   "source": []
  },
  {
   "cell_type": "code",
   "execution_count": 3,
   "id": "c393351c",
   "metadata": {},
   "outputs": [],
   "source": [
    "############################################## Common functions ##############################################"
   ]
  },
  {
   "cell_type": "code",
   "execution_count": 4,
   "id": "f2d3b51a",
   "metadata": {},
   "outputs": [],
   "source": [
    "# A function to remove rows with certain values from a column\n",
    "def remove_rows_by_values(df, col, values):\n",
    "    return df[~df[col].isin(values)]"
   ]
  },
  {
   "cell_type": "code",
   "execution_count": 5,
   "id": "ff9fc75c",
   "metadata": {},
   "outputs": [],
   "source": [
    "# Create a new column in the df by replacing the value in an existing column\n",
    "def replace_value_single(df, current_value_s, current_column_s, new_value_s,  new_column_s):\n",
    "    df.loc[df[current_column_s] == current_value_s, new_column_s] = new_value_s\n",
    "    return df"
   ]
  },
  {
   "cell_type": "code",
   "execution_count": 6,
   "id": "17322229",
   "metadata": {},
   "outputs": [],
   "source": [
    "# Create a new column in the df by replacing the value in an existing column\n",
    "# def replace_value_single(df, current_value, current_column, new_value,  new_column):\n",
    "#     df.loc[df[current_column] == 5, new_column] = new_value\n",
    "#     return df"
   ]
  },
  {
   "cell_type": "code",
   "execution_count": 7,
   "id": "4454779e",
   "metadata": {},
   "outputs": [],
   "source": [
    "# Create a new column in the df by replacing a range of values in an existing column by \n",
    "# one single value in the new column\n",
    "def replace_value_multiple(df, list_current_value, current_column, new_value,  new_column):\n",
    "    df.loc[df[current_column].isin(list_current_value), new_column] = new_value\n",
    "    return df  "
   ]
  },
  {
   "cell_type": "code",
   "execution_count": 8,
   "id": "a8b5bccc",
   "metadata": {},
   "outputs": [],
   "source": [
    "# A function to calculate the distribution of a variable (e.g., for the range of values in a column in a dataframe)\n",
    "def distribution(df, column_values, column_count, new_column):\n",
    "    column_valuesN = column_values.replace(\"'\",\"\")\n",
    "    df1 = df.groupby(column_valuesN)[[column_count]].count()\n",
    "    df1 = df1.reset_index()    \n",
    "    df1[new_column] = df1[column_count].transform(lambda x: x/x.sum()*100) # Calulate the percentage\n",
    "    df1 = df1[[column_values, new_column]]\n",
    "    return df1"
   ]
  },
  {
   "cell_type": "code",
   "execution_count": 9,
   "id": "0fdb788f",
   "metadata": {},
   "outputs": [],
   "source": [
    "# A function merge the dataframes for making a single plot\n",
    "def merge_df(df1, df2, common_col):\n",
    "    df = pd.merge(df1, df2, on = common_col)\n",
    "    return df"
   ]
  },
  {
   "cell_type": "code",
   "execution_count": 10,
   "id": "a5d6270f",
   "metadata": {},
   "outputs": [],
   "source": [
    "# A function to generate the plots\n",
    "def activity_plot(df, x_val, xlabel, ylebel, title, plotname):\n",
    "    df.plot(x = x_val, kind = 'bar')\n",
    "    plt.xlabel(xlabel)\n",
    "    plt.ylabel(ylebel)\n",
    "    plt.title(title)\n",
    "    plt.savefig(plotname, dpi = 200, bbox_inches = 'tight')"
   ]
  },
  {
   "cell_type": "code",
   "execution_count": 11,
   "id": "db906dbe",
   "metadata": {},
   "outputs": [],
   "source": [
    "# A function to generate the plots\n",
    "def activity_plot_showPercent(df, x_val, xlabel, ylabel, title, plotname):\n",
    "    df_plot = df.plot(x = x_val, kind = 'bar', figsize=(15,8)) # , figsize=(15,4) , width=1\n",
    "    for p in df_plot.containers:\n",
    "        df_plot.bar_label(p, fmt='%.1f%%', label_type='edge', fontsize = 9)\n",
    "        df_plot.xaxis.set_label_coords(0.5, -0.1)\n",
    "        df_plot.yaxis.set_label_coords(-0.05, 0.5)\n",
    "    plt.xlabel(xlabel, fontsize = 15)\n",
    "    plt.ylabel(ylabel, fontsize = 15)\n",
    "    plt.xticks(rotation = 360)\n",
    "    plt.title(title)\n",
    "    plt.savefig(plotname, dpi = 200, bbox_inches = 'tight') # plt.savefig(plotname, dpi = 200, bbox_inches = 'tight')\n",
    "    return df_plot"
   ]
  },
  {
   "cell_type": "code",
   "execution_count": 12,
   "id": "8d29aad7",
   "metadata": {},
   "outputs": [],
   "source": [
    "# A function to generate the plots\n",
    "def activity_plot_percentLegend(df, x_val, xlabel, ylabel, legend, title, plotname):\n",
    "    df_plot = df.plot(x = x_val, kind = 'bar', figsize=(15,8)) # , figsize=(15,4) , width=1\n",
    "    for p in df_plot.containers:\n",
    "        df_plot.bar_label(p, fmt='%.1f%%', label_type='edge', fontsize = 9)\n",
    "        df_plot.xaxis.set_label_coords(0.5, -0.1)\n",
    "        df_plot.yaxis.set_label_coords(-0.05, 0.5)\n",
    "        df_plot.legend(legend)\n",
    "    plt.xlabel(xlabel, fontsize = 15)\n",
    "    plt.ylabel(ylabel, fontsize = 15)\n",
    "    plt.xticks(rotation = 360)\n",
    "    plt.title(title)\n",
    "    plt.savefig(plotname, dpi = 200, bbox_inches = 'tight') # plt.savefig(plotname, dpi = 200, bbox_inches = 'tight')\n",
    "    return df_plot"
   ]
  },
  {
   "cell_type": "code",
   "execution_count": 15,
   "id": "7607117f",
   "metadata": {},
   "outputs": [],
   "source": [
    "# A function to generate the plots\n",
    "def activity_plot_percentLegendXtick(df, x_val, xlabel, ylabel, xtickLabels, legend, title, plotname):\n",
    "    df_plot = df.plot(x = x_val, kind = 'bar', figsize=(15,8)) # , figsize=(15,4) , width=1\n",
    "    for p in df_plot.containers:\n",
    "        df_plot.bar_label(p, fmt='%.1f%%', label_type='edge', fontsize = 9)\n",
    "        df_plot.xaxis.set_label_coords(0.5, -0.1)\n",
    "        df_plot.yaxis.set_label_coords(-0.05, 0.5)\n",
    "        df_plot.set_xticklabels(xtickLabels)\n",
    "        df_plot.legend(legend)\n",
    "    plt.xlabel(xlabel, fontsize = 15)\n",
    "    plt.ylabel(ylabel, fontsize = 15)\n",
    "    plt.xticks(rotation = 360)\n",
    "    plt.title(title)\n",
    "    plt.savefig(plotname, dpi = 200, bbox_inches = 'tight') # plt.savefig(plotname, dpi = 200, bbox_inches = 'tight')\n",
    "    return df_plot"
   ]
  },
  {
   "cell_type": "code",
   "execution_count": 14,
   "id": "f1f0d77d",
   "metadata": {},
   "outputs": [],
   "source": [
    "# # A function to generate the plots\n",
    "# def activity_plot_showPercent(df, x_val, xlabel, ylebel, title, plotname):\n",
    "#     df_plot = df.plot(x = x_val, kind = 'bar', figsize=(10,8), width=1) # , figsize=(15,4)\n",
    "#     for p in df_plot.containers:\n",
    "#         df_plot.bar_label(p, fmt='%.1f%%', label_type='edge')\n",
    "# #     p.set_fontsize(7)\n",
    "# #     for p in df_plot.patches:\n",
    "# #         width = p.get_width()\n",
    "# #         height = p.get_height()\n",
    "# #         x, y = p.get_xy() \n",
    "# #         df_plot.annotate(f'{height}', (x + width/2, y + height*1.02), ha='center')\n",
    "# #     plt.xlabel(xlabel)\n",
    "#     plt.ylabel(ylebel)\n",
    "#     plt.title(title)\n",
    "# #     plt.rcParams['font.size'] = 6\n",
    "#     plt.savefig(plotname, dpi = 200, bbox_inches = 'tight') # plt.savefig(plotname, dpi = 200, bbox_inches = 'tight')\n",
    "#     return df_plot"
   ]
  }
 ],
 "metadata": {
  "kernelspec": {
   "display_name": "Python 3 (ipykernel)",
   "language": "python",
   "name": "python3"
  },
  "language_info": {
   "codemirror_mode": {
    "name": "ipython",
    "version": 3
   },
   "file_extension": ".py",
   "mimetype": "text/x-python",
   "name": "python",
   "nbconvert_exporter": "python",
   "pygments_lexer": "ipython3",
   "version": "3.9.10"
  }
 },
 "nbformat": 4,
 "nbformat_minor": 5
}
