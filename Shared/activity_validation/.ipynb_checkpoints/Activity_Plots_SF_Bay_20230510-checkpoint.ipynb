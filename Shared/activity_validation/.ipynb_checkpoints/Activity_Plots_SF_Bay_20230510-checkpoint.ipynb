{
 "cells": [
  {
   "cell_type": "code",
   "execution_count": 1,
   "id": "7dbc0df2",
   "metadata": {},
   "outputs": [],
   "source": [
    "import pandas as pd\n",
    "import censusdata\n",
    "import os\n",
    "from pandas import read_csv\n",
    "import matplotlib.pyplot as plt\n",
    "import seaborn as sns\n",
    "import warnings\n",
    "import numpy as np\n",
    "import datetime \n",
    "\n",
    "#from google.colab import drive \n",
    "#drive.mount('/content/drive')\n",
    "\n",
    "warnings.filterwarnings(\"ignore\")\n",
    "\n",
    "plt.style.use('ggplot')\n",
    "sns.set(font_scale=1.2)  # larger font\n"
   ]
  },
  {
   "cell_type": "code",
   "execution_count": 2,
   "id": "e739851a",
   "metadata": {},
   "outputs": [],
   "source": [
    "# Import the functions from another file (needs to be in the same directory)\n",
    "from ipynb.fs.full.Functions_Activity_Plots import *"
   ]
  },
  {
   "cell_type": "code",
   "execution_count": 3,
   "id": "3000c721",
   "metadata": {},
   "outputs": [],
   "source": [
    "os.chdir('/Users/sayaz/Documents/BEAM/BEAM CORE Validation/SF_Bay/20230510')\n"
   ]
  },
  {
   "cell_type": "code",
   "execution_count": 4,
   "id": "c78b49c2",
   "metadata": {},
   "outputs": [],
   "source": [
    "#+++++++++++++++++++++++++++++++++++++++++++++++++++++++++++++++++++++++++++++++++++++++++++++++++++++++++++++++++"
   ]
  },
  {
   "cell_type": "code",
   "execution_count": 5,
   "id": "47a7580b",
   "metadata": {},
   "outputs": [],
   "source": [
    "####################################------------- LOAD THE DATA -------------####################################"
   ]
  },
  {
   "cell_type": "code",
   "execution_count": 6,
   "id": "57caeb4a",
   "metadata": {},
   "outputs": [],
   "source": [
    "#+++++++++++++++++++++++++++++++++++++++++++++++++++++++++++++++++++++++++++++++++++++++++++++++++++++++++++++++++"
   ]
  },
  {
   "cell_type": "code",
   "execution_count": 7,
   "id": "d50d0328",
   "metadata": {},
   "outputs": [],
   "source": [
    "# Use actSim for ActivitySim, nhts for 2017 NHTS data, and events file for BEAM output"
   ]
  },
  {
   "cell_type": "code",
   "execution_count": 8,
   "id": "f3573e18",
   "metadata": {},
   "outputs": [],
   "source": [
    "#----------------------------------------------- NHTS DATA -----------------------------------------------"
   ]
  },
  {
   "cell_type": "code",
   "execution_count": 9,
   "id": "6ca734af",
   "metadata": {},
   "outputs": [
    {
     "name": "stdout",
     "output_type": "stream",
     "text": [
      "923572\n"
     ]
    }
   ],
   "source": [
    "# 2017 NHTS survey data public\n",
    "nhts = read_csv('/Users/sayaz/Documents/BEAM/BEAM CORE Validation/NHTS/csv/trippub.csv')\n",
    "print(nhts.shape[0]) # 923572"
   ]
  },
  {
   "cell_type": "code",
   "execution_count": 10,
   "id": "f75c8d7c",
   "metadata": {},
   "outputs": [
    {
     "data": {
      "text/plain": [
       "709266"
      ]
     },
     "execution_count": 10,
     "metadata": {},
     "output_type": "execute_result"
    }
   ],
   "source": [
    "# Keep only the weekday trips\n",
    "# print(nhts_sfbay['TDWKND'].unique())\n",
    "nhts = nhts.loc[nhts['TDWKND']==2]\n",
    "nhts.shape[0] # 709266"
   ]
  },
  {
   "cell_type": "code",
   "execution_count": 12,
   "id": "3a69dc42",
   "metadata": {},
   "outputs": [],
   "source": [
    "## nhts CA\n",
    "# nhts_CA = nhts.loc[nhts['HHSTATE'] == 'CA']\n",
    "# nhts_CA.shape[0] # AllDays = 185666"
   ]
  },
  {
   "cell_type": "code",
   "execution_count": 13,
   "id": "3cfbf35e",
   "metadata": {},
   "outputs": [],
   "source": [
    "#------------------------------------------ NHTS SAN FRANCISCO BAY AREA ------------------------------------------"
   ]
  },
  {
   "cell_type": "code",
   "execution_count": 15,
   "id": "f78f4825",
   "metadata": {},
   "outputs": [
    {
     "data": {
      "text/plain": [
       "17331"
      ]
     },
     "execution_count": 15,
     "metadata": {},
     "output_type": "execute_result"
    }
   ],
   "source": [
    "# Select only for the SF Bay area\n",
    "\n",
    "nhts_sfbay = nhts.loc[nhts['HH_CBSA'].isin(['41860', '41940'])]\n",
    "nhts_sfbay.shape[0] # 17331, AllDays = 25113"
   ]
  },
  {
   "cell_type": "code",
   "execution_count": 16,
   "id": "b4281264",
   "metadata": {},
   "outputs": [
    {
     "data": {
      "text/plain": [
       "count    1.733100e+04\n",
       "mean     3.455967e+05\n",
       "std      3.037814e+05\n",
       "min      1.035993e+04\n",
       "25%      1.367584e+05\n",
       "50%      2.481640e+05\n",
       "75%      4.343809e+05\n",
       "max      1.443929e+06\n",
       "Name: WTTRDFIN, dtype: float64"
      ]
     },
     "execution_count": 16,
     "metadata": {},
     "output_type": "execute_result"
    }
   ],
   "source": [
    "nhts_sfbay['WTTRDFIN'].describe()\n",
    "\n",
    "# count    1.733100e+04\n",
    "# mean     3.455967e+05\n",
    "# std      3.037814e+05\n",
    "# min      1.035993e+04\n",
    "# 25%      1.367584e+05\n",
    "# 50%      2.481640e+05\n",
    "# 75%      4.343809e+05\n",
    "# max      1.443929e+06\n",
    "# Name: WTTRDFIN, dtype: float64"
   ]
  },
  {
   "cell_type": "code",
   "execution_count": 17,
   "id": "8b9c3fb7",
   "metadata": {},
   "outputs": [],
   "source": [
    "#---------------------------------------------- BEAM EVENTS FILE ----------------------------------------------"
   ]
  },
  {
   "cell_type": "code",
   "execution_count": 18,
   "id": "c02d00c1",
   "metadata": {},
   "outputs": [],
   "source": [
    "# Beam output: events file\n",
    "# Source:\n",
    "# https://s3.us-east-2.amazonaws.com/beam-outputs/index.html#pilates-outputs/sfbay_baseline_20230224/beam/year-2018-iteration-6/ITERS/it.0/"
   ]
  },
  {
   "cell_type": "code",
   "execution_count": 19,
   "id": "92c74ade",
   "metadata": {},
   "outputs": [
    {
     "name": "stdout",
     "output_type": "stream",
     "text": [
      "36259540\n"
     ]
    }
   ],
   "source": [
    "events = read_csv('data/sfbay-baseline-20230510_beam_year-2020-iteration-4_ITERS_it.0_0.events.csv', compression='gzip') # To avoid error: UnicodeDecodeError: 'utf-8' codec can't decode byte 0x8b in position 1\n",
    "print(events.shape[0]) # 36364773"
   ]
  },
  {
   "cell_type": "code",
   "execution_count": 21,
   "id": "ec42e366",
   "metadata": {},
   "outputs": [
    {
     "data": {
      "text/plain": [
       "array(['ParkingEvent', 'departure', 'PersonEntersVehicle',\n",
       "       'PathTraversal', 'ModeChoice', 'actend', 'TeleportationEvent',\n",
       "       'arrival', 'actstart', 'LeavingParkingEvent', 'PersonCost',\n",
       "       'PersonLeavesVehicle', 'Replanning', 'ReserveRideHail',\n",
       "       'ChargingPlugInEvent', 'RefuelSessionEvent',\n",
       "       'ChargingPlugOutEvent'], dtype=object)"
      ]
     },
     "execution_count": 21,
     "metadata": {},
     "output_type": "execute_result"
    }
   ],
   "source": [
    "events['type'].unique()\n",
    "\n",
    "# array(['ParkingEvent', 'departure', 'PersonEntersVehicle',\n",
    "#        'PathTraversal', 'ModeChoice', 'actend', 'TeleportationEvent',\n",
    "#        'arrival', 'actstart', 'LeavingParkingEvent', 'PersonCost',\n",
    "#        'PersonLeavesVehicle', 'ReserveRideHail', 'Replanning',\n",
    "#        'ChargingPlugInEvent', 'RefuelSessionEvent',\n",
    "#        'ChargingPlugOutEvent'], dtype=object)"
   ]
  },
  {
   "cell_type": "code",
   "execution_count": 22,
   "id": "f8dbb9b7",
   "metadata": {},
   "outputs": [],
   "source": [
    "#--------------------------------------- ACTIVITYSIM 'final_trips' FILE ---------------------------------------"
   ]
  },
  {
   "cell_type": "code",
   "execution_count": 23,
   "id": "ac84ed14",
   "metadata": {},
   "outputs": [
    {
     "name": "stdout",
     "output_type": "stream",
     "text": [
      "2479668\n",
      "['trip_id', 'person_id', 'household_id', 'tour_id', 'primary_purpose', 'trip_num', 'outbound', 'trip_count', 'purpose', 'destination', 'origin', 'destination_logsum', 'depart', 'trip_mode', 'mode_choice_logsum']\n"
     ]
    }
   ],
   "source": [
    "# ActivitySim output: final_trips\n",
    "# Source:\n",
    "# https://s3.us-east-2.amazonaws.com/beam-outputs/index.html#pilates-outputs/sfbay_baseline_20230224/\n",
    "# activitysim/year-2018-iteration-6/\n",
    "\n",
    "actSim = read_csv('data/sfbay-baseline-20230510_activitysim_final_trips.csv')\n",
    "print(actSim.shape[0]) # 2459473\n",
    "\n",
    "#print(actSim.columns.tolist())\n",
    "# ['trip_id', 'person_id', 'household_id', 'tour_id', 'primary_purpose', 'trip_num', 'outbound', 'trip_count', \n",
    "#  'purpose', 'destination', 'origin', 'destination_logsum', 'depart', 'trip_mode', 'mode_choice_logsum']"
   ]
  },
  {
   "cell_type": "code",
   "execution_count": 24,
   "id": "eb8567a3",
   "metadata": {},
   "outputs": [],
   "source": [
    "#+++++++++++++++++++++++++++++++++++++++++++++++++++++++++++++++++++++++++++++++++++++++++++++++++++++++++++++++++"
   ]
  },
  {
   "cell_type": "code",
   "execution_count": 25,
   "id": "f84a227b",
   "metadata": {},
   "outputs": [],
   "source": [
    "##################################------------- GENERATE THE PLOTS -------------##################################"
   ]
  },
  {
   "cell_type": "code",
   "execution_count": 26,
   "id": "92f97133",
   "metadata": {},
   "outputs": [],
   "source": [
    "#+++++++++++++++++++++++++++++++++++++++++++++++++++++++++++++++++++++++++++++++++++++++++++++++++++++++++++++++++"
   ]
  },
  {
   "cell_type": "code",
   "execution_count": 27,
   "id": "0cc7c757",
   "metadata": {},
   "outputs": [],
   "source": [
    "#******************************************************************************************************************"
   ]
  },
  {
   "cell_type": "code",
   "execution_count": 28,
   "id": "dddb9074",
   "metadata": {},
   "outputs": [],
   "source": [
    "#================================================== TRIP MODE =================================================="
   ]
  },
  {
   "cell_type": "code",
   "execution_count": 29,
   "id": "75261eb9",
   "metadata": {},
   "outputs": [],
   "source": [
    "#-------------------------------------------------- NHTS Mode --------------------------------------------------"
   ]
  },
  {
   "cell_type": "code",
   "execution_count": 30,
   "id": "00f4dce8",
   "metadata": {
    "scrolled": true
   },
   "outputs": [
    {
     "data": {
      "text/plain": [
       "array([11,  5,  3,  6,  1, 13,  2,  4, 15, 18, 17,  8, 16, 20, 97, 19,  9,\n",
       "       12, 10,  7, 14])"
      ]
     },
     "execution_count": 30,
     "metadata": {},
     "output_type": "execute_result"
    }
   ],
   "source": [
    "nhts_sfbay['TRPTRANS'].unique()\n",
    "\n",
    "# array([11,  5,  3,  6,  1, 13,  2,  4, 15, 18, 17,  8, 16, 20, 97, 19,  9,\n",
    "#        12, 10,  7, 14])"
   ]
  },
  {
   "cell_type": "code",
   "execution_count": 31,
   "id": "d48dd073",
   "metadata": {},
   "outputs": [],
   "source": [
    "# 1:Walk, 2:Bicycle, \n",
    "# 3:Car, 4:SUV, 5:Van, 6:Pickup truck, \n",
    "# 7:Golf cart/Segway, 8:Motorcycle/Moped, \n",
    "# 9:RV (motor home, ATV, snowmobile), 10:School bus, 11:Public or commuter bus, 12:Paratransit/Dial-a-ride, \n",
    "# 13:Private/Charter/Tour/Shuttle bus, 14:City-to-city bus (Greyhound, Megabus), 15:Amtrak/Commuter rail,\n",
    "# 16:Subway/elevated/light rail/street car, 17:Taxi/limo (including Uber/Lyft), 18:Rental car (Including Zipcar/Car2Go)  \n",
    "# 19:Airplane, 20:Boat/ferry/water taxi, 97:Something Else, -7:I prefer not to answer, -8:I don't know, -9: Not ascertained \n",
    "\n",
    "# Remove cells with values: 19,-7,-8,-9,97"
   ]
  },
  {
   "cell_type": "code",
   "execution_count": 32,
   "id": "8ecae1e0",
   "metadata": {},
   "outputs": [
    {
     "name": "stdout",
     "output_type": "stream",
     "text": [
      "17099\n"
     ]
    }
   ],
   "source": [
    "nhts_sfbay_mode = nhts_sfbay.loc[nhts['TRPTRANS'].isin([1,2,3,4,5,6,7,8,10,11,14,15,16,17,20])]\n",
    "print(str(nhts_sfbay_mode.shape[0])) # 17099"
   ]
  },
  {
   "cell_type": "code",
   "execution_count": 33,
   "id": "bc02e6f0",
   "metadata": {},
   "outputs": [],
   "source": [
    "# N_Persons_on_trip = nhts_sfbay_mode['NUMONTRP'].unique()\n",
    "# N_Persons_on_trip\n",
    "\n",
    "# array([ 1,  2,  3,  4,  6,  5,  7, 11,  8,  9, 30, 13, 21, 28, 26, 12, 10,\n",
    "#        16])"
   ]
  },
  {
   "cell_type": "code",
   "execution_count": 25,
   "id": "b94ec928",
   "metadata": {},
   "outputs": [
    {
     "name": "stdout",
     "output_type": "stream",
     "text": [
      "['Public transit' 'Drive Alone' 'Shared 2 Persons' 'Walk' 'Bike'\n",
      " 'Shared 3+ Persons' 'Taxi/TNC']\n",
      "17099\n"
     ]
    }
   ],
   "source": [
    "# NHTS mode list generalized\n",
    "nhts_sfbay_mode.loc[nhts_sfbay_mode['TRPTRANS'] == 1, 'Mode'] = 'Walk'\n",
    "nhts_sfbay_mode.loc[nhts_sfbay_mode['TRPTRANS'].isin([2,7,8]), 'Mode'] = 'Bike'\n",
    "nhts_sfbay_mode.loc[(nhts_sfbay_mode['TRPTRANS'].isin([3,4,5,6]) & nhts_sfbay_mode['NUMONTRP'].isin([1])), 'Mode'] = 'Drive Alone'\n",
    "nhts_sfbay_mode.loc[(nhts_sfbay_mode['TRPTRANS'].isin([3,4,5,6]) & nhts_sfbay_mode['NUMONTRP'].isin([2])), 'Mode'] = 'Shared 2 Persons'\n",
    "nhts_sfbay_mode.loc[(nhts_sfbay_mode['TRPTRANS'].isin([3,4,5,6]) & nhts_sfbay_mode['NUMONTRP'].isin([3,  4,  6,  5,  7, 11,  8,  9, 30, 13, 21, 28, 26, 12, 10,16])), 'Mode'] = 'Shared 3+ Persons'\n",
    "nhts_sfbay_mode.loc[nhts_sfbay_mode['TRPTRANS'] == 17, 'Mode'] = 'Taxi/TNC'\n",
    "nhts_sfbay_mode.loc[nhts_sfbay_mode['TRPTRANS'].isin([10, 11, 14, 15,16,20]), 'Mode'] = 'Public transit' \n",
    "\n",
    "print(nhts_sfbay_mode['Mode'].unique())\n",
    "print(str(nhts_sfbay_mode.shape[0])) \n",
    "\n",
    "# ['Public transit' 'Drive Alone' 'Shared 2 Persons' 'Walk' 'Bike'\n",
    "#  'Shared 3+ Persons' 'Taxi/TNC']\n",
    "# 17099"
   ]
  },
  {
   "cell_type": "code",
   "execution_count": 26,
   "id": "18a346a2",
   "metadata": {},
   "outputs": [],
   "source": [
    "nhts_sfbay_mode_wt = nhts_sfbay_mode.groupby('Mode')[['WTTRDFIN']].sum()"
   ]
  },
  {
   "cell_type": "code",
   "execution_count": 27,
   "id": "c630e917",
   "metadata": {},
   "outputs": [
    {
     "data": {
      "text/html": [
       "<div>\n",
       "<style scoped>\n",
       "    .dataframe tbody tr th:only-of-type {\n",
       "        vertical-align: middle;\n",
       "    }\n",
       "\n",
       "    .dataframe tbody tr th {\n",
       "        vertical-align: top;\n",
       "    }\n",
       "\n",
       "    .dataframe thead th {\n",
       "        text-align: right;\n",
       "    }\n",
       "</style>\n",
       "<table border=\"1\" class=\"dataframe\">\n",
       "  <thead>\n",
       "    <tr style=\"text-align: right;\">\n",
       "      <th></th>\n",
       "      <th>WTTRDFIN</th>\n",
       "    </tr>\n",
       "    <tr>\n",
       "      <th>Mode</th>\n",
       "      <th></th>\n",
       "    </tr>\n",
       "  </thead>\n",
       "  <tbody>\n",
       "    <tr>\n",
       "      <th>Bike</th>\n",
       "      <td>1.556805e+08</td>\n",
       "    </tr>\n",
       "    <tr>\n",
       "      <th>Drive Alone</th>\n",
       "      <td>2.112790e+09</td>\n",
       "    </tr>\n",
       "    <tr>\n",
       "      <th>Public transit</th>\n",
       "      <td>4.049629e+08</td>\n",
       "    </tr>\n",
       "    <tr>\n",
       "      <th>Shared 2 Persons</th>\n",
       "      <td>1.135388e+09</td>\n",
       "    </tr>\n",
       "    <tr>\n",
       "      <th>Shared 3+ Persons</th>\n",
       "      <td>9.588013e+08</td>\n",
       "    </tr>\n",
       "    <tr>\n",
       "      <th>Taxi/TNC</th>\n",
       "      <td>5.885247e+07</td>\n",
       "    </tr>\n",
       "    <tr>\n",
       "      <th>Walk</th>\n",
       "      <td>1.084093e+09</td>\n",
       "    </tr>\n",
       "  </tbody>\n",
       "</table>\n",
       "</div>"
      ],
      "text/plain": [
       "                       WTTRDFIN\n",
       "Mode                           \n",
       "Bike               1.556805e+08\n",
       "Drive Alone        2.112790e+09\n",
       "Public transit     4.049629e+08\n",
       "Shared 2 Persons   1.135388e+09\n",
       "Shared 3+ Persons  9.588013e+08\n",
       "Taxi/TNC           5.885247e+07\n",
       "Walk               1.084093e+09"
      ]
     },
     "execution_count": 27,
     "metadata": {},
     "output_type": "execute_result"
    }
   ],
   "source": [
    "nhts_sfbay_mode_wt"
   ]
  },
  {
   "cell_type": "code",
   "execution_count": 28,
   "id": "5543383f",
   "metadata": {},
   "outputs": [
    {
     "data": {
      "text/html": [
       "<div>\n",
       "<style scoped>\n",
       "    .dataframe tbody tr th:only-of-type {\n",
       "        vertical-align: middle;\n",
       "    }\n",
       "\n",
       "    .dataframe tbody tr th {\n",
       "        vertical-align: top;\n",
       "    }\n",
       "\n",
       "    .dataframe thead th {\n",
       "        text-align: right;\n",
       "    }\n",
       "</style>\n",
       "<table border=\"1\" class=\"dataframe\">\n",
       "  <thead>\n",
       "    <tr style=\"text-align: right;\">\n",
       "      <th></th>\n",
       "      <th>Mode</th>\n",
       "      <th>WTTRDFIN</th>\n",
       "    </tr>\n",
       "  </thead>\n",
       "  <tbody>\n",
       "    <tr>\n",
       "      <th>0</th>\n",
       "      <td>Bike</td>\n",
       "      <td>2.633935</td>\n",
       "    </tr>\n",
       "    <tr>\n",
       "      <th>1</th>\n",
       "      <td>Drive Alone</td>\n",
       "      <td>35.745969</td>\n",
       "    </tr>\n",
       "    <tr>\n",
       "      <th>2</th>\n",
       "      <td>Public transit</td>\n",
       "      <td>6.851505</td>\n",
       "    </tr>\n",
       "    <tr>\n",
       "      <th>3</th>\n",
       "      <td>Shared 2 Persons</td>\n",
       "      <td>19.209455</td>\n",
       "    </tr>\n",
       "    <tr>\n",
       "      <th>4</th>\n",
       "      <td>Shared 3+ Persons</td>\n",
       "      <td>16.221811</td>\n",
       "    </tr>\n",
       "    <tr>\n",
       "      <th>5</th>\n",
       "      <td>Taxi/TNC</td>\n",
       "      <td>0.995716</td>\n",
       "    </tr>\n",
       "    <tr>\n",
       "      <th>6</th>\n",
       "      <td>Walk</td>\n",
       "      <td>18.341610</td>\n",
       "    </tr>\n",
       "  </tbody>\n",
       "</table>\n",
       "</div>"
      ],
      "text/plain": [
       "                Mode   WTTRDFIN\n",
       "0               Bike   2.633935\n",
       "1        Drive Alone  35.745969\n",
       "2     Public transit   6.851505\n",
       "3   Shared 2 Persons  19.209455\n",
       "4  Shared 3+ Persons  16.221811\n",
       "5           Taxi/TNC   0.995716\n",
       "6               Walk  18.341610"
      ]
     },
     "execution_count": 28,
     "metadata": {},
     "output_type": "execute_result"
    }
   ],
   "source": [
    "nhts_sfbay_mode_wt_percent = nhts_sfbay_mode_wt['WTTRDFIN'].transform(lambda x: x / x.sum() * 100)\n",
    "nhts_sfbay_mode_wt_percent = nhts_sfbay_mode_wt_percent.reset_index()\n",
    "nhts_sfbay_mode_wt_percent"
   ]
  },
  {
   "cell_type": "code",
   "execution_count": 29,
   "id": "cff32668",
   "metadata": {},
   "outputs": [],
   "source": [
    "#-------------------------------------------------- BEAM Mode --------------------------------------------------"
   ]
  },
  {
   "cell_type": "code",
   "execution_count": 30,
   "id": "2efe7b41",
   "metadata": {},
   "outputs": [],
   "source": [
    "##### Use 'type' = 'ModeChoice' to generate the plots for mode type and trip length #####"
   ]
  },
  {
   "cell_type": "code",
   "execution_count": 31,
   "id": "650b1299",
   "metadata": {},
   "outputs": [
    {
     "name": "stdout",
     "output_type": "stream",
     "text": [
      "2502103\n"
     ]
    }
   ],
   "source": [
    "events_type_mode_length = events.loc[events['type'] == 'ModeChoice']\n",
    "print(str(events_type_mode_length.shape[0])) # 2496427\n",
    "# print(str(round(events_type_mode_length.shape[0]/events.shape[0]*100, 2))  + ' % of the data') # 6.86 % of the data"
   ]
  },
  {
   "cell_type": "code",
   "execution_count": 32,
   "id": "33e68eaa",
   "metadata": {
    "scrolled": true
   },
   "outputs": [
    {
     "name": "stdout",
     "output_type": "stream",
     "text": [
      "['mode', 'currentTourMode', 'person', 'expectedMaximumUtility', 'availableAlternatives', 'location', 'personalVehicleAvailable', 'length', 'tourIndex', 'legModes', 'legVehicleIds', 'currentActivity', 'nextActivity', 'tripId', 'time', 'type', 'link', 'facility', 'actType', 'parkingTaz', 'chargingPointType', 'pricingModel', 'parkingType', 'score', 'driver', 'vehicle', 'primaryFuelLevel', 'price', 'locationY', 'locationX', 'secondaryFuelLevel', 'endY', 'endX', 'startY', 'startX', 'arrivalTime', 'departureTime', 'vehicleType', 'links', 'numPassengers', 'primaryFuel', 'riders', 'toStopIndex', 'fromStopIndex', 'seatingCapacity', 'tollPaid', 'capacity', 'linkTravelTime', 'secondaryFuel', 'secondaryFuelType', 'primaryFuelType', 'incentive', 'tollCost', 'netCost', 'legMode', 'departTime', 'requireWheelchair', 'shiftStatus', 'parkingZoneId', 'fuel', 'duration', 'reason', 'cost']\n"
     ]
    }
   ],
   "source": [
    "print(events_type_mode_length.columns.tolist())"
   ]
  },
  {
   "cell_type": "code",
   "execution_count": 33,
   "id": "30df2f46",
   "metadata": {},
   "outputs": [
    {
     "data": {
      "text/plain": [
       "array(['car', 'hov2_teleportation', 'car_hov2', 'hov3_teleportation',\n",
       "       'car_hov3', 'bike', 'walk', 'walk_transit', 'ride_hail',\n",
       "       'ride_hail_pooled', 'drive_transit', 'bike_transit'], dtype=object)"
      ]
     },
     "execution_count": 33,
     "metadata": {},
     "output_type": "execute_result"
    }
   ],
   "source": [
    "events_type_mode_length['mode'].unique()\n",
    "\n",
    "# array(['car_hov3', 'car', 'hov3_teleportation', 'hov2_teleportation',\n",
    "#        'car_hov2', 'walk', 'bike', 'walk_transit', 'ride_hail',\n",
    "#        'ride_hail_pooled', 'drive_transit', 'bike_transit'], dtype=object)"
   ]
  },
  {
   "cell_type": "code",
   "execution_count": 34,
   "id": "013f3cd6",
   "metadata": {},
   "outputs": [],
   "source": [
    "# Beam mode list generalized\n",
    "\n",
    "# Need to remove 'hov2_teleportation'and 'hov3_teleportation' since teleportation is not available in the NHTS data\n",
    "\n",
    "# Keep only the following modes:\n",
    "# 'car_hov2', 'car', 'car_hov3', 'bike', 'walk', 'walk_transit', 'ride_hail','ride_hail_pooled', 'drive_transit', \n",
    "# 'bike_transit'        \n",
    "# events_mode = events_type_mode_length.loc[events_type_mode_length['mode'].isin(['car_hov2', 'car', 'car_hov3', \n",
    "# 'bike', 'walk', 'walk_transit', 'ride_hail','ride_hail_pooled', 'drive_transit', 'bike_transit' ])]\n",
    "\n",
    "# print(str(events_mode.shape[0])) # 2097966"
   ]
  },
  {
   "cell_type": "code",
   "execution_count": 35,
   "id": "efa5c126",
   "metadata": {},
   "outputs": [],
   "source": [
    "events_mode = events_type_mode_length"
   ]
  },
  {
   "cell_type": "code",
   "execution_count": 36,
   "id": "a342c7c4",
   "metadata": {},
   "outputs": [
    {
     "data": {
      "text/plain": [
       "array(['Drive Alone', 'Shared 2 Persons', 'Shared 3+ Persons', 'Bike',\n",
       "       'Walk', 'Public transit', 'Taxi/TNC'], dtype=object)"
      ]
     },
     "execution_count": 36,
     "metadata": {},
     "output_type": "execute_result"
    }
   ],
   "source": [
    "events_mode.loc[events_mode['mode'] == 'walk', 'Mode'] = 'Walk'\n",
    "events_mode.loc[events_mode['mode'] == 'bike', 'Mode'] = 'Bike'\n",
    "events_mode.loc[events_mode['mode'].isin(['car']), 'Mode'] = 'Drive Alone'\n",
    "events_mode.loc[events_mode['mode'].isin(['car_hov2', 'hov2_teleportation']), 'Mode'] = 'Shared 2 Persons'\n",
    "events_mode.loc[events_mode['mode'].isin(['car_hov3', 'hov3_teleportation']), 'Mode'] = 'Shared 3+ Persons'\n",
    "events_mode.loc[events_mode['mode'].isin(['ride_hail', 'ride_hail_pooled']), 'Mode'] = 'Taxi/TNC'\n",
    "events_mode.loc[events_mode['mode'].isin(['walk_transit', 'drive_transit', 'bike_transit']), 'Mode'] = 'Public transit' \n",
    "\n",
    "events_mode['Mode'].unique()\n",
    "# array(['Shared 3+ Persons', 'Drive Alone', 'Shared 2 Persons', 'Walk',\n",
    "#        'Bike', 'Public transit', 'Taxi/TNC'], dtype=object)"
   ]
  },
  {
   "cell_type": "code",
   "execution_count": 37,
   "id": "c8a8c4b5",
   "metadata": {},
   "outputs": [],
   "source": [
    "# Beam mode list generalized for all 'type' field\n",
    "# events_mode.loc[events_mode['mode'] == 'walk', 'Mode'] = 'Walk'\n",
    "# events_mode.loc[events_mode['mode'] == 'bike', 'Mode'] = 'Bike'\n",
    "# events_mode.loc[events_mode['mode'].isin(['car_hov2', 'car',\n",
    "#        'hov2_teleportation', 'car_hov3', 'hov3_teleportation']), 'Mode'] = 'Car'\n",
    "# events_mode.loc[events_mode['mode'].isin(['ride_hail', 'ride_hail_pooled']), 'Mode'] = 'Taxi/TNC'\n",
    "# events_mode.loc[events_mode['mode'].isin(['bus', 'tram', 'subway', 'rail', 'walk_transit', 'drive_transit', 'bike_transit', 'cable_car',\n",
    "#        'ferry']), 'Mode'] = 'Public transit' \n",
    "\n",
    "\n",
    "# events_mode['Mode'].unique()\n",
    "#array(['Public transit', 'Car', 'Walk', 'Bike', 'Taxi/TNC'], dtype=object)"
   ]
  },
  {
   "cell_type": "code",
   "execution_count": 38,
   "id": "ba034e8f",
   "metadata": {},
   "outputs": [],
   "source": [
    "events_mode_percent = events_mode.groupby('Mode')[['tripId']].count()"
   ]
  },
  {
   "cell_type": "code",
   "execution_count": 39,
   "id": "e60ed7db",
   "metadata": {},
   "outputs": [
    {
     "data": {
      "text/html": [
       "<div>\n",
       "<style scoped>\n",
       "    .dataframe tbody tr th:only-of-type {\n",
       "        vertical-align: middle;\n",
       "    }\n",
       "\n",
       "    .dataframe tbody tr th {\n",
       "        vertical-align: top;\n",
       "    }\n",
       "\n",
       "    .dataframe thead th {\n",
       "        text-align: right;\n",
       "    }\n",
       "</style>\n",
       "<table border=\"1\" class=\"dataframe\">\n",
       "  <thead>\n",
       "    <tr style=\"text-align: right;\">\n",
       "      <th></th>\n",
       "      <th>Mode</th>\n",
       "      <th>tripId</th>\n",
       "      <th>BEAM</th>\n",
       "    </tr>\n",
       "  </thead>\n",
       "  <tbody>\n",
       "    <tr>\n",
       "      <th>0</th>\n",
       "      <td>Bike</td>\n",
       "      <td>35516</td>\n",
       "      <td>1.419446</td>\n",
       "    </tr>\n",
       "    <tr>\n",
       "      <th>1</th>\n",
       "      <td>Drive Alone</td>\n",
       "      <td>1281534</td>\n",
       "      <td>51.218275</td>\n",
       "    </tr>\n",
       "    <tr>\n",
       "      <th>2</th>\n",
       "      <td>Public transit</td>\n",
       "      <td>165927</td>\n",
       "      <td>6.631502</td>\n",
       "    </tr>\n",
       "    <tr>\n",
       "      <th>3</th>\n",
       "      <td>Shared 2 Persons</td>\n",
       "      <td>428318</td>\n",
       "      <td>17.118320</td>\n",
       "    </tr>\n",
       "    <tr>\n",
       "      <th>4</th>\n",
       "      <td>Shared 3+ Persons</td>\n",
       "      <td>342721</td>\n",
       "      <td>13.697318</td>\n",
       "    </tr>\n",
       "    <tr>\n",
       "      <th>5</th>\n",
       "      <td>Taxi/TNC</td>\n",
       "      <td>48899</td>\n",
       "      <td>1.954316</td>\n",
       "    </tr>\n",
       "    <tr>\n",
       "      <th>6</th>\n",
       "      <td>Walk</td>\n",
       "      <td>199188</td>\n",
       "      <td>7.960823</td>\n",
       "    </tr>\n",
       "  </tbody>\n",
       "</table>\n",
       "</div>"
      ],
      "text/plain": [
       "                Mode   tripId       BEAM\n",
       "0               Bike    35516   1.419446\n",
       "1        Drive Alone  1281534  51.218275\n",
       "2     Public transit   165927   6.631502\n",
       "3   Shared 2 Persons   428318  17.118320\n",
       "4  Shared 3+ Persons   342721  13.697318\n",
       "5           Taxi/TNC    48899   1.954316\n",
       "6               Walk   199188   7.960823"
      ]
     },
     "execution_count": 39,
     "metadata": {},
     "output_type": "execute_result"
    }
   ],
   "source": [
    "events_mode_percent['BEAM'] = events_mode_percent['tripId'].transform(lambda x: x / x.sum() * 100)\n",
    "events_mode_percent = events_mode_percent.reset_index()\n",
    "events_mode_percent"
   ]
  },
  {
   "cell_type": "code",
   "execution_count": 40,
   "id": "f2267957",
   "metadata": {},
   "outputs": [],
   "source": [
    "# events_mode_percent['BEAM (' + str(events_mode.shape[0]) + ' ' + 'trips)'] = events_mode_percent['tripId'].transform(lambda x: x / x.sum() * 100)"
   ]
  },
  {
   "cell_type": "code",
   "execution_count": 41,
   "id": "1ec8fa58",
   "metadata": {},
   "outputs": [],
   "source": [
    "#---------------------------------------------- ActivitySim Mode ----------------------------------------------"
   ]
  },
  {
   "cell_type": "code",
   "execution_count": 42,
   "id": "cd504bbd",
   "metadata": {},
   "outputs": [
    {
     "data": {
      "text/plain": [
       "array(['SHARED2PAY', 'SHARED2FREE', 'DRIVEALONEPAY', 'SHARED3FREE',\n",
       "       'SHARED3PAY', 'WALK', 'WALK_HVY', 'WALK_LOC', 'DRIVEALONEFREE',\n",
       "       'TNC_SINGLE', 'TAXI', 'BIKE', 'WALK_LRF', 'TNC_SHARED', 'WALK_COM',\n",
       "       'DRIVE_LOC', 'DRIVE_HVY', 'DRIVE_LRF', 'DRIVE_COM'], dtype=object)"
      ]
     },
     "execution_count": 42,
     "metadata": {},
     "output_type": "execute_result"
    }
   ],
   "source": [
    "actSim['trip_mode'].unique()\n",
    "# array(['SHARED3FREE', 'DRIVEALONEPAY', 'SHARED3PAY', 'TNC_SHARED', 'WALK',\n",
    "#        'WALK_LOC', 'DRIVEALONEFREE', 'SHARED2FREE', 'SHARED2PAY',\n",
    "#        'WALK_HVY', 'WALK_LRF', 'TNC_SINGLE', 'BIKE', 'TAXI', 'DRIVE_LOC',\n",
    "#        'WALK_COM', 'DRIVE_HVY', 'DRIVE_LRF', 'DRIVE_COM'], dtype=object)"
   ]
  },
  {
   "cell_type": "code",
   "execution_count": 43,
   "id": "f32c4762",
   "metadata": {},
   "outputs": [
    {
     "name": "stdout",
     "output_type": "stream",
     "text": [
      "2479668\n"
     ]
    }
   ],
   "source": [
    "# Romove rows with missing values in the trip_mode field\n",
    "actSim_mode = actSim.dropna(subset = 'trip_mode')\n",
    "print(actSim_mode.shape[0]) # 2459473; same as actSim, no missing value"
   ]
  },
  {
   "cell_type": "code",
   "execution_count": 44,
   "id": "c613ffd2",
   "metadata": {},
   "outputs": [
    {
     "name": "stdout",
     "output_type": "stream",
     "text": [
      "['Shared 2 Persons' 'Drive Alone' 'Shared 3+ Persons' 'Walk'\n",
      " 'Public transit' 'Taxi/TNC' 'Bike']\n"
     ]
    }
   ],
   "source": [
    "# Create a field to specify the list of modes for validation\n",
    "# ActivitySim mode list generalized\n",
    "\n",
    "actSim_mode.loc[actSim_mode['trip_mode'] == 'WALK', 'Mode'] = 'Walk'\n",
    "actSim_mode.loc[actSim_mode['trip_mode'] == 'BIKE', 'Mode'] = 'Bike'\n",
    "actSim_mode.loc[actSim_mode['trip_mode'].isin(['DRIVEALONEPAY', 'DRIVEALONEFREE']), 'Mode'] = 'Drive Alone'\n",
    "actSim_mode.loc[actSim_mode['trip_mode'].isin(['SHARED2PAY', 'SHARED2FREE']), 'Mode'] = 'Shared 2 Persons'\n",
    "actSim_mode.loc[actSim_mode['trip_mode'].isin(['SHARED3FREE', 'SHARED3PAY']), 'Mode'] = 'Shared 3+ Persons'\n",
    "actSim_mode.loc[actSim_mode['trip_mode'].isin(['TNC_SHARED', 'TAXI', 'TNC_SINGLE']), 'Mode'] = 'Taxi/TNC'\n",
    "actSim_mode.loc[actSim_mode['trip_mode'].isin(['WALK_HVY', 'WALK_LOC','WALK_LRF', 'DRIVE_LOC', 'DRIVE_HVY', 'WALK_COM', 'DRIVE_LRF', 'DRIVE_COM']), 'Mode'] = 'Public transit' \n",
    "\n",
    "print(actSim_mode['Mode'].unique())\n",
    "# ['Shared 3+ Persons' 'Drive Alone' 'Taxi/TNC' 'Walk' 'Public transit'\n",
    "#  'Shared 2 Persons' 'Bike']"
   ]
  },
  {
   "cell_type": "code",
   "execution_count": 45,
   "id": "85a8ba69",
   "metadata": {},
   "outputs": [
    {
     "data": {
      "text/html": [
       "<div>\n",
       "<style scoped>\n",
       "    .dataframe tbody tr th:only-of-type {\n",
       "        vertical-align: middle;\n",
       "    }\n",
       "\n",
       "    .dataframe tbody tr th {\n",
       "        vertical-align: top;\n",
       "    }\n",
       "\n",
       "    .dataframe thead th {\n",
       "        text-align: right;\n",
       "    }\n",
       "</style>\n",
       "<table border=\"1\" class=\"dataframe\">\n",
       "  <thead>\n",
       "    <tr style=\"text-align: right;\">\n",
       "      <th></th>\n",
       "      <th>trip_id</th>\n",
       "    </tr>\n",
       "    <tr>\n",
       "      <th>Mode</th>\n",
       "      <th></th>\n",
       "    </tr>\n",
       "  </thead>\n",
       "  <tbody>\n",
       "    <tr>\n",
       "      <th>Bike</th>\n",
       "      <td>34612</td>\n",
       "    </tr>\n",
       "    <tr>\n",
       "      <th>Drive Alone</th>\n",
       "      <td>1193002</td>\n",
       "    </tr>\n",
       "    <tr>\n",
       "      <th>Public transit</th>\n",
       "      <td>187676</td>\n",
       "    </tr>\n",
       "    <tr>\n",
       "      <th>Shared 2 Persons</th>\n",
       "      <td>450492</td>\n",
       "    </tr>\n",
       "    <tr>\n",
       "      <th>Shared 3+ Persons</th>\n",
       "      <td>361008</td>\n",
       "    </tr>\n",
       "    <tr>\n",
       "      <th>Taxi/TNC</th>\n",
       "      <td>52454</td>\n",
       "    </tr>\n",
       "    <tr>\n",
       "      <th>Walk</th>\n",
       "      <td>200424</td>\n",
       "    </tr>\n",
       "  </tbody>\n",
       "</table>\n",
       "</div>"
      ],
      "text/plain": [
       "                   trip_id\n",
       "Mode                      \n",
       "Bike                 34612\n",
       "Drive Alone        1193002\n",
       "Public transit      187676\n",
       "Shared 2 Persons    450492\n",
       "Shared 3+ Persons   361008\n",
       "Taxi/TNC             52454\n",
       "Walk                200424"
      ]
     },
     "execution_count": 45,
     "metadata": {},
     "output_type": "execute_result"
    }
   ],
   "source": [
    "actSim_mode_percent = actSim_mode.groupby('Mode')[['trip_id']].count()\n",
    "actSim_mode_percent"
   ]
  },
  {
   "cell_type": "code",
   "execution_count": 46,
   "id": "f1807ce7",
   "metadata": {},
   "outputs": [
    {
     "data": {
      "text/plain": [
       "Index(['Mode', 'trip_id', 'ActivitySim'], dtype='object')"
      ]
     },
     "execution_count": 46,
     "metadata": {},
     "output_type": "execute_result"
    }
   ],
   "source": [
    "actSim_mode_percent['ActivitySim'] = actSim_mode_percent['trip_id'].transform(lambda x: x / x.sum() * 100)\n",
    "actSim_mode_percent = actSim_mode_percent.reset_index()\n",
    "actSim_mode_percent.columns"
   ]
  },
  {
   "cell_type": "code",
   "execution_count": 47,
   "id": "779fcffc",
   "metadata": {},
   "outputs": [],
   "source": [
    "#-+-+-+-+-+-+-+-+-+-+-+-+-+-+-+-+-+-+-+ Generate the table for the plots -+-+-+-+-+-+-+-+-+-+-+-+-+-+-+-+-+-+-+c"
   ]
  },
  {
   "cell_type": "code",
   "execution_count": 48,
   "id": "dff42a3f",
   "metadata": {},
   "outputs": [],
   "source": [
    "actSim_mode_percent = actSim_mode_percent[['Mode', 'ActivitySim']]\n",
    "events_mode_percent = events_mode_percent[['Mode', 'BEAM']]\n",
    "nhts_sfbay_mode_wt_percent = nhts_sfbay_mode_wt_percent[['Mode', 'WTTRDFIN']]"
   ]
  },
  {
   "cell_type": "code",
   "execution_count": 49,
   "id": "c5f47ac5",
   "metadata": {},
   "outputs": [],
   "source": [
    "trip_mode_validation = pd.merge(actSim_mode_percent, events_mode_percent,  \n",
    "                                on = 'Mode', how = 'left')"
   ]
  },
  {
   "cell_type": "code",
   "execution_count": 50,
   "id": "8fedd326",
   "metadata": {},
   "outputs": [],
   "source": [
    "trip_mode_validation = pd.merge(trip_mode_validation, nhts_sfbay_mode_wt_percent, \n",
    "                                on = 'Mode', how = 'left')"
   ]
  },
  {
   "cell_type": "code",
   "execution_count": 51,
   "id": "0288a711",
   "metadata": {
    "scrolled": true
   },
   "outputs": [
    {
     "data": {
      "text/html": [
       "<div>\n",
       "<style scoped>\n",
       "    .dataframe tbody tr th:only-of-type {\n",
       "        vertical-align: middle;\n",
       "    }\n",
       "\n",
       "    .dataframe tbody tr th {\n",
       "        vertical-align: top;\n",
       "    }\n",
       "\n",
       "    .dataframe thead th {\n",
       "        text-align: right;\n",
       "    }\n",
       "</style>\n",
       "<table border=\"1\" class=\"dataframe\">\n",
       "  <thead>\n",
       "    <tr style=\"text-align: right;\">\n",
       "      <th></th>\n",
       "      <th>Mode</th>\n",
       "      <th>ActivitySim</th>\n",
       "      <th>BEAM</th>\n",
       "      <th>WTTRDFIN</th>\n",
       "    </tr>\n",
       "  </thead>\n",
       "  <tbody>\n",
       "    <tr>\n",
       "      <th>0</th>\n",
       "      <td>Bike</td>\n",
       "      <td>1.395832</td>\n",
       "      <td>1.419446</td>\n",
       "      <td>2.633935</td>\n",
       "    </tr>\n",
       "    <tr>\n",
       "      <th>1</th>\n",
       "      <td>Drive Alone</td>\n",
       "      <td>48.111360</td>\n",
       "      <td>51.218275</td>\n",
       "      <td>35.745969</td>\n",
       "    </tr>\n",
       "    <tr>\n",
       "      <th>2</th>\n",
       "      <td>Public transit</td>\n",
       "      <td>7.568594</td>\n",
       "      <td>6.631502</td>\n",
       "      <td>6.851505</td>\n",
       "    </tr>\n",
       "    <tr>\n",
       "      <th>3</th>\n",
       "      <td>Shared 2 Persons</td>\n",
       "      <td>18.167432</td>\n",
       "      <td>17.118320</td>\n",
       "      <td>19.209455</td>\n",
       "    </tr>\n",
       "    <tr>\n",
       "      <th>4</th>\n",
       "      <td>Shared 3+ Persons</td>\n",
       "      <td>14.558723</td>\n",
       "      <td>13.697318</td>\n",
       "      <td>16.221811</td>\n",
       "    </tr>\n",
       "    <tr>\n",
       "      <th>5</th>\n",
       "      <td>Taxi/TNC</td>\n",
       "      <td>2.115364</td>\n",
       "      <td>1.954316</td>\n",
       "      <td>0.995716</td>\n",
       "    </tr>\n",
       "    <tr>\n",
       "      <th>6</th>\n",
       "      <td>Walk</td>\n",
       "      <td>8.082695</td>\n",
       "      <td>7.960823</td>\n",
       "      <td>18.341610</td>\n",
       "    </tr>\n",
       "  </tbody>\n",
       "</table>\n",
       "</div>"
      ],
      "text/plain": [
       "                Mode  ActivitySim       BEAM   WTTRDFIN\n",
       "0               Bike     1.395832   1.419446   2.633935\n",
       "1        Drive Alone    48.111360  51.218275  35.745969\n",
       "2     Public transit     7.568594   6.631502   6.851505\n",
       "3   Shared 2 Persons    18.167432  17.118320  19.209455\n",
       "4  Shared 3+ Persons    14.558723  13.697318  16.221811\n",
       "5           Taxi/TNC     2.115364   1.954316   0.995716\n",
       "6               Walk     8.082695   7.960823  18.341610"
      ]
     },
     "execution_count": 51,
     "metadata": {},
     "output_type": "execute_result"
    }
   ],
   "source": [
    "trip_mode_validation"
   ]
  },
  {
   "cell_type": "code",
   "execution_count": 52,
   "id": "346dbb9b",
   "metadata": {},
   "outputs": [],
   "source": [
    "trip_mode_validation.to_csv('Summary Table/trip_mode_validation.csv')"
   ]
  },
  {
   "cell_type": "code",
   "execution_count": 53,
   "id": "829ada6a",
   "metadata": {},
   "outputs": [],
   "source": [
    "# trip_mode_validation.plot(x = 'Mode', kind = 'bar')\n",
    "# plt.ylabel('Percent of modes')\n",
    "# plt.title('Trip Mode Distribution')\n",
    "# plt.savefig('Plot/Trip_Mode_Validation.png', dpi = 200, bbox_inches = 'tight')"
   ]
  },
  {
   "cell_type": "code",
   "execution_count": 54,
   "id": "9f3c0bb9",
   "metadata": {},
   "outputs": [],
   "source": [
    "# LEGEND\n",
    "ActSim_legend_mode = 'ActivitySim (N = ' + str(actSim_mode.shape[0]) + ' ' + 'trips)'\n",
    "BEAM_legend_mode = 'BEAM (N = ' + str(events_mode.shape[0]) + ' ' + 'trips)'\n",
    "nhts_legend_mode = 'NHTS (N = ' + str(nhts_sfbay_mode.shape[0]) + ' ' + 'trips)'\n",
    "legend_mode = [ActSim_legend_mode, BEAM_legend_mode, nhts_legend_mode]"
   ]
  },
  {
   "cell_type": "code",
   "execution_count": 55,
   "id": "be75854c",
   "metadata": {},
   "outputs": [
    {
     "data": {
      "text/plain": [
       "<AxesSubplot: title={'center': 'Trip Mode Distribution (Weekdays)'}, xlabel='Mode', ylabel='Percent of trips'>"
      ]
     },
     "execution_count": 55,
     "metadata": {},
     "output_type": "execute_result"
    },
    {
     "data": {
      "image/png": "[encoded data removed]",
      "text/plain": [
       "<Figure size 1500x800 with 1 Axes>"
      ]
     },
     "metadata": {},
     "output_type": "display_data"
    }
   ],
   "source": [
    "activity_plot_percentLegend(trip_mode_validation, 'Mode', 'Mode', 'Percent of trips', legend_mode, 'Trip Mode Distribution (Weekdays)', \n",
    "                         'Plot/Trip_Mode_Validation.png')"
   ]
  },
  {
   "cell_type": "code",
   "execution_count": null,
   "id": "cce9ef5b",
   "metadata": {},
   "outputs": [],
   "source": []
  },
  {
   "cell_type": "code",
   "execution_count": 611,
   "id": "2eeaf7f2",
   "metadata": {},
   "outputs": [],
   "source": [
    "# activity_plot_showPercent(trip_mode_validation, 'Mode', 'Mode', 'Percent of trips', 'Trip Mode Distribution (Weekdays)', \n",
    "#                          'Plot/Trip_Mode_Validation.png')"
   ]
  },
  {
   "cell_type": "code",
   "execution_count": null,
   "id": "68084a0f",
   "metadata": {},
   "outputs": [],
   "source": [
    "#******************************************************************************************************************"
   ]
  },
  {
   "cell_type": "code",
   "execution_count": null,
   "id": "4601a9fc",
   "metadata": {},
   "outputs": [],
   "source": [
    "#=============================================== TRIP LENGTH ==============================================="
   ]
  },
  {
   "cell_type": "code",
   "execution_count": 56,
   "id": "96e0f0cf",
   "metadata": {},
   "outputs": [],
   "source": [
    "#----------------------------------------------- NHTS Length -----------------------------------------------"
   ]
  },
  {
   "cell_type": "code",
   "execution_count": 56,
   "id": "333b913a",
   "metadata": {
    "scrolled": true
   },
   "outputs": [
    {
     "data": {
      "text/plain": [
       "array([15.056,  5.26 , 20.409, ..., 10.248,  5.877,  4.044])"
      ]
     },
     "execution_count": 56,
     "metadata": {},
     "output_type": "execute_result"
    }
   ],
   "source": [
    "nhts_sfbay['TRPMILES'].unique()\n",
    "\n",
    "# array([15.056,  5.26 , 20.409, ..., 10.248,  5.877,  4.044])"
   ]
  },
  {
   "cell_type": "code",
   "execution_count": 57,
   "id": "5b87d66f",
   "metadata": {},
   "outputs": [
    {
     "data": {
      "text/plain": [
       "-9.0"
      ]
     },
     "execution_count": 57,
     "metadata": {},
     "output_type": "execute_result"
    }
   ],
   "source": [
    "nhts_sfbay['TRPMILES'].min() #-9.0"
   ]
  },
  {
   "cell_type": "code",
   "execution_count": 58,
   "id": "f66ac789",
   "metadata": {},
   "outputs": [
    {
     "data": {
      "text/plain": [
       "8701.108"
      ]
     },
     "execution_count": 58,
     "metadata": {},
     "output_type": "execute_result"
    }
   ],
   "source": [
    "nhts_sfbay['TRPMILES'].max() # 8701.108"
   ]
  },
  {
   "cell_type": "code",
   "execution_count": 59,
   "id": "9498ad6e",
   "metadata": {},
   "outputs": [],
   "source": [
    "# Remove the 'TRPMILES' < 0 values\n",
    "nhts_sfbay_length = nhts_sfbay[nhts_sfbay['TRPMILES'] >= 0]"
   ]
  },
  {
   "cell_type": "code",
   "execution_count": 60,
   "id": "bed82124",
   "metadata": {},
   "outputs": [
    {
     "name": "stdout",
     "output_type": "stream",
     "text": [
      "0.0\n",
      "8701.108\n"
     ]
    }
   ],
   "source": [
    "print(nhts_sfbay_length['TRPMILES'].min()) # 0.0\n",
    "print(nhts_sfbay_length['TRPMILES'].max()) # 8701.108"
   ]
  },
  {
   "cell_type": "code",
   "execution_count": 61,
   "id": "11316b19",
   "metadata": {},
   "outputs": [
    {
     "data": {
      "text/plain": [
       "array(['4', '2', '5', '1', '3'], dtype=object)"
      ]
     },
     "execution_count": 61,
     "metadata": {},
     "output_type": "execute_result"
    }
   ],
   "source": [
    "nhts_sfbay_length.loc[ (nhts_sfbay_length['TRPMILES'] >= 0) & (nhts_sfbay_length['TRPMILES'] < 5), 'Trip length' ] = '1' \n",
    "nhts_sfbay_length.loc[ (nhts_sfbay_length['TRPMILES'] >= 5) & (nhts_sfbay_length['TRPMILES'] < 10), 'Trip length' ] = '2' \n",
    "nhts_sfbay_length.loc[ (nhts_sfbay_length['TRPMILES'] >= 10) & (nhts_sfbay_length['TRPMILES'] < 15), 'Trip length' ] = '3' \n",
    "nhts_sfbay_length.loc[ (nhts_sfbay_length['TRPMILES'] >= 15) & (nhts_sfbay_length['TRPMILES'] < 20), 'Trip length' ] = '4' \n",
    "nhts_sfbay_length.loc[ nhts_sfbay_length['TRPMILES'] >= 20, 'Trip length' ] = '5' \n",
    "\n",
    "nhts_sfbay_length['Trip length'].unique()\n",
    "# array(['>= 5, < 10 miles', '>= 20 miles', '>= 0, < 5 miles',\n",
    "#        '>= 10, < 15 miles', '>= 15, < 20 miles'], dtype=object)"
   ]
  },
  {
   "cell_type": "code",
   "execution_count": 62,
   "id": "b7c43d93",
   "metadata": {},
   "outputs": [],
   "source": [
    "nhts_sfbay_length_wt = nhts_sfbay_length.groupby('Trip length')[['WTTRDFIN']].sum()"
   ]
  },
  {
   "cell_type": "code",
   "execution_count": 63,
   "id": "b9fee7fc",
   "metadata": {},
   "outputs": [
    {
     "data": {
      "text/html": [
       "<div>\n",
       "<style scoped>\n",
       "    .dataframe tbody tr th:only-of-type {\n",
       "        vertical-align: middle;\n",
       "    }\n",
       "\n",
       "    .dataframe tbody tr th {\n",
       "        vertical-align: top;\n",
       "    }\n",
       "\n",
       "    .dataframe thead th {\n",
       "        text-align: right;\n",
       "    }\n",
       "</style>\n",
       "<table border=\"1\" class=\"dataframe\">\n",
       "  <thead>\n",
       "    <tr style=\"text-align: right;\">\n",
       "      <th></th>\n",
       "      <th>WTTRDFIN</th>\n",
       "    </tr>\n",
       "    <tr>\n",
       "      <th>Trip length</th>\n",
       "      <th></th>\n",
       "    </tr>\n",
       "  </thead>\n",
       "  <tbody>\n",
       "    <tr>\n",
       "      <th>1</th>\n",
       "      <td>3.955146e+09</td>\n",
       "    </tr>\n",
       "    <tr>\n",
       "      <th>2</th>\n",
       "      <td>8.129406e+08</td>\n",
       "    </tr>\n",
       "    <tr>\n",
       "      <th>3</th>\n",
       "      <td>4.383879e+08</td>\n",
       "    </tr>\n",
       "    <tr>\n",
       "      <th>4</th>\n",
       "      <td>2.584073e+08</td>\n",
       "    </tr>\n",
       "    <tr>\n",
       "      <th>5</th>\n",
       "      <td>5.203564e+08</td>\n",
       "    </tr>\n",
       "  </tbody>\n",
       "</table>\n",
       "</div>"
      ],
      "text/plain": [
       "                 WTTRDFIN\n",
       "Trip length              \n",
       "1            3.955146e+09\n",
       "2            8.129406e+08\n",
       "3            4.383879e+08\n",
       "4            2.584073e+08\n",
       "5            5.203564e+08"
      ]
     },
     "execution_count": 63,
     "metadata": {},
     "output_type": "execute_result"
    }
   ],
   "source": [
    "nhts_sfbay_length_wt"
   ]
  },
  {
   "cell_type": "code",
   "execution_count": 64,
   "id": "6fb92649",
   "metadata": {
    "scrolled": false
   },
   "outputs": [
    {
     "data": {
      "text/html": [
       "<div>\n",
       "<style scoped>\n",
       "    .dataframe tbody tr th:only-of-type {\n",
       "        vertical-align: middle;\n",
       "    }\n",
       "\n",
       "    .dataframe tbody tr th {\n",
       "        vertical-align: top;\n",
       "    }\n",
       "\n",
       "    .dataframe thead th {\n",
       "        text-align: right;\n",
       "    }\n",
       "</style>\n",
       "<table border=\"1\" class=\"dataframe\">\n",
       "  <thead>\n",
       "    <tr style=\"text-align: right;\">\n",
       "      <th></th>\n",
       "      <th>Trip length</th>\n",
       "      <th>WTTRDFIN</th>\n",
       "    </tr>\n",
       "  </thead>\n",
       "  <tbody>\n",
       "    <tr>\n",
       "      <th>0</th>\n",
       "      <td>1</td>\n",
       "      <td>66.081680</td>\n",
       "    </tr>\n",
       "    <tr>\n",
       "      <th>1</th>\n",
       "      <td>2</td>\n",
       "      <td>13.582427</td>\n",
       "    </tr>\n",
       "    <tr>\n",
       "      <th>2</th>\n",
       "      <td>3</td>\n",
       "      <td>7.324486</td>\n",
       "    </tr>\n",
       "    <tr>\n",
       "      <th>3</th>\n",
       "      <td>4</td>\n",
       "      <td>4.317410</td>\n",
       "    </tr>\n",
       "    <tr>\n",
       "      <th>4</th>\n",
       "      <td>5</td>\n",
       "      <td>8.693996</td>\n",
       "    </tr>\n",
       "  </tbody>\n",
       "</table>\n",
       "</div>"
      ],
      "text/plain": [
       "  Trip length   WTTRDFIN\n",
       "0           1  66.081680\n",
       "1           2  13.582427\n",
       "2           3   7.324486\n",
       "3           4   4.317410\n",
       "4           5   8.693996"
      ]
     },
     "execution_count": 64,
     "metadata": {},
     "output_type": "execute_result"
    }
   ],
   "source": [
    "nhts_sfbay_length_wt_percent = nhts_sfbay_length_wt['WTTRDFIN'].transform(lambda x: x / x.sum() * 100)\n",
    "nhts_sfbay_length_wt_percent = nhts_sfbay_length_wt_percent.reset_index()\n",
    "nhts_sfbay_length_wt_percent"
   ]
  },
  {
   "cell_type": "code",
   "execution_count": 65,
   "id": "53900e21",
   "metadata": {},
   "outputs": [],
   "source": [
    "# nhts_sfbay_length_wt_percent = nhts_sfbay_length_wt_percent.rename(columns = {'WTTRDFIN':'NHTS'})"
   ]
  },
  {
   "cell_type": "code",
   "execution_count": 66,
   "id": "f566b639",
   "metadata": {},
   "outputs": [],
   "source": [
    "#----------------------------------------------- BEAM Length -----------------------------------------------"
   ]
  },
  {
   "cell_type": "code",
   "execution_count": 67,
   "id": "fb340e4e",
   "metadata": {},
   "outputs": [
    {
     "data": {
      "text/plain": [
       "array([  770.618     ,  2074.222     ,  1164.886     , ...,\n",
       "       97906.00729135, 56188.25802694,  9017.32509596])"
      ]
     },
     "execution_count": 67,
     "metadata": {},
     "output_type": "execute_result"
    }
   ],
   "source": [
    "# Trip length\n",
    "events_type_mode_length['length'].unique()"
   ]
  },
  {
   "cell_type": "code",
   "execution_count": 68,
   "id": "712535e2",
   "metadata": {},
   "outputs": [],
   "source": [
    "# Drop nan values from 'length' column\n",
    "events_length = events_type_mode_length.dropna(subset = 'length')"
   ]
  },
  {
   "cell_type": "code",
   "execution_count": 69,
   "id": "90b9b1f6",
   "metadata": {},
   "outputs": [
    {
     "data": {
      "text/plain": [
       "array([  770.618     ,  2074.222     ,  1164.886     , ...,\n",
       "       97906.00729135, 56188.25802694,  9017.32509596])"
      ]
     },
     "execution_count": 69,
     "metadata": {},
     "output_type": "execute_result"
    }
   ],
   "source": [
    "events_length['length'].unique()"
   ]
  },
  {
   "cell_type": "code",
   "execution_count": 70,
   "id": "adccc334",
   "metadata": {},
   "outputs": [
    {
     "name": "stdout",
     "output_type": "stream",
     "text": [
      "0.001\n",
      "245653.8450214709\n"
     ]
    }
   ],
   "source": [
    "# I think the unit is in meter; In the analyze_events.py file length is divided by 1609.34 to get miles\n",
    "# Link to file: https://github.com/LBNL-UCB-STI/beam/blob/develop/src/main/python/events_analysis/analyze_events.py\n",
    "\n",
    "print(events_type_mode_length['length'].min()) #0.001\n",
    "print(events_type_mode_length['length'].max()) #251695.45522804465"
   ]
  },
  {
   "cell_type": "code",
   "execution_count": 71,
   "id": "97d9a0ac",
   "metadata": {},
   "outputs": [],
   "source": [
    "# print(events.shape[0]) #36644243\n",
    "# print(events_length.shape[0]) #11581761"
   ]
  },
  {
   "cell_type": "code",
   "execution_count": 72,
   "id": "ad3ce9fb",
   "metadata": {},
   "outputs": [],
   "source": [
    "# Create a column to convert length from meters to mile to match with the nhts unit\n",
    "events_length['length_mile'] = events_length['length']/1609.34"
   ]
  },
  {
   "cell_type": "code",
   "execution_count": 73,
   "id": "e12546d8",
   "metadata": {},
   "outputs": [
    {
     "name": "stdout",
     "output_type": "stream",
     "text": [
      "6.213727366498068e-07\n",
      "152.64260194953889\n"
     ]
    }
   ],
   "source": [
    "print(events_length['length_mile'].min()) # 6.213727366498068e-07\n",
    "print(events_length['length_mile'].max()) # 156.39669381736903"
   ]
  },
  {
   "cell_type": "code",
   "execution_count": 74,
   "id": "b20093e2",
   "metadata": {},
   "outputs": [],
   "source": [
    "events_length.loc[ (events_length['length_mile'] >= 0) & (events_length['length_mile'] < 5), 'Trip length' ] = '1' \n",
    "events_length.loc[ (events_length['length_mile'] >= 5) & (events_length['length_mile'] < 10), 'Trip length' ] = '2' \n",
    "events_length.loc[ (events_length['length_mile'] >= 10) & (events_length['length_mile'] < 15), 'Trip length' ] = '3' \n",
    "events_length.loc[ (events_length['length_mile'] >= 15) & (events_length['length_mile'] < 20), 'Trip length' ] = '4' \n",
    "events_length.loc[ events_length['length_mile'] >= 20, 'Trip length' ] = '5' "
   ]
  },
  {
   "cell_type": "code",
   "execution_count": 75,
   "id": "1be533c8",
   "metadata": {},
   "outputs": [
    {
     "data": {
      "text/plain": [
       "array(['1', '2', '4', '5', '3'], dtype=object)"
      ]
     },
     "execution_count": 75,
     "metadata": {},
     "output_type": "execute_result"
    }
   ],
   "source": [
    "events_length['Trip length'].unique()\n",
    "# array(['>= 0, < 5 miles', '>= 10, < 15 miles', '>= 5, < 10 miles',\n",
    "#        '>= 20 miles', '>= 15, < 20 miles'], dtype=object)"
   ]
  },
  {
   "cell_type": "code",
   "execution_count": 76,
   "id": "a90ae6c7",
   "metadata": {},
   "outputs": [],
   "source": [
    "## Plot for trip length all modes"
   ]
  },
  {
   "cell_type": "code",
   "execution_count": 77,
   "id": "1daf6785",
   "metadata": {
    "scrolled": true
   },
   "outputs": [
    {
     "data": {
      "text/html": [
       "<div>\n",
       "<style scoped>\n",
       "    .dataframe tbody tr th:only-of-type {\n",
       "        vertical-align: middle;\n",
       "    }\n",
       "\n",
       "    .dataframe tbody tr th {\n",
       "        vertical-align: top;\n",
       "    }\n",
       "\n",
       "    .dataframe thead th {\n",
       "        text-align: right;\n",
       "    }\n",
       "</style>\n",
       "<table border=\"1\" class=\"dataframe\">\n",
       "  <thead>\n",
       "    <tr style=\"text-align: right;\">\n",
       "      <th></th>\n",
       "      <th>Trip length</th>\n",
       "      <th>BEAM</th>\n",
       "    </tr>\n",
       "  </thead>\n",
       "  <tbody>\n",
       "    <tr>\n",
       "      <th>0</th>\n",
       "      <td>1</td>\n",
       "      <td>58.616492</td>\n",
       "    </tr>\n",
       "    <tr>\n",
       "      <th>1</th>\n",
       "      <td>2</td>\n",
       "      <td>21.511145</td>\n",
       "    </tr>\n",
       "    <tr>\n",
       "      <th>2</th>\n",
       "      <td>3</td>\n",
       "      <td>8.675142</td>\n",
       "    </tr>\n",
       "    <tr>\n",
       "      <th>3</th>\n",
       "      <td>4</td>\n",
       "      <td>4.561243</td>\n",
       "    </tr>\n",
       "    <tr>\n",
       "      <th>4</th>\n",
       "      <td>5</td>\n",
       "      <td>6.635978</td>\n",
       "    </tr>\n",
       "  </tbody>\n",
       "</table>\n",
       "</div>"
      ],
      "text/plain": [
       "  Trip length       BEAM\n",
       "0           1  58.616492\n",
       "1           2  21.511145\n",
       "2           3   8.675142\n",
       "3           4   4.561243\n",
       "4           5   6.635978"
      ]
     },
     "execution_count": 77,
     "metadata": {},
     "output_type": "execute_result"
    }
   ],
   "source": [
    "events_length_percent = distribution(events_length, 'Trip length', 'tripId', 'BEAM')\n",
    "events_length_percent"
   ]
  },
  {
   "cell_type": "code",
   "execution_count": 78,
   "id": "1545fe6b",
   "metadata": {},
   "outputs": [],
   "source": [
    "#-+-+-+-+-+-+-+-+-+-+-+-+-+-+-+-+-+-+-+ Generate the table for the plots -+-+-+-+-+-+-+-+-+-+-+-+-+-+-+-+-+-+-+c"
   ]
  },
  {
   "cell_type": "code",
   "execution_count": 79,
   "id": "4900f986",
   "metadata": {},
   "outputs": [
    {
     "data": {
      "text/html": [
       "<div>\n",
       "<style scoped>\n",
       "    .dataframe tbody tr th:only-of-type {\n",
       "        vertical-align: middle;\n",
       "    }\n",
       "\n",
       "    .dataframe tbody tr th {\n",
       "        vertical-align: top;\n",
       "    }\n",
       "\n",
       "    .dataframe thead th {\n",
       "        text-align: right;\n",
       "    }\n",
       "</style>\n",
       "<table border=\"1\" class=\"dataframe\">\n",
       "  <thead>\n",
       "    <tr style=\"text-align: right;\">\n",
       "      <th></th>\n",
       "      <th>Trip length</th>\n",
       "      <th>BEAM</th>\n",
       "      <th>WTTRDFIN</th>\n",
       "    </tr>\n",
       "  </thead>\n",
       "  <tbody>\n",
       "    <tr>\n",
       "      <th>0</th>\n",
       "      <td>1</td>\n",
       "      <td>58.616492</td>\n",
       "      <td>66.081680</td>\n",
       "    </tr>\n",
       "    <tr>\n",
       "      <th>1</th>\n",
       "      <td>2</td>\n",
       "      <td>21.511145</td>\n",
       "      <td>13.582427</td>\n",
       "    </tr>\n",
       "    <tr>\n",
       "      <th>2</th>\n",
       "      <td>3</td>\n",
       "      <td>8.675142</td>\n",
       "      <td>7.324486</td>\n",
       "    </tr>\n",
       "    <tr>\n",
       "      <th>3</th>\n",
       "      <td>4</td>\n",
       "      <td>4.561243</td>\n",
       "      <td>4.317410</td>\n",
       "    </tr>\n",
       "    <tr>\n",
       "      <th>4</th>\n",
       "      <td>5</td>\n",
       "      <td>6.635978</td>\n",
       "      <td>8.693996</td>\n",
       "    </tr>\n",
       "  </tbody>\n",
       "</table>\n",
       "</div>"
      ],
      "text/plain": [
       "  Trip length       BEAM   WTTRDFIN\n",
       "0           1  58.616492  66.081680\n",
       "1           2  21.511145  13.582427\n",
       "2           3   8.675142   7.324486\n",
       "3           4   4.561243   4.317410\n",
       "4           5   6.635978   8.693996"
      ]
     },
     "execution_count": 79,
     "metadata": {},
     "output_type": "execute_result"
    }
   ],
   "source": [
    "merged_length = merge_df(events_length_percent, nhts_sfbay_length_wt_percent, 'Trip length')\n",
    "merged_length"
   ]
  },
  {
   "cell_type": "code",
   "execution_count": 80,
   "id": "d7e55a28",
   "metadata": {},
   "outputs": [],
   "source": [
    "# merged_length = merged_length.rename(columns = {'BEAM (2512933 trips)': 'BEAM (2,512,933 trips)'})"
   ]
  },
  {
   "cell_type": "code",
   "execution_count": 81,
   "id": "01d78fd4",
   "metadata": {},
   "outputs": [],
   "source": [
    "merged_length.to_csv('Summary Table/trip_length_validation_all_modes.csv')"
   ]
  },
  {
   "cell_type": "code",
   "execution_count": 82,
   "id": "4a0c9cbb",
   "metadata": {},
   "outputs": [],
   "source": [
    "# NHTS_no_of_trips = nhts_sfbay_length[['WTTRDFIN']].count()\n",
    "# NHTS_no_of_trips\n"
   ]
  },
  {
   "cell_type": "code",
   "execution_count": 83,
   "id": "7ba65850",
   "metadata": {},
   "outputs": [],
   "source": [
    "BEAM_legend_length = 'BEAM (N = ' + str(events_length.shape[0]) + ' ' + 'trips)'\n",
    "nhts_legend_length = 'NHTS (N = ' + str(nhts_sfbay_length.shape[0]) + ' ' + 'trips)'\n",
    "legend_length = [BEAM_legend_length, nhts_legend_length]"
   ]
  },
  {
   "cell_type": "code",
   "execution_count": 84,
   "id": "8be566c6",
   "metadata": {},
   "outputs": [
    {
     "data": {
      "image/png": "[encoded data removed]",
      "text/plain": [
       "<Figure size 1500x800 with 1 Axes>"
      ]
     },
     "metadata": {},
     "output_type": "display_data"
    }
   ],
   "source": [
    "df = merged_length\n",
    "xtickLabels = ['>= 0, < 5 miles', '>= 5, < 10 miles', '>= 10, < 15 miles', '>= 15, < 20 miles', '>= 20 miles']\n",
    "df_plot = df.plot('Trip length', kind = 'bar', figsize=(15,8)) # , figsize=(15,4) , width=1\n",
    "for p in df_plot.containers:\n",
    "    df_plot.bar_label(p, fmt='%.1f%%', label_type='edge', fontsize = 9)\n",
    "    df_plot.xaxis.set_label_coords(0.5, -0.1)\n",
    "    df_plot.yaxis.set_label_coords(-0.05, 0.5)\n",
    "    df_plot.set_xticklabels(xtickLabels)\n",
    "    df_plot.legend(legend_length)\n",
    "plt.xlabel('Trip length', fontsize = 15)\n",
    "plt.ylabel('Percent of trips', fontsize = 15)\n",
    "plt.xticks(rotation = 360)\n",
    "plt.title('Trip Length Distribution (Weekdays) All Modes')\n",
    "plt.savefig('Plot/Trip_Length_Validation.png', dpi = 200, bbox_inches = 'tight') # plt.savefig(plotname, dpi = 200, bbox_inches = 'tight')\n",
    "plt.show()"
   ]
  },
  {
   "cell_type": "code",
   "execution_count": 591,
   "id": "098c7395",
   "metadata": {},
   "outputs": [],
   "source": [
    "# activity_plot_showPercent(merged_length, 'Trip length', 'Trip length', 'Percent of trips', 'Trip Length Distribution (Weekdays) All Modes', \n",
    "#                          'Plot/Trip_Length_Validation.png')"
   ]
  },
  {
   "cell_type": "code",
   "execution_count": null,
   "id": "2bc9142e",
   "metadata": {},
   "outputs": [],
   "source": [
    "#******************************************************************************************************************"
   ]
  },
  {
   "cell_type": "code",
   "execution_count": null,
   "id": "8ef6c687",
   "metadata": {},
   "outputs": [],
   "source": [
    "#=========================================== TRIP LENGTH (CAR ONLY) ==========================================="
   ]
  },
  {
   "cell_type": "code",
   "execution_count": 56,
   "id": "f065e344",
   "metadata": {},
   "outputs": [],
   "source": [
    "#-------------------------------------------- NHTS Length (Car Only) --------------------------------------------"
   ]
  },
  {
   "cell_type": "code",
   "execution_count": 85,
   "id": "3fd4d89c",
   "metadata": {},
   "outputs": [
    {
     "data": {
      "text/plain": [
       "12469"
      ]
     },
     "execution_count": 85,
     "metadata": {},
     "output_type": "execute_result"
    }
   ],
   "source": [
    "nhts_sfbay_length_car = nhts_sfbay_length.loc[nhts_sfbay_length['TRPTRANS'].isin([3,4,5,6])]\n",
    "nhts_sfbay_length_car['Trip length'].shape[0] # 12469"
   ]
  },
  {
   "cell_type": "code",
   "execution_count": 86,
   "id": "eb61066d",
   "metadata": {},
   "outputs": [],
   "source": [
    "nhts_sfbay_length_wt_car = nhts_sfbay_length_wt.groupby('Trip length')[['WTTRDFIN']].sum()"
   ]
  },
  {
   "cell_type": "code",
   "execution_count": 87,
   "id": "53d33802",
   "metadata": {},
   "outputs": [
    {
     "data": {
      "text/html": [
       "<div>\n",
       "<style scoped>\n",
       "    .dataframe tbody tr th:only-of-type {\n",
       "        vertical-align: middle;\n",
       "    }\n",
       "\n",
       "    .dataframe tbody tr th {\n",
       "        vertical-align: top;\n",
       "    }\n",
       "\n",
       "    .dataframe thead th {\n",
       "        text-align: right;\n",
       "    }\n",
       "</style>\n",
       "<table border=\"1\" class=\"dataframe\">\n",
       "  <thead>\n",
       "    <tr style=\"text-align: right;\">\n",
       "      <th></th>\n",
       "      <th>WTTRDFIN</th>\n",
       "    </tr>\n",
       "    <tr>\n",
       "      <th>Trip length</th>\n",
       "      <th></th>\n",
       "    </tr>\n",
       "  </thead>\n",
       "  <tbody>\n",
       "    <tr>\n",
       "      <th>1</th>\n",
       "      <td>3.955146e+09</td>\n",
       "    </tr>\n",
       "    <tr>\n",
       "      <th>2</th>\n",
       "      <td>8.129406e+08</td>\n",
       "    </tr>\n",
       "    <tr>\n",
       "      <th>3</th>\n",
       "      <td>4.383879e+08</td>\n",
       "    </tr>\n",
       "    <tr>\n",
       "      <th>4</th>\n",
       "      <td>2.584073e+08</td>\n",
       "    </tr>\n",
       "    <tr>\n",
       "      <th>5</th>\n",
       "      <td>5.203564e+08</td>\n",
       "    </tr>\n",
       "  </tbody>\n",
       "</table>\n",
       "</div>"
      ],
      "text/plain": [
       "                 WTTRDFIN\n",
       "Trip length              \n",
       "1            3.955146e+09\n",
       "2            8.129406e+08\n",
       "3            4.383879e+08\n",
       "4            2.584073e+08\n",
       "5            5.203564e+08"
      ]
     },
     "execution_count": 87,
     "metadata": {},
     "output_type": "execute_result"
    }
   ],
   "source": [
    "nhts_sfbay_length_wt_car"
   ]
  },
  {
   "cell_type": "code",
   "execution_count": 88,
   "id": "bc65e418",
   "metadata": {
    "scrolled": false
   },
   "outputs": [
    {
     "data": {
      "text/html": [
       "<div>\n",
       "<style scoped>\n",
       "    .dataframe tbody tr th:only-of-type {\n",
       "        vertical-align: middle;\n",
       "    }\n",
       "\n",
       "    .dataframe tbody tr th {\n",
       "        vertical-align: top;\n",
       "    }\n",
       "\n",
       "    .dataframe thead th {\n",
       "        text-align: right;\n",
       "    }\n",
       "</style>\n",
       "<table border=\"1\" class=\"dataframe\">\n",
       "  <thead>\n",
       "    <tr style=\"text-align: right;\">\n",
       "      <th></th>\n",
       "      <th>Trip length</th>\n",
       "      <th>WTTRDFIN</th>\n",
       "    </tr>\n",
       "  </thead>\n",
       "  <tbody>\n",
       "    <tr>\n",
       "      <th>0</th>\n",
       "      <td>1</td>\n",
       "      <td>66.081680</td>\n",
       "    </tr>\n",
       "    <tr>\n",
       "      <th>1</th>\n",
       "      <td>2</td>\n",
       "      <td>13.582427</td>\n",
       "    </tr>\n",
       "    <tr>\n",
       "      <th>2</th>\n",
       "      <td>3</td>\n",
       "      <td>7.324486</td>\n",
       "    </tr>\n",
       "    <tr>\n",
       "      <th>3</th>\n",
       "      <td>4</td>\n",
       "      <td>4.317410</td>\n",
       "    </tr>\n",
       "    <tr>\n",
       "      <th>4</th>\n",
       "      <td>5</td>\n",
       "      <td>8.693996</td>\n",
       "    </tr>\n",
       "  </tbody>\n",
       "</table>\n",
       "</div>"
      ],
      "text/plain": [
       "  Trip length   WTTRDFIN\n",
       "0           1  66.081680\n",
       "1           2  13.582427\n",
       "2           3   7.324486\n",
       "3           4   4.317410\n",
       "4           5   8.693996"
      ]
     },
     "execution_count": 88,
     "metadata": {},
     "output_type": "execute_result"
    }
   ],
   "source": [
    "nhts_sfbay_length_wt_car_percent = nhts_sfbay_length_wt_car['WTTRDFIN'].transform(lambda x: x / x.sum() * 100)\n",
    "nhts_sfbay_length_wt_car_percent = nhts_sfbay_length_wt_car_percent.reset_index()\n",
    "nhts_sfbay_length_wt_car_percent"
   ]
  },
  {
   "cell_type": "code",
   "execution_count": 89,
   "id": "0464ee7a",
   "metadata": {},
   "outputs": [],
   "source": [
    "#-------------------------------------------- BEAM Length (Car Only) --------------------------------------------"
   ]
  },
  {
   "cell_type": "code",
   "execution_count": 90,
   "id": "eb503884",
   "metadata": {},
   "outputs": [],
   "source": [
    "events_length_car = events_length.loc[events_length['mode'].isin(['car_hov2', 'car',\n",
    "        'car_hov3'])]"
   ]
  },
  {
   "cell_type": "code",
   "execution_count": 91,
   "id": "3d1e14b7",
   "metadata": {},
   "outputs": [],
   "source": [
    "# events_length_car = events_length.loc[events_length['mode'].isin(['car_hov2', 'car',\n",
    "#        'hov2_teleportation', 'car_hov3', 'hov3_teleportation'])]"
   ]
  },
  {
   "cell_type": "code",
   "execution_count": 92,
   "id": "05ae678a",
   "metadata": {},
   "outputs": [
    {
     "data": {
      "text/plain": [
       "1660216"
      ]
     },
     "execution_count": 92,
     "metadata": {},
     "output_type": "execute_result"
    }
   ],
   "source": [
    "events_length_car['Trip length'].shape[0] # 1675560"
   ]
  },
  {
   "cell_type": "code",
   "execution_count": 93,
   "id": "86a74648",
   "metadata": {},
   "outputs": [
    {
     "data": {
      "text/html": [
       "<div>\n",
       "<style scoped>\n",
       "    .dataframe tbody tr th:only-of-type {\n",
       "        vertical-align: middle;\n",
       "    }\n",
       "\n",
       "    .dataframe tbody tr th {\n",
       "        vertical-align: top;\n",
       "    }\n",
       "\n",
       "    .dataframe thead th {\n",
       "        text-align: right;\n",
       "    }\n",
       "</style>\n",
       "<table border=\"1\" class=\"dataframe\">\n",
       "  <thead>\n",
       "    <tr style=\"text-align: right;\">\n",
       "      <th></th>\n",
       "      <th>Trip length</th>\n",
       "      <th>BEAM</th>\n",
       "    </tr>\n",
       "  </thead>\n",
       "  <tbody>\n",
       "    <tr>\n",
       "      <th>0</th>\n",
       "      <td>1</td>\n",
       "      <td>52.538344</td>\n",
       "    </tr>\n",
       "    <tr>\n",
       "      <th>1</th>\n",
       "      <td>2</td>\n",
       "      <td>23.921887</td>\n",
       "    </tr>\n",
       "    <tr>\n",
       "      <th>2</th>\n",
       "      <td>3</td>\n",
       "      <td>9.929792</td>\n",
       "    </tr>\n",
       "    <tr>\n",
       "      <th>3</th>\n",
       "      <td>4</td>\n",
       "      <td>5.371530</td>\n",
       "    </tr>\n",
       "    <tr>\n",
       "      <th>4</th>\n",
       "      <td>5</td>\n",
       "      <td>8.238446</td>\n",
       "    </tr>\n",
       "  </tbody>\n",
       "</table>\n",
       "</div>"
      ],
      "text/plain": [
       "  Trip length      BEAM \n",
       "0           1  52.538344\n",
       "1           2  23.921887\n",
       "2           3   9.929792\n",
       "3           4   5.371530\n",
       "4           5   8.238446"
      ]
     },
     "execution_count": 93,
     "metadata": {},
     "output_type": "execute_result"
    }
   ],
   "source": [
    "events_length_percent_car = distribution(events_length_car, 'Trip length', 'tripId', 'BEAM ')\n",
    "events_length_percent_car"
   ]
  },
  {
   "cell_type": "code",
   "execution_count": 94,
   "id": "0a7c73e6",
   "metadata": {},
   "outputs": [],
   "source": [
    "#-+-+-+-+-+-+-+-+-+-+-+-+-+-+-+-+-+-+-+ Generate the table for the plots -+-+-+-+-+-+-+-+-+-+-+-+-+-+-+-+-+-+-+c"
   ]
  },
  {
   "cell_type": "code",
   "execution_count": 95,
   "id": "e4cce85f",
   "metadata": {
    "scrolled": true
   },
   "outputs": [
    {
     "data": {
      "text/html": [
       "<div>\n",
       "<style scoped>\n",
       "    .dataframe tbody tr th:only-of-type {\n",
       "        vertical-align: middle;\n",
       "    }\n",
       "\n",
       "    .dataframe tbody tr th {\n",
       "        vertical-align: top;\n",
       "    }\n",
       "\n",
       "    .dataframe thead th {\n",
       "        text-align: right;\n",
       "    }\n",
       "</style>\n",
       "<table border=\"1\" class=\"dataframe\">\n",
       "  <thead>\n",
       "    <tr style=\"text-align: right;\">\n",
       "      <th></th>\n",
       "      <th>Trip length</th>\n",
       "      <th>BEAM</th>\n",
       "      <th>WTTRDFIN</th>\n",
       "    </tr>\n",
       "  </thead>\n",
       "  <tbody>\n",
       "    <tr>\n",
       "      <th>0</th>\n",
       "      <td>1</td>\n",
       "      <td>52.538344</td>\n",
       "      <td>66.081680</td>\n",
       "    </tr>\n",
       "    <tr>\n",
       "      <th>1</th>\n",
       "      <td>2</td>\n",
       "      <td>23.921887</td>\n",
       "      <td>13.582427</td>\n",
       "    </tr>\n",
       "    <tr>\n",
       "      <th>2</th>\n",
       "      <td>3</td>\n",
       "      <td>9.929792</td>\n",
       "      <td>7.324486</td>\n",
       "    </tr>\n",
       "    <tr>\n",
       "      <th>3</th>\n",
       "      <td>4</td>\n",
       "      <td>5.371530</td>\n",
       "      <td>4.317410</td>\n",
       "    </tr>\n",
       "    <tr>\n",
       "      <th>4</th>\n",
       "      <td>5</td>\n",
       "      <td>8.238446</td>\n",
       "      <td>8.693996</td>\n",
       "    </tr>\n",
       "  </tbody>\n",
       "</table>\n",
       "</div>"
      ],
      "text/plain": [
       "  Trip length      BEAM    WTTRDFIN\n",
       "0           1  52.538344  66.081680\n",
       "1           2  23.921887  13.582427\n",
       "2           3   9.929792   7.324486\n",
       "3           4   5.371530   4.317410\n",
       "4           5   8.238446   8.693996"
      ]
     },
     "execution_count": 95,
     "metadata": {},
     "output_type": "execute_result"
    }
   ],
   "source": [
    "merged_length_car = merge_df(events_length_percent_car, nhts_sfbay_length_wt_car_percent, 'Trip length')\n",
    "merged_length_car"
   ]
  },
  {
   "cell_type": "code",
   "execution_count": 96,
   "id": "dd879e30",
   "metadata": {},
   "outputs": [],
   "source": [
    "# merged_length_car = merged_length_car.rename(columns = {'BEAM (1691815 trips)':'BEAM (1,691,815 trips)', 'WTTRDFIN':'NHTS (12,525 trips)'})"
   ]
  },
  {
   "cell_type": "code",
   "execution_count": 97,
   "id": "d2353dfc",
   "metadata": {},
   "outputs": [],
   "source": [
    "merged_length_car.to_csv('Summary Table/trip_length_validation_carnly.csv')"
   ]
  },
  {
   "cell_type": "code",
   "execution_count": 98,
   "id": "887dedf4",
   "metadata": {},
   "outputs": [],
   "source": [
    "# LEGEND for the Plot\n",
    "BEAM_legend_length_car = 'BEAM (N = ' + str(events_length_car.shape[0]) + ' ' + 'trips)'\n",
    "nhts_legend_length_car = 'NHTS (N = ' + str(nhts_sfbay_length_wt_car.shape[0]) + ' ' + 'trips)'\n",
    "legend_length_car = [BEAM_legend_length, nhts_legend_length]"
   ]
  },
  {
   "cell_type": "code",
   "execution_count": 99,
   "id": "506ecd5e",
   "metadata": {},
   "outputs": [
    {
     "data": {
      "image/png": "[encoded data removed]",
      "text/plain": [
       "<Figure size 1500x800 with 1 Axes>"
      ]
     },
     "metadata": {},
     "output_type": "display_data"
    }
   ],
   "source": [
    "# Plot\n",
    "df = merged_length_car\n",
    "xtickLabels = ['>= 0, < 5 miles', '>= 5, < 10 miles', '>= 10, < 15 miles', '>= 15, < 20 miles', '>= 20 miles']\n",
    "df_plot = df.plot('Trip length', kind = 'bar', figsize=(15,8)) # , figsize=(15,4) , width=1\n",
    "for p in df_plot.containers:\n",
    "    df_plot.bar_label(p, fmt='%.1f%%', label_type='edge', fontsize = 9)\n",
    "    df_plot.xaxis.set_label_coords(0.5, -0.1)\n",
    "    df_plot.yaxis.set_label_coords(-0.05, 0.5)\n",
    "    df_plot.legend(legend_length_car)\n",
    "    df_plot.set_xticklabels(xtickLabels)\n",
    "plt.xlabel('Trip length', fontsize = 15)\n",
    "plt.ylabel('Percent of trips', fontsize = 15)\n",
    "plt.xticks(rotation = 360)\n",
    "plt.title('Trip Length Distribution (Weekdays) Car Only')\n",
    "plt.savefig('Plot/Trip_Length_Validation_Car.png', dpi = 200, bbox_inches = 'tight') # plt.savefig(plotname, dpi = 200, bbox_inches = 'tight')\n",
    "plt.show()"
   ]
  },
  {
   "cell_type": "code",
   "execution_count": 612,
   "id": "c2c4f071",
   "metadata": {},
   "outputs": [],
   "source": [
    "# activity_plot_showPercent(merged_length_car, 'Trip length', 'Trip length', 'Percent of trips', 'Trip Length Distribution (Weekdays) Car Only', \n",
    "#                          'Plot/Trip_Length_Validation_Car.png')"
   ]
  },
  {
   "cell_type": "code",
   "execution_count": null,
   "id": "8ea96665",
   "metadata": {},
   "outputs": [],
   "source": [
    "#******************************************************************************************************************"
   ]
  },
  {
   "cell_type": "code",
   "execution_count": null,
   "id": "9bc0f2c2",
   "metadata": {},
   "outputs": [],
   "source": [
    "#================================================ DEPARTURE TIME ================================================"
   ]
  },
  {
   "cell_type": "code",
   "execution_count": 56,
   "id": "8388c4e7",
   "metadata": {},
   "outputs": [],
   "source": [
    "#---------------------------------------------- NHTS Departure Time ----------------------------------------------"
   ]
  },
  {
   "cell_type": "code",
   "execution_count": 100,
   "id": "1f647787",
   "metadata": {},
   "outputs": [
    {
     "data": {
      "text/plain": [
       "0"
      ]
     },
     "execution_count": 100,
     "metadata": {},
     "output_type": "execute_result"
    }
   ],
   "source": [
    "# STRTTIME: Trip Start Time (HHMM)\n",
    "nhts_sfbay['STRTTIME'].min()\n",
    "# 0"
   ]
  },
  {
   "cell_type": "code",
   "execution_count": 101,
   "id": "5d253374",
   "metadata": {},
   "outputs": [
    {
     "data": {
      "text/plain": [
       "2355"
      ]
     },
     "execution_count": 101,
     "metadata": {},
     "output_type": "execute_result"
    }
   ],
   "source": [
    "nhts_sfbay['STRTTIME'].max()\n",
    "# 2355"
   ]
  },
  {
   "cell_type": "code",
   "execution_count": 102,
   "id": "fd7dde94",
   "metadata": {},
   "outputs": [],
   "source": [
    "# In ActivitySim, departeture time considered from 5.0 hr to 23.0 hr. \n",
    "# So, I will consider only those hrs for nhts data "
   ]
  },
  {
   "cell_type": "code",
   "execution_count": 103,
   "id": "fb0d1f6d",
   "metadata": {},
   "outputs": [],
   "source": [
    "# Remove 0 to 5 hr from the nhts data\n",
    "nhts_sfbay_depart = remove_rows_by_values(nhts_sfbay,'STRTTIME', list(range(0,500)))"
   ]
  },
  {
   "cell_type": "code",
   "execution_count": 104,
   "id": "75a0f0bc",
   "metadata": {},
   "outputs": [
    {
     "data": {
      "text/plain": [
       "500"
      ]
     },
     "execution_count": 104,
     "metadata": {},
     "output_type": "execute_result"
    }
   ],
   "source": [
    "nhts_sfbay_depart['STRTTIME'].min()"
   ]
  },
  {
   "cell_type": "code",
   "execution_count": 105,
   "id": "4d802aa3",
   "metadata": {},
   "outputs": [],
   "source": [
    "# Create a new column in the df by replacing a range of values in an existing column by \n",
    "# one single value in the new column\n",
    "\n",
    "# def replace_value_multiple(df, current_value_m, current_column_m, new_value_m,  new_column_m):\n",
    "#     df.loc[df[current_column_m].isin(current_value_m), new_column_m] = new_value_m\n",
    "#     return df  "
   ]
  },
  {
   "cell_type": "code",
   "execution_count": 106,
   "id": "f75bce1f",
   "metadata": {},
   "outputs": [],
   "source": [
    "current_value_m = [list(range(500,560)), list(range(600,660)), list(range(700,760)), list(range(800,860)), \n",
    "    list(range(900,960)), list(range(1000,1060)), list(range(1100,1160)), list(range(1200,1260)), list(range(1300,1360)), \n",
    "    list(range(1400,1460)), list(range(1500,1560)), list(range(1600,1660)), list(range(1700,1760)), list(range(1800,1860)), \n",
    "    list(range(1900,1960)), list(range(2000,2060)), list(range(2100,2160)), list(range(2200,2260)), list(range(2300,2360)) \n",
    "                  ]\n",
    "# current_value_m[-1] "
   ]
  },
  {
   "cell_type": "code",
   "execution_count": 107,
   "id": "7715e29b",
   "metadata": {
    "scrolled": false
   },
   "outputs": [
    {
     "data": {
      "text/plain": [
       "Index(['05:00', '06:00', '07:00', '08:00', '09:00', '10:00', '11:00', '12:00',\n",
       "       '13:00', '14:00', '15:00', '16:00', '17:00', '18:00', '19:00', '20:00',\n",
       "       '21:00', '22:00', '23:00'],\n",
       "      dtype='object')"
      ]
     },
     "execution_count": 107,
     "metadata": {},
     "output_type": "execute_result"
    }
   ],
   "source": [
    "new_value = pd.date_range(\"5:00\", \"23:59\", freq=\"60min\").strftime('%H:%M')\n",
    "new_value"
   ]
  },
  {
   "cell_type": "code",
   "execution_count": 108,
   "id": "03646fd4",
   "metadata": {},
   "outputs": [],
   "source": [
    "# NHTS: create the 'Departure time' column for the plot\n",
    "for cur_hr, new_val in zip(current_value_m, new_value):\n",
    "    replace_value_multiple(nhts_sfbay_depart, cur_hr, 'STRTTIME', new_val,  'Departure time') "
   ]
  },
  {
   "cell_type": "code",
   "execution_count": 110,
   "id": "c73e2cb4",
   "metadata": {},
   "outputs": [
    {
     "data": {
      "text/plain": [
       "array(['08:00', '10:00', '15:00', '16:00', '17:00', '19:00', '20:00',\n",
       "       '06:00', '11:00', '12:00', '18:00', '07:00', '21:00', '13:00',\n",
       "       '09:00', '05:00', '14:00', '22:00', '23:00'], dtype=object)"
      ]
     },
     "execution_count": 110,
     "metadata": {},
     "output_type": "execute_result"
    }
   ],
   "source": [
    "nhts_sfbay_depart['Departure time'].unique()"
   ]
  },
  {
   "cell_type": "code",
   "execution_count": 111,
   "id": "cae28e62",
   "metadata": {},
   "outputs": [
    {
     "data": {
      "text/plain": [
       "17234"
      ]
     },
     "execution_count": 111,
     "metadata": {},
     "output_type": "execute_result"
    }
   ],
   "source": [
    "nhts_sfbay_depart.shape[0] # 17234"
   ]
  },
  {
   "cell_type": "code",
   "execution_count": 112,
   "id": "9cdc8977",
   "metadata": {},
   "outputs": [],
   "source": [
    "nhts_sfbay_depart_percent = nhts_sfbay_depart.groupby('Departure time')[['WTTRDFIN']].sum()"
   ]
  },
  {
   "cell_type": "code",
   "execution_count": 1,
   "id": "a2439925",
   "metadata": {
    "scrolled": false
   },
   "outputs": [],
   "source": [
    "nhts_sfbay_depart_percent = nhts_sfbay_depart_percent['WTTRDFIN'].transform(lambda x: x / x.sum() * 100)\n",
    "nhts_sfbay_depart_percent = nhts_sfbay_depart_percent.reset_index()\n",
    "#nhts_sfbay_depart_percent"
   ]
  },
  {
   "cell_type": "code",
   "execution_count": 115,
   "id": "9e484a42",
   "metadata": {},
   "outputs": [],
   "source": [
    "#------------------------------------------ ActivitySim Departure Time ------------------------------------------"
   ]
  },
  {
   "cell_type": "code",
   "execution_count": 116,
   "id": "5197a1aa",
   "metadata": {},
   "outputs": [
    {
     "data": {
      "text/plain": [
       "array([13., 15.,  8., 18.,  7., 16., 17., 21., 19., 10., 14., 20., 22.,\n",
       "        9., 12.,  6., 11., 23.,  5.])"
      ]
     },
     "execution_count": 116,
     "metadata": {},
     "output_type": "execute_result"
    }
   ],
   "source": [
    "actSim['depart'].unique()\n",
    "\n",
    "# array([13., 15.,  8., 18.,  7., 16., 17., 21., 19., 10.,  9., 12., 14.,\n",
    "#        20.,  6., 11., 22.,  5., 23.])"
   ]
  },
  {
   "cell_type": "code",
   "execution_count": 117,
   "id": "2c163901",
   "metadata": {},
   "outputs": [
    {
     "data": {
      "text/plain": [
       "5.0"
      ]
     },
     "execution_count": 117,
     "metadata": {},
     "output_type": "execute_result"
    }
   ],
   "source": [
    "actSim['depart'].min() # 5.0"
   ]
  },
  {
   "cell_type": "code",
   "execution_count": 118,
   "id": "7950edab",
   "metadata": {},
   "outputs": [
    {
     "data": {
      "text/plain": [
       "23.0"
      ]
     },
     "execution_count": 118,
     "metadata": {},
     "output_type": "execute_result"
    }
   ],
   "source": [
    "actSim['depart'].max() # 23.0"
   ]
  },
  {
   "cell_type": "code",
   "execution_count": 119,
   "id": "6f0c2643",
   "metadata": {},
   "outputs": [],
   "source": [
    "# Prepare departure time intervals for generation the plots\n",
    "# ActivitySim departure time intervals"
   ]
  },
  {
   "cell_type": "code",
   "execution_count": 120,
   "id": "e7759a3a",
   "metadata": {},
   "outputs": [
    {
     "data": {
      "text/plain": [
       "[5, 6, 7, 8, 9, 10, 11, 12, 13, 14, 15, 16, 17, 18, 19, 20, 21, 22, 23]"
      ]
     },
     "execution_count": 120,
     "metadata": {},
     "output_type": "execute_result"
    }
   ],
   "source": [
    "current_value_s = list(range(5,24))\n",
    "current_value_s"
   ]
  },
  {
   "cell_type": "code",
   "execution_count": 121,
   "id": "3cf42f33",
   "metadata": {},
   "outputs": [],
   "source": [
    "# new_value = ['5:00 - 5:59', '6:00 - 6:59', '7:00 - 7:59', '8:00 - 8:59', \n",
    "#                  '9:00 - 9:59', '10:00 - 10:59', '11:00 - 11:59', '12:00 - 12:59', \n",
    "#                  '13:00 - 13:59', '14:00 - 14:59', '3:00 pm - 3:59 pm', '4:00 pm - 4:59 pm', \n",
    "#                  '5:00 pm - 5:59 pm', '6:00 pm - 6:59 pm', '7:00 pm - 7:59 pm', '8:00 pm - 8:59 pm', \n",
    "#                  '9:00 pm - 9:59 pm', '10:00 pm - 10:59 pm', '11:00 pm - 11:59 pm']\n",
    "# new_value"
   ]
  },
  {
   "cell_type": "code",
   "execution_count": 122,
   "id": "698ff8ff",
   "metadata": {},
   "outputs": [],
   "source": [
    "# ActivitySim: create the 'Departure time' column for the plot\n",
    "for cur_hr, new_val in zip(current_value_s, new_value):\n",
    "    actSim.loc[actSim['depart'] == cur_hr, 'Departure time'] = new_val\n"
   ]
  },
  {
   "cell_type": "code",
   "execution_count": 123,
   "id": "8d238cd9",
   "metadata": {},
   "outputs": [
    {
     "data": {
      "text/plain": [
       "2479668"
      ]
     },
     "execution_count": 123,
     "metadata": {},
     "output_type": "execute_result"
    }
   ],
   "source": [
    "actSim.shape[0] # 2459473"
   ]
  },
  {
   "cell_type": "code",
   "execution_count": 125,
   "id": "225f8ed8",
   "metadata": {},
   "outputs": [
    {
     "data": {
      "text/plain": [
       "array(['13:00', '15:00', '08:00', '18:00', '07:00', '16:00', '17:00',\n",
       "       '21:00', '19:00', '10:00', '14:00', '20:00', '22:00', '09:00',\n",
       "       '12:00', '06:00', '11:00', '23:00', '05:00'], dtype=object)"
      ]
     },
     "execution_count": 125,
     "metadata": {},
     "output_type": "execute_result"
    }
   ],
   "source": [
    "actSim['Departure time'].unique()"
   ]
  },
  {
   "cell_type": "code",
   "execution_count": 126,
   "id": "e41e6899",
   "metadata": {},
   "outputs": [],
   "source": [
    "actSim_depart = distribution(actSim, 'Departure time', 'trip_id', 'ActivitySim percent of trips')"
   ]
  },
  {
   "cell_type": "code",
   "execution_count": 128,
   "id": "a99e2777",
   "metadata": {},
   "outputs": [],
   "source": [
    "#-+-+-+-+-+-+-+-+-+-+-+-+-+-+-+-+-+-+-+ Generate the table for the plots -+-+-+-+-+-+-+-+-+-+-+-+-+-+-+-+-+-+-+c"
   ]
  },
  {
   "cell_type": "code",
   "execution_count": 2,
   "id": "b9767f7b",
   "metadata": {},
   "outputs": [],
   "source": [
    "merged_depart = merge_df(actSim_depart, nhts_sfbay_depart_percent, 'Departure time')\n",
    "#merged_depart"
   ]
  },
  {
   "cell_type": "code",
   "execution_count": 130,
   "id": "4f60d879",
   "metadata": {},
   "outputs": [],
   "source": [
    "merged_depart.to_csv('Summary Table/trip_depart_distribution.csv')"
   ]
  },
  {
   "cell_type": "code",
   "execution_count": 131,
   "id": "119487b7",
   "metadata": {},
   "outputs": [
    {
     "name": "stdout",
     "output_type": "stream",
     "text": [
      "2479668\n",
      "17331\n"
     ]
    }
   ],
   "source": [
    "print(actSim.shape[0]) # 2459473 Prev: 2,458,611\n",
    "print(nhts_sfbay.shape[0]) # 17,331"
   ]
  },
  {
   "cell_type": "code",
   "execution_count": 132,
   "id": "481ba22f",
   "metadata": {},
   "outputs": [],
   "source": [
    "ActSim_legend_deptime = 'ActivitySim (2,458,611 trips)'\n",
    "nhts_legend_deptime = 'NHTS (17,331 trips)'\n",
    "legend_deptime = [ActSim_legend_deptime, nhts_legend_deptime]"
   ]
  },
  {
   "cell_type": "code",
   "execution_count": 133,
   "id": "f8e216df",
   "metadata": {},
   "outputs": [],
   "source": [
    "# LEGEND for the Plot\n",
    "ActSim_legend_deptime = 'ActivitySim (N = ' + str(actSim.shape[0]) + ' ' + 'trips)'\n",
    "nhts_legend_deptime = 'NHTS (N = ' + str(nhts_sfbay_depart.shape[0]) + ' ' + 'trips)'\n",
    "legend_deptime = [ActSim_legend_deptime, nhts_legend_deptime]"
   ]
  },
  {
   "cell_type": "code",
   "execution_count": 134,
   "id": "49a10575",
   "metadata": {},
   "outputs": [
    {
     "data": {
      "image/png": "[encoded data removed]",
      "text/plain": [
       "<Figure size 1500x800 with 1 Axes>"
      ]
     },
     "metadata": {},
     "output_type": "display_data"
    }
   ],
   "source": [
    "plot_deptime = merged_depart.plot(x = 'Departure time', kind = 'line', figsize=(15,8))\n",
    "plot_deptime.legend(legend_deptime)\n",
    "plot_deptime.xaxis.set_label_coords(0.5, -0.22)\n",
    "plot_deptime.yaxis.set_label_coords(-0.05, 0.5)\n",
    "plt.ylabel('Percent of trips')\n",
    "df_plot.legend(legend_deptime)\n",
    "plt.xticks(ticks = np.arange(0, 19, step=1), labels = ['5:00 am - 5:59 am', '6:00 am - 6:59 am', '7:00 am - 7:59 am', '8:00 am - 8:59 am', \n",
    "                 '9:00 am - 9:59 am', '10:00 am - 10:59 am', '11:00 am - 11:59 am', '12:00 pm - 12:59 pm', \n",
    "                 '1:00 pm - 1:59 pm', '2:00 pm - 2:59 pm', '3:00 pm - 3:59 pm', '4:00 pm - 4:59 pm', \n",
    "                 '5:00 pm - 5:59 pm', '6:00 pm - 6:59 pm', '7:00 pm - 7:59 pm', '8:00 pm - 8:59 pm', \n",
    "                 '9:00 pm - 9:59 pm', '10:00 pm - 10:59 pm', '11:00 pm - 11:59 pm'], fontsize=8, rotation=90)\n",
    "plt.title('Departure Time Distribution (Weekdays)')\n",
    "plt.savefig('Plot/Dep_Time_Validation.png', bbox_inches='tight')"
   ]
  },
  {
   "cell_type": "code",
   "execution_count": 135,
   "id": "d772f14b",
   "metadata": {},
   "outputs": [],
   "source": [
    "#******************************************************************************************************************"
   ]
  },
  {
   "cell_type": "code",
   "execution_count": 136,
   "id": "cfc7f14e",
   "metadata": {},
   "outputs": [],
   "source": [
    "#================================================= TRIP PURPOSE ================================================="
   ]
  },
  {
   "cell_type": "code",
   "execution_count": 137,
   "id": "81e9cbe1",
   "metadata": {},
   "outputs": [],
   "source": [
    "#----------------------------------------------- NHTS  Trip Purpose -----------------------------------------------"
   ]
  },
  {
   "cell_type": "code",
   "execution_count": 138,
   "id": "6ce0bd2b",
   "metadata": {},
   "outputs": [],
   "source": [
    "# create a new column 'Purpose' based on values in column 'purpose'\n",
    "nhts_sfbay.loc[ nhts_sfbay['WHYTRP1S'] == 97, 'Purpose' ] = 'Other Discretionary' \n",
    "nhts_sfbay.loc[ nhts_sfbay['WHYTRP1S'] == 50, 'Purpose' ] = 'Social'\n",
    "nhts_sfbay.loc[nhts_sfbay['WHYTRP1S'] == 1, 'Purpose'] = 'Home'\n",
    "nhts_sfbay.loc[nhts_sfbay['WHYTRP1S'] == 40, 'Purpose'] = 'Shopping'\n",
    "nhts_sfbay.loc[nhts_sfbay['WHYTRP1S'] == 80, 'Purpose'] = 'Eat Out'\n",
    "nhts_sfbay.loc[nhts_sfbay['WHYTRP1S'] == 70, 'Purpose'] = 'Escort'\n",
    "nhts_sfbay.loc[nhts_sfbay['WHYTRP1S'] == 30, 'Purpose'] = 'Other Maintenance'\n",
    "nhts_sfbay.loc[nhts_sfbay['WHYTRP1S'] == 10, 'Purpose'] = 'Work'\n",
    "nhts_sfbay.loc[nhts_sfbay['WHYTRP1S'] == 20, 'Purpose'] = 'School/University'"
   ]
  },
  {
   "cell_type": "code",
   "execution_count": 139,
   "id": "1cbbaf76",
   "metadata": {},
   "outputs": [
    {
     "data": {
      "text/plain": [
       "array(['Social', 'Work', 'Home', 'Shopping', 'Other Discretionary',\n",
       "       'Escort', 'School/University', 'Eat Out', 'Other Maintenance'],\n",
       "      dtype=object)"
      ]
     },
     "execution_count": 139,
     "metadata": {},
     "output_type": "execute_result"
    }
   ],
   "source": [
    "nhts_sfbay.Purpose.unique()"
   ]
  },
  {
   "cell_type": "code",
   "execution_count": 140,
   "id": "9248d65d",
   "metadata": {},
   "outputs": [],
   "source": [
    "nhts_sfbay_purpose = nhts_sfbay.groupby('Purpose')[['WTTRDFIN']].sum()"
   ]
  },
  {
   "cell_type": "code",
   "execution_count": 141,
   "id": "73095235",
   "metadata": {},
   "outputs": [
    {
     "data": {
      "text/html": [
       "<div>\n",
       "<style scoped>\n",
       "    .dataframe tbody tr th:only-of-type {\n",
       "        vertical-align: middle;\n",
       "    }\n",
       "\n",
       "    .dataframe tbody tr th {\n",
       "        vertical-align: top;\n",
       "    }\n",
       "\n",
       "    .dataframe thead th {\n",
       "        text-align: right;\n",
       "    }\n",
       "</style>\n",
       "<table border=\"1\" class=\"dataframe\">\n",
       "  <thead>\n",
       "    <tr style=\"text-align: right;\">\n",
       "      <th></th>\n",
       "      <th>WTTRDFIN</th>\n",
       "    </tr>\n",
       "    <tr>\n",
       "      <th>Purpose</th>\n",
       "      <th></th>\n",
       "    </tr>\n",
       "  </thead>\n",
       "  <tbody>\n",
       "    <tr>\n",
       "      <th>Eat Out</th>\n",
       "      <td>3.847219e+08</td>\n",
       "    </tr>\n",
       "    <tr>\n",
       "      <th>Escort</th>\n",
       "      <td>5.912520e+08</td>\n",
       "    </tr>\n",
       "    <tr>\n",
       "      <th>Home</th>\n",
       "      <td>2.015342e+09</td>\n",
       "    </tr>\n",
       "    <tr>\n",
       "      <th>Other Discretionary</th>\n",
       "      <td>1.568685e+08</td>\n",
       "    </tr>\n",
       "    <tr>\n",
       "      <th>Other Maintenance</th>\n",
       "      <td>9.486176e+07</td>\n",
       "    </tr>\n",
       "    <tr>\n",
       "      <th>School/University</th>\n",
       "      <td>3.579748e+08</td>\n",
       "    </tr>\n",
       "    <tr>\n",
       "      <th>Shopping</th>\n",
       "      <td>7.947280e+08</td>\n",
       "    </tr>\n",
       "    <tr>\n",
       "      <th>Social</th>\n",
       "      <td>6.068317e+08</td>\n",
       "    </tr>\n",
       "    <tr>\n",
       "      <th>Work</th>\n",
       "      <td>9.869563e+08</td>\n",
       "    </tr>\n",
       "  </tbody>\n",
       "</table>\n",
       "</div>"
      ],
      "text/plain": [
       "                         WTTRDFIN\n",
       "Purpose                          \n",
       "Eat Out              3.847219e+08\n",
       "Escort               5.912520e+08\n",
       "Home                 2.015342e+09\n",
       "Other Discretionary  1.568685e+08\n",
       "Other Maintenance    9.486176e+07\n",
       "School/University    3.579748e+08\n",
       "Shopping             7.947280e+08\n",
       "Social               6.068317e+08\n",
       "Work                 9.869563e+08"
      ]
     },
     "execution_count": 141,
     "metadata": {},
     "output_type": "execute_result"
    }
   ],
   "source": [
    "nhts_sfbay_purpose"
   ]
  },
  {
   "cell_type": "code",
   "execution_count": 142,
   "id": "863d9ae8",
   "metadata": {
    "scrolled": false
   },
   "outputs": [
    {
     "data": {
      "text/html": [
       "<div>\n",
       "<style scoped>\n",
       "    .dataframe tbody tr th:only-of-type {\n",
       "        vertical-align: middle;\n",
       "    }\n",
       "\n",
       "    .dataframe tbody tr th {\n",
       "        vertical-align: top;\n",
       "    }\n",
       "\n",
       "    .dataframe thead th {\n",
       "        text-align: right;\n",
       "    }\n",
       "</style>\n",
       "<table border=\"1\" class=\"dataframe\">\n",
       "  <thead>\n",
       "    <tr style=\"text-align: right;\">\n",
       "      <th></th>\n",
       "      <th>Purpose</th>\n",
       "      <th>WTTRDFIN</th>\n",
       "    </tr>\n",
       "  </thead>\n",
       "  <tbody>\n",
       "    <tr>\n",
       "      <th>0</th>\n",
       "      <td>Eat Out</td>\n",
       "      <td>6.423234</td>\n",
       "    </tr>\n",
       "    <tr>\n",
       "      <th>1</th>\n",
       "      <td>Escort</td>\n",
       "      <td>9.871415</td>\n",
       "    </tr>\n",
       "    <tr>\n",
       "      <th>2</th>\n",
       "      <td>Home</td>\n",
       "      <td>33.647708</td>\n",
       "    </tr>\n",
       "    <tr>\n",
       "      <th>3</th>\n",
       "      <td>Other Discretionary</td>\n",
       "      <td>2.619042</td>\n",
       "    </tr>\n",
       "    <tr>\n",
       "      <th>4</th>\n",
       "      <td>Other Maintenance</td>\n",
       "      <td>1.583791</td>\n",
       "    </tr>\n",
       "    <tr>\n",
       "      <th>5</th>\n",
       "      <td>School/University</td>\n",
       "      <td>5.976669</td>\n",
       "    </tr>\n",
       "    <tr>\n",
       "      <th>6</th>\n",
       "      <td>Shopping</td>\n",
       "      <td>13.268605</td>\n",
       "    </tr>\n",
       "    <tr>\n",
       "      <th>7</th>\n",
       "      <td>Social</td>\n",
       "      <td>10.131529</td>\n",
       "    </tr>\n",
       "    <tr>\n",
       "      <th>8</th>\n",
       "      <td>Work</td>\n",
       "      <td>16.478007</td>\n",
       "    </tr>\n",
       "  </tbody>\n",
       "</table>\n",
       "</div>"
      ],
      "text/plain": [
       "               Purpose   WTTRDFIN\n",
       "0              Eat Out   6.423234\n",
       "1               Escort   9.871415\n",
       "2                 Home  33.647708\n",
       "3  Other Discretionary   2.619042\n",
       "4    Other Maintenance   1.583791\n",
       "5    School/University   5.976669\n",
       "6             Shopping  13.268605\n",
       "7               Social  10.131529\n",
       "8                 Work  16.478007"
      ]
     },
     "execution_count": 142,
     "metadata": {},
     "output_type": "execute_result"
    }
   ],
   "source": [
    "nhts_sfbay_purpose_percent = nhts_sfbay_purpose['WTTRDFIN'].transform(lambda x: x / x.sum() * 100)\n",
    "nhts_sfbay_purpose_percent = nhts_sfbay_purpose_percent.reset_index()\n",
    "nhts_sfbay_purpose_percent"
   ]
  },
  {
   "cell_type": "code",
   "execution_count": 143,
   "id": "c4126c79",
   "metadata": {},
   "outputs": [],
   "source": [
    "#------------------------------------------- ActivitySim Trip Purpose -------------------------------------------"
   ]
  },
  {
   "cell_type": "code",
   "execution_count": 157,
   "id": "4d67ae0f",
   "metadata": {},
   "outputs": [
    {
     "data": {
      "text/plain": [
       "array(['shopping', 'Home', 'work', 'escort', 'othmaint', 'eatout',\n",
       "       'atwork', 'Work', 'othdiscr', 'social', 'univ', 'school'],\n",
       "      dtype=object)"
      ]
     },
     "execution_count": 157,
     "metadata": {},
     "output_type": "execute_result"
    }
   ],
   "source": [
    "actSim.purpose.unique()"
   ]
  },
  {
   "cell_type": "code",
   "execution_count": 158,
   "id": "19242e68",
   "metadata": {},
   "outputs": [],
   "source": [
    "# Create a new column 'Purpose' based on values in column 'purpose'\n",
    "conditions = [\n",
    "    actSim['purpose'].isin(['work','atwork', 'Work']),\n",
    "    actSim['purpose'].isin(['school', 'univ']),\n",
    "    actSim['purpose'] == 'othdiscr',\n",
    "    actSim['purpose'] == 'social',\n",
    "    actSim['purpose'] == 'Home',\n",
    "    actSim['purpose'] == 'shopping',\n",
    "    actSim['purpose'] == 'eatout',\n",
    "    actSim['purpose'] == 'escort',\n",
    "    actSim['purpose'] == 'othmaint'\n",
    "]\n",
    "\n",
    "values = ['Work', 'School/University', 'Other Discretionary', 'Social', \n",
    "          'Home', 'Shopping', 'Eat Out', 'Escort', 'Other Maintenance']\n",
    "actSim['Purpose'] = np.select(conditions, values)"
   ]
  },
  {
   "cell_type": "code",
   "execution_count": 159,
   "id": "f2714cc6",
   "metadata": {},
   "outputs": [
    {
     "data": {
      "text/plain": [
       "2479668"
      ]
     },
     "execution_count": 159,
     "metadata": {},
     "output_type": "execute_result"
    }
   ],
   "source": [
    "n_rows_actSim = actSim.shape[0]\n",
    "n_rows_actSim # 2459473"
   ]
  },
  {
   "cell_type": "code",
   "execution_count": 160,
   "id": "5dba86cb",
   "metadata": {},
   "outputs": [
    {
     "data": {
      "text/plain": [
       "<bound method NDFrame.head of                      trip_id\n",
       "Purpose                     \n",
       "Eat Out               117563\n",
       "Escort                212650\n",
       "Home                  884535\n",
       "Other Discretionary   134758\n",
       "Other Maintenance     149647\n",
       "School/University     153838\n",
       "Shopping              245210\n",
       "Social                 59958\n",
       "Work                  521509>"
      ]
     },
     "execution_count": 160,
     "metadata": {},
     "output_type": "execute_result"
    }
   ],
   "source": [
    "actSim_purpose = actSim.groupby('Purpose')[['trip_id']].count()\n",
    "actSim_purpose.head"
   ]
  },
  {
   "cell_type": "code",
   "execution_count": 161,
   "id": "6f209145",
   "metadata": {},
   "outputs": [],
   "source": [
    "# actSim_purpose = actSim.groupby('Purpose')[['trip_id']].count()\n",
    "# actSim_purpose.columns = ['Trip purpose']\n",
    "# actSim_purpose = actSim_purpose.reset_index()\n",
    "actSim_purpose['ActivitySim'] = actSim_purpose['trip_id'].transform(lambda x: x / x.sum() * 100)\n",
    "actSim_purpose = actSim_purpose.reset_index()"
   ]
  },
  {
   "cell_type": "code",
   "execution_count": 162,
   "id": "2ba1fb0a",
   "metadata": {
    "scrolled": true
   },
   "outputs": [
    {
     "data": {
      "text/html": [
       "<div>\n",
       "<style scoped>\n",
       "    .dataframe tbody tr th:only-of-type {\n",
       "        vertical-align: middle;\n",
       "    }\n",
       "\n",
       "    .dataframe tbody tr th {\n",
       "        vertical-align: top;\n",
       "    }\n",
       "\n",
       "    .dataframe thead th {\n",
       "        text-align: right;\n",
       "    }\n",
       "</style>\n",
       "<table border=\"1\" class=\"dataframe\">\n",
       "  <thead>\n",
       "    <tr style=\"text-align: right;\">\n",
       "      <th></th>\n",
       "      <th>Purpose</th>\n",
       "      <th>trip_id</th>\n",
       "      <th>ActivitySim</th>\n",
       "    </tr>\n",
       "  </thead>\n",
       "  <tbody>\n",
       "    <tr>\n",
       "      <th>0</th>\n",
       "      <td>Eat Out</td>\n",
       "      <td>117563</td>\n",
       "      <td>4.741078</td>\n",
       "    </tr>\n",
       "    <tr>\n",
       "      <th>1</th>\n",
       "      <td>Escort</td>\n",
       "      <td>212650</td>\n",
       "      <td>8.575745</td>\n",
       "    </tr>\n",
       "    <tr>\n",
       "      <th>2</th>\n",
       "      <td>Home</td>\n",
       "      <td>884535</td>\n",
       "      <td>35.671509</td>\n",
       "    </tr>\n",
       "    <tr>\n",
       "      <th>3</th>\n",
       "      <td>Other Discretionary</td>\n",
       "      <td>134758</td>\n",
       "      <td>5.434518</td>\n",
       "    </tr>\n",
       "    <tr>\n",
       "      <th>4</th>\n",
       "      <td>Other Maintenance</td>\n",
       "      <td>149647</td>\n",
       "      <td>6.034961</td>\n",
       "    </tr>\n",
       "    <tr>\n",
       "      <th>5</th>\n",
       "      <td>School/University</td>\n",
       "      <td>153838</td>\n",
       "      <td>6.203976</td>\n",
       "    </tr>\n",
       "    <tr>\n",
       "      <th>6</th>\n",
       "      <td>Shopping</td>\n",
       "      <td>245210</td>\n",
       "      <td>9.888824</td>\n",
       "    </tr>\n",
       "    <tr>\n",
       "      <th>7</th>\n",
       "      <td>Social</td>\n",
       "      <td>59958</td>\n",
       "      <td>2.417985</td>\n",
       "    </tr>\n",
       "    <tr>\n",
       "      <th>8</th>\n",
       "      <td>Work</td>\n",
       "      <td>521509</td>\n",
       "      <td>21.031404</td>\n",
       "    </tr>\n",
       "  </tbody>\n",
       "</table>\n",
       "</div>"
      ],
      "text/plain": [
       "               Purpose  trip_id  ActivitySim\n",
       "0              Eat Out   117563     4.741078\n",
       "1               Escort   212650     8.575745\n",
       "2                 Home   884535    35.671509\n",
       "3  Other Discretionary   134758     5.434518\n",
       "4    Other Maintenance   149647     6.034961\n",
       "5    School/University   153838     6.203976\n",
       "6             Shopping   245210     9.888824\n",
       "7               Social    59958     2.417985\n",
       "8                 Work   521509    21.031404"
      ]
     },
     "execution_count": 162,
     "metadata": {},
     "output_type": "execute_result"
    }
   ],
   "source": [
    "actSim_purpose"
   ]
  },
  {
   "cell_type": "code",
   "execution_count": 163,
   "id": "ee18ca93",
   "metadata": {
    "scrolled": true
   },
   "outputs": [
    {
     "data": {
      "text/html": [
       "<div>\n",
       "<style scoped>\n",
       "    .dataframe tbody tr th:only-of-type {\n",
       "        vertical-align: middle;\n",
       "    }\n",
       "\n",
       "    .dataframe tbody tr th {\n",
       "        vertical-align: top;\n",
       "    }\n",
       "\n",
       "    .dataframe thead th {\n",
       "        text-align: right;\n",
       "    }\n",
       "</style>\n",
       "<table border=\"1\" class=\"dataframe\">\n",
       "  <thead>\n",
       "    <tr style=\"text-align: right;\">\n",
       "      <th></th>\n",
       "      <th>Purpose</th>\n",
       "      <th>ActivitySim</th>\n",
       "    </tr>\n",
       "  </thead>\n",
       "  <tbody>\n",
       "    <tr>\n",
       "      <th>0</th>\n",
       "      <td>Eat Out</td>\n",
       "      <td>4.741078</td>\n",
       "    </tr>\n",
       "    <tr>\n",
       "      <th>1</th>\n",
       "      <td>Escort</td>\n",
       "      <td>8.575745</td>\n",
       "    </tr>\n",
       "    <tr>\n",
       "      <th>2</th>\n",
       "      <td>Home</td>\n",
       "      <td>35.671509</td>\n",
       "    </tr>\n",
       "    <tr>\n",
       "      <th>3</th>\n",
       "      <td>Other Discretionary</td>\n",
       "      <td>5.434518</td>\n",
       "    </tr>\n",
       "    <tr>\n",
       "      <th>4</th>\n",
       "      <td>Other Maintenance</td>\n",
       "      <td>6.034961</td>\n",
       "    </tr>\n",
       "    <tr>\n",
       "      <th>5</th>\n",
       "      <td>School/University</td>\n",
       "      <td>6.203976</td>\n",
       "    </tr>\n",
       "    <tr>\n",
       "      <th>6</th>\n",
       "      <td>Shopping</td>\n",
       "      <td>9.888824</td>\n",
       "    </tr>\n",
       "    <tr>\n",
       "      <th>7</th>\n",
       "      <td>Social</td>\n",
       "      <td>2.417985</td>\n",
       "    </tr>\n",
       "    <tr>\n",
       "      <th>8</th>\n",
       "      <td>Work</td>\n",
       "      <td>21.031404</td>\n",
       "    </tr>\n",
       "  </tbody>\n",
       "</table>\n",
       "</div>"
      ],
      "text/plain": [
       "               Purpose  ActivitySim\n",
       "0              Eat Out     4.741078\n",
       "1               Escort     8.575745\n",
       "2                 Home    35.671509\n",
       "3  Other Discretionary     5.434518\n",
       "4    Other Maintenance     6.034961\n",
       "5    School/University     6.203976\n",
       "6             Shopping     9.888824\n",
       "7               Social     2.417985\n",
       "8                 Work    21.031404"
      ]
     },
     "execution_count": 163,
     "metadata": {},
     "output_type": "execute_result"
    }
   ],
   "source": [
    "actSim_purpose = actSim_purpose[['Purpose', 'ActivitySim']]\n",
    "actSim_purpose"
   ]
  },
  {
   "cell_type": "code",
   "execution_count": 164,
   "id": "f61701f8",
   "metadata": {},
   "outputs": [],
   "source": [
    "#-+-+-+-+-+-+-+-+-+-+-+-+-+-+-+-+-+-+-+ Generate the table for the plots -+-+-+-+-+-+-+-+-+-+-+-+-+-+-+-+-+-+-+c"
   ]
  },
  {
   "cell_type": "code",
   "execution_count": 165,
   "id": "606ec372",
   "metadata": {},
   "outputs": [],
   "source": [
    "trip_purp_validation = pd.merge(actSim_purpose,\n",
    "                                          nhts_sfbay_purpose_percent,\n",
    "                                          on = 'Purpose', how = 'left')"
   ]
  },
  {
   "cell_type": "code",
   "execution_count": 166,
   "id": "7f934533",
   "metadata": {
    "scrolled": false
   },
   "outputs": [
    {
     "data": {
      "text/html": [
       "<div>\n",
       "<style scoped>\n",
       "    .dataframe tbody tr th:only-of-type {\n",
       "        vertical-align: middle;\n",
       "    }\n",
       "\n",
       "    .dataframe tbody tr th {\n",
       "        vertical-align: top;\n",
       "    }\n",
       "\n",
       "    .dataframe thead th {\n",
       "        text-align: right;\n",
       "    }\n",
       "</style>\n",
       "<table border=\"1\" class=\"dataframe\">\n",
       "  <thead>\n",
       "    <tr style=\"text-align: right;\">\n",
       "      <th></th>\n",
       "      <th>Purpose</th>\n",
       "      <th>ActivitySim</th>\n",
       "      <th>WTTRDFIN</th>\n",
       "    </tr>\n",
       "  </thead>\n",
       "  <tbody>\n",
       "    <tr>\n",
       "      <th>0</th>\n",
       "      <td>Eat Out</td>\n",
       "      <td>4.741078</td>\n",
       "      <td>6.423234</td>\n",
       "    </tr>\n",
       "    <tr>\n",
       "      <th>1</th>\n",
       "      <td>Escort</td>\n",
       "      <td>8.575745</td>\n",
       "      <td>9.871415</td>\n",
       "    </tr>\n",
       "    <tr>\n",
       "      <th>2</th>\n",
       "      <td>Home</td>\n",
       "      <td>35.671509</td>\n",
       "      <td>33.647708</td>\n",
       "    </tr>\n",
       "    <tr>\n",
       "      <th>3</th>\n",
       "      <td>Other Discretionary</td>\n",
       "      <td>5.434518</td>\n",
       "      <td>2.619042</td>\n",
       "    </tr>\n",
       "    <tr>\n",
       "      <th>4</th>\n",
       "      <td>Other Maintenance</td>\n",
       "      <td>6.034961</td>\n",
       "      <td>1.583791</td>\n",
       "    </tr>\n",
       "    <tr>\n",
       "      <th>5</th>\n",
       "      <td>School/University</td>\n",
       "      <td>6.203976</td>\n",
       "      <td>5.976669</td>\n",
       "    </tr>\n",
       "    <tr>\n",
       "      <th>6</th>\n",
       "      <td>Shopping</td>\n",
       "      <td>9.888824</td>\n",
       "      <td>13.268605</td>\n",
       "    </tr>\n",
       "    <tr>\n",
       "      <th>7</th>\n",
       "      <td>Social</td>\n",
       "      <td>2.417985</td>\n",
       "      <td>10.131529</td>\n",
       "    </tr>\n",
       "    <tr>\n",
       "      <th>8</th>\n",
       "      <td>Work</td>\n",
       "      <td>21.031404</td>\n",
       "      <td>16.478007</td>\n",
       "    </tr>\n",
       "  </tbody>\n",
       "</table>\n",
       "</div>"
      ],
      "text/plain": [
       "               Purpose  ActivitySim   WTTRDFIN\n",
       "0              Eat Out     4.741078   6.423234\n",
       "1               Escort     8.575745   9.871415\n",
       "2                 Home    35.671509  33.647708\n",
       "3  Other Discretionary     5.434518   2.619042\n",
       "4    Other Maintenance     6.034961   1.583791\n",
       "5    School/University     6.203976   5.976669\n",
       "6             Shopping     9.888824  13.268605\n",
       "7               Social     2.417985  10.131529\n",
       "8                 Work    21.031404  16.478007"
      ]
     },
     "execution_count": 166,
     "metadata": {},
     "output_type": "execute_result"
    }
   ],
   "source": [
    "trip_purp_validation"
   ]
  },
  {
   "cell_type": "code",
   "execution_count": 167,
   "id": "79a902c4",
   "metadata": {},
   "outputs": [],
   "source": [
    "trip_purp_validation.to_csv('Summary Table/trip_purp_distribution.csv')"
   ]
  },
  {
   "cell_type": "code",
   "execution_count": 168,
   "id": "38f93db5",
   "metadata": {},
   "outputs": [],
   "source": [
    "# LEGEND for the plot\n",
    "ActSim_legend_purp = 'ActivitySim (N = ' + str(actSim.shape[0]) + ' ' + 'trips)'\n",
    "nhts_legend_purp = 'NHTS (N = ' + str(nhts_sfbay.shape[0]) + ' ' + 'trips)'\n",
    "legend_purp = [ActSim_legend_purp, nhts_legend_purp]"
   ]
  },
  {
   "cell_type": "code",
   "execution_count": 169,
   "id": "6fbb09b4",
   "metadata": {},
   "outputs": [
    {
     "data": {
      "image/png": "[encoded data removed]",
      "text/plain": [
       "<Figure size 1500x800 with 1 Axes>"
      ]
     },
     "metadata": {},
     "output_type": "display_data"
    }
   ],
   "source": [
    "# Plot\n",
    "df = trip_purp_validation\n",
    "df_plot = df.plot('Purpose', kind = 'bar', figsize=(15,8)) # , figsize=(15,4) , width=1\n",
    "for p in df_plot.containers:\n",
    "    df_plot.bar_label(p, fmt='%.1f%%', label_type='edge', fontsize = 9)\n",
    "    df_plot.xaxis.set_label_coords(0.5, -0.2)\n",
    "    df_plot.yaxis.set_label_coords(-0.05, 0.5)\n",
    "    df_plot.legend(legend_purp)\n",
    "plt.xlabel('Trip Purpose', fontsize = 15)\n",
    "plt.ylabel('Percent of trips', fontsize = 15)\n",
    "plt.xticks(rotation = 25)\n",
    "plt.title('Trip Purpose Distribution (Weekdays)')\n",
    "plt.savefig('Plot/Trip_Purp_Validation.png', dpi = 200, bbox_inches = 'tight') # plt.savefig(plotname, dpi = 200, bbox_inches = 'tight')\n",
    "plt.show()"
   ]
  },
  {
   "cell_type": "code",
   "execution_count": null,
   "id": "0c8b856b",
   "metadata": {},
   "outputs": [],
   "source": []
  }
 ],
 "metadata": {
  "kernelspec": {
   "display_name": "Python 3 (ipykernel)",
   "language": "python",
   "name": "python3"
  },
  "language_info": {
   "codemirror_mode": {
    "name": "ipython",
    "version": 3
   },
   "file_extension": ".py",
   "mimetype": "text/x-python",
   "name": "python",
   "nbconvert_exporter": "python",
   "pygments_lexer": "ipython3",
   "version": "3.9.10"
  }
 },
 "nbformat": 4,
 "nbformat_minor": 5
}
