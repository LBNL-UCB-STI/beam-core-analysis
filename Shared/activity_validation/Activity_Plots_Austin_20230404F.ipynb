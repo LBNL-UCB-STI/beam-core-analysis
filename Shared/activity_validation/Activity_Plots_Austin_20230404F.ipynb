{
 "cells": [
  {
   "cell_type": "code",
   "execution_count": 4,
   "id": "7dbc0df2",
   "metadata": {},
   "outputs": [],
   "source": [
    "import pandas as pd\n",
    "import censusdata\n",
    "import os\n",
    "from pandas import read_csv\n",
    "import matplotlib.pyplot as plt\n",
    "import seaborn as sns\n",
    "import warnings\n",
    "import numpy as np\n",
    "import datetime \n",
    "\n",
    "#from google.colab import drive \n",
    "#drive.mount('/content/drive')\n",
    "\n",
    "warnings.filterwarnings(\"ignore\")\n",
    "\n",
    "plt.style.use('ggplot')\n",
    "sns.set(font_scale=1.2)  # larger font\n"
   ]
  },
  {
   "cell_type": "code",
   "execution_count": 5,
   "id": "e739851a",
   "metadata": {},
   "outputs": [],
   "source": [
    "# Import the functions from another file (needs to be in the same directory)\n",
    "from ipynb.fs.full.Functions_Activity_Plots import *"
   ]
  },
  {
   "cell_type": "code",
   "execution_count": 6,
   "id": "3000c721",
   "metadata": {},
   "outputs": [],
   "source": [
    "os.chdir('/Users/sayaz/Documents/BEAM/BEAM CORE Validation/Austin/20230404')\n"
   ]
  },
  {
   "cell_type": "code",
   "execution_count": 4,
   "id": "c78b49c2",
   "metadata": {},
   "outputs": [],
   "source": [
    "#+++++++++++++++++++++++++++++++++++++++++++++++++++++++++++++++++++++++++++++++++++++++++++++++++++++++++++++++++"
   ]
  },
  {
   "cell_type": "code",
   "execution_count": 5,
   "id": "47a7580b",
   "metadata": {},
   "outputs": [],
   "source": [
    "####################################------------- LOAD THE DATA -------------####################################"
   ]
  },
  {
   "cell_type": "code",
   "execution_count": 6,
   "id": "57caeb4a",
   "metadata": {},
   "outputs": [],
   "source": [
    "#+++++++++++++++++++++++++++++++++++++++++++++++++++++++++++++++++++++++++++++++++++++++++++++++++++++++++++++++++"
   ]
  },
  {
   "cell_type": "code",
   "execution_count": 7,
   "id": "d50d0328",
   "metadata": {},
   "outputs": [],
   "source": [
    "# Use actSim for ActivitySim, nhts for 2017 NHTS data, and events file for BEAM output"
   ]
  },
  {
   "cell_type": "code",
   "execution_count": 8,
   "id": "f3573e18",
   "metadata": {},
   "outputs": [],
   "source": [
    "#----------------------------------------------- NHTS DATA -----------------------------------------------"
   ]
  },
  {
   "cell_type": "code",
   "execution_count": 8,
   "id": "6ca734af",
   "metadata": {},
   "outputs": [
    {
     "name": "stdout",
     "output_type": "stream",
     "text": [
      "923572\n"
     ]
    }
   ],
   "source": [
    "# 2017 NHTS survey data public\n",
    "nhts = read_csv('/Users/sayaz/Documents/BEAM/BEAM CORE Validation/NHTS/csv/trippub.csv')\n",
    "print(nhts.shape[0]) # 923572"
   ]
  },
  {
   "cell_type": "code",
   "execution_count": 9,
   "id": "f75c8d7c",
   "metadata": {},
   "outputs": [
    {
     "data": {
      "text/plain": [
       "709266"
      ]
     },
     "execution_count": 9,
     "metadata": {},
     "output_type": "execute_result"
    }
   ],
   "source": [
    "# Keep only the weekday trips\n",
    "# print(nhts_sfbay['TDWKND'].unique())\n",
    "nhts = nhts.loc[nhts['TDWKND']==2]\n",
    "nhts.shape[0] # 709266"
   ]
  },
  {
   "cell_type": "code",
   "execution_count": 11,
   "id": "8e24a0fa",
   "metadata": {},
   "outputs": [
    {
     "data": {
      "text/plain": [
       "147300"
      ]
     },
     "execution_count": 11,
     "metadata": {},
     "output_type": "execute_result"
    }
   ],
   "source": [
    "#nhts Austin\n",
    "nhts = nhts.loc[nhts['HHSTATE'] == 'TX']\n",
    "nhts.shape[0] # AllDays = 147300"
   ]
  },
  {
   "cell_type": "code",
   "execution_count": 14,
   "id": "b4281264",
   "metadata": {},
   "outputs": [
    {
     "data": {
      "text/plain": [
       "count    147300.000000\n",
       "mean     145161.424728\n",
       "std      163608.878328\n",
       "min       16795.230127\n",
       "25%       46202.499233\n",
       "50%       84790.947384\n",
       "75%      172232.749509\n",
       "max      923362.573390\n",
       "Name: WTTRDFIN, dtype: float64"
      ]
     },
     "execution_count": 14,
     "metadata": {},
     "output_type": "execute_result"
    }
   ],
   "source": [
    "nhts['WTTRDFIN'].describe()"
   ]
  },
  {
   "cell_type": "code",
   "execution_count": 17,
   "id": "8b9c3fb7",
   "metadata": {},
   "outputs": [],
   "source": [
    "#---------------------------------------------- BEAM EVENTS FILE ----------------------------------------------"
   ]
  },
  {
   "cell_type": "code",
   "execution_count": 18,
   "id": "c02d00c1",
   "metadata": {},
   "outputs": [],
   "source": [
    "# Beam output: events file\n",
    "# Source:\n",
    "# https://s3.us-east-2.amazonaws.com/beam-outputs/index.html#pilates-outputs/sfbay_baseline_20230224/beam/year-2018-iteration-6/ITERS/it.0/"
   ]
  },
  {
   "cell_type": "code",
   "execution_count": 15,
   "id": "92c74ade",
   "metadata": {},
   "outputs": [
    {
     "name": "stdout",
     "output_type": "stream",
     "text": [
      "16797436\n"
     ]
    }
   ],
   "source": [
    "events = read_csv('Data/austin_20230404_beam_year-2020-iteration-2_ITERS_it.0_0.events.csv', compression='gzip') \n",
    "# To avoid error: UnicodeDecodeError: 'utf-8' codec can't decode byte 0x8b in position 1, used compression='gzip'\n",
    "print(events.shape[0]) # 16797436"
   ]
  },
  {
   "cell_type": "code",
   "execution_count": 17,
   "id": "ec42e366",
   "metadata": {},
   "outputs": [
    {
     "data": {
      "text/plain": [
       "array(['ParkingEvent', 'departure', 'PersonEntersVehicle',\n",
       "       'PathTraversal', 'ModeChoice', 'actend', 'LeavingParkingEvent',\n",
       "       'PersonCost', 'PersonLeavesVehicle', 'arrival', 'actstart',\n",
       "       'TeleportationEvent', 'ReserveRideHail', 'Replanning',\n",
       "       'ChargingPlugInEvent', 'RefuelSessionEvent',\n",
       "       'ChargingPlugOutEvent'], dtype=object)"
      ]
     },
     "execution_count": 17,
     "metadata": {},
     "output_type": "execute_result"
    }
   ],
   "source": [
    "events['type'].unique()\n",
    "\n",
    "# array(['ParkingEvent', 'departure', 'PersonEntersVehicle',\n",
    "#        'PathTraversal', 'ModeChoice', 'actend', 'TeleportationEvent',\n",
    "#        'arrival', 'actstart', 'LeavingParkingEvent', 'PersonCost',\n",
    "#        'PersonLeavesVehicle', 'ReserveRideHail', 'Replanning',\n",
    "#        'ChargingPlugInEvent', 'RefuelSessionEvent',\n",
    "#        'ChargingPlugOutEvent'], dtype=object)"
   ]
  },
  {
   "cell_type": "code",
   "execution_count": 22,
   "id": "f8dbb9b7",
   "metadata": {},
   "outputs": [],
   "source": [
    "#--------------------------------------- ACTIVITYSIM 'final_trips' FILE ---------------------------------------"
   ]
  },
  {
   "cell_type": "code",
   "execution_count": 18,
   "id": "ac84ed14",
   "metadata": {},
   "outputs": [
    {
     "name": "stdout",
     "output_type": "stream",
     "text": [
      "1007990\n",
      "['trip_id', 'person_id', 'household_id', 'tour_id', 'primary_purpose', 'trip_num', 'outbound', 'trip_count', 'purpose', 'destination', 'origin', 'destination_logsum', 'depart', 'trip_mode', 'mode_choice_logsum']\n"
     ]
    }
   ],
   "source": [
    "# ActivitySim output: final_trips\n",
    "# Source:\n",
    "# https://s3.us-east-2.amazonaws.com/beam-outputs/index.html#pilates-outputs/sfbay_baseline_20230224/\n",
    "# activitysim/year-2018-iteration-6/\n",
    "\n",
    "actSim = read_csv('Data/austin_20230404_activitysim_final_trips.csv')\n",
    "print(actSim.shape[0]) # 1007990\n",
    "\n",
    "print(actSim.columns.tolist())\n",
    "# ['trip_id', 'person_id', 'household_id', 'tour_id', 'primary_purpose', 'trip_num', 'outbound', 'trip_count', \n",
    "#  'purpose', 'destination', 'origin', 'destination_logsum', 'depart', 'trip_mode', 'mode_choice_logsum']"
   ]
  },
  {
   "cell_type": "code",
   "execution_count": 24,
   "id": "eb8567a3",
   "metadata": {},
   "outputs": [],
   "source": [
    "#+++++++++++++++++++++++++++++++++++++++++++++++++++++++++++++++++++++++++++++++++++++++++++++++++++++++++++++++++"
   ]
  },
  {
   "cell_type": "code",
   "execution_count": 25,
   "id": "f84a227b",
   "metadata": {},
   "outputs": [],
   "source": [
    "##################################------------- GENERATE THE PLOTS -------------##################################"
   ]
  },
  {
   "cell_type": "code",
   "execution_count": 26,
   "id": "92f97133",
   "metadata": {},
   "outputs": [],
   "source": [
    "#+++++++++++++++++++++++++++++++++++++++++++++++++++++++++++++++++++++++++++++++++++++++++++++++++++++++++++++++++"
   ]
  },
  {
   "cell_type": "code",
   "execution_count": 27,
   "id": "0cc7c757",
   "metadata": {},
   "outputs": [],
   "source": [
    "#******************************************************************************************************************"
   ]
  },
  {
   "cell_type": "code",
   "execution_count": 28,
   "id": "dddb9074",
   "metadata": {},
   "outputs": [],
   "source": [
    "#================================================== TRIP MODE =================================================="
   ]
  },
  {
   "cell_type": "code",
   "execution_count": 29,
   "id": "75261eb9",
   "metadata": {},
   "outputs": [],
   "source": [
    "#-------------------------------------------------- NHTS Mode --------------------------------------------------"
   ]
  },
  {
   "cell_type": "code",
   "execution_count": 26,
   "id": "00f4dce8",
   "metadata": {
    "scrolled": true
   },
   "outputs": [
    {
     "data": {
      "text/plain": [
       "array([ 1,  2,  3,  4,  5,  6,  7,  8,  9, 10, 11, 12, 13, 14, 15, 16, 17,\n",
       "       18, 19, 20, 97])"
      ]
     },
     "execution_count": 26,
     "metadata": {},
     "output_type": "execute_result"
    }
   ],
   "source": [
    "nhts['TRPTRANS'].unique()\n",
    "nhts_mode_list = nhts['TRPTRANS'].unique()\n",
    "nhts_mode_list.sort()\n",
    "nhts_mode_list\n",
    "# array([11,  5,  3,  6,  1, 13,  2,  4, 15, 18, 17,  8, 16, 20, 97, 19,  9,\n",
    "#        12, 10,  7, 14])"
   ]
  },
  {
   "cell_type": "code",
   "execution_count": 31,
   "id": "d48dd073",
   "metadata": {},
   "outputs": [],
   "source": [
    "# 1:Walk, 2:Bicycle, \n",
    "# 3:Car, 4:SUV, 5:Van, 6:Pickup truck, \n",
    "# 7:Golf cart/Segway, 8:Motorcycle/Moped, \n",
    "# 9:RV (motor home, ATV, snowmobile), 10:School bus, 11:Public or commuter bus, 12:Paratransit/Dial-a-ride, \n",
    "# 13:Private/Charter/Tour/Shuttle bus, 14:City-to-city bus (Greyhound, Megabus), 15:Amtrak/Commuter rail,\n",
    "# 16:Subway/elevated/light rail/street car, 17:Taxi/limo (including Uber/Lyft), 18:Rental car (Including Zipcar/Car2Go)  \n",
    "# 19:Airplane, 20:Boat/ferry/water taxi, 97:Something Else, -7:I prefer not to answer, -8:I don't know, -9: Not ascertained \n",
    "\n",
    "# Remove cells with values: 19,-7,-8,-9,97"
   ]
  },
  {
   "cell_type": "code",
   "execution_count": 27,
   "id": "8ecae1e0",
   "metadata": {},
   "outputs": [
    {
     "name": "stdout",
     "output_type": "stream",
     "text": [
      "145458\n"
     ]
    }
   ],
   "source": [
    "mode_list = [1,2,3,4,5,6,7,8,10,11,14,15,16,17,20]\n",
    "nhts_mode = nhts.loc[nhts['TRPTRANS'].isin(mode_list)]\n",
    "print(str(nhts_mode.shape[0])) # 145458"
   ]
  },
  {
   "cell_type": "code",
   "execution_count": 28,
   "id": "bc02e6f0",
   "metadata": {},
   "outputs": [
    {
     "data": {
      "text/plain": [
       "array([  1,   2,   3,   4,   5,   6,   7,   8,   9,  10,  11,  12,  13,\n",
       "        14,  15,  16,  17,  18,  19,  20,  21,  23,  24,  25,  26,  28,\n",
       "        31,  36,  37,  38,  40,  41,  43,  46,  48,  49,  51,  56,  57,\n",
       "        61,  91, 100])"
      ]
     },
     "execution_count": 28,
     "metadata": {},
     "output_type": "execute_result"
    }
   ],
   "source": [
    "N_Persons_on_trip = nhts_mode['NUMONTRP'].unique()\n",
    "N_Persons_on_trip.sort()\n",
    "N_Persons_on_trip\n",
    "\n",
    "# array([ 1,  2,  3,  4,  6,  5,  7, 11,  8,  9, 30, 13, 21, 28, 26, 12, 10,\n",
    "#        16])"
   ]
  },
  {
   "cell_type": "code",
   "execution_count": 33,
   "id": "7edc67ce",
   "metadata": {},
   "outputs": [
    {
     "data": {
      "text/plain": [
       "array([  3,   4,   5,   6,   7,   8,   9,  10,  11,  12,  13,  14,  15,\n",
       "        16,  17,  18,  19,  20,  21,  23,  24,  25,  26,  28,  31,  36,\n",
       "        37,  38,  40,  41,  43,  46,  48,  49,  51,  56,  57,  61,  91,\n",
       "       100])"
      ]
     },
     "execution_count": 33,
     "metadata": {},
     "output_type": "execute_result"
    }
   ],
   "source": [
    "# remove the first 2 items from the array\n",
    "rest = N_Persons_on_trip[2:]\n",
    "rest"
   ]
  },
  {
   "cell_type": "code",
   "execution_count": 34,
   "id": "b94ec928",
   "metadata": {},
   "outputs": [
    {
     "name": "stdout",
     "output_type": "stream",
     "text": [
      "['Shared 2 Persons' 'Shared 3+ Persons' 'Drive Alone' 'Walk'\n",
      " 'Public transit' 'Bike' 'Taxi/TNC']\n",
      "145458\n"
     ]
    }
   ],
   "source": [
    "# NHTS mode list generalized\n",
    "nhts_mode.loc[nhts_mode['TRPTRANS'] == 1, 'Mode'] = 'Walk'\n",
    "nhts_mode.loc[nhts_mode['TRPTRANS'].isin([2,7,8]), 'Mode'] = 'Bike'\n",
    "nhts_mode.loc[(nhts_mode['TRPTRANS'].isin([3,4,5,6]) & nhts_mode['NUMONTRP']==1), 'Mode'] = 'Drive Alone'\n",
    "nhts_mode.loc[(nhts_mode['TRPTRANS'].isin([3,4,5,6]) & nhts_mode['NUMONTRP']==2), 'Mode'] = 'Shared 2 Persons'\n",
    "nhts_mode.loc[(nhts_mode['TRPTRANS'].isin([3,4,5,6]) & nhts_mode['NUMONTRP'].isin(rest)), 'Mode'] = 'Shared 3+ Persons'\n",
    "nhts_mode.loc[nhts_mode['TRPTRANS'] == 17, 'Mode'] = 'Taxi/TNC'\n",
    "nhts_mode.loc[nhts_mode['TRPTRANS'].isin([10, 11, 14, 15,16,20]), 'Mode'] = 'Public transit' \n",
    "\n",
    "print(nhts_mode['Mode'].unique())\n",
    "print(str(nhts_mode.shape[0])) \n",
    "\n",
    "# ['Public transit' 'Drive Alone' 'Shared 2 Persons' 'Walk' 'Bike'\n",
    "#  'Shared 3+ Persons' 'Taxi/TNC']\n",
    "# 17099"
   ]
  },
  {
   "cell_type": "code",
   "execution_count": 36,
   "id": "18a346a2",
   "metadata": {},
   "outputs": [],
   "source": [
    "nhts_mode_wt = nhts_mode.groupby('Mode')[['WTTRDFIN']].sum()"
   ]
  },
  {
   "cell_type": "code",
   "execution_count": 37,
   "id": "c630e917",
   "metadata": {},
   "outputs": [
    {
     "data": {
      "text/html": [
       "<div>\n",
       "<style scoped>\n",
       "    .dataframe tbody tr th:only-of-type {\n",
       "        vertical-align: middle;\n",
       "    }\n",
       "\n",
       "    .dataframe tbody tr th {\n",
       "        vertical-align: top;\n",
       "    }\n",
       "\n",
       "    .dataframe thead th {\n",
       "        text-align: right;\n",
       "    }\n",
       "</style>\n",
       "<table border=\"1\" class=\"dataframe\">\n",
       "  <thead>\n",
       "    <tr style=\"text-align: right;\">\n",
       "      <th></th>\n",
       "      <th>WTTRDFIN</th>\n",
       "    </tr>\n",
       "    <tr>\n",
       "      <th>Mode</th>\n",
       "      <th></th>\n",
       "    </tr>\n",
       "  </thead>\n",
       "  <tbody>\n",
       "    <tr>\n",
       "      <th>Bike</th>\n",
       "      <td>1.975584e+08</td>\n",
       "    </tr>\n",
       "    <tr>\n",
       "      <th>Drive Alone</th>\n",
       "      <td>9.061900e+09</td>\n",
       "    </tr>\n",
       "    <tr>\n",
       "      <th>Public transit</th>\n",
       "      <td>9.005284e+08</td>\n",
       "    </tr>\n",
       "    <tr>\n",
       "      <th>Shared 2 Persons</th>\n",
       "      <td>5.065155e+09</td>\n",
       "    </tr>\n",
       "    <tr>\n",
       "      <th>Shared 3+ Persons</th>\n",
       "      <td>4.368514e+09</td>\n",
       "    </tr>\n",
       "    <tr>\n",
       "      <th>Taxi/TNC</th>\n",
       "      <td>5.427403e+07</td>\n",
       "    </tr>\n",
       "    <tr>\n",
       "      <th>Walk</th>\n",
       "      <td>1.463073e+09</td>\n",
       "    </tr>\n",
       "  </tbody>\n",
       "</table>\n",
       "</div>"
      ],
      "text/plain": [
       "                       WTTRDFIN\n",
       "Mode                           \n",
       "Bike               1.975584e+08\n",
       "Drive Alone        9.061900e+09\n",
       "Public transit     9.005284e+08\n",
       "Shared 2 Persons   5.065155e+09\n",
       "Shared 3+ Persons  4.368514e+09\n",
       "Taxi/TNC           5.427403e+07\n",
       "Walk               1.463073e+09"
      ]
     },
     "execution_count": 37,
     "metadata": {},
     "output_type": "execute_result"
    }
   ],
   "source": [
    "nhts_mode_wt"
   ]
  },
  {
   "cell_type": "code",
   "execution_count": 38,
   "id": "5543383f",
   "metadata": {},
   "outputs": [
    {
     "data": {
      "text/html": [
       "<div>\n",
       "<style scoped>\n",
       "    .dataframe tbody tr th:only-of-type {\n",
       "        vertical-align: middle;\n",
       "    }\n",
       "\n",
       "    .dataframe tbody tr th {\n",
       "        vertical-align: top;\n",
       "    }\n",
       "\n",
       "    .dataframe thead th {\n",
       "        text-align: right;\n",
       "    }\n",
       "</style>\n",
       "<table border=\"1\" class=\"dataframe\">\n",
       "  <thead>\n",
       "    <tr style=\"text-align: right;\">\n",
       "      <th></th>\n",
       "      <th>Mode</th>\n",
       "      <th>WTTRDFIN</th>\n",
       "    </tr>\n",
       "  </thead>\n",
       "  <tbody>\n",
       "    <tr>\n",
       "      <th>0</th>\n",
       "      <td>Bike</td>\n",
       "      <td>0.935808</td>\n",
       "    </tr>\n",
       "    <tr>\n",
       "      <th>1</th>\n",
       "      <td>Drive Alone</td>\n",
       "      <td>42.925010</td>\n",
       "    </tr>\n",
       "    <tr>\n",
       "      <th>2</th>\n",
       "      <td>Public transit</td>\n",
       "      <td>4.265683</td>\n",
       "    </tr>\n",
       "    <tr>\n",
       "      <th>3</th>\n",
       "      <td>Shared 2 Persons</td>\n",
       "      <td>23.992961</td>\n",
       "    </tr>\n",
       "    <tr>\n",
       "      <th>4</th>\n",
       "      <td>Shared 3+ Persons</td>\n",
       "      <td>20.693067</td>\n",
       "    </tr>\n",
       "    <tr>\n",
       "      <th>5</th>\n",
       "      <td>Taxi/TNC</td>\n",
       "      <td>0.257089</td>\n",
       "    </tr>\n",
       "    <tr>\n",
       "      <th>6</th>\n",
       "      <td>Walk</td>\n",
       "      <td>6.930382</td>\n",
       "    </tr>\n",
       "  </tbody>\n",
       "</table>\n",
       "</div>"
      ],
      "text/plain": [
       "                Mode   WTTRDFIN\n",
       "0               Bike   0.935808\n",
       "1        Drive Alone  42.925010\n",
       "2     Public transit   4.265683\n",
       "3   Shared 2 Persons  23.992961\n",
       "4  Shared 3+ Persons  20.693067\n",
       "5           Taxi/TNC   0.257089\n",
       "6               Walk   6.930382"
      ]
     },
     "execution_count": 38,
     "metadata": {},
     "output_type": "execute_result"
    }
   ],
   "source": [
    "nhts_mode_wt_percent = nhts_mode_wt['WTTRDFIN'].transform(lambda x: x / x.sum() * 100)\n",
    "nhts_mode_wt_percent = nhts_mode_wt_percent.reset_index()\n",
    "nhts_mode_wt_percent"
   ]
  },
  {
   "cell_type": "code",
   "execution_count": 29,
   "id": "cff32668",
   "metadata": {},
   "outputs": [],
   "source": [
    "#-------------------------------------------------- BEAM Mode --------------------------------------------------"
   ]
  },
  {
   "cell_type": "code",
   "execution_count": 30,
   "id": "2efe7b41",
   "metadata": {},
   "outputs": [],
   "source": [
    "##### Use 'type' = 'ModeChoice' to generate the plots for mode type and trip length #####"
   ]
  },
  {
   "cell_type": "code",
   "execution_count": 39,
   "id": "650b1299",
   "metadata": {},
   "outputs": [
    {
     "name": "stdout",
     "output_type": "stream",
     "text": [
      "1025900\n"
     ]
    }
   ],
   "source": [
    "events_type_mode_length = events.loc[events['type'] == 'ModeChoice']\n",
    "print(str(events_type_mode_length.shape[0])) # 1025900\n",
    "# print(str(round(events_type_mode_length.shape[0]/events.shape[0]*100, 2))  + ' % of the data') # 6.86 % of the data"
   ]
  },
  {
   "cell_type": "code",
   "execution_count": 41,
   "id": "30df2f46",
   "metadata": {},
   "outputs": [
    {
     "data": {
      "text/plain": [
       "array(['hov3_teleportation', 'car', 'hov2_teleportation', 'walk', 'bike',\n",
       "       'car_hov2', 'car_hov3', 'walk_transit', 'ride_hail',\n",
       "       'ride_hail_pooled', 'drive_transit', 'bike_transit'], dtype=object)"
      ]
     },
     "execution_count": 41,
     "metadata": {},
     "output_type": "execute_result"
    }
   ],
   "source": [
    "events_type_mode_length['mode'].unique()\n",
    "\n",
    "# array(['car_hov3', 'car', 'hov3_teleportation', 'hov2_teleportation',\n",
    "#        'car_hov2', 'walk', 'bike', 'walk_transit', 'ride_hail',\n",
    "#        'ride_hail_pooled', 'drive_transit', 'bike_transit'], dtype=object)"
   ]
  },
  {
   "cell_type": "code",
   "execution_count": 34,
   "id": "013f3cd6",
   "metadata": {},
   "outputs": [],
   "source": [
    "# Beam mode list generalized\n",
    "\n",
    "# Need to remove 'hov2_teleportation'and 'hov3_teleportation' since teleportation is not available in the NHTS data\n",
    "\n",
    "# Keep only the following modes:\n",
    "# 'car_hov2', 'car', 'car_hov3', 'bike', 'walk', 'walk_transit', 'ride_hail','ride_hail_pooled', 'drive_transit', \n",
    "# 'bike_transit'        \n",
    "# events_mode = events_type_mode_length.loc[events_type_mode_length['mode'].isin(['car_hov2', 'car', 'car_hov3', \n",
    "# 'bike', 'walk', 'walk_transit', 'ride_hail','ride_hail_pooled', 'drive_transit', 'bike_transit' ])]\n",
    "\n",
    "# print(str(events_mode.shape[0])) # 2097966"
   ]
  },
  {
   "cell_type": "code",
   "execution_count": 42,
   "id": "efa5c126",
   "metadata": {},
   "outputs": [],
   "source": [
    "events_mode = events_type_mode_length"
   ]
  },
  {
   "cell_type": "code",
   "execution_count": 43,
   "id": "a342c7c4",
   "metadata": {},
   "outputs": [
    {
     "data": {
      "text/plain": [
       "array(['Shared 3+ Persons', 'Drive Alone', 'Shared 2 Persons', 'Walk',\n",
       "       'Bike', 'Public transit', 'Taxi/TNC'], dtype=object)"
      ]
     },
     "execution_count": 43,
     "metadata": {},
     "output_type": "execute_result"
    }
   ],
   "source": [
    "events_mode.loc[events_mode['mode'] == 'walk', 'Mode'] = 'Walk'\n",
    "events_mode.loc[events_mode['mode'] == 'bike', 'Mode'] = 'Bike'\n",
    "events_mode.loc[events_mode['mode'].isin(['car']), 'Mode'] = 'Drive Alone'\n",
    "events_mode.loc[events_mode['mode'].isin(['car_hov2', 'hov2_teleportation']), 'Mode'] = 'Shared 2 Persons'\n",
    "events_mode.loc[events_mode['mode'].isin(['car_hov3', 'hov3_teleportation']), 'Mode'] = 'Shared 3+ Persons'\n",
    "events_mode.loc[events_mode['mode'].isin(['ride_hail', 'ride_hail_pooled']), 'Mode'] = 'Taxi/TNC'\n",
    "events_mode.loc[events_mode['mode'].isin(['walk_transit', 'drive_transit', 'bike_transit']), 'Mode'] = 'Public transit' \n",
    "\n",
    "events_mode['Mode'].unique()\n",
    "# array(['Shared 3+ Persons', 'Drive Alone', 'Shared 2 Persons', 'Walk',\n",
    "#        'Bike', 'Public transit', 'Taxi/TNC'], dtype=object)"
   ]
  },
  {
   "cell_type": "code",
   "execution_count": 37,
   "id": "c8a8c4b5",
   "metadata": {},
   "outputs": [],
   "source": [
    "# Beam mode list generalized for all 'type' field\n",
    "# events_mode.loc[events_mode['mode'] == 'walk', 'Mode'] = 'Walk'\n",
    "# events_mode.loc[events_mode['mode'] == 'bike', 'Mode'] = 'Bike'\n",
    "# events_mode.loc[events_mode['mode'].isin(['car_hov2', 'car',\n",
    "#        'hov2_teleportation', 'car_hov3', 'hov3_teleportation']), 'Mode'] = 'Car'\n",
    "# events_mode.loc[events_mode['mode'].isin(['ride_hail', 'ride_hail_pooled']), 'Mode'] = 'Taxi/TNC'\n",
    "# events_mode.loc[events_mode['mode'].isin(['bus', 'tram', 'subway', 'rail', 'walk_transit', 'drive_transit', 'bike_transit', 'cable_car',\n",
    "#        'ferry']), 'Mode'] = 'Public transit' \n",
    "\n",
    "\n",
    "# events_mode['Mode'].unique()\n",
    "#array(['Public transit', 'Car', 'Walk', 'Bike', 'Taxi/TNC'], dtype=object)"
   ]
  },
  {
   "cell_type": "code",
   "execution_count": 44,
   "id": "ba034e8f",
   "metadata": {},
   "outputs": [],
   "source": [
    "events_mode_percent = events_mode.groupby('Mode')[['tripId']].count()"
   ]
  },
  {
   "cell_type": "code",
   "execution_count": 45,
   "id": "e60ed7db",
   "metadata": {},
   "outputs": [
    {
     "data": {
      "text/html": [
       "<div>\n",
       "<style scoped>\n",
       "    .dataframe tbody tr th:only-of-type {\n",
       "        vertical-align: middle;\n",
       "    }\n",
       "\n",
       "    .dataframe tbody tr th {\n",
       "        vertical-align: top;\n",
       "    }\n",
       "\n",
       "    .dataframe thead th {\n",
       "        text-align: right;\n",
       "    }\n",
       "</style>\n",
       "<table border=\"1\" class=\"dataframe\">\n",
       "  <thead>\n",
       "    <tr style=\"text-align: right;\">\n",
       "      <th></th>\n",
       "      <th>Mode</th>\n",
       "      <th>tripId</th>\n",
       "      <th>BEAM</th>\n",
       "    </tr>\n",
       "  </thead>\n",
       "  <tbody>\n",
       "    <tr>\n",
       "      <th>0</th>\n",
       "      <td>Bike</td>\n",
       "      <td>11605</td>\n",
       "      <td>1.131202</td>\n",
       "    </tr>\n",
       "    <tr>\n",
       "      <th>1</th>\n",
       "      <td>Drive Alone</td>\n",
       "      <td>550990</td>\n",
       "      <td>53.707964</td>\n",
       "    </tr>\n",
       "    <tr>\n",
       "      <th>2</th>\n",
       "      <td>Public transit</td>\n",
       "      <td>30292</td>\n",
       "      <td>2.952724</td>\n",
       "    </tr>\n",
       "    <tr>\n",
       "      <th>3</th>\n",
       "      <td>Shared 2 Persons</td>\n",
       "      <td>211043</td>\n",
       "      <td>20.571498</td>\n",
       "    </tr>\n",
       "    <tr>\n",
       "      <th>4</th>\n",
       "      <td>Shared 3+ Persons</td>\n",
       "      <td>152228</td>\n",
       "      <td>14.838483</td>\n",
       "    </tr>\n",
       "    <tr>\n",
       "      <th>5</th>\n",
       "      <td>Taxi/TNC</td>\n",
       "      <td>32181</td>\n",
       "      <td>3.136855</td>\n",
       "    </tr>\n",
       "    <tr>\n",
       "      <th>6</th>\n",
       "      <td>Walk</td>\n",
       "      <td>37561</td>\n",
       "      <td>3.661273</td>\n",
       "    </tr>\n",
       "  </tbody>\n",
       "</table>\n",
       "</div>"
      ],
      "text/plain": [
       "                Mode  tripId       BEAM\n",
       "0               Bike   11605   1.131202\n",
       "1        Drive Alone  550990  53.707964\n",
       "2     Public transit   30292   2.952724\n",
       "3   Shared 2 Persons  211043  20.571498\n",
       "4  Shared 3+ Persons  152228  14.838483\n",
       "5           Taxi/TNC   32181   3.136855\n",
       "6               Walk   37561   3.661273"
      ]
     },
     "execution_count": 45,
     "metadata": {},
     "output_type": "execute_result"
    }
   ],
   "source": [
    "events_mode_percent['BEAM'] = events_mode_percent['tripId'].transform(lambda x: x / x.sum() * 100)\n",
    "events_mode_percent = events_mode_percent.reset_index()\n",
    "events_mode_percent"
   ]
  },
  {
   "cell_type": "code",
   "execution_count": 40,
   "id": "f2267957",
   "metadata": {},
   "outputs": [],
   "source": [
    "# events_mode_percent['BEAM (' + str(events_mode.shape[0]) + ' ' + 'trips)'] = events_mode_percent['tripId'].transform(lambda x: x / x.sum() * 100)"
   ]
  },
  {
   "cell_type": "code",
   "execution_count": 41,
   "id": "1ec8fa58",
   "metadata": {},
   "outputs": [],
   "source": [
    "#---------------------------------------------- ActivitySim Mode ----------------------------------------------"
   ]
  },
  {
   "cell_type": "code",
   "execution_count": 46,
   "id": "cd504bbd",
   "metadata": {},
   "outputs": [
    {
     "data": {
      "text/plain": [
       "array(['SHARED2PAY', 'DRIVEALONEPAY', 'DRIVEALONEFREE', 'WALK',\n",
       "       'SHARED2FREE', 'SHARED3FREE', 'SHARED3PAY', 'TNC_SHARED',\n",
       "       'TNC_SINGLE', 'BIKE', 'WALK_LOC', 'TAXI', 'DRIVE_LOC', 'WALK_LRF',\n",
       "       'DRIVE_LRF'], dtype=object)"
      ]
     },
     "execution_count": 46,
     "metadata": {},
     "output_type": "execute_result"
    }
   ],
   "source": [
    "actSim['trip_mode'].unique()"
   ]
  },
  {
   "cell_type": "code",
   "execution_count": 47,
   "id": "f32c4762",
   "metadata": {},
   "outputs": [
    {
     "name": "stdout",
     "output_type": "stream",
     "text": [
      "1007990\n"
     ]
    }
   ],
   "source": [
    "# Romove rows with missing values in the trip_mode field\n",
    "actSim_mode = actSim.dropna(subset = 'trip_mode')\n",
    "print(actSim_mode.shape[0]) # 1007990; same as actSim, no missing value"
   ]
  },
  {
   "cell_type": "code",
   "execution_count": 48,
   "id": "c613ffd2",
   "metadata": {},
   "outputs": [
    {
     "name": "stdout",
     "output_type": "stream",
     "text": [
      "['Shared 2 Persons' 'Drive Alone' 'Walk' 'Shared 3+ Persons' 'Taxi/TNC'\n",
      " 'Bike' 'Public transit']\n"
     ]
    }
   ],
   "source": [
    "# Create a field to specify the list of modes for validation\n",
    "# ActivitySim mode list generalized\n",
    "\n",
    "actSim_mode.loc[actSim_mode['trip_mode'] == 'WALK', 'Mode'] = 'Walk'\n",
    "actSim_mode.loc[actSim_mode['trip_mode'] == 'BIKE', 'Mode'] = 'Bike'\n",
    "actSim_mode.loc[actSim_mode['trip_mode'].isin(['DRIVEALONEPAY', 'DRIVEALONEFREE']), 'Mode'] = 'Drive Alone'\n",
    "actSim_mode.loc[actSim_mode['trip_mode'].isin(['SHARED2PAY', 'SHARED2FREE']), 'Mode'] = 'Shared 2 Persons'\n",
    "actSim_mode.loc[actSim_mode['trip_mode'].isin(['SHARED3FREE', 'SHARED3PAY']), 'Mode'] = 'Shared 3+ Persons'\n",
    "actSim_mode.loc[actSim_mode['trip_mode'].isin(['TNC_SHARED', 'TAXI', 'TNC_SINGLE']), 'Mode'] = 'Taxi/TNC'\n",
    "actSim_mode.loc[actSim_mode['trip_mode'].isin(['WALK_HVY', 'WALK_LOC','WALK_LRF', 'DRIVE_LOC', 'DRIVE_HVY', 'WALK_COM', 'DRIVE_LRF', 'DRIVE_COM']), 'Mode'] = 'Public transit' \n",
    "\n",
    "print(actSim_mode['Mode'].unique())\n",
    "# ['Shared 3+ Persons' 'Drive Alone' 'Taxi/TNC' 'Walk' 'Public transit'\n",
    "#  'Shared 2 Persons' 'Bike']"
   ]
  },
  {
   "cell_type": "code",
   "execution_count": 49,
   "id": "85a8ba69",
   "metadata": {},
   "outputs": [
    {
     "data": {
      "text/html": [
       "<div>\n",
       "<style scoped>\n",
       "    .dataframe tbody tr th:only-of-type {\n",
       "        vertical-align: middle;\n",
       "    }\n",
       "\n",
       "    .dataframe tbody tr th {\n",
       "        vertical-align: top;\n",
       "    }\n",
       "\n",
       "    .dataframe thead th {\n",
       "        text-align: right;\n",
       "    }\n",
       "</style>\n",
       "<table border=\"1\" class=\"dataframe\">\n",
       "  <thead>\n",
       "    <tr style=\"text-align: right;\">\n",
       "      <th></th>\n",
       "      <th>trip_id</th>\n",
       "    </tr>\n",
       "    <tr>\n",
       "      <th>Mode</th>\n",
       "      <th></th>\n",
       "    </tr>\n",
       "  </thead>\n",
       "  <tbody>\n",
       "    <tr>\n",
       "      <th>Bike</th>\n",
       "      <td>10985</td>\n",
       "    </tr>\n",
       "    <tr>\n",
       "      <th>Drive Alone</th>\n",
       "      <td>511227</td>\n",
       "    </tr>\n",
       "    <tr>\n",
       "      <th>Public transit</th>\n",
       "      <td>38358</td>\n",
       "    </tr>\n",
       "    <tr>\n",
       "      <th>Shared 2 Persons</th>\n",
       "      <td>217281</td>\n",
       "    </tr>\n",
       "    <tr>\n",
       "      <th>Shared 3+ Persons</th>\n",
       "      <td>155776</td>\n",
       "    </tr>\n",
       "    <tr>\n",
       "      <th>Taxi/TNC</th>\n",
       "      <td>33097</td>\n",
       "    </tr>\n",
       "    <tr>\n",
       "      <th>Walk</th>\n",
       "      <td>41266</td>\n",
       "    </tr>\n",
       "  </tbody>\n",
       "</table>\n",
       "</div>"
      ],
      "text/plain": [
       "                   trip_id\n",
       "Mode                      \n",
       "Bike                 10985\n",
       "Drive Alone         511227\n",
       "Public transit       38358\n",
       "Shared 2 Persons    217281\n",
       "Shared 3+ Persons   155776\n",
       "Taxi/TNC             33097\n",
       "Walk                 41266"
      ]
     },
     "execution_count": 49,
     "metadata": {},
     "output_type": "execute_result"
    }
   ],
   "source": [
    "actSim_mode_percent = actSim_mode.groupby('Mode')[['trip_id']].count()\n",
    "actSim_mode_percent"
   ]
  },
  {
   "cell_type": "code",
   "execution_count": 50,
   "id": "f1807ce7",
   "metadata": {},
   "outputs": [
    {
     "data": {
      "text/plain": [
       "Index(['Mode', 'trip_id', 'ActivitySim'], dtype='object')"
      ]
     },
     "execution_count": 50,
     "metadata": {},
     "output_type": "execute_result"
    }
   ],
   "source": [
    "actSim_mode_percent['ActivitySim'] = actSim_mode_percent['trip_id'].transform(lambda x: x / x.sum() * 100)\n",
    "actSim_mode_percent = actSim_mode_percent.reset_index()\n",
    "actSim_mode_percent.columns"
   ]
  },
  {
   "cell_type": "code",
   "execution_count": 51,
   "id": "779fcffc",
   "metadata": {},
   "outputs": [],
   "source": [
    "#-+-+-+-+-+-+-+-+-+-+-+-+-+-+-+-+-+-+-+ Generate the table for the plots -+-+-+-+-+-+-+-+-+-+-+-+-+-+-+-+-+-+-+c"
   ]
  },
  {
   "cell_type": "code",
   "execution_count": 53,
   "id": "dff42a3f",
   "metadata": {},
   "outputs": [],
   "source": [
    "actSim_mode_percent = actSim_mode_percent[['Mode', 'ActivitySim']]\n",
    "events_mode_percent = events_mode_percent[['Mode', 'BEAM']]\n",
    "nhts_mode_wt_percent = nhts_mode_wt_percent[['Mode', 'WTTRDFIN']]"
   ]
  },
  {
   "cell_type": "code",
   "execution_count": 54,
   "id": "c5f47ac5",
   "metadata": {},
   "outputs": [],
   "source": [
    "trip_mode_validation = pd.merge(actSim_mode_percent, events_mode_percent,  \n",
    "                                on = 'Mode', how = 'left')"
   ]
  },
  {
   "cell_type": "code",
   "execution_count": 56,
   "id": "8fedd326",
   "metadata": {},
   "outputs": [],
   "source": [
    "trip_mode_validation = pd.merge(trip_mode_validation, nhts_mode_wt_percent, \n",
    "                                on = 'Mode', how = 'left')"
   ]
  },
  {
   "cell_type": "code",
   "execution_count": 57,
   "id": "0288a711",
   "metadata": {
    "scrolled": true
   },
   "outputs": [
    {
     "data": {
      "text/html": [
       "<div>\n",
       "<style scoped>\n",
       "    .dataframe tbody tr th:only-of-type {\n",
       "        vertical-align: middle;\n",
       "    }\n",
       "\n",
       "    .dataframe tbody tr th {\n",
       "        vertical-align: top;\n",
       "    }\n",
       "\n",
       "    .dataframe thead th {\n",
       "        text-align: right;\n",
       "    }\n",
       "</style>\n",
       "<table border=\"1\" class=\"dataframe\">\n",
       "  <thead>\n",
       "    <tr style=\"text-align: right;\">\n",
       "      <th></th>\n",
       "      <th>Mode</th>\n",
       "      <th>ActivitySim</th>\n",
       "      <th>BEAM</th>\n",
       "      <th>WTTRDFIN</th>\n",
       "    </tr>\n",
       "  </thead>\n",
       "  <tbody>\n",
       "    <tr>\n",
       "      <th>0</th>\n",
       "      <td>Bike</td>\n",
       "      <td>1.089793</td>\n",
       "      <td>1.131202</td>\n",
       "      <td>0.935808</td>\n",
       "    </tr>\n",
       "    <tr>\n",
       "      <th>1</th>\n",
       "      <td>Drive Alone</td>\n",
       "      <td>50.717467</td>\n",
       "      <td>53.707964</td>\n",
       "      <td>42.925010</td>\n",
       "    </tr>\n",
       "    <tr>\n",
       "      <th>2</th>\n",
       "      <td>Public transit</td>\n",
       "      <td>3.805395</td>\n",
       "      <td>2.952724</td>\n",
       "      <td>4.265683</td>\n",
       "    </tr>\n",
       "    <tr>\n",
       "      <th>3</th>\n",
       "      <td>Shared 2 Persons</td>\n",
       "      <td>21.555869</td>\n",
       "      <td>20.571498</td>\n",
       "      <td>23.992961</td>\n",
       "    </tr>\n",
       "    <tr>\n",
       "      <th>4</th>\n",
       "      <td>Shared 3+ Persons</td>\n",
       "      <td>15.454122</td>\n",
       "      <td>14.838483</td>\n",
       "      <td>20.693067</td>\n",
       "    </tr>\n",
       "    <tr>\n",
       "      <th>5</th>\n",
       "      <td>Taxi/TNC</td>\n",
       "      <td>3.283465</td>\n",
       "      <td>3.136855</td>\n",
       "      <td>0.257089</td>\n",
       "    </tr>\n",
       "    <tr>\n",
       "      <th>6</th>\n",
       "      <td>Walk</td>\n",
       "      <td>4.093890</td>\n",
       "      <td>3.661273</td>\n",
       "      <td>6.930382</td>\n",
       "    </tr>\n",
       "  </tbody>\n",
       "</table>\n",
       "</div>"
      ],
      "text/plain": [
       "                Mode  ActivitySim       BEAM   WTTRDFIN\n",
       "0               Bike     1.089793   1.131202   0.935808\n",
       "1        Drive Alone    50.717467  53.707964  42.925010\n",
       "2     Public transit     3.805395   2.952724   4.265683\n",
       "3   Shared 2 Persons    21.555869  20.571498  23.992961\n",
       "4  Shared 3+ Persons    15.454122  14.838483  20.693067\n",
       "5           Taxi/TNC     3.283465   3.136855   0.257089\n",
       "6               Walk     4.093890   3.661273   6.930382"
      ]
     },
     "execution_count": 57,
     "metadata": {},
     "output_type": "execute_result"
    }
   ],
   "source": [
    "trip_mode_validation"
   ]
  },
  {
   "cell_type": "code",
   "execution_count": 59,
   "id": "346dbb9b",
   "metadata": {},
   "outputs": [],
   "source": [
    "trip_mode_validation.to_csv('Summary Table/trip_mode_validation.csv')"
   ]
  },
  {
   "cell_type": "code",
   "execution_count": 53,
   "id": "829ada6a",
   "metadata": {},
   "outputs": [],
   "source": [
    "# trip_mode_validation.plot(x = 'Mode', kind = 'bar')\n",
    "# plt.ylabel('Percent of modes')\n",
    "# plt.title('Trip Mode Distribution')\n",
    "# plt.savefig('Plot/Trip_Mode_Validation.png', dpi = 200, bbox_inches = 'tight')"
   ]
  },
  {
   "cell_type": "code",
   "execution_count": 60,
   "id": "9f3c0bb9",
   "metadata": {},
   "outputs": [],
   "source": [
    "# LEGEND\n",
    "ActSim_legend_mode = 'ActivitySim (N = ' + str(actSim_mode.shape[0]) + ' ' + 'trips)'\n",
    "BEAM_legend_mode = 'BEAM (N = ' + str(events_mode.shape[0]) + ' ' + 'trips)'\n",
    "nhts_legend_mode = 'NHTS (N = ' + str(nhts_mode.shape[0]) + ' ' + 'trips)'\n",
    "legend_mode = [ActSim_legend_mode, BEAM_legend_mode, nhts_legend_mode]"
   ]
  },
  {
   "cell_type": "code",
   "execution_count": 61,
   "id": "be75854c",
   "metadata": {},
   "outputs": [
    {
     "data": {
      "text/plain": [
       "<AxesSubplot: title={'center': 'Trip Mode Distribution (Weekdays)'}, xlabel='Mode', ylabel='Percent of trips'>"
      ]
     },
     "execution_count": 61,
     "metadata": {},
     "output_type": "execute_result"
    },
    {
     "data": {
      "image/png": "[encoded data removed]",
      "text/plain": [
       "<Figure size 1500x800 with 1 Axes>"
      ]
     },
     "metadata": {},
     "output_type": "display_data"
    }
   ],
   "source": [
    "activity_plot_percentLegend(trip_mode_validation, 'Mode', 'Mode', 'Percent of trips', legend_mode, 'Trip Mode Distribution (Weekdays)', \n",
    "                         'Plot/Trip_Mode_Validation.png')"
   ]
  },
  {
   "cell_type": "code",
   "execution_count": null,
   "id": "cce9ef5b",
   "metadata": {},
   "outputs": [],
   "source": []
  },
  {
   "cell_type": "code",
   "execution_count": 611,
   "id": "2eeaf7f2",
   "metadata": {},
   "outputs": [],
   "source": [
    "# activity_plot_showPercent(trip_mode_validation, 'Mode', 'Mode', 'Percent of trips', 'Trip Mode Distribution (Weekdays)', \n",
    "#                          'Plot/Trip_Mode_Validation.png')"
   ]
  },
  {
   "cell_type": "code",
   "execution_count": null,
   "id": "68084a0f",
   "metadata": {},
   "outputs": [],
   "source": [
    "#******************************************************************************************************************"
   ]
  },
  {
   "cell_type": "code",
   "execution_count": null,
   "id": "4601a9fc",
   "metadata": {},
   "outputs": [],
   "source": [
    "#=============================================== TRIP LENGTH ==============================================="
   ]
  },
  {
   "cell_type": "code",
   "execution_count": 56,
   "id": "96e0f0cf",
   "metadata": {},
   "outputs": [],
   "source": [
    "#----------------------------------------------- NHTS Length -----------------------------------------------"
   ]
  },
  {
   "cell_type": "code",
   "execution_count": 62,
   "id": "333b913a",
   "metadata": {
    "scrolled": true
   },
   "outputs": [
    {
     "data": {
      "text/plain": [
       "array([60.357,  1.352,  1.358, ..., 34.698, 13.385, 10.45 ])"
      ]
     },
     "execution_count": 62,
     "metadata": {},
     "output_type": "execute_result"
    }
   ],
   "source": [
    "nhts['TRPMILES'].unique()\n",
    "\n",
    "# array([15.056,  5.26 , 20.409, ..., 10.248,  5.877,  4.044])"
   ]
  },
  {
   "cell_type": "code",
   "execution_count": 63,
   "id": "5b87d66f",
   "metadata": {},
   "outputs": [
    {
     "data": {
      "text/plain": [
       "-9.0"
      ]
     },
     "execution_count": 63,
     "metadata": {},
     "output_type": "execute_result"
    }
   ],
   "source": [
    "nhts['TRPMILES'].min() #-9.0"
   ]
  },
  {
   "cell_type": "code",
   "execution_count": 64,
   "id": "f66ac789",
   "metadata": {},
   "outputs": [
    {
     "data": {
      "text/plain": [
       "6515.858"
      ]
     },
     "execution_count": 64,
     "metadata": {},
     "output_type": "execute_result"
    }
   ],
   "source": [
    "nhts['TRPMILES'].max() # 8701.108"
   ]
  },
  {
   "cell_type": "code",
   "execution_count": 65,
   "id": "9498ad6e",
   "metadata": {},
   "outputs": [],
   "source": [
    "# Remove the 'TRPMILES' < 0 values\n",
    "nhts_length = nhts[nhts['TRPMILES'] >= 0]"
   ]
  },
  {
   "cell_type": "code",
   "execution_count": 66,
   "id": "bed82124",
   "metadata": {},
   "outputs": [
    {
     "name": "stdout",
     "output_type": "stream",
     "text": [
      "0.0\n",
      "6515.858\n"
     ]
    }
   ],
   "source": [
    "print(nhts_length['TRPMILES'].min()) # 0.0\n",
    "print(nhts_length['TRPMILES'].max()) # 8701.108"
   ]
  },
  {
   "cell_type": "code",
   "execution_count": 68,
   "id": "11316b19",
   "metadata": {},
   "outputs": [
    {
     "data": {
      "text/plain": [
       "array(['5', '1', '3', '2', '4'], dtype=object)"
      ]
     },
     "execution_count": 68,
     "metadata": {},
     "output_type": "execute_result"
    }
   ],
   "source": [
    "nhts_length.loc[ (nhts_length['TRPMILES'] >= 0) & (nhts_length['TRPMILES'] < 5), 'Trip length' ] = '1' \n",
    "nhts_length.loc[ (nhts_length['TRPMILES'] >= 5) & (nhts_length['TRPMILES'] < 10), 'Trip length' ] = '2' \n",
    "nhts_length.loc[ (nhts_length['TRPMILES'] >= 10) & (nhts_length['TRPMILES'] < 15), 'Trip length' ] = '3' \n",
    "nhts_length.loc[ (nhts_length['TRPMILES'] >= 15) & (nhts_length['TRPMILES'] < 20), 'Trip length' ] = '4' \n",
    "nhts_length.loc[ nhts_length['TRPMILES'] >= 20, 'Trip length' ] = '5' \n",
    "\n",
    "nhts_length['Trip length'].unique()\n",
    "# array(['>= 5, < 10 miles', '>= 20 miles', '>= 0, < 5 miles',\n",
    "#        '>= 10, < 15 miles', '>= 15, < 20 miles'], dtype=object)"
   ]
  },
  {
   "cell_type": "code",
   "execution_count": 69,
   "id": "b7c43d93",
   "metadata": {},
   "outputs": [],
   "source": [
    "nhts_length_wt = nhts_length.groupby('Trip length')[['WTTRDFIN']].sum()"
   ]
  },
  {
   "cell_type": "code",
   "execution_count": 70,
   "id": "b9fee7fc",
   "metadata": {},
   "outputs": [
    {
     "data": {
      "text/html": [
       "<div>\n",
       "<style scoped>\n",
       "    .dataframe tbody tr th:only-of-type {\n",
       "        vertical-align: middle;\n",
       "    }\n",
       "\n",
       "    .dataframe tbody tr th {\n",
       "        vertical-align: top;\n",
       "    }\n",
       "\n",
       "    .dataframe thead th {\n",
       "        text-align: right;\n",
       "    }\n",
       "</style>\n",
       "<table border=\"1\" class=\"dataframe\">\n",
       "  <thead>\n",
       "    <tr style=\"text-align: right;\">\n",
       "      <th></th>\n",
       "      <th>WTTRDFIN</th>\n",
       "    </tr>\n",
       "    <tr>\n",
       "      <th>Trip length</th>\n",
       "      <th></th>\n",
       "    </tr>\n",
       "  </thead>\n",
       "  <tbody>\n",
       "    <tr>\n",
       "      <th>1</th>\n",
       "      <td>1.297267e+10</td>\n",
       "    </tr>\n",
       "    <tr>\n",
       "      <th>2</th>\n",
       "      <td>3.611594e+09</td>\n",
       "    </tr>\n",
       "    <tr>\n",
       "      <th>3</th>\n",
       "      <td>1.767202e+09</td>\n",
       "    </tr>\n",
       "    <tr>\n",
       "      <th>4</th>\n",
       "      <td>1.010541e+09</td>\n",
       "    </tr>\n",
       "    <tr>\n",
       "      <th>5</th>\n",
       "      <td>2.007430e+09</td>\n",
       "    </tr>\n",
       "  </tbody>\n",
       "</table>\n",
       "</div>"
      ],
      "text/plain": [
       "                 WTTRDFIN\n",
       "Trip length              \n",
       "1            1.297267e+10\n",
       "2            3.611594e+09\n",
       "3            1.767202e+09\n",
       "4            1.010541e+09\n",
       "5            2.007430e+09"
      ]
     },
     "execution_count": 70,
     "metadata": {},
     "output_type": "execute_result"
    }
   ],
   "source": [
    "nhts_length_wt"
   ]
  },
  {
   "cell_type": "code",
   "execution_count": 71,
   "id": "6fb92649",
   "metadata": {},
   "outputs": [
    {
     "data": {
      "text/html": [
       "<div>\n",
       "<style scoped>\n",
       "    .dataframe tbody tr th:only-of-type {\n",
       "        vertical-align: middle;\n",
       "    }\n",
       "\n",
       "    .dataframe tbody tr th {\n",
       "        vertical-align: top;\n",
       "    }\n",
       "\n",
       "    .dataframe thead th {\n",
       "        text-align: right;\n",
       "    }\n",
       "</style>\n",
       "<table border=\"1\" class=\"dataframe\">\n",
       "  <thead>\n",
       "    <tr style=\"text-align: right;\">\n",
       "      <th></th>\n",
       "      <th>Trip length</th>\n",
       "      <th>WTTRDFIN</th>\n",
       "    </tr>\n",
       "  </thead>\n",
       "  <tbody>\n",
       "    <tr>\n",
       "      <th>0</th>\n",
       "      <td>1</td>\n",
       "      <td>60.706643</td>\n",
       "    </tr>\n",
       "    <tr>\n",
       "      <th>1</th>\n",
       "      <td>2</td>\n",
       "      <td>16.900749</td>\n",
       "    </tr>\n",
       "    <tr>\n",
       "      <th>2</th>\n",
       "      <td>3</td>\n",
       "      <td>8.269766</td>\n",
       "    </tr>\n",
       "    <tr>\n",
       "      <th>3</th>\n",
       "      <td>4</td>\n",
       "      <td>4.728911</td>\n",
       "    </tr>\n",
       "    <tr>\n",
       "      <th>4</th>\n",
       "      <td>5</td>\n",
       "      <td>9.393932</td>\n",
       "    </tr>\n",
       "  </tbody>\n",
       "</table>\n",
       "</div>"
      ],
      "text/plain": [
       "  Trip length   WTTRDFIN\n",
       "0           1  60.706643\n",
       "1           2  16.900749\n",
       "2           3   8.269766\n",
       "3           4   4.728911\n",
       "4           5   9.393932"
      ]
     },
     "execution_count": 71,
     "metadata": {},
     "output_type": "execute_result"
    }
   ],
   "source": [
    "nhts_length_wt_percent = nhts_length_wt['WTTRDFIN'].transform(lambda x: x / x.sum() * 100)\n",
    "nhts_length_wt_percent = nhts_length_wt_percent.reset_index()\n",
    "nhts_length_wt_percent"
   ]
  },
  {
   "cell_type": "code",
   "execution_count": 65,
   "id": "53900e21",
   "metadata": {},
   "outputs": [],
   "source": [
    "# nhts_sfbay_length_wt_percent = nhts_sfbay_length_wt_percent.rename(columns = {'WTTRDFIN':'NHTS'})"
   ]
  },
  {
   "cell_type": "code",
   "execution_count": 66,
   "id": "f566b639",
   "metadata": {},
   "outputs": [],
   "source": [
    "#----------------------------------------------- BEAM Length -----------------------------------------------"
   ]
  },
  {
   "cell_type": "code",
   "execution_count": 72,
   "id": "fb340e4e",
   "metadata": {},
   "outputs": [
    {
     "data": {
      "text/plain": [
       "array([ 2196.887     ,   450.551     , 38090.647     , ...,\n",
       "       74840.44229549, 30453.95479952, 49118.268     ])"
      ]
     },
     "execution_count": 72,
     "metadata": {},
     "output_type": "execute_result"
    }
   ],
   "source": [
    "# Trip length\n",
    "events_type_mode_length['length'].unique()"
   ]
  },
  {
   "cell_type": "code",
   "execution_count": 73,
   "id": "712535e2",
   "metadata": {},
   "outputs": [],
   "source": [
    "# Drop nan values from 'length' column\n",
    "events_length = events_type_mode_length.dropna(subset = 'length')"
   ]
  },
  {
   "cell_type": "code",
   "execution_count": 74,
   "id": "90b9b1f6",
   "metadata": {},
   "outputs": [
    {
     "data": {
      "text/plain": [
       "array([ 2196.887     ,   450.551     , 38090.647     , ...,\n",
       "       74840.44229549, 30453.95479952, 49118.268     ])"
      ]
     },
     "execution_count": 74,
     "metadata": {},
     "output_type": "execute_result"
    }
   ],
   "source": [
    "events_length['length'].unique()"
   ]
  },
  {
   "cell_type": "code",
   "execution_count": 75,
   "id": "adccc334",
   "metadata": {},
   "outputs": [
    {
     "name": "stdout",
     "output_type": "stream",
     "text": [
      "0.001\n",
      "289497.12684523995\n"
     ]
    }
   ],
   "source": [
    "# I think the unit is in meter; In the analyze_events.py file length is divided by 1609.34 to get miles\n",
    "# Link to file: https://github.com/LBNL-UCB-STI/beam/blob/develop/src/main/python/events_analysis/analyze_events.py\n",
    "\n",
    "print(events_type_mode_length['length'].min()) #0.001\n",
    "print(events_type_mode_length['length'].max()) #289497.12684523995"
   ]
  },
  {
   "cell_type": "code",
   "execution_count": 71,
   "id": "97d9a0ac",
   "metadata": {},
   "outputs": [],
   "source": [
    "# print(events.shape[0]) #36644243\n",
    "# print(events_length.shape[0]) #11581761"
   ]
  },
  {
   "cell_type": "code",
   "execution_count": 76,
   "id": "ad3ce9fb",
   "metadata": {},
   "outputs": [],
   "source": [
    "# Create a column to convert length from meters to mile to match with the nhts unit\n",
    "events_length['length_mile'] = events_length['length']/1609.34"
   ]
  },
  {
   "cell_type": "code",
   "execution_count": 77,
   "id": "e12546d8",
   "metadata": {},
   "outputs": [
    {
     "name": "stdout",
     "output_type": "stream",
     "text": [
      "6.213727366498068e-07\n",
      "179.885621960083\n"
     ]
    }
   ],
   "source": [
    "print(events_length['length_mile'].min()) # .213727366498068e-07\n",
    "print(events_length['length_mile'].max()) # 179.885621960083"
   ]
  },
  {
   "cell_type": "code",
   "execution_count": 78,
   "id": "b20093e2",
   "metadata": {},
   "outputs": [],
   "source": [
    "events_length.loc[ (events_length['length_mile'] >= 0) & (events_length['length_mile'] < 5), 'Trip length' ] = '1' \n",
    "events_length.loc[ (events_length['length_mile'] >= 5) & (events_length['length_mile'] < 10), 'Trip length' ] = '2' \n",
    "events_length.loc[ (events_length['length_mile'] >= 10) & (events_length['length_mile'] < 15), 'Trip length' ] = '3' \n",
    "events_length.loc[ (events_length['length_mile'] >= 15) & (events_length['length_mile'] < 20), 'Trip length' ] = '4' \n",
    "events_length.loc[ events_length['length_mile'] >= 20, 'Trip length' ] = '5' "
   ]
  },
  {
   "cell_type": "code",
   "execution_count": 79,
   "id": "1be533c8",
   "metadata": {},
   "outputs": [
    {
     "data": {
      "text/plain": [
       "array(['1', '5', '2', '3', '4'], dtype=object)"
      ]
     },
     "execution_count": 79,
     "metadata": {},
     "output_type": "execute_result"
    }
   ],
   "source": [
    "events_length['Trip length'].unique()\n",
    "# array(['>= 0, < 5 miles', '>= 10, < 15 miles', '>= 5, < 10 miles',\n",
    "#        '>= 20 miles', '>= 15, < 20 miles'], dtype=object)"
   ]
  },
  {
   "cell_type": "code",
   "execution_count": 80,
   "id": "a90ae6c7",
   "metadata": {},
   "outputs": [],
   "source": [
    "## Plot for trip length all modes"
   ]
  },
  {
   "cell_type": "code",
   "execution_count": 81,
   "id": "1daf6785",
   "metadata": {
    "scrolled": true
   },
   "outputs": [
    {
     "data": {
      "text/html": [
       "<div>\n",
       "<style scoped>\n",
       "    .dataframe tbody tr th:only-of-type {\n",
       "        vertical-align: middle;\n",
       "    }\n",
       "\n",
       "    .dataframe tbody tr th {\n",
       "        vertical-align: top;\n",
       "    }\n",
       "\n",
       "    .dataframe thead th {\n",
       "        text-align: right;\n",
       "    }\n",
       "</style>\n",
       "<table border=\"1\" class=\"dataframe\">\n",
       "  <thead>\n",
       "    <tr style=\"text-align: right;\">\n",
       "      <th></th>\n",
       "      <th>Trip length</th>\n",
       "      <th>BEAM</th>\n",
       "    </tr>\n",
       "  </thead>\n",
       "  <tbody>\n",
       "    <tr>\n",
       "      <th>0</th>\n",
       "      <td>1</td>\n",
       "      <td>45.839361</td>\n",
       "    </tr>\n",
       "    <tr>\n",
       "      <th>1</th>\n",
       "      <td>2</td>\n",
       "      <td>24.962764</td>\n",
       "    </tr>\n",
       "    <tr>\n",
       "      <th>2</th>\n",
       "      <td>3</td>\n",
       "      <td>13.137830</td>\n",
       "    </tr>\n",
       "    <tr>\n",
       "      <th>3</th>\n",
       "      <td>4</td>\n",
       "      <td>7.086363</td>\n",
       "    </tr>\n",
       "    <tr>\n",
       "      <th>4</th>\n",
       "      <td>5</td>\n",
       "      <td>8.973682</td>\n",
       "    </tr>\n",
       "  </tbody>\n",
       "</table>\n",
       "</div>"
      ],
      "text/plain": [
       "  Trip length       BEAM\n",
       "0           1  45.839361\n",
       "1           2  24.962764\n",
       "2           3  13.137830\n",
       "3           4   7.086363\n",
       "4           5   8.973682"
      ]
     },
     "execution_count": 81,
     "metadata": {},
     "output_type": "execute_result"
    }
   ],
   "source": [
    "events_length_percent = distribution(events_length, 'Trip length', 'tripId', 'BEAM')\n",
    "events_length_percent"
   ]
  },
  {
   "cell_type": "code",
   "execution_count": 78,
   "id": "1545fe6b",
   "metadata": {},
   "outputs": [],
   "source": [
    "#-+-+-+-+-+-+-+-+-+-+-+-+-+-+-+-+-+-+-+ Generate the table for the plots -+-+-+-+-+-+-+-+-+-+-+-+-+-+-+-+-+-+-+c"
   ]
  },
  {
   "cell_type": "code",
   "execution_count": 83,
   "id": "4900f986",
   "metadata": {},
   "outputs": [
    {
     "data": {
      "text/html": [
       "<div>\n",
       "<style scoped>\n",
       "    .dataframe tbody tr th:only-of-type {\n",
       "        vertical-align: middle;\n",
       "    }\n",
       "\n",
       "    .dataframe tbody tr th {\n",
       "        vertical-align: top;\n",
       "    }\n",
       "\n",
       "    .dataframe thead th {\n",
       "        text-align: right;\n",
       "    }\n",
       "</style>\n",
       "<table border=\"1\" class=\"dataframe\">\n",
       "  <thead>\n",
       "    <tr style=\"text-align: right;\">\n",
       "      <th></th>\n",
       "      <th>Trip length</th>\n",
       "      <th>BEAM</th>\n",
       "      <th>WTTRDFIN</th>\n",
       "    </tr>\n",
       "  </thead>\n",
       "  <tbody>\n",
       "    <tr>\n",
       "      <th>0</th>\n",
       "      <td>1</td>\n",
       "      <td>45.839361</td>\n",
       "      <td>60.706643</td>\n",
       "    </tr>\n",
       "    <tr>\n",
       "      <th>1</th>\n",
       "      <td>2</td>\n",
       "      <td>24.962764</td>\n",
       "      <td>16.900749</td>\n",
       "    </tr>\n",
       "    <tr>\n",
       "      <th>2</th>\n",
       "      <td>3</td>\n",
       "      <td>13.137830</td>\n",
       "      <td>8.269766</td>\n",
       "    </tr>\n",
       "    <tr>\n",
       "      <th>3</th>\n",
       "      <td>4</td>\n",
       "      <td>7.086363</td>\n",
       "      <td>4.728911</td>\n",
       "    </tr>\n",
       "    <tr>\n",
       "      <th>4</th>\n",
       "      <td>5</td>\n",
       "      <td>8.973682</td>\n",
       "      <td>9.393932</td>\n",
       "    </tr>\n",
       "  </tbody>\n",
       "</table>\n",
       "</div>"
      ],
      "text/plain": [
       "  Trip length       BEAM   WTTRDFIN\n",
       "0           1  45.839361  60.706643\n",
       "1           2  24.962764  16.900749\n",
       "2           3  13.137830   8.269766\n",
       "3           4   7.086363   4.728911\n",
       "4           5   8.973682   9.393932"
      ]
     },
     "execution_count": 83,
     "metadata": {},
     "output_type": "execute_result"
    }
   ],
   "source": [
    "merged_length = merge_df(events_length_percent, nhts_length_wt_percent, 'Trip length')\n",
    "merged_length"
   ]
  },
  {
   "cell_type": "code",
   "execution_count": 80,
   "id": "d7e55a28",
   "metadata": {},
   "outputs": [],
   "source": [
    "# merged_length = merged_length.rename(columns = {'BEAM (2512933 trips)': 'BEAM (2,512,933 trips)'})"
   ]
  },
  {
   "cell_type": "code",
   "execution_count": 84,
   "id": "01d78fd4",
   "metadata": {},
   "outputs": [],
   "source": [
    "merged_length.to_csv('Summary Table/trip_length_validation_all_modes.csv')"
   ]
  },
  {
   "cell_type": "code",
   "execution_count": 82,
   "id": "4a0c9cbb",
   "metadata": {},
   "outputs": [],
   "source": [
    "# NHTS_no_of_trips = nhts_sfbay_length[['WTTRDFIN']].count()\n",
    "# NHTS_no_of_trips\n"
   ]
  },
  {
   "cell_type": "code",
   "execution_count": 85,
   "id": "7ba65850",
   "metadata": {},
   "outputs": [],
   "source": [
    "BEAM_legend_length = 'BEAM (N = ' + str(events_length.shape[0]) + ' ' + 'trips)'\n",
    "nhts_legend_length = 'NHTS (N = ' + str(nhts_length.shape[0]) + ' ' + 'trips)'\n",
    "legend_length = [BEAM_legend_length, nhts_legend_length]"
   ]
  },
  {
   "cell_type": "code",
   "execution_count": 86,
   "id": "8be566c6",
   "metadata": {},
   "outputs": [
    {
     "data": {
      "image/png": "[encoded data removed]",
      "text/plain": [
       "<Figure size 1500x800 with 1 Axes>"
      ]
     },
     "metadata": {},
     "output_type": "display_data"
    }
   ],
   "source": [
    "df = merged_length\n",
    "xtickLabels = ['>= 0, < 5 miles', '>= 5, < 10 miles', '>= 10, < 15 miles', '>= 15, < 20 miles', '>= 20 miles']\n",
    "df_plot = df.plot('Trip length', kind = 'bar', figsize=(15,8)) # , figsize=(15,4) , width=1\n",
    "for p in df_plot.containers:\n",
    "    df_plot.bar_label(p, fmt='%.1f%%', label_type='edge', fontsize = 9)\n",
    "    df_plot.xaxis.set_label_coords(0.5, -0.1)\n",
    "    df_plot.yaxis.set_label_coords(-0.05, 0.5)\n",
    "    df_plot.set_xticklabels(xtickLabels)\n",
    "    df_plot.legend(legend_length)\n",
    "plt.xlabel('Trip length', fontsize = 15)\n",
    "plt.ylabel('Percent of trips', fontsize = 15)\n",
    "plt.xticks(rotation = 360)\n",
    "plt.title('Trip Length Distribution (Weekdays) All Modes')\n",
    "plt.savefig('Plot/Trip_Length_Validation.png', dpi = 200, bbox_inches = 'tight') # plt.savefig(plotname, dpi = 200, bbox_inches = 'tight')\n",
    "plt.show()"
   ]
  },
  {
   "cell_type": "code",
   "execution_count": 591,
   "id": "098c7395",
   "metadata": {},
   "outputs": [],
   "source": [
    "# activity_plot_showPercent(merged_length, 'Trip length', 'Trip length', 'Percent of trips', 'Trip Length Distribution (Weekdays) All Modes', \n",
    "#                          'Plot/Trip_Length_Validation.png')"
   ]
  },
  {
   "cell_type": "code",
   "execution_count": null,
   "id": "2bc9142e",
   "metadata": {},
   "outputs": [],
   "source": [
    "#******************************************************************************************************************"
   ]
  },
  {
   "cell_type": "code",
   "execution_count": null,
   "id": "8ef6c687",
   "metadata": {},
   "outputs": [],
   "source": [
    "#=========================================== TRIP LENGTH (CAR ONLY) ==========================================="
   ]
  },
  {
   "cell_type": "code",
   "execution_count": 56,
   "id": "f065e344",
   "metadata": {},
   "outputs": [],
   "source": [
    "#-------------------------------------------- NHTS Length (Car Only) --------------------------------------------"
   ]
  },
  {
   "cell_type": "code",
   "execution_count": 88,
   "id": "3fd4d89c",
   "metadata": {},
   "outputs": [
    {
     "data": {
      "text/plain": [
       "130613"
      ]
     },
     "execution_count": 88,
     "metadata": {},
     "output_type": "execute_result"
    }
   ],
   "source": [
    "nhts_length_car = nhts_length.loc[nhts_length['TRPTRANS'].isin([3,4,5,6])]\n",
    "nhts_length_car['Trip length'].shape[0] # 130613"
   ]
  },
  {
   "cell_type": "code",
   "execution_count": 89,
   "id": "eb61066d",
   "metadata": {},
   "outputs": [],
   "source": [
    "nhts_length_wt_car = nhts_length_wt.groupby('Trip length')[['WTTRDFIN']].sum()"
   ]
  },
  {
   "cell_type": "code",
   "execution_count": 90,
   "id": "53d33802",
   "metadata": {},
   "outputs": [
    {
     "data": {
      "text/html": [
       "<div>\n",
       "<style scoped>\n",
       "    .dataframe tbody tr th:only-of-type {\n",
       "        vertical-align: middle;\n",
       "    }\n",
       "\n",
       "    .dataframe tbody tr th {\n",
       "        vertical-align: top;\n",
       "    }\n",
       "\n",
       "    .dataframe thead th {\n",
       "        text-align: right;\n",
       "    }\n",
       "</style>\n",
       "<table border=\"1\" class=\"dataframe\">\n",
       "  <thead>\n",
       "    <tr style=\"text-align: right;\">\n",
       "      <th></th>\n",
       "      <th>WTTRDFIN</th>\n",
       "    </tr>\n",
       "    <tr>\n",
       "      <th>Trip length</th>\n",
       "      <th></th>\n",
       "    </tr>\n",
       "  </thead>\n",
       "  <tbody>\n",
       "    <tr>\n",
       "      <th>1</th>\n",
       "      <td>1.297267e+10</td>\n",
       "    </tr>\n",
       "    <tr>\n",
       "      <th>2</th>\n",
       "      <td>3.611594e+09</td>\n",
       "    </tr>\n",
       "    <tr>\n",
       "      <th>3</th>\n",
       "      <td>1.767202e+09</td>\n",
       "    </tr>\n",
       "    <tr>\n",
       "      <th>4</th>\n",
       "      <td>1.010541e+09</td>\n",
       "    </tr>\n",
       "    <tr>\n",
       "      <th>5</th>\n",
       "      <td>2.007430e+09</td>\n",
       "    </tr>\n",
       "  </tbody>\n",
       "</table>\n",
       "</div>"
      ],
      "text/plain": [
       "                 WTTRDFIN\n",
       "Trip length              \n",
       "1            1.297267e+10\n",
       "2            3.611594e+09\n",
       "3            1.767202e+09\n",
       "4            1.010541e+09\n",
       "5            2.007430e+09"
      ]
     },
     "execution_count": 90,
     "metadata": {},
     "output_type": "execute_result"
    }
   ],
   "source": [
    "nhts_length_wt_car"
   ]
  },
  {
   "cell_type": "code",
   "execution_count": 91,
   "id": "bc65e418",
   "metadata": {},
   "outputs": [
    {
     "data": {
      "text/html": [
       "<div>\n",
       "<style scoped>\n",
       "    .dataframe tbody tr th:only-of-type {\n",
       "        vertical-align: middle;\n",
       "    }\n",
       "\n",
       "    .dataframe tbody tr th {\n",
       "        vertical-align: top;\n",
       "    }\n",
       "\n",
       "    .dataframe thead th {\n",
       "        text-align: right;\n",
       "    }\n",
       "</style>\n",
       "<table border=\"1\" class=\"dataframe\">\n",
       "  <thead>\n",
       "    <tr style=\"text-align: right;\">\n",
       "      <th></th>\n",
       "      <th>Trip length</th>\n",
       "      <th>WTTRDFIN</th>\n",
       "    </tr>\n",
       "  </thead>\n",
       "  <tbody>\n",
       "    <tr>\n",
       "      <th>0</th>\n",
       "      <td>1</td>\n",
       "      <td>60.706643</td>\n",
       "    </tr>\n",
       "    <tr>\n",
       "      <th>1</th>\n",
       "      <td>2</td>\n",
       "      <td>16.900749</td>\n",
       "    </tr>\n",
       "    <tr>\n",
       "      <th>2</th>\n",
       "      <td>3</td>\n",
       "      <td>8.269766</td>\n",
       "    </tr>\n",
       "    <tr>\n",
       "      <th>3</th>\n",
       "      <td>4</td>\n",
       "      <td>4.728911</td>\n",
       "    </tr>\n",
       "    <tr>\n",
       "      <th>4</th>\n",
       "      <td>5</td>\n",
       "      <td>9.393932</td>\n",
       "    </tr>\n",
       "  </tbody>\n",
       "</table>\n",
       "</div>"
      ],
      "text/plain": [
       "  Trip length   WTTRDFIN\n",
       "0           1  60.706643\n",
       "1           2  16.900749\n",
       "2           3   8.269766\n",
       "3           4   4.728911\n",
       "4           5   9.393932"
      ]
     },
     "execution_count": 91,
     "metadata": {},
     "output_type": "execute_result"
    }
   ],
   "source": [
    "nhts_length_wt_car_percent = nhts_length_wt_car['WTTRDFIN'].transform(lambda x: x / x.sum() * 100)\n",
    "nhts_length_wt_car_percent = nhts_length_wt_car_percent.reset_index()\n",
    "nhts_length_wt_car_percent"
   ]
  },
  {
   "cell_type": "code",
   "execution_count": 92,
   "id": "0464ee7a",
   "metadata": {},
   "outputs": [],
   "source": [
    "#-------------------------------------------- BEAM Length (Car Only) --------------------------------------------"
   ]
  },
  {
   "cell_type": "code",
   "execution_count": 93,
   "id": "eb503884",
   "metadata": {},
   "outputs": [],
   "source": [
    "events_length_car = events_length.loc[events_length['mode'].isin(['car_hov2', 'car',\n",
    "        'car_hov3'])]"
   ]
  },
  {
   "cell_type": "code",
   "execution_count": 94,
   "id": "3d1e14b7",
   "metadata": {},
   "outputs": [],
   "source": [
    "# events_length_car = events_length.loc[events_length['mode'].isin(['car_hov2', 'car',\n",
    "#        'hov2_teleportation', 'car_hov3', 'hov3_teleportation'])]"
   ]
  },
  {
   "cell_type": "code",
   "execution_count": 95,
   "id": "05ae678a",
   "metadata": {},
   "outputs": [
    {
     "data": {
      "text/plain": [
       "730619"
      ]
     },
     "execution_count": 95,
     "metadata": {},
     "output_type": "execute_result"
    }
   ],
   "source": [
    "events_length_car['Trip length'].shape[0] # 730619"
   ]
  },
  {
   "cell_type": "code",
   "execution_count": 96,
   "id": "86a74648",
   "metadata": {},
   "outputs": [
    {
     "data": {
      "text/html": [
       "<div>\n",
       "<style scoped>\n",
       "    .dataframe tbody tr th:only-of-type {\n",
       "        vertical-align: middle;\n",
       "    }\n",
       "\n",
       "    .dataframe tbody tr th {\n",
       "        vertical-align: top;\n",
       "    }\n",
       "\n",
       "    .dataframe thead th {\n",
       "        text-align: right;\n",
       "    }\n",
       "</style>\n",
       "<table border=\"1\" class=\"dataframe\">\n",
       "  <thead>\n",
       "    <tr style=\"text-align: right;\">\n",
       "      <th></th>\n",
       "      <th>Trip length</th>\n",
       "      <th>BEAM</th>\n",
       "    </tr>\n",
       "  </thead>\n",
       "  <tbody>\n",
       "    <tr>\n",
       "      <th>0</th>\n",
       "      <td>1</td>\n",
       "      <td>41.194521</td>\n",
       "    </tr>\n",
       "    <tr>\n",
       "      <th>1</th>\n",
       "      <td>2</td>\n",
       "      <td>25.993438</td>\n",
       "    </tr>\n",
       "    <tr>\n",
       "      <th>2</th>\n",
       "      <td>3</td>\n",
       "      <td>14.374934</td>\n",
       "    </tr>\n",
       "    <tr>\n",
       "      <th>3</th>\n",
       "      <td>4</td>\n",
       "      <td>7.980904</td>\n",
       "    </tr>\n",
       "    <tr>\n",
       "      <th>4</th>\n",
       "      <td>5</td>\n",
       "      <td>10.456202</td>\n",
       "    </tr>\n",
       "  </tbody>\n",
       "</table>\n",
       "</div>"
      ],
      "text/plain": [
       "  Trip length      BEAM \n",
       "0           1  41.194521\n",
       "1           2  25.993438\n",
       "2           3  14.374934\n",
       "3           4   7.980904\n",
       "4           5  10.456202"
      ]
     },
     "execution_count": 96,
     "metadata": {},
     "output_type": "execute_result"
    }
   ],
   "source": [
    "events_length_percent_car = distribution(events_length_car, 'Trip length', 'tripId', 'BEAM ')\n",
    "events_length_percent_car"
   ]
  },
  {
   "cell_type": "code",
   "execution_count": 97,
   "id": "0a7c73e6",
   "metadata": {},
   "outputs": [],
   "source": [
    "#-+-+-+-+-+-+-+-+-+-+-+-+-+-+-+-+-+-+-+ Generate the table for the plots -+-+-+-+-+-+-+-+-+-+-+-+-+-+-+-+-+-+-+c"
   ]
  },
  {
   "cell_type": "code",
   "execution_count": 99,
   "id": "e4cce85f",
   "metadata": {
    "scrolled": true
   },
   "outputs": [
    {
     "data": {
      "text/html": [
       "<div>\n",
       "<style scoped>\n",
       "    .dataframe tbody tr th:only-of-type {\n",
       "        vertical-align: middle;\n",
       "    }\n",
       "\n",
       "    .dataframe tbody tr th {\n",
       "        vertical-align: top;\n",
       "    }\n",
       "\n",
       "    .dataframe thead th {\n",
       "        text-align: right;\n",
       "    }\n",
       "</style>\n",
       "<table border=\"1\" class=\"dataframe\">\n",
       "  <thead>\n",
       "    <tr style=\"text-align: right;\">\n",
       "      <th></th>\n",
       "      <th>Trip length</th>\n",
       "      <th>BEAM</th>\n",
       "      <th>WTTRDFIN</th>\n",
       "    </tr>\n",
       "  </thead>\n",
       "  <tbody>\n",
       "    <tr>\n",
       "      <th>0</th>\n",
       "      <td>1</td>\n",
       "      <td>41.194521</td>\n",
       "      <td>60.706643</td>\n",
       "    </tr>\n",
       "    <tr>\n",
       "      <th>1</th>\n",
       "      <td>2</td>\n",
       "      <td>25.993438</td>\n",
       "      <td>16.900749</td>\n",
       "    </tr>\n",
       "    <tr>\n",
       "      <th>2</th>\n",
       "      <td>3</td>\n",
       "      <td>14.374934</td>\n",
       "      <td>8.269766</td>\n",
       "    </tr>\n",
       "    <tr>\n",
       "      <th>3</th>\n",
       "      <td>4</td>\n",
       "      <td>7.980904</td>\n",
       "      <td>4.728911</td>\n",
       "    </tr>\n",
       "    <tr>\n",
       "      <th>4</th>\n",
       "      <td>5</td>\n",
       "      <td>10.456202</td>\n",
       "      <td>9.393932</td>\n",
       "    </tr>\n",
       "  </tbody>\n",
       "</table>\n",
       "</div>"
      ],
      "text/plain": [
       "  Trip length      BEAM    WTTRDFIN\n",
       "0           1  41.194521  60.706643\n",
       "1           2  25.993438  16.900749\n",
       "2           3  14.374934   8.269766\n",
       "3           4   7.980904   4.728911\n",
       "4           5  10.456202   9.393932"
      ]
     },
     "execution_count": 99,
     "metadata": {},
     "output_type": "execute_result"
    }
   ],
   "source": [
    "merged_length_car = merge_df(events_length_percent_car, nhts_length_wt_car_percent, 'Trip length')\n",
    "merged_length_car"
   ]
  },
  {
   "cell_type": "code",
   "execution_count": 100,
   "id": "dd879e30",
   "metadata": {},
   "outputs": [],
   "source": [
    "# merged_length_car = merged_length_car.rename(columns = {'BEAM (1691815 trips)':'BEAM (1,691,815 trips)', 'WTTRDFIN':'NHTS (12,525 trips)'})"
   ]
  },
  {
   "cell_type": "code",
   "execution_count": 101,
   "id": "d2353dfc",
   "metadata": {},
   "outputs": [],
   "source": [
    "merged_length_car.to_csv('Summary Table/trip_length_validation_carnly.csv')"
   ]
  },
  {
   "cell_type": "code",
   "execution_count": 102,
   "id": "887dedf4",
   "metadata": {},
   "outputs": [],
   "source": [
    "# LEGEND for the Plot\n",
    "BEAM_legend_length_car = 'BEAM (N = ' + str(events_length_car.shape[0]) + ' ' + 'trips)'\n",
    "nhts_legend_length_car = 'NHTS (N = ' + str(nhts_length_wt_car.shape[0]) + ' ' + 'trips)'\n",
    "legend_length_car = [BEAM_legend_length, nhts_legend_length]"
   ]
  },
  {
   "cell_type": "code",
   "execution_count": 103,
   "id": "506ecd5e",
   "metadata": {},
   "outputs": [
    {
     "data": {
      "image/png": "[encoded data removed]",
      "text/plain": [
       "<Figure size 1500x800 with 1 Axes>"
      ]
     },
     "metadata": {},
     "output_type": "display_data"
    }
   ],
   "source": [
    "# Plot\n",
    "df = merged_length_car\n",
    "xtickLabels = ['>= 0, < 5 miles', '>= 5, < 10 miles', '>= 10, < 15 miles', '>= 15, < 20 miles', '>= 20 miles']\n",
    "df_plot = df.plot('Trip length', kind = 'bar', figsize=(15,8)) # , figsize=(15,4) , width=1\n",
    "for p in df_plot.containers:\n",
    "    df_plot.bar_label(p, fmt='%.1f%%', label_type='edge', fontsize = 9)\n",
    "    df_plot.xaxis.set_label_coords(0.5, -0.1)\n",
    "    df_plot.yaxis.set_label_coords(-0.05, 0.5)\n",
    "    df_plot.legend(legend_length_car)\n",
    "    df_plot.set_xticklabels(xtickLabels)\n",
    "plt.xlabel('Trip length', fontsize = 15)\n",
    "plt.ylabel('Percent of trips', fontsize = 15)\n",
    "plt.xticks(rotation = 360)\n",
    "plt.title('Trip Length Distribution (Weekdays) Car Only')\n",
    "plt.savefig('Plot/Trip_Length_Validation_Car.png', dpi = 200, bbox_inches = 'tight') # plt.savefig(plotname, dpi = 200, bbox_inches = 'tight')\n",
    "plt.show()"
   ]
  },
  {
   "cell_type": "code",
   "execution_count": 612,
   "id": "c2c4f071",
   "metadata": {},
   "outputs": [],
   "source": [
    "# activity_plot_showPercent(merged_length_car, 'Trip length', 'Trip length', 'Percent of trips', 'Trip Length Distribution (Weekdays) Car Only', \n",
    "#                          'Plot/Trip_Length_Validation_Car.png')"
   ]
  },
  {
   "cell_type": "code",
   "execution_count": null,
   "id": "8ea96665",
   "metadata": {},
   "outputs": [],
   "source": [
    "#******************************************************************************************************************"
   ]
  },
  {
   "cell_type": "code",
   "execution_count": null,
   "id": "9bc0f2c2",
   "metadata": {},
   "outputs": [],
   "source": [
    "#================================================ DEPARTURE TIME ================================================"
   ]
  },
  {
   "cell_type": "code",
   "execution_count": 56,
   "id": "8388c4e7",
   "metadata": {},
   "outputs": [],
   "source": [
    "#---------------------------------------------- NHTS Departure Time ----------------------------------------------"
   ]
  },
  {
   "cell_type": "code",
   "execution_count": 104,
   "id": "1f647787",
   "metadata": {},
   "outputs": [
    {
     "data": {
      "text/plain": [
       "0"
      ]
     },
     "execution_count": 104,
     "metadata": {},
     "output_type": "execute_result"
    }
   ],
   "source": [
    "# STRTTIME: Trip Start Time (HHMM)\n",
    "nhts['STRTTIME'].min()\n",
    "# 0"
   ]
  },
  {
   "cell_type": "code",
   "execution_count": 105,
   "id": "5d253374",
   "metadata": {},
   "outputs": [
    {
     "data": {
      "text/plain": [
       "2359"
      ]
     },
     "execution_count": 105,
     "metadata": {},
     "output_type": "execute_result"
    }
   ],
   "source": [
    "nhts['STRTTIME'].max()\n",
    "# 2359"
   ]
  },
  {
   "cell_type": "code",
   "execution_count": 102,
   "id": "fd7dde94",
   "metadata": {},
   "outputs": [],
   "source": [
    "# In ActivitySim, departeture time considered from 5.0 hr to 23.0 hr. \n",
    "# So, I will consider only those hrs for nhts data "
   ]
  },
  {
   "cell_type": "code",
   "execution_count": 107,
   "id": "fb0d1f6d",
   "metadata": {},
   "outputs": [],
   "source": [
    "# Remove 0 to 5 hr from the nhts data\n",
    "nhts_depart = remove_rows_by_values(nhts,'STRTTIME', list(range(0,500)))"
   ]
  },
  {
   "cell_type": "code",
   "execution_count": 108,
   "id": "75a0f0bc",
   "metadata": {},
   "outputs": [
    {
     "data": {
      "text/plain": [
       "500"
      ]
     },
     "execution_count": 108,
     "metadata": {},
     "output_type": "execute_result"
    }
   ],
   "source": [
    "nhts_depart['STRTTIME'].min()"
   ]
  },
  {
   "cell_type": "code",
   "execution_count": 105,
   "id": "4d802aa3",
   "metadata": {},
   "outputs": [],
   "source": [
    "# Create a new column in the df by replacing a range of values in an existing column by \n",
    "# one single value in the new column\n",
    "\n",
    "# def replace_value_multiple(df, current_value_m, current_column_m, new_value_m,  new_column_m):\n",
    "#     df.loc[df[current_column_m].isin(current_value_m), new_column_m] = new_value_m\n",
    "#     return df  "
   ]
  },
  {
   "cell_type": "code",
   "execution_count": 109,
   "id": "f75bce1f",
   "metadata": {},
   "outputs": [],
   "source": [
    "current_value_m = [list(range(500,560)), list(range(600,660)), list(range(700,760)), list(range(800,860)), \n",
    "    list(range(900,960)), list(range(1000,1060)), list(range(1100,1160)), list(range(1200,1260)), list(range(1300,1360)), \n",
    "    list(range(1400,1460)), list(range(1500,1560)), list(range(1600,1660)), list(range(1700,1760)), list(range(1800,1860)), \n",
    "    list(range(1900,1960)), list(range(2000,2060)), list(range(2100,2160)), list(range(2200,2260)), list(range(2300,2360)) \n",
    "                  ]\n",
    "# current_value_m[-1] "
   ]
  },
  {
   "cell_type": "code",
   "execution_count": 110,
   "id": "7715e29b",
   "metadata": {},
   "outputs": [
    {
     "data": {
      "text/plain": [
       "Index(['05:00', '06:00', '07:00', '08:00', '09:00', '10:00', '11:00', '12:00',\n",
       "       '13:00', '14:00', '15:00', '16:00', '17:00', '18:00', '19:00', '20:00',\n",
       "       '21:00', '22:00', '23:00'],\n",
       "      dtype='object')"
      ]
     },
     "execution_count": 110,
     "metadata": {},
     "output_type": "execute_result"
    }
   ],
   "source": [
    "new_value = pd.date_range(\"5:00\", \"23:59\", freq=\"60min\").strftime('%H:%M')\n",
    "new_value"
   ]
  },
  {
   "cell_type": "code",
   "execution_count": 112,
   "id": "03646fd4",
   "metadata": {},
   "outputs": [],
   "source": [
    "# NHTS: create the 'Departure time' column for the plot\n",
    "for cur_hr, new_val in zip(current_value_m, new_value):\n",
    "    replace_value_multiple(nhts_depart, cur_hr, 'STRTTIME', new_val,  'Departure time') "
   ]
  },
  {
   "cell_type": "code",
   "execution_count": 113,
   "id": "9cf4bac9",
   "metadata": {},
   "outputs": [
    {
     "name": "stdout",
     "output_type": "stream",
     "text": [
      "['HOUSEID', 'PERSONID', 'TDTRPNUM', 'STRTTIME', 'ENDTIME', 'TRVLCMIN', 'TRPMILES', 'TRPTRANS', 'TRPACCMP', 'TRPHHACC', 'VEHID', 'TRWAITTM', 'NUMTRANS', 'TRACCTM', 'DROP_PRK', 'TREGRTM', 'WHODROVE', 'WHYFROM', 'LOOP_TRIP', 'TRPHHVEH', 'HHMEMDRV', 'HH_ONTD', 'NONHHCNT', 'NUMONTRP', 'PSGR_FLG', 'PUBTRANS', 'TRIPPURP', 'DWELTIME', 'TDWKND', 'VMT_MILE', 'DRVR_FLG', 'WHYTRP1S', 'ONTD_P1', 'ONTD_P2', 'ONTD_P3', 'ONTD_P4', 'ONTD_P5', 'ONTD_P6', 'ONTD_P7', 'ONTD_P8', 'ONTD_P9', 'ONTD_P10', 'ONTD_P11', 'ONTD_P12', 'ONTD_P13', 'TDCASEID', 'TRACC_WLK', 'TRACC_POV', 'TRACC_BUS', 'TRACC_CRL', 'TRACC_SUB', 'TRACC_OTH', 'TREGR_WLK', 'TREGR_POV', 'TREGR_BUS', 'TREGR_CRL', 'TREGR_SUB', 'TREGR_OTH', 'WHYTO', 'TRAVDAY', 'HOMEOWN', 'HHSIZE', 'HHVEHCNT', 'HHFAMINC', 'DRVRCNT', 'HHSTATE', 'HHSTFIPS', 'NUMADLT', 'WRKCOUNT', 'TDAYDATE', 'HHRESP', 'LIF_CYC', 'MSACAT', 'MSASIZE', 'RAIL', 'URBAN', 'URBANSIZE', 'URBRUR', 'GASPRICE', 'CENSUS_D', 'CENSUS_R', 'CDIVMSAR', 'HH_RACE', 'HH_HISP', 'HH_CBSA', 'SMPLSRCE', 'R_AGE', 'EDUC', 'R_SEX', 'PRMACT', 'PROXY', 'WORKER', 'DRIVER', 'WTTRDFIN', 'WHYTRP90', 'TRPMILAD', 'R_AGE_IMP', 'R_SEX_IMP', 'VEHTYPE', 'OBHUR', 'DBHUR', 'OTHTNRNT', 'OTPPOPDN', 'OTRESDN', 'OTEEMPDN', 'OBHTNRNT', 'OBPPOPDN', 'OBRESDN', 'DTHTNRNT', 'DTPPOPDN', 'DTRESDN', 'DTEEMPDN', 'DBHTNRNT', 'DBPPOPDN', 'DBRESDN', 'Departure time']\n"
     ]
    }
   ],
   "source": [
    "print(nhts_depart.columns.tolist())"
   ]
  },
  {
   "cell_type": "code",
   "execution_count": 114,
   "id": "c73e2cb4",
   "metadata": {},
   "outputs": [
    {
     "data": {
      "text/plain": [
       "array(['07:00', '12:00', '17:00', '15:00', '16:00', '13:00', '10:00',\n",
       "       '09:00', '06:00', '19:00', '14:00', '11:00', '08:00', '18:00',\n",
       "       '21:00', '23:00', '22:00', '05:00', '20:00'], dtype=object)"
      ]
     },
     "execution_count": 114,
     "metadata": {},
     "output_type": "execute_result"
    }
   ],
   "source": [
    "nhts_depart['Departure time'].unique()"
   ]
  },
  {
   "cell_type": "code",
   "execution_count": 115,
   "id": "cae28e62",
   "metadata": {},
   "outputs": [
    {
     "data": {
      "text/plain": [
       "146245"
      ]
     },
     "execution_count": 115,
     "metadata": {},
     "output_type": "execute_result"
    }
   ],
   "source": [
    "nhts_depart.shape[0] # 146245"
   ]
  },
  {
   "cell_type": "code",
   "execution_count": 121,
   "id": "9cdc8977",
   "metadata": {},
   "outputs": [],
   "source": [
    "nhts_depart_percent = nhts_depart.groupby('Departure time')[['WTTRDFIN']].sum()"
   ]
  },
  {
   "cell_type": "code",
   "execution_count": 2,
   "id": "a2439925",
   "metadata": {},
   "outputs": [],
   "source": [
    "nhts_depart_percent = nhts_depart_percent['WTTRDFIN'].transform(lambda x: x / x.sum() * 100)\n",
    "nhts_depart_percent = nhts_depart_percent.reset_index()\n",
    "#nhts_depart_percent"
   ]
  },
  {
   "cell_type": "code",
   "execution_count": 124,
   "id": "9e484a42",
   "metadata": {},
   "outputs": [],
   "source": [
    "#------------------------------------------ ActivitySim Departure Time ------------------------------------------"
   ]
  },
  {
   "cell_type": "code",
   "execution_count": 125,
   "id": "5197a1aa",
   "metadata": {},
   "outputs": [
    {
     "data": {
      "text/plain": [
       "array([ 6., 14., 15., 17., 10., 11., 20.,  7.,  8., 16., 18., 12., 13.,\n",
       "        9., 21.,  5., 19., 23., 22.])"
      ]
     },
     "execution_count": 125,
     "metadata": {},
     "output_type": "execute_result"
    }
   ],
   "source": [
    "actSim['depart'].unique()\n",
    "\n",
    "# array([13., 15.,  8., 18.,  7., 16., 17., 21., 19., 10.,  9., 12., 14.,\n",
    "#        20.,  6., 11., 22.,  5., 23.])"
   ]
  },
  {
   "cell_type": "code",
   "execution_count": 126,
   "id": "2c163901",
   "metadata": {},
   "outputs": [
    {
     "data": {
      "text/plain": [
       "5.0"
      ]
     },
     "execution_count": 126,
     "metadata": {},
     "output_type": "execute_result"
    }
   ],
   "source": [
    "actSim['depart'].min() # 5.0"
   ]
  },
  {
   "cell_type": "code",
   "execution_count": 127,
   "id": "7950edab",
   "metadata": {},
   "outputs": [
    {
     "data": {
      "text/plain": [
       "23.0"
      ]
     },
     "execution_count": 127,
     "metadata": {},
     "output_type": "execute_result"
    }
   ],
   "source": [
    "actSim['depart'].max() # 23.0"
   ]
  },
  {
   "cell_type": "code",
   "execution_count": 128,
   "id": "6f0c2643",
   "metadata": {},
   "outputs": [],
   "source": [
    "# Prepare departure time intervals for generation the plots\n",
    "# ActivitySim departure time intervals"
   ]
  },
  {
   "cell_type": "code",
   "execution_count": 129,
   "id": "e7759a3a",
   "metadata": {},
   "outputs": [
    {
     "data": {
      "text/plain": [
       "[5, 6, 7, 8, 9, 10, 11, 12, 13, 14, 15, 16, 17, 18, 19, 20, 21, 22, 23]"
      ]
     },
     "execution_count": 129,
     "metadata": {},
     "output_type": "execute_result"
    }
   ],
   "source": [
    "current_value_s = list(range(5,24))\n",
    "current_value_s"
   ]
  },
  {
   "cell_type": "code",
   "execution_count": 130,
   "id": "3cf42f33",
   "metadata": {},
   "outputs": [],
   "source": [
    "# new_value = ['5:00 - 5:59', '6:00 - 6:59', '7:00 - 7:59', '8:00 - 8:59', \n",
    "#                  '9:00 - 9:59', '10:00 - 10:59', '11:00 - 11:59', '12:00 - 12:59', \n",
    "#                  '13:00 - 13:59', '14:00 - 14:59', '3:00 pm - 3:59 pm', '4:00 pm - 4:59 pm', \n",
    "#                  '5:00 pm - 5:59 pm', '6:00 pm - 6:59 pm', '7:00 pm - 7:59 pm', '8:00 pm - 8:59 pm', \n",
    "#                  '9:00 pm - 9:59 pm', '10:00 pm - 10:59 pm', '11:00 pm - 11:59 pm']\n",
    "# new_value"
   ]
  },
  {
   "cell_type": "code",
   "execution_count": 131,
   "id": "698ff8ff",
   "metadata": {},
   "outputs": [],
   "source": [
    "# ActivitySim: create the 'Departure time' column for the plot\n",
    "for cur_hr, new_val in zip(current_value_s, new_value):\n",
    "    actSim.loc[actSim['depart'] == cur_hr, 'Departure time'] = new_val\n"
   ]
  },
  {
   "cell_type": "code",
   "execution_count": 132,
   "id": "8d238cd9",
   "metadata": {},
   "outputs": [
    {
     "data": {
      "text/plain": [
       "1007990"
      ]
     },
     "execution_count": 132,
     "metadata": {},
     "output_type": "execute_result"
    }
   ],
   "source": [
    "actSim.shape[0] # 1007990"
   ]
  },
  {
   "cell_type": "code",
   "execution_count": 133,
   "id": "afcc4cad",
   "metadata": {},
   "outputs": [
    {
     "name": "stdout",
     "output_type": "stream",
     "text": [
      "['trip_id', 'person_id', 'household_id', 'tour_id', 'primary_purpose', 'trip_num', 'outbound', 'trip_count', 'purpose', 'destination', 'origin', 'destination_logsum', 'depart', 'trip_mode', 'mode_choice_logsum', 'Departure time']\n"
     ]
    }
   ],
   "source": [
    "print(actSim.columns.tolist())\n",
    "# ['trip_id', 'person_id', 'household_id', 'tour_id', 'primary_purpose', 'trip_num', 'outbound', 'trip_count', \n",
    "# 'purpose', 'destination', 'origin', 'destination_logsum', 'depart', 'trip_mode', 'mode_choice_logsum', 'Mode', \n",
    "# 'Departure time']"
   ]
  },
  {
   "cell_type": "code",
   "execution_count": 134,
   "id": "225f8ed8",
   "metadata": {},
   "outputs": [
    {
     "data": {
      "text/plain": [
       "array(['06:00', '14:00', '15:00', '17:00', '10:00', '11:00', '20:00',\n",
       "       '07:00', '08:00', '16:00', '18:00', '12:00', '13:00', '09:00',\n",
       "       '21:00', '05:00', '19:00', '23:00', '22:00'], dtype=object)"
      ]
     },
     "execution_count": 134,
     "metadata": {},
     "output_type": "execute_result"
    }
   ],
   "source": [
    "actSim['Departure time'].unique()"
   ]
  },
  {
   "cell_type": "code",
   "execution_count": 135,
   "id": "e41e6899",
   "metadata": {},
   "outputs": [],
   "source": [
    "actSim_depart = distribution(actSim, 'Departure time', 'trip_id', 'ActivitySim percent of trips')"
   ]
  },
  {
   "cell_type": "code",
   "execution_count": 3,
   "id": "d6acb8b9",
   "metadata": {},
   "outputs": [],
   "source": [
    "#actSim_depart"
   ]
  },
  {
   "cell_type": "code",
   "execution_count": 137,
   "id": "a99e2777",
   "metadata": {},
   "outputs": [],
   "source": [
    "#-+-+-+-+-+-+-+-+-+-+-+-+-+-+-+-+-+-+-+ Generate the table for the plots -+-+-+-+-+-+-+-+-+-+-+-+-+-+-+-+-+-+-+c"
   ]
  },
  {
   "cell_type": "code",
   "execution_count": 4,
   "id": "b9767f7b",
   "metadata": {},
   "outputs": [],
   "source": [
    "merged_depart = merge_df(actSim_depart, nhts_depart_percent, 'Departure time')\n",
    "#merged_depart"
   ]
  },
  {
   "cell_type": "code",
   "execution_count": 140,
   "id": "4f60d879",
   "metadata": {},
   "outputs": [],
   "source": [
    "merged_depart.to_csv('Summary Table/trip_depart_distribution.csv')"
   ]
  },
  {
   "cell_type": "code",
   "execution_count": 141,
   "id": "119487b7",
   "metadata": {},
   "outputs": [
    {
     "name": "stdout",
     "output_type": "stream",
     "text": [
      "1007990\n",
      "147300\n"
     ]
    }
   ],
   "source": [
    "print(actSim.shape[0]) \n",
    "print(nhts.shape[0]) "
   ]
  },
  {
   "cell_type": "code",
   "execution_count": 142,
   "id": "f8e216df",
   "metadata": {},
   "outputs": [],
   "source": [
    "# LEGEND for the Plot\n",
    "ActSim_legend_deptime = 'ActivitySim (N = ' + str(actSim.shape[0]) + ' ' + 'trips)'\n",
    "nhts_legend_deptime = 'NHTS (N = ' + str(nhts_depart.shape[0]) + ' ' + 'trips)'\n",
    "legend_deptime = [ActSim_legend_deptime, nhts_legend_deptime]"
   ]
  },
  {
   "cell_type": "code",
   "execution_count": 143,
   "id": "49a10575",
   "metadata": {},
   "outputs": [
    {
     "data": {
      "image/png": "[encoded data removed]",
      "text/plain": [
       "<Figure size 1500x800 with 1 Axes>"
      ]
     },
     "metadata": {},
     "output_type": "display_data"
    }
   ],
   "source": [
    "plot_deptime = merged_depart.plot(x = 'Departure time', kind = 'line', figsize=(15,8))\n",
    "plot_deptime.legend(legend_deptime)\n",
    "plot_deptime.xaxis.set_label_coords(0.5, -0.22)\n",
    "plot_deptime.yaxis.set_label_coords(-0.05, 0.5)\n",
    "plt.ylabel('Percent of trips')\n",
    "df_plot.legend(legend_deptime)\n",
    "plt.xticks(ticks = np.arange(0, 19, step=1), labels = ['5:00 am - 5:59 am', '6:00 am - 6:59 am', '7:00 am - 7:59 am', '8:00 am - 8:59 am', \n",
    "                 '9:00 am - 9:59 am', '10:00 am - 10:59 am', '11:00 am - 11:59 am', '12:00 pm - 12:59 pm', \n",
    "                 '1:00 pm - 1:59 pm', '2:00 pm - 2:59 pm', '3:00 pm - 3:59 pm', '4:00 pm - 4:59 pm', \n",
    "                 '5:00 pm - 5:59 pm', '6:00 pm - 6:59 pm', '7:00 pm - 7:59 pm', '8:00 pm - 8:59 pm', \n",
    "                 '9:00 pm - 9:59 pm', '10:00 pm - 10:59 pm', '11:00 pm - 11:59 pm'], fontsize=8, rotation=90)\n",
    "plt.title('Departure Time Distribution (Weekdays)')\n",
    "plt.savefig('Plot/Dep_Time_Validation.png', bbox_inches='tight')"
   ]
  },
  {
   "cell_type": "code",
   "execution_count": 135,
   "id": "d772f14b",
   "metadata": {},
   "outputs": [],
   "source": [
    "#******************************************************************************************************************"
   ]
  },
  {
   "cell_type": "code",
   "execution_count": 136,
   "id": "cfc7f14e",
   "metadata": {},
   "outputs": [],
   "source": [
    "#================================================= TRIP PURPOSE ================================================="
   ]
  },
  {
   "cell_type": "code",
   "execution_count": 137,
   "id": "81e9cbe1",
   "metadata": {},
   "outputs": [],
   "source": [
    "#----------------------------------------------- NHTS  Trip Purpose -----------------------------------------------"
   ]
  },
  {
   "cell_type": "code",
   "execution_count": 144,
   "id": "6ce0bd2b",
   "metadata": {},
   "outputs": [],
   "source": [
    "# create a new column 'Purpose' based on values in column 'purpose'\n",
    "nhts.loc[ nhts['WHYTRP1S'] == 97, 'Purpose' ] = 'Other Discretionary' \n",
    "nhts.loc[ nhts['WHYTRP1S'] == 50, 'Purpose' ] = 'Social'\n",
    "nhts.loc[nhts['WHYTRP1S'] == 1, 'Purpose'] = 'Home'\n",
    "nhts.loc[nhts['WHYTRP1S'] == 40, 'Purpose'] = 'Shopping'\n",
    "nhts.loc[nhts['WHYTRP1S'] == 80, 'Purpose'] = 'Eat Out'\n",
    "nhts.loc[nhts['WHYTRP1S'] == 70, 'Purpose'] = 'Escort'\n",
    "nhts.loc[nhts['WHYTRP1S'] == 30, 'Purpose'] = 'Other Maintenance'\n",
    "nhts.loc[nhts['WHYTRP1S'] == 10, 'Purpose'] = 'Work'\n",
    "nhts.loc[nhts['WHYTRP1S'] == 20, 'Purpose'] = 'School/University'"
   ]
  },
  {
   "cell_type": "code",
   "execution_count": 145,
   "id": "1cbbaf76",
   "metadata": {},
   "outputs": [
    {
     "data": {
      "text/plain": [
       "array(['Work', 'Shopping', 'Home', 'Social', 'Eat Out', 'Escort',\n",
       "       'School/University', 'Other Maintenance', 'Other Discretionary'],\n",
       "      dtype=object)"
      ]
     },
     "execution_count": 145,
     "metadata": {},
     "output_type": "execute_result"
    }
   ],
   "source": [
    "nhts.Purpose.unique()"
   ]
  },
  {
   "cell_type": "code",
   "execution_count": 147,
   "id": "9248d65d",
   "metadata": {},
   "outputs": [],
   "source": [
    "nhts_purpose = nhts.groupby('Purpose')[['WTTRDFIN']].sum()"
   ]
  },
  {
   "cell_type": "code",
   "execution_count": 148,
   "id": "73095235",
   "metadata": {},
   "outputs": [
    {
     "data": {
      "text/html": [
       "<div>\n",
       "<style scoped>\n",
       "    .dataframe tbody tr th:only-of-type {\n",
       "        vertical-align: middle;\n",
       "    }\n",
       "\n",
       "    .dataframe tbody tr th {\n",
       "        vertical-align: top;\n",
       "    }\n",
       "\n",
       "    .dataframe thead th {\n",
       "        text-align: right;\n",
       "    }\n",
       "</style>\n",
       "<table border=\"1\" class=\"dataframe\">\n",
       "  <thead>\n",
       "    <tr style=\"text-align: right;\">\n",
       "      <th></th>\n",
       "      <th>WTTRDFIN</th>\n",
       "    </tr>\n",
       "    <tr>\n",
       "      <th>Purpose</th>\n",
       "      <th></th>\n",
       "    </tr>\n",
       "  </thead>\n",
       "  <tbody>\n",
       "    <tr>\n",
       "      <th>Eat Out</th>\n",
       "      <td>1.465311e+09</td>\n",
       "    </tr>\n",
       "    <tr>\n",
       "      <th>Escort</th>\n",
       "      <td>1.958923e+09</td>\n",
       "    </tr>\n",
       "    <tr>\n",
       "      <th>Home</th>\n",
       "      <td>7.354513e+09</td>\n",
       "    </tr>\n",
       "    <tr>\n",
       "      <th>Other Discretionary</th>\n",
       "      <td>4.126118e+08</td>\n",
       "    </tr>\n",
       "    <tr>\n",
       "      <th>Other Maintenance</th>\n",
       "      <td>3.906000e+08</td>\n",
       "    </tr>\n",
       "    <tr>\n",
       "      <th>School/University</th>\n",
       "      <td>1.524415e+09</td>\n",
       "    </tr>\n",
       "    <tr>\n",
       "      <th>Shopping</th>\n",
       "      <td>3.287727e+09</td>\n",
       "    </tr>\n",
       "    <tr>\n",
       "      <th>Social</th>\n",
       "      <td>1.664561e+09</td>\n",
       "    </tr>\n",
       "    <tr>\n",
       "      <th>Work</th>\n",
       "      <td>3.323616e+09</td>\n",
       "    </tr>\n",
       "  </tbody>\n",
       "</table>\n",
       "</div>"
      ],
      "text/plain": [
       "                         WTTRDFIN\n",
       "Purpose                          \n",
       "Eat Out              1.465311e+09\n",
       "Escort               1.958923e+09\n",
       "Home                 7.354513e+09\n",
       "Other Discretionary  4.126118e+08\n",
       "Other Maintenance    3.906000e+08\n",
       "School/University    1.524415e+09\n",
       "Shopping             3.287727e+09\n",
       "Social               1.664561e+09\n",
       "Work                 3.323616e+09"
      ]
     },
     "execution_count": 148,
     "metadata": {},
     "output_type": "execute_result"
    }
   ],
   "source": [
    "nhts_purpose"
   ]
  },
  {
   "cell_type": "code",
   "execution_count": 149,
   "id": "863d9ae8",
   "metadata": {},
   "outputs": [
    {
     "data": {
      "text/html": [
       "<div>\n",
       "<style scoped>\n",
       "    .dataframe tbody tr th:only-of-type {\n",
       "        vertical-align: middle;\n",
       "    }\n",
       "\n",
       "    .dataframe tbody tr th {\n",
       "        vertical-align: top;\n",
       "    }\n",
       "\n",
       "    .dataframe thead th {\n",
       "        text-align: right;\n",
       "    }\n",
       "</style>\n",
       "<table border=\"1\" class=\"dataframe\">\n",
       "  <thead>\n",
       "    <tr style=\"text-align: right;\">\n",
       "      <th></th>\n",
       "      <th>Purpose</th>\n",
       "      <th>WTTRDFIN</th>\n",
       "    </tr>\n",
       "  </thead>\n",
       "  <tbody>\n",
       "    <tr>\n",
       "      <th>0</th>\n",
       "      <td>Eat Out</td>\n",
       "      <td>6.852923</td>\n",
       "    </tr>\n",
       "    <tr>\n",
       "      <th>1</th>\n",
       "      <td>Escort</td>\n",
       "      <td>9.161432</td>\n",
       "    </tr>\n",
       "    <tr>\n",
       "      <th>2</th>\n",
       "      <td>Home</td>\n",
       "      <td>34.395366</td>\n",
       "    </tr>\n",
       "    <tr>\n",
       "      <th>3</th>\n",
       "      <td>Other Discretionary</td>\n",
       "      <td>1.929691</td>\n",
       "    </tr>\n",
       "    <tr>\n",
       "      <th>4</th>\n",
       "      <td>Other Maintenance</td>\n",
       "      <td>1.826747</td>\n",
       "    </tr>\n",
       "    <tr>\n",
       "      <th>5</th>\n",
       "      <td>School/University</td>\n",
       "      <td>7.129339</td>\n",
       "    </tr>\n",
       "    <tr>\n",
       "      <th>6</th>\n",
       "      <td>Shopping</td>\n",
       "      <td>15.375946</td>\n",
       "    </tr>\n",
       "    <tr>\n",
       "      <th>7</th>\n",
       "      <td>Social</td>\n",
       "      <td>7.784769</td>\n",
       "    </tr>\n",
       "    <tr>\n",
       "      <th>8</th>\n",
       "      <td>Work</td>\n",
       "      <td>15.543788</td>\n",
       "    </tr>\n",
       "  </tbody>\n",
       "</table>\n",
       "</div>"
      ],
      "text/plain": [
       "               Purpose   WTTRDFIN\n",
       "0              Eat Out   6.852923\n",
       "1               Escort   9.161432\n",
       "2                 Home  34.395366\n",
       "3  Other Discretionary   1.929691\n",
       "4    Other Maintenance   1.826747\n",
       "5    School/University   7.129339\n",
       "6             Shopping  15.375946\n",
       "7               Social   7.784769\n",
       "8                 Work  15.543788"
      ]
     },
     "execution_count": 149,
     "metadata": {},
     "output_type": "execute_result"
    }
   ],
   "source": [
    "nhts_purpose_percent = nhts_purpose['WTTRDFIN'].transform(lambda x: x / x.sum() * 100)\n",
    "nhts_purpose_percent = nhts_purpose_percent.reset_index()\n",
    "nhts_purpose_percent"
   ]
  },
  {
   "cell_type": "code",
   "execution_count": 150,
   "id": "c4126c79",
   "metadata": {},
   "outputs": [],
   "source": [
    "#------------------------------------------- ActivitySim Trip Purpose -------------------------------------------"
   ]
  },
  {
   "cell_type": "code",
   "execution_count": 151,
   "id": "4d67ae0f",
   "metadata": {},
   "outputs": [
    {
     "data": {
      "text/plain": [
       "array(['work', 'othmaint', 'Home', 'eatout', 'atwork', 'Work', 'othdiscr',\n",
       "       'escort', 'school', 'shopping', 'social', 'univ'], dtype=object)"
      ]
     },
     "execution_count": 151,
     "metadata": {},
     "output_type": "execute_result"
    }
   ],
   "source": [
    "actSim.purpose.unique()"
   ]
  },
  {
   "cell_type": "code",
   "execution_count": 152,
   "id": "19242e68",
   "metadata": {},
   "outputs": [],
   "source": [
    "# Create a new column 'Purpose' based on values in column 'purpose'\n",
    "conditions = [\n",
    "    actSim['purpose'].isin(['work','atwork', 'Work']),\n",
    "    actSim['purpose'].isin(['school', 'univ']),\n",
    "    actSim['purpose'] == 'othdiscr',\n",
    "    actSim['purpose'] == 'social',\n",
    "    actSim['purpose'] == 'Home',\n",
    "    actSim['purpose'] == 'shopping',\n",
    "    actSim['purpose'] == 'eatout',\n",
    "    actSim['purpose'] == 'escort',\n",
    "    actSim['purpose'] == 'othmaint'\n",
    "]\n",
    "\n",
    "values = ['Work', 'School/University', 'Other Discretionary', 'Social', \n",
    "          'Home', 'Shopping', 'Eat Out', 'Escort', 'Other Maintenance']\n",
    "actSim['Purpose'] = np.select(conditions, values)"
   ]
  },
  {
   "cell_type": "code",
   "execution_count": 153,
   "id": "f2714cc6",
   "metadata": {},
   "outputs": [
    {
     "data": {
      "text/plain": [
       "1007990"
      ]
     },
     "execution_count": 153,
     "metadata": {},
     "output_type": "execute_result"
    }
   ],
   "source": [
    "n_rows_actSim = actSim.shape[0]\n",
    "n_rows_actSim # "
   ]
  },
  {
   "cell_type": "code",
   "execution_count": 154,
   "id": "5dba86cb",
   "metadata": {},
   "outputs": [
    {
     "data": {
      "text/plain": [
       "<bound method NDFrame.head of                      trip_id\n",
       "Purpose                     \n",
       "Eat Out                47017\n",
       "Escort                 89827\n",
       "Home                  354895\n",
       "Other Discretionary    52583\n",
       "Other Maintenance      58163\n",
       "School/University      69635\n",
       "Shopping               93201\n",
       "Social                 24556\n",
       "Work                  218113>"
      ]
     },
     "execution_count": 154,
     "metadata": {},
     "output_type": "execute_result"
    }
   ],
   "source": [
    "actSim_purpose = actSim.groupby('Purpose')[['trip_id']].count()\n",
    "actSim_purpose.head"
   ]
  },
  {
   "cell_type": "code",
   "execution_count": 155,
   "id": "6f209145",
   "metadata": {},
   "outputs": [],
   "source": [
    "# actSim_purpose = actSim.groupby('Purpose')[['trip_id']].count()\n",
    "# actSim_purpose.columns = ['Trip purpose']\n",
    "# actSim_purpose = actSim_purpose.reset_index()\n",
    "actSim_purpose['ActivitySim'] = actSim_purpose['trip_id'].transform(lambda x: x / x.sum() * 100)\n",
    "actSim_purpose = actSim_purpose.reset_index()"
   ]
  },
  {
   "cell_type": "code",
   "execution_count": 156,
   "id": "2ba1fb0a",
   "metadata": {
    "scrolled": true
   },
   "outputs": [
    {
     "data": {
      "text/html": [
       "<div>\n",
       "<style scoped>\n",
       "    .dataframe tbody tr th:only-of-type {\n",
       "        vertical-align: middle;\n",
       "    }\n",
       "\n",
       "    .dataframe tbody tr th {\n",
       "        vertical-align: top;\n",
       "    }\n",
       "\n",
       "    .dataframe thead th {\n",
       "        text-align: right;\n",
       "    }\n",
       "</style>\n",
       "<table border=\"1\" class=\"dataframe\">\n",
       "  <thead>\n",
       "    <tr style=\"text-align: right;\">\n",
       "      <th></th>\n",
       "      <th>Purpose</th>\n",
       "      <th>trip_id</th>\n",
       "      <th>ActivitySim</th>\n",
       "    </tr>\n",
       "  </thead>\n",
       "  <tbody>\n",
       "    <tr>\n",
       "      <th>0</th>\n",
       "      <td>Eat Out</td>\n",
       "      <td>47017</td>\n",
       "      <td>4.664431</td>\n",
       "    </tr>\n",
       "    <tr>\n",
       "      <th>1</th>\n",
       "      <td>Escort</td>\n",
       "      <td>89827</td>\n",
       "      <td>8.911497</td>\n",
       "    </tr>\n",
       "    <tr>\n",
       "      <th>2</th>\n",
       "      <td>Home</td>\n",
       "      <td>354895</td>\n",
       "      <td>35.208187</td>\n",
       "    </tr>\n",
       "    <tr>\n",
       "      <th>3</th>\n",
       "      <td>Other Discretionary</td>\n",
       "      <td>52583</td>\n",
       "      <td>5.216619</td>\n",
       "    </tr>\n",
       "    <tr>\n",
       "      <th>4</th>\n",
       "      <td>Other Maintenance</td>\n",
       "      <td>58163</td>\n",
       "      <td>5.770196</td>\n",
       "    </tr>\n",
       "    <tr>\n",
       "      <th>5</th>\n",
       "      <td>School/University</td>\n",
       "      <td>69635</td>\n",
       "      <td>6.908303</td>\n",
       "    </tr>\n",
       "    <tr>\n",
       "      <th>6</th>\n",
       "      <td>Shopping</td>\n",
       "      <td>93201</td>\n",
       "      <td>9.246223</td>\n",
       "    </tr>\n",
       "    <tr>\n",
       "      <th>7</th>\n",
       "      <td>Social</td>\n",
       "      <td>24556</td>\n",
       "      <td>2.436135</td>\n",
       "    </tr>\n",
       "    <tr>\n",
       "      <th>8</th>\n",
       "      <td>Work</td>\n",
       "      <td>218113</td>\n",
       "      <td>21.638409</td>\n",
       "    </tr>\n",
       "  </tbody>\n",
       "</table>\n",
       "</div>"
      ],
      "text/plain": [
       "               Purpose  trip_id  ActivitySim\n",
       "0              Eat Out    47017     4.664431\n",
       "1               Escort    89827     8.911497\n",
       "2                 Home   354895    35.208187\n",
       "3  Other Discretionary    52583     5.216619\n",
       "4    Other Maintenance    58163     5.770196\n",
       "5    School/University    69635     6.908303\n",
       "6             Shopping    93201     9.246223\n",
       "7               Social    24556     2.436135\n",
       "8                 Work   218113    21.638409"
      ]
     },
     "execution_count": 156,
     "metadata": {},
     "output_type": "execute_result"
    }
   ],
   "source": [
    "actSim_purpose"
   ]
  },
  {
   "cell_type": "code",
   "execution_count": 157,
   "id": "ee18ca93",
   "metadata": {
    "scrolled": true
   },
   "outputs": [
    {
     "data": {
      "text/html": [
       "<div>\n",
       "<style scoped>\n",
       "    .dataframe tbody tr th:only-of-type {\n",
       "        vertical-align: middle;\n",
       "    }\n",
       "\n",
       "    .dataframe tbody tr th {\n",
       "        vertical-align: top;\n",
       "    }\n",
       "\n",
       "    .dataframe thead th {\n",
       "        text-align: right;\n",
       "    }\n",
       "</style>\n",
       "<table border=\"1\" class=\"dataframe\">\n",
       "  <thead>\n",
       "    <tr style=\"text-align: right;\">\n",
       "      <th></th>\n",
       "      <th>Purpose</th>\n",
       "      <th>ActivitySim</th>\n",
       "    </tr>\n",
       "  </thead>\n",
       "  <tbody>\n",
       "    <tr>\n",
       "      <th>0</th>\n",
       "      <td>Eat Out</td>\n",
       "      <td>4.664431</td>\n",
       "    </tr>\n",
       "    <tr>\n",
       "      <th>1</th>\n",
       "      <td>Escort</td>\n",
       "      <td>8.911497</td>\n",
       "    </tr>\n",
       "    <tr>\n",
       "      <th>2</th>\n",
       "      <td>Home</td>\n",
       "      <td>35.208187</td>\n",
       "    </tr>\n",
       "    <tr>\n",
       "      <th>3</th>\n",
       "      <td>Other Discretionary</td>\n",
       "      <td>5.216619</td>\n",
       "    </tr>\n",
       "    <tr>\n",
       "      <th>4</th>\n",
       "      <td>Other Maintenance</td>\n",
       "      <td>5.770196</td>\n",
       "    </tr>\n",
       "    <tr>\n",
       "      <th>5</th>\n",
       "      <td>School/University</td>\n",
       "      <td>6.908303</td>\n",
       "    </tr>\n",
       "    <tr>\n",
       "      <th>6</th>\n",
       "      <td>Shopping</td>\n",
       "      <td>9.246223</td>\n",
       "    </tr>\n",
       "    <tr>\n",
       "      <th>7</th>\n",
       "      <td>Social</td>\n",
       "      <td>2.436135</td>\n",
       "    </tr>\n",
       "    <tr>\n",
       "      <th>8</th>\n",
       "      <td>Work</td>\n",
       "      <td>21.638409</td>\n",
       "    </tr>\n",
       "  </tbody>\n",
       "</table>\n",
       "</div>"
      ],
      "text/plain": [
       "               Purpose  ActivitySim\n",
       "0              Eat Out     4.664431\n",
       "1               Escort     8.911497\n",
       "2                 Home    35.208187\n",
       "3  Other Discretionary     5.216619\n",
       "4    Other Maintenance     5.770196\n",
       "5    School/University     6.908303\n",
       "6             Shopping     9.246223\n",
       "7               Social     2.436135\n",
       "8                 Work    21.638409"
      ]
     },
     "execution_count": 157,
     "metadata": {},
     "output_type": "execute_result"
    }
   ],
   "source": [
    "actSim_purpose = actSim_purpose[['Purpose', 'ActivitySim']]\n",
    "actSim_purpose"
   ]
  },
  {
   "cell_type": "code",
   "execution_count": 164,
   "id": "f61701f8",
   "metadata": {},
   "outputs": [],
   "source": [
    "#-+-+-+-+-+-+-+-+-+-+-+-+-+-+-+-+-+-+-+ Generate the table for the plots -+-+-+-+-+-+-+-+-+-+-+-+-+-+-+-+-+-+-+c"
   ]
  },
  {
   "cell_type": "code",
   "execution_count": 158,
   "id": "606ec372",
   "metadata": {},
   "outputs": [],
   "source": [
    "trip_purp_validation = pd.merge(actSim_purpose,\n",
    "                                          nhts_purpose_percent,\n",
    "                                          on = 'Purpose', how = 'left')"
   ]
  },
  {
   "cell_type": "code",
   "execution_count": 159,
   "id": "7f934533",
   "metadata": {},
   "outputs": [
    {
     "data": {
      "text/html": [
       "<div>\n",
       "<style scoped>\n",
       "    .dataframe tbody tr th:only-of-type {\n",
       "        vertical-align: middle;\n",
       "    }\n",
       "\n",
       "    .dataframe tbody tr th {\n",
       "        vertical-align: top;\n",
       "    }\n",
       "\n",
       "    .dataframe thead th {\n",
       "        text-align: right;\n",
       "    }\n",
       "</style>\n",
       "<table border=\"1\" class=\"dataframe\">\n",
       "  <thead>\n",
       "    <tr style=\"text-align: right;\">\n",
       "      <th></th>\n",
       "      <th>Purpose</th>\n",
       "      <th>ActivitySim</th>\n",
       "      <th>WTTRDFIN</th>\n",
       "    </tr>\n",
       "  </thead>\n",
       "  <tbody>\n",
       "    <tr>\n",
       "      <th>0</th>\n",
       "      <td>Eat Out</td>\n",
       "      <td>4.664431</td>\n",
       "      <td>6.852923</td>\n",
       "    </tr>\n",
       "    <tr>\n",
       "      <th>1</th>\n",
       "      <td>Escort</td>\n",
       "      <td>8.911497</td>\n",
       "      <td>9.161432</td>\n",
       "    </tr>\n",
       "    <tr>\n",
       "      <th>2</th>\n",
       "      <td>Home</td>\n",
       "      <td>35.208187</td>\n",
       "      <td>34.395366</td>\n",
       "    </tr>\n",
       "    <tr>\n",
       "      <th>3</th>\n",
       "      <td>Other Discretionary</td>\n",
       "      <td>5.216619</td>\n",
       "      <td>1.929691</td>\n",
       "    </tr>\n",
       "    <tr>\n",
       "      <th>4</th>\n",
       "      <td>Other Maintenance</td>\n",
       "      <td>5.770196</td>\n",
       "      <td>1.826747</td>\n",
       "    </tr>\n",
       "    <tr>\n",
       "      <th>5</th>\n",
       "      <td>School/University</td>\n",
       "      <td>6.908303</td>\n",
       "      <td>7.129339</td>\n",
       "    </tr>\n",
       "    <tr>\n",
       "      <th>6</th>\n",
       "      <td>Shopping</td>\n",
       "      <td>9.246223</td>\n",
       "      <td>15.375946</td>\n",
       "    </tr>\n",
       "    <tr>\n",
       "      <th>7</th>\n",
       "      <td>Social</td>\n",
       "      <td>2.436135</td>\n",
       "      <td>7.784769</td>\n",
       "    </tr>\n",
       "    <tr>\n",
       "      <th>8</th>\n",
       "      <td>Work</td>\n",
       "      <td>21.638409</td>\n",
       "      <td>15.543788</td>\n",
       "    </tr>\n",
       "  </tbody>\n",
       "</table>\n",
       "</div>"
      ],
      "text/plain": [
       "               Purpose  ActivitySim   WTTRDFIN\n",
       "0              Eat Out     4.664431   6.852923\n",
       "1               Escort     8.911497   9.161432\n",
       "2                 Home    35.208187  34.395366\n",
       "3  Other Discretionary     5.216619   1.929691\n",
       "4    Other Maintenance     5.770196   1.826747\n",
       "5    School/University     6.908303   7.129339\n",
       "6             Shopping     9.246223  15.375946\n",
       "7               Social     2.436135   7.784769\n",
       "8                 Work    21.638409  15.543788"
      ]
     },
     "execution_count": 159,
     "metadata": {},
     "output_type": "execute_result"
    }
   ],
   "source": [
    "trip_purp_validation"
   ]
  },
  {
   "cell_type": "code",
   "execution_count": 160,
   "id": "79a902c4",
   "metadata": {},
   "outputs": [],
   "source": [
    "trip_purp_validation.to_csv('Summary Table/trip_purp_distribution.csv')"
   ]
  },
  {
   "cell_type": "code",
   "execution_count": 161,
   "id": "38f93db5",
   "metadata": {},
   "outputs": [],
   "source": [
    "# LEGEND for the plot\n",
    "ActSim_legend_purp = 'ActivitySim (N = ' + str(actSim.shape[0]) + ' ' + 'trips)'\n",
    "nhts_legend_purp = 'NHTS (N = ' + str(nhts.shape[0]) + ' ' + 'trips)'\n",
    "legend_purp = [ActSim_legend_purp, nhts_legend_purp]"
   ]
  },
  {
   "cell_type": "code",
   "execution_count": 162,
   "id": "6fbb09b4",
   "metadata": {},
   "outputs": [
    {
     "data": {
      "image/png": "[encoded data removed]",
      "text/plain": [
       "<Figure size 1500x800 with 1 Axes>"
      ]
     },
     "metadata": {},
     "output_type": "display_data"
    }
   ],
   "source": [
    "# Plot\n",
    "df = trip_purp_validation\n",
    "df_plot = df.plot('Purpose', kind = 'bar', figsize=(15,8)) # , figsize=(15,4) , width=1\n",
    "for p in df_plot.containers:\n",
    "    df_plot.bar_label(p, fmt='%.1f%%', label_type='edge', fontsize = 9)\n",
    "    df_plot.xaxis.set_label_coords(0.5, -0.2)\n",
    "    df_plot.yaxis.set_label_coords(-0.05, 0.5)\n",
    "    df_plot.legend(legend_purp)\n",
    "plt.xlabel('Trip Purpose', fontsize = 15)\n",
    "plt.ylabel('Percent of trips', fontsize = 15)\n",
    "plt.xticks(rotation = 25)\n",
    "plt.title('Trip Purpose Distribution (Weekdays)')\n",
    "plt.savefig('Plot/Trip_Purp_Validation.png', dpi = 200, bbox_inches = 'tight') # plt.savefig(plotname, dpi = 200, bbox_inches = 'tight')\n",
    "plt.show()"
   ]
  },
  {
   "cell_type": "code",
   "execution_count": null,
   "id": "0c8b856b",
   "metadata": {},
   "outputs": [],
   "source": []
  }
 ],
 "metadata": {
  "kernelspec": {
   "display_name": "Python 3 (ipykernel)",
   "language": "python",
   "name": "python3"
  },
  "language_info": {
   "codemirror_mode": {
    "name": "ipython",
    "version": 3
   },
   "file_extension": ".py",
   "mimetype": "text/x-python",
   "name": "python",
   "nbconvert_exporter": "python",
   "pygments_lexer": "ipython3",
   "version": "3.11.6"
  }
 },
 "nbformat": 4,
 "nbformat_minor": 5
}
